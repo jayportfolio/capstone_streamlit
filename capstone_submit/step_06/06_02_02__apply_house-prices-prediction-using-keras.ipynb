{
 "cells": [
  {
   "cell_type": "markdown",
   "metadata": {},
   "source": [
    "from https://www.kaggle.com/code/hugosjoberg/house-prices-prediction-using-keras"
   ]
  },
  {
   "cell_type": "code",
   "execution_count": 1,
   "metadata": {
    "_cell_guid": "b1076dfc-b9ad-4769-8c92-a6c4dae69d19",
    "_uuid": "8f2839f25d086af736a60e9eeb907d3b93b6e0e5",
    "execution": {
     "iopub.execute_input": "2022-11-28T15:49:29.692845Z",
     "iopub.status.busy": "2022-11-28T15:49:29.692191Z",
     "iopub.status.idle": "2022-11-28T15:49:35.129938Z",
     "shell.execute_reply": "2022-11-28T15:49:35.128673Z",
     "shell.execute_reply.started": "2022-11-28T15:49:29.692727Z"
    }
   },
   "outputs": [],
   "source": [
    "import numpy as np # linear algebra\n",
    "import pandas as pd # data processing, CSV file I/O (e.g. pd.read_csv)\n",
    "from sklearn.preprocessing import StandardScaler # Used for scaling of data\n",
    "from sklearn.model_selection import train_test_split\n",
    "from keras.models import Sequential\n",
    "from keras.layers import Dense, Dropout\n",
    "from keras import metrics\n",
    "import seaborn as sns\n",
    "import matplotlib.pyplot as plt\n",
    "from keras import backend as K\n",
    "from keras.wrappers.scikit_learn import KerasRegressor"
   ]
  },
  {
   "cell_type": "code",
   "execution_count": 2,
   "metadata": {
    "collapsed": false,
    "execution": {
     "iopub.execute_input": "2022-11-28T15:49:35.132851Z",
     "iopub.status.busy": "2022-11-28T15:49:35.132082Z",
     "iopub.status.idle": "2022-11-28T15:49:35.140034Z",
     "shell.execute_reply": "2022-11-28T15:49:35.138258Z",
     "shell.execute_reply.started": "2022-11-28T15:49:35.132811Z"
    },
    "jupyter": {
     "outputs_hidden": false
    }
   },
   "outputs": [],
   "source": [
    "show_graphs = False"
   ]
  },
  {
   "cell_type": "code",
   "execution_count": 3,
   "metadata": {
    "_cell_guid": "79c7e3d0-c299-4dcb-8224-4455121ee9b0",
    "_uuid": "d629ff2d2480ee46fbb7e2d37f6b5fab8052498a",
    "execution": {
     "iopub.execute_input": "2022-11-28T15:49:35.142783Z",
     "iopub.status.busy": "2022-11-28T15:49:35.142335Z",
     "iopub.status.idle": "2022-11-28T15:49:35.255394Z",
     "shell.execute_reply": "2022-11-28T15:49:35.254016Z",
     "shell.execute_reply.started": "2022-11-28T15:49:35.142741Z"
    }
   },
   "outputs": [],
   "source": [
    "# Read in train data\n",
    "try:\n",
    "    df_listings = pd.read_csv('untidy_df_listings_v06.csv', index_col=0)\n",
    "except:\n",
    "    !wget https://raw.githubusercontent.com/jayportfolio/capstone_streamlit/main/data/final/untidy_df_listings_v06.csv\n",
    "    df_listings = pd.read_csv('untidy_df_listings_v06.csv', index_col=0)"
   ]
  },
  {
   "cell_type": "code",
   "execution_count": null,
   "metadata": {},
   "outputs": [],
   "source": []
  },
  {
   "cell_type": "code",
   "execution_count": 4,
   "metadata": {
    "_uuid": "cb0db41d4fc18a4992301ae08bf61fad4f489f56",
    "execution": {
     "iopub.execute_input": "2022-11-28T15:49:35.258258Z",
     "iopub.status.busy": "2022-11-28T15:49:35.257752Z",
     "iopub.status.idle": "2022-11-28T15:49:35.296686Z",
     "shell.execute_reply": "2022-11-28T15:49:35.295177Z",
     "shell.execute_reply.started": "2022-11-28T15:49:35.258183Z"
    },
    "scrolled": true
   },
   "outputs": [
    {
     "data": {
      "text/html": [
       "<div>\n",
       "<style scoped>\n",
       "    .dataframe tbody tr th:only-of-type {\n",
       "        vertical-align: middle;\n",
       "    }\n",
       "\n",
       "    .dataframe tbody tr th {\n",
       "        vertical-align: top;\n",
       "    }\n",
       "\n",
       "    .dataframe thead th {\n",
       "        text-align: right;\n",
       "    }\n",
       "</style>\n",
       "<table border=\"1\" class=\"dataframe\">\n",
       "  <thead>\n",
       "    <tr style=\"text-align: right;\">\n",
       "      <th></th>\n",
       "      <th>Price</th>\n",
       "      <th>bedrooms</th>\n",
       "      <th>bathrooms</th>\n",
       "      <th>nearestStation</th>\n",
       "      <th>location.latitude</th>\n",
       "      <th>location.longitude</th>\n",
       "      <th>latitude_deviation</th>\n",
       "      <th>longitude_deviation</th>\n",
       "      <th>tenure.tenureType</th>\n",
       "    </tr>\n",
       "  </thead>\n",
       "  <tbody>\n",
       "    <tr>\n",
       "      <th>14520525</th>\n",
       "      <td>550000.0</td>\n",
       "      <td>3.0</td>\n",
       "      <td>1.0</td>\n",
       "      <td>0.274316</td>\n",
       "      <td>51.529950</td>\n",
       "      <td>-0.207020</td>\n",
       "      <td>0.030472</td>\n",
       "      <td>0.101800</td>\n",
       "      <td>LEASEHOLD</td>\n",
       "    </tr>\n",
       "    <tr>\n",
       "      <th>27953107</th>\n",
       "      <td>400000.0</td>\n",
       "      <td>2.0</td>\n",
       "      <td>2.0</td>\n",
       "      <td>0.305845</td>\n",
       "      <td>51.549390</td>\n",
       "      <td>-0.482600</td>\n",
       "      <td>0.049912</td>\n",
       "      <td>0.377380</td>\n",
       "      <td>LEASEHOLD</td>\n",
       "    </tr>\n",
       "    <tr>\n",
       "      <th>33593487</th>\n",
       "      <td>579950.0</td>\n",
       "      <td>2.0</td>\n",
       "      <td>1.0</td>\n",
       "      <td>0.438045</td>\n",
       "      <td>51.447180</td>\n",
       "      <td>-0.338770</td>\n",
       "      <td>0.052298</td>\n",
       "      <td>0.233550</td>\n",
       "      <td>FREEHOLD</td>\n",
       "    </tr>\n",
       "    <tr>\n",
       "      <th>35271294</th>\n",
       "      <td>370000.0</td>\n",
       "      <td>2.0</td>\n",
       "      <td>1.0</td>\n",
       "      <td>0.399307</td>\n",
       "      <td>51.449568</td>\n",
       "      <td>-0.140154</td>\n",
       "      <td>0.049910</td>\n",
       "      <td>0.034934</td>\n",
       "      <td>LEASEHOLD</td>\n",
       "    </tr>\n",
       "    <tr>\n",
       "      <th>35429088</th>\n",
       "      <td>599950.0</td>\n",
       "      <td>2.0</td>\n",
       "      <td>1.0</td>\n",
       "      <td>0.238187</td>\n",
       "      <td>51.577030</td>\n",
       "      <td>-0.141230</td>\n",
       "      <td>0.077552</td>\n",
       "      <td>0.036010</td>\n",
       "      <td>NaN</td>\n",
       "    </tr>\n",
       "  </tbody>\n",
       "</table>\n",
       "</div>"
      ],
      "text/plain": [
       "             Price  bedrooms  bathrooms  nearestStation  location.latitude  \\\n",
       "14520525  550000.0       3.0        1.0        0.274316          51.529950   \n",
       "27953107  400000.0       2.0        2.0        0.305845          51.549390   \n",
       "33593487  579950.0       2.0        1.0        0.438045          51.447180   \n",
       "35271294  370000.0       2.0        1.0        0.399307          51.449568   \n",
       "35429088  599950.0       2.0        1.0        0.238187          51.577030   \n",
       "\n",
       "          location.longitude  latitude_deviation  longitude_deviation  \\\n",
       "14520525           -0.207020            0.030472             0.101800   \n",
       "27953107           -0.482600            0.049912             0.377380   \n",
       "33593487           -0.338770            0.052298             0.233550   \n",
       "35271294           -0.140154            0.049910             0.034934   \n",
       "35429088           -0.141230            0.077552             0.036010   \n",
       "\n",
       "         tenure.tenureType  \n",
       "14520525         LEASEHOLD  \n",
       "27953107         LEASEHOLD  \n",
       "33593487          FREEHOLD  \n",
       "35271294         LEASEHOLD  \n",
       "35429088               NaN  "
      ]
     },
     "execution_count": 4,
     "metadata": {},
     "output_type": "execute_result"
    }
   ],
   "source": [
    "df_listings.head()"
   ]
  },
  {
   "cell_type": "markdown",
   "metadata": {
    "_uuid": "f073ac12db41eb616c7d3116537783d890286afd"
   },
   "source": [
    "# Prepare data\n",
    "    Investigate what data that has a linear or some kind of relation to the sale price\n",
    "    Drop the unimportant features or less unimportant features\n",
    "    Drop features which has many NaN values"
   ]
  },
  {
   "cell_type": "code",
   "execution_count": 5,
   "metadata": {
    "_uuid": "f41e1f2f85b2beda54623e15555c4aebca349522",
    "execution": {
     "iopub.execute_input": "2022-11-28T15:49:35.298798Z",
     "iopub.status.busy": "2022-11-28T15:49:35.298339Z",
     "iopub.status.idle": "2022-11-28T15:49:35.316754Z",
     "shell.execute_reply": "2022-11-28T15:49:35.315355Z",
     "shell.execute_reply.started": "2022-11-28T15:49:35.298760Z"
    }
   },
   "outputs": [
    {
     "data": {
      "text/plain": [
       "count     54067.000000\n",
       "mean     416448.380528\n",
       "std      113505.624206\n",
       "min      100000.000000\n",
       "25%      325000.000000\n",
       "50%      425000.000000\n",
       "75%      500000.000000\n",
       "max      600000.000000\n",
       "Name: Price, dtype: float64"
      ]
     },
     "execution_count": 5,
     "metadata": {},
     "output_type": "execute_result"
    }
   ],
   "source": [
    "#descriptive statistics summary\n",
    "df_listings['Price'].describe()"
   ]
  },
  {
   "cell_type": "code",
   "execution_count": 6,
   "metadata": {
    "_uuid": "4d96bb824f0a8b9994a9c312e0032e7fddb2c964",
    "execution": {
     "iopub.execute_input": "2022-11-28T15:49:35.318795Z",
     "iopub.status.busy": "2022-11-28T15:49:35.318328Z",
     "iopub.status.idle": "2022-11-28T15:49:35.332259Z",
     "shell.execute_reply": "2022-11-28T15:49:35.330009Z",
     "shell.execute_reply.started": "2022-11-28T15:49:35.318756Z"
    }
   },
   "outputs": [
    {
     "name": "stdout",
     "output_type": "stream",
     "text": [
      "Skewness: -0.220900\n",
      "Kurtosis: -0.724044\n"
     ]
    }
   ],
   "source": [
    "#skewness and kurtosis\n",
    "print(\"Skewness: %f\" % df_listings['Price'].skew())\n",
    "print(\"Kurtosis: %f\" % df_listings['Price'].kurt())"
   ]
  },
  {
   "cell_type": "markdown",
   "metadata": {
    "_uuid": "3e04a673e79b42e251535b523cf4fdd375c948e4"
   },
   "source": [
    "    - Skewness means the top of the iceberg is not in the middle but rather towards left or right.\n",
    "    - Kurtosis describe if the gaussian distrubution is very small and narrow or very wide"
   ]
  },
  {
   "cell_type": "markdown",
   "metadata": {
    "_uuid": "394c7fab3b8a90176635ef240466257c45b0b549"
   },
   "source": [
    "Let's have a  look at the missing data.\n",
    "\n",
    "Let's display a % of the data that is missing from some columns."
   ]
  },
  {
   "cell_type": "code",
   "execution_count": 7,
   "metadata": {
    "_uuid": "a5f4b941925a23b99e781dc5ce921aa789cbc9a7",
    "execution": {
     "iopub.execute_input": "2022-11-28T15:49:35.334526Z",
     "iopub.status.busy": "2022-11-28T15:49:35.334134Z",
     "iopub.status.idle": "2022-11-28T15:49:35.408816Z",
     "shell.execute_reply": "2022-11-28T15:49:35.406815Z",
     "shell.execute_reply.started": "2022-11-28T15:49:35.334492Z"
    }
   },
   "outputs": [
    {
     "data": {
      "text/html": [
       "<div>\n",
       "<style scoped>\n",
       "    .dataframe tbody tr th:only-of-type {\n",
       "        vertical-align: middle;\n",
       "    }\n",
       "\n",
       "    .dataframe tbody tr th {\n",
       "        vertical-align: top;\n",
       "    }\n",
       "\n",
       "    .dataframe thead th {\n",
       "        text-align: right;\n",
       "    }\n",
       "</style>\n",
       "<table border=\"1\" class=\"dataframe\">\n",
       "  <thead>\n",
       "    <tr style=\"text-align: right;\">\n",
       "      <th></th>\n",
       "      <th>Total</th>\n",
       "      <th>Percent</th>\n",
       "    </tr>\n",
       "  </thead>\n",
       "  <tbody>\n",
       "    <tr>\n",
       "      <th>tenure.tenureType</th>\n",
       "      <td>3654</td>\n",
       "      <td>0.067583</td>\n",
       "    </tr>\n",
       "    <tr>\n",
       "      <th>bathrooms</th>\n",
       "      <td>3498</td>\n",
       "      <td>0.064698</td>\n",
       "    </tr>\n",
       "    <tr>\n",
       "      <th>bedrooms</th>\n",
       "      <td>1802</td>\n",
       "      <td>0.033329</td>\n",
       "    </tr>\n",
       "    <tr>\n",
       "      <th>location.latitude</th>\n",
       "      <td>10</td>\n",
       "      <td>0.000185</td>\n",
       "    </tr>\n",
       "    <tr>\n",
       "      <th>latitude_deviation</th>\n",
       "      <td>10</td>\n",
       "      <td>0.000185</td>\n",
       "    </tr>\n",
       "    <tr>\n",
       "      <th>Price</th>\n",
       "      <td>0</td>\n",
       "      <td>0.000000</td>\n",
       "    </tr>\n",
       "    <tr>\n",
       "      <th>nearestStation</th>\n",
       "      <td>0</td>\n",
       "      <td>0.000000</td>\n",
       "    </tr>\n",
       "    <tr>\n",
       "      <th>location.longitude</th>\n",
       "      <td>0</td>\n",
       "      <td>0.000000</td>\n",
       "    </tr>\n",
       "    <tr>\n",
       "      <th>longitude_deviation</th>\n",
       "      <td>0</td>\n",
       "      <td>0.000000</td>\n",
       "    </tr>\n",
       "  </tbody>\n",
       "</table>\n",
       "</div>"
      ],
      "text/plain": [
       "                     Total   Percent\n",
       "tenure.tenureType     3654  0.067583\n",
       "bathrooms             3498  0.064698\n",
       "bedrooms              1802  0.033329\n",
       "location.latitude       10  0.000185\n",
       "latitude_deviation      10  0.000185\n",
       "Price                    0  0.000000\n",
       "nearestStation           0  0.000000\n",
       "location.longitude       0  0.000000\n",
       "longitude_deviation      0  0.000000"
      ]
     },
     "execution_count": 7,
     "metadata": {},
     "output_type": "execute_result"
    }
   ],
   "source": [
    "#missing data\n",
    "total = df_listings.isnull().sum().sort_values(ascending=False)\n",
    "percent = (df_listings.isnull().sum()/df_listings.isnull().count()).sort_values(ascending=False)\n",
    "missing_data = pd.concat([total, percent], axis=1, keys=['Total', 'Percent'])\n",
    "missing_data.head(20)"
   ]
  },
  {
   "cell_type": "markdown",
   "metadata": {
    "_uuid": "e81bfe548fff5b1a48f1591d25a84f55e6b8b830"
   },
   "source": [
    "Some of theese features are of interest for us and they don't show a massive shortage of data so lets create mean data for those values."
   ]
  },
  {
   "cell_type": "code",
   "execution_count": 8,
   "metadata": {
    "_uuid": "a16226a47ed6d2fec9a6e69d8f7d982e4589e1e1",
    "execution": {
     "iopub.execute_input": "2022-11-28T15:49:35.411416Z",
     "iopub.status.busy": "2022-11-28T15:49:35.410896Z",
     "iopub.status.idle": "2022-11-28T15:49:35.506669Z",
     "shell.execute_reply": "2022-11-28T15:49:35.505313Z",
     "shell.execute_reply.started": "2022-11-28T15:49:35.411377Z"
    }
   },
   "outputs": [
    {
     "name": "stderr",
     "output_type": "stream",
     "text": [
      "/tmp/ipykernel_3750/1866876534.py:1: FutureWarning: Dropping of nuisance columns in DataFrame reductions (with 'numeric_only=None') is deprecated; in a future version this will raise TypeError.  Select only valid columns before calling the reduction.\n",
      "  df_listings = df_listings.fillna(df_listings.mean())\n"
     ]
    },
    {
     "data": {
      "text/html": [
       "<div>\n",
       "<style scoped>\n",
       "    .dataframe tbody tr th:only-of-type {\n",
       "        vertical-align: middle;\n",
       "    }\n",
       "\n",
       "    .dataframe tbody tr th {\n",
       "        vertical-align: top;\n",
       "    }\n",
       "\n",
       "    .dataframe thead th {\n",
       "        text-align: right;\n",
       "    }\n",
       "</style>\n",
       "<table border=\"1\" class=\"dataframe\">\n",
       "  <thead>\n",
       "    <tr style=\"text-align: right;\">\n",
       "      <th></th>\n",
       "      <th>Price</th>\n",
       "      <th>bedrooms</th>\n",
       "      <th>bathrooms</th>\n",
       "      <th>nearestStation</th>\n",
       "      <th>location.latitude</th>\n",
       "      <th>location.longitude</th>\n",
       "      <th>latitude_deviation</th>\n",
       "      <th>longitude_deviation</th>\n",
       "    </tr>\n",
       "  </thead>\n",
       "  <tbody>\n",
       "    <tr>\n",
       "      <th>count</th>\n",
       "      <td>54067.000000</td>\n",
       "      <td>54067.000000</td>\n",
       "      <td>54067.000000</td>\n",
       "      <td>54067.000000</td>\n",
       "      <td>54067.000000</td>\n",
       "      <td>54067.000000</td>\n",
       "      <td>54067.000000</td>\n",
       "      <td>54067.000000</td>\n",
       "    </tr>\n",
       "    <tr>\n",
       "      <th>mean</th>\n",
       "      <td>416448.380528</td>\n",
       "      <td>11.360145</td>\n",
       "      <td>1.181534</td>\n",
       "      <td>0.442075</td>\n",
       "      <td>51.496130</td>\n",
       "      <td>-0.106239</td>\n",
       "      <td>0.063545</td>\n",
       "      <td>0.133758</td>\n",
       "    </tr>\n",
       "    <tr>\n",
       "      <th>std</th>\n",
       "      <td>113505.624206</td>\n",
       "      <td>2107.308303</td>\n",
       "      <td>0.399652</td>\n",
       "      <td>1.049040</td>\n",
       "      <td>0.076643</td>\n",
       "      <td>0.718769</td>\n",
       "      <td>0.042990</td>\n",
       "      <td>0.706214</td>\n",
       "    </tr>\n",
       "    <tr>\n",
       "      <th>min</th>\n",
       "      <td>100000.000000</td>\n",
       "      <td>1.000000</td>\n",
       "      <td>1.000000</td>\n",
       "      <td>0.000000</td>\n",
       "      <td>51.298317</td>\n",
       "      <td>-0.498315</td>\n",
       "      <td>0.000000</td>\n",
       "      <td>0.000000</td>\n",
       "    </tr>\n",
       "    <tr>\n",
       "      <th>25%</th>\n",
       "      <td>325000.000000</td>\n",
       "      <td>1.000000</td>\n",
       "      <td>1.000000</td>\n",
       "      <td>0.221778</td>\n",
       "      <td>51.439082</td>\n",
       "      <td>-0.212965</td>\n",
       "      <td>0.027545</td>\n",
       "      <td>0.044160</td>\n",
       "    </tr>\n",
       "    <tr>\n",
       "      <th>50%</th>\n",
       "      <td>425000.000000</td>\n",
       "      <td>2.000000</td>\n",
       "      <td>1.000000</td>\n",
       "      <td>0.361208</td>\n",
       "      <td>51.499427</td>\n",
       "      <td>-0.105220</td>\n",
       "      <td>0.057208</td>\n",
       "      <td>0.098877</td>\n",
       "    </tr>\n",
       "    <tr>\n",
       "      <th>75%</th>\n",
       "      <td>500000.000000</td>\n",
       "      <td>3.000000</td>\n",
       "      <td>1.000000</td>\n",
       "      <td>0.553963</td>\n",
       "      <td>51.554061</td>\n",
       "      <td>-0.012998</td>\n",
       "      <td>0.093844</td>\n",
       "      <td>0.192164</td>\n",
       "    </tr>\n",
       "    <tr>\n",
       "      <th>max</th>\n",
       "      <td>600000.000000</td>\n",
       "      <td>490000.000000</td>\n",
       "      <td>12.000000</td>\n",
       "      <td>192.431869</td>\n",
       "      <td>51.683185</td>\n",
       "      <td>51.558746</td>\n",
       "      <td>0.201161</td>\n",
       "      <td>51.663966</td>\n",
       "    </tr>\n",
       "  </tbody>\n",
       "</table>\n",
       "</div>"
      ],
      "text/plain": [
       "               Price       bedrooms     bathrooms  nearestStation  \\\n",
       "count   54067.000000   54067.000000  54067.000000    54067.000000   \n",
       "mean   416448.380528      11.360145      1.181534        0.442075   \n",
       "std    113505.624206    2107.308303      0.399652        1.049040   \n",
       "min    100000.000000       1.000000      1.000000        0.000000   \n",
       "25%    325000.000000       1.000000      1.000000        0.221778   \n",
       "50%    425000.000000       2.000000      1.000000        0.361208   \n",
       "75%    500000.000000       3.000000      1.000000        0.553963   \n",
       "max    600000.000000  490000.000000     12.000000      192.431869   \n",
       "\n",
       "       location.latitude  location.longitude  latitude_deviation  \\\n",
       "count       54067.000000        54067.000000        54067.000000   \n",
       "mean           51.496130           -0.106239            0.063545   \n",
       "std             0.076643            0.718769            0.042990   \n",
       "min            51.298317           -0.498315            0.000000   \n",
       "25%            51.439082           -0.212965            0.027545   \n",
       "50%            51.499427           -0.105220            0.057208   \n",
       "75%            51.554061           -0.012998            0.093844   \n",
       "max            51.683185           51.558746            0.201161   \n",
       "\n",
       "       longitude_deviation  \n",
       "count         54067.000000  \n",
       "mean              0.133758  \n",
       "std               0.706214  \n",
       "min               0.000000  \n",
       "25%               0.044160  \n",
       "50%               0.098877  \n",
       "75%               0.192164  \n",
       "max              51.663966  "
      ]
     },
     "execution_count": 8,
     "metadata": {},
     "output_type": "execute_result"
    }
   ],
   "source": [
    "df_listings = df_listings.fillna(df_listings.mean())\n",
    "df_listings.describe()"
   ]
  },
  {
   "cell_type": "code",
   "execution_count": 9,
   "metadata": {
    "execution": {
     "iopub.execute_input": "2022-11-28T15:49:35.508919Z",
     "iopub.status.busy": "2022-11-28T15:49:35.508365Z",
     "iopub.status.idle": "2022-11-28T15:49:35.592397Z",
     "shell.execute_reply": "2022-11-28T15:49:35.591032Z",
     "shell.execute_reply.started": "2022-11-28T15:49:35.508876Z"
    }
   },
   "outputs": [
    {
     "data": {
      "text/html": [
       "<div>\n",
       "<style scoped>\n",
       "    .dataframe tbody tr th:only-of-type {\n",
       "        vertical-align: middle;\n",
       "    }\n",
       "\n",
       "    .dataframe tbody tr th {\n",
       "        vertical-align: top;\n",
       "    }\n",
       "\n",
       "    .dataframe thead th {\n",
       "        text-align: right;\n",
       "    }\n",
       "</style>\n",
       "<table border=\"1\" class=\"dataframe\">\n",
       "  <thead>\n",
       "    <tr style=\"text-align: right;\">\n",
       "      <th></th>\n",
       "      <th>Price</th>\n",
       "      <th>bedrooms</th>\n",
       "      <th>bathrooms</th>\n",
       "      <th>nearestStation</th>\n",
       "      <th>location.latitude</th>\n",
       "      <th>location.longitude</th>\n",
       "      <th>latitude_deviation</th>\n",
       "      <th>longitude_deviation</th>\n",
       "    </tr>\n",
       "  </thead>\n",
       "  <tbody>\n",
       "    <tr>\n",
       "      <th>count</th>\n",
       "      <td>52246.000000</td>\n",
       "      <td>52246.000000</td>\n",
       "      <td>52246.000000</td>\n",
       "      <td>52246.000000</td>\n",
       "      <td>52246.000000</td>\n",
       "      <td>52246.000000</td>\n",
       "      <td>52246.000000</td>\n",
       "      <td>52246.000000</td>\n",
       "    </tr>\n",
       "    <tr>\n",
       "      <th>mean</th>\n",
       "      <td>419770.462868</td>\n",
       "      <td>1.984764</td>\n",
       "      <td>1.186326</td>\n",
       "      <td>0.437750</td>\n",
       "      <td>51.496037</td>\n",
       "      <td>-0.114293</td>\n",
       "      <td>0.064434</td>\n",
       "      <td>0.124907</td>\n",
       "    </tr>\n",
       "    <tr>\n",
       "      <th>std</th>\n",
       "      <td>111988.997579</td>\n",
       "      <td>0.826213</td>\n",
       "      <td>0.400064</td>\n",
       "      <td>0.328342</td>\n",
       "      <td>0.077348</td>\n",
       "      <td>0.157060</td>\n",
       "      <td>0.042927</td>\n",
       "      <td>0.095646</td>\n",
       "    </tr>\n",
       "    <tr>\n",
       "      <th>min</th>\n",
       "      <td>100000.000000</td>\n",
       "      <td>1.000000</td>\n",
       "      <td>1.000000</td>\n",
       "      <td>0.000000</td>\n",
       "      <td>51.298317</td>\n",
       "      <td>-0.498315</td>\n",
       "      <td>0.000000</td>\n",
       "      <td>0.000000</td>\n",
       "    </tr>\n",
       "    <tr>\n",
       "      <th>25%</th>\n",
       "      <td>335000.000000</td>\n",
       "      <td>1.000000</td>\n",
       "      <td>1.000000</td>\n",
       "      <td>0.225128</td>\n",
       "      <td>51.437511</td>\n",
       "      <td>-0.212605</td>\n",
       "      <td>0.028596</td>\n",
       "      <td>0.044240</td>\n",
       "    </tr>\n",
       "    <tr>\n",
       "      <th>50%</th>\n",
       "      <td>425000.000000</td>\n",
       "      <td>2.000000</td>\n",
       "      <td>1.000000</td>\n",
       "      <td>0.365945</td>\n",
       "      <td>51.499239</td>\n",
       "      <td>-0.103647</td>\n",
       "      <td>0.058652</td>\n",
       "      <td>0.099856</td>\n",
       "    </tr>\n",
       "    <tr>\n",
       "      <th>75%</th>\n",
       "      <td>500000.000000</td>\n",
       "      <td>2.000000</td>\n",
       "      <td>1.000000</td>\n",
       "      <td>0.558825</td>\n",
       "      <td>51.555327</td>\n",
       "      <td>-0.010570</td>\n",
       "      <td>0.094620</td>\n",
       "      <td>0.193130</td>\n",
       "    </tr>\n",
       "    <tr>\n",
       "      <th>max</th>\n",
       "      <td>600000.000000</td>\n",
       "      <td>7.000000</td>\n",
       "      <td>5.000000</td>\n",
       "      <td>7.197700</td>\n",
       "      <td>51.683185</td>\n",
       "      <td>0.279726</td>\n",
       "      <td>0.201161</td>\n",
       "      <td>0.393095</td>\n",
       "    </tr>\n",
       "  </tbody>\n",
       "</table>\n",
       "</div>"
      ],
      "text/plain": [
       "               Price      bedrooms     bathrooms  nearestStation  \\\n",
       "count   52246.000000  52246.000000  52246.000000    52246.000000   \n",
       "mean   419770.462868      1.984764      1.186326        0.437750   \n",
       "std    111988.997579      0.826213      0.400064        0.328342   \n",
       "min    100000.000000      1.000000      1.000000        0.000000   \n",
       "25%    335000.000000      1.000000      1.000000        0.225128   \n",
       "50%    425000.000000      2.000000      1.000000        0.365945   \n",
       "75%    500000.000000      2.000000      1.000000        0.558825   \n",
       "max    600000.000000      7.000000      5.000000        7.197700   \n",
       "\n",
       "       location.latitude  location.longitude  latitude_deviation  \\\n",
       "count       52246.000000        52246.000000        52246.000000   \n",
       "mean           51.496037           -0.114293            0.064434   \n",
       "std             0.077348            0.157060            0.042927   \n",
       "min            51.298317           -0.498315            0.000000   \n",
       "25%            51.437511           -0.212605            0.028596   \n",
       "50%            51.499239           -0.103647            0.058652   \n",
       "75%            51.555327           -0.010570            0.094620   \n",
       "max            51.683185            0.279726            0.201161   \n",
       "\n",
       "       longitude_deviation  \n",
       "count         52246.000000  \n",
       "mean              0.124907  \n",
       "std               0.095646  \n",
       "min               0.000000  \n",
       "25%               0.044240  \n",
       "50%               0.099856  \n",
       "75%               0.193130  \n",
       "max               0.393095  "
      ]
     },
     "execution_count": 9,
     "metadata": {},
     "output_type": "execute_result"
    }
   ],
   "source": [
    "# Do some basic outlier excluding\n",
    "\n",
    "df_listings['location.latitude'] = pd.to_numeric(df_listings['location.latitude'], 'coerce').dropna().astype(float)\n",
    "\n",
    "df_listings = df_listings[(df_listings['bedrooms'] <= 7)]\n",
    "df_listings = df_listings[df_listings['bathrooms'] <= 5]\n",
    "\n",
    "df_listings = df_listings[(df_listings['nearestStation'] <= 7.5)]\n",
    "\n",
    "df_listings = df_listings[(df_listings['location.longitude'] <= 1)]\n",
    "df_listings = df_listings[(df_listings['longitude_deviation'] <= 1)]\n",
    "\n",
    "df_listings.describe()"
   ]
  },
  {
   "cell_type": "markdown",
   "metadata": {
    "_uuid": "8028a479de52da9a0240437ad642f456234688d2"
   },
   "source": [
    "# Prepare data\n",
    "Right now I think we have an idea of what kind of data we are interested in and what data we don't think are useful for us. Let's build a pipeline for removing the data."
   ]
  },
  {
   "cell_type": "markdown",
   "metadata": {
    "_uuid": "a59af02c285e253ac8fb2b54e43f0598480babf2"
   },
   "source": [
    "Let's reload the data so we can have a fresh start!"
   ]
  },
  {
   "cell_type": "code",
   "execution_count": 10,
   "metadata": {
    "_uuid": "58901f4a6c2a09dec4ad37fd4324e53f9af86572",
    "execution": {
     "iopub.execute_input": "2022-11-28T15:49:35.597981Z",
     "iopub.status.busy": "2022-11-28T15:49:35.597374Z",
     "iopub.status.idle": "2022-11-28T15:49:35.707885Z",
     "shell.execute_reply": "2022-11-28T15:49:35.706457Z",
     "shell.execute_reply.started": "2022-11-28T15:49:35.597939Z"
    }
   },
   "outputs": [],
   "source": [
    "df_listings = pd.read_csv('untidy_df_listings_v06.csv', index_col=0)"
   ]
  },
  {
   "cell_type": "markdown",
   "metadata": {
    "_uuid": "1d03fb5b6cdd841a9fe0983595b2f379e24b2755"
   },
   "source": [
    "Let's not log the data since a neural network is quite good at working with non-linear data. I also tested and verified that the model didn't perform better or worse if I logged the data before hand."
   ]
  },
  {
   "cell_type": "code",
   "execution_count": 11,
   "metadata": {
    "_uuid": "6ce8bbf540debd24e8fd5a63c53c28a8a7e1b5d2",
    "execution": {
     "iopub.execute_input": "2022-11-28T15:49:35.709801Z",
     "iopub.status.busy": "2022-11-28T15:49:35.709488Z",
     "iopub.status.idle": "2022-11-28T15:49:35.767540Z",
     "shell.execute_reply": "2022-11-28T15:49:35.765888Z",
     "shell.execute_reply.started": "2022-11-28T15:49:35.709775Z"
    }
   },
   "outputs": [
    {
     "data": {
      "text/plain": [
       "((271, 7), (271,))"
      ]
     },
     "execution_count": 11,
     "metadata": {},
     "output_type": "execute_result"
    }
   ],
   "source": [
    "cols = ['Price','bedrooms','bathrooms','nearestStation','location.latitude','location.longitude','latitude_deviation','longitude_deviation']\n",
    "features = ['bedrooms','bathrooms','nearestStation','location.latitude','location.longitude','latitude_deviation','longitude_deviation']\n",
    "df_listings = df_listings[cols]\n",
    "\n",
    "# Create dummy values\n",
    "df_listings = pd.get_dummies(df_listings)\n",
    "\n",
    "#filling NA's with the mean of the column:\n",
    "df_listings = df_listings.fillna(df_listings.mean())\n",
    "\n",
    "# Always standard scale the data before using NN\n",
    "scale = StandardScaler()\n",
    "X_listings = df_listings[features]\n",
    "X_listings = scale.fit_transform(X_listings)\n",
    "\n",
    "# Y is just the 'Price' column\n",
    "y = df_listings['Price'].values\n",
    "\n",
    "# split into train and test. Lots of data available so test can be small and most can be used for train\n",
    "X_train, X_test, y_train, y_test = train_test_split(X_listings, y, test_size=0.005, random_state=101)\n",
    "X_test.shape, y_test.shape"
   ]
  },
  {
   "cell_type": "code",
   "execution_count": 12,
   "metadata": {
    "_uuid": "30d990717c54ee2a96c9687bd4e6a82a21abd560",
    "execution": {
     "iopub.execute_input": "2022-11-28T15:49:35.769868Z",
     "iopub.status.busy": "2022-11-28T15:49:35.769440Z",
     "iopub.status.idle": "2022-11-28T15:49:35.777471Z",
     "shell.execute_reply": "2022-11-28T15:49:35.775986Z",
     "shell.execute_reply.started": "2022-11-28T15:49:35.769840Z"
    }
   },
   "outputs": [],
   "source": [
    "def create_model():\n",
    "    # create model\n",
    "    model = Sequential()\n",
    "    model.add(Dense(10, input_dim=X_train.shape[1], activation='relu'))\n",
    "    model.add(Dense(30, activation='relu'))\n",
    "    model.add(Dense(40, activation='relu'))\n",
    "    model.add(Dense(1))\n",
    "    # Compile model\n",
    "    model.compile(optimizer ='adam', loss = 'mean_squared_error', \n",
    "              metrics =[metrics.mae])\n",
    "    return model"
   ]
  },
  {
   "cell_type": "code",
   "execution_count": 13,
   "metadata": {
    "_uuid": "9a77c30ae22162e72bba30c1f8616fbb35a5e0dc",
    "execution": {
     "iopub.execute_input": "2022-11-28T15:49:35.780803Z",
     "iopub.status.busy": "2022-11-28T15:49:35.779525Z",
     "iopub.status.idle": "2022-11-28T15:49:37.447157Z",
     "shell.execute_reply": "2022-11-28T15:49:37.445530Z",
     "shell.execute_reply.started": "2022-11-28T15:49:35.780772Z"
    },
    "scrolled": true
   },
   "outputs": [
    {
     "name": "stdout",
     "output_type": "stream",
     "text": [
      "Model: \"sequential\"\n",
      "_________________________________________________________________\n",
      " Layer (type)                Output Shape              Param #   \n",
      "=================================================================\n",
      " dense (Dense)               (None, 10)                80        \n",
      "                                                                 \n",
      " dense_1 (Dense)             (None, 30)                330       \n",
      "                                                                 \n",
      " dense_2 (Dense)             (None, 40)                1240      \n",
      "                                                                 \n",
      " dense_3 (Dense)             (None, 1)                 41        \n",
      "                                                                 \n",
      "=================================================================\n",
      "Total params: 1,691\n",
      "Trainable params: 1,691\n",
      "Non-trainable params: 0\n",
      "_________________________________________________________________\n"
     ]
    }
   ],
   "source": [
    "model = create_model()\n",
    "model.summary()"
   ]
  },
  {
   "cell_type": "code",
   "execution_count": 14,
   "metadata": {
    "_uuid": "30008da456af620fb89a59aeaac613f1c7d5e9bf",
    "execution": {
     "iopub.execute_input": "2022-11-28T15:49:37.449238Z",
     "iopub.status.busy": "2022-11-28T15:49:37.448738Z",
     "iopub.status.idle": "2022-11-28T16:10:46.938609Z",
     "shell.execute_reply": "2022-11-28T16:10:46.937257Z",
     "shell.execute_reply.started": "2022-11-28T15:49:37.449194Z"
    },
    "scrolled": true
   },
   "outputs": [
    {
     "name": "stdout",
     "output_type": "stream",
     "text": [
      "Epoch 1/150\n",
      "1345/1345 [==============================] - 9s 6ms/step - loss: 134324846592.0000 - mean_absolute_error: 336029.5000 - val_loss: 27994920960.0000 - val_mean_absolute_error: 135727.2969\n",
      "Epoch 2/150\n",
      "1345/1345 [==============================] - 7s 6ms/step - loss: 18021046272.0000 - mean_absolute_error: 105366.5703 - val_loss: 13631908864.0000 - val_mean_absolute_error: 95473.7109\n",
      "Epoch 3/150\n",
      "1345/1345 [==============================] - 7s 5ms/step - loss: 14408830976.0000 - mean_absolute_error: 95262.8750 - val_loss: 12399644672.0000 - val_mean_absolute_error: 91760.5000\n",
      "Epoch 4/150\n",
      "1345/1345 [==============================] - 7s 5ms/step - loss: 13476052992.0000 - mean_absolute_error: 92946.6250 - val_loss: 11885965312.0000 - val_mean_absolute_error: 90183.2422\n",
      "Epoch 5/150\n",
      "1345/1345 [==============================] - 7s 5ms/step - loss: 12973162496.0000 - mean_absolute_error: 91771.1641 - val_loss: 11597219840.0000 - val_mean_absolute_error: 89144.0625\n",
      "Epoch 6/150\n",
      "1345/1345 [==============================] - 8s 6ms/step - loss: 12676368384.0000 - mean_absolute_error: 91063.8125 - val_loss: 11475391488.0000 - val_mean_absolute_error: 88779.3984\n",
      "Epoch 7/150\n",
      "1345/1345 [==============================] - 9s 6ms/step - loss: 12481740800.0000 - mean_absolute_error: 90700.0547 - val_loss: 11408476160.0000 - val_mean_absolute_error: 88510.7891\n",
      "Epoch 8/150\n",
      "1345/1345 [==============================] - 9s 7ms/step - loss: 12337676288.0000 - mean_absolute_error: 90421.7422 - val_loss: 11351796736.0000 - val_mean_absolute_error: 88273.2500\n",
      "Epoch 9/150\n",
      "1345/1345 [==============================] - 9s 7ms/step - loss: 12237045760.0000 - mean_absolute_error: 90272.2812 - val_loss: 11329695744.0000 - val_mean_absolute_error: 88236.6016\n",
      "Epoch 10/150\n",
      "1345/1345 [==============================] - 9s 6ms/step - loss: 12161542144.0000 - mean_absolute_error: 90211.3906 - val_loss: 11319371776.0000 - val_mean_absolute_error: 88155.9609\n",
      "Epoch 11/150\n",
      "1345/1345 [==============================] - 9s 7ms/step - loss: 12105776128.0000 - mean_absolute_error: 90155.0469 - val_loss: 11312614400.0000 - val_mean_absolute_error: 88156.2109\n",
      "Epoch 12/150\n",
      "1345/1345 [==============================] - 8s 6ms/step - loss: 12063898624.0000 - mean_absolute_error: 90121.4609 - val_loss: 11308469248.0000 - val_mean_absolute_error: 88053.1328\n",
      "Epoch 13/150\n",
      "1345/1345 [==============================] - 9s 6ms/step - loss: 12031334400.0000 - mean_absolute_error: 90071.1719 - val_loss: 11324106752.0000 - val_mean_absolute_error: 88270.4141\n",
      "Epoch 14/150\n",
      "1345/1345 [==============================] - 9s 7ms/step - loss: 11996782592.0000 - mean_absolute_error: 90102.1406 - val_loss: 11321864192.0000 - val_mean_absolute_error: 88227.7109\n",
      "Epoch 15/150\n",
      "1345/1345 [==============================] - 8s 6ms/step - loss: 11971891200.0000 - mean_absolute_error: 90078.2109 - val_loss: 11298498560.0000 - val_mean_absolute_error: 88065.7578\n",
      "Epoch 16/150\n",
      "1345/1345 [==============================] - 9s 7ms/step - loss: 11950128128.0000 - mean_absolute_error: 90020.9453 - val_loss: 11313973248.0000 - val_mean_absolute_error: 88179.8438\n",
      "Epoch 17/150\n",
      "1345/1345 [==============================] - 8s 6ms/step - loss: 11927890944.0000 - mean_absolute_error: 90028.8516 - val_loss: 11296234496.0000 - val_mean_absolute_error: 88011.6875\n",
      "Epoch 18/150\n",
      "1345/1345 [==============================] - 9s 7ms/step - loss: 11914139648.0000 - mean_absolute_error: 90014.7812 - val_loss: 11300730880.0000 - val_mean_absolute_error: 88080.5312\n",
      "Epoch 19/150\n",
      "1345/1345 [==============================] - 9s 7ms/step - loss: 11899270144.0000 - mean_absolute_error: 89991.4453 - val_loss: 11292998656.0000 - val_mean_absolute_error: 88058.2656\n",
      "Epoch 20/150\n",
      "1345/1345 [==============================] - 9s 7ms/step - loss: 11887797248.0000 - mean_absolute_error: 90024.1250 - val_loss: 11323222016.0000 - val_mean_absolute_error: 88122.1953\n",
      "Epoch 21/150\n",
      "1345/1345 [==============================] - 10s 7ms/step - loss: 11879593984.0000 - mean_absolute_error: 89955.7422 - val_loss: 11308508160.0000 - val_mean_absolute_error: 88114.0156\n",
      "Epoch 22/150\n",
      "1345/1345 [==============================] - 10s 7ms/step - loss: 11872737280.0000 - mean_absolute_error: 89992.9922 - val_loss: 11287676928.0000 - val_mean_absolute_error: 87984.9844\n",
      "Epoch 23/150\n",
      "1345/1345 [==============================] - 8s 6ms/step - loss: 11870045184.0000 - mean_absolute_error: 89963.0547 - val_loss: 11285543936.0000 - val_mean_absolute_error: 87977.9453\n",
      "Epoch 24/150\n",
      "1345/1345 [==============================] - 10s 8ms/step - loss: 11862757376.0000 - mean_absolute_error: 89929.6953 - val_loss: 11301635072.0000 - val_mean_absolute_error: 88053.5469\n",
      "Epoch 25/150\n",
      "1345/1345 [==============================] - 9s 7ms/step - loss: 11858088960.0000 - mean_absolute_error: 89916.6016 - val_loss: 11288735744.0000 - val_mean_absolute_error: 88009.8047\n",
      "Epoch 26/150\n",
      "1345/1345 [==============================] - 9s 7ms/step - loss: 11853819904.0000 - mean_absolute_error: 89938.3047 - val_loss: 11281408000.0000 - val_mean_absolute_error: 87930.2031\n",
      "Epoch 27/150\n",
      "1345/1345 [==============================] - 8s 6ms/step - loss: 11850477568.0000 - mean_absolute_error: 89910.4141 - val_loss: 11290659840.0000 - val_mean_absolute_error: 88059.0938\n",
      "Epoch 28/150\n",
      "1345/1345 [==============================] - 8s 6ms/step - loss: 11847800832.0000 - mean_absolute_error: 89939.5625 - val_loss: 11282390016.0000 - val_mean_absolute_error: 87993.3828\n",
      "Epoch 29/150\n",
      "1345/1345 [==============================] - 8s 6ms/step - loss: 11852647424.0000 - mean_absolute_error: 89896.5000 - val_loss: 11305627648.0000 - val_mean_absolute_error: 88057.0078\n",
      "Epoch 30/150\n",
      "1345/1345 [==============================] - 8s 6ms/step - loss: 11843799040.0000 - mean_absolute_error: 89925.4766 - val_loss: 11274075136.0000 - val_mean_absolute_error: 87896.6328\n",
      "Epoch 31/150\n",
      "1345/1345 [==============================] - 8s 6ms/step - loss: 11838987264.0000 - mean_absolute_error: 89877.2891 - val_loss: 11307710464.0000 - val_mean_absolute_error: 88098.2422\n",
      "Epoch 32/150\n",
      "1345/1345 [==============================] - 9s 6ms/step - loss: 11842066432.0000 - mean_absolute_error: 89913.4297 - val_loss: 11279376384.0000 - val_mean_absolute_error: 87986.2969\n",
      "Epoch 33/150\n",
      "1345/1345 [==============================] - 10s 7ms/step - loss: 11836529664.0000 - mean_absolute_error: 89906.9766 - val_loss: 11270893568.0000 - val_mean_absolute_error: 87862.3203\n",
      "Epoch 34/150\n",
      "1345/1345 [==============================] - 9s 7ms/step - loss: 11832977408.0000 - mean_absolute_error: 89849.3906 - val_loss: 11288649728.0000 - val_mean_absolute_error: 88053.5312\n",
      "Epoch 35/150\n",
      "1345/1345 [==============================] - 8s 6ms/step - loss: 11834290176.0000 - mean_absolute_error: 89874.7578 - val_loss: 11286913024.0000 - val_mean_absolute_error: 88013.6719\n",
      "Epoch 36/150\n",
      "1345/1345 [==============================] - 8s 6ms/step - loss: 11834149888.0000 - mean_absolute_error: 89859.9453 - val_loss: 11288091648.0000 - val_mean_absolute_error: 87971.3906\n",
      "Epoch 37/150\n",
      "1345/1345 [==============================] - 10s 7ms/step - loss: 11829732352.0000 - mean_absolute_error: 89860.7422 - val_loss: 11275545600.0000 - val_mean_absolute_error: 87950.9219\n",
      "Epoch 38/150\n",
      "1345/1345 [==============================] - 8s 6ms/step - loss: 11830046720.0000 - mean_absolute_error: 89853.1562 - val_loss: 11278295040.0000 - val_mean_absolute_error: 87949.7578\n",
      "Epoch 39/150\n",
      "1345/1345 [==============================] - 8s 6ms/step - loss: 11830894592.0000 - mean_absolute_error: 89859.8281 - val_loss: 11274639360.0000 - val_mean_absolute_error: 87961.6797\n",
      "Epoch 40/150\n",
      "1345/1345 [==============================] - 8s 6ms/step - loss: 11827151872.0000 - mean_absolute_error: 89870.7812 - val_loss: 11287575552.0000 - val_mean_absolute_error: 87947.6641\n",
      "Epoch 41/150\n",
      "1345/1345 [==============================] - 9s 7ms/step - loss: 11820527616.0000 - mean_absolute_error: 89837.0781 - val_loss: 11272950784.0000 - val_mean_absolute_error: 87847.7266\n",
      "Epoch 42/150\n",
      "1345/1345 [==============================] - 8s 6ms/step - loss: 11825161216.0000 - mean_absolute_error: 89810.8672 - val_loss: 11273382912.0000 - val_mean_absolute_error: 87928.3828\n",
      "Epoch 43/150\n",
      "1345/1345 [==============================] - 9s 6ms/step - loss: 11818324992.0000 - mean_absolute_error: 89812.0391 - val_loss: 11267044352.0000 - val_mean_absolute_error: 87910.9453\n",
      "Epoch 44/150\n",
      "1345/1345 [==============================] - 8s 6ms/step - loss: 11818070016.0000 - mean_absolute_error: 89814.7969 - val_loss: 11272897536.0000 - val_mean_absolute_error: 87961.9844\n",
      "Epoch 45/150\n",
      "1345/1345 [==============================] - 8s 6ms/step - loss: 11817807872.0000 - mean_absolute_error: 89848.1641 - val_loss: 11263237120.0000 - val_mean_absolute_error: 87843.5938\n",
      "Epoch 46/150\n",
      "1345/1345 [==============================] - 8s 6ms/step - loss: 11815363584.0000 - mean_absolute_error: 89807.1016 - val_loss: 11274105856.0000 - val_mean_absolute_error: 87881.4062\n",
      "Epoch 47/150\n",
      "1345/1345 [==============================] - 8s 6ms/step - loss: 11809326080.0000 - mean_absolute_error: 89794.9062 - val_loss: 11270723584.0000 - val_mean_absolute_error: 87911.5703\n",
      "Epoch 48/150\n",
      "1345/1345 [==============================] - 8s 6ms/step - loss: 11810281472.0000 - mean_absolute_error: 89799.1797 - val_loss: 11271701504.0000 - val_mean_absolute_error: 87939.9062\n",
      "Epoch 49/150\n",
      "1345/1345 [==============================] - 9s 7ms/step - loss: 11811488768.0000 - mean_absolute_error: 89828.7109 - val_loss: 11264082944.0000 - val_mean_absolute_error: 87832.0703\n",
      "Epoch 50/150\n",
      "1345/1345 [==============================] - 8s 6ms/step - loss: 11807440896.0000 - mean_absolute_error: 89784.4922 - val_loss: 11266813952.0000 - val_mean_absolute_error: 87889.1641\n",
      "Epoch 51/150\n",
      "1345/1345 [==============================] - 9s 7ms/step - loss: 11810266112.0000 - mean_absolute_error: 89796.3594 - val_loss: 11273662464.0000 - val_mean_absolute_error: 87954.9062\n",
      "Epoch 52/150\n",
      "1345/1345 [==============================] - 9s 6ms/step - loss: 11804557312.0000 - mean_absolute_error: 89801.0312 - val_loss: 11261856768.0000 - val_mean_absolute_error: 87896.8047\n",
      "Epoch 53/150\n",
      "1345/1345 [==============================] - 8s 6ms/step - loss: 11802859520.0000 - mean_absolute_error: 89772.7422 - val_loss: 11260852224.0000 - val_mean_absolute_error: 87858.9453\n",
      "Epoch 54/150\n",
      "1345/1345 [==============================] - 8s 6ms/step - loss: 11800566784.0000 - mean_absolute_error: 89775.2891 - val_loss: 11261978624.0000 - val_mean_absolute_error: 87863.0391\n",
      "Epoch 55/150\n",
      "1345/1345 [==============================] - 8s 6ms/step - loss: 11799865344.0000 - mean_absolute_error: 89753.5781 - val_loss: 11264754688.0000 - val_mean_absolute_error: 87879.5078\n",
      "Epoch 56/150\n",
      "1345/1345 [==============================] - 8s 6ms/step - loss: 11801185280.0000 - mean_absolute_error: 89779.7188 - val_loss: 11265153024.0000 - val_mean_absolute_error: 87877.1562\n",
      "Epoch 57/150\n",
      "1345/1345 [==============================] - 8s 6ms/step - loss: 11795801088.0000 - mean_absolute_error: 89763.2969 - val_loss: 11271948288.0000 - val_mean_absolute_error: 87893.5391\n",
      "Epoch 58/150\n",
      "1345/1345 [==============================] - 8s 6ms/step - loss: 11799440384.0000 - mean_absolute_error: 89741.3125 - val_loss: 11266355200.0000 - val_mean_absolute_error: 87942.7188\n",
      "Epoch 59/150\n",
      "1345/1345 [==============================] - 8s 6ms/step - loss: 11796384768.0000 - mean_absolute_error: 89751.5547 - val_loss: 11268499456.0000 - val_mean_absolute_error: 87935.5703\n",
      "Epoch 60/150\n",
      "1345/1345 [==============================] - 10s 7ms/step - loss: 11791972352.0000 - mean_absolute_error: 89748.2266 - val_loss: 11253301248.0000 - val_mean_absolute_error: 87821.0000\n",
      "Epoch 61/150\n",
      "1345/1345 [==============================] - 8s 6ms/step - loss: 11791381504.0000 - mean_absolute_error: 89721.4062 - val_loss: 11256422400.0000 - val_mean_absolute_error: 87817.2109\n",
      "Epoch 62/150\n",
      "1345/1345 [==============================] - 9s 7ms/step - loss: 11793804288.0000 - mean_absolute_error: 89778.2656 - val_loss: 11249043456.0000 - val_mean_absolute_error: 87690.5234\n",
      "Epoch 63/150\n",
      "1345/1345 [==============================] - 8s 6ms/step - loss: 11789130752.0000 - mean_absolute_error: 89691.5625 - val_loss: 11295647744.0000 - val_mean_absolute_error: 88063.4609\n",
      "Epoch 64/150\n",
      "1345/1345 [==============================] - 9s 7ms/step - loss: 11786807296.0000 - mean_absolute_error: 89770.8828 - val_loss: 11251395584.0000 - val_mean_absolute_error: 87807.7109\n",
      "Epoch 65/150\n",
      "1345/1345 [==============================] - 8s 6ms/step - loss: 11787354112.0000 - mean_absolute_error: 89715.5000 - val_loss: 11248207872.0000 - val_mean_absolute_error: 87766.2500\n",
      "Epoch 66/150\n",
      "1345/1345 [==============================] - 8s 6ms/step - loss: 11791120384.0000 - mean_absolute_error: 89700.9297 - val_loss: 11264408576.0000 - val_mean_absolute_error: 87862.1406\n",
      "Epoch 67/150\n",
      "1345/1345 [==============================] - 9s 7ms/step - loss: 11786087424.0000 - mean_absolute_error: 89719.4844 - val_loss: 11254424576.0000 - val_mean_absolute_error: 87798.6797\n",
      "Epoch 68/150\n",
      "1345/1345 [==============================] - 9s 6ms/step - loss: 11784541184.0000 - mean_absolute_error: 89689.9922 - val_loss: 11255216128.0000 - val_mean_absolute_error: 87888.0234\n",
      "Epoch 69/150\n",
      "1345/1345 [==============================] - 9s 7ms/step - loss: 11781537792.0000 - mean_absolute_error: 89695.7656 - val_loss: 11285019648.0000 - val_mean_absolute_error: 87974.0312\n",
      "Epoch 70/150\n",
      "1345/1345 [==============================] - 10s 7ms/step - loss: 11783536640.0000 - mean_absolute_error: 89723.3359 - val_loss: 11244101632.0000 - val_mean_absolute_error: 87762.6875\n",
      "Epoch 71/150\n",
      "1345/1345 [==============================] - 8s 6ms/step - loss: 11782053888.0000 - mean_absolute_error: 89703.9688 - val_loss: 11248079872.0000 - val_mean_absolute_error: 87824.9062\n",
      "Epoch 72/150\n",
      "1345/1345 [==============================] - 8s 6ms/step - loss: 11781456896.0000 - mean_absolute_error: 89730.7188 - val_loss: 11258222592.0000 - val_mean_absolute_error: 87748.8203\n",
      "Epoch 73/150\n",
      "1345/1345 [==============================] - 8s 6ms/step - loss: 11785076736.0000 - mean_absolute_error: 89700.9922 - val_loss: 11256770560.0000 - val_mean_absolute_error: 87827.5625\n",
      "Epoch 74/150\n",
      "1345/1345 [==============================] - 9s 7ms/step - loss: 11778675712.0000 - mean_absolute_error: 89671.6484 - val_loss: 11253906432.0000 - val_mean_absolute_error: 87859.8438\n",
      "Epoch 75/150\n",
      "1345/1345 [==============================] - 8s 6ms/step - loss: 11772706816.0000 - mean_absolute_error: 89672.2344 - val_loss: 11254704128.0000 - val_mean_absolute_error: 87895.2344\n",
      "Epoch 76/150\n",
      "1345/1345 [==============================] - 9s 7ms/step - loss: 11777899520.0000 - mean_absolute_error: 89685.7734 - val_loss: 11252011008.0000 - val_mean_absolute_error: 87867.6484\n",
      "Epoch 77/150\n",
      "1345/1345 [==============================] - 9s 7ms/step - loss: 11775075328.0000 - mean_absolute_error: 89690.1719 - val_loss: 11242609664.0000 - val_mean_absolute_error: 87780.4453\n",
      "Epoch 78/150\n",
      "1345/1345 [==============================] - 10s 7ms/step - loss: 11776666624.0000 - mean_absolute_error: 89682.2656 - val_loss: 11244186624.0000 - val_mean_absolute_error: 87802.7344\n",
      "Epoch 79/150\n",
      "1345/1345 [==============================] - 9s 7ms/step - loss: 11777801216.0000 - mean_absolute_error: 89696.5078 - val_loss: 11241803776.0000 - val_mean_absolute_error: 87759.5859\n",
      "Epoch 80/150\n",
      "1345/1345 [==============================] - 10s 7ms/step - loss: 11774150656.0000 - mean_absolute_error: 89660.5703 - val_loss: 11242388480.0000 - val_mean_absolute_error: 87723.3125\n",
      "Epoch 81/150\n",
      "1345/1345 [==============================] - 9s 7ms/step - loss: 11783655424.0000 - mean_absolute_error: 89663.5859 - val_loss: 11253362688.0000 - val_mean_absolute_error: 87883.1094\n",
      "Epoch 82/150\n",
      "1345/1345 [==============================] - 10s 8ms/step - loss: 11771197440.0000 - mean_absolute_error: 89673.5859 - val_loss: 11244072960.0000 - val_mean_absolute_error: 87821.2656\n",
      "Epoch 83/150\n",
      "1345/1345 [==============================] - 9s 7ms/step - loss: 11774285824.0000 - mean_absolute_error: 89654.2891 - val_loss: 11258074112.0000 - val_mean_absolute_error: 87876.0938\n",
      "Epoch 84/150\n",
      "1345/1345 [==============================] - 8s 6ms/step - loss: 11770598400.0000 - mean_absolute_error: 89663.8359 - val_loss: 11247351808.0000 - val_mean_absolute_error: 87811.9141\n",
      "Epoch 85/150\n",
      "1345/1345 [==============================] - 8s 6ms/step - loss: 11771185152.0000 - mean_absolute_error: 89656.8438 - val_loss: 11242660864.0000 - val_mean_absolute_error: 87852.2578\n",
      "Epoch 86/150\n",
      "1345/1345 [==============================] - 10s 8ms/step - loss: 11765320704.0000 - mean_absolute_error: 89619.6641 - val_loss: 11285345280.0000 - val_mean_absolute_error: 88005.2734\n",
      "Epoch 87/150\n",
      "1345/1345 [==============================] - 10s 7ms/step - loss: 11772847104.0000 - mean_absolute_error: 89669.5703 - val_loss: 11251960832.0000 - val_mean_absolute_error: 87787.5078\n",
      "Epoch 88/150\n",
      "1345/1345 [==============================] - 10s 7ms/step - loss: 11767768064.0000 - mean_absolute_error: 89661.9219 - val_loss: 11234070528.0000 - val_mean_absolute_error: 87740.3516\n",
      "Epoch 89/150\n",
      "1345/1345 [==============================] - 10s 7ms/step - loss: 11769251840.0000 - mean_absolute_error: 89664.4375 - val_loss: 11241954304.0000 - val_mean_absolute_error: 87729.5078\n",
      "Epoch 90/150\n",
      "1345/1345 [==============================] - 8s 6ms/step - loss: 11765949440.0000 - mean_absolute_error: 89643.9688 - val_loss: 11243033600.0000 - val_mean_absolute_error: 87811.6719\n",
      "Epoch 91/150\n",
      "1345/1345 [==============================] - 8s 6ms/step - loss: 11766673408.0000 - mean_absolute_error: 89635.3594 - val_loss: 11230714880.0000 - val_mean_absolute_error: 87758.2578\n",
      "Epoch 92/150\n",
      "1345/1345 [==============================] - 8s 6ms/step - loss: 11763049472.0000 - mean_absolute_error: 89626.6641 - val_loss: 11245489152.0000 - val_mean_absolute_error: 87842.8672\n",
      "Epoch 93/150\n",
      "1345/1345 [==============================] - 8s 6ms/step - loss: 11761315840.0000 - mean_absolute_error: 89665.9297 - val_loss: 11224331264.0000 - val_mean_absolute_error: 87697.3750\n",
      "Epoch 94/150\n",
      "1345/1345 [==============================] - 8s 6ms/step - loss: 11755399168.0000 - mean_absolute_error: 89594.2109 - val_loss: 11224675328.0000 - val_mean_absolute_error: 87674.9766\n",
      "Epoch 95/150\n",
      "1345/1345 [==============================] - 9s 6ms/step - loss: 11749732352.0000 - mean_absolute_error: 89552.3359 - val_loss: 11219681280.0000 - val_mean_absolute_error: 87707.7734\n",
      "Epoch 96/150\n",
      "1345/1345 [==============================] - 8s 6ms/step - loss: 11744692224.0000 - mean_absolute_error: 89565.3984 - val_loss: 11209033728.0000 - val_mean_absolute_error: 87628.2969\n",
      "Epoch 97/150\n",
      "1345/1345 [==============================] - 9s 6ms/step - loss: 11743257600.0000 - mean_absolute_error: 89544.8438 - val_loss: 11209613312.0000 - val_mean_absolute_error: 87609.2188\n",
      "Epoch 98/150\n",
      "1345/1345 [==============================] - 10s 7ms/step - loss: 11735912448.0000 - mean_absolute_error: 89494.8125 - val_loss: 11195586560.0000 - val_mean_absolute_error: 87579.5781\n",
      "Epoch 99/150\n",
      "1345/1345 [==============================] - 8s 6ms/step - loss: 11723521024.0000 - mean_absolute_error: 89424.9375 - val_loss: 11198928896.0000 - val_mean_absolute_error: 87632.3594\n",
      "Epoch 100/150\n",
      "1345/1345 [==============================] - 8s 6ms/step - loss: 11725562880.0000 - mean_absolute_error: 89435.5078 - val_loss: 11178125312.0000 - val_mean_absolute_error: 87474.1094\n",
      "Epoch 101/150\n",
      "1345/1345 [==============================] - 8s 6ms/step - loss: 11710294016.0000 - mean_absolute_error: 89392.8203 - val_loss: 11175710720.0000 - val_mean_absolute_error: 87531.0000\n",
      "Epoch 102/150\n",
      "1345/1345 [==============================] - 9s 7ms/step - loss: 11707152384.0000 - mean_absolute_error: 89389.8203 - val_loss: 11213433856.0000 - val_mean_absolute_error: 87569.2969\n",
      "Epoch 103/150\n",
      "1345/1345 [==============================] - 9s 7ms/step - loss: 11700048896.0000 - mean_absolute_error: 89350.2734 - val_loss: 11140296704.0000 - val_mean_absolute_error: 87305.9922\n",
      "Epoch 104/150\n",
      "1345/1345 [==============================] - 9s 7ms/step - loss: 11699350528.0000 - mean_absolute_error: 89324.7656 - val_loss: 11166499840.0000 - val_mean_absolute_error: 87437.1719\n",
      "Epoch 105/150\n",
      "1345/1345 [==============================] - 8s 6ms/step - loss: 11691253760.0000 - mean_absolute_error: 89303.3281 - val_loss: 11134704640.0000 - val_mean_absolute_error: 87327.3438\n",
      "Epoch 106/150\n",
      "1345/1345 [==============================] - 8s 6ms/step - loss: 11682804736.0000 - mean_absolute_error: 89254.5547 - val_loss: 11140585472.0000 - val_mean_absolute_error: 87432.0625\n",
      "Epoch 107/150\n",
      "1345/1345 [==============================] - 9s 7ms/step - loss: 11675415552.0000 - mean_absolute_error: 89264.7734 - val_loss: 11124248576.0000 - val_mean_absolute_error: 87279.8047\n",
      "Epoch 108/150\n",
      "1345/1345 [==============================] - 8s 6ms/step - loss: 11678852096.0000 - mean_absolute_error: 89228.0078 - val_loss: 11122017280.0000 - val_mean_absolute_error: 87337.8359\n",
      "Epoch 109/150\n",
      "1345/1345 [==============================] - 8s 6ms/step - loss: 11672438784.0000 - mean_absolute_error: 89251.4453 - val_loss: 11115491328.0000 - val_mean_absolute_error: 87204.8438\n",
      "Epoch 110/150\n",
      "1345/1345 [==============================] - 8s 6ms/step - loss: 11664562176.0000 - mean_absolute_error: 89186.5078 - val_loss: 11102991360.0000 - val_mean_absolute_error: 87184.4141\n",
      "Epoch 111/150\n",
      "1345/1345 [==============================] - 9s 7ms/step - loss: 11657341952.0000 - mean_absolute_error: 89184.9219 - val_loss: 11105251328.0000 - val_mean_absolute_error: 87224.5078\n",
      "Epoch 112/150\n",
      "1345/1345 [==============================] - 8s 6ms/step - loss: 11653987328.0000 - mean_absolute_error: 89165.2656 - val_loss: 11100141568.0000 - val_mean_absolute_error: 87173.7734\n",
      "Epoch 113/150\n",
      "1345/1345 [==============================] - 9s 7ms/step - loss: 11666180096.0000 - mean_absolute_error: 89129.2969 - val_loss: 11089325056.0000 - val_mean_absolute_error: 87145.7500\n",
      "Epoch 114/150\n",
      "1345/1345 [==============================] - 9s 7ms/step - loss: 11650001920.0000 - mean_absolute_error: 89131.4297 - val_loss: 11091854336.0000 - val_mean_absolute_error: 87177.1797\n",
      "Epoch 115/150\n",
      "1345/1345 [==============================] - 8s 6ms/step - loss: 11643195392.0000 - mean_absolute_error: 89122.9141 - val_loss: 11092765696.0000 - val_mean_absolute_error: 87140.9297\n",
      "Epoch 116/150\n",
      "1345/1345 [==============================] - 8s 6ms/step - loss: 11641124864.0000 - mean_absolute_error: 89093.7734 - val_loss: 11095685120.0000 - val_mean_absolute_error: 87131.0312\n",
      "Epoch 117/150\n",
      "1345/1345 [==============================] - 10s 7ms/step - loss: 11640228864.0000 - mean_absolute_error: 89103.2969 - val_loss: 11069344768.0000 - val_mean_absolute_error: 86993.7891\n",
      "Epoch 118/150\n",
      "1345/1345 [==============================] - 9s 7ms/step - loss: 11632766976.0000 - mean_absolute_error: 89060.4375 - val_loss: 11067821056.0000 - val_mean_absolute_error: 87025.0234\n",
      "Epoch 119/150\n",
      "1345/1345 [==============================] - 8s 6ms/step - loss: 11633271808.0000 - mean_absolute_error: 89013.1953 - val_loss: 11086110720.0000 - val_mean_absolute_error: 87175.6328\n",
      "Epoch 120/150\n",
      "1345/1345 [==============================] - 8s 6ms/step - loss: 11622462464.0000 - mean_absolute_error: 89078.9219 - val_loss: 11053478912.0000 - val_mean_absolute_error: 86921.6562\n",
      "Epoch 121/150\n",
      "1345/1345 [==============================] - 8s 6ms/step - loss: 11619232768.0000 - mean_absolute_error: 88988.4453 - val_loss: 11075361792.0000 - val_mean_absolute_error: 87027.8516\n",
      "Epoch 122/150\n",
      "1345/1345 [==============================] - 7s 5ms/step - loss: 11615707136.0000 - mean_absolute_error: 88975.4297 - val_loss: 11051982848.0000 - val_mean_absolute_error: 86940.1328\n",
      "Epoch 123/150\n",
      "1345/1345 [==============================] - 8s 6ms/step - loss: 11610560512.0000 - mean_absolute_error: 88972.1719 - val_loss: 11048859648.0000 - val_mean_absolute_error: 86951.2500\n",
      "Epoch 124/150\n",
      "1345/1345 [==============================] - 7s 5ms/step - loss: 11605902336.0000 - mean_absolute_error: 88941.6094 - val_loss: 11060469760.0000 - val_mean_absolute_error: 86956.4141\n",
      "Epoch 125/150\n",
      "1345/1345 [==============================] - 7s 6ms/step - loss: 11608323072.0000 - mean_absolute_error: 88942.2422 - val_loss: 11037619200.0000 - val_mean_absolute_error: 86889.3281\n",
      "Epoch 126/150\n",
      "1345/1345 [==============================] - 8s 6ms/step - loss: 11596209152.0000 - mean_absolute_error: 88875.5703 - val_loss: 11044612096.0000 - val_mean_absolute_error: 86953.3828\n",
      "Epoch 127/150\n",
      "1345/1345 [==============================] - 7s 5ms/step - loss: 11598055424.0000 - mean_absolute_error: 88919.7734 - val_loss: 11037142016.0000 - val_mean_absolute_error: 86827.3516\n",
      "Epoch 128/150\n",
      "1345/1345 [==============================] - 8s 6ms/step - loss: 11600057344.0000 - mean_absolute_error: 88881.6484 - val_loss: 11038621696.0000 - val_mean_absolute_error: 86937.6484\n",
      "Epoch 129/150\n",
      "1345/1345 [==============================] - 8s 6ms/step - loss: 11586453504.0000 - mean_absolute_error: 88878.5625 - val_loss: 11019602944.0000 - val_mean_absolute_error: 86766.7656\n",
      "Epoch 130/150\n",
      "1345/1345 [==============================] - 7s 5ms/step - loss: 11598367744.0000 - mean_absolute_error: 88852.9688 - val_loss: 11023533056.0000 - val_mean_absolute_error: 86756.9609\n",
      "Epoch 131/150\n",
      "1345/1345 [==============================] - 7s 5ms/step - loss: 11585547264.0000 - mean_absolute_error: 88825.1484 - val_loss: 11056243712.0000 - val_mean_absolute_error: 86975.7969\n",
      "Epoch 132/150\n",
      "1345/1345 [==============================] - 9s 6ms/step - loss: 11588051968.0000 - mean_absolute_error: 88852.5391 - val_loss: 11029464064.0000 - val_mean_absolute_error: 86825.1094\n",
      "Epoch 133/150\n",
      "1345/1345 [==============================] - 8s 6ms/step - loss: 11582909440.0000 - mean_absolute_error: 88812.5859 - val_loss: 11021788160.0000 - val_mean_absolute_error: 86797.7656\n",
      "Epoch 134/150\n",
      "1345/1345 [==============================] - 9s 6ms/step - loss: 11586234368.0000 - mean_absolute_error: 88822.7422 - val_loss: 11050078208.0000 - val_mean_absolute_error: 86893.5234\n",
      "Epoch 135/150\n",
      "1345/1345 [==============================] - 8s 6ms/step - loss: 11582555136.0000 - mean_absolute_error: 88811.9531 - val_loss: 11056017408.0000 - val_mean_absolute_error: 86970.6562\n",
      "Epoch 136/150\n",
      "1345/1345 [==============================] - 9s 6ms/step - loss: 11575178240.0000 - mean_absolute_error: 88776.8906 - val_loss: 11028462592.0000 - val_mean_absolute_error: 86898.2578\n",
      "Epoch 137/150\n",
      "1345/1345 [==============================] - 8s 6ms/step - loss: 11574754304.0000 - mean_absolute_error: 88818.4219 - val_loss: 11014567936.0000 - val_mean_absolute_error: 86767.4141\n",
      "Epoch 138/150\n",
      "1345/1345 [==============================] - 9s 7ms/step - loss: 11570841600.0000 - mean_absolute_error: 88783.4922 - val_loss: 11033814016.0000 - val_mean_absolute_error: 86847.3672\n",
      "Epoch 139/150\n",
      "1345/1345 [==============================] - 9s 7ms/step - loss: 11575973888.0000 - mean_absolute_error: 88777.8516 - val_loss: 11025147904.0000 - val_mean_absolute_error: 86843.6484\n",
      "Epoch 140/150\n",
      "1345/1345 [==============================] - 9s 7ms/step - loss: 11574395904.0000 - mean_absolute_error: 88779.6562 - val_loss: 11015532544.0000 - val_mean_absolute_error: 86754.8281\n",
      "Epoch 141/150\n",
      "1345/1345 [==============================] - 11s 8ms/step - loss: 11571643392.0000 - mean_absolute_error: 88761.8438 - val_loss: 11007648768.0000 - val_mean_absolute_error: 86742.6719\n",
      "Epoch 142/150\n",
      "1345/1345 [==============================] - 9s 7ms/step - loss: 11573194752.0000 - mean_absolute_error: 88790.0938 - val_loss: 11027002368.0000 - val_mean_absolute_error: 86756.5469\n",
      "Epoch 143/150\n",
      "1345/1345 [==============================] - 8s 6ms/step - loss: 11566521344.0000 - mean_absolute_error: 88735.5703 - val_loss: 11017661440.0000 - val_mean_absolute_error: 86773.9609\n",
      "Epoch 144/150\n",
      "1345/1345 [==============================] - 8s 6ms/step - loss: 11569179648.0000 - mean_absolute_error: 88760.9297 - val_loss: 11002878976.0000 - val_mean_absolute_error: 86675.1094\n",
      "Epoch 145/150\n",
      "1345/1345 [==============================] - 8s 6ms/step - loss: 11572130816.0000 - mean_absolute_error: 88728.5625 - val_loss: 11013220352.0000 - val_mean_absolute_error: 86747.3047\n",
      "Epoch 146/150\n",
      "1345/1345 [==============================] - 8s 6ms/step - loss: 11562620928.0000 - mean_absolute_error: 88733.5078 - val_loss: 11019814912.0000 - val_mean_absolute_error: 86746.2578\n",
      "Epoch 147/150\n",
      "1345/1345 [==============================] - 8s 6ms/step - loss: 11571229696.0000 - mean_absolute_error: 88736.0781 - val_loss: 11006538752.0000 - val_mean_absolute_error: 86737.4297\n",
      "Epoch 148/150\n",
      "1345/1345 [==============================] - 9s 7ms/step - loss: 11567102976.0000 - mean_absolute_error: 88732.0938 - val_loss: 11015247872.0000 - val_mean_absolute_error: 86682.1406\n",
      "Epoch 149/150\n",
      "1345/1345 [==============================] - 9s 7ms/step - loss: 11575629824.0000 - mean_absolute_error: 88726.0859 - val_loss: 11022949376.0000 - val_mean_absolute_error: 86919.7344\n",
      "Epoch 150/150\n",
      "1345/1345 [==============================] - 8s 6ms/step - loss: 11563885568.0000 - mean_absolute_error: 88756.2812 - val_loss: 11012489216.0000 - val_mean_absolute_error: 86797.8984\n"
     ]
    }
   ],
   "source": [
    "# REPLACED WITH NEXT # history = model.fit(X_train, y_train, validation_data=(X_test,y_test), epochs=150, batch_size=32)\n",
    "history = model.fit(X_train, y_train, validation_split = 0.2, epochs=150, batch_size=32)"
   ]
  },
  {
   "cell_type": "markdown",
   "metadata": {
    "_uuid": "944e699c04d97aaa7264f0fab5fa8eb3612dcb89"
   },
   "source": [
    "Let's investigate how well this model did!"
   ]
  },
  {
   "cell_type": "code",
   "execution_count": 15,
   "metadata": {
    "_uuid": "d642df9bf8c35e3b3f3a8be8e73dc5f271aa4429",
    "execution": {
     "iopub.execute_input": "2022-11-28T16:10:46.941976Z",
     "iopub.status.busy": "2022-11-28T16:10:46.941508Z",
     "iopub.status.idle": "2022-11-28T16:10:47.426710Z",
     "shell.execute_reply": "2022-11-28T16:10:47.424930Z",
     "shell.execute_reply.started": "2022-11-28T16:10:46.941943Z"
    }
   },
   "outputs": [
    {
     "data": {
      "image/png": "[encoded data removed]",
      "text/plain": [
       "<Figure size 432x288 with 1 Axes>"
      ]
     },
     "metadata": {
      "needs_background": "light"
     },
     "output_type": "display_data"
    },
    {
     "data": {
      "image/png": "[encoded data removed]",
      "text/plain": [
       "<Figure size 432x288 with 1 Axes>"
      ]
     },
     "metadata": {
      "needs_background": "light"
     },
     "output_type": "display_data"
    }
   ],
   "source": [
    "# summarize history for accuracy\n",
    "plt.plot(history.history['mean_absolute_error'])\n",
    "plt.plot(history.history['val_mean_absolute_error'])\n",
    "plt.title('model accuracy')\n",
    "plt.ylabel('accuracy')\n",
    "plt.xlabel('epoch')\n",
    "plt.legend(['train', 'test'], loc='upper left')\n",
    "plt.show()\n",
    "\n",
    "# summarize history for loss\n",
    "plt.plot(history.history['loss'])\n",
    "plt.plot(history.history['val_loss'])\n",
    "plt.title('model loss')\n",
    "plt.ylabel('loss')\n",
    "plt.xlabel('epoch')\n",
    "plt.legend(['train', 'test'], loc='upper left')\n",
    "plt.show()"
   ]
  },
  {
   "cell_type": "markdown",
   "metadata": {
    "_uuid": "b3c6af154d715d6ecef8a54a6e9485470e7c2385"
   },
   "source": [
    "This result is not very good and gives us a mean absolute error just above 20000 dollars. I beleive this model performs bad due to the fact that we have a quite small data-set becuase a neural network performs the best when having a big dataset. "
   ]
  },
  {
   "cell_type": "code",
   "execution_count": 16,
   "metadata": {
    "_uuid": "656ac4cee8aba9da1488ad0d24e7dfdba16cf3bd",
    "execution": {
     "iopub.execute_input": "2022-11-28T16:10:47.429098Z",
     "iopub.status.busy": "2022-11-28T16:10:47.428558Z",
     "iopub.status.idle": "2022-11-28T16:10:47.539216Z",
     "shell.execute_reply": "2022-11-28T16:10:47.537734Z",
     "shell.execute_reply.started": "2022-11-28T16:10:47.429039Z"
    }
   },
   "outputs": [],
   "source": [
    "# Read in train data\n",
    "try:\n",
    "    df_listings = pd.read_csv('untidy_df_listings_v06.csv', index_col=0)\n",
    "except:\n",
    "    !wget https://raw.githubusercontent.com/jayportfolio/capstone_streamlit/main/data/final/untidy_df_listings_v06.csv\n",
    "    df_listings = pd.read_csv('untidy_df_listings_v06.csv', index_col=0)"
   ]
  },
  {
   "cell_type": "code",
   "execution_count": 17,
   "metadata": {
    "execution": {
     "iopub.execute_input": "2022-11-28T16:10:47.540845Z",
     "iopub.status.busy": "2022-11-28T16:10:47.540539Z",
     "iopub.status.idle": "2022-11-28T16:10:47.550026Z",
     "shell.execute_reply": "2022-11-28T16:10:47.548369Z",
     "shell.execute_reply.started": "2022-11-28T16:10:47.540819Z"
    }
   },
   "outputs": [],
   "source": [
    "scale = StandardScaler()\n",
    "X_test = scale.fit_transform(X_test)"
   ]
  },
  {
   "cell_type": "code",
   "execution_count": 18,
   "metadata": {
    "execution": {
     "iopub.execute_input": "2022-11-28T16:10:47.551664Z",
     "iopub.status.busy": "2022-11-28T16:10:47.551385Z",
     "iopub.status.idle": "2022-11-28T16:10:47.801285Z",
     "shell.execute_reply": "2022-11-28T16:10:47.799138Z",
     "shell.execute_reply.started": "2022-11-28T16:10:47.551633Z"
    }
   },
   "outputs": [
    {
     "name": "stdout",
     "output_type": "stream",
     "text": [
      "9/9 [==============================] - 0s 3ms/step\n"
     ]
    },
    {
     "data": {
      "text/html": [
       "<div>\n",
       "<style scoped>\n",
       "    .dataframe tbody tr th:only-of-type {\n",
       "        vertical-align: middle;\n",
       "    }\n",
       "\n",
       "    .dataframe tbody tr th {\n",
       "        vertical-align: top;\n",
       "    }\n",
       "\n",
       "    .dataframe thead th {\n",
       "        text-align: right;\n",
       "    }\n",
       "</style>\n",
       "<table border=\"1\" class=\"dataframe\">\n",
       "  <thead>\n",
       "    <tr style=\"text-align: right;\">\n",
       "      <th></th>\n",
       "      <th>actual</th>\n",
       "      <th>predicted</th>\n",
       "      <th>difference</th>\n",
       "      <th>diff 1 %</th>\n",
       "      <th>diff 2 %</th>\n",
       "    </tr>\n",
       "  </thead>\n",
       "  <tbody>\n",
       "    <tr>\n",
       "      <th>190</th>\n",
       "      <td>100000.0</td>\n",
       "      <td>674027.06250</td>\n",
       "      <td>574027.06250</td>\n",
       "      <td>574.027062</td>\n",
       "      <td>85.163800</td>\n",
       "    </tr>\n",
       "    <tr>\n",
       "      <th>163</th>\n",
       "      <td>150000.0</td>\n",
       "      <td>856870.37500</td>\n",
       "      <td>706870.37500</td>\n",
       "      <td>471.246917</td>\n",
       "      <td>82.494435</td>\n",
       "    </tr>\n",
       "    <tr>\n",
       "      <th>147</th>\n",
       "      <td>187500.0</td>\n",
       "      <td>898433.25000</td>\n",
       "      <td>710933.25000</td>\n",
       "      <td>379.164400</td>\n",
       "      <td>79.130336</td>\n",
       "    </tr>\n",
       "    <tr>\n",
       "      <th>220</th>\n",
       "      <td>152500.0</td>\n",
       "      <td>685706.68750</td>\n",
       "      <td>533206.68750</td>\n",
       "      <td>349.643730</td>\n",
       "      <td>77.760170</td>\n",
       "    </tr>\n",
       "    <tr>\n",
       "      <th>178</th>\n",
       "      <td>260000.0</td>\n",
       "      <td>900052.87500</td>\n",
       "      <td>640052.87500</td>\n",
       "      <td>246.174183</td>\n",
       "      <td>71.112808</td>\n",
       "    </tr>\n",
       "    <tr>\n",
       "      <th>...</th>\n",
       "      <td>...</td>\n",
       "      <td>...</td>\n",
       "      <td>...</td>\n",
       "      <td>...</td>\n",
       "      <td>...</td>\n",
       "    </tr>\n",
       "    <tr>\n",
       "      <th>5</th>\n",
       "      <td>350000.0</td>\n",
       "      <td>348638.87500</td>\n",
       "      <td>1361.12500</td>\n",
       "      <td>0.388893</td>\n",
       "      <td>0.390411</td>\n",
       "    </tr>\n",
       "    <tr>\n",
       "      <th>67</th>\n",
       "      <td>400000.0</td>\n",
       "      <td>398749.12500</td>\n",
       "      <td>1250.87500</td>\n",
       "      <td>0.312719</td>\n",
       "      <td>0.313700</td>\n",
       "    </tr>\n",
       "    <tr>\n",
       "      <th>145</th>\n",
       "      <td>395000.0</td>\n",
       "      <td>395371.59375</td>\n",
       "      <td>371.59375</td>\n",
       "      <td>0.094074</td>\n",
       "      <td>0.093986</td>\n",
       "    </tr>\n",
       "    <tr>\n",
       "      <th>157</th>\n",
       "      <td>370000.0</td>\n",
       "      <td>369677.59375</td>\n",
       "      <td>322.40625</td>\n",
       "      <td>0.087137</td>\n",
       "      <td>0.087213</td>\n",
       "    </tr>\n",
       "    <tr>\n",
       "      <th>175</th>\n",
       "      <td>350000.0</td>\n",
       "      <td>350159.28125</td>\n",
       "      <td>159.28125</td>\n",
       "      <td>0.045509</td>\n",
       "      <td>0.045488</td>\n",
       "    </tr>\n",
       "  </tbody>\n",
       "</table>\n",
       "<p>271 rows × 5 columns</p>\n",
       "</div>"
      ],
      "text/plain": [
       "       actual     predicted    difference    diff 1 %   diff 2 %\n",
       "190  100000.0  674027.06250  574027.06250  574.027062  85.163800\n",
       "163  150000.0  856870.37500  706870.37500  471.246917  82.494435\n",
       "147  187500.0  898433.25000  710933.25000  379.164400  79.130336\n",
       "220  152500.0  685706.68750  533206.68750  349.643730  77.760170\n",
       "178  260000.0  900052.87500  640052.87500  246.174183  71.112808\n",
       "..        ...           ...           ...         ...        ...\n",
       "5    350000.0  348638.87500    1361.12500    0.388893   0.390411\n",
       "67   400000.0  398749.12500    1250.87500    0.312719   0.313700\n",
       "145  395000.0  395371.59375     371.59375    0.094074   0.093986\n",
       "157  370000.0  369677.59375     322.40625    0.087137   0.087213\n",
       "175  350000.0  350159.28125     159.28125    0.045509   0.045488\n",
       "\n",
       "[271 rows x 5 columns]"
      ]
     },
     "execution_count": 18,
     "metadata": {},
     "output_type": "execute_result"
    }
   ],
   "source": [
    "y_pred = model.predict(X_test)\n",
    "\n",
    "from pandas import DataFrame\n",
    "\n",
    "compare = np.hstack((y_test.reshape(-1,1), y_pred.reshape(-1,1)))\n",
    "compare_df = DataFrame(compare, columns=['actual', 'predicted'])\n",
    "compare_df['difference'] = abs(compare_df['actual'] - compare_df['predicted'])\n",
    "compare_df['diff 1 %'] = abs((compare_df['actual'] - compare_df['predicted']) / compare_df['actual'] * 100)\n",
    "compare_df['diff 2 %'] = abs((compare_df['actual'] - compare_df['predicted']) / compare_df['predicted']) * 100\n",
    "compare_df.sort_values(\"diff 1 %\", ascending=False)"
   ]
  },
  {
   "cell_type": "code",
   "execution_count": 19,
   "metadata": {
    "execution": {
     "iopub.execute_input": "2022-11-28T16:10:47.805598Z",
     "iopub.status.busy": "2022-11-28T16:10:47.803568Z",
     "iopub.status.idle": "2022-11-28T16:10:47.991864Z",
     "shell.execute_reply": "2022-11-28T16:10:47.990061Z",
     "shell.execute_reply.started": "2022-11-28T16:10:47.805526Z"
    }
   },
   "outputs": [
    {
     "data": {
      "image/png": "[encoded data removed]",
      "text/plain": [
       "<Figure size 432x288 with 1 Axes>"
      ]
     },
     "metadata": {
      "needs_background": "light"
     },
     "output_type": "display_data"
    }
   ],
   "source": [
    "fig, ax = plt.subplots()\n",
    "ax.scatter(y_test, y_pred, edgecolors=(0, 0, 1))\n",
    "ax.plot([y_test.min(), y_test.max()], [y_test.min(), y_test.max()], 'r--', lw=3)\n",
    "ax.set_ylabel('Predicted')\n",
    "ax.set_xlabel('Actual')\n",
    "plt.ticklabel_format(style='plain')\n",
    "plt.show()"
   ]
  },
  {
   "cell_type": "code",
   "execution_count": null,
   "metadata": {},
   "outputs": [],
   "source": []
  }
 ],
 "metadata": {
  "kernelspec": {
   "display_name": "Python 3 (ipykernel)",
   "language": "python",
   "name": "python3"
  },
  "language_info": {
   "codemirror_mode": {
    "name": "ipython",
    "version": 3
   },
   "file_extension": ".py",
   "mimetype": "text/x-python",
   "name": "python",
   "nbconvert_exporter": "python",
   "pygments_lexer": "ipython3",
   "version": "3.9.13"
  }
 },
 "nbformat": 4,
 "nbformat_minor": 4
}
