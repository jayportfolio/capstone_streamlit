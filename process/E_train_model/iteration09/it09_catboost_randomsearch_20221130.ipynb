{
 "cells": [
  {
   "cell_type": "code",
   "execution_count": 1,
   "metadata": {
    "execution": {
     "iopub.execute_input": "2022-11-16T13:53:27.249807Z",
     "iopub.status.busy": "2022-11-16T13:53:27.249148Z",
     "iopub.status.idle": "2022-11-16T13:53:27.255429Z",
     "shell.execute_reply": "2022-11-16T13:53:27.254275Z",
     "shell.execute_reply.started": "2022-11-16T13:53:27.249780Z"
    }
   },
   "outputs": [
    {
     "name": "stdout",
     "output_type": "stream",
     "text": [
      "ALGORITHM: CatBoost\n",
      "ALGORITHM_DETAIL: random search\n",
      "DATA_DETAIL: ['no dummies']\n",
      "DATA VERSION: 09\n"
     ]
    }
   ],
   "source": [
    "#ALGORITHM = 'Linear Regression (Ridge)'\n",
    "#ALGORITHM = 'KNN'\n",
    "#ALGORITHM = 'Decision Tree'\n",
    "#ALGORITHM = 'Random Forest'\n",
    "#ALGORITHM = 'XG Boost'\n",
    "ALGORITHM = 'CatBoost'\n",
    "#ALGORITHM = 'Light Gradient Boosting'\n",
    "\n",
    "ALGORITHM_DETAIL = 'random search'\n",
    "#DATA_DETAIL = []\n",
    "#DATA_DETAIL = ['explore param']\n",
    "#DATA_DETAIL = ['no scale','no dummies']\n",
    "DATA_DETAIL = ['no dummies'] if ALGORITHM.lower() == 'catboost' else ''\n",
    "VERSION = '09'\n",
    "#VERSION = '09'\n",
    "\n",
    "RANDOM_STATE = 101\n",
    "TRAINING_SIZE = 0.9\n",
    "\n",
    "CROSS_VALIDATION_SCORING = 'r2'\n",
    "\n",
    "print(f'ALGORITHM: {ALGORITHM}')\n",
    "print(f'ALGORITHM_DETAIL: {ALGORITHM_DETAIL}')\n",
    "print(f'DATA_DETAIL: {DATA_DETAIL}')\n",
    "print(f'DATA VERSION: {VERSION}')\n"
   ]
  },
  {
   "cell_type": "code",
   "execution_count": 2,
   "metadata": {
    "execution": {
     "iopub.execute_input": "2022-11-16T13:53:27.262780Z",
     "iopub.status.busy": "2022-11-16T13:53:27.262116Z",
     "iopub.status.idle": "2022-11-16T13:53:43.374795Z",
     "shell.execute_reply": "2022-11-16T13:53:43.374038Z",
     "shell.execute_reply.started": "2022-11-16T13:53:27.262757Z"
    }
   },
   "outputs": [
    {
     "name": "stdout",
     "output_type": "stream",
     "text": [
      "Requirement already satisfied: catboost in /usr/local/lib/python3.9/dist-packages (1.1.1)\r\n",
      "Requirement already satisfied: graphviz in /usr/local/lib/python3.9/dist-packages (from catboost) (0.20.1)\r\n",
      "Requirement already satisfied: plotly in /usr/local/lib/python3.9/dist-packages (from catboost) (5.11.0)\r\n",
      "Requirement already satisfied: matplotlib in /usr/local/lib/python3.9/dist-packages (from catboost) (3.5.2)\r\n",
      "Requirement already satisfied: scipy in /usr/local/lib/python3.9/dist-packages (from catboost) (1.8.1)\r\n",
      "Requirement already satisfied: pandas>=0.24.0 in /usr/local/lib/python3.9/dist-packages (from catboost) (1.4.3)\r\n",
      "Requirement already satisfied: numpy>=1.16.0 in /usr/local/lib/python3.9/dist-packages (from catboost) (1.23.1)\r\n",
      "Requirement already satisfied: six in /usr/lib/python3/dist-packages (from catboost) (1.14.0)\r\n",
      "Requirement already satisfied: pytz>=2020.1 in /usr/local/lib/python3.9/dist-packages (from pandas>=0.24.0->catboost) (2022.1)\r\n",
      "Requirement already satisfied: python-dateutil>=2.8.1 in /usr/local/lib/python3.9/dist-packages (from pandas>=0.24.0->catboost) (2.8.2)\r\n",
      "Requirement already satisfied: cycler>=0.10 in /usr/local/lib/python3.9/dist-packages (from matplotlib->catboost) (0.11.0)\r\n",
      "Requirement already satisfied: packaging>=20.0 in /usr/local/lib/python3.9/dist-packages (from matplotlib->catboost) (21.3)\r\n",
      "Requirement already satisfied: pillow>=6.2.0 in /usr/local/lib/python3.9/dist-packages (from matplotlib->catboost) (9.2.0)\r\n",
      "Requirement already satisfied: kiwisolver>=1.0.1 in /usr/local/lib/python3.9/dist-packages (from matplotlib->catboost) (1.4.3)\r\n",
      "Requirement already satisfied: fonttools>=4.22.0 in /usr/local/lib/python3.9/dist-packages (from matplotlib->catboost) (4.34.4)\r\n",
      "Requirement already satisfied: pyparsing>=2.2.1 in /usr/local/lib/python3.9/dist-packages (from matplotlib->catboost) (3.0.9)\r\n",
      "Requirement already satisfied: tenacity>=6.2.0 in /usr/local/lib/python3.9/dist-packages (from plotly->catboost) (8.1.0)\r\n",
      "\u001B[33mWARNING: Running pip as the 'root' user can result in broken permissions and conflicting behaviour with the system package manager. It is recommended to use a virtual environment instead: https://pip.pypa.io/warnings/venv\u001B[0m\u001B[33m\r\n",
      "\u001B[0mNote: you may need to restart the kernel to use updated packages.\n"
     ]
    }
   ],
   "source": [
    "if ALGORITHM == 'CatBoost':\n",
    "    %pip install catboost\n",
    "\n",
    "if ALGORITHM == 'Light Gradient Boosting':\n",
    "    %pip install lightgbm"
   ]
  },
  {
   "cell_type": "code",
   "execution_count": 2,
   "outputs": [],
   "source": [],
   "metadata": {
    "collapsed": false
   }
  },
  {
   "cell_type": "code",
   "execution_count": 3,
   "metadata": {
    "execution": {
     "iopub.execute_input": "2022-11-16T13:53:43.376775Z",
     "iopub.status.busy": "2022-11-16T13:53:43.376510Z",
     "iopub.status.idle": "2022-11-16T13:53:45.085035Z",
     "shell.execute_reply": "2022-11-16T13:53:45.084293Z",
     "shell.execute_reply.started": "2022-11-16T13:53:43.376747Z"
    }
   },
   "outputs": [
    {
     "name": "stdout",
     "output_type": "stream",
     "text": [
      "{'notebook_environment': 'gradient', 'use_gpu': True, 'debug_mode': False, 'quick_mode': False, 'quick_override_cv_splits': 2, 'quick_override_n_iter': 10, 'quick_override_n_jobs': 3}\n"
     ]
    }
   ],
   "source": [
    "from sklearn.impute import SimpleImputer\n",
    "import pandas as pd\n",
    "from sklearn.model_selection import train_test_split, RandomizedSearchCV, GridSearchCV\n",
    "import numpy as np\n",
    "from pandas import DataFrame\n",
    "import math\n",
    "from termcolor import colored\n",
    "from time import time\n",
    "import sklearn\n",
    "from sklearn.metrics import r2_score, mean_absolute_error, mean_squared_error\n",
    "from sklearn.metrics import r2_score\n",
    "import seaborn as sns\n",
    "import pickle\n",
    "\n",
    "import json\n",
    "from datetime import datetime\n",
    "import matplotlib.pyplot as plt\n",
    "\n",
    "with open('../../z_envs/_envs.json') as f:\n",
    "    env_vars = json.loads(f.read())\n",
    "print(env_vars)\n",
    "\n",
    "try:\n",
    "    import google.colab\n",
    "\n",
    "    run_env = 'colab'\n",
    "except:\n",
    "    try:\n",
    "        run_env = env_vars['notebook_environment']\n",
    "    except:\n",
    "        run_env = 'unknown'\n",
    "\n",
    "use_gpu = env_vars.get('use_gpu', False)\n",
    "debug_mode = env_vars.get('debug_mode', False)\n",
    "quick_mode = env_vars.get('quick_mode', False)\n",
    "OVERRIDE_CV = env_vars.get('quick_override_cv_splits', None) if quick_mode else None\n",
    "OVERRIDE_N_ITER = env_vars.get('quick_override_n_iter', None) if quick_mode else None\n",
    "OVERRIDE_JOBS = env_vars.get('quick_override_n_jobs', None) if quick_mode else None\n",
    "#if quick_mode:OVERRIDE_CV, OVERRIDE_N_ITER = 2, 10\n",
    "\n",
    "already_timed = False\n",
    "no_dummies = 'no dummies' in DATA_DETAIL\n",
    "no_scaling = 'no scaling' in DATA_DETAIL\n",
    "#not_catboost = 'catboost' not in ALGORITHM.lower() or not no_dummies\n",
    "not_catboost = 'catboost' not in ALGORITHM.lower()\n",
    "\n",
    "if run_env not in ['colab', 'gradient', 'cloud']:\n",
    "    cloud_run = False\n",
    "    from functions_b__get_the_data_20221116 import set_csv_directory\n",
    "    set_csv_directory('final_split')\n",
    "else:\n",
    "    cloud_run = True\n",
    "    import sys\n",
    "    import os\n",
    "\n",
    "    module_path = os.path.abspath(os.path.join('..', '..', '..'))\n",
    "    if module_path not in sys.path:\n",
    "        #sys.path.append(module_path+\"\\\\zfunctions\")\n",
    "        sys.path.append(module_path)\n",
    "\n",
    "from functions_0__common_20221116 import get_columns\n",
    "from functions_b__get_the_data_20221116 import get_combined_dataset\n",
    "from functions_d1__prepare_cleanse_data_20221116 import tidy_dataset\n",
    "from functions_d2__transform_enrich_data_20221116 import preprocess, feature_engineer\n",
    "from functions_d3__prepare_store_data_20221116 import create_train_test_data\n",
    "from functions_e__train_model_20221116 import get_chosen_model, make_modelling_pipeline, get_cv_params, fit_model_with_cross_validation, get_hyperparameters\n",
    "from functions_f_evaluate_model_20221116 import get_best_estimator_average_time, get_results, update_results\n",
    "\n"
   ]
  },
  {
   "cell_type": "code",
   "execution_count": 4,
   "outputs": [],
   "source": [
    "#OVERRIDE_N_ITER = 5"
   ],
   "metadata": {
    "collapsed": false
   }
  },
  {
   "cell_type": "code",
   "execution_count": 5,
   "metadata": {
    "execution": {
     "iopub.execute_input": "2022-11-16T13:53:45.086382Z",
     "iopub.status.busy": "2022-11-16T13:53:45.086022Z",
     "iopub.status.idle": "2022-11-16T13:53:45.092108Z",
     "shell.execute_reply": "2022-11-16T13:53:45.091330Z",
     "shell.execute_reply.started": "2022-11-16T13:53:45.086361Z"
    }
   },
   "outputs": [
    {
     "name": "stdout",
     "output_type": "stream",
     "text": [
      "\u001B[34mfeatures\u001B[0m ->  ['bedrooms', 'bathrooms', 'nearestStation', 'location.latitude', 'location.longitude', 'latitude_deviation', 'longitude_deviation', 'tenure.tenureType']\n",
      "\u001B[1m\u001B[32mlabel\u001B[0m ->  Price\n"
     ]
    }
   ],
   "source": [
    "#cutdown_rows = 1000\n",
    "cutdown_rows = 0\n",
    "\n",
    "LABEL = 'Price'\n",
    "\n",
    "columns, booleans, floats, categories, custom, wildcard = get_columns(version=VERSION)\n",
    "\n",
    "print(colored(f\"features\", \"blue\"), \"-> \", columns)\n",
    "columns.insert(0, LABEL)\n",
    "print(colored(f\"label\", \"green\", None, ['bold']), \"-> \", LABEL)"
   ]
  },
  {
   "cell_type": "code",
   "execution_count": 6,
   "metadata": {
    "collapsed": false,
    "execution": {
     "iopub.execute_input": "2022-11-29T21:13:26.061510Z",
     "iopub.status.busy": "2022-11-29T21:13:26.061266Z",
     "iopub.status.idle": "2022-11-29T21:13:26.076565Z",
     "shell.execute_reply": "2022-11-29T21:13:26.075207Z",
     "shell.execute_reply.started": "2022-11-29T21:13:26.061489Z"
    },
    "jupyter": {
     "outputs_hidden": false
    }
   },
   "outputs": [
    {
     "data": {
      "text/plain": "Pipeline(steps=[('std_scaler', StandardScaler()), ('model', None)])",
      "text/html": "<style>#sk-container-id-1 {color: black;background-color: white;}#sk-container-id-1 pre{padding: 0;}#sk-container-id-1 div.sk-toggleable {background-color: white;}#sk-container-id-1 label.sk-toggleable__label {cursor: pointer;display: block;width: 100%;margin-bottom: 0;padding: 0.3em;box-sizing: border-box;text-align: center;}#sk-container-id-1 label.sk-toggleable__label-arrow:before {content: \"▸\";float: left;margin-right: 0.25em;color: #696969;}#sk-container-id-1 label.sk-toggleable__label-arrow:hover:before {color: black;}#sk-container-id-1 div.sk-estimator:hover label.sk-toggleable__label-arrow:before {color: black;}#sk-container-id-1 div.sk-toggleable__content {max-height: 0;max-width: 0;overflow: hidden;text-align: left;background-color: #f0f8ff;}#sk-container-id-1 div.sk-toggleable__content pre {margin: 0.2em;color: black;border-radius: 0.25em;background-color: #f0f8ff;}#sk-container-id-1 input.sk-toggleable__control:checked~div.sk-toggleable__content {max-height: 200px;max-width: 100%;overflow: auto;}#sk-container-id-1 input.sk-toggleable__control:checked~label.sk-toggleable__label-arrow:before {content: \"▾\";}#sk-container-id-1 div.sk-estimator input.sk-toggleable__control:checked~label.sk-toggleable__label {background-color: #d4ebff;}#sk-container-id-1 div.sk-label input.sk-toggleable__control:checked~label.sk-toggleable__label {background-color: #d4ebff;}#sk-container-id-1 input.sk-hidden--visually {border: 0;clip: rect(1px 1px 1px 1px);clip: rect(1px, 1px, 1px, 1px);height: 1px;margin: -1px;overflow: hidden;padding: 0;position: absolute;width: 1px;}#sk-container-id-1 div.sk-estimator {font-family: monospace;background-color: #f0f8ff;border: 1px dotted black;border-radius: 0.25em;box-sizing: border-box;margin-bottom: 0.5em;}#sk-container-id-1 div.sk-estimator:hover {background-color: #d4ebff;}#sk-container-id-1 div.sk-parallel-item::after {content: \"\";width: 100%;border-bottom: 1px solid gray;flex-grow: 1;}#sk-container-id-1 div.sk-label:hover label.sk-toggleable__label {background-color: #d4ebff;}#sk-container-id-1 div.sk-serial::before {content: \"\";position: absolute;border-left: 1px solid gray;box-sizing: border-box;top: 0;bottom: 0;left: 50%;z-index: 0;}#sk-container-id-1 div.sk-serial {display: flex;flex-direction: column;align-items: center;background-color: white;padding-right: 0.2em;padding-left: 0.2em;position: relative;}#sk-container-id-1 div.sk-item {position: relative;z-index: 1;}#sk-container-id-1 div.sk-parallel {display: flex;align-items: stretch;justify-content: center;background-color: white;position: relative;}#sk-container-id-1 div.sk-item::before, #sk-container-id-1 div.sk-parallel-item::before {content: \"\";position: absolute;border-left: 1px solid gray;box-sizing: border-box;top: 0;bottom: 0;left: 50%;z-index: -1;}#sk-container-id-1 div.sk-parallel-item {display: flex;flex-direction: column;z-index: 1;position: relative;background-color: white;}#sk-container-id-1 div.sk-parallel-item:first-child::after {align-self: flex-end;width: 50%;}#sk-container-id-1 div.sk-parallel-item:last-child::after {align-self: flex-start;width: 50%;}#sk-container-id-1 div.sk-parallel-item:only-child::after {width: 0;}#sk-container-id-1 div.sk-dashed-wrapped {border: 1px dashed gray;margin: 0 0.4em 0.5em 0.4em;box-sizing: border-box;padding-bottom: 0.4em;background-color: white;}#sk-container-id-1 div.sk-label label {font-family: monospace;font-weight: bold;display: inline-block;line-height: 1.2em;}#sk-container-id-1 div.sk-label-container {text-align: center;}#sk-container-id-1 div.sk-container {/* jupyter's `normalize.less` sets `[hidden] { display: none; }` but bootstrap.min.css set `[hidden] { display: none !important; }` so we also need the `!important` here to be able to override the default hidden behavior on the sphinx rendered scikit-learn.org. See: https://github.com/scikit-learn/scikit-learn/issues/21755 */display: inline-block !important;position: relative;}#sk-container-id-1 div.sk-text-repr-fallback {display: none;}</style><div id=\"sk-container-id-1\" class=\"sk-top-container\"><div class=\"sk-text-repr-fallback\"><pre>Pipeline(steps=[(&#x27;std_scaler&#x27;, StandardScaler()), (&#x27;model&#x27;, None)])</pre><b>In a Jupyter environment, please rerun this cell to show the HTML representation or trust the notebook. <br />On GitHub, the HTML representation is unable to render, please try loading this page with nbviewer.org.</b></div><div class=\"sk-container\" hidden><div class=\"sk-item sk-dashed-wrapped\"><div class=\"sk-label-container\"><div class=\"sk-label sk-toggleable\"><input class=\"sk-toggleable__control sk-hidden--visually\" id=\"sk-estimator-id-1\" type=\"checkbox\" ><label for=\"sk-estimator-id-1\" class=\"sk-toggleable__label sk-toggleable__label-arrow\">Pipeline</label><div class=\"sk-toggleable__content\"><pre>Pipeline(steps=[(&#x27;std_scaler&#x27;, StandardScaler()), (&#x27;model&#x27;, None)])</pre></div></div></div><div class=\"sk-serial\"><div class=\"sk-item\"><div class=\"sk-estimator sk-toggleable\"><input class=\"sk-toggleable__control sk-hidden--visually\" id=\"sk-estimator-id-2\" type=\"checkbox\" ><label for=\"sk-estimator-id-2\" class=\"sk-toggleable__label sk-toggleable__label-arrow\">StandardScaler</label><div class=\"sk-toggleable__content\"><pre>StandardScaler()</pre></div></div></div><div class=\"sk-item\"><div class=\"sk-estimator sk-toggleable\"><input class=\"sk-toggleable__control sk-hidden--visually\" id=\"sk-estimator-id-3\" type=\"checkbox\" ><label for=\"sk-estimator-id-3\" class=\"sk-toggleable__label sk-toggleable__label-arrow\">None</label><div class=\"sk-toggleable__content\"><pre>None</pre></div></div></div></div></div></div></div>"
     },
     "execution_count": 6,
     "metadata": {},
     "output_type": "execute_result"
    }
   ],
   "source": [
    "from sklearn.pipeline import Pipeline\n",
    "from sklearn.preprocessing import MinMaxScaler, StandardScaler\n",
    "\n",
    "\n",
    "def make_pipeline():\n",
    "    return Pipeline([\n",
    "        #('mms', MinMaxScaler()),\n",
    "        ('std_scaler', StandardScaler()),\n",
    "        ('model', get_chosen_model(ALGORITHM))\n",
    "    ])\n",
    "\n",
    "\n",
    "starter_pipe = make_pipeline()\n",
    "starter_pipe"
   ]
  },
  {
   "cell_type": "code",
   "execution_count": 7,
   "metadata": {
    "execution": {
     "iopub.execute_input": "2022-11-16T13:53:45.125489Z",
     "iopub.status.busy": "2022-11-16T13:53:45.125277Z",
     "iopub.status.idle": "2022-11-16T13:53:45.130895Z",
     "shell.execute_reply": "2022-11-16T13:53:45.130188Z",
     "shell.execute_reply.started": "2022-11-16T13:53:45.125470Z"
    }
   },
   "outputs": [],
   "source": [
    "def get_source_dataframe(rows=cutdown_rows, folder_prefix='../../../'):\n",
    "    retrieval_type = None\n",
    "\n",
    "    filename = f'df_listings_v{VERSION}.csv'\n",
    "    remote_pathname = f'https://raw.githubusercontent.com/jayportfolio/capstone_streamlit/main/data/final/{filename}'\n",
    "    df_pathname_raw = folder_prefix + f'data/source/{filename}'\n",
    "    df_pathname_tidy = folder_prefix + f'data/final/{filename}'\n",
    "\n",
    "    if cloud_run:\n",
    "        inDF = pd.read_csv(remote_pathname, on_bad_lines='error', index_col=0)\n",
    "        retrieval_type = 'tidy'\n",
    "        print('loaded data from', folder_prefix + remote_pathname)\n",
    "    else:\n",
    "        inDF = pd.read_csv(df_pathname_tidy, on_bad_lines='error', index_col=0)\n",
    "        retrieval_type = 'tidy'\n",
    "        print('loaded data from', df_pathname_tidy)\n",
    "\n",
    "    if rows and rows > 0:\n",
    "        inDF = inDF[:rows]\n",
    "    return inDF, retrieval_type"
   ]
  },
  {
   "cell_type": "code",
   "execution_count": 8,
   "metadata": {
    "execution": {
     "iopub.execute_input": "2022-11-16T13:53:45.132049Z",
     "iopub.status.busy": "2022-11-16T13:53:45.131848Z",
     "iopub.status.idle": "2022-11-16T13:53:45.525582Z",
     "shell.execute_reply": "2022-11-16T13:53:45.524903Z",
     "shell.execute_reply.started": "2022-11-16T13:53:45.132030Z"
    }
   },
   "outputs": [
    {
     "name": "stdout",
     "output_type": "stream",
     "text": [
      "loaded data from ../../../https://raw.githubusercontent.com/jayportfolio/capstone_streamlit/main/data/final/df_listings_v09.csv\n",
      "(46871, 19)\n"
     ]
    }
   ],
   "source": [
    "df, retrieval_type = get_source_dataframe(folder_prefix='../../../')\n",
    "df_orig = df.copy()\n",
    "\n",
    "if retrieval_type != 'tidy':\n",
    "    df = tidy_dataset(df, version=int(VERSION))\n",
    "    df = feature_engineer(df, version=int(VERSION))\n",
    "\n",
    "    df = df[columns]\n",
    "\n",
    "print(df.shape)"
   ]
  },
  {
   "cell_type": "code",
   "execution_count": 9,
   "metadata": {
    "execution": {
     "iopub.execute_input": "2022-11-16T13:53:45.526718Z",
     "iopub.status.busy": "2022-11-16T13:53:45.526472Z",
     "iopub.status.idle": "2022-11-16T13:53:45.548777Z",
     "shell.execute_reply": "2022-11-16T13:53:45.548195Z",
     "shell.execute_reply.started": "2022-11-16T13:53:45.526696Z"
    }
   },
   "outputs": [
    {
     "data": {
      "text/plain": "             Price  bedrooms  bathrooms  nearestStation  location.latitude  \\\n14520525  550000.0       3.0        1.0        0.274316          51.529950   \n27953107  400000.0       2.0        2.0        0.305845          51.549390   \n33593487  579950.0       2.0        1.0        0.438045          51.447180   \n35271294  370000.0       2.0        1.0        0.399307          51.449568   \n35429088  599950.0       2.0        1.0        0.238187          51.577030   \n44749111  475000.0       2.0        1.0        0.410550          51.370050   \n46204665  435000.0       3.0        2.0        0.314779          51.539070   \n49020666  200000.0       1.0        1.0        0.875911          51.539959   \n49036279  275000.0       2.0        1.0        0.474368          51.541780   \n49303873  450000.0       3.0        2.0        0.577040          51.524880   \n52064391  349950.0       2.0        2.0        0.212734          51.470800   \n52187854  450000.0       1.0        1.0        0.446802          51.527199   \n52675628  490000.0       2.0        2.0        0.215040          51.501114   \n52845963  200000.0       2.0        1.0        0.650562          51.398040   \n52913496  220000.0       1.0        1.0        0.945991          51.539383   \n53609433  489995.0       1.0        1.0        0.087081          51.532620   \n53649578  284950.0       1.0        1.0        0.806597          51.479890   \n53938989  450000.0       2.0        1.0        0.775203          51.658287   \n54713232  332000.0       2.0        1.0        0.319226          51.612300   \n54904122  365000.0       2.0        1.0        0.260722          51.593595   \n54991934  430000.0       3.0        1.0        0.497268          51.528720   \n55043230  260000.0       1.0        1.0        0.384607          51.544430   \n55187658  430000.0       2.0        2.0        0.289033          51.507570   \n55531367  599950.0       2.0        1.0        0.406725          51.467410   \n55768232  550000.0       2.0        1.0        0.478349          51.472890   \n55805965  280000.0       2.0        1.0        0.742859          51.520910   \n55839051  599950.0       2.0        1.0        0.259168          51.579186   \n55940994  385000.0       2.0        2.0        0.403987          51.376930   \n56449305  380000.0       2.0        1.0        0.310271          51.600483   \n57221413  475000.0       3.0        2.0        0.409784          51.497260   \n\n          location.longitude  latitude_deviation  longitude_deviation  \\\n14520525           -0.207020            0.030230             0.102600   \n27953107           -0.482600            0.049670             0.378180   \n33593487           -0.338770            0.052540             0.234350   \n35271294           -0.140154            0.050152             0.035734   \n35429088           -0.141230            0.077310             0.036810   \n44749111           -0.212410            0.129670             0.107990   \n46204665           -0.198935            0.039350             0.094515   \n49020666           -0.380863            0.040239             0.276443   \n49036279            0.037890            0.042060             0.142310   \n49303873            0.187200            0.025160             0.291620   \n52064391           -0.361820            0.028920             0.257400   \n52187854           -0.202898            0.027479             0.098478   \n52675628            0.026315            0.001394             0.130735   \n52845963           -0.076812            0.101680             0.027608   \n52913496           -0.382239            0.039663             0.277819   \n53609433           -0.107860            0.032900             0.003440   \n53649578           -0.078500            0.019830             0.025920   \n53938989           -0.207902            0.158567             0.103482   \n54713232           -0.119860            0.112580             0.015440   \n54904122            0.022046            0.093875             0.126466   \n54991934            0.039180            0.029000             0.143600   \n55043230            0.014500            0.044710             0.118920   \n55187658            0.078030            0.007850             0.182450   \n55531367           -0.079170            0.032310             0.025250   \n55768232           -0.078940            0.026830             0.025480   \n55805965            0.022680            0.021190             0.127100   \n55839051           -0.209020            0.079466             0.104600   \n55940994           -0.238870            0.122790             0.134450   \n56449305           -0.062096            0.100763             0.042324   \n57221413           -0.422530            0.002460             0.318110   \n\n          tenure.tenureType  feature__balcony  feature__chain free  \\\n14520525          LEASEHOLD                 0                    0   \n27953107          LEASEHOLD                 1                    0   \n33593487           FREEHOLD                 0                    0   \n35271294          LEASEHOLD                 1                    0   \n35429088                NaN                 0                    0   \n44749111           FREEHOLD                 0                    0   \n46204665          LEASEHOLD                 0                    0   \n49020666          LEASEHOLD                 0                    0   \n49036279          LEASEHOLD                 0                    0   \n49303873           FREEHOLD                 0                    0   \n52064391          LEASEHOLD                 0                    0   \n52187854          LEASEHOLD                 0                    0   \n52675628                NaN                 0                    0   \n52845963          LEASEHOLD                 0                    0   \n52913496          LEASEHOLD                 0                    1   \n53609433          LEASEHOLD                 0                    0   \n53649578                NaN                 0                    0   \n53938989           FREEHOLD                 0                    0   \n54713232  SHARE_OF_FREEHOLD                 0                    0   \n54904122  SHARE_OF_FREEHOLD                 0                    0   \n54991934           FREEHOLD                 0                    0   \n55043230          LEASEHOLD                 0                    0   \n55187658          LEASEHOLD                 0                    0   \n55531367                NaN                 1                    0   \n55768232                NaN                 0                    0   \n55805965          LEASEHOLD                 0                    0   \n55839051          LEASEHOLD                 0                    0   \n55940994          LEASEHOLD                 0                    0   \n56449305           FREEHOLD                 0                    0   \n57221413           FREEHOLD                 0                    0   \n\n          feature__no onward chain  feature__off street parking  \\\n14520525                         0                            0   \n27953107                         0                            0   \n33593487                         1                            0   \n35271294                         0                            0   \n35429088                         0                            0   \n44749111                         0                            0   \n46204665                         0                            0   \n49020666                         0                            0   \n49036279                         0                            0   \n49303873                         0                            0   \n52064391                         0                            0   \n52187854                         0                            0   \n52675628                         0                            0   \n52845963                         0                            0   \n52913496                         0                            0   \n53609433                         0                            0   \n53649578                         0                            0   \n53938989                         0                            0   \n54713232                         0                            0   \n54904122                         0                            0   \n54991934                         0                            0   \n55043230                         0                            0   \n55187658                         0                            0   \n55531367                         0                            0   \n55768232                         0                            0   \n55805965                         0                            0   \n55839051                         0                            0   \n55940994                         0                            0   \n56449305                         0                            0   \n57221413                         0                            0   \n\n          feature__one bedroom  feature__private balcony  \\\n14520525                     0                         1   \n27953107                     0                         0   \n33593487                     0                         0   \n35271294                     0                         0   \n35429088                     0                         0   \n44749111                     0                         0   \n46204665                     0                         0   \n49020666                     1                         0   \n49036279                     0                         0   \n49303873                     0                         0   \n52064391                     0                         1   \n52187854                     0                         0   \n52675628                     0                         0   \n52845963                     0                         0   \n52913496                     0                         0   \n53609433                     0                         0   \n53649578                     0                         0   \n53938989                     0                         0   \n54713232                     0                         0   \n54904122                     0                         0   \n54991934                     0                         0   \n55043230                     0                         0   \n55187658                     0                         0   \n55531367                     0                         0   \n55768232                     0                         0   \n55805965                     0                         0   \n55839051                     0                         0   \n55940994                     0                         0   \n56449305                     0                         0   \n57221413                     0                         0   \n\n          feature__share of freehold  feature__three bedrooms  \\\n14520525                           0                        0   \n27953107                           0                        0   \n33593487                           0                        0   \n35271294                           0                        0   \n35429088                           0                        0   \n44749111                           0                        0   \n46204665                           0                        1   \n49020666                           0                        0   \n49036279                           0                        0   \n49303873                           0                        0   \n52064391                           0                        0   \n52187854                           0                        0   \n52675628                           0                        0   \n52845963                           0                        0   \n52913496                           0                        0   \n53609433                           0                        0   \n53649578                           0                        0   \n53938989                           0                        0   \n54713232                           0                        0   \n54904122                           1                        0   \n54991934                           0                        0   \n55043230                           0                        0   \n55187658                           0                        0   \n55531367                           0                        0   \n55768232                           0                        0   \n55805965                           0                        0   \n55839051                           0                        0   \n55940994                           0                        0   \n56449305                           0                        0   \n57221413                           0                        1   \n\n          feature__two bedrooms  feature__two double bedrooms  \n14520525                      0                             0  \n27953107                      0                             1  \n33593487                      0                             0  \n35271294                      0                             0  \n35429088                      0                             0  \n44749111                      0                             0  \n46204665                      0                             0  \n49020666                      0                             0  \n49036279                      0                             0  \n49303873                      0                             0  \n52064391                      1                             0  \n52187854                      0                             0  \n52675628                      0                             0  \n52845963                      0                             0  \n52913496                      0                             0  \n53609433                      0                             0  \n53649578                      0                             0  \n53938989                      0                             0  \n54713232                      0                             0  \n54904122                      0                             0  \n54991934                      0                             0  \n55043230                      0                             0  \n55187658                      0                             0  \n55531367                      0                             1  \n55768232                      0                             0  \n55805965                      0                             0  \n55839051                      0                             0  \n55940994                      1                             0  \n56449305                      1                             0  \n57221413                      0                             0  ",
      "text/html": "<div>\n<style scoped>\n    .dataframe tbody tr th:only-of-type {\n        vertical-align: middle;\n    }\n\n    .dataframe tbody tr th {\n        vertical-align: top;\n    }\n\n    .dataframe thead th {\n        text-align: right;\n    }\n</style>\n<table border=\"1\" class=\"dataframe\">\n  <thead>\n    <tr style=\"text-align: right;\">\n      <th></th>\n      <th>Price</th>\n      <th>bedrooms</th>\n      <th>bathrooms</th>\n      <th>nearestStation</th>\n      <th>location.latitude</th>\n      <th>location.longitude</th>\n      <th>latitude_deviation</th>\n      <th>longitude_deviation</th>\n      <th>tenure.tenureType</th>\n      <th>feature__balcony</th>\n      <th>feature__chain free</th>\n      <th>feature__no onward chain</th>\n      <th>feature__off street parking</th>\n      <th>feature__one bedroom</th>\n      <th>feature__private balcony</th>\n      <th>feature__share of freehold</th>\n      <th>feature__three bedrooms</th>\n      <th>feature__two bedrooms</th>\n      <th>feature__two double bedrooms</th>\n    </tr>\n  </thead>\n  <tbody>\n    <tr>\n      <th>14520525</th>\n      <td>550000.0</td>\n      <td>3.0</td>\n      <td>1.0</td>\n      <td>0.274316</td>\n      <td>51.529950</td>\n      <td>-0.207020</td>\n      <td>0.030230</td>\n      <td>0.102600</td>\n      <td>LEASEHOLD</td>\n      <td>0</td>\n      <td>0</td>\n      <td>0</td>\n      <td>0</td>\n      <td>0</td>\n      <td>1</td>\n      <td>0</td>\n      <td>0</td>\n      <td>0</td>\n      <td>0</td>\n    </tr>\n    <tr>\n      <th>27953107</th>\n      <td>400000.0</td>\n      <td>2.0</td>\n      <td>2.0</td>\n      <td>0.305845</td>\n      <td>51.549390</td>\n      <td>-0.482600</td>\n      <td>0.049670</td>\n      <td>0.378180</td>\n      <td>LEASEHOLD</td>\n      <td>1</td>\n      <td>0</td>\n      <td>0</td>\n      <td>0</td>\n      <td>0</td>\n      <td>0</td>\n      <td>0</td>\n      <td>0</td>\n      <td>0</td>\n      <td>1</td>\n    </tr>\n    <tr>\n      <th>33593487</th>\n      <td>579950.0</td>\n      <td>2.0</td>\n      <td>1.0</td>\n      <td>0.438045</td>\n      <td>51.447180</td>\n      <td>-0.338770</td>\n      <td>0.052540</td>\n      <td>0.234350</td>\n      <td>FREEHOLD</td>\n      <td>0</td>\n      <td>0</td>\n      <td>1</td>\n      <td>0</td>\n      <td>0</td>\n      <td>0</td>\n      <td>0</td>\n      <td>0</td>\n      <td>0</td>\n      <td>0</td>\n    </tr>\n    <tr>\n      <th>35271294</th>\n      <td>370000.0</td>\n      <td>2.0</td>\n      <td>1.0</td>\n      <td>0.399307</td>\n      <td>51.449568</td>\n      <td>-0.140154</td>\n      <td>0.050152</td>\n      <td>0.035734</td>\n      <td>LEASEHOLD</td>\n      <td>1</td>\n      <td>0</td>\n      <td>0</td>\n      <td>0</td>\n      <td>0</td>\n      <td>0</td>\n      <td>0</td>\n      <td>0</td>\n      <td>0</td>\n      <td>0</td>\n    </tr>\n    <tr>\n      <th>35429088</th>\n      <td>599950.0</td>\n      <td>2.0</td>\n      <td>1.0</td>\n      <td>0.238187</td>\n      <td>51.577030</td>\n      <td>-0.141230</td>\n      <td>0.077310</td>\n      <td>0.036810</td>\n      <td>NaN</td>\n      <td>0</td>\n      <td>0</td>\n      <td>0</td>\n      <td>0</td>\n      <td>0</td>\n      <td>0</td>\n      <td>0</td>\n      <td>0</td>\n      <td>0</td>\n      <td>0</td>\n    </tr>\n    <tr>\n      <th>44749111</th>\n      <td>475000.0</td>\n      <td>2.0</td>\n      <td>1.0</td>\n      <td>0.410550</td>\n      <td>51.370050</td>\n      <td>-0.212410</td>\n      <td>0.129670</td>\n      <td>0.107990</td>\n      <td>FREEHOLD</td>\n      <td>0</td>\n      <td>0</td>\n      <td>0</td>\n      <td>0</td>\n      <td>0</td>\n      <td>0</td>\n      <td>0</td>\n      <td>0</td>\n      <td>0</td>\n      <td>0</td>\n    </tr>\n    <tr>\n      <th>46204665</th>\n      <td>435000.0</td>\n      <td>3.0</td>\n      <td>2.0</td>\n      <td>0.314779</td>\n      <td>51.539070</td>\n      <td>-0.198935</td>\n      <td>0.039350</td>\n      <td>0.094515</td>\n      <td>LEASEHOLD</td>\n      <td>0</td>\n      <td>0</td>\n      <td>0</td>\n      <td>0</td>\n      <td>0</td>\n      <td>0</td>\n      <td>0</td>\n      <td>1</td>\n      <td>0</td>\n      <td>0</td>\n    </tr>\n    <tr>\n      <th>49020666</th>\n      <td>200000.0</td>\n      <td>1.0</td>\n      <td>1.0</td>\n      <td>0.875911</td>\n      <td>51.539959</td>\n      <td>-0.380863</td>\n      <td>0.040239</td>\n      <td>0.276443</td>\n      <td>LEASEHOLD</td>\n      <td>0</td>\n      <td>0</td>\n      <td>0</td>\n      <td>0</td>\n      <td>1</td>\n      <td>0</td>\n      <td>0</td>\n      <td>0</td>\n      <td>0</td>\n      <td>0</td>\n    </tr>\n    <tr>\n      <th>49036279</th>\n      <td>275000.0</td>\n      <td>2.0</td>\n      <td>1.0</td>\n      <td>0.474368</td>\n      <td>51.541780</td>\n      <td>0.037890</td>\n      <td>0.042060</td>\n      <td>0.142310</td>\n      <td>LEASEHOLD</td>\n      <td>0</td>\n      <td>0</td>\n      <td>0</td>\n      <td>0</td>\n      <td>0</td>\n      <td>0</td>\n      <td>0</td>\n      <td>0</td>\n      <td>0</td>\n      <td>0</td>\n    </tr>\n    <tr>\n      <th>49303873</th>\n      <td>450000.0</td>\n      <td>3.0</td>\n      <td>2.0</td>\n      <td>0.577040</td>\n      <td>51.524880</td>\n      <td>0.187200</td>\n      <td>0.025160</td>\n      <td>0.291620</td>\n      <td>FREEHOLD</td>\n      <td>0</td>\n      <td>0</td>\n      <td>0</td>\n      <td>0</td>\n      <td>0</td>\n      <td>0</td>\n      <td>0</td>\n      <td>0</td>\n      <td>0</td>\n      <td>0</td>\n    </tr>\n    <tr>\n      <th>52064391</th>\n      <td>349950.0</td>\n      <td>2.0</td>\n      <td>2.0</td>\n      <td>0.212734</td>\n      <td>51.470800</td>\n      <td>-0.361820</td>\n      <td>0.028920</td>\n      <td>0.257400</td>\n      <td>LEASEHOLD</td>\n      <td>0</td>\n      <td>0</td>\n      <td>0</td>\n      <td>0</td>\n      <td>0</td>\n      <td>1</td>\n      <td>0</td>\n      <td>0</td>\n      <td>1</td>\n      <td>0</td>\n    </tr>\n    <tr>\n      <th>52187854</th>\n      <td>450000.0</td>\n      <td>1.0</td>\n      <td>1.0</td>\n      <td>0.446802</td>\n      <td>51.527199</td>\n      <td>-0.202898</td>\n      <td>0.027479</td>\n      <td>0.098478</td>\n      <td>LEASEHOLD</td>\n      <td>0</td>\n      <td>0</td>\n      <td>0</td>\n      <td>0</td>\n      <td>0</td>\n      <td>0</td>\n      <td>0</td>\n      <td>0</td>\n      <td>0</td>\n      <td>0</td>\n    </tr>\n    <tr>\n      <th>52675628</th>\n      <td>490000.0</td>\n      <td>2.0</td>\n      <td>2.0</td>\n      <td>0.215040</td>\n      <td>51.501114</td>\n      <td>0.026315</td>\n      <td>0.001394</td>\n      <td>0.130735</td>\n      <td>NaN</td>\n      <td>0</td>\n      <td>0</td>\n      <td>0</td>\n      <td>0</td>\n      <td>0</td>\n      <td>0</td>\n      <td>0</td>\n      <td>0</td>\n      <td>0</td>\n      <td>0</td>\n    </tr>\n    <tr>\n      <th>52845963</th>\n      <td>200000.0</td>\n      <td>2.0</td>\n      <td>1.0</td>\n      <td>0.650562</td>\n      <td>51.398040</td>\n      <td>-0.076812</td>\n      <td>0.101680</td>\n      <td>0.027608</td>\n      <td>LEASEHOLD</td>\n      <td>0</td>\n      <td>0</td>\n      <td>0</td>\n      <td>0</td>\n      <td>0</td>\n      <td>0</td>\n      <td>0</td>\n      <td>0</td>\n      <td>0</td>\n      <td>0</td>\n    </tr>\n    <tr>\n      <th>52913496</th>\n      <td>220000.0</td>\n      <td>1.0</td>\n      <td>1.0</td>\n      <td>0.945991</td>\n      <td>51.539383</td>\n      <td>-0.382239</td>\n      <td>0.039663</td>\n      <td>0.277819</td>\n      <td>LEASEHOLD</td>\n      <td>0</td>\n      <td>1</td>\n      <td>0</td>\n      <td>0</td>\n      <td>0</td>\n      <td>0</td>\n      <td>0</td>\n      <td>0</td>\n      <td>0</td>\n      <td>0</td>\n    </tr>\n    <tr>\n      <th>53609433</th>\n      <td>489995.0</td>\n      <td>1.0</td>\n      <td>1.0</td>\n      <td>0.087081</td>\n      <td>51.532620</td>\n      <td>-0.107860</td>\n      <td>0.032900</td>\n      <td>0.003440</td>\n      <td>LEASEHOLD</td>\n      <td>0</td>\n      <td>0</td>\n      <td>0</td>\n      <td>0</td>\n      <td>0</td>\n      <td>0</td>\n      <td>0</td>\n      <td>0</td>\n      <td>0</td>\n      <td>0</td>\n    </tr>\n    <tr>\n      <th>53649578</th>\n      <td>284950.0</td>\n      <td>1.0</td>\n      <td>1.0</td>\n      <td>0.806597</td>\n      <td>51.479890</td>\n      <td>-0.078500</td>\n      <td>0.019830</td>\n      <td>0.025920</td>\n      <td>NaN</td>\n      <td>0</td>\n      <td>0</td>\n      <td>0</td>\n      <td>0</td>\n      <td>0</td>\n      <td>0</td>\n      <td>0</td>\n      <td>0</td>\n      <td>0</td>\n      <td>0</td>\n    </tr>\n    <tr>\n      <th>53938989</th>\n      <td>450000.0</td>\n      <td>2.0</td>\n      <td>1.0</td>\n      <td>0.775203</td>\n      <td>51.658287</td>\n      <td>-0.207902</td>\n      <td>0.158567</td>\n      <td>0.103482</td>\n      <td>FREEHOLD</td>\n      <td>0</td>\n      <td>0</td>\n      <td>0</td>\n      <td>0</td>\n      <td>0</td>\n      <td>0</td>\n      <td>0</td>\n      <td>0</td>\n      <td>0</td>\n      <td>0</td>\n    </tr>\n    <tr>\n      <th>54713232</th>\n      <td>332000.0</td>\n      <td>2.0</td>\n      <td>1.0</td>\n      <td>0.319226</td>\n      <td>51.612300</td>\n      <td>-0.119860</td>\n      <td>0.112580</td>\n      <td>0.015440</td>\n      <td>SHARE_OF_FREEHOLD</td>\n      <td>0</td>\n      <td>0</td>\n      <td>0</td>\n      <td>0</td>\n      <td>0</td>\n      <td>0</td>\n      <td>0</td>\n      <td>0</td>\n      <td>0</td>\n      <td>0</td>\n    </tr>\n    <tr>\n      <th>54904122</th>\n      <td>365000.0</td>\n      <td>2.0</td>\n      <td>1.0</td>\n      <td>0.260722</td>\n      <td>51.593595</td>\n      <td>0.022046</td>\n      <td>0.093875</td>\n      <td>0.126466</td>\n      <td>SHARE_OF_FREEHOLD</td>\n      <td>0</td>\n      <td>0</td>\n      <td>0</td>\n      <td>0</td>\n      <td>0</td>\n      <td>0</td>\n      <td>1</td>\n      <td>0</td>\n      <td>0</td>\n      <td>0</td>\n    </tr>\n    <tr>\n      <th>54991934</th>\n      <td>430000.0</td>\n      <td>3.0</td>\n      <td>1.0</td>\n      <td>0.497268</td>\n      <td>51.528720</td>\n      <td>0.039180</td>\n      <td>0.029000</td>\n      <td>0.143600</td>\n      <td>FREEHOLD</td>\n      <td>0</td>\n      <td>0</td>\n      <td>0</td>\n      <td>0</td>\n      <td>0</td>\n      <td>0</td>\n      <td>0</td>\n      <td>0</td>\n      <td>0</td>\n      <td>0</td>\n    </tr>\n    <tr>\n      <th>55043230</th>\n      <td>260000.0</td>\n      <td>1.0</td>\n      <td>1.0</td>\n      <td>0.384607</td>\n      <td>51.544430</td>\n      <td>0.014500</td>\n      <td>0.044710</td>\n      <td>0.118920</td>\n      <td>LEASEHOLD</td>\n      <td>0</td>\n      <td>0</td>\n      <td>0</td>\n      <td>0</td>\n      <td>0</td>\n      <td>0</td>\n      <td>0</td>\n      <td>0</td>\n      <td>0</td>\n      <td>0</td>\n    </tr>\n    <tr>\n      <th>55187658</th>\n      <td>430000.0</td>\n      <td>2.0</td>\n      <td>2.0</td>\n      <td>0.289033</td>\n      <td>51.507570</td>\n      <td>0.078030</td>\n      <td>0.007850</td>\n      <td>0.182450</td>\n      <td>LEASEHOLD</td>\n      <td>0</td>\n      <td>0</td>\n      <td>0</td>\n      <td>0</td>\n      <td>0</td>\n      <td>0</td>\n      <td>0</td>\n      <td>0</td>\n      <td>0</td>\n      <td>0</td>\n    </tr>\n    <tr>\n      <th>55531367</th>\n      <td>599950.0</td>\n      <td>2.0</td>\n      <td>1.0</td>\n      <td>0.406725</td>\n      <td>51.467410</td>\n      <td>-0.079170</td>\n      <td>0.032310</td>\n      <td>0.025250</td>\n      <td>NaN</td>\n      <td>1</td>\n      <td>0</td>\n      <td>0</td>\n      <td>0</td>\n      <td>0</td>\n      <td>0</td>\n      <td>0</td>\n      <td>0</td>\n      <td>0</td>\n      <td>1</td>\n    </tr>\n    <tr>\n      <th>55768232</th>\n      <td>550000.0</td>\n      <td>2.0</td>\n      <td>1.0</td>\n      <td>0.478349</td>\n      <td>51.472890</td>\n      <td>-0.078940</td>\n      <td>0.026830</td>\n      <td>0.025480</td>\n      <td>NaN</td>\n      <td>0</td>\n      <td>0</td>\n      <td>0</td>\n      <td>0</td>\n      <td>0</td>\n      <td>0</td>\n      <td>0</td>\n      <td>0</td>\n      <td>0</td>\n      <td>0</td>\n    </tr>\n    <tr>\n      <th>55805965</th>\n      <td>280000.0</td>\n      <td>2.0</td>\n      <td>1.0</td>\n      <td>0.742859</td>\n      <td>51.520910</td>\n      <td>0.022680</td>\n      <td>0.021190</td>\n      <td>0.127100</td>\n      <td>LEASEHOLD</td>\n      <td>0</td>\n      <td>0</td>\n      <td>0</td>\n      <td>0</td>\n      <td>0</td>\n      <td>0</td>\n      <td>0</td>\n      <td>0</td>\n      <td>0</td>\n      <td>0</td>\n    </tr>\n    <tr>\n      <th>55839051</th>\n      <td>599950.0</td>\n      <td>2.0</td>\n      <td>1.0</td>\n      <td>0.259168</td>\n      <td>51.579186</td>\n      <td>-0.209020</td>\n      <td>0.079466</td>\n      <td>0.104600</td>\n      <td>LEASEHOLD</td>\n      <td>0</td>\n      <td>0</td>\n      <td>0</td>\n      <td>0</td>\n      <td>0</td>\n      <td>0</td>\n      <td>0</td>\n      <td>0</td>\n      <td>0</td>\n      <td>0</td>\n    </tr>\n    <tr>\n      <th>55940994</th>\n      <td>385000.0</td>\n      <td>2.0</td>\n      <td>2.0</td>\n      <td>0.403987</td>\n      <td>51.376930</td>\n      <td>-0.238870</td>\n      <td>0.122790</td>\n      <td>0.134450</td>\n      <td>LEASEHOLD</td>\n      <td>0</td>\n      <td>0</td>\n      <td>0</td>\n      <td>0</td>\n      <td>0</td>\n      <td>0</td>\n      <td>0</td>\n      <td>0</td>\n      <td>1</td>\n      <td>0</td>\n    </tr>\n    <tr>\n      <th>56449305</th>\n      <td>380000.0</td>\n      <td>2.0</td>\n      <td>1.0</td>\n      <td>0.310271</td>\n      <td>51.600483</td>\n      <td>-0.062096</td>\n      <td>0.100763</td>\n      <td>0.042324</td>\n      <td>FREEHOLD</td>\n      <td>0</td>\n      <td>0</td>\n      <td>0</td>\n      <td>0</td>\n      <td>0</td>\n      <td>0</td>\n      <td>0</td>\n      <td>0</td>\n      <td>1</td>\n      <td>0</td>\n    </tr>\n    <tr>\n      <th>57221413</th>\n      <td>475000.0</td>\n      <td>3.0</td>\n      <td>2.0</td>\n      <td>0.409784</td>\n      <td>51.497260</td>\n      <td>-0.422530</td>\n      <td>0.002460</td>\n      <td>0.318110</td>\n      <td>FREEHOLD</td>\n      <td>0</td>\n      <td>0</td>\n      <td>0</td>\n      <td>0</td>\n      <td>0</td>\n      <td>0</td>\n      <td>0</td>\n      <td>1</td>\n      <td>0</td>\n      <td>0</td>\n    </tr>\n  </tbody>\n</table>\n</div>"
     },
     "execution_count": 9,
     "metadata": {},
     "output_type": "execute_result"
    }
   ],
   "source": [
    "df.head(30)"
   ]
  },
  {
   "cell_type": "code",
   "execution_count": 10,
   "metadata": {
    "execution": {
     "iopub.execute_input": "2022-11-16T13:53:45.549728Z",
     "iopub.status.busy": "2022-11-16T13:53:45.549524Z",
     "iopub.status.idle": "2022-11-16T13:53:45.561922Z",
     "shell.execute_reply": "2022-11-16T13:53:45.561366Z",
     "shell.execute_reply.started": "2022-11-16T13:53:45.549709Z"
    }
   },
   "outputs": [
    {
     "data": {
      "text/plain": "Price                              0\nbedrooms                           0\nbathrooms                          0\nnearestStation                     0\nlocation.latitude                  0\nlocation.longitude                 0\nlatitude_deviation                 0\nlongitude_deviation                0\ntenure.tenureType               2744\nfeature__balcony                   0\nfeature__chain free                0\nfeature__no onward chain           0\nfeature__off street parking        0\nfeature__one bedroom               0\nfeature__private balcony           0\nfeature__share of freehold         0\nfeature__three bedrooms            0\nfeature__two bedrooms              0\nfeature__two double bedrooms       0\ndtype: int64"
     },
     "execution_count": 10,
     "metadata": {},
     "output_type": "execute_result"
    }
   ],
   "source": [
    "df.isnull().sum()"
   ]
  },
  {
   "cell_type": "code",
   "execution_count": 11,
   "metadata": {
    "execution": {
     "iopub.execute_input": "2022-11-16T13:53:45.562900Z",
     "iopub.status.busy": "2022-11-16T13:53:45.562697Z",
     "iopub.status.idle": "2022-11-16T13:53:45.641457Z",
     "shell.execute_reply": "2022-11-16T13:53:45.640840Z",
     "shell.execute_reply.started": "2022-11-16T13:53:45.562882Z"
    }
   },
   "outputs": [
    {
     "name": "stdout",
     "output_type": "stream",
     "text": [
      "<class 'pandas.core.frame.DataFrame'>\n",
      "Int64Index: 46871 entries, 14520525 to 126181118\n",
      "Data columns (total 19 columns):\n",
      " #   Column                        Non-Null Count  Dtype  \n",
      "---  ------                        --------------  -----  \n",
      " 0   Price                         46871 non-null  float64\n",
      " 1   bedrooms                      46871 non-null  float64\n",
      " 2   bathrooms                     46871 non-null  float64\n",
      " 3   nearestStation                46871 non-null  float64\n",
      " 4   location.latitude             46871 non-null  float64\n",
      " 5   location.longitude            46871 non-null  float64\n",
      " 6   latitude_deviation            46871 non-null  float64\n",
      " 7   longitude_deviation           46871 non-null  float64\n",
      " 8   tenure.tenureType             44127 non-null  object \n",
      " 9   feature__balcony              46871 non-null  int64  \n",
      " 10  feature__chain free           46871 non-null  int64  \n",
      " 11  feature__no onward chain      46871 non-null  int64  \n",
      " 12  feature__off street parking   46871 non-null  int64  \n",
      " 13  feature__one bedroom          46871 non-null  int64  \n",
      " 14  feature__private balcony      46871 non-null  int64  \n",
      " 15  feature__share of freehold    46871 non-null  int64  \n",
      " 16  feature__three bedrooms       46871 non-null  int64  \n",
      " 17  feature__two bedrooms         46871 non-null  int64  \n",
      " 18  feature__two double bedrooms  46871 non-null  int64  \n",
      "dtypes: float64(8), int64(10), object(1)\n",
      "memory usage: 7.2+ MB\n"
     ]
    },
    {
     "data": {
      "text/plain": "                                count           mean            std  \\\nPrice                         46871.0  425069.390775  107227.324906   \nbedrooms                      46871.0       1.992469       0.828837   \nbathrooms                     46871.0       1.182074       0.409879   \nnearestStation                46871.0       0.438847       0.325942   \nlocation.latitude             46871.0      51.497049       0.077085   \nlocation.longitude            46871.0      -0.113269       0.156489   \nlatitude_deviation            46871.0       0.064317       0.042573   \nlongitude_deviation           46871.0       0.124202       0.095607   \nfeature__balcony              46871.0       0.038617       0.193124   \nfeature__chain free           46871.0       0.120266       0.325800   \nfeature__no onward chain      46871.0       0.057925       0.233604   \nfeature__off street parking   46871.0       0.047300       0.212684   \nfeature__one bedroom          46871.0       0.041369       0.199144   \nfeature__private balcony      46871.0       0.039662       0.195275   \nfeature__share of freehold    46871.0       0.047663       0.213354   \nfeature__three bedrooms       46871.0       0.059120       0.235851   \nfeature__two bedrooms         46871.0       0.071473       0.257616   \nfeature__two double bedrooms  46871.0       0.095411       0.293930   \n\n                                        min            25%            50%  \\\nPrice                         100000.000000  349950.000000  425000.000000   \nbedrooms                           1.000000       1.000000       2.000000   \nbathrooms                          1.000000       1.000000       1.000000   \nnearestStation                     0.000000       0.227169       0.367971   \nlocation.latitude                 51.298317      51.438861      51.499977   \nlocation.longitude                -0.498315      -0.210796      -0.102230   \nlatitude_deviation                 0.000000       0.028876       0.058595   \nlongitude_deviation                0.000000       0.043560       0.098984   \nfeature__balcony                   0.000000       0.000000       0.000000   \nfeature__chain free                0.000000       0.000000       0.000000   \nfeature__no onward chain           0.000000       0.000000       0.000000   \nfeature__off street parking        0.000000       0.000000       0.000000   \nfeature__one bedroom               0.000000       0.000000       0.000000   \nfeature__private balcony           0.000000       0.000000       0.000000   \nfeature__share of freehold         0.000000       0.000000       0.000000   \nfeature__three bedrooms            0.000000       0.000000       0.000000   \nfeature__two bedrooms              0.000000       0.000000       0.000000   \nfeature__two double bedrooms       0.000000       0.000000       0.000000   \n\n                                        75%            max  \nPrice                         515000.000000  600000.000000  \nbedrooms                           3.000000       7.000000  \nbathrooms                          1.000000       5.000000  \nnearestStation                     0.559620       7.197700  \nlocation.latitude                 51.556183      51.683185  \nlocation.longitude                -0.010343       0.279726  \nlatitude_deviation                 0.094362       0.201403  \nlongitude_deviation                0.192684       0.393895  \nfeature__balcony                   0.000000       2.000000  \nfeature__chain free                0.000000       2.000000  \nfeature__no onward chain           0.000000       1.000000  \nfeature__off street parking        0.000000       2.000000  \nfeature__one bedroom               0.000000       1.000000  \nfeature__private balcony           0.000000       2.000000  \nfeature__share of freehold         0.000000       2.000000  \nfeature__three bedrooms            0.000000       1.000000  \nfeature__two bedrooms              0.000000       1.000000  \nfeature__two double bedrooms       0.000000       2.000000  ",
      "text/html": "<div>\n<style scoped>\n    .dataframe tbody tr th:only-of-type {\n        vertical-align: middle;\n    }\n\n    .dataframe tbody tr th {\n        vertical-align: top;\n    }\n\n    .dataframe thead th {\n        text-align: right;\n    }\n</style>\n<table border=\"1\" class=\"dataframe\">\n  <thead>\n    <tr style=\"text-align: right;\">\n      <th></th>\n      <th>count</th>\n      <th>mean</th>\n      <th>std</th>\n      <th>min</th>\n      <th>25%</th>\n      <th>50%</th>\n      <th>75%</th>\n      <th>max</th>\n    </tr>\n  </thead>\n  <tbody>\n    <tr>\n      <th>Price</th>\n      <td>46871.0</td>\n      <td>425069.390775</td>\n      <td>107227.324906</td>\n      <td>100000.000000</td>\n      <td>349950.000000</td>\n      <td>425000.000000</td>\n      <td>515000.000000</td>\n      <td>600000.000000</td>\n    </tr>\n    <tr>\n      <th>bedrooms</th>\n      <td>46871.0</td>\n      <td>1.992469</td>\n      <td>0.828837</td>\n      <td>1.000000</td>\n      <td>1.000000</td>\n      <td>2.000000</td>\n      <td>3.000000</td>\n      <td>7.000000</td>\n    </tr>\n    <tr>\n      <th>bathrooms</th>\n      <td>46871.0</td>\n      <td>1.182074</td>\n      <td>0.409879</td>\n      <td>1.000000</td>\n      <td>1.000000</td>\n      <td>1.000000</td>\n      <td>1.000000</td>\n      <td>5.000000</td>\n    </tr>\n    <tr>\n      <th>nearestStation</th>\n      <td>46871.0</td>\n      <td>0.438847</td>\n      <td>0.325942</td>\n      <td>0.000000</td>\n      <td>0.227169</td>\n      <td>0.367971</td>\n      <td>0.559620</td>\n      <td>7.197700</td>\n    </tr>\n    <tr>\n      <th>location.latitude</th>\n      <td>46871.0</td>\n      <td>51.497049</td>\n      <td>0.077085</td>\n      <td>51.298317</td>\n      <td>51.438861</td>\n      <td>51.499977</td>\n      <td>51.556183</td>\n      <td>51.683185</td>\n    </tr>\n    <tr>\n      <th>location.longitude</th>\n      <td>46871.0</td>\n      <td>-0.113269</td>\n      <td>0.156489</td>\n      <td>-0.498315</td>\n      <td>-0.210796</td>\n      <td>-0.102230</td>\n      <td>-0.010343</td>\n      <td>0.279726</td>\n    </tr>\n    <tr>\n      <th>latitude_deviation</th>\n      <td>46871.0</td>\n      <td>0.064317</td>\n      <td>0.042573</td>\n      <td>0.000000</td>\n      <td>0.028876</td>\n      <td>0.058595</td>\n      <td>0.094362</td>\n      <td>0.201403</td>\n    </tr>\n    <tr>\n      <th>longitude_deviation</th>\n      <td>46871.0</td>\n      <td>0.124202</td>\n      <td>0.095607</td>\n      <td>0.000000</td>\n      <td>0.043560</td>\n      <td>0.098984</td>\n      <td>0.192684</td>\n      <td>0.393895</td>\n    </tr>\n    <tr>\n      <th>feature__balcony</th>\n      <td>46871.0</td>\n      <td>0.038617</td>\n      <td>0.193124</td>\n      <td>0.000000</td>\n      <td>0.000000</td>\n      <td>0.000000</td>\n      <td>0.000000</td>\n      <td>2.000000</td>\n    </tr>\n    <tr>\n      <th>feature__chain free</th>\n      <td>46871.0</td>\n      <td>0.120266</td>\n      <td>0.325800</td>\n      <td>0.000000</td>\n      <td>0.000000</td>\n      <td>0.000000</td>\n      <td>0.000000</td>\n      <td>2.000000</td>\n    </tr>\n    <tr>\n      <th>feature__no onward chain</th>\n      <td>46871.0</td>\n      <td>0.057925</td>\n      <td>0.233604</td>\n      <td>0.000000</td>\n      <td>0.000000</td>\n      <td>0.000000</td>\n      <td>0.000000</td>\n      <td>1.000000</td>\n    </tr>\n    <tr>\n      <th>feature__off street parking</th>\n      <td>46871.0</td>\n      <td>0.047300</td>\n      <td>0.212684</td>\n      <td>0.000000</td>\n      <td>0.000000</td>\n      <td>0.000000</td>\n      <td>0.000000</td>\n      <td>2.000000</td>\n    </tr>\n    <tr>\n      <th>feature__one bedroom</th>\n      <td>46871.0</td>\n      <td>0.041369</td>\n      <td>0.199144</td>\n      <td>0.000000</td>\n      <td>0.000000</td>\n      <td>0.000000</td>\n      <td>0.000000</td>\n      <td>1.000000</td>\n    </tr>\n    <tr>\n      <th>feature__private balcony</th>\n      <td>46871.0</td>\n      <td>0.039662</td>\n      <td>0.195275</td>\n      <td>0.000000</td>\n      <td>0.000000</td>\n      <td>0.000000</td>\n      <td>0.000000</td>\n      <td>2.000000</td>\n    </tr>\n    <tr>\n      <th>feature__share of freehold</th>\n      <td>46871.0</td>\n      <td>0.047663</td>\n      <td>0.213354</td>\n      <td>0.000000</td>\n      <td>0.000000</td>\n      <td>0.000000</td>\n      <td>0.000000</td>\n      <td>2.000000</td>\n    </tr>\n    <tr>\n      <th>feature__three bedrooms</th>\n      <td>46871.0</td>\n      <td>0.059120</td>\n      <td>0.235851</td>\n      <td>0.000000</td>\n      <td>0.000000</td>\n      <td>0.000000</td>\n      <td>0.000000</td>\n      <td>1.000000</td>\n    </tr>\n    <tr>\n      <th>feature__two bedrooms</th>\n      <td>46871.0</td>\n      <td>0.071473</td>\n      <td>0.257616</td>\n      <td>0.000000</td>\n      <td>0.000000</td>\n      <td>0.000000</td>\n      <td>0.000000</td>\n      <td>1.000000</td>\n    </tr>\n    <tr>\n      <th>feature__two double bedrooms</th>\n      <td>46871.0</td>\n      <td>0.095411</td>\n      <td>0.293930</td>\n      <td>0.000000</td>\n      <td>0.000000</td>\n      <td>0.000000</td>\n      <td>0.000000</td>\n      <td>2.000000</td>\n    </tr>\n  </tbody>\n</table>\n</div>"
     },
     "execution_count": 11,
     "metadata": {},
     "output_type": "execute_result"
    }
   ],
   "source": [
    "df.info()\n",
    "df.describe()\n",
    "df.describe().T"
   ]
  },
  {
   "cell_type": "code",
   "execution_count": 12,
   "metadata": {
    "execution": {
     "iopub.execute_input": "2022-11-16T13:53:45.644307Z",
     "iopub.status.busy": "2022-11-16T13:53:45.644062Z",
     "iopub.status.idle": "2022-11-16T13:53:45.702850Z",
     "shell.execute_reply": "2022-11-16T13:53:45.702221Z",
     "shell.execute_reply.started": "2022-11-16T13:53:45.644286Z"
    }
   },
   "outputs": [
    {
     "name": "stdout",
     "output_type": "stream",
     "text": [
      "dataframe contract due to cleaning: 46871 ==> 46871\n"
     ]
    },
    {
     "data": {
      "text/plain": "                                count           mean            std  \\\nPrice                         46871.0  425069.390775  107227.324906   \nbedrooms                      46871.0       1.992469       0.828837   \nbathrooms                     46871.0       1.182074       0.409879   \nnearestStation                46871.0       0.438847       0.325942   \nlocation.latitude             46871.0      51.497049       0.077085   \nlocation.longitude            46871.0      -0.113269       0.156489   \nlatitude_deviation            46871.0       0.064317       0.042573   \nlongitude_deviation           46871.0       0.124202       0.095607   \nfeature__balcony              46871.0       0.038617       0.193124   \nfeature__chain free           46871.0       0.120266       0.325800   \nfeature__no onward chain      46871.0       0.057925       0.233604   \nfeature__off street parking   46871.0       0.047300       0.212684   \nfeature__one bedroom          46871.0       0.041369       0.199144   \nfeature__private balcony      46871.0       0.039662       0.195275   \nfeature__share of freehold    46871.0       0.047663       0.213354   \nfeature__three bedrooms       46871.0       0.059120       0.235851   \nfeature__two bedrooms         46871.0       0.071473       0.257616   \nfeature__two double bedrooms  46871.0       0.095411       0.293930   \n\n                                        min            25%            50%  \\\nPrice                         100000.000000  349950.000000  425000.000000   \nbedrooms                           1.000000       1.000000       2.000000   \nbathrooms                          1.000000       1.000000       1.000000   \nnearestStation                     0.000000       0.227169       0.367971   \nlocation.latitude                 51.298317      51.438861      51.499977   \nlocation.longitude                -0.498315      -0.210796      -0.102230   \nlatitude_deviation                 0.000000       0.028876       0.058595   \nlongitude_deviation                0.000000       0.043560       0.098984   \nfeature__balcony                   0.000000       0.000000       0.000000   \nfeature__chain free                0.000000       0.000000       0.000000   \nfeature__no onward chain           0.000000       0.000000       0.000000   \nfeature__off street parking        0.000000       0.000000       0.000000   \nfeature__one bedroom               0.000000       0.000000       0.000000   \nfeature__private balcony           0.000000       0.000000       0.000000   \nfeature__share of freehold         0.000000       0.000000       0.000000   \nfeature__three bedrooms            0.000000       0.000000       0.000000   \nfeature__two bedrooms              0.000000       0.000000       0.000000   \nfeature__two double bedrooms       0.000000       0.000000       0.000000   \n\n                                        75%            max  \nPrice                         515000.000000  600000.000000  \nbedrooms                           3.000000       7.000000  \nbathrooms                          1.000000       5.000000  \nnearestStation                     0.559620       7.197700  \nlocation.latitude                 51.556183      51.683185  \nlocation.longitude                -0.010343       0.279726  \nlatitude_deviation                 0.094362       0.201403  \nlongitude_deviation                0.192684       0.393895  \nfeature__balcony                   0.000000       2.000000  \nfeature__chain free                0.000000       2.000000  \nfeature__no onward chain           0.000000       1.000000  \nfeature__off street parking        0.000000       2.000000  \nfeature__one bedroom               0.000000       1.000000  \nfeature__private balcony           0.000000       2.000000  \nfeature__share of freehold         0.000000       2.000000  \nfeature__three bedrooms            0.000000       1.000000  \nfeature__two bedrooms              0.000000       1.000000  \nfeature__two double bedrooms       0.000000       2.000000  ",
      "text/html": "<div>\n<style scoped>\n    .dataframe tbody tr th:only-of-type {\n        vertical-align: middle;\n    }\n\n    .dataframe tbody tr th {\n        vertical-align: top;\n    }\n\n    .dataframe thead th {\n        text-align: right;\n    }\n</style>\n<table border=\"1\" class=\"dataframe\">\n  <thead>\n    <tr style=\"text-align: right;\">\n      <th></th>\n      <th>count</th>\n      <th>mean</th>\n      <th>std</th>\n      <th>min</th>\n      <th>25%</th>\n      <th>50%</th>\n      <th>75%</th>\n      <th>max</th>\n    </tr>\n  </thead>\n  <tbody>\n    <tr>\n      <th>Price</th>\n      <td>46871.0</td>\n      <td>425069.390775</td>\n      <td>107227.324906</td>\n      <td>100000.000000</td>\n      <td>349950.000000</td>\n      <td>425000.000000</td>\n      <td>515000.000000</td>\n      <td>600000.000000</td>\n    </tr>\n    <tr>\n      <th>bedrooms</th>\n      <td>46871.0</td>\n      <td>1.992469</td>\n      <td>0.828837</td>\n      <td>1.000000</td>\n      <td>1.000000</td>\n      <td>2.000000</td>\n      <td>3.000000</td>\n      <td>7.000000</td>\n    </tr>\n    <tr>\n      <th>bathrooms</th>\n      <td>46871.0</td>\n      <td>1.182074</td>\n      <td>0.409879</td>\n      <td>1.000000</td>\n      <td>1.000000</td>\n      <td>1.000000</td>\n      <td>1.000000</td>\n      <td>5.000000</td>\n    </tr>\n    <tr>\n      <th>nearestStation</th>\n      <td>46871.0</td>\n      <td>0.438847</td>\n      <td>0.325942</td>\n      <td>0.000000</td>\n      <td>0.227169</td>\n      <td>0.367971</td>\n      <td>0.559620</td>\n      <td>7.197700</td>\n    </tr>\n    <tr>\n      <th>location.latitude</th>\n      <td>46871.0</td>\n      <td>51.497049</td>\n      <td>0.077085</td>\n      <td>51.298317</td>\n      <td>51.438861</td>\n      <td>51.499977</td>\n      <td>51.556183</td>\n      <td>51.683185</td>\n    </tr>\n    <tr>\n      <th>location.longitude</th>\n      <td>46871.0</td>\n      <td>-0.113269</td>\n      <td>0.156489</td>\n      <td>-0.498315</td>\n      <td>-0.210796</td>\n      <td>-0.102230</td>\n      <td>-0.010343</td>\n      <td>0.279726</td>\n    </tr>\n    <tr>\n      <th>latitude_deviation</th>\n      <td>46871.0</td>\n      <td>0.064317</td>\n      <td>0.042573</td>\n      <td>0.000000</td>\n      <td>0.028876</td>\n      <td>0.058595</td>\n      <td>0.094362</td>\n      <td>0.201403</td>\n    </tr>\n    <tr>\n      <th>longitude_deviation</th>\n      <td>46871.0</td>\n      <td>0.124202</td>\n      <td>0.095607</td>\n      <td>0.000000</td>\n      <td>0.043560</td>\n      <td>0.098984</td>\n      <td>0.192684</td>\n      <td>0.393895</td>\n    </tr>\n    <tr>\n      <th>feature__balcony</th>\n      <td>46871.0</td>\n      <td>0.038617</td>\n      <td>0.193124</td>\n      <td>0.000000</td>\n      <td>0.000000</td>\n      <td>0.000000</td>\n      <td>0.000000</td>\n      <td>2.000000</td>\n    </tr>\n    <tr>\n      <th>feature__chain free</th>\n      <td>46871.0</td>\n      <td>0.120266</td>\n      <td>0.325800</td>\n      <td>0.000000</td>\n      <td>0.000000</td>\n      <td>0.000000</td>\n      <td>0.000000</td>\n      <td>2.000000</td>\n    </tr>\n    <tr>\n      <th>feature__no onward chain</th>\n      <td>46871.0</td>\n      <td>0.057925</td>\n      <td>0.233604</td>\n      <td>0.000000</td>\n      <td>0.000000</td>\n      <td>0.000000</td>\n      <td>0.000000</td>\n      <td>1.000000</td>\n    </tr>\n    <tr>\n      <th>feature__off street parking</th>\n      <td>46871.0</td>\n      <td>0.047300</td>\n      <td>0.212684</td>\n      <td>0.000000</td>\n      <td>0.000000</td>\n      <td>0.000000</td>\n      <td>0.000000</td>\n      <td>2.000000</td>\n    </tr>\n    <tr>\n      <th>feature__one bedroom</th>\n      <td>46871.0</td>\n      <td>0.041369</td>\n      <td>0.199144</td>\n      <td>0.000000</td>\n      <td>0.000000</td>\n      <td>0.000000</td>\n      <td>0.000000</td>\n      <td>1.000000</td>\n    </tr>\n    <tr>\n      <th>feature__private balcony</th>\n      <td>46871.0</td>\n      <td>0.039662</td>\n      <td>0.195275</td>\n      <td>0.000000</td>\n      <td>0.000000</td>\n      <td>0.000000</td>\n      <td>0.000000</td>\n      <td>2.000000</td>\n    </tr>\n    <tr>\n      <th>feature__share of freehold</th>\n      <td>46871.0</td>\n      <td>0.047663</td>\n      <td>0.213354</td>\n      <td>0.000000</td>\n      <td>0.000000</td>\n      <td>0.000000</td>\n      <td>0.000000</td>\n      <td>2.000000</td>\n    </tr>\n    <tr>\n      <th>feature__three bedrooms</th>\n      <td>46871.0</td>\n      <td>0.059120</td>\n      <td>0.235851</td>\n      <td>0.000000</td>\n      <td>0.000000</td>\n      <td>0.000000</td>\n      <td>0.000000</td>\n      <td>1.000000</td>\n    </tr>\n    <tr>\n      <th>feature__two bedrooms</th>\n      <td>46871.0</td>\n      <td>0.071473</td>\n      <td>0.257616</td>\n      <td>0.000000</td>\n      <td>0.000000</td>\n      <td>0.000000</td>\n      <td>0.000000</td>\n      <td>1.000000</td>\n    </tr>\n    <tr>\n      <th>feature__two double bedrooms</th>\n      <td>46871.0</td>\n      <td>0.095411</td>\n      <td>0.293930</td>\n      <td>0.000000</td>\n      <td>0.000000</td>\n      <td>0.000000</td>\n      <td>0.000000</td>\n      <td>2.000000</td>\n    </tr>\n  </tbody>\n</table>\n</div>"
     },
     "execution_count": 12,
     "metadata": {},
     "output_type": "execute_result"
    }
   ],
   "source": [
    "old_length = len(df)\n",
    "\n",
    "df = preprocess(df, version=VERSION)\n",
    "\n",
    "print(f\"dataframe contract due to cleaning: {old_length} ==> {len(df)}\")\n",
    "old_length = len(df)\n",
    "\n",
    "df.describe().T"
   ]
  },
  {
   "cell_type": "code",
   "execution_count": 13,
   "metadata": {
    "execution": {
     "iopub.execute_input": "2022-11-16T13:53:45.704893Z",
     "iopub.status.busy": "2022-11-16T13:53:45.703920Z",
     "iopub.status.idle": "2022-11-16T13:53:45.718086Z",
     "shell.execute_reply": "2022-11-16T13:53:45.716989Z",
     "shell.execute_reply.started": "2022-11-16T13:53:45.704867Z"
    }
   },
   "outputs": [
    {
     "data": {
      "text/plain": "Price                              0\nbedrooms                           0\nbathrooms                          0\nnearestStation                     0\nlocation.latitude                  0\nlocation.longitude                 0\nlatitude_deviation                 0\nlongitude_deviation                0\ntenure.tenureType               2744\nfeature__balcony                   0\nfeature__chain free                0\nfeature__no onward chain           0\nfeature__off street parking        0\nfeature__one bedroom               0\nfeature__private balcony           0\nfeature__share of freehold         0\nfeature__three bedrooms            0\nfeature__two bedrooms              0\nfeature__two double bedrooms       0\ndtype: int64"
     },
     "execution_count": 13,
     "metadata": {},
     "output_type": "execute_result"
    }
   ],
   "source": [
    "df.isna().sum()"
   ]
  },
  {
   "cell_type": "code",
   "execution_count": 14,
   "metadata": {
    "execution": {
     "iopub.execute_input": "2022-11-16T13:53:45.719480Z",
     "iopub.status.busy": "2022-11-16T13:53:45.719240Z",
     "iopub.status.idle": "2022-11-16T13:53:45.765084Z",
     "shell.execute_reply": "2022-11-16T13:53:45.764280Z",
     "shell.execute_reply.started": "2022-11-16T13:53:45.719461Z"
    }
   },
   "outputs": [
    {
     "name": "stdout",
     "output_type": "stream",
     "text": [
      "46871 ==> 44127\n"
     ]
    },
    {
     "data": {
      "text/plain": "               Price      bedrooms    bathrooms  nearestStation  \\\ncount   44127.000000  44127.000000  44127.00000    44127.000000   \nmean   425224.642373      1.990981      1.18134        0.438522   \nstd    107203.332660      0.827621      0.40893        0.324152   \nmin    100000.000000      1.000000      1.00000        0.000000   \n25%    349950.000000      1.000000      1.00000        0.227551   \n50%    425000.000000      2.000000      1.00000        0.368351   \n75%    515000.000000      3.000000      1.00000        0.559486   \nmax    600000.000000      7.000000      5.00000        7.197700   \n\n       location.latitude  location.longitude  latitude_deviation  \\\ncount       44127.000000        44127.000000        44127.000000   \nmean           51.496711           -0.113106            0.064544   \nstd             0.077267            0.155863            0.042583   \nmin            51.298317           -0.498315            0.000000   \n25%            51.438303           -0.210633            0.029023   \n50%            51.498780           -0.101910            0.058904   \n75%            51.556343           -0.010854            0.094620   \nmax            51.683185            0.279726            0.201403   \n\n       longitude_deviation  feature__balcony  feature__chain free  \\\ncount         44127.000000      44127.000000         44127.000000   \nmean              0.123699          0.038865             0.121218   \nstd               0.095220          0.193744             0.326940   \nmin               0.000000          0.000000             0.000000   \n25%               0.043551          0.000000             0.000000   \n50%               0.098750          0.000000             0.000000   \n75%               0.191727          0.000000             0.000000   \nmax               0.393895          2.000000             2.000000   \n\n       feature__no onward chain  feature__off street parking  \\\ncount              44127.000000                 44127.000000   \nmean                   0.058898                     0.047001   \nstd                    0.235437                     0.212071   \nmin                    0.000000                     0.000000   \n25%                    0.000000                     0.000000   \n50%                    0.000000                     0.000000   \n75%                    0.000000                     0.000000   \nmax                    1.000000                     2.000000   \n\n       feature__one bedroom  feature__private balcony  \\\ncount          44127.000000              44127.000000   \nmean               0.041834                  0.040111   \nstd                0.200211                  0.196338   \nmin                0.000000                  0.000000   \n25%                0.000000                  0.000000   \n50%                0.000000                  0.000000   \n75%                0.000000                  0.000000   \nmax                1.000000                  2.000000   \n\n       feature__share of freehold  feature__three bedrooms  \\\ncount                44127.000000             44127.000000   \nmean                     0.048428                 0.059374   \nstd                      0.214989                 0.236326   \nmin                      0.000000                 0.000000   \n25%                      0.000000                 0.000000   \n50%                      0.000000                 0.000000   \n75%                      0.000000                 0.000000   \nmax                      2.000000                 1.000000   \n\n       feature__two bedrooms  feature__two double bedrooms  \ncount           44127.000000                  44127.000000  \nmean                0.072586                      0.096857  \nstd                 0.259459                      0.295919  \nmin                 0.000000                      0.000000  \n25%                 0.000000                      0.000000  \n50%                 0.000000                      0.000000  \n75%                 0.000000                      0.000000  \nmax                 1.000000                      2.000000  ",
      "text/html": "<div>\n<style scoped>\n    .dataframe tbody tr th:only-of-type {\n        vertical-align: middle;\n    }\n\n    .dataframe tbody tr th {\n        vertical-align: top;\n    }\n\n    .dataframe thead th {\n        text-align: right;\n    }\n</style>\n<table border=\"1\" class=\"dataframe\">\n  <thead>\n    <tr style=\"text-align: right;\">\n      <th></th>\n      <th>Price</th>\n      <th>bedrooms</th>\n      <th>bathrooms</th>\n      <th>nearestStation</th>\n      <th>location.latitude</th>\n      <th>location.longitude</th>\n      <th>latitude_deviation</th>\n      <th>longitude_deviation</th>\n      <th>feature__balcony</th>\n      <th>feature__chain free</th>\n      <th>feature__no onward chain</th>\n      <th>feature__off street parking</th>\n      <th>feature__one bedroom</th>\n      <th>feature__private balcony</th>\n      <th>feature__share of freehold</th>\n      <th>feature__three bedrooms</th>\n      <th>feature__two bedrooms</th>\n      <th>feature__two double bedrooms</th>\n    </tr>\n  </thead>\n  <tbody>\n    <tr>\n      <th>count</th>\n      <td>44127.000000</td>\n      <td>44127.000000</td>\n      <td>44127.00000</td>\n      <td>44127.000000</td>\n      <td>44127.000000</td>\n      <td>44127.000000</td>\n      <td>44127.000000</td>\n      <td>44127.000000</td>\n      <td>44127.000000</td>\n      <td>44127.000000</td>\n      <td>44127.000000</td>\n      <td>44127.000000</td>\n      <td>44127.000000</td>\n      <td>44127.000000</td>\n      <td>44127.000000</td>\n      <td>44127.000000</td>\n      <td>44127.000000</td>\n      <td>44127.000000</td>\n    </tr>\n    <tr>\n      <th>mean</th>\n      <td>425224.642373</td>\n      <td>1.990981</td>\n      <td>1.18134</td>\n      <td>0.438522</td>\n      <td>51.496711</td>\n      <td>-0.113106</td>\n      <td>0.064544</td>\n      <td>0.123699</td>\n      <td>0.038865</td>\n      <td>0.121218</td>\n      <td>0.058898</td>\n      <td>0.047001</td>\n      <td>0.041834</td>\n      <td>0.040111</td>\n      <td>0.048428</td>\n      <td>0.059374</td>\n      <td>0.072586</td>\n      <td>0.096857</td>\n    </tr>\n    <tr>\n      <th>std</th>\n      <td>107203.332660</td>\n      <td>0.827621</td>\n      <td>0.40893</td>\n      <td>0.324152</td>\n      <td>0.077267</td>\n      <td>0.155863</td>\n      <td>0.042583</td>\n      <td>0.095220</td>\n      <td>0.193744</td>\n      <td>0.326940</td>\n      <td>0.235437</td>\n      <td>0.212071</td>\n      <td>0.200211</td>\n      <td>0.196338</td>\n      <td>0.214989</td>\n      <td>0.236326</td>\n      <td>0.259459</td>\n      <td>0.295919</td>\n    </tr>\n    <tr>\n      <th>min</th>\n      <td>100000.000000</td>\n      <td>1.000000</td>\n      <td>1.00000</td>\n      <td>0.000000</td>\n      <td>51.298317</td>\n      <td>-0.498315</td>\n      <td>0.000000</td>\n      <td>0.000000</td>\n      <td>0.000000</td>\n      <td>0.000000</td>\n      <td>0.000000</td>\n      <td>0.000000</td>\n      <td>0.000000</td>\n      <td>0.000000</td>\n      <td>0.000000</td>\n      <td>0.000000</td>\n      <td>0.000000</td>\n      <td>0.000000</td>\n    </tr>\n    <tr>\n      <th>25%</th>\n      <td>349950.000000</td>\n      <td>1.000000</td>\n      <td>1.00000</td>\n      <td>0.227551</td>\n      <td>51.438303</td>\n      <td>-0.210633</td>\n      <td>0.029023</td>\n      <td>0.043551</td>\n      <td>0.000000</td>\n      <td>0.000000</td>\n      <td>0.000000</td>\n      <td>0.000000</td>\n      <td>0.000000</td>\n      <td>0.000000</td>\n      <td>0.000000</td>\n      <td>0.000000</td>\n      <td>0.000000</td>\n      <td>0.000000</td>\n    </tr>\n    <tr>\n      <th>50%</th>\n      <td>425000.000000</td>\n      <td>2.000000</td>\n      <td>1.00000</td>\n      <td>0.368351</td>\n      <td>51.498780</td>\n      <td>-0.101910</td>\n      <td>0.058904</td>\n      <td>0.098750</td>\n      <td>0.000000</td>\n      <td>0.000000</td>\n      <td>0.000000</td>\n      <td>0.000000</td>\n      <td>0.000000</td>\n      <td>0.000000</td>\n      <td>0.000000</td>\n      <td>0.000000</td>\n      <td>0.000000</td>\n      <td>0.000000</td>\n    </tr>\n    <tr>\n      <th>75%</th>\n      <td>515000.000000</td>\n      <td>3.000000</td>\n      <td>1.00000</td>\n      <td>0.559486</td>\n      <td>51.556343</td>\n      <td>-0.010854</td>\n      <td>0.094620</td>\n      <td>0.191727</td>\n      <td>0.000000</td>\n      <td>0.000000</td>\n      <td>0.000000</td>\n      <td>0.000000</td>\n      <td>0.000000</td>\n      <td>0.000000</td>\n      <td>0.000000</td>\n      <td>0.000000</td>\n      <td>0.000000</td>\n      <td>0.000000</td>\n    </tr>\n    <tr>\n      <th>max</th>\n      <td>600000.000000</td>\n      <td>7.000000</td>\n      <td>5.00000</td>\n      <td>7.197700</td>\n      <td>51.683185</td>\n      <td>0.279726</td>\n      <td>0.201403</td>\n      <td>0.393895</td>\n      <td>2.000000</td>\n      <td>2.000000</td>\n      <td>1.000000</td>\n      <td>2.000000</td>\n      <td>1.000000</td>\n      <td>2.000000</td>\n      <td>2.000000</td>\n      <td>1.000000</td>\n      <td>1.000000</td>\n      <td>2.000000</td>\n    </tr>\n  </tbody>\n</table>\n</div>"
     },
     "execution_count": 14,
     "metadata": {},
     "output_type": "execute_result"
    }
   ],
   "source": [
    "df = df.dropna()\n",
    "print(f\"{old_length} ==> {len(df)}\")\n",
    "old_length = len(df)\n",
    "df.describe()"
   ]
  },
  {
   "cell_type": "code",
   "execution_count": 15,
   "metadata": {
    "execution": {
     "iopub.execute_input": "2022-11-16T13:53:45.766337Z",
     "iopub.status.busy": "2022-11-16T13:53:45.766118Z",
     "iopub.status.idle": "2022-11-16T13:53:45.807167Z",
     "shell.execute_reply": "2022-11-16T13:53:45.806099Z",
     "shell.execute_reply.started": "2022-11-16T13:53:45.766318Z"
    }
   },
   "outputs": [
    {
     "name": "stdout",
     "output_type": "stream",
     "text": [
      "[3.0 3.0 0.3166132574345781 51.45976 0.12939 0.0399600000000006 0.23381\n",
      " 'FREEHOLD' 0 0 0 0 0 0 0 1 0 0]\n",
      "(39714, 18) (4413, 18) (39714, 1) (4413, 1) (39714, 1) (4413, 1) (39714, 1) (4413, 1)\n"
     ]
    }
   ],
   "source": [
    "X_train, X_test, y_train, y_test, X_train_index, X_test_index, y_train_index, y_test_index, df_features, df_labels = create_train_test_data(\n",
    "    df,\n",
    "    categories=categories,\n",
    "    RANDOM_STATE=RANDOM_STATE, return_index=True,\n",
    "    drop_nulls=True,\n",
    "    no_dummies=no_dummies\n",
    ")\n",
    "\n",
    "print(X_train[0])\n",
    "\n",
    "if 'forest' in ALGORITHM.lower() or ALGORITHM.lower()=='light gradient boosting':\n",
    "    y_train_orig = y_train\n",
    "    y_train = y_train.ravel()\n",
    "    print(y_train_orig, y_train)\n",
    "    \n",
    "print(X_train.shape, X_test.shape, y_train.shape, y_test.shape, X_train_index.shape, X_test_index.shape,\n",
    "      y_train_index.shape, y_test_index.shape)\n",
    "\n"
   ]
  },
  {
   "cell_type": "code",
   "execution_count": 16,
   "metadata": {
    "execution": {
     "iopub.execute_input": "2022-11-16T13:53:45.808583Z",
     "iopub.status.busy": "2022-11-16T13:53:45.808343Z",
     "iopub.status.idle": "2022-11-16T13:53:45.812004Z",
     "shell.execute_reply": "2022-11-16T13:53:45.811013Z",
     "shell.execute_reply.started": "2022-11-16T13:53:45.808563Z"
    }
   },
   "outputs": [],
   "source": [
    "#imputer = SimpleImputer(strategy='mean')\n",
    "#imputer.fit(X_train[6])\n",
    "#X_train[6] = imputer.transform(X_train[6])"
   ]
  },
  {
   "cell_type": "code",
   "execution_count": 17,
   "metadata": {
    "execution": {
     "iopub.execute_input": "2022-11-16T13:53:45.813460Z",
     "iopub.status.busy": "2022-11-16T13:53:45.813229Z",
     "iopub.status.idle": "2022-11-16T13:53:45.818408Z",
     "shell.execute_reply": "2022-11-16T13:53:45.817424Z",
     "shell.execute_reply.started": "2022-11-16T13:53:45.813440Z"
    }
   },
   "outputs": [],
   "source": [
    "starter_model = starter_pipe[-1]\n",
    "\n",
    "if not_catboost:\n",
    "    default_model_params = starter_model.get_params()\n",
    "    print(\"default_model_params:\\n\", default_model_params)\n",
    "    print(\"---------------------\")\n",
    "    print(\"sklearn.metrics.get_scorer_names():\\n\",sklearn.metrics.get_scorer_names())"
   ]
  },
  {
   "cell_type": "code",
   "execution_count": 17,
   "metadata": {
    "execution": {
     "iopub.execute_input": "2022-11-16T13:53:45.819618Z",
     "iopub.status.busy": "2022-11-16T13:53:45.819401Z",
     "iopub.status.idle": "2022-11-16T13:53:49.589786Z",
     "shell.execute_reply": "2022-11-16T13:53:49.588949Z",
     "shell.execute_reply.started": "2022-11-16T13:53:45.819599Z"
    }
   },
   "outputs": [],
   "source": []
  },
  {
   "cell_type": "code",
   "execution_count": 18,
   "outputs": [
    {
     "name": "stdout",
     "output_type": "stream",
     "text": [
      "cv: 3 n_jobs: 3 refit: True n_iter: 100 verbose: 2\n",
      "\n",
      "\n",
      "Hyperparameters:\n"
     ]
    },
    {
     "data": {
      "text/plain": "{'learning_rate': [None, 0.01, 0.1, 1],\n 'depth': [6, 7, 8],\n 'l2_leaf_reg': [1, 3, 5, 7, 9]}"
     },
     "execution_count": 18,
     "metadata": {},
     "output_type": "execute_result"
    }
   ],
   "source": [
    "options_block = get_hyperparameters(ALGORITHM, use_gpu, prefix='../../../') #JHJH\n",
    "\n",
    "if 'explore param' in DATA_DETAIL:\n",
    "    def automl_step(param_options, vary):\n",
    "        for key, value in param_options.items():\n",
    "            #print(key, value, vary)\n",
    "            if key != vary and key != 'model__' + vary:\n",
    "                param_options[key] = [param_options[key][0]]\n",
    "        return param_options\n",
    "\n",
    "    #options_block = automl_step(options_block, \"model__epochs\")\n",
    "    explore_param = \"alpha\"\n",
    "    options_block = automl_step(options_block, explore_param)\n",
    "\n",
    "\n",
    "if 'forest' in ALGORITHM.lower():\n",
    "    OVERRIDE_N_ITER = 5\n",
    "    if use_gpu:\n",
    "        OVERRIDE_JOBS = 8\n",
    "\n",
    "param_options, cv, n_jobs, refit, n_iter, verbose = get_cv_params(options_block, debug_mode=debug_mode,\n",
    "                                                                  override_cv=OVERRIDE_CV,\n",
    "                                                                  override_niter=OVERRIDE_N_ITER,\n",
    "                                                                  override_njobs=OVERRIDE_JOBS)\n",
    "\n",
    "if 'forest' in ALGORITHM.lower() or True: #JHJH\n",
    "    verbose = 2\n",
    "\n",
    "print(\"cv:\", cv, \"n_jobs:\", n_jobs, \"refit:\", refit, \"n_iter:\", n_iter, \"verbose:\", verbose)\n",
    "\n",
    "if not_catboost and len(param_options.keys()) > 2 and not already_timed and debug_mode:\n",
    "    already_timed = True\n",
    "    %timeit starter_pipe.fit(X_train, y_train)\n",
    "\n",
    "\n",
    "print('\\n\\nHyperparameters:')\n",
    "param_options if not_catboost else options_block"
   ],
   "metadata": {
    "collapsed": false
   }
  },
  {
   "cell_type": "code",
   "execution_count": 19,
   "metadata": {
    "execution": {
     "iopub.execute_input": "2022-11-16T13:53:49.591033Z",
     "iopub.status.busy": "2022-11-16T13:53:49.590814Z",
     "iopub.status.idle": "2022-11-16T13:59:47.180261Z",
     "shell.execute_reply": "2022-11-16T13:59:47.179463Z",
     "shell.execute_reply.started": "2022-11-16T13:53:49.591014Z"
    }
   },
   "outputs": [
    {
     "data": {
      "text/plain": "MetricVisualizer(layout=Layout(align_self='stretch', height='500px'))",
      "application/vnd.jupyter.widget-view+json": {
       "version_major": 2,
       "version_minor": 0,
       "model_id": "cbe862d405b14eec87dee0f8fb83a832"
      }
     },
     "metadata": {},
     "output_type": "display_data"
    },
    {
     "name": "stdout",
     "output_type": "stream",
     "text": [
      "0:\tlearn: 103788.1221990\ttest: 102797.4885665\tbest: 102797.4885665 (0)\ttotal: 58.8ms\tremaining: 5.82s\n",
      "1:\tlearn: 85566.2644708\ttest: 85539.9475185\tbest: 85539.9475185 (1)\ttotal: 70.5ms\tremaining: 3.45s\n",
      "2:\tlearn: 79924.4747349\ttest: 79778.5067841\tbest: 79778.5067841 (2)\ttotal: 83.7ms\tremaining: 2.71s\n",
      "3:\tlearn: 73701.0635811\ttest: 73853.5836302\tbest: 73853.5836302 (3)\ttotal: 95ms\tremaining: 2.28s\n",
      "4:\tlearn: 71845.7087987\ttest: 72159.7865442\tbest: 72159.7865442 (4)\ttotal: 106ms\tremaining: 2.02s\n",
      "5:\tlearn: 70573.7214915\ttest: 70711.2539015\tbest: 70711.2539015 (5)\ttotal: 122ms\tremaining: 1.91s\n",
      "6:\tlearn: 69578.5494465\ttest: 69491.4234296\tbest: 69491.4234296 (6)\ttotal: 133ms\tremaining: 1.76s\n",
      "7:\tlearn: 69027.6006521\ttest: 69072.2993956\tbest: 69072.2993956 (7)\ttotal: 144ms\tremaining: 1.65s\n",
      "8:\tlearn: 68620.4033189\ttest: 68914.1907195\tbest: 68914.1907195 (8)\ttotal: 148ms\tremaining: 1.5s\n",
      "9:\tlearn: 68239.3671607\ttest: 68603.5220196\tbest: 68603.5220196 (9)\ttotal: 153ms\tremaining: 1.37s\n",
      "10:\tlearn: 67797.2943714\ttest: 68143.0232151\tbest: 68143.0232151 (10)\ttotal: 158ms\tremaining: 1.28s\n",
      "11:\tlearn: 67269.5973103\ttest: 67620.4245235\tbest: 67620.4245235 (11)\ttotal: 162ms\tremaining: 1.19s\n",
      "12:\tlearn: 67050.8534649\ttest: 67404.2570635\tbest: 67404.2570635 (12)\ttotal: 167ms\tremaining: 1.12s\n",
      "13:\tlearn: 66667.7748372\ttest: 67042.6918925\tbest: 67042.6918925 (13)\ttotal: 171ms\tremaining: 1.05s\n",
      "14:\tlearn: 66326.4716492\ttest: 66889.8802731\tbest: 66889.8802731 (14)\ttotal: 176ms\tremaining: 997ms\n",
      "15:\tlearn: 66191.6907238\ttest: 66757.5343719\tbest: 66757.5343719 (15)\ttotal: 180ms\tremaining: 946ms\n",
      "16:\tlearn: 66008.4177783\ttest: 66786.4913128\tbest: 66757.5343719 (15)\ttotal: 185ms\tremaining: 901ms\n",
      "17:\tlearn: 65726.7907425\ttest: 66441.1024604\tbest: 66441.1024604 (17)\ttotal: 189ms\tremaining: 860ms\n",
      "18:\tlearn: 65582.9509110\ttest: 66324.6495007\tbest: 66324.6495007 (18)\ttotal: 193ms\tremaining: 823ms\n",
      "19:\tlearn: 65464.1546485\ttest: 66242.7199276\tbest: 66242.7199276 (19)\ttotal: 198ms\tremaining: 793ms\n",
      "20:\tlearn: 65235.6549956\ttest: 66103.9306612\tbest: 66103.9306612 (20)\ttotal: 203ms\tremaining: 762ms\n",
      "21:\tlearn: 64980.1048001\ttest: 65922.0493476\tbest: 65922.0493476 (21)\ttotal: 207ms\tremaining: 734ms\n",
      "22:\tlearn: 64887.8789360\ttest: 65919.1472636\tbest: 65919.1472636 (22)\ttotal: 212ms\tremaining: 708ms\n",
      "23:\tlearn: 64625.9529878\ttest: 65676.6926662\tbest: 65676.6926662 (23)\ttotal: 216ms\tremaining: 683ms\n",
      "24:\tlearn: 64446.6777694\ttest: 65630.8006882\tbest: 65630.8006882 (24)\ttotal: 220ms\tremaining: 660ms\n",
      "25:\tlearn: 64118.6728297\ttest: 65533.7886165\tbest: 65533.7886165 (25)\ttotal: 224ms\tremaining: 639ms\n",
      "26:\tlearn: 63963.5688688\ttest: 65433.9308368\tbest: 65433.9308368 (26)\ttotal: 229ms\tremaining: 618ms\n",
      "27:\tlearn: 63961.5134848\ttest: 65423.6042105\tbest: 65423.6042105 (27)\ttotal: 232ms\tremaining: 596ms\n",
      "28:\tlearn: 63959.9873468\ttest: 65414.9483282\tbest: 65414.9483282 (28)\ttotal: 235ms\tremaining: 576ms\n",
      "29:\tlearn: 63771.8019534\ttest: 65206.3939539\tbest: 65206.3939539 (29)\ttotal: 241ms\tremaining: 561ms\n",
      "30:\tlearn: 63672.3161661\ttest: 65155.8198124\tbest: 65155.8198124 (30)\ttotal: 245ms\tremaining: 546ms\n",
      "31:\tlearn: 63578.0905455\ttest: 65144.4189659\tbest: 65144.4189659 (31)\ttotal: 250ms\tremaining: 531ms\n",
      "32:\tlearn: 63369.8225275\ttest: 65099.0690433\tbest: 65099.0690433 (32)\ttotal: 254ms\tremaining: 516ms\n",
      "33:\tlearn: 63221.6040667\ttest: 64819.3636989\tbest: 64819.3636989 (33)\ttotal: 259ms\tremaining: 503ms\n",
      "34:\tlearn: 63148.2298778\ttest: 64775.7890617\tbest: 64775.7890617 (34)\ttotal: 264ms\tremaining: 489ms\n",
      "35:\tlearn: 62995.2173242\ttest: 64729.5865981\tbest: 64729.5865981 (35)\ttotal: 268ms\tremaining: 477ms\n",
      "36:\tlearn: 62962.7216873\ttest: 64717.4331716\tbest: 64717.4331716 (36)\ttotal: 273ms\tremaining: 464ms\n",
      "37:\tlearn: 62865.4464829\ttest: 64697.0547401\tbest: 64697.0547401 (37)\ttotal: 277ms\tremaining: 452ms\n",
      "38:\tlearn: 62733.0547311\ttest: 64630.9742071\tbest: 64630.9742071 (38)\ttotal: 282ms\tremaining: 440ms\n",
      "39:\tlearn: 62595.2091797\ttest: 64556.1567257\tbest: 64556.1567257 (39)\ttotal: 286ms\tremaining: 429ms\n",
      "40:\tlearn: 62471.4791890\ttest: 64468.4589310\tbest: 64468.4589310 (40)\ttotal: 291ms\tremaining: 418ms\n",
      "41:\tlearn: 62292.8820692\ttest: 64364.5730359\tbest: 64364.5730359 (41)\ttotal: 295ms\tremaining: 408ms\n",
      "42:\tlearn: 62160.6952599\ttest: 64266.9965261\tbest: 64266.9965261 (42)\ttotal: 300ms\tremaining: 397ms\n",
      "43:\tlearn: 62156.2972454\ttest: 64272.8925887\tbest: 64266.9965261 (42)\ttotal: 304ms\tremaining: 387ms\n",
      "44:\tlearn: 62059.1336163\ttest: 64297.3229222\tbest: 64266.9965261 (42)\ttotal: 308ms\tremaining: 377ms\n",
      "45:\tlearn: 61888.1757973\ttest: 64147.6138980\tbest: 64147.6138980 (45)\ttotal: 313ms\tremaining: 368ms\n",
      "46:\tlearn: 61883.4412719\ttest: 64141.7041144\tbest: 64141.7041144 (46)\ttotal: 317ms\tremaining: 358ms\n",
      "47:\tlearn: 61766.3924683\ttest: 64058.6165849\tbest: 64058.6165849 (47)\ttotal: 322ms\tremaining: 349ms\n",
      "48:\tlearn: 61571.0680986\ttest: 63934.5540317\tbest: 63934.5540317 (48)\ttotal: 326ms\tremaining: 339ms\n",
      "49:\tlearn: 61464.1602140\ttest: 63880.3127012\tbest: 63880.3127012 (49)\ttotal: 330ms\tremaining: 330ms\n",
      "50:\tlearn: 61366.2430842\ttest: 63836.6316205\tbest: 63836.6316205 (50)\ttotal: 334ms\tremaining: 321ms\n",
      "51:\tlearn: 61257.5423281\ttest: 63677.3772493\tbest: 63677.3772493 (51)\ttotal: 339ms\tremaining: 313ms\n",
      "52:\tlearn: 61102.9397912\ttest: 63617.7429326\tbest: 63617.7429326 (52)\ttotal: 343ms\tremaining: 304ms\n",
      "53:\tlearn: 61019.4848438\ttest: 63569.5187666\tbest: 63569.5187666 (53)\ttotal: 348ms\tremaining: 296ms\n",
      "54:\tlearn: 60945.5025474\ttest: 63643.7535443\tbest: 63569.5187666 (53)\ttotal: 353ms\tremaining: 288ms\n",
      "55:\tlearn: 60902.9534430\ttest: 63659.4975113\tbest: 63569.5187666 (53)\ttotal: 357ms\tremaining: 281ms\n",
      "56:\tlearn: 60823.5997044\ttest: 63593.7405688\tbest: 63569.5187666 (53)\ttotal: 362ms\tremaining: 273ms\n",
      "57:\tlearn: 60711.5243741\ttest: 63540.4941250\tbest: 63540.4941250 (57)\ttotal: 366ms\tremaining: 265ms\n",
      "58:\tlearn: 60647.1398019\ttest: 63523.2549735\tbest: 63523.2549735 (58)\ttotal: 371ms\tremaining: 258ms\n",
      "59:\tlearn: 60528.1332759\ttest: 63399.9086218\tbest: 63399.9086218 (59)\ttotal: 375ms\tremaining: 250ms\n",
      "60:\tlearn: 60445.3637051\ttest: 63435.1584576\tbest: 63399.9086218 (59)\ttotal: 379ms\tremaining: 243ms\n",
      "61:\tlearn: 60435.6547579\ttest: 63432.3330886\tbest: 63399.9086218 (59)\ttotal: 383ms\tremaining: 235ms\n",
      "62:\tlearn: 60354.5401973\ttest: 63359.4247737\tbest: 63359.4247737 (62)\ttotal: 388ms\tremaining: 228ms\n",
      "63:\tlearn: 60268.2464555\ttest: 63334.2136789\tbest: 63334.2136789 (63)\ttotal: 392ms\tremaining: 221ms\n",
      "64:\tlearn: 60198.1646278\ttest: 63342.5267136\tbest: 63334.2136789 (63)\ttotal: 396ms\tremaining: 213ms\n",
      "65:\tlearn: 60093.8218157\ttest: 63225.1897324\tbest: 63225.1897324 (65)\ttotal: 401ms\tremaining: 206ms\n",
      "66:\tlearn: 59997.0561462\ttest: 63232.5709623\tbest: 63225.1897324 (65)\ttotal: 405ms\tremaining: 199ms\n",
      "67:\tlearn: 59920.1612038\ttest: 63221.7058849\tbest: 63221.7058849 (67)\ttotal: 410ms\tremaining: 193ms\n",
      "68:\tlearn: 59813.0555730\ttest: 63086.0272752\tbest: 63086.0272752 (68)\ttotal: 414ms\tremaining: 186ms\n",
      "69:\tlearn: 59802.3728816\ttest: 63083.1268334\tbest: 63083.1268334 (69)\ttotal: 420ms\tremaining: 180ms\n",
      "70:\tlearn: 59715.1379404\ttest: 63007.6991886\tbest: 63007.6991886 (70)\ttotal: 424ms\tremaining: 173ms\n",
      "71:\tlearn: 59626.6376749\ttest: 62971.5101559\tbest: 62971.5101559 (71)\ttotal: 428ms\tremaining: 167ms\n",
      "72:\tlearn: 59576.3303264\ttest: 62979.9394325\tbest: 62971.5101559 (71)\ttotal: 433ms\tremaining: 160ms\n",
      "73:\tlearn: 59527.5584539\ttest: 63005.5640892\tbest: 62971.5101559 (71)\ttotal: 437ms\tremaining: 154ms\n",
      "74:\tlearn: 59511.6146875\ttest: 63030.6380279\tbest: 62971.5101559 (71)\ttotal: 441ms\tremaining: 147ms\n",
      "75:\tlearn: 59460.4203283\ttest: 63072.6095563\tbest: 62971.5101559 (71)\ttotal: 446ms\tremaining: 141ms\n",
      "76:\tlearn: 59394.4599058\ttest: 63105.3071112\tbest: 62971.5101559 (71)\ttotal: 451ms\tremaining: 135ms\n",
      "77:\tlearn: 59326.7893650\ttest: 63044.0072001\tbest: 62971.5101559 (71)\ttotal: 456ms\tremaining: 129ms\n",
      "78:\tlearn: 59283.6716959\ttest: 63019.6032941\tbest: 62971.5101559 (71)\ttotal: 460ms\tremaining: 122ms\n",
      "79:\tlearn: 59227.7587028\ttest: 63003.0379334\tbest: 62971.5101559 (71)\ttotal: 465ms\tremaining: 116ms\n",
      "80:\tlearn: 59204.6512221\ttest: 62999.3928492\tbest: 62971.5101559 (71)\ttotal: 469ms\tremaining: 110ms\n",
      "81:\tlearn: 59112.0637620\ttest: 62909.5099279\tbest: 62909.5099279 (81)\ttotal: 473ms\tremaining: 104ms\n",
      "82:\tlearn: 59005.1378019\ttest: 62884.8069355\tbest: 62884.8069355 (82)\ttotal: 478ms\tremaining: 97.8ms\n",
      "83:\tlearn: 58991.1320969\ttest: 62882.1364656\tbest: 62882.1364656 (83)\ttotal: 482ms\tremaining: 91.7ms\n",
      "84:\tlearn: 58913.0616989\ttest: 62817.0166929\tbest: 62817.0166929 (84)\ttotal: 486ms\tremaining: 85.8ms\n",
      "85:\tlearn: 58852.9819865\ttest: 62796.1247400\tbest: 62796.1247400 (85)\ttotal: 490ms\tremaining: 79.8ms\n",
      "86:\tlearn: 58781.5162981\ttest: 62776.1410639\tbest: 62776.1410639 (86)\ttotal: 495ms\tremaining: 73.9ms\n",
      "87:\tlearn: 58709.9698416\ttest: 62712.5188133\tbest: 62712.5188133 (87)\ttotal: 500ms\tremaining: 68.1ms\n",
      "88:\tlearn: 58654.2833365\ttest: 62705.9531598\tbest: 62705.9531598 (88)\ttotal: 504ms\tremaining: 62.3ms\n",
      "89:\tlearn: 58553.9582864\ttest: 62752.1455682\tbest: 62705.9531598 (88)\ttotal: 509ms\tremaining: 56.5ms\n",
      "90:\tlearn: 58472.8870806\ttest: 62685.4238069\tbest: 62685.4238069 (90)\ttotal: 513ms\tremaining: 50.7ms\n",
      "91:\tlearn: 58365.4885699\ttest: 62662.2032030\tbest: 62662.2032030 (91)\ttotal: 518ms\tremaining: 45ms\n",
      "92:\tlearn: 58291.9125665\ttest: 62654.9178439\tbest: 62654.9178439 (92)\ttotal: 522ms\tremaining: 39.3ms\n",
      "93:\tlearn: 58247.5694587\ttest: 62697.3886253\tbest: 62654.9178439 (92)\ttotal: 527ms\tremaining: 33.6ms\n",
      "94:\tlearn: 58199.1649315\ttest: 62687.1115403\tbest: 62654.9178439 (92)\ttotal: 531ms\tremaining: 27.9ms\n",
      "95:\tlearn: 58138.3758756\ttest: 62722.0071098\tbest: 62654.9178439 (92)\ttotal: 535ms\tremaining: 22.3ms\n",
      "96:\tlearn: 58090.4289673\ttest: 62716.1214614\tbest: 62654.9178439 (92)\ttotal: 539ms\tremaining: 16.7ms\n",
      "97:\tlearn: 58033.1929314\ttest: 62721.1802862\tbest: 62654.9178439 (92)\ttotal: 544ms\tremaining: 11.1ms\n",
      "98:\tlearn: 57969.1332571\ttest: 62726.6729137\tbest: 62654.9178439 (92)\ttotal: 554ms\tremaining: 5.6ms\n",
      "99:\tlearn: 57919.4609992\ttest: 62722.6996094\tbest: 62654.9178439 (92)\ttotal: 563ms\tremaining: 0us\n",
      "\n",
      "bestTest = 62654.91784\n",
      "bestIteration = 92\n",
      "\n",
      "0:\tloss: 62654.9178439\tbest: 62654.9178439 (0)\ttotal: 1.58s\tremaining: 14.2s\n",
      "0:\tlearn: 434358.4380011\ttest: 434828.5279424\tbest: 434828.5279424 (0)\ttotal: 6.29ms\tremaining: 623ms\n",
      "1:\tlearn: 430247.6657380\ttest: 430712.0648114\tbest: 430712.0648114 (1)\ttotal: 11ms\tremaining: 539ms\n",
      "2:\tlearn: 426154.0450953\ttest: 426620.5218402\tbest: 426620.5218402 (2)\ttotal: 15.5ms\tremaining: 500ms\n",
      "3:\tlearn: 422186.7479560\ttest: 422652.4215876\tbest: 422652.4215876 (3)\ttotal: 19.5ms\tremaining: 469ms\n",
      "4:\tlearn: 418198.3848764\ttest: 418664.1992964\tbest: 418664.1992964 (4)\ttotal: 24ms\tremaining: 457ms\n",
      "5:\tlearn: 414295.6878630\ttest: 414762.5294686\tbest: 414762.5294686 (5)\ttotal: 28.1ms\tremaining: 441ms\n",
      "6:\tlearn: 410397.2226102\ttest: 410868.6999696\tbest: 410868.6999696 (6)\ttotal: 32.2ms\tremaining: 427ms\n",
      "7:\tlearn: 406583.7308779\ttest: 407052.7212524\tbest: 407052.7212524 (7)\ttotal: 36.2ms\tremaining: 417ms\n",
      "8:\tlearn: 402759.7084645\ttest: 403233.0710707\tbest: 403233.0710707 (8)\ttotal: 39.4ms\tremaining: 398ms\n",
      "9:\tlearn: 398944.6352566\ttest: 399419.3730626\tbest: 399419.3730626 (9)\ttotal: 43.5ms\tremaining: 392ms\n",
      "10:\tlearn: 395252.7484451\ttest: 395727.3480899\tbest: 395727.3480899 (10)\ttotal: 47.6ms\tremaining: 385ms\n",
      "11:\tlearn: 391549.7548702\ttest: 392028.7883370\tbest: 392028.7883370 (11)\ttotal: 51.6ms\tremaining: 378ms\n",
      "12:\tlearn: 387881.7289382\ttest: 388360.9444394\tbest: 388360.9444394 (12)\ttotal: 55.6ms\tremaining: 372ms\n",
      "13:\tlearn: 384296.4098668\ttest: 384773.5177358\tbest: 384773.5177358 (13)\ttotal: 59.6ms\tremaining: 366ms\n",
      "14:\tlearn: 380745.0634299\ttest: 381217.5943542\tbest: 381217.5943542 (14)\ttotal: 63.6ms\tremaining: 360ms\n",
      "15:\tlearn: 377232.2806717\ttest: 377701.9177678\tbest: 377701.9177678 (15)\ttotal: 67.5ms\tremaining: 354ms\n",
      "16:\tlearn: 373730.2960797\ttest: 374194.2426096\tbest: 374194.2426096 (16)\ttotal: 71.7ms\tremaining: 350ms\n",
      "17:\tlearn: 370245.9403564\ttest: 370707.3707934\tbest: 370707.3707934 (17)\ttotal: 75.7ms\tremaining: 345ms\n",
      "18:\tlearn: 366792.1514486\ttest: 367258.1331083\tbest: 367258.1331083 (18)\ttotal: 79.6ms\tremaining: 339ms\n",
      "19:\tlearn: 363386.3577591\ttest: 363855.7754933\tbest: 363855.7754933 (19)\ttotal: 82.5ms\tremaining: 330ms\n",
      "20:\tlearn: 360013.1815346\ttest: 360485.6155015\tbest: 360485.6155015 (20)\ttotal: 86.6ms\tremaining: 326ms\n",
      "21:\tlearn: 356706.6445522\ttest: 357171.7357803\tbest: 357171.7357803 (21)\ttotal: 90.6ms\tremaining: 321ms\n",
      "22:\tlearn: 353446.8301507\ttest: 353908.0659191\tbest: 353908.0659191 (22)\ttotal: 94.6ms\tremaining: 317ms\n",
      "23:\tlearn: 350184.1420427\ttest: 350645.8856620\tbest: 350645.8856620 (23)\ttotal: 98.8ms\tremaining: 313ms\n",
      "24:\tlearn: 346938.1244979\ttest: 347402.7393684\tbest: 347402.7393684 (24)\ttotal: 103ms\tremaining: 309ms\n",
      "25:\tlearn: 343721.2637404\ttest: 344188.0769782\tbest: 344188.0769782 (25)\ttotal: 107ms\tremaining: 304ms\n",
      "26:\tlearn: 340595.4093113\ttest: 341058.8334604\tbest: 341058.8334604 (26)\ttotal: 110ms\tremaining: 296ms\n",
      "27:\tlearn: 337468.9911198\ttest: 337938.0384993\tbest: 337938.0384993 (27)\ttotal: 114ms\tremaining: 293ms\n",
      "28:\tlearn: 334372.5396221\ttest: 334845.3486984\tbest: 334845.3486984 (28)\ttotal: 118ms\tremaining: 289ms\n",
      "29:\tlearn: 331297.3835859\ttest: 331773.0398564\tbest: 331773.0398564 (29)\ttotal: 122ms\tremaining: 286ms\n",
      "30:\tlearn: 328312.9657519\ttest: 328787.0103041\tbest: 328787.0103041 (30)\ttotal: 127ms\tremaining: 282ms\n",
      "31:\tlearn: 325285.5411000\ttest: 325762.1171012\tbest: 325762.1171012 (31)\ttotal: 131ms\tremaining: 277ms\n",
      "32:\tlearn: 322309.9864343\ttest: 322784.2717733\tbest: 322784.2717733 (32)\ttotal: 135ms\tremaining: 274ms\n",
      "33:\tlearn: 319388.1200588\ttest: 319865.2695867\tbest: 319865.2695867 (33)\ttotal: 139ms\tremaining: 270ms\n",
      "34:\tlearn: 316467.1155491\ttest: 316939.8047444\tbest: 316939.8047444 (34)\ttotal: 143ms\tremaining: 266ms\n",
      "35:\tlearn: 313593.7968262\ttest: 314065.3393765\tbest: 314065.3393765 (35)\ttotal: 146ms\tremaining: 260ms\n",
      "36:\tlearn: 310787.9231918\ttest: 311254.6391258\tbest: 311254.6391258 (36)\ttotal: 150ms\tremaining: 255ms\n",
      "37:\tlearn: 307988.0290933\ttest: 308455.0082880\tbest: 308455.0082880 (37)\ttotal: 154ms\tremaining: 251ms\n",
      "38:\tlearn: 305219.0841013\ttest: 305689.6197473\tbest: 305689.6197473 (38)\ttotal: 158ms\tremaining: 247ms\n",
      "39:\tlearn: 302469.0440106\ttest: 302937.6635555\tbest: 302937.6635555 (39)\ttotal: 162ms\tremaining: 242ms\n",
      "40:\tlearn: 299736.1887424\ttest: 300207.4894335\tbest: 300207.4894335 (40)\ttotal: 166ms\tremaining: 238ms\n",
      "41:\tlearn: 297028.1976575\ttest: 297501.8083379\tbest: 297501.8083379 (41)\ttotal: 170ms\tremaining: 234ms\n",
      "42:\tlearn: 294392.9037274\ttest: 294861.8621215\tbest: 294861.8621215 (42)\ttotal: 174ms\tremaining: 230ms\n",
      "43:\tlearn: 291752.6639124\ttest: 292218.3283541\tbest: 292218.3283541 (43)\ttotal: 177ms\tremaining: 225ms\n",
      "44:\tlearn: 289181.8801305\ttest: 289643.8516284\tbest: 289643.8516284 (44)\ttotal: 181ms\tremaining: 221ms\n",
      "45:\tlearn: 286609.7919770\ttest: 287074.1174036\tbest: 287074.1174036 (45)\ttotal: 185ms\tremaining: 218ms\n",
      "46:\tlearn: 284049.2591188\ttest: 284516.0502640\tbest: 284516.0502640 (46)\ttotal: 190ms\tremaining: 214ms\n",
      "47:\tlearn: 281570.0747661\ttest: 282032.2157569\tbest: 282032.2157569 (47)\ttotal: 193ms\tremaining: 209ms\n",
      "48:\tlearn: 279078.6264597\ttest: 279538.0852797\tbest: 279538.0852797 (48)\ttotal: 197ms\tremaining: 205ms\n",
      "49:\tlearn: 276603.7675495\ttest: 277063.4795209\tbest: 277063.4795209 (49)\ttotal: 201ms\tremaining: 201ms\n",
      "50:\tlearn: 274188.7900726\ttest: 274640.6384328\tbest: 274640.6384328 (50)\ttotal: 206ms\tremaining: 198ms\n",
      "51:\tlearn: 271769.2468273\ttest: 272222.2086188\tbest: 272222.2086188 (51)\ttotal: 210ms\tremaining: 194ms\n",
      "52:\tlearn: 269352.8296956\ttest: 269807.0000471\tbest: 269807.0000471 (52)\ttotal: 214ms\tremaining: 190ms\n",
      "53:\tlearn: 266981.8906451\ttest: 267435.8201209\tbest: 267435.8201209 (53)\ttotal: 218ms\tremaining: 186ms\n",
      "54:\tlearn: 264648.9758615\ttest: 265101.1889175\tbest: 265101.1889175 (54)\ttotal: 222ms\tremaining: 182ms\n",
      "55:\tlearn: 262340.2652925\ttest: 262793.8696199\tbest: 262793.8696199 (55)\ttotal: 226ms\tremaining: 178ms\n",
      "56:\tlearn: 260049.0676082\ttest: 260502.1758757\tbest: 260502.1758757 (56)\ttotal: 230ms\tremaining: 174ms\n",
      "57:\tlearn: 257833.6320609\ttest: 258284.5317884\tbest: 258284.5317884 (57)\ttotal: 235ms\tremaining: 170ms\n",
      "58:\tlearn: 255593.9974784\ttest: 256041.5831220\tbest: 256041.5831220 (58)\ttotal: 239ms\tremaining: 166ms\n",
      "59:\tlearn: 253348.7165907\ttest: 253797.1078568\tbest: 253797.1078568 (59)\ttotal: 243ms\tremaining: 162ms\n",
      "60:\tlearn: 251125.2715570\ttest: 251572.5198321\tbest: 251572.5198321 (60)\ttotal: 247ms\tremaining: 158ms\n",
      "61:\tlearn: 248949.1374389\ttest: 249392.6997371\tbest: 249392.6997371 (61)\ttotal: 251ms\tremaining: 154ms\n",
      "62:\tlearn: 246806.5820610\ttest: 247248.0377099\tbest: 247248.0377099 (62)\ttotal: 255ms\tremaining: 150ms\n",
      "63:\tlearn: 244686.1530354\ttest: 245125.0125712\tbest: 245125.0125712 (63)\ttotal: 259ms\tremaining: 146ms\n",
      "64:\tlearn: 242633.5880779\ttest: 243067.9429474\tbest: 243067.9429474 (64)\ttotal: 262ms\tremaining: 141ms\n",
      "65:\tlearn: 240529.1966001\ttest: 240962.2481912\tbest: 240962.2481912 (65)\ttotal: 267ms\tremaining: 137ms\n",
      "66:\tlearn: 238462.0481842\ttest: 238893.7992101\tbest: 238893.7992101 (66)\ttotal: 271ms\tremaining: 133ms\n",
      "67:\tlearn: 236421.4966869\ttest: 236854.9635066\tbest: 236854.9635066 (67)\ttotal: 274ms\tremaining: 129ms\n",
      "68:\tlearn: 234408.3787261\ttest: 234839.4343017\tbest: 234839.4343017 (68)\ttotal: 278ms\tremaining: 125ms\n",
      "69:\tlearn: 232394.5625889\ttest: 232820.0812293\tbest: 232820.0812293 (69)\ttotal: 282ms\tremaining: 121ms\n",
      "70:\tlearn: 230378.8615736\ttest: 230804.8921361\tbest: 230804.8921361 (70)\ttotal: 287ms\tremaining: 117ms\n",
      "71:\tlearn: 228425.7276315\ttest: 228850.7698517\tbest: 228850.7698517 (71)\ttotal: 291ms\tremaining: 113ms\n",
      "72:\tlearn: 226483.2422425\ttest: 226908.6670255\tbest: 226908.6670255 (72)\ttotal: 295ms\tremaining: 109ms\n",
      "73:\tlearn: 224613.5142417\ttest: 225031.6133541\tbest: 225031.6133541 (73)\ttotal: 299ms\tremaining: 105ms\n",
      "74:\tlearn: 222739.7814065\ttest: 223153.8972501\tbest: 223153.8972501 (74)\ttotal: 303ms\tremaining: 101ms\n",
      "75:\tlearn: 220890.0662474\ttest: 221302.2496290\tbest: 221302.2496290 (75)\ttotal: 307ms\tremaining: 97ms\n",
      "76:\tlearn: 219042.5028389\ttest: 219453.5045608\tbest: 219453.5045608 (76)\ttotal: 319ms\tremaining: 95.2ms\n",
      "77:\tlearn: 217216.7200892\ttest: 217625.7266465\tbest: 217625.7266465 (77)\ttotal: 324ms\tremaining: 91.3ms\n",
      "78:\tlearn: 215419.1878324\ttest: 215826.4792743\tbest: 215826.4792743 (78)\ttotal: 329ms\tremaining: 87.4ms\n",
      "79:\tlearn: 213663.4156408\ttest: 214070.6785973\tbest: 214070.6785973 (79)\ttotal: 333ms\tremaining: 83.3ms\n",
      "80:\tlearn: 211896.9617014\ttest: 212302.5020153\tbest: 212302.5020153 (80)\ttotal: 338ms\tremaining: 79.2ms\n",
      "81:\tlearn: 210148.6708478\ttest: 210550.8261657\tbest: 210550.8261657 (81)\ttotal: 342ms\tremaining: 75.2ms\n",
      "82:\tlearn: 208443.2210647\ttest: 208843.6160330\tbest: 208843.6160330 (82)\ttotal: 346ms\tremaining: 71ms\n",
      "83:\tlearn: 206732.3756528\ttest: 207132.8697103\tbest: 207132.8697103 (83)\ttotal: 350ms\tremaining: 66.7ms\n",
      "84:\tlearn: 205050.8603430\ttest: 205450.5907814\tbest: 205450.5907814 (84)\ttotal: 355ms\tremaining: 62.6ms\n",
      "85:\tlearn: 203386.2774119\ttest: 203782.5281572\tbest: 203782.5281572 (85)\ttotal: 359ms\tremaining: 58.4ms\n",
      "86:\tlearn: 201738.0152216\ttest: 202131.4900614\tbest: 202131.4900614 (86)\ttotal: 363ms\tremaining: 54.2ms\n",
      "87:\tlearn: 200131.9790005\ttest: 200521.8965897\tbest: 200521.8965897 (87)\ttotal: 367ms\tremaining: 50ms\n",
      "88:\tlearn: 198532.1505164\ttest: 198919.4279923\tbest: 198919.4279923 (88)\ttotal: 371ms\tremaining: 45.8ms\n",
      "89:\tlearn: 196951.4013243\ttest: 197334.3000158\tbest: 197334.3000158 (89)\ttotal: 375ms\tremaining: 41.6ms\n",
      "90:\tlearn: 195361.1539473\ttest: 195741.8450020\tbest: 195741.8450020 (90)\ttotal: 379ms\tremaining: 37.5ms\n",
      "91:\tlearn: 193825.0104487\ttest: 194202.7772720\tbest: 194202.7772720 (91)\ttotal: 383ms\tremaining: 33.3ms\n",
      "92:\tlearn: 192314.8344341\ttest: 192692.6392440\tbest: 192692.6392440 (92)\ttotal: 387ms\tremaining: 29.1ms\n",
      "93:\tlearn: 190794.0924674\ttest: 191165.3106827\tbest: 191165.3106827 (93)\ttotal: 391ms\tremaining: 25ms\n",
      "94:\tlearn: 189292.2470930\ttest: 189662.9731083\tbest: 189662.9731083 (94)\ttotal: 395ms\tremaining: 20.8ms\n",
      "95:\tlearn: 187782.6783869\ttest: 188150.7208883\tbest: 188150.7208883 (95)\ttotal: 399ms\tremaining: 16.6ms\n",
      "96:\tlearn: 186319.7224486\ttest: 186681.6489234\tbest: 186681.6489234 (96)\ttotal: 403ms\tremaining: 12.5ms\n",
      "97:\tlearn: 184882.1468387\ttest: 185245.3092526\tbest: 185245.3092526 (97)\ttotal: 407ms\tremaining: 8.31ms\n",
      "98:\tlearn: 183459.3863152\ttest: 183815.3018865\tbest: 183815.3018865 (98)\ttotal: 412ms\tremaining: 4.17ms\n",
      "99:\tlearn: 182054.1241987\ttest: 182405.7740260\tbest: 182405.7740260 (99)\ttotal: 416ms\tremaining: 0us\n",
      "\n",
      "bestTest = 182405.774\n",
      "bestIteration = 99\n",
      "\n",
      "1:\tloss: 182405.7740260\tbest: 62654.9178439 (0)\ttotal: 2s\tremaining: 8.01s\n",
      "0:\tlearn: 434300.2055587\ttest: 434775.1882130\tbest: 434775.1882130 (0)\ttotal: 6.44ms\tremaining: 638ms\n",
      "1:\tlearn: 430166.5504223\ttest: 430638.4244515\tbest: 430638.4244515 (1)\ttotal: 11.5ms\tremaining: 562ms\n",
      "2:\tlearn: 426072.0331720\ttest: 426541.2131943\tbest: 426541.2131943 (2)\ttotal: 16.9ms\tremaining: 547ms\n",
      "3:\tlearn: 422069.0980677\ttest: 422533.6952509\tbest: 422533.6952509 (3)\ttotal: 21.7ms\tremaining: 521ms\n",
      "4:\tlearn: 418070.1596534\ttest: 418539.3344144\tbest: 418539.3344144 (4)\ttotal: 26.4ms\tremaining: 501ms\n",
      "5:\tlearn: 414145.4784062\ttest: 414609.8377103\tbest: 414609.8377103 (5)\ttotal: 31.2ms\tremaining: 488ms\n",
      "6:\tlearn: 410235.0271388\ttest: 410703.6866906\tbest: 410703.6866906 (6)\ttotal: 35.3ms\tremaining: 469ms\n",
      "7:\tlearn: 406367.7498081\ttest: 406841.0528038\tbest: 406841.0528038 (7)\ttotal: 38.3ms\tremaining: 440ms\n",
      "8:\tlearn: 402490.7548350\ttest: 402965.5593641\tbest: 402965.5593641 (8)\ttotal: 43.4ms\tremaining: 439ms\n",
      "9:\tlearn: 398691.1407304\ttest: 399172.4025459\tbest: 399172.4025459 (9)\ttotal: 48.1ms\tremaining: 433ms\n",
      "10:\tlearn: 394923.2623118\ttest: 395409.3416396\tbest: 395409.3416396 (10)\ttotal: 52.7ms\tremaining: 426ms\n",
      "11:\tlearn: 391205.4176017\ttest: 391691.4773435\tbest: 391691.4773435 (11)\ttotal: 57.2ms\tremaining: 420ms\n",
      "12:\tlearn: 387518.9674355\ttest: 388009.8881060\tbest: 388009.8881060 (12)\ttotal: 61.8ms\tremaining: 414ms\n",
      "13:\tlearn: 383881.0761342\ttest: 384374.5931248\tbest: 384374.5931248 (13)\ttotal: 66.5ms\tremaining: 409ms\n",
      "14:\tlearn: 380305.2400756\ttest: 380794.0362855\tbest: 380794.0362855 (14)\ttotal: 71.9ms\tremaining: 407ms\n",
      "15:\tlearn: 376791.3622110\ttest: 377277.0530341\tbest: 377277.0530341 (15)\ttotal: 75.4ms\tremaining: 396ms\n",
      "16:\tlearn: 373246.0827262\ttest: 373733.3783115\tbest: 373733.3783115 (16)\ttotal: 80.3ms\tremaining: 392ms\n",
      "17:\tlearn: 369746.1566097\ttest: 370230.6442568\tbest: 370230.6442568 (17)\ttotal: 85.2ms\tremaining: 388ms\n",
      "18:\tlearn: 366295.2746406\ttest: 366779.8900908\tbest: 366779.8900908 (18)\ttotal: 90ms\tremaining: 384ms\n",
      "19:\tlearn: 362878.1701965\ttest: 363366.8463154\tbest: 363366.8463154 (19)\ttotal: 94.6ms\tremaining: 378ms\n",
      "20:\tlearn: 359499.9162710\ttest: 359992.6369735\tbest: 359992.6369735 (20)\ttotal: 99.4ms\tremaining: 374ms\n",
      "21:\tlearn: 356154.6323565\ttest: 356644.1861643\tbest: 356644.1861643 (21)\ttotal: 104ms\tremaining: 370ms\n",
      "22:\tlearn: 352847.9660081\ttest: 353342.0889405\tbest: 353342.0889405 (22)\ttotal: 109ms\tremaining: 365ms\n",
      "23:\tlearn: 349573.7694179\ttest: 350072.8732368\tbest: 350072.8732368 (23)\ttotal: 114ms\tremaining: 360ms\n",
      "24:\tlearn: 346382.1039232\ttest: 346878.7031140\tbest: 346878.7031140 (24)\ttotal: 118ms\tremaining: 355ms\n",
      "25:\tlearn: 343166.8376906\ttest: 343664.1607045\tbest: 343664.1607045 (25)\ttotal: 123ms\tremaining: 350ms\n",
      "26:\tlearn: 339989.2135865\ttest: 340491.2471622\tbest: 340491.2471622 (26)\ttotal: 127ms\tremaining: 343ms\n",
      "27:\tlearn: 336875.6567731\ttest: 337373.8025100\tbest: 337373.8025100 (27)\ttotal: 132ms\tremaining: 338ms\n",
      "28:\tlearn: 333769.1303273\ttest: 334270.0516687\tbest: 334270.0516687 (28)\ttotal: 136ms\tremaining: 334ms\n",
      "29:\tlearn: 330674.7859547\ttest: 331170.6547662\tbest: 331170.6547662 (29)\ttotal: 141ms\tremaining: 329ms\n",
      "30:\tlearn: 327635.0346261\ttest: 328128.4420492\tbest: 328128.4420492 (30)\ttotal: 145ms\tremaining: 323ms\n",
      "31:\tlearn: 324630.0633423\ttest: 325122.5423688\tbest: 325122.5423688 (31)\ttotal: 150ms\tremaining: 319ms\n",
      "32:\tlearn: 321660.3022721\ttest: 322157.1534428\tbest: 322157.1534428 (32)\ttotal: 155ms\tremaining: 315ms\n",
      "33:\tlearn: 318719.8603432\ttest: 319211.9087497\tbest: 319211.9087497 (33)\ttotal: 160ms\tremaining: 310ms\n",
      "34:\tlearn: 315791.0122386\ttest: 316284.4506494\tbest: 316284.4506494 (34)\ttotal: 166ms\tremaining: 308ms\n",
      "35:\tlearn: 312899.4571220\ttest: 313394.7642653\tbest: 313394.7642653 (35)\ttotal: 171ms\tremaining: 305ms\n",
      "36:\tlearn: 310098.1717345\ttest: 310589.8728412\tbest: 310589.8728412 (36)\ttotal: 174ms\tremaining: 296ms\n",
      "37:\tlearn: 307270.6689136\ttest: 307763.0606322\tbest: 307763.0606322 (37)\ttotal: 180ms\tremaining: 294ms\n",
      "38:\tlearn: 304494.0824193\ttest: 304989.2461101\tbest: 304989.2461101 (38)\ttotal: 185ms\tremaining: 290ms\n",
      "39:\tlearn: 301725.8598543\ttest: 302220.4145275\tbest: 302220.4145275 (39)\ttotal: 191ms\tremaining: 286ms\n",
      "40:\tlearn: 298988.4543319\ttest: 299482.3307428\tbest: 299482.3307428 (40)\ttotal: 196ms\tremaining: 282ms\n",
      "41:\tlearn: 296274.9334305\ttest: 296766.4850961\tbest: 296766.4850961 (41)\ttotal: 201ms\tremaining: 277ms\n",
      "42:\tlearn: 293603.2541731\ttest: 294096.0491750\tbest: 294096.0491750 (42)\ttotal: 206ms\tremaining: 273ms\n",
      "43:\tlearn: 290960.7007760\ttest: 291457.3659939\tbest: 291457.3659939 (43)\ttotal: 211ms\tremaining: 268ms\n",
      "44:\tlearn: 288326.0888705\ttest: 288825.9520789\tbest: 288825.9520789 (44)\ttotal: 215ms\tremaining: 263ms\n",
      "45:\tlearn: 285718.8980577\ttest: 286219.2240209\tbest: 286219.2240209 (45)\ttotal: 220ms\tremaining: 258ms\n",
      "46:\tlearn: 283164.2866395\ttest: 283666.0597304\tbest: 283666.0597304 (46)\ttotal: 225ms\tremaining: 253ms\n",
      "47:\tlearn: 280680.5811016\ttest: 281180.5522838\tbest: 281180.5522838 (47)\ttotal: 228ms\tremaining: 247ms\n",
      "48:\tlearn: 278180.0337534\ttest: 278680.4335556\tbest: 278680.4335556 (48)\ttotal: 232ms\tremaining: 242ms\n",
      "49:\tlearn: 275716.8702742\ttest: 276218.5612774\tbest: 276218.5612774 (49)\ttotal: 237ms\tremaining: 237ms\n",
      "50:\tlearn: 273279.9791416\ttest: 273778.7377037\tbest: 273778.7377037 (50)\ttotal: 241ms\tremaining: 231ms\n",
      "51:\tlearn: 270824.5534560\ttest: 271324.5013080\tbest: 271324.5013080 (51)\ttotal: 245ms\tremaining: 227ms\n",
      "52:\tlearn: 268427.2272023\ttest: 268921.7548590\tbest: 268921.7548590 (52)\ttotal: 250ms\tremaining: 222ms\n",
      "53:\tlearn: 266052.2724037\ttest: 266544.2845793\tbest: 266544.2845793 (53)\ttotal: 255ms\tremaining: 217ms\n",
      "54:\tlearn: 263757.6840525\ttest: 264245.7233618\tbest: 264245.7233618 (54)\ttotal: 258ms\tremaining: 211ms\n",
      "55:\tlearn: 261431.5962711\ttest: 261917.5931795\tbest: 261917.5931795 (55)\ttotal: 263ms\tremaining: 206ms\n",
      "56:\tlearn: 259159.9848732\ttest: 259642.4920196\tbest: 259642.4920196 (56)\ttotal: 267ms\tremaining: 202ms\n",
      "57:\tlearn: 256841.4481602\ttest: 257323.4924369\tbest: 257323.4924369 (57)\ttotal: 272ms\tremaining: 197ms\n",
      "58:\tlearn: 254607.7095507\ttest: 255092.1139552\tbest: 255092.1139552 (58)\ttotal: 277ms\tremaining: 192ms\n",
      "59:\tlearn: 252399.8244178\ttest: 252880.8620306\tbest: 252880.8620306 (59)\ttotal: 280ms\tremaining: 187ms\n",
      "60:\tlearn: 250176.5717902\ttest: 250654.0879685\tbest: 250654.0879685 (60)\ttotal: 285ms\tremaining: 182ms\n",
      "61:\tlearn: 247988.7741454\ttest: 248461.6292319\tbest: 248461.6292319 (61)\ttotal: 290ms\tremaining: 178ms\n",
      "62:\tlearn: 245867.1343506\ttest: 246332.5640470\tbest: 246332.5640470 (62)\ttotal: 295ms\tremaining: 173ms\n",
      "63:\tlearn: 243794.9357481\ttest: 244256.5113985\tbest: 244256.5113985 (63)\ttotal: 297ms\tremaining: 167ms\n",
      "64:\tlearn: 241653.9566004\ttest: 242117.2042997\tbest: 242117.2042997 (64)\ttotal: 303ms\tremaining: 163ms\n",
      "65:\tlearn: 239567.3232635\ttest: 240028.4351661\tbest: 240028.4351661 (65)\ttotal: 307ms\tremaining: 158ms\n",
      "66:\tlearn: 237495.5666491\ttest: 237958.6744115\tbest: 237958.6744115 (66)\ttotal: 313ms\tremaining: 154ms\n",
      "67:\tlearn: 235457.4973387\ttest: 235922.0605135\tbest: 235922.0605135 (67)\ttotal: 318ms\tremaining: 149ms\n",
      "68:\tlearn: 233436.5375923\ttest: 233899.9712620\tbest: 233899.9712620 (68)\ttotal: 323ms\tremaining: 145ms\n",
      "69:\tlearn: 231465.6706206\ttest: 231926.3812716\tbest: 231926.3812716 (69)\ttotal: 327ms\tremaining: 140ms\n",
      "70:\tlearn: 229496.2840713\ttest: 229952.0505573\tbest: 229952.0505573 (70)\ttotal: 332ms\tremaining: 136ms\n",
      "71:\tlearn: 227552.8000252\ttest: 228006.3612844\tbest: 228006.3612844 (71)\ttotal: 337ms\tremaining: 131ms\n",
      "72:\tlearn: 225615.5899767\ttest: 226062.5457337\tbest: 226062.5457337 (72)\ttotal: 342ms\tremaining: 126ms\n",
      "73:\tlearn: 223690.2639880\ttest: 224136.8956896\tbest: 224136.8956896 (73)\ttotal: 348ms\tremaining: 122ms\n",
      "74:\tlearn: 221804.8447027\ttest: 222245.1894795\tbest: 222245.1894795 (74)\ttotal: 353ms\tremaining: 118ms\n",
      "75:\tlearn: 219938.8671495\ttest: 220382.5053546\tbest: 220382.5053546 (75)\ttotal: 357ms\tremaining: 113ms\n",
      "76:\tlearn: 218140.8217435\ttest: 218583.5611127\tbest: 218583.5611127 (76)\ttotal: 362ms\tremaining: 108ms\n",
      "77:\tlearn: 216320.5841993\ttest: 216761.1910865\tbest: 216761.1910865 (77)\ttotal: 367ms\tremaining: 103ms\n",
      "78:\tlearn: 214514.0107087\ttest: 214955.2942674\tbest: 214955.2942674 (78)\ttotal: 372ms\tremaining: 98.8ms\n",
      "79:\tlearn: 212718.0872446\ttest: 213156.3144072\tbest: 213156.3144072 (79)\ttotal: 376ms\tremaining: 94.1ms\n",
      "80:\tlearn: 210973.7437893\ttest: 211410.7072132\tbest: 211410.7072132 (80)\ttotal: 382ms\tremaining: 89.6ms\n",
      "81:\tlearn: 209226.3748260\ttest: 209659.3809715\tbest: 209659.3809715 (81)\ttotal: 388ms\tremaining: 85.2ms\n",
      "82:\tlearn: 207458.7453240\ttest: 207890.8902645\tbest: 207890.8902645 (82)\ttotal: 396ms\tremaining: 81ms\n",
      "83:\tlearn: 205765.3283204\ttest: 206193.6678505\tbest: 206193.6678505 (83)\ttotal: 409ms\tremaining: 77.9ms\n",
      "84:\tlearn: 204097.5073711\ttest: 204527.6512057\tbest: 204527.6512057 (84)\ttotal: 413ms\tremaining: 73ms\n",
      "85:\tlearn: 202419.6821914\ttest: 202848.9065500\tbest: 202848.9065500 (85)\ttotal: 418ms\tremaining: 68.1ms\n",
      "86:\tlearn: 200776.1781893\ttest: 201206.5242742\tbest: 201206.5242742 (86)\ttotal: 423ms\tremaining: 63.2ms\n",
      "87:\tlearn: 199151.4082020\ttest: 199578.4578198\tbest: 199578.4578198 (87)\ttotal: 428ms\tremaining: 58.3ms\n",
      "88:\tlearn: 197531.7862472\ttest: 197953.0828934\tbest: 197953.0828934 (88)\ttotal: 433ms\tremaining: 53.5ms\n",
      "89:\tlearn: 195990.8664808\ttest: 196408.8546595\tbest: 196408.8546595 (89)\ttotal: 437ms\tremaining: 48.6ms\n",
      "90:\tlearn: 194439.2812366\ttest: 194854.1216890\tbest: 194854.1216890 (90)\ttotal: 442ms\tremaining: 43.7ms\n",
      "91:\tlearn: 192934.2881034\ttest: 193346.1717688\tbest: 193346.1717688 (91)\ttotal: 446ms\tremaining: 38.8ms\n",
      "92:\tlearn: 191386.9109625\ttest: 191793.1290348\tbest: 191793.1290348 (92)\ttotal: 450ms\tremaining: 33.9ms\n",
      "93:\tlearn: 189889.5170756\ttest: 190295.0599978\tbest: 190295.0599978 (93)\ttotal: 455ms\tremaining: 29ms\n",
      "94:\tlearn: 188383.2976515\ttest: 188785.0329637\tbest: 188785.0329637 (94)\ttotal: 460ms\tremaining: 24.2ms\n",
      "95:\tlearn: 186892.6062324\ttest: 187288.5157272\tbest: 187288.5157272 (95)\ttotal: 465ms\tremaining: 19.4ms\n",
      "96:\tlearn: 185419.5559571\ttest: 185814.1166269\tbest: 185814.1166269 (96)\ttotal: 470ms\tremaining: 14.5ms\n",
      "97:\tlearn: 183949.2314950\ttest: 184341.6687595\tbest: 184341.6687595 (97)\ttotal: 475ms\tremaining: 9.69ms\n",
      "98:\tlearn: 182497.9328005\ttest: 182888.1367817\tbest: 182888.1367817 (98)\ttotal: 479ms\tremaining: 4.84ms\n",
      "99:\tlearn: 181095.6506927\ttest: 181481.8998706\tbest: 181481.8998706 (99)\ttotal: 484ms\tremaining: 0us\n",
      "\n",
      "bestTest = 181481.8999\n",
      "bestIteration = 99\n",
      "\n",
      "2:\tloss: 181481.8998706\tbest: 62654.9178439 (0)\ttotal: 2.49s\tremaining: 5.82s\n",
      "0:\tlearn: 94439.2445494\ttest: 93965.9191400\tbest: 93965.9191400 (0)\ttotal: 5.13ms\tremaining: 508ms\n",
      "1:\tlearn: 82714.5211419\ttest: 82440.7846702\tbest: 82440.7846702 (1)\ttotal: 10.5ms\tremaining: 513ms\n",
      "2:\tlearn: 75138.2923541\ttest: 75941.2587298\tbest: 75941.2587298 (2)\ttotal: 16.1ms\tremaining: 519ms\n",
      "3:\tlearn: 72251.8774411\ttest: 73070.5589847\tbest: 73070.5589847 (3)\ttotal: 21.7ms\tremaining: 522ms\n",
      "4:\tlearn: 71077.8973459\ttest: 71948.5689307\tbest: 71948.5689307 (4)\ttotal: 26.6ms\tremaining: 505ms\n",
      "5:\tlearn: 70255.6091512\ttest: 71290.1272768\tbest: 71290.1272768 (5)\ttotal: 31.4ms\tremaining: 492ms\n",
      "6:\tlearn: 69536.5733734\ttest: 70375.7207138\tbest: 70375.7207138 (6)\ttotal: 36.4ms\tremaining: 483ms\n",
      "7:\tlearn: 68783.4520223\ttest: 69731.0941128\tbest: 69731.0941128 (7)\ttotal: 41.4ms\tremaining: 476ms\n",
      "8:\tlearn: 68004.1358893\ttest: 68904.3579084\tbest: 68904.3579084 (8)\ttotal: 46.3ms\tremaining: 469ms\n",
      "9:\tlearn: 67516.8203813\ttest: 68463.0418052\tbest: 68463.0418052 (9)\ttotal: 51.4ms\tremaining: 462ms\n",
      "10:\tlearn: 67241.4432527\ttest: 68339.4794130\tbest: 68339.4794130 (10)\ttotal: 56.3ms\tremaining: 455ms\n",
      "11:\tlearn: 66798.2777970\ttest: 67897.8242465\tbest: 67897.8242465 (11)\ttotal: 62.3ms\tremaining: 457ms\n",
      "12:\tlearn: 66531.2489206\ttest: 67643.6707626\tbest: 67643.6707626 (12)\ttotal: 67.4ms\tremaining: 451ms\n",
      "13:\tlearn: 65949.9601011\ttest: 67300.3083563\tbest: 67300.3083563 (13)\ttotal: 72.7ms\tremaining: 446ms\n",
      "14:\tlearn: 65713.8459891\ttest: 67169.2411785\tbest: 67169.2411785 (14)\ttotal: 77.5ms\tremaining: 439ms\n",
      "15:\tlearn: 65265.4535147\ttest: 66925.8197568\tbest: 66925.8197568 (15)\ttotal: 82.5ms\tremaining: 433ms\n",
      "16:\tlearn: 65101.7928087\ttest: 66732.6955125\tbest: 66732.6955125 (16)\ttotal: 88ms\tremaining: 430ms\n",
      "17:\tlearn: 64496.0529844\ttest: 66269.5152844\tbest: 66269.5152844 (17)\ttotal: 93ms\tremaining: 424ms\n",
      "18:\tlearn: 64201.4922263\ttest: 66166.2990655\tbest: 66166.2990655 (18)\ttotal: 98ms\tremaining: 418ms\n",
      "19:\tlearn: 63935.7208518\ttest: 66107.3599776\tbest: 66107.3599776 (19)\ttotal: 103ms\tremaining: 412ms\n",
      "20:\tlearn: 63750.1179500\ttest: 65923.8980143\tbest: 65923.8980143 (20)\ttotal: 108ms\tremaining: 406ms\n",
      "21:\tlearn: 63432.6844218\ttest: 65843.6862985\tbest: 65843.6862985 (21)\ttotal: 113ms\tremaining: 401ms\n",
      "22:\tlearn: 63287.6015325\ttest: 65761.3126841\tbest: 65761.3126841 (22)\ttotal: 118ms\tremaining: 395ms\n",
      "23:\tlearn: 63133.6803688\ttest: 65724.6265025\tbest: 65724.6265025 (23)\ttotal: 123ms\tremaining: 388ms\n",
      "24:\tlearn: 62831.6869975\ttest: 65449.6180924\tbest: 65449.6180924 (24)\ttotal: 128ms\tremaining: 383ms\n",
      "25:\tlearn: 62567.7869016\ttest: 65412.9752551\tbest: 65412.9752551 (25)\ttotal: 133ms\tremaining: 378ms\n",
      "26:\tlearn: 62274.9446534\ttest: 65360.4545891\tbest: 65360.4545891 (26)\ttotal: 138ms\tremaining: 372ms\n",
      "27:\tlearn: 62043.9235530\ttest: 65271.2310120\tbest: 65271.2310120 (27)\ttotal: 143ms\tremaining: 367ms\n",
      "28:\tlearn: 61974.6598426\ttest: 65205.0891462\tbest: 65205.0891462 (28)\ttotal: 147ms\tremaining: 361ms\n",
      "29:\tlearn: 61825.4337407\ttest: 65168.7980087\tbest: 65168.7980087 (29)\ttotal: 152ms\tremaining: 355ms\n",
      "30:\tlearn: 61674.3867885\ttest: 65133.1689783\tbest: 65133.1689783 (30)\ttotal: 157ms\tremaining: 349ms\n",
      "31:\tlearn: 61486.1657253\ttest: 65071.6942174\tbest: 65071.6942174 (31)\ttotal: 162ms\tremaining: 344ms\n",
      "32:\tlearn: 61367.2388556\ttest: 65059.4951866\tbest: 65059.4951866 (32)\ttotal: 166ms\tremaining: 338ms\n",
      "33:\tlearn: 61151.2905811\ttest: 64953.3218686\tbest: 64953.3218686 (33)\ttotal: 171ms\tremaining: 333ms\n",
      "34:\tlearn: 61031.8830543\ttest: 64991.9226122\tbest: 64953.3218686 (33)\ttotal: 176ms\tremaining: 328ms\n",
      "35:\tlearn: 60786.2175813\ttest: 64813.6239910\tbest: 64813.6239910 (35)\ttotal: 182ms\tremaining: 323ms\n",
      "36:\tlearn: 60666.8383330\ttest: 64803.9382431\tbest: 64803.9382431 (36)\ttotal: 187ms\tremaining: 318ms\n",
      "37:\tlearn: 60403.5552626\ttest: 64521.7117800\tbest: 64521.7117800 (37)\ttotal: 192ms\tremaining: 314ms\n",
      "38:\tlearn: 60267.3084773\ttest: 64511.9182235\tbest: 64511.9182235 (38)\ttotal: 197ms\tremaining: 308ms\n",
      "39:\tlearn: 60153.5339616\ttest: 64518.5084738\tbest: 64511.9182235 (38)\ttotal: 202ms\tremaining: 303ms\n",
      "40:\tlearn: 59962.5251939\ttest: 64507.5663784\tbest: 64507.5663784 (40)\ttotal: 207ms\tremaining: 298ms\n",
      "41:\tlearn: 59824.3457926\ttest: 64508.1088631\tbest: 64507.5663784 (40)\ttotal: 212ms\tremaining: 293ms\n",
      "42:\tlearn: 59710.9008676\ttest: 64533.4202123\tbest: 64507.5663784 (40)\ttotal: 217ms\tremaining: 287ms\n",
      "43:\tlearn: 59513.2796998\ttest: 64330.8861681\tbest: 64330.8861681 (43)\ttotal: 222ms\tremaining: 282ms\n",
      "44:\tlearn: 59380.1717526\ttest: 64290.2485469\tbest: 64290.2485469 (44)\ttotal: 227ms\tremaining: 277ms\n",
      "45:\tlearn: 59333.4740298\ttest: 64311.8909385\tbest: 64290.2485469 (44)\ttotal: 231ms\tremaining: 271ms\n",
      "46:\tlearn: 59185.1004002\ttest: 64310.3370902\tbest: 64290.2485469 (44)\ttotal: 236ms\tremaining: 266ms\n",
      "47:\tlearn: 59048.9975187\ttest: 64256.1584457\tbest: 64256.1584457 (47)\ttotal: 241ms\tremaining: 261ms\n",
      "48:\tlearn: 58870.0731106\ttest: 64261.7227090\tbest: 64256.1584457 (47)\ttotal: 247ms\tremaining: 257ms\n",
      "49:\tlearn: 58749.4644742\ttest: 64200.6810605\tbest: 64200.6810605 (49)\ttotal: 252ms\tremaining: 252ms\n",
      "50:\tlearn: 58655.9009940\ttest: 64225.7024717\tbest: 64200.6810605 (49)\ttotal: 257ms\tremaining: 247ms\n",
      "51:\tlearn: 58558.2231941\ttest: 64193.3481163\tbest: 64193.3481163 (51)\ttotal: 262ms\tremaining: 242ms\n",
      "52:\tlearn: 58467.8749768\ttest: 64155.2024292\tbest: 64155.2024292 (52)\ttotal: 267ms\tremaining: 237ms\n",
      "53:\tlearn: 58363.3366074\ttest: 64171.9478891\tbest: 64155.2024292 (52)\ttotal: 272ms\tremaining: 232ms\n",
      "54:\tlearn: 58288.2737595\ttest: 64139.2787942\tbest: 64139.2787942 (54)\ttotal: 277ms\tremaining: 227ms\n",
      "55:\tlearn: 58158.4195639\ttest: 64084.4093209\tbest: 64084.4093209 (55)\ttotal: 282ms\tremaining: 222ms\n",
      "56:\tlearn: 58080.2337100\ttest: 64147.2530285\tbest: 64084.4093209 (55)\ttotal: 287ms\tremaining: 217ms\n",
      "57:\tlearn: 57961.1241899\ttest: 64159.4205872\tbest: 64084.4093209 (55)\ttotal: 293ms\tremaining: 212ms\n",
      "58:\tlearn: 57817.0753997\ttest: 64090.6535438\tbest: 64084.4093209 (55)\ttotal: 298ms\tremaining: 207ms\n",
      "59:\tlearn: 57682.7321128\ttest: 64012.0868713\tbest: 64012.0868713 (59)\ttotal: 303ms\tremaining: 202ms\n",
      "60:\tlearn: 57601.8661472\ttest: 63999.4907361\tbest: 63999.4907361 (60)\ttotal: 309ms\tremaining: 197ms\n",
      "61:\tlearn: 57534.1350778\ttest: 63979.6382011\tbest: 63979.6382011 (61)\ttotal: 314ms\tremaining: 192ms\n",
      "62:\tlearn: 57391.9743627\ttest: 63873.4001116\tbest: 63873.4001116 (62)\ttotal: 319ms\tremaining: 187ms\n",
      "63:\tlearn: 57368.8265122\ttest: 63849.3790814\tbest: 63849.3790814 (63)\ttotal: 324ms\tremaining: 182ms\n",
      "64:\tlearn: 57289.2485018\ttest: 63796.0371992\tbest: 63796.0371992 (64)\ttotal: 329ms\tremaining: 177ms\n",
      "65:\tlearn: 57077.5790442\ttest: 63705.5264939\tbest: 63705.5264939 (65)\ttotal: 334ms\tremaining: 172ms\n",
      "66:\tlearn: 56991.2331471\ttest: 63737.5770603\tbest: 63705.5264939 (65)\ttotal: 339ms\tremaining: 167ms\n",
      "67:\tlearn: 56845.1013921\ttest: 63701.6173220\tbest: 63701.6173220 (67)\ttotal: 344ms\tremaining: 162ms\n",
      "68:\tlearn: 56738.2989224\ttest: 63669.5459013\tbest: 63669.5459013 (68)\ttotal: 349ms\tremaining: 157ms\n",
      "69:\tlearn: 56651.1491250\ttest: 63642.6028654\tbest: 63642.6028654 (69)\ttotal: 355ms\tremaining: 152ms\n",
      "70:\tlearn: 56595.1426911\ttest: 63657.0831541\tbest: 63642.6028654 (69)\ttotal: 359ms\tremaining: 147ms\n",
      "71:\tlearn: 56448.5035346\ttest: 63645.1564959\tbest: 63642.6028654 (69)\ttotal: 368ms\tremaining: 143ms\n",
      "72:\tlearn: 56390.5059041\ttest: 63663.5250958\tbest: 63642.6028654 (69)\ttotal: 376ms\tremaining: 139ms\n",
      "73:\tlearn: 56337.5040429\ttest: 63659.5343712\tbest: 63642.6028654 (69)\ttotal: 381ms\tremaining: 134ms\n",
      "74:\tlearn: 56248.9064116\ttest: 63635.4239507\tbest: 63635.4239507 (74)\ttotal: 386ms\tremaining: 129ms\n",
      "75:\tlearn: 56169.3521326\ttest: 63649.8221240\tbest: 63635.4239507 (74)\ttotal: 402ms\tremaining: 127ms\n",
      "76:\tlearn: 56052.7681301\ttest: 63689.8258596\tbest: 63635.4239507 (74)\ttotal: 414ms\tremaining: 124ms\n",
      "77:\tlearn: 55987.2306737\ttest: 63726.7598919\tbest: 63635.4239507 (74)\ttotal: 420ms\tremaining: 118ms\n",
      "78:\tlearn: 55916.5026484\ttest: 63723.1759300\tbest: 63635.4239507 (74)\ttotal: 425ms\tremaining: 113ms\n",
      "79:\tlearn: 55773.2980371\ttest: 63674.5862725\tbest: 63635.4239507 (74)\ttotal: 431ms\tremaining: 108ms\n",
      "80:\tlearn: 55682.2827633\ttest: 63641.2554300\tbest: 63635.4239507 (74)\ttotal: 436ms\tremaining: 102ms\n",
      "81:\tlearn: 55566.0293606\ttest: 63634.9747689\tbest: 63634.9747689 (81)\ttotal: 441ms\tremaining: 96.9ms\n",
      "82:\tlearn: 55413.7898027\ttest: 63618.9270652\tbest: 63618.9270652 (82)\ttotal: 447ms\tremaining: 91.5ms\n",
      "83:\tlearn: 55331.1049207\ttest: 63601.6934472\tbest: 63601.6934472 (83)\ttotal: 451ms\tremaining: 86ms\n",
      "84:\tlearn: 55180.8232394\ttest: 63522.8250514\tbest: 63522.8250514 (84)\ttotal: 457ms\tremaining: 80.6ms\n",
      "85:\tlearn: 55084.4743973\ttest: 63527.3673822\tbest: 63522.8250514 (84)\ttotal: 462ms\tremaining: 75.3ms\n",
      "86:\tlearn: 55006.7112222\ttest: 63548.9909711\tbest: 63522.8250514 (84)\ttotal: 469ms\tremaining: 70.1ms\n",
      "87:\tlearn: 54947.3063815\ttest: 63527.9365572\tbest: 63522.8250514 (84)\ttotal: 474ms\tremaining: 64.6ms\n",
      "88:\tlearn: 54865.8049087\ttest: 63537.6288539\tbest: 63522.8250514 (84)\ttotal: 479ms\tremaining: 59.2ms\n",
      "89:\tlearn: 54779.1362162\ttest: 63480.7339861\tbest: 63480.7339861 (89)\ttotal: 484ms\tremaining: 53.8ms\n",
      "90:\tlearn: 54708.5785776\ttest: 63462.4355165\tbest: 63462.4355165 (90)\ttotal: 490ms\tremaining: 48.5ms\n",
      "91:\tlearn: 54651.3269483\ttest: 63460.8700120\tbest: 63460.8700120 (91)\ttotal: 495ms\tremaining: 43ms\n",
      "92:\tlearn: 54587.0846784\ttest: 63416.0108038\tbest: 63416.0108038 (92)\ttotal: 500ms\tremaining: 37.6ms\n",
      "93:\tlearn: 54511.0783361\ttest: 63315.0150680\tbest: 63315.0150680 (93)\ttotal: 504ms\tremaining: 32.2ms\n",
      "94:\tlearn: 54458.2388523\ttest: 63314.2148412\tbest: 63314.2148412 (94)\ttotal: 509ms\tremaining: 26.8ms\n",
      "95:\tlearn: 54413.6714331\ttest: 63303.3776608\tbest: 63303.3776608 (95)\ttotal: 514ms\tremaining: 21.4ms\n",
      "96:\tlearn: 54354.7544677\ttest: 63287.7221431\tbest: 63287.7221431 (96)\ttotal: 519ms\tremaining: 16.1ms\n",
      "97:\tlearn: 54310.2961214\ttest: 63321.2995491\tbest: 63287.7221431 (96)\ttotal: 524ms\tremaining: 10.7ms\n",
      "98:\tlearn: 54238.8803807\ttest: 63327.8464608\tbest: 63287.7221431 (96)\ttotal: 529ms\tremaining: 5.35ms\n",
      "99:\tlearn: 54145.9991889\ttest: 63325.9977406\tbest: 63287.7221431 (96)\ttotal: 534ms\tremaining: 0us\n",
      "\n",
      "bestTest = 63287.72214\n",
      "bestIteration = 96\n",
      "\n",
      "3:\tloss: 63287.7221431\tbest: 62654.9178439 (0)\ttotal: 3.04s\tremaining: 4.56s\n",
      "0:\tlearn: 434326.4619574\ttest: 434799.5048349\tbest: 434799.5048349 (0)\ttotal: 5.14ms\tremaining: 509ms\n",
      "1:\tlearn: 430216.4443515\ttest: 430686.4388613\tbest: 430686.4388613 (1)\ttotal: 10.4ms\tremaining: 510ms\n",
      "2:\tlearn: 426156.4483718\ttest: 426624.1710869\tbest: 426624.1710869 (2)\ttotal: 16ms\tremaining: 516ms\n",
      "3:\tlearn: 422177.3972436\ttest: 422641.4482972\tbest: 422641.4482972 (3)\ttotal: 21.4ms\tremaining: 513ms\n",
      "4:\tlearn: 418199.0628656\ttest: 418666.0790595\tbest: 418666.0790595 (4)\ttotal: 26.4ms\tremaining: 502ms\n",
      "5:\tlearn: 414315.3264452\ttest: 414778.4347386\tbest: 414778.4347386 (5)\ttotal: 31.5ms\tremaining: 493ms\n",
      "6:\tlearn: 410424.4321509\ttest: 410893.2932582\tbest: 410893.2932582 (6)\ttotal: 35.5ms\tremaining: 472ms\n",
      "7:\tlearn: 406559.6339257\ttest: 407032.8876096\tbest: 407032.8876096 (7)\ttotal: 38.6ms\tremaining: 444ms\n",
      "8:\tlearn: 402710.6916160\ttest: 403185.1227104\tbest: 403185.1227104 (8)\ttotal: 43.6ms\tremaining: 441ms\n",
      "9:\tlearn: 398927.2553879\ttest: 399407.0346727\tbest: 399407.0346727 (9)\ttotal: 48.4ms\tremaining: 436ms\n",
      "10:\tlearn: 395168.1155917\ttest: 395652.5418979\tbest: 395652.5418979 (10)\ttotal: 53ms\tremaining: 429ms\n",
      "11:\tlearn: 391468.5280977\ttest: 391952.1571992\tbest: 391952.1571992 (11)\ttotal: 57.8ms\tremaining: 424ms\n",
      "12:\tlearn: 387807.7670823\ttest: 388295.7262342\tbest: 388295.7262342 (12)\ttotal: 62.6ms\tremaining: 419ms\n",
      "13:\tlearn: 384194.1350151\ttest: 384686.5668808\tbest: 384686.5668808 (13)\ttotal: 67.4ms\tremaining: 414ms\n",
      "14:\tlearn: 380649.3804804\ttest: 381138.1134933\tbest: 381138.1134933 (14)\ttotal: 72.1ms\tremaining: 409ms\n",
      "15:\tlearn: 377135.9398384\ttest: 377621.1408847\tbest: 377621.1408847 (15)\ttotal: 75.6ms\tremaining: 397ms\n",
      "16:\tlearn: 373612.8394112\ttest: 374098.8719954\tbest: 374098.8719954 (16)\ttotal: 80.3ms\tremaining: 392ms\n",
      "17:\tlearn: 370133.7903612\ttest: 370618.2065510\tbest: 370618.2065510 (17)\ttotal: 85.5ms\tremaining: 390ms\n",
      "18:\tlearn: 366701.4252855\ttest: 367185.9306767\tbest: 367185.9306767 (18)\ttotal: 90.8ms\tremaining: 387ms\n",
      "19:\tlearn: 363296.0228561\ttest: 363783.7077894\tbest: 363783.7077894 (19)\ttotal: 95.4ms\tremaining: 382ms\n",
      "20:\tlearn: 359925.6527333\ttest: 360416.2681875\tbest: 360416.2681875 (20)\ttotal: 99.8ms\tremaining: 375ms\n",
      "21:\tlearn: 356597.5015622\ttest: 357089.6274711\tbest: 357089.6274711 (21)\ttotal: 105ms\tremaining: 371ms\n",
      "22:\tlearn: 353313.6088453\ttest: 353802.0186243\tbest: 353802.0186243 (22)\ttotal: 109ms\tremaining: 366ms\n",
      "23:\tlearn: 350052.1721324\ttest: 350543.8185916\tbest: 350543.8185916 (23)\ttotal: 114ms\tremaining: 362ms\n",
      "24:\tlearn: 346841.0657244\ttest: 347326.2616991\tbest: 347326.2616991 (24)\ttotal: 119ms\tremaining: 358ms\n",
      "25:\tlearn: 343644.4634845\ttest: 344130.8928372\tbest: 344130.8928372 (25)\ttotal: 124ms\tremaining: 353ms\n",
      "26:\tlearn: 340498.4077772\ttest: 340984.4048431\tbest: 340984.4048431 (26)\ttotal: 129ms\tremaining: 350ms\n",
      "27:\tlearn: 337351.3825961\ttest: 337839.7674549\tbest: 337839.7674549 (27)\ttotal: 133ms\tremaining: 342ms\n",
      "28:\tlearn: 334252.9225571\ttest: 334738.5940132\tbest: 334738.5940132 (28)\ttotal: 138ms\tremaining: 338ms\n",
      "29:\tlearn: 331209.5105029\ttest: 331700.5077062\tbest: 331700.5077062 (29)\ttotal: 143ms\tremaining: 333ms\n",
      "30:\tlearn: 328167.4180937\ttest: 328653.8554451\tbest: 328653.8554451 (30)\ttotal: 148ms\tremaining: 329ms\n",
      "31:\tlearn: 325205.3916313\ttest: 325688.1744161\tbest: 325688.1744161 (31)\ttotal: 151ms\tremaining: 321ms\n",
      "32:\tlearn: 322244.3436927\ttest: 322723.8208541\tbest: 322723.8208541 (32)\ttotal: 157ms\tremaining: 319ms\n",
      "33:\tlearn: 319325.3481119\ttest: 319809.3865738\tbest: 319809.3865738 (33)\ttotal: 165ms\tremaining: 320ms\n",
      "34:\tlearn: 316416.3418530\ttest: 316894.5201062\tbest: 316894.5201062 (34)\ttotal: 169ms\tremaining: 314ms\n",
      "35:\tlearn: 313529.5254547\ttest: 314008.7537194\tbest: 314008.7537194 (35)\ttotal: 174ms\tremaining: 309ms\n",
      "36:\tlearn: 310679.3985630\ttest: 311160.6897274\tbest: 311160.6897274 (36)\ttotal: 179ms\tremaining: 304ms\n",
      "37:\tlearn: 307904.3030765\ttest: 308381.9493412\tbest: 308381.9493412 (37)\ttotal: 181ms\tremaining: 296ms\n",
      "38:\tlearn: 305116.0530807\ttest: 305594.1917494\tbest: 305594.1917494 (38)\ttotal: 186ms\tremaining: 291ms\n",
      "39:\tlearn: 302376.4485415\ttest: 302855.7410085\tbest: 302855.7410085 (39)\ttotal: 191ms\tremaining: 286ms\n",
      "40:\tlearn: 299645.6327707\ttest: 300123.0790239\tbest: 300123.0790239 (40)\ttotal: 196ms\tremaining: 281ms\n",
      "41:\tlearn: 296945.4129998\ttest: 297421.6809459\tbest: 297421.6809459 (41)\ttotal: 200ms\tremaining: 276ms\n",
      "42:\tlearn: 294267.1727245\ttest: 294740.6990825\tbest: 294740.6990825 (42)\ttotal: 205ms\tremaining: 272ms\n",
      "43:\tlearn: 291634.3209188\ttest: 292110.6195192\tbest: 292110.6195192 (43)\ttotal: 210ms\tremaining: 267ms\n",
      "44:\tlearn: 289039.2303295\ttest: 289519.5239787\tbest: 289519.5239787 (44)\ttotal: 214ms\tremaining: 262ms\n",
      "45:\tlearn: 286432.7955689\ttest: 286915.9106629\tbest: 286915.9106629 (45)\ttotal: 219ms\tremaining: 257ms\n",
      "46:\tlearn: 283873.1288927\ttest: 284355.8704643\tbest: 284355.8704643 (46)\ttotal: 223ms\tremaining: 252ms\n",
      "47:\tlearn: 281352.9372117\ttest: 281836.9557009\tbest: 281836.9557009 (47)\ttotal: 228ms\tremaining: 247ms\n",
      "48:\tlearn: 278892.7460347\ttest: 279374.5159612\tbest: 279374.5159612 (48)\ttotal: 231ms\tremaining: 241ms\n",
      "49:\tlearn: 276420.3015491\ttest: 276901.7512551\tbest: 276901.7512551 (49)\ttotal: 236ms\tremaining: 236ms\n",
      "50:\tlearn: 273998.3814567\ttest: 274479.8521214\tbest: 274479.8521214 (50)\ttotal: 247ms\tremaining: 237ms\n",
      "51:\tlearn: 271583.2758430\ttest: 272061.6109377\tbest: 272061.6109377 (51)\ttotal: 254ms\tremaining: 235ms\n",
      "52:\tlearn: 269161.6180065\ttest: 269641.0023440\tbest: 269641.0023440 (52)\ttotal: 260ms\tremaining: 230ms\n",
      "53:\tlearn: 266802.6979298\ttest: 267278.0637201\tbest: 267278.0637201 (53)\ttotal: 270ms\tremaining: 230ms\n",
      "54:\tlearn: 264458.1348134\ttest: 264930.9053805\tbest: 264930.9053805 (54)\ttotal: 278ms\tremaining: 228ms\n",
      "55:\tlearn: 262183.7700597\ttest: 262652.5030623\tbest: 262652.5030623 (55)\ttotal: 285ms\tremaining: 224ms\n",
      "56:\tlearn: 259891.2825886\ttest: 260357.0535787\tbest: 260357.0535787 (56)\ttotal: 294ms\tremaining: 222ms\n",
      "57:\tlearn: 257666.0583270\ttest: 258132.6891362\tbest: 258132.6891362 (57)\ttotal: 301ms\tremaining: 218ms\n",
      "58:\tlearn: 255377.6351818\ttest: 255843.4431464\tbest: 255843.4431464 (58)\ttotal: 306ms\tremaining: 213ms\n",
      "59:\tlearn: 253175.5227084\ttest: 253638.8968542\tbest: 253638.8968542 (59)\ttotal: 311ms\tremaining: 208ms\n",
      "60:\tlearn: 250987.7870973\ttest: 251447.7253426\tbest: 251447.7253426 (60)\ttotal: 315ms\tremaining: 201ms\n",
      "61:\tlearn: 248793.7682708\ttest: 249251.0356556\tbest: 249251.0356556 (61)\ttotal: 320ms\tremaining: 196ms\n",
      "62:\tlearn: 246633.6952367\ttest: 247085.7139347\tbest: 247085.7139347 (62)\ttotal: 325ms\tremaining: 191ms\n",
      "63:\tlearn: 244537.8254062\ttest: 244981.8802072\tbest: 244981.8802072 (63)\ttotal: 329ms\tremaining: 185ms\n",
      "64:\tlearn: 242482.1160576\ttest: 242922.2183112\tbest: 242922.2183112 (64)\ttotal: 332ms\tremaining: 179ms\n",
      "65:\tlearn: 240388.4091144\ttest: 240828.9879442\tbest: 240828.9879442 (65)\ttotal: 339ms\tremaining: 174ms\n",
      "66:\tlearn: 238333.4795711\ttest: 238771.3129855\tbest: 238771.3129855 (66)\ttotal: 344ms\tremaining: 169ms\n",
      "67:\tlearn: 236285.6281522\ttest: 236725.4364998\tbest: 236725.4364998 (67)\ttotal: 349ms\tremaining: 164ms\n",
      "68:\tlearn: 234279.0938338\ttest: 234719.4412115\tbest: 234719.4412115 (68)\ttotal: 354ms\tremaining: 159ms\n",
      "69:\tlearn: 232300.9016418\ttest: 232735.4984337\tbest: 232735.4984337 (69)\ttotal: 358ms\tremaining: 154ms\n",
      "70:\tlearn: 230350.4885369\ttest: 230782.6409319\tbest: 230782.6409319 (70)\ttotal: 363ms\tremaining: 148ms\n",
      "71:\tlearn: 228404.7928872\ttest: 228832.1595925\tbest: 228832.1595925 (71)\ttotal: 368ms\tremaining: 143ms\n",
      "72:\tlearn: 226488.1739320\ttest: 226913.5452422\tbest: 226913.5452422 (72)\ttotal: 373ms\tremaining: 138ms\n",
      "73:\tlearn: 224580.1773771\ttest: 224999.0415858\tbest: 224999.0415858 (73)\ttotal: 378ms\tremaining: 133ms\n",
      "74:\tlearn: 222693.0518248\ttest: 223110.4988310\tbest: 223110.4988310 (74)\ttotal: 383ms\tremaining: 128ms\n",
      "75:\tlearn: 220829.7606857\ttest: 221240.7388616\tbest: 221240.7388616 (75)\ttotal: 388ms\tremaining: 122ms\n",
      "76:\tlearn: 218988.8476637\ttest: 219402.3045747\tbest: 219402.3045747 (76)\ttotal: 393ms\tremaining: 117ms\n",
      "77:\tlearn: 217221.1620786\ttest: 217633.3664381\tbest: 217633.3664381 (77)\ttotal: 397ms\tremaining: 112ms\n",
      "78:\tlearn: 215421.9806076\ttest: 215831.7790319\tbest: 215831.7790319 (78)\ttotal: 402ms\tremaining: 107ms\n",
      "79:\tlearn: 213640.7824567\ttest: 214050.9006335\tbest: 214050.9006335 (79)\ttotal: 407ms\tremaining: 102ms\n",
      "80:\tlearn: 211876.8524770\ttest: 212284.9705774\tbest: 212284.9705774 (80)\ttotal: 412ms\tremaining: 96.7ms\n",
      "81:\tlearn: 210160.5185903\ttest: 210567.1026860\tbest: 210567.1026860 (81)\ttotal: 417ms\tremaining: 91.5ms\n",
      "82:\tlearn: 208443.3683395\ttest: 208846.3606113\tbest: 208846.3606113 (82)\ttotal: 422ms\tremaining: 86.4ms\n",
      "83:\tlearn: 206698.6074466\ttest: 207100.3443957\tbest: 207100.3443957 (83)\ttotal: 426ms\tremaining: 81.2ms\n",
      "84:\tlearn: 205038.7092358\ttest: 205435.4320231\tbest: 205435.4320231 (84)\ttotal: 431ms\tremaining: 76.1ms\n",
      "85:\tlearn: 203368.8673515\ttest: 203767.1422796\tbest: 203767.1422796 (85)\ttotal: 436ms\tremaining: 71ms\n",
      "86:\tlearn: 201707.2645746\ttest: 202104.4541575\tbest: 202104.4541575 (86)\ttotal: 441ms\tremaining: 65.9ms\n",
      "87:\tlearn: 200086.9937098\ttest: 200481.7514911\tbest: 200481.7514911 (87)\ttotal: 446ms\tremaining: 60.8ms\n",
      "88:\tlearn: 198448.4492537\ttest: 198841.4108136\tbest: 198841.4108136 (88)\ttotal: 450ms\tremaining: 55.7ms\n",
      "89:\tlearn: 196841.9169608\ttest: 197230.8351525\tbest: 197230.8351525 (89)\ttotal: 455ms\tremaining: 50.6ms\n",
      "90:\tlearn: 195258.7200200\ttest: 195647.3277403\tbest: 195647.3277403 (90)\ttotal: 460ms\tremaining: 45.5ms\n",
      "91:\tlearn: 193679.8394465\ttest: 194072.0221546\tbest: 194072.0221546 (91)\ttotal: 465ms\tremaining: 40.4ms\n",
      "92:\tlearn: 192165.2850713\ttest: 192557.8511315\tbest: 192557.8511315 (92)\ttotal: 468ms\tremaining: 35.2ms\n",
      "93:\tlearn: 190638.0490344\ttest: 191026.5722033\tbest: 191026.5722033 (93)\ttotal: 472ms\tremaining: 30.2ms\n",
      "94:\tlearn: 189153.0150089\ttest: 189541.0115877\tbest: 189541.0115877 (94)\ttotal: 477ms\tremaining: 25.1ms\n",
      "95:\tlearn: 187673.5822648\ttest: 188059.5940845\tbest: 188059.5940845 (95)\ttotal: 482ms\tremaining: 20.1ms\n",
      "96:\tlearn: 186209.1162464\ttest: 186589.6710487\tbest: 186589.6710487 (96)\ttotal: 487ms\tremaining: 15.1ms\n",
      "97:\tlearn: 184752.0605623\ttest: 185131.3337125\tbest: 185131.3337125 (97)\ttotal: 493ms\tremaining: 10.1ms\n",
      "98:\tlearn: 183307.1337051\ttest: 183683.7641921\tbest: 183683.7641921 (98)\ttotal: 497ms\tremaining: 5.02ms\n",
      "99:\tlearn: 181873.8961051\ttest: 182248.0729082\tbest: 182248.0729082 (99)\ttotal: 511ms\tremaining: 0us\n",
      "\n",
      "bestTest = 182248.0729\n",
      "bestIteration = 99\n",
      "\n",
      "4:\tloss: 182248.0729082\tbest: 62654.9178439 (0)\ttotal: 3.56s\tremaining: 3.56s\n",
      "0:\tlearn: 396825.0563866\ttest: 397335.3339621\tbest: 397335.3339621 (0)\ttotal: 13.7ms\tremaining: 1.36s\n",
      "1:\tlearn: 359457.6242368\ttest: 359928.8972354\tbest: 359928.8972354 (1)\ttotal: 21.3ms\tremaining: 1.04s\n",
      "2:\tlearn: 326096.8405825\ttest: 326544.6574012\tbest: 326544.6574012 (2)\ttotal: 27.1ms\tremaining: 875ms\n",
      "3:\tlearn: 296244.0703978\ttest: 296695.4380548\tbest: 296695.4380548 (3)\ttotal: 32.6ms\tremaining: 781ms\n",
      "4:\tlearn: 269338.8415069\ttest: 269832.2195879\tbest: 269832.2195879 (4)\ttotal: 39ms\tremaining: 740ms\n",
      "5:\tlearn: 245633.6237377\ttest: 246136.8874337\tbest: 246136.8874337 (5)\ttotal: 44.6ms\tremaining: 699ms\n",
      "6:\tlearn: 224259.6603825\ttest: 224768.8187591\tbest: 224768.8187591 (6)\ttotal: 50.8ms\tremaining: 674ms\n",
      "7:\tlearn: 205192.6596480\ttest: 205695.7445441\tbest: 205695.7445441 (7)\ttotal: 57.2ms\tremaining: 658ms\n",
      "8:\tlearn: 188555.2789365\ttest: 189114.1094854\tbest: 189114.1094854 (8)\ttotal: 62.9ms\tremaining: 636ms\n",
      "9:\tlearn: 173884.9993815\ttest: 174416.0700927\tbest: 174416.0700927 (9)\ttotal: 68.8ms\tremaining: 619ms\n",
      "10:\tlearn: 160883.7576569\ttest: 161383.5376400\tbest: 161383.5376400 (10)\ttotal: 74ms\tremaining: 599ms\n",
      "11:\tlearn: 149482.0498376\ttest: 149936.3025705\tbest: 149936.3025705 (11)\ttotal: 79.7ms\tremaining: 585ms\n",
      "12:\tlearn: 139374.7151786\ttest: 139835.5111619\tbest: 139835.5111619 (12)\ttotal: 85.7ms\tremaining: 573ms\n",
      "13:\tlearn: 130532.7496629\ttest: 131012.5531663\tbest: 131012.5531663 (13)\ttotal: 91.6ms\tremaining: 562ms\n",
      "14:\tlearn: 122685.4095308\ttest: 123162.0654364\tbest: 123162.0654364 (14)\ttotal: 97.9ms\tremaining: 555ms\n",
      "15:\tlearn: 115895.8165608\ttest: 116315.4559122\tbest: 116315.4559122 (15)\ttotal: 106ms\tremaining: 555ms\n",
      "16:\tlearn: 110094.5557848\ttest: 110502.5572411\tbest: 110502.5572411 (16)\ttotal: 111ms\tremaining: 544ms\n",
      "17:\tlearn: 104907.5411862\ttest: 105347.8391779\tbest: 105347.8391779 (17)\ttotal: 117ms\tremaining: 534ms\n",
      "18:\tlearn: 100563.8657753\ttest: 101001.8914743\tbest: 101001.8914743 (18)\ttotal: 123ms\tremaining: 526ms\n",
      "19:\tlearn: 96503.8038319\ttest: 96908.9778994\tbest: 96908.9778994 (19)\ttotal: 129ms\tremaining: 517ms\n",
      "20:\tlearn: 93234.8001391\ttest: 93634.1021276\tbest: 93634.1021276 (20)\ttotal: 135ms\tremaining: 509ms\n",
      "21:\tlearn: 90367.9974546\ttest: 90773.9512467\tbest: 90773.9512467 (21)\ttotal: 141ms\tremaining: 501ms\n",
      "22:\tlearn: 87959.2215536\ttest: 88388.0189205\tbest: 88388.0189205 (22)\ttotal: 147ms\tremaining: 492ms\n",
      "23:\tlearn: 85832.8891591\ttest: 86250.8360209\tbest: 86250.8360209 (23)\ttotal: 153ms\tremaining: 484ms\n",
      "24:\tlearn: 84348.6202363\ttest: 84765.2453768\tbest: 84765.2453768 (24)\ttotal: 160ms\tremaining: 479ms\n",
      "25:\tlearn: 82852.0204874\ttest: 83251.8049752\tbest: 83251.8049752 (25)\ttotal: 167ms\tremaining: 474ms\n",
      "26:\tlearn: 81464.5180543\ttest: 81866.6083956\tbest: 81866.6083956 (26)\ttotal: 173ms\tremaining: 467ms\n",
      "27:\tlearn: 80345.7862849\ttest: 80753.4098690\tbest: 80753.4098690 (27)\ttotal: 178ms\tremaining: 459ms\n",
      "28:\tlearn: 79460.0452844\ttest: 79846.6001601\tbest: 79846.6001601 (28)\ttotal: 184ms\tremaining: 451ms\n",
      "29:\tlearn: 78645.3953764\ttest: 79045.2003613\tbest: 79045.2003613 (29)\ttotal: 190ms\tremaining: 444ms\n",
      "30:\tlearn: 77113.2355057\ttest: 77483.3786873\tbest: 77483.3786873 (30)\ttotal: 197ms\tremaining: 438ms\n",
      "31:\tlearn: 75742.5702895\ttest: 76225.0038853\tbest: 76225.0038853 (31)\ttotal: 204ms\tremaining: 434ms\n",
      "32:\tlearn: 74541.6905271\ttest: 75131.9965414\tbest: 75131.9965414 (32)\ttotal: 210ms\tremaining: 427ms\n",
      "33:\tlearn: 73440.0366284\ttest: 74056.0401709\tbest: 74056.0401709 (33)\ttotal: 217ms\tremaining: 422ms\n",
      "34:\tlearn: 72564.1485987\ttest: 73254.3980968\tbest: 73254.3980968 (34)\ttotal: 225ms\tremaining: 418ms\n",
      "35:\tlearn: 71831.2397001\ttest: 72544.4740721\tbest: 72544.4740721 (35)\ttotal: 231ms\tremaining: 411ms\n",
      "36:\tlearn: 71116.4901009\ttest: 71846.7567590\tbest: 71846.7567590 (36)\ttotal: 238ms\tremaining: 405ms\n",
      "37:\tlearn: 70609.6631539\ttest: 71406.2825057\tbest: 71406.2825057 (37)\ttotal: 244ms\tremaining: 398ms\n",
      "38:\tlearn: 70145.8350552\ttest: 70982.4369393\tbest: 70982.4369393 (38)\ttotal: 250ms\tremaining: 390ms\n",
      "39:\tlearn: 69704.8788190\ttest: 70591.9431340\tbest: 70591.9431340 (39)\ttotal: 256ms\tremaining: 384ms\n",
      "40:\tlearn: 69281.3395886\ttest: 70182.7121920\tbest: 70182.7121920 (40)\ttotal: 262ms\tremaining: 376ms\n",
      "41:\tlearn: 68967.6054980\ttest: 69901.0515627\tbest: 69901.0515627 (41)\ttotal: 268ms\tremaining: 370ms\n",
      "42:\tlearn: 68673.5423575\ttest: 69608.8314896\tbest: 69608.8314896 (42)\ttotal: 273ms\tremaining: 362ms\n",
      "43:\tlearn: 68327.6507498\ttest: 69268.9355744\tbest: 69268.9355744 (43)\ttotal: 279ms\tremaining: 355ms\n",
      "44:\tlearn: 68019.3821310\ttest: 68984.8053552\tbest: 68984.8053552 (44)\ttotal: 285ms\tremaining: 349ms\n",
      "45:\tlearn: 67725.3275482\ttest: 68702.8326494\tbest: 68702.8326494 (45)\ttotal: 291ms\tremaining: 342ms\n",
      "46:\tlearn: 67504.7283175\ttest: 68509.1586795\tbest: 68509.1586795 (46)\ttotal: 297ms\tremaining: 335ms\n",
      "47:\tlearn: 67280.2911300\ttest: 68277.3493470\tbest: 68277.3493470 (47)\ttotal: 303ms\tremaining: 329ms\n",
      "48:\tlearn: 67135.3993470\ttest: 68164.8325257\tbest: 68164.8325257 (48)\ttotal: 309ms\tremaining: 322ms\n",
      "49:\tlearn: 67005.2881496\ttest: 68068.9170409\tbest: 68068.9170409 (49)\ttotal: 315ms\tremaining: 315ms\n",
      "50:\tlearn: 66821.4376042\ttest: 67885.7428554\tbest: 67885.7428554 (50)\ttotal: 321ms\tremaining: 309ms\n",
      "51:\tlearn: 66694.5354756\ttest: 67789.5561934\tbest: 67789.5561934 (51)\ttotal: 327ms\tremaining: 302ms\n",
      "52:\tlearn: 66597.3987195\ttest: 67709.6556382\tbest: 67709.6556382 (52)\ttotal: 333ms\tremaining: 295ms\n",
      "53:\tlearn: 66457.8038328\ttest: 67567.8843063\tbest: 67567.8843063 (53)\ttotal: 339ms\tremaining: 289ms\n",
      "54:\tlearn: 66364.4518290\ttest: 67501.6934028\tbest: 67501.6934028 (54)\ttotal: 345ms\tremaining: 282ms\n",
      "55:\tlearn: 66300.2033652\ttest: 67443.4207608\tbest: 67443.4207608 (55)\ttotal: 352ms\tremaining: 276ms\n",
      "56:\tlearn: 66240.1836326\ttest: 67391.9228175\tbest: 67391.9228175 (56)\ttotal: 357ms\tremaining: 269ms\n",
      "57:\tlearn: 66178.0611408\ttest: 67359.3118693\tbest: 67359.3118693 (57)\ttotal: 363ms\tremaining: 263ms\n",
      "58:\tlearn: 66012.9730032\ttest: 67194.5566646\tbest: 67194.5566646 (58)\ttotal: 369ms\tremaining: 256ms\n",
      "59:\tlearn: 65896.0043183\ttest: 67083.5987771\tbest: 67083.5987771 (59)\ttotal: 375ms\tremaining: 250ms\n",
      "60:\tlearn: 65843.0072086\ttest: 67041.6417655\tbest: 67041.6417655 (60)\ttotal: 381ms\tremaining: 244ms\n",
      "61:\tlearn: 65758.6364262\ttest: 66974.1446040\tbest: 66974.1446040 (61)\ttotal: 387ms\tremaining: 237ms\n",
      "62:\tlearn: 65645.1595618\ttest: 66861.2421555\tbest: 66861.2421555 (62)\ttotal: 393ms\tremaining: 231ms\n",
      "63:\tlearn: 65587.6771725\ttest: 66816.6708353\tbest: 66816.6708353 (63)\ttotal: 399ms\tremaining: 224ms\n",
      "64:\tlearn: 65463.0873742\ttest: 66706.9499871\tbest: 66706.9499871 (64)\ttotal: 405ms\tremaining: 218ms\n",
      "65:\tlearn: 65363.5343975\ttest: 66612.4754464\tbest: 66612.4754464 (65)\ttotal: 411ms\tremaining: 212ms\n",
      "66:\tlearn: 65297.4623637\ttest: 66557.2351945\tbest: 66557.2351945 (66)\ttotal: 416ms\tremaining: 205ms\n",
      "67:\tlearn: 65172.1991952\ttest: 66453.8202205\tbest: 66453.8202205 (67)\ttotal: 422ms\tremaining: 199ms\n",
      "68:\tlearn: 65099.1429556\ttest: 66395.8333117\tbest: 66395.8333117 (68)\ttotal: 429ms\tremaining: 193ms\n",
      "69:\tlearn: 64978.5375915\ttest: 66286.3176884\tbest: 66286.3176884 (69)\ttotal: 435ms\tremaining: 186ms\n",
      "70:\tlearn: 64920.1114617\ttest: 66244.5401397\tbest: 66244.5401397 (70)\ttotal: 440ms\tremaining: 180ms\n",
      "71:\tlearn: 64852.4545095\ttest: 66202.0394873\tbest: 66202.0394873 (71)\ttotal: 447ms\tremaining: 174ms\n",
      "72:\tlearn: 64777.2895457\ttest: 66156.8168415\tbest: 66156.8168415 (72)\ttotal: 454ms\tremaining: 168ms\n",
      "73:\tlearn: 64727.4907467\ttest: 66124.0826968\tbest: 66124.0826968 (73)\ttotal: 461ms\tremaining: 162ms\n",
      "74:\tlearn: 64650.5745415\ttest: 66050.8296232\tbest: 66050.8296232 (74)\ttotal: 467ms\tremaining: 156ms\n",
      "75:\tlearn: 64584.8441583\ttest: 65996.5614933\tbest: 65996.5614933 (75)\ttotal: 473ms\tremaining: 149ms\n",
      "76:\tlearn: 64510.9952029\ttest: 65938.7743391\tbest: 65938.7743391 (76)\ttotal: 479ms\tremaining: 143ms\n",
      "77:\tlearn: 64440.9995861\ttest: 65900.1806376\tbest: 65900.1806376 (77)\ttotal: 485ms\tremaining: 137ms\n",
      "78:\tlearn: 64412.3004843\ttest: 65874.1421529\tbest: 65874.1421529 (78)\ttotal: 492ms\tremaining: 131ms\n",
      "79:\tlearn: 64372.1773843\ttest: 65844.8681300\tbest: 65844.8681300 (79)\ttotal: 498ms\tremaining: 124ms\n",
      "80:\tlearn: 64314.0152901\ttest: 65770.5272052\tbest: 65770.5272052 (80)\ttotal: 504ms\tremaining: 118ms\n",
      "81:\tlearn: 64242.8134491\ttest: 65725.4099830\tbest: 65725.4099830 (81)\ttotal: 510ms\tremaining: 112ms\n",
      "82:\tlearn: 64212.3539319\ttest: 65699.1401414\tbest: 65699.1401414 (82)\ttotal: 516ms\tremaining: 106ms\n",
      "83:\tlearn: 64122.5674802\ttest: 65627.6546763\tbest: 65627.6546763 (83)\ttotal: 522ms\tremaining: 99.3ms\n",
      "84:\tlearn: 64085.3253043\ttest: 65598.7212660\tbest: 65598.7212660 (84)\ttotal: 527ms\tremaining: 93.1ms\n",
      "85:\tlearn: 64056.7267756\ttest: 65586.7300186\tbest: 65586.7300186 (85)\ttotal: 534ms\tremaining: 86.9ms\n",
      "86:\tlearn: 63993.2723909\ttest: 65537.8972638\tbest: 65537.8972638 (86)\ttotal: 539ms\tremaining: 80.6ms\n",
      "87:\tlearn: 63908.7395529\ttest: 65463.6261784\tbest: 65463.6261784 (87)\ttotal: 545ms\tremaining: 74.4ms\n",
      "88:\tlearn: 63861.1497266\ttest: 65409.3469336\tbest: 65409.3469336 (88)\ttotal: 551ms\tremaining: 68.1ms\n",
      "89:\tlearn: 63851.6222464\ttest: 65403.6769502\tbest: 65403.6769502 (89)\ttotal: 557ms\tremaining: 61.9ms\n",
      "90:\tlearn: 63789.4503892\ttest: 65357.7275525\tbest: 65357.7275525 (90)\ttotal: 563ms\tremaining: 55.7ms\n",
      "91:\tlearn: 63738.9752207\ttest: 65322.8581392\tbest: 65322.8581392 (91)\ttotal: 569ms\tremaining: 49.5ms\n",
      "92:\tlearn: 63655.5469716\ttest: 65258.4086715\tbest: 65258.4086715 (92)\ttotal: 576ms\tremaining: 43.3ms\n",
      "93:\tlearn: 63606.6434807\ttest: 65215.7660734\tbest: 65215.7660734 (93)\ttotal: 582ms\tremaining: 37.2ms\n",
      "94:\tlearn: 63575.9228082\ttest: 65179.7870381\tbest: 65179.7870381 (94)\ttotal: 589ms\tremaining: 31ms\n",
      "95:\tlearn: 63492.3006028\ttest: 65115.1504586\tbest: 65115.1504586 (95)\ttotal: 595ms\tremaining: 24.8ms\n",
      "96:\tlearn: 63451.9316847\ttest: 65076.6729450\tbest: 65076.6729450 (96)\ttotal: 601ms\tremaining: 18.6ms\n",
      "97:\tlearn: 63422.4246955\ttest: 65064.1459629\tbest: 65064.1459629 (97)\ttotal: 607ms\tremaining: 12.4ms\n",
      "98:\tlearn: 63362.1763762\ttest: 64999.7445083\tbest: 64999.7445083 (98)\ttotal: 613ms\tremaining: 6.19ms\n",
      "99:\tlearn: 63306.4329163\ttest: 64950.8100314\tbest: 64950.8100314 (99)\ttotal: 618ms\tremaining: 0us\n",
      "\n",
      "bestTest = 64950.81003\n",
      "bestIteration = 99\n",
      "\n",
      "5:\tloss: 64950.8100314\tbest: 62654.9178439 (0)\ttotal: 4.19s\tremaining: 2.79s\n",
      "0:\tlearn: 396941.5814163\ttest: 397450.7165868\tbest: 397450.7165868 (0)\ttotal: 7.06ms\tremaining: 699ms\n",
      "1:\tlearn: 359671.6265909\ttest: 360142.2614384\tbest: 360142.2614384 (1)\ttotal: 13.3ms\tremaining: 654ms\n",
      "2:\tlearn: 326368.7641673\ttest: 326813.2075604\tbest: 326813.2075604 (2)\ttotal: 19.2ms\tremaining: 621ms\n",
      "3:\tlearn: 296536.0332825\ttest: 296979.1238930\tbest: 296979.1238930 (3)\ttotal: 24.7ms\tremaining: 593ms\n",
      "4:\tlearn: 269688.5281556\ttest: 270171.2663342\tbest: 270171.2663342 (4)\ttotal: 31.4ms\tremaining: 596ms\n",
      "5:\tlearn: 246023.7306189\ttest: 246516.9754790\tbest: 246516.9754790 (5)\ttotal: 37ms\tremaining: 580ms\n",
      "6:\tlearn: 224875.2961274\ttest: 225379.5209971\tbest: 225379.5209971 (6)\ttotal: 41.3ms\tremaining: 548ms\n",
      "7:\tlearn: 205618.1103172\ttest: 206128.6836336\tbest: 206128.6836336 (7)\ttotal: 47.3ms\tremaining: 544ms\n",
      "8:\tlearn: 189101.8199667\ttest: 189604.4733955\tbest: 189604.4733955 (8)\ttotal: 51.8ms\tremaining: 524ms\n",
      "9:\tlearn: 174406.8039984\ttest: 174826.2926392\tbest: 174826.2926392 (9)\ttotal: 58ms\tremaining: 522ms\n",
      "10:\tlearn: 161190.2232576\ttest: 161614.3577012\tbest: 161614.3577012 (10)\ttotal: 63.7ms\tremaining: 515ms\n",
      "11:\tlearn: 149836.3357462\ttest: 150202.7467631\tbest: 150202.7467631 (11)\ttotal: 69.2ms\tremaining: 508ms\n",
      "12:\tlearn: 139356.9096579\ttest: 139705.5239192\tbest: 139705.5239192 (12)\ttotal: 75.1ms\tremaining: 502ms\n",
      "13:\tlearn: 130365.9417953\ttest: 130716.1886776\tbest: 130716.1886776 (13)\ttotal: 80.9ms\tremaining: 497ms\n",
      "14:\tlearn: 122381.7678852\ttest: 122735.6529563\tbest: 122735.6529563 (14)\ttotal: 87.2ms\tremaining: 494ms\n",
      "15:\tlearn: 115708.6823389\ttest: 116022.3524826\tbest: 116022.3524826 (15)\ttotal: 92.9ms\tremaining: 488ms\n",
      "16:\tlearn: 109660.1078902\ttest: 109990.0650802\tbest: 109990.0650802 (16)\ttotal: 98.8ms\tremaining: 482ms\n",
      "17:\tlearn: 104461.9376646\ttest: 104756.5753445\tbest: 104756.5753445 (17)\ttotal: 105ms\tremaining: 477ms\n",
      "18:\tlearn: 100036.5400216\ttest: 100315.6307619\tbest: 100315.6307619 (18)\ttotal: 111ms\tremaining: 473ms\n",
      "19:\tlearn: 96137.7979397\ttest: 96413.0739373\tbest: 96413.0739373 (19)\ttotal: 117ms\tremaining: 468ms\n",
      "20:\tlearn: 93009.1527169\ttest: 93260.9695903\tbest: 93260.9695903 (20)\ttotal: 123ms\tremaining: 462ms\n",
      "21:\tlearn: 90178.5426632\ttest: 90423.7489613\tbest: 90423.7489613 (21)\ttotal: 129ms\tremaining: 456ms\n",
      "22:\tlearn: 87792.2057044\ttest: 88027.4131258\tbest: 88027.4131258 (22)\ttotal: 134ms\tremaining: 450ms\n",
      "23:\tlearn: 85708.7650435\ttest: 85920.5820583\tbest: 85920.5820583 (23)\ttotal: 141ms\tremaining: 447ms\n",
      "24:\tlearn: 83951.2639027\ttest: 84152.9203806\tbest: 84152.9203806 (24)\ttotal: 148ms\tremaining: 443ms\n",
      "25:\tlearn: 82476.6876458\ttest: 82702.9217249\tbest: 82702.9217249 (25)\ttotal: 155ms\tremaining: 441ms\n",
      "26:\tlearn: 81567.0728397\ttest: 81768.8956179\tbest: 81768.8956179 (26)\ttotal: 158ms\tremaining: 428ms\n",
      "27:\tlearn: 80350.8167617\ttest: 80572.4200156\tbest: 80572.4200156 (27)\ttotal: 165ms\tremaining: 425ms\n",
      "28:\tlearn: 79384.9393916\ttest: 79629.7939272\tbest: 79629.7939272 (28)\ttotal: 174ms\tremaining: 426ms\n",
      "29:\tlearn: 77685.7717544\ttest: 77973.7110660\tbest: 77973.7110660 (29)\ttotal: 181ms\tremaining: 422ms\n",
      "30:\tlearn: 76315.4518705\ttest: 76690.5969034\tbest: 76690.5969034 (30)\ttotal: 187ms\tremaining: 416ms\n",
      "31:\tlearn: 75148.9658420\ttest: 75574.2148855\tbest: 75574.2148855 (31)\ttotal: 193ms\tremaining: 411ms\n",
      "32:\tlearn: 74138.0204376\ttest: 74647.8433972\tbest: 74647.8433972 (32)\ttotal: 199ms\tremaining: 405ms\n",
      "33:\tlearn: 73122.9348516\ttest: 73651.7236405\tbest: 73651.7236405 (33)\ttotal: 206ms\tremaining: 400ms\n",
      "34:\tlearn: 72317.6029836\ttest: 72911.7002411\tbest: 72911.7002411 (34)\ttotal: 212ms\tremaining: 394ms\n",
      "35:\tlearn: 71689.8217147\ttest: 72320.9923477\tbest: 72320.9923477 (35)\ttotal: 218ms\tremaining: 388ms\n",
      "36:\tlearn: 71042.5382255\ttest: 71725.8542145\tbest: 71725.8542145 (36)\ttotal: 224ms\tremaining: 382ms\n",
      "37:\tlearn: 70473.9099084\ttest: 71172.2962068\tbest: 71172.2962068 (37)\ttotal: 231ms\tremaining: 376ms\n",
      "38:\tlearn: 70065.0771933\ttest: 70771.8550198\tbest: 70771.8550198 (38)\ttotal: 237ms\tremaining: 370ms\n",
      "39:\tlearn: 69682.8832981\ttest: 70402.4962486\tbest: 70402.4962486 (39)\ttotal: 243ms\tremaining: 364ms\n",
      "40:\tlearn: 69388.7554373\ttest: 70130.6230103\tbest: 70130.6230103 (40)\ttotal: 249ms\tremaining: 358ms\n",
      "41:\tlearn: 69062.4915372\ttest: 69806.7427135\tbest: 69806.7427135 (41)\ttotal: 255ms\tremaining: 353ms\n",
      "42:\tlearn: 68776.9045231\ttest: 69551.4530037\tbest: 69551.4530037 (42)\ttotal: 261ms\tremaining: 346ms\n",
      "43:\tlearn: 68599.1366977\ttest: 69395.5438591\tbest: 69395.5438591 (43)\ttotal: 267ms\tremaining: 340ms\n",
      "44:\tlearn: 68324.6154249\ttest: 69130.8250774\tbest: 69130.8250774 (44)\ttotal: 273ms\tremaining: 334ms\n",
      "45:\tlearn: 68098.4460323\ttest: 68910.4631245\tbest: 68910.4631245 (45)\ttotal: 279ms\tremaining: 328ms\n",
      "46:\tlearn: 67878.6224341\ttest: 68680.2054496\tbest: 68680.2054496 (46)\ttotal: 286ms\tremaining: 322ms\n",
      "47:\tlearn: 67650.0879298\ttest: 68465.1890150\tbest: 68465.1890150 (47)\ttotal: 292ms\tremaining: 316ms\n",
      "48:\tlearn: 67497.1983606\ttest: 68321.6825946\tbest: 68321.6825946 (48)\ttotal: 298ms\tremaining: 310ms\n",
      "49:\tlearn: 67349.9688978\ttest: 68168.0428275\tbest: 68168.0428275 (49)\ttotal: 304ms\tremaining: 304ms\n",
      "50:\tlearn: 67198.8152012\ttest: 68024.4202969\tbest: 68024.4202969 (50)\ttotal: 310ms\tremaining: 297ms\n",
      "51:\tlearn: 67070.0832042\ttest: 67912.0869277\tbest: 67912.0869277 (51)\ttotal: 316ms\tremaining: 291ms\n",
      "52:\tlearn: 66959.1629017\ttest: 67816.7392289\tbest: 67816.7392289 (52)\ttotal: 322ms\tremaining: 285ms\n",
      "53:\tlearn: 66880.6640733\ttest: 67744.7260034\tbest: 67744.7260034 (53)\ttotal: 331ms\tremaining: 282ms\n",
      "54:\tlearn: 66773.4339628\ttest: 67639.6859657\tbest: 67639.6859657 (54)\ttotal: 337ms\tremaining: 276ms\n",
      "55:\tlearn: 66627.7872464\ttest: 67511.5174891\tbest: 67511.5174891 (55)\ttotal: 343ms\tremaining: 269ms\n",
      "56:\tlearn: 66467.3572600\ttest: 67340.5141196\tbest: 67340.5141196 (56)\ttotal: 349ms\tremaining: 263ms\n",
      "57:\tlearn: 66370.0873144\ttest: 67264.4894741\tbest: 67264.4894741 (57)\ttotal: 355ms\tremaining: 257ms\n",
      "58:\tlearn: 66206.0786072\ttest: 67099.7774913\tbest: 67099.7774913 (58)\ttotal: 361ms\tremaining: 251ms\n",
      "59:\tlearn: 66134.7667534\ttest: 67043.1404688\tbest: 67043.1404688 (59)\ttotal: 366ms\tremaining: 244ms\n",
      "60:\tlearn: 65991.8323057\ttest: 66906.5648816\tbest: 66906.5648816 (60)\ttotal: 372ms\tremaining: 238ms\n",
      "61:\tlearn: 65922.1144647\ttest: 66838.1858008\tbest: 66838.1858008 (61)\ttotal: 378ms\tremaining: 232ms\n",
      "62:\tlearn: 65863.2102538\ttest: 66789.6238144\tbest: 66789.6238144 (62)\ttotal: 384ms\tremaining: 226ms\n",
      "63:\tlearn: 65803.6063931\ttest: 66736.4632464\tbest: 66736.4632464 (63)\ttotal: 390ms\tremaining: 219ms\n",
      "64:\tlearn: 65764.8456953\ttest: 66703.2172357\tbest: 66703.2172357 (64)\ttotal: 396ms\tremaining: 213ms\n",
      "65:\tlearn: 65653.1152017\ttest: 66601.1969196\tbest: 66601.1969196 (65)\ttotal: 402ms\tremaining: 207ms\n",
      "66:\tlearn: 65592.6952449\ttest: 66554.8125478\tbest: 66554.8125478 (66)\ttotal: 412ms\tremaining: 203ms\n",
      "67:\tlearn: 65498.2111324\ttest: 66471.8110163\tbest: 66471.8110163 (67)\ttotal: 423ms\tremaining: 199ms\n",
      "68:\tlearn: 65480.2650998\ttest: 66465.0485272\tbest: 66465.0485272 (68)\ttotal: 432ms\tremaining: 194ms\n",
      "69:\tlearn: 65433.2903141\ttest: 66423.4115522\tbest: 66423.4115522 (69)\ttotal: 438ms\tremaining: 188ms\n",
      "70:\tlearn: 65391.5985071\ttest: 66391.0335910\tbest: 66391.0335910 (70)\ttotal: 444ms\tremaining: 181ms\n",
      "71:\tlearn: 65270.6980932\ttest: 66284.9761518\tbest: 66284.9761518 (71)\ttotal: 451ms\tremaining: 175ms\n",
      "72:\tlearn: 65224.9329684\ttest: 66252.6734621\tbest: 66252.6734621 (72)\ttotal: 458ms\tremaining: 169ms\n",
      "73:\tlearn: 65183.5028609\ttest: 66211.9848146\tbest: 66211.9848146 (73)\ttotal: 463ms\tremaining: 163ms\n",
      "74:\tlearn: 65086.2752216\ttest: 66126.5187569\tbest: 66126.5187569 (74)\ttotal: 469ms\tremaining: 156ms\n",
      "75:\tlearn: 65049.8039671\ttest: 66083.0716708\tbest: 66083.0716708 (75)\ttotal: 476ms\tremaining: 150ms\n",
      "76:\tlearn: 64985.4095594\ttest: 66021.3527908\tbest: 66021.3527908 (76)\ttotal: 482ms\tremaining: 144ms\n",
      "77:\tlearn: 64972.8641466\ttest: 66020.1616281\tbest: 66020.1616281 (77)\ttotal: 488ms\tremaining: 138ms\n",
      "78:\tlearn: 64875.0856040\ttest: 65927.8471420\tbest: 65927.8471420 (78)\ttotal: 495ms\tremaining: 131ms\n",
      "79:\tlearn: 64841.4443474\ttest: 65910.8671159\tbest: 65910.8671159 (79)\ttotal: 500ms\tremaining: 125ms\n",
      "80:\tlearn: 64821.7635402\ttest: 65899.8104452\tbest: 65899.8104452 (80)\ttotal: 506ms\tremaining: 119ms\n",
      "81:\tlearn: 64805.5675014\ttest: 65893.0466919\tbest: 65893.0466919 (81)\ttotal: 512ms\tremaining: 112ms\n",
      "82:\tlearn: 64733.2028788\ttest: 65827.6805996\tbest: 65827.6805996 (82)\ttotal: 518ms\tremaining: 106ms\n",
      "83:\tlearn: 64687.6066652\ttest: 65782.4528757\tbest: 65782.4528757 (83)\ttotal: 524ms\tremaining: 99.8ms\n",
      "84:\tlearn: 64653.2347206\ttest: 65770.8346870\tbest: 65770.8346870 (84)\ttotal: 530ms\tremaining: 93.6ms\n",
      "85:\tlearn: 64627.8052022\ttest: 65740.5048732\tbest: 65740.5048732 (85)\ttotal: 536ms\tremaining: 87.3ms\n",
      "86:\tlearn: 64568.4717114\ttest: 65689.6856918\tbest: 65689.6856918 (86)\ttotal: 542ms\tremaining: 81ms\n",
      "87:\tlearn: 64503.0386921\ttest: 65637.1116782\tbest: 65637.1116782 (87)\ttotal: 548ms\tremaining: 74.8ms\n",
      "88:\tlearn: 64471.5107293\ttest: 65616.1553536\tbest: 65616.1553536 (88)\ttotal: 554ms\tremaining: 68.5ms\n",
      "89:\tlearn: 64408.0991413\ttest: 65554.0914611\tbest: 65554.0914611 (89)\ttotal: 560ms\tremaining: 62.3ms\n",
      "90:\tlearn: 64390.1342270\ttest: 65542.7682142\tbest: 65542.7682142 (90)\ttotal: 566ms\tremaining: 56ms\n",
      "91:\tlearn: 64322.7322296\ttest: 65483.1711920\tbest: 65483.1711920 (91)\ttotal: 572ms\tremaining: 49.8ms\n",
      "92:\tlearn: 64272.0275023\ttest: 65437.8255420\tbest: 65437.8255420 (92)\ttotal: 578ms\tremaining: 43.5ms\n",
      "93:\tlearn: 64231.1922401\ttest: 65405.3197961\tbest: 65405.3197961 (93)\ttotal: 584ms\tremaining: 37.3ms\n",
      "94:\tlearn: 64207.5686138\ttest: 65390.4202582\tbest: 65390.4202582 (94)\ttotal: 590ms\tremaining: 31ms\n",
      "95:\tlearn: 64160.6191495\ttest: 65330.3622660\tbest: 65330.3622660 (95)\ttotal: 596ms\tremaining: 24.8ms\n",
      "96:\tlearn: 64110.1083002\ttest: 65279.1996393\tbest: 65279.1996393 (96)\ttotal: 602ms\tremaining: 18.6ms\n",
      "97:\tlearn: 64038.5804404\ttest: 65224.7000539\tbest: 65224.7000539 (97)\ttotal: 608ms\tremaining: 12.4ms\n",
      "98:\tlearn: 63985.1821410\ttest: 65177.2306747\tbest: 65177.2306747 (98)\ttotal: 615ms\tremaining: 6.21ms\n",
      "99:\tlearn: 63904.1808994\ttest: 65102.0754674\tbest: 65102.0754674 (99)\ttotal: 621ms\tremaining: 0us\n",
      "\n",
      "bestTest = 65102.07547\n",
      "bestIteration = 99\n",
      "\n",
      "6:\tloss: 65102.0754674\tbest: 62654.9178439 (0)\ttotal: 4.82s\tremaining: 2.06s\n",
      "0:\tlearn: 434320.1571425\ttest: 434793.5520996\tbest: 434793.5520996 (0)\ttotal: 5.82ms\tremaining: 577ms\n",
      "1:\tlearn: 430220.6844591\ttest: 430690.7939811\tbest: 430690.7939811 (1)\ttotal: 14.1ms\tremaining: 690ms\n",
      "2:\tlearn: 426161.6133937\ttest: 426629.5353918\tbest: 426629.5353918 (2)\ttotal: 22.6ms\tremaining: 730ms\n",
      "3:\tlearn: 422134.1837180\ttest: 422601.9972604\tbest: 422601.9972604 (3)\ttotal: 28ms\tremaining: 672ms\n",
      "4:\tlearn: 418192.9011441\ttest: 418655.4960566\tbest: 418655.4960566 (4)\ttotal: 33.7ms\tremaining: 640ms\n",
      "5:\tlearn: 414256.4093177\ttest: 414722.7723358\tbest: 414722.7723358 (5)\ttotal: 39.2ms\tremaining: 615ms\n",
      "6:\tlearn: 410350.4852609\ttest: 410821.2633346\tbest: 410821.2633346 (6)\ttotal: 42.5ms\tremaining: 565ms\n",
      "7:\tlearn: 406469.8427485\ttest: 406942.4451616\tbest: 406942.4451616 (7)\ttotal: 48.7ms\tremaining: 560ms\n",
      "8:\tlearn: 402647.3012336\ttest: 403125.1665768\tbest: 403125.1665768 (8)\ttotal: 54.3ms\tremaining: 549ms\n",
      "9:\tlearn: 398859.9939239\ttest: 399329.6480787\tbest: 399329.6480787 (9)\ttotal: 59.7ms\tremaining: 537ms\n",
      "10:\tlearn: 395154.2656280\ttest: 395622.0783875\tbest: 395622.0783875 (10)\ttotal: 65ms\tremaining: 526ms\n",
      "11:\tlearn: 391444.2804112\ttest: 391915.4211402\tbest: 391915.4211402 (11)\ttotal: 70.4ms\tremaining: 516ms\n",
      "12:\tlearn: 387818.8262003\ttest: 388282.2644916\tbest: 388282.2644916 (12)\ttotal: 76.1ms\tremaining: 509ms\n",
      "13:\tlearn: 384230.6085126\ttest: 384693.7388414\tbest: 384693.7388414 (13)\ttotal: 80.6ms\tremaining: 495ms\n",
      "14:\tlearn: 380628.0691458\ttest: 381091.8561322\tbest: 381091.8561322 (14)\ttotal: 86.1ms\tremaining: 488ms\n",
      "15:\tlearn: 377075.0345938\ttest: 377535.1750948\tbest: 377535.1750948 (15)\ttotal: 91.2ms\tremaining: 479ms\n",
      "16:\tlearn: 373555.6161090\ttest: 374015.2059320\tbest: 374015.2059320 (16)\ttotal: 96.7ms\tremaining: 472ms\n",
      "17:\tlearn: 370090.3477290\ttest: 370552.2735635\tbest: 370552.2735635 (17)\ttotal: 102ms\tremaining: 465ms\n",
      "18:\tlearn: 366645.7932409\ttest: 367104.4065157\tbest: 367104.4065157 (18)\ttotal: 106ms\tremaining: 453ms\n",
      "19:\tlearn: 363245.3021083\ttest: 363702.3182789\tbest: 363702.3182789 (19)\ttotal: 112ms\tremaining: 446ms\n",
      "20:\tlearn: 359890.6030262\ttest: 360348.1247871\tbest: 360348.1247871 (20)\ttotal: 117ms\tremaining: 440ms\n",
      "21:\tlearn: 356547.5105636\ttest: 357001.7548643\tbest: 357001.7548643 (21)\ttotal: 122ms\tremaining: 432ms\n",
      "22:\tlearn: 353244.5943985\ttest: 353696.9632666\tbest: 353696.9632666 (22)\ttotal: 128ms\tremaining: 427ms\n",
      "23:\tlearn: 350019.3802681\ttest: 350465.3082357\tbest: 350465.3082357 (23)\ttotal: 133ms\tremaining: 420ms\n",
      "24:\tlearn: 346810.6793676\ttest: 347255.6897654\tbest: 347255.6897654 (24)\ttotal: 139ms\tremaining: 416ms\n",
      "25:\tlearn: 343615.1154044\ttest: 344060.6890784\tbest: 344060.6890784 (25)\ttotal: 147ms\tremaining: 419ms\n",
      "26:\tlearn: 340433.7356719\ttest: 340881.7389242\tbest: 340881.7389242 (26)\ttotal: 156ms\tremaining: 421ms\n",
      "27:\tlearn: 337303.0494130\ttest: 337753.8751102\tbest: 337753.8751102 (27)\ttotal: 161ms\tremaining: 415ms\n",
      "28:\tlearn: 334193.3930057\ttest: 334639.8635795\tbest: 334639.8635795 (28)\ttotal: 167ms\tremaining: 408ms\n",
      "29:\tlearn: 331129.2714212\ttest: 331580.0473909\tbest: 331580.0473909 (29)\ttotal: 173ms\tremaining: 403ms\n",
      "30:\tlearn: 328082.2963755\ttest: 328535.6374271\tbest: 328535.6374271 (30)\ttotal: 178ms\tremaining: 397ms\n",
      "31:\tlearn: 325107.8593189\ttest: 325557.3961636\tbest: 325557.3961636 (31)\ttotal: 185ms\tremaining: 392ms\n",
      "32:\tlearn: 322153.5184835\ttest: 322601.1175231\tbest: 322601.1175231 (32)\ttotal: 190ms\tremaining: 386ms\n",
      "33:\tlearn: 319220.3250677\ttest: 319670.0554569\tbest: 319670.0554569 (33)\ttotal: 196ms\tremaining: 380ms\n",
      "34:\tlearn: 316311.2227340\ttest: 316759.7643783\tbest: 316759.7643783 (34)\ttotal: 203ms\tremaining: 376ms\n",
      "35:\tlearn: 313436.5346836\ttest: 313887.4145296\tbest: 313887.4145296 (35)\ttotal: 206ms\tremaining: 366ms\n",
      "36:\tlearn: 310596.0345299\ttest: 311044.3749202\tbest: 311044.3749202 (36)\ttotal: 212ms\tremaining: 360ms\n",
      "37:\tlearn: 307784.4068373\ttest: 308231.8955999\tbest: 308231.8955999 (37)\ttotal: 217ms\tremaining: 354ms\n",
      "38:\tlearn: 305013.3528215\ttest: 305456.8069233\tbest: 305456.8069233 (38)\ttotal: 224ms\tremaining: 350ms\n",
      "39:\tlearn: 302264.5554917\ttest: 302707.9487943\tbest: 302707.9487943 (39)\ttotal: 230ms\tremaining: 345ms\n",
      "40:\tlearn: 299553.6362159\ttest: 299995.4619730\tbest: 299995.4619730 (40)\ttotal: 235ms\tremaining: 338ms\n",
      "41:\tlearn: 296835.0721975\ttest: 297272.7692117\tbest: 297272.7692117 (41)\ttotal: 240ms\tremaining: 332ms\n",
      "42:\tlearn: 294137.7091215\ttest: 294576.4983258\tbest: 294576.4983258 (42)\ttotal: 247ms\tremaining: 327ms\n",
      "43:\tlearn: 291519.5693665\ttest: 291954.5022922\tbest: 291954.5022922 (43)\ttotal: 251ms\tremaining: 319ms\n",
      "44:\tlearn: 288885.5263644\ttest: 289323.7877592\tbest: 289323.7877592 (44)\ttotal: 256ms\tremaining: 313ms\n",
      "45:\tlearn: 286294.1428019\ttest: 286737.4698817\tbest: 286737.4698817 (45)\ttotal: 262ms\tremaining: 307ms\n",
      "46:\tlearn: 283724.3442500\ttest: 284164.5781988\tbest: 284164.5781988 (46)\ttotal: 268ms\tremaining: 302ms\n",
      "47:\tlearn: 281191.8762408\ttest: 281631.5969559\tbest: 281631.5969559 (47)\ttotal: 273ms\tremaining: 296ms\n",
      "48:\tlearn: 278693.9468665\ttest: 279133.7957280\tbest: 279133.7957280 (48)\ttotal: 279ms\tremaining: 291ms\n",
      "49:\tlearn: 276213.7316207\ttest: 276658.1176279\tbest: 276658.1176279 (49)\ttotal: 285ms\tremaining: 285ms\n",
      "50:\tlearn: 273768.8334665\ttest: 274207.6002465\tbest: 274207.6002465 (50)\ttotal: 291ms\tremaining: 280ms\n",
      "51:\tlearn: 271332.8930626\ttest: 271769.6138318\tbest: 271769.6138318 (51)\ttotal: 297ms\tremaining: 274ms\n",
      "52:\tlearn: 268909.5383722\ttest: 269352.2799058\tbest: 269352.2799058 (52)\ttotal: 303ms\tremaining: 269ms\n",
      "53:\tlearn: 266533.4119732\ttest: 266979.1802508\tbest: 266979.1802508 (53)\ttotal: 309ms\tremaining: 263ms\n",
      "54:\tlearn: 264219.7666506\ttest: 264658.2306495\tbest: 264658.2306495 (54)\ttotal: 314ms\tremaining: 257ms\n",
      "55:\tlearn: 261900.4631802\ttest: 262336.5444687\tbest: 262336.5444687 (55)\ttotal: 320ms\tremaining: 252ms\n",
      "56:\tlearn: 259625.3272878\ttest: 260058.7177216\tbest: 260058.7177216 (56)\ttotal: 323ms\tremaining: 244ms\n",
      "57:\tlearn: 257345.3042857\ttest: 257777.3524171\tbest: 257777.3524171 (57)\ttotal: 329ms\tremaining: 238ms\n",
      "58:\tlearn: 255138.9758714\ttest: 255570.5650522\tbest: 255570.5650522 (58)\ttotal: 335ms\tremaining: 233ms\n",
      "59:\tlearn: 252930.1907315\ttest: 253363.6351839\tbest: 253363.6351839 (59)\ttotal: 339ms\tremaining: 226ms\n",
      "60:\tlearn: 250753.7047544\ttest: 251182.6500540\tbest: 251182.6500540 (60)\ttotal: 345ms\tremaining: 221ms\n",
      "61:\tlearn: 248576.3613060\ttest: 249008.2359384\tbest: 249008.2359384 (61)\ttotal: 350ms\tremaining: 215ms\n",
      "62:\tlearn: 246431.0026687\ttest: 246865.7312348\tbest: 246865.7312348 (62)\ttotal: 356ms\tremaining: 209ms\n",
      "63:\tlearn: 244312.0269228\ttest: 244748.0732088\tbest: 244748.0732088 (63)\ttotal: 360ms\tremaining: 202ms\n",
      "64:\tlearn: 242212.1568198\ttest: 242646.3753195\tbest: 242646.3753195 (64)\ttotal: 366ms\tremaining: 197ms\n",
      "65:\tlearn: 240133.2927668\ttest: 240566.1136970\tbest: 240566.1136970 (65)\ttotal: 372ms\tremaining: 191ms\n",
      "66:\tlearn: 238073.5359334\ttest: 238506.6483891\tbest: 238506.6483891 (66)\ttotal: 378ms\tremaining: 186ms\n",
      "67:\tlearn: 236079.7542927\ttest: 236508.8519667\tbest: 236508.8519667 (67)\ttotal: 381ms\tremaining: 179ms\n",
      "68:\tlearn: 234038.9182465\ttest: 234469.3293445\tbest: 234469.3293445 (68)\ttotal: 387ms\tremaining: 174ms\n",
      "69:\tlearn: 232086.2038942\ttest: 232516.4200863\tbest: 232516.4200863 (69)\ttotal: 392ms\tremaining: 168ms\n",
      "70:\tlearn: 230112.0890540\ttest: 230544.7114885\tbest: 230544.7114885 (70)\ttotal: 396ms\tremaining: 162ms\n",
      "71:\tlearn: 228158.0909318\ttest: 228586.9810793\tbest: 228586.9810793 (71)\ttotal: 402ms\tremaining: 156ms\n",
      "72:\tlearn: 226226.5710104\ttest: 226656.5506992\tbest: 226656.5506992 (72)\ttotal: 409ms\tremaining: 151ms\n",
      "73:\tlearn: 224313.0745961\ttest: 224743.7481627\tbest: 224743.7481627 (73)\ttotal: 415ms\tremaining: 146ms\n",
      "74:\tlearn: 222455.2660026\ttest: 222880.7340249\tbest: 222880.7340249 (74)\ttotal: 418ms\tremaining: 139ms\n",
      "75:\tlearn: 220562.9351338\ttest: 220985.9803425\tbest: 220985.9803425 (75)\ttotal: 426ms\tremaining: 134ms\n",
      "76:\tlearn: 218713.4822974\ttest: 219131.3863742\tbest: 219131.3863742 (76)\ttotal: 436ms\tremaining: 130ms\n",
      "77:\tlearn: 216838.7446315\ttest: 217256.6791340\tbest: 217256.6791340 (77)\ttotal: 450ms\tremaining: 127ms\n",
      "78:\tlearn: 215036.1636213\ttest: 215447.9655711\tbest: 215447.9655711 (78)\ttotal: 456ms\tremaining: 121ms\n",
      "79:\tlearn: 213245.6244823\ttest: 213661.9492769\tbest: 213661.9492769 (79)\ttotal: 462ms\tremaining: 116ms\n",
      "80:\tlearn: 211481.4272578\ttest: 211895.2916810\tbest: 211895.2916810 (80)\ttotal: 467ms\tremaining: 110ms\n",
      "81:\tlearn: 209755.4917634\ttest: 210171.8392555\tbest: 210171.8392555 (81)\ttotal: 478ms\tremaining: 105ms\n",
      "82:\tlearn: 208001.4298835\ttest: 208415.1648329\tbest: 208415.1648329 (82)\ttotal: 490ms\tremaining: 100ms\n",
      "83:\tlearn: 206313.7437926\ttest: 206724.6216617\tbest: 206724.6216617 (83)\ttotal: 497ms\tremaining: 94.6ms\n",
      "84:\tlearn: 204629.9779522\ttest: 205043.3336051\tbest: 205043.3336051 (84)\ttotal: 503ms\tremaining: 88.8ms\n",
      "85:\tlearn: 202942.6041893\ttest: 203352.6778280\tbest: 203352.6778280 (85)\ttotal: 510ms\tremaining: 83ms\n",
      "86:\tlearn: 201276.6035128\ttest: 201686.6162173\tbest: 201686.6162173 (86)\ttotal: 516ms\tremaining: 77.1ms\n",
      "87:\tlearn: 199629.8273412\ttest: 200041.1016267\tbest: 200041.1016267 (87)\ttotal: 522ms\tremaining: 71.1ms\n",
      "88:\tlearn: 198033.8272097\ttest: 198442.8534671\tbest: 198442.8534671 (88)\ttotal: 528ms\tremaining: 65.2ms\n",
      "89:\tlearn: 196472.9498668\ttest: 196876.5576054\tbest: 196876.5576054 (89)\ttotal: 534ms\tremaining: 59.3ms\n",
      "90:\tlearn: 194905.8656669\ttest: 195306.4165970\tbest: 195306.4165970 (90)\ttotal: 539ms\tremaining: 53.3ms\n",
      "91:\tlearn: 193333.1692532\ttest: 193734.5780789\tbest: 193734.5780789 (91)\ttotal: 547ms\tremaining: 47.6ms\n",
      "92:\tlearn: 191783.7372973\ttest: 192188.7263464\tbest: 192188.7263464 (92)\ttotal: 554ms\tremaining: 41.7ms\n",
      "93:\tlearn: 190275.9093377\ttest: 190677.5795478\tbest: 190677.5795478 (93)\ttotal: 559ms\tremaining: 35.7ms\n",
      "94:\tlearn: 188773.2293103\ttest: 189171.5061091\tbest: 189171.5061091 (94)\ttotal: 566ms\tremaining: 29.8ms\n",
      "95:\tlearn: 187276.5871361\ttest: 187670.7852665\tbest: 187670.7852665 (95)\ttotal: 572ms\tremaining: 23.8ms\n",
      "96:\tlearn: 185790.5614982\ttest: 186181.6993681\tbest: 186181.6993681 (96)\ttotal: 578ms\tremaining: 17.9ms\n",
      "97:\tlearn: 184337.7827877\ttest: 184723.9923785\tbest: 184723.9923785 (97)\ttotal: 584ms\tremaining: 11.9ms\n",
      "98:\tlearn: 182898.9803007\ttest: 183283.0115287\tbest: 183283.0115287 (98)\ttotal: 592ms\tremaining: 5.98ms\n",
      "99:\tlearn: 181439.9437631\ttest: 181825.4562275\tbest: 181825.4562275 (99)\ttotal: 598ms\tremaining: 0us\n",
      "\n",
      "bestTest = 181825.4562\n",
      "bestIteration = 99\n",
      "\n",
      "7:\tloss: 181825.4562275\tbest: 62654.9178439 (0)\ttotal: 5.42s\tremaining: 1.36s\n",
      "Estimating final quality...\n",
      "Training on fold [0/5]\n",
      "0:\tlearn: 98007.2290746\ttest: 98329.7970770\tbest: 98329.7970770 (0)\ttotal: 4.46ms\tremaining: 442ms\n",
      "1:\tlearn: 81831.9804244\ttest: 81967.5444288\tbest: 81967.5444288 (1)\ttotal: 10.8ms\tremaining: 530ms\n",
      "2:\tlearn: 75541.5123327\ttest: 75656.3063431\tbest: 75656.3063431 (2)\ttotal: 16.2ms\tremaining: 523ms\n",
      "3:\tlearn: 73265.2847138\ttest: 73406.9050255\tbest: 73406.9050255 (3)\ttotal: 20.6ms\tremaining: 495ms\n",
      "4:\tlearn: 72432.7321118\ttest: 72814.6495401\tbest: 72814.6495401 (4)\ttotal: 25.1ms\tremaining: 477ms\n",
      "5:\tlearn: 71598.7099291\ttest: 72067.4160148\tbest: 72067.4160148 (5)\ttotal: 29.3ms\tremaining: 459ms\n",
      "6:\tlearn: 70924.2284550\ttest: 71581.8806978\tbest: 71581.8806978 (6)\ttotal: 33.3ms\tremaining: 442ms\n",
      "7:\tlearn: 70207.4169752\ttest: 70800.2461083\tbest: 70800.2461083 (7)\ttotal: 37.3ms\tremaining: 429ms\n",
      "8:\tlearn: 69278.5748545\ttest: 69856.9346623\tbest: 69856.9346623 (8)\ttotal: 41.6ms\tremaining: 421ms\n",
      "9:\tlearn: 68410.3259521\ttest: 68811.8124209\tbest: 68811.8124209 (9)\ttotal: 45.7ms\tremaining: 412ms\n",
      "10:\tlearn: 68276.5381097\ttest: 68718.9278276\tbest: 68718.9278276 (10)\ttotal: 49.6ms\tremaining: 401ms\n",
      "11:\tlearn: 67903.4301358\ttest: 68520.5614497\tbest: 68520.5614497 (11)\ttotal: 53.7ms\tremaining: 394ms\n",
      "12:\tlearn: 67632.3833402\ttest: 68326.2099483\tbest: 68326.2099483 (12)\ttotal: 57.6ms\tremaining: 385ms\n",
      "13:\tlearn: 67280.2246295\ttest: 67983.8995143\tbest: 67983.8995143 (13)\ttotal: 61.7ms\tremaining: 379ms\n",
      "14:\tlearn: 66728.2572584\ttest: 67381.5264017\tbest: 67381.5264017 (14)\ttotal: 65.9ms\tremaining: 374ms\n",
      "15:\tlearn: 66390.4384444\ttest: 67122.7730052\tbest: 67122.7730052 (15)\ttotal: 70.5ms\tremaining: 370ms\n",
      "16:\tlearn: 66381.1828146\ttest: 67096.9434416\tbest: 67096.9434416 (16)\ttotal: 74.3ms\tremaining: 363ms\n",
      "17:\tlearn: 66148.0314928\ttest: 66995.4195945\tbest: 66995.4195945 (17)\ttotal: 78.7ms\tremaining: 359ms\n",
      "18:\tlearn: 65804.9927003\ttest: 66644.3023150\tbest: 66644.3023150 (18)\ttotal: 82.8ms\tremaining: 353ms\n",
      "19:\tlearn: 65799.8906668\ttest: 66626.8561518\tbest: 66626.8561518 (19)\ttotal: 86.7ms\tremaining: 347ms\n",
      "20:\tlearn: 65498.3625720\ttest: 66557.1822969\tbest: 66557.1822969 (20)\ttotal: 90.9ms\tremaining: 342ms\n",
      "21:\tlearn: 65260.8371495\ttest: 66356.4296456\tbest: 66356.4296456 (21)\ttotal: 95ms\tremaining: 337ms\n",
      "22:\tlearn: 65109.4645088\ttest: 66325.5921004\tbest: 66325.5921004 (22)\ttotal: 99.6ms\tremaining: 333ms\n",
      "23:\tlearn: 64853.8483736\ttest: 66024.3454216\tbest: 66024.3454216 (23)\ttotal: 106ms\tremaining: 337ms\n",
      "24:\tlearn: 64620.9607895\ttest: 65836.7185005\tbest: 65836.7185005 (24)\ttotal: 120ms\tremaining: 361ms\n",
      "25:\tlearn: 64414.0559546\ttest: 65681.4797236\tbest: 65681.4797236 (25)\ttotal: 126ms\tremaining: 359ms\n",
      "26:\tlearn: 64273.8159315\ttest: 65583.4612601\tbest: 65583.4612601 (26)\ttotal: 132ms\tremaining: 356ms\n",
      "27:\tlearn: 64125.3096179\ttest: 65479.7782895\tbest: 65479.7782895 (27)\ttotal: 136ms\tremaining: 349ms\n",
      "28:\tlearn: 63910.5866709\ttest: 65403.7601978\tbest: 65403.7601978 (28)\ttotal: 140ms\tremaining: 343ms\n",
      "29:\tlearn: 63769.1723947\ttest: 65321.2509370\tbest: 65321.2509370 (29)\ttotal: 144ms\tremaining: 336ms\n",
      "30:\tlearn: 63646.8721296\ttest: 65328.0487455\tbest: 65321.2509370 (29)\ttotal: 148ms\tremaining: 330ms\n",
      "31:\tlearn: 63398.2637301\ttest: 65139.7879260\tbest: 65139.7879260 (31)\ttotal: 152ms\tremaining: 324ms\n",
      "32:\tlearn: 63241.8259596\ttest: 65102.4404514\tbest: 65102.4404514 (32)\ttotal: 158ms\tremaining: 320ms\n",
      "33:\tlearn: 63129.7197104\ttest: 65063.5436578\tbest: 65063.5436578 (33)\ttotal: 165ms\tremaining: 321ms\n",
      "34:\tlearn: 62944.1493462\ttest: 64942.1711241\tbest: 64942.1711241 (34)\ttotal: 170ms\tremaining: 315ms\n",
      "35:\tlearn: 62940.2143018\ttest: 64931.0330808\tbest: 64931.0330808 (35)\ttotal: 174ms\tremaining: 308ms\n",
      "36:\tlearn: 62934.7109358\ttest: 64922.8693835\tbest: 64922.8693835 (36)\ttotal: 177ms\tremaining: 302ms\n",
      "37:\tlearn: 62809.4858166\ttest: 64905.9832999\tbest: 64905.9832999 (37)\ttotal: 181ms\tremaining: 296ms\n",
      "38:\tlearn: 62688.2825992\ttest: 64745.1237923\tbest: 64745.1237923 (38)\ttotal: 194ms\tremaining: 303ms\n",
      "39:\tlearn: 62605.3896388\ttest: 64703.7794086\tbest: 64703.7794086 (39)\ttotal: 202ms\tremaining: 304ms\n",
      "40:\tlearn: 62427.8452499\ttest: 64619.9140609\tbest: 64619.9140609 (40)\ttotal: 208ms\tremaining: 300ms\n",
      "41:\tlearn: 62270.1016211\ttest: 64355.8287076\tbest: 64355.8287076 (41)\ttotal: 213ms\tremaining: 293ms\n",
      "42:\tlearn: 62180.8495745\ttest: 64315.5098909\tbest: 64315.5098909 (42)\ttotal: 217ms\tremaining: 287ms\n",
      "43:\tlearn: 62019.6945356\ttest: 64198.0599725\tbest: 64198.0599725 (43)\ttotal: 221ms\tremaining: 281ms\n",
      "44:\tlearn: 61934.1009975\ttest: 64135.6660141\tbest: 64135.6660141 (44)\ttotal: 225ms\tremaining: 275ms\n",
      "45:\tlearn: 61809.0078130\ttest: 64116.1701840\tbest: 64116.1701840 (45)\ttotal: 229ms\tremaining: 269ms\n",
      "46:\tlearn: 61720.1953051\ttest: 64075.8836581\tbest: 64075.8836581 (46)\ttotal: 233ms\tremaining: 263ms\n",
      "47:\tlearn: 61626.2323440\ttest: 64006.4710824\tbest: 64006.4710824 (47)\ttotal: 237ms\tremaining: 257ms\n",
      "48:\tlearn: 61486.0732835\ttest: 63870.9137474\tbest: 63870.9137474 (48)\ttotal: 241ms\tremaining: 251ms\n",
      "49:\tlearn: 61399.6283613\ttest: 63798.7474054\tbest: 63798.7474054 (49)\ttotal: 246ms\tremaining: 246ms\n",
      "50:\tlearn: 61290.5779448\ttest: 63694.4654131\tbest: 63694.4654131 (50)\ttotal: 250ms\tremaining: 240ms\n",
      "51:\tlearn: 61183.6086811\ttest: 63625.3140795\tbest: 63625.3140795 (51)\ttotal: 254ms\tremaining: 234ms\n",
      "52:\tlearn: 61026.7908657\ttest: 63555.9501560\tbest: 63555.9501560 (52)\ttotal: 258ms\tremaining: 229ms\n",
      "53:\tlearn: 60910.2319758\ttest: 63566.2588744\tbest: 63555.9501560 (52)\ttotal: 262ms\tremaining: 223ms\n",
      "54:\tlearn: 60838.7027478\ttest: 63541.2699441\tbest: 63541.2699441 (54)\ttotal: 266ms\tremaining: 218ms\n",
      "55:\tlearn: 60815.0808320\ttest: 63525.2582204\tbest: 63525.2582204 (55)\ttotal: 270ms\tremaining: 212ms\n",
      "56:\tlearn: 60685.7745110\ttest: 63459.4256163\tbest: 63459.4256163 (56)\ttotal: 275ms\tremaining: 207ms\n",
      "57:\tlearn: 60586.4887035\ttest: 63412.4804291\tbest: 63412.4804291 (57)\ttotal: 279ms\tremaining: 202ms\n",
      "58:\tlearn: 60496.1932875\ttest: 63322.2953442\tbest: 63322.2953442 (58)\ttotal: 283ms\tremaining: 197ms\n",
      "59:\tlearn: 60455.6639237\ttest: 63304.4910821\tbest: 63304.4910821 (59)\ttotal: 287ms\tremaining: 191ms\n",
      "60:\tlearn: 60386.0237627\ttest: 63319.9312332\tbest: 63304.4910821 (59)\ttotal: 291ms\tremaining: 186ms\n",
      "61:\tlearn: 60383.8155964\ttest: 63315.2373517\tbest: 63304.4910821 (59)\ttotal: 295ms\tremaining: 181ms\n",
      "62:\tlearn: 60314.1004399\ttest: 63274.6428286\tbest: 63274.6428286 (62)\ttotal: 299ms\tremaining: 175ms\n",
      "63:\tlearn: 60313.6025530\ttest: 63271.5350645\tbest: 63271.5350645 (63)\ttotal: 302ms\tremaining: 170ms\n",
      "64:\tlearn: 60254.6334803\ttest: 63236.9114470\tbest: 63236.9114470 (64)\ttotal: 313ms\tremaining: 169ms\n",
      "65:\tlearn: 60179.8156662\ttest: 63159.3961985\tbest: 63159.3961985 (65)\ttotal: 318ms\tremaining: 164ms\n",
      "66:\tlearn: 59989.8705636\ttest: 63034.3511866\tbest: 63034.3511866 (66)\ttotal: 322ms\tremaining: 159ms\n",
      "67:\tlearn: 59893.7413652\ttest: 62999.6457653\tbest: 62999.6457653 (67)\ttotal: 326ms\tremaining: 153ms\n",
      "68:\tlearn: 59805.2681094\ttest: 62994.4668147\tbest: 62994.4668147 (68)\ttotal: 330ms\tremaining: 148ms\n",
      "69:\tlearn: 59800.7949669\ttest: 62994.0901009\tbest: 62994.0901009 (69)\ttotal: 334ms\tremaining: 143ms\n",
      "70:\tlearn: 59687.7524466\ttest: 62965.5916420\tbest: 62965.5916420 (70)\ttotal: 338ms\tremaining: 138ms\n",
      "71:\tlearn: 59596.9025858\ttest: 62911.3477139\tbest: 62911.3477139 (71)\ttotal: 342ms\tremaining: 133ms\n",
      "72:\tlearn: 59503.5560354\ttest: 62910.7372478\tbest: 62910.7372478 (72)\ttotal: 346ms\tremaining: 128ms\n",
      "73:\tlearn: 59417.1931173\ttest: 62814.5516533\tbest: 62814.5516533 (73)\ttotal: 350ms\tremaining: 123ms\n",
      "74:\tlearn: 59334.4462731\ttest: 62767.2682368\tbest: 62767.2682368 (74)\ttotal: 354ms\tremaining: 118ms\n",
      "75:\tlearn: 59254.7968345\ttest: 62695.2850644\tbest: 62695.2850644 (75)\ttotal: 359ms\tremaining: 113ms\n",
      "76:\tlearn: 59197.4345742\ttest: 62625.9500385\tbest: 62625.9500385 (76)\ttotal: 363ms\tremaining: 108ms\n",
      "77:\tlearn: 59109.0094654\ttest: 62592.8043034\tbest: 62592.8043034 (77)\ttotal: 367ms\tremaining: 104ms\n",
      "78:\tlearn: 59105.3521835\ttest: 62591.3419270\tbest: 62591.3419270 (78)\ttotal: 371ms\tremaining: 98.6ms\n",
      "79:\tlearn: 59037.9325657\ttest: 62593.1106594\tbest: 62591.3419270 (78)\ttotal: 375ms\tremaining: 93.7ms\n",
      "80:\tlearn: 58977.7781685\ttest: 62597.1249077\tbest: 62591.3419270 (78)\ttotal: 379ms\tremaining: 88.9ms\n",
      "81:\tlearn: 58954.6793607\ttest: 62622.1722972\tbest: 62591.3419270 (78)\ttotal: 383ms\tremaining: 84.1ms\n",
      "82:\tlearn: 58868.2934071\ttest: 62557.9279553\tbest: 62557.9279553 (82)\ttotal: 387ms\tremaining: 79.3ms\n",
      "83:\tlearn: 58773.8965886\ttest: 62494.5207116\tbest: 62494.5207116 (83)\ttotal: 391ms\tremaining: 74.5ms\n",
      "84:\tlearn: 58713.8035966\ttest: 62499.6343748\tbest: 62494.5207116 (83)\ttotal: 395ms\tremaining: 69.7ms\n",
      "85:\tlearn: 58643.5010751\ttest: 62421.1555918\tbest: 62421.1555918 (85)\ttotal: 399ms\tremaining: 65ms\n",
      "86:\tlearn: 58564.0520335\ttest: 62459.4766484\tbest: 62421.1555918 (85)\ttotal: 403ms\tremaining: 60.3ms\n",
      "87:\tlearn: 58448.4605865\ttest: 62356.8347868\tbest: 62356.8347868 (87)\ttotal: 407ms\tremaining: 55.6ms\n",
      "88:\tlearn: 58371.9407711\ttest: 62384.4079769\tbest: 62356.8347868 (87)\ttotal: 412ms\tremaining: 50.9ms\n",
      "89:\tlearn: 58320.7081241\ttest: 62374.3442320\tbest: 62356.8347868 (87)\ttotal: 416ms\tremaining: 46.2ms\n",
      "90:\tlearn: 58272.3224885\ttest: 62331.8085434\tbest: 62331.8085434 (90)\ttotal: 420ms\tremaining: 41.5ms\n",
      "91:\tlearn: 58186.7788557\ttest: 62328.0900144\tbest: 62328.0900144 (91)\ttotal: 424ms\tremaining: 36.9ms\n",
      "92:\tlearn: 58109.0924891\ttest: 62327.6255744\tbest: 62327.6255744 (92)\ttotal: 428ms\tremaining: 32.2ms\n",
      "93:\tlearn: 58037.1720909\ttest: 62325.1085534\tbest: 62325.1085534 (93)\ttotal: 432ms\tremaining: 27.6ms\n",
      "94:\tlearn: 57971.1970053\ttest: 62284.5060132\tbest: 62284.5060132 (94)\ttotal: 437ms\tremaining: 23ms\n",
      "95:\tlearn: 57905.4197486\ttest: 62288.5384385\tbest: 62284.5060132 (94)\ttotal: 441ms\tremaining: 18.4ms\n",
      "96:\tlearn: 57804.6376245\ttest: 62256.2394043\tbest: 62256.2394043 (96)\ttotal: 445ms\tremaining: 13.8ms\n",
      "97:\tlearn: 57776.8555047\ttest: 62262.4757146\tbest: 62256.2394043 (96)\ttotal: 449ms\tremaining: 9.16ms\n",
      "98:\tlearn: 57679.2675703\ttest: 62304.2981393\tbest: 62256.2394043 (96)\ttotal: 453ms\tremaining: 4.58ms\n",
      "99:\tlearn: 57597.0690129\ttest: 62314.6928993\tbest: 62256.2394043 (96)\ttotal: 457ms\tremaining: 0us\n",
      "\n",
      "bestTest = 62256.2394\n",
      "bestIteration = 96\n",
      "\n",
      "Training on fold [1/5]\n",
      "0:\tlearn: 98013.5867803\ttest: 98253.2285655\tbest: 98253.2285655 (0)\ttotal: 4.39ms\tremaining: 435ms\n",
      "1:\tlearn: 81671.6322549\ttest: 82548.3113881\tbest: 82548.3113881 (1)\ttotal: 9.01ms\tremaining: 441ms\n",
      "2:\tlearn: 75368.7366544\ttest: 75963.5037053\tbest: 75963.5037053 (2)\ttotal: 13.9ms\tremaining: 448ms\n",
      "3:\tlearn: 73366.6802668\ttest: 73821.7606441\tbest: 73821.7606441 (3)\ttotal: 18.1ms\tremaining: 434ms\n",
      "4:\tlearn: 72563.6939531\ttest: 73125.3448073\tbest: 73125.3448073 (4)\ttotal: 22.5ms\tremaining: 427ms\n",
      "5:\tlearn: 71452.5726130\ttest: 72040.0487348\tbest: 72040.0487348 (5)\ttotal: 26.7ms\tremaining: 418ms\n",
      "6:\tlearn: 70637.5110503\ttest: 71037.3120403\tbest: 71037.3120403 (6)\ttotal: 31.1ms\tremaining: 413ms\n",
      "7:\tlearn: 69607.5658088\ttest: 70143.2295307\tbest: 70143.2295307 (7)\ttotal: 35.2ms\tremaining: 405ms\n",
      "8:\tlearn: 68979.9448756\ttest: 69622.1614811\tbest: 69622.1614811 (8)\ttotal: 40.7ms\tremaining: 412ms\n",
      "9:\tlearn: 68442.3550745\ttest: 69171.7170601\tbest: 69171.7170601 (9)\ttotal: 45.6ms\tremaining: 410ms\n",
      "10:\tlearn: 67958.9526083\ttest: 68706.7572678\tbest: 68706.7572678 (10)\ttotal: 50ms\tremaining: 404ms\n",
      "11:\tlearn: 67944.6531441\ttest: 68680.4743936\tbest: 68680.4743936 (11)\ttotal: 52.4ms\tremaining: 384ms\n",
      "12:\tlearn: 67413.8444893\ttest: 68425.1029434\tbest: 68425.1029434 (12)\ttotal: 56.8ms\tremaining: 380ms\n",
      "13:\tlearn: 66936.4823925\ttest: 67928.0549520\tbest: 67928.0549520 (13)\ttotal: 61ms\tremaining: 375ms\n",
      "14:\tlearn: 66634.0257371\ttest: 67693.0550942\tbest: 67693.0550942 (14)\ttotal: 65.1ms\tremaining: 369ms\n",
      "15:\tlearn: 66191.2432912\ttest: 67305.2326310\tbest: 67305.2326310 (15)\ttotal: 69.4ms\tremaining: 364ms\n",
      "16:\tlearn: 65900.2920633\ttest: 67116.5967143\tbest: 67116.5967143 (16)\ttotal: 73.6ms\tremaining: 359ms\n",
      "17:\tlearn: 65676.4576580\ttest: 67000.2095136\tbest: 67000.2095136 (17)\ttotal: 77.8ms\tremaining: 354ms\n",
      "18:\tlearn: 65450.4994562\ttest: 66906.6124796\tbest: 66906.6124796 (18)\ttotal: 82.2ms\tremaining: 350ms\n",
      "19:\tlearn: 65259.6045937\ttest: 66722.4987274\tbest: 66722.4987274 (19)\ttotal: 86.4ms\tremaining: 346ms\n",
      "20:\tlearn: 65230.3820041\ttest: 66700.0741960\tbest: 66700.0741960 (20)\ttotal: 90.3ms\tremaining: 340ms\n",
      "21:\tlearn: 64982.0356581\ttest: 66623.6944943\tbest: 66623.6944943 (21)\ttotal: 94.5ms\tremaining: 335ms\n",
      "22:\tlearn: 64790.1207994\ttest: 66330.7230546\tbest: 66330.7230546 (22)\ttotal: 98.7ms\tremaining: 330ms\n",
      "23:\tlearn: 64622.5975005\ttest: 66220.0844322\tbest: 66220.0844322 (23)\ttotal: 103ms\tremaining: 326ms\n",
      "24:\tlearn: 64531.9358409\ttest: 66208.8239319\tbest: 66208.8239319 (24)\ttotal: 108ms\tremaining: 323ms\n",
      "25:\tlearn: 64368.6429493\ttest: 66148.6195609\tbest: 66148.6195609 (25)\ttotal: 112ms\tremaining: 318ms\n",
      "26:\tlearn: 63983.6452057\ttest: 65885.8406413\tbest: 65885.8406413 (26)\ttotal: 116ms\tremaining: 314ms\n",
      "27:\tlearn: 63811.4135562\ttest: 65822.2738758\tbest: 65822.2738758 (27)\ttotal: 120ms\tremaining: 310ms\n",
      "28:\tlearn: 63651.5709225\ttest: 65776.6043306\tbest: 65776.6043306 (28)\ttotal: 125ms\tremaining: 306ms\n",
      "29:\tlearn: 63523.8943509\ttest: 65753.0375790\tbest: 65753.0375790 (29)\ttotal: 129ms\tremaining: 302ms\n",
      "30:\tlearn: 63396.9083584\ttest: 65737.8407824\tbest: 65737.8407824 (30)\ttotal: 134ms\tremaining: 298ms\n",
      "31:\tlearn: 63254.7607974\ttest: 65717.4937964\tbest: 65717.4937964 (31)\ttotal: 138ms\tremaining: 294ms\n",
      "32:\tlearn: 63133.2135163\ttest: 65617.9560331\tbest: 65617.9560331 (32)\ttotal: 143ms\tremaining: 290ms\n",
      "33:\tlearn: 63041.0182287\ttest: 65571.8059553\tbest: 65571.8059553 (33)\ttotal: 147ms\tremaining: 286ms\n",
      "34:\tlearn: 62913.7917710\ttest: 65498.5789521\tbest: 65498.5789521 (34)\ttotal: 151ms\tremaining: 281ms\n",
      "35:\tlearn: 62737.4306508\ttest: 65357.0603807\tbest: 65357.0603807 (35)\ttotal: 155ms\tremaining: 276ms\n",
      "36:\tlearn: 62727.5832156\ttest: 65354.2628868\tbest: 65354.2628868 (36)\ttotal: 159ms\tremaining: 271ms\n",
      "37:\tlearn: 62698.9183644\ttest: 65361.6948416\tbest: 65354.2628868 (36)\ttotal: 163ms\tremaining: 266ms\n",
      "38:\tlearn: 62580.3521207\ttest: 65301.1713210\tbest: 65301.1713210 (38)\ttotal: 167ms\tremaining: 262ms\n",
      "39:\tlearn: 62432.8961450\ttest: 65214.7989333\tbest: 65214.7989333 (39)\ttotal: 171ms\tremaining: 257ms\n",
      "40:\tlearn: 62326.0726896\ttest: 65176.3685887\tbest: 65176.3685887 (40)\ttotal: 176ms\tremaining: 253ms\n",
      "41:\tlearn: 62189.6108876\ttest: 65094.6441165\tbest: 65094.6441165 (41)\ttotal: 180ms\tremaining: 249ms\n",
      "42:\tlearn: 62063.7228922\ttest: 64996.8511270\tbest: 64996.8511270 (42)\ttotal: 184ms\tremaining: 244ms\n",
      "43:\tlearn: 61824.0244507\ttest: 64905.4875610\tbest: 64905.4875610 (43)\ttotal: 189ms\tremaining: 240ms\n",
      "44:\tlearn: 61705.3641443\ttest: 64821.2133061\tbest: 64821.2133061 (44)\ttotal: 193ms\tremaining: 236ms\n",
      "45:\tlearn: 61560.6833672\ttest: 64763.7548249\tbest: 64763.7548249 (45)\ttotal: 197ms\tremaining: 232ms\n",
      "46:\tlearn: 61462.9437707\ttest: 64736.7601009\tbest: 64736.7601009 (46)\ttotal: 201ms\tremaining: 227ms\n",
      "47:\tlearn: 61404.3696591\ttest: 64738.5728325\tbest: 64736.7601009 (46)\ttotal: 206ms\tremaining: 223ms\n",
      "48:\tlearn: 61212.1278754\ttest: 64568.9857916\tbest: 64568.9857916 (48)\ttotal: 210ms\tremaining: 218ms\n",
      "49:\tlearn: 61155.8743843\ttest: 64547.6621414\tbest: 64547.6621414 (49)\ttotal: 214ms\tremaining: 214ms\n",
      "50:\tlearn: 61072.9847584\ttest: 64522.2781354\tbest: 64522.2781354 (50)\ttotal: 218ms\tremaining: 209ms\n",
      "51:\tlearn: 60955.4881790\ttest: 64425.7232678\tbest: 64425.7232678 (51)\ttotal: 222ms\tremaining: 205ms\n",
      "52:\tlearn: 60858.7658222\ttest: 64421.8633645\tbest: 64421.8633645 (52)\ttotal: 226ms\tremaining: 201ms\n",
      "53:\tlearn: 60749.9570691\ttest: 64378.8064903\tbest: 64378.8064903 (53)\ttotal: 231ms\tremaining: 197ms\n",
      "54:\tlearn: 60702.7073828\ttest: 64318.4645284\tbest: 64318.4645284 (54)\ttotal: 235ms\tremaining: 192ms\n",
      "55:\tlearn: 60605.3104996\ttest: 64244.7550604\tbest: 64244.7550604 (55)\ttotal: 239ms\tremaining: 188ms\n",
      "56:\tlearn: 60513.8455273\ttest: 64259.1550014\tbest: 64244.7550604 (55)\ttotal: 243ms\tremaining: 183ms\n",
      "57:\tlearn: 60441.3962408\ttest: 64218.4609920\tbest: 64218.4609920 (57)\ttotal: 248ms\tremaining: 180ms\n",
      "58:\tlearn: 60395.0082554\ttest: 64198.9929082\tbest: 64198.9929082 (58)\ttotal: 252ms\tremaining: 175ms\n",
      "59:\tlearn: 60276.2512516\ttest: 64161.8149009\tbest: 64161.8149009 (59)\ttotal: 256ms\tremaining: 171ms\n",
      "60:\tlearn: 60208.4074714\ttest: 64190.6482817\tbest: 64161.8149009 (59)\ttotal: 260ms\tremaining: 166ms\n",
      "61:\tlearn: 60151.8967360\ttest: 64191.4469968\tbest: 64161.8149009 (59)\ttotal: 264ms\tremaining: 162ms\n",
      "62:\tlearn: 60028.0806756\ttest: 64162.2974628\tbest: 64161.8149009 (59)\ttotal: 269ms\tremaining: 158ms\n",
      "63:\tlearn: 59932.1965562\ttest: 64210.0679345\tbest: 64161.8149009 (59)\ttotal: 273ms\tremaining: 153ms\n",
      "64:\tlearn: 59848.3781586\ttest: 64135.1402730\tbest: 64135.1402730 (64)\ttotal: 277ms\tremaining: 149ms\n",
      "65:\tlearn: 59713.6013091\ttest: 64142.0236146\tbest: 64135.1402730 (64)\ttotal: 281ms\tremaining: 145ms\n",
      "66:\tlearn: 59639.3841157\ttest: 64120.9944675\tbest: 64120.9944675 (66)\ttotal: 285ms\tremaining: 140ms\n",
      "67:\tlearn: 59552.1548491\ttest: 64090.5945205\tbest: 64090.5945205 (67)\ttotal: 289ms\tremaining: 136ms\n",
      "68:\tlearn: 59353.5774556\ttest: 64010.0060351\tbest: 64010.0060351 (68)\ttotal: 293ms\tremaining: 132ms\n",
      "69:\tlearn: 59229.8047395\ttest: 63876.6408410\tbest: 63876.6408410 (69)\ttotal: 297ms\tremaining: 127ms\n",
      "70:\tlearn: 59159.2586251\ttest: 63837.5838730\tbest: 63837.5838730 (70)\ttotal: 301ms\tremaining: 123ms\n",
      "71:\tlearn: 59089.8259575\ttest: 63789.3874903\tbest: 63789.3874903 (71)\ttotal: 306ms\tremaining: 119ms\n",
      "72:\tlearn: 58985.2908008\ttest: 63830.0070183\tbest: 63789.3874903 (71)\ttotal: 310ms\tremaining: 115ms\n",
      "73:\tlearn: 58889.8113581\ttest: 63732.7899897\tbest: 63732.7899897 (73)\ttotal: 314ms\tremaining: 110ms\n",
      "74:\tlearn: 58803.3725962\ttest: 63723.3059683\tbest: 63723.3059683 (74)\ttotal: 318ms\tremaining: 106ms\n",
      "75:\tlearn: 58705.0086693\ttest: 63655.5830093\tbest: 63655.5830093 (75)\ttotal: 323ms\tremaining: 102ms\n",
      "76:\tlearn: 58590.2217092\ttest: 63639.2384493\tbest: 63639.2384493 (76)\ttotal: 327ms\tremaining: 97.8ms\n",
      "77:\tlearn: 58521.2974563\ttest: 63655.9381413\tbest: 63639.2384493 (76)\ttotal: 332ms\tremaining: 93.5ms\n",
      "78:\tlearn: 58469.6855810\ttest: 63664.2048744\tbest: 63639.2384493 (76)\ttotal: 336ms\tremaining: 89.2ms\n",
      "79:\tlearn: 58430.4912550\ttest: 63658.7323569\tbest: 63639.2384493 (76)\ttotal: 340ms\tremaining: 85ms\n",
      "80:\tlearn: 58342.9179034\ttest: 63658.8016285\tbest: 63639.2384493 (76)\ttotal: 344ms\tremaining: 80.7ms\n",
      "81:\tlearn: 58262.6902111\ttest: 63596.3151167\tbest: 63596.3151167 (81)\ttotal: 348ms\tremaining: 76.5ms\n",
      "82:\tlearn: 58208.1580777\ttest: 63586.1386796\tbest: 63586.1386796 (82)\ttotal: 352ms\tremaining: 72.2ms\n",
      "83:\tlearn: 58109.3909460\ttest: 63521.2493211\tbest: 63521.2493211 (83)\ttotal: 357ms\tremaining: 67.9ms\n",
      "84:\tlearn: 58034.1787324\ttest: 63474.2894127\tbest: 63474.2894127 (84)\ttotal: 361ms\tremaining: 63.7ms\n",
      "85:\tlearn: 58009.6204737\ttest: 63488.3726608\tbest: 63474.2894127 (84)\ttotal: 365ms\tremaining: 59.4ms\n",
      "86:\tlearn: 57927.7417120\ttest: 63437.9008533\tbest: 63437.9008533 (86)\ttotal: 371ms\tremaining: 55.5ms\n",
      "87:\tlearn: 57924.3309336\ttest: 63443.8481390\tbest: 63437.9008533 (86)\ttotal: 375ms\tremaining: 51.2ms\n",
      "88:\tlearn: 57923.0101146\ttest: 63447.4138882\tbest: 63437.9008533 (86)\ttotal: 379ms\tremaining: 46.9ms\n",
      "89:\tlearn: 57827.1452938\ttest: 63407.7293944\tbest: 63407.7293944 (89)\ttotal: 383ms\tremaining: 42.6ms\n",
      "90:\tlearn: 57737.3785891\ttest: 63392.8694451\tbest: 63392.8694451 (90)\ttotal: 388ms\tremaining: 38.3ms\n",
      "91:\tlearn: 57676.9859160\ttest: 63372.2981558\tbest: 63372.2981558 (91)\ttotal: 392ms\tremaining: 34.1ms\n",
      "92:\tlearn: 57614.8232845\ttest: 63300.7480853\tbest: 63300.7480853 (92)\ttotal: 396ms\tremaining: 29.8ms\n",
      "93:\tlearn: 57560.1384439\ttest: 63317.0598837\tbest: 63300.7480853 (92)\ttotal: 400ms\tremaining: 25.5ms\n",
      "94:\tlearn: 57499.8273449\ttest: 63320.2643560\tbest: 63300.7480853 (92)\ttotal: 404ms\tremaining: 21.3ms\n",
      "95:\tlearn: 57412.8619600\ttest: 63283.3837185\tbest: 63283.3837185 (95)\ttotal: 409ms\tremaining: 17ms\n",
      "96:\tlearn: 57339.5989815\ttest: 63272.8084523\tbest: 63272.8084523 (96)\ttotal: 413ms\tremaining: 12.8ms\n",
      "97:\tlearn: 57207.5649649\ttest: 63292.7230586\tbest: 63272.8084523 (96)\ttotal: 417ms\tremaining: 8.51ms\n",
      "98:\tlearn: 57129.6215938\ttest: 63308.2257088\tbest: 63272.8084523 (96)\ttotal: 421ms\tremaining: 4.25ms\n",
      "99:\tlearn: 57121.8295053\ttest: 63308.8428197\tbest: 63272.8084523 (96)\ttotal: 425ms\tremaining: 0us\n",
      "\n",
      "bestTest = 63272.80845\n",
      "bestIteration = 96\n",
      "\n",
      "Training on fold [2/5]\n",
      "0:\tlearn: 95671.6475200\ttest: 95932.7444471\tbest: 95932.7444471 (0)\ttotal: 4.6ms\tremaining: 456ms\n",
      "1:\tlearn: 82128.4665968\ttest: 81708.1077244\tbest: 81708.1077244 (1)\ttotal: 8.49ms\tremaining: 416ms\n",
      "2:\tlearn: 75434.1642148\ttest: 75019.8201143\tbest: 75019.8201143 (2)\ttotal: 13.3ms\tremaining: 429ms\n",
      "3:\tlearn: 73934.2430947\ttest: 73405.0908055\tbest: 73405.0908055 (3)\ttotal: 17.1ms\tremaining: 411ms\n",
      "4:\tlearn: 72413.2999930\ttest: 72082.0797686\tbest: 72082.0797686 (4)\ttotal: 21.1ms\tremaining: 400ms\n",
      "5:\tlearn: 71802.0891111\ttest: 71559.5349157\tbest: 71559.5349157 (5)\ttotal: 24.9ms\tremaining: 390ms\n",
      "6:\tlearn: 71313.5684344\ttest: 71037.1379121\tbest: 71037.1379121 (6)\ttotal: 28.8ms\tremaining: 383ms\n",
      "7:\tlearn: 70957.9550496\ttest: 70822.6781416\tbest: 70822.6781416 (7)\ttotal: 32.7ms\tremaining: 376ms\n",
      "8:\tlearn: 70092.6371871\ttest: 70092.1902934\tbest: 70092.1902934 (8)\ttotal: 36.6ms\tremaining: 370ms\n",
      "9:\tlearn: 69426.6878661\ttest: 69712.9774487\tbest: 69712.9774487 (9)\ttotal: 40.6ms\tremaining: 365ms\n",
      "10:\tlearn: 68577.0006609\ttest: 68921.4999832\tbest: 68921.4999832 (10)\ttotal: 44.8ms\tremaining: 362ms\n",
      "11:\tlearn: 68278.6843589\ttest: 68662.4777599\tbest: 68662.4777599 (11)\ttotal: 48.5ms\tremaining: 356ms\n",
      "12:\tlearn: 67717.7570977\ttest: 68353.2531360\tbest: 68353.2531360 (12)\ttotal: 52.5ms\tremaining: 351ms\n",
      "13:\tlearn: 67269.3502846\ttest: 67935.2686084\tbest: 67935.2686084 (13)\ttotal: 56.5ms\tremaining: 347ms\n",
      "14:\tlearn: 67056.7560901\ttest: 67874.6223288\tbest: 67874.6223288 (14)\ttotal: 60.5ms\tremaining: 343ms\n",
      "15:\tlearn: 66698.7487745\ttest: 67664.8855457\tbest: 67664.8855457 (15)\ttotal: 64.5ms\tremaining: 339ms\n",
      "16:\tlearn: 66319.9481828\ttest: 67370.3208843\tbest: 67370.3208843 (16)\ttotal: 68.7ms\tremaining: 335ms\n",
      "17:\tlearn: 65951.7330549\ttest: 67034.5091024\tbest: 67034.5091024 (17)\ttotal: 72.5ms\tremaining: 330ms\n",
      "18:\tlearn: 65784.2701256\ttest: 66890.1469261\tbest: 66890.1469261 (18)\ttotal: 76.4ms\tremaining: 326ms\n",
      "19:\tlearn: 65478.4126934\ttest: 66721.0740023\tbest: 66721.0740023 (19)\ttotal: 80.9ms\tremaining: 323ms\n",
      "20:\tlearn: 65077.5674397\ttest: 66355.7273838\tbest: 66355.7273838 (20)\ttotal: 84.8ms\tremaining: 319ms\n",
      "21:\tlearn: 64812.1791713\ttest: 66145.4374562\tbest: 66145.4374562 (21)\ttotal: 88.8ms\tremaining: 315ms\n",
      "22:\tlearn: 64746.4106827\ttest: 66093.4709135\tbest: 66093.4709135 (22)\ttotal: 92.6ms\tremaining: 310ms\n",
      "23:\tlearn: 64497.4132734\ttest: 65903.5224857\tbest: 65903.5224857 (23)\ttotal: 96.6ms\tremaining: 306ms\n",
      "24:\tlearn: 64310.0229700\ttest: 65861.2507796\tbest: 65861.2507796 (24)\ttotal: 101ms\tremaining: 302ms\n",
      "25:\tlearn: 64190.9047033\ttest: 65825.6652198\tbest: 65825.6652198 (25)\ttotal: 105ms\tremaining: 298ms\n",
      "26:\tlearn: 64007.7792161\ttest: 65679.3834909\tbest: 65679.3834909 (26)\ttotal: 109ms\tremaining: 295ms\n",
      "27:\tlearn: 63834.4349971\ttest: 65599.0194655\tbest: 65599.0194655 (27)\ttotal: 114ms\tremaining: 292ms\n",
      "28:\tlearn: 63690.4275670\ttest: 65507.5962667\tbest: 65507.5962667 (28)\ttotal: 118ms\tremaining: 288ms\n",
      "29:\tlearn: 63483.5123762\ttest: 65438.5330798\tbest: 65438.5330798 (29)\ttotal: 122ms\tremaining: 284ms\n",
      "30:\tlearn: 63476.2860346\ttest: 65440.0496473\tbest: 65438.5330798 (29)\ttotal: 125ms\tremaining: 279ms\n",
      "31:\tlearn: 63331.4383671\ttest: 65430.9472049\tbest: 65430.9472049 (31)\ttotal: 129ms\tremaining: 275ms\n",
      "32:\tlearn: 63238.0741535\ttest: 65360.3055271\tbest: 65360.3055271 (32)\ttotal: 133ms\tremaining: 271ms\n",
      "33:\tlearn: 63137.1017607\ttest: 65246.9841978\tbest: 65246.9841978 (33)\ttotal: 137ms\tremaining: 267ms\n",
      "34:\tlearn: 63038.3440353\ttest: 65218.8385114\tbest: 65218.8385114 (34)\ttotal: 141ms\tremaining: 262ms\n",
      "35:\tlearn: 62800.4114744\ttest: 64962.6089089\tbest: 64962.6089089 (35)\ttotal: 146ms\tremaining: 260ms\n",
      "36:\tlearn: 62648.6292071\ttest: 64864.2389995\tbest: 64864.2389995 (36)\ttotal: 150ms\tremaining: 256ms\n",
      "37:\tlearn: 62581.2540720\ttest: 64828.6406903\tbest: 64828.6406903 (37)\ttotal: 161ms\tremaining: 263ms\n",
      "38:\tlearn: 62542.6521013\ttest: 64786.5556129\tbest: 64786.5556129 (38)\ttotal: 170ms\tremaining: 267ms\n",
      "39:\tlearn: 62381.7143151\ttest: 64643.1360155\tbest: 64643.1360155 (39)\ttotal: 176ms\tremaining: 263ms\n",
      "40:\tlearn: 62288.8535813\ttest: 64565.3218612\tbest: 64565.3218612 (40)\ttotal: 180ms\tremaining: 259ms\n",
      "41:\tlearn: 62176.5157326\ttest: 64570.4080543\tbest: 64565.3218612 (40)\ttotal: 185ms\tremaining: 255ms\n",
      "42:\tlearn: 62028.2260218\ttest: 64452.0766836\tbest: 64452.0766836 (42)\ttotal: 190ms\tremaining: 251ms\n",
      "43:\tlearn: 61896.5645656\ttest: 64373.8844359\tbest: 64373.8844359 (43)\ttotal: 194ms\tremaining: 248ms\n",
      "44:\tlearn: 61660.5893615\ttest: 64227.7826879\tbest: 64227.7826879 (44)\ttotal: 199ms\tremaining: 243ms\n",
      "45:\tlearn: 61543.2802127\ttest: 64125.9251274\tbest: 64125.9251274 (45)\ttotal: 204ms\tremaining: 239ms\n",
      "46:\tlearn: 61478.1583610\ttest: 64078.8914744\tbest: 64078.8914744 (46)\ttotal: 208ms\tremaining: 234ms\n",
      "47:\tlearn: 61473.9005252\ttest: 64082.7765870\tbest: 64078.8914744 (46)\ttotal: 212ms\tremaining: 229ms\n",
      "48:\tlearn: 61469.4322698\ttest: 64080.9580925\tbest: 64078.8914744 (46)\ttotal: 215ms\tremaining: 224ms\n",
      "49:\tlearn: 61366.6484989\ttest: 64028.3214877\tbest: 64028.3214877 (49)\ttotal: 219ms\tremaining: 219ms\n",
      "50:\tlearn: 61283.4512225\ttest: 63999.7992554\tbest: 63999.7992554 (50)\ttotal: 223ms\tremaining: 215ms\n",
      "51:\tlearn: 61189.4392431\ttest: 63962.2793694\tbest: 63962.2793694 (51)\ttotal: 228ms\tremaining: 210ms\n",
      "52:\tlearn: 61108.1143953\ttest: 63886.9920839\tbest: 63886.9920839 (52)\ttotal: 232ms\tremaining: 206ms\n",
      "53:\tlearn: 61046.4981632\ttest: 63844.2765901\tbest: 63844.2765901 (53)\ttotal: 236ms\tremaining: 201ms\n",
      "54:\tlearn: 60965.2127725\ttest: 63808.7203657\tbest: 63808.7203657 (54)\ttotal: 240ms\tremaining: 196ms\n",
      "55:\tlearn: 60914.7731256\ttest: 63766.1657931\tbest: 63766.1657931 (55)\ttotal: 244ms\tremaining: 192ms\n",
      "56:\tlearn: 60849.2661083\ttest: 63802.9188483\tbest: 63766.1657931 (55)\ttotal: 248ms\tremaining: 187ms\n",
      "57:\tlearn: 60812.5505888\ttest: 63818.6123616\tbest: 63766.1657931 (55)\ttotal: 252ms\tremaining: 183ms\n",
      "58:\tlearn: 60706.4109713\ttest: 63777.7942146\tbest: 63766.1657931 (55)\ttotal: 257ms\tremaining: 178ms\n",
      "59:\tlearn: 60646.3583365\ttest: 63809.8640448\tbest: 63766.1657931 (55)\ttotal: 261ms\tremaining: 174ms\n",
      "60:\tlearn: 60563.0080674\ttest: 63786.0774540\tbest: 63766.1657931 (55)\ttotal: 265ms\tremaining: 169ms\n",
      "61:\tlearn: 60432.1028747\ttest: 63736.2855598\tbest: 63736.2855598 (61)\ttotal: 269ms\tremaining: 165ms\n",
      "62:\tlearn: 60281.7394396\ttest: 63605.9454811\tbest: 63605.9454811 (62)\ttotal: 273ms\tremaining: 161ms\n",
      "63:\tlearn: 60140.1154154\ttest: 63458.8082564\tbest: 63458.8082564 (63)\ttotal: 277ms\tremaining: 156ms\n",
      "64:\tlearn: 60066.8799249\ttest: 63414.4742350\tbest: 63414.4742350 (64)\ttotal: 282ms\tremaining: 152ms\n",
      "65:\tlearn: 59919.5497786\ttest: 63311.5053901\tbest: 63311.5053901 (65)\ttotal: 286ms\tremaining: 147ms\n",
      "66:\tlearn: 59834.8062753\ttest: 63289.0943748\tbest: 63289.0943748 (66)\ttotal: 291ms\tremaining: 143ms\n",
      "67:\tlearn: 59765.6120649\ttest: 63231.6519230\tbest: 63231.6519230 (67)\ttotal: 295ms\tremaining: 139ms\n",
      "68:\tlearn: 59710.5030803\ttest: 63295.4923735\tbest: 63231.6519230 (67)\ttotal: 299ms\tremaining: 134ms\n",
      "69:\tlearn: 59608.9916246\ttest: 63264.4489850\tbest: 63231.6519230 (67)\ttotal: 303ms\tremaining: 130ms\n",
      "70:\tlearn: 59510.1370630\ttest: 63227.8737408\tbest: 63227.8737408 (70)\ttotal: 307ms\tremaining: 126ms\n",
      "71:\tlearn: 59383.2119256\ttest: 63168.1025089\tbest: 63168.1025089 (71)\ttotal: 312ms\tremaining: 121ms\n",
      "72:\tlearn: 59330.2103837\ttest: 63162.3770287\tbest: 63162.3770287 (72)\ttotal: 316ms\tremaining: 117ms\n",
      "73:\tlearn: 59260.2668394\ttest: 63117.4726054\tbest: 63117.4726054 (73)\ttotal: 320ms\tremaining: 112ms\n",
      "74:\tlearn: 59197.2742396\ttest: 63092.1056784\tbest: 63092.1056784 (74)\ttotal: 324ms\tremaining: 108ms\n",
      "75:\tlearn: 59143.0068425\ttest: 63108.2873238\tbest: 63092.1056784 (74)\ttotal: 329ms\tremaining: 104ms\n",
      "76:\tlearn: 59104.2548076\ttest: 63118.4769136\tbest: 63092.1056784 (74)\ttotal: 333ms\tremaining: 99.4ms\n",
      "77:\tlearn: 59062.1511537\ttest: 63093.3080308\tbest: 63092.1056784 (74)\ttotal: 337ms\tremaining: 95ms\n",
      "78:\tlearn: 58951.2247332\ttest: 63095.2963417\tbest: 63092.1056784 (74)\ttotal: 341ms\tremaining: 90.6ms\n",
      "79:\tlearn: 58907.8850295\ttest: 63051.6551666\tbest: 63051.6551666 (79)\ttotal: 345ms\tremaining: 86.3ms\n",
      "80:\tlearn: 58815.5000429\ttest: 63104.8226492\tbest: 63051.6551666 (79)\ttotal: 349ms\tremaining: 81.9ms\n",
      "81:\tlearn: 58805.7827688\ttest: 63108.9542430\tbest: 63051.6551666 (79)\ttotal: 353ms\tremaining: 77.6ms\n",
      "82:\tlearn: 58803.5166945\ttest: 63108.2500874\tbest: 63051.6551666 (79)\ttotal: 357ms\tremaining: 73.2ms\n",
      "83:\tlearn: 58753.1742761\ttest: 63105.2273873\tbest: 63051.6551666 (79)\ttotal: 362ms\tremaining: 68.9ms\n",
      "84:\tlearn: 58704.9204161\ttest: 63135.7780191\tbest: 63051.6551666 (79)\ttotal: 366ms\tremaining: 64.5ms\n",
      "85:\tlearn: 58591.9693540\ttest: 63030.0879144\tbest: 63030.0879144 (85)\ttotal: 370ms\tremaining: 60.2ms\n",
      "86:\tlearn: 58503.5645457\ttest: 63022.6303573\tbest: 63022.6303573 (86)\ttotal: 374ms\tremaining: 55.9ms\n",
      "87:\tlearn: 58460.5164581\ttest: 63005.9147370\tbest: 63005.9147370 (87)\ttotal: 378ms\tremaining: 51.6ms\n",
      "88:\tlearn: 58366.3077682\ttest: 62914.9678589\tbest: 62914.9678589 (88)\ttotal: 382ms\tremaining: 47.3ms\n",
      "89:\tlearn: 58317.3086812\ttest: 62931.5948049\tbest: 62914.9678589 (88)\ttotal: 387ms\tremaining: 43ms\n",
      "90:\tlearn: 58257.3689994\ttest: 62881.7465772\tbest: 62881.7465772 (90)\ttotal: 392ms\tremaining: 38.7ms\n",
      "91:\tlearn: 58204.4936775\ttest: 62897.2945849\tbest: 62881.7465772 (90)\ttotal: 396ms\tremaining: 34.4ms\n",
      "92:\tlearn: 58117.9260588\ttest: 62836.1288324\tbest: 62836.1288324 (92)\ttotal: 401ms\tremaining: 30.1ms\n",
      "93:\tlearn: 58116.0214542\ttest: 62832.2372231\tbest: 62832.2372231 (93)\ttotal: 406ms\tremaining: 25.9ms\n",
      "94:\tlearn: 58085.9020845\ttest: 62832.5396195\tbest: 62832.2372231 (93)\ttotal: 410ms\tremaining: 21.6ms\n",
      "95:\tlearn: 58044.9946280\ttest: 62831.9281907\tbest: 62831.9281907 (95)\ttotal: 414ms\tremaining: 17.3ms\n",
      "96:\tlearn: 57994.3910864\ttest: 62805.0596127\tbest: 62805.0596127 (96)\ttotal: 420ms\tremaining: 13ms\n",
      "97:\tlearn: 57938.5857653\ttest: 62799.3064691\tbest: 62799.3064691 (97)\ttotal: 424ms\tremaining: 8.65ms\n",
      "98:\tlearn: 57861.3256161\ttest: 62813.5413771\tbest: 62799.3064691 (97)\ttotal: 428ms\tremaining: 4.32ms\n",
      "99:\tlearn: 57815.2479503\ttest: 62790.8729956\tbest: 62790.8729956 (99)\ttotal: 432ms\tremaining: 0us\n",
      "\n",
      "bestTest = 62790.873\n",
      "bestIteration = 99\n",
      "\n",
      "Training on fold [3/5]\n",
      "0:\tlearn: 98003.7753117\ttest: 98176.9751161\tbest: 98176.9751161 (0)\ttotal: 4.3ms\tremaining: 426ms\n",
      "1:\tlearn: 82090.6644187\ttest: 82217.7770199\tbest: 82217.7770199 (1)\ttotal: 8.86ms\tremaining: 434ms\n",
      "2:\tlearn: 75746.4776212\ttest: 76407.5865746\tbest: 76407.5865746 (2)\ttotal: 13.8ms\tremaining: 445ms\n",
      "3:\tlearn: 72707.9307064\ttest: 74059.5213475\tbest: 74059.5213475 (3)\ttotal: 18ms\tremaining: 432ms\n",
      "4:\tlearn: 71671.6065493\ttest: 73021.5737244\tbest: 73021.5737244 (4)\ttotal: 22ms\tremaining: 419ms\n",
      "5:\tlearn: 70673.3362609\ttest: 71995.0921472\tbest: 71995.0921472 (5)\ttotal: 26ms\tremaining: 408ms\n",
      "6:\tlearn: 69986.3361935\ttest: 71306.7645598\tbest: 71306.7645598 (6)\ttotal: 30.2ms\tremaining: 401ms\n",
      "7:\tlearn: 69446.6506884\ttest: 70828.9914244\tbest: 70828.9914244 (7)\ttotal: 34.2ms\tremaining: 394ms\n",
      "8:\tlearn: 68935.8730032\ttest: 70496.5484305\tbest: 70496.5484305 (8)\ttotal: 38.2ms\tremaining: 387ms\n",
      "9:\tlearn: 68551.2974003\ttest: 70119.0487774\tbest: 70119.0487774 (9)\ttotal: 42.3ms\tremaining: 380ms\n",
      "10:\tlearn: 68113.4187196\ttest: 69893.9860929\tbest: 69893.9860929 (10)\ttotal: 47ms\tremaining: 380ms\n",
      "11:\tlearn: 67911.7440725\ttest: 69731.1710590\tbest: 69731.1710590 (11)\ttotal: 51.1ms\tremaining: 375ms\n",
      "12:\tlearn: 67145.5616603\ttest: 69034.3828160\tbest: 69034.3828160 (12)\ttotal: 55.4ms\tremaining: 371ms\n",
      "13:\tlearn: 66728.1846474\ttest: 68768.2608256\tbest: 68768.2608256 (13)\ttotal: 59.5ms\tremaining: 366ms\n",
      "14:\tlearn: 66494.1499334\ttest: 68587.8468763\tbest: 68587.8468763 (14)\ttotal: 63.6ms\tremaining: 360ms\n",
      "15:\tlearn: 66027.7225840\ttest: 68185.8963886\tbest: 68185.8963886 (15)\ttotal: 67.6ms\tremaining: 355ms\n",
      "16:\tlearn: 65721.3608769\ttest: 67870.2578824\tbest: 67870.2578824 (16)\ttotal: 71.7ms\tremaining: 350ms\n",
      "17:\tlearn: 65498.4229137\ttest: 67803.8074524\tbest: 67803.8074524 (17)\ttotal: 75.9ms\tremaining: 346ms\n",
      "18:\tlearn: 65361.4807573\ttest: 67761.0229399\tbest: 67761.0229399 (18)\ttotal: 79.9ms\tremaining: 341ms\n",
      "19:\tlearn: 65192.0905269\ttest: 67731.1562226\tbest: 67731.1562226 (19)\ttotal: 84.3ms\tremaining: 337ms\n",
      "20:\tlearn: 64950.6036856\ttest: 67571.4400395\tbest: 67571.4400395 (20)\ttotal: 88.6ms\tremaining: 333ms\n",
      "21:\tlearn: 64733.7607614\ttest: 67441.9638598\tbest: 67441.9638598 (21)\ttotal: 92.7ms\tremaining: 329ms\n",
      "22:\tlearn: 64569.1095330\ttest: 67308.5779850\tbest: 67308.5779850 (22)\ttotal: 96.8ms\tremaining: 324ms\n",
      "23:\tlearn: 64373.2956825\ttest: 67160.8010274\tbest: 67160.8010274 (23)\ttotal: 101ms\tremaining: 319ms\n",
      "24:\tlearn: 64031.9228144\ttest: 66950.2775859\tbest: 66950.2775859 (24)\ttotal: 105ms\tremaining: 316ms\n",
      "25:\tlearn: 63881.2116785\ttest: 66822.9487195\tbest: 66822.9487195 (25)\ttotal: 110ms\tremaining: 312ms\n",
      "26:\tlearn: 63629.8946651\ttest: 66652.6681769\tbest: 66652.6681769 (26)\ttotal: 114ms\tremaining: 308ms\n",
      "27:\tlearn: 63523.5335586\ttest: 66641.1581906\tbest: 66641.1581906 (27)\ttotal: 118ms\tremaining: 304ms\n",
      "28:\tlearn: 63459.8193499\ttest: 66622.1979237\tbest: 66622.1979237 (28)\ttotal: 123ms\tremaining: 301ms\n",
      "29:\tlearn: 63259.1210716\ttest: 66477.6541518\tbest: 66477.6541518 (29)\ttotal: 127ms\tremaining: 296ms\n",
      "30:\tlearn: 63045.1172580\ttest: 66251.7810077\tbest: 66251.7810077 (30)\ttotal: 131ms\tremaining: 292ms\n",
      "31:\tlearn: 62878.4373340\ttest: 66063.2764944\tbest: 66063.2764944 (31)\ttotal: 135ms\tremaining: 287ms\n",
      "32:\tlearn: 62690.8394374\ttest: 65894.5238842\tbest: 65894.5238842 (32)\ttotal: 139ms\tremaining: 283ms\n",
      "33:\tlearn: 62552.8671057\ttest: 65873.9349586\tbest: 65873.9349586 (33)\ttotal: 144ms\tremaining: 279ms\n",
      "34:\tlearn: 62517.5017784\ttest: 65872.3932649\tbest: 65872.3932649 (34)\ttotal: 148ms\tremaining: 274ms\n",
      "35:\tlearn: 62430.0941194\ttest: 65770.9671148\tbest: 65770.9671148 (35)\ttotal: 152ms\tremaining: 270ms\n",
      "36:\tlearn: 62254.6132727\ttest: 65648.9623180\tbest: 65648.9623180 (36)\ttotal: 156ms\tremaining: 266ms\n",
      "37:\tlearn: 62175.3275039\ttest: 65625.5236613\tbest: 65625.5236613 (37)\ttotal: 160ms\tremaining: 261ms\n",
      "38:\tlearn: 62064.3574910\ttest: 65572.1156051\tbest: 65572.1156051 (38)\ttotal: 164ms\tremaining: 257ms\n",
      "39:\tlearn: 61821.0359200\ttest: 65520.3662726\tbest: 65520.3662726 (39)\ttotal: 168ms\tremaining: 252ms\n",
      "40:\tlearn: 61730.8668599\ttest: 65478.1267338\tbest: 65478.1267338 (40)\ttotal: 172ms\tremaining: 248ms\n",
      "41:\tlearn: 61541.5523264\ttest: 65321.9407053\tbest: 65321.9407053 (41)\ttotal: 176ms\tremaining: 244ms\n",
      "42:\tlearn: 61389.6528619\ttest: 65277.9914516\tbest: 65277.9914516 (42)\ttotal: 180ms\tremaining: 239ms\n",
      "43:\tlearn: 61388.9073088\ttest: 65277.8441927\tbest: 65277.8441927 (43)\ttotal: 184ms\tremaining: 234ms\n",
      "44:\tlearn: 61329.2819589\ttest: 65238.3570794\tbest: 65238.3570794 (44)\ttotal: 188ms\tremaining: 230ms\n",
      "45:\tlearn: 61306.3785553\ttest: 65241.5596599\tbest: 65238.3570794 (44)\ttotal: 193ms\tremaining: 227ms\n",
      "46:\tlearn: 61190.3659742\ttest: 65152.7794577\tbest: 65152.7794577 (46)\ttotal: 197ms\tremaining: 222ms\n",
      "47:\tlearn: 61105.6178842\ttest: 65088.3233003\tbest: 65088.3233003 (47)\ttotal: 201ms\tremaining: 218ms\n",
      "48:\tlearn: 60991.2822362\ttest: 65053.0234778\tbest: 65053.0234778 (48)\ttotal: 206ms\tremaining: 214ms\n",
      "49:\tlearn: 60902.4999834\ttest: 65039.1699894\tbest: 65039.1699894 (49)\ttotal: 210ms\tremaining: 210ms\n",
      "50:\tlearn: 60766.8356408\ttest: 64999.9336498\tbest: 64999.9336498 (50)\ttotal: 214ms\tremaining: 206ms\n",
      "51:\tlearn: 60720.1195809\ttest: 64998.7337536\tbest: 64998.7337536 (51)\ttotal: 218ms\tremaining: 201ms\n",
      "52:\tlearn: 60645.6314214\ttest: 65044.3794303\tbest: 64998.7337536 (51)\ttotal: 223ms\tremaining: 198ms\n",
      "53:\tlearn: 60552.8774407\ttest: 65015.8637032\tbest: 64998.7337536 (51)\ttotal: 228ms\tremaining: 194ms\n",
      "54:\tlearn: 60454.7961946\ttest: 64994.6813596\tbest: 64994.6813596 (54)\ttotal: 233ms\tremaining: 191ms\n",
      "55:\tlearn: 60364.0822604\ttest: 65000.0594446\tbest: 64994.6813596 (54)\ttotal: 237ms\tremaining: 187ms\n",
      "56:\tlearn: 60362.8922872\ttest: 65000.3246640\tbest: 64994.6813596 (54)\ttotal: 241ms\tremaining: 182ms\n",
      "57:\tlearn: 60270.4233862\ttest: 64946.1291087\tbest: 64946.1291087 (57)\ttotal: 245ms\tremaining: 178ms\n",
      "58:\tlearn: 60164.3102831\ttest: 64905.1846233\tbest: 64905.1846233 (58)\ttotal: 249ms\tremaining: 173ms\n",
      "59:\tlearn: 60016.2427946\ttest: 64811.7087398\tbest: 64811.7087398 (59)\ttotal: 254ms\tremaining: 169ms\n",
      "60:\tlearn: 59831.2188869\ttest: 64756.5326063\tbest: 64756.5326063 (60)\ttotal: 258ms\tremaining: 165ms\n",
      "61:\tlearn: 59767.6821299\ttest: 64722.3845885\tbest: 64722.3845885 (61)\ttotal: 262ms\tremaining: 160ms\n",
      "62:\tlearn: 59695.9851977\ttest: 64652.7030548\tbest: 64652.7030548 (62)\ttotal: 266ms\tremaining: 156ms\n",
      "63:\tlearn: 59606.4719383\ttest: 64602.9161756\tbest: 64602.9161756 (63)\ttotal: 270ms\tremaining: 152ms\n",
      "64:\tlearn: 59522.8629728\ttest: 64579.4532847\tbest: 64579.4532847 (64)\ttotal: 275ms\tremaining: 148ms\n",
      "65:\tlearn: 59453.8514758\ttest: 64574.9748377\tbest: 64574.9748377 (65)\ttotal: 279ms\tremaining: 144ms\n",
      "66:\tlearn: 59342.1437431\ttest: 64547.4177894\tbest: 64547.4177894 (66)\ttotal: 284ms\tremaining: 140ms\n",
      "67:\tlearn: 59281.9451953\ttest: 64481.2914332\tbest: 64481.2914332 (67)\ttotal: 288ms\tremaining: 136ms\n",
      "68:\tlearn: 59225.8803215\ttest: 64487.2354666\tbest: 64481.2914332 (67)\ttotal: 292ms\tremaining: 131ms\n",
      "69:\tlearn: 59188.8745660\ttest: 64486.6827245\tbest: 64481.2914332 (67)\ttotal: 296ms\tremaining: 127ms\n",
      "70:\tlearn: 59186.3791983\ttest: 64487.6776158\tbest: 64481.2914332 (67)\ttotal: 301ms\tremaining: 123ms\n",
      "71:\tlearn: 59186.0863317\ttest: 64487.4281695\tbest: 64481.2914332 (67)\ttotal: 304ms\tremaining: 118ms\n",
      "72:\tlearn: 59143.0699886\ttest: 64457.8372982\tbest: 64457.8372982 (72)\ttotal: 309ms\tremaining: 114ms\n",
      "73:\tlearn: 59049.5279863\ttest: 64436.8118749\tbest: 64436.8118749 (73)\ttotal: 313ms\tremaining: 110ms\n",
      "74:\tlearn: 58957.1274097\ttest: 64477.6539939\tbest: 64436.8118749 (73)\ttotal: 317ms\tremaining: 106ms\n",
      "75:\tlearn: 58909.4049293\ttest: 64468.0913389\tbest: 64436.8118749 (73)\ttotal: 321ms\tremaining: 101ms\n",
      "76:\tlearn: 58827.6377134\ttest: 64517.3487585\tbest: 64436.8118749 (73)\ttotal: 326ms\tremaining: 97.2ms\n",
      "77:\tlearn: 58750.4714412\ttest: 64498.7703125\tbest: 64436.8118749 (73)\ttotal: 330ms\tremaining: 93ms\n",
      "78:\tlearn: 58674.3979319\ttest: 64452.8424144\tbest: 64436.8118749 (73)\ttotal: 334ms\tremaining: 88.8ms\n",
      "79:\tlearn: 58674.2154926\ttest: 64452.4542164\tbest: 64436.8118749 (73)\ttotal: 338ms\tremaining: 84.5ms\n",
      "80:\tlearn: 58596.5061625\ttest: 64435.7408709\tbest: 64435.7408709 (80)\ttotal: 357ms\tremaining: 83.7ms\n",
      "81:\tlearn: 58502.0109132\ttest: 64375.4115912\tbest: 64375.4115912 (81)\ttotal: 372ms\tremaining: 81.7ms\n",
      "82:\tlearn: 58453.1479170\ttest: 64360.6802824\tbest: 64360.6802824 (82)\ttotal: 382ms\tremaining: 78.3ms\n",
      "83:\tlearn: 58390.2457959\ttest: 64277.7735933\tbest: 64277.7735933 (83)\ttotal: 386ms\tremaining: 73.6ms\n",
      "84:\tlearn: 58315.3821748\ttest: 64279.6305562\tbest: 64277.7735933 (83)\ttotal: 391ms\tremaining: 68.9ms\n",
      "85:\tlearn: 58266.3823525\ttest: 64274.7008115\tbest: 64274.7008115 (85)\ttotal: 395ms\tremaining: 64.3ms\n",
      "86:\tlearn: 58256.0688634\ttest: 64261.5100303\tbest: 64261.5100303 (86)\ttotal: 399ms\tremaining: 59.6ms\n",
      "87:\tlearn: 58214.5103271\ttest: 64241.2490865\tbest: 64241.2490865 (87)\ttotal: 404ms\tremaining: 55.1ms\n",
      "88:\tlearn: 58146.4809488\ttest: 64239.6393188\tbest: 64239.6393188 (88)\ttotal: 408ms\tremaining: 50.5ms\n",
      "89:\tlearn: 58106.6125824\ttest: 64252.7129031\tbest: 64239.6393188 (88)\ttotal: 413ms\tremaining: 45.9ms\n",
      "90:\tlearn: 58055.7016891\ttest: 64259.3386875\tbest: 64239.6393188 (88)\ttotal: 417ms\tremaining: 41.2ms\n",
      "91:\tlearn: 58020.8957523\ttest: 64288.7504788\tbest: 64239.6393188 (88)\ttotal: 421ms\tremaining: 36.6ms\n",
      "92:\tlearn: 57947.9894178\ttest: 64240.7122252\tbest: 64239.6393188 (88)\ttotal: 425ms\tremaining: 32ms\n",
      "93:\tlearn: 57847.2339064\ttest: 64266.9422735\tbest: 64239.6393188 (88)\ttotal: 429ms\tremaining: 27.4ms\n",
      "94:\tlearn: 57787.3550173\ttest: 64273.8802236\tbest: 64239.6393188 (88)\ttotal: 433ms\tremaining: 22.8ms\n",
      "95:\tlearn: 57782.2369356\ttest: 64290.3782045\tbest: 64239.6393188 (88)\ttotal: 437ms\tremaining: 18.2ms\n",
      "96:\tlearn: 57705.2502064\ttest: 64286.6080907\tbest: 64239.6393188 (88)\ttotal: 442ms\tremaining: 13.7ms\n",
      "97:\tlearn: 57620.8435600\ttest: 64341.8848234\tbest: 64239.6393188 (88)\ttotal: 446ms\tremaining: 9.1ms\n",
      "98:\tlearn: 57543.2353243\ttest: 64321.6054014\tbest: 64239.6393188 (88)\ttotal: 450ms\tremaining: 4.55ms\n",
      "99:\tlearn: 57473.7883184\ttest: 64312.2768264\tbest: 64239.6393188 (88)\ttotal: 454ms\tremaining: 0us\n",
      "\n",
      "bestTest = 64239.63932\n",
      "bestIteration = 88\n",
      "\n",
      "Training on fold [4/5]\n",
      "0:\tlearn: 98168.6686815\ttest: 97719.5216276\tbest: 97719.5216276 (0)\ttotal: 9.91ms\tremaining: 981ms\n",
      "1:\tlearn: 81876.8842319\ttest: 81866.6070585\tbest: 81866.6070585 (1)\ttotal: 18.4ms\tremaining: 902ms\n",
      "2:\tlearn: 75465.0582726\ttest: 75879.2139156\tbest: 75879.2139156 (2)\ttotal: 27.4ms\tremaining: 885ms\n",
      "3:\tlearn: 72783.1049251\ttest: 73037.2570600\tbest: 73037.2570600 (3)\ttotal: 32.3ms\tremaining: 775ms\n",
      "4:\tlearn: 71595.1716887\ttest: 71901.8610159\tbest: 71901.8610159 (4)\ttotal: 36.5ms\tremaining: 694ms\n",
      "5:\tlearn: 70543.2736318\ttest: 70770.1269890\tbest: 70770.1269890 (5)\ttotal: 40.9ms\tremaining: 641ms\n",
      "6:\tlearn: 70110.8968265\ttest: 70251.2113533\tbest: 70251.2113533 (6)\ttotal: 45.2ms\tremaining: 600ms\n",
      "7:\tlearn: 69643.8075920\ttest: 70118.8213324\tbest: 70118.8213324 (7)\ttotal: 50.9ms\tremaining: 586ms\n",
      "8:\tlearn: 68942.2096797\ttest: 69377.7265784\tbest: 69377.7265784 (8)\ttotal: 55.2ms\tremaining: 558ms\n",
      "9:\tlearn: 68467.5050698\ttest: 68776.1158438\tbest: 68776.1158438 (9)\ttotal: 59.6ms\tremaining: 537ms\n",
      "10:\tlearn: 67866.3913239\ttest: 68327.9889417\tbest: 68327.9889417 (10)\ttotal: 63.9ms\tremaining: 517ms\n",
      "11:\tlearn: 67333.9414155\ttest: 67667.4825855\tbest: 67667.4825855 (11)\ttotal: 68.2ms\tremaining: 500ms\n",
      "12:\tlearn: 67084.6695938\ttest: 67483.2114104\tbest: 67483.2114104 (12)\ttotal: 72.4ms\tremaining: 484ms\n",
      "13:\tlearn: 66798.4086721\ttest: 67098.1753113\tbest: 67098.1753113 (13)\ttotal: 76.6ms\tremaining: 471ms\n",
      "14:\tlearn: 66321.6815698\ttest: 66758.5574726\tbest: 66758.5574726 (14)\ttotal: 80.8ms\tremaining: 458ms\n",
      "15:\tlearn: 65873.8206431\ttest: 66284.3943563\tbest: 66284.3943563 (15)\ttotal: 85ms\tremaining: 446ms\n",
      "16:\tlearn: 65742.8905652\ttest: 66235.2947528\tbest: 66235.2947528 (16)\ttotal: 89.1ms\tremaining: 435ms\n",
      "17:\tlearn: 65413.8290894\ttest: 65901.0513602\tbest: 65901.0513602 (17)\ttotal: 93.2ms\tremaining: 425ms\n",
      "18:\tlearn: 65257.2851428\ttest: 65762.2557946\tbest: 65762.2557946 (18)\ttotal: 97.5ms\tremaining: 416ms\n",
      "19:\tlearn: 65014.7278686\ttest: 65572.1951949\tbest: 65572.1951949 (19)\ttotal: 102ms\tremaining: 409ms\n",
      "20:\tlearn: 64911.4975146\ttest: 65522.0966230\tbest: 65522.0966230 (20)\ttotal: 107ms\tremaining: 401ms\n",
      "21:\tlearn: 64610.9028530\ttest: 65375.4938057\tbest: 65375.4938057 (21)\ttotal: 111ms\tremaining: 394ms\n",
      "22:\tlearn: 64458.4658444\ttest: 65391.7278157\tbest: 65375.4938057 (21)\ttotal: 116ms\tremaining: 389ms\n",
      "23:\tlearn: 64308.8363955\ttest: 65331.0400861\tbest: 65331.0400861 (23)\ttotal: 120ms\tremaining: 381ms\n",
      "24:\tlearn: 64127.7569160\ttest: 65259.3988861\tbest: 65259.3988861 (24)\ttotal: 125ms\tremaining: 374ms\n",
      "25:\tlearn: 63931.1361007\ttest: 65123.0547858\tbest: 65123.0547858 (25)\ttotal: 129ms\tremaining: 367ms\n",
      "26:\tlearn: 63758.8928699\ttest: 64951.8099601\tbest: 64951.8099601 (26)\ttotal: 133ms\tremaining: 360ms\n",
      "27:\tlearn: 63587.0869137\ttest: 64848.1679969\tbest: 64848.1679969 (27)\ttotal: 152ms\tremaining: 390ms\n",
      "28:\tlearn: 63465.3893845\ttest: 64811.0879338\tbest: 64811.0879338 (28)\ttotal: 156ms\tremaining: 382ms\n",
      "29:\tlearn: 63294.3935968\ttest: 64793.1087076\tbest: 64793.1087076 (29)\ttotal: 160ms\tremaining: 373ms\n",
      "30:\tlearn: 63109.4131414\ttest: 64671.4495032\tbest: 64671.4495032 (30)\ttotal: 164ms\tremaining: 365ms\n",
      "31:\tlearn: 62851.7256616\ttest: 64408.1882027\tbest: 64408.1882027 (31)\ttotal: 168ms\tremaining: 358ms\n",
      "32:\tlearn: 62740.4381220\ttest: 64347.5643213\tbest: 64347.5643213 (32)\ttotal: 172ms\tremaining: 350ms\n",
      "33:\tlearn: 62627.0154780\ttest: 64277.8462066\tbest: 64277.8462066 (33)\ttotal: 177ms\tremaining: 343ms\n",
      "34:\tlearn: 62498.0488963\ttest: 64247.3708048\tbest: 64247.3708048 (34)\ttotal: 181ms\tremaining: 336ms\n",
      "35:\tlearn: 62473.4738464\ttest: 64239.3624341\tbest: 64239.3624341 (35)\ttotal: 185ms\tremaining: 329ms\n",
      "36:\tlearn: 62212.1716877\ttest: 64156.6253753\tbest: 64156.6253753 (36)\ttotal: 189ms\tremaining: 322ms\n",
      "37:\tlearn: 62097.3470693\ttest: 64147.0997466\tbest: 64147.0997466 (37)\ttotal: 193ms\tremaining: 315ms\n",
      "38:\tlearn: 61992.6052226\ttest: 64102.0174428\tbest: 64102.0174428 (38)\ttotal: 197ms\tremaining: 308ms\n",
      "39:\tlearn: 61834.0656380\ttest: 63999.5755621\tbest: 63999.5755621 (39)\ttotal: 201ms\tremaining: 302ms\n",
      "40:\tlearn: 61682.0019153\ttest: 63913.5697260\tbest: 63913.5697260 (40)\ttotal: 205ms\tremaining: 296ms\n",
      "41:\tlearn: 61585.3993383\ttest: 63862.6260654\tbest: 63862.6260654 (41)\ttotal: 209ms\tremaining: 289ms\n",
      "42:\tlearn: 61458.0132881\ttest: 63821.6115028\tbest: 63821.6115028 (42)\ttotal: 214ms\tremaining: 283ms\n",
      "43:\tlearn: 61404.8416981\ttest: 63785.0304422\tbest: 63785.0304422 (43)\ttotal: 218ms\tremaining: 277ms\n",
      "44:\tlearn: 61291.9948594\ttest: 63633.2849871\tbest: 63633.2849871 (44)\ttotal: 222ms\tremaining: 271ms\n",
      "45:\tlearn: 61239.6014168\ttest: 63630.8424730\tbest: 63630.8424730 (45)\ttotal: 226ms\tremaining: 265ms\n",
      "46:\tlearn: 61210.8715444\ttest: 63647.4387931\tbest: 63630.8424730 (45)\ttotal: 230ms\tremaining: 259ms\n",
      "47:\tlearn: 61059.5184126\ttest: 63573.7388941\tbest: 63573.7388941 (47)\ttotal: 234ms\tremaining: 253ms\n",
      "48:\tlearn: 60940.8208854\ttest: 63483.5332566\tbest: 63483.5332566 (48)\ttotal: 238ms\tremaining: 248ms\n",
      "49:\tlearn: 60848.6255555\ttest: 63453.2156088\tbest: 63453.2156088 (49)\ttotal: 242ms\tremaining: 242ms\n",
      "50:\tlearn: 60715.2382973\ttest: 63473.5843791\tbest: 63453.2156088 (49)\ttotal: 247ms\tremaining: 237ms\n",
      "51:\tlearn: 60644.9770577\ttest: 63422.2777169\tbest: 63422.2777169 (51)\ttotal: 251ms\tremaining: 232ms\n",
      "52:\tlearn: 60488.1638665\ttest: 63393.7066893\tbest: 63393.7066893 (52)\ttotal: 255ms\tremaining: 226ms\n",
      "53:\tlearn: 60394.1046095\ttest: 63396.7234308\tbest: 63393.7066893 (52)\ttotal: 259ms\tremaining: 221ms\n",
      "54:\tlearn: 60300.0341557\ttest: 63348.4351719\tbest: 63348.4351719 (54)\ttotal: 263ms\tremaining: 216ms\n",
      "55:\tlearn: 60198.7575933\ttest: 63350.5126846\tbest: 63348.4351719 (54)\ttotal: 268ms\tremaining: 210ms\n",
      "56:\tlearn: 60105.1955948\ttest: 63312.1598593\tbest: 63312.1598593 (56)\ttotal: 272ms\tremaining: 205ms\n",
      "57:\tlearn: 60033.9579954\ttest: 63257.2554106\tbest: 63257.2554106 (57)\ttotal: 276ms\tremaining: 200ms\n",
      "58:\tlearn: 59911.9037807\ttest: 63183.1989961\tbest: 63183.1989961 (58)\ttotal: 280ms\tremaining: 195ms\n",
      "59:\tlearn: 59842.5188899\ttest: 63157.7853561\tbest: 63157.7853561 (59)\ttotal: 284ms\tremaining: 190ms\n",
      "60:\tlearn: 59777.0660971\ttest: 63095.1038555\tbest: 63095.1038555 (60)\ttotal: 289ms\tremaining: 184ms\n",
      "61:\tlearn: 59664.7497975\ttest: 63039.9877350\tbest: 63039.9877350 (61)\ttotal: 293ms\tremaining: 179ms\n",
      "62:\tlearn: 59563.0498130\ttest: 63012.6570081\tbest: 63012.6570081 (62)\ttotal: 297ms\tremaining: 174ms\n",
      "63:\tlearn: 59450.3063902\ttest: 62983.4321977\tbest: 62983.4321977 (63)\ttotal: 301ms\tremaining: 169ms\n",
      "64:\tlearn: 59334.7264726\ttest: 62930.3249958\tbest: 62930.3249958 (64)\ttotal: 311ms\tremaining: 167ms\n",
      "65:\tlearn: 59286.1629960\ttest: 62875.9321152\tbest: 62875.9321152 (65)\ttotal: 315ms\tremaining: 162ms\n",
      "66:\tlearn: 59205.0782872\ttest: 62860.6105396\tbest: 62860.6105396 (66)\ttotal: 319ms\tremaining: 157ms\n",
      "67:\tlearn: 59138.7312639\ttest: 62807.0158899\tbest: 62807.0158899 (67)\ttotal: 324ms\tremaining: 152ms\n",
      "68:\tlearn: 59115.5454534\ttest: 62802.1373386\tbest: 62802.1373386 (68)\ttotal: 328ms\tremaining: 147ms\n",
      "69:\tlearn: 58995.0369971\ttest: 62732.4852978\tbest: 62732.4852978 (69)\ttotal: 332ms\tremaining: 142ms\n",
      "70:\tlearn: 58881.4473319\ttest: 62662.6386884\tbest: 62662.6386884 (70)\ttotal: 337ms\tremaining: 137ms\n",
      "71:\tlearn: 58836.3964029\ttest: 62646.8125538\tbest: 62646.8125538 (71)\ttotal: 341ms\tremaining: 133ms\n",
      "72:\tlearn: 58761.0758465\ttest: 62617.6383446\tbest: 62617.6383446 (72)\ttotal: 345ms\tremaining: 128ms\n",
      "73:\tlearn: 58759.9182156\ttest: 62617.9851154\tbest: 62617.6383446 (72)\ttotal: 349ms\tremaining: 123ms\n",
      "74:\tlearn: 58717.0128532\ttest: 62590.2406338\tbest: 62590.2406338 (74)\ttotal: 354ms\tremaining: 118ms\n",
      "75:\tlearn: 58584.4438517\ttest: 62529.2479956\tbest: 62529.2479956 (75)\ttotal: 358ms\tremaining: 113ms\n",
      "76:\tlearn: 58505.9299050\ttest: 62523.0974801\tbest: 62523.0974801 (76)\ttotal: 362ms\tremaining: 108ms\n",
      "77:\tlearn: 58440.3747063\ttest: 62557.3192069\tbest: 62523.0974801 (76)\ttotal: 366ms\tremaining: 103ms\n",
      "78:\tlearn: 58373.0049548\ttest: 62505.0229382\tbest: 62505.0229382 (78)\ttotal: 371ms\tremaining: 98.6ms\n",
      "79:\tlearn: 58268.1832363\ttest: 62504.7183481\tbest: 62504.7183481 (79)\ttotal: 375ms\tremaining: 93.8ms\n",
      "80:\tlearn: 58233.8364619\ttest: 62496.3073576\tbest: 62496.3073576 (80)\ttotal: 379ms\tremaining: 89ms\n",
      "81:\tlearn: 58153.1079526\ttest: 62483.3220925\tbest: 62483.3220925 (81)\ttotal: 385ms\tremaining: 84.5ms\n",
      "82:\tlearn: 58054.6675694\ttest: 62391.0037239\tbest: 62391.0037239 (82)\ttotal: 389ms\tremaining: 79.7ms\n",
      "83:\tlearn: 58009.9338172\ttest: 62393.2655117\tbest: 62391.0037239 (82)\ttotal: 393ms\tremaining: 74.9ms\n",
      "84:\tlearn: 57929.9913023\ttest: 62335.2686761\tbest: 62335.2686761 (84)\ttotal: 398ms\tremaining: 70.2ms\n",
      "85:\tlearn: 57821.8406888\ttest: 62414.4983677\tbest: 62335.2686761 (84)\ttotal: 402ms\tremaining: 65.4ms\n",
      "86:\tlearn: 57773.3019798\ttest: 62423.1617124\tbest: 62335.2686761 (84)\ttotal: 406ms\tremaining: 60.6ms\n",
      "87:\tlearn: 57705.7560057\ttest: 62440.0924343\tbest: 62335.2686761 (84)\ttotal: 410ms\tremaining: 55.9ms\n",
      "88:\tlearn: 57689.5771114\ttest: 62431.3436965\tbest: 62335.2686761 (84)\ttotal: 414ms\tremaining: 51.1ms\n",
      "89:\tlearn: 57598.5134633\ttest: 62391.1998405\tbest: 62335.2686761 (84)\ttotal: 418ms\tremaining: 46.4ms\n",
      "90:\tlearn: 57587.4448513\ttest: 62415.4734036\tbest: 62335.2686761 (84)\ttotal: 422ms\tremaining: 41.7ms\n",
      "91:\tlearn: 57452.1800863\ttest: 62384.6536951\tbest: 62335.2686761 (84)\ttotal: 426ms\tremaining: 37ms\n",
      "92:\tlearn: 57449.1611281\ttest: 62370.3501221\tbest: 62335.2686761 (84)\ttotal: 430ms\tremaining: 32.3ms\n",
      "93:\tlearn: 57406.0919442\ttest: 62295.8078116\tbest: 62295.8078116 (93)\ttotal: 434ms\tremaining: 27.7ms\n",
      "94:\tlearn: 57400.4204922\ttest: 62279.2574814\tbest: 62279.2574814 (94)\ttotal: 438ms\tremaining: 23ms\n",
      "95:\tlearn: 57325.2236553\ttest: 62260.1641399\tbest: 62260.1641399 (95)\ttotal: 442ms\tremaining: 18.4ms\n",
      "96:\tlearn: 57265.5393939\ttest: 62238.8130978\tbest: 62238.8130978 (96)\ttotal: 446ms\tremaining: 13.8ms\n",
      "97:\tlearn: 57206.8941601\ttest: 62202.2308249\tbest: 62202.2308249 (97)\ttotal: 450ms\tremaining: 9.18ms\n",
      "98:\tlearn: 57160.3168904\ttest: 62196.1837357\tbest: 62196.1837357 (98)\ttotal: 454ms\tremaining: 4.59ms\n",
      "99:\tlearn: 57058.7336029\ttest: 62169.9357265\tbest: 62169.9357265 (99)\ttotal: 458ms\tremaining: 0us\n",
      "\n",
      "bestTest = 62169.93573\n",
      "bestIteration = 99\n",
      "\n"
     ]
    },
    {
     "data": {
      "text/plain": "{'best_params_': {'depth': 6, 'learning_rate': 1, 'l2_leaf_reg': 7},\n 'cv_results_': defaultdict(list,\n             {'iterations': [0,\n               1,\n               2,\n               3,\n               4,\n               5,\n               6,\n               7,\n               8,\n               9,\n               10,\n               11,\n               12,\n               13,\n               14,\n               15,\n               16,\n               17,\n               18,\n               19,\n               20,\n               21,\n               22,\n               23,\n               24,\n               25,\n               26,\n               27,\n               28,\n               29,\n               30,\n               31,\n               32,\n               33,\n               34,\n               35,\n               36,\n               37,\n               38,\n               39,\n               40,\n               41,\n               42,\n               43,\n               44,\n               45,\n               46,\n               47,\n               48,\n               49,\n               50,\n               51,\n               52,\n               53,\n               54,\n               55,\n               56,\n               57,\n               58,\n               59,\n               60,\n               61,\n               62,\n               63,\n               64,\n               65,\n               66,\n               67,\n               68,\n               69,\n               70,\n               71,\n               72,\n               73,\n               74,\n               75,\n               76,\n               77,\n               78,\n               79,\n               80,\n               81,\n               82,\n               83,\n               84,\n               85,\n               86,\n               87,\n               88,\n               89,\n               90,\n               91,\n               92,\n               93,\n               94,\n               95,\n               96,\n               97,\n               98,\n               99],\n              'test-RMSE-mean': [97682.45336666817,\n               82061.66952395847,\n               75785.28613057059,\n               73546.1069765048,\n               72589.10177124778,\n               71686.44376027546,\n               71042.86131266589,\n               70542.7933075066,\n               69889.11228913073,\n               69318.33431020238,\n               68913.83202264435,\n               68652.43344951698,\n               68324.43205081357,\n               67942.73184231036,\n               67659.12163471818,\n               67312.63638534871,\n               67137.88273507831,\n               66946.99940461603,\n               66792.86809101538,\n               66674.75605979486,\n               66541.30410783531,\n               66388.60385231952,\n               66290.01837384189,\n               66127.95869062608,\n               66023.29393679481,\n               65920.3536019251,\n               65750.632705848,\n               65678.07956366194,\n               65624.24933050663,\n               65556.71689104776,\n               65485.83393722555,\n               65351.93872488189,\n               65264.558043455254,\n               65206.82299521336,\n               65155.87053143674,\n               65052.206383875666,\n               64989.3917926431,\n               64973.78844793533,\n               64901.39675482479,\n               64816.33123841728,\n               64750.660194133605,\n               64641.0895298071,\n               64572.80813117676,\n               64508.06132086242,\n               64411.26081494556,\n               64375.6504538073,\n               64338.35069684605,\n               64297.97653926928,\n               64211.48287317357,\n               64173.42332653758,\n               64138.01216655433,\n               64086.865637450515,\n               64060.5783447969,\n               64040.385817776725,\n               64002.31427393635,\n               63977.35024062727,\n               63966.79679787332,\n               63930.587660401594,\n               63877.49321727775,\n               63849.13282474996,\n               63829.65868612179,\n               63801.06844636515,\n               63741.64916709091,\n               63705.35192574691,\n               63659.260847110476,\n               63612.766431227516,\n               63570.49367156747,\n               63522.03990638956,\n               63517.867605704254,\n               63470.86958986339,\n               63436.27311200886,\n               63400.61568730364,\n               63395.719387521545,\n               63343.92224774764,\n               63330.11490223659,\n               63291.298946409544,\n               63284.82232798224,\n               63279.627998967284,\n               63261.741699127095,\n               63252.13414948554,\n               63258.55948277369,\n               63237.23506812451,\n               63200.80014574628,\n               63158.40730501524,\n               63144.92020778146,\n               63125.76306926917,\n               63120.93592036555,\n               63097.58783671756,\n               63083.55454786533,\n               63071.51623497383,\n               63056.24733135187,\n               63054.21738580003,\n               63015.11296786711,\n               63007.43114904304,\n               62998.089538766304,\n               62990.87853840934,\n               62971.90573154638,\n               62979.72417810998,\n               62988.77087245234,\n               62979.32425348963],\n              'test-RMSE-std': [1006.5094791698414,\n               329.0534528520276,\n               507.5469886893019,\n               399.3025926704162,\n               560.0963191915722,\n               552.5356195794465,\n               496.7293104241705,\n               376.14168691191014,\n               431.2866855022652,\n               585.0104213693704,\n               588.3962342306706,\n               733.4985415079054,\n               552.8676829223343,\n               590.918717858472,\n               670.4844380362412,\n               703.570730849251,\n               593.1262588716806,\n               678.4101119730527,\n               714.8353419496384,\n               764.5817288137665,\n               734.8235694656883,\n               750.2319570928743,\n               686.6481765712858,\n               665.4767138426508,\n               620.1459690123015,\n               626.197915182937,\n               613.0027933931888,\n               648.5829832241609,\n               660.0318728489647,\n               620.317728519622,\n               578.8775213962108,\n               628.7979170867807,\n               591.2009557584681,\n               604.8534321115538,\n               613.567039069161,\n               568.546152773149,\n               566.07255534036,\n               566.6369598909411,\n               567.0759409219328,\n               583.9940426917636,\n               604.6901074780328,\n               583.4477395950469,\n               574.9284344745776,\n               588.9378596697721,\n               625.9018257330883,\n               629.4552075773945,\n               599.0808695542642,\n               607.1613693658437,\n               612.1547226925743,\n               626.4398855914625,\n               622.0670771877225,\n               635.7194030751813,\n               675.9976044952464,\n               660.2352066731677,\n               663.7661055688058,\n               663.2026162399825,\n               683.0966601900221,\n               679.8061079419848,\n               699.953697096015,\n               670.9061894997967,\n               669.0853741025825,\n               674.6649854686004,\n               666.1276441951195,\n               676.4814808713033,\n               678.7603271227364,\n               715.0499590449831,\n               729.3833436026723,\n               726.6185389620407,\n               710.2012444570186,\n               709.1660847000984,\n               729.7231192484351,\n               740.6027238550615,\n               743.6004713488547,\n               742.3144961502238,\n               773.353714980367,\n               788.5097759020464,\n               819.5639730625055,\n               814.875636867097,\n               810.9347563269233,\n               812.2845142678218,\n               804.3800111022804,\n               772.5812636622039,\n               801.7836566740473,\n               776.7964167501254,\n               785.5037614135917,\n               784.7079966022878,\n               764.1101469257794,\n               777.3796520111478,\n               776.45540938387,\n               786.8802422076684,\n               794.76357427208,\n               810.1618040195768,\n               791.2133599871692,\n               819.2836866285892,\n               834.3809433771421,\n               840.6469270316481,\n               850.944397362026,\n               881.042244326844,\n               866.8768571445773,\n               868.5769321595396],\n              'train-RMSE-mean': [97572.9814736152,\n               81919.92558535286,\n               75511.18981915414,\n               73211.4487413479,\n               72135.30085917587,\n               71213.99630915937,\n               70594.5081919414,\n               69972.67922278601,\n               69245.84792001231,\n               68659.63427255099,\n               68158.46028450174,\n               67874.4906253687,\n               67398.84323624459,\n               67002.53012521409,\n               66646.97411777059,\n               66236.39474742368,\n               66013.13490057582,\n               65737.6948417649,\n               65531.70563643541,\n               65348.94526988712,\n               65133.682643189946,\n               64879.943118663425,\n               64734.71427366718,\n               64531.198245102205,\n               64324.51986615408,\n               64157.19027726643,\n               63930.805577673906,\n               63776.355728716546,\n               63635.55877896985,\n               63466.01875804198,\n               63334.9193844061,\n               63142.92517804023,\n               63008.87823774775,\n               62897.54445671882,\n               62782.36716542116,\n               62676.32487856321,\n               62555.5416637708,\n               62472.466565237475,\n               62373.64990694821,\n               62215.02033138073,\n               62091.12805920433,\n               61952.635981192536,\n               61824.092927699945,\n               61706.806511746276,\n               61584.2662643439,\n               61491.79027299335,\n               61412.506991051676,\n               61333.92776502667,\n               61219.947310052594,\n               61134.655356679774,\n               61025.81757275773,\n               60938.72654833093,\n               60825.49327421547,\n               60730.73385167178,\n               60652.29065067905,\n               60579.60086216236,\n               60503.39480570842,\n               60428.96338295714,\n               60334.76531560416,\n               60247.407039258906,\n               60153.14485709169,\n               60080.049426924845,\n               59976.59111317787,\n               59888.53857062183,\n               59805.49620185087,\n               59710.59624514294,\n               59602.256596991305,\n               59526.43694768223,\n               59442.15488402352,\n               59364.70057883496,\n               59284.994932988906,\n               59218.48464069739,\n               59144.64061096155,\n               59075.343503347,\n               59001.84667436647,\n               58919.332225455306,\n               58845.09574189319,\n               58776.66084457243,\n               58714.73307686512,\n               58663.74151582144,\n               58593.307747864674,\n               58535.65424128901,\n               58477.55673314286,\n               58407.328284748524,\n               58339.65524446727,\n               58266.66278884597,\n               58204.945826871626,\n               58150.714862222456,\n               58099.46334281886,\n               58034.057628957824,\n               57982.043323483005,\n               57908.266857557195,\n               57847.79847565586,\n               57793.33156790382,\n               57748.940388825045,\n               57694.14738549546,\n               57621.88345853622,\n               57550.14879098828,\n               57474.753399006,\n               57413.333677962786],\n              'train-RMSE-std': [1065.1527354123923,\n               189.6559978316817,\n               145.45942054326008,\n               496.59733487321637,\n               462.6071349128246,\n               568.5416791072979,\n               554.8345389572162,\n               621.2971593460275,\n               494.2439109774388,\n               431.9683473109908,\n               281.18265976961277,\n               340.1154642931237,\n               282.54588259923014,\n               259.61536306453314,\n               275.62036725313186,\n               321.9252296367125,\n               316.4218879584033,\n               308.2525740653696,\n               249.67589039887915,\n               301.82776665069895,\n               238.94312560182826,\n               251.91618052589556,\n               248.68783275507448,\n               216.78120594434048,\n               252.70410605832708,\n               244.48596531437948,\n               248.23095422283188,\n               237.75660008905763,\n               186.24532459550048,\n               204.82894505924517,\n               252.97233843601285,\n               258.84028977603805,\n               271.78274625076205,\n               284.54620810228363,\n               254.93166253934442,\n               218.25853614048046,\n               312.44749965054837,\n               318.47424257633173,\n               320.60026820912196,\n               363.3163722546267,\n               355.2622838522101,\n               357.3920134331397,\n               370.5133662649897,\n               291.5003137542538,\n               270.7922738939922,\n               226.93675564890202,\n               218.8204483209305,\n               243.6299936991291,\n               256.57659642362717,\n               255.04456611235778,\n               274.87680098660417,\n               253.56598547629375,\n               258.67155634642893,\n               263.27189304570214,\n               273.0843595015278,\n               299.975878590545,\n               287.7942414950446,\n               297.18350131614903,\n               306.46186186336956,\n               324.3209743166304,\n               342.9088641107902,\n               350.50843860231737,\n               338.90828718738373,\n               359.68227182937983,\n               378.6126938919463,\n               357.03603954521594,\n               328.29548397085154,\n               317.36044041160955,\n               302.14083482587216,\n               330.00729850283653,\n               316.736460660603,\n               288.933101338879,\n               289.72969292937063,\n               267.22627528013413,\n               260.4498533273931,\n               283.17406265240317,\n               304.7971022980634,\n               304.5262854455082,\n               311.03251377700326,\n               320.3930156571781,\n               311.8941446306742,\n               342.97753947023347,\n               357.3974382486186,\n               353.893558589268,\n               365.7646995710912,\n               357.6901544861027,\n               347.81550561294495,\n               330.88422205820353,\n               294.44991763715535,\n               316.2970601065254,\n               308.65051548139223,\n               331.4779581032833,\n               301.8571152558013,\n               304.47741488211426,\n               294.9323221283444,\n               312.53630875046974,\n               310.55460510952565,\n               332.5899829112764,\n               321.69091542792705,\n               320.0251611619359]}),\n 'best_estimator_': None}"
     },
     "execution_count": 19,
     "metadata": {},
     "output_type": "execute_result"
    }
   ],
   "source": [
    "def fit_model_with_cross_validation(gs, X_train, y_train, fits):\n",
    "    pipe_start = time()\n",
    "    cv_result = gs.fit(X_train, y_train)\n",
    "    gs.fit(X_train, y_train)\n",
    "    pipe_end = time()\n",
    "    average_time = round((pipe_end - pipe_start) / (fits), 2)\n",
    "\n",
    "    print(f\"Total fit/CV time      : {int(pipe_end - pipe_start)} seconds   ({pipe_start} ==> {pipe_end})\")\n",
    "    print()\n",
    "    print(\n",
    "        f'average fit/score time = {round(cv_result.cv_results_[\"mean_fit_time\"].mean(), 2)}s/{round(cv_result.cv_results_[\"mean_score_time\"].mean(), 2)}s')\n",
    "    print(\n",
    "        f'max fit/score time     = {round(cv_result.cv_results_[\"mean_fit_time\"].max(), 2)}s/{round(cv_result.cv_results_[\"mean_score_time\"].max(), 2)}s')\n",
    "    print(f'refit time             = {round(cv_result.refit_time_, 2)}s')\n",
    "\n",
    "    #return cv_result, average_time, cv_result.refit_time_, len(cv_result.cv_results_[\"mean_fit_time\"])\n",
    "    return average_time, cv_result.refit_time_, len(cv_result.cv_results_[\"mean_fit_time\"])\n",
    "\n",
    "\n",
    "if not_catboost:\n",
    "    if ALGORITHM_DETAIL == 'grid search':\n",
    "        crossval_runner = GridSearchCV(\n",
    "            estimator=starter_pipe,\n",
    "            param_grid=param_options,\n",
    "            cv=cv, n_jobs=n_jobs, # get the AVX/AVX2 info if use n_jobs > 2\n",
    "            verbose=verbose, scoring=CROSS_VALIDATION_SCORING,\n",
    "            refit=refit,\n",
    "            return_train_score=True, #n_iter=n_iter,\n",
    "            #error_score='raise'\n",
    "        )\n",
    "    else:\n",
    "        crossval_runner = RandomizedSearchCV(\n",
    "            estimator=starter_pipe,\n",
    "            param_distributions=param_options,\n",
    "            cv=cv, n_jobs=n_jobs,  # get the AVX/AVX2 info if use n_jobs > 2\n",
    "            verbose=verbose, scoring=CROSS_VALIDATION_SCORING,\n",
    "            refit=refit,\n",
    "            return_train_score=True,  #n_iter=n_iter,\n",
    "            n_iter=n_iter,  # 1, #3\n",
    "            #error_score='raise'\n",
    "    )\n",
    "    cv_average_fit_time, cv_best_model_fit_time, total_fits = fit_model_with_cross_validation(\n",
    "        crossval_runner, X_train, y_train, fits=cv * n_iter)\n",
    "\n",
    "else:\n",
    "    import sys\n",
    "    from catboost import CatBoostRegressor, Pool\n",
    "\n",
    "    #pool = Pool(df, cat_features=['tenure.tenureType'], label=df['Price'].values)\n",
    "    pool_Xytrain = Pool(X_train, cat_features=[7], label=y_train)\n",
    "    #pool_Xtest = Pool(X_train, cat_features=[7], label=y_train)\n",
    "    pool_Xtest = Pool(X_test, cat_features=[7], label=y_test)\n",
    "\n",
    "    starter_model = model=CatBoostRegressor(iterations=n_iter, depth=3, learning_rate=0.1, loss_function='RMSE', objective='RMSE')\n",
    "\n",
    "    output = starter_model.randomized_search(options_block,\n",
    "                                             X=pool_Xytrain,\n",
    "                                             cv=5,\n",
    "                                             partition_random_seed=101,\n",
    "                                             calc_cv_statistics=True,\n",
    "                                             refit=True,\n",
    "                                             shuffle=True,\n",
    "                                             stratified=None,\n",
    "                                             verbose=True,\n",
    "                                             plot=True,\n",
    "\n",
    "                                             log_cout=sys.stdout,\n",
    "                                             log_cerr=sys.stderr\n",
    "                                             #search_by_train_test_split=True,\n",
    "                                             #train_size=0.8,\n",
    "                                             #train_size=1,\n",
    "                                             )\n",
    "\n",
    "    cat_params, cat_cv_results = output['params'], output['cv_results']\n",
    "    crossval_runner = {\"best_params_\": cat_params, \"cv_results_\": cat_cv_results, \"best_estimator_\": None}\n",
    "crossval_runner\n"
   ]
  },
  {
   "cell_type": "code",
   "execution_count": 19,
   "outputs": [],
   "source": [],
   "metadata": {
    "collapsed": false
   }
  },
  {
   "cell_type": "code",
   "execution_count": 20,
   "metadata": {
    "execution": {
     "iopub.execute_input": "2022-11-16T13:59:47.181563Z",
     "iopub.status.busy": "2022-11-16T13:59:47.181323Z",
     "iopub.status.idle": "2022-11-16T13:59:47.185299Z",
     "shell.execute_reply": "2022-11-16T13:59:47.184626Z",
     "shell.execute_reply.started": "2022-11-16T13:59:47.181540Z"
    }
   },
   "outputs": [],
   "source": [
    "if not_catboost:\n",
    "    best_estimator_pipe = crossval_runner.best_estimator_\n",
    "\n",
    "    if not_catboost and debug_mode:\n",
    "        crossval_runner.cv_results_"
   ]
  },
  {
   "cell_type": "code",
   "execution_count": 21,
   "metadata": {
    "execution": {
     "iopub.execute_input": "2022-11-16T13:59:47.186218Z",
     "iopub.status.busy": "2022-11-16T13:59:47.186022Z",
     "iopub.status.idle": "2022-11-16T13:59:47.190491Z",
     "shell.execute_reply": "2022-11-16T13:59:47.189828Z",
     "shell.execute_reply.started": "2022-11-16T13:59:47.186200Z"
    }
   },
   "outputs": [
    {
     "name": "stdout",
     "output_type": "stream",
     "text": [
      "<catboost.core.CatBoostRegressor object at 0x7f221c35eee0>\n",
      "{'depth': 6, 'learning_rate': 1, 'l2_leaf_reg': 7}\n",
      "defaultdict(<class 'list'>, {'iterations': [0, 1, 2, 3, 4, 5, 6, 7, 8, 9, 10, 11, 12, 13, 14, 15, 16, 17, 18, 19, 20, 21, 22, 23, 24, 25, 26, 27, 28, 29, 30, 31, 32, 33, 34, 35, 36, 37, 38, 39, 40, 41, 42, 43, 44, 45, 46, 47, 48, 49, 50, 51, 52, 53, 54, 55, 56, 57, 58, 59, 60, 61, 62, 63, 64, 65, 66, 67, 68, 69, 70, 71, 72, 73, 74, 75, 76, 77, 78, 79, 80, 81, 82, 83, 84, 85, 86, 87, 88, 89, 90, 91, 92, 93, 94, 95, 96, 97, 98, 99], 'test-RMSE-mean': [97682.45336666817, 82061.66952395847, 75785.28613057059, 73546.1069765048, 72589.10177124778, 71686.44376027546, 71042.86131266589, 70542.7933075066, 69889.11228913073, 69318.33431020238, 68913.83202264435, 68652.43344951698, 68324.43205081357, 67942.73184231036, 67659.12163471818, 67312.63638534871, 67137.88273507831, 66946.99940461603, 66792.86809101538, 66674.75605979486, 66541.30410783531, 66388.60385231952, 66290.01837384189, 66127.95869062608, 66023.29393679481, 65920.3536019251, 65750.632705848, 65678.07956366194, 65624.24933050663, 65556.71689104776, 65485.83393722555, 65351.93872488189, 65264.558043455254, 65206.82299521336, 65155.87053143674, 65052.206383875666, 64989.3917926431, 64973.78844793533, 64901.39675482479, 64816.33123841728, 64750.660194133605, 64641.0895298071, 64572.80813117676, 64508.06132086242, 64411.26081494556, 64375.6504538073, 64338.35069684605, 64297.97653926928, 64211.48287317357, 64173.42332653758, 64138.01216655433, 64086.865637450515, 64060.5783447969, 64040.385817776725, 64002.31427393635, 63977.35024062727, 63966.79679787332, 63930.587660401594, 63877.49321727775, 63849.13282474996, 63829.65868612179, 63801.06844636515, 63741.64916709091, 63705.35192574691, 63659.260847110476, 63612.766431227516, 63570.49367156747, 63522.03990638956, 63517.867605704254, 63470.86958986339, 63436.27311200886, 63400.61568730364, 63395.719387521545, 63343.92224774764, 63330.11490223659, 63291.298946409544, 63284.82232798224, 63279.627998967284, 63261.741699127095, 63252.13414948554, 63258.55948277369, 63237.23506812451, 63200.80014574628, 63158.40730501524, 63144.92020778146, 63125.76306926917, 63120.93592036555, 63097.58783671756, 63083.55454786533, 63071.51623497383, 63056.24733135187, 63054.21738580003, 63015.11296786711, 63007.43114904304, 62998.089538766304, 62990.87853840934, 62971.90573154638, 62979.72417810998, 62988.77087245234, 62979.32425348963], 'test-RMSE-std': [1006.5094791698414, 329.0534528520276, 507.5469886893019, 399.3025926704162, 560.0963191915722, 552.5356195794465, 496.7293104241705, 376.14168691191014, 431.2866855022652, 585.0104213693704, 588.3962342306706, 733.4985415079054, 552.8676829223343, 590.918717858472, 670.4844380362412, 703.570730849251, 593.1262588716806, 678.4101119730527, 714.8353419496384, 764.5817288137665, 734.8235694656883, 750.2319570928743, 686.6481765712858, 665.4767138426508, 620.1459690123015, 626.197915182937, 613.0027933931888, 648.5829832241609, 660.0318728489647, 620.317728519622, 578.8775213962108, 628.7979170867807, 591.2009557584681, 604.8534321115538, 613.567039069161, 568.546152773149, 566.07255534036, 566.6369598909411, 567.0759409219328, 583.9940426917636, 604.6901074780328, 583.4477395950469, 574.9284344745776, 588.9378596697721, 625.9018257330883, 629.4552075773945, 599.0808695542642, 607.1613693658437, 612.1547226925743, 626.4398855914625, 622.0670771877225, 635.7194030751813, 675.9976044952464, 660.2352066731677, 663.7661055688058, 663.2026162399825, 683.0966601900221, 679.8061079419848, 699.953697096015, 670.9061894997967, 669.0853741025825, 674.6649854686004, 666.1276441951195, 676.4814808713033, 678.7603271227364, 715.0499590449831, 729.3833436026723, 726.6185389620407, 710.2012444570186, 709.1660847000984, 729.7231192484351, 740.6027238550615, 743.6004713488547, 742.3144961502238, 773.353714980367, 788.5097759020464, 819.5639730625055, 814.875636867097, 810.9347563269233, 812.2845142678218, 804.3800111022804, 772.5812636622039, 801.7836566740473, 776.7964167501254, 785.5037614135917, 784.7079966022878, 764.1101469257794, 777.3796520111478, 776.45540938387, 786.8802422076684, 794.76357427208, 810.1618040195768, 791.2133599871692, 819.2836866285892, 834.3809433771421, 840.6469270316481, 850.944397362026, 881.042244326844, 866.8768571445773, 868.5769321595396], 'train-RMSE-mean': [97572.9814736152, 81919.92558535286, 75511.18981915414, 73211.4487413479, 72135.30085917587, 71213.99630915937, 70594.5081919414, 69972.67922278601, 69245.84792001231, 68659.63427255099, 68158.46028450174, 67874.4906253687, 67398.84323624459, 67002.53012521409, 66646.97411777059, 66236.39474742368, 66013.13490057582, 65737.6948417649, 65531.70563643541, 65348.94526988712, 65133.682643189946, 64879.943118663425, 64734.71427366718, 64531.198245102205, 64324.51986615408, 64157.19027726643, 63930.805577673906, 63776.355728716546, 63635.55877896985, 63466.01875804198, 63334.9193844061, 63142.92517804023, 63008.87823774775, 62897.54445671882, 62782.36716542116, 62676.32487856321, 62555.5416637708, 62472.466565237475, 62373.64990694821, 62215.02033138073, 62091.12805920433, 61952.635981192536, 61824.092927699945, 61706.806511746276, 61584.2662643439, 61491.79027299335, 61412.506991051676, 61333.92776502667, 61219.947310052594, 61134.655356679774, 61025.81757275773, 60938.72654833093, 60825.49327421547, 60730.73385167178, 60652.29065067905, 60579.60086216236, 60503.39480570842, 60428.96338295714, 60334.76531560416, 60247.407039258906, 60153.14485709169, 60080.049426924845, 59976.59111317787, 59888.53857062183, 59805.49620185087, 59710.59624514294, 59602.256596991305, 59526.43694768223, 59442.15488402352, 59364.70057883496, 59284.994932988906, 59218.48464069739, 59144.64061096155, 59075.343503347, 59001.84667436647, 58919.332225455306, 58845.09574189319, 58776.66084457243, 58714.73307686512, 58663.74151582144, 58593.307747864674, 58535.65424128901, 58477.55673314286, 58407.328284748524, 58339.65524446727, 58266.66278884597, 58204.945826871626, 58150.714862222456, 58099.46334281886, 58034.057628957824, 57982.043323483005, 57908.266857557195, 57847.79847565586, 57793.33156790382, 57748.940388825045, 57694.14738549546, 57621.88345853622, 57550.14879098828, 57474.753399006, 57413.333677962786], 'train-RMSE-std': [1065.1527354123923, 189.6559978316817, 145.45942054326008, 496.59733487321637, 462.6071349128246, 568.5416791072979, 554.8345389572162, 621.2971593460275, 494.2439109774388, 431.9683473109908, 281.18265976961277, 340.1154642931237, 282.54588259923014, 259.61536306453314, 275.62036725313186, 321.9252296367125, 316.4218879584033, 308.2525740653696, 249.67589039887915, 301.82776665069895, 238.94312560182826, 251.91618052589556, 248.68783275507448, 216.78120594434048, 252.70410605832708, 244.48596531437948, 248.23095422283188, 237.75660008905763, 186.24532459550048, 204.82894505924517, 252.97233843601285, 258.84028977603805, 271.78274625076205, 284.54620810228363, 254.93166253934442, 218.25853614048046, 312.44749965054837, 318.47424257633173, 320.60026820912196, 363.3163722546267, 355.2622838522101, 357.3920134331397, 370.5133662649897, 291.5003137542538, 270.7922738939922, 226.93675564890202, 218.8204483209305, 243.6299936991291, 256.57659642362717, 255.04456611235778, 274.87680098660417, 253.56598547629375, 258.67155634642893, 263.27189304570214, 273.0843595015278, 299.975878590545, 287.7942414950446, 297.18350131614903, 306.46186186336956, 324.3209743166304, 342.9088641107902, 350.50843860231737, 338.90828718738373, 359.68227182937983, 378.6126938919463, 357.03603954521594, 328.29548397085154, 317.36044041160955, 302.14083482587216, 330.00729850283653, 316.736460660603, 288.933101338879, 289.72969292937063, 267.22627528013413, 260.4498533273931, 283.17406265240317, 304.7971022980634, 304.5262854455082, 311.03251377700326, 320.3930156571781, 311.8941446306742, 342.97753947023347, 357.3974382486186, 353.893558589268, 365.7646995710912, 357.6901544861027, 347.81550561294495, 330.88422205820353, 294.44991763715535, 316.2970601065254, 308.65051548139223, 331.4779581032833, 301.8571152558013, 304.47741488211426, 294.9323221283444, 312.53630875046974, 310.55460510952565, 332.5899829112764, 321.69091542792705, 320.0251611619359]})\n"
     ]
    }
   ],
   "source": [
    "starter_model\n",
    "if True:\n",
    "    print(starter_model)\n",
    "if not not_catboost:\n",
    "    print(cat_params)\n",
    "    print(cat_cv_results)"
   ]
  },
  {
   "cell_type": "code",
   "execution_count": 22,
   "metadata": {
    "execution": {
     "iopub.execute_input": "2022-11-16T13:59:47.191425Z",
     "iopub.status.busy": "2022-11-16T13:59:47.191213Z",
     "iopub.status.idle": "2022-11-16T13:59:47.194465Z",
     "shell.execute_reply": "2022-11-16T13:59:47.193803Z",
     "shell.execute_reply.started": "2022-11-16T13:59:47.191404Z"
    }
   },
   "outputs": [],
   "source": [
    "if not_catboost:\n",
    "    crossval_runner.best_params_\n",
    "else:\n",
    "    crossval_runner[\"best_params_\"]"
   ]
  },
  {
   "cell_type": "code",
   "execution_count": 23,
   "metadata": {
    "execution": {
     "iopub.execute_input": "2022-11-16T13:59:47.195527Z",
     "iopub.status.busy": "2022-11-16T13:59:47.195321Z",
     "iopub.status.idle": "2022-11-16T13:59:47.220555Z",
     "shell.execute_reply": "2022-11-16T13:59:47.218381Z",
     "shell.execute_reply.started": "2022-11-16T13:59:47.195509Z"
    }
   },
   "outputs": [
    {
     "data": {
      "text/plain": "''"
     },
     "execution_count": 23,
     "metadata": {},
     "output_type": "execute_result"
    }
   ],
   "source": [
    "if not_catboost:\n",
    "    cv_results_df = pd.DataFrame(crossval_runner.cv_results_).sort_values('rank_test_score')\n",
    "cv_results_df if not_catboost else ''"
   ]
  },
  {
   "cell_type": "code",
   "execution_count": 24,
   "metadata": {
    "execution": {
     "iopub.execute_input": "2022-11-16T13:59:47.221915Z",
     "iopub.status.busy": "2022-11-16T13:59:47.221447Z",
     "iopub.status.idle": "2022-11-16T13:59:47.227414Z",
     "shell.execute_reply": "2022-11-16T13:59:47.226868Z",
     "shell.execute_reply.started": "2022-11-16T13:59:47.221887Z"
    }
   },
   "outputs": [
    {
     "data": {
      "text/plain": "''"
     },
     "execution_count": 24,
     "metadata": {},
     "output_type": "execute_result"
    }
   ],
   "source": [
    "if not_catboost and debug_mode:\n",
    "    xx = [c for c in cv_results_df.columns if 'param' in c]\n",
    "    xx.insert(0, 'rank_test_score')\n",
    "    xx.insert(0, 'mean_test_score')\n",
    "cv_results_df[xx].head(7) if not_catboost and debug_mode else ''"
   ]
  },
  {
   "cell_type": "code",
   "execution_count": 25,
   "metadata": {
    "execution": {
     "iopub.execute_input": "2022-11-16T13:59:47.229078Z",
     "iopub.status.busy": "2022-11-16T13:59:47.228327Z",
     "iopub.status.idle": "2022-11-16T13:59:47.232994Z",
     "shell.execute_reply": "2022-11-16T13:59:47.232495Z",
     "shell.execute_reply.started": "2022-11-16T13:59:47.229055Z"
    }
   },
   "outputs": [
    {
     "data": {
      "text/plain": "''"
     },
     "execution_count": 25,
     "metadata": {},
     "output_type": "execute_result"
    }
   ],
   "source": [
    "cv_results_df[xx].tail(7) if not_catboost and debug_mode else ''"
   ]
  },
  {
   "cell_type": "code",
   "execution_count": 26,
   "metadata": {
    "execution": {
     "iopub.execute_input": "2022-11-16T13:59:47.234560Z",
     "iopub.status.busy": "2022-11-16T13:59:47.233863Z",
     "iopub.status.idle": "2022-11-16T13:59:47.251649Z",
     "shell.execute_reply": "2022-11-16T13:59:47.251101Z",
     "shell.execute_reply.started": "2022-11-16T13:59:47.234540Z"
    }
   },
   "outputs": [
    {
     "data": {
      "text/plain": "''"
     },
     "execution_count": 26,
     "metadata": {},
     "output_type": "execute_result"
    }
   ],
   "source": [
    "if not_catboost:\n",
    "    cv_results_df['params2'] = cv_results_df['params'].apply(lambda l: '/'.join([str(c) for c in l.values()]))\n",
    "\n",
    "    cv_columns = ['params2', 'rank_test_score', 'mean_test_score', 'mean_fit_time', 'mean_score_time', 'params']\n",
    "    # if 'Neural' not in ALGORITHM:\n",
    "    #     cv_columns.insert(2, 'mean_train_score')\n",
    "    cv_results_df_full_sorted = cv_results_df.sort_values('rank_test_score')[cv_columns].reset_index(drop=True)\n",
    "\n",
    "cv_results_df_full_sorted if not_catboost else ''"
   ]
  },
  {
   "cell_type": "code",
   "execution_count": 27,
   "metadata": {
    "execution": {
     "iopub.execute_input": "2022-11-16T13:59:47.253028Z",
     "iopub.status.busy": "2022-11-16T13:59:47.252374Z",
     "iopub.status.idle": "2022-11-16T13:59:47.278366Z",
     "shell.execute_reply": "2022-11-16T13:59:47.277883Z",
     "shell.execute_reply.started": "2022-11-16T13:59:47.253006Z"
    }
   },
   "outputs": [
    {
     "data": {
      "text/plain": "''"
     },
     "execution_count": 27,
     "metadata": {},
     "output_type": "execute_result"
    }
   ],
   "source": [
    "if not_catboost:\n",
    "\n",
    "    cv_results_df_sorted = cv_results_df_full_sorted[cv_results_df_full_sorted['mean_test_score'] > -2]\n",
    "    if len(cv_results_df_sorted) != len(cv_results_df_full_sorted):\n",
    "        print(-len(cv_results_df_sorted) + len(cv_results_df_full_sorted), \"fits were total failures\")\n",
    "        total_fits = len(cv_results_df_sorted)\n",
    "cv_results_df_sorted if not_catboost else ''\n"
   ]
  },
  {
   "cell_type": "code",
   "execution_count": 28,
   "metadata": {
    "execution": {
     "iopub.execute_input": "2022-11-16T13:59:47.279670Z",
     "iopub.status.busy": "2022-11-16T13:59:47.279065Z",
     "iopub.status.idle": "2022-11-16T13:59:47.282299Z",
     "shell.execute_reply": "2022-11-16T13:59:47.281778Z",
     "shell.execute_reply.started": "2022-11-16T13:59:47.279646Z"
    }
   },
   "outputs": [],
   "source": [
    "#pd.set_option('display.max_columns', None)\n"
   ]
  },
  {
   "cell_type": "code",
   "execution_count": 29,
   "metadata": {
    "execution": {
     "iopub.execute_input": "2022-11-16T13:59:47.283574Z",
     "iopub.status.busy": "2022-11-16T13:59:47.282958Z",
     "iopub.status.idle": "2022-11-16T13:59:47.300218Z",
     "shell.execute_reply": "2022-11-16T13:59:47.299493Z",
     "shell.execute_reply.started": "2022-11-16T13:59:47.283551Z"
    }
   },
   "outputs": [
    {
     "data": {
      "text/plain": "''"
     },
     "execution_count": 29,
     "metadata": {},
     "output_type": "execute_result"
    }
   ],
   "source": [
    "if not_catboost:\n",
    "    orig_debug_mode, orig_display_df_cols = debug_mode, pd.get_option('display.max_columns')\n",
    "    debug_mode = True\n",
    "    pd.set_option('display.max_columns', None)\n",
    "    if debug_mode:\n",
    "        debug_cols = ['rank_test_score', 'mean_test_score', 'mean_fit_time', 'mean_score_time']\n",
    "        debug_cols.extend([c for c in cv_results_df.columns if 'param' in c])\n",
    "\n",
    "cv_results_df[debug_cols].head(7) if debug_mode else ''"
   ]
  },
  {
   "cell_type": "code",
   "execution_count": 30,
   "metadata": {
    "execution": {
     "iopub.execute_input": "2022-11-16T13:59:47.304440Z",
     "iopub.status.busy": "2022-11-16T13:59:47.303671Z",
     "iopub.status.idle": "2022-11-16T13:59:47.307553Z",
     "shell.execute_reply": "2022-11-16T13:59:47.306930Z",
     "shell.execute_reply.started": "2022-11-16T13:59:47.304414Z"
    }
   },
   "outputs": [],
   "source": [
    "if not_catboost:\n",
    "    debug_mode = orig_debug_mode\n",
    "    pd.set_option('display.max_columns', orig_display_df_cols)"
   ]
  },
  {
   "cell_type": "code",
   "execution_count": 31,
   "metadata": {
    "execution": {
     "iopub.execute_input": "2022-11-16T13:59:47.309224Z",
     "iopub.status.busy": "2022-11-16T13:59:47.308334Z",
     "iopub.status.idle": "2022-11-16T13:59:47.315677Z",
     "shell.execute_reply": "2022-11-16T13:59:47.315141Z",
     "shell.execute_reply.started": "2022-11-16T13:59:47.309201Z"
    }
   },
   "outputs": [
    {
     "data": {
      "text/plain": "''"
     },
     "execution_count": 31,
     "metadata": {},
     "output_type": "execute_result"
    }
   ],
   "source": [
    "if not_catboost:\n",
    "    def print_results(cross_validation_result):\n",
    "        means = cross_validation_result.cv_results_['mean_test_score']\n",
    "        stds = cross_validation_result.cv_results_['std_test_score']\n",
    "        params = cross_validation_result.cv_results_['params']\n",
    "        times = cross_validation_result.cv_results_['std_test_score']\n",
    "\n",
    "        print(\"params:\" + \"/\".join([c.replace(\"model__\", \"\") for c in params[0].keys()]))\n",
    "        print()\n",
    "        for mean, std, param, time in zip(means, stds, params, times):\n",
    "            #param2 = \"/\".join(list(param.values()))\n",
    "            param2 = \"/\".join(list([str(c) for c in param.values()]))\n",
    "            print(f'{round(mean, 3)} (+/-{round(std * 2, 3)}) in {round(time, 4)}s for {param2}')\n",
    "\n",
    "\n",
    "print_results(crossval_runner) if debug_mode else ''"
   ]
  },
  {
   "cell_type": "code",
   "execution_count": 32,
   "metadata": {
    "execution": {
     "iopub.execute_input": "2022-11-16T13:59:47.317413Z",
     "iopub.status.busy": "2022-11-16T13:59:47.316534Z",
     "iopub.status.idle": "2022-11-16T13:59:47.321419Z",
     "shell.execute_reply": "2022-11-16T13:59:47.320870Z",
     "shell.execute_reply.started": "2022-11-16T13:59:47.317388Z"
    }
   },
   "outputs": [],
   "source": [
    "if not_catboost:\n",
    "    print('Best Index: ', crossval_runner.best_index_)\n",
    "    print('Best Score: ', crossval_runner.best_score_)\n",
    "    print('Best Params: ', crossval_runner.best_params_)"
   ]
  },
  {
   "cell_type": "code",
   "execution_count": 33,
   "metadata": {
    "execution": {
     "iopub.execute_input": "2022-11-16T13:59:47.323113Z",
     "iopub.status.busy": "2022-11-16T13:59:47.322229Z",
     "iopub.status.idle": "2022-11-16T13:59:47.327516Z",
     "shell.execute_reply": "2022-11-16T13:59:47.327008Z",
     "shell.execute_reply.started": "2022-11-16T13:59:47.323086Z"
    }
   },
   "outputs": [
    {
     "data": {
      "text/plain": "array([1.0, 1.0, 0.6959676001201812, 51.47824, -0.08707,\n       0.0214800000000039, 0.01735, 'LEASEHOLD', 0, 0, 0, 0, 0, 0, 0, 0,\n       0, 0], dtype=object)"
     },
     "execution_count": 33,
     "metadata": {},
     "output_type": "execute_result"
    }
   ],
   "source": [
    "#pool_Xtest.shape\n",
    "#pool_Xtrain.shape\n",
    "X_train[0]\n",
    "X_test[0]"
   ]
  },
  {
   "cell_type": "code",
   "execution_count": 34,
   "metadata": {
    "execution": {
     "iopub.execute_input": "2022-11-16T13:59:47.328680Z",
     "iopub.status.busy": "2022-11-16T13:59:47.328195Z",
     "iopub.status.idle": "2022-11-16T13:59:47.380861Z",
     "shell.execute_reply": "2022-11-16T13:59:47.380015Z",
     "shell.execute_reply.started": "2022-11-16T13:59:47.328658Z"
    }
   },
   "outputs": [],
   "source": [
    "if not_catboost:\n",
    "    y_pred = best_estimator_pipe.predict(X_test)\n",
    "else:\n",
    "    y_pred = starter_model.predict(pool_Xtest)"
   ]
  },
  {
   "cell_type": "code",
   "execution_count": 35,
   "metadata": {
    "execution": {
     "iopub.execute_input": "2022-11-16T13:59:47.382580Z",
     "iopub.status.busy": "2022-11-16T13:59:47.382020Z",
     "iopub.status.idle": "2022-11-16T13:59:47.440737Z",
     "shell.execute_reply": "2022-11-16T13:59:47.439769Z",
     "shell.execute_reply.started": "2022-11-16T13:59:47.382556Z"
    }
   },
   "outputs": [
    {
     "data": {
      "text/plain": "0.6606217646329858"
     },
     "execution_count": 35,
     "metadata": {},
     "output_type": "execute_result"
    }
   ],
   "source": [
    "r_2_score = r2_score(y_test, y_pred)\n",
    "if not_catboost:\n",
    "    score = r_2_score\n",
    "    default_score = best_estimator_pipe.score(X_test, y_test)\n",
    "else:\n",
    "    score = r_2_score\n",
    "    default_score = starter_model.score(X_test, y_test)\n",
    "score"
   ]
  },
  {
   "cell_type": "code",
   "execution_count": 36,
   "metadata": {
    "execution": {
     "iopub.execute_input": "2022-11-16T13:59:47.442381Z",
     "iopub.status.busy": "2022-11-16T13:59:47.442151Z",
     "iopub.status.idle": "2022-11-16T13:59:47.448203Z",
     "shell.execute_reply": "2022-11-16T13:59:47.447282Z",
     "shell.execute_reply.started": "2022-11-16T13:59:47.442362Z"
    }
   },
   "outputs": [
    {
     "name": "stdout",
     "output_type": "stream",
     "text": [
      "----------CatBoost----------\n",
      "R square Accuracy 0.6606217646329858\n",
      "Mean Absolute Error Accuracy 48121.96765021964\n",
      "Mean Squared Error Accuracy 3833754208.2956886\n",
      "Root Mean Squared Error 61917.31751534209\n"
     ]
    }
   ],
   "source": [
    "y_pred = y_pred.reshape((-1, 1))\n",
    "\n",
    "R2 = r_2_score\n",
    "MAE = mean_absolute_error(y_test, y_pred)\n",
    "MSE = mean_squared_error(y_test, y_pred)\n",
    "RMSE = math.sqrt(MSE)\n",
    "print('-' * 10 + ALGORITHM + '-' * 10)\n",
    "print('R square Accuracy', R2)\n",
    "print('Mean Absolute Error Accuracy', MAE)\n",
    "print('Mean Squared Error Accuracy', MSE)\n",
    "print('Root Mean Squared Error', RMSE)"
   ]
  },
  {
   "cell_type": "code",
   "execution_count": 37,
   "metadata": {
    "execution": {
     "iopub.execute_input": "2022-11-16T13:59:47.450080Z",
     "iopub.status.busy": "2022-11-16T13:59:47.449147Z",
     "iopub.status.idle": "2022-11-16T13:59:47.453856Z",
     "shell.execute_reply": "2022-11-16T13:59:47.453198Z",
     "shell.execute_reply.started": "2022-11-16T13:59:47.450060Z"
    }
   },
   "outputs": [],
   "source": [
    "if debug_mode:\n",
    "    print(y_test_index.reshape((-1, 1)).shape);\n",
    "    print(y_pred.reshape((-1, 1)).shape);\n",
    "    print(y_test.shape);\n",
    "    print(y_test_index.shape);\n",
    "    print(y_pred.shape);\n",
    "    print(y_test.shape)"
   ]
  },
  {
   "cell_type": "code",
   "execution_count": 38,
   "metadata": {
    "execution": {
     "iopub.execute_input": "2022-11-16T13:59:47.455055Z",
     "iopub.status.busy": "2022-11-16T13:59:47.454855Z",
     "iopub.status.idle": "2022-11-16T13:59:47.472196Z",
     "shell.execute_reply": "2022-11-16T13:59:47.471460Z",
     "shell.execute_reply.started": "2022-11-16T13:59:47.455037Z"
    }
   },
   "outputs": [
    {
     "data": {
      "text/plain": "             actual      predicted    difference   diff 1 %   diff 2 %\nreference                                                             \n85490754   400000.0  339275.401481  60724.598519  15.181150  17.898320\n119328242  369950.0  432134.908089  62184.908089  16.809003  14.390161\n125716790  350000.0  352255.006510   2255.006510   0.644288   0.640163\n122440040  549000.0  558020.726645   9020.726645   1.643120   1.616558\n120508103  495000.0  488694.467031   6305.532969   1.273845   1.290281\n...             ...            ...           ...        ...        ...\n68620869   475000.0  562128.334072  87128.334072  18.342807  15.499723\n85735665   575000.0  500264.071669  74735.928331  12.997553  14.939296\n125706338  400000.0  358392.879273  41607.120727  10.401780  11.609360\n112739354  450000.0  432303.874856  17696.125144   3.932472   4.093446\n122707001  275000.0  319732.691635  44732.691635  16.266433  13.990653\n\n[4413 rows x 5 columns]",
      "text/html": "<div>\n<style scoped>\n    .dataframe tbody tr th:only-of-type {\n        vertical-align: middle;\n    }\n\n    .dataframe tbody tr th {\n        vertical-align: top;\n    }\n\n    .dataframe thead th {\n        text-align: right;\n    }\n</style>\n<table border=\"1\" class=\"dataframe\">\n  <thead>\n    <tr style=\"text-align: right;\">\n      <th></th>\n      <th>actual</th>\n      <th>predicted</th>\n      <th>difference</th>\n      <th>diff 1 %</th>\n      <th>diff 2 %</th>\n    </tr>\n    <tr>\n      <th>reference</th>\n      <th></th>\n      <th></th>\n      <th></th>\n      <th></th>\n      <th></th>\n    </tr>\n  </thead>\n  <tbody>\n    <tr>\n      <th>85490754</th>\n      <td>400000.0</td>\n      <td>339275.401481</td>\n      <td>60724.598519</td>\n      <td>15.181150</td>\n      <td>17.898320</td>\n    </tr>\n    <tr>\n      <th>119328242</th>\n      <td>369950.0</td>\n      <td>432134.908089</td>\n      <td>62184.908089</td>\n      <td>16.809003</td>\n      <td>14.390161</td>\n    </tr>\n    <tr>\n      <th>125716790</th>\n      <td>350000.0</td>\n      <td>352255.006510</td>\n      <td>2255.006510</td>\n      <td>0.644288</td>\n      <td>0.640163</td>\n    </tr>\n    <tr>\n      <th>122440040</th>\n      <td>549000.0</td>\n      <td>558020.726645</td>\n      <td>9020.726645</td>\n      <td>1.643120</td>\n      <td>1.616558</td>\n    </tr>\n    <tr>\n      <th>120508103</th>\n      <td>495000.0</td>\n      <td>488694.467031</td>\n      <td>6305.532969</td>\n      <td>1.273845</td>\n      <td>1.290281</td>\n    </tr>\n    <tr>\n      <th>...</th>\n      <td>...</td>\n      <td>...</td>\n      <td>...</td>\n      <td>...</td>\n      <td>...</td>\n    </tr>\n    <tr>\n      <th>68620869</th>\n      <td>475000.0</td>\n      <td>562128.334072</td>\n      <td>87128.334072</td>\n      <td>18.342807</td>\n      <td>15.499723</td>\n    </tr>\n    <tr>\n      <th>85735665</th>\n      <td>575000.0</td>\n      <td>500264.071669</td>\n      <td>74735.928331</td>\n      <td>12.997553</td>\n      <td>14.939296</td>\n    </tr>\n    <tr>\n      <th>125706338</th>\n      <td>400000.0</td>\n      <td>358392.879273</td>\n      <td>41607.120727</td>\n      <td>10.401780</td>\n      <td>11.609360</td>\n    </tr>\n    <tr>\n      <th>112739354</th>\n      <td>450000.0</td>\n      <td>432303.874856</td>\n      <td>17696.125144</td>\n      <td>3.932472</td>\n      <td>4.093446</td>\n    </tr>\n    <tr>\n      <th>122707001</th>\n      <td>275000.0</td>\n      <td>319732.691635</td>\n      <td>44732.691635</td>\n      <td>16.266433</td>\n      <td>13.990653</td>\n    </tr>\n  </tbody>\n</table>\n<p>4413 rows × 5 columns</p>\n</div>"
     },
     "execution_count": 38,
     "metadata": {},
     "output_type": "execute_result"
    }
   ],
   "source": [
    "compare = np.hstack((y_test_index, y_test, y_pred))\n",
    "compare_df = DataFrame(compare, columns=['reference', 'actual', 'predicted'])\n",
    "compare_df['difference'] = abs(compare_df['actual'] - compare_df['predicted'])\n",
    "compare_df['diff 1 %'] = abs((compare_df['actual'] - compare_df['predicted']) / compare_df['actual'] * 100)\n",
    "compare_df['diff 2 %'] = abs((compare_df['actual'] - compare_df['predicted']) / compare_df['predicted']) * 100\n",
    "compare_df['reference'] = compare_df['reference'].astype(int)\n",
    "compare_df.set_index('reference', inplace=True)\n",
    "compare_df"
   ]
  },
  {
   "cell_type": "code",
   "execution_count": 39,
   "metadata": {
    "execution": {
     "iopub.execute_input": "2022-11-16T13:59:47.473173Z",
     "iopub.status.busy": "2022-11-16T13:59:47.472972Z",
     "iopub.status.idle": "2022-11-16T13:59:47.499899Z",
     "shell.execute_reply": "2022-11-16T13:59:47.499050Z",
     "shell.execute_reply.started": "2022-11-16T13:59:47.473156Z"
    }
   },
   "outputs": [
    {
     "data": {
      "text/plain": "           actual  predicted     difference    diff 1 %   diff 2 %   Price  \\\n122265818  160000     474003  314003.285416  196.252053  66.244960  160000   \n85667184   122000     361116  239116.474582  195.997110  66.215886  122000   \n109722224  108000     271560  163560.950674  151.445325  60.229923  108000   \n83639617   190000     391079  201079.276819  105.831198  51.416500  190000   \n122821142  170000     349567  179567.119565  105.627717  51.368424  170000   \n...           ...        ...            ...         ...        ...     ...   \n85633383   410000     409851     148.670504    0.036261   0.036274  410000   \n114057983  450000     449850     149.340881    0.033187   0.033198  450000   \n121460075  495000     495148     148.907081    0.030082   0.030073  495000   \n124311893  375000     374912      87.508484    0.023336   0.023341  375000   \n122672009  299950     300004      54.381719    0.018130   0.018127  299950   \n\n           bedrooms  bathrooms  nearestStation  location.latitude  \\\n122265818         3          1        0.166024          51.510420   \n85667184          1          1        0.838896          51.540462   \n109722224         1          1        0.302667          51.406803   \n83639617          2          2        0.162816          51.491264   \n122821142         2          1        0.093936          51.430690   \n...             ...        ...             ...                ...   \n85633383          2          1        1.691097          51.601518   \n114057983         1          1        0.444298          51.527740   \n121460075         1          1        0.193575          51.514149   \n124311893         1          1        0.076714          51.436867   \n122672009         1          1        0.329773          51.477080   \n\n           location.longitude  latitude_deviation  longitude_deviation  \\\n122265818           -0.037730            0.010700             0.066690   \n85667184            -0.280301            0.040742             0.175881   \n109722224           -0.261328            0.092917             0.156908   \n83639617             0.064660            0.008456             0.169080   \n122821142            0.024020            0.069030             0.128440   \n...                       ...                 ...                  ...   \n85633383            -0.481818            0.101798             0.377398   \n114057983           -0.203500            0.028020             0.099080   \n121460075           -0.306150            0.014429             0.201730   \n124311893           -0.127361            0.062853             0.022941   \n122672009           -0.323544            0.022640             0.219124   \n\n          tenure.tenureType  \n122265818          FREEHOLD  \n85667184          LEASEHOLD  \n109722224         LEASEHOLD  \n83639617          LEASEHOLD  \n122821142         LEASEHOLD  \n...                     ...  \n85633383           FREEHOLD  \n114057983         LEASEHOLD  \n121460075         LEASEHOLD  \n124311893         LEASEHOLD  \n122672009         LEASEHOLD  \n\n[4413 rows x 14 columns]",
      "text/html": "<div>\n<style scoped>\n    .dataframe tbody tr th:only-of-type {\n        vertical-align: middle;\n    }\n\n    .dataframe tbody tr th {\n        vertical-align: top;\n    }\n\n    .dataframe thead th {\n        text-align: right;\n    }\n</style>\n<table border=\"1\" class=\"dataframe\">\n  <thead>\n    <tr style=\"text-align: right;\">\n      <th></th>\n      <th>actual</th>\n      <th>predicted</th>\n      <th>difference</th>\n      <th>diff 1 %</th>\n      <th>diff 2 %</th>\n      <th>Price</th>\n      <th>bedrooms</th>\n      <th>bathrooms</th>\n      <th>nearestStation</th>\n      <th>location.latitude</th>\n      <th>location.longitude</th>\n      <th>latitude_deviation</th>\n      <th>longitude_deviation</th>\n      <th>tenure.tenureType</th>\n    </tr>\n  </thead>\n  <tbody>\n    <tr>\n      <th>122265818</th>\n      <td>160000</td>\n      <td>474003</td>\n      <td>314003.285416</td>\n      <td>196.252053</td>\n      <td>66.244960</td>\n      <td>160000</td>\n      <td>3</td>\n      <td>1</td>\n      <td>0.166024</td>\n      <td>51.510420</td>\n      <td>-0.037730</td>\n      <td>0.010700</td>\n      <td>0.066690</td>\n      <td>FREEHOLD</td>\n    </tr>\n    <tr>\n      <th>85667184</th>\n      <td>122000</td>\n      <td>361116</td>\n      <td>239116.474582</td>\n      <td>195.997110</td>\n      <td>66.215886</td>\n      <td>122000</td>\n      <td>1</td>\n      <td>1</td>\n      <td>0.838896</td>\n      <td>51.540462</td>\n      <td>-0.280301</td>\n      <td>0.040742</td>\n      <td>0.175881</td>\n      <td>LEASEHOLD</td>\n    </tr>\n    <tr>\n      <th>109722224</th>\n      <td>108000</td>\n      <td>271560</td>\n      <td>163560.950674</td>\n      <td>151.445325</td>\n      <td>60.229923</td>\n      <td>108000</td>\n      <td>1</td>\n      <td>1</td>\n      <td>0.302667</td>\n      <td>51.406803</td>\n      <td>-0.261328</td>\n      <td>0.092917</td>\n      <td>0.156908</td>\n      <td>LEASEHOLD</td>\n    </tr>\n    <tr>\n      <th>83639617</th>\n      <td>190000</td>\n      <td>391079</td>\n      <td>201079.276819</td>\n      <td>105.831198</td>\n      <td>51.416500</td>\n      <td>190000</td>\n      <td>2</td>\n      <td>2</td>\n      <td>0.162816</td>\n      <td>51.491264</td>\n      <td>0.064660</td>\n      <td>0.008456</td>\n      <td>0.169080</td>\n      <td>LEASEHOLD</td>\n    </tr>\n    <tr>\n      <th>122821142</th>\n      <td>170000</td>\n      <td>349567</td>\n      <td>179567.119565</td>\n      <td>105.627717</td>\n      <td>51.368424</td>\n      <td>170000</td>\n      <td>2</td>\n      <td>1</td>\n      <td>0.093936</td>\n      <td>51.430690</td>\n      <td>0.024020</td>\n      <td>0.069030</td>\n      <td>0.128440</td>\n      <td>LEASEHOLD</td>\n    </tr>\n    <tr>\n      <th>...</th>\n      <td>...</td>\n      <td>...</td>\n      <td>...</td>\n      <td>...</td>\n      <td>...</td>\n      <td>...</td>\n      <td>...</td>\n      <td>...</td>\n      <td>...</td>\n      <td>...</td>\n      <td>...</td>\n      <td>...</td>\n      <td>...</td>\n      <td>...</td>\n    </tr>\n    <tr>\n      <th>85633383</th>\n      <td>410000</td>\n      <td>409851</td>\n      <td>148.670504</td>\n      <td>0.036261</td>\n      <td>0.036274</td>\n      <td>410000</td>\n      <td>2</td>\n      <td>1</td>\n      <td>1.691097</td>\n      <td>51.601518</td>\n      <td>-0.481818</td>\n      <td>0.101798</td>\n      <td>0.377398</td>\n      <td>FREEHOLD</td>\n    </tr>\n    <tr>\n      <th>114057983</th>\n      <td>450000</td>\n      <td>449850</td>\n      <td>149.340881</td>\n      <td>0.033187</td>\n      <td>0.033198</td>\n      <td>450000</td>\n      <td>1</td>\n      <td>1</td>\n      <td>0.444298</td>\n      <td>51.527740</td>\n      <td>-0.203500</td>\n      <td>0.028020</td>\n      <td>0.099080</td>\n      <td>LEASEHOLD</td>\n    </tr>\n    <tr>\n      <th>121460075</th>\n      <td>495000</td>\n      <td>495148</td>\n      <td>148.907081</td>\n      <td>0.030082</td>\n      <td>0.030073</td>\n      <td>495000</td>\n      <td>1</td>\n      <td>1</td>\n      <td>0.193575</td>\n      <td>51.514149</td>\n      <td>-0.306150</td>\n      <td>0.014429</td>\n      <td>0.201730</td>\n      <td>LEASEHOLD</td>\n    </tr>\n    <tr>\n      <th>124311893</th>\n      <td>375000</td>\n      <td>374912</td>\n      <td>87.508484</td>\n      <td>0.023336</td>\n      <td>0.023341</td>\n      <td>375000</td>\n      <td>1</td>\n      <td>1</td>\n      <td>0.076714</td>\n      <td>51.436867</td>\n      <td>-0.127361</td>\n      <td>0.062853</td>\n      <td>0.022941</td>\n      <td>LEASEHOLD</td>\n    </tr>\n    <tr>\n      <th>122672009</th>\n      <td>299950</td>\n      <td>300004</td>\n      <td>54.381719</td>\n      <td>0.018130</td>\n      <td>0.018127</td>\n      <td>299950</td>\n      <td>1</td>\n      <td>1</td>\n      <td>0.329773</td>\n      <td>51.477080</td>\n      <td>-0.323544</td>\n      <td>0.022640</td>\n      <td>0.219124</td>\n      <td>LEASEHOLD</td>\n    </tr>\n  </tbody>\n</table>\n<p>4413 rows × 14 columns</p>\n</div>"
     },
     "execution_count": 39,
     "metadata": {},
     "output_type": "execute_result"
    }
   ],
   "source": [
    "combined = compare_df.merge(df[columns], how='inner', left_index=True, right_index=True).sort_values(['diff 1 %'],\n",
    "                                                                                                     ascending=False)\n",
    "#pd.options.display.float_format = '{:.4f}'.format\n",
    "combined[['predicted', 'actual', 'Price', 'bedrooms', 'bathrooms']] = combined[\n",
    "    ['predicted', 'actual', 'Price', 'bedrooms', 'bathrooms']].astype(int)\n",
    "combined['bedrooms'] = combined['bedrooms'].astype(int)\n",
    "combined"
   ]
  },
  {
   "cell_type": "code",
   "execution_count": 40,
   "metadata": {
    "execution": {
     "iopub.execute_input": "2022-11-16T13:59:47.501494Z",
     "iopub.status.busy": "2022-11-16T13:59:47.500942Z",
     "iopub.status.idle": "2022-11-16T13:59:47.635559Z",
     "shell.execute_reply": "2022-11-16T13:59:47.634656Z",
     "shell.execute_reply.started": "2022-11-16T13:59:47.501473Z"
    }
   },
   "outputs": [
    {
     "data": {
      "text/plain": "<Figure size 432x288 with 1 Axes>",
      "image/png": "[encoded data removed]"
     },
     "metadata": {
      "needs_background": "light"
     },
     "output_type": "display_data"
    }
   ],
   "source": [
    "fig, ax = plt.subplots()\n",
    "ax.scatter(y_test, y_pred, edgecolors=(0, 0, 1))\n",
    "ax.plot([y_test.min(), y_test.max()], [y_test.min(), y_test.max()], 'r--', lw=3)\n",
    "ax.set_ylabel('Predicted')\n",
    "ax.set_xlabel('Actual')\n",
    "#ax.title.set_text(f'CV Chosen best option ({calculated_best_pipe[1]})')\n",
    "plt.show()"
   ]
  },
  {
   "cell_type": "code",
   "execution_count": 41,
   "metadata": {
    "execution": {
     "iopub.execute_input": "2022-11-16T13:59:47.637419Z",
     "iopub.status.busy": "2022-11-16T13:59:47.636639Z",
     "iopub.status.idle": "2022-11-16T13:59:50.927930Z",
     "shell.execute_reply": "2022-11-16T13:59:50.927235Z",
     "shell.execute_reply.started": "2022-11-16T13:59:47.637397Z"
    }
   },
   "outputs": [],
   "source": [
    "if not_catboost:\n",
    "    def custom_model_and_predictions(model, graph_params, X_train, y_train, X_test):\n",
    "        graph_model = model\n",
    "        graph_model.set_params(**graph_params)\n",
    "        graph_model.fit(X_train, y_train)\n",
    "        y_pred_graph = model.predict(X_test)\n",
    "\n",
    "        return model, y_pred_graph\n",
    "\n",
    "\n",
    "    best_model_count = 10 if not quick_mode else 2\n",
    "    best_model_count = 3 if not quick_mode else 1\n",
    "    best_models = {}\n",
    "    best_model_predictions = {}\n",
    "    best_model_scores = {}\n",
    "\n",
    "    showable_increment = total_fits // (4 if not quick_mode else 2)\n",
    "    if showable_increment==0:showable_increment=1\n",
    "    for i in range(0, total_fits, showable_increment):\n",
    "        if debug_mode or True: print(f'{i} ==> {i}')\n",
    "\n",
    "        if i == 0:\n",
    "            fitted_graph_model = crossval_runner.best_estimator_\n",
    "            y_pred_graph = y_pred\n",
    "        else:\n",
    "            graph_pipe_params = cv_results_df_sorted['params'][i]\n",
    "            print(graph_pipe_params)\n",
    "            # would always return the best! graph_pipe_params = cv_results_df_sorted.loc[cv_results_df_sorted['rank_test_score'] == 1, 'params'].values[0]\n",
    "\n",
    "            graph_params = {}\n",
    "            for key, value in graph_pipe_params.items():\n",
    "                graph_params[key.replace('model__', '')] = value\n",
    "\n",
    "            fitted_graph_model, y_pred_graph = custom_model_and_predictions(make_pipeline(), graph_pipe_params, X_train,\n",
    "                                                                            y_train, X_test)\n",
    "\n",
    "        best_models[i] = fitted_graph_model[-1].get_params()\n",
    "        best_model_predictions[i] = y_pred_graph\n",
    "        best_model_scores[i] = fitted_graph_model.score(X_test, y_test)\n",
    "\n",
    "    if debug_mode or True: print(f'{-1} ==> {-1}')\n",
    "    graph_pipe_params = cv_results_df_sorted['params'][total_fits - 1]\n",
    "    print(graph_pipe_params)\n",
    "    graph_params = {}\n",
    "    for key, value in graph_pipe_params.items():\n",
    "        graph_params[key.replace('model__', '')] = value\n",
    "    fitted_graph_model, y_pred_graph = custom_model_and_predictions(make_pipeline(), graph_pipe_params, X_train,\n",
    "                                                                    y_train, X_test)\n",
    "    best_models[-1] = fitted_graph_model[-1].get_params()\n",
    "    best_model_predictions[-1] = y_pred_graph\n",
    "    best_model_scores[-1] = fitted_graph_model.score(X_test, y_test)\n"
   ]
  },
  {
   "cell_type": "code",
   "execution_count": 42,
   "metadata": {
    "execution": {
     "iopub.execute_input": "2022-11-16T13:59:50.929176Z",
     "iopub.status.busy": "2022-11-16T13:59:50.928941Z",
     "iopub.status.idle": "2022-11-16T13:59:50.953941Z",
     "shell.execute_reply": "2022-11-16T13:59:50.953292Z",
     "shell.execute_reply.started": "2022-11-16T13:59:50.929155Z"
    }
   },
   "outputs": [
    {
     "data": {
      "text/plain": "''"
     },
     "execution_count": 42,
     "metadata": {},
     "output_type": "execute_result"
    }
   ],
   "source": [
    "cv_results_df_sorted if not_catboost else ''"
   ]
  },
  {
   "cell_type": "code",
   "execution_count": 43,
   "metadata": {
    "execution": {
     "iopub.execute_input": "2022-11-16T13:59:50.955365Z",
     "iopub.status.busy": "2022-11-16T13:59:50.955113Z",
     "iopub.status.idle": "2022-11-16T13:59:50.960058Z",
     "shell.execute_reply": "2022-11-16T13:59:50.959362Z",
     "shell.execute_reply.started": "2022-11-16T13:59:50.955343Z"
    }
   },
   "outputs": [
    {
     "data": {
      "text/plain": "''"
     },
     "execution_count": 43,
     "metadata": {},
     "output_type": "execute_result"
    }
   ],
   "source": [
    "cv_results_df_sorted['params']  if not_catboost and debug_mode else ''"
   ]
  },
  {
   "cell_type": "code",
   "execution_count": 44,
   "metadata": {
    "execution": {
     "iopub.execute_input": "2022-11-16T13:59:50.961046Z",
     "iopub.status.busy": "2022-11-16T13:59:50.960847Z",
     "iopub.status.idle": "2022-11-16T13:59:50.966053Z",
     "shell.execute_reply": "2022-11-16T13:59:50.965218Z",
     "shell.execute_reply.started": "2022-11-16T13:59:50.961027Z"
    }
   },
   "outputs": [
    {
     "data": {
      "text/plain": "''"
     },
     "execution_count": 44,
     "metadata": {},
     "output_type": "execute_result"
    }
   ],
   "source": [
    "cv_results_df_sorted['params'][0] if not_catboost else ''"
   ]
  },
  {
   "cell_type": "code",
   "execution_count": 45,
   "metadata": {
    "execution": {
     "iopub.execute_input": "2022-11-16T13:59:50.967664Z",
     "iopub.status.busy": "2022-11-16T13:59:50.966945Z",
     "iopub.status.idle": "2022-11-16T13:59:50.974725Z",
     "shell.execute_reply": "2022-11-16T13:59:50.973935Z",
     "shell.execute_reply.started": "2022-11-16T13:59:50.967640Z"
    }
   },
   "outputs": [
    {
     "data": {
      "text/plain": "''"
     },
     "execution_count": 45,
     "metadata": {},
     "output_type": "execute_result"
    }
   ],
   "source": [
    "best_models if not_catboost else ''"
   ]
  },
  {
   "cell_type": "code",
   "execution_count": 46,
   "metadata": {
    "execution": {
     "iopub.execute_input": "2022-11-16T13:59:50.976386Z",
     "iopub.status.busy": "2022-11-16T13:59:50.975697Z",
     "iopub.status.idle": "2022-11-16T13:59:52.092828Z",
     "shell.execute_reply": "2022-11-16T13:59:52.092064Z",
     "shell.execute_reply.started": "2022-11-16T13:59:50.976363Z"
    }
   },
   "outputs": [],
   "source": [
    "if not_catboost:\n",
    "    for i in best_model_scores.keys():\n",
    "        if i >= 0:\n",
    "            plt.plot([y_test.min(), y_test.max()], [y_test.min(), y_test.max()], 'r--', lw=3)\n",
    "            plt.scatter(y_test, best_model_predictions[i])\n",
    "            # plt.title(str(i) + \" \" + str(round(best_model_scores[i], 4)) + \" for \" + str(best_models[i]))\n",
    "            if len(best_models[i].keys()) < 30:\n",
    "                plt.title(str(i) + \" \" + str(round(best_model_scores[i], 4)) + \" for \" + str(best_models[i]))\n",
    "            else:\n",
    "                plt.title(str(i) + \" \" + str(round(best_model_scores[i], 4)) + \" for entry \" + str(i))\n",
    "            plt.show()\n",
    "\n",
    "    plt.plot([y_test.min(), y_test.max()], [y_test.min(), y_test.max()], 'r--', lw=3)\n",
    "    plt.scatter(y_test, best_model_predictions[-1])\n",
    "    # plt.title(str(i) + \" \" + str(round(best_model_scores[i], 4)) + \" for \" + str(best_models[i]))\n",
    "    if len(best_models[i].keys()) < 30:\n",
    "        plt.title(str(i) + \" \" + str(round(best_model_scores[-1], 4)) + \" for \" + str(best_models[-1]))\n",
    "    else:\n",
    "        plt.title(str(i) + \" \" + str(round(best_model_scores[-1], 4)) + \" for (worst) entry \" + str(i))\n",
    "\n",
    "    plt.show()"
   ]
  },
  {
   "cell_type": "code",
   "execution_count": 47,
   "metadata": {
    "execution": {
     "iopub.execute_input": "2022-11-16T13:59:52.094913Z",
     "iopub.status.busy": "2022-11-16T13:59:52.094003Z",
     "iopub.status.idle": "2022-11-16T13:59:52.600226Z",
     "shell.execute_reply": "2022-11-16T13:59:52.599392Z",
     "shell.execute_reply.started": "2022-11-16T13:59:52.094884Z"
    }
   },
   "outputs": [],
   "source": [
    "if not_catboost:\n",
    "    sns.set_theme(font_scale=2, rc=None)\n",
    "    sns.set_theme(font_scale=1, rc=None)\n",
    "\n",
    "    fig, axes = plt.subplots(ncols=3, figsize=(15, 5))\n",
    "\n",
    "    plt.subplots_adjust(hspace=0.2)\n",
    "    plt.subplots_adjust(wspace=0.2)\n",
    "\n",
    "    #.flatten()\n",
    "    coordinates = axes[0]\n",
    "    sns.lineplot(x=[y_test.min(), y_test.max()], y=[y_test.min(), y_test.max()], ax=axes[0], color='red')\n",
    "    sns.scatterplot(x=y_test.flatten(), y=best_model_predictions[0].flatten(), ax=axes[0],\n",
    "                    s=100).set(title=f'\"BEST\" model')\n",
    "\n",
    "    sns.lineplot(x=[y_test.min(), y_test.max()], y=[y_test.min(), y_test.max()], ax=axes[1], color='red')\n",
    "    sns.scatterplot(x=y_test.flatten(), y=best_model_predictions[-1].flatten(), ax=axes[1],\n",
    "                    s=100).set(title=f'\"WORST\" model')\n",
    "\n",
    "    sns.lineplot(x=[y_test.min(), y_test.max()], y=[y_test.min(), y_test.max()], ax=axes[2], color='red')\n",
    "    sns.scatterplot(x=y_test.flatten(), y=best_model_predictions[-1].flatten(), ax=axes[2],\n",
    "                    s=120, color='orange')\n",
    "    sns.scatterplot(x=y_test.flatten(), y=best_model_predictions[0].flatten(), ax=axes[2],\n",
    "                    s=30, alpha=0.6, color='black').set(\n",
    "        title='best (black) vs worst (orange)')\n",
    "    #title='best (orange) vs worst (black)')\n",
    "\n",
    "    fig.tight_layout()\n",
    "    plt.show()"
   ]
  },
  {
   "cell_type": "code",
   "execution_count": 48,
   "metadata": {
    "execution": {
     "iopub.execute_input": "2022-11-16T13:59:52.601421Z",
     "iopub.status.busy": "2022-11-16T13:59:52.601193Z",
     "iopub.status.idle": "2022-11-16T13:59:52.607786Z",
     "shell.execute_reply": "2022-11-16T13:59:52.606855Z",
     "shell.execute_reply.started": "2022-11-16T13:59:52.601400Z"
    }
   },
   "outputs": [
    {
     "data": {
      "text/plain": "''"
     },
     "execution_count": 48,
     "metadata": {},
     "output_type": "execute_result"
    }
   ],
   "source": [
    "if not_catboost:\n",
    "    cv_best_model_fit_time = cv_results_df_sorted.iloc[0][\"mean_fit_time\"]\n",
    "cv_best_model_fit_time if not_catboost else ''"
   ]
  },
  {
   "cell_type": "code",
   "execution_count": 49,
   "metadata": {
    "execution": {
     "iopub.execute_input": "2022-11-16T13:59:52.608845Z",
     "iopub.status.busy": "2022-11-16T13:59:52.608602Z",
     "iopub.status.idle": "2022-11-16T13:59:52.871012Z",
     "shell.execute_reply": "2022-11-16T13:59:52.870054Z",
     "shell.execute_reply.started": "2022-11-16T13:59:52.608825Z"
    }
   },
   "outputs": [
    {
     "name": "stdout",
     "output_type": "stream",
     "text": [
      "haven't scored this model yet: CatBoost\n",
      "(debug:do nothing)\n",
      "catboost (v09)\n"
     ]
    }
   ],
   "source": [
    "# <catboost.core.CatBoostRegressor object at 0x7fb167387490>\n",
    "# {'depth': 6}\n",
    "# defaultdict(<class 'list'>, {'iterations': [0, 1, 2],\n",
    "# 'test-RMSE-mean': [396884.9605444017, 359548.6632536235, 326027.84885587444],\n",
    "# 'test-RMSE-std': [308.9495320039113, 260.0967808594464, 219.65856329246023],\n",
    "# 'train-RMSE-mean': [396884.77936957515, 359542.3612912551, 326018.9404460669],\n",
    "# 'train-RMSE-std': [91.44140078375503, 86.77961380623475, 69.4038638987425]})\n",
    "\n",
    "cv_best_model_fit_time = cv_results_df_sorted.iloc[0][\"mean_fit_time\"] if not_catboost else 999\n",
    "\n",
    "DD2 = \"(\" + \",\".join(DATA_DETAIL) + \")\" if len(DATA_DETAIL) >= 1 else \"\"\n",
    "key = f'{ALGORITHM} (v{VERSION})'.lower()\n",
    "\n",
    "method =  f\"{ALGORITHM_DETAIL}{DD2}\"\n",
    "\n",
    "new_results = {\n",
    "    '_score': score,\n",
    "    'R square Accuracy': R2,\n",
    "    'Mean Absolute Error Accuracy': MAE,\n",
    "    'Mean Squared Error Accuracy': MSE,\n",
    "    'Root Mean Squared Error': RMSE,\n",
    "    '_train time': cv_best_model_fit_time,\n",
    "    'random_state': RANDOM_STATE,\n",
    "    'date': str(datetime.now()),\n",
    "    '_params': crossval_runner.best_params_ if not_catboost else cat_params,\n",
    "    '_method':method,\n",
    "    'run_env': run_env\n",
    "}\n",
    "\n",
    "if run_env not in ['colab']:\n",
    "    old_results_json = get_results()\n",
    "    try:\n",
    "        old_best_score = old_results_json[key]['best score']\n",
    "    except:\n",
    "        print(f\"haven't scored this model yet: {ALGORITHM}\")\n",
    "        old_best_score = -999\n",
    "    this_model_is_best = update_results(old_results_json, new_results, key)\n",
    "\n",
    "print(key)"
   ]
  },
  {
   "cell_type": "code",
   "execution_count": 50,
   "metadata": {
    "execution": {
     "iopub.execute_input": "2022-11-16T13:59:52.872732Z",
     "iopub.status.busy": "2022-11-16T13:59:52.872116Z",
     "iopub.status.idle": "2022-11-16T13:59:52.883681Z",
     "shell.execute_reply": "2022-11-16T13:59:52.882641Z",
     "shell.execute_reply.started": "2022-11-16T13:59:52.872708Z"
    }
   },
   "outputs": [
    {
     "data": {
      "text/plain": "''"
     },
     "execution_count": 50,
     "metadata": {},
     "output_type": "execute_result"
    }
   ],
   "source": [
    "crossval_runner.best_estimator_  if not_catboost else ''"
   ]
  },
  {
   "cell_type": "code",
   "execution_count": 51,
   "metadata": {
    "execution": {
     "iopub.execute_input": "2022-11-16T13:59:52.885380Z",
     "iopub.status.busy": "2022-11-16T13:59:52.885036Z",
     "iopub.status.idle": "2022-11-16T13:59:53.216677Z",
     "shell.execute_reply": "2022-11-16T13:59:53.215594Z",
     "shell.execute_reply.started": "2022-11-16T13:59:52.885349Z"
    }
   },
   "outputs": [
    {
     "name": "stdout",
     "output_type": "stream",
     "text": [
      "pickled new version of model\n",
      "0.6606217646329858 is new best score (it's better than -999)\n"
     ]
    }
   ],
   "source": [
    "if this_model_is_best:\n",
    "    with open(f'../../../models/optimised_model_{ALGORITHM}_v{VERSION}{DD2}.pkl', 'wb') as f:\n",
    "        if not_catboost:\n",
    "            pickle.dump(crossval_runner.best_estimator_, f)\n",
    "        else:\n",
    "            pickle.dump(starter_model, f)\n",
    "        print('pickled new version of model')\n",
    "        print(f\"{old_results_json[key]['_score']} is new best score (it's better than {old_best_score})\")\n",
    "        #print(results_json[key]['_score'], 'is an improvement on', results_json[key]['second best score'])\n",
    "else:\n",
    "    print(\"not updated saved model, the previous run was better\")\n",
    "    print(old_results_json[key]['_score'], 'is worse than or equal to', old_best_score)\n"
   ]
  },
  {
   "cell_type": "code",
   "execution_count": 52,
   "metadata": {
    "execution": {
     "iopub.execute_input": "2022-11-16T13:59:53.218033Z",
     "iopub.status.busy": "2022-11-16T13:59:53.217794Z",
     "iopub.status.idle": "2022-11-16T13:59:53.224486Z",
     "shell.execute_reply": "2022-11-16T13:59:53.223702Z",
     "shell.execute_reply.started": "2022-11-16T13:59:53.218013Z"
    }
   },
   "outputs": [
    {
     "name": "stdout",
     "output_type": "stream",
     "text": [
      "Feature Ranking:\n",
      "1. features 0 (30.168130) bedrooms\n",
      "2. features 5 (19.513097) latitude_deviation\n",
      "3. features 6 (15.897939) longitude_deviation\n",
      "4. features 4 (13.566416) location.longitude\n",
      "5. features 3 (8.551551) location.latitude\n",
      "6. features 7 (4.011372) tenure.tenureType\n",
      "7. features 1 (3.699905) bathrooms\n",
      "8. features 2 (3.538128) nearestStation\n",
      "9. features 9 (0.340652) feature__chain free\n",
      "10. features 8 (0.141803) feature__balcony\n",
      "11. features 14 (0.137491) feature__share of freehold\n",
      "12. features 13 (0.109243) feature__private balcony\n",
      "13. features 10 (0.102732) feature__no onward chain\n",
      "14. features 16 (0.067489) feature__two bedrooms\n",
      "15. features 11 (0.052913) feature__off street parking\n",
      "16. features 15 (0.042249) feature__three bedrooms\n",
      "17. features 12 (0.040860) feature__one bedroom\n",
      "18. features 17 (0.018031) feature__two double bedrooms\n"
     ]
    }
   ],
   "source": [
    "if 'tree' in ALGORITHM.lower() or 'forest' in ALGORITHM.lower() or 'boost' in ALGORITHM.lower():\n",
    "    feature_importances = crossval_runner.best_estimator_[-1].feature_importances_ if not_catboost else starter_model.get_feature_importance()\n",
    "    #std = np.std([tree.feature_importances_ for tree in model.estimators_], axis = 0)\n",
    "\n",
    "    indices = np.argsort(feature_importances)[::-1]\n",
    "\n",
    "    print('Feature Ranking:')\n",
    "\n",
    "    for f in range(X_train.shape[1]):\n",
    "        print('%d. features %d (%f)' % (f + 1, indices[f], feature_importances[indices[f]]),\n",
    "              df_features.columns[indices[f] + 1])\n",
    "else:\n",
    "    print(f'{ALGORITHM} does not have feature_importances, skipping')"
   ]
  },
  {
   "cell_type": "code",
   "execution_count": 53,
   "metadata": {
    "execution": {
     "iopub.execute_input": "2022-11-16T13:59:53.225586Z",
     "iopub.status.busy": "2022-11-16T13:59:53.225381Z",
     "iopub.status.idle": "2022-11-16T13:59:53.374100Z",
     "shell.execute_reply": "2022-11-16T13:59:53.373223Z",
     "shell.execute_reply.started": "2022-11-16T13:59:53.225567Z"
    }
   },
   "outputs": [
    {
     "data": {
      "text/plain": "<Figure size 432x288 with 1 Axes>",
      "image/png": "[encoded data removed]"
     },
     "metadata": {
      "needs_background": "light"
     },
     "output_type": "display_data"
    }
   ],
   "source": [
    "if 'tree' in ALGORITHM.lower() or 'forest' in ALGORITHM.lower() or 'boost' in ALGORITHM.lower():\n",
    "    indices = np.argsort(feature_importances)\n",
    "\n",
    "    fig, ax = plt.subplots()\n",
    "    ax.barh(range(len(feature_importances)), feature_importances[indices])\n",
    "    ax.set_yticks(range(len(feature_importances)))\n",
    "    _ = ax.set_yticklabels(df_features.columns[[c + 1 for c in indices]])\n",
    "else:\n",
    "    print(f'{ALGORITHM} does not have feature_importances, skipping')"
   ]
  },
  {
   "cell_type": "code",
   "execution_count": 53,
   "metadata": {
    "collapsed": false,
    "jupyter": {
     "outputs_hidden": false
    }
   },
   "outputs": [],
   "source": []
  }
 ],
 "metadata": {
  "kernelspec": {
   "display_name": "Python 3 (ipykernel)",
   "language": "python",
   "name": "python3"
  },
  "language_info": {
   "codemirror_mode": {
    "name": "ipython",
    "version": 3
   },
   "file_extension": ".py",
   "mimetype": "text/x-python",
   "name": "python",
   "nbconvert_exporter": "python",
   "pygments_lexer": "ipython3",
   "version": "3.9.13"
  }
 },
 "nbformat": 4,
 "nbformat_minor": 4
}
