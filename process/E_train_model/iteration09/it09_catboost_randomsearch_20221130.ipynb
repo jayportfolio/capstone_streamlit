{
 "cells": [
  {
   "cell_type": "code",
   "execution_count": 255,
   "metadata": {
    "execution": {
     "iopub.execute_input": "2022-11-16T13:53:27.249807Z",
     "iopub.status.busy": "2022-11-16T13:53:27.249148Z",
     "iopub.status.idle": "2022-11-16T13:53:27.255429Z",
     "shell.execute_reply": "2022-11-16T13:53:27.254275Z",
     "shell.execute_reply.started": "2022-11-16T13:53:27.249780Z"
    }
   },
   "outputs": [
    {
     "name": "stdout",
     "output_type": "stream",
     "text": [
      "ALGORITHM: CatBoost\n",
      "ALGORITHM_DETAIL: random search\n",
      "DATA_DETAIL: ['no dummies']\n",
      "DATA VERSION: 09\n"
     ]
    }
   ],
   "source": [
    "#ALGORITHM = 'Linear Regression (Ridge)'\n",
    "#ALGORITHM = 'KNN'\n",
    "#ALGORITHM = 'Decision Tree'\n",
    "#ALGORITHM = 'Random Forest'\n",
    "#ALGORITHM = 'XG Boost'\n",
    "ALGORITHM = 'CatBoost'\n",
    "#ALGORITHM = 'Light Gradient Boosting'\n",
    "\n",
    "ALGORITHM_DETAIL = 'random search'\n",
    "#DATA_DETAIL = []\n",
    "#DATA_DETAIL = ['explore param']\n",
    "#DATA_DETAIL = ['no scale','no dummies']\n",
    "DATA_DETAIL = ['no dummies'] if ALGORITHM.lower() == 'catboost' else ''\n",
    "VERSION = '09'\n",
    "#VERSION = '09'\n",
    "\n",
    "RANDOM_STATE = 101\n",
    "TRAINING_SIZE = 0.9\n",
    "\n",
    "CROSS_VALIDATION_SCORING = 'r2'\n",
    "\n",
    "print(f'ALGORITHM: {ALGORITHM}')\n",
    "print(f'ALGORITHM_DETAIL: {ALGORITHM_DETAIL}')\n",
    "print(f'DATA_DETAIL: {DATA_DETAIL}')\n",
    "print(f'DATA VERSION: {VERSION}')\n"
   ]
  },
  {
   "cell_type": "code",
   "execution_count": 256,
   "metadata": {
    "execution": {
     "iopub.execute_input": "2022-11-16T13:53:27.262780Z",
     "iopub.status.busy": "2022-11-16T13:53:27.262116Z",
     "iopub.status.idle": "2022-11-16T13:53:43.374795Z",
     "shell.execute_reply": "2022-11-16T13:53:43.374038Z",
     "shell.execute_reply.started": "2022-11-16T13:53:27.262757Z"
    }
   },
   "outputs": [
    {
     "name": "stdout",
     "output_type": "stream",
     "text": [
      "Requirement already satisfied: catboost in /usr/local/lib/python3.9/dist-packages (1.1.1)\r\n",
      "Requirement already satisfied: numpy>=1.16.0 in /usr/local/lib/python3.9/dist-packages (from catboost) (1.23.1)\r\n",
      "Requirement already satisfied: graphviz in /usr/local/lib/python3.9/dist-packages (from catboost) (0.20.1)\r\n",
      "Requirement already satisfied: scipy in /usr/local/lib/python3.9/dist-packages (from catboost) (1.8.1)\r\n",
      "Requirement already satisfied: pandas>=0.24.0 in /usr/local/lib/python3.9/dist-packages (from catboost) (1.4.3)\r\n",
      "Requirement already satisfied: plotly in /usr/local/lib/python3.9/dist-packages (from catboost) (5.11.0)\r\n",
      "Requirement already satisfied: matplotlib in /usr/local/lib/python3.9/dist-packages (from catboost) (3.5.2)\r\n",
      "Requirement already satisfied: six in /usr/lib/python3/dist-packages (from catboost) (1.14.0)\r\n",
      "Requirement already satisfied: pytz>=2020.1 in /usr/local/lib/python3.9/dist-packages (from pandas>=0.24.0->catboost) (2022.1)\r\n",
      "Requirement already satisfied: python-dateutil>=2.8.1 in /usr/local/lib/python3.9/dist-packages (from pandas>=0.24.0->catboost) (2.8.2)\r\n",
      "Requirement already satisfied: pyparsing>=2.2.1 in /usr/local/lib/python3.9/dist-packages (from matplotlib->catboost) (3.0.9)\r\n",
      "Requirement already satisfied: kiwisolver>=1.0.1 in /usr/local/lib/python3.9/dist-packages (from matplotlib->catboost) (1.4.3)\r\n",
      "Requirement already satisfied: fonttools>=4.22.0 in /usr/local/lib/python3.9/dist-packages (from matplotlib->catboost) (4.34.4)\r\n",
      "Requirement already satisfied: pillow>=6.2.0 in /usr/local/lib/python3.9/dist-packages (from matplotlib->catboost) (9.2.0)\r\n",
      "Requirement already satisfied: packaging>=20.0 in /usr/local/lib/python3.9/dist-packages (from matplotlib->catboost) (21.3)\r\n",
      "Requirement already satisfied: cycler>=0.10 in /usr/local/lib/python3.9/dist-packages (from matplotlib->catboost) (0.11.0)\r\n",
      "Requirement already satisfied: tenacity>=6.2.0 in /usr/local/lib/python3.9/dist-packages (from plotly->catboost) (8.1.0)\r\n",
      "\u001B[33mWARNING: Running pip as the 'root' user can result in broken permissions and conflicting behaviour with the system package manager. It is recommended to use a virtual environment instead: https://pip.pypa.io/warnings/venv\u001B[0m\u001B[33m\r\n",
      "\u001B[0mNote: you may need to restart the kernel to use updated packages.\n"
     ]
    }
   ],
   "source": [
    "if ALGORITHM == 'CatBoost':\n",
    "    %pip install catboost\n",
    "\n",
    "if ALGORITHM == 'Light Gradient Boosting':\n",
    "    %pip install lightgbm"
   ]
  },
  {
   "cell_type": "code",
   "execution_count": 256,
   "outputs": [],
   "source": [],
   "metadata": {
    "collapsed": false
   }
  },
  {
   "cell_type": "code",
   "execution_count": 257,
   "metadata": {
    "execution": {
     "iopub.execute_input": "2022-11-16T13:53:43.376775Z",
     "iopub.status.busy": "2022-11-16T13:53:43.376510Z",
     "iopub.status.idle": "2022-11-16T13:53:45.085035Z",
     "shell.execute_reply": "2022-11-16T13:53:45.084293Z",
     "shell.execute_reply.started": "2022-11-16T13:53:43.376747Z"
    }
   },
   "outputs": [
    {
     "name": "stdout",
     "output_type": "stream",
     "text": [
      "{'notebook_environment': 'gradient', 'use_gpu': True, 'debug_mode': False, 'quick_mode': False, 'quick_override_cv_splits': 2, 'quick_override_n_iter': 10, 'quick_override_n_jobs': 3}\n"
     ]
    }
   ],
   "source": [
    "from sklearn.impute import SimpleImputer\n",
    "import pandas as pd\n",
    "from sklearn.model_selection import train_test_split, RandomizedSearchCV, GridSearchCV\n",
    "import numpy as np\n",
    "from pandas import DataFrame\n",
    "import math\n",
    "from termcolor import colored\n",
    "from time import time\n",
    "import sklearn\n",
    "from sklearn.metrics import r2_score, mean_absolute_error, mean_squared_error\n",
    "from sklearn.metrics import r2_score\n",
    "import seaborn as sns\n",
    "import pickle\n",
    "\n",
    "import json\n",
    "from datetime import datetime\n",
    "import matplotlib.pyplot as plt\n",
    "\n",
    "with open('../../z_envs/_envs.json') as f:\n",
    "    env_vars = json.loads(f.read())\n",
    "print(env_vars)\n",
    "\n",
    "try:\n",
    "    import google.colab\n",
    "\n",
    "    run_env = 'colab'\n",
    "except:\n",
    "    try:\n",
    "        run_env = env_vars['notebook_environment']\n",
    "    except:\n",
    "        run_env = 'unknown'\n",
    "\n",
    "use_gpu = env_vars.get('use_gpu', False)\n",
    "debug_mode = env_vars.get('debug_mode', False)\n",
    "quick_mode = env_vars.get('quick_mode', False)\n",
    "OVERRIDE_CV = env_vars.get('quick_override_cv_splits', None) if quick_mode else None\n",
    "OVERRIDE_N_ITER = env_vars.get('quick_override_n_iter', None) if quick_mode else None\n",
    "OVERRIDE_JOBS = env_vars.get('quick_override_n_jobs', None) if quick_mode else None\n",
    "#if quick_mode:OVERRIDE_CV, OVERRIDE_N_ITER = 2, 10\n",
    "\n",
    "already_timed = False\n",
    "no_dummies = 'no dummies' in DATA_DETAIL\n",
    "no_scaling = 'no scaling' in DATA_DETAIL\n",
    "#not_catboost = 'catboost' not in ALGORITHM.lower() or not no_dummies\n",
    "not_catboost = 'catboost' not in ALGORITHM.lower()\n",
    "\n",
    "if run_env not in ['colab', 'gradient', 'cloud']:\n",
    "    cloud_run = False\n",
    "    from functions_b__get_the_data_20221116 import set_csv_directory\n",
    "    set_csv_directory('final_split')\n",
    "else:\n",
    "    cloud_run = True\n",
    "    import sys\n",
    "    import os\n",
    "\n",
    "    module_path = os.path.abspath(os.path.join('..', '..', '..'))\n",
    "    if module_path not in sys.path:\n",
    "        #sys.path.append(module_path+\"\\\\zfunctions\")\n",
    "        sys.path.append(module_path)\n",
    "\n",
    "from functions_0__common_20221116 import get_columns\n",
    "from functions_b__get_the_data_20221116 import get_combined_dataset\n",
    "from functions_d1__prepare_cleanse_data_20221116 import tidy_dataset\n",
    "from functions_d2__transform_enrich_data_20221116 import preprocess, feature_engineer\n",
    "from functions_d3__prepare_store_data_20221116 import create_train_test_data\n",
    "from functions_e__train_model_20221116 import get_chosen_model, make_modelling_pipeline, get_cv_params, fit_model_with_cross_validation, get_hyperparameters\n",
    "from functions_f_evaluate_model_20221116 import get_best_estimator_average_time, get_results, update_results\n",
    "\n"
   ]
  },
  {
   "cell_type": "code",
   "execution_count": 258,
   "outputs": [],
   "source": [
    "#OVERRIDE_N_ITER = 5"
   ],
   "metadata": {
    "collapsed": false
   }
  },
  {
   "cell_type": "code",
   "execution_count": 259,
   "metadata": {
    "execution": {
     "iopub.execute_input": "2022-11-16T13:53:45.086382Z",
     "iopub.status.busy": "2022-11-16T13:53:45.086022Z",
     "iopub.status.idle": "2022-11-16T13:53:45.092108Z",
     "shell.execute_reply": "2022-11-16T13:53:45.091330Z",
     "shell.execute_reply.started": "2022-11-16T13:53:45.086361Z"
    }
   },
   "outputs": [
    {
     "name": "stdout",
     "output_type": "stream",
     "text": [
      "\u001B[34mfeatures\u001B[0m ->  ['bedrooms', 'bathrooms', 'nearestStation', 'location.latitude', 'location.longitude', 'latitude_deviation', 'longitude_deviation', 'tenure.tenureType']\n",
      "\u001B[1m\u001B[32mlabel\u001B[0m ->  Price\n"
     ]
    }
   ],
   "source": [
    "#cutdown_rows = 1000\n",
    "cutdown_rows = 0\n",
    "\n",
    "LABEL = 'Price'\n",
    "\n",
    "columns, booleans, floats, categories, custom, wildcard = get_columns(version=VERSION)\n",
    "\n",
    "print(colored(f\"features\", \"blue\"), \"-> \", columns)\n",
    "columns.insert(0, LABEL)\n",
    "print(colored(f\"label\", \"green\", None, ['bold']), \"-> \", LABEL)"
   ]
  },
  {
   "cell_type": "code",
   "execution_count": 260,
   "metadata": {
    "collapsed": false,
    "execution": {
     "iopub.execute_input": "2022-11-29T21:13:26.061510Z",
     "iopub.status.busy": "2022-11-29T21:13:26.061266Z",
     "iopub.status.idle": "2022-11-29T21:13:26.076565Z",
     "shell.execute_reply": "2022-11-29T21:13:26.075207Z",
     "shell.execute_reply.started": "2022-11-29T21:13:26.061489Z"
    },
    "jupyter": {
     "outputs_hidden": false
    }
   },
   "outputs": [
    {
     "data": {
      "text/plain": "Pipeline(steps=[('std_scaler', StandardScaler()), ('model', None)])",
      "text/html": "<style>#sk-container-id-5 {color: black;background-color: white;}#sk-container-id-5 pre{padding: 0;}#sk-container-id-5 div.sk-toggleable {background-color: white;}#sk-container-id-5 label.sk-toggleable__label {cursor: pointer;display: block;width: 100%;margin-bottom: 0;padding: 0.3em;box-sizing: border-box;text-align: center;}#sk-container-id-5 label.sk-toggleable__label-arrow:before {content: \"▸\";float: left;margin-right: 0.25em;color: #696969;}#sk-container-id-5 label.sk-toggleable__label-arrow:hover:before {color: black;}#sk-container-id-5 div.sk-estimator:hover label.sk-toggleable__label-arrow:before {color: black;}#sk-container-id-5 div.sk-toggleable__content {max-height: 0;max-width: 0;overflow: hidden;text-align: left;background-color: #f0f8ff;}#sk-container-id-5 div.sk-toggleable__content pre {margin: 0.2em;color: black;border-radius: 0.25em;background-color: #f0f8ff;}#sk-container-id-5 input.sk-toggleable__control:checked~div.sk-toggleable__content {max-height: 200px;max-width: 100%;overflow: auto;}#sk-container-id-5 input.sk-toggleable__control:checked~label.sk-toggleable__label-arrow:before {content: \"▾\";}#sk-container-id-5 div.sk-estimator input.sk-toggleable__control:checked~label.sk-toggleable__label {background-color: #d4ebff;}#sk-container-id-5 div.sk-label input.sk-toggleable__control:checked~label.sk-toggleable__label {background-color: #d4ebff;}#sk-container-id-5 input.sk-hidden--visually {border: 0;clip: rect(1px 1px 1px 1px);clip: rect(1px, 1px, 1px, 1px);height: 1px;margin: -1px;overflow: hidden;padding: 0;position: absolute;width: 1px;}#sk-container-id-5 div.sk-estimator {font-family: monospace;background-color: #f0f8ff;border: 1px dotted black;border-radius: 0.25em;box-sizing: border-box;margin-bottom: 0.5em;}#sk-container-id-5 div.sk-estimator:hover {background-color: #d4ebff;}#sk-container-id-5 div.sk-parallel-item::after {content: \"\";width: 100%;border-bottom: 1px solid gray;flex-grow: 1;}#sk-container-id-5 div.sk-label:hover label.sk-toggleable__label {background-color: #d4ebff;}#sk-container-id-5 div.sk-serial::before {content: \"\";position: absolute;border-left: 1px solid gray;box-sizing: border-box;top: 0;bottom: 0;left: 50%;z-index: 0;}#sk-container-id-5 div.sk-serial {display: flex;flex-direction: column;align-items: center;background-color: white;padding-right: 0.2em;padding-left: 0.2em;position: relative;}#sk-container-id-5 div.sk-item {position: relative;z-index: 1;}#sk-container-id-5 div.sk-parallel {display: flex;align-items: stretch;justify-content: center;background-color: white;position: relative;}#sk-container-id-5 div.sk-item::before, #sk-container-id-5 div.sk-parallel-item::before {content: \"\";position: absolute;border-left: 1px solid gray;box-sizing: border-box;top: 0;bottom: 0;left: 50%;z-index: -1;}#sk-container-id-5 div.sk-parallel-item {display: flex;flex-direction: column;z-index: 1;position: relative;background-color: white;}#sk-container-id-5 div.sk-parallel-item:first-child::after {align-self: flex-end;width: 50%;}#sk-container-id-5 div.sk-parallel-item:last-child::after {align-self: flex-start;width: 50%;}#sk-container-id-5 div.sk-parallel-item:only-child::after {width: 0;}#sk-container-id-5 div.sk-dashed-wrapped {border: 1px dashed gray;margin: 0 0.4em 0.5em 0.4em;box-sizing: border-box;padding-bottom: 0.4em;background-color: white;}#sk-container-id-5 div.sk-label label {font-family: monospace;font-weight: bold;display: inline-block;line-height: 1.2em;}#sk-container-id-5 div.sk-label-container {text-align: center;}#sk-container-id-5 div.sk-container {/* jupyter's `normalize.less` sets `[hidden] { display: none; }` but bootstrap.min.css set `[hidden] { display: none !important; }` so we also need the `!important` here to be able to override the default hidden behavior on the sphinx rendered scikit-learn.org. See: https://github.com/scikit-learn/scikit-learn/issues/21755 */display: inline-block !important;position: relative;}#sk-container-id-5 div.sk-text-repr-fallback {display: none;}</style><div id=\"sk-container-id-5\" class=\"sk-top-container\"><div class=\"sk-text-repr-fallback\"><pre>Pipeline(steps=[(&#x27;std_scaler&#x27;, StandardScaler()), (&#x27;model&#x27;, None)])</pre><b>In a Jupyter environment, please rerun this cell to show the HTML representation or trust the notebook. <br />On GitHub, the HTML representation is unable to render, please try loading this page with nbviewer.org.</b></div><div class=\"sk-container\" hidden><div class=\"sk-item sk-dashed-wrapped\"><div class=\"sk-label-container\"><div class=\"sk-label sk-toggleable\"><input class=\"sk-toggleable__control sk-hidden--visually\" id=\"sk-estimator-id-13\" type=\"checkbox\" ><label for=\"sk-estimator-id-13\" class=\"sk-toggleable__label sk-toggleable__label-arrow\">Pipeline</label><div class=\"sk-toggleable__content\"><pre>Pipeline(steps=[(&#x27;std_scaler&#x27;, StandardScaler()), (&#x27;model&#x27;, None)])</pre></div></div></div><div class=\"sk-serial\"><div class=\"sk-item\"><div class=\"sk-estimator sk-toggleable\"><input class=\"sk-toggleable__control sk-hidden--visually\" id=\"sk-estimator-id-14\" type=\"checkbox\" ><label for=\"sk-estimator-id-14\" class=\"sk-toggleable__label sk-toggleable__label-arrow\">StandardScaler</label><div class=\"sk-toggleable__content\"><pre>StandardScaler()</pre></div></div></div><div class=\"sk-item\"><div class=\"sk-estimator sk-toggleable\"><input class=\"sk-toggleable__control sk-hidden--visually\" id=\"sk-estimator-id-15\" type=\"checkbox\" ><label for=\"sk-estimator-id-15\" class=\"sk-toggleable__label sk-toggleable__label-arrow\">None</label><div class=\"sk-toggleable__content\"><pre>None</pre></div></div></div></div></div></div></div>"
     },
     "execution_count": 260,
     "metadata": {},
     "output_type": "execute_result"
    }
   ],
   "source": [
    "from sklearn.pipeline import Pipeline\n",
    "from sklearn.preprocessing import MinMaxScaler, StandardScaler\n",
    "\n",
    "\n",
    "def make_pipeline():\n",
    "    return Pipeline([\n",
    "        #('mms', MinMaxScaler()),\n",
    "        ('std_scaler', StandardScaler()),\n",
    "        ('model', get_chosen_model(ALGORITHM))\n",
    "    ])\n",
    "\n",
    "\n",
    "starter_pipe = make_pipeline()\n",
    "starter_pipe"
   ]
  },
  {
   "cell_type": "code",
   "execution_count": 261,
   "metadata": {
    "execution": {
     "iopub.execute_input": "2022-11-16T13:53:45.125489Z",
     "iopub.status.busy": "2022-11-16T13:53:45.125277Z",
     "iopub.status.idle": "2022-11-16T13:53:45.130895Z",
     "shell.execute_reply": "2022-11-16T13:53:45.130188Z",
     "shell.execute_reply.started": "2022-11-16T13:53:45.125470Z"
    }
   },
   "outputs": [],
   "source": [
    "def get_source_dataframe(rows=cutdown_rows, folder_prefix='../../../'):\n",
    "    retrieval_type = None\n",
    "\n",
    "    filename = f'df_listings_v{VERSION}.csv'\n",
    "    remote_pathname = f'https://raw.githubusercontent.com/jayportfolio/capstone_streamlit/main/data/final/{filename}'\n",
    "    df_pathname_raw = folder_prefix + f'data/source/{filename}'\n",
    "    df_pathname_tidy = folder_prefix + f'data/final/{filename}'\n",
    "\n",
    "    if cloud_run:\n",
    "        inDF = pd.read_csv(remote_pathname, on_bad_lines='error', index_col=0)\n",
    "        retrieval_type = 'tidy'\n",
    "        print('loaded data from', folder_prefix + remote_pathname)\n",
    "    else:\n",
    "        inDF = pd.read_csv(df_pathname_tidy, on_bad_lines='error', index_col=0)\n",
    "        retrieval_type = 'tidy'\n",
    "        print('loaded data from', df_pathname_tidy)\n",
    "\n",
    "    if rows and rows > 0:\n",
    "        inDF = inDF[:rows]\n",
    "    return inDF, retrieval_type"
   ]
  },
  {
   "cell_type": "code",
   "execution_count": 262,
   "metadata": {
    "execution": {
     "iopub.execute_input": "2022-11-16T13:53:45.132049Z",
     "iopub.status.busy": "2022-11-16T13:53:45.131848Z",
     "iopub.status.idle": "2022-11-16T13:53:45.525582Z",
     "shell.execute_reply": "2022-11-16T13:53:45.524903Z",
     "shell.execute_reply.started": "2022-11-16T13:53:45.132030Z"
    }
   },
   "outputs": [
    {
     "name": "stdout",
     "output_type": "stream",
     "text": [
      "loaded data from ../../../https://raw.githubusercontent.com/jayportfolio/capstone_streamlit/main/data/final/df_listings_v09.csv\n",
      "(46871, 19)\n"
     ]
    }
   ],
   "source": [
    "df, retrieval_type = get_source_dataframe(folder_prefix='../../../')\n",
    "df_orig = df.copy()\n",
    "\n",
    "if retrieval_type != 'tidy':\n",
    "    df = tidy_dataset(df, version=int(VERSION))\n",
    "    df = feature_engineer(df, version=int(VERSION))\n",
    "\n",
    "    df = df[columns]\n",
    "\n",
    "print(df.shape)"
   ]
  },
  {
   "cell_type": "code",
   "execution_count": 263,
   "metadata": {
    "execution": {
     "iopub.execute_input": "2022-11-16T13:53:45.526718Z",
     "iopub.status.busy": "2022-11-16T13:53:45.526472Z",
     "iopub.status.idle": "2022-11-16T13:53:45.548777Z",
     "shell.execute_reply": "2022-11-16T13:53:45.548195Z",
     "shell.execute_reply.started": "2022-11-16T13:53:45.526696Z"
    }
   },
   "outputs": [
    {
     "data": {
      "text/plain": "             Price  bedrooms  bathrooms  nearestStation  location.latitude  \\\n14520525  550000.0       3.0        1.0        0.274316          51.529950   \n27953107  400000.0       2.0        2.0        0.305845          51.549390   \n33593487  579950.0       2.0        1.0        0.438045          51.447180   \n35271294  370000.0       2.0        1.0        0.399307          51.449568   \n35429088  599950.0       2.0        1.0        0.238187          51.577030   \n44749111  475000.0       2.0        1.0        0.410550          51.370050   \n46204665  435000.0       3.0        2.0        0.314779          51.539070   \n49020666  200000.0       1.0        1.0        0.875911          51.539959   \n49036279  275000.0       2.0        1.0        0.474368          51.541780   \n49303873  450000.0       3.0        2.0        0.577040          51.524880   \n52064391  349950.0       2.0        2.0        0.212734          51.470800   \n52187854  450000.0       1.0        1.0        0.446802          51.527199   \n52675628  490000.0       2.0        2.0        0.215040          51.501114   \n52845963  200000.0       2.0        1.0        0.650562          51.398040   \n52913496  220000.0       1.0        1.0        0.945991          51.539383   \n53609433  489995.0       1.0        1.0        0.087081          51.532620   \n53649578  284950.0       1.0        1.0        0.806597          51.479890   \n53938989  450000.0       2.0        1.0        0.775203          51.658287   \n54713232  332000.0       2.0        1.0        0.319226          51.612300   \n54904122  365000.0       2.0        1.0        0.260722          51.593595   \n54991934  430000.0       3.0        1.0        0.497268          51.528720   \n55043230  260000.0       1.0        1.0        0.384607          51.544430   \n55187658  430000.0       2.0        2.0        0.289033          51.507570   \n55531367  599950.0       2.0        1.0        0.406725          51.467410   \n55768232  550000.0       2.0        1.0        0.478349          51.472890   \n55805965  280000.0       2.0        1.0        0.742859          51.520910   \n55839051  599950.0       2.0        1.0        0.259168          51.579186   \n55940994  385000.0       2.0        2.0        0.403987          51.376930   \n56449305  380000.0       2.0        1.0        0.310271          51.600483   \n57221413  475000.0       3.0        2.0        0.409784          51.497260   \n\n          location.longitude  latitude_deviation  longitude_deviation  \\\n14520525           -0.207020            0.030230             0.102600   \n27953107           -0.482600            0.049670             0.378180   \n33593487           -0.338770            0.052540             0.234350   \n35271294           -0.140154            0.050152             0.035734   \n35429088           -0.141230            0.077310             0.036810   \n44749111           -0.212410            0.129670             0.107990   \n46204665           -0.198935            0.039350             0.094515   \n49020666           -0.380863            0.040239             0.276443   \n49036279            0.037890            0.042060             0.142310   \n49303873            0.187200            0.025160             0.291620   \n52064391           -0.361820            0.028920             0.257400   \n52187854           -0.202898            0.027479             0.098478   \n52675628            0.026315            0.001394             0.130735   \n52845963           -0.076812            0.101680             0.027608   \n52913496           -0.382239            0.039663             0.277819   \n53609433           -0.107860            0.032900             0.003440   \n53649578           -0.078500            0.019830             0.025920   \n53938989           -0.207902            0.158567             0.103482   \n54713232           -0.119860            0.112580             0.015440   \n54904122            0.022046            0.093875             0.126466   \n54991934            0.039180            0.029000             0.143600   \n55043230            0.014500            0.044710             0.118920   \n55187658            0.078030            0.007850             0.182450   \n55531367           -0.079170            0.032310             0.025250   \n55768232           -0.078940            0.026830             0.025480   \n55805965            0.022680            0.021190             0.127100   \n55839051           -0.209020            0.079466             0.104600   \n55940994           -0.238870            0.122790             0.134450   \n56449305           -0.062096            0.100763             0.042324   \n57221413           -0.422530            0.002460             0.318110   \n\n          tenure.tenureType  feature__balcony  feature__chain free  \\\n14520525          LEASEHOLD                 0                    0   \n27953107          LEASEHOLD                 1                    0   \n33593487           FREEHOLD                 0                    0   \n35271294          LEASEHOLD                 1                    0   \n35429088                NaN                 0                    0   \n44749111           FREEHOLD                 0                    0   \n46204665          LEASEHOLD                 0                    0   \n49020666          LEASEHOLD                 0                    0   \n49036279          LEASEHOLD                 0                    0   \n49303873           FREEHOLD                 0                    0   \n52064391          LEASEHOLD                 0                    0   \n52187854          LEASEHOLD                 0                    0   \n52675628                NaN                 0                    0   \n52845963          LEASEHOLD                 0                    0   \n52913496          LEASEHOLD                 0                    1   \n53609433          LEASEHOLD                 0                    0   \n53649578                NaN                 0                    0   \n53938989           FREEHOLD                 0                    0   \n54713232  SHARE_OF_FREEHOLD                 0                    0   \n54904122  SHARE_OF_FREEHOLD                 0                    0   \n54991934           FREEHOLD                 0                    0   \n55043230          LEASEHOLD                 0                    0   \n55187658          LEASEHOLD                 0                    0   \n55531367                NaN                 1                    0   \n55768232                NaN                 0                    0   \n55805965          LEASEHOLD                 0                    0   \n55839051          LEASEHOLD                 0                    0   \n55940994          LEASEHOLD                 0                    0   \n56449305           FREEHOLD                 0                    0   \n57221413           FREEHOLD                 0                    0   \n\n          feature__no onward chain  feature__off street parking  \\\n14520525                         0                            0   \n27953107                         0                            0   \n33593487                         1                            0   \n35271294                         0                            0   \n35429088                         0                            0   \n44749111                         0                            0   \n46204665                         0                            0   \n49020666                         0                            0   \n49036279                         0                            0   \n49303873                         0                            0   \n52064391                         0                            0   \n52187854                         0                            0   \n52675628                         0                            0   \n52845963                         0                            0   \n52913496                         0                            0   \n53609433                         0                            0   \n53649578                         0                            0   \n53938989                         0                            0   \n54713232                         0                            0   \n54904122                         0                            0   \n54991934                         0                            0   \n55043230                         0                            0   \n55187658                         0                            0   \n55531367                         0                            0   \n55768232                         0                            0   \n55805965                         0                            0   \n55839051                         0                            0   \n55940994                         0                            0   \n56449305                         0                            0   \n57221413                         0                            0   \n\n          feature__one bedroom  feature__private balcony  \\\n14520525                     0                         1   \n27953107                     0                         0   \n33593487                     0                         0   \n35271294                     0                         0   \n35429088                     0                         0   \n44749111                     0                         0   \n46204665                     0                         0   \n49020666                     1                         0   \n49036279                     0                         0   \n49303873                     0                         0   \n52064391                     0                         1   \n52187854                     0                         0   \n52675628                     0                         0   \n52845963                     0                         0   \n52913496                     0                         0   \n53609433                     0                         0   \n53649578                     0                         0   \n53938989                     0                         0   \n54713232                     0                         0   \n54904122                     0                         0   \n54991934                     0                         0   \n55043230                     0                         0   \n55187658                     0                         0   \n55531367                     0                         0   \n55768232                     0                         0   \n55805965                     0                         0   \n55839051                     0                         0   \n55940994                     0                         0   \n56449305                     0                         0   \n57221413                     0                         0   \n\n          feature__share of freehold  feature__three bedrooms  \\\n14520525                           0                        0   \n27953107                           0                        0   \n33593487                           0                        0   \n35271294                           0                        0   \n35429088                           0                        0   \n44749111                           0                        0   \n46204665                           0                        1   \n49020666                           0                        0   \n49036279                           0                        0   \n49303873                           0                        0   \n52064391                           0                        0   \n52187854                           0                        0   \n52675628                           0                        0   \n52845963                           0                        0   \n52913496                           0                        0   \n53609433                           0                        0   \n53649578                           0                        0   \n53938989                           0                        0   \n54713232                           0                        0   \n54904122                           1                        0   \n54991934                           0                        0   \n55043230                           0                        0   \n55187658                           0                        0   \n55531367                           0                        0   \n55768232                           0                        0   \n55805965                           0                        0   \n55839051                           0                        0   \n55940994                           0                        0   \n56449305                           0                        0   \n57221413                           0                        1   \n\n          feature__two bedrooms  feature__two double bedrooms  \n14520525                      0                             0  \n27953107                      0                             1  \n33593487                      0                             0  \n35271294                      0                             0  \n35429088                      0                             0  \n44749111                      0                             0  \n46204665                      0                             0  \n49020666                      0                             0  \n49036279                      0                             0  \n49303873                      0                             0  \n52064391                      1                             0  \n52187854                      0                             0  \n52675628                      0                             0  \n52845963                      0                             0  \n52913496                      0                             0  \n53609433                      0                             0  \n53649578                      0                             0  \n53938989                      0                             0  \n54713232                      0                             0  \n54904122                      0                             0  \n54991934                      0                             0  \n55043230                      0                             0  \n55187658                      0                             0  \n55531367                      0                             1  \n55768232                      0                             0  \n55805965                      0                             0  \n55839051                      0                             0  \n55940994                      1                             0  \n56449305                      1                             0  \n57221413                      0                             0  ",
      "text/html": "<div>\n<style scoped>\n    .dataframe tbody tr th:only-of-type {\n        vertical-align: middle;\n    }\n\n    .dataframe tbody tr th {\n        vertical-align: top;\n    }\n\n    .dataframe thead th {\n        text-align: right;\n    }\n</style>\n<table border=\"1\" class=\"dataframe\">\n  <thead>\n    <tr style=\"text-align: right;\">\n      <th></th>\n      <th>Price</th>\n      <th>bedrooms</th>\n      <th>bathrooms</th>\n      <th>nearestStation</th>\n      <th>location.latitude</th>\n      <th>location.longitude</th>\n      <th>latitude_deviation</th>\n      <th>longitude_deviation</th>\n      <th>tenure.tenureType</th>\n      <th>feature__balcony</th>\n      <th>feature__chain free</th>\n      <th>feature__no onward chain</th>\n      <th>feature__off street parking</th>\n      <th>feature__one bedroom</th>\n      <th>feature__private balcony</th>\n      <th>feature__share of freehold</th>\n      <th>feature__three bedrooms</th>\n      <th>feature__two bedrooms</th>\n      <th>feature__two double bedrooms</th>\n    </tr>\n  </thead>\n  <tbody>\n    <tr>\n      <th>14520525</th>\n      <td>550000.0</td>\n      <td>3.0</td>\n      <td>1.0</td>\n      <td>0.274316</td>\n      <td>51.529950</td>\n      <td>-0.207020</td>\n      <td>0.030230</td>\n      <td>0.102600</td>\n      <td>LEASEHOLD</td>\n      <td>0</td>\n      <td>0</td>\n      <td>0</td>\n      <td>0</td>\n      <td>0</td>\n      <td>1</td>\n      <td>0</td>\n      <td>0</td>\n      <td>0</td>\n      <td>0</td>\n    </tr>\n    <tr>\n      <th>27953107</th>\n      <td>400000.0</td>\n      <td>2.0</td>\n      <td>2.0</td>\n      <td>0.305845</td>\n      <td>51.549390</td>\n      <td>-0.482600</td>\n      <td>0.049670</td>\n      <td>0.378180</td>\n      <td>LEASEHOLD</td>\n      <td>1</td>\n      <td>0</td>\n      <td>0</td>\n      <td>0</td>\n      <td>0</td>\n      <td>0</td>\n      <td>0</td>\n      <td>0</td>\n      <td>0</td>\n      <td>1</td>\n    </tr>\n    <tr>\n      <th>33593487</th>\n      <td>579950.0</td>\n      <td>2.0</td>\n      <td>1.0</td>\n      <td>0.438045</td>\n      <td>51.447180</td>\n      <td>-0.338770</td>\n      <td>0.052540</td>\n      <td>0.234350</td>\n      <td>FREEHOLD</td>\n      <td>0</td>\n      <td>0</td>\n      <td>1</td>\n      <td>0</td>\n      <td>0</td>\n      <td>0</td>\n      <td>0</td>\n      <td>0</td>\n      <td>0</td>\n      <td>0</td>\n    </tr>\n    <tr>\n      <th>35271294</th>\n      <td>370000.0</td>\n      <td>2.0</td>\n      <td>1.0</td>\n      <td>0.399307</td>\n      <td>51.449568</td>\n      <td>-0.140154</td>\n      <td>0.050152</td>\n      <td>0.035734</td>\n      <td>LEASEHOLD</td>\n      <td>1</td>\n      <td>0</td>\n      <td>0</td>\n      <td>0</td>\n      <td>0</td>\n      <td>0</td>\n      <td>0</td>\n      <td>0</td>\n      <td>0</td>\n      <td>0</td>\n    </tr>\n    <tr>\n      <th>35429088</th>\n      <td>599950.0</td>\n      <td>2.0</td>\n      <td>1.0</td>\n      <td>0.238187</td>\n      <td>51.577030</td>\n      <td>-0.141230</td>\n      <td>0.077310</td>\n      <td>0.036810</td>\n      <td>NaN</td>\n      <td>0</td>\n      <td>0</td>\n      <td>0</td>\n      <td>0</td>\n      <td>0</td>\n      <td>0</td>\n      <td>0</td>\n      <td>0</td>\n      <td>0</td>\n      <td>0</td>\n    </tr>\n    <tr>\n      <th>44749111</th>\n      <td>475000.0</td>\n      <td>2.0</td>\n      <td>1.0</td>\n      <td>0.410550</td>\n      <td>51.370050</td>\n      <td>-0.212410</td>\n      <td>0.129670</td>\n      <td>0.107990</td>\n      <td>FREEHOLD</td>\n      <td>0</td>\n      <td>0</td>\n      <td>0</td>\n      <td>0</td>\n      <td>0</td>\n      <td>0</td>\n      <td>0</td>\n      <td>0</td>\n      <td>0</td>\n      <td>0</td>\n    </tr>\n    <tr>\n      <th>46204665</th>\n      <td>435000.0</td>\n      <td>3.0</td>\n      <td>2.0</td>\n      <td>0.314779</td>\n      <td>51.539070</td>\n      <td>-0.198935</td>\n      <td>0.039350</td>\n      <td>0.094515</td>\n      <td>LEASEHOLD</td>\n      <td>0</td>\n      <td>0</td>\n      <td>0</td>\n      <td>0</td>\n      <td>0</td>\n      <td>0</td>\n      <td>0</td>\n      <td>1</td>\n      <td>0</td>\n      <td>0</td>\n    </tr>\n    <tr>\n      <th>49020666</th>\n      <td>200000.0</td>\n      <td>1.0</td>\n      <td>1.0</td>\n      <td>0.875911</td>\n      <td>51.539959</td>\n      <td>-0.380863</td>\n      <td>0.040239</td>\n      <td>0.276443</td>\n      <td>LEASEHOLD</td>\n      <td>0</td>\n      <td>0</td>\n      <td>0</td>\n      <td>0</td>\n      <td>1</td>\n      <td>0</td>\n      <td>0</td>\n      <td>0</td>\n      <td>0</td>\n      <td>0</td>\n    </tr>\n    <tr>\n      <th>49036279</th>\n      <td>275000.0</td>\n      <td>2.0</td>\n      <td>1.0</td>\n      <td>0.474368</td>\n      <td>51.541780</td>\n      <td>0.037890</td>\n      <td>0.042060</td>\n      <td>0.142310</td>\n      <td>LEASEHOLD</td>\n      <td>0</td>\n      <td>0</td>\n      <td>0</td>\n      <td>0</td>\n      <td>0</td>\n      <td>0</td>\n      <td>0</td>\n      <td>0</td>\n      <td>0</td>\n      <td>0</td>\n    </tr>\n    <tr>\n      <th>49303873</th>\n      <td>450000.0</td>\n      <td>3.0</td>\n      <td>2.0</td>\n      <td>0.577040</td>\n      <td>51.524880</td>\n      <td>0.187200</td>\n      <td>0.025160</td>\n      <td>0.291620</td>\n      <td>FREEHOLD</td>\n      <td>0</td>\n      <td>0</td>\n      <td>0</td>\n      <td>0</td>\n      <td>0</td>\n      <td>0</td>\n      <td>0</td>\n      <td>0</td>\n      <td>0</td>\n      <td>0</td>\n    </tr>\n    <tr>\n      <th>52064391</th>\n      <td>349950.0</td>\n      <td>2.0</td>\n      <td>2.0</td>\n      <td>0.212734</td>\n      <td>51.470800</td>\n      <td>-0.361820</td>\n      <td>0.028920</td>\n      <td>0.257400</td>\n      <td>LEASEHOLD</td>\n      <td>0</td>\n      <td>0</td>\n      <td>0</td>\n      <td>0</td>\n      <td>0</td>\n      <td>1</td>\n      <td>0</td>\n      <td>0</td>\n      <td>1</td>\n      <td>0</td>\n    </tr>\n    <tr>\n      <th>52187854</th>\n      <td>450000.0</td>\n      <td>1.0</td>\n      <td>1.0</td>\n      <td>0.446802</td>\n      <td>51.527199</td>\n      <td>-0.202898</td>\n      <td>0.027479</td>\n      <td>0.098478</td>\n      <td>LEASEHOLD</td>\n      <td>0</td>\n      <td>0</td>\n      <td>0</td>\n      <td>0</td>\n      <td>0</td>\n      <td>0</td>\n      <td>0</td>\n      <td>0</td>\n      <td>0</td>\n      <td>0</td>\n    </tr>\n    <tr>\n      <th>52675628</th>\n      <td>490000.0</td>\n      <td>2.0</td>\n      <td>2.0</td>\n      <td>0.215040</td>\n      <td>51.501114</td>\n      <td>0.026315</td>\n      <td>0.001394</td>\n      <td>0.130735</td>\n      <td>NaN</td>\n      <td>0</td>\n      <td>0</td>\n      <td>0</td>\n      <td>0</td>\n      <td>0</td>\n      <td>0</td>\n      <td>0</td>\n      <td>0</td>\n      <td>0</td>\n      <td>0</td>\n    </tr>\n    <tr>\n      <th>52845963</th>\n      <td>200000.0</td>\n      <td>2.0</td>\n      <td>1.0</td>\n      <td>0.650562</td>\n      <td>51.398040</td>\n      <td>-0.076812</td>\n      <td>0.101680</td>\n      <td>0.027608</td>\n      <td>LEASEHOLD</td>\n      <td>0</td>\n      <td>0</td>\n      <td>0</td>\n      <td>0</td>\n      <td>0</td>\n      <td>0</td>\n      <td>0</td>\n      <td>0</td>\n      <td>0</td>\n      <td>0</td>\n    </tr>\n    <tr>\n      <th>52913496</th>\n      <td>220000.0</td>\n      <td>1.0</td>\n      <td>1.0</td>\n      <td>0.945991</td>\n      <td>51.539383</td>\n      <td>-0.382239</td>\n      <td>0.039663</td>\n      <td>0.277819</td>\n      <td>LEASEHOLD</td>\n      <td>0</td>\n      <td>1</td>\n      <td>0</td>\n      <td>0</td>\n      <td>0</td>\n      <td>0</td>\n      <td>0</td>\n      <td>0</td>\n      <td>0</td>\n      <td>0</td>\n    </tr>\n    <tr>\n      <th>53609433</th>\n      <td>489995.0</td>\n      <td>1.0</td>\n      <td>1.0</td>\n      <td>0.087081</td>\n      <td>51.532620</td>\n      <td>-0.107860</td>\n      <td>0.032900</td>\n      <td>0.003440</td>\n      <td>LEASEHOLD</td>\n      <td>0</td>\n      <td>0</td>\n      <td>0</td>\n      <td>0</td>\n      <td>0</td>\n      <td>0</td>\n      <td>0</td>\n      <td>0</td>\n      <td>0</td>\n      <td>0</td>\n    </tr>\n    <tr>\n      <th>53649578</th>\n      <td>284950.0</td>\n      <td>1.0</td>\n      <td>1.0</td>\n      <td>0.806597</td>\n      <td>51.479890</td>\n      <td>-0.078500</td>\n      <td>0.019830</td>\n      <td>0.025920</td>\n      <td>NaN</td>\n      <td>0</td>\n      <td>0</td>\n      <td>0</td>\n      <td>0</td>\n      <td>0</td>\n      <td>0</td>\n      <td>0</td>\n      <td>0</td>\n      <td>0</td>\n      <td>0</td>\n    </tr>\n    <tr>\n      <th>53938989</th>\n      <td>450000.0</td>\n      <td>2.0</td>\n      <td>1.0</td>\n      <td>0.775203</td>\n      <td>51.658287</td>\n      <td>-0.207902</td>\n      <td>0.158567</td>\n      <td>0.103482</td>\n      <td>FREEHOLD</td>\n      <td>0</td>\n      <td>0</td>\n      <td>0</td>\n      <td>0</td>\n      <td>0</td>\n      <td>0</td>\n      <td>0</td>\n      <td>0</td>\n      <td>0</td>\n      <td>0</td>\n    </tr>\n    <tr>\n      <th>54713232</th>\n      <td>332000.0</td>\n      <td>2.0</td>\n      <td>1.0</td>\n      <td>0.319226</td>\n      <td>51.612300</td>\n      <td>-0.119860</td>\n      <td>0.112580</td>\n      <td>0.015440</td>\n      <td>SHARE_OF_FREEHOLD</td>\n      <td>0</td>\n      <td>0</td>\n      <td>0</td>\n      <td>0</td>\n      <td>0</td>\n      <td>0</td>\n      <td>0</td>\n      <td>0</td>\n      <td>0</td>\n      <td>0</td>\n    </tr>\n    <tr>\n      <th>54904122</th>\n      <td>365000.0</td>\n      <td>2.0</td>\n      <td>1.0</td>\n      <td>0.260722</td>\n      <td>51.593595</td>\n      <td>0.022046</td>\n      <td>0.093875</td>\n      <td>0.126466</td>\n      <td>SHARE_OF_FREEHOLD</td>\n      <td>0</td>\n      <td>0</td>\n      <td>0</td>\n      <td>0</td>\n      <td>0</td>\n      <td>0</td>\n      <td>1</td>\n      <td>0</td>\n      <td>0</td>\n      <td>0</td>\n    </tr>\n    <tr>\n      <th>54991934</th>\n      <td>430000.0</td>\n      <td>3.0</td>\n      <td>1.0</td>\n      <td>0.497268</td>\n      <td>51.528720</td>\n      <td>0.039180</td>\n      <td>0.029000</td>\n      <td>0.143600</td>\n      <td>FREEHOLD</td>\n      <td>0</td>\n      <td>0</td>\n      <td>0</td>\n      <td>0</td>\n      <td>0</td>\n      <td>0</td>\n      <td>0</td>\n      <td>0</td>\n      <td>0</td>\n      <td>0</td>\n    </tr>\n    <tr>\n      <th>55043230</th>\n      <td>260000.0</td>\n      <td>1.0</td>\n      <td>1.0</td>\n      <td>0.384607</td>\n      <td>51.544430</td>\n      <td>0.014500</td>\n      <td>0.044710</td>\n      <td>0.118920</td>\n      <td>LEASEHOLD</td>\n      <td>0</td>\n      <td>0</td>\n      <td>0</td>\n      <td>0</td>\n      <td>0</td>\n      <td>0</td>\n      <td>0</td>\n      <td>0</td>\n      <td>0</td>\n      <td>0</td>\n    </tr>\n    <tr>\n      <th>55187658</th>\n      <td>430000.0</td>\n      <td>2.0</td>\n      <td>2.0</td>\n      <td>0.289033</td>\n      <td>51.507570</td>\n      <td>0.078030</td>\n      <td>0.007850</td>\n      <td>0.182450</td>\n      <td>LEASEHOLD</td>\n      <td>0</td>\n      <td>0</td>\n      <td>0</td>\n      <td>0</td>\n      <td>0</td>\n      <td>0</td>\n      <td>0</td>\n      <td>0</td>\n      <td>0</td>\n      <td>0</td>\n    </tr>\n    <tr>\n      <th>55531367</th>\n      <td>599950.0</td>\n      <td>2.0</td>\n      <td>1.0</td>\n      <td>0.406725</td>\n      <td>51.467410</td>\n      <td>-0.079170</td>\n      <td>0.032310</td>\n      <td>0.025250</td>\n      <td>NaN</td>\n      <td>1</td>\n      <td>0</td>\n      <td>0</td>\n      <td>0</td>\n      <td>0</td>\n      <td>0</td>\n      <td>0</td>\n      <td>0</td>\n      <td>0</td>\n      <td>1</td>\n    </tr>\n    <tr>\n      <th>55768232</th>\n      <td>550000.0</td>\n      <td>2.0</td>\n      <td>1.0</td>\n      <td>0.478349</td>\n      <td>51.472890</td>\n      <td>-0.078940</td>\n      <td>0.026830</td>\n      <td>0.025480</td>\n      <td>NaN</td>\n      <td>0</td>\n      <td>0</td>\n      <td>0</td>\n      <td>0</td>\n      <td>0</td>\n      <td>0</td>\n      <td>0</td>\n      <td>0</td>\n      <td>0</td>\n      <td>0</td>\n    </tr>\n    <tr>\n      <th>55805965</th>\n      <td>280000.0</td>\n      <td>2.0</td>\n      <td>1.0</td>\n      <td>0.742859</td>\n      <td>51.520910</td>\n      <td>0.022680</td>\n      <td>0.021190</td>\n      <td>0.127100</td>\n      <td>LEASEHOLD</td>\n      <td>0</td>\n      <td>0</td>\n      <td>0</td>\n      <td>0</td>\n      <td>0</td>\n      <td>0</td>\n      <td>0</td>\n      <td>0</td>\n      <td>0</td>\n      <td>0</td>\n    </tr>\n    <tr>\n      <th>55839051</th>\n      <td>599950.0</td>\n      <td>2.0</td>\n      <td>1.0</td>\n      <td>0.259168</td>\n      <td>51.579186</td>\n      <td>-0.209020</td>\n      <td>0.079466</td>\n      <td>0.104600</td>\n      <td>LEASEHOLD</td>\n      <td>0</td>\n      <td>0</td>\n      <td>0</td>\n      <td>0</td>\n      <td>0</td>\n      <td>0</td>\n      <td>0</td>\n      <td>0</td>\n      <td>0</td>\n      <td>0</td>\n    </tr>\n    <tr>\n      <th>55940994</th>\n      <td>385000.0</td>\n      <td>2.0</td>\n      <td>2.0</td>\n      <td>0.403987</td>\n      <td>51.376930</td>\n      <td>-0.238870</td>\n      <td>0.122790</td>\n      <td>0.134450</td>\n      <td>LEASEHOLD</td>\n      <td>0</td>\n      <td>0</td>\n      <td>0</td>\n      <td>0</td>\n      <td>0</td>\n      <td>0</td>\n      <td>0</td>\n      <td>0</td>\n      <td>1</td>\n      <td>0</td>\n    </tr>\n    <tr>\n      <th>56449305</th>\n      <td>380000.0</td>\n      <td>2.0</td>\n      <td>1.0</td>\n      <td>0.310271</td>\n      <td>51.600483</td>\n      <td>-0.062096</td>\n      <td>0.100763</td>\n      <td>0.042324</td>\n      <td>FREEHOLD</td>\n      <td>0</td>\n      <td>0</td>\n      <td>0</td>\n      <td>0</td>\n      <td>0</td>\n      <td>0</td>\n      <td>0</td>\n      <td>0</td>\n      <td>1</td>\n      <td>0</td>\n    </tr>\n    <tr>\n      <th>57221413</th>\n      <td>475000.0</td>\n      <td>3.0</td>\n      <td>2.0</td>\n      <td>0.409784</td>\n      <td>51.497260</td>\n      <td>-0.422530</td>\n      <td>0.002460</td>\n      <td>0.318110</td>\n      <td>FREEHOLD</td>\n      <td>0</td>\n      <td>0</td>\n      <td>0</td>\n      <td>0</td>\n      <td>0</td>\n      <td>0</td>\n      <td>0</td>\n      <td>1</td>\n      <td>0</td>\n      <td>0</td>\n    </tr>\n  </tbody>\n</table>\n</div>"
     },
     "execution_count": 263,
     "metadata": {},
     "output_type": "execute_result"
    }
   ],
   "source": [
    "df.head(30)"
   ]
  },
  {
   "cell_type": "code",
   "execution_count": 264,
   "metadata": {
    "execution": {
     "iopub.execute_input": "2022-11-16T13:53:45.549728Z",
     "iopub.status.busy": "2022-11-16T13:53:45.549524Z",
     "iopub.status.idle": "2022-11-16T13:53:45.561922Z",
     "shell.execute_reply": "2022-11-16T13:53:45.561366Z",
     "shell.execute_reply.started": "2022-11-16T13:53:45.549709Z"
    }
   },
   "outputs": [
    {
     "data": {
      "text/plain": "Price                              0\nbedrooms                           0\nbathrooms                          0\nnearestStation                     0\nlocation.latitude                  0\nlocation.longitude                 0\nlatitude_deviation                 0\nlongitude_deviation                0\ntenure.tenureType               2744\nfeature__balcony                   0\nfeature__chain free                0\nfeature__no onward chain           0\nfeature__off street parking        0\nfeature__one bedroom               0\nfeature__private balcony           0\nfeature__share of freehold         0\nfeature__three bedrooms            0\nfeature__two bedrooms              0\nfeature__two double bedrooms       0\ndtype: int64"
     },
     "execution_count": 264,
     "metadata": {},
     "output_type": "execute_result"
    }
   ],
   "source": [
    "df.isnull().sum()"
   ]
  },
  {
   "cell_type": "code",
   "execution_count": 265,
   "metadata": {
    "execution": {
     "iopub.execute_input": "2022-11-16T13:53:45.562900Z",
     "iopub.status.busy": "2022-11-16T13:53:45.562697Z",
     "iopub.status.idle": "2022-11-16T13:53:45.641457Z",
     "shell.execute_reply": "2022-11-16T13:53:45.640840Z",
     "shell.execute_reply.started": "2022-11-16T13:53:45.562882Z"
    }
   },
   "outputs": [
    {
     "name": "stdout",
     "output_type": "stream",
     "text": [
      "<class 'pandas.core.frame.DataFrame'>\n",
      "Int64Index: 46871 entries, 14520525 to 126181118\n",
      "Data columns (total 19 columns):\n",
      " #   Column                        Non-Null Count  Dtype  \n",
      "---  ------                        --------------  -----  \n",
      " 0   Price                         46871 non-null  float64\n",
      " 1   bedrooms                      46871 non-null  float64\n",
      " 2   bathrooms                     46871 non-null  float64\n",
      " 3   nearestStation                46871 non-null  float64\n",
      " 4   location.latitude             46871 non-null  float64\n",
      " 5   location.longitude            46871 non-null  float64\n",
      " 6   latitude_deviation            46871 non-null  float64\n",
      " 7   longitude_deviation           46871 non-null  float64\n",
      " 8   tenure.tenureType             44127 non-null  object \n",
      " 9   feature__balcony              46871 non-null  int64  \n",
      " 10  feature__chain free           46871 non-null  int64  \n",
      " 11  feature__no onward chain      46871 non-null  int64  \n",
      " 12  feature__off street parking   46871 non-null  int64  \n",
      " 13  feature__one bedroom          46871 non-null  int64  \n",
      " 14  feature__private balcony      46871 non-null  int64  \n",
      " 15  feature__share of freehold    46871 non-null  int64  \n",
      " 16  feature__three bedrooms       46871 non-null  int64  \n",
      " 17  feature__two bedrooms         46871 non-null  int64  \n",
      " 18  feature__two double bedrooms  46871 non-null  int64  \n",
      "dtypes: float64(8), int64(10), object(1)\n",
      "memory usage: 7.2+ MB\n"
     ]
    },
    {
     "data": {
      "text/plain": "                                count           mean            std  \\\nPrice                         46871.0  425069.390775  107227.324906   \nbedrooms                      46871.0       1.992469       0.828837   \nbathrooms                     46871.0       1.182074       0.409879   \nnearestStation                46871.0       0.438847       0.325942   \nlocation.latitude             46871.0      51.497049       0.077085   \nlocation.longitude            46871.0      -0.113269       0.156489   \nlatitude_deviation            46871.0       0.064317       0.042573   \nlongitude_deviation           46871.0       0.124202       0.095607   \nfeature__balcony              46871.0       0.038617       0.193124   \nfeature__chain free           46871.0       0.120266       0.325800   \nfeature__no onward chain      46871.0       0.057925       0.233604   \nfeature__off street parking   46871.0       0.047300       0.212684   \nfeature__one bedroom          46871.0       0.041369       0.199144   \nfeature__private balcony      46871.0       0.039662       0.195275   \nfeature__share of freehold    46871.0       0.047663       0.213354   \nfeature__three bedrooms       46871.0       0.059120       0.235851   \nfeature__two bedrooms         46871.0       0.071473       0.257616   \nfeature__two double bedrooms  46871.0       0.095411       0.293930   \n\n                                        min            25%            50%  \\\nPrice                         100000.000000  349950.000000  425000.000000   \nbedrooms                           1.000000       1.000000       2.000000   \nbathrooms                          1.000000       1.000000       1.000000   \nnearestStation                     0.000000       0.227169       0.367971   \nlocation.latitude                 51.298317      51.438861      51.499977   \nlocation.longitude                -0.498315      -0.210796      -0.102230   \nlatitude_deviation                 0.000000       0.028876       0.058595   \nlongitude_deviation                0.000000       0.043560       0.098984   \nfeature__balcony                   0.000000       0.000000       0.000000   \nfeature__chain free                0.000000       0.000000       0.000000   \nfeature__no onward chain           0.000000       0.000000       0.000000   \nfeature__off street parking        0.000000       0.000000       0.000000   \nfeature__one bedroom               0.000000       0.000000       0.000000   \nfeature__private balcony           0.000000       0.000000       0.000000   \nfeature__share of freehold         0.000000       0.000000       0.000000   \nfeature__three bedrooms            0.000000       0.000000       0.000000   \nfeature__two bedrooms              0.000000       0.000000       0.000000   \nfeature__two double bedrooms       0.000000       0.000000       0.000000   \n\n                                        75%            max  \nPrice                         515000.000000  600000.000000  \nbedrooms                           3.000000       7.000000  \nbathrooms                          1.000000       5.000000  \nnearestStation                     0.559620       7.197700  \nlocation.latitude                 51.556183      51.683185  \nlocation.longitude                -0.010343       0.279726  \nlatitude_deviation                 0.094362       0.201403  \nlongitude_deviation                0.192684       0.393895  \nfeature__balcony                   0.000000       2.000000  \nfeature__chain free                0.000000       2.000000  \nfeature__no onward chain           0.000000       1.000000  \nfeature__off street parking        0.000000       2.000000  \nfeature__one bedroom               0.000000       1.000000  \nfeature__private balcony           0.000000       2.000000  \nfeature__share of freehold         0.000000       2.000000  \nfeature__three bedrooms            0.000000       1.000000  \nfeature__two bedrooms              0.000000       1.000000  \nfeature__two double bedrooms       0.000000       2.000000  ",
      "text/html": "<div>\n<style scoped>\n    .dataframe tbody tr th:only-of-type {\n        vertical-align: middle;\n    }\n\n    .dataframe tbody tr th {\n        vertical-align: top;\n    }\n\n    .dataframe thead th {\n        text-align: right;\n    }\n</style>\n<table border=\"1\" class=\"dataframe\">\n  <thead>\n    <tr style=\"text-align: right;\">\n      <th></th>\n      <th>count</th>\n      <th>mean</th>\n      <th>std</th>\n      <th>min</th>\n      <th>25%</th>\n      <th>50%</th>\n      <th>75%</th>\n      <th>max</th>\n    </tr>\n  </thead>\n  <tbody>\n    <tr>\n      <th>Price</th>\n      <td>46871.0</td>\n      <td>425069.390775</td>\n      <td>107227.324906</td>\n      <td>100000.000000</td>\n      <td>349950.000000</td>\n      <td>425000.000000</td>\n      <td>515000.000000</td>\n      <td>600000.000000</td>\n    </tr>\n    <tr>\n      <th>bedrooms</th>\n      <td>46871.0</td>\n      <td>1.992469</td>\n      <td>0.828837</td>\n      <td>1.000000</td>\n      <td>1.000000</td>\n      <td>2.000000</td>\n      <td>3.000000</td>\n      <td>7.000000</td>\n    </tr>\n    <tr>\n      <th>bathrooms</th>\n      <td>46871.0</td>\n      <td>1.182074</td>\n      <td>0.409879</td>\n      <td>1.000000</td>\n      <td>1.000000</td>\n      <td>1.000000</td>\n      <td>1.000000</td>\n      <td>5.000000</td>\n    </tr>\n    <tr>\n      <th>nearestStation</th>\n      <td>46871.0</td>\n      <td>0.438847</td>\n      <td>0.325942</td>\n      <td>0.000000</td>\n      <td>0.227169</td>\n      <td>0.367971</td>\n      <td>0.559620</td>\n      <td>7.197700</td>\n    </tr>\n    <tr>\n      <th>location.latitude</th>\n      <td>46871.0</td>\n      <td>51.497049</td>\n      <td>0.077085</td>\n      <td>51.298317</td>\n      <td>51.438861</td>\n      <td>51.499977</td>\n      <td>51.556183</td>\n      <td>51.683185</td>\n    </tr>\n    <tr>\n      <th>location.longitude</th>\n      <td>46871.0</td>\n      <td>-0.113269</td>\n      <td>0.156489</td>\n      <td>-0.498315</td>\n      <td>-0.210796</td>\n      <td>-0.102230</td>\n      <td>-0.010343</td>\n      <td>0.279726</td>\n    </tr>\n    <tr>\n      <th>latitude_deviation</th>\n      <td>46871.0</td>\n      <td>0.064317</td>\n      <td>0.042573</td>\n      <td>0.000000</td>\n      <td>0.028876</td>\n      <td>0.058595</td>\n      <td>0.094362</td>\n      <td>0.201403</td>\n    </tr>\n    <tr>\n      <th>longitude_deviation</th>\n      <td>46871.0</td>\n      <td>0.124202</td>\n      <td>0.095607</td>\n      <td>0.000000</td>\n      <td>0.043560</td>\n      <td>0.098984</td>\n      <td>0.192684</td>\n      <td>0.393895</td>\n    </tr>\n    <tr>\n      <th>feature__balcony</th>\n      <td>46871.0</td>\n      <td>0.038617</td>\n      <td>0.193124</td>\n      <td>0.000000</td>\n      <td>0.000000</td>\n      <td>0.000000</td>\n      <td>0.000000</td>\n      <td>2.000000</td>\n    </tr>\n    <tr>\n      <th>feature__chain free</th>\n      <td>46871.0</td>\n      <td>0.120266</td>\n      <td>0.325800</td>\n      <td>0.000000</td>\n      <td>0.000000</td>\n      <td>0.000000</td>\n      <td>0.000000</td>\n      <td>2.000000</td>\n    </tr>\n    <tr>\n      <th>feature__no onward chain</th>\n      <td>46871.0</td>\n      <td>0.057925</td>\n      <td>0.233604</td>\n      <td>0.000000</td>\n      <td>0.000000</td>\n      <td>0.000000</td>\n      <td>0.000000</td>\n      <td>1.000000</td>\n    </tr>\n    <tr>\n      <th>feature__off street parking</th>\n      <td>46871.0</td>\n      <td>0.047300</td>\n      <td>0.212684</td>\n      <td>0.000000</td>\n      <td>0.000000</td>\n      <td>0.000000</td>\n      <td>0.000000</td>\n      <td>2.000000</td>\n    </tr>\n    <tr>\n      <th>feature__one bedroom</th>\n      <td>46871.0</td>\n      <td>0.041369</td>\n      <td>0.199144</td>\n      <td>0.000000</td>\n      <td>0.000000</td>\n      <td>0.000000</td>\n      <td>0.000000</td>\n      <td>1.000000</td>\n    </tr>\n    <tr>\n      <th>feature__private balcony</th>\n      <td>46871.0</td>\n      <td>0.039662</td>\n      <td>0.195275</td>\n      <td>0.000000</td>\n      <td>0.000000</td>\n      <td>0.000000</td>\n      <td>0.000000</td>\n      <td>2.000000</td>\n    </tr>\n    <tr>\n      <th>feature__share of freehold</th>\n      <td>46871.0</td>\n      <td>0.047663</td>\n      <td>0.213354</td>\n      <td>0.000000</td>\n      <td>0.000000</td>\n      <td>0.000000</td>\n      <td>0.000000</td>\n      <td>2.000000</td>\n    </tr>\n    <tr>\n      <th>feature__three bedrooms</th>\n      <td>46871.0</td>\n      <td>0.059120</td>\n      <td>0.235851</td>\n      <td>0.000000</td>\n      <td>0.000000</td>\n      <td>0.000000</td>\n      <td>0.000000</td>\n      <td>1.000000</td>\n    </tr>\n    <tr>\n      <th>feature__two bedrooms</th>\n      <td>46871.0</td>\n      <td>0.071473</td>\n      <td>0.257616</td>\n      <td>0.000000</td>\n      <td>0.000000</td>\n      <td>0.000000</td>\n      <td>0.000000</td>\n      <td>1.000000</td>\n    </tr>\n    <tr>\n      <th>feature__two double bedrooms</th>\n      <td>46871.0</td>\n      <td>0.095411</td>\n      <td>0.293930</td>\n      <td>0.000000</td>\n      <td>0.000000</td>\n      <td>0.000000</td>\n      <td>0.000000</td>\n      <td>2.000000</td>\n    </tr>\n  </tbody>\n</table>\n</div>"
     },
     "execution_count": 265,
     "metadata": {},
     "output_type": "execute_result"
    }
   ],
   "source": [
    "df.info()\n",
    "df.describe()\n",
    "df.describe().T"
   ]
  },
  {
   "cell_type": "code",
   "execution_count": 266,
   "metadata": {
    "execution": {
     "iopub.execute_input": "2022-11-16T13:53:45.644307Z",
     "iopub.status.busy": "2022-11-16T13:53:45.644062Z",
     "iopub.status.idle": "2022-11-16T13:53:45.702850Z",
     "shell.execute_reply": "2022-11-16T13:53:45.702221Z",
     "shell.execute_reply.started": "2022-11-16T13:53:45.644286Z"
    }
   },
   "outputs": [
    {
     "name": "stdout",
     "output_type": "stream",
     "text": [
      "dataframe contract due to cleaning: 46871 ==> 46871\n"
     ]
    },
    {
     "data": {
      "text/plain": "                                count           mean            std  \\\nPrice                         46871.0  425069.390775  107227.324906   \nbedrooms                      46871.0       1.992469       0.828837   \nbathrooms                     46871.0       1.182074       0.409879   \nnearestStation                46871.0       0.438847       0.325942   \nlocation.latitude             46871.0      51.497049       0.077085   \nlocation.longitude            46871.0      -0.113269       0.156489   \nlatitude_deviation            46871.0       0.064317       0.042573   \nlongitude_deviation           46871.0       0.124202       0.095607   \nfeature__balcony              46871.0       0.038617       0.193124   \nfeature__chain free           46871.0       0.120266       0.325800   \nfeature__no onward chain      46871.0       0.057925       0.233604   \nfeature__off street parking   46871.0       0.047300       0.212684   \nfeature__one bedroom          46871.0       0.041369       0.199144   \nfeature__private balcony      46871.0       0.039662       0.195275   \nfeature__share of freehold    46871.0       0.047663       0.213354   \nfeature__three bedrooms       46871.0       0.059120       0.235851   \nfeature__two bedrooms         46871.0       0.071473       0.257616   \nfeature__two double bedrooms  46871.0       0.095411       0.293930   \n\n                                        min            25%            50%  \\\nPrice                         100000.000000  349950.000000  425000.000000   \nbedrooms                           1.000000       1.000000       2.000000   \nbathrooms                          1.000000       1.000000       1.000000   \nnearestStation                     0.000000       0.227169       0.367971   \nlocation.latitude                 51.298317      51.438861      51.499977   \nlocation.longitude                -0.498315      -0.210796      -0.102230   \nlatitude_deviation                 0.000000       0.028876       0.058595   \nlongitude_deviation                0.000000       0.043560       0.098984   \nfeature__balcony                   0.000000       0.000000       0.000000   \nfeature__chain free                0.000000       0.000000       0.000000   \nfeature__no onward chain           0.000000       0.000000       0.000000   \nfeature__off street parking        0.000000       0.000000       0.000000   \nfeature__one bedroom               0.000000       0.000000       0.000000   \nfeature__private balcony           0.000000       0.000000       0.000000   \nfeature__share of freehold         0.000000       0.000000       0.000000   \nfeature__three bedrooms            0.000000       0.000000       0.000000   \nfeature__two bedrooms              0.000000       0.000000       0.000000   \nfeature__two double bedrooms       0.000000       0.000000       0.000000   \n\n                                        75%            max  \nPrice                         515000.000000  600000.000000  \nbedrooms                           3.000000       7.000000  \nbathrooms                          1.000000       5.000000  \nnearestStation                     0.559620       7.197700  \nlocation.latitude                 51.556183      51.683185  \nlocation.longitude                -0.010343       0.279726  \nlatitude_deviation                 0.094362       0.201403  \nlongitude_deviation                0.192684       0.393895  \nfeature__balcony                   0.000000       2.000000  \nfeature__chain free                0.000000       2.000000  \nfeature__no onward chain           0.000000       1.000000  \nfeature__off street parking        0.000000       2.000000  \nfeature__one bedroom               0.000000       1.000000  \nfeature__private balcony           0.000000       2.000000  \nfeature__share of freehold         0.000000       2.000000  \nfeature__three bedrooms            0.000000       1.000000  \nfeature__two bedrooms              0.000000       1.000000  \nfeature__two double bedrooms       0.000000       2.000000  ",
      "text/html": "<div>\n<style scoped>\n    .dataframe tbody tr th:only-of-type {\n        vertical-align: middle;\n    }\n\n    .dataframe tbody tr th {\n        vertical-align: top;\n    }\n\n    .dataframe thead th {\n        text-align: right;\n    }\n</style>\n<table border=\"1\" class=\"dataframe\">\n  <thead>\n    <tr style=\"text-align: right;\">\n      <th></th>\n      <th>count</th>\n      <th>mean</th>\n      <th>std</th>\n      <th>min</th>\n      <th>25%</th>\n      <th>50%</th>\n      <th>75%</th>\n      <th>max</th>\n    </tr>\n  </thead>\n  <tbody>\n    <tr>\n      <th>Price</th>\n      <td>46871.0</td>\n      <td>425069.390775</td>\n      <td>107227.324906</td>\n      <td>100000.000000</td>\n      <td>349950.000000</td>\n      <td>425000.000000</td>\n      <td>515000.000000</td>\n      <td>600000.000000</td>\n    </tr>\n    <tr>\n      <th>bedrooms</th>\n      <td>46871.0</td>\n      <td>1.992469</td>\n      <td>0.828837</td>\n      <td>1.000000</td>\n      <td>1.000000</td>\n      <td>2.000000</td>\n      <td>3.000000</td>\n      <td>7.000000</td>\n    </tr>\n    <tr>\n      <th>bathrooms</th>\n      <td>46871.0</td>\n      <td>1.182074</td>\n      <td>0.409879</td>\n      <td>1.000000</td>\n      <td>1.000000</td>\n      <td>1.000000</td>\n      <td>1.000000</td>\n      <td>5.000000</td>\n    </tr>\n    <tr>\n      <th>nearestStation</th>\n      <td>46871.0</td>\n      <td>0.438847</td>\n      <td>0.325942</td>\n      <td>0.000000</td>\n      <td>0.227169</td>\n      <td>0.367971</td>\n      <td>0.559620</td>\n      <td>7.197700</td>\n    </tr>\n    <tr>\n      <th>location.latitude</th>\n      <td>46871.0</td>\n      <td>51.497049</td>\n      <td>0.077085</td>\n      <td>51.298317</td>\n      <td>51.438861</td>\n      <td>51.499977</td>\n      <td>51.556183</td>\n      <td>51.683185</td>\n    </tr>\n    <tr>\n      <th>location.longitude</th>\n      <td>46871.0</td>\n      <td>-0.113269</td>\n      <td>0.156489</td>\n      <td>-0.498315</td>\n      <td>-0.210796</td>\n      <td>-0.102230</td>\n      <td>-0.010343</td>\n      <td>0.279726</td>\n    </tr>\n    <tr>\n      <th>latitude_deviation</th>\n      <td>46871.0</td>\n      <td>0.064317</td>\n      <td>0.042573</td>\n      <td>0.000000</td>\n      <td>0.028876</td>\n      <td>0.058595</td>\n      <td>0.094362</td>\n      <td>0.201403</td>\n    </tr>\n    <tr>\n      <th>longitude_deviation</th>\n      <td>46871.0</td>\n      <td>0.124202</td>\n      <td>0.095607</td>\n      <td>0.000000</td>\n      <td>0.043560</td>\n      <td>0.098984</td>\n      <td>0.192684</td>\n      <td>0.393895</td>\n    </tr>\n    <tr>\n      <th>feature__balcony</th>\n      <td>46871.0</td>\n      <td>0.038617</td>\n      <td>0.193124</td>\n      <td>0.000000</td>\n      <td>0.000000</td>\n      <td>0.000000</td>\n      <td>0.000000</td>\n      <td>2.000000</td>\n    </tr>\n    <tr>\n      <th>feature__chain free</th>\n      <td>46871.0</td>\n      <td>0.120266</td>\n      <td>0.325800</td>\n      <td>0.000000</td>\n      <td>0.000000</td>\n      <td>0.000000</td>\n      <td>0.000000</td>\n      <td>2.000000</td>\n    </tr>\n    <tr>\n      <th>feature__no onward chain</th>\n      <td>46871.0</td>\n      <td>0.057925</td>\n      <td>0.233604</td>\n      <td>0.000000</td>\n      <td>0.000000</td>\n      <td>0.000000</td>\n      <td>0.000000</td>\n      <td>1.000000</td>\n    </tr>\n    <tr>\n      <th>feature__off street parking</th>\n      <td>46871.0</td>\n      <td>0.047300</td>\n      <td>0.212684</td>\n      <td>0.000000</td>\n      <td>0.000000</td>\n      <td>0.000000</td>\n      <td>0.000000</td>\n      <td>2.000000</td>\n    </tr>\n    <tr>\n      <th>feature__one bedroom</th>\n      <td>46871.0</td>\n      <td>0.041369</td>\n      <td>0.199144</td>\n      <td>0.000000</td>\n      <td>0.000000</td>\n      <td>0.000000</td>\n      <td>0.000000</td>\n      <td>1.000000</td>\n    </tr>\n    <tr>\n      <th>feature__private balcony</th>\n      <td>46871.0</td>\n      <td>0.039662</td>\n      <td>0.195275</td>\n      <td>0.000000</td>\n      <td>0.000000</td>\n      <td>0.000000</td>\n      <td>0.000000</td>\n      <td>2.000000</td>\n    </tr>\n    <tr>\n      <th>feature__share of freehold</th>\n      <td>46871.0</td>\n      <td>0.047663</td>\n      <td>0.213354</td>\n      <td>0.000000</td>\n      <td>0.000000</td>\n      <td>0.000000</td>\n      <td>0.000000</td>\n      <td>2.000000</td>\n    </tr>\n    <tr>\n      <th>feature__three bedrooms</th>\n      <td>46871.0</td>\n      <td>0.059120</td>\n      <td>0.235851</td>\n      <td>0.000000</td>\n      <td>0.000000</td>\n      <td>0.000000</td>\n      <td>0.000000</td>\n      <td>1.000000</td>\n    </tr>\n    <tr>\n      <th>feature__two bedrooms</th>\n      <td>46871.0</td>\n      <td>0.071473</td>\n      <td>0.257616</td>\n      <td>0.000000</td>\n      <td>0.000000</td>\n      <td>0.000000</td>\n      <td>0.000000</td>\n      <td>1.000000</td>\n    </tr>\n    <tr>\n      <th>feature__two double bedrooms</th>\n      <td>46871.0</td>\n      <td>0.095411</td>\n      <td>0.293930</td>\n      <td>0.000000</td>\n      <td>0.000000</td>\n      <td>0.000000</td>\n      <td>0.000000</td>\n      <td>2.000000</td>\n    </tr>\n  </tbody>\n</table>\n</div>"
     },
     "execution_count": 266,
     "metadata": {},
     "output_type": "execute_result"
    }
   ],
   "source": [
    "old_length = len(df)\n",
    "\n",
    "df = preprocess(df, version=VERSION)\n",
    "\n",
    "print(f\"dataframe contract due to cleaning: {old_length} ==> {len(df)}\")\n",
    "old_length = len(df)\n",
    "\n",
    "df.describe().T"
   ]
  },
  {
   "cell_type": "code",
   "execution_count": 267,
   "metadata": {
    "execution": {
     "iopub.execute_input": "2022-11-16T13:53:45.704893Z",
     "iopub.status.busy": "2022-11-16T13:53:45.703920Z",
     "iopub.status.idle": "2022-11-16T13:53:45.718086Z",
     "shell.execute_reply": "2022-11-16T13:53:45.716989Z",
     "shell.execute_reply.started": "2022-11-16T13:53:45.704867Z"
    }
   },
   "outputs": [
    {
     "data": {
      "text/plain": "Price                              0\nbedrooms                           0\nbathrooms                          0\nnearestStation                     0\nlocation.latitude                  0\nlocation.longitude                 0\nlatitude_deviation                 0\nlongitude_deviation                0\ntenure.tenureType               2744\nfeature__balcony                   0\nfeature__chain free                0\nfeature__no onward chain           0\nfeature__off street parking        0\nfeature__one bedroom               0\nfeature__private balcony           0\nfeature__share of freehold         0\nfeature__three bedrooms            0\nfeature__two bedrooms              0\nfeature__two double bedrooms       0\ndtype: int64"
     },
     "execution_count": 267,
     "metadata": {},
     "output_type": "execute_result"
    }
   ],
   "source": [
    "df.isna().sum()"
   ]
  },
  {
   "cell_type": "code",
   "execution_count": 268,
   "metadata": {
    "execution": {
     "iopub.execute_input": "2022-11-16T13:53:45.719480Z",
     "iopub.status.busy": "2022-11-16T13:53:45.719240Z",
     "iopub.status.idle": "2022-11-16T13:53:45.765084Z",
     "shell.execute_reply": "2022-11-16T13:53:45.764280Z",
     "shell.execute_reply.started": "2022-11-16T13:53:45.719461Z"
    }
   },
   "outputs": [
    {
     "name": "stdout",
     "output_type": "stream",
     "text": [
      "46871 ==> 44127\n"
     ]
    },
    {
     "data": {
      "text/plain": "               Price      bedrooms    bathrooms  nearestStation  \\\ncount   44127.000000  44127.000000  44127.00000    44127.000000   \nmean   425224.642373      1.990981      1.18134        0.438522   \nstd    107203.332660      0.827621      0.40893        0.324152   \nmin    100000.000000      1.000000      1.00000        0.000000   \n25%    349950.000000      1.000000      1.00000        0.227551   \n50%    425000.000000      2.000000      1.00000        0.368351   \n75%    515000.000000      3.000000      1.00000        0.559486   \nmax    600000.000000      7.000000      5.00000        7.197700   \n\n       location.latitude  location.longitude  latitude_deviation  \\\ncount       44127.000000        44127.000000        44127.000000   \nmean           51.496711           -0.113106            0.064544   \nstd             0.077267            0.155863            0.042583   \nmin            51.298317           -0.498315            0.000000   \n25%            51.438303           -0.210633            0.029023   \n50%            51.498780           -0.101910            0.058904   \n75%            51.556343           -0.010854            0.094620   \nmax            51.683185            0.279726            0.201403   \n\n       longitude_deviation  feature__balcony  feature__chain free  \\\ncount         44127.000000      44127.000000         44127.000000   \nmean              0.123699          0.038865             0.121218   \nstd               0.095220          0.193744             0.326940   \nmin               0.000000          0.000000             0.000000   \n25%               0.043551          0.000000             0.000000   \n50%               0.098750          0.000000             0.000000   \n75%               0.191727          0.000000             0.000000   \nmax               0.393895          2.000000             2.000000   \n\n       feature__no onward chain  feature__off street parking  \\\ncount              44127.000000                 44127.000000   \nmean                   0.058898                     0.047001   \nstd                    0.235437                     0.212071   \nmin                    0.000000                     0.000000   \n25%                    0.000000                     0.000000   \n50%                    0.000000                     0.000000   \n75%                    0.000000                     0.000000   \nmax                    1.000000                     2.000000   \n\n       feature__one bedroom  feature__private balcony  \\\ncount          44127.000000              44127.000000   \nmean               0.041834                  0.040111   \nstd                0.200211                  0.196338   \nmin                0.000000                  0.000000   \n25%                0.000000                  0.000000   \n50%                0.000000                  0.000000   \n75%                0.000000                  0.000000   \nmax                1.000000                  2.000000   \n\n       feature__share of freehold  feature__three bedrooms  \\\ncount                44127.000000             44127.000000   \nmean                     0.048428                 0.059374   \nstd                      0.214989                 0.236326   \nmin                      0.000000                 0.000000   \n25%                      0.000000                 0.000000   \n50%                      0.000000                 0.000000   \n75%                      0.000000                 0.000000   \nmax                      2.000000                 1.000000   \n\n       feature__two bedrooms  feature__two double bedrooms  \ncount           44127.000000                  44127.000000  \nmean                0.072586                      0.096857  \nstd                 0.259459                      0.295919  \nmin                 0.000000                      0.000000  \n25%                 0.000000                      0.000000  \n50%                 0.000000                      0.000000  \n75%                 0.000000                      0.000000  \nmax                 1.000000                      2.000000  ",
      "text/html": "<div>\n<style scoped>\n    .dataframe tbody tr th:only-of-type {\n        vertical-align: middle;\n    }\n\n    .dataframe tbody tr th {\n        vertical-align: top;\n    }\n\n    .dataframe thead th {\n        text-align: right;\n    }\n</style>\n<table border=\"1\" class=\"dataframe\">\n  <thead>\n    <tr style=\"text-align: right;\">\n      <th></th>\n      <th>Price</th>\n      <th>bedrooms</th>\n      <th>bathrooms</th>\n      <th>nearestStation</th>\n      <th>location.latitude</th>\n      <th>location.longitude</th>\n      <th>latitude_deviation</th>\n      <th>longitude_deviation</th>\n      <th>feature__balcony</th>\n      <th>feature__chain free</th>\n      <th>feature__no onward chain</th>\n      <th>feature__off street parking</th>\n      <th>feature__one bedroom</th>\n      <th>feature__private balcony</th>\n      <th>feature__share of freehold</th>\n      <th>feature__three bedrooms</th>\n      <th>feature__two bedrooms</th>\n      <th>feature__two double bedrooms</th>\n    </tr>\n  </thead>\n  <tbody>\n    <tr>\n      <th>count</th>\n      <td>44127.000000</td>\n      <td>44127.000000</td>\n      <td>44127.00000</td>\n      <td>44127.000000</td>\n      <td>44127.000000</td>\n      <td>44127.000000</td>\n      <td>44127.000000</td>\n      <td>44127.000000</td>\n      <td>44127.000000</td>\n      <td>44127.000000</td>\n      <td>44127.000000</td>\n      <td>44127.000000</td>\n      <td>44127.000000</td>\n      <td>44127.000000</td>\n      <td>44127.000000</td>\n      <td>44127.000000</td>\n      <td>44127.000000</td>\n      <td>44127.000000</td>\n    </tr>\n    <tr>\n      <th>mean</th>\n      <td>425224.642373</td>\n      <td>1.990981</td>\n      <td>1.18134</td>\n      <td>0.438522</td>\n      <td>51.496711</td>\n      <td>-0.113106</td>\n      <td>0.064544</td>\n      <td>0.123699</td>\n      <td>0.038865</td>\n      <td>0.121218</td>\n      <td>0.058898</td>\n      <td>0.047001</td>\n      <td>0.041834</td>\n      <td>0.040111</td>\n      <td>0.048428</td>\n      <td>0.059374</td>\n      <td>0.072586</td>\n      <td>0.096857</td>\n    </tr>\n    <tr>\n      <th>std</th>\n      <td>107203.332660</td>\n      <td>0.827621</td>\n      <td>0.40893</td>\n      <td>0.324152</td>\n      <td>0.077267</td>\n      <td>0.155863</td>\n      <td>0.042583</td>\n      <td>0.095220</td>\n      <td>0.193744</td>\n      <td>0.326940</td>\n      <td>0.235437</td>\n      <td>0.212071</td>\n      <td>0.200211</td>\n      <td>0.196338</td>\n      <td>0.214989</td>\n      <td>0.236326</td>\n      <td>0.259459</td>\n      <td>0.295919</td>\n    </tr>\n    <tr>\n      <th>min</th>\n      <td>100000.000000</td>\n      <td>1.000000</td>\n      <td>1.00000</td>\n      <td>0.000000</td>\n      <td>51.298317</td>\n      <td>-0.498315</td>\n      <td>0.000000</td>\n      <td>0.000000</td>\n      <td>0.000000</td>\n      <td>0.000000</td>\n      <td>0.000000</td>\n      <td>0.000000</td>\n      <td>0.000000</td>\n      <td>0.000000</td>\n      <td>0.000000</td>\n      <td>0.000000</td>\n      <td>0.000000</td>\n      <td>0.000000</td>\n    </tr>\n    <tr>\n      <th>25%</th>\n      <td>349950.000000</td>\n      <td>1.000000</td>\n      <td>1.00000</td>\n      <td>0.227551</td>\n      <td>51.438303</td>\n      <td>-0.210633</td>\n      <td>0.029023</td>\n      <td>0.043551</td>\n      <td>0.000000</td>\n      <td>0.000000</td>\n      <td>0.000000</td>\n      <td>0.000000</td>\n      <td>0.000000</td>\n      <td>0.000000</td>\n      <td>0.000000</td>\n      <td>0.000000</td>\n      <td>0.000000</td>\n      <td>0.000000</td>\n    </tr>\n    <tr>\n      <th>50%</th>\n      <td>425000.000000</td>\n      <td>2.000000</td>\n      <td>1.00000</td>\n      <td>0.368351</td>\n      <td>51.498780</td>\n      <td>-0.101910</td>\n      <td>0.058904</td>\n      <td>0.098750</td>\n      <td>0.000000</td>\n      <td>0.000000</td>\n      <td>0.000000</td>\n      <td>0.000000</td>\n      <td>0.000000</td>\n      <td>0.000000</td>\n      <td>0.000000</td>\n      <td>0.000000</td>\n      <td>0.000000</td>\n      <td>0.000000</td>\n    </tr>\n    <tr>\n      <th>75%</th>\n      <td>515000.000000</td>\n      <td>3.000000</td>\n      <td>1.00000</td>\n      <td>0.559486</td>\n      <td>51.556343</td>\n      <td>-0.010854</td>\n      <td>0.094620</td>\n      <td>0.191727</td>\n      <td>0.000000</td>\n      <td>0.000000</td>\n      <td>0.000000</td>\n      <td>0.000000</td>\n      <td>0.000000</td>\n      <td>0.000000</td>\n      <td>0.000000</td>\n      <td>0.000000</td>\n      <td>0.000000</td>\n      <td>0.000000</td>\n    </tr>\n    <tr>\n      <th>max</th>\n      <td>600000.000000</td>\n      <td>7.000000</td>\n      <td>5.00000</td>\n      <td>7.197700</td>\n      <td>51.683185</td>\n      <td>0.279726</td>\n      <td>0.201403</td>\n      <td>0.393895</td>\n      <td>2.000000</td>\n      <td>2.000000</td>\n      <td>1.000000</td>\n      <td>2.000000</td>\n      <td>1.000000</td>\n      <td>2.000000</td>\n      <td>2.000000</td>\n      <td>1.000000</td>\n      <td>1.000000</td>\n      <td>2.000000</td>\n    </tr>\n  </tbody>\n</table>\n</div>"
     },
     "execution_count": 268,
     "metadata": {},
     "output_type": "execute_result"
    }
   ],
   "source": [
    "df = df.dropna()\n",
    "print(f\"{old_length} ==> {len(df)}\")\n",
    "old_length = len(df)\n",
    "df.describe()"
   ]
  },
  {
   "cell_type": "code",
   "execution_count": 269,
   "metadata": {
    "execution": {
     "iopub.execute_input": "2022-11-16T13:53:45.766337Z",
     "iopub.status.busy": "2022-11-16T13:53:45.766118Z",
     "iopub.status.idle": "2022-11-16T13:53:45.807167Z",
     "shell.execute_reply": "2022-11-16T13:53:45.806099Z",
     "shell.execute_reply.started": "2022-11-16T13:53:45.766318Z"
    }
   },
   "outputs": [
    {
     "name": "stdout",
     "output_type": "stream",
     "text": [
      "[3.0 3.0 0.3166132574345781 51.45976 0.12939 0.0399600000000006 0.23381\n",
      " 'FREEHOLD' 0 0 0 0 0 0 0 1 0 0]\n",
      "(39714, 18) (4413, 18) (39714, 1) (4413, 1) (39714, 1) (4413, 1) (39714, 1) (4413, 1)\n"
     ]
    }
   ],
   "source": [
    "X_train, X_test, y_train, y_test, X_train_index, X_test_index, y_train_index, y_test_index, df_features, df_labels = create_train_test_data(\n",
    "    df,\n",
    "    categories=categories,\n",
    "    RANDOM_STATE=RANDOM_STATE, return_index=True,\n",
    "    drop_nulls=True,\n",
    "    no_dummies=no_dummies\n",
    ")\n",
    "\n",
    "print(X_train[0])\n",
    "\n",
    "if 'forest' in ALGORITHM.lower() or ALGORITHM.lower()=='light gradient boosting':\n",
    "    y_train_orig = y_train\n",
    "    y_train = y_train.ravel()\n",
    "    print(y_train_orig, y_train)\n",
    "    \n",
    "print(X_train.shape, X_test.shape, y_train.shape, y_test.shape, X_train_index.shape, X_test_index.shape,\n",
    "      y_train_index.shape, y_test_index.shape)\n",
    "\n"
   ]
  },
  {
   "cell_type": "code",
   "execution_count": 270,
   "metadata": {
    "execution": {
     "iopub.execute_input": "2022-11-16T13:53:45.808583Z",
     "iopub.status.busy": "2022-11-16T13:53:45.808343Z",
     "iopub.status.idle": "2022-11-16T13:53:45.812004Z",
     "shell.execute_reply": "2022-11-16T13:53:45.811013Z",
     "shell.execute_reply.started": "2022-11-16T13:53:45.808563Z"
    }
   },
   "outputs": [],
   "source": [
    "#imputer = SimpleImputer(strategy='mean')\n",
    "#imputer.fit(X_train[6])\n",
    "#X_train[6] = imputer.transform(X_train[6])"
   ]
  },
  {
   "cell_type": "code",
   "execution_count": 271,
   "metadata": {
    "execution": {
     "iopub.execute_input": "2022-11-16T13:53:45.813460Z",
     "iopub.status.busy": "2022-11-16T13:53:45.813229Z",
     "iopub.status.idle": "2022-11-16T13:53:45.818408Z",
     "shell.execute_reply": "2022-11-16T13:53:45.817424Z",
     "shell.execute_reply.started": "2022-11-16T13:53:45.813440Z"
    }
   },
   "outputs": [],
   "source": [
    "starter_model = starter_pipe[-1]\n",
    "\n",
    "if not_catboost:\n",
    "    default_model_params = starter_model.get_params()\n",
    "    print(\"default_model_params:\\n\", default_model_params)\n",
    "    print(\"---------------------\")\n",
    "    print(\"sklearn.metrics.get_scorer_names():\\n\",sklearn.metrics.get_scorer_names())"
   ]
  },
  {
   "cell_type": "code",
   "execution_count": 271,
   "metadata": {
    "execution": {
     "iopub.execute_input": "2022-11-16T13:53:45.819618Z",
     "iopub.status.busy": "2022-11-16T13:53:45.819401Z",
     "iopub.status.idle": "2022-11-16T13:53:49.589786Z",
     "shell.execute_reply": "2022-11-16T13:53:49.588949Z",
     "shell.execute_reply.started": "2022-11-16T13:53:45.819599Z"
    }
   },
   "outputs": [],
   "source": []
  },
  {
   "cell_type": "code",
   "execution_count": 272,
   "outputs": [
    {
     "name": "stdout",
     "output_type": "stream",
     "text": [
      "cv: 3 n_jobs: 3 refit: True n_iter: 100 verbose: 2\n",
      "\n",
      "\n",
      "Hyperparameters:\n"
     ]
    },
    {
     "data": {
      "text/plain": "{'learning_rate': [None, 0.01, 0.1, 0.5, 0.9, 1],\n 'depth': [6, 7, 8, 9, 10, 15, 20],\n 'l2_leaf_reg': [1, 3, 5, 7, 9]}"
     },
     "execution_count": 272,
     "metadata": {},
     "output_type": "execute_result"
    }
   ],
   "source": [
    "options_block = get_hyperparameters(ALGORITHM, use_gpu, prefix='../../../') #JHJH\n",
    "\n",
    "if 'explore param' in DATA_DETAIL:\n",
    "    def automl_step(param_options, vary):\n",
    "        for key, value in param_options.items():\n",
    "            #print(key, value, vary)\n",
    "            if key != vary and key != 'model__' + vary:\n",
    "                param_options[key] = [param_options[key][0]]\n",
    "        return param_options\n",
    "\n",
    "    #options_block = automl_step(options_block, \"model__epochs\")\n",
    "    explore_param = \"alpha\"\n",
    "    options_block = automl_step(options_block, explore_param)\n",
    "\n",
    "\n",
    "if 'forest' in ALGORITHM.lower():\n",
    "    OVERRIDE_N_ITER = 5\n",
    "    if use_gpu:\n",
    "        OVERRIDE_JOBS = 8\n",
    "\n",
    "param_options, cv, n_jobs, refit, n_iter, verbose = get_cv_params(options_block, debug_mode=debug_mode,\n",
    "                                                                  override_cv=OVERRIDE_CV,\n",
    "                                                                  override_niter=OVERRIDE_N_ITER,\n",
    "                                                                  override_njobs=OVERRIDE_JOBS)\n",
    "\n",
    "if 'forest' in ALGORITHM.lower() or True: #JHJH\n",
    "    verbose = 2\n",
    "\n",
    "print(\"cv:\", cv, \"n_jobs:\", n_jobs, \"refit:\", refit, \"n_iter:\", n_iter, \"verbose:\", verbose)\n",
    "\n",
    "if not_catboost and len(param_options.keys()) > 2 and not already_timed and debug_mode:\n",
    "    already_timed = True\n",
    "    %timeit starter_pipe.fit(X_train, y_train)\n",
    "\n",
    "\n",
    "print('\\n\\nHyperparameters:')\n",
    "param_options if not_catboost else options_block"
   ],
   "metadata": {
    "collapsed": false
   }
  },
  {
   "cell_type": "code",
   "execution_count": 273,
   "metadata": {
    "execution": {
     "iopub.execute_input": "2022-11-16T13:53:49.591033Z",
     "iopub.status.busy": "2022-11-16T13:53:49.590814Z",
     "iopub.status.idle": "2022-11-16T13:59:47.180261Z",
     "shell.execute_reply": "2022-11-16T13:59:47.179463Z",
     "shell.execute_reply.started": "2022-11-16T13:53:49.591014Z"
    }
   },
   "outputs": [
    {
     "data": {
      "text/plain": "MetricVisualizer(layout=Layout(align_self='stretch', height='500px'))",
      "application/vnd.jupyter.widget-view+json": {
       "version_major": 2,
       "version_minor": 0,
       "model_id": "3ebacb0c9b2249ce8fe5372fea11684d"
      }
     },
     "metadata": {},
     "output_type": "display_data"
    },
    {
     "name": "stdout",
     "output_type": "stream",
     "text": [
      "0:\tlearn: 112535.7506101\ttest: 111970.9338413\tbest: 111970.9338413 (0)\ttotal: 6.21ms\tremaining: 615ms\n",
      "1:\tlearn: 85843.9850873\ttest: 85535.1319545\tbest: 85535.1319545 (1)\ttotal: 10.7ms\tremaining: 522ms\n",
      "2:\tlearn: 80336.3720582\ttest: 80486.6513928\tbest: 80486.6513928 (2)\ttotal: 15.4ms\tremaining: 499ms\n",
      "3:\tlearn: 73747.4643658\ttest: 74147.6315040\tbest: 74147.6315040 (3)\ttotal: 20.5ms\tremaining: 492ms\n",
      "4:\tlearn: 72654.2464014\ttest: 73195.9969436\tbest: 73195.9969436 (4)\ttotal: 24.9ms\tremaining: 474ms\n",
      "5:\tlearn: 71081.9949781\ttest: 71897.5127229\tbest: 71897.5127229 (5)\ttotal: 29.4ms\tremaining: 460ms\n",
      "6:\tlearn: 70500.4213106\ttest: 71238.2489753\tbest: 71238.2489753 (6)\ttotal: 33.6ms\tremaining: 447ms\n",
      "7:\tlearn: 70328.5640234\ttest: 71200.8472111\tbest: 71200.8472111 (7)\ttotal: 38.1ms\tremaining: 438ms\n",
      "8:\tlearn: 70002.2011716\ttest: 70919.2813141\tbest: 70919.2813141 (8)\ttotal: 42.3ms\tremaining: 428ms\n",
      "9:\tlearn: 69686.7797052\ttest: 70619.2715625\tbest: 70619.2715625 (9)\ttotal: 46.4ms\tremaining: 418ms\n",
      "10:\tlearn: 68797.0537312\ttest: 69889.4702804\tbest: 69889.4702804 (10)\ttotal: 50.7ms\tremaining: 410ms\n",
      "11:\tlearn: 68110.9361785\ttest: 69205.5386274\tbest: 69205.5386274 (11)\ttotal: 55.1ms\tremaining: 404ms\n",
      "12:\tlearn: 67886.0935351\ttest: 68968.1342612\tbest: 68968.1342612 (12)\ttotal: 59.3ms\tremaining: 397ms\n",
      "13:\tlearn: 67647.6732504\ttest: 68721.6091168\tbest: 68721.6091168 (13)\ttotal: 63.4ms\tremaining: 389ms\n",
      "14:\tlearn: 67279.2222961\ttest: 68396.5795274\tbest: 68396.5795274 (14)\ttotal: 67.6ms\tremaining: 383ms\n",
      "15:\tlearn: 67061.4771111\ttest: 68251.1649843\tbest: 68251.1649843 (15)\ttotal: 71.8ms\tremaining: 377ms\n",
      "16:\tlearn: 66622.5545208\ttest: 67870.2944956\tbest: 67870.2944956 (16)\ttotal: 76.1ms\tremaining: 371ms\n",
      "17:\tlearn: 66191.1426148\ttest: 67452.1807282\tbest: 67452.1807282 (17)\ttotal: 80.4ms\tremaining: 366ms\n",
      "18:\tlearn: 65865.9957605\ttest: 67081.9068520\tbest: 67081.9068520 (18)\ttotal: 84.5ms\tremaining: 360ms\n",
      "19:\tlearn: 65641.2033730\ttest: 66910.5339681\tbest: 66910.5339681 (19)\ttotal: 88.8ms\tremaining: 355ms\n",
      "20:\tlearn: 65415.7323717\ttest: 66821.8567064\tbest: 66821.8567064 (20)\ttotal: 93.2ms\tremaining: 351ms\n",
      "21:\tlearn: 65240.4363046\ttest: 66698.2398230\tbest: 66698.2398230 (21)\ttotal: 97.5ms\tremaining: 346ms\n",
      "22:\tlearn: 65233.7179849\ttest: 66686.3788688\tbest: 66686.3788688 (22)\ttotal: 101ms\tremaining: 339ms\n",
      "23:\tlearn: 65043.1870472\ttest: 66572.7721484\tbest: 66572.7721484 (23)\ttotal: 105ms\tremaining: 334ms\n",
      "24:\tlearn: 64786.5062962\ttest: 66168.2409819\tbest: 66168.2409819 (24)\ttotal: 110ms\tremaining: 329ms\n",
      "25:\tlearn: 64573.4596344\ttest: 66027.8559219\tbest: 66027.8559219 (25)\ttotal: 114ms\tremaining: 324ms\n",
      "26:\tlearn: 64389.6638046\ttest: 65888.4155926\tbest: 65888.4155926 (26)\ttotal: 118ms\tremaining: 319ms\n",
      "27:\tlearn: 64226.0726647\ttest: 65810.4473243\tbest: 65810.4473243 (27)\ttotal: 123ms\tremaining: 315ms\n",
      "28:\tlearn: 64120.5046778\ttest: 65686.8400510\tbest: 65686.8400510 (28)\ttotal: 127ms\tremaining: 311ms\n",
      "29:\tlearn: 63989.7334967\ttest: 65515.7097670\tbest: 65515.7097670 (29)\ttotal: 131ms\tremaining: 306ms\n",
      "30:\tlearn: 63901.0804787\ttest: 65437.8556202\tbest: 65437.8556202 (30)\ttotal: 135ms\tremaining: 301ms\n",
      "31:\tlearn: 63777.4240347\ttest: 65348.9503219\tbest: 65348.9503219 (31)\ttotal: 139ms\tremaining: 296ms\n",
      "32:\tlearn: 63655.4073614\ttest: 65263.9489804\tbest: 65263.9489804 (32)\ttotal: 144ms\tremaining: 292ms\n",
      "33:\tlearn: 63637.0652550\ttest: 65270.8038893\tbest: 65263.9489804 (32)\ttotal: 148ms\tremaining: 287ms\n",
      "34:\tlearn: 63477.1220484\ttest: 65107.6190721\tbest: 65107.6190721 (34)\ttotal: 152ms\tremaining: 282ms\n",
      "35:\tlearn: 63312.9763378\ttest: 64851.0706286\tbest: 64851.0706286 (35)\ttotal: 156ms\tremaining: 278ms\n",
      "36:\tlearn: 63138.8713928\ttest: 64762.5656527\tbest: 64762.5656527 (36)\ttotal: 160ms\tremaining: 273ms\n",
      "37:\tlearn: 62959.5539344\ttest: 64610.5969606\tbest: 64610.5969606 (37)\ttotal: 165ms\tremaining: 268ms\n",
      "38:\tlearn: 62767.3461649\ttest: 64423.8962184\tbest: 64423.8962184 (38)\ttotal: 169ms\tremaining: 264ms\n",
      "39:\tlearn: 62618.0772417\ttest: 64429.3579937\tbest: 64423.8962184 (38)\ttotal: 173ms\tremaining: 259ms\n",
      "40:\tlearn: 62541.3638629\ttest: 64375.9441564\tbest: 64375.9441564 (40)\ttotal: 177ms\tremaining: 254ms\n",
      "41:\tlearn: 62423.4003133\ttest: 64357.0114053\tbest: 64357.0114053 (41)\ttotal: 181ms\tremaining: 250ms\n",
      "42:\tlearn: 62311.1272221\ttest: 64255.8822805\tbest: 64255.8822805 (42)\ttotal: 185ms\tremaining: 245ms\n",
      "43:\tlearn: 62227.8892884\ttest: 64233.5675960\tbest: 64233.5675960 (43)\ttotal: 189ms\tremaining: 241ms\n",
      "44:\tlearn: 62089.0419604\ttest: 64129.6668798\tbest: 64129.6668798 (44)\ttotal: 194ms\tremaining: 237ms\n",
      "45:\tlearn: 62087.5552348\ttest: 64128.4520445\tbest: 64128.4520445 (45)\ttotal: 198ms\tremaining: 232ms\n",
      "46:\tlearn: 61928.0321294\ttest: 64097.6888481\tbest: 64097.6888481 (46)\ttotal: 202ms\tremaining: 228ms\n",
      "47:\tlearn: 61820.5888108\ttest: 64052.6999461\tbest: 64052.6999461 (47)\ttotal: 206ms\tremaining: 224ms\n",
      "48:\tlearn: 61706.8647739\ttest: 64067.3249075\tbest: 64052.6999461 (47)\ttotal: 211ms\tremaining: 219ms\n",
      "49:\tlearn: 61617.8452269\ttest: 63989.3748121\tbest: 63989.3748121 (49)\ttotal: 215ms\tremaining: 215ms\n",
      "50:\tlearn: 61417.2023878\ttest: 63811.8523077\tbest: 63811.8523077 (50)\ttotal: 219ms\tremaining: 211ms\n",
      "51:\tlearn: 61321.3948264\ttest: 63653.3533658\tbest: 63653.3533658 (51)\ttotal: 224ms\tremaining: 206ms\n",
      "52:\tlearn: 61275.4030257\ttest: 63629.9287232\tbest: 63629.9287232 (52)\ttotal: 228ms\tremaining: 202ms\n",
      "53:\tlearn: 61274.3307362\ttest: 63626.0016600\tbest: 63626.0016600 (53)\ttotal: 232ms\tremaining: 197ms\n",
      "54:\tlearn: 61187.9157949\ttest: 63593.4020664\tbest: 63593.4020664 (54)\ttotal: 236ms\tremaining: 193ms\n",
      "55:\tlearn: 61049.8421274\ttest: 63530.7798094\tbest: 63530.7798094 (55)\ttotal: 240ms\tremaining: 189ms\n",
      "56:\tlearn: 60993.0709296\ttest: 63524.5405615\tbest: 63524.5405615 (56)\ttotal: 244ms\tremaining: 184ms\n",
      "57:\tlearn: 60891.2143078\ttest: 63472.0522023\tbest: 63472.0522023 (57)\ttotal: 249ms\tremaining: 181ms\n",
      "58:\tlearn: 60819.5115320\ttest: 63489.6938793\tbest: 63472.0522023 (57)\ttotal: 253ms\tremaining: 176ms\n",
      "59:\tlearn: 60771.4549062\ttest: 63479.1686255\tbest: 63472.0522023 (57)\ttotal: 257ms\tremaining: 172ms\n",
      "60:\tlearn: 60658.5586673\ttest: 63384.4685889\tbest: 63384.4685889 (60)\ttotal: 262ms\tremaining: 167ms\n",
      "61:\tlearn: 60471.2293900\ttest: 63330.0719177\tbest: 63330.0719177 (61)\ttotal: 266ms\tremaining: 163ms\n",
      "62:\tlearn: 60410.9663087\ttest: 63283.3083191\tbest: 63283.3083191 (62)\ttotal: 270ms\tremaining: 159ms\n",
      "63:\tlearn: 60352.7657450\ttest: 63274.5882263\tbest: 63274.5882263 (63)\ttotal: 274ms\tremaining: 154ms\n",
      "64:\tlearn: 60258.6115051\ttest: 63174.3581975\tbest: 63174.3581975 (64)\ttotal: 278ms\tremaining: 150ms\n",
      "65:\tlearn: 60120.2744844\ttest: 63132.6972213\tbest: 63132.6972213 (65)\ttotal: 282ms\tremaining: 145ms\n",
      "66:\tlearn: 60042.5968757\ttest: 63078.2025190\tbest: 63078.2025190 (66)\ttotal: 287ms\tremaining: 141ms\n",
      "67:\tlearn: 59974.1874919\ttest: 63065.4618573\tbest: 63065.4618573 (67)\ttotal: 291ms\tremaining: 137ms\n",
      "68:\tlearn: 59936.8568842\ttest: 63079.4360344\tbest: 63065.4618573 (67)\ttotal: 295ms\tremaining: 133ms\n",
      "69:\tlearn: 59844.8726520\ttest: 63010.7151940\tbest: 63010.7151940 (69)\ttotal: 300ms\tremaining: 129ms\n",
      "70:\tlearn: 59758.6954834\ttest: 63010.7060692\tbest: 63010.7060692 (70)\ttotal: 305ms\tremaining: 124ms\n",
      "71:\tlearn: 59655.3003371\ttest: 63008.6318718\tbest: 63008.6318718 (71)\ttotal: 309ms\tremaining: 120ms\n",
      "72:\tlearn: 59592.3794701\ttest: 62985.3279864\tbest: 62985.3279864 (72)\ttotal: 314ms\tremaining: 116ms\n",
      "73:\tlearn: 59497.9615482\ttest: 62880.6147146\tbest: 62880.6147146 (73)\ttotal: 318ms\tremaining: 112ms\n",
      "74:\tlearn: 59393.3770669\ttest: 62850.6397404\tbest: 62850.6397404 (74)\ttotal: 323ms\tremaining: 108ms\n",
      "75:\tlearn: 59324.6948478\ttest: 62864.1047521\tbest: 62850.6397404 (74)\ttotal: 327ms\tremaining: 103ms\n",
      "76:\tlearn: 59269.6281650\ttest: 62839.8154657\tbest: 62839.8154657 (76)\ttotal: 331ms\tremaining: 98.9ms\n",
      "77:\tlearn: 59225.0682178\ttest: 62840.7780716\tbest: 62839.8154657 (76)\ttotal: 336ms\tremaining: 94.6ms\n",
      "78:\tlearn: 59126.7118751\ttest: 62818.2917151\tbest: 62818.2917151 (78)\ttotal: 340ms\tremaining: 90.4ms\n",
      "79:\tlearn: 59051.7394337\ttest: 62815.4853761\tbest: 62815.4853761 (79)\ttotal: 344ms\tremaining: 86.1ms\n",
      "80:\tlearn: 59046.6109412\ttest: 62818.4878870\tbest: 62815.4853761 (79)\ttotal: 349ms\tremaining: 81.8ms\n",
      "81:\tlearn: 58976.1981192\ttest: 62775.8606891\tbest: 62775.8606891 (81)\ttotal: 353ms\tremaining: 77.5ms\n",
      "82:\tlearn: 58904.9241372\ttest: 62766.4351212\tbest: 62766.4351212 (82)\ttotal: 357ms\tremaining: 73.2ms\n",
      "83:\tlearn: 58802.1426568\ttest: 62692.0767657\tbest: 62692.0767657 (83)\ttotal: 361ms\tremaining: 68.9ms\n",
      "84:\tlearn: 58729.4843275\ttest: 62653.5231272\tbest: 62653.5231272 (84)\ttotal: 366ms\tremaining: 64.5ms\n",
      "85:\tlearn: 58669.7433961\ttest: 62628.2728318\tbest: 62628.2728318 (85)\ttotal: 370ms\tremaining: 60.2ms\n",
      "86:\tlearn: 58570.5460522\ttest: 62639.9048936\tbest: 62628.2728318 (85)\ttotal: 374ms\tremaining: 55.9ms\n",
      "87:\tlearn: 58503.5415610\ttest: 62612.1576211\tbest: 62612.1576211 (87)\ttotal: 379ms\tremaining: 51.6ms\n",
      "88:\tlearn: 58355.3525979\ttest: 62561.3378698\tbest: 62561.3378698 (88)\ttotal: 383ms\tremaining: 47.3ms\n",
      "89:\tlearn: 58290.6183073\ttest: 62575.4255980\tbest: 62561.3378698 (88)\ttotal: 387ms\tremaining: 43ms\n",
      "90:\tlearn: 58243.7137987\ttest: 62501.2230644\tbest: 62501.2230644 (90)\ttotal: 392ms\tremaining: 38.7ms\n",
      "91:\tlearn: 58192.2562389\ttest: 62489.8755291\tbest: 62489.8755291 (91)\ttotal: 396ms\tremaining: 34.4ms\n",
      "92:\tlearn: 58155.6126300\ttest: 62506.4627822\tbest: 62489.8755291 (91)\ttotal: 400ms\tremaining: 30.1ms\n",
      "93:\tlearn: 58064.9499926\ttest: 62460.5298237\tbest: 62460.5298237 (93)\ttotal: 405ms\tremaining: 25.8ms\n",
      "94:\tlearn: 57989.8255473\ttest: 62462.2823895\tbest: 62460.5298237 (93)\ttotal: 409ms\tremaining: 21.6ms\n",
      "95:\tlearn: 57989.0776173\ttest: 62462.3450568\tbest: 62460.5298237 (93)\ttotal: 413ms\tremaining: 17.2ms\n",
      "96:\tlearn: 57871.9528659\ttest: 62410.1578158\tbest: 62410.1578158 (96)\ttotal: 418ms\tremaining: 12.9ms\n",
      "97:\tlearn: 57838.0931259\ttest: 62442.9192449\tbest: 62410.1578158 (96)\ttotal: 422ms\tremaining: 8.61ms\n",
      "98:\tlearn: 57776.6476337\ttest: 62459.2893670\tbest: 62410.1578158 (96)\ttotal: 426ms\tremaining: 4.3ms\n",
      "99:\tlearn: 57728.8828612\ttest: 62442.5757625\tbest: 62410.1578158 (96)\ttotal: 430ms\tremaining: 0us\n",
      "\n",
      "bestTest = 62410.15782\n",
      "bestIteration = 96\n",
      "\n",
      "0:\tloss: 62410.1578158\tbest: 62410.1578158 (0)\ttotal: 1.34s\tremaining: 12.1s\n",
      "0:\tlearn: 103788.1221990\ttest: 102797.4885665\tbest: 102797.4885665 (0)\ttotal: 5.22ms\tremaining: 516ms\n",
      "1:\tlearn: 85566.2644708\ttest: 85539.9475185\tbest: 85539.9475185 (1)\ttotal: 9.51ms\tremaining: 466ms\n",
      "2:\tlearn: 79924.4747349\ttest: 79778.5067841\tbest: 79778.5067841 (2)\ttotal: 14.9ms\tremaining: 483ms\n",
      "3:\tlearn: 73701.0635811\ttest: 73853.5836302\tbest: 73853.5836302 (3)\ttotal: 20.7ms\tremaining: 497ms\n",
      "4:\tlearn: 71845.7087987\ttest: 72159.7865442\tbest: 72159.7865442 (4)\ttotal: 30.6ms\tremaining: 581ms\n",
      "5:\tlearn: 70573.7214915\ttest: 70711.2539015\tbest: 70711.2539015 (5)\ttotal: 34.9ms\tremaining: 547ms\n",
      "6:\tlearn: 69578.5494465\ttest: 69491.4234296\tbest: 69491.4234296 (6)\ttotal: 39.1ms\tremaining: 519ms\n",
      "7:\tlearn: 69027.6006521\ttest: 69072.2993956\tbest: 69072.2993956 (7)\ttotal: 43.4ms\tremaining: 500ms\n",
      "8:\tlearn: 68620.4033189\ttest: 68914.1907195\tbest: 68914.1907195 (8)\ttotal: 55.6ms\tremaining: 562ms\n",
      "9:\tlearn: 68239.3671607\ttest: 68603.5220196\tbest: 68603.5220196 (9)\ttotal: 59.8ms\tremaining: 539ms\n",
      "10:\tlearn: 67797.2943714\ttest: 68143.0232151\tbest: 68143.0232151 (10)\ttotal: 63.7ms\tremaining: 516ms\n",
      "11:\tlearn: 67269.5973103\ttest: 67620.4245235\tbest: 67620.4245235 (11)\ttotal: 67.8ms\tremaining: 497ms\n",
      "12:\tlearn: 67050.8534649\ttest: 67404.2570635\tbest: 67404.2570635 (12)\ttotal: 71.8ms\tremaining: 481ms\n",
      "13:\tlearn: 66667.7748372\ttest: 67042.6918925\tbest: 67042.6918925 (13)\ttotal: 76ms\tremaining: 467ms\n",
      "14:\tlearn: 66326.4716492\ttest: 66889.8802731\tbest: 66889.8802731 (14)\ttotal: 79.9ms\tremaining: 453ms\n",
      "15:\tlearn: 66191.6907238\ttest: 66757.5343719\tbest: 66757.5343719 (15)\ttotal: 83.8ms\tremaining: 440ms\n",
      "16:\tlearn: 66008.4177783\ttest: 66786.4913128\tbest: 66757.5343719 (15)\ttotal: 87.9ms\tremaining: 429ms\n",
      "17:\tlearn: 65726.7907425\ttest: 66441.1024604\tbest: 66441.1024604 (17)\ttotal: 95.8ms\tremaining: 437ms\n",
      "18:\tlearn: 65582.9509110\ttest: 66324.6495007\tbest: 66324.6495007 (18)\ttotal: 100ms\tremaining: 426ms\n",
      "19:\tlearn: 65464.1546485\ttest: 66242.7199276\tbest: 66242.7199276 (19)\ttotal: 105ms\tremaining: 418ms\n",
      "20:\tlearn: 65235.6549956\ttest: 66103.9306612\tbest: 66103.9306612 (20)\ttotal: 110ms\tremaining: 412ms\n",
      "21:\tlearn: 64980.1048001\ttest: 65922.0493476\tbest: 65922.0493476 (21)\ttotal: 115ms\tremaining: 407ms\n",
      "22:\tlearn: 64887.8789360\ttest: 65919.1472636\tbest: 65919.1472636 (22)\ttotal: 119ms\tremaining: 400ms\n",
      "23:\tlearn: 64625.9529878\ttest: 65676.6926662\tbest: 65676.6926662 (23)\ttotal: 124ms\tremaining: 393ms\n",
      "24:\tlearn: 64446.6777694\ttest: 65630.8006882\tbest: 65630.8006882 (24)\ttotal: 128ms\tremaining: 385ms\n",
      "25:\tlearn: 64118.6728297\ttest: 65533.7886165\tbest: 65533.7886165 (25)\ttotal: 133ms\tremaining: 378ms\n",
      "26:\tlearn: 63963.5688688\ttest: 65433.9308368\tbest: 65433.9308368 (26)\ttotal: 140ms\tremaining: 377ms\n",
      "27:\tlearn: 63961.5134848\ttest: 65423.6042105\tbest: 65423.6042105 (27)\ttotal: 144ms\tremaining: 369ms\n",
      "28:\tlearn: 63959.9873468\ttest: 65414.9483282\tbest: 65414.9483282 (28)\ttotal: 147ms\tremaining: 359ms\n",
      "29:\tlearn: 63771.8019534\ttest: 65206.3939539\tbest: 65206.3939539 (29)\ttotal: 151ms\tremaining: 352ms\n",
      "30:\tlearn: 63672.3161661\ttest: 65155.8198124\tbest: 65155.8198124 (30)\ttotal: 155ms\tremaining: 346ms\n",
      "31:\tlearn: 63578.0905455\ttest: 65144.4189659\tbest: 65144.4189659 (31)\ttotal: 160ms\tremaining: 340ms\n",
      "32:\tlearn: 63369.8225275\ttest: 65099.0690433\tbest: 65099.0690433 (32)\ttotal: 165ms\tremaining: 334ms\n",
      "33:\tlearn: 63221.6040667\ttest: 64819.3636989\tbest: 64819.3636989 (33)\ttotal: 169ms\tremaining: 328ms\n",
      "34:\tlearn: 63148.2298778\ttest: 64775.7890617\tbest: 64775.7890617 (34)\ttotal: 173ms\tremaining: 322ms\n",
      "35:\tlearn: 62995.2173242\ttest: 64729.5865981\tbest: 64729.5865981 (35)\ttotal: 178ms\tremaining: 316ms\n",
      "36:\tlearn: 62962.7216873\ttest: 64717.4331716\tbest: 64717.4331716 (36)\ttotal: 183ms\tremaining: 311ms\n",
      "37:\tlearn: 62865.4464829\ttest: 64697.0547401\tbest: 64697.0547401 (37)\ttotal: 187ms\tremaining: 306ms\n",
      "38:\tlearn: 62733.0547311\ttest: 64630.9742071\tbest: 64630.9742071 (38)\ttotal: 192ms\tremaining: 300ms\n",
      "39:\tlearn: 62595.2091797\ttest: 64556.1567257\tbest: 64556.1567257 (39)\ttotal: 198ms\tremaining: 297ms\n",
      "40:\tlearn: 62471.4791890\ttest: 64468.4589310\tbest: 64468.4589310 (40)\ttotal: 204ms\tremaining: 293ms\n",
      "41:\tlearn: 62292.8820692\ttest: 64364.5730359\tbest: 64364.5730359 (41)\ttotal: 213ms\tremaining: 294ms\n",
      "42:\tlearn: 62160.6952599\ttest: 64266.9965261\tbest: 64266.9965261 (42)\ttotal: 223ms\tremaining: 295ms\n",
      "43:\tlearn: 62156.2972454\ttest: 64272.8925887\tbest: 64266.9965261 (42)\ttotal: 232ms\tremaining: 295ms\n",
      "44:\tlearn: 62059.1336163\ttest: 64297.3229222\tbest: 64266.9965261 (42)\ttotal: 238ms\tremaining: 291ms\n",
      "45:\tlearn: 61888.1757973\ttest: 64147.6138980\tbest: 64147.6138980 (45)\ttotal: 243ms\tremaining: 285ms\n",
      "46:\tlearn: 61883.4412719\ttest: 64141.7041144\tbest: 64141.7041144 (46)\ttotal: 247ms\tremaining: 279ms\n",
      "47:\tlearn: 61766.3924683\ttest: 64058.6165849\tbest: 64058.6165849 (47)\ttotal: 252ms\tremaining: 273ms\n",
      "48:\tlearn: 61571.0680986\ttest: 63934.5540317\tbest: 63934.5540317 (48)\ttotal: 257ms\tremaining: 268ms\n",
      "49:\tlearn: 61464.1602140\ttest: 63880.3127012\tbest: 63880.3127012 (49)\ttotal: 262ms\tremaining: 262ms\n",
      "50:\tlearn: 61366.2430842\ttest: 63836.6316205\tbest: 63836.6316205 (50)\ttotal: 266ms\tremaining: 256ms\n",
      "51:\tlearn: 61257.5423281\ttest: 63677.3772493\tbest: 63677.3772493 (51)\ttotal: 271ms\tremaining: 250ms\n",
      "52:\tlearn: 61102.9397912\ttest: 63617.7429326\tbest: 63617.7429326 (52)\ttotal: 275ms\tremaining: 244ms\n",
      "53:\tlearn: 61019.4848438\ttest: 63569.5187666\tbest: 63569.5187666 (53)\ttotal: 280ms\tremaining: 239ms\n",
      "54:\tlearn: 60945.5025474\ttest: 63643.7535443\tbest: 63569.5187666 (53)\ttotal: 285ms\tremaining: 233ms\n",
      "55:\tlearn: 60902.9534430\ttest: 63659.4975113\tbest: 63569.5187666 (53)\ttotal: 289ms\tremaining: 227ms\n",
      "56:\tlearn: 60823.5997044\ttest: 63593.7405688\tbest: 63569.5187666 (53)\ttotal: 293ms\tremaining: 221ms\n",
      "57:\tlearn: 60711.5243741\ttest: 63540.4941250\tbest: 63540.4941250 (57)\ttotal: 297ms\tremaining: 215ms\n",
      "58:\tlearn: 60647.1398019\ttest: 63523.2549735\tbest: 63523.2549735 (58)\ttotal: 301ms\tremaining: 209ms\n",
      "59:\tlearn: 60528.1332759\ttest: 63399.9086218\tbest: 63399.9086218 (59)\ttotal: 305ms\tremaining: 204ms\n",
      "60:\tlearn: 60445.3637051\ttest: 63435.1584576\tbest: 63399.9086218 (59)\ttotal: 309ms\tremaining: 198ms\n",
      "61:\tlearn: 60435.6547579\ttest: 63432.3330886\tbest: 63399.9086218 (59)\ttotal: 315ms\tremaining: 193ms\n",
      "62:\tlearn: 60354.5401973\ttest: 63359.4247737\tbest: 63359.4247737 (62)\ttotal: 319ms\tremaining: 187ms\n",
      "63:\tlearn: 60268.2464555\ttest: 63334.2136789\tbest: 63334.2136789 (63)\ttotal: 323ms\tremaining: 182ms\n",
      "64:\tlearn: 60198.1646278\ttest: 63342.5267136\tbest: 63334.2136789 (63)\ttotal: 328ms\tremaining: 177ms\n",
      "65:\tlearn: 60093.8218157\ttest: 63225.1897324\tbest: 63225.1897324 (65)\ttotal: 332ms\tremaining: 171ms\n",
      "66:\tlearn: 59997.0561462\ttest: 63232.5709623\tbest: 63225.1897324 (65)\ttotal: 337ms\tremaining: 166ms\n",
      "67:\tlearn: 59920.1612038\ttest: 63221.7058849\tbest: 63221.7058849 (67)\ttotal: 340ms\tremaining: 160ms\n",
      "68:\tlearn: 59813.0555730\ttest: 63086.0272752\tbest: 63086.0272752 (68)\ttotal: 345ms\tremaining: 155ms\n",
      "69:\tlearn: 59802.3728816\ttest: 63083.1268334\tbest: 63083.1268334 (69)\ttotal: 349ms\tremaining: 149ms\n",
      "70:\tlearn: 59715.1379404\ttest: 63007.6991886\tbest: 63007.6991886 (70)\ttotal: 353ms\tremaining: 144ms\n",
      "71:\tlearn: 59626.6376749\ttest: 62971.5101559\tbest: 62971.5101559 (71)\ttotal: 357ms\tremaining: 139ms\n",
      "72:\tlearn: 59576.3303264\ttest: 62979.9394325\tbest: 62971.5101559 (71)\ttotal: 361ms\tremaining: 133ms\n",
      "73:\tlearn: 59527.5584539\ttest: 63005.5640892\tbest: 62971.5101559 (71)\ttotal: 365ms\tremaining: 128ms\n",
      "74:\tlearn: 59511.6146875\ttest: 63030.6380279\tbest: 62971.5101559 (71)\ttotal: 369ms\tremaining: 123ms\n",
      "75:\tlearn: 59460.4203283\ttest: 63072.6095563\tbest: 62971.5101559 (71)\ttotal: 373ms\tremaining: 118ms\n",
      "76:\tlearn: 59394.4599058\ttest: 63105.3071112\tbest: 62971.5101559 (71)\ttotal: 377ms\tremaining: 113ms\n",
      "77:\tlearn: 59326.7893650\ttest: 63044.0072001\tbest: 62971.5101559 (71)\ttotal: 381ms\tremaining: 108ms\n",
      "78:\tlearn: 59283.6716959\ttest: 63019.6032941\tbest: 62971.5101559 (71)\ttotal: 385ms\tremaining: 102ms\n",
      "79:\tlearn: 59227.7587028\ttest: 63003.0379334\tbest: 62971.5101559 (71)\ttotal: 389ms\tremaining: 97.2ms\n",
      "80:\tlearn: 59204.6512221\ttest: 62999.3928492\tbest: 62971.5101559 (71)\ttotal: 393ms\tremaining: 92.3ms\n",
      "81:\tlearn: 59112.0637620\ttest: 62909.5099279\tbest: 62909.5099279 (81)\ttotal: 398ms\tremaining: 87.3ms\n",
      "82:\tlearn: 59005.1378019\ttest: 62884.8069355\tbest: 62884.8069355 (82)\ttotal: 402ms\tremaining: 82.3ms\n",
      "83:\tlearn: 58991.1320969\ttest: 62882.1364656\tbest: 62882.1364656 (83)\ttotal: 406ms\tremaining: 77.4ms\n",
      "84:\tlearn: 58913.0616989\ttest: 62817.0166929\tbest: 62817.0166929 (84)\ttotal: 410ms\tremaining: 72.4ms\n",
      "85:\tlearn: 58852.9819865\ttest: 62796.1247400\tbest: 62796.1247400 (85)\ttotal: 414ms\tremaining: 67.5ms\n",
      "86:\tlearn: 58781.5162981\ttest: 62776.1410639\tbest: 62776.1410639 (86)\ttotal: 419ms\tremaining: 62.6ms\n",
      "87:\tlearn: 58709.9698416\ttest: 62712.5188133\tbest: 62712.5188133 (87)\ttotal: 423ms\tremaining: 57.6ms\n",
      "88:\tlearn: 58654.2833365\ttest: 62705.9531598\tbest: 62705.9531598 (88)\ttotal: 427ms\tremaining: 52.8ms\n",
      "89:\tlearn: 58553.9582864\ttest: 62752.1455682\tbest: 62705.9531598 (88)\ttotal: 432ms\tremaining: 48ms\n",
      "90:\tlearn: 58472.8870806\ttest: 62685.4238069\tbest: 62685.4238069 (90)\ttotal: 437ms\tremaining: 43.2ms\n",
      "91:\tlearn: 58365.4885699\ttest: 62662.2032030\tbest: 62662.2032030 (91)\ttotal: 441ms\tremaining: 38.4ms\n",
      "92:\tlearn: 58291.9125665\ttest: 62654.9178439\tbest: 62654.9178439 (92)\ttotal: 446ms\tremaining: 33.5ms\n",
      "93:\tlearn: 58247.5694587\ttest: 62697.3886253\tbest: 62654.9178439 (92)\ttotal: 450ms\tremaining: 28.7ms\n",
      "94:\tlearn: 58199.1649315\ttest: 62687.1115403\tbest: 62654.9178439 (92)\ttotal: 455ms\tremaining: 23.9ms\n",
      "95:\tlearn: 58138.3758756\ttest: 62722.0071098\tbest: 62654.9178439 (92)\ttotal: 459ms\tremaining: 19.1ms\n",
      "96:\tlearn: 58090.4289673\ttest: 62716.1214614\tbest: 62654.9178439 (92)\ttotal: 464ms\tremaining: 14.4ms\n",
      "97:\tlearn: 58033.1929314\ttest: 62721.1802862\tbest: 62654.9178439 (92)\ttotal: 470ms\tremaining: 9.6ms\n",
      "98:\tlearn: 57969.1332571\ttest: 62726.6729137\tbest: 62654.9178439 (92)\ttotal: 487ms\tremaining: 4.92ms\n",
      "99:\tlearn: 57919.4609992\ttest: 62722.6996094\tbest: 62654.9178439 (92)\ttotal: 495ms\tremaining: 0us\n",
      "\n",
      "bestTest = 62654.91784\n",
      "bestIteration = 92\n",
      "\n",
      "1:\tloss: 62654.9178439\tbest: 62410.1578158 (0)\ttotal: 1.85s\tremaining: 7.4s\n",
      "0:\tlearn: 94638.0998649\ttest: 94040.1914436\tbest: 94040.1914436 (0)\ttotal: 9.15ms\tremaining: 906ms\n",
      "1:\tlearn: 82982.6930449\ttest: 82534.1449042\tbest: 82534.1449042 (1)\ttotal: 14.9ms\tremaining: 730ms\n",
      "2:\tlearn: 75364.5872469\ttest: 75990.8504254\tbest: 75990.8504254 (2)\ttotal: 28.8ms\tremaining: 932ms\n",
      "3:\tlearn: 72474.0857019\ttest: 73125.3093737\tbest: 73125.3093737 (3)\ttotal: 38.8ms\tremaining: 932ms\n",
      "4:\tlearn: 71237.4975294\ttest: 71991.0084329\tbest: 71991.0084329 (4)\ttotal: 44.6ms\tremaining: 847ms\n",
      "5:\tlearn: 70619.9255221\ttest: 71448.9062790\tbest: 71448.9062790 (5)\ttotal: 49.9ms\tremaining: 782ms\n",
      "6:\tlearn: 70048.9206929\ttest: 70936.3563744\tbest: 70936.3563744 (6)\ttotal: 55.5ms\tremaining: 737ms\n",
      "7:\tlearn: 69266.0864582\ttest: 70250.5002862\tbest: 70250.5002862 (7)\ttotal: 60.8ms\tremaining: 700ms\n",
      "8:\tlearn: 68192.0052462\ttest: 69147.0917265\tbest: 69147.0917265 (8)\ttotal: 66.8ms\tremaining: 675ms\n",
      "9:\tlearn: 67434.8583999\ttest: 68402.3158268\tbest: 68402.3158268 (9)\ttotal: 72.5ms\tremaining: 653ms\n",
      "10:\tlearn: 66704.9739121\ttest: 67822.3026962\tbest: 67822.3026962 (10)\ttotal: 78.6ms\tremaining: 636ms\n",
      "11:\tlearn: 66698.3988699\ttest: 67793.7370487\tbest: 67793.7370487 (11)\ttotal: 81.2ms\tremaining: 596ms\n",
      "12:\tlearn: 66414.7659708\ttest: 67747.6010914\tbest: 67747.6010914 (12)\ttotal: 86.7ms\tremaining: 580ms\n",
      "13:\tlearn: 66283.4390710\ttest: 67588.5278737\tbest: 67588.5278737 (13)\ttotal: 93.2ms\tremaining: 573ms\n",
      "14:\tlearn: 65971.9436756\ttest: 67363.2028703\tbest: 67363.2028703 (14)\ttotal: 99.3ms\tremaining: 563ms\n",
      "15:\tlearn: 65366.6835839\ttest: 66844.1250255\tbest: 66844.1250255 (15)\ttotal: 106ms\tremaining: 556ms\n",
      "16:\tlearn: 65335.6590154\ttest: 66822.9120476\tbest: 66822.9120476 (16)\ttotal: 111ms\tremaining: 544ms\n",
      "17:\tlearn: 64932.0462508\ttest: 66277.1801570\tbest: 66277.1801570 (17)\ttotal: 117ms\tremaining: 533ms\n",
      "18:\tlearn: 64458.4083869\ttest: 66087.6901344\tbest: 66087.6901344 (18)\ttotal: 123ms\tremaining: 524ms\n",
      "19:\tlearn: 64206.9135371\ttest: 65930.1324414\tbest: 65930.1324414 (19)\ttotal: 128ms\tremaining: 513ms\n",
      "20:\tlearn: 63641.8385506\ttest: 65644.5392470\tbest: 65644.5392470 (20)\ttotal: 134ms\tremaining: 505ms\n",
      "21:\tlearn: 63309.0862327\ttest: 65534.0432035\tbest: 65534.0432035 (21)\ttotal: 140ms\tremaining: 496ms\n",
      "22:\tlearn: 63274.0140610\ttest: 65503.1110666\tbest: 65503.1110666 (22)\ttotal: 145ms\tremaining: 486ms\n",
      "23:\tlearn: 63018.9858582\ttest: 65372.1667975\tbest: 65372.1667975 (23)\ttotal: 166ms\tremaining: 526ms\n",
      "24:\tlearn: 62887.9930431\ttest: 65262.8495261\tbest: 65262.8495261 (24)\ttotal: 178ms\tremaining: 535ms\n",
      "25:\tlearn: 62850.7217967\ttest: 65263.7926782\tbest: 65262.8495261 (24)\ttotal: 189ms\tremaining: 539ms\n",
      "26:\tlearn: 62640.5174405\ttest: 65180.5139617\tbest: 65180.5139617 (26)\ttotal: 201ms\tremaining: 543ms\n",
      "27:\tlearn: 62471.9689514\ttest: 64963.3012180\tbest: 64963.3012180 (27)\ttotal: 213ms\tremaining: 549ms\n",
      "28:\tlearn: 62441.4545704\ttest: 64982.0570600\tbest: 64963.3012180 (27)\ttotal: 220ms\tremaining: 540ms\n",
      "29:\tlearn: 62278.9425940\ttest: 64885.5164764\tbest: 64885.5164764 (29)\ttotal: 227ms\tremaining: 529ms\n",
      "30:\tlearn: 61989.2608997\ttest: 64733.1782583\tbest: 64733.1782583 (30)\ttotal: 233ms\tremaining: 520ms\n",
      "31:\tlearn: 61726.0421845\ttest: 64615.1737916\tbest: 64615.1737916 (31)\ttotal: 240ms\tremaining: 509ms\n",
      "32:\tlearn: 61565.4388843\ttest: 64556.6583741\tbest: 64556.6583741 (32)\ttotal: 247ms\tremaining: 501ms\n",
      "33:\tlearn: 61407.5289089\ttest: 64480.1377567\tbest: 64480.1377567 (33)\ttotal: 252ms\tremaining: 490ms\n",
      "34:\tlearn: 61238.8581523\ttest: 64348.0396978\tbest: 64348.0396978 (34)\ttotal: 258ms\tremaining: 480ms\n",
      "35:\tlearn: 61089.6392156\ttest: 64276.9907138\tbest: 64276.9907138 (35)\ttotal: 265ms\tremaining: 471ms\n",
      "36:\tlearn: 60801.4101931\ttest: 64022.7909275\tbest: 64022.7909275 (36)\ttotal: 270ms\tremaining: 460ms\n",
      "37:\tlearn: 60632.6623611\ttest: 63901.8611314\tbest: 63901.8611314 (37)\ttotal: 275ms\tremaining: 449ms\n",
      "38:\tlearn: 60477.8497627\ttest: 63857.9721986\tbest: 63857.9721986 (38)\ttotal: 281ms\tremaining: 439ms\n",
      "39:\tlearn: 60346.7738672\ttest: 63779.4162374\tbest: 63779.4162374 (39)\ttotal: 286ms\tremaining: 429ms\n",
      "40:\tlearn: 60256.2567756\ttest: 63771.9896035\tbest: 63771.9896035 (40)\ttotal: 292ms\tremaining: 420ms\n",
      "41:\tlearn: 60151.0580503\ttest: 63802.6684313\tbest: 63771.9896035 (40)\ttotal: 297ms\tremaining: 410ms\n",
      "42:\tlearn: 60131.7509740\ttest: 63803.0585996\tbest: 63771.9896035 (40)\ttotal: 302ms\tremaining: 400ms\n",
      "43:\tlearn: 59893.8619070\ttest: 63672.6839627\tbest: 63672.6839627 (43)\ttotal: 307ms\tremaining: 390ms\n",
      "44:\tlearn: 59819.1017871\ttest: 63656.5986952\tbest: 63656.5986952 (44)\ttotal: 312ms\tremaining: 381ms\n",
      "45:\tlearn: 59706.9315846\ttest: 63563.7152050\tbest: 63563.7152050 (45)\ttotal: 318ms\tremaining: 373ms\n",
      "46:\tlearn: 59608.1615986\ttest: 63528.9964604\tbest: 63528.9964604 (46)\ttotal: 323ms\tremaining: 365ms\n",
      "47:\tlearn: 59506.4766830\ttest: 63514.5035991\tbest: 63514.5035991 (47)\ttotal: 329ms\tremaining: 356ms\n",
      "48:\tlearn: 59362.3814383\ttest: 63400.2016480\tbest: 63400.2016480 (48)\ttotal: 335ms\tremaining: 349ms\n",
      "49:\tlearn: 59208.8564400\ttest: 63391.0383717\tbest: 63391.0383717 (49)\ttotal: 341ms\tremaining: 341ms\n",
      "50:\tlearn: 59195.2028869\ttest: 63389.6530072\tbest: 63389.6530072 (50)\ttotal: 346ms\tremaining: 333ms\n",
      "51:\tlearn: 59124.6597958\ttest: 63418.2114302\tbest: 63389.6530072 (50)\ttotal: 351ms\tremaining: 324ms\n",
      "52:\tlearn: 58974.6112675\ttest: 63399.5856192\tbest: 63389.6530072 (50)\ttotal: 357ms\tremaining: 316ms\n",
      "53:\tlearn: 58878.8563739\ttest: 63422.3308510\tbest: 63389.6530072 (50)\ttotal: 362ms\tremaining: 309ms\n",
      "54:\tlearn: 58804.5952863\ttest: 63456.6928732\tbest: 63389.6530072 (50)\ttotal: 368ms\tremaining: 301ms\n",
      "55:\tlearn: 58644.0700677\ttest: 63343.6154573\tbest: 63343.6154573 (55)\ttotal: 374ms\tremaining: 294ms\n",
      "56:\tlearn: 58542.3618784\ttest: 63337.8768124\tbest: 63337.8768124 (56)\ttotal: 379ms\tremaining: 286ms\n",
      "57:\tlearn: 58408.4700014\ttest: 63223.7645492\tbest: 63223.7645492 (57)\ttotal: 385ms\tremaining: 279ms\n",
      "58:\tlearn: 58345.5983577\ttest: 63233.3889178\tbest: 63223.7645492 (57)\ttotal: 390ms\tremaining: 271ms\n",
      "59:\tlearn: 58340.4896143\ttest: 63238.2710162\tbest: 63223.7645492 (57)\ttotal: 395ms\tremaining: 263ms\n",
      "60:\tlearn: 58267.9760907\ttest: 63213.8980587\tbest: 63213.8980587 (60)\ttotal: 400ms\tremaining: 256ms\n",
      "61:\tlearn: 58142.0800721\ttest: 63164.8702870\tbest: 63164.8702870 (61)\ttotal: 406ms\tremaining: 249ms\n",
      "62:\tlearn: 58010.1773907\ttest: 63092.3267578\tbest: 63092.3267578 (62)\ttotal: 412ms\tremaining: 242ms\n",
      "63:\tlearn: 57899.8958864\ttest: 62985.7765503\tbest: 62985.7765503 (63)\ttotal: 417ms\tremaining: 235ms\n",
      "64:\tlearn: 57898.3867619\ttest: 62985.2468877\tbest: 62985.2468877 (64)\ttotal: 423ms\tremaining: 228ms\n",
      "65:\tlearn: 57790.5192809\ttest: 62988.4640041\tbest: 62985.2468877 (64)\ttotal: 429ms\tremaining: 221ms\n",
      "66:\tlearn: 57785.6038496\ttest: 62987.6725672\tbest: 62985.2468877 (64)\ttotal: 435ms\tremaining: 214ms\n",
      "67:\tlearn: 57610.3019632\ttest: 62873.4255143\tbest: 62873.4255143 (67)\ttotal: 441ms\tremaining: 207ms\n",
      "68:\tlearn: 57476.0341727\ttest: 62865.6068404\tbest: 62865.6068404 (68)\ttotal: 446ms\tremaining: 201ms\n",
      "69:\tlearn: 57454.1394041\ttest: 62851.9920687\tbest: 62851.9920687 (69)\ttotal: 451ms\tremaining: 193ms\n",
      "70:\tlearn: 57302.4422199\ttest: 62758.0070572\tbest: 62758.0070572 (70)\ttotal: 457ms\tremaining: 187ms\n",
      "71:\tlearn: 57225.3492351\ttest: 62787.6342800\tbest: 62758.0070572 (70)\ttotal: 462ms\tremaining: 180ms\n",
      "72:\tlearn: 57126.7004656\ttest: 62849.6150498\tbest: 62758.0070572 (70)\ttotal: 468ms\tremaining: 173ms\n",
      "73:\tlearn: 57004.3917525\ttest: 62876.5093626\tbest: 62758.0070572 (70)\ttotal: 473ms\tremaining: 166ms\n",
      "74:\tlearn: 56883.2427067\ttest: 62806.1991471\tbest: 62758.0070572 (70)\ttotal: 479ms\tremaining: 160ms\n",
      "75:\tlearn: 56751.9308641\ttest: 62712.8324098\tbest: 62712.8324098 (75)\ttotal: 484ms\tremaining: 153ms\n",
      "76:\tlearn: 56641.6244570\ttest: 62661.1614596\tbest: 62661.1614596 (76)\ttotal: 490ms\tremaining: 146ms\n",
      "77:\tlearn: 56557.4954506\ttest: 62649.4135665\tbest: 62649.4135665 (77)\ttotal: 496ms\tremaining: 140ms\n",
      "78:\tlearn: 56402.1595058\ttest: 62557.7246732\tbest: 62557.7246732 (78)\ttotal: 503ms\tremaining: 134ms\n",
      "79:\tlearn: 56273.8418393\ttest: 62526.9328797\tbest: 62526.9328797 (79)\ttotal: 515ms\tremaining: 129ms\n",
      "80:\tlearn: 56186.5827433\ttest: 62495.3332366\tbest: 62495.3332366 (80)\ttotal: 521ms\tremaining: 122ms\n",
      "81:\tlearn: 56082.3519142\ttest: 62507.6402492\tbest: 62495.3332366 (80)\ttotal: 527ms\tremaining: 116ms\n",
      "82:\tlearn: 55996.7566048\ttest: 62504.4976053\tbest: 62495.3332366 (80)\ttotal: 532ms\tremaining: 109ms\n",
      "83:\tlearn: 55913.1783827\ttest: 62527.3059929\tbest: 62495.3332366 (80)\ttotal: 538ms\tremaining: 102ms\n",
      "84:\tlearn: 55826.8146820\ttest: 62558.7242881\tbest: 62495.3332366 (80)\ttotal: 544ms\tremaining: 95.9ms\n",
      "85:\tlearn: 55737.3938603\ttest: 62516.4868948\tbest: 62495.3332366 (80)\ttotal: 549ms\tremaining: 89.4ms\n",
      "86:\tlearn: 55622.8803509\ttest: 62493.1791987\tbest: 62493.1791987 (86)\ttotal: 554ms\tremaining: 82.9ms\n",
      "87:\tlearn: 55580.8520603\ttest: 62475.7943483\tbest: 62475.7943483 (87)\ttotal: 560ms\tremaining: 76.3ms\n",
      "88:\tlearn: 55521.7375411\ttest: 62459.0069605\tbest: 62459.0069605 (88)\ttotal: 565ms\tremaining: 69.9ms\n",
      "89:\tlearn: 55430.9635985\ttest: 62414.9295164\tbest: 62414.9295164 (89)\ttotal: 571ms\tremaining: 63.4ms\n",
      "90:\tlearn: 55388.5929591\ttest: 62430.7603006\tbest: 62414.9295164 (89)\ttotal: 576ms\tremaining: 57ms\n",
      "91:\tlearn: 55291.8111904\ttest: 62407.4505410\tbest: 62407.4505410 (91)\ttotal: 581ms\tremaining: 50.6ms\n",
      "92:\tlearn: 55232.7055845\ttest: 62388.3678624\tbest: 62388.3678624 (92)\ttotal: 593ms\tremaining: 44.6ms\n",
      "93:\tlearn: 55190.1232173\ttest: 62363.0814160\tbest: 62363.0814160 (93)\ttotal: 599ms\tremaining: 38.2ms\n",
      "94:\tlearn: 55133.2793514\ttest: 62325.4895929\tbest: 62325.4895929 (94)\ttotal: 604ms\tremaining: 31.8ms\n",
      "95:\tlearn: 55070.7779435\ttest: 62339.7469302\tbest: 62325.4895929 (94)\ttotal: 609ms\tremaining: 25.4ms\n",
      "96:\tlearn: 54990.3895790\ttest: 62272.8027148\tbest: 62272.8027148 (96)\ttotal: 614ms\tremaining: 19ms\n",
      "97:\tlearn: 54950.4506736\ttest: 62259.5366569\tbest: 62259.5366569 (97)\ttotal: 619ms\tremaining: 12.6ms\n",
      "98:\tlearn: 54919.1121031\ttest: 62286.8192569\tbest: 62259.5366569 (97)\ttotal: 624ms\tremaining: 6.31ms\n",
      "99:\tlearn: 54854.0304945\ttest: 62283.9585795\tbest: 62259.5366569 (97)\ttotal: 629ms\tremaining: 0us\n",
      "\n",
      "bestTest = 62259.53666\n",
      "bestIteration = 97\n",
      "\n",
      "2:\tloss: 62259.5366569\tbest: 62259.5366569 (2)\ttotal: 2.49s\tremaining: 5.81s\n",
      "0:\tlearn: 94736.3760776\ttest: 94093.1337391\tbest: 94093.1337391 (0)\ttotal: 5.32ms\tremaining: 527ms\n",
      "1:\tlearn: 83102.1584037\ttest: 82591.3042027\tbest: 82591.3042027 (1)\ttotal: 10.9ms\tremaining: 534ms\n",
      "2:\tlearn: 75464.0968081\ttest: 76029.5153097\tbest: 76029.5153097 (2)\ttotal: 16.7ms\tremaining: 541ms\n",
      "3:\tlearn: 72571.4826255\ttest: 73163.3662732\tbest: 73163.3662732 (3)\ttotal: 22ms\tremaining: 529ms\n",
      "4:\tlearn: 71573.2347678\ttest: 72296.7163492\tbest: 72296.7163492 (4)\ttotal: 27.2ms\tremaining: 517ms\n",
      "5:\tlearn: 70646.7457099\ttest: 71486.6363935\tbest: 71486.6363935 (5)\ttotal: 32.4ms\tremaining: 508ms\n",
      "6:\tlearn: 69754.7770083\ttest: 70769.2952137\tbest: 70769.2952137 (6)\ttotal: 37.8ms\tremaining: 502ms\n",
      "7:\tlearn: 69096.9974427\ttest: 70050.1309523\tbest: 70050.1309523 (7)\ttotal: 43.5ms\tremaining: 501ms\n",
      "8:\tlearn: 68747.8680428\ttest: 69644.1096524\tbest: 69644.1096524 (8)\ttotal: 48.5ms\tremaining: 490ms\n",
      "9:\tlearn: 68089.5419414\ttest: 68990.0389154\tbest: 68990.0389154 (9)\ttotal: 53.5ms\tremaining: 482ms\n",
      "10:\tlearn: 67630.6908898\ttest: 68507.9114821\tbest: 68507.9114821 (10)\ttotal: 58.4ms\tremaining: 473ms\n",
      "11:\tlearn: 67372.4722178\ttest: 68305.5567401\tbest: 68305.5567401 (11)\ttotal: 63.3ms\tremaining: 464ms\n",
      "12:\tlearn: 67099.7850633\ttest: 68079.8307972\tbest: 68079.8307972 (12)\ttotal: 68.3ms\tremaining: 457ms\n",
      "13:\tlearn: 66817.0413969\ttest: 67645.4351505\tbest: 67645.4351505 (13)\ttotal: 73.6ms\tremaining: 452ms\n",
      "14:\tlearn: 66812.5500675\ttest: 67626.6199125\tbest: 67626.6199125 (14)\ttotal: 76.7ms\tremaining: 435ms\n",
      "15:\tlearn: 66429.2217693\ttest: 67163.7183826\tbest: 67163.7183826 (15)\ttotal: 82.1ms\tremaining: 431ms\n",
      "16:\tlearn: 66424.4910951\ttest: 67151.5239394\tbest: 67151.5239394 (16)\ttotal: 86.8ms\tremaining: 424ms\n",
      "17:\tlearn: 65968.2939417\ttest: 66824.0661862\tbest: 66824.0661862 (17)\ttotal: 92.2ms\tremaining: 420ms\n",
      "18:\tlearn: 65559.0601918\ttest: 66476.6237633\tbest: 66476.6237633 (18)\ttotal: 97.5ms\tremaining: 415ms\n",
      "19:\tlearn: 65226.2992286\ttest: 66264.3321969\tbest: 66264.3321969 (19)\ttotal: 103ms\tremaining: 411ms\n",
      "20:\tlearn: 65182.4714601\ttest: 66253.7008763\tbest: 66253.7008763 (20)\ttotal: 108ms\tremaining: 406ms\n",
      "21:\tlearn: 64765.4295911\ttest: 65929.5230886\tbest: 65929.5230886 (21)\ttotal: 114ms\tremaining: 403ms\n",
      "22:\tlearn: 64443.0932113\ttest: 65672.2730825\tbest: 65672.2730825 (22)\ttotal: 120ms\tremaining: 400ms\n",
      "23:\tlearn: 64396.0123114\ttest: 65570.3725968\tbest: 65570.3725968 (23)\ttotal: 125ms\tremaining: 396ms\n",
      "24:\tlearn: 64029.6104921\ttest: 65454.3360618\tbest: 65454.3360618 (24)\ttotal: 131ms\tremaining: 394ms\n",
      "25:\tlearn: 63819.0670680\ttest: 65300.5638125\tbest: 65300.5638125 (25)\ttotal: 137ms\tremaining: 391ms\n",
      "26:\tlearn: 63646.4624113\ttest: 65207.0678322\tbest: 65207.0678322 (26)\ttotal: 143ms\tremaining: 387ms\n",
      "27:\tlearn: 63208.6026972\ttest: 64833.7004012\tbest: 64833.7004012 (27)\ttotal: 148ms\tremaining: 382ms\n",
      "28:\tlearn: 63063.8980228\ttest: 64700.1024632\tbest: 64700.1024632 (28)\ttotal: 153ms\tremaining: 376ms\n",
      "29:\tlearn: 62838.5332656\ttest: 64421.5003696\tbest: 64421.5003696 (29)\ttotal: 159ms\tremaining: 370ms\n",
      "30:\tlearn: 62671.1613023\ttest: 64373.9514303\tbest: 64373.9514303 (30)\ttotal: 165ms\tremaining: 368ms\n",
      "31:\tlearn: 62454.7811873\ttest: 64181.4608071\tbest: 64181.4608071 (31)\ttotal: 179ms\tremaining: 380ms\n",
      "32:\tlearn: 62393.0216687\ttest: 64210.2224039\tbest: 64181.4608071 (31)\ttotal: 189ms\tremaining: 385ms\n",
      "33:\tlearn: 62231.3149137\ttest: 64156.2127680\tbest: 64156.2127680 (33)\ttotal: 199ms\tremaining: 386ms\n",
      "34:\tlearn: 62186.9235814\ttest: 64168.4018061\tbest: 64156.2127680 (33)\ttotal: 204ms\tremaining: 378ms\n",
      "35:\tlearn: 61996.4701850\ttest: 64034.4402474\tbest: 64034.4402474 (35)\ttotal: 209ms\tremaining: 371ms\n",
      "36:\tlearn: 61992.1911725\ttest: 64031.2725013\tbest: 64031.2725013 (36)\ttotal: 214ms\tremaining: 364ms\n",
      "37:\tlearn: 61752.3596265\ttest: 63898.5719548\tbest: 63898.5719548 (37)\ttotal: 219ms\tremaining: 357ms\n",
      "38:\tlearn: 61657.9197967\ttest: 63854.8921592\tbest: 63854.8921592 (38)\ttotal: 224ms\tremaining: 351ms\n",
      "39:\tlearn: 61433.4022058\ttest: 63750.6026528\tbest: 63750.6026528 (39)\ttotal: 230ms\tremaining: 345ms\n",
      "40:\tlearn: 61239.0499295\ttest: 63781.1205773\tbest: 63750.6026528 (39)\ttotal: 235ms\tremaining: 339ms\n",
      "41:\tlearn: 61075.2237582\ttest: 63635.1337198\tbest: 63635.1337198 (41)\ttotal: 240ms\tremaining: 332ms\n",
      "42:\tlearn: 60951.1474255\ttest: 63558.1058298\tbest: 63558.1058298 (42)\ttotal: 246ms\tremaining: 326ms\n",
      "43:\tlearn: 60713.1817983\ttest: 63557.3527427\tbest: 63557.3527427 (43)\ttotal: 251ms\tremaining: 320ms\n",
      "44:\tlearn: 60545.3016982\ttest: 63444.8749822\tbest: 63444.8749822 (44)\ttotal: 257ms\tremaining: 314ms\n",
      "45:\tlearn: 60344.2530322\ttest: 63304.8724024\tbest: 63304.8724024 (45)\ttotal: 263ms\tremaining: 309ms\n",
      "46:\tlearn: 60234.1677878\ttest: 63276.8448376\tbest: 63276.8448376 (46)\ttotal: 269ms\tremaining: 304ms\n",
      "47:\tlearn: 60229.4197930\ttest: 63278.2057317\tbest: 63276.8448376 (46)\ttotal: 275ms\tremaining: 298ms\n",
      "48:\tlearn: 60098.7769859\ttest: 63243.3145715\tbest: 63243.3145715 (48)\ttotal: 281ms\tremaining: 293ms\n",
      "49:\tlearn: 59858.9763496\ttest: 63209.3069861\tbest: 63209.3069861 (49)\ttotal: 288ms\tremaining: 288ms\n",
      "50:\tlearn: 59789.1589209\ttest: 63238.8158866\tbest: 63209.3069861 (49)\ttotal: 294ms\tremaining: 283ms\n",
      "51:\tlearn: 59676.2922751\ttest: 63249.3777820\tbest: 63209.3069861 (49)\ttotal: 302ms\tremaining: 279ms\n",
      "52:\tlearn: 59623.3613548\ttest: 63237.7044791\tbest: 63209.3069861 (49)\ttotal: 309ms\tremaining: 274ms\n",
      "53:\tlearn: 59460.6124281\ttest: 63193.1919320\tbest: 63193.1919320 (53)\ttotal: 316ms\tremaining: 269ms\n",
      "54:\tlearn: 59455.0770304\ttest: 63183.4158071\tbest: 63183.4158071 (54)\ttotal: 322ms\tremaining: 264ms\n",
      "55:\tlearn: 59321.5408342\ttest: 63105.8689175\tbest: 63105.8689175 (55)\ttotal: 328ms\tremaining: 258ms\n",
      "56:\tlearn: 59317.4649277\ttest: 63114.2515188\tbest: 63105.8689175 (55)\ttotal: 333ms\tremaining: 251ms\n",
      "57:\tlearn: 59139.4128051\ttest: 63126.7881258\tbest: 63105.8689175 (55)\ttotal: 338ms\tremaining: 245ms\n",
      "58:\tlearn: 59004.7825001\ttest: 63003.8664555\tbest: 63003.8664555 (58)\ttotal: 344ms\tremaining: 239ms\n",
      "59:\tlearn: 58940.1985411\ttest: 62997.3950516\tbest: 62997.3950516 (59)\ttotal: 349ms\tremaining: 232ms\n",
      "60:\tlearn: 58830.4930273\ttest: 62925.6449635\tbest: 62925.6449635 (60)\ttotal: 354ms\tremaining: 226ms\n",
      "61:\tlearn: 58742.3906904\ttest: 62934.6360075\tbest: 62925.6449635 (60)\ttotal: 360ms\tremaining: 221ms\n",
      "62:\tlearn: 58667.9878560\ttest: 62981.5647040\tbest: 62925.6449635 (60)\ttotal: 367ms\tremaining: 216ms\n",
      "63:\tlearn: 58566.2158989\ttest: 62951.9078093\tbest: 62925.6449635 (60)\ttotal: 373ms\tremaining: 210ms\n",
      "64:\tlearn: 58475.1050616\ttest: 62928.4235736\tbest: 62925.6449635 (60)\ttotal: 377ms\tremaining: 203ms\n",
      "65:\tlearn: 58366.9486601\ttest: 62841.0391490\tbest: 62841.0391490 (65)\ttotal: 382ms\tremaining: 197ms\n",
      "66:\tlearn: 58184.4359922\ttest: 62821.8600465\tbest: 62821.8600465 (66)\ttotal: 388ms\tremaining: 191ms\n",
      "67:\tlearn: 58079.9038480\ttest: 62825.9837271\tbest: 62821.8600465 (66)\ttotal: 393ms\tremaining: 185ms\n",
      "68:\tlearn: 57964.6607910\ttest: 62800.6154928\tbest: 62800.6154928 (68)\ttotal: 398ms\tremaining: 179ms\n",
      "69:\tlearn: 57919.5474599\ttest: 62787.3372119\tbest: 62787.3372119 (69)\ttotal: 403ms\tremaining: 173ms\n",
      "70:\tlearn: 57815.0384376\ttest: 62690.9864350\tbest: 62690.9864350 (70)\ttotal: 408ms\tremaining: 166ms\n",
      "71:\tlearn: 57692.6479477\ttest: 62620.4720807\tbest: 62620.4720807 (71)\ttotal: 412ms\tremaining: 160ms\n",
      "72:\tlearn: 57690.3588830\ttest: 62618.7016020\tbest: 62618.7016020 (72)\ttotal: 417ms\tremaining: 154ms\n",
      "73:\tlearn: 57625.1750398\ttest: 62604.4124626\tbest: 62604.4124626 (73)\ttotal: 422ms\tremaining: 148ms\n",
      "74:\tlearn: 57518.5555068\ttest: 62601.0728622\tbest: 62601.0728622 (74)\ttotal: 427ms\tremaining: 142ms\n",
      "75:\tlearn: 57463.6947513\ttest: 62587.8217101\tbest: 62587.8217101 (75)\ttotal: 432ms\tremaining: 136ms\n",
      "76:\tlearn: 57379.1572887\ttest: 62558.3328086\tbest: 62558.3328086 (76)\ttotal: 437ms\tremaining: 131ms\n",
      "77:\tlearn: 57332.6522860\ttest: 62552.6799914\tbest: 62552.6799914 (77)\ttotal: 443ms\tremaining: 125ms\n",
      "78:\tlearn: 57250.9837030\ttest: 62559.7370320\tbest: 62552.6799914 (77)\ttotal: 449ms\tremaining: 119ms\n",
      "79:\tlearn: 57123.8490588\ttest: 62562.7918392\tbest: 62552.6799914 (77)\ttotal: 454ms\tremaining: 114ms\n",
      "80:\tlearn: 57015.5862028\ttest: 62551.7037665\tbest: 62551.7037665 (80)\ttotal: 459ms\tremaining: 108ms\n",
      "81:\tlearn: 56925.5310183\ttest: 62484.1780479\tbest: 62484.1780479 (81)\ttotal: 464ms\tremaining: 102ms\n",
      "82:\tlearn: 56710.2430251\ttest: 62488.5615076\tbest: 62484.1780479 (81)\ttotal: 470ms\tremaining: 96.2ms\n",
      "83:\tlearn: 56673.0382132\ttest: 62488.3770337\tbest: 62484.1780479 (81)\ttotal: 475ms\tremaining: 90.5ms\n",
      "84:\tlearn: 56586.5267868\ttest: 62448.0226370\tbest: 62448.0226370 (84)\ttotal: 481ms\tremaining: 84.8ms\n",
      "85:\tlearn: 56537.9860574\ttest: 62456.1816592\tbest: 62448.0226370 (84)\ttotal: 486ms\tremaining: 79.1ms\n",
      "86:\tlearn: 56481.1334614\ttest: 62476.2026476\tbest: 62448.0226370 (84)\ttotal: 490ms\tremaining: 73.3ms\n",
      "87:\tlearn: 56416.3182708\ttest: 62427.0177450\tbest: 62427.0177450 (87)\ttotal: 496ms\tremaining: 67.6ms\n",
      "88:\tlearn: 56333.1074981\ttest: 62437.1497421\tbest: 62427.0177450 (87)\ttotal: 501ms\tremaining: 61.9ms\n",
      "89:\tlearn: 56244.1302562\ttest: 62388.3806218\tbest: 62388.3806218 (89)\ttotal: 506ms\tremaining: 56.2ms\n",
      "90:\tlearn: 56144.2504767\ttest: 62309.6422346\tbest: 62309.6422346 (90)\ttotal: 511ms\tremaining: 50.6ms\n",
      "91:\tlearn: 56054.4518123\ttest: 62293.2713378\tbest: 62293.2713378 (91)\ttotal: 516ms\tremaining: 44.9ms\n",
      "92:\tlearn: 55996.5662940\ttest: 62254.2054246\tbest: 62254.2054246 (92)\ttotal: 521ms\tremaining: 39.2ms\n",
      "93:\tlearn: 55898.6614429\ttest: 62224.6478822\tbest: 62224.6478822 (93)\ttotal: 527ms\tremaining: 33.6ms\n",
      "94:\tlearn: 55851.9134834\ttest: 62238.6667087\tbest: 62224.6478822 (93)\ttotal: 533ms\tremaining: 28ms\n",
      "95:\tlearn: 55795.9331050\ttest: 62192.6968187\tbest: 62192.6968187 (95)\ttotal: 537ms\tremaining: 22.4ms\n",
      "96:\tlearn: 55721.1330786\ttest: 62191.1213858\tbest: 62191.1213858 (96)\ttotal: 542ms\tremaining: 16.8ms\n",
      "97:\tlearn: 55643.5158945\ttest: 62137.0536777\tbest: 62137.0536777 (97)\ttotal: 547ms\tremaining: 11.2ms\n",
      "98:\tlearn: 55580.8588143\ttest: 62146.8450946\tbest: 62137.0536777 (97)\ttotal: 552ms\tremaining: 5.57ms\n",
      "99:\tlearn: 55527.5023346\ttest: 62134.4354752\tbest: 62134.4354752 (99)\ttotal: 557ms\tremaining: 0us\n",
      "\n",
      "bestTest = 62134.43548\n",
      "bestIteration = 99\n",
      "\n",
      "3:\tloss: 62134.4354752\tbest: 62134.4354752 (3)\ttotal: 3.06s\tremaining: 4.59s\n",
      "0:\tlearn: 104802.8048129\ttest: 104623.6142670\tbest: 104623.6142670 (0)\ttotal: 6.08ms\tremaining: 603ms\n",
      "1:\tlearn: 81233.4082113\ttest: 81268.3430008\tbest: 81268.3430008 (1)\ttotal: 16.4ms\tremaining: 803ms\n",
      "2:\tlearn: 72505.7477493\ttest: 73185.1703816\tbest: 73185.1703816 (2)\ttotal: 25.5ms\tremaining: 826ms\n",
      "3:\tlearn: 70180.7951594\ttest: 71156.2823712\tbest: 71156.2823712 (3)\ttotal: 35.3ms\tremaining: 848ms\n",
      "4:\tlearn: 68950.3645531\ttest: 69911.1282549\tbest: 69911.1282549 (4)\ttotal: 44.2ms\tremaining: 839ms\n",
      "5:\tlearn: 68507.6900264\ttest: 69732.9672428\tbest: 69732.9672428 (5)\ttotal: 53.1ms\tremaining: 832ms\n",
      "6:\tlearn: 67403.9522497\ttest: 68614.8716892\tbest: 68614.8716892 (6)\ttotal: 62.2ms\tremaining: 826ms\n",
      "7:\tlearn: 66784.5596747\ttest: 68123.1901832\tbest: 68123.1901832 (7)\ttotal: 71.7ms\tremaining: 825ms\n",
      "8:\tlearn: 66780.6373169\ttest: 68107.0646254\tbest: 68107.0646254 (8)\ttotal: 74.8ms\tremaining: 756ms\n",
      "9:\tlearn: 65745.7915339\ttest: 67115.6594622\tbest: 67115.6594622 (9)\ttotal: 83.8ms\tremaining: 754ms\n",
      "10:\tlearn: 65330.7207259\ttest: 66901.1496589\tbest: 66901.1496589 (10)\ttotal: 92.6ms\tremaining: 749ms\n",
      "11:\tlearn: 64824.2892167\ttest: 66385.8835779\tbest: 66385.8835779 (11)\ttotal: 102ms\tremaining: 750ms\n",
      "12:\tlearn: 64564.9171887\ttest: 66202.4079614\tbest: 66202.4079614 (12)\ttotal: 111ms\tremaining: 740ms\n",
      "13:\tlearn: 64176.4063474\ttest: 65950.1854771\tbest: 65950.1854771 (13)\ttotal: 120ms\tremaining: 736ms\n",
      "14:\tlearn: 63870.6110746\ttest: 65901.6123878\tbest: 65901.6123878 (14)\ttotal: 129ms\tremaining: 731ms\n",
      "15:\tlearn: 63441.9097718\ttest: 65553.0889579\tbest: 65553.0889579 (15)\ttotal: 139ms\tremaining: 729ms\n",
      "16:\tlearn: 63099.0630305\ttest: 65394.7359124\tbest: 65394.7359124 (16)\ttotal: 148ms\tremaining: 720ms\n",
      "17:\tlearn: 62757.4973814\ttest: 65172.7449976\tbest: 65172.7449976 (17)\ttotal: 157ms\tremaining: 713ms\n",
      "18:\tlearn: 62625.5276222\ttest: 65072.8871713\tbest: 65072.8871713 (18)\ttotal: 165ms\tremaining: 702ms\n",
      "19:\tlearn: 62623.6545125\ttest: 65065.8959662\tbest: 65065.8959662 (19)\ttotal: 170ms\tremaining: 680ms\n",
      "20:\tlearn: 62362.9609017\ttest: 64961.1954108\tbest: 64961.1954108 (20)\ttotal: 178ms\tremaining: 670ms\n",
      "21:\tlearn: 62324.4987994\ttest: 64904.8244683\tbest: 64904.8244683 (21)\ttotal: 187ms\tremaining: 662ms\n",
      "22:\tlearn: 62147.0242188\ttest: 64816.6406469\tbest: 64816.6406469 (22)\ttotal: 195ms\tremaining: 654ms\n",
      "23:\tlearn: 61922.3032744\ttest: 64726.5013944\tbest: 64726.5013944 (23)\ttotal: 205ms\tremaining: 648ms\n",
      "24:\tlearn: 61577.2022154\ttest: 64588.7031675\tbest: 64588.7031675 (24)\ttotal: 215ms\tremaining: 644ms\n",
      "25:\tlearn: 61339.7556662\ttest: 64391.1776401\tbest: 64391.1776401 (25)\ttotal: 224ms\tremaining: 637ms\n",
      "26:\tlearn: 61154.0913933\ttest: 64305.1608552\tbest: 64305.1608552 (26)\ttotal: 232ms\tremaining: 628ms\n",
      "27:\tlearn: 60707.1594590\ttest: 64079.8610998\tbest: 64079.8610998 (27)\ttotal: 242ms\tremaining: 623ms\n",
      "28:\tlearn: 60417.2870257\ttest: 64085.6627453\tbest: 64079.8610998 (27)\ttotal: 252ms\tremaining: 618ms\n",
      "29:\tlearn: 60108.9170905\ttest: 64053.5640121\tbest: 64053.5640121 (29)\ttotal: 262ms\tremaining: 611ms\n",
      "30:\tlearn: 59889.0007663\ttest: 63934.8165553\tbest: 63934.8165553 (30)\ttotal: 270ms\tremaining: 602ms\n",
      "31:\tlearn: 59782.9076528\ttest: 63939.6635181\tbest: 63934.8165553 (30)\ttotal: 279ms\tremaining: 594ms\n",
      "32:\tlearn: 59569.4669453\ttest: 63867.9535609\tbest: 63867.9535609 (32)\ttotal: 289ms\tremaining: 587ms\n",
      "33:\tlearn: 59491.9831167\ttest: 63847.1726003\tbest: 63847.1726003 (33)\ttotal: 298ms\tremaining: 579ms\n",
      "34:\tlearn: 59301.8910787\ttest: 63806.8993330\tbest: 63806.8993330 (34)\ttotal: 307ms\tremaining: 570ms\n",
      "35:\tlearn: 59180.6763333\ttest: 63739.6354578\tbest: 63739.6354578 (35)\ttotal: 317ms\tremaining: 563ms\n",
      "36:\tlearn: 58977.5141764\ttest: 63640.5339200\tbest: 63640.5339200 (36)\ttotal: 326ms\tremaining: 555ms\n",
      "37:\tlearn: 58813.7863952\ttest: 63607.5614117\tbest: 63607.5614117 (37)\ttotal: 335ms\tremaining: 546ms\n",
      "38:\tlearn: 58562.9114448\ttest: 63472.6261566\tbest: 63472.6261566 (38)\ttotal: 343ms\tremaining: 537ms\n",
      "39:\tlearn: 58202.9130011\ttest: 63224.5054391\tbest: 63224.5054391 (39)\ttotal: 353ms\tremaining: 529ms\n",
      "40:\tlearn: 58177.3063232\ttest: 63192.0187114\tbest: 63192.0187114 (40)\ttotal: 361ms\tremaining: 520ms\n",
      "41:\tlearn: 58039.3325911\ttest: 63149.6916747\tbest: 63149.6916747 (41)\ttotal: 371ms\tremaining: 513ms\n",
      "42:\tlearn: 57893.7324388\ttest: 63094.9983952\tbest: 63094.9983952 (42)\ttotal: 379ms\tremaining: 503ms\n",
      "43:\tlearn: 57599.5151544\ttest: 62920.1479633\tbest: 62920.1479633 (43)\ttotal: 389ms\tremaining: 495ms\n",
      "44:\tlearn: 57388.2455378\ttest: 62822.7656668\tbest: 62822.7656668 (44)\ttotal: 397ms\tremaining: 485ms\n",
      "45:\tlearn: 57368.2065557\ttest: 62831.0239390\tbest: 62822.7656668 (44)\ttotal: 405ms\tremaining: 476ms\n",
      "46:\tlearn: 57176.8492910\ttest: 62803.1015179\tbest: 62803.1015179 (46)\ttotal: 414ms\tremaining: 467ms\n",
      "47:\tlearn: 56999.7091013\ttest: 62735.3527722\tbest: 62735.3527722 (47)\ttotal: 423ms\tremaining: 458ms\n",
      "48:\tlearn: 56816.0868891\ttest: 62700.3552663\tbest: 62700.3552663 (48)\ttotal: 431ms\tremaining: 449ms\n",
      "49:\tlearn: 56676.8395574\ttest: 62640.6968574\tbest: 62640.6968574 (49)\ttotal: 440ms\tremaining: 440ms\n",
      "50:\tlearn: 56579.8144199\ttest: 62604.8119929\tbest: 62604.8119929 (50)\ttotal: 448ms\tremaining: 430ms\n",
      "51:\tlearn: 56535.6812195\ttest: 62597.2724086\tbest: 62597.2724086 (51)\ttotal: 456ms\tremaining: 421ms\n",
      "52:\tlearn: 56371.5215050\ttest: 62625.1962625\tbest: 62597.2724086 (51)\ttotal: 465ms\tremaining: 412ms\n",
      "53:\tlearn: 56215.3112910\ttest: 62577.5094336\tbest: 62577.5094336 (53)\ttotal: 474ms\tremaining: 404ms\n",
      "54:\tlearn: 56025.6602191\ttest: 62460.4126836\tbest: 62460.4126836 (54)\ttotal: 482ms\tremaining: 395ms\n",
      "55:\tlearn: 55800.6778366\ttest: 62464.5542937\tbest: 62460.4126836 (54)\ttotal: 492ms\tremaining: 386ms\n",
      "56:\tlearn: 55629.1812119\ttest: 62458.6814687\tbest: 62458.6814687 (56)\ttotal: 500ms\tremaining: 377ms\n",
      "57:\tlearn: 55396.5661441\ttest: 62399.9970256\tbest: 62399.9970256 (57)\ttotal: 509ms\tremaining: 369ms\n",
      "58:\tlearn: 55183.6954960\ttest: 62354.4855224\tbest: 62354.4855224 (58)\ttotal: 518ms\tremaining: 360ms\n",
      "59:\tlearn: 55057.6418835\ttest: 62358.5471778\tbest: 62354.4855224 (58)\ttotal: 527ms\tremaining: 351ms\n",
      "60:\tlearn: 54877.7542081\ttest: 62291.8784565\tbest: 62291.8784565 (60)\ttotal: 536ms\tremaining: 343ms\n",
      "61:\tlearn: 54609.5199940\ttest: 62317.2644928\tbest: 62291.8784565 (60)\ttotal: 545ms\tremaining: 334ms\n",
      "62:\tlearn: 54463.0215890\ttest: 62317.5088336\tbest: 62291.8784565 (60)\ttotal: 553ms\tremaining: 325ms\n",
      "63:\tlearn: 54367.3223100\ttest: 62217.2762271\tbest: 62217.2762271 (63)\ttotal: 563ms\tremaining: 317ms\n",
      "64:\tlearn: 54253.9389245\ttest: 62133.9011336\tbest: 62133.9011336 (64)\ttotal: 572ms\tremaining: 308ms\n",
      "65:\tlearn: 54137.3168912\ttest: 62133.7219035\tbest: 62133.7219035 (65)\ttotal: 582ms\tremaining: 300ms\n",
      "66:\tlearn: 53978.6446808\ttest: 62225.1479440\tbest: 62133.7219035 (65)\ttotal: 592ms\tremaining: 292ms\n",
      "67:\tlearn: 53840.6536959\ttest: 62200.9978106\tbest: 62133.7219035 (65)\ttotal: 603ms\tremaining: 284ms\n",
      "68:\tlearn: 53836.4292819\ttest: 62196.8776854\tbest: 62133.7219035 (65)\ttotal: 613ms\tremaining: 275ms\n",
      "69:\tlearn: 53678.8761190\ttest: 62111.5650326\tbest: 62111.5650326 (69)\ttotal: 625ms\tremaining: 268ms\n",
      "70:\tlearn: 53611.7401046\ttest: 62111.0672978\tbest: 62111.0672978 (70)\ttotal: 635ms\tremaining: 259ms\n",
      "71:\tlearn: 53528.8627386\ttest: 62081.2821852\tbest: 62081.2821852 (71)\ttotal: 645ms\tremaining: 251ms\n",
      "72:\tlearn: 53448.5551352\ttest: 62046.1874819\tbest: 62046.1874819 (72)\ttotal: 655ms\tremaining: 242ms\n",
      "73:\tlearn: 53346.6720805\ttest: 61996.2830607\tbest: 61996.2830607 (73)\ttotal: 666ms\tremaining: 234ms\n",
      "74:\tlearn: 53219.5196112\ttest: 61966.1868394\tbest: 61966.1868394 (74)\ttotal: 675ms\tremaining: 225ms\n",
      "75:\tlearn: 53012.7239735\ttest: 61914.1011324\tbest: 61914.1011324 (75)\ttotal: 684ms\tremaining: 216ms\n",
      "76:\tlearn: 52934.1084491\ttest: 61873.6696775\tbest: 61873.6696775 (76)\ttotal: 693ms\tremaining: 207ms\n",
      "77:\tlearn: 52833.6541187\ttest: 61842.3677971\tbest: 61842.3677971 (77)\ttotal: 703ms\tremaining: 198ms\n",
      "78:\tlearn: 52811.8306131\ttest: 61819.7876060\tbest: 61819.7876060 (78)\ttotal: 710ms\tremaining: 189ms\n",
      "79:\tlearn: 52783.4088699\ttest: 61779.0978760\tbest: 61779.0978760 (79)\ttotal: 720ms\tremaining: 180ms\n",
      "80:\tlearn: 52684.6296389\ttest: 61755.1626085\tbest: 61755.1626085 (80)\ttotal: 729ms\tremaining: 171ms\n",
      "81:\tlearn: 52571.7767839\ttest: 61777.2282439\tbest: 61755.1626085 (80)\ttotal: 738ms\tremaining: 162ms\n",
      "82:\tlearn: 52456.2939999\ttest: 61762.7283654\tbest: 61755.1626085 (80)\ttotal: 747ms\tremaining: 153ms\n",
      "83:\tlearn: 52438.6543744\ttest: 61782.3186912\tbest: 61755.1626085 (80)\ttotal: 757ms\tremaining: 144ms\n",
      "84:\tlearn: 52314.6807073\ttest: 61752.2832812\tbest: 61752.2832812 (84)\ttotal: 766ms\tremaining: 135ms\n",
      "85:\tlearn: 52259.6420471\ttest: 61738.0343393\tbest: 61738.0343393 (85)\ttotal: 776ms\tremaining: 126ms\n",
      "86:\tlearn: 52071.2194985\ttest: 61691.7209419\tbest: 61691.7209419 (86)\ttotal: 786ms\tremaining: 117ms\n",
      "87:\tlearn: 51900.4634917\ttest: 61658.7310226\tbest: 61658.7310226 (87)\ttotal: 803ms\tremaining: 110ms\n",
      "88:\tlearn: 51840.0528740\ttest: 61654.7706427\tbest: 61654.7706427 (88)\ttotal: 814ms\tremaining: 101ms\n",
      "89:\tlearn: 51740.0375397\ttest: 61698.6156286\tbest: 61654.7706427 (88)\ttotal: 823ms\tremaining: 91.5ms\n",
      "90:\tlearn: 51611.2302917\ttest: 61673.4523121\tbest: 61654.7706427 (88)\ttotal: 832ms\tremaining: 82.2ms\n",
      "91:\tlearn: 51477.3398215\ttest: 61668.9041787\tbest: 61654.7706427 (88)\ttotal: 841ms\tremaining: 73.1ms\n",
      "92:\tlearn: 51378.8507281\ttest: 61630.4504229\tbest: 61630.4504229 (92)\ttotal: 850ms\tremaining: 64ms\n",
      "93:\tlearn: 51269.1834017\ttest: 61606.8047122\tbest: 61606.8047122 (93)\ttotal: 860ms\tremaining: 54.9ms\n",
      "94:\tlearn: 51201.7789169\ttest: 61617.6752177\tbest: 61606.8047122 (93)\ttotal: 869ms\tremaining: 45.7ms\n",
      "95:\tlearn: 51109.8551506\ttest: 61636.2672006\tbest: 61606.8047122 (93)\ttotal: 878ms\tremaining: 36.6ms\n",
      "96:\tlearn: 50973.6336021\ttest: 61660.8581943\tbest: 61606.8047122 (93)\ttotal: 887ms\tremaining: 27.4ms\n",
      "97:\tlearn: 50871.7364488\ttest: 61572.6809047\tbest: 61572.6809047 (97)\ttotal: 896ms\tremaining: 18.3ms\n",
      "98:\tlearn: 50716.7727032\ttest: 61595.1621796\tbest: 61572.6809047 (97)\ttotal: 905ms\tremaining: 9.14ms\n",
      "99:\tlearn: 50661.8828789\ttest: 61581.1157020\tbest: 61572.6809047 (97)\ttotal: 914ms\tremaining: 0us\n",
      "\n",
      "bestTest = 61572.6809\n",
      "bestIteration = 97\n",
      "\n",
      "4:\tloss: 61572.6809047\tbest: 61572.6809047 (4)\ttotal: 3.98s\tremaining: 3.98s\n",
      "0:\tlearn: 434320.9252033\ttest: 434795.6791263\tbest: 434795.6791263 (0)\ttotal: 15.3ms\tremaining: 1.51s\n",
      "1:\tlearn: 430245.7340570\ttest: 430713.8557612\tbest: 430713.8557612 (1)\ttotal: 29.9ms\tremaining: 1.46s\n",
      "2:\tlearn: 426148.9669779\ttest: 426617.2536074\tbest: 426617.2536074 (2)\ttotal: 42.4ms\tremaining: 1.37s\n",
      "3:\tlearn: 422137.0608878\ttest: 422602.1198530\tbest: 422602.1198530 (3)\ttotal: 54.5ms\tremaining: 1.31s\n",
      "4:\tlearn: 418144.9179595\ttest: 418613.5871568\tbest: 418613.5871568 (4)\ttotal: 60.9ms\tremaining: 1.16s\n",
      "5:\tlearn: 414195.6533855\ttest: 414668.9383215\tbest: 414668.9383215 (5)\ttotal: 64.4ms\tremaining: 1.01s\n",
      "6:\tlearn: 410281.1090407\ttest: 410754.4681918\tbest: 410754.4681918 (6)\ttotal: 77.2ms\tremaining: 1.03s\n",
      "7:\tlearn: 406413.4526770\ttest: 406890.8725640\tbest: 406890.8725640 (7)\ttotal: 82.2ms\tremaining: 945ms\n",
      "8:\tlearn: 402581.0388848\ttest: 403059.0981414\tbest: 403059.0981414 (8)\ttotal: 96.3ms\tremaining: 974ms\n",
      "9:\tlearn: 398830.2521264\ttest: 399305.8061821\tbest: 399305.8061821 (9)\ttotal: 103ms\tremaining: 927ms\n",
      "10:\tlearn: 395094.4414703\ttest: 395576.0290055\tbest: 395576.0290055 (10)\ttotal: 114ms\tremaining: 922ms\n",
      "11:\tlearn: 391376.8141123\ttest: 391862.1440461\tbest: 391862.1440461 (11)\ttotal: 119ms\tremaining: 874ms\n",
      "12:\tlearn: 387676.1830503\ttest: 388160.0934584\tbest: 388160.0934584 (12)\ttotal: 131ms\tremaining: 876ms\n",
      "13:\tlearn: 384039.9886382\ttest: 384520.8164895\tbest: 384520.8164895 (13)\ttotal: 135ms\tremaining: 828ms\n",
      "14:\tlearn: 380438.4758050\ttest: 380918.6718857\tbest: 380918.6718857 (14)\ttotal: 147ms\tremaining: 835ms\n",
      "15:\tlearn: 376903.0211319\ttest: 377377.0017154\tbest: 377377.0017154 (15)\ttotal: 152ms\tremaining: 798ms\n",
      "16:\tlearn: 373383.4596127\ttest: 373862.3259346\tbest: 373862.3259346 (16)\ttotal: 163ms\tremaining: 796ms\n",
      "17:\tlearn: 369883.9064043\ttest: 370358.9448935\tbest: 370358.9448935 (17)\ttotal: 168ms\tremaining: 763ms\n",
      "18:\tlearn: 366440.1305710\ttest: 366916.5004674\tbest: 366916.5004674 (18)\ttotal: 173ms\tremaining: 737ms\n",
      "19:\tlearn: 363046.1007738\ttest: 363515.2621798\tbest: 363515.2621798 (19)\ttotal: 178ms\tremaining: 711ms\n",
      "20:\tlearn: 359626.7219340\ttest: 360097.9385169\tbest: 360097.9385169 (20)\ttotal: 190ms\tremaining: 713ms\n",
      "21:\tlearn: 356275.9822519\ttest: 356743.9601098\tbest: 356743.9601098 (21)\ttotal: 201ms\tremaining: 714ms\n",
      "22:\tlearn: 352969.0463824\ttest: 353440.0698916\tbest: 353440.0698916 (22)\ttotal: 207ms\tremaining: 692ms\n",
      "23:\tlearn: 349667.8141774\ttest: 350135.6944174\tbest: 350135.6944174 (23)\ttotal: 218ms\tremaining: 690ms\n",
      "24:\tlearn: 346472.0113239\ttest: 346936.8079366\tbest: 346936.8079366 (24)\ttotal: 221ms\tremaining: 662ms\n",
      "25:\tlearn: 343305.7564702\ttest: 343770.8603353\tbest: 343770.8603353 (25)\ttotal: 228ms\tremaining: 649ms\n",
      "26:\tlearn: 340173.9344690\ttest: 340637.8781065\tbest: 340637.8781065 (26)\ttotal: 232ms\tremaining: 628ms\n",
      "27:\tlearn: 337024.6356490\ttest: 337481.0135054\tbest: 337481.0135054 (27)\ttotal: 237ms\tremaining: 609ms\n",
      "28:\tlearn: 333907.5828915\ttest: 334366.1680557\tbest: 334366.1680557 (28)\ttotal: 248ms\tremaining: 608ms\n",
      "29:\tlearn: 330840.8793927\ttest: 331298.1706939\tbest: 331298.1706939 (29)\ttotal: 254ms\tremaining: 594ms\n",
      "30:\tlearn: 327806.8170843\ttest: 328265.1151280\tbest: 328265.1151280 (30)\ttotal: 266ms\tremaining: 591ms\n",
      "31:\tlearn: 324787.6856889\ttest: 325246.9620272\tbest: 325246.9620272 (31)\ttotal: 272ms\tremaining: 577ms\n",
      "32:\tlearn: 321858.1191998\ttest: 322313.5326020\tbest: 322313.5326020 (32)\ttotal: 275ms\tremaining: 559ms\n",
      "33:\tlearn: 318924.7308794\ttest: 319379.9661372\tbest: 319379.9661372 (33)\ttotal: 287ms\tremaining: 557ms\n",
      "34:\tlearn: 316005.9095455\ttest: 316456.6535107\tbest: 316456.6535107 (34)\ttotal: 298ms\tremaining: 553ms\n",
      "35:\tlearn: 313117.6746229\ttest: 313570.8740831\tbest: 313570.8740831 (35)\ttotal: 309ms\tremaining: 549ms\n",
      "36:\tlearn: 310264.8155674\ttest: 310720.9345121\tbest: 310720.9345121 (36)\ttotal: 320ms\tremaining: 545ms\n",
      "37:\tlearn: 307445.2979517\ttest: 307899.9844685\tbest: 307899.9844685 (37)\ttotal: 324ms\tremaining: 529ms\n",
      "38:\tlearn: 304627.3632863\ttest: 305085.6950005\tbest: 305085.6950005 (38)\ttotal: 335ms\tremaining: 525ms\n",
      "39:\tlearn: 301887.0630851\ttest: 302338.5377487\tbest: 302338.5377487 (39)\ttotal: 340ms\tremaining: 509ms\n",
      "40:\tlearn: 299163.8554136\ttest: 299618.6152150\tbest: 299618.6152150 (40)\ttotal: 351ms\tremaining: 504ms\n",
      "41:\tlearn: 296471.4582825\ttest: 296929.2331783\tbest: 296929.2331783 (41)\ttotal: 355ms\tremaining: 491ms\n",
      "42:\tlearn: 293794.9935283\ttest: 294256.4467942\tbest: 294256.4467942 (42)\ttotal: 359ms\tremaining: 476ms\n",
      "43:\tlearn: 291128.9187652\ttest: 291586.1052685\tbest: 291586.1052685 (43)\ttotal: 371ms\tremaining: 472ms\n",
      "44:\tlearn: 288501.9001323\ttest: 288959.3217399\tbest: 288959.3217399 (44)\ttotal: 382ms\tremaining: 467ms\n",
      "45:\tlearn: 285925.9715701\ttest: 286377.4029839\tbest: 286377.4029839 (45)\ttotal: 387ms\tremaining: 454ms\n",
      "46:\tlearn: 283352.1749171\ttest: 283800.9786830\tbest: 283800.9786830 (46)\ttotal: 394ms\tremaining: 444ms\n",
      "47:\tlearn: 280811.0466964\ttest: 281259.6086840\tbest: 281259.6086840 (47)\ttotal: 401ms\tremaining: 435ms\n",
      "48:\tlearn: 278289.5461777\ttest: 278736.3147769\tbest: 278736.3147769 (48)\ttotal: 412ms\tremaining: 429ms\n",
      "49:\tlearn: 275785.0794046\ttest: 276232.1217358\tbest: 276232.1217358 (49)\ttotal: 425ms\tremaining: 425ms\n",
      "50:\tlearn: 273325.2432332\ttest: 273774.3971318\tbest: 273774.3971318 (50)\ttotal: 437ms\tremaining: 420ms\n",
      "51:\tlearn: 270918.1553469\ttest: 271370.6422349\tbest: 271370.6422349 (51)\ttotal: 449ms\tremaining: 414ms\n",
      "52:\tlearn: 268511.5640559\ttest: 268963.7700352\tbest: 268963.7700352 (52)\ttotal: 459ms\tremaining: 407ms\n",
      "53:\tlearn: 266178.4047001\ttest: 266631.4883878\tbest: 266631.4883878 (53)\ttotal: 470ms\tremaining: 401ms\n",
      "54:\tlearn: 263839.0843010\ttest: 264294.4142179\tbest: 264294.4142179 (54)\ttotal: 474ms\tremaining: 388ms\n",
      "55:\tlearn: 261496.9974399\ttest: 261952.3136289\tbest: 261952.3136289 (55)\ttotal: 493ms\tremaining: 387ms\n",
      "56:\tlearn: 259184.1096842\ttest: 259640.7285617\tbest: 259640.7285617 (56)\ttotal: 506ms\tremaining: 382ms\n",
      "57:\tlearn: 256881.5799205\ttest: 257338.2777892\tbest: 257338.2777892 (57)\ttotal: 519ms\tremaining: 376ms\n",
      "58:\tlearn: 254597.8092974\ttest: 255054.4666812\tbest: 255054.4666812 (58)\ttotal: 531ms\tremaining: 369ms\n",
      "59:\tlearn: 252365.8439007\ttest: 252818.7419469\tbest: 252818.7419469 (59)\ttotal: 538ms\tremaining: 359ms\n",
      "60:\tlearn: 250129.2809797\ttest: 250581.7988251\tbest: 250581.7988251 (60)\ttotal: 550ms\tremaining: 352ms\n",
      "61:\tlearn: 247920.5696700\ttest: 248372.6007159\tbest: 248372.6007159 (61)\ttotal: 562ms\tremaining: 345ms\n",
      "62:\tlearn: 245789.8276210\ttest: 246238.6150749\tbest: 246238.6150749 (62)\ttotal: 575ms\tremaining: 338ms\n",
      "63:\tlearn: 243637.2333164\ttest: 244086.8552317\tbest: 244086.8552317 (63)\ttotal: 588ms\tremaining: 331ms\n",
      "64:\tlearn: 241498.9761293\ttest: 241946.9695609\tbest: 241946.9695609 (64)\ttotal: 601ms\tremaining: 324ms\n",
      "65:\tlearn: 239416.4247998\ttest: 239866.9359678\tbest: 239866.9359678 (65)\ttotal: 605ms\tremaining: 312ms\n",
      "66:\tlearn: 237343.0223854\ttest: 237792.3309449\tbest: 237792.3309449 (66)\ttotal: 618ms\tremaining: 305ms\n",
      "67:\tlearn: 235305.8539964\ttest: 235757.0883236\tbest: 235757.0883236 (67)\ttotal: 632ms\tremaining: 297ms\n",
      "68:\tlearn: 233256.4877248\ttest: 233707.0520737\tbest: 233707.0520737 (68)\ttotal: 645ms\tremaining: 290ms\n",
      "69:\tlearn: 231245.9271208\ttest: 231695.4816704\tbest: 231695.4816704 (69)\ttotal: 664ms\tremaining: 284ms\n",
      "70:\tlearn: 229308.7618442\ttest: 229759.6390046\tbest: 229759.6390046 (70)\ttotal: 676ms\tremaining: 276ms\n",
      "71:\tlearn: 227331.0758693\ttest: 227783.3433346\tbest: 227783.3433346 (71)\ttotal: 685ms\tremaining: 266ms\n",
      "72:\tlearn: 225383.9518668\ttest: 225843.1158256\tbest: 225843.1158256 (72)\ttotal: 699ms\tremaining: 258ms\n",
      "73:\tlearn: 223449.0296981\ttest: 223908.8662294\tbest: 223908.8662294 (73)\ttotal: 710ms\tremaining: 249ms\n",
      "74:\tlearn: 221555.9937536\ttest: 222013.7774887\tbest: 222013.7774887 (74)\ttotal: 721ms\tremaining: 240ms\n",
      "75:\tlearn: 219687.0573650\ttest: 220147.1764175\tbest: 220147.1764175 (75)\ttotal: 733ms\tremaining: 231ms\n",
      "76:\tlearn: 217816.1324757\ttest: 218275.6621391\tbest: 218275.6621391 (76)\ttotal: 743ms\tremaining: 222ms\n",
      "77:\tlearn: 216000.8575726\ttest: 216462.0932931\tbest: 216462.0932931 (77)\ttotal: 749ms\tremaining: 211ms\n",
      "78:\tlearn: 214241.5786416\ttest: 214698.5952824\tbest: 214698.5952824 (78)\ttotal: 752ms\tremaining: 200ms\n",
      "79:\tlearn: 212468.4133825\ttest: 212925.4508062\tbest: 212925.4508062 (79)\ttotal: 757ms\tremaining: 189ms\n",
      "80:\tlearn: 210696.7734271\ttest: 211155.9198803\tbest: 211155.9198803 (80)\ttotal: 767ms\tremaining: 180ms\n",
      "81:\tlearn: 208913.6281321\ttest: 209374.4392525\tbest: 209374.4392525 (81)\ttotal: 781ms\tremaining: 171ms\n",
      "82:\tlearn: 207195.1244342\ttest: 207653.1093958\tbest: 207653.1093958 (82)\ttotal: 797ms\tremaining: 163ms\n",
      "83:\tlearn: 205469.9554208\ttest: 205924.8046021\tbest: 205924.8046021 (83)\ttotal: 811ms\tremaining: 155ms\n",
      "84:\tlearn: 203762.3239452\ttest: 204214.1863765\tbest: 204214.1863765 (84)\ttotal: 822ms\tremaining: 145ms\n",
      "85:\tlearn: 202088.5440127\ttest: 202537.0053598\tbest: 202537.0053598 (85)\ttotal: 827ms\tremaining: 135ms\n",
      "86:\tlearn: 200440.1149585\ttest: 200884.6693875\tbest: 200884.6693875 (86)\ttotal: 838ms\tremaining: 125ms\n",
      "87:\tlearn: 198771.4749782\ttest: 199216.3470133\tbest: 199216.3470133 (87)\ttotal: 849ms\tremaining: 116ms\n",
      "88:\tlearn: 197188.4156484\ttest: 197630.2892431\tbest: 197630.2892431 (88)\ttotal: 853ms\tremaining: 105ms\n",
      "89:\tlearn: 195583.9116078\ttest: 196026.3787545\tbest: 196026.3787545 (89)\ttotal: 880ms\tremaining: 97.8ms\n",
      "90:\tlearn: 193974.8899609\ttest: 194415.8734865\tbest: 194415.8734865 (90)\ttotal: 894ms\tremaining: 88.4ms\n",
      "91:\tlearn: 192416.4488775\ttest: 192851.7792706\tbest: 192851.7792706 (91)\ttotal: 906ms\tremaining: 78.8ms\n",
      "92:\tlearn: 190858.1428570\ttest: 191298.7703826\tbest: 191298.7703826 (92)\ttotal: 919ms\tremaining: 69.2ms\n",
      "93:\tlearn: 189298.2155640\ttest: 189739.9787441\tbest: 189739.9787441 (93)\ttotal: 933ms\tremaining: 59.5ms\n",
      "94:\tlearn: 187787.5185001\ttest: 188230.2186139\tbest: 188230.2186139 (94)\ttotal: 944ms\tremaining: 49.7ms\n",
      "95:\tlearn: 186284.9827661\ttest: 186727.8401342\tbest: 186727.8401342 (95)\ttotal: 955ms\tremaining: 39.8ms\n",
      "96:\tlearn: 184799.9536039\ttest: 185239.9133078\tbest: 185239.9133078 (96)\ttotal: 967ms\tremaining: 29.9ms\n",
      "97:\tlearn: 183319.6540528\ttest: 183757.8241738\tbest: 183757.8241738 (97)\ttotal: 979ms\tremaining: 20ms\n",
      "98:\tlearn: 181885.8681682\ttest: 182323.2077843\tbest: 182323.2077843 (98)\ttotal: 985ms\tremaining: 9.95ms\n",
      "99:\tlearn: 180463.0541440\ttest: 180895.9430715\tbest: 180895.9430715 (99)\ttotal: 996ms\tremaining: 0us\n",
      "\n",
      "bestTest = 180895.9431\n",
      "bestIteration = 99\n",
      "\n",
      "5:\tloss: 180895.9430715\tbest: 61572.6809047 (4)\ttotal: 4.99s\tremaining: 3.33s\n",
      "0:\tlearn: 236692.5262570\ttest: 237513.5307128\tbest: 237513.5307128 (0)\ttotal: 35.8ms\tremaining: 3.54s\n",
      "1:\tlearn: 141574.7549651\ttest: 142369.7242148\tbest: 142369.7242148 (1)\ttotal: 486ms\tremaining: 23.8s\n",
      "2:\tlearn: 101153.3641528\ttest: 102350.0660063\tbest: 102350.0660063 (2)\ttotal: 924ms\tremaining: 29.9s\n",
      "3:\tlearn: 84604.3027821\ttest: 86198.6046855\tbest: 86198.6046855 (3)\ttotal: 1.3s\tremaining: 31.2s\n",
      "4:\tlearn: 76439.5328891\ttest: 78853.6725203\tbest: 78853.6725203 (4)\ttotal: 1.68s\tremaining: 32s\n",
      "5:\tlearn: 69093.2916149\ttest: 72496.9403373\tbest: 72496.9403373 (5)\ttotal: 2.08s\tremaining: 32.6s\n",
      "6:\tlearn: 66329.9984659\ttest: 70062.4724777\tbest: 70062.4724777 (6)\ttotal: 2.46s\tremaining: 32.7s\n",
      "7:\tlearn: 64210.7807128\ttest: 68696.6044909\tbest: 68696.6044909 (7)\ttotal: 2.83s\tremaining: 32.6s\n",
      "8:\tlearn: 63039.6885087\ttest: 68077.6254044\tbest: 68077.6254044 (8)\ttotal: 3.23s\tremaining: 32.6s\n",
      "9:\tlearn: 62444.2347488\ttest: 67703.2343806\tbest: 67703.2343806 (9)\ttotal: 3.66s\tremaining: 33s\n",
      "10:\tlearn: 61190.9883568\ttest: 67009.2639591\tbest: 67009.2639591 (10)\ttotal: 4.04s\tremaining: 32.7s\n",
      "11:\tlearn: 60343.0086505\ttest: 66496.1551037\tbest: 66496.1551037 (11)\ttotal: 4.42s\tremaining: 32.4s\n",
      "12:\tlearn: 60249.8621748\ttest: 66360.2132214\tbest: 66360.2132214 (12)\ttotal: 4.42s\tremaining: 29.6s\n",
      "13:\tlearn: 60195.5022529\ttest: 66316.2279030\tbest: 66316.2279030 (13)\ttotal: 4.43s\tremaining: 27.2s\n",
      "14:\tlearn: 59254.1515503\ttest: 65757.8450397\tbest: 65757.8450397 (14)\ttotal: 4.8s\tremaining: 27.2s\n",
      "15:\tlearn: 59218.5155993\ttest: 65721.6220030\tbest: 65721.6220030 (15)\ttotal: 4.8s\tremaining: 25.2s\n",
      "16:\tlearn: 58840.3058882\ttest: 65440.6195209\tbest: 65440.6195209 (16)\ttotal: 5.18s\tremaining: 25.3s\n",
      "17:\tlearn: 57990.3674550\ttest: 64896.7630119\tbest: 64896.7630119 (17)\ttotal: 5.56s\tremaining: 25.3s\n",
      "18:\tlearn: 57575.8333799\ttest: 64800.2674247\tbest: 64800.2674247 (18)\ttotal: 5.93s\tremaining: 25.3s\n",
      "19:\tlearn: 57039.2116107\ttest: 64602.2442352\tbest: 64602.2442352 (19)\ttotal: 6.35s\tremaining: 25.4s\n",
      "20:\tlearn: 56451.9639102\ttest: 64310.9810230\tbest: 64310.9810230 (20)\ttotal: 6.72s\tremaining: 25.3s\n",
      "21:\tlearn: 56046.6176359\ttest: 64044.1615405\tbest: 64044.1615405 (21)\ttotal: 7.1s\tremaining: 25.2s\n",
      "22:\tlearn: 55632.1780377\ttest: 63867.7059346\tbest: 63867.7059346 (22)\ttotal: 7.48s\tremaining: 25s\n",
      "23:\tlearn: 55336.8670685\ttest: 63795.7154572\tbest: 63795.7154572 (23)\ttotal: 7.86s\tremaining: 24.9s\n",
      "24:\tlearn: 55002.7311585\ttest: 63650.4694180\tbest: 63650.4694180 (24)\ttotal: 8.23s\tremaining: 24.7s\n",
      "25:\tlearn: 54781.0355462\ttest: 63612.0189228\tbest: 63612.0189228 (25)\ttotal: 8.6s\tremaining: 24.5s\n",
      "26:\tlearn: 54406.1586692\ttest: 63472.2631061\tbest: 63472.2631061 (26)\ttotal: 8.97s\tremaining: 24.3s\n",
      "27:\tlearn: 53861.3346361\ttest: 63378.9617230\tbest: 63378.9617230 (27)\ttotal: 9.35s\tremaining: 24.1s\n",
      "28:\tlearn: 53489.3187371\ttest: 63117.3714892\tbest: 63117.3714892 (28)\ttotal: 9.73s\tremaining: 23.8s\n",
      "29:\tlearn: 53035.5024167\ttest: 62934.9570944\tbest: 62934.9570944 (29)\ttotal: 10.1s\tremaining: 23.6s\n",
      "30:\tlearn: 52763.9416224\ttest: 62902.7493874\tbest: 62902.7493874 (30)\ttotal: 10.5s\tremaining: 23.3s\n",
      "31:\tlearn: 52440.0342352\ttest: 62779.9543462\tbest: 62779.9543462 (31)\ttotal: 10.9s\tremaining: 23.1s\n",
      "32:\tlearn: 52008.4976952\ttest: 62702.6142750\tbest: 62702.6142750 (32)\ttotal: 11.3s\tremaining: 22.9s\n",
      "33:\tlearn: 51721.6527747\ttest: 62615.7212601\tbest: 62615.7212601 (33)\ttotal: 11.6s\tremaining: 22.6s\n",
      "34:\tlearn: 51577.7792432\ttest: 62523.0107875\tbest: 62523.0107875 (34)\ttotal: 12s\tremaining: 22.4s\n",
      "35:\tlearn: 51245.4356194\ttest: 62417.1323449\tbest: 62417.1323449 (35)\ttotal: 12.4s\tremaining: 22.1s\n",
      "36:\tlearn: 51240.1293645\ttest: 62416.7681543\tbest: 62416.7681543 (36)\ttotal: 12.8s\tremaining: 21.8s\n",
      "37:\tlearn: 51211.7742025\ttest: 62395.8782758\tbest: 62395.8782758 (37)\ttotal: 13.2s\tremaining: 21.6s\n",
      "38:\tlearn: 50948.9196079\ttest: 62345.1980181\tbest: 62345.1980181 (38)\ttotal: 13.6s\tremaining: 21.3s\n",
      "39:\tlearn: 50829.1866495\ttest: 62306.5521685\tbest: 62306.5521685 (39)\ttotal: 14s\tremaining: 21s\n",
      "40:\tlearn: 50328.0960028\ttest: 62154.0567772\tbest: 62154.0567772 (40)\ttotal: 14.4s\tremaining: 20.7s\n",
      "41:\tlearn: 49994.1856947\ttest: 62083.8985351\tbest: 62083.8985351 (41)\ttotal: 14.8s\tremaining: 20.4s\n",
      "42:\tlearn: 49799.4107103\ttest: 62110.0376026\tbest: 62083.8985351 (41)\ttotal: 15.1s\tremaining: 20.1s\n",
      "43:\tlearn: 49483.2329622\ttest: 62029.6979828\tbest: 62029.6979828 (43)\ttotal: 15.5s\tremaining: 19.8s\n",
      "44:\tlearn: 49128.8743954\ttest: 61977.6948583\tbest: 61977.6948583 (44)\ttotal: 15.9s\tremaining: 19.4s\n",
      "45:\tlearn: 48730.0636845\ttest: 61956.5884137\tbest: 61956.5884137 (45)\ttotal: 16.3s\tremaining: 19.1s\n",
      "46:\tlearn: 48507.0152618\ttest: 61998.9768490\tbest: 61956.5884137 (45)\ttotal: 16.7s\tremaining: 18.8s\n",
      "47:\tlearn: 48401.9007321\ttest: 61958.5756335\tbest: 61956.5884137 (45)\ttotal: 17s\tremaining: 18.5s\n",
      "48:\tlearn: 48269.0914818\ttest: 61914.7825858\tbest: 61914.7825858 (48)\ttotal: 17.4s\tremaining: 18.1s\n",
      "49:\tlearn: 48051.7603505\ttest: 61900.2362466\tbest: 61900.2362466 (49)\ttotal: 17.8s\tremaining: 17.8s\n",
      "50:\tlearn: 48018.7516630\ttest: 61875.4708333\tbest: 61875.4708333 (50)\ttotal: 18.2s\tremaining: 17.5s\n",
      "51:\tlearn: 47807.8062464\ttest: 61833.1808403\tbest: 61833.1808403 (51)\ttotal: 18.6s\tremaining: 17.2s\n",
      "52:\tlearn: 47538.2587168\ttest: 61869.8254761\tbest: 61833.1808403 (51)\ttotal: 19s\tremaining: 16.9s\n",
      "53:\tlearn: 47287.3867034\ttest: 61780.0016334\tbest: 61780.0016334 (53)\ttotal: 19.4s\tremaining: 16.6s\n",
      "54:\tlearn: 47286.1505616\ttest: 61779.4668253\tbest: 61779.4668253 (54)\ttotal: 19.8s\tremaining: 16.2s\n",
      "55:\tlearn: 46833.6501506\ttest: 61654.3685245\tbest: 61654.3685245 (55)\ttotal: 20.2s\tremaining: 15.9s\n",
      "56:\tlearn: 46535.1394301\ttest: 61599.1273032\tbest: 61599.1273032 (56)\ttotal: 20.6s\tremaining: 15.6s\n",
      "57:\tlearn: 46328.8587671\ttest: 61535.8041315\tbest: 61535.8041315 (57)\ttotal: 21s\tremaining: 15.2s\n",
      "58:\tlearn: 46172.3349106\ttest: 61504.0139947\tbest: 61504.0139947 (58)\ttotal: 21.4s\tremaining: 14.9s\n",
      "59:\tlearn: 45842.6011205\ttest: 61506.5056303\tbest: 61504.0139947 (58)\ttotal: 21.8s\tremaining: 14.5s\n",
      "60:\tlearn: 45639.8719123\ttest: 61483.3682867\tbest: 61483.3682867 (60)\ttotal: 22.2s\tremaining: 14.2s\n",
      "61:\tlearn: 45329.0714356\ttest: 61471.9290000\tbest: 61471.9290000 (61)\ttotal: 22.5s\tremaining: 13.8s\n",
      "62:\tlearn: 45129.9287243\ttest: 61429.4815354\tbest: 61429.4815354 (62)\ttotal: 22.9s\tremaining: 13.5s\n",
      "63:\tlearn: 44935.9187390\ttest: 61386.5129321\tbest: 61386.5129321 (63)\ttotal: 23.3s\tremaining: 13.1s\n",
      "64:\tlearn: 44899.3223019\ttest: 61389.4919826\tbest: 61386.5129321 (63)\ttotal: 23.7s\tremaining: 12.8s\n",
      "65:\tlearn: 44556.5388080\ttest: 61358.4075474\tbest: 61358.4075474 (65)\ttotal: 24.1s\tremaining: 12.4s\n",
      "66:\tlearn: 44400.0580725\ttest: 61337.0009704\tbest: 61337.0009704 (66)\ttotal: 24.5s\tremaining: 12.1s\n",
      "67:\tlearn: 44361.1701551\ttest: 61344.4019367\tbest: 61337.0009704 (66)\ttotal: 24.9s\tremaining: 11.7s\n",
      "68:\tlearn: 44169.5503443\ttest: 61310.7774154\tbest: 61310.7774154 (68)\ttotal: 25.3s\tremaining: 11.4s\n",
      "69:\tlearn: 43956.5343425\ttest: 61281.1611170\tbest: 61281.1611170 (69)\ttotal: 25.7s\tremaining: 11s\n",
      "70:\tlearn: 43636.9391807\ttest: 61236.5271984\tbest: 61236.5271984 (70)\ttotal: 26.1s\tremaining: 10.6s\n",
      "71:\tlearn: 43490.5081506\ttest: 61216.8428632\tbest: 61216.8428632 (71)\ttotal: 26.5s\tremaining: 10.3s\n",
      "72:\tlearn: 43322.8928658\ttest: 61193.3609156\tbest: 61193.3609156 (72)\ttotal: 26.9s\tremaining: 9.94s\n",
      "73:\tlearn: 43276.7261784\ttest: 61188.5401684\tbest: 61188.5401684 (73)\ttotal: 27.3s\tremaining: 9.57s\n",
      "74:\tlearn: 43155.9105091\ttest: 61187.7636059\tbest: 61187.7636059 (74)\ttotal: 27.6s\tremaining: 9.21s\n",
      "75:\tlearn: 43082.4872458\ttest: 61171.6265868\tbest: 61171.6265868 (75)\ttotal: 28s\tremaining: 8.85s\n",
      "76:\tlearn: 42879.0394596\ttest: 61198.4980326\tbest: 61171.6265868 (75)\ttotal: 28.5s\tremaining: 8.51s\n",
      "77:\tlearn: 42791.6387116\ttest: 61180.5620923\tbest: 61171.6265868 (75)\ttotal: 28.9s\tremaining: 8.14s\n",
      "78:\tlearn: 42585.9050269\ttest: 61127.3548793\tbest: 61127.3548793 (78)\ttotal: 29.3s\tremaining: 7.78s\n",
      "79:\tlearn: 42343.2279442\ttest: 61175.2700242\tbest: 61127.3548793 (78)\ttotal: 29.6s\tremaining: 7.41s\n",
      "80:\tlearn: 42214.9688276\ttest: 61164.1660281\tbest: 61127.3548793 (78)\ttotal: 30s\tremaining: 7.04s\n",
      "81:\tlearn: 42042.9820221\ttest: 61183.3974275\tbest: 61127.3548793 (78)\ttotal: 30.4s\tremaining: 6.67s\n",
      "82:\tlearn: 41952.3112515\ttest: 61132.8559159\tbest: 61127.3548793 (78)\ttotal: 30.8s\tremaining: 6.3s\n",
      "83:\tlearn: 41729.0935857\ttest: 61155.3875590\tbest: 61127.3548793 (78)\ttotal: 31.2s\tremaining: 5.93s\n",
      "84:\tlearn: 41555.5583640\ttest: 61139.0529362\tbest: 61127.3548793 (78)\ttotal: 31.5s\tremaining: 5.56s\n",
      "85:\tlearn: 41372.5755332\ttest: 61127.4719762\tbest: 61127.3548793 (78)\ttotal: 31.9s\tremaining: 5.2s\n",
      "86:\tlearn: 41338.7667940\ttest: 61124.5367450\tbest: 61124.5367450 (86)\ttotal: 32.3s\tremaining: 4.83s\n",
      "87:\tlearn: 41105.6214884\ttest: 61151.6739858\tbest: 61124.5367450 (86)\ttotal: 32.7s\tremaining: 4.46s\n",
      "88:\tlearn: 40948.6214561\ttest: 61189.7671474\tbest: 61124.5367450 (86)\ttotal: 33.1s\tremaining: 4.1s\n",
      "89:\tlearn: 40830.9878022\ttest: 61177.0175743\tbest: 61124.5367450 (86)\ttotal: 33.6s\tremaining: 3.73s\n",
      "90:\tlearn: 40682.9080983\ttest: 61166.3763797\tbest: 61124.5367450 (86)\ttotal: 34s\tremaining: 3.36s\n",
      "91:\tlearn: 40565.9764040\ttest: 61157.6631190\tbest: 61124.5367450 (86)\ttotal: 34.3s\tremaining: 2.99s\n",
      "92:\tlearn: 40468.9495395\ttest: 61105.3661102\tbest: 61105.3661102 (92)\ttotal: 34.7s\tremaining: 2.61s\n",
      "93:\tlearn: 40323.8545896\ttest: 61113.5606349\tbest: 61105.3661102 (92)\ttotal: 35.1s\tremaining: 2.24s\n",
      "94:\tlearn: 40027.3095280\ttest: 61157.1052840\tbest: 61105.3661102 (92)\ttotal: 35.5s\tremaining: 1.87s\n",
      "95:\tlearn: 39876.2959456\ttest: 61128.7472646\tbest: 61105.3661102 (92)\ttotal: 35.9s\tremaining: 1.5s\n",
      "96:\tlearn: 39688.7715802\ttest: 61124.0964569\tbest: 61105.3661102 (92)\ttotal: 36.4s\tremaining: 1.12s\n",
      "97:\tlearn: 39563.0054253\ttest: 61115.7792459\tbest: 61105.3661102 (92)\ttotal: 36.8s\tremaining: 751ms\n",
      "98:\tlearn: 39437.2463593\ttest: 61092.5477272\tbest: 61092.5477272 (98)\ttotal: 37.2s\tremaining: 376ms\n",
      "99:\tlearn: 39303.7095197\ttest: 61102.7784088\tbest: 61092.5477272 (98)\ttotal: 37.6s\tremaining: 0us\n",
      "\n",
      "bestTest = 61092.54773\n",
      "bestIteration = 98\n",
      "\n",
      "6:\tloss: 61092.5477272\tbest: 61092.5477272 (6)\ttotal: 42.6s\tremaining: 18.3s\n",
      "Estimating final quality...\n",
      "Training on fold [0/5]\n",
      "0:\tlearn: 235293.1495710\ttest: 236431.1279181\tbest: 236431.1279181 (0)\ttotal: 4.39ms\tremaining: 435ms\n",
      "1:\tlearn: 141039.5151760\ttest: 141980.9400397\tbest: 141980.9400397 (1)\ttotal: 381ms\tremaining: 18.7s\n",
      "2:\tlearn: 99136.8816500\ttest: 100240.3802227\tbest: 100240.3802227 (2)\ttotal: 826ms\tremaining: 26.7s\n",
      "3:\tlearn: 83140.4136361\ttest: 84151.0645507\tbest: 84151.0645507 (3)\ttotal: 857ms\tremaining: 20.6s\n",
      "4:\tlearn: 75789.2134061\ttest: 77326.6836500\tbest: 77326.6836500 (4)\ttotal: 1.25s\tremaining: 23.7s\n",
      "5:\tlearn: 69413.2081416\ttest: 71635.1889069\tbest: 71635.1889069 (5)\ttotal: 1.65s\tremaining: 25.8s\n",
      "6:\tlearn: 65787.2453436\ttest: 68776.3152348\tbest: 68776.3152348 (6)\ttotal: 2.05s\tremaining: 27.2s\n",
      "7:\tlearn: 64072.4018163\ttest: 67441.1332920\tbest: 67441.1332920 (7)\ttotal: 2.44s\tremaining: 28s\n",
      "8:\tlearn: 62093.9209807\ttest: 66139.8517751\tbest: 66139.8517751 (8)\ttotal: 2.83s\tremaining: 28.6s\n",
      "9:\tlearn: 61093.4335552\ttest: 65615.1716183\tbest: 65615.1716183 (9)\ttotal: 3.22s\tremaining: 29s\n",
      "10:\tlearn: 60272.8999899\ttest: 65213.6072990\tbest: 65213.6072990 (10)\ttotal: 3.61s\tremaining: 29.2s\n",
      "11:\tlearn: 59879.0426507\ttest: 65104.4253467\tbest: 65104.4253467 (11)\ttotal: 4s\tremaining: 29.3s\n",
      "12:\tlearn: 59410.8793524\ttest: 65003.0507207\tbest: 65003.0507207 (12)\ttotal: 4.39s\tremaining: 29.4s\n",
      "13:\tlearn: 59358.4107903\ttest: 64938.7846500\tbest: 64938.7846500 (13)\ttotal: 4.39s\tremaining: 27s\n",
      "14:\tlearn: 59035.5130211\ttest: 64661.2527525\tbest: 64661.2527525 (14)\ttotal: 4.8s\tremaining: 27.2s\n",
      "15:\tlearn: 58474.2971382\ttest: 64262.2880504\tbest: 64262.2880504 (15)\ttotal: 5.18s\tremaining: 27.2s\n",
      "16:\tlearn: 58160.5930176\ttest: 64118.8973044\tbest: 64118.8973044 (16)\ttotal: 5.56s\tremaining: 27.1s\n",
      "17:\tlearn: 57534.1704074\ttest: 63895.1215844\tbest: 63895.1215844 (17)\ttotal: 5.94s\tremaining: 27.1s\n",
      "18:\tlearn: 56769.4551846\ttest: 63560.4787642\tbest: 63560.4787642 (18)\ttotal: 6.33s\tremaining: 27s\n",
      "19:\tlearn: 56760.9758923\ttest: 63548.3385114\tbest: 63548.3385114 (19)\ttotal: 6.33s\tremaining: 25.3s\n",
      "20:\tlearn: 56542.3878914\ttest: 63459.3040841\tbest: 63459.3040841 (20)\ttotal: 6.73s\tremaining: 25.3s\n",
      "21:\tlearn: 56259.9506514\ttest: 63401.3153287\tbest: 63401.3153287 (21)\ttotal: 7.13s\tremaining: 25.3s\n",
      "22:\tlearn: 55994.5481398\ttest: 63233.2729957\tbest: 63233.2729957 (22)\ttotal: 7.51s\tremaining: 25.1s\n",
      "23:\tlearn: 55641.9808789\ttest: 63025.1236230\tbest: 63025.1236230 (23)\ttotal: 7.89s\tremaining: 25s\n",
      "24:\tlearn: 55280.3077723\ttest: 62904.1407502\tbest: 62904.1407502 (24)\ttotal: 8.29s\tremaining: 24.9s\n",
      "25:\tlearn: 54997.1175054\ttest: 62816.0705962\tbest: 62816.0705962 (25)\ttotal: 8.7s\tremaining: 24.8s\n",
      "26:\tlearn: 54840.1608898\ttest: 62745.6040591\tbest: 62745.6040591 (26)\ttotal: 9.09s\tremaining: 24.6s\n",
      "27:\tlearn: 54362.5702537\ttest: 62574.0076659\tbest: 62574.0076659 (27)\ttotal: 9.46s\tremaining: 24.3s\n",
      "28:\tlearn: 53893.8378176\ttest: 62444.1792848\tbest: 62444.1792848 (28)\ttotal: 9.86s\tremaining: 24.1s\n",
      "29:\tlearn: 53524.1763653\ttest: 62419.3402249\tbest: 62419.3402249 (29)\ttotal: 10.2s\tremaining: 23.9s\n",
      "30:\tlearn: 52956.6320564\ttest: 62166.0235476\tbest: 62166.0235476 (30)\ttotal: 10.6s\tremaining: 23.7s\n",
      "31:\tlearn: 52624.3016542\ttest: 62100.9967415\tbest: 62100.9967415 (31)\ttotal: 11s\tremaining: 23.4s\n",
      "32:\tlearn: 52332.6157486\ttest: 62006.1687105\tbest: 62006.1687105 (32)\ttotal: 11.4s\tremaining: 23.2s\n",
      "33:\tlearn: 52004.2402099\ttest: 61827.6435323\tbest: 61827.6435323 (33)\ttotal: 11.8s\tremaining: 22.9s\n",
      "34:\tlearn: 51584.2484272\ttest: 61748.1730293\tbest: 61748.1730293 (34)\ttotal: 12.2s\tremaining: 22.6s\n",
      "35:\tlearn: 51574.5941649\ttest: 61748.5282737\tbest: 61748.1730293 (34)\ttotal: 12.5s\tremaining: 22.3s\n",
      "36:\tlearn: 51331.2324628\ttest: 61716.1932383\tbest: 61716.1932383 (36)\ttotal: 12.9s\tremaining: 22s\n",
      "37:\tlearn: 51322.0115710\ttest: 61718.8371302\tbest: 61716.1932383 (36)\ttotal: 13.3s\tremaining: 21.6s\n",
      "38:\tlearn: 51117.9746312\ttest: 61691.3026480\tbest: 61691.3026480 (38)\ttotal: 13.7s\tremaining: 21.4s\n",
      "39:\tlearn: 50792.6860859\ttest: 61716.6839250\tbest: 61691.3026480 (38)\ttotal: 14s\tremaining: 21s\n",
      "40:\tlearn: 50485.0223587\ttest: 61661.6056082\tbest: 61661.6056082 (40)\ttotal: 14.4s\tremaining: 20.7s\n",
      "41:\tlearn: 50368.7927627\ttest: 61660.5090908\tbest: 61660.5090908 (41)\ttotal: 14.8s\tremaining: 20.4s\n",
      "42:\tlearn: 50341.2390610\ttest: 61660.0425581\tbest: 61660.0425581 (42)\ttotal: 14.8s\tremaining: 19.6s\n",
      "43:\tlearn: 50333.6819664\ttest: 61652.9404751\tbest: 61652.9404751 (43)\ttotal: 15.2s\tremaining: 19.3s\n",
      "44:\tlearn: 50048.2279534\ttest: 61581.3861153\tbest: 61581.3861153 (44)\ttotal: 15.6s\tremaining: 19s\n",
      "45:\tlearn: 49703.6200357\ttest: 61535.5764718\tbest: 61535.5764718 (45)\ttotal: 16s\tremaining: 18.7s\n",
      "46:\tlearn: 49424.1545365\ttest: 61447.2289699\tbest: 61447.2289699 (46)\ttotal: 16.4s\tremaining: 18.4s\n",
      "47:\tlearn: 49126.8759292\ttest: 61383.3582884\tbest: 61383.3582884 (47)\ttotal: 16.8s\tremaining: 18.2s\n",
      "48:\tlearn: 48714.7806154\ttest: 61307.2720161\tbest: 61307.2720161 (48)\ttotal: 17.2s\tremaining: 17.9s\n",
      "49:\tlearn: 48513.7207901\ttest: 61245.1340161\tbest: 61245.1340161 (49)\ttotal: 17.6s\tremaining: 17.6s\n",
      "50:\tlearn: 48289.4923741\ttest: 61205.9227423\tbest: 61205.9227423 (50)\ttotal: 17.9s\tremaining: 17.2s\n",
      "51:\tlearn: 48178.4350607\ttest: 61171.6679389\tbest: 61171.6679389 (51)\ttotal: 18.4s\tremaining: 17s\n",
      "52:\tlearn: 47975.9777436\ttest: 61114.7286252\tbest: 61114.7286252 (52)\ttotal: 18.8s\tremaining: 16.6s\n",
      "53:\tlearn: 47768.6412913\ttest: 61084.4380826\tbest: 61084.4380826 (53)\ttotal: 19.2s\tremaining: 16.3s\n",
      "54:\tlearn: 47388.6896566\ttest: 61031.9018409\tbest: 61031.9018409 (54)\ttotal: 19.5s\tremaining: 16s\n",
      "55:\tlearn: 47188.5019428\ttest: 60991.6223206\tbest: 60991.6223206 (55)\ttotal: 19.9s\tremaining: 15.7s\n",
      "56:\tlearn: 46775.4224963\ttest: 60893.5311848\tbest: 60893.5311848 (56)\ttotal: 20.3s\tremaining: 15.3s\n",
      "57:\tlearn: 46565.0702957\ttest: 60917.2926327\tbest: 60893.5311848 (56)\ttotal: 20.7s\tremaining: 15s\n",
      "58:\tlearn: 46208.1592362\ttest: 60909.3780203\tbest: 60893.5311848 (56)\ttotal: 21.1s\tremaining: 14.6s\n",
      "59:\tlearn: 45999.5305559\ttest: 60833.6580266\tbest: 60833.6580266 (59)\ttotal: 21.4s\tremaining: 14.3s\n",
      "60:\tlearn: 45839.1926260\ttest: 60823.7680790\tbest: 60823.7680790 (60)\ttotal: 21.8s\tremaining: 13.9s\n",
      "61:\tlearn: 45650.5229003\ttest: 60809.2706474\tbest: 60809.2706474 (61)\ttotal: 22.2s\tremaining: 13.6s\n",
      "62:\tlearn: 45641.2989674\ttest: 60810.2606970\tbest: 60809.2706474 (61)\ttotal: 22.6s\tremaining: 13.3s\n",
      "63:\tlearn: 45356.3853495\ttest: 60774.8745837\tbest: 60774.8745837 (63)\ttotal: 23s\tremaining: 12.9s\n",
      "64:\tlearn: 45079.7430317\ttest: 60712.4489175\tbest: 60712.4489175 (64)\ttotal: 23.4s\tremaining: 12.6s\n",
      "65:\tlearn: 44782.3261191\ttest: 60669.9276413\tbest: 60669.9276413 (65)\ttotal: 23.8s\tremaining: 12.2s\n",
      "66:\tlearn: 44463.8737318\ttest: 60600.5918596\tbest: 60600.5918596 (66)\ttotal: 24.1s\tremaining: 11.9s\n",
      "67:\tlearn: 44205.5969946\ttest: 60600.8269951\tbest: 60600.5918596 (66)\ttotal: 24.5s\tremaining: 11.5s\n",
      "68:\tlearn: 44008.2265341\ttest: 60611.0591680\tbest: 60600.5918596 (66)\ttotal: 24.9s\tremaining: 11.2s\n",
      "69:\tlearn: 43769.4429172\ttest: 60588.7855975\tbest: 60588.7855975 (69)\ttotal: 25.3s\tremaining: 10.8s\n",
      "70:\tlearn: 43658.5190188\ttest: 60594.9546698\tbest: 60588.7855975 (69)\ttotal: 25.7s\tremaining: 10.5s\n",
      "71:\tlearn: 43420.7614797\ttest: 60594.1534691\tbest: 60588.7855975 (69)\ttotal: 26s\tremaining: 10.1s\n",
      "72:\tlearn: 43178.9958339\ttest: 60567.9895297\tbest: 60567.9895297 (72)\ttotal: 26.4s\tremaining: 9.76s\n",
      "73:\tlearn: 43004.9163319\ttest: 60553.0978722\tbest: 60553.0978722 (73)\ttotal: 26.8s\tremaining: 9.41s\n",
      "74:\tlearn: 42815.3243381\ttest: 60513.4141936\tbest: 60513.4141936 (74)\ttotal: 27.2s\tremaining: 9.05s\n",
      "75:\tlearn: 42574.0026420\ttest: 60498.3917646\tbest: 60498.3917646 (75)\ttotal: 27.5s\tremaining: 8.69s\n",
      "76:\tlearn: 42365.3977758\ttest: 60490.5465122\tbest: 60490.5465122 (76)\ttotal: 27.9s\tremaining: 8.34s\n",
      "77:\tlearn: 42026.4520732\ttest: 60432.0590900\tbest: 60432.0590900 (77)\ttotal: 28.3s\tremaining: 7.98s\n",
      "78:\tlearn: 41827.1577119\ttest: 60391.5864761\tbest: 60391.5864761 (78)\ttotal: 28.7s\tremaining: 7.63s\n",
      "79:\tlearn: 41704.6063080\ttest: 60395.7833008\tbest: 60391.5864761 (78)\ttotal: 29.1s\tremaining: 7.27s\n",
      "80:\tlearn: 41531.7997499\ttest: 60372.2795495\tbest: 60372.2795495 (80)\ttotal: 29.5s\tremaining: 6.91s\n",
      "81:\tlearn: 41312.5926183\ttest: 60381.3237117\tbest: 60372.2795495 (80)\ttotal: 29.8s\tremaining: 6.55s\n",
      "82:\tlearn: 41206.0086293\ttest: 60377.0416359\tbest: 60372.2795495 (80)\ttotal: 30.2s\tremaining: 6.19s\n",
      "83:\tlearn: 41126.9277948\ttest: 60374.3795180\tbest: 60372.2795495 (80)\ttotal: 30.6s\tremaining: 5.82s\n",
      "84:\tlearn: 41029.6038168\ttest: 60363.9346954\tbest: 60363.9346954 (84)\ttotal: 31s\tremaining: 5.46s\n",
      "85:\tlearn: 40865.5335411\ttest: 60327.8736570\tbest: 60327.8736570 (85)\ttotal: 31.3s\tremaining: 5.1s\n",
      "86:\tlearn: 40771.3171423\ttest: 60335.2132651\tbest: 60327.8736570 (85)\ttotal: 31.7s\tremaining: 4.74s\n",
      "87:\tlearn: 40563.8695549\ttest: 60363.4180643\tbest: 60327.8736570 (85)\ttotal: 32.1s\tremaining: 4.38s\n",
      "88:\tlearn: 40414.3371746\ttest: 60333.9167108\tbest: 60327.8736570 (85)\ttotal: 32.5s\tremaining: 4.01s\n",
      "89:\tlearn: 40300.1869151\ttest: 60310.9859870\tbest: 60310.9859870 (89)\ttotal: 32.9s\tremaining: 3.65s\n",
      "90:\tlearn: 40135.3274526\ttest: 60339.3300251\tbest: 60310.9859870 (89)\ttotal: 33.2s\tremaining: 3.29s\n",
      "91:\tlearn: 40000.4083127\ttest: 60308.8145131\tbest: 60308.8145131 (91)\ttotal: 33.6s\tremaining: 2.92s\n",
      "92:\tlearn: 39831.7082248\ttest: 60333.4187341\tbest: 60308.8145131 (91)\ttotal: 34s\tremaining: 2.56s\n",
      "93:\tlearn: 39639.7756364\ttest: 60358.9735029\tbest: 60308.8145131 (91)\ttotal: 34.4s\tremaining: 2.19s\n",
      "94:\tlearn: 39505.9370373\ttest: 60363.4287631\tbest: 60308.8145131 (91)\ttotal: 34.7s\tremaining: 1.83s\n",
      "95:\tlearn: 39404.0480070\ttest: 60341.6421887\tbest: 60308.8145131 (91)\ttotal: 35.1s\tremaining: 1.46s\n",
      "96:\tlearn: 39245.5174712\ttest: 60322.7119891\tbest: 60308.8145131 (91)\ttotal: 35.5s\tremaining: 1.1s\n",
      "97:\tlearn: 39067.5803610\ttest: 60321.4542960\tbest: 60308.8145131 (91)\ttotal: 35.9s\tremaining: 732ms\n",
      "98:\tlearn: 38896.2143366\ttest: 60320.9974687\tbest: 60308.8145131 (91)\ttotal: 36.2s\tremaining: 366ms\n",
      "99:\tlearn: 38782.9390599\ttest: 60328.8958200\tbest: 60308.8145131 (91)\ttotal: 36.6s\tremaining: 0us\n",
      "\n",
      "bestTest = 60308.81451\n",
      "bestIteration = 91\n",
      "\n",
      "Training on fold [1/5]\n",
      "0:\tlearn: 235528.5960270\ttest: 234653.2926064\tbest: 234653.2926064 (0)\ttotal: 4.51ms\tremaining: 446ms\n",
      "1:\tlearn: 141073.0533397\ttest: 141019.8692006\tbest: 141019.8692006 (1)\ttotal: 382ms\tremaining: 18.7s\n",
      "2:\tlearn: 98850.4421292\ttest: 99352.9426397\tbest: 99352.9426397 (2)\ttotal: 755ms\tremaining: 24.4s\n",
      "3:\tlearn: 82943.7783507\ttest: 83906.1842022\tbest: 83906.1842022 (3)\ttotal: 783ms\tremaining: 18.8s\n",
      "4:\tlearn: 76068.5121154\ttest: 77438.0876574\tbest: 77438.0876574 (4)\ttotal: 1.17s\tremaining: 22.2s\n",
      "5:\tlearn: 69613.6706006\ttest: 71676.0049436\tbest: 71676.0049436 (5)\ttotal: 1.54s\tremaining: 24.1s\n",
      "6:\tlearn: 66290.8488023\ttest: 69250.1896456\tbest: 69250.1896456 (6)\ttotal: 1.93s\tremaining: 25.6s\n",
      "7:\tlearn: 64544.2348854\ttest: 67931.9283911\tbest: 67931.9283911 (7)\ttotal: 2.34s\tremaining: 26.9s\n",
      "8:\tlearn: 63128.7318061\ttest: 66987.9610270\tbest: 66987.9610270 (8)\ttotal: 2.73s\tremaining: 27.6s\n",
      "9:\tlearn: 62250.2423968\ttest: 66539.5481040\tbest: 66539.5481040 (9)\ttotal: 3.1s\tremaining: 27.9s\n",
      "10:\tlearn: 61645.6329394\ttest: 66269.9939202\tbest: 66269.9939202 (10)\ttotal: 3.48s\tremaining: 28.2s\n",
      "11:\tlearn: 60806.1642224\ttest: 65828.3063050\tbest: 65828.3063050 (11)\ttotal: 3.85s\tremaining: 28.3s\n",
      "12:\tlearn: 60789.6081382\ttest: 65785.0950867\tbest: 65785.0950867 (12)\ttotal: 3.86s\tremaining: 25.8s\n",
      "13:\tlearn: 60214.5495256\ttest: 65512.5131079\tbest: 65512.5131079 (13)\ttotal: 4.23s\tremaining: 26s\n",
      "14:\tlearn: 59842.6682844\ttest: 65313.7901649\tbest: 65313.7901649 (14)\ttotal: 4.62s\tremaining: 26.2s\n",
      "15:\tlearn: 58829.1889631\ttest: 64816.1228104\tbest: 64816.1228104 (15)\ttotal: 5s\tremaining: 26.3s\n",
      "16:\tlearn: 58695.6082982\ttest: 64724.8980863\tbest: 64724.8980863 (16)\ttotal: 5.01s\tremaining: 24.5s\n",
      "17:\tlearn: 58678.4817895\ttest: 64701.4352508\tbest: 64701.4352508 (17)\ttotal: 5.01s\tremaining: 22.8s\n",
      "18:\tlearn: 57991.0910239\ttest: 64656.9671484\tbest: 64656.9671484 (18)\ttotal: 5.44s\tremaining: 23.2s\n",
      "19:\tlearn: 57449.9822817\ttest: 64438.0483167\tbest: 64438.0483167 (19)\ttotal: 5.83s\tremaining: 23.3s\n",
      "20:\tlearn: 57277.3448154\ttest: 64356.3726252\tbest: 64356.3726252 (20)\ttotal: 6.21s\tremaining: 23.3s\n",
      "21:\tlearn: 57058.2822911\ttest: 64301.2367195\tbest: 64301.2367195 (21)\ttotal: 6.6s\tremaining: 23.4s\n",
      "22:\tlearn: 56581.0934390\ttest: 64208.9540260\tbest: 64208.9540260 (22)\ttotal: 6.98s\tremaining: 23.4s\n",
      "23:\tlearn: 56100.2125725\ttest: 64099.2342537\tbest: 64099.2342537 (23)\ttotal: 7.36s\tremaining: 23.3s\n",
      "24:\tlearn: 55931.7488470\ttest: 63987.5032293\tbest: 63987.5032293 (24)\ttotal: 7.76s\tremaining: 23.3s\n",
      "25:\tlearn: 55533.7936267\ttest: 63744.6249968\tbest: 63744.6249968 (25)\ttotal: 8.2s\tremaining: 23.3s\n",
      "26:\tlearn: 55371.8342438\ttest: 63708.1628913\tbest: 63708.1628913 (26)\ttotal: 8.57s\tremaining: 23.2s\n",
      "27:\tlearn: 55104.4064064\ttest: 63695.5608163\tbest: 63695.5608163 (27)\ttotal: 9.02s\tremaining: 23.2s\n",
      "28:\tlearn: 54938.9848265\ttest: 63612.6380129\tbest: 63612.6380129 (28)\ttotal: 9.4s\tremaining: 23s\n",
      "29:\tlearn: 54489.2736061\ttest: 63482.1121147\tbest: 63482.1121147 (29)\ttotal: 9.83s\tremaining: 22.9s\n",
      "30:\tlearn: 53941.5949434\ttest: 63266.7321929\tbest: 63266.7321929 (30)\ttotal: 10.2s\tremaining: 22.7s\n",
      "31:\tlearn: 53597.5909962\ttest: 63073.4389910\tbest: 63073.4389910 (31)\ttotal: 10.6s\tremaining: 22.5s\n",
      "32:\tlearn: 53043.3820992\ttest: 63025.0047861\tbest: 63025.0047861 (32)\ttotal: 11s\tremaining: 22.2s\n",
      "33:\tlearn: 52945.3847050\ttest: 62939.1647909\tbest: 62939.1647909 (33)\ttotal: 11.1s\tremaining: 21.6s\n",
      "34:\tlearn: 52555.8310020\ttest: 62794.1501344\tbest: 62794.1501344 (34)\ttotal: 11.5s\tremaining: 21.3s\n",
      "35:\tlearn: 52150.5276781\ttest: 62699.7700746\tbest: 62699.7700746 (35)\ttotal: 11.9s\tremaining: 21.1s\n",
      "36:\tlearn: 52004.7257766\ttest: 62668.0107297\tbest: 62668.0107297 (36)\ttotal: 12.2s\tremaining: 20.8s\n",
      "37:\tlearn: 51474.5972978\ttest: 62673.1378185\tbest: 62668.0107297 (36)\ttotal: 12.6s\tremaining: 20.6s\n",
      "38:\tlearn: 51255.7786766\ttest: 62619.6409037\tbest: 62619.6409037 (38)\ttotal: 13s\tremaining: 20.4s\n",
      "39:\tlearn: 51217.2988916\ttest: 62591.9093854\tbest: 62591.9093854 (39)\ttotal: 13.4s\tremaining: 20.1s\n",
      "40:\tlearn: 50980.9857656\ttest: 62504.8468133\tbest: 62504.8468133 (40)\ttotal: 13.8s\tremaining: 19.8s\n",
      "41:\tlearn: 50878.8144558\ttest: 62479.7348615\tbest: 62479.7348615 (41)\ttotal: 14.1s\tremaining: 19.5s\n",
      "42:\tlearn: 50814.7930103\ttest: 62438.2674807\tbest: 62438.2674807 (42)\ttotal: 14.5s\tremaining: 19.2s\n",
      "43:\tlearn: 50358.8045174\ttest: 62277.0573394\tbest: 62277.0573394 (43)\ttotal: 14.9s\tremaining: 18.9s\n",
      "44:\tlearn: 50011.3958889\ttest: 62158.2206635\tbest: 62158.2206635 (44)\ttotal: 15.3s\tremaining: 18.6s\n",
      "45:\tlearn: 49782.6323099\ttest: 62087.1968747\tbest: 62087.1968747 (45)\ttotal: 15.7s\tremaining: 18.4s\n",
      "46:\tlearn: 49452.8760560\ttest: 62063.4745045\tbest: 62063.4745045 (46)\ttotal: 16s\tremaining: 18.1s\n",
      "47:\tlearn: 49175.1137150\ttest: 62054.1505544\tbest: 62054.1505544 (47)\ttotal: 16.4s\tremaining: 17.8s\n",
      "48:\tlearn: 48823.1778740\ttest: 62018.7839667\tbest: 62018.7839667 (48)\ttotal: 16.8s\tremaining: 17.5s\n",
      "49:\tlearn: 48482.9455371\ttest: 62054.9016520\tbest: 62018.7839667 (48)\ttotal: 17.2s\tremaining: 17.2s\n",
      "50:\tlearn: 48223.8705469\ttest: 61977.7570192\tbest: 61977.7570192 (50)\ttotal: 17.6s\tremaining: 16.9s\n",
      "51:\tlearn: 47776.6237429\ttest: 61980.7128088\tbest: 61977.7570192 (50)\ttotal: 17.9s\tremaining: 16.6s\n",
      "52:\tlearn: 47465.9629711\ttest: 61930.2404922\tbest: 61930.2404922 (52)\ttotal: 18.3s\tremaining: 16.3s\n",
      "53:\tlearn: 47226.6280070\ttest: 61938.6272329\tbest: 61930.2404922 (52)\ttotal: 18.7s\tremaining: 15.9s\n",
      "54:\tlearn: 46889.1171313\ttest: 61888.0786823\tbest: 61888.0786823 (54)\ttotal: 19.1s\tremaining: 15.6s\n",
      "55:\tlearn: 46641.7321835\ttest: 61844.8413005\tbest: 61844.8413005 (55)\ttotal: 19.5s\tremaining: 15.3s\n",
      "56:\tlearn: 46390.5496802\ttest: 61772.3120958\tbest: 61772.3120958 (56)\ttotal: 19.9s\tremaining: 15s\n",
      "57:\tlearn: 46098.3124277\ttest: 61691.9675203\tbest: 61691.9675203 (57)\ttotal: 20.3s\tremaining: 14.7s\n",
      "58:\tlearn: 46023.3108925\ttest: 61658.7995451\tbest: 61658.7995451 (58)\ttotal: 20.6s\tremaining: 14.3s\n",
      "59:\tlearn: 45733.4767187\ttest: 61652.8926489\tbest: 61652.8926489 (59)\ttotal: 21s\tremaining: 14s\n",
      "60:\tlearn: 45517.1037364\ttest: 61642.0879527\tbest: 61642.0879527 (60)\ttotal: 21.4s\tremaining: 13.7s\n",
      "61:\tlearn: 45312.3032274\ttest: 61627.4201358\tbest: 61627.4201358 (61)\ttotal: 21.8s\tremaining: 13.3s\n",
      "62:\tlearn: 45042.8087466\ttest: 61577.4564525\tbest: 61577.4564525 (62)\ttotal: 22.2s\tremaining: 13s\n",
      "63:\tlearn: 44809.2219271\ttest: 61586.3944637\tbest: 61577.4564525 (62)\ttotal: 22.5s\tremaining: 12.7s\n",
      "64:\tlearn: 44614.7979486\ttest: 61551.0101931\tbest: 61551.0101931 (64)\ttotal: 22.9s\tremaining: 12.3s\n",
      "65:\tlearn: 44525.8031263\ttest: 61506.7775564\tbest: 61506.7775564 (65)\ttotal: 23.3s\tremaining: 12s\n",
      "66:\tlearn: 44425.5585612\ttest: 61499.9872670\tbest: 61499.9872670 (66)\ttotal: 23.7s\tremaining: 11.7s\n",
      "67:\tlearn: 44247.8376767\ttest: 61446.6561305\tbest: 61446.6561305 (67)\ttotal: 24.2s\tremaining: 11.4s\n",
      "68:\tlearn: 44057.9951742\ttest: 61428.2502929\tbest: 61428.2502929 (68)\ttotal: 24.5s\tremaining: 11s\n",
      "69:\tlearn: 43782.4463228\ttest: 61367.5137646\tbest: 61367.5137646 (69)\ttotal: 24.9s\tremaining: 10.7s\n",
      "70:\tlearn: 43519.3330483\ttest: 61368.5962984\tbest: 61367.5137646 (69)\ttotal: 25.3s\tremaining: 10.3s\n",
      "71:\tlearn: 43374.9366540\ttest: 61333.8305098\tbest: 61333.8305098 (71)\ttotal: 25.7s\tremaining: 10s\n",
      "72:\tlearn: 43074.6174992\ttest: 61312.0961954\tbest: 61312.0961954 (72)\ttotal: 26.1s\tremaining: 9.65s\n",
      "73:\tlearn: 42948.2697521\ttest: 61313.4019056\tbest: 61312.0961954 (72)\ttotal: 26.5s\tremaining: 9.31s\n",
      "74:\tlearn: 42821.5061908\ttest: 61318.6522370\tbest: 61312.0961954 (72)\ttotal: 26.9s\tremaining: 8.96s\n",
      "75:\tlearn: 42711.6652317\ttest: 61322.0188491\tbest: 61312.0961954 (72)\ttotal: 27.3s\tremaining: 8.61s\n",
      "76:\tlearn: 42512.0545507\ttest: 61283.6531178\tbest: 61283.6531178 (76)\ttotal: 27.6s\tremaining: 8.26s\n",
      "77:\tlearn: 42303.2400185\ttest: 61293.0837537\tbest: 61283.6531178 (76)\ttotal: 28s\tremaining: 7.9s\n",
      "78:\tlearn: 42159.0332048\ttest: 61278.8894373\tbest: 61278.8894373 (78)\ttotal: 28.4s\tremaining: 7.55s\n",
      "79:\tlearn: 42007.6885541\ttest: 61270.8112727\tbest: 61270.8112727 (79)\ttotal: 28.8s\tremaining: 7.19s\n",
      "80:\tlearn: 41809.6419285\ttest: 61258.7972985\tbest: 61258.7972985 (80)\ttotal: 29.1s\tremaining: 6.83s\n",
      "81:\tlearn: 41646.7299226\ttest: 61225.6050102\tbest: 61225.6050102 (81)\ttotal: 29.6s\tremaining: 6.49s\n",
      "82:\tlearn: 41402.1292773\ttest: 61197.6034371\tbest: 61197.6034371 (82)\ttotal: 29.9s\tremaining: 6.13s\n",
      "83:\tlearn: 41275.9401718\ttest: 61165.4595465\tbest: 61165.4595465 (83)\ttotal: 30.3s\tremaining: 5.78s\n",
      "84:\tlearn: 41183.8444269\ttest: 61153.5057124\tbest: 61153.5057124 (84)\ttotal: 30.7s\tremaining: 5.42s\n",
      "85:\tlearn: 40989.5432034\ttest: 61137.8848611\tbest: 61137.8848611 (85)\ttotal: 31.1s\tremaining: 5.06s\n",
      "86:\tlearn: 40737.4781323\ttest: 61096.7745087\tbest: 61096.7745087 (86)\ttotal: 31.5s\tremaining: 4.7s\n",
      "87:\tlearn: 40567.1808264\ttest: 61104.4635646\tbest: 61096.7745087 (86)\ttotal: 31.8s\tremaining: 4.34s\n",
      "88:\tlearn: 40505.2183550\ttest: 61101.1848496\tbest: 61096.7745087 (86)\ttotal: 32.2s\tremaining: 3.98s\n",
      "89:\tlearn: 40325.0177423\ttest: 61051.9099282\tbest: 61051.9099282 (89)\ttotal: 32.6s\tremaining: 3.63s\n",
      "90:\tlearn: 40113.9832117\ttest: 61036.0825763\tbest: 61036.0825763 (90)\ttotal: 33s\tremaining: 3.27s\n",
      "91:\tlearn: 39958.6342196\ttest: 61032.6999291\tbest: 61032.6999291 (91)\ttotal: 33.4s\tremaining: 2.9s\n",
      "92:\tlearn: 39788.1018729\ttest: 61055.0230637\tbest: 61032.6999291 (91)\ttotal: 33.8s\tremaining: 2.54s\n",
      "93:\tlearn: 39677.8951289\ttest: 61015.3080955\tbest: 61015.3080955 (93)\ttotal: 34.2s\tremaining: 2.18s\n",
      "94:\tlearn: 39473.7264562\ttest: 61005.1404845\tbest: 61005.1404845 (94)\ttotal: 34.6s\tremaining: 1.82s\n",
      "95:\tlearn: 39330.6914495\ttest: 60979.5971583\tbest: 60979.5971583 (95)\ttotal: 35s\tremaining: 1.46s\n",
      "96:\tlearn: 39237.8027883\ttest: 60970.0127540\tbest: 60970.0127540 (96)\ttotal: 35.4s\tremaining: 1.09s\n",
      "97:\tlearn: 39151.1024374\ttest: 60968.3757999\tbest: 60968.3757999 (97)\ttotal: 35.7s\tremaining: 729ms\n",
      "98:\tlearn: 39040.2630394\ttest: 60956.1252086\tbest: 60956.1252086 (98)\ttotal: 36.1s\tremaining: 365ms\n",
      "99:\tlearn: 38912.7129973\ttest: 60975.0427553\tbest: 60956.1252086 (98)\ttotal: 36.5s\tremaining: 0us\n",
      "\n",
      "bestTest = 60956.12521\n",
      "bestIteration = 98\n",
      "\n",
      "Training on fold [2/5]\n",
      "0:\tlearn: 237484.2784665\ttest: 237664.0947021\tbest: 237664.0947021 (0)\ttotal: 158ms\tremaining: 15.6s\n",
      "1:\tlearn: 141797.1151670\ttest: 142169.7216841\tbest: 142169.7216841 (1)\ttotal: 176ms\tremaining: 8.63s\n",
      "2:\tlearn: 99710.3303314\ttest: 100033.3351976\tbest: 100033.3351976 (2)\ttotal: 232ms\tremaining: 7.49s\n",
      "3:\tlearn: 84064.2080532\ttest: 84678.8683701\tbest: 84678.8683701 (3)\ttotal: 653ms\tremaining: 15.7s\n",
      "4:\tlearn: 77101.5950344\ttest: 78546.9941502\tbest: 78546.9941502 (4)\ttotal: 1.06s\tremaining: 20.1s\n",
      "5:\tlearn: 71304.6619859\ttest: 72706.3595533\tbest: 72706.3595533 (5)\ttotal: 1.07s\tremaining: 16.8s\n",
      "6:\tlearn: 67529.0028704\ttest: 69462.8777664\tbest: 69462.8777664 (6)\ttotal: 1.48s\tremaining: 19.7s\n",
      "7:\tlearn: 65399.3257275\ttest: 67652.6622266\tbest: 67652.6622266 (7)\ttotal: 1.89s\tremaining: 21.7s\n",
      "8:\tlearn: 65075.1542622\ttest: 67303.4995596\tbest: 67303.4995596 (8)\ttotal: 1.89s\tremaining: 19.1s\n",
      "9:\tlearn: 63727.8696453\ttest: 66440.0347797\tbest: 66440.0347797 (9)\ttotal: 2.28s\tremaining: 20.5s\n",
      "10:\tlearn: 63056.3541985\ttest: 66033.4637309\tbest: 66033.4637309 (10)\ttotal: 2.68s\tremaining: 21.7s\n",
      "11:\tlearn: 62865.9639436\ttest: 65846.4137284\tbest: 65846.4137284 (11)\ttotal: 2.72s\tremaining: 19.9s\n",
      "12:\tlearn: 62842.1086895\ttest: 65804.2149363\tbest: 65804.2149363 (12)\ttotal: 2.72s\tremaining: 18.2s\n",
      "13:\tlearn: 62649.6944043\ttest: 65747.6020996\tbest: 65747.6020996 (13)\ttotal: 3.12s\tremaining: 19.2s\n",
      "14:\tlearn: 61190.3761611\ttest: 65300.7064695\tbest: 65300.7064695 (14)\ttotal: 3.54s\tremaining: 20.1s\n",
      "15:\tlearn: 60427.6369756\ttest: 64835.0083405\tbest: 64835.0083405 (15)\ttotal: 3.97s\tremaining: 20.8s\n",
      "16:\tlearn: 59976.5224960\ttest: 64739.8476261\tbest: 64739.8476261 (16)\ttotal: 4.44s\tremaining: 21.7s\n",
      "17:\tlearn: 59560.8028141\ttest: 64591.5975888\tbest: 64591.5975888 (17)\ttotal: 4.91s\tremaining: 22.4s\n",
      "18:\tlearn: 59278.0936898\ttest: 64578.6716915\tbest: 64578.6716915 (18)\ttotal: 5.33s\tremaining: 22.7s\n",
      "19:\tlearn: 58927.0547908\ttest: 64480.5157526\tbest: 64480.5157526 (19)\ttotal: 5.73s\tremaining: 22.9s\n",
      "20:\tlearn: 58664.9831552\ttest: 64355.3932763\tbest: 64355.3932763 (20)\ttotal: 6.18s\tremaining: 23.3s\n",
      "21:\tlearn: 58122.2117322\ttest: 64052.6384293\tbest: 64052.6384293 (21)\ttotal: 6.62s\tremaining: 23.5s\n",
      "22:\tlearn: 57929.0586065\ttest: 63929.7473381\tbest: 63929.7473381 (22)\ttotal: 7.05s\tremaining: 23.6s\n",
      "23:\tlearn: 57771.9732637\ttest: 63890.0546483\tbest: 63890.0546483 (23)\ttotal: 7.5s\tremaining: 23.8s\n",
      "24:\tlearn: 56945.1923480\ttest: 63616.5642737\tbest: 63616.5642737 (24)\ttotal: 7.93s\tremaining: 23.8s\n",
      "25:\tlearn: 56198.2014422\ttest: 63347.3330068\tbest: 63347.3330068 (25)\ttotal: 8.36s\tremaining: 23.8s\n",
      "26:\tlearn: 55682.0335713\ttest: 63262.6782775\tbest: 63262.6782775 (26)\ttotal: 8.79s\tremaining: 23.8s\n",
      "27:\tlearn: 55115.0849001\ttest: 63076.0080791\tbest: 63076.0080791 (27)\ttotal: 9.2s\tremaining: 23.7s\n",
      "28:\tlearn: 54833.7250441\ttest: 62990.0612549\tbest: 62990.0612549 (28)\ttotal: 9.63s\tremaining: 23.6s\n",
      "29:\tlearn: 54534.7061442\ttest: 62890.8970950\tbest: 62890.8970950 (29)\ttotal: 10.1s\tremaining: 23.5s\n",
      "30:\tlearn: 54446.6421405\ttest: 62818.6754305\tbest: 62818.6754305 (30)\ttotal: 10.5s\tremaining: 23.4s\n",
      "31:\tlearn: 54162.1621206\ttest: 62678.6334438\tbest: 62678.6334438 (31)\ttotal: 10.9s\tremaining: 23.2s\n",
      "32:\tlearn: 53863.4759683\ttest: 62583.5788937\tbest: 62583.5788937 (32)\ttotal: 11.4s\tremaining: 23.1s\n",
      "33:\tlearn: 53610.0476879\ttest: 62495.1249596\tbest: 62495.1249596 (33)\ttotal: 11.8s\tremaining: 22.9s\n",
      "34:\tlearn: 53123.2066193\ttest: 62437.9705673\tbest: 62437.9705673 (34)\ttotal: 12.2s\tremaining: 22.7s\n",
      "35:\tlearn: 53081.2303344\ttest: 62434.9387039\tbest: 62434.9387039 (35)\ttotal: 12.7s\tremaining: 22.5s\n",
      "36:\tlearn: 53040.8184810\ttest: 62403.4265327\tbest: 62403.4265327 (36)\ttotal: 12.8s\tremaining: 21.8s\n",
      "37:\tlearn: 52574.4894260\ttest: 62480.4483262\tbest: 62403.4265327 (36)\ttotal: 13.3s\tremaining: 21.6s\n",
      "38:\tlearn: 52253.6542582\ttest: 62378.7731709\tbest: 62378.7731709 (38)\ttotal: 13.7s\tremaining: 21.4s\n",
      "39:\tlearn: 52045.7349061\ttest: 62315.1566524\tbest: 62315.1566524 (39)\ttotal: 14.1s\tremaining: 21.2s\n",
      "40:\tlearn: 51620.7223090\ttest: 62322.1702407\tbest: 62315.1566524 (39)\ttotal: 14.6s\tremaining: 21s\n",
      "41:\tlearn: 51370.6998649\ttest: 62288.8659432\tbest: 62288.8659432 (41)\ttotal: 15s\tremaining: 20.7s\n",
      "42:\tlearn: 51116.7138761\ttest: 62220.0024782\tbest: 62220.0024782 (42)\ttotal: 15.4s\tremaining: 20.5s\n",
      "43:\tlearn: 50650.5267572\ttest: 62154.8800098\tbest: 62154.8800098 (43)\ttotal: 15.9s\tremaining: 20.2s\n",
      "44:\tlearn: 50304.6029168\ttest: 62096.3971168\tbest: 62096.3971168 (44)\ttotal: 16.4s\tremaining: 20s\n",
      "45:\tlearn: 50061.0931791\ttest: 62062.7932611\tbest: 62062.7932611 (45)\ttotal: 16.8s\tremaining: 19.7s\n",
      "46:\tlearn: 49866.4370269\ttest: 62008.4940532\tbest: 62008.4940532 (46)\ttotal: 17.3s\tremaining: 19.5s\n",
      "47:\tlearn: 49529.6520708\ttest: 61950.3807027\tbest: 61950.3807027 (47)\ttotal: 17.7s\tremaining: 19.2s\n",
      "48:\tlearn: 49295.3560016\ttest: 61894.7810628\tbest: 61894.7810628 (48)\ttotal: 18.2s\tremaining: 18.9s\n",
      "49:\tlearn: 49155.1741302\ttest: 61833.5205701\tbest: 61833.5205701 (49)\ttotal: 18.6s\tremaining: 18.6s\n",
      "50:\tlearn: 48832.6623947\ttest: 61769.6884305\tbest: 61769.6884305 (50)\ttotal: 19s\tremaining: 18.3s\n",
      "51:\tlearn: 48539.9242280\ttest: 61733.7625026\tbest: 61733.7625026 (51)\ttotal: 19.5s\tremaining: 18s\n",
      "52:\tlearn: 48437.4821929\ttest: 61729.7955490\tbest: 61729.7955490 (52)\ttotal: 19.9s\tremaining: 17.6s\n",
      "53:\tlearn: 48308.1762825\ttest: 61735.0831024\tbest: 61729.7955490 (52)\ttotal: 20.3s\tremaining: 17.3s\n",
      "54:\tlearn: 47904.2640068\ttest: 61745.7525148\tbest: 61729.7955490 (52)\ttotal: 20.7s\tremaining: 17s\n",
      "55:\tlearn: 47869.8679618\ttest: 61711.9334605\tbest: 61711.9334605 (55)\ttotal: 20.8s\tremaining: 16.3s\n",
      "56:\tlearn: 47707.7520432\ttest: 61637.8087058\tbest: 61637.8087058 (56)\ttotal: 21.2s\tremaining: 16s\n",
      "57:\tlearn: 47519.7006427\ttest: 61625.5479313\tbest: 61625.5479313 (57)\ttotal: 21.7s\tremaining: 15.7s\n",
      "58:\tlearn: 47441.1509511\ttest: 61602.9550644\tbest: 61602.9550644 (58)\ttotal: 22.1s\tremaining: 15.4s\n",
      "59:\tlearn: 47186.5784249\ttest: 61588.9131191\tbest: 61588.9131191 (59)\ttotal: 22.5s\tremaining: 15s\n",
      "60:\tlearn: 46957.4016159\ttest: 61542.3634439\tbest: 61542.3634439 (60)\ttotal: 23s\tremaining: 14.7s\n",
      "61:\tlearn: 46596.6256587\ttest: 61489.9358606\tbest: 61489.9358606 (61)\ttotal: 23.4s\tremaining: 14.3s\n",
      "62:\tlearn: 46131.0316441\ttest: 61456.9770985\tbest: 61456.9770985 (62)\ttotal: 23.8s\tremaining: 14s\n",
      "63:\tlearn: 45718.2350578\ttest: 61384.3992100\tbest: 61384.3992100 (63)\ttotal: 24.2s\tremaining: 13.6s\n",
      "64:\tlearn: 45448.6215963\ttest: 61372.8372685\tbest: 61372.8372685 (64)\ttotal: 24.7s\tremaining: 13.3s\n",
      "65:\tlearn: 45247.2636946\ttest: 61376.9898764\tbest: 61372.8372685 (64)\ttotal: 25.1s\tremaining: 12.9s\n",
      "66:\tlearn: 44959.5733589\ttest: 61345.7318051\tbest: 61345.7318051 (66)\ttotal: 25.6s\tremaining: 12.6s\n",
      "67:\tlearn: 44691.1082627\ttest: 61207.8240502\tbest: 61207.8240502 (67)\ttotal: 26s\tremaining: 12.2s\n",
      "68:\tlearn: 44461.0678956\ttest: 61187.9487304\tbest: 61187.9487304 (68)\ttotal: 26.4s\tremaining: 11.9s\n",
      "69:\tlearn: 44247.2387292\ttest: 61179.1448229\tbest: 61179.1448229 (69)\ttotal: 26.9s\tremaining: 11.5s\n",
      "70:\tlearn: 44037.0281593\ttest: 61125.1919717\tbest: 61125.1919717 (70)\ttotal: 27.3s\tremaining: 11.2s\n",
      "71:\tlearn: 43903.7623031\ttest: 61118.4174262\tbest: 61118.4174262 (71)\ttotal: 27.8s\tremaining: 10.8s\n",
      "72:\tlearn: 43827.9305103\ttest: 61115.5319137\tbest: 61115.5319137 (72)\ttotal: 28.2s\tremaining: 10.4s\n",
      "73:\tlearn: 43692.4279535\ttest: 61075.7659967\tbest: 61075.7659967 (73)\ttotal: 28.7s\tremaining: 10.1s\n",
      "74:\tlearn: 43510.7648367\ttest: 61003.1169073\tbest: 61003.1169073 (74)\ttotal: 29.2s\tremaining: 9.73s\n",
      "75:\tlearn: 43283.5545471\ttest: 60992.1629556\tbest: 60992.1629556 (75)\ttotal: 29.6s\tremaining: 9.36s\n",
      "76:\tlearn: 43174.2262251\ttest: 60960.4348381\tbest: 60960.4348381 (76)\ttotal: 30.1s\tremaining: 8.98s\n",
      "77:\tlearn: 42886.4837766\ttest: 60948.0412454\tbest: 60948.0412454 (77)\ttotal: 30.5s\tremaining: 8.61s\n",
      "78:\tlearn: 42688.4835179\ttest: 60869.5609796\tbest: 60869.5609796 (78)\ttotal: 31s\tremaining: 8.23s\n",
      "79:\tlearn: 42513.6514540\ttest: 60828.0311565\tbest: 60828.0311565 (79)\ttotal: 31.4s\tremaining: 7.84s\n",
      "80:\tlearn: 42323.2305831\ttest: 60852.1138249\tbest: 60828.0311565 (79)\ttotal: 31.8s\tremaining: 7.45s\n",
      "81:\tlearn: 42242.3327804\ttest: 60859.7494395\tbest: 60828.0311565 (79)\ttotal: 32.2s\tremaining: 7.07s\n",
      "82:\tlearn: 42199.4169595\ttest: 60863.6325750\tbest: 60828.0311565 (79)\ttotal: 32.6s\tremaining: 6.68s\n",
      "83:\tlearn: 42020.7567292\ttest: 60878.0902965\tbest: 60828.0311565 (79)\ttotal: 33s\tremaining: 6.29s\n",
      "84:\tlearn: 41846.1509179\ttest: 60861.1004757\tbest: 60828.0311565 (79)\ttotal: 33.5s\tremaining: 5.91s\n",
      "85:\tlearn: 41741.3436151\ttest: 60854.2928604\tbest: 60828.0311565 (79)\ttotal: 33.9s\tremaining: 5.52s\n",
      "86:\tlearn: 41556.0890135\ttest: 60850.9754705\tbest: 60828.0311565 (79)\ttotal: 34.3s\tremaining: 5.12s\n",
      "87:\tlearn: 41373.1693453\ttest: 60810.0801129\tbest: 60810.0801129 (87)\ttotal: 34.7s\tremaining: 4.74s\n",
      "88:\tlearn: 41225.7360240\ttest: 60812.1832049\tbest: 60810.0801129 (87)\ttotal: 35.2s\tremaining: 4.35s\n",
      "89:\tlearn: 41026.8977398\ttest: 60816.2271334\tbest: 60810.0801129 (87)\ttotal: 35.6s\tremaining: 3.95s\n",
      "90:\tlearn: 40993.1434933\ttest: 60792.0281072\tbest: 60792.0281072 (90)\ttotal: 36s\tremaining: 3.56s\n",
      "91:\tlearn: 40767.4228149\ttest: 60766.3245570\tbest: 60766.3245570 (91)\ttotal: 36.5s\tremaining: 3.17s\n",
      "92:\tlearn: 40706.6535293\ttest: 60735.2681240\tbest: 60735.2681240 (92)\ttotal: 36.9s\tremaining: 2.78s\n",
      "93:\tlearn: 40552.3019140\ttest: 60747.9472270\tbest: 60735.2681240 (92)\ttotal: 37.4s\tremaining: 2.39s\n",
      "94:\tlearn: 40388.4120374\ttest: 60771.1975681\tbest: 60735.2681240 (92)\ttotal: 37.8s\tremaining: 1.99s\n",
      "95:\tlearn: 40237.5043183\ttest: 60759.5458004\tbest: 60735.2681240 (92)\ttotal: 38.3s\tremaining: 1.59s\n",
      "96:\tlearn: 40188.7031628\ttest: 60760.2694066\tbest: 60735.2681240 (92)\ttotal: 38.7s\tremaining: 1.2s\n",
      "97:\tlearn: 40062.3410935\ttest: 60730.0425653\tbest: 60730.0425653 (97)\ttotal: 39.2s\tremaining: 799ms\n",
      "98:\tlearn: 39904.3735703\ttest: 60721.3330486\tbest: 60721.3330486 (98)\ttotal: 39.6s\tremaining: 400ms\n",
      "99:\tlearn: 39748.0567164\ttest: 60744.1502862\tbest: 60721.3330486 (98)\ttotal: 40.1s\tremaining: 0us\n",
      "\n",
      "bestTest = 60721.33305\n",
      "bestIteration = 98\n",
      "\n",
      "Training on fold [3/5]\n",
      "0:\tlearn: 235493.2280172\ttest: 235217.9044779\tbest: 235217.9044779 (0)\ttotal: 9.89ms\tremaining: 979ms\n",
      "1:\tlearn: 140382.1666593\ttest: 140347.5886873\tbest: 140347.5886873 (1)\ttotal: 204ms\tremaining: 9.99s\n",
      "2:\tlearn: 98611.5334424\ttest: 99328.0311139\tbest: 99328.0311139 (2)\ttotal: 685ms\tremaining: 22.1s\n",
      "3:\tlearn: 82308.3730308\ttest: 83520.0377979\tbest: 83520.0377979 (3)\ttotal: 769ms\tremaining: 18.4s\n",
      "4:\tlearn: 75517.6278375\ttest: 77141.1626319\tbest: 77141.1626319 (4)\ttotal: 1.21s\tremaining: 23s\n",
      "5:\tlearn: 68962.5626143\ttest: 72028.6057196\tbest: 72028.6057196 (5)\ttotal: 1.64s\tremaining: 25.8s\n",
      "6:\tlearn: 65485.7804249\ttest: 69562.0222889\tbest: 69562.0222889 (6)\ttotal: 2.06s\tremaining: 27.4s\n",
      "7:\tlearn: 63511.6498390\ttest: 68210.5295831\tbest: 68210.5295831 (7)\ttotal: 2.5s\tremaining: 28.8s\n",
      "8:\tlearn: 63301.4877985\ttest: 68005.5804841\tbest: 68005.5804841 (8)\ttotal: 2.5s\tremaining: 25.3s\n",
      "9:\tlearn: 61774.3529349\ttest: 67285.0965761\tbest: 67285.0965761 (9)\ttotal: 2.94s\tremaining: 26.5s\n",
      "10:\tlearn: 60825.5695137\ttest: 66845.2313227\tbest: 66845.2313227 (10)\ttotal: 3.37s\tremaining: 27.3s\n",
      "11:\tlearn: 60098.7541066\ttest: 66476.2082986\tbest: 66476.2082986 (11)\ttotal: 3.81s\tremaining: 27.9s\n",
      "12:\tlearn: 59695.1931642\ttest: 66312.8054086\tbest: 66312.8054086 (12)\ttotal: 4.25s\tremaining: 28.4s\n",
      "13:\tlearn: 59183.1746531\ttest: 66107.4340624\tbest: 66107.4340624 (13)\ttotal: 4.68s\tremaining: 28.7s\n",
      "14:\tlearn: 58928.6502442\ttest: 66092.4828311\tbest: 66092.4828311 (14)\ttotal: 5.12s\tremaining: 29s\n",
      "15:\tlearn: 57984.2340830\ttest: 65889.7246486\tbest: 65889.7246486 (15)\ttotal: 5.55s\tremaining: 29.1s\n",
      "16:\tlearn: 57474.9630099\ttest: 65780.4096766\tbest: 65780.4096766 (16)\ttotal: 5.97s\tremaining: 29.2s\n",
      "17:\tlearn: 57189.1395865\ttest: 65703.7218912\tbest: 65703.7218912 (17)\ttotal: 6.39s\tremaining: 29.1s\n",
      "18:\tlearn: 56849.6041172\ttest: 65641.5778614\tbest: 65641.5778614 (18)\ttotal: 6.84s\tremaining: 29.2s\n",
      "19:\tlearn: 56569.0223341\ttest: 65517.5771781\tbest: 65517.5771781 (19)\ttotal: 7.26s\tremaining: 29s\n",
      "20:\tlearn: 56557.9928182\ttest: 65513.1402482\tbest: 65513.1402482 (20)\ttotal: 7.27s\tremaining: 27.3s\n",
      "21:\tlearn: 56409.1436335\ttest: 65502.8255601\tbest: 65502.8255601 (21)\ttotal: 7.72s\tremaining: 27.4s\n",
      "22:\tlearn: 55976.9389797\ttest: 65366.8269725\tbest: 65366.8269725 (22)\ttotal: 8.13s\tremaining: 27.2s\n",
      "23:\tlearn: 55469.3904929\ttest: 65141.9940593\tbest: 65141.9940593 (23)\ttotal: 8.55s\tremaining: 27.1s\n",
      "24:\tlearn: 54684.5229701\ttest: 64801.9108255\tbest: 64801.9108255 (24)\ttotal: 8.99s\tremaining: 27s\n",
      "25:\tlearn: 54219.3821076\ttest: 64644.0696348\tbest: 64644.0696348 (25)\ttotal: 9.41s\tremaining: 26.8s\n",
      "26:\tlearn: 54026.9136583\ttest: 64557.3921688\tbest: 64557.3921688 (26)\ttotal: 9.81s\tremaining: 26.5s\n",
      "27:\tlearn: 53903.9376639\ttest: 64470.4146617\tbest: 64470.4146617 (27)\ttotal: 10.2s\tremaining: 26.3s\n",
      "28:\tlearn: 53753.2738227\ttest: 64401.4670087\tbest: 64401.4670087 (28)\ttotal: 10.7s\tremaining: 26.1s\n",
      "29:\tlearn: 53708.2361317\ttest: 64402.8920140\tbest: 64401.4670087 (28)\ttotal: 11.1s\tremaining: 25.9s\n",
      "30:\tlearn: 53221.4820073\ttest: 64356.1253069\tbest: 64356.1253069 (30)\ttotal: 11.5s\tremaining: 25.7s\n",
      "31:\tlearn: 52621.2116826\ttest: 64137.2834248\tbest: 64137.2834248 (31)\ttotal: 11.9s\tremaining: 25.4s\n",
      "32:\tlearn: 51992.0350554\ttest: 63900.1801440\tbest: 63900.1801440 (32)\ttotal: 12.4s\tremaining: 25.1s\n",
      "33:\tlearn: 51519.2688812\ttest: 63833.5231655\tbest: 63833.5231655 (33)\ttotal: 12.8s\tremaining: 24.8s\n",
      "34:\tlearn: 51125.3261066\ttest: 63754.7901806\tbest: 63754.7901806 (34)\ttotal: 13.2s\tremaining: 24.5s\n",
      "35:\tlearn: 50602.5294378\ttest: 63706.9348337\tbest: 63706.9348337 (35)\ttotal: 13.6s\tremaining: 24.2s\n",
      "36:\tlearn: 50269.1743912\ttest: 63621.3526495\tbest: 63621.3526495 (36)\ttotal: 14.1s\tremaining: 24s\n",
      "37:\tlearn: 50111.0513916\ttest: 63616.3683861\tbest: 63616.3683861 (37)\ttotal: 14.5s\tremaining: 23.7s\n",
      "38:\tlearn: 49579.9861632\ttest: 63564.9709917\tbest: 63564.9709917 (38)\ttotal: 15s\tremaining: 23.4s\n",
      "39:\tlearn: 49112.3934572\ttest: 63472.3727034\tbest: 63472.3727034 (39)\ttotal: 15.4s\tremaining: 23.1s\n",
      "40:\tlearn: 49027.0621990\ttest: 63434.0152911\tbest: 63434.0152911 (40)\ttotal: 15.8s\tremaining: 22.8s\n",
      "41:\tlearn: 48864.6069076\ttest: 63403.3938467\tbest: 63403.3938467 (41)\ttotal: 16.3s\tremaining: 22.5s\n",
      "42:\tlearn: 48651.3387968\ttest: 63379.8105115\tbest: 63379.8105115 (42)\ttotal: 16.7s\tremaining: 22.2s\n",
      "43:\tlearn: 48299.6694229\ttest: 63257.6684448\tbest: 63257.6684448 (43)\ttotal: 17.1s\tremaining: 21.8s\n",
      "44:\tlearn: 47975.8726468\ttest: 63200.8142215\tbest: 63200.8142215 (44)\ttotal: 17.6s\tremaining: 21.5s\n",
      "45:\tlearn: 47701.8052063\ttest: 63104.5855768\tbest: 63104.5855768 (45)\ttotal: 18s\tremaining: 21.2s\n",
      "46:\tlearn: 47510.1082125\ttest: 63065.7393669\tbest: 63065.7393669 (46)\ttotal: 18.4s\tremaining: 20.8s\n",
      "47:\tlearn: 47212.1497874\ttest: 63004.3555027\tbest: 63004.3555027 (47)\ttotal: 18.9s\tremaining: 20.4s\n",
      "48:\tlearn: 47015.0370384\ttest: 62975.9683546\tbest: 62975.9683546 (48)\ttotal: 19.3s\tremaining: 20.1s\n",
      "49:\tlearn: 46815.7754297\ttest: 62901.6713889\tbest: 62901.6713889 (49)\ttotal: 19.7s\tremaining: 19.7s\n",
      "50:\tlearn: 46500.3747248\ttest: 62864.2770066\tbest: 62864.2770066 (50)\ttotal: 20.1s\tremaining: 19.4s\n",
      "51:\tlearn: 46248.9647770\ttest: 62832.2619027\tbest: 62832.2619027 (51)\ttotal: 20.6s\tremaining: 19s\n",
      "52:\tlearn: 46059.0108603\ttest: 62790.8692316\tbest: 62790.8692316 (52)\ttotal: 21s\tremaining: 18.6s\n",
      "53:\tlearn: 45788.4048998\ttest: 62750.7507034\tbest: 62750.7507034 (53)\ttotal: 21.5s\tremaining: 18.3s\n",
      "54:\tlearn: 45741.4645962\ttest: 62732.8529295\tbest: 62732.8529295 (54)\ttotal: 21.7s\tremaining: 17.7s\n",
      "55:\tlearn: 45539.3741424\ttest: 62726.2645521\tbest: 62726.2645521 (55)\ttotal: 22.1s\tremaining: 17.4s\n",
      "56:\tlearn: 45275.3303763\ttest: 62666.9285657\tbest: 62666.9285657 (56)\ttotal: 22.6s\tremaining: 17s\n",
      "57:\tlearn: 44941.6520847\ttest: 62643.8254420\tbest: 62643.8254420 (57)\ttotal: 23s\tremaining: 16.7s\n",
      "58:\tlearn: 44811.2280479\ttest: 62632.5525346\tbest: 62632.5525346 (58)\ttotal: 23.4s\tremaining: 16.3s\n",
      "59:\tlearn: 44713.1730424\ttest: 62589.6719054\tbest: 62589.6719054 (59)\ttotal: 23.8s\tremaining: 15.9s\n",
      "60:\tlearn: 44582.2821535\ttest: 62586.2825819\tbest: 62586.2825819 (60)\ttotal: 24.3s\tremaining: 15.5s\n",
      "61:\tlearn: 44451.5030326\ttest: 62603.1840403\tbest: 62586.2825819 (60)\ttotal: 24.7s\tremaining: 15.2s\n",
      "62:\tlearn: 44134.2251065\ttest: 62565.5974579\tbest: 62565.5974579 (62)\ttotal: 25.2s\tremaining: 14.8s\n",
      "63:\tlearn: 43994.5143860\ttest: 62533.6041571\tbest: 62533.6041571 (63)\ttotal: 25.6s\tremaining: 14.4s\n",
      "64:\tlearn: 43762.3246309\ttest: 62478.5429322\tbest: 62478.5429322 (64)\ttotal: 26s\tremaining: 14s\n",
      "65:\tlearn: 43545.9303873\ttest: 62375.4664347\tbest: 62375.4664347 (65)\ttotal: 26.5s\tremaining: 13.6s\n",
      "66:\tlearn: 43267.1466655\ttest: 62386.8766977\tbest: 62375.4664347 (65)\ttotal: 26.9s\tremaining: 13.2s\n",
      "67:\tlearn: 43078.3147584\ttest: 62308.3847933\tbest: 62308.3847933 (67)\ttotal: 27.3s\tremaining: 12.8s\n",
      "68:\tlearn: 42855.3105195\ttest: 62258.6526805\tbest: 62258.6526805 (68)\ttotal: 27.7s\tremaining: 12.5s\n",
      "69:\tlearn: 42709.0724031\ttest: 62226.5075522\tbest: 62226.5075522 (69)\ttotal: 28.2s\tremaining: 12.1s\n",
      "70:\tlearn: 42557.2703964\ttest: 62197.6803509\tbest: 62197.6803509 (70)\ttotal: 28.6s\tremaining: 11.7s\n",
      "71:\tlearn: 42430.7601995\ttest: 62205.7432227\tbest: 62197.6803509 (70)\ttotal: 29.1s\tremaining: 11.3s\n",
      "72:\tlearn: 42212.4284374\ttest: 62188.2276678\tbest: 62188.2276678 (72)\ttotal: 29.5s\tremaining: 10.9s\n",
      "73:\tlearn: 42088.7506511\ttest: 62158.9679323\tbest: 62158.9679323 (73)\ttotal: 29.9s\tremaining: 10.5s\n",
      "74:\tlearn: 41922.4011556\ttest: 62136.2080930\tbest: 62136.2080930 (74)\ttotal: 30.4s\tremaining: 10.1s\n",
      "75:\tlearn: 41727.4968602\ttest: 62174.5579180\tbest: 62136.2080930 (74)\ttotal: 30.8s\tremaining: 9.72s\n",
      "76:\tlearn: 41453.9968941\ttest: 62180.1093874\tbest: 62136.2080930 (74)\ttotal: 31.3s\tremaining: 9.33s\n",
      "77:\tlearn: 41312.6986693\ttest: 62171.1273936\tbest: 62136.2080930 (74)\ttotal: 31.7s\tremaining: 8.93s\n",
      "78:\tlearn: 41161.7662467\ttest: 62150.9189834\tbest: 62136.2080930 (74)\ttotal: 32.1s\tremaining: 8.53s\n",
      "79:\tlearn: 40991.1616857\ttest: 62097.6312655\tbest: 62097.6312655 (79)\ttotal: 32.6s\tremaining: 8.14s\n",
      "80:\tlearn: 40782.6059552\ttest: 62096.8179745\tbest: 62096.8179745 (80)\ttotal: 33s\tremaining: 7.74s\n",
      "81:\tlearn: 40666.7268678\ttest: 62058.8535238\tbest: 62058.8535238 (81)\ttotal: 33.4s\tremaining: 7.34s\n",
      "82:\tlearn: 40489.5580044\ttest: 62104.2821099\tbest: 62058.8535238 (81)\ttotal: 33.9s\tremaining: 6.95s\n",
      "83:\tlearn: 40288.7294195\ttest: 62074.7919653\tbest: 62058.8535238 (81)\ttotal: 34.3s\tremaining: 6.54s\n",
      "84:\tlearn: 40088.6741486\ttest: 62100.6293076\tbest: 62058.8535238 (81)\ttotal: 34.7s\tremaining: 6.13s\n",
      "85:\tlearn: 39972.5399553\ttest: 62118.7980128\tbest: 62058.8535238 (81)\ttotal: 35.2s\tremaining: 5.72s\n",
      "86:\tlearn: 39883.5429399\ttest: 62106.1107172\tbest: 62058.8535238 (81)\ttotal: 35.6s\tremaining: 5.32s\n",
      "87:\tlearn: 39795.8862449\ttest: 62110.4867749\tbest: 62058.8535238 (81)\ttotal: 36.1s\tremaining: 4.92s\n",
      "88:\tlearn: 39662.0628061\ttest: 62093.9642509\tbest: 62058.8535238 (81)\ttotal: 36.5s\tremaining: 4.51s\n",
      "89:\tlearn: 39464.0846871\ttest: 62047.1241743\tbest: 62047.1241743 (89)\ttotal: 37s\tremaining: 4.11s\n",
      "90:\tlearn: 39343.9895253\ttest: 62037.7728080\tbest: 62037.7728080 (90)\ttotal: 37.4s\tremaining: 3.7s\n",
      "91:\tlearn: 39220.1448579\ttest: 62066.3712867\tbest: 62037.7728080 (90)\ttotal: 37.9s\tremaining: 3.29s\n",
      "92:\tlearn: 39122.2662227\ttest: 62045.3731432\tbest: 62037.7728080 (90)\ttotal: 38.3s\tremaining: 2.88s\n",
      "93:\tlearn: 38995.5827826\ttest: 62018.7744814\tbest: 62018.7744814 (93)\ttotal: 38.7s\tremaining: 2.47s\n",
      "94:\tlearn: 38843.0454655\ttest: 62017.4216229\tbest: 62017.4216229 (94)\ttotal: 39.2s\tremaining: 2.06s\n",
      "95:\tlearn: 38652.5181690\ttest: 62017.1600211\tbest: 62017.1600211 (95)\ttotal: 39.6s\tremaining: 1.65s\n",
      "96:\tlearn: 38446.7351161\ttest: 62004.6435974\tbest: 62004.6435974 (96)\ttotal: 40.1s\tremaining: 1.24s\n",
      "97:\tlearn: 38428.0511627\ttest: 61996.1355031\tbest: 61996.1355031 (97)\ttotal: 40.6s\tremaining: 828ms\n",
      "98:\tlearn: 38312.1735920\ttest: 61986.4106988\tbest: 61986.4106988 (98)\ttotal: 41s\tremaining: 414ms\n",
      "99:\tlearn: 38207.6987102\ttest: 61960.2670108\tbest: 61960.2670108 (99)\ttotal: 41.4s\tremaining: 0us\n",
      "\n",
      "bestTest = 61960.26701\n",
      "bestIteration = 99\n",
      "\n",
      "Training on fold [4/5]\n",
      "0:\tlearn: 235433.4067683\ttest: 235820.5693236\tbest: 235820.5693236 (0)\ttotal: 12ms\tremaining: 1.19s\n",
      "1:\tlearn: 141100.9201848\ttest: 141577.2379355\tbest: 141577.2379355 (1)\ttotal: 454ms\tremaining: 22.2s\n",
      "2:\tlearn: 99247.2780422\ttest: 100137.7581615\tbest: 100137.7581615 (2)\ttotal: 910ms\tremaining: 29.4s\n",
      "3:\tlearn: 83035.7845255\ttest: 83908.4388425\tbest: 83908.4388425 (3)\ttotal: 951ms\tremaining: 22.8s\n",
      "4:\tlearn: 76166.3301130\ttest: 77583.3862738\tbest: 77583.3862738 (4)\ttotal: 1.38s\tremaining: 26.1s\n",
      "5:\tlearn: 69795.0102411\ttest: 72011.5256423\tbest: 72011.5256423 (5)\ttotal: 1.84s\tremaining: 28.8s\n",
      "6:\tlearn: 66515.7093468\ttest: 69311.2600804\tbest: 69311.2600804 (6)\ttotal: 2.36s\tremaining: 31.4s\n",
      "7:\tlearn: 64551.2723782\ttest: 67763.8365398\tbest: 67763.8365398 (7)\ttotal: 2.81s\tremaining: 32.3s\n",
      "8:\tlearn: 63333.0432811\ttest: 66951.5876295\tbest: 66951.5876295 (8)\ttotal: 3.27s\tremaining: 33s\n",
      "9:\tlearn: 62583.0823389\ttest: 66470.5251601\tbest: 66470.5251601 (9)\ttotal: 3.71s\tremaining: 33.4s\n",
      "10:\tlearn: 61734.3923897\ttest: 66057.4404358\tbest: 66057.4404358 (10)\ttotal: 4.14s\tremaining: 33.5s\n",
      "11:\tlearn: 60998.7800824\ttest: 65562.0828767\tbest: 65562.0828767 (11)\ttotal: 4.58s\tremaining: 33.6s\n",
      "12:\tlearn: 60763.8503054\ttest: 65392.4692117\tbest: 65392.4692117 (12)\ttotal: 5.03s\tremaining: 33.6s\n",
      "13:\tlearn: 59776.1008788\ttest: 64959.9538929\tbest: 64959.9538929 (13)\ttotal: 5.44s\tremaining: 33.4s\n",
      "14:\tlearn: 59737.1600987\ttest: 64917.2062253\tbest: 64917.2062253 (14)\ttotal: 5.45s\tremaining: 30.9s\n",
      "15:\tlearn: 59406.6491702\ttest: 64799.1832256\tbest: 64799.1832256 (15)\ttotal: 5.89s\tremaining: 30.9s\n",
      "16:\tlearn: 58994.6945602\ttest: 64595.0872882\tbest: 64595.0872882 (16)\ttotal: 6.35s\tremaining: 31s\n",
      "17:\tlearn: 58525.8105713\ttest: 64378.0803481\tbest: 64378.0803481 (17)\ttotal: 6.8s\tremaining: 31s\n",
      "18:\tlearn: 58096.3076713\ttest: 64262.7104670\tbest: 64262.7104670 (18)\ttotal: 7.25s\tremaining: 30.9s\n",
      "19:\tlearn: 58088.7101167\ttest: 64263.4868704\tbest: 64262.7104670 (18)\ttotal: 7.26s\tremaining: 29.1s\n",
      "20:\tlearn: 57889.7850859\ttest: 64186.4274408\tbest: 64186.4274408 (20)\ttotal: 7.74s\tremaining: 29.1s\n",
      "21:\tlearn: 57255.9532124\ttest: 63782.7379951\tbest: 63782.7379951 (21)\ttotal: 8.23s\tremaining: 29.2s\n",
      "22:\tlearn: 56845.2551449\ttest: 63604.4036482\tbest: 63604.4036482 (22)\ttotal: 8.65s\tremaining: 28.9s\n",
      "23:\tlearn: 56319.4344309\ttest: 63440.3449075\tbest: 63440.3449075 (23)\ttotal: 9.12s\tremaining: 28.9s\n",
      "24:\tlearn: 55968.6466632\ttest: 63219.7768603\tbest: 63219.7768603 (24)\ttotal: 9.56s\tremaining: 28.7s\n",
      "25:\tlearn: 55475.8651635\ttest: 63007.2882098\tbest: 63007.2882098 (25)\ttotal: 9.98s\tremaining: 28.4s\n",
      "26:\tlearn: 55099.0679001\ttest: 62859.4345030\tbest: 62859.4345030 (26)\ttotal: 10.4s\tremaining: 28.1s\n",
      "27:\tlearn: 54849.0655769\ttest: 62737.4875887\tbest: 62737.4875887 (27)\ttotal: 10.8s\tremaining: 27.9s\n",
      "28:\tlearn: 54530.0774219\ttest: 62561.5975514\tbest: 62561.5975514 (28)\ttotal: 11.3s\tremaining: 27.5s\n",
      "29:\tlearn: 54061.4754957\ttest: 62375.0062350\tbest: 62375.0062350 (29)\ttotal: 11.7s\tremaining: 27.3s\n",
      "30:\tlearn: 53583.8848832\ttest: 62258.3470180\tbest: 62258.3470180 (30)\ttotal: 12.2s\tremaining: 27.1s\n",
      "31:\tlearn: 53494.8896638\ttest: 62224.7850746\tbest: 62224.7850746 (31)\ttotal: 12.7s\tremaining: 26.9s\n",
      "32:\tlearn: 53040.5555525\ttest: 62070.4487918\tbest: 62070.4487918 (32)\ttotal: 13.1s\tremaining: 26.6s\n",
      "33:\tlearn: 52651.2480348\ttest: 61980.7168211\tbest: 61980.7168211 (33)\ttotal: 13.5s\tremaining: 26.3s\n",
      "34:\tlearn: 52354.2142983\ttest: 61929.9276772\tbest: 61929.9276772 (34)\ttotal: 14s\tremaining: 25.9s\n",
      "35:\tlearn: 51959.0548633\ttest: 61811.8474406\tbest: 61811.8474406 (35)\ttotal: 14.4s\tremaining: 25.6s\n",
      "36:\tlearn: 51835.9567932\ttest: 61745.4422847\tbest: 61745.4422847 (36)\ttotal: 14.6s\tremaining: 24.9s\n",
      "37:\tlearn: 51628.9940684\ttest: 61723.2443895\tbest: 61723.2443895 (37)\ttotal: 15.1s\tremaining: 24.6s\n",
      "38:\tlearn: 51274.4242947\ttest: 61654.5353045\tbest: 61654.5353045 (38)\ttotal: 15.5s\tremaining: 24.2s\n",
      "39:\tlearn: 50944.1366043\ttest: 61632.3542069\tbest: 61632.3542069 (39)\ttotal: 15.9s\tremaining: 23.9s\n",
      "40:\tlearn: 50464.7981060\ttest: 61543.1719600\tbest: 61543.1719600 (40)\ttotal: 16.3s\tremaining: 23.5s\n",
      "41:\tlearn: 50142.6690607\ttest: 61511.1110966\tbest: 61511.1110966 (41)\ttotal: 16.7s\tremaining: 23.1s\n",
      "42:\tlearn: 50069.7776519\ttest: 61482.3887689\tbest: 61482.3887689 (42)\ttotal: 17.2s\tremaining: 22.7s\n",
      "43:\tlearn: 49639.6893768\ttest: 61486.6981966\tbest: 61482.3887689 (42)\ttotal: 17.6s\tremaining: 22.4s\n",
      "44:\tlearn: 49218.4404374\ttest: 61399.3845448\tbest: 61399.3845448 (44)\ttotal: 18s\tremaining: 22s\n",
      "45:\tlearn: 48961.9943423\ttest: 61275.7581435\tbest: 61275.7581435 (45)\ttotal: 18.4s\tremaining: 21.6s\n",
      "46:\tlearn: 48811.9575105\ttest: 61266.9210535\tbest: 61266.9210535 (46)\ttotal: 18.9s\tremaining: 21.3s\n",
      "47:\tlearn: 48661.7361028\ttest: 61234.4504720\tbest: 61234.4504720 (47)\ttotal: 19.3s\tremaining: 20.9s\n",
      "48:\tlearn: 48270.8033657\ttest: 61197.4088581\tbest: 61197.4088581 (48)\ttotal: 19.8s\tremaining: 20.6s\n",
      "49:\tlearn: 48061.5391949\ttest: 61159.0622875\tbest: 61159.0622875 (49)\ttotal: 20.2s\tremaining: 20.2s\n",
      "50:\tlearn: 48028.2936032\ttest: 61139.7934808\tbest: 61139.7934808 (50)\ttotal: 20.7s\tremaining: 19.8s\n",
      "51:\tlearn: 47849.6043049\ttest: 61056.5158766\tbest: 61056.5158766 (51)\ttotal: 21.1s\tremaining: 19.5s\n",
      "52:\tlearn: 47547.5123512\ttest: 61002.6235626\tbest: 61002.6235626 (52)\ttotal: 21.5s\tremaining: 19.1s\n",
      "53:\tlearn: 47321.8482114\ttest: 61010.2994160\tbest: 61002.6235626 (52)\ttotal: 21.9s\tremaining: 18.7s\n",
      "54:\tlearn: 47178.7719025\ttest: 60991.5177369\tbest: 60991.5177369 (54)\ttotal: 22.4s\tremaining: 18.3s\n",
      "55:\tlearn: 47018.4596290\ttest: 60969.0359953\tbest: 60969.0359953 (55)\ttotal: 22.8s\tremaining: 17.9s\n",
      "56:\tlearn: 46756.8153258\ttest: 60960.0632111\tbest: 60960.0632111 (56)\ttotal: 23.3s\tremaining: 17.6s\n",
      "57:\tlearn: 46515.1517479\ttest: 61002.7358285\tbest: 60960.0632111 (56)\ttotal: 23.7s\tremaining: 17.1s\n",
      "58:\tlearn: 46191.1887480\ttest: 61000.7390617\tbest: 60960.0632111 (56)\ttotal: 24.1s\tremaining: 16.7s\n",
      "59:\tlearn: 46118.6116578\ttest: 60982.7098052\tbest: 60960.0632111 (56)\ttotal: 24.5s\tremaining: 16.3s\n",
      "60:\tlearn: 45892.3705942\ttest: 60932.9326654\tbest: 60932.9326654 (60)\ttotal: 24.9s\tremaining: 15.9s\n",
      "61:\tlearn: 45646.6014528\ttest: 60883.8800459\tbest: 60883.8800459 (61)\ttotal: 25.4s\tremaining: 15.6s\n",
      "62:\tlearn: 45288.5870548\ttest: 60850.9714467\tbest: 60850.9714467 (62)\ttotal: 25.8s\tremaining: 15.2s\n",
      "63:\tlearn: 45025.7391253\ttest: 60834.4507620\tbest: 60834.4507620 (63)\ttotal: 26.3s\tremaining: 14.8s\n",
      "64:\tlearn: 44718.2224938\ttest: 60839.4360687\tbest: 60834.4507620 (63)\ttotal: 26.7s\tremaining: 14.4s\n",
      "65:\tlearn: 44479.6283284\ttest: 60783.3185269\tbest: 60783.3185269 (65)\ttotal: 27.2s\tremaining: 14s\n",
      "66:\tlearn: 44345.5956347\ttest: 60755.0764512\tbest: 60755.0764512 (66)\ttotal: 27.6s\tremaining: 13.6s\n",
      "67:\tlearn: 44222.1781263\ttest: 60747.3612857\tbest: 60747.3612857 (67)\ttotal: 28s\tremaining: 13.2s\n",
      "68:\tlearn: 44021.9844319\ttest: 60781.2310369\tbest: 60747.3612857 (67)\ttotal: 28.4s\tremaining: 12.8s\n",
      "69:\tlearn: 43996.8844675\ttest: 60795.3922123\tbest: 60747.3612857 (67)\ttotal: 28.9s\tremaining: 12.4s\n",
      "70:\tlearn: 43758.0218960\ttest: 60772.6200093\tbest: 60747.3612857 (67)\ttotal: 29.3s\tremaining: 12s\n",
      "71:\tlearn: 43517.7231204\ttest: 60750.6693021\tbest: 60747.3612857 (67)\ttotal: 29.7s\tremaining: 11.6s\n",
      "72:\tlearn: 43402.5364982\ttest: 60767.5075204\tbest: 60747.3612857 (67)\ttotal: 30.2s\tremaining: 11.2s\n",
      "73:\tlearn: 43268.5612137\ttest: 60723.4681785\tbest: 60723.4681785 (73)\ttotal: 30.7s\tremaining: 10.8s\n",
      "74:\tlearn: 43004.0253069\ttest: 60691.7434185\tbest: 60691.7434185 (74)\ttotal: 31.1s\tremaining: 10.4s\n",
      "75:\tlearn: 42733.9412487\ttest: 60613.0960544\tbest: 60613.0960544 (75)\ttotal: 31.5s\tremaining: 9.95s\n",
      "76:\tlearn: 42415.0806107\ttest: 60565.4486390\tbest: 60565.4486390 (76)\ttotal: 31.9s\tremaining: 9.54s\n",
      "77:\tlearn: 42213.4145522\ttest: 60499.3077978\tbest: 60499.3077978 (77)\ttotal: 32.3s\tremaining: 9.12s\n",
      "78:\tlearn: 42028.2442532\ttest: 60476.3295427\tbest: 60476.3295427 (78)\ttotal: 32.8s\tremaining: 8.71s\n",
      "79:\tlearn: 41763.7396658\ttest: 60530.0178616\tbest: 60476.3295427 (78)\ttotal: 33.2s\tremaining: 8.3s\n",
      "80:\tlearn: 41579.8584622\ttest: 60496.4729448\tbest: 60476.3295427 (78)\ttotal: 33.6s\tremaining: 7.89s\n",
      "81:\tlearn: 41457.7706751\ttest: 60508.9273973\tbest: 60476.3295427 (78)\ttotal: 34.1s\tremaining: 7.48s\n",
      "82:\tlearn: 41343.4306349\ttest: 60519.9279857\tbest: 60476.3295427 (78)\ttotal: 34.5s\tremaining: 7.06s\n",
      "83:\tlearn: 41137.7299921\ttest: 60492.3162569\tbest: 60476.3295427 (78)\ttotal: 34.9s\tremaining: 6.65s\n",
      "84:\tlearn: 40925.8081391\ttest: 60406.7138837\tbest: 60406.7138837 (84)\ttotal: 35.3s\tremaining: 6.23s\n",
      "85:\tlearn: 40923.2865338\ttest: 60409.4513789\tbest: 60406.7138837 (84)\ttotal: 35.3s\tremaining: 5.75s\n",
      "86:\tlearn: 40756.9595233\ttest: 60413.5256852\tbest: 60406.7138837 (84)\ttotal: 35.8s\tremaining: 5.35s\n",
      "87:\tlearn: 40670.1734351\ttest: 60405.7044628\tbest: 60405.7044628 (87)\ttotal: 36.2s\tremaining: 4.94s\n",
      "88:\tlearn: 40454.6729142\ttest: 60376.4106120\tbest: 60376.4106120 (88)\ttotal: 36.7s\tremaining: 4.53s\n",
      "89:\tlearn: 40268.4653556\ttest: 60353.4377719\tbest: 60353.4377719 (89)\ttotal: 37.1s\tremaining: 4.12s\n",
      "90:\tlearn: 40100.0247518\ttest: 60333.5144186\tbest: 60333.5144186 (90)\ttotal: 37.5s\tremaining: 3.71s\n",
      "91:\tlearn: 39989.8893225\ttest: 60329.0341624\tbest: 60329.0341624 (91)\ttotal: 37.9s\tremaining: 3.3s\n",
      "92:\tlearn: 39810.0633757\ttest: 60311.3065789\tbest: 60311.3065789 (92)\ttotal: 38.4s\tremaining: 2.89s\n",
      "93:\tlearn: 39682.7703266\ttest: 60317.6522739\tbest: 60311.3065789 (92)\ttotal: 38.8s\tremaining: 2.48s\n",
      "94:\tlearn: 39680.6964494\ttest: 60312.3392779\tbest: 60311.3065789 (92)\ttotal: 39.2s\tremaining: 2.06s\n",
      "95:\tlearn: 39583.8789507\ttest: 60328.3411531\tbest: 60311.3065789 (92)\ttotal: 39.7s\tremaining: 1.65s\n",
      "96:\tlearn: 39410.4893027\ttest: 60372.1199954\tbest: 60311.3065789 (92)\ttotal: 40.1s\tremaining: 1.24s\n",
      "97:\tlearn: 39285.2813848\ttest: 60362.5073072\tbest: 60311.3065789 (92)\ttotal: 40.5s\tremaining: 827ms\n",
      "98:\tlearn: 39134.0368685\ttest: 60326.5157979\tbest: 60311.3065789 (92)\ttotal: 41s\tremaining: 414ms\n",
      "99:\tlearn: 39047.1208989\ttest: 60330.7824863\tbest: 60311.3065789 (92)\ttotal: 41.4s\tremaining: 0us\n",
      "\n",
      "bestTest = 60311.30658\n",
      "bestIteration = 92\n",
      "\n",
      "average time is probably: 2.82\n"
     ]
    },
    {
     "data": {
      "text/plain": "{'best_params_': {'depth': 15, 'l2_leaf_reg': 5, 'learning_rate': 0.5},\n 'cv_results_': defaultdict(list,\n             {'iterations': [0,\n               1,\n               2,\n               3,\n               4,\n               5,\n               6,\n               7,\n               8,\n               9,\n               10,\n               11,\n               12,\n               13,\n               14,\n               15,\n               16,\n               17,\n               18,\n               19,\n               20,\n               21,\n               22,\n               23,\n               24,\n               25,\n               26,\n               27,\n               28,\n               29,\n               30,\n               31,\n               32,\n               33,\n               34,\n               35,\n               36,\n               37,\n               38,\n               39,\n               40,\n               41,\n               42,\n               43,\n               44,\n               45,\n               46,\n               47,\n               48,\n               49,\n               50,\n               51,\n               52,\n               53,\n               54,\n               55,\n               56,\n               57,\n               58,\n               59,\n               60,\n               61,\n               62,\n               63,\n               64,\n               65,\n               66,\n               67,\n               68,\n               69,\n               70,\n               71,\n               72,\n               73,\n               74,\n               75,\n               76,\n               77,\n               78,\n               79,\n               80,\n               81,\n               82,\n               83,\n               84,\n               85,\n               86,\n               87,\n               88,\n               89,\n               90,\n               91,\n               92,\n               93,\n               94,\n               95,\n               96,\n               97,\n               98,\n               99],\n              'test-RMSE-mean': [235957.39780561012,\n               141419.07150941817,\n               99818.48946706155,\n               84032.91875265712,\n               77607.26287264602,\n               72011.53695314526,\n               69272.5330032433,\n               67800.01800649121,\n               67077.69609504682,\n               66470.07524764299,\n               66083.94734172043,\n               65763.48731108088,\n               65659.52707281188,\n               65453.25756256479,\n               65257.08768867281,\n               64920.4654150977,\n               64791.82799631357,\n               64653.99133268222,\n               64540.081186471485,\n               64449.59332582683,\n               64374.12753493168,\n               64208.15080653455,\n               64068.64099609481,\n               63919.35029836461,\n               63705.97918779603,\n               63511.877288876545,\n               63426.65437991979,\n               63310.69576234085,\n               63201.98862251164,\n               63114.04953672438,\n               62973.180699161254,\n               62843.027535127665,\n               62717.076265213895,\n               62615.23465387727,\n               62533.002317741586,\n               62480.40386529469,\n               62430.88508700002,\n               62442.40721008049,\n               62381.84460376828,\n               62345.695374622264,\n               62293.16198267046,\n               62268.7229677598,\n               62236.10235945921,\n               62165.848893139846,\n               62087.24053236483,\n               62013.18206558387,\n               61970.371589581635,\n               61925.33910405184,\n               61878.84285165851,\n               61838.857982931055,\n               61791.48773589496,\n               61754.98420591495,\n               61713.651492113386,\n               61703.83970744527,\n               61678.02074086763,\n               61648.73952580113,\n               61586.12875265595,\n               61576.27387095684,\n               61560.88484524258,\n               61529.56910102379,\n               61505.48694458029,\n               61482.73814600879,\n               61452.25263051386,\n               61422.744635300085,\n               61390.85507599982,\n               61342.49600715264,\n               61317.652816123526,\n               61262.21065095634,\n               61253.42838173942,\n               61231.46878990518,\n               61211.80866002358,\n               61200.562785951755,\n               61190.27056539767,\n               61164.94037709185,\n               61132.62696985553,\n               61120.04550832881,\n               61096.03849891508,\n               61068.72385610398,\n               61033.45708380929,\n               61024.45497141322,\n               61015.29631841148,\n               61006.891816511845,\n               61012.4975487266,\n               60997.00751664522,\n               60977.176814963226,\n               60969.66015403966,\n               60960.519929330134,\n               60958.83059590554,\n               60943.53192566083,\n               60915.93699895601,\n               60907.74558705033,\n               60900.648889670716,\n               60896.07792880981,\n               60891.731116138304,\n               60893.905543304514,\n               60885.25726433564,\n               60885.9515484943,\n               60875.703094302015,\n               60862.27644453464,\n               60867.82767171512],\n              'test-RMSE-std': [1162.2711927092785,\n               743.5769075824826,\n               442.53989693578825,\n               425.97332836809454,\n               549.6042562654994,\n               429.327779759695,\n               303.4247275960062,\n               290.5775141161822,\n               673.6958401172952,\n               591.7873543691801,\n               586.2827027295857,\n               498.49170447862224,\n               491.36432257889254,\n               506.4898091797006,\n               541.6506007424861,\n               592.7816978691013,\n               607.457392049717,\n               663.341600592737,\n               752.4961630798786,\n               705.0841874598416,\n               736.5713546331725,\n               797.0243648665432,\n               812.0378739798809,\n               799.5564004508543,\n               736.1478368029937,\n               724.8901497261911,\n               736.5919969027946,\n               777.7249362153234,\n               811.8913483657271,\n               847.8189716020817,\n               892.3382212988695,\n               819.7631674664716,\n               780.3673735567711,\n               810.3234885998392,\n               798.3813048432687,\n               796.4258291805559,\n               783.3919570943962,\n               786.3868968332856,\n               784.5654168701581,\n               747.573872801657,\n               759.6951207543053,\n               754.3721942462975,\n               749.8545443904144,\n               694.4203125957476,\n               702.5316601467483,\n               701.9619346833688,\n               703.2909959170157,\n               698.671268608223,\n               709.677289175749,\n               705.4973471277402,\n               698.8633698393635,\n               714.1510472688756,\n               719.6941712796532,\n               710.0669816795591,\n               715.9153032040014,\n               724.1045284641613,\n               720.609593337152,\n               692.5823901784229,\n               688.8492705263228,\n               693.8832176146877,\n               703.686353363657,\n               722.5948351271129,\n               712.2021705719209,\n               712.0543870086002,\n               702.3775717024737,\n               681.9519447559542,\n               708.509451651894,\n               677.118265606171,\n               648.2543319399224,\n               635.3252392233966,\n               627.9775715193507,\n               633.4493395913796,\n               628.9491251150891,\n               629.9469479449555,\n               639.60067525701,\n               673.1631907854929,\n               685.0079259924662,\n               708.8321182427978,\n               717.3229823751288,\n               687.5094954796094,\n               696.1067813497989,\n               673.6864608692402,\n               688.2672972810922,\n               679.4327784267133,\n               708.5557411057164,\n               722.4698544591747,\n               712.9436652802596,\n               712.410033667125,\n               717.4361923653446,\n               705.4052430705362,\n               699.9393051884991,\n               719.618047302445,\n               712.4860946140179,\n               692.7425595839914,\n               690.8950310799391,\n               691.299526983877,\n               681.1012871793976,\n               681.1269428546603,\n               684.1733795719388,\n               670.6489303907181],\n              'train-RMSE-mean': [235846.53176998912,\n               141078.55410537557,\n               99111.29311905215,\n               83098.51151925819,\n               76128.6557012802,\n               69817.82271671225,\n               66321.71735758033,\n               64415.77692925649,\n               63386.467625731,\n               62285.79617421201,\n               61506.96980626406,\n               60929.74100114983,\n               60700.32792993854,\n               60236.38605044023,\n               59746.87356189768,\n               59024.40126601358,\n               58660.47627636994,\n               58297.68103376749,\n               57796.91033738203,\n               57559.149083123004,\n               57386.49875322408,\n               57021.10830411526,\n               56665.378861985075,\n               56260.59832778903,\n               55762.08372012265,\n               55284.87196911093,\n               55004.002052643686,\n               54667.01296018476,\n               54389.97978655963,\n               54063.57354860157,\n               53630.04720618426,\n               53300.03122346815,\n               52854.41288481049,\n               52546.03790376479,\n               52148.56529068628,\n               51873.58729571193,\n               51696.38158097472,\n               51422.228750964285,\n               51096.363604764454,\n               50822.44998901356,\n               50515.718147648215,\n               50325.116610340585,\n               50198.772479217165,\n               49856.47440813686,\n               49511.70796866942,\n               49242.22901466228,\n               49013.10666849888,\n               48741.10552105121,\n               48423.830979005994,\n               48205.83101639214,\n               47974.9387287431,\n               47718.7104227197,\n               47497.18922380312,\n               47282.73973840623,\n               47020.461458701095,\n               46851.5871718962,\n               46581.17398437993,\n               46327.97743972863,\n               46135.00757512315,\n               45950.274079944684,\n               45757.67014520512,\n               45531.5112543964,\n               45247.59030388814,\n               44980.819169134214,\n               44724.741940279564,\n               44516.19033116377,\n               44292.34959041631,\n               44089.00716372927,\n               43880.916911037326,\n               43701.01696797443,\n               43506.03450379368,\n               43329.58875131762,\n               43139.301755790206,\n               43000.58518045153,\n               42814.804365626434,\n               42606.13210595751,\n               42384.15121126034,\n               42148.457817961884,\n               41972.936986899076,\n               41796.16953353411,\n               41605.42733578174,\n               41465.230572850174,\n               41328.1087010763,\n               41170.016821478515,\n               41014.816289860115,\n               40898.4493697267,\n               40741.077350274514,\n               40594.05588131891,\n               40452.40545476517,\n               40276.93048798683,\n               40137.293686918296,\n               39987.29990551285,\n               39851.758645099064,\n               39709.66515771109,\n               39578.363489182855,\n               39441.728178904916,\n               39305.84956822505,\n               39198.87128786312,\n               39057.41228136744,\n               38939.70567654956],\n              'train-RMSE-std': [919.9218778695467,\n               500.83430700841257,\n               417.0717046601543,\n               629.7859642755587,\n               600.0465982439302,\n               887.1403926614513,\n               787.4920568081493,\n               695.985086996511,\n               1072.245642341193,\n               981.3921021948546,\n               1055.790599664633,\n               1179.353969353089,\n               1348.3512525953156,\n               1406.8130018494458,\n               903.9488302678924,\n               940.4592069906018,\n               935.4462504325986,\n               949.2551751405166,\n               1033.7192790986614,\n               972.233218625713,\n               908.1133343720301,\n               745.4569950746915,\n               800.0483322389699,\n               911.3364993705046,\n               846.23367990363,\n               733.2602530220062,\n               629.605121020868,\n               524.4506446495624,\n               540.7159773480334,\n               452.8810176880548,\n               588.7346017145409,\n               668.4287048271477,\n               725.3506970853311,\n               814.012166171646,\n               794.2849840935608,\n               901.0254379918453,\n               1011.4744438262751,\n               880.6856100976005,\n               961.2892401247145,\n               1071.4847768893471,\n               956.1824837171683,\n               944.4719361524329,\n               955.7176749066365,\n               946.2054794484426,\n               950.1342130333948,\n               952.2201552690005,\n               920.5970219038297,\n               908.7068726364814,\n               867.727393243541,\n               869.7579522276686,\n               876.6108996235524,\n               875.5538648256646,\n               892.3639694057276,\n               938.7937784498406,\n               805.4261997262818,\n               857.9329661872049,\n               877.4003707074022,\n               933.5544231829231,\n               932.6556698487993,\n               885.526996611511,\n               851.9910292771496,\n               770.7704162283785,\n               744.7605984475944,\n               649.8254938690668,\n               630.1596609661209,\n               622.1193745814551,\n               621.7372629687247,\n               600.1207581416792,\n               603.3050911616432,\n               587.614384578708,\n               563.2569613586934,\n               543.9052014587901,\n               593.3708605233953,\n               588.3569173663553,\n               573.7146973970982,\n               561.1162488468472,\n               613.8145413157225,\n               567.0621612371851,\n               554.2894326964044,\n               551.5872002478098,\n               556.7887648865564,\n               569.6033745505007,\n               608.8857830039408,\n               615.3342049699494,\n               629.5967285732532,\n               628.0480426982778,\n               591.7746443804291,\n               559.3567562522034,\n               553.8332802828004,\n               553.6456625561545,\n               583.897808217665,\n               547.293083685612,\n               563.2932533030063,\n               553.7525515078703,\n               553.0682102570587,\n               567.905779211901,\n               619.8241507937065,\n               584.5360651884158,\n               571.1554801989938,\n               553.648807716643]}),\n 'best_estimator_': None}"
     },
     "execution_count": 273,
     "metadata": {},
     "output_type": "execute_result"
    }
   ],
   "source": [
    "def fit_model_with_cross_validation(gs, X_train, y_train, fits):\n",
    "    pipe_start = time()\n",
    "    cv_result = gs.fit(X_train, y_train)\n",
    "    #gs.fit(X_train, y_train)\n",
    "    pipe_end = time()\n",
    "    average_time = round((pipe_end - pipe_start) / (fits), 2)\n",
    "\n",
    "    print(f\"Total fit/CV time      : {int(pipe_end - pipe_start)} seconds   ({pipe_start} ==> {pipe_end})\")\n",
    "    print()\n",
    "    print(\n",
    "        f'average fit/score time = {round(cv_result.cv_results_[\"mean_fit_time\"].mean(), 2)}s/{round(cv_result.cv_results_[\"mean_score_time\"].mean(), 2)}s')\n",
    "    print(\n",
    "        f'max fit/score time     = {round(cv_result.cv_results_[\"mean_fit_time\"].max(), 2)}s/{round(cv_result.cv_results_[\"mean_score_time\"].max(), 2)}s')\n",
    "    print(f'refit time             = {round(cv_result.refit_time_, 2)}s')\n",
    "\n",
    "    #return cv_result, average_time, cv_result.refit_time_, len(cv_result.cv_results_[\"mean_fit_time\"])\n",
    "    return average_time, cv_result.refit_time_, len(cv_result.cv_results_[\"mean_fit_time\"])\n",
    "\n",
    "\n",
    "if not_catboost:\n",
    "    if ALGORITHM_DETAIL == 'grid search':\n",
    "        crossval_runner = GridSearchCV(\n",
    "            estimator=starter_pipe,\n",
    "            param_grid=param_options,\n",
    "            cv=cv, n_jobs=n_jobs, # get the AVX/AVX2 info if use n_jobs > 2\n",
    "            verbose=verbose, scoring=CROSS_VALIDATION_SCORING,\n",
    "            refit=refit,\n",
    "            return_train_score=True, #n_iter=n_iter,\n",
    "            #error_score='raise'\n",
    "        )\n",
    "    else:\n",
    "        crossval_runner = RandomizedSearchCV(\n",
    "            estimator=starter_pipe,\n",
    "            param_distributions=param_options,\n",
    "            cv=cv, n_jobs=n_jobs,  # get the AVX/AVX2 info if use n_jobs > 2\n",
    "            verbose=verbose, scoring=CROSS_VALIDATION_SCORING,\n",
    "            refit=refit,\n",
    "            return_train_score=True,  #n_iter=n_iter,\n",
    "            n_iter=n_iter,  # 1, #3\n",
    "            #error_score='raise'\n",
    "    )\n",
    "    cv_average_fit_time, cv_best_model_fit_time, total_fits = fit_model_with_cross_validation(\n",
    "        crossval_runner, X_train, y_train, fits=cv * n_iter)\n",
    "\n",
    "else:\n",
    "    import sys\n",
    "    from catboost import CatBoostRegressor, Pool\n",
    "\n",
    "    #pool = Pool(df, cat_features=['tenure.tenureType'], label=df['Price'].values)\n",
    "    pool_Xytrain = Pool(X_train, cat_features=[7], label=y_train)\n",
    "    #pool_Xtest = Pool(X_train, cat_features=[7], label=y_train)\n",
    "    pool_Xtest = Pool(X_test, cat_features=[7], label=y_test)\n",
    "\n",
    "    starter_model = model=CatBoostRegressor(iterations=n_iter, depth=3, learning_rate=0.1, loss_function='RMSE', objective='RMSE', logging_level='Verbose')\n",
    "\n",
    "    pipe_start = time()\n",
    "\n",
    "    output = starter_model.randomized_search(options_block,\n",
    "                                             X=pool_Xytrain,\n",
    "                                             cv=5,\n",
    "                                             partition_random_seed=101,\n",
    "                                             calc_cv_statistics=True,\n",
    "                                             refit=True,\n",
    "                                             shuffle=True,\n",
    "                                             stratified=None,\n",
    "                                             verbose=True,\n",
    "                                             plot=True,\n",
    "\n",
    "                                             log_cout=sys.stdout,\n",
    "                                             log_cerr=sys.stderr\n",
    "                                             #search_by_train_test_split=True,\n",
    "                                             #train_size=0.8,\n",
    "                                             #train_size=1,\n",
    "                                             )\n",
    "\n",
    "    pipe_end = time()\n",
    "    average_time = round((pipe_end - pipe_start) / (n_iter), 2)\n",
    "    print(\"average time is probably:\", average_time)\n",
    "\n",
    "    cat_params, cat_cv_results = output['params'], output['cv_results']\n",
    "    crossval_runner = {\"best_params_\": cat_params, \"cv_results_\": cat_cv_results, \"best_estimator_\": None}\n",
    "crossval_runner"
   ]
  },
  {
   "cell_type": "code",
   "execution_count": 273,
   "outputs": [],
   "source": [],
   "metadata": {
    "collapsed": false
   }
  },
  {
   "cell_type": "code",
   "execution_count": 274,
   "metadata": {
    "execution": {
     "iopub.execute_input": "2022-11-16T13:59:47.181563Z",
     "iopub.status.busy": "2022-11-16T13:59:47.181323Z",
     "iopub.status.idle": "2022-11-16T13:59:47.185299Z",
     "shell.execute_reply": "2022-11-16T13:59:47.184626Z",
     "shell.execute_reply.started": "2022-11-16T13:59:47.181540Z"
    }
   },
   "outputs": [],
   "source": [
    "if not_catboost:\n",
    "    best_estimator_pipe = crossval_runner.best_estimator_\n",
    "\n",
    "    if not_catboost and debug_mode:\n",
    "        crossval_runner.cv_results_"
   ]
  },
  {
   "cell_type": "code",
   "execution_count": 275,
   "metadata": {
    "execution": {
     "iopub.execute_input": "2022-11-16T13:59:47.186218Z",
     "iopub.status.busy": "2022-11-16T13:59:47.186022Z",
     "iopub.status.idle": "2022-11-16T13:59:47.190491Z",
     "shell.execute_reply": "2022-11-16T13:59:47.189828Z",
     "shell.execute_reply.started": "2022-11-16T13:59:47.186200Z"
    }
   },
   "outputs": [
    {
     "name": "stdout",
     "output_type": "stream",
     "text": [
      "<catboost.core.CatBoostRegressor object at 0x7f6b389ec340>\n",
      "defaultdict(<class 'list'>, {'iterations': [0, 1, 2, 3, 4, 5, 6, 7, 8, 9, 10, 11, 12, 13, 14, 15, 16, 17, 18, 19, 20, 21, 22, 23, 24, 25, 26, 27, 28, 29, 30, 31, 32, 33, 34, 35, 36, 37, 38, 39, 40, 41, 42, 43, 44, 45, 46, 47, 48, 49, 50, 51, 52, 53, 54, 55, 56, 57, 58, 59, 60, 61, 62, 63, 64, 65, 66, 67, 68, 69, 70, 71, 72, 73, 74, 75, 76, 77, 78, 79, 80, 81, 82, 83, 84, 85, 86, 87, 88, 89, 90, 91, 92, 93, 94, 95, 96, 97, 98, 99], 'test-RMSE-mean': [235957.39780561012, 141419.07150941817, 99818.48946706155, 84032.91875265712, 77607.26287264602, 72011.53695314526, 69272.5330032433, 67800.01800649121, 67077.69609504682, 66470.07524764299, 66083.94734172043, 65763.48731108088, 65659.52707281188, 65453.25756256479, 65257.08768867281, 64920.4654150977, 64791.82799631357, 64653.99133268222, 64540.081186471485, 64449.59332582683, 64374.12753493168, 64208.15080653455, 64068.64099609481, 63919.35029836461, 63705.97918779603, 63511.877288876545, 63426.65437991979, 63310.69576234085, 63201.98862251164, 63114.04953672438, 62973.180699161254, 62843.027535127665, 62717.076265213895, 62615.23465387727, 62533.002317741586, 62480.40386529469, 62430.88508700002, 62442.40721008049, 62381.84460376828, 62345.695374622264, 62293.16198267046, 62268.7229677598, 62236.10235945921, 62165.848893139846, 62087.24053236483, 62013.18206558387, 61970.371589581635, 61925.33910405184, 61878.84285165851, 61838.857982931055, 61791.48773589496, 61754.98420591495, 61713.651492113386, 61703.83970744527, 61678.02074086763, 61648.73952580113, 61586.12875265595, 61576.27387095684, 61560.88484524258, 61529.56910102379, 61505.48694458029, 61482.73814600879, 61452.25263051386, 61422.744635300085, 61390.85507599982, 61342.49600715264, 61317.652816123526, 61262.21065095634, 61253.42838173942, 61231.46878990518, 61211.80866002358, 61200.562785951755, 61190.27056539767, 61164.94037709185, 61132.62696985553, 61120.04550832881, 61096.03849891508, 61068.72385610398, 61033.45708380929, 61024.45497141322, 61015.29631841148, 61006.891816511845, 61012.4975487266, 60997.00751664522, 60977.176814963226, 60969.66015403966, 60960.519929330134, 60958.83059590554, 60943.53192566083, 60915.93699895601, 60907.74558705033, 60900.648889670716, 60896.07792880981, 60891.731116138304, 60893.905543304514, 60885.25726433564, 60885.9515484943, 60875.703094302015, 60862.27644453464, 60867.82767171512], 'test-RMSE-std': [1162.2711927092785, 743.5769075824826, 442.53989693578825, 425.97332836809454, 549.6042562654994, 429.327779759695, 303.4247275960062, 290.5775141161822, 673.6958401172952, 591.7873543691801, 586.2827027295857, 498.49170447862224, 491.36432257889254, 506.4898091797006, 541.6506007424861, 592.7816978691013, 607.457392049717, 663.341600592737, 752.4961630798786, 705.0841874598416, 736.5713546331725, 797.0243648665432, 812.0378739798809, 799.5564004508543, 736.1478368029937, 724.8901497261911, 736.5919969027946, 777.7249362153234, 811.8913483657271, 847.8189716020817, 892.3382212988695, 819.7631674664716, 780.3673735567711, 810.3234885998392, 798.3813048432687, 796.4258291805559, 783.3919570943962, 786.3868968332856, 784.5654168701581, 747.573872801657, 759.6951207543053, 754.3721942462975, 749.8545443904144, 694.4203125957476, 702.5316601467483, 701.9619346833688, 703.2909959170157, 698.671268608223, 709.677289175749, 705.4973471277402, 698.8633698393635, 714.1510472688756, 719.6941712796532, 710.0669816795591, 715.9153032040014, 724.1045284641613, 720.609593337152, 692.5823901784229, 688.8492705263228, 693.8832176146877, 703.686353363657, 722.5948351271129, 712.2021705719209, 712.0543870086002, 702.3775717024737, 681.9519447559542, 708.509451651894, 677.118265606171, 648.2543319399224, 635.3252392233966, 627.9775715193507, 633.4493395913796, 628.9491251150891, 629.9469479449555, 639.60067525701, 673.1631907854929, 685.0079259924662, 708.8321182427978, 717.3229823751288, 687.5094954796094, 696.1067813497989, 673.6864608692402, 688.2672972810922, 679.4327784267133, 708.5557411057164, 722.4698544591747, 712.9436652802596, 712.410033667125, 717.4361923653446, 705.4052430705362, 699.9393051884991, 719.618047302445, 712.4860946140179, 692.7425595839914, 690.8950310799391, 691.299526983877, 681.1012871793976, 681.1269428546603, 684.1733795719388, 670.6489303907181], 'train-RMSE-mean': [235846.53176998912, 141078.55410537557, 99111.29311905215, 83098.51151925819, 76128.6557012802, 69817.82271671225, 66321.71735758033, 64415.77692925649, 63386.467625731, 62285.79617421201, 61506.96980626406, 60929.74100114983, 60700.32792993854, 60236.38605044023, 59746.87356189768, 59024.40126601358, 58660.47627636994, 58297.68103376749, 57796.91033738203, 57559.149083123004, 57386.49875322408, 57021.10830411526, 56665.378861985075, 56260.59832778903, 55762.08372012265, 55284.87196911093, 55004.002052643686, 54667.01296018476, 54389.97978655963, 54063.57354860157, 53630.04720618426, 53300.03122346815, 52854.41288481049, 52546.03790376479, 52148.56529068628, 51873.58729571193, 51696.38158097472, 51422.228750964285, 51096.363604764454, 50822.44998901356, 50515.718147648215, 50325.116610340585, 50198.772479217165, 49856.47440813686, 49511.70796866942, 49242.22901466228, 49013.10666849888, 48741.10552105121, 48423.830979005994, 48205.83101639214, 47974.9387287431, 47718.7104227197, 47497.18922380312, 47282.73973840623, 47020.461458701095, 46851.5871718962, 46581.17398437993, 46327.97743972863, 46135.00757512315, 45950.274079944684, 45757.67014520512, 45531.5112543964, 45247.59030388814, 44980.819169134214, 44724.741940279564, 44516.19033116377, 44292.34959041631, 44089.00716372927, 43880.916911037326, 43701.01696797443, 43506.03450379368, 43329.58875131762, 43139.301755790206, 43000.58518045153, 42814.804365626434, 42606.13210595751, 42384.15121126034, 42148.457817961884, 41972.936986899076, 41796.16953353411, 41605.42733578174, 41465.230572850174, 41328.1087010763, 41170.016821478515, 41014.816289860115, 40898.4493697267, 40741.077350274514, 40594.05588131891, 40452.40545476517, 40276.93048798683, 40137.293686918296, 39987.29990551285, 39851.758645099064, 39709.66515771109, 39578.363489182855, 39441.728178904916, 39305.84956822505, 39198.87128786312, 39057.41228136744, 38939.70567654956], 'train-RMSE-std': [919.9218778695467, 500.83430700841257, 417.0717046601543, 629.7859642755587, 600.0465982439302, 887.1403926614513, 787.4920568081493, 695.985086996511, 1072.245642341193, 981.3921021948546, 1055.790599664633, 1179.353969353089, 1348.3512525953156, 1406.8130018494458, 903.9488302678924, 940.4592069906018, 935.4462504325986, 949.2551751405166, 1033.7192790986614, 972.233218625713, 908.1133343720301, 745.4569950746915, 800.0483322389699, 911.3364993705046, 846.23367990363, 733.2602530220062, 629.605121020868, 524.4506446495624, 540.7159773480334, 452.8810176880548, 588.7346017145409, 668.4287048271477, 725.3506970853311, 814.012166171646, 794.2849840935608, 901.0254379918453, 1011.4744438262751, 880.6856100976005, 961.2892401247145, 1071.4847768893471, 956.1824837171683, 944.4719361524329, 955.7176749066365, 946.2054794484426, 950.1342130333948, 952.2201552690005, 920.5970219038297, 908.7068726364814, 867.727393243541, 869.7579522276686, 876.6108996235524, 875.5538648256646, 892.3639694057276, 938.7937784498406, 805.4261997262818, 857.9329661872049, 877.4003707074022, 933.5544231829231, 932.6556698487993, 885.526996611511, 851.9910292771496, 770.7704162283785, 744.7605984475944, 649.8254938690668, 630.1596609661209, 622.1193745814551, 621.7372629687247, 600.1207581416792, 603.3050911616432, 587.614384578708, 563.2569613586934, 543.9052014587901, 593.3708605233953, 588.3569173663553, 573.7146973970982, 561.1162488468472, 613.8145413157225, 567.0621612371851, 554.2894326964044, 551.5872002478098, 556.7887648865564, 569.6033745505007, 608.8857830039408, 615.3342049699494, 629.5967285732532, 628.0480426982778, 591.7746443804291, 559.3567562522034, 553.8332802828004, 553.6456625561545, 583.897808217665, 547.293083685612, 563.2932533030063, 553.7525515078703, 553.0682102570587, 567.905779211901, 619.8241507937065, 584.5360651884158, 571.1554801989938, 553.648807716643]})\n",
      "{'depth': 15, 'l2_leaf_reg': 5, 'learning_rate': 0.5}\n"
     ]
    }
   ],
   "source": [
    "starter_model\n",
    "if True:\n",
    "    print(starter_model)\n",
    "if not not_catboost:\n",
    "    print(cat_cv_results)\n",
    "    print(cat_params)\n"
   ]
  },
  {
   "cell_type": "code",
   "execution_count": 276,
   "metadata": {
    "execution": {
     "iopub.execute_input": "2022-11-16T13:59:47.191425Z",
     "iopub.status.busy": "2022-11-16T13:59:47.191213Z",
     "iopub.status.idle": "2022-11-16T13:59:47.194465Z",
     "shell.execute_reply": "2022-11-16T13:59:47.193803Z",
     "shell.execute_reply.started": "2022-11-16T13:59:47.191404Z"
    }
   },
   "outputs": [],
   "source": [
    "if not_catboost:\n",
    "    crossval_runner.best_params_\n",
    "else:\n",
    "    crossval_runner[\"best_params_\"]"
   ]
  },
  {
   "cell_type": "code",
   "execution_count": 277,
   "metadata": {
    "execution": {
     "iopub.execute_input": "2022-11-16T13:59:47.195527Z",
     "iopub.status.busy": "2022-11-16T13:59:47.195321Z",
     "iopub.status.idle": "2022-11-16T13:59:47.220555Z",
     "shell.execute_reply": "2022-11-16T13:59:47.218381Z",
     "shell.execute_reply.started": "2022-11-16T13:59:47.195509Z"
    }
   },
   "outputs": [
    {
     "data": {
      "text/plain": "''"
     },
     "execution_count": 277,
     "metadata": {},
     "output_type": "execute_result"
    }
   ],
   "source": [
    "if not_catboost:\n",
    "    cv_results_df = pd.DataFrame(crossval_runner.cv_results_).sort_values('rank_test_score')\n",
    "cv_results_df if not_catboost else ''"
   ]
  },
  {
   "cell_type": "code",
   "execution_count": 278,
   "metadata": {
    "execution": {
     "iopub.execute_input": "2022-11-16T13:59:47.221915Z",
     "iopub.status.busy": "2022-11-16T13:59:47.221447Z",
     "iopub.status.idle": "2022-11-16T13:59:47.227414Z",
     "shell.execute_reply": "2022-11-16T13:59:47.226868Z",
     "shell.execute_reply.started": "2022-11-16T13:59:47.221887Z"
    }
   },
   "outputs": [
    {
     "data": {
      "text/plain": "''"
     },
     "execution_count": 278,
     "metadata": {},
     "output_type": "execute_result"
    }
   ],
   "source": [
    "if not_catboost and debug_mode:\n",
    "    xx = [c for c in cv_results_df.columns if 'param' in c]\n",
    "    xx.insert(0, 'rank_test_score')\n",
    "    xx.insert(0, 'mean_test_score')\n",
    "cv_results_df[xx].head(7) if not_catboost and debug_mode else ''"
   ]
  },
  {
   "cell_type": "code",
   "execution_count": 279,
   "metadata": {
    "execution": {
     "iopub.execute_input": "2022-11-16T13:59:47.229078Z",
     "iopub.status.busy": "2022-11-16T13:59:47.228327Z",
     "iopub.status.idle": "2022-11-16T13:59:47.232994Z",
     "shell.execute_reply": "2022-11-16T13:59:47.232495Z",
     "shell.execute_reply.started": "2022-11-16T13:59:47.229055Z"
    }
   },
   "outputs": [
    {
     "data": {
      "text/plain": "''"
     },
     "execution_count": 279,
     "metadata": {},
     "output_type": "execute_result"
    }
   ],
   "source": [
    "cv_results_df[xx].tail(7) if not_catboost and debug_mode else ''"
   ]
  },
  {
   "cell_type": "code",
   "execution_count": 280,
   "metadata": {
    "execution": {
     "iopub.execute_input": "2022-11-16T13:59:47.234560Z",
     "iopub.status.busy": "2022-11-16T13:59:47.233863Z",
     "iopub.status.idle": "2022-11-16T13:59:47.251649Z",
     "shell.execute_reply": "2022-11-16T13:59:47.251101Z",
     "shell.execute_reply.started": "2022-11-16T13:59:47.234540Z"
    }
   },
   "outputs": [
    {
     "data": {
      "text/plain": "''"
     },
     "execution_count": 280,
     "metadata": {},
     "output_type": "execute_result"
    }
   ],
   "source": [
    "if not_catboost:\n",
    "    cv_results_df['params2'] = cv_results_df['params'].apply(lambda l: '/'.join([str(c) for c in l.values()]))\n",
    "\n",
    "    cv_columns = ['params2', 'rank_test_score', 'mean_test_score', 'mean_fit_time', 'mean_score_time', 'params']\n",
    "    # if 'Neural' not in ALGORITHM:\n",
    "    #     cv_columns.insert(2, 'mean_train_score')\n",
    "    cv_results_df_full_sorted = cv_results_df.sort_values('rank_test_score')[cv_columns].reset_index(drop=True)\n",
    "\n",
    "cv_results_df_full_sorted if not_catboost else ''"
   ]
  },
  {
   "cell_type": "code",
   "execution_count": 281,
   "metadata": {
    "execution": {
     "iopub.execute_input": "2022-11-16T13:59:47.253028Z",
     "iopub.status.busy": "2022-11-16T13:59:47.252374Z",
     "iopub.status.idle": "2022-11-16T13:59:47.278366Z",
     "shell.execute_reply": "2022-11-16T13:59:47.277883Z",
     "shell.execute_reply.started": "2022-11-16T13:59:47.253006Z"
    }
   },
   "outputs": [
    {
     "data": {
      "text/plain": "''"
     },
     "execution_count": 281,
     "metadata": {},
     "output_type": "execute_result"
    }
   ],
   "source": [
    "if not_catboost:\n",
    "\n",
    "    cv_results_df_sorted = cv_results_df_full_sorted[cv_results_df_full_sorted['mean_test_score'] > -2]\n",
    "    if len(cv_results_df_sorted) != len(cv_results_df_full_sorted):\n",
    "        print(-len(cv_results_df_sorted) + len(cv_results_df_full_sorted), \"fits were total failures\")\n",
    "        total_fits = len(cv_results_df_sorted)\n",
    "cv_results_df_sorted if not_catboost else ''\n"
   ]
  },
  {
   "cell_type": "code",
   "execution_count": 282,
   "metadata": {
    "execution": {
     "iopub.execute_input": "2022-11-16T13:59:47.279670Z",
     "iopub.status.busy": "2022-11-16T13:59:47.279065Z",
     "iopub.status.idle": "2022-11-16T13:59:47.282299Z",
     "shell.execute_reply": "2022-11-16T13:59:47.281778Z",
     "shell.execute_reply.started": "2022-11-16T13:59:47.279646Z"
    }
   },
   "outputs": [],
   "source": [
    "#pd.set_option('display.max_columns', None)\n"
   ]
  },
  {
   "cell_type": "code",
   "execution_count": 283,
   "metadata": {
    "execution": {
     "iopub.execute_input": "2022-11-16T13:59:47.283574Z",
     "iopub.status.busy": "2022-11-16T13:59:47.282958Z",
     "iopub.status.idle": "2022-11-16T13:59:47.300218Z",
     "shell.execute_reply": "2022-11-16T13:59:47.299493Z",
     "shell.execute_reply.started": "2022-11-16T13:59:47.283551Z"
    }
   },
   "outputs": [
    {
     "data": {
      "text/plain": "''"
     },
     "execution_count": 283,
     "metadata": {},
     "output_type": "execute_result"
    }
   ],
   "source": [
    "if not_catboost:\n",
    "    orig_debug_mode, orig_display_df_cols = debug_mode, pd.get_option('display.max_columns')\n",
    "    debug_mode = True\n",
    "    pd.set_option('display.max_columns', None)\n",
    "    if debug_mode:\n",
    "        debug_cols = ['rank_test_score', 'mean_test_score', 'mean_fit_time', 'mean_score_time']\n",
    "        debug_cols.extend([c for c in cv_results_df.columns if 'param' in c])\n",
    "\n",
    "cv_results_df[debug_cols].head(7) if debug_mode else ''"
   ]
  },
  {
   "cell_type": "code",
   "execution_count": 284,
   "metadata": {
    "execution": {
     "iopub.execute_input": "2022-11-16T13:59:47.304440Z",
     "iopub.status.busy": "2022-11-16T13:59:47.303671Z",
     "iopub.status.idle": "2022-11-16T13:59:47.307553Z",
     "shell.execute_reply": "2022-11-16T13:59:47.306930Z",
     "shell.execute_reply.started": "2022-11-16T13:59:47.304414Z"
    }
   },
   "outputs": [],
   "source": [
    "if not_catboost:\n",
    "    debug_mode = orig_debug_mode\n",
    "    pd.set_option('display.max_columns', orig_display_df_cols)"
   ]
  },
  {
   "cell_type": "code",
   "execution_count": 285,
   "metadata": {
    "execution": {
     "iopub.execute_input": "2022-11-16T13:59:47.309224Z",
     "iopub.status.busy": "2022-11-16T13:59:47.308334Z",
     "iopub.status.idle": "2022-11-16T13:59:47.315677Z",
     "shell.execute_reply": "2022-11-16T13:59:47.315141Z",
     "shell.execute_reply.started": "2022-11-16T13:59:47.309201Z"
    }
   },
   "outputs": [
    {
     "data": {
      "text/plain": "''"
     },
     "execution_count": 285,
     "metadata": {},
     "output_type": "execute_result"
    }
   ],
   "source": [
    "if not_catboost:\n",
    "    def print_results(cross_validation_result):\n",
    "        means = cross_validation_result.cv_results_['mean_test_score']\n",
    "        stds = cross_validation_result.cv_results_['std_test_score']\n",
    "        params = cross_validation_result.cv_results_['params']\n",
    "        times = cross_validation_result.cv_results_['std_test_score']\n",
    "\n",
    "        print(\"params:\" + \"/\".join([c.replace(\"model__\", \"\") for c in params[0].keys()]))\n",
    "        print()\n",
    "        for mean, std, param, time in zip(means, stds, params, times):\n",
    "            #param2 = \"/\".join(list(param.values()))\n",
    "            param2 = \"/\".join(list([str(c) for c in param.values()]))\n",
    "            print(f'{round(mean, 3)} (+/-{round(std * 2, 3)}) in {round(time, 4)}s for {param2}')\n",
    "\n",
    "\n",
    "print_results(crossval_runner) if debug_mode else ''"
   ]
  },
  {
   "cell_type": "code",
   "execution_count": 286,
   "metadata": {
    "execution": {
     "iopub.execute_input": "2022-11-16T13:59:47.317413Z",
     "iopub.status.busy": "2022-11-16T13:59:47.316534Z",
     "iopub.status.idle": "2022-11-16T13:59:47.321419Z",
     "shell.execute_reply": "2022-11-16T13:59:47.320870Z",
     "shell.execute_reply.started": "2022-11-16T13:59:47.317388Z"
    }
   },
   "outputs": [],
   "source": [
    "if not_catboost:\n",
    "    print('Best Index: ', crossval_runner.best_index_)\n",
    "    print('Best Score: ', crossval_runner.best_score_)\n",
    "    print('Best Params: ', crossval_runner.best_params_)"
   ]
  },
  {
   "cell_type": "code",
   "execution_count": 287,
   "metadata": {
    "execution": {
     "iopub.execute_input": "2022-11-16T13:59:47.323113Z",
     "iopub.status.busy": "2022-11-16T13:59:47.322229Z",
     "iopub.status.idle": "2022-11-16T13:59:47.327516Z",
     "shell.execute_reply": "2022-11-16T13:59:47.327008Z",
     "shell.execute_reply.started": "2022-11-16T13:59:47.323086Z"
    }
   },
   "outputs": [
    {
     "data": {
      "text/plain": "array([1.0, 1.0, 0.6959676001201812, 51.47824, -0.08707,\n       0.0214800000000039, 0.01735, 'LEASEHOLD', 0, 0, 0, 0, 0, 0, 0, 0,\n       0, 0], dtype=object)"
     },
     "execution_count": 287,
     "metadata": {},
     "output_type": "execute_result"
    }
   ],
   "source": [
    "#pool_Xtest.shape\n",
    "#pool_Xtrain.shape\n",
    "X_train[0]\n",
    "X_test[0]"
   ]
  },
  {
   "cell_type": "code",
   "execution_count": 288,
   "metadata": {
    "execution": {
     "iopub.execute_input": "2022-11-16T13:59:47.328680Z",
     "iopub.status.busy": "2022-11-16T13:59:47.328195Z",
     "iopub.status.idle": "2022-11-16T13:59:47.380861Z",
     "shell.execute_reply": "2022-11-16T13:59:47.380015Z",
     "shell.execute_reply.started": "2022-11-16T13:59:47.328658Z"
    }
   },
   "outputs": [],
   "source": [
    "if not_catboost:\n",
    "    y_pred = best_estimator_pipe.predict(X_test)\n",
    "else:\n",
    "    y_pred = starter_model.predict(pool_Xtest)"
   ]
  },
  {
   "cell_type": "code",
   "execution_count": 289,
   "metadata": {
    "execution": {
     "iopub.execute_input": "2022-11-16T13:59:47.382580Z",
     "iopub.status.busy": "2022-11-16T13:59:47.382020Z",
     "iopub.status.idle": "2022-11-16T13:59:47.440737Z",
     "shell.execute_reply": "2022-11-16T13:59:47.439769Z",
     "shell.execute_reply.started": "2022-11-16T13:59:47.382556Z"
    }
   },
   "outputs": [
    {
     "data": {
      "text/plain": "0.7005060526478675"
     },
     "execution_count": 289,
     "metadata": {},
     "output_type": "execute_result"
    }
   ],
   "source": [
    "r_2_score = r2_score(y_test, y_pred)\n",
    "if not_catboost:\n",
    "    score = r_2_score\n",
    "    default_score = best_estimator_pipe.score(X_test, y_test)\n",
    "else:\n",
    "    score = r_2_score\n",
    "    default_score = starter_model.score(X_test, y_test)\n",
    "score"
   ]
  },
  {
   "cell_type": "code",
   "execution_count": 290,
   "metadata": {
    "execution": {
     "iopub.execute_input": "2022-11-16T13:59:47.442381Z",
     "iopub.status.busy": "2022-11-16T13:59:47.442151Z",
     "iopub.status.idle": "2022-11-16T13:59:47.448203Z",
     "shell.execute_reply": "2022-11-16T13:59:47.447282Z",
     "shell.execute_reply.started": "2022-11-16T13:59:47.442362Z"
    }
   },
   "outputs": [
    {
     "name": "stdout",
     "output_type": "stream",
     "text": [
      "----------CatBoost----------\n",
      "R square Accuracy 0.7005060526478675\n",
      "Mean Absolute Error Accuracy 44531.355600381285\n",
      "Mean Squared Error Accuracy 3383205112.6632833\n",
      "Root Mean Squared Error 58165.32569033963\n"
     ]
    }
   ],
   "source": [
    "y_pred = y_pred.reshape((-1, 1))\n",
    "\n",
    "R2 = r_2_score\n",
    "MAE = mean_absolute_error(y_test, y_pred)\n",
    "MSE = mean_squared_error(y_test, y_pred)\n",
    "RMSE = math.sqrt(MSE)\n",
    "print('-' * 10 + ALGORITHM + '-' * 10)\n",
    "print('R square Accuracy', R2)\n",
    "print('Mean Absolute Error Accuracy', MAE)\n",
    "print('Mean Squared Error Accuracy', MSE)\n",
    "print('Root Mean Squared Error', RMSE)"
   ]
  },
  {
   "cell_type": "code",
   "execution_count": 291,
   "metadata": {
    "execution": {
     "iopub.execute_input": "2022-11-16T13:59:47.450080Z",
     "iopub.status.busy": "2022-11-16T13:59:47.449147Z",
     "iopub.status.idle": "2022-11-16T13:59:47.453856Z",
     "shell.execute_reply": "2022-11-16T13:59:47.453198Z",
     "shell.execute_reply.started": "2022-11-16T13:59:47.450060Z"
    }
   },
   "outputs": [],
   "source": [
    "if debug_mode:\n",
    "    print(y_test_index.reshape((-1, 1)).shape);\n",
    "    print(y_pred.reshape((-1, 1)).shape);\n",
    "    print(y_test.shape);\n",
    "    print(y_test_index.shape);\n",
    "    print(y_pred.shape);\n",
    "    print(y_test.shape)"
   ]
  },
  {
   "cell_type": "code",
   "execution_count": 292,
   "metadata": {
    "execution": {
     "iopub.execute_input": "2022-11-16T13:59:47.455055Z",
     "iopub.status.busy": "2022-11-16T13:59:47.454855Z",
     "iopub.status.idle": "2022-11-16T13:59:47.472196Z",
     "shell.execute_reply": "2022-11-16T13:59:47.471460Z",
     "shell.execute_reply.started": "2022-11-16T13:59:47.455037Z"
    }
   },
   "outputs": [
    {
     "data": {
      "text/plain": "             actual      predicted    difference   diff 1 %   diff 2 %\nreference                                                             \n85490754   400000.0  382333.692904  17666.307096   4.416577   4.620651\n119328242  369950.0  450266.659263  80316.659263  21.710139  17.837576\n125716790  350000.0  390912.587904  40912.587904  11.689311  10.465917\n122440040  549000.0  540320.129877   8679.870123   1.581033   1.606431\n120508103  495000.0  498971.340152   3971.340152   0.802291   0.795905\n...             ...            ...           ...        ...        ...\n68620869   475000.0  557945.005369  82945.005369  17.462106  14.866161\n85735665   575000.0  545869.525989  29130.474011   5.066169   5.336527\n125706338  400000.0  379137.963474  20862.036526   5.215509   5.502492\n112739354  450000.0  502501.780693  52501.780693  11.667062  10.448079\n122707001  275000.0  277834.686261   2834.686261   1.030795   1.020278\n\n[4413 rows x 5 columns]",
      "text/html": "<div>\n<style scoped>\n    .dataframe tbody tr th:only-of-type {\n        vertical-align: middle;\n    }\n\n    .dataframe tbody tr th {\n        vertical-align: top;\n    }\n\n    .dataframe thead th {\n        text-align: right;\n    }\n</style>\n<table border=\"1\" class=\"dataframe\">\n  <thead>\n    <tr style=\"text-align: right;\">\n      <th></th>\n      <th>actual</th>\n      <th>predicted</th>\n      <th>difference</th>\n      <th>diff 1 %</th>\n      <th>diff 2 %</th>\n    </tr>\n    <tr>\n      <th>reference</th>\n      <th></th>\n      <th></th>\n      <th></th>\n      <th></th>\n      <th></th>\n    </tr>\n  </thead>\n  <tbody>\n    <tr>\n      <th>85490754</th>\n      <td>400000.0</td>\n      <td>382333.692904</td>\n      <td>17666.307096</td>\n      <td>4.416577</td>\n      <td>4.620651</td>\n    </tr>\n    <tr>\n      <th>119328242</th>\n      <td>369950.0</td>\n      <td>450266.659263</td>\n      <td>80316.659263</td>\n      <td>21.710139</td>\n      <td>17.837576</td>\n    </tr>\n    <tr>\n      <th>125716790</th>\n      <td>350000.0</td>\n      <td>390912.587904</td>\n      <td>40912.587904</td>\n      <td>11.689311</td>\n      <td>10.465917</td>\n    </tr>\n    <tr>\n      <th>122440040</th>\n      <td>549000.0</td>\n      <td>540320.129877</td>\n      <td>8679.870123</td>\n      <td>1.581033</td>\n      <td>1.606431</td>\n    </tr>\n    <tr>\n      <th>120508103</th>\n      <td>495000.0</td>\n      <td>498971.340152</td>\n      <td>3971.340152</td>\n      <td>0.802291</td>\n      <td>0.795905</td>\n    </tr>\n    <tr>\n      <th>...</th>\n      <td>...</td>\n      <td>...</td>\n      <td>...</td>\n      <td>...</td>\n      <td>...</td>\n    </tr>\n    <tr>\n      <th>68620869</th>\n      <td>475000.0</td>\n      <td>557945.005369</td>\n      <td>82945.005369</td>\n      <td>17.462106</td>\n      <td>14.866161</td>\n    </tr>\n    <tr>\n      <th>85735665</th>\n      <td>575000.0</td>\n      <td>545869.525989</td>\n      <td>29130.474011</td>\n      <td>5.066169</td>\n      <td>5.336527</td>\n    </tr>\n    <tr>\n      <th>125706338</th>\n      <td>400000.0</td>\n      <td>379137.963474</td>\n      <td>20862.036526</td>\n      <td>5.215509</td>\n      <td>5.502492</td>\n    </tr>\n    <tr>\n      <th>112739354</th>\n      <td>450000.0</td>\n      <td>502501.780693</td>\n      <td>52501.780693</td>\n      <td>11.667062</td>\n      <td>10.448079</td>\n    </tr>\n    <tr>\n      <th>122707001</th>\n      <td>275000.0</td>\n      <td>277834.686261</td>\n      <td>2834.686261</td>\n      <td>1.030795</td>\n      <td>1.020278</td>\n    </tr>\n  </tbody>\n</table>\n<p>4413 rows × 5 columns</p>\n</div>"
     },
     "execution_count": 292,
     "metadata": {},
     "output_type": "execute_result"
    }
   ],
   "source": [
    "compare = np.hstack((y_test_index, y_test, y_pred))\n",
    "compare_df = DataFrame(compare, columns=['reference', 'actual', 'predicted'])\n",
    "compare_df['difference'] = abs(compare_df['actual'] - compare_df['predicted'])\n",
    "compare_df['diff 1 %'] = abs((compare_df['actual'] - compare_df['predicted']) / compare_df['actual'] * 100)\n",
    "compare_df['diff 2 %'] = abs((compare_df['actual'] - compare_df['predicted']) / compare_df['predicted']) * 100\n",
    "compare_df['reference'] = compare_df['reference'].astype(int)\n",
    "compare_df.set_index('reference', inplace=True)\n",
    "compare_df"
   ]
  },
  {
   "cell_type": "code",
   "execution_count": 293,
   "metadata": {
    "execution": {
     "iopub.execute_input": "2022-11-16T13:59:47.473173Z",
     "iopub.status.busy": "2022-11-16T13:59:47.472972Z",
     "iopub.status.idle": "2022-11-16T13:59:47.499899Z",
     "shell.execute_reply": "2022-11-16T13:59:47.499050Z",
     "shell.execute_reply.started": "2022-11-16T13:59:47.473156Z"
    }
   },
   "outputs": [
    {
     "data": {
      "text/plain": "           actual  predicted     difference    diff 1 %   diff 2 %   Price  \\\n109722224  108000     358032  250032.317640  231.511405  69.835125  108000   \n122265818  160000     511966  351966.893676  219.979309  68.747979  160000   \n85667184   122000     367610  245610.986379  201.320481  66.812744  122000   \n119684411  200000     403972  203972.595068  101.986298  50.491691  200000   \n85536395   230000     462414  232414.692387  101.049866  50.261096  230000   \n...           ...        ...            ...         ...        ...     ...   \n123142418  525000     524908      91.644939    0.017456   0.017459  525000   \n122230931  450000     450050      50.123580    0.011139   0.011137  450000   \n122176811  499500     499555      55.308039    0.011073   0.011071  499500   \n125116322  519950     519904      45.615634    0.008773   0.008774  519950   \n123729194  415000     414993       6.680000    0.001610   0.001610  415000   \n\n           bedrooms  bathrooms  nearestStation  location.latitude  \\\n109722224         1          1        0.302667          51.406803   \n122265818         3          1        0.166024          51.510420   \n85667184          1          1        0.838896          51.540462   \n119684411         2          1        0.511626          51.518081   \n85536395          2          2        0.162859          51.362150   \n...             ...        ...             ...                ...   \n123142418         2          2        0.362792          51.458120   \n122230931         1          1        0.209250          51.527930   \n122176811         1          1        0.438572          51.561629   \n125116322         1          1        0.240381          51.548897   \n123729194         3          1        0.354822          51.536490   \n\n           location.longitude  latitude_deviation  longitude_deviation  \\\n109722224           -0.261328            0.092917             0.156908   \n122265818           -0.037730            0.010700             0.066690   \n85667184            -0.280301            0.040742             0.175881   \n119684411           -0.029340            0.018361             0.075080   \n85536395            -0.150440            0.137570             0.046020   \n...                       ...                 ...                  ...   \n123142418           -0.105180            0.041600             0.000760   \n122230931           -0.118580            0.028210             0.014160   \n122176811           -0.150031            0.061909             0.045611   \n125116322           -0.169673            0.049177             0.065253   \n123729194            0.147820            0.036770             0.252240   \n\n           tenure.tenureType  \n109722224          LEASEHOLD  \n122265818           FREEHOLD  \n85667184           LEASEHOLD  \n119684411          LEASEHOLD  \n85536395            FREEHOLD  \n...                      ...  \n123142418  SHARE_OF_FREEHOLD  \n122230931          LEASEHOLD  \n122176811  SHARE_OF_FREEHOLD  \n125116322  SHARE_OF_FREEHOLD  \n123729194           FREEHOLD  \n\n[4413 rows x 14 columns]",
      "text/html": "<div>\n<style scoped>\n    .dataframe tbody tr th:only-of-type {\n        vertical-align: middle;\n    }\n\n    .dataframe tbody tr th {\n        vertical-align: top;\n    }\n\n    .dataframe thead th {\n        text-align: right;\n    }\n</style>\n<table border=\"1\" class=\"dataframe\">\n  <thead>\n    <tr style=\"text-align: right;\">\n      <th></th>\n      <th>actual</th>\n      <th>predicted</th>\n      <th>difference</th>\n      <th>diff 1 %</th>\n      <th>diff 2 %</th>\n      <th>Price</th>\n      <th>bedrooms</th>\n      <th>bathrooms</th>\n      <th>nearestStation</th>\n      <th>location.latitude</th>\n      <th>location.longitude</th>\n      <th>latitude_deviation</th>\n      <th>longitude_deviation</th>\n      <th>tenure.tenureType</th>\n    </tr>\n  </thead>\n  <tbody>\n    <tr>\n      <th>109722224</th>\n      <td>108000</td>\n      <td>358032</td>\n      <td>250032.317640</td>\n      <td>231.511405</td>\n      <td>69.835125</td>\n      <td>108000</td>\n      <td>1</td>\n      <td>1</td>\n      <td>0.302667</td>\n      <td>51.406803</td>\n      <td>-0.261328</td>\n      <td>0.092917</td>\n      <td>0.156908</td>\n      <td>LEASEHOLD</td>\n    </tr>\n    <tr>\n      <th>122265818</th>\n      <td>160000</td>\n      <td>511966</td>\n      <td>351966.893676</td>\n      <td>219.979309</td>\n      <td>68.747979</td>\n      <td>160000</td>\n      <td>3</td>\n      <td>1</td>\n      <td>0.166024</td>\n      <td>51.510420</td>\n      <td>-0.037730</td>\n      <td>0.010700</td>\n      <td>0.066690</td>\n      <td>FREEHOLD</td>\n    </tr>\n    <tr>\n      <th>85667184</th>\n      <td>122000</td>\n      <td>367610</td>\n      <td>245610.986379</td>\n      <td>201.320481</td>\n      <td>66.812744</td>\n      <td>122000</td>\n      <td>1</td>\n      <td>1</td>\n      <td>0.838896</td>\n      <td>51.540462</td>\n      <td>-0.280301</td>\n      <td>0.040742</td>\n      <td>0.175881</td>\n      <td>LEASEHOLD</td>\n    </tr>\n    <tr>\n      <th>119684411</th>\n      <td>200000</td>\n      <td>403972</td>\n      <td>203972.595068</td>\n      <td>101.986298</td>\n      <td>50.491691</td>\n      <td>200000</td>\n      <td>2</td>\n      <td>1</td>\n      <td>0.511626</td>\n      <td>51.518081</td>\n      <td>-0.029340</td>\n      <td>0.018361</td>\n      <td>0.075080</td>\n      <td>LEASEHOLD</td>\n    </tr>\n    <tr>\n      <th>85536395</th>\n      <td>230000</td>\n      <td>462414</td>\n      <td>232414.692387</td>\n      <td>101.049866</td>\n      <td>50.261096</td>\n      <td>230000</td>\n      <td>2</td>\n      <td>2</td>\n      <td>0.162859</td>\n      <td>51.362150</td>\n      <td>-0.150440</td>\n      <td>0.137570</td>\n      <td>0.046020</td>\n      <td>FREEHOLD</td>\n    </tr>\n    <tr>\n      <th>...</th>\n      <td>...</td>\n      <td>...</td>\n      <td>...</td>\n      <td>...</td>\n      <td>...</td>\n      <td>...</td>\n      <td>...</td>\n      <td>...</td>\n      <td>...</td>\n      <td>...</td>\n      <td>...</td>\n      <td>...</td>\n      <td>...</td>\n      <td>...</td>\n    </tr>\n    <tr>\n      <th>123142418</th>\n      <td>525000</td>\n      <td>524908</td>\n      <td>91.644939</td>\n      <td>0.017456</td>\n      <td>0.017459</td>\n      <td>525000</td>\n      <td>2</td>\n      <td>2</td>\n      <td>0.362792</td>\n      <td>51.458120</td>\n      <td>-0.105180</td>\n      <td>0.041600</td>\n      <td>0.000760</td>\n      <td>SHARE_OF_FREEHOLD</td>\n    </tr>\n    <tr>\n      <th>122230931</th>\n      <td>450000</td>\n      <td>450050</td>\n      <td>50.123580</td>\n      <td>0.011139</td>\n      <td>0.011137</td>\n      <td>450000</td>\n      <td>1</td>\n      <td>1</td>\n      <td>0.209250</td>\n      <td>51.527930</td>\n      <td>-0.118580</td>\n      <td>0.028210</td>\n      <td>0.014160</td>\n      <td>LEASEHOLD</td>\n    </tr>\n    <tr>\n      <th>122176811</th>\n      <td>499500</td>\n      <td>499555</td>\n      <td>55.308039</td>\n      <td>0.011073</td>\n      <td>0.011071</td>\n      <td>499500</td>\n      <td>1</td>\n      <td>1</td>\n      <td>0.438572</td>\n      <td>51.561629</td>\n      <td>-0.150031</td>\n      <td>0.061909</td>\n      <td>0.045611</td>\n      <td>SHARE_OF_FREEHOLD</td>\n    </tr>\n    <tr>\n      <th>125116322</th>\n      <td>519950</td>\n      <td>519904</td>\n      <td>45.615634</td>\n      <td>0.008773</td>\n      <td>0.008774</td>\n      <td>519950</td>\n      <td>1</td>\n      <td>1</td>\n      <td>0.240381</td>\n      <td>51.548897</td>\n      <td>-0.169673</td>\n      <td>0.049177</td>\n      <td>0.065253</td>\n      <td>SHARE_OF_FREEHOLD</td>\n    </tr>\n    <tr>\n      <th>123729194</th>\n      <td>415000</td>\n      <td>414993</td>\n      <td>6.680000</td>\n      <td>0.001610</td>\n      <td>0.001610</td>\n      <td>415000</td>\n      <td>3</td>\n      <td>1</td>\n      <td>0.354822</td>\n      <td>51.536490</td>\n      <td>0.147820</td>\n      <td>0.036770</td>\n      <td>0.252240</td>\n      <td>FREEHOLD</td>\n    </tr>\n  </tbody>\n</table>\n<p>4413 rows × 14 columns</p>\n</div>"
     },
     "execution_count": 293,
     "metadata": {},
     "output_type": "execute_result"
    }
   ],
   "source": [
    "combined = compare_df.merge(df[columns], how='inner', left_index=True, right_index=True).sort_values(['diff 1 %'],\n",
    "                                                                                                     ascending=False)\n",
    "#pd.options.display.float_format = '{:.4f}'.format\n",
    "combined[['predicted', 'actual', 'Price', 'bedrooms', 'bathrooms']] = combined[\n",
    "    ['predicted', 'actual', 'Price', 'bedrooms', 'bathrooms']].astype(int)\n",
    "combined['bedrooms'] = combined['bedrooms'].astype(int)\n",
    "combined"
   ]
  },
  {
   "cell_type": "code",
   "execution_count": 294,
   "metadata": {
    "execution": {
     "iopub.execute_input": "2022-11-16T13:59:47.501494Z",
     "iopub.status.busy": "2022-11-16T13:59:47.500942Z",
     "iopub.status.idle": "2022-11-16T13:59:47.635559Z",
     "shell.execute_reply": "2022-11-16T13:59:47.634656Z",
     "shell.execute_reply.started": "2022-11-16T13:59:47.501473Z"
    }
   },
   "outputs": [
    {
     "data": {
      "text/plain": "<Figure size 432x288 with 1 Axes>",
      "image/png": "[encoded data removed]"
     },
     "metadata": {
      "needs_background": "light"
     },
     "output_type": "display_data"
    }
   ],
   "source": [
    "fig, ax = plt.subplots()\n",
    "ax.scatter(y_test, y_pred, edgecolors=(0, 0, 1))\n",
    "ax.plot([y_test.min(), y_test.max()], [y_test.min(), y_test.max()], 'r--', lw=3)\n",
    "ax.set_ylabel('Predicted')\n",
    "ax.set_xlabel('Actual')\n",
    "#ax.title.set_text(f'CV Chosen best option ({calculated_best_pipe[1]})')\n",
    "plt.show()"
   ]
  },
  {
   "cell_type": "code",
   "execution_count": 295,
   "metadata": {
    "execution": {
     "iopub.execute_input": "2022-11-16T13:59:47.637419Z",
     "iopub.status.busy": "2022-11-16T13:59:47.636639Z",
     "iopub.status.idle": "2022-11-16T13:59:50.927930Z",
     "shell.execute_reply": "2022-11-16T13:59:50.927235Z",
     "shell.execute_reply.started": "2022-11-16T13:59:47.637397Z"
    }
   },
   "outputs": [],
   "source": [
    "if not_catboost:\n",
    "    def custom_model_and_predictions(model, graph_params, X_train, y_train, X_test):\n",
    "        graph_model = model\n",
    "        graph_model.set_params(**graph_params)\n",
    "        graph_model.fit(X_train, y_train)\n",
    "        y_pred_graph = model.predict(X_test)\n",
    "\n",
    "        return model, y_pred_graph\n",
    "\n",
    "\n",
    "    best_model_count = 10 if not quick_mode else 2\n",
    "    best_model_count = 3 if not quick_mode else 1\n",
    "    best_models = {}\n",
    "    best_model_predictions = {}\n",
    "    best_model_scores = {}\n",
    "\n",
    "    showable_increment = total_fits // (4 if not quick_mode else 2)\n",
    "    if showable_increment==0:showable_increment=1\n",
    "    for i in range(0, total_fits, showable_increment):\n",
    "        if debug_mode or True: print(f'{i} ==> {i}')\n",
    "\n",
    "        if i == 0:\n",
    "            fitted_graph_model = crossval_runner.best_estimator_\n",
    "            y_pred_graph = y_pred\n",
    "        else:\n",
    "            graph_pipe_params = cv_results_df_sorted['params'][i]\n",
    "            print(graph_pipe_params)\n",
    "            # would always return the best! graph_pipe_params = cv_results_df_sorted.loc[cv_results_df_sorted['rank_test_score'] == 1, 'params'].values[0]\n",
    "\n",
    "            graph_params = {}\n",
    "            for key, value in graph_pipe_params.items():\n",
    "                graph_params[key.replace('model__', '')] = value\n",
    "\n",
    "            fitted_graph_model, y_pred_graph = custom_model_and_predictions(make_pipeline(), graph_pipe_params, X_train,\n",
    "                                                                            y_train, X_test)\n",
    "\n",
    "        best_models[i] = fitted_graph_model[-1].get_params()\n",
    "        best_model_predictions[i] = y_pred_graph\n",
    "        best_model_scores[i] = fitted_graph_model.score(X_test, y_test)\n",
    "\n",
    "    if debug_mode or True: print(f'{-1} ==> {-1}')\n",
    "    graph_pipe_params = cv_results_df_sorted['params'][total_fits - 1]\n",
    "    print(graph_pipe_params)\n",
    "    graph_params = {}\n",
    "    for key, value in graph_pipe_params.items():\n",
    "        graph_params[key.replace('model__', '')] = value\n",
    "    fitted_graph_model, y_pred_graph = custom_model_and_predictions(make_pipeline(), graph_pipe_params, X_train,\n",
    "                                                                    y_train, X_test)\n",
    "    best_models[-1] = fitted_graph_model[-1].get_params()\n",
    "    best_model_predictions[-1] = y_pred_graph\n",
    "    best_model_scores[-1] = fitted_graph_model.score(X_test, y_test)\n"
   ]
  },
  {
   "cell_type": "code",
   "execution_count": 296,
   "metadata": {
    "execution": {
     "iopub.execute_input": "2022-11-16T13:59:50.929176Z",
     "iopub.status.busy": "2022-11-16T13:59:50.928941Z",
     "iopub.status.idle": "2022-11-16T13:59:50.953941Z",
     "shell.execute_reply": "2022-11-16T13:59:50.953292Z",
     "shell.execute_reply.started": "2022-11-16T13:59:50.929155Z"
    }
   },
   "outputs": [
    {
     "data": {
      "text/plain": "''"
     },
     "execution_count": 296,
     "metadata": {},
     "output_type": "execute_result"
    }
   ],
   "source": [
    "cv_results_df_sorted if not_catboost else ''"
   ]
  },
  {
   "cell_type": "code",
   "execution_count": 297,
   "metadata": {
    "execution": {
     "iopub.execute_input": "2022-11-16T13:59:50.955365Z",
     "iopub.status.busy": "2022-11-16T13:59:50.955113Z",
     "iopub.status.idle": "2022-11-16T13:59:50.960058Z",
     "shell.execute_reply": "2022-11-16T13:59:50.959362Z",
     "shell.execute_reply.started": "2022-11-16T13:59:50.955343Z"
    }
   },
   "outputs": [
    {
     "data": {
      "text/plain": "''"
     },
     "execution_count": 297,
     "metadata": {},
     "output_type": "execute_result"
    }
   ],
   "source": [
    "cv_results_df_sorted['params']  if not_catboost and debug_mode else ''"
   ]
  },
  {
   "cell_type": "code",
   "execution_count": 298,
   "metadata": {
    "execution": {
     "iopub.execute_input": "2022-11-16T13:59:50.961046Z",
     "iopub.status.busy": "2022-11-16T13:59:50.960847Z",
     "iopub.status.idle": "2022-11-16T13:59:50.966053Z",
     "shell.execute_reply": "2022-11-16T13:59:50.965218Z",
     "shell.execute_reply.started": "2022-11-16T13:59:50.961027Z"
    }
   },
   "outputs": [
    {
     "data": {
      "text/plain": "''"
     },
     "execution_count": 298,
     "metadata": {},
     "output_type": "execute_result"
    }
   ],
   "source": [
    "cv_results_df_sorted['params'][0] if not_catboost else ''"
   ]
  },
  {
   "cell_type": "code",
   "execution_count": 299,
   "metadata": {
    "execution": {
     "iopub.execute_input": "2022-11-16T13:59:50.967664Z",
     "iopub.status.busy": "2022-11-16T13:59:50.966945Z",
     "iopub.status.idle": "2022-11-16T13:59:50.974725Z",
     "shell.execute_reply": "2022-11-16T13:59:50.973935Z",
     "shell.execute_reply.started": "2022-11-16T13:59:50.967640Z"
    }
   },
   "outputs": [
    {
     "data": {
      "text/plain": "''"
     },
     "execution_count": 299,
     "metadata": {},
     "output_type": "execute_result"
    }
   ],
   "source": [
    "best_models if not_catboost else ''"
   ]
  },
  {
   "cell_type": "code",
   "execution_count": 300,
   "metadata": {
    "execution": {
     "iopub.execute_input": "2022-11-16T13:59:50.976386Z",
     "iopub.status.busy": "2022-11-16T13:59:50.975697Z",
     "iopub.status.idle": "2022-11-16T13:59:52.092828Z",
     "shell.execute_reply": "2022-11-16T13:59:52.092064Z",
     "shell.execute_reply.started": "2022-11-16T13:59:50.976363Z"
    }
   },
   "outputs": [],
   "source": [
    "if not_catboost:\n",
    "    for i in best_model_scores.keys():\n",
    "        if i >= 0:\n",
    "            plt.plot([y_test.min(), y_test.max()], [y_test.min(), y_test.max()], 'r--', lw=3)\n",
    "            plt.scatter(y_test, best_model_predictions[i])\n",
    "            # plt.title(str(i) + \" \" + str(round(best_model_scores[i], 4)) + \" for \" + str(best_models[i]))\n",
    "            if len(best_models[i].keys()) < 30:\n",
    "                plt.title(str(i) + \" \" + str(round(best_model_scores[i], 4)) + \" for \" + str(best_models[i]))\n",
    "            else:\n",
    "                plt.title(str(i) + \" \" + str(round(best_model_scores[i], 4)) + \" for entry \" + str(i))\n",
    "            plt.show()\n",
    "\n",
    "    plt.plot([y_test.min(), y_test.max()], [y_test.min(), y_test.max()], 'r--', lw=3)\n",
    "    plt.scatter(y_test, best_model_predictions[-1])\n",
    "    # plt.title(str(i) + \" \" + str(round(best_model_scores[i], 4)) + \" for \" + str(best_models[i]))\n",
    "    if len(best_models[i].keys()) < 30:\n",
    "        plt.title(str(i) + \" \" + str(round(best_model_scores[-1], 4)) + \" for \" + str(best_models[-1]))\n",
    "    else:\n",
    "        plt.title(str(i) + \" \" + str(round(best_model_scores[-1], 4)) + \" for (worst) entry \" + str(i))\n",
    "\n",
    "    plt.show()"
   ]
  },
  {
   "cell_type": "code",
   "execution_count": 301,
   "metadata": {
    "execution": {
     "iopub.execute_input": "2022-11-16T13:59:52.094913Z",
     "iopub.status.busy": "2022-11-16T13:59:52.094003Z",
     "iopub.status.idle": "2022-11-16T13:59:52.600226Z",
     "shell.execute_reply": "2022-11-16T13:59:52.599392Z",
     "shell.execute_reply.started": "2022-11-16T13:59:52.094884Z"
    }
   },
   "outputs": [],
   "source": [
    "if not_catboost:\n",
    "    sns.set_theme(font_scale=2, rc=None)\n",
    "    sns.set_theme(font_scale=1, rc=None)\n",
    "\n",
    "    fig, axes = plt.subplots(ncols=3, figsize=(15, 5))\n",
    "\n",
    "    plt.subplots_adjust(hspace=0.2)\n",
    "    plt.subplots_adjust(wspace=0.2)\n",
    "\n",
    "    #.flatten()\n",
    "    coordinates = axes[0]\n",
    "    sns.lineplot(x=[y_test.min(), y_test.max()], y=[y_test.min(), y_test.max()], ax=axes[0], color='red')\n",
    "    sns.scatterplot(x=y_test.flatten(), y=best_model_predictions[0].flatten(), ax=axes[0],\n",
    "                    s=100).set(title=f'\"BEST\" model')\n",
    "\n",
    "    sns.lineplot(x=[y_test.min(), y_test.max()], y=[y_test.min(), y_test.max()], ax=axes[1], color='red')\n",
    "    sns.scatterplot(x=y_test.flatten(), y=best_model_predictions[-1].flatten(), ax=axes[1],\n",
    "                    s=100).set(title=f'\"WORST\" model')\n",
    "\n",
    "    sns.lineplot(x=[y_test.min(), y_test.max()], y=[y_test.min(), y_test.max()], ax=axes[2], color='red')\n",
    "    sns.scatterplot(x=y_test.flatten(), y=best_model_predictions[-1].flatten(), ax=axes[2],\n",
    "                    s=120, color='orange')\n",
    "    sns.scatterplot(x=y_test.flatten(), y=best_model_predictions[0].flatten(), ax=axes[2],\n",
    "                    s=30, alpha=0.6, color='black').set(\n",
    "        title='best (black) vs worst (orange)')\n",
    "    #title='best (orange) vs worst (black)')\n",
    "\n",
    "    fig.tight_layout()\n",
    "    plt.show()"
   ]
  },
  {
   "cell_type": "code",
   "execution_count": 302,
   "metadata": {
    "execution": {
     "iopub.execute_input": "2022-11-16T13:59:52.601421Z",
     "iopub.status.busy": "2022-11-16T13:59:52.601193Z",
     "iopub.status.idle": "2022-11-16T13:59:52.607786Z",
     "shell.execute_reply": "2022-11-16T13:59:52.606855Z",
     "shell.execute_reply.started": "2022-11-16T13:59:52.601400Z"
    }
   },
   "outputs": [
    {
     "data": {
      "text/plain": "''"
     },
     "execution_count": 302,
     "metadata": {},
     "output_type": "execute_result"
    }
   ],
   "source": [
    "if not_catboost:\n",
    "    cv_best_model_fit_time = cv_results_df_sorted.iloc[0][\"mean_fit_time\"]\n",
    "cv_best_model_fit_time if not_catboost else ''"
   ]
  },
  {
   "cell_type": "code",
   "execution_count": 303,
   "metadata": {
    "execution": {
     "iopub.execute_input": "2022-11-16T13:59:52.608845Z",
     "iopub.status.busy": "2022-11-16T13:59:52.608602Z",
     "iopub.status.idle": "2022-11-16T13:59:52.871012Z",
     "shell.execute_reply": "2022-11-16T13:59:52.870054Z",
     "shell.execute_reply.started": "2022-11-16T13:59:52.608825Z"
    }
   },
   "outputs": [
    {
     "name": "stdout",
     "output_type": "stream",
     "text": [
      "catboost (v09)\n"
     ]
    }
   ],
   "source": [
    "# <catboost.core.CatBoostRegressor object at 0x7fb167387490>\n",
    "# {'depth': 6}\n",
    "# defaultdict(<class 'list'>, {'iterations': [0, 1, 2],\n",
    "# 'test-RMSE-mean': [396884.9605444017, 359548.6632536235, 326027.84885587444],\n",
    "# 'test-RMSE-std': [308.9495320039113, 260.0967808594464, 219.65856329246023],\n",
    "# 'train-RMSE-mean': [396884.77936957515, 359542.3612912551, 326018.9404460669],\n",
    "# 'train-RMSE-std': [91.44140078375503, 86.77961380623475, 69.4038638987425]})\n",
    "\n",
    "cv_best_model_fit_time = cv_results_df_sorted.iloc[0][\"mean_fit_time\"] if not_catboost else average_time\n",
    "\n",
    "DD2 = \"(\" + \",\".join(DATA_DETAIL) + \")\" if len(DATA_DETAIL) >= 1 else \"\"\n",
    "key = f'{ALGORITHM} (v{VERSION})'.lower()\n",
    "\n",
    "method =  f\"{ALGORITHM_DETAIL}{DD2}\"\n",
    "\n",
    "new_results = {\n",
    "    '_score': score,\n",
    "    'R square Accuracy': R2,\n",
    "    'Mean Absolute Error Accuracy': MAE,\n",
    "    'Mean Squared Error Accuracy': MSE,\n",
    "    'Root Mean Squared Error': RMSE,\n",
    "    '_train time': cv_best_model_fit_time,\n",
    "    'random_state': RANDOM_STATE,\n",
    "    'date': str(datetime.now()),\n",
    "    '_params': crossval_runner.best_params_ if not_catboost else cat_params,\n",
    "    '_method':method,\n",
    "    'run_env': run_env\n",
    "}\n",
    "\n",
    "if run_env not in ['colab']:\n",
    "    old_results_json = get_results()\n",
    "    try:\n",
    "        old_best_score = old_results_json[key]['best score']\n",
    "    except:\n",
    "        print(f\"haven't scored this model yet: {ALGORITHM}\")\n",
    "        old_best_score = -999\n",
    "    this_model_is_best = update_results(old_results_json, new_results, key)\n",
    "\n",
    "print(key)"
   ]
  },
  {
   "cell_type": "code",
   "execution_count": 304,
   "metadata": {
    "execution": {
     "iopub.execute_input": "2022-11-16T13:59:52.872732Z",
     "iopub.status.busy": "2022-11-16T13:59:52.872116Z",
     "iopub.status.idle": "2022-11-16T13:59:52.883681Z",
     "shell.execute_reply": "2022-11-16T13:59:52.882641Z",
     "shell.execute_reply.started": "2022-11-16T13:59:52.872708Z"
    }
   },
   "outputs": [
    {
     "data": {
      "text/plain": "''"
     },
     "execution_count": 304,
     "metadata": {},
     "output_type": "execute_result"
    }
   ],
   "source": [
    "crossval_runner.best_estimator_  if not_catboost else ''"
   ]
  },
  {
   "cell_type": "code",
   "execution_count": 305,
   "metadata": {
    "execution": {
     "iopub.execute_input": "2022-11-16T13:59:52.885380Z",
     "iopub.status.busy": "2022-11-16T13:59:52.885036Z",
     "iopub.status.idle": "2022-11-16T13:59:53.216677Z",
     "shell.execute_reply": "2022-11-16T13:59:53.215594Z",
     "shell.execute_reply.started": "2022-11-16T13:59:52.885349Z"
    }
   },
   "outputs": [
    {
     "name": "stdout",
     "output_type": "stream",
     "text": [
      "pickled new version of model\n",
      "0.7005060526478675 is new best score (it's better than 0.6868175923144272)\n"
     ]
    }
   ],
   "source": [
    "if this_model_is_best:\n",
    "    with open(f'../../../models/optimised_model_{ALGORITHM}_v{VERSION}{DD2}.pkl', 'wb') as f:\n",
    "        if not_catboost:\n",
    "            pickle.dump(crossval_runner.best_estimator_, f)\n",
    "        else:\n",
    "            pickle.dump(starter_model, f)\n",
    "        print('pickled new version of model')\n",
    "        print(f\"{old_results_json[key]['_score']} is new best score (it's better than {old_best_score})\")\n",
    "        #print(results_json[key]['_score'], 'is an improvement on', results_json[key]['second best score'])\n",
    "else:\n",
    "    print(\"not updated saved model, the previous run was better\")\n",
    "    print(old_results_json[key]['_score'], 'is worse than or equal to', old_best_score)\n"
   ]
  },
  {
   "cell_type": "code",
   "execution_count": 306,
   "metadata": {
    "execution": {
     "iopub.execute_input": "2022-11-16T13:59:53.218033Z",
     "iopub.status.busy": "2022-11-16T13:59:53.217794Z",
     "iopub.status.idle": "2022-11-16T13:59:53.224486Z",
     "shell.execute_reply": "2022-11-16T13:59:53.223702Z",
     "shell.execute_reply.started": "2022-11-16T13:59:53.218013Z"
    }
   },
   "outputs": [
    {
     "name": "stdout",
     "output_type": "stream",
     "text": [
      "Feature Ranking:\n",
      "1. features 0 (24.279190) bedrooms\n",
      "2. features 5 (15.598218) latitude_deviation\n",
      "3. features 4 (12.021193) location.longitude\n",
      "4. features 6 (11.991085) longitude_deviation\n",
      "5. features 7 (9.923871) tenure.tenureType\n",
      "6. features 3 (9.250563) location.latitude\n",
      "7. features 2 (8.016841) nearestStation\n",
      "8. features 1 (5.000528) bathrooms\n",
      "9. features 9 (1.381170) feature__chain free\n",
      "10. features 17 (0.479696) feature__two double bedrooms\n",
      "11. features 16 (0.345921) feature__two bedrooms\n",
      "12. features 10 (0.344925) feature__no onward chain\n",
      "13. features 11 (0.343940) feature__off street parking\n",
      "14. features 13 (0.286359) feature__private balcony\n",
      "15. features 8 (0.255321) feature__balcony\n",
      "16. features 14 (0.222902) feature__share of freehold\n",
      "17. features 12 (0.155383) feature__one bedroom\n",
      "18. features 15 (0.102893) feature__three bedrooms\n"
     ]
    }
   ],
   "source": [
    "if 'tree' in ALGORITHM.lower() or 'forest' in ALGORITHM.lower() or 'boost' in ALGORITHM.lower():\n",
    "    feature_importances = crossval_runner.best_estimator_[-1].feature_importances_ if not_catboost else starter_model.get_feature_importance()\n",
    "    #std = np.std([tree.feature_importances_ for tree in model.estimators_], axis = 0)\n",
    "\n",
    "    indices = np.argsort(feature_importances)[::-1]\n",
    "\n",
    "    print('Feature Ranking:')\n",
    "\n",
    "    for f in range(X_train.shape[1]):\n",
    "        print('%d. features %d (%f)' % (f + 1, indices[f], feature_importances[indices[f]]),\n",
    "              df_features.columns[indices[f] + 1])\n",
    "else:\n",
    "    print(f'{ALGORITHM} does not have feature_importances, skipping')"
   ]
  },
  {
   "cell_type": "code",
   "execution_count": 307,
   "metadata": {
    "execution": {
     "iopub.execute_input": "2022-11-16T13:59:53.225586Z",
     "iopub.status.busy": "2022-11-16T13:59:53.225381Z",
     "iopub.status.idle": "2022-11-16T13:59:53.374100Z",
     "shell.execute_reply": "2022-11-16T13:59:53.373223Z",
     "shell.execute_reply.started": "2022-11-16T13:59:53.225567Z"
    }
   },
   "outputs": [
    {
     "data": {
      "text/plain": "<Figure size 432x288 with 1 Axes>",
      "image/png": "[encoded data removed]"
     },
     "metadata": {
      "needs_background": "light"
     },
     "output_type": "display_data"
    }
   ],
   "source": [
    "if 'tree' in ALGORITHM.lower() or 'forest' in ALGORITHM.lower() or 'boost' in ALGORITHM.lower():\n",
    "    indices = np.argsort(feature_importances)\n",
    "\n",
    "    fig, ax = plt.subplots()\n",
    "    ax.barh(range(len(feature_importances)), feature_importances[indices])\n",
    "    ax.set_yticks(range(len(feature_importances)))\n",
    "    _ = ax.set_yticklabels(df_features.columns[[c + 1 for c in indices]])\n",
    "else:\n",
    "    print(f'{ALGORITHM} does not have feature_importances, skipping')"
   ]
  },
  {
   "cell_type": "code",
   "execution_count": 307,
   "metadata": {
    "collapsed": false,
    "jupyter": {
     "outputs_hidden": false
    }
   },
   "outputs": [],
   "source": []
  }
 ],
 "metadata": {
  "kernelspec": {
   "display_name": "Python 3 (ipykernel)",
   "language": "python",
   "name": "python3"
  },
  "language_info": {
   "codemirror_mode": {
    "name": "ipython",
    "version": 3
   },
   "file_extension": ".py",
   "mimetype": "text/x-python",
   "name": "python",
   "nbconvert_exporter": "python",
   "pygments_lexer": "ipython3",
   "version": "3.9.13"
  }
 },
 "nbformat": 4,
 "nbformat_minor": 4
}
