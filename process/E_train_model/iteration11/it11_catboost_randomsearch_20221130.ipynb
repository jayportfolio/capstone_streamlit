{
 "cells": [
  {
   "cell_type": "code",
   "execution_count": 1,
   "metadata": {
    "execution": {
     "iopub.execute_input": "2022-11-16T13:53:27.249807Z",
     "iopub.status.busy": "2022-11-16T13:53:27.249148Z",
     "iopub.status.idle": "2022-11-16T13:53:27.255429Z",
     "shell.execute_reply": "2022-11-16T13:53:27.254275Z",
     "shell.execute_reply.started": "2022-11-16T13:53:27.249780Z"
    }
   },
   "outputs": [
    {
     "name": "stdout",
     "output_type": "stream",
     "text": [
      "ALGORITHM: CatBoost\n",
      "ALGORITHM_DETAIL: random search\n",
      "DATA_DETAIL: ['no dummies']\n",
      "DATA VERSION: 11\n"
     ]
    }
   ],
   "source": [
    "#ALGORITHM = 'Linear Regression (Ridge)'\n",
    "#ALGORITHM = 'KNN'\n",
    "#ALGORITHM = 'Decision Tree'\n",
    "#ALGORITHM = 'Random Forest'\n",
    "#ALGORITHM = 'XG Boost'\n",
    "ALGORITHM = 'CatBoost'\n",
    "#ALGORITHM = 'Light Gradient Boosting'\n",
    "\n",
    "ALGORITHM_DETAIL = 'random search'\n",
    "#DATA_DETAIL = []\n",
    "#DATA_DETAIL = ['explore param']\n",
    "#DATA_DETAIL = ['no scale','no dummies']\n",
    "DATA_DETAIL = ['no dummies'] if ALGORITHM.lower() == 'catboost' else ''\n",
    "VERSION = '11'\n",
    "\n",
    "RANDOM_STATE = 101\n",
    "TRAINING_SIZE = 0.9\n",
    "\n",
    "CROSS_VALIDATION_SCORING = 'r2'\n",
    "\n",
    "print(f'ALGORITHM: {ALGORITHM}')\n",
    "print(f'ALGORITHM_DETAIL: {ALGORITHM_DETAIL}')\n",
    "print(f'DATA_DETAIL: {DATA_DETAIL}')\n",
    "print(f'DATA VERSION: {VERSION}')\n"
   ]
  },
  {
   "cell_type": "code",
   "execution_count": 2,
   "metadata": {
    "execution": {
     "iopub.execute_input": "2022-11-16T13:53:27.262780Z",
     "iopub.status.busy": "2022-11-16T13:53:27.262116Z",
     "iopub.status.idle": "2022-11-16T13:53:43.374795Z",
     "shell.execute_reply": "2022-11-16T13:53:43.374038Z",
     "shell.execute_reply.started": "2022-11-16T13:53:27.262757Z"
    }
   },
   "outputs": [
    {
     "name": "stdout",
     "output_type": "stream",
     "text": [
      "Requirement already satisfied: catboost in /home/guava/PycharmProjects/capstone_streamlit/venv/lib/python3.8/site-packages (1.1.1)\r\n",
      "Requirement already satisfied: pandas>=0.24.0 in /home/guava/PycharmProjects/capstone_streamlit/venv/lib/python3.8/site-packages (from catboost) (1.5.0)\r\n",
      "Requirement already satisfied: numpy>=1.16.0 in /home/guava/PycharmProjects/capstone_streamlit/venv/lib/python3.8/site-packages (from catboost) (1.23.3)\r\n",
      "Requirement already satisfied: scipy in /home/guava/PycharmProjects/capstone_streamlit/venv/lib/python3.8/site-packages (from catboost) (1.9.1)\r\n",
      "Requirement already satisfied: graphviz in /home/guava/PycharmProjects/capstone_streamlit/venv/lib/python3.8/site-packages (from catboost) (0.20.1)\r\n",
      "Requirement already satisfied: six in /home/guava/PycharmProjects/capstone_streamlit/venv/lib/python3.8/site-packages (from catboost) (1.16.0)\r\n",
      "Requirement already satisfied: matplotlib in /home/guava/PycharmProjects/capstone_streamlit/venv/lib/python3.8/site-packages (from catboost) (3.6.0)\r\n",
      "Requirement already satisfied: plotly in /home/guava/PycharmProjects/capstone_streamlit/venv/lib/python3.8/site-packages (from catboost) (5.10.0)\r\n",
      "Requirement already satisfied: pytz>=2020.1 in /home/guava/PycharmProjects/capstone_streamlit/venv/lib/python3.8/site-packages (from pandas>=0.24.0->catboost) (2022.2.1)\r\n",
      "Requirement already satisfied: python-dateutil>=2.8.1 in /home/guava/PycharmProjects/capstone_streamlit/venv/lib/python3.8/site-packages (from pandas>=0.24.0->catboost) (2.8.2)\r\n",
      "Requirement already satisfied: cycler>=0.10 in /home/guava/PycharmProjects/capstone_streamlit/venv/lib/python3.8/site-packages (from matplotlib->catboost) (0.11.0)\r\n",
      "Requirement already satisfied: fonttools>=4.22.0 in /home/guava/PycharmProjects/capstone_streamlit/venv/lib/python3.8/site-packages (from matplotlib->catboost) (4.37.3)\r\n",
      "Requirement already satisfied: kiwisolver>=1.0.1 in /home/guava/PycharmProjects/capstone_streamlit/venv/lib/python3.8/site-packages (from matplotlib->catboost) (1.4.4)\r\n",
      "Requirement already satisfied: packaging>=20.0 in /home/guava/PycharmProjects/capstone_streamlit/venv/lib/python3.8/site-packages (from matplotlib->catboost) (21.3)\r\n",
      "Requirement already satisfied: pillow>=6.2.0 in /home/guava/PycharmProjects/capstone_streamlit/venv/lib/python3.8/site-packages (from matplotlib->catboost) (9.2.0)\r\n",
      "Requirement already satisfied: pyparsing>=2.2.1 in /home/guava/PycharmProjects/capstone_streamlit/venv/lib/python3.8/site-packages (from matplotlib->catboost) (3.0.9)\r\n",
      "Requirement already satisfied: contourpy>=1.0.1 in /home/guava/PycharmProjects/capstone_streamlit/venv/lib/python3.8/site-packages (from matplotlib->catboost) (1.0.5)\r\n",
      "Requirement already satisfied: tenacity>=6.2.0 in /home/guava/PycharmProjects/capstone_streamlit/venv/lib/python3.8/site-packages (from plotly->catboost) (8.1.0)\r\n",
      "Note: you may need to restart the kernel to use updated packages.\n"
     ]
    }
   ],
   "source": [
    "if ALGORITHM == 'CatBoost':\n",
    "    %pip install catboost\n",
    "\n",
    "if ALGORITHM == 'Light Gradient Boosting':\n",
    "    %pip install lightgbm"
   ]
  },
  {
   "cell_type": "code",
   "execution_count": 2,
   "outputs": [],
   "source": [],
   "metadata": {
    "collapsed": false
   }
  },
  {
   "cell_type": "code",
   "execution_count": 3,
   "metadata": {
    "execution": {
     "iopub.execute_input": "2022-11-16T13:53:43.376775Z",
     "iopub.status.busy": "2022-11-16T13:53:43.376510Z",
     "iopub.status.idle": "2022-11-16T13:53:45.085035Z",
     "shell.execute_reply": "2022-11-16T13:53:45.084293Z",
     "shell.execute_reply.started": "2022-11-16T13:53:43.376747Z"
    }
   },
   "outputs": [
    {
     "name": "stdout",
     "output_type": "stream",
     "text": [
      "{'notebook_environment': 'local', 'use_gpu': False, 'debug_mode': False, 'quick_mode': False, 'quick_override_cv_splits': 2, 'quick_override_n_iter': 10, 'quick_override_n_jobs': 3}\n"
     ]
    }
   ],
   "source": [
    "from sklearn.impute import SimpleImputer\n",
    "import pandas as pd\n",
    "from sklearn.model_selection import train_test_split, RandomizedSearchCV, GridSearchCV\n",
    "import numpy as np\n",
    "from pandas import DataFrame\n",
    "import math\n",
    "from termcolor import colored\n",
    "from time import time\n",
    "import sklearn\n",
    "from sklearn.metrics import r2_score, mean_absolute_error, mean_squared_error\n",
    "from sklearn.metrics import r2_score\n",
    "import seaborn as sns\n",
    "import pickle\n",
    "\n",
    "import json\n",
    "from datetime import datetime\n",
    "import matplotlib.pyplot as plt\n",
    "\n",
    "with open('../../z_envs/_envs.json') as f:\n",
    "    env_vars = json.loads(f.read())\n",
    "print(env_vars)\n",
    "\n",
    "try:\n",
    "    import google.colab\n",
    "\n",
    "    run_env = 'colab'\n",
    "except:\n",
    "    try:\n",
    "        run_env = env_vars['notebook_environment']\n",
    "    except:\n",
    "        run_env = 'unknown'\n",
    "\n",
    "use_gpu = env_vars.get('use_gpu', False)\n",
    "debug_mode = env_vars.get('debug_mode', False)\n",
    "quick_mode = env_vars.get('quick_mode', False)\n",
    "OVERRIDE_CV = env_vars.get('quick_override_cv_splits', None) if quick_mode else None\n",
    "OVERRIDE_N_ITER = env_vars.get('quick_override_n_iter', None) if quick_mode else None\n",
    "OVERRIDE_JOBS = env_vars.get('quick_override_n_jobs', None) if quick_mode else None\n",
    "#if quick_mode:OVERRIDE_CV, OVERRIDE_N_ITER = 2, 10\n",
    "\n",
    "already_timed = False\n",
    "no_dummies = 'no dummies' in DATA_DETAIL\n",
    "no_scaling = 'no scaling' in DATA_DETAIL\n",
    "#not_catboost = 'catboost' not in ALGORITHM.lower() or not no_dummies\n",
    "not_catboost = 'catboost' not in ALGORITHM.lower()\n",
    "\n",
    "if run_env not in ['colab', 'gradient', 'cloud']:\n",
    "    cloud_run = False\n",
    "    from functions_b__get_the_data_20221116 import set_csv_directory\n",
    "    set_csv_directory('final_split')\n",
    "else:\n",
    "    cloud_run = True\n",
    "    import sys\n",
    "    import os\n",
    "\n",
    "    module_path = os.path.abspath(os.path.join('..', '..', '..'))\n",
    "    if module_path not in sys.path:\n",
    "        #sys.path.append(module_path+\"\\\\zfunctions\")\n",
    "        sys.path.append(module_path)\n",
    "\n",
    "from functions_0__common_20221116 import get_columns\n",
    "from functions_b__get_the_data_20221116 import get_combined_dataset\n",
    "from functions_d1__prepare_cleanse_data_20221116 import tidy_dataset\n",
    "from functions_d2__transform_enrich_data_20221116 import preprocess, feature_engineer\n",
    "from functions_d3__prepare_store_data_20221116 import create_train_test_data\n",
    "from functions_e__train_model_20221116 import get_chosen_model, make_modelling_pipeline, get_cv_params, fit_model_with_cross_validation, get_hyperparameters\n",
    "from functions_f_evaluate_model_20221116 import get_best_estimator_average_time, get_results, update_results\n",
    "\n"
   ]
  },
  {
   "cell_type": "code",
   "execution_count": 4,
   "outputs": [],
   "source": [
    "#OVERRIDE_N_ITER = 5"
   ],
   "metadata": {
    "collapsed": false
   }
  },
  {
   "cell_type": "code",
   "execution_count": 5,
   "metadata": {
    "execution": {
     "iopub.execute_input": "2022-11-16T13:53:45.086382Z",
     "iopub.status.busy": "2022-11-16T13:53:45.086022Z",
     "iopub.status.idle": "2022-11-16T13:53:45.092108Z",
     "shell.execute_reply": "2022-11-16T13:53:45.091330Z",
     "shell.execute_reply.started": "2022-11-16T13:53:45.086361Z"
    }
   },
   "outputs": [
    {
     "name": "stdout",
     "output_type": "stream",
     "text": [
      "\u001B[34mfeatures\u001B[0m ->  ['bedrooms', 'bathrooms', 'nearestStation', 'location.latitude', 'location.longitude', 'latitude_deviation', 'longitude_deviation', 'tenure.tenureType']\n",
      "\u001B[1m\u001B[32mlabel\u001B[0m ->  Price\n"
     ]
    }
   ],
   "source": [
    "#cutdown_rows = 1000\n",
    "cutdown_rows = 0\n",
    "\n",
    "LABEL = 'Price'\n",
    "\n",
    "columns, booleans, floats, categories, custom, wildcard = get_columns(version=VERSION)\n",
    "\n",
    "print(colored(f\"features\", \"blue\"), \"-> \", columns)\n",
    "columns.insert(0, LABEL)\n",
    "print(colored(f\"label\", \"green\", None, ['bold']), \"-> \", LABEL)"
   ]
  },
  {
   "cell_type": "code",
   "execution_count": 6,
   "metadata": {
    "collapsed": false,
    "execution": {
     "iopub.execute_input": "2022-11-29T21:13:26.061510Z",
     "iopub.status.busy": "2022-11-29T21:13:26.061266Z",
     "iopub.status.idle": "2022-11-29T21:13:26.076565Z",
     "shell.execute_reply": "2022-11-29T21:13:26.075207Z",
     "shell.execute_reply.started": "2022-11-29T21:13:26.061489Z"
    },
    "jupyter": {
     "outputs_hidden": false
    }
   },
   "outputs": [
    {
     "data": {
      "text/plain": "Pipeline(steps=[('std_scaler', StandardScaler()), ('model', None)])",
      "text/html": "<style>#sk-container-id-1 {color: black;background-color: white;}#sk-container-id-1 pre{padding: 0;}#sk-container-id-1 div.sk-toggleable {background-color: white;}#sk-container-id-1 label.sk-toggleable__label {cursor: pointer;display: block;width: 100%;margin-bottom: 0;padding: 0.3em;box-sizing: border-box;text-align: center;}#sk-container-id-1 label.sk-toggleable__label-arrow:before {content: \"▸\";float: left;margin-right: 0.25em;color: #696969;}#sk-container-id-1 label.sk-toggleable__label-arrow:hover:before {color: black;}#sk-container-id-1 div.sk-estimator:hover label.sk-toggleable__label-arrow:before {color: black;}#sk-container-id-1 div.sk-toggleable__content {max-height: 0;max-width: 0;overflow: hidden;text-align: left;background-color: #f0f8ff;}#sk-container-id-1 div.sk-toggleable__content pre {margin: 0.2em;color: black;border-radius: 0.25em;background-color: #f0f8ff;}#sk-container-id-1 input.sk-toggleable__control:checked~div.sk-toggleable__content {max-height: 200px;max-width: 100%;overflow: auto;}#sk-container-id-1 input.sk-toggleable__control:checked~label.sk-toggleable__label-arrow:before {content: \"▾\";}#sk-container-id-1 div.sk-estimator input.sk-toggleable__control:checked~label.sk-toggleable__label {background-color: #d4ebff;}#sk-container-id-1 div.sk-label input.sk-toggleable__control:checked~label.sk-toggleable__label {background-color: #d4ebff;}#sk-container-id-1 input.sk-hidden--visually {border: 0;clip: rect(1px 1px 1px 1px);clip: rect(1px, 1px, 1px, 1px);height: 1px;margin: -1px;overflow: hidden;padding: 0;position: absolute;width: 1px;}#sk-container-id-1 div.sk-estimator {font-family: monospace;background-color: #f0f8ff;border: 1px dotted black;border-radius: 0.25em;box-sizing: border-box;margin-bottom: 0.5em;}#sk-container-id-1 div.sk-estimator:hover {background-color: #d4ebff;}#sk-container-id-1 div.sk-parallel-item::after {content: \"\";width: 100%;border-bottom: 1px solid gray;flex-grow: 1;}#sk-container-id-1 div.sk-label:hover label.sk-toggleable__label {background-color: #d4ebff;}#sk-container-id-1 div.sk-serial::before {content: \"\";position: absolute;border-left: 1px solid gray;box-sizing: border-box;top: 0;bottom: 0;left: 50%;z-index: 0;}#sk-container-id-1 div.sk-serial {display: flex;flex-direction: column;align-items: center;background-color: white;padding-right: 0.2em;padding-left: 0.2em;position: relative;}#sk-container-id-1 div.sk-item {position: relative;z-index: 1;}#sk-container-id-1 div.sk-parallel {display: flex;align-items: stretch;justify-content: center;background-color: white;position: relative;}#sk-container-id-1 div.sk-item::before, #sk-container-id-1 div.sk-parallel-item::before {content: \"\";position: absolute;border-left: 1px solid gray;box-sizing: border-box;top: 0;bottom: 0;left: 50%;z-index: -1;}#sk-container-id-1 div.sk-parallel-item {display: flex;flex-direction: column;z-index: 1;position: relative;background-color: white;}#sk-container-id-1 div.sk-parallel-item:first-child::after {align-self: flex-end;width: 50%;}#sk-container-id-1 div.sk-parallel-item:last-child::after {align-self: flex-start;width: 50%;}#sk-container-id-1 div.sk-parallel-item:only-child::after {width: 0;}#sk-container-id-1 div.sk-dashed-wrapped {border: 1px dashed gray;margin: 0 0.4em 0.5em 0.4em;box-sizing: border-box;padding-bottom: 0.4em;background-color: white;}#sk-container-id-1 div.sk-label label {font-family: monospace;font-weight: bold;display: inline-block;line-height: 1.2em;}#sk-container-id-1 div.sk-label-container {text-align: center;}#sk-container-id-1 div.sk-container {/* jupyter's `normalize.less` sets `[hidden] { display: none; }` but bootstrap.min.css set `[hidden] { display: none !important; }` so we also need the `!important` here to be able to override the default hidden behavior on the sphinx rendered scikit-learn.org. See: https://github.com/scikit-learn/scikit-learn/issues/21755 */display: inline-block !important;position: relative;}#sk-container-id-1 div.sk-text-repr-fallback {display: none;}</style><div id=\"sk-container-id-1\" class=\"sk-top-container\"><div class=\"sk-text-repr-fallback\"><pre>Pipeline(steps=[(&#x27;std_scaler&#x27;, StandardScaler()), (&#x27;model&#x27;, None)])</pre><b>In a Jupyter environment, please rerun this cell to show the HTML representation or trust the notebook. <br />On GitHub, the HTML representation is unable to render, please try loading this page with nbviewer.org.</b></div><div class=\"sk-container\" hidden><div class=\"sk-item sk-dashed-wrapped\"><div class=\"sk-label-container\"><div class=\"sk-label sk-toggleable\"><input class=\"sk-toggleable__control sk-hidden--visually\" id=\"sk-estimator-id-1\" type=\"checkbox\" ><label for=\"sk-estimator-id-1\" class=\"sk-toggleable__label sk-toggleable__label-arrow\">Pipeline</label><div class=\"sk-toggleable__content\"><pre>Pipeline(steps=[(&#x27;std_scaler&#x27;, StandardScaler()), (&#x27;model&#x27;, None)])</pre></div></div></div><div class=\"sk-serial\"><div class=\"sk-item\"><div class=\"sk-estimator sk-toggleable\"><input class=\"sk-toggleable__control sk-hidden--visually\" id=\"sk-estimator-id-2\" type=\"checkbox\" ><label for=\"sk-estimator-id-2\" class=\"sk-toggleable__label sk-toggleable__label-arrow\">StandardScaler</label><div class=\"sk-toggleable__content\"><pre>StandardScaler()</pre></div></div></div><div class=\"sk-item\"><div class=\"sk-estimator sk-toggleable\"><input class=\"sk-toggleable__control sk-hidden--visually\" id=\"sk-estimator-id-3\" type=\"checkbox\" ><label for=\"sk-estimator-id-3\" class=\"sk-toggleable__label sk-toggleable__label-arrow\">None</label><div class=\"sk-toggleable__content\"><pre>None</pre></div></div></div></div></div></div></div>"
     },
     "execution_count": 6,
     "metadata": {},
     "output_type": "execute_result"
    }
   ],
   "source": [
    "from sklearn.pipeline import Pipeline\n",
    "from sklearn.preprocessing import MinMaxScaler, StandardScaler\n",
    "\n",
    "\n",
    "def make_pipeline():\n",
    "    return Pipeline([\n",
    "        #('mms', MinMaxScaler()),\n",
    "        ('std_scaler', StandardScaler()),\n",
    "        ('model', get_chosen_model(ALGORITHM))\n",
    "    ])\n",
    "\n",
    "\n",
    "starter_pipe = make_pipeline()\n",
    "starter_pipe"
   ]
  },
  {
   "cell_type": "code",
   "execution_count": 7,
   "metadata": {
    "execution": {
     "iopub.execute_input": "2022-11-16T13:53:45.125489Z",
     "iopub.status.busy": "2022-11-16T13:53:45.125277Z",
     "iopub.status.idle": "2022-11-16T13:53:45.130895Z",
     "shell.execute_reply": "2022-11-16T13:53:45.130188Z",
     "shell.execute_reply.started": "2022-11-16T13:53:45.125470Z"
    }
   },
   "outputs": [],
   "source": [
    "def get_source_dataframe(rows=cutdown_rows, folder_prefix='../../../'):\n",
    "    retrieval_type = None\n",
    "\n",
    "    filename = f'df_listings_v{VERSION}.csv'\n",
    "    remote_pathname = f'https://raw.githubusercontent.com/jayportfolio/capstone_streamlit/main/data/final/{filename}'\n",
    "    df_pathname_raw = folder_prefix + f'data/source/{filename}'\n",
    "    df_pathname_tidy = folder_prefix + f'data/final/{filename}'\n",
    "\n",
    "    if cloud_run:\n",
    "        inDF = pd.read_csv(remote_pathname, on_bad_lines='error', index_col=0)\n",
    "        retrieval_type = 'tidy'\n",
    "        print('loaded data from', folder_prefix + remote_pathname)\n",
    "    else:\n",
    "        inDF = pd.read_csv(df_pathname_tidy, on_bad_lines='error', index_col=0)\n",
    "        retrieval_type = 'tidy'\n",
    "        print('loaded data from', df_pathname_tidy)\n",
    "\n",
    "    if rows and rows > 0:\n",
    "        inDF = inDF[:rows]\n",
    "    return inDF, retrieval_type"
   ]
  },
  {
   "cell_type": "code",
   "execution_count": 8,
   "metadata": {
    "execution": {
     "iopub.execute_input": "2022-11-16T13:53:45.132049Z",
     "iopub.status.busy": "2022-11-16T13:53:45.131848Z",
     "iopub.status.idle": "2022-11-16T13:53:45.525582Z",
     "shell.execute_reply": "2022-11-16T13:53:45.524903Z",
     "shell.execute_reply.started": "2022-11-16T13:53:45.132030Z"
    }
   },
   "outputs": [
    {
     "name": "stdout",
     "output_type": "stream",
     "text": [
      "loaded data from ../../../data/final/df_listings_v11.csv\n",
      "(46871, 81)\n"
     ]
    }
   ],
   "source": [
    "df, retrieval_type = get_source_dataframe(folder_prefix='../../../')\n",
    "df_orig = df.copy()\n",
    "\n",
    "if retrieval_type != 'tidy':\n",
    "    df = tidy_dataset(df, version=int(VERSION))\n",
    "    df = feature_engineer(df, version=int(VERSION))\n",
    "\n",
    "    df = df[columns]\n",
    "\n",
    "print(df.shape)"
   ]
  },
  {
   "cell_type": "code",
   "execution_count": 9,
   "metadata": {
    "execution": {
     "iopub.execute_input": "2022-11-16T13:53:45.526718Z",
     "iopub.status.busy": "2022-11-16T13:53:45.526472Z",
     "iopub.status.idle": "2022-11-16T13:53:45.548777Z",
     "shell.execute_reply": "2022-11-16T13:53:45.548195Z",
     "shell.execute_reply.started": "2022-11-16T13:53:45.526696Z"
    }
   },
   "outputs": [
    {
     "data": {
      "text/plain": "             Price  bedrooms  bathrooms  nearestStation  location.latitude  \\\niddd                                                                         \n14520525  550000.0       3.0        1.0        0.274316          51.529950   \n27953107  400000.0       2.0        2.0        0.305845          51.549390   \n33593487  579950.0       2.0        1.0        0.438045          51.447180   \n35271294  370000.0       2.0        1.0        0.399307          51.449568   \n35429088  599950.0       2.0        1.0        0.238187          51.577030   \n44749111  475000.0       2.0        1.0        0.410550          51.370050   \n46204665  435000.0       3.0        2.0        0.314779          51.539070   \n49020666  200000.0       1.0        1.0        0.875911          51.539959   \n49036279  275000.0       2.0        1.0        0.474368          51.541780   \n49303873  450000.0       3.0        2.0        0.577040          51.524880   \n52064391  349950.0       2.0        2.0        0.212734          51.470800   \n52187854  450000.0       1.0        1.0        0.446802          51.527199   \n52675628  490000.0       2.0        2.0        0.215040          51.501114   \n52845963  200000.0       2.0        1.0        0.650562          51.398040   \n52913496  220000.0       1.0        1.0        0.945991          51.539383   \n53609433  489995.0       1.0        1.0        0.087081          51.532620   \n53649578  284950.0       1.0        1.0        0.806597          51.479890   \n53938989  450000.0       2.0        1.0        0.775203          51.658287   \n54713232  332000.0       2.0        1.0        0.319226          51.612300   \n54904122  365000.0       2.0        1.0        0.260722          51.593595   \n54991934  430000.0       3.0        1.0        0.497268          51.528720   \n55043230  260000.0       1.0        1.0        0.384607          51.544430   \n55187658  430000.0       2.0        2.0        0.289033          51.507570   \n55531367  599950.0       2.0        1.0        0.406725          51.467410   \n55768232  550000.0       2.0        1.0        0.478349          51.472890   \n55805965  280000.0       2.0        1.0        0.742859          51.520910   \n55839051  599950.0       2.0        1.0        0.259168          51.579186   \n55940994  385000.0       2.0        2.0        0.403987          51.376930   \n56449305  380000.0       2.0        1.0        0.310271          51.600483   \n57221413  475000.0       3.0        2.0        0.409784          51.497260   \n\n          location.longitude  latitude_deviation  longitude_deviation  \\\niddd                                                                    \n14520525           -0.207020            0.030230             0.102600   \n27953107           -0.482600            0.049670             0.378180   \n33593487           -0.338770            0.052540             0.234350   \n35271294           -0.140154            0.050152             0.035734   \n35429088           -0.141230            0.077310             0.036810   \n44749111           -0.212410            0.129670             0.107990   \n46204665           -0.198935            0.039350             0.094515   \n49020666           -0.380863            0.040239             0.276443   \n49036279            0.037890            0.042060             0.142310   \n49303873            0.187200            0.025160             0.291620   \n52064391           -0.361820            0.028920             0.257400   \n52187854           -0.202898            0.027479             0.098478   \n52675628            0.026315            0.001394             0.130735   \n52845963           -0.076812            0.101680             0.027608   \n52913496           -0.382239            0.039663             0.277819   \n53609433           -0.107860            0.032900             0.003440   \n53649578           -0.078500            0.019830             0.025920   \n53938989           -0.207902            0.158567             0.103482   \n54713232           -0.119860            0.112580             0.015440   \n54904122            0.022046            0.093875             0.126466   \n54991934            0.039180            0.029000             0.143600   \n55043230            0.014500            0.044710             0.118920   \n55187658            0.078030            0.007850             0.182450   \n55531367           -0.079170            0.032310             0.025250   \n55768232           -0.078940            0.026830             0.025480   \n55805965            0.022680            0.021190             0.127100   \n55839051           -0.209020            0.079466             0.104600   \n55940994           -0.238870            0.122790             0.134450   \n56449305           -0.062096            0.100763             0.042324   \n57221413           -0.422530            0.002460             0.318110   \n\n          tenure.tenureType  feature__1 bedroom  ...  feature__2__en suite  \\\niddd                                             ...                         \n14520525          LEASEHOLD                   0  ...                 False   \n27953107          LEASEHOLD                   0  ...                 False   \n33593487           FREEHOLD                   0  ...                 False   \n35271294          LEASEHOLD                   0  ...                 False   \n35429088                NaN                   0  ...                 False   \n44749111           FREEHOLD                   0  ...                 False   \n46204665          LEASEHOLD                   0  ...                  True   \n49020666          LEASEHOLD                   0  ...                 False   \n49036279          LEASEHOLD                   0  ...                 False   \n49303873           FREEHOLD                   0  ...                 False   \n52064391          LEASEHOLD                   0  ...                  True   \n52187854          LEASEHOLD                   0  ...                 False   \n52675628                NaN                   0  ...                 False   \n52845963          LEASEHOLD                   0  ...                 False   \n52913496          LEASEHOLD                   0  ...                 False   \n53609433          LEASEHOLD                   0  ...                 False   \n53649578                NaN                   0  ...                 False   \n53938989           FREEHOLD                   0  ...                 False   \n54713232  SHARE_OF_FREEHOLD                   0  ...                 False   \n54904122  SHARE_OF_FREEHOLD                   0  ...                 False   \n54991934           FREEHOLD                   0  ...                 False   \n55043230          LEASEHOLD                   0  ...                 False   \n55187658          LEASEHOLD                   0  ...                  True   \n55531367                NaN                   0  ...                 False   \n55768232                NaN                   0  ...                 False   \n55805965          LEASEHOLD                   0  ...                 False   \n55839051          LEASEHOLD                   0  ...                 False   \n55940994          LEASEHOLD                   0  ...                 False   \n56449305           FREEHOLD                   0  ...                 False   \n57221413           FREEHOLD                   0  ...                 False   \n\n          feature__2__penthouse  feature__2__balcony  \\\niddd                                                   \n14520525                  False                 True   \n27953107                  False                 True   \n33593487                  False                False   \n35271294                  False                 True   \n35429088                  False                False   \n44749111                  False                False   \n46204665                  False                False   \n49020666                  False                False   \n49036279                  False                False   \n49303873                  False                False   \n52064391                  False                 True   \n52187854                  False                False   \n52675628                  False                False   \n52845963                  False                False   \n52913496                  False                False   \n53609433                  False                False   \n53649578                  False                False   \n53938989                  False                False   \n54713232                  False                False   \n54904122                  False                False   \n54991934                  False                False   \n55043230                  False                False   \n55187658                  False                False   \n55531367                  False                 True   \n55768232                  False                False   \n55805965                  False                False   \n55839051                  False                False   \n55940994                  False                False   \n56449305                  False                False   \n57221413                  False                False   \n\n          feature__2__double-glazing  feature__2__double glazing  \\\niddd                                                               \n14520525                       False                       False   \n27953107                       False                       False   \n33593487                       False                       False   \n35271294                       False                        True   \n35429088                       False                       False   \n44749111                       False                        True   \n46204665                       False                       False   \n49020666                       False                       False   \n49036279                       False                       False   \n49303873                       False                       False   \n52064391                       False                       False   \n52187854                       False                       False   \n52675628                       False                       False   \n52845963                       False                       False   \n52913496                       False                       False   \n53609433                       False                       False   \n53649578                       False                       False   \n53938989                       False                       False   \n54713232                       False                       False   \n54904122                       False                       False   \n54991934                       False                       False   \n55043230                       False                       False   \n55187658                       False                       False   \n55531367                       False                       False   \n55768232                       False                       False   \n55805965                       False                        True   \n55839051                       False                       False   \n55940994                       False                        True   \n56449305                       False                       False   \n57221413                       False                       False   \n\n          feature__2__off-road parking  feature__2__security  \\\niddd                                                           \n14520525                         False                 False   \n27953107                         False                 False   \n33593487                         False                 False   \n35271294                         False                 False   \n35429088                         False                 False   \n44749111                         False                 False   \n46204665                         False                 False   \n49020666                         False                 False   \n49036279                         False                 False   \n49303873                         False                 False   \n52064391                         False                 False   \n52187854                         False                 False   \n52675628                         False                 False   \n52845963                         False                 False   \n52913496                         False                 False   \n53609433                         False                 False   \n53649578                         False                 False   \n53938989                         False                 False   \n54713232                         False                 False   \n54904122                         False                 False   \n54991934                         False                 False   \n55043230                         False                 False   \n55187658                         False                  True   \n55531367                         False                 False   \n55768232                         False                 False   \n55805965                         False                 False   \n55839051                         False                 False   \n55940994                         False                 False   \n56449305                         False                 False   \n57221413                         False                 False   \n\n          feature__2__patio  feature__2__underfloor heating  \\\niddd                                                          \n14520525              False                           False   \n27953107              False                           False   \n33593487              False                           False   \n35271294              False                           False   \n35429088              False                           False   \n44749111              False                           False   \n46204665              False                           False   \n49020666              False                           False   \n49036279              False                           False   \n49303873              False                           False   \n52064391              False                           False   \n52187854              False                           False   \n52675628              False                           False   \n52845963              False                           False   \n52913496              False                           False   \n53609433              False                           False   \n53649578              False                           False   \n53938989              False                           False   \n54713232              False                           False   \n54904122              False                           False   \n54991934              False                           False   \n55043230              False                           False   \n55187658              False                           False   \n55531367              False                           False   \n55768232              False                           False   \n55805965              False                           False   \n55839051              False                           False   \n55940994              False                           False   \n56449305              False                           False   \n57221413              False                           False   \n\n          feature__2__marble  \niddd                          \n14520525               False  \n27953107               False  \n33593487               False  \n35271294               False  \n35429088               False  \n44749111               False  \n46204665               False  \n49020666               False  \n49036279               False  \n49303873               False  \n52064391               False  \n52187854               False  \n52675628               False  \n52845963               False  \n52913496               False  \n53609433               False  \n53649578               False  \n53938989               False  \n54713232               False  \n54904122               False  \n54991934               False  \n55043230               False  \n55187658               False  \n55531367               False  \n55768232               False  \n55805965               False  \n55839051               False  \n55940994               False  \n56449305               False  \n57221413               False  \n\n[30 rows x 81 columns]",
      "text/html": "<div>\n<style scoped>\n    .dataframe tbody tr th:only-of-type {\n        vertical-align: middle;\n    }\n\n    .dataframe tbody tr th {\n        vertical-align: top;\n    }\n\n    .dataframe thead th {\n        text-align: right;\n    }\n</style>\n<table border=\"1\" class=\"dataframe\">\n  <thead>\n    <tr style=\"text-align: right;\">\n      <th></th>\n      <th>Price</th>\n      <th>bedrooms</th>\n      <th>bathrooms</th>\n      <th>nearestStation</th>\n      <th>location.latitude</th>\n      <th>location.longitude</th>\n      <th>latitude_deviation</th>\n      <th>longitude_deviation</th>\n      <th>tenure.tenureType</th>\n      <th>feature__1 bedroom</th>\n      <th>...</th>\n      <th>feature__2__en suite</th>\n      <th>feature__2__penthouse</th>\n      <th>feature__2__balcony</th>\n      <th>feature__2__double-glazing</th>\n      <th>feature__2__double glazing</th>\n      <th>feature__2__off-road parking</th>\n      <th>feature__2__security</th>\n      <th>feature__2__patio</th>\n      <th>feature__2__underfloor heating</th>\n      <th>feature__2__marble</th>\n    </tr>\n    <tr>\n      <th>iddd</th>\n      <th></th>\n      <th></th>\n      <th></th>\n      <th></th>\n      <th></th>\n      <th></th>\n      <th></th>\n      <th></th>\n      <th></th>\n      <th></th>\n      <th></th>\n      <th></th>\n      <th></th>\n      <th></th>\n      <th></th>\n      <th></th>\n      <th></th>\n      <th></th>\n      <th></th>\n      <th></th>\n      <th></th>\n    </tr>\n  </thead>\n  <tbody>\n    <tr>\n      <th>14520525</th>\n      <td>550000.0</td>\n      <td>3.0</td>\n      <td>1.0</td>\n      <td>0.274316</td>\n      <td>51.529950</td>\n      <td>-0.207020</td>\n      <td>0.030230</td>\n      <td>0.102600</td>\n      <td>LEASEHOLD</td>\n      <td>0</td>\n      <td>...</td>\n      <td>False</td>\n      <td>False</td>\n      <td>True</td>\n      <td>False</td>\n      <td>False</td>\n      <td>False</td>\n      <td>False</td>\n      <td>False</td>\n      <td>False</td>\n      <td>False</td>\n    </tr>\n    <tr>\n      <th>27953107</th>\n      <td>400000.0</td>\n      <td>2.0</td>\n      <td>2.0</td>\n      <td>0.305845</td>\n      <td>51.549390</td>\n      <td>-0.482600</td>\n      <td>0.049670</td>\n      <td>0.378180</td>\n      <td>LEASEHOLD</td>\n      <td>0</td>\n      <td>...</td>\n      <td>False</td>\n      <td>False</td>\n      <td>True</td>\n      <td>False</td>\n      <td>False</td>\n      <td>False</td>\n      <td>False</td>\n      <td>False</td>\n      <td>False</td>\n      <td>False</td>\n    </tr>\n    <tr>\n      <th>33593487</th>\n      <td>579950.0</td>\n      <td>2.0</td>\n      <td>1.0</td>\n      <td>0.438045</td>\n      <td>51.447180</td>\n      <td>-0.338770</td>\n      <td>0.052540</td>\n      <td>0.234350</td>\n      <td>FREEHOLD</td>\n      <td>0</td>\n      <td>...</td>\n      <td>False</td>\n      <td>False</td>\n      <td>False</td>\n      <td>False</td>\n      <td>False</td>\n      <td>False</td>\n      <td>False</td>\n      <td>False</td>\n      <td>False</td>\n      <td>False</td>\n    </tr>\n    <tr>\n      <th>35271294</th>\n      <td>370000.0</td>\n      <td>2.0</td>\n      <td>1.0</td>\n      <td>0.399307</td>\n      <td>51.449568</td>\n      <td>-0.140154</td>\n      <td>0.050152</td>\n      <td>0.035734</td>\n      <td>LEASEHOLD</td>\n      <td>0</td>\n      <td>...</td>\n      <td>False</td>\n      <td>False</td>\n      <td>True</td>\n      <td>False</td>\n      <td>True</td>\n      <td>False</td>\n      <td>False</td>\n      <td>False</td>\n      <td>False</td>\n      <td>False</td>\n    </tr>\n    <tr>\n      <th>35429088</th>\n      <td>599950.0</td>\n      <td>2.0</td>\n      <td>1.0</td>\n      <td>0.238187</td>\n      <td>51.577030</td>\n      <td>-0.141230</td>\n      <td>0.077310</td>\n      <td>0.036810</td>\n      <td>NaN</td>\n      <td>0</td>\n      <td>...</td>\n      <td>False</td>\n      <td>False</td>\n      <td>False</td>\n      <td>False</td>\n      <td>False</td>\n      <td>False</td>\n      <td>False</td>\n      <td>False</td>\n      <td>False</td>\n      <td>False</td>\n    </tr>\n    <tr>\n      <th>44749111</th>\n      <td>475000.0</td>\n      <td>2.0</td>\n      <td>1.0</td>\n      <td>0.410550</td>\n      <td>51.370050</td>\n      <td>-0.212410</td>\n      <td>0.129670</td>\n      <td>0.107990</td>\n      <td>FREEHOLD</td>\n      <td>0</td>\n      <td>...</td>\n      <td>False</td>\n      <td>False</td>\n      <td>False</td>\n      <td>False</td>\n      <td>True</td>\n      <td>False</td>\n      <td>False</td>\n      <td>False</td>\n      <td>False</td>\n      <td>False</td>\n    </tr>\n    <tr>\n      <th>46204665</th>\n      <td>435000.0</td>\n      <td>3.0</td>\n      <td>2.0</td>\n      <td>0.314779</td>\n      <td>51.539070</td>\n      <td>-0.198935</td>\n      <td>0.039350</td>\n      <td>0.094515</td>\n      <td>LEASEHOLD</td>\n      <td>0</td>\n      <td>...</td>\n      <td>True</td>\n      <td>False</td>\n      <td>False</td>\n      <td>False</td>\n      <td>False</td>\n      <td>False</td>\n      <td>False</td>\n      <td>False</td>\n      <td>False</td>\n      <td>False</td>\n    </tr>\n    <tr>\n      <th>49020666</th>\n      <td>200000.0</td>\n      <td>1.0</td>\n      <td>1.0</td>\n      <td>0.875911</td>\n      <td>51.539959</td>\n      <td>-0.380863</td>\n      <td>0.040239</td>\n      <td>0.276443</td>\n      <td>LEASEHOLD</td>\n      <td>0</td>\n      <td>...</td>\n      <td>False</td>\n      <td>False</td>\n      <td>False</td>\n      <td>False</td>\n      <td>False</td>\n      <td>False</td>\n      <td>False</td>\n      <td>False</td>\n      <td>False</td>\n      <td>False</td>\n    </tr>\n    <tr>\n      <th>49036279</th>\n      <td>275000.0</td>\n      <td>2.0</td>\n      <td>1.0</td>\n      <td>0.474368</td>\n      <td>51.541780</td>\n      <td>0.037890</td>\n      <td>0.042060</td>\n      <td>0.142310</td>\n      <td>LEASEHOLD</td>\n      <td>0</td>\n      <td>...</td>\n      <td>False</td>\n      <td>False</td>\n      <td>False</td>\n      <td>False</td>\n      <td>False</td>\n      <td>False</td>\n      <td>False</td>\n      <td>False</td>\n      <td>False</td>\n      <td>False</td>\n    </tr>\n    <tr>\n      <th>49303873</th>\n      <td>450000.0</td>\n      <td>3.0</td>\n      <td>2.0</td>\n      <td>0.577040</td>\n      <td>51.524880</td>\n      <td>0.187200</td>\n      <td>0.025160</td>\n      <td>0.291620</td>\n      <td>FREEHOLD</td>\n      <td>0</td>\n      <td>...</td>\n      <td>False</td>\n      <td>False</td>\n      <td>False</td>\n      <td>False</td>\n      <td>False</td>\n      <td>False</td>\n      <td>False</td>\n      <td>False</td>\n      <td>False</td>\n      <td>False</td>\n    </tr>\n    <tr>\n      <th>52064391</th>\n      <td>349950.0</td>\n      <td>2.0</td>\n      <td>2.0</td>\n      <td>0.212734</td>\n      <td>51.470800</td>\n      <td>-0.361820</td>\n      <td>0.028920</td>\n      <td>0.257400</td>\n      <td>LEASEHOLD</td>\n      <td>0</td>\n      <td>...</td>\n      <td>True</td>\n      <td>False</td>\n      <td>True</td>\n      <td>False</td>\n      <td>False</td>\n      <td>False</td>\n      <td>False</td>\n      <td>False</td>\n      <td>False</td>\n      <td>False</td>\n    </tr>\n    <tr>\n      <th>52187854</th>\n      <td>450000.0</td>\n      <td>1.0</td>\n      <td>1.0</td>\n      <td>0.446802</td>\n      <td>51.527199</td>\n      <td>-0.202898</td>\n      <td>0.027479</td>\n      <td>0.098478</td>\n      <td>LEASEHOLD</td>\n      <td>0</td>\n      <td>...</td>\n      <td>False</td>\n      <td>False</td>\n      <td>False</td>\n      <td>False</td>\n      <td>False</td>\n      <td>False</td>\n      <td>False</td>\n      <td>False</td>\n      <td>False</td>\n      <td>False</td>\n    </tr>\n    <tr>\n      <th>52675628</th>\n      <td>490000.0</td>\n      <td>2.0</td>\n      <td>2.0</td>\n      <td>0.215040</td>\n      <td>51.501114</td>\n      <td>0.026315</td>\n      <td>0.001394</td>\n      <td>0.130735</td>\n      <td>NaN</td>\n      <td>0</td>\n      <td>...</td>\n      <td>False</td>\n      <td>False</td>\n      <td>False</td>\n      <td>False</td>\n      <td>False</td>\n      <td>False</td>\n      <td>False</td>\n      <td>False</td>\n      <td>False</td>\n      <td>False</td>\n    </tr>\n    <tr>\n      <th>52845963</th>\n      <td>200000.0</td>\n      <td>2.0</td>\n      <td>1.0</td>\n      <td>0.650562</td>\n      <td>51.398040</td>\n      <td>-0.076812</td>\n      <td>0.101680</td>\n      <td>0.027608</td>\n      <td>LEASEHOLD</td>\n      <td>0</td>\n      <td>...</td>\n      <td>False</td>\n      <td>False</td>\n      <td>False</td>\n      <td>False</td>\n      <td>False</td>\n      <td>False</td>\n      <td>False</td>\n      <td>False</td>\n      <td>False</td>\n      <td>False</td>\n    </tr>\n    <tr>\n      <th>52913496</th>\n      <td>220000.0</td>\n      <td>1.0</td>\n      <td>1.0</td>\n      <td>0.945991</td>\n      <td>51.539383</td>\n      <td>-0.382239</td>\n      <td>0.039663</td>\n      <td>0.277819</td>\n      <td>LEASEHOLD</td>\n      <td>0</td>\n      <td>...</td>\n      <td>False</td>\n      <td>False</td>\n      <td>False</td>\n      <td>False</td>\n      <td>False</td>\n      <td>False</td>\n      <td>False</td>\n      <td>False</td>\n      <td>False</td>\n      <td>False</td>\n    </tr>\n    <tr>\n      <th>53609433</th>\n      <td>489995.0</td>\n      <td>1.0</td>\n      <td>1.0</td>\n      <td>0.087081</td>\n      <td>51.532620</td>\n      <td>-0.107860</td>\n      <td>0.032900</td>\n      <td>0.003440</td>\n      <td>LEASEHOLD</td>\n      <td>0</td>\n      <td>...</td>\n      <td>False</td>\n      <td>False</td>\n      <td>False</td>\n      <td>False</td>\n      <td>False</td>\n      <td>False</td>\n      <td>False</td>\n      <td>False</td>\n      <td>False</td>\n      <td>False</td>\n    </tr>\n    <tr>\n      <th>53649578</th>\n      <td>284950.0</td>\n      <td>1.0</td>\n      <td>1.0</td>\n      <td>0.806597</td>\n      <td>51.479890</td>\n      <td>-0.078500</td>\n      <td>0.019830</td>\n      <td>0.025920</td>\n      <td>NaN</td>\n      <td>0</td>\n      <td>...</td>\n      <td>False</td>\n      <td>False</td>\n      <td>False</td>\n      <td>False</td>\n      <td>False</td>\n      <td>False</td>\n      <td>False</td>\n      <td>False</td>\n      <td>False</td>\n      <td>False</td>\n    </tr>\n    <tr>\n      <th>53938989</th>\n      <td>450000.0</td>\n      <td>2.0</td>\n      <td>1.0</td>\n      <td>0.775203</td>\n      <td>51.658287</td>\n      <td>-0.207902</td>\n      <td>0.158567</td>\n      <td>0.103482</td>\n      <td>FREEHOLD</td>\n      <td>0</td>\n      <td>...</td>\n      <td>False</td>\n      <td>False</td>\n      <td>False</td>\n      <td>False</td>\n      <td>False</td>\n      <td>False</td>\n      <td>False</td>\n      <td>False</td>\n      <td>False</td>\n      <td>False</td>\n    </tr>\n    <tr>\n      <th>54713232</th>\n      <td>332000.0</td>\n      <td>2.0</td>\n      <td>1.0</td>\n      <td>0.319226</td>\n      <td>51.612300</td>\n      <td>-0.119860</td>\n      <td>0.112580</td>\n      <td>0.015440</td>\n      <td>SHARE_OF_FREEHOLD</td>\n      <td>0</td>\n      <td>...</td>\n      <td>False</td>\n      <td>False</td>\n      <td>False</td>\n      <td>False</td>\n      <td>False</td>\n      <td>False</td>\n      <td>False</td>\n      <td>False</td>\n      <td>False</td>\n      <td>False</td>\n    </tr>\n    <tr>\n      <th>54904122</th>\n      <td>365000.0</td>\n      <td>2.0</td>\n      <td>1.0</td>\n      <td>0.260722</td>\n      <td>51.593595</td>\n      <td>0.022046</td>\n      <td>0.093875</td>\n      <td>0.126466</td>\n      <td>SHARE_OF_FREEHOLD</td>\n      <td>0</td>\n      <td>...</td>\n      <td>False</td>\n      <td>False</td>\n      <td>False</td>\n      <td>False</td>\n      <td>False</td>\n      <td>False</td>\n      <td>False</td>\n      <td>False</td>\n      <td>False</td>\n      <td>False</td>\n    </tr>\n    <tr>\n      <th>54991934</th>\n      <td>430000.0</td>\n      <td>3.0</td>\n      <td>1.0</td>\n      <td>0.497268</td>\n      <td>51.528720</td>\n      <td>0.039180</td>\n      <td>0.029000</td>\n      <td>0.143600</td>\n      <td>FREEHOLD</td>\n      <td>0</td>\n      <td>...</td>\n      <td>False</td>\n      <td>False</td>\n      <td>False</td>\n      <td>False</td>\n      <td>False</td>\n      <td>False</td>\n      <td>False</td>\n      <td>False</td>\n      <td>False</td>\n      <td>False</td>\n    </tr>\n    <tr>\n      <th>55043230</th>\n      <td>260000.0</td>\n      <td>1.0</td>\n      <td>1.0</td>\n      <td>0.384607</td>\n      <td>51.544430</td>\n      <td>0.014500</td>\n      <td>0.044710</td>\n      <td>0.118920</td>\n      <td>LEASEHOLD</td>\n      <td>0</td>\n      <td>...</td>\n      <td>False</td>\n      <td>False</td>\n      <td>False</td>\n      <td>False</td>\n      <td>False</td>\n      <td>False</td>\n      <td>False</td>\n      <td>False</td>\n      <td>False</td>\n      <td>False</td>\n    </tr>\n    <tr>\n      <th>55187658</th>\n      <td>430000.0</td>\n      <td>2.0</td>\n      <td>2.0</td>\n      <td>0.289033</td>\n      <td>51.507570</td>\n      <td>0.078030</td>\n      <td>0.007850</td>\n      <td>0.182450</td>\n      <td>LEASEHOLD</td>\n      <td>0</td>\n      <td>...</td>\n      <td>True</td>\n      <td>False</td>\n      <td>False</td>\n      <td>False</td>\n      <td>False</td>\n      <td>False</td>\n      <td>True</td>\n      <td>False</td>\n      <td>False</td>\n      <td>False</td>\n    </tr>\n    <tr>\n      <th>55531367</th>\n      <td>599950.0</td>\n      <td>2.0</td>\n      <td>1.0</td>\n      <td>0.406725</td>\n      <td>51.467410</td>\n      <td>-0.079170</td>\n      <td>0.032310</td>\n      <td>0.025250</td>\n      <td>NaN</td>\n      <td>0</td>\n      <td>...</td>\n      <td>False</td>\n      <td>False</td>\n      <td>True</td>\n      <td>False</td>\n      <td>False</td>\n      <td>False</td>\n      <td>False</td>\n      <td>False</td>\n      <td>False</td>\n      <td>False</td>\n    </tr>\n    <tr>\n      <th>55768232</th>\n      <td>550000.0</td>\n      <td>2.0</td>\n      <td>1.0</td>\n      <td>0.478349</td>\n      <td>51.472890</td>\n      <td>-0.078940</td>\n      <td>0.026830</td>\n      <td>0.025480</td>\n      <td>NaN</td>\n      <td>0</td>\n      <td>...</td>\n      <td>False</td>\n      <td>False</td>\n      <td>False</td>\n      <td>False</td>\n      <td>False</td>\n      <td>False</td>\n      <td>False</td>\n      <td>False</td>\n      <td>False</td>\n      <td>False</td>\n    </tr>\n    <tr>\n      <th>55805965</th>\n      <td>280000.0</td>\n      <td>2.0</td>\n      <td>1.0</td>\n      <td>0.742859</td>\n      <td>51.520910</td>\n      <td>0.022680</td>\n      <td>0.021190</td>\n      <td>0.127100</td>\n      <td>LEASEHOLD</td>\n      <td>0</td>\n      <td>...</td>\n      <td>False</td>\n      <td>False</td>\n      <td>False</td>\n      <td>False</td>\n      <td>True</td>\n      <td>False</td>\n      <td>False</td>\n      <td>False</td>\n      <td>False</td>\n      <td>False</td>\n    </tr>\n    <tr>\n      <th>55839051</th>\n      <td>599950.0</td>\n      <td>2.0</td>\n      <td>1.0</td>\n      <td>0.259168</td>\n      <td>51.579186</td>\n      <td>-0.209020</td>\n      <td>0.079466</td>\n      <td>0.104600</td>\n      <td>LEASEHOLD</td>\n      <td>0</td>\n      <td>...</td>\n      <td>False</td>\n      <td>False</td>\n      <td>False</td>\n      <td>False</td>\n      <td>False</td>\n      <td>False</td>\n      <td>False</td>\n      <td>False</td>\n      <td>False</td>\n      <td>False</td>\n    </tr>\n    <tr>\n      <th>55940994</th>\n      <td>385000.0</td>\n      <td>2.0</td>\n      <td>2.0</td>\n      <td>0.403987</td>\n      <td>51.376930</td>\n      <td>-0.238870</td>\n      <td>0.122790</td>\n      <td>0.134450</td>\n      <td>LEASEHOLD</td>\n      <td>0</td>\n      <td>...</td>\n      <td>False</td>\n      <td>False</td>\n      <td>False</td>\n      <td>False</td>\n      <td>True</td>\n      <td>False</td>\n      <td>False</td>\n      <td>False</td>\n      <td>False</td>\n      <td>False</td>\n    </tr>\n    <tr>\n      <th>56449305</th>\n      <td>380000.0</td>\n      <td>2.0</td>\n      <td>1.0</td>\n      <td>0.310271</td>\n      <td>51.600483</td>\n      <td>-0.062096</td>\n      <td>0.100763</td>\n      <td>0.042324</td>\n      <td>FREEHOLD</td>\n      <td>0</td>\n      <td>...</td>\n      <td>False</td>\n      <td>False</td>\n      <td>False</td>\n      <td>False</td>\n      <td>False</td>\n      <td>False</td>\n      <td>False</td>\n      <td>False</td>\n      <td>False</td>\n      <td>False</td>\n    </tr>\n    <tr>\n      <th>57221413</th>\n      <td>475000.0</td>\n      <td>3.0</td>\n      <td>2.0</td>\n      <td>0.409784</td>\n      <td>51.497260</td>\n      <td>-0.422530</td>\n      <td>0.002460</td>\n      <td>0.318110</td>\n      <td>FREEHOLD</td>\n      <td>0</td>\n      <td>...</td>\n      <td>False</td>\n      <td>False</td>\n      <td>False</td>\n      <td>False</td>\n      <td>False</td>\n      <td>False</td>\n      <td>False</td>\n      <td>False</td>\n      <td>False</td>\n      <td>False</td>\n    </tr>\n  </tbody>\n</table>\n<p>30 rows × 81 columns</p>\n</div>"
     },
     "execution_count": 9,
     "metadata": {},
     "output_type": "execute_result"
    }
   ],
   "source": [
    "df.head(30)"
   ]
  },
  {
   "cell_type": "code",
   "execution_count": 10,
   "metadata": {
    "execution": {
     "iopub.execute_input": "2022-11-16T13:53:45.549728Z",
     "iopub.status.busy": "2022-11-16T13:53:45.549524Z",
     "iopub.status.idle": "2022-11-16T13:53:45.561922Z",
     "shell.execute_reply": "2022-11-16T13:53:45.561366Z",
     "shell.execute_reply.started": "2022-11-16T13:53:45.549709Z"
    }
   },
   "outputs": [
    {
     "data": {
      "text/plain": "Price                             0\nbedrooms                          0\nbathrooms                         0\nnearestStation                    0\nlocation.latitude                 0\n                                 ..\nfeature__2__off-road parking      0\nfeature__2__security              0\nfeature__2__patio                 0\nfeature__2__underfloor heating    0\nfeature__2__marble                0\nLength: 81, dtype: int64"
     },
     "execution_count": 10,
     "metadata": {},
     "output_type": "execute_result"
    }
   ],
   "source": [
    "df.isnull().sum()"
   ]
  },
  {
   "cell_type": "code",
   "execution_count": 11,
   "metadata": {
    "execution": {
     "iopub.execute_input": "2022-11-16T13:53:45.562900Z",
     "iopub.status.busy": "2022-11-16T13:53:45.562697Z",
     "iopub.status.idle": "2022-11-16T13:53:45.641457Z",
     "shell.execute_reply": "2022-11-16T13:53:45.640840Z",
     "shell.execute_reply.started": "2022-11-16T13:53:45.562882Z"
    }
   },
   "outputs": [
    {
     "name": "stdout",
     "output_type": "stream",
     "text": [
      "<class 'pandas.core.frame.DataFrame'>\n",
      "Int64Index: 46871 entries, 14520525 to 126181118\n",
      "Data columns (total 81 columns):\n",
      " #   Column                              Non-Null Count  Dtype  \n",
      "---  ------                              --------------  -----  \n",
      " 0   Price                               46871 non-null  float64\n",
      " 1   bedrooms                            46871 non-null  float64\n",
      " 2   bathrooms                           46871 non-null  float64\n",
      " 3   nearestStation                      46871 non-null  float64\n",
      " 4   location.latitude                   46871 non-null  float64\n",
      " 5   location.longitude                  46871 non-null  float64\n",
      " 6   latitude_deviation                  46871 non-null  float64\n",
      " 7   longitude_deviation                 46871 non-null  float64\n",
      " 8   tenure.tenureType                   44127 non-null  object \n",
      " 9   feature__1 bedroom                  46871 non-null  int64  \n",
      " 10  feature__2 bedrooms                 46871 non-null  int64  \n",
      " 11  feature__2 double bedrooms          46871 non-null  int64  \n",
      " 12  feature__allocated parking          46871 non-null  int64  \n",
      " 13  feature__allocated parking space    46871 non-null  int64  \n",
      " 14  feature__balcony                    46871 non-null  int64  \n",
      " 15  feature__bathroom                   46871 non-null  int64  \n",
      " 16  feature__chain free                 46871 non-null  int64  \n",
      " 17  feature__close to local amenities   46871 non-null  int64  \n",
      " 18  feature__communal garden            46871 non-null  int64  \n",
      " 19  feature__communal gardens           46871 non-null  int64  \n",
      " 20  feature__double bedroom             46871 non-null  int64  \n",
      " 21  feature__double glazed              46871 non-null  int64  \n",
      " 22  feature__double glazing             46871 non-null  int64  \n",
      " 23  feature__epc rating c               46871 non-null  int64  \n",
      " 24  feature__epc rating d               46871 non-null  int64  \n",
      " 25  feature__excellent location         46871 non-null  int64  \n",
      " 26  feature__excellent transport links  46871 non-null  int64  \n",
      " 27  feature__family bathroom            46871 non-null  int64  \n",
      " 28  feature__first floor                46871 non-null  int64  \n",
      " 29  feature__fitted kitchen             46871 non-null  int64  \n",
      " 30  feature__garage                     46871 non-null  int64  \n",
      " 31  feature__garden                     46871 non-null  int64  \n",
      " 32  feature__gas central heating        46871 non-null  int64  \n",
      " 33  feature__great location             46871 non-null  int64  \n",
      " 34  feature__ground floor               46871 non-null  int64  \n",
      " 35  feature__kitchen                    46871 non-null  int64  \n",
      " 36  feature__leasehold                  46871 non-null  int64  \n",
      " 37  feature__long lease                 46871 non-null  int64  \n",
      " 38  feature__modern bathroom            46871 non-null  int64  \n",
      " 39  feature__modern kitchen             46871 non-null  int64  \n",
      " 40  feature__no chain                   46871 non-null  int64  \n",
      " 41  feature__no onward chain            46871 non-null  int64  \n",
      " 42  feature__off street parking         46871 non-null  int64  \n",
      " 43  feature__one bedroom                46871 non-null  int64  \n",
      " 44  feature__one double bedroom         46871 non-null  int64  \n",
      " 45  feature__parking                    46871 non-null  int64  \n",
      " 46  feature__private balcony            46871 non-null  int64  \n",
      " 47  feature__private garden             46871 non-null  int64  \n",
      " 48  feature__private rear garden        46871 non-null  int64  \n",
      " 49  feature__reception room             46871 non-null  int64  \n",
      " 50  feature__separate kitchen           46871 non-null  int64  \n",
      " 51  feature__share of freehold          46871 non-null  int64  \n",
      " 52  feature__three bedrooms             46871 non-null  int64  \n",
      " 53  feature__three double bedrooms      46871 non-null  int64  \n",
      " 54  feature__top floor                  46871 non-null  int64  \n",
      " 55  feature__two bathrooms              46871 non-null  int64  \n",
      " 56  feature__two bedrooms               46871 non-null  int64  \n",
      " 57  feature__two double bedrooms        46871 non-null  int64  \n",
      " 58  feature__two reception rooms        46871 non-null  int64  \n",
      " 59  feature__2__garden                  46871 non-null  bool   \n",
      " 60  feature__2__central heating         46871 non-null  bool   \n",
      " 61  feature__2__parking                 46871 non-null  bool   \n",
      " 62  feature__2__off road                46871 non-null  bool   \n",
      " 63  feature__2__shower                  46871 non-null  bool   \n",
      " 64  feature__2__cavity wall insulation  46871 non-null  bool   \n",
      " 65  feature__2__wall insulation         46871 non-null  bool   \n",
      " 66  feature__2__insulation              46871 non-null  bool   \n",
      " 67  feature__2__insulat                 46871 non-null  bool   \n",
      " 68  feature__2__dining room             46871 non-null  bool   \n",
      " 69  feature__2__garage                  46871 non-null  bool   \n",
      " 70  feature__2__en-suite                46871 non-null  bool   \n",
      " 71  feature__2__en suite                46871 non-null  bool   \n",
      " 72  feature__2__penthouse               46871 non-null  bool   \n",
      " 73  feature__2__balcony                 46871 non-null  bool   \n",
      " 74  feature__2__double-glazing          46871 non-null  bool   \n",
      " 75  feature__2__double glazing          46871 non-null  bool   \n",
      " 76  feature__2__off-road parking        46871 non-null  bool   \n",
      " 77  feature__2__security                46871 non-null  bool   \n",
      " 78  feature__2__patio                   46871 non-null  bool   \n",
      " 79  feature__2__underfloor heating      46871 non-null  bool   \n",
      " 80  feature__2__marble                  46871 non-null  bool   \n",
      "dtypes: bool(22), float64(8), int64(50), object(1)\n",
      "memory usage: 22.4+ MB\n"
     ]
    },
    {
     "data": {
      "text/plain": "                                      count           mean            std  \\\nPrice                               46871.0  425069.390775  107227.324906   \nbedrooms                            46871.0       1.992469       0.828837   \nbathrooms                           46871.0       1.182074       0.409879   \nnearestStation                      46871.0       0.438847       0.325942   \nlocation.latitude                   46871.0      51.497049       0.077085   \nlocation.longitude                  46871.0      -0.113269       0.156489   \nlatitude_deviation                  46871.0       0.064317       0.042573   \nlongitude_deviation                 46871.0       0.124202       0.095607   \nfeature__1 bedroom                  46871.0       0.010838       0.103542   \nfeature__2 bedrooms                 46871.0       0.015169       0.122402   \nfeature__2 double bedrooms          46871.0       0.013569       0.115695   \nfeature__allocated parking          46871.0       0.026946       0.161928   \nfeature__allocated parking space    46871.0       0.012993       0.113246   \nfeature__balcony                    46871.0       0.038617       0.193124   \nfeature__bathroom                   46871.0       0.026370       0.160502   \nfeature__chain free                 46871.0       0.120266       0.325800   \nfeature__close to local amenities   46871.0       0.011948       0.108848   \nfeature__communal garden            46871.0       0.018071       0.133209   \nfeature__communal gardens           46871.0       0.030381       0.171760   \nfeature__double bedroom             46871.0       0.012566       0.111395   \nfeature__double glazed              46871.0       0.012822       0.112509   \nfeature__double glazing             46871.0       0.025496       0.157761   \nfeature__epc rating c               46871.0       0.012140       0.109511   \nfeature__epc rating d               46871.0       0.013334       0.114704   \nfeature__excellent location         46871.0       0.013612       0.115874   \nfeature__excellent transport links  46871.0       0.016385       0.127122   \nfeature__family bathroom            46871.0       0.014593       0.120097   \nfeature__first floor                46871.0       0.026520       0.160676   \nfeature__fitted kitchen             46871.0       0.027224       0.162867   \nfeature__garage                     46871.0       0.030424       0.172001   \nfeature__garden                     46871.0       0.021015       0.144178   \nfeature__gas central heating        46871.0       0.028120       0.165961   \nfeature__great location             46871.0       0.015660       0.124158   \nfeature__ground floor               46871.0       0.028760       0.167132   \nfeature__kitchen                    46871.0       0.022850       0.149427   \nfeature__leasehold                  46871.0       0.014316       0.118970   \nfeature__long lease                 46871.0       0.039619       0.195175   \nfeature__modern bathroom            46871.0       0.015361       0.122986   \nfeature__modern kitchen             46871.0       0.014465       0.119400   \nfeature__no chain                   46871.0       0.026669       0.161380   \nfeature__no onward chain            46871.0       0.057925       0.233604   \nfeature__off street parking         46871.0       0.047300       0.212684   \nfeature__one bedroom                46871.0       0.041369       0.199144   \nfeature__one double bedroom         46871.0       0.027885       0.164645   \nfeature__parking                    46871.0       0.013398       0.115160   \nfeature__private balcony            46871.0       0.039662       0.195275   \nfeature__private garden             46871.0       0.034200       0.181980   \nfeature__private rear garden        46871.0       0.017367       0.131124   \nfeature__reception room             46871.0       0.014487       0.119843   \nfeature__separate kitchen           46871.0       0.020268       0.140918   \nfeature__share of freehold          46871.0       0.047663       0.213354   \nfeature__three bedrooms             46871.0       0.059120       0.235851   \nfeature__three double bedrooms      46871.0       0.012545       0.111301   \nfeature__top floor                  46871.0       0.013206       0.114159   \nfeature__two bathrooms              46871.0       0.031512       0.174943   \nfeature__two bedrooms               46871.0       0.071473       0.257616   \nfeature__two double bedrooms        46871.0       0.095411       0.293930   \nfeature__two reception rooms        46871.0       0.016449       0.127197   \n\n                                              min            25%  \\\nPrice                               100000.000000  349950.000000   \nbedrooms                                 1.000000       1.000000   \nbathrooms                                1.000000       1.000000   \nnearestStation                           0.000000       0.227169   \nlocation.latitude                       51.298317      51.438861   \nlocation.longitude                      -0.498315      -0.210796   \nlatitude_deviation                       0.000000       0.028876   \nlongitude_deviation                      0.000000       0.043560   \nfeature__1 bedroom                       0.000000       0.000000   \nfeature__2 bedrooms                      0.000000       0.000000   \nfeature__2 double bedrooms               0.000000       0.000000   \nfeature__allocated parking               0.000000       0.000000   \nfeature__allocated parking space         0.000000       0.000000   \nfeature__balcony                         0.000000       0.000000   \nfeature__bathroom                        0.000000       0.000000   \nfeature__chain free                      0.000000       0.000000   \nfeature__close to local amenities        0.000000       0.000000   \nfeature__communal garden                 0.000000       0.000000   \nfeature__communal gardens                0.000000       0.000000   \nfeature__double bedroom                  0.000000       0.000000   \nfeature__double glazed                   0.000000       0.000000   \nfeature__double glazing                  0.000000       0.000000   \nfeature__epc rating c                    0.000000       0.000000   \nfeature__epc rating d                    0.000000       0.000000   \nfeature__excellent location              0.000000       0.000000   \nfeature__excellent transport links       0.000000       0.000000   \nfeature__family bathroom                 0.000000       0.000000   \nfeature__first floor                     0.000000       0.000000   \nfeature__fitted kitchen                  0.000000       0.000000   \nfeature__garage                          0.000000       0.000000   \nfeature__garden                          0.000000       0.000000   \nfeature__gas central heating             0.000000       0.000000   \nfeature__great location                  0.000000       0.000000   \nfeature__ground floor                    0.000000       0.000000   \nfeature__kitchen                         0.000000       0.000000   \nfeature__leasehold                       0.000000       0.000000   \nfeature__long lease                      0.000000       0.000000   \nfeature__modern bathroom                 0.000000       0.000000   \nfeature__modern kitchen                  0.000000       0.000000   \nfeature__no chain                        0.000000       0.000000   \nfeature__no onward chain                 0.000000       0.000000   \nfeature__off street parking              0.000000       0.000000   \nfeature__one bedroom                     0.000000       0.000000   \nfeature__one double bedroom              0.000000       0.000000   \nfeature__parking                         0.000000       0.000000   \nfeature__private balcony                 0.000000       0.000000   \nfeature__private garden                  0.000000       0.000000   \nfeature__private rear garden             0.000000       0.000000   \nfeature__reception room                  0.000000       0.000000   \nfeature__separate kitchen                0.000000       0.000000   \nfeature__share of freehold               0.000000       0.000000   \nfeature__three bedrooms                  0.000000       0.000000   \nfeature__three double bedrooms           0.000000       0.000000   \nfeature__top floor                       0.000000       0.000000   \nfeature__two bathrooms                   0.000000       0.000000   \nfeature__two bedrooms                    0.000000       0.000000   \nfeature__two double bedrooms             0.000000       0.000000   \nfeature__two reception rooms             0.000000       0.000000   \n\n                                              50%            75%  \\\nPrice                               425000.000000  515000.000000   \nbedrooms                                 2.000000       3.000000   \nbathrooms                                1.000000       1.000000   \nnearestStation                           0.367971       0.559620   \nlocation.latitude                       51.499977      51.556183   \nlocation.longitude                      -0.102230      -0.010343   \nlatitude_deviation                       0.058595       0.094362   \nlongitude_deviation                      0.098984       0.192684   \nfeature__1 bedroom                       0.000000       0.000000   \nfeature__2 bedrooms                      0.000000       0.000000   \nfeature__2 double bedrooms               0.000000       0.000000   \nfeature__allocated parking               0.000000       0.000000   \nfeature__allocated parking space         0.000000       0.000000   \nfeature__balcony                         0.000000       0.000000   \nfeature__bathroom                        0.000000       0.000000   \nfeature__chain free                      0.000000       0.000000   \nfeature__close to local amenities        0.000000       0.000000   \nfeature__communal garden                 0.000000       0.000000   \nfeature__communal gardens                0.000000       0.000000   \nfeature__double bedroom                  0.000000       0.000000   \nfeature__double glazed                   0.000000       0.000000   \nfeature__double glazing                  0.000000       0.000000   \nfeature__epc rating c                    0.000000       0.000000   \nfeature__epc rating d                    0.000000       0.000000   \nfeature__excellent location              0.000000       0.000000   \nfeature__excellent transport links       0.000000       0.000000   \nfeature__family bathroom                 0.000000       0.000000   \nfeature__first floor                     0.000000       0.000000   \nfeature__fitted kitchen                  0.000000       0.000000   \nfeature__garage                          0.000000       0.000000   \nfeature__garden                          0.000000       0.000000   \nfeature__gas central heating             0.000000       0.000000   \nfeature__great location                  0.000000       0.000000   \nfeature__ground floor                    0.000000       0.000000   \nfeature__kitchen                         0.000000       0.000000   \nfeature__leasehold                       0.000000       0.000000   \nfeature__long lease                      0.000000       0.000000   \nfeature__modern bathroom                 0.000000       0.000000   \nfeature__modern kitchen                  0.000000       0.000000   \nfeature__no chain                        0.000000       0.000000   \nfeature__no onward chain                 0.000000       0.000000   \nfeature__off street parking              0.000000       0.000000   \nfeature__one bedroom                     0.000000       0.000000   \nfeature__one double bedroom              0.000000       0.000000   \nfeature__parking                         0.000000       0.000000   \nfeature__private balcony                 0.000000       0.000000   \nfeature__private garden                  0.000000       0.000000   \nfeature__private rear garden             0.000000       0.000000   \nfeature__reception room                  0.000000       0.000000   \nfeature__separate kitchen                0.000000       0.000000   \nfeature__share of freehold               0.000000       0.000000   \nfeature__three bedrooms                  0.000000       0.000000   \nfeature__three double bedrooms           0.000000       0.000000   \nfeature__top floor                       0.000000       0.000000   \nfeature__two bathrooms                   0.000000       0.000000   \nfeature__two bedrooms                    0.000000       0.000000   \nfeature__two double bedrooms             0.000000       0.000000   \nfeature__two reception rooms             0.000000       0.000000   \n\n                                              max  \nPrice                               600000.000000  \nbedrooms                                 7.000000  \nbathrooms                                5.000000  \nnearestStation                           7.197700  \nlocation.latitude                       51.683185  \nlocation.longitude                       0.279726  \nlatitude_deviation                       0.201403  \nlongitude_deviation                      0.393895  \nfeature__1 bedroom                       1.000000  \nfeature__2 bedrooms                      2.000000  \nfeature__2 double bedrooms               1.000000  \nfeature__allocated parking               1.000000  \nfeature__allocated parking space         1.000000  \nfeature__balcony                         2.000000  \nfeature__bathroom                        2.000000  \nfeature__chain free                      2.000000  \nfeature__close to local amenities        2.000000  \nfeature__communal garden                 1.000000  \nfeature__communal gardens                2.000000  \nfeature__double bedroom                  1.000000  \nfeature__double glazed                   1.000000  \nfeature__double glazing                  2.000000  \nfeature__epc rating c                    1.000000  \nfeature__epc rating d                    1.000000  \nfeature__excellent location              1.000000  \nfeature__excellent transport links       2.000000  \nfeature__family bathroom                 2.000000  \nfeature__first floor                     1.000000  \nfeature__fitted kitchen                  2.000000  \nfeature__garage                          2.000000  \nfeature__garden                          2.000000  \nfeature__gas central heating             2.000000  \nfeature__great location                  1.000000  \nfeature__ground floor                    1.000000  \nfeature__kitchen                         1.000000  \nfeature__leasehold                       2.000000  \nfeature__long lease                      2.000000  \nfeature__modern bathroom                 1.000000  \nfeature__modern kitchen                  1.000000  \nfeature__no chain                        2.000000  \nfeature__no onward chain                 1.000000  \nfeature__off street parking              2.000000  \nfeature__one bedroom                     1.000000  \nfeature__one double bedroom              1.000000  \nfeature__parking                         2.000000  \nfeature__private balcony                 2.000000  \nfeature__private garden                  2.000000  \nfeature__private rear garden             2.000000  \nfeature__reception room                  2.000000  \nfeature__separate kitchen                1.000000  \nfeature__share of freehold               2.000000  \nfeature__three bedrooms                  1.000000  \nfeature__three double bedrooms           1.000000  \nfeature__top floor                       1.000000  \nfeature__two bathrooms                   2.000000  \nfeature__two bedrooms                    1.000000  \nfeature__two double bedrooms             2.000000  \nfeature__two reception rooms             1.000000  ",
      "text/html": "<div>\n<style scoped>\n    .dataframe tbody tr th:only-of-type {\n        vertical-align: middle;\n    }\n\n    .dataframe tbody tr th {\n        vertical-align: top;\n    }\n\n    .dataframe thead th {\n        text-align: right;\n    }\n</style>\n<table border=\"1\" class=\"dataframe\">\n  <thead>\n    <tr style=\"text-align: right;\">\n      <th></th>\n      <th>count</th>\n      <th>mean</th>\n      <th>std</th>\n      <th>min</th>\n      <th>25%</th>\n      <th>50%</th>\n      <th>75%</th>\n      <th>max</th>\n    </tr>\n  </thead>\n  <tbody>\n    <tr>\n      <th>Price</th>\n      <td>46871.0</td>\n      <td>425069.390775</td>\n      <td>107227.324906</td>\n      <td>100000.000000</td>\n      <td>349950.000000</td>\n      <td>425000.000000</td>\n      <td>515000.000000</td>\n      <td>600000.000000</td>\n    </tr>\n    <tr>\n      <th>bedrooms</th>\n      <td>46871.0</td>\n      <td>1.992469</td>\n      <td>0.828837</td>\n      <td>1.000000</td>\n      <td>1.000000</td>\n      <td>2.000000</td>\n      <td>3.000000</td>\n      <td>7.000000</td>\n    </tr>\n    <tr>\n      <th>bathrooms</th>\n      <td>46871.0</td>\n      <td>1.182074</td>\n      <td>0.409879</td>\n      <td>1.000000</td>\n      <td>1.000000</td>\n      <td>1.000000</td>\n      <td>1.000000</td>\n      <td>5.000000</td>\n    </tr>\n    <tr>\n      <th>nearestStation</th>\n      <td>46871.0</td>\n      <td>0.438847</td>\n      <td>0.325942</td>\n      <td>0.000000</td>\n      <td>0.227169</td>\n      <td>0.367971</td>\n      <td>0.559620</td>\n      <td>7.197700</td>\n    </tr>\n    <tr>\n      <th>location.latitude</th>\n      <td>46871.0</td>\n      <td>51.497049</td>\n      <td>0.077085</td>\n      <td>51.298317</td>\n      <td>51.438861</td>\n      <td>51.499977</td>\n      <td>51.556183</td>\n      <td>51.683185</td>\n    </tr>\n    <tr>\n      <th>location.longitude</th>\n      <td>46871.0</td>\n      <td>-0.113269</td>\n      <td>0.156489</td>\n      <td>-0.498315</td>\n      <td>-0.210796</td>\n      <td>-0.102230</td>\n      <td>-0.010343</td>\n      <td>0.279726</td>\n    </tr>\n    <tr>\n      <th>latitude_deviation</th>\n      <td>46871.0</td>\n      <td>0.064317</td>\n      <td>0.042573</td>\n      <td>0.000000</td>\n      <td>0.028876</td>\n      <td>0.058595</td>\n      <td>0.094362</td>\n      <td>0.201403</td>\n    </tr>\n    <tr>\n      <th>longitude_deviation</th>\n      <td>46871.0</td>\n      <td>0.124202</td>\n      <td>0.095607</td>\n      <td>0.000000</td>\n      <td>0.043560</td>\n      <td>0.098984</td>\n      <td>0.192684</td>\n      <td>0.393895</td>\n    </tr>\n    <tr>\n      <th>feature__1 bedroom</th>\n      <td>46871.0</td>\n      <td>0.010838</td>\n      <td>0.103542</td>\n      <td>0.000000</td>\n      <td>0.000000</td>\n      <td>0.000000</td>\n      <td>0.000000</td>\n      <td>1.000000</td>\n    </tr>\n    <tr>\n      <th>feature__2 bedrooms</th>\n      <td>46871.0</td>\n      <td>0.015169</td>\n      <td>0.122402</td>\n      <td>0.000000</td>\n      <td>0.000000</td>\n      <td>0.000000</td>\n      <td>0.000000</td>\n      <td>2.000000</td>\n    </tr>\n    <tr>\n      <th>feature__2 double bedrooms</th>\n      <td>46871.0</td>\n      <td>0.013569</td>\n      <td>0.115695</td>\n      <td>0.000000</td>\n      <td>0.000000</td>\n      <td>0.000000</td>\n      <td>0.000000</td>\n      <td>1.000000</td>\n    </tr>\n    <tr>\n      <th>feature__allocated parking</th>\n      <td>46871.0</td>\n      <td>0.026946</td>\n      <td>0.161928</td>\n      <td>0.000000</td>\n      <td>0.000000</td>\n      <td>0.000000</td>\n      <td>0.000000</td>\n      <td>1.000000</td>\n    </tr>\n    <tr>\n      <th>feature__allocated parking space</th>\n      <td>46871.0</td>\n      <td>0.012993</td>\n      <td>0.113246</td>\n      <td>0.000000</td>\n      <td>0.000000</td>\n      <td>0.000000</td>\n      <td>0.000000</td>\n      <td>1.000000</td>\n    </tr>\n    <tr>\n      <th>feature__balcony</th>\n      <td>46871.0</td>\n      <td>0.038617</td>\n      <td>0.193124</td>\n      <td>0.000000</td>\n      <td>0.000000</td>\n      <td>0.000000</td>\n      <td>0.000000</td>\n      <td>2.000000</td>\n    </tr>\n    <tr>\n      <th>feature__bathroom</th>\n      <td>46871.0</td>\n      <td>0.026370</td>\n      <td>0.160502</td>\n      <td>0.000000</td>\n      <td>0.000000</td>\n      <td>0.000000</td>\n      <td>0.000000</td>\n      <td>2.000000</td>\n    </tr>\n    <tr>\n      <th>feature__chain free</th>\n      <td>46871.0</td>\n      <td>0.120266</td>\n      <td>0.325800</td>\n      <td>0.000000</td>\n      <td>0.000000</td>\n      <td>0.000000</td>\n      <td>0.000000</td>\n      <td>2.000000</td>\n    </tr>\n    <tr>\n      <th>feature__close to local amenities</th>\n      <td>46871.0</td>\n      <td>0.011948</td>\n      <td>0.108848</td>\n      <td>0.000000</td>\n      <td>0.000000</td>\n      <td>0.000000</td>\n      <td>0.000000</td>\n      <td>2.000000</td>\n    </tr>\n    <tr>\n      <th>feature__communal garden</th>\n      <td>46871.0</td>\n      <td>0.018071</td>\n      <td>0.133209</td>\n      <td>0.000000</td>\n      <td>0.000000</td>\n      <td>0.000000</td>\n      <td>0.000000</td>\n      <td>1.000000</td>\n    </tr>\n    <tr>\n      <th>feature__communal gardens</th>\n      <td>46871.0</td>\n      <td>0.030381</td>\n      <td>0.171760</td>\n      <td>0.000000</td>\n      <td>0.000000</td>\n      <td>0.000000</td>\n      <td>0.000000</td>\n      <td>2.000000</td>\n    </tr>\n    <tr>\n      <th>feature__double bedroom</th>\n      <td>46871.0</td>\n      <td>0.012566</td>\n      <td>0.111395</td>\n      <td>0.000000</td>\n      <td>0.000000</td>\n      <td>0.000000</td>\n      <td>0.000000</td>\n      <td>1.000000</td>\n    </tr>\n    <tr>\n      <th>feature__double glazed</th>\n      <td>46871.0</td>\n      <td>0.012822</td>\n      <td>0.112509</td>\n      <td>0.000000</td>\n      <td>0.000000</td>\n      <td>0.000000</td>\n      <td>0.000000</td>\n      <td>1.000000</td>\n    </tr>\n    <tr>\n      <th>feature__double glazing</th>\n      <td>46871.0</td>\n      <td>0.025496</td>\n      <td>0.157761</td>\n      <td>0.000000</td>\n      <td>0.000000</td>\n      <td>0.000000</td>\n      <td>0.000000</td>\n      <td>2.000000</td>\n    </tr>\n    <tr>\n      <th>feature__epc rating c</th>\n      <td>46871.0</td>\n      <td>0.012140</td>\n      <td>0.109511</td>\n      <td>0.000000</td>\n      <td>0.000000</td>\n      <td>0.000000</td>\n      <td>0.000000</td>\n      <td>1.000000</td>\n    </tr>\n    <tr>\n      <th>feature__epc rating d</th>\n      <td>46871.0</td>\n      <td>0.013334</td>\n      <td>0.114704</td>\n      <td>0.000000</td>\n      <td>0.000000</td>\n      <td>0.000000</td>\n      <td>0.000000</td>\n      <td>1.000000</td>\n    </tr>\n    <tr>\n      <th>feature__excellent location</th>\n      <td>46871.0</td>\n      <td>0.013612</td>\n      <td>0.115874</td>\n      <td>0.000000</td>\n      <td>0.000000</td>\n      <td>0.000000</td>\n      <td>0.000000</td>\n      <td>1.000000</td>\n    </tr>\n    <tr>\n      <th>feature__excellent transport links</th>\n      <td>46871.0</td>\n      <td>0.016385</td>\n      <td>0.127122</td>\n      <td>0.000000</td>\n      <td>0.000000</td>\n      <td>0.000000</td>\n      <td>0.000000</td>\n      <td>2.000000</td>\n    </tr>\n    <tr>\n      <th>feature__family bathroom</th>\n      <td>46871.0</td>\n      <td>0.014593</td>\n      <td>0.120097</td>\n      <td>0.000000</td>\n      <td>0.000000</td>\n      <td>0.000000</td>\n      <td>0.000000</td>\n      <td>2.000000</td>\n    </tr>\n    <tr>\n      <th>feature__first floor</th>\n      <td>46871.0</td>\n      <td>0.026520</td>\n      <td>0.160676</td>\n      <td>0.000000</td>\n      <td>0.000000</td>\n      <td>0.000000</td>\n      <td>0.000000</td>\n      <td>1.000000</td>\n    </tr>\n    <tr>\n      <th>feature__fitted kitchen</th>\n      <td>46871.0</td>\n      <td>0.027224</td>\n      <td>0.162867</td>\n      <td>0.000000</td>\n      <td>0.000000</td>\n      <td>0.000000</td>\n      <td>0.000000</td>\n      <td>2.000000</td>\n    </tr>\n    <tr>\n      <th>feature__garage</th>\n      <td>46871.0</td>\n      <td>0.030424</td>\n      <td>0.172001</td>\n      <td>0.000000</td>\n      <td>0.000000</td>\n      <td>0.000000</td>\n      <td>0.000000</td>\n      <td>2.000000</td>\n    </tr>\n    <tr>\n      <th>feature__garden</th>\n      <td>46871.0</td>\n      <td>0.021015</td>\n      <td>0.144178</td>\n      <td>0.000000</td>\n      <td>0.000000</td>\n      <td>0.000000</td>\n      <td>0.000000</td>\n      <td>2.000000</td>\n    </tr>\n    <tr>\n      <th>feature__gas central heating</th>\n      <td>46871.0</td>\n      <td>0.028120</td>\n      <td>0.165961</td>\n      <td>0.000000</td>\n      <td>0.000000</td>\n      <td>0.000000</td>\n      <td>0.000000</td>\n      <td>2.000000</td>\n    </tr>\n    <tr>\n      <th>feature__great location</th>\n      <td>46871.0</td>\n      <td>0.015660</td>\n      <td>0.124158</td>\n      <td>0.000000</td>\n      <td>0.000000</td>\n      <td>0.000000</td>\n      <td>0.000000</td>\n      <td>1.000000</td>\n    </tr>\n    <tr>\n      <th>feature__ground floor</th>\n      <td>46871.0</td>\n      <td>0.028760</td>\n      <td>0.167132</td>\n      <td>0.000000</td>\n      <td>0.000000</td>\n      <td>0.000000</td>\n      <td>0.000000</td>\n      <td>1.000000</td>\n    </tr>\n    <tr>\n      <th>feature__kitchen</th>\n      <td>46871.0</td>\n      <td>0.022850</td>\n      <td>0.149427</td>\n      <td>0.000000</td>\n      <td>0.000000</td>\n      <td>0.000000</td>\n      <td>0.000000</td>\n      <td>1.000000</td>\n    </tr>\n    <tr>\n      <th>feature__leasehold</th>\n      <td>46871.0</td>\n      <td>0.014316</td>\n      <td>0.118970</td>\n      <td>0.000000</td>\n      <td>0.000000</td>\n      <td>0.000000</td>\n      <td>0.000000</td>\n      <td>2.000000</td>\n    </tr>\n    <tr>\n      <th>feature__long lease</th>\n      <td>46871.0</td>\n      <td>0.039619</td>\n      <td>0.195175</td>\n      <td>0.000000</td>\n      <td>0.000000</td>\n      <td>0.000000</td>\n      <td>0.000000</td>\n      <td>2.000000</td>\n    </tr>\n    <tr>\n      <th>feature__modern bathroom</th>\n      <td>46871.0</td>\n      <td>0.015361</td>\n      <td>0.122986</td>\n      <td>0.000000</td>\n      <td>0.000000</td>\n      <td>0.000000</td>\n      <td>0.000000</td>\n      <td>1.000000</td>\n    </tr>\n    <tr>\n      <th>feature__modern kitchen</th>\n      <td>46871.0</td>\n      <td>0.014465</td>\n      <td>0.119400</td>\n      <td>0.000000</td>\n      <td>0.000000</td>\n      <td>0.000000</td>\n      <td>0.000000</td>\n      <td>1.000000</td>\n    </tr>\n    <tr>\n      <th>feature__no chain</th>\n      <td>46871.0</td>\n      <td>0.026669</td>\n      <td>0.161380</td>\n      <td>0.000000</td>\n      <td>0.000000</td>\n      <td>0.000000</td>\n      <td>0.000000</td>\n      <td>2.000000</td>\n    </tr>\n    <tr>\n      <th>feature__no onward chain</th>\n      <td>46871.0</td>\n      <td>0.057925</td>\n      <td>0.233604</td>\n      <td>0.000000</td>\n      <td>0.000000</td>\n      <td>0.000000</td>\n      <td>0.000000</td>\n      <td>1.000000</td>\n    </tr>\n    <tr>\n      <th>feature__off street parking</th>\n      <td>46871.0</td>\n      <td>0.047300</td>\n      <td>0.212684</td>\n      <td>0.000000</td>\n      <td>0.000000</td>\n      <td>0.000000</td>\n      <td>0.000000</td>\n      <td>2.000000</td>\n    </tr>\n    <tr>\n      <th>feature__one bedroom</th>\n      <td>46871.0</td>\n      <td>0.041369</td>\n      <td>0.199144</td>\n      <td>0.000000</td>\n      <td>0.000000</td>\n      <td>0.000000</td>\n      <td>0.000000</td>\n      <td>1.000000</td>\n    </tr>\n    <tr>\n      <th>feature__one double bedroom</th>\n      <td>46871.0</td>\n      <td>0.027885</td>\n      <td>0.164645</td>\n      <td>0.000000</td>\n      <td>0.000000</td>\n      <td>0.000000</td>\n      <td>0.000000</td>\n      <td>1.000000</td>\n    </tr>\n    <tr>\n      <th>feature__parking</th>\n      <td>46871.0</td>\n      <td>0.013398</td>\n      <td>0.115160</td>\n      <td>0.000000</td>\n      <td>0.000000</td>\n      <td>0.000000</td>\n      <td>0.000000</td>\n      <td>2.000000</td>\n    </tr>\n    <tr>\n      <th>feature__private balcony</th>\n      <td>46871.0</td>\n      <td>0.039662</td>\n      <td>0.195275</td>\n      <td>0.000000</td>\n      <td>0.000000</td>\n      <td>0.000000</td>\n      <td>0.000000</td>\n      <td>2.000000</td>\n    </tr>\n    <tr>\n      <th>feature__private garden</th>\n      <td>46871.0</td>\n      <td>0.034200</td>\n      <td>0.181980</td>\n      <td>0.000000</td>\n      <td>0.000000</td>\n      <td>0.000000</td>\n      <td>0.000000</td>\n      <td>2.000000</td>\n    </tr>\n    <tr>\n      <th>feature__private rear garden</th>\n      <td>46871.0</td>\n      <td>0.017367</td>\n      <td>0.131124</td>\n      <td>0.000000</td>\n      <td>0.000000</td>\n      <td>0.000000</td>\n      <td>0.000000</td>\n      <td>2.000000</td>\n    </tr>\n    <tr>\n      <th>feature__reception room</th>\n      <td>46871.0</td>\n      <td>0.014487</td>\n      <td>0.119843</td>\n      <td>0.000000</td>\n      <td>0.000000</td>\n      <td>0.000000</td>\n      <td>0.000000</td>\n      <td>2.000000</td>\n    </tr>\n    <tr>\n      <th>feature__separate kitchen</th>\n      <td>46871.0</td>\n      <td>0.020268</td>\n      <td>0.140918</td>\n      <td>0.000000</td>\n      <td>0.000000</td>\n      <td>0.000000</td>\n      <td>0.000000</td>\n      <td>1.000000</td>\n    </tr>\n    <tr>\n      <th>feature__share of freehold</th>\n      <td>46871.0</td>\n      <td>0.047663</td>\n      <td>0.213354</td>\n      <td>0.000000</td>\n      <td>0.000000</td>\n      <td>0.000000</td>\n      <td>0.000000</td>\n      <td>2.000000</td>\n    </tr>\n    <tr>\n      <th>feature__three bedrooms</th>\n      <td>46871.0</td>\n      <td>0.059120</td>\n      <td>0.235851</td>\n      <td>0.000000</td>\n      <td>0.000000</td>\n      <td>0.000000</td>\n      <td>0.000000</td>\n      <td>1.000000</td>\n    </tr>\n    <tr>\n      <th>feature__three double bedrooms</th>\n      <td>46871.0</td>\n      <td>0.012545</td>\n      <td>0.111301</td>\n      <td>0.000000</td>\n      <td>0.000000</td>\n      <td>0.000000</td>\n      <td>0.000000</td>\n      <td>1.000000</td>\n    </tr>\n    <tr>\n      <th>feature__top floor</th>\n      <td>46871.0</td>\n      <td>0.013206</td>\n      <td>0.114159</td>\n      <td>0.000000</td>\n      <td>0.000000</td>\n      <td>0.000000</td>\n      <td>0.000000</td>\n      <td>1.000000</td>\n    </tr>\n    <tr>\n      <th>feature__two bathrooms</th>\n      <td>46871.0</td>\n      <td>0.031512</td>\n      <td>0.174943</td>\n      <td>0.000000</td>\n      <td>0.000000</td>\n      <td>0.000000</td>\n      <td>0.000000</td>\n      <td>2.000000</td>\n    </tr>\n    <tr>\n      <th>feature__two bedrooms</th>\n      <td>46871.0</td>\n      <td>0.071473</td>\n      <td>0.257616</td>\n      <td>0.000000</td>\n      <td>0.000000</td>\n      <td>0.000000</td>\n      <td>0.000000</td>\n      <td>1.000000</td>\n    </tr>\n    <tr>\n      <th>feature__two double bedrooms</th>\n      <td>46871.0</td>\n      <td>0.095411</td>\n      <td>0.293930</td>\n      <td>0.000000</td>\n      <td>0.000000</td>\n      <td>0.000000</td>\n      <td>0.000000</td>\n      <td>2.000000</td>\n    </tr>\n    <tr>\n      <th>feature__two reception rooms</th>\n      <td>46871.0</td>\n      <td>0.016449</td>\n      <td>0.127197</td>\n      <td>0.000000</td>\n      <td>0.000000</td>\n      <td>0.000000</td>\n      <td>0.000000</td>\n      <td>1.000000</td>\n    </tr>\n  </tbody>\n</table>\n</div>"
     },
     "execution_count": 11,
     "metadata": {},
     "output_type": "execute_result"
    }
   ],
   "source": [
    "df.info()\n",
    "df.describe()\n",
    "df.describe().T"
   ]
  },
  {
   "cell_type": "code",
   "execution_count": 12,
   "metadata": {
    "execution": {
     "iopub.execute_input": "2022-11-16T13:53:45.644307Z",
     "iopub.status.busy": "2022-11-16T13:53:45.644062Z",
     "iopub.status.idle": "2022-11-16T13:53:45.702850Z",
     "shell.execute_reply": "2022-11-16T13:53:45.702221Z",
     "shell.execute_reply.started": "2022-11-16T13:53:45.644286Z"
    }
   },
   "outputs": [
    {
     "name": "stdout",
     "output_type": "stream",
     "text": [
      "dataframe contract due to cleaning: 46871 ==> 46871\n"
     ]
    },
    {
     "data": {
      "text/plain": "                                      count           mean            std  \\\nPrice                               46871.0  425069.390775  107227.324906   \nbedrooms                            46871.0       1.992469       0.828837   \nbathrooms                           46871.0       1.182074       0.409879   \nnearestStation                      46871.0       0.438847       0.325942   \nlocation.latitude                   46871.0      51.497049       0.077085   \nlocation.longitude                  46871.0      -0.113269       0.156489   \nlatitude_deviation                  46871.0       0.064317       0.042573   \nlongitude_deviation                 46871.0       0.124202       0.095607   \nfeature__1 bedroom                  46871.0       0.010838       0.103542   \nfeature__2 bedrooms                 46871.0       0.015169       0.122402   \nfeature__2 double bedrooms          46871.0       0.013569       0.115695   \nfeature__allocated parking          46871.0       0.026946       0.161928   \nfeature__allocated parking space    46871.0       0.012993       0.113246   \nfeature__balcony                    46871.0       0.038617       0.193124   \nfeature__bathroom                   46871.0       0.026370       0.160502   \nfeature__chain free                 46871.0       0.120266       0.325800   \nfeature__close to local amenities   46871.0       0.011948       0.108848   \nfeature__communal garden            46871.0       0.018071       0.133209   \nfeature__communal gardens           46871.0       0.030381       0.171760   \nfeature__double bedroom             46871.0       0.012566       0.111395   \nfeature__double glazed              46871.0       0.012822       0.112509   \nfeature__double glazing             46871.0       0.025496       0.157761   \nfeature__epc rating c               46871.0       0.012140       0.109511   \nfeature__epc rating d               46871.0       0.013334       0.114704   \nfeature__excellent location         46871.0       0.013612       0.115874   \nfeature__excellent transport links  46871.0       0.016385       0.127122   \nfeature__family bathroom            46871.0       0.014593       0.120097   \nfeature__first floor                46871.0       0.026520       0.160676   \nfeature__fitted kitchen             46871.0       0.027224       0.162867   \nfeature__garage                     46871.0       0.030424       0.172001   \nfeature__garden                     46871.0       0.021015       0.144178   \nfeature__gas central heating        46871.0       0.028120       0.165961   \nfeature__great location             46871.0       0.015660       0.124158   \nfeature__ground floor               46871.0       0.028760       0.167132   \nfeature__kitchen                    46871.0       0.022850       0.149427   \nfeature__leasehold                  46871.0       0.014316       0.118970   \nfeature__long lease                 46871.0       0.039619       0.195175   \nfeature__modern bathroom            46871.0       0.015361       0.122986   \nfeature__modern kitchen             46871.0       0.014465       0.119400   \nfeature__no chain                   46871.0       0.026669       0.161380   \nfeature__no onward chain            46871.0       0.057925       0.233604   \nfeature__off street parking         46871.0       0.047300       0.212684   \nfeature__one bedroom                46871.0       0.041369       0.199144   \nfeature__one double bedroom         46871.0       0.027885       0.164645   \nfeature__parking                    46871.0       0.013398       0.115160   \nfeature__private balcony            46871.0       0.039662       0.195275   \nfeature__private garden             46871.0       0.034200       0.181980   \nfeature__private rear garden        46871.0       0.017367       0.131124   \nfeature__reception room             46871.0       0.014487       0.119843   \nfeature__separate kitchen           46871.0       0.020268       0.140918   \nfeature__share of freehold          46871.0       0.047663       0.213354   \nfeature__three bedrooms             46871.0       0.059120       0.235851   \nfeature__three double bedrooms      46871.0       0.012545       0.111301   \nfeature__top floor                  46871.0       0.013206       0.114159   \nfeature__two bathrooms              46871.0       0.031512       0.174943   \nfeature__two bedrooms               46871.0       0.071473       0.257616   \nfeature__two double bedrooms        46871.0       0.095411       0.293930   \nfeature__two reception rooms        46871.0       0.016449       0.127197   \n\n                                              min            25%  \\\nPrice                               100000.000000  349950.000000   \nbedrooms                                 1.000000       1.000000   \nbathrooms                                1.000000       1.000000   \nnearestStation                           0.000000       0.227169   \nlocation.latitude                       51.298317      51.438861   \nlocation.longitude                      -0.498315      -0.210796   \nlatitude_deviation                       0.000000       0.028876   \nlongitude_deviation                      0.000000       0.043560   \nfeature__1 bedroom                       0.000000       0.000000   \nfeature__2 bedrooms                      0.000000       0.000000   \nfeature__2 double bedrooms               0.000000       0.000000   \nfeature__allocated parking               0.000000       0.000000   \nfeature__allocated parking space         0.000000       0.000000   \nfeature__balcony                         0.000000       0.000000   \nfeature__bathroom                        0.000000       0.000000   \nfeature__chain free                      0.000000       0.000000   \nfeature__close to local amenities        0.000000       0.000000   \nfeature__communal garden                 0.000000       0.000000   \nfeature__communal gardens                0.000000       0.000000   \nfeature__double bedroom                  0.000000       0.000000   \nfeature__double glazed                   0.000000       0.000000   \nfeature__double glazing                  0.000000       0.000000   \nfeature__epc rating c                    0.000000       0.000000   \nfeature__epc rating d                    0.000000       0.000000   \nfeature__excellent location              0.000000       0.000000   \nfeature__excellent transport links       0.000000       0.000000   \nfeature__family bathroom                 0.000000       0.000000   \nfeature__first floor                     0.000000       0.000000   \nfeature__fitted kitchen                  0.000000       0.000000   \nfeature__garage                          0.000000       0.000000   \nfeature__garden                          0.000000       0.000000   \nfeature__gas central heating             0.000000       0.000000   \nfeature__great location                  0.000000       0.000000   \nfeature__ground floor                    0.000000       0.000000   \nfeature__kitchen                         0.000000       0.000000   \nfeature__leasehold                       0.000000       0.000000   \nfeature__long lease                      0.000000       0.000000   \nfeature__modern bathroom                 0.000000       0.000000   \nfeature__modern kitchen                  0.000000       0.000000   \nfeature__no chain                        0.000000       0.000000   \nfeature__no onward chain                 0.000000       0.000000   \nfeature__off street parking              0.000000       0.000000   \nfeature__one bedroom                     0.000000       0.000000   \nfeature__one double bedroom              0.000000       0.000000   \nfeature__parking                         0.000000       0.000000   \nfeature__private balcony                 0.000000       0.000000   \nfeature__private garden                  0.000000       0.000000   \nfeature__private rear garden             0.000000       0.000000   \nfeature__reception room                  0.000000       0.000000   \nfeature__separate kitchen                0.000000       0.000000   \nfeature__share of freehold               0.000000       0.000000   \nfeature__three bedrooms                  0.000000       0.000000   \nfeature__three double bedrooms           0.000000       0.000000   \nfeature__top floor                       0.000000       0.000000   \nfeature__two bathrooms                   0.000000       0.000000   \nfeature__two bedrooms                    0.000000       0.000000   \nfeature__two double bedrooms             0.000000       0.000000   \nfeature__two reception rooms             0.000000       0.000000   \n\n                                              50%            75%  \\\nPrice                               425000.000000  515000.000000   \nbedrooms                                 2.000000       3.000000   \nbathrooms                                1.000000       1.000000   \nnearestStation                           0.367971       0.559620   \nlocation.latitude                       51.499977      51.556183   \nlocation.longitude                      -0.102230      -0.010343   \nlatitude_deviation                       0.058595       0.094362   \nlongitude_deviation                      0.098984       0.192684   \nfeature__1 bedroom                       0.000000       0.000000   \nfeature__2 bedrooms                      0.000000       0.000000   \nfeature__2 double bedrooms               0.000000       0.000000   \nfeature__allocated parking               0.000000       0.000000   \nfeature__allocated parking space         0.000000       0.000000   \nfeature__balcony                         0.000000       0.000000   \nfeature__bathroom                        0.000000       0.000000   \nfeature__chain free                      0.000000       0.000000   \nfeature__close to local amenities        0.000000       0.000000   \nfeature__communal garden                 0.000000       0.000000   \nfeature__communal gardens                0.000000       0.000000   \nfeature__double bedroom                  0.000000       0.000000   \nfeature__double glazed                   0.000000       0.000000   \nfeature__double glazing                  0.000000       0.000000   \nfeature__epc rating c                    0.000000       0.000000   \nfeature__epc rating d                    0.000000       0.000000   \nfeature__excellent location              0.000000       0.000000   \nfeature__excellent transport links       0.000000       0.000000   \nfeature__family bathroom                 0.000000       0.000000   \nfeature__first floor                     0.000000       0.000000   \nfeature__fitted kitchen                  0.000000       0.000000   \nfeature__garage                          0.000000       0.000000   \nfeature__garden                          0.000000       0.000000   \nfeature__gas central heating             0.000000       0.000000   \nfeature__great location                  0.000000       0.000000   \nfeature__ground floor                    0.000000       0.000000   \nfeature__kitchen                         0.000000       0.000000   \nfeature__leasehold                       0.000000       0.000000   \nfeature__long lease                      0.000000       0.000000   \nfeature__modern bathroom                 0.000000       0.000000   \nfeature__modern kitchen                  0.000000       0.000000   \nfeature__no chain                        0.000000       0.000000   \nfeature__no onward chain                 0.000000       0.000000   \nfeature__off street parking              0.000000       0.000000   \nfeature__one bedroom                     0.000000       0.000000   \nfeature__one double bedroom              0.000000       0.000000   \nfeature__parking                         0.000000       0.000000   \nfeature__private balcony                 0.000000       0.000000   \nfeature__private garden                  0.000000       0.000000   \nfeature__private rear garden             0.000000       0.000000   \nfeature__reception room                  0.000000       0.000000   \nfeature__separate kitchen                0.000000       0.000000   \nfeature__share of freehold               0.000000       0.000000   \nfeature__three bedrooms                  0.000000       0.000000   \nfeature__three double bedrooms           0.000000       0.000000   \nfeature__top floor                       0.000000       0.000000   \nfeature__two bathrooms                   0.000000       0.000000   \nfeature__two bedrooms                    0.000000       0.000000   \nfeature__two double bedrooms             0.000000       0.000000   \nfeature__two reception rooms             0.000000       0.000000   \n\n                                              max  \nPrice                               600000.000000  \nbedrooms                                 7.000000  \nbathrooms                                5.000000  \nnearestStation                           7.197700  \nlocation.latitude                       51.683185  \nlocation.longitude                       0.279726  \nlatitude_deviation                       0.201403  \nlongitude_deviation                      0.393895  \nfeature__1 bedroom                       1.000000  \nfeature__2 bedrooms                      2.000000  \nfeature__2 double bedrooms               1.000000  \nfeature__allocated parking               1.000000  \nfeature__allocated parking space         1.000000  \nfeature__balcony                         2.000000  \nfeature__bathroom                        2.000000  \nfeature__chain free                      2.000000  \nfeature__close to local amenities        2.000000  \nfeature__communal garden                 1.000000  \nfeature__communal gardens                2.000000  \nfeature__double bedroom                  1.000000  \nfeature__double glazed                   1.000000  \nfeature__double glazing                  2.000000  \nfeature__epc rating c                    1.000000  \nfeature__epc rating d                    1.000000  \nfeature__excellent location              1.000000  \nfeature__excellent transport links       2.000000  \nfeature__family bathroom                 2.000000  \nfeature__first floor                     1.000000  \nfeature__fitted kitchen                  2.000000  \nfeature__garage                          2.000000  \nfeature__garden                          2.000000  \nfeature__gas central heating             2.000000  \nfeature__great location                  1.000000  \nfeature__ground floor                    1.000000  \nfeature__kitchen                         1.000000  \nfeature__leasehold                       2.000000  \nfeature__long lease                      2.000000  \nfeature__modern bathroom                 1.000000  \nfeature__modern kitchen                  1.000000  \nfeature__no chain                        2.000000  \nfeature__no onward chain                 1.000000  \nfeature__off street parking              2.000000  \nfeature__one bedroom                     1.000000  \nfeature__one double bedroom              1.000000  \nfeature__parking                         2.000000  \nfeature__private balcony                 2.000000  \nfeature__private garden                  2.000000  \nfeature__private rear garden             2.000000  \nfeature__reception room                  2.000000  \nfeature__separate kitchen                1.000000  \nfeature__share of freehold               2.000000  \nfeature__three bedrooms                  1.000000  \nfeature__three double bedrooms           1.000000  \nfeature__top floor                       1.000000  \nfeature__two bathrooms                   2.000000  \nfeature__two bedrooms                    1.000000  \nfeature__two double bedrooms             2.000000  \nfeature__two reception rooms             1.000000  ",
      "text/html": "<div>\n<style scoped>\n    .dataframe tbody tr th:only-of-type {\n        vertical-align: middle;\n    }\n\n    .dataframe tbody tr th {\n        vertical-align: top;\n    }\n\n    .dataframe thead th {\n        text-align: right;\n    }\n</style>\n<table border=\"1\" class=\"dataframe\">\n  <thead>\n    <tr style=\"text-align: right;\">\n      <th></th>\n      <th>count</th>\n      <th>mean</th>\n      <th>std</th>\n      <th>min</th>\n      <th>25%</th>\n      <th>50%</th>\n      <th>75%</th>\n      <th>max</th>\n    </tr>\n  </thead>\n  <tbody>\n    <tr>\n      <th>Price</th>\n      <td>46871.0</td>\n      <td>425069.390775</td>\n      <td>107227.324906</td>\n      <td>100000.000000</td>\n      <td>349950.000000</td>\n      <td>425000.000000</td>\n      <td>515000.000000</td>\n      <td>600000.000000</td>\n    </tr>\n    <tr>\n      <th>bedrooms</th>\n      <td>46871.0</td>\n      <td>1.992469</td>\n      <td>0.828837</td>\n      <td>1.000000</td>\n      <td>1.000000</td>\n      <td>2.000000</td>\n      <td>3.000000</td>\n      <td>7.000000</td>\n    </tr>\n    <tr>\n      <th>bathrooms</th>\n      <td>46871.0</td>\n      <td>1.182074</td>\n      <td>0.409879</td>\n      <td>1.000000</td>\n      <td>1.000000</td>\n      <td>1.000000</td>\n      <td>1.000000</td>\n      <td>5.000000</td>\n    </tr>\n    <tr>\n      <th>nearestStation</th>\n      <td>46871.0</td>\n      <td>0.438847</td>\n      <td>0.325942</td>\n      <td>0.000000</td>\n      <td>0.227169</td>\n      <td>0.367971</td>\n      <td>0.559620</td>\n      <td>7.197700</td>\n    </tr>\n    <tr>\n      <th>location.latitude</th>\n      <td>46871.0</td>\n      <td>51.497049</td>\n      <td>0.077085</td>\n      <td>51.298317</td>\n      <td>51.438861</td>\n      <td>51.499977</td>\n      <td>51.556183</td>\n      <td>51.683185</td>\n    </tr>\n    <tr>\n      <th>location.longitude</th>\n      <td>46871.0</td>\n      <td>-0.113269</td>\n      <td>0.156489</td>\n      <td>-0.498315</td>\n      <td>-0.210796</td>\n      <td>-0.102230</td>\n      <td>-0.010343</td>\n      <td>0.279726</td>\n    </tr>\n    <tr>\n      <th>latitude_deviation</th>\n      <td>46871.0</td>\n      <td>0.064317</td>\n      <td>0.042573</td>\n      <td>0.000000</td>\n      <td>0.028876</td>\n      <td>0.058595</td>\n      <td>0.094362</td>\n      <td>0.201403</td>\n    </tr>\n    <tr>\n      <th>longitude_deviation</th>\n      <td>46871.0</td>\n      <td>0.124202</td>\n      <td>0.095607</td>\n      <td>0.000000</td>\n      <td>0.043560</td>\n      <td>0.098984</td>\n      <td>0.192684</td>\n      <td>0.393895</td>\n    </tr>\n    <tr>\n      <th>feature__1 bedroom</th>\n      <td>46871.0</td>\n      <td>0.010838</td>\n      <td>0.103542</td>\n      <td>0.000000</td>\n      <td>0.000000</td>\n      <td>0.000000</td>\n      <td>0.000000</td>\n      <td>1.000000</td>\n    </tr>\n    <tr>\n      <th>feature__2 bedrooms</th>\n      <td>46871.0</td>\n      <td>0.015169</td>\n      <td>0.122402</td>\n      <td>0.000000</td>\n      <td>0.000000</td>\n      <td>0.000000</td>\n      <td>0.000000</td>\n      <td>2.000000</td>\n    </tr>\n    <tr>\n      <th>feature__2 double bedrooms</th>\n      <td>46871.0</td>\n      <td>0.013569</td>\n      <td>0.115695</td>\n      <td>0.000000</td>\n      <td>0.000000</td>\n      <td>0.000000</td>\n      <td>0.000000</td>\n      <td>1.000000</td>\n    </tr>\n    <tr>\n      <th>feature__allocated parking</th>\n      <td>46871.0</td>\n      <td>0.026946</td>\n      <td>0.161928</td>\n      <td>0.000000</td>\n      <td>0.000000</td>\n      <td>0.000000</td>\n      <td>0.000000</td>\n      <td>1.000000</td>\n    </tr>\n    <tr>\n      <th>feature__allocated parking space</th>\n      <td>46871.0</td>\n      <td>0.012993</td>\n      <td>0.113246</td>\n      <td>0.000000</td>\n      <td>0.000000</td>\n      <td>0.000000</td>\n      <td>0.000000</td>\n      <td>1.000000</td>\n    </tr>\n    <tr>\n      <th>feature__balcony</th>\n      <td>46871.0</td>\n      <td>0.038617</td>\n      <td>0.193124</td>\n      <td>0.000000</td>\n      <td>0.000000</td>\n      <td>0.000000</td>\n      <td>0.000000</td>\n      <td>2.000000</td>\n    </tr>\n    <tr>\n      <th>feature__bathroom</th>\n      <td>46871.0</td>\n      <td>0.026370</td>\n      <td>0.160502</td>\n      <td>0.000000</td>\n      <td>0.000000</td>\n      <td>0.000000</td>\n      <td>0.000000</td>\n      <td>2.000000</td>\n    </tr>\n    <tr>\n      <th>feature__chain free</th>\n      <td>46871.0</td>\n      <td>0.120266</td>\n      <td>0.325800</td>\n      <td>0.000000</td>\n      <td>0.000000</td>\n      <td>0.000000</td>\n      <td>0.000000</td>\n      <td>2.000000</td>\n    </tr>\n    <tr>\n      <th>feature__close to local amenities</th>\n      <td>46871.0</td>\n      <td>0.011948</td>\n      <td>0.108848</td>\n      <td>0.000000</td>\n      <td>0.000000</td>\n      <td>0.000000</td>\n      <td>0.000000</td>\n      <td>2.000000</td>\n    </tr>\n    <tr>\n      <th>feature__communal garden</th>\n      <td>46871.0</td>\n      <td>0.018071</td>\n      <td>0.133209</td>\n      <td>0.000000</td>\n      <td>0.000000</td>\n      <td>0.000000</td>\n      <td>0.000000</td>\n      <td>1.000000</td>\n    </tr>\n    <tr>\n      <th>feature__communal gardens</th>\n      <td>46871.0</td>\n      <td>0.030381</td>\n      <td>0.171760</td>\n      <td>0.000000</td>\n      <td>0.000000</td>\n      <td>0.000000</td>\n      <td>0.000000</td>\n      <td>2.000000</td>\n    </tr>\n    <tr>\n      <th>feature__double bedroom</th>\n      <td>46871.0</td>\n      <td>0.012566</td>\n      <td>0.111395</td>\n      <td>0.000000</td>\n      <td>0.000000</td>\n      <td>0.000000</td>\n      <td>0.000000</td>\n      <td>1.000000</td>\n    </tr>\n    <tr>\n      <th>feature__double glazed</th>\n      <td>46871.0</td>\n      <td>0.012822</td>\n      <td>0.112509</td>\n      <td>0.000000</td>\n      <td>0.000000</td>\n      <td>0.000000</td>\n      <td>0.000000</td>\n      <td>1.000000</td>\n    </tr>\n    <tr>\n      <th>feature__double glazing</th>\n      <td>46871.0</td>\n      <td>0.025496</td>\n      <td>0.157761</td>\n      <td>0.000000</td>\n      <td>0.000000</td>\n      <td>0.000000</td>\n      <td>0.000000</td>\n      <td>2.000000</td>\n    </tr>\n    <tr>\n      <th>feature__epc rating c</th>\n      <td>46871.0</td>\n      <td>0.012140</td>\n      <td>0.109511</td>\n      <td>0.000000</td>\n      <td>0.000000</td>\n      <td>0.000000</td>\n      <td>0.000000</td>\n      <td>1.000000</td>\n    </tr>\n    <tr>\n      <th>feature__epc rating d</th>\n      <td>46871.0</td>\n      <td>0.013334</td>\n      <td>0.114704</td>\n      <td>0.000000</td>\n      <td>0.000000</td>\n      <td>0.000000</td>\n      <td>0.000000</td>\n      <td>1.000000</td>\n    </tr>\n    <tr>\n      <th>feature__excellent location</th>\n      <td>46871.0</td>\n      <td>0.013612</td>\n      <td>0.115874</td>\n      <td>0.000000</td>\n      <td>0.000000</td>\n      <td>0.000000</td>\n      <td>0.000000</td>\n      <td>1.000000</td>\n    </tr>\n    <tr>\n      <th>feature__excellent transport links</th>\n      <td>46871.0</td>\n      <td>0.016385</td>\n      <td>0.127122</td>\n      <td>0.000000</td>\n      <td>0.000000</td>\n      <td>0.000000</td>\n      <td>0.000000</td>\n      <td>2.000000</td>\n    </tr>\n    <tr>\n      <th>feature__family bathroom</th>\n      <td>46871.0</td>\n      <td>0.014593</td>\n      <td>0.120097</td>\n      <td>0.000000</td>\n      <td>0.000000</td>\n      <td>0.000000</td>\n      <td>0.000000</td>\n      <td>2.000000</td>\n    </tr>\n    <tr>\n      <th>feature__first floor</th>\n      <td>46871.0</td>\n      <td>0.026520</td>\n      <td>0.160676</td>\n      <td>0.000000</td>\n      <td>0.000000</td>\n      <td>0.000000</td>\n      <td>0.000000</td>\n      <td>1.000000</td>\n    </tr>\n    <tr>\n      <th>feature__fitted kitchen</th>\n      <td>46871.0</td>\n      <td>0.027224</td>\n      <td>0.162867</td>\n      <td>0.000000</td>\n      <td>0.000000</td>\n      <td>0.000000</td>\n      <td>0.000000</td>\n      <td>2.000000</td>\n    </tr>\n    <tr>\n      <th>feature__garage</th>\n      <td>46871.0</td>\n      <td>0.030424</td>\n      <td>0.172001</td>\n      <td>0.000000</td>\n      <td>0.000000</td>\n      <td>0.000000</td>\n      <td>0.000000</td>\n      <td>2.000000</td>\n    </tr>\n    <tr>\n      <th>feature__garden</th>\n      <td>46871.0</td>\n      <td>0.021015</td>\n      <td>0.144178</td>\n      <td>0.000000</td>\n      <td>0.000000</td>\n      <td>0.000000</td>\n      <td>0.000000</td>\n      <td>2.000000</td>\n    </tr>\n    <tr>\n      <th>feature__gas central heating</th>\n      <td>46871.0</td>\n      <td>0.028120</td>\n      <td>0.165961</td>\n      <td>0.000000</td>\n      <td>0.000000</td>\n      <td>0.000000</td>\n      <td>0.000000</td>\n      <td>2.000000</td>\n    </tr>\n    <tr>\n      <th>feature__great location</th>\n      <td>46871.0</td>\n      <td>0.015660</td>\n      <td>0.124158</td>\n      <td>0.000000</td>\n      <td>0.000000</td>\n      <td>0.000000</td>\n      <td>0.000000</td>\n      <td>1.000000</td>\n    </tr>\n    <tr>\n      <th>feature__ground floor</th>\n      <td>46871.0</td>\n      <td>0.028760</td>\n      <td>0.167132</td>\n      <td>0.000000</td>\n      <td>0.000000</td>\n      <td>0.000000</td>\n      <td>0.000000</td>\n      <td>1.000000</td>\n    </tr>\n    <tr>\n      <th>feature__kitchen</th>\n      <td>46871.0</td>\n      <td>0.022850</td>\n      <td>0.149427</td>\n      <td>0.000000</td>\n      <td>0.000000</td>\n      <td>0.000000</td>\n      <td>0.000000</td>\n      <td>1.000000</td>\n    </tr>\n    <tr>\n      <th>feature__leasehold</th>\n      <td>46871.0</td>\n      <td>0.014316</td>\n      <td>0.118970</td>\n      <td>0.000000</td>\n      <td>0.000000</td>\n      <td>0.000000</td>\n      <td>0.000000</td>\n      <td>2.000000</td>\n    </tr>\n    <tr>\n      <th>feature__long lease</th>\n      <td>46871.0</td>\n      <td>0.039619</td>\n      <td>0.195175</td>\n      <td>0.000000</td>\n      <td>0.000000</td>\n      <td>0.000000</td>\n      <td>0.000000</td>\n      <td>2.000000</td>\n    </tr>\n    <tr>\n      <th>feature__modern bathroom</th>\n      <td>46871.0</td>\n      <td>0.015361</td>\n      <td>0.122986</td>\n      <td>0.000000</td>\n      <td>0.000000</td>\n      <td>0.000000</td>\n      <td>0.000000</td>\n      <td>1.000000</td>\n    </tr>\n    <tr>\n      <th>feature__modern kitchen</th>\n      <td>46871.0</td>\n      <td>0.014465</td>\n      <td>0.119400</td>\n      <td>0.000000</td>\n      <td>0.000000</td>\n      <td>0.000000</td>\n      <td>0.000000</td>\n      <td>1.000000</td>\n    </tr>\n    <tr>\n      <th>feature__no chain</th>\n      <td>46871.0</td>\n      <td>0.026669</td>\n      <td>0.161380</td>\n      <td>0.000000</td>\n      <td>0.000000</td>\n      <td>0.000000</td>\n      <td>0.000000</td>\n      <td>2.000000</td>\n    </tr>\n    <tr>\n      <th>feature__no onward chain</th>\n      <td>46871.0</td>\n      <td>0.057925</td>\n      <td>0.233604</td>\n      <td>0.000000</td>\n      <td>0.000000</td>\n      <td>0.000000</td>\n      <td>0.000000</td>\n      <td>1.000000</td>\n    </tr>\n    <tr>\n      <th>feature__off street parking</th>\n      <td>46871.0</td>\n      <td>0.047300</td>\n      <td>0.212684</td>\n      <td>0.000000</td>\n      <td>0.000000</td>\n      <td>0.000000</td>\n      <td>0.000000</td>\n      <td>2.000000</td>\n    </tr>\n    <tr>\n      <th>feature__one bedroom</th>\n      <td>46871.0</td>\n      <td>0.041369</td>\n      <td>0.199144</td>\n      <td>0.000000</td>\n      <td>0.000000</td>\n      <td>0.000000</td>\n      <td>0.000000</td>\n      <td>1.000000</td>\n    </tr>\n    <tr>\n      <th>feature__one double bedroom</th>\n      <td>46871.0</td>\n      <td>0.027885</td>\n      <td>0.164645</td>\n      <td>0.000000</td>\n      <td>0.000000</td>\n      <td>0.000000</td>\n      <td>0.000000</td>\n      <td>1.000000</td>\n    </tr>\n    <tr>\n      <th>feature__parking</th>\n      <td>46871.0</td>\n      <td>0.013398</td>\n      <td>0.115160</td>\n      <td>0.000000</td>\n      <td>0.000000</td>\n      <td>0.000000</td>\n      <td>0.000000</td>\n      <td>2.000000</td>\n    </tr>\n    <tr>\n      <th>feature__private balcony</th>\n      <td>46871.0</td>\n      <td>0.039662</td>\n      <td>0.195275</td>\n      <td>0.000000</td>\n      <td>0.000000</td>\n      <td>0.000000</td>\n      <td>0.000000</td>\n      <td>2.000000</td>\n    </tr>\n    <tr>\n      <th>feature__private garden</th>\n      <td>46871.0</td>\n      <td>0.034200</td>\n      <td>0.181980</td>\n      <td>0.000000</td>\n      <td>0.000000</td>\n      <td>0.000000</td>\n      <td>0.000000</td>\n      <td>2.000000</td>\n    </tr>\n    <tr>\n      <th>feature__private rear garden</th>\n      <td>46871.0</td>\n      <td>0.017367</td>\n      <td>0.131124</td>\n      <td>0.000000</td>\n      <td>0.000000</td>\n      <td>0.000000</td>\n      <td>0.000000</td>\n      <td>2.000000</td>\n    </tr>\n    <tr>\n      <th>feature__reception room</th>\n      <td>46871.0</td>\n      <td>0.014487</td>\n      <td>0.119843</td>\n      <td>0.000000</td>\n      <td>0.000000</td>\n      <td>0.000000</td>\n      <td>0.000000</td>\n      <td>2.000000</td>\n    </tr>\n    <tr>\n      <th>feature__separate kitchen</th>\n      <td>46871.0</td>\n      <td>0.020268</td>\n      <td>0.140918</td>\n      <td>0.000000</td>\n      <td>0.000000</td>\n      <td>0.000000</td>\n      <td>0.000000</td>\n      <td>1.000000</td>\n    </tr>\n    <tr>\n      <th>feature__share of freehold</th>\n      <td>46871.0</td>\n      <td>0.047663</td>\n      <td>0.213354</td>\n      <td>0.000000</td>\n      <td>0.000000</td>\n      <td>0.000000</td>\n      <td>0.000000</td>\n      <td>2.000000</td>\n    </tr>\n    <tr>\n      <th>feature__three bedrooms</th>\n      <td>46871.0</td>\n      <td>0.059120</td>\n      <td>0.235851</td>\n      <td>0.000000</td>\n      <td>0.000000</td>\n      <td>0.000000</td>\n      <td>0.000000</td>\n      <td>1.000000</td>\n    </tr>\n    <tr>\n      <th>feature__three double bedrooms</th>\n      <td>46871.0</td>\n      <td>0.012545</td>\n      <td>0.111301</td>\n      <td>0.000000</td>\n      <td>0.000000</td>\n      <td>0.000000</td>\n      <td>0.000000</td>\n      <td>1.000000</td>\n    </tr>\n    <tr>\n      <th>feature__top floor</th>\n      <td>46871.0</td>\n      <td>0.013206</td>\n      <td>0.114159</td>\n      <td>0.000000</td>\n      <td>0.000000</td>\n      <td>0.000000</td>\n      <td>0.000000</td>\n      <td>1.000000</td>\n    </tr>\n    <tr>\n      <th>feature__two bathrooms</th>\n      <td>46871.0</td>\n      <td>0.031512</td>\n      <td>0.174943</td>\n      <td>0.000000</td>\n      <td>0.000000</td>\n      <td>0.000000</td>\n      <td>0.000000</td>\n      <td>2.000000</td>\n    </tr>\n    <tr>\n      <th>feature__two bedrooms</th>\n      <td>46871.0</td>\n      <td>0.071473</td>\n      <td>0.257616</td>\n      <td>0.000000</td>\n      <td>0.000000</td>\n      <td>0.000000</td>\n      <td>0.000000</td>\n      <td>1.000000</td>\n    </tr>\n    <tr>\n      <th>feature__two double bedrooms</th>\n      <td>46871.0</td>\n      <td>0.095411</td>\n      <td>0.293930</td>\n      <td>0.000000</td>\n      <td>0.000000</td>\n      <td>0.000000</td>\n      <td>0.000000</td>\n      <td>2.000000</td>\n    </tr>\n    <tr>\n      <th>feature__two reception rooms</th>\n      <td>46871.0</td>\n      <td>0.016449</td>\n      <td>0.127197</td>\n      <td>0.000000</td>\n      <td>0.000000</td>\n      <td>0.000000</td>\n      <td>0.000000</td>\n      <td>1.000000</td>\n    </tr>\n  </tbody>\n</table>\n</div>"
     },
     "execution_count": 12,
     "metadata": {},
     "output_type": "execute_result"
    }
   ],
   "source": [
    "old_length = len(df)\n",
    "\n",
    "df = preprocess(df, version=VERSION)\n",
    "\n",
    "print(f\"dataframe contract due to cleaning: {old_length} ==> {len(df)}\")\n",
    "old_length = len(df)\n",
    "\n",
    "df.describe().T"
   ]
  },
  {
   "cell_type": "code",
   "execution_count": 13,
   "metadata": {
    "execution": {
     "iopub.execute_input": "2022-11-16T13:53:45.704893Z",
     "iopub.status.busy": "2022-11-16T13:53:45.703920Z",
     "iopub.status.idle": "2022-11-16T13:53:45.718086Z",
     "shell.execute_reply": "2022-11-16T13:53:45.716989Z",
     "shell.execute_reply.started": "2022-11-16T13:53:45.704867Z"
    }
   },
   "outputs": [
    {
     "data": {
      "text/plain": "Price                             0\nbedrooms                          0\nbathrooms                         0\nnearestStation                    0\nlocation.latitude                 0\n                                 ..\nfeature__2__off-road parking      0\nfeature__2__security              0\nfeature__2__patio                 0\nfeature__2__underfloor heating    0\nfeature__2__marble                0\nLength: 81, dtype: int64"
     },
     "execution_count": 13,
     "metadata": {},
     "output_type": "execute_result"
    }
   ],
   "source": [
    "df.isna().sum()"
   ]
  },
  {
   "cell_type": "code",
   "execution_count": 14,
   "metadata": {
    "execution": {
     "iopub.execute_input": "2022-11-16T13:53:45.719480Z",
     "iopub.status.busy": "2022-11-16T13:53:45.719240Z",
     "iopub.status.idle": "2022-11-16T13:53:45.765084Z",
     "shell.execute_reply": "2022-11-16T13:53:45.764280Z",
     "shell.execute_reply.started": "2022-11-16T13:53:45.719461Z"
    }
   },
   "outputs": [
    {
     "name": "stdout",
     "output_type": "stream",
     "text": [
      "46871 ==> 44127\n"
     ]
    },
    {
     "data": {
      "text/plain": "               Price      bedrooms    bathrooms  nearestStation  \\\ncount   44127.000000  44127.000000  44127.00000    44127.000000   \nmean   425224.642373      1.990981      1.18134        0.438522   \nstd    107203.332660      0.827621      0.40893        0.324152   \nmin    100000.000000      1.000000      1.00000        0.000000   \n25%    349950.000000      1.000000      1.00000        0.227551   \n50%    425000.000000      2.000000      1.00000        0.368351   \n75%    515000.000000      3.000000      1.00000        0.559486   \nmax    600000.000000      7.000000      5.00000        7.197700   \n\n       location.latitude  location.longitude  latitude_deviation  \\\ncount       44127.000000        44127.000000        44127.000000   \nmean           51.496711           -0.113106            0.064544   \nstd             0.077267            0.155863            0.042583   \nmin            51.298317           -0.498315            0.000000   \n25%            51.438303           -0.210633            0.029023   \n50%            51.498780           -0.101910            0.058904   \n75%            51.556343           -0.010854            0.094620   \nmax            51.683185            0.279726            0.201403   \n\n       longitude_deviation  feature__1 bedroom  feature__2 bedrooms  ...  \\\ncount         44127.000000        44127.000000         44127.000000  ...   \nmean              0.123699            0.011127             0.015251  ...   \nstd               0.095220            0.104897             0.122737  ...   \nmin               0.000000            0.000000             0.000000  ...   \n25%               0.043551            0.000000             0.000000  ...   \n50%               0.098750            0.000000             0.000000  ...   \n75%               0.191727            0.000000             0.000000  ...   \nmax               0.393895            1.000000             2.000000  ...   \n\n       feature__reception room  feature__separate kitchen  \\\ncount             44127.000000               44127.000000   \nmean                  0.014254                   0.020509   \nstd                   0.118921                   0.141735   \nmin                   0.000000                   0.000000   \n25%                   0.000000                   0.000000   \n50%                   0.000000                   0.000000   \n75%                   0.000000                   0.000000   \nmax                   2.000000                   1.000000   \n\n       feature__share of freehold  feature__three bedrooms  \\\ncount                44127.000000             44127.000000   \nmean                     0.048428                 0.059374   \nstd                      0.214989                 0.236326   \nmin                      0.000000                 0.000000   \n25%                      0.000000                 0.000000   \n50%                      0.000000                 0.000000   \n75%                      0.000000                 0.000000   \nmax                      2.000000                 1.000000   \n\n       feature__three double bedrooms  feature__top floor  \\\ncount                    44127.000000        44127.000000   \nmean                         0.012804            0.013212   \nstd                          0.112429            0.114182   \nmin                          0.000000            0.000000   \n25%                          0.000000            0.000000   \n50%                          0.000000            0.000000   \n75%                          0.000000            0.000000   \nmax                          1.000000            1.000000   \n\n       feature__two bathrooms  feature__two bedrooms  \\\ncount            44127.000000           44127.000000   \nmean                 0.031976               0.072586   \nstd                  0.176195               0.259459   \nmin                  0.000000               0.000000   \n25%                  0.000000               0.000000   \n50%                  0.000000               0.000000   \n75%                  0.000000               0.000000   \nmax                  2.000000               1.000000   \n\n       feature__two double bedrooms  feature__two reception rooms  \ncount                  44127.000000                  44127.000000  \nmean                       0.096857                      0.016022  \nstd                        0.295919                      0.125561  \nmin                        0.000000                      0.000000  \n25%                        0.000000                      0.000000  \n50%                        0.000000                      0.000000  \n75%                        0.000000                      0.000000  \nmax                        2.000000                      1.000000  \n\n[8 rows x 58 columns]",
      "text/html": "<div>\n<style scoped>\n    .dataframe tbody tr th:only-of-type {\n        vertical-align: middle;\n    }\n\n    .dataframe tbody tr th {\n        vertical-align: top;\n    }\n\n    .dataframe thead th {\n        text-align: right;\n    }\n</style>\n<table border=\"1\" class=\"dataframe\">\n  <thead>\n    <tr style=\"text-align: right;\">\n      <th></th>\n      <th>Price</th>\n      <th>bedrooms</th>\n      <th>bathrooms</th>\n      <th>nearestStation</th>\n      <th>location.latitude</th>\n      <th>location.longitude</th>\n      <th>latitude_deviation</th>\n      <th>longitude_deviation</th>\n      <th>feature__1 bedroom</th>\n      <th>feature__2 bedrooms</th>\n      <th>...</th>\n      <th>feature__reception room</th>\n      <th>feature__separate kitchen</th>\n      <th>feature__share of freehold</th>\n      <th>feature__three bedrooms</th>\n      <th>feature__three double bedrooms</th>\n      <th>feature__top floor</th>\n      <th>feature__two bathrooms</th>\n      <th>feature__two bedrooms</th>\n      <th>feature__two double bedrooms</th>\n      <th>feature__two reception rooms</th>\n    </tr>\n  </thead>\n  <tbody>\n    <tr>\n      <th>count</th>\n      <td>44127.000000</td>\n      <td>44127.000000</td>\n      <td>44127.00000</td>\n      <td>44127.000000</td>\n      <td>44127.000000</td>\n      <td>44127.000000</td>\n      <td>44127.000000</td>\n      <td>44127.000000</td>\n      <td>44127.000000</td>\n      <td>44127.000000</td>\n      <td>...</td>\n      <td>44127.000000</td>\n      <td>44127.000000</td>\n      <td>44127.000000</td>\n      <td>44127.000000</td>\n      <td>44127.000000</td>\n      <td>44127.000000</td>\n      <td>44127.000000</td>\n      <td>44127.000000</td>\n      <td>44127.000000</td>\n      <td>44127.000000</td>\n    </tr>\n    <tr>\n      <th>mean</th>\n      <td>425224.642373</td>\n      <td>1.990981</td>\n      <td>1.18134</td>\n      <td>0.438522</td>\n      <td>51.496711</td>\n      <td>-0.113106</td>\n      <td>0.064544</td>\n      <td>0.123699</td>\n      <td>0.011127</td>\n      <td>0.015251</td>\n      <td>...</td>\n      <td>0.014254</td>\n      <td>0.020509</td>\n      <td>0.048428</td>\n      <td>0.059374</td>\n      <td>0.012804</td>\n      <td>0.013212</td>\n      <td>0.031976</td>\n      <td>0.072586</td>\n      <td>0.096857</td>\n      <td>0.016022</td>\n    </tr>\n    <tr>\n      <th>std</th>\n      <td>107203.332660</td>\n      <td>0.827621</td>\n      <td>0.40893</td>\n      <td>0.324152</td>\n      <td>0.077267</td>\n      <td>0.155863</td>\n      <td>0.042583</td>\n      <td>0.095220</td>\n      <td>0.104897</td>\n      <td>0.122737</td>\n      <td>...</td>\n      <td>0.118921</td>\n      <td>0.141735</td>\n      <td>0.214989</td>\n      <td>0.236326</td>\n      <td>0.112429</td>\n      <td>0.114182</td>\n      <td>0.176195</td>\n      <td>0.259459</td>\n      <td>0.295919</td>\n      <td>0.125561</td>\n    </tr>\n    <tr>\n      <th>min</th>\n      <td>100000.000000</td>\n      <td>1.000000</td>\n      <td>1.00000</td>\n      <td>0.000000</td>\n      <td>51.298317</td>\n      <td>-0.498315</td>\n      <td>0.000000</td>\n      <td>0.000000</td>\n      <td>0.000000</td>\n      <td>0.000000</td>\n      <td>...</td>\n      <td>0.000000</td>\n      <td>0.000000</td>\n      <td>0.000000</td>\n      <td>0.000000</td>\n      <td>0.000000</td>\n      <td>0.000000</td>\n      <td>0.000000</td>\n      <td>0.000000</td>\n      <td>0.000000</td>\n      <td>0.000000</td>\n    </tr>\n    <tr>\n      <th>25%</th>\n      <td>349950.000000</td>\n      <td>1.000000</td>\n      <td>1.00000</td>\n      <td>0.227551</td>\n      <td>51.438303</td>\n      <td>-0.210633</td>\n      <td>0.029023</td>\n      <td>0.043551</td>\n      <td>0.000000</td>\n      <td>0.000000</td>\n      <td>...</td>\n      <td>0.000000</td>\n      <td>0.000000</td>\n      <td>0.000000</td>\n      <td>0.000000</td>\n      <td>0.000000</td>\n      <td>0.000000</td>\n      <td>0.000000</td>\n      <td>0.000000</td>\n      <td>0.000000</td>\n      <td>0.000000</td>\n    </tr>\n    <tr>\n      <th>50%</th>\n      <td>425000.000000</td>\n      <td>2.000000</td>\n      <td>1.00000</td>\n      <td>0.368351</td>\n      <td>51.498780</td>\n      <td>-0.101910</td>\n      <td>0.058904</td>\n      <td>0.098750</td>\n      <td>0.000000</td>\n      <td>0.000000</td>\n      <td>...</td>\n      <td>0.000000</td>\n      <td>0.000000</td>\n      <td>0.000000</td>\n      <td>0.000000</td>\n      <td>0.000000</td>\n      <td>0.000000</td>\n      <td>0.000000</td>\n      <td>0.000000</td>\n      <td>0.000000</td>\n      <td>0.000000</td>\n    </tr>\n    <tr>\n      <th>75%</th>\n      <td>515000.000000</td>\n      <td>3.000000</td>\n      <td>1.00000</td>\n      <td>0.559486</td>\n      <td>51.556343</td>\n      <td>-0.010854</td>\n      <td>0.094620</td>\n      <td>0.191727</td>\n      <td>0.000000</td>\n      <td>0.000000</td>\n      <td>...</td>\n      <td>0.000000</td>\n      <td>0.000000</td>\n      <td>0.000000</td>\n      <td>0.000000</td>\n      <td>0.000000</td>\n      <td>0.000000</td>\n      <td>0.000000</td>\n      <td>0.000000</td>\n      <td>0.000000</td>\n      <td>0.000000</td>\n    </tr>\n    <tr>\n      <th>max</th>\n      <td>600000.000000</td>\n      <td>7.000000</td>\n      <td>5.00000</td>\n      <td>7.197700</td>\n      <td>51.683185</td>\n      <td>0.279726</td>\n      <td>0.201403</td>\n      <td>0.393895</td>\n      <td>1.000000</td>\n      <td>2.000000</td>\n      <td>...</td>\n      <td>2.000000</td>\n      <td>1.000000</td>\n      <td>2.000000</td>\n      <td>1.000000</td>\n      <td>1.000000</td>\n      <td>1.000000</td>\n      <td>2.000000</td>\n      <td>1.000000</td>\n      <td>2.000000</td>\n      <td>1.000000</td>\n    </tr>\n  </tbody>\n</table>\n<p>8 rows × 58 columns</p>\n</div>"
     },
     "execution_count": 14,
     "metadata": {},
     "output_type": "execute_result"
    }
   ],
   "source": [
    "df = df.dropna()\n",
    "print(f\"{old_length} ==> {len(df)}\")\n",
    "old_length = len(df)\n",
    "df.describe()"
   ]
  },
  {
   "cell_type": "code",
   "execution_count": 15,
   "metadata": {
    "execution": {
     "iopub.execute_input": "2022-11-16T13:53:45.766337Z",
     "iopub.status.busy": "2022-11-16T13:53:45.766118Z",
     "iopub.status.idle": "2022-11-16T13:53:45.807167Z",
     "shell.execute_reply": "2022-11-16T13:53:45.806099Z",
     "shell.execute_reply.started": "2022-11-16T13:53:45.766318Z"
    }
   },
   "outputs": [
    {
     "name": "stdout",
     "output_type": "stream",
     "text": [
      "[3.0 3.0 0.3166132574345781 51.45976 0.12939 0.0399600000000006 0.23381\n",
      " 'FREEHOLD' 0 0 0 0 0 0 0 0 0 0 0 0 0 0 0 0 0 0 0 0 0 0 0 0 0 0 0 0 0 0 0\n",
      " 0 0 0 0 0 0 0 0 0 0 0 0 1 0 0 0 0 0 0 False False False False False False\n",
      " False False False False False False False False False False False False\n",
      " False False False False]\n",
      "(39714, 80) (4413, 80) (39714, 1) (4413, 1) (39714, 1) (4413, 1) (39714, 1) (4413, 1)\n"
     ]
    }
   ],
   "source": [
    "X_train, X_test, y_train, y_test, X_train_index, X_test_index, y_train_index, y_test_index, df_features, df_labels = create_train_test_data(\n",
    "    df,\n",
    "    categories=categories,\n",
    "    RANDOM_STATE=RANDOM_STATE, return_index=True,\n",
    "    drop_nulls=True,\n",
    "    no_dummies=no_dummies\n",
    ")\n",
    "\n",
    "print(X_train[0])\n",
    "\n",
    "if 'forest' in ALGORITHM.lower() or ALGORITHM.lower()=='light gradient boosting':\n",
    "    y_train_orig = y_train\n",
    "    y_train = y_train.ravel()\n",
    "    print(y_train_orig, y_train)\n",
    "    \n",
    "print(X_train.shape, X_test.shape, y_train.shape, y_test.shape, X_train_index.shape, X_test_index.shape,\n",
    "      y_train_index.shape, y_test_index.shape)\n",
    "\n"
   ]
  },
  {
   "cell_type": "code",
   "execution_count": 16,
   "metadata": {
    "execution": {
     "iopub.execute_input": "2022-11-16T13:53:45.808583Z",
     "iopub.status.busy": "2022-11-16T13:53:45.808343Z",
     "iopub.status.idle": "2022-11-16T13:53:45.812004Z",
     "shell.execute_reply": "2022-11-16T13:53:45.811013Z",
     "shell.execute_reply.started": "2022-11-16T13:53:45.808563Z"
    }
   },
   "outputs": [],
   "source": [
    "#imputer = SimpleImputer(strategy='mean')\n",
    "#imputer.fit(X_train[6])\n",
    "#X_train[6] = imputer.transform(X_train[6])"
   ]
  },
  {
   "cell_type": "code",
   "execution_count": 17,
   "metadata": {
    "execution": {
     "iopub.execute_input": "2022-11-16T13:53:45.813460Z",
     "iopub.status.busy": "2022-11-16T13:53:45.813229Z",
     "iopub.status.idle": "2022-11-16T13:53:45.818408Z",
     "shell.execute_reply": "2022-11-16T13:53:45.817424Z",
     "shell.execute_reply.started": "2022-11-16T13:53:45.813440Z"
    }
   },
   "outputs": [],
   "source": [
    "starter_model = starter_pipe[-1]\n",
    "\n",
    "if not_catboost:\n",
    "    default_model_params = starter_model.get_params()\n",
    "    print(\"default_model_params:\\n\", default_model_params)\n",
    "    print(\"---------------------\")\n",
    "    print(\"sklearn.metrics.get_scorer_names():\\n\",sklearn.metrics.get_scorer_names())"
   ]
  },
  {
   "cell_type": "code",
   "execution_count": 17,
   "metadata": {
    "execution": {
     "iopub.execute_input": "2022-11-16T13:53:45.819618Z",
     "iopub.status.busy": "2022-11-16T13:53:45.819401Z",
     "iopub.status.idle": "2022-11-16T13:53:49.589786Z",
     "shell.execute_reply": "2022-11-16T13:53:49.588949Z",
     "shell.execute_reply.started": "2022-11-16T13:53:45.819599Z"
    }
   },
   "outputs": [],
   "source": []
  },
  {
   "cell_type": "code",
   "execution_count": 18,
   "outputs": [
    {
     "name": "stdout",
     "output_type": "stream",
     "text": [
      "cv: 3 n_jobs: 3 refit: True n_iter: 100 verbose: 2\n",
      "\n",
      "\n",
      "Hyperparameters:\n"
     ]
    },
    {
     "data": {
      "text/plain": "{'learning_rate': [None, 0.01, 0.1, 0.5, 0.9, 1],\n 'depth': [6, 7, 8, 9, 10, 15, 20],\n 'l2_leaf_reg': [1, 3, 5, 7, 9]}"
     },
     "execution_count": 18,
     "metadata": {},
     "output_type": "execute_result"
    }
   ],
   "source": [
    "options_block = get_hyperparameters(ALGORITHM, use_gpu, prefix='../../../') #JHJH\n",
    "\n",
    "if 'explore param' in DATA_DETAIL:\n",
    "    def automl_step(param_options, vary):\n",
    "        for key, value in param_options.items():\n",
    "            #print(key, value, vary)\n",
    "            if key != vary and key != 'model__' + vary:\n",
    "                param_options[key] = [param_options[key][0]]\n",
    "        return param_options\n",
    "\n",
    "    #options_block = automl_step(options_block, \"model__epochs\")\n",
    "    explore_param = \"alpha\"\n",
    "    options_block = automl_step(options_block, explore_param)\n",
    "\n",
    "\n",
    "if 'forest' in ALGORITHM.lower():\n",
    "    OVERRIDE_N_ITER = 5\n",
    "    if use_gpu:\n",
    "        OVERRIDE_JOBS = 8\n",
    "\n",
    "param_options, cv, n_jobs, refit, n_iter, verbose = get_cv_params(options_block, debug_mode=debug_mode,\n",
    "                                                                  override_cv=OVERRIDE_CV,\n",
    "                                                                  override_niter=OVERRIDE_N_ITER,\n",
    "                                                                  override_njobs=OVERRIDE_JOBS)\n",
    "\n",
    "if 'forest' in ALGORITHM.lower() or True: #JHJH\n",
    "    verbose = 2\n",
    "\n",
    "print(\"cv:\", cv, \"n_jobs:\", n_jobs, \"refit:\", refit, \"n_iter:\", n_iter, \"verbose:\", verbose)\n",
    "\n",
    "if not_catboost and len(param_options.keys()) > 2 and not already_timed and debug_mode:\n",
    "    already_timed = True\n",
    "    %timeit starter_pipe.fit(X_train, y_train)\n",
    "\n",
    "\n",
    "print('\\n\\nHyperparameters:')\n",
    "param_options if not_catboost else options_block"
   ],
   "metadata": {
    "collapsed": false
   }
  },
  {
   "cell_type": "code",
   "execution_count": null,
   "metadata": {
    "execution": {
     "iopub.execute_input": "2022-11-16T13:53:49.591033Z",
     "iopub.status.busy": "2022-11-16T13:53:49.590814Z",
     "iopub.status.idle": "2022-11-16T13:59:47.180261Z",
     "shell.execute_reply": "2022-11-16T13:59:47.179463Z",
     "shell.execute_reply.started": "2022-11-16T13:53:49.591014Z"
    },
    "pycharm": {
     "is_executing": true
    }
   },
   "outputs": [
    {
     "data": {
      "text/plain": "MetricVisualizer(layout=Layout(align_self='stretch', height='500px'))",
      "application/vnd.jupyter.widget-view+json": {
       "version_major": 2,
       "version_minor": 0,
       "model_id": "425df148a9a24348869fcaf3564a5136"
      }
     },
     "metadata": {},
     "output_type": "display_data"
    },
    {
     "name": "stdout",
     "output_type": "stream",
     "text": [
      "0:\tlearn: 107913.0177436\ttest: 108120.2738718\tbest: 108120.2738718 (0)\ttotal: 74.1ms\tremaining: 7.34s\n",
      "1:\tlearn: 82525.5919843\ttest: 82799.6926713\tbest: 82799.6926713 (1)\ttotal: 93.1ms\tremaining: 4.56s\n",
      "2:\tlearn: 74587.1000881\ttest: 75434.8383512\tbest: 75434.8383512 (2)\ttotal: 113ms\tremaining: 3.64s\n",
      "3:\tlearn: 72273.6477915\ttest: 73108.6314517\tbest: 73108.6314517 (3)\ttotal: 125ms\tremaining: 3.01s\n",
      "4:\tlearn: 71158.1722584\ttest: 72262.4120394\tbest: 72262.4120394 (4)\ttotal: 142ms\tremaining: 2.71s\n",
      "5:\tlearn: 70052.6886679\ttest: 71071.6246382\tbest: 71071.6246382 (5)\ttotal: 156ms\tremaining: 2.45s\n",
      "6:\tlearn: 69409.5570631\ttest: 70385.2929381\tbest: 70385.2929381 (6)\ttotal: 168ms\tremaining: 2.23s\n",
      "7:\tlearn: 68944.1928873\ttest: 70030.4367637\tbest: 70030.4367637 (7)\ttotal: 179ms\tremaining: 2.05s\n",
      "8:\tlearn: 68746.1141455\ttest: 69904.5979662\tbest: 69904.5979662 (8)\ttotal: 188ms\tremaining: 1.9s\n",
      "9:\tlearn: 68382.0197782\ttest: 69465.5920374\tbest: 69465.5920374 (9)\ttotal: 198ms\tremaining: 1.78s\n",
      "10:\tlearn: 67537.8853945\ttest: 68689.3265440\tbest: 68689.3265440 (10)\ttotal: 208ms\tremaining: 1.68s\n",
      "11:\tlearn: 67309.7661127\ttest: 68632.5327390\tbest: 68632.5327390 (11)\ttotal: 231ms\tremaining: 1.7s\n",
      "12:\tlearn: 66613.7564726\ttest: 67932.2522115\tbest: 67932.2522115 (12)\ttotal: 245ms\tremaining: 1.64s\n",
      "13:\tlearn: 66259.1425554\ttest: 67532.4160189\tbest: 67532.4160189 (13)\ttotal: 261ms\tremaining: 1.61s\n",
      "14:\tlearn: 65958.8100664\ttest: 67369.0442003\tbest: 67369.0442003 (14)\ttotal: 273ms\tremaining: 1.55s\n",
      "15:\tlearn: 65800.5441513\ttest: 67320.4867935\tbest: 67320.4867935 (15)\ttotal: 284ms\tremaining: 1.49s\n",
      "16:\tlearn: 65631.6780650\ttest: 67122.7636221\tbest: 67122.7636221 (16)\ttotal: 294ms\tremaining: 1.44s\n",
      "17:\tlearn: 65288.0296031\ttest: 66790.3712503\tbest: 66790.3712503 (17)\ttotal: 341ms\tremaining: 1.55s\n",
      "18:\tlearn: 65129.1361121\ttest: 66697.3026295\tbest: 66697.3026295 (18)\ttotal: 355ms\tremaining: 1.51s\n",
      "19:\tlearn: 64801.8720581\ttest: 66308.8985869\tbest: 66308.8985869 (19)\ttotal: 371ms\tremaining: 1.48s\n",
      "20:\tlearn: 64464.5407140\ttest: 65992.9310665\tbest: 65992.9310665 (20)\ttotal: 395ms\tremaining: 1.49s\n",
      "21:\tlearn: 64190.5412617\ttest: 65667.1894222\tbest: 65667.1894222 (21)\ttotal: 405ms\tremaining: 1.44s\n",
      "22:\tlearn: 63943.9244028\ttest: 65468.0516809\tbest: 65468.0516809 (22)\ttotal: 415ms\tremaining: 1.39s\n",
      "23:\tlearn: 63633.2432972\ttest: 65245.3935781\tbest: 65245.3935781 (23)\ttotal: 439ms\tremaining: 1.39s\n",
      "24:\tlearn: 63384.0730851\ttest: 65113.5661213\tbest: 65113.5661213 (24)\ttotal: 446ms\tremaining: 1.34s\n",
      "25:\tlearn: 63284.0039787\ttest: 65091.2534063\tbest: 65091.2534063 (25)\ttotal: 465ms\tremaining: 1.32s\n",
      "26:\tlearn: 63078.9514814\ttest: 64952.5162195\tbest: 64952.5162195 (26)\ttotal: 476ms\tremaining: 1.29s\n",
      "27:\tlearn: 62905.9939179\ttest: 64797.3188353\tbest: 64797.3188353 (27)\ttotal: 488ms\tremaining: 1.25s\n",
      "28:\tlearn: 62876.2970650\ttest: 64795.9888944\tbest: 64795.9888944 (28)\ttotal: 495ms\tremaining: 1.21s\n",
      "29:\tlearn: 62609.1807393\ttest: 64524.4140317\tbest: 64524.4140317 (29)\ttotal: 510ms\tremaining: 1.19s\n",
      "30:\tlearn: 62487.2618778\ttest: 64452.8006131\tbest: 64452.8006131 (30)\ttotal: 537ms\tremaining: 1.2s\n",
      "31:\tlearn: 62265.1106160\ttest: 64313.3129678\tbest: 64313.3129678 (31)\ttotal: 575ms\tremaining: 1.22s\n",
      "32:\tlearn: 62028.6104806\ttest: 64196.1204272\tbest: 64196.1204272 (32)\ttotal: 587ms\tremaining: 1.19s\n",
      "33:\tlearn: 61849.7183235\ttest: 63997.8528563\tbest: 63997.8528563 (33)\ttotal: 597ms\tremaining: 1.16s\n",
      "34:\tlearn: 61699.6017308\ttest: 63924.7838069\tbest: 63924.7838069 (34)\ttotal: 613ms\tremaining: 1.14s\n",
      "35:\tlearn: 61596.8494343\ttest: 63978.8318339\tbest: 63924.7838069 (34)\ttotal: 624ms\tremaining: 1.11s\n",
      "36:\tlearn: 61468.9169757\ttest: 63906.5084703\tbest: 63906.5084703 (36)\ttotal: 643ms\tremaining: 1.09s\n",
      "37:\tlearn: 61409.0757107\ttest: 63878.4619972\tbest: 63878.4619972 (37)\ttotal: 657ms\tremaining: 1.07s\n",
      "38:\tlearn: 61263.5740720\ttest: 63791.7035542\tbest: 63791.7035542 (38)\ttotal: 669ms\tremaining: 1.04s\n",
      "39:\tlearn: 61170.9853283\ttest: 63729.7992879\tbest: 63729.7992879 (39)\ttotal: 686ms\tremaining: 1.03s\n",
      "40:\tlearn: 61097.9156186\ttest: 63730.0551395\tbest: 63729.7992879 (39)\ttotal: 719ms\tremaining: 1.03s\n",
      "41:\tlearn: 60765.1823473\ttest: 63436.9249013\tbest: 63436.9249013 (41)\ttotal: 735ms\tremaining: 1.01s\n",
      "42:\tlearn: 60656.7274624\ttest: 63449.7606685\tbest: 63436.9249013 (41)\ttotal: 749ms\tremaining: 993ms\n",
      "43:\tlearn: 60557.2960716\ttest: 63407.6755399\tbest: 63407.6755399 (43)\ttotal: 760ms\tremaining: 967ms\n",
      "44:\tlearn: 60341.9941131\ttest: 63417.7353953\tbest: 63407.6755399 (43)\ttotal: 772ms\tremaining: 944ms\n",
      "45:\tlearn: 60170.1873194\ttest: 63317.3358056\tbest: 63317.3358056 (45)\ttotal: 785ms\tremaining: 922ms\n",
      "46:\tlearn: 60090.0024789\ttest: 63285.1646771\tbest: 63285.1646771 (46)\ttotal: 797ms\tremaining: 899ms\n",
      "47:\tlearn: 60083.7272595\ttest: 63284.9365105\tbest: 63284.9365105 (47)\ttotal: 809ms\tremaining: 877ms\n",
      "48:\tlearn: 59983.0615193\ttest: 63256.4557451\tbest: 63256.4557451 (48)\ttotal: 825ms\tremaining: 859ms\n",
      "49:\tlearn: 59910.5355890\ttest: 63218.8108416\tbest: 63218.8108416 (49)\ttotal: 837ms\tremaining: 837ms\n",
      "50:\tlearn: 59859.4184514\ttest: 63220.5645852\tbest: 63218.8108416 (49)\ttotal: 856ms\tremaining: 823ms\n",
      "51:\tlearn: 59846.7305295\ttest: 63234.4822622\tbest: 63218.8108416 (49)\ttotal: 870ms\tremaining: 803ms\n",
      "52:\tlearn: 59762.7172080\ttest: 63185.9226658\tbest: 63185.9226658 (52)\ttotal: 887ms\tremaining: 787ms\n",
      "53:\tlearn: 59698.0255947\ttest: 63150.2197541\tbest: 63150.2197541 (53)\ttotal: 915ms\tremaining: 779ms\n",
      "54:\tlearn: 59529.6646017\ttest: 62844.5160186\tbest: 62844.5160186 (54)\ttotal: 937ms\tremaining: 766ms\n",
      "55:\tlearn: 59435.3650932\ttest: 62755.2550352\tbest: 62755.2550352 (55)\ttotal: 950ms\tremaining: 746ms\n",
      "56:\tlearn: 59367.0810317\ttest: 62724.1515254\tbest: 62724.1515254 (56)\ttotal: 965ms\tremaining: 728ms\n",
      "57:\tlearn: 59299.4626763\ttest: 62703.1221037\tbest: 62703.1221037 (57)\ttotal: 978ms\tremaining: 709ms\n",
      "58:\tlearn: 59193.2710299\ttest: 62674.4386171\tbest: 62674.4386171 (58)\ttotal: 992ms\tremaining: 689ms\n",
      "59:\tlearn: 59130.7038788\ttest: 62659.5554357\tbest: 62659.5554357 (59)\ttotal: 1s\tremaining: 669ms\n",
      "60:\tlearn: 59025.9243867\ttest: 62646.7742060\tbest: 62646.7742060 (60)\ttotal: 1.01s\tremaining: 650ms\n",
      "61:\tlearn: 58903.6479260\ttest: 62652.4092029\tbest: 62646.7742060 (60)\ttotal: 1.03s\tremaining: 630ms\n",
      "62:\tlearn: 58800.8377626\ttest: 62597.5917179\tbest: 62597.5917179 (62)\ttotal: 1.04s\tremaining: 610ms\n",
      "63:\tlearn: 58728.8670875\ttest: 62558.9603752\tbest: 62558.9603752 (63)\ttotal: 1.05s\tremaining: 590ms\n",
      "64:\tlearn: 58723.0005101\ttest: 62559.0189830\tbest: 62558.9603752 (63)\ttotal: 1.05s\tremaining: 568ms\n",
      "65:\tlearn: 58669.5248081\ttest: 62592.8726619\tbest: 62558.9603752 (63)\ttotal: 1.11s\tremaining: 570ms\n",
      "66:\tlearn: 58570.9886695\ttest: 62555.9181030\tbest: 62555.9181030 (66)\ttotal: 1.12s\tremaining: 552ms\n",
      "67:\tlearn: 58475.4560168\ttest: 62541.1885573\tbest: 62541.1885573 (67)\ttotal: 1.14s\tremaining: 535ms\n",
      "68:\tlearn: 58343.3900849\ttest: 62467.3392994\tbest: 62467.3392994 (68)\ttotal: 1.15s\tremaining: 516ms\n",
      "69:\tlearn: 58225.7086667\ttest: 62462.7097457\tbest: 62462.7097457 (69)\ttotal: 1.18s\tremaining: 504ms\n",
      "70:\tlearn: 58122.7833574\ttest: 62381.5741583\tbest: 62381.5741583 (70)\ttotal: 1.19s\tremaining: 487ms\n",
      "71:\tlearn: 58027.3856095\ttest: 62374.2303991\tbest: 62374.2303991 (71)\ttotal: 1.21s\tremaining: 470ms\n",
      "72:\tlearn: 57946.4420893\ttest: 62364.5702160\tbest: 62364.5702160 (72)\ttotal: 1.23s\tremaining: 456ms\n",
      "73:\tlearn: 57720.0566216\ttest: 62239.2363288\tbest: 62239.2363288 (73)\ttotal: 1.25s\tremaining: 440ms\n",
      "74:\tlearn: 57620.9793348\ttest: 62207.9491453\tbest: 62207.9491453 (74)\ttotal: 1.27s\tremaining: 424ms\n",
      "75:\tlearn: 57502.5961127\ttest: 62183.0343667\tbest: 62183.0343667 (75)\ttotal: 1.31s\tremaining: 414ms\n",
      "76:\tlearn: 57429.9138910\ttest: 62153.3254947\tbest: 62153.3254947 (76)\ttotal: 1.34s\tremaining: 399ms\n",
      "77:\tlearn: 57367.0889136\ttest: 62140.9511997\tbest: 62140.9511997 (77)\ttotal: 1.39s\tremaining: 392ms\n",
      "78:\tlearn: 57281.0785241\ttest: 62136.0601580\tbest: 62136.0601580 (78)\ttotal: 1.41s\tremaining: 376ms\n",
      "79:\tlearn: 57211.4349048\ttest: 62089.5924922\tbest: 62089.5924922 (79)\ttotal: 1.43s\tremaining: 358ms\n",
      "80:\tlearn: 57164.7744645\ttest: 62064.5993150\tbest: 62064.5993150 (80)\ttotal: 1.46s\tremaining: 342ms\n",
      "81:\tlearn: 57126.1638996\ttest: 62020.4730924\tbest: 62020.4730924 (81)\ttotal: 1.48s\tremaining: 326ms\n",
      "82:\tlearn: 57112.5320954\ttest: 62023.7741081\tbest: 62020.4730924 (81)\ttotal: 1.5s\tremaining: 308ms\n",
      "83:\tlearn: 57031.5268333\ttest: 61994.1494287\tbest: 61994.1494287 (83)\ttotal: 1.52s\tremaining: 290ms\n",
      "84:\tlearn: 56940.9523567\ttest: 61850.3144447\tbest: 61850.3144447 (84)\ttotal: 1.55s\tremaining: 274ms\n",
      "85:\tlearn: 56876.9866886\ttest: 61850.0429738\tbest: 61850.0429738 (85)\ttotal: 1.57s\tremaining: 255ms\n",
      "86:\tlearn: 56780.2527197\ttest: 61828.4340604\tbest: 61828.4340604 (86)\ttotal: 1.58s\tremaining: 236ms\n",
      "87:\tlearn: 56778.5798248\ttest: 61828.0052955\tbest: 61828.0052955 (87)\ttotal: 1.59s\tremaining: 216ms\n",
      "88:\tlearn: 56699.4171573\ttest: 61854.4423120\tbest: 61828.0052955 (87)\ttotal: 1.6s\tremaining: 198ms\n",
      "89:\tlearn: 56637.1121732\ttest: 61862.4036843\tbest: 61828.0052955 (87)\ttotal: 1.61s\tremaining: 179ms\n",
      "90:\tlearn: 56544.5204160\ttest: 61766.2392106\tbest: 61766.2392106 (90)\ttotal: 1.64s\tremaining: 162ms\n",
      "91:\tlearn: 56434.9513420\ttest: 61753.6707650\tbest: 61753.6707650 (91)\ttotal: 1.65s\tremaining: 144ms\n",
      "92:\tlearn: 56335.2103160\ttest: 61686.3118237\tbest: 61686.3118237 (92)\ttotal: 1.67s\tremaining: 125ms\n",
      "93:\tlearn: 56225.5753600\ttest: 61584.1716015\tbest: 61584.1716015 (93)\ttotal: 1.67s\tremaining: 107ms\n",
      "94:\tlearn: 56153.5165638\ttest: 61555.3020991\tbest: 61555.3020991 (94)\ttotal: 1.68s\tremaining: 88.4ms\n",
      "95:\tlearn: 56026.1406363\ttest: 61448.0856936\tbest: 61448.0856936 (95)\ttotal: 1.69s\tremaining: 70.3ms\n",
      "96:\tlearn: 55979.6911945\ttest: 61426.5703806\tbest: 61426.5703806 (96)\ttotal: 1.72s\tremaining: 53.2ms\n",
      "97:\tlearn: 55914.1600029\ttest: 61386.6763392\tbest: 61386.6763392 (97)\ttotal: 1.74s\tremaining: 35.5ms\n",
      "98:\tlearn: 55798.8571042\ttest: 61349.2303137\tbest: 61349.2303137 (98)\ttotal: 1.75s\tremaining: 17.6ms\n",
      "99:\tlearn: 55756.6922312\ttest: 61367.3444617\tbest: 61349.2303137 (98)\ttotal: 1.75s\tremaining: 0us\n",
      "\n",
      "bestTest = 61349.23031\n",
      "bestIteration = 98\n",
      "\n",
      "0:\tloss: 61349.2303137\tbest: 61349.2303137 (0)\ttotal: 1.86s\tremaining: 16.8s\n",
      "0:\tlearn: 98842.5674999\ttest: 98648.3407607\tbest: 98648.3407607 (0)\ttotal: 35.8ms\tremaining: 3.55s\n",
      "1:\tlearn: 82596.0707864\ttest: 83240.0077537\tbest: 83240.0077537 (1)\ttotal: 66.9ms\tremaining: 3.28s\n",
      "2:\tlearn: 75463.2650612\ttest: 76263.1502242\tbest: 76263.1502242 (2)\ttotal: 91.1ms\tremaining: 2.94s\n",
      "3:\tlearn: 73102.2980171\ttest: 73614.9836916\tbest: 73614.9836916 (3)\ttotal: 113ms\tremaining: 2.72s\n",
      "4:\tlearn: 71641.8070712\ttest: 72326.2602249\tbest: 72326.2602249 (4)\ttotal: 154ms\tremaining: 2.93s\n",
      "5:\tlearn: 71135.2607564\ttest: 71890.9473843\tbest: 71890.9473843 (5)\ttotal: 186ms\tremaining: 2.92s\n",
      "6:\tlearn: 69869.0683762\ttest: 70456.8916623\tbest: 70456.8916623 (6)\ttotal: 205ms\tremaining: 2.72s\n",
      "7:\tlearn: 69356.8492023\ttest: 69815.9985789\tbest: 69815.9985789 (7)\ttotal: 219ms\tremaining: 2.52s\n",
      "8:\tlearn: 68761.1197676\ttest: 69286.2150234\tbest: 69286.2150234 (8)\ttotal: 245ms\tremaining: 2.48s\n",
      "9:\tlearn: 68207.2931474\ttest: 68770.3090029\tbest: 68770.3090029 (9)\ttotal: 259ms\tremaining: 2.33s\n",
      "10:\tlearn: 67275.0946746\ttest: 68007.8525115\tbest: 68007.8525115 (10)\ttotal: 273ms\tremaining: 2.21s\n",
      "11:\tlearn: 66666.8575864\ttest: 67390.0958339\tbest: 67390.0958339 (11)\ttotal: 334ms\tremaining: 2.45s\n",
      "12:\tlearn: 66216.5359434\ttest: 66959.3333048\tbest: 66959.3333048 (12)\ttotal: 348ms\tremaining: 2.33s\n",
      "13:\tlearn: 65980.6155407\ttest: 66835.1605060\tbest: 66835.1605060 (13)\ttotal: 359ms\tremaining: 2.21s\n",
      "14:\tlearn: 65562.9726376\ttest: 66613.3210443\tbest: 66613.3210443 (14)\ttotal: 390ms\tremaining: 2.21s\n",
      "15:\tlearn: 65319.1437863\ttest: 66476.1694631\tbest: 66476.1694631 (15)\ttotal: 411ms\tremaining: 2.16s\n",
      "16:\tlearn: 65138.8592231\ttest: 66370.2066936\tbest: 66370.2066936 (16)\ttotal: 442ms\tremaining: 2.16s\n",
      "17:\tlearn: 64777.1695009\ttest: 66119.4708155\tbest: 66119.4708155 (17)\ttotal: 467ms\tremaining: 2.13s\n",
      "18:\tlearn: 64559.7763070\ttest: 66005.4875801\tbest: 66005.4875801 (18)\ttotal: 482ms\tremaining: 2.05s\n",
      "19:\tlearn: 64282.4982270\ttest: 65710.5298998\tbest: 65710.5298998 (19)\ttotal: 493ms\tremaining: 1.97s\n",
      "20:\tlearn: 64141.3225947\ttest: 65676.8692271\tbest: 65676.8692271 (20)\ttotal: 517ms\tremaining: 1.95s\n",
      "21:\tlearn: 64011.1597431\ttest: 65650.0638409\tbest: 65650.0638409 (21)\ttotal: 531ms\tremaining: 1.88s\n",
      "22:\tlearn: 63831.7989112\ttest: 65428.5076103\tbest: 65428.5076103 (22)\ttotal: 543ms\tremaining: 1.82s\n",
      "23:\tlearn: 63676.4117262\ttest: 65350.3727677\tbest: 65350.3727677 (23)\ttotal: 557ms\tremaining: 1.76s\n",
      "24:\tlearn: 63581.8205831\ttest: 65364.0398140\tbest: 65350.3727677 (23)\ttotal: 580ms\tremaining: 1.74s\n",
      "25:\tlearn: 63197.1836719\ttest: 65072.5115517\tbest: 65072.5115517 (25)\ttotal: 601ms\tremaining: 1.71s\n",
      "26:\tlearn: 63076.4683058\ttest: 65034.7250109\tbest: 65034.7250109 (26)\ttotal: 612ms\tremaining: 1.66s\n",
      "27:\tlearn: 62899.8323755\ttest: 64857.3740681\tbest: 64857.3740681 (27)\ttotal: 642ms\tremaining: 1.65s\n",
      "28:\tlearn: 62816.0083033\ttest: 64893.4653385\tbest: 64857.3740681 (27)\ttotal: 679ms\tremaining: 1.66s\n",
      "29:\tlearn: 62585.4291291\ttest: 64716.7798689\tbest: 64716.7798689 (29)\ttotal: 692ms\tremaining: 1.61s\n",
      "30:\tlearn: 62403.2965621\ttest: 64539.2727487\tbest: 64539.2727487 (30)\ttotal: 707ms\tremaining: 1.57s\n",
      "31:\tlearn: 62186.2928828\ttest: 64278.3697299\tbest: 64278.3697299 (31)\ttotal: 738ms\tremaining: 1.57s\n",
      "32:\tlearn: 61990.8491857\ttest: 64230.0447381\tbest: 64230.0447381 (32)\ttotal: 760ms\tremaining: 1.54s\n",
      "33:\tlearn: 61884.8318266\ttest: 64133.0450267\tbest: 64133.0450267 (33)\ttotal: 773ms\tremaining: 1.5s\n",
      "34:\tlearn: 61777.4063343\ttest: 64131.6498089\tbest: 64131.6498089 (34)\ttotal: 791ms\tremaining: 1.47s\n",
      "35:\tlearn: 61510.4623249\ttest: 64015.2272733\tbest: 64015.2272733 (35)\ttotal: 845ms\tremaining: 1.5s\n",
      "36:\tlearn: 61359.0357452\ttest: 63912.9854447\tbest: 63912.9854447 (36)\ttotal: 887ms\tremaining: 1.51s\n",
      "37:\tlearn: 61263.5629815\ttest: 63871.4652467\tbest: 63871.4652467 (37)\ttotal: 901ms\tremaining: 1.47s\n",
      "38:\tlearn: 60942.0311871\ttest: 63721.6409159\tbest: 63721.6409159 (38)\ttotal: 934ms\tremaining: 1.46s\n",
      "39:\tlearn: 60907.4612563\ttest: 63732.3234539\tbest: 63721.6409159 (38)\ttotal: 950ms\tremaining: 1.43s\n",
      "40:\tlearn: 60695.8892438\ttest: 63584.8996167\tbest: 63584.8996167 (40)\ttotal: 979ms\tremaining: 1.41s\n",
      "41:\tlearn: 60533.7334896\ttest: 63479.6963958\tbest: 63479.6963958 (41)\ttotal: 996ms\tremaining: 1.38s\n",
      "42:\tlearn: 60488.2330478\ttest: 63438.8735698\tbest: 63438.8735698 (42)\ttotal: 1.01s\tremaining: 1.34s\n",
      "43:\tlearn: 60376.8693749\ttest: 63397.5917221\tbest: 63397.5917221 (43)\ttotal: 1.03s\tremaining: 1.31s\n",
      "44:\tlearn: 60282.1166486\ttest: 63368.1672691\tbest: 63368.1672691 (44)\ttotal: 1.04s\tremaining: 1.28s\n",
      "45:\tlearn: 60165.9997453\ttest: 63277.6032695\tbest: 63277.6032695 (45)\ttotal: 1.07s\tremaining: 1.25s\n",
      "46:\tlearn: 60018.6462894\ttest: 63057.5426923\tbest: 63057.5426923 (46)\ttotal: 1.09s\tremaining: 1.23s\n",
      "47:\tlearn: 59869.9365666\ttest: 62999.1314164\tbest: 62999.1314164 (47)\ttotal: 1.1s\tremaining: 1.19s\n",
      "48:\tlearn: 59804.9540346\ttest: 62986.5885624\tbest: 62986.5885624 (48)\ttotal: 1.11s\tremaining: 1.16s\n",
      "49:\tlearn: 59662.5909777\ttest: 62873.6036888\tbest: 62873.6036888 (49)\ttotal: 1.13s\tremaining: 1.13s\n",
      "50:\tlearn: 59627.0519163\ttest: 62865.7826311\tbest: 62865.7826311 (50)\ttotal: 1.15s\tremaining: 1.1s\n",
      "51:\tlearn: 59534.9917815\ttest: 62854.5690763\tbest: 62854.5690763 (51)\ttotal: 1.16s\tremaining: 1.07s\n",
      "52:\tlearn: 59440.2636549\ttest: 62864.0806394\tbest: 62854.5690763 (51)\ttotal: 1.18s\tremaining: 1.04s\n",
      "53:\tlearn: 59355.6343342\ttest: 62822.5787975\tbest: 62822.5787975 (53)\ttotal: 1.19s\tremaining: 1.01s\n",
      "54:\tlearn: 59242.0092829\ttest: 62804.2035832\tbest: 62804.2035832 (54)\ttotal: 1.21s\tremaining: 988ms\n",
      "55:\tlearn: 59156.4607048\ttest: 62760.2601343\tbest: 62760.2601343 (55)\ttotal: 1.23s\tremaining: 969ms\n",
      "56:\tlearn: 59053.9225376\ttest: 62712.3486257\tbest: 62712.3486257 (56)\ttotal: 1.25s\tremaining: 941ms\n",
      "57:\tlearn: 59018.0778669\ttest: 62719.6894174\tbest: 62712.3486257 (56)\ttotal: 1.25s\tremaining: 908ms\n",
      "58:\tlearn: 58922.5520309\ttest: 62638.5206852\tbest: 62638.5206852 (58)\ttotal: 1.27s\tremaining: 883ms\n",
      "59:\tlearn: 58833.0690752\ttest: 62634.7988047\tbest: 62634.7988047 (59)\ttotal: 1.28s\tremaining: 856ms\n",
      "60:\tlearn: 58768.0947014\ttest: 62654.4841220\tbest: 62634.7988047 (59)\ttotal: 1.3s\tremaining: 834ms\n",
      "61:\tlearn: 58676.2415511\ttest: 62617.4437778\tbest: 62617.4437778 (61)\ttotal: 1.33s\tremaining: 815ms\n",
      "62:\tlearn: 58616.3752935\ttest: 62615.4110426\tbest: 62615.4110426 (62)\ttotal: 1.34s\tremaining: 790ms\n",
      "63:\tlearn: 58546.1147119\ttest: 62599.5507653\tbest: 62599.5507653 (63)\ttotal: 1.36s\tremaining: 763ms\n",
      "64:\tlearn: 58456.2699135\ttest: 62527.9658444\tbest: 62527.9658444 (64)\ttotal: 1.38s\tremaining: 743ms\n",
      "65:\tlearn: 58452.5875804\ttest: 62530.7950665\tbest: 62527.9658444 (64)\ttotal: 1.39s\tremaining: 717ms\n",
      "66:\tlearn: 58414.8487652\ttest: 62537.3496879\tbest: 62527.9658444 (64)\ttotal: 1.41s\tremaining: 694ms\n",
      "67:\tlearn: 58312.7822615\ttest: 62506.1905266\tbest: 62506.1905266 (67)\ttotal: 1.42s\tremaining: 669ms\n",
      "68:\tlearn: 58267.4198657\ttest: 62515.4356506\tbest: 62506.1905266 (67)\ttotal: 1.44s\tremaining: 646ms\n",
      "69:\tlearn: 58190.2957606\ttest: 62505.7635125\tbest: 62505.7635125 (69)\ttotal: 1.46s\tremaining: 627ms\n",
      "70:\tlearn: 58140.6018486\ttest: 62472.3786728\tbest: 62472.3786728 (70)\ttotal: 1.5s\tremaining: 611ms\n",
      "71:\tlearn: 58139.1685744\ttest: 62472.3583768\tbest: 62472.3583768 (71)\ttotal: 1.54s\tremaining: 600ms\n",
      "72:\tlearn: 58019.3614453\ttest: 62315.7338813\tbest: 62315.7338813 (72)\ttotal: 1.57s\tremaining: 581ms\n",
      "73:\tlearn: 57996.6522477\ttest: 62331.1809003\tbest: 62315.7338813 (72)\ttotal: 1.6s\tremaining: 561ms\n",
      "74:\tlearn: 57994.6230126\ttest: 62334.8703963\tbest: 62315.7338813 (72)\ttotal: 1.61s\tremaining: 536ms\n",
      "75:\tlearn: 57921.0843013\ttest: 62299.7862761\tbest: 62299.7862761 (75)\ttotal: 1.66s\tremaining: 523ms\n",
      "76:\tlearn: 57856.6938505\ttest: 62282.7108072\tbest: 62282.7108072 (76)\ttotal: 1.7s\tremaining: 507ms\n",
      "77:\tlearn: 57694.7238201\ttest: 62225.1506294\tbest: 62225.1506294 (77)\ttotal: 1.74s\tremaining: 490ms\n",
      "78:\tlearn: 57550.4396877\ttest: 62167.2298857\tbest: 62167.2298857 (78)\ttotal: 1.8s\tremaining: 478ms\n",
      "79:\tlearn: 57490.3605320\ttest: 62149.7781878\tbest: 62149.7781878 (79)\ttotal: 1.81s\tremaining: 452ms\n",
      "80:\tlearn: 57390.4121574\ttest: 62129.7106410\tbest: 62129.7106410 (80)\ttotal: 1.86s\tremaining: 437ms\n",
      "81:\tlearn: 57312.9551991\ttest: 62093.3696505\tbest: 62093.3696505 (81)\ttotal: 1.89s\tremaining: 414ms\n",
      "82:\tlearn: 57244.9079449\ttest: 62029.3031918\tbest: 62029.3031918 (82)\ttotal: 1.9s\tremaining: 389ms\n",
      "83:\tlearn: 57159.1236940\ttest: 61951.6073138\tbest: 61951.6073138 (83)\ttotal: 1.91s\tremaining: 365ms\n",
      "84:\tlearn: 57107.1455060\ttest: 61942.7746095\tbest: 61942.7746095 (84)\ttotal: 1.93s\tremaining: 341ms\n",
      "85:\tlearn: 57017.9720820\ttest: 62018.7675075\tbest: 61942.7746095 (84)\ttotal: 1.95s\tremaining: 317ms\n",
      "86:\tlearn: 56886.9280774\ttest: 61983.9714866\tbest: 61942.7746095 (84)\ttotal: 1.96s\tremaining: 293ms\n",
      "87:\tlearn: 56821.7848095\ttest: 62002.6908448\tbest: 61942.7746095 (84)\ttotal: 1.98s\tremaining: 270ms\n",
      "88:\tlearn: 56785.1055958\ttest: 61999.2478827\tbest: 61942.7746095 (84)\ttotal: 2s\tremaining: 248ms\n",
      "89:\tlearn: 56717.9231782\ttest: 61970.3758034\tbest: 61942.7746095 (84)\ttotal: 2.02s\tremaining: 224ms\n",
      "90:\tlearn: 56618.0752653\ttest: 61944.8780309\tbest: 61942.7746095 (84)\ttotal: 2.04s\tremaining: 202ms\n",
      "91:\tlearn: 56558.2962874\ttest: 61904.6752044\tbest: 61904.6752044 (91)\ttotal: 2.06s\tremaining: 179ms\n",
      "92:\tlearn: 56476.0615583\ttest: 61855.7735764\tbest: 61855.7735764 (92)\ttotal: 2.07s\tremaining: 156ms\n",
      "93:\tlearn: 56435.6403185\ttest: 61888.9324210\tbest: 61855.7735764 (92)\ttotal: 2.09s\tremaining: 134ms\n",
      "94:\tlearn: 56379.7152237\ttest: 61850.0469539\tbest: 61850.0469539 (94)\ttotal: 2.12s\tremaining: 111ms\n",
      "95:\tlearn: 56275.2770051\ttest: 61852.7724244\tbest: 61850.0469539 (94)\ttotal: 2.14s\tremaining: 89.2ms\n",
      "96:\tlearn: 56223.5742392\ttest: 61846.0044217\tbest: 61846.0044217 (96)\ttotal: 2.15s\tremaining: 66.6ms\n",
      "97:\tlearn: 56173.8092382\ttest: 61811.4856409\tbest: 61811.4856409 (97)\ttotal: 2.17s\tremaining: 44.3ms\n",
      "98:\tlearn: 56102.2469678\ttest: 61785.7625643\tbest: 61785.7625643 (98)\ttotal: 2.2s\tremaining: 22.3ms\n",
      "99:\tlearn: 56019.5828782\ttest: 61743.9457677\tbest: 61743.9457677 (99)\ttotal: 2.23s\tremaining: 0us\n",
      "\n",
      "bestTest = 61743.94577\n",
      "bestIteration = 99\n",
      "\n",
      "1:\tloss: 61743.9457677\tbest: 61349.2303137 (0)\ttotal: 4.14s\tremaining: 16.6s\n",
      "0:\tlearn: 98674.8792031\ttest: 98788.4799866\tbest: 98788.4799866 (0)\ttotal: 28.9ms\tremaining: 2.86s\n",
      "1:\tlearn: 81465.8113112\ttest: 82369.5678772\tbest: 82369.5678772 (1)\ttotal: 70ms\tremaining: 3.43s\n",
      "2:\tlearn: 75525.2768967\ttest: 76792.3641981\tbest: 76792.3641981 (2)\ttotal: 95.4ms\tremaining: 3.08s\n",
      "3:\tlearn: 72292.4596314\ttest: 73209.2572685\tbest: 73209.2572685 (3)\ttotal: 142ms\tremaining: 3.42s\n",
      "4:\tlearn: 70794.9011462\ttest: 71729.3803057\tbest: 71729.3803057 (4)\ttotal: 173ms\tremaining: 3.29s\n",
      "5:\tlearn: 70120.5855591\ttest: 71251.7947558\tbest: 71251.7947558 (5)\ttotal: 188ms\tremaining: 2.95s\n",
      "6:\tlearn: 69795.2343425\ttest: 70839.6006566\tbest: 70839.6006566 (6)\ttotal: 218ms\tremaining: 2.9s\n",
      "7:\tlearn: 68799.1281987\ttest: 69752.7970029\tbest: 69752.7970029 (7)\ttotal: 234ms\tremaining: 2.7s\n",
      "8:\tlearn: 68163.2695938\ttest: 69198.4902518\tbest: 69198.4902518 (8)\ttotal: 290ms\tremaining: 2.93s\n",
      "9:\tlearn: 67473.1506587\ttest: 68457.6019687\tbest: 68457.6019687 (9)\ttotal: 320ms\tremaining: 2.88s\n",
      "10:\tlearn: 66784.7936342\ttest: 67755.2861065\tbest: 67755.2861065 (10)\ttotal: 341ms\tremaining: 2.76s\n",
      "11:\tlearn: 66209.8748130\ttest: 67369.0736375\tbest: 67369.0736375 (11)\ttotal: 362ms\tremaining: 2.65s\n",
      "12:\tlearn: 65950.7348425\ttest: 67178.6411496\tbest: 67178.6411496 (12)\ttotal: 377ms\tremaining: 2.52s\n",
      "13:\tlearn: 65367.2334523\ttest: 66836.2774238\tbest: 66836.2774238 (13)\ttotal: 393ms\tremaining: 2.42s\n",
      "14:\tlearn: 64822.2307815\ttest: 66287.0988095\tbest: 66287.0988095 (14)\ttotal: 408ms\tremaining: 2.31s\n",
      "15:\tlearn: 64443.5070917\ttest: 66256.1280485\tbest: 66256.1280485 (15)\ttotal: 425ms\tremaining: 2.23s\n",
      "16:\tlearn: 64177.7917437\ttest: 66196.3393119\tbest: 66196.3393119 (16)\ttotal: 438ms\tremaining: 2.14s\n",
      "17:\tlearn: 63899.7898427\ttest: 66080.0036094\tbest: 66080.0036094 (17)\ttotal: 451ms\tremaining: 2.06s\n",
      "18:\tlearn: 63378.2554874\ttest: 65640.5234311\tbest: 65640.5234311 (18)\ttotal: 482ms\tremaining: 2.05s\n",
      "19:\tlearn: 63100.7098573\ttest: 65495.5045158\tbest: 65495.5045158 (19)\ttotal: 499ms\tremaining: 2s\n",
      "20:\tlearn: 62863.1719733\ttest: 65355.1509734\tbest: 65355.1509734 (20)\ttotal: 526ms\tremaining: 1.98s\n",
      "21:\tlearn: 62620.2049962\ttest: 65176.3505850\tbest: 65176.3505850 (21)\ttotal: 556ms\tremaining: 1.97s\n",
      "22:\tlearn: 62436.9797990\ttest: 65181.0271247\tbest: 65176.3505850 (21)\ttotal: 601ms\tremaining: 2.01s\n",
      "23:\tlearn: 62195.8180918\ttest: 64922.8814783\tbest: 64922.8814783 (23)\ttotal: 623ms\tremaining: 1.97s\n",
      "24:\tlearn: 61967.0732763\ttest: 64842.2969775\tbest: 64842.2969775 (24)\ttotal: 643ms\tremaining: 1.93s\n",
      "25:\tlearn: 61813.2275506\ttest: 64805.4538701\tbest: 64805.4538701 (25)\ttotal: 697ms\tremaining: 1.98s\n",
      "26:\tlearn: 61755.2003311\ttest: 64820.9596475\tbest: 64805.4538701 (25)\ttotal: 722ms\tremaining: 1.95s\n",
      "27:\tlearn: 61525.2155747\ttest: 64618.9104133\tbest: 64618.9104133 (27)\ttotal: 760ms\tremaining: 1.95s\n",
      "28:\tlearn: 61335.3358317\ttest: 64525.7526585\tbest: 64525.7526585 (28)\ttotal: 784ms\tremaining: 1.92s\n",
      "29:\tlearn: 61219.6204107\ttest: 64494.1349364\tbest: 64494.1349364 (29)\ttotal: 801ms\tremaining: 1.87s\n",
      "30:\tlearn: 60851.9234214\ttest: 64365.3013844\tbest: 64365.3013844 (30)\ttotal: 821ms\tremaining: 1.83s\n",
      "31:\tlearn: 60717.5502600\ttest: 64355.8896912\tbest: 64355.8896912 (31)\ttotal: 877ms\tremaining: 1.86s\n",
      "32:\tlearn: 60458.2144495\ttest: 64288.2703542\tbest: 64288.2703542 (32)\ttotal: 929ms\tremaining: 1.89s\n",
      "33:\tlearn: 60172.9754754\ttest: 64224.2690064\tbest: 64224.2690064 (33)\ttotal: 967ms\tremaining: 1.88s\n",
      "34:\tlearn: 60034.1315511\ttest: 64168.2132315\tbest: 64168.2132315 (34)\ttotal: 997ms\tremaining: 1.85s\n",
      "35:\tlearn: 59864.3875456\ttest: 63992.8075733\tbest: 63992.8075733 (35)\ttotal: 1.02s\tremaining: 1.81s\n",
      "36:\tlearn: 59680.0143963\ttest: 63759.5867983\tbest: 63759.5867983 (36)\ttotal: 1.05s\tremaining: 1.8s\n",
      "37:\tlearn: 59603.7733176\ttest: 63759.4401237\tbest: 63759.4401237 (37)\ttotal: 1.08s\tremaining: 1.76s\n",
      "38:\tlearn: 59400.0558244\ttest: 63669.2167043\tbest: 63669.2167043 (38)\ttotal: 1.1s\tremaining: 1.73s\n",
      "39:\tlearn: 59300.9061706\ttest: 63666.9807751\tbest: 63666.9807751 (39)\ttotal: 1.12s\tremaining: 1.68s\n",
      "40:\tlearn: 59217.3231094\ttest: 63693.4920665\tbest: 63666.9807751 (39)\ttotal: 1.15s\tremaining: 1.66s\n",
      "41:\tlearn: 59150.7890023\ttest: 63683.4275303\tbest: 63666.9807751 (39)\ttotal: 1.2s\tremaining: 1.66s\n",
      "42:\tlearn: 58974.6031371\ttest: 63565.0873711\tbest: 63565.0873711 (42)\ttotal: 1.22s\tremaining: 1.61s\n",
      "43:\tlearn: 58840.2084608\ttest: 63555.7591298\tbest: 63555.7591298 (43)\ttotal: 1.25s\tremaining: 1.59s\n",
      "44:\tlearn: 58706.1582840\ttest: 63523.0721195\tbest: 63523.0721195 (44)\ttotal: 1.3s\tremaining: 1.58s\n",
      "45:\tlearn: 58590.5426636\ttest: 63545.1025482\tbest: 63523.0721195 (44)\ttotal: 1.32s\tremaining: 1.55s\n",
      "46:\tlearn: 58489.4234181\ttest: 63561.4520961\tbest: 63523.0721195 (44)\ttotal: 1.35s\tremaining: 1.52s\n",
      "47:\tlearn: 58352.7541832\ttest: 63488.4671193\tbest: 63488.4671193 (47)\ttotal: 1.39s\tremaining: 1.5s\n",
      "48:\tlearn: 58240.5027099\ttest: 63464.0672613\tbest: 63464.0672613 (48)\ttotal: 1.42s\tremaining: 1.48s\n",
      "49:\tlearn: 58151.9720657\ttest: 63454.5136277\tbest: 63454.5136277 (49)\ttotal: 1.45s\tremaining: 1.45s\n",
      "50:\tlearn: 57990.0571445\ttest: 63386.6679141\tbest: 63386.6679141 (50)\ttotal: 1.48s\tremaining: 1.42s\n",
      "51:\tlearn: 57846.3735443\ttest: 63323.2676318\tbest: 63323.2676318 (51)\ttotal: 1.51s\tremaining: 1.4s\n",
      "52:\tlearn: 57752.0191848\ttest: 63392.3987796\tbest: 63323.2676318 (51)\ttotal: 1.54s\tremaining: 1.36s\n",
      "53:\tlearn: 57646.5090257\ttest: 63399.5097321\tbest: 63323.2676318 (51)\ttotal: 1.57s\tremaining: 1.33s\n",
      "54:\tlearn: 57477.3651854\ttest: 63321.7963372\tbest: 63321.7963372 (54)\ttotal: 1.59s\tremaining: 1.3s\n",
      "55:\tlearn: 57383.5457334\ttest: 63274.6134653\tbest: 63274.6134653 (55)\ttotal: 1.62s\tremaining: 1.27s\n",
      "56:\tlearn: 57301.4294269\ttest: 63285.1337875\tbest: 63274.6134653 (55)\ttotal: 1.64s\tremaining: 1.24s\n",
      "57:\tlearn: 57157.9837195\ttest: 63322.1087769\tbest: 63274.6134653 (55)\ttotal: 1.69s\tremaining: 1.22s\n",
      "58:\tlearn: 57037.3269612\ttest: 63294.3863426\tbest: 63274.6134653 (55)\ttotal: 1.72s\tremaining: 1.2s\n",
      "59:\tlearn: 56979.2424272\ttest: 63289.1855146\tbest: 63274.6134653 (55)\ttotal: 1.75s\tremaining: 1.17s\n",
      "60:\tlearn: 56887.2651045\ttest: 63297.8052799\tbest: 63274.6134653 (55)\ttotal: 1.77s\tremaining: 1.13s\n",
      "61:\tlearn: 56803.2742996\ttest: 63226.5633342\tbest: 63226.5633342 (61)\ttotal: 1.86s\tremaining: 1.14s\n",
      "62:\tlearn: 56713.9125743\ttest: 63222.4047754\tbest: 63222.4047754 (62)\ttotal: 1.9s\tremaining: 1.11s\n",
      "63:\tlearn: 56647.0312321\ttest: 63246.4425722\tbest: 63222.4047754 (62)\ttotal: 1.93s\tremaining: 1.08s\n",
      "64:\tlearn: 56568.1097108\ttest: 63193.5603870\tbest: 63193.5603870 (64)\ttotal: 1.97s\tremaining: 1.06s\n",
      "65:\tlearn: 56421.2449051\ttest: 63115.5618006\tbest: 63115.5618006 (65)\ttotal: 2s\tremaining: 1.03s\n",
      "66:\tlearn: 56355.2603013\ttest: 63087.7896214\tbest: 63087.7896214 (66)\ttotal: 2.02s\tremaining: 993ms\n",
      "67:\tlearn: 56244.1792762\ttest: 63074.0323277\tbest: 63074.0323277 (67)\ttotal: 2.04s\tremaining: 959ms\n",
      "68:\tlearn: 56188.0307195\ttest: 63086.5388100\tbest: 63074.0323277 (67)\ttotal: 2.08s\tremaining: 933ms\n",
      "69:\tlearn: 56180.1911761\ttest: 63088.9848562\tbest: 63074.0323277 (67)\ttotal: 2.09s\tremaining: 897ms\n",
      "70:\tlearn: 56066.5944066\ttest: 63083.1751866\tbest: 63074.0323277 (67)\ttotal: 2.12s\tremaining: 864ms\n",
      "71:\tlearn: 55918.6481199\ttest: 63031.5139807\tbest: 63031.5139807 (71)\ttotal: 2.13s\tremaining: 829ms\n",
      "72:\tlearn: 55803.5819849\ttest: 62993.1444079\tbest: 62993.1444079 (72)\ttotal: 2.16s\tremaining: 799ms\n",
      "73:\tlearn: 55721.9795209\ttest: 62946.0948829\tbest: 62946.0948829 (73)\ttotal: 2.17s\tremaining: 764ms\n",
      "74:\tlearn: 55655.9769793\ttest: 62966.9016782\tbest: 62946.0948829 (73)\ttotal: 2.2s\tremaining: 733ms\n",
      "75:\tlearn: 55622.0274083\ttest: 62989.9888413\tbest: 62946.0948829 (73)\ttotal: 2.22s\tremaining: 702ms\n",
      "76:\tlearn: 55519.9510609\ttest: 63023.4390870\tbest: 62946.0948829 (73)\ttotal: 2.26s\tremaining: 675ms\n",
      "77:\tlearn: 55395.5646026\ttest: 63018.2598132\tbest: 62946.0948829 (73)\ttotal: 2.28s\tremaining: 644ms\n",
      "78:\tlearn: 55264.3064706\ttest: 62903.3301147\tbest: 62903.3301147 (78)\ttotal: 2.33s\tremaining: 619ms\n",
      "79:\tlearn: 55167.6772513\ttest: 62926.7242753\tbest: 62903.3301147 (78)\ttotal: 2.35s\tremaining: 588ms\n",
      "80:\tlearn: 55035.5575642\ttest: 62911.8451594\tbest: 62903.3301147 (78)\ttotal: 2.37s\tremaining: 557ms\n",
      "81:\tlearn: 54919.1273888\ttest: 62940.1385055\tbest: 62903.3301147 (78)\ttotal: 2.41s\tremaining: 528ms\n",
      "82:\tlearn: 54853.4284769\ttest: 62967.4343340\tbest: 62903.3301147 (78)\ttotal: 2.43s\tremaining: 497ms\n",
      "83:\tlearn: 54716.8291071\ttest: 62913.0176253\tbest: 62903.3301147 (78)\ttotal: 2.45s\tremaining: 467ms\n",
      "84:\tlearn: 54610.1182286\ttest: 62954.2612851\tbest: 62903.3301147 (78)\ttotal: 2.53s\tremaining: 446ms\n",
      "85:\tlearn: 54565.7110208\ttest: 62927.7566275\tbest: 62903.3301147 (78)\ttotal: 2.56s\tremaining: 417ms\n",
      "86:\tlearn: 54425.9988725\ttest: 62945.1233272\tbest: 62903.3301147 (78)\ttotal: 2.59s\tremaining: 387ms\n",
      "87:\tlearn: 54347.5460637\ttest: 62969.4088714\tbest: 62903.3301147 (78)\ttotal: 2.61s\tremaining: 356ms\n",
      "88:\tlearn: 54288.6853634\ttest: 62971.2304385\tbest: 62903.3301147 (78)\ttotal: 2.64s\tremaining: 326ms\n",
      "89:\tlearn: 54246.4268206\ttest: 62960.3073278\tbest: 62903.3301147 (78)\ttotal: 2.67s\tremaining: 297ms\n",
      "90:\tlearn: 54129.0234366\ttest: 62951.1131490\tbest: 62903.3301147 (78)\ttotal: 2.71s\tremaining: 268ms\n",
      "91:\tlearn: 54101.6273591\ttest: 62947.3605915\tbest: 62903.3301147 (78)\ttotal: 2.73s\tremaining: 238ms\n",
      "92:\tlearn: 54051.5239023\ttest: 62943.0447683\tbest: 62903.3301147 (78)\ttotal: 2.77s\tremaining: 208ms\n",
      "93:\tlearn: 53973.3176440\ttest: 62987.1731427\tbest: 62903.3301147 (78)\ttotal: 2.79s\tremaining: 178ms\n",
      "94:\tlearn: 53907.1914979\ttest: 63023.5184414\tbest: 62903.3301147 (78)\ttotal: 2.81s\tremaining: 148ms\n",
      "95:\tlearn: 53729.0654143\ttest: 62845.4987081\tbest: 62845.4987081 (95)\ttotal: 2.83s\tremaining: 118ms\n",
      "96:\tlearn: 53586.2570850\ttest: 62839.1034534\tbest: 62839.1034534 (96)\ttotal: 2.85s\tremaining: 88.2ms\n",
      "97:\tlearn: 53473.3952577\ttest: 62845.1393396\tbest: 62839.1034534 (96)\ttotal: 2.87s\tremaining: 58.6ms\n",
      "98:\tlearn: 53385.9962908\ttest: 62872.7487267\tbest: 62839.1034534 (96)\ttotal: 2.9s\tremaining: 29.3ms\n",
      "99:\tlearn: 53309.2049159\ttest: 62851.7801472\tbest: 62839.1034534 (96)\ttotal: 2.93s\tremaining: 0us\n",
      "\n",
      "bestTest = 62839.10345\n",
      "bestIteration = 96\n",
      "\n",
      "2:\tloss: 62839.1034534\tbest: 61349.2303137 (0)\ttotal: 7.09s\tremaining: 16.5s\n",
      "0:\tlearn: 98939.9326947\ttest: 99113.9530258\tbest: 99113.9530258 (0)\ttotal: 23.7ms\tremaining: 2.34s\n",
      "1:\tlearn: 81699.2627547\ttest: 82650.5641157\tbest: 82650.5641157 (1)\ttotal: 52.8ms\tremaining: 2.59s\n",
      "2:\tlearn: 75781.3736122\ttest: 77117.2016141\tbest: 77117.2016141 (2)\ttotal: 77.6ms\tremaining: 2.51s\n",
      "3:\tlearn: 72561.2849763\ttest: 73548.6650298\tbest: 73548.6650298 (3)\ttotal: 106ms\tremaining: 2.55s\n",
      "4:\tlearn: 71051.0723561\ttest: 72059.8064587\tbest: 72059.8064587 (4)\ttotal: 126ms\tremaining: 2.4s\n",
      "5:\tlearn: 70470.1826007\ttest: 71557.2542681\tbest: 71557.2542681 (5)\ttotal: 158ms\tremaining: 2.47s\n",
      "6:\tlearn: 70071.0477857\ttest: 71311.9170377\tbest: 71311.9170377 (6)\ttotal: 196ms\tremaining: 2.61s\n",
      "7:\tlearn: 68843.6735567\ttest: 70092.1468925\tbest: 70092.1468925 (7)\ttotal: 266ms\tremaining: 3.05s\n",
      "8:\tlearn: 68312.7178054\ttest: 69720.9038222\tbest: 69720.9038222 (8)\ttotal: 288ms\tremaining: 2.92s\n",
      "9:\tlearn: 68052.0433471\ttest: 69536.8251231\tbest: 69536.8251231 (9)\ttotal: 317ms\tremaining: 2.86s\n",
      "10:\tlearn: 67428.2672938\ttest: 68739.1879897\tbest: 68739.1879897 (10)\ttotal: 341ms\tremaining: 2.76s\n",
      "11:\tlearn: 66612.6296722\ttest: 68018.7474856\tbest: 68018.7474856 (11)\ttotal: 366ms\tremaining: 2.68s\n",
      "12:\tlearn: 66301.9030832\ttest: 67930.2580773\tbest: 67930.2580773 (12)\ttotal: 395ms\tremaining: 2.64s\n",
      "13:\tlearn: 65953.6295442\ttest: 67552.6063108\tbest: 67552.6063108 (13)\ttotal: 437ms\tremaining: 2.68s\n",
      "14:\tlearn: 65480.2093739\ttest: 67135.0921166\tbest: 67135.0921166 (14)\ttotal: 464ms\tremaining: 2.63s\n",
      "15:\tlearn: 65182.8222389\ttest: 66837.5918106\tbest: 66837.5918106 (15)\ttotal: 483ms\tremaining: 2.54s\n",
      "16:\tlearn: 64935.7819892\ttest: 66736.2941591\tbest: 66736.2941591 (16)\ttotal: 511ms\tremaining: 2.49s\n",
      "17:\tlearn: 64639.0636172\ttest: 66494.4844018\tbest: 66494.4844018 (17)\ttotal: 537ms\tremaining: 2.45s\n",
      "18:\tlearn: 64180.6030427\ttest: 65978.2243993\tbest: 65978.2243993 (18)\ttotal: 552ms\tremaining: 2.35s\n",
      "19:\tlearn: 63799.0730945\ttest: 65794.1798082\tbest: 65794.1798082 (19)\ttotal: 573ms\tremaining: 2.29s\n",
      "20:\tlearn: 63245.1418566\ttest: 65492.7022471\tbest: 65492.7022471 (20)\ttotal: 590ms\tremaining: 2.22s\n",
      "21:\tlearn: 62939.7004221\ttest: 65300.1555221\tbest: 65300.1555221 (21)\ttotal: 611ms\tremaining: 2.17s\n",
      "22:\tlearn: 62682.6205482\ttest: 65229.8763746\tbest: 65229.8763746 (22)\ttotal: 637ms\tremaining: 2.13s\n",
      "23:\tlearn: 62215.5457580\ttest: 64786.5464708\tbest: 64786.5464708 (23)\ttotal: 653ms\tremaining: 2.07s\n",
      "24:\tlearn: 62013.6011808\ttest: 64540.6455371\tbest: 64540.6455371 (24)\ttotal: 670ms\tremaining: 2.01s\n",
      "25:\tlearn: 61702.3960299\ttest: 64276.7146751\tbest: 64276.7146751 (25)\ttotal: 700ms\tremaining: 1.99s\n",
      "26:\tlearn: 61616.3707695\ttest: 64243.8311074\tbest: 64243.8311074 (26)\ttotal: 725ms\tremaining: 1.96s\n",
      "27:\tlearn: 61394.7471588\ttest: 64182.4421244\tbest: 64182.4421244 (27)\ttotal: 756ms\tremaining: 1.94s\n",
      "28:\tlearn: 61295.1304036\ttest: 64148.7147268\tbest: 64148.7147268 (28)\ttotal: 771ms\tremaining: 1.89s\n",
      "29:\tlearn: 61077.5515376\ttest: 64191.3517400\tbest: 64148.7147268 (28)\ttotal: 790ms\tremaining: 1.84s\n",
      "30:\tlearn: 60858.9506795\ttest: 64088.3614419\tbest: 64088.3614419 (30)\ttotal: 818ms\tremaining: 1.82s\n",
      "31:\tlearn: 60692.7908091\ttest: 63985.0656854\tbest: 63985.0656854 (31)\ttotal: 851ms\tremaining: 1.81s\n",
      "32:\tlearn: 60482.8593750\ttest: 63913.0577535\tbest: 63913.0577535 (32)\ttotal: 865ms\tremaining: 1.76s\n",
      "33:\tlearn: 60353.0904085\ttest: 63834.0936955\tbest: 63834.0936955 (33)\ttotal: 887ms\tremaining: 1.72s\n",
      "34:\tlearn: 60263.6898583\ttest: 63879.5571376\tbest: 63834.0936955 (33)\ttotal: 909ms\tremaining: 1.69s\n",
      "35:\tlearn: 60115.6260472\ttest: 63838.8957113\tbest: 63834.0936955 (33)\ttotal: 939ms\tremaining: 1.67s\n",
      "36:\tlearn: 59964.9157055\ttest: 63776.7043052\tbest: 63776.7043052 (36)\ttotal: 973ms\tremaining: 1.66s\n",
      "37:\tlearn: 59847.2515333\ttest: 63761.7088573\tbest: 63761.7088573 (37)\ttotal: 1000ms\tremaining: 1.63s\n",
      "38:\tlearn: 59738.9577432\ttest: 63784.5584789\tbest: 63761.7088573 (37)\ttotal: 1.02s\tremaining: 1.59s\n",
      "39:\tlearn: 59503.3367980\ttest: 63636.4069069\tbest: 63636.4069069 (39)\ttotal: 1.05s\tremaining: 1.57s\n",
      "40:\tlearn: 59345.3845124\ttest: 63613.4082362\tbest: 63613.4082362 (40)\ttotal: 1.08s\tremaining: 1.56s\n",
      "41:\tlearn: 59334.8491891\ttest: 63617.2982293\tbest: 63613.4082362 (40)\ttotal: 1.1s\tremaining: 1.52s\n",
      "42:\tlearn: 59111.3781159\ttest: 63320.4998135\tbest: 63320.4998135 (42)\ttotal: 1.13s\tremaining: 1.5s\n",
      "43:\tlearn: 58988.0279112\ttest: 63326.2098870\tbest: 63320.4998135 (42)\ttotal: 1.15s\tremaining: 1.47s\n",
      "44:\tlearn: 58895.1545073\ttest: 63207.4024710\tbest: 63207.4024710 (44)\ttotal: 1.18s\tremaining: 1.44s\n",
      "45:\tlearn: 58874.7924897\ttest: 63195.7452890\tbest: 63195.7452890 (45)\ttotal: 1.19s\tremaining: 1.4s\n",
      "46:\tlearn: 58779.4720123\ttest: 63173.9158809\tbest: 63173.9158809 (46)\ttotal: 1.21s\tremaining: 1.36s\n",
      "47:\tlearn: 58648.1651445\ttest: 63151.5071647\tbest: 63151.5071647 (47)\ttotal: 1.23s\tremaining: 1.33s\n",
      "48:\tlearn: 58569.2160262\ttest: 63116.9657162\tbest: 63116.9657162 (48)\ttotal: 1.27s\tremaining: 1.32s\n",
      "49:\tlearn: 58408.7405804\ttest: 63103.6434410\tbest: 63103.6434410 (49)\ttotal: 1.3s\tremaining: 1.3s\n",
      "50:\tlearn: 58216.5068812\ttest: 63057.7813357\tbest: 63057.7813357 (50)\ttotal: 1.33s\tremaining: 1.28s\n",
      "51:\tlearn: 58001.3858390\ttest: 63045.7279533\tbest: 63045.7279533 (51)\ttotal: 1.37s\tremaining: 1.26s\n",
      "52:\tlearn: 57912.8174733\ttest: 63054.1691405\tbest: 63045.7279533 (51)\ttotal: 1.43s\tremaining: 1.27s\n",
      "53:\tlearn: 57793.1662418\ttest: 63053.3527082\tbest: 63045.7279533 (51)\ttotal: 1.46s\tremaining: 1.25s\n",
      "54:\tlearn: 57709.0656199\ttest: 63075.9759992\tbest: 63045.7279533 (51)\ttotal: 1.49s\tremaining: 1.22s\n",
      "55:\tlearn: 57613.3441351\ttest: 63004.7339495\tbest: 63004.7339495 (55)\ttotal: 1.51s\tremaining: 1.19s\n",
      "56:\tlearn: 57511.0076523\ttest: 63021.2517982\tbest: 63004.7339495 (55)\ttotal: 1.56s\tremaining: 1.18s\n",
      "57:\tlearn: 57406.2540314\ttest: 63023.0852966\tbest: 63004.7339495 (55)\ttotal: 1.59s\tremaining: 1.15s\n",
      "58:\tlearn: 57289.1189740\ttest: 63016.2749023\tbest: 63004.7339495 (55)\ttotal: 1.64s\tremaining: 1.14s\n",
      "59:\tlearn: 57200.9523069\ttest: 62983.1139267\tbest: 62983.1139267 (59)\ttotal: 1.68s\tremaining: 1.12s\n",
      "60:\tlearn: 57103.4115008\ttest: 62933.3126996\tbest: 62933.3126996 (60)\ttotal: 1.7s\tremaining: 1.09s\n",
      "61:\tlearn: 57097.1840060\ttest: 62937.7708109\tbest: 62933.3126996 (60)\ttotal: 1.75s\tremaining: 1.07s\n",
      "62:\tlearn: 56993.4907982\ttest: 62807.2205147\tbest: 62807.2205147 (62)\ttotal: 1.8s\tremaining: 1.06s\n",
      "63:\tlearn: 56866.7539855\ttest: 62729.9899051\tbest: 62729.9899051 (63)\ttotal: 1.83s\tremaining: 1.03s\n",
      "64:\tlearn: 56787.1691428\ttest: 62734.5679348\tbest: 62729.9899051 (63)\ttotal: 1.87s\tremaining: 1.01s\n",
      "65:\tlearn: 56688.2044878\ttest: 62813.7445447\tbest: 62729.9899051 (63)\ttotal: 1.9s\tremaining: 979ms\n",
      "66:\tlearn: 56647.1698139\ttest: 62745.4543361\tbest: 62729.9899051 (63)\ttotal: 1.94s\tremaining: 957ms\n",
      "67:\tlearn: 56515.7923059\ttest: 62756.4541770\tbest: 62729.9899051 (63)\ttotal: 1.97s\tremaining: 925ms\n",
      "68:\tlearn: 56437.0022775\ttest: 62779.7571590\tbest: 62729.9899051 (63)\ttotal: 1.98s\tremaining: 891ms\n",
      "69:\tlearn: 56381.4183293\ttest: 62777.5270245\tbest: 62729.9899051 (63)\ttotal: 2s\tremaining: 856ms\n",
      "70:\tlearn: 56253.0188539\ttest: 62734.3208396\tbest: 62729.9899051 (63)\ttotal: 2.02s\tremaining: 825ms\n",
      "71:\tlearn: 56189.2922836\ttest: 62727.1381774\tbest: 62727.1381774 (71)\ttotal: 2.06s\tremaining: 800ms\n",
      "72:\tlearn: 56110.8628137\ttest: 62744.9368159\tbest: 62727.1381774 (71)\ttotal: 2.08s\tremaining: 768ms\n",
      "73:\tlearn: 55943.4597919\ttest: 62737.2785888\tbest: 62727.1381774 (71)\ttotal: 2.11s\tremaining: 743ms\n",
      "74:\tlearn: 55782.3995868\ttest: 62574.3044901\tbest: 62574.3044901 (74)\ttotal: 2.14s\tremaining: 714ms\n",
      "75:\tlearn: 55738.8508667\ttest: 62552.4709570\tbest: 62552.4709570 (75)\ttotal: 2.19s\tremaining: 691ms\n",
      "76:\tlearn: 55631.7769485\ttest: 62490.8764222\tbest: 62490.8764222 (76)\ttotal: 2.23s\tremaining: 667ms\n",
      "77:\tlearn: 55493.0626507\ttest: 62434.0620601\tbest: 62434.0620601 (77)\ttotal: 2.27s\tremaining: 639ms\n",
      "78:\tlearn: 55405.1891135\ttest: 62456.4272962\tbest: 62434.0620601 (77)\ttotal: 2.31s\tremaining: 615ms\n",
      "79:\tlearn: 55346.5278301\ttest: 62437.8735884\tbest: 62434.0620601 (77)\ttotal: 2.38s\tremaining: 595ms\n",
      "80:\tlearn: 55263.8152540\ttest: 62438.1582130\tbest: 62434.0620601 (77)\ttotal: 2.41s\tremaining: 565ms\n",
      "81:\tlearn: 55192.2217568\ttest: 62409.8023643\tbest: 62409.8023643 (81)\ttotal: 2.43s\tremaining: 534ms\n"
     ]
    }
   ],
   "source": [
    "def fit_model_with_cross_validation(gs, X_train, y_train, fits):\n",
    "    pipe_start = time()\n",
    "    cv_result = gs.fit(X_train, y_train)\n",
    "    #gs.fit(X_train, y_train)\n",
    "    pipe_end = time()\n",
    "    average_time = round((pipe_end - pipe_start) / (fits), 2)\n",
    "\n",
    "    print(f\"Total fit/CV time      : {int(pipe_end - pipe_start)} seconds   ({pipe_start} ==> {pipe_end})\")\n",
    "    print()\n",
    "    print(\n",
    "        f'average fit/score time = {round(cv_result.cv_results_[\"mean_fit_time\"].mean(), 2)}s/{round(cv_result.cv_results_[\"mean_score_time\"].mean(), 2)}s')\n",
    "    print(\n",
    "        f'max fit/score time     = {round(cv_result.cv_results_[\"mean_fit_time\"].max(), 2)}s/{round(cv_result.cv_results_[\"mean_score_time\"].max(), 2)}s')\n",
    "    print(f'refit time             = {round(cv_result.refit_time_, 2)}s')\n",
    "\n",
    "    #return cv_result, average_time, cv_result.refit_time_, len(cv_result.cv_results_[\"mean_fit_time\"])\n",
    "    return average_time, cv_result.refit_time_, len(cv_result.cv_results_[\"mean_fit_time\"])\n",
    "\n",
    "\n",
    "if not_catboost:\n",
    "    if ALGORITHM_DETAIL == 'grid search':\n",
    "        crossval_runner = GridSearchCV(\n",
    "            estimator=starter_pipe,\n",
    "            param_grid=param_options,\n",
    "            cv=cv, n_jobs=n_jobs, # get the AVX/AVX2 info if use n_jobs > 2\n",
    "            verbose=verbose, scoring=CROSS_VALIDATION_SCORING,\n",
    "            refit=refit,\n",
    "            return_train_score=True, #n_iter=n_iter,\n",
    "            #error_score='raise'\n",
    "        )\n",
    "    else:\n",
    "        crossval_runner = RandomizedSearchCV(\n",
    "            estimator=starter_pipe,\n",
    "            param_distributions=param_options,\n",
    "            cv=cv, n_jobs=n_jobs,  # get the AVX/AVX2 info if use n_jobs > 2\n",
    "            verbose=verbose, scoring=CROSS_VALIDATION_SCORING,\n",
    "            refit=refit,\n",
    "            return_train_score=True,  #n_iter=n_iter,\n",
    "            n_iter=n_iter,  # 1, #3\n",
    "            #error_score='raise'\n",
    "    )\n",
    "    cv_average_fit_time, cv_best_model_fit_time, total_fits = fit_model_with_cross_validation(\n",
    "        crossval_runner, X_train, y_train, fits=cv * n_iter)\n",
    "\n",
    "else:\n",
    "    import sys\n",
    "    from catboost import CatBoostRegressor, Pool\n",
    "\n",
    "    #pool = Pool(df, cat_features=['tenure.tenureType'], label=df['Price'].values)\n",
    "    pool_Xytrain = Pool(X_train, cat_features=[7], label=y_train)\n",
    "    #pool_Xtest = Pool(X_train, cat_features=[7], label=y_train)\n",
    "    pool_Xtest = Pool(X_test, cat_features=[7], label=y_test)\n",
    "\n",
    "    starter_model = model=CatBoostRegressor(iterations=n_iter, depth=3, learning_rate=0.1, loss_function='RMSE', objective='RMSE', logging_level='Verbose')\n",
    "\n",
    "    pipe_start = time()\n",
    "\n",
    "    output = starter_model.randomized_search(options_block,\n",
    "                                             X=pool_Xytrain,\n",
    "                                             cv=5,\n",
    "                                             partition_random_seed=101,\n",
    "                                             calc_cv_statistics=True,\n",
    "                                             refit=True,\n",
    "                                             shuffle=True,\n",
    "                                             stratified=None,\n",
    "                                             verbose=True,\n",
    "                                             plot=True,\n",
    "\n",
    "                                             log_cout=sys.stdout,\n",
    "                                             log_cerr=sys.stderr\n",
    "                                             #search_by_train_test_split=True,\n",
    "                                             #train_size=0.8,\n",
    "                                             #train_size=1,\n",
    "                                             )\n",
    "\n",
    "    pipe_end = time()\n",
    "    average_time = round((pipe_end - pipe_start) / (n_iter), 2)\n",
    "    print(\"average time is probably:\", average_time)\n",
    "\n",
    "    cat_params, cat_cv_results = output['params'], output['cv_results']\n",
    "    crossval_runner = {\"best_params_\": cat_params, \"cv_results_\": cat_cv_results, \"best_estimator_\": None}\n",
    "crossval_runner"
   ]
  },
  {
   "cell_type": "code",
   "execution_count": null,
   "outputs": [],
   "source": [],
   "metadata": {
    "collapsed": false,
    "pycharm": {
     "is_executing": true
    }
   }
  },
  {
   "cell_type": "code",
   "execution_count": null,
   "metadata": {
    "execution": {
     "iopub.execute_input": "2022-11-16T13:59:47.181563Z",
     "iopub.status.busy": "2022-11-16T13:59:47.181323Z",
     "iopub.status.idle": "2022-11-16T13:59:47.185299Z",
     "shell.execute_reply": "2022-11-16T13:59:47.184626Z",
     "shell.execute_reply.started": "2022-11-16T13:59:47.181540Z"
    },
    "pycharm": {
     "is_executing": true
    }
   },
   "outputs": [],
   "source": [
    "if not_catboost:\n",
    "    best_estimator_pipe = crossval_runner.best_estimator_\n",
    "\n",
    "    if not_catboost and debug_mode:\n",
    "        crossval_runner.cv_results_"
   ]
  },
  {
   "cell_type": "code",
   "execution_count": null,
   "metadata": {
    "execution": {
     "iopub.execute_input": "2022-11-16T13:59:47.186218Z",
     "iopub.status.busy": "2022-11-16T13:59:47.186022Z",
     "iopub.status.idle": "2022-11-16T13:59:47.190491Z",
     "shell.execute_reply": "2022-11-16T13:59:47.189828Z",
     "shell.execute_reply.started": "2022-11-16T13:59:47.186200Z"
    },
    "pycharm": {
     "is_executing": true
    }
   },
   "outputs": [],
   "source": [
    "starter_model\n",
    "if True:\n",
    "    print(starter_model)\n",
    "if not not_catboost:\n",
    "    print(cat_cv_results)\n",
    "    print(cat_params)\n"
   ]
  },
  {
   "cell_type": "code",
   "execution_count": null,
   "metadata": {
    "execution": {
     "iopub.execute_input": "2022-11-16T13:59:47.191425Z",
     "iopub.status.busy": "2022-11-16T13:59:47.191213Z",
     "iopub.status.idle": "2022-11-16T13:59:47.194465Z",
     "shell.execute_reply": "2022-11-16T13:59:47.193803Z",
     "shell.execute_reply.started": "2022-11-16T13:59:47.191404Z"
    },
    "pycharm": {
     "is_executing": true
    }
   },
   "outputs": [],
   "source": [
    "if not_catboost:\n",
    "    crossval_runner.best_params_\n",
    "else:\n",
    "    crossval_runner[\"best_params_\"]"
   ]
  },
  {
   "cell_type": "code",
   "execution_count": null,
   "metadata": {
    "execution": {
     "iopub.execute_input": "2022-11-16T13:59:47.195527Z",
     "iopub.status.busy": "2022-11-16T13:59:47.195321Z",
     "iopub.status.idle": "2022-11-16T13:59:47.220555Z",
     "shell.execute_reply": "2022-11-16T13:59:47.218381Z",
     "shell.execute_reply.started": "2022-11-16T13:59:47.195509Z"
    },
    "pycharm": {
     "is_executing": true
    }
   },
   "outputs": [],
   "source": [
    "if not_catboost:\n",
    "    cv_results_df = pd.DataFrame(crossval_runner.cv_results_).sort_values('rank_test_score')\n",
    "cv_results_df if not_catboost else ''"
   ]
  },
  {
   "cell_type": "code",
   "execution_count": null,
   "metadata": {
    "execution": {
     "iopub.execute_input": "2022-11-16T13:59:47.221915Z",
     "iopub.status.busy": "2022-11-16T13:59:47.221447Z",
     "iopub.status.idle": "2022-11-16T13:59:47.227414Z",
     "shell.execute_reply": "2022-11-16T13:59:47.226868Z",
     "shell.execute_reply.started": "2022-11-16T13:59:47.221887Z"
    },
    "pycharm": {
     "is_executing": true
    }
   },
   "outputs": [],
   "source": [
    "if not_catboost and debug_mode:\n",
    "    xx = [c for c in cv_results_df.columns if 'param' in c]\n",
    "    xx.insert(0, 'rank_test_score')\n",
    "    xx.insert(0, 'mean_test_score')\n",
    "cv_results_df[xx].head(7) if not_catboost and debug_mode else ''"
   ]
  },
  {
   "cell_type": "code",
   "execution_count": null,
   "metadata": {
    "execution": {
     "iopub.execute_input": "2022-11-16T13:59:47.229078Z",
     "iopub.status.busy": "2022-11-16T13:59:47.228327Z",
     "iopub.status.idle": "2022-11-16T13:59:47.232994Z",
     "shell.execute_reply": "2022-11-16T13:59:47.232495Z",
     "shell.execute_reply.started": "2022-11-16T13:59:47.229055Z"
    },
    "pycharm": {
     "is_executing": true
    }
   },
   "outputs": [],
   "source": [
    "cv_results_df[xx].tail(7) if not_catboost and debug_mode else ''"
   ]
  },
  {
   "cell_type": "code",
   "execution_count": null,
   "metadata": {
    "execution": {
     "iopub.execute_input": "2022-11-16T13:59:47.234560Z",
     "iopub.status.busy": "2022-11-16T13:59:47.233863Z",
     "iopub.status.idle": "2022-11-16T13:59:47.251649Z",
     "shell.execute_reply": "2022-11-16T13:59:47.251101Z",
     "shell.execute_reply.started": "2022-11-16T13:59:47.234540Z"
    },
    "pycharm": {
     "is_executing": true
    }
   },
   "outputs": [],
   "source": [
    "if not_catboost:\n",
    "    cv_results_df['params2'] = cv_results_df['params'].apply(lambda l: '/'.join([str(c) for c in l.values()]))\n",
    "\n",
    "    cv_columns = ['params2', 'rank_test_score', 'mean_test_score', 'mean_fit_time', 'mean_score_time', 'params']\n",
    "    # if 'Neural' not in ALGORITHM:\n",
    "    #     cv_columns.insert(2, 'mean_train_score')\n",
    "    cv_results_df_full_sorted = cv_results_df.sort_values('rank_test_score')[cv_columns].reset_index(drop=True)\n",
    "\n",
    "cv_results_df_full_sorted if not_catboost else ''"
   ]
  },
  {
   "cell_type": "code",
   "execution_count": null,
   "metadata": {
    "execution": {
     "iopub.execute_input": "2022-11-16T13:59:47.253028Z",
     "iopub.status.busy": "2022-11-16T13:59:47.252374Z",
     "iopub.status.idle": "2022-11-16T13:59:47.278366Z",
     "shell.execute_reply": "2022-11-16T13:59:47.277883Z",
     "shell.execute_reply.started": "2022-11-16T13:59:47.253006Z"
    },
    "pycharm": {
     "is_executing": true
    }
   },
   "outputs": [],
   "source": [
    "if not_catboost:\n",
    "\n",
    "    cv_results_df_sorted = cv_results_df_full_sorted[cv_results_df_full_sorted['mean_test_score'] > -2]\n",
    "    if len(cv_results_df_sorted) != len(cv_results_df_full_sorted):\n",
    "        print(-len(cv_results_df_sorted) + len(cv_results_df_full_sorted), \"fits were total failures\")\n",
    "        total_fits = len(cv_results_df_sorted)\n",
    "cv_results_df_sorted if not_catboost else ''\n"
   ]
  },
  {
   "cell_type": "code",
   "execution_count": null,
   "metadata": {
    "execution": {
     "iopub.execute_input": "2022-11-16T13:59:47.279670Z",
     "iopub.status.busy": "2022-11-16T13:59:47.279065Z",
     "iopub.status.idle": "2022-11-16T13:59:47.282299Z",
     "shell.execute_reply": "2022-11-16T13:59:47.281778Z",
     "shell.execute_reply.started": "2022-11-16T13:59:47.279646Z"
    },
    "pycharm": {
     "is_executing": true
    }
   },
   "outputs": [],
   "source": [
    "#pd.set_option('display.max_columns', None)\n"
   ]
  },
  {
   "cell_type": "code",
   "execution_count": null,
   "metadata": {
    "execution": {
     "iopub.execute_input": "2022-11-16T13:59:47.283574Z",
     "iopub.status.busy": "2022-11-16T13:59:47.282958Z",
     "iopub.status.idle": "2022-11-16T13:59:47.300218Z",
     "shell.execute_reply": "2022-11-16T13:59:47.299493Z",
     "shell.execute_reply.started": "2022-11-16T13:59:47.283551Z"
    },
    "pycharm": {
     "is_executing": true
    }
   },
   "outputs": [],
   "source": [
    "if not_catboost:\n",
    "    orig_debug_mode, orig_display_df_cols = debug_mode, pd.get_option('display.max_columns')\n",
    "    debug_mode = True\n",
    "    pd.set_option('display.max_columns', None)\n",
    "    if debug_mode:\n",
    "        debug_cols = ['rank_test_score', 'mean_test_score', 'mean_fit_time', 'mean_score_time']\n",
    "        debug_cols.extend([c for c in cv_results_df.columns if 'param' in c])\n",
    "\n",
    "cv_results_df[debug_cols].head(7) if debug_mode else ''"
   ]
  },
  {
   "cell_type": "code",
   "execution_count": null,
   "metadata": {
    "execution": {
     "iopub.execute_input": "2022-11-16T13:59:47.304440Z",
     "iopub.status.busy": "2022-11-16T13:59:47.303671Z",
     "iopub.status.idle": "2022-11-16T13:59:47.307553Z",
     "shell.execute_reply": "2022-11-16T13:59:47.306930Z",
     "shell.execute_reply.started": "2022-11-16T13:59:47.304414Z"
    },
    "pycharm": {
     "is_executing": true
    }
   },
   "outputs": [],
   "source": [
    "if not_catboost:\n",
    "    debug_mode = orig_debug_mode\n",
    "    pd.set_option('display.max_columns', orig_display_df_cols)"
   ]
  },
  {
   "cell_type": "code",
   "execution_count": null,
   "metadata": {
    "execution": {
     "iopub.execute_input": "2022-11-16T13:59:47.309224Z",
     "iopub.status.busy": "2022-11-16T13:59:47.308334Z",
     "iopub.status.idle": "2022-11-16T13:59:47.315677Z",
     "shell.execute_reply": "2022-11-16T13:59:47.315141Z",
     "shell.execute_reply.started": "2022-11-16T13:59:47.309201Z"
    },
    "pycharm": {
     "is_executing": true
    }
   },
   "outputs": [],
   "source": [
    "if not_catboost:\n",
    "    def print_results(cross_validation_result):\n",
    "        means = cross_validation_result.cv_results_['mean_test_score']\n",
    "        stds = cross_validation_result.cv_results_['std_test_score']\n",
    "        params = cross_validation_result.cv_results_['params']\n",
    "        times = cross_validation_result.cv_results_['std_test_score']\n",
    "\n",
    "        print(\"params:\" + \"/\".join([c.replace(\"model__\", \"\") for c in params[0].keys()]))\n",
    "        print()\n",
    "        for mean, std, param, time in zip(means, stds, params, times):\n",
    "            #param2 = \"/\".join(list(param.values()))\n",
    "            param2 = \"/\".join(list([str(c) for c in param.values()]))\n",
    "            print(f'{round(mean, 3)} (+/-{round(std * 2, 3)}) in {round(time, 4)}s for {param2}')\n",
    "\n",
    "\n",
    "print_results(crossval_runner) if debug_mode else ''"
   ]
  },
  {
   "cell_type": "code",
   "execution_count": null,
   "metadata": {
    "execution": {
     "iopub.execute_input": "2022-11-16T13:59:47.317413Z",
     "iopub.status.busy": "2022-11-16T13:59:47.316534Z",
     "iopub.status.idle": "2022-11-16T13:59:47.321419Z",
     "shell.execute_reply": "2022-11-16T13:59:47.320870Z",
     "shell.execute_reply.started": "2022-11-16T13:59:47.317388Z"
    },
    "pycharm": {
     "is_executing": true
    }
   },
   "outputs": [],
   "source": [
    "if not_catboost:\n",
    "    print('Best Index: ', crossval_runner.best_index_)\n",
    "    print('Best Score: ', crossval_runner.best_score_)\n",
    "    print('Best Params: ', crossval_runner.best_params_)"
   ]
  },
  {
   "cell_type": "code",
   "execution_count": null,
   "metadata": {
    "execution": {
     "iopub.execute_input": "2022-11-16T13:59:47.323113Z",
     "iopub.status.busy": "2022-11-16T13:59:47.322229Z",
     "iopub.status.idle": "2022-11-16T13:59:47.327516Z",
     "shell.execute_reply": "2022-11-16T13:59:47.327008Z",
     "shell.execute_reply.started": "2022-11-16T13:59:47.323086Z"
    },
    "pycharm": {
     "is_executing": true
    }
   },
   "outputs": [],
   "source": [
    "#pool_Xtest.shape\n",
    "#pool_Xtrain.shape\n",
    "X_train[0]\n",
    "X_test[0]"
   ]
  },
  {
   "cell_type": "code",
   "execution_count": null,
   "metadata": {
    "execution": {
     "iopub.execute_input": "2022-11-16T13:59:47.328680Z",
     "iopub.status.busy": "2022-11-16T13:59:47.328195Z",
     "iopub.status.idle": "2022-11-16T13:59:47.380861Z",
     "shell.execute_reply": "2022-11-16T13:59:47.380015Z",
     "shell.execute_reply.started": "2022-11-16T13:59:47.328658Z"
    },
    "pycharm": {
     "is_executing": true
    }
   },
   "outputs": [],
   "source": [
    "if not_catboost:\n",
    "    y_pred = best_estimator_pipe.predict(X_test)\n",
    "else:\n",
    "    y_pred = starter_model.predict(pool_Xtest)"
   ]
  },
  {
   "cell_type": "code",
   "execution_count": null,
   "metadata": {
    "execution": {
     "iopub.execute_input": "2022-11-16T13:59:47.382580Z",
     "iopub.status.busy": "2022-11-16T13:59:47.382020Z",
     "iopub.status.idle": "2022-11-16T13:59:47.440737Z",
     "shell.execute_reply": "2022-11-16T13:59:47.439769Z",
     "shell.execute_reply.started": "2022-11-16T13:59:47.382556Z"
    },
    "pycharm": {
     "is_executing": true
    }
   },
   "outputs": [],
   "source": [
    "r_2_score = r2_score(y_test, y_pred)\n",
    "if not_catboost:\n",
    "    score = r_2_score\n",
    "    default_score = best_estimator_pipe.score(X_test, y_test)\n",
    "else:\n",
    "    score = r_2_score\n",
    "    default_score = starter_model.score(X_test, y_test)\n",
    "score"
   ]
  },
  {
   "cell_type": "code",
   "execution_count": null,
   "metadata": {
    "execution": {
     "iopub.execute_input": "2022-11-16T13:59:47.442381Z",
     "iopub.status.busy": "2022-11-16T13:59:47.442151Z",
     "iopub.status.idle": "2022-11-16T13:59:47.448203Z",
     "shell.execute_reply": "2022-11-16T13:59:47.447282Z",
     "shell.execute_reply.started": "2022-11-16T13:59:47.442362Z"
    },
    "pycharm": {
     "is_executing": true
    }
   },
   "outputs": [],
   "source": [
    "y_pred = y_pred.reshape((-1, 1))\n",
    "\n",
    "R2 = r_2_score\n",
    "MAE = mean_absolute_error(y_test, y_pred)\n",
    "MSE = mean_squared_error(y_test, y_pred)\n",
    "RMSE = math.sqrt(MSE)\n",
    "print('-' * 10 + ALGORITHM + '-' * 10)\n",
    "print('R square Accuracy', R2)\n",
    "print('Mean Absolute Error Accuracy', MAE)\n",
    "print('Mean Squared Error Accuracy', MSE)\n",
    "print('Root Mean Squared Error', RMSE)"
   ]
  },
  {
   "cell_type": "code",
   "execution_count": null,
   "metadata": {
    "execution": {
     "iopub.execute_input": "2022-11-16T13:59:47.450080Z",
     "iopub.status.busy": "2022-11-16T13:59:47.449147Z",
     "iopub.status.idle": "2022-11-16T13:59:47.453856Z",
     "shell.execute_reply": "2022-11-16T13:59:47.453198Z",
     "shell.execute_reply.started": "2022-11-16T13:59:47.450060Z"
    },
    "pycharm": {
     "is_executing": true
    }
   },
   "outputs": [],
   "source": [
    "if debug_mode:\n",
    "    print(y_test_index.reshape((-1, 1)).shape);\n",
    "    print(y_pred.reshape((-1, 1)).shape);\n",
    "    print(y_test.shape);\n",
    "    print(y_test_index.shape);\n",
    "    print(y_pred.shape);\n",
    "    print(y_test.shape)"
   ]
  },
  {
   "cell_type": "code",
   "execution_count": null,
   "metadata": {
    "execution": {
     "iopub.execute_input": "2022-11-16T13:59:47.455055Z",
     "iopub.status.busy": "2022-11-16T13:59:47.454855Z",
     "iopub.status.idle": "2022-11-16T13:59:47.472196Z",
     "shell.execute_reply": "2022-11-16T13:59:47.471460Z",
     "shell.execute_reply.started": "2022-11-16T13:59:47.455037Z"
    },
    "pycharm": {
     "is_executing": true
    }
   },
   "outputs": [],
   "source": [
    "compare = np.hstack((y_test_index, y_test, y_pred))\n",
    "compare_df = DataFrame(compare, columns=['reference', 'actual', 'predicted'])\n",
    "compare_df['difference'] = abs(compare_df['actual'] - compare_df['predicted'])\n",
    "compare_df['diff 1 %'] = abs((compare_df['actual'] - compare_df['predicted']) / compare_df['actual'] * 100)\n",
    "compare_df['diff 2 %'] = abs((compare_df['actual'] - compare_df['predicted']) / compare_df['predicted']) * 100\n",
    "compare_df['reference'] = compare_df['reference'].astype(int)\n",
    "compare_df.set_index('reference', inplace=True)\n",
    "compare_df"
   ]
  },
  {
   "cell_type": "code",
   "execution_count": null,
   "metadata": {
    "execution": {
     "iopub.execute_input": "2022-11-16T13:59:47.473173Z",
     "iopub.status.busy": "2022-11-16T13:59:47.472972Z",
     "iopub.status.idle": "2022-11-16T13:59:47.499899Z",
     "shell.execute_reply": "2022-11-16T13:59:47.499050Z",
     "shell.execute_reply.started": "2022-11-16T13:59:47.473156Z"
    },
    "pycharm": {
     "is_executing": true
    }
   },
   "outputs": [],
   "source": [
    "combined = compare_df.merge(df[columns], how='inner', left_index=True, right_index=True).sort_values(['diff 1 %'],\n",
    "                                                                                                     ascending=False)\n",
    "#pd.options.display.float_format = '{:.4f}'.format\n",
    "combined[['predicted', 'actual', 'Price', 'bedrooms', 'bathrooms']] = combined[\n",
    "    ['predicted', 'actual', 'Price', 'bedrooms', 'bathrooms']].astype(int)\n",
    "combined['bedrooms'] = combined['bedrooms'].astype(int)\n",
    "combined"
   ]
  },
  {
   "cell_type": "code",
   "execution_count": null,
   "metadata": {
    "execution": {
     "iopub.execute_input": "2022-11-16T13:59:47.501494Z",
     "iopub.status.busy": "2022-11-16T13:59:47.500942Z",
     "iopub.status.idle": "2022-11-16T13:59:47.635559Z",
     "shell.execute_reply": "2022-11-16T13:59:47.634656Z",
     "shell.execute_reply.started": "2022-11-16T13:59:47.501473Z"
    },
    "pycharm": {
     "is_executing": true
    }
   },
   "outputs": [],
   "source": [
    "fig, ax = plt.subplots()\n",
    "ax.scatter(y_test, y_pred, edgecolors=(0, 0, 1))\n",
    "ax.plot([y_test.min(), y_test.max()], [y_test.min(), y_test.max()], 'r--', lw=3)\n",
    "ax.set_ylabel('Predicted')\n",
    "ax.set_xlabel('Actual')\n",
    "#ax.title.set_text(f'CV Chosen best option ({calculated_best_pipe[1]})')\n",
    "plt.show()"
   ]
  },
  {
   "cell_type": "code",
   "execution_count": null,
   "metadata": {
    "execution": {
     "iopub.execute_input": "2022-11-16T13:59:47.637419Z",
     "iopub.status.busy": "2022-11-16T13:59:47.636639Z",
     "iopub.status.idle": "2022-11-16T13:59:50.927930Z",
     "shell.execute_reply": "2022-11-16T13:59:50.927235Z",
     "shell.execute_reply.started": "2022-11-16T13:59:47.637397Z"
    },
    "pycharm": {
     "is_executing": true
    }
   },
   "outputs": [],
   "source": [
    "if not_catboost:\n",
    "    def custom_model_and_predictions(model, graph_params, X_train, y_train, X_test):\n",
    "        graph_model = model\n",
    "        graph_model.set_params(**graph_params)\n",
    "        graph_model.fit(X_train, y_train)\n",
    "        y_pred_graph = model.predict(X_test)\n",
    "\n",
    "        return model, y_pred_graph\n",
    "\n",
    "\n",
    "    best_model_count = 10 if not quick_mode else 2\n",
    "    best_model_count = 3 if not quick_mode else 1\n",
    "    best_models = {}\n",
    "    best_model_predictions = {}\n",
    "    best_model_scores = {}\n",
    "\n",
    "    showable_increment = total_fits // (4 if not quick_mode else 2)\n",
    "    if showable_increment==0:showable_increment=1\n",
    "    for i in range(0, total_fits, showable_increment):\n",
    "        if debug_mode or True: print(f'{i} ==> {i}')\n",
    "\n",
    "        if i == 0:\n",
    "            fitted_graph_model = crossval_runner.best_estimator_\n",
    "            y_pred_graph = y_pred\n",
    "        else:\n",
    "            graph_pipe_params = cv_results_df_sorted['params'][i]\n",
    "            print(graph_pipe_params)\n",
    "            # would always return the best! graph_pipe_params = cv_results_df_sorted.loc[cv_results_df_sorted['rank_test_score'] == 1, 'params'].values[0]\n",
    "\n",
    "            graph_params = {}\n",
    "            for key, value in graph_pipe_params.items():\n",
    "                graph_params[key.replace('model__', '')] = value\n",
    "\n",
    "            fitted_graph_model, y_pred_graph = custom_model_and_predictions(make_pipeline(), graph_pipe_params, X_train,\n",
    "                                                                            y_train, X_test)\n",
    "\n",
    "        best_models[i] = fitted_graph_model[-1].get_params()\n",
    "        best_model_predictions[i] = y_pred_graph\n",
    "        best_model_scores[i] = fitted_graph_model.score(X_test, y_test)\n",
    "\n",
    "    if debug_mode or True: print(f'{-1} ==> {-1}')\n",
    "    graph_pipe_params = cv_results_df_sorted['params'][total_fits - 1]\n",
    "    print(graph_pipe_params)\n",
    "    graph_params = {}\n",
    "    for key, value in graph_pipe_params.items():\n",
    "        graph_params[key.replace('model__', '')] = value\n",
    "    fitted_graph_model, y_pred_graph = custom_model_and_predictions(make_pipeline(), graph_pipe_params, X_train,\n",
    "                                                                    y_train, X_test)\n",
    "    best_models[-1] = fitted_graph_model[-1].get_params()\n",
    "    best_model_predictions[-1] = y_pred_graph\n",
    "    best_model_scores[-1] = fitted_graph_model.score(X_test, y_test)\n"
   ]
  },
  {
   "cell_type": "code",
   "execution_count": null,
   "metadata": {
    "execution": {
     "iopub.execute_input": "2022-11-16T13:59:50.929176Z",
     "iopub.status.busy": "2022-11-16T13:59:50.928941Z",
     "iopub.status.idle": "2022-11-16T13:59:50.953941Z",
     "shell.execute_reply": "2022-11-16T13:59:50.953292Z",
     "shell.execute_reply.started": "2022-11-16T13:59:50.929155Z"
    },
    "pycharm": {
     "is_executing": true
    }
   },
   "outputs": [],
   "source": [
    "cv_results_df_sorted if not_catboost else ''"
   ]
  },
  {
   "cell_type": "code",
   "execution_count": null,
   "metadata": {
    "execution": {
     "iopub.execute_input": "2022-11-16T13:59:50.955365Z",
     "iopub.status.busy": "2022-11-16T13:59:50.955113Z",
     "iopub.status.idle": "2022-11-16T13:59:50.960058Z",
     "shell.execute_reply": "2022-11-16T13:59:50.959362Z",
     "shell.execute_reply.started": "2022-11-16T13:59:50.955343Z"
    },
    "pycharm": {
     "is_executing": true
    }
   },
   "outputs": [],
   "source": [
    "cv_results_df_sorted['params']  if not_catboost and debug_mode else ''"
   ]
  },
  {
   "cell_type": "code",
   "execution_count": null,
   "metadata": {
    "execution": {
     "iopub.execute_input": "2022-11-16T13:59:50.961046Z",
     "iopub.status.busy": "2022-11-16T13:59:50.960847Z",
     "iopub.status.idle": "2022-11-16T13:59:50.966053Z",
     "shell.execute_reply": "2022-11-16T13:59:50.965218Z",
     "shell.execute_reply.started": "2022-11-16T13:59:50.961027Z"
    },
    "pycharm": {
     "is_executing": true
    }
   },
   "outputs": [],
   "source": [
    "cv_results_df_sorted['params'][0] if not_catboost else ''"
   ]
  },
  {
   "cell_type": "code",
   "execution_count": null,
   "metadata": {
    "execution": {
     "iopub.execute_input": "2022-11-16T13:59:50.967664Z",
     "iopub.status.busy": "2022-11-16T13:59:50.966945Z",
     "iopub.status.idle": "2022-11-16T13:59:50.974725Z",
     "shell.execute_reply": "2022-11-16T13:59:50.973935Z",
     "shell.execute_reply.started": "2022-11-16T13:59:50.967640Z"
    },
    "pycharm": {
     "is_executing": true
    }
   },
   "outputs": [],
   "source": [
    "best_models if not_catboost else ''"
   ]
  },
  {
   "cell_type": "code",
   "execution_count": null,
   "metadata": {
    "execution": {
     "iopub.execute_input": "2022-11-16T13:59:50.976386Z",
     "iopub.status.busy": "2022-11-16T13:59:50.975697Z",
     "iopub.status.idle": "2022-11-16T13:59:52.092828Z",
     "shell.execute_reply": "2022-11-16T13:59:52.092064Z",
     "shell.execute_reply.started": "2022-11-16T13:59:50.976363Z"
    },
    "pycharm": {
     "is_executing": true
    }
   },
   "outputs": [],
   "source": [
    "if not_catboost:\n",
    "    for i in best_model_scores.keys():\n",
    "        if i >= 0:\n",
    "            plt.plot([y_test.min(), y_test.max()], [y_test.min(), y_test.max()], 'r--', lw=3)\n",
    "            plt.scatter(y_test, best_model_predictions[i])\n",
    "            # plt.title(str(i) + \" \" + str(round(best_model_scores[i], 4)) + \" for \" + str(best_models[i]))\n",
    "            if len(best_models[i].keys()) < 30:\n",
    "                plt.title(str(i) + \" \" + str(round(best_model_scores[i], 4)) + \" for \" + str(best_models[i]))\n",
    "            else:\n",
    "                plt.title(str(i) + \" \" + str(round(best_model_scores[i], 4)) + \" for entry \" + str(i))\n",
    "            plt.show()\n",
    "\n",
    "    plt.plot([y_test.min(), y_test.max()], [y_test.min(), y_test.max()], 'r--', lw=3)\n",
    "    plt.scatter(y_test, best_model_predictions[-1])\n",
    "    # plt.title(str(i) + \" \" + str(round(best_model_scores[i], 4)) + \" for \" + str(best_models[i]))\n",
    "    if len(best_models[i].keys()) < 30:\n",
    "        plt.title(str(i) + \" \" + str(round(best_model_scores[-1], 4)) + \" for \" + str(best_models[-1]))\n",
    "    else:\n",
    "        plt.title(str(i) + \" \" + str(round(best_model_scores[-1], 4)) + \" for (worst) entry \" + str(i))\n",
    "\n",
    "    plt.show()"
   ]
  },
  {
   "cell_type": "code",
   "execution_count": null,
   "metadata": {
    "execution": {
     "iopub.execute_input": "2022-11-16T13:59:52.094913Z",
     "iopub.status.busy": "2022-11-16T13:59:52.094003Z",
     "iopub.status.idle": "2022-11-16T13:59:52.600226Z",
     "shell.execute_reply": "2022-11-16T13:59:52.599392Z",
     "shell.execute_reply.started": "2022-11-16T13:59:52.094884Z"
    },
    "pycharm": {
     "is_executing": true
    }
   },
   "outputs": [],
   "source": [
    "if not_catboost:\n",
    "    sns.set_theme(font_scale=2, rc=None)\n",
    "    sns.set_theme(font_scale=1, rc=None)\n",
    "\n",
    "    fig, axes = plt.subplots(ncols=3, figsize=(15, 5))\n",
    "\n",
    "    plt.subplots_adjust(hspace=0.2)\n",
    "    plt.subplots_adjust(wspace=0.2)\n",
    "\n",
    "    #.flatten()\n",
    "    coordinates = axes[0]\n",
    "    sns.lineplot(x=[y_test.min(), y_test.max()], y=[y_test.min(), y_test.max()], ax=axes[0], color='red')\n",
    "    sns.scatterplot(x=y_test.flatten(), y=best_model_predictions[0].flatten(), ax=axes[0],\n",
    "                    s=100).set(title=f'\"BEST\" model')\n",
    "\n",
    "    sns.lineplot(x=[y_test.min(), y_test.max()], y=[y_test.min(), y_test.max()], ax=axes[1], color='red')\n",
    "    sns.scatterplot(x=y_test.flatten(), y=best_model_predictions[-1].flatten(), ax=axes[1],\n",
    "                    s=100).set(title=f'\"WORST\" model')\n",
    "\n",
    "    sns.lineplot(x=[y_test.min(), y_test.max()], y=[y_test.min(), y_test.max()], ax=axes[2], color='red')\n",
    "    sns.scatterplot(x=y_test.flatten(), y=best_model_predictions[-1].flatten(), ax=axes[2],\n",
    "                    s=120, color='orange')\n",
    "    sns.scatterplot(x=y_test.flatten(), y=best_model_predictions[0].flatten(), ax=axes[2],\n",
    "                    s=30, alpha=0.6, color='black').set(\n",
    "        title='best (black) vs worst (orange)')\n",
    "    #title='best (orange) vs worst (black)')\n",
    "\n",
    "    fig.tight_layout()\n",
    "    plt.show()"
   ]
  },
  {
   "cell_type": "code",
   "execution_count": null,
   "metadata": {
    "execution": {
     "iopub.execute_input": "2022-11-16T13:59:52.601421Z",
     "iopub.status.busy": "2022-11-16T13:59:52.601193Z",
     "iopub.status.idle": "2022-11-16T13:59:52.607786Z",
     "shell.execute_reply": "2022-11-16T13:59:52.606855Z",
     "shell.execute_reply.started": "2022-11-16T13:59:52.601400Z"
    },
    "pycharm": {
     "is_executing": true
    }
   },
   "outputs": [],
   "source": [
    "if not_catboost:\n",
    "    cv_best_model_fit_time = cv_results_df_sorted.iloc[0][\"mean_fit_time\"]\n",
    "cv_best_model_fit_time if not_catboost else ''"
   ]
  },
  {
   "cell_type": "code",
   "execution_count": null,
   "metadata": {
    "execution": {
     "iopub.execute_input": "2022-11-16T13:59:52.608845Z",
     "iopub.status.busy": "2022-11-16T13:59:52.608602Z",
     "iopub.status.idle": "2022-11-16T13:59:52.871012Z",
     "shell.execute_reply": "2022-11-16T13:59:52.870054Z",
     "shell.execute_reply.started": "2022-11-16T13:59:52.608825Z"
    },
    "pycharm": {
     "is_executing": true
    }
   },
   "outputs": [],
   "source": [
    "# <catboost.core.CatBoostRegressor object at 0x7fb167387490>\n",
    "# {'depth': 6}\n",
    "# defaultdict(<class 'list'>, {'iterations': [0, 1, 2],\n",
    "# 'test-RMSE-mean': [396884.9605444017, 359548.6632536235, 326027.84885587444],\n",
    "# 'test-RMSE-std': [308.9495320039113, 260.0967808594464, 219.65856329246023],\n",
    "# 'train-RMSE-mean': [396884.77936957515, 359542.3612912551, 326018.9404460669],\n",
    "# 'train-RMSE-std': [91.44140078375503, 86.77961380623475, 69.4038638987425]})\n",
    "\n",
    "cv_best_model_fit_time = cv_results_df_sorted.iloc[0][\"mean_fit_time\"] if not_catboost else average_time\n",
    "\n",
    "DD2 = \"(\" + \",\".join(DATA_DETAIL) + \")\" if len(DATA_DETAIL) >= 1 else \"\"\n",
    "key = f'{ALGORITHM} (v{VERSION})'.lower()\n",
    "\n",
    "method =  f\"{ALGORITHM_DETAIL}{DD2}\"\n",
    "\n",
    "new_results = {\n",
    "    '_score': score,\n",
    "    'R square Accuracy': R2,\n",
    "    'Mean Absolute Error Accuracy': MAE,\n",
    "    'Mean Squared Error Accuracy': MSE,\n",
    "    'Root Mean Squared Error': RMSE,\n",
    "    '_train time': cv_best_model_fit_time,\n",
    "    'random_state': RANDOM_STATE,\n",
    "    'date': str(datetime.now()),\n",
    "    '_params': crossval_runner.best_params_ if not_catboost else cat_params,\n",
    "    '_method':method,\n",
    "    'run_env': run_env\n",
    "}\n",
    "\n",
    "if run_env not in ['colab']:\n",
    "    old_results_json = get_results()\n",
    "    try:\n",
    "        old_best_score = old_results_json[key]['best score']\n",
    "    except:\n",
    "        print(f\"haven't scored this model yet: {ALGORITHM}\")\n",
    "        old_best_score = -999\n",
    "    this_model_is_best = update_results(old_results_json, new_results, key)\n",
    "\n",
    "print(key)"
   ]
  },
  {
   "cell_type": "code",
   "execution_count": null,
   "metadata": {
    "execution": {
     "iopub.execute_input": "2022-11-16T13:59:52.872732Z",
     "iopub.status.busy": "2022-11-16T13:59:52.872116Z",
     "iopub.status.idle": "2022-11-16T13:59:52.883681Z",
     "shell.execute_reply": "2022-11-16T13:59:52.882641Z",
     "shell.execute_reply.started": "2022-11-16T13:59:52.872708Z"
    },
    "pycharm": {
     "is_executing": true
    }
   },
   "outputs": [],
   "source": [
    "crossval_runner.best_estimator_  if not_catboost else ''"
   ]
  },
  {
   "cell_type": "code",
   "execution_count": null,
   "metadata": {
    "execution": {
     "iopub.execute_input": "2022-11-16T13:59:52.885380Z",
     "iopub.status.busy": "2022-11-16T13:59:52.885036Z",
     "iopub.status.idle": "2022-11-16T13:59:53.216677Z",
     "shell.execute_reply": "2022-11-16T13:59:53.215594Z",
     "shell.execute_reply.started": "2022-11-16T13:59:52.885349Z"
    },
    "pycharm": {
     "is_executing": true
    }
   },
   "outputs": [],
   "source": [
    "if this_model_is_best:\n",
    "    with open(f'../../../models/optimised_model_{ALGORITHM}_v{VERSION}{DD2}.pkl', 'wb') as f:\n",
    "        if not_catboost:\n",
    "            pickle.dump(crossval_runner.best_estimator_, f)\n",
    "        else:\n",
    "            pickle.dump(starter_model, f)\n",
    "        print('pickled new version of model')\n",
    "        print(f\"{old_results_json[key]['_score']} is new best score (it's better than {old_best_score})\")\n",
    "        #print(results_json[key]['_score'], 'is an improvement on', results_json[key]['second best score'])\n",
    "else:\n",
    "    print(\"not updated saved model, the previous run was better\")\n",
    "    print(old_results_json[key]['_score'], 'is worse than or equal to', old_best_score)\n"
   ]
  },
  {
   "cell_type": "code",
   "execution_count": null,
   "metadata": {
    "execution": {
     "iopub.execute_input": "2022-11-16T13:59:53.218033Z",
     "iopub.status.busy": "2022-11-16T13:59:53.217794Z",
     "iopub.status.idle": "2022-11-16T13:59:53.224486Z",
     "shell.execute_reply": "2022-11-16T13:59:53.223702Z",
     "shell.execute_reply.started": "2022-11-16T13:59:53.218013Z"
    },
    "pycharm": {
     "is_executing": true
    }
   },
   "outputs": [],
   "source": [
    "if 'tree' in ALGORITHM.lower() or 'forest' in ALGORITHM.lower() or 'boost' in ALGORITHM.lower():\n",
    "    feature_importances = crossval_runner.best_estimator_[-1].feature_importances_ if not_catboost else starter_model.get_feature_importance()\n",
    "    #std = np.std([tree.feature_importances_ for tree in model.estimators_], axis = 0)\n",
    "\n",
    "    indices = np.argsort(feature_importances)[::-1]\n",
    "\n",
    "    print('Feature Ranking:')\n",
    "\n",
    "    for f in range(X_train.shape[1]):\n",
    "        print('%d. features %d (%f)' % (f + 1, indices[f], feature_importances[indices[f]]),\n",
    "              df_features.columns[indices[f] + 1])\n",
    "else:\n",
    "    print(f'{ALGORITHM} does not have feature_importances, skipping')"
   ]
  },
  {
   "cell_type": "code",
   "execution_count": null,
   "metadata": {
    "execution": {
     "iopub.execute_input": "2022-11-16T13:59:53.225586Z",
     "iopub.status.busy": "2022-11-16T13:59:53.225381Z",
     "iopub.status.idle": "2022-11-16T13:59:53.374100Z",
     "shell.execute_reply": "2022-11-16T13:59:53.373223Z",
     "shell.execute_reply.started": "2022-11-16T13:59:53.225567Z"
    },
    "pycharm": {
     "is_executing": true
    }
   },
   "outputs": [],
   "source": [
    "if 'tree' in ALGORITHM.lower() or 'forest' in ALGORITHM.lower() or 'boost' in ALGORITHM.lower():\n",
    "    indices = np.argsort(feature_importances)\n",
    "\n",
    "    fig, ax = plt.subplots(figsize=(20,20))\n",
    "    ax.barh(range(len(feature_importances)), feature_importances[indices])\n",
    "    ax.set_yticks(range(len(feature_importances)))\n",
    "    _ = ax.set_yticklabels(df_features.columns[[c + 1 for c in indices]])\n",
    "else:\n",
    "    print(f'{ALGORITHM} does not have feature_importances, skipping')"
   ]
  },
  {
   "cell_type": "code",
   "execution_count": null,
   "metadata": {
    "collapsed": false,
    "jupyter": {
     "outputs_hidden": false
    },
    "pycharm": {
     "is_executing": true
    }
   },
   "outputs": [],
   "source": []
  }
 ],
 "metadata": {
  "kernelspec": {
   "display_name": "Python 3 (ipykernel)",
   "language": "python",
   "name": "python3"
  },
  "language_info": {
   "codemirror_mode": {
    "name": "ipython",
    "version": 3
   },
   "file_extension": ".py",
   "mimetype": "text/x-python",
   "name": "python",
   "nbconvert_exporter": "python",
   "pygments_lexer": "ipython3",
   "version": "3.9.13"
  }
 },
 "nbformat": 4,
 "nbformat_minor": 4
}
