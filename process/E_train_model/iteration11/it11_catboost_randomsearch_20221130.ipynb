{
 "cells": [
  {
   "cell_type": "code",
   "execution_count": 1,
   "metadata": {
    "execution": {
     "iopub.execute_input": "2022-11-16T13:53:27.249807Z",
     "iopub.status.busy": "2022-11-16T13:53:27.249148Z",
     "iopub.status.idle": "2022-11-16T13:53:27.255429Z",
     "shell.execute_reply": "2022-11-16T13:53:27.254275Z",
     "shell.execute_reply.started": "2022-11-16T13:53:27.249780Z"
    }
   },
   "outputs": [
    {
     "name": "stdout",
     "output_type": "stream",
     "text": [
      "ALGORITHM: CatBoost\n",
      "ALGORITHM_DETAIL: random search\n",
      "DATA_DETAIL: ['no dummies']\n",
      "DATA VERSION: 11\n"
     ]
    }
   ],
   "source": [
    "#ALGORITHM = 'Linear Regression (Ridge)'\n",
    "#ALGORITHM = 'KNN'\n",
    "#ALGORITHM = 'Decision Tree'\n",
    "#ALGORITHM = 'Random Forest'\n",
    "#ALGORITHM = 'XG Boost'\n",
    "ALGORITHM = 'CatBoost'\n",
    "#ALGORITHM = 'Light Gradient Boosting'\n",
    "\n",
    "ALGORITHM_DETAIL = 'random search'\n",
    "#DATA_DETAIL = []\n",
    "#DATA_DETAIL = ['explore param']\n",
    "#DATA_DETAIL = ['no scale','no dummies']\n",
    "DATA_DETAIL = ['no dummies'] if ALGORITHM.lower() == 'catboost' else ''\n",
    "VERSION = '11'\n",
    "\n",
    "RANDOM_STATE = 101\n",
    "TRAINING_SIZE = 0.9\n",
    "\n",
    "CROSS_VALIDATION_SCORING = 'r2'\n",
    "\n",
    "print(f'ALGORITHM: {ALGORITHM}')\n",
    "print(f'ALGORITHM_DETAIL: {ALGORITHM_DETAIL}')\n",
    "print(f'DATA_DETAIL: {DATA_DETAIL}')\n",
    "print(f'DATA VERSION: {VERSION}')\n"
   ]
  },
  {
   "cell_type": "code",
   "execution_count": 2,
   "metadata": {
    "execution": {
     "iopub.execute_input": "2022-11-16T13:53:27.262780Z",
     "iopub.status.busy": "2022-11-16T13:53:27.262116Z",
     "iopub.status.idle": "2022-11-16T13:53:43.374795Z",
     "shell.execute_reply": "2022-11-16T13:53:43.374038Z",
     "shell.execute_reply.started": "2022-11-16T13:53:27.262757Z"
    }
   },
   "outputs": [
    {
     "name": "stdout",
     "output_type": "stream",
     "text": [
      "Requirement already satisfied: catboost in /usr/local/lib/python3.9/dist-packages (1.1.1)\r\n",
      "Requirement already satisfied: matplotlib in /usr/local/lib/python3.9/dist-packages (from catboost) (3.5.2)\r\n",
      "Requirement already satisfied: plotly in /usr/local/lib/python3.9/dist-packages (from catboost) (5.11.0)\r\n",
      "Requirement already satisfied: six in /usr/lib/python3/dist-packages (from catboost) (1.14.0)\r\n",
      "Requirement already satisfied: graphviz in /usr/local/lib/python3.9/dist-packages (from catboost) (0.20.1)\r\n",
      "Requirement already satisfied: scipy in /usr/local/lib/python3.9/dist-packages (from catboost) (1.8.1)\r\n",
      "Requirement already satisfied: numpy>=1.16.0 in /usr/local/lib/python3.9/dist-packages (from catboost) (1.23.1)\r\n",
      "Requirement already satisfied: pandas>=0.24.0 in /usr/local/lib/python3.9/dist-packages (from catboost) (1.4.3)\r\n",
      "Requirement already satisfied: python-dateutil>=2.8.1 in /usr/local/lib/python3.9/dist-packages (from pandas>=0.24.0->catboost) (2.8.2)\r\n",
      "Requirement already satisfied: pytz>=2020.1 in /usr/local/lib/python3.9/dist-packages (from pandas>=0.24.0->catboost) (2022.1)\r\n",
      "Requirement already satisfied: pyparsing>=2.2.1 in /usr/local/lib/python3.9/dist-packages (from matplotlib->catboost) (3.0.9)\r\n",
      "Requirement already satisfied: packaging>=20.0 in /usr/local/lib/python3.9/dist-packages (from matplotlib->catboost) (21.3)\r\n",
      "Requirement already satisfied: cycler>=0.10 in /usr/local/lib/python3.9/dist-packages (from matplotlib->catboost) (0.11.0)\r\n",
      "Requirement already satisfied: kiwisolver>=1.0.1 in /usr/local/lib/python3.9/dist-packages (from matplotlib->catboost) (1.4.3)\r\n",
      "Requirement already satisfied: pillow>=6.2.0 in /usr/local/lib/python3.9/dist-packages (from matplotlib->catboost) (9.2.0)\r\n",
      "Requirement already satisfied: fonttools>=4.22.0 in /usr/local/lib/python3.9/dist-packages (from matplotlib->catboost) (4.34.4)\r\n",
      "Requirement already satisfied: tenacity>=6.2.0 in /usr/local/lib/python3.9/dist-packages (from plotly->catboost) (8.1.0)\r\n",
      "\u001B[33mWARNING: Running pip as the 'root' user can result in broken permissions and conflicting behaviour with the system package manager. It is recommended to use a virtual environment instead: https://pip.pypa.io/warnings/venv\u001B[0m\u001B[33m\r\n",
      "\u001B[0mNote: you may need to restart the kernel to use updated packages.\n"
     ]
    }
   ],
   "source": [
    "if ALGORITHM == 'CatBoost':\n",
    "    %pip install catboost\n",
    "\n",
    "if ALGORITHM == 'Light Gradient Boosting':\n",
    "    %pip install lightgbm"
   ]
  },
  {
   "cell_type": "code",
   "execution_count": 2,
   "outputs": [],
   "source": [],
   "metadata": {
    "collapsed": false
   }
  },
  {
   "cell_type": "code",
   "execution_count": 3,
   "metadata": {
    "execution": {
     "iopub.execute_input": "2022-11-16T13:53:43.376775Z",
     "iopub.status.busy": "2022-11-16T13:53:43.376510Z",
     "iopub.status.idle": "2022-11-16T13:53:45.085035Z",
     "shell.execute_reply": "2022-11-16T13:53:45.084293Z",
     "shell.execute_reply.started": "2022-11-16T13:53:43.376747Z"
    }
   },
   "outputs": [
    {
     "name": "stdout",
     "output_type": "stream",
     "text": [
      "{'notebook_environment': 'gradient', 'use_gpu': True, 'debug_mode': False, 'quick_mode': False, 'quick_override_cv_splits': 2, 'quick_override_n_iter': 10, 'quick_override_n_jobs': 3}\n"
     ]
    }
   ],
   "source": [
    "from sklearn.impute import SimpleImputer\n",
    "import pandas as pd\n",
    "from sklearn.model_selection import train_test_split, RandomizedSearchCV, GridSearchCV\n",
    "import numpy as np\n",
    "from pandas import DataFrame\n",
    "import math\n",
    "from termcolor import colored\n",
    "from time import time\n",
    "import sklearn\n",
    "from sklearn.metrics import r2_score, mean_absolute_error, mean_squared_error\n",
    "from sklearn.metrics import r2_score\n",
    "import seaborn as sns\n",
    "import pickle\n",
    "\n",
    "import json\n",
    "from datetime import datetime\n",
    "import matplotlib.pyplot as plt\n",
    "\n",
    "with open('../../z_envs/_envs.json') as f:\n",
    "    env_vars = json.loads(f.read())\n",
    "print(env_vars)\n",
    "\n",
    "try:\n",
    "    import google.colab\n",
    "\n",
    "    run_env = 'colab'\n",
    "except:\n",
    "    try:\n",
    "        run_env = env_vars['notebook_environment']\n",
    "    except:\n",
    "        run_env = 'unknown'\n",
    "\n",
    "use_gpu = env_vars.get('use_gpu', False)\n",
    "debug_mode = env_vars.get('debug_mode', False)\n",
    "quick_mode = env_vars.get('quick_mode', False)\n",
    "OVERRIDE_CV = env_vars.get('quick_override_cv_splits', None) if quick_mode else None\n",
    "OVERRIDE_N_ITER = env_vars.get('quick_override_n_iter', None) if quick_mode else None\n",
    "OVERRIDE_JOBS = env_vars.get('quick_override_n_jobs', None) if quick_mode else None\n",
    "#if quick_mode:OVERRIDE_CV, OVERRIDE_N_ITER = 2, 10\n",
    "\n",
    "already_timed = False\n",
    "no_dummies = 'no dummies' in DATA_DETAIL\n",
    "no_scaling = 'no scaling' in DATA_DETAIL\n",
    "#not_catboost = 'catboost' not in ALGORITHM.lower() or not no_dummies\n",
    "not_catboost = 'catboost' not in ALGORITHM.lower()\n",
    "\n",
    "if run_env not in ['colab', 'gradient', 'cloud']:\n",
    "    cloud_run = False\n",
    "    from functions_b__get_the_data_20221116 import set_csv_directory\n",
    "    set_csv_directory('final_split')\n",
    "else:\n",
    "    cloud_run = True\n",
    "    import sys\n",
    "    import os\n",
    "\n",
    "    module_path = os.path.abspath(os.path.join('..', '..', '..'))\n",
    "    if module_path not in sys.path:\n",
    "        #sys.path.append(module_path+\"\\\\zfunctions\")\n",
    "        sys.path.append(module_path)\n",
    "\n",
    "from functions_0__common_20221116 import get_columns\n",
    "from functions_b__get_the_data_20221116 import get_combined_dataset\n",
    "from functions_d1__prepare_cleanse_data_20221116 import tidy_dataset\n",
    "from functions_d2__transform_enrich_data_20221116 import preprocess, feature_engineer\n",
    "from functions_d3__prepare_store_data_20221116 import create_train_test_data\n",
    "from functions_e__train_model_20221116 import get_chosen_model, make_modelling_pipeline, get_cv_params, fit_model_with_cross_validation, get_hyperparameters\n",
    "from functions_f_evaluate_model_20221116 import get_best_estimator_average_time, get_results, update_results\n",
    "\n"
   ]
  },
  {
   "cell_type": "code",
   "execution_count": 4,
   "outputs": [],
   "source": [
    "#OVERRIDE_N_ITER = 5"
   ],
   "metadata": {
    "collapsed": false
   }
  },
  {
   "cell_type": "code",
   "execution_count": 5,
   "metadata": {
    "execution": {
     "iopub.execute_input": "2022-11-16T13:53:45.086382Z",
     "iopub.status.busy": "2022-11-16T13:53:45.086022Z",
     "iopub.status.idle": "2022-11-16T13:53:45.092108Z",
     "shell.execute_reply": "2022-11-16T13:53:45.091330Z",
     "shell.execute_reply.started": "2022-11-16T13:53:45.086361Z"
    }
   },
   "outputs": [
    {
     "name": "stdout",
     "output_type": "stream",
     "text": [
      "\u001B[34mfeatures\u001B[0m ->  ['bedrooms', 'bathrooms', 'nearestStation', 'location.latitude', 'location.longitude', 'latitude_deviation', 'longitude_deviation', 'tenure.tenureType']\n",
      "\u001B[1m\u001B[32mlabel\u001B[0m ->  Price\n"
     ]
    }
   ],
   "source": [
    "#cutdown_rows = 1000\n",
    "cutdown_rows = 0\n",
    "\n",
    "LABEL = 'Price'\n",
    "\n",
    "columns, booleans, floats, categories, custom, wildcard = get_columns(version=VERSION)\n",
    "\n",
    "print(colored(f\"features\", \"blue\"), \"-> \", columns)\n",
    "columns.insert(0, LABEL)\n",
    "print(colored(f\"label\", \"green\", None, ['bold']), \"-> \", LABEL)"
   ]
  },
  {
   "cell_type": "code",
   "execution_count": 6,
   "metadata": {
    "collapsed": false,
    "execution": {
     "iopub.execute_input": "2022-11-29T21:13:26.061510Z",
     "iopub.status.busy": "2022-11-29T21:13:26.061266Z",
     "iopub.status.idle": "2022-11-29T21:13:26.076565Z",
     "shell.execute_reply": "2022-11-29T21:13:26.075207Z",
     "shell.execute_reply.started": "2022-11-29T21:13:26.061489Z"
    },
    "jupyter": {
     "outputs_hidden": false
    }
   },
   "outputs": [
    {
     "data": {
      "text/plain": "Pipeline(steps=[('std_scaler', StandardScaler()), ('model', None)])",
      "text/html": "<style>#sk-container-id-1 {color: black;background-color: white;}#sk-container-id-1 pre{padding: 0;}#sk-container-id-1 div.sk-toggleable {background-color: white;}#sk-container-id-1 label.sk-toggleable__label {cursor: pointer;display: block;width: 100%;margin-bottom: 0;padding: 0.3em;box-sizing: border-box;text-align: center;}#sk-container-id-1 label.sk-toggleable__label-arrow:before {content: \"▸\";float: left;margin-right: 0.25em;color: #696969;}#sk-container-id-1 label.sk-toggleable__label-arrow:hover:before {color: black;}#sk-container-id-1 div.sk-estimator:hover label.sk-toggleable__label-arrow:before {color: black;}#sk-container-id-1 div.sk-toggleable__content {max-height: 0;max-width: 0;overflow: hidden;text-align: left;background-color: #f0f8ff;}#sk-container-id-1 div.sk-toggleable__content pre {margin: 0.2em;color: black;border-radius: 0.25em;background-color: #f0f8ff;}#sk-container-id-1 input.sk-toggleable__control:checked~div.sk-toggleable__content {max-height: 200px;max-width: 100%;overflow: auto;}#sk-container-id-1 input.sk-toggleable__control:checked~label.sk-toggleable__label-arrow:before {content: \"▾\";}#sk-container-id-1 div.sk-estimator input.sk-toggleable__control:checked~label.sk-toggleable__label {background-color: #d4ebff;}#sk-container-id-1 div.sk-label input.sk-toggleable__control:checked~label.sk-toggleable__label {background-color: #d4ebff;}#sk-container-id-1 input.sk-hidden--visually {border: 0;clip: rect(1px 1px 1px 1px);clip: rect(1px, 1px, 1px, 1px);height: 1px;margin: -1px;overflow: hidden;padding: 0;position: absolute;width: 1px;}#sk-container-id-1 div.sk-estimator {font-family: monospace;background-color: #f0f8ff;border: 1px dotted black;border-radius: 0.25em;box-sizing: border-box;margin-bottom: 0.5em;}#sk-container-id-1 div.sk-estimator:hover {background-color: #d4ebff;}#sk-container-id-1 div.sk-parallel-item::after {content: \"\";width: 100%;border-bottom: 1px solid gray;flex-grow: 1;}#sk-container-id-1 div.sk-label:hover label.sk-toggleable__label {background-color: #d4ebff;}#sk-container-id-1 div.sk-serial::before {content: \"\";position: absolute;border-left: 1px solid gray;box-sizing: border-box;top: 0;bottom: 0;left: 50%;z-index: 0;}#sk-container-id-1 div.sk-serial {display: flex;flex-direction: column;align-items: center;background-color: white;padding-right: 0.2em;padding-left: 0.2em;position: relative;}#sk-container-id-1 div.sk-item {position: relative;z-index: 1;}#sk-container-id-1 div.sk-parallel {display: flex;align-items: stretch;justify-content: center;background-color: white;position: relative;}#sk-container-id-1 div.sk-item::before, #sk-container-id-1 div.sk-parallel-item::before {content: \"\";position: absolute;border-left: 1px solid gray;box-sizing: border-box;top: 0;bottom: 0;left: 50%;z-index: -1;}#sk-container-id-1 div.sk-parallel-item {display: flex;flex-direction: column;z-index: 1;position: relative;background-color: white;}#sk-container-id-1 div.sk-parallel-item:first-child::after {align-self: flex-end;width: 50%;}#sk-container-id-1 div.sk-parallel-item:last-child::after {align-self: flex-start;width: 50%;}#sk-container-id-1 div.sk-parallel-item:only-child::after {width: 0;}#sk-container-id-1 div.sk-dashed-wrapped {border: 1px dashed gray;margin: 0 0.4em 0.5em 0.4em;box-sizing: border-box;padding-bottom: 0.4em;background-color: white;}#sk-container-id-1 div.sk-label label {font-family: monospace;font-weight: bold;display: inline-block;line-height: 1.2em;}#sk-container-id-1 div.sk-label-container {text-align: center;}#sk-container-id-1 div.sk-container {/* jupyter's `normalize.less` sets `[hidden] { display: none; }` but bootstrap.min.css set `[hidden] { display: none !important; }` so we also need the `!important` here to be able to override the default hidden behavior on the sphinx rendered scikit-learn.org. See: https://github.com/scikit-learn/scikit-learn/issues/21755 */display: inline-block !important;position: relative;}#sk-container-id-1 div.sk-text-repr-fallback {display: none;}</style><div id=\"sk-container-id-1\" class=\"sk-top-container\"><div class=\"sk-text-repr-fallback\"><pre>Pipeline(steps=[(&#x27;std_scaler&#x27;, StandardScaler()), (&#x27;model&#x27;, None)])</pre><b>In a Jupyter environment, please rerun this cell to show the HTML representation or trust the notebook. <br />On GitHub, the HTML representation is unable to render, please try loading this page with nbviewer.org.</b></div><div class=\"sk-container\" hidden><div class=\"sk-item sk-dashed-wrapped\"><div class=\"sk-label-container\"><div class=\"sk-label sk-toggleable\"><input class=\"sk-toggleable__control sk-hidden--visually\" id=\"sk-estimator-id-1\" type=\"checkbox\" ><label for=\"sk-estimator-id-1\" class=\"sk-toggleable__label sk-toggleable__label-arrow\">Pipeline</label><div class=\"sk-toggleable__content\"><pre>Pipeline(steps=[(&#x27;std_scaler&#x27;, StandardScaler()), (&#x27;model&#x27;, None)])</pre></div></div></div><div class=\"sk-serial\"><div class=\"sk-item\"><div class=\"sk-estimator sk-toggleable\"><input class=\"sk-toggleable__control sk-hidden--visually\" id=\"sk-estimator-id-2\" type=\"checkbox\" ><label for=\"sk-estimator-id-2\" class=\"sk-toggleable__label sk-toggleable__label-arrow\">StandardScaler</label><div class=\"sk-toggleable__content\"><pre>StandardScaler()</pre></div></div></div><div class=\"sk-item\"><div class=\"sk-estimator sk-toggleable\"><input class=\"sk-toggleable__control sk-hidden--visually\" id=\"sk-estimator-id-3\" type=\"checkbox\" ><label for=\"sk-estimator-id-3\" class=\"sk-toggleable__label sk-toggleable__label-arrow\">None</label><div class=\"sk-toggleable__content\"><pre>None</pre></div></div></div></div></div></div></div>"
     },
     "execution_count": 6,
     "metadata": {},
     "output_type": "execute_result"
    }
   ],
   "source": [
    "from sklearn.pipeline import Pipeline\n",
    "from sklearn.preprocessing import MinMaxScaler, StandardScaler\n",
    "\n",
    "\n",
    "def make_pipeline():\n",
    "    return Pipeline([\n",
    "        #('mms', MinMaxScaler()),\n",
    "        ('std_scaler', StandardScaler()),\n",
    "        ('model', get_chosen_model(ALGORITHM))\n",
    "    ])\n",
    "\n",
    "\n",
    "starter_pipe = make_pipeline()\n",
    "starter_pipe"
   ]
  },
  {
   "cell_type": "code",
   "execution_count": 7,
   "metadata": {
    "execution": {
     "iopub.execute_input": "2022-11-16T13:53:45.125489Z",
     "iopub.status.busy": "2022-11-16T13:53:45.125277Z",
     "iopub.status.idle": "2022-11-16T13:53:45.130895Z",
     "shell.execute_reply": "2022-11-16T13:53:45.130188Z",
     "shell.execute_reply.started": "2022-11-16T13:53:45.125470Z"
    }
   },
   "outputs": [],
   "source": [
    "def get_source_dataframe(rows=cutdown_rows, folder_prefix='../../../'):\n",
    "    retrieval_type = None\n",
    "\n",
    "    filename = f'df_listings_v{VERSION}.csv'\n",
    "    remote_pathname = f'https://raw.githubusercontent.com/jayportfolio/capstone_streamlit/main/data/final/{filename}'\n",
    "    df_pathname_raw = folder_prefix + f'data/source/{filename}'\n",
    "    df_pathname_tidy = folder_prefix + f'data/final/{filename}'\n",
    "\n",
    "    if cloud_run:\n",
    "        inDF = pd.read_csv(remote_pathname, on_bad_lines='error', index_col=0)\n",
    "        retrieval_type = 'tidy'\n",
    "        print('loaded data from', folder_prefix + remote_pathname)\n",
    "    else:\n",
    "        inDF = pd.read_csv(df_pathname_tidy, on_bad_lines='error', index_col=0)\n",
    "        retrieval_type = 'tidy'\n",
    "        print('loaded data from', df_pathname_tidy)\n",
    "\n",
    "    if rows and rows > 0:\n",
    "        inDF = inDF[:rows]\n",
    "    return inDF, retrieval_type"
   ]
  },
  {
   "cell_type": "code",
   "execution_count": 8,
   "metadata": {
    "execution": {
     "iopub.execute_input": "2022-11-16T13:53:45.132049Z",
     "iopub.status.busy": "2022-11-16T13:53:45.131848Z",
     "iopub.status.idle": "2022-11-16T13:53:45.525582Z",
     "shell.execute_reply": "2022-11-16T13:53:45.524903Z",
     "shell.execute_reply.started": "2022-11-16T13:53:45.132030Z"
    }
   },
   "outputs": [
    {
     "name": "stdout",
     "output_type": "stream",
     "text": [
      "loaded data from ../../../https://raw.githubusercontent.com/jayportfolio/capstone_streamlit/main/data/final/df_listings_v11.csv\n",
      "(46871, 81)\n"
     ]
    }
   ],
   "source": [
    "df, retrieval_type = get_source_dataframe(folder_prefix='../../../')\n",
    "df_orig = df.copy()\n",
    "\n",
    "if retrieval_type != 'tidy':\n",
    "    df = tidy_dataset(df, version=int(VERSION))\n",
    "    df = feature_engineer(df, version=int(VERSION))\n",
    "\n",
    "    df = df[columns]\n",
    "\n",
    "print(df.shape)"
   ]
  },
  {
   "cell_type": "code",
   "execution_count": 9,
   "metadata": {
    "execution": {
     "iopub.execute_input": "2022-11-16T13:53:45.526718Z",
     "iopub.status.busy": "2022-11-16T13:53:45.526472Z",
     "iopub.status.idle": "2022-11-16T13:53:45.548777Z",
     "shell.execute_reply": "2022-11-16T13:53:45.548195Z",
     "shell.execute_reply.started": "2022-11-16T13:53:45.526696Z"
    }
   },
   "outputs": [
    {
     "data": {
      "text/plain": "             Price  bedrooms  bathrooms  nearestStation  location.latitude  \\\niddd                                                                         \n14520525  550000.0       3.0        1.0        0.274316          51.529950   \n27953107  400000.0       2.0        2.0        0.305845          51.549390   \n33593487  579950.0       2.0        1.0        0.438045          51.447180   \n35271294  370000.0       2.0        1.0        0.399307          51.449568   \n35429088  599950.0       2.0        1.0        0.238187          51.577030   \n44749111  475000.0       2.0        1.0        0.410550          51.370050   \n46204665  435000.0       3.0        2.0        0.314779          51.539070   \n49020666  200000.0       1.0        1.0        0.875911          51.539959   \n49036279  275000.0       2.0        1.0        0.474368          51.541780   \n49303873  450000.0       3.0        2.0        0.577040          51.524880   \n52064391  349950.0       2.0        2.0        0.212734          51.470800   \n52187854  450000.0       1.0        1.0        0.446802          51.527199   \n52675628  490000.0       2.0        2.0        0.215040          51.501114   \n52845963  200000.0       2.0        1.0        0.650562          51.398040   \n52913496  220000.0       1.0        1.0        0.945991          51.539383   \n53609433  489995.0       1.0        1.0        0.087081          51.532620   \n53649578  284950.0       1.0        1.0        0.806597          51.479890   \n53938989  450000.0       2.0        1.0        0.775203          51.658287   \n54713232  332000.0       2.0        1.0        0.319226          51.612300   \n54904122  365000.0       2.0        1.0        0.260722          51.593595   \n54991934  430000.0       3.0        1.0        0.497268          51.528720   \n55043230  260000.0       1.0        1.0        0.384607          51.544430   \n55187658  430000.0       2.0        2.0        0.289033          51.507570   \n55531367  599950.0       2.0        1.0        0.406725          51.467410   \n55768232  550000.0       2.0        1.0        0.478349          51.472890   \n55805965  280000.0       2.0        1.0        0.742859          51.520910   \n55839051  599950.0       2.0        1.0        0.259168          51.579186   \n55940994  385000.0       2.0        2.0        0.403987          51.376930   \n56449305  380000.0       2.0        1.0        0.310271          51.600483   \n57221413  475000.0       3.0        2.0        0.409784          51.497260   \n\n          location.longitude  latitude_deviation  longitude_deviation  \\\niddd                                                                    \n14520525           -0.207020            0.030230             0.102600   \n27953107           -0.482600            0.049670             0.378180   \n33593487           -0.338770            0.052540             0.234350   \n35271294           -0.140154            0.050152             0.035734   \n35429088           -0.141230            0.077310             0.036810   \n44749111           -0.212410            0.129670             0.107990   \n46204665           -0.198935            0.039350             0.094515   \n49020666           -0.380863            0.040239             0.276443   \n49036279            0.037890            0.042060             0.142310   \n49303873            0.187200            0.025160             0.291620   \n52064391           -0.361820            0.028920             0.257400   \n52187854           -0.202898            0.027479             0.098478   \n52675628            0.026315            0.001394             0.130735   \n52845963           -0.076812            0.101680             0.027608   \n52913496           -0.382239            0.039663             0.277819   \n53609433           -0.107860            0.032900             0.003440   \n53649578           -0.078500            0.019830             0.025920   \n53938989           -0.207902            0.158567             0.103482   \n54713232           -0.119860            0.112580             0.015440   \n54904122            0.022046            0.093875             0.126466   \n54991934            0.039180            0.029000             0.143600   \n55043230            0.014500            0.044710             0.118920   \n55187658            0.078030            0.007850             0.182450   \n55531367           -0.079170            0.032310             0.025250   \n55768232           -0.078940            0.026830             0.025480   \n55805965            0.022680            0.021190             0.127100   \n55839051           -0.209020            0.079466             0.104600   \n55940994           -0.238870            0.122790             0.134450   \n56449305           -0.062096            0.100763             0.042324   \n57221413           -0.422530            0.002460             0.318110   \n\n          tenure.tenureType  feature__1 bedroom  ...  feature__2__en suite  \\\niddd                                             ...                         \n14520525          LEASEHOLD                   0  ...                 False   \n27953107          LEASEHOLD                   0  ...                 False   \n33593487           FREEHOLD                   0  ...                 False   \n35271294          LEASEHOLD                   0  ...                 False   \n35429088                NaN                   0  ...                 False   \n44749111           FREEHOLD                   0  ...                 False   \n46204665          LEASEHOLD                   0  ...                  True   \n49020666          LEASEHOLD                   0  ...                 False   \n49036279          LEASEHOLD                   0  ...                 False   \n49303873           FREEHOLD                   0  ...                 False   \n52064391          LEASEHOLD                   0  ...                  True   \n52187854          LEASEHOLD                   0  ...                 False   \n52675628                NaN                   0  ...                 False   \n52845963          LEASEHOLD                   0  ...                 False   \n52913496          LEASEHOLD                   0  ...                 False   \n53609433          LEASEHOLD                   0  ...                 False   \n53649578                NaN                   0  ...                 False   \n53938989           FREEHOLD                   0  ...                 False   \n54713232  SHARE_OF_FREEHOLD                   0  ...                 False   \n54904122  SHARE_OF_FREEHOLD                   0  ...                 False   \n54991934           FREEHOLD                   0  ...                 False   \n55043230          LEASEHOLD                   0  ...                 False   \n55187658          LEASEHOLD                   0  ...                  True   \n55531367                NaN                   0  ...                 False   \n55768232                NaN                   0  ...                 False   \n55805965          LEASEHOLD                   0  ...                 False   \n55839051          LEASEHOLD                   0  ...                 False   \n55940994          LEASEHOLD                   0  ...                 False   \n56449305           FREEHOLD                   0  ...                 False   \n57221413           FREEHOLD                   0  ...                 False   \n\n          feature__2__penthouse  feature__2__balcony  \\\niddd                                                   \n14520525                  False                 True   \n27953107                  False                 True   \n33593487                  False                False   \n35271294                  False                 True   \n35429088                  False                False   \n44749111                  False                False   \n46204665                  False                False   \n49020666                  False                False   \n49036279                  False                False   \n49303873                  False                False   \n52064391                  False                 True   \n52187854                  False                False   \n52675628                  False                False   \n52845963                  False                False   \n52913496                  False                False   \n53609433                  False                False   \n53649578                  False                False   \n53938989                  False                False   \n54713232                  False                False   \n54904122                  False                False   \n54991934                  False                False   \n55043230                  False                False   \n55187658                  False                False   \n55531367                  False                 True   \n55768232                  False                False   \n55805965                  False                False   \n55839051                  False                False   \n55940994                  False                False   \n56449305                  False                False   \n57221413                  False                False   \n\n          feature__2__double-glazing  feature__2__double glazing  \\\niddd                                                               \n14520525                       False                       False   \n27953107                       False                       False   \n33593487                       False                       False   \n35271294                       False                        True   \n35429088                       False                       False   \n44749111                       False                        True   \n46204665                       False                       False   \n49020666                       False                       False   \n49036279                       False                       False   \n49303873                       False                       False   \n52064391                       False                       False   \n52187854                       False                       False   \n52675628                       False                       False   \n52845963                       False                       False   \n52913496                       False                       False   \n53609433                       False                       False   \n53649578                       False                       False   \n53938989                       False                       False   \n54713232                       False                       False   \n54904122                       False                       False   \n54991934                       False                       False   \n55043230                       False                       False   \n55187658                       False                       False   \n55531367                       False                       False   \n55768232                       False                       False   \n55805965                       False                        True   \n55839051                       False                       False   \n55940994                       False                        True   \n56449305                       False                       False   \n57221413                       False                       False   \n\n          feature__2__off-road parking  feature__2__security  \\\niddd                                                           \n14520525                         False                 False   \n27953107                         False                 False   \n33593487                         False                 False   \n35271294                         False                 False   \n35429088                         False                 False   \n44749111                         False                 False   \n46204665                         False                 False   \n49020666                         False                 False   \n49036279                         False                 False   \n49303873                         False                 False   \n52064391                         False                 False   \n52187854                         False                 False   \n52675628                         False                 False   \n52845963                         False                 False   \n52913496                         False                 False   \n53609433                         False                 False   \n53649578                         False                 False   \n53938989                         False                 False   \n54713232                         False                 False   \n54904122                         False                 False   \n54991934                         False                 False   \n55043230                         False                 False   \n55187658                         False                  True   \n55531367                         False                 False   \n55768232                         False                 False   \n55805965                         False                 False   \n55839051                         False                 False   \n55940994                         False                 False   \n56449305                         False                 False   \n57221413                         False                 False   \n\n          feature__2__patio  feature__2__underfloor heating  \\\niddd                                                          \n14520525              False                           False   \n27953107              False                           False   \n33593487              False                           False   \n35271294              False                           False   \n35429088              False                           False   \n44749111              False                           False   \n46204665              False                           False   \n49020666              False                           False   \n49036279              False                           False   \n49303873              False                           False   \n52064391              False                           False   \n52187854              False                           False   \n52675628              False                           False   \n52845963              False                           False   \n52913496              False                           False   \n53609433              False                           False   \n53649578              False                           False   \n53938989              False                           False   \n54713232              False                           False   \n54904122              False                           False   \n54991934              False                           False   \n55043230              False                           False   \n55187658              False                           False   \n55531367              False                           False   \n55768232              False                           False   \n55805965              False                           False   \n55839051              False                           False   \n55940994              False                           False   \n56449305              False                           False   \n57221413              False                           False   \n\n          feature__2__marble  \niddd                          \n14520525               False  \n27953107               False  \n33593487               False  \n35271294               False  \n35429088               False  \n44749111               False  \n46204665               False  \n49020666               False  \n49036279               False  \n49303873               False  \n52064391               False  \n52187854               False  \n52675628               False  \n52845963               False  \n52913496               False  \n53609433               False  \n53649578               False  \n53938989               False  \n54713232               False  \n54904122               False  \n54991934               False  \n55043230               False  \n55187658               False  \n55531367               False  \n55768232               False  \n55805965               False  \n55839051               False  \n55940994               False  \n56449305               False  \n57221413               False  \n\n[30 rows x 81 columns]",
      "text/html": "<div>\n<style scoped>\n    .dataframe tbody tr th:only-of-type {\n        vertical-align: middle;\n    }\n\n    .dataframe tbody tr th {\n        vertical-align: top;\n    }\n\n    .dataframe thead th {\n        text-align: right;\n    }\n</style>\n<table border=\"1\" class=\"dataframe\">\n  <thead>\n    <tr style=\"text-align: right;\">\n      <th></th>\n      <th>Price</th>\n      <th>bedrooms</th>\n      <th>bathrooms</th>\n      <th>nearestStation</th>\n      <th>location.latitude</th>\n      <th>location.longitude</th>\n      <th>latitude_deviation</th>\n      <th>longitude_deviation</th>\n      <th>tenure.tenureType</th>\n      <th>feature__1 bedroom</th>\n      <th>...</th>\n      <th>feature__2__en suite</th>\n      <th>feature__2__penthouse</th>\n      <th>feature__2__balcony</th>\n      <th>feature__2__double-glazing</th>\n      <th>feature__2__double glazing</th>\n      <th>feature__2__off-road parking</th>\n      <th>feature__2__security</th>\n      <th>feature__2__patio</th>\n      <th>feature__2__underfloor heating</th>\n      <th>feature__2__marble</th>\n    </tr>\n    <tr>\n      <th>iddd</th>\n      <th></th>\n      <th></th>\n      <th></th>\n      <th></th>\n      <th></th>\n      <th></th>\n      <th></th>\n      <th></th>\n      <th></th>\n      <th></th>\n      <th></th>\n      <th></th>\n      <th></th>\n      <th></th>\n      <th></th>\n      <th></th>\n      <th></th>\n      <th></th>\n      <th></th>\n      <th></th>\n      <th></th>\n    </tr>\n  </thead>\n  <tbody>\n    <tr>\n      <th>14520525</th>\n      <td>550000.0</td>\n      <td>3.0</td>\n      <td>1.0</td>\n      <td>0.274316</td>\n      <td>51.529950</td>\n      <td>-0.207020</td>\n      <td>0.030230</td>\n      <td>0.102600</td>\n      <td>LEASEHOLD</td>\n      <td>0</td>\n      <td>...</td>\n      <td>False</td>\n      <td>False</td>\n      <td>True</td>\n      <td>False</td>\n      <td>False</td>\n      <td>False</td>\n      <td>False</td>\n      <td>False</td>\n      <td>False</td>\n      <td>False</td>\n    </tr>\n    <tr>\n      <th>27953107</th>\n      <td>400000.0</td>\n      <td>2.0</td>\n      <td>2.0</td>\n      <td>0.305845</td>\n      <td>51.549390</td>\n      <td>-0.482600</td>\n      <td>0.049670</td>\n      <td>0.378180</td>\n      <td>LEASEHOLD</td>\n      <td>0</td>\n      <td>...</td>\n      <td>False</td>\n      <td>False</td>\n      <td>True</td>\n      <td>False</td>\n      <td>False</td>\n      <td>False</td>\n      <td>False</td>\n      <td>False</td>\n      <td>False</td>\n      <td>False</td>\n    </tr>\n    <tr>\n      <th>33593487</th>\n      <td>579950.0</td>\n      <td>2.0</td>\n      <td>1.0</td>\n      <td>0.438045</td>\n      <td>51.447180</td>\n      <td>-0.338770</td>\n      <td>0.052540</td>\n      <td>0.234350</td>\n      <td>FREEHOLD</td>\n      <td>0</td>\n      <td>...</td>\n      <td>False</td>\n      <td>False</td>\n      <td>False</td>\n      <td>False</td>\n      <td>False</td>\n      <td>False</td>\n      <td>False</td>\n      <td>False</td>\n      <td>False</td>\n      <td>False</td>\n    </tr>\n    <tr>\n      <th>35271294</th>\n      <td>370000.0</td>\n      <td>2.0</td>\n      <td>1.0</td>\n      <td>0.399307</td>\n      <td>51.449568</td>\n      <td>-0.140154</td>\n      <td>0.050152</td>\n      <td>0.035734</td>\n      <td>LEASEHOLD</td>\n      <td>0</td>\n      <td>...</td>\n      <td>False</td>\n      <td>False</td>\n      <td>True</td>\n      <td>False</td>\n      <td>True</td>\n      <td>False</td>\n      <td>False</td>\n      <td>False</td>\n      <td>False</td>\n      <td>False</td>\n    </tr>\n    <tr>\n      <th>35429088</th>\n      <td>599950.0</td>\n      <td>2.0</td>\n      <td>1.0</td>\n      <td>0.238187</td>\n      <td>51.577030</td>\n      <td>-0.141230</td>\n      <td>0.077310</td>\n      <td>0.036810</td>\n      <td>NaN</td>\n      <td>0</td>\n      <td>...</td>\n      <td>False</td>\n      <td>False</td>\n      <td>False</td>\n      <td>False</td>\n      <td>False</td>\n      <td>False</td>\n      <td>False</td>\n      <td>False</td>\n      <td>False</td>\n      <td>False</td>\n    </tr>\n    <tr>\n      <th>44749111</th>\n      <td>475000.0</td>\n      <td>2.0</td>\n      <td>1.0</td>\n      <td>0.410550</td>\n      <td>51.370050</td>\n      <td>-0.212410</td>\n      <td>0.129670</td>\n      <td>0.107990</td>\n      <td>FREEHOLD</td>\n      <td>0</td>\n      <td>...</td>\n      <td>False</td>\n      <td>False</td>\n      <td>False</td>\n      <td>False</td>\n      <td>True</td>\n      <td>False</td>\n      <td>False</td>\n      <td>False</td>\n      <td>False</td>\n      <td>False</td>\n    </tr>\n    <tr>\n      <th>46204665</th>\n      <td>435000.0</td>\n      <td>3.0</td>\n      <td>2.0</td>\n      <td>0.314779</td>\n      <td>51.539070</td>\n      <td>-0.198935</td>\n      <td>0.039350</td>\n      <td>0.094515</td>\n      <td>LEASEHOLD</td>\n      <td>0</td>\n      <td>...</td>\n      <td>True</td>\n      <td>False</td>\n      <td>False</td>\n      <td>False</td>\n      <td>False</td>\n      <td>False</td>\n      <td>False</td>\n      <td>False</td>\n      <td>False</td>\n      <td>False</td>\n    </tr>\n    <tr>\n      <th>49020666</th>\n      <td>200000.0</td>\n      <td>1.0</td>\n      <td>1.0</td>\n      <td>0.875911</td>\n      <td>51.539959</td>\n      <td>-0.380863</td>\n      <td>0.040239</td>\n      <td>0.276443</td>\n      <td>LEASEHOLD</td>\n      <td>0</td>\n      <td>...</td>\n      <td>False</td>\n      <td>False</td>\n      <td>False</td>\n      <td>False</td>\n      <td>False</td>\n      <td>False</td>\n      <td>False</td>\n      <td>False</td>\n      <td>False</td>\n      <td>False</td>\n    </tr>\n    <tr>\n      <th>49036279</th>\n      <td>275000.0</td>\n      <td>2.0</td>\n      <td>1.0</td>\n      <td>0.474368</td>\n      <td>51.541780</td>\n      <td>0.037890</td>\n      <td>0.042060</td>\n      <td>0.142310</td>\n      <td>LEASEHOLD</td>\n      <td>0</td>\n      <td>...</td>\n      <td>False</td>\n      <td>False</td>\n      <td>False</td>\n      <td>False</td>\n      <td>False</td>\n      <td>False</td>\n      <td>False</td>\n      <td>False</td>\n      <td>False</td>\n      <td>False</td>\n    </tr>\n    <tr>\n      <th>49303873</th>\n      <td>450000.0</td>\n      <td>3.0</td>\n      <td>2.0</td>\n      <td>0.577040</td>\n      <td>51.524880</td>\n      <td>0.187200</td>\n      <td>0.025160</td>\n      <td>0.291620</td>\n      <td>FREEHOLD</td>\n      <td>0</td>\n      <td>...</td>\n      <td>False</td>\n      <td>False</td>\n      <td>False</td>\n      <td>False</td>\n      <td>False</td>\n      <td>False</td>\n      <td>False</td>\n      <td>False</td>\n      <td>False</td>\n      <td>False</td>\n    </tr>\n    <tr>\n      <th>52064391</th>\n      <td>349950.0</td>\n      <td>2.0</td>\n      <td>2.0</td>\n      <td>0.212734</td>\n      <td>51.470800</td>\n      <td>-0.361820</td>\n      <td>0.028920</td>\n      <td>0.257400</td>\n      <td>LEASEHOLD</td>\n      <td>0</td>\n      <td>...</td>\n      <td>True</td>\n      <td>False</td>\n      <td>True</td>\n      <td>False</td>\n      <td>False</td>\n      <td>False</td>\n      <td>False</td>\n      <td>False</td>\n      <td>False</td>\n      <td>False</td>\n    </tr>\n    <tr>\n      <th>52187854</th>\n      <td>450000.0</td>\n      <td>1.0</td>\n      <td>1.0</td>\n      <td>0.446802</td>\n      <td>51.527199</td>\n      <td>-0.202898</td>\n      <td>0.027479</td>\n      <td>0.098478</td>\n      <td>LEASEHOLD</td>\n      <td>0</td>\n      <td>...</td>\n      <td>False</td>\n      <td>False</td>\n      <td>False</td>\n      <td>False</td>\n      <td>False</td>\n      <td>False</td>\n      <td>False</td>\n      <td>False</td>\n      <td>False</td>\n      <td>False</td>\n    </tr>\n    <tr>\n      <th>52675628</th>\n      <td>490000.0</td>\n      <td>2.0</td>\n      <td>2.0</td>\n      <td>0.215040</td>\n      <td>51.501114</td>\n      <td>0.026315</td>\n      <td>0.001394</td>\n      <td>0.130735</td>\n      <td>NaN</td>\n      <td>0</td>\n      <td>...</td>\n      <td>False</td>\n      <td>False</td>\n      <td>False</td>\n      <td>False</td>\n      <td>False</td>\n      <td>False</td>\n      <td>False</td>\n      <td>False</td>\n      <td>False</td>\n      <td>False</td>\n    </tr>\n    <tr>\n      <th>52845963</th>\n      <td>200000.0</td>\n      <td>2.0</td>\n      <td>1.0</td>\n      <td>0.650562</td>\n      <td>51.398040</td>\n      <td>-0.076812</td>\n      <td>0.101680</td>\n      <td>0.027608</td>\n      <td>LEASEHOLD</td>\n      <td>0</td>\n      <td>...</td>\n      <td>False</td>\n      <td>False</td>\n      <td>False</td>\n      <td>False</td>\n      <td>False</td>\n      <td>False</td>\n      <td>False</td>\n      <td>False</td>\n      <td>False</td>\n      <td>False</td>\n    </tr>\n    <tr>\n      <th>52913496</th>\n      <td>220000.0</td>\n      <td>1.0</td>\n      <td>1.0</td>\n      <td>0.945991</td>\n      <td>51.539383</td>\n      <td>-0.382239</td>\n      <td>0.039663</td>\n      <td>0.277819</td>\n      <td>LEASEHOLD</td>\n      <td>0</td>\n      <td>...</td>\n      <td>False</td>\n      <td>False</td>\n      <td>False</td>\n      <td>False</td>\n      <td>False</td>\n      <td>False</td>\n      <td>False</td>\n      <td>False</td>\n      <td>False</td>\n      <td>False</td>\n    </tr>\n    <tr>\n      <th>53609433</th>\n      <td>489995.0</td>\n      <td>1.0</td>\n      <td>1.0</td>\n      <td>0.087081</td>\n      <td>51.532620</td>\n      <td>-0.107860</td>\n      <td>0.032900</td>\n      <td>0.003440</td>\n      <td>LEASEHOLD</td>\n      <td>0</td>\n      <td>...</td>\n      <td>False</td>\n      <td>False</td>\n      <td>False</td>\n      <td>False</td>\n      <td>False</td>\n      <td>False</td>\n      <td>False</td>\n      <td>False</td>\n      <td>False</td>\n      <td>False</td>\n    </tr>\n    <tr>\n      <th>53649578</th>\n      <td>284950.0</td>\n      <td>1.0</td>\n      <td>1.0</td>\n      <td>0.806597</td>\n      <td>51.479890</td>\n      <td>-0.078500</td>\n      <td>0.019830</td>\n      <td>0.025920</td>\n      <td>NaN</td>\n      <td>0</td>\n      <td>...</td>\n      <td>False</td>\n      <td>False</td>\n      <td>False</td>\n      <td>False</td>\n      <td>False</td>\n      <td>False</td>\n      <td>False</td>\n      <td>False</td>\n      <td>False</td>\n      <td>False</td>\n    </tr>\n    <tr>\n      <th>53938989</th>\n      <td>450000.0</td>\n      <td>2.0</td>\n      <td>1.0</td>\n      <td>0.775203</td>\n      <td>51.658287</td>\n      <td>-0.207902</td>\n      <td>0.158567</td>\n      <td>0.103482</td>\n      <td>FREEHOLD</td>\n      <td>0</td>\n      <td>...</td>\n      <td>False</td>\n      <td>False</td>\n      <td>False</td>\n      <td>False</td>\n      <td>False</td>\n      <td>False</td>\n      <td>False</td>\n      <td>False</td>\n      <td>False</td>\n      <td>False</td>\n    </tr>\n    <tr>\n      <th>54713232</th>\n      <td>332000.0</td>\n      <td>2.0</td>\n      <td>1.0</td>\n      <td>0.319226</td>\n      <td>51.612300</td>\n      <td>-0.119860</td>\n      <td>0.112580</td>\n      <td>0.015440</td>\n      <td>SHARE_OF_FREEHOLD</td>\n      <td>0</td>\n      <td>...</td>\n      <td>False</td>\n      <td>False</td>\n      <td>False</td>\n      <td>False</td>\n      <td>False</td>\n      <td>False</td>\n      <td>False</td>\n      <td>False</td>\n      <td>False</td>\n      <td>False</td>\n    </tr>\n    <tr>\n      <th>54904122</th>\n      <td>365000.0</td>\n      <td>2.0</td>\n      <td>1.0</td>\n      <td>0.260722</td>\n      <td>51.593595</td>\n      <td>0.022046</td>\n      <td>0.093875</td>\n      <td>0.126466</td>\n      <td>SHARE_OF_FREEHOLD</td>\n      <td>0</td>\n      <td>...</td>\n      <td>False</td>\n      <td>False</td>\n      <td>False</td>\n      <td>False</td>\n      <td>False</td>\n      <td>False</td>\n      <td>False</td>\n      <td>False</td>\n      <td>False</td>\n      <td>False</td>\n    </tr>\n    <tr>\n      <th>54991934</th>\n      <td>430000.0</td>\n      <td>3.0</td>\n      <td>1.0</td>\n      <td>0.497268</td>\n      <td>51.528720</td>\n      <td>0.039180</td>\n      <td>0.029000</td>\n      <td>0.143600</td>\n      <td>FREEHOLD</td>\n      <td>0</td>\n      <td>...</td>\n      <td>False</td>\n      <td>False</td>\n      <td>False</td>\n      <td>False</td>\n      <td>False</td>\n      <td>False</td>\n      <td>False</td>\n      <td>False</td>\n      <td>False</td>\n      <td>False</td>\n    </tr>\n    <tr>\n      <th>55043230</th>\n      <td>260000.0</td>\n      <td>1.0</td>\n      <td>1.0</td>\n      <td>0.384607</td>\n      <td>51.544430</td>\n      <td>0.014500</td>\n      <td>0.044710</td>\n      <td>0.118920</td>\n      <td>LEASEHOLD</td>\n      <td>0</td>\n      <td>...</td>\n      <td>False</td>\n      <td>False</td>\n      <td>False</td>\n      <td>False</td>\n      <td>False</td>\n      <td>False</td>\n      <td>False</td>\n      <td>False</td>\n      <td>False</td>\n      <td>False</td>\n    </tr>\n    <tr>\n      <th>55187658</th>\n      <td>430000.0</td>\n      <td>2.0</td>\n      <td>2.0</td>\n      <td>0.289033</td>\n      <td>51.507570</td>\n      <td>0.078030</td>\n      <td>0.007850</td>\n      <td>0.182450</td>\n      <td>LEASEHOLD</td>\n      <td>0</td>\n      <td>...</td>\n      <td>True</td>\n      <td>False</td>\n      <td>False</td>\n      <td>False</td>\n      <td>False</td>\n      <td>False</td>\n      <td>True</td>\n      <td>False</td>\n      <td>False</td>\n      <td>False</td>\n    </tr>\n    <tr>\n      <th>55531367</th>\n      <td>599950.0</td>\n      <td>2.0</td>\n      <td>1.0</td>\n      <td>0.406725</td>\n      <td>51.467410</td>\n      <td>-0.079170</td>\n      <td>0.032310</td>\n      <td>0.025250</td>\n      <td>NaN</td>\n      <td>0</td>\n      <td>...</td>\n      <td>False</td>\n      <td>False</td>\n      <td>True</td>\n      <td>False</td>\n      <td>False</td>\n      <td>False</td>\n      <td>False</td>\n      <td>False</td>\n      <td>False</td>\n      <td>False</td>\n    </tr>\n    <tr>\n      <th>55768232</th>\n      <td>550000.0</td>\n      <td>2.0</td>\n      <td>1.0</td>\n      <td>0.478349</td>\n      <td>51.472890</td>\n      <td>-0.078940</td>\n      <td>0.026830</td>\n      <td>0.025480</td>\n      <td>NaN</td>\n      <td>0</td>\n      <td>...</td>\n      <td>False</td>\n      <td>False</td>\n      <td>False</td>\n      <td>False</td>\n      <td>False</td>\n      <td>False</td>\n      <td>False</td>\n      <td>False</td>\n      <td>False</td>\n      <td>False</td>\n    </tr>\n    <tr>\n      <th>55805965</th>\n      <td>280000.0</td>\n      <td>2.0</td>\n      <td>1.0</td>\n      <td>0.742859</td>\n      <td>51.520910</td>\n      <td>0.022680</td>\n      <td>0.021190</td>\n      <td>0.127100</td>\n      <td>LEASEHOLD</td>\n      <td>0</td>\n      <td>...</td>\n      <td>False</td>\n      <td>False</td>\n      <td>False</td>\n      <td>False</td>\n      <td>True</td>\n      <td>False</td>\n      <td>False</td>\n      <td>False</td>\n      <td>False</td>\n      <td>False</td>\n    </tr>\n    <tr>\n      <th>55839051</th>\n      <td>599950.0</td>\n      <td>2.0</td>\n      <td>1.0</td>\n      <td>0.259168</td>\n      <td>51.579186</td>\n      <td>-0.209020</td>\n      <td>0.079466</td>\n      <td>0.104600</td>\n      <td>LEASEHOLD</td>\n      <td>0</td>\n      <td>...</td>\n      <td>False</td>\n      <td>False</td>\n      <td>False</td>\n      <td>False</td>\n      <td>False</td>\n      <td>False</td>\n      <td>False</td>\n      <td>False</td>\n      <td>False</td>\n      <td>False</td>\n    </tr>\n    <tr>\n      <th>55940994</th>\n      <td>385000.0</td>\n      <td>2.0</td>\n      <td>2.0</td>\n      <td>0.403987</td>\n      <td>51.376930</td>\n      <td>-0.238870</td>\n      <td>0.122790</td>\n      <td>0.134450</td>\n      <td>LEASEHOLD</td>\n      <td>0</td>\n      <td>...</td>\n      <td>False</td>\n      <td>False</td>\n      <td>False</td>\n      <td>False</td>\n      <td>True</td>\n      <td>False</td>\n      <td>False</td>\n      <td>False</td>\n      <td>False</td>\n      <td>False</td>\n    </tr>\n    <tr>\n      <th>56449305</th>\n      <td>380000.0</td>\n      <td>2.0</td>\n      <td>1.0</td>\n      <td>0.310271</td>\n      <td>51.600483</td>\n      <td>-0.062096</td>\n      <td>0.100763</td>\n      <td>0.042324</td>\n      <td>FREEHOLD</td>\n      <td>0</td>\n      <td>...</td>\n      <td>False</td>\n      <td>False</td>\n      <td>False</td>\n      <td>False</td>\n      <td>False</td>\n      <td>False</td>\n      <td>False</td>\n      <td>False</td>\n      <td>False</td>\n      <td>False</td>\n    </tr>\n    <tr>\n      <th>57221413</th>\n      <td>475000.0</td>\n      <td>3.0</td>\n      <td>2.0</td>\n      <td>0.409784</td>\n      <td>51.497260</td>\n      <td>-0.422530</td>\n      <td>0.002460</td>\n      <td>0.318110</td>\n      <td>FREEHOLD</td>\n      <td>0</td>\n      <td>...</td>\n      <td>False</td>\n      <td>False</td>\n      <td>False</td>\n      <td>False</td>\n      <td>False</td>\n      <td>False</td>\n      <td>False</td>\n      <td>False</td>\n      <td>False</td>\n      <td>False</td>\n    </tr>\n  </tbody>\n</table>\n<p>30 rows × 81 columns</p>\n</div>"
     },
     "execution_count": 9,
     "metadata": {},
     "output_type": "execute_result"
    }
   ],
   "source": [
    "df.head(30)"
   ]
  },
  {
   "cell_type": "code",
   "execution_count": 10,
   "metadata": {
    "execution": {
     "iopub.execute_input": "2022-11-16T13:53:45.549728Z",
     "iopub.status.busy": "2022-11-16T13:53:45.549524Z",
     "iopub.status.idle": "2022-11-16T13:53:45.561922Z",
     "shell.execute_reply": "2022-11-16T13:53:45.561366Z",
     "shell.execute_reply.started": "2022-11-16T13:53:45.549709Z"
    }
   },
   "outputs": [
    {
     "data": {
      "text/plain": "Price                             0\nbedrooms                          0\nbathrooms                         0\nnearestStation                    0\nlocation.latitude                 0\n                                 ..\nfeature__2__off-road parking      0\nfeature__2__security              0\nfeature__2__patio                 0\nfeature__2__underfloor heating    0\nfeature__2__marble                0\nLength: 81, dtype: int64"
     },
     "execution_count": 10,
     "metadata": {},
     "output_type": "execute_result"
    }
   ],
   "source": [
    "df.isnull().sum()"
   ]
  },
  {
   "cell_type": "code",
   "execution_count": 11,
   "metadata": {
    "execution": {
     "iopub.execute_input": "2022-11-16T13:53:45.562900Z",
     "iopub.status.busy": "2022-11-16T13:53:45.562697Z",
     "iopub.status.idle": "2022-11-16T13:53:45.641457Z",
     "shell.execute_reply": "2022-11-16T13:53:45.640840Z",
     "shell.execute_reply.started": "2022-11-16T13:53:45.562882Z"
    }
   },
   "outputs": [
    {
     "name": "stdout",
     "output_type": "stream",
     "text": [
      "<class 'pandas.core.frame.DataFrame'>\n",
      "Int64Index: 46871 entries, 14520525 to 126181118\n",
      "Data columns (total 81 columns):\n",
      " #   Column                              Non-Null Count  Dtype  \n",
      "---  ------                              --------------  -----  \n",
      " 0   Price                               46871 non-null  float64\n",
      " 1   bedrooms                            46871 non-null  float64\n",
      " 2   bathrooms                           46871 non-null  float64\n",
      " 3   nearestStation                      46871 non-null  float64\n",
      " 4   location.latitude                   46871 non-null  float64\n",
      " 5   location.longitude                  46871 non-null  float64\n",
      " 6   latitude_deviation                  46871 non-null  float64\n",
      " 7   longitude_deviation                 46871 non-null  float64\n",
      " 8   tenure.tenureType                   44127 non-null  object \n",
      " 9   feature__1 bedroom                  46871 non-null  int64  \n",
      " 10  feature__2 bedrooms                 46871 non-null  int64  \n",
      " 11  feature__2 double bedrooms          46871 non-null  int64  \n",
      " 12  feature__allocated parking          46871 non-null  int64  \n",
      " 13  feature__allocated parking space    46871 non-null  int64  \n",
      " 14  feature__balcony                    46871 non-null  int64  \n",
      " 15  feature__bathroom                   46871 non-null  int64  \n",
      " 16  feature__chain free                 46871 non-null  int64  \n",
      " 17  feature__close to local amenities   46871 non-null  int64  \n",
      " 18  feature__communal garden            46871 non-null  int64  \n",
      " 19  feature__communal gardens           46871 non-null  int64  \n",
      " 20  feature__double bedroom             46871 non-null  int64  \n",
      " 21  feature__double glazed              46871 non-null  int64  \n",
      " 22  feature__double glazing             46871 non-null  int64  \n",
      " 23  feature__epc rating c               46871 non-null  int64  \n",
      " 24  feature__epc rating d               46871 non-null  int64  \n",
      " 25  feature__excellent location         46871 non-null  int64  \n",
      " 26  feature__excellent transport links  46871 non-null  int64  \n",
      " 27  feature__family bathroom            46871 non-null  int64  \n",
      " 28  feature__first floor                46871 non-null  int64  \n",
      " 29  feature__fitted kitchen             46871 non-null  int64  \n",
      " 30  feature__garage                     46871 non-null  int64  \n",
      " 31  feature__garden                     46871 non-null  int64  \n",
      " 32  feature__gas central heating        46871 non-null  int64  \n",
      " 33  feature__great location             46871 non-null  int64  \n",
      " 34  feature__ground floor               46871 non-null  int64  \n",
      " 35  feature__kitchen                    46871 non-null  int64  \n",
      " 36  feature__leasehold                  46871 non-null  int64  \n",
      " 37  feature__long lease                 46871 non-null  int64  \n",
      " 38  feature__modern bathroom            46871 non-null  int64  \n",
      " 39  feature__modern kitchen             46871 non-null  int64  \n",
      " 40  feature__no chain                   46871 non-null  int64  \n",
      " 41  feature__no onward chain            46871 non-null  int64  \n",
      " 42  feature__off street parking         46871 non-null  int64  \n",
      " 43  feature__one bedroom                46871 non-null  int64  \n",
      " 44  feature__one double bedroom         46871 non-null  int64  \n",
      " 45  feature__parking                    46871 non-null  int64  \n",
      " 46  feature__private balcony            46871 non-null  int64  \n",
      " 47  feature__private garden             46871 non-null  int64  \n",
      " 48  feature__private rear garden        46871 non-null  int64  \n",
      " 49  feature__reception room             46871 non-null  int64  \n",
      " 50  feature__separate kitchen           46871 non-null  int64  \n",
      " 51  feature__share of freehold          46871 non-null  int64  \n",
      " 52  feature__three bedrooms             46871 non-null  int64  \n",
      " 53  feature__three double bedrooms      46871 non-null  int64  \n",
      " 54  feature__top floor                  46871 non-null  int64  \n",
      " 55  feature__two bathrooms              46871 non-null  int64  \n",
      " 56  feature__two bedrooms               46871 non-null  int64  \n",
      " 57  feature__two double bedrooms        46871 non-null  int64  \n",
      " 58  feature__two reception rooms        46871 non-null  int64  \n",
      " 59  feature__2__garden                  46871 non-null  bool   \n",
      " 60  feature__2__central heating         46871 non-null  bool   \n",
      " 61  feature__2__parking                 46871 non-null  bool   \n",
      " 62  feature__2__off road                46871 non-null  bool   \n",
      " 63  feature__2__shower                  46871 non-null  bool   \n",
      " 64  feature__2__cavity wall insulation  46871 non-null  bool   \n",
      " 65  feature__2__wall insulation         46871 non-null  bool   \n",
      " 66  feature__2__insulation              46871 non-null  bool   \n",
      " 67  feature__2__insulat                 46871 non-null  bool   \n",
      " 68  feature__2__dining room             46871 non-null  bool   \n",
      " 69  feature__2__garage                  46871 non-null  bool   \n",
      " 70  feature__2__en-suite                46871 non-null  bool   \n",
      " 71  feature__2__en suite                46871 non-null  bool   \n",
      " 72  feature__2__penthouse               46871 non-null  bool   \n",
      " 73  feature__2__balcony                 46871 non-null  bool   \n",
      " 74  feature__2__double-glazing          46871 non-null  bool   \n",
      " 75  feature__2__double glazing          46871 non-null  bool   \n",
      " 76  feature__2__off-road parking        46871 non-null  bool   \n",
      " 77  feature__2__security                46871 non-null  bool   \n",
      " 78  feature__2__patio                   46871 non-null  bool   \n",
      " 79  feature__2__underfloor heating      46871 non-null  bool   \n",
      " 80  feature__2__marble                  46871 non-null  bool   \n",
      "dtypes: bool(22), float64(8), int64(50), object(1)\n",
      "memory usage: 22.4+ MB\n"
     ]
    },
    {
     "data": {
      "text/plain": "                                      count           mean            std  \\\nPrice                               46871.0  425069.390775  107227.324906   \nbedrooms                            46871.0       1.992469       0.828837   \nbathrooms                           46871.0       1.182074       0.409879   \nnearestStation                      46871.0       0.438847       0.325942   \nlocation.latitude                   46871.0      51.497049       0.077085   \nlocation.longitude                  46871.0      -0.113269       0.156489   \nlatitude_deviation                  46871.0       0.064317       0.042573   \nlongitude_deviation                 46871.0       0.124202       0.095607   \nfeature__1 bedroom                  46871.0       0.010838       0.103542   \nfeature__2 bedrooms                 46871.0       0.015169       0.122402   \nfeature__2 double bedrooms          46871.0       0.013569       0.115695   \nfeature__allocated parking          46871.0       0.026946       0.161928   \nfeature__allocated parking space    46871.0       0.012993       0.113246   \nfeature__balcony                    46871.0       0.038617       0.193124   \nfeature__bathroom                   46871.0       0.026370       0.160502   \nfeature__chain free                 46871.0       0.120266       0.325800   \nfeature__close to local amenities   46871.0       0.011948       0.108848   \nfeature__communal garden            46871.0       0.018071       0.133209   \nfeature__communal gardens           46871.0       0.030381       0.171760   \nfeature__double bedroom             46871.0       0.012566       0.111395   \nfeature__double glazed              46871.0       0.012822       0.112509   \nfeature__double glazing             46871.0       0.025496       0.157761   \nfeature__epc rating c               46871.0       0.012140       0.109511   \nfeature__epc rating d               46871.0       0.013334       0.114704   \nfeature__excellent location         46871.0       0.013612       0.115874   \nfeature__excellent transport links  46871.0       0.016385       0.127122   \nfeature__family bathroom            46871.0       0.014593       0.120097   \nfeature__first floor                46871.0       0.026520       0.160676   \nfeature__fitted kitchen             46871.0       0.027224       0.162867   \nfeature__garage                     46871.0       0.030424       0.172001   \nfeature__garden                     46871.0       0.021015       0.144178   \nfeature__gas central heating        46871.0       0.028120       0.165961   \nfeature__great location             46871.0       0.015660       0.124158   \nfeature__ground floor               46871.0       0.028760       0.167132   \nfeature__kitchen                    46871.0       0.022850       0.149427   \nfeature__leasehold                  46871.0       0.014316       0.118970   \nfeature__long lease                 46871.0       0.039619       0.195175   \nfeature__modern bathroom            46871.0       0.015361       0.122986   \nfeature__modern kitchen             46871.0       0.014465       0.119400   \nfeature__no chain                   46871.0       0.026669       0.161380   \nfeature__no onward chain            46871.0       0.057925       0.233604   \nfeature__off street parking         46871.0       0.047300       0.212684   \nfeature__one bedroom                46871.0       0.041369       0.199144   \nfeature__one double bedroom         46871.0       0.027885       0.164645   \nfeature__parking                    46871.0       0.013398       0.115160   \nfeature__private balcony            46871.0       0.039662       0.195275   \nfeature__private garden             46871.0       0.034200       0.181980   \nfeature__private rear garden        46871.0       0.017367       0.131124   \nfeature__reception room             46871.0       0.014487       0.119843   \nfeature__separate kitchen           46871.0       0.020268       0.140918   \nfeature__share of freehold          46871.0       0.047663       0.213354   \nfeature__three bedrooms             46871.0       0.059120       0.235851   \nfeature__three double bedrooms      46871.0       0.012545       0.111301   \nfeature__top floor                  46871.0       0.013206       0.114159   \nfeature__two bathrooms              46871.0       0.031512       0.174943   \nfeature__two bedrooms               46871.0       0.071473       0.257616   \nfeature__two double bedrooms        46871.0       0.095411       0.293930   \nfeature__two reception rooms        46871.0       0.016449       0.127197   \n\n                                              min            25%  \\\nPrice                               100000.000000  349950.000000   \nbedrooms                                 1.000000       1.000000   \nbathrooms                                1.000000       1.000000   \nnearestStation                           0.000000       0.227169   \nlocation.latitude                       51.298317      51.438861   \nlocation.longitude                      -0.498315      -0.210796   \nlatitude_deviation                       0.000000       0.028876   \nlongitude_deviation                      0.000000       0.043560   \nfeature__1 bedroom                       0.000000       0.000000   \nfeature__2 bedrooms                      0.000000       0.000000   \nfeature__2 double bedrooms               0.000000       0.000000   \nfeature__allocated parking               0.000000       0.000000   \nfeature__allocated parking space         0.000000       0.000000   \nfeature__balcony                         0.000000       0.000000   \nfeature__bathroom                        0.000000       0.000000   \nfeature__chain free                      0.000000       0.000000   \nfeature__close to local amenities        0.000000       0.000000   \nfeature__communal garden                 0.000000       0.000000   \nfeature__communal gardens                0.000000       0.000000   \nfeature__double bedroom                  0.000000       0.000000   \nfeature__double glazed                   0.000000       0.000000   \nfeature__double glazing                  0.000000       0.000000   \nfeature__epc rating c                    0.000000       0.000000   \nfeature__epc rating d                    0.000000       0.000000   \nfeature__excellent location              0.000000       0.000000   \nfeature__excellent transport links       0.000000       0.000000   \nfeature__family bathroom                 0.000000       0.000000   \nfeature__first floor                     0.000000       0.000000   \nfeature__fitted kitchen                  0.000000       0.000000   \nfeature__garage                          0.000000       0.000000   \nfeature__garden                          0.000000       0.000000   \nfeature__gas central heating             0.000000       0.000000   \nfeature__great location                  0.000000       0.000000   \nfeature__ground floor                    0.000000       0.000000   \nfeature__kitchen                         0.000000       0.000000   \nfeature__leasehold                       0.000000       0.000000   \nfeature__long lease                      0.000000       0.000000   \nfeature__modern bathroom                 0.000000       0.000000   \nfeature__modern kitchen                  0.000000       0.000000   \nfeature__no chain                        0.000000       0.000000   \nfeature__no onward chain                 0.000000       0.000000   \nfeature__off street parking              0.000000       0.000000   \nfeature__one bedroom                     0.000000       0.000000   \nfeature__one double bedroom              0.000000       0.000000   \nfeature__parking                         0.000000       0.000000   \nfeature__private balcony                 0.000000       0.000000   \nfeature__private garden                  0.000000       0.000000   \nfeature__private rear garden             0.000000       0.000000   \nfeature__reception room                  0.000000       0.000000   \nfeature__separate kitchen                0.000000       0.000000   \nfeature__share of freehold               0.000000       0.000000   \nfeature__three bedrooms                  0.000000       0.000000   \nfeature__three double bedrooms           0.000000       0.000000   \nfeature__top floor                       0.000000       0.000000   \nfeature__two bathrooms                   0.000000       0.000000   \nfeature__two bedrooms                    0.000000       0.000000   \nfeature__two double bedrooms             0.000000       0.000000   \nfeature__two reception rooms             0.000000       0.000000   \n\n                                              50%            75%  \\\nPrice                               425000.000000  515000.000000   \nbedrooms                                 2.000000       3.000000   \nbathrooms                                1.000000       1.000000   \nnearestStation                           0.367971       0.559620   \nlocation.latitude                       51.499977      51.556183   \nlocation.longitude                      -0.102230      -0.010343   \nlatitude_deviation                       0.058595       0.094362   \nlongitude_deviation                      0.098984       0.192684   \nfeature__1 bedroom                       0.000000       0.000000   \nfeature__2 bedrooms                      0.000000       0.000000   \nfeature__2 double bedrooms               0.000000       0.000000   \nfeature__allocated parking               0.000000       0.000000   \nfeature__allocated parking space         0.000000       0.000000   \nfeature__balcony                         0.000000       0.000000   \nfeature__bathroom                        0.000000       0.000000   \nfeature__chain free                      0.000000       0.000000   \nfeature__close to local amenities        0.000000       0.000000   \nfeature__communal garden                 0.000000       0.000000   \nfeature__communal gardens                0.000000       0.000000   \nfeature__double bedroom                  0.000000       0.000000   \nfeature__double glazed                   0.000000       0.000000   \nfeature__double glazing                  0.000000       0.000000   \nfeature__epc rating c                    0.000000       0.000000   \nfeature__epc rating d                    0.000000       0.000000   \nfeature__excellent location              0.000000       0.000000   \nfeature__excellent transport links       0.000000       0.000000   \nfeature__family bathroom                 0.000000       0.000000   \nfeature__first floor                     0.000000       0.000000   \nfeature__fitted kitchen                  0.000000       0.000000   \nfeature__garage                          0.000000       0.000000   \nfeature__garden                          0.000000       0.000000   \nfeature__gas central heating             0.000000       0.000000   \nfeature__great location                  0.000000       0.000000   \nfeature__ground floor                    0.000000       0.000000   \nfeature__kitchen                         0.000000       0.000000   \nfeature__leasehold                       0.000000       0.000000   \nfeature__long lease                      0.000000       0.000000   \nfeature__modern bathroom                 0.000000       0.000000   \nfeature__modern kitchen                  0.000000       0.000000   \nfeature__no chain                        0.000000       0.000000   \nfeature__no onward chain                 0.000000       0.000000   \nfeature__off street parking              0.000000       0.000000   \nfeature__one bedroom                     0.000000       0.000000   \nfeature__one double bedroom              0.000000       0.000000   \nfeature__parking                         0.000000       0.000000   \nfeature__private balcony                 0.000000       0.000000   \nfeature__private garden                  0.000000       0.000000   \nfeature__private rear garden             0.000000       0.000000   \nfeature__reception room                  0.000000       0.000000   \nfeature__separate kitchen                0.000000       0.000000   \nfeature__share of freehold               0.000000       0.000000   \nfeature__three bedrooms                  0.000000       0.000000   \nfeature__three double bedrooms           0.000000       0.000000   \nfeature__top floor                       0.000000       0.000000   \nfeature__two bathrooms                   0.000000       0.000000   \nfeature__two bedrooms                    0.000000       0.000000   \nfeature__two double bedrooms             0.000000       0.000000   \nfeature__two reception rooms             0.000000       0.000000   \n\n                                              max  \nPrice                               600000.000000  \nbedrooms                                 7.000000  \nbathrooms                                5.000000  \nnearestStation                           7.197700  \nlocation.latitude                       51.683185  \nlocation.longitude                       0.279726  \nlatitude_deviation                       0.201403  \nlongitude_deviation                      0.393895  \nfeature__1 bedroom                       1.000000  \nfeature__2 bedrooms                      2.000000  \nfeature__2 double bedrooms               1.000000  \nfeature__allocated parking               1.000000  \nfeature__allocated parking space         1.000000  \nfeature__balcony                         2.000000  \nfeature__bathroom                        2.000000  \nfeature__chain free                      2.000000  \nfeature__close to local amenities        2.000000  \nfeature__communal garden                 1.000000  \nfeature__communal gardens                2.000000  \nfeature__double bedroom                  1.000000  \nfeature__double glazed                   1.000000  \nfeature__double glazing                  2.000000  \nfeature__epc rating c                    1.000000  \nfeature__epc rating d                    1.000000  \nfeature__excellent location              1.000000  \nfeature__excellent transport links       2.000000  \nfeature__family bathroom                 2.000000  \nfeature__first floor                     1.000000  \nfeature__fitted kitchen                  2.000000  \nfeature__garage                          2.000000  \nfeature__garden                          2.000000  \nfeature__gas central heating             2.000000  \nfeature__great location                  1.000000  \nfeature__ground floor                    1.000000  \nfeature__kitchen                         1.000000  \nfeature__leasehold                       2.000000  \nfeature__long lease                      2.000000  \nfeature__modern bathroom                 1.000000  \nfeature__modern kitchen                  1.000000  \nfeature__no chain                        2.000000  \nfeature__no onward chain                 1.000000  \nfeature__off street parking              2.000000  \nfeature__one bedroom                     1.000000  \nfeature__one double bedroom              1.000000  \nfeature__parking                         2.000000  \nfeature__private balcony                 2.000000  \nfeature__private garden                  2.000000  \nfeature__private rear garden             2.000000  \nfeature__reception room                  2.000000  \nfeature__separate kitchen                1.000000  \nfeature__share of freehold               2.000000  \nfeature__three bedrooms                  1.000000  \nfeature__three double bedrooms           1.000000  \nfeature__top floor                       1.000000  \nfeature__two bathrooms                   2.000000  \nfeature__two bedrooms                    1.000000  \nfeature__two double bedrooms             2.000000  \nfeature__two reception rooms             1.000000  ",
      "text/html": "<div>\n<style scoped>\n    .dataframe tbody tr th:only-of-type {\n        vertical-align: middle;\n    }\n\n    .dataframe tbody tr th {\n        vertical-align: top;\n    }\n\n    .dataframe thead th {\n        text-align: right;\n    }\n</style>\n<table border=\"1\" class=\"dataframe\">\n  <thead>\n    <tr style=\"text-align: right;\">\n      <th></th>\n      <th>count</th>\n      <th>mean</th>\n      <th>std</th>\n      <th>min</th>\n      <th>25%</th>\n      <th>50%</th>\n      <th>75%</th>\n      <th>max</th>\n    </tr>\n  </thead>\n  <tbody>\n    <tr>\n      <th>Price</th>\n      <td>46871.0</td>\n      <td>425069.390775</td>\n      <td>107227.324906</td>\n      <td>100000.000000</td>\n      <td>349950.000000</td>\n      <td>425000.000000</td>\n      <td>515000.000000</td>\n      <td>600000.000000</td>\n    </tr>\n    <tr>\n      <th>bedrooms</th>\n      <td>46871.0</td>\n      <td>1.992469</td>\n      <td>0.828837</td>\n      <td>1.000000</td>\n      <td>1.000000</td>\n      <td>2.000000</td>\n      <td>3.000000</td>\n      <td>7.000000</td>\n    </tr>\n    <tr>\n      <th>bathrooms</th>\n      <td>46871.0</td>\n      <td>1.182074</td>\n      <td>0.409879</td>\n      <td>1.000000</td>\n      <td>1.000000</td>\n      <td>1.000000</td>\n      <td>1.000000</td>\n      <td>5.000000</td>\n    </tr>\n    <tr>\n      <th>nearestStation</th>\n      <td>46871.0</td>\n      <td>0.438847</td>\n      <td>0.325942</td>\n      <td>0.000000</td>\n      <td>0.227169</td>\n      <td>0.367971</td>\n      <td>0.559620</td>\n      <td>7.197700</td>\n    </tr>\n    <tr>\n      <th>location.latitude</th>\n      <td>46871.0</td>\n      <td>51.497049</td>\n      <td>0.077085</td>\n      <td>51.298317</td>\n      <td>51.438861</td>\n      <td>51.499977</td>\n      <td>51.556183</td>\n      <td>51.683185</td>\n    </tr>\n    <tr>\n      <th>location.longitude</th>\n      <td>46871.0</td>\n      <td>-0.113269</td>\n      <td>0.156489</td>\n      <td>-0.498315</td>\n      <td>-0.210796</td>\n      <td>-0.102230</td>\n      <td>-0.010343</td>\n      <td>0.279726</td>\n    </tr>\n    <tr>\n      <th>latitude_deviation</th>\n      <td>46871.0</td>\n      <td>0.064317</td>\n      <td>0.042573</td>\n      <td>0.000000</td>\n      <td>0.028876</td>\n      <td>0.058595</td>\n      <td>0.094362</td>\n      <td>0.201403</td>\n    </tr>\n    <tr>\n      <th>longitude_deviation</th>\n      <td>46871.0</td>\n      <td>0.124202</td>\n      <td>0.095607</td>\n      <td>0.000000</td>\n      <td>0.043560</td>\n      <td>0.098984</td>\n      <td>0.192684</td>\n      <td>0.393895</td>\n    </tr>\n    <tr>\n      <th>feature__1 bedroom</th>\n      <td>46871.0</td>\n      <td>0.010838</td>\n      <td>0.103542</td>\n      <td>0.000000</td>\n      <td>0.000000</td>\n      <td>0.000000</td>\n      <td>0.000000</td>\n      <td>1.000000</td>\n    </tr>\n    <tr>\n      <th>feature__2 bedrooms</th>\n      <td>46871.0</td>\n      <td>0.015169</td>\n      <td>0.122402</td>\n      <td>0.000000</td>\n      <td>0.000000</td>\n      <td>0.000000</td>\n      <td>0.000000</td>\n      <td>2.000000</td>\n    </tr>\n    <tr>\n      <th>feature__2 double bedrooms</th>\n      <td>46871.0</td>\n      <td>0.013569</td>\n      <td>0.115695</td>\n      <td>0.000000</td>\n      <td>0.000000</td>\n      <td>0.000000</td>\n      <td>0.000000</td>\n      <td>1.000000</td>\n    </tr>\n    <tr>\n      <th>feature__allocated parking</th>\n      <td>46871.0</td>\n      <td>0.026946</td>\n      <td>0.161928</td>\n      <td>0.000000</td>\n      <td>0.000000</td>\n      <td>0.000000</td>\n      <td>0.000000</td>\n      <td>1.000000</td>\n    </tr>\n    <tr>\n      <th>feature__allocated parking space</th>\n      <td>46871.0</td>\n      <td>0.012993</td>\n      <td>0.113246</td>\n      <td>0.000000</td>\n      <td>0.000000</td>\n      <td>0.000000</td>\n      <td>0.000000</td>\n      <td>1.000000</td>\n    </tr>\n    <tr>\n      <th>feature__balcony</th>\n      <td>46871.0</td>\n      <td>0.038617</td>\n      <td>0.193124</td>\n      <td>0.000000</td>\n      <td>0.000000</td>\n      <td>0.000000</td>\n      <td>0.000000</td>\n      <td>2.000000</td>\n    </tr>\n    <tr>\n      <th>feature__bathroom</th>\n      <td>46871.0</td>\n      <td>0.026370</td>\n      <td>0.160502</td>\n      <td>0.000000</td>\n      <td>0.000000</td>\n      <td>0.000000</td>\n      <td>0.000000</td>\n      <td>2.000000</td>\n    </tr>\n    <tr>\n      <th>feature__chain free</th>\n      <td>46871.0</td>\n      <td>0.120266</td>\n      <td>0.325800</td>\n      <td>0.000000</td>\n      <td>0.000000</td>\n      <td>0.000000</td>\n      <td>0.000000</td>\n      <td>2.000000</td>\n    </tr>\n    <tr>\n      <th>feature__close to local amenities</th>\n      <td>46871.0</td>\n      <td>0.011948</td>\n      <td>0.108848</td>\n      <td>0.000000</td>\n      <td>0.000000</td>\n      <td>0.000000</td>\n      <td>0.000000</td>\n      <td>2.000000</td>\n    </tr>\n    <tr>\n      <th>feature__communal garden</th>\n      <td>46871.0</td>\n      <td>0.018071</td>\n      <td>0.133209</td>\n      <td>0.000000</td>\n      <td>0.000000</td>\n      <td>0.000000</td>\n      <td>0.000000</td>\n      <td>1.000000</td>\n    </tr>\n    <tr>\n      <th>feature__communal gardens</th>\n      <td>46871.0</td>\n      <td>0.030381</td>\n      <td>0.171760</td>\n      <td>0.000000</td>\n      <td>0.000000</td>\n      <td>0.000000</td>\n      <td>0.000000</td>\n      <td>2.000000</td>\n    </tr>\n    <tr>\n      <th>feature__double bedroom</th>\n      <td>46871.0</td>\n      <td>0.012566</td>\n      <td>0.111395</td>\n      <td>0.000000</td>\n      <td>0.000000</td>\n      <td>0.000000</td>\n      <td>0.000000</td>\n      <td>1.000000</td>\n    </tr>\n    <tr>\n      <th>feature__double glazed</th>\n      <td>46871.0</td>\n      <td>0.012822</td>\n      <td>0.112509</td>\n      <td>0.000000</td>\n      <td>0.000000</td>\n      <td>0.000000</td>\n      <td>0.000000</td>\n      <td>1.000000</td>\n    </tr>\n    <tr>\n      <th>feature__double glazing</th>\n      <td>46871.0</td>\n      <td>0.025496</td>\n      <td>0.157761</td>\n      <td>0.000000</td>\n      <td>0.000000</td>\n      <td>0.000000</td>\n      <td>0.000000</td>\n      <td>2.000000</td>\n    </tr>\n    <tr>\n      <th>feature__epc rating c</th>\n      <td>46871.0</td>\n      <td>0.012140</td>\n      <td>0.109511</td>\n      <td>0.000000</td>\n      <td>0.000000</td>\n      <td>0.000000</td>\n      <td>0.000000</td>\n      <td>1.000000</td>\n    </tr>\n    <tr>\n      <th>feature__epc rating d</th>\n      <td>46871.0</td>\n      <td>0.013334</td>\n      <td>0.114704</td>\n      <td>0.000000</td>\n      <td>0.000000</td>\n      <td>0.000000</td>\n      <td>0.000000</td>\n      <td>1.000000</td>\n    </tr>\n    <tr>\n      <th>feature__excellent location</th>\n      <td>46871.0</td>\n      <td>0.013612</td>\n      <td>0.115874</td>\n      <td>0.000000</td>\n      <td>0.000000</td>\n      <td>0.000000</td>\n      <td>0.000000</td>\n      <td>1.000000</td>\n    </tr>\n    <tr>\n      <th>feature__excellent transport links</th>\n      <td>46871.0</td>\n      <td>0.016385</td>\n      <td>0.127122</td>\n      <td>0.000000</td>\n      <td>0.000000</td>\n      <td>0.000000</td>\n      <td>0.000000</td>\n      <td>2.000000</td>\n    </tr>\n    <tr>\n      <th>feature__family bathroom</th>\n      <td>46871.0</td>\n      <td>0.014593</td>\n      <td>0.120097</td>\n      <td>0.000000</td>\n      <td>0.000000</td>\n      <td>0.000000</td>\n      <td>0.000000</td>\n      <td>2.000000</td>\n    </tr>\n    <tr>\n      <th>feature__first floor</th>\n      <td>46871.0</td>\n      <td>0.026520</td>\n      <td>0.160676</td>\n      <td>0.000000</td>\n      <td>0.000000</td>\n      <td>0.000000</td>\n      <td>0.000000</td>\n      <td>1.000000</td>\n    </tr>\n    <tr>\n      <th>feature__fitted kitchen</th>\n      <td>46871.0</td>\n      <td>0.027224</td>\n      <td>0.162867</td>\n      <td>0.000000</td>\n      <td>0.000000</td>\n      <td>0.000000</td>\n      <td>0.000000</td>\n      <td>2.000000</td>\n    </tr>\n    <tr>\n      <th>feature__garage</th>\n      <td>46871.0</td>\n      <td>0.030424</td>\n      <td>0.172001</td>\n      <td>0.000000</td>\n      <td>0.000000</td>\n      <td>0.000000</td>\n      <td>0.000000</td>\n      <td>2.000000</td>\n    </tr>\n    <tr>\n      <th>feature__garden</th>\n      <td>46871.0</td>\n      <td>0.021015</td>\n      <td>0.144178</td>\n      <td>0.000000</td>\n      <td>0.000000</td>\n      <td>0.000000</td>\n      <td>0.000000</td>\n      <td>2.000000</td>\n    </tr>\n    <tr>\n      <th>feature__gas central heating</th>\n      <td>46871.0</td>\n      <td>0.028120</td>\n      <td>0.165961</td>\n      <td>0.000000</td>\n      <td>0.000000</td>\n      <td>0.000000</td>\n      <td>0.000000</td>\n      <td>2.000000</td>\n    </tr>\n    <tr>\n      <th>feature__great location</th>\n      <td>46871.0</td>\n      <td>0.015660</td>\n      <td>0.124158</td>\n      <td>0.000000</td>\n      <td>0.000000</td>\n      <td>0.000000</td>\n      <td>0.000000</td>\n      <td>1.000000</td>\n    </tr>\n    <tr>\n      <th>feature__ground floor</th>\n      <td>46871.0</td>\n      <td>0.028760</td>\n      <td>0.167132</td>\n      <td>0.000000</td>\n      <td>0.000000</td>\n      <td>0.000000</td>\n      <td>0.000000</td>\n      <td>1.000000</td>\n    </tr>\n    <tr>\n      <th>feature__kitchen</th>\n      <td>46871.0</td>\n      <td>0.022850</td>\n      <td>0.149427</td>\n      <td>0.000000</td>\n      <td>0.000000</td>\n      <td>0.000000</td>\n      <td>0.000000</td>\n      <td>1.000000</td>\n    </tr>\n    <tr>\n      <th>feature__leasehold</th>\n      <td>46871.0</td>\n      <td>0.014316</td>\n      <td>0.118970</td>\n      <td>0.000000</td>\n      <td>0.000000</td>\n      <td>0.000000</td>\n      <td>0.000000</td>\n      <td>2.000000</td>\n    </tr>\n    <tr>\n      <th>feature__long lease</th>\n      <td>46871.0</td>\n      <td>0.039619</td>\n      <td>0.195175</td>\n      <td>0.000000</td>\n      <td>0.000000</td>\n      <td>0.000000</td>\n      <td>0.000000</td>\n      <td>2.000000</td>\n    </tr>\n    <tr>\n      <th>feature__modern bathroom</th>\n      <td>46871.0</td>\n      <td>0.015361</td>\n      <td>0.122986</td>\n      <td>0.000000</td>\n      <td>0.000000</td>\n      <td>0.000000</td>\n      <td>0.000000</td>\n      <td>1.000000</td>\n    </tr>\n    <tr>\n      <th>feature__modern kitchen</th>\n      <td>46871.0</td>\n      <td>0.014465</td>\n      <td>0.119400</td>\n      <td>0.000000</td>\n      <td>0.000000</td>\n      <td>0.000000</td>\n      <td>0.000000</td>\n      <td>1.000000</td>\n    </tr>\n    <tr>\n      <th>feature__no chain</th>\n      <td>46871.0</td>\n      <td>0.026669</td>\n      <td>0.161380</td>\n      <td>0.000000</td>\n      <td>0.000000</td>\n      <td>0.000000</td>\n      <td>0.000000</td>\n      <td>2.000000</td>\n    </tr>\n    <tr>\n      <th>feature__no onward chain</th>\n      <td>46871.0</td>\n      <td>0.057925</td>\n      <td>0.233604</td>\n      <td>0.000000</td>\n      <td>0.000000</td>\n      <td>0.000000</td>\n      <td>0.000000</td>\n      <td>1.000000</td>\n    </tr>\n    <tr>\n      <th>feature__off street parking</th>\n      <td>46871.0</td>\n      <td>0.047300</td>\n      <td>0.212684</td>\n      <td>0.000000</td>\n      <td>0.000000</td>\n      <td>0.000000</td>\n      <td>0.000000</td>\n      <td>2.000000</td>\n    </tr>\n    <tr>\n      <th>feature__one bedroom</th>\n      <td>46871.0</td>\n      <td>0.041369</td>\n      <td>0.199144</td>\n      <td>0.000000</td>\n      <td>0.000000</td>\n      <td>0.000000</td>\n      <td>0.000000</td>\n      <td>1.000000</td>\n    </tr>\n    <tr>\n      <th>feature__one double bedroom</th>\n      <td>46871.0</td>\n      <td>0.027885</td>\n      <td>0.164645</td>\n      <td>0.000000</td>\n      <td>0.000000</td>\n      <td>0.000000</td>\n      <td>0.000000</td>\n      <td>1.000000</td>\n    </tr>\n    <tr>\n      <th>feature__parking</th>\n      <td>46871.0</td>\n      <td>0.013398</td>\n      <td>0.115160</td>\n      <td>0.000000</td>\n      <td>0.000000</td>\n      <td>0.000000</td>\n      <td>0.000000</td>\n      <td>2.000000</td>\n    </tr>\n    <tr>\n      <th>feature__private balcony</th>\n      <td>46871.0</td>\n      <td>0.039662</td>\n      <td>0.195275</td>\n      <td>0.000000</td>\n      <td>0.000000</td>\n      <td>0.000000</td>\n      <td>0.000000</td>\n      <td>2.000000</td>\n    </tr>\n    <tr>\n      <th>feature__private garden</th>\n      <td>46871.0</td>\n      <td>0.034200</td>\n      <td>0.181980</td>\n      <td>0.000000</td>\n      <td>0.000000</td>\n      <td>0.000000</td>\n      <td>0.000000</td>\n      <td>2.000000</td>\n    </tr>\n    <tr>\n      <th>feature__private rear garden</th>\n      <td>46871.0</td>\n      <td>0.017367</td>\n      <td>0.131124</td>\n      <td>0.000000</td>\n      <td>0.000000</td>\n      <td>0.000000</td>\n      <td>0.000000</td>\n      <td>2.000000</td>\n    </tr>\n    <tr>\n      <th>feature__reception room</th>\n      <td>46871.0</td>\n      <td>0.014487</td>\n      <td>0.119843</td>\n      <td>0.000000</td>\n      <td>0.000000</td>\n      <td>0.000000</td>\n      <td>0.000000</td>\n      <td>2.000000</td>\n    </tr>\n    <tr>\n      <th>feature__separate kitchen</th>\n      <td>46871.0</td>\n      <td>0.020268</td>\n      <td>0.140918</td>\n      <td>0.000000</td>\n      <td>0.000000</td>\n      <td>0.000000</td>\n      <td>0.000000</td>\n      <td>1.000000</td>\n    </tr>\n    <tr>\n      <th>feature__share of freehold</th>\n      <td>46871.0</td>\n      <td>0.047663</td>\n      <td>0.213354</td>\n      <td>0.000000</td>\n      <td>0.000000</td>\n      <td>0.000000</td>\n      <td>0.000000</td>\n      <td>2.000000</td>\n    </tr>\n    <tr>\n      <th>feature__three bedrooms</th>\n      <td>46871.0</td>\n      <td>0.059120</td>\n      <td>0.235851</td>\n      <td>0.000000</td>\n      <td>0.000000</td>\n      <td>0.000000</td>\n      <td>0.000000</td>\n      <td>1.000000</td>\n    </tr>\n    <tr>\n      <th>feature__three double bedrooms</th>\n      <td>46871.0</td>\n      <td>0.012545</td>\n      <td>0.111301</td>\n      <td>0.000000</td>\n      <td>0.000000</td>\n      <td>0.000000</td>\n      <td>0.000000</td>\n      <td>1.000000</td>\n    </tr>\n    <tr>\n      <th>feature__top floor</th>\n      <td>46871.0</td>\n      <td>0.013206</td>\n      <td>0.114159</td>\n      <td>0.000000</td>\n      <td>0.000000</td>\n      <td>0.000000</td>\n      <td>0.000000</td>\n      <td>1.000000</td>\n    </tr>\n    <tr>\n      <th>feature__two bathrooms</th>\n      <td>46871.0</td>\n      <td>0.031512</td>\n      <td>0.174943</td>\n      <td>0.000000</td>\n      <td>0.000000</td>\n      <td>0.000000</td>\n      <td>0.000000</td>\n      <td>2.000000</td>\n    </tr>\n    <tr>\n      <th>feature__two bedrooms</th>\n      <td>46871.0</td>\n      <td>0.071473</td>\n      <td>0.257616</td>\n      <td>0.000000</td>\n      <td>0.000000</td>\n      <td>0.000000</td>\n      <td>0.000000</td>\n      <td>1.000000</td>\n    </tr>\n    <tr>\n      <th>feature__two double bedrooms</th>\n      <td>46871.0</td>\n      <td>0.095411</td>\n      <td>0.293930</td>\n      <td>0.000000</td>\n      <td>0.000000</td>\n      <td>0.000000</td>\n      <td>0.000000</td>\n      <td>2.000000</td>\n    </tr>\n    <tr>\n      <th>feature__two reception rooms</th>\n      <td>46871.0</td>\n      <td>0.016449</td>\n      <td>0.127197</td>\n      <td>0.000000</td>\n      <td>0.000000</td>\n      <td>0.000000</td>\n      <td>0.000000</td>\n      <td>1.000000</td>\n    </tr>\n  </tbody>\n</table>\n</div>"
     },
     "execution_count": 11,
     "metadata": {},
     "output_type": "execute_result"
    }
   ],
   "source": [
    "df.info()\n",
    "df.describe()\n",
    "df.describe().T"
   ]
  },
  {
   "cell_type": "code",
   "execution_count": 12,
   "metadata": {
    "execution": {
     "iopub.execute_input": "2022-11-16T13:53:45.644307Z",
     "iopub.status.busy": "2022-11-16T13:53:45.644062Z",
     "iopub.status.idle": "2022-11-16T13:53:45.702850Z",
     "shell.execute_reply": "2022-11-16T13:53:45.702221Z",
     "shell.execute_reply.started": "2022-11-16T13:53:45.644286Z"
    }
   },
   "outputs": [
    {
     "name": "stdout",
     "output_type": "stream",
     "text": [
      "dataframe contract due to cleaning: 46871 ==> 46871\n"
     ]
    },
    {
     "data": {
      "text/plain": "                                      count           mean            std  \\\nPrice                               46871.0  425069.390775  107227.324906   \nbedrooms                            46871.0       1.992469       0.828837   \nbathrooms                           46871.0       1.182074       0.409879   \nnearestStation                      46871.0       0.438847       0.325942   \nlocation.latitude                   46871.0      51.497049       0.077085   \nlocation.longitude                  46871.0      -0.113269       0.156489   \nlatitude_deviation                  46871.0       0.064317       0.042573   \nlongitude_deviation                 46871.0       0.124202       0.095607   \nfeature__1 bedroom                  46871.0       0.010838       0.103542   \nfeature__2 bedrooms                 46871.0       0.015169       0.122402   \nfeature__2 double bedrooms          46871.0       0.013569       0.115695   \nfeature__allocated parking          46871.0       0.026946       0.161928   \nfeature__allocated parking space    46871.0       0.012993       0.113246   \nfeature__balcony                    46871.0       0.038617       0.193124   \nfeature__bathroom                   46871.0       0.026370       0.160502   \nfeature__chain free                 46871.0       0.120266       0.325800   \nfeature__close to local amenities   46871.0       0.011948       0.108848   \nfeature__communal garden            46871.0       0.018071       0.133209   \nfeature__communal gardens           46871.0       0.030381       0.171760   \nfeature__double bedroom             46871.0       0.012566       0.111395   \nfeature__double glazed              46871.0       0.012822       0.112509   \nfeature__double glazing             46871.0       0.025496       0.157761   \nfeature__epc rating c               46871.0       0.012140       0.109511   \nfeature__epc rating d               46871.0       0.013334       0.114704   \nfeature__excellent location         46871.0       0.013612       0.115874   \nfeature__excellent transport links  46871.0       0.016385       0.127122   \nfeature__family bathroom            46871.0       0.014593       0.120097   \nfeature__first floor                46871.0       0.026520       0.160676   \nfeature__fitted kitchen             46871.0       0.027224       0.162867   \nfeature__garage                     46871.0       0.030424       0.172001   \nfeature__garden                     46871.0       0.021015       0.144178   \nfeature__gas central heating        46871.0       0.028120       0.165961   \nfeature__great location             46871.0       0.015660       0.124158   \nfeature__ground floor               46871.0       0.028760       0.167132   \nfeature__kitchen                    46871.0       0.022850       0.149427   \nfeature__leasehold                  46871.0       0.014316       0.118970   \nfeature__long lease                 46871.0       0.039619       0.195175   \nfeature__modern bathroom            46871.0       0.015361       0.122986   \nfeature__modern kitchen             46871.0       0.014465       0.119400   \nfeature__no chain                   46871.0       0.026669       0.161380   \nfeature__no onward chain            46871.0       0.057925       0.233604   \nfeature__off street parking         46871.0       0.047300       0.212684   \nfeature__one bedroom                46871.0       0.041369       0.199144   \nfeature__one double bedroom         46871.0       0.027885       0.164645   \nfeature__parking                    46871.0       0.013398       0.115160   \nfeature__private balcony            46871.0       0.039662       0.195275   \nfeature__private garden             46871.0       0.034200       0.181980   \nfeature__private rear garden        46871.0       0.017367       0.131124   \nfeature__reception room             46871.0       0.014487       0.119843   \nfeature__separate kitchen           46871.0       0.020268       0.140918   \nfeature__share of freehold          46871.0       0.047663       0.213354   \nfeature__three bedrooms             46871.0       0.059120       0.235851   \nfeature__three double bedrooms      46871.0       0.012545       0.111301   \nfeature__top floor                  46871.0       0.013206       0.114159   \nfeature__two bathrooms              46871.0       0.031512       0.174943   \nfeature__two bedrooms               46871.0       0.071473       0.257616   \nfeature__two double bedrooms        46871.0       0.095411       0.293930   \nfeature__two reception rooms        46871.0       0.016449       0.127197   \n\n                                              min            25%  \\\nPrice                               100000.000000  349950.000000   \nbedrooms                                 1.000000       1.000000   \nbathrooms                                1.000000       1.000000   \nnearestStation                           0.000000       0.227169   \nlocation.latitude                       51.298317      51.438861   \nlocation.longitude                      -0.498315      -0.210796   \nlatitude_deviation                       0.000000       0.028876   \nlongitude_deviation                      0.000000       0.043560   \nfeature__1 bedroom                       0.000000       0.000000   \nfeature__2 bedrooms                      0.000000       0.000000   \nfeature__2 double bedrooms               0.000000       0.000000   \nfeature__allocated parking               0.000000       0.000000   \nfeature__allocated parking space         0.000000       0.000000   \nfeature__balcony                         0.000000       0.000000   \nfeature__bathroom                        0.000000       0.000000   \nfeature__chain free                      0.000000       0.000000   \nfeature__close to local amenities        0.000000       0.000000   \nfeature__communal garden                 0.000000       0.000000   \nfeature__communal gardens                0.000000       0.000000   \nfeature__double bedroom                  0.000000       0.000000   \nfeature__double glazed                   0.000000       0.000000   \nfeature__double glazing                  0.000000       0.000000   \nfeature__epc rating c                    0.000000       0.000000   \nfeature__epc rating d                    0.000000       0.000000   \nfeature__excellent location              0.000000       0.000000   \nfeature__excellent transport links       0.000000       0.000000   \nfeature__family bathroom                 0.000000       0.000000   \nfeature__first floor                     0.000000       0.000000   \nfeature__fitted kitchen                  0.000000       0.000000   \nfeature__garage                          0.000000       0.000000   \nfeature__garden                          0.000000       0.000000   \nfeature__gas central heating             0.000000       0.000000   \nfeature__great location                  0.000000       0.000000   \nfeature__ground floor                    0.000000       0.000000   \nfeature__kitchen                         0.000000       0.000000   \nfeature__leasehold                       0.000000       0.000000   \nfeature__long lease                      0.000000       0.000000   \nfeature__modern bathroom                 0.000000       0.000000   \nfeature__modern kitchen                  0.000000       0.000000   \nfeature__no chain                        0.000000       0.000000   \nfeature__no onward chain                 0.000000       0.000000   \nfeature__off street parking              0.000000       0.000000   \nfeature__one bedroom                     0.000000       0.000000   \nfeature__one double bedroom              0.000000       0.000000   \nfeature__parking                         0.000000       0.000000   \nfeature__private balcony                 0.000000       0.000000   \nfeature__private garden                  0.000000       0.000000   \nfeature__private rear garden             0.000000       0.000000   \nfeature__reception room                  0.000000       0.000000   \nfeature__separate kitchen                0.000000       0.000000   \nfeature__share of freehold               0.000000       0.000000   \nfeature__three bedrooms                  0.000000       0.000000   \nfeature__three double bedrooms           0.000000       0.000000   \nfeature__top floor                       0.000000       0.000000   \nfeature__two bathrooms                   0.000000       0.000000   \nfeature__two bedrooms                    0.000000       0.000000   \nfeature__two double bedrooms             0.000000       0.000000   \nfeature__two reception rooms             0.000000       0.000000   \n\n                                              50%            75%  \\\nPrice                               425000.000000  515000.000000   \nbedrooms                                 2.000000       3.000000   \nbathrooms                                1.000000       1.000000   \nnearestStation                           0.367971       0.559620   \nlocation.latitude                       51.499977      51.556183   \nlocation.longitude                      -0.102230      -0.010343   \nlatitude_deviation                       0.058595       0.094362   \nlongitude_deviation                      0.098984       0.192684   \nfeature__1 bedroom                       0.000000       0.000000   \nfeature__2 bedrooms                      0.000000       0.000000   \nfeature__2 double bedrooms               0.000000       0.000000   \nfeature__allocated parking               0.000000       0.000000   \nfeature__allocated parking space         0.000000       0.000000   \nfeature__balcony                         0.000000       0.000000   \nfeature__bathroom                        0.000000       0.000000   \nfeature__chain free                      0.000000       0.000000   \nfeature__close to local amenities        0.000000       0.000000   \nfeature__communal garden                 0.000000       0.000000   \nfeature__communal gardens                0.000000       0.000000   \nfeature__double bedroom                  0.000000       0.000000   \nfeature__double glazed                   0.000000       0.000000   \nfeature__double glazing                  0.000000       0.000000   \nfeature__epc rating c                    0.000000       0.000000   \nfeature__epc rating d                    0.000000       0.000000   \nfeature__excellent location              0.000000       0.000000   \nfeature__excellent transport links       0.000000       0.000000   \nfeature__family bathroom                 0.000000       0.000000   \nfeature__first floor                     0.000000       0.000000   \nfeature__fitted kitchen                  0.000000       0.000000   \nfeature__garage                          0.000000       0.000000   \nfeature__garden                          0.000000       0.000000   \nfeature__gas central heating             0.000000       0.000000   \nfeature__great location                  0.000000       0.000000   \nfeature__ground floor                    0.000000       0.000000   \nfeature__kitchen                         0.000000       0.000000   \nfeature__leasehold                       0.000000       0.000000   \nfeature__long lease                      0.000000       0.000000   \nfeature__modern bathroom                 0.000000       0.000000   \nfeature__modern kitchen                  0.000000       0.000000   \nfeature__no chain                        0.000000       0.000000   \nfeature__no onward chain                 0.000000       0.000000   \nfeature__off street parking              0.000000       0.000000   \nfeature__one bedroom                     0.000000       0.000000   \nfeature__one double bedroom              0.000000       0.000000   \nfeature__parking                         0.000000       0.000000   \nfeature__private balcony                 0.000000       0.000000   \nfeature__private garden                  0.000000       0.000000   \nfeature__private rear garden             0.000000       0.000000   \nfeature__reception room                  0.000000       0.000000   \nfeature__separate kitchen                0.000000       0.000000   \nfeature__share of freehold               0.000000       0.000000   \nfeature__three bedrooms                  0.000000       0.000000   \nfeature__three double bedrooms           0.000000       0.000000   \nfeature__top floor                       0.000000       0.000000   \nfeature__two bathrooms                   0.000000       0.000000   \nfeature__two bedrooms                    0.000000       0.000000   \nfeature__two double bedrooms             0.000000       0.000000   \nfeature__two reception rooms             0.000000       0.000000   \n\n                                              max  \nPrice                               600000.000000  \nbedrooms                                 7.000000  \nbathrooms                                5.000000  \nnearestStation                           7.197700  \nlocation.latitude                       51.683185  \nlocation.longitude                       0.279726  \nlatitude_deviation                       0.201403  \nlongitude_deviation                      0.393895  \nfeature__1 bedroom                       1.000000  \nfeature__2 bedrooms                      2.000000  \nfeature__2 double bedrooms               1.000000  \nfeature__allocated parking               1.000000  \nfeature__allocated parking space         1.000000  \nfeature__balcony                         2.000000  \nfeature__bathroom                        2.000000  \nfeature__chain free                      2.000000  \nfeature__close to local amenities        2.000000  \nfeature__communal garden                 1.000000  \nfeature__communal gardens                2.000000  \nfeature__double bedroom                  1.000000  \nfeature__double glazed                   1.000000  \nfeature__double glazing                  2.000000  \nfeature__epc rating c                    1.000000  \nfeature__epc rating d                    1.000000  \nfeature__excellent location              1.000000  \nfeature__excellent transport links       2.000000  \nfeature__family bathroom                 2.000000  \nfeature__first floor                     1.000000  \nfeature__fitted kitchen                  2.000000  \nfeature__garage                          2.000000  \nfeature__garden                          2.000000  \nfeature__gas central heating             2.000000  \nfeature__great location                  1.000000  \nfeature__ground floor                    1.000000  \nfeature__kitchen                         1.000000  \nfeature__leasehold                       2.000000  \nfeature__long lease                      2.000000  \nfeature__modern bathroom                 1.000000  \nfeature__modern kitchen                  1.000000  \nfeature__no chain                        2.000000  \nfeature__no onward chain                 1.000000  \nfeature__off street parking              2.000000  \nfeature__one bedroom                     1.000000  \nfeature__one double bedroom              1.000000  \nfeature__parking                         2.000000  \nfeature__private balcony                 2.000000  \nfeature__private garden                  2.000000  \nfeature__private rear garden             2.000000  \nfeature__reception room                  2.000000  \nfeature__separate kitchen                1.000000  \nfeature__share of freehold               2.000000  \nfeature__three bedrooms                  1.000000  \nfeature__three double bedrooms           1.000000  \nfeature__top floor                       1.000000  \nfeature__two bathrooms                   2.000000  \nfeature__two bedrooms                    1.000000  \nfeature__two double bedrooms             2.000000  \nfeature__two reception rooms             1.000000  ",
      "text/html": "<div>\n<style scoped>\n    .dataframe tbody tr th:only-of-type {\n        vertical-align: middle;\n    }\n\n    .dataframe tbody tr th {\n        vertical-align: top;\n    }\n\n    .dataframe thead th {\n        text-align: right;\n    }\n</style>\n<table border=\"1\" class=\"dataframe\">\n  <thead>\n    <tr style=\"text-align: right;\">\n      <th></th>\n      <th>count</th>\n      <th>mean</th>\n      <th>std</th>\n      <th>min</th>\n      <th>25%</th>\n      <th>50%</th>\n      <th>75%</th>\n      <th>max</th>\n    </tr>\n  </thead>\n  <tbody>\n    <tr>\n      <th>Price</th>\n      <td>46871.0</td>\n      <td>425069.390775</td>\n      <td>107227.324906</td>\n      <td>100000.000000</td>\n      <td>349950.000000</td>\n      <td>425000.000000</td>\n      <td>515000.000000</td>\n      <td>600000.000000</td>\n    </tr>\n    <tr>\n      <th>bedrooms</th>\n      <td>46871.0</td>\n      <td>1.992469</td>\n      <td>0.828837</td>\n      <td>1.000000</td>\n      <td>1.000000</td>\n      <td>2.000000</td>\n      <td>3.000000</td>\n      <td>7.000000</td>\n    </tr>\n    <tr>\n      <th>bathrooms</th>\n      <td>46871.0</td>\n      <td>1.182074</td>\n      <td>0.409879</td>\n      <td>1.000000</td>\n      <td>1.000000</td>\n      <td>1.000000</td>\n      <td>1.000000</td>\n      <td>5.000000</td>\n    </tr>\n    <tr>\n      <th>nearestStation</th>\n      <td>46871.0</td>\n      <td>0.438847</td>\n      <td>0.325942</td>\n      <td>0.000000</td>\n      <td>0.227169</td>\n      <td>0.367971</td>\n      <td>0.559620</td>\n      <td>7.197700</td>\n    </tr>\n    <tr>\n      <th>location.latitude</th>\n      <td>46871.0</td>\n      <td>51.497049</td>\n      <td>0.077085</td>\n      <td>51.298317</td>\n      <td>51.438861</td>\n      <td>51.499977</td>\n      <td>51.556183</td>\n      <td>51.683185</td>\n    </tr>\n    <tr>\n      <th>location.longitude</th>\n      <td>46871.0</td>\n      <td>-0.113269</td>\n      <td>0.156489</td>\n      <td>-0.498315</td>\n      <td>-0.210796</td>\n      <td>-0.102230</td>\n      <td>-0.010343</td>\n      <td>0.279726</td>\n    </tr>\n    <tr>\n      <th>latitude_deviation</th>\n      <td>46871.0</td>\n      <td>0.064317</td>\n      <td>0.042573</td>\n      <td>0.000000</td>\n      <td>0.028876</td>\n      <td>0.058595</td>\n      <td>0.094362</td>\n      <td>0.201403</td>\n    </tr>\n    <tr>\n      <th>longitude_deviation</th>\n      <td>46871.0</td>\n      <td>0.124202</td>\n      <td>0.095607</td>\n      <td>0.000000</td>\n      <td>0.043560</td>\n      <td>0.098984</td>\n      <td>0.192684</td>\n      <td>0.393895</td>\n    </tr>\n    <tr>\n      <th>feature__1 bedroom</th>\n      <td>46871.0</td>\n      <td>0.010838</td>\n      <td>0.103542</td>\n      <td>0.000000</td>\n      <td>0.000000</td>\n      <td>0.000000</td>\n      <td>0.000000</td>\n      <td>1.000000</td>\n    </tr>\n    <tr>\n      <th>feature__2 bedrooms</th>\n      <td>46871.0</td>\n      <td>0.015169</td>\n      <td>0.122402</td>\n      <td>0.000000</td>\n      <td>0.000000</td>\n      <td>0.000000</td>\n      <td>0.000000</td>\n      <td>2.000000</td>\n    </tr>\n    <tr>\n      <th>feature__2 double bedrooms</th>\n      <td>46871.0</td>\n      <td>0.013569</td>\n      <td>0.115695</td>\n      <td>0.000000</td>\n      <td>0.000000</td>\n      <td>0.000000</td>\n      <td>0.000000</td>\n      <td>1.000000</td>\n    </tr>\n    <tr>\n      <th>feature__allocated parking</th>\n      <td>46871.0</td>\n      <td>0.026946</td>\n      <td>0.161928</td>\n      <td>0.000000</td>\n      <td>0.000000</td>\n      <td>0.000000</td>\n      <td>0.000000</td>\n      <td>1.000000</td>\n    </tr>\n    <tr>\n      <th>feature__allocated parking space</th>\n      <td>46871.0</td>\n      <td>0.012993</td>\n      <td>0.113246</td>\n      <td>0.000000</td>\n      <td>0.000000</td>\n      <td>0.000000</td>\n      <td>0.000000</td>\n      <td>1.000000</td>\n    </tr>\n    <tr>\n      <th>feature__balcony</th>\n      <td>46871.0</td>\n      <td>0.038617</td>\n      <td>0.193124</td>\n      <td>0.000000</td>\n      <td>0.000000</td>\n      <td>0.000000</td>\n      <td>0.000000</td>\n      <td>2.000000</td>\n    </tr>\n    <tr>\n      <th>feature__bathroom</th>\n      <td>46871.0</td>\n      <td>0.026370</td>\n      <td>0.160502</td>\n      <td>0.000000</td>\n      <td>0.000000</td>\n      <td>0.000000</td>\n      <td>0.000000</td>\n      <td>2.000000</td>\n    </tr>\n    <tr>\n      <th>feature__chain free</th>\n      <td>46871.0</td>\n      <td>0.120266</td>\n      <td>0.325800</td>\n      <td>0.000000</td>\n      <td>0.000000</td>\n      <td>0.000000</td>\n      <td>0.000000</td>\n      <td>2.000000</td>\n    </tr>\n    <tr>\n      <th>feature__close to local amenities</th>\n      <td>46871.0</td>\n      <td>0.011948</td>\n      <td>0.108848</td>\n      <td>0.000000</td>\n      <td>0.000000</td>\n      <td>0.000000</td>\n      <td>0.000000</td>\n      <td>2.000000</td>\n    </tr>\n    <tr>\n      <th>feature__communal garden</th>\n      <td>46871.0</td>\n      <td>0.018071</td>\n      <td>0.133209</td>\n      <td>0.000000</td>\n      <td>0.000000</td>\n      <td>0.000000</td>\n      <td>0.000000</td>\n      <td>1.000000</td>\n    </tr>\n    <tr>\n      <th>feature__communal gardens</th>\n      <td>46871.0</td>\n      <td>0.030381</td>\n      <td>0.171760</td>\n      <td>0.000000</td>\n      <td>0.000000</td>\n      <td>0.000000</td>\n      <td>0.000000</td>\n      <td>2.000000</td>\n    </tr>\n    <tr>\n      <th>feature__double bedroom</th>\n      <td>46871.0</td>\n      <td>0.012566</td>\n      <td>0.111395</td>\n      <td>0.000000</td>\n      <td>0.000000</td>\n      <td>0.000000</td>\n      <td>0.000000</td>\n      <td>1.000000</td>\n    </tr>\n    <tr>\n      <th>feature__double glazed</th>\n      <td>46871.0</td>\n      <td>0.012822</td>\n      <td>0.112509</td>\n      <td>0.000000</td>\n      <td>0.000000</td>\n      <td>0.000000</td>\n      <td>0.000000</td>\n      <td>1.000000</td>\n    </tr>\n    <tr>\n      <th>feature__double glazing</th>\n      <td>46871.0</td>\n      <td>0.025496</td>\n      <td>0.157761</td>\n      <td>0.000000</td>\n      <td>0.000000</td>\n      <td>0.000000</td>\n      <td>0.000000</td>\n      <td>2.000000</td>\n    </tr>\n    <tr>\n      <th>feature__epc rating c</th>\n      <td>46871.0</td>\n      <td>0.012140</td>\n      <td>0.109511</td>\n      <td>0.000000</td>\n      <td>0.000000</td>\n      <td>0.000000</td>\n      <td>0.000000</td>\n      <td>1.000000</td>\n    </tr>\n    <tr>\n      <th>feature__epc rating d</th>\n      <td>46871.0</td>\n      <td>0.013334</td>\n      <td>0.114704</td>\n      <td>0.000000</td>\n      <td>0.000000</td>\n      <td>0.000000</td>\n      <td>0.000000</td>\n      <td>1.000000</td>\n    </tr>\n    <tr>\n      <th>feature__excellent location</th>\n      <td>46871.0</td>\n      <td>0.013612</td>\n      <td>0.115874</td>\n      <td>0.000000</td>\n      <td>0.000000</td>\n      <td>0.000000</td>\n      <td>0.000000</td>\n      <td>1.000000</td>\n    </tr>\n    <tr>\n      <th>feature__excellent transport links</th>\n      <td>46871.0</td>\n      <td>0.016385</td>\n      <td>0.127122</td>\n      <td>0.000000</td>\n      <td>0.000000</td>\n      <td>0.000000</td>\n      <td>0.000000</td>\n      <td>2.000000</td>\n    </tr>\n    <tr>\n      <th>feature__family bathroom</th>\n      <td>46871.0</td>\n      <td>0.014593</td>\n      <td>0.120097</td>\n      <td>0.000000</td>\n      <td>0.000000</td>\n      <td>0.000000</td>\n      <td>0.000000</td>\n      <td>2.000000</td>\n    </tr>\n    <tr>\n      <th>feature__first floor</th>\n      <td>46871.0</td>\n      <td>0.026520</td>\n      <td>0.160676</td>\n      <td>0.000000</td>\n      <td>0.000000</td>\n      <td>0.000000</td>\n      <td>0.000000</td>\n      <td>1.000000</td>\n    </tr>\n    <tr>\n      <th>feature__fitted kitchen</th>\n      <td>46871.0</td>\n      <td>0.027224</td>\n      <td>0.162867</td>\n      <td>0.000000</td>\n      <td>0.000000</td>\n      <td>0.000000</td>\n      <td>0.000000</td>\n      <td>2.000000</td>\n    </tr>\n    <tr>\n      <th>feature__garage</th>\n      <td>46871.0</td>\n      <td>0.030424</td>\n      <td>0.172001</td>\n      <td>0.000000</td>\n      <td>0.000000</td>\n      <td>0.000000</td>\n      <td>0.000000</td>\n      <td>2.000000</td>\n    </tr>\n    <tr>\n      <th>feature__garden</th>\n      <td>46871.0</td>\n      <td>0.021015</td>\n      <td>0.144178</td>\n      <td>0.000000</td>\n      <td>0.000000</td>\n      <td>0.000000</td>\n      <td>0.000000</td>\n      <td>2.000000</td>\n    </tr>\n    <tr>\n      <th>feature__gas central heating</th>\n      <td>46871.0</td>\n      <td>0.028120</td>\n      <td>0.165961</td>\n      <td>0.000000</td>\n      <td>0.000000</td>\n      <td>0.000000</td>\n      <td>0.000000</td>\n      <td>2.000000</td>\n    </tr>\n    <tr>\n      <th>feature__great location</th>\n      <td>46871.0</td>\n      <td>0.015660</td>\n      <td>0.124158</td>\n      <td>0.000000</td>\n      <td>0.000000</td>\n      <td>0.000000</td>\n      <td>0.000000</td>\n      <td>1.000000</td>\n    </tr>\n    <tr>\n      <th>feature__ground floor</th>\n      <td>46871.0</td>\n      <td>0.028760</td>\n      <td>0.167132</td>\n      <td>0.000000</td>\n      <td>0.000000</td>\n      <td>0.000000</td>\n      <td>0.000000</td>\n      <td>1.000000</td>\n    </tr>\n    <tr>\n      <th>feature__kitchen</th>\n      <td>46871.0</td>\n      <td>0.022850</td>\n      <td>0.149427</td>\n      <td>0.000000</td>\n      <td>0.000000</td>\n      <td>0.000000</td>\n      <td>0.000000</td>\n      <td>1.000000</td>\n    </tr>\n    <tr>\n      <th>feature__leasehold</th>\n      <td>46871.0</td>\n      <td>0.014316</td>\n      <td>0.118970</td>\n      <td>0.000000</td>\n      <td>0.000000</td>\n      <td>0.000000</td>\n      <td>0.000000</td>\n      <td>2.000000</td>\n    </tr>\n    <tr>\n      <th>feature__long lease</th>\n      <td>46871.0</td>\n      <td>0.039619</td>\n      <td>0.195175</td>\n      <td>0.000000</td>\n      <td>0.000000</td>\n      <td>0.000000</td>\n      <td>0.000000</td>\n      <td>2.000000</td>\n    </tr>\n    <tr>\n      <th>feature__modern bathroom</th>\n      <td>46871.0</td>\n      <td>0.015361</td>\n      <td>0.122986</td>\n      <td>0.000000</td>\n      <td>0.000000</td>\n      <td>0.000000</td>\n      <td>0.000000</td>\n      <td>1.000000</td>\n    </tr>\n    <tr>\n      <th>feature__modern kitchen</th>\n      <td>46871.0</td>\n      <td>0.014465</td>\n      <td>0.119400</td>\n      <td>0.000000</td>\n      <td>0.000000</td>\n      <td>0.000000</td>\n      <td>0.000000</td>\n      <td>1.000000</td>\n    </tr>\n    <tr>\n      <th>feature__no chain</th>\n      <td>46871.0</td>\n      <td>0.026669</td>\n      <td>0.161380</td>\n      <td>0.000000</td>\n      <td>0.000000</td>\n      <td>0.000000</td>\n      <td>0.000000</td>\n      <td>2.000000</td>\n    </tr>\n    <tr>\n      <th>feature__no onward chain</th>\n      <td>46871.0</td>\n      <td>0.057925</td>\n      <td>0.233604</td>\n      <td>0.000000</td>\n      <td>0.000000</td>\n      <td>0.000000</td>\n      <td>0.000000</td>\n      <td>1.000000</td>\n    </tr>\n    <tr>\n      <th>feature__off street parking</th>\n      <td>46871.0</td>\n      <td>0.047300</td>\n      <td>0.212684</td>\n      <td>0.000000</td>\n      <td>0.000000</td>\n      <td>0.000000</td>\n      <td>0.000000</td>\n      <td>2.000000</td>\n    </tr>\n    <tr>\n      <th>feature__one bedroom</th>\n      <td>46871.0</td>\n      <td>0.041369</td>\n      <td>0.199144</td>\n      <td>0.000000</td>\n      <td>0.000000</td>\n      <td>0.000000</td>\n      <td>0.000000</td>\n      <td>1.000000</td>\n    </tr>\n    <tr>\n      <th>feature__one double bedroom</th>\n      <td>46871.0</td>\n      <td>0.027885</td>\n      <td>0.164645</td>\n      <td>0.000000</td>\n      <td>0.000000</td>\n      <td>0.000000</td>\n      <td>0.000000</td>\n      <td>1.000000</td>\n    </tr>\n    <tr>\n      <th>feature__parking</th>\n      <td>46871.0</td>\n      <td>0.013398</td>\n      <td>0.115160</td>\n      <td>0.000000</td>\n      <td>0.000000</td>\n      <td>0.000000</td>\n      <td>0.000000</td>\n      <td>2.000000</td>\n    </tr>\n    <tr>\n      <th>feature__private balcony</th>\n      <td>46871.0</td>\n      <td>0.039662</td>\n      <td>0.195275</td>\n      <td>0.000000</td>\n      <td>0.000000</td>\n      <td>0.000000</td>\n      <td>0.000000</td>\n      <td>2.000000</td>\n    </tr>\n    <tr>\n      <th>feature__private garden</th>\n      <td>46871.0</td>\n      <td>0.034200</td>\n      <td>0.181980</td>\n      <td>0.000000</td>\n      <td>0.000000</td>\n      <td>0.000000</td>\n      <td>0.000000</td>\n      <td>2.000000</td>\n    </tr>\n    <tr>\n      <th>feature__private rear garden</th>\n      <td>46871.0</td>\n      <td>0.017367</td>\n      <td>0.131124</td>\n      <td>0.000000</td>\n      <td>0.000000</td>\n      <td>0.000000</td>\n      <td>0.000000</td>\n      <td>2.000000</td>\n    </tr>\n    <tr>\n      <th>feature__reception room</th>\n      <td>46871.0</td>\n      <td>0.014487</td>\n      <td>0.119843</td>\n      <td>0.000000</td>\n      <td>0.000000</td>\n      <td>0.000000</td>\n      <td>0.000000</td>\n      <td>2.000000</td>\n    </tr>\n    <tr>\n      <th>feature__separate kitchen</th>\n      <td>46871.0</td>\n      <td>0.020268</td>\n      <td>0.140918</td>\n      <td>0.000000</td>\n      <td>0.000000</td>\n      <td>0.000000</td>\n      <td>0.000000</td>\n      <td>1.000000</td>\n    </tr>\n    <tr>\n      <th>feature__share of freehold</th>\n      <td>46871.0</td>\n      <td>0.047663</td>\n      <td>0.213354</td>\n      <td>0.000000</td>\n      <td>0.000000</td>\n      <td>0.000000</td>\n      <td>0.000000</td>\n      <td>2.000000</td>\n    </tr>\n    <tr>\n      <th>feature__three bedrooms</th>\n      <td>46871.0</td>\n      <td>0.059120</td>\n      <td>0.235851</td>\n      <td>0.000000</td>\n      <td>0.000000</td>\n      <td>0.000000</td>\n      <td>0.000000</td>\n      <td>1.000000</td>\n    </tr>\n    <tr>\n      <th>feature__three double bedrooms</th>\n      <td>46871.0</td>\n      <td>0.012545</td>\n      <td>0.111301</td>\n      <td>0.000000</td>\n      <td>0.000000</td>\n      <td>0.000000</td>\n      <td>0.000000</td>\n      <td>1.000000</td>\n    </tr>\n    <tr>\n      <th>feature__top floor</th>\n      <td>46871.0</td>\n      <td>0.013206</td>\n      <td>0.114159</td>\n      <td>0.000000</td>\n      <td>0.000000</td>\n      <td>0.000000</td>\n      <td>0.000000</td>\n      <td>1.000000</td>\n    </tr>\n    <tr>\n      <th>feature__two bathrooms</th>\n      <td>46871.0</td>\n      <td>0.031512</td>\n      <td>0.174943</td>\n      <td>0.000000</td>\n      <td>0.000000</td>\n      <td>0.000000</td>\n      <td>0.000000</td>\n      <td>2.000000</td>\n    </tr>\n    <tr>\n      <th>feature__two bedrooms</th>\n      <td>46871.0</td>\n      <td>0.071473</td>\n      <td>0.257616</td>\n      <td>0.000000</td>\n      <td>0.000000</td>\n      <td>0.000000</td>\n      <td>0.000000</td>\n      <td>1.000000</td>\n    </tr>\n    <tr>\n      <th>feature__two double bedrooms</th>\n      <td>46871.0</td>\n      <td>0.095411</td>\n      <td>0.293930</td>\n      <td>0.000000</td>\n      <td>0.000000</td>\n      <td>0.000000</td>\n      <td>0.000000</td>\n      <td>2.000000</td>\n    </tr>\n    <tr>\n      <th>feature__two reception rooms</th>\n      <td>46871.0</td>\n      <td>0.016449</td>\n      <td>0.127197</td>\n      <td>0.000000</td>\n      <td>0.000000</td>\n      <td>0.000000</td>\n      <td>0.000000</td>\n      <td>1.000000</td>\n    </tr>\n  </tbody>\n</table>\n</div>"
     },
     "execution_count": 12,
     "metadata": {},
     "output_type": "execute_result"
    }
   ],
   "source": [
    "old_length = len(df)\n",
    "\n",
    "df = preprocess(df, version=VERSION)\n",
    "\n",
    "print(f\"dataframe contract due to cleaning: {old_length} ==> {len(df)}\")\n",
    "old_length = len(df)\n",
    "\n",
    "df.describe().T"
   ]
  },
  {
   "cell_type": "code",
   "execution_count": 13,
   "metadata": {
    "execution": {
     "iopub.execute_input": "2022-11-16T13:53:45.704893Z",
     "iopub.status.busy": "2022-11-16T13:53:45.703920Z",
     "iopub.status.idle": "2022-11-16T13:53:45.718086Z",
     "shell.execute_reply": "2022-11-16T13:53:45.716989Z",
     "shell.execute_reply.started": "2022-11-16T13:53:45.704867Z"
    }
   },
   "outputs": [
    {
     "data": {
      "text/plain": "Price                             0\nbedrooms                          0\nbathrooms                         0\nnearestStation                    0\nlocation.latitude                 0\n                                 ..\nfeature__2__off-road parking      0\nfeature__2__security              0\nfeature__2__patio                 0\nfeature__2__underfloor heating    0\nfeature__2__marble                0\nLength: 81, dtype: int64"
     },
     "execution_count": 13,
     "metadata": {},
     "output_type": "execute_result"
    }
   ],
   "source": [
    "df.isna().sum()"
   ]
  },
  {
   "cell_type": "code",
   "execution_count": 14,
   "metadata": {
    "execution": {
     "iopub.execute_input": "2022-11-16T13:53:45.719480Z",
     "iopub.status.busy": "2022-11-16T13:53:45.719240Z",
     "iopub.status.idle": "2022-11-16T13:53:45.765084Z",
     "shell.execute_reply": "2022-11-16T13:53:45.764280Z",
     "shell.execute_reply.started": "2022-11-16T13:53:45.719461Z"
    }
   },
   "outputs": [
    {
     "name": "stdout",
     "output_type": "stream",
     "text": [
      "46871 ==> 44127\n"
     ]
    },
    {
     "data": {
      "text/plain": "               Price      bedrooms    bathrooms  nearestStation  \\\ncount   44127.000000  44127.000000  44127.00000    44127.000000   \nmean   425224.642373      1.990981      1.18134        0.438522   \nstd    107203.332660      0.827621      0.40893        0.324152   \nmin    100000.000000      1.000000      1.00000        0.000000   \n25%    349950.000000      1.000000      1.00000        0.227551   \n50%    425000.000000      2.000000      1.00000        0.368351   \n75%    515000.000000      3.000000      1.00000        0.559486   \nmax    600000.000000      7.000000      5.00000        7.197700   \n\n       location.latitude  location.longitude  latitude_deviation  \\\ncount       44127.000000        44127.000000        44127.000000   \nmean           51.496711           -0.113106            0.064544   \nstd             0.077267            0.155863            0.042583   \nmin            51.298317           -0.498315            0.000000   \n25%            51.438303           -0.210633            0.029023   \n50%            51.498780           -0.101910            0.058904   \n75%            51.556343           -0.010854            0.094620   \nmax            51.683185            0.279726            0.201403   \n\n       longitude_deviation  feature__1 bedroom  feature__2 bedrooms  ...  \\\ncount         44127.000000        44127.000000         44127.000000  ...   \nmean              0.123699            0.011127             0.015251  ...   \nstd               0.095220            0.104897             0.122737  ...   \nmin               0.000000            0.000000             0.000000  ...   \n25%               0.043551            0.000000             0.000000  ...   \n50%               0.098750            0.000000             0.000000  ...   \n75%               0.191727            0.000000             0.000000  ...   \nmax               0.393895            1.000000             2.000000  ...   \n\n       feature__reception room  feature__separate kitchen  \\\ncount             44127.000000               44127.000000   \nmean                  0.014254                   0.020509   \nstd                   0.118921                   0.141735   \nmin                   0.000000                   0.000000   \n25%                   0.000000                   0.000000   \n50%                   0.000000                   0.000000   \n75%                   0.000000                   0.000000   \nmax                   2.000000                   1.000000   \n\n       feature__share of freehold  feature__three bedrooms  \\\ncount                44127.000000             44127.000000   \nmean                     0.048428                 0.059374   \nstd                      0.214989                 0.236326   \nmin                      0.000000                 0.000000   \n25%                      0.000000                 0.000000   \n50%                      0.000000                 0.000000   \n75%                      0.000000                 0.000000   \nmax                      2.000000                 1.000000   \n\n       feature__three double bedrooms  feature__top floor  \\\ncount                    44127.000000        44127.000000   \nmean                         0.012804            0.013212   \nstd                          0.112429            0.114182   \nmin                          0.000000            0.000000   \n25%                          0.000000            0.000000   \n50%                          0.000000            0.000000   \n75%                          0.000000            0.000000   \nmax                          1.000000            1.000000   \n\n       feature__two bathrooms  feature__two bedrooms  \\\ncount            44127.000000           44127.000000   \nmean                 0.031976               0.072586   \nstd                  0.176195               0.259459   \nmin                  0.000000               0.000000   \n25%                  0.000000               0.000000   \n50%                  0.000000               0.000000   \n75%                  0.000000               0.000000   \nmax                  2.000000               1.000000   \n\n       feature__two double bedrooms  feature__two reception rooms  \ncount                  44127.000000                  44127.000000  \nmean                       0.096857                      0.016022  \nstd                        0.295919                      0.125561  \nmin                        0.000000                      0.000000  \n25%                        0.000000                      0.000000  \n50%                        0.000000                      0.000000  \n75%                        0.000000                      0.000000  \nmax                        2.000000                      1.000000  \n\n[8 rows x 58 columns]",
      "text/html": "<div>\n<style scoped>\n    .dataframe tbody tr th:only-of-type {\n        vertical-align: middle;\n    }\n\n    .dataframe tbody tr th {\n        vertical-align: top;\n    }\n\n    .dataframe thead th {\n        text-align: right;\n    }\n</style>\n<table border=\"1\" class=\"dataframe\">\n  <thead>\n    <tr style=\"text-align: right;\">\n      <th></th>\n      <th>Price</th>\n      <th>bedrooms</th>\n      <th>bathrooms</th>\n      <th>nearestStation</th>\n      <th>location.latitude</th>\n      <th>location.longitude</th>\n      <th>latitude_deviation</th>\n      <th>longitude_deviation</th>\n      <th>feature__1 bedroom</th>\n      <th>feature__2 bedrooms</th>\n      <th>...</th>\n      <th>feature__reception room</th>\n      <th>feature__separate kitchen</th>\n      <th>feature__share of freehold</th>\n      <th>feature__three bedrooms</th>\n      <th>feature__three double bedrooms</th>\n      <th>feature__top floor</th>\n      <th>feature__two bathrooms</th>\n      <th>feature__two bedrooms</th>\n      <th>feature__two double bedrooms</th>\n      <th>feature__two reception rooms</th>\n    </tr>\n  </thead>\n  <tbody>\n    <tr>\n      <th>count</th>\n      <td>44127.000000</td>\n      <td>44127.000000</td>\n      <td>44127.00000</td>\n      <td>44127.000000</td>\n      <td>44127.000000</td>\n      <td>44127.000000</td>\n      <td>44127.000000</td>\n      <td>44127.000000</td>\n      <td>44127.000000</td>\n      <td>44127.000000</td>\n      <td>...</td>\n      <td>44127.000000</td>\n      <td>44127.000000</td>\n      <td>44127.000000</td>\n      <td>44127.000000</td>\n      <td>44127.000000</td>\n      <td>44127.000000</td>\n      <td>44127.000000</td>\n      <td>44127.000000</td>\n      <td>44127.000000</td>\n      <td>44127.000000</td>\n    </tr>\n    <tr>\n      <th>mean</th>\n      <td>425224.642373</td>\n      <td>1.990981</td>\n      <td>1.18134</td>\n      <td>0.438522</td>\n      <td>51.496711</td>\n      <td>-0.113106</td>\n      <td>0.064544</td>\n      <td>0.123699</td>\n      <td>0.011127</td>\n      <td>0.015251</td>\n      <td>...</td>\n      <td>0.014254</td>\n      <td>0.020509</td>\n      <td>0.048428</td>\n      <td>0.059374</td>\n      <td>0.012804</td>\n      <td>0.013212</td>\n      <td>0.031976</td>\n      <td>0.072586</td>\n      <td>0.096857</td>\n      <td>0.016022</td>\n    </tr>\n    <tr>\n      <th>std</th>\n      <td>107203.332660</td>\n      <td>0.827621</td>\n      <td>0.40893</td>\n      <td>0.324152</td>\n      <td>0.077267</td>\n      <td>0.155863</td>\n      <td>0.042583</td>\n      <td>0.095220</td>\n      <td>0.104897</td>\n      <td>0.122737</td>\n      <td>...</td>\n      <td>0.118921</td>\n      <td>0.141735</td>\n      <td>0.214989</td>\n      <td>0.236326</td>\n      <td>0.112429</td>\n      <td>0.114182</td>\n      <td>0.176195</td>\n      <td>0.259459</td>\n      <td>0.295919</td>\n      <td>0.125561</td>\n    </tr>\n    <tr>\n      <th>min</th>\n      <td>100000.000000</td>\n      <td>1.000000</td>\n      <td>1.00000</td>\n      <td>0.000000</td>\n      <td>51.298317</td>\n      <td>-0.498315</td>\n      <td>0.000000</td>\n      <td>0.000000</td>\n      <td>0.000000</td>\n      <td>0.000000</td>\n      <td>...</td>\n      <td>0.000000</td>\n      <td>0.000000</td>\n      <td>0.000000</td>\n      <td>0.000000</td>\n      <td>0.000000</td>\n      <td>0.000000</td>\n      <td>0.000000</td>\n      <td>0.000000</td>\n      <td>0.000000</td>\n      <td>0.000000</td>\n    </tr>\n    <tr>\n      <th>25%</th>\n      <td>349950.000000</td>\n      <td>1.000000</td>\n      <td>1.00000</td>\n      <td>0.227551</td>\n      <td>51.438303</td>\n      <td>-0.210633</td>\n      <td>0.029023</td>\n      <td>0.043551</td>\n      <td>0.000000</td>\n      <td>0.000000</td>\n      <td>...</td>\n      <td>0.000000</td>\n      <td>0.000000</td>\n      <td>0.000000</td>\n      <td>0.000000</td>\n      <td>0.000000</td>\n      <td>0.000000</td>\n      <td>0.000000</td>\n      <td>0.000000</td>\n      <td>0.000000</td>\n      <td>0.000000</td>\n    </tr>\n    <tr>\n      <th>50%</th>\n      <td>425000.000000</td>\n      <td>2.000000</td>\n      <td>1.00000</td>\n      <td>0.368351</td>\n      <td>51.498780</td>\n      <td>-0.101910</td>\n      <td>0.058904</td>\n      <td>0.098750</td>\n      <td>0.000000</td>\n      <td>0.000000</td>\n      <td>...</td>\n      <td>0.000000</td>\n      <td>0.000000</td>\n      <td>0.000000</td>\n      <td>0.000000</td>\n      <td>0.000000</td>\n      <td>0.000000</td>\n      <td>0.000000</td>\n      <td>0.000000</td>\n      <td>0.000000</td>\n      <td>0.000000</td>\n    </tr>\n    <tr>\n      <th>75%</th>\n      <td>515000.000000</td>\n      <td>3.000000</td>\n      <td>1.00000</td>\n      <td>0.559486</td>\n      <td>51.556343</td>\n      <td>-0.010854</td>\n      <td>0.094620</td>\n      <td>0.191727</td>\n      <td>0.000000</td>\n      <td>0.000000</td>\n      <td>...</td>\n      <td>0.000000</td>\n      <td>0.000000</td>\n      <td>0.000000</td>\n      <td>0.000000</td>\n      <td>0.000000</td>\n      <td>0.000000</td>\n      <td>0.000000</td>\n      <td>0.000000</td>\n      <td>0.000000</td>\n      <td>0.000000</td>\n    </tr>\n    <tr>\n      <th>max</th>\n      <td>600000.000000</td>\n      <td>7.000000</td>\n      <td>5.00000</td>\n      <td>7.197700</td>\n      <td>51.683185</td>\n      <td>0.279726</td>\n      <td>0.201403</td>\n      <td>0.393895</td>\n      <td>1.000000</td>\n      <td>2.000000</td>\n      <td>...</td>\n      <td>2.000000</td>\n      <td>1.000000</td>\n      <td>2.000000</td>\n      <td>1.000000</td>\n      <td>1.000000</td>\n      <td>1.000000</td>\n      <td>2.000000</td>\n      <td>1.000000</td>\n      <td>2.000000</td>\n      <td>1.000000</td>\n    </tr>\n  </tbody>\n</table>\n<p>8 rows × 58 columns</p>\n</div>"
     },
     "execution_count": 14,
     "metadata": {},
     "output_type": "execute_result"
    }
   ],
   "source": [
    "df = df.dropna()\n",
    "print(f\"{old_length} ==> {len(df)}\")\n",
    "old_length = len(df)\n",
    "df.describe()"
   ]
  },
  {
   "cell_type": "code",
   "execution_count": 15,
   "metadata": {
    "execution": {
     "iopub.execute_input": "2022-11-16T13:53:45.766337Z",
     "iopub.status.busy": "2022-11-16T13:53:45.766118Z",
     "iopub.status.idle": "2022-11-16T13:53:45.807167Z",
     "shell.execute_reply": "2022-11-16T13:53:45.806099Z",
     "shell.execute_reply.started": "2022-11-16T13:53:45.766318Z"
    }
   },
   "outputs": [
    {
     "name": "stdout",
     "output_type": "stream",
     "text": [
      "[3.0 3.0 0.3166132574345781 51.45976 0.12939 0.0399600000000006 0.23381\n",
      " 'FREEHOLD' 0 0 0 0 0 0 0 0 0 0 0 0 0 0 0 0 0 0 0 0 0 0 0 0 0 0 0 0 0 0 0\n",
      " 0 0 0 0 0 0 0 0 0 0 0 0 1 0 0 0 0 0 0 False False False False False False\n",
      " False False False False False False False False False False False False\n",
      " False False False False]\n",
      "(39714, 80) (4413, 80) (39714, 1) (4413, 1) (39714, 1) (4413, 1) (39714, 1) (4413, 1)\n"
     ]
    }
   ],
   "source": [
    "X_train, X_test, y_train, y_test, X_train_index, X_test_index, y_train_index, y_test_index, df_features, df_labels = create_train_test_data(\n",
    "    df,\n",
    "    categories=categories,\n",
    "    RANDOM_STATE=RANDOM_STATE, return_index=True,\n",
    "    drop_nulls=True,\n",
    "    no_dummies=no_dummies\n",
    ")\n",
    "\n",
    "print(X_train[0])\n",
    "\n",
    "if 'forest' in ALGORITHM.lower() or ALGORITHM.lower()=='light gradient boosting':\n",
    "    y_train_orig = y_train\n",
    "    y_train = y_train.ravel()\n",
    "    print(y_train_orig, y_train)\n",
    "    \n",
    "print(X_train.shape, X_test.shape, y_train.shape, y_test.shape, X_train_index.shape, X_test_index.shape,\n",
    "      y_train_index.shape, y_test_index.shape)\n",
    "\n"
   ]
  },
  {
   "cell_type": "code",
   "execution_count": 16,
   "metadata": {
    "execution": {
     "iopub.execute_input": "2022-11-16T13:53:45.808583Z",
     "iopub.status.busy": "2022-11-16T13:53:45.808343Z",
     "iopub.status.idle": "2022-11-16T13:53:45.812004Z",
     "shell.execute_reply": "2022-11-16T13:53:45.811013Z",
     "shell.execute_reply.started": "2022-11-16T13:53:45.808563Z"
    }
   },
   "outputs": [],
   "source": [
    "#imputer = SimpleImputer(strategy='mean')\n",
    "#imputer.fit(X_train[6])\n",
    "#X_train[6] = imputer.transform(X_train[6])"
   ]
  },
  {
   "cell_type": "code",
   "execution_count": 17,
   "metadata": {
    "execution": {
     "iopub.execute_input": "2022-11-16T13:53:45.813460Z",
     "iopub.status.busy": "2022-11-16T13:53:45.813229Z",
     "iopub.status.idle": "2022-11-16T13:53:45.818408Z",
     "shell.execute_reply": "2022-11-16T13:53:45.817424Z",
     "shell.execute_reply.started": "2022-11-16T13:53:45.813440Z"
    }
   },
   "outputs": [],
   "source": [
    "starter_model = starter_pipe[-1]\n",
    "\n",
    "if not_catboost:\n",
    "    default_model_params = starter_model.get_params()\n",
    "    print(\"default_model_params:\\n\", default_model_params)\n",
    "    print(\"---------------------\")\n",
    "    print(\"sklearn.metrics.get_scorer_names():\\n\",sklearn.metrics.get_scorer_names())"
   ]
  },
  {
   "cell_type": "code",
   "execution_count": 17,
   "metadata": {
    "execution": {
     "iopub.execute_input": "2022-11-16T13:53:45.819618Z",
     "iopub.status.busy": "2022-11-16T13:53:45.819401Z",
     "iopub.status.idle": "2022-11-16T13:53:49.589786Z",
     "shell.execute_reply": "2022-11-16T13:53:49.588949Z",
     "shell.execute_reply.started": "2022-11-16T13:53:45.819599Z"
    }
   },
   "outputs": [],
   "source": []
  },
  {
   "cell_type": "code",
   "execution_count": 18,
   "outputs": [
    {
     "name": "stdout",
     "output_type": "stream",
     "text": [
      "cv: 3 n_jobs: 3 refit: True n_iter: 100 verbose: 2\n",
      "\n",
      "\n",
      "Hyperparameters:\n"
     ]
    },
    {
     "data": {
      "text/plain": "{'learning_rate': [None, 0.01, 0.1, 0.5, 0.9, 1],\n 'depth': [6, 7, 8, 9, 10, 15, 20],\n 'l2_leaf_reg': [1, 3, 5, 7, 9]}"
     },
     "execution_count": 18,
     "metadata": {},
     "output_type": "execute_result"
    }
   ],
   "source": [
    "options_block = get_hyperparameters(ALGORITHM, use_gpu, prefix='../../../') #JHJH\n",
    "\n",
    "if 'explore param' in DATA_DETAIL:\n",
    "    def automl_step(param_options, vary):\n",
    "        for key, value in param_options.items():\n",
    "            #print(key, value, vary)\n",
    "            if key != vary and key != 'model__' + vary:\n",
    "                param_options[key] = [param_options[key][0]]\n",
    "        return param_options\n",
    "\n",
    "    #options_block = automl_step(options_block, \"model__epochs\")\n",
    "    explore_param = \"alpha\"\n",
    "    options_block = automl_step(options_block, explore_param)\n",
    "\n",
    "\n",
    "if 'forest' in ALGORITHM.lower():\n",
    "    OVERRIDE_N_ITER = 5\n",
    "    if use_gpu:\n",
    "        OVERRIDE_JOBS = 8\n",
    "\n",
    "param_options, cv, n_jobs, refit, n_iter, verbose = get_cv_params(options_block, debug_mode=debug_mode,\n",
    "                                                                  override_cv=OVERRIDE_CV,\n",
    "                                                                  override_niter=OVERRIDE_N_ITER,\n",
    "                                                                  override_njobs=OVERRIDE_JOBS)\n",
    "\n",
    "if 'forest' in ALGORITHM.lower() or True: #JHJH\n",
    "    verbose = 2\n",
    "\n",
    "print(\"cv:\", cv, \"n_jobs:\", n_jobs, \"refit:\", refit, \"n_iter:\", n_iter, \"verbose:\", verbose)\n",
    "\n",
    "if not_catboost and len(param_options.keys()) > 2 and not already_timed and debug_mode:\n",
    "    already_timed = True\n",
    "    %timeit starter_pipe.fit(X_train, y_train)\n",
    "\n",
    "\n",
    "print('\\n\\nHyperparameters:')\n",
    "param_options if not_catboost else options_block"
   ],
   "metadata": {
    "collapsed": false
   }
  },
  {
   "cell_type": "code",
   "execution_count": 19,
   "metadata": {
    "execution": {
     "iopub.execute_input": "2022-11-16T13:53:49.591033Z",
     "iopub.status.busy": "2022-11-16T13:53:49.590814Z",
     "iopub.status.idle": "2022-11-16T13:59:47.180261Z",
     "shell.execute_reply": "2022-11-16T13:59:47.179463Z",
     "shell.execute_reply.started": "2022-11-16T13:53:49.591014Z"
    }
   },
   "outputs": [
    {
     "data": {
      "text/plain": "MetricVisualizer(layout=Layout(align_self='stretch', height='500px'))",
      "application/vnd.jupyter.widget-view+json": {
       "version_major": 2,
       "version_minor": 0,
       "model_id": "982f6ed74767497c98a21313353a9f00"
      }
     },
     "metadata": {},
     "output_type": "display_data"
    },
    {
     "name": "stdout",
     "output_type": "stream",
     "text": [
      "0:\tlearn: 107913.0177436\ttest: 108120.2738718\tbest: 108120.2738718 (0)\ttotal: 61.1ms\tremaining: 6.05s\n",
      "1:\tlearn: 82525.5919843\ttest: 82799.6926713\tbest: 82799.6926713 (1)\ttotal: 73ms\tremaining: 3.58s\n",
      "2:\tlearn: 74587.1000881\ttest: 75434.8383512\tbest: 75434.8383512 (2)\ttotal: 86.9ms\tremaining: 2.81s\n",
      "3:\tlearn: 72273.6477915\ttest: 73108.6314517\tbest: 73108.6314517 (3)\ttotal: 97.5ms\tremaining: 2.34s\n",
      "4:\tlearn: 71158.1722584\ttest: 72262.4120394\tbest: 72262.4120394 (4)\ttotal: 109ms\tremaining: 2.08s\n",
      "5:\tlearn: 70052.6886679\ttest: 71071.6246382\tbest: 71071.6246382 (5)\ttotal: 121ms\tremaining: 1.89s\n",
      "6:\tlearn: 69409.5570631\ttest: 70385.2929381\tbest: 70385.2929381 (6)\ttotal: 130ms\tremaining: 1.73s\n",
      "7:\tlearn: 68944.1928873\ttest: 70030.4367637\tbest: 70030.4367637 (7)\ttotal: 141ms\tremaining: 1.62s\n",
      "8:\tlearn: 68746.1141455\ttest: 69904.5979662\tbest: 69904.5979662 (8)\ttotal: 147ms\tremaining: 1.48s\n",
      "9:\tlearn: 68382.0197782\ttest: 69465.5920374\tbest: 69465.5920374 (9)\ttotal: 152ms\tremaining: 1.37s\n",
      "10:\tlearn: 67537.8853945\ttest: 68689.3265440\tbest: 68689.3265440 (10)\ttotal: 157ms\tremaining: 1.27s\n",
      "11:\tlearn: 67309.7661127\ttest: 68632.5327390\tbest: 68632.5327390 (11)\ttotal: 163ms\tremaining: 1.19s\n",
      "12:\tlearn: 66613.7564726\ttest: 67932.2522115\tbest: 67932.2522115 (12)\ttotal: 171ms\tremaining: 1.14s\n",
      "13:\tlearn: 66259.1425554\ttest: 67532.4160189\tbest: 67532.4160189 (13)\ttotal: 176ms\tremaining: 1.08s\n",
      "14:\tlearn: 65958.8100664\ttest: 67369.0442003\tbest: 67369.0442003 (14)\ttotal: 181ms\tremaining: 1.03s\n",
      "15:\tlearn: 65800.5441513\ttest: 67320.4867935\tbest: 67320.4867935 (15)\ttotal: 187ms\tremaining: 981ms\n",
      "16:\tlearn: 65631.6780650\ttest: 67122.7636221\tbest: 67122.7636221 (16)\ttotal: 193ms\tremaining: 941ms\n",
      "17:\tlearn: 65288.0296031\ttest: 66790.3712503\tbest: 66790.3712503 (17)\ttotal: 199ms\tremaining: 905ms\n",
      "18:\tlearn: 65129.1361121\ttest: 66697.3026295\tbest: 66697.3026295 (18)\ttotal: 205ms\tremaining: 874ms\n",
      "19:\tlearn: 64801.8720581\ttest: 66308.8985869\tbest: 66308.8985869 (19)\ttotal: 210ms\tremaining: 841ms\n",
      "20:\tlearn: 64464.5407140\ttest: 65992.9310665\tbest: 65992.9310665 (20)\ttotal: 216ms\tremaining: 812ms\n",
      "21:\tlearn: 64190.5412617\ttest: 65667.1894222\tbest: 65667.1894222 (21)\ttotal: 222ms\tremaining: 786ms\n",
      "22:\tlearn: 63943.9244028\ttest: 65468.0516809\tbest: 65468.0516809 (22)\ttotal: 228ms\tremaining: 763ms\n",
      "23:\tlearn: 63633.2432972\ttest: 65245.3935781\tbest: 65245.3935781 (23)\ttotal: 234ms\tremaining: 740ms\n",
      "24:\tlearn: 63384.0730851\ttest: 65113.5661213\tbest: 65113.5661213 (24)\ttotal: 239ms\tremaining: 718ms\n",
      "25:\tlearn: 63284.0039787\ttest: 65091.2534063\tbest: 65091.2534063 (25)\ttotal: 245ms\tremaining: 698ms\n",
      "26:\tlearn: 63078.9514814\ttest: 64952.5162195\tbest: 64952.5162195 (26)\ttotal: 256ms\tremaining: 691ms\n",
      "27:\tlearn: 62905.9939179\ttest: 64797.3188353\tbest: 64797.3188353 (27)\ttotal: 269ms\tremaining: 693ms\n",
      "28:\tlearn: 62876.2970650\ttest: 64795.9888944\tbest: 64795.9888944 (28)\ttotal: 277ms\tremaining: 679ms\n",
      "29:\tlearn: 62609.1807393\ttest: 64524.4140317\tbest: 64524.4140317 (29)\ttotal: 283ms\tremaining: 659ms\n",
      "30:\tlearn: 62487.2618778\ttest: 64452.8006131\tbest: 64452.8006131 (30)\ttotal: 288ms\tremaining: 642ms\n",
      "31:\tlearn: 62265.1106160\ttest: 64313.3129678\tbest: 64313.3129678 (31)\ttotal: 294ms\tremaining: 625ms\n",
      "32:\tlearn: 62028.6104806\ttest: 64196.1204272\tbest: 64196.1204272 (32)\ttotal: 300ms\tremaining: 609ms\n",
      "33:\tlearn: 61849.7183235\ttest: 63997.8528563\tbest: 63997.8528563 (33)\ttotal: 306ms\tremaining: 594ms\n",
      "34:\tlearn: 61699.6017308\ttest: 63924.7838069\tbest: 63924.7838069 (34)\ttotal: 311ms\tremaining: 578ms\n",
      "35:\tlearn: 61596.8494343\ttest: 63978.8318339\tbest: 63924.7838069 (34)\ttotal: 316ms\tremaining: 563ms\n",
      "36:\tlearn: 61468.9169757\ttest: 63906.5084703\tbest: 63906.5084703 (36)\ttotal: 322ms\tremaining: 549ms\n",
      "37:\tlearn: 61409.0757107\ttest: 63878.4619972\tbest: 63878.4619972 (37)\ttotal: 327ms\tremaining: 534ms\n",
      "38:\tlearn: 61263.5740720\ttest: 63791.7035542\tbest: 63791.7035542 (38)\ttotal: 333ms\tremaining: 521ms\n",
      "39:\tlearn: 61170.9853283\ttest: 63729.7992879\tbest: 63729.7992879 (39)\ttotal: 338ms\tremaining: 507ms\n",
      "40:\tlearn: 61097.9156186\ttest: 63730.0551395\tbest: 63729.7992879 (39)\ttotal: 344ms\tremaining: 494ms\n",
      "41:\tlearn: 60765.1823473\ttest: 63436.9249013\tbest: 63436.9249013 (41)\ttotal: 349ms\tremaining: 482ms\n",
      "42:\tlearn: 60656.7274624\ttest: 63449.7606685\tbest: 63436.9249013 (41)\ttotal: 356ms\tremaining: 471ms\n",
      "43:\tlearn: 60557.2960716\ttest: 63407.6755399\tbest: 63407.6755399 (43)\ttotal: 363ms\tremaining: 461ms\n",
      "44:\tlearn: 60341.9941131\ttest: 63417.7353953\tbest: 63407.6755399 (43)\ttotal: 368ms\tremaining: 450ms\n",
      "45:\tlearn: 60170.1873194\ttest: 63317.3358056\tbest: 63317.3358056 (45)\ttotal: 374ms\tremaining: 439ms\n",
      "46:\tlearn: 60090.0024789\ttest: 63285.1646771\tbest: 63285.1646771 (46)\ttotal: 381ms\tremaining: 430ms\n",
      "47:\tlearn: 60083.7272595\ttest: 63284.9365105\tbest: 63284.9365105 (47)\ttotal: 387ms\tremaining: 419ms\n",
      "48:\tlearn: 59983.0615193\ttest: 63256.4557451\tbest: 63256.4557451 (48)\ttotal: 393ms\tremaining: 409ms\n",
      "49:\tlearn: 59910.5355890\ttest: 63218.8108416\tbest: 63218.8108416 (49)\ttotal: 400ms\tremaining: 400ms\n",
      "50:\tlearn: 59859.4184514\ttest: 63220.5645852\tbest: 63218.8108416 (49)\ttotal: 406ms\tremaining: 390ms\n",
      "51:\tlearn: 59846.7305295\ttest: 63234.4822622\tbest: 63218.8108416 (49)\ttotal: 411ms\tremaining: 379ms\n",
      "52:\tlearn: 59762.7172080\ttest: 63185.9226658\tbest: 63185.9226658 (52)\ttotal: 416ms\tremaining: 369ms\n",
      "53:\tlearn: 59698.0255947\ttest: 63150.2197541\tbest: 63150.2197541 (53)\ttotal: 422ms\tremaining: 360ms\n",
      "54:\tlearn: 59529.6646017\ttest: 62844.5160186\tbest: 62844.5160186 (54)\ttotal: 428ms\tremaining: 350ms\n",
      "55:\tlearn: 59435.3650932\ttest: 62755.2550352\tbest: 62755.2550352 (55)\ttotal: 434ms\tremaining: 341ms\n",
      "56:\tlearn: 59367.0810317\ttest: 62724.1515254\tbest: 62724.1515254 (56)\ttotal: 440ms\tremaining: 332ms\n",
      "57:\tlearn: 59299.4626763\ttest: 62703.1221037\tbest: 62703.1221037 (57)\ttotal: 448ms\tremaining: 324ms\n",
      "58:\tlearn: 59193.2710299\ttest: 62674.4386171\tbest: 62674.4386171 (58)\ttotal: 455ms\tremaining: 316ms\n",
      "59:\tlearn: 59130.7038788\ttest: 62659.5554357\tbest: 62659.5554357 (59)\ttotal: 463ms\tremaining: 309ms\n",
      "60:\tlearn: 59025.9243867\ttest: 62646.7742060\tbest: 62646.7742060 (60)\ttotal: 473ms\tremaining: 303ms\n",
      "61:\tlearn: 58903.6479260\ttest: 62652.4092029\tbest: 62646.7742060 (60)\ttotal: 486ms\tremaining: 298ms\n",
      "62:\tlearn: 58800.8377626\ttest: 62597.5917179\tbest: 62597.5917179 (62)\ttotal: 492ms\tremaining: 289ms\n",
      "63:\tlearn: 58728.8670875\ttest: 62558.9603752\tbest: 62558.9603752 (63)\ttotal: 498ms\tremaining: 280ms\n",
      "64:\tlearn: 58723.0005101\ttest: 62559.0189830\tbest: 62558.9603752 (63)\ttotal: 504ms\tremaining: 272ms\n",
      "65:\tlearn: 58669.5248081\ttest: 62592.8726619\tbest: 62558.9603752 (63)\ttotal: 511ms\tremaining: 263ms\n",
      "66:\tlearn: 58570.9886695\ttest: 62555.9181030\tbest: 62555.9181030 (66)\ttotal: 518ms\tremaining: 255ms\n",
      "67:\tlearn: 58475.4560168\ttest: 62541.1885573\tbest: 62541.1885573 (67)\ttotal: 525ms\tremaining: 247ms\n",
      "68:\tlearn: 58343.3900849\ttest: 62467.3392994\tbest: 62467.3392994 (68)\ttotal: 532ms\tremaining: 239ms\n",
      "69:\tlearn: 58225.7086667\ttest: 62462.7097457\tbest: 62462.7097457 (69)\ttotal: 538ms\tremaining: 231ms\n",
      "70:\tlearn: 58122.7833574\ttest: 62381.5741583\tbest: 62381.5741583 (70)\ttotal: 544ms\tremaining: 222ms\n",
      "71:\tlearn: 58027.3856095\ttest: 62374.2303991\tbest: 62374.2303991 (71)\ttotal: 549ms\tremaining: 214ms\n",
      "72:\tlearn: 57946.4420893\ttest: 62364.5702160\tbest: 62364.5702160 (72)\ttotal: 554ms\tremaining: 205ms\n",
      "73:\tlearn: 57720.0566216\ttest: 62239.2363288\tbest: 62239.2363288 (73)\ttotal: 560ms\tremaining: 197ms\n",
      "74:\tlearn: 57620.9793348\ttest: 62207.9491453\tbest: 62207.9491453 (74)\ttotal: 565ms\tremaining: 188ms\n",
      "75:\tlearn: 57502.5961127\ttest: 62183.0343667\tbest: 62183.0343667 (75)\ttotal: 570ms\tremaining: 180ms\n",
      "76:\tlearn: 57429.9138910\ttest: 62153.3254947\tbest: 62153.3254947 (76)\ttotal: 576ms\tremaining: 172ms\n",
      "77:\tlearn: 57367.0889136\ttest: 62140.9511997\tbest: 62140.9511997 (77)\ttotal: 582ms\tremaining: 164ms\n",
      "78:\tlearn: 57281.0785241\ttest: 62136.0601580\tbest: 62136.0601580 (78)\ttotal: 588ms\tremaining: 156ms\n",
      "79:\tlearn: 57211.4349048\ttest: 62089.5924922\tbest: 62089.5924922 (79)\ttotal: 594ms\tremaining: 149ms\n",
      "80:\tlearn: 57164.7744645\ttest: 62064.5993150\tbest: 62064.5993150 (80)\ttotal: 600ms\tremaining: 141ms\n",
      "81:\tlearn: 57126.1638996\ttest: 62020.4730924\tbest: 62020.4730924 (81)\ttotal: 605ms\tremaining: 133ms\n",
      "82:\tlearn: 57112.5320954\ttest: 62023.7741081\tbest: 62020.4730924 (81)\ttotal: 610ms\tremaining: 125ms\n",
      "83:\tlearn: 57031.5268333\ttest: 61994.1494287\tbest: 61994.1494287 (83)\ttotal: 616ms\tremaining: 117ms\n",
      "84:\tlearn: 56940.9523567\ttest: 61850.3144447\tbest: 61850.3144447 (84)\ttotal: 622ms\tremaining: 110ms\n",
      "85:\tlearn: 56876.9866886\ttest: 61850.0429738\tbest: 61850.0429738 (85)\ttotal: 628ms\tremaining: 102ms\n",
      "86:\tlearn: 56780.2527197\ttest: 61828.4340604\tbest: 61828.4340604 (86)\ttotal: 634ms\tremaining: 94.7ms\n",
      "87:\tlearn: 56778.5798248\ttest: 61828.0052955\tbest: 61828.0052955 (87)\ttotal: 639ms\tremaining: 87.1ms\n",
      "88:\tlearn: 56699.4171573\ttest: 61854.4423120\tbest: 61828.0052955 (87)\ttotal: 645ms\tremaining: 79.7ms\n",
      "89:\tlearn: 56637.1121732\ttest: 61862.4036843\tbest: 61828.0052955 (87)\ttotal: 650ms\tremaining: 72.3ms\n",
      "90:\tlearn: 56544.5204160\ttest: 61766.2392106\tbest: 61766.2392106 (90)\ttotal: 656ms\tremaining: 64.9ms\n",
      "91:\tlearn: 56434.9513420\ttest: 61753.6707650\tbest: 61753.6707650 (91)\ttotal: 662ms\tremaining: 57.6ms\n",
      "92:\tlearn: 56335.2103160\ttest: 61686.3118237\tbest: 61686.3118237 (92)\ttotal: 671ms\tremaining: 50.5ms\n",
      "93:\tlearn: 56225.5753600\ttest: 61584.1716015\tbest: 61584.1716015 (93)\ttotal: 687ms\tremaining: 43.8ms\n",
      "94:\tlearn: 56153.5165638\ttest: 61555.3020991\tbest: 61555.3020991 (94)\ttotal: 701ms\tremaining: 36.9ms\n",
      "95:\tlearn: 56026.1406363\ttest: 61448.0856936\tbest: 61448.0856936 (95)\ttotal: 716ms\tremaining: 29.8ms\n",
      "96:\tlearn: 55979.6911945\ttest: 61426.5703806\tbest: 61426.5703806 (96)\ttotal: 721ms\tremaining: 22.3ms\n",
      "97:\tlearn: 55914.1600029\ttest: 61386.6763392\tbest: 61386.6763392 (97)\ttotal: 726ms\tremaining: 14.8ms\n",
      "98:\tlearn: 55798.8571042\ttest: 61349.2303137\tbest: 61349.2303137 (98)\ttotal: 732ms\tremaining: 7.39ms\n",
      "99:\tlearn: 55756.6922312\ttest: 61367.3444617\tbest: 61349.2303137 (98)\ttotal: 738ms\tremaining: 0us\n",
      "\n",
      "bestTest = 61349.23031\n",
      "bestIteration = 98\n",
      "\n",
      "0:\tloss: 61349.2303137\tbest: 61349.2303137 (0)\ttotal: 1.56s\tremaining: 14.1s\n",
      "0:\tlearn: 98842.5674999\ttest: 98648.3407607\tbest: 98648.3407607 (0)\ttotal: 30.6ms\tremaining: 3.02s\n",
      "1:\tlearn: 82596.0707864\ttest: 83240.0077537\tbest: 83240.0077537 (1)\ttotal: 53.7ms\tremaining: 2.63s\n",
      "2:\tlearn: 75463.2650612\ttest: 76263.1502242\tbest: 76263.1502242 (2)\ttotal: 67.2ms\tremaining: 2.17s\n",
      "3:\tlearn: 73102.2980171\ttest: 73614.9836916\tbest: 73614.9836916 (3)\ttotal: 77.7ms\tremaining: 1.86s\n",
      "4:\tlearn: 71641.8070712\ttest: 72326.2602249\tbest: 72326.2602249 (4)\ttotal: 88.8ms\tremaining: 1.69s\n",
      "5:\tlearn: 71135.2607564\ttest: 71890.9473843\tbest: 71890.9473843 (5)\ttotal: 101ms\tremaining: 1.58s\n",
      "6:\tlearn: 69869.0683762\ttest: 70456.8916623\tbest: 70456.8916623 (6)\ttotal: 117ms\tremaining: 1.55s\n",
      "7:\tlearn: 69356.8492023\ttest: 69815.9985789\tbest: 69815.9985789 (7)\ttotal: 124ms\tremaining: 1.42s\n",
      "8:\tlearn: 68761.1197676\ttest: 69286.2150234\tbest: 69286.2150234 (8)\ttotal: 130ms\tremaining: 1.32s\n",
      "9:\tlearn: 68207.2931474\ttest: 68770.3090029\tbest: 68770.3090029 (9)\ttotal: 136ms\tremaining: 1.22s\n",
      "10:\tlearn: 67275.0946746\ttest: 68007.8525115\tbest: 68007.8525115 (10)\ttotal: 149ms\tremaining: 1.2s\n",
      "11:\tlearn: 66666.8575864\ttest: 67390.0958339\tbest: 67390.0958339 (11)\ttotal: 155ms\tremaining: 1.13s\n",
      "12:\tlearn: 66216.5359434\ttest: 66959.3333048\tbest: 66959.3333048 (12)\ttotal: 169ms\tremaining: 1.13s\n",
      "13:\tlearn: 65980.6155407\ttest: 66835.1605060\tbest: 66835.1605060 (13)\ttotal: 178ms\tremaining: 1.09s\n",
      "14:\tlearn: 65562.9726376\ttest: 66613.3210443\tbest: 66613.3210443 (14)\ttotal: 191ms\tremaining: 1.08s\n",
      "15:\tlearn: 65319.1437863\ttest: 66476.1694631\tbest: 66476.1694631 (15)\ttotal: 209ms\tremaining: 1.1s\n",
      "16:\tlearn: 65138.8592231\ttest: 66370.2066936\tbest: 66370.2066936 (16)\ttotal: 225ms\tremaining: 1.1s\n",
      "17:\tlearn: 64777.1695009\ttest: 66119.4708155\tbest: 66119.4708155 (17)\ttotal: 243ms\tremaining: 1.11s\n",
      "18:\tlearn: 64559.7763070\ttest: 66005.4875801\tbest: 66005.4875801 (18)\ttotal: 253ms\tremaining: 1.08s\n",
      "19:\tlearn: 64282.4982270\ttest: 65710.5298998\tbest: 65710.5298998 (19)\ttotal: 259ms\tremaining: 1.03s\n",
      "20:\tlearn: 64141.3225947\ttest: 65676.8692271\tbest: 65676.8692271 (20)\ttotal: 270ms\tremaining: 1.02s\n",
      "21:\tlearn: 64011.1597431\ttest: 65650.0638409\tbest: 65650.0638409 (21)\ttotal: 285ms\tremaining: 1.01s\n",
      "22:\tlearn: 63831.7989112\ttest: 65428.5076103\tbest: 65428.5076103 (22)\ttotal: 292ms\tremaining: 976ms\n",
      "23:\tlearn: 63676.4117262\ttest: 65350.3727677\tbest: 65350.3727677 (23)\ttotal: 297ms\tremaining: 940ms\n",
      "24:\tlearn: 63581.8205831\ttest: 65364.0398140\tbest: 65350.3727677 (23)\ttotal: 304ms\tremaining: 912ms\n",
      "25:\tlearn: 63197.1836719\ttest: 65072.5115517\tbest: 65072.5115517 (25)\ttotal: 309ms\tremaining: 879ms\n",
      "26:\tlearn: 63076.4683058\ttest: 65034.7250109\tbest: 65034.7250109 (26)\ttotal: 314ms\tremaining: 849ms\n",
      "27:\tlearn: 62899.8323755\ttest: 64857.3740681\tbest: 64857.3740681 (27)\ttotal: 320ms\tremaining: 824ms\n",
      "28:\tlearn: 62816.0083033\ttest: 64893.4653385\tbest: 64857.3740681 (27)\ttotal: 326ms\tremaining: 797ms\n",
      "29:\tlearn: 62585.4291291\ttest: 64716.7798689\tbest: 64716.7798689 (29)\ttotal: 332ms\tremaining: 774ms\n",
      "30:\tlearn: 62403.2965621\ttest: 64539.2727487\tbest: 64539.2727487 (30)\ttotal: 337ms\tremaining: 751ms\n",
      "31:\tlearn: 62186.2928828\ttest: 64278.3697299\tbest: 64278.3697299 (31)\ttotal: 345ms\tremaining: 733ms\n",
      "32:\tlearn: 61990.8491857\ttest: 64230.0447381\tbest: 64230.0447381 (32)\ttotal: 358ms\tremaining: 727ms\n",
      "33:\tlearn: 61884.8318266\ttest: 64133.0450267\tbest: 64133.0450267 (33)\ttotal: 372ms\tremaining: 723ms\n",
      "34:\tlearn: 61777.4063343\ttest: 64131.6498089\tbest: 64131.6498089 (34)\ttotal: 385ms\tremaining: 714ms\n",
      "35:\tlearn: 61510.4623249\ttest: 64015.2272733\tbest: 64015.2272733 (35)\ttotal: 391ms\tremaining: 694ms\n",
      "36:\tlearn: 61359.0357452\ttest: 63912.9854447\tbest: 63912.9854447 (36)\ttotal: 398ms\tremaining: 678ms\n",
      "37:\tlearn: 61263.5629815\ttest: 63871.4652467\tbest: 63871.4652467 (37)\ttotal: 405ms\tremaining: 661ms\n",
      "38:\tlearn: 60942.0311871\ttest: 63721.6409159\tbest: 63721.6409159 (38)\ttotal: 412ms\tremaining: 644ms\n",
      "39:\tlearn: 60907.4612563\ttest: 63732.3234539\tbest: 63721.6409159 (38)\ttotal: 417ms\tremaining: 626ms\n",
      "40:\tlearn: 60695.8892438\ttest: 63584.8996167\tbest: 63584.8996167 (40)\ttotal: 437ms\tremaining: 629ms\n",
      "41:\tlearn: 60533.7334896\ttest: 63479.6963958\tbest: 63479.6963958 (41)\ttotal: 454ms\tremaining: 627ms\n",
      "42:\tlearn: 60488.2330478\ttest: 63438.8735698\tbest: 63438.8735698 (42)\ttotal: 472ms\tremaining: 626ms\n",
      "43:\tlearn: 60376.8693749\ttest: 63397.5917221\tbest: 63397.5917221 (43)\ttotal: 509ms\tremaining: 648ms\n",
      "44:\tlearn: 60282.1166486\ttest: 63368.1672691\tbest: 63368.1672691 (44)\ttotal: 520ms\tremaining: 636ms\n",
      "45:\tlearn: 60165.9997453\ttest: 63277.6032695\tbest: 63277.6032695 (45)\ttotal: 527ms\tremaining: 619ms\n",
      "46:\tlearn: 60018.6462894\ttest: 63057.5426923\tbest: 63057.5426923 (46)\ttotal: 535ms\tremaining: 603ms\n",
      "47:\tlearn: 59869.9365666\ttest: 62999.1314164\tbest: 62999.1314164 (47)\ttotal: 544ms\tremaining: 589ms\n",
      "48:\tlearn: 59804.9540346\ttest: 62986.5885624\tbest: 62986.5885624 (48)\ttotal: 551ms\tremaining: 574ms\n",
      "49:\tlearn: 59662.5909777\ttest: 62873.6036888\tbest: 62873.6036888 (49)\ttotal: 556ms\tremaining: 556ms\n",
      "50:\tlearn: 59627.0519163\ttest: 62865.7826311\tbest: 62865.7826311 (50)\ttotal: 562ms\tremaining: 540ms\n",
      "51:\tlearn: 59534.9917815\ttest: 62854.5690763\tbest: 62854.5690763 (51)\ttotal: 568ms\tremaining: 525ms\n",
      "52:\tlearn: 59440.2636549\ttest: 62864.0806394\tbest: 62854.5690763 (51)\ttotal: 576ms\tremaining: 511ms\n",
      "53:\tlearn: 59355.6343342\ttest: 62822.5787975\tbest: 62822.5787975 (53)\ttotal: 583ms\tremaining: 497ms\n",
      "54:\tlearn: 59242.0092829\ttest: 62804.2035832\tbest: 62804.2035832 (54)\ttotal: 591ms\tremaining: 483ms\n",
      "55:\tlearn: 59156.4607048\ttest: 62760.2601343\tbest: 62760.2601343 (55)\ttotal: 598ms\tremaining: 470ms\n",
      "56:\tlearn: 59053.9225376\ttest: 62712.3486257\tbest: 62712.3486257 (56)\ttotal: 605ms\tremaining: 457ms\n",
      "57:\tlearn: 59018.0778669\ttest: 62719.6894174\tbest: 62712.3486257 (56)\ttotal: 614ms\tremaining: 445ms\n",
      "58:\tlearn: 58922.5520309\ttest: 62638.5206852\tbest: 62638.5206852 (58)\ttotal: 623ms\tremaining: 433ms\n",
      "59:\tlearn: 58833.0690752\ttest: 62634.7988047\tbest: 62634.7988047 (59)\ttotal: 633ms\tremaining: 422ms\n",
      "60:\tlearn: 58768.0947014\ttest: 62654.4841220\tbest: 62634.7988047 (59)\ttotal: 644ms\tremaining: 412ms\n",
      "61:\tlearn: 58676.2415511\ttest: 62617.4437778\tbest: 62617.4437778 (61)\ttotal: 653ms\tremaining: 400ms\n",
      "62:\tlearn: 58616.3752935\ttest: 62615.4110426\tbest: 62615.4110426 (62)\ttotal: 661ms\tremaining: 388ms\n",
      "63:\tlearn: 58546.1147119\ttest: 62599.5507653\tbest: 62599.5507653 (63)\ttotal: 666ms\tremaining: 375ms\n",
      "64:\tlearn: 58456.2699135\ttest: 62527.9658444\tbest: 62527.9658444 (64)\ttotal: 672ms\tremaining: 362ms\n",
      "65:\tlearn: 58452.5875804\ttest: 62530.7950665\tbest: 62527.9658444 (64)\ttotal: 677ms\tremaining: 349ms\n",
      "66:\tlearn: 58414.8487652\ttest: 62537.3496879\tbest: 62527.9658444 (64)\ttotal: 684ms\tremaining: 337ms\n",
      "67:\tlearn: 58312.7822615\ttest: 62506.1905266\tbest: 62506.1905266 (67)\ttotal: 693ms\tremaining: 326ms\n",
      "68:\tlearn: 58267.4198657\ttest: 62515.4356506\tbest: 62506.1905266 (67)\ttotal: 699ms\tremaining: 314ms\n",
      "69:\tlearn: 58190.2957606\ttest: 62505.7635125\tbest: 62505.7635125 (69)\ttotal: 705ms\tremaining: 302ms\n",
      "70:\tlearn: 58140.6018486\ttest: 62472.3786728\tbest: 62472.3786728 (70)\ttotal: 711ms\tremaining: 290ms\n",
      "71:\tlearn: 58139.1685744\ttest: 62472.3583768\tbest: 62472.3583768 (71)\ttotal: 717ms\tremaining: 279ms\n",
      "72:\tlearn: 58019.3614453\ttest: 62315.7338813\tbest: 62315.7338813 (72)\ttotal: 723ms\tremaining: 268ms\n",
      "73:\tlearn: 57996.6522477\ttest: 62331.1809003\tbest: 62315.7338813 (72)\ttotal: 730ms\tremaining: 257ms\n",
      "74:\tlearn: 57994.6230126\ttest: 62334.8703963\tbest: 62315.7338813 (72)\ttotal: 736ms\tremaining: 245ms\n",
      "75:\tlearn: 57921.0843013\ttest: 62299.7862761\tbest: 62299.7862761 (75)\ttotal: 742ms\tremaining: 234ms\n",
      "76:\tlearn: 57856.6938505\ttest: 62282.7108072\tbest: 62282.7108072 (76)\ttotal: 748ms\tremaining: 223ms\n",
      "77:\tlearn: 57694.7238201\ttest: 62225.1506294\tbest: 62225.1506294 (77)\ttotal: 754ms\tremaining: 213ms\n",
      "78:\tlearn: 57550.4396877\ttest: 62167.2298857\tbest: 62167.2298857 (78)\ttotal: 760ms\tremaining: 202ms\n",
      "79:\tlearn: 57490.3605320\ttest: 62149.7781878\tbest: 62149.7781878 (79)\ttotal: 766ms\tremaining: 192ms\n",
      "80:\tlearn: 57390.4121574\ttest: 62129.7106410\tbest: 62129.7106410 (80)\ttotal: 772ms\tremaining: 181ms\n",
      "81:\tlearn: 57312.9551991\ttest: 62093.3696505\tbest: 62093.3696505 (81)\ttotal: 778ms\tremaining: 171ms\n",
      "82:\tlearn: 57244.9079449\ttest: 62029.3031918\tbest: 62029.3031918 (82)\ttotal: 785ms\tremaining: 161ms\n",
      "83:\tlearn: 57159.1236940\ttest: 61951.6073138\tbest: 61951.6073138 (83)\ttotal: 802ms\tremaining: 153ms\n",
      "84:\tlearn: 57107.1455060\ttest: 61942.7746095\tbest: 61942.7746095 (84)\ttotal: 808ms\tremaining: 143ms\n",
      "85:\tlearn: 57017.9720820\ttest: 62018.7675075\tbest: 61942.7746095 (84)\ttotal: 815ms\tremaining: 133ms\n",
      "86:\tlearn: 56886.9280774\ttest: 61983.9714866\tbest: 61942.7746095 (84)\ttotal: 821ms\tremaining: 123ms\n",
      "87:\tlearn: 56821.7848095\ttest: 62002.6908448\tbest: 61942.7746095 (84)\ttotal: 827ms\tremaining: 113ms\n",
      "88:\tlearn: 56785.1055958\ttest: 61999.2478827\tbest: 61942.7746095 (84)\ttotal: 833ms\tremaining: 103ms\n",
      "89:\tlearn: 56717.9231782\ttest: 61970.3758034\tbest: 61942.7746095 (84)\ttotal: 839ms\tremaining: 93.2ms\n",
      "90:\tlearn: 56618.0752653\ttest: 61944.8780309\tbest: 61942.7746095 (84)\ttotal: 845ms\tremaining: 83.6ms\n",
      "91:\tlearn: 56558.2962874\ttest: 61904.6752044\tbest: 61904.6752044 (91)\ttotal: 851ms\tremaining: 74ms\n",
      "92:\tlearn: 56476.0615583\ttest: 61855.7735764\tbest: 61855.7735764 (92)\ttotal: 858ms\tremaining: 64.6ms\n",
      "93:\tlearn: 56435.6403185\ttest: 61888.9324210\tbest: 61855.7735764 (92)\ttotal: 866ms\tremaining: 55.3ms\n",
      "94:\tlearn: 56379.7152237\ttest: 61850.0469539\tbest: 61850.0469539 (94)\ttotal: 872ms\tremaining: 45.9ms\n",
      "95:\tlearn: 56275.2770051\ttest: 61852.7724244\tbest: 61850.0469539 (94)\ttotal: 879ms\tremaining: 36.6ms\n",
      "96:\tlearn: 56223.5742392\ttest: 61846.0044217\tbest: 61846.0044217 (96)\ttotal: 885ms\tremaining: 27.4ms\n",
      "97:\tlearn: 56173.8092382\ttest: 61811.4856409\tbest: 61811.4856409 (97)\ttotal: 908ms\tremaining: 18.5ms\n",
      "98:\tlearn: 56102.2469678\ttest: 61785.7625643\tbest: 61785.7625643 (98)\ttotal: 920ms\tremaining: 9.29ms\n",
      "99:\tlearn: 56019.5828782\ttest: 61743.9457677\tbest: 61743.9457677 (99)\ttotal: 932ms\tremaining: 0us\n",
      "\n",
      "bestTest = 61743.94577\n",
      "bestIteration = 99\n",
      "\n",
      "1:\tloss: 61743.9457677\tbest: 61349.2303137 (0)\ttotal: 2.51s\tremaining: 10s\n",
      "0:\tlearn: 98674.8792031\ttest: 98788.4799866\tbest: 98788.4799866 (0)\ttotal: 14ms\tremaining: 1.39s\n",
      "1:\tlearn: 81465.8113112\ttest: 82369.5678772\tbest: 82369.5678772 (1)\ttotal: 24.8ms\tremaining: 1.22s\n",
      "2:\tlearn: 75525.2768967\ttest: 76792.3641981\tbest: 76792.3641981 (2)\ttotal: 34.9ms\tremaining: 1.13s\n",
      "3:\tlearn: 72292.4596314\ttest: 73209.2572685\tbest: 73209.2572685 (3)\ttotal: 42.2ms\tremaining: 1.01s\n",
      "4:\tlearn: 70794.9011462\ttest: 71729.3803057\tbest: 71729.3803057 (4)\ttotal: 48.9ms\tremaining: 930ms\n",
      "5:\tlearn: 70120.5855591\ttest: 71251.7947558\tbest: 71251.7947558 (5)\ttotal: 55.4ms\tremaining: 868ms\n",
      "6:\tlearn: 69795.2343425\ttest: 70839.6006566\tbest: 70839.6006566 (6)\ttotal: 61.2ms\tremaining: 814ms\n",
      "7:\tlearn: 68799.1281987\ttest: 69752.7970029\tbest: 69752.7970029 (7)\ttotal: 67.6ms\tremaining: 778ms\n",
      "8:\tlearn: 68163.2695938\ttest: 69198.4902518\tbest: 69198.4902518 (8)\ttotal: 74ms\tremaining: 748ms\n",
      "9:\tlearn: 67473.1506587\ttest: 68457.6019687\tbest: 68457.6019687 (9)\ttotal: 80.7ms\tremaining: 726ms\n",
      "10:\tlearn: 66784.7936342\ttest: 67755.2861065\tbest: 67755.2861065 (10)\ttotal: 87.9ms\tremaining: 711ms\n",
      "11:\tlearn: 66209.8748130\ttest: 67369.0736375\tbest: 67369.0736375 (11)\ttotal: 96.7ms\tremaining: 709ms\n",
      "12:\tlearn: 65950.7348425\ttest: 67178.6411496\tbest: 67178.6411496 (12)\ttotal: 117ms\tremaining: 781ms\n",
      "13:\tlearn: 65367.2334523\ttest: 66836.2774238\tbest: 66836.2774238 (13)\ttotal: 129ms\tremaining: 791ms\n",
      "14:\tlearn: 64822.2307815\ttest: 66287.0988095\tbest: 66287.0988095 (14)\ttotal: 136ms\tremaining: 768ms\n",
      "15:\tlearn: 64443.5070917\ttest: 66256.1280485\tbest: 66256.1280485 (15)\ttotal: 143ms\tremaining: 749ms\n",
      "16:\tlearn: 64177.7917437\ttest: 66196.3393119\tbest: 66196.3393119 (16)\ttotal: 150ms\tremaining: 730ms\n",
      "17:\tlearn: 63899.7898427\ttest: 66080.0036094\tbest: 66080.0036094 (17)\ttotal: 157ms\tremaining: 713ms\n",
      "18:\tlearn: 63378.2554874\ttest: 65640.5234311\tbest: 65640.5234311 (18)\ttotal: 163ms\tremaining: 695ms\n",
      "19:\tlearn: 63100.7098573\ttest: 65495.5045158\tbest: 65495.5045158 (19)\ttotal: 171ms\tremaining: 682ms\n",
      "20:\tlearn: 62863.1719733\ttest: 65355.1509734\tbest: 65355.1509734 (20)\ttotal: 177ms\tremaining: 668ms\n",
      "21:\tlearn: 62620.2049962\ttest: 65176.3505850\tbest: 65176.3505850 (21)\ttotal: 184ms\tremaining: 654ms\n",
      "22:\tlearn: 62436.9797990\ttest: 65181.0271247\tbest: 65176.3505850 (21)\ttotal: 192ms\tremaining: 641ms\n",
      "23:\tlearn: 62195.8180918\ttest: 64922.8814783\tbest: 64922.8814783 (23)\ttotal: 199ms\tremaining: 630ms\n",
      "24:\tlearn: 61967.0732763\ttest: 64842.2969775\tbest: 64842.2969775 (24)\ttotal: 206ms\tremaining: 619ms\n",
      "25:\tlearn: 61813.2275506\ttest: 64805.4538701\tbest: 64805.4538701 (25)\ttotal: 221ms\tremaining: 630ms\n",
      "26:\tlearn: 61755.2003311\ttest: 64820.9596475\tbest: 64805.4538701 (25)\ttotal: 227ms\tremaining: 615ms\n",
      "27:\tlearn: 61525.2155747\ttest: 64618.9104133\tbest: 64618.9104133 (27)\ttotal: 234ms\tremaining: 601ms\n",
      "28:\tlearn: 61335.3358317\ttest: 64525.7526585\tbest: 64525.7526585 (28)\ttotal: 241ms\tremaining: 589ms\n",
      "29:\tlearn: 61219.6204107\ttest: 64494.1349364\tbest: 64494.1349364 (29)\ttotal: 249ms\tremaining: 580ms\n",
      "30:\tlearn: 60851.9234214\ttest: 64365.3013844\tbest: 64365.3013844 (30)\ttotal: 257ms\tremaining: 573ms\n",
      "31:\tlearn: 60717.5502600\ttest: 64355.8896912\tbest: 64355.8896912 (31)\ttotal: 264ms\tremaining: 561ms\n",
      "32:\tlearn: 60458.2144495\ttest: 64288.2703542\tbest: 64288.2703542 (32)\ttotal: 271ms\tremaining: 550ms\n",
      "33:\tlearn: 60172.9754754\ttest: 64224.2690064\tbest: 64224.2690064 (33)\ttotal: 285ms\tremaining: 553ms\n",
      "34:\tlearn: 60034.1315511\ttest: 64168.2132315\tbest: 64168.2132315 (34)\ttotal: 291ms\tremaining: 541ms\n",
      "35:\tlearn: 59864.3875456\ttest: 63992.8075733\tbest: 63992.8075733 (35)\ttotal: 298ms\tremaining: 530ms\n",
      "36:\tlearn: 59680.0143963\ttest: 63759.5867983\tbest: 63759.5867983 (36)\ttotal: 305ms\tremaining: 520ms\n",
      "37:\tlearn: 59603.7733176\ttest: 63759.4401237\tbest: 63759.4401237 (37)\ttotal: 318ms\tremaining: 518ms\n",
      "38:\tlearn: 59400.0558244\ttest: 63669.2167043\tbest: 63669.2167043 (38)\ttotal: 325ms\tremaining: 509ms\n",
      "39:\tlearn: 59300.9061706\ttest: 63666.9807751\tbest: 63666.9807751 (39)\ttotal: 333ms\tremaining: 499ms\n",
      "40:\tlearn: 59217.3231094\ttest: 63693.4920665\tbest: 63666.9807751 (39)\ttotal: 340ms\tremaining: 489ms\n",
      "41:\tlearn: 59150.7890023\ttest: 63683.4275303\tbest: 63666.9807751 (39)\ttotal: 353ms\tremaining: 487ms\n",
      "42:\tlearn: 58974.6031371\ttest: 63565.0873711\tbest: 63565.0873711 (42)\ttotal: 365ms\tremaining: 484ms\n",
      "43:\tlearn: 58840.2084608\ttest: 63555.7591298\tbest: 63555.7591298 (43)\ttotal: 381ms\tremaining: 485ms\n",
      "44:\tlearn: 58706.1582840\ttest: 63523.0721195\tbest: 63523.0721195 (44)\ttotal: 392ms\tremaining: 480ms\n",
      "45:\tlearn: 58590.5426636\ttest: 63545.1025482\tbest: 63523.0721195 (44)\ttotal: 399ms\tremaining: 469ms\n",
      "46:\tlearn: 58489.4234181\ttest: 63561.4520961\tbest: 63523.0721195 (44)\ttotal: 406ms\tremaining: 458ms\n",
      "47:\tlearn: 58352.7541832\ttest: 63488.4671193\tbest: 63488.4671193 (47)\ttotal: 413ms\tremaining: 448ms\n",
      "48:\tlearn: 58240.5027099\ttest: 63464.0672613\tbest: 63464.0672613 (48)\ttotal: 420ms\tremaining: 437ms\n",
      "49:\tlearn: 58151.9720657\ttest: 63454.5136277\tbest: 63454.5136277 (49)\ttotal: 427ms\tremaining: 427ms\n",
      "50:\tlearn: 57990.0571445\ttest: 63386.6679141\tbest: 63386.6679141 (50)\ttotal: 433ms\tremaining: 416ms\n",
      "51:\tlearn: 57846.3735443\ttest: 63323.2676318\tbest: 63323.2676318 (51)\ttotal: 440ms\tremaining: 406ms\n",
      "52:\tlearn: 57752.0191848\ttest: 63392.3987796\tbest: 63323.2676318 (51)\ttotal: 448ms\tremaining: 397ms\n",
      "53:\tlearn: 57646.5090257\ttest: 63399.5097321\tbest: 63323.2676318 (51)\ttotal: 454ms\tremaining: 387ms\n",
      "54:\tlearn: 57477.3651854\ttest: 63321.7963372\tbest: 63321.7963372 (54)\ttotal: 461ms\tremaining: 378ms\n",
      "55:\tlearn: 57383.5457334\ttest: 63274.6134653\tbest: 63274.6134653 (55)\ttotal: 469ms\tremaining: 368ms\n",
      "56:\tlearn: 57301.4294269\ttest: 63285.1337875\tbest: 63274.6134653 (55)\ttotal: 477ms\tremaining: 360ms\n",
      "57:\tlearn: 57157.9837195\ttest: 63322.1087769\tbest: 63274.6134653 (55)\ttotal: 484ms\tremaining: 351ms\n",
      "58:\tlearn: 57037.3269612\ttest: 63294.3863426\tbest: 63274.6134653 (55)\ttotal: 491ms\tremaining: 341ms\n",
      "59:\tlearn: 56979.2424272\ttest: 63289.1855146\tbest: 63274.6134653 (55)\ttotal: 498ms\tremaining: 332ms\n",
      "60:\tlearn: 56887.2651045\ttest: 63297.8052799\tbest: 63274.6134653 (55)\ttotal: 505ms\tremaining: 323ms\n",
      "61:\tlearn: 56803.2742996\ttest: 63226.5633342\tbest: 63226.5633342 (61)\ttotal: 513ms\tremaining: 314ms\n",
      "62:\tlearn: 56713.9125743\ttest: 63222.4047754\tbest: 63222.4047754 (62)\ttotal: 520ms\tremaining: 305ms\n",
      "63:\tlearn: 56647.0312321\ttest: 63246.4425722\tbest: 63222.4047754 (62)\ttotal: 527ms\tremaining: 296ms\n",
      "64:\tlearn: 56568.1097108\ttest: 63193.5603870\tbest: 63193.5603870 (64)\ttotal: 549ms\tremaining: 296ms\n",
      "65:\tlearn: 56421.2449051\ttest: 63115.5618006\tbest: 63115.5618006 (65)\ttotal: 557ms\tremaining: 287ms\n",
      "66:\tlearn: 56355.2603013\ttest: 63087.7896214\tbest: 63087.7896214 (66)\ttotal: 565ms\tremaining: 279ms\n",
      "67:\tlearn: 56244.1792762\ttest: 63074.0323277\tbest: 63074.0323277 (67)\ttotal: 578ms\tremaining: 272ms\n",
      "68:\tlearn: 56188.0307195\ttest: 63086.5388100\tbest: 63074.0323277 (67)\ttotal: 585ms\tremaining: 263ms\n",
      "69:\tlearn: 56180.1911761\ttest: 63088.9848562\tbest: 63074.0323277 (67)\ttotal: 592ms\tremaining: 254ms\n",
      "70:\tlearn: 56066.5944066\ttest: 63083.1751866\tbest: 63074.0323277 (67)\ttotal: 600ms\tremaining: 245ms\n",
      "71:\tlearn: 55918.6481199\ttest: 63031.5139807\tbest: 63031.5139807 (71)\ttotal: 608ms\tremaining: 236ms\n",
      "72:\tlearn: 55803.5819849\ttest: 62993.1444079\tbest: 62993.1444079 (72)\ttotal: 615ms\tremaining: 228ms\n",
      "73:\tlearn: 55721.9795209\ttest: 62946.0948829\tbest: 62946.0948829 (73)\ttotal: 622ms\tremaining: 219ms\n",
      "74:\tlearn: 55655.9769793\ttest: 62966.9016782\tbest: 62946.0948829 (73)\ttotal: 630ms\tremaining: 210ms\n",
      "75:\tlearn: 55622.0274083\ttest: 62989.9888413\tbest: 62946.0948829 (73)\ttotal: 653ms\tremaining: 206ms\n",
      "76:\tlearn: 55519.9510609\ttest: 63023.4390870\tbest: 62946.0948829 (73)\ttotal: 669ms\tremaining: 200ms\n",
      "77:\tlearn: 55395.5646026\ttest: 63018.2598132\tbest: 62946.0948829 (73)\ttotal: 687ms\tremaining: 194ms\n",
      "78:\tlearn: 55264.3064706\ttest: 62903.3301147\tbest: 62903.3301147 (78)\ttotal: 703ms\tremaining: 187ms\n",
      "79:\tlearn: 55167.6772513\ttest: 62926.7242753\tbest: 62903.3301147 (78)\ttotal: 718ms\tremaining: 179ms\n",
      "80:\tlearn: 55035.5575642\ttest: 62911.8451594\tbest: 62903.3301147 (78)\ttotal: 726ms\tremaining: 170ms\n",
      "81:\tlearn: 54919.1273888\ttest: 62940.1385055\tbest: 62903.3301147 (78)\ttotal: 732ms\tremaining: 161ms\n",
      "82:\tlearn: 54853.4284769\ttest: 62967.4343340\tbest: 62903.3301147 (78)\ttotal: 739ms\tremaining: 151ms\n",
      "83:\tlearn: 54716.8291071\ttest: 62913.0176253\tbest: 62903.3301147 (78)\ttotal: 746ms\tremaining: 142ms\n",
      "84:\tlearn: 54610.1182286\ttest: 62954.2612851\tbest: 62903.3301147 (78)\ttotal: 760ms\tremaining: 134ms\n",
      "85:\tlearn: 54565.7110208\ttest: 62927.7566275\tbest: 62903.3301147 (78)\ttotal: 773ms\tremaining: 126ms\n",
      "86:\tlearn: 54425.9988725\ttest: 62945.1233272\tbest: 62903.3301147 (78)\ttotal: 790ms\tremaining: 118ms\n",
      "87:\tlearn: 54347.5460637\ttest: 62969.4088714\tbest: 62903.3301147 (78)\ttotal: 802ms\tremaining: 109ms\n",
      "88:\tlearn: 54288.6853634\ttest: 62971.2304385\tbest: 62903.3301147 (78)\ttotal: 809ms\tremaining: 100ms\n",
      "89:\tlearn: 54246.4268206\ttest: 62960.3073278\tbest: 62903.3301147 (78)\ttotal: 816ms\tremaining: 90.6ms\n",
      "90:\tlearn: 54129.0234366\ttest: 62951.1131490\tbest: 62903.3301147 (78)\ttotal: 822ms\tremaining: 81.3ms\n",
      "91:\tlearn: 54101.6273591\ttest: 62947.3605915\tbest: 62903.3301147 (78)\ttotal: 829ms\tremaining: 72.1ms\n",
      "92:\tlearn: 54051.5239023\ttest: 62943.0447683\tbest: 62903.3301147 (78)\ttotal: 836ms\tremaining: 62.9ms\n",
      "93:\tlearn: 53973.3176440\ttest: 62987.1731427\tbest: 62903.3301147 (78)\ttotal: 843ms\tremaining: 53.8ms\n",
      "94:\tlearn: 53907.1914979\ttest: 63023.5184414\tbest: 62903.3301147 (78)\ttotal: 850ms\tremaining: 44.8ms\n",
      "95:\tlearn: 53729.0654143\ttest: 62845.4987081\tbest: 62845.4987081 (95)\ttotal: 858ms\tremaining: 35.8ms\n",
      "96:\tlearn: 53586.2570850\ttest: 62839.1034534\tbest: 62839.1034534 (96)\ttotal: 866ms\tremaining: 26.8ms\n",
      "97:\tlearn: 53473.3952577\ttest: 62845.1393396\tbest: 62839.1034534 (96)\ttotal: 874ms\tremaining: 17.8ms\n",
      "98:\tlearn: 53385.9962908\ttest: 62872.7487267\tbest: 62839.1034534 (96)\ttotal: 881ms\tremaining: 8.9ms\n",
      "99:\tlearn: 53309.2049159\ttest: 62851.7801472\tbest: 62839.1034534 (96)\ttotal: 887ms\tremaining: 0us\n",
      "\n",
      "bestTest = 62839.10345\n",
      "bestIteration = 96\n",
      "\n",
      "2:\tloss: 62839.1034534\tbest: 61349.2303137 (0)\ttotal: 3.41s\tremaining: 7.96s\n",
      "0:\tlearn: 98939.9326947\ttest: 99113.9530258\tbest: 99113.9530258 (0)\ttotal: 15.3ms\tremaining: 1.51s\n",
      "1:\tlearn: 81699.2627547\ttest: 82650.5641157\tbest: 82650.5641157 (1)\ttotal: 23.9ms\tremaining: 1.17s\n",
      "2:\tlearn: 75781.3736122\ttest: 77117.2016141\tbest: 77117.2016141 (2)\ttotal: 38.6ms\tremaining: 1.25s\n",
      "3:\tlearn: 72561.2849763\ttest: 73548.6650298\tbest: 73548.6650298 (3)\ttotal: 50ms\tremaining: 1.2s\n",
      "4:\tlearn: 71051.0723561\ttest: 72059.8064587\tbest: 72059.8064587 (4)\ttotal: 69.9ms\tremaining: 1.33s\n",
      "5:\tlearn: 70470.1826007\ttest: 71557.2542681\tbest: 71557.2542681 (5)\ttotal: 84.5ms\tremaining: 1.32s\n",
      "6:\tlearn: 70071.0477857\ttest: 71311.9170377\tbest: 71311.9170377 (6)\ttotal: 92.4ms\tremaining: 1.23s\n",
      "7:\tlearn: 68843.6735567\ttest: 70092.1468925\tbest: 70092.1468925 (7)\ttotal: 99.9ms\tremaining: 1.15s\n",
      "8:\tlearn: 68312.7178054\ttest: 69720.9038222\tbest: 69720.9038222 (8)\ttotal: 109ms\tremaining: 1.1s\n",
      "9:\tlearn: 68052.0433471\ttest: 69536.8251231\tbest: 69536.8251231 (9)\ttotal: 119ms\tremaining: 1.07s\n",
      "10:\tlearn: 67428.2672938\ttest: 68739.1879897\tbest: 68739.1879897 (10)\ttotal: 132ms\tremaining: 1.06s\n",
      "11:\tlearn: 66612.6296722\ttest: 68018.7474856\tbest: 68018.7474856 (11)\ttotal: 145ms\tremaining: 1.06s\n",
      "12:\tlearn: 66301.9030832\ttest: 67930.2580773\tbest: 67930.2580773 (12)\ttotal: 155ms\tremaining: 1.03s\n",
      "13:\tlearn: 65953.6295442\ttest: 67552.6063108\tbest: 67552.6063108 (13)\ttotal: 164ms\tremaining: 1.01s\n",
      "14:\tlearn: 65480.2093739\ttest: 67135.0921166\tbest: 67135.0921166 (14)\ttotal: 172ms\tremaining: 973ms\n",
      "15:\tlearn: 65182.8222389\ttest: 66837.5918106\tbest: 66837.5918106 (15)\ttotal: 179ms\tremaining: 941ms\n",
      "16:\tlearn: 64935.7819892\ttest: 66736.2941591\tbest: 66736.2941591 (16)\ttotal: 186ms\tremaining: 910ms\n",
      "17:\tlearn: 64639.0636172\ttest: 66494.4844018\tbest: 66494.4844018 (17)\ttotal: 195ms\tremaining: 888ms\n",
      "18:\tlearn: 64180.6030427\ttest: 65978.2243993\tbest: 65978.2243993 (18)\ttotal: 202ms\tremaining: 863ms\n",
      "19:\tlearn: 63799.0730945\ttest: 65794.1798082\tbest: 65794.1798082 (19)\ttotal: 211ms\tremaining: 844ms\n",
      "20:\tlearn: 63245.1418566\ttest: 65492.7022471\tbest: 65492.7022471 (20)\ttotal: 219ms\tremaining: 825ms\n",
      "21:\tlearn: 62939.7004221\ttest: 65300.1555221\tbest: 65300.1555221 (21)\ttotal: 227ms\tremaining: 806ms\n",
      "22:\tlearn: 62682.6205482\ttest: 65229.8763746\tbest: 65229.8763746 (22)\ttotal: 235ms\tremaining: 788ms\n",
      "23:\tlearn: 62215.5457580\ttest: 64786.5464708\tbest: 64786.5464708 (23)\ttotal: 260ms\tremaining: 824ms\n",
      "24:\tlearn: 62013.6011808\ttest: 64540.6455371\tbest: 64540.6455371 (24)\ttotal: 271ms\tremaining: 814ms\n",
      "25:\tlearn: 61702.3960299\ttest: 64276.7146751\tbest: 64276.7146751 (25)\ttotal: 283ms\tremaining: 804ms\n",
      "26:\tlearn: 61616.3707695\ttest: 64243.8311074\tbest: 64243.8311074 (26)\ttotal: 296ms\tremaining: 801ms\n",
      "27:\tlearn: 61394.7471588\ttest: 64182.4421244\tbest: 64182.4421244 (27)\ttotal: 303ms\tremaining: 780ms\n",
      "28:\tlearn: 61295.1304036\ttest: 64148.7147268\tbest: 64148.7147268 (28)\ttotal: 310ms\tremaining: 759ms\n",
      "29:\tlearn: 61077.5515376\ttest: 64191.3517400\tbest: 64148.7147268 (28)\ttotal: 317ms\tremaining: 739ms\n",
      "30:\tlearn: 60858.9506795\ttest: 64088.3614419\tbest: 64088.3614419 (30)\ttotal: 324ms\tremaining: 721ms\n",
      "31:\tlearn: 60692.7908091\ttest: 63985.0656854\tbest: 63985.0656854 (31)\ttotal: 331ms\tremaining: 703ms\n",
      "32:\tlearn: 60482.8593750\ttest: 63913.0577535\tbest: 63913.0577535 (32)\ttotal: 338ms\tremaining: 687ms\n",
      "33:\tlearn: 60353.0904085\ttest: 63834.0936955\tbest: 63834.0936955 (33)\ttotal: 347ms\tremaining: 673ms\n",
      "34:\tlearn: 60263.6898583\ttest: 63879.5571376\tbest: 63834.0936955 (33)\ttotal: 354ms\tremaining: 657ms\n",
      "35:\tlearn: 60115.6260472\ttest: 63838.8957113\tbest: 63834.0936955 (33)\ttotal: 361ms\tremaining: 642ms\n",
      "36:\tlearn: 59964.9157055\ttest: 63776.7043052\tbest: 63776.7043052 (36)\ttotal: 369ms\tremaining: 628ms\n",
      "37:\tlearn: 59847.2515333\ttest: 63761.7088573\tbest: 63761.7088573 (37)\ttotal: 377ms\tremaining: 615ms\n",
      "38:\tlearn: 59738.9577432\ttest: 63784.5584789\tbest: 63761.7088573 (37)\ttotal: 385ms\tremaining: 602ms\n",
      "39:\tlearn: 59503.3367980\ttest: 63636.4069069\tbest: 63636.4069069 (39)\ttotal: 393ms\tremaining: 589ms\n",
      "40:\tlearn: 59345.3845124\ttest: 63613.4082362\tbest: 63613.4082362 (40)\ttotal: 405ms\tremaining: 583ms\n",
      "41:\tlearn: 59334.8491891\ttest: 63617.2982293\tbest: 63613.4082362 (40)\ttotal: 423ms\tremaining: 584ms\n",
      "42:\tlearn: 59111.3781159\ttest: 63320.4998135\tbest: 63320.4998135 (42)\ttotal: 431ms\tremaining: 572ms\n",
      "43:\tlearn: 58988.0279112\ttest: 63326.2098870\tbest: 63320.4998135 (42)\ttotal: 440ms\tremaining: 560ms\n",
      "44:\tlearn: 58895.1545073\ttest: 63207.4024710\tbest: 63207.4024710 (44)\ttotal: 447ms\tremaining: 546ms\n",
      "45:\tlearn: 58874.7924897\ttest: 63195.7452890\tbest: 63195.7452890 (45)\ttotal: 453ms\tremaining: 532ms\n",
      "46:\tlearn: 58779.4720123\ttest: 63173.9158809\tbest: 63173.9158809 (46)\ttotal: 459ms\tremaining: 517ms\n",
      "47:\tlearn: 58648.1651445\ttest: 63151.5071647\tbest: 63151.5071647 (47)\ttotal: 468ms\tremaining: 506ms\n",
      "48:\tlearn: 58569.2160262\ttest: 63116.9657162\tbest: 63116.9657162 (48)\ttotal: 474ms\tremaining: 494ms\n",
      "49:\tlearn: 58408.7405804\ttest: 63103.6434410\tbest: 63103.6434410 (49)\ttotal: 481ms\tremaining: 481ms\n",
      "50:\tlearn: 58216.5068812\ttest: 63057.7813357\tbest: 63057.7813357 (50)\ttotal: 489ms\tremaining: 469ms\n",
      "51:\tlearn: 58001.3858390\ttest: 63045.7279533\tbest: 63045.7279533 (51)\ttotal: 495ms\tremaining: 457ms\n",
      "52:\tlearn: 57912.8174733\ttest: 63054.1691405\tbest: 63045.7279533 (51)\ttotal: 502ms\tremaining: 445ms\n",
      "53:\tlearn: 57793.1662418\ttest: 63053.3527082\tbest: 63045.7279533 (51)\ttotal: 515ms\tremaining: 438ms\n",
      "54:\tlearn: 57709.0656199\ttest: 63075.9759992\tbest: 63045.7279533 (51)\ttotal: 521ms\tremaining: 426ms\n",
      "55:\tlearn: 57613.3441351\ttest: 63004.7339495\tbest: 63004.7339495 (55)\ttotal: 528ms\tremaining: 415ms\n",
      "56:\tlearn: 57511.0076523\ttest: 63021.2517982\tbest: 63004.7339495 (55)\ttotal: 535ms\tremaining: 403ms\n",
      "57:\tlearn: 57406.2540314\ttest: 63023.0852966\tbest: 63004.7339495 (55)\ttotal: 541ms\tremaining: 392ms\n",
      "58:\tlearn: 57289.1189740\ttest: 63016.2749023\tbest: 63004.7339495 (55)\ttotal: 548ms\tremaining: 381ms\n",
      "59:\tlearn: 57200.9523069\ttest: 62983.1139267\tbest: 62983.1139267 (59)\ttotal: 554ms\tremaining: 369ms\n",
      "60:\tlearn: 57103.4115008\ttest: 62933.3126996\tbest: 62933.3126996 (60)\ttotal: 566ms\tremaining: 362ms\n",
      "61:\tlearn: 57097.1840060\ttest: 62937.7708109\tbest: 62933.3126996 (60)\ttotal: 579ms\tremaining: 355ms\n",
      "62:\tlearn: 56993.4907982\ttest: 62807.2205147\tbest: 62807.2205147 (62)\ttotal: 598ms\tremaining: 351ms\n",
      "63:\tlearn: 56866.7539855\ttest: 62729.9899051\tbest: 62729.9899051 (63)\ttotal: 604ms\tremaining: 340ms\n",
      "64:\tlearn: 56787.1691428\ttest: 62734.5679348\tbest: 62729.9899051 (63)\ttotal: 618ms\tremaining: 333ms\n",
      "65:\tlearn: 56688.2044878\ttest: 62813.7445447\tbest: 62729.9899051 (63)\ttotal: 625ms\tremaining: 322ms\n",
      "66:\tlearn: 56647.1698139\ttest: 62745.4543361\tbest: 62729.9899051 (63)\ttotal: 631ms\tremaining: 311ms\n",
      "67:\tlearn: 56515.7923059\ttest: 62756.4541770\tbest: 62729.9899051 (63)\ttotal: 638ms\tremaining: 300ms\n",
      "68:\tlearn: 56437.0022775\ttest: 62779.7571590\tbest: 62729.9899051 (63)\ttotal: 646ms\tremaining: 290ms\n",
      "69:\tlearn: 56381.4183293\ttest: 62777.5270245\tbest: 62729.9899051 (63)\ttotal: 652ms\tremaining: 280ms\n",
      "70:\tlearn: 56253.0188539\ttest: 62734.3208396\tbest: 62729.9899051 (63)\ttotal: 659ms\tremaining: 269ms\n",
      "71:\tlearn: 56189.2922836\ttest: 62727.1381774\tbest: 62727.1381774 (71)\ttotal: 665ms\tremaining: 259ms\n",
      "72:\tlearn: 56110.8628137\ttest: 62744.9368159\tbest: 62727.1381774 (71)\ttotal: 673ms\tremaining: 249ms\n",
      "73:\tlearn: 55943.4597919\ttest: 62737.2785888\tbest: 62727.1381774 (71)\ttotal: 679ms\tremaining: 239ms\n",
      "74:\tlearn: 55782.3995868\ttest: 62574.3044901\tbest: 62574.3044901 (74)\ttotal: 686ms\tremaining: 229ms\n",
      "75:\tlearn: 55738.8508667\ttest: 62552.4709570\tbest: 62552.4709570 (75)\ttotal: 692ms\tremaining: 218ms\n",
      "76:\tlearn: 55631.7769485\ttest: 62490.8764222\tbest: 62490.8764222 (76)\ttotal: 698ms\tremaining: 208ms\n",
      "77:\tlearn: 55493.0626507\ttest: 62434.0620601\tbest: 62434.0620601 (77)\ttotal: 709ms\tremaining: 200ms\n",
      "78:\tlearn: 55405.1891135\ttest: 62456.4272962\tbest: 62434.0620601 (77)\ttotal: 716ms\tremaining: 190ms\n",
      "79:\tlearn: 55346.5278301\ttest: 62437.8735884\tbest: 62434.0620601 (77)\ttotal: 724ms\tremaining: 181ms\n",
      "80:\tlearn: 55263.8152540\ttest: 62438.1582130\tbest: 62434.0620601 (77)\ttotal: 730ms\tremaining: 171ms\n",
      "81:\tlearn: 55192.2217568\ttest: 62409.8023643\tbest: 62409.8023643 (81)\ttotal: 737ms\tremaining: 162ms\n",
      "82:\tlearn: 55100.3356037\ttest: 62433.5427962\tbest: 62409.8023643 (81)\ttotal: 749ms\tremaining: 153ms\n",
      "83:\tlearn: 54985.0407396\ttest: 62399.3288504\tbest: 62399.3288504 (83)\ttotal: 759ms\tremaining: 145ms\n",
      "84:\tlearn: 54939.0429961\ttest: 62400.0282953\tbest: 62399.3288504 (83)\ttotal: 769ms\tremaining: 136ms\n",
      "85:\tlearn: 54845.0830259\ttest: 62369.2998570\tbest: 62369.2998570 (85)\ttotal: 779ms\tremaining: 127ms\n",
      "86:\tlearn: 54843.2087866\ttest: 62369.2781749\tbest: 62369.2781749 (86)\ttotal: 789ms\tremaining: 118ms\n",
      "87:\tlearn: 54812.8074982\ttest: 62378.8197373\tbest: 62369.2781749 (86)\ttotal: 799ms\tremaining: 109ms\n",
      "88:\tlearn: 54755.1832537\ttest: 62362.3789983\tbest: 62362.3789983 (88)\ttotal: 810ms\tremaining: 100ms\n",
      "89:\tlearn: 54679.3536091\ttest: 62331.6655535\tbest: 62331.6655535 (89)\ttotal: 817ms\tremaining: 90.8ms\n",
      "90:\tlearn: 54584.2401935\ttest: 62251.3381334\tbest: 62251.3381334 (90)\ttotal: 823ms\tremaining: 81.4ms\n",
      "91:\tlearn: 54477.9726029\ttest: 62206.1826665\tbest: 62206.1826665 (91)\ttotal: 830ms\tremaining: 72.1ms\n",
      "92:\tlearn: 54455.8196250\ttest: 62191.3253668\tbest: 62191.3253668 (92)\ttotal: 836ms\tremaining: 62.9ms\n",
      "93:\tlearn: 54363.4844844\ttest: 62163.5573295\tbest: 62163.5573295 (93)\ttotal: 843ms\tremaining: 53.8ms\n",
      "94:\tlearn: 54310.7106193\ttest: 62160.2123125\tbest: 62160.2123125 (94)\ttotal: 850ms\tremaining: 44.7ms\n",
      "95:\tlearn: 54273.6710939\ttest: 62152.2787872\tbest: 62152.2787872 (95)\ttotal: 856ms\tremaining: 35.7ms\n",
      "96:\tlearn: 54218.4569705\ttest: 62133.8814306\tbest: 62133.8814306 (96)\ttotal: 862ms\tremaining: 26.7ms\n",
      "97:\tlearn: 54161.2124288\ttest: 62126.8393453\tbest: 62126.8393453 (97)\ttotal: 869ms\tremaining: 17.7ms\n",
      "98:\tlearn: 54038.1920777\ttest: 62135.2473525\tbest: 62126.8393453 (97)\ttotal: 876ms\tremaining: 8.85ms\n",
      "99:\tlearn: 53972.6826525\ttest: 62157.2132246\tbest: 62126.8393453 (97)\ttotal: 883ms\tremaining: 0us\n",
      "\n",
      "bestTest = 62126.83935\n",
      "bestIteration = 97\n",
      "\n",
      "3:\tloss: 62126.8393453\tbest: 61349.2303137 (0)\ttotal: 4.31s\tremaining: 6.46s\n",
      "0:\tlearn: 108865.9534668\ttest: 109592.2026050\tbest: 109592.2026050 (0)\ttotal: 17.6ms\tremaining: 1.74s\n",
      "1:\tlearn: 80233.3592302\ttest: 80808.5247872\tbest: 80808.5247872 (1)\ttotal: 34.9ms\tremaining: 1.71s\n",
      "2:\tlearn: 73010.4601850\ttest: 73888.0568640\tbest: 73888.0568640 (2)\ttotal: 51.6ms\tremaining: 1.67s\n",
      "3:\tlearn: 70792.6138385\ttest: 72135.4819303\tbest: 72135.4819303 (3)\ttotal: 67.3ms\tremaining: 1.61s\n",
      "4:\tlearn: 69639.1690968\ttest: 71007.3180882\tbest: 71007.3180882 (4)\ttotal: 81.6ms\tremaining: 1.55s\n",
      "5:\tlearn: 68788.7569254\ttest: 70326.9154441\tbest: 70326.9154441 (5)\ttotal: 110ms\tremaining: 1.73s\n",
      "6:\tlearn: 67908.4822607\ttest: 69663.9575093\tbest: 69663.9575093 (6)\ttotal: 136ms\tremaining: 1.8s\n",
      "7:\tlearn: 67311.1421937\ttest: 69164.8496296\tbest: 69164.8496296 (7)\ttotal: 152ms\tremaining: 1.74s\n",
      "8:\tlearn: 66404.3588271\ttest: 68338.8747138\tbest: 68338.8747138 (8)\ttotal: 166ms\tremaining: 1.68s\n",
      "9:\tlearn: 65254.8021101\ttest: 67419.5312837\tbest: 67419.5312837 (9)\ttotal: 182ms\tremaining: 1.64s\n",
      "10:\tlearn: 64994.8769384\ttest: 67301.6255171\tbest: 67301.6255171 (10)\ttotal: 196ms\tremaining: 1.58s\n",
      "11:\tlearn: 64537.9754878\ttest: 67044.9260181\tbest: 67044.9260181 (11)\ttotal: 212ms\tremaining: 1.56s\n",
      "12:\tlearn: 64133.6864438\ttest: 66810.0833803\tbest: 66810.0833803 (12)\ttotal: 227ms\tremaining: 1.52s\n",
      "13:\tlearn: 64128.8730778\ttest: 66810.1809353\tbest: 66810.0833803 (12)\ttotal: 233ms\tremaining: 1.43s\n",
      "14:\tlearn: 63508.4216204\ttest: 66245.8303727\tbest: 66245.8303727 (14)\ttotal: 247ms\tremaining: 1.4s\n",
      "15:\tlearn: 62850.5187992\ttest: 65777.0565211\tbest: 65777.0565211 (15)\ttotal: 268ms\tremaining: 1.41s\n",
      "16:\tlearn: 62442.2342442\ttest: 65606.5620230\tbest: 65606.5620230 (16)\ttotal: 284ms\tremaining: 1.38s\n",
      "17:\tlearn: 62170.6794664\ttest: 65445.3936399\tbest: 65445.3936399 (17)\ttotal: 298ms\tremaining: 1.36s\n",
      "18:\tlearn: 61808.2144026\ttest: 65283.3422475\tbest: 65283.3422475 (18)\ttotal: 313ms\tremaining: 1.34s\n",
      "19:\tlearn: 61543.8454306\ttest: 65059.1644071\tbest: 65059.1644071 (19)\ttotal: 328ms\tremaining: 1.31s\n",
      "20:\tlearn: 61239.0087499\ttest: 64840.3603499\tbest: 64840.3603499 (20)\ttotal: 342ms\tremaining: 1.28s\n",
      "21:\tlearn: 60933.6596270\ttest: 64720.3283020\tbest: 64720.3283020 (21)\ttotal: 362ms\tremaining: 1.28s\n",
      "22:\tlearn: 60488.0444026\ttest: 64560.2869239\tbest: 64560.2869239 (22)\ttotal: 390ms\tremaining: 1.3s\n",
      "23:\tlearn: 60208.8982678\ttest: 64421.0677431\tbest: 64421.0677431 (23)\ttotal: 421ms\tremaining: 1.33s\n",
      "24:\tlearn: 60045.2929888\ttest: 64387.8880595\tbest: 64387.8880595 (24)\ttotal: 453ms\tremaining: 1.36s\n",
      "25:\tlearn: 59796.1111027\ttest: 64335.7446492\tbest: 64335.7446492 (25)\ttotal: 479ms\tremaining: 1.36s\n",
      "26:\tlearn: 59554.1112958\ttest: 64285.2786083\tbest: 64285.2786083 (26)\ttotal: 503ms\tremaining: 1.36s\n",
      "27:\tlearn: 59201.9365031\ttest: 64085.3625642\tbest: 64085.3625642 (27)\ttotal: 535ms\tremaining: 1.38s\n",
      "28:\tlearn: 59065.8892316\ttest: 63973.3152129\tbest: 63973.3152129 (28)\ttotal: 551ms\tremaining: 1.35s\n",
      "29:\tlearn: 59062.3826282\ttest: 63973.2375927\tbest: 63973.2375927 (29)\ttotal: 567ms\tremaining: 1.32s\n",
      "30:\tlearn: 58642.0809037\ttest: 63812.3549560\tbest: 63812.3549560 (30)\ttotal: 603ms\tremaining: 1.34s\n",
      "31:\tlearn: 58607.3200286\ttest: 63784.4699539\tbest: 63784.4699539 (31)\ttotal: 621ms\tremaining: 1.32s\n",
      "32:\tlearn: 58556.0437831\ttest: 63734.0023307\tbest: 63734.0023307 (32)\ttotal: 635ms\tremaining: 1.29s\n",
      "33:\tlearn: 58304.1524873\ttest: 63572.1607599\tbest: 63572.1607599 (33)\ttotal: 651ms\tremaining: 1.26s\n",
      "34:\tlearn: 57964.1644126\ttest: 63511.0686465\tbest: 63511.0686465 (34)\ttotal: 668ms\tremaining: 1.24s\n",
      "35:\tlearn: 57760.9000165\ttest: 63445.6006883\tbest: 63445.6006883 (35)\ttotal: 683ms\tremaining: 1.21s\n",
      "36:\tlearn: 57569.3791336\ttest: 63385.2135352\tbest: 63385.2135352 (36)\ttotal: 698ms\tremaining: 1.19s\n",
      "37:\tlearn: 57398.1066922\ttest: 63291.7169050\tbest: 63291.7169050 (37)\ttotal: 713ms\tremaining: 1.16s\n",
      "38:\tlearn: 57073.9648976\ttest: 63270.6617875\tbest: 63270.6617875 (38)\ttotal: 728ms\tremaining: 1.14s\n",
      "39:\tlearn: 56882.4907958\ttest: 63285.3870893\tbest: 63270.6617875 (38)\ttotal: 742ms\tremaining: 1.11s\n",
      "40:\tlearn: 56768.5741415\ttest: 63309.0425029\tbest: 63270.6617875 (38)\ttotal: 756ms\tremaining: 1.09s\n",
      "41:\tlearn: 56527.6648299\ttest: 63296.5942507\tbest: 63270.6617875 (38)\ttotal: 771ms\tremaining: 1.06s\n",
      "42:\tlearn: 56403.3497427\ttest: 63265.7880462\tbest: 63265.7880462 (42)\ttotal: 785ms\tremaining: 1.04s\n",
      "43:\tlearn: 56245.3584436\ttest: 63237.4985851\tbest: 63237.4985851 (43)\ttotal: 799ms\tremaining: 1.02s\n",
      "44:\tlearn: 56086.7891128\ttest: 63255.9293219\tbest: 63237.4985851 (43)\ttotal: 814ms\tremaining: 995ms\n",
      "45:\tlearn: 56000.6723001\ttest: 63065.6184309\tbest: 63065.6184309 (45)\ttotal: 828ms\tremaining: 972ms\n",
      "46:\tlearn: 55751.3312868\ttest: 62995.9615332\tbest: 62995.9615332 (46)\ttotal: 842ms\tremaining: 949ms\n",
      "47:\tlearn: 55743.2623812\ttest: 62994.5492022\tbest: 62994.5492022 (47)\ttotal: 856ms\tremaining: 927ms\n",
      "48:\tlearn: 55595.3629438\ttest: 62964.9557704\tbest: 62964.9557704 (48)\ttotal: 870ms\tremaining: 906ms\n",
      "49:\tlearn: 55455.1780023\ttest: 62859.7814345\tbest: 62859.7814345 (49)\ttotal: 884ms\tremaining: 884ms\n",
      "50:\tlearn: 55304.8813469\ttest: 62763.9610986\tbest: 62763.9610986 (50)\ttotal: 898ms\tremaining: 863ms\n",
      "51:\tlearn: 55228.6908984\ttest: 62745.1207610\tbest: 62745.1207610 (51)\ttotal: 912ms\tremaining: 842ms\n",
      "52:\tlearn: 55077.7227531\ttest: 62754.3341557\tbest: 62745.1207610 (51)\ttotal: 928ms\tremaining: 823ms\n",
      "53:\tlearn: 54873.3452870\ttest: 62708.2051984\tbest: 62708.2051984 (53)\ttotal: 942ms\tremaining: 803ms\n",
      "54:\tlearn: 54808.4375286\ttest: 62678.7848355\tbest: 62678.7848355 (54)\ttotal: 957ms\tremaining: 783ms\n",
      "55:\tlearn: 54667.3456804\ttest: 62696.0578790\tbest: 62678.7848355 (54)\ttotal: 971ms\tremaining: 763ms\n",
      "56:\tlearn: 54422.4058536\ttest: 62721.2408409\tbest: 62678.7848355 (54)\ttotal: 985ms\tremaining: 743ms\n",
      "57:\tlearn: 54306.0319412\ttest: 62763.5983484\tbest: 62678.7848355 (54)\ttotal: 999ms\tremaining: 723ms\n",
      "58:\tlearn: 54178.9863662\ttest: 62759.2429357\tbest: 62678.7848355 (54)\ttotal: 1.01s\tremaining: 704ms\n",
      "59:\tlearn: 53977.3855462\ttest: 62669.4461448\tbest: 62669.4461448 (59)\ttotal: 1.03s\tremaining: 686ms\n",
      "60:\tlearn: 53821.0610033\ttest: 62645.8583087\tbest: 62645.8583087 (60)\ttotal: 1.04s\tremaining: 667ms\n",
      "61:\tlearn: 53590.9319991\ttest: 62505.8840371\tbest: 62505.8840371 (61)\ttotal: 1.06s\tremaining: 649ms\n",
      "62:\tlearn: 53586.5065329\ttest: 62504.4325740\tbest: 62504.4325740 (62)\ttotal: 1.07s\tremaining: 629ms\n",
      "63:\tlearn: 53561.5291964\ttest: 62522.4977209\tbest: 62504.4325740 (62)\ttotal: 1.08s\tremaining: 610ms\n",
      "64:\tlearn: 53441.1555049\ttest: 62454.3791466\tbest: 62454.3791466 (64)\ttotal: 1.1s\tremaining: 592ms\n",
      "65:\tlearn: 53292.4461929\ttest: 62445.9007156\tbest: 62445.9007156 (65)\ttotal: 1.11s\tremaining: 574ms\n",
      "66:\tlearn: 53108.3629091\ttest: 62367.2603129\tbest: 62367.2603129 (66)\ttotal: 1.13s\tremaining: 556ms\n",
      "67:\tlearn: 53020.2400511\ttest: 62383.6336401\tbest: 62367.2603129 (66)\ttotal: 1.14s\tremaining: 538ms\n",
      "68:\tlearn: 52835.0958535\ttest: 62263.6897826\tbest: 62263.6897826 (68)\ttotal: 1.16s\tremaining: 521ms\n",
      "69:\tlearn: 52642.3115147\ttest: 62177.2732977\tbest: 62177.2732977 (69)\ttotal: 1.18s\tremaining: 504ms\n",
      "70:\tlearn: 52424.0500740\ttest: 62147.5958654\tbest: 62147.5958654 (70)\ttotal: 1.19s\tremaining: 487ms\n",
      "71:\tlearn: 52242.5555778\ttest: 62159.2638112\tbest: 62147.5958654 (70)\ttotal: 1.21s\tremaining: 470ms\n",
      "72:\tlearn: 52087.5389488\ttest: 62104.2778494\tbest: 62104.2778494 (72)\ttotal: 1.22s\tremaining: 453ms\n",
      "73:\tlearn: 51934.8588898\ttest: 62057.8214239\tbest: 62057.8214239 (73)\ttotal: 1.24s\tremaining: 436ms\n",
      "74:\tlearn: 51893.2569718\ttest: 62044.0982536\tbest: 62044.0982536 (74)\ttotal: 1.25s\tremaining: 418ms\n",
      "75:\tlearn: 51663.0230210\ttest: 62057.3414614\tbest: 62044.0982536 (74)\ttotal: 1.27s\tremaining: 401ms\n",
      "76:\tlearn: 51518.9716267\ttest: 62064.1365990\tbest: 62044.0982536 (74)\ttotal: 1.28s\tremaining: 384ms\n",
      "77:\tlearn: 51409.9791960\ttest: 62042.6853135\tbest: 62042.6853135 (77)\ttotal: 1.3s\tremaining: 367ms\n",
      "78:\tlearn: 51235.8098452\ttest: 62034.2180601\tbest: 62034.2180601 (78)\ttotal: 1.31s\tremaining: 350ms\n",
      "79:\tlearn: 51017.7480867\ttest: 62033.9456435\tbest: 62033.9456435 (79)\ttotal: 1.33s\tremaining: 333ms\n",
      "80:\tlearn: 50908.4194448\ttest: 62074.6962096\tbest: 62033.9456435 (79)\ttotal: 1.35s\tremaining: 317ms\n",
      "81:\tlearn: 50815.6840459\ttest: 62120.0271748\tbest: 62033.9456435 (79)\ttotal: 1.37s\tremaining: 301ms\n",
      "82:\tlearn: 50742.4983100\ttest: 62026.9376828\tbest: 62026.9376828 (82)\ttotal: 1.39s\tremaining: 284ms\n",
      "83:\tlearn: 50690.2204844\ttest: 61995.8508727\tbest: 61995.8508727 (83)\ttotal: 1.4s\tremaining: 267ms\n",
      "84:\tlearn: 50620.4298370\ttest: 61993.2685650\tbest: 61993.2685650 (84)\ttotal: 1.42s\tremaining: 251ms\n",
      "85:\tlearn: 50485.5255663\ttest: 61975.0352054\tbest: 61975.0352054 (85)\ttotal: 1.45s\tremaining: 236ms\n",
      "86:\tlearn: 50408.1648476\ttest: 62000.5605686\tbest: 61975.0352054 (85)\ttotal: 1.47s\tremaining: 220ms\n",
      "87:\tlearn: 50286.9840527\ttest: 62003.9634570\tbest: 61975.0352054 (85)\ttotal: 1.51s\tremaining: 206ms\n",
      "88:\tlearn: 50130.2828598\ttest: 61967.6049810\tbest: 61967.6049810 (88)\ttotal: 1.54s\tremaining: 190ms\n",
      "89:\tlearn: 50127.9927446\ttest: 61967.3928725\tbest: 61967.3928725 (89)\ttotal: 1.56s\tremaining: 174ms\n",
      "90:\tlearn: 50044.3413569\ttest: 61996.8415055\tbest: 61967.3928725 (89)\ttotal: 1.61s\tremaining: 160ms\n",
      "91:\tlearn: 49794.3719704\ttest: 61922.3824773\tbest: 61922.3824773 (91)\ttotal: 1.65s\tremaining: 143ms\n",
      "92:\tlearn: 49709.2962813\ttest: 61886.9095762\tbest: 61886.9095762 (92)\ttotal: 1.67s\tremaining: 126ms\n",
      "93:\tlearn: 49658.7331649\ttest: 61900.9863213\tbest: 61886.9095762 (92)\ttotal: 1.72s\tremaining: 109ms\n",
      "94:\tlearn: 49603.8367430\ttest: 61880.8968001\tbest: 61880.8968001 (94)\ttotal: 1.74s\tremaining: 91.4ms\n",
      "95:\tlearn: 49602.1079433\ttest: 61884.4037164\tbest: 61880.8968001 (94)\ttotal: 1.8s\tremaining: 74.9ms\n",
      "96:\tlearn: 49474.3720277\ttest: 61849.2370060\tbest: 61849.2370060 (96)\ttotal: 1.84s\tremaining: 56.9ms\n",
      "97:\tlearn: 49334.6207077\ttest: 61867.7411245\tbest: 61849.2370060 (96)\ttotal: 1.87s\tremaining: 38.2ms\n",
      "98:\tlearn: 49152.8033231\ttest: 61836.4202513\tbest: 61836.4202513 (98)\ttotal: 1.93s\tremaining: 19.5ms\n",
      "99:\tlearn: 49065.6430226\ttest: 61845.3144577\tbest: 61836.4202513 (98)\ttotal: 1.96s\tremaining: 0us\n",
      "\n",
      "bestTest = 61836.42025\n",
      "bestIteration = 98\n",
      "\n",
      "4:\tloss: 61836.4202513\tbest: 61349.2303137 (0)\ttotal: 6.28s\tremaining: 6.28s\n",
      "0:\tlearn: 434327.6272452\ttest: 434807.5162397\tbest: 434807.5162397 (0)\ttotal: 27ms\tremaining: 2.67s\n",
      "1:\tlearn: 430211.7376391\ttest: 430691.1642291\tbest: 430691.1642291 (1)\ttotal: 57.4ms\tremaining: 2.81s\n",
      "2:\tlearn: 426185.2979289\ttest: 426669.3871655\tbest: 426669.3871655 (2)\ttotal: 84.6ms\tremaining: 2.73s\n",
      "3:\tlearn: 422155.8815454\ttest: 422636.7309834\tbest: 422636.7309834 (3)\ttotal: 129ms\tremaining: 3.1s\n",
      "4:\tlearn: 418204.8085355\ttest: 418683.6823737\tbest: 418683.6823737 (4)\ttotal: 138ms\tremaining: 2.62s\n",
      "5:\tlearn: 414298.2490400\ttest: 414775.6141226\tbest: 414775.6141226 (5)\ttotal: 167ms\tremaining: 2.61s\n",
      "6:\tlearn: 410430.9404572\ttest: 410908.6249735\tbest: 410908.6249735 (6)\ttotal: 204ms\tremaining: 2.71s\n",
      "7:\tlearn: 406605.4656513\ttest: 407080.4306834\tbest: 407080.4306834 (7)\ttotal: 211ms\tremaining: 2.42s\n",
      "8:\tlearn: 402790.4380061\ttest: 403267.1605221\tbest: 403267.1605221 (8)\ttotal: 239ms\tremaining: 2.41s\n",
      "9:\tlearn: 399007.5792201\ttest: 399479.4585796\tbest: 399479.4585796 (9)\ttotal: 266ms\tremaining: 2.39s\n",
      "10:\tlearn: 395258.7351023\ttest: 395732.3896752\tbest: 395732.3896752 (10)\ttotal: 286ms\tremaining: 2.31s\n",
      "11:\tlearn: 391535.8771609\ttest: 392013.6282404\tbest: 392013.6282404 (11)\ttotal: 329ms\tremaining: 2.41s\n",
      "12:\tlearn: 387886.4512751\ttest: 388373.2025104\tbest: 388373.2025104 (12)\ttotal: 360ms\tremaining: 2.41s\n",
      "13:\tlearn: 384296.9880045\ttest: 384780.4352710\tbest: 384780.4352710 (13)\ttotal: 378ms\tremaining: 2.32s\n",
      "14:\tlearn: 380697.2275986\ttest: 381185.5696504\tbest: 381185.5696504 (14)\ttotal: 429ms\tremaining: 2.43s\n",
      "15:\tlearn: 377150.8548883\ttest: 377648.3202031\tbest: 377648.3202031 (15)\ttotal: 462ms\tremaining: 2.42s\n",
      "16:\tlearn: 373637.4236574\ttest: 374134.5535081\tbest: 374134.5535081 (16)\ttotal: 527ms\tremaining: 2.57s\n",
      "17:\tlearn: 370157.8940571\ttest: 370658.9828221\tbest: 370658.9828221 (17)\ttotal: 544ms\tremaining: 2.48s\n",
      "18:\tlearn: 366721.5281250\ttest: 367227.2043653\tbest: 367227.2043653 (18)\ttotal: 575ms\tremaining: 2.45s\n",
      "19:\tlearn: 363314.1674643\ttest: 363824.0171115\tbest: 363824.0171115 (19)\ttotal: 621ms\tremaining: 2.48s\n",
      "20:\tlearn: 359985.5057654\ttest: 360492.8360124\tbest: 360492.8360124 (20)\ttotal: 636ms\tremaining: 2.39s\n",
      "21:\tlearn: 356640.5737126\ttest: 357143.9386617\tbest: 357143.9386617 (21)\ttotal: 650ms\tremaining: 2.31s\n",
      "22:\tlearn: 353308.1327422\ttest: 353813.6147550\tbest: 353813.6147550 (22)\ttotal: 682ms\tremaining: 2.28s\n",
      "23:\tlearn: 350080.8529693\ttest: 350584.1150885\tbest: 350584.1150885 (23)\ttotal: 689ms\tremaining: 2.18s\n",
      "24:\tlearn: 346831.8133055\ttest: 347331.9660058\tbest: 347331.9660058 (24)\ttotal: 743ms\tremaining: 2.23s\n",
      "25:\tlearn: 343623.8423168\ttest: 344126.6865029\tbest: 344126.6865029 (25)\ttotal: 771ms\tremaining: 2.19s\n",
      "26:\tlearn: 340446.2967776\ttest: 340941.7746340\tbest: 340941.7746340 (26)\ttotal: 797ms\tremaining: 2.15s\n",
      "27:\tlearn: 337305.1430006\ttest: 337794.7785510\tbest: 337794.7785510 (27)\ttotal: 843ms\tremaining: 2.17s\n",
      "28:\tlearn: 334201.0959811\ttest: 334692.8383902\tbest: 334692.8383902 (28)\ttotal: 896ms\tremaining: 2.19s\n",
      "29:\tlearn: 331189.0577030\ttest: 331678.8285541\tbest: 331678.8285541 (29)\ttotal: 958ms\tremaining: 2.23s\n",
      "30:\tlearn: 328196.3402749\ttest: 328682.8210630\tbest: 328682.8210630 (30)\ttotal: 1.02s\tremaining: 2.27s\n",
      "31:\tlearn: 325153.8263339\ttest: 325644.6160611\tbest: 325644.6160611 (31)\ttotal: 1.04s\tremaining: 2.22s\n",
      "32:\tlearn: 322181.4892431\ttest: 322673.1847512\tbest: 322673.1847512 (32)\ttotal: 1.09s\tremaining: 2.21s\n",
      "33:\tlearn: 319279.0442763\ttest: 319770.2522905\tbest: 319770.2522905 (33)\ttotal: 1.12s\tremaining: 2.17s\n",
      "34:\tlearn: 316338.5544909\ttest: 316831.1700127\tbest: 316831.1700127 (34)\ttotal: 1.15s\tremaining: 2.13s\n",
      "35:\tlearn: 313490.8656727\ttest: 313983.0799588\tbest: 313983.0799588 (35)\ttotal: 1.23s\tremaining: 2.18s\n",
      "36:\tlearn: 310654.2444798\ttest: 311148.7932683\tbest: 311148.7932683 (36)\ttotal: 1.27s\tremaining: 2.16s\n",
      "37:\tlearn: 307882.7181203\ttest: 308373.3887632\tbest: 308373.3887632 (37)\ttotal: 1.28s\tremaining: 2.09s\n",
      "38:\tlearn: 305101.7048449\ttest: 305597.4161065\tbest: 305597.4161065 (38)\ttotal: 1.34s\tremaining: 2.09s\n",
      "39:\tlearn: 302347.3838123\ttest: 302842.2132685\tbest: 302842.2132685 (39)\ttotal: 1.37s\tremaining: 2.06s\n",
      "40:\tlearn: 299619.2263659\ttest: 300115.9627046\tbest: 300115.9627046 (40)\ttotal: 1.43s\tremaining: 2.06s\n",
      "41:\tlearn: 296911.4237979\ttest: 297411.5561369\tbest: 297411.5561369 (41)\ttotal: 1.47s\tremaining: 2.03s\n",
      "42:\tlearn: 294249.7603744\ttest: 294746.8093842\tbest: 294746.8093842 (42)\ttotal: 1.55s\tremaining: 2.06s\n",
      "43:\tlearn: 291608.0147093\ttest: 292106.3552576\tbest: 292106.3552576 (43)\ttotal: 1.63s\tremaining: 2.07s\n",
      "44:\tlearn: 289000.6158546\ttest: 289495.6904899\tbest: 289495.6904899 (44)\ttotal: 1.64s\tremaining: 2.01s\n",
      "45:\tlearn: 286457.4007343\ttest: 286951.3942624\tbest: 286951.3942624 (45)\ttotal: 1.67s\tremaining: 1.96s\n",
      "46:\tlearn: 283888.7410460\ttest: 284385.2790496\tbest: 284385.2790496 (46)\ttotal: 1.74s\tremaining: 1.96s\n",
      "47:\tlearn: 281348.5451893\ttest: 281849.4692078\tbest: 281849.4692078 (47)\ttotal: 1.78s\tremaining: 1.93s\n",
      "48:\tlearn: 278839.5432881\ttest: 279334.9939600\tbest: 279334.9939600 (48)\ttotal: 1.86s\tremaining: 1.94s\n",
      "49:\tlearn: 276379.0299202\ttest: 276874.9449613\tbest: 276874.9449613 (49)\ttotal: 1.94s\tremaining: 1.94s\n",
      "50:\tlearn: 273930.2120026\ttest: 274423.8757935\tbest: 274423.8757935 (50)\ttotal: 2.02s\tremaining: 1.95s\n",
      "51:\tlearn: 271491.4321317\ttest: 271988.0546780\tbest: 271988.0546780 (51)\ttotal: 2.08s\tremaining: 1.92s\n",
      "52:\tlearn: 269104.3815069\ttest: 269603.8644802\tbest: 269603.8644802 (52)\ttotal: 2.15s\tremaining: 1.91s\n",
      "53:\tlearn: 266776.9554392\ttest: 267276.4156080\tbest: 267276.4156080 (53)\ttotal: 2.17s\tremaining: 1.85s\n",
      "54:\tlearn: 264387.5156346\ttest: 264889.5625540\tbest: 264889.5625540 (54)\ttotal: 2.25s\tremaining: 1.84s\n",
      "55:\tlearn: 262080.5811940\ttest: 262582.3403401\tbest: 262582.3403401 (55)\ttotal: 2.34s\tremaining: 1.84s\n",
      "56:\tlearn: 259801.9572148\ttest: 260308.2948058\tbest: 260308.2948058 (56)\ttotal: 2.42s\tremaining: 1.82s\n",
      "57:\tlearn: 257514.0348497\ttest: 258022.3641419\tbest: 258022.3641419 (57)\ttotal: 2.47s\tremaining: 1.79s\n",
      "58:\tlearn: 255256.2889940\ttest: 255767.0449656\tbest: 255767.0449656 (58)\ttotal: 2.54s\tremaining: 1.77s\n",
      "59:\tlearn: 253064.2547031\ttest: 253569.0673394\tbest: 253569.0673394 (59)\ttotal: 2.57s\tremaining: 1.72s\n",
      "60:\tlearn: 250890.0583923\ttest: 251395.8874711\tbest: 251395.8874711 (60)\ttotal: 2.63s\tremaining: 1.68s\n",
      "61:\tlearn: 248730.2542648\ttest: 249237.7243114\tbest: 249237.7243114 (61)\ttotal: 2.65s\tremaining: 1.62s\n",
      "62:\tlearn: 246572.1669365\ttest: 247081.8457042\tbest: 247081.8457042 (62)\ttotal: 2.72s\tremaining: 1.6s\n",
      "63:\tlearn: 244445.1452132\ttest: 244957.1863639\tbest: 244957.1863639 (63)\ttotal: 2.78s\tremaining: 1.56s\n",
      "64:\tlearn: 242311.4673480\ttest: 242821.5250932\tbest: 242821.5250932 (64)\ttotal: 2.85s\tremaining: 1.54s\n",
      "65:\tlearn: 240246.4295903\ttest: 240758.2887911\tbest: 240758.2887911 (65)\ttotal: 2.88s\tremaining: 1.48s\n",
      "66:\tlearn: 238186.3304540\ttest: 238695.7516536\tbest: 238695.7516536 (66)\ttotal: 2.93s\tremaining: 1.44s\n",
      "67:\tlearn: 236167.8203199\ttest: 236679.1776777\tbest: 236679.1776777 (67)\ttotal: 2.97s\tremaining: 1.4s\n",
      "68:\tlearn: 234156.9843729\ttest: 234663.1154098\tbest: 234663.1154098 (68)\ttotal: 3.03s\tremaining: 1.36s\n",
      "69:\tlearn: 232167.0071546\ttest: 232665.2724689\tbest: 232665.2724689 (69)\ttotal: 3.08s\tremaining: 1.32s\n",
      "70:\tlearn: 230216.2099950\ttest: 230715.7231301\tbest: 230715.7231301 (70)\ttotal: 3.12s\tremaining: 1.27s\n",
      "71:\tlearn: 228273.8547592\ttest: 228773.6651986\tbest: 228773.6651986 (71)\ttotal: 3.17s\tremaining: 1.23s\n",
      "72:\tlearn: 226356.0389796\ttest: 226855.1790574\tbest: 226855.1790574 (72)\ttotal: 3.21s\tremaining: 1.19s\n",
      "73:\tlearn: 224424.1373671\ttest: 224920.5734119\tbest: 224920.5734119 (73)\ttotal: 3.25s\tremaining: 1.14s\n",
      "74:\tlearn: 222550.1567076\ttest: 223043.1683348\tbest: 223043.1683348 (74)\ttotal: 3.32s\tremaining: 1.11s\n",
      "75:\tlearn: 220671.8106195\ttest: 221167.5666520\tbest: 221167.5666520 (75)\ttotal: 3.38s\tremaining: 1.07s\n",
      "76:\tlearn: 218834.2049341\ttest: 219333.8151731\tbest: 219333.8151731 (76)\ttotal: 3.45s\tremaining: 1.03s\n",
      "77:\tlearn: 216997.9404088\ttest: 217497.0985321\tbest: 217497.0985321 (77)\ttotal: 3.52s\tremaining: 994ms\n",
      "78:\tlearn: 215190.2948461\ttest: 215689.8627938\tbest: 215689.8627938 (78)\ttotal: 3.57s\tremaining: 949ms\n",
      "79:\tlearn: 213427.6678446\ttest: 213927.5491844\tbest: 213927.5491844 (79)\ttotal: 3.58s\tremaining: 896ms\n",
      "80:\tlearn: 211720.7434295\ttest: 212217.0416715\tbest: 212217.0416715 (80)\ttotal: 3.61s\tremaining: 848ms\n",
      "81:\tlearn: 209946.7054307\ttest: 210443.4915374\tbest: 210443.4915374 (81)\ttotal: 3.65s\tremaining: 803ms\n",
      "82:\tlearn: 208218.7898909\ttest: 208716.9743032\tbest: 208716.9743032 (82)\ttotal: 3.73s\tremaining: 763ms\n",
      "83:\tlearn: 206458.2934348\ttest: 206959.5028014\tbest: 206959.5028014 (83)\ttotal: 3.77s\tremaining: 718ms\n",
      "84:\tlearn: 204791.4945617\ttest: 205287.8165778\tbest: 205287.8165778 (84)\ttotal: 3.84s\tremaining: 678ms\n",
      "85:\tlearn: 203106.1313302\ttest: 203601.4986107\tbest: 203601.4986107 (85)\ttotal: 3.91s\tremaining: 637ms\n",
      "86:\tlearn: 201443.2132960\ttest: 201938.0352360\tbest: 201938.0352360 (86)\ttotal: 3.96s\tremaining: 591ms\n",
      "87:\tlearn: 199812.2020844\ttest: 200302.8194010\tbest: 200302.8194010 (87)\ttotal: 4.02s\tremaining: 548ms\n",
      "88:\tlearn: 198182.8765755\ttest: 198673.5887037\tbest: 198673.5887037 (88)\ttotal: 4.07s\tremaining: 503ms\n",
      "89:\tlearn: 196609.2188676\ttest: 197095.0678595\tbest: 197095.0678595 (89)\ttotal: 4.08s\tremaining: 453ms\n",
      "90:\tlearn: 195030.5790315\ttest: 195517.8319949\tbest: 195517.8319949 (90)\ttotal: 4.16s\tremaining: 411ms\n",
      "91:\tlearn: 193440.0594251\ttest: 193932.4914498\tbest: 193932.4914498 (91)\ttotal: 4.23s\tremaining: 368ms\n",
      "92:\tlearn: 191902.4585765\ttest: 192394.6831504\tbest: 192394.6831504 (92)\ttotal: 4.31s\tremaining: 325ms\n",
      "93:\tlearn: 190389.3303985\ttest: 190880.9671513\tbest: 190880.9671513 (93)\ttotal: 4.37s\tremaining: 279ms\n",
      "94:\tlearn: 188842.2045686\ttest: 189337.4233748\tbest: 189337.4233748 (94)\ttotal: 4.44s\tremaining: 234ms\n",
      "95:\tlearn: 187353.7981418\ttest: 187844.2592217\tbest: 187844.2592217 (95)\ttotal: 4.46s\tremaining: 186ms\n",
      "96:\tlearn: 185894.5077973\ttest: 186389.9763727\tbest: 186389.9763727 (96)\ttotal: 4.55s\tremaining: 141ms\n",
      "97:\tlearn: 184457.5364891\ttest: 184954.3705250\tbest: 184954.3705250 (97)\ttotal: 4.62s\tremaining: 94.3ms\n",
      "98:\tlearn: 183014.0111007\ttest: 183503.9720765\tbest: 183503.9720765 (98)\ttotal: 4.69s\tremaining: 47.4ms\n",
      "99:\tlearn: 181611.1592581\ttest: 182099.3683499\tbest: 182099.3683499 (99)\ttotal: 4.72s\tremaining: 0us\n",
      "\n",
      "bestTest = 182099.3683\n",
      "bestIteration = 99\n",
      "\n",
      "5:\tloss: 182099.3683499\tbest: 61349.2303137 (0)\ttotal: 11s\tremaining: 7.35s\n",
      "0:\tlearn: 236319.9411622\ttest: 237196.5535879\tbest: 237196.5535879 (0)\ttotal: 80.6ms\tremaining: 7.98s\n",
      "1:\tlearn: 141818.7189510\ttest: 142484.0520801\tbest: 142484.0520801 (1)\ttotal: 916ms\tremaining: 44.9s\n",
      "2:\tlearn: 99093.7884825\ttest: 99676.3231761\tbest: 99676.3231761 (2)\ttotal: 1.1s\tremaining: 35.6s\n",
      "3:\tlearn: 83243.7391940\ttest: 83973.1748991\tbest: 83973.1748991 (3)\ttotal: 1.42s\tremaining: 34.2s\n",
      "4:\tlearn: 74754.6717323\ttest: 76290.9847366\tbest: 76290.9847366 (4)\ttotal: 3.08s\tremaining: 58.5s\n",
      "5:\tlearn: 68737.6046135\ttest: 70812.6427247\tbest: 70812.6427247 (5)\ttotal: 4.2s\tremaining: 1m 5s\n",
      "6:\tlearn: 66258.0165063\ttest: 68780.6627612\tbest: 68780.6627612 (6)\ttotal: 5.79s\tremaining: 1m 16s\n",
      "7:\tlearn: 64449.9151065\ttest: 67601.2289817\tbest: 67601.2289817 (7)\ttotal: 7.43s\tremaining: 1m 25s\n",
      "8:\tlearn: 63188.7373382\ttest: 66971.9126419\tbest: 66971.9126419 (8)\ttotal: 9.39s\tremaining: 1m 34s\n",
      "9:\tlearn: 62300.4965997\ttest: 66472.0836031\tbest: 66472.0836031 (9)\ttotal: 11.2s\tremaining: 1m 41s\n",
      "10:\tlearn: 61794.7061934\ttest: 66207.1189739\tbest: 66207.1189739 (10)\ttotal: 12.8s\tremaining: 1m 43s\n",
      "11:\tlearn: 61315.1786128\ttest: 65886.5111935\tbest: 65886.5111935 (11)\ttotal: 14.6s\tremaining: 1m 47s\n",
      "12:\tlearn: 60836.4488958\ttest: 65610.3002281\tbest: 65610.3002281 (12)\ttotal: 16.2s\tremaining: 1m 48s\n",
      "13:\tlearn: 60744.5777678\ttest: 65513.9465356\tbest: 65513.9465356 (13)\ttotal: 16.3s\tremaining: 1m 40s\n",
      "14:\tlearn: 60398.9672337\ttest: 65296.6376138\tbest: 65296.6376138 (14)\ttotal: 18.2s\tremaining: 1m 42s\n",
      "15:\tlearn: 58843.1106161\ttest: 64768.7680296\tbest: 64768.7680296 (15)\ttotal: 20s\tremaining: 1m 44s\n",
      "16:\tlearn: 58232.3469345\ttest: 64488.4259286\tbest: 64488.4259286 (16)\ttotal: 21.9s\tremaining: 1m 46s\n",
      "17:\tlearn: 57741.8470282\ttest: 64386.7060766\tbest: 64386.7060766 (17)\ttotal: 23.8s\tremaining: 1m 48s\n",
      "18:\tlearn: 57227.1468741\ttest: 64307.3616271\tbest: 64307.3616271 (18)\ttotal: 25.5s\tremaining: 1m 48s\n",
      "19:\tlearn: 56983.0052034\ttest: 64241.0741764\tbest: 64241.0741764 (19)\ttotal: 27.5s\tremaining: 1m 49s\n",
      "20:\tlearn: 56469.0191551\ttest: 64055.8921073\tbest: 64055.8921073 (20)\ttotal: 29.2s\tremaining: 1m 49s\n",
      "21:\tlearn: 55888.1485784\ttest: 63862.8399296\tbest: 63862.8399296 (21)\ttotal: 31.1s\tremaining: 1m 50s\n",
      "22:\tlearn: 55379.3825868\ttest: 63782.2837855\tbest: 63782.2837855 (22)\ttotal: 32.9s\tremaining: 1m 50s\n",
      "23:\tlearn: 55151.1399692\ttest: 63709.4153454\tbest: 63709.4153454 (23)\ttotal: 34.8s\tremaining: 1m 50s\n",
      "24:\tlearn: 54519.2778986\ttest: 63497.0995291\tbest: 63497.0995291 (24)\ttotal: 36.6s\tremaining: 1m 49s\n",
      "25:\tlearn: 54208.7519163\ttest: 63446.5334262\tbest: 63446.5334262 (25)\ttotal: 38.5s\tremaining: 1m 49s\n",
      "26:\tlearn: 53528.8989476\ttest: 63255.0905158\tbest: 63255.0905158 (26)\ttotal: 40.3s\tremaining: 1m 48s\n",
      "27:\tlearn: 53316.9352585\ttest: 63230.9874816\tbest: 63230.9874816 (27)\ttotal: 42.2s\tremaining: 1m 48s\n",
      "28:\tlearn: 52832.1175432\ttest: 63086.1718538\tbest: 63086.1718538 (28)\ttotal: 43.9s\tremaining: 1m 47s\n",
      "29:\tlearn: 52430.2793571\ttest: 63013.0407509\tbest: 63013.0407509 (29)\ttotal: 45.3s\tremaining: 1m 45s\n",
      "30:\tlearn: 51735.7302641\ttest: 62919.7947458\tbest: 62919.7947458 (30)\ttotal: 46.8s\tremaining: 1m 44s\n",
      "31:\tlearn: 51506.4082265\ttest: 62857.5215520\tbest: 62857.5215520 (31)\ttotal: 48.3s\tremaining: 1m 42s\n",
      "32:\tlearn: 51305.8504385\ttest: 62710.6781653\tbest: 62710.6781653 (32)\ttotal: 49.9s\tremaining: 1m 41s\n",
      "33:\tlearn: 50537.9479870\ttest: 62506.8176097\tbest: 62506.8176097 (33)\ttotal: 52s\tremaining: 1m 41s\n",
      "34:\tlearn: 50338.5329270\ttest: 62409.3701179\tbest: 62409.3701179 (34)\ttotal: 53.9s\tremaining: 1m 40s\n",
      "35:\tlearn: 49925.1217179\ttest: 62351.6439272\tbest: 62351.6439272 (35)\ttotal: 55.6s\tremaining: 1m 38s\n",
      "36:\tlearn: 49525.0125246\ttest: 62235.9810386\tbest: 62235.9810386 (36)\ttotal: 57.6s\tremaining: 1m 38s\n",
      "37:\tlearn: 49098.9015579\ttest: 61947.4030253\tbest: 61947.4030253 (37)\ttotal: 59.4s\tremaining: 1m 36s\n",
      "38:\tlearn: 48790.9361932\ttest: 61989.6551558\tbest: 61947.4030253 (37)\ttotal: 1m 1s\tremaining: 1m 35s\n",
      "39:\tlearn: 48284.8031138\ttest: 61967.1595118\tbest: 61947.4030253 (37)\ttotal: 1m 2s\tremaining: 1m 34s\n",
      "40:\tlearn: 48130.4247718\ttest: 61885.2083398\tbest: 61885.2083398 (40)\ttotal: 1m 4s\tremaining: 1m 33s\n",
      "41:\tlearn: 47969.8698863\ttest: 61878.1425717\tbest: 61878.1425717 (41)\ttotal: 1m 6s\tremaining: 1m 31s\n",
      "42:\tlearn: 47513.6515681\ttest: 61880.5234824\tbest: 61878.1425717 (41)\ttotal: 1m 8s\tremaining: 1m 30s\n",
      "43:\tlearn: 47188.0904598\ttest: 61831.9211685\tbest: 61831.9211685 (43)\ttotal: 1m 9s\tremaining: 1m 28s\n",
      "44:\tlearn: 46895.0428901\ttest: 61707.3292351\tbest: 61707.3292351 (44)\ttotal: 1m 11s\tremaining: 1m 27s\n",
      "45:\tlearn: 46656.9389485\ttest: 61692.2422270\tbest: 61692.2422270 (45)\ttotal: 1m 13s\tremaining: 1m 25s\n",
      "46:\tlearn: 46187.2494726\ttest: 61570.3639942\tbest: 61570.3639942 (46)\ttotal: 1m 14s\tremaining: 1m 24s\n",
      "47:\tlearn: 45634.7675201\ttest: 61558.0740922\tbest: 61558.0740922 (47)\ttotal: 1m 16s\tremaining: 1m 22s\n",
      "48:\tlearn: 45360.5006283\ttest: 61524.4694519\tbest: 61524.4694519 (48)\ttotal: 1m 18s\tremaining: 1m 21s\n",
      "49:\tlearn: 45228.2522172\ttest: 61531.1769382\tbest: 61524.4694519 (48)\ttotal: 1m 20s\tremaining: 1m 20s\n",
      "50:\tlearn: 44933.5788882\ttest: 61478.5361493\tbest: 61478.5361493 (50)\ttotal: 1m 22s\tremaining: 1m 19s\n",
      "51:\tlearn: 44779.8813097\ttest: 61446.4207896\tbest: 61446.4207896 (51)\ttotal: 1m 23s\tremaining: 1m 17s\n",
      "52:\tlearn: 44620.5739677\ttest: 61474.3219208\tbest: 61446.4207896 (51)\ttotal: 1m 26s\tremaining: 1m 16s\n",
      "53:\tlearn: 44347.3551206\ttest: 61421.6287485\tbest: 61421.6287485 (53)\ttotal: 1m 27s\tremaining: 1m 14s\n",
      "54:\tlearn: 44058.6899095\ttest: 61423.4337639\tbest: 61421.6287485 (53)\ttotal: 1m 29s\tremaining: 1m 13s\n",
      "55:\tlearn: 43761.4242842\ttest: 61446.0497180\tbest: 61421.6287485 (53)\ttotal: 1m 31s\tremaining: 1m 11s\n",
      "56:\tlearn: 43696.9467792\ttest: 61428.2907415\tbest: 61421.6287485 (53)\ttotal: 1m 32s\tremaining: 1m 10s\n",
      "57:\tlearn: 43422.6605271\ttest: 61396.1373044\tbest: 61396.1373044 (57)\ttotal: 1m 34s\tremaining: 1m 8s\n",
      "58:\tlearn: 43139.7410274\ttest: 61407.0858783\tbest: 61396.1373044 (57)\ttotal: 1m 36s\tremaining: 1m 6s\n",
      "59:\tlearn: 42949.7744801\ttest: 61395.3449620\tbest: 61395.3449620 (59)\ttotal: 1m 38s\tremaining: 1m 5s\n",
      "60:\tlearn: 42764.3100756\ttest: 61391.8999510\tbest: 61391.8999510 (60)\ttotal: 1m 39s\tremaining: 1m 3s\n",
      "61:\tlearn: 42531.2067899\ttest: 61363.1266002\tbest: 61363.1266002 (61)\ttotal: 1m 41s\tremaining: 1m 2s\n",
      "62:\tlearn: 42148.1624470\ttest: 61380.0611479\tbest: 61363.1266002 (61)\ttotal: 1m 43s\tremaining: 1m\n",
      "63:\tlearn: 41772.1226757\ttest: 61387.8727787\tbest: 61363.1266002 (61)\ttotal: 1m 45s\tremaining: 59.3s\n",
      "64:\tlearn: 41728.7204705\ttest: 61351.5293749\tbest: 61351.5293749 (64)\ttotal: 1m 47s\tremaining: 57.9s\n",
      "65:\tlearn: 41515.0722825\ttest: 61349.6061482\tbest: 61349.6061482 (65)\ttotal: 1m 49s\tremaining: 56.3s\n",
      "66:\tlearn: 41141.1436199\ttest: 61333.2019948\tbest: 61333.2019948 (66)\ttotal: 1m 51s\tremaining: 54.8s\n",
      "67:\tlearn: 40817.0330269\ttest: 61314.9158074\tbest: 61314.9158074 (67)\ttotal: 1m 53s\tremaining: 53.2s\n",
      "68:\tlearn: 40493.3404298\ttest: 61338.6713457\tbest: 61314.9158074 (67)\ttotal: 1m 54s\tremaining: 51.6s\n",
      "69:\tlearn: 40268.7721343\ttest: 61279.7225317\tbest: 61279.7225317 (69)\ttotal: 1m 56s\tremaining: 50.1s\n",
      "70:\tlearn: 39974.9949064\ttest: 61232.6102056\tbest: 61232.6102056 (70)\ttotal: 1m 58s\tremaining: 48.4s\n",
      "71:\tlearn: 39904.0428660\ttest: 61232.2140237\tbest: 61232.2140237 (71)\ttotal: 2m\tremaining: 46.8s\n",
      "72:\tlearn: 39651.4785397\ttest: 61184.5503434\tbest: 61184.5503434 (72)\ttotal: 2m 1s\tremaining: 45.1s\n",
      "73:\tlearn: 39480.3493551\ttest: 61170.6458962\tbest: 61170.6458962 (73)\ttotal: 2m 3s\tremaining: 43.5s\n",
      "74:\tlearn: 39220.8305918\ttest: 61208.3893280\tbest: 61170.6458962 (73)\ttotal: 2m 5s\tremaining: 41.8s\n",
      "75:\tlearn: 39079.6565110\ttest: 61220.5383630\tbest: 61170.6458962 (73)\ttotal: 2m 6s\tremaining: 39.9s\n",
      "76:\tlearn: 38843.6803233\ttest: 61243.0910157\tbest: 61170.6458962 (73)\ttotal: 2m 8s\tremaining: 38.3s\n",
      "77:\tlearn: 38629.3627213\ttest: 61232.9613414\tbest: 61170.6458962 (73)\ttotal: 2m 9s\tremaining: 36.7s\n",
      "78:\tlearn: 38433.4235707\ttest: 61231.1736495\tbest: 61170.6458962 (73)\ttotal: 2m 11s\tremaining: 35s\n",
      "79:\tlearn: 38249.6396574\ttest: 61205.1213956\tbest: 61170.6458962 (73)\ttotal: 2m 12s\tremaining: 33.2s\n",
      "80:\tlearn: 37970.9283564\ttest: 61162.4000349\tbest: 61162.4000349 (80)\ttotal: 2m 14s\tremaining: 31.6s\n",
      "81:\tlearn: 37747.3343356\ttest: 61163.6432580\tbest: 61162.4000349 (80)\ttotal: 2m 16s\tremaining: 30s\n",
      "82:\tlearn: 37629.0298018\ttest: 61157.3681774\tbest: 61157.3681774 (82)\ttotal: 2m 18s\tremaining: 28.4s\n",
      "83:\tlearn: 37491.8829714\ttest: 61186.8603011\tbest: 61157.3681774 (82)\ttotal: 2m 20s\tremaining: 26.7s\n",
      "84:\tlearn: 37193.3585912\ttest: 61173.1445959\tbest: 61157.3681774 (82)\ttotal: 2m 22s\tremaining: 25.1s\n",
      "85:\tlearn: 36999.5423166\ttest: 61169.7386074\tbest: 61157.3681774 (82)\ttotal: 2m 24s\tremaining: 23.4s\n",
      "86:\tlearn: 36673.6368453\ttest: 61146.2624893\tbest: 61146.2624893 (86)\ttotal: 2m 25s\tremaining: 21.8s\n",
      "87:\tlearn: 36411.8526266\ttest: 61117.3407699\tbest: 61117.3407699 (87)\ttotal: 2m 27s\tremaining: 20.1s\n",
      "88:\tlearn: 36211.7932555\ttest: 61140.6987056\tbest: 61117.3407699 (87)\ttotal: 2m 29s\tremaining: 18.5s\n",
      "89:\tlearn: 36060.3822216\ttest: 61126.3396747\tbest: 61117.3407699 (87)\ttotal: 2m 31s\tremaining: 16.8s\n",
      "90:\tlearn: 35853.8815205\ttest: 61119.7351179\tbest: 61117.3407699 (87)\ttotal: 2m 33s\tremaining: 15.2s\n",
      "91:\tlearn: 35654.9929372\ttest: 61112.3895946\tbest: 61112.3895946 (91)\ttotal: 2m 35s\tremaining: 13.5s\n",
      "92:\tlearn: 35534.7275654\ttest: 61117.5226302\tbest: 61112.3895946 (91)\ttotal: 2m 37s\tremaining: 11.8s\n",
      "93:\tlearn: 35401.4852716\ttest: 61092.2669500\tbest: 61092.2669500 (93)\ttotal: 2m 39s\tremaining: 10.2s\n",
      "94:\tlearn: 35282.8094551\ttest: 61084.0374361\tbest: 61084.0374361 (94)\ttotal: 2m 41s\tremaining: 8.5s\n",
      "95:\tlearn: 35132.6138063\ttest: 61080.5075913\tbest: 61080.5075913 (95)\ttotal: 2m 43s\tremaining: 6.81s\n",
      "96:\tlearn: 35004.4755666\ttest: 61088.5543520\tbest: 61080.5075913 (95)\ttotal: 2m 45s\tremaining: 5.11s\n",
      "97:\tlearn: 34789.0710851\ttest: 61076.0785824\tbest: 61076.0785824 (97)\ttotal: 2m 46s\tremaining: 3.4s\n",
      "98:\tlearn: 34623.0937920\ttest: 61067.3502397\tbest: 61067.3502397 (98)\ttotal: 2m 47s\tremaining: 1.7s\n",
      "99:\tlearn: 34541.6966629\ttest: 61063.5049076\tbest: 61063.5049076 (99)\ttotal: 2m 49s\tremaining: 0us\n",
      "\n",
      "bestTest = 61063.50491\n",
      "bestIteration = 99\n",
      "\n",
      "6:\tloss: 61063.5049076\tbest: 61063.5049076 (6)\ttotal: 3m\tremaining: 1m 17s\n",
      "Estimating final quality...\n",
      "Training on fold [0/5]\n",
      "0:\tlearn: 236051.6415196\ttest: 237470.6864483\tbest: 237470.6864483 (0)\ttotal: 1.44s\tremaining: 2m 22s\n",
      "1:\tlearn: 142722.4563750\ttest: 144932.8538147\tbest: 144932.8538147 (1)\ttotal: 3.42s\tremaining: 2m 47s\n",
      "2:\tlearn: 102072.6457995\ttest: 103960.0356802\tbest: 103960.0356802 (2)\ttotal: 3.54s\tremaining: 1m 54s\n",
      "3:\tlearn: 84135.4258205\ttest: 86630.9644196\tbest: 86630.9644196 (3)\ttotal: 5.15s\tremaining: 2m 3s\n",
      "4:\tlearn: 76896.8573265\ttest: 79530.3900092\tbest: 79530.3900092 (4)\ttotal: 7.02s\tremaining: 2m 13s\n",
      "5:\tlearn: 70411.5832033\ttest: 73658.4643948\tbest: 73658.4643948 (5)\ttotal: 8.62s\tremaining: 2m 15s\n",
      "6:\tlearn: 67777.3417187\ttest: 71149.2164038\tbest: 71149.2164038 (6)\ttotal: 10.5s\tremaining: 2m 18s\n",
      "7:\tlearn: 65572.6867533\ttest: 69886.4459040\tbest: 69886.4459040 (7)\ttotal: 12.2s\tremaining: 2m 20s\n",
      "8:\tlearn: 63372.2624803\ttest: 68407.9100927\tbest: 68407.9100927 (8)\ttotal: 14s\tremaining: 2m 21s\n",
      "9:\tlearn: 62639.5877867\ttest: 67758.8373951\tbest: 67758.8373951 (9)\ttotal: 15.8s\tremaining: 2m 21s\n",
      "10:\tlearn: 62209.2047992\ttest: 67374.7433128\tbest: 67374.7433128 (10)\ttotal: 17.7s\tremaining: 2m 22s\n",
      "11:\tlearn: 61498.4571041\ttest: 66858.2112031\tbest: 66858.2112031 (11)\ttotal: 19.5s\tremaining: 2m 23s\n",
      "12:\tlearn: 61286.6900151\ttest: 66578.3901049\tbest: 66578.3901049 (12)\ttotal: 21.5s\tremaining: 2m 23s\n",
      "13:\tlearn: 60850.9650515\ttest: 66379.9699350\tbest: 66379.9699350 (13)\ttotal: 23.2s\tremaining: 2m 22s\n",
      "14:\tlearn: 60406.8372257\ttest: 66053.3116429\tbest: 66053.3116429 (14)\ttotal: 25.2s\tremaining: 2m 22s\n",
      "15:\tlearn: 60080.7448266\ttest: 65764.7129742\tbest: 65764.7129742 (15)\ttotal: 26.8s\tremaining: 2m 20s\n",
      "16:\tlearn: 59745.7498456\ttest: 65614.4410088\tbest: 65614.4410088 (16)\ttotal: 28.7s\tremaining: 2m 19s\n",
      "17:\tlearn: 59243.5138611\ttest: 65436.2588104\tbest: 65436.2588104 (17)\ttotal: 30.6s\tremaining: 2m 19s\n",
      "18:\tlearn: 58906.2582882\ttest: 65239.1937283\tbest: 65239.1937283 (18)\ttotal: 32.6s\tremaining: 2m 18s\n",
      "19:\tlearn: 58560.0057650\ttest: 65084.3382831\tbest: 65084.3382831 (19)\ttotal: 34.6s\tremaining: 2m 18s\n",
      "20:\tlearn: 57869.1860165\ttest: 64831.2234760\tbest: 64831.2234760 (20)\ttotal: 36.2s\tremaining: 2m 16s\n",
      "21:\tlearn: 57483.7885378\ttest: 64732.8513785\tbest: 64732.8513785 (21)\ttotal: 38.2s\tremaining: 2m 15s\n",
      "22:\tlearn: 57112.1301093\ttest: 64589.1440397\tbest: 64589.1440397 (22)\ttotal: 39.9s\tremaining: 2m 13s\n",
      "23:\tlearn: 56482.1586346\ttest: 64515.9512629\tbest: 64515.9512629 (23)\ttotal: 41.8s\tremaining: 2m 12s\n",
      "24:\tlearn: 55706.3274689\ttest: 64155.6958950\tbest: 64155.6958950 (24)\ttotal: 43.4s\tremaining: 2m 10s\n",
      "25:\tlearn: 55288.0206576\ttest: 64003.7014158\tbest: 64003.7014158 (25)\ttotal: 45.3s\tremaining: 2m 8s\n",
      "26:\tlearn: 54774.3202930\ttest: 63803.1838241\tbest: 63803.1838241 (26)\ttotal: 46.9s\tremaining: 2m 6s\n",
      "27:\tlearn: 54324.7024671\ttest: 63565.1279362\tbest: 63565.1279362 (27)\ttotal: 48.9s\tremaining: 2m 5s\n",
      "28:\tlearn: 54095.1552823\ttest: 63501.7109346\tbest: 63501.7109346 (28)\ttotal: 50.7s\tremaining: 2m 4s\n",
      "29:\tlearn: 53532.1108982\ttest: 63399.6753029\tbest: 63399.6753029 (29)\ttotal: 52.7s\tremaining: 2m 2s\n",
      "30:\tlearn: 53243.1796535\ttest: 63309.3875479\tbest: 63309.3875479 (30)\ttotal: 54.7s\tremaining: 2m 1s\n",
      "31:\tlearn: 52704.7994749\ttest: 63292.8611449\tbest: 63292.8611449 (31)\ttotal: 56.5s\tremaining: 2m\n",
      "32:\tlearn: 52212.9434087\ttest: 63098.2217620\tbest: 63098.2217620 (32)\ttotal: 58.3s\tremaining: 1m 58s\n",
      "33:\tlearn: 51870.7969030\ttest: 62910.1385326\tbest: 62910.1385326 (33)\ttotal: 60s\tremaining: 1m 56s\n",
      "34:\tlearn: 51501.5803033\ttest: 62748.8963571\tbest: 62748.8963571 (34)\ttotal: 1m 1s\tremaining: 1m 54s\n",
      "35:\tlearn: 51190.3843837\ttest: 62700.6642967\tbest: 62700.6642967 (35)\ttotal: 1m 3s\tremaining: 1m 53s\n",
      "36:\tlearn: 50804.6242603\ttest: 62563.7234716\tbest: 62563.7234716 (36)\ttotal: 1m 5s\tremaining: 1m 51s\n",
      "37:\tlearn: 50469.4141527\ttest: 62555.8497554\tbest: 62555.8497554 (37)\ttotal: 1m 7s\tremaining: 1m 50s\n",
      "38:\tlearn: 50069.9559057\ttest: 62538.4929954\tbest: 62538.4929954 (38)\ttotal: 1m 9s\tremaining: 1m 48s\n",
      "39:\tlearn: 49400.8463198\ttest: 62502.8522571\tbest: 62502.8522571 (39)\ttotal: 1m 11s\tremaining: 1m 46s\n",
      "40:\tlearn: 49235.9213574\ttest: 62496.9949308\tbest: 62496.9949308 (40)\ttotal: 1m 12s\tremaining: 1m 45s\n",
      "41:\tlearn: 48777.5104304\ttest: 62419.6080307\tbest: 62419.6080307 (41)\ttotal: 1m 14s\tremaining: 1m 43s\n",
      "42:\tlearn: 48297.5967113\ttest: 62352.5901258\tbest: 62352.5901258 (42)\ttotal: 1m 16s\tremaining: 1m 41s\n",
      "43:\tlearn: 47955.2015881\ttest: 62400.4034874\tbest: 62352.5901258 (42)\ttotal: 1m 18s\tremaining: 1m 39s\n",
      "44:\tlearn: 47816.3329294\ttest: 62322.2791748\tbest: 62322.2791748 (44)\ttotal: 1m 19s\tremaining: 1m 37s\n",
      "45:\tlearn: 47439.9221474\ttest: 62259.3229036\tbest: 62259.3229036 (45)\ttotal: 1m 21s\tremaining: 1m 35s\n",
      "46:\tlearn: 46955.5605028\ttest: 62273.4928457\tbest: 62259.3229036 (45)\ttotal: 1m 23s\tremaining: 1m 33s\n",
      "47:\tlearn: 46425.1350922\ttest: 62271.0122847\tbest: 62259.3229036 (45)\ttotal: 1m 24s\tremaining: 1m 31s\n",
      "48:\tlearn: 46180.1892827\ttest: 62268.5783849\tbest: 62259.3229036 (45)\ttotal: 1m 26s\tremaining: 1m 29s\n",
      "49:\tlearn: 45922.3861839\ttest: 62202.0512694\tbest: 62202.0512694 (49)\ttotal: 1m 27s\tremaining: 1m 27s\n",
      "50:\tlearn: 45912.7327538\ttest: 62198.2262473\tbest: 62198.2262473 (50)\ttotal: 1m 29s\tremaining: 1m 25s\n",
      "51:\tlearn: 45553.3315410\ttest: 62178.5283634\tbest: 62178.5283634 (51)\ttotal: 1m 31s\tremaining: 1m 24s\n",
      "52:\tlearn: 45205.5677995\ttest: 62202.5359285\tbest: 62178.5283634 (51)\ttotal: 1m 32s\tremaining: 1m 22s\n",
      "53:\tlearn: 45062.0364424\ttest: 62162.8579562\tbest: 62162.8579562 (53)\ttotal: 1m 34s\tremaining: 1m 20s\n",
      "54:\tlearn: 44506.3469255\ttest: 62122.0950135\tbest: 62122.0950135 (54)\ttotal: 1m 36s\tremaining: 1m 18s\n",
      "55:\tlearn: 44207.4720830\ttest: 62024.0393944\tbest: 62024.0393944 (55)\ttotal: 1m 38s\tremaining: 1m 17s\n",
      "56:\tlearn: 43889.8615594\ttest: 62005.5816574\tbest: 62005.5816574 (56)\ttotal: 1m 40s\tremaining: 1m 15s\n",
      "57:\tlearn: 43613.9492396\ttest: 61954.1508049\tbest: 61954.1508049 (57)\ttotal: 1m 42s\tremaining: 1m 13s\n",
      "58:\tlearn: 43357.5734756\ttest: 61951.7928112\tbest: 61951.7928112 (58)\ttotal: 1m 43s\tremaining: 1m 12s\n",
      "59:\tlearn: 43047.6975161\ttest: 61922.6279750\tbest: 61922.6279750 (59)\ttotal: 1m 45s\tremaining: 1m 10s\n",
      "60:\tlearn: 42699.8529661\ttest: 61900.7773572\tbest: 61900.7773572 (60)\ttotal: 1m 47s\tremaining: 1m 8s\n",
      "61:\tlearn: 42363.7846196\ttest: 61873.2595286\tbest: 61873.2595286 (61)\ttotal: 1m 49s\tremaining: 1m 6s\n",
      "62:\tlearn: 42014.1142615\ttest: 61847.7364267\tbest: 61847.7364267 (62)\ttotal: 1m 50s\tremaining: 1m 5s\n",
      "63:\tlearn: 41741.6002900\ttest: 61857.2309885\tbest: 61847.7364267 (62)\ttotal: 1m 52s\tremaining: 1m 3s\n",
      "64:\tlearn: 41463.0189811\ttest: 61820.0912884\tbest: 61820.0912884 (64)\ttotal: 1m 54s\tremaining: 1m 1s\n",
      "65:\tlearn: 41264.1584089\ttest: 61820.5607500\tbest: 61820.0912884 (64)\ttotal: 1m 56s\tremaining: 59.8s\n",
      "66:\tlearn: 41114.6327200\ttest: 61807.9869801\tbest: 61807.9869801 (66)\ttotal: 1m 57s\tremaining: 58s\n",
      "67:\tlearn: 40901.8485218\ttest: 61829.5138357\tbest: 61807.9869801 (66)\ttotal: 1m 59s\tremaining: 56.4s\n",
      "68:\tlearn: 40811.3296015\ttest: 61817.5522056\tbest: 61807.9869801 (66)\ttotal: 2m 1s\tremaining: 54.7s\n",
      "69:\tlearn: 40803.8050724\ttest: 61816.6677849\tbest: 61807.9869801 (66)\ttotal: 2m 3s\tremaining: 53s\n",
      "70:\tlearn: 40799.2228435\ttest: 61815.4821782\tbest: 61807.9869801 (66)\ttotal: 2m 5s\tremaining: 51.3s\n",
      "71:\tlearn: 40794.8392048\ttest: 61812.7332083\tbest: 61807.9869801 (66)\ttotal: 2m 7s\tremaining: 49.7s\n",
      "72:\tlearn: 40793.2900660\ttest: 61812.7775439\tbest: 61807.9869801 (66)\ttotal: 2m 9s\tremaining: 48s\n",
      "73:\tlearn: 40407.7183021\ttest: 61784.7397750\tbest: 61784.7397750 (73)\ttotal: 2m 11s\tremaining: 46.2s\n",
      "74:\tlearn: 40160.9092341\ttest: 61778.4093912\tbest: 61778.4093912 (74)\ttotal: 2m 13s\tremaining: 44.6s\n",
      "75:\tlearn: 40160.0339201\ttest: 61775.8257281\tbest: 61775.8257281 (75)\ttotal: 2m 15s\tremaining: 42.8s\n",
      "76:\tlearn: 39843.5613191\ttest: 61750.5753078\tbest: 61750.5753078 (76)\ttotal: 2m 17s\tremaining: 41.1s\n",
      "77:\tlearn: 39638.5727569\ttest: 61773.3617119\tbest: 61750.5753078 (76)\ttotal: 2m 19s\tremaining: 39.4s\n",
      "78:\tlearn: 39463.7033686\ttest: 61758.4836802\tbest: 61750.5753078 (76)\ttotal: 2m 21s\tremaining: 37.6s\n",
      "79:\tlearn: 39259.6867923\ttest: 61722.9040308\tbest: 61722.9040308 (79)\ttotal: 2m 23s\tremaining: 35.9s\n",
      "80:\tlearn: 39143.9003437\ttest: 61692.2667508\tbest: 61692.2667508 (80)\ttotal: 2m 25s\tremaining: 34.1s\n",
      "81:\tlearn: 38746.8271851\ttest: 61723.6945830\tbest: 61692.2667508 (80)\ttotal: 2m 27s\tremaining: 32.4s\n",
      "82:\tlearn: 38744.7314147\ttest: 61722.2929214\tbest: 61692.2667508 (80)\ttotal: 2m 29s\tremaining: 30.6s\n",
      "83:\tlearn: 38497.2802389\ttest: 61774.8169225\tbest: 61692.2667508 (80)\ttotal: 2m 31s\tremaining: 28.8s\n",
      "84:\tlearn: 38292.8301347\ttest: 61783.8292354\tbest: 61692.2667508 (80)\ttotal: 2m 33s\tremaining: 27s\n",
      "85:\tlearn: 38126.0587464\ttest: 61783.5745996\tbest: 61692.2667508 (80)\ttotal: 2m 35s\tremaining: 25.3s\n",
      "86:\tlearn: 37980.4875192\ttest: 61792.2816196\tbest: 61692.2667508 (80)\ttotal: 2m 37s\tremaining: 23.5s\n",
      "87:\tlearn: 37977.1053287\ttest: 61790.8826949\tbest: 61692.2667508 (80)\ttotal: 2m 38s\tremaining: 21.7s\n",
      "88:\tlearn: 37801.0474330\ttest: 61784.5372923\tbest: 61692.2667508 (80)\ttotal: 2m 40s\tremaining: 19.9s\n",
      "89:\tlearn: 37653.3559706\ttest: 61793.3606216\tbest: 61692.2667508 (80)\ttotal: 2m 42s\tremaining: 18s\n",
      "90:\tlearn: 37350.9564946\ttest: 61786.4962915\tbest: 61692.2667508 (80)\ttotal: 2m 43s\tremaining: 16.2s\n",
      "91:\tlearn: 37238.7995389\ttest: 61771.6209006\tbest: 61692.2667508 (80)\ttotal: 2m 46s\tremaining: 14.4s\n",
      "92:\tlearn: 37006.1089161\ttest: 61778.4885744\tbest: 61692.2667508 (80)\ttotal: 2m 48s\tremaining: 12.7s\n",
      "93:\tlearn: 36809.1062017\ttest: 61760.2265101\tbest: 61692.2667508 (80)\ttotal: 2m 49s\tremaining: 10.8s\n",
      "94:\tlearn: 36807.9603837\ttest: 61758.9852213\tbest: 61692.2667508 (80)\ttotal: 2m 52s\tremaining: 9.06s\n",
      "95:\tlearn: 36535.0613609\ttest: 61726.7411534\tbest: 61692.2667508 (80)\ttotal: 2m 54s\tremaining: 7.25s\n",
      "96:\tlearn: 36298.6993498\ttest: 61727.7011009\tbest: 61692.2667508 (80)\ttotal: 2m 56s\tremaining: 5.45s\n",
      "97:\tlearn: 36147.5250824\ttest: 61686.8639366\tbest: 61686.8639366 (97)\ttotal: 2m 58s\tremaining: 3.63s\n",
      "98:\tlearn: 36146.1581304\ttest: 61686.1693210\tbest: 61686.1693210 (98)\ttotal: 2m 59s\tremaining: 1.81s\n",
      "99:\tlearn: 36143.8405977\ttest: 61687.2436971\tbest: 61686.1693210 (98)\ttotal: 3m 1s\tremaining: 0us\n",
      "\n",
      "bestTest = 61686.16932\n",
      "bestIteration = 98\n",
      "\n",
      "Training on fold [1/5]\n",
      "0:\tlearn: 235582.5304608\ttest: 235232.1023316\tbest: 235232.1023316 (0)\ttotal: 2.03s\tremaining: 3m 21s\n",
      "1:\tlearn: 141236.3987065\ttest: 141686.7480436\tbest: 141686.7480436 (1)\ttotal: 4.13s\tremaining: 3m 22s\n",
      "2:\tlearn: 101379.2388725\ttest: 101867.7313059\tbest: 101867.7313059 (2)\ttotal: 4.51s\tremaining: 2m 25s\n",
      "3:\tlearn: 84072.1318440\ttest: 85893.7443732\tbest: 85893.7443732 (3)\ttotal: 6.57s\tremaining: 2m 37s\n",
      "4:\tlearn: 78601.9481278\ttest: 80522.5751351\tbest: 80522.5751351 (4)\ttotal: 6.61s\tremaining: 2m 5s\n",
      "5:\tlearn: 70672.5003451\ttest: 73669.0857583\tbest: 73669.0857583 (5)\ttotal: 8.38s\tremaining: 2m 11s\n",
      "6:\tlearn: 67038.3796876\ttest: 70630.3313451\tbest: 70630.3313451 (6)\ttotal: 10.6s\tremaining: 2m 20s\n",
      "7:\tlearn: 65513.6025668\ttest: 69364.7820233\tbest: 69364.7820233 (7)\ttotal: 12.6s\tremaining: 2m 25s\n",
      "8:\tlearn: 64404.3372518\ttest: 68728.0250486\tbest: 68728.0250486 (8)\ttotal: 14.6s\tremaining: 2m 27s\n",
      "9:\tlearn: 63191.5675793\ttest: 67991.6122076\tbest: 67991.6122076 (9)\ttotal: 16.7s\tremaining: 2m 30s\n",
      "10:\tlearn: 62047.2453315\ttest: 67588.0476574\tbest: 67588.0476574 (10)\ttotal: 18.9s\tremaining: 2m 32s\n",
      "11:\tlearn: 61648.1490420\ttest: 67105.4971766\tbest: 67105.4971766 (11)\ttotal: 20.8s\tremaining: 2m 32s\n",
      "12:\tlearn: 61154.5001826\ttest: 66775.1910350\tbest: 66775.1910350 (12)\ttotal: 22.7s\tremaining: 2m 31s\n",
      "13:\tlearn: 60584.5877432\ttest: 66441.6666256\tbest: 66441.6666256 (13)\ttotal: 24.6s\tremaining: 2m 31s\n",
      "14:\tlearn: 60524.3468473\ttest: 66295.2842724\tbest: 66295.2842724 (14)\ttotal: 24.7s\tremaining: 2m 19s\n",
      "15:\tlearn: 60206.4791945\ttest: 66189.4780936\tbest: 66189.4780936 (15)\ttotal: 26.6s\tremaining: 2m 19s\n",
      "16:\tlearn: 59648.8939520\ttest: 65847.1296326\tbest: 65847.1296326 (16)\ttotal: 28.6s\tremaining: 2m 19s\n",
      "17:\tlearn: 58736.3539746\ttest: 65434.9693753\tbest: 65434.9693753 (17)\ttotal: 30.6s\tremaining: 2m 19s\n",
      "18:\tlearn: 58363.0872931\ttest: 65361.1615999\tbest: 65361.1615999 (18)\ttotal: 32.7s\tremaining: 2m 19s\n",
      "19:\tlearn: 57449.5541540\ttest: 65115.8876440\tbest: 65115.8876440 (19)\ttotal: 35s\tremaining: 2m 19s\n",
      "20:\tlearn: 57230.3879140\ttest: 64956.7723244\tbest: 64956.7723244 (20)\ttotal: 37s\tremaining: 2m 19s\n",
      "21:\tlearn: 56554.9736546\ttest: 64776.9067933\tbest: 64776.9067933 (21)\ttotal: 39s\tremaining: 2m 18s\n",
      "22:\tlearn: 55795.1899429\ttest: 64580.4053194\tbest: 64580.4053194 (22)\ttotal: 41.1s\tremaining: 2m 17s\n",
      "23:\tlearn: 55134.5092007\ttest: 64459.9448767\tbest: 64459.9448767 (23)\ttotal: 43.1s\tremaining: 2m 16s\n",
      "24:\tlearn: 54579.3594062\ttest: 64338.0518671\tbest: 64338.0518671 (24)\ttotal: 45.3s\tremaining: 2m 15s\n",
      "25:\tlearn: 54232.3346403\ttest: 64125.4589802\tbest: 64125.4589802 (25)\ttotal: 47.4s\tremaining: 2m 14s\n",
      "26:\tlearn: 53594.2322123\ttest: 63911.3041603\tbest: 63911.3041603 (26)\ttotal: 49.2s\tremaining: 2m 13s\n",
      "27:\tlearn: 53269.3927260\ttest: 63781.8304222\tbest: 63781.8304222 (27)\ttotal: 51.4s\tremaining: 2m 12s\n",
      "28:\tlearn: 52377.7317520\ttest: 63415.0186373\tbest: 63415.0186373 (28)\ttotal: 53.6s\tremaining: 2m 11s\n",
      "29:\tlearn: 51831.0386876\ttest: 63183.6004455\tbest: 63183.6004455 (29)\ttotal: 56s\tremaining: 2m 10s\n",
      "30:\tlearn: 51364.0431877\ttest: 63131.1663017\tbest: 63131.1663017 (30)\ttotal: 57.7s\tremaining: 2m 8s\n",
      "31:\tlearn: 51142.3515043\ttest: 63031.3157485\tbest: 63031.3157485 (31)\ttotal: 59.6s\tremaining: 2m 6s\n",
      "32:\tlearn: 50819.3744966\ttest: 62912.9320364\tbest: 62912.9320364 (32)\ttotal: 1m 1s\tremaining: 2m 4s\n",
      "33:\tlearn: 50108.6082504\ttest: 62913.9181189\tbest: 62912.9320364 (32)\ttotal: 1m 3s\tremaining: 2m 2s\n",
      "34:\tlearn: 49795.8459855\ttest: 62848.8556929\tbest: 62848.8556929 (34)\ttotal: 1m 5s\tremaining: 2m 1s\n",
      "35:\tlearn: 49227.7783081\ttest: 62857.3041896\tbest: 62848.8556929 (34)\ttotal: 1m 7s\tremaining: 1m 59s\n",
      "36:\tlearn: 48754.3533808\ttest: 62929.7627875\tbest: 62848.8556929 (34)\ttotal: 1m 9s\tremaining: 1m 57s\n",
      "37:\tlearn: 48363.7304722\ttest: 62929.3017585\tbest: 62848.8556929 (34)\ttotal: 1m 11s\tremaining: 1m 56s\n",
      "38:\tlearn: 47849.4061160\ttest: 62873.0067295\tbest: 62848.8556929 (34)\ttotal: 1m 13s\tremaining: 1m 54s\n",
      "39:\tlearn: 47610.0197649\ttest: 62864.9778690\tbest: 62848.8556929 (34)\ttotal: 1m 15s\tremaining: 1m 52s\n",
      "40:\tlearn: 47195.4670859\ttest: 62833.0491227\tbest: 62833.0491227 (40)\ttotal: 1m 17s\tremaining: 1m 51s\n",
      "41:\tlearn: 46695.8210933\ttest: 62678.8149648\tbest: 62678.8149648 (41)\ttotal: 1m 19s\tremaining: 1m 49s\n",
      "42:\tlearn: 46615.2992246\ttest: 62670.0478253\tbest: 62670.0478253 (42)\ttotal: 1m 21s\tremaining: 1m 48s\n",
      "43:\tlearn: 46452.9865948\ttest: 62602.3867827\tbest: 62602.3867827 (43)\ttotal: 1m 23s\tremaining: 1m 46s\n",
      "44:\tlearn: 46014.9968407\ttest: 62609.2431212\tbest: 62602.3867827 (43)\ttotal: 1m 25s\tremaining: 1m 44s\n",
      "45:\tlearn: 46008.5485673\ttest: 62603.3223049\tbest: 62602.3867827 (43)\ttotal: 1m 26s\tremaining: 1m 41s\n",
      "46:\tlearn: 45428.9774788\ttest: 62525.7828153\tbest: 62525.7828153 (46)\ttotal: 1m 28s\tremaining: 1m 39s\n",
      "47:\tlearn: 45194.7479723\ttest: 62539.5798979\tbest: 62525.7828153 (46)\ttotal: 1m 30s\tremaining: 1m 37s\n",
      "48:\tlearn: 44871.2099021\ttest: 62576.6587597\tbest: 62525.7828153 (46)\ttotal: 1m 32s\tremaining: 1m 36s\n",
      "49:\tlearn: 44559.9222327\ttest: 62516.3324260\tbest: 62516.3324260 (49)\ttotal: 1m 34s\tremaining: 1m 34s\n",
      "50:\tlearn: 44555.6671685\ttest: 62517.3394463\tbest: 62516.3324260 (49)\ttotal: 1m 36s\tremaining: 1m 33s\n",
      "51:\tlearn: 44311.3753981\ttest: 62510.6379033\tbest: 62510.6379033 (51)\ttotal: 1m 38s\tremaining: 1m 31s\n",
      "52:\tlearn: 44064.5623566\ttest: 62457.5233010\tbest: 62457.5233010 (52)\ttotal: 1m 40s\tremaining: 1m 29s\n",
      "53:\tlearn: 43774.6790313\ttest: 62447.1926788\tbest: 62447.1926788 (53)\ttotal: 1m 43s\tremaining: 1m 27s\n",
      "54:\tlearn: 43514.9237953\ttest: 62452.1200679\tbest: 62447.1926788 (53)\ttotal: 1m 45s\tremaining: 1m 26s\n",
      "55:\tlearn: 43457.4727050\ttest: 62424.6677600\tbest: 62424.6677600 (55)\ttotal: 1m 47s\tremaining: 1m 24s\n",
      "56:\tlearn: 43267.8964252\ttest: 62381.5450770\tbest: 62381.5450770 (56)\ttotal: 1m 49s\tremaining: 1m 22s\n",
      "57:\tlearn: 42904.2800325\ttest: 62339.2335307\tbest: 62339.2335307 (57)\ttotal: 1m 51s\tremaining: 1m 20s\n",
      "58:\tlearn: 42479.9904997\ttest: 62328.5318754\tbest: 62328.5318754 (58)\ttotal: 1m 53s\tremaining: 1m 18s\n",
      "59:\tlearn: 42474.5771713\ttest: 62320.4710954\tbest: 62320.4710954 (59)\ttotal: 1m 55s\tremaining: 1m 16s\n",
      "60:\tlearn: 42305.3649169\ttest: 62270.1504223\tbest: 62270.1504223 (60)\ttotal: 1m 56s\tremaining: 1m 14s\n",
      "61:\tlearn: 41995.3855683\ttest: 62264.9560585\tbest: 62264.9560585 (61)\ttotal: 1m 58s\tremaining: 1m 12s\n",
      "62:\tlearn: 41748.8265911\ttest: 62277.6038534\tbest: 62264.9560585 (61)\ttotal: 2m\tremaining: 1m 10s\n",
      "63:\tlearn: 41558.3797059\ttest: 62237.1702818\tbest: 62237.1702818 (63)\ttotal: 2m 2s\tremaining: 1m 9s\n",
      "64:\tlearn: 41417.6739285\ttest: 62250.0024558\tbest: 62237.1702818 (63)\ttotal: 2m 4s\tremaining: 1m 7s\n",
      "65:\tlearn: 41204.6253466\ttest: 62219.4578228\tbest: 62219.4578228 (65)\ttotal: 2m 6s\tremaining: 1m 5s\n",
      "66:\tlearn: 41071.3861561\ttest: 62191.1869663\tbest: 62191.1869663 (66)\ttotal: 2m 8s\tremaining: 1m 3s\n",
      "67:\tlearn: 40830.3407047\ttest: 62194.0350285\tbest: 62191.1869663 (66)\ttotal: 2m 10s\tremaining: 1m 1s\n",
      "68:\tlearn: 40532.8971970\ttest: 62177.7402604\tbest: 62177.7402604 (68)\ttotal: 2m 12s\tremaining: 59.6s\n",
      "69:\tlearn: 40296.9324193\ttest: 62181.9490904\tbest: 62177.7402604 (68)\ttotal: 2m 14s\tremaining: 57.6s\n",
      "70:\tlearn: 40020.0320783\ttest: 62159.2224990\tbest: 62159.2224990 (70)\ttotal: 2m 15s\tremaining: 55.5s\n",
      "71:\tlearn: 39650.8115998\ttest: 62125.1404274\tbest: 62125.1404274 (71)\ttotal: 2m 17s\tremaining: 53.4s\n",
      "72:\tlearn: 39409.0182151\ttest: 62121.7229526\tbest: 62121.7229526 (72)\ttotal: 2m 18s\tremaining: 51.4s\n",
      "73:\tlearn: 39322.7075547\ttest: 62104.2437409\tbest: 62104.2437409 (73)\ttotal: 2m 20s\tremaining: 49.4s\n",
      "74:\tlearn: 39059.6388219\ttest: 62107.2286042\tbest: 62104.2437409 (73)\ttotal: 2m 22s\tremaining: 47.4s\n",
      "75:\tlearn: 38840.7748205\ttest: 62126.3280326\tbest: 62104.2437409 (73)\ttotal: 2m 24s\tremaining: 45.5s\n",
      "76:\tlearn: 38700.4852016\ttest: 62090.6583722\tbest: 62090.6583722 (76)\ttotal: 2m 25s\tremaining: 43.4s\n",
      "77:\tlearn: 38458.9672251\ttest: 62090.8336632\tbest: 62090.6583722 (76)\ttotal: 2m 26s\tremaining: 41.4s\n",
      "78:\tlearn: 38455.1437108\ttest: 62089.9833538\tbest: 62089.9833538 (78)\ttotal: 2m 27s\tremaining: 39.2s\n",
      "79:\tlearn: 38184.8648397\ttest: 62080.2676253\tbest: 62080.2676253 (79)\ttotal: 2m 28s\tremaining: 37.1s\n",
      "80:\tlearn: 38183.5418005\ttest: 62076.7207762\tbest: 62076.7207762 (80)\ttotal: 2m 28s\tremaining: 34.9s\n",
      "81:\tlearn: 37890.9141376\ttest: 62081.0275578\tbest: 62076.7207762 (80)\ttotal: 2m 29s\tremaining: 32.9s\n",
      "82:\tlearn: 37888.3363619\ttest: 62078.9078793\tbest: 62076.7207762 (80)\ttotal: 2m 30s\tremaining: 30.9s\n",
      "83:\tlearn: 37598.1507861\ttest: 62051.0881388\tbest: 62051.0881388 (83)\ttotal: 2m 32s\tremaining: 29.1s\n",
      "84:\tlearn: 37307.6666119\ttest: 62068.5466495\tbest: 62051.0881388 (83)\ttotal: 2m 34s\tremaining: 27.2s\n",
      "85:\tlearn: 37105.3407558\ttest: 62100.0831052\tbest: 62051.0881388 (83)\ttotal: 2m 35s\tremaining: 25.3s\n",
      "86:\tlearn: 36956.7772375\ttest: 62070.9950156\tbest: 62051.0881388 (83)\ttotal: 2m 37s\tremaining: 23.5s\n",
      "87:\tlearn: 36799.2841866\ttest: 62032.5923342\tbest: 62032.5923342 (87)\ttotal: 2m 39s\tremaining: 21.7s\n",
      "88:\tlearn: 36791.4914280\ttest: 62032.2247021\tbest: 62032.2247021 (88)\ttotal: 2m 40s\tremaining: 19.8s\n",
      "89:\tlearn: 36651.3387423\ttest: 62060.5622195\tbest: 62032.2247021 (88)\ttotal: 2m 41s\tremaining: 18s\n",
      "90:\tlearn: 36562.4168550\ttest: 62073.7209074\tbest: 62032.2247021 (88)\ttotal: 2m 43s\tremaining: 16.2s\n",
      "91:\tlearn: 36560.2933126\ttest: 62070.6441438\tbest: 62032.2247021 (88)\ttotal: 2m 45s\tremaining: 14.4s\n",
      "92:\tlearn: 36280.2102186\ttest: 62135.6325542\tbest: 62032.2247021 (88)\ttotal: 2m 47s\tremaining: 12.6s\n",
      "93:\tlearn: 36150.8976304\ttest: 62122.2306891\tbest: 62032.2247021 (88)\ttotal: 2m 50s\tremaining: 10.9s\n",
      "94:\tlearn: 35976.7727875\ttest: 62085.4084150\tbest: 62032.2247021 (88)\ttotal: 2m 51s\tremaining: 9.05s\n",
      "95:\tlearn: 35799.5790505\ttest: 62090.0040995\tbest: 62032.2247021 (88)\ttotal: 2m 53s\tremaining: 7.24s\n",
      "96:\tlearn: 35662.6204914\ttest: 62062.8207439\tbest: 62032.2247021 (88)\ttotal: 2m 55s\tremaining: 5.43s\n",
      "97:\tlearn: 35368.0243271\ttest: 62126.2079991\tbest: 62032.2247021 (88)\ttotal: 2m 57s\tremaining: 3.63s\n",
      "98:\tlearn: 35190.7084546\ttest: 62075.1698898\tbest: 62032.2247021 (88)\ttotal: 2m 59s\tremaining: 1.81s\n",
      "99:\tlearn: 35026.0946149\ttest: 62031.7028377\tbest: 62031.7028377 (99)\ttotal: 3m 1s\tremaining: 0us\n",
      "\n",
      "bestTest = 62031.70284\n",
      "bestIteration = 99\n",
      "\n",
      "Training on fold [2/5]\n",
      "0:\tlearn: 239077.0201793\ttest: 239320.7520708\tbest: 239320.7520708 (0)\ttotal: 1.79s\tremaining: 2m 57s\n",
      "1:\tlearn: 143436.4177314\ttest: 143709.6799532\tbest: 143709.6799532 (1)\ttotal: 1.92s\tremaining: 1m 34s\n",
      "2:\tlearn: 101578.5435568\ttest: 102592.0695988\tbest: 102592.0695988 (2)\ttotal: 3.89s\tremaining: 2m 5s\n",
      "3:\tlearn: 84659.1299733\ttest: 87244.0517475\tbest: 87244.0517475 (3)\ttotal: 5.79s\tremaining: 2m 18s\n",
      "4:\tlearn: 76526.5642561\ttest: 79384.7688354\tbest: 79384.7688354 (4)\ttotal: 7.76s\tremaining: 2m 27s\n",
      "5:\tlearn: 71915.9516187\ttest: 75777.3909215\tbest: 75777.3909215 (5)\ttotal: 9.81s\tremaining: 2m 33s\n",
      "6:\tlearn: 67298.6391676\ttest: 71608.2649387\tbest: 71608.2649387 (6)\ttotal: 11.7s\tremaining: 2m 34s\n",
      "7:\tlearn: 66400.8377751\ttest: 70639.4128095\tbest: 70639.4128095 (7)\ttotal: 11.7s\tremaining: 2m 14s\n",
      "8:\tlearn: 64412.4522890\ttest: 69388.6126790\tbest: 69388.6126790 (8)\ttotal: 13.5s\tremaining: 2m 16s\n",
      "9:\tlearn: 63354.9757568\ttest: 68599.0853834\tbest: 68599.0853834 (9)\ttotal: 15.5s\tremaining: 2m 19s\n",
      "10:\tlearn: 62630.7160691\ttest: 67965.2714493\tbest: 67965.2714493 (10)\ttotal: 17.7s\tremaining: 2m 23s\n",
      "11:\tlearn: 61679.5432183\ttest: 67270.9615241\tbest: 67270.9615241 (11)\ttotal: 19.8s\tremaining: 2m 25s\n",
      "12:\tlearn: 61345.6826223\ttest: 67048.2717116\tbest: 67048.2717116 (12)\ttotal: 21.8s\tremaining: 2m 25s\n",
      "13:\tlearn: 60962.3296790\ttest: 66819.7218972\tbest: 66819.7218972 (13)\ttotal: 23.6s\tremaining: 2m 24s\n",
      "14:\tlearn: 59589.8594959\ttest: 66133.1331862\tbest: 66133.1331862 (14)\ttotal: 25.4s\tremaining: 2m 24s\n",
      "15:\tlearn: 58841.2393702\ttest: 65730.7643341\tbest: 65730.7643341 (15)\ttotal: 27.2s\tremaining: 2m 22s\n",
      "16:\tlearn: 58792.9836489\ttest: 65651.2015046\tbest: 65651.2015046 (16)\ttotal: 27.2s\tremaining: 2m 12s\n",
      "17:\tlearn: 58004.0550554\ttest: 65121.6975356\tbest: 65121.6975356 (17)\ttotal: 29.3s\tremaining: 2m 13s\n",
      "18:\tlearn: 57211.2216971\ttest: 64966.8935766\tbest: 64966.8935766 (18)\ttotal: 31.1s\tremaining: 2m 12s\n",
      "19:\tlearn: 56989.2898115\ttest: 64871.2962365\tbest: 64871.2962365 (19)\ttotal: 32.9s\tremaining: 2m 11s\n",
      "20:\tlearn: 56754.6224694\ttest: 64806.0255572\tbest: 64806.0255572 (20)\ttotal: 34.7s\tremaining: 2m 10s\n",
      "21:\tlearn: 55928.5915625\ttest: 64640.4271071\tbest: 64640.4271071 (21)\ttotal: 37s\tremaining: 2m 11s\n",
      "22:\tlearn: 55271.0867945\ttest: 64398.6910721\tbest: 64398.6910721 (22)\ttotal: 39.1s\tremaining: 2m 10s\n",
      "23:\tlearn: 55008.2236854\ttest: 64287.1177450\tbest: 64287.1177450 (23)\ttotal: 41s\tremaining: 2m 9s\n",
      "24:\tlearn: 54752.9686845\ttest: 64185.1222067\tbest: 64185.1222067 (24)\ttotal: 42.9s\tremaining: 2m 8s\n",
      "25:\tlearn: 54455.0447079\ttest: 64131.0616361\tbest: 64131.0616361 (25)\ttotal: 44.8s\tremaining: 2m 7s\n",
      "26:\tlearn: 54187.7706765\ttest: 63995.5545633\tbest: 63995.5545633 (26)\ttotal: 46.5s\tremaining: 2m 5s\n",
      "27:\tlearn: 53401.2804589\ttest: 63994.4677119\tbest: 63994.4677119 (27)\ttotal: 48.4s\tremaining: 2m 4s\n",
      "28:\tlearn: 52645.3013867\ttest: 63745.2872734\tbest: 63745.2872734 (28)\ttotal: 50.2s\tremaining: 2m 2s\n",
      "29:\tlearn: 52122.2830543\ttest: 63539.4915474\tbest: 63539.4915474 (29)\ttotal: 52.3s\tremaining: 2m 1s\n",
      "30:\tlearn: 51774.0605211\ttest: 63450.6193347\tbest: 63450.6193347 (30)\ttotal: 53.9s\tremaining: 2m\n",
      "31:\tlearn: 51668.4987525\ttest: 63423.2349505\tbest: 63423.2349505 (31)\ttotal: 55.8s\tremaining: 1m 58s\n",
      "32:\tlearn: 51451.5130824\ttest: 63293.5417204\tbest: 63293.5417204 (32)\ttotal: 57.7s\tremaining: 1m 57s\n",
      "33:\tlearn: 51137.1874461\ttest: 63200.8451808\tbest: 63200.8451808 (33)\ttotal: 59.6s\tremaining: 1m 55s\n",
      "34:\tlearn: 50586.8313551\ttest: 63129.6166110\tbest: 63129.6166110 (34)\ttotal: 1m 1s\tremaining: 1m 54s\n",
      "35:\tlearn: 50226.0081489\ttest: 62903.3526414\tbest: 62903.3526414 (35)\ttotal: 1m 3s\tremaining: 1m 52s\n",
      "36:\tlearn: 49710.8913046\ttest: 62847.2058416\tbest: 62847.2058416 (36)\ttotal: 1m 5s\tremaining: 1m 50s\n",
      "37:\tlearn: 49397.4564997\ttest: 62857.8685712\tbest: 62847.2058416 (36)\ttotal: 1m 7s\tremaining: 1m 49s\n",
      "38:\tlearn: 48970.2367665\ttest: 62817.8396576\tbest: 62817.8396576 (38)\ttotal: 1m 8s\tremaining: 1m 47s\n",
      "39:\tlearn: 48647.2015256\ttest: 62804.9332574\tbest: 62804.9332574 (39)\ttotal: 1m 11s\tremaining: 1m 47s\n",
      "40:\tlearn: 48298.0301721\ttest: 62775.3531045\tbest: 62775.3531045 (40)\ttotal: 1m 13s\tremaining: 1m 45s\n",
      "41:\tlearn: 48213.5257800\ttest: 62725.8001003\tbest: 62725.8001003 (41)\ttotal: 1m 15s\tremaining: 1m 44s\n",
      "42:\tlearn: 47867.7827545\ttest: 62665.5736446\tbest: 62665.5736446 (42)\ttotal: 1m 17s\tremaining: 1m 42s\n",
      "43:\tlearn: 47650.6799689\ttest: 62554.5600626\tbest: 62554.5600626 (43)\ttotal: 1m 19s\tremaining: 1m 40s\n",
      "44:\tlearn: 47191.9929235\ttest: 62620.8823847\tbest: 62554.5600626 (43)\ttotal: 1m 20s\tremaining: 1m 38s\n",
      "45:\tlearn: 46805.6194966\ttest: 62596.2921666\tbest: 62554.5600626 (43)\ttotal: 1m 23s\tremaining: 1m 37s\n",
      "46:\tlearn: 46753.2422577\ttest: 62550.8715319\tbest: 62550.8715319 (46)\ttotal: 1m 24s\tremaining: 1m 35s\n",
      "47:\tlearn: 46196.7889556\ttest: 62528.3614753\tbest: 62528.3614753 (47)\ttotal: 1m 26s\tremaining: 1m 33s\n",
      "48:\tlearn: 45962.9895763\ttest: 62552.9904267\tbest: 62528.3614753 (47)\ttotal: 1m 28s\tremaining: 1m 32s\n",
      "49:\tlearn: 45816.0242387\ttest: 62516.4091022\tbest: 62516.4091022 (49)\ttotal: 1m 30s\tremaining: 1m 30s\n",
      "50:\tlearn: 45409.4021501\ttest: 62550.2047690\tbest: 62516.4091022 (49)\ttotal: 1m 32s\tremaining: 1m 28s\n",
      "51:\tlearn: 45051.5764158\ttest: 62508.5512754\tbest: 62508.5512754 (51)\ttotal: 1m 34s\tremaining: 1m 27s\n",
      "52:\tlearn: 45022.5571097\ttest: 62496.7681629\tbest: 62496.7681629 (52)\ttotal: 1m 36s\tremaining: 1m 25s\n",
      "53:\tlearn: 44648.2227138\ttest: 62474.0565896\tbest: 62474.0565896 (53)\ttotal: 1m 38s\tremaining: 1m 23s\n",
      "54:\tlearn: 44467.4674493\ttest: 62502.7372264\tbest: 62474.0565896 (53)\ttotal: 1m 40s\tremaining: 1m 21s\n",
      "55:\tlearn: 44210.9765778\ttest: 62538.5806287\tbest: 62474.0565896 (53)\ttotal: 1m 42s\tremaining: 1m 20s\n",
      "56:\tlearn: 43887.2630171\ttest: 62471.3812250\tbest: 62471.3812250 (56)\ttotal: 1m 44s\tremaining: 1m 18s\n",
      "57:\tlearn: 43853.9557294\ttest: 62454.6097538\tbest: 62454.6097538 (57)\ttotal: 1m 45s\tremaining: 1m 16s\n",
      "58:\tlearn: 43433.1965292\ttest: 62507.8257130\tbest: 62454.6097538 (57)\ttotal: 1m 47s\tremaining: 1m 14s\n",
      "59:\tlearn: 43106.3287560\ttest: 62508.5134691\tbest: 62454.6097538 (57)\ttotal: 1m 49s\tremaining: 1m 13s\n",
      "60:\tlearn: 42854.1811082\ttest: 62481.6392184\tbest: 62454.6097538 (57)\ttotal: 1m 51s\tremaining: 1m 11s\n",
      "61:\tlearn: 42832.0753330\ttest: 62480.5779798\tbest: 62454.6097538 (57)\ttotal: 1m 53s\tremaining: 1m 9s\n",
      "62:\tlearn: 42549.8569784\ttest: 62434.6286240\tbest: 62434.6286240 (62)\ttotal: 1m 54s\tremaining: 1m 7s\n",
      "63:\tlearn: 42215.9986352\ttest: 62396.5336913\tbest: 62396.5336913 (63)\ttotal: 1m 56s\tremaining: 1m 5s\n",
      "64:\tlearn: 42062.5442532\ttest: 62392.0536270\tbest: 62392.0536270 (64)\ttotal: 1m 57s\tremaining: 1m 3s\n",
      "65:\tlearn: 41853.3144142\ttest: 62374.2077363\tbest: 62374.2077363 (65)\ttotal: 1m 58s\tremaining: 1m 1s\n",
      "66:\tlearn: 41683.4931583\ttest: 62369.6766356\tbest: 62369.6766356 (66)\ttotal: 2m\tremaining: 59.4s\n",
      "67:\tlearn: 41506.8343986\ttest: 62337.6441205\tbest: 62337.6441205 (67)\ttotal: 2m 2s\tremaining: 57.7s\n",
      "68:\tlearn: 41224.5321210\ttest: 62333.3712872\tbest: 62333.3712872 (68)\ttotal: 2m 4s\tremaining: 55.9s\n",
      "69:\tlearn: 40961.1462852\ttest: 62295.9487245\tbest: 62295.9487245 (69)\ttotal: 2m 6s\tremaining: 54.2s\n",
      "70:\tlearn: 40693.9479214\ttest: 62244.6773709\tbest: 62244.6773709 (70)\ttotal: 2m 8s\tremaining: 52.5s\n",
      "71:\tlearn: 40523.3248516\ttest: 62199.3581017\tbest: 62199.3581017 (71)\ttotal: 2m 10s\tremaining: 50.7s\n",
      "72:\tlearn: 40285.8985912\ttest: 62188.8902308\tbest: 62188.8902308 (72)\ttotal: 2m 12s\tremaining: 48.9s\n",
      "73:\tlearn: 40111.6878070\ttest: 62156.4263266\tbest: 62156.4263266 (73)\ttotal: 2m 14s\tremaining: 47.1s\n",
      "74:\tlearn: 39815.7069757\ttest: 62088.1653367\tbest: 62088.1653367 (74)\ttotal: 2m 15s\tremaining: 45.3s\n",
      "75:\tlearn: 39650.8928162\ttest: 62115.3503297\tbest: 62088.1653367 (74)\ttotal: 2m 17s\tremaining: 43.5s\n",
      "76:\tlearn: 39343.1248953\ttest: 62119.9092737\tbest: 62088.1653367 (74)\ttotal: 2m 19s\tremaining: 41.7s\n",
      "77:\tlearn: 39142.5461760\ttest: 62157.9889230\tbest: 62088.1653367 (74)\ttotal: 2m 21s\tremaining: 40s\n",
      "78:\tlearn: 38951.4183749\ttest: 62164.4517810\tbest: 62088.1653367 (74)\ttotal: 2m 23s\tremaining: 38.2s\n",
      "79:\tlearn: 38760.9887848\ttest: 62156.0016127\tbest: 62088.1653367 (74)\ttotal: 2m 25s\tremaining: 36.4s\n",
      "80:\tlearn: 38484.4888167\ttest: 62133.6018372\tbest: 62088.1653367 (74)\ttotal: 2m 27s\tremaining: 34.5s\n",
      "81:\tlearn: 38328.8880894\ttest: 62123.0815751\tbest: 62088.1653367 (74)\ttotal: 2m 29s\tremaining: 32.7s\n",
      "82:\tlearn: 38175.4213843\ttest: 62142.6013056\tbest: 62088.1653367 (74)\ttotal: 2m 30s\tremaining: 30.9s\n",
      "83:\tlearn: 37993.4654624\ttest: 62090.5611975\tbest: 62088.1653367 (74)\ttotal: 2m 33s\tremaining: 29.1s\n",
      "84:\tlearn: 37854.3879451\ttest: 62107.9770551\tbest: 62088.1653367 (74)\ttotal: 2m 35s\tremaining: 27.4s\n",
      "85:\tlearn: 37652.7478984\ttest: 62109.8409208\tbest: 62088.1653367 (74)\ttotal: 2m 37s\tremaining: 25.6s\n",
      "86:\tlearn: 37460.0390823\ttest: 62106.6971565\tbest: 62088.1653367 (74)\ttotal: 2m 38s\tremaining: 23.7s\n",
      "87:\tlearn: 37238.6998985\ttest: 62112.9300605\tbest: 62088.1653367 (74)\ttotal: 2m 40s\tremaining: 21.9s\n",
      "88:\tlearn: 36993.2749034\ttest: 62147.4394896\tbest: 62088.1653367 (74)\ttotal: 2m 42s\tremaining: 20.1s\n",
      "89:\tlearn: 36827.9640529\ttest: 62109.0599583\tbest: 62088.1653367 (74)\ttotal: 2m 44s\tremaining: 18.3s\n",
      "90:\tlearn: 36634.9742948\ttest: 62111.4016238\tbest: 62088.1653367 (74)\ttotal: 2m 46s\tremaining: 16.4s\n",
      "91:\tlearn: 36468.4606981\ttest: 62124.4963946\tbest: 62088.1653367 (74)\ttotal: 2m 48s\tremaining: 14.6s\n",
      "92:\tlearn: 36349.2531723\ttest: 62114.1573470\tbest: 62088.1653367 (74)\ttotal: 2m 50s\tremaining: 12.8s\n",
      "93:\tlearn: 36090.5678379\ttest: 62085.2057162\tbest: 62085.2057162 (93)\ttotal: 2m 52s\tremaining: 11s\n",
      "94:\tlearn: 35766.6329218\ttest: 62079.7548731\tbest: 62079.7548731 (94)\ttotal: 2m 54s\tremaining: 9.16s\n",
      "95:\tlearn: 35603.2520014\ttest: 62095.5539641\tbest: 62079.7548731 (94)\ttotal: 2m 55s\tremaining: 7.33s\n",
      "96:\tlearn: 35421.7592041\ttest: 62077.9966446\tbest: 62077.9966446 (96)\ttotal: 2m 57s\tremaining: 5.5s\n",
      "97:\tlearn: 35202.8642081\ttest: 62077.3564406\tbest: 62077.3564406 (97)\ttotal: 2m 59s\tremaining: 3.67s\n",
      "98:\tlearn: 35096.3045945\ttest: 62085.8903953\tbest: 62077.3564406 (97)\ttotal: 3m 1s\tremaining: 1.83s\n",
      "99:\tlearn: 35002.6809156\ttest: 62056.7284382\tbest: 62056.7284382 (99)\ttotal: 3m 3s\tremaining: 0us\n",
      "\n",
      "bestTest = 62056.72844\n",
      "bestIteration = 99\n",
      "\n",
      "Training on fold [3/5]\n",
      "0:\tlearn: 238072.0230067\ttest: 237563.7799499\tbest: 237563.7799499 (0)\ttotal: 34.6ms\tremaining: 3.43s\n",
      "1:\tlearn: 141047.2340534\ttest: 141008.3978896\tbest: 141008.3978896 (1)\ttotal: 235ms\tremaining: 11.5s\n",
      "2:\tlearn: 98798.8611657\ttest: 98940.9696086\tbest: 98940.9696086 (2)\ttotal: 2.07s\tremaining: 1m 7s\n",
      "3:\tlearn: 82989.5347970\ttest: 83598.2913716\tbest: 83598.2913716 (3)\ttotal: 3.98s\tremaining: 1m 35s\n",
      "4:\tlearn: 75518.5049901\ttest: 76780.4758521\tbest: 76780.4758521 (4)\ttotal: 4.79s\tremaining: 1m 30s\n",
      "5:\tlearn: 69389.6656024\ttest: 71546.2030494\tbest: 71546.2030494 (5)\ttotal: 6.78s\tremaining: 1m 46s\n",
      "6:\tlearn: 65758.9761523\ttest: 69173.4150889\tbest: 69173.4150889 (6)\ttotal: 8.72s\tremaining: 1m 55s\n",
      "7:\tlearn: 63633.6479296\ttest: 67871.1952694\tbest: 67871.1952694 (7)\ttotal: 10.9s\tremaining: 2m 5s\n",
      "8:\tlearn: 62952.6428285\ttest: 67405.8185287\tbest: 67405.8185287 (8)\ttotal: 12.8s\tremaining: 2m 9s\n",
      "9:\tlearn: 62352.2390754\ttest: 67112.7616963\tbest: 67112.7616963 (9)\ttotal: 14.8s\tremaining: 2m 13s\n",
      "10:\tlearn: 61259.8802726\ttest: 66621.3475973\tbest: 66621.3475973 (10)\ttotal: 16.7s\tremaining: 2m 15s\n",
      "11:\tlearn: 60611.3240515\ttest: 66318.4818623\tbest: 66318.4818623 (11)\ttotal: 18.7s\tremaining: 2m 17s\n",
      "12:\tlearn: 59989.8731171\ttest: 66076.4771854\tbest: 66076.4771854 (12)\ttotal: 20.9s\tremaining: 2m 19s\n",
      "13:\tlearn: 59688.6088391\ttest: 65922.1208694\tbest: 65922.1208694 (13)\ttotal: 22.7s\tremaining: 2m 19s\n",
      "14:\tlearn: 59363.0247253\ttest: 65809.4392128\tbest: 65809.4392128 (14)\ttotal: 24.6s\tremaining: 2m 19s\n",
      "15:\tlearn: 58589.1955291\ttest: 65384.9786024\tbest: 65384.9786024 (15)\ttotal: 26.4s\tremaining: 2m 18s\n",
      "16:\tlearn: 58352.9546915\ttest: 65242.3770966\tbest: 65242.3770966 (16)\ttotal: 28.2s\tremaining: 2m 17s\n",
      "17:\tlearn: 57745.8834175\ttest: 65094.6650412\tbest: 65094.6650412 (17)\ttotal: 30.2s\tremaining: 2m 17s\n",
      "18:\tlearn: 56991.7963390\ttest: 65109.1903027\tbest: 65094.6650412 (17)\ttotal: 32.1s\tremaining: 2m 16s\n",
      "19:\tlearn: 56610.6089648\ttest: 64938.2651133\tbest: 64938.2651133 (19)\ttotal: 34s\tremaining: 2m 15s\n",
      "20:\tlearn: 56227.1625314\ttest: 64814.6992187\tbest: 64814.6992187 (20)\ttotal: 35.7s\tremaining: 2m 14s\n",
      "21:\tlearn: 55749.0321189\ttest: 64621.0341457\tbest: 64621.0341457 (21)\ttotal: 37.6s\tremaining: 2m 13s\n",
      "22:\tlearn: 55529.3130832\ttest: 64548.8483303\tbest: 64548.8483303 (22)\ttotal: 39.5s\tremaining: 2m 12s\n",
      "23:\tlearn: 54902.5250889\ttest: 64292.4914692\tbest: 64292.4914692 (23)\ttotal: 41.3s\tremaining: 2m 10s\n",
      "24:\tlearn: 54442.6371291\ttest: 64250.5383023\tbest: 64250.5383023 (24)\ttotal: 43.6s\tremaining: 2m 10s\n",
      "25:\tlearn: 53651.3935283\ttest: 63964.1609172\tbest: 63964.1609172 (25)\ttotal: 45.6s\tremaining: 2m 9s\n",
      "26:\tlearn: 53204.6366418\ttest: 63715.0808460\tbest: 63715.0808460 (26)\ttotal: 47.4s\tremaining: 2m 8s\n",
      "27:\tlearn: 53176.8553598\ttest: 63707.3144901\tbest: 63707.3144901 (27)\ttotal: 49.3s\tremaining: 2m 6s\n",
      "28:\tlearn: 52956.7592560\ttest: 63605.7058627\tbest: 63605.7058627 (28)\ttotal: 51.4s\tremaining: 2m 5s\n",
      "29:\tlearn: 52871.4269874\ttest: 63493.2115089\tbest: 63493.2115089 (29)\ttotal: 53.4s\tremaining: 2m 4s\n",
      "30:\tlearn: 52054.5723719\ttest: 63306.6383938\tbest: 63306.6383938 (30)\ttotal: 55.3s\tremaining: 2m 3s\n",
      "31:\tlearn: 51676.7177148\ttest: 63229.2414571\tbest: 63229.2414571 (31)\ttotal: 57.1s\tremaining: 2m 1s\n",
      "32:\tlearn: 51665.8673533\ttest: 63228.5183819\tbest: 63228.5183819 (32)\ttotal: 59s\tremaining: 1m 59s\n",
      "33:\tlearn: 51221.8614576\ttest: 63165.4797086\tbest: 63165.4797086 (33)\ttotal: 1m\tremaining: 1m 57s\n",
      "34:\tlearn: 50866.9401738\ttest: 63110.8683123\tbest: 63110.8683123 (34)\ttotal: 1m 2s\tremaining: 1m 56s\n",
      "35:\tlearn: 50287.2553293\ttest: 63051.4161916\tbest: 63051.4161916 (35)\ttotal: 1m 4s\tremaining: 1m 55s\n",
      "36:\tlearn: 49630.5352886\ttest: 62954.8233701\tbest: 62954.8233701 (36)\ttotal: 1m 6s\tremaining: 1m 53s\n",
      "37:\tlearn: 49234.1392727\ttest: 62884.7315716\tbest: 62884.7315716 (37)\ttotal: 1m 8s\tremaining: 1m 52s\n",
      "38:\tlearn: 48829.9156882\ttest: 62820.9253763\tbest: 62820.9253763 (38)\ttotal: 1m 10s\tremaining: 1m 50s\n",
      "39:\tlearn: 48629.9698050\ttest: 62695.5655240\tbest: 62695.5655240 (39)\ttotal: 1m 12s\tremaining: 1m 49s\n",
      "40:\tlearn: 48260.5232173\ttest: 62600.4872224\tbest: 62600.4872224 (40)\ttotal: 1m 14s\tremaining: 1m 47s\n",
      "41:\tlearn: 48038.1671474\ttest: 62596.3323206\tbest: 62596.3323206 (41)\ttotal: 1m 16s\tremaining: 1m 45s\n",
      "42:\tlearn: 47577.5388302\ttest: 62583.8145817\tbest: 62583.8145817 (42)\ttotal: 1m 18s\tremaining: 1m 44s\n",
      "43:\tlearn: 47302.0303273\ttest: 62494.5033897\tbest: 62494.5033897 (43)\ttotal: 1m 20s\tremaining: 1m 42s\n",
      "44:\tlearn: 47123.5522797\ttest: 62456.6058617\tbest: 62456.6058617 (44)\ttotal: 1m 22s\tremaining: 1m 40s\n",
      "45:\tlearn: 47112.5505558\ttest: 62459.3618795\tbest: 62456.6058617 (44)\ttotal: 1m 23s\tremaining: 1m 38s\n",
      "46:\tlearn: 46960.5745146\ttest: 62386.4938444\tbest: 62386.4938444 (46)\ttotal: 1m 26s\tremaining: 1m 37s\n",
      "47:\tlearn: 46449.4662896\ttest: 62332.0173123\tbest: 62332.0173123 (47)\ttotal: 1m 28s\tremaining: 1m 35s\n",
      "48:\tlearn: 46163.8942952\ttest: 62304.8673272\tbest: 62304.8673272 (48)\ttotal: 1m 29s\tremaining: 1m 33s\n",
      "49:\tlearn: 45826.2667316\ttest: 62289.5965027\tbest: 62289.5965027 (49)\ttotal: 1m 31s\tremaining: 1m 31s\n",
      "50:\tlearn: 45478.0990332\ttest: 62234.3440530\tbest: 62234.3440530 (50)\ttotal: 1m 33s\tremaining: 1m 30s\n",
      "51:\tlearn: 44967.9550602\ttest: 62273.5362538\tbest: 62234.3440530 (50)\ttotal: 1m 35s\tremaining: 1m 28s\n",
      "52:\tlearn: 44577.8614736\ttest: 62256.5599338\tbest: 62234.3440530 (50)\ttotal: 1m 38s\tremaining: 1m 26s\n",
      "53:\tlearn: 44163.1638525\ttest: 62256.7494835\tbest: 62234.3440530 (50)\ttotal: 1m 40s\tremaining: 1m 25s\n",
      "54:\tlearn: 43820.3508732\ttest: 62202.5286377\tbest: 62202.5286377 (54)\ttotal: 1m 42s\tremaining: 1m 23s\n",
      "55:\tlearn: 43617.2595974\ttest: 62219.1617762\tbest: 62202.5286377 (54)\ttotal: 1m 43s\tremaining: 1m 21s\n",
      "56:\tlearn: 43473.5380632\ttest: 62183.9117632\tbest: 62183.9117632 (56)\ttotal: 1m 46s\tremaining: 1m 20s\n",
      "57:\tlearn: 43112.1908987\ttest: 62171.1123196\tbest: 62171.1123196 (57)\ttotal: 1m 48s\tremaining: 1m 18s\n",
      "58:\tlearn: 43105.0980249\ttest: 62170.8738384\tbest: 62170.8738384 (58)\ttotal: 1m 50s\tremaining: 1m 16s\n",
      "59:\tlearn: 42986.9302155\ttest: 62153.1403796\tbest: 62153.1403796 (59)\ttotal: 1m 52s\tremaining: 1m 14s\n",
      "60:\tlearn: 42704.9840840\ttest: 62100.6340514\tbest: 62100.6340514 (60)\ttotal: 1m 53s\tremaining: 1m 12s\n",
      "61:\tlearn: 42389.9864735\ttest: 62085.9368784\tbest: 62085.9368784 (61)\ttotal: 1m 55s\tremaining: 1m 10s\n",
      "62:\tlearn: 42084.0727095\ttest: 62070.4044244\tbest: 62070.4044244 (62)\ttotal: 1m 58s\tremaining: 1m 9s\n",
      "63:\tlearn: 41840.4347997\ttest: 62094.0716062\tbest: 62070.4044244 (62)\ttotal: 1m 59s\tremaining: 1m 7s\n",
      "64:\tlearn: 41612.5394704\ttest: 62063.9016698\tbest: 62063.9016698 (64)\ttotal: 2m 1s\tremaining: 1m 5s\n",
      "65:\tlearn: 41252.7024988\ttest: 62030.0233379\tbest: 62030.0233379 (65)\ttotal: 2m 3s\tremaining: 1m 3s\n",
      "66:\tlearn: 41036.7471964\ttest: 61928.4318186\tbest: 61928.4318186 (66)\ttotal: 2m 5s\tremaining: 1m 2s\n",
      "67:\tlearn: 40740.3233129\ttest: 61923.1693208\tbest: 61923.1693208 (67)\ttotal: 2m 7s\tremaining: 1m\n",
      "68:\tlearn: 40598.4885892\ttest: 61921.6458884\tbest: 61921.6458884 (68)\ttotal: 2m 9s\tremaining: 58.3s\n",
      "69:\tlearn: 40286.3350637\ttest: 61939.7214535\tbest: 61921.6458884 (68)\ttotal: 2m 11s\tremaining: 56.4s\n",
      "70:\tlearn: 39881.3288347\ttest: 61952.0798645\tbest: 61921.6458884 (68)\ttotal: 2m 13s\tremaining: 54.6s\n",
      "71:\tlearn: 39763.7263019\ttest: 61918.9231300\tbest: 61918.9231300 (71)\ttotal: 2m 15s\tremaining: 52.8s\n",
      "72:\tlearn: 39651.7612830\ttest: 61885.0988362\tbest: 61885.0988362 (72)\ttotal: 2m 17s\tremaining: 51s\n",
      "73:\tlearn: 39439.3049839\ttest: 61855.3952417\tbest: 61855.3952417 (73)\ttotal: 2m 19s\tremaining: 49.1s\n",
      "74:\tlearn: 39157.4520894\ttest: 61807.1649084\tbest: 61807.1649084 (74)\ttotal: 2m 21s\tremaining: 47.3s\n",
      "75:\tlearn: 39080.2288829\ttest: 61792.9438296\tbest: 61792.9438296 (75)\ttotal: 2m 23s\tremaining: 45.3s\n",
      "76:\tlearn: 38835.7482860\ttest: 61809.4052264\tbest: 61792.9438296 (75)\ttotal: 2m 25s\tremaining: 43.4s\n",
      "77:\tlearn: 38635.4080301\ttest: 61839.6714753\tbest: 61792.9438296 (75)\ttotal: 2m 27s\tremaining: 41.5s\n",
      "78:\tlearn: 38405.3855502\ttest: 61839.6624576\tbest: 61792.9438296 (75)\ttotal: 2m 29s\tremaining: 39.6s\n",
      "79:\tlearn: 38402.7482835\ttest: 61839.0193045\tbest: 61792.9438296 (75)\ttotal: 2m 31s\tremaining: 37.8s\n",
      "80:\tlearn: 38227.2816949\ttest: 61857.5572426\tbest: 61792.9438296 (75)\ttotal: 2m 32s\tremaining: 35.9s\n",
      "81:\tlearn: 37968.9014309\ttest: 61844.9786164\tbest: 61792.9438296 (75)\ttotal: 2m 34s\tremaining: 34s\n",
      "82:\tlearn: 37711.6558779\ttest: 61848.8378627\tbest: 61792.9438296 (75)\ttotal: 2m 37s\tremaining: 32.2s\n",
      "83:\tlearn: 37495.5678398\ttest: 61872.2374573\tbest: 61792.9438296 (75)\ttotal: 2m 39s\tremaining: 30.3s\n",
      "84:\tlearn: 37243.6813474\ttest: 61870.7953843\tbest: 61792.9438296 (75)\ttotal: 2m 41s\tremaining: 28.5s\n",
      "85:\tlearn: 37075.0817205\ttest: 61879.3552166\tbest: 61792.9438296 (75)\ttotal: 2m 43s\tremaining: 26.5s\n",
      "86:\tlearn: 36796.6661613\ttest: 61856.3099316\tbest: 61792.9438296 (75)\ttotal: 2m 44s\tremaining: 24.6s\n",
      "87:\tlearn: 36645.1240299\ttest: 61852.1448971\tbest: 61792.9438296 (75)\ttotal: 2m 46s\tremaining: 22.7s\n",
      "88:\tlearn: 36625.0908047\ttest: 61851.4110215\tbest: 61792.9438296 (75)\ttotal: 2m 48s\tremaining: 20.8s\n",
      "89:\tlearn: 36465.8721114\ttest: 61870.5608907\tbest: 61792.9438296 (75)\ttotal: 2m 50s\tremaining: 18.9s\n",
      "90:\tlearn: 36183.1730828\ttest: 61839.6695590\tbest: 61792.9438296 (75)\ttotal: 2m 52s\tremaining: 17s\n",
      "91:\tlearn: 35941.6344529\ttest: 61759.8512583\tbest: 61759.8512583 (91)\ttotal: 2m 53s\tremaining: 15.1s\n",
      "92:\tlearn: 35774.0278930\ttest: 61773.0865298\tbest: 61759.8512583 (91)\ttotal: 2m 55s\tremaining: 13.2s\n",
      "93:\tlearn: 35632.6363672\ttest: 61759.2950377\tbest: 61759.2950377 (93)\ttotal: 2m 56s\tremaining: 11.3s\n",
      "94:\tlearn: 35506.2437522\ttest: 61758.4953573\tbest: 61758.4953573 (94)\ttotal: 2m 58s\tremaining: 9.38s\n",
      "95:\tlearn: 35386.1499902\ttest: 61762.8368423\tbest: 61758.4953573 (94)\ttotal: 3m\tremaining: 7.51s\n",
      "96:\tlearn: 35273.3051272\ttest: 61758.9607641\tbest: 61758.4953573 (94)\ttotal: 3m 2s\tremaining: 5.63s\n",
      "97:\tlearn: 35219.5271175\ttest: 61731.6123034\tbest: 61731.6123034 (97)\ttotal: 3m 3s\tremaining: 3.75s\n",
      "98:\tlearn: 35110.1467660\ttest: 61720.8875810\tbest: 61720.8875810 (98)\ttotal: 3m 5s\tremaining: 1.88s\n",
      "99:\tlearn: 34903.4106103\ttest: 61715.1664478\tbest: 61715.1664478 (99)\ttotal: 3m 7s\tremaining: 0us\n",
      "\n",
      "bestTest = 61715.16645\n",
      "bestIteration = 99\n",
      "\n",
      "Training on fold [4/5]\n",
      "0:\tlearn: 236637.9327504\ttest: 237308.3924233\tbest: 237308.3924233 (0)\ttotal: 1.88s\tremaining: 3m 6s\n",
      "1:\tlearn: 144039.7676714\ttest: 144733.4237790\tbest: 144733.4237790 (1)\ttotal: 1.92s\tremaining: 1m 34s\n",
      "2:\tlearn: 102166.8564789\ttest: 103360.5948385\tbest: 103360.5948385 (2)\ttotal: 3.49s\tremaining: 1m 52s\n",
      "3:\tlearn: 83776.1227964\ttest: 85486.7684344\tbest: 85486.7684344 (3)\ttotal: 5.37s\tremaining: 2m 8s\n",
      "4:\tlearn: 75919.9996954\ttest: 78233.0690312\tbest: 78233.0690312 (4)\ttotal: 6.83s\tremaining: 2m 9s\n",
      "5:\tlearn: 72304.7362344\ttest: 75333.0347875\tbest: 75333.0347875 (5)\ttotal: 8.3s\tremaining: 2m 10s\n",
      "6:\tlearn: 67530.4180012\ttest: 71111.8336167\tbest: 71111.8336167 (6)\ttotal: 9.57s\tremaining: 2m 7s\n",
      "7:\tlearn: 65015.8642086\ttest: 69555.8953603\tbest: 69555.8953603 (7)\ttotal: 11s\tremaining: 2m 5s\n",
      "8:\tlearn: 63842.9734357\ttest: 68623.3237016\tbest: 68623.3237016 (8)\ttotal: 12.3s\tremaining: 2m 4s\n",
      "9:\tlearn: 62441.6345461\ttest: 68121.8012569\tbest: 68121.8012569 (9)\ttotal: 14.3s\tremaining: 2m 8s\n",
      "10:\tlearn: 61587.8612121\ttest: 67498.4226001\tbest: 67498.4226001 (10)\ttotal: 15.8s\tremaining: 2m 7s\n",
      "11:\tlearn: 60918.7939685\ttest: 67056.2522573\tbest: 67056.2522573 (11)\ttotal: 17.6s\tremaining: 2m 9s\n",
      "12:\tlearn: 60496.3578873\ttest: 66863.8342588\tbest: 66863.8342588 (12)\ttotal: 19.3s\tremaining: 2m 9s\n",
      "13:\tlearn: 59737.2725545\ttest: 66603.9934493\tbest: 66603.9934493 (13)\ttotal: 21s\tremaining: 2m 8s\n",
      "14:\tlearn: 59269.6961229\ttest: 66386.1712944\tbest: 66386.1712944 (14)\ttotal: 22.6s\tremaining: 2m 7s\n",
      "15:\tlearn: 58848.0855016\ttest: 66151.5308791\tbest: 66151.5308791 (15)\ttotal: 24.4s\tremaining: 2m 7s\n",
      "16:\tlearn: 58343.2427915\ttest: 65898.4335730\tbest: 65898.4335730 (16)\ttotal: 26.1s\tremaining: 2m 7s\n",
      "17:\tlearn: 57348.5602617\ttest: 65513.4302968\tbest: 65513.4302968 (17)\ttotal: 27.9s\tremaining: 2m 6s\n",
      "18:\tlearn: 56930.2227472\ttest: 65403.0486003\tbest: 65403.0486003 (18)\ttotal: 29.5s\tremaining: 2m 5s\n",
      "19:\tlearn: 56299.5950786\ttest: 65375.8292819\tbest: 65375.8292819 (19)\ttotal: 31.1s\tremaining: 2m 4s\n",
      "20:\tlearn: 55974.4256286\ttest: 65345.3424007\tbest: 65345.3424007 (20)\ttotal: 32.8s\tremaining: 2m 3s\n",
      "21:\tlearn: 55446.8208635\ttest: 65174.4734072\tbest: 65174.4734072 (21)\ttotal: 34.7s\tremaining: 2m 3s\n",
      "22:\tlearn: 55126.1395988\ttest: 65034.5319090\tbest: 65034.5319090 (22)\ttotal: 36.6s\tremaining: 2m 2s\n",
      "23:\tlearn: 54882.9293339\ttest: 64933.1232406\tbest: 64933.1232406 (23)\ttotal: 37.9s\tremaining: 1m 59s\n",
      "24:\tlearn: 54343.3975933\ttest: 64672.0564618\tbest: 64672.0564618 (24)\ttotal: 39.6s\tremaining: 1m 58s\n",
      "25:\tlearn: 53714.0596019\ttest: 64395.3961383\tbest: 64395.3961383 (25)\ttotal: 41.3s\tremaining: 1m 57s\n",
      "26:\tlearn: 52987.2336346\ttest: 64185.7114505\tbest: 64185.7114505 (26)\ttotal: 43.1s\tremaining: 1m 56s\n",
      "27:\tlearn: 52958.8002513\ttest: 64165.8616360\tbest: 64165.8616360 (27)\ttotal: 43.2s\tremaining: 1m 51s\n",
      "28:\tlearn: 52542.2972180\ttest: 64090.5960541\tbest: 64090.5960541 (28)\ttotal: 44.9s\tremaining: 1m 49s\n",
      "29:\tlearn: 52532.8873876\ttest: 64091.5684750\tbest: 64090.5960541 (28)\ttotal: 45.6s\tremaining: 1m 46s\n",
      "30:\tlearn: 52367.1330340\ttest: 64069.0109815\tbest: 64069.0109815 (30)\ttotal: 47.3s\tremaining: 1m 45s\n",
      "31:\tlearn: 51831.6556007\ttest: 64032.2067776\tbest: 64032.2067776 (31)\ttotal: 48.9s\tremaining: 1m 43s\n",
      "32:\tlearn: 51578.4515193\ttest: 63957.0219714\tbest: 63957.0219714 (32)\ttotal: 50.6s\tremaining: 1m 42s\n",
      "33:\tlearn: 50913.9118803\ttest: 63911.6537000\tbest: 63911.6537000 (33)\ttotal: 52.4s\tremaining: 1m 41s\n",
      "34:\tlearn: 50229.9019759\ttest: 63829.4027761\tbest: 63829.4027761 (34)\ttotal: 54.2s\tremaining: 1m 40s\n",
      "35:\tlearn: 50221.4971841\ttest: 63826.7964228\tbest: 63826.7964228 (35)\ttotal: 55.6s\tremaining: 1m 38s\n",
      "36:\tlearn: 49556.6268155\ttest: 63650.7640678\tbest: 63650.7640678 (36)\ttotal: 57.3s\tremaining: 1m 37s\n",
      "37:\tlearn: 49146.0480986\ttest: 63609.3453381\tbest: 63609.3453381 (37)\ttotal: 59.1s\tremaining: 1m 36s\n",
      "38:\tlearn: 48607.5480515\ttest: 63565.4774444\tbest: 63565.4774444 (38)\ttotal: 1m\tremaining: 1m 35s\n",
      "39:\tlearn: 48263.8018993\ttest: 63473.1481934\tbest: 63473.1481934 (39)\ttotal: 1m 2s\tremaining: 1m 33s\n",
      "40:\tlearn: 47898.6210154\ttest: 63412.3437022\tbest: 63412.3437022 (40)\ttotal: 1m 3s\tremaining: 1m 32s\n",
      "41:\tlearn: 47673.8321615\ttest: 63333.3020610\tbest: 63333.3020610 (41)\ttotal: 1m 5s\tremaining: 1m 30s\n",
      "42:\tlearn: 47330.3829955\ttest: 63310.7393427\tbest: 63310.7393427 (42)\ttotal: 1m 7s\tremaining: 1m 29s\n",
      "43:\tlearn: 47162.4178040\ttest: 63213.4428265\tbest: 63213.4428265 (43)\ttotal: 1m 9s\tremaining: 1m 28s\n",
      "44:\tlearn: 46787.7378711\ttest: 63178.6581574\tbest: 63178.6581574 (44)\ttotal: 1m 10s\tremaining: 1m 26s\n",
      "45:\tlearn: 46783.6207018\ttest: 63176.1178931\tbest: 63176.1178931 (45)\ttotal: 1m 12s\tremaining: 1m 25s\n",
      "46:\tlearn: 46164.1885606\ttest: 63044.3217703\tbest: 63044.3217703 (46)\ttotal: 1m 14s\tremaining: 1m 24s\n",
      "47:\tlearn: 46160.0754868\ttest: 63038.5305468\tbest: 63038.5305468 (47)\ttotal: 1m 15s\tremaining: 1m 22s\n",
      "48:\tlearn: 46035.9293004\ttest: 63017.4580454\tbest: 63017.4580454 (48)\ttotal: 1m 17s\tremaining: 1m 20s\n",
      "49:\tlearn: 45457.9299124\ttest: 63002.9491385\tbest: 63002.9491385 (49)\ttotal: 1m 19s\tremaining: 1m 19s\n",
      "50:\tlearn: 45073.1213536\ttest: 62938.5851558\tbest: 62938.5851558 (50)\ttotal: 1m 21s\tremaining: 1m 18s\n",
      "51:\tlearn: 44711.8114755\ttest: 62908.5532230\tbest: 62908.5532230 (51)\ttotal: 1m 23s\tremaining: 1m 16s\n",
      "52:\tlearn: 44454.0601275\ttest: 62847.6697218\tbest: 62847.6697218 (52)\ttotal: 1m 24s\tremaining: 1m 15s\n",
      "53:\tlearn: 44375.7259262\ttest: 62801.7860120\tbest: 62801.7860120 (53)\ttotal: 1m 26s\tremaining: 1m 13s\n",
      "54:\tlearn: 44243.8768972\ttest: 62783.5497910\tbest: 62783.5497910 (54)\ttotal: 1m 28s\tremaining: 1m 12s\n",
      "55:\tlearn: 43893.4080479\ttest: 62806.6589668\tbest: 62783.5497910 (54)\ttotal: 1m 30s\tremaining: 1m 10s\n",
      "56:\tlearn: 43573.0893634\ttest: 62820.7597124\tbest: 62783.5497910 (54)\ttotal: 1m 31s\tremaining: 1m 9s\n",
      "57:\tlearn: 43259.1667569\ttest: 62682.0142295\tbest: 62682.0142295 (57)\ttotal: 1m 33s\tremaining: 1m 7s\n",
      "58:\tlearn: 42810.7566780\ttest: 62760.2912234\tbest: 62682.0142295 (57)\ttotal: 1m 35s\tremaining: 1m 6s\n",
      "59:\tlearn: 42522.2516493\ttest: 62766.8430698\tbest: 62682.0142295 (57)\ttotal: 1m 37s\tremaining: 1m 5s\n",
      "60:\tlearn: 42207.4461953\ttest: 62710.7661901\tbest: 62682.0142295 (57)\ttotal: 1m 39s\tremaining: 1m 3s\n",
      "61:\tlearn: 42031.7183278\ttest: 62641.6881749\tbest: 62641.6881749 (61)\ttotal: 1m 41s\tremaining: 1m 1s\n",
      "62:\tlearn: 41995.7528560\ttest: 62636.1786122\tbest: 62636.1786122 (62)\ttotal: 1m 41s\tremaining: 59.8s\n",
      "63:\tlearn: 41742.8044417\ttest: 62658.4176013\tbest: 62636.1786122 (62)\ttotal: 1m 43s\tremaining: 58.3s\n",
      "64:\tlearn: 41483.5823635\ttest: 62682.0585039\tbest: 62636.1786122 (62)\ttotal: 1m 45s\tremaining: 56.8s\n",
      "65:\tlearn: 41214.0520858\ttest: 62622.3464684\tbest: 62622.3464684 (65)\ttotal: 1m 46s\tremaining: 55.1s\n",
      "66:\tlearn: 41018.1226890\ttest: 62603.6090123\tbest: 62603.6090123 (66)\ttotal: 1m 48s\tremaining: 53.5s\n",
      "67:\tlearn: 40843.7606814\ttest: 62646.1860343\tbest: 62603.6090123 (66)\ttotal: 1m 50s\tremaining: 51.9s\n",
      "68:\tlearn: 40608.8549848\ttest: 62648.7073300\tbest: 62603.6090123 (66)\ttotal: 1m 52s\tremaining: 50.4s\n",
      "69:\tlearn: 40384.9100685\ttest: 62613.9954948\tbest: 62603.6090123 (66)\ttotal: 1m 54s\tremaining: 48.9s\n",
      "70:\tlearn: 40151.9120431\ttest: 62641.9160103\tbest: 62603.6090123 (66)\ttotal: 1m 55s\tremaining: 47.3s\n",
      "71:\tlearn: 39895.7879084\ttest: 62624.6272166\tbest: 62603.6090123 (66)\ttotal: 1m 57s\tremaining: 45.8s\n",
      "72:\tlearn: 39893.6139349\ttest: 62624.2606931\tbest: 62603.6090123 (66)\ttotal: 1m 59s\tremaining: 44.1s\n",
      "73:\tlearn: 39559.2309031\ttest: 62584.4363945\tbest: 62584.4363945 (73)\ttotal: 2m 1s\tremaining: 42.6s\n",
      "74:\tlearn: 39326.1681248\ttest: 62552.4944130\tbest: 62552.4944130 (74)\ttotal: 2m 2s\tremaining: 41s\n",
      "75:\tlearn: 39062.1084285\ttest: 62543.6633253\tbest: 62543.6633253 (75)\ttotal: 2m 4s\tremaining: 39.4s\n",
      "76:\tlearn: 38794.5611613\ttest: 62573.9625522\tbest: 62543.6633253 (75)\ttotal: 2m 6s\tremaining: 37.8s\n",
      "77:\tlearn: 38590.6505471\ttest: 62550.5545097\tbest: 62543.6633253 (75)\ttotal: 2m 7s\tremaining: 36.1s\n",
      "78:\tlearn: 38588.0586898\ttest: 62547.0569615\tbest: 62543.6633253 (75)\ttotal: 2m 9s\tremaining: 34.5s\n",
      "79:\tlearn: 38456.3296391\ttest: 62533.5448921\tbest: 62533.5448921 (79)\ttotal: 2m 11s\tremaining: 32.9s\n",
      "80:\tlearn: 38293.6689602\ttest: 62465.3113697\tbest: 62465.3113697 (80)\ttotal: 2m 13s\tremaining: 31.3s\n",
      "81:\tlearn: 38026.9302523\ttest: 62455.8272082\tbest: 62455.8272082 (81)\ttotal: 2m 14s\tremaining: 29.6s\n",
      "82:\tlearn: 38025.0327483\ttest: 62457.9130897\tbest: 62455.8272082 (81)\ttotal: 2m 15s\tremaining: 27.8s\n",
      "83:\tlearn: 37809.4559371\ttest: 62468.7399730\tbest: 62455.8272082 (81)\ttotal: 2m 17s\tremaining: 26.2s\n",
      "84:\tlearn: 37461.0451112\ttest: 62497.9289942\tbest: 62455.8272082 (81)\ttotal: 2m 19s\tremaining: 24.6s\n",
      "85:\tlearn: 37319.5772115\ttest: 62470.5791107\tbest: 62455.8272082 (81)\ttotal: 2m 21s\tremaining: 23s\n",
      "86:\tlearn: 37004.1697098\ttest: 62448.6638975\tbest: 62448.6638975 (86)\ttotal: 2m 22s\tremaining: 21.3s\n",
      "87:\tlearn: 36827.9529066\ttest: 62435.4655825\tbest: 62435.4655825 (87)\ttotal: 2m 24s\tremaining: 19.7s\n",
      "88:\tlearn: 36632.8052779\ttest: 62438.1506167\tbest: 62435.4655825 (87)\ttotal: 2m 26s\tremaining: 18.1s\n",
      "89:\tlearn: 36483.7295913\ttest: 62424.4795078\tbest: 62424.4795078 (89)\ttotal: 2m 28s\tremaining: 16.5s\n",
      "90:\tlearn: 36450.5376856\ttest: 62436.5419592\tbest: 62424.4795078 (89)\ttotal: 2m 29s\tremaining: 14.8s\n",
      "91:\tlearn: 36221.9329171\ttest: 62436.3380411\tbest: 62424.4795078 (89)\ttotal: 2m 31s\tremaining: 13.2s\n",
      "92:\tlearn: 35948.9654072\ttest: 62442.8496718\tbest: 62424.4795078 (89)\ttotal: 2m 33s\tremaining: 11.5s\n",
      "93:\tlearn: 35793.7576314\ttest: 62453.4065471\tbest: 62424.4795078 (89)\ttotal: 2m 35s\tremaining: 9.9s\n",
      "94:\tlearn: 35623.8130347\ttest: 62417.7135702\tbest: 62417.7135702 (94)\ttotal: 2m 36s\tremaining: 8.24s\n",
      "95:\tlearn: 35621.8546181\ttest: 62416.6901597\tbest: 62416.6901597 (95)\ttotal: 2m 38s\tremaining: 6.59s\n",
      "96:\tlearn: 35593.8840318\ttest: 62397.8495030\tbest: 62397.8495030 (96)\ttotal: 2m 40s\tremaining: 4.96s\n",
      "97:\tlearn: 35290.1967195\ttest: 62382.9986421\tbest: 62382.9986421 (97)\ttotal: 2m 41s\tremaining: 3.3s\n",
      "98:\tlearn: 35115.9597815\ttest: 62407.1583692\tbest: 62382.9986421 (97)\ttotal: 2m 43s\tremaining: 1.65s\n",
      "99:\tlearn: 35028.4888664\ttest: 62414.8085725\tbest: 62382.9986421 (97)\ttotal: 2m 44s\tremaining: 0us\n",
      "\n",
      "bestTest = 62382.99864\n",
      "bestIteration = 97\n",
      "\n",
      "average time is probably: 12.81\n"
     ]
    },
    {
     "data": {
      "text/plain": "{'best_params_': {'depth': 15, 'l2_leaf_reg': 5, 'learning_rate': 0.5},\n 'cv_results_': defaultdict(list,\n             {'iterations': [0,\n               1,\n               2,\n               3,\n               4,\n               5,\n               6,\n               7,\n               8,\n               9,\n               10,\n               11,\n               12,\n               13,\n               14,\n               15,\n               16,\n               17,\n               18,\n               19,\n               20,\n               21,\n               22,\n               23,\n               24,\n               25,\n               26,\n               27,\n               28,\n               29,\n               30,\n               31,\n               32,\n               33,\n               34,\n               35,\n               36,\n               37,\n               38,\n               39,\n               40,\n               41,\n               42,\n               43,\n               44,\n               45,\n               46,\n               47,\n               48,\n               49,\n               50,\n               51,\n               52,\n               53,\n               54,\n               55,\n               56,\n               57,\n               58,\n               59,\n               60,\n               61,\n               62,\n               63,\n               64,\n               65,\n               66,\n               67,\n               68,\n               69,\n               70,\n               71,\n               72,\n               73,\n               74,\n               75,\n               76,\n               77,\n               78,\n               79,\n               80,\n               81,\n               82,\n               83,\n               84,\n               85,\n               86,\n               87,\n               88,\n               89,\n               90,\n               91,\n               92,\n               93,\n               94,\n               95,\n               96,\n               97,\n               98,\n               99],\n              'test-RMSE-mean': [237379.14264476922,\n               143214.22069604936,\n               102144.28020637998,\n               85770.76406925937,\n               78890.25577260555,\n               73996.83578230193,\n               70734.61227863014,\n               69463.54627331326,\n               68510.73801009587,\n               67916.8195878488,\n               67409.5665233848,\n               66921.8808046692,\n               66668.43285914317,\n               66433.49455532833,\n               66135.4679217631,\n               65844.29297669326,\n               65650.71656311021,\n               65320.20421184213,\n               65215.897561556914,\n               65077.123311753,\n               64950.812595409305,\n               64789.138566369875,\n               64630.32413408237,\n               64497.725718870235,\n               64320.29294658373,\n               64123.955817525435,\n               63922.16696885829,\n               63842.92043928646,\n               63671.66375242268,\n               63541.509455916916,\n               63453.364511918604,\n               63401.77201572149,\n               63298.04717444179,\n               63220.4070481691,\n               63133.52794986496,\n               63067.906748420246,\n               62989.25590773403,\n               62967.41939894387,\n               62923.148440656034,\n               62868.29542017895,\n               62823.64561652786,\n               62750.77149547941,\n               62716.55310400055,\n               62653.05930975518,\n               62637.533739955616,\n               62618.88342952953,\n               62556.192561523545,\n               62541.900303412505,\n               62544.110588794305,\n               62505.467687770724,\n               62487.73993427739,\n               62475.961403790585,\n               62452.211409609845,\n               62428.5285440105,\n               62412.60614732005,\n               62402.62170522237,\n               62372.63588701802,\n               62320.22412771014,\n               62343.86309227805,\n               62334.31919778571,\n               62292.793447869386,\n               62269.28372402212,\n               62253.31038816618,\n               62248.68483381069,\n               62241.62150897241,\n               62213.319223101054,\n               62180.17828256544,\n               62186.1096679461,\n               62179.80339433268,\n               62169.65650963192,\n               62162.675584581586,\n               62136.1564167849,\n               62126.55005132166,\n               62097.04829575003,\n               62066.692530696186,\n               62070.82224905598,\n               62068.90214645638,\n               62082.48205660441,\n               62079.92764681835,\n               62066.34749308238,\n               62045.09159527531,\n               62045.72190810366,\n               62050.1106117553,\n               62051.48873784258,\n               62065.81546368949,\n               62068.6865905814,\n               62054.98952416643,\n               62044.80311382364,\n               62050.75262442123,\n               62051.60463958435,\n               62049.566068186075,\n               62032.590147683266,\n               62048.84293542183,\n               62036.0729000574,\n               62020.071487365974,\n               62018.365243818684,\n               62005.065751309405,\n               62001.007864329986,\n               61995.05511125313,\n               61981.12999866365],\n              'test-RMSE-std': [1451.4739117109161,\n               1782.2727510482289,\n               1956.6925311003768,\n               1389.7784466813673,\n               1431.9433680634093,\n               1672.0735966924713,\n               938.8387331309501,\n               1014.3188181319623,\n               717.9787201482937,\n               544.1887316274588,\n               492.71203903310277,\n               368.02585161750517,\n               371.60993871957214,\n               332.6695608531526,\n               224.4121605455687,\n               333.06880578134167,\n               258.8431386815396,\n               196.37263714460892,\n               180.31866732580846,\n               195.20909948952854,\n               228.84546143035044,\n               224.8193706654704,\n               238.67540485185083,\n               263.5371796807888,\n               208.735465709519,\n               168.6180085112268,\n               181.6597674626958,\n               237.98488963410622,\n               264.5873272000527,\n               336.5700056453106,\n               362.3181330385277,\n               379.7284766621041,\n               396.0259461640224,\n               409.70221762772144,\n               422.4187163284256,\n               442.29062463015924,\n               401.11536753218974,\n               387.8627650285442,\n               382.29571226012825,\n               365.1222293865648,\n               355.4878226251006,\n               345.9276917994515,\n               356.3381460477555,\n               322.20895272354966,\n               326.3485865655649,\n               341.3186406945673,\n               294.932184737885,\n               301.7703893241825,\n               299.3122880998313,\n               310.80035487352114,\n               298.3567696904379,\n               282.33074411456425,\n               254.46912531479575,\n               245.88167739471788,\n               262.58971183192875,\n               299.6660965999471,\n               308.6221721949687,\n               276.38602564577405,\n               309.90948792931255,\n               324.0091592421069,\n               316.81165299750944,\n               305.6960481482529,\n               307.40827163772923,\n               302.90847357881614,\n               326.32685955238094,\n               308.6594738381675,\n               322.9655738451869,\n               328.250658127793,\n               332.1631665094176,\n               312.653616077923,\n               316.74178011717817,\n               314.05111045563297,\n               319.52204833240097,\n               315.06249160317407,\n               311.67670699645134,\n               313.40137552104517,\n               326.6617905456733,\n               307.96721556110015,\n               310.849170801526,\n               314.69690101019387,\n               293.71484094725747,\n               282.58486842940624,\n               284.45642449272475,\n               266.60069665284686,\n               276.61174359293034,\n               265.2038057226787,\n               258.068978559835,\n               254.46036824995528,\n               259.9887093454427,\n               245.90843370506687,\n               258.563185904014,\n               280.8018322398128,\n               281.1462228017932,\n               290.1300515233418,\n               275.0174343811763,\n               282.8835170742319,\n               274.05859041781673,\n               290.9817471684359,\n               297.94159992825314,\n               297.26066432259444],\n              'train-RMSE-mean': [237084.22958336366,\n               142496.4549075206,\n               101199.22917466266,\n               83926.46904623388,\n               76692.7748791964,\n               70938.88740077995,\n               67080.75094547798,\n               65227.32784667851,\n               63796.933657085545,\n               62796.000948863824,\n               61946.98153689457,\n               61271.25347689005,\n               60854.62076487394,\n               60364.752773462365,\n               59830.75288342972,\n               59313.14888441018,\n               58976.76498588512,\n               58215.67331404997,\n               57680.51727292879,\n               57181.81075475959,\n               56811.15691198632,\n               56232.64134746097,\n               55766.77190573934,\n               55282.06918866631,\n               54764.938056379884,\n               54268.170627179614,\n               53749.638691662694,\n               53426.20625261669,\n               52923.448979020075,\n               52577.94940300649,\n               52160.59775365172,\n               51804.804609433624,\n               51545.62997204866,\n               51050.47318747188,\n               50596.21995872393,\n               50230.58467079482,\n               49691.40620995805,\n               49322.157699195566,\n               48865.41250558458,\n               48510.36786291788,\n               48177.71256963148,\n               47879.771322511755,\n               47537.720103214866,\n               47304.66325659105,\n               46986.92256888428,\n               46830.05229377558,\n               46452.50866289926,\n               46085.242759289584,\n               45842.84247134988,\n               45516.50585985557,\n               45285.80449182478,\n               44919.209978096915,\n               44664.92177340112,\n               44404.76559324728,\n               44110.593188107516,\n               43877.31780221664,\n               43618.329685672776,\n               43348.70853139597,\n               43037.32304147477,\n               42827.557061619314,\n               42554.365854095384,\n               42322.590064458214,\n               42078.524679300426,\n               41819.84357449119,\n               41607.87179935774,\n               41357.77055086738,\n               41184.87638398262,\n               40964.621523892456,\n               40755.22049870213,\n               40546.62578181077,\n               40309.28874421222,\n               40125.69797330894,\n               40006.71641804121,\n               39768.129910150805,\n               39503.97504918357,\n               39358.80777362808,\n               39103.49617263903,\n               38893.22894705201,\n               38772.74193886897,\n               38612.92366787952,\n               38466.576323202105,\n               38192.492219058746,\n               38109.03555739602,\n               37878.78405286268,\n               37631.92223006411,\n               37455.7612665424,\n               37239.62794203206,\n               37097.63327007343,\n               36968.741969388364,\n               36816.45209368215,\n               36636.4116825443,\n               36486.22418392998,\n               36271.71312144136,\n               36095.39313373902,\n               35936.2845759696,\n               35789.17940420631,\n               35650.05364086209,\n               35445.6274909213,\n               35331.855545402956,\n               35220.90312097175],\n              'train-RMSE-std': [1454.945826625653,\n               1323.2917076521028,\n               1381.7750061818656,\n               612.8055157421451,\n               1192.71846709859,\n               1179.9679532702212,\n               788.0035487062689,\n               1020.1573518316379,\n               640.9162554432072,\n               451.63342991557414,\n               535.5796704111957,\n               479.6109933453366,\n               590.3164477123227,\n               610.8866499493142,\n               592.5642789485748,\n               766.5398837728795,\n               683.2569603678298,\n               765.6589352372454,\n               898.0339089833801,\n               882.1491245417637,\n               764.7785691413102,\n               808.2551266386315,\n               794.2443665799427,\n               678.2968257397241,\n               548.2633894721083,\n               664.0318596551043,\n               732.18370294935,\n               527.5299665900051,\n               688.196061385596,\n               664.095489172091,\n               708.8356618956799,\n               566.6880511753551,\n               499.2861176571588,\n               635.527900687084,\n               645.724843836674,\n               694.649404460894,\n               731.3639407455137,\n               754.8529432590584,\n               800.3024448557727,\n               651.4217969232964,\n               738.8907316355076,\n               772.4257026236463,\n               628.8458272553735,\n               567.5653097493578,\n               658.2091687355708,\n               531.3585731978076,\n               658.0990283666284,\n               514.5894078602307,\n               550.605313445881,\n               563.2240388580374,\n               505.872327163066,\n               456.7505142034044,\n               456.25505973786215,\n               486.6980885751833,\n               430.3508548063005,\n               340.76718563607864,\n               270.1247239541884,\n               383.1130300065711,\n               395.54439900674475,\n               303.8838089022707,\n               281.11219021211224,\n               338.1876903768606,\n               292.35493106342113,\n               243.8151065929015,\n               264.2698716969972,\n               278.152251458806,\n               281.1502902422035,\n               308.5788474607958,\n               282.3194271843981,\n               313.9340856050545,\n               412.18461677247194,\n               503.7996423716948,\n               546.0469876262152,\n               468.3137413992961,\n               468.472908560072,\n               538.8116206639078,\n               483.39061857303034,\n               490.9951710661336,\n               441.38424855004604,\n               415.9794347284513,\n               395.71331239803186,\n               351.51245802853344,\n               394.39558743973936,\n               395.63412451836894,\n               439.1360641843181,\n               439.9886341135297,\n               481.9528563809704,\n               538.4875072531579,\n               488.79995596124866,\n               490.2585111181375,\n               434.7487665348295,\n               484.4066708253876,\n               473.62393232197223,\n               452.1112078828806,\n               517.8834972720783,\n               441.9975502313676,\n               393.10049569646526,\n               397.7739920727363,\n               456.6895048494193,\n               518.4615729745088]}),\n 'best_estimator_': None}"
     },
     "execution_count": 19,
     "metadata": {},
     "output_type": "execute_result"
    }
   ],
   "source": [
    "def fit_model_with_cross_validation(gs, X_train, y_train, fits):\n",
    "    pipe_start = time()\n",
    "    cv_result = gs.fit(X_train, y_train)\n",
    "    #gs.fit(X_train, y_train)\n",
    "    pipe_end = time()\n",
    "    average_time = round((pipe_end - pipe_start) / (fits), 2)\n",
    "\n",
    "    print(f\"Total fit/CV time      : {int(pipe_end - pipe_start)} seconds   ({pipe_start} ==> {pipe_end})\")\n",
    "    print()\n",
    "    print(\n",
    "        f'average fit/score time = {round(cv_result.cv_results_[\"mean_fit_time\"].mean(), 2)}s/{round(cv_result.cv_results_[\"mean_score_time\"].mean(), 2)}s')\n",
    "    print(\n",
    "        f'max fit/score time     = {round(cv_result.cv_results_[\"mean_fit_time\"].max(), 2)}s/{round(cv_result.cv_results_[\"mean_score_time\"].max(), 2)}s')\n",
    "    print(f'refit time             = {round(cv_result.refit_time_, 2)}s')\n",
    "\n",
    "    #return cv_result, average_time, cv_result.refit_time_, len(cv_result.cv_results_[\"mean_fit_time\"])\n",
    "    return average_time, cv_result.refit_time_, len(cv_result.cv_results_[\"mean_fit_time\"])\n",
    "\n",
    "\n",
    "if not_catboost:\n",
    "    if ALGORITHM_DETAIL == 'grid search':\n",
    "        crossval_runner = GridSearchCV(\n",
    "            estimator=starter_pipe,\n",
    "            param_grid=param_options,\n",
    "            cv=cv, n_jobs=n_jobs, # get the AVX/AVX2 info if use n_jobs > 2\n",
    "            verbose=verbose, scoring=CROSS_VALIDATION_SCORING,\n",
    "            refit=refit,\n",
    "            return_train_score=True, #n_iter=n_iter,\n",
    "            #error_score='raise'\n",
    "        )\n",
    "    else:\n",
    "        crossval_runner = RandomizedSearchCV(\n",
    "            estimator=starter_pipe,\n",
    "            param_distributions=param_options,\n",
    "            cv=cv, n_jobs=n_jobs,  # get the AVX/AVX2 info if use n_jobs > 2\n",
    "            verbose=verbose, scoring=CROSS_VALIDATION_SCORING,\n",
    "            refit=refit,\n",
    "            return_train_score=True,  #n_iter=n_iter,\n",
    "            n_iter=n_iter,  # 1, #3\n",
    "            #error_score='raise'\n",
    "    )\n",
    "    cv_average_fit_time, cv_best_model_fit_time, total_fits = fit_model_with_cross_validation(\n",
    "        crossval_runner, X_train, y_train, fits=cv * n_iter)\n",
    "\n",
    "else:\n",
    "    import sys\n",
    "    from catboost import CatBoostRegressor, Pool\n",
    "\n",
    "    #pool = Pool(df, cat_features=['tenure.tenureType'], label=df['Price'].values)\n",
    "    pool_Xytrain = Pool(X_train, cat_features=[7], label=y_train)\n",
    "    #pool_Xtest = Pool(X_train, cat_features=[7], label=y_train)\n",
    "    pool_Xtest = Pool(X_test, cat_features=[7], label=y_test)\n",
    "\n",
    "    starter_model = model=CatBoostRegressor(iterations=n_iter, depth=3, learning_rate=0.1, loss_function='RMSE', objective='RMSE', logging_level='Verbose')\n",
    "\n",
    "    pipe_start = time()\n",
    "\n",
    "    output = starter_model.randomized_search(options_block,\n",
    "                                             X=pool_Xytrain,\n",
    "                                             cv=5,\n",
    "                                             partition_random_seed=101,\n",
    "                                             calc_cv_statistics=True,\n",
    "                                             refit=True,\n",
    "                                             shuffle=True,\n",
    "                                             stratified=None,\n",
    "                                             verbose=True,\n",
    "                                             plot=True,\n",
    "\n",
    "                                             log_cout=sys.stdout,\n",
    "                                             log_cerr=sys.stderr\n",
    "                                             #search_by_train_test_split=True,\n",
    "                                             #train_size=0.8,\n",
    "                                             #train_size=1,\n",
    "                                             )\n",
    "\n",
    "    pipe_end = time()\n",
    "    average_time = round((pipe_end - pipe_start) / (n_iter), 2)\n",
    "    print(\"average time is probably:\", average_time)\n",
    "\n",
    "    cat_params, cat_cv_results = output['params'], output['cv_results']\n",
    "    crossval_runner = {\"best_params_\": cat_params, \"cv_results_\": cat_cv_results, \"best_estimator_\": None}\n",
    "crossval_runner"
   ]
  },
  {
   "cell_type": "code",
   "execution_count": 19,
   "outputs": [],
   "source": [],
   "metadata": {
    "collapsed": false
   }
  },
  {
   "cell_type": "code",
   "execution_count": 20,
   "metadata": {
    "execution": {
     "iopub.execute_input": "2022-11-16T13:59:47.181563Z",
     "iopub.status.busy": "2022-11-16T13:59:47.181323Z",
     "iopub.status.idle": "2022-11-16T13:59:47.185299Z",
     "shell.execute_reply": "2022-11-16T13:59:47.184626Z",
     "shell.execute_reply.started": "2022-11-16T13:59:47.181540Z"
    }
   },
   "outputs": [],
   "source": [
    "if not_catboost:\n",
    "    best_estimator_pipe = crossval_runner.best_estimator_\n",
    "\n",
    "    if not_catboost and debug_mode:\n",
    "        crossval_runner.cv_results_"
   ]
  },
  {
   "cell_type": "code",
   "execution_count": 21,
   "metadata": {
    "execution": {
     "iopub.execute_input": "2022-11-16T13:59:47.186218Z",
     "iopub.status.busy": "2022-11-16T13:59:47.186022Z",
     "iopub.status.idle": "2022-11-16T13:59:47.190491Z",
     "shell.execute_reply": "2022-11-16T13:59:47.189828Z",
     "shell.execute_reply.started": "2022-11-16T13:59:47.186200Z"
    }
   },
   "outputs": [
    {
     "name": "stdout",
     "output_type": "stream",
     "text": [
      "<catboost.core.CatBoostRegressor object at 0x7f366c2aab80>\n",
      "defaultdict(<class 'list'>, {'iterations': [0, 1, 2, 3, 4, 5, 6, 7, 8, 9, 10, 11, 12, 13, 14, 15, 16, 17, 18, 19, 20, 21, 22, 23, 24, 25, 26, 27, 28, 29, 30, 31, 32, 33, 34, 35, 36, 37, 38, 39, 40, 41, 42, 43, 44, 45, 46, 47, 48, 49, 50, 51, 52, 53, 54, 55, 56, 57, 58, 59, 60, 61, 62, 63, 64, 65, 66, 67, 68, 69, 70, 71, 72, 73, 74, 75, 76, 77, 78, 79, 80, 81, 82, 83, 84, 85, 86, 87, 88, 89, 90, 91, 92, 93, 94, 95, 96, 97, 98, 99], 'test-RMSE-mean': [237379.14264476922, 143214.22069604936, 102144.28020637998, 85770.76406925937, 78890.25577260555, 73996.83578230193, 70734.61227863014, 69463.54627331326, 68510.73801009587, 67916.8195878488, 67409.5665233848, 66921.8808046692, 66668.43285914317, 66433.49455532833, 66135.4679217631, 65844.29297669326, 65650.71656311021, 65320.20421184213, 65215.897561556914, 65077.123311753, 64950.812595409305, 64789.138566369875, 64630.32413408237, 64497.725718870235, 64320.29294658373, 64123.955817525435, 63922.16696885829, 63842.92043928646, 63671.66375242268, 63541.509455916916, 63453.364511918604, 63401.77201572149, 63298.04717444179, 63220.4070481691, 63133.52794986496, 63067.906748420246, 62989.25590773403, 62967.41939894387, 62923.148440656034, 62868.29542017895, 62823.64561652786, 62750.77149547941, 62716.55310400055, 62653.05930975518, 62637.533739955616, 62618.88342952953, 62556.192561523545, 62541.900303412505, 62544.110588794305, 62505.467687770724, 62487.73993427739, 62475.961403790585, 62452.211409609845, 62428.5285440105, 62412.60614732005, 62402.62170522237, 62372.63588701802, 62320.22412771014, 62343.86309227805, 62334.31919778571, 62292.793447869386, 62269.28372402212, 62253.31038816618, 62248.68483381069, 62241.62150897241, 62213.319223101054, 62180.17828256544, 62186.1096679461, 62179.80339433268, 62169.65650963192, 62162.675584581586, 62136.1564167849, 62126.55005132166, 62097.04829575003, 62066.692530696186, 62070.82224905598, 62068.90214645638, 62082.48205660441, 62079.92764681835, 62066.34749308238, 62045.09159527531, 62045.72190810366, 62050.1106117553, 62051.48873784258, 62065.81546368949, 62068.6865905814, 62054.98952416643, 62044.80311382364, 62050.75262442123, 62051.60463958435, 62049.566068186075, 62032.590147683266, 62048.84293542183, 62036.0729000574, 62020.071487365974, 62018.365243818684, 62005.065751309405, 62001.007864329986, 61995.05511125313, 61981.12999866365], 'test-RMSE-std': [1451.4739117109161, 1782.2727510482289, 1956.6925311003768, 1389.7784466813673, 1431.9433680634093, 1672.0735966924713, 938.8387331309501, 1014.3188181319623, 717.9787201482937, 544.1887316274588, 492.71203903310277, 368.02585161750517, 371.60993871957214, 332.6695608531526, 224.4121605455687, 333.06880578134167, 258.8431386815396, 196.37263714460892, 180.31866732580846, 195.20909948952854, 228.84546143035044, 224.8193706654704, 238.67540485185083, 263.5371796807888, 208.735465709519, 168.6180085112268, 181.6597674626958, 237.98488963410622, 264.5873272000527, 336.5700056453106, 362.3181330385277, 379.7284766621041, 396.0259461640224, 409.70221762772144, 422.4187163284256, 442.29062463015924, 401.11536753218974, 387.8627650285442, 382.29571226012825, 365.1222293865648, 355.4878226251006, 345.9276917994515, 356.3381460477555, 322.20895272354966, 326.3485865655649, 341.3186406945673, 294.932184737885, 301.7703893241825, 299.3122880998313, 310.80035487352114, 298.3567696904379, 282.33074411456425, 254.46912531479575, 245.88167739471788, 262.58971183192875, 299.6660965999471, 308.6221721949687, 276.38602564577405, 309.90948792931255, 324.0091592421069, 316.81165299750944, 305.6960481482529, 307.40827163772923, 302.90847357881614, 326.32685955238094, 308.6594738381675, 322.9655738451869, 328.250658127793, 332.1631665094176, 312.653616077923, 316.74178011717817, 314.05111045563297, 319.52204833240097, 315.06249160317407, 311.67670699645134, 313.40137552104517, 326.6617905456733, 307.96721556110015, 310.849170801526, 314.69690101019387, 293.71484094725747, 282.58486842940624, 284.45642449272475, 266.60069665284686, 276.61174359293034, 265.2038057226787, 258.068978559835, 254.46036824995528, 259.9887093454427, 245.90843370506687, 258.563185904014, 280.8018322398128, 281.1462228017932, 290.1300515233418, 275.0174343811763, 282.8835170742319, 274.05859041781673, 290.9817471684359, 297.94159992825314, 297.26066432259444], 'train-RMSE-mean': [237084.22958336366, 142496.4549075206, 101199.22917466266, 83926.46904623388, 76692.7748791964, 70938.88740077995, 67080.75094547798, 65227.32784667851, 63796.933657085545, 62796.000948863824, 61946.98153689457, 61271.25347689005, 60854.62076487394, 60364.752773462365, 59830.75288342972, 59313.14888441018, 58976.76498588512, 58215.67331404997, 57680.51727292879, 57181.81075475959, 56811.15691198632, 56232.64134746097, 55766.77190573934, 55282.06918866631, 54764.938056379884, 54268.170627179614, 53749.638691662694, 53426.20625261669, 52923.448979020075, 52577.94940300649, 52160.59775365172, 51804.804609433624, 51545.62997204866, 51050.47318747188, 50596.21995872393, 50230.58467079482, 49691.40620995805, 49322.157699195566, 48865.41250558458, 48510.36786291788, 48177.71256963148, 47879.771322511755, 47537.720103214866, 47304.66325659105, 46986.92256888428, 46830.05229377558, 46452.50866289926, 46085.242759289584, 45842.84247134988, 45516.50585985557, 45285.80449182478, 44919.209978096915, 44664.92177340112, 44404.76559324728, 44110.593188107516, 43877.31780221664, 43618.329685672776, 43348.70853139597, 43037.32304147477, 42827.557061619314, 42554.365854095384, 42322.590064458214, 42078.524679300426, 41819.84357449119, 41607.87179935774, 41357.77055086738, 41184.87638398262, 40964.621523892456, 40755.22049870213, 40546.62578181077, 40309.28874421222, 40125.69797330894, 40006.71641804121, 39768.129910150805, 39503.97504918357, 39358.80777362808, 39103.49617263903, 38893.22894705201, 38772.74193886897, 38612.92366787952, 38466.576323202105, 38192.492219058746, 38109.03555739602, 37878.78405286268, 37631.92223006411, 37455.7612665424, 37239.62794203206, 37097.63327007343, 36968.741969388364, 36816.45209368215, 36636.4116825443, 36486.22418392998, 36271.71312144136, 36095.39313373902, 35936.2845759696, 35789.17940420631, 35650.05364086209, 35445.6274909213, 35331.855545402956, 35220.90312097175], 'train-RMSE-std': [1454.945826625653, 1323.2917076521028, 1381.7750061818656, 612.8055157421451, 1192.71846709859, 1179.9679532702212, 788.0035487062689, 1020.1573518316379, 640.9162554432072, 451.63342991557414, 535.5796704111957, 479.6109933453366, 590.3164477123227, 610.8866499493142, 592.5642789485748, 766.5398837728795, 683.2569603678298, 765.6589352372454, 898.0339089833801, 882.1491245417637, 764.7785691413102, 808.2551266386315, 794.2443665799427, 678.2968257397241, 548.2633894721083, 664.0318596551043, 732.18370294935, 527.5299665900051, 688.196061385596, 664.095489172091, 708.8356618956799, 566.6880511753551, 499.2861176571588, 635.527900687084, 645.724843836674, 694.649404460894, 731.3639407455137, 754.8529432590584, 800.3024448557727, 651.4217969232964, 738.8907316355076, 772.4257026236463, 628.8458272553735, 567.5653097493578, 658.2091687355708, 531.3585731978076, 658.0990283666284, 514.5894078602307, 550.605313445881, 563.2240388580374, 505.872327163066, 456.7505142034044, 456.25505973786215, 486.6980885751833, 430.3508548063005, 340.76718563607864, 270.1247239541884, 383.1130300065711, 395.54439900674475, 303.8838089022707, 281.11219021211224, 338.1876903768606, 292.35493106342113, 243.8151065929015, 264.2698716969972, 278.152251458806, 281.1502902422035, 308.5788474607958, 282.3194271843981, 313.9340856050545, 412.18461677247194, 503.7996423716948, 546.0469876262152, 468.3137413992961, 468.472908560072, 538.8116206639078, 483.39061857303034, 490.9951710661336, 441.38424855004604, 415.9794347284513, 395.71331239803186, 351.51245802853344, 394.39558743973936, 395.63412451836894, 439.1360641843181, 439.9886341135297, 481.9528563809704, 538.4875072531579, 488.79995596124866, 490.2585111181375, 434.7487665348295, 484.4066708253876, 473.62393232197223, 452.1112078828806, 517.8834972720783, 441.9975502313676, 393.10049569646526, 397.7739920727363, 456.6895048494193, 518.4615729745088]})\n",
      "{'depth': 15, 'l2_leaf_reg': 5, 'learning_rate': 0.5}\n"
     ]
    }
   ],
   "source": [
    "starter_model\n",
    "if True:\n",
    "    print(starter_model)\n",
    "if not not_catboost:\n",
    "    print(cat_cv_results)\n",
    "    print(cat_params)\n"
   ]
  },
  {
   "cell_type": "code",
   "execution_count": 22,
   "metadata": {
    "execution": {
     "iopub.execute_input": "2022-11-16T13:59:47.191425Z",
     "iopub.status.busy": "2022-11-16T13:59:47.191213Z",
     "iopub.status.idle": "2022-11-16T13:59:47.194465Z",
     "shell.execute_reply": "2022-11-16T13:59:47.193803Z",
     "shell.execute_reply.started": "2022-11-16T13:59:47.191404Z"
    }
   },
   "outputs": [],
   "source": [
    "if not_catboost:\n",
    "    crossval_runner.best_params_\n",
    "else:\n",
    "    crossval_runner[\"best_params_\"]"
   ]
  },
  {
   "cell_type": "code",
   "execution_count": 23,
   "metadata": {
    "execution": {
     "iopub.execute_input": "2022-11-16T13:59:47.195527Z",
     "iopub.status.busy": "2022-11-16T13:59:47.195321Z",
     "iopub.status.idle": "2022-11-16T13:59:47.220555Z",
     "shell.execute_reply": "2022-11-16T13:59:47.218381Z",
     "shell.execute_reply.started": "2022-11-16T13:59:47.195509Z"
    }
   },
   "outputs": [
    {
     "data": {
      "text/plain": "''"
     },
     "execution_count": 23,
     "metadata": {},
     "output_type": "execute_result"
    }
   ],
   "source": [
    "if not_catboost:\n",
    "    cv_results_df = pd.DataFrame(crossval_runner.cv_results_).sort_values('rank_test_score')\n",
    "cv_results_df if not_catboost else ''"
   ]
  },
  {
   "cell_type": "code",
   "execution_count": 24,
   "metadata": {
    "execution": {
     "iopub.execute_input": "2022-11-16T13:59:47.221915Z",
     "iopub.status.busy": "2022-11-16T13:59:47.221447Z",
     "iopub.status.idle": "2022-11-16T13:59:47.227414Z",
     "shell.execute_reply": "2022-11-16T13:59:47.226868Z",
     "shell.execute_reply.started": "2022-11-16T13:59:47.221887Z"
    }
   },
   "outputs": [
    {
     "data": {
      "text/plain": "''"
     },
     "execution_count": 24,
     "metadata": {},
     "output_type": "execute_result"
    }
   ],
   "source": [
    "if not_catboost and debug_mode:\n",
    "    xx = [c for c in cv_results_df.columns if 'param' in c]\n",
    "    xx.insert(0, 'rank_test_score')\n",
    "    xx.insert(0, 'mean_test_score')\n",
    "cv_results_df[xx].head(7) if not_catboost and debug_mode else ''"
   ]
  },
  {
   "cell_type": "code",
   "execution_count": 25,
   "metadata": {
    "execution": {
     "iopub.execute_input": "2022-11-16T13:59:47.229078Z",
     "iopub.status.busy": "2022-11-16T13:59:47.228327Z",
     "iopub.status.idle": "2022-11-16T13:59:47.232994Z",
     "shell.execute_reply": "2022-11-16T13:59:47.232495Z",
     "shell.execute_reply.started": "2022-11-16T13:59:47.229055Z"
    }
   },
   "outputs": [
    {
     "data": {
      "text/plain": "''"
     },
     "execution_count": 25,
     "metadata": {},
     "output_type": "execute_result"
    }
   ],
   "source": [
    "cv_results_df[xx].tail(7) if not_catboost and debug_mode else ''"
   ]
  },
  {
   "cell_type": "code",
   "execution_count": 26,
   "metadata": {
    "execution": {
     "iopub.execute_input": "2022-11-16T13:59:47.234560Z",
     "iopub.status.busy": "2022-11-16T13:59:47.233863Z",
     "iopub.status.idle": "2022-11-16T13:59:47.251649Z",
     "shell.execute_reply": "2022-11-16T13:59:47.251101Z",
     "shell.execute_reply.started": "2022-11-16T13:59:47.234540Z"
    }
   },
   "outputs": [
    {
     "data": {
      "text/plain": "''"
     },
     "execution_count": 26,
     "metadata": {},
     "output_type": "execute_result"
    }
   ],
   "source": [
    "if not_catboost:\n",
    "    cv_results_df['params2'] = cv_results_df['params'].apply(lambda l: '/'.join([str(c) for c in l.values()]))\n",
    "\n",
    "    cv_columns = ['params2', 'rank_test_score', 'mean_test_score', 'mean_fit_time', 'mean_score_time', 'params']\n",
    "    # if 'Neural' not in ALGORITHM:\n",
    "    #     cv_columns.insert(2, 'mean_train_score')\n",
    "    cv_results_df_full_sorted = cv_results_df.sort_values('rank_test_score')[cv_columns].reset_index(drop=True)\n",
    "\n",
    "cv_results_df_full_sorted if not_catboost else ''"
   ]
  },
  {
   "cell_type": "code",
   "execution_count": 27,
   "metadata": {
    "execution": {
     "iopub.execute_input": "2022-11-16T13:59:47.253028Z",
     "iopub.status.busy": "2022-11-16T13:59:47.252374Z",
     "iopub.status.idle": "2022-11-16T13:59:47.278366Z",
     "shell.execute_reply": "2022-11-16T13:59:47.277883Z",
     "shell.execute_reply.started": "2022-11-16T13:59:47.253006Z"
    }
   },
   "outputs": [
    {
     "data": {
      "text/plain": "''"
     },
     "execution_count": 27,
     "metadata": {},
     "output_type": "execute_result"
    }
   ],
   "source": [
    "if not_catboost:\n",
    "\n",
    "    cv_results_df_sorted = cv_results_df_full_sorted[cv_results_df_full_sorted['mean_test_score'] > -2]\n",
    "    if len(cv_results_df_sorted) != len(cv_results_df_full_sorted):\n",
    "        print(-len(cv_results_df_sorted) + len(cv_results_df_full_sorted), \"fits were total failures\")\n",
    "        total_fits = len(cv_results_df_sorted)\n",
    "cv_results_df_sorted if not_catboost else ''\n"
   ]
  },
  {
   "cell_type": "code",
   "execution_count": 28,
   "metadata": {
    "execution": {
     "iopub.execute_input": "2022-11-16T13:59:47.279670Z",
     "iopub.status.busy": "2022-11-16T13:59:47.279065Z",
     "iopub.status.idle": "2022-11-16T13:59:47.282299Z",
     "shell.execute_reply": "2022-11-16T13:59:47.281778Z",
     "shell.execute_reply.started": "2022-11-16T13:59:47.279646Z"
    }
   },
   "outputs": [],
   "source": [
    "#pd.set_option('display.max_columns', None)\n"
   ]
  },
  {
   "cell_type": "code",
   "execution_count": 29,
   "metadata": {
    "execution": {
     "iopub.execute_input": "2022-11-16T13:59:47.283574Z",
     "iopub.status.busy": "2022-11-16T13:59:47.282958Z",
     "iopub.status.idle": "2022-11-16T13:59:47.300218Z",
     "shell.execute_reply": "2022-11-16T13:59:47.299493Z",
     "shell.execute_reply.started": "2022-11-16T13:59:47.283551Z"
    }
   },
   "outputs": [
    {
     "data": {
      "text/plain": "''"
     },
     "execution_count": 29,
     "metadata": {},
     "output_type": "execute_result"
    }
   ],
   "source": [
    "if not_catboost:\n",
    "    orig_debug_mode, orig_display_df_cols = debug_mode, pd.get_option('display.max_columns')\n",
    "    debug_mode = True\n",
    "    pd.set_option('display.max_columns', None)\n",
    "    if debug_mode:\n",
    "        debug_cols = ['rank_test_score', 'mean_test_score', 'mean_fit_time', 'mean_score_time']\n",
    "        debug_cols.extend([c for c in cv_results_df.columns if 'param' in c])\n",
    "\n",
    "cv_results_df[debug_cols].head(7) if debug_mode else ''"
   ]
  },
  {
   "cell_type": "code",
   "execution_count": 30,
   "metadata": {
    "execution": {
     "iopub.execute_input": "2022-11-16T13:59:47.304440Z",
     "iopub.status.busy": "2022-11-16T13:59:47.303671Z",
     "iopub.status.idle": "2022-11-16T13:59:47.307553Z",
     "shell.execute_reply": "2022-11-16T13:59:47.306930Z",
     "shell.execute_reply.started": "2022-11-16T13:59:47.304414Z"
    }
   },
   "outputs": [],
   "source": [
    "if not_catboost:\n",
    "    debug_mode = orig_debug_mode\n",
    "    pd.set_option('display.max_columns', orig_display_df_cols)"
   ]
  },
  {
   "cell_type": "code",
   "execution_count": 31,
   "metadata": {
    "execution": {
     "iopub.execute_input": "2022-11-16T13:59:47.309224Z",
     "iopub.status.busy": "2022-11-16T13:59:47.308334Z",
     "iopub.status.idle": "2022-11-16T13:59:47.315677Z",
     "shell.execute_reply": "2022-11-16T13:59:47.315141Z",
     "shell.execute_reply.started": "2022-11-16T13:59:47.309201Z"
    }
   },
   "outputs": [
    {
     "data": {
      "text/plain": "''"
     },
     "execution_count": 31,
     "metadata": {},
     "output_type": "execute_result"
    }
   ],
   "source": [
    "if not_catboost:\n",
    "    def print_results(cross_validation_result):\n",
    "        means = cross_validation_result.cv_results_['mean_test_score']\n",
    "        stds = cross_validation_result.cv_results_['std_test_score']\n",
    "        params = cross_validation_result.cv_results_['params']\n",
    "        times = cross_validation_result.cv_results_['std_test_score']\n",
    "\n",
    "        print(\"params:\" + \"/\".join([c.replace(\"model__\", \"\") for c in params[0].keys()]))\n",
    "        print()\n",
    "        for mean, std, param, time in zip(means, stds, params, times):\n",
    "            #param2 = \"/\".join(list(param.values()))\n",
    "            param2 = \"/\".join(list([str(c) for c in param.values()]))\n",
    "            print(f'{round(mean, 3)} (+/-{round(std * 2, 3)}) in {round(time, 4)}s for {param2}')\n",
    "\n",
    "\n",
    "print_results(crossval_runner) if debug_mode else ''"
   ]
  },
  {
   "cell_type": "code",
   "execution_count": 32,
   "metadata": {
    "execution": {
     "iopub.execute_input": "2022-11-16T13:59:47.317413Z",
     "iopub.status.busy": "2022-11-16T13:59:47.316534Z",
     "iopub.status.idle": "2022-11-16T13:59:47.321419Z",
     "shell.execute_reply": "2022-11-16T13:59:47.320870Z",
     "shell.execute_reply.started": "2022-11-16T13:59:47.317388Z"
    }
   },
   "outputs": [],
   "source": [
    "if not_catboost:\n",
    "    print('Best Index: ', crossval_runner.best_index_)\n",
    "    print('Best Score: ', crossval_runner.best_score_)\n",
    "    print('Best Params: ', crossval_runner.best_params_)"
   ]
  },
  {
   "cell_type": "code",
   "execution_count": 33,
   "metadata": {
    "execution": {
     "iopub.execute_input": "2022-11-16T13:59:47.323113Z",
     "iopub.status.busy": "2022-11-16T13:59:47.322229Z",
     "iopub.status.idle": "2022-11-16T13:59:47.327516Z",
     "shell.execute_reply": "2022-11-16T13:59:47.327008Z",
     "shell.execute_reply.started": "2022-11-16T13:59:47.323086Z"
    }
   },
   "outputs": [
    {
     "data": {
      "text/plain": "array([1.0, 1.0, 0.6959676001201812, 51.47824, -0.08707,\n       0.0214800000000039, 0.01735, 'LEASEHOLD', 0, 0, 0, 0, 0, 0, 0, 0,\n       0, 0, 0, 0, 0, 0, 0, 0, 0, 0, 0, 0, 0, 0, 0, 0, 0, 0, 0, 0, 0, 0,\n       0, 0, 0, 0, 0, 0, 0, 0, 0, 0, 0, 0, 0, 0, 0, 0, 0, 0, 0, 0, True,\n       False, False, False, False, False, False, False, False, False,\n       False, False, False, False, True, False, False, False, False,\n       False, False, False], dtype=object)"
     },
     "execution_count": 33,
     "metadata": {},
     "output_type": "execute_result"
    }
   ],
   "source": [
    "#pool_Xtest.shape\n",
    "#pool_Xtrain.shape\n",
    "X_train[0]\n",
    "X_test[0]"
   ]
  },
  {
   "cell_type": "code",
   "execution_count": 34,
   "metadata": {
    "execution": {
     "iopub.execute_input": "2022-11-16T13:59:47.328680Z",
     "iopub.status.busy": "2022-11-16T13:59:47.328195Z",
     "iopub.status.idle": "2022-11-16T13:59:47.380861Z",
     "shell.execute_reply": "2022-11-16T13:59:47.380015Z",
     "shell.execute_reply.started": "2022-11-16T13:59:47.328658Z"
    }
   },
   "outputs": [],
   "source": [
    "if not_catboost:\n",
    "    y_pred = best_estimator_pipe.predict(X_test)\n",
    "else:\n",
    "    y_pred = starter_model.predict(pool_Xtest)"
   ]
  },
  {
   "cell_type": "code",
   "execution_count": 35,
   "metadata": {
    "execution": {
     "iopub.execute_input": "2022-11-16T13:59:47.382580Z",
     "iopub.status.busy": "2022-11-16T13:59:47.382020Z",
     "iopub.status.idle": "2022-11-16T13:59:47.440737Z",
     "shell.execute_reply": "2022-11-16T13:59:47.439769Z",
     "shell.execute_reply.started": "2022-11-16T13:59:47.382556Z"
    }
   },
   "outputs": [
    {
     "data": {
      "text/plain": "0.6898181209077274"
     },
     "execution_count": 35,
     "metadata": {},
     "output_type": "execute_result"
    }
   ],
   "source": [
    "r_2_score = r2_score(y_test, y_pred)\n",
    "if not_catboost:\n",
    "    score = r_2_score\n",
    "    default_score = best_estimator_pipe.score(X_test, y_test)\n",
    "else:\n",
    "    score = r_2_score\n",
    "    default_score = starter_model.score(X_test, y_test)\n",
    "score"
   ]
  },
  {
   "cell_type": "code",
   "execution_count": 36,
   "metadata": {
    "execution": {
     "iopub.execute_input": "2022-11-16T13:59:47.442381Z",
     "iopub.status.busy": "2022-11-16T13:59:47.442151Z",
     "iopub.status.idle": "2022-11-16T13:59:47.448203Z",
     "shell.execute_reply": "2022-11-16T13:59:47.447282Z",
     "shell.execute_reply.started": "2022-11-16T13:59:47.442362Z"
    }
   },
   "outputs": [
    {
     "name": "stdout",
     "output_type": "stream",
     "text": [
      "----------CatBoost----------\n",
      "R square Accuracy 0.6898181209077274\n",
      "Mean Absolute Error Accuracy 45407.25649966363\n",
      "Mean Squared Error Accuracy 3503940324.9329433\n",
      "Root Mean Squared Error 59194.090287231746\n"
     ]
    }
   ],
   "source": [
    "y_pred = y_pred.reshape((-1, 1))\n",
    "\n",
    "R2 = r_2_score\n",
    "MAE = mean_absolute_error(y_test, y_pred)\n",
    "MSE = mean_squared_error(y_test, y_pred)\n",
    "RMSE = math.sqrt(MSE)\n",
    "print('-' * 10 + ALGORITHM + '-' * 10)\n",
    "print('R square Accuracy', R2)\n",
    "print('Mean Absolute Error Accuracy', MAE)\n",
    "print('Mean Squared Error Accuracy', MSE)\n",
    "print('Root Mean Squared Error', RMSE)"
   ]
  },
  {
   "cell_type": "code",
   "execution_count": 37,
   "metadata": {
    "execution": {
     "iopub.execute_input": "2022-11-16T13:59:47.450080Z",
     "iopub.status.busy": "2022-11-16T13:59:47.449147Z",
     "iopub.status.idle": "2022-11-16T13:59:47.453856Z",
     "shell.execute_reply": "2022-11-16T13:59:47.453198Z",
     "shell.execute_reply.started": "2022-11-16T13:59:47.450060Z"
    }
   },
   "outputs": [],
   "source": [
    "if debug_mode:\n",
    "    print(y_test_index.reshape((-1, 1)).shape);\n",
    "    print(y_pred.reshape((-1, 1)).shape);\n",
    "    print(y_test.shape);\n",
    "    print(y_test_index.shape);\n",
    "    print(y_pred.shape);\n",
    "    print(y_test.shape)"
   ]
  },
  {
   "cell_type": "code",
   "execution_count": 38,
   "metadata": {
    "execution": {
     "iopub.execute_input": "2022-11-16T13:59:47.455055Z",
     "iopub.status.busy": "2022-11-16T13:59:47.454855Z",
     "iopub.status.idle": "2022-11-16T13:59:47.472196Z",
     "shell.execute_reply": "2022-11-16T13:59:47.471460Z",
     "shell.execute_reply.started": "2022-11-16T13:59:47.455037Z"
    }
   },
   "outputs": [
    {
     "data": {
      "text/plain": "             actual      predicted    difference   diff 1 %   diff 2 %\nreference                                                             \n85490754   400000.0  385784.027465  14215.972535   3.553993   3.684956\n119328242  369950.0  377644.426143   7694.426143   2.079856   2.037479\n125716790  350000.0  378619.160309  28619.160309   8.176903   7.558825\n122440040  549000.0  526325.602726  22674.397274   4.130127   4.308055\n120508103  495000.0  502419.257308   7419.257308   1.498840   1.476706\n...             ...            ...           ...        ...        ...\n68620869   475000.0  560589.242473  85589.242473  18.018788  15.267728\n85735665   575000.0  540086.818662  34913.181338   6.071858   6.464365\n125706338  400000.0  415944.941734  15944.941734   3.986235   3.833426\n112739354  450000.0  515128.961148  65128.961148  14.473102  12.643234\n122707001  275000.0  301756.547051  26756.547051   9.729653   8.866932\n\n[4413 rows x 5 columns]",
      "text/html": "<div>\n<style scoped>\n    .dataframe tbody tr th:only-of-type {\n        vertical-align: middle;\n    }\n\n    .dataframe tbody tr th {\n        vertical-align: top;\n    }\n\n    .dataframe thead th {\n        text-align: right;\n    }\n</style>\n<table border=\"1\" class=\"dataframe\">\n  <thead>\n    <tr style=\"text-align: right;\">\n      <th></th>\n      <th>actual</th>\n      <th>predicted</th>\n      <th>difference</th>\n      <th>diff 1 %</th>\n      <th>diff 2 %</th>\n    </tr>\n    <tr>\n      <th>reference</th>\n      <th></th>\n      <th></th>\n      <th></th>\n      <th></th>\n      <th></th>\n    </tr>\n  </thead>\n  <tbody>\n    <tr>\n      <th>85490754</th>\n      <td>400000.0</td>\n      <td>385784.027465</td>\n      <td>14215.972535</td>\n      <td>3.553993</td>\n      <td>3.684956</td>\n    </tr>\n    <tr>\n      <th>119328242</th>\n      <td>369950.0</td>\n      <td>377644.426143</td>\n      <td>7694.426143</td>\n      <td>2.079856</td>\n      <td>2.037479</td>\n    </tr>\n    <tr>\n      <th>125716790</th>\n      <td>350000.0</td>\n      <td>378619.160309</td>\n      <td>28619.160309</td>\n      <td>8.176903</td>\n      <td>7.558825</td>\n    </tr>\n    <tr>\n      <th>122440040</th>\n      <td>549000.0</td>\n      <td>526325.602726</td>\n      <td>22674.397274</td>\n      <td>4.130127</td>\n      <td>4.308055</td>\n    </tr>\n    <tr>\n      <th>120508103</th>\n      <td>495000.0</td>\n      <td>502419.257308</td>\n      <td>7419.257308</td>\n      <td>1.498840</td>\n      <td>1.476706</td>\n    </tr>\n    <tr>\n      <th>...</th>\n      <td>...</td>\n      <td>...</td>\n      <td>...</td>\n      <td>...</td>\n      <td>...</td>\n    </tr>\n    <tr>\n      <th>68620869</th>\n      <td>475000.0</td>\n      <td>560589.242473</td>\n      <td>85589.242473</td>\n      <td>18.018788</td>\n      <td>15.267728</td>\n    </tr>\n    <tr>\n      <th>85735665</th>\n      <td>575000.0</td>\n      <td>540086.818662</td>\n      <td>34913.181338</td>\n      <td>6.071858</td>\n      <td>6.464365</td>\n    </tr>\n    <tr>\n      <th>125706338</th>\n      <td>400000.0</td>\n      <td>415944.941734</td>\n      <td>15944.941734</td>\n      <td>3.986235</td>\n      <td>3.833426</td>\n    </tr>\n    <tr>\n      <th>112739354</th>\n      <td>450000.0</td>\n      <td>515128.961148</td>\n      <td>65128.961148</td>\n      <td>14.473102</td>\n      <td>12.643234</td>\n    </tr>\n    <tr>\n      <th>122707001</th>\n      <td>275000.0</td>\n      <td>301756.547051</td>\n      <td>26756.547051</td>\n      <td>9.729653</td>\n      <td>8.866932</td>\n    </tr>\n  </tbody>\n</table>\n<p>4413 rows × 5 columns</p>\n</div>"
     },
     "execution_count": 38,
     "metadata": {},
     "output_type": "execute_result"
    }
   ],
   "source": [
    "compare = np.hstack((y_test_index, y_test, y_pred))\n",
    "compare_df = DataFrame(compare, columns=['reference', 'actual', 'predicted'])\n",
    "compare_df['difference'] = abs(compare_df['actual'] - compare_df['predicted'])\n",
    "compare_df['diff 1 %'] = abs((compare_df['actual'] - compare_df['predicted']) / compare_df['actual'] * 100)\n",
    "compare_df['diff 2 %'] = abs((compare_df['actual'] - compare_df['predicted']) / compare_df['predicted']) * 100\n",
    "compare_df['reference'] = compare_df['reference'].astype(int)\n",
    "compare_df.set_index('reference', inplace=True)\n",
    "compare_df"
   ]
  },
  {
   "cell_type": "code",
   "execution_count": 39,
   "metadata": {
    "execution": {
     "iopub.execute_input": "2022-11-16T13:59:47.473173Z",
     "iopub.status.busy": "2022-11-16T13:59:47.472972Z",
     "iopub.status.idle": "2022-11-16T13:59:47.499899Z",
     "shell.execute_reply": "2022-11-16T13:59:47.499050Z",
     "shell.execute_reply.started": "2022-11-16T13:59:47.473156Z"
    }
   },
   "outputs": [
    {
     "data": {
      "text/plain": "           actual  predicted     difference    diff 1 %   diff 2 %   Price  \\\n85667184   122000     422507  300507.603789  246.317708  71.124780  122000   \n109722224  108000     356769  248769.876301  230.342478  69.728386  108000   \n122265818  160000     444563  284563.689912  177.852306  64.009656  160000   \n119684411  200000     416917  216917.251101  108.458626  52.028850  200000   \n85536395   230000     455608  225608.097960   98.090477  49.518018  230000   \n...           ...        ...            ...         ...        ...     ...   \n121754483  400000     400029      29.309382    0.007327   0.007327  400000   \n125760329  400000     400018      18.933560    0.004733   0.004733  400000   \n121555067  335000     334985      14.224849    0.004246   0.004246  335000   \n85246413   450000     450012      12.479354    0.002773   0.002773  450000   \n123957545  400000     400002       2.909940    0.000727   0.000727  400000   \n\n           bedrooms  bathrooms  nearestStation  location.latitude  \\\n85667184          1          1        0.838896          51.540462   \n109722224         1          1        0.302667          51.406803   \n122265818         3          1        0.166024          51.510420   \n119684411         2          1        0.511626          51.518081   \n85536395          2          2        0.162859          51.362150   \n...             ...        ...             ...                ...   \n121754483         2          1        0.886039          51.526085   \n125760329         2          1        0.221868          51.387985   \n121555067         2          1        1.005083          51.664417   \n85246413          2          2        0.106368          51.462800   \n123957545         1          1        0.155351          51.510305   \n\n           location.longitude  latitude_deviation  longitude_deviation  \\\n85667184            -0.280301            0.040742             0.175881   \n109722224           -0.261328            0.092917             0.156908   \n122265818           -0.037730            0.010700             0.066690   \n119684411           -0.029340            0.018361             0.075080   \n85536395            -0.150440            0.137570             0.046020   \n...                       ...                 ...                  ...   \n121754483            0.206451            0.026365             0.310871   \n125760329           -0.071763            0.111735             0.032657   \n121555067           -0.066604            0.164697             0.037816   \n85246413            -0.078920            0.036920             0.025500   \n123957545           -0.038689            0.010585             0.065731   \n\n          tenure.tenureType  \n85667184          LEASEHOLD  \n109722224         LEASEHOLD  \n122265818          FREEHOLD  \n119684411         LEASEHOLD  \n85536395           FREEHOLD  \n...                     ...  \n121754483          FREEHOLD  \n125760329          FREEHOLD  \n121555067         LEASEHOLD  \n85246413          LEASEHOLD  \n123957545         LEASEHOLD  \n\n[4413 rows x 14 columns]",
      "text/html": "<div>\n<style scoped>\n    .dataframe tbody tr th:only-of-type {\n        vertical-align: middle;\n    }\n\n    .dataframe tbody tr th {\n        vertical-align: top;\n    }\n\n    .dataframe thead th {\n        text-align: right;\n    }\n</style>\n<table border=\"1\" class=\"dataframe\">\n  <thead>\n    <tr style=\"text-align: right;\">\n      <th></th>\n      <th>actual</th>\n      <th>predicted</th>\n      <th>difference</th>\n      <th>diff 1 %</th>\n      <th>diff 2 %</th>\n      <th>Price</th>\n      <th>bedrooms</th>\n      <th>bathrooms</th>\n      <th>nearestStation</th>\n      <th>location.latitude</th>\n      <th>location.longitude</th>\n      <th>latitude_deviation</th>\n      <th>longitude_deviation</th>\n      <th>tenure.tenureType</th>\n    </tr>\n  </thead>\n  <tbody>\n    <tr>\n      <th>85667184</th>\n      <td>122000</td>\n      <td>422507</td>\n      <td>300507.603789</td>\n      <td>246.317708</td>\n      <td>71.124780</td>\n      <td>122000</td>\n      <td>1</td>\n      <td>1</td>\n      <td>0.838896</td>\n      <td>51.540462</td>\n      <td>-0.280301</td>\n      <td>0.040742</td>\n      <td>0.175881</td>\n      <td>LEASEHOLD</td>\n    </tr>\n    <tr>\n      <th>109722224</th>\n      <td>108000</td>\n      <td>356769</td>\n      <td>248769.876301</td>\n      <td>230.342478</td>\n      <td>69.728386</td>\n      <td>108000</td>\n      <td>1</td>\n      <td>1</td>\n      <td>0.302667</td>\n      <td>51.406803</td>\n      <td>-0.261328</td>\n      <td>0.092917</td>\n      <td>0.156908</td>\n      <td>LEASEHOLD</td>\n    </tr>\n    <tr>\n      <th>122265818</th>\n      <td>160000</td>\n      <td>444563</td>\n      <td>284563.689912</td>\n      <td>177.852306</td>\n      <td>64.009656</td>\n      <td>160000</td>\n      <td>3</td>\n      <td>1</td>\n      <td>0.166024</td>\n      <td>51.510420</td>\n      <td>-0.037730</td>\n      <td>0.010700</td>\n      <td>0.066690</td>\n      <td>FREEHOLD</td>\n    </tr>\n    <tr>\n      <th>119684411</th>\n      <td>200000</td>\n      <td>416917</td>\n      <td>216917.251101</td>\n      <td>108.458626</td>\n      <td>52.028850</td>\n      <td>200000</td>\n      <td>2</td>\n      <td>1</td>\n      <td>0.511626</td>\n      <td>51.518081</td>\n      <td>-0.029340</td>\n      <td>0.018361</td>\n      <td>0.075080</td>\n      <td>LEASEHOLD</td>\n    </tr>\n    <tr>\n      <th>85536395</th>\n      <td>230000</td>\n      <td>455608</td>\n      <td>225608.097960</td>\n      <td>98.090477</td>\n      <td>49.518018</td>\n      <td>230000</td>\n      <td>2</td>\n      <td>2</td>\n      <td>0.162859</td>\n      <td>51.362150</td>\n      <td>-0.150440</td>\n      <td>0.137570</td>\n      <td>0.046020</td>\n      <td>FREEHOLD</td>\n    </tr>\n    <tr>\n      <th>...</th>\n      <td>...</td>\n      <td>...</td>\n      <td>...</td>\n      <td>...</td>\n      <td>...</td>\n      <td>...</td>\n      <td>...</td>\n      <td>...</td>\n      <td>...</td>\n      <td>...</td>\n      <td>...</td>\n      <td>...</td>\n      <td>...</td>\n      <td>...</td>\n    </tr>\n    <tr>\n      <th>121754483</th>\n      <td>400000</td>\n      <td>400029</td>\n      <td>29.309382</td>\n      <td>0.007327</td>\n      <td>0.007327</td>\n      <td>400000</td>\n      <td>2</td>\n      <td>1</td>\n      <td>0.886039</td>\n      <td>51.526085</td>\n      <td>0.206451</td>\n      <td>0.026365</td>\n      <td>0.310871</td>\n      <td>FREEHOLD</td>\n    </tr>\n    <tr>\n      <th>125760329</th>\n      <td>400000</td>\n      <td>400018</td>\n      <td>18.933560</td>\n      <td>0.004733</td>\n      <td>0.004733</td>\n      <td>400000</td>\n      <td>2</td>\n      <td>1</td>\n      <td>0.221868</td>\n      <td>51.387985</td>\n      <td>-0.071763</td>\n      <td>0.111735</td>\n      <td>0.032657</td>\n      <td>FREEHOLD</td>\n    </tr>\n    <tr>\n      <th>121555067</th>\n      <td>335000</td>\n      <td>334985</td>\n      <td>14.224849</td>\n      <td>0.004246</td>\n      <td>0.004246</td>\n      <td>335000</td>\n      <td>2</td>\n      <td>1</td>\n      <td>1.005083</td>\n      <td>51.664417</td>\n      <td>-0.066604</td>\n      <td>0.164697</td>\n      <td>0.037816</td>\n      <td>LEASEHOLD</td>\n    </tr>\n    <tr>\n      <th>85246413</th>\n      <td>450000</td>\n      <td>450012</td>\n      <td>12.479354</td>\n      <td>0.002773</td>\n      <td>0.002773</td>\n      <td>450000</td>\n      <td>2</td>\n      <td>2</td>\n      <td>0.106368</td>\n      <td>51.462800</td>\n      <td>-0.078920</td>\n      <td>0.036920</td>\n      <td>0.025500</td>\n      <td>LEASEHOLD</td>\n    </tr>\n    <tr>\n      <th>123957545</th>\n      <td>400000</td>\n      <td>400002</td>\n      <td>2.909940</td>\n      <td>0.000727</td>\n      <td>0.000727</td>\n      <td>400000</td>\n      <td>1</td>\n      <td>1</td>\n      <td>0.155351</td>\n      <td>51.510305</td>\n      <td>-0.038689</td>\n      <td>0.010585</td>\n      <td>0.065731</td>\n      <td>LEASEHOLD</td>\n    </tr>\n  </tbody>\n</table>\n<p>4413 rows × 14 columns</p>\n</div>"
     },
     "execution_count": 39,
     "metadata": {},
     "output_type": "execute_result"
    }
   ],
   "source": [
    "combined = compare_df.merge(df[columns], how='inner', left_index=True, right_index=True).sort_values(['diff 1 %'],\n",
    "                                                                                                     ascending=False)\n",
    "#pd.options.display.float_format = '{:.4f}'.format\n",
    "combined[['predicted', 'actual', 'Price', 'bedrooms', 'bathrooms']] = combined[\n",
    "    ['predicted', 'actual', 'Price', 'bedrooms', 'bathrooms']].astype(int)\n",
    "combined['bedrooms'] = combined['bedrooms'].astype(int)\n",
    "combined"
   ]
  },
  {
   "cell_type": "code",
   "execution_count": 40,
   "metadata": {
    "execution": {
     "iopub.execute_input": "2022-11-16T13:59:47.501494Z",
     "iopub.status.busy": "2022-11-16T13:59:47.500942Z",
     "iopub.status.idle": "2022-11-16T13:59:47.635559Z",
     "shell.execute_reply": "2022-11-16T13:59:47.634656Z",
     "shell.execute_reply.started": "2022-11-16T13:59:47.501473Z"
    }
   },
   "outputs": [
    {
     "data": {
      "text/plain": "<Figure size 432x288 with 1 Axes>",
      "image/png": "[encoded data removed]"
     },
     "metadata": {
      "needs_background": "light"
     },
     "output_type": "display_data"
    }
   ],
   "source": [
    "fig, ax = plt.subplots()\n",
    "ax.scatter(y_test, y_pred, edgecolors=(0, 0, 1))\n",
    "ax.plot([y_test.min(), y_test.max()], [y_test.min(), y_test.max()], 'r--', lw=3)\n",
    "ax.set_ylabel('Predicted')\n",
    "ax.set_xlabel('Actual')\n",
    "#ax.title.set_text(f'CV Chosen best option ({calculated_best_pipe[1]})')\n",
    "plt.show()"
   ]
  },
  {
   "cell_type": "code",
   "execution_count": 41,
   "metadata": {
    "execution": {
     "iopub.execute_input": "2022-11-16T13:59:47.637419Z",
     "iopub.status.busy": "2022-11-16T13:59:47.636639Z",
     "iopub.status.idle": "2022-11-16T13:59:50.927930Z",
     "shell.execute_reply": "2022-11-16T13:59:50.927235Z",
     "shell.execute_reply.started": "2022-11-16T13:59:47.637397Z"
    }
   },
   "outputs": [],
   "source": [
    "if not_catboost:\n",
    "    def custom_model_and_predictions(model, graph_params, X_train, y_train, X_test):\n",
    "        graph_model = model\n",
    "        graph_model.set_params(**graph_params)\n",
    "        graph_model.fit(X_train, y_train)\n",
    "        y_pred_graph = model.predict(X_test)\n",
    "\n",
    "        return model, y_pred_graph\n",
    "\n",
    "\n",
    "    best_model_count = 10 if not quick_mode else 2\n",
    "    best_model_count = 3 if not quick_mode else 1\n",
    "    best_models = {}\n",
    "    best_model_predictions = {}\n",
    "    best_model_scores = {}\n",
    "\n",
    "    showable_increment = total_fits // (4 if not quick_mode else 2)\n",
    "    if showable_increment==0:showable_increment=1\n",
    "    for i in range(0, total_fits, showable_increment):\n",
    "        if debug_mode or True: print(f'{i} ==> {i}')\n",
    "\n",
    "        if i == 0:\n",
    "            fitted_graph_model = crossval_runner.best_estimator_\n",
    "            y_pred_graph = y_pred\n",
    "        else:\n",
    "            graph_pipe_params = cv_results_df_sorted['params'][i]\n",
    "            print(graph_pipe_params)\n",
    "            # would always return the best! graph_pipe_params = cv_results_df_sorted.loc[cv_results_df_sorted['rank_test_score'] == 1, 'params'].values[0]\n",
    "\n",
    "            graph_params = {}\n",
    "            for key, value in graph_pipe_params.items():\n",
    "                graph_params[key.replace('model__', '')] = value\n",
    "\n",
    "            fitted_graph_model, y_pred_graph = custom_model_and_predictions(make_pipeline(), graph_pipe_params, X_train,\n",
    "                                                                            y_train, X_test)\n",
    "\n",
    "        best_models[i] = fitted_graph_model[-1].get_params()\n",
    "        best_model_predictions[i] = y_pred_graph\n",
    "        best_model_scores[i] = fitted_graph_model.score(X_test, y_test)\n",
    "\n",
    "    if debug_mode or True: print(f'{-1} ==> {-1}')\n",
    "    graph_pipe_params = cv_results_df_sorted['params'][total_fits - 1]\n",
    "    print(graph_pipe_params)\n",
    "    graph_params = {}\n",
    "    for key, value in graph_pipe_params.items():\n",
    "        graph_params[key.replace('model__', '')] = value\n",
    "    fitted_graph_model, y_pred_graph = custom_model_and_predictions(make_pipeline(), graph_pipe_params, X_train,\n",
    "                                                                    y_train, X_test)\n",
    "    best_models[-1] = fitted_graph_model[-1].get_params()\n",
    "    best_model_predictions[-1] = y_pred_graph\n",
    "    best_model_scores[-1] = fitted_graph_model.score(X_test, y_test)\n"
   ]
  },
  {
   "cell_type": "code",
   "execution_count": 42,
   "metadata": {
    "execution": {
     "iopub.execute_input": "2022-11-16T13:59:50.929176Z",
     "iopub.status.busy": "2022-11-16T13:59:50.928941Z",
     "iopub.status.idle": "2022-11-16T13:59:50.953941Z",
     "shell.execute_reply": "2022-11-16T13:59:50.953292Z",
     "shell.execute_reply.started": "2022-11-16T13:59:50.929155Z"
    }
   },
   "outputs": [
    {
     "data": {
      "text/plain": "''"
     },
     "execution_count": 42,
     "metadata": {},
     "output_type": "execute_result"
    }
   ],
   "source": [
    "cv_results_df_sorted if not_catboost else ''"
   ]
  },
  {
   "cell_type": "code",
   "execution_count": 43,
   "metadata": {
    "execution": {
     "iopub.execute_input": "2022-11-16T13:59:50.955365Z",
     "iopub.status.busy": "2022-11-16T13:59:50.955113Z",
     "iopub.status.idle": "2022-11-16T13:59:50.960058Z",
     "shell.execute_reply": "2022-11-16T13:59:50.959362Z",
     "shell.execute_reply.started": "2022-11-16T13:59:50.955343Z"
    }
   },
   "outputs": [
    {
     "data": {
      "text/plain": "''"
     },
     "execution_count": 43,
     "metadata": {},
     "output_type": "execute_result"
    }
   ],
   "source": [
    "cv_results_df_sorted['params']  if not_catboost and debug_mode else ''"
   ]
  },
  {
   "cell_type": "code",
   "execution_count": 44,
   "metadata": {
    "execution": {
     "iopub.execute_input": "2022-11-16T13:59:50.961046Z",
     "iopub.status.busy": "2022-11-16T13:59:50.960847Z",
     "iopub.status.idle": "2022-11-16T13:59:50.966053Z",
     "shell.execute_reply": "2022-11-16T13:59:50.965218Z",
     "shell.execute_reply.started": "2022-11-16T13:59:50.961027Z"
    }
   },
   "outputs": [
    {
     "data": {
      "text/plain": "''"
     },
     "execution_count": 44,
     "metadata": {},
     "output_type": "execute_result"
    }
   ],
   "source": [
    "cv_results_df_sorted['params'][0] if not_catboost else ''"
   ]
  },
  {
   "cell_type": "code",
   "execution_count": 45,
   "metadata": {
    "execution": {
     "iopub.execute_input": "2022-11-16T13:59:50.967664Z",
     "iopub.status.busy": "2022-11-16T13:59:50.966945Z",
     "iopub.status.idle": "2022-11-16T13:59:50.974725Z",
     "shell.execute_reply": "2022-11-16T13:59:50.973935Z",
     "shell.execute_reply.started": "2022-11-16T13:59:50.967640Z"
    }
   },
   "outputs": [
    {
     "data": {
      "text/plain": "''"
     },
     "execution_count": 45,
     "metadata": {},
     "output_type": "execute_result"
    }
   ],
   "source": [
    "best_models if not_catboost else ''"
   ]
  },
  {
   "cell_type": "code",
   "execution_count": 46,
   "metadata": {
    "execution": {
     "iopub.execute_input": "2022-11-16T13:59:50.976386Z",
     "iopub.status.busy": "2022-11-16T13:59:50.975697Z",
     "iopub.status.idle": "2022-11-16T13:59:52.092828Z",
     "shell.execute_reply": "2022-11-16T13:59:52.092064Z",
     "shell.execute_reply.started": "2022-11-16T13:59:50.976363Z"
    }
   },
   "outputs": [],
   "source": [
    "if not_catboost:\n",
    "    for i in best_model_scores.keys():\n",
    "        if i >= 0:\n",
    "            plt.plot([y_test.min(), y_test.max()], [y_test.min(), y_test.max()], 'r--', lw=3)\n",
    "            plt.scatter(y_test, best_model_predictions[i])\n",
    "            # plt.title(str(i) + \" \" + str(round(best_model_scores[i], 4)) + \" for \" + str(best_models[i]))\n",
    "            if len(best_models[i].keys()) < 30:\n",
    "                plt.title(str(i) + \" \" + str(round(best_model_scores[i], 4)) + \" for \" + str(best_models[i]))\n",
    "            else:\n",
    "                plt.title(str(i) + \" \" + str(round(best_model_scores[i], 4)) + \" for entry \" + str(i))\n",
    "            plt.show()\n",
    "\n",
    "    plt.plot([y_test.min(), y_test.max()], [y_test.min(), y_test.max()], 'r--', lw=3)\n",
    "    plt.scatter(y_test, best_model_predictions[-1])\n",
    "    # plt.title(str(i) + \" \" + str(round(best_model_scores[i], 4)) + \" for \" + str(best_models[i]))\n",
    "    if len(best_models[i].keys()) < 30:\n",
    "        plt.title(str(i) + \" \" + str(round(best_model_scores[-1], 4)) + \" for \" + str(best_models[-1]))\n",
    "    else:\n",
    "        plt.title(str(i) + \" \" + str(round(best_model_scores[-1], 4)) + \" for (worst) entry \" + str(i))\n",
    "\n",
    "    plt.show()"
   ]
  },
  {
   "cell_type": "code",
   "execution_count": 47,
   "metadata": {
    "execution": {
     "iopub.execute_input": "2022-11-16T13:59:52.094913Z",
     "iopub.status.busy": "2022-11-16T13:59:52.094003Z",
     "iopub.status.idle": "2022-11-16T13:59:52.600226Z",
     "shell.execute_reply": "2022-11-16T13:59:52.599392Z",
     "shell.execute_reply.started": "2022-11-16T13:59:52.094884Z"
    }
   },
   "outputs": [],
   "source": [
    "if not_catboost:\n",
    "    sns.set_theme(font_scale=2, rc=None)\n",
    "    sns.set_theme(font_scale=1, rc=None)\n",
    "\n",
    "    fig, axes = plt.subplots(ncols=3, figsize=(15, 5))\n",
    "\n",
    "    plt.subplots_adjust(hspace=0.2)\n",
    "    plt.subplots_adjust(wspace=0.2)\n",
    "\n",
    "    #.flatten()\n",
    "    coordinates = axes[0]\n",
    "    sns.lineplot(x=[y_test.min(), y_test.max()], y=[y_test.min(), y_test.max()], ax=axes[0], color='red')\n",
    "    sns.scatterplot(x=y_test.flatten(), y=best_model_predictions[0].flatten(), ax=axes[0],\n",
    "                    s=100).set(title=f'\"BEST\" model')\n",
    "\n",
    "    sns.lineplot(x=[y_test.min(), y_test.max()], y=[y_test.min(), y_test.max()], ax=axes[1], color='red')\n",
    "    sns.scatterplot(x=y_test.flatten(), y=best_model_predictions[-1].flatten(), ax=axes[1],\n",
    "                    s=100).set(title=f'\"WORST\" model')\n",
    "\n",
    "    sns.lineplot(x=[y_test.min(), y_test.max()], y=[y_test.min(), y_test.max()], ax=axes[2], color='red')\n",
    "    sns.scatterplot(x=y_test.flatten(), y=best_model_predictions[-1].flatten(), ax=axes[2],\n",
    "                    s=120, color='orange')\n",
    "    sns.scatterplot(x=y_test.flatten(), y=best_model_predictions[0].flatten(), ax=axes[2],\n",
    "                    s=30, alpha=0.6, color='black').set(\n",
    "        title='best (black) vs worst (orange)')\n",
    "    #title='best (orange) vs worst (black)')\n",
    "\n",
    "    fig.tight_layout()\n",
    "    plt.show()"
   ]
  },
  {
   "cell_type": "code",
   "execution_count": 48,
   "metadata": {
    "execution": {
     "iopub.execute_input": "2022-11-16T13:59:52.601421Z",
     "iopub.status.busy": "2022-11-16T13:59:52.601193Z",
     "iopub.status.idle": "2022-11-16T13:59:52.607786Z",
     "shell.execute_reply": "2022-11-16T13:59:52.606855Z",
     "shell.execute_reply.started": "2022-11-16T13:59:52.601400Z"
    }
   },
   "outputs": [
    {
     "data": {
      "text/plain": "''"
     },
     "execution_count": 48,
     "metadata": {},
     "output_type": "execute_result"
    }
   ],
   "source": [
    "if not_catboost:\n",
    "    cv_best_model_fit_time = cv_results_df_sorted.iloc[0][\"mean_fit_time\"]\n",
    "cv_best_model_fit_time if not_catboost else ''"
   ]
  },
  {
   "cell_type": "code",
   "execution_count": 49,
   "metadata": {
    "execution": {
     "iopub.execute_input": "2022-11-16T13:59:52.608845Z",
     "iopub.status.busy": "2022-11-16T13:59:52.608602Z",
     "iopub.status.idle": "2022-11-16T13:59:52.871012Z",
     "shell.execute_reply": "2022-11-16T13:59:52.870054Z",
     "shell.execute_reply.started": "2022-11-16T13:59:52.608825Z"
    }
   },
   "outputs": [
    {
     "name": "stdout",
     "output_type": "stream",
     "text": [
      "haven't scored this model yet: CatBoost\n",
      "(debug:do nothing)\n",
      "catboost (v11)\n"
     ]
    }
   ],
   "source": [
    "# <catboost.core.CatBoostRegressor object at 0x7fb167387490>\n",
    "# {'depth': 6}\n",
    "# defaultdict(<class 'list'>, {'iterations': [0, 1, 2],\n",
    "# 'test-RMSE-mean': [396884.9605444017, 359548.6632536235, 326027.84885587444],\n",
    "# 'test-RMSE-std': [308.9495320039113, 260.0967808594464, 219.65856329246023],\n",
    "# 'train-RMSE-mean': [396884.77936957515, 359542.3612912551, 326018.9404460669],\n",
    "# 'train-RMSE-std': [91.44140078375503, 86.77961380623475, 69.4038638987425]})\n",
    "\n",
    "cv_best_model_fit_time = cv_results_df_sorted.iloc[0][\"mean_fit_time\"] if not_catboost else average_time\n",
    "\n",
    "DD2 = \"(\" + \",\".join(DATA_DETAIL) + \")\" if len(DATA_DETAIL) >= 1 else \"\"\n",
    "key = f'{ALGORITHM} (v{VERSION})'.lower()\n",
    "\n",
    "method =  f\"{ALGORITHM_DETAIL}{DD2}\"\n",
    "\n",
    "new_results = {\n",
    "    '_score': score,\n",
    "    'R square Accuracy': R2,\n",
    "    'Mean Absolute Error Accuracy': MAE,\n",
    "    'Mean Squared Error Accuracy': MSE,\n",
    "    'Root Mean Squared Error': RMSE,\n",
    "    '_train time': cv_best_model_fit_time,\n",
    "    'random_state': RANDOM_STATE,\n",
    "    'date': str(datetime.now()),\n",
    "    '_params': crossval_runner.best_params_ if not_catboost else cat_params,\n",
    "    '_method':method,\n",
    "    'run_env': run_env\n",
    "}\n",
    "\n",
    "if run_env not in ['colab']:\n",
    "    old_results_json = get_results()\n",
    "    try:\n",
    "        old_best_score = old_results_json[key]['best score']\n",
    "    except:\n",
    "        print(f\"haven't scored this model yet: {ALGORITHM}\")\n",
    "        old_best_score = -999\n",
    "    this_model_is_best = update_results(old_results_json, new_results, key)\n",
    "\n",
    "print(key)"
   ]
  },
  {
   "cell_type": "code",
   "execution_count": 50,
   "metadata": {
    "execution": {
     "iopub.execute_input": "2022-11-16T13:59:52.872732Z",
     "iopub.status.busy": "2022-11-16T13:59:52.872116Z",
     "iopub.status.idle": "2022-11-16T13:59:52.883681Z",
     "shell.execute_reply": "2022-11-16T13:59:52.882641Z",
     "shell.execute_reply.started": "2022-11-16T13:59:52.872708Z"
    }
   },
   "outputs": [
    {
     "data": {
      "text/plain": "''"
     },
     "execution_count": 50,
     "metadata": {},
     "output_type": "execute_result"
    }
   ],
   "source": [
    "crossval_runner.best_estimator_  if not_catboost else ''"
   ]
  },
  {
   "cell_type": "code",
   "execution_count": 51,
   "metadata": {
    "execution": {
     "iopub.execute_input": "2022-11-16T13:59:52.885380Z",
     "iopub.status.busy": "2022-11-16T13:59:52.885036Z",
     "iopub.status.idle": "2022-11-16T13:59:53.216677Z",
     "shell.execute_reply": "2022-11-16T13:59:53.215594Z",
     "shell.execute_reply.started": "2022-11-16T13:59:52.885349Z"
    }
   },
   "outputs": [
    {
     "name": "stdout",
     "output_type": "stream",
     "text": [
      "pickled new version of model\n",
      "0.6898181209077274 is new best score (it's better than -999)\n"
     ]
    }
   ],
   "source": [
    "if this_model_is_best:\n",
    "    with open(f'../../../models/optimised_model_{ALGORITHM}_v{VERSION}{DD2}.pkl', 'wb') as f:\n",
    "        if not_catboost:\n",
    "            pickle.dump(crossval_runner.best_estimator_, f)\n",
    "        else:\n",
    "            pickle.dump(starter_model, f)\n",
    "        print('pickled new version of model')\n",
    "        print(f\"{old_results_json[key]['_score']} is new best score (it's better than {old_best_score})\")\n",
    "        #print(results_json[key]['_score'], 'is an improvement on', results_json[key]['second best score'])\n",
    "else:\n",
    "    print(\"not updated saved model, the previous run was better\")\n",
    "    print(old_results_json[key]['_score'], 'is worse than or equal to', old_best_score)\n"
   ]
  },
  {
   "cell_type": "code",
   "execution_count": 52,
   "metadata": {
    "execution": {
     "iopub.execute_input": "2022-11-16T13:59:53.218033Z",
     "iopub.status.busy": "2022-11-16T13:59:53.217794Z",
     "iopub.status.idle": "2022-11-16T13:59:53.224486Z",
     "shell.execute_reply": "2022-11-16T13:59:53.223702Z",
     "shell.execute_reply.started": "2022-11-16T13:59:53.218013Z"
    }
   },
   "outputs": [
    {
     "name": "stdout",
     "output_type": "stream",
     "text": [
      "Feature Ranking:\n",
      "1. features 0 (20.750389) bedrooms\n",
      "2. features 4 (14.238310) location.longitude\n",
      "3. features 6 (11.881278) longitude_deviation\n",
      "4. features 5 (11.663885) latitude_deviation\n",
      "5. features 3 (9.765988) location.latitude\n",
      "6. features 2 (7.386773) nearestStation\n",
      "7. features 7 (5.386519) tenure.tenureType\n",
      "8. features 1 (4.587688) bathrooms\n",
      "9. features 58 (3.869088) feature__2__garden\n",
      "10. features 60 (2.440499) feature__2__parking\n",
      "11. features 72 (1.622518) feature__2__balcony\n",
      "12. features 15 (0.971016) feature__chain free\n",
      "13. features 36 (0.373557) feature__long lease\n",
      "14. features 68 (0.369519) feature__2__garage\n",
      "15. features 56 (0.349881) feature__two double bedrooms\n",
      "16. features 59 (0.307711) feature__2__central heating\n",
      "17. features 78 (0.218775) feature__2__underfloor heating\n",
      "18. features 45 (0.217875) feature__private balcony\n",
      "19. features 40 (0.216520) feature__no onward chain\n",
      "20. features 18 (0.214814) feature__communal gardens\n",
      "21. features 55 (0.209783) feature__two bedrooms\n",
      "22. features 30 (0.202778) feature__garden\n",
      "23. features 74 (0.182225) feature__2__double glazing\n",
      "24. features 62 (0.160244) feature__2__shower\n",
      "25. features 49 (0.157164) feature__separate kitchen\n",
      "26. features 50 (0.142177) feature__share of freehold\n",
      "27. features 39 (0.123149) feature__no chain\n",
      "28. features 17 (0.102872) feature__communal garden\n",
      "29. features 28 (0.096059) feature__fitted kitchen\n",
      "30. features 42 (0.092568) feature__one bedroom\n",
      "31. features 51 (0.091175) feature__three bedrooms\n",
      "32. features 46 (0.079871) feature__private garden\n",
      "33. features 61 (0.079577) feature__2__off road\n",
      "34. features 54 (0.074780) feature__two bathrooms\n",
      "35. features 13 (0.070526) feature__balcony\n",
      "36. features 23 (0.067419) feature__epc rating d\n",
      "37. features 27 (0.067322) feature__first floor\n",
      "38. features 53 (0.063438) feature__top floor\n",
      "39. features 34 (0.063130) feature__kitchen\n",
      "40. features 41 (0.062661) feature__off street parking\n",
      "41. features 33 (0.062474) feature__ground floor\n",
      "42. features 16 (0.055642) feature__close to local amenities\n",
      "43. features 20 (0.055079) feature__double glazed\n",
      "44. features 43 (0.052769) feature__one double bedroom\n",
      "45. features 11 (0.051878) feature__allocated parking\n",
      "46. features 67 (0.047429) feature__2__dining room\n",
      "47. features 8 (0.044551) feature__1 bedroom\n",
      "48. features 71 (0.043389) feature__2__penthouse\n",
      "49. features 9 (0.037044) feature__2 bedrooms\n",
      "50. features 35 (0.036568) feature__leasehold\n",
      "51. features 21 (0.036174) feature__double glazing\n",
      "52. features 69 (0.035433) feature__2__en-suite\n",
      "53. features 31 (0.034821) feature__gas central heating\n",
      "54. features 77 (0.033513) feature__2__patio\n",
      "55. features 24 (0.032301) feature__excellent location\n",
      "56. features 70 (0.032057) feature__2__en suite\n",
      "57. features 38 (0.030865) feature__modern kitchen\n",
      "58. features 32 (0.030746) feature__great location\n",
      "59. features 57 (0.024809) feature__two reception rooms\n",
      "60. features 19 (0.023967) feature__double bedroom\n",
      "61. features 22 (0.020551) feature__epc rating c\n",
      "62. features 10 (0.017281) feature__2 double bedrooms\n",
      "63. features 26 (0.017264) feature__family bathroom\n",
      "64. features 48 (0.015409) feature__reception room\n",
      "65. features 12 (0.015359) feature__allocated parking space\n",
      "66. features 47 (0.014738) feature__private rear garden\n",
      "67. features 76 (0.013077) feature__2__security\n",
      "68. features 25 (0.012263) feature__excellent transport links\n",
      "69. features 52 (0.011999) feature__three double bedrooms\n",
      "70. features 44 (0.009650) feature__parking\n",
      "71. features 37 (0.009465) feature__modern bathroom\n",
      "72. features 14 (0.009122) feature__bathroom\n",
      "73. features 29 (0.006503) feature__garage\n",
      "74. features 79 (0.003448) feature__2__marble\n",
      "75. features 66 (0.000581) feature__2__insulat\n",
      "76. features 73 (0.000255) feature__2__double-glazing\n",
      "77. features 64 (0.000004) feature__2__wall insulation\n",
      "78. features 65 (0.000000) feature__2__insulation\n",
      "79. features 75 (0.000000) feature__2__off-road parking\n",
      "80. features 63 (0.000000) feature__2__cavity wall insulation\n"
     ]
    }
   ],
   "source": [
    "if 'tree' in ALGORITHM.lower() or 'forest' in ALGORITHM.lower() or 'boost' in ALGORITHM.lower():\n",
    "    feature_importances = crossval_runner.best_estimator_[-1].feature_importances_ if not_catboost else starter_model.get_feature_importance()\n",
    "    #std = np.std([tree.feature_importances_ for tree in model.estimators_], axis = 0)\n",
    "\n",
    "    indices = np.argsort(feature_importances)[::-1]\n",
    "\n",
    "    print('Feature Ranking:')\n",
    "\n",
    "    for f in range(X_train.shape[1]):\n",
    "        print('%d. features %d (%f)' % (f + 1, indices[f], feature_importances[indices[f]]),\n",
    "              df_features.columns[indices[f] + 1])\n",
    "else:\n",
    "    print(f'{ALGORITHM} does not have feature_importances, skipping')"
   ]
  },
  {
   "cell_type": "code",
   "execution_count": 53,
   "metadata": {
    "execution": {
     "iopub.execute_input": "2022-11-16T13:59:53.225586Z",
     "iopub.status.busy": "2022-11-16T13:59:53.225381Z",
     "iopub.status.idle": "2022-11-16T13:59:53.374100Z",
     "shell.execute_reply": "2022-11-16T13:59:53.373223Z",
     "shell.execute_reply.started": "2022-11-16T13:59:53.225567Z"
    }
   },
   "outputs": [
    {
     "data": {
      "text/plain": "<Figure size 1440x1440 with 1 Axes>",
      "image/png": "[encoded data removed]"
     },
     "metadata": {
      "needs_background": "light"
     },
     "output_type": "display_data"
    }
   ],
   "source": [
    "if 'tree' in ALGORITHM.lower() or 'forest' in ALGORITHM.lower() or 'boost' in ALGORITHM.lower():\n",
    "    indices = np.argsort(feature_importances)\n",
    "\n",
    "    fig, ax = plt.subplots(figsize=(20,20))\n",
    "    ax.barh(range(len(feature_importances)), feature_importances[indices])\n",
    "    ax.set_yticks(range(len(feature_importances)))\n",
    "    _ = ax.set_yticklabels(df_features.columns[[c + 1 for c in indices]])\n",
    "else:\n",
    "    print(f'{ALGORITHM} does not have feature_importances, skipping')"
   ]
  },
  {
   "cell_type": "code",
   "execution_count": 53,
   "metadata": {
    "collapsed": false,
    "jupyter": {
     "outputs_hidden": false
    }
   },
   "outputs": [],
   "source": []
  }
 ],
 "metadata": {
  "kernelspec": {
   "display_name": "Python 3 (ipykernel)",
   "language": "python",
   "name": "python3"
  },
  "language_info": {
   "codemirror_mode": {
    "name": "ipython",
    "version": 3
   },
   "file_extension": ".py",
   "mimetype": "text/x-python",
   "name": "python",
   "nbconvert_exporter": "python",
   "pygments_lexer": "ipython3",
   "version": "3.9.13"
  }
 },
 "nbformat": 4,
 "nbformat_minor": 4
}
