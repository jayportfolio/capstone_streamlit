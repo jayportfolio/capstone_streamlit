{
 "cells": [
  {
   "cell_type": "code",
   "execution_count": 1,
   "outputs": [],
   "source": [
    "RANDOM_STATE = 101\n",
    "no_dummies = False # 'no dummies' in DATA_DETAIL\n",
    "VERSION = '09'\n",
    "\n",
    "AUTOENCODE_EPOCHS = 400\n",
    "AUTOENCODE_EPOCHS = 80\n",
    "#AUTOENCODE_EPOCHS = 10"
   ],
   "metadata": {
    "collapsed": false
   }
  },
  {
   "cell_type": "code",
   "execution_count": 2,
   "outputs": [],
   "source": [
    "import sys\n",
    "import os\n",
    "import json\n",
    "\n",
    "module_path = os.path.abspath(os.path.join('..', '..', '..'))\n",
    "if module_path not in sys.path:\n",
    "    #sys.path.append(module_path+\"\\\\zfunctions\")\n",
    "    sys.path.append(module_path)\n",
    "\n",
    "#with open('../../z_envs/_envs.json') as f:\n",
    "#    env_vars = json.loads(f.read())\n",
    "\n",
    "try:\n",
    "    import google.colab\n",
    "\n",
    "    run_env = 'colab'\n",
    "except:\n",
    "    try:\n",
    "        run_env = env_vars['notebook_environment']\n",
    "    except:\n",
    "        run_env = 'unknown'\n",
    "\n",
    "if \"JPY_PARENT_PID\" in os.environ:\n",
    "    is_jupyter = True\n",
    "else:\n",
    "    is_jupyter = False\n",
    "\n",
    "\n",
    "\n",
    "if run_env not in ['colab', 'gradient', 'cloud']:\n",
    "    cloud_run = False\n",
    "    from functions_b__get_the_data_20221116 import set_csv_directory\n",
    "    set_csv_directory('final_split')\n",
    "else:\n",
    "    cloud_run = True\n",
    "\n",
    "from functions_0__common_20221116 import get_columns\n",
    "from functions_b__get_the_data_20221116 import get_combined_dataset, get_source_dataframe\n",
    "from functions_d1__prepare_cleanse_data_20221116 import tidy_dataset\n",
    "from functions_d2__transform_enrich_data_20221116 import preprocess, feature_engineer\n",
    "from functions_d3__prepare_store_data_20221116 import create_train_test_data\n",
    "from functions_e__train_model_20221116 import get_chosen_model, make_modelling_pipeline, get_cv_params, fit_model_with_cross_validation, get_hyperparameters\n",
    "from functions_f_evaluate_model_20221116 import get_best_estimator_average_time, get_results, update_results\n",
    "\n",
    "#print(env_vars)"
   ],
   "metadata": {
    "collapsed": false
   }
  },
  {
   "cell_type": "code",
   "execution_count": 3,
   "outputs": [],
   "source": [
    "columns, booleans, floats, categories, custom, wildcard = get_columns(version=VERSION)\n",
    "LABEL = 'Price'"
   ],
   "metadata": {
    "collapsed": false
   }
  },
  {
   "cell_type": "code",
   "execution_count": 4,
   "outputs": [
    {
     "name": "stdout",
     "output_type": "stream",
     "text": [
      "loaded data from ../../../data/final/df_listings_v09.csv\n"
     ]
    }
   ],
   "source": [
    "df, retrieval_type = get_source_dataframe(cloud_run, VERSION, folder_prefix='../../../', row_limit=None)\n",
    "df_orig = df.copy()\n",
    "\n",
    "if retrieval_type != 'tidy':\n",
    "    df = tidy_dataset(df, version=int(VERSION))\n",
    "    df = feature_engineer(df, version=int(VERSION))\n",
    "\n",
    "\n",
    "    df = df[columns]"
   ],
   "metadata": {
    "collapsed": false
   }
  },
  {
   "cell_type": "code",
   "execution_count": 5,
   "outputs": [
    {
     "name": "stdout",
     "output_type": "stream",
     "text": [
      "(46871, 19)\n",
      "(39714, 21) (4413, 21) (39714, 1) (4413, 1) (39714, 1) (4413, 1) (39714, 1) (4413, 1)\n"
     ]
    }
   ],
   "source": [
    "X_train_orig, X_test_orig, y_train_orig, y_test_orig, X_train_index, X_test_index, y_train_index, y_test_index, df_features, df_labels = create_train_test_data(\n",
    "    df,\n",
    "    categories=categories,\n",
    "    RANDOM_STATE=RANDOM_STATE, return_index=True,\n",
    "    drop_nulls=True,\n",
    "    no_dummies=no_dummies\n",
    ")\n",
    "\n",
    "#print(X_train[0])\n",
    "print(df.shape)\n",
    "print(X_train_orig.shape, X_test_orig.shape, y_train_orig.shape, y_test_orig.shape, X_train_index.shape, X_test_index.shape,\n",
    "      y_train_index.shape, y_test_index.shape)\n",
    "\n"
   ],
   "metadata": {
    "collapsed": false
   }
  },
  {
   "cell_type": "code",
   "execution_count": 6,
   "metadata": {
    "collapsed": true
   },
   "outputs": [
    {
     "name": "stdout",
     "output_type": "stream",
     "text": [
      "You must install pydot (`pip install pydot`) and install graphviz (see instructions at https://graphviz.gitlab.io/download/) for plot_model/model_to_dot to work.\n",
      "Epoch 1/80\n",
      "2483/2483 - 9s - loss: 0.0246 - val_loss: 0.0044 - 9s/epoch - 4ms/step\n",
      "Epoch 2/80\n",
      "2483/2483 - 8s - loss: 0.0075 - val_loss: 0.0023 - 8s/epoch - 3ms/step\n",
      "Epoch 3/80\n",
      "2483/2483 - 8s - loss: 0.0056 - val_loss: 0.0022 - 8s/epoch - 3ms/step\n",
      "Epoch 4/80\n",
      "2483/2483 - 8s - loss: 0.0047 - val_loss: 0.0013 - 8s/epoch - 3ms/step\n",
      "Epoch 5/80\n",
      "2483/2483 - 8s - loss: 0.0041 - val_loss: 0.0013 - 8s/epoch - 3ms/step\n",
      "Epoch 6/80\n",
      "2483/2483 - 8s - loss: 0.0037 - val_loss: 0.0010 - 8s/epoch - 3ms/step\n",
      "Epoch 7/80\n",
      "2483/2483 - 8s - loss: 0.0035 - val_loss: 0.0011 - 8s/epoch - 3ms/step\n",
      "Epoch 8/80\n",
      "2483/2483 - 8s - loss: 0.0032 - val_loss: 8.6876e-04 - 8s/epoch - 3ms/step\n",
      "Epoch 9/80\n",
      "2483/2483 - 8s - loss: 0.0030 - val_loss: 8.1502e-04 - 8s/epoch - 3ms/step\n",
      "Epoch 10/80\n",
      "2483/2483 - 8s - loss: 0.0030 - val_loss: 6.6956e-04 - 8s/epoch - 3ms/step\n",
      "Epoch 11/80\n",
      "2483/2483 - 9s - loss: 0.0028 - val_loss: 8.3599e-04 - 9s/epoch - 3ms/step\n",
      "Epoch 12/80\n",
      "2483/2483 - 8s - loss: 0.0027 - val_loss: 0.0011 - 8s/epoch - 3ms/step\n",
      "Epoch 13/80\n",
      "2483/2483 - 8s - loss: 0.0026 - val_loss: 7.6933e-04 - 8s/epoch - 3ms/step\n",
      "Epoch 14/80\n",
      "2483/2483 - 8s - loss: 0.0026 - val_loss: 7.9506e-04 - 8s/epoch - 3ms/step\n",
      "Epoch 15/80\n",
      "2483/2483 - 8s - loss: 0.0025 - val_loss: 0.0014 - 8s/epoch - 3ms/step\n",
      "Epoch 16/80\n",
      "2483/2483 - 8s - loss: 0.0024 - val_loss: 7.3817e-04 - 8s/epoch - 3ms/step\n",
      "Epoch 17/80\n",
      "2483/2483 - 8s - loss: 0.0024 - val_loss: 7.4966e-04 - 8s/epoch - 3ms/step\n",
      "Epoch 18/80\n",
      "2483/2483 - 8s - loss: 0.0024 - val_loss: 0.0011 - 8s/epoch - 3ms/step\n",
      "Epoch 19/80\n",
      "2483/2483 - 8s - loss: 0.0023 - val_loss: 8.2962e-04 - 8s/epoch - 3ms/step\n",
      "Epoch 20/80\n",
      "2483/2483 - 8s - loss: 0.0023 - val_loss: 7.3078e-04 - 8s/epoch - 3ms/step\n",
      "Epoch 21/80\n",
      "2483/2483 - 8s - loss: 0.0022 - val_loss: 7.8466e-04 - 8s/epoch - 3ms/step\n",
      "Epoch 22/80\n",
      "2483/2483 - 8s - loss: 0.0022 - val_loss: 9.0481e-04 - 8s/epoch - 3ms/step\n",
      "Epoch 23/80\n",
      "2483/2483 - 8s - loss: 0.0022 - val_loss: 8.5685e-04 - 8s/epoch - 3ms/step\n",
      "Epoch 24/80\n",
      "2483/2483 - 8s - loss: 0.0022 - val_loss: 7.1067e-04 - 8s/epoch - 3ms/step\n",
      "Epoch 25/80\n",
      "2483/2483 - 8s - loss: 0.0021 - val_loss: 7.1864e-04 - 8s/epoch - 3ms/step\n",
      "Epoch 26/80\n",
      "2483/2483 - 8s - loss: 0.0021 - val_loss: 8.5244e-04 - 8s/epoch - 3ms/step\n",
      "Epoch 27/80\n",
      "2483/2483 - 8s - loss: 0.0020 - val_loss: 6.6139e-04 - 8s/epoch - 3ms/step\n",
      "Epoch 28/80\n",
      "2483/2483 - 8s - loss: 0.0021 - val_loss: 6.7488e-04 - 8s/epoch - 3ms/step\n",
      "Epoch 29/80\n",
      "2483/2483 - 8s - loss: 0.0021 - val_loss: 7.0876e-04 - 8s/epoch - 3ms/step\n",
      "Epoch 30/80\n",
      "2483/2483 - 8s - loss: 0.0020 - val_loss: 7.8397e-04 - 8s/epoch - 3ms/step\n",
      "Epoch 31/80\n",
      "2483/2483 - 8s - loss: 0.0020 - val_loss: 5.8385e-04 - 8s/epoch - 3ms/step\n",
      "Epoch 32/80\n",
      "2483/2483 - 8s - loss: 0.0020 - val_loss: 5.5974e-04 - 8s/epoch - 3ms/step\n",
      "Epoch 33/80\n",
      "2483/2483 - 9s - loss: 0.0021 - val_loss: 0.0010 - 9s/epoch - 3ms/step\n",
      "Epoch 34/80\n",
      "2483/2483 - 8s - loss: 0.0019 - val_loss: 4.5265e-04 - 8s/epoch - 3ms/step\n",
      "Epoch 35/80\n",
      "2483/2483 - 9s - loss: 0.0020 - val_loss: 4.8676e-04 - 9s/epoch - 4ms/step\n",
      "Epoch 36/80\n",
      "2483/2483 - 9s - loss: 0.0019 - val_loss: 4.4880e-04 - 9s/epoch - 3ms/step\n",
      "Epoch 37/80\n",
      "2483/2483 - 8s - loss: 0.0019 - val_loss: 6.9582e-04 - 8s/epoch - 3ms/step\n",
      "Epoch 38/80\n",
      "2483/2483 - 8s - loss: 0.0019 - val_loss: 0.0013 - 8s/epoch - 3ms/step\n",
      "Epoch 39/80\n",
      "2483/2483 - 8s - loss: 0.0019 - val_loss: 0.0030 - 8s/epoch - 3ms/step\n",
      "Epoch 40/80\n",
      "2483/2483 - 8s - loss: 0.0019 - val_loss: 8.5193e-04 - 8s/epoch - 3ms/step\n",
      "Epoch 41/80\n",
      "2483/2483 - 8s - loss: 0.0018 - val_loss: 7.7523e-04 - 8s/epoch - 3ms/step\n",
      "Epoch 42/80\n",
      "2483/2483 - 9s - loss: 0.0018 - val_loss: 6.0546e-04 - 9s/epoch - 3ms/step\n",
      "Epoch 43/80\n",
      "2483/2483 - 8s - loss: 0.0018 - val_loss: 3.5531e-04 - 8s/epoch - 3ms/step\n",
      "Epoch 44/80\n",
      "2483/2483 - 8s - loss: 0.0017 - val_loss: 4.4426e-04 - 8s/epoch - 3ms/step\n",
      "Epoch 45/80\n",
      "2483/2483 - 8s - loss: 0.0018 - val_loss: 5.6847e-04 - 8s/epoch - 3ms/step\n",
      "Epoch 46/80\n",
      "2483/2483 - 8s - loss: 0.0018 - val_loss: 6.6956e-04 - 8s/epoch - 3ms/step\n",
      "Epoch 47/80\n",
      "2483/2483 - 8s - loss: 0.0018 - val_loss: 4.8836e-04 - 8s/epoch - 3ms/step\n",
      "Epoch 48/80\n",
      "2483/2483 - 8s - loss: 0.0017 - val_loss: 6.7097e-04 - 8s/epoch - 3ms/step\n",
      "Epoch 49/80\n",
      "2483/2483 - 9s - loss: 0.0018 - val_loss: 4.0375e-04 - 9s/epoch - 3ms/step\n",
      "Epoch 50/80\n",
      "2483/2483 - 9s - loss: 0.0017 - val_loss: 5.5474e-04 - 9s/epoch - 4ms/step\n",
      "Epoch 51/80\n",
      "2483/2483 - 9s - loss: 0.0016 - val_loss: 4.7329e-04 - 9s/epoch - 3ms/step\n",
      "Epoch 52/80\n",
      "2483/2483 - 9s - loss: 0.0017 - val_loss: 5.6633e-04 - 9s/epoch - 3ms/step\n",
      "Epoch 53/80\n",
      "2483/2483 - 8s - loss: 0.0017 - val_loss: 3.8507e-04 - 8s/epoch - 3ms/step\n",
      "Epoch 54/80\n",
      "2483/2483 - 8s - loss: 0.0016 - val_loss: 6.5836e-04 - 8s/epoch - 3ms/step\n",
      "Epoch 55/80\n",
      "2483/2483 - 8s - loss: 0.0017 - val_loss: 3.1976e-04 - 8s/epoch - 3ms/step\n",
      "Epoch 56/80\n",
      "2483/2483 - 8s - loss: 0.0017 - val_loss: 4.3332e-04 - 8s/epoch - 3ms/step\n",
      "Epoch 57/80\n",
      "2483/2483 - 8s - loss: 0.0017 - val_loss: 3.4085e-04 - 8s/epoch - 3ms/step\n",
      "Epoch 58/80\n",
      "2483/2483 - 8s - loss: 0.0016 - val_loss: 4.6379e-04 - 8s/epoch - 3ms/step\n",
      "Epoch 59/80\n",
      "2483/2483 - 8s - loss: 0.0017 - val_loss: 4.1448e-04 - 8s/epoch - 3ms/step\n",
      "Epoch 60/80\n",
      "2483/2483 - 8s - loss: 0.0016 - val_loss: 0.0012 - 8s/epoch - 3ms/step\n",
      "Epoch 61/80\n",
      "2483/2483 - 8s - loss: 0.0016 - val_loss: 4.3542e-04 - 8s/epoch - 3ms/step\n",
      "Epoch 62/80\n",
      "2483/2483 - 8s - loss: 0.0016 - val_loss: 5.7821e-04 - 8s/epoch - 3ms/step\n",
      "Epoch 63/80\n",
      "2483/2483 - 8s - loss: 0.0017 - val_loss: 6.5604e-04 - 8s/epoch - 3ms/step\n",
      "Epoch 64/80\n",
      "2483/2483 - 8s - loss: 0.0016 - val_loss: 3.9703e-04 - 8s/epoch - 3ms/step\n",
      "Epoch 65/80\n",
      "2483/2483 - 9s - loss: 0.0016 - val_loss: 3.8196e-04 - 9s/epoch - 4ms/step\n",
      "Epoch 66/80\n",
      "2483/2483 - 8s - loss: 0.0015 - val_loss: 4.7046e-04 - 8s/epoch - 3ms/step\n",
      "Epoch 67/80\n",
      "2483/2483 - 8s - loss: 0.0015 - val_loss: 5.3608e-04 - 8s/epoch - 3ms/step\n",
      "Epoch 68/80\n",
      "2483/2483 - 9s - loss: 0.0016 - val_loss: 3.3980e-04 - 9s/epoch - 3ms/step\n",
      "Epoch 69/80\n",
      "2483/2483 - 8s - loss: 0.0016 - val_loss: 4.6488e-04 - 8s/epoch - 3ms/step\n",
      "Epoch 70/80\n",
      "2483/2483 - 8s - loss: 0.0015 - val_loss: 4.9931e-04 - 8s/epoch - 3ms/step\n",
      "Epoch 71/80\n",
      "2483/2483 - 9s - loss: 0.0016 - val_loss: 8.2680e-04 - 9s/epoch - 4ms/step\n",
      "Epoch 72/80\n",
      "2483/2483 - 8s - loss: 0.0015 - val_loss: 3.7105e-04 - 8s/epoch - 3ms/step\n",
      "Epoch 73/80\n",
      "2483/2483 - 8s - loss: 0.0016 - val_loss: 5.6473e-04 - 8s/epoch - 3ms/step\n",
      "Epoch 74/80\n",
      "2483/2483 - 9s - loss: 0.0016 - val_loss: 5.0234e-04 - 9s/epoch - 3ms/step\n",
      "Epoch 75/80\n",
      "2483/2483 - 8s - loss: 0.0016 - val_loss: 2.9224e-04 - 8s/epoch - 3ms/step\n",
      "Epoch 76/80\n",
      "2483/2483 - 8s - loss: 0.0016 - val_loss: 3.2389e-04 - 8s/epoch - 3ms/step\n",
      "Epoch 77/80\n",
      "2483/2483 - 8s - loss: 0.0016 - val_loss: 3.4219e-04 - 8s/epoch - 3ms/step\n",
      "Epoch 78/80\n",
      "2483/2483 - 8s - loss: 0.0016 - val_loss: 3.9470e-04 - 8s/epoch - 3ms/step\n",
      "Epoch 79/80\n",
      "2483/2483 - 9s - loss: 0.0016 - val_loss: 3.5502e-04 - 9s/epoch - 3ms/step\n",
      "Epoch 80/80\n",
      "2483/2483 - 8s - loss: 0.0015 - val_loss: 5.8800e-04 - 8s/epoch - 3ms/step\n"
     ]
    },
    {
     "data": {
      "text/plain": "<Figure size 432x288 with 1 Axes>",
      "image/png": "[encoded data removed]"
     },
     "metadata": {
      "needs_background": "light"
     },
     "output_type": "display_data"
    },
    {
     "name": "stdout",
     "output_type": "stream",
     "text": [
      "You must install pydot (`pip install pydot`) and install graphviz (see instructions at https://graphviz.gitlab.io/download/) for plot_model/model_to_dot to work.\n",
      "WARNING:tensorflow:Compiled the loaded model, but the compiled metrics have yet to be built. `model.compile_metrics` will be empty until you train or evaluate the model.\n"
     ]
    }
   ],
   "source": [
    "# train autoencoder for regression with no compression in the bottleneck layer\n",
    "from sklearn.datasets import make_regression\n",
    "from sklearn.preprocessing import MinMaxScaler\n",
    "from sklearn.model_selection import train_test_split\n",
    "from keras.models import Model\n",
    "from keras.layers import Input\n",
    "from keras.layers import Dense\n",
    "from keras.layers import ReLU\n",
    "from keras.layers import BatchNormalization\n",
    "from keras.utils import plot_model\n",
    "from matplotlib import pyplot\n",
    "# define dataset\n",
    "#X, y = make_regression(n_samples=1000, n_features=100, n_informative=10, noise=0.1, random_state=1)\n",
    "# number of input columns\n",
    "n_inputs = X_train_orig.shape[1]\n",
    "# split into train test sets\n",
    "#X_train, X_test, y_train, y_test = train_test_split(X, y, test_size=0.33, random_state=1)\n",
    "# scale data\n",
    "t = MinMaxScaler()\n",
    "t.fit(X_train_orig)\n",
    "X_train = t.transform(X_train_orig)\n",
    "X_test = t.transform(X_test_orig)\n",
    "# define encoder\n",
    "visible = Input(shape=(n_inputs,))\n",
    "e = Dense(n_inputs*2)(visible)\n",
    "e = BatchNormalization()(e)\n",
    "e = ReLU()(e)\n",
    "# define bottleneck\n",
    "n_bottleneck = n_inputs\n",
    "bottleneck = Dense(n_bottleneck)(e)\n",
    "# define decoder\n",
    "d = Dense(n_inputs*2)(bottleneck)\n",
    "d = BatchNormalization()(d)\n",
    "d = ReLU()(d)\n",
    "# output layer\n",
    "output = Dense(n_inputs, activation='linear')(d)\n",
    "# define autoencoder model\n",
    "model = Model(inputs=visible, outputs=output)\n",
    "# compile autoencoder model\n",
    "model.compile(optimizer='adam', loss='mse')\n",
    "# plot the autoencoder\n",
    "plot_model(model, 'autoencoder.png', show_shapes=True)\n",
    "# fit the autoencoder model to reconstruct input\n",
    "#history = model.fit(X_train, X_train, epochs=400, batch_size=16, verbose=2, validation_data=(X_test,X_test))\n",
    "history = model.fit(X_train, X_train, epochs=AUTOENCODE_EPOCHS, batch_size=16, verbose=2, validation_data=(X_test,X_test))\n",
    "# plot loss\n",
    "pyplot.plot(history.history['loss'], label='train')\n",
    "pyplot.plot(history.history['val_loss'], label='test')\n",
    "pyplot.legend()\n",
    "pyplot.show()\n",
    "# define an encoder model (without the decoder)\n",
    "encoder = Model(inputs=visible, outputs=bottleneck)\n",
    "plot_model(encoder, 'encoder.png', show_shapes=True)\n",
    "# save the encoder to file\n",
    "encoder.save(f'autoencoder_encoder_v{VERSION}.h5')"
   ]
  },
  {
   "cell_type": "code",
   "execution_count": 6,
   "outputs": [],
   "source": [],
   "metadata": {
    "collapsed": false
   }
  },
  {
   "cell_type": "code",
   "execution_count": 6,
   "outputs": [],
   "source": [],
   "metadata": {
    "collapsed": false
   }
  },
  {
   "cell_type": "code",
   "execution_count": 7,
   "outputs": [],
   "source": [
    "if False:\n",
    "    y_train = y_train.ravel()\n",
    "    y_test = y_test.ravel()\n",
    "\n",
    "    # support vector regression performance with encoded input\n",
    "    from sklearn.datasets import make_regression\n",
    "    from sklearn.preprocessing import MinMaxScaler\n",
    "    from sklearn.model_selection import train_test_split\n",
    "    from sklearn.svm import SVR\n",
    "    from sklearn.metrics import mean_absolute_error\n",
    "    from keras.models import load_model\n",
    "    # define dataset\n",
    "    #???X, y = make_regression(n_samples=1000, n_features=100, n_informative=10, noise=0.1, random_state=1)\n",
    "    # split into train test sets\n",
    "    #???X_train, X_test, y_train, y_test = train_test_split(X, y, test_size=0.33, random_state=1)\n",
    "    print(\"Before:\")\n",
    "    print(y_train[0:5])\n",
    "    print(y_test[0:5])\n",
    "    # reshape target variables so that we can transform them\n",
    "    y_train = y_train.reshape((len(y_train), 1))\n",
    "    y_test = y_test.reshape((len(y_test), 1))\n",
    "    # scale input data\n",
    "    trans_in = MinMaxScaler()\n",
    "    trans_in.fit(X_train)\n",
    "    X_train = trans_in.transform(X_train)\n",
    "    X_test = trans_in.transform(X_test)\n",
    "    # scale output data\n",
    "    trans_out = MinMaxScaler()\n",
    "    trans_out.fit(y_train)\n",
    "    y_train = trans_out.transform(y_train)\n",
    "    y_test = trans_out.transform(y_test)\n",
    "    print(\"Scaled:\")\n",
    "    print(y_train[0:5])\n",
    "    print(y_test[0:5])\n",
    "    # load the model from file\n",
    "    ###encoder = load_model('encoder.h5')\n",
    "    encoder = load_model(f'autoencoder_encoder_v{VERSION}.h5')\n",
    "    # encode the train data\n",
    "    X_train_encode = encoder.predict(X_train)\n",
    "    # encode the test data\n",
    "    X_test_encode = encoder.predict(X_test)\n",
    "    # define model\n",
    "    model = SVR()\n",
    "    # fit model on the training dataset\n",
    "    model.fit(X_train_encode, y_train)\n",
    "    # make prediction on test set\n",
    "    y_pred = model.predict(X_test_encode)\n",
    "    # invert transforms so we can calculate errors\n",
    "    y_pred = y_pred.reshape((len(y_pred), 1))\n",
    "    y_pred = trans_out.inverse_transform(y_pred)\n",
    "    y_test = trans_out.inverse_transform(y_test)\n",
    "    # calculate error\n",
    "    score = mean_absolute_error(y_test, y_pred)\n",
    "    print(score)\n"
   ],
   "metadata": {
    "collapsed": false
   }
  },
  {
   "cell_type": "code",
   "execution_count": 9,
   "outputs": [
    {
     "name": "stdout",
     "output_type": "stream",
     "text": [
      "WARNING:tensorflow:No training configuration found in the save file, so the model was *not* compiled. Compile it manually.\n",
      "1242/1242 [==============================] - 2s 1ms/step\n",
      "138/138 [==============================] - 0s 1ms/step\n"
     ]
    }
   ],
   "source": [
    "from sklearn.svm import SVR\n",
    "from keras.saving.save import load_model\n",
    "\n",
    "# load the model from file\n",
    "encoder = load_model(f'autoencoder_encoder_v{VERSION}.h5')\n",
    "\n",
    "# encode the train data\n",
    "X_train_encode = encoder.predict(X_train)\n",
    "# encode the test data\n",
    "X_test_encode = encoder.predict(X_test)"
   ],
   "metadata": {
    "collapsed": false
   }
  },
  {
   "cell_type": "code",
   "execution_count": 13,
   "outputs": [
    {
     "data": {
      "text/plain": "array([[ 3.00000000e+00,  3.00000000e+00,  3.16613257e-01,\n         5.14597600e+01,  1.29390000e-01,  3.99600000e-02,\n         2.33810000e-01,  0.00000000e+00,  0.00000000e+00,\n         0.00000000e+00,  0.00000000e+00,  0.00000000e+00,\n         0.00000000e+00,  0.00000000e+00,  1.00000000e+00,\n         0.00000000e+00,  0.00000000e+00,  0.00000000e+00,\n         1.00000000e+00,  0.00000000e+00,  0.00000000e+00],\n       [ 1.00000000e+00,  1.00000000e+00,  5.30933747e-01,\n         5.15326700e+01,  7.54000000e-02,  3.29500000e-02,\n         1.79820000e-01,  0.00000000e+00,  0.00000000e+00,\n         0.00000000e+00,  0.00000000e+00,  0.00000000e+00,\n         0.00000000e+00,  0.00000000e+00,  0.00000000e+00,\n         0.00000000e+00,  0.00000000e+00,  0.00000000e+00,\n         0.00000000e+00,  1.00000000e+00,  0.00000000e+00],\n       [ 1.00000000e+00,  1.00000000e+00,  2.85509374e-01,\n         5.15140500e+01, -6.13600000e-02,  1.43300000e-02,\n         4.30600000e-02,  0.00000000e+00,  0.00000000e+00,\n         0.00000000e+00,  0.00000000e+00,  0.00000000e+00,\n         0.00000000e+00,  0.00000000e+00,  0.00000000e+00,\n         0.00000000e+00,  0.00000000e+00,  0.00000000e+00,\n         0.00000000e+00,  0.00000000e+00,  1.00000000e+00]])"
     },
     "execution_count": 13,
     "metadata": {},
     "output_type": "execute_result"
    }
   ],
   "source": [
    "X_train_orig[0:3]"
   ],
   "metadata": {
    "collapsed": false
   }
  },
  {
   "cell_type": "code",
   "execution_count": 14,
   "outputs": [
    {
     "data": {
      "text/plain": "array([[0.33333333, 0.5       , 0.04398811, 0.41947629, 0.80673924,\n        0.19840817, 0.59380921, 0.        , 0.        , 0.        ,\n        0.        , 0.        , 0.        , 0.        , 1.        ,\n        0.        , 0.        , 0.        , 1.        , 0.        ,\n        0.        ],\n       [0.        , 0.        , 0.07376436, 0.60891786, 0.73733372,\n        0.16360233, 0.45669035, 0.        , 0.        , 0.        ,\n        0.        , 0.        , 0.        , 0.        , 0.        ,\n        0.        , 0.        , 0.        , 0.        , 1.        ,\n        0.        ],\n       [0.        , 0.        , 0.03966675, 0.56053764, 0.56152525,\n        0.07115088, 0.10935984, 0.        , 0.        , 0.        ,\n        0.        , 0.        , 0.        , 0.        , 0.        ,\n        0.        , 0.        , 0.        , 0.        , 0.        ,\n        1.        ]])"
     },
     "execution_count": 14,
     "metadata": {},
     "output_type": "execute_result"
    }
   ],
   "source": [
    "X_train[0:3]"
   ],
   "metadata": {
    "collapsed": false
   }
  },
  {
   "cell_type": "code",
   "execution_count": 15,
   "outputs": [
    {
     "data": {
      "text/plain": "array([[-2.26041102e+00, -8.69177878e-01,  6.60994768e-01,\n         1.59839284e+00,  9.87535536e-01, -2.55913162e+00,\n         2.35561490e-01,  1.89207757e+00, -1.06529915e+00,\n        -9.36045721e-02,  1.03950284e-01,  3.46554875e-01,\n        -1.07024336e+00,  3.40605617e+00, -2.41133714e+00,\n         1.39954960e+00,  3.79644823e+00,  1.43618393e+00,\n         1.74850404e+00, -5.26522636e-01, -1.20411623e+00],\n       [-1.54829359e+00, -1.25590146e+00,  1.45944715e+00,\n         5.62467456e-01, -3.56398493e-01, -1.98813677e+00,\n         4.11643177e-01,  2.19792747e+00, -1.48871350e+00,\n        -1.41852748e+00, -1.68730125e-01,  5.52630536e-02,\n        -1.52943957e+00,  4.67729139e+00, -2.91354561e+00,\n        -3.51322383e-01,  3.24847221e+00,  2.83924913e+00,\n         1.93755770e+00, -9.54187155e-01, -3.91849488e-01],\n       [-1.42497587e+00, -1.44458437e+00, -4.15859632e-02,\n         1.21072710e+00,  1.36743200e+00, -3.66671848e+00,\n         1.52969058e-03,  1.32232368e+00, -2.17481947e+00,\n         3.44101131e-01, -4.93293971e-01, -8.01919758e-01,\n        -2.64574647e+00,  3.61408639e+00, -2.74022698e+00,\n         1.23406410e+00,  2.94444823e+00,  3.42777705e+00,\n         1.83769095e+00, -5.78009963e-01, -1.93679714e+00]], dtype=float32)"
     },
     "execution_count": 15,
     "metadata": {},
     "output_type": "execute_result"
    }
   ],
   "source": [
    "X_test_encode[0:3]"
   ],
   "metadata": {
    "collapsed": false
   }
  },
  {
   "cell_type": "code",
   "execution_count": 16,
   "outputs": [],
   "source": [
    "y_train = y_train_orig\n",
    "y_test = y_test_orig"
   ],
   "metadata": {
    "collapsed": false
   }
  },
  {
   "cell_type": "code",
   "execution_count": 17,
   "outputs": [
    {
     "data": {
      "text/plain": "KNeighborsRegressor()",
      "text/html": "<style>#sk-container-id-1 {color: black;background-color: white;}#sk-container-id-1 pre{padding: 0;}#sk-container-id-1 div.sk-toggleable {background-color: white;}#sk-container-id-1 label.sk-toggleable__label {cursor: pointer;display: block;width: 100%;margin-bottom: 0;padding: 0.3em;box-sizing: border-box;text-align: center;}#sk-container-id-1 label.sk-toggleable__label-arrow:before {content: \"▸\";float: left;margin-right: 0.25em;color: #696969;}#sk-container-id-1 label.sk-toggleable__label-arrow:hover:before {color: black;}#sk-container-id-1 div.sk-estimator:hover label.sk-toggleable__label-arrow:before {color: black;}#sk-container-id-1 div.sk-toggleable__content {max-height: 0;max-width: 0;overflow: hidden;text-align: left;background-color: #f0f8ff;}#sk-container-id-1 div.sk-toggleable__content pre {margin: 0.2em;color: black;border-radius: 0.25em;background-color: #f0f8ff;}#sk-container-id-1 input.sk-toggleable__control:checked~div.sk-toggleable__content {max-height: 200px;max-width: 100%;overflow: auto;}#sk-container-id-1 input.sk-toggleable__control:checked~label.sk-toggleable__label-arrow:before {content: \"▾\";}#sk-container-id-1 div.sk-estimator input.sk-toggleable__control:checked~label.sk-toggleable__label {background-color: #d4ebff;}#sk-container-id-1 div.sk-label input.sk-toggleable__control:checked~label.sk-toggleable__label {background-color: #d4ebff;}#sk-container-id-1 input.sk-hidden--visually {border: 0;clip: rect(1px 1px 1px 1px);clip: rect(1px, 1px, 1px, 1px);height: 1px;margin: -1px;overflow: hidden;padding: 0;position: absolute;width: 1px;}#sk-container-id-1 div.sk-estimator {font-family: monospace;background-color: #f0f8ff;border: 1px dotted black;border-radius: 0.25em;box-sizing: border-box;margin-bottom: 0.5em;}#sk-container-id-1 div.sk-estimator:hover {background-color: #d4ebff;}#sk-container-id-1 div.sk-parallel-item::after {content: \"\";width: 100%;border-bottom: 1px solid gray;flex-grow: 1;}#sk-container-id-1 div.sk-label:hover label.sk-toggleable__label {background-color: #d4ebff;}#sk-container-id-1 div.sk-serial::before {content: \"\";position: absolute;border-left: 1px solid gray;box-sizing: border-box;top: 0;bottom: 0;left: 50%;z-index: 0;}#sk-container-id-1 div.sk-serial {display: flex;flex-direction: column;align-items: center;background-color: white;padding-right: 0.2em;padding-left: 0.2em;position: relative;}#sk-container-id-1 div.sk-item {position: relative;z-index: 1;}#sk-container-id-1 div.sk-parallel {display: flex;align-items: stretch;justify-content: center;background-color: white;position: relative;}#sk-container-id-1 div.sk-item::before, #sk-container-id-1 div.sk-parallel-item::before {content: \"\";position: absolute;border-left: 1px solid gray;box-sizing: border-box;top: 0;bottom: 0;left: 50%;z-index: -1;}#sk-container-id-1 div.sk-parallel-item {display: flex;flex-direction: column;z-index: 1;position: relative;background-color: white;}#sk-container-id-1 div.sk-parallel-item:first-child::after {align-self: flex-end;width: 50%;}#sk-container-id-1 div.sk-parallel-item:last-child::after {align-self: flex-start;width: 50%;}#sk-container-id-1 div.sk-parallel-item:only-child::after {width: 0;}#sk-container-id-1 div.sk-dashed-wrapped {border: 1px dashed gray;margin: 0 0.4em 0.5em 0.4em;box-sizing: border-box;padding-bottom: 0.4em;background-color: white;}#sk-container-id-1 div.sk-label label {font-family: monospace;font-weight: bold;display: inline-block;line-height: 1.2em;}#sk-container-id-1 div.sk-label-container {text-align: center;}#sk-container-id-1 div.sk-container {/* jupyter's `normalize.less` sets `[hidden] { display: none; }` but bootstrap.min.css set `[hidden] { display: none !important; }` so we also need the `!important` here to be able to override the default hidden behavior on the sphinx rendered scikit-learn.org. See: https://github.com/scikit-learn/scikit-learn/issues/21755 */display: inline-block !important;position: relative;}#sk-container-id-1 div.sk-text-repr-fallback {display: none;}</style><div id=\"sk-container-id-1\" class=\"sk-top-container\"><div class=\"sk-text-repr-fallback\"><pre>KNeighborsRegressor()</pre><b>In a Jupyter environment, please rerun this cell to show the HTML representation or trust the notebook. <br />On GitHub, the HTML representation is unable to render, please try loading this page with nbviewer.org.</b></div><div class=\"sk-container\" hidden><div class=\"sk-item\"><div class=\"sk-estimator sk-toggleable\"><input class=\"sk-toggleable__control sk-hidden--visually\" id=\"sk-estimator-id-1\" type=\"checkbox\" checked><label for=\"sk-estimator-id-1\" class=\"sk-toggleable__label sk-toggleable__label-arrow\">KNeighborsRegressor</label><div class=\"sk-toggleable__content\"><pre>KNeighborsRegressor()</pre></div></div></div></div></div>"
     },
     "execution_count": 17,
     "metadata": {},
     "output_type": "execute_result"
    }
   ],
   "source": [
    "from sklearn.linear_model import Ridge, LinearRegression\n",
    "from sklearn.neighbors import KNeighborsRegressor\n",
    "\n",
    "# define model\n",
    "#model = SVR()\n",
    "#model = LinearRegression()\n",
    "model = KNeighborsRegressor()\n",
    "\n",
    "# fit model on the training dataset\n",
    "model.fit(X_train_encode, y_train)\n",
    "# make prediction on test set"
   ],
   "metadata": {
    "collapsed": false
   }
  },
  {
   "cell_type": "code",
   "execution_count": 18,
   "outputs": [],
   "source": [
    "y_pred = model.predict(X_test_encode)\n",
    "y_pred_orig = y_pred"
   ],
   "metadata": {
    "collapsed": false
   }
  },
  {
   "cell_type": "code",
   "execution_count": 19,
   "outputs": [],
   "source": [
    "# invert transforms so we can calculate errors\n",
    "y_pred = y_pred.reshape((len(y_pred), 1))\n",
    "\n",
    "\n",
    "#trans_out = MinMaxScaler()\n",
    "#trans_out.fit(y_train)\n",
    "\n",
    "#y_pred = trans_out.inverse_transform(y_pred)\n",
    "#??? y_test = trans_out.inverse_transform(y_test)\n",
    "# calculate error"
   ],
   "metadata": {
    "collapsed": false
   }
  },
  {
   "cell_type": "code",
   "execution_count": 20,
   "outputs": [
    {
     "name": "stdout",
     "output_type": "stream",
     "text": [
      "51945.6956265579\n",
      "0.5930633563104948\n"
     ]
    }
   ],
   "source": [
    "from sklearn.metrics import r2_score, mean_absolute_error, mean_squared_error\n",
    "mae_score = mean_absolute_error(y_test, y_pred)\n",
    "score = r2_score(y_test, y_pred)\n",
    "print(mae_score)\n",
    "print(score)"
   ],
   "metadata": {
    "collapsed": false
   }
  },
  {
   "cell_type": "code",
   "execution_count": 21,
   "outputs": [
    {
     "name": "stdout",
     "output_type": "stream",
     "text": [
      "[400000.] [385000.]\n"
     ]
    }
   ],
   "source": [
    "print(y_test[0], y_pred[0])\n"
   ],
   "metadata": {
    "collapsed": false
   }
  },
  {
   "cell_type": "code",
   "execution_count": 22,
   "outputs": [
    {
     "name": "stdout",
     "output_type": "stream",
     "text": [
      "Score (mean absolute error): 51945.6956265579 \n",
      "\n"
     ]
    },
    {
     "data": {
      "text/plain": "        actual  predicted   diff 1 %   diff 2 %\n0     400000.0   385000.0   3.750000   3.896104\n1     369950.0   489980.0  32.444925  24.496918\n2     350000.0   348000.0   0.571429   0.574713\n3     549000.0   530000.0   3.460838   3.584906\n4     495000.0   519000.0   4.848485   4.624277\n...        ...        ...        ...        ...\n4408  475000.0   535990.0  12.840000  11.378944\n4409  575000.0   512000.0  10.956522  12.304688\n4410  400000.0   441000.0  10.250000   9.297052\n4411  450000.0   589990.0  31.108889  23.727521\n4412  275000.0   275999.0   0.363273   0.361958\n\n[4413 rows x 4 columns]",
      "text/html": "<div>\n<style scoped>\n    .dataframe tbody tr th:only-of-type {\n        vertical-align: middle;\n    }\n\n    .dataframe tbody tr th {\n        vertical-align: top;\n    }\n\n    .dataframe thead th {\n        text-align: right;\n    }\n</style>\n<table border=\"1\" class=\"dataframe\">\n  <thead>\n    <tr style=\"text-align: right;\">\n      <th></th>\n      <th>actual</th>\n      <th>predicted</th>\n      <th>diff 1 %</th>\n      <th>diff 2 %</th>\n    </tr>\n  </thead>\n  <tbody>\n    <tr>\n      <th>0</th>\n      <td>400000.0</td>\n      <td>385000.0</td>\n      <td>3.750000</td>\n      <td>3.896104</td>\n    </tr>\n    <tr>\n      <th>1</th>\n      <td>369950.0</td>\n      <td>489980.0</td>\n      <td>32.444925</td>\n      <td>24.496918</td>\n    </tr>\n    <tr>\n      <th>2</th>\n      <td>350000.0</td>\n      <td>348000.0</td>\n      <td>0.571429</td>\n      <td>0.574713</td>\n    </tr>\n    <tr>\n      <th>3</th>\n      <td>549000.0</td>\n      <td>530000.0</td>\n      <td>3.460838</td>\n      <td>3.584906</td>\n    </tr>\n    <tr>\n      <th>4</th>\n      <td>495000.0</td>\n      <td>519000.0</td>\n      <td>4.848485</td>\n      <td>4.624277</td>\n    </tr>\n    <tr>\n      <th>...</th>\n      <td>...</td>\n      <td>...</td>\n      <td>...</td>\n      <td>...</td>\n    </tr>\n    <tr>\n      <th>4408</th>\n      <td>475000.0</td>\n      <td>535990.0</td>\n      <td>12.840000</td>\n      <td>11.378944</td>\n    </tr>\n    <tr>\n      <th>4409</th>\n      <td>575000.0</td>\n      <td>512000.0</td>\n      <td>10.956522</td>\n      <td>12.304688</td>\n    </tr>\n    <tr>\n      <th>4410</th>\n      <td>400000.0</td>\n      <td>441000.0</td>\n      <td>10.250000</td>\n      <td>9.297052</td>\n    </tr>\n    <tr>\n      <th>4411</th>\n      <td>450000.0</td>\n      <td>589990.0</td>\n      <td>31.108889</td>\n      <td>23.727521</td>\n    </tr>\n    <tr>\n      <th>4412</th>\n      <td>275000.0</td>\n      <td>275999.0</td>\n      <td>0.363273</td>\n      <td>0.361958</td>\n    </tr>\n  </tbody>\n</table>\n<p>4413 rows × 4 columns</p>\n</div>"
     },
     "execution_count": 22,
     "metadata": {},
     "output_type": "execute_result"
    }
   ],
   "source": [
    "import numpy as np\n",
    "\n",
    "print(\"Score (mean absolute error):\", mean_absolute_error(y_test, y_pred), \"\\n\")\n",
    "compare_np = np.hstack((y_test, y_pred))\n",
    "compare_df = pd.DataFrame(compare_np, columns=['actual', 'predicted'])\n",
    "compare_df['diff 1 %'] = abs((compare_df['actual'] - compare_df['predicted']) / compare_df['actual'] * 100)\n",
    "compare_df['diff 2 %'] = abs((compare_df['actual'] - compare_df['predicted']) / compare_df['predicted']) * 100\n",
    "\n",
    "compare_df"
   ],
   "metadata": {
    "collapsed": false
   }
  },
  {
   "cell_type": "code",
   "execution_count": 23,
   "outputs": [
    {
     "data": {
      "text/plain": "<Figure size 432x288 with 1 Axes>",
      "image/png": "[encoded data removed]"
     },
     "metadata": {
      "needs_background": "light"
     },
     "output_type": "display_data"
    }
   ],
   "source": [
    "import matplotlib.pyplot as plt\n",
    "best_model_fig, best_model_ax = plt.subplots()\n",
    "best_model_ax.scatter(y_test, y_pred, edgecolors=(0, 0, 1))\n",
    "best_model_ax.plot([y_test.min(), y_test.max()], [y_test.min(), y_test.max()], 'r--', lw=3)\n",
    "best_model_ax.set_ylabel('Predicted')\n",
    "best_model_ax.set_xlabel('Actual')\n",
    "#ax.title.set_text(f'CV Chosen best option ({calculated_best_pipe[1]})')\n",
    "\n",
    "plt.show()"
   ],
   "metadata": {
    "collapsed": false
   }
  },
  {
   "cell_type": "code",
   "execution_count": null,
   "outputs": [],
   "source": [],
   "metadata": {
    "collapsed": false
   }
  },
  {
   "cell_type": "code",
   "execution_count": null,
   "outputs": [],
   "source": [],
   "metadata": {
    "collapsed": false
   }
  }
 ],
 "metadata": {
  "kernelspec": {
   "display_name": "Python 3",
   "language": "python",
   "name": "python3"
  },
  "language_info": {
   "codemirror_mode": {
    "name": "ipython",
    "version": 2
   },
   "file_extension": ".py",
   "mimetype": "text/x-python",
   "name": "python",
   "nbconvert_exporter": "python",
   "pygments_lexer": "ipython2",
   "version": "2.7.6"
  }
 },
 "nbformat": 4,
 "nbformat_minor": 0
}
