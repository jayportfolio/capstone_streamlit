{
 "cells": [
  {
   "cell_type": "code",
   "execution_count": 49,
   "metadata": {
    "execution": {
     "iopub.execute_input": "2022-11-29T20:53:43.551410Z",
     "iopub.status.busy": "2022-11-29T20:53:43.550924Z",
     "iopub.status.idle": "2022-11-29T20:53:43.557963Z",
     "shell.execute_reply": "2022-11-29T20:53:43.556883Z",
     "shell.execute_reply.started": "2022-11-29T20:53:43.551374Z"
    }
   },
   "outputs": [],
   "source": [
    "#ALGORITHM = 'Neural Network'\n",
    "ALGORITHM = 'Neural Network [TYPE]'\n",
    "ALGORITHM_DETAIL = ''\n",
    "ALGORITHM_DETAIL_ORIG = ALGORITHM_DETAIL\n",
    "#ALGORITHM_DETAIL += ' tbc'\n",
    "DATA_DETAIL = []\n",
    "#DATA_DETAIL = ['no scale','no dummies']\n",
    "VERSION = '09'\n",
    "\n",
    "RANDOM_STATE = 101\n",
    "TRAINING_SIZE = 0.9\n",
    "\n",
    "CROSS_VALIDATION_SCORING = 'r2'\n",
    "\n",
    "#selected_neural_network='simplest'\n",
    "#selected_neural_network='quite simple'\n",
    "#selected_neural_network='recommended simple v2'\n",
    "#selected_neural_network='adapted v3'\n",
    "\n",
    "\n",
    "# ---- FIRST NEURAL NETWORK STRUCTURE DEFINITION ---- # \n",
    "#selected_neural_network = 'recommended simple v1'\n",
    "#selected_nn_code = 'm01 simple'\n",
    "\n",
    "# ---- 2nd NEURAL NETWORK STRUCTURE DEFINITION ---- # \n",
    "selected_neural_network = selected_nn_code = \"m02 two layers\"\n",
    "\n",
    "\n",
    "# ---- 3rd NEURAL NETWORK STRUCTURE DEFINITION ---- # \n",
    "#selected_neural_network = selected_nn_code = \"m03 2 layers+wider\"\n",
    "\n",
    "\n",
    "# ---- 4th NEURAL NETWORK STRUCTURE DEFINITION ---- # \n",
    "#selected_neural_network = selected_nn_code = \"m04 3 layers+wider\"\n",
    "\n",
    "# ---- 5th NEURAL NETWORK STRUCTURE DEFINITION ---- # \n",
    "#selected_neural_network = selected_nn_code = \"m05 rec deep\"\n",
    "\n",
    "# ---- 6th NEURAL NETWORK STRUCTURE DEFINITION ---- # \n",
    "#selected_neural_network = selected_nn_code = \"m05 my deep\"\n",
    "\n",
    "#selected_neural_network = selected_nn_code = \"\"\n",
    "\n",
    "# ---- 7th NEURAL NETWORK STRUCTURE DEFINITION ---- #\n",
    "#selected_neural_network = selected_nn_code = \"m11 mega\"\n",
    "\n",
    "# ---- 8th NEURAL NETWORK STRUCTURE DEFINITION ---- #\n",
    "#selected_neural_network = selected_nn_code = \"m12 mega\"\n",
    "\n",
    "\n",
    "ALGORITHM = ALGORITHM.replace(\"[TYPE]\", selected_nn_code)"
   ]
  },
  {
   "cell_type": "code",
   "execution_count": 50,
   "metadata": {
    "execution": {
     "iopub.execute_input": "2022-11-29T20:53:43.573205Z",
     "iopub.status.busy": "2022-11-29T20:53:43.571882Z",
     "iopub.status.idle": "2022-11-29T20:53:43.577259Z",
     "shell.execute_reply": "2022-11-29T20:53:43.576107Z",
     "shell.execute_reply.started": "2022-11-29T20:53:43.573150Z"
    }
   },
   "outputs": [],
   "source": [
    "#! pip install scikeras\n",
    "#! pip install catboost"
   ]
  },
  {
   "cell_type": "code",
   "execution_count": 51,
   "metadata": {
    "execution": {
     "iopub.execute_input": "2022-11-29T20:53:43.817630Z",
     "iopub.status.busy": "2022-11-29T20:53:43.817228Z",
     "iopub.status.idle": "2022-11-29T20:53:43.844296Z",
     "shell.execute_reply": "2022-11-29T20:53:43.843290Z",
     "shell.execute_reply.started": "2022-11-29T20:53:43.817600Z"
    }
   },
   "outputs": [
    {
     "name": "stdout",
     "output_type": "stream",
     "text": [
      "Tensorflow version: 2.9.1\n"
     ]
    }
   ],
   "source": [
    "from sklearn.pipeline import Pipeline\n",
    "from sklearn.preprocessing import MinMaxScaler, StandardScaler\n",
    "#from scikeras.wrappers import KerasClassifier, KerasRegressor\n",
    "\n",
    "import tensorflow as tf\n",
    "from keras import layers\n",
    "from tensorflow import keras\n",
    "from keras.models import Sequential\n",
    "from keras.layers import Dense\n",
    "\n",
    "print(\"Tensorflow version:\", tf.__version__)\n",
    "\n",
    "loss_dict = {\"mean_squared_error\":'mse'}\n",
    "\n",
    "def make_simple_ann(key, inputs=-1):\n",
    "    if False:\n",
    "        pass\n",
    "    elif key == 'quite simple':\n",
    "\n",
    "        new_algorithm_detail = ALGORITHM_DETAIL_ORIG + 'quite simple model + normalise, mse'\n",
    "\n",
    "        learn_rate = 0.1\n",
    "        epochs, chosen_loss = 100, 'mean_squared_error'\n",
    "        \n",
    "        normalizer = tf.keras.layers.Normalization(axis=-1)\n",
    "        normalizer.adapt(np.array(X_train))\n",
    "\n",
    "        chosen_model = tf.keras.Sequential([\n",
    "            layers.Dense(X_train.shape[1], input_shape=(X_train.shape[1],), activation='relu'),\n",
    "            normalizer,\n",
    "            layers.Dense(units=1)\n",
    "        ])\n",
    "\n",
    "    elif key == 'recommended simple v1':\n",
    "\n",
    "        learn_rate = 0.003 #0.3\n",
    "        epochs, chosen_loss = 50, 'mean_squared_error'\n",
    "        \n",
    "        new_algorithm_detail = ALGORITHM_DETAIL_ORIG + 'recommended simple model/mse'\n",
    "\n",
    "        normalizer = tf.keras.layers.Normalization(axis=-1)\n",
    "        normalizer.adapt(np.array(X_train))\n",
    "\n",
    "        chosen_model = tf.keras.Sequential([\n",
    "            layers.Dense(X_train.shape[1], input_shape=(X_train.shape[1],), activation='relu'),\n",
    "            normalizer,\n",
    "            layers.Dense(units=1)\n",
    "        ])\n",
    "\n",
    "    elif key == 'm02 two layers':\n",
    "\n",
    "        learn_rate = 0.003 #0.3\n",
    "        epochs, chosen_loss = 500, 'mean_squared_error'\n",
    "\n",
    "        normalizer = tf.keras.layers.Normalization(axis=-1)\n",
    "        normalizer.adapt(np.array(X_train))\n",
    "\n",
    "        chosen_model = tf.keras.Sequential([\n",
    "            layers.Dense(X_train.shape[1], input_shape=(X_train.shape[1],), activation='relu'),\n",
    "            normalizer,\n",
    "            layers.Dense(X_train.shape[1], activation='relu'),\n",
    "            layers.Dense(units=1)\n",
    "        ])\n",
    "\n",
    "        \n",
    "    elif key == 'm03 2 layers+wider':\n",
    "\n",
    "        learn_rate = 0.0003 # 0.003 #0.3\n",
    "        epochs, chosen_loss = 500, 'mean_squared_error'\n",
    "        \n",
    "        normalizer = tf.keras.layers.Normalization(axis=-1)\n",
    "        normalizer.adapt(np.array(X_train))\n",
    "\n",
    "        chosen_model = tf.keras.Sequential([\n",
    "            layers.Dense(X_train.shape[1], input_shape=(X_train.shape[1],), activation='relu'),\n",
    "            normalizer,\n",
    "            layers.Dense(30, activation='relu'),\n",
    "            layers.Dense(units=1)\n",
    "        ])\n",
    "\n",
    "    elif key == 'm04 3 layers+wider':\n",
    "\n",
    "        learn_rate = 0.003\n",
    "        epochs, chosen_loss = 500, 'mean_squared_error'\n",
    "\n",
    "        normalizer = tf.keras.layers.Normalization(axis=-1)\n",
    "        normalizer.adapt(np.array(X_train))\n",
    "\n",
    "        chosen_model = tf.keras.Sequential([\n",
    "            layers.Dense(X_train.shape[1], input_shape=(X_train.shape[1],), activation='relu'),\n",
    "            normalizer,\n",
    "            layers.Dense(30, activation='relu'),\n",
    "            layers.Dense(40, activation='relu'),\n",
    "            layers.Dense(units=1)\n",
    "        ])\n",
    "\n",
    "    elif key == 'm0x four layers,wider,batchnorm':\n",
    "\n",
    "        learn_rate = 0.0003 #0.3\n",
    "        epochs, chosen_loss = 500, 'mean_squared_error'\n",
    "        \n",
    "        #from layers.normalization import BatchNormalization\n",
    "        \n",
    "        normalizer = tf.keras.layers.Normalization(axis=-1)\n",
    "        batchnorm = layers.BatchNormalization()\n",
    "        activation = layers.Activation('relu')\n",
    "        \n",
    "        normalizer.adapt(np.array(X_train))\n",
    "        #new_algorithm_detail += ' +norm'\n",
    "\n",
    "        chosen_model = tf.keras.Sequential([\n",
    "            layers.Dense(X_train.shape[1], input_shape=(X_train.shape[1],), activation='relu'),\n",
    "            #normalizer,\n",
    "            layers.Dense(30, activation='relu'),\n",
    "            batchnorm,\n",
    "            activation,\n",
    "            layers.Dense(40, activation='relu'),\n",
    "            layers.Dense(30, activation='relu'),\n",
    "            layers.Dense(units=1)\n",
    "        ])\n",
    "\n",
    "    elif key == 'm05 rec deep':\n",
    "        chosen_model = Sequential()\n",
    "\n",
    "        # The Input Layer :\n",
    "        chosen_model.add(Dense(128, kernel_initializer='normal',input_dim = X_train.shape[1], activation='relu'))\n",
    "\n",
    "        # The Hidden Layers :\n",
    "        chosen_model.add(Dense(256, kernel_initializer='normal',activation='relu'))\n",
    "        chosen_model.add(Dense(256, kernel_initializer='normal',activation='relu'))\n",
    "        chosen_model.add(Dense(256, kernel_initializer='normal',activation='relu'))\n",
    "\n",
    "        # The Output Layer :\n",
    "        chosen_model.add(Dense(1, kernel_initializer='normal',activation='linear'))\n",
    "\n",
    "        # Compile the network :\n",
    "        #chosen_model.compile(loss='mean_squared_error', optimizer='adam', metrics=['mean_squared_error'])\n",
    "\n",
    "        learn_rate = 0.0003 #0.3\n",
    "        epochs, chosen_loss = 500, 'mean_squared_error'\n",
    "\n",
    "    elif key == 'm11 mega':\n",
    "        chosen_model = Sequential()\n",
    "\n",
    "        # The Input Layer :\n",
    "        chosen_model.add(Dense(128, kernel_initializer='normal',input_dim = X_train.shape[1], activation='relu'))\n",
    "\n",
    "        # The Hidden Layers :\n",
    "        chosen_model.add(Dense(256, kernel_initializer='normal',activation='relu'))\n",
    "        chosen_model.add(Dense(512, kernel_initializer='normal',activation='relu'))\n",
    "        chosen_model.add(Dense(1024, kernel_initializer='normal',activation='relu'))\n",
    "        chosen_model.add(Dense(2148, kernel_initializer='normal',activation='relu'))\n",
    "        chosen_model.add(Dense(2148, kernel_initializer='normal',activation='relu'))\n",
    "        chosen_model.add(Dense(1024, kernel_initializer='normal',activation='relu'))\n",
    "        chosen_model.add(Dense(512, kernel_initializer='normal',activation='relu'))\n",
    "        chosen_model.add(Dense(256, kernel_initializer='normal',activation='relu'))\n",
    "\n",
    "        # The Output Layer :\n",
    "        chosen_model.add(Dense(1, kernel_initializer='normal',activation='linear'))\n",
    "\n",
    "        # Compile the network :\n",
    "        #chosen_model.compile(loss='mean_squared_error', optimizer='adam', metrics=['mean_squared_error'])\n",
    "\n",
    "        learn_rate = 0.0003\n",
    "        epochs, chosen_loss = 400, 'mean_squared_error'\n",
    "\n",
    "    elif key == 'm12 mega':\n",
    "        chosen_model = Sequential()\n",
    "\n",
    "        # The Input Layer :\n",
    "        chosen_model.add(Dense(128, kernel_initializer='normal',input_dim = X_train.shape[1], activation='relu'))\n",
    "\n",
    "        # The Hidden Layers :\n",
    "        chosen_model.add(Dense(256, kernel_initializer='normal',activation='relu'))\n",
    "        chosen_model.add(Dense(512, kernel_initializer='normal',activation='relu'))\n",
    "        chosen_model.add(Dense(1024, kernel_initializer='normal',activation='relu'))\n",
    "        chosen_model.add(Dense(1024, kernel_initializer='normal',activation='relu'))\n",
    "        chosen_model.add(Dense(512, kernel_initializer='normal',activation='relu'))\n",
    "        chosen_model.add(Dense(256, kernel_initializer='normal',activation='relu'))\n",
    "\n",
    "        # The Output Layer :\n",
    "        chosen_model.add(Dense(1, kernel_initializer='normal',activation='linear'))\n",
    "\n",
    "        # Compile the network :\n",
    "        #chosen_model.compile(loss='mean_squared_error', optimizer='adam', metrics=['mean_squared_error'])\n",
    "\n",
    "        learn_rate = 0.0003\n",
    "        epochs, chosen_loss = 400, 'mean_squared_error'\n",
    "\n",
    "    else:\n",
    "        raise ValueError(\"make_simple_ann: no entry for key:\", key)\n",
    "\n",
    "    if run_env == 'local':\n",
    "        epochs = 5\n",
    "\n",
    "    chosen_model.compile(\n",
    "        optimizer=tf.keras.optimizers.Adam(learning_rate=learn_rate),\n",
    "        loss=chosen_loss)\n",
    "\n",
    "\n",
    "    new_algorithm_detail = ALGORITHM_DETAIL_ORIG + loss_dict[chosen_loss]\n",
    "    new_algorithm_detail += f' +epochs={epochs}'\n",
    "    new_algorithm_detail += f' +learn={learn_rate}'\n",
    "    \n",
    "    return chosen_model, new_algorithm_detail, epochs, {'learning_rate':learn_rate}\n",
    "\n",
    "#make_simple_ann('m04 four layers,wider,batchnorm')"
   ]
  },
  {
   "cell_type": "code",
   "execution_count": 52,
   "metadata": {
    "execution": {
     "iopub.execute_input": "2022-11-29T20:53:43.847447Z",
     "iopub.status.busy": "2022-11-29T20:53:43.846239Z",
     "iopub.status.idle": "2022-11-29T20:53:43.900349Z",
     "shell.execute_reply": "2022-11-29T20:53:43.899150Z",
     "shell.execute_reply.started": "2022-11-29T20:53:43.847409Z"
    }
   },
   "outputs": [
    {
     "name": "stdout",
     "output_type": "stream",
     "text": [
      "{'notebook_environment': 'gradient', 'use_gpu': True, 'debug_mode': False, 'quick_mode': False, 'quick_override_cv_splits': 2, 'quick_override_n_iter': 10, 'quick_override_n_jobs': 3}\n"
     ]
    }
   ],
   "source": [
    "from sklearn.impute import SimpleImputer\n",
    "import pandas as pd\n",
    "from sklearn.model_selection import train_test_split, RandomizedSearchCV, GridSearchCV\n",
    "import numpy as np\n",
    "from pandas import DataFrame\n",
    "import math\n",
    "from termcolor import colored\n",
    "from time import time\n",
    "import sklearn\n",
    "from sklearn.metrics import r2_score, mean_absolute_error, mean_squared_error\n",
    "from sklearn.metrics import r2_score\n",
    "import seaborn as sns\n",
    "import pickle\n",
    "\n",
    "import json\n",
    "from datetime import datetime\n",
    "import matplotlib.pyplot as plt\n",
    "\n",
    "with open('../../z_envs/_envs.json') as f:\n",
    "    env_vars = json.loads(f.read())\n",
    "print(env_vars)\n",
    "\n",
    "try:\n",
    "    import google.colab\n",
    "\n",
    "    run_env = 'colab'\n",
    "except:\n",
    "    try:\n",
    "        run_env = env_vars['notebook_environment']\n",
    "    except:\n",
    "        run_env = 'unknown'\n",
    "\n",
    "use_gpu = env_vars.get('use_gpu', False)\n",
    "debug_mode = env_vars.get('debug_mode', False)\n",
    "quick_mode = env_vars.get('quick_mode', False)\n",
    "\n",
    "no_dummies = 'no dummies' in DATA_DETAIL\n",
    "no_scaling = 'no scaling' in DATA_DETAIL\n",
    "not_catboost = True\n",
    "\n",
    "if run_env not in ['colab', 'gradient', 'cloud']:\n",
    "    cloud_run = False\n",
    "    from functions_0__common_20221116 import get_columns\n",
    "    from functions_b__get_the_data_20221116 import set_csv_directory, get_combined_dataset\n",
    "    from functions_d1__prepare_cleanse_data_20221116 import tidy_dataset\n",
    "    from functions_d2__transform_enrich_data_20221116 import preprocess, feature_engineer\n",
    "    from functions_d3__prepare_store_data_20221116 import create_train_test_data\n",
    "    from functions_e__train_model_20221116 import get_chosen_model, make_modelling_pipeline, get_cv_params, fit_model_with_cross_validation, get_hyperparameters\n",
    "    from functions_f_evaluate_model_20221116 import get_best_estimator_average_time, get_results, update_results\n",
    "\n",
    "    set_csv_directory('final_split')\n",
    "\n",
    "    quick_mode = True\n",
    "else:\n",
    "    cloud_run = True\n",
    "    import sys\n",
    "    import os\n",
    "\n",
    "    module_path = os.path.abspath(os.path.join('..', '..', '..'))\n",
    "    if module_path not in sys.path:\n",
    "        #sys.path.append(module_path+\"\\\\zfunctions\")\n",
    "        sys.path.append(module_path)\n",
    "\n",
    "    from functions_0__common_20221116 import get_columns\n",
    "    from functions_b__get_the_data_20221116 import set_csv_directory, get_combined_dataset\n",
    "    from functions_d1__prepare_cleanse_data_20221116 import tidy_dataset\n",
    "    from functions_d2__transform_enrich_data_20221116 import preprocess, feature_engineer\n",
    "    from functions_d3__prepare_store_data_20221116 import create_train_test_data\n",
    "    from functions_e__train_model_20221116 import get_chosen_model, make_modelling_pipeline, get_cv_params, fit_model_with_cross_validation, get_hyperparameters\n",
    "    from functions_f_evaluate_model_20221116 import get_best_estimator_average_time, get_results, update_results\n"
   ]
  },
  {
   "cell_type": "code",
   "execution_count": 53,
   "metadata": {
    "execution": {
     "iopub.execute_input": "2022-11-29T20:53:43.902541Z",
     "iopub.status.busy": "2022-11-29T20:53:43.902207Z",
     "iopub.status.idle": "2022-11-29T20:53:43.908673Z",
     "shell.execute_reply": "2022-11-29T20:53:43.907541Z",
     "shell.execute_reply.started": "2022-11-29T20:53:43.902514Z"
    }
   },
   "outputs": [
    {
     "name": "stdout",
     "output_type": "stream",
     "text": [
      "\u001B[34mfeatures\u001B[0m ->  ['bedrooms', 'bathrooms', 'nearestStation', 'location.latitude', 'location.longitude', 'latitude_deviation', 'longitude_deviation', 'tenure.tenureType']\n",
      "\u001B[1m\u001B[32mlabel\u001B[0m ->  Price\n"
     ]
    }
   ],
   "source": [
    "#cutdown_rows = 1000\n",
    "cutdown_rows = 0\n",
    "\n",
    "LABEL = 'Price'\n",
    "\n",
    "columns, booleans, floats, categories, custom, wildcard = get_columns(version=VERSION)\n",
    "\n",
    "print(colored(f\"features\", \"blue\"), \"-> \", columns)\n",
    "columns.insert(0, LABEL)\n",
    "print(colored(f\"label\", \"green\", None, ['bold']), \"-> \", LABEL)"
   ]
  },
  {
   "cell_type": "code",
   "execution_count": 54,
   "metadata": {
    "execution": {
     "iopub.execute_input": "2022-11-29T20:53:43.911246Z",
     "iopub.status.busy": "2022-11-29T20:53:43.910286Z",
     "iopub.status.idle": "2022-11-29T20:53:43.918199Z",
     "shell.execute_reply": "2022-11-29T20:53:43.917030Z",
     "shell.execute_reply.started": "2022-11-29T20:53:43.911200Z"
    }
   },
   "outputs": [],
   "source": [
    "def get_source_dataframe(rows=cutdown_rows, folder_prefix='../../../'):\n",
    "    retrieval_type = None\n",
    "\n",
    "    filename = f'df_listings_v{VERSION}.csv'\n",
    "    remote_pathname = f'https://raw.githubusercontent.com/jayportfolio/capstone_streamlit/main/data/final/{filename}'\n",
    "    df_pathname_raw = folder_prefix + f'data/source/{filename}'\n",
    "    df_pathname_tidy = folder_prefix + f'data/final/{filename}'\n",
    "\n",
    "    if cloud_run:\n",
    "        inDF = pd.read_csv(remote_pathname, on_bad_lines='error', index_col=0)\n",
    "        retrieval_type = 'tidy'\n",
    "        print('loaded data from', folder_prefix + remote_pathname)\n",
    "    else:\n",
    "        inDF = pd.read_csv(df_pathname_tidy, on_bad_lines='error', index_col=0)\n",
    "        retrieval_type = 'tidy'\n",
    "        print('loaded data from', df_pathname_tidy)\n",
    "\n",
    "    if rows and rows > 0:\n",
    "        inDF = inDF[:rows]\n",
    "    return inDF, retrieval_type"
   ]
  },
  {
   "cell_type": "code",
   "execution_count": 55,
   "metadata": {
    "execution": {
     "iopub.execute_input": "2022-11-29T20:53:43.921702Z",
     "iopub.status.busy": "2022-11-29T20:53:43.921217Z",
     "iopub.status.idle": "2022-11-29T20:53:45.085080Z",
     "shell.execute_reply": "2022-11-29T20:53:45.084110Z",
     "shell.execute_reply.started": "2022-11-29T20:53:43.921642Z"
    }
   },
   "outputs": [
    {
     "name": "stdout",
     "output_type": "stream",
     "text": [
      "loaded data from ../../../https://raw.githubusercontent.com/jayportfolio/capstone_streamlit/main/data/final/df_listings_v09.csv\n",
      "(46871, 19)\n"
     ]
    }
   ],
   "source": [
    "df, retrieval_type = get_source_dataframe(folder_prefix='../../../')\n",
    "df_orig = df.copy()\n",
    "\n",
    "if retrieval_type != 'tidy':\n",
    "    df = tidy_dataset(df, version=int(VERSION))\n",
    "    df = feature_engineer(df, version=int(VERSION))\n",
    "\n",
    "    df = df[columns]\n",
    "\n",
    "print(df.shape)"
   ]
  },
  {
   "cell_type": "code",
   "execution_count": 56,
   "metadata": {
    "execution": {
     "iopub.execute_input": "2022-11-29T20:53:45.086895Z",
     "iopub.status.busy": "2022-11-29T20:53:45.086542Z",
     "iopub.status.idle": "2022-11-29T20:53:45.115765Z",
     "shell.execute_reply": "2022-11-29T20:53:45.114760Z",
     "shell.execute_reply.started": "2022-11-29T20:53:45.086867Z"
    }
   },
   "outputs": [
    {
     "data": {
      "text/plain": "            Price  bedrooms  bathrooms  nearestStation  location.latitude  \\\n14520525  550.000       3.0        1.0        0.274316          51.529950   \n27953107  400.000       2.0        2.0        0.305845          51.549390   \n33593487  579.950       2.0        1.0        0.438045          51.447180   \n35271294  370.000       2.0        1.0        0.399307          51.449568   \n35429088  599.950       2.0        1.0        0.238187          51.577030   \n44749111  475.000       2.0        1.0        0.410550          51.370050   \n46204665  435.000       3.0        2.0        0.314779          51.539070   \n49020666  200.000       1.0        1.0        0.875911          51.539959   \n49036279  275.000       2.0        1.0        0.474368          51.541780   \n49303873  450.000       3.0        2.0        0.577040          51.524880   \n52064391  349.950       2.0        2.0        0.212734          51.470800   \n52187854  450.000       1.0        1.0        0.446802          51.527199   \n52675628  490.000       2.0        2.0        0.215040          51.501114   \n52845963  200.000       2.0        1.0        0.650562          51.398040   \n52913496  220.000       1.0        1.0        0.945991          51.539383   \n53609433  489.995       1.0        1.0        0.087081          51.532620   \n53649578  284.950       1.0        1.0        0.806597          51.479890   \n53938989  450.000       2.0        1.0        0.775203          51.658287   \n54713232  332.000       2.0        1.0        0.319226          51.612300   \n54904122  365.000       2.0        1.0        0.260722          51.593595   \n54991934  430.000       3.0        1.0        0.497268          51.528720   \n55043230  260.000       1.0        1.0        0.384607          51.544430   \n55187658  430.000       2.0        2.0        0.289033          51.507570   \n55531367  599.950       2.0        1.0        0.406725          51.467410   \n55768232  550.000       2.0        1.0        0.478349          51.472890   \n55805965  280.000       2.0        1.0        0.742859          51.520910   \n55839051  599.950       2.0        1.0        0.259168          51.579186   \n55940994  385.000       2.0        2.0        0.403987          51.376930   \n56449305  380.000       2.0        1.0        0.310271          51.600483   \n57221413  475.000       3.0        2.0        0.409784          51.497260   \n\n          location.longitude  latitude_deviation  longitude_deviation  \\\n14520525           -0.207020            0.030230             0.102600   \n27953107           -0.482600            0.049670             0.378180   \n33593487           -0.338770            0.052540             0.234350   \n35271294           -0.140154            0.050152             0.035734   \n35429088           -0.141230            0.077310             0.036810   \n44749111           -0.212410            0.129670             0.107990   \n46204665           -0.198935            0.039350             0.094515   \n49020666           -0.380863            0.040239             0.276443   \n49036279            0.037890            0.042060             0.142310   \n49303873            0.187200            0.025160             0.291620   \n52064391           -0.361820            0.028920             0.257400   \n52187854           -0.202898            0.027479             0.098478   \n52675628            0.026315            0.001394             0.130735   \n52845963           -0.076812            0.101680             0.027608   \n52913496           -0.382239            0.039663             0.277819   \n53609433           -0.107860            0.032900             0.003440   \n53649578           -0.078500            0.019830             0.025920   \n53938989           -0.207902            0.158567             0.103482   \n54713232           -0.119860            0.112580             0.015440   \n54904122            0.022046            0.093875             0.126466   \n54991934            0.039180            0.029000             0.143600   \n55043230            0.014500            0.044710             0.118920   \n55187658            0.078030            0.007850             0.182450   \n55531367           -0.079170            0.032310             0.025250   \n55768232           -0.078940            0.026830             0.025480   \n55805965            0.022680            0.021190             0.127100   \n55839051           -0.209020            0.079466             0.104600   \n55940994           -0.238870            0.122790             0.134450   \n56449305           -0.062096            0.100763             0.042324   \n57221413           -0.422530            0.002460             0.318110   \n\n          tenure.tenureType  feature__balcony  feature__chain free  \\\n14520525          LEASEHOLD                 0                    0   \n27953107          LEASEHOLD                 1                    0   \n33593487           FREEHOLD                 0                    0   \n35271294          LEASEHOLD                 1                    0   \n35429088                NaN                 0                    0   \n44749111           FREEHOLD                 0                    0   \n46204665          LEASEHOLD                 0                    0   \n49020666          LEASEHOLD                 0                    0   \n49036279          LEASEHOLD                 0                    0   \n49303873           FREEHOLD                 0                    0   \n52064391          LEASEHOLD                 0                    0   \n52187854          LEASEHOLD                 0                    0   \n52675628                NaN                 0                    0   \n52845963          LEASEHOLD                 0                    0   \n52913496          LEASEHOLD                 0                    1   \n53609433          LEASEHOLD                 0                    0   \n53649578                NaN                 0                    0   \n53938989           FREEHOLD                 0                    0   \n54713232  SHARE_OF_FREEHOLD                 0                    0   \n54904122  SHARE_OF_FREEHOLD                 0                    0   \n54991934           FREEHOLD                 0                    0   \n55043230          LEASEHOLD                 0                    0   \n55187658          LEASEHOLD                 0                    0   \n55531367                NaN                 1                    0   \n55768232                NaN                 0                    0   \n55805965          LEASEHOLD                 0                    0   \n55839051          LEASEHOLD                 0                    0   \n55940994          LEASEHOLD                 0                    0   \n56449305           FREEHOLD                 0                    0   \n57221413           FREEHOLD                 0                    0   \n\n          feature__no onward chain  feature__off street parking  \\\n14520525                         0                            0   \n27953107                         0                            0   \n33593487                         1                            0   \n35271294                         0                            0   \n35429088                         0                            0   \n44749111                         0                            0   \n46204665                         0                            0   \n49020666                         0                            0   \n49036279                         0                            0   \n49303873                         0                            0   \n52064391                         0                            0   \n52187854                         0                            0   \n52675628                         0                            0   \n52845963                         0                            0   \n52913496                         0                            0   \n53609433                         0                            0   \n53649578                         0                            0   \n53938989                         0                            0   \n54713232                         0                            0   \n54904122                         0                            0   \n54991934                         0                            0   \n55043230                         0                            0   \n55187658                         0                            0   \n55531367                         0                            0   \n55768232                         0                            0   \n55805965                         0                            0   \n55839051                         0                            0   \n55940994                         0                            0   \n56449305                         0                            0   \n57221413                         0                            0   \n\n          feature__one bedroom  feature__private balcony  \\\n14520525                     0                         1   \n27953107                     0                         0   \n33593487                     0                         0   \n35271294                     0                         0   \n35429088                     0                         0   \n44749111                     0                         0   \n46204665                     0                         0   \n49020666                     1                         0   \n49036279                     0                         0   \n49303873                     0                         0   \n52064391                     0                         1   \n52187854                     0                         0   \n52675628                     0                         0   \n52845963                     0                         0   \n52913496                     0                         0   \n53609433                     0                         0   \n53649578                     0                         0   \n53938989                     0                         0   \n54713232                     0                         0   \n54904122                     0                         0   \n54991934                     0                         0   \n55043230                     0                         0   \n55187658                     0                         0   \n55531367                     0                         0   \n55768232                     0                         0   \n55805965                     0                         0   \n55839051                     0                         0   \n55940994                     0                         0   \n56449305                     0                         0   \n57221413                     0                         0   \n\n          feature__share of freehold  feature__three bedrooms  \\\n14520525                           0                        0   \n27953107                           0                        0   \n33593487                           0                        0   \n35271294                           0                        0   \n35429088                           0                        0   \n44749111                           0                        0   \n46204665                           0                        1   \n49020666                           0                        0   \n49036279                           0                        0   \n49303873                           0                        0   \n52064391                           0                        0   \n52187854                           0                        0   \n52675628                           0                        0   \n52845963                           0                        0   \n52913496                           0                        0   \n53609433                           0                        0   \n53649578                           0                        0   \n53938989                           0                        0   \n54713232                           0                        0   \n54904122                           1                        0   \n54991934                           0                        0   \n55043230                           0                        0   \n55187658                           0                        0   \n55531367                           0                        0   \n55768232                           0                        0   \n55805965                           0                        0   \n55839051                           0                        0   \n55940994                           0                        0   \n56449305                           0                        0   \n57221413                           0                        1   \n\n          feature__two bedrooms  feature__two double bedrooms  \n14520525                      0                             0  \n27953107                      0                             1  \n33593487                      0                             0  \n35271294                      0                             0  \n35429088                      0                             0  \n44749111                      0                             0  \n46204665                      0                             0  \n49020666                      0                             0  \n49036279                      0                             0  \n49303873                      0                             0  \n52064391                      1                             0  \n52187854                      0                             0  \n52675628                      0                             0  \n52845963                      0                             0  \n52913496                      0                             0  \n53609433                      0                             0  \n53649578                      0                             0  \n53938989                      0                             0  \n54713232                      0                             0  \n54904122                      0                             0  \n54991934                      0                             0  \n55043230                      0                             0  \n55187658                      0                             0  \n55531367                      0                             1  \n55768232                      0                             0  \n55805965                      0                             0  \n55839051                      0                             0  \n55940994                      1                             0  \n56449305                      1                             0  \n57221413                      0                             0  ",
      "text/html": "<div>\n<style scoped>\n    .dataframe tbody tr th:only-of-type {\n        vertical-align: middle;\n    }\n\n    .dataframe tbody tr th {\n        vertical-align: top;\n    }\n\n    .dataframe thead th {\n        text-align: right;\n    }\n</style>\n<table border=\"1\" class=\"dataframe\">\n  <thead>\n    <tr style=\"text-align: right;\">\n      <th></th>\n      <th>Price</th>\n      <th>bedrooms</th>\n      <th>bathrooms</th>\n      <th>nearestStation</th>\n      <th>location.latitude</th>\n      <th>location.longitude</th>\n      <th>latitude_deviation</th>\n      <th>longitude_deviation</th>\n      <th>tenure.tenureType</th>\n      <th>feature__balcony</th>\n      <th>feature__chain free</th>\n      <th>feature__no onward chain</th>\n      <th>feature__off street parking</th>\n      <th>feature__one bedroom</th>\n      <th>feature__private balcony</th>\n      <th>feature__share of freehold</th>\n      <th>feature__three bedrooms</th>\n      <th>feature__two bedrooms</th>\n      <th>feature__two double bedrooms</th>\n    </tr>\n  </thead>\n  <tbody>\n    <tr>\n      <th>14520525</th>\n      <td>550.000</td>\n      <td>3.0</td>\n      <td>1.0</td>\n      <td>0.274316</td>\n      <td>51.529950</td>\n      <td>-0.207020</td>\n      <td>0.030230</td>\n      <td>0.102600</td>\n      <td>LEASEHOLD</td>\n      <td>0</td>\n      <td>0</td>\n      <td>0</td>\n      <td>0</td>\n      <td>0</td>\n      <td>1</td>\n      <td>0</td>\n      <td>0</td>\n      <td>0</td>\n      <td>0</td>\n    </tr>\n    <tr>\n      <th>27953107</th>\n      <td>400.000</td>\n      <td>2.0</td>\n      <td>2.0</td>\n      <td>0.305845</td>\n      <td>51.549390</td>\n      <td>-0.482600</td>\n      <td>0.049670</td>\n      <td>0.378180</td>\n      <td>LEASEHOLD</td>\n      <td>1</td>\n      <td>0</td>\n      <td>0</td>\n      <td>0</td>\n      <td>0</td>\n      <td>0</td>\n      <td>0</td>\n      <td>0</td>\n      <td>0</td>\n      <td>1</td>\n    </tr>\n    <tr>\n      <th>33593487</th>\n      <td>579.950</td>\n      <td>2.0</td>\n      <td>1.0</td>\n      <td>0.438045</td>\n      <td>51.447180</td>\n      <td>-0.338770</td>\n      <td>0.052540</td>\n      <td>0.234350</td>\n      <td>FREEHOLD</td>\n      <td>0</td>\n      <td>0</td>\n      <td>1</td>\n      <td>0</td>\n      <td>0</td>\n      <td>0</td>\n      <td>0</td>\n      <td>0</td>\n      <td>0</td>\n      <td>0</td>\n    </tr>\n    <tr>\n      <th>35271294</th>\n      <td>370.000</td>\n      <td>2.0</td>\n      <td>1.0</td>\n      <td>0.399307</td>\n      <td>51.449568</td>\n      <td>-0.140154</td>\n      <td>0.050152</td>\n      <td>0.035734</td>\n      <td>LEASEHOLD</td>\n      <td>1</td>\n      <td>0</td>\n      <td>0</td>\n      <td>0</td>\n      <td>0</td>\n      <td>0</td>\n      <td>0</td>\n      <td>0</td>\n      <td>0</td>\n      <td>0</td>\n    </tr>\n    <tr>\n      <th>35429088</th>\n      <td>599.950</td>\n      <td>2.0</td>\n      <td>1.0</td>\n      <td>0.238187</td>\n      <td>51.577030</td>\n      <td>-0.141230</td>\n      <td>0.077310</td>\n      <td>0.036810</td>\n      <td>NaN</td>\n      <td>0</td>\n      <td>0</td>\n      <td>0</td>\n      <td>0</td>\n      <td>0</td>\n      <td>0</td>\n      <td>0</td>\n      <td>0</td>\n      <td>0</td>\n      <td>0</td>\n    </tr>\n    <tr>\n      <th>44749111</th>\n      <td>475.000</td>\n      <td>2.0</td>\n      <td>1.0</td>\n      <td>0.410550</td>\n      <td>51.370050</td>\n      <td>-0.212410</td>\n      <td>0.129670</td>\n      <td>0.107990</td>\n      <td>FREEHOLD</td>\n      <td>0</td>\n      <td>0</td>\n      <td>0</td>\n      <td>0</td>\n      <td>0</td>\n      <td>0</td>\n      <td>0</td>\n      <td>0</td>\n      <td>0</td>\n      <td>0</td>\n    </tr>\n    <tr>\n      <th>46204665</th>\n      <td>435.000</td>\n      <td>3.0</td>\n      <td>2.0</td>\n      <td>0.314779</td>\n      <td>51.539070</td>\n      <td>-0.198935</td>\n      <td>0.039350</td>\n      <td>0.094515</td>\n      <td>LEASEHOLD</td>\n      <td>0</td>\n      <td>0</td>\n      <td>0</td>\n      <td>0</td>\n      <td>0</td>\n      <td>0</td>\n      <td>0</td>\n      <td>1</td>\n      <td>0</td>\n      <td>0</td>\n    </tr>\n    <tr>\n      <th>49020666</th>\n      <td>200.000</td>\n      <td>1.0</td>\n      <td>1.0</td>\n      <td>0.875911</td>\n      <td>51.539959</td>\n      <td>-0.380863</td>\n      <td>0.040239</td>\n      <td>0.276443</td>\n      <td>LEASEHOLD</td>\n      <td>0</td>\n      <td>0</td>\n      <td>0</td>\n      <td>0</td>\n      <td>1</td>\n      <td>0</td>\n      <td>0</td>\n      <td>0</td>\n      <td>0</td>\n      <td>0</td>\n    </tr>\n    <tr>\n      <th>49036279</th>\n      <td>275.000</td>\n      <td>2.0</td>\n      <td>1.0</td>\n      <td>0.474368</td>\n      <td>51.541780</td>\n      <td>0.037890</td>\n      <td>0.042060</td>\n      <td>0.142310</td>\n      <td>LEASEHOLD</td>\n      <td>0</td>\n      <td>0</td>\n      <td>0</td>\n      <td>0</td>\n      <td>0</td>\n      <td>0</td>\n      <td>0</td>\n      <td>0</td>\n      <td>0</td>\n      <td>0</td>\n    </tr>\n    <tr>\n      <th>49303873</th>\n      <td>450.000</td>\n      <td>3.0</td>\n      <td>2.0</td>\n      <td>0.577040</td>\n      <td>51.524880</td>\n      <td>0.187200</td>\n      <td>0.025160</td>\n      <td>0.291620</td>\n      <td>FREEHOLD</td>\n      <td>0</td>\n      <td>0</td>\n      <td>0</td>\n      <td>0</td>\n      <td>0</td>\n      <td>0</td>\n      <td>0</td>\n      <td>0</td>\n      <td>0</td>\n      <td>0</td>\n    </tr>\n    <tr>\n      <th>52064391</th>\n      <td>349.950</td>\n      <td>2.0</td>\n      <td>2.0</td>\n      <td>0.212734</td>\n      <td>51.470800</td>\n      <td>-0.361820</td>\n      <td>0.028920</td>\n      <td>0.257400</td>\n      <td>LEASEHOLD</td>\n      <td>0</td>\n      <td>0</td>\n      <td>0</td>\n      <td>0</td>\n      <td>0</td>\n      <td>1</td>\n      <td>0</td>\n      <td>0</td>\n      <td>1</td>\n      <td>0</td>\n    </tr>\n    <tr>\n      <th>52187854</th>\n      <td>450.000</td>\n      <td>1.0</td>\n      <td>1.0</td>\n      <td>0.446802</td>\n      <td>51.527199</td>\n      <td>-0.202898</td>\n      <td>0.027479</td>\n      <td>0.098478</td>\n      <td>LEASEHOLD</td>\n      <td>0</td>\n      <td>0</td>\n      <td>0</td>\n      <td>0</td>\n      <td>0</td>\n      <td>0</td>\n      <td>0</td>\n      <td>0</td>\n      <td>0</td>\n      <td>0</td>\n    </tr>\n    <tr>\n      <th>52675628</th>\n      <td>490.000</td>\n      <td>2.0</td>\n      <td>2.0</td>\n      <td>0.215040</td>\n      <td>51.501114</td>\n      <td>0.026315</td>\n      <td>0.001394</td>\n      <td>0.130735</td>\n      <td>NaN</td>\n      <td>0</td>\n      <td>0</td>\n      <td>0</td>\n      <td>0</td>\n      <td>0</td>\n      <td>0</td>\n      <td>0</td>\n      <td>0</td>\n      <td>0</td>\n      <td>0</td>\n    </tr>\n    <tr>\n      <th>52845963</th>\n      <td>200.000</td>\n      <td>2.0</td>\n      <td>1.0</td>\n      <td>0.650562</td>\n      <td>51.398040</td>\n      <td>-0.076812</td>\n      <td>0.101680</td>\n      <td>0.027608</td>\n      <td>LEASEHOLD</td>\n      <td>0</td>\n      <td>0</td>\n      <td>0</td>\n      <td>0</td>\n      <td>0</td>\n      <td>0</td>\n      <td>0</td>\n      <td>0</td>\n      <td>0</td>\n      <td>0</td>\n    </tr>\n    <tr>\n      <th>52913496</th>\n      <td>220.000</td>\n      <td>1.0</td>\n      <td>1.0</td>\n      <td>0.945991</td>\n      <td>51.539383</td>\n      <td>-0.382239</td>\n      <td>0.039663</td>\n      <td>0.277819</td>\n      <td>LEASEHOLD</td>\n      <td>0</td>\n      <td>1</td>\n      <td>0</td>\n      <td>0</td>\n      <td>0</td>\n      <td>0</td>\n      <td>0</td>\n      <td>0</td>\n      <td>0</td>\n      <td>0</td>\n    </tr>\n    <tr>\n      <th>53609433</th>\n      <td>489.995</td>\n      <td>1.0</td>\n      <td>1.0</td>\n      <td>0.087081</td>\n      <td>51.532620</td>\n      <td>-0.107860</td>\n      <td>0.032900</td>\n      <td>0.003440</td>\n      <td>LEASEHOLD</td>\n      <td>0</td>\n      <td>0</td>\n      <td>0</td>\n      <td>0</td>\n      <td>0</td>\n      <td>0</td>\n      <td>0</td>\n      <td>0</td>\n      <td>0</td>\n      <td>0</td>\n    </tr>\n    <tr>\n      <th>53649578</th>\n      <td>284.950</td>\n      <td>1.0</td>\n      <td>1.0</td>\n      <td>0.806597</td>\n      <td>51.479890</td>\n      <td>-0.078500</td>\n      <td>0.019830</td>\n      <td>0.025920</td>\n      <td>NaN</td>\n      <td>0</td>\n      <td>0</td>\n      <td>0</td>\n      <td>0</td>\n      <td>0</td>\n      <td>0</td>\n      <td>0</td>\n      <td>0</td>\n      <td>0</td>\n      <td>0</td>\n    </tr>\n    <tr>\n      <th>53938989</th>\n      <td>450.000</td>\n      <td>2.0</td>\n      <td>1.0</td>\n      <td>0.775203</td>\n      <td>51.658287</td>\n      <td>-0.207902</td>\n      <td>0.158567</td>\n      <td>0.103482</td>\n      <td>FREEHOLD</td>\n      <td>0</td>\n      <td>0</td>\n      <td>0</td>\n      <td>0</td>\n      <td>0</td>\n      <td>0</td>\n      <td>0</td>\n      <td>0</td>\n      <td>0</td>\n      <td>0</td>\n    </tr>\n    <tr>\n      <th>54713232</th>\n      <td>332.000</td>\n      <td>2.0</td>\n      <td>1.0</td>\n      <td>0.319226</td>\n      <td>51.612300</td>\n      <td>-0.119860</td>\n      <td>0.112580</td>\n      <td>0.015440</td>\n      <td>SHARE_OF_FREEHOLD</td>\n      <td>0</td>\n      <td>0</td>\n      <td>0</td>\n      <td>0</td>\n      <td>0</td>\n      <td>0</td>\n      <td>0</td>\n      <td>0</td>\n      <td>0</td>\n      <td>0</td>\n    </tr>\n    <tr>\n      <th>54904122</th>\n      <td>365.000</td>\n      <td>2.0</td>\n      <td>1.0</td>\n      <td>0.260722</td>\n      <td>51.593595</td>\n      <td>0.022046</td>\n      <td>0.093875</td>\n      <td>0.126466</td>\n      <td>SHARE_OF_FREEHOLD</td>\n      <td>0</td>\n      <td>0</td>\n      <td>0</td>\n      <td>0</td>\n      <td>0</td>\n      <td>0</td>\n      <td>1</td>\n      <td>0</td>\n      <td>0</td>\n      <td>0</td>\n    </tr>\n    <tr>\n      <th>54991934</th>\n      <td>430.000</td>\n      <td>3.0</td>\n      <td>1.0</td>\n      <td>0.497268</td>\n      <td>51.528720</td>\n      <td>0.039180</td>\n      <td>0.029000</td>\n      <td>0.143600</td>\n      <td>FREEHOLD</td>\n      <td>0</td>\n      <td>0</td>\n      <td>0</td>\n      <td>0</td>\n      <td>0</td>\n      <td>0</td>\n      <td>0</td>\n      <td>0</td>\n      <td>0</td>\n      <td>0</td>\n    </tr>\n    <tr>\n      <th>55043230</th>\n      <td>260.000</td>\n      <td>1.0</td>\n      <td>1.0</td>\n      <td>0.384607</td>\n      <td>51.544430</td>\n      <td>0.014500</td>\n      <td>0.044710</td>\n      <td>0.118920</td>\n      <td>LEASEHOLD</td>\n      <td>0</td>\n      <td>0</td>\n      <td>0</td>\n      <td>0</td>\n      <td>0</td>\n      <td>0</td>\n      <td>0</td>\n      <td>0</td>\n      <td>0</td>\n      <td>0</td>\n    </tr>\n    <tr>\n      <th>55187658</th>\n      <td>430.000</td>\n      <td>2.0</td>\n      <td>2.0</td>\n      <td>0.289033</td>\n      <td>51.507570</td>\n      <td>0.078030</td>\n      <td>0.007850</td>\n      <td>0.182450</td>\n      <td>LEASEHOLD</td>\n      <td>0</td>\n      <td>0</td>\n      <td>0</td>\n      <td>0</td>\n      <td>0</td>\n      <td>0</td>\n      <td>0</td>\n      <td>0</td>\n      <td>0</td>\n      <td>0</td>\n    </tr>\n    <tr>\n      <th>55531367</th>\n      <td>599.950</td>\n      <td>2.0</td>\n      <td>1.0</td>\n      <td>0.406725</td>\n      <td>51.467410</td>\n      <td>-0.079170</td>\n      <td>0.032310</td>\n      <td>0.025250</td>\n      <td>NaN</td>\n      <td>1</td>\n      <td>0</td>\n      <td>0</td>\n      <td>0</td>\n      <td>0</td>\n      <td>0</td>\n      <td>0</td>\n      <td>0</td>\n      <td>0</td>\n      <td>1</td>\n    </tr>\n    <tr>\n      <th>55768232</th>\n      <td>550.000</td>\n      <td>2.0</td>\n      <td>1.0</td>\n      <td>0.478349</td>\n      <td>51.472890</td>\n      <td>-0.078940</td>\n      <td>0.026830</td>\n      <td>0.025480</td>\n      <td>NaN</td>\n      <td>0</td>\n      <td>0</td>\n      <td>0</td>\n      <td>0</td>\n      <td>0</td>\n      <td>0</td>\n      <td>0</td>\n      <td>0</td>\n      <td>0</td>\n      <td>0</td>\n    </tr>\n    <tr>\n      <th>55805965</th>\n      <td>280.000</td>\n      <td>2.0</td>\n      <td>1.0</td>\n      <td>0.742859</td>\n      <td>51.520910</td>\n      <td>0.022680</td>\n      <td>0.021190</td>\n      <td>0.127100</td>\n      <td>LEASEHOLD</td>\n      <td>0</td>\n      <td>0</td>\n      <td>0</td>\n      <td>0</td>\n      <td>0</td>\n      <td>0</td>\n      <td>0</td>\n      <td>0</td>\n      <td>0</td>\n      <td>0</td>\n    </tr>\n    <tr>\n      <th>55839051</th>\n      <td>599.950</td>\n      <td>2.0</td>\n      <td>1.0</td>\n      <td>0.259168</td>\n      <td>51.579186</td>\n      <td>-0.209020</td>\n      <td>0.079466</td>\n      <td>0.104600</td>\n      <td>LEASEHOLD</td>\n      <td>0</td>\n      <td>0</td>\n      <td>0</td>\n      <td>0</td>\n      <td>0</td>\n      <td>0</td>\n      <td>0</td>\n      <td>0</td>\n      <td>0</td>\n      <td>0</td>\n    </tr>\n    <tr>\n      <th>55940994</th>\n      <td>385.000</td>\n      <td>2.0</td>\n      <td>2.0</td>\n      <td>0.403987</td>\n      <td>51.376930</td>\n      <td>-0.238870</td>\n      <td>0.122790</td>\n      <td>0.134450</td>\n      <td>LEASEHOLD</td>\n      <td>0</td>\n      <td>0</td>\n      <td>0</td>\n      <td>0</td>\n      <td>0</td>\n      <td>0</td>\n      <td>0</td>\n      <td>0</td>\n      <td>1</td>\n      <td>0</td>\n    </tr>\n    <tr>\n      <th>56449305</th>\n      <td>380.000</td>\n      <td>2.0</td>\n      <td>1.0</td>\n      <td>0.310271</td>\n      <td>51.600483</td>\n      <td>-0.062096</td>\n      <td>0.100763</td>\n      <td>0.042324</td>\n      <td>FREEHOLD</td>\n      <td>0</td>\n      <td>0</td>\n      <td>0</td>\n      <td>0</td>\n      <td>0</td>\n      <td>0</td>\n      <td>0</td>\n      <td>0</td>\n      <td>1</td>\n      <td>0</td>\n    </tr>\n    <tr>\n      <th>57221413</th>\n      <td>475.000</td>\n      <td>3.0</td>\n      <td>2.0</td>\n      <td>0.409784</td>\n      <td>51.497260</td>\n      <td>-0.422530</td>\n      <td>0.002460</td>\n      <td>0.318110</td>\n      <td>FREEHOLD</td>\n      <td>0</td>\n      <td>0</td>\n      <td>0</td>\n      <td>0</td>\n      <td>0</td>\n      <td>0</td>\n      <td>0</td>\n      <td>1</td>\n      <td>0</td>\n      <td>0</td>\n    </tr>\n  </tbody>\n</table>\n</div>"
     },
     "execution_count": 56,
     "metadata": {},
     "output_type": "execute_result"
    }
   ],
   "source": [
    "df['Price'] = df['Price'] / 1000\n",
    "df.head(30)"
   ]
  },
  {
   "cell_type": "code",
   "execution_count": 57,
   "metadata": {
    "execution": {
     "iopub.execute_input": "2022-11-29T20:53:45.117528Z",
     "iopub.status.busy": "2022-11-29T20:53:45.117186Z",
     "iopub.status.idle": "2022-11-29T20:53:45.132618Z",
     "shell.execute_reply": "2022-11-29T20:53:45.131589Z",
     "shell.execute_reply.started": "2022-11-29T20:53:45.117499Z"
    }
   },
   "outputs": [
    {
     "data": {
      "text/plain": "Price                              0\nbedrooms                           0\nbathrooms                          0\nnearestStation                     0\nlocation.latitude                  0\nlocation.longitude                 0\nlatitude_deviation                 0\nlongitude_deviation                0\ntenure.tenureType               2744\nfeature__balcony                   0\nfeature__chain free                0\nfeature__no onward chain           0\nfeature__off street parking        0\nfeature__one bedroom               0\nfeature__private balcony           0\nfeature__share of freehold         0\nfeature__three bedrooms            0\nfeature__two bedrooms              0\nfeature__two double bedrooms       0\ndtype: int64"
     },
     "execution_count": 57,
     "metadata": {},
     "output_type": "execute_result"
    }
   ],
   "source": [
    "df.isnull().sum()"
   ]
  },
  {
   "cell_type": "code",
   "execution_count": 58,
   "metadata": {
    "execution": {
     "iopub.execute_input": "2022-11-29T20:53:45.134232Z",
     "iopub.status.busy": "2022-11-29T20:53:45.133921Z",
     "iopub.status.idle": "2022-11-29T20:53:45.314024Z",
     "shell.execute_reply": "2022-11-29T20:53:45.313146Z",
     "shell.execute_reply.started": "2022-11-29T20:53:45.134204Z"
    }
   },
   "outputs": [
    {
     "name": "stdout",
     "output_type": "stream",
     "text": [
      "<class 'pandas.core.frame.DataFrame'>\n",
      "Int64Index: 46871 entries, 14520525 to 126181118\n",
      "Data columns (total 19 columns):\n",
      " #   Column                        Non-Null Count  Dtype  \n",
      "---  ------                        --------------  -----  \n",
      " 0   Price                         46871 non-null  float64\n",
      " 1   bedrooms                      46871 non-null  float64\n",
      " 2   bathrooms                     46871 non-null  float64\n",
      " 3   nearestStation                46871 non-null  float64\n",
      " 4   location.latitude             46871 non-null  float64\n",
      " 5   location.longitude            46871 non-null  float64\n",
      " 6   latitude_deviation            46871 non-null  float64\n",
      " 7   longitude_deviation           46871 non-null  float64\n",
      " 8   tenure.tenureType             44127 non-null  object \n",
      " 9   feature__balcony              46871 non-null  int64  \n",
      " 10  feature__chain free           46871 non-null  int64  \n",
      " 11  feature__no onward chain      46871 non-null  int64  \n",
      " 12  feature__off street parking   46871 non-null  int64  \n",
      " 13  feature__one bedroom          46871 non-null  int64  \n",
      " 14  feature__private balcony      46871 non-null  int64  \n",
      " 15  feature__share of freehold    46871 non-null  int64  \n",
      " 16  feature__three bedrooms       46871 non-null  int64  \n",
      " 17  feature__two bedrooms         46871 non-null  int64  \n",
      " 18  feature__two double bedrooms  46871 non-null  int64  \n",
      "dtypes: float64(8), int64(10), object(1)\n",
      "memory usage: 7.2+ MB\n"
     ]
    },
    {
     "data": {
      "text/plain": "                                count        mean         std         min  \\\nPrice                         46871.0  425.069391  107.227325  100.000000   \nbedrooms                      46871.0    1.992469    0.828837    1.000000   \nbathrooms                     46871.0    1.182074    0.409879    1.000000   \nnearestStation                46871.0    0.438847    0.325942    0.000000   \nlocation.latitude             46871.0   51.497049    0.077085   51.298317   \nlocation.longitude            46871.0   -0.113269    0.156489   -0.498315   \nlatitude_deviation            46871.0    0.064317    0.042573    0.000000   \nlongitude_deviation           46871.0    0.124202    0.095607    0.000000   \nfeature__balcony              46871.0    0.038617    0.193124    0.000000   \nfeature__chain free           46871.0    0.120266    0.325800    0.000000   \nfeature__no onward chain      46871.0    0.057925    0.233604    0.000000   \nfeature__off street parking   46871.0    0.047300    0.212684    0.000000   \nfeature__one bedroom          46871.0    0.041369    0.199144    0.000000   \nfeature__private balcony      46871.0    0.039662    0.195275    0.000000   \nfeature__share of freehold    46871.0    0.047663    0.213354    0.000000   \nfeature__three bedrooms       46871.0    0.059120    0.235851    0.000000   \nfeature__two bedrooms         46871.0    0.071473    0.257616    0.000000   \nfeature__two double bedrooms  46871.0    0.095411    0.293930    0.000000   \n\n                                     25%         50%         75%         max  \nPrice                         349.950000  425.000000  515.000000  600.000000  \nbedrooms                        1.000000    2.000000    3.000000    7.000000  \nbathrooms                       1.000000    1.000000    1.000000    5.000000  \nnearestStation                  0.227169    0.367971    0.559620    7.197700  \nlocation.latitude              51.438861   51.499977   51.556183   51.683185  \nlocation.longitude             -0.210796   -0.102230   -0.010343    0.279726  \nlatitude_deviation              0.028876    0.058595    0.094362    0.201403  \nlongitude_deviation             0.043560    0.098984    0.192684    0.393895  \nfeature__balcony                0.000000    0.000000    0.000000    2.000000  \nfeature__chain free             0.000000    0.000000    0.000000    2.000000  \nfeature__no onward chain        0.000000    0.000000    0.000000    1.000000  \nfeature__off street parking     0.000000    0.000000    0.000000    2.000000  \nfeature__one bedroom            0.000000    0.000000    0.000000    1.000000  \nfeature__private balcony        0.000000    0.000000    0.000000    2.000000  \nfeature__share of freehold      0.000000    0.000000    0.000000    2.000000  \nfeature__three bedrooms         0.000000    0.000000    0.000000    1.000000  \nfeature__two bedrooms           0.000000    0.000000    0.000000    1.000000  \nfeature__two double bedrooms    0.000000    0.000000    0.000000    2.000000  ",
      "text/html": "<div>\n<style scoped>\n    .dataframe tbody tr th:only-of-type {\n        vertical-align: middle;\n    }\n\n    .dataframe tbody tr th {\n        vertical-align: top;\n    }\n\n    .dataframe thead th {\n        text-align: right;\n    }\n</style>\n<table border=\"1\" class=\"dataframe\">\n  <thead>\n    <tr style=\"text-align: right;\">\n      <th></th>\n      <th>count</th>\n      <th>mean</th>\n      <th>std</th>\n      <th>min</th>\n      <th>25%</th>\n      <th>50%</th>\n      <th>75%</th>\n      <th>max</th>\n    </tr>\n  </thead>\n  <tbody>\n    <tr>\n      <th>Price</th>\n      <td>46871.0</td>\n      <td>425.069391</td>\n      <td>107.227325</td>\n      <td>100.000000</td>\n      <td>349.950000</td>\n      <td>425.000000</td>\n      <td>515.000000</td>\n      <td>600.000000</td>\n    </tr>\n    <tr>\n      <th>bedrooms</th>\n      <td>46871.0</td>\n      <td>1.992469</td>\n      <td>0.828837</td>\n      <td>1.000000</td>\n      <td>1.000000</td>\n      <td>2.000000</td>\n      <td>3.000000</td>\n      <td>7.000000</td>\n    </tr>\n    <tr>\n      <th>bathrooms</th>\n      <td>46871.0</td>\n      <td>1.182074</td>\n      <td>0.409879</td>\n      <td>1.000000</td>\n      <td>1.000000</td>\n      <td>1.000000</td>\n      <td>1.000000</td>\n      <td>5.000000</td>\n    </tr>\n    <tr>\n      <th>nearestStation</th>\n      <td>46871.0</td>\n      <td>0.438847</td>\n      <td>0.325942</td>\n      <td>0.000000</td>\n      <td>0.227169</td>\n      <td>0.367971</td>\n      <td>0.559620</td>\n      <td>7.197700</td>\n    </tr>\n    <tr>\n      <th>location.latitude</th>\n      <td>46871.0</td>\n      <td>51.497049</td>\n      <td>0.077085</td>\n      <td>51.298317</td>\n      <td>51.438861</td>\n      <td>51.499977</td>\n      <td>51.556183</td>\n      <td>51.683185</td>\n    </tr>\n    <tr>\n      <th>location.longitude</th>\n      <td>46871.0</td>\n      <td>-0.113269</td>\n      <td>0.156489</td>\n      <td>-0.498315</td>\n      <td>-0.210796</td>\n      <td>-0.102230</td>\n      <td>-0.010343</td>\n      <td>0.279726</td>\n    </tr>\n    <tr>\n      <th>latitude_deviation</th>\n      <td>46871.0</td>\n      <td>0.064317</td>\n      <td>0.042573</td>\n      <td>0.000000</td>\n      <td>0.028876</td>\n      <td>0.058595</td>\n      <td>0.094362</td>\n      <td>0.201403</td>\n    </tr>\n    <tr>\n      <th>longitude_deviation</th>\n      <td>46871.0</td>\n      <td>0.124202</td>\n      <td>0.095607</td>\n      <td>0.000000</td>\n      <td>0.043560</td>\n      <td>0.098984</td>\n      <td>0.192684</td>\n      <td>0.393895</td>\n    </tr>\n    <tr>\n      <th>feature__balcony</th>\n      <td>46871.0</td>\n      <td>0.038617</td>\n      <td>0.193124</td>\n      <td>0.000000</td>\n      <td>0.000000</td>\n      <td>0.000000</td>\n      <td>0.000000</td>\n      <td>2.000000</td>\n    </tr>\n    <tr>\n      <th>feature__chain free</th>\n      <td>46871.0</td>\n      <td>0.120266</td>\n      <td>0.325800</td>\n      <td>0.000000</td>\n      <td>0.000000</td>\n      <td>0.000000</td>\n      <td>0.000000</td>\n      <td>2.000000</td>\n    </tr>\n    <tr>\n      <th>feature__no onward chain</th>\n      <td>46871.0</td>\n      <td>0.057925</td>\n      <td>0.233604</td>\n      <td>0.000000</td>\n      <td>0.000000</td>\n      <td>0.000000</td>\n      <td>0.000000</td>\n      <td>1.000000</td>\n    </tr>\n    <tr>\n      <th>feature__off street parking</th>\n      <td>46871.0</td>\n      <td>0.047300</td>\n      <td>0.212684</td>\n      <td>0.000000</td>\n      <td>0.000000</td>\n      <td>0.000000</td>\n      <td>0.000000</td>\n      <td>2.000000</td>\n    </tr>\n    <tr>\n      <th>feature__one bedroom</th>\n      <td>46871.0</td>\n      <td>0.041369</td>\n      <td>0.199144</td>\n      <td>0.000000</td>\n      <td>0.000000</td>\n      <td>0.000000</td>\n      <td>0.000000</td>\n      <td>1.000000</td>\n    </tr>\n    <tr>\n      <th>feature__private balcony</th>\n      <td>46871.0</td>\n      <td>0.039662</td>\n      <td>0.195275</td>\n      <td>0.000000</td>\n      <td>0.000000</td>\n      <td>0.000000</td>\n      <td>0.000000</td>\n      <td>2.000000</td>\n    </tr>\n    <tr>\n      <th>feature__share of freehold</th>\n      <td>46871.0</td>\n      <td>0.047663</td>\n      <td>0.213354</td>\n      <td>0.000000</td>\n      <td>0.000000</td>\n      <td>0.000000</td>\n      <td>0.000000</td>\n      <td>2.000000</td>\n    </tr>\n    <tr>\n      <th>feature__three bedrooms</th>\n      <td>46871.0</td>\n      <td>0.059120</td>\n      <td>0.235851</td>\n      <td>0.000000</td>\n      <td>0.000000</td>\n      <td>0.000000</td>\n      <td>0.000000</td>\n      <td>1.000000</td>\n    </tr>\n    <tr>\n      <th>feature__two bedrooms</th>\n      <td>46871.0</td>\n      <td>0.071473</td>\n      <td>0.257616</td>\n      <td>0.000000</td>\n      <td>0.000000</td>\n      <td>0.000000</td>\n      <td>0.000000</td>\n      <td>1.000000</td>\n    </tr>\n    <tr>\n      <th>feature__two double bedrooms</th>\n      <td>46871.0</td>\n      <td>0.095411</td>\n      <td>0.293930</td>\n      <td>0.000000</td>\n      <td>0.000000</td>\n      <td>0.000000</td>\n      <td>0.000000</td>\n      <td>2.000000</td>\n    </tr>\n  </tbody>\n</table>\n</div>"
     },
     "execution_count": 58,
     "metadata": {},
     "output_type": "execute_result"
    }
   ],
   "source": [
    "df.info()\n",
    "df.describe()\n",
    "df.describe().T"
   ]
  },
  {
   "cell_type": "code",
   "execution_count": 59,
   "metadata": {
    "execution": {
     "iopub.execute_input": "2022-11-29T20:53:45.315778Z",
     "iopub.status.busy": "2022-11-29T20:53:45.315414Z",
     "iopub.status.idle": "2022-11-29T20:53:45.423322Z",
     "shell.execute_reply": "2022-11-29T20:53:45.422183Z",
     "shell.execute_reply.started": "2022-11-29T20:53:45.315749Z"
    }
   },
   "outputs": [
    {
     "name": "stdout",
     "output_type": "stream",
     "text": [
      "dataframe contract due to cleaning: 46871 ==> 46871\n"
     ]
    },
    {
     "data": {
      "text/plain": "                                count        mean         std         min  \\\nPrice                         46871.0  425.069391  107.227325  100.000000   \nbedrooms                      46871.0    1.992469    0.828837    1.000000   \nbathrooms                     46871.0    1.182074    0.409879    1.000000   \nnearestStation                46871.0    0.438847    0.325942    0.000000   \nlocation.latitude             46871.0   51.497049    0.077085   51.298317   \nlocation.longitude            46871.0   -0.113269    0.156489   -0.498315   \nlatitude_deviation            46871.0    0.064317    0.042573    0.000000   \nlongitude_deviation           46871.0    0.124202    0.095607    0.000000   \nfeature__balcony              46871.0    0.038617    0.193124    0.000000   \nfeature__chain free           46871.0    0.120266    0.325800    0.000000   \nfeature__no onward chain      46871.0    0.057925    0.233604    0.000000   \nfeature__off street parking   46871.0    0.047300    0.212684    0.000000   \nfeature__one bedroom          46871.0    0.041369    0.199144    0.000000   \nfeature__private balcony      46871.0    0.039662    0.195275    0.000000   \nfeature__share of freehold    46871.0    0.047663    0.213354    0.000000   \nfeature__three bedrooms       46871.0    0.059120    0.235851    0.000000   \nfeature__two bedrooms         46871.0    0.071473    0.257616    0.000000   \nfeature__two double bedrooms  46871.0    0.095411    0.293930    0.000000   \n\n                                     25%         50%         75%         max  \nPrice                         349.950000  425.000000  515.000000  600.000000  \nbedrooms                        1.000000    2.000000    3.000000    7.000000  \nbathrooms                       1.000000    1.000000    1.000000    5.000000  \nnearestStation                  0.227169    0.367971    0.559620    7.197700  \nlocation.latitude              51.438861   51.499977   51.556183   51.683185  \nlocation.longitude             -0.210796   -0.102230   -0.010343    0.279726  \nlatitude_deviation              0.028876    0.058595    0.094362    0.201403  \nlongitude_deviation             0.043560    0.098984    0.192684    0.393895  \nfeature__balcony                0.000000    0.000000    0.000000    2.000000  \nfeature__chain free             0.000000    0.000000    0.000000    2.000000  \nfeature__no onward chain        0.000000    0.000000    0.000000    1.000000  \nfeature__off street parking     0.000000    0.000000    0.000000    2.000000  \nfeature__one bedroom            0.000000    0.000000    0.000000    1.000000  \nfeature__private balcony        0.000000    0.000000    0.000000    2.000000  \nfeature__share of freehold      0.000000    0.000000    0.000000    2.000000  \nfeature__three bedrooms         0.000000    0.000000    0.000000    1.000000  \nfeature__two bedrooms           0.000000    0.000000    0.000000    1.000000  \nfeature__two double bedrooms    0.000000    0.000000    0.000000    2.000000  ",
      "text/html": "<div>\n<style scoped>\n    .dataframe tbody tr th:only-of-type {\n        vertical-align: middle;\n    }\n\n    .dataframe tbody tr th {\n        vertical-align: top;\n    }\n\n    .dataframe thead th {\n        text-align: right;\n    }\n</style>\n<table border=\"1\" class=\"dataframe\">\n  <thead>\n    <tr style=\"text-align: right;\">\n      <th></th>\n      <th>count</th>\n      <th>mean</th>\n      <th>std</th>\n      <th>min</th>\n      <th>25%</th>\n      <th>50%</th>\n      <th>75%</th>\n      <th>max</th>\n    </tr>\n  </thead>\n  <tbody>\n    <tr>\n      <th>Price</th>\n      <td>46871.0</td>\n      <td>425.069391</td>\n      <td>107.227325</td>\n      <td>100.000000</td>\n      <td>349.950000</td>\n      <td>425.000000</td>\n      <td>515.000000</td>\n      <td>600.000000</td>\n    </tr>\n    <tr>\n      <th>bedrooms</th>\n      <td>46871.0</td>\n      <td>1.992469</td>\n      <td>0.828837</td>\n      <td>1.000000</td>\n      <td>1.000000</td>\n      <td>2.000000</td>\n      <td>3.000000</td>\n      <td>7.000000</td>\n    </tr>\n    <tr>\n      <th>bathrooms</th>\n      <td>46871.0</td>\n      <td>1.182074</td>\n      <td>0.409879</td>\n      <td>1.000000</td>\n      <td>1.000000</td>\n      <td>1.000000</td>\n      <td>1.000000</td>\n      <td>5.000000</td>\n    </tr>\n    <tr>\n      <th>nearestStation</th>\n      <td>46871.0</td>\n      <td>0.438847</td>\n      <td>0.325942</td>\n      <td>0.000000</td>\n      <td>0.227169</td>\n      <td>0.367971</td>\n      <td>0.559620</td>\n      <td>7.197700</td>\n    </tr>\n    <tr>\n      <th>location.latitude</th>\n      <td>46871.0</td>\n      <td>51.497049</td>\n      <td>0.077085</td>\n      <td>51.298317</td>\n      <td>51.438861</td>\n      <td>51.499977</td>\n      <td>51.556183</td>\n      <td>51.683185</td>\n    </tr>\n    <tr>\n      <th>location.longitude</th>\n      <td>46871.0</td>\n      <td>-0.113269</td>\n      <td>0.156489</td>\n      <td>-0.498315</td>\n      <td>-0.210796</td>\n      <td>-0.102230</td>\n      <td>-0.010343</td>\n      <td>0.279726</td>\n    </tr>\n    <tr>\n      <th>latitude_deviation</th>\n      <td>46871.0</td>\n      <td>0.064317</td>\n      <td>0.042573</td>\n      <td>0.000000</td>\n      <td>0.028876</td>\n      <td>0.058595</td>\n      <td>0.094362</td>\n      <td>0.201403</td>\n    </tr>\n    <tr>\n      <th>longitude_deviation</th>\n      <td>46871.0</td>\n      <td>0.124202</td>\n      <td>0.095607</td>\n      <td>0.000000</td>\n      <td>0.043560</td>\n      <td>0.098984</td>\n      <td>0.192684</td>\n      <td>0.393895</td>\n    </tr>\n    <tr>\n      <th>feature__balcony</th>\n      <td>46871.0</td>\n      <td>0.038617</td>\n      <td>0.193124</td>\n      <td>0.000000</td>\n      <td>0.000000</td>\n      <td>0.000000</td>\n      <td>0.000000</td>\n      <td>2.000000</td>\n    </tr>\n    <tr>\n      <th>feature__chain free</th>\n      <td>46871.0</td>\n      <td>0.120266</td>\n      <td>0.325800</td>\n      <td>0.000000</td>\n      <td>0.000000</td>\n      <td>0.000000</td>\n      <td>0.000000</td>\n      <td>2.000000</td>\n    </tr>\n    <tr>\n      <th>feature__no onward chain</th>\n      <td>46871.0</td>\n      <td>0.057925</td>\n      <td>0.233604</td>\n      <td>0.000000</td>\n      <td>0.000000</td>\n      <td>0.000000</td>\n      <td>0.000000</td>\n      <td>1.000000</td>\n    </tr>\n    <tr>\n      <th>feature__off street parking</th>\n      <td>46871.0</td>\n      <td>0.047300</td>\n      <td>0.212684</td>\n      <td>0.000000</td>\n      <td>0.000000</td>\n      <td>0.000000</td>\n      <td>0.000000</td>\n      <td>2.000000</td>\n    </tr>\n    <tr>\n      <th>feature__one bedroom</th>\n      <td>46871.0</td>\n      <td>0.041369</td>\n      <td>0.199144</td>\n      <td>0.000000</td>\n      <td>0.000000</td>\n      <td>0.000000</td>\n      <td>0.000000</td>\n      <td>1.000000</td>\n    </tr>\n    <tr>\n      <th>feature__private balcony</th>\n      <td>46871.0</td>\n      <td>0.039662</td>\n      <td>0.195275</td>\n      <td>0.000000</td>\n      <td>0.000000</td>\n      <td>0.000000</td>\n      <td>0.000000</td>\n      <td>2.000000</td>\n    </tr>\n    <tr>\n      <th>feature__share of freehold</th>\n      <td>46871.0</td>\n      <td>0.047663</td>\n      <td>0.213354</td>\n      <td>0.000000</td>\n      <td>0.000000</td>\n      <td>0.000000</td>\n      <td>0.000000</td>\n      <td>2.000000</td>\n    </tr>\n    <tr>\n      <th>feature__three bedrooms</th>\n      <td>46871.0</td>\n      <td>0.059120</td>\n      <td>0.235851</td>\n      <td>0.000000</td>\n      <td>0.000000</td>\n      <td>0.000000</td>\n      <td>0.000000</td>\n      <td>1.000000</td>\n    </tr>\n    <tr>\n      <th>feature__two bedrooms</th>\n      <td>46871.0</td>\n      <td>0.071473</td>\n      <td>0.257616</td>\n      <td>0.000000</td>\n      <td>0.000000</td>\n      <td>0.000000</td>\n      <td>0.000000</td>\n      <td>1.000000</td>\n    </tr>\n    <tr>\n      <th>feature__two double bedrooms</th>\n      <td>46871.0</td>\n      <td>0.095411</td>\n      <td>0.293930</td>\n      <td>0.000000</td>\n      <td>0.000000</td>\n      <td>0.000000</td>\n      <td>0.000000</td>\n      <td>2.000000</td>\n    </tr>\n  </tbody>\n</table>\n</div>"
     },
     "execution_count": 59,
     "metadata": {},
     "output_type": "execute_result"
    }
   ],
   "source": [
    "old_length = len(df)\n",
    "\n",
    "df = preprocess(df, version=VERSION)\n",
    "\n",
    "print(f\"dataframe contract due to cleaning: {old_length} ==> {len(df)}\")\n",
    "old_length = len(df)\n",
    "\n",
    "df.describe().T"
   ]
  },
  {
   "cell_type": "code",
   "execution_count": 60,
   "metadata": {
    "execution": {
     "iopub.execute_input": "2022-11-29T20:53:45.424707Z",
     "iopub.status.busy": "2022-11-29T20:53:45.424403Z",
     "iopub.status.idle": "2022-11-29T20:53:45.439795Z",
     "shell.execute_reply": "2022-11-29T20:53:45.438607Z",
     "shell.execute_reply.started": "2022-11-29T20:53:45.424684Z"
    }
   },
   "outputs": [
    {
     "data": {
      "text/plain": "Price                              0\nbedrooms                           0\nbathrooms                          0\nnearestStation                     0\nlocation.latitude                  0\nlocation.longitude                 0\nlatitude_deviation                 0\nlongitude_deviation                0\ntenure.tenureType               2744\nfeature__balcony                   0\nfeature__chain free                0\nfeature__no onward chain           0\nfeature__off street parking        0\nfeature__one bedroom               0\nfeature__private balcony           0\nfeature__share of freehold         0\nfeature__three bedrooms            0\nfeature__two bedrooms              0\nfeature__two double bedrooms       0\ndtype: int64"
     },
     "execution_count": 60,
     "metadata": {},
     "output_type": "execute_result"
    }
   ],
   "source": [
    "df.isna().sum()"
   ]
  },
  {
   "cell_type": "code",
   "execution_count": 61,
   "metadata": {
    "execution": {
     "iopub.execute_input": "2022-11-29T20:53:45.443541Z",
     "iopub.status.busy": "2022-11-29T20:53:45.443178Z",
     "iopub.status.idle": "2022-11-29T20:53:45.543292Z",
     "shell.execute_reply": "2022-11-29T20:53:45.542377Z",
     "shell.execute_reply.started": "2022-11-29T20:53:45.443516Z"
    }
   },
   "outputs": [
    {
     "name": "stdout",
     "output_type": "stream",
     "text": [
      "46871 ==> 44127\n"
     ]
    },
    {
     "data": {
      "text/plain": "              Price      bedrooms    bathrooms  nearestStation  \\\ncount  44127.000000  44127.000000  44127.00000    44127.000000   \nmean     425.224642      1.990981      1.18134        0.438522   \nstd      107.203333      0.827621      0.40893        0.324152   \nmin      100.000000      1.000000      1.00000        0.000000   \n25%      349.950000      1.000000      1.00000        0.227551   \n50%      425.000000      2.000000      1.00000        0.368351   \n75%      515.000000      3.000000      1.00000        0.559486   \nmax      600.000000      7.000000      5.00000        7.197700   \n\n       location.latitude  location.longitude  latitude_deviation  \\\ncount       44127.000000        44127.000000        44127.000000   \nmean           51.496711           -0.113106            0.064544   \nstd             0.077267            0.155863            0.042583   \nmin            51.298317           -0.498315            0.000000   \n25%            51.438303           -0.210633            0.029023   \n50%            51.498780           -0.101910            0.058904   \n75%            51.556343           -0.010854            0.094620   \nmax            51.683185            0.279726            0.201403   \n\n       longitude_deviation  feature__balcony  feature__chain free  \\\ncount         44127.000000      44127.000000         44127.000000   \nmean              0.123699          0.038865             0.121218   \nstd               0.095220          0.193744             0.326940   \nmin               0.000000          0.000000             0.000000   \n25%               0.043551          0.000000             0.000000   \n50%               0.098750          0.000000             0.000000   \n75%               0.191727          0.000000             0.000000   \nmax               0.393895          2.000000             2.000000   \n\n       feature__no onward chain  feature__off street parking  \\\ncount              44127.000000                 44127.000000   \nmean                   0.058898                     0.047001   \nstd                    0.235437                     0.212071   \nmin                    0.000000                     0.000000   \n25%                    0.000000                     0.000000   \n50%                    0.000000                     0.000000   \n75%                    0.000000                     0.000000   \nmax                    1.000000                     2.000000   \n\n       feature__one bedroom  feature__private balcony  \\\ncount          44127.000000              44127.000000   \nmean               0.041834                  0.040111   \nstd                0.200211                  0.196338   \nmin                0.000000                  0.000000   \n25%                0.000000                  0.000000   \n50%                0.000000                  0.000000   \n75%                0.000000                  0.000000   \nmax                1.000000                  2.000000   \n\n       feature__share of freehold  feature__three bedrooms  \\\ncount                44127.000000             44127.000000   \nmean                     0.048428                 0.059374   \nstd                      0.214989                 0.236326   \nmin                      0.000000                 0.000000   \n25%                      0.000000                 0.000000   \n50%                      0.000000                 0.000000   \n75%                      0.000000                 0.000000   \nmax                      2.000000                 1.000000   \n\n       feature__two bedrooms  feature__two double bedrooms  \ncount           44127.000000                  44127.000000  \nmean                0.072586                      0.096857  \nstd                 0.259459                      0.295919  \nmin                 0.000000                      0.000000  \n25%                 0.000000                      0.000000  \n50%                 0.000000                      0.000000  \n75%                 0.000000                      0.000000  \nmax                 1.000000                      2.000000  ",
      "text/html": "<div>\n<style scoped>\n    .dataframe tbody tr th:only-of-type {\n        vertical-align: middle;\n    }\n\n    .dataframe tbody tr th {\n        vertical-align: top;\n    }\n\n    .dataframe thead th {\n        text-align: right;\n    }\n</style>\n<table border=\"1\" class=\"dataframe\">\n  <thead>\n    <tr style=\"text-align: right;\">\n      <th></th>\n      <th>Price</th>\n      <th>bedrooms</th>\n      <th>bathrooms</th>\n      <th>nearestStation</th>\n      <th>location.latitude</th>\n      <th>location.longitude</th>\n      <th>latitude_deviation</th>\n      <th>longitude_deviation</th>\n      <th>feature__balcony</th>\n      <th>feature__chain free</th>\n      <th>feature__no onward chain</th>\n      <th>feature__off street parking</th>\n      <th>feature__one bedroom</th>\n      <th>feature__private balcony</th>\n      <th>feature__share of freehold</th>\n      <th>feature__three bedrooms</th>\n      <th>feature__two bedrooms</th>\n      <th>feature__two double bedrooms</th>\n    </tr>\n  </thead>\n  <tbody>\n    <tr>\n      <th>count</th>\n      <td>44127.000000</td>\n      <td>44127.000000</td>\n      <td>44127.00000</td>\n      <td>44127.000000</td>\n      <td>44127.000000</td>\n      <td>44127.000000</td>\n      <td>44127.000000</td>\n      <td>44127.000000</td>\n      <td>44127.000000</td>\n      <td>44127.000000</td>\n      <td>44127.000000</td>\n      <td>44127.000000</td>\n      <td>44127.000000</td>\n      <td>44127.000000</td>\n      <td>44127.000000</td>\n      <td>44127.000000</td>\n      <td>44127.000000</td>\n      <td>44127.000000</td>\n    </tr>\n    <tr>\n      <th>mean</th>\n      <td>425.224642</td>\n      <td>1.990981</td>\n      <td>1.18134</td>\n      <td>0.438522</td>\n      <td>51.496711</td>\n      <td>-0.113106</td>\n      <td>0.064544</td>\n      <td>0.123699</td>\n      <td>0.038865</td>\n      <td>0.121218</td>\n      <td>0.058898</td>\n      <td>0.047001</td>\n      <td>0.041834</td>\n      <td>0.040111</td>\n      <td>0.048428</td>\n      <td>0.059374</td>\n      <td>0.072586</td>\n      <td>0.096857</td>\n    </tr>\n    <tr>\n      <th>std</th>\n      <td>107.203333</td>\n      <td>0.827621</td>\n      <td>0.40893</td>\n      <td>0.324152</td>\n      <td>0.077267</td>\n      <td>0.155863</td>\n      <td>0.042583</td>\n      <td>0.095220</td>\n      <td>0.193744</td>\n      <td>0.326940</td>\n      <td>0.235437</td>\n      <td>0.212071</td>\n      <td>0.200211</td>\n      <td>0.196338</td>\n      <td>0.214989</td>\n      <td>0.236326</td>\n      <td>0.259459</td>\n      <td>0.295919</td>\n    </tr>\n    <tr>\n      <th>min</th>\n      <td>100.000000</td>\n      <td>1.000000</td>\n      <td>1.00000</td>\n      <td>0.000000</td>\n      <td>51.298317</td>\n      <td>-0.498315</td>\n      <td>0.000000</td>\n      <td>0.000000</td>\n      <td>0.000000</td>\n      <td>0.000000</td>\n      <td>0.000000</td>\n      <td>0.000000</td>\n      <td>0.000000</td>\n      <td>0.000000</td>\n      <td>0.000000</td>\n      <td>0.000000</td>\n      <td>0.000000</td>\n      <td>0.000000</td>\n    </tr>\n    <tr>\n      <th>25%</th>\n      <td>349.950000</td>\n      <td>1.000000</td>\n      <td>1.00000</td>\n      <td>0.227551</td>\n      <td>51.438303</td>\n      <td>-0.210633</td>\n      <td>0.029023</td>\n      <td>0.043551</td>\n      <td>0.000000</td>\n      <td>0.000000</td>\n      <td>0.000000</td>\n      <td>0.000000</td>\n      <td>0.000000</td>\n      <td>0.000000</td>\n      <td>0.000000</td>\n      <td>0.000000</td>\n      <td>0.000000</td>\n      <td>0.000000</td>\n    </tr>\n    <tr>\n      <th>50%</th>\n      <td>425.000000</td>\n      <td>2.000000</td>\n      <td>1.00000</td>\n      <td>0.368351</td>\n      <td>51.498780</td>\n      <td>-0.101910</td>\n      <td>0.058904</td>\n      <td>0.098750</td>\n      <td>0.000000</td>\n      <td>0.000000</td>\n      <td>0.000000</td>\n      <td>0.000000</td>\n      <td>0.000000</td>\n      <td>0.000000</td>\n      <td>0.000000</td>\n      <td>0.000000</td>\n      <td>0.000000</td>\n      <td>0.000000</td>\n    </tr>\n    <tr>\n      <th>75%</th>\n      <td>515.000000</td>\n      <td>3.000000</td>\n      <td>1.00000</td>\n      <td>0.559486</td>\n      <td>51.556343</td>\n      <td>-0.010854</td>\n      <td>0.094620</td>\n      <td>0.191727</td>\n      <td>0.000000</td>\n      <td>0.000000</td>\n      <td>0.000000</td>\n      <td>0.000000</td>\n      <td>0.000000</td>\n      <td>0.000000</td>\n      <td>0.000000</td>\n      <td>0.000000</td>\n      <td>0.000000</td>\n      <td>0.000000</td>\n    </tr>\n    <tr>\n      <th>max</th>\n      <td>600.000000</td>\n      <td>7.000000</td>\n      <td>5.00000</td>\n      <td>7.197700</td>\n      <td>51.683185</td>\n      <td>0.279726</td>\n      <td>0.201403</td>\n      <td>0.393895</td>\n      <td>2.000000</td>\n      <td>2.000000</td>\n      <td>1.000000</td>\n      <td>2.000000</td>\n      <td>1.000000</td>\n      <td>2.000000</td>\n      <td>2.000000</td>\n      <td>1.000000</td>\n      <td>1.000000</td>\n      <td>2.000000</td>\n    </tr>\n  </tbody>\n</table>\n</div>"
     },
     "execution_count": 61,
     "metadata": {},
     "output_type": "execute_result"
    }
   ],
   "source": [
    "df = df.dropna()\n",
    "print(f\"{old_length} ==> {len(df)}\")\n",
    "old_length = len(df)\n",
    "df.describe()"
   ]
  },
  {
   "cell_type": "code",
   "execution_count": 62,
   "metadata": {
    "execution": {
     "iopub.execute_input": "2022-11-29T20:53:45.545706Z",
     "iopub.status.busy": "2022-11-29T20:53:45.545214Z",
     "iopub.status.idle": "2022-11-29T20:53:45.627915Z",
     "shell.execute_reply": "2022-11-29T20:53:45.626820Z",
     "shell.execute_reply.started": "2022-11-29T20:53:45.545663Z"
    }
   },
   "outputs": [
    {
     "name": "stdout",
     "output_type": "stream",
     "text": [
      "(39714, 21) (4413, 21) (39714, 1) (4413, 1) (39714, 1) (4413, 1) (39714, 1) (4413, 1)\n"
     ]
    }
   ],
   "source": [
    "X_train, X_test, y_train, y_test, X_train_index, X_test_index, y_train_index, y_test_index, df_features, df_labels = create_train_test_data(\n",
    "    df,\n",
    "    categories=categories,\n",
    "    RANDOM_STATE=RANDOM_STATE, return_index=True,\n",
    "    drop_nulls=True)\n",
    "\n",
    "print(X_train.shape, X_test.shape, y_train.shape, y_test.shape, X_train_index.shape, X_test_index.shape,\n",
    "      y_train_index.shape, y_test_index.shape)\n"
   ]
  },
  {
   "cell_type": "code",
   "execution_count": 63,
   "metadata": {
    "execution": {
     "iopub.execute_input": "2022-11-29T20:53:45.629960Z",
     "iopub.status.busy": "2022-11-29T20:53:45.629598Z",
     "iopub.status.idle": "2022-11-29T20:53:45.745324Z",
     "shell.execute_reply": "2022-11-29T20:53:45.744002Z",
     "shell.execute_reply.started": "2022-11-29T20:53:45.629931Z"
    }
   },
   "outputs": [
    {
     "data": {
      "text/plain": "'mse +epochs=500 +learn=0.003'"
     },
     "execution_count": 63,
     "metadata": {},
     "output_type": "execute_result"
    }
   ],
   "source": [
    "trainable_model, ALGORITHM_DETAIL, chosen_epochs, chosen_params = make_simple_ann(selected_neural_network)\n",
    "\n",
    "ALGORITHM_DETAIL"
   ]
  },
  {
   "cell_type": "code",
   "execution_count": 64,
   "metadata": {
    "execution": {
     "iopub.execute_input": "2022-11-29T20:53:45.747689Z",
     "iopub.status.busy": "2022-11-29T20:53:45.747211Z",
     "iopub.status.idle": "2022-11-29T20:53:45.794891Z",
     "shell.execute_reply": "2022-11-29T20:53:45.794099Z",
     "shell.execute_reply.started": "2022-11-29T20:53:45.747642Z"
    }
   },
   "outputs": [
    {
     "name": "stdout",
     "output_type": "stream",
     "text": [
      "Model: \"sequential_2\"\n",
      "_________________________________________________________________\n",
      " Layer (type)                Output Shape              Param #   \n",
      "=================================================================\n",
      " dense_5 (Dense)             (None, 21)                462       \n",
      "                                                                 \n",
      " normalization_2 (Normalizat  (None, 21)               43        \n",
      " ion)                                                            \n",
      "                                                                 \n",
      " dense_6 (Dense)             (None, 21)                462       \n",
      "                                                                 \n",
      " dense_7 (Dense)             (None, 1)                 22        \n",
      "                                                                 \n",
      "=================================================================\n",
      "Total params: 989\n",
      "Trainable params: 946\n",
      "Non-trainable params: 43\n",
      "_________________________________________________________________\n"
     ]
    }
   ],
   "source": [
    "trainable_model.summary()"
   ]
  },
  {
   "cell_type": "code",
   "execution_count": 65,
   "metadata": {
    "execution": {
     "iopub.execute_input": "2022-11-29T20:53:45.796664Z",
     "iopub.status.busy": "2022-11-29T20:53:45.795997Z",
     "iopub.status.idle": "2022-11-29T20:53:45.801330Z",
     "shell.execute_reply": "2022-11-29T20:53:45.800526Z",
     "shell.execute_reply.started": "2022-11-29T20:53:45.796628Z"
    },
    "pycharm": {
     "name": "#%%time\n"
    }
   },
   "outputs": [],
   "source": [
    "callback_x1 = tf.keras.callbacks.EarlyStopping(\n",
    "    monitor=\"val_loss\",\n",
    "    min_delta=0,\n",
    "    patience=0,\n",
    "    verbose=0,\n",
    "    mode=\"auto\",\n",
    "    baseline=None,\n",
    "    restore_best_weights=False,\n",
    ")\n",
    "\n",
    "# https://keras.io/api/callbacks/early_stopping/\n",
    "callback_x2 = tf.keras.callbacks.EarlyStopping(monitor='loss', patience=3)\n",
    "\n"
   ]
  },
  {
   "cell_type": "code",
   "execution_count": 66,
   "metadata": {
    "execution": {
     "iopub.execute_input": "2022-11-29T21:11:07.786286Z",
     "iopub.status.busy": "2022-11-29T21:11:07.785570Z"
    },
    "pycharm": {
     "name": "#%%time\n"
    }
   },
   "outputs": [
    {
     "name": "stdout",
     "output_type": "stream",
     "text": [
      "Epoch 1/500\n",
      "1117/1117 [==============================] - 4s 3ms/step - loss: 12370.4590 - val_loss: 7944.4570\n",
      "Epoch 2/500\n",
      "1117/1117 [==============================] - 4s 3ms/step - loss: 7191.2705 - val_loss: 6670.3125\n",
      "Epoch 3/500\n",
      "1117/1117 [==============================] - 4s 3ms/step - loss: 6660.2061 - val_loss: 6324.2598\n",
      "Epoch 4/500\n",
      "1117/1117 [==============================] - 4s 3ms/step - loss: 6404.6172 - val_loss: 6291.5068\n",
      "Epoch 5/500\n",
      "1117/1117 [==============================] - 4s 3ms/step - loss: 6185.2490 - val_loss: 6665.2290\n",
      "Epoch 6/500\n",
      "1117/1117 [==============================] - 3s 3ms/step - loss: 6095.8994 - val_loss: 5905.1748\n",
      "Epoch 7/500\n",
      "1117/1117 [==============================] - 4s 3ms/step - loss: 6108.4458 - val_loss: 5819.4922\n",
      "Epoch 8/500\n",
      "1117/1117 [==============================] - 3s 3ms/step - loss: 5929.3315 - val_loss: 5704.4683\n",
      "Epoch 9/500\n",
      "1117/1117 [==============================] - 4s 3ms/step - loss: 5899.8936 - val_loss: 5674.0645\n",
      "Epoch 10/500\n",
      "1117/1117 [==============================] - 4s 3ms/step - loss: 5854.6094 - val_loss: 5709.4531\n",
      "Epoch 11/500\n",
      "1117/1117 [==============================] - 3s 3ms/step - loss: 5894.5688 - val_loss: 5649.1460\n",
      "Epoch 12/500\n",
      "1117/1117 [==============================] - 4s 3ms/step - loss: 5866.0146 - val_loss: 5712.0166\n",
      "Epoch 13/500\n",
      "1117/1117 [==============================] - 3s 3ms/step - loss: 5793.0518 - val_loss: 5643.3403\n",
      "Epoch 14/500\n",
      "1117/1117 [==============================] - 4s 3ms/step - loss: 5838.8965 - val_loss: 5608.2563\n",
      "Epoch 15/500\n",
      "1117/1117 [==============================] - 3s 3ms/step - loss: 5791.9897 - val_loss: 5690.5522\n",
      "Epoch 16/500\n",
      "1117/1117 [==============================] - 4s 3ms/step - loss: 5765.0181 - val_loss: 5571.6841\n",
      "Epoch 17/500\n",
      "1117/1117 [==============================] - 4s 3ms/step - loss: 5711.4429 - val_loss: 5774.5972\n",
      "Epoch 18/500\n",
      "1117/1117 [==============================] - 4s 3ms/step - loss: 5731.6665 - val_loss: 6361.5786\n",
      "Epoch 19/500\n",
      "1117/1117 [==============================] - 4s 3ms/step - loss: 5721.1768 - val_loss: 5662.1646\n",
      "Epoch 20/500\n",
      "1117/1117 [==============================] - 3s 3ms/step - loss: 5701.9790 - val_loss: 5540.4106\n",
      "Epoch 21/500\n",
      "1117/1117 [==============================] - 4s 3ms/step - loss: 5664.0059 - val_loss: 5446.1572\n",
      "Epoch 22/500\n",
      "1117/1117 [==============================] - 4s 3ms/step - loss: 5679.2197 - val_loss: 5999.9355\n",
      "Epoch 23/500\n",
      "1117/1117 [==============================] - 3s 3ms/step - loss: 5666.1211 - val_loss: 5559.1460\n",
      "Epoch 24/500\n",
      "1117/1117 [==============================] - 4s 3ms/step - loss: 5640.1265 - val_loss: 5474.2188\n",
      "Epoch 25/500\n",
      "1117/1117 [==============================] - 4s 3ms/step - loss: 5617.7070 - val_loss: 5568.2173\n",
      "Epoch 26/500\n",
      "1117/1117 [==============================] - 3s 3ms/step - loss: 5610.6953 - val_loss: 5470.5742\n",
      "Epoch 27/500\n",
      "1117/1117 [==============================] - 3s 3ms/step - loss: 5620.6616 - val_loss: 5408.1045\n",
      "Epoch 28/500\n",
      "1117/1117 [==============================] - 3s 3ms/step - loss: 5613.7690 - val_loss: 5487.8726\n",
      "Epoch 29/500\n",
      "1117/1117 [==============================] - 3s 3ms/step - loss: 5596.0952 - val_loss: 5467.9990\n",
      "Epoch 30/500\n",
      "1117/1117 [==============================] - 4s 3ms/step - loss: 5573.3994 - val_loss: 5431.2280\n",
      "Epoch 31/500\n",
      "1117/1117 [==============================] - 3s 3ms/step - loss: 5566.7671 - val_loss: 5389.3164\n",
      "Epoch 32/500\n",
      "1117/1117 [==============================] - 4s 3ms/step - loss: 5531.0493 - val_loss: 5403.0723\n",
      "Epoch 33/500\n",
      "1117/1117 [==============================] - 4s 3ms/step - loss: 5538.5342 - val_loss: 5374.4863\n",
      "Epoch 34/500\n",
      "1117/1117 [==============================] - 3s 3ms/step - loss: 5537.2358 - val_loss: 5328.7588\n",
      "Epoch 35/500\n",
      "1117/1117 [==============================] - 3s 3ms/step - loss: 5530.4585 - val_loss: 5401.1670\n",
      "Epoch 36/500\n",
      "1117/1117 [==============================] - 3s 3ms/step - loss: 5510.0635 - val_loss: 5411.3428\n",
      "Epoch 37/500\n",
      "1117/1117 [==============================] - 4s 3ms/step - loss: 5522.3755 - val_loss: 5537.5869\n",
      "Epoch 38/500\n",
      "1117/1117 [==============================] - 4s 3ms/step - loss: 5495.5957 - val_loss: 5294.7964\n",
      "Epoch 39/500\n",
      "1117/1117 [==============================] - 3s 3ms/step - loss: 5474.0317 - val_loss: 5289.5679\n",
      "Epoch 40/500\n",
      "1117/1117 [==============================] - 3s 3ms/step - loss: 5471.9932 - val_loss: 5330.0103\n",
      "Epoch 41/500\n",
      "1117/1117 [==============================] - 3s 3ms/step - loss: 5465.0815 - val_loss: 5413.6265\n",
      "Epoch 42/500\n",
      "1117/1117 [==============================] - 3s 3ms/step - loss: 5443.3179 - val_loss: 5275.1689\n",
      "Epoch 43/500\n",
      "1117/1117 [==============================] - 3s 3ms/step - loss: 5457.4536 - val_loss: 5411.7446\n",
      "Epoch 44/500\n",
      "1117/1117 [==============================] - 3s 3ms/step - loss: 5472.5728 - val_loss: 5356.4106\n",
      "Epoch 45/500\n",
      "1117/1117 [==============================] - 3s 3ms/step - loss: 5434.8169 - val_loss: 5339.6582\n",
      "Epoch 46/500\n",
      "1117/1117 [==============================] - 3s 3ms/step - loss: 5461.3203 - val_loss: 5276.4961\n",
      "Epoch 47/500\n",
      "1117/1117 [==============================] - 3s 3ms/step - loss: 5445.3647 - val_loss: 5319.4746\n",
      "Epoch 48/500\n",
      "1117/1117 [==============================] - 3s 2ms/step - loss: 5424.6245 - val_loss: 5263.4053\n",
      "Epoch 49/500\n",
      "1117/1117 [==============================] - 3s 3ms/step - loss: 5426.9644 - val_loss: 5336.7070\n",
      "Epoch 50/500\n",
      "1117/1117 [==============================] - 3s 2ms/step - loss: 5433.6870 - val_loss: 5284.1260\n",
      "Epoch 51/500\n",
      "1117/1117 [==============================] - 3s 2ms/step - loss: 5432.2529 - val_loss: 5283.7671\n",
      "Epoch 52/500\n",
      "1096/1117 [============================>.] - ETA: 0s - loss: 5446.6191Restoring model weights from the end of the best epoch: 42.\n",
      "1117/1117 [==============================] - 3s 3ms/step - loss: 5440.4390 - val_loss: 5301.1904\n",
      "Epoch 52: early stopping\n"
     ]
    }
   ],
   "source": [
    "val_split = 0.1\n",
    "\n",
    "callback = tf.keras.callbacks.EarlyStopping(\n",
    "    monitor=\"loss\", #\"val_loss\",\n",
    "    min_delta=50, #10, #50,\n",
    "    patience=10,\n",
    "    verbose=1,\n",
    "    mode=\"min\",\n",
    "    baseline=None,\n",
    "    restore_best_weights=True # False,\n",
    ")\n",
    "\n",
    "pipe_start = time()\n",
    "\n",
    "history = trainable_model.fit(\n",
    "    X_train,\n",
    "    y_train,\n",
    "    epochs=chosen_epochs,\n",
    "    # verbose=0 to suppress logging.\n",
    "    verbose=1,\n",
    "    # Calculate validation results on 20% of the training data.\n",
    "    validation_split=val_split,  #0.2,\n",
    "    callbacks=[callback],\n",
    ")\n",
    "pipe_end = time()\n",
    "estimated_time = round((pipe_end - pipe_start), 2)"
   ]
  },
  {
   "cell_type": "code",
   "execution_count": 67,
   "metadata": {
    "execution": {
     "iopub.execute_input": "2022-11-29T21:03:02.431802Z",
     "iopub.status.busy": "2022-11-29T21:03:02.431551Z",
     "iopub.status.idle": "2022-11-29T21:03:02.435652Z",
     "shell.execute_reply": "2022-11-29T21:03:02.434738Z",
     "shell.execute_reply.started": "2022-11-29T21:03:02.431780Z"
    }
   },
   "outputs": [],
   "source": [
    "#ALGORITHM_DETAIL.replace(\"epochs=\", f\"epochs={len(hist)}/\")"
   ]
  },
  {
   "cell_type": "code",
   "execution_count": 68,
   "metadata": {
    "execution": {
     "iopub.execute_input": "2022-11-29T21:03:02.437472Z",
     "iopub.status.busy": "2022-11-29T21:03:02.436763Z",
     "iopub.status.idle": "2022-11-29T21:03:02.451981Z",
     "shell.execute_reply": "2022-11-29T21:03:02.451081Z",
     "shell.execute_reply.started": "2022-11-29T21:03:02.437449Z"
    }
   },
   "outputs": [
    {
     "name": "stdout",
     "output_type": "stream",
     "text": [
      "stopped at 52, loss=5424.62 valloss=5263.41\n",
      "loss=5424.62 valloss=5263.41 +valsplit=0.1 stop=52/500 \n",
      "mse +epochs=500 +learn=0.003\n"
     ]
    },
    {
     "data": {
      "text/plain": "           loss     val_loss  epoch\n47  5424.624512  5263.405273     47\n48  5426.964355  5336.707031     48\n49  5433.687012  5284.125977     49\n50  5432.252930  5283.767090     50\n51  5440.438965  5301.190430     51",
      "text/html": "<div>\n<style scoped>\n    .dataframe tbody tr th:only-of-type {\n        vertical-align: middle;\n    }\n\n    .dataframe tbody tr th {\n        vertical-align: top;\n    }\n\n    .dataframe thead th {\n        text-align: right;\n    }\n</style>\n<table border=\"1\" class=\"dataframe\">\n  <thead>\n    <tr style=\"text-align: right;\">\n      <th></th>\n      <th>loss</th>\n      <th>val_loss</th>\n      <th>epoch</th>\n    </tr>\n  </thead>\n  <tbody>\n    <tr>\n      <th>47</th>\n      <td>5424.624512</td>\n      <td>5263.405273</td>\n      <td>47</td>\n    </tr>\n    <tr>\n      <th>48</th>\n      <td>5426.964355</td>\n      <td>5336.707031</td>\n      <td>48</td>\n    </tr>\n    <tr>\n      <th>49</th>\n      <td>5433.687012</td>\n      <td>5284.125977</td>\n      <td>49</td>\n    </tr>\n    <tr>\n      <th>50</th>\n      <td>5432.252930</td>\n      <td>5283.767090</td>\n      <td>50</td>\n    </tr>\n    <tr>\n      <th>51</th>\n      <td>5440.438965</td>\n      <td>5301.190430</td>\n      <td>51</td>\n    </tr>\n  </tbody>\n</table>\n</div>"
     },
     "execution_count": 68,
     "metadata": {},
     "output_type": "execute_result"
    }
   ],
   "source": [
    "hist = pd.DataFrame(history.history)\n",
    "hist['epoch'] = history.epoch\n",
    "\n",
    "early_end_lossX = hist.iloc[-1]['loss']\n",
    "early_end_loss = hist['loss'].min()\n",
    "early_end_valloss = hist['val_loss'].min()\n",
    "\n",
    "more_detail = f\"loss={round(early_end_loss,2)} valloss={round(early_end_valloss,2)}\"\n",
    "more_detail += f' +valsplit={val_split}'\n",
    "\n",
    "if len(hist) != chosen_epochs:\n",
    "    print(f'stopped at {len(hist)}, loss={round(early_end_loss,2)} valloss={round(early_end_valloss,2)}')\n",
    "    #ALGORITHM_DETAIL += f\" +stop={len(hist)}\"\n",
    "    more_detail += f\" stop={len(hist)}/{chosen_epochs} \"\n",
    "    #more_detail += ALGORITHM_DETAIL.replace(\"epochs=\", f\"epochs={len(hist)}/\")\n",
    "print(more_detail)\n",
    "print(ALGORITHM_DETAIL)\n",
    "    \n",
    "hist.tail()"
   ]
  },
  {
   "cell_type": "code",
   "execution_count": 68,
   "metadata": {},
   "outputs": [],
   "source": []
  },
  {
   "cell_type": "code",
   "execution_count": 68,
   "metadata": {},
   "outputs": [],
   "source": []
  },
  {
   "cell_type": "code",
   "execution_count": 69,
   "metadata": {
    "execution": {
     "iopub.execute_input": "2022-11-29T21:03:02.453332Z",
     "iopub.status.busy": "2022-11-29T21:03:02.453073Z",
     "iopub.status.idle": "2022-11-29T21:03:08.810857Z",
     "shell.execute_reply": "2022-11-29T21:03:08.809933Z",
     "shell.execute_reply.started": "2022-11-29T21:03:02.453312Z"
    }
   },
   "outputs": [
    {
     "data": {
      "text/plain": "<Figure size 432x288 with 1 Axes>",
      "image/png": "[encoded data removed]"
     },
     "metadata": {
      "needs_background": "light"
     },
     "output_type": "display_data"
    }
   ],
   "source": [
    "def plot_loss(history):\n",
    "    plt.plot(history.history['loss'], label='loss')\n",
    "    plt.plot(history.history['val_loss'], label='val_loss')\n",
    "    #plt.ylim([0, 10])\n",
    "    min_y = min(min(history.history['val_loss']),min(history.history['loss'])) - 100\n",
    "    #max_y = min(max(history.history['val_loss']),max(history.history['loss'])) + 500\n",
    "    max_y = min(sorted(history.history['val_loss'])[-3],sorted(history.history['loss'])[-3]) + 100\n",
    "    plt.ylim([min_y, max_y])\n",
    "    plt.xlabel('Epoch')\n",
    "    plt.ylabel('Error [Property Price]')\n",
    "    plt.legend()\n",
    "    plt.grid(True)\n",
    "\n",
    "\n",
    "plot_loss(history)"
   ]
  },
  {
   "cell_type": "code",
   "execution_count": 70,
   "metadata": {
    "execution": {
     "iopub.execute_input": "2022-11-29T21:03:08.813123Z",
     "iopub.status.busy": "2022-11-29T21:03:08.812174Z",
     "iopub.status.idle": "2022-11-29T21:03:09.204519Z",
     "shell.execute_reply": "2022-11-29T21:03:09.203523Z",
     "shell.execute_reply.started": "2022-11-29T21:03:08.813094Z"
    }
   },
   "outputs": [
    {
     "name": "stdout",
     "output_type": "stream",
     "text": [
      "138/138 [==============================] - 0s 1ms/step\n"
     ]
    }
   ],
   "source": [
    "y_pred = trainable_model.predict(X_test)"
   ]
  },
  {
   "cell_type": "code",
   "execution_count": 71,
   "metadata": {
    "execution": {
     "iopub.execute_input": "2022-11-29T21:03:09.206697Z",
     "iopub.status.busy": "2022-11-29T21:03:09.206401Z",
     "iopub.status.idle": "2022-11-29T21:03:09.214434Z",
     "shell.execute_reply": "2022-11-29T21:03:09.213376Z",
     "shell.execute_reply.started": "2022-11-29T21:03:09.206672Z"
    }
   },
   "outputs": [
    {
     "name": "stdout",
     "output_type": "stream",
     "text": [
      "----------Neural Network m02 two layers----------\n",
      "R square Accuracy 0.540824203913349\n",
      "Mean Absolute Error Accuracy 57.717542602234786\n",
      "Mean Squared Error Accuracy 5187.036047526753\n",
      "Root Mean Squared Error 72.02108057733342\n"
     ]
    }
   ],
   "source": [
    "y_pred = y_pred.reshape((-1, 1))\n",
    "\n",
    "R2 = r2_score(y_test, y_pred)\n",
    "MAE = mean_absolute_error(y_test, y_pred)\n",
    "MSE = mean_squared_error(y_test, y_pred)\n",
    "RMSE = math.sqrt(MSE)\n",
    "print('-' * 10 + ALGORITHM + '-' * 10)\n",
    "print('R square Accuracy', R2)\n",
    "print('Mean Absolute Error Accuracy', MAE)\n",
    "print('Mean Squared Error Accuracy', MSE)\n",
    "print('Root Mean Squared Error', RMSE)"
   ]
  },
  {
   "cell_type": "code",
   "execution_count": 72,
   "metadata": {
    "execution": {
     "iopub.execute_input": "2022-11-29T21:03:09.216064Z",
     "iopub.status.busy": "2022-11-29T21:03:09.215797Z",
     "iopub.status.idle": "2022-11-29T21:03:09.220376Z",
     "shell.execute_reply": "2022-11-29T21:03:09.219511Z",
     "shell.execute_reply.started": "2022-11-29T21:03:09.216035Z"
    }
   },
   "outputs": [],
   "source": [
    "if debug_mode:\n",
    "    print(y_test_index.reshape((-1, 1)).shape);\n",
    "    print(y_pred.reshape((-1, 1)).shape);\n",
    "    print(y_test.shape);\n",
    "    print(y_test_index.shape);\n",
    "    print(y_pred.shape);\n",
    "    print(y_test.shape)"
   ]
  },
  {
   "cell_type": "code",
   "execution_count": 73,
   "metadata": {
    "execution": {
     "iopub.execute_input": "2022-11-29T21:03:09.222826Z",
     "iopub.status.busy": "2022-11-29T21:03:09.222443Z",
     "iopub.status.idle": "2022-11-29T21:03:09.242854Z",
     "shell.execute_reply": "2022-11-29T21:03:09.241809Z",
     "shell.execute_reply.started": "2022-11-29T21:03:09.222795Z"
    }
   },
   "outputs": [
    {
     "data": {
      "text/plain": "           actual   predicted  difference   diff 1 %   diff 2 %\nreference                                                      \n85490754   400.00  417.912109   17.912109   4.478027   4.286095\n119328242  369.95  389.267334   19.317334   5.221607   4.962485\n125716790  350.00  407.532837   57.532837  16.437953  14.117350\n122440040  549.00  491.886108   57.113892  10.403259  11.611202\n120508103  495.00  463.126709   31.873291   6.439049   6.882197\n...           ...         ...         ...        ...        ...\n68620869   475.00  524.029358   49.029358  10.321970   9.356223\n85735665   575.00  568.845154    6.154846   1.070408   1.081990\n125706338  400.00  438.257843   38.257843   9.564461   8.729528\n112739354  450.00  498.617218   48.617218  10.803826   9.750409\n122707001  275.00  365.996155   90.996155  33.089511  24.862599\n\n[4413 rows x 5 columns]",
      "text/html": "<div>\n<style scoped>\n    .dataframe tbody tr th:only-of-type {\n        vertical-align: middle;\n    }\n\n    .dataframe tbody tr th {\n        vertical-align: top;\n    }\n\n    .dataframe thead th {\n        text-align: right;\n    }\n</style>\n<table border=\"1\" class=\"dataframe\">\n  <thead>\n    <tr style=\"text-align: right;\">\n      <th></th>\n      <th>actual</th>\n      <th>predicted</th>\n      <th>difference</th>\n      <th>diff 1 %</th>\n      <th>diff 2 %</th>\n    </tr>\n    <tr>\n      <th>reference</th>\n      <th></th>\n      <th></th>\n      <th></th>\n      <th></th>\n      <th></th>\n    </tr>\n  </thead>\n  <tbody>\n    <tr>\n      <th>85490754</th>\n      <td>400.00</td>\n      <td>417.912109</td>\n      <td>17.912109</td>\n      <td>4.478027</td>\n      <td>4.286095</td>\n    </tr>\n    <tr>\n      <th>119328242</th>\n      <td>369.95</td>\n      <td>389.267334</td>\n      <td>19.317334</td>\n      <td>5.221607</td>\n      <td>4.962485</td>\n    </tr>\n    <tr>\n      <th>125716790</th>\n      <td>350.00</td>\n      <td>407.532837</td>\n      <td>57.532837</td>\n      <td>16.437953</td>\n      <td>14.117350</td>\n    </tr>\n    <tr>\n      <th>122440040</th>\n      <td>549.00</td>\n      <td>491.886108</td>\n      <td>57.113892</td>\n      <td>10.403259</td>\n      <td>11.611202</td>\n    </tr>\n    <tr>\n      <th>120508103</th>\n      <td>495.00</td>\n      <td>463.126709</td>\n      <td>31.873291</td>\n      <td>6.439049</td>\n      <td>6.882197</td>\n    </tr>\n    <tr>\n      <th>...</th>\n      <td>...</td>\n      <td>...</td>\n      <td>...</td>\n      <td>...</td>\n      <td>...</td>\n    </tr>\n    <tr>\n      <th>68620869</th>\n      <td>475.00</td>\n      <td>524.029358</td>\n      <td>49.029358</td>\n      <td>10.321970</td>\n      <td>9.356223</td>\n    </tr>\n    <tr>\n      <th>85735665</th>\n      <td>575.00</td>\n      <td>568.845154</td>\n      <td>6.154846</td>\n      <td>1.070408</td>\n      <td>1.081990</td>\n    </tr>\n    <tr>\n      <th>125706338</th>\n      <td>400.00</td>\n      <td>438.257843</td>\n      <td>38.257843</td>\n      <td>9.564461</td>\n      <td>8.729528</td>\n    </tr>\n    <tr>\n      <th>112739354</th>\n      <td>450.00</td>\n      <td>498.617218</td>\n      <td>48.617218</td>\n      <td>10.803826</td>\n      <td>9.750409</td>\n    </tr>\n    <tr>\n      <th>122707001</th>\n      <td>275.00</td>\n      <td>365.996155</td>\n      <td>90.996155</td>\n      <td>33.089511</td>\n      <td>24.862599</td>\n    </tr>\n  </tbody>\n</table>\n<p>4413 rows × 5 columns</p>\n</div>"
     },
     "execution_count": 73,
     "metadata": {},
     "output_type": "execute_result"
    }
   ],
   "source": [
    "compare = np.hstack((y_test_index, y_test, y_pred))\n",
    "compare_df = DataFrame(compare, columns=['reference', 'actual', 'predicted'])\n",
    "compare_df['difference'] = abs(compare_df['actual'] - compare_df['predicted'])\n",
    "compare_df['diff 1 %'] = abs((compare_df['actual'] - compare_df['predicted']) / compare_df['actual'] * 100)\n",
    "compare_df['diff 2 %'] = abs((compare_df['actual'] - compare_df['predicted']) / compare_df['predicted']) * 100\n",
    "compare_df['reference'] = compare_df['reference'].astype(int)\n",
    "compare_df.set_index('reference', inplace=True)\n",
    "compare_df"
   ]
  },
  {
   "cell_type": "code",
   "execution_count": 74,
   "metadata": {
    "execution": {
     "iopub.execute_input": "2022-11-29T21:03:09.245021Z",
     "iopub.status.busy": "2022-11-29T21:03:09.244611Z",
     "iopub.status.idle": "2022-11-29T21:03:09.274433Z",
     "shell.execute_reply": "2022-11-29T21:03:09.273600Z",
     "shell.execute_reply.started": "2022-11-29T21:03:09.244986Z"
    }
   },
   "outputs": [
    {
     "data": {
      "text/plain": "           actual  predicted  difference    diff 1 %   diff 2 %  Price  \\\n122265818     160        542  382.378906  238.986816  70.500328    160   \n109722224     108        328  220.814178  204.457573  67.154701    108   \n85667184      122        323  201.317535  165.014373  62.266198    122   \n83639617      190        446  256.764496  135.139208  57.472001    190   \n124878578     210        453  243.466431  115.936396  53.690067    210   \n...           ...        ...         ...         ...        ...    ...   \n85786272      375        374    0.120117    0.032031   0.032042    375   \n124927661     325        324    0.102692    0.031597   0.031607    325   \n125344295     289        290    0.086133    0.029706   0.029697    289   \n120778334     510        510    0.122925    0.024103   0.024097    510   \n123938234     325        325    0.026825    0.008254   0.008253    325   \n\n           bedrooms  bathrooms  nearestStation  location.latitude  \\\n122265818         3          1        0.166024          51.510420   \n109722224         1          1        0.302667          51.406803   \n85667184          1          1        0.838896          51.540462   \n83639617          2          2        0.162816          51.491264   \n124878578         2          1        0.104972          51.522090   \n...             ...        ...             ...                ...   \n85786272          1          1        0.384006          51.456493   \n124927661         1          1        0.195341          51.591999   \n125344295         1          1        0.240954          51.397908   \n120778334         3          2        0.638508          51.398407   \n123938234         2          1        0.646957          51.660888   \n\n           location.longitude  latitude_deviation  longitude_deviation  \\\n122265818           -0.037730            0.010700             0.066690   \n109722224           -0.261328            0.092917             0.156908   \n85667184            -0.280301            0.040742             0.175881   \n83639617             0.064660            0.008456             0.169080   \n124878578           -0.020783            0.022370             0.083637   \n...                       ...                 ...                  ...   \n85786272            -0.329095            0.043227             0.224675   \n124927661           -0.283448            0.092279             0.179028   \n125344295           -0.065495            0.101812             0.038925   \n120778334           -0.115222            0.101313             0.010802   \n123938234           -0.077846            0.161168             0.026574   \n\n           tenure.tenureType  \n122265818           FREEHOLD  \n109722224          LEASEHOLD  \n85667184           LEASEHOLD  \n83639617           LEASEHOLD  \n124878578          LEASEHOLD  \n...                      ...  \n85786272   SHARE_OF_FREEHOLD  \n124927661          LEASEHOLD  \n125344295          LEASEHOLD  \n120778334           FREEHOLD  \n123938234          LEASEHOLD  \n\n[4413 rows x 14 columns]",
      "text/html": "<div>\n<style scoped>\n    .dataframe tbody tr th:only-of-type {\n        vertical-align: middle;\n    }\n\n    .dataframe tbody tr th {\n        vertical-align: top;\n    }\n\n    .dataframe thead th {\n        text-align: right;\n    }\n</style>\n<table border=\"1\" class=\"dataframe\">\n  <thead>\n    <tr style=\"text-align: right;\">\n      <th></th>\n      <th>actual</th>\n      <th>predicted</th>\n      <th>difference</th>\n      <th>diff 1 %</th>\n      <th>diff 2 %</th>\n      <th>Price</th>\n      <th>bedrooms</th>\n      <th>bathrooms</th>\n      <th>nearestStation</th>\n      <th>location.latitude</th>\n      <th>location.longitude</th>\n      <th>latitude_deviation</th>\n      <th>longitude_deviation</th>\n      <th>tenure.tenureType</th>\n    </tr>\n  </thead>\n  <tbody>\n    <tr>\n      <th>122265818</th>\n      <td>160</td>\n      <td>542</td>\n      <td>382.378906</td>\n      <td>238.986816</td>\n      <td>70.500328</td>\n      <td>160</td>\n      <td>3</td>\n      <td>1</td>\n      <td>0.166024</td>\n      <td>51.510420</td>\n      <td>-0.037730</td>\n      <td>0.010700</td>\n      <td>0.066690</td>\n      <td>FREEHOLD</td>\n    </tr>\n    <tr>\n      <th>109722224</th>\n      <td>108</td>\n      <td>328</td>\n      <td>220.814178</td>\n      <td>204.457573</td>\n      <td>67.154701</td>\n      <td>108</td>\n      <td>1</td>\n      <td>1</td>\n      <td>0.302667</td>\n      <td>51.406803</td>\n      <td>-0.261328</td>\n      <td>0.092917</td>\n      <td>0.156908</td>\n      <td>LEASEHOLD</td>\n    </tr>\n    <tr>\n      <th>85667184</th>\n      <td>122</td>\n      <td>323</td>\n      <td>201.317535</td>\n      <td>165.014373</td>\n      <td>62.266198</td>\n      <td>122</td>\n      <td>1</td>\n      <td>1</td>\n      <td>0.838896</td>\n      <td>51.540462</td>\n      <td>-0.280301</td>\n      <td>0.040742</td>\n      <td>0.175881</td>\n      <td>LEASEHOLD</td>\n    </tr>\n    <tr>\n      <th>83639617</th>\n      <td>190</td>\n      <td>446</td>\n      <td>256.764496</td>\n      <td>135.139208</td>\n      <td>57.472001</td>\n      <td>190</td>\n      <td>2</td>\n      <td>2</td>\n      <td>0.162816</td>\n      <td>51.491264</td>\n      <td>0.064660</td>\n      <td>0.008456</td>\n      <td>0.169080</td>\n      <td>LEASEHOLD</td>\n    </tr>\n    <tr>\n      <th>124878578</th>\n      <td>210</td>\n      <td>453</td>\n      <td>243.466431</td>\n      <td>115.936396</td>\n      <td>53.690067</td>\n      <td>210</td>\n      <td>2</td>\n      <td>1</td>\n      <td>0.104972</td>\n      <td>51.522090</td>\n      <td>-0.020783</td>\n      <td>0.022370</td>\n      <td>0.083637</td>\n      <td>LEASEHOLD</td>\n    </tr>\n    <tr>\n      <th>...</th>\n      <td>...</td>\n      <td>...</td>\n      <td>...</td>\n      <td>...</td>\n      <td>...</td>\n      <td>...</td>\n      <td>...</td>\n      <td>...</td>\n      <td>...</td>\n      <td>...</td>\n      <td>...</td>\n      <td>...</td>\n      <td>...</td>\n      <td>...</td>\n    </tr>\n    <tr>\n      <th>85786272</th>\n      <td>375</td>\n      <td>374</td>\n      <td>0.120117</td>\n      <td>0.032031</td>\n      <td>0.032042</td>\n      <td>375</td>\n      <td>1</td>\n      <td>1</td>\n      <td>0.384006</td>\n      <td>51.456493</td>\n      <td>-0.329095</td>\n      <td>0.043227</td>\n      <td>0.224675</td>\n      <td>SHARE_OF_FREEHOLD</td>\n    </tr>\n    <tr>\n      <th>124927661</th>\n      <td>325</td>\n      <td>324</td>\n      <td>0.102692</td>\n      <td>0.031597</td>\n      <td>0.031607</td>\n      <td>325</td>\n      <td>1</td>\n      <td>1</td>\n      <td>0.195341</td>\n      <td>51.591999</td>\n      <td>-0.283448</td>\n      <td>0.092279</td>\n      <td>0.179028</td>\n      <td>LEASEHOLD</td>\n    </tr>\n    <tr>\n      <th>125344295</th>\n      <td>289</td>\n      <td>290</td>\n      <td>0.086133</td>\n      <td>0.029706</td>\n      <td>0.029697</td>\n      <td>289</td>\n      <td>1</td>\n      <td>1</td>\n      <td>0.240954</td>\n      <td>51.397908</td>\n      <td>-0.065495</td>\n      <td>0.101812</td>\n      <td>0.038925</td>\n      <td>LEASEHOLD</td>\n    </tr>\n    <tr>\n      <th>120778334</th>\n      <td>510</td>\n      <td>510</td>\n      <td>0.122925</td>\n      <td>0.024103</td>\n      <td>0.024097</td>\n      <td>510</td>\n      <td>3</td>\n      <td>2</td>\n      <td>0.638508</td>\n      <td>51.398407</td>\n      <td>-0.115222</td>\n      <td>0.101313</td>\n      <td>0.010802</td>\n      <td>FREEHOLD</td>\n    </tr>\n    <tr>\n      <th>123938234</th>\n      <td>325</td>\n      <td>325</td>\n      <td>0.026825</td>\n      <td>0.008254</td>\n      <td>0.008253</td>\n      <td>325</td>\n      <td>2</td>\n      <td>1</td>\n      <td>0.646957</td>\n      <td>51.660888</td>\n      <td>-0.077846</td>\n      <td>0.161168</td>\n      <td>0.026574</td>\n      <td>LEASEHOLD</td>\n    </tr>\n  </tbody>\n</table>\n<p>4413 rows × 14 columns</p>\n</div>"
     },
     "execution_count": 74,
     "metadata": {},
     "output_type": "execute_result"
    }
   ],
   "source": [
    "combined = compare_df.merge(df[columns], how='inner', left_index=True, right_index=True).sort_values(['diff 1 %'],\n",
    "                                                                                                     ascending=False)\n",
    "#pd.options.display.float_format = '{:.4f}'.format\n",
    "combined[['predicted', 'actual', 'Price', 'bedrooms', 'bathrooms']] = combined[\n",
    "    ['predicted', 'actual', 'Price', 'bedrooms', 'bathrooms']].astype(int)\n",
    "combined['bedrooms'] = combined['bedrooms'].astype(int)\n",
    "combined"
   ]
  },
  {
   "cell_type": "code",
   "execution_count": 75,
   "metadata": {
    "execution": {
     "iopub.execute_input": "2022-11-29T21:03:09.275967Z",
     "iopub.status.busy": "2022-11-29T21:03:09.275687Z",
     "iopub.status.idle": "2022-11-29T21:03:09.670210Z",
     "shell.execute_reply": "2022-11-29T21:03:09.669342Z",
     "shell.execute_reply.started": "2022-11-29T21:03:09.275943Z"
    }
   },
   "outputs": [
    {
     "name": "stdout",
     "output_type": "stream",
     "text": [
      "138/138 [==============================] - 0s 1ms/step\n"
     ]
    },
    {
     "data": {
      "text/plain": "<Figure size 432x288 with 1 Axes>",
      "image/png": "[encoded data removed]"
     },
     "metadata": {
      "needs_background": "light"
     },
     "output_type": "display_data"
    }
   ],
   "source": [
    "fig, ax = plt.subplots()\n",
    "#ax.scatter(y_test, best_estimator_pipe.predict(X_test), edgecolors=(0, 0, 1))\n",
    "ax.scatter(y_test, trainable_model.predict(X_test), edgecolors=(0, 0, 1))\n",
    "ax.plot([y_test.min(), y_test.max()], [y_test.min(), y_test.max()], 'r--', lw=3)\n",
    "ax.set_ylabel('Predicted')\n",
    "ax.set_xlabel('Actual')\n",
    "#ax.title.set_text(f'CV Chosen best option ({calculated_best_pipe[1]})')\n",
    "plt.show()"
   ]
  },
  {
   "cell_type": "code",
   "execution_count": 76,
   "metadata": {
    "execution": {
     "iopub.execute_input": "2022-11-29T21:03:09.672583Z",
     "iopub.status.busy": "2022-11-29T21:03:09.672257Z",
     "iopub.status.idle": "2022-11-29T21:03:10.079483Z",
     "shell.execute_reply": "2022-11-29T21:03:10.078504Z",
     "shell.execute_reply.started": "2022-11-29T21:03:09.672558Z"
    }
   },
   "outputs": [
    {
     "name": "stdout",
     "output_type": "stream",
     "text": [
      "haven't scored this model yet: Neural Network m02 two layers\n",
      "(debug:do nothing)\n",
      "neural network m02 two layers (v09)\n",
      "mse +epochs=500 +learn=0.003\n"
     ]
    }
   ],
   "source": [
    "#cv_best_model_fit_time = cv_results_df_sorted.iloc[0][\"mean_fit_time\"] if not_catboost else 999\n",
    "#cv_best_model_fit_time = 999\n",
    "cv_best_model_fit_time = estimated_time\n",
    "\n",
    "DD2 = \"(\" + \",\".join(DATA_DETAIL) + \")\" if len(DATA_DETAIL) >= 1 else \"\"\n",
    "key = f'{ALGORITHM} (v{VERSION})'.lower()\n",
    "\n",
    "method = f\"{ALGORITHM_DETAIL}{DD2}\"\n",
    "\n",
    "new_results = {\n",
    "    #'_score': score,\n",
    "    '_score': R2,\n",
    "    'R square Accuracy': R2,\n",
    "    'Mean Absolute Error Accuracy': MAE * 1000,\n",
    "    'Mean Squared Error Accuracy': MSE * 1000,\n",
    "    'Root Mean Squared Error': RMSE * 1000,\n",
    "    '_train time': cv_best_model_fit_time,\n",
    "    'random_state': RANDOM_STATE,\n",
    "    'date': str(datetime.now()),\n",
    "    #'_params': crossval_runner.best_params_ if not_catboost else cat_params,\n",
    "    #'_params': 'not available', # REPLACED - can't have different models all saying params not available\n",
    "    '_params': ALGORITHM_DETAIL,\n",
    "    '_method': more_detail, #ALGORITHM_DETAIL,\n",
    "    'run_env': run_env\n",
    "}\n",
    "\n",
    "if run_env not in ['colab']:\n",
    "    old_results_json = get_results()\n",
    "    try:\n",
    "        old_best_score = old_results_json[key]['best score']\n",
    "    except:\n",
    "        print(f\"haven't scored this model yet: {ALGORITHM}\")\n",
    "        old_best_score = -999\n",
    "    this_model_is_best = update_results(old_results_json, new_results, key)\n",
    "\n",
    "print(key)\n",
    "print(ALGORITHM_DETAIL)"
   ]
  },
  {
   "cell_type": "code",
   "execution_count": 77,
   "metadata": {
    "execution": {
     "iopub.execute_input": "2022-11-29T21:03:10.080938Z",
     "iopub.status.busy": "2022-11-29T21:03:10.080692Z",
     "iopub.status.idle": "2022-11-29T21:03:11.596304Z",
     "shell.execute_reply": "2022-11-29T21:03:11.595076Z",
     "shell.execute_reply.started": "2022-11-29T21:03:10.080915Z"
    }
   },
   "outputs": [
    {
     "name": "stdout",
     "output_type": "stream",
     "text": [
      "INFO:tensorflow:Assets written to: ram://24255f62-9d32-452f-addc-b73381187fe8/assets\n",
      "pickled new version of model\n",
      "0.540824203913349 is new best score (it's better than -999)\n"
     ]
    }
   ],
   "source": [
    "if this_model_is_best:\n",
    "    with open(f'../../../models/optimised_model_{ALGORITHM}_v{VERSION}{DD2}.pkl', 'wb') as f:\n",
    "        #        if not_catboost:\n",
    "        #            pickle.dump(crossval_runner.best_estimator_, f)\n",
    "        #        else:\n",
    "        #            pickle.dump(starter_model, f)\n",
    "        pickle.dump(trainable_model, f)\n",
    "        print('pickled new version of model')\n",
    "        print(f\"{old_results_json[key]['_score']} is new best score (it's better than {old_best_score})\")\n",
    "        #print(results_json[key]['_score'], 'is an improvement on', results_json[key]['second best score'])\n",
    "else:\n",
    "    print(\"not updated saved model, the previous run was better\")\n",
    "    print(old_results_json[key]['_score'], 'is worse than or equal to', old_best_score)\n"
   ]
  },
  {
   "cell_type": "code",
   "execution_count": 78,
   "outputs": [
    {
     "data": {
      "text/plain": "'\\nNotes - current model (mega 12)\\n\\nModel: \"sequential_2\"\\n_________________________________________________________________\\n Layer (type)                Output Shape              Param #\\n=================================================================\\n dense_16 (Dense)            (None, 128)               2816\\n\\n dense_17 (Dense)            (None, 256)               33024\\n\\n dense_18 (Dense)            (None, 512)               131584\\n\\n dense_19 (Dense)            (None, 1024)              525312\\n\\n dense_20 (Dense)            (None, 1024)              1049600\\n\\n dense_21 (Dense)            (None, 512)               524800\\n\\n dense_22 (Dense)            (None, 256)               131328\\n\\n dense_23 (Dense)            (None, 1)                 257\\n\\n=================================================================\\nTotal params: 2,398,721\\nTrainable params: 2,398,721\\nNon-trainable params: 0\\n_________________________________________________________________\\n'"
     },
     "execution_count": 78,
     "metadata": {},
     "output_type": "execute_result"
    }
   ],
   "source": [
    "'''\n",
    "Notes - current model (mega 12)\n",
    "\n",
    "Model: \"sequential_2\"\n",
    "_________________________________________________________________\n",
    " Layer (type)                Output Shape              Param #\n",
    "=================================================================\n",
    " dense_16 (Dense)            (None, 128)               2816\n",
    "\n",
    " dense_17 (Dense)            (None, 256)               33024\n",
    "\n",
    " dense_18 (Dense)            (None, 512)               131584\n",
    "\n",
    " dense_19 (Dense)            (None, 1024)              525312\n",
    "\n",
    " dense_20 (Dense)            (None, 1024)              1049600\n",
    "\n",
    " dense_21 (Dense)            (None, 512)               524800\n",
    "\n",
    " dense_22 (Dense)            (None, 256)               131328\n",
    "\n",
    " dense_23 (Dense)            (None, 1)                 257\n",
    "\n",
    "=================================================================\n",
    "Total params: 2,398,721\n",
    "Trainable params: 2,398,721\n",
    "Non-trainable params: 0\n",
    "_________________________________________________________________\n",
    "'''"
   ],
   "metadata": {
    "collapsed": false
   }
  },
  {
   "cell_type": "code",
   "execution_count": 79,
   "metadata": {
    "execution": {
     "iopub.execute_input": "2022-11-29T21:03:11.616062Z",
     "iopub.status.busy": "2022-11-29T21:03:11.615736Z",
     "iopub.status.idle": "2022-11-29T21:03:11.622559Z",
     "shell.execute_reply": "2022-11-29T21:03:11.621518Z",
     "shell.execute_reply.started": "2022-11-29T21:03:11.616036Z"
    }
   },
   "outputs": [
    {
     "name": "stdout",
     "output_type": "stream",
     "text": [
      "\n"
     ]
    }
   ],
   "source": [
    "'''\n",
    "Notes - older models\n",
    "\n",
    "Model m1\n",
    "Model: \"sequential_3\"\n",
    "\n",
    "_________________________________________________________________\n",
    " Layer (type)                Output Shape              Param #\n",
    "=================================================================\n",
    " dense_6 (Dense)             (None, 11)                132       \n",
    " normalization_3 (Normalizat  (None, 11)               23        \n",
    " ion)                                                            \n",
    " dense_7 (Dense)             (None, 1)                 12        \n",
    "=================================================================\n",
    "Total params: 167\n",
    "Trainable params: 144\n",
    "Non-trainable params: 23\n",
    "_________________________________________________________________\n",
    "\n",
    "\n",
    "Model m2\n",
    "Model: \"sequential_6\"\n",
    "_________________________________________________________________\n",
    " Layer (type)                Output Shape              Param #   \n",
    "=================================================================\n",
    " dense_14 (Dense)            (None, 11)                132       \n",
    " normalization_6 (Normalizat  (None, 11)               23        \n",
    " ion)                                                            \n",
    " dense_15 (Dense)            (None, 11)                132       \n",
    " dense_16 (Dense)            (None, 1)                 12        \n",
    "                                                                 \n",
    "=================================================================\n",
    "Total params: 299\n",
    "Trainable params: 276\n",
    "Non-trainable params: 23\n",
    "_________________________________________________________________\n",
    "\n",
    "\n",
    "Model m3\n",
    "Model: \"sequential_7\"\n",
    "_________________________________________________________________\n",
    " Layer (type)                Output Shape              Param #   \n",
    "=================================================================\n",
    " dense_17 (Dense)            (None, 11)                132       \n",
    "                                                                 \n",
    " normalization_7 (Normalizat  (None, 11)               23        \n",
    " ion)                                                            \n",
    "                                                                 \n",
    " dense_18 (Dense)            (None, 30)                360       \n",
    "                                                                 \n",
    " dense_19 (Dense)            (None, 1)                 31        \n",
    "                                                                 \n",
    "=================================================================\n",
    "Total params: 546\n",
    "Trainable params: 523\n",
    "Non-trainable params: 23\n",
    "_________________________________________________________________\n",
    "'''\n",
    "\n",
    "print()"
   ]
  }
 ],
 "metadata": {
  "kernelspec": {
   "display_name": "Python 3 (ipykernel)",
   "language": "python",
   "name": "python3"
  },
  "language_info": {
   "codemirror_mode": {
    "name": "ipython",
    "version": 3
   },
   "file_extension": ".py",
   "mimetype": "text/x-python",
   "name": "python",
   "nbconvert_exporter": "python",
   "pygments_lexer": "ipython3",
   "version": "3.9.13"
  }
 },
 "nbformat": 4,
 "nbformat_minor": 4
}
