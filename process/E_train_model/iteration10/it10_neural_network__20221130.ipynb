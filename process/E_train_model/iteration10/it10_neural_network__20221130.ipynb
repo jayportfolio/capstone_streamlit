{
 "cells": [
  {
   "cell_type": "code",
   "execution_count": 1,
   "metadata": {
    "execution": {
     "iopub.execute_input": "2022-11-29T20:53:43.551410Z",
     "iopub.status.busy": "2022-11-29T20:53:43.550924Z",
     "iopub.status.idle": "2022-11-29T20:53:43.557963Z",
     "shell.execute_reply": "2022-11-29T20:53:43.556883Z",
     "shell.execute_reply.started": "2022-11-29T20:53:43.551374Z"
    }
   },
   "outputs": [],
   "source": [
    "#ALGORITHM = 'Neural Network'\n",
    "ALGORITHM = 'Neural Network [TYPE]'\n",
    "ALGORITHM_DETAIL = ''\n",
    "ALGORITHM_DETAIL_ORIG = ALGORITHM_DETAIL\n",
    "#ALGORITHM_DETAIL += ' tbc'\n",
    "DATA_DETAIL = []\n",
    "#DATA_DETAIL = ['no scale','no dummies']\n",
    "VERSION = '10'\n",
    "\n",
    "RANDOM_STATE = 101\n",
    "TRAINING_SIZE = 0.9\n",
    "\n",
    "CROSS_VALIDATION_SCORING = 'r2'\n",
    "\n",
    "#selected_neural_network='simplest'\n",
    "#selected_neural_network='quite simple'\n",
    "#selected_neural_network='recommended simple v2'\n",
    "#selected_neural_network='adapted v3'\n",
    "\n",
    "\n",
    "# ---- FIRST NEURAL NETWORK STRUCTURE DEFINITION ---- # \n",
    "#selected_neural_network = 'recommended simple v1'\n",
    "#selected_nn_code = 'm01 simple'\n",
    "\n",
    "# ---- 2nd NEURAL NETWORK STRUCTURE DEFINITION ---- # \n",
    "#selected_neural_network = selected_nn_code = \"m02 two layers\"\n",
    "\n",
    "\n",
    "# ---- 3rd NEURAL NETWORK STRUCTURE DEFINITION ---- # \n",
    "#selected_neural_network = selected_nn_code = \"m03 2 layers+wider\"\n",
    "\n",
    "\n",
    "# ---- 4th NEURAL NETWORK STRUCTURE DEFINITION ---- # \n",
    "#selected_neural_network = selected_nn_code = \"m04 3 layers+wider\"\n",
    "\n",
    "# ---- 5th NEURAL NETWORK STRUCTURE DEFINITION ---- # \n",
    "#selected_neural_network = selected_nn_code = \"m05 rec deep\"\n",
    "\n",
    "# ---- 6th NEURAL NETWORK STRUCTURE DEFINITION ---- # \n",
    "#selected_neural_network = selected_nn_code = \"m05 my deep\"\n",
    "\n",
    "#selected_neural_network = selected_nn_code = \"\"\n",
    "\n",
    "# ---- 7th NEURAL NETWORK STRUCTURE DEFINITION ---- #\n",
    "#selected_neural_network = selected_nn_code = \"m11 mega\"\n",
    "\n",
    "# ---- 8th NEURAL NETWORK STRUCTURE DEFINITION ---- #\n",
    "selected_neural_network = selected_nn_code = \"m12 mega\"\n",
    "\n",
    "\n",
    "ALGORITHM = ALGORITHM.replace(\"[TYPE]\", selected_nn_code)"
   ]
  },
  {
   "cell_type": "code",
   "execution_count": 2,
   "metadata": {
    "execution": {
     "iopub.execute_input": "2022-11-29T20:53:43.573205Z",
     "iopub.status.busy": "2022-11-29T20:53:43.571882Z",
     "iopub.status.idle": "2022-11-29T20:53:43.577259Z",
     "shell.execute_reply": "2022-11-29T20:53:43.576107Z",
     "shell.execute_reply.started": "2022-11-29T20:53:43.573150Z"
    }
   },
   "outputs": [],
   "source": [
    "#! pip install scikeras\n",
    "#! pip install catboost"
   ]
  },
  {
   "cell_type": "code",
   "execution_count": 3,
   "metadata": {
    "execution": {
     "iopub.execute_input": "2022-11-29T20:53:43.817630Z",
     "iopub.status.busy": "2022-11-29T20:53:43.817228Z",
     "iopub.status.idle": "2022-11-29T20:53:43.844296Z",
     "shell.execute_reply": "2022-11-29T20:53:43.843290Z",
     "shell.execute_reply.started": "2022-11-29T20:53:43.817600Z"
    }
   },
   "outputs": [
    {
     "name": "stdout",
     "output_type": "stream",
     "text": [
      "Tensorflow version: 2.9.1\n"
     ]
    }
   ],
   "source": [
    "from sklearn.pipeline import Pipeline\n",
    "from sklearn.preprocessing import MinMaxScaler, StandardScaler\n",
    "#from scikeras.wrappers import KerasClassifier, KerasRegressor\n",
    "\n",
    "import tensorflow as tf\n",
    "from keras import layers\n",
    "from tensorflow import keras\n",
    "from keras.models import Sequential\n",
    "from keras.layers import Dense\n",
    "\n",
    "print(\"Tensorflow version:\", tf.__version__)\n",
    "\n",
    "loss_dict = {\"mean_squared_error\":'mse'}\n",
    "\n",
    "def make_simple_ann(key, inputs=-1):\n",
    "    if False:\n",
    "        pass\n",
    "    elif key == 'quite simple':\n",
    "\n",
    "        new_algorithm_detail = ALGORITHM_DETAIL_ORIG + 'quite simple model + normalise, mse'\n",
    "\n",
    "        learn_rate = 0.1\n",
    "        epochs, chosen_loss = 100, 'mean_squared_error'\n",
    "        \n",
    "        normalizer = tf.keras.layers.Normalization(axis=-1)\n",
    "        normalizer.adapt(np.array(X_train))\n",
    "\n",
    "        chosen_model = tf.keras.Sequential([\n",
    "            layers.Dense(X_train.shape[1], input_shape=(X_train.shape[1],), activation='relu'),\n",
    "            normalizer,\n",
    "            layers.Dense(units=1)\n",
    "        ])\n",
    "\n",
    "    elif key == 'recommended simple v1':\n",
    "\n",
    "        learn_rate = 0.003 #0.3\n",
    "        epochs, chosen_loss = 50, 'mean_squared_error'\n",
    "        \n",
    "        new_algorithm_detail = ALGORITHM_DETAIL_ORIG + 'recommended simple model/mse'\n",
    "\n",
    "        normalizer = tf.keras.layers.Normalization(axis=-1)\n",
    "        normalizer.adapt(np.array(X_train))\n",
    "\n",
    "        chosen_model = tf.keras.Sequential([\n",
    "            layers.Dense(X_train.shape[1], input_shape=(X_train.shape[1],), activation='relu'),\n",
    "            normalizer,\n",
    "            layers.Dense(units=1)\n",
    "        ])\n",
    "\n",
    "    elif key == 'm02 two layers':\n",
    "\n",
    "        learn_rate = 0.003 #0.3\n",
    "        epochs, chosen_loss = 500, 'mean_squared_error'\n",
    "\n",
    "        normalizer = tf.keras.layers.Normalization(axis=-1)\n",
    "        normalizer.adapt(np.array(X_train))\n",
    "\n",
    "        chosen_model = tf.keras.Sequential([\n",
    "            layers.Dense(X_train.shape[1], input_shape=(X_train.shape[1],), activation='relu'),\n",
    "            normalizer,\n",
    "            layers.Dense(X_train.shape[1], activation='relu'),\n",
    "            layers.Dense(units=1)\n",
    "        ])\n",
    "\n",
    "        \n",
    "    elif key == 'm03 2 layers+wider':\n",
    "\n",
    "        learn_rate = 0.0003 # 0.003 #0.3\n",
    "        epochs, chosen_loss = 500, 'mean_squared_error'\n",
    "        \n",
    "        normalizer = tf.keras.layers.Normalization(axis=-1)\n",
    "        normalizer.adapt(np.array(X_train))\n",
    "\n",
    "        chosen_model = tf.keras.Sequential([\n",
    "            layers.Dense(X_train.shape[1], input_shape=(X_train.shape[1],), activation='relu'),\n",
    "            normalizer,\n",
    "            layers.Dense(30, activation='relu'),\n",
    "            layers.Dense(units=1)\n",
    "        ])\n",
    "\n",
    "    elif key == 'm04 3 layers+wider':\n",
    "\n",
    "        learn_rate = 0.003\n",
    "        epochs, chosen_loss = 500, 'mean_squared_error'\n",
    "\n",
    "        normalizer = tf.keras.layers.Normalization(axis=-1)\n",
    "        normalizer.adapt(np.array(X_train))\n",
    "\n",
    "        chosen_model = tf.keras.Sequential([\n",
    "            layers.Dense(X_train.shape[1], input_shape=(X_train.shape[1],), activation='relu'),\n",
    "            normalizer,\n",
    "            layers.Dense(30, activation='relu'),\n",
    "            layers.Dense(40, activation='relu'),\n",
    "            layers.Dense(units=1)\n",
    "        ])\n",
    "\n",
    "    elif key == 'm0x four layers,wider,batchnorm':\n",
    "\n",
    "        learn_rate = 0.0003 #0.3\n",
    "        epochs, chosen_loss = 500, 'mean_squared_error'\n",
    "        \n",
    "        #from layers.normalization import BatchNormalization\n",
    "        \n",
    "        normalizer = tf.keras.layers.Normalization(axis=-1)\n",
    "        batchnorm = layers.BatchNormalization()\n",
    "        activation = layers.Activation('relu')\n",
    "        \n",
    "        normalizer.adapt(np.array(X_train))\n",
    "        #new_algorithm_detail += ' +norm'\n",
    "\n",
    "        chosen_model = tf.keras.Sequential([\n",
    "            layers.Dense(X_train.shape[1], input_shape=(X_train.shape[1],), activation='relu'),\n",
    "            #normalizer,\n",
    "            layers.Dense(30, activation='relu'),\n",
    "            batchnorm,\n",
    "            activation,\n",
    "            layers.Dense(40, activation='relu'),\n",
    "            layers.Dense(30, activation='relu'),\n",
    "            layers.Dense(units=1)\n",
    "        ])\n",
    "\n",
    "    elif key == 'm05 rec deep':\n",
    "        chosen_model = Sequential()\n",
    "\n",
    "        # The Input Layer :\n",
    "        chosen_model.add(Dense(128, kernel_initializer='normal',input_dim = X_train.shape[1], activation='relu'))\n",
    "\n",
    "        # The Hidden Layers :\n",
    "        chosen_model.add(Dense(256, kernel_initializer='normal',activation='relu'))\n",
    "        chosen_model.add(Dense(256, kernel_initializer='normal',activation='relu'))\n",
    "        chosen_model.add(Dense(256, kernel_initializer='normal',activation='relu'))\n",
    "\n",
    "        # The Output Layer :\n",
    "        chosen_model.add(Dense(1, kernel_initializer='normal',activation='linear'))\n",
    "\n",
    "        # Compile the network :\n",
    "        #chosen_model.compile(loss='mean_squared_error', optimizer='adam', metrics=['mean_squared_error'])\n",
    "\n",
    "        learn_rate = 0.0003 #0.3\n",
    "        epochs, chosen_loss = 500, 'mean_squared_error'\n",
    "\n",
    "    elif key == 'm11 mega':\n",
    "        chosen_model = Sequential()\n",
    "\n",
    "        # The Input Layer :\n",
    "        chosen_model.add(Dense(128, kernel_initializer='normal',input_dim = X_train.shape[1], activation='relu'))\n",
    "\n",
    "        # The Hidden Layers :\n",
    "        chosen_model.add(Dense(256, kernel_initializer='normal',activation='relu'))\n",
    "        chosen_model.add(Dense(512, kernel_initializer='normal',activation='relu'))\n",
    "        chosen_model.add(Dense(1024, kernel_initializer='normal',activation='relu'))\n",
    "        chosen_model.add(Dense(2148, kernel_initializer='normal',activation='relu'))\n",
    "        chosen_model.add(Dense(2148, kernel_initializer='normal',activation='relu'))\n",
    "        chosen_model.add(Dense(1024, kernel_initializer='normal',activation='relu'))\n",
    "        chosen_model.add(Dense(512, kernel_initializer='normal',activation='relu'))\n",
    "        chosen_model.add(Dense(256, kernel_initializer='normal',activation='relu'))\n",
    "\n",
    "        # The Output Layer :\n",
    "        chosen_model.add(Dense(1, kernel_initializer='normal',activation='linear'))\n",
    "\n",
    "        # Compile the network :\n",
    "        #chosen_model.compile(loss='mean_squared_error', optimizer='adam', metrics=['mean_squared_error'])\n",
    "\n",
    "        learn_rate = 0.0003\n",
    "        epochs, chosen_loss = 400, 'mean_squared_error'\n",
    "\n",
    "    elif key == 'm12 mega':\n",
    "        chosen_model = Sequential()\n",
    "\n",
    "        # The Input Layer :\n",
    "        chosen_model.add(Dense(128, kernel_initializer='normal',input_dim = X_train.shape[1], activation='relu'))\n",
    "\n",
    "        # The Hidden Layers :\n",
    "        chosen_model.add(Dense(256, kernel_initializer='normal',activation='relu'))\n",
    "        chosen_model.add(Dense(512, kernel_initializer='normal',activation='relu'))\n",
    "        chosen_model.add(Dense(1024, kernel_initializer='normal',activation='relu'))\n",
    "        chosen_model.add(Dense(1024, kernel_initializer='normal',activation='relu'))\n",
    "        chosen_model.add(Dense(512, kernel_initializer='normal',activation='relu'))\n",
    "        chosen_model.add(Dense(256, kernel_initializer='normal',activation='relu'))\n",
    "\n",
    "        # The Output Layer :\n",
    "        chosen_model.add(Dense(1, kernel_initializer='normal',activation='linear'))\n",
    "\n",
    "        # Compile the network :\n",
    "        #chosen_model.compile(loss='mean_squared_error', optimizer='adam', metrics=['mean_squared_error'])\n",
    "\n",
    "        learn_rate = 0.0003\n",
    "        epochs, chosen_loss = 400, 'mean_squared_error'\n",
    "\n",
    "    else:\n",
    "        raise ValueError(\"make_simple_ann: no entry for key:\", key)\n",
    "\n",
    "    if run_env == 'local':\n",
    "        epochs = 5\n",
    "\n",
    "    chosen_model.compile(\n",
    "        optimizer=tf.keras.optimizers.Adam(learning_rate=learn_rate),\n",
    "        loss=chosen_loss)\n",
    "\n",
    "\n",
    "    new_algorithm_detail = ALGORITHM_DETAIL_ORIG + loss_dict[chosen_loss]\n",
    "    new_algorithm_detail += f' +epochs={epochs}'\n",
    "    new_algorithm_detail += f' +learn={learn_rate}'\n",
    "    \n",
    "    return chosen_model, new_algorithm_detail, epochs, {'learning_rate':learn_rate}\n",
    "\n",
    "#make_simple_ann('m04 four layers,wider,batchnorm')"
   ]
  },
  {
   "cell_type": "code",
   "execution_count": 4,
   "metadata": {
    "execution": {
     "iopub.execute_input": "2022-11-29T20:53:43.847447Z",
     "iopub.status.busy": "2022-11-29T20:53:43.846239Z",
     "iopub.status.idle": "2022-11-29T20:53:43.900349Z",
     "shell.execute_reply": "2022-11-29T20:53:43.899150Z",
     "shell.execute_reply.started": "2022-11-29T20:53:43.847409Z"
    }
   },
   "outputs": [
    {
     "name": "stdout",
     "output_type": "stream",
     "text": [
      "{'notebook_environment': 'gradient', 'use_gpu': True, 'debug_mode': False, 'quick_mode': False, 'quick_override_cv_splits': 2, 'quick_override_n_iter': 10, 'quick_override_n_jobs': 3}\n"
     ]
    }
   ],
   "source": [
    "from sklearn.impute import SimpleImputer\n",
    "import pandas as pd\n",
    "from sklearn.model_selection import train_test_split, RandomizedSearchCV, GridSearchCV\n",
    "import numpy as np\n",
    "from pandas import DataFrame\n",
    "import math\n",
    "from termcolor import colored\n",
    "from time import time\n",
    "import sklearn\n",
    "from sklearn.metrics import r2_score, mean_absolute_error, mean_squared_error\n",
    "from sklearn.metrics import r2_score\n",
    "import seaborn as sns\n",
    "import pickle\n",
    "\n",
    "import json\n",
    "from datetime import datetime\n",
    "import matplotlib.pyplot as plt\n",
    "\n",
    "with open('../../z_envs/_envs.json') as f:\n",
    "    env_vars = json.loads(f.read())\n",
    "print(env_vars)\n",
    "\n",
    "try:\n",
    "    import google.colab\n",
    "\n",
    "    run_env = 'colab'\n",
    "except:\n",
    "    try:\n",
    "        run_env = env_vars['notebook_environment']\n",
    "    except:\n",
    "        run_env = 'unknown'\n",
    "\n",
    "use_gpu = env_vars.get('use_gpu', False)\n",
    "debug_mode = env_vars.get('debug_mode', False)\n",
    "quick_mode = env_vars.get('quick_mode', False)\n",
    "\n",
    "no_dummies = 'no dummies' in DATA_DETAIL\n",
    "no_scaling = 'no scaling' in DATA_DETAIL\n",
    "not_catboost = True\n",
    "\n",
    "if run_env not in ['colab', 'gradient', 'cloud']:\n",
    "    cloud_run = False\n",
    "    from functions_0__common_20221116 import get_columns\n",
    "    from functions_b__get_the_data_20221116 import set_csv_directory, get_combined_dataset\n",
    "    from functions_d1__prepare_cleanse_data_20221116 import tidy_dataset\n",
    "    from functions_d2__transform_enrich_data_20221116 import preprocess, feature_engineer\n",
    "    from functions_d3__prepare_store_data_20221116 import create_train_test_data\n",
    "    from functions_e__train_model_20221116 import get_chosen_model, make_modelling_pipeline, get_cv_params, fit_model_with_cross_validation, get_hyperparameters\n",
    "    from functions_f_evaluate_model_20221116 import get_best_estimator_average_time, get_results, update_results\n",
    "\n",
    "    set_csv_directory('final_split')\n",
    "\n",
    "    quick_mode = True\n",
    "else:\n",
    "    cloud_run = True\n",
    "    import sys\n",
    "    import os\n",
    "\n",
    "    module_path = os.path.abspath(os.path.join('..', '..', '..'))\n",
    "    if module_path not in sys.path:\n",
    "        #sys.path.append(module_path+\"\\\\zfunctions\")\n",
    "        sys.path.append(module_path)\n",
    "\n",
    "    from functions_0__common_20221116 import get_columns\n",
    "    from functions_b__get_the_data_20221116 import set_csv_directory, get_combined_dataset\n",
    "    from functions_d1__prepare_cleanse_data_20221116 import tidy_dataset\n",
    "    from functions_d2__transform_enrich_data_20221116 import preprocess, feature_engineer\n",
    "    from functions_d3__prepare_store_data_20221116 import create_train_test_data\n",
    "    from functions_e__train_model_20221116 import get_chosen_model, make_modelling_pipeline, get_cv_params, fit_model_with_cross_validation, get_hyperparameters\n",
    "    from functions_f_evaluate_model_20221116 import get_best_estimator_average_time, get_results, update_results\n"
   ]
  },
  {
   "cell_type": "code",
   "execution_count": 5,
   "metadata": {
    "execution": {
     "iopub.execute_input": "2022-11-29T20:53:43.902541Z",
     "iopub.status.busy": "2022-11-29T20:53:43.902207Z",
     "iopub.status.idle": "2022-11-29T20:53:43.908673Z",
     "shell.execute_reply": "2022-11-29T20:53:43.907541Z",
     "shell.execute_reply.started": "2022-11-29T20:53:43.902514Z"
    }
   },
   "outputs": [
    {
     "name": "stdout",
     "output_type": "stream",
     "text": [
      "\u001B[34mfeatures\u001B[0m ->  ['bedrooms', 'bathrooms', 'nearestStation', 'location.latitude', 'location.longitude', 'latitude_deviation', 'longitude_deviation', 'tenure.tenureType']\n",
      "\u001B[1m\u001B[32mlabel\u001B[0m ->  Price\n"
     ]
    }
   ],
   "source": [
    "#cutdown_rows = 1000\n",
    "cutdown_rows = 0\n",
    "\n",
    "LABEL = 'Price'\n",
    "\n",
    "columns, booleans, floats, categories, custom, wildcard = get_columns(version=VERSION)\n",
    "\n",
    "print(colored(f\"features\", \"blue\"), \"-> \", columns)\n",
    "columns.insert(0, LABEL)\n",
    "print(colored(f\"label\", \"green\", None, ['bold']), \"-> \", LABEL)"
   ]
  },
  {
   "cell_type": "code",
   "execution_count": 6,
   "metadata": {
    "execution": {
     "iopub.execute_input": "2022-11-29T20:53:43.911246Z",
     "iopub.status.busy": "2022-11-29T20:53:43.910286Z",
     "iopub.status.idle": "2022-11-29T20:53:43.918199Z",
     "shell.execute_reply": "2022-11-29T20:53:43.917030Z",
     "shell.execute_reply.started": "2022-11-29T20:53:43.911200Z"
    }
   },
   "outputs": [],
   "source": [
    "def get_source_dataframe(rows=cutdown_rows, folder_prefix='../../../'):\n",
    "    retrieval_type = None\n",
    "\n",
    "    filename = f'df_listings_v{VERSION}.csv'\n",
    "    remote_pathname = f'https://raw.githubusercontent.com/jayportfolio/capstone_streamlit/main/data/final/{filename}'\n",
    "    df_pathname_raw = folder_prefix + f'data/source/{filename}'\n",
    "    df_pathname_tidy = folder_prefix + f'data/final/{filename}'\n",
    "\n",
    "    if cloud_run:\n",
    "        inDF = pd.read_csv(remote_pathname, on_bad_lines='error', index_col=0)\n",
    "        retrieval_type = 'tidy'\n",
    "        print('loaded data from', folder_prefix + remote_pathname)\n",
    "    else:\n",
    "        inDF = pd.read_csv(df_pathname_tidy, on_bad_lines='error', index_col=0)\n",
    "        retrieval_type = 'tidy'\n",
    "        print('loaded data from', df_pathname_tidy)\n",
    "\n",
    "    if rows and rows > 0:\n",
    "        inDF = inDF[:rows]\n",
    "    return inDF, retrieval_type"
   ]
  },
  {
   "cell_type": "code",
   "execution_count": 7,
   "metadata": {
    "execution": {
     "iopub.execute_input": "2022-11-29T20:53:43.921702Z",
     "iopub.status.busy": "2022-11-29T20:53:43.921217Z",
     "iopub.status.idle": "2022-11-29T20:53:45.085080Z",
     "shell.execute_reply": "2022-11-29T20:53:45.084110Z",
     "shell.execute_reply.started": "2022-11-29T20:53:43.921642Z"
    }
   },
   "outputs": [
    {
     "name": "stdout",
     "output_type": "stream",
     "text": [
      "loaded data from ../../../https://raw.githubusercontent.com/jayportfolio/capstone_streamlit/main/data/final/df_listings_v10.csv\n",
      "(46871, 59)\n"
     ]
    }
   ],
   "source": [
    "df, retrieval_type = get_source_dataframe(folder_prefix='../../../')\n",
    "df_orig = df.copy()\n",
    "\n",
    "if retrieval_type != 'tidy':\n",
    "    df = tidy_dataset(df, version=int(VERSION))\n",
    "    df = feature_engineer(df, version=int(VERSION))\n",
    "\n",
    "    df = df[columns]\n",
    "\n",
    "print(df.shape)"
   ]
  },
  {
   "cell_type": "code",
   "execution_count": 8,
   "metadata": {
    "execution": {
     "iopub.execute_input": "2022-11-29T20:53:45.086895Z",
     "iopub.status.busy": "2022-11-29T20:53:45.086542Z",
     "iopub.status.idle": "2022-11-29T20:53:45.115765Z",
     "shell.execute_reply": "2022-11-29T20:53:45.114760Z",
     "shell.execute_reply.started": "2022-11-29T20:53:45.086867Z"
    }
   },
   "outputs": [
    {
     "data": {
      "text/plain": "            Price  bedrooms  bathrooms  nearestStation  location.latitude  \\\n14520525  550.000       3.0        1.0        0.274316          51.529950   \n27953107  400.000       2.0        2.0        0.305845          51.549390   \n33593487  579.950       2.0        1.0        0.438045          51.447180   \n35271294  370.000       2.0        1.0        0.399307          51.449568   \n35429088  599.950       2.0        1.0        0.238187          51.577030   \n44749111  475.000       2.0        1.0        0.410550          51.370050   \n46204665  435.000       3.0        2.0        0.314779          51.539070   \n49020666  200.000       1.0        1.0        0.875911          51.539959   \n49036279  275.000       2.0        1.0        0.474368          51.541780   \n49303873  450.000       3.0        2.0        0.577040          51.524880   \n52064391  349.950       2.0        2.0        0.212734          51.470800   \n52187854  450.000       1.0        1.0        0.446802          51.527199   \n52675628  490.000       2.0        2.0        0.215040          51.501114   \n52845963  200.000       2.0        1.0        0.650562          51.398040   \n52913496  220.000       1.0        1.0        0.945991          51.539383   \n53609433  489.995       1.0        1.0        0.087081          51.532620   \n53649578  284.950       1.0        1.0        0.806597          51.479890   \n53938989  450.000       2.0        1.0        0.775203          51.658287   \n54713232  332.000       2.0        1.0        0.319226          51.612300   \n54904122  365.000       2.0        1.0        0.260722          51.593595   \n54991934  430.000       3.0        1.0        0.497268          51.528720   \n55043230  260.000       1.0        1.0        0.384607          51.544430   \n55187658  430.000       2.0        2.0        0.289033          51.507570   \n55531367  599.950       2.0        1.0        0.406725          51.467410   \n55768232  550.000       2.0        1.0        0.478349          51.472890   \n55805965  280.000       2.0        1.0        0.742859          51.520910   \n55839051  599.950       2.0        1.0        0.259168          51.579186   \n55940994  385.000       2.0        2.0        0.403987          51.376930   \n56449305  380.000       2.0        1.0        0.310271          51.600483   \n57221413  475.000       3.0        2.0        0.409784          51.497260   \n\n          location.longitude  latitude_deviation  longitude_deviation  \\\n14520525           -0.207020            0.030230             0.102600   \n27953107           -0.482600            0.049670             0.378180   \n33593487           -0.338770            0.052540             0.234350   \n35271294           -0.140154            0.050152             0.035734   \n35429088           -0.141230            0.077310             0.036810   \n44749111           -0.212410            0.129670             0.107990   \n46204665           -0.198935            0.039350             0.094515   \n49020666           -0.380863            0.040239             0.276443   \n49036279            0.037890            0.042060             0.142310   \n49303873            0.187200            0.025160             0.291620   \n52064391           -0.361820            0.028920             0.257400   \n52187854           -0.202898            0.027479             0.098478   \n52675628            0.026315            0.001394             0.130735   \n52845963           -0.076812            0.101680             0.027608   \n52913496           -0.382239            0.039663             0.277819   \n53609433           -0.107860            0.032900             0.003440   \n53649578           -0.078500            0.019830             0.025920   \n53938989           -0.207902            0.158567             0.103482   \n54713232           -0.119860            0.112580             0.015440   \n54904122            0.022046            0.093875             0.126466   \n54991934            0.039180            0.029000             0.143600   \n55043230            0.014500            0.044710             0.118920   \n55187658            0.078030            0.007850             0.182450   \n55531367           -0.079170            0.032310             0.025250   \n55768232           -0.078940            0.026830             0.025480   \n55805965            0.022680            0.021190             0.127100   \n55839051           -0.209020            0.079466             0.104600   \n55940994           -0.238870            0.122790             0.134450   \n56449305           -0.062096            0.100763             0.042324   \n57221413           -0.422530            0.002460             0.318110   \n\n          tenure.tenureType  feature__1 bedroom  ...  feature__reception room  \\\n14520525          LEASEHOLD                   0  ...                        0   \n27953107          LEASEHOLD                   0  ...                        0   \n33593487           FREEHOLD                   0  ...                        0   \n35271294          LEASEHOLD                   0  ...                        0   \n35429088                NaN                   0  ...                        0   \n44749111           FREEHOLD                   0  ...                        0   \n46204665          LEASEHOLD                   0  ...                        0   \n49020666          LEASEHOLD                   0  ...                        0   \n49036279          LEASEHOLD                   0  ...                        0   \n49303873           FREEHOLD                   0  ...                        0   \n52064391          LEASEHOLD                   0  ...                        0   \n52187854          LEASEHOLD                   0  ...                        0   \n52675628                NaN                   0  ...                        0   \n52845963          LEASEHOLD                   0  ...                        0   \n52913496          LEASEHOLD                   0  ...                        0   \n53609433          LEASEHOLD                   0  ...                        0   \n53649578                NaN                   0  ...                        0   \n53938989           FREEHOLD                   0  ...                        0   \n54713232  SHARE_OF_FREEHOLD                   0  ...                        0   \n54904122  SHARE_OF_FREEHOLD                   0  ...                        0   \n54991934           FREEHOLD                   0  ...                        0   \n55043230          LEASEHOLD                   0  ...                        0   \n55187658          LEASEHOLD                   0  ...                        0   \n55531367                NaN                   0  ...                        0   \n55768232                NaN                   0  ...                        0   \n55805965          LEASEHOLD                   0  ...                        0   \n55839051          LEASEHOLD                   0  ...                        0   \n55940994          LEASEHOLD                   0  ...                        0   \n56449305           FREEHOLD                   0  ...                        1   \n57221413           FREEHOLD                   0  ...                        0   \n\n          feature__separate kitchen  feature__share of freehold  \\\n14520525                          1                           0   \n27953107                          0                           0   \n33593487                          0                           0   \n35271294                          0                           0   \n35429088                          0                           0   \n44749111                          0                           0   \n46204665                          0                           0   \n49020666                          0                           0   \n49036279                          0                           0   \n49303873                          0                           0   \n52064391                          0                           0   \n52187854                          0                           0   \n52675628                          0                           0   \n52845963                          0                           0   \n52913496                          0                           0   \n53609433                          0                           0   \n53649578                          0                           0   \n53938989                          0                           0   \n54713232                          0                           0   \n54904122                          0                           1   \n54991934                          0                           0   \n55043230                          0                           0   \n55187658                          0                           0   \n55531367                          0                           0   \n55768232                          0                           0   \n55805965                          0                           0   \n55839051                          0                           0   \n55940994                          0                           0   \n56449305                          0                           0   \n57221413                          0                           0   \n\n          feature__three bedrooms  feature__three double bedrooms  \\\n14520525                        0                               0   \n27953107                        0                               0   \n33593487                        0                               0   \n35271294                        0                               0   \n35429088                        0                               0   \n44749111                        0                               0   \n46204665                        1                               0   \n49020666                        0                               0   \n49036279                        0                               0   \n49303873                        0                               0   \n52064391                        0                               0   \n52187854                        0                               0   \n52675628                        0                               0   \n52845963                        0                               0   \n52913496                        0                               0   \n53609433                        0                               0   \n53649578                        0                               0   \n53938989                        0                               0   \n54713232                        0                               0   \n54904122                        0                               0   \n54991934                        0                               0   \n55043230                        0                               0   \n55187658                        0                               0   \n55531367                        0                               0   \n55768232                        0                               0   \n55805965                        0                               0   \n55839051                        0                               0   \n55940994                        0                               0   \n56449305                        0                               0   \n57221413                        1                               0   \n\n          feature__top floor  feature__two bathrooms  feature__two bedrooms  \\\n14520525                   0                       0                      0   \n27953107                   1                       0                      0   \n33593487                   0                       0                      0   \n35271294                   0                       0                      0   \n35429088                   0                       0                      0   \n44749111                   0                       0                      0   \n46204665                   0                       0                      0   \n49020666                   0                       0                      0   \n49036279                   0                       0                      0   \n49303873                   0                       0                      0   \n52064391                   0                       0                      1   \n52187854                   0                       0                      0   \n52675628                   0                       0                      0   \n52845963                   0                       0                      0   \n52913496                   0                       0                      0   \n53609433                   0                       0                      0   \n53649578                   0                       0                      0   \n53938989                   0                       0                      0   \n54713232                   0                       0                      0   \n54904122                   0                       0                      0   \n54991934                   0                       0                      0   \n55043230                   0                       0                      0   \n55187658                   0                       0                      0   \n55531367                   0                       0                      0   \n55768232                   0                       0                      0   \n55805965                   0                       0                      0   \n55839051                   0                       0                      0   \n55940994                   0                       0                      1   \n56449305                   0                       0                      1   \n57221413                   0                       0                      0   \n\n          feature__two double bedrooms  feature__two reception rooms  \n14520525                             0                             0  \n27953107                             1                             0  \n33593487                             0                             0  \n35271294                             0                             0  \n35429088                             0                             0  \n44749111                             0                             0  \n46204665                             0                             0  \n49020666                             0                             0  \n49036279                             0                             0  \n49303873                             0                             0  \n52064391                             0                             0  \n52187854                             0                             0  \n52675628                             0                             0  \n52845963                             0                             0  \n52913496                             0                             0  \n53609433                             0                             0  \n53649578                             0                             0  \n53938989                             0                             0  \n54713232                             0                             0  \n54904122                             0                             0  \n54991934                             0                             0  \n55043230                             0                             0  \n55187658                             0                             0  \n55531367                             1                             0  \n55768232                             0                             0  \n55805965                             0                             0  \n55839051                             0                             0  \n55940994                             0                             0  \n56449305                             0                             0  \n57221413                             0                             0  \n\n[30 rows x 59 columns]",
      "text/html": "<div>\n<style scoped>\n    .dataframe tbody tr th:only-of-type {\n        vertical-align: middle;\n    }\n\n    .dataframe tbody tr th {\n        vertical-align: top;\n    }\n\n    .dataframe thead th {\n        text-align: right;\n    }\n</style>\n<table border=\"1\" class=\"dataframe\">\n  <thead>\n    <tr style=\"text-align: right;\">\n      <th></th>\n      <th>Price</th>\n      <th>bedrooms</th>\n      <th>bathrooms</th>\n      <th>nearestStation</th>\n      <th>location.latitude</th>\n      <th>location.longitude</th>\n      <th>latitude_deviation</th>\n      <th>longitude_deviation</th>\n      <th>tenure.tenureType</th>\n      <th>feature__1 bedroom</th>\n      <th>...</th>\n      <th>feature__reception room</th>\n      <th>feature__separate kitchen</th>\n      <th>feature__share of freehold</th>\n      <th>feature__three bedrooms</th>\n      <th>feature__three double bedrooms</th>\n      <th>feature__top floor</th>\n      <th>feature__two bathrooms</th>\n      <th>feature__two bedrooms</th>\n      <th>feature__two double bedrooms</th>\n      <th>feature__two reception rooms</th>\n    </tr>\n  </thead>\n  <tbody>\n    <tr>\n      <th>14520525</th>\n      <td>550.000</td>\n      <td>3.0</td>\n      <td>1.0</td>\n      <td>0.274316</td>\n      <td>51.529950</td>\n      <td>-0.207020</td>\n      <td>0.030230</td>\n      <td>0.102600</td>\n      <td>LEASEHOLD</td>\n      <td>0</td>\n      <td>...</td>\n      <td>0</td>\n      <td>1</td>\n      <td>0</td>\n      <td>0</td>\n      <td>0</td>\n      <td>0</td>\n      <td>0</td>\n      <td>0</td>\n      <td>0</td>\n      <td>0</td>\n    </tr>\n    <tr>\n      <th>27953107</th>\n      <td>400.000</td>\n      <td>2.0</td>\n      <td>2.0</td>\n      <td>0.305845</td>\n      <td>51.549390</td>\n      <td>-0.482600</td>\n      <td>0.049670</td>\n      <td>0.378180</td>\n      <td>LEASEHOLD</td>\n      <td>0</td>\n      <td>...</td>\n      <td>0</td>\n      <td>0</td>\n      <td>0</td>\n      <td>0</td>\n      <td>0</td>\n      <td>1</td>\n      <td>0</td>\n      <td>0</td>\n      <td>1</td>\n      <td>0</td>\n    </tr>\n    <tr>\n      <th>33593487</th>\n      <td>579.950</td>\n      <td>2.0</td>\n      <td>1.0</td>\n      <td>0.438045</td>\n      <td>51.447180</td>\n      <td>-0.338770</td>\n      <td>0.052540</td>\n      <td>0.234350</td>\n      <td>FREEHOLD</td>\n      <td>0</td>\n      <td>...</td>\n      <td>0</td>\n      <td>0</td>\n      <td>0</td>\n      <td>0</td>\n      <td>0</td>\n      <td>0</td>\n      <td>0</td>\n      <td>0</td>\n      <td>0</td>\n      <td>0</td>\n    </tr>\n    <tr>\n      <th>35271294</th>\n      <td>370.000</td>\n      <td>2.0</td>\n      <td>1.0</td>\n      <td>0.399307</td>\n      <td>51.449568</td>\n      <td>-0.140154</td>\n      <td>0.050152</td>\n      <td>0.035734</td>\n      <td>LEASEHOLD</td>\n      <td>0</td>\n      <td>...</td>\n      <td>0</td>\n      <td>0</td>\n      <td>0</td>\n      <td>0</td>\n      <td>0</td>\n      <td>0</td>\n      <td>0</td>\n      <td>0</td>\n      <td>0</td>\n      <td>0</td>\n    </tr>\n    <tr>\n      <th>35429088</th>\n      <td>599.950</td>\n      <td>2.0</td>\n      <td>1.0</td>\n      <td>0.238187</td>\n      <td>51.577030</td>\n      <td>-0.141230</td>\n      <td>0.077310</td>\n      <td>0.036810</td>\n      <td>NaN</td>\n      <td>0</td>\n      <td>...</td>\n      <td>0</td>\n      <td>0</td>\n      <td>0</td>\n      <td>0</td>\n      <td>0</td>\n      <td>0</td>\n      <td>0</td>\n      <td>0</td>\n      <td>0</td>\n      <td>0</td>\n    </tr>\n    <tr>\n      <th>44749111</th>\n      <td>475.000</td>\n      <td>2.0</td>\n      <td>1.0</td>\n      <td>0.410550</td>\n      <td>51.370050</td>\n      <td>-0.212410</td>\n      <td>0.129670</td>\n      <td>0.107990</td>\n      <td>FREEHOLD</td>\n      <td>0</td>\n      <td>...</td>\n      <td>0</td>\n      <td>0</td>\n      <td>0</td>\n      <td>0</td>\n      <td>0</td>\n      <td>0</td>\n      <td>0</td>\n      <td>0</td>\n      <td>0</td>\n      <td>0</td>\n    </tr>\n    <tr>\n      <th>46204665</th>\n      <td>435.000</td>\n      <td>3.0</td>\n      <td>2.0</td>\n      <td>0.314779</td>\n      <td>51.539070</td>\n      <td>-0.198935</td>\n      <td>0.039350</td>\n      <td>0.094515</td>\n      <td>LEASEHOLD</td>\n      <td>0</td>\n      <td>...</td>\n      <td>0</td>\n      <td>0</td>\n      <td>0</td>\n      <td>1</td>\n      <td>0</td>\n      <td>0</td>\n      <td>0</td>\n      <td>0</td>\n      <td>0</td>\n      <td>0</td>\n    </tr>\n    <tr>\n      <th>49020666</th>\n      <td>200.000</td>\n      <td>1.0</td>\n      <td>1.0</td>\n      <td>0.875911</td>\n      <td>51.539959</td>\n      <td>-0.380863</td>\n      <td>0.040239</td>\n      <td>0.276443</td>\n      <td>LEASEHOLD</td>\n      <td>0</td>\n      <td>...</td>\n      <td>0</td>\n      <td>0</td>\n      <td>0</td>\n      <td>0</td>\n      <td>0</td>\n      <td>0</td>\n      <td>0</td>\n      <td>0</td>\n      <td>0</td>\n      <td>0</td>\n    </tr>\n    <tr>\n      <th>49036279</th>\n      <td>275.000</td>\n      <td>2.0</td>\n      <td>1.0</td>\n      <td>0.474368</td>\n      <td>51.541780</td>\n      <td>0.037890</td>\n      <td>0.042060</td>\n      <td>0.142310</td>\n      <td>LEASEHOLD</td>\n      <td>0</td>\n      <td>...</td>\n      <td>0</td>\n      <td>0</td>\n      <td>0</td>\n      <td>0</td>\n      <td>0</td>\n      <td>0</td>\n      <td>0</td>\n      <td>0</td>\n      <td>0</td>\n      <td>0</td>\n    </tr>\n    <tr>\n      <th>49303873</th>\n      <td>450.000</td>\n      <td>3.0</td>\n      <td>2.0</td>\n      <td>0.577040</td>\n      <td>51.524880</td>\n      <td>0.187200</td>\n      <td>0.025160</td>\n      <td>0.291620</td>\n      <td>FREEHOLD</td>\n      <td>0</td>\n      <td>...</td>\n      <td>0</td>\n      <td>0</td>\n      <td>0</td>\n      <td>0</td>\n      <td>0</td>\n      <td>0</td>\n      <td>0</td>\n      <td>0</td>\n      <td>0</td>\n      <td>0</td>\n    </tr>\n    <tr>\n      <th>52064391</th>\n      <td>349.950</td>\n      <td>2.0</td>\n      <td>2.0</td>\n      <td>0.212734</td>\n      <td>51.470800</td>\n      <td>-0.361820</td>\n      <td>0.028920</td>\n      <td>0.257400</td>\n      <td>LEASEHOLD</td>\n      <td>0</td>\n      <td>...</td>\n      <td>0</td>\n      <td>0</td>\n      <td>0</td>\n      <td>0</td>\n      <td>0</td>\n      <td>0</td>\n      <td>0</td>\n      <td>1</td>\n      <td>0</td>\n      <td>0</td>\n    </tr>\n    <tr>\n      <th>52187854</th>\n      <td>450.000</td>\n      <td>1.0</td>\n      <td>1.0</td>\n      <td>0.446802</td>\n      <td>51.527199</td>\n      <td>-0.202898</td>\n      <td>0.027479</td>\n      <td>0.098478</td>\n      <td>LEASEHOLD</td>\n      <td>0</td>\n      <td>...</td>\n      <td>0</td>\n      <td>0</td>\n      <td>0</td>\n      <td>0</td>\n      <td>0</td>\n      <td>0</td>\n      <td>0</td>\n      <td>0</td>\n      <td>0</td>\n      <td>0</td>\n    </tr>\n    <tr>\n      <th>52675628</th>\n      <td>490.000</td>\n      <td>2.0</td>\n      <td>2.0</td>\n      <td>0.215040</td>\n      <td>51.501114</td>\n      <td>0.026315</td>\n      <td>0.001394</td>\n      <td>0.130735</td>\n      <td>NaN</td>\n      <td>0</td>\n      <td>...</td>\n      <td>0</td>\n      <td>0</td>\n      <td>0</td>\n      <td>0</td>\n      <td>0</td>\n      <td>0</td>\n      <td>0</td>\n      <td>0</td>\n      <td>0</td>\n      <td>0</td>\n    </tr>\n    <tr>\n      <th>52845963</th>\n      <td>200.000</td>\n      <td>2.0</td>\n      <td>1.0</td>\n      <td>0.650562</td>\n      <td>51.398040</td>\n      <td>-0.076812</td>\n      <td>0.101680</td>\n      <td>0.027608</td>\n      <td>LEASEHOLD</td>\n      <td>0</td>\n      <td>...</td>\n      <td>0</td>\n      <td>0</td>\n      <td>0</td>\n      <td>0</td>\n      <td>0</td>\n      <td>0</td>\n      <td>0</td>\n      <td>0</td>\n      <td>0</td>\n      <td>0</td>\n    </tr>\n    <tr>\n      <th>52913496</th>\n      <td>220.000</td>\n      <td>1.0</td>\n      <td>1.0</td>\n      <td>0.945991</td>\n      <td>51.539383</td>\n      <td>-0.382239</td>\n      <td>0.039663</td>\n      <td>0.277819</td>\n      <td>LEASEHOLD</td>\n      <td>0</td>\n      <td>...</td>\n      <td>0</td>\n      <td>0</td>\n      <td>0</td>\n      <td>0</td>\n      <td>0</td>\n      <td>0</td>\n      <td>0</td>\n      <td>0</td>\n      <td>0</td>\n      <td>0</td>\n    </tr>\n    <tr>\n      <th>53609433</th>\n      <td>489.995</td>\n      <td>1.0</td>\n      <td>1.0</td>\n      <td>0.087081</td>\n      <td>51.532620</td>\n      <td>-0.107860</td>\n      <td>0.032900</td>\n      <td>0.003440</td>\n      <td>LEASEHOLD</td>\n      <td>0</td>\n      <td>...</td>\n      <td>0</td>\n      <td>0</td>\n      <td>0</td>\n      <td>0</td>\n      <td>0</td>\n      <td>0</td>\n      <td>0</td>\n      <td>0</td>\n      <td>0</td>\n      <td>0</td>\n    </tr>\n    <tr>\n      <th>53649578</th>\n      <td>284.950</td>\n      <td>1.0</td>\n      <td>1.0</td>\n      <td>0.806597</td>\n      <td>51.479890</td>\n      <td>-0.078500</td>\n      <td>0.019830</td>\n      <td>0.025920</td>\n      <td>NaN</td>\n      <td>0</td>\n      <td>...</td>\n      <td>0</td>\n      <td>0</td>\n      <td>0</td>\n      <td>0</td>\n      <td>0</td>\n      <td>0</td>\n      <td>0</td>\n      <td>0</td>\n      <td>0</td>\n      <td>0</td>\n    </tr>\n    <tr>\n      <th>53938989</th>\n      <td>450.000</td>\n      <td>2.0</td>\n      <td>1.0</td>\n      <td>0.775203</td>\n      <td>51.658287</td>\n      <td>-0.207902</td>\n      <td>0.158567</td>\n      <td>0.103482</td>\n      <td>FREEHOLD</td>\n      <td>0</td>\n      <td>...</td>\n      <td>0</td>\n      <td>0</td>\n      <td>0</td>\n      <td>0</td>\n      <td>0</td>\n      <td>0</td>\n      <td>0</td>\n      <td>0</td>\n      <td>0</td>\n      <td>0</td>\n    </tr>\n    <tr>\n      <th>54713232</th>\n      <td>332.000</td>\n      <td>2.0</td>\n      <td>1.0</td>\n      <td>0.319226</td>\n      <td>51.612300</td>\n      <td>-0.119860</td>\n      <td>0.112580</td>\n      <td>0.015440</td>\n      <td>SHARE_OF_FREEHOLD</td>\n      <td>0</td>\n      <td>...</td>\n      <td>0</td>\n      <td>0</td>\n      <td>0</td>\n      <td>0</td>\n      <td>0</td>\n      <td>0</td>\n      <td>0</td>\n      <td>0</td>\n      <td>0</td>\n      <td>0</td>\n    </tr>\n    <tr>\n      <th>54904122</th>\n      <td>365.000</td>\n      <td>2.0</td>\n      <td>1.0</td>\n      <td>0.260722</td>\n      <td>51.593595</td>\n      <td>0.022046</td>\n      <td>0.093875</td>\n      <td>0.126466</td>\n      <td>SHARE_OF_FREEHOLD</td>\n      <td>0</td>\n      <td>...</td>\n      <td>0</td>\n      <td>0</td>\n      <td>1</td>\n      <td>0</td>\n      <td>0</td>\n      <td>0</td>\n      <td>0</td>\n      <td>0</td>\n      <td>0</td>\n      <td>0</td>\n    </tr>\n    <tr>\n      <th>54991934</th>\n      <td>430.000</td>\n      <td>3.0</td>\n      <td>1.0</td>\n      <td>0.497268</td>\n      <td>51.528720</td>\n      <td>0.039180</td>\n      <td>0.029000</td>\n      <td>0.143600</td>\n      <td>FREEHOLD</td>\n      <td>0</td>\n      <td>...</td>\n      <td>0</td>\n      <td>0</td>\n      <td>0</td>\n      <td>0</td>\n      <td>0</td>\n      <td>0</td>\n      <td>0</td>\n      <td>0</td>\n      <td>0</td>\n      <td>0</td>\n    </tr>\n    <tr>\n      <th>55043230</th>\n      <td>260.000</td>\n      <td>1.0</td>\n      <td>1.0</td>\n      <td>0.384607</td>\n      <td>51.544430</td>\n      <td>0.014500</td>\n      <td>0.044710</td>\n      <td>0.118920</td>\n      <td>LEASEHOLD</td>\n      <td>0</td>\n      <td>...</td>\n      <td>0</td>\n      <td>0</td>\n      <td>0</td>\n      <td>0</td>\n      <td>0</td>\n      <td>0</td>\n      <td>0</td>\n      <td>0</td>\n      <td>0</td>\n      <td>0</td>\n    </tr>\n    <tr>\n      <th>55187658</th>\n      <td>430.000</td>\n      <td>2.0</td>\n      <td>2.0</td>\n      <td>0.289033</td>\n      <td>51.507570</td>\n      <td>0.078030</td>\n      <td>0.007850</td>\n      <td>0.182450</td>\n      <td>LEASEHOLD</td>\n      <td>0</td>\n      <td>...</td>\n      <td>0</td>\n      <td>0</td>\n      <td>0</td>\n      <td>0</td>\n      <td>0</td>\n      <td>0</td>\n      <td>0</td>\n      <td>0</td>\n      <td>0</td>\n      <td>0</td>\n    </tr>\n    <tr>\n      <th>55531367</th>\n      <td>599.950</td>\n      <td>2.0</td>\n      <td>1.0</td>\n      <td>0.406725</td>\n      <td>51.467410</td>\n      <td>-0.079170</td>\n      <td>0.032310</td>\n      <td>0.025250</td>\n      <td>NaN</td>\n      <td>0</td>\n      <td>...</td>\n      <td>0</td>\n      <td>0</td>\n      <td>0</td>\n      <td>0</td>\n      <td>0</td>\n      <td>0</td>\n      <td>0</td>\n      <td>0</td>\n      <td>1</td>\n      <td>0</td>\n    </tr>\n    <tr>\n      <th>55768232</th>\n      <td>550.000</td>\n      <td>2.0</td>\n      <td>1.0</td>\n      <td>0.478349</td>\n      <td>51.472890</td>\n      <td>-0.078940</td>\n      <td>0.026830</td>\n      <td>0.025480</td>\n      <td>NaN</td>\n      <td>0</td>\n      <td>...</td>\n      <td>0</td>\n      <td>0</td>\n      <td>0</td>\n      <td>0</td>\n      <td>0</td>\n      <td>0</td>\n      <td>0</td>\n      <td>0</td>\n      <td>0</td>\n      <td>0</td>\n    </tr>\n    <tr>\n      <th>55805965</th>\n      <td>280.000</td>\n      <td>2.0</td>\n      <td>1.0</td>\n      <td>0.742859</td>\n      <td>51.520910</td>\n      <td>0.022680</td>\n      <td>0.021190</td>\n      <td>0.127100</td>\n      <td>LEASEHOLD</td>\n      <td>0</td>\n      <td>...</td>\n      <td>0</td>\n      <td>0</td>\n      <td>0</td>\n      <td>0</td>\n      <td>0</td>\n      <td>0</td>\n      <td>0</td>\n      <td>0</td>\n      <td>0</td>\n      <td>0</td>\n    </tr>\n    <tr>\n      <th>55839051</th>\n      <td>599.950</td>\n      <td>2.0</td>\n      <td>1.0</td>\n      <td>0.259168</td>\n      <td>51.579186</td>\n      <td>-0.209020</td>\n      <td>0.079466</td>\n      <td>0.104600</td>\n      <td>LEASEHOLD</td>\n      <td>0</td>\n      <td>...</td>\n      <td>0</td>\n      <td>0</td>\n      <td>0</td>\n      <td>0</td>\n      <td>0</td>\n      <td>0</td>\n      <td>0</td>\n      <td>0</td>\n      <td>0</td>\n      <td>0</td>\n    </tr>\n    <tr>\n      <th>55940994</th>\n      <td>385.000</td>\n      <td>2.0</td>\n      <td>2.0</td>\n      <td>0.403987</td>\n      <td>51.376930</td>\n      <td>-0.238870</td>\n      <td>0.122790</td>\n      <td>0.134450</td>\n      <td>LEASEHOLD</td>\n      <td>0</td>\n      <td>...</td>\n      <td>0</td>\n      <td>0</td>\n      <td>0</td>\n      <td>0</td>\n      <td>0</td>\n      <td>0</td>\n      <td>0</td>\n      <td>1</td>\n      <td>0</td>\n      <td>0</td>\n    </tr>\n    <tr>\n      <th>56449305</th>\n      <td>380.000</td>\n      <td>2.0</td>\n      <td>1.0</td>\n      <td>0.310271</td>\n      <td>51.600483</td>\n      <td>-0.062096</td>\n      <td>0.100763</td>\n      <td>0.042324</td>\n      <td>FREEHOLD</td>\n      <td>0</td>\n      <td>...</td>\n      <td>1</td>\n      <td>0</td>\n      <td>0</td>\n      <td>0</td>\n      <td>0</td>\n      <td>0</td>\n      <td>0</td>\n      <td>1</td>\n      <td>0</td>\n      <td>0</td>\n    </tr>\n    <tr>\n      <th>57221413</th>\n      <td>475.000</td>\n      <td>3.0</td>\n      <td>2.0</td>\n      <td>0.409784</td>\n      <td>51.497260</td>\n      <td>-0.422530</td>\n      <td>0.002460</td>\n      <td>0.318110</td>\n      <td>FREEHOLD</td>\n      <td>0</td>\n      <td>...</td>\n      <td>0</td>\n      <td>0</td>\n      <td>0</td>\n      <td>1</td>\n      <td>0</td>\n      <td>0</td>\n      <td>0</td>\n      <td>0</td>\n      <td>0</td>\n      <td>0</td>\n    </tr>\n  </tbody>\n</table>\n<p>30 rows × 59 columns</p>\n</div>"
     },
     "execution_count": 8,
     "metadata": {},
     "output_type": "execute_result"
    }
   ],
   "source": [
    "df['Price'] = df['Price'] / 1000\n",
    "df.head(30)"
   ]
  },
  {
   "cell_type": "code",
   "execution_count": 9,
   "metadata": {
    "execution": {
     "iopub.execute_input": "2022-11-29T20:53:45.117528Z",
     "iopub.status.busy": "2022-11-29T20:53:45.117186Z",
     "iopub.status.idle": "2022-11-29T20:53:45.132618Z",
     "shell.execute_reply": "2022-11-29T20:53:45.131589Z",
     "shell.execute_reply.started": "2022-11-29T20:53:45.117499Z"
    }
   },
   "outputs": [
    {
     "data": {
      "text/plain": "Price                                    0\nbedrooms                                 0\nbathrooms                                0\nnearestStation                           0\nlocation.latitude                        0\nlocation.longitude                       0\nlatitude_deviation                       0\nlongitude_deviation                      0\ntenure.tenureType                     2744\nfeature__1 bedroom                       0\nfeature__2 bedrooms                      0\nfeature__2 double bedrooms               0\nfeature__allocated parking               0\nfeature__allocated parking space         0\nfeature__balcony                         0\nfeature__bathroom                        0\nfeature__chain free                      0\nfeature__close to local amenities        0\nfeature__communal garden                 0\nfeature__communal gardens                0\nfeature__double bedroom                  0\nfeature__double glazed                   0\nfeature__double glazing                  0\nfeature__epc rating c                    0\nfeature__epc rating d                    0\nfeature__excellent location              0\nfeature__excellent transport links       0\nfeature__family bathroom                 0\nfeature__first floor                     0\nfeature__fitted kitchen                  0\nfeature__garage                          0\nfeature__garden                          0\nfeature__gas central heating             0\nfeature__great location                  0\nfeature__ground floor                    0\nfeature__kitchen                         0\nfeature__leasehold                       0\nfeature__long lease                      0\nfeature__modern bathroom                 0\nfeature__modern kitchen                  0\nfeature__no chain                        0\nfeature__no onward chain                 0\nfeature__off street parking              0\nfeature__one bedroom                     0\nfeature__one double bedroom              0\nfeature__parking                         0\nfeature__private balcony                 0\nfeature__private garden                  0\nfeature__private rear garden             0\nfeature__reception room                  0\nfeature__separate kitchen                0\nfeature__share of freehold               0\nfeature__three bedrooms                  0\nfeature__three double bedrooms           0\nfeature__top floor                       0\nfeature__two bathrooms                   0\nfeature__two bedrooms                    0\nfeature__two double bedrooms             0\nfeature__two reception rooms             0\ndtype: int64"
     },
     "execution_count": 9,
     "metadata": {},
     "output_type": "execute_result"
    }
   ],
   "source": [
    "df.isnull().sum()"
   ]
  },
  {
   "cell_type": "code",
   "execution_count": 10,
   "metadata": {
    "execution": {
     "iopub.execute_input": "2022-11-29T20:53:45.134232Z",
     "iopub.status.busy": "2022-11-29T20:53:45.133921Z",
     "iopub.status.idle": "2022-11-29T20:53:45.314024Z",
     "shell.execute_reply": "2022-11-29T20:53:45.313146Z",
     "shell.execute_reply.started": "2022-11-29T20:53:45.134204Z"
    }
   },
   "outputs": [
    {
     "name": "stdout",
     "output_type": "stream",
     "text": [
      "<class 'pandas.core.frame.DataFrame'>\n",
      "Int64Index: 46871 entries, 14520525 to 126181118\n",
      "Data columns (total 59 columns):\n",
      " #   Column                              Non-Null Count  Dtype  \n",
      "---  ------                              --------------  -----  \n",
      " 0   Price                               46871 non-null  float64\n",
      " 1   bedrooms                            46871 non-null  float64\n",
      " 2   bathrooms                           46871 non-null  float64\n",
      " 3   nearestStation                      46871 non-null  float64\n",
      " 4   location.latitude                   46871 non-null  float64\n",
      " 5   location.longitude                  46871 non-null  float64\n",
      " 6   latitude_deviation                  46871 non-null  float64\n",
      " 7   longitude_deviation                 46871 non-null  float64\n",
      " 8   tenure.tenureType                   44127 non-null  object \n",
      " 9   feature__1 bedroom                  46871 non-null  int64  \n",
      " 10  feature__2 bedrooms                 46871 non-null  int64  \n",
      " 11  feature__2 double bedrooms          46871 non-null  int64  \n",
      " 12  feature__allocated parking          46871 non-null  int64  \n",
      " 13  feature__allocated parking space    46871 non-null  int64  \n",
      " 14  feature__balcony                    46871 non-null  int64  \n",
      " 15  feature__bathroom                   46871 non-null  int64  \n",
      " 16  feature__chain free                 46871 non-null  int64  \n",
      " 17  feature__close to local amenities   46871 non-null  int64  \n",
      " 18  feature__communal garden            46871 non-null  int64  \n",
      " 19  feature__communal gardens           46871 non-null  int64  \n",
      " 20  feature__double bedroom             46871 non-null  int64  \n",
      " 21  feature__double glazed              46871 non-null  int64  \n",
      " 22  feature__double glazing             46871 non-null  int64  \n",
      " 23  feature__epc rating c               46871 non-null  int64  \n",
      " 24  feature__epc rating d               46871 non-null  int64  \n",
      " 25  feature__excellent location         46871 non-null  int64  \n",
      " 26  feature__excellent transport links  46871 non-null  int64  \n",
      " 27  feature__family bathroom            46871 non-null  int64  \n",
      " 28  feature__first floor                46871 non-null  int64  \n",
      " 29  feature__fitted kitchen             46871 non-null  int64  \n",
      " 30  feature__garage                     46871 non-null  int64  \n",
      " 31  feature__garden                     46871 non-null  int64  \n",
      " 32  feature__gas central heating        46871 non-null  int64  \n",
      " 33  feature__great location             46871 non-null  int64  \n",
      " 34  feature__ground floor               46871 non-null  int64  \n",
      " 35  feature__kitchen                    46871 non-null  int64  \n",
      " 36  feature__leasehold                  46871 non-null  int64  \n",
      " 37  feature__long lease                 46871 non-null  int64  \n",
      " 38  feature__modern bathroom            46871 non-null  int64  \n",
      " 39  feature__modern kitchen             46871 non-null  int64  \n",
      " 40  feature__no chain                   46871 non-null  int64  \n",
      " 41  feature__no onward chain            46871 non-null  int64  \n",
      " 42  feature__off street parking         46871 non-null  int64  \n",
      " 43  feature__one bedroom                46871 non-null  int64  \n",
      " 44  feature__one double bedroom         46871 non-null  int64  \n",
      " 45  feature__parking                    46871 non-null  int64  \n",
      " 46  feature__private balcony            46871 non-null  int64  \n",
      " 47  feature__private garden             46871 non-null  int64  \n",
      " 48  feature__private rear garden        46871 non-null  int64  \n",
      " 49  feature__reception room             46871 non-null  int64  \n",
      " 50  feature__separate kitchen           46871 non-null  int64  \n",
      " 51  feature__share of freehold          46871 non-null  int64  \n",
      " 52  feature__three bedrooms             46871 non-null  int64  \n",
      " 53  feature__three double bedrooms      46871 non-null  int64  \n",
      " 54  feature__top floor                  46871 non-null  int64  \n",
      " 55  feature__two bathrooms              46871 non-null  int64  \n",
      " 56  feature__two bedrooms               46871 non-null  int64  \n",
      " 57  feature__two double bedrooms        46871 non-null  int64  \n",
      " 58  feature__two reception rooms        46871 non-null  int64  \n",
      "dtypes: float64(8), int64(50), object(1)\n",
      "memory usage: 21.5+ MB\n"
     ]
    },
    {
     "data": {
      "text/plain": "                                      count        mean         std  \\\nPrice                               46871.0  425.069391  107.227325   \nbedrooms                            46871.0    1.992469    0.828837   \nbathrooms                           46871.0    1.182074    0.409879   \nnearestStation                      46871.0    0.438847    0.325942   \nlocation.latitude                   46871.0   51.497049    0.077085   \nlocation.longitude                  46871.0   -0.113269    0.156489   \nlatitude_deviation                  46871.0    0.064317    0.042573   \nlongitude_deviation                 46871.0    0.124202    0.095607   \nfeature__1 bedroom                  46871.0    0.010838    0.103542   \nfeature__2 bedrooms                 46871.0    0.015169    0.122402   \nfeature__2 double bedrooms          46871.0    0.013569    0.115695   \nfeature__allocated parking          46871.0    0.026946    0.161928   \nfeature__allocated parking space    46871.0    0.012993    0.113246   \nfeature__balcony                    46871.0    0.038617    0.193124   \nfeature__bathroom                   46871.0    0.026370    0.160502   \nfeature__chain free                 46871.0    0.120266    0.325800   \nfeature__close to local amenities   46871.0    0.011948    0.108848   \nfeature__communal garden            46871.0    0.018071    0.133209   \nfeature__communal gardens           46871.0    0.030381    0.171760   \nfeature__double bedroom             46871.0    0.012566    0.111395   \nfeature__double glazed              46871.0    0.012822    0.112509   \nfeature__double glazing             46871.0    0.025496    0.157761   \nfeature__epc rating c               46871.0    0.012140    0.109511   \nfeature__epc rating d               46871.0    0.013334    0.114704   \nfeature__excellent location         46871.0    0.013612    0.115874   \nfeature__excellent transport links  46871.0    0.016385    0.127122   \nfeature__family bathroom            46871.0    0.014593    0.120097   \nfeature__first floor                46871.0    0.026520    0.160676   \nfeature__fitted kitchen             46871.0    0.027224    0.162867   \nfeature__garage                     46871.0    0.030424    0.172001   \nfeature__garden                     46871.0    0.021015    0.144178   \nfeature__gas central heating        46871.0    0.028120    0.165961   \nfeature__great location             46871.0    0.015660    0.124158   \nfeature__ground floor               46871.0    0.028760    0.167132   \nfeature__kitchen                    46871.0    0.022850    0.149427   \nfeature__leasehold                  46871.0    0.014316    0.118970   \nfeature__long lease                 46871.0    0.039619    0.195175   \nfeature__modern bathroom            46871.0    0.015361    0.122986   \nfeature__modern kitchen             46871.0    0.014465    0.119400   \nfeature__no chain                   46871.0    0.026669    0.161380   \nfeature__no onward chain            46871.0    0.057925    0.233604   \nfeature__off street parking         46871.0    0.047300    0.212684   \nfeature__one bedroom                46871.0    0.041369    0.199144   \nfeature__one double bedroom         46871.0    0.027885    0.164645   \nfeature__parking                    46871.0    0.013398    0.115160   \nfeature__private balcony            46871.0    0.039662    0.195275   \nfeature__private garden             46871.0    0.034200    0.181980   \nfeature__private rear garden        46871.0    0.017367    0.131124   \nfeature__reception room             46871.0    0.014487    0.119843   \nfeature__separate kitchen           46871.0    0.020268    0.140918   \nfeature__share of freehold          46871.0    0.047663    0.213354   \nfeature__three bedrooms             46871.0    0.059120    0.235851   \nfeature__three double bedrooms      46871.0    0.012545    0.111301   \nfeature__top floor                  46871.0    0.013206    0.114159   \nfeature__two bathrooms              46871.0    0.031512    0.174943   \nfeature__two bedrooms               46871.0    0.071473    0.257616   \nfeature__two double bedrooms        46871.0    0.095411    0.293930   \nfeature__two reception rooms        46871.0    0.016449    0.127197   \n\n                                           min         25%         50%  \\\nPrice                               100.000000  349.950000  425.000000   \nbedrooms                              1.000000    1.000000    2.000000   \nbathrooms                             1.000000    1.000000    1.000000   \nnearestStation                        0.000000    0.227169    0.367971   \nlocation.latitude                    51.298317   51.438861   51.499977   \nlocation.longitude                   -0.498315   -0.210796   -0.102230   \nlatitude_deviation                    0.000000    0.028876    0.058595   \nlongitude_deviation                   0.000000    0.043560    0.098984   \nfeature__1 bedroom                    0.000000    0.000000    0.000000   \nfeature__2 bedrooms                   0.000000    0.000000    0.000000   \nfeature__2 double bedrooms            0.000000    0.000000    0.000000   \nfeature__allocated parking            0.000000    0.000000    0.000000   \nfeature__allocated parking space      0.000000    0.000000    0.000000   \nfeature__balcony                      0.000000    0.000000    0.000000   \nfeature__bathroom                     0.000000    0.000000    0.000000   \nfeature__chain free                   0.000000    0.000000    0.000000   \nfeature__close to local amenities     0.000000    0.000000    0.000000   \nfeature__communal garden              0.000000    0.000000    0.000000   \nfeature__communal gardens             0.000000    0.000000    0.000000   \nfeature__double bedroom               0.000000    0.000000    0.000000   \nfeature__double glazed                0.000000    0.000000    0.000000   \nfeature__double glazing               0.000000    0.000000    0.000000   \nfeature__epc rating c                 0.000000    0.000000    0.000000   \nfeature__epc rating d                 0.000000    0.000000    0.000000   \nfeature__excellent location           0.000000    0.000000    0.000000   \nfeature__excellent transport links    0.000000    0.000000    0.000000   \nfeature__family bathroom              0.000000    0.000000    0.000000   \nfeature__first floor                  0.000000    0.000000    0.000000   \nfeature__fitted kitchen               0.000000    0.000000    0.000000   \nfeature__garage                       0.000000    0.000000    0.000000   \nfeature__garden                       0.000000    0.000000    0.000000   \nfeature__gas central heating          0.000000    0.000000    0.000000   \nfeature__great location               0.000000    0.000000    0.000000   \nfeature__ground floor                 0.000000    0.000000    0.000000   \nfeature__kitchen                      0.000000    0.000000    0.000000   \nfeature__leasehold                    0.000000    0.000000    0.000000   \nfeature__long lease                   0.000000    0.000000    0.000000   \nfeature__modern bathroom              0.000000    0.000000    0.000000   \nfeature__modern kitchen               0.000000    0.000000    0.000000   \nfeature__no chain                     0.000000    0.000000    0.000000   \nfeature__no onward chain              0.000000    0.000000    0.000000   \nfeature__off street parking           0.000000    0.000000    0.000000   \nfeature__one bedroom                  0.000000    0.000000    0.000000   \nfeature__one double bedroom           0.000000    0.000000    0.000000   \nfeature__parking                      0.000000    0.000000    0.000000   \nfeature__private balcony              0.000000    0.000000    0.000000   \nfeature__private garden               0.000000    0.000000    0.000000   \nfeature__private rear garden          0.000000    0.000000    0.000000   \nfeature__reception room               0.000000    0.000000    0.000000   \nfeature__separate kitchen             0.000000    0.000000    0.000000   \nfeature__share of freehold            0.000000    0.000000    0.000000   \nfeature__three bedrooms               0.000000    0.000000    0.000000   \nfeature__three double bedrooms        0.000000    0.000000    0.000000   \nfeature__top floor                    0.000000    0.000000    0.000000   \nfeature__two bathrooms                0.000000    0.000000    0.000000   \nfeature__two bedrooms                 0.000000    0.000000    0.000000   \nfeature__two double bedrooms          0.000000    0.000000    0.000000   \nfeature__two reception rooms          0.000000    0.000000    0.000000   \n\n                                           75%         max  \nPrice                               515.000000  600.000000  \nbedrooms                              3.000000    7.000000  \nbathrooms                             1.000000    5.000000  \nnearestStation                        0.559620    7.197700  \nlocation.latitude                    51.556183   51.683185  \nlocation.longitude                   -0.010343    0.279726  \nlatitude_deviation                    0.094362    0.201403  \nlongitude_deviation                   0.192684    0.393895  \nfeature__1 bedroom                    0.000000    1.000000  \nfeature__2 bedrooms                   0.000000    2.000000  \nfeature__2 double bedrooms            0.000000    1.000000  \nfeature__allocated parking            0.000000    1.000000  \nfeature__allocated parking space      0.000000    1.000000  \nfeature__balcony                      0.000000    2.000000  \nfeature__bathroom                     0.000000    2.000000  \nfeature__chain free                   0.000000    2.000000  \nfeature__close to local amenities     0.000000    2.000000  \nfeature__communal garden              0.000000    1.000000  \nfeature__communal gardens             0.000000    2.000000  \nfeature__double bedroom               0.000000    1.000000  \nfeature__double glazed                0.000000    1.000000  \nfeature__double glazing               0.000000    2.000000  \nfeature__epc rating c                 0.000000    1.000000  \nfeature__epc rating d                 0.000000    1.000000  \nfeature__excellent location           0.000000    1.000000  \nfeature__excellent transport links    0.000000    2.000000  \nfeature__family bathroom              0.000000    2.000000  \nfeature__first floor                  0.000000    1.000000  \nfeature__fitted kitchen               0.000000    2.000000  \nfeature__garage                       0.000000    2.000000  \nfeature__garden                       0.000000    2.000000  \nfeature__gas central heating          0.000000    2.000000  \nfeature__great location               0.000000    1.000000  \nfeature__ground floor                 0.000000    1.000000  \nfeature__kitchen                      0.000000    1.000000  \nfeature__leasehold                    0.000000    2.000000  \nfeature__long lease                   0.000000    2.000000  \nfeature__modern bathroom              0.000000    1.000000  \nfeature__modern kitchen               0.000000    1.000000  \nfeature__no chain                     0.000000    2.000000  \nfeature__no onward chain              0.000000    1.000000  \nfeature__off street parking           0.000000    2.000000  \nfeature__one bedroom                  0.000000    1.000000  \nfeature__one double bedroom           0.000000    1.000000  \nfeature__parking                      0.000000    2.000000  \nfeature__private balcony              0.000000    2.000000  \nfeature__private garden               0.000000    2.000000  \nfeature__private rear garden          0.000000    2.000000  \nfeature__reception room               0.000000    2.000000  \nfeature__separate kitchen             0.000000    1.000000  \nfeature__share of freehold            0.000000    2.000000  \nfeature__three bedrooms               0.000000    1.000000  \nfeature__three double bedrooms        0.000000    1.000000  \nfeature__top floor                    0.000000    1.000000  \nfeature__two bathrooms                0.000000    2.000000  \nfeature__two bedrooms                 0.000000    1.000000  \nfeature__two double bedrooms          0.000000    2.000000  \nfeature__two reception rooms          0.000000    1.000000  ",
      "text/html": "<div>\n<style scoped>\n    .dataframe tbody tr th:only-of-type {\n        vertical-align: middle;\n    }\n\n    .dataframe tbody tr th {\n        vertical-align: top;\n    }\n\n    .dataframe thead th {\n        text-align: right;\n    }\n</style>\n<table border=\"1\" class=\"dataframe\">\n  <thead>\n    <tr style=\"text-align: right;\">\n      <th></th>\n      <th>count</th>\n      <th>mean</th>\n      <th>std</th>\n      <th>min</th>\n      <th>25%</th>\n      <th>50%</th>\n      <th>75%</th>\n      <th>max</th>\n    </tr>\n  </thead>\n  <tbody>\n    <tr>\n      <th>Price</th>\n      <td>46871.0</td>\n      <td>425.069391</td>\n      <td>107.227325</td>\n      <td>100.000000</td>\n      <td>349.950000</td>\n      <td>425.000000</td>\n      <td>515.000000</td>\n      <td>600.000000</td>\n    </tr>\n    <tr>\n      <th>bedrooms</th>\n      <td>46871.0</td>\n      <td>1.992469</td>\n      <td>0.828837</td>\n      <td>1.000000</td>\n      <td>1.000000</td>\n      <td>2.000000</td>\n      <td>3.000000</td>\n      <td>7.000000</td>\n    </tr>\n    <tr>\n      <th>bathrooms</th>\n      <td>46871.0</td>\n      <td>1.182074</td>\n      <td>0.409879</td>\n      <td>1.000000</td>\n      <td>1.000000</td>\n      <td>1.000000</td>\n      <td>1.000000</td>\n      <td>5.000000</td>\n    </tr>\n    <tr>\n      <th>nearestStation</th>\n      <td>46871.0</td>\n      <td>0.438847</td>\n      <td>0.325942</td>\n      <td>0.000000</td>\n      <td>0.227169</td>\n      <td>0.367971</td>\n      <td>0.559620</td>\n      <td>7.197700</td>\n    </tr>\n    <tr>\n      <th>location.latitude</th>\n      <td>46871.0</td>\n      <td>51.497049</td>\n      <td>0.077085</td>\n      <td>51.298317</td>\n      <td>51.438861</td>\n      <td>51.499977</td>\n      <td>51.556183</td>\n      <td>51.683185</td>\n    </tr>\n    <tr>\n      <th>location.longitude</th>\n      <td>46871.0</td>\n      <td>-0.113269</td>\n      <td>0.156489</td>\n      <td>-0.498315</td>\n      <td>-0.210796</td>\n      <td>-0.102230</td>\n      <td>-0.010343</td>\n      <td>0.279726</td>\n    </tr>\n    <tr>\n      <th>latitude_deviation</th>\n      <td>46871.0</td>\n      <td>0.064317</td>\n      <td>0.042573</td>\n      <td>0.000000</td>\n      <td>0.028876</td>\n      <td>0.058595</td>\n      <td>0.094362</td>\n      <td>0.201403</td>\n    </tr>\n    <tr>\n      <th>longitude_deviation</th>\n      <td>46871.0</td>\n      <td>0.124202</td>\n      <td>0.095607</td>\n      <td>0.000000</td>\n      <td>0.043560</td>\n      <td>0.098984</td>\n      <td>0.192684</td>\n      <td>0.393895</td>\n    </tr>\n    <tr>\n      <th>feature__1 bedroom</th>\n      <td>46871.0</td>\n      <td>0.010838</td>\n      <td>0.103542</td>\n      <td>0.000000</td>\n      <td>0.000000</td>\n      <td>0.000000</td>\n      <td>0.000000</td>\n      <td>1.000000</td>\n    </tr>\n    <tr>\n      <th>feature__2 bedrooms</th>\n      <td>46871.0</td>\n      <td>0.015169</td>\n      <td>0.122402</td>\n      <td>0.000000</td>\n      <td>0.000000</td>\n      <td>0.000000</td>\n      <td>0.000000</td>\n      <td>2.000000</td>\n    </tr>\n    <tr>\n      <th>feature__2 double bedrooms</th>\n      <td>46871.0</td>\n      <td>0.013569</td>\n      <td>0.115695</td>\n      <td>0.000000</td>\n      <td>0.000000</td>\n      <td>0.000000</td>\n      <td>0.000000</td>\n      <td>1.000000</td>\n    </tr>\n    <tr>\n      <th>feature__allocated parking</th>\n      <td>46871.0</td>\n      <td>0.026946</td>\n      <td>0.161928</td>\n      <td>0.000000</td>\n      <td>0.000000</td>\n      <td>0.000000</td>\n      <td>0.000000</td>\n      <td>1.000000</td>\n    </tr>\n    <tr>\n      <th>feature__allocated parking space</th>\n      <td>46871.0</td>\n      <td>0.012993</td>\n      <td>0.113246</td>\n      <td>0.000000</td>\n      <td>0.000000</td>\n      <td>0.000000</td>\n      <td>0.000000</td>\n      <td>1.000000</td>\n    </tr>\n    <tr>\n      <th>feature__balcony</th>\n      <td>46871.0</td>\n      <td>0.038617</td>\n      <td>0.193124</td>\n      <td>0.000000</td>\n      <td>0.000000</td>\n      <td>0.000000</td>\n      <td>0.000000</td>\n      <td>2.000000</td>\n    </tr>\n    <tr>\n      <th>feature__bathroom</th>\n      <td>46871.0</td>\n      <td>0.026370</td>\n      <td>0.160502</td>\n      <td>0.000000</td>\n      <td>0.000000</td>\n      <td>0.000000</td>\n      <td>0.000000</td>\n      <td>2.000000</td>\n    </tr>\n    <tr>\n      <th>feature__chain free</th>\n      <td>46871.0</td>\n      <td>0.120266</td>\n      <td>0.325800</td>\n      <td>0.000000</td>\n      <td>0.000000</td>\n      <td>0.000000</td>\n      <td>0.000000</td>\n      <td>2.000000</td>\n    </tr>\n    <tr>\n      <th>feature__close to local amenities</th>\n      <td>46871.0</td>\n      <td>0.011948</td>\n      <td>0.108848</td>\n      <td>0.000000</td>\n      <td>0.000000</td>\n      <td>0.000000</td>\n      <td>0.000000</td>\n      <td>2.000000</td>\n    </tr>\n    <tr>\n      <th>feature__communal garden</th>\n      <td>46871.0</td>\n      <td>0.018071</td>\n      <td>0.133209</td>\n      <td>0.000000</td>\n      <td>0.000000</td>\n      <td>0.000000</td>\n      <td>0.000000</td>\n      <td>1.000000</td>\n    </tr>\n    <tr>\n      <th>feature__communal gardens</th>\n      <td>46871.0</td>\n      <td>0.030381</td>\n      <td>0.171760</td>\n      <td>0.000000</td>\n      <td>0.000000</td>\n      <td>0.000000</td>\n      <td>0.000000</td>\n      <td>2.000000</td>\n    </tr>\n    <tr>\n      <th>feature__double bedroom</th>\n      <td>46871.0</td>\n      <td>0.012566</td>\n      <td>0.111395</td>\n      <td>0.000000</td>\n      <td>0.000000</td>\n      <td>0.000000</td>\n      <td>0.000000</td>\n      <td>1.000000</td>\n    </tr>\n    <tr>\n      <th>feature__double glazed</th>\n      <td>46871.0</td>\n      <td>0.012822</td>\n      <td>0.112509</td>\n      <td>0.000000</td>\n      <td>0.000000</td>\n      <td>0.000000</td>\n      <td>0.000000</td>\n      <td>1.000000</td>\n    </tr>\n    <tr>\n      <th>feature__double glazing</th>\n      <td>46871.0</td>\n      <td>0.025496</td>\n      <td>0.157761</td>\n      <td>0.000000</td>\n      <td>0.000000</td>\n      <td>0.000000</td>\n      <td>0.000000</td>\n      <td>2.000000</td>\n    </tr>\n    <tr>\n      <th>feature__epc rating c</th>\n      <td>46871.0</td>\n      <td>0.012140</td>\n      <td>0.109511</td>\n      <td>0.000000</td>\n      <td>0.000000</td>\n      <td>0.000000</td>\n      <td>0.000000</td>\n      <td>1.000000</td>\n    </tr>\n    <tr>\n      <th>feature__epc rating d</th>\n      <td>46871.0</td>\n      <td>0.013334</td>\n      <td>0.114704</td>\n      <td>0.000000</td>\n      <td>0.000000</td>\n      <td>0.000000</td>\n      <td>0.000000</td>\n      <td>1.000000</td>\n    </tr>\n    <tr>\n      <th>feature__excellent location</th>\n      <td>46871.0</td>\n      <td>0.013612</td>\n      <td>0.115874</td>\n      <td>0.000000</td>\n      <td>0.000000</td>\n      <td>0.000000</td>\n      <td>0.000000</td>\n      <td>1.000000</td>\n    </tr>\n    <tr>\n      <th>feature__excellent transport links</th>\n      <td>46871.0</td>\n      <td>0.016385</td>\n      <td>0.127122</td>\n      <td>0.000000</td>\n      <td>0.000000</td>\n      <td>0.000000</td>\n      <td>0.000000</td>\n      <td>2.000000</td>\n    </tr>\n    <tr>\n      <th>feature__family bathroom</th>\n      <td>46871.0</td>\n      <td>0.014593</td>\n      <td>0.120097</td>\n      <td>0.000000</td>\n      <td>0.000000</td>\n      <td>0.000000</td>\n      <td>0.000000</td>\n      <td>2.000000</td>\n    </tr>\n    <tr>\n      <th>feature__first floor</th>\n      <td>46871.0</td>\n      <td>0.026520</td>\n      <td>0.160676</td>\n      <td>0.000000</td>\n      <td>0.000000</td>\n      <td>0.000000</td>\n      <td>0.000000</td>\n      <td>1.000000</td>\n    </tr>\n    <tr>\n      <th>feature__fitted kitchen</th>\n      <td>46871.0</td>\n      <td>0.027224</td>\n      <td>0.162867</td>\n      <td>0.000000</td>\n      <td>0.000000</td>\n      <td>0.000000</td>\n      <td>0.000000</td>\n      <td>2.000000</td>\n    </tr>\n    <tr>\n      <th>feature__garage</th>\n      <td>46871.0</td>\n      <td>0.030424</td>\n      <td>0.172001</td>\n      <td>0.000000</td>\n      <td>0.000000</td>\n      <td>0.000000</td>\n      <td>0.000000</td>\n      <td>2.000000</td>\n    </tr>\n    <tr>\n      <th>feature__garden</th>\n      <td>46871.0</td>\n      <td>0.021015</td>\n      <td>0.144178</td>\n      <td>0.000000</td>\n      <td>0.000000</td>\n      <td>0.000000</td>\n      <td>0.000000</td>\n      <td>2.000000</td>\n    </tr>\n    <tr>\n      <th>feature__gas central heating</th>\n      <td>46871.0</td>\n      <td>0.028120</td>\n      <td>0.165961</td>\n      <td>0.000000</td>\n      <td>0.000000</td>\n      <td>0.000000</td>\n      <td>0.000000</td>\n      <td>2.000000</td>\n    </tr>\n    <tr>\n      <th>feature__great location</th>\n      <td>46871.0</td>\n      <td>0.015660</td>\n      <td>0.124158</td>\n      <td>0.000000</td>\n      <td>0.000000</td>\n      <td>0.000000</td>\n      <td>0.000000</td>\n      <td>1.000000</td>\n    </tr>\n    <tr>\n      <th>feature__ground floor</th>\n      <td>46871.0</td>\n      <td>0.028760</td>\n      <td>0.167132</td>\n      <td>0.000000</td>\n      <td>0.000000</td>\n      <td>0.000000</td>\n      <td>0.000000</td>\n      <td>1.000000</td>\n    </tr>\n    <tr>\n      <th>feature__kitchen</th>\n      <td>46871.0</td>\n      <td>0.022850</td>\n      <td>0.149427</td>\n      <td>0.000000</td>\n      <td>0.000000</td>\n      <td>0.000000</td>\n      <td>0.000000</td>\n      <td>1.000000</td>\n    </tr>\n    <tr>\n      <th>feature__leasehold</th>\n      <td>46871.0</td>\n      <td>0.014316</td>\n      <td>0.118970</td>\n      <td>0.000000</td>\n      <td>0.000000</td>\n      <td>0.000000</td>\n      <td>0.000000</td>\n      <td>2.000000</td>\n    </tr>\n    <tr>\n      <th>feature__long lease</th>\n      <td>46871.0</td>\n      <td>0.039619</td>\n      <td>0.195175</td>\n      <td>0.000000</td>\n      <td>0.000000</td>\n      <td>0.000000</td>\n      <td>0.000000</td>\n      <td>2.000000</td>\n    </tr>\n    <tr>\n      <th>feature__modern bathroom</th>\n      <td>46871.0</td>\n      <td>0.015361</td>\n      <td>0.122986</td>\n      <td>0.000000</td>\n      <td>0.000000</td>\n      <td>0.000000</td>\n      <td>0.000000</td>\n      <td>1.000000</td>\n    </tr>\n    <tr>\n      <th>feature__modern kitchen</th>\n      <td>46871.0</td>\n      <td>0.014465</td>\n      <td>0.119400</td>\n      <td>0.000000</td>\n      <td>0.000000</td>\n      <td>0.000000</td>\n      <td>0.000000</td>\n      <td>1.000000</td>\n    </tr>\n    <tr>\n      <th>feature__no chain</th>\n      <td>46871.0</td>\n      <td>0.026669</td>\n      <td>0.161380</td>\n      <td>0.000000</td>\n      <td>0.000000</td>\n      <td>0.000000</td>\n      <td>0.000000</td>\n      <td>2.000000</td>\n    </tr>\n    <tr>\n      <th>feature__no onward chain</th>\n      <td>46871.0</td>\n      <td>0.057925</td>\n      <td>0.233604</td>\n      <td>0.000000</td>\n      <td>0.000000</td>\n      <td>0.000000</td>\n      <td>0.000000</td>\n      <td>1.000000</td>\n    </tr>\n    <tr>\n      <th>feature__off street parking</th>\n      <td>46871.0</td>\n      <td>0.047300</td>\n      <td>0.212684</td>\n      <td>0.000000</td>\n      <td>0.000000</td>\n      <td>0.000000</td>\n      <td>0.000000</td>\n      <td>2.000000</td>\n    </tr>\n    <tr>\n      <th>feature__one bedroom</th>\n      <td>46871.0</td>\n      <td>0.041369</td>\n      <td>0.199144</td>\n      <td>0.000000</td>\n      <td>0.000000</td>\n      <td>0.000000</td>\n      <td>0.000000</td>\n      <td>1.000000</td>\n    </tr>\n    <tr>\n      <th>feature__one double bedroom</th>\n      <td>46871.0</td>\n      <td>0.027885</td>\n      <td>0.164645</td>\n      <td>0.000000</td>\n      <td>0.000000</td>\n      <td>0.000000</td>\n      <td>0.000000</td>\n      <td>1.000000</td>\n    </tr>\n    <tr>\n      <th>feature__parking</th>\n      <td>46871.0</td>\n      <td>0.013398</td>\n      <td>0.115160</td>\n      <td>0.000000</td>\n      <td>0.000000</td>\n      <td>0.000000</td>\n      <td>0.000000</td>\n      <td>2.000000</td>\n    </tr>\n    <tr>\n      <th>feature__private balcony</th>\n      <td>46871.0</td>\n      <td>0.039662</td>\n      <td>0.195275</td>\n      <td>0.000000</td>\n      <td>0.000000</td>\n      <td>0.000000</td>\n      <td>0.000000</td>\n      <td>2.000000</td>\n    </tr>\n    <tr>\n      <th>feature__private garden</th>\n      <td>46871.0</td>\n      <td>0.034200</td>\n      <td>0.181980</td>\n      <td>0.000000</td>\n      <td>0.000000</td>\n      <td>0.000000</td>\n      <td>0.000000</td>\n      <td>2.000000</td>\n    </tr>\n    <tr>\n      <th>feature__private rear garden</th>\n      <td>46871.0</td>\n      <td>0.017367</td>\n      <td>0.131124</td>\n      <td>0.000000</td>\n      <td>0.000000</td>\n      <td>0.000000</td>\n      <td>0.000000</td>\n      <td>2.000000</td>\n    </tr>\n    <tr>\n      <th>feature__reception room</th>\n      <td>46871.0</td>\n      <td>0.014487</td>\n      <td>0.119843</td>\n      <td>0.000000</td>\n      <td>0.000000</td>\n      <td>0.000000</td>\n      <td>0.000000</td>\n      <td>2.000000</td>\n    </tr>\n    <tr>\n      <th>feature__separate kitchen</th>\n      <td>46871.0</td>\n      <td>0.020268</td>\n      <td>0.140918</td>\n      <td>0.000000</td>\n      <td>0.000000</td>\n      <td>0.000000</td>\n      <td>0.000000</td>\n      <td>1.000000</td>\n    </tr>\n    <tr>\n      <th>feature__share of freehold</th>\n      <td>46871.0</td>\n      <td>0.047663</td>\n      <td>0.213354</td>\n      <td>0.000000</td>\n      <td>0.000000</td>\n      <td>0.000000</td>\n      <td>0.000000</td>\n      <td>2.000000</td>\n    </tr>\n    <tr>\n      <th>feature__three bedrooms</th>\n      <td>46871.0</td>\n      <td>0.059120</td>\n      <td>0.235851</td>\n      <td>0.000000</td>\n      <td>0.000000</td>\n      <td>0.000000</td>\n      <td>0.000000</td>\n      <td>1.000000</td>\n    </tr>\n    <tr>\n      <th>feature__three double bedrooms</th>\n      <td>46871.0</td>\n      <td>0.012545</td>\n      <td>0.111301</td>\n      <td>0.000000</td>\n      <td>0.000000</td>\n      <td>0.000000</td>\n      <td>0.000000</td>\n      <td>1.000000</td>\n    </tr>\n    <tr>\n      <th>feature__top floor</th>\n      <td>46871.0</td>\n      <td>0.013206</td>\n      <td>0.114159</td>\n      <td>0.000000</td>\n      <td>0.000000</td>\n      <td>0.000000</td>\n      <td>0.000000</td>\n      <td>1.000000</td>\n    </tr>\n    <tr>\n      <th>feature__two bathrooms</th>\n      <td>46871.0</td>\n      <td>0.031512</td>\n      <td>0.174943</td>\n      <td>0.000000</td>\n      <td>0.000000</td>\n      <td>0.000000</td>\n      <td>0.000000</td>\n      <td>2.000000</td>\n    </tr>\n    <tr>\n      <th>feature__two bedrooms</th>\n      <td>46871.0</td>\n      <td>0.071473</td>\n      <td>0.257616</td>\n      <td>0.000000</td>\n      <td>0.000000</td>\n      <td>0.000000</td>\n      <td>0.000000</td>\n      <td>1.000000</td>\n    </tr>\n    <tr>\n      <th>feature__two double bedrooms</th>\n      <td>46871.0</td>\n      <td>0.095411</td>\n      <td>0.293930</td>\n      <td>0.000000</td>\n      <td>0.000000</td>\n      <td>0.000000</td>\n      <td>0.000000</td>\n      <td>2.000000</td>\n    </tr>\n    <tr>\n      <th>feature__two reception rooms</th>\n      <td>46871.0</td>\n      <td>0.016449</td>\n      <td>0.127197</td>\n      <td>0.000000</td>\n      <td>0.000000</td>\n      <td>0.000000</td>\n      <td>0.000000</td>\n      <td>1.000000</td>\n    </tr>\n  </tbody>\n</table>\n</div>"
     },
     "execution_count": 10,
     "metadata": {},
     "output_type": "execute_result"
    }
   ],
   "source": [
    "df.info()\n",
    "df.describe()\n",
    "df.describe().T"
   ]
  },
  {
   "cell_type": "code",
   "execution_count": 11,
   "metadata": {
    "execution": {
     "iopub.execute_input": "2022-11-29T20:53:45.315778Z",
     "iopub.status.busy": "2022-11-29T20:53:45.315414Z",
     "iopub.status.idle": "2022-11-29T20:53:45.423322Z",
     "shell.execute_reply": "2022-11-29T20:53:45.422183Z",
     "shell.execute_reply.started": "2022-11-29T20:53:45.315749Z"
    }
   },
   "outputs": [
    {
     "name": "stdout",
     "output_type": "stream",
     "text": [
      "dataframe contract due to cleaning: 46871 ==> 46871\n"
     ]
    },
    {
     "data": {
      "text/plain": "                                      count        mean         std  \\\nPrice                               46871.0  425.069391  107.227325   \nbedrooms                            46871.0    1.992469    0.828837   \nbathrooms                           46871.0    1.182074    0.409879   \nnearestStation                      46871.0    0.438847    0.325942   \nlocation.latitude                   46871.0   51.497049    0.077085   \nlocation.longitude                  46871.0   -0.113269    0.156489   \nlatitude_deviation                  46871.0    0.064317    0.042573   \nlongitude_deviation                 46871.0    0.124202    0.095607   \nfeature__1 bedroom                  46871.0    0.010838    0.103542   \nfeature__2 bedrooms                 46871.0    0.015169    0.122402   \nfeature__2 double bedrooms          46871.0    0.013569    0.115695   \nfeature__allocated parking          46871.0    0.026946    0.161928   \nfeature__allocated parking space    46871.0    0.012993    0.113246   \nfeature__balcony                    46871.0    0.038617    0.193124   \nfeature__bathroom                   46871.0    0.026370    0.160502   \nfeature__chain free                 46871.0    0.120266    0.325800   \nfeature__close to local amenities   46871.0    0.011948    0.108848   \nfeature__communal garden            46871.0    0.018071    0.133209   \nfeature__communal gardens           46871.0    0.030381    0.171760   \nfeature__double bedroom             46871.0    0.012566    0.111395   \nfeature__double glazed              46871.0    0.012822    0.112509   \nfeature__double glazing             46871.0    0.025496    0.157761   \nfeature__epc rating c               46871.0    0.012140    0.109511   \nfeature__epc rating d               46871.0    0.013334    0.114704   \nfeature__excellent location         46871.0    0.013612    0.115874   \nfeature__excellent transport links  46871.0    0.016385    0.127122   \nfeature__family bathroom            46871.0    0.014593    0.120097   \nfeature__first floor                46871.0    0.026520    0.160676   \nfeature__fitted kitchen             46871.0    0.027224    0.162867   \nfeature__garage                     46871.0    0.030424    0.172001   \nfeature__garden                     46871.0    0.021015    0.144178   \nfeature__gas central heating        46871.0    0.028120    0.165961   \nfeature__great location             46871.0    0.015660    0.124158   \nfeature__ground floor               46871.0    0.028760    0.167132   \nfeature__kitchen                    46871.0    0.022850    0.149427   \nfeature__leasehold                  46871.0    0.014316    0.118970   \nfeature__long lease                 46871.0    0.039619    0.195175   \nfeature__modern bathroom            46871.0    0.015361    0.122986   \nfeature__modern kitchen             46871.0    0.014465    0.119400   \nfeature__no chain                   46871.0    0.026669    0.161380   \nfeature__no onward chain            46871.0    0.057925    0.233604   \nfeature__off street parking         46871.0    0.047300    0.212684   \nfeature__one bedroom                46871.0    0.041369    0.199144   \nfeature__one double bedroom         46871.0    0.027885    0.164645   \nfeature__parking                    46871.0    0.013398    0.115160   \nfeature__private balcony            46871.0    0.039662    0.195275   \nfeature__private garden             46871.0    0.034200    0.181980   \nfeature__private rear garden        46871.0    0.017367    0.131124   \nfeature__reception room             46871.0    0.014487    0.119843   \nfeature__separate kitchen           46871.0    0.020268    0.140918   \nfeature__share of freehold          46871.0    0.047663    0.213354   \nfeature__three bedrooms             46871.0    0.059120    0.235851   \nfeature__three double bedrooms      46871.0    0.012545    0.111301   \nfeature__top floor                  46871.0    0.013206    0.114159   \nfeature__two bathrooms              46871.0    0.031512    0.174943   \nfeature__two bedrooms               46871.0    0.071473    0.257616   \nfeature__two double bedrooms        46871.0    0.095411    0.293930   \nfeature__two reception rooms        46871.0    0.016449    0.127197   \n\n                                           min         25%         50%  \\\nPrice                               100.000000  349.950000  425.000000   \nbedrooms                              1.000000    1.000000    2.000000   \nbathrooms                             1.000000    1.000000    1.000000   \nnearestStation                        0.000000    0.227169    0.367971   \nlocation.latitude                    51.298317   51.438861   51.499977   \nlocation.longitude                   -0.498315   -0.210796   -0.102230   \nlatitude_deviation                    0.000000    0.028876    0.058595   \nlongitude_deviation                   0.000000    0.043560    0.098984   \nfeature__1 bedroom                    0.000000    0.000000    0.000000   \nfeature__2 bedrooms                   0.000000    0.000000    0.000000   \nfeature__2 double bedrooms            0.000000    0.000000    0.000000   \nfeature__allocated parking            0.000000    0.000000    0.000000   \nfeature__allocated parking space      0.000000    0.000000    0.000000   \nfeature__balcony                      0.000000    0.000000    0.000000   \nfeature__bathroom                     0.000000    0.000000    0.000000   \nfeature__chain free                   0.000000    0.000000    0.000000   \nfeature__close to local amenities     0.000000    0.000000    0.000000   \nfeature__communal garden              0.000000    0.000000    0.000000   \nfeature__communal gardens             0.000000    0.000000    0.000000   \nfeature__double bedroom               0.000000    0.000000    0.000000   \nfeature__double glazed                0.000000    0.000000    0.000000   \nfeature__double glazing               0.000000    0.000000    0.000000   \nfeature__epc rating c                 0.000000    0.000000    0.000000   \nfeature__epc rating d                 0.000000    0.000000    0.000000   \nfeature__excellent location           0.000000    0.000000    0.000000   \nfeature__excellent transport links    0.000000    0.000000    0.000000   \nfeature__family bathroom              0.000000    0.000000    0.000000   \nfeature__first floor                  0.000000    0.000000    0.000000   \nfeature__fitted kitchen               0.000000    0.000000    0.000000   \nfeature__garage                       0.000000    0.000000    0.000000   \nfeature__garden                       0.000000    0.000000    0.000000   \nfeature__gas central heating          0.000000    0.000000    0.000000   \nfeature__great location               0.000000    0.000000    0.000000   \nfeature__ground floor                 0.000000    0.000000    0.000000   \nfeature__kitchen                      0.000000    0.000000    0.000000   \nfeature__leasehold                    0.000000    0.000000    0.000000   \nfeature__long lease                   0.000000    0.000000    0.000000   \nfeature__modern bathroom              0.000000    0.000000    0.000000   \nfeature__modern kitchen               0.000000    0.000000    0.000000   \nfeature__no chain                     0.000000    0.000000    0.000000   \nfeature__no onward chain              0.000000    0.000000    0.000000   \nfeature__off street parking           0.000000    0.000000    0.000000   \nfeature__one bedroom                  0.000000    0.000000    0.000000   \nfeature__one double bedroom           0.000000    0.000000    0.000000   \nfeature__parking                      0.000000    0.000000    0.000000   \nfeature__private balcony              0.000000    0.000000    0.000000   \nfeature__private garden               0.000000    0.000000    0.000000   \nfeature__private rear garden          0.000000    0.000000    0.000000   \nfeature__reception room               0.000000    0.000000    0.000000   \nfeature__separate kitchen             0.000000    0.000000    0.000000   \nfeature__share of freehold            0.000000    0.000000    0.000000   \nfeature__three bedrooms               0.000000    0.000000    0.000000   \nfeature__three double bedrooms        0.000000    0.000000    0.000000   \nfeature__top floor                    0.000000    0.000000    0.000000   \nfeature__two bathrooms                0.000000    0.000000    0.000000   \nfeature__two bedrooms                 0.000000    0.000000    0.000000   \nfeature__two double bedrooms          0.000000    0.000000    0.000000   \nfeature__two reception rooms          0.000000    0.000000    0.000000   \n\n                                           75%         max  \nPrice                               515.000000  600.000000  \nbedrooms                              3.000000    7.000000  \nbathrooms                             1.000000    5.000000  \nnearestStation                        0.559620    7.197700  \nlocation.latitude                    51.556183   51.683185  \nlocation.longitude                   -0.010343    0.279726  \nlatitude_deviation                    0.094362    0.201403  \nlongitude_deviation                   0.192684    0.393895  \nfeature__1 bedroom                    0.000000    1.000000  \nfeature__2 bedrooms                   0.000000    2.000000  \nfeature__2 double bedrooms            0.000000    1.000000  \nfeature__allocated parking            0.000000    1.000000  \nfeature__allocated parking space      0.000000    1.000000  \nfeature__balcony                      0.000000    2.000000  \nfeature__bathroom                     0.000000    2.000000  \nfeature__chain free                   0.000000    2.000000  \nfeature__close to local amenities     0.000000    2.000000  \nfeature__communal garden              0.000000    1.000000  \nfeature__communal gardens             0.000000    2.000000  \nfeature__double bedroom               0.000000    1.000000  \nfeature__double glazed                0.000000    1.000000  \nfeature__double glazing               0.000000    2.000000  \nfeature__epc rating c                 0.000000    1.000000  \nfeature__epc rating d                 0.000000    1.000000  \nfeature__excellent location           0.000000    1.000000  \nfeature__excellent transport links    0.000000    2.000000  \nfeature__family bathroom              0.000000    2.000000  \nfeature__first floor                  0.000000    1.000000  \nfeature__fitted kitchen               0.000000    2.000000  \nfeature__garage                       0.000000    2.000000  \nfeature__garden                       0.000000    2.000000  \nfeature__gas central heating          0.000000    2.000000  \nfeature__great location               0.000000    1.000000  \nfeature__ground floor                 0.000000    1.000000  \nfeature__kitchen                      0.000000    1.000000  \nfeature__leasehold                    0.000000    2.000000  \nfeature__long lease                   0.000000    2.000000  \nfeature__modern bathroom              0.000000    1.000000  \nfeature__modern kitchen               0.000000    1.000000  \nfeature__no chain                     0.000000    2.000000  \nfeature__no onward chain              0.000000    1.000000  \nfeature__off street parking           0.000000    2.000000  \nfeature__one bedroom                  0.000000    1.000000  \nfeature__one double bedroom           0.000000    1.000000  \nfeature__parking                      0.000000    2.000000  \nfeature__private balcony              0.000000    2.000000  \nfeature__private garden               0.000000    2.000000  \nfeature__private rear garden          0.000000    2.000000  \nfeature__reception room               0.000000    2.000000  \nfeature__separate kitchen             0.000000    1.000000  \nfeature__share of freehold            0.000000    2.000000  \nfeature__three bedrooms               0.000000    1.000000  \nfeature__three double bedrooms        0.000000    1.000000  \nfeature__top floor                    0.000000    1.000000  \nfeature__two bathrooms                0.000000    2.000000  \nfeature__two bedrooms                 0.000000    1.000000  \nfeature__two double bedrooms          0.000000    2.000000  \nfeature__two reception rooms          0.000000    1.000000  ",
      "text/html": "<div>\n<style scoped>\n    .dataframe tbody tr th:only-of-type {\n        vertical-align: middle;\n    }\n\n    .dataframe tbody tr th {\n        vertical-align: top;\n    }\n\n    .dataframe thead th {\n        text-align: right;\n    }\n</style>\n<table border=\"1\" class=\"dataframe\">\n  <thead>\n    <tr style=\"text-align: right;\">\n      <th></th>\n      <th>count</th>\n      <th>mean</th>\n      <th>std</th>\n      <th>min</th>\n      <th>25%</th>\n      <th>50%</th>\n      <th>75%</th>\n      <th>max</th>\n    </tr>\n  </thead>\n  <tbody>\n    <tr>\n      <th>Price</th>\n      <td>46871.0</td>\n      <td>425.069391</td>\n      <td>107.227325</td>\n      <td>100.000000</td>\n      <td>349.950000</td>\n      <td>425.000000</td>\n      <td>515.000000</td>\n      <td>600.000000</td>\n    </tr>\n    <tr>\n      <th>bedrooms</th>\n      <td>46871.0</td>\n      <td>1.992469</td>\n      <td>0.828837</td>\n      <td>1.000000</td>\n      <td>1.000000</td>\n      <td>2.000000</td>\n      <td>3.000000</td>\n      <td>7.000000</td>\n    </tr>\n    <tr>\n      <th>bathrooms</th>\n      <td>46871.0</td>\n      <td>1.182074</td>\n      <td>0.409879</td>\n      <td>1.000000</td>\n      <td>1.000000</td>\n      <td>1.000000</td>\n      <td>1.000000</td>\n      <td>5.000000</td>\n    </tr>\n    <tr>\n      <th>nearestStation</th>\n      <td>46871.0</td>\n      <td>0.438847</td>\n      <td>0.325942</td>\n      <td>0.000000</td>\n      <td>0.227169</td>\n      <td>0.367971</td>\n      <td>0.559620</td>\n      <td>7.197700</td>\n    </tr>\n    <tr>\n      <th>location.latitude</th>\n      <td>46871.0</td>\n      <td>51.497049</td>\n      <td>0.077085</td>\n      <td>51.298317</td>\n      <td>51.438861</td>\n      <td>51.499977</td>\n      <td>51.556183</td>\n      <td>51.683185</td>\n    </tr>\n    <tr>\n      <th>location.longitude</th>\n      <td>46871.0</td>\n      <td>-0.113269</td>\n      <td>0.156489</td>\n      <td>-0.498315</td>\n      <td>-0.210796</td>\n      <td>-0.102230</td>\n      <td>-0.010343</td>\n      <td>0.279726</td>\n    </tr>\n    <tr>\n      <th>latitude_deviation</th>\n      <td>46871.0</td>\n      <td>0.064317</td>\n      <td>0.042573</td>\n      <td>0.000000</td>\n      <td>0.028876</td>\n      <td>0.058595</td>\n      <td>0.094362</td>\n      <td>0.201403</td>\n    </tr>\n    <tr>\n      <th>longitude_deviation</th>\n      <td>46871.0</td>\n      <td>0.124202</td>\n      <td>0.095607</td>\n      <td>0.000000</td>\n      <td>0.043560</td>\n      <td>0.098984</td>\n      <td>0.192684</td>\n      <td>0.393895</td>\n    </tr>\n    <tr>\n      <th>feature__1 bedroom</th>\n      <td>46871.0</td>\n      <td>0.010838</td>\n      <td>0.103542</td>\n      <td>0.000000</td>\n      <td>0.000000</td>\n      <td>0.000000</td>\n      <td>0.000000</td>\n      <td>1.000000</td>\n    </tr>\n    <tr>\n      <th>feature__2 bedrooms</th>\n      <td>46871.0</td>\n      <td>0.015169</td>\n      <td>0.122402</td>\n      <td>0.000000</td>\n      <td>0.000000</td>\n      <td>0.000000</td>\n      <td>0.000000</td>\n      <td>2.000000</td>\n    </tr>\n    <tr>\n      <th>feature__2 double bedrooms</th>\n      <td>46871.0</td>\n      <td>0.013569</td>\n      <td>0.115695</td>\n      <td>0.000000</td>\n      <td>0.000000</td>\n      <td>0.000000</td>\n      <td>0.000000</td>\n      <td>1.000000</td>\n    </tr>\n    <tr>\n      <th>feature__allocated parking</th>\n      <td>46871.0</td>\n      <td>0.026946</td>\n      <td>0.161928</td>\n      <td>0.000000</td>\n      <td>0.000000</td>\n      <td>0.000000</td>\n      <td>0.000000</td>\n      <td>1.000000</td>\n    </tr>\n    <tr>\n      <th>feature__allocated parking space</th>\n      <td>46871.0</td>\n      <td>0.012993</td>\n      <td>0.113246</td>\n      <td>0.000000</td>\n      <td>0.000000</td>\n      <td>0.000000</td>\n      <td>0.000000</td>\n      <td>1.000000</td>\n    </tr>\n    <tr>\n      <th>feature__balcony</th>\n      <td>46871.0</td>\n      <td>0.038617</td>\n      <td>0.193124</td>\n      <td>0.000000</td>\n      <td>0.000000</td>\n      <td>0.000000</td>\n      <td>0.000000</td>\n      <td>2.000000</td>\n    </tr>\n    <tr>\n      <th>feature__bathroom</th>\n      <td>46871.0</td>\n      <td>0.026370</td>\n      <td>0.160502</td>\n      <td>0.000000</td>\n      <td>0.000000</td>\n      <td>0.000000</td>\n      <td>0.000000</td>\n      <td>2.000000</td>\n    </tr>\n    <tr>\n      <th>feature__chain free</th>\n      <td>46871.0</td>\n      <td>0.120266</td>\n      <td>0.325800</td>\n      <td>0.000000</td>\n      <td>0.000000</td>\n      <td>0.000000</td>\n      <td>0.000000</td>\n      <td>2.000000</td>\n    </tr>\n    <tr>\n      <th>feature__close to local amenities</th>\n      <td>46871.0</td>\n      <td>0.011948</td>\n      <td>0.108848</td>\n      <td>0.000000</td>\n      <td>0.000000</td>\n      <td>0.000000</td>\n      <td>0.000000</td>\n      <td>2.000000</td>\n    </tr>\n    <tr>\n      <th>feature__communal garden</th>\n      <td>46871.0</td>\n      <td>0.018071</td>\n      <td>0.133209</td>\n      <td>0.000000</td>\n      <td>0.000000</td>\n      <td>0.000000</td>\n      <td>0.000000</td>\n      <td>1.000000</td>\n    </tr>\n    <tr>\n      <th>feature__communal gardens</th>\n      <td>46871.0</td>\n      <td>0.030381</td>\n      <td>0.171760</td>\n      <td>0.000000</td>\n      <td>0.000000</td>\n      <td>0.000000</td>\n      <td>0.000000</td>\n      <td>2.000000</td>\n    </tr>\n    <tr>\n      <th>feature__double bedroom</th>\n      <td>46871.0</td>\n      <td>0.012566</td>\n      <td>0.111395</td>\n      <td>0.000000</td>\n      <td>0.000000</td>\n      <td>0.000000</td>\n      <td>0.000000</td>\n      <td>1.000000</td>\n    </tr>\n    <tr>\n      <th>feature__double glazed</th>\n      <td>46871.0</td>\n      <td>0.012822</td>\n      <td>0.112509</td>\n      <td>0.000000</td>\n      <td>0.000000</td>\n      <td>0.000000</td>\n      <td>0.000000</td>\n      <td>1.000000</td>\n    </tr>\n    <tr>\n      <th>feature__double glazing</th>\n      <td>46871.0</td>\n      <td>0.025496</td>\n      <td>0.157761</td>\n      <td>0.000000</td>\n      <td>0.000000</td>\n      <td>0.000000</td>\n      <td>0.000000</td>\n      <td>2.000000</td>\n    </tr>\n    <tr>\n      <th>feature__epc rating c</th>\n      <td>46871.0</td>\n      <td>0.012140</td>\n      <td>0.109511</td>\n      <td>0.000000</td>\n      <td>0.000000</td>\n      <td>0.000000</td>\n      <td>0.000000</td>\n      <td>1.000000</td>\n    </tr>\n    <tr>\n      <th>feature__epc rating d</th>\n      <td>46871.0</td>\n      <td>0.013334</td>\n      <td>0.114704</td>\n      <td>0.000000</td>\n      <td>0.000000</td>\n      <td>0.000000</td>\n      <td>0.000000</td>\n      <td>1.000000</td>\n    </tr>\n    <tr>\n      <th>feature__excellent location</th>\n      <td>46871.0</td>\n      <td>0.013612</td>\n      <td>0.115874</td>\n      <td>0.000000</td>\n      <td>0.000000</td>\n      <td>0.000000</td>\n      <td>0.000000</td>\n      <td>1.000000</td>\n    </tr>\n    <tr>\n      <th>feature__excellent transport links</th>\n      <td>46871.0</td>\n      <td>0.016385</td>\n      <td>0.127122</td>\n      <td>0.000000</td>\n      <td>0.000000</td>\n      <td>0.000000</td>\n      <td>0.000000</td>\n      <td>2.000000</td>\n    </tr>\n    <tr>\n      <th>feature__family bathroom</th>\n      <td>46871.0</td>\n      <td>0.014593</td>\n      <td>0.120097</td>\n      <td>0.000000</td>\n      <td>0.000000</td>\n      <td>0.000000</td>\n      <td>0.000000</td>\n      <td>2.000000</td>\n    </tr>\n    <tr>\n      <th>feature__first floor</th>\n      <td>46871.0</td>\n      <td>0.026520</td>\n      <td>0.160676</td>\n      <td>0.000000</td>\n      <td>0.000000</td>\n      <td>0.000000</td>\n      <td>0.000000</td>\n      <td>1.000000</td>\n    </tr>\n    <tr>\n      <th>feature__fitted kitchen</th>\n      <td>46871.0</td>\n      <td>0.027224</td>\n      <td>0.162867</td>\n      <td>0.000000</td>\n      <td>0.000000</td>\n      <td>0.000000</td>\n      <td>0.000000</td>\n      <td>2.000000</td>\n    </tr>\n    <tr>\n      <th>feature__garage</th>\n      <td>46871.0</td>\n      <td>0.030424</td>\n      <td>0.172001</td>\n      <td>0.000000</td>\n      <td>0.000000</td>\n      <td>0.000000</td>\n      <td>0.000000</td>\n      <td>2.000000</td>\n    </tr>\n    <tr>\n      <th>feature__garden</th>\n      <td>46871.0</td>\n      <td>0.021015</td>\n      <td>0.144178</td>\n      <td>0.000000</td>\n      <td>0.000000</td>\n      <td>0.000000</td>\n      <td>0.000000</td>\n      <td>2.000000</td>\n    </tr>\n    <tr>\n      <th>feature__gas central heating</th>\n      <td>46871.0</td>\n      <td>0.028120</td>\n      <td>0.165961</td>\n      <td>0.000000</td>\n      <td>0.000000</td>\n      <td>0.000000</td>\n      <td>0.000000</td>\n      <td>2.000000</td>\n    </tr>\n    <tr>\n      <th>feature__great location</th>\n      <td>46871.0</td>\n      <td>0.015660</td>\n      <td>0.124158</td>\n      <td>0.000000</td>\n      <td>0.000000</td>\n      <td>0.000000</td>\n      <td>0.000000</td>\n      <td>1.000000</td>\n    </tr>\n    <tr>\n      <th>feature__ground floor</th>\n      <td>46871.0</td>\n      <td>0.028760</td>\n      <td>0.167132</td>\n      <td>0.000000</td>\n      <td>0.000000</td>\n      <td>0.000000</td>\n      <td>0.000000</td>\n      <td>1.000000</td>\n    </tr>\n    <tr>\n      <th>feature__kitchen</th>\n      <td>46871.0</td>\n      <td>0.022850</td>\n      <td>0.149427</td>\n      <td>0.000000</td>\n      <td>0.000000</td>\n      <td>0.000000</td>\n      <td>0.000000</td>\n      <td>1.000000</td>\n    </tr>\n    <tr>\n      <th>feature__leasehold</th>\n      <td>46871.0</td>\n      <td>0.014316</td>\n      <td>0.118970</td>\n      <td>0.000000</td>\n      <td>0.000000</td>\n      <td>0.000000</td>\n      <td>0.000000</td>\n      <td>2.000000</td>\n    </tr>\n    <tr>\n      <th>feature__long lease</th>\n      <td>46871.0</td>\n      <td>0.039619</td>\n      <td>0.195175</td>\n      <td>0.000000</td>\n      <td>0.000000</td>\n      <td>0.000000</td>\n      <td>0.000000</td>\n      <td>2.000000</td>\n    </tr>\n    <tr>\n      <th>feature__modern bathroom</th>\n      <td>46871.0</td>\n      <td>0.015361</td>\n      <td>0.122986</td>\n      <td>0.000000</td>\n      <td>0.000000</td>\n      <td>0.000000</td>\n      <td>0.000000</td>\n      <td>1.000000</td>\n    </tr>\n    <tr>\n      <th>feature__modern kitchen</th>\n      <td>46871.0</td>\n      <td>0.014465</td>\n      <td>0.119400</td>\n      <td>0.000000</td>\n      <td>0.000000</td>\n      <td>0.000000</td>\n      <td>0.000000</td>\n      <td>1.000000</td>\n    </tr>\n    <tr>\n      <th>feature__no chain</th>\n      <td>46871.0</td>\n      <td>0.026669</td>\n      <td>0.161380</td>\n      <td>0.000000</td>\n      <td>0.000000</td>\n      <td>0.000000</td>\n      <td>0.000000</td>\n      <td>2.000000</td>\n    </tr>\n    <tr>\n      <th>feature__no onward chain</th>\n      <td>46871.0</td>\n      <td>0.057925</td>\n      <td>0.233604</td>\n      <td>0.000000</td>\n      <td>0.000000</td>\n      <td>0.000000</td>\n      <td>0.000000</td>\n      <td>1.000000</td>\n    </tr>\n    <tr>\n      <th>feature__off street parking</th>\n      <td>46871.0</td>\n      <td>0.047300</td>\n      <td>0.212684</td>\n      <td>0.000000</td>\n      <td>0.000000</td>\n      <td>0.000000</td>\n      <td>0.000000</td>\n      <td>2.000000</td>\n    </tr>\n    <tr>\n      <th>feature__one bedroom</th>\n      <td>46871.0</td>\n      <td>0.041369</td>\n      <td>0.199144</td>\n      <td>0.000000</td>\n      <td>0.000000</td>\n      <td>0.000000</td>\n      <td>0.000000</td>\n      <td>1.000000</td>\n    </tr>\n    <tr>\n      <th>feature__one double bedroom</th>\n      <td>46871.0</td>\n      <td>0.027885</td>\n      <td>0.164645</td>\n      <td>0.000000</td>\n      <td>0.000000</td>\n      <td>0.000000</td>\n      <td>0.000000</td>\n      <td>1.000000</td>\n    </tr>\n    <tr>\n      <th>feature__parking</th>\n      <td>46871.0</td>\n      <td>0.013398</td>\n      <td>0.115160</td>\n      <td>0.000000</td>\n      <td>0.000000</td>\n      <td>0.000000</td>\n      <td>0.000000</td>\n      <td>2.000000</td>\n    </tr>\n    <tr>\n      <th>feature__private balcony</th>\n      <td>46871.0</td>\n      <td>0.039662</td>\n      <td>0.195275</td>\n      <td>0.000000</td>\n      <td>0.000000</td>\n      <td>0.000000</td>\n      <td>0.000000</td>\n      <td>2.000000</td>\n    </tr>\n    <tr>\n      <th>feature__private garden</th>\n      <td>46871.0</td>\n      <td>0.034200</td>\n      <td>0.181980</td>\n      <td>0.000000</td>\n      <td>0.000000</td>\n      <td>0.000000</td>\n      <td>0.000000</td>\n      <td>2.000000</td>\n    </tr>\n    <tr>\n      <th>feature__private rear garden</th>\n      <td>46871.0</td>\n      <td>0.017367</td>\n      <td>0.131124</td>\n      <td>0.000000</td>\n      <td>0.000000</td>\n      <td>0.000000</td>\n      <td>0.000000</td>\n      <td>2.000000</td>\n    </tr>\n    <tr>\n      <th>feature__reception room</th>\n      <td>46871.0</td>\n      <td>0.014487</td>\n      <td>0.119843</td>\n      <td>0.000000</td>\n      <td>0.000000</td>\n      <td>0.000000</td>\n      <td>0.000000</td>\n      <td>2.000000</td>\n    </tr>\n    <tr>\n      <th>feature__separate kitchen</th>\n      <td>46871.0</td>\n      <td>0.020268</td>\n      <td>0.140918</td>\n      <td>0.000000</td>\n      <td>0.000000</td>\n      <td>0.000000</td>\n      <td>0.000000</td>\n      <td>1.000000</td>\n    </tr>\n    <tr>\n      <th>feature__share of freehold</th>\n      <td>46871.0</td>\n      <td>0.047663</td>\n      <td>0.213354</td>\n      <td>0.000000</td>\n      <td>0.000000</td>\n      <td>0.000000</td>\n      <td>0.000000</td>\n      <td>2.000000</td>\n    </tr>\n    <tr>\n      <th>feature__three bedrooms</th>\n      <td>46871.0</td>\n      <td>0.059120</td>\n      <td>0.235851</td>\n      <td>0.000000</td>\n      <td>0.000000</td>\n      <td>0.000000</td>\n      <td>0.000000</td>\n      <td>1.000000</td>\n    </tr>\n    <tr>\n      <th>feature__three double bedrooms</th>\n      <td>46871.0</td>\n      <td>0.012545</td>\n      <td>0.111301</td>\n      <td>0.000000</td>\n      <td>0.000000</td>\n      <td>0.000000</td>\n      <td>0.000000</td>\n      <td>1.000000</td>\n    </tr>\n    <tr>\n      <th>feature__top floor</th>\n      <td>46871.0</td>\n      <td>0.013206</td>\n      <td>0.114159</td>\n      <td>0.000000</td>\n      <td>0.000000</td>\n      <td>0.000000</td>\n      <td>0.000000</td>\n      <td>1.000000</td>\n    </tr>\n    <tr>\n      <th>feature__two bathrooms</th>\n      <td>46871.0</td>\n      <td>0.031512</td>\n      <td>0.174943</td>\n      <td>0.000000</td>\n      <td>0.000000</td>\n      <td>0.000000</td>\n      <td>0.000000</td>\n      <td>2.000000</td>\n    </tr>\n    <tr>\n      <th>feature__two bedrooms</th>\n      <td>46871.0</td>\n      <td>0.071473</td>\n      <td>0.257616</td>\n      <td>0.000000</td>\n      <td>0.000000</td>\n      <td>0.000000</td>\n      <td>0.000000</td>\n      <td>1.000000</td>\n    </tr>\n    <tr>\n      <th>feature__two double bedrooms</th>\n      <td>46871.0</td>\n      <td>0.095411</td>\n      <td>0.293930</td>\n      <td>0.000000</td>\n      <td>0.000000</td>\n      <td>0.000000</td>\n      <td>0.000000</td>\n      <td>2.000000</td>\n    </tr>\n    <tr>\n      <th>feature__two reception rooms</th>\n      <td>46871.0</td>\n      <td>0.016449</td>\n      <td>0.127197</td>\n      <td>0.000000</td>\n      <td>0.000000</td>\n      <td>0.000000</td>\n      <td>0.000000</td>\n      <td>1.000000</td>\n    </tr>\n  </tbody>\n</table>\n</div>"
     },
     "execution_count": 11,
     "metadata": {},
     "output_type": "execute_result"
    }
   ],
   "source": [
    "old_length = len(df)\n",
    "\n",
    "df = preprocess(df, version=VERSION)\n",
    "\n",
    "print(f\"dataframe contract due to cleaning: {old_length} ==> {len(df)}\")\n",
    "old_length = len(df)\n",
    "\n",
    "df.describe().T"
   ]
  },
  {
   "cell_type": "code",
   "execution_count": 12,
   "metadata": {
    "execution": {
     "iopub.execute_input": "2022-11-29T20:53:45.424707Z",
     "iopub.status.busy": "2022-11-29T20:53:45.424403Z",
     "iopub.status.idle": "2022-11-29T20:53:45.439795Z",
     "shell.execute_reply": "2022-11-29T20:53:45.438607Z",
     "shell.execute_reply.started": "2022-11-29T20:53:45.424684Z"
    }
   },
   "outputs": [
    {
     "data": {
      "text/plain": "Price                                    0\nbedrooms                                 0\nbathrooms                                0\nnearestStation                           0\nlocation.latitude                        0\nlocation.longitude                       0\nlatitude_deviation                       0\nlongitude_deviation                      0\ntenure.tenureType                     2744\nfeature__1 bedroom                       0\nfeature__2 bedrooms                      0\nfeature__2 double bedrooms               0\nfeature__allocated parking               0\nfeature__allocated parking space         0\nfeature__balcony                         0\nfeature__bathroom                        0\nfeature__chain free                      0\nfeature__close to local amenities        0\nfeature__communal garden                 0\nfeature__communal gardens                0\nfeature__double bedroom                  0\nfeature__double glazed                   0\nfeature__double glazing                  0\nfeature__epc rating c                    0\nfeature__epc rating d                    0\nfeature__excellent location              0\nfeature__excellent transport links       0\nfeature__family bathroom                 0\nfeature__first floor                     0\nfeature__fitted kitchen                  0\nfeature__garage                          0\nfeature__garden                          0\nfeature__gas central heating             0\nfeature__great location                  0\nfeature__ground floor                    0\nfeature__kitchen                         0\nfeature__leasehold                       0\nfeature__long lease                      0\nfeature__modern bathroom                 0\nfeature__modern kitchen                  0\nfeature__no chain                        0\nfeature__no onward chain                 0\nfeature__off street parking              0\nfeature__one bedroom                     0\nfeature__one double bedroom              0\nfeature__parking                         0\nfeature__private balcony                 0\nfeature__private garden                  0\nfeature__private rear garden             0\nfeature__reception room                  0\nfeature__separate kitchen                0\nfeature__share of freehold               0\nfeature__three bedrooms                  0\nfeature__three double bedrooms           0\nfeature__top floor                       0\nfeature__two bathrooms                   0\nfeature__two bedrooms                    0\nfeature__two double bedrooms             0\nfeature__two reception rooms             0\ndtype: int64"
     },
     "execution_count": 12,
     "metadata": {},
     "output_type": "execute_result"
    }
   ],
   "source": [
    "df.isna().sum()"
   ]
  },
  {
   "cell_type": "code",
   "execution_count": 13,
   "metadata": {
    "execution": {
     "iopub.execute_input": "2022-11-29T20:53:45.443541Z",
     "iopub.status.busy": "2022-11-29T20:53:45.443178Z",
     "iopub.status.idle": "2022-11-29T20:53:45.543292Z",
     "shell.execute_reply": "2022-11-29T20:53:45.542377Z",
     "shell.execute_reply.started": "2022-11-29T20:53:45.443516Z"
    }
   },
   "outputs": [
    {
     "name": "stdout",
     "output_type": "stream",
     "text": [
      "46871 ==> 44127\n"
     ]
    },
    {
     "data": {
      "text/plain": "              Price      bedrooms    bathrooms  nearestStation  \\\ncount  44127.000000  44127.000000  44127.00000    44127.000000   \nmean     425.224642      1.990981      1.18134        0.438522   \nstd      107.203333      0.827621      0.40893        0.324152   \nmin      100.000000      1.000000      1.00000        0.000000   \n25%      349.950000      1.000000      1.00000        0.227551   \n50%      425.000000      2.000000      1.00000        0.368351   \n75%      515.000000      3.000000      1.00000        0.559486   \nmax      600.000000      7.000000      5.00000        7.197700   \n\n       location.latitude  location.longitude  latitude_deviation  \\\ncount       44127.000000        44127.000000        44127.000000   \nmean           51.496711           -0.113106            0.064544   \nstd             0.077267            0.155863            0.042583   \nmin            51.298317           -0.498315            0.000000   \n25%            51.438303           -0.210633            0.029023   \n50%            51.498780           -0.101910            0.058904   \n75%            51.556343           -0.010854            0.094620   \nmax            51.683185            0.279726            0.201403   \n\n       longitude_deviation  feature__1 bedroom  feature__2 bedrooms  ...  \\\ncount         44127.000000        44127.000000         44127.000000  ...   \nmean              0.123699            0.011127             0.015251  ...   \nstd               0.095220            0.104897             0.122737  ...   \nmin               0.000000            0.000000             0.000000  ...   \n25%               0.043551            0.000000             0.000000  ...   \n50%               0.098750            0.000000             0.000000  ...   \n75%               0.191727            0.000000             0.000000  ...   \nmax               0.393895            1.000000             2.000000  ...   \n\n       feature__reception room  feature__separate kitchen  \\\ncount             44127.000000               44127.000000   \nmean                  0.014254                   0.020509   \nstd                   0.118921                   0.141735   \nmin                   0.000000                   0.000000   \n25%                   0.000000                   0.000000   \n50%                   0.000000                   0.000000   \n75%                   0.000000                   0.000000   \nmax                   2.000000                   1.000000   \n\n       feature__share of freehold  feature__three bedrooms  \\\ncount                44127.000000             44127.000000   \nmean                     0.048428                 0.059374   \nstd                      0.214989                 0.236326   \nmin                      0.000000                 0.000000   \n25%                      0.000000                 0.000000   \n50%                      0.000000                 0.000000   \n75%                      0.000000                 0.000000   \nmax                      2.000000                 1.000000   \n\n       feature__three double bedrooms  feature__top floor  \\\ncount                    44127.000000        44127.000000   \nmean                         0.012804            0.013212   \nstd                          0.112429            0.114182   \nmin                          0.000000            0.000000   \n25%                          0.000000            0.000000   \n50%                          0.000000            0.000000   \n75%                          0.000000            0.000000   \nmax                          1.000000            1.000000   \n\n       feature__two bathrooms  feature__two bedrooms  \\\ncount            44127.000000           44127.000000   \nmean                 0.031976               0.072586   \nstd                  0.176195               0.259459   \nmin                  0.000000               0.000000   \n25%                  0.000000               0.000000   \n50%                  0.000000               0.000000   \n75%                  0.000000               0.000000   \nmax                  2.000000               1.000000   \n\n       feature__two double bedrooms  feature__two reception rooms  \ncount                  44127.000000                  44127.000000  \nmean                       0.096857                      0.016022  \nstd                        0.295919                      0.125561  \nmin                        0.000000                      0.000000  \n25%                        0.000000                      0.000000  \n50%                        0.000000                      0.000000  \n75%                        0.000000                      0.000000  \nmax                        2.000000                      1.000000  \n\n[8 rows x 58 columns]",
      "text/html": "<div>\n<style scoped>\n    .dataframe tbody tr th:only-of-type {\n        vertical-align: middle;\n    }\n\n    .dataframe tbody tr th {\n        vertical-align: top;\n    }\n\n    .dataframe thead th {\n        text-align: right;\n    }\n</style>\n<table border=\"1\" class=\"dataframe\">\n  <thead>\n    <tr style=\"text-align: right;\">\n      <th></th>\n      <th>Price</th>\n      <th>bedrooms</th>\n      <th>bathrooms</th>\n      <th>nearestStation</th>\n      <th>location.latitude</th>\n      <th>location.longitude</th>\n      <th>latitude_deviation</th>\n      <th>longitude_deviation</th>\n      <th>feature__1 bedroom</th>\n      <th>feature__2 bedrooms</th>\n      <th>...</th>\n      <th>feature__reception room</th>\n      <th>feature__separate kitchen</th>\n      <th>feature__share of freehold</th>\n      <th>feature__three bedrooms</th>\n      <th>feature__three double bedrooms</th>\n      <th>feature__top floor</th>\n      <th>feature__two bathrooms</th>\n      <th>feature__two bedrooms</th>\n      <th>feature__two double bedrooms</th>\n      <th>feature__two reception rooms</th>\n    </tr>\n  </thead>\n  <tbody>\n    <tr>\n      <th>count</th>\n      <td>44127.000000</td>\n      <td>44127.000000</td>\n      <td>44127.00000</td>\n      <td>44127.000000</td>\n      <td>44127.000000</td>\n      <td>44127.000000</td>\n      <td>44127.000000</td>\n      <td>44127.000000</td>\n      <td>44127.000000</td>\n      <td>44127.000000</td>\n      <td>...</td>\n      <td>44127.000000</td>\n      <td>44127.000000</td>\n      <td>44127.000000</td>\n      <td>44127.000000</td>\n      <td>44127.000000</td>\n      <td>44127.000000</td>\n      <td>44127.000000</td>\n      <td>44127.000000</td>\n      <td>44127.000000</td>\n      <td>44127.000000</td>\n    </tr>\n    <tr>\n      <th>mean</th>\n      <td>425.224642</td>\n      <td>1.990981</td>\n      <td>1.18134</td>\n      <td>0.438522</td>\n      <td>51.496711</td>\n      <td>-0.113106</td>\n      <td>0.064544</td>\n      <td>0.123699</td>\n      <td>0.011127</td>\n      <td>0.015251</td>\n      <td>...</td>\n      <td>0.014254</td>\n      <td>0.020509</td>\n      <td>0.048428</td>\n      <td>0.059374</td>\n      <td>0.012804</td>\n      <td>0.013212</td>\n      <td>0.031976</td>\n      <td>0.072586</td>\n      <td>0.096857</td>\n      <td>0.016022</td>\n    </tr>\n    <tr>\n      <th>std</th>\n      <td>107.203333</td>\n      <td>0.827621</td>\n      <td>0.40893</td>\n      <td>0.324152</td>\n      <td>0.077267</td>\n      <td>0.155863</td>\n      <td>0.042583</td>\n      <td>0.095220</td>\n      <td>0.104897</td>\n      <td>0.122737</td>\n      <td>...</td>\n      <td>0.118921</td>\n      <td>0.141735</td>\n      <td>0.214989</td>\n      <td>0.236326</td>\n      <td>0.112429</td>\n      <td>0.114182</td>\n      <td>0.176195</td>\n      <td>0.259459</td>\n      <td>0.295919</td>\n      <td>0.125561</td>\n    </tr>\n    <tr>\n      <th>min</th>\n      <td>100.000000</td>\n      <td>1.000000</td>\n      <td>1.00000</td>\n      <td>0.000000</td>\n      <td>51.298317</td>\n      <td>-0.498315</td>\n      <td>0.000000</td>\n      <td>0.000000</td>\n      <td>0.000000</td>\n      <td>0.000000</td>\n      <td>...</td>\n      <td>0.000000</td>\n      <td>0.000000</td>\n      <td>0.000000</td>\n      <td>0.000000</td>\n      <td>0.000000</td>\n      <td>0.000000</td>\n      <td>0.000000</td>\n      <td>0.000000</td>\n      <td>0.000000</td>\n      <td>0.000000</td>\n    </tr>\n    <tr>\n      <th>25%</th>\n      <td>349.950000</td>\n      <td>1.000000</td>\n      <td>1.00000</td>\n      <td>0.227551</td>\n      <td>51.438303</td>\n      <td>-0.210633</td>\n      <td>0.029023</td>\n      <td>0.043551</td>\n      <td>0.000000</td>\n      <td>0.000000</td>\n      <td>...</td>\n      <td>0.000000</td>\n      <td>0.000000</td>\n      <td>0.000000</td>\n      <td>0.000000</td>\n      <td>0.000000</td>\n      <td>0.000000</td>\n      <td>0.000000</td>\n      <td>0.000000</td>\n      <td>0.000000</td>\n      <td>0.000000</td>\n    </tr>\n    <tr>\n      <th>50%</th>\n      <td>425.000000</td>\n      <td>2.000000</td>\n      <td>1.00000</td>\n      <td>0.368351</td>\n      <td>51.498780</td>\n      <td>-0.101910</td>\n      <td>0.058904</td>\n      <td>0.098750</td>\n      <td>0.000000</td>\n      <td>0.000000</td>\n      <td>...</td>\n      <td>0.000000</td>\n      <td>0.000000</td>\n      <td>0.000000</td>\n      <td>0.000000</td>\n      <td>0.000000</td>\n      <td>0.000000</td>\n      <td>0.000000</td>\n      <td>0.000000</td>\n      <td>0.000000</td>\n      <td>0.000000</td>\n    </tr>\n    <tr>\n      <th>75%</th>\n      <td>515.000000</td>\n      <td>3.000000</td>\n      <td>1.00000</td>\n      <td>0.559486</td>\n      <td>51.556343</td>\n      <td>-0.010854</td>\n      <td>0.094620</td>\n      <td>0.191727</td>\n      <td>0.000000</td>\n      <td>0.000000</td>\n      <td>...</td>\n      <td>0.000000</td>\n      <td>0.000000</td>\n      <td>0.000000</td>\n      <td>0.000000</td>\n      <td>0.000000</td>\n      <td>0.000000</td>\n      <td>0.000000</td>\n      <td>0.000000</td>\n      <td>0.000000</td>\n      <td>0.000000</td>\n    </tr>\n    <tr>\n      <th>max</th>\n      <td>600.000000</td>\n      <td>7.000000</td>\n      <td>5.00000</td>\n      <td>7.197700</td>\n      <td>51.683185</td>\n      <td>0.279726</td>\n      <td>0.201403</td>\n      <td>0.393895</td>\n      <td>1.000000</td>\n      <td>2.000000</td>\n      <td>...</td>\n      <td>2.000000</td>\n      <td>1.000000</td>\n      <td>2.000000</td>\n      <td>1.000000</td>\n      <td>1.000000</td>\n      <td>1.000000</td>\n      <td>2.000000</td>\n      <td>1.000000</td>\n      <td>2.000000</td>\n      <td>1.000000</td>\n    </tr>\n  </tbody>\n</table>\n<p>8 rows × 58 columns</p>\n</div>"
     },
     "execution_count": 13,
     "metadata": {},
     "output_type": "execute_result"
    }
   ],
   "source": [
    "df = df.dropna()\n",
    "print(f\"{old_length} ==> {len(df)}\")\n",
    "old_length = len(df)\n",
    "df.describe()"
   ]
  },
  {
   "cell_type": "code",
   "execution_count": 14,
   "metadata": {
    "execution": {
     "iopub.execute_input": "2022-11-29T20:53:45.545706Z",
     "iopub.status.busy": "2022-11-29T20:53:45.545214Z",
     "iopub.status.idle": "2022-11-29T20:53:45.627915Z",
     "shell.execute_reply": "2022-11-29T20:53:45.626820Z",
     "shell.execute_reply.started": "2022-11-29T20:53:45.545663Z"
    }
   },
   "outputs": [
    {
     "name": "stdout",
     "output_type": "stream",
     "text": [
      "(39714, 61) (4413, 61) (39714, 1) (4413, 1) (39714, 1) (4413, 1) (39714, 1) (4413, 1)\n"
     ]
    }
   ],
   "source": [
    "X_train, X_test, y_train, y_test, X_train_index, X_test_index, y_train_index, y_test_index, df_features, df_labels = create_train_test_data(\n",
    "    df,\n",
    "    categories=categories,\n",
    "    RANDOM_STATE=RANDOM_STATE, return_index=True,\n",
    "    drop_nulls=True)\n",
    "\n",
    "print(X_train.shape, X_test.shape, y_train.shape, y_test.shape, X_train_index.shape, X_test_index.shape,\n",
    "      y_train_index.shape, y_test_index.shape)\n"
   ]
  },
  {
   "cell_type": "code",
   "execution_count": 15,
   "metadata": {
    "execution": {
     "iopub.execute_input": "2022-11-29T20:53:45.629960Z",
     "iopub.status.busy": "2022-11-29T20:53:45.629598Z",
     "iopub.status.idle": "2022-11-29T20:53:45.745324Z",
     "shell.execute_reply": "2022-11-29T20:53:45.744002Z",
     "shell.execute_reply.started": "2022-11-29T20:53:45.629931Z"
    }
   },
   "outputs": [
    {
     "data": {
      "text/plain": "'mse +epochs=400 +learn=0.0003'"
     },
     "execution_count": 15,
     "metadata": {},
     "output_type": "execute_result"
    }
   ],
   "source": [
    "trainable_model, ALGORITHM_DETAIL, chosen_epochs, chosen_params = make_simple_ann(selected_neural_network)\n",
    "\n",
    "ALGORITHM_DETAIL"
   ]
  },
  {
   "cell_type": "code",
   "execution_count": 16,
   "metadata": {
    "execution": {
     "iopub.execute_input": "2022-11-29T20:53:45.747689Z",
     "iopub.status.busy": "2022-11-29T20:53:45.747211Z",
     "iopub.status.idle": "2022-11-29T20:53:45.794891Z",
     "shell.execute_reply": "2022-11-29T20:53:45.794099Z",
     "shell.execute_reply.started": "2022-11-29T20:53:45.747642Z"
    }
   },
   "outputs": [
    {
     "name": "stdout",
     "output_type": "stream",
     "text": [
      "Model: \"sequential\"\n",
      "_________________________________________________________________\n",
      " Layer (type)                Output Shape              Param #   \n",
      "=================================================================\n",
      " dense (Dense)               (None, 128)               7936      \n",
      "                                                                 \n",
      " dense_1 (Dense)             (None, 256)               33024     \n",
      "                                                                 \n",
      " dense_2 (Dense)             (None, 512)               131584    \n",
      "                                                                 \n",
      " dense_3 (Dense)             (None, 1024)              525312    \n",
      "                                                                 \n",
      " dense_4 (Dense)             (None, 1024)              1049600   \n",
      "                                                                 \n",
      " dense_5 (Dense)             (None, 512)               524800    \n",
      "                                                                 \n",
      " dense_6 (Dense)             (None, 256)               131328    \n",
      "                                                                 \n",
      " dense_7 (Dense)             (None, 1)                 257       \n",
      "                                                                 \n",
      "=================================================================\n",
      "Total params: 2,403,841\n",
      "Trainable params: 2,403,841\n",
      "Non-trainable params: 0\n",
      "_________________________________________________________________\n"
     ]
    }
   ],
   "source": [
    "trainable_model.summary()"
   ]
  },
  {
   "cell_type": "code",
   "execution_count": 17,
   "metadata": {
    "execution": {
     "iopub.execute_input": "2022-11-29T20:53:45.796664Z",
     "iopub.status.busy": "2022-11-29T20:53:45.795997Z",
     "iopub.status.idle": "2022-11-29T20:53:45.801330Z",
     "shell.execute_reply": "2022-11-29T20:53:45.800526Z",
     "shell.execute_reply.started": "2022-11-29T20:53:45.796628Z"
    },
    "pycharm": {
     "name": "#%%time\n"
    }
   },
   "outputs": [],
   "source": [
    "callback_x1 = tf.keras.callbacks.EarlyStopping(\n",
    "    monitor=\"val_loss\",\n",
    "    min_delta=0,\n",
    "    patience=0,\n",
    "    verbose=0,\n",
    "    mode=\"auto\",\n",
    "    baseline=None,\n",
    "    restore_best_weights=False,\n",
    ")\n",
    "\n",
    "# https://keras.io/api/callbacks/early_stopping/\n",
    "callback_x2 = tf.keras.callbacks.EarlyStopping(monitor='loss', patience=3)\n",
    "\n"
   ]
  },
  {
   "cell_type": "code",
   "execution_count": null,
   "metadata": {
    "execution": {
     "iopub.execute_input": "2022-11-29T21:11:07.786286Z",
     "iopub.status.busy": "2022-11-29T21:11:07.785570Z"
    },
    "pycharm": {
     "name": "#%%time\n",
     "is_executing": true
    }
   },
   "outputs": [
    {
     "name": "stdout",
     "output_type": "stream",
     "text": [
      "Epoch 1/400\n",
      "1117/1117 [==============================] - 9s 6ms/step - loss: 11159.6445 - val_loss: 7087.6582\n",
      "Epoch 2/400\n",
      "1117/1117 [==============================] - 7s 6ms/step - loss: 7193.8052 - val_loss: 6683.8560\n",
      "Epoch 3/400\n",
      "1117/1117 [==============================] - 7s 6ms/step - loss: 6593.1597 - val_loss: 6223.7690\n",
      "Epoch 4/400\n",
      "1117/1117 [==============================] - 7s 7ms/step - loss: 6274.9980 - val_loss: 5924.1919\n",
      "Epoch 5/400\n",
      "1117/1117 [==============================] - 6s 6ms/step - loss: 6113.8647 - val_loss: 5705.5225\n",
      "Epoch 6/400\n",
      "1117/1117 [==============================] - 7s 6ms/step - loss: 5978.8921 - val_loss: 5650.6494\n",
      "Epoch 7/400\n",
      "1117/1117 [==============================] - 7s 6ms/step - loss: 5864.7900 - val_loss: 6514.9502\n",
      "Epoch 8/400\n",
      "1117/1117 [==============================] - 7s 7ms/step - loss: 5902.5503 - val_loss: 5585.9194\n",
      "Epoch 9/400\n",
      "1117/1117 [==============================] - 7s 6ms/step - loss: 5747.3931 - val_loss: 5756.2817\n",
      "Epoch 10/400\n",
      "1117/1117 [==============================] - 7s 6ms/step - loss: 5696.5259 - val_loss: 5485.2212\n",
      "Epoch 11/400\n",
      "1117/1117 [==============================] - 7s 6ms/step - loss: 5776.2920 - val_loss: 5513.6445\n",
      "Epoch 12/400\n",
      "1117/1117 [==============================] - 7s 7ms/step - loss: 5707.3545 - val_loss: 6017.9346\n",
      "Epoch 13/400\n",
      "1117/1117 [==============================] - 7s 6ms/step - loss: 5657.5146 - val_loss: 5526.2261\n",
      "Epoch 14/400\n",
      "1117/1117 [==============================] - 7s 6ms/step - loss: 5648.5020 - val_loss: 5599.3184\n",
      "Epoch 15/400\n",
      "1117/1117 [==============================] - 7s 6ms/step - loss: 5565.9219 - val_loss: 5518.7690\n",
      "Epoch 16/400\n",
      "1117/1117 [==============================] - 7s 6ms/step - loss: 5630.3936 - val_loss: 5484.5229\n",
      "Epoch 17/400\n",
      "1117/1117 [==============================] - 6s 6ms/step - loss: 5535.1060 - val_loss: 5805.9097\n",
      "Epoch 18/400\n",
      "1117/1117 [==============================] - 7s 7ms/step - loss: 5510.9243 - val_loss: 5395.2656\n",
      "Epoch 19/400\n",
      "1117/1117 [==============================] - 7s 6ms/step - loss: 5472.6914 - val_loss: 5320.7212\n",
      "Epoch 20/400\n",
      "1117/1117 [==============================] - 7s 6ms/step - loss: 5403.0737 - val_loss: 6066.1714\n",
      "Epoch 21/400\n",
      "1117/1117 [==============================] - 7s 6ms/step - loss: 5365.1670 - val_loss: 5461.7031\n",
      "Epoch 22/400\n",
      "1117/1117 [==============================] - 7s 6ms/step - loss: 5384.3125 - val_loss: 5326.5015\n",
      "Epoch 23/400\n",
      "1117/1117 [==============================] - 7s 6ms/step - loss: 5310.1221 - val_loss: 5327.0078\n",
      "Epoch 24/400\n",
      "1117/1117 [==============================] - 7s 6ms/step - loss: 5287.0479 - val_loss: 5332.9995\n",
      "Epoch 25/400\n",
      "1117/1117 [==============================] - 8s 7ms/step - loss: 5288.2422 - val_loss: 5220.8877\n",
      "Epoch 26/400\n",
      "1117/1117 [==============================] - 8s 7ms/step - loss: 5274.4077 - val_loss: 5553.1875\n",
      "Epoch 27/400\n",
      "1117/1117 [==============================] - 7s 7ms/step - loss: 5212.5767 - val_loss: 5194.5332\n",
      "Epoch 28/400\n",
      "1117/1117 [==============================] - 7s 6ms/step - loss: 5221.7725 - val_loss: 5236.2632\n",
      "Epoch 29/400\n",
      "1117/1117 [==============================] - 7s 6ms/step - loss: 5174.9087 - val_loss: 5301.0132\n",
      "Epoch 30/400\n",
      "1117/1117 [==============================] - 7s 6ms/step - loss: 5183.8677 - val_loss: 5261.1611\n",
      "Epoch 31/400\n",
      "1117/1117 [==============================] - 7s 6ms/step - loss: 5161.6279 - val_loss: 5169.1152\n",
      "Epoch 32/400\n",
      "1117/1117 [==============================] - 5s 5ms/step - loss: 5122.7607 - val_loss: 5337.0542\n",
      "Epoch 33/400\n",
      "1117/1117 [==============================] - 4s 4ms/step - loss: 5131.6382 - val_loss: 5744.1665\n",
      "Epoch 34/400\n",
      "1117/1117 [==============================] - 4s 4ms/step - loss: 5089.7061 - val_loss: 5341.8188\n",
      "Epoch 35/400\n",
      "1117/1117 [==============================] - 4s 4ms/step - loss: 5121.3691 - val_loss: 5359.8667\n",
      "Epoch 36/400\n",
      "1117/1117 [==============================] - 4s 4ms/step - loss: 5094.8120 - val_loss: 5244.1182\n",
      "Epoch 37/400\n",
      "1117/1117 [==============================] - 4s 4ms/step - loss: 5072.8364 - val_loss: 5168.9937\n",
      "Epoch 38/400\n",
      "1117/1117 [==============================] - 4s 4ms/step - loss: 5063.0225 - val_loss: 5562.5972\n",
      "Epoch 39/400\n",
      "1117/1117 [==============================] - 5s 5ms/step - loss: 5049.4590 - val_loss: 5417.7705\n",
      "Epoch 40/400\n",
      "1117/1117 [==============================] - 5s 4ms/step - loss: 5048.4971 - val_loss: 5349.2026\n",
      "Epoch 41/400\n",
      "1117/1117 [==============================] - 5s 4ms/step - loss: 4987.0488 - val_loss: 5226.7524\n",
      "Epoch 42/400\n",
      "1117/1117 [==============================] - 4s 4ms/step - loss: 5014.7202 - val_loss: 5354.6064\n",
      "Epoch 43/400\n",
      "1117/1117 [==============================] - 4s 4ms/step - loss: 4990.9141 - val_loss: 5052.7266\n",
      "Epoch 44/400\n",
      "1117/1117 [==============================] - 4s 4ms/step - loss: 4971.7866 - val_loss: 5094.8555\n",
      "Epoch 45/400\n",
      "1117/1117 [==============================] - 4s 4ms/step - loss: 4981.2441 - val_loss: 5608.1514\n",
      "Epoch 46/400\n",
      "1117/1117 [==============================] - 4s 4ms/step - loss: 4978.5840 - val_loss: 5190.2285\n",
      "Epoch 47/400\n",
      "1117/1117 [==============================] - 5s 5ms/step - loss: 4938.8262 - val_loss: 5119.0054\n",
      "Epoch 48/400\n",
      "1117/1117 [==============================] - 4s 4ms/step - loss: 4924.4272 - val_loss: 5035.1899\n",
      "Epoch 49/400\n",
      "1117/1117 [==============================] - 5s 4ms/step - loss: 4922.7720 - val_loss: 5058.3237\n",
      "Epoch 50/400\n",
      "1117/1117 [==============================] - 4s 4ms/step - loss: 4915.5083 - val_loss: 5168.8135\n",
      "Epoch 51/400\n",
      "1117/1117 [==============================] - 4s 4ms/step - loss: 4929.5898 - val_loss: 5110.4170\n",
      "Epoch 52/400\n",
      "1117/1117 [==============================] - 4s 4ms/step - loss: 4880.4580 - val_loss: 5231.9829\n",
      "Epoch 53/400\n",
      "1117/1117 [==============================] - 5s 4ms/step - loss: 4925.2446 - val_loss: 5119.2446\n",
      "Epoch 54/400\n",
      "1117/1117 [==============================] - 5s 4ms/step - loss: 4872.6167 - val_loss: 5047.6494\n",
      "Epoch 55/400\n",
      "1117/1117 [==============================] - 5s 4ms/step - loss: 4910.1079 - val_loss: 5286.5444\n",
      "Epoch 56/400\n",
      "1117/1117 [==============================] - 5s 4ms/step - loss: 4830.7949 - val_loss: 5271.5225\n",
      "Epoch 57/400\n",
      "1117/1117 [==============================] - 5s 5ms/step - loss: 4845.2158 - val_loss: 5032.5913\n",
      "Epoch 58/400\n",
      "1117/1117 [==============================] - 5s 4ms/step - loss: 4813.3823 - val_loss: 5169.0122\n",
      "Epoch 59/400\n",
      "1117/1117 [==============================] - 5s 4ms/step - loss: 4823.1538 - val_loss: 5140.7441\n",
      "Epoch 60/400\n",
      "1117/1117 [==============================] - 5s 4ms/step - loss: 4777.1646 - val_loss: 4984.8218\n",
      "Epoch 61/400\n",
      "1117/1117 [==============================] - 4s 4ms/step - loss: 4762.7686 - val_loss: 5056.1401\n",
      "Epoch 62/400\n",
      "1117/1117 [==============================] - 5s 4ms/step - loss: 4784.0996 - val_loss: 5011.1807\n",
      "Epoch 63/400\n",
      "1117/1117 [==============================] - 5s 4ms/step - loss: 4761.9072 - val_loss: 5115.7344\n",
      "Epoch 64/400\n",
      "1117/1117 [==============================] - 5s 4ms/step - loss: 4741.0952 - val_loss: 5154.4180\n",
      "Epoch 65/400\n",
      "1117/1117 [==============================] - 4s 3ms/step - loss: 4764.7314 - val_loss: 5173.5356\n",
      "Epoch 66/400\n",
      "1117/1117 [==============================] - 4s 3ms/step - loss: 4759.9897 - val_loss: 4999.8423\n",
      "Epoch 67/400\n",
      "1117/1117 [==============================] - 4s 3ms/step - loss: 4723.1948 - val_loss: 5165.0747\n",
      "Epoch 68/400\n",
      "1117/1117 [==============================] - 4s 3ms/step - loss: 4729.2651 - val_loss: 5457.2505\n",
      "Epoch 69/400\n",
      "1117/1117 [==============================] - 4s 3ms/step - loss: 4723.5171 - val_loss: 5038.4141\n",
      "Epoch 70/400\n",
      "1117/1117 [==============================] - 4s 3ms/step - loss: 4670.9663 - val_loss: 5149.6685\n",
      "Epoch 71/400\n",
      "1117/1117 [==============================] - 4s 3ms/step - loss: 4681.9062 - val_loss: 4981.5312\n",
      "Epoch 72/400\n",
      "1117/1117 [==============================] - 4s 3ms/step - loss: 4723.2676 - val_loss: 5351.4927\n",
      "Epoch 73/400\n",
      "1117/1117 [==============================] - 4s 3ms/step - loss: 4651.6489 - val_loss: 5497.8105\n",
      "Epoch 74/400\n",
      "1117/1117 [==============================] - 4s 3ms/step - loss: 4650.1792 - val_loss: 5223.7031\n",
      "Epoch 75/400\n",
      "1117/1117 [==============================] - 3s 3ms/step - loss: 4628.1128 - val_loss: 5150.8687\n",
      "Epoch 76/400\n",
      "1117/1117 [==============================] - 3s 3ms/step - loss: 4632.8696 - val_loss: 5111.4990\n",
      "Epoch 77/400\n",
      "1117/1117 [==============================] - 3s 3ms/step - loss: 4624.3560 - val_loss: 5664.6826\n",
      "Epoch 78/400\n",
      "1117/1117 [==============================] - 4s 3ms/step - loss: 4605.9517 - val_loss: 5386.8301\n",
      "Epoch 79/400\n",
      "1117/1117 [==============================] - 4s 3ms/step - loss: 4577.9126 - val_loss: 5137.9673\n",
      "Epoch 80/400\n",
      "1117/1117 [==============================] - 4s 3ms/step - loss: 4575.2075 - val_loss: 5075.6567\n",
      "Epoch 81/400\n",
      "1117/1117 [==============================] - 4s 3ms/step - loss: 4530.1113 - val_loss: 5034.4800\n",
      "Epoch 82/400\n",
      "1117/1117 [==============================] - 4s 3ms/step - loss: 4544.7217 - val_loss: 5175.3882\n",
      "Epoch 83/400\n",
      "1117/1117 [==============================] - 4s 3ms/step - loss: 4539.2954 - val_loss: 5106.7583\n",
      "Epoch 84/400\n",
      "1117/1117 [==============================] - 4s 3ms/step - loss: 4526.7778 - val_loss: 5043.0122\n",
      "Epoch 85/400\n",
      "1117/1117 [==============================] - 4s 3ms/step - loss: 4536.6353 - val_loss: 5095.5371\n",
      "Epoch 86/400\n",
      "1117/1117 [==============================] - 4s 3ms/step - loss: 4489.8472 - val_loss: 5031.6099\n",
      "Epoch 87/400\n",
      "1117/1117 [==============================] - 4s 3ms/step - loss: 4491.3818 - val_loss: 5088.6245\n",
      "Epoch 88/400\n",
      " 453/1117 [===========>..................] - ETA: 2s - loss: 4542.1245"
     ]
    }
   ],
   "source": [
    "val_split = 0.1\n",
    "\n",
    "callback = tf.keras.callbacks.EarlyStopping(\n",
    "    monitor=\"loss\", #\"val_loss\",\n",
    "    min_delta=50, #10, #50,\n",
    "    patience=10,\n",
    "    verbose=1,\n",
    "    mode=\"min\",\n",
    "    baseline=None,\n",
    "    restore_best_weights=True # False,\n",
    ")\n",
    "\n",
    "pipe_start = time()\n",
    "\n",
    "history = trainable_model.fit(\n",
    "    X_train,\n",
    "    y_train,\n",
    "    epochs=chosen_epochs,\n",
    "    # verbose=0 to suppress logging.\n",
    "    verbose=1,\n",
    "    # Calculate validation results on 20% of the training data.\n",
    "    validation_split=val_split,  #0.2,\n",
    "    callbacks=[callback],\n",
    ")\n",
    "pipe_end = time()\n",
    "estimated_time = round((pipe_end - pipe_start), 2)"
   ]
  },
  {
   "cell_type": "code",
   "execution_count": null,
   "metadata": {
    "execution": {
     "iopub.execute_input": "2022-11-29T21:03:02.431802Z",
     "iopub.status.busy": "2022-11-29T21:03:02.431551Z",
     "iopub.status.idle": "2022-11-29T21:03:02.435652Z",
     "shell.execute_reply": "2022-11-29T21:03:02.434738Z",
     "shell.execute_reply.started": "2022-11-29T21:03:02.431780Z"
    },
    "pycharm": {
     "is_executing": true
    }
   },
   "outputs": [],
   "source": [
    "#ALGORITHM_DETAIL.replace(\"epochs=\", f\"epochs={len(hist)}/\")"
   ]
  },
  {
   "cell_type": "code",
   "execution_count": null,
   "metadata": {
    "execution": {
     "iopub.execute_input": "2022-11-29T21:03:02.437472Z",
     "iopub.status.busy": "2022-11-29T21:03:02.436763Z",
     "iopub.status.idle": "2022-11-29T21:03:02.451981Z",
     "shell.execute_reply": "2022-11-29T21:03:02.451081Z",
     "shell.execute_reply.started": "2022-11-29T21:03:02.437449Z"
    },
    "pycharm": {
     "is_executing": true
    }
   },
   "outputs": [],
   "source": [
    "hist = pd.DataFrame(history.history)\n",
    "hist['epoch'] = history.epoch\n",
    "\n",
    "early_end_lossX = hist.iloc[-1]['loss']\n",
    "early_end_loss = hist['loss'].min()\n",
    "early_end_valloss = hist['val_loss'].min()\n",
    "\n",
    "more_detail = f\"loss={round(early_end_loss,2)} valloss={round(early_end_valloss,2)}\"\n",
    "more_detail += f' +valsplit={val_split}'\n",
    "\n",
    "if len(hist) != chosen_epochs:\n",
    "    print(f'stopped at {len(hist)}, loss={round(early_end_loss,2)} valloss={round(early_end_valloss,2)}')\n",
    "    #ALGORITHM_DETAIL += f\" +stop={len(hist)}\"\n",
    "    more_detail += f\" stop={len(hist)}/{chosen_epochs} \"\n",
    "    #more_detail += ALGORITHM_DETAIL.replace(\"epochs=\", f\"epochs={len(hist)}/\")\n",
    "print(more_detail)\n",
    "print(ALGORITHM_DETAIL)\n",
    "    \n",
    "hist.tail()"
   ]
  },
  {
   "cell_type": "code",
   "execution_count": null,
   "metadata": {
    "pycharm": {
     "is_executing": true
    }
   },
   "outputs": [],
   "source": []
  },
  {
   "cell_type": "code",
   "execution_count": null,
   "metadata": {
    "pycharm": {
     "is_executing": true
    }
   },
   "outputs": [],
   "source": []
  },
  {
   "cell_type": "code",
   "execution_count": null,
   "metadata": {
    "execution": {
     "iopub.execute_input": "2022-11-29T21:03:02.453332Z",
     "iopub.status.busy": "2022-11-29T21:03:02.453073Z",
     "iopub.status.idle": "2022-11-29T21:03:08.810857Z",
     "shell.execute_reply": "2022-11-29T21:03:08.809933Z",
     "shell.execute_reply.started": "2022-11-29T21:03:02.453312Z"
    },
    "pycharm": {
     "is_executing": true
    }
   },
   "outputs": [],
   "source": [
    "def plot_loss(history):\n",
    "    plt.plot(history.history['loss'], label='loss')\n",
    "    plt.plot(history.history['val_loss'], label='val_loss')\n",
    "    #plt.ylim([0, 10])\n",
    "    min_y = min(min(history.history['val_loss']),min(history.history['loss'])) - 100\n",
    "    #max_y = min(max(history.history['val_loss']),max(history.history['loss'])) + 500\n",
    "    max_y = min(sorted(history.history['val_loss'])[-3],sorted(history.history['loss'])[-3]) + 100\n",
    "    plt.ylim([min_y, max_y])\n",
    "    plt.xlabel('Epoch')\n",
    "    plt.ylabel('Error [Property Price]')\n",
    "    plt.legend()\n",
    "    plt.grid(True)\n",
    "\n",
    "\n",
    "plot_loss(history)"
   ]
  },
  {
   "cell_type": "code",
   "execution_count": null,
   "metadata": {
    "execution": {
     "iopub.execute_input": "2022-11-29T21:03:08.813123Z",
     "iopub.status.busy": "2022-11-29T21:03:08.812174Z",
     "iopub.status.idle": "2022-11-29T21:03:09.204519Z",
     "shell.execute_reply": "2022-11-29T21:03:09.203523Z",
     "shell.execute_reply.started": "2022-11-29T21:03:08.813094Z"
    },
    "pycharm": {
     "is_executing": true
    }
   },
   "outputs": [],
   "source": [
    "y_pred = trainable_model.predict(X_test)"
   ]
  },
  {
   "cell_type": "code",
   "execution_count": null,
   "metadata": {
    "execution": {
     "iopub.execute_input": "2022-11-29T21:03:09.206697Z",
     "iopub.status.busy": "2022-11-29T21:03:09.206401Z",
     "iopub.status.idle": "2022-11-29T21:03:09.214434Z",
     "shell.execute_reply": "2022-11-29T21:03:09.213376Z",
     "shell.execute_reply.started": "2022-11-29T21:03:09.206672Z"
    },
    "pycharm": {
     "is_executing": true
    }
   },
   "outputs": [],
   "source": [
    "y_pred = y_pred.reshape((-1, 1))\n",
    "\n",
    "R2 = r2_score(y_test, y_pred)\n",
    "MAE = mean_absolute_error(y_test, y_pred)\n",
    "MSE = mean_squared_error(y_test, y_pred)\n",
    "RMSE = math.sqrt(MSE)\n",
    "print('-' * 10 + ALGORITHM + '-' * 10)\n",
    "print('R square Accuracy', R2)\n",
    "print('Mean Absolute Error Accuracy', MAE)\n",
    "print('Mean Squared Error Accuracy', MSE)\n",
    "print('Root Mean Squared Error', RMSE)"
   ]
  },
  {
   "cell_type": "code",
   "execution_count": null,
   "metadata": {
    "execution": {
     "iopub.execute_input": "2022-11-29T21:03:09.216064Z",
     "iopub.status.busy": "2022-11-29T21:03:09.215797Z",
     "iopub.status.idle": "2022-11-29T21:03:09.220376Z",
     "shell.execute_reply": "2022-11-29T21:03:09.219511Z",
     "shell.execute_reply.started": "2022-11-29T21:03:09.216035Z"
    },
    "pycharm": {
     "is_executing": true
    }
   },
   "outputs": [],
   "source": [
    "if debug_mode:\n",
    "    print(y_test_index.reshape((-1, 1)).shape);\n",
    "    print(y_pred.reshape((-1, 1)).shape);\n",
    "    print(y_test.shape);\n",
    "    print(y_test_index.shape);\n",
    "    print(y_pred.shape);\n",
    "    print(y_test.shape)"
   ]
  },
  {
   "cell_type": "code",
   "execution_count": null,
   "metadata": {
    "execution": {
     "iopub.execute_input": "2022-11-29T21:03:09.222826Z",
     "iopub.status.busy": "2022-11-29T21:03:09.222443Z",
     "iopub.status.idle": "2022-11-29T21:03:09.242854Z",
     "shell.execute_reply": "2022-11-29T21:03:09.241809Z",
     "shell.execute_reply.started": "2022-11-29T21:03:09.222795Z"
    },
    "pycharm": {
     "is_executing": true
    }
   },
   "outputs": [],
   "source": [
    "compare = np.hstack((y_test_index, y_test, y_pred))\n",
    "compare_df = DataFrame(compare, columns=['reference', 'actual', 'predicted'])\n",
    "compare_df['difference'] = abs(compare_df['actual'] - compare_df['predicted'])\n",
    "compare_df['diff 1 %'] = abs((compare_df['actual'] - compare_df['predicted']) / compare_df['actual'] * 100)\n",
    "compare_df['diff 2 %'] = abs((compare_df['actual'] - compare_df['predicted']) / compare_df['predicted']) * 100\n",
    "compare_df['reference'] = compare_df['reference'].astype(int)\n",
    "compare_df.set_index('reference', inplace=True)\n",
    "compare_df"
   ]
  },
  {
   "cell_type": "code",
   "execution_count": null,
   "metadata": {
    "execution": {
     "iopub.execute_input": "2022-11-29T21:03:09.245021Z",
     "iopub.status.busy": "2022-11-29T21:03:09.244611Z",
     "iopub.status.idle": "2022-11-29T21:03:09.274433Z",
     "shell.execute_reply": "2022-11-29T21:03:09.273600Z",
     "shell.execute_reply.started": "2022-11-29T21:03:09.244986Z"
    },
    "pycharm": {
     "is_executing": true
    }
   },
   "outputs": [],
   "source": [
    "combined = compare_df.merge(df[columns], how='inner', left_index=True, right_index=True).sort_values(['diff 1 %'],\n",
    "                                                                                                     ascending=False)\n",
    "#pd.options.display.float_format = '{:.4f}'.format\n",
    "combined[['predicted', 'actual', 'Price', 'bedrooms', 'bathrooms']] = combined[\n",
    "    ['predicted', 'actual', 'Price', 'bedrooms', 'bathrooms']].astype(int)\n",
    "combined['bedrooms'] = combined['bedrooms'].astype(int)\n",
    "combined"
   ]
  },
  {
   "cell_type": "code",
   "execution_count": null,
   "metadata": {
    "execution": {
     "iopub.execute_input": "2022-11-29T21:03:09.275967Z",
     "iopub.status.busy": "2022-11-29T21:03:09.275687Z",
     "iopub.status.idle": "2022-11-29T21:03:09.670210Z",
     "shell.execute_reply": "2022-11-29T21:03:09.669342Z",
     "shell.execute_reply.started": "2022-11-29T21:03:09.275943Z"
    },
    "pycharm": {
     "is_executing": true
    }
   },
   "outputs": [],
   "source": [
    "fig, ax = plt.subplots()\n",
    "#ax.scatter(y_test, best_estimator_pipe.predict(X_test), edgecolors=(0, 0, 1))\n",
    "ax.scatter(y_test, trainable_model.predict(X_test), edgecolors=(0, 0, 1))\n",
    "ax.plot([y_test.min(), y_test.max()], [y_test.min(), y_test.max()], 'r--', lw=3)\n",
    "ax.set_ylabel('Predicted')\n",
    "ax.set_xlabel('Actual')\n",
    "#ax.title.set_text(f'CV Chosen best option ({calculated_best_pipe[1]})')\n",
    "plt.show()"
   ]
  },
  {
   "cell_type": "code",
   "execution_count": null,
   "metadata": {
    "execution": {
     "iopub.execute_input": "2022-11-29T21:03:09.672583Z",
     "iopub.status.busy": "2022-11-29T21:03:09.672257Z",
     "iopub.status.idle": "2022-11-29T21:03:10.079483Z",
     "shell.execute_reply": "2022-11-29T21:03:10.078504Z",
     "shell.execute_reply.started": "2022-11-29T21:03:09.672558Z"
    },
    "pycharm": {
     "is_executing": true
    }
   },
   "outputs": [],
   "source": [
    "#cv_best_model_fit_time = cv_results_df_sorted.iloc[0][\"mean_fit_time\"] if not_catboost else 999\n",
    "#cv_best_model_fit_time = 999\n",
    "cv_best_model_fit_time = estimated_time\n",
    "\n",
    "DD2 = \"(\" + \",\".join(DATA_DETAIL) + \")\" if len(DATA_DETAIL) >= 1 else \"\"\n",
    "key = f'{ALGORITHM} (v{VERSION})'.lower()\n",
    "\n",
    "method = f\"{ALGORITHM_DETAIL}{DD2}\"\n",
    "\n",
    "new_results = {\n",
    "    #'_score': score,\n",
    "    '_score': R2,\n",
    "    'R square Accuracy': R2,\n",
    "    'Mean Absolute Error Accuracy': MAE * 1000,\n",
    "    'Mean Squared Error Accuracy': MSE * 1000,\n",
    "    'Root Mean Squared Error': RMSE * 1000,\n",
    "    '_train time': cv_best_model_fit_time,\n",
    "    'random_state': RANDOM_STATE,\n",
    "    'date': str(datetime.now()),\n",
    "    #'_params': crossval_runner.best_params_ if not_catboost else cat_params,\n",
    "    #'_params': 'not available', # REPLACED - can't have different models all saying params not available\n",
    "    '_params': ALGORITHM_DETAIL,\n",
    "    '_method': more_detail, #ALGORITHM_DETAIL,\n",
    "    'run_env': run_env\n",
    "}\n",
    "\n",
    "if run_env not in ['colab']:\n",
    "    old_results_json = get_results()\n",
    "    try:\n",
    "        old_best_score = old_results_json[key]['best score']\n",
    "    except:\n",
    "        print(f\"haven't scored this model yet: {ALGORITHM}\")\n",
    "        old_best_score = -999\n",
    "    this_model_is_best = update_results(old_results_json, new_results, key)\n",
    "\n",
    "print(key)\n",
    "print(ALGORITHM_DETAIL)"
   ]
  },
  {
   "cell_type": "code",
   "execution_count": null,
   "metadata": {
    "execution": {
     "iopub.execute_input": "2022-11-29T21:03:10.080938Z",
     "iopub.status.busy": "2022-11-29T21:03:10.080692Z",
     "iopub.status.idle": "2022-11-29T21:03:11.596304Z",
     "shell.execute_reply": "2022-11-29T21:03:11.595076Z",
     "shell.execute_reply.started": "2022-11-29T21:03:10.080915Z"
    },
    "pycharm": {
     "is_executing": true
    }
   },
   "outputs": [],
   "source": [
    "if this_model_is_best:\n",
    "    with open(f'../../../models/optimised_model_{ALGORITHM}_v{VERSION}{DD2}.pkl', 'wb') as f:\n",
    "        #        if not_catboost:\n",
    "        #            pickle.dump(crossval_runner.best_estimator_, f)\n",
    "        #        else:\n",
    "        #            pickle.dump(starter_model, f)\n",
    "        pickle.dump(trainable_model, f)\n",
    "        print('pickled new version of model')\n",
    "        print(f\"{old_results_json[key]['_score']} is new best score (it's better than {old_best_score})\")\n",
    "        #print(results_json[key]['_score'], 'is an improvement on', results_json[key]['second best score'])\n",
    "else:\n",
    "    print(\"not updated saved model, the previous run was better\")\n",
    "    print(old_results_json[key]['_score'], 'is worse than or equal to', old_best_score)\n"
   ]
  },
  {
   "cell_type": "code",
   "execution_count": null,
   "outputs": [],
   "source": [
    "'''\n",
    "Notes - current model (mega 12)\n",
    "\n",
    "Model: \"sequential_2\"\n",
    "_________________________________________________________________\n",
    " Layer (type)                Output Shape              Param #\n",
    "=================================================================\n",
    " dense_16 (Dense)            (None, 128)               2816\n",
    "\n",
    " dense_17 (Dense)            (None, 256)               33024\n",
    "\n",
    " dense_18 (Dense)            (None, 512)               131584\n",
    "\n",
    " dense_19 (Dense)            (None, 1024)              525312\n",
    "\n",
    " dense_20 (Dense)            (None, 1024)              1049600\n",
    "\n",
    " dense_21 (Dense)            (None, 512)               524800\n",
    "\n",
    " dense_22 (Dense)            (None, 256)               131328\n",
    "\n",
    " dense_23 (Dense)            (None, 1)                 257\n",
    "\n",
    "=================================================================\n",
    "Total params: 2,398,721\n",
    "Trainable params: 2,398,721\n",
    "Non-trainable params: 0\n",
    "_________________________________________________________________\n",
    "'''"
   ],
   "metadata": {
    "collapsed": false,
    "pycharm": {
     "is_executing": true
    }
   }
  },
  {
   "cell_type": "code",
   "execution_count": null,
   "metadata": {
    "execution": {
     "iopub.execute_input": "2022-11-29T21:03:11.616062Z",
     "iopub.status.busy": "2022-11-29T21:03:11.615736Z",
     "iopub.status.idle": "2022-11-29T21:03:11.622559Z",
     "shell.execute_reply": "2022-11-29T21:03:11.621518Z",
     "shell.execute_reply.started": "2022-11-29T21:03:11.616036Z"
    },
    "pycharm": {
     "is_executing": true
    }
   },
   "outputs": [],
   "source": [
    "'''\n",
    "Notes - older models\n",
    "\n",
    "Model m1\n",
    "Model: \"sequential_3\"\n",
    "\n",
    "_________________________________________________________________\n",
    " Layer (type)                Output Shape              Param #\n",
    "=================================================================\n",
    " dense_6 (Dense)             (None, 11)                132       \n",
    " normalization_3 (Normalizat  (None, 11)               23        \n",
    " ion)                                                            \n",
    " dense_7 (Dense)             (None, 1)                 12        \n",
    "=================================================================\n",
    "Total params: 167\n",
    "Trainable params: 144\n",
    "Non-trainable params: 23\n",
    "_________________________________________________________________\n",
    "\n",
    "\n",
    "Model m2\n",
    "Model: \"sequential_6\"\n",
    "_________________________________________________________________\n",
    " Layer (type)                Output Shape              Param #   \n",
    "=================================================================\n",
    " dense_14 (Dense)            (None, 11)                132       \n",
    " normalization_6 (Normalizat  (None, 11)               23        \n",
    " ion)                                                            \n",
    " dense_15 (Dense)            (None, 11)                132       \n",
    " dense_16 (Dense)            (None, 1)                 12        \n",
    "                                                                 \n",
    "=================================================================\n",
    "Total params: 299\n",
    "Trainable params: 276\n",
    "Non-trainable params: 23\n",
    "_________________________________________________________________\n",
    "\n",
    "\n",
    "Model m3\n",
    "Model: \"sequential_7\"\n",
    "_________________________________________________________________\n",
    " Layer (type)                Output Shape              Param #   \n",
    "=================================================================\n",
    " dense_17 (Dense)            (None, 11)                132       \n",
    "                                                                 \n",
    " normalization_7 (Normalizat  (None, 11)               23        \n",
    " ion)                                                            \n",
    "                                                                 \n",
    " dense_18 (Dense)            (None, 30)                360       \n",
    "                                                                 \n",
    " dense_19 (Dense)            (None, 1)                 31        \n",
    "                                                                 \n",
    "=================================================================\n",
    "Total params: 546\n",
    "Trainable params: 523\n",
    "Non-trainable params: 23\n",
    "_________________________________________________________________\n",
    "'''\n",
    "\n",
    "print()"
   ]
  }
 ],
 "metadata": {
  "kernelspec": {
   "display_name": "Python 3 (ipykernel)",
   "language": "python",
   "name": "python3"
  },
  "language_info": {
   "codemirror_mode": {
    "name": "ipython",
    "version": 3
   },
   "file_extension": ".py",
   "mimetype": "text/x-python",
   "name": "python",
   "nbconvert_exporter": "python",
   "pygments_lexer": "ipython3",
   "version": "3.9.13"
  }
 },
 "nbformat": 4,
 "nbformat_minor": 4
}
