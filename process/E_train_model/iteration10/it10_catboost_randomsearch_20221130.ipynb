{
 "cells": [
  {
   "cell_type": "code",
   "execution_count": 1,
   "metadata": {
    "execution": {
     "iopub.execute_input": "2022-11-16T13:53:27.249807Z",
     "iopub.status.busy": "2022-11-16T13:53:27.249148Z",
     "iopub.status.idle": "2022-11-16T13:53:27.255429Z",
     "shell.execute_reply": "2022-11-16T13:53:27.254275Z",
     "shell.execute_reply.started": "2022-11-16T13:53:27.249780Z"
    }
   },
   "outputs": [
    {
     "name": "stdout",
     "output_type": "stream",
     "text": [
      "ALGORITHM: CatBoost\n",
      "ALGORITHM_DETAIL: random search\n",
      "DATA_DETAIL: ['no dummies']\n",
      "DATA VERSION: 10\n"
     ]
    }
   ],
   "source": [
    "#ALGORITHM = 'Linear Regression (Ridge)'\n",
    "#ALGORITHM = 'KNN'\n",
    "#ALGORITHM = 'Decision Tree'\n",
    "#ALGORITHM = 'Random Forest'\n",
    "#ALGORITHM = 'XG Boost'\n",
    "ALGORITHM = 'CatBoost'\n",
    "#ALGORITHM = 'Light Gradient Boosting'\n",
    "\n",
    "ALGORITHM_DETAIL = 'random search'\n",
    "#DATA_DETAIL = []\n",
    "#DATA_DETAIL = ['explore param']\n",
    "#DATA_DETAIL = ['no scale','no dummies']\n",
    "DATA_DETAIL = ['no dummies'] if ALGORITHM.lower() == 'catboost' else ''\n",
    "VERSION = '10'\n",
    "\n",
    "RANDOM_STATE = 101\n",
    "TRAINING_SIZE = 0.9\n",
    "\n",
    "CROSS_VALIDATION_SCORING = 'r2'\n",
    "\n",
    "print(f'ALGORITHM: {ALGORITHM}')\n",
    "print(f'ALGORITHM_DETAIL: {ALGORITHM_DETAIL}')\n",
    "print(f'DATA_DETAIL: {DATA_DETAIL}')\n",
    "print(f'DATA VERSION: {VERSION}')\n"
   ]
  },
  {
   "cell_type": "code",
   "execution_count": 2,
   "metadata": {
    "execution": {
     "iopub.execute_input": "2022-11-16T13:53:27.262780Z",
     "iopub.status.busy": "2022-11-16T13:53:27.262116Z",
     "iopub.status.idle": "2022-11-16T13:53:43.374795Z",
     "shell.execute_reply": "2022-11-16T13:53:43.374038Z",
     "shell.execute_reply.started": "2022-11-16T13:53:27.262757Z"
    }
   },
   "outputs": [
    {
     "name": "stdout",
     "output_type": "stream",
     "text": [
      "Requirement already satisfied: catboost in /usr/local/lib/python3.9/dist-packages (1.1.1)\r\n",
      "Requirement already satisfied: pandas>=0.24.0 in /usr/local/lib/python3.9/dist-packages (from catboost) (1.4.3)\r\n",
      "Requirement already satisfied: graphviz in /usr/local/lib/python3.9/dist-packages (from catboost) (0.20.1)\r\n",
      "Requirement already satisfied: plotly in /usr/local/lib/python3.9/dist-packages (from catboost) (5.11.0)\r\n",
      "Requirement already satisfied: matplotlib in /usr/local/lib/python3.9/dist-packages (from catboost) (3.5.2)\r\n",
      "Requirement already satisfied: six in /usr/lib/python3/dist-packages (from catboost) (1.14.0)\r\n",
      "Requirement already satisfied: numpy>=1.16.0 in /usr/local/lib/python3.9/dist-packages (from catboost) (1.23.1)\r\n",
      "Requirement already satisfied: scipy in /usr/local/lib/python3.9/dist-packages (from catboost) (1.8.1)\r\n",
      "Requirement already satisfied: pytz>=2020.1 in /usr/local/lib/python3.9/dist-packages (from pandas>=0.24.0->catboost) (2022.1)\r\n",
      "Requirement already satisfied: python-dateutil>=2.8.1 in /usr/local/lib/python3.9/dist-packages (from pandas>=0.24.0->catboost) (2.8.2)\r\n",
      "Requirement already satisfied: packaging>=20.0 in /usr/local/lib/python3.9/dist-packages (from matplotlib->catboost) (21.3)\r\n",
      "Requirement already satisfied: pillow>=6.2.0 in /usr/local/lib/python3.9/dist-packages (from matplotlib->catboost) (9.2.0)\r\n",
      "Requirement already satisfied: fonttools>=4.22.0 in /usr/local/lib/python3.9/dist-packages (from matplotlib->catboost) (4.34.4)\r\n",
      "Requirement already satisfied: cycler>=0.10 in /usr/local/lib/python3.9/dist-packages (from matplotlib->catboost) (0.11.0)\r\n",
      "Requirement already satisfied: pyparsing>=2.2.1 in /usr/local/lib/python3.9/dist-packages (from matplotlib->catboost) (3.0.9)\r\n",
      "Requirement already satisfied: kiwisolver>=1.0.1 in /usr/local/lib/python3.9/dist-packages (from matplotlib->catboost) (1.4.3)\r\n",
      "Requirement already satisfied: tenacity>=6.2.0 in /usr/local/lib/python3.9/dist-packages (from plotly->catboost) (8.1.0)\r\n",
      "\u001B[33mWARNING: Running pip as the 'root' user can result in broken permissions and conflicting behaviour with the system package manager. It is recommended to use a virtual environment instead: https://pip.pypa.io/warnings/venv\u001B[0m\u001B[33m\r\n",
      "\u001B[0mNote: you may need to restart the kernel to use updated packages.\n"
     ]
    }
   ],
   "source": [
    "if ALGORITHM == 'CatBoost':\n",
    "    %pip install catboost\n",
    "\n",
    "if ALGORITHM == 'Light Gradient Boosting':\n",
    "    %pip install lightgbm"
   ]
  },
  {
   "cell_type": "code",
   "execution_count": 2,
   "outputs": [],
   "source": [],
   "metadata": {
    "collapsed": false
   }
  },
  {
   "cell_type": "code",
   "execution_count": 3,
   "metadata": {
    "execution": {
     "iopub.execute_input": "2022-11-16T13:53:43.376775Z",
     "iopub.status.busy": "2022-11-16T13:53:43.376510Z",
     "iopub.status.idle": "2022-11-16T13:53:45.085035Z",
     "shell.execute_reply": "2022-11-16T13:53:45.084293Z",
     "shell.execute_reply.started": "2022-11-16T13:53:43.376747Z"
    }
   },
   "outputs": [
    {
     "name": "stdout",
     "output_type": "stream",
     "text": [
      "{'notebook_environment': 'gradient', 'use_gpu': True, 'debug_mode': False, 'quick_mode': False, 'quick_override_cv_splits': 2, 'quick_override_n_iter': 10, 'quick_override_n_jobs': 3}\n"
     ]
    }
   ],
   "source": [
    "from sklearn.impute import SimpleImputer\n",
    "import pandas as pd\n",
    "from sklearn.model_selection import train_test_split, RandomizedSearchCV, GridSearchCV\n",
    "import numpy as np\n",
    "from pandas import DataFrame\n",
    "import math\n",
    "from termcolor import colored\n",
    "from time import time\n",
    "import sklearn\n",
    "from sklearn.metrics import r2_score, mean_absolute_error, mean_squared_error\n",
    "from sklearn.metrics import r2_score\n",
    "import seaborn as sns\n",
    "import pickle\n",
    "\n",
    "import json\n",
    "from datetime import datetime\n",
    "import matplotlib.pyplot as plt\n",
    "\n",
    "with open('../../z_envs/_envs.json') as f:\n",
    "    env_vars = json.loads(f.read())\n",
    "print(env_vars)\n",
    "\n",
    "try:\n",
    "    import google.colab\n",
    "\n",
    "    run_env = 'colab'\n",
    "except:\n",
    "    try:\n",
    "        run_env = env_vars['notebook_environment']\n",
    "    except:\n",
    "        run_env = 'unknown'\n",
    "\n",
    "use_gpu = env_vars.get('use_gpu', False)\n",
    "debug_mode = env_vars.get('debug_mode', False)\n",
    "quick_mode = env_vars.get('quick_mode', False)\n",
    "OVERRIDE_CV = env_vars.get('quick_override_cv_splits', None) if quick_mode else None\n",
    "OVERRIDE_N_ITER = env_vars.get('quick_override_n_iter', None) if quick_mode else None\n",
    "OVERRIDE_JOBS = env_vars.get('quick_override_n_jobs', None) if quick_mode else None\n",
    "#if quick_mode:OVERRIDE_CV, OVERRIDE_N_ITER = 2, 10\n",
    "\n",
    "already_timed = False\n",
    "no_dummies = 'no dummies' in DATA_DETAIL\n",
    "no_scaling = 'no scaling' in DATA_DETAIL\n",
    "#not_catboost = 'catboost' not in ALGORITHM.lower() or not no_dummies\n",
    "not_catboost = 'catboost' not in ALGORITHM.lower()\n",
    "\n",
    "if run_env not in ['colab', 'gradient', 'cloud']:\n",
    "    cloud_run = False\n",
    "    from functions_b__get_the_data_20221116 import set_csv_directory\n",
    "    set_csv_directory('final_split')\n",
    "else:\n",
    "    cloud_run = True\n",
    "    import sys\n",
    "    import os\n",
    "\n",
    "    module_path = os.path.abspath(os.path.join('..', '..', '..'))\n",
    "    if module_path not in sys.path:\n",
    "        #sys.path.append(module_path+\"\\\\zfunctions\")\n",
    "        sys.path.append(module_path)\n",
    "\n",
    "from functions_0__common_20221116 import get_columns\n",
    "from functions_b__get_the_data_20221116 import get_combined_dataset\n",
    "from functions_d1__prepare_cleanse_data_20221116 import tidy_dataset\n",
    "from functions_d2__transform_enrich_data_20221116 import preprocess, feature_engineer\n",
    "from functions_d3__prepare_store_data_20221116 import create_train_test_data\n",
    "from functions_e__train_model_20221116 import get_chosen_model, make_modelling_pipeline, get_cv_params, fit_model_with_cross_validation, get_hyperparameters\n",
    "from functions_f_evaluate_model_20221116 import get_best_estimator_average_time, get_results, update_results\n",
    "\n"
   ]
  },
  {
   "cell_type": "code",
   "execution_count": 4,
   "outputs": [],
   "source": [
    "#OVERRIDE_N_ITER = 5"
   ],
   "metadata": {
    "collapsed": false
   }
  },
  {
   "cell_type": "code",
   "execution_count": 5,
   "metadata": {
    "execution": {
     "iopub.execute_input": "2022-11-16T13:53:45.086382Z",
     "iopub.status.busy": "2022-11-16T13:53:45.086022Z",
     "iopub.status.idle": "2022-11-16T13:53:45.092108Z",
     "shell.execute_reply": "2022-11-16T13:53:45.091330Z",
     "shell.execute_reply.started": "2022-11-16T13:53:45.086361Z"
    }
   },
   "outputs": [
    {
     "name": "stdout",
     "output_type": "stream",
     "text": [
      "\u001B[34mfeatures\u001B[0m ->  ['bedrooms', 'bathrooms', 'nearestStation', 'location.latitude', 'location.longitude', 'latitude_deviation', 'longitude_deviation', 'tenure.tenureType']\n",
      "\u001B[1m\u001B[32mlabel\u001B[0m ->  Price\n"
     ]
    }
   ],
   "source": [
    "#cutdown_rows = 1000\n",
    "cutdown_rows = 0\n",
    "\n",
    "LABEL = 'Price'\n",
    "\n",
    "columns, booleans, floats, categories, custom, wildcard = get_columns(version=VERSION)\n",
    "\n",
    "print(colored(f\"features\", \"blue\"), \"-> \", columns)\n",
    "columns.insert(0, LABEL)\n",
    "print(colored(f\"label\", \"green\", None, ['bold']), \"-> \", LABEL)"
   ]
  },
  {
   "cell_type": "code",
   "execution_count": 6,
   "metadata": {
    "collapsed": false,
    "execution": {
     "iopub.execute_input": "2022-11-29T21:13:26.061510Z",
     "iopub.status.busy": "2022-11-29T21:13:26.061266Z",
     "iopub.status.idle": "2022-11-29T21:13:26.076565Z",
     "shell.execute_reply": "2022-11-29T21:13:26.075207Z",
     "shell.execute_reply.started": "2022-11-29T21:13:26.061489Z"
    },
    "jupyter": {
     "outputs_hidden": false
    }
   },
   "outputs": [
    {
     "data": {
      "text/plain": "Pipeline(steps=[('std_scaler', StandardScaler()), ('model', None)])",
      "text/html": "<style>#sk-container-id-1 {color: black;background-color: white;}#sk-container-id-1 pre{padding: 0;}#sk-container-id-1 div.sk-toggleable {background-color: white;}#sk-container-id-1 label.sk-toggleable__label {cursor: pointer;display: block;width: 100%;margin-bottom: 0;padding: 0.3em;box-sizing: border-box;text-align: center;}#sk-container-id-1 label.sk-toggleable__label-arrow:before {content: \"▸\";float: left;margin-right: 0.25em;color: #696969;}#sk-container-id-1 label.sk-toggleable__label-arrow:hover:before {color: black;}#sk-container-id-1 div.sk-estimator:hover label.sk-toggleable__label-arrow:before {color: black;}#sk-container-id-1 div.sk-toggleable__content {max-height: 0;max-width: 0;overflow: hidden;text-align: left;background-color: #f0f8ff;}#sk-container-id-1 div.sk-toggleable__content pre {margin: 0.2em;color: black;border-radius: 0.25em;background-color: #f0f8ff;}#sk-container-id-1 input.sk-toggleable__control:checked~div.sk-toggleable__content {max-height: 200px;max-width: 100%;overflow: auto;}#sk-container-id-1 input.sk-toggleable__control:checked~label.sk-toggleable__label-arrow:before {content: \"▾\";}#sk-container-id-1 div.sk-estimator input.sk-toggleable__control:checked~label.sk-toggleable__label {background-color: #d4ebff;}#sk-container-id-1 div.sk-label input.sk-toggleable__control:checked~label.sk-toggleable__label {background-color: #d4ebff;}#sk-container-id-1 input.sk-hidden--visually {border: 0;clip: rect(1px 1px 1px 1px);clip: rect(1px, 1px, 1px, 1px);height: 1px;margin: -1px;overflow: hidden;padding: 0;position: absolute;width: 1px;}#sk-container-id-1 div.sk-estimator {font-family: monospace;background-color: #f0f8ff;border: 1px dotted black;border-radius: 0.25em;box-sizing: border-box;margin-bottom: 0.5em;}#sk-container-id-1 div.sk-estimator:hover {background-color: #d4ebff;}#sk-container-id-1 div.sk-parallel-item::after {content: \"\";width: 100%;border-bottom: 1px solid gray;flex-grow: 1;}#sk-container-id-1 div.sk-label:hover label.sk-toggleable__label {background-color: #d4ebff;}#sk-container-id-1 div.sk-serial::before {content: \"\";position: absolute;border-left: 1px solid gray;box-sizing: border-box;top: 0;bottom: 0;left: 50%;z-index: 0;}#sk-container-id-1 div.sk-serial {display: flex;flex-direction: column;align-items: center;background-color: white;padding-right: 0.2em;padding-left: 0.2em;position: relative;}#sk-container-id-1 div.sk-item {position: relative;z-index: 1;}#sk-container-id-1 div.sk-parallel {display: flex;align-items: stretch;justify-content: center;background-color: white;position: relative;}#sk-container-id-1 div.sk-item::before, #sk-container-id-1 div.sk-parallel-item::before {content: \"\";position: absolute;border-left: 1px solid gray;box-sizing: border-box;top: 0;bottom: 0;left: 50%;z-index: -1;}#sk-container-id-1 div.sk-parallel-item {display: flex;flex-direction: column;z-index: 1;position: relative;background-color: white;}#sk-container-id-1 div.sk-parallel-item:first-child::after {align-self: flex-end;width: 50%;}#sk-container-id-1 div.sk-parallel-item:last-child::after {align-self: flex-start;width: 50%;}#sk-container-id-1 div.sk-parallel-item:only-child::after {width: 0;}#sk-container-id-1 div.sk-dashed-wrapped {border: 1px dashed gray;margin: 0 0.4em 0.5em 0.4em;box-sizing: border-box;padding-bottom: 0.4em;background-color: white;}#sk-container-id-1 div.sk-label label {font-family: monospace;font-weight: bold;display: inline-block;line-height: 1.2em;}#sk-container-id-1 div.sk-label-container {text-align: center;}#sk-container-id-1 div.sk-container {/* jupyter's `normalize.less` sets `[hidden] { display: none; }` but bootstrap.min.css set `[hidden] { display: none !important; }` so we also need the `!important` here to be able to override the default hidden behavior on the sphinx rendered scikit-learn.org. See: https://github.com/scikit-learn/scikit-learn/issues/21755 */display: inline-block !important;position: relative;}#sk-container-id-1 div.sk-text-repr-fallback {display: none;}</style><div id=\"sk-container-id-1\" class=\"sk-top-container\"><div class=\"sk-text-repr-fallback\"><pre>Pipeline(steps=[(&#x27;std_scaler&#x27;, StandardScaler()), (&#x27;model&#x27;, None)])</pre><b>In a Jupyter environment, please rerun this cell to show the HTML representation or trust the notebook. <br />On GitHub, the HTML representation is unable to render, please try loading this page with nbviewer.org.</b></div><div class=\"sk-container\" hidden><div class=\"sk-item sk-dashed-wrapped\"><div class=\"sk-label-container\"><div class=\"sk-label sk-toggleable\"><input class=\"sk-toggleable__control sk-hidden--visually\" id=\"sk-estimator-id-1\" type=\"checkbox\" ><label for=\"sk-estimator-id-1\" class=\"sk-toggleable__label sk-toggleable__label-arrow\">Pipeline</label><div class=\"sk-toggleable__content\"><pre>Pipeline(steps=[(&#x27;std_scaler&#x27;, StandardScaler()), (&#x27;model&#x27;, None)])</pre></div></div></div><div class=\"sk-serial\"><div class=\"sk-item\"><div class=\"sk-estimator sk-toggleable\"><input class=\"sk-toggleable__control sk-hidden--visually\" id=\"sk-estimator-id-2\" type=\"checkbox\" ><label for=\"sk-estimator-id-2\" class=\"sk-toggleable__label sk-toggleable__label-arrow\">StandardScaler</label><div class=\"sk-toggleable__content\"><pre>StandardScaler()</pre></div></div></div><div class=\"sk-item\"><div class=\"sk-estimator sk-toggleable\"><input class=\"sk-toggleable__control sk-hidden--visually\" id=\"sk-estimator-id-3\" type=\"checkbox\" ><label for=\"sk-estimator-id-3\" class=\"sk-toggleable__label sk-toggleable__label-arrow\">None</label><div class=\"sk-toggleable__content\"><pre>None</pre></div></div></div></div></div></div></div>"
     },
     "execution_count": 6,
     "metadata": {},
     "output_type": "execute_result"
    }
   ],
   "source": [
    "from sklearn.pipeline import Pipeline\n",
    "from sklearn.preprocessing import MinMaxScaler, StandardScaler\n",
    "\n",
    "\n",
    "def make_pipeline():\n",
    "    return Pipeline([\n",
    "        #('mms', MinMaxScaler()),\n",
    "        ('std_scaler', StandardScaler()),\n",
    "        ('model', get_chosen_model(ALGORITHM))\n",
    "    ])\n",
    "\n",
    "\n",
    "starter_pipe = make_pipeline()\n",
    "starter_pipe"
   ]
  },
  {
   "cell_type": "code",
   "execution_count": 7,
   "metadata": {
    "execution": {
     "iopub.execute_input": "2022-11-16T13:53:45.125489Z",
     "iopub.status.busy": "2022-11-16T13:53:45.125277Z",
     "iopub.status.idle": "2022-11-16T13:53:45.130895Z",
     "shell.execute_reply": "2022-11-16T13:53:45.130188Z",
     "shell.execute_reply.started": "2022-11-16T13:53:45.125470Z"
    }
   },
   "outputs": [],
   "source": [
    "def get_source_dataframe(rows=cutdown_rows, folder_prefix='../../../'):\n",
    "    retrieval_type = None\n",
    "\n",
    "    filename = f'df_listings_v{VERSION}.csv'\n",
    "    remote_pathname = f'https://raw.githubusercontent.com/jayportfolio/capstone_streamlit/main/data/final/{filename}'\n",
    "    df_pathname_raw = folder_prefix + f'data/source/{filename}'\n",
    "    df_pathname_tidy = folder_prefix + f'data/final/{filename}'\n",
    "\n",
    "    if cloud_run:\n",
    "        inDF = pd.read_csv(remote_pathname, on_bad_lines='error', index_col=0)\n",
    "        retrieval_type = 'tidy'\n",
    "        print('loaded data from', folder_prefix + remote_pathname)\n",
    "    else:\n",
    "        inDF = pd.read_csv(df_pathname_tidy, on_bad_lines='error', index_col=0)\n",
    "        retrieval_type = 'tidy'\n",
    "        print('loaded data from', df_pathname_tidy)\n",
    "\n",
    "    if rows and rows > 0:\n",
    "        inDF = inDF[:rows]\n",
    "    return inDF, retrieval_type"
   ]
  },
  {
   "cell_type": "code",
   "execution_count": 8,
   "metadata": {
    "execution": {
     "iopub.execute_input": "2022-11-16T13:53:45.132049Z",
     "iopub.status.busy": "2022-11-16T13:53:45.131848Z",
     "iopub.status.idle": "2022-11-16T13:53:45.525582Z",
     "shell.execute_reply": "2022-11-16T13:53:45.524903Z",
     "shell.execute_reply.started": "2022-11-16T13:53:45.132030Z"
    }
   },
   "outputs": [
    {
     "name": "stdout",
     "output_type": "stream",
     "text": [
      "loaded data from ../../../https://raw.githubusercontent.com/jayportfolio/capstone_streamlit/main/data/final/df_listings_v10.csv\n",
      "(46871, 59)\n"
     ]
    }
   ],
   "source": [
    "df, retrieval_type = get_source_dataframe(folder_prefix='../../../')\n",
    "df_orig = df.copy()\n",
    "\n",
    "if retrieval_type != 'tidy':\n",
    "    df = tidy_dataset(df, version=int(VERSION))\n",
    "    df = feature_engineer(df, version=int(VERSION))\n",
    "\n",
    "    df = df[columns]\n",
    "\n",
    "print(df.shape)"
   ]
  },
  {
   "cell_type": "code",
   "execution_count": 9,
   "metadata": {
    "execution": {
     "iopub.execute_input": "2022-11-16T13:53:45.526718Z",
     "iopub.status.busy": "2022-11-16T13:53:45.526472Z",
     "iopub.status.idle": "2022-11-16T13:53:45.548777Z",
     "shell.execute_reply": "2022-11-16T13:53:45.548195Z",
     "shell.execute_reply.started": "2022-11-16T13:53:45.526696Z"
    }
   },
   "outputs": [
    {
     "data": {
      "text/plain": "             Price  bedrooms  bathrooms  nearestStation  location.latitude  \\\n14520525  550000.0       3.0        1.0        0.274316          51.529950   \n27953107  400000.0       2.0        2.0        0.305845          51.549390   \n33593487  579950.0       2.0        1.0        0.438045          51.447180   \n35271294  370000.0       2.0        1.0        0.399307          51.449568   \n35429088  599950.0       2.0        1.0        0.238187          51.577030   \n44749111  475000.0       2.0        1.0        0.410550          51.370050   \n46204665  435000.0       3.0        2.0        0.314779          51.539070   \n49020666  200000.0       1.0        1.0        0.875911          51.539959   \n49036279  275000.0       2.0        1.0        0.474368          51.541780   \n49303873  450000.0       3.0        2.0        0.577040          51.524880   \n52064391  349950.0       2.0        2.0        0.212734          51.470800   \n52187854  450000.0       1.0        1.0        0.446802          51.527199   \n52675628  490000.0       2.0        2.0        0.215040          51.501114   \n52845963  200000.0       2.0        1.0        0.650562          51.398040   \n52913496  220000.0       1.0        1.0        0.945991          51.539383   \n53609433  489995.0       1.0        1.0        0.087081          51.532620   \n53649578  284950.0       1.0        1.0        0.806597          51.479890   \n53938989  450000.0       2.0        1.0        0.775203          51.658287   \n54713232  332000.0       2.0        1.0        0.319226          51.612300   \n54904122  365000.0       2.0        1.0        0.260722          51.593595   \n54991934  430000.0       3.0        1.0        0.497268          51.528720   \n55043230  260000.0       1.0        1.0        0.384607          51.544430   \n55187658  430000.0       2.0        2.0        0.289033          51.507570   \n55531367  599950.0       2.0        1.0        0.406725          51.467410   \n55768232  550000.0       2.0        1.0        0.478349          51.472890   \n55805965  280000.0       2.0        1.0        0.742859          51.520910   \n55839051  599950.0       2.0        1.0        0.259168          51.579186   \n55940994  385000.0       2.0        2.0        0.403987          51.376930   \n56449305  380000.0       2.0        1.0        0.310271          51.600483   \n57221413  475000.0       3.0        2.0        0.409784          51.497260   \n\n          location.longitude  latitude_deviation  longitude_deviation  \\\n14520525           -0.207020            0.030230             0.102600   \n27953107           -0.482600            0.049670             0.378180   \n33593487           -0.338770            0.052540             0.234350   \n35271294           -0.140154            0.050152             0.035734   \n35429088           -0.141230            0.077310             0.036810   \n44749111           -0.212410            0.129670             0.107990   \n46204665           -0.198935            0.039350             0.094515   \n49020666           -0.380863            0.040239             0.276443   \n49036279            0.037890            0.042060             0.142310   \n49303873            0.187200            0.025160             0.291620   \n52064391           -0.361820            0.028920             0.257400   \n52187854           -0.202898            0.027479             0.098478   \n52675628            0.026315            0.001394             0.130735   \n52845963           -0.076812            0.101680             0.027608   \n52913496           -0.382239            0.039663             0.277819   \n53609433           -0.107860            0.032900             0.003440   \n53649578           -0.078500            0.019830             0.025920   \n53938989           -0.207902            0.158567             0.103482   \n54713232           -0.119860            0.112580             0.015440   \n54904122            0.022046            0.093875             0.126466   \n54991934            0.039180            0.029000             0.143600   \n55043230            0.014500            0.044710             0.118920   \n55187658            0.078030            0.007850             0.182450   \n55531367           -0.079170            0.032310             0.025250   \n55768232           -0.078940            0.026830             0.025480   \n55805965            0.022680            0.021190             0.127100   \n55839051           -0.209020            0.079466             0.104600   \n55940994           -0.238870            0.122790             0.134450   \n56449305           -0.062096            0.100763             0.042324   \n57221413           -0.422530            0.002460             0.318110   \n\n          tenure.tenureType  feature__1 bedroom  ...  feature__reception room  \\\n14520525          LEASEHOLD                   0  ...                        0   \n27953107          LEASEHOLD                   0  ...                        0   \n33593487           FREEHOLD                   0  ...                        0   \n35271294          LEASEHOLD                   0  ...                        0   \n35429088                NaN                   0  ...                        0   \n44749111           FREEHOLD                   0  ...                        0   \n46204665          LEASEHOLD                   0  ...                        0   \n49020666          LEASEHOLD                   0  ...                        0   \n49036279          LEASEHOLD                   0  ...                        0   \n49303873           FREEHOLD                   0  ...                        0   \n52064391          LEASEHOLD                   0  ...                        0   \n52187854          LEASEHOLD                   0  ...                        0   \n52675628                NaN                   0  ...                        0   \n52845963          LEASEHOLD                   0  ...                        0   \n52913496          LEASEHOLD                   0  ...                        0   \n53609433          LEASEHOLD                   0  ...                        0   \n53649578                NaN                   0  ...                        0   \n53938989           FREEHOLD                   0  ...                        0   \n54713232  SHARE_OF_FREEHOLD                   0  ...                        0   \n54904122  SHARE_OF_FREEHOLD                   0  ...                        0   \n54991934           FREEHOLD                   0  ...                        0   \n55043230          LEASEHOLD                   0  ...                        0   \n55187658          LEASEHOLD                   0  ...                        0   \n55531367                NaN                   0  ...                        0   \n55768232                NaN                   0  ...                        0   \n55805965          LEASEHOLD                   0  ...                        0   \n55839051          LEASEHOLD                   0  ...                        0   \n55940994          LEASEHOLD                   0  ...                        0   \n56449305           FREEHOLD                   0  ...                        1   \n57221413           FREEHOLD                   0  ...                        0   \n\n          feature__separate kitchen  feature__share of freehold  \\\n14520525                          1                           0   \n27953107                          0                           0   \n33593487                          0                           0   \n35271294                          0                           0   \n35429088                          0                           0   \n44749111                          0                           0   \n46204665                          0                           0   \n49020666                          0                           0   \n49036279                          0                           0   \n49303873                          0                           0   \n52064391                          0                           0   \n52187854                          0                           0   \n52675628                          0                           0   \n52845963                          0                           0   \n52913496                          0                           0   \n53609433                          0                           0   \n53649578                          0                           0   \n53938989                          0                           0   \n54713232                          0                           0   \n54904122                          0                           1   \n54991934                          0                           0   \n55043230                          0                           0   \n55187658                          0                           0   \n55531367                          0                           0   \n55768232                          0                           0   \n55805965                          0                           0   \n55839051                          0                           0   \n55940994                          0                           0   \n56449305                          0                           0   \n57221413                          0                           0   \n\n          feature__three bedrooms  feature__three double bedrooms  \\\n14520525                        0                               0   \n27953107                        0                               0   \n33593487                        0                               0   \n35271294                        0                               0   \n35429088                        0                               0   \n44749111                        0                               0   \n46204665                        1                               0   \n49020666                        0                               0   \n49036279                        0                               0   \n49303873                        0                               0   \n52064391                        0                               0   \n52187854                        0                               0   \n52675628                        0                               0   \n52845963                        0                               0   \n52913496                        0                               0   \n53609433                        0                               0   \n53649578                        0                               0   \n53938989                        0                               0   \n54713232                        0                               0   \n54904122                        0                               0   \n54991934                        0                               0   \n55043230                        0                               0   \n55187658                        0                               0   \n55531367                        0                               0   \n55768232                        0                               0   \n55805965                        0                               0   \n55839051                        0                               0   \n55940994                        0                               0   \n56449305                        0                               0   \n57221413                        1                               0   \n\n          feature__top floor  feature__two bathrooms  feature__two bedrooms  \\\n14520525                   0                       0                      0   \n27953107                   1                       0                      0   \n33593487                   0                       0                      0   \n35271294                   0                       0                      0   \n35429088                   0                       0                      0   \n44749111                   0                       0                      0   \n46204665                   0                       0                      0   \n49020666                   0                       0                      0   \n49036279                   0                       0                      0   \n49303873                   0                       0                      0   \n52064391                   0                       0                      1   \n52187854                   0                       0                      0   \n52675628                   0                       0                      0   \n52845963                   0                       0                      0   \n52913496                   0                       0                      0   \n53609433                   0                       0                      0   \n53649578                   0                       0                      0   \n53938989                   0                       0                      0   \n54713232                   0                       0                      0   \n54904122                   0                       0                      0   \n54991934                   0                       0                      0   \n55043230                   0                       0                      0   \n55187658                   0                       0                      0   \n55531367                   0                       0                      0   \n55768232                   0                       0                      0   \n55805965                   0                       0                      0   \n55839051                   0                       0                      0   \n55940994                   0                       0                      1   \n56449305                   0                       0                      1   \n57221413                   0                       0                      0   \n\n          feature__two double bedrooms  feature__two reception rooms  \n14520525                             0                             0  \n27953107                             1                             0  \n33593487                             0                             0  \n35271294                             0                             0  \n35429088                             0                             0  \n44749111                             0                             0  \n46204665                             0                             0  \n49020666                             0                             0  \n49036279                             0                             0  \n49303873                             0                             0  \n52064391                             0                             0  \n52187854                             0                             0  \n52675628                             0                             0  \n52845963                             0                             0  \n52913496                             0                             0  \n53609433                             0                             0  \n53649578                             0                             0  \n53938989                             0                             0  \n54713232                             0                             0  \n54904122                             0                             0  \n54991934                             0                             0  \n55043230                             0                             0  \n55187658                             0                             0  \n55531367                             1                             0  \n55768232                             0                             0  \n55805965                             0                             0  \n55839051                             0                             0  \n55940994                             0                             0  \n56449305                             0                             0  \n57221413                             0                             0  \n\n[30 rows x 59 columns]",
      "text/html": "<div>\n<style scoped>\n    .dataframe tbody tr th:only-of-type {\n        vertical-align: middle;\n    }\n\n    .dataframe tbody tr th {\n        vertical-align: top;\n    }\n\n    .dataframe thead th {\n        text-align: right;\n    }\n</style>\n<table border=\"1\" class=\"dataframe\">\n  <thead>\n    <tr style=\"text-align: right;\">\n      <th></th>\n      <th>Price</th>\n      <th>bedrooms</th>\n      <th>bathrooms</th>\n      <th>nearestStation</th>\n      <th>location.latitude</th>\n      <th>location.longitude</th>\n      <th>latitude_deviation</th>\n      <th>longitude_deviation</th>\n      <th>tenure.tenureType</th>\n      <th>feature__1 bedroom</th>\n      <th>...</th>\n      <th>feature__reception room</th>\n      <th>feature__separate kitchen</th>\n      <th>feature__share of freehold</th>\n      <th>feature__three bedrooms</th>\n      <th>feature__three double bedrooms</th>\n      <th>feature__top floor</th>\n      <th>feature__two bathrooms</th>\n      <th>feature__two bedrooms</th>\n      <th>feature__two double bedrooms</th>\n      <th>feature__two reception rooms</th>\n    </tr>\n  </thead>\n  <tbody>\n    <tr>\n      <th>14520525</th>\n      <td>550000.0</td>\n      <td>3.0</td>\n      <td>1.0</td>\n      <td>0.274316</td>\n      <td>51.529950</td>\n      <td>-0.207020</td>\n      <td>0.030230</td>\n      <td>0.102600</td>\n      <td>LEASEHOLD</td>\n      <td>0</td>\n      <td>...</td>\n      <td>0</td>\n      <td>1</td>\n      <td>0</td>\n      <td>0</td>\n      <td>0</td>\n      <td>0</td>\n      <td>0</td>\n      <td>0</td>\n      <td>0</td>\n      <td>0</td>\n    </tr>\n    <tr>\n      <th>27953107</th>\n      <td>400000.0</td>\n      <td>2.0</td>\n      <td>2.0</td>\n      <td>0.305845</td>\n      <td>51.549390</td>\n      <td>-0.482600</td>\n      <td>0.049670</td>\n      <td>0.378180</td>\n      <td>LEASEHOLD</td>\n      <td>0</td>\n      <td>...</td>\n      <td>0</td>\n      <td>0</td>\n      <td>0</td>\n      <td>0</td>\n      <td>0</td>\n      <td>1</td>\n      <td>0</td>\n      <td>0</td>\n      <td>1</td>\n      <td>0</td>\n    </tr>\n    <tr>\n      <th>33593487</th>\n      <td>579950.0</td>\n      <td>2.0</td>\n      <td>1.0</td>\n      <td>0.438045</td>\n      <td>51.447180</td>\n      <td>-0.338770</td>\n      <td>0.052540</td>\n      <td>0.234350</td>\n      <td>FREEHOLD</td>\n      <td>0</td>\n      <td>...</td>\n      <td>0</td>\n      <td>0</td>\n      <td>0</td>\n      <td>0</td>\n      <td>0</td>\n      <td>0</td>\n      <td>0</td>\n      <td>0</td>\n      <td>0</td>\n      <td>0</td>\n    </tr>\n    <tr>\n      <th>35271294</th>\n      <td>370000.0</td>\n      <td>2.0</td>\n      <td>1.0</td>\n      <td>0.399307</td>\n      <td>51.449568</td>\n      <td>-0.140154</td>\n      <td>0.050152</td>\n      <td>0.035734</td>\n      <td>LEASEHOLD</td>\n      <td>0</td>\n      <td>...</td>\n      <td>0</td>\n      <td>0</td>\n      <td>0</td>\n      <td>0</td>\n      <td>0</td>\n      <td>0</td>\n      <td>0</td>\n      <td>0</td>\n      <td>0</td>\n      <td>0</td>\n    </tr>\n    <tr>\n      <th>35429088</th>\n      <td>599950.0</td>\n      <td>2.0</td>\n      <td>1.0</td>\n      <td>0.238187</td>\n      <td>51.577030</td>\n      <td>-0.141230</td>\n      <td>0.077310</td>\n      <td>0.036810</td>\n      <td>NaN</td>\n      <td>0</td>\n      <td>...</td>\n      <td>0</td>\n      <td>0</td>\n      <td>0</td>\n      <td>0</td>\n      <td>0</td>\n      <td>0</td>\n      <td>0</td>\n      <td>0</td>\n      <td>0</td>\n      <td>0</td>\n    </tr>\n    <tr>\n      <th>44749111</th>\n      <td>475000.0</td>\n      <td>2.0</td>\n      <td>1.0</td>\n      <td>0.410550</td>\n      <td>51.370050</td>\n      <td>-0.212410</td>\n      <td>0.129670</td>\n      <td>0.107990</td>\n      <td>FREEHOLD</td>\n      <td>0</td>\n      <td>...</td>\n      <td>0</td>\n      <td>0</td>\n      <td>0</td>\n      <td>0</td>\n      <td>0</td>\n      <td>0</td>\n      <td>0</td>\n      <td>0</td>\n      <td>0</td>\n      <td>0</td>\n    </tr>\n    <tr>\n      <th>46204665</th>\n      <td>435000.0</td>\n      <td>3.0</td>\n      <td>2.0</td>\n      <td>0.314779</td>\n      <td>51.539070</td>\n      <td>-0.198935</td>\n      <td>0.039350</td>\n      <td>0.094515</td>\n      <td>LEASEHOLD</td>\n      <td>0</td>\n      <td>...</td>\n      <td>0</td>\n      <td>0</td>\n      <td>0</td>\n      <td>1</td>\n      <td>0</td>\n      <td>0</td>\n      <td>0</td>\n      <td>0</td>\n      <td>0</td>\n      <td>0</td>\n    </tr>\n    <tr>\n      <th>49020666</th>\n      <td>200000.0</td>\n      <td>1.0</td>\n      <td>1.0</td>\n      <td>0.875911</td>\n      <td>51.539959</td>\n      <td>-0.380863</td>\n      <td>0.040239</td>\n      <td>0.276443</td>\n      <td>LEASEHOLD</td>\n      <td>0</td>\n      <td>...</td>\n      <td>0</td>\n      <td>0</td>\n      <td>0</td>\n      <td>0</td>\n      <td>0</td>\n      <td>0</td>\n      <td>0</td>\n      <td>0</td>\n      <td>0</td>\n      <td>0</td>\n    </tr>\n    <tr>\n      <th>49036279</th>\n      <td>275000.0</td>\n      <td>2.0</td>\n      <td>1.0</td>\n      <td>0.474368</td>\n      <td>51.541780</td>\n      <td>0.037890</td>\n      <td>0.042060</td>\n      <td>0.142310</td>\n      <td>LEASEHOLD</td>\n      <td>0</td>\n      <td>...</td>\n      <td>0</td>\n      <td>0</td>\n      <td>0</td>\n      <td>0</td>\n      <td>0</td>\n      <td>0</td>\n      <td>0</td>\n      <td>0</td>\n      <td>0</td>\n      <td>0</td>\n    </tr>\n    <tr>\n      <th>49303873</th>\n      <td>450000.0</td>\n      <td>3.0</td>\n      <td>2.0</td>\n      <td>0.577040</td>\n      <td>51.524880</td>\n      <td>0.187200</td>\n      <td>0.025160</td>\n      <td>0.291620</td>\n      <td>FREEHOLD</td>\n      <td>0</td>\n      <td>...</td>\n      <td>0</td>\n      <td>0</td>\n      <td>0</td>\n      <td>0</td>\n      <td>0</td>\n      <td>0</td>\n      <td>0</td>\n      <td>0</td>\n      <td>0</td>\n      <td>0</td>\n    </tr>\n    <tr>\n      <th>52064391</th>\n      <td>349950.0</td>\n      <td>2.0</td>\n      <td>2.0</td>\n      <td>0.212734</td>\n      <td>51.470800</td>\n      <td>-0.361820</td>\n      <td>0.028920</td>\n      <td>0.257400</td>\n      <td>LEASEHOLD</td>\n      <td>0</td>\n      <td>...</td>\n      <td>0</td>\n      <td>0</td>\n      <td>0</td>\n      <td>0</td>\n      <td>0</td>\n      <td>0</td>\n      <td>0</td>\n      <td>1</td>\n      <td>0</td>\n      <td>0</td>\n    </tr>\n    <tr>\n      <th>52187854</th>\n      <td>450000.0</td>\n      <td>1.0</td>\n      <td>1.0</td>\n      <td>0.446802</td>\n      <td>51.527199</td>\n      <td>-0.202898</td>\n      <td>0.027479</td>\n      <td>0.098478</td>\n      <td>LEASEHOLD</td>\n      <td>0</td>\n      <td>...</td>\n      <td>0</td>\n      <td>0</td>\n      <td>0</td>\n      <td>0</td>\n      <td>0</td>\n      <td>0</td>\n      <td>0</td>\n      <td>0</td>\n      <td>0</td>\n      <td>0</td>\n    </tr>\n    <tr>\n      <th>52675628</th>\n      <td>490000.0</td>\n      <td>2.0</td>\n      <td>2.0</td>\n      <td>0.215040</td>\n      <td>51.501114</td>\n      <td>0.026315</td>\n      <td>0.001394</td>\n      <td>0.130735</td>\n      <td>NaN</td>\n      <td>0</td>\n      <td>...</td>\n      <td>0</td>\n      <td>0</td>\n      <td>0</td>\n      <td>0</td>\n      <td>0</td>\n      <td>0</td>\n      <td>0</td>\n      <td>0</td>\n      <td>0</td>\n      <td>0</td>\n    </tr>\n    <tr>\n      <th>52845963</th>\n      <td>200000.0</td>\n      <td>2.0</td>\n      <td>1.0</td>\n      <td>0.650562</td>\n      <td>51.398040</td>\n      <td>-0.076812</td>\n      <td>0.101680</td>\n      <td>0.027608</td>\n      <td>LEASEHOLD</td>\n      <td>0</td>\n      <td>...</td>\n      <td>0</td>\n      <td>0</td>\n      <td>0</td>\n      <td>0</td>\n      <td>0</td>\n      <td>0</td>\n      <td>0</td>\n      <td>0</td>\n      <td>0</td>\n      <td>0</td>\n    </tr>\n    <tr>\n      <th>52913496</th>\n      <td>220000.0</td>\n      <td>1.0</td>\n      <td>1.0</td>\n      <td>0.945991</td>\n      <td>51.539383</td>\n      <td>-0.382239</td>\n      <td>0.039663</td>\n      <td>0.277819</td>\n      <td>LEASEHOLD</td>\n      <td>0</td>\n      <td>...</td>\n      <td>0</td>\n      <td>0</td>\n      <td>0</td>\n      <td>0</td>\n      <td>0</td>\n      <td>0</td>\n      <td>0</td>\n      <td>0</td>\n      <td>0</td>\n      <td>0</td>\n    </tr>\n    <tr>\n      <th>53609433</th>\n      <td>489995.0</td>\n      <td>1.0</td>\n      <td>1.0</td>\n      <td>0.087081</td>\n      <td>51.532620</td>\n      <td>-0.107860</td>\n      <td>0.032900</td>\n      <td>0.003440</td>\n      <td>LEASEHOLD</td>\n      <td>0</td>\n      <td>...</td>\n      <td>0</td>\n      <td>0</td>\n      <td>0</td>\n      <td>0</td>\n      <td>0</td>\n      <td>0</td>\n      <td>0</td>\n      <td>0</td>\n      <td>0</td>\n      <td>0</td>\n    </tr>\n    <tr>\n      <th>53649578</th>\n      <td>284950.0</td>\n      <td>1.0</td>\n      <td>1.0</td>\n      <td>0.806597</td>\n      <td>51.479890</td>\n      <td>-0.078500</td>\n      <td>0.019830</td>\n      <td>0.025920</td>\n      <td>NaN</td>\n      <td>0</td>\n      <td>...</td>\n      <td>0</td>\n      <td>0</td>\n      <td>0</td>\n      <td>0</td>\n      <td>0</td>\n      <td>0</td>\n      <td>0</td>\n      <td>0</td>\n      <td>0</td>\n      <td>0</td>\n    </tr>\n    <tr>\n      <th>53938989</th>\n      <td>450000.0</td>\n      <td>2.0</td>\n      <td>1.0</td>\n      <td>0.775203</td>\n      <td>51.658287</td>\n      <td>-0.207902</td>\n      <td>0.158567</td>\n      <td>0.103482</td>\n      <td>FREEHOLD</td>\n      <td>0</td>\n      <td>...</td>\n      <td>0</td>\n      <td>0</td>\n      <td>0</td>\n      <td>0</td>\n      <td>0</td>\n      <td>0</td>\n      <td>0</td>\n      <td>0</td>\n      <td>0</td>\n      <td>0</td>\n    </tr>\n    <tr>\n      <th>54713232</th>\n      <td>332000.0</td>\n      <td>2.0</td>\n      <td>1.0</td>\n      <td>0.319226</td>\n      <td>51.612300</td>\n      <td>-0.119860</td>\n      <td>0.112580</td>\n      <td>0.015440</td>\n      <td>SHARE_OF_FREEHOLD</td>\n      <td>0</td>\n      <td>...</td>\n      <td>0</td>\n      <td>0</td>\n      <td>0</td>\n      <td>0</td>\n      <td>0</td>\n      <td>0</td>\n      <td>0</td>\n      <td>0</td>\n      <td>0</td>\n      <td>0</td>\n    </tr>\n    <tr>\n      <th>54904122</th>\n      <td>365000.0</td>\n      <td>2.0</td>\n      <td>1.0</td>\n      <td>0.260722</td>\n      <td>51.593595</td>\n      <td>0.022046</td>\n      <td>0.093875</td>\n      <td>0.126466</td>\n      <td>SHARE_OF_FREEHOLD</td>\n      <td>0</td>\n      <td>...</td>\n      <td>0</td>\n      <td>0</td>\n      <td>1</td>\n      <td>0</td>\n      <td>0</td>\n      <td>0</td>\n      <td>0</td>\n      <td>0</td>\n      <td>0</td>\n      <td>0</td>\n    </tr>\n    <tr>\n      <th>54991934</th>\n      <td>430000.0</td>\n      <td>3.0</td>\n      <td>1.0</td>\n      <td>0.497268</td>\n      <td>51.528720</td>\n      <td>0.039180</td>\n      <td>0.029000</td>\n      <td>0.143600</td>\n      <td>FREEHOLD</td>\n      <td>0</td>\n      <td>...</td>\n      <td>0</td>\n      <td>0</td>\n      <td>0</td>\n      <td>0</td>\n      <td>0</td>\n      <td>0</td>\n      <td>0</td>\n      <td>0</td>\n      <td>0</td>\n      <td>0</td>\n    </tr>\n    <tr>\n      <th>55043230</th>\n      <td>260000.0</td>\n      <td>1.0</td>\n      <td>1.0</td>\n      <td>0.384607</td>\n      <td>51.544430</td>\n      <td>0.014500</td>\n      <td>0.044710</td>\n      <td>0.118920</td>\n      <td>LEASEHOLD</td>\n      <td>0</td>\n      <td>...</td>\n      <td>0</td>\n      <td>0</td>\n      <td>0</td>\n      <td>0</td>\n      <td>0</td>\n      <td>0</td>\n      <td>0</td>\n      <td>0</td>\n      <td>0</td>\n      <td>0</td>\n    </tr>\n    <tr>\n      <th>55187658</th>\n      <td>430000.0</td>\n      <td>2.0</td>\n      <td>2.0</td>\n      <td>0.289033</td>\n      <td>51.507570</td>\n      <td>0.078030</td>\n      <td>0.007850</td>\n      <td>0.182450</td>\n      <td>LEASEHOLD</td>\n      <td>0</td>\n      <td>...</td>\n      <td>0</td>\n      <td>0</td>\n      <td>0</td>\n      <td>0</td>\n      <td>0</td>\n      <td>0</td>\n      <td>0</td>\n      <td>0</td>\n      <td>0</td>\n      <td>0</td>\n    </tr>\n    <tr>\n      <th>55531367</th>\n      <td>599950.0</td>\n      <td>2.0</td>\n      <td>1.0</td>\n      <td>0.406725</td>\n      <td>51.467410</td>\n      <td>-0.079170</td>\n      <td>0.032310</td>\n      <td>0.025250</td>\n      <td>NaN</td>\n      <td>0</td>\n      <td>...</td>\n      <td>0</td>\n      <td>0</td>\n      <td>0</td>\n      <td>0</td>\n      <td>0</td>\n      <td>0</td>\n      <td>0</td>\n      <td>0</td>\n      <td>1</td>\n      <td>0</td>\n    </tr>\n    <tr>\n      <th>55768232</th>\n      <td>550000.0</td>\n      <td>2.0</td>\n      <td>1.0</td>\n      <td>0.478349</td>\n      <td>51.472890</td>\n      <td>-0.078940</td>\n      <td>0.026830</td>\n      <td>0.025480</td>\n      <td>NaN</td>\n      <td>0</td>\n      <td>...</td>\n      <td>0</td>\n      <td>0</td>\n      <td>0</td>\n      <td>0</td>\n      <td>0</td>\n      <td>0</td>\n      <td>0</td>\n      <td>0</td>\n      <td>0</td>\n      <td>0</td>\n    </tr>\n    <tr>\n      <th>55805965</th>\n      <td>280000.0</td>\n      <td>2.0</td>\n      <td>1.0</td>\n      <td>0.742859</td>\n      <td>51.520910</td>\n      <td>0.022680</td>\n      <td>0.021190</td>\n      <td>0.127100</td>\n      <td>LEASEHOLD</td>\n      <td>0</td>\n      <td>...</td>\n      <td>0</td>\n      <td>0</td>\n      <td>0</td>\n      <td>0</td>\n      <td>0</td>\n      <td>0</td>\n      <td>0</td>\n      <td>0</td>\n      <td>0</td>\n      <td>0</td>\n    </tr>\n    <tr>\n      <th>55839051</th>\n      <td>599950.0</td>\n      <td>2.0</td>\n      <td>1.0</td>\n      <td>0.259168</td>\n      <td>51.579186</td>\n      <td>-0.209020</td>\n      <td>0.079466</td>\n      <td>0.104600</td>\n      <td>LEASEHOLD</td>\n      <td>0</td>\n      <td>...</td>\n      <td>0</td>\n      <td>0</td>\n      <td>0</td>\n      <td>0</td>\n      <td>0</td>\n      <td>0</td>\n      <td>0</td>\n      <td>0</td>\n      <td>0</td>\n      <td>0</td>\n    </tr>\n    <tr>\n      <th>55940994</th>\n      <td>385000.0</td>\n      <td>2.0</td>\n      <td>2.0</td>\n      <td>0.403987</td>\n      <td>51.376930</td>\n      <td>-0.238870</td>\n      <td>0.122790</td>\n      <td>0.134450</td>\n      <td>LEASEHOLD</td>\n      <td>0</td>\n      <td>...</td>\n      <td>0</td>\n      <td>0</td>\n      <td>0</td>\n      <td>0</td>\n      <td>0</td>\n      <td>0</td>\n      <td>0</td>\n      <td>1</td>\n      <td>0</td>\n      <td>0</td>\n    </tr>\n    <tr>\n      <th>56449305</th>\n      <td>380000.0</td>\n      <td>2.0</td>\n      <td>1.0</td>\n      <td>0.310271</td>\n      <td>51.600483</td>\n      <td>-0.062096</td>\n      <td>0.100763</td>\n      <td>0.042324</td>\n      <td>FREEHOLD</td>\n      <td>0</td>\n      <td>...</td>\n      <td>1</td>\n      <td>0</td>\n      <td>0</td>\n      <td>0</td>\n      <td>0</td>\n      <td>0</td>\n      <td>0</td>\n      <td>1</td>\n      <td>0</td>\n      <td>0</td>\n    </tr>\n    <tr>\n      <th>57221413</th>\n      <td>475000.0</td>\n      <td>3.0</td>\n      <td>2.0</td>\n      <td>0.409784</td>\n      <td>51.497260</td>\n      <td>-0.422530</td>\n      <td>0.002460</td>\n      <td>0.318110</td>\n      <td>FREEHOLD</td>\n      <td>0</td>\n      <td>...</td>\n      <td>0</td>\n      <td>0</td>\n      <td>0</td>\n      <td>1</td>\n      <td>0</td>\n      <td>0</td>\n      <td>0</td>\n      <td>0</td>\n      <td>0</td>\n      <td>0</td>\n    </tr>\n  </tbody>\n</table>\n<p>30 rows × 59 columns</p>\n</div>"
     },
     "execution_count": 9,
     "metadata": {},
     "output_type": "execute_result"
    }
   ],
   "source": [
    "df.head(30)"
   ]
  },
  {
   "cell_type": "code",
   "execution_count": 10,
   "metadata": {
    "execution": {
     "iopub.execute_input": "2022-11-16T13:53:45.549728Z",
     "iopub.status.busy": "2022-11-16T13:53:45.549524Z",
     "iopub.status.idle": "2022-11-16T13:53:45.561922Z",
     "shell.execute_reply": "2022-11-16T13:53:45.561366Z",
     "shell.execute_reply.started": "2022-11-16T13:53:45.549709Z"
    }
   },
   "outputs": [
    {
     "data": {
      "text/plain": "Price                                    0\nbedrooms                                 0\nbathrooms                                0\nnearestStation                           0\nlocation.latitude                        0\nlocation.longitude                       0\nlatitude_deviation                       0\nlongitude_deviation                      0\ntenure.tenureType                     2744\nfeature__1 bedroom                       0\nfeature__2 bedrooms                      0\nfeature__2 double bedrooms               0\nfeature__allocated parking               0\nfeature__allocated parking space         0\nfeature__balcony                         0\nfeature__bathroom                        0\nfeature__chain free                      0\nfeature__close to local amenities        0\nfeature__communal garden                 0\nfeature__communal gardens                0\nfeature__double bedroom                  0\nfeature__double glazed                   0\nfeature__double glazing                  0\nfeature__epc rating c                    0\nfeature__epc rating d                    0\nfeature__excellent location              0\nfeature__excellent transport links       0\nfeature__family bathroom                 0\nfeature__first floor                     0\nfeature__fitted kitchen                  0\nfeature__garage                          0\nfeature__garden                          0\nfeature__gas central heating             0\nfeature__great location                  0\nfeature__ground floor                    0\nfeature__kitchen                         0\nfeature__leasehold                       0\nfeature__long lease                      0\nfeature__modern bathroom                 0\nfeature__modern kitchen                  0\nfeature__no chain                        0\nfeature__no onward chain                 0\nfeature__off street parking              0\nfeature__one bedroom                     0\nfeature__one double bedroom              0\nfeature__parking                         0\nfeature__private balcony                 0\nfeature__private garden                  0\nfeature__private rear garden             0\nfeature__reception room                  0\nfeature__separate kitchen                0\nfeature__share of freehold               0\nfeature__three bedrooms                  0\nfeature__three double bedrooms           0\nfeature__top floor                       0\nfeature__two bathrooms                   0\nfeature__two bedrooms                    0\nfeature__two double bedrooms             0\nfeature__two reception rooms             0\ndtype: int64"
     },
     "execution_count": 10,
     "metadata": {},
     "output_type": "execute_result"
    }
   ],
   "source": [
    "df.isnull().sum()"
   ]
  },
  {
   "cell_type": "code",
   "execution_count": 11,
   "metadata": {
    "execution": {
     "iopub.execute_input": "2022-11-16T13:53:45.562900Z",
     "iopub.status.busy": "2022-11-16T13:53:45.562697Z",
     "iopub.status.idle": "2022-11-16T13:53:45.641457Z",
     "shell.execute_reply": "2022-11-16T13:53:45.640840Z",
     "shell.execute_reply.started": "2022-11-16T13:53:45.562882Z"
    }
   },
   "outputs": [
    {
     "name": "stdout",
     "output_type": "stream",
     "text": [
      "<class 'pandas.core.frame.DataFrame'>\n",
      "Int64Index: 46871 entries, 14520525 to 126181118\n",
      "Data columns (total 59 columns):\n",
      " #   Column                              Non-Null Count  Dtype  \n",
      "---  ------                              --------------  -----  \n",
      " 0   Price                               46871 non-null  float64\n",
      " 1   bedrooms                            46871 non-null  float64\n",
      " 2   bathrooms                           46871 non-null  float64\n",
      " 3   nearestStation                      46871 non-null  float64\n",
      " 4   location.latitude                   46871 non-null  float64\n",
      " 5   location.longitude                  46871 non-null  float64\n",
      " 6   latitude_deviation                  46871 non-null  float64\n",
      " 7   longitude_deviation                 46871 non-null  float64\n",
      " 8   tenure.tenureType                   44127 non-null  object \n",
      " 9   feature__1 bedroom                  46871 non-null  int64  \n",
      " 10  feature__2 bedrooms                 46871 non-null  int64  \n",
      " 11  feature__2 double bedrooms          46871 non-null  int64  \n",
      " 12  feature__allocated parking          46871 non-null  int64  \n",
      " 13  feature__allocated parking space    46871 non-null  int64  \n",
      " 14  feature__balcony                    46871 non-null  int64  \n",
      " 15  feature__bathroom                   46871 non-null  int64  \n",
      " 16  feature__chain free                 46871 non-null  int64  \n",
      " 17  feature__close to local amenities   46871 non-null  int64  \n",
      " 18  feature__communal garden            46871 non-null  int64  \n",
      " 19  feature__communal gardens           46871 non-null  int64  \n",
      " 20  feature__double bedroom             46871 non-null  int64  \n",
      " 21  feature__double glazed              46871 non-null  int64  \n",
      " 22  feature__double glazing             46871 non-null  int64  \n",
      " 23  feature__epc rating c               46871 non-null  int64  \n",
      " 24  feature__epc rating d               46871 non-null  int64  \n",
      " 25  feature__excellent location         46871 non-null  int64  \n",
      " 26  feature__excellent transport links  46871 non-null  int64  \n",
      " 27  feature__family bathroom            46871 non-null  int64  \n",
      " 28  feature__first floor                46871 non-null  int64  \n",
      " 29  feature__fitted kitchen             46871 non-null  int64  \n",
      " 30  feature__garage                     46871 non-null  int64  \n",
      " 31  feature__garden                     46871 non-null  int64  \n",
      " 32  feature__gas central heating        46871 non-null  int64  \n",
      " 33  feature__great location             46871 non-null  int64  \n",
      " 34  feature__ground floor               46871 non-null  int64  \n",
      " 35  feature__kitchen                    46871 non-null  int64  \n",
      " 36  feature__leasehold                  46871 non-null  int64  \n",
      " 37  feature__long lease                 46871 non-null  int64  \n",
      " 38  feature__modern bathroom            46871 non-null  int64  \n",
      " 39  feature__modern kitchen             46871 non-null  int64  \n",
      " 40  feature__no chain                   46871 non-null  int64  \n",
      " 41  feature__no onward chain            46871 non-null  int64  \n",
      " 42  feature__off street parking         46871 non-null  int64  \n",
      " 43  feature__one bedroom                46871 non-null  int64  \n",
      " 44  feature__one double bedroom         46871 non-null  int64  \n",
      " 45  feature__parking                    46871 non-null  int64  \n",
      " 46  feature__private balcony            46871 non-null  int64  \n",
      " 47  feature__private garden             46871 non-null  int64  \n",
      " 48  feature__private rear garden        46871 non-null  int64  \n",
      " 49  feature__reception room             46871 non-null  int64  \n",
      " 50  feature__separate kitchen           46871 non-null  int64  \n",
      " 51  feature__share of freehold          46871 non-null  int64  \n",
      " 52  feature__three bedrooms             46871 non-null  int64  \n",
      " 53  feature__three double bedrooms      46871 non-null  int64  \n",
      " 54  feature__top floor                  46871 non-null  int64  \n",
      " 55  feature__two bathrooms              46871 non-null  int64  \n",
      " 56  feature__two bedrooms               46871 non-null  int64  \n",
      " 57  feature__two double bedrooms        46871 non-null  int64  \n",
      " 58  feature__two reception rooms        46871 non-null  int64  \n",
      "dtypes: float64(8), int64(50), object(1)\n",
      "memory usage: 21.5+ MB\n"
     ]
    },
    {
     "data": {
      "text/plain": "                                      count           mean            std  \\\nPrice                               46871.0  425069.390775  107227.324906   \nbedrooms                            46871.0       1.992469       0.828837   \nbathrooms                           46871.0       1.182074       0.409879   \nnearestStation                      46871.0       0.438847       0.325942   \nlocation.latitude                   46871.0      51.497049       0.077085   \nlocation.longitude                  46871.0      -0.113269       0.156489   \nlatitude_deviation                  46871.0       0.064317       0.042573   \nlongitude_deviation                 46871.0       0.124202       0.095607   \nfeature__1 bedroom                  46871.0       0.010838       0.103542   \nfeature__2 bedrooms                 46871.0       0.015169       0.122402   \nfeature__2 double bedrooms          46871.0       0.013569       0.115695   \nfeature__allocated parking          46871.0       0.026946       0.161928   \nfeature__allocated parking space    46871.0       0.012993       0.113246   \nfeature__balcony                    46871.0       0.038617       0.193124   \nfeature__bathroom                   46871.0       0.026370       0.160502   \nfeature__chain free                 46871.0       0.120266       0.325800   \nfeature__close to local amenities   46871.0       0.011948       0.108848   \nfeature__communal garden            46871.0       0.018071       0.133209   \nfeature__communal gardens           46871.0       0.030381       0.171760   \nfeature__double bedroom             46871.0       0.012566       0.111395   \nfeature__double glazed              46871.0       0.012822       0.112509   \nfeature__double glazing             46871.0       0.025496       0.157761   \nfeature__epc rating c               46871.0       0.012140       0.109511   \nfeature__epc rating d               46871.0       0.013334       0.114704   \nfeature__excellent location         46871.0       0.013612       0.115874   \nfeature__excellent transport links  46871.0       0.016385       0.127122   \nfeature__family bathroom            46871.0       0.014593       0.120097   \nfeature__first floor                46871.0       0.026520       0.160676   \nfeature__fitted kitchen             46871.0       0.027224       0.162867   \nfeature__garage                     46871.0       0.030424       0.172001   \nfeature__garden                     46871.0       0.021015       0.144178   \nfeature__gas central heating        46871.0       0.028120       0.165961   \nfeature__great location             46871.0       0.015660       0.124158   \nfeature__ground floor               46871.0       0.028760       0.167132   \nfeature__kitchen                    46871.0       0.022850       0.149427   \nfeature__leasehold                  46871.0       0.014316       0.118970   \nfeature__long lease                 46871.0       0.039619       0.195175   \nfeature__modern bathroom            46871.0       0.015361       0.122986   \nfeature__modern kitchen             46871.0       0.014465       0.119400   \nfeature__no chain                   46871.0       0.026669       0.161380   \nfeature__no onward chain            46871.0       0.057925       0.233604   \nfeature__off street parking         46871.0       0.047300       0.212684   \nfeature__one bedroom                46871.0       0.041369       0.199144   \nfeature__one double bedroom         46871.0       0.027885       0.164645   \nfeature__parking                    46871.0       0.013398       0.115160   \nfeature__private balcony            46871.0       0.039662       0.195275   \nfeature__private garden             46871.0       0.034200       0.181980   \nfeature__private rear garden        46871.0       0.017367       0.131124   \nfeature__reception room             46871.0       0.014487       0.119843   \nfeature__separate kitchen           46871.0       0.020268       0.140918   \nfeature__share of freehold          46871.0       0.047663       0.213354   \nfeature__three bedrooms             46871.0       0.059120       0.235851   \nfeature__three double bedrooms      46871.0       0.012545       0.111301   \nfeature__top floor                  46871.0       0.013206       0.114159   \nfeature__two bathrooms              46871.0       0.031512       0.174943   \nfeature__two bedrooms               46871.0       0.071473       0.257616   \nfeature__two double bedrooms        46871.0       0.095411       0.293930   \nfeature__two reception rooms        46871.0       0.016449       0.127197   \n\n                                              min            25%  \\\nPrice                               100000.000000  349950.000000   \nbedrooms                                 1.000000       1.000000   \nbathrooms                                1.000000       1.000000   \nnearestStation                           0.000000       0.227169   \nlocation.latitude                       51.298317      51.438861   \nlocation.longitude                      -0.498315      -0.210796   \nlatitude_deviation                       0.000000       0.028876   \nlongitude_deviation                      0.000000       0.043560   \nfeature__1 bedroom                       0.000000       0.000000   \nfeature__2 bedrooms                      0.000000       0.000000   \nfeature__2 double bedrooms               0.000000       0.000000   \nfeature__allocated parking               0.000000       0.000000   \nfeature__allocated parking space         0.000000       0.000000   \nfeature__balcony                         0.000000       0.000000   \nfeature__bathroom                        0.000000       0.000000   \nfeature__chain free                      0.000000       0.000000   \nfeature__close to local amenities        0.000000       0.000000   \nfeature__communal garden                 0.000000       0.000000   \nfeature__communal gardens                0.000000       0.000000   \nfeature__double bedroom                  0.000000       0.000000   \nfeature__double glazed                   0.000000       0.000000   \nfeature__double glazing                  0.000000       0.000000   \nfeature__epc rating c                    0.000000       0.000000   \nfeature__epc rating d                    0.000000       0.000000   \nfeature__excellent location              0.000000       0.000000   \nfeature__excellent transport links       0.000000       0.000000   \nfeature__family bathroom                 0.000000       0.000000   \nfeature__first floor                     0.000000       0.000000   \nfeature__fitted kitchen                  0.000000       0.000000   \nfeature__garage                          0.000000       0.000000   \nfeature__garden                          0.000000       0.000000   \nfeature__gas central heating             0.000000       0.000000   \nfeature__great location                  0.000000       0.000000   \nfeature__ground floor                    0.000000       0.000000   \nfeature__kitchen                         0.000000       0.000000   \nfeature__leasehold                       0.000000       0.000000   \nfeature__long lease                      0.000000       0.000000   \nfeature__modern bathroom                 0.000000       0.000000   \nfeature__modern kitchen                  0.000000       0.000000   \nfeature__no chain                        0.000000       0.000000   \nfeature__no onward chain                 0.000000       0.000000   \nfeature__off street parking              0.000000       0.000000   \nfeature__one bedroom                     0.000000       0.000000   \nfeature__one double bedroom              0.000000       0.000000   \nfeature__parking                         0.000000       0.000000   \nfeature__private balcony                 0.000000       0.000000   \nfeature__private garden                  0.000000       0.000000   \nfeature__private rear garden             0.000000       0.000000   \nfeature__reception room                  0.000000       0.000000   \nfeature__separate kitchen                0.000000       0.000000   \nfeature__share of freehold               0.000000       0.000000   \nfeature__three bedrooms                  0.000000       0.000000   \nfeature__three double bedrooms           0.000000       0.000000   \nfeature__top floor                       0.000000       0.000000   \nfeature__two bathrooms                   0.000000       0.000000   \nfeature__two bedrooms                    0.000000       0.000000   \nfeature__two double bedrooms             0.000000       0.000000   \nfeature__two reception rooms             0.000000       0.000000   \n\n                                              50%            75%  \\\nPrice                               425000.000000  515000.000000   \nbedrooms                                 2.000000       3.000000   \nbathrooms                                1.000000       1.000000   \nnearestStation                           0.367971       0.559620   \nlocation.latitude                       51.499977      51.556183   \nlocation.longitude                      -0.102230      -0.010343   \nlatitude_deviation                       0.058595       0.094362   \nlongitude_deviation                      0.098984       0.192684   \nfeature__1 bedroom                       0.000000       0.000000   \nfeature__2 bedrooms                      0.000000       0.000000   \nfeature__2 double bedrooms               0.000000       0.000000   \nfeature__allocated parking               0.000000       0.000000   \nfeature__allocated parking space         0.000000       0.000000   \nfeature__balcony                         0.000000       0.000000   \nfeature__bathroom                        0.000000       0.000000   \nfeature__chain free                      0.000000       0.000000   \nfeature__close to local amenities        0.000000       0.000000   \nfeature__communal garden                 0.000000       0.000000   \nfeature__communal gardens                0.000000       0.000000   \nfeature__double bedroom                  0.000000       0.000000   \nfeature__double glazed                   0.000000       0.000000   \nfeature__double glazing                  0.000000       0.000000   \nfeature__epc rating c                    0.000000       0.000000   \nfeature__epc rating d                    0.000000       0.000000   \nfeature__excellent location              0.000000       0.000000   \nfeature__excellent transport links       0.000000       0.000000   \nfeature__family bathroom                 0.000000       0.000000   \nfeature__first floor                     0.000000       0.000000   \nfeature__fitted kitchen                  0.000000       0.000000   \nfeature__garage                          0.000000       0.000000   \nfeature__garden                          0.000000       0.000000   \nfeature__gas central heating             0.000000       0.000000   \nfeature__great location                  0.000000       0.000000   \nfeature__ground floor                    0.000000       0.000000   \nfeature__kitchen                         0.000000       0.000000   \nfeature__leasehold                       0.000000       0.000000   \nfeature__long lease                      0.000000       0.000000   \nfeature__modern bathroom                 0.000000       0.000000   \nfeature__modern kitchen                  0.000000       0.000000   \nfeature__no chain                        0.000000       0.000000   \nfeature__no onward chain                 0.000000       0.000000   \nfeature__off street parking              0.000000       0.000000   \nfeature__one bedroom                     0.000000       0.000000   \nfeature__one double bedroom              0.000000       0.000000   \nfeature__parking                         0.000000       0.000000   \nfeature__private balcony                 0.000000       0.000000   \nfeature__private garden                  0.000000       0.000000   \nfeature__private rear garden             0.000000       0.000000   \nfeature__reception room                  0.000000       0.000000   \nfeature__separate kitchen                0.000000       0.000000   \nfeature__share of freehold               0.000000       0.000000   \nfeature__three bedrooms                  0.000000       0.000000   \nfeature__three double bedrooms           0.000000       0.000000   \nfeature__top floor                       0.000000       0.000000   \nfeature__two bathrooms                   0.000000       0.000000   \nfeature__two bedrooms                    0.000000       0.000000   \nfeature__two double bedrooms             0.000000       0.000000   \nfeature__two reception rooms             0.000000       0.000000   \n\n                                              max  \nPrice                               600000.000000  \nbedrooms                                 7.000000  \nbathrooms                                5.000000  \nnearestStation                           7.197700  \nlocation.latitude                       51.683185  \nlocation.longitude                       0.279726  \nlatitude_deviation                       0.201403  \nlongitude_deviation                      0.393895  \nfeature__1 bedroom                       1.000000  \nfeature__2 bedrooms                      2.000000  \nfeature__2 double bedrooms               1.000000  \nfeature__allocated parking               1.000000  \nfeature__allocated parking space         1.000000  \nfeature__balcony                         2.000000  \nfeature__bathroom                        2.000000  \nfeature__chain free                      2.000000  \nfeature__close to local amenities        2.000000  \nfeature__communal garden                 1.000000  \nfeature__communal gardens                2.000000  \nfeature__double bedroom                  1.000000  \nfeature__double glazed                   1.000000  \nfeature__double glazing                  2.000000  \nfeature__epc rating c                    1.000000  \nfeature__epc rating d                    1.000000  \nfeature__excellent location              1.000000  \nfeature__excellent transport links       2.000000  \nfeature__family bathroom                 2.000000  \nfeature__first floor                     1.000000  \nfeature__fitted kitchen                  2.000000  \nfeature__garage                          2.000000  \nfeature__garden                          2.000000  \nfeature__gas central heating             2.000000  \nfeature__great location                  1.000000  \nfeature__ground floor                    1.000000  \nfeature__kitchen                         1.000000  \nfeature__leasehold                       2.000000  \nfeature__long lease                      2.000000  \nfeature__modern bathroom                 1.000000  \nfeature__modern kitchen                  1.000000  \nfeature__no chain                        2.000000  \nfeature__no onward chain                 1.000000  \nfeature__off street parking              2.000000  \nfeature__one bedroom                     1.000000  \nfeature__one double bedroom              1.000000  \nfeature__parking                         2.000000  \nfeature__private balcony                 2.000000  \nfeature__private garden                  2.000000  \nfeature__private rear garden             2.000000  \nfeature__reception room                  2.000000  \nfeature__separate kitchen                1.000000  \nfeature__share of freehold               2.000000  \nfeature__three bedrooms                  1.000000  \nfeature__three double bedrooms           1.000000  \nfeature__top floor                       1.000000  \nfeature__two bathrooms                   2.000000  \nfeature__two bedrooms                    1.000000  \nfeature__two double bedrooms             2.000000  \nfeature__two reception rooms             1.000000  ",
      "text/html": "<div>\n<style scoped>\n    .dataframe tbody tr th:only-of-type {\n        vertical-align: middle;\n    }\n\n    .dataframe tbody tr th {\n        vertical-align: top;\n    }\n\n    .dataframe thead th {\n        text-align: right;\n    }\n</style>\n<table border=\"1\" class=\"dataframe\">\n  <thead>\n    <tr style=\"text-align: right;\">\n      <th></th>\n      <th>count</th>\n      <th>mean</th>\n      <th>std</th>\n      <th>min</th>\n      <th>25%</th>\n      <th>50%</th>\n      <th>75%</th>\n      <th>max</th>\n    </tr>\n  </thead>\n  <tbody>\n    <tr>\n      <th>Price</th>\n      <td>46871.0</td>\n      <td>425069.390775</td>\n      <td>107227.324906</td>\n      <td>100000.000000</td>\n      <td>349950.000000</td>\n      <td>425000.000000</td>\n      <td>515000.000000</td>\n      <td>600000.000000</td>\n    </tr>\n    <tr>\n      <th>bedrooms</th>\n      <td>46871.0</td>\n      <td>1.992469</td>\n      <td>0.828837</td>\n      <td>1.000000</td>\n      <td>1.000000</td>\n      <td>2.000000</td>\n      <td>3.000000</td>\n      <td>7.000000</td>\n    </tr>\n    <tr>\n      <th>bathrooms</th>\n      <td>46871.0</td>\n      <td>1.182074</td>\n      <td>0.409879</td>\n      <td>1.000000</td>\n      <td>1.000000</td>\n      <td>1.000000</td>\n      <td>1.000000</td>\n      <td>5.000000</td>\n    </tr>\n    <tr>\n      <th>nearestStation</th>\n      <td>46871.0</td>\n      <td>0.438847</td>\n      <td>0.325942</td>\n      <td>0.000000</td>\n      <td>0.227169</td>\n      <td>0.367971</td>\n      <td>0.559620</td>\n      <td>7.197700</td>\n    </tr>\n    <tr>\n      <th>location.latitude</th>\n      <td>46871.0</td>\n      <td>51.497049</td>\n      <td>0.077085</td>\n      <td>51.298317</td>\n      <td>51.438861</td>\n      <td>51.499977</td>\n      <td>51.556183</td>\n      <td>51.683185</td>\n    </tr>\n    <tr>\n      <th>location.longitude</th>\n      <td>46871.0</td>\n      <td>-0.113269</td>\n      <td>0.156489</td>\n      <td>-0.498315</td>\n      <td>-0.210796</td>\n      <td>-0.102230</td>\n      <td>-0.010343</td>\n      <td>0.279726</td>\n    </tr>\n    <tr>\n      <th>latitude_deviation</th>\n      <td>46871.0</td>\n      <td>0.064317</td>\n      <td>0.042573</td>\n      <td>0.000000</td>\n      <td>0.028876</td>\n      <td>0.058595</td>\n      <td>0.094362</td>\n      <td>0.201403</td>\n    </tr>\n    <tr>\n      <th>longitude_deviation</th>\n      <td>46871.0</td>\n      <td>0.124202</td>\n      <td>0.095607</td>\n      <td>0.000000</td>\n      <td>0.043560</td>\n      <td>0.098984</td>\n      <td>0.192684</td>\n      <td>0.393895</td>\n    </tr>\n    <tr>\n      <th>feature__1 bedroom</th>\n      <td>46871.0</td>\n      <td>0.010838</td>\n      <td>0.103542</td>\n      <td>0.000000</td>\n      <td>0.000000</td>\n      <td>0.000000</td>\n      <td>0.000000</td>\n      <td>1.000000</td>\n    </tr>\n    <tr>\n      <th>feature__2 bedrooms</th>\n      <td>46871.0</td>\n      <td>0.015169</td>\n      <td>0.122402</td>\n      <td>0.000000</td>\n      <td>0.000000</td>\n      <td>0.000000</td>\n      <td>0.000000</td>\n      <td>2.000000</td>\n    </tr>\n    <tr>\n      <th>feature__2 double bedrooms</th>\n      <td>46871.0</td>\n      <td>0.013569</td>\n      <td>0.115695</td>\n      <td>0.000000</td>\n      <td>0.000000</td>\n      <td>0.000000</td>\n      <td>0.000000</td>\n      <td>1.000000</td>\n    </tr>\n    <tr>\n      <th>feature__allocated parking</th>\n      <td>46871.0</td>\n      <td>0.026946</td>\n      <td>0.161928</td>\n      <td>0.000000</td>\n      <td>0.000000</td>\n      <td>0.000000</td>\n      <td>0.000000</td>\n      <td>1.000000</td>\n    </tr>\n    <tr>\n      <th>feature__allocated parking space</th>\n      <td>46871.0</td>\n      <td>0.012993</td>\n      <td>0.113246</td>\n      <td>0.000000</td>\n      <td>0.000000</td>\n      <td>0.000000</td>\n      <td>0.000000</td>\n      <td>1.000000</td>\n    </tr>\n    <tr>\n      <th>feature__balcony</th>\n      <td>46871.0</td>\n      <td>0.038617</td>\n      <td>0.193124</td>\n      <td>0.000000</td>\n      <td>0.000000</td>\n      <td>0.000000</td>\n      <td>0.000000</td>\n      <td>2.000000</td>\n    </tr>\n    <tr>\n      <th>feature__bathroom</th>\n      <td>46871.0</td>\n      <td>0.026370</td>\n      <td>0.160502</td>\n      <td>0.000000</td>\n      <td>0.000000</td>\n      <td>0.000000</td>\n      <td>0.000000</td>\n      <td>2.000000</td>\n    </tr>\n    <tr>\n      <th>feature__chain free</th>\n      <td>46871.0</td>\n      <td>0.120266</td>\n      <td>0.325800</td>\n      <td>0.000000</td>\n      <td>0.000000</td>\n      <td>0.000000</td>\n      <td>0.000000</td>\n      <td>2.000000</td>\n    </tr>\n    <tr>\n      <th>feature__close to local amenities</th>\n      <td>46871.0</td>\n      <td>0.011948</td>\n      <td>0.108848</td>\n      <td>0.000000</td>\n      <td>0.000000</td>\n      <td>0.000000</td>\n      <td>0.000000</td>\n      <td>2.000000</td>\n    </tr>\n    <tr>\n      <th>feature__communal garden</th>\n      <td>46871.0</td>\n      <td>0.018071</td>\n      <td>0.133209</td>\n      <td>0.000000</td>\n      <td>0.000000</td>\n      <td>0.000000</td>\n      <td>0.000000</td>\n      <td>1.000000</td>\n    </tr>\n    <tr>\n      <th>feature__communal gardens</th>\n      <td>46871.0</td>\n      <td>0.030381</td>\n      <td>0.171760</td>\n      <td>0.000000</td>\n      <td>0.000000</td>\n      <td>0.000000</td>\n      <td>0.000000</td>\n      <td>2.000000</td>\n    </tr>\n    <tr>\n      <th>feature__double bedroom</th>\n      <td>46871.0</td>\n      <td>0.012566</td>\n      <td>0.111395</td>\n      <td>0.000000</td>\n      <td>0.000000</td>\n      <td>0.000000</td>\n      <td>0.000000</td>\n      <td>1.000000</td>\n    </tr>\n    <tr>\n      <th>feature__double glazed</th>\n      <td>46871.0</td>\n      <td>0.012822</td>\n      <td>0.112509</td>\n      <td>0.000000</td>\n      <td>0.000000</td>\n      <td>0.000000</td>\n      <td>0.000000</td>\n      <td>1.000000</td>\n    </tr>\n    <tr>\n      <th>feature__double glazing</th>\n      <td>46871.0</td>\n      <td>0.025496</td>\n      <td>0.157761</td>\n      <td>0.000000</td>\n      <td>0.000000</td>\n      <td>0.000000</td>\n      <td>0.000000</td>\n      <td>2.000000</td>\n    </tr>\n    <tr>\n      <th>feature__epc rating c</th>\n      <td>46871.0</td>\n      <td>0.012140</td>\n      <td>0.109511</td>\n      <td>0.000000</td>\n      <td>0.000000</td>\n      <td>0.000000</td>\n      <td>0.000000</td>\n      <td>1.000000</td>\n    </tr>\n    <tr>\n      <th>feature__epc rating d</th>\n      <td>46871.0</td>\n      <td>0.013334</td>\n      <td>0.114704</td>\n      <td>0.000000</td>\n      <td>0.000000</td>\n      <td>0.000000</td>\n      <td>0.000000</td>\n      <td>1.000000</td>\n    </tr>\n    <tr>\n      <th>feature__excellent location</th>\n      <td>46871.0</td>\n      <td>0.013612</td>\n      <td>0.115874</td>\n      <td>0.000000</td>\n      <td>0.000000</td>\n      <td>0.000000</td>\n      <td>0.000000</td>\n      <td>1.000000</td>\n    </tr>\n    <tr>\n      <th>feature__excellent transport links</th>\n      <td>46871.0</td>\n      <td>0.016385</td>\n      <td>0.127122</td>\n      <td>0.000000</td>\n      <td>0.000000</td>\n      <td>0.000000</td>\n      <td>0.000000</td>\n      <td>2.000000</td>\n    </tr>\n    <tr>\n      <th>feature__family bathroom</th>\n      <td>46871.0</td>\n      <td>0.014593</td>\n      <td>0.120097</td>\n      <td>0.000000</td>\n      <td>0.000000</td>\n      <td>0.000000</td>\n      <td>0.000000</td>\n      <td>2.000000</td>\n    </tr>\n    <tr>\n      <th>feature__first floor</th>\n      <td>46871.0</td>\n      <td>0.026520</td>\n      <td>0.160676</td>\n      <td>0.000000</td>\n      <td>0.000000</td>\n      <td>0.000000</td>\n      <td>0.000000</td>\n      <td>1.000000</td>\n    </tr>\n    <tr>\n      <th>feature__fitted kitchen</th>\n      <td>46871.0</td>\n      <td>0.027224</td>\n      <td>0.162867</td>\n      <td>0.000000</td>\n      <td>0.000000</td>\n      <td>0.000000</td>\n      <td>0.000000</td>\n      <td>2.000000</td>\n    </tr>\n    <tr>\n      <th>feature__garage</th>\n      <td>46871.0</td>\n      <td>0.030424</td>\n      <td>0.172001</td>\n      <td>0.000000</td>\n      <td>0.000000</td>\n      <td>0.000000</td>\n      <td>0.000000</td>\n      <td>2.000000</td>\n    </tr>\n    <tr>\n      <th>feature__garden</th>\n      <td>46871.0</td>\n      <td>0.021015</td>\n      <td>0.144178</td>\n      <td>0.000000</td>\n      <td>0.000000</td>\n      <td>0.000000</td>\n      <td>0.000000</td>\n      <td>2.000000</td>\n    </tr>\n    <tr>\n      <th>feature__gas central heating</th>\n      <td>46871.0</td>\n      <td>0.028120</td>\n      <td>0.165961</td>\n      <td>0.000000</td>\n      <td>0.000000</td>\n      <td>0.000000</td>\n      <td>0.000000</td>\n      <td>2.000000</td>\n    </tr>\n    <tr>\n      <th>feature__great location</th>\n      <td>46871.0</td>\n      <td>0.015660</td>\n      <td>0.124158</td>\n      <td>0.000000</td>\n      <td>0.000000</td>\n      <td>0.000000</td>\n      <td>0.000000</td>\n      <td>1.000000</td>\n    </tr>\n    <tr>\n      <th>feature__ground floor</th>\n      <td>46871.0</td>\n      <td>0.028760</td>\n      <td>0.167132</td>\n      <td>0.000000</td>\n      <td>0.000000</td>\n      <td>0.000000</td>\n      <td>0.000000</td>\n      <td>1.000000</td>\n    </tr>\n    <tr>\n      <th>feature__kitchen</th>\n      <td>46871.0</td>\n      <td>0.022850</td>\n      <td>0.149427</td>\n      <td>0.000000</td>\n      <td>0.000000</td>\n      <td>0.000000</td>\n      <td>0.000000</td>\n      <td>1.000000</td>\n    </tr>\n    <tr>\n      <th>feature__leasehold</th>\n      <td>46871.0</td>\n      <td>0.014316</td>\n      <td>0.118970</td>\n      <td>0.000000</td>\n      <td>0.000000</td>\n      <td>0.000000</td>\n      <td>0.000000</td>\n      <td>2.000000</td>\n    </tr>\n    <tr>\n      <th>feature__long lease</th>\n      <td>46871.0</td>\n      <td>0.039619</td>\n      <td>0.195175</td>\n      <td>0.000000</td>\n      <td>0.000000</td>\n      <td>0.000000</td>\n      <td>0.000000</td>\n      <td>2.000000</td>\n    </tr>\n    <tr>\n      <th>feature__modern bathroom</th>\n      <td>46871.0</td>\n      <td>0.015361</td>\n      <td>0.122986</td>\n      <td>0.000000</td>\n      <td>0.000000</td>\n      <td>0.000000</td>\n      <td>0.000000</td>\n      <td>1.000000</td>\n    </tr>\n    <tr>\n      <th>feature__modern kitchen</th>\n      <td>46871.0</td>\n      <td>0.014465</td>\n      <td>0.119400</td>\n      <td>0.000000</td>\n      <td>0.000000</td>\n      <td>0.000000</td>\n      <td>0.000000</td>\n      <td>1.000000</td>\n    </tr>\n    <tr>\n      <th>feature__no chain</th>\n      <td>46871.0</td>\n      <td>0.026669</td>\n      <td>0.161380</td>\n      <td>0.000000</td>\n      <td>0.000000</td>\n      <td>0.000000</td>\n      <td>0.000000</td>\n      <td>2.000000</td>\n    </tr>\n    <tr>\n      <th>feature__no onward chain</th>\n      <td>46871.0</td>\n      <td>0.057925</td>\n      <td>0.233604</td>\n      <td>0.000000</td>\n      <td>0.000000</td>\n      <td>0.000000</td>\n      <td>0.000000</td>\n      <td>1.000000</td>\n    </tr>\n    <tr>\n      <th>feature__off street parking</th>\n      <td>46871.0</td>\n      <td>0.047300</td>\n      <td>0.212684</td>\n      <td>0.000000</td>\n      <td>0.000000</td>\n      <td>0.000000</td>\n      <td>0.000000</td>\n      <td>2.000000</td>\n    </tr>\n    <tr>\n      <th>feature__one bedroom</th>\n      <td>46871.0</td>\n      <td>0.041369</td>\n      <td>0.199144</td>\n      <td>0.000000</td>\n      <td>0.000000</td>\n      <td>0.000000</td>\n      <td>0.000000</td>\n      <td>1.000000</td>\n    </tr>\n    <tr>\n      <th>feature__one double bedroom</th>\n      <td>46871.0</td>\n      <td>0.027885</td>\n      <td>0.164645</td>\n      <td>0.000000</td>\n      <td>0.000000</td>\n      <td>0.000000</td>\n      <td>0.000000</td>\n      <td>1.000000</td>\n    </tr>\n    <tr>\n      <th>feature__parking</th>\n      <td>46871.0</td>\n      <td>0.013398</td>\n      <td>0.115160</td>\n      <td>0.000000</td>\n      <td>0.000000</td>\n      <td>0.000000</td>\n      <td>0.000000</td>\n      <td>2.000000</td>\n    </tr>\n    <tr>\n      <th>feature__private balcony</th>\n      <td>46871.0</td>\n      <td>0.039662</td>\n      <td>0.195275</td>\n      <td>0.000000</td>\n      <td>0.000000</td>\n      <td>0.000000</td>\n      <td>0.000000</td>\n      <td>2.000000</td>\n    </tr>\n    <tr>\n      <th>feature__private garden</th>\n      <td>46871.0</td>\n      <td>0.034200</td>\n      <td>0.181980</td>\n      <td>0.000000</td>\n      <td>0.000000</td>\n      <td>0.000000</td>\n      <td>0.000000</td>\n      <td>2.000000</td>\n    </tr>\n    <tr>\n      <th>feature__private rear garden</th>\n      <td>46871.0</td>\n      <td>0.017367</td>\n      <td>0.131124</td>\n      <td>0.000000</td>\n      <td>0.000000</td>\n      <td>0.000000</td>\n      <td>0.000000</td>\n      <td>2.000000</td>\n    </tr>\n    <tr>\n      <th>feature__reception room</th>\n      <td>46871.0</td>\n      <td>0.014487</td>\n      <td>0.119843</td>\n      <td>0.000000</td>\n      <td>0.000000</td>\n      <td>0.000000</td>\n      <td>0.000000</td>\n      <td>2.000000</td>\n    </tr>\n    <tr>\n      <th>feature__separate kitchen</th>\n      <td>46871.0</td>\n      <td>0.020268</td>\n      <td>0.140918</td>\n      <td>0.000000</td>\n      <td>0.000000</td>\n      <td>0.000000</td>\n      <td>0.000000</td>\n      <td>1.000000</td>\n    </tr>\n    <tr>\n      <th>feature__share of freehold</th>\n      <td>46871.0</td>\n      <td>0.047663</td>\n      <td>0.213354</td>\n      <td>0.000000</td>\n      <td>0.000000</td>\n      <td>0.000000</td>\n      <td>0.000000</td>\n      <td>2.000000</td>\n    </tr>\n    <tr>\n      <th>feature__three bedrooms</th>\n      <td>46871.0</td>\n      <td>0.059120</td>\n      <td>0.235851</td>\n      <td>0.000000</td>\n      <td>0.000000</td>\n      <td>0.000000</td>\n      <td>0.000000</td>\n      <td>1.000000</td>\n    </tr>\n    <tr>\n      <th>feature__three double bedrooms</th>\n      <td>46871.0</td>\n      <td>0.012545</td>\n      <td>0.111301</td>\n      <td>0.000000</td>\n      <td>0.000000</td>\n      <td>0.000000</td>\n      <td>0.000000</td>\n      <td>1.000000</td>\n    </tr>\n    <tr>\n      <th>feature__top floor</th>\n      <td>46871.0</td>\n      <td>0.013206</td>\n      <td>0.114159</td>\n      <td>0.000000</td>\n      <td>0.000000</td>\n      <td>0.000000</td>\n      <td>0.000000</td>\n      <td>1.000000</td>\n    </tr>\n    <tr>\n      <th>feature__two bathrooms</th>\n      <td>46871.0</td>\n      <td>0.031512</td>\n      <td>0.174943</td>\n      <td>0.000000</td>\n      <td>0.000000</td>\n      <td>0.000000</td>\n      <td>0.000000</td>\n      <td>2.000000</td>\n    </tr>\n    <tr>\n      <th>feature__two bedrooms</th>\n      <td>46871.0</td>\n      <td>0.071473</td>\n      <td>0.257616</td>\n      <td>0.000000</td>\n      <td>0.000000</td>\n      <td>0.000000</td>\n      <td>0.000000</td>\n      <td>1.000000</td>\n    </tr>\n    <tr>\n      <th>feature__two double bedrooms</th>\n      <td>46871.0</td>\n      <td>0.095411</td>\n      <td>0.293930</td>\n      <td>0.000000</td>\n      <td>0.000000</td>\n      <td>0.000000</td>\n      <td>0.000000</td>\n      <td>2.000000</td>\n    </tr>\n    <tr>\n      <th>feature__two reception rooms</th>\n      <td>46871.0</td>\n      <td>0.016449</td>\n      <td>0.127197</td>\n      <td>0.000000</td>\n      <td>0.000000</td>\n      <td>0.000000</td>\n      <td>0.000000</td>\n      <td>1.000000</td>\n    </tr>\n  </tbody>\n</table>\n</div>"
     },
     "execution_count": 11,
     "metadata": {},
     "output_type": "execute_result"
    }
   ],
   "source": [
    "df.info()\n",
    "df.describe()\n",
    "df.describe().T"
   ]
  },
  {
   "cell_type": "code",
   "execution_count": 12,
   "metadata": {
    "execution": {
     "iopub.execute_input": "2022-11-16T13:53:45.644307Z",
     "iopub.status.busy": "2022-11-16T13:53:45.644062Z",
     "iopub.status.idle": "2022-11-16T13:53:45.702850Z",
     "shell.execute_reply": "2022-11-16T13:53:45.702221Z",
     "shell.execute_reply.started": "2022-11-16T13:53:45.644286Z"
    }
   },
   "outputs": [
    {
     "name": "stdout",
     "output_type": "stream",
     "text": [
      "dataframe contract due to cleaning: 46871 ==> 46871\n"
     ]
    },
    {
     "data": {
      "text/plain": "                                      count           mean            std  \\\nPrice                               46871.0  425069.390775  107227.324906   \nbedrooms                            46871.0       1.992469       0.828837   \nbathrooms                           46871.0       1.182074       0.409879   \nnearestStation                      46871.0       0.438847       0.325942   \nlocation.latitude                   46871.0      51.497049       0.077085   \nlocation.longitude                  46871.0      -0.113269       0.156489   \nlatitude_deviation                  46871.0       0.064317       0.042573   \nlongitude_deviation                 46871.0       0.124202       0.095607   \nfeature__1 bedroom                  46871.0       0.010838       0.103542   \nfeature__2 bedrooms                 46871.0       0.015169       0.122402   \nfeature__2 double bedrooms          46871.0       0.013569       0.115695   \nfeature__allocated parking          46871.0       0.026946       0.161928   \nfeature__allocated parking space    46871.0       0.012993       0.113246   \nfeature__balcony                    46871.0       0.038617       0.193124   \nfeature__bathroom                   46871.0       0.026370       0.160502   \nfeature__chain free                 46871.0       0.120266       0.325800   \nfeature__close to local amenities   46871.0       0.011948       0.108848   \nfeature__communal garden            46871.0       0.018071       0.133209   \nfeature__communal gardens           46871.0       0.030381       0.171760   \nfeature__double bedroom             46871.0       0.012566       0.111395   \nfeature__double glazed              46871.0       0.012822       0.112509   \nfeature__double glazing             46871.0       0.025496       0.157761   \nfeature__epc rating c               46871.0       0.012140       0.109511   \nfeature__epc rating d               46871.0       0.013334       0.114704   \nfeature__excellent location         46871.0       0.013612       0.115874   \nfeature__excellent transport links  46871.0       0.016385       0.127122   \nfeature__family bathroom            46871.0       0.014593       0.120097   \nfeature__first floor                46871.0       0.026520       0.160676   \nfeature__fitted kitchen             46871.0       0.027224       0.162867   \nfeature__garage                     46871.0       0.030424       0.172001   \nfeature__garden                     46871.0       0.021015       0.144178   \nfeature__gas central heating        46871.0       0.028120       0.165961   \nfeature__great location             46871.0       0.015660       0.124158   \nfeature__ground floor               46871.0       0.028760       0.167132   \nfeature__kitchen                    46871.0       0.022850       0.149427   \nfeature__leasehold                  46871.0       0.014316       0.118970   \nfeature__long lease                 46871.0       0.039619       0.195175   \nfeature__modern bathroom            46871.0       0.015361       0.122986   \nfeature__modern kitchen             46871.0       0.014465       0.119400   \nfeature__no chain                   46871.0       0.026669       0.161380   \nfeature__no onward chain            46871.0       0.057925       0.233604   \nfeature__off street parking         46871.0       0.047300       0.212684   \nfeature__one bedroom                46871.0       0.041369       0.199144   \nfeature__one double bedroom         46871.0       0.027885       0.164645   \nfeature__parking                    46871.0       0.013398       0.115160   \nfeature__private balcony            46871.0       0.039662       0.195275   \nfeature__private garden             46871.0       0.034200       0.181980   \nfeature__private rear garden        46871.0       0.017367       0.131124   \nfeature__reception room             46871.0       0.014487       0.119843   \nfeature__separate kitchen           46871.0       0.020268       0.140918   \nfeature__share of freehold          46871.0       0.047663       0.213354   \nfeature__three bedrooms             46871.0       0.059120       0.235851   \nfeature__three double bedrooms      46871.0       0.012545       0.111301   \nfeature__top floor                  46871.0       0.013206       0.114159   \nfeature__two bathrooms              46871.0       0.031512       0.174943   \nfeature__two bedrooms               46871.0       0.071473       0.257616   \nfeature__two double bedrooms        46871.0       0.095411       0.293930   \nfeature__two reception rooms        46871.0       0.016449       0.127197   \n\n                                              min            25%  \\\nPrice                               100000.000000  349950.000000   \nbedrooms                                 1.000000       1.000000   \nbathrooms                                1.000000       1.000000   \nnearestStation                           0.000000       0.227169   \nlocation.latitude                       51.298317      51.438861   \nlocation.longitude                      -0.498315      -0.210796   \nlatitude_deviation                       0.000000       0.028876   \nlongitude_deviation                      0.000000       0.043560   \nfeature__1 bedroom                       0.000000       0.000000   \nfeature__2 bedrooms                      0.000000       0.000000   \nfeature__2 double bedrooms               0.000000       0.000000   \nfeature__allocated parking               0.000000       0.000000   \nfeature__allocated parking space         0.000000       0.000000   \nfeature__balcony                         0.000000       0.000000   \nfeature__bathroom                        0.000000       0.000000   \nfeature__chain free                      0.000000       0.000000   \nfeature__close to local amenities        0.000000       0.000000   \nfeature__communal garden                 0.000000       0.000000   \nfeature__communal gardens                0.000000       0.000000   \nfeature__double bedroom                  0.000000       0.000000   \nfeature__double glazed                   0.000000       0.000000   \nfeature__double glazing                  0.000000       0.000000   \nfeature__epc rating c                    0.000000       0.000000   \nfeature__epc rating d                    0.000000       0.000000   \nfeature__excellent location              0.000000       0.000000   \nfeature__excellent transport links       0.000000       0.000000   \nfeature__family bathroom                 0.000000       0.000000   \nfeature__first floor                     0.000000       0.000000   \nfeature__fitted kitchen                  0.000000       0.000000   \nfeature__garage                          0.000000       0.000000   \nfeature__garden                          0.000000       0.000000   \nfeature__gas central heating             0.000000       0.000000   \nfeature__great location                  0.000000       0.000000   \nfeature__ground floor                    0.000000       0.000000   \nfeature__kitchen                         0.000000       0.000000   \nfeature__leasehold                       0.000000       0.000000   \nfeature__long lease                      0.000000       0.000000   \nfeature__modern bathroom                 0.000000       0.000000   \nfeature__modern kitchen                  0.000000       0.000000   \nfeature__no chain                        0.000000       0.000000   \nfeature__no onward chain                 0.000000       0.000000   \nfeature__off street parking              0.000000       0.000000   \nfeature__one bedroom                     0.000000       0.000000   \nfeature__one double bedroom              0.000000       0.000000   \nfeature__parking                         0.000000       0.000000   \nfeature__private balcony                 0.000000       0.000000   \nfeature__private garden                  0.000000       0.000000   \nfeature__private rear garden             0.000000       0.000000   \nfeature__reception room                  0.000000       0.000000   \nfeature__separate kitchen                0.000000       0.000000   \nfeature__share of freehold               0.000000       0.000000   \nfeature__three bedrooms                  0.000000       0.000000   \nfeature__three double bedrooms           0.000000       0.000000   \nfeature__top floor                       0.000000       0.000000   \nfeature__two bathrooms                   0.000000       0.000000   \nfeature__two bedrooms                    0.000000       0.000000   \nfeature__two double bedrooms             0.000000       0.000000   \nfeature__two reception rooms             0.000000       0.000000   \n\n                                              50%            75%  \\\nPrice                               425000.000000  515000.000000   \nbedrooms                                 2.000000       3.000000   \nbathrooms                                1.000000       1.000000   \nnearestStation                           0.367971       0.559620   \nlocation.latitude                       51.499977      51.556183   \nlocation.longitude                      -0.102230      -0.010343   \nlatitude_deviation                       0.058595       0.094362   \nlongitude_deviation                      0.098984       0.192684   \nfeature__1 bedroom                       0.000000       0.000000   \nfeature__2 bedrooms                      0.000000       0.000000   \nfeature__2 double bedrooms               0.000000       0.000000   \nfeature__allocated parking               0.000000       0.000000   \nfeature__allocated parking space         0.000000       0.000000   \nfeature__balcony                         0.000000       0.000000   \nfeature__bathroom                        0.000000       0.000000   \nfeature__chain free                      0.000000       0.000000   \nfeature__close to local amenities        0.000000       0.000000   \nfeature__communal garden                 0.000000       0.000000   \nfeature__communal gardens                0.000000       0.000000   \nfeature__double bedroom                  0.000000       0.000000   \nfeature__double glazed                   0.000000       0.000000   \nfeature__double glazing                  0.000000       0.000000   \nfeature__epc rating c                    0.000000       0.000000   \nfeature__epc rating d                    0.000000       0.000000   \nfeature__excellent location              0.000000       0.000000   \nfeature__excellent transport links       0.000000       0.000000   \nfeature__family bathroom                 0.000000       0.000000   \nfeature__first floor                     0.000000       0.000000   \nfeature__fitted kitchen                  0.000000       0.000000   \nfeature__garage                          0.000000       0.000000   \nfeature__garden                          0.000000       0.000000   \nfeature__gas central heating             0.000000       0.000000   \nfeature__great location                  0.000000       0.000000   \nfeature__ground floor                    0.000000       0.000000   \nfeature__kitchen                         0.000000       0.000000   \nfeature__leasehold                       0.000000       0.000000   \nfeature__long lease                      0.000000       0.000000   \nfeature__modern bathroom                 0.000000       0.000000   \nfeature__modern kitchen                  0.000000       0.000000   \nfeature__no chain                        0.000000       0.000000   \nfeature__no onward chain                 0.000000       0.000000   \nfeature__off street parking              0.000000       0.000000   \nfeature__one bedroom                     0.000000       0.000000   \nfeature__one double bedroom              0.000000       0.000000   \nfeature__parking                         0.000000       0.000000   \nfeature__private balcony                 0.000000       0.000000   \nfeature__private garden                  0.000000       0.000000   \nfeature__private rear garden             0.000000       0.000000   \nfeature__reception room                  0.000000       0.000000   \nfeature__separate kitchen                0.000000       0.000000   \nfeature__share of freehold               0.000000       0.000000   \nfeature__three bedrooms                  0.000000       0.000000   \nfeature__three double bedrooms           0.000000       0.000000   \nfeature__top floor                       0.000000       0.000000   \nfeature__two bathrooms                   0.000000       0.000000   \nfeature__two bedrooms                    0.000000       0.000000   \nfeature__two double bedrooms             0.000000       0.000000   \nfeature__two reception rooms             0.000000       0.000000   \n\n                                              max  \nPrice                               600000.000000  \nbedrooms                                 7.000000  \nbathrooms                                5.000000  \nnearestStation                           7.197700  \nlocation.latitude                       51.683185  \nlocation.longitude                       0.279726  \nlatitude_deviation                       0.201403  \nlongitude_deviation                      0.393895  \nfeature__1 bedroom                       1.000000  \nfeature__2 bedrooms                      2.000000  \nfeature__2 double bedrooms               1.000000  \nfeature__allocated parking               1.000000  \nfeature__allocated parking space         1.000000  \nfeature__balcony                         2.000000  \nfeature__bathroom                        2.000000  \nfeature__chain free                      2.000000  \nfeature__close to local amenities        2.000000  \nfeature__communal garden                 1.000000  \nfeature__communal gardens                2.000000  \nfeature__double bedroom                  1.000000  \nfeature__double glazed                   1.000000  \nfeature__double glazing                  2.000000  \nfeature__epc rating c                    1.000000  \nfeature__epc rating d                    1.000000  \nfeature__excellent location              1.000000  \nfeature__excellent transport links       2.000000  \nfeature__family bathroom                 2.000000  \nfeature__first floor                     1.000000  \nfeature__fitted kitchen                  2.000000  \nfeature__garage                          2.000000  \nfeature__garden                          2.000000  \nfeature__gas central heating             2.000000  \nfeature__great location                  1.000000  \nfeature__ground floor                    1.000000  \nfeature__kitchen                         1.000000  \nfeature__leasehold                       2.000000  \nfeature__long lease                      2.000000  \nfeature__modern bathroom                 1.000000  \nfeature__modern kitchen                  1.000000  \nfeature__no chain                        2.000000  \nfeature__no onward chain                 1.000000  \nfeature__off street parking              2.000000  \nfeature__one bedroom                     1.000000  \nfeature__one double bedroom              1.000000  \nfeature__parking                         2.000000  \nfeature__private balcony                 2.000000  \nfeature__private garden                  2.000000  \nfeature__private rear garden             2.000000  \nfeature__reception room                  2.000000  \nfeature__separate kitchen                1.000000  \nfeature__share of freehold               2.000000  \nfeature__three bedrooms                  1.000000  \nfeature__three double bedrooms           1.000000  \nfeature__top floor                       1.000000  \nfeature__two bathrooms                   2.000000  \nfeature__two bedrooms                    1.000000  \nfeature__two double bedrooms             2.000000  \nfeature__two reception rooms             1.000000  ",
      "text/html": "<div>\n<style scoped>\n    .dataframe tbody tr th:only-of-type {\n        vertical-align: middle;\n    }\n\n    .dataframe tbody tr th {\n        vertical-align: top;\n    }\n\n    .dataframe thead th {\n        text-align: right;\n    }\n</style>\n<table border=\"1\" class=\"dataframe\">\n  <thead>\n    <tr style=\"text-align: right;\">\n      <th></th>\n      <th>count</th>\n      <th>mean</th>\n      <th>std</th>\n      <th>min</th>\n      <th>25%</th>\n      <th>50%</th>\n      <th>75%</th>\n      <th>max</th>\n    </tr>\n  </thead>\n  <tbody>\n    <tr>\n      <th>Price</th>\n      <td>46871.0</td>\n      <td>425069.390775</td>\n      <td>107227.324906</td>\n      <td>100000.000000</td>\n      <td>349950.000000</td>\n      <td>425000.000000</td>\n      <td>515000.000000</td>\n      <td>600000.000000</td>\n    </tr>\n    <tr>\n      <th>bedrooms</th>\n      <td>46871.0</td>\n      <td>1.992469</td>\n      <td>0.828837</td>\n      <td>1.000000</td>\n      <td>1.000000</td>\n      <td>2.000000</td>\n      <td>3.000000</td>\n      <td>7.000000</td>\n    </tr>\n    <tr>\n      <th>bathrooms</th>\n      <td>46871.0</td>\n      <td>1.182074</td>\n      <td>0.409879</td>\n      <td>1.000000</td>\n      <td>1.000000</td>\n      <td>1.000000</td>\n      <td>1.000000</td>\n      <td>5.000000</td>\n    </tr>\n    <tr>\n      <th>nearestStation</th>\n      <td>46871.0</td>\n      <td>0.438847</td>\n      <td>0.325942</td>\n      <td>0.000000</td>\n      <td>0.227169</td>\n      <td>0.367971</td>\n      <td>0.559620</td>\n      <td>7.197700</td>\n    </tr>\n    <tr>\n      <th>location.latitude</th>\n      <td>46871.0</td>\n      <td>51.497049</td>\n      <td>0.077085</td>\n      <td>51.298317</td>\n      <td>51.438861</td>\n      <td>51.499977</td>\n      <td>51.556183</td>\n      <td>51.683185</td>\n    </tr>\n    <tr>\n      <th>location.longitude</th>\n      <td>46871.0</td>\n      <td>-0.113269</td>\n      <td>0.156489</td>\n      <td>-0.498315</td>\n      <td>-0.210796</td>\n      <td>-0.102230</td>\n      <td>-0.010343</td>\n      <td>0.279726</td>\n    </tr>\n    <tr>\n      <th>latitude_deviation</th>\n      <td>46871.0</td>\n      <td>0.064317</td>\n      <td>0.042573</td>\n      <td>0.000000</td>\n      <td>0.028876</td>\n      <td>0.058595</td>\n      <td>0.094362</td>\n      <td>0.201403</td>\n    </tr>\n    <tr>\n      <th>longitude_deviation</th>\n      <td>46871.0</td>\n      <td>0.124202</td>\n      <td>0.095607</td>\n      <td>0.000000</td>\n      <td>0.043560</td>\n      <td>0.098984</td>\n      <td>0.192684</td>\n      <td>0.393895</td>\n    </tr>\n    <tr>\n      <th>feature__1 bedroom</th>\n      <td>46871.0</td>\n      <td>0.010838</td>\n      <td>0.103542</td>\n      <td>0.000000</td>\n      <td>0.000000</td>\n      <td>0.000000</td>\n      <td>0.000000</td>\n      <td>1.000000</td>\n    </tr>\n    <tr>\n      <th>feature__2 bedrooms</th>\n      <td>46871.0</td>\n      <td>0.015169</td>\n      <td>0.122402</td>\n      <td>0.000000</td>\n      <td>0.000000</td>\n      <td>0.000000</td>\n      <td>0.000000</td>\n      <td>2.000000</td>\n    </tr>\n    <tr>\n      <th>feature__2 double bedrooms</th>\n      <td>46871.0</td>\n      <td>0.013569</td>\n      <td>0.115695</td>\n      <td>0.000000</td>\n      <td>0.000000</td>\n      <td>0.000000</td>\n      <td>0.000000</td>\n      <td>1.000000</td>\n    </tr>\n    <tr>\n      <th>feature__allocated parking</th>\n      <td>46871.0</td>\n      <td>0.026946</td>\n      <td>0.161928</td>\n      <td>0.000000</td>\n      <td>0.000000</td>\n      <td>0.000000</td>\n      <td>0.000000</td>\n      <td>1.000000</td>\n    </tr>\n    <tr>\n      <th>feature__allocated parking space</th>\n      <td>46871.0</td>\n      <td>0.012993</td>\n      <td>0.113246</td>\n      <td>0.000000</td>\n      <td>0.000000</td>\n      <td>0.000000</td>\n      <td>0.000000</td>\n      <td>1.000000</td>\n    </tr>\n    <tr>\n      <th>feature__balcony</th>\n      <td>46871.0</td>\n      <td>0.038617</td>\n      <td>0.193124</td>\n      <td>0.000000</td>\n      <td>0.000000</td>\n      <td>0.000000</td>\n      <td>0.000000</td>\n      <td>2.000000</td>\n    </tr>\n    <tr>\n      <th>feature__bathroom</th>\n      <td>46871.0</td>\n      <td>0.026370</td>\n      <td>0.160502</td>\n      <td>0.000000</td>\n      <td>0.000000</td>\n      <td>0.000000</td>\n      <td>0.000000</td>\n      <td>2.000000</td>\n    </tr>\n    <tr>\n      <th>feature__chain free</th>\n      <td>46871.0</td>\n      <td>0.120266</td>\n      <td>0.325800</td>\n      <td>0.000000</td>\n      <td>0.000000</td>\n      <td>0.000000</td>\n      <td>0.000000</td>\n      <td>2.000000</td>\n    </tr>\n    <tr>\n      <th>feature__close to local amenities</th>\n      <td>46871.0</td>\n      <td>0.011948</td>\n      <td>0.108848</td>\n      <td>0.000000</td>\n      <td>0.000000</td>\n      <td>0.000000</td>\n      <td>0.000000</td>\n      <td>2.000000</td>\n    </tr>\n    <tr>\n      <th>feature__communal garden</th>\n      <td>46871.0</td>\n      <td>0.018071</td>\n      <td>0.133209</td>\n      <td>0.000000</td>\n      <td>0.000000</td>\n      <td>0.000000</td>\n      <td>0.000000</td>\n      <td>1.000000</td>\n    </tr>\n    <tr>\n      <th>feature__communal gardens</th>\n      <td>46871.0</td>\n      <td>0.030381</td>\n      <td>0.171760</td>\n      <td>0.000000</td>\n      <td>0.000000</td>\n      <td>0.000000</td>\n      <td>0.000000</td>\n      <td>2.000000</td>\n    </tr>\n    <tr>\n      <th>feature__double bedroom</th>\n      <td>46871.0</td>\n      <td>0.012566</td>\n      <td>0.111395</td>\n      <td>0.000000</td>\n      <td>0.000000</td>\n      <td>0.000000</td>\n      <td>0.000000</td>\n      <td>1.000000</td>\n    </tr>\n    <tr>\n      <th>feature__double glazed</th>\n      <td>46871.0</td>\n      <td>0.012822</td>\n      <td>0.112509</td>\n      <td>0.000000</td>\n      <td>0.000000</td>\n      <td>0.000000</td>\n      <td>0.000000</td>\n      <td>1.000000</td>\n    </tr>\n    <tr>\n      <th>feature__double glazing</th>\n      <td>46871.0</td>\n      <td>0.025496</td>\n      <td>0.157761</td>\n      <td>0.000000</td>\n      <td>0.000000</td>\n      <td>0.000000</td>\n      <td>0.000000</td>\n      <td>2.000000</td>\n    </tr>\n    <tr>\n      <th>feature__epc rating c</th>\n      <td>46871.0</td>\n      <td>0.012140</td>\n      <td>0.109511</td>\n      <td>0.000000</td>\n      <td>0.000000</td>\n      <td>0.000000</td>\n      <td>0.000000</td>\n      <td>1.000000</td>\n    </tr>\n    <tr>\n      <th>feature__epc rating d</th>\n      <td>46871.0</td>\n      <td>0.013334</td>\n      <td>0.114704</td>\n      <td>0.000000</td>\n      <td>0.000000</td>\n      <td>0.000000</td>\n      <td>0.000000</td>\n      <td>1.000000</td>\n    </tr>\n    <tr>\n      <th>feature__excellent location</th>\n      <td>46871.0</td>\n      <td>0.013612</td>\n      <td>0.115874</td>\n      <td>0.000000</td>\n      <td>0.000000</td>\n      <td>0.000000</td>\n      <td>0.000000</td>\n      <td>1.000000</td>\n    </tr>\n    <tr>\n      <th>feature__excellent transport links</th>\n      <td>46871.0</td>\n      <td>0.016385</td>\n      <td>0.127122</td>\n      <td>0.000000</td>\n      <td>0.000000</td>\n      <td>0.000000</td>\n      <td>0.000000</td>\n      <td>2.000000</td>\n    </tr>\n    <tr>\n      <th>feature__family bathroom</th>\n      <td>46871.0</td>\n      <td>0.014593</td>\n      <td>0.120097</td>\n      <td>0.000000</td>\n      <td>0.000000</td>\n      <td>0.000000</td>\n      <td>0.000000</td>\n      <td>2.000000</td>\n    </tr>\n    <tr>\n      <th>feature__first floor</th>\n      <td>46871.0</td>\n      <td>0.026520</td>\n      <td>0.160676</td>\n      <td>0.000000</td>\n      <td>0.000000</td>\n      <td>0.000000</td>\n      <td>0.000000</td>\n      <td>1.000000</td>\n    </tr>\n    <tr>\n      <th>feature__fitted kitchen</th>\n      <td>46871.0</td>\n      <td>0.027224</td>\n      <td>0.162867</td>\n      <td>0.000000</td>\n      <td>0.000000</td>\n      <td>0.000000</td>\n      <td>0.000000</td>\n      <td>2.000000</td>\n    </tr>\n    <tr>\n      <th>feature__garage</th>\n      <td>46871.0</td>\n      <td>0.030424</td>\n      <td>0.172001</td>\n      <td>0.000000</td>\n      <td>0.000000</td>\n      <td>0.000000</td>\n      <td>0.000000</td>\n      <td>2.000000</td>\n    </tr>\n    <tr>\n      <th>feature__garden</th>\n      <td>46871.0</td>\n      <td>0.021015</td>\n      <td>0.144178</td>\n      <td>0.000000</td>\n      <td>0.000000</td>\n      <td>0.000000</td>\n      <td>0.000000</td>\n      <td>2.000000</td>\n    </tr>\n    <tr>\n      <th>feature__gas central heating</th>\n      <td>46871.0</td>\n      <td>0.028120</td>\n      <td>0.165961</td>\n      <td>0.000000</td>\n      <td>0.000000</td>\n      <td>0.000000</td>\n      <td>0.000000</td>\n      <td>2.000000</td>\n    </tr>\n    <tr>\n      <th>feature__great location</th>\n      <td>46871.0</td>\n      <td>0.015660</td>\n      <td>0.124158</td>\n      <td>0.000000</td>\n      <td>0.000000</td>\n      <td>0.000000</td>\n      <td>0.000000</td>\n      <td>1.000000</td>\n    </tr>\n    <tr>\n      <th>feature__ground floor</th>\n      <td>46871.0</td>\n      <td>0.028760</td>\n      <td>0.167132</td>\n      <td>0.000000</td>\n      <td>0.000000</td>\n      <td>0.000000</td>\n      <td>0.000000</td>\n      <td>1.000000</td>\n    </tr>\n    <tr>\n      <th>feature__kitchen</th>\n      <td>46871.0</td>\n      <td>0.022850</td>\n      <td>0.149427</td>\n      <td>0.000000</td>\n      <td>0.000000</td>\n      <td>0.000000</td>\n      <td>0.000000</td>\n      <td>1.000000</td>\n    </tr>\n    <tr>\n      <th>feature__leasehold</th>\n      <td>46871.0</td>\n      <td>0.014316</td>\n      <td>0.118970</td>\n      <td>0.000000</td>\n      <td>0.000000</td>\n      <td>0.000000</td>\n      <td>0.000000</td>\n      <td>2.000000</td>\n    </tr>\n    <tr>\n      <th>feature__long lease</th>\n      <td>46871.0</td>\n      <td>0.039619</td>\n      <td>0.195175</td>\n      <td>0.000000</td>\n      <td>0.000000</td>\n      <td>0.000000</td>\n      <td>0.000000</td>\n      <td>2.000000</td>\n    </tr>\n    <tr>\n      <th>feature__modern bathroom</th>\n      <td>46871.0</td>\n      <td>0.015361</td>\n      <td>0.122986</td>\n      <td>0.000000</td>\n      <td>0.000000</td>\n      <td>0.000000</td>\n      <td>0.000000</td>\n      <td>1.000000</td>\n    </tr>\n    <tr>\n      <th>feature__modern kitchen</th>\n      <td>46871.0</td>\n      <td>0.014465</td>\n      <td>0.119400</td>\n      <td>0.000000</td>\n      <td>0.000000</td>\n      <td>0.000000</td>\n      <td>0.000000</td>\n      <td>1.000000</td>\n    </tr>\n    <tr>\n      <th>feature__no chain</th>\n      <td>46871.0</td>\n      <td>0.026669</td>\n      <td>0.161380</td>\n      <td>0.000000</td>\n      <td>0.000000</td>\n      <td>0.000000</td>\n      <td>0.000000</td>\n      <td>2.000000</td>\n    </tr>\n    <tr>\n      <th>feature__no onward chain</th>\n      <td>46871.0</td>\n      <td>0.057925</td>\n      <td>0.233604</td>\n      <td>0.000000</td>\n      <td>0.000000</td>\n      <td>0.000000</td>\n      <td>0.000000</td>\n      <td>1.000000</td>\n    </tr>\n    <tr>\n      <th>feature__off street parking</th>\n      <td>46871.0</td>\n      <td>0.047300</td>\n      <td>0.212684</td>\n      <td>0.000000</td>\n      <td>0.000000</td>\n      <td>0.000000</td>\n      <td>0.000000</td>\n      <td>2.000000</td>\n    </tr>\n    <tr>\n      <th>feature__one bedroom</th>\n      <td>46871.0</td>\n      <td>0.041369</td>\n      <td>0.199144</td>\n      <td>0.000000</td>\n      <td>0.000000</td>\n      <td>0.000000</td>\n      <td>0.000000</td>\n      <td>1.000000</td>\n    </tr>\n    <tr>\n      <th>feature__one double bedroom</th>\n      <td>46871.0</td>\n      <td>0.027885</td>\n      <td>0.164645</td>\n      <td>0.000000</td>\n      <td>0.000000</td>\n      <td>0.000000</td>\n      <td>0.000000</td>\n      <td>1.000000</td>\n    </tr>\n    <tr>\n      <th>feature__parking</th>\n      <td>46871.0</td>\n      <td>0.013398</td>\n      <td>0.115160</td>\n      <td>0.000000</td>\n      <td>0.000000</td>\n      <td>0.000000</td>\n      <td>0.000000</td>\n      <td>2.000000</td>\n    </tr>\n    <tr>\n      <th>feature__private balcony</th>\n      <td>46871.0</td>\n      <td>0.039662</td>\n      <td>0.195275</td>\n      <td>0.000000</td>\n      <td>0.000000</td>\n      <td>0.000000</td>\n      <td>0.000000</td>\n      <td>2.000000</td>\n    </tr>\n    <tr>\n      <th>feature__private garden</th>\n      <td>46871.0</td>\n      <td>0.034200</td>\n      <td>0.181980</td>\n      <td>0.000000</td>\n      <td>0.000000</td>\n      <td>0.000000</td>\n      <td>0.000000</td>\n      <td>2.000000</td>\n    </tr>\n    <tr>\n      <th>feature__private rear garden</th>\n      <td>46871.0</td>\n      <td>0.017367</td>\n      <td>0.131124</td>\n      <td>0.000000</td>\n      <td>0.000000</td>\n      <td>0.000000</td>\n      <td>0.000000</td>\n      <td>2.000000</td>\n    </tr>\n    <tr>\n      <th>feature__reception room</th>\n      <td>46871.0</td>\n      <td>0.014487</td>\n      <td>0.119843</td>\n      <td>0.000000</td>\n      <td>0.000000</td>\n      <td>0.000000</td>\n      <td>0.000000</td>\n      <td>2.000000</td>\n    </tr>\n    <tr>\n      <th>feature__separate kitchen</th>\n      <td>46871.0</td>\n      <td>0.020268</td>\n      <td>0.140918</td>\n      <td>0.000000</td>\n      <td>0.000000</td>\n      <td>0.000000</td>\n      <td>0.000000</td>\n      <td>1.000000</td>\n    </tr>\n    <tr>\n      <th>feature__share of freehold</th>\n      <td>46871.0</td>\n      <td>0.047663</td>\n      <td>0.213354</td>\n      <td>0.000000</td>\n      <td>0.000000</td>\n      <td>0.000000</td>\n      <td>0.000000</td>\n      <td>2.000000</td>\n    </tr>\n    <tr>\n      <th>feature__three bedrooms</th>\n      <td>46871.0</td>\n      <td>0.059120</td>\n      <td>0.235851</td>\n      <td>0.000000</td>\n      <td>0.000000</td>\n      <td>0.000000</td>\n      <td>0.000000</td>\n      <td>1.000000</td>\n    </tr>\n    <tr>\n      <th>feature__three double bedrooms</th>\n      <td>46871.0</td>\n      <td>0.012545</td>\n      <td>0.111301</td>\n      <td>0.000000</td>\n      <td>0.000000</td>\n      <td>0.000000</td>\n      <td>0.000000</td>\n      <td>1.000000</td>\n    </tr>\n    <tr>\n      <th>feature__top floor</th>\n      <td>46871.0</td>\n      <td>0.013206</td>\n      <td>0.114159</td>\n      <td>0.000000</td>\n      <td>0.000000</td>\n      <td>0.000000</td>\n      <td>0.000000</td>\n      <td>1.000000</td>\n    </tr>\n    <tr>\n      <th>feature__two bathrooms</th>\n      <td>46871.0</td>\n      <td>0.031512</td>\n      <td>0.174943</td>\n      <td>0.000000</td>\n      <td>0.000000</td>\n      <td>0.000000</td>\n      <td>0.000000</td>\n      <td>2.000000</td>\n    </tr>\n    <tr>\n      <th>feature__two bedrooms</th>\n      <td>46871.0</td>\n      <td>0.071473</td>\n      <td>0.257616</td>\n      <td>0.000000</td>\n      <td>0.000000</td>\n      <td>0.000000</td>\n      <td>0.000000</td>\n      <td>1.000000</td>\n    </tr>\n    <tr>\n      <th>feature__two double bedrooms</th>\n      <td>46871.0</td>\n      <td>0.095411</td>\n      <td>0.293930</td>\n      <td>0.000000</td>\n      <td>0.000000</td>\n      <td>0.000000</td>\n      <td>0.000000</td>\n      <td>2.000000</td>\n    </tr>\n    <tr>\n      <th>feature__two reception rooms</th>\n      <td>46871.0</td>\n      <td>0.016449</td>\n      <td>0.127197</td>\n      <td>0.000000</td>\n      <td>0.000000</td>\n      <td>0.000000</td>\n      <td>0.000000</td>\n      <td>1.000000</td>\n    </tr>\n  </tbody>\n</table>\n</div>"
     },
     "execution_count": 12,
     "metadata": {},
     "output_type": "execute_result"
    }
   ],
   "source": [
    "old_length = len(df)\n",
    "\n",
    "df = preprocess(df, version=VERSION)\n",
    "\n",
    "print(f\"dataframe contract due to cleaning: {old_length} ==> {len(df)}\")\n",
    "old_length = len(df)\n",
    "\n",
    "df.describe().T"
   ]
  },
  {
   "cell_type": "code",
   "execution_count": 13,
   "metadata": {
    "execution": {
     "iopub.execute_input": "2022-11-16T13:53:45.704893Z",
     "iopub.status.busy": "2022-11-16T13:53:45.703920Z",
     "iopub.status.idle": "2022-11-16T13:53:45.718086Z",
     "shell.execute_reply": "2022-11-16T13:53:45.716989Z",
     "shell.execute_reply.started": "2022-11-16T13:53:45.704867Z"
    }
   },
   "outputs": [
    {
     "data": {
      "text/plain": "Price                                    0\nbedrooms                                 0\nbathrooms                                0\nnearestStation                           0\nlocation.latitude                        0\nlocation.longitude                       0\nlatitude_deviation                       0\nlongitude_deviation                      0\ntenure.tenureType                     2744\nfeature__1 bedroom                       0\nfeature__2 bedrooms                      0\nfeature__2 double bedrooms               0\nfeature__allocated parking               0\nfeature__allocated parking space         0\nfeature__balcony                         0\nfeature__bathroom                        0\nfeature__chain free                      0\nfeature__close to local amenities        0\nfeature__communal garden                 0\nfeature__communal gardens                0\nfeature__double bedroom                  0\nfeature__double glazed                   0\nfeature__double glazing                  0\nfeature__epc rating c                    0\nfeature__epc rating d                    0\nfeature__excellent location              0\nfeature__excellent transport links       0\nfeature__family bathroom                 0\nfeature__first floor                     0\nfeature__fitted kitchen                  0\nfeature__garage                          0\nfeature__garden                          0\nfeature__gas central heating             0\nfeature__great location                  0\nfeature__ground floor                    0\nfeature__kitchen                         0\nfeature__leasehold                       0\nfeature__long lease                      0\nfeature__modern bathroom                 0\nfeature__modern kitchen                  0\nfeature__no chain                        0\nfeature__no onward chain                 0\nfeature__off street parking              0\nfeature__one bedroom                     0\nfeature__one double bedroom              0\nfeature__parking                         0\nfeature__private balcony                 0\nfeature__private garden                  0\nfeature__private rear garden             0\nfeature__reception room                  0\nfeature__separate kitchen                0\nfeature__share of freehold               0\nfeature__three bedrooms                  0\nfeature__three double bedrooms           0\nfeature__top floor                       0\nfeature__two bathrooms                   0\nfeature__two bedrooms                    0\nfeature__two double bedrooms             0\nfeature__two reception rooms             0\ndtype: int64"
     },
     "execution_count": 13,
     "metadata": {},
     "output_type": "execute_result"
    }
   ],
   "source": [
    "df.isna().sum()"
   ]
  },
  {
   "cell_type": "code",
   "execution_count": 14,
   "metadata": {
    "execution": {
     "iopub.execute_input": "2022-11-16T13:53:45.719480Z",
     "iopub.status.busy": "2022-11-16T13:53:45.719240Z",
     "iopub.status.idle": "2022-11-16T13:53:45.765084Z",
     "shell.execute_reply": "2022-11-16T13:53:45.764280Z",
     "shell.execute_reply.started": "2022-11-16T13:53:45.719461Z"
    }
   },
   "outputs": [
    {
     "name": "stdout",
     "output_type": "stream",
     "text": [
      "46871 ==> 44127\n"
     ]
    },
    {
     "data": {
      "text/plain": "               Price      bedrooms    bathrooms  nearestStation  \\\ncount   44127.000000  44127.000000  44127.00000    44127.000000   \nmean   425224.642373      1.990981      1.18134        0.438522   \nstd    107203.332660      0.827621      0.40893        0.324152   \nmin    100000.000000      1.000000      1.00000        0.000000   \n25%    349950.000000      1.000000      1.00000        0.227551   \n50%    425000.000000      2.000000      1.00000        0.368351   \n75%    515000.000000      3.000000      1.00000        0.559486   \nmax    600000.000000      7.000000      5.00000        7.197700   \n\n       location.latitude  location.longitude  latitude_deviation  \\\ncount       44127.000000        44127.000000        44127.000000   \nmean           51.496711           -0.113106            0.064544   \nstd             0.077267            0.155863            0.042583   \nmin            51.298317           -0.498315            0.000000   \n25%            51.438303           -0.210633            0.029023   \n50%            51.498780           -0.101910            0.058904   \n75%            51.556343           -0.010854            0.094620   \nmax            51.683185            0.279726            0.201403   \n\n       longitude_deviation  feature__1 bedroom  feature__2 bedrooms  ...  \\\ncount         44127.000000        44127.000000         44127.000000  ...   \nmean              0.123699            0.011127             0.015251  ...   \nstd               0.095220            0.104897             0.122737  ...   \nmin               0.000000            0.000000             0.000000  ...   \n25%               0.043551            0.000000             0.000000  ...   \n50%               0.098750            0.000000             0.000000  ...   \n75%               0.191727            0.000000             0.000000  ...   \nmax               0.393895            1.000000             2.000000  ...   \n\n       feature__reception room  feature__separate kitchen  \\\ncount             44127.000000               44127.000000   \nmean                  0.014254                   0.020509   \nstd                   0.118921                   0.141735   \nmin                   0.000000                   0.000000   \n25%                   0.000000                   0.000000   \n50%                   0.000000                   0.000000   \n75%                   0.000000                   0.000000   \nmax                   2.000000                   1.000000   \n\n       feature__share of freehold  feature__three bedrooms  \\\ncount                44127.000000             44127.000000   \nmean                     0.048428                 0.059374   \nstd                      0.214989                 0.236326   \nmin                      0.000000                 0.000000   \n25%                      0.000000                 0.000000   \n50%                      0.000000                 0.000000   \n75%                      0.000000                 0.000000   \nmax                      2.000000                 1.000000   \n\n       feature__three double bedrooms  feature__top floor  \\\ncount                    44127.000000        44127.000000   \nmean                         0.012804            0.013212   \nstd                          0.112429            0.114182   \nmin                          0.000000            0.000000   \n25%                          0.000000            0.000000   \n50%                          0.000000            0.000000   \n75%                          0.000000            0.000000   \nmax                          1.000000            1.000000   \n\n       feature__two bathrooms  feature__two bedrooms  \\\ncount            44127.000000           44127.000000   \nmean                 0.031976               0.072586   \nstd                  0.176195               0.259459   \nmin                  0.000000               0.000000   \n25%                  0.000000               0.000000   \n50%                  0.000000               0.000000   \n75%                  0.000000               0.000000   \nmax                  2.000000               1.000000   \n\n       feature__two double bedrooms  feature__two reception rooms  \ncount                  44127.000000                  44127.000000  \nmean                       0.096857                      0.016022  \nstd                        0.295919                      0.125561  \nmin                        0.000000                      0.000000  \n25%                        0.000000                      0.000000  \n50%                        0.000000                      0.000000  \n75%                        0.000000                      0.000000  \nmax                        2.000000                      1.000000  \n\n[8 rows x 58 columns]",
      "text/html": "<div>\n<style scoped>\n    .dataframe tbody tr th:only-of-type {\n        vertical-align: middle;\n    }\n\n    .dataframe tbody tr th {\n        vertical-align: top;\n    }\n\n    .dataframe thead th {\n        text-align: right;\n    }\n</style>\n<table border=\"1\" class=\"dataframe\">\n  <thead>\n    <tr style=\"text-align: right;\">\n      <th></th>\n      <th>Price</th>\n      <th>bedrooms</th>\n      <th>bathrooms</th>\n      <th>nearestStation</th>\n      <th>location.latitude</th>\n      <th>location.longitude</th>\n      <th>latitude_deviation</th>\n      <th>longitude_deviation</th>\n      <th>feature__1 bedroom</th>\n      <th>feature__2 bedrooms</th>\n      <th>...</th>\n      <th>feature__reception room</th>\n      <th>feature__separate kitchen</th>\n      <th>feature__share of freehold</th>\n      <th>feature__three bedrooms</th>\n      <th>feature__three double bedrooms</th>\n      <th>feature__top floor</th>\n      <th>feature__two bathrooms</th>\n      <th>feature__two bedrooms</th>\n      <th>feature__two double bedrooms</th>\n      <th>feature__two reception rooms</th>\n    </tr>\n  </thead>\n  <tbody>\n    <tr>\n      <th>count</th>\n      <td>44127.000000</td>\n      <td>44127.000000</td>\n      <td>44127.00000</td>\n      <td>44127.000000</td>\n      <td>44127.000000</td>\n      <td>44127.000000</td>\n      <td>44127.000000</td>\n      <td>44127.000000</td>\n      <td>44127.000000</td>\n      <td>44127.000000</td>\n      <td>...</td>\n      <td>44127.000000</td>\n      <td>44127.000000</td>\n      <td>44127.000000</td>\n      <td>44127.000000</td>\n      <td>44127.000000</td>\n      <td>44127.000000</td>\n      <td>44127.000000</td>\n      <td>44127.000000</td>\n      <td>44127.000000</td>\n      <td>44127.000000</td>\n    </tr>\n    <tr>\n      <th>mean</th>\n      <td>425224.642373</td>\n      <td>1.990981</td>\n      <td>1.18134</td>\n      <td>0.438522</td>\n      <td>51.496711</td>\n      <td>-0.113106</td>\n      <td>0.064544</td>\n      <td>0.123699</td>\n      <td>0.011127</td>\n      <td>0.015251</td>\n      <td>...</td>\n      <td>0.014254</td>\n      <td>0.020509</td>\n      <td>0.048428</td>\n      <td>0.059374</td>\n      <td>0.012804</td>\n      <td>0.013212</td>\n      <td>0.031976</td>\n      <td>0.072586</td>\n      <td>0.096857</td>\n      <td>0.016022</td>\n    </tr>\n    <tr>\n      <th>std</th>\n      <td>107203.332660</td>\n      <td>0.827621</td>\n      <td>0.40893</td>\n      <td>0.324152</td>\n      <td>0.077267</td>\n      <td>0.155863</td>\n      <td>0.042583</td>\n      <td>0.095220</td>\n      <td>0.104897</td>\n      <td>0.122737</td>\n      <td>...</td>\n      <td>0.118921</td>\n      <td>0.141735</td>\n      <td>0.214989</td>\n      <td>0.236326</td>\n      <td>0.112429</td>\n      <td>0.114182</td>\n      <td>0.176195</td>\n      <td>0.259459</td>\n      <td>0.295919</td>\n      <td>0.125561</td>\n    </tr>\n    <tr>\n      <th>min</th>\n      <td>100000.000000</td>\n      <td>1.000000</td>\n      <td>1.00000</td>\n      <td>0.000000</td>\n      <td>51.298317</td>\n      <td>-0.498315</td>\n      <td>0.000000</td>\n      <td>0.000000</td>\n      <td>0.000000</td>\n      <td>0.000000</td>\n      <td>...</td>\n      <td>0.000000</td>\n      <td>0.000000</td>\n      <td>0.000000</td>\n      <td>0.000000</td>\n      <td>0.000000</td>\n      <td>0.000000</td>\n      <td>0.000000</td>\n      <td>0.000000</td>\n      <td>0.000000</td>\n      <td>0.000000</td>\n    </tr>\n    <tr>\n      <th>25%</th>\n      <td>349950.000000</td>\n      <td>1.000000</td>\n      <td>1.00000</td>\n      <td>0.227551</td>\n      <td>51.438303</td>\n      <td>-0.210633</td>\n      <td>0.029023</td>\n      <td>0.043551</td>\n      <td>0.000000</td>\n      <td>0.000000</td>\n      <td>...</td>\n      <td>0.000000</td>\n      <td>0.000000</td>\n      <td>0.000000</td>\n      <td>0.000000</td>\n      <td>0.000000</td>\n      <td>0.000000</td>\n      <td>0.000000</td>\n      <td>0.000000</td>\n      <td>0.000000</td>\n      <td>0.000000</td>\n    </tr>\n    <tr>\n      <th>50%</th>\n      <td>425000.000000</td>\n      <td>2.000000</td>\n      <td>1.00000</td>\n      <td>0.368351</td>\n      <td>51.498780</td>\n      <td>-0.101910</td>\n      <td>0.058904</td>\n      <td>0.098750</td>\n      <td>0.000000</td>\n      <td>0.000000</td>\n      <td>...</td>\n      <td>0.000000</td>\n      <td>0.000000</td>\n      <td>0.000000</td>\n      <td>0.000000</td>\n      <td>0.000000</td>\n      <td>0.000000</td>\n      <td>0.000000</td>\n      <td>0.000000</td>\n      <td>0.000000</td>\n      <td>0.000000</td>\n    </tr>\n    <tr>\n      <th>75%</th>\n      <td>515000.000000</td>\n      <td>3.000000</td>\n      <td>1.00000</td>\n      <td>0.559486</td>\n      <td>51.556343</td>\n      <td>-0.010854</td>\n      <td>0.094620</td>\n      <td>0.191727</td>\n      <td>0.000000</td>\n      <td>0.000000</td>\n      <td>...</td>\n      <td>0.000000</td>\n      <td>0.000000</td>\n      <td>0.000000</td>\n      <td>0.000000</td>\n      <td>0.000000</td>\n      <td>0.000000</td>\n      <td>0.000000</td>\n      <td>0.000000</td>\n      <td>0.000000</td>\n      <td>0.000000</td>\n    </tr>\n    <tr>\n      <th>max</th>\n      <td>600000.000000</td>\n      <td>7.000000</td>\n      <td>5.00000</td>\n      <td>7.197700</td>\n      <td>51.683185</td>\n      <td>0.279726</td>\n      <td>0.201403</td>\n      <td>0.393895</td>\n      <td>1.000000</td>\n      <td>2.000000</td>\n      <td>...</td>\n      <td>2.000000</td>\n      <td>1.000000</td>\n      <td>2.000000</td>\n      <td>1.000000</td>\n      <td>1.000000</td>\n      <td>1.000000</td>\n      <td>2.000000</td>\n      <td>1.000000</td>\n      <td>2.000000</td>\n      <td>1.000000</td>\n    </tr>\n  </tbody>\n</table>\n<p>8 rows × 58 columns</p>\n</div>"
     },
     "execution_count": 14,
     "metadata": {},
     "output_type": "execute_result"
    }
   ],
   "source": [
    "df = df.dropna()\n",
    "print(f\"{old_length} ==> {len(df)}\")\n",
    "old_length = len(df)\n",
    "df.describe()"
   ]
  },
  {
   "cell_type": "code",
   "execution_count": 15,
   "metadata": {
    "execution": {
     "iopub.execute_input": "2022-11-16T13:53:45.766337Z",
     "iopub.status.busy": "2022-11-16T13:53:45.766118Z",
     "iopub.status.idle": "2022-11-16T13:53:45.807167Z",
     "shell.execute_reply": "2022-11-16T13:53:45.806099Z",
     "shell.execute_reply.started": "2022-11-16T13:53:45.766318Z"
    }
   },
   "outputs": [
    {
     "name": "stdout",
     "output_type": "stream",
     "text": [
      "[3.0 3.0 0.3166132574345781 51.45976 0.12939 0.0399600000000006 0.23381\n",
      " 'FREEHOLD' 0 0 0 0 0 0 0 0 0 0 0 0 0 0 0 0 0 0 0 0 0 0 0 0 0 0 0 0 0 0 0\n",
      " 0 0 0 0 0 0 0 0 0 0 0 0 1 0 0 0 0 0 0]\n",
      "(39714, 58) (4413, 58) (39714, 1) (4413, 1) (39714, 1) (4413, 1) (39714, 1) (4413, 1)\n"
     ]
    }
   ],
   "source": [
    "X_train, X_test, y_train, y_test, X_train_index, X_test_index, y_train_index, y_test_index, df_features, df_labels = create_train_test_data(\n",
    "    df,\n",
    "    categories=categories,\n",
    "    RANDOM_STATE=RANDOM_STATE, return_index=True,\n",
    "    drop_nulls=True,\n",
    "    no_dummies=no_dummies\n",
    ")\n",
    "\n",
    "print(X_train[0])\n",
    "\n",
    "if 'forest' in ALGORITHM.lower() or ALGORITHM.lower()=='light gradient boosting':\n",
    "    y_train_orig = y_train\n",
    "    y_train = y_train.ravel()\n",
    "    print(y_train_orig, y_train)\n",
    "    \n",
    "print(X_train.shape, X_test.shape, y_train.shape, y_test.shape, X_train_index.shape, X_test_index.shape,\n",
    "      y_train_index.shape, y_test_index.shape)\n",
    "\n"
   ]
  },
  {
   "cell_type": "code",
   "execution_count": 16,
   "metadata": {
    "execution": {
     "iopub.execute_input": "2022-11-16T13:53:45.808583Z",
     "iopub.status.busy": "2022-11-16T13:53:45.808343Z",
     "iopub.status.idle": "2022-11-16T13:53:45.812004Z",
     "shell.execute_reply": "2022-11-16T13:53:45.811013Z",
     "shell.execute_reply.started": "2022-11-16T13:53:45.808563Z"
    }
   },
   "outputs": [],
   "source": [
    "#imputer = SimpleImputer(strategy='mean')\n",
    "#imputer.fit(X_train[6])\n",
    "#X_train[6] = imputer.transform(X_train[6])"
   ]
  },
  {
   "cell_type": "code",
   "execution_count": 17,
   "metadata": {
    "execution": {
     "iopub.execute_input": "2022-11-16T13:53:45.813460Z",
     "iopub.status.busy": "2022-11-16T13:53:45.813229Z",
     "iopub.status.idle": "2022-11-16T13:53:45.818408Z",
     "shell.execute_reply": "2022-11-16T13:53:45.817424Z",
     "shell.execute_reply.started": "2022-11-16T13:53:45.813440Z"
    }
   },
   "outputs": [],
   "source": [
    "starter_model = starter_pipe[-1]\n",
    "\n",
    "if not_catboost:\n",
    "    default_model_params = starter_model.get_params()\n",
    "    print(\"default_model_params:\\n\", default_model_params)\n",
    "    print(\"---------------------\")\n",
    "    print(\"sklearn.metrics.get_scorer_names():\\n\",sklearn.metrics.get_scorer_names())"
   ]
  },
  {
   "cell_type": "code",
   "execution_count": 17,
   "metadata": {
    "execution": {
     "iopub.execute_input": "2022-11-16T13:53:45.819618Z",
     "iopub.status.busy": "2022-11-16T13:53:45.819401Z",
     "iopub.status.idle": "2022-11-16T13:53:49.589786Z",
     "shell.execute_reply": "2022-11-16T13:53:49.588949Z",
     "shell.execute_reply.started": "2022-11-16T13:53:45.819599Z"
    }
   },
   "outputs": [],
   "source": []
  },
  {
   "cell_type": "code",
   "execution_count": 18,
   "outputs": [
    {
     "name": "stdout",
     "output_type": "stream",
     "text": [
      "cv: 3 n_jobs: 3 refit: True n_iter: 100 verbose: 2\n",
      "\n",
      "\n",
      "Hyperparameters:\n"
     ]
    },
    {
     "data": {
      "text/plain": "{'learning_rate': [None, 0.01, 0.1, 0.5, 0.9, 1],\n 'depth': [6, 7, 8, 9, 10, 15, 20],\n 'l2_leaf_reg': [1, 3, 5, 7, 9]}"
     },
     "execution_count": 18,
     "metadata": {},
     "output_type": "execute_result"
    }
   ],
   "source": [
    "options_block = get_hyperparameters(ALGORITHM, use_gpu, prefix='../../../') #JHJH\n",
    "\n",
    "if 'explore param' in DATA_DETAIL:\n",
    "    def automl_step(param_options, vary):\n",
    "        for key, value in param_options.items():\n",
    "            #print(key, value, vary)\n",
    "            if key != vary and key != 'model__' + vary:\n",
    "                param_options[key] = [param_options[key][0]]\n",
    "        return param_options\n",
    "\n",
    "    #options_block = automl_step(options_block, \"model__epochs\")\n",
    "    explore_param = \"alpha\"\n",
    "    options_block = automl_step(options_block, explore_param)\n",
    "\n",
    "\n",
    "if 'forest' in ALGORITHM.lower():\n",
    "    OVERRIDE_N_ITER = 5\n",
    "    if use_gpu:\n",
    "        OVERRIDE_JOBS = 8\n",
    "\n",
    "param_options, cv, n_jobs, refit, n_iter, verbose = get_cv_params(options_block, debug_mode=debug_mode,\n",
    "                                                                  override_cv=OVERRIDE_CV,\n",
    "                                                                  override_niter=OVERRIDE_N_ITER,\n",
    "                                                                  override_njobs=OVERRIDE_JOBS)\n",
    "\n",
    "if 'forest' in ALGORITHM.lower() or True: #JHJH\n",
    "    verbose = 2\n",
    "\n",
    "print(\"cv:\", cv, \"n_jobs:\", n_jobs, \"refit:\", refit, \"n_iter:\", n_iter, \"verbose:\", verbose)\n",
    "\n",
    "if not_catboost and len(param_options.keys()) > 2 and not already_timed and debug_mode:\n",
    "    already_timed = True\n",
    "    %timeit starter_pipe.fit(X_train, y_train)\n",
    "\n",
    "\n",
    "print('\\n\\nHyperparameters:')\n",
    "param_options if not_catboost else options_block"
   ],
   "metadata": {
    "collapsed": false
   }
  },
  {
   "cell_type": "code",
   "execution_count": 19,
   "metadata": {
    "execution": {
     "iopub.execute_input": "2022-11-16T13:53:49.591033Z",
     "iopub.status.busy": "2022-11-16T13:53:49.590814Z",
     "iopub.status.idle": "2022-11-16T13:59:47.180261Z",
     "shell.execute_reply": "2022-11-16T13:59:47.179463Z",
     "shell.execute_reply.started": "2022-11-16T13:53:49.591014Z"
    }
   },
   "outputs": [
    {
     "data": {
      "text/plain": "MetricVisualizer(layout=Layout(align_self='stretch', height='500px'))",
      "application/vnd.jupyter.widget-view+json": {
       "version_major": 2,
       "version_minor": 0,
       "model_id": "e7dc905368434587957e281ca1628563"
      }
     },
     "metadata": {},
     "output_type": "display_data"
    },
    {
     "name": "stdout",
     "output_type": "stream",
     "text": [
      "0:\tlearn: 115678.8446666\ttest: 115451.0898296\tbest: 115451.0898296 (0)\ttotal: 59.7ms\tremaining: 5.91s\n",
      "1:\tlearn: 84119.8681117\ttest: 84554.0342661\tbest: 84554.0342661 (1)\ttotal: 74ms\tremaining: 3.63s\n",
      "2:\tlearn: 74927.6069431\ttest: 75650.1616335\tbest: 75650.1616335 (2)\ttotal: 86.2ms\tremaining: 2.79s\n",
      "3:\tlearn: 73243.9443335\ttest: 73807.2923847\tbest: 73807.2923847 (3)\ttotal: 105ms\tremaining: 2.51s\n",
      "4:\tlearn: 71697.0003756\ttest: 72184.7114227\tbest: 72184.7114227 (4)\ttotal: 113ms\tremaining: 2.15s\n",
      "5:\tlearn: 70708.0653956\ttest: 71081.8186024\tbest: 71081.8186024 (5)\ttotal: 119ms\tremaining: 1.86s\n",
      "6:\tlearn: 70322.2979822\ttest: 70873.0249162\tbest: 70873.0249162 (6)\ttotal: 124ms\tremaining: 1.64s\n",
      "7:\tlearn: 70073.6783114\ttest: 70640.4696691\tbest: 70640.4696691 (7)\ttotal: 128ms\tremaining: 1.48s\n",
      "8:\tlearn: 69307.0431364\ttest: 69924.2147453\tbest: 69924.2147453 (8)\ttotal: 134ms\tremaining: 1.35s\n",
      "9:\tlearn: 68957.9889276\ttest: 69601.7831555\tbest: 69601.7831555 (9)\ttotal: 139ms\tremaining: 1.25s\n",
      "10:\tlearn: 68642.2880932\ttest: 69305.6388896\tbest: 69305.6388896 (10)\ttotal: 144ms\tremaining: 1.16s\n",
      "11:\tlearn: 68295.9075584\ttest: 68942.1486734\tbest: 68942.1486734 (11)\ttotal: 149ms\tremaining: 1.09s\n",
      "12:\tlearn: 67889.2301752\ttest: 68402.9821958\tbest: 68402.9821958 (12)\ttotal: 153ms\tremaining: 1.02s\n",
      "13:\tlearn: 67400.3993443\ttest: 68008.8909573\tbest: 68008.8909573 (13)\ttotal: 158ms\tremaining: 972ms\n",
      "14:\tlearn: 66785.3682109\ttest: 67412.7901284\tbest: 67412.7901284 (14)\ttotal: 163ms\tremaining: 924ms\n",
      "15:\tlearn: 66382.5198813\ttest: 67067.3228839\tbest: 67067.3228839 (15)\ttotal: 168ms\tremaining: 881ms\n",
      "16:\tlearn: 66062.6896606\ttest: 66796.8787183\tbest: 66796.8787183 (16)\ttotal: 173ms\tremaining: 844ms\n",
      "17:\tlearn: 65794.4157410\ttest: 66572.4888847\tbest: 66572.4888847 (17)\ttotal: 178ms\tremaining: 813ms\n",
      "18:\tlearn: 65553.1180591\ttest: 66410.2923033\tbest: 66410.2923033 (18)\ttotal: 183ms\tremaining: 782ms\n",
      "19:\tlearn: 65356.8289062\ttest: 66223.6711369\tbest: 66223.6711369 (19)\ttotal: 188ms\tremaining: 753ms\n",
      "20:\tlearn: 65229.7921485\ttest: 66192.8763598\tbest: 66192.8763598 (20)\ttotal: 193ms\tremaining: 727ms\n",
      "21:\tlearn: 64948.9417206\ttest: 66045.2288783\tbest: 66045.2288783 (21)\ttotal: 199ms\tremaining: 706ms\n",
      "22:\tlearn: 64687.8588687\ttest: 65792.3724525\tbest: 65792.3724525 (22)\ttotal: 209ms\tremaining: 701ms\n",
      "23:\tlearn: 64577.6104275\ttest: 65794.1240548\tbest: 65792.3724525 (22)\ttotal: 222ms\tremaining: 703ms\n",
      "24:\tlearn: 64439.8691114\ttest: 65669.3143098\tbest: 65669.3143098 (24)\ttotal: 227ms\tremaining: 680ms\n",
      "25:\tlearn: 64327.2216008\ttest: 65658.8557241\tbest: 65658.8557241 (25)\ttotal: 233ms\tremaining: 662ms\n",
      "26:\tlearn: 64114.5025224\ttest: 65544.7435271\tbest: 65544.7435271 (26)\ttotal: 238ms\tremaining: 642ms\n",
      "27:\tlearn: 63921.7826134\ttest: 65518.9425819\tbest: 65518.9425819 (27)\ttotal: 243ms\tremaining: 625ms\n",
      "28:\tlearn: 63754.7874985\ttest: 65446.1791267\tbest: 65446.1791267 (28)\ttotal: 248ms\tremaining: 608ms\n",
      "29:\tlearn: 63584.1317191\ttest: 65244.3435359\tbest: 65244.3435359 (29)\ttotal: 254ms\tremaining: 592ms\n",
      "30:\tlearn: 63516.0956171\ttest: 65120.3967219\tbest: 65120.3967219 (30)\ttotal: 261ms\tremaining: 580ms\n",
      "31:\tlearn: 63374.6653874\ttest: 65147.6458564\tbest: 65120.3967219 (30)\ttotal: 266ms\tremaining: 566ms\n",
      "32:\tlearn: 63099.6769395\ttest: 64775.2866434\tbest: 64775.2866434 (32)\ttotal: 272ms\tremaining: 551ms\n",
      "33:\tlearn: 62953.9293464\ttest: 64707.0592464\tbest: 64707.0592464 (33)\ttotal: 277ms\tremaining: 538ms\n",
      "34:\tlearn: 62851.4132044\ttest: 64681.9782486\tbest: 64681.9782486 (34)\ttotal: 282ms\tremaining: 525ms\n",
      "35:\tlearn: 62757.0082582\ttest: 64666.4152672\tbest: 64666.4152672 (35)\ttotal: 287ms\tremaining: 511ms\n",
      "36:\tlearn: 62648.5071020\ttest: 64623.0719419\tbest: 64623.0719419 (36)\ttotal: 293ms\tremaining: 498ms\n",
      "37:\tlearn: 62474.3885366\ttest: 64608.3750709\tbest: 64608.3750709 (37)\ttotal: 298ms\tremaining: 486ms\n",
      "38:\tlearn: 62321.5429842\ttest: 64614.7589707\tbest: 64608.3750709 (37)\ttotal: 303ms\tremaining: 474ms\n",
      "39:\tlearn: 62256.6202160\ttest: 64610.3450222\tbest: 64608.3750709 (37)\ttotal: 308ms\tremaining: 462ms\n",
      "40:\tlearn: 62125.8257995\ttest: 64592.0296439\tbest: 64592.0296439 (40)\ttotal: 313ms\tremaining: 450ms\n",
      "41:\tlearn: 62025.9634402\ttest: 64542.9980761\tbest: 64542.9980761 (41)\ttotal: 318ms\tremaining: 439ms\n",
      "42:\tlearn: 61901.9191830\ttest: 64401.9709381\tbest: 64401.9709381 (42)\ttotal: 323ms\tremaining: 428ms\n",
      "43:\tlearn: 61787.8135357\ttest: 64273.1593516\tbest: 64273.1593516 (43)\ttotal: 328ms\tremaining: 417ms\n",
      "44:\tlearn: 61653.4497543\ttest: 64235.5940250\tbest: 64235.5940250 (44)\ttotal: 334ms\tremaining: 408ms\n",
      "45:\tlearn: 61420.3449250\ttest: 64097.9271400\tbest: 64097.9271400 (45)\ttotal: 339ms\tremaining: 398ms\n",
      "46:\tlearn: 61334.3070898\ttest: 64053.0199806\tbest: 64053.0199806 (46)\ttotal: 344ms\tremaining: 388ms\n",
      "47:\tlearn: 61252.7897543\ttest: 64012.2575887\tbest: 64012.2575887 (47)\ttotal: 349ms\tremaining: 378ms\n",
      "48:\tlearn: 61166.6704289\ttest: 63980.6909131\tbest: 63980.6909131 (48)\ttotal: 353ms\tremaining: 368ms\n",
      "49:\tlearn: 61106.5044623\ttest: 63967.4628962\tbest: 63967.4628962 (49)\ttotal: 358ms\tremaining: 358ms\n",
      "50:\tlearn: 60962.5817538\ttest: 63939.3672458\tbest: 63939.3672458 (50)\ttotal: 363ms\tremaining: 349ms\n",
      "51:\tlearn: 60776.3487428\ttest: 63855.5696284\tbest: 63855.5696284 (51)\ttotal: 368ms\tremaining: 340ms\n",
      "52:\tlearn: 60593.3412772\ttest: 63760.5451592\tbest: 63760.5451592 (52)\ttotal: 373ms\tremaining: 331ms\n",
      "53:\tlearn: 60454.9659923\ttest: 63717.0775873\tbest: 63717.0775873 (53)\ttotal: 378ms\tremaining: 322ms\n",
      "54:\tlearn: 60308.7344584\ttest: 63579.1259886\tbest: 63579.1259886 (54)\ttotal: 383ms\tremaining: 313ms\n",
      "55:\tlearn: 60177.8099193\ttest: 63576.6460583\tbest: 63576.6460583 (55)\ttotal: 388ms\tremaining: 305ms\n",
      "56:\tlearn: 60069.1885959\ttest: 63556.4088991\tbest: 63556.4088991 (56)\ttotal: 393ms\tremaining: 296ms\n",
      "57:\tlearn: 59964.0298979\ttest: 63545.1170567\tbest: 63545.1170567 (57)\ttotal: 398ms\tremaining: 288ms\n",
      "58:\tlearn: 59886.3415921\ttest: 63520.8005896\tbest: 63520.8005896 (58)\ttotal: 403ms\tremaining: 280ms\n",
      "59:\tlearn: 59794.8399030\ttest: 63434.3813075\tbest: 63434.3813075 (59)\ttotal: 408ms\tremaining: 272ms\n",
      "60:\tlearn: 59666.4378131\ttest: 63362.5461997\tbest: 63362.5461997 (60)\ttotal: 413ms\tremaining: 264ms\n",
      "61:\tlearn: 59609.2028642\ttest: 63352.1550031\tbest: 63352.1550031 (61)\ttotal: 418ms\tremaining: 256ms\n",
      "62:\tlearn: 59487.9704970\ttest: 63108.7308810\tbest: 63108.7308810 (62)\ttotal: 422ms\tremaining: 248ms\n",
      "63:\tlearn: 59408.6837025\ttest: 63095.2623944\tbest: 63095.2623944 (63)\ttotal: 427ms\tremaining: 240ms\n",
      "64:\tlearn: 59295.3653860\ttest: 63054.7239916\tbest: 63054.7239916 (64)\ttotal: 432ms\tremaining: 232ms\n",
      "65:\tlearn: 59220.7465646\ttest: 62996.3123490\tbest: 62996.3123490 (65)\ttotal: 437ms\tremaining: 225ms\n",
      "66:\tlearn: 59216.3714700\ttest: 63000.0628138\tbest: 62996.3123490 (65)\ttotal: 441ms\tremaining: 217ms\n",
      "67:\tlearn: 59139.6603704\ttest: 62953.4030598\tbest: 62953.4030598 (67)\ttotal: 446ms\tremaining: 210ms\n",
      "68:\tlearn: 59041.8499267\ttest: 62893.7825034\tbest: 62893.7825034 (68)\ttotal: 451ms\tremaining: 203ms\n",
      "69:\tlearn: 58945.5572884\ttest: 62876.0877760\tbest: 62876.0877760 (69)\ttotal: 456ms\tremaining: 195ms\n",
      "70:\tlearn: 58896.8574431\ttest: 62864.6413333\tbest: 62864.6413333 (70)\ttotal: 461ms\tremaining: 188ms\n",
      "71:\tlearn: 58803.7624913\ttest: 62890.8109859\tbest: 62864.6413333 (70)\ttotal: 466ms\tremaining: 181ms\n",
      "72:\tlearn: 58717.2183862\ttest: 62830.6883703\tbest: 62830.6883703 (72)\ttotal: 471ms\tremaining: 174ms\n",
      "73:\tlearn: 58636.8325775\ttest: 62834.5959583\tbest: 62830.6883703 (72)\ttotal: 476ms\tremaining: 167ms\n",
      "74:\tlearn: 58560.7220386\ttest: 62773.4781278\tbest: 62773.4781278 (74)\ttotal: 481ms\tremaining: 160ms\n",
      "75:\tlearn: 58489.3458676\ttest: 62766.6814058\tbest: 62766.6814058 (75)\ttotal: 485ms\tremaining: 153ms\n",
      "76:\tlearn: 58441.7140358\ttest: 62773.4260398\tbest: 62766.6814058 (75)\ttotal: 490ms\tremaining: 146ms\n",
      "77:\tlearn: 58352.7582387\ttest: 62760.0268723\tbest: 62760.0268723 (77)\ttotal: 495ms\tremaining: 140ms\n",
      "78:\tlearn: 58289.3143216\ttest: 62716.8716929\tbest: 62716.8716929 (78)\ttotal: 499ms\tremaining: 133ms\n",
      "79:\tlearn: 58235.7074233\ttest: 62737.7442759\tbest: 62716.8716929 (78)\ttotal: 504ms\tremaining: 126ms\n",
      "80:\tlearn: 58158.1086911\ttest: 62722.7971914\tbest: 62716.8716929 (78)\ttotal: 509ms\tremaining: 119ms\n",
      "81:\tlearn: 58155.5686603\ttest: 62723.9281579\tbest: 62716.8716929 (78)\ttotal: 513ms\tremaining: 113ms\n",
      "82:\tlearn: 58074.3974719\ttest: 62717.7979082\tbest: 62716.8716929 (78)\ttotal: 518ms\tremaining: 106ms\n",
      "83:\tlearn: 58021.8837693\ttest: 62685.6162293\tbest: 62685.6162293 (83)\ttotal: 523ms\tremaining: 99.6ms\n",
      "84:\tlearn: 57933.0538865\ttest: 62587.7066756\tbest: 62587.7066756 (84)\ttotal: 528ms\tremaining: 93.1ms\n",
      "85:\tlearn: 57855.6723716\ttest: 62557.5812871\tbest: 62557.5812871 (85)\ttotal: 533ms\tremaining: 86.7ms\n",
      "86:\tlearn: 57787.7906412\ttest: 62558.1971023\tbest: 62557.5812871 (85)\ttotal: 538ms\tremaining: 80.3ms\n",
      "87:\tlearn: 57742.8742090\ttest: 62540.3199493\tbest: 62540.3199493 (87)\ttotal: 542ms\tremaining: 73.9ms\n",
      "88:\tlearn: 57678.7429383\ttest: 62467.8554376\tbest: 62467.8554376 (88)\ttotal: 548ms\tremaining: 67.7ms\n",
      "89:\tlearn: 57616.7005276\ttest: 62448.3649971\tbest: 62448.3649971 (89)\ttotal: 552ms\tremaining: 61.4ms\n",
      "90:\tlearn: 57563.3180178\ttest: 62426.3820064\tbest: 62426.3820064 (90)\ttotal: 557ms\tremaining: 55.1ms\n",
      "91:\tlearn: 57517.4797561\ttest: 62424.7726803\tbest: 62424.7726803 (91)\ttotal: 562ms\tremaining: 48.9ms\n",
      "92:\tlearn: 57488.0462736\ttest: 62427.3076158\tbest: 62424.7726803 (91)\ttotal: 566ms\tremaining: 42.6ms\n",
      "93:\tlearn: 57384.2832767\ttest: 62315.2466965\tbest: 62315.2466965 (93)\ttotal: 571ms\tremaining: 36.5ms\n",
      "94:\tlearn: 57311.3463989\ttest: 62299.0153958\tbest: 62299.0153958 (94)\ttotal: 576ms\tremaining: 30.3ms\n",
      "95:\tlearn: 57254.6644522\ttest: 62289.7446280\tbest: 62289.7446280 (95)\ttotal: 581ms\tremaining: 24.2ms\n",
      "96:\tlearn: 57141.4885749\ttest: 62198.6908287\tbest: 62198.6908287 (96)\ttotal: 586ms\tremaining: 18.1ms\n",
      "97:\tlearn: 57071.6628385\ttest: 62175.3053559\tbest: 62175.3053559 (97)\ttotal: 591ms\tremaining: 12.1ms\n",
      "98:\tlearn: 57070.4425615\ttest: 62174.7443748\tbest: 62174.7443748 (98)\ttotal: 595ms\tremaining: 6.01ms\n",
      "99:\tlearn: 57016.2861607\ttest: 62202.3005000\tbest: 62174.7443748 (98)\ttotal: 600ms\tremaining: 0us\n",
      "\n",
      "bestTest = 62174.74437\n",
      "bestIteration = 98\n",
      "\n",
      "0:\tloss: 62174.7443748\tbest: 62174.7443748 (0)\ttotal: 1.02s\tremaining: 9.15s\n",
      "0:\tlearn: 107370.5667555\ttest: 106879.5229574\tbest: 106879.5229574 (0)\ttotal: 6.24ms\tremaining: 617ms\n",
      "1:\tlearn: 84515.6071081\ttest: 85379.3890341\tbest: 85379.3890341 (1)\ttotal: 13ms\tremaining: 639ms\n",
      "2:\tlearn: 75898.5246069\ttest: 76923.5648637\tbest: 76923.5648637 (2)\ttotal: 19.4ms\tremaining: 627ms\n",
      "3:\tlearn: 74328.2496332\ttest: 75333.3188550\tbest: 75333.3188550 (3)\ttotal: 25.3ms\tremaining: 607ms\n",
      "4:\tlearn: 72911.4399384\ttest: 73792.5675498\tbest: 73792.5675498 (4)\ttotal: 31.4ms\tremaining: 596ms\n",
      "5:\tlearn: 71875.2229492\ttest: 72783.8033858\tbest: 72783.8033858 (5)\ttotal: 36.7ms\tremaining: 575ms\n",
      "6:\tlearn: 70734.5223808\ttest: 71436.9383278\tbest: 71436.9383278 (6)\ttotal: 41.7ms\tremaining: 554ms\n",
      "7:\tlearn: 70382.8358015\ttest: 71203.8649330\tbest: 71203.8649330 (7)\ttotal: 46.5ms\tremaining: 534ms\n",
      "8:\tlearn: 69889.6352727\ttest: 70617.0108424\tbest: 70617.0108424 (8)\ttotal: 51.3ms\tremaining: 519ms\n",
      "9:\tlearn: 69090.5893746\ttest: 69718.3013769\tbest: 69718.3013769 (9)\ttotal: 56.7ms\tremaining: 510ms\n",
      "10:\tlearn: 68490.5177031\ttest: 69229.5283123\tbest: 69229.5283123 (10)\ttotal: 61.8ms\tremaining: 500ms\n",
      "11:\tlearn: 68205.1490316\ttest: 69078.6005705\tbest: 69078.6005705 (11)\ttotal: 72.3ms\tremaining: 530ms\n",
      "12:\tlearn: 67999.5782923\ttest: 68970.4979328\tbest: 68970.4979328 (12)\ttotal: 80.5ms\tremaining: 539ms\n",
      "13:\tlearn: 67645.0598771\ttest: 68779.0186847\tbest: 68779.0186847 (13)\ttotal: 85.1ms\tremaining: 523ms\n",
      "14:\tlearn: 67400.1853309\ttest: 68580.0869724\tbest: 68580.0869724 (14)\ttotal: 90.6ms\tremaining: 514ms\n",
      "15:\tlearn: 67088.5606978\ttest: 68260.6636147\tbest: 68260.6636147 (15)\ttotal: 95.1ms\tremaining: 499ms\n",
      "16:\tlearn: 66763.2226045\ttest: 67951.2362868\tbest: 67951.2362868 (16)\ttotal: 99.4ms\tremaining: 485ms\n",
      "17:\tlearn: 66299.2480457\ttest: 67408.2294217\tbest: 67408.2294217 (17)\ttotal: 104ms\tremaining: 474ms\n",
      "18:\tlearn: 66012.0370343\ttest: 67176.0308106\tbest: 67176.0308106 (18)\ttotal: 108ms\tremaining: 462ms\n",
      "19:\tlearn: 65672.3584676\ttest: 66981.0697045\tbest: 66981.0697045 (19)\ttotal: 113ms\tremaining: 450ms\n",
      "20:\tlearn: 65408.9646573\ttest: 66711.9858216\tbest: 66711.9858216 (20)\ttotal: 117ms\tremaining: 441ms\n",
      "21:\tlearn: 65197.7081496\ttest: 66678.4761359\tbest: 66678.4761359 (21)\ttotal: 122ms\tremaining: 431ms\n",
      "22:\tlearn: 64880.6292866\ttest: 66490.9373278\tbest: 66490.9373278 (22)\ttotal: 126ms\tremaining: 421ms\n",
      "23:\tlearn: 64699.6281604\ttest: 66434.2199473\tbest: 66434.2199473 (23)\ttotal: 130ms\tremaining: 412ms\n",
      "24:\tlearn: 64565.5070355\ttest: 66339.8506883\tbest: 66339.8506883 (24)\ttotal: 134ms\tremaining: 403ms\n",
      "25:\tlearn: 64381.9862180\ttest: 66136.0403934\tbest: 66136.0403934 (25)\ttotal: 139ms\tremaining: 395ms\n",
      "26:\tlearn: 64197.9733435\ttest: 66058.6974502\tbest: 66058.6974502 (26)\ttotal: 143ms\tremaining: 387ms\n",
      "27:\tlearn: 63892.1362526\ttest: 65895.7017383\tbest: 65895.7017383 (27)\ttotal: 148ms\tremaining: 379ms\n",
      "28:\tlearn: 63712.5694796\ttest: 65666.6404234\tbest: 65666.6404234 (28)\ttotal: 152ms\tremaining: 372ms\n",
      "29:\tlearn: 63586.7150031\ttest: 65526.8017115\tbest: 65526.8017115 (29)\ttotal: 156ms\tremaining: 365ms\n",
      "30:\tlearn: 63465.2381987\ttest: 65506.9172586\tbest: 65506.9172586 (30)\ttotal: 161ms\tremaining: 357ms\n",
      "31:\tlearn: 63376.1746520\ttest: 65379.1816435\tbest: 65379.1816435 (31)\ttotal: 165ms\tremaining: 350ms\n",
      "32:\tlearn: 63137.6501422\ttest: 65300.6053241\tbest: 65300.6053241 (32)\ttotal: 169ms\tremaining: 342ms\n",
      "33:\tlearn: 63020.6705792\ttest: 65338.6039345\tbest: 65300.6053241 (32)\ttotal: 173ms\tremaining: 336ms\n",
      "34:\tlearn: 62888.7317238\ttest: 65077.3176767\tbest: 65077.3176767 (34)\ttotal: 178ms\tremaining: 330ms\n",
      "35:\tlearn: 62752.0570897\ttest: 65073.4938466\tbest: 65073.4938466 (35)\ttotal: 182ms\tremaining: 323ms\n",
      "36:\tlearn: 62668.1518951\ttest: 65066.2352791\tbest: 65066.2352791 (36)\ttotal: 189ms\tremaining: 321ms\n",
      "37:\tlearn: 62659.1161717\ttest: 65063.4883825\tbest: 65063.4883825 (37)\ttotal: 193ms\tremaining: 315ms\n",
      "38:\tlearn: 62541.1805772\ttest: 64998.9376059\tbest: 64998.9376059 (38)\ttotal: 197ms\tremaining: 308ms\n",
      "39:\tlearn: 62340.5338239\ttest: 64918.3494552\tbest: 64918.3494552 (39)\ttotal: 201ms\tremaining: 302ms\n",
      "40:\tlearn: 62337.3698096\ttest: 64918.1429489\tbest: 64918.1429489 (40)\ttotal: 205ms\tremaining: 295ms\n",
      "41:\tlearn: 62200.6650416\ttest: 64781.0350468\tbest: 64781.0350468 (41)\ttotal: 210ms\tremaining: 289ms\n",
      "42:\tlearn: 62107.2563663\ttest: 64703.6470953\tbest: 64703.6470953 (42)\ttotal: 214ms\tremaining: 283ms\n",
      "43:\tlearn: 61919.2031945\ttest: 64667.6731696\tbest: 64667.6731696 (43)\ttotal: 218ms\tremaining: 277ms\n",
      "44:\tlearn: 61811.7031030\ttest: 64630.7085820\tbest: 64630.7085820 (44)\ttotal: 222ms\tremaining: 271ms\n",
      "45:\tlearn: 61684.5292278\ttest: 64652.3215119\tbest: 64630.7085820 (44)\ttotal: 226ms\tremaining: 265ms\n",
      "46:\tlearn: 61563.8849746\ttest: 64649.0370101\tbest: 64630.7085820 (44)\ttotal: 230ms\tremaining: 260ms\n",
      "47:\tlearn: 61451.3058348\ttest: 64572.2253903\tbest: 64572.2253903 (47)\ttotal: 235ms\tremaining: 254ms\n",
      "48:\tlearn: 61351.6058559\ttest: 64537.0615568\tbest: 64537.0615568 (48)\ttotal: 239ms\tremaining: 249ms\n",
      "49:\tlearn: 61196.8973286\ttest: 64563.7942719\tbest: 64537.0615568 (48)\ttotal: 244ms\tremaining: 244ms\n",
      "50:\tlearn: 61117.4644380\ttest: 64538.8908422\tbest: 64537.0615568 (48)\ttotal: 248ms\tremaining: 238ms\n",
      "51:\tlearn: 60974.7849285\ttest: 64486.4466680\tbest: 64486.4466680 (51)\ttotal: 252ms\tremaining: 233ms\n",
      "52:\tlearn: 60773.9924938\ttest: 64426.4130670\tbest: 64426.4130670 (52)\ttotal: 256ms\tremaining: 227ms\n",
      "53:\tlearn: 60739.2127894\ttest: 64438.2601502\tbest: 64426.4130670 (52)\ttotal: 260ms\tremaining: 222ms\n",
      "54:\tlearn: 60737.5268227\ttest: 64437.2796128\tbest: 64426.4130670 (52)\ttotal: 264ms\tremaining: 216ms\n",
      "55:\tlearn: 60736.3640676\ttest: 64436.7818584\tbest: 64426.4130670 (52)\ttotal: 268ms\tremaining: 210ms\n",
      "56:\tlearn: 60644.2215094\ttest: 64438.1545158\tbest: 64426.4130670 (52)\ttotal: 272ms\tremaining: 205ms\n",
      "57:\tlearn: 60520.7510426\ttest: 64291.0857077\tbest: 64291.0857077 (57)\ttotal: 276ms\tremaining: 200ms\n",
      "58:\tlearn: 60384.5994429\ttest: 64255.3095384\tbest: 64255.3095384 (58)\ttotal: 281ms\tremaining: 195ms\n",
      "59:\tlearn: 60297.5274800\ttest: 64228.9459118\tbest: 64228.9459118 (59)\ttotal: 285ms\tremaining: 190ms\n",
      "60:\tlearn: 60219.8207667\ttest: 64186.1349076\tbest: 64186.1349076 (60)\ttotal: 289ms\tremaining: 185ms\n",
      "61:\tlearn: 60148.8108713\ttest: 64138.1810112\tbest: 64138.1810112 (61)\ttotal: 293ms\tremaining: 180ms\n",
      "62:\tlearn: 60091.1376837\ttest: 64113.6071915\tbest: 64113.6071915 (62)\ttotal: 297ms\tremaining: 174ms\n",
      "63:\tlearn: 59992.5994276\ttest: 64043.5175286\tbest: 64043.5175286 (63)\ttotal: 301ms\tremaining: 169ms\n",
      "64:\tlearn: 59806.8968972\ttest: 63939.0989530\tbest: 63939.0989530 (64)\ttotal: 307ms\tremaining: 165ms\n",
      "65:\tlearn: 59754.6408813\ttest: 63877.5488170\tbest: 63877.5488170 (65)\ttotal: 311ms\tremaining: 160ms\n",
      "66:\tlearn: 59633.5966069\ttest: 63830.5968166\tbest: 63830.5968166 (66)\ttotal: 316ms\tremaining: 156ms\n",
      "67:\tlearn: 59504.1406199\ttest: 63779.3615549\tbest: 63779.3615549 (67)\ttotal: 320ms\tremaining: 151ms\n",
      "68:\tlearn: 59446.3415745\ttest: 63738.9564101\tbest: 63738.9564101 (68)\ttotal: 324ms\tremaining: 146ms\n",
      "69:\tlearn: 59339.9252672\ttest: 63727.3108998\tbest: 63727.3108998 (69)\ttotal: 328ms\tremaining: 141ms\n",
      "70:\tlearn: 59294.4305247\ttest: 63761.7991085\tbest: 63727.3108998 (69)\ttotal: 332ms\tremaining: 136ms\n",
      "71:\tlearn: 59197.6411882\ttest: 63744.7299512\tbest: 63727.3108998 (69)\ttotal: 337ms\tremaining: 131ms\n",
      "72:\tlearn: 59041.2610244\ttest: 63668.5036829\tbest: 63668.5036829 (72)\ttotal: 341ms\tremaining: 126ms\n",
      "73:\tlearn: 58979.3439412\ttest: 63660.9893504\tbest: 63660.9893504 (73)\ttotal: 346ms\tremaining: 121ms\n",
      "74:\tlearn: 58900.0071320\ttest: 63685.8743073\tbest: 63660.9893504 (73)\ttotal: 350ms\tremaining: 117ms\n",
      "75:\tlearn: 58866.2561707\ttest: 63689.0141263\tbest: 63660.9893504 (73)\ttotal: 354ms\tremaining: 112ms\n",
      "76:\tlearn: 58767.3471482\ttest: 63666.7955801\tbest: 63660.9893504 (73)\ttotal: 359ms\tremaining: 107ms\n",
      "77:\tlearn: 58757.1831139\ttest: 63648.4295597\tbest: 63648.4295597 (77)\ttotal: 363ms\tremaining: 102ms\n",
      "78:\tlearn: 58685.8440831\ttest: 63566.1378732\tbest: 63566.1378732 (78)\ttotal: 377ms\tremaining: 100ms\n",
      "79:\tlearn: 58639.2216583\ttest: 63574.0256426\tbest: 63566.1378732 (78)\ttotal: 387ms\tremaining: 96.8ms\n",
      "80:\tlearn: 58563.3852774\ttest: 63540.9255719\tbest: 63540.9255719 (80)\ttotal: 399ms\tremaining: 93.5ms\n",
      "81:\tlearn: 58481.0888195\ttest: 63547.1178946\tbest: 63540.9255719 (80)\ttotal: 407ms\tremaining: 89.3ms\n",
      "82:\tlearn: 58479.7640321\ttest: 63547.4163676\tbest: 63540.9255719 (80)\ttotal: 412ms\tremaining: 84.3ms\n",
      "83:\tlearn: 58409.8322775\ttest: 63491.9481936\tbest: 63491.9481936 (83)\ttotal: 417ms\tremaining: 79.4ms\n",
      "84:\tlearn: 58338.7498367\ttest: 63469.1652167\tbest: 63469.1652167 (84)\ttotal: 422ms\tremaining: 74.5ms\n",
      "85:\tlearn: 58262.6450045\ttest: 63332.9313640\tbest: 63332.9313640 (85)\ttotal: 427ms\tremaining: 69.5ms\n",
      "86:\tlearn: 58210.7991593\ttest: 63374.3532547\tbest: 63332.9313640 (85)\ttotal: 432ms\tremaining: 64.6ms\n",
      "87:\tlearn: 58135.2821115\ttest: 63358.9980709\tbest: 63332.9313640 (85)\ttotal: 437ms\tremaining: 59.6ms\n",
      "88:\tlearn: 58095.6068253\ttest: 63358.6249534\tbest: 63332.9313640 (85)\ttotal: 442ms\tremaining: 54.7ms\n",
      "89:\tlearn: 58012.8167682\ttest: 63307.5826719\tbest: 63307.5826719 (89)\ttotal: 447ms\tremaining: 49.7ms\n",
      "90:\tlearn: 57958.3858617\ttest: 63264.5599755\tbest: 63264.5599755 (90)\ttotal: 453ms\tremaining: 44.8ms\n",
      "91:\tlearn: 57856.0182265\ttest: 63246.2815310\tbest: 63246.2815310 (91)\ttotal: 458ms\tremaining: 39.8ms\n",
      "92:\tlearn: 57803.5122654\ttest: 63243.9127056\tbest: 63243.9127056 (92)\ttotal: 463ms\tremaining: 34.8ms\n",
      "93:\tlearn: 57761.6718232\ttest: 63254.0410284\tbest: 63243.9127056 (92)\ttotal: 468ms\tremaining: 29.9ms\n",
      "94:\tlearn: 57703.5472157\ttest: 63232.6843371\tbest: 63232.6843371 (94)\ttotal: 474ms\tremaining: 24.9ms\n",
      "95:\tlearn: 57637.7193687\ttest: 63222.6364025\tbest: 63222.6364025 (95)\ttotal: 479ms\tremaining: 19.9ms\n",
      "96:\tlearn: 57581.1203431\ttest: 63265.3313347\tbest: 63222.6364025 (95)\ttotal: 484ms\tremaining: 15ms\n",
      "97:\tlearn: 57518.4785238\ttest: 63175.0618628\tbest: 63175.0618628 (97)\ttotal: 489ms\tremaining: 9.98ms\n",
      "98:\tlearn: 57407.5901991\ttest: 63166.3782841\tbest: 63166.3782841 (98)\ttotal: 494ms\tremaining: 4.99ms\n",
      "99:\tlearn: 57352.8573337\ttest: 63163.8993101\tbest: 63163.8993101 (99)\ttotal: 500ms\tremaining: 0us\n",
      "\n",
      "bestTest = 63163.89931\n",
      "bestIteration = 99\n",
      "\n",
      "1:\tloss: 63163.8993101\tbest: 62174.7443748 (0)\ttotal: 1.53s\tremaining: 6.11s\n",
      "0:\tlearn: 106838.9228050\ttest: 106486.3183005\tbest: 106486.3183005 (0)\ttotal: 7.54ms\tremaining: 746ms\n",
      "1:\tlearn: 81994.8263303\ttest: 83068.7994578\tbest: 83068.7994578 (1)\ttotal: 16ms\tremaining: 786ms\n",
      "2:\tlearn: 75483.0387484\ttest: 77251.0899624\tbest: 77251.0899624 (2)\ttotal: 24.5ms\tremaining: 793ms\n",
      "3:\tlearn: 73138.5247523\ttest: 75051.0047359\tbest: 75051.0047359 (3)\ttotal: 31ms\tremaining: 745ms\n",
      "4:\tlearn: 71090.8091162\ttest: 72721.0834726\tbest: 72721.0834726 (4)\ttotal: 38.1ms\tremaining: 723ms\n",
      "5:\tlearn: 70137.5164194\ttest: 71536.7456719\tbest: 71536.7456719 (5)\ttotal: 43.8ms\tremaining: 686ms\n",
      "6:\tlearn: 69285.3385659\ttest: 70662.9490885\tbest: 70662.9490885 (6)\ttotal: 49.7ms\tremaining: 661ms\n",
      "7:\tlearn: 69011.7578895\ttest: 70335.3422239\tbest: 70335.3422239 (7)\ttotal: 55.4ms\tremaining: 637ms\n",
      "8:\tlearn: 68425.6727347\ttest: 69768.0990975\tbest: 69768.0990975 (8)\ttotal: 61.7ms\tremaining: 624ms\n",
      "9:\tlearn: 67329.1027049\ttest: 68543.4519256\tbest: 68543.4519256 (9)\ttotal: 68.4ms\tremaining: 615ms\n",
      "10:\tlearn: 67080.3219895\ttest: 68498.1958437\tbest: 68498.1958437 (10)\ttotal: 75.6ms\tremaining: 612ms\n",
      "11:\tlearn: 66516.0738221\ttest: 67929.5175844\tbest: 67929.5175844 (11)\ttotal: 82.3ms\tremaining: 603ms\n",
      "12:\tlearn: 66067.3217842\ttest: 67351.3945723\tbest: 67351.3945723 (12)\ttotal: 89.1ms\tremaining: 596ms\n",
      "13:\tlearn: 65784.8862330\ttest: 67150.8154249\tbest: 67150.8154249 (13)\ttotal: 96.3ms\tremaining: 592ms\n",
      "14:\tlearn: 65361.1439921\ttest: 66811.3005347\tbest: 66811.3005347 (14)\ttotal: 103ms\tremaining: 584ms\n",
      "15:\tlearn: 65066.4052315\ttest: 66539.0450414\tbest: 66539.0450414 (15)\ttotal: 109ms\tremaining: 574ms\n",
      "16:\tlearn: 64606.1536669\ttest: 66225.9080065\tbest: 66225.9080065 (16)\ttotal: 117ms\tremaining: 570ms\n",
      "17:\tlearn: 64286.4760113\ttest: 65933.2877992\tbest: 65933.2877992 (17)\ttotal: 124ms\tremaining: 566ms\n",
      "18:\tlearn: 64058.5948587\ttest: 65709.8128735\tbest: 65709.8128735 (18)\ttotal: 132ms\tremaining: 561ms\n",
      "19:\tlearn: 63785.5157369\ttest: 65461.6758350\tbest: 65461.6758350 (19)\ttotal: 139ms\tremaining: 557ms\n",
      "20:\tlearn: 63413.8318387\ttest: 65131.2820931\tbest: 65131.2820931 (20)\ttotal: 146ms\tremaining: 548ms\n",
      "21:\tlearn: 63257.5861474\ttest: 65074.1806623\tbest: 65074.1806623 (21)\ttotal: 152ms\tremaining: 541ms\n",
      "22:\tlearn: 63077.8331084\ttest: 65013.6085073\tbest: 65013.6085073 (22)\ttotal: 160ms\tremaining: 534ms\n",
      "23:\tlearn: 62905.9654240\ttest: 64770.2715795\tbest: 64770.2715795 (23)\ttotal: 166ms\tremaining: 524ms\n",
      "24:\tlearn: 62697.7761310\ttest: 64601.7172467\tbest: 64601.7172467 (24)\ttotal: 173ms\tremaining: 520ms\n",
      "25:\tlearn: 62548.4387664\ttest: 64559.5214805\tbest: 64559.5214805 (25)\ttotal: 180ms\tremaining: 512ms\n",
      "26:\tlearn: 62295.0163128\ttest: 64432.4407690\tbest: 64432.4407690 (26)\ttotal: 187ms\tremaining: 507ms\n",
      "27:\tlearn: 62128.3406810\ttest: 64240.5946550\tbest: 64240.5946550 (27)\ttotal: 194ms\tremaining: 500ms\n",
      "28:\tlearn: 61960.2479265\ttest: 64168.1430977\tbest: 64168.1430977 (28)\ttotal: 201ms\tremaining: 492ms\n",
      "29:\tlearn: 61756.0557631\ttest: 64122.2297872\tbest: 64122.2297872 (29)\ttotal: 208ms\tremaining: 485ms\n",
      "30:\tlearn: 61752.3508520\ttest: 64122.5964785\tbest: 64122.2297872 (29)\ttotal: 213ms\tremaining: 475ms\n",
      "31:\tlearn: 61578.7925947\ttest: 64136.6289716\tbest: 64122.2297872 (29)\ttotal: 219ms\tremaining: 466ms\n",
      "32:\tlearn: 61387.3876665\ttest: 64113.7888691\tbest: 64113.7888691 (32)\ttotal: 226ms\tremaining: 458ms\n",
      "33:\tlearn: 61296.1460690\ttest: 64081.2257704\tbest: 64081.2257704 (33)\ttotal: 231ms\tremaining: 449ms\n",
      "34:\tlearn: 61176.2663177\ttest: 63902.1784763\tbest: 63902.1784763 (34)\ttotal: 237ms\tremaining: 440ms\n",
      "35:\tlearn: 60992.1874359\ttest: 63849.4978833\tbest: 63849.4978833 (35)\ttotal: 243ms\tremaining: 432ms\n",
      "36:\tlearn: 60844.1448512\ttest: 63788.9092747\tbest: 63788.9092747 (36)\ttotal: 249ms\tremaining: 424ms\n",
      "37:\tlearn: 60662.4719811\ttest: 63672.4779936\tbest: 63672.4779936 (37)\ttotal: 256ms\tremaining: 417ms\n",
      "38:\tlearn: 60513.3196732\ttest: 63578.0066383\tbest: 63578.0066383 (38)\ttotal: 262ms\tremaining: 409ms\n",
      "39:\tlearn: 60379.7653129\ttest: 63551.2665270\tbest: 63551.2665270 (39)\ttotal: 268ms\tremaining: 402ms\n",
      "40:\tlearn: 60172.2989095\ttest: 63526.0495209\tbest: 63526.0495209 (40)\ttotal: 275ms\tremaining: 395ms\n",
      "41:\tlearn: 59970.5943843\ttest: 63419.9409472\tbest: 63419.9409472 (41)\ttotal: 281ms\tremaining: 388ms\n",
      "42:\tlearn: 59884.8397616\ttest: 63378.2810879\tbest: 63378.2810879 (42)\ttotal: 287ms\tremaining: 381ms\n",
      "43:\tlearn: 59794.3300293\ttest: 63382.5533862\tbest: 63378.2810879 (42)\ttotal: 293ms\tremaining: 373ms\n",
      "44:\tlearn: 59651.0300688\ttest: 63299.7135693\tbest: 63299.7135693 (44)\ttotal: 299ms\tremaining: 365ms\n",
      "45:\tlearn: 59559.9506153\ttest: 63351.4902670\tbest: 63299.7135693 (44)\ttotal: 305ms\tremaining: 358ms\n",
      "46:\tlearn: 59365.3121686\ttest: 63170.4708687\tbest: 63170.4708687 (46)\ttotal: 312ms\tremaining: 351ms\n",
      "47:\tlearn: 59280.8009948\ttest: 63190.3288117\tbest: 63170.4708687 (46)\ttotal: 318ms\tremaining: 344ms\n",
      "48:\tlearn: 59177.3768140\ttest: 63172.7118303\tbest: 63170.4708687 (46)\ttotal: 324ms\tremaining: 337ms\n",
      "49:\tlearn: 59058.8603434\ttest: 63151.5464457\tbest: 63151.5464457 (49)\ttotal: 330ms\tremaining: 330ms\n",
      "50:\tlearn: 58898.6562643\ttest: 63088.1398929\tbest: 63088.1398929 (50)\ttotal: 336ms\tremaining: 322ms\n",
      "51:\tlearn: 58893.7932338\ttest: 63086.1561622\tbest: 63086.1561622 (51)\ttotal: 341ms\tremaining: 315ms\n",
      "52:\tlearn: 58757.9403831\ttest: 63049.7279675\tbest: 63049.7279675 (52)\ttotal: 347ms\tremaining: 308ms\n",
      "53:\tlearn: 58656.8590067\ttest: 63004.3033511\tbest: 63004.3033511 (53)\ttotal: 353ms\tremaining: 300ms\n",
      "54:\tlearn: 58655.0491625\ttest: 63002.8085293\tbest: 63002.8085293 (54)\ttotal: 358ms\tremaining: 293ms\n",
      "55:\tlearn: 58532.4762811\ttest: 63088.2290704\tbest: 63002.8085293 (54)\ttotal: 364ms\tremaining: 286ms\n",
      "56:\tlearn: 58385.3396299\ttest: 63080.8970781\tbest: 63002.8085293 (54)\ttotal: 372ms\tremaining: 280ms\n",
      "57:\tlearn: 58294.6672639\ttest: 63069.4847536\tbest: 63002.8085293 (54)\ttotal: 377ms\tremaining: 273ms\n",
      "58:\tlearn: 58101.3140334\ttest: 63023.2182845\tbest: 63002.8085293 (54)\ttotal: 389ms\tremaining: 270ms\n",
      "59:\tlearn: 58030.2564376\ttest: 63025.4854448\tbest: 63002.8085293 (54)\ttotal: 395ms\tremaining: 263ms\n",
      "60:\tlearn: 57932.4826848\ttest: 63107.7087946\tbest: 63002.8085293 (54)\ttotal: 401ms\tremaining: 257ms\n",
      "61:\tlearn: 57842.1120812\ttest: 63093.6989231\tbest: 63002.8085293 (54)\ttotal: 407ms\tremaining: 250ms\n",
      "62:\tlearn: 57774.8547574\ttest: 63095.7040870\tbest: 63002.8085293 (54)\ttotal: 414ms\tremaining: 243ms\n",
      "63:\tlearn: 57685.0101610\ttest: 63047.7446839\tbest: 63002.8085293 (54)\ttotal: 419ms\tremaining: 236ms\n",
      "64:\tlearn: 57680.4904174\ttest: 63053.4042975\tbest: 63002.8085293 (54)\ttotal: 425ms\tremaining: 229ms\n",
      "65:\tlearn: 57576.1009368\ttest: 63066.1143823\tbest: 63002.8085293 (54)\ttotal: 431ms\tremaining: 222ms\n",
      "66:\tlearn: 57484.6209765\ttest: 63011.1611819\tbest: 63002.8085293 (54)\ttotal: 437ms\tremaining: 215ms\n",
      "67:\tlearn: 57366.1115120\ttest: 63033.8001275\tbest: 63002.8085293 (54)\ttotal: 442ms\tremaining: 208ms\n",
      "68:\tlearn: 57294.3853149\ttest: 63081.1174163\tbest: 63002.8085293 (54)\ttotal: 449ms\tremaining: 202ms\n",
      "69:\tlearn: 57216.4196508\ttest: 63035.9589867\tbest: 63002.8085293 (54)\ttotal: 455ms\tremaining: 195ms\n",
      "70:\tlearn: 57215.1001411\ttest: 63037.3046910\tbest: 63002.8085293 (54)\ttotal: 461ms\tremaining: 188ms\n",
      "71:\tlearn: 57071.4402525\ttest: 63007.8392972\tbest: 63002.8085293 (54)\ttotal: 467ms\tremaining: 182ms\n",
      "72:\tlearn: 56960.4182009\ttest: 62940.0661068\tbest: 62940.0661068 (72)\ttotal: 474ms\tremaining: 175ms\n",
      "73:\tlearn: 56874.1790292\ttest: 62985.4850919\tbest: 62940.0661068 (72)\ttotal: 480ms\tremaining: 169ms\n",
      "74:\tlearn: 56790.4815387\ttest: 62966.3103748\tbest: 62940.0661068 (72)\ttotal: 486ms\tremaining: 162ms\n",
      "75:\tlearn: 56722.4357494\ttest: 62949.0454031\tbest: 62940.0661068 (72)\ttotal: 493ms\tremaining: 156ms\n",
      "76:\tlearn: 56588.7031503\ttest: 62962.4873960\tbest: 62940.0661068 (72)\ttotal: 499ms\tremaining: 149ms\n",
      "77:\tlearn: 56440.2135315\ttest: 62974.4935220\tbest: 62940.0661068 (72)\ttotal: 505ms\tremaining: 142ms\n",
      "78:\tlearn: 56369.6014767\ttest: 62997.0556768\tbest: 62940.0661068 (72)\ttotal: 511ms\tremaining: 136ms\n",
      "79:\tlearn: 56313.3576182\ttest: 62996.2683180\tbest: 62940.0661068 (72)\ttotal: 517ms\tremaining: 129ms\n",
      "80:\tlearn: 56226.7802304\ttest: 63004.9217416\tbest: 62940.0661068 (72)\ttotal: 523ms\tremaining: 123ms\n",
      "81:\tlearn: 56162.3079251\ttest: 63025.9415524\tbest: 62940.0661068 (72)\ttotal: 529ms\tremaining: 116ms\n",
      "82:\tlearn: 56044.6963237\ttest: 63012.7595287\tbest: 62940.0661068 (72)\ttotal: 536ms\tremaining: 110ms\n",
      "83:\tlearn: 55972.0299420\ttest: 62965.3324748\tbest: 62940.0661068 (72)\ttotal: 542ms\tremaining: 103ms\n",
      "84:\tlearn: 55897.4092540\ttest: 62939.1394927\tbest: 62939.1394927 (84)\ttotal: 554ms\tremaining: 97.7ms\n",
      "85:\tlearn: 55785.7899486\ttest: 62870.7782980\tbest: 62870.7782980 (85)\ttotal: 560ms\tremaining: 91.2ms\n",
      "86:\tlearn: 55706.4734111\ttest: 62893.4891388\tbest: 62870.7782980 (85)\ttotal: 566ms\tremaining: 84.6ms\n",
      "87:\tlearn: 55616.4821324\ttest: 62832.2255521\tbest: 62832.2255521 (87)\ttotal: 572ms\tremaining: 78ms\n",
      "88:\tlearn: 55552.3172287\ttest: 62844.8701386\tbest: 62832.2255521 (87)\ttotal: 579ms\tremaining: 71.6ms\n",
      "89:\tlearn: 55464.1106507\ttest: 62850.9502571\tbest: 62832.2255521 (87)\ttotal: 585ms\tremaining: 65ms\n",
      "90:\tlearn: 55394.3167622\ttest: 62868.2788610\tbest: 62832.2255521 (87)\ttotal: 592ms\tremaining: 58.5ms\n",
      "91:\tlearn: 55297.1778216\ttest: 62741.6722635\tbest: 62741.6722635 (91)\ttotal: 598ms\tremaining: 52ms\n",
      "92:\tlearn: 55203.3051811\ttest: 62739.2353109\tbest: 62739.2353109 (92)\ttotal: 604ms\tremaining: 45.5ms\n",
      "93:\tlearn: 55202.1299249\ttest: 62740.7294035\tbest: 62739.2353109 (92)\ttotal: 610ms\tremaining: 38.9ms\n",
      "94:\tlearn: 55125.3565435\ttest: 62740.7718642\tbest: 62739.2353109 (92)\ttotal: 617ms\tremaining: 32.5ms\n",
      "95:\tlearn: 55029.2869521\ttest: 62691.2837672\tbest: 62691.2837672 (95)\ttotal: 624ms\tremaining: 26ms\n",
      "96:\tlearn: 54933.2050063\ttest: 62622.0266766\tbest: 62622.0266766 (96)\ttotal: 631ms\tremaining: 19.5ms\n",
      "97:\tlearn: 54832.9928158\ttest: 62599.3091150\tbest: 62599.3091150 (97)\ttotal: 638ms\tremaining: 13ms\n",
      "98:\tlearn: 54832.1366109\ttest: 62601.0054063\tbest: 62599.3091150 (97)\ttotal: 644ms\tremaining: 6.5ms\n",
      "99:\tlearn: 54736.8176375\ttest: 62608.8299997\tbest: 62599.3091150 (97)\ttotal: 650ms\tremaining: 0us\n",
      "\n",
      "bestTest = 62599.30911\n",
      "bestIteration = 97\n",
      "\n",
      "2:\tloss: 62599.3091150\tbest: 62174.7443748 (0)\ttotal: 2.19s\tremaining: 5.1s\n",
      "0:\tlearn: 107183.2265944\ttest: 106866.8791132\tbest: 106866.8791132 (0)\ttotal: 6.43ms\tremaining: 637ms\n",
      "1:\tlearn: 82460.8808838\ttest: 83504.5421509\tbest: 83504.5421509 (1)\ttotal: 15.8ms\tremaining: 773ms\n",
      "2:\tlearn: 75846.8553234\ttest: 77616.9151158\tbest: 77616.9151158 (2)\ttotal: 30.9ms\tremaining: 1s\n",
      "3:\tlearn: 73636.4465250\ttest: 75734.9550530\tbest: 75734.9550530 (3)\ttotal: 39.5ms\tremaining: 948ms\n",
      "4:\tlearn: 71910.3118532\ttest: 73392.8042037\tbest: 73392.8042037 (4)\ttotal: 51.9ms\tremaining: 987ms\n",
      "5:\tlearn: 71024.4814921\ttest: 72439.8704154\tbest: 72439.8704154 (5)\ttotal: 57.9ms\tremaining: 907ms\n",
      "6:\tlearn: 69982.9938694\ttest: 71049.6660543\tbest: 71049.6660543 (6)\ttotal: 63.7ms\tremaining: 846ms\n",
      "7:\tlearn: 69485.7901376\ttest: 70646.1172784\tbest: 70646.1172784 (7)\ttotal: 69.2ms\tremaining: 796ms\n",
      "8:\tlearn: 69224.5715834\ttest: 70393.7814257\tbest: 70393.7814257 (8)\ttotal: 75ms\tremaining: 759ms\n",
      "9:\tlearn: 69002.5667131\ttest: 70331.1974193\tbest: 70331.1974193 (9)\ttotal: 81ms\tremaining: 729ms\n",
      "10:\tlearn: 68322.5019372\ttest: 69812.5008161\tbest: 69812.5008161 (10)\ttotal: 87ms\tremaining: 704ms\n",
      "11:\tlearn: 67712.9246643\ttest: 69132.8172115\tbest: 69132.8172115 (11)\ttotal: 93.1ms\tremaining: 683ms\n",
      "12:\tlearn: 67166.8430967\ttest: 68431.3019558\tbest: 68431.3019558 (12)\ttotal: 98.7ms\tremaining: 661ms\n",
      "13:\tlearn: 66465.9719611\ttest: 67857.8869088\tbest: 67857.8869088 (13)\ttotal: 105ms\tremaining: 644ms\n",
      "14:\tlearn: 66168.4551346\ttest: 67621.4446006\tbest: 67621.4446006 (14)\ttotal: 111ms\tremaining: 627ms\n",
      "15:\tlearn: 65874.0209861\ttest: 67447.4124746\tbest: 67447.4124746 (15)\ttotal: 118ms\tremaining: 617ms\n",
      "16:\tlearn: 65663.0399627\ttest: 67259.3957610\tbest: 67259.3957610 (16)\ttotal: 124ms\tremaining: 604ms\n",
      "17:\tlearn: 65403.3009304\ttest: 67053.6596167\tbest: 67053.6596167 (17)\ttotal: 131ms\tremaining: 595ms\n",
      "18:\tlearn: 64932.5918792\ttest: 66643.0986241\tbest: 66643.0986241 (18)\ttotal: 137ms\tremaining: 585ms\n",
      "19:\tlearn: 64762.7356181\ttest: 66579.9428433\tbest: 66579.9428433 (19)\ttotal: 143ms\tremaining: 573ms\n",
      "20:\tlearn: 64538.6570634\ttest: 66569.7382467\tbest: 66569.7382467 (20)\ttotal: 149ms\tremaining: 562ms\n",
      "21:\tlearn: 64358.4910884\ttest: 66432.4264035\tbest: 66432.4264035 (21)\ttotal: 156ms\tremaining: 552ms\n",
      "22:\tlearn: 64115.8675727\ttest: 66331.5878812\tbest: 66331.5878812 (22)\ttotal: 163ms\tremaining: 544ms\n",
      "23:\tlearn: 63772.3518505\ttest: 66138.2214520\tbest: 66138.2214520 (23)\ttotal: 169ms\tremaining: 536ms\n",
      "24:\tlearn: 63602.0297139\ttest: 66025.3942908\tbest: 66025.3942908 (24)\ttotal: 177ms\tremaining: 530ms\n",
      "25:\tlearn: 63261.8229023\ttest: 65633.7263189\tbest: 65633.7263189 (25)\ttotal: 187ms\tremaining: 533ms\n",
      "26:\tlearn: 63223.7560790\ttest: 65625.4985556\tbest: 65625.4985556 (26)\ttotal: 193ms\tremaining: 523ms\n",
      "27:\tlearn: 63065.0405882\ttest: 65631.1240800\tbest: 65625.4985556 (26)\ttotal: 200ms\tremaining: 513ms\n",
      "28:\tlearn: 62826.3437840\ttest: 65522.1677245\tbest: 65522.1677245 (28)\ttotal: 207ms\tremaining: 507ms\n",
      "29:\tlearn: 62598.1695968\ttest: 65426.7730221\tbest: 65426.7730221 (29)\ttotal: 214ms\tremaining: 500ms\n",
      "30:\tlearn: 62439.5913265\ttest: 65438.3722298\tbest: 65426.7730221 (29)\ttotal: 232ms\tremaining: 516ms\n",
      "31:\tlearn: 62280.6195288\ttest: 65327.4824557\tbest: 65327.4824557 (31)\ttotal: 243ms\tremaining: 517ms\n",
      "32:\tlearn: 62046.6414619\ttest: 65271.5954432\tbest: 65271.5954432 (32)\ttotal: 250ms\tremaining: 507ms\n",
      "33:\tlearn: 61813.6172047\ttest: 65002.4873959\tbest: 65002.4873959 (33)\ttotal: 256ms\tremaining: 498ms\n",
      "34:\tlearn: 61726.3468307\ttest: 64965.5335533\tbest: 64965.5335533 (34)\ttotal: 262ms\tremaining: 487ms\n",
      "35:\tlearn: 61561.7345184\ttest: 64757.6801612\tbest: 64757.6801612 (35)\ttotal: 269ms\tremaining: 477ms\n",
      "36:\tlearn: 61361.3968612\ttest: 64781.6113854\tbest: 64757.6801612 (35)\ttotal: 275ms\tremaining: 468ms\n",
      "37:\tlearn: 61207.4295806\ttest: 64803.0620656\tbest: 64757.6801612 (35)\ttotal: 281ms\tremaining: 459ms\n",
      "38:\tlearn: 61050.0876855\ttest: 64689.6562231\tbest: 64689.6562231 (38)\ttotal: 287ms\tremaining: 450ms\n",
      "39:\tlearn: 60963.2690044\ttest: 64626.5749050\tbest: 64626.5749050 (39)\ttotal: 294ms\tremaining: 440ms\n",
      "40:\tlearn: 60809.4906109\ttest: 64562.5816725\tbest: 64562.5816725 (40)\ttotal: 300ms\tremaining: 431ms\n",
      "41:\tlearn: 60688.5091187\ttest: 64522.4509477\tbest: 64522.4509477 (41)\ttotal: 306ms\tremaining: 422ms\n",
      "42:\tlearn: 60591.9612382\ttest: 64479.6366573\tbest: 64479.6366573 (42)\ttotal: 312ms\tremaining: 413ms\n",
      "43:\tlearn: 60409.6786410\ttest: 64358.1887852\tbest: 64358.1887852 (43)\ttotal: 318ms\tremaining: 404ms\n",
      "44:\tlearn: 60236.3696114\ttest: 64330.9325083\tbest: 64330.9325083 (44)\ttotal: 324ms\tremaining: 396ms\n",
      "45:\tlearn: 60133.2807737\ttest: 64302.1756058\tbest: 64302.1756058 (45)\ttotal: 330ms\tremaining: 387ms\n",
      "46:\tlearn: 59985.9278114\ttest: 64282.3228272\tbest: 64282.3228272 (46)\ttotal: 336ms\tremaining: 379ms\n",
      "47:\tlearn: 59900.6237183\ttest: 64168.7719030\tbest: 64168.7719030 (47)\ttotal: 342ms\tremaining: 370ms\n",
      "48:\tlearn: 59896.6562727\ttest: 64165.8706211\tbest: 64165.8706211 (48)\ttotal: 347ms\tremaining: 361ms\n",
      "49:\tlearn: 59774.4663796\ttest: 64123.0733620\tbest: 64123.0733620 (49)\ttotal: 353ms\tremaining: 353ms\n",
      "50:\tlearn: 59644.2074974\ttest: 64164.1514613\tbest: 64123.0733620 (49)\ttotal: 359ms\tremaining: 345ms\n",
      "51:\tlearn: 59556.9172123\ttest: 64121.9516181\tbest: 64121.9516181 (51)\ttotal: 365ms\tremaining: 337ms\n",
      "52:\tlearn: 59368.6548928\ttest: 64017.9578018\tbest: 64017.9578018 (52)\ttotal: 371ms\tremaining: 329ms\n",
      "53:\tlearn: 59207.4350333\ttest: 63912.3586794\tbest: 63912.3586794 (53)\ttotal: 380ms\tremaining: 324ms\n",
      "54:\tlearn: 59050.7177628\ttest: 63789.2538340\tbest: 63789.2538340 (54)\ttotal: 386ms\tremaining: 316ms\n",
      "55:\tlearn: 58922.9397364\ttest: 63752.9268798\tbest: 63752.9268798 (55)\ttotal: 392ms\tremaining: 308ms\n",
      "56:\tlearn: 58917.6840760\ttest: 63756.5081859\tbest: 63752.9268798 (55)\ttotal: 398ms\tremaining: 300ms\n",
      "57:\tlearn: 58807.4863156\ttest: 63676.1014441\tbest: 63676.1014441 (57)\ttotal: 404ms\tremaining: 293ms\n",
      "58:\tlearn: 58713.3891863\ttest: 63693.4867437\tbest: 63676.1014441 (57)\ttotal: 410ms\tremaining: 285ms\n",
      "59:\tlearn: 58624.3201101\ttest: 63721.6300974\tbest: 63676.1014441 (57)\ttotal: 416ms\tremaining: 277ms\n",
      "60:\tlearn: 58510.9480283\ttest: 63672.4312088\tbest: 63672.4312088 (60)\ttotal: 422ms\tremaining: 270ms\n",
      "61:\tlearn: 58404.1644137\ttest: 63605.6172898\tbest: 63605.6172898 (61)\ttotal: 428ms\tremaining: 263ms\n",
      "62:\tlearn: 58303.3433788\ttest: 63637.8481796\tbest: 63605.6172898 (61)\ttotal: 434ms\tremaining: 255ms\n",
      "63:\tlearn: 58209.8304626\ttest: 63661.9286571\tbest: 63605.6172898 (61)\ttotal: 440ms\tremaining: 248ms\n",
      "64:\tlearn: 58154.1338887\ttest: 63622.4620792\tbest: 63605.6172898 (61)\ttotal: 446ms\tremaining: 240ms\n",
      "65:\tlearn: 58022.8460855\ttest: 63551.3722314\tbest: 63551.3722314 (65)\ttotal: 453ms\tremaining: 234ms\n",
      "66:\tlearn: 57945.2612442\ttest: 63528.3276286\tbest: 63528.3276286 (66)\ttotal: 460ms\tremaining: 226ms\n",
      "67:\tlearn: 57890.4683761\ttest: 63515.2132276\tbest: 63515.2132276 (67)\ttotal: 467ms\tremaining: 220ms\n",
      "68:\tlearn: 57811.6406229\ttest: 63493.0967427\tbest: 63493.0967427 (68)\ttotal: 473ms\tremaining: 213ms\n",
      "69:\tlearn: 57629.9074826\ttest: 63453.6615476\tbest: 63453.6615476 (69)\ttotal: 480ms\tremaining: 206ms\n",
      "70:\tlearn: 57572.0322665\ttest: 63435.7920819\tbest: 63435.7920819 (70)\ttotal: 486ms\tremaining: 199ms\n",
      "71:\tlearn: 57511.9554237\ttest: 63429.8412417\tbest: 63429.8412417 (71)\ttotal: 493ms\tremaining: 192ms\n",
      "72:\tlearn: 57382.5291349\ttest: 63244.2501404\tbest: 63244.2501404 (72)\ttotal: 499ms\tremaining: 184ms\n",
      "73:\tlearn: 57267.3353773\ttest: 63220.2896904\tbest: 63220.2896904 (73)\ttotal: 504ms\tremaining: 177ms\n",
      "74:\tlearn: 57115.6568693\ttest: 63324.4768742\tbest: 63220.2896904 (73)\ttotal: 511ms\tremaining: 170ms\n",
      "75:\tlearn: 57008.1042678\ttest: 63261.1945815\tbest: 63220.2896904 (73)\ttotal: 517ms\tremaining: 163ms\n",
      "76:\tlearn: 56874.1429436\ttest: 63303.5581331\tbest: 63220.2896904 (73)\ttotal: 524ms\tremaining: 157ms\n",
      "77:\tlearn: 56859.3251605\ttest: 63307.0245231\tbest: 63220.2896904 (73)\ttotal: 530ms\tremaining: 149ms\n",
      "78:\tlearn: 56771.9403910\ttest: 63340.3597475\tbest: 63220.2896904 (73)\ttotal: 536ms\tremaining: 142ms\n",
      "79:\tlearn: 56717.3101574\ttest: 63312.4126977\tbest: 63220.2896904 (73)\ttotal: 542ms\tremaining: 136ms\n",
      "80:\tlearn: 56608.8872022\ttest: 63248.3209884\tbest: 63220.2896904 (73)\ttotal: 549ms\tremaining: 129ms\n",
      "81:\tlearn: 56605.4166973\ttest: 63251.7610423\tbest: 63220.2896904 (73)\ttotal: 555ms\tremaining: 122ms\n",
      "82:\tlearn: 56554.7119595\ttest: 63277.4604905\tbest: 63220.2896904 (73)\ttotal: 561ms\tremaining: 115ms\n",
      "83:\tlearn: 56552.5312747\ttest: 63276.9544551\tbest: 63220.2896904 (73)\ttotal: 566ms\tremaining: 108ms\n",
      "84:\tlearn: 56482.1045933\ttest: 63272.2240984\tbest: 63220.2896904 (73)\ttotal: 572ms\tremaining: 101ms\n",
      "85:\tlearn: 56328.8268487\ttest: 63210.2817424\tbest: 63210.2817424 (85)\ttotal: 579ms\tremaining: 94.2ms\n",
      "86:\tlearn: 56231.3486678\ttest: 63256.4007357\tbest: 63210.2817424 (85)\ttotal: 589ms\tremaining: 88ms\n",
      "87:\tlearn: 56165.0299595\ttest: 63270.7256358\tbest: 63210.2817424 (85)\ttotal: 595ms\tremaining: 81.2ms\n",
      "88:\tlearn: 56109.8040742\ttest: 63189.2032561\tbest: 63189.2032561 (88)\ttotal: 602ms\tremaining: 74.4ms\n",
      "89:\tlearn: 56074.5377111\ttest: 63195.8603360\tbest: 63189.2032561 (88)\ttotal: 608ms\tremaining: 67.5ms\n",
      "90:\tlearn: 55966.8292806\ttest: 63217.5237147\tbest: 63189.2032561 (88)\ttotal: 614ms\tremaining: 60.7ms\n",
      "91:\tlearn: 55927.1414977\ttest: 63196.0517608\tbest: 63189.2032561 (88)\ttotal: 620ms\tremaining: 53.9ms\n",
      "92:\tlearn: 55922.5221655\ttest: 63198.8098372\tbest: 63189.2032561 (88)\ttotal: 625ms\tremaining: 47.1ms\n",
      "93:\tlearn: 55851.5245937\ttest: 63202.9343308\tbest: 63189.2032561 (88)\ttotal: 631ms\tremaining: 40.3ms\n",
      "94:\tlearn: 55764.6373166\ttest: 63160.9490004\tbest: 63160.9490004 (94)\ttotal: 637ms\tremaining: 33.5ms\n",
      "95:\tlearn: 55694.8352803\ttest: 63141.7933674\tbest: 63141.7933674 (95)\ttotal: 643ms\tremaining: 26.8ms\n",
      "96:\tlearn: 55635.2246790\ttest: 63138.2959982\tbest: 63138.2959982 (96)\ttotal: 649ms\tremaining: 20.1ms\n",
      "97:\tlearn: 55516.4698287\ttest: 63173.2643769\tbest: 63138.2959982 (96)\ttotal: 655ms\tremaining: 13.4ms\n",
      "98:\tlearn: 55457.0925902\ttest: 63189.4417237\tbest: 63138.2959982 (96)\ttotal: 661ms\tremaining: 6.68ms\n",
      "99:\tlearn: 55422.6957137\ttest: 63214.1419564\tbest: 63138.2959982 (96)\ttotal: 667ms\tremaining: 0us\n",
      "\n",
      "bestTest = 63138.296\n",
      "bestIteration = 96\n",
      "\n",
      "3:\tloss: 63138.2959982\tbest: 62174.7443748 (0)\ttotal: 2.87s\tremaining: 4.3s\n",
      "0:\tlearn: 116771.2701493\ttest: 116568.4245823\tbest: 116568.4245823 (0)\ttotal: 13.9ms\tremaining: 1.38s\n",
      "1:\tlearn: 81283.4672610\ttest: 82026.0047436\tbest: 82026.0047436 (1)\ttotal: 28.5ms\tremaining: 1.4s\n",
      "2:\tlearn: 74639.9107826\ttest: 76221.3573531\tbest: 76221.3573531 (2)\ttotal: 43.3ms\tremaining: 1.4s\n",
      "3:\tlearn: 71368.8166398\ttest: 72876.2302011\tbest: 72876.2302011 (3)\ttotal: 57.5ms\tremaining: 1.38s\n",
      "4:\tlearn: 69921.1332757\ttest: 71297.7406514\tbest: 71297.7406514 (4)\ttotal: 70.8ms\tremaining: 1.34s\n",
      "5:\tlearn: 68763.1068223\ttest: 70361.1148388\tbest: 70361.1148388 (5)\ttotal: 83.7ms\tremaining: 1.31s\n",
      "6:\tlearn: 68073.3190574\ttest: 69827.3020213\tbest: 69827.3020213 (6)\ttotal: 96.5ms\tremaining: 1.28s\n",
      "7:\tlearn: 67648.7289498\ttest: 69581.0053150\tbest: 69581.0053150 (7)\ttotal: 110ms\tremaining: 1.26s\n",
      "8:\tlearn: 67159.6512494\ttest: 69184.0843026\tbest: 69184.0843026 (8)\ttotal: 122ms\tremaining: 1.23s\n",
      "9:\tlearn: 66652.3754365\ttest: 68681.6511804\tbest: 68681.6511804 (9)\ttotal: 134ms\tremaining: 1.21s\n",
      "10:\tlearn: 66087.3783009\ttest: 68263.0456696\tbest: 68263.0456696 (10)\ttotal: 147ms\tremaining: 1.19s\n",
      "11:\tlearn: 66058.4273341\ttest: 68281.5467034\tbest: 68263.0456696 (10)\ttotal: 151ms\tremaining: 1.1s\n",
      "12:\tlearn: 65574.4726079\ttest: 67949.9313394\tbest: 67949.9313394 (12)\ttotal: 162ms\tremaining: 1.09s\n",
      "13:\tlearn: 64940.9661679\ttest: 67276.4295516\tbest: 67276.4295516 (13)\ttotal: 174ms\tremaining: 1.07s\n",
      "14:\tlearn: 64557.4659399\ttest: 66975.8151781\tbest: 66975.8151781 (14)\ttotal: 187ms\tremaining: 1.06s\n",
      "15:\tlearn: 64027.0492269\ttest: 66628.8952548\tbest: 66628.8952548 (15)\ttotal: 213ms\tremaining: 1.12s\n",
      "16:\tlearn: 63538.0099717\ttest: 66434.8521077\tbest: 66434.8521077 (16)\ttotal: 233ms\tremaining: 1.14s\n",
      "17:\tlearn: 63254.0020374\ttest: 66070.4245876\tbest: 66070.4245876 (17)\ttotal: 245ms\tremaining: 1.11s\n",
      "18:\tlearn: 62867.2826765\ttest: 65900.8911011\tbest: 65900.8911011 (18)\ttotal: 256ms\tremaining: 1.09s\n",
      "19:\tlearn: 62610.1883544\ttest: 65777.6536456\tbest: 65777.6536456 (19)\ttotal: 269ms\tremaining: 1.07s\n",
      "20:\tlearn: 62365.0745350\ttest: 65483.8719789\tbest: 65483.8719789 (20)\ttotal: 281ms\tremaining: 1.06s\n",
      "21:\tlearn: 62137.0606868\ttest: 65345.3010478\tbest: 65345.3010478 (21)\ttotal: 293ms\tremaining: 1.04s\n",
      "22:\tlearn: 61788.4347842\ttest: 65117.1221737\tbest: 65117.1221737 (22)\ttotal: 304ms\tremaining: 1.02s\n",
      "23:\tlearn: 61485.9836714\ttest: 64929.3766313\tbest: 64929.3766313 (23)\ttotal: 316ms\tremaining: 1000ms\n",
      "24:\tlearn: 61087.6822349\ttest: 64685.7733971\tbest: 64685.7733971 (24)\ttotal: 329ms\tremaining: 986ms\n",
      "25:\tlearn: 60825.0415622\ttest: 64546.8957024\tbest: 64546.8957024 (25)\ttotal: 340ms\tremaining: 969ms\n",
      "26:\tlearn: 60331.1817149\ttest: 64306.9684725\tbest: 64306.9684725 (26)\ttotal: 355ms\tremaining: 961ms\n",
      "27:\tlearn: 60027.7175500\ttest: 64197.9446322\tbest: 64197.9446322 (27)\ttotal: 367ms\tremaining: 945ms\n",
      "28:\tlearn: 59811.6654518\ttest: 64111.0653729\tbest: 64111.0653729 (28)\ttotal: 380ms\tremaining: 929ms\n",
      "29:\tlearn: 59510.8463274\ttest: 64093.8396200\tbest: 64093.8396200 (29)\ttotal: 392ms\tremaining: 914ms\n",
      "30:\tlearn: 59308.6082372\ttest: 63976.5724815\tbest: 63976.5724815 (30)\ttotal: 404ms\tremaining: 899ms\n",
      "31:\tlearn: 58989.3837340\ttest: 63868.7033642\tbest: 63868.7033642 (31)\ttotal: 416ms\tremaining: 884ms\n",
      "32:\tlearn: 58682.3179416\ttest: 63817.3828523\tbest: 63817.3828523 (32)\ttotal: 428ms\tremaining: 870ms\n",
      "33:\tlearn: 58493.7565222\ttest: 63728.3733772\tbest: 63728.3733772 (33)\ttotal: 440ms\tremaining: 855ms\n",
      "34:\tlearn: 58233.5220872\ttest: 63668.6442781\tbest: 63668.6442781 (34)\ttotal: 453ms\tremaining: 841ms\n",
      "35:\tlearn: 58104.2068398\ttest: 63628.9275367\tbest: 63628.9275367 (35)\ttotal: 465ms\tremaining: 827ms\n",
      "36:\tlearn: 58025.9216607\ttest: 63631.3585432\tbest: 63628.9275367 (35)\ttotal: 477ms\tremaining: 813ms\n",
      "37:\tlearn: 57899.3393122\ttest: 63579.7476223\tbest: 63579.7476223 (37)\ttotal: 489ms\tremaining: 798ms\n",
      "38:\tlearn: 57739.7359123\ttest: 63499.5173782\tbest: 63499.5173782 (38)\ttotal: 502ms\tremaining: 785ms\n",
      "39:\tlearn: 57541.2823660\ttest: 63439.6357846\tbest: 63439.6357846 (39)\ttotal: 514ms\tremaining: 771ms\n",
      "40:\tlearn: 57479.2040317\ttest: 63404.8598213\tbest: 63404.8598213 (40)\ttotal: 526ms\tremaining: 756ms\n",
      "41:\tlearn: 57283.4526100\ttest: 63359.4493229\tbest: 63359.4493229 (41)\ttotal: 537ms\tremaining: 742ms\n",
      "42:\tlearn: 56988.4275016\ttest: 63345.5219500\tbest: 63345.5219500 (42)\ttotal: 550ms\tremaining: 729ms\n",
      "43:\tlearn: 56776.2928960\ttest: 63375.9297376\tbest: 63345.5219500 (42)\ttotal: 562ms\tremaining: 716ms\n",
      "44:\tlearn: 56605.5814160\ttest: 63393.6216810\tbest: 63345.5219500 (42)\ttotal: 575ms\tremaining: 703ms\n",
      "45:\tlearn: 56478.2997907\ttest: 63207.0838952\tbest: 63207.0838952 (45)\ttotal: 586ms\tremaining: 688ms\n",
      "46:\tlearn: 56323.2808723\ttest: 63122.1874172\tbest: 63122.1874172 (46)\ttotal: 598ms\tremaining: 674ms\n",
      "47:\tlearn: 56184.4939229\ttest: 63185.7956640\tbest: 63122.1874172 (46)\ttotal: 610ms\tremaining: 660ms\n",
      "48:\tlearn: 56034.9960840\ttest: 63116.7611227\tbest: 63116.7611227 (48)\ttotal: 622ms\tremaining: 647ms\n",
      "49:\tlearn: 55964.8977271\ttest: 63046.3339258\tbest: 63046.3339258 (49)\ttotal: 634ms\tremaining: 634ms\n",
      "50:\tlearn: 55896.8642245\ttest: 63050.7215088\tbest: 63046.3339258 (49)\ttotal: 645ms\tremaining: 620ms\n",
      "51:\tlearn: 55891.6247701\ttest: 63049.0988367\tbest: 63046.3339258 (49)\ttotal: 656ms\tremaining: 605ms\n",
      "52:\tlearn: 55765.6628162\ttest: 63019.4120321\tbest: 63019.4120321 (52)\ttotal: 668ms\tremaining: 592ms\n",
      "53:\tlearn: 55562.3954986\ttest: 63014.1058520\tbest: 63014.1058520 (53)\ttotal: 680ms\tremaining: 579ms\n",
      "54:\tlearn: 55370.1267931\ttest: 63019.5888561\tbest: 63014.1058520 (53)\ttotal: 692ms\tremaining: 566ms\n",
      "55:\tlearn: 55239.6265454\ttest: 62989.7337177\tbest: 62989.7337177 (55)\ttotal: 705ms\tremaining: 554ms\n",
      "56:\tlearn: 55138.4025302\ttest: 62962.4161391\tbest: 62962.4161391 (56)\ttotal: 717ms\tremaining: 541ms\n",
      "57:\tlearn: 55129.8447353\ttest: 62963.6257215\tbest: 62962.4161391 (56)\ttotal: 727ms\tremaining: 527ms\n",
      "58:\tlearn: 55022.2093429\ttest: 62943.1254449\tbest: 62943.1254449 (58)\ttotal: 739ms\tremaining: 513ms\n",
      "59:\tlearn: 54853.2222738\ttest: 62875.9739154\tbest: 62875.9739154 (59)\ttotal: 752ms\tremaining: 501ms\n",
      "60:\tlearn: 54735.7555539\ttest: 62877.3678495\tbest: 62875.9739154 (59)\ttotal: 766ms\tremaining: 489ms\n",
      "61:\tlearn: 54522.9576750\ttest: 62873.2541533\tbest: 62873.2541533 (61)\ttotal: 778ms\tremaining: 477ms\n",
      "62:\tlearn: 54408.3271115\ttest: 62855.1950595\tbest: 62855.1950595 (62)\ttotal: 790ms\tremaining: 464ms\n",
      "63:\tlearn: 54316.7495779\ttest: 62912.8973282\tbest: 62855.1950595 (62)\ttotal: 801ms\tremaining: 451ms\n",
      "64:\tlearn: 54194.4837735\ttest: 62770.4378217\tbest: 62770.4378217 (64)\ttotal: 813ms\tremaining: 438ms\n",
      "65:\tlearn: 54080.2948117\ttest: 62759.3639663\tbest: 62759.3639663 (65)\ttotal: 825ms\tremaining: 425ms\n",
      "66:\tlearn: 53897.5502108\ttest: 62685.9024968\tbest: 62685.9024968 (66)\ttotal: 837ms\tremaining: 412ms\n",
      "67:\tlearn: 53789.3046821\ttest: 62687.9816411\tbest: 62685.9024968 (66)\ttotal: 849ms\tremaining: 399ms\n",
      "68:\tlearn: 53710.0451220\ttest: 62695.6700834\tbest: 62685.9024968 (66)\ttotal: 860ms\tremaining: 387ms\n",
      "69:\tlearn: 53579.2018145\ttest: 62674.8928673\tbest: 62674.8928673 (69)\ttotal: 872ms\tremaining: 374ms\n",
      "70:\tlearn: 53427.9753801\ttest: 62644.9330483\tbest: 62644.9330483 (70)\ttotal: 884ms\tremaining: 361ms\n",
      "71:\tlearn: 53218.0568552\ttest: 62605.2875933\tbest: 62605.2875933 (71)\ttotal: 896ms\tremaining: 348ms\n",
      "72:\tlearn: 53095.2396367\ttest: 62580.6174106\tbest: 62580.6174106 (72)\ttotal: 907ms\tremaining: 336ms\n",
      "73:\tlearn: 53091.1968591\ttest: 62584.1977664\tbest: 62580.6174106 (72)\ttotal: 918ms\tremaining: 323ms\n",
      "74:\tlearn: 52964.0760906\ttest: 62612.9710348\tbest: 62580.6174106 (72)\ttotal: 931ms\tremaining: 310ms\n",
      "75:\tlearn: 52961.5563680\ttest: 62616.3619683\tbest: 62580.6174106 (72)\ttotal: 943ms\tremaining: 298ms\n",
      "76:\tlearn: 52723.4879036\ttest: 62589.7849681\tbest: 62580.6174106 (72)\ttotal: 956ms\tremaining: 286ms\n",
      "77:\tlearn: 52643.0308488\ttest: 62568.2274508\tbest: 62568.2274508 (77)\ttotal: 969ms\tremaining: 273ms\n",
      "78:\tlearn: 52495.5804866\ttest: 62556.8513549\tbest: 62556.8513549 (78)\ttotal: 981ms\tremaining: 261ms\n",
      "79:\tlearn: 52266.8223502\ttest: 62529.3259603\tbest: 62529.3259603 (79)\ttotal: 994ms\tremaining: 248ms\n",
      "80:\tlearn: 52197.3723495\ttest: 62550.3779760\tbest: 62529.3259603 (79)\ttotal: 1s\tremaining: 236ms\n",
      "81:\tlearn: 52078.2064387\ttest: 62638.6610140\tbest: 62529.3259603 (79)\ttotal: 1.02s\tremaining: 224ms\n",
      "82:\tlearn: 51927.4901238\ttest: 62620.4087237\tbest: 62529.3259603 (79)\ttotal: 1.03s\tremaining: 211ms\n",
      "83:\tlearn: 51911.5734007\ttest: 62614.1217704\tbest: 62529.3259603 (79)\ttotal: 1.04s\tremaining: 199ms\n",
      "84:\tlearn: 51733.3204093\ttest: 62605.6387525\tbest: 62529.3259603 (79)\ttotal: 1.06s\tremaining: 187ms\n",
      "85:\tlearn: 51634.0784159\ttest: 62581.6019463\tbest: 62529.3259603 (79)\ttotal: 1.07s\tremaining: 174ms\n",
      "86:\tlearn: 51567.2863330\ttest: 62582.0523732\tbest: 62529.3259603 (79)\ttotal: 1.08s\tremaining: 162ms\n",
      "87:\tlearn: 51434.2181991\ttest: 62560.5827859\tbest: 62529.3259603 (79)\ttotal: 1.09s\tremaining: 149ms\n",
      "88:\tlearn: 51313.6605913\ttest: 62503.3349354\tbest: 62503.3349354 (88)\ttotal: 1.11s\tremaining: 137ms\n",
      "89:\tlearn: 51216.3138929\ttest: 62504.8445358\tbest: 62503.3349354 (88)\ttotal: 1.13s\tremaining: 125ms\n",
      "90:\tlearn: 51161.5733376\ttest: 62528.9607206\tbest: 62503.3349354 (88)\ttotal: 1.14s\tremaining: 113ms\n",
      "91:\tlearn: 50962.2912871\ttest: 62561.6534777\tbest: 62503.3349354 (88)\ttotal: 1.15s\tremaining: 100ms\n",
      "92:\tlearn: 50882.3699623\ttest: 62573.9306087\tbest: 62503.3349354 (88)\ttotal: 1.17s\tremaining: 87.9ms\n",
      "93:\tlearn: 50769.6534106\ttest: 62570.9918934\tbest: 62503.3349354 (88)\ttotal: 1.18s\tremaining: 75.5ms\n",
      "94:\tlearn: 50631.1650848\ttest: 62506.9645721\tbest: 62503.3349354 (88)\ttotal: 1.2s\tremaining: 63ms\n",
      "95:\tlearn: 50492.1530191\ttest: 62402.8249609\tbest: 62402.8249609 (95)\ttotal: 1.22s\tremaining: 50.6ms\n",
      "96:\tlearn: 50350.9109769\ttest: 62413.7066110\tbest: 62402.8249609 (95)\ttotal: 1.23s\tremaining: 38ms\n",
      "97:\tlearn: 50274.3361244\ttest: 62435.0748715\tbest: 62402.8249609 (95)\ttotal: 1.24s\tremaining: 25.4ms\n",
      "98:\tlearn: 50237.9378799\ttest: 62469.7756919\tbest: 62402.8249609 (95)\ttotal: 1.26s\tremaining: 12.7ms\n",
      "99:\tlearn: 50099.0423532\ttest: 62432.9065639\tbest: 62402.8249609 (95)\ttotal: 1.27s\tremaining: 0us\n",
      "\n",
      "bestTest = 62402.82496\n",
      "bestIteration = 95\n",
      "\n",
      "4:\tloss: 62402.8249609\tbest: 62174.7443748 (0)\ttotal: 4.15s\tremaining: 4.15s\n",
      "0:\tlearn: 434372.8708973\ttest: 434843.7326944\tbest: 434843.7326944 (0)\ttotal: 27.2ms\tremaining: 2.69s\n",
      "1:\tlearn: 430246.4442187\ttest: 430717.0029814\tbest: 430717.0029814 (1)\ttotal: 49.3ms\tremaining: 2.41s\n",
      "2:\tlearn: 426213.4791426\ttest: 426680.5104458\tbest: 426680.5104458 (2)\ttotal: 57.9ms\tremaining: 1.87s\n",
      "3:\tlearn: 422187.5226540\ttest: 422658.5575543\tbest: 422658.5575543 (3)\ttotal: 82.9ms\tremaining: 1.99s\n",
      "4:\tlearn: 418225.5118606\ttest: 418700.8254128\tbest: 418700.8254128 (4)\ttotal: 107ms\tremaining: 2.03s\n",
      "5:\tlearn: 414275.6646233\ttest: 414755.3947392\tbest: 414755.3947392 (5)\ttotal: 111ms\tremaining: 1.73s\n",
      "6:\tlearn: 410389.5131675\ttest: 410862.2840762\tbest: 410862.2840762 (6)\ttotal: 119ms\tremaining: 1.59s\n",
      "7:\tlearn: 406559.6266790\ttest: 407027.6027161\tbest: 407027.6027161 (7)\ttotal: 123ms\tremaining: 1.41s\n",
      "8:\tlearn: 402774.0839190\ttest: 403239.7771997\tbest: 403239.7771997 (8)\ttotal: 129ms\tremaining: 1.3s\n",
      "9:\tlearn: 398987.5854528\ttest: 399458.3363180\tbest: 399458.3363180 (9)\ttotal: 150ms\tremaining: 1.35s\n",
      "10:\tlearn: 395283.4194457\ttest: 395751.7093045\tbest: 395751.7093045 (10)\ttotal: 155ms\tremaining: 1.25s\n",
      "11:\tlearn: 391562.5072283\ttest: 392035.4844064\tbest: 392035.4844064 (11)\ttotal: 176ms\tremaining: 1.29s\n",
      "12:\tlearn: 387889.3843895\ttest: 388358.4038574\tbest: 388358.4038574 (12)\ttotal: 185ms\tremaining: 1.24s\n",
      "13:\tlearn: 384254.7939927\ttest: 384721.3990079\tbest: 384721.3990079 (13)\ttotal: 206ms\tremaining: 1.26s\n",
      "14:\tlearn: 380709.4159163\ttest: 381176.8780609\tbest: 381176.8780609 (14)\ttotal: 234ms\tremaining: 1.33s\n",
      "15:\tlearn: 377159.1196682\ttest: 377629.8151687\tbest: 377629.8151687 (15)\ttotal: 253ms\tremaining: 1.33s\n",
      "16:\tlearn: 373691.4872372\ttest: 374160.7587005\tbest: 374160.7587005 (16)\ttotal: 273ms\tremaining: 1.33s\n",
      "17:\tlearn: 370215.9597160\ttest: 370685.6120675\tbest: 370685.6120675 (17)\ttotal: 294ms\tremaining: 1.34s\n",
      "18:\tlearn: 366776.9048025\ttest: 367248.2527847\tbest: 367248.2527847 (18)\ttotal: 319ms\tremaining: 1.36s\n",
      "19:\tlearn: 363408.4249196\ttest: 363877.8314916\tbest: 363877.8314916 (19)\ttotal: 323ms\tremaining: 1.29s\n",
      "20:\tlearn: 360034.3313467\ttest: 360507.4057773\tbest: 360507.4057773 (20)\ttotal: 341ms\tremaining: 1.28s\n",
      "21:\tlearn: 356741.2669624\ttest: 357213.9230414\tbest: 357213.9230414 (21)\ttotal: 354ms\tremaining: 1.25s\n",
      "22:\tlearn: 353452.1230252\ttest: 353933.7585874\tbest: 353933.7585874 (22)\ttotal: 374ms\tremaining: 1.25s\n",
      "23:\tlearn: 350188.4097662\ttest: 350669.2365618\tbest: 350669.2365618 (23)\ttotal: 380ms\tremaining: 1.2s\n",
      "24:\tlearn: 346953.2015230\ttest: 347437.5767478\tbest: 347437.5767478 (24)\ttotal: 386ms\tremaining: 1.16s\n",
      "25:\tlearn: 343756.2656845\ttest: 344239.5142405\tbest: 344239.5142405 (25)\ttotal: 392ms\tremaining: 1.11s\n",
      "26:\tlearn: 340594.6718680\ttest: 341079.0483217\tbest: 341079.0483217 (26)\ttotal: 413ms\tremaining: 1.11s\n",
      "27:\tlearn: 337455.3080801\ttest: 337938.8025322\tbest: 337938.8025322 (27)\ttotal: 424ms\tremaining: 1.09s\n",
      "28:\tlearn: 334332.3791710\ttest: 334819.9160495\tbest: 334819.9160495 (28)\ttotal: 436ms\tremaining: 1.07s\n",
      "29:\tlearn: 331261.3243068\ttest: 331748.4012575\tbest: 331748.4012575 (29)\ttotal: 445ms\tremaining: 1.04s\n",
      "30:\tlearn: 328231.8792168\ttest: 328718.9059418\tbest: 328718.9059418 (30)\ttotal: 464ms\tremaining: 1.03s\n",
      "31:\tlearn: 325236.5475656\ttest: 325728.8188110\tbest: 325728.8188110 (31)\ttotal: 485ms\tremaining: 1.03s\n",
      "32:\tlearn: 322311.2753276\ttest: 322800.0346130\tbest: 322800.0346130 (32)\ttotal: 487ms\tremaining: 989ms\n",
      "33:\tlearn: 319375.9124172\ttest: 319862.9314590\tbest: 319862.9314590 (33)\ttotal: 498ms\tremaining: 967ms\n",
      "34:\tlearn: 316491.5326144\ttest: 316971.7895915\tbest: 316971.7895915 (34)\ttotal: 502ms\tremaining: 933ms\n",
      "35:\tlearn: 313618.6133702\ttest: 314099.3476303\tbest: 314099.3476303 (35)\ttotal: 522ms\tremaining: 928ms\n",
      "36:\tlearn: 310780.5761313\ttest: 311262.9043905\tbest: 311262.9043905 (36)\ttotal: 534ms\tremaining: 909ms\n",
      "37:\tlearn: 307971.0140378\ttest: 308449.8492136\tbest: 308449.8492136 (37)\ttotal: 554ms\tremaining: 903ms\n",
      "38:\tlearn: 305231.6856255\ttest: 305706.9679488\tbest: 305706.9679488 (38)\ttotal: 556ms\tremaining: 870ms\n",
      "39:\tlearn: 302473.5547862\ttest: 302948.5562599\tbest: 302948.5562599 (39)\ttotal: 575ms\tremaining: 862ms\n",
      "40:\tlearn: 299771.3101226\ttest: 300241.5709859\tbest: 300241.5709859 (40)\ttotal: 582ms\tremaining: 838ms\n",
      "41:\tlearn: 297101.5033514\ttest: 297565.2917053\tbest: 297565.2917053 (41)\ttotal: 586ms\tremaining: 809ms\n",
      "42:\tlearn: 294435.6582156\ttest: 294896.7671094\tbest: 294896.7671094 (42)\ttotal: 597ms\tremaining: 791ms\n",
      "43:\tlearn: 291830.0252859\ttest: 292290.6209646\tbest: 292290.6209646 (43)\ttotal: 616ms\tremaining: 784ms\n",
      "44:\tlearn: 289229.4979718\ttest: 289687.5654018\tbest: 289687.5654018 (44)\ttotal: 619ms\tremaining: 757ms\n",
      "45:\tlearn: 286695.0215377\ttest: 287149.2697065\tbest: 287149.2697065 (45)\ttotal: 621ms\tremaining: 729ms\n",
      "46:\tlearn: 284117.3261489\ttest: 284565.3641223\tbest: 284565.3641223 (46)\ttotal: 640ms\tremaining: 722ms\n",
      "47:\tlearn: 281583.5956822\ttest: 282032.6491965\tbest: 282032.6491965 (47)\ttotal: 657ms\tremaining: 712ms\n",
      "48:\tlearn: 279081.1072610\ttest: 279531.4425259\tbest: 279531.4425259 (48)\ttotal: 677ms\tremaining: 704ms\n",
      "49:\tlearn: 276607.4544460\ttest: 277053.2311948\tbest: 277053.2311948 (49)\ttotal: 695ms\tremaining: 695ms\n",
      "50:\tlearn: 274206.1123316\ttest: 274646.8416144\tbest: 274646.8416144 (50)\ttotal: 698ms\tremaining: 671ms\n",
      "51:\tlearn: 271793.6676427\ttest: 272237.9188569\tbest: 272237.9188569 (51)\ttotal: 707ms\tremaining: 653ms\n",
      "52:\tlearn: 269439.3763152\ttest: 269878.4670264\tbest: 269878.4670264 (52)\ttotal: 716ms\tremaining: 635ms\n",
      "53:\tlearn: 267041.3228961\ttest: 267483.7799439\tbest: 267483.7799439 (53)\ttotal: 736ms\tremaining: 627ms\n",
      "54:\tlearn: 264734.1869326\ttest: 265178.3621606\tbest: 265178.3621606 (54)\ttotal: 760ms\tremaining: 622ms\n",
      "55:\tlearn: 262406.3691380\ttest: 262852.1526514\tbest: 262852.1526514 (55)\ttotal: 779ms\tremaining: 612ms\n",
      "56:\tlearn: 260160.6678255\ttest: 260601.5963850\tbest: 260601.5963850 (56)\ttotal: 782ms\tremaining: 590ms\n",
      "57:\tlearn: 257907.1720285\ttest: 258344.4301120\tbest: 258344.4301120 (57)\ttotal: 802ms\tremaining: 581ms\n",
      "58:\tlearn: 255628.2214712\ttest: 256070.5568527\tbest: 256070.5568527 (58)\ttotal: 811ms\tremaining: 564ms\n",
      "59:\tlearn: 253412.0975155\ttest: 253852.6957058\tbest: 253852.6957058 (59)\ttotal: 818ms\tremaining: 546ms\n",
      "60:\tlearn: 251195.7583737\ttest: 251639.9411187\tbest: 251639.9411187 (60)\ttotal: 837ms\tremaining: 535ms\n",
      "61:\tlearn: 249031.7418038\ttest: 249478.4460133\tbest: 249478.4460133 (61)\ttotal: 857ms\tremaining: 525ms\n",
      "62:\tlearn: 246891.7046604\ttest: 247342.3260101\tbest: 247342.3260101 (62)\ttotal: 874ms\tremaining: 513ms\n",
      "63:\tlearn: 244813.8929534\ttest: 245261.9781305\tbest: 245261.9781305 (63)\ttotal: 878ms\tremaining: 494ms\n",
      "64:\tlearn: 242716.3645434\ttest: 243160.3687115\tbest: 243160.3687115 (64)\ttotal: 898ms\tremaining: 483ms\n",
      "65:\tlearn: 240642.0034347\ttest: 241091.1015999\tbest: 241091.1015999 (65)\ttotal: 906ms\tremaining: 467ms\n",
      "66:\tlearn: 238567.0044943\ttest: 239018.7937714\tbest: 239018.7937714 (66)\ttotal: 926ms\tremaining: 456ms\n",
      "67:\tlearn: 236540.5738410\ttest: 236992.3219771\tbest: 236992.3219771 (67)\ttotal: 946ms\tremaining: 445ms\n",
      "68:\tlearn: 234502.9372561\ttest: 234959.0828796\tbest: 234959.0828796 (68)\ttotal: 966ms\tremaining: 434ms\n",
      "69:\tlearn: 232515.4383801\ttest: 232976.0622216\tbest: 232976.0622216 (69)\ttotal: 978ms\tremaining: 419ms\n",
      "70:\tlearn: 230509.2273722\ttest: 230970.5259336\tbest: 230970.5259336 (70)\ttotal: 998ms\tremaining: 408ms\n",
      "71:\tlearn: 228598.9802185\ttest: 229055.0189758\tbest: 229055.0189758 (71)\ttotal: 1.02s\tremaining: 396ms\n",
      "72:\tlearn: 226663.3615574\ttest: 227123.8853802\tbest: 227123.8853802 (72)\ttotal: 1.04s\tremaining: 383ms\n",
      "73:\tlearn: 224738.7207015\ttest: 225201.5677051\tbest: 225201.5677051 (73)\ttotal: 1.06s\tremaining: 371ms\n",
      "74:\tlearn: 222865.5278741\ttest: 223324.5729486\tbest: 223324.5729486 (74)\ttotal: 1.08s\tremaining: 359ms\n",
      "75:\tlearn: 220972.8074972\ttest: 221429.5455227\tbest: 221429.5455227 (75)\ttotal: 1.1s\tremaining: 347ms\n",
      "76:\tlearn: 219156.4671313\ttest: 219609.7259683\tbest: 219609.7259683 (76)\ttotal: 1.12s\tremaining: 334ms\n",
      "77:\tlearn: 217391.2592521\ttest: 217841.7496308\tbest: 217841.7496308 (77)\ttotal: 1.12s\tremaining: 316ms\n",
      "78:\tlearn: 215590.9185457\ttest: 216040.3123801\tbest: 216040.3123801 (78)\ttotal: 1.14s\tremaining: 304ms\n",
      "79:\tlearn: 213794.7515929\ttest: 214245.4782483\tbest: 214245.4782483 (79)\ttotal: 1.15s\tremaining: 287ms\n",
      "80:\tlearn: 211978.6117193\ttest: 212427.3597621\tbest: 212427.3597621 (80)\ttotal: 1.17s\tremaining: 274ms\n",
      "81:\tlearn: 210237.9768940\ttest: 210686.1070756\tbest: 210686.1070756 (81)\ttotal: 1.19s\tremaining: 261ms\n",
      "82:\tlearn: 208477.1488108\ttest: 208927.2824201\tbest: 208927.2824201 (82)\ttotal: 1.21s\tremaining: 247ms\n",
      "83:\tlearn: 206747.4331913\ttest: 207195.0602004\tbest: 207195.0602004 (83)\ttotal: 1.23s\tremaining: 234ms\n",
      "84:\tlearn: 205094.3707615\ttest: 205538.7491350\tbest: 205538.7491350 (84)\ttotal: 1.25s\tremaining: 220ms\n",
      "85:\tlearn: 203463.7089669\ttest: 203901.0153935\tbest: 203901.0153935 (85)\ttotal: 1.25s\tremaining: 204ms\n",
      "86:\tlearn: 201836.2672412\ttest: 202271.6948248\tbest: 202271.6948248 (86)\ttotal: 1.27s\tremaining: 190ms\n",
      "87:\tlearn: 200160.3502978\ttest: 200600.7307040\tbest: 200600.7307040 (87)\ttotal: 1.29s\tremaining: 176ms\n",
      "88:\tlearn: 198516.7161648\ttest: 198961.2584906\tbest: 198961.2584906 (88)\ttotal: 1.31s\tremaining: 162ms\n",
      "89:\tlearn: 196979.4753129\ttest: 197420.9816668\tbest: 197420.9816668 (89)\ttotal: 1.31s\tremaining: 146ms\n",
      "90:\tlearn: 195429.8734235\ttest: 195872.2179004\tbest: 195872.2179004 (90)\ttotal: 1.32s\tremaining: 130ms\n",
      "91:\tlearn: 193839.7857810\ttest: 194286.0573541\tbest: 194286.0573541 (91)\ttotal: 1.34s\tremaining: 116ms\n",
      "92:\tlearn: 192312.5767134\ttest: 192761.3794611\tbest: 192761.3794611 (92)\ttotal: 1.36s\tremaining: 102ms\n",
      "93:\tlearn: 190783.7079180\ttest: 191235.0626492\tbest: 191235.0626492 (93)\ttotal: 1.38s\tremaining: 88.1ms\n",
      "94:\tlearn: 189292.1818399\ttest: 189745.9532473\tbest: 189745.9532473 (94)\ttotal: 1.38s\tremaining: 72.9ms\n",
      "95:\tlearn: 187847.0168539\ttest: 188295.9251449\tbest: 188295.9251449 (95)\ttotal: 1.4s\tremaining: 58.5ms\n",
      "96:\tlearn: 186384.9321728\ttest: 186836.7404687\tbest: 186836.7404687 (96)\ttotal: 1.42s\tremaining: 44ms\n",
      "97:\tlearn: 184933.2005777\ttest: 185383.6878844\tbest: 185383.6878844 (97)\ttotal: 1.43s\tremaining: 29.1ms\n",
      "98:\tlearn: 183476.4298323\ttest: 183927.0707698\tbest: 183927.0707698 (98)\ttotal: 1.45s\tremaining: 14.6ms\n",
      "99:\tlearn: 182024.8916108\ttest: 182474.3369795\tbest: 182474.3369795 (99)\ttotal: 1.47s\tremaining: 0us\n",
      "\n",
      "bestTest = 182474.337\n",
      "bestIteration = 99\n",
      "\n",
      "5:\tloss: 182474.3369795\tbest: 62174.7443748 (0)\ttotal: 5.63s\tremaining: 3.75s\n",
      "0:\tlearn: 243465.0839581\ttest: 243645.9694586\tbest: 243645.9694586 (0)\ttotal: 578ms\tremaining: 57.2s\n",
      "1:\tlearn: 144379.2915302\ttest: 144615.0113274\tbest: 144615.0113274 (1)\ttotal: 583ms\tremaining: 28.6s\n",
      "2:\tlearn: 102364.5662798\ttest: 103146.5488864\tbest: 103146.5488864 (2)\ttotal: 1.09s\tremaining: 35.1s\n",
      "3:\tlearn: 86549.4555732\ttest: 87361.1410461\tbest: 87361.1410461 (3)\ttotal: 1.34s\tremaining: 32.1s\n",
      "4:\tlearn: 78849.7676899\ttest: 79956.7922761\tbest: 79956.7922761 (4)\ttotal: 1.94s\tremaining: 36.9s\n",
      "5:\tlearn: 72085.5376882\ttest: 74263.3239343\tbest: 74263.3239343 (5)\ttotal: 2.45s\tremaining: 38.5s\n",
      "6:\tlearn: 68588.7896914\ttest: 71437.9858183\tbest: 71437.9858183 (6)\ttotal: 3s\tremaining: 39.9s\n",
      "7:\tlearn: 67241.6421497\ttest: 70592.4024018\tbest: 70592.4024018 (7)\ttotal: 3.49s\tremaining: 40.1s\n",
      "8:\tlearn: 65707.6862560\ttest: 69615.6927891\tbest: 69615.6927891 (8)\ttotal: 3.99s\tremaining: 40.3s\n",
      "9:\tlearn: 65034.0724470\ttest: 69130.4362826\tbest: 69130.4362826 (9)\ttotal: 4.52s\tremaining: 40.7s\n",
      "10:\tlearn: 64210.7904921\ttest: 68617.7504223\tbest: 68617.7504223 (10)\ttotal: 5.03s\tremaining: 40.7s\n",
      "11:\tlearn: 63809.1234918\ttest: 68416.5463307\tbest: 68416.5463307 (11)\ttotal: 5.53s\tremaining: 40.5s\n",
      "12:\tlearn: 63220.6040670\ttest: 68023.7976709\tbest: 68023.7976709 (12)\ttotal: 6.02s\tremaining: 40.3s\n",
      "13:\tlearn: 62709.6680534\ttest: 67696.5370300\tbest: 67696.5370300 (13)\ttotal: 6.52s\tremaining: 40.1s\n",
      "14:\tlearn: 61577.7651205\ttest: 66836.6430618\tbest: 66836.6430618 (14)\ttotal: 7.03s\tremaining: 39.9s\n",
      "15:\tlearn: 60940.2387706\ttest: 66500.0487047\tbest: 66500.0487047 (15)\ttotal: 7.61s\tremaining: 39.9s\n",
      "16:\tlearn: 60241.3001682\ttest: 66236.1291104\tbest: 66236.1291104 (16)\ttotal: 8.12s\tremaining: 39.6s\n",
      "17:\tlearn: 59836.1185526\ttest: 66098.5596080\tbest: 66098.5596080 (17)\ttotal: 8.62s\tremaining: 39.3s\n",
      "18:\tlearn: 59435.9079859\ttest: 65890.5701987\tbest: 65890.5701987 (18)\ttotal: 9.16s\tremaining: 39.1s\n",
      "19:\tlearn: 58982.8113371\ttest: 65762.5256090\tbest: 65762.5256090 (19)\ttotal: 9.67s\tremaining: 38.7s\n",
      "20:\tlearn: 58712.0399846\ttest: 65687.4783231\tbest: 65687.4783231 (20)\ttotal: 10.2s\tremaining: 38.3s\n",
      "21:\tlearn: 58098.8689823\ttest: 65473.6638987\tbest: 65473.6638987 (21)\ttotal: 10.7s\tremaining: 37.9s\n",
      "22:\tlearn: 57755.3378560\ttest: 65349.2690467\tbest: 65349.2690467 (22)\ttotal: 11.2s\tremaining: 37.4s\n",
      "23:\tlearn: 57554.2445293\ttest: 65291.9025206\tbest: 65291.9025206 (23)\ttotal: 11.7s\tremaining: 37.1s\n",
      "24:\tlearn: 57092.1786127\ttest: 65262.3631139\tbest: 65262.3631139 (24)\ttotal: 12.2s\tremaining: 36.6s\n",
      "25:\tlearn: 56247.0401423\ttest: 64934.7647529\tbest: 64934.7647529 (25)\ttotal: 12.7s\tremaining: 36.2s\n",
      "26:\tlearn: 55676.6598525\ttest: 64787.1975630\tbest: 64787.1975630 (26)\ttotal: 13.2s\tremaining: 35.7s\n",
      "27:\tlearn: 55340.9340333\ttest: 64610.8765557\tbest: 64610.8765557 (27)\ttotal: 13.7s\tremaining: 35.2s\n",
      "28:\tlearn: 54979.4389399\ttest: 64490.5684905\tbest: 64490.5684905 (28)\ttotal: 14.2s\tremaining: 34.8s\n",
      "29:\tlearn: 54257.3326797\ttest: 64291.7073809\tbest: 64291.7073809 (29)\ttotal: 14.7s\tremaining: 34.4s\n",
      "30:\tlearn: 53780.2584664\ttest: 64140.1968479\tbest: 64140.1968479 (30)\ttotal: 15.3s\tremaining: 34s\n",
      "31:\tlearn: 53167.3475698\ttest: 63899.8090508\tbest: 63899.8090508 (31)\ttotal: 15.8s\tremaining: 33.5s\n",
      "32:\tlearn: 52722.7658283\ttest: 63787.6790624\tbest: 63787.6790624 (32)\ttotal: 16.3s\tremaining: 33s\n",
      "33:\tlearn: 52430.1836365\ttest: 63763.5094560\tbest: 63763.5094560 (33)\ttotal: 16.8s\tremaining: 32.6s\n",
      "34:\tlearn: 51962.5380866\ttest: 63691.2169131\tbest: 63691.2169131 (34)\ttotal: 17.3s\tremaining: 32.1s\n",
      "35:\tlearn: 51813.0275539\ttest: 63592.5991718\tbest: 63592.5991718 (35)\ttotal: 17.8s\tremaining: 31.6s\n",
      "36:\tlearn: 51254.9507243\ttest: 63497.5974596\tbest: 63497.5974596 (36)\ttotal: 18.3s\tremaining: 31.1s\n",
      "37:\tlearn: 50850.2135827\ttest: 63445.1322821\tbest: 63445.1322821 (37)\ttotal: 18.8s\tremaining: 30.6s\n",
      "38:\tlearn: 50721.5500692\ttest: 63395.7221015\tbest: 63395.7221015 (38)\ttotal: 19.2s\tremaining: 30.1s\n",
      "39:\tlearn: 50202.4486290\ttest: 63128.3964532\tbest: 63128.3964532 (39)\ttotal: 19.7s\tremaining: 29.6s\n",
      "40:\tlearn: 50035.5563515\ttest: 63069.9464367\tbest: 63069.9464367 (40)\ttotal: 20.2s\tremaining: 29.1s\n",
      "41:\tlearn: 49660.3359619\ttest: 62964.7035999\tbest: 62964.7035999 (41)\ttotal: 20.8s\tremaining: 28.7s\n",
      "42:\tlearn: 49431.9780524\ttest: 62943.6003531\tbest: 62943.6003531 (42)\ttotal: 21.3s\tremaining: 28.2s\n",
      "43:\tlearn: 49150.6252405\ttest: 62891.2228757\tbest: 62891.2228757 (43)\ttotal: 21.8s\tremaining: 27.8s\n",
      "44:\tlearn: 48878.3684228\ttest: 62755.0594724\tbest: 62755.0594724 (44)\ttotal: 22.3s\tremaining: 27.3s\n",
      "45:\tlearn: 48453.5670013\ttest: 62767.5514467\tbest: 62755.0594724 (44)\ttotal: 22.8s\tremaining: 26.8s\n",
      "46:\tlearn: 48147.2544992\ttest: 62678.7118919\tbest: 62678.7118919 (46)\ttotal: 23.4s\tremaining: 26.4s\n",
      "47:\tlearn: 47850.0363879\ttest: 62617.2102045\tbest: 62617.2102045 (47)\ttotal: 23.9s\tremaining: 25.9s\n",
      "48:\tlearn: 47632.8224733\ttest: 62566.5857794\tbest: 62566.5857794 (48)\ttotal: 24.4s\tremaining: 25.4s\n",
      "49:\tlearn: 47339.1644671\ttest: 62578.3836894\tbest: 62566.5857794 (48)\ttotal: 24.9s\tremaining: 24.9s\n",
      "50:\tlearn: 47162.7837182\ttest: 62586.3375581\tbest: 62566.5857794 (48)\ttotal: 25.4s\tremaining: 24.4s\n",
      "51:\tlearn: 46868.7210508\ttest: 62581.7169813\tbest: 62566.5857794 (48)\ttotal: 25.9s\tremaining: 23.9s\n",
      "52:\tlearn: 46864.1693714\ttest: 62583.4721958\tbest: 62566.5857794 (48)\ttotal: 26s\tremaining: 23s\n",
      "53:\tlearn: 46637.2110210\ttest: 62538.4704133\tbest: 62538.4704133 (53)\ttotal: 26.5s\tremaining: 22.6s\n",
      "54:\tlearn: 46357.3582904\ttest: 62561.9926383\tbest: 62538.4704133 (53)\ttotal: 27s\tremaining: 22.1s\n",
      "55:\tlearn: 46162.1121606\ttest: 62550.9858785\tbest: 62538.4704133 (53)\ttotal: 27.5s\tremaining: 21.6s\n",
      "56:\tlearn: 45990.9185049\ttest: 62460.8885874\tbest: 62460.8885874 (56)\ttotal: 28s\tremaining: 21.1s\n",
      "57:\tlearn: 45969.1479478\ttest: 62452.1871602\tbest: 62452.1871602 (57)\ttotal: 28.5s\tremaining: 20.6s\n",
      "58:\tlearn: 45764.0782083\ttest: 62434.7044036\tbest: 62434.7044036 (58)\ttotal: 29s\tremaining: 20.1s\n",
      "59:\tlearn: 45478.1650185\ttest: 62345.6149614\tbest: 62345.6149614 (59)\ttotal: 29.5s\tremaining: 19.7s\n",
      "60:\tlearn: 45265.7840473\ttest: 62365.5644571\tbest: 62345.6149614 (59)\ttotal: 30s\tremaining: 19.2s\n",
      "61:\tlearn: 45039.6438425\ttest: 62299.0876034\tbest: 62299.0876034 (61)\ttotal: 30.5s\tremaining: 18.7s\n",
      "62:\tlearn: 45036.1255962\ttest: 62298.5466220\tbest: 62298.5466220 (62)\ttotal: 31s\tremaining: 18.2s\n",
      "63:\tlearn: 44726.3486588\ttest: 62292.5294695\tbest: 62292.5294695 (63)\ttotal: 31.6s\tremaining: 17.8s\n",
      "64:\tlearn: 44545.4524641\ttest: 62286.8424759\tbest: 62286.8424759 (64)\ttotal: 32.1s\tremaining: 17.3s\n",
      "65:\tlearn: 44313.9713674\ttest: 62298.5592633\tbest: 62286.8424759 (64)\ttotal: 32.6s\tremaining: 16.8s\n",
      "66:\tlearn: 44113.3102178\ttest: 62280.3256228\tbest: 62280.3256228 (66)\ttotal: 33.1s\tremaining: 16.3s\n",
      "67:\tlearn: 43922.7731570\ttest: 62274.9655346\tbest: 62274.9655346 (67)\ttotal: 33.6s\tremaining: 15.8s\n",
      "68:\tlearn: 43633.0821622\ttest: 62247.7354906\tbest: 62247.7354906 (68)\ttotal: 34.1s\tremaining: 15.3s\n",
      "69:\tlearn: 43330.8521443\ttest: 62188.6831638\tbest: 62188.6831638 (69)\ttotal: 34.6s\tremaining: 14.8s\n",
      "70:\tlearn: 43085.8450009\ttest: 62151.3631816\tbest: 62151.3631816 (70)\ttotal: 35.1s\tremaining: 14.4s\n",
      "71:\tlearn: 42939.0072765\ttest: 62092.2954738\tbest: 62092.2954738 (71)\ttotal: 35.6s\tremaining: 13.9s\n",
      "72:\tlearn: 42730.2383524\ttest: 62120.1757919\tbest: 62092.2954738 (71)\ttotal: 36.1s\tremaining: 13.4s\n",
      "73:\tlearn: 42520.4070127\ttest: 62143.0280464\tbest: 62092.2954738 (71)\ttotal: 36.6s\tremaining: 12.9s\n",
      "74:\tlearn: 42283.2374655\ttest: 62181.4103304\tbest: 62092.2954738 (71)\ttotal: 37.1s\tremaining: 12.4s\n",
      "75:\tlearn: 42073.1637647\ttest: 62120.9090829\tbest: 62092.2954738 (71)\ttotal: 37.6s\tremaining: 11.9s\n",
      "76:\tlearn: 41958.6243310\ttest: 62115.3061427\tbest: 62092.2954738 (71)\ttotal: 38.1s\tremaining: 11.4s\n",
      "77:\tlearn: 41956.7520910\ttest: 62116.2250958\tbest: 62092.2954738 (71)\ttotal: 38.6s\tremaining: 10.9s\n",
      "78:\tlearn: 41724.9501667\ttest: 62076.8405814\tbest: 62076.8405814 (78)\ttotal: 39.1s\tremaining: 10.4s\n",
      "79:\tlearn: 41481.1269585\ttest: 62115.2774756\tbest: 62076.8405814 (78)\ttotal: 39.6s\tremaining: 9.9s\n",
      "80:\tlearn: 41478.8368762\ttest: 62116.2825593\tbest: 62076.8405814 (78)\ttotal: 40.1s\tremaining: 9.4s\n",
      "81:\tlearn: 41250.5084357\ttest: 62051.4962380\tbest: 62051.4962380 (81)\ttotal: 40.6s\tremaining: 8.91s\n",
      "82:\tlearn: 41096.8354160\ttest: 62030.6267908\tbest: 62030.6267908 (82)\ttotal: 41.1s\tremaining: 8.41s\n",
      "83:\tlearn: 40906.4571947\ttest: 61995.8766523\tbest: 61995.8766523 (83)\ttotal: 41.6s\tremaining: 7.92s\n",
      "84:\tlearn: 40743.6545666\ttest: 62022.3233276\tbest: 61995.8766523 (83)\ttotal: 42.1s\tremaining: 7.42s\n",
      "85:\tlearn: 40562.4279909\ttest: 62027.0100323\tbest: 61995.8766523 (83)\ttotal: 42.6s\tremaining: 6.93s\n",
      "86:\tlearn: 40362.6598314\ttest: 62021.2729127\tbest: 61995.8766523 (83)\ttotal: 43.1s\tremaining: 6.44s\n",
      "87:\tlearn: 40204.3470257\ttest: 61985.3798682\tbest: 61985.3798682 (87)\ttotal: 43.6s\tremaining: 5.94s\n",
      "88:\tlearn: 40063.5208834\ttest: 61992.7119406\tbest: 61985.3798682 (87)\ttotal: 44.1s\tremaining: 5.45s\n",
      "89:\tlearn: 39923.3404876\ttest: 62012.6683289\tbest: 61985.3798682 (87)\ttotal: 44.6s\tremaining: 4.95s\n",
      "90:\tlearn: 39725.3340933\ttest: 62028.9490417\tbest: 61985.3798682 (87)\ttotal: 45s\tremaining: 4.46s\n",
      "91:\tlearn: 39619.1597766\ttest: 61983.8323482\tbest: 61983.8323482 (91)\ttotal: 45.5s\tremaining: 3.96s\n",
      "92:\tlearn: 39463.2405812\ttest: 61937.1984675\tbest: 61937.1984675 (92)\ttotal: 46s\tremaining: 3.46s\n",
      "93:\tlearn: 39352.5958884\ttest: 61924.3085931\tbest: 61924.3085931 (93)\ttotal: 46.5s\tremaining: 2.97s\n",
      "94:\tlearn: 39143.8217255\ttest: 61922.7900429\tbest: 61922.7900429 (94)\ttotal: 47s\tremaining: 2.47s\n",
      "95:\tlearn: 39021.3038307\ttest: 61931.2294894\tbest: 61922.7900429 (94)\ttotal: 47.5s\tremaining: 1.98s\n",
      "96:\tlearn: 38886.9487000\ttest: 61915.1823752\tbest: 61915.1823752 (96)\ttotal: 48s\tremaining: 1.49s\n",
      "97:\tlearn: 38769.5430474\ttest: 61891.9433583\tbest: 61891.9433583 (97)\ttotal: 48.5s\tremaining: 990ms\n",
      "98:\tlearn: 38637.9385080\ttest: 61885.0145424\tbest: 61885.0145424 (98)\ttotal: 49s\tremaining: 495ms\n",
      "99:\tlearn: 38439.1726897\ttest: 61889.0903987\tbest: 61885.0145424 (98)\ttotal: 49.5s\tremaining: 0us\n",
      "\n",
      "bestTest = 61885.01454\n",
      "bestIteration = 98\n",
      "\n",
      "6:\tloss: 61885.0145424\tbest: 61885.0145424 (6)\ttotal: 55.2s\tremaining: 23.7s\n",
      "Estimating final quality...\n",
      "Training on fold [0/5]\n",
      "0:\tlearn: 238116.0712821\ttest: 239634.1777620\tbest: 239634.1777620 (0)\ttotal: 4.95ms\tremaining: 490ms\n",
      "1:\tlearn: 146068.0955551\ttest: 147444.6406949\tbest: 147444.6406949 (1)\ttotal: 4.95ms\tremaining: 490ms\n",
      "2:\tlearn: 100904.1580399\ttest: 102511.2444161\tbest: 102511.2444161 (2)\ttotal: 4.95ms\tremaining: 490ms\n",
      "3:\tlearn: 83612.9372820\ttest: 85369.3124144\tbest: 85369.3124144 (3)\ttotal: 4.95ms\tremaining: 490ms\n",
      "4:\tlearn: 76814.8414138\ttest: 78732.7081098\tbest: 78732.7081098 (4)\ttotal: 4.95ms\tremaining: 490ms\n",
      "5:\tlearn: 70147.3684563\ttest: 72623.9221564\tbest: 72623.9221564 (5)\ttotal: 4.95ms\tremaining: 490ms\n",
      "6:\tlearn: 66709.4785158\ttest: 69637.3150088\tbest: 69637.3150088 (6)\ttotal: 4.95ms\tremaining: 490ms\n",
      "7:\tlearn: 65355.8576442\ttest: 68606.9488909\tbest: 68606.9488909 (7)\ttotal: 4.95ms\tremaining: 490ms\n",
      "8:\tlearn: 64760.6531889\ttest: 67959.7847105\tbest: 67959.7847105 (8)\ttotal: 60ms\tremaining: 2.73s\n",
      "9:\tlearn: 64075.8809707\ttest: 67456.8754509\tbest: 67456.8754509 (9)\ttotal: 762ms\tremaining: 22.8s\n",
      "10:\tlearn: 62646.4437970\ttest: 66647.1881856\tbest: 66647.1881856 (10)\ttotal: 1.47s\tremaining: 32.8s\n",
      "11:\tlearn: 62261.2825614\ttest: 66400.2907831\tbest: 66400.2907831 (11)\ttotal: 2.2s\tremaining: 38.7s\n",
      "12:\tlearn: 62174.6554614\ttest: 66355.1798357\tbest: 66355.1798357 (12)\ttotal: 2.21s\tremaining: 32s\n",
      "13:\tlearn: 61400.2572722\ttest: 65959.0254222\tbest: 65959.0254222 (13)\ttotal: 2.9s\tremaining: 35.7s\n",
      "14:\tlearn: 60999.5505074\ttest: 65760.7424704\tbest: 65760.7424704 (14)\ttotal: 3.6s\tremaining: 38.2s\n",
      "15:\tlearn: 60399.7240754\ttest: 65475.4566274\tbest: 65475.4566274 (15)\ttotal: 4.31s\tremaining: 40.2s\n",
      "16:\tlearn: 59939.4128162\ttest: 65377.6712545\tbest: 65377.6712545 (16)\ttotal: 5.01s\tremaining: 41.6s\n",
      "17:\tlearn: 59551.8696203\ttest: 65171.5868200\tbest: 65171.5868200 (17)\ttotal: 5.71s\tremaining: 42.5s\n",
      "18:\tlearn: 59166.3737743\ttest: 64872.4293776\tbest: 64872.4293776 (18)\ttotal: 6.42s\tremaining: 43.3s\n",
      "19:\tlearn: 58505.4786610\ttest: 64524.9889623\tbest: 64524.9889623 (19)\ttotal: 7.13s\tremaining: 43.8s\n",
      "20:\tlearn: 57749.0611768\ttest: 64293.0825591\tbest: 64293.0825591 (20)\ttotal: 7.83s\tremaining: 44.2s\n",
      "21:\tlearn: 57195.5666439\ttest: 64192.5187001\tbest: 64192.5187001 (21)\ttotal: 8.57s\tremaining: 44.6s\n",
      "22:\tlearn: 56819.4221056\ttest: 64118.9350358\tbest: 64118.9350358 (22)\ttotal: 9.29s\tremaining: 44.7s\n",
      "23:\tlearn: 56511.7058848\ttest: 64076.0546785\tbest: 64076.0546785 (23)\ttotal: 10s\tremaining: 44.7s\n",
      "24:\tlearn: 55875.8184510\ttest: 63836.4199545\tbest: 63836.4199545 (24)\ttotal: 10.7s\tremaining: 44.6s\n",
      "25:\tlearn: 55363.4281816\ttest: 63675.7067258\tbest: 63675.7067258 (25)\ttotal: 11.4s\tremaining: 44.5s\n",
      "26:\tlearn: 55043.4113963\ttest: 63493.5765971\tbest: 63493.5765971 (26)\ttotal: 12.1s\tremaining: 44.3s\n",
      "27:\tlearn: 54743.3301875\ttest: 63370.0661472\tbest: 63370.0661472 (27)\ttotal: 12.8s\tremaining: 44s\n",
      "28:\tlearn: 54058.2838093\ttest: 63124.9809579\tbest: 63124.9809579 (28)\ttotal: 13.5s\tremaining: 43.7s\n",
      "29:\tlearn: 53624.4879232\ttest: 62939.4440326\tbest: 62939.4440326 (29)\ttotal: 14.2s\tremaining: 43.3s\n",
      "30:\tlearn: 53247.7476332\ttest: 62887.4165157\tbest: 62887.4165157 (30)\ttotal: 14.9s\tremaining: 43s\n",
      "31:\tlearn: 52935.5063173\ttest: 62719.8712967\tbest: 62719.8712967 (31)\ttotal: 15.6s\tremaining: 42.5s\n",
      "32:\tlearn: 52377.5080305\ttest: 62566.6789456\tbest: 62566.6789456 (32)\ttotal: 16.3s\tremaining: 42.1s\n",
      "33:\tlearn: 52013.5266600\ttest: 62482.3888036\tbest: 62482.3888036 (33)\ttotal: 17.1s\tremaining: 41.7s\n",
      "34:\tlearn: 51592.0029614\ttest: 62463.4701803\tbest: 62463.4701803 (34)\ttotal: 17.8s\tremaining: 41.3s\n",
      "35:\tlearn: 51237.5630970\ttest: 62407.1537181\tbest: 62407.1537181 (35)\ttotal: 18.5s\tremaining: 40.8s\n",
      "36:\tlearn: 50755.6218597\ttest: 62407.7323060\tbest: 62407.1537181 (35)\ttotal: 19.1s\tremaining: 40.2s\n",
      "37:\tlearn: 50656.5083632\ttest: 62361.3969941\tbest: 62361.3969941 (37)\ttotal: 19.8s\tremaining: 39.7s\n",
      "38:\tlearn: 50322.3329262\ttest: 62302.0571971\tbest: 62302.0571971 (38)\ttotal: 20.6s\tremaining: 39.2s\n",
      "39:\tlearn: 49892.0809979\ttest: 62183.0957761\tbest: 62183.0957761 (39)\ttotal: 21.3s\tremaining: 38.7s\n",
      "40:\tlearn: 49548.9448802\ttest: 62073.9800689\tbest: 62073.9800689 (40)\ttotal: 22s\tremaining: 38.1s\n",
      "41:\tlearn: 49128.1600994\ttest: 61910.8822264\tbest: 61910.8822264 (41)\ttotal: 22.7s\tremaining: 37.6s\n",
      "42:\tlearn: 49006.0970858\ttest: 61889.2706654\tbest: 61889.2706654 (42)\ttotal: 23.4s\tremaining: 37s\n",
      "43:\tlearn: 48709.2339487\ttest: 61854.9049309\tbest: 61854.9049309 (43)\ttotal: 24.1s\tremaining: 36.4s\n",
      "44:\tlearn: 48472.2345687\ttest: 61807.9937847\tbest: 61807.9937847 (44)\ttotal: 24.8s\tremaining: 35.8s\n",
      "45:\tlearn: 48311.0240193\ttest: 61775.3567663\tbest: 61775.3567663 (45)\ttotal: 25.5s\tremaining: 35.3s\n",
      "46:\tlearn: 47960.0934646\ttest: 61668.4536255\tbest: 61668.4536255 (46)\ttotal: 26.2s\tremaining: 34.7s\n",
      "47:\tlearn: 47588.7067474\ttest: 61623.3261718\tbest: 61623.3261718 (47)\ttotal: 26.9s\tremaining: 34.1s\n",
      "48:\tlearn: 47256.6535566\ttest: 61539.8170051\tbest: 61539.8170051 (48)\ttotal: 27.6s\tremaining: 33.5s\n",
      "49:\tlearn: 47206.8254265\ttest: 61528.2889061\tbest: 61528.2889061 (49)\ttotal: 28.3s\tremaining: 32.9s\n",
      "50:\tlearn: 47196.1811076\ttest: 61527.4120579\tbest: 61527.4120579 (50)\ttotal: 28.6s\tremaining: 31.8s\n",
      "51:\tlearn: 46891.3365486\ttest: 61525.3537853\tbest: 61525.3537853 (51)\ttotal: 29.3s\tremaining: 31.2s\n",
      "52:\tlearn: 46748.6626103\ttest: 61488.7274540\tbest: 61488.7274540 (52)\ttotal: 30s\tremaining: 30.6s\n",
      "53:\tlearn: 46569.5051587\ttest: 61455.7213288\tbest: 61455.7213288 (53)\ttotal: 30.6s\tremaining: 30s\n",
      "54:\tlearn: 46512.3469267\ttest: 61422.0969123\tbest: 61422.0969123 (54)\ttotal: 31.3s\tremaining: 29.4s\n",
      "55:\tlearn: 46506.7875487\ttest: 61422.5480261\tbest: 61422.0969123 (54)\ttotal: 32.1s\tremaining: 28.8s\n",
      "56:\tlearn: 46203.5559674\ttest: 61350.1032414\tbest: 61350.1032414 (56)\ttotal: 32.7s\tremaining: 28.2s\n",
      "57:\tlearn: 45945.2678965\ttest: 61333.9790472\tbest: 61333.9790472 (57)\ttotal: 33.4s\tremaining: 27.5s\n",
      "58:\tlearn: 45620.7866998\ttest: 61321.3630622\tbest: 61321.3630622 (58)\ttotal: 34.1s\tremaining: 26.9s\n",
      "59:\tlearn: 45388.0708314\ttest: 61313.6192187\tbest: 61313.6192187 (59)\ttotal: 34.8s\tremaining: 26.3s\n",
      "60:\tlearn: 45044.7533416\ttest: 61257.0808547\tbest: 61257.0808547 (60)\ttotal: 35.5s\tremaining: 25.6s\n",
      "61:\tlearn: 44763.8647302\ttest: 61226.3682059\tbest: 61226.3682059 (61)\ttotal: 36.3s\tremaining: 25.1s\n",
      "62:\tlearn: 44577.3403485\ttest: 61199.6431149\tbest: 61199.6431149 (62)\ttotal: 37s\tremaining: 24.4s\n",
      "63:\tlearn: 44509.1067910\ttest: 61149.5428135\tbest: 61149.5428135 (63)\ttotal: 37.7s\tremaining: 23.8s\n",
      "64:\tlearn: 44289.9791727\ttest: 61149.9026254\tbest: 61149.5428135 (63)\ttotal: 38.4s\tremaining: 23.1s\n",
      "65:\tlearn: 43904.0621693\ttest: 61055.0149714\tbest: 61055.0149714 (65)\ttotal: 39.1s\tremaining: 22.5s\n",
      "66:\tlearn: 43824.3551679\ttest: 60997.1104389\tbest: 60997.1104389 (66)\ttotal: 39.8s\tremaining: 21.9s\n",
      "67:\tlearn: 43593.0306021\ttest: 60957.9495486\tbest: 60957.9495486 (67)\ttotal: 40.5s\tremaining: 21.2s\n",
      "68:\tlearn: 43587.7284216\ttest: 60957.1386946\tbest: 60957.1386946 (68)\ttotal: 41.2s\tremaining: 20.6s\n",
      "69:\tlearn: 43335.0514879\ttest: 60923.9332776\tbest: 60923.9332776 (69)\ttotal: 41.9s\tremaining: 19.9s\n",
      "70:\tlearn: 43292.6321619\ttest: 60919.1677156\tbest: 60919.1677156 (70)\ttotal: 42.6s\tremaining: 19.3s\n",
      "71:\tlearn: 43078.1834267\ttest: 60912.2582565\tbest: 60912.2582565 (71)\ttotal: 43.3s\tremaining: 18.6s\n",
      "72:\tlearn: 42780.8972108\ttest: 60904.7802121\tbest: 60904.7802121 (72)\ttotal: 44s\tremaining: 18s\n",
      "73:\tlearn: 42524.4401437\ttest: 60902.8849339\tbest: 60902.8849339 (73)\ttotal: 44.7s\tremaining: 17.3s\n",
      "74:\tlearn: 42286.7721029\ttest: 60896.0566062\tbest: 60896.0566062 (74)\ttotal: 45.4s\tremaining: 16.7s\n",
      "75:\tlearn: 42084.2224001\ttest: 60889.1133819\tbest: 60889.1133819 (75)\ttotal: 46.1s\tremaining: 16s\n",
      "76:\tlearn: 41824.5014946\ttest: 60887.0841845\tbest: 60887.0841845 (76)\ttotal: 46.8s\tremaining: 15.4s\n",
      "77:\tlearn: 41596.9551276\ttest: 60876.0150539\tbest: 60876.0150539 (77)\ttotal: 47.5s\tremaining: 14.7s\n",
      "78:\tlearn: 41392.0237580\ttest: 60865.9791157\tbest: 60865.9791157 (78)\ttotal: 48.3s\tremaining: 14.1s\n",
      "79:\tlearn: 41382.6768562\ttest: 60860.5542989\tbest: 60860.5542989 (79)\ttotal: 49s\tremaining: 13.4s\n",
      "80:\tlearn: 41177.6256452\ttest: 60898.1387897\tbest: 60860.5542989 (79)\ttotal: 49.7s\tremaining: 12.8s\n",
      "81:\tlearn: 40924.0753003\ttest: 60849.2917783\tbest: 60849.2917783 (81)\ttotal: 50.4s\tremaining: 12.1s\n",
      "82:\tlearn: 40922.6664239\ttest: 60849.8135073\tbest: 60849.2917783 (81)\ttotal: 51.1s\tremaining: 11.4s\n",
      "83:\tlearn: 40686.6196384\ttest: 60787.6559648\tbest: 60787.6559648 (83)\ttotal: 51.8s\tremaining: 10.8s\n",
      "84:\tlearn: 40532.2980696\ttest: 60787.2594446\tbest: 60787.2594446 (84)\ttotal: 52.5s\tremaining: 10.1s\n",
      "85:\tlearn: 40360.3462052\ttest: 60779.2243161\tbest: 60779.2243161 (85)\ttotal: 53.2s\tremaining: 9.43s\n",
      "86:\tlearn: 40233.0817498\ttest: 60775.0280259\tbest: 60775.0280259 (86)\ttotal: 53.9s\tremaining: 8.76s\n",
      "87:\tlearn: 40163.6344034\ttest: 60780.9089481\tbest: 60775.0280259 (86)\ttotal: 54.6s\tremaining: 8.09s\n",
      "88:\tlearn: 40015.0199705\ttest: 60736.8336442\tbest: 60736.8336442 (88)\ttotal: 55.3s\tremaining: 7.42s\n",
      "89:\tlearn: 39845.6610031\ttest: 60701.1938159\tbest: 60701.1938159 (89)\ttotal: 56s\tremaining: 6.75s\n",
      "90:\tlearn: 39671.8036493\ttest: 60731.3149550\tbest: 60701.1938159 (89)\ttotal: 56.7s\tremaining: 6.08s\n",
      "91:\tlearn: 39567.0565430\ttest: 60730.6565226\tbest: 60701.1938159 (89)\ttotal: 57.4s\tremaining: 5.4s\n",
      "92:\tlearn: 39461.3221251\ttest: 60721.0765050\tbest: 60701.1938159 (89)\ttotal: 58.1s\tremaining: 4.73s\n",
      "93:\tlearn: 39261.9816868\ttest: 60713.9345595\tbest: 60701.1938159 (89)\ttotal: 58.8s\tremaining: 4.05s\n",
      "94:\tlearn: 39117.9021996\ttest: 60703.8078340\tbest: 60701.1938159 (89)\ttotal: 59.5s\tremaining: 3.38s\n",
      "95:\tlearn: 39005.3644638\ttest: 60681.3754685\tbest: 60681.3754685 (95)\ttotal: 1m\tremaining: 2.71s\n",
      "96:\tlearn: 38780.5928497\ttest: 60692.0843709\tbest: 60681.3754685 (95)\ttotal: 1m\tremaining: 2.03s\n",
      "97:\tlearn: 38735.0939562\ttest: 60686.9786378\tbest: 60681.3754685 (95)\ttotal: 1m 1s\tremaining: 1.35s\n",
      "98:\tlearn: 38569.0582266\ttest: 60709.2240394\tbest: 60681.3754685 (95)\ttotal: 1m 2s\tremaining: 677ms\n",
      "99:\tlearn: 38356.4909969\ttest: 60714.1693906\tbest: 60681.3754685 (95)\ttotal: 1m 3s\tremaining: 0us\n",
      "\n",
      "bestTest = 60681.37547\n",
      "bestIteration = 95\n",
      "\n",
      "Training on fold [1/5]\n",
      "0:\tlearn: 238473.6205216\ttest: 237738.4579396\tbest: 237738.4579396 (0)\ttotal: 29.1ms\tremaining: 2.88s\n",
      "1:\tlearn: 143760.8598817\ttest: 143384.9054733\tbest: 143384.9054733 (1)\ttotal: 47.5ms\tremaining: 2.33s\n",
      "2:\tlearn: 100674.8515503\ttest: 101139.5841180\tbest: 101139.5841180 (2)\ttotal: 542ms\tremaining: 17.5s\n",
      "3:\tlearn: 82482.3271563\ttest: 84006.8650815\tbest: 84006.8650815 (3)\ttotal: 1.04s\tremaining: 25s\n",
      "4:\tlearn: 76251.9619432\ttest: 78155.1254848\tbest: 78155.1254848 (4)\ttotal: 1.55s\tremaining: 29.4s\n",
      "5:\tlearn: 69658.9965765\ttest: 71760.8031622\tbest: 71760.8031622 (5)\ttotal: 2.05s\tremaining: 32.2s\n",
      "6:\tlearn: 67094.3827061\ttest: 69537.0003488\tbest: 69537.0003488 (6)\ttotal: 2.54s\tremaining: 33.7s\n",
      "7:\tlearn: 65108.8843734\ttest: 68220.4229775\tbest: 68220.4229775 (7)\ttotal: 3.06s\tremaining: 35.2s\n",
      "8:\tlearn: 64009.4685642\ttest: 67352.0884381\tbest: 67352.0884381 (8)\ttotal: 3.56s\tremaining: 36s\n",
      "9:\tlearn: 63444.0502509\ttest: 67046.5019334\tbest: 67046.5019334 (9)\ttotal: 4.11s\tremaining: 37s\n",
      "10:\tlearn: 62660.6249381\ttest: 66568.3424004\tbest: 66568.3424004 (10)\ttotal: 4.61s\tremaining: 37.3s\n",
      "11:\tlearn: 62036.8703307\ttest: 66365.7275030\tbest: 66365.7275030 (11)\ttotal: 5.13s\tremaining: 37.6s\n",
      "12:\tlearn: 61633.1122278\ttest: 66164.9167461\tbest: 66164.9167461 (12)\ttotal: 5.63s\tremaining: 37.7s\n",
      "13:\tlearn: 61249.4203444\ttest: 65884.5473767\tbest: 65884.5473767 (13)\ttotal: 6.13s\tremaining: 37.6s\n",
      "14:\tlearn: 60713.2235804\ttest: 65746.6789819\tbest: 65746.6789819 (14)\ttotal: 6.63s\tremaining: 37.5s\n",
      "15:\tlearn: 60282.4780179\ttest: 65616.5122688\tbest: 65616.5122688 (15)\ttotal: 7.17s\tremaining: 37.6s\n",
      "16:\tlearn: 59695.9135991\ttest: 65325.8078759\tbest: 65325.8078759 (16)\ttotal: 7.66s\tremaining: 37.4s\n",
      "17:\tlearn: 59118.5055999\ttest: 65226.2737335\tbest: 65226.2737335 (17)\ttotal: 8.15s\tremaining: 37.1s\n",
      "18:\tlearn: 58210.3994041\ttest: 64940.2812362\tbest: 64940.2812362 (18)\ttotal: 8.65s\tremaining: 36.9s\n",
      "19:\tlearn: 57511.3008194\ttest: 64497.5791143\tbest: 64497.5791143 (19)\ttotal: 9.16s\tremaining: 36.6s\n",
      "20:\tlearn: 57414.8087967\ttest: 64465.0860887\tbest: 64465.0860887 (20)\ttotal: 9.66s\tremaining: 36.4s\n",
      "21:\tlearn: 56940.3822360\ttest: 64368.5886466\tbest: 64368.5886466 (21)\ttotal: 10.2s\tremaining: 36s\n",
      "22:\tlearn: 56299.8093263\ttest: 64075.8285630\tbest: 64075.8285630 (22)\ttotal: 10.6s\tremaining: 35.6s\n",
      "23:\tlearn: 55553.5529800\ttest: 63706.1637940\tbest: 63706.1637940 (23)\ttotal: 11.1s\tremaining: 35.2s\n",
      "24:\tlearn: 54841.5487397\ttest: 63418.4283671\tbest: 63418.4283671 (24)\ttotal: 11.6s\tremaining: 34.9s\n",
      "25:\tlearn: 54273.4978935\ttest: 63301.7030331\tbest: 63301.7030331 (25)\ttotal: 12.1s\tremaining: 34.5s\n",
      "26:\tlearn: 53743.4370605\ttest: 63166.6380344\tbest: 63166.6380344 (26)\ttotal: 12.6s\tremaining: 34.2s\n",
      "27:\tlearn: 53700.5564518\ttest: 63150.7217165\tbest: 63150.7217165 (27)\ttotal: 13.1s\tremaining: 33.8s\n",
      "28:\tlearn: 53695.3493991\ttest: 63150.0951099\tbest: 63150.0951099 (28)\ttotal: 13.6s\tremaining: 33.3s\n",
      "29:\tlearn: 53214.1660065\ttest: 62955.8863580\tbest: 62955.8863580 (29)\ttotal: 14.1s\tremaining: 33s\n",
      "30:\tlearn: 52876.2440590\ttest: 62873.6842541\tbest: 62873.6842541 (30)\ttotal: 14.6s\tremaining: 32.6s\n",
      "31:\tlearn: 52870.0045327\ttest: 62874.5254817\tbest: 62873.6842541 (30)\ttotal: 15.2s\tremaining: 32.2s\n",
      "32:\tlearn: 52534.8836369\ttest: 62803.6115268\tbest: 62803.6115268 (32)\ttotal: 15.7s\tremaining: 31.9s\n",
      "33:\tlearn: 52419.3867720\ttest: 62751.6552238\tbest: 62751.6552238 (33)\ttotal: 16.3s\tremaining: 31.6s\n",
      "34:\tlearn: 51848.9430659\ttest: 62627.3460951\tbest: 62627.3460951 (34)\ttotal: 16.8s\tremaining: 31.1s\n",
      "35:\tlearn: 51406.9428561\ttest: 62536.5472738\tbest: 62536.5472738 (35)\ttotal: 17.3s\tremaining: 30.7s\n",
      "36:\tlearn: 50866.0058362\ttest: 62407.8160251\tbest: 62407.8160251 (36)\ttotal: 17.7s\tremaining: 30.2s\n",
      "37:\tlearn: 50414.7986385\ttest: 62307.4003071\tbest: 62307.4003071 (37)\ttotal: 18.2s\tremaining: 29.8s\n",
      "38:\tlearn: 50261.7501434\ttest: 62227.7724805\tbest: 62227.7724805 (38)\ttotal: 18.8s\tremaining: 29.4s\n",
      "39:\tlearn: 50219.2905496\ttest: 62224.3003261\tbest: 62224.3003261 (39)\ttotal: 19.3s\tremaining: 29s\n",
      "40:\tlearn: 49778.1487499\ttest: 62136.2899012\tbest: 62136.2899012 (40)\ttotal: 19.8s\tremaining: 28.5s\n",
      "41:\tlearn: 49473.4911240\ttest: 62099.8579603\tbest: 62099.8579603 (41)\ttotal: 20.3s\tremaining: 28.1s\n",
      "42:\tlearn: 49198.8854286\ttest: 62003.2410970\tbest: 62003.2410970 (42)\ttotal: 20.9s\tremaining: 27.7s\n",
      "43:\tlearn: 48915.3791188\ttest: 61932.9038190\tbest: 61932.9038190 (43)\ttotal: 21.4s\tremaining: 27.2s\n",
      "44:\tlearn: 48863.0488147\ttest: 61917.8542739\tbest: 61917.8542739 (44)\ttotal: 21.9s\tremaining: 26.8s\n",
      "45:\tlearn: 48536.7867387\ttest: 61868.8535005\tbest: 61868.8535005 (45)\ttotal: 22.5s\tremaining: 26.4s\n",
      "46:\tlearn: 48109.9167929\ttest: 61887.2600348\tbest: 61868.8535005 (45)\ttotal: 23s\tremaining: 25.9s\n",
      "47:\tlearn: 47614.4111965\ttest: 61848.4181191\tbest: 61848.4181191 (47)\ttotal: 23.5s\tremaining: 25.4s\n",
      "48:\tlearn: 47552.3827004\ttest: 61779.8556225\tbest: 61779.8556225 (48)\ttotal: 24s\tremaining: 25s\n",
      "49:\tlearn: 47336.2476492\ttest: 61709.2369246\tbest: 61709.2369246 (49)\ttotal: 24.5s\tremaining: 24.5s\n",
      "50:\tlearn: 47237.7678706\ttest: 61685.1038653\tbest: 61685.1038653 (50)\ttotal: 25s\tremaining: 24s\n",
      "51:\tlearn: 46971.7422242\ttest: 61679.0013536\tbest: 61679.0013536 (51)\ttotal: 25.5s\tremaining: 23.5s\n",
      "52:\tlearn: 46581.9842483\ttest: 61608.3043688\tbest: 61608.3043688 (52)\ttotal: 26s\tremaining: 23.1s\n",
      "53:\tlearn: 46328.4139715\ttest: 61558.8301265\tbest: 61558.8301265 (53)\ttotal: 26.5s\tremaining: 22.6s\n",
      "54:\tlearn: 46293.5891240\ttest: 61532.2246380\tbest: 61532.2246380 (54)\ttotal: 27s\tremaining: 22.1s\n",
      "55:\tlearn: 46068.9780967\ttest: 61481.2418539\tbest: 61481.2418539 (55)\ttotal: 27.5s\tremaining: 21.6s\n",
      "56:\tlearn: 45832.8291011\ttest: 61459.9750593\tbest: 61459.9750593 (56)\ttotal: 28s\tremaining: 21.1s\n",
      "57:\tlearn: 45638.4057961\ttest: 61463.7536103\tbest: 61459.9750593 (56)\ttotal: 28.5s\tremaining: 20.6s\n",
      "58:\tlearn: 45274.5371476\ttest: 61486.2234700\tbest: 61459.9750593 (56)\ttotal: 29s\tremaining: 20.1s\n",
      "59:\tlearn: 45043.6675686\ttest: 61522.0832058\tbest: 61459.9750593 (56)\ttotal: 29.5s\tremaining: 19.7s\n",
      "60:\tlearn: 44726.1809904\ttest: 61512.3193571\tbest: 61459.9750593 (56)\ttotal: 30s\tremaining: 19.2s\n",
      "61:\tlearn: 44398.2589874\ttest: 61395.1838364\tbest: 61395.1838364 (61)\ttotal: 30.5s\tremaining: 18.7s\n",
      "62:\tlearn: 44146.5565147\ttest: 61363.4235639\tbest: 61363.4235639 (62)\ttotal: 31s\tremaining: 18.2s\n",
      "63:\tlearn: 43910.2598901\ttest: 61354.0907246\tbest: 61354.0907246 (63)\ttotal: 31.5s\tremaining: 17.7s\n",
      "64:\tlearn: 43707.8352023\ttest: 61349.5880661\tbest: 61349.5880661 (64)\ttotal: 32s\tremaining: 17.2s\n",
      "65:\tlearn: 43461.4376375\ttest: 61321.0129733\tbest: 61321.0129733 (65)\ttotal: 32.5s\tremaining: 16.8s\n",
      "66:\tlearn: 43294.7518544\ttest: 61327.9240875\tbest: 61321.0129733 (65)\ttotal: 33s\tremaining: 16.3s\n",
      "67:\tlearn: 43016.6499579\ttest: 61299.9632639\tbest: 61299.9632639 (67)\ttotal: 33.5s\tremaining: 15.8s\n",
      "68:\tlearn: 42874.4973047\ttest: 61258.1867964\tbest: 61258.1867964 (68)\ttotal: 34s\tremaining: 15.3s\n",
      "69:\tlearn: 42624.7026657\ttest: 61197.6877952\tbest: 61197.6877952 (69)\ttotal: 34.5s\tremaining: 14.8s\n",
      "70:\tlearn: 42360.3200097\ttest: 61175.2808473\tbest: 61175.2808473 (70)\ttotal: 35s\tremaining: 14.3s\n",
      "71:\tlearn: 42267.2730005\ttest: 61187.3024875\tbest: 61175.2808473 (70)\ttotal: 35.5s\tremaining: 13.8s\n",
      "72:\tlearn: 42020.1024841\ttest: 61180.7226305\tbest: 61175.2808473 (70)\ttotal: 36s\tremaining: 13.3s\n",
      "73:\tlearn: 41827.9438850\ttest: 61117.1412155\tbest: 61117.1412155 (73)\ttotal: 36.5s\tremaining: 12.8s\n",
      "74:\tlearn: 41592.8895901\ttest: 61131.8750135\tbest: 61117.1412155 (73)\ttotal: 37.1s\tremaining: 12.4s\n",
      "75:\tlearn: 41503.4842006\ttest: 61116.5719037\tbest: 61116.5719037 (75)\ttotal: 37.6s\tremaining: 11.9s\n",
      "76:\tlearn: 41270.7737512\ttest: 61094.9566275\tbest: 61094.9566275 (76)\ttotal: 38.1s\tremaining: 11.4s\n",
      "77:\tlearn: 41144.7845096\ttest: 61092.6214417\tbest: 61092.6214417 (77)\ttotal: 38.6s\tremaining: 10.9s\n",
      "78:\tlearn: 41001.9302202\ttest: 61110.4061895\tbest: 61092.6214417 (77)\ttotal: 39.1s\tremaining: 10.4s\n",
      "79:\tlearn: 40915.0850692\ttest: 61098.3753808\tbest: 61092.6214417 (77)\ttotal: 39.6s\tremaining: 9.9s\n",
      "80:\tlearn: 40760.9061263\ttest: 61086.6445030\tbest: 61086.6445030 (80)\ttotal: 40.1s\tremaining: 9.4s\n",
      "81:\tlearn: 40612.4534092\ttest: 61089.0583096\tbest: 61086.6445030 (80)\ttotal: 40.6s\tremaining: 8.91s\n",
      "82:\tlearn: 40391.0400722\ttest: 61018.4803887\tbest: 61018.4803887 (82)\ttotal: 41.1s\tremaining: 8.42s\n",
      "83:\tlearn: 40310.0410785\ttest: 61022.2838685\tbest: 61018.4803887 (82)\ttotal: 41.6s\tremaining: 7.92s\n",
      "84:\tlearn: 40210.1319713\ttest: 61008.5406069\tbest: 61008.5406069 (84)\ttotal: 42.1s\tremaining: 7.43s\n",
      "85:\tlearn: 40043.1965183\ttest: 61016.3094155\tbest: 61008.5406069 (84)\ttotal: 42.6s\tremaining: 6.94s\n",
      "86:\tlearn: 39822.4079570\ttest: 60984.7885158\tbest: 60984.7885158 (86)\ttotal: 43.1s\tremaining: 6.44s\n",
      "87:\tlearn: 39655.6617563\ttest: 60975.1000769\tbest: 60975.1000769 (87)\ttotal: 43.6s\tremaining: 5.95s\n",
      "88:\tlearn: 39646.6520830\ttest: 60974.1560010\tbest: 60974.1560010 (88)\ttotal: 44.2s\tremaining: 5.46s\n",
      "89:\tlearn: 39484.8485630\ttest: 60975.9762262\tbest: 60974.1560010 (88)\ttotal: 44.8s\tremaining: 4.97s\n",
      "90:\tlearn: 39316.9817160\ttest: 60956.0609154\tbest: 60956.0609154 (90)\ttotal: 45.3s\tremaining: 4.48s\n",
      "91:\tlearn: 39171.8371459\ttest: 60936.8658213\tbest: 60936.8658213 (91)\ttotal: 45.8s\tremaining: 3.98s\n",
      "92:\tlearn: 39071.7922466\ttest: 60938.2120318\tbest: 60936.8658213 (91)\ttotal: 46.3s\tremaining: 3.48s\n",
      "93:\tlearn: 38995.7639205\ttest: 60953.3672141\tbest: 60936.8658213 (91)\ttotal: 46.8s\tremaining: 2.98s\n",
      "94:\tlearn: 38858.3015102\ttest: 60941.7475149\tbest: 60936.8658213 (91)\ttotal: 47.2s\tremaining: 2.49s\n",
      "95:\tlearn: 38703.3508714\ttest: 60928.9842763\tbest: 60928.9842763 (95)\ttotal: 47.7s\tremaining: 1.99s\n",
      "96:\tlearn: 38701.1610255\ttest: 60927.7625524\tbest: 60927.7625524 (96)\ttotal: 48.2s\tremaining: 1.49s\n",
      "97:\tlearn: 38652.4693378\ttest: 60928.6246309\tbest: 60927.7625524 (96)\ttotal: 48.7s\tremaining: 994ms\n",
      "98:\tlearn: 38634.5061981\ttest: 60926.4850503\tbest: 60926.4850503 (98)\ttotal: 49.2s\tremaining: 497ms\n",
      "99:\tlearn: 38467.7182823\ttest: 60909.3827934\tbest: 60909.3827934 (99)\ttotal: 49.7s\tremaining: 0us\n",
      "\n",
      "bestTest = 60909.38279\n",
      "bestIteration = 99\n",
      "\n",
      "Training on fold [2/5]\n",
      "0:\tlearn: 238222.0428223\ttest: 238128.0842940\tbest: 238128.0842940 (0)\ttotal: 5.33ms\tremaining: 527ms\n",
      "1:\tlearn: 143360.5392216\ttest: 143553.6156962\tbest: 143553.6156962 (1)\ttotal: 5.33ms\tremaining: 527ms\n",
      "2:\tlearn: 101359.9589464\ttest: 102703.2824648\tbest: 102703.2824648 (2)\ttotal: 5.33ms\tremaining: 527ms\n",
      "3:\tlearn: 83879.7751528\ttest: 85557.5051750\tbest: 85557.5051750 (3)\ttotal: 5.33ms\tremaining: 527ms\n",
      "4:\tlearn: 76189.1679323\ttest: 78395.4501108\tbest: 78395.4501108 (4)\ttotal: 5.33ms\tremaining: 527ms\n",
      "5:\tlearn: 69961.7462824\ttest: 72559.6203288\tbest: 72559.6203288 (5)\ttotal: 5.33ms\tremaining: 527ms\n",
      "6:\tlearn: 66545.5379165\ttest: 69529.7959656\tbest: 69529.7959656 (6)\ttotal: 5.33ms\tremaining: 527ms\n",
      "7:\tlearn: 64432.7875809\ttest: 67956.1081051\tbest: 67956.1081051 (7)\ttotal: 5.33ms\tremaining: 527ms\n",
      "8:\tlearn: 63747.6438195\ttest: 67291.6098057\tbest: 67291.6098057 (8)\ttotal: 5.33ms\tremaining: 527ms\n",
      "9:\tlearn: 62226.1278130\ttest: 66614.9988314\tbest: 66614.9988314 (9)\ttotal: 5.33ms\tremaining: 527ms\n",
      "10:\tlearn: 61458.3382445\ttest: 66256.2975320\tbest: 66256.2975320 (10)\ttotal: 5.33ms\tremaining: 527ms\n",
      "11:\tlearn: 61097.4144615\ttest: 66097.1167277\tbest: 66097.1167277 (11)\ttotal: 5.33ms\tremaining: 527ms\n",
      "12:\tlearn: 60610.3213422\ttest: 65798.3443958\tbest: 65798.3443958 (12)\ttotal: 5.33ms\tremaining: 527ms\n",
      "13:\tlearn: 60268.8651227\ttest: 65674.5483094\tbest: 65674.5483094 (13)\ttotal: 5.33ms\tremaining: 527ms\n",
      "14:\tlearn: 59874.5641421\ttest: 65499.9331511\tbest: 65499.9331511 (14)\ttotal: 5.33ms\tremaining: 527ms\n",
      "15:\tlearn: 59327.7820428\ttest: 65182.4206102\tbest: 65182.4206102 (15)\ttotal: 5.33ms\tremaining: 527ms\n",
      "16:\tlearn: 58973.8626839\ttest: 65066.8880715\tbest: 65066.8880715 (16)\ttotal: 5.33ms\tremaining: 527ms\n",
      "17:\tlearn: 58563.9275722\ttest: 64965.1239262\tbest: 64965.1239262 (17)\ttotal: 5.33ms\tremaining: 527ms\n",
      "18:\tlearn: 58200.6427540\ttest: 64866.3795616\tbest: 64866.3795616 (18)\ttotal: 5.33ms\tremaining: 527ms\n",
      "19:\tlearn: 57850.9578975\ttest: 64726.0480727\tbest: 64726.0480727 (19)\ttotal: 5.33ms\tremaining: 527ms\n",
      "20:\tlearn: 57605.0248332\ttest: 64586.1155018\tbest: 64586.1155018 (20)\ttotal: 5.33ms\tremaining: 527ms\n",
      "21:\tlearn: 56971.1996094\ttest: 64330.3486485\tbest: 64330.3486485 (21)\ttotal: 5.33ms\tremaining: 527ms\n",
      "22:\tlearn: 56224.5550201\ttest: 64009.0790579\tbest: 64009.0790579 (22)\ttotal: 5.33ms\tremaining: 527ms\n",
      "23:\tlearn: 55715.2302132\ttest: 63748.1933823\tbest: 63748.1933823 (23)\ttotal: 5.33ms\tremaining: 527ms\n",
      "24:\tlearn: 54978.0137491\ttest: 63461.9882096\tbest: 63461.9882096 (24)\ttotal: 5.33ms\tremaining: 527ms\n",
      "25:\tlearn: 54665.9276785\ttest: 63333.8567384\tbest: 63333.8567384 (25)\ttotal: 5.33ms\tremaining: 527ms\n",
      "26:\tlearn: 54273.0983300\ttest: 63179.1585734\tbest: 63179.1585734 (26)\ttotal: 5.33ms\tremaining: 527ms\n",
      "27:\tlearn: 53945.6898488\ttest: 62981.2010981\tbest: 62981.2010981 (27)\ttotal: 5.33ms\tremaining: 527ms\n",
      "28:\tlearn: 53932.6182423\ttest: 62984.0322936\tbest: 62981.2010981 (27)\ttotal: 5.33ms\tremaining: 527ms\n",
      "29:\tlearn: 53381.8951142\ttest: 62844.7440680\tbest: 62844.7440680 (29)\ttotal: 5.33ms\tremaining: 527ms\n",
      "30:\tlearn: 52908.6114599\ttest: 62684.0844110\tbest: 62684.0844110 (30)\ttotal: 5.33ms\tremaining: 527ms\n",
      "31:\tlearn: 52408.4396662\ttest: 62552.4787489\tbest: 62552.4787489 (31)\ttotal: 5.33ms\tremaining: 527ms\n",
      "32:\tlearn: 52145.4984997\ttest: 62482.3509917\tbest: 62482.3509917 (32)\ttotal: 5.33ms\tremaining: 527ms\n",
      "33:\tlearn: 51875.0691508\ttest: 62418.3088950\tbest: 62418.3088950 (33)\ttotal: 5.33ms\tremaining: 527ms\n",
      "34:\tlearn: 51537.0497321\ttest: 62388.8600830\tbest: 62388.8600830 (34)\ttotal: 5.33ms\tremaining: 527ms\n",
      "35:\tlearn: 51233.2838304\ttest: 62388.8419365\tbest: 62388.8419365 (35)\ttotal: 5.33ms\tremaining: 527ms\n",
      "36:\tlearn: 50985.0911361\ttest: 62288.2998737\tbest: 62288.2998737 (36)\ttotal: 5.33ms\tremaining: 527ms\n",
      "37:\tlearn: 50532.8527337\ttest: 62259.0731540\tbest: 62259.0731540 (37)\ttotal: 5.33ms\tremaining: 527ms\n",
      "38:\tlearn: 50284.6056701\ttest: 62072.5091422\tbest: 62072.5091422 (38)\ttotal: 5.33ms\tremaining: 527ms\n",
      "39:\tlearn: 49915.2932441\ttest: 61980.3718051\tbest: 61980.3718051 (39)\ttotal: 5.33ms\tremaining: 527ms\n",
      "40:\tlearn: 49646.7728365\ttest: 61900.7649149\tbest: 61900.7649149 (40)\ttotal: 5.33ms\tremaining: 527ms\n",
      "41:\tlearn: 49387.7286761\ttest: 61883.7953353\tbest: 61883.7953353 (41)\ttotal: 5.33ms\tremaining: 527ms\n",
      "42:\tlearn: 49081.2112261\ttest: 61870.5429925\tbest: 61870.5429925 (42)\ttotal: 5.33ms\tremaining: 527ms\n",
      "43:\tlearn: 48655.3886262\ttest: 61698.7490206\tbest: 61698.7490206 (43)\ttotal: 5.33ms\tremaining: 527ms\n",
      "44:\tlearn: 48420.9203130\ttest: 61655.7450016\tbest: 61655.7450016 (44)\ttotal: 5.33ms\tremaining: 527ms\n",
      "45:\tlearn: 48417.7213039\ttest: 61659.3897705\tbest: 61655.7450016 (44)\ttotal: 5.33ms\tremaining: 527ms\n",
      "46:\tlearn: 48078.4671791\ttest: 61650.2410398\tbest: 61650.2410398 (46)\ttotal: 5.33ms\tremaining: 527ms\n",
      "47:\tlearn: 47656.8773011\ttest: 61636.1747395\tbest: 61636.1747395 (47)\ttotal: 5.33ms\tremaining: 527ms\n",
      "48:\tlearn: 47363.1502758\ttest: 61585.8138661\tbest: 61585.8138661 (48)\ttotal: 5.33ms\tremaining: 527ms\n",
      "49:\tlearn: 47110.4790525\ttest: 61575.7567860\tbest: 61575.7567860 (49)\ttotal: 5.33ms\tremaining: 527ms\n",
      "50:\tlearn: 46794.6031264\ttest: 61527.8519705\tbest: 61527.8519705 (50)\ttotal: 5.33ms\tremaining: 527ms\n",
      "51:\tlearn: 46497.3308641\ttest: 61578.5161161\tbest: 61527.8519705 (50)\ttotal: 5.33ms\tremaining: 527ms\n",
      "52:\tlearn: 46196.2280965\ttest: 61463.1365405\tbest: 61463.1365405 (52)\ttotal: 5.33ms\tremaining: 527ms\n",
      "53:\tlearn: 46175.6966014\ttest: 61460.3702366\tbest: 61460.3702366 (53)\ttotal: 5.33ms\tremaining: 527ms\n",
      "54:\tlearn: 45909.4519925\ttest: 61427.0391897\tbest: 61427.0391897 (54)\ttotal: 5.33ms\tremaining: 527ms\n",
      "55:\tlearn: 45586.3963451\ttest: 61426.6039288\tbest: 61426.6039288 (55)\ttotal: 5.33ms\tremaining: 527ms\n",
      "56:\tlearn: 45537.7342800\ttest: 61425.4016702\tbest: 61425.4016702 (56)\ttotal: 5.33ms\tremaining: 527ms\n",
      "57:\tlearn: 45253.8073356\ttest: 61347.4206626\tbest: 61347.4206626 (57)\ttotal: 5.33ms\tremaining: 527ms\n",
      "58:\tlearn: 45039.2353909\ttest: 61282.8353331\tbest: 61282.8353331 (58)\ttotal: 5.33ms\tremaining: 527ms\n",
      "59:\tlearn: 44792.8089625\ttest: 61249.6259165\tbest: 61249.6259165 (59)\ttotal: 5.33ms\tremaining: 527ms\n",
      "60:\tlearn: 44519.8460883\ttest: 61217.1287240\tbest: 61217.1287240 (60)\ttotal: 5.33ms\tremaining: 527ms\n",
      "61:\tlearn: 44396.4809014\ttest: 61191.7090007\tbest: 61191.7090007 (61)\ttotal: 5.33ms\tremaining: 527ms\n",
      "62:\tlearn: 44196.8022898\ttest: 61169.4389939\tbest: 61169.4389939 (62)\ttotal: 5.33ms\tremaining: 527ms\n",
      "63:\tlearn: 43913.6292452\ttest: 61188.8793339\tbest: 61169.4389939 (62)\ttotal: 5.33ms\tremaining: 527ms\n",
      "64:\tlearn: 43633.1697559\ttest: 61184.3133120\tbest: 61169.4389939 (62)\ttotal: 5.33ms\tremaining: 527ms\n",
      "65:\tlearn: 43484.6755314\ttest: 61176.8128603\tbest: 61169.4389939 (62)\ttotal: 5.33ms\tremaining: 527ms\n",
      "66:\tlearn: 43314.2398616\ttest: 61184.0928223\tbest: 61169.4389939 (62)\ttotal: 5.33ms\tremaining: 527ms\n",
      "67:\tlearn: 43095.4480403\ttest: 61166.2836885\tbest: 61166.2836885 (67)\ttotal: 5.33ms\tremaining: 527ms\n",
      "68:\tlearn: 42938.2366579\ttest: 61156.0975425\tbest: 61156.0975425 (68)\ttotal: 5.33ms\tremaining: 527ms\n",
      "69:\tlearn: 42756.9276306\ttest: 61178.6948855\tbest: 61156.0975425 (68)\ttotal: 5.33ms\tremaining: 527ms\n",
      "70:\tlearn: 42604.9215339\ttest: 61188.5828878\tbest: 61156.0975425 (68)\ttotal: 5.33ms\tremaining: 527ms\n",
      "71:\tlearn: 42400.4076664\ttest: 61140.3016189\tbest: 61140.3016189 (71)\ttotal: 5.33ms\tremaining: 527ms\n",
      "72:\tlearn: 42129.8184318\ttest: 61086.9954855\tbest: 61086.9954855 (72)\ttotal: 5.33ms\tremaining: 527ms\n",
      "73:\tlearn: 42126.4384928\ttest: 61085.5867495\tbest: 61085.5867495 (73)\ttotal: 5.33ms\tremaining: 527ms\n",
      "74:\tlearn: 41982.3092817\ttest: 61081.9531835\tbest: 61081.9531835 (74)\ttotal: 5.33ms\tremaining: 527ms\n",
      "75:\tlearn: 41907.2488658\ttest: 61082.4497996\tbest: 61081.9531835 (74)\ttotal: 5.33ms\tremaining: 527ms\n",
      "76:\tlearn: 41726.1135420\ttest: 61028.0241309\tbest: 61028.0241309 (76)\ttotal: 5.33ms\tremaining: 527ms\n",
      "77:\tlearn: 41459.6551757\ttest: 60989.5876806\tbest: 60989.5876806 (77)\ttotal: 5.33ms\tremaining: 527ms\n",
      "78:\tlearn: 41165.0092581\ttest: 60915.4598459\tbest: 60915.4598459 (78)\ttotal: 5.33ms\tremaining: 527ms\n",
      "79:\tlearn: 40998.5144238\ttest: 60917.3728482\tbest: 60915.4598459 (78)\ttotal: 5.33ms\tremaining: 527ms\n",
      "80:\tlearn: 40806.9443213\ttest: 60896.4100241\tbest: 60896.4100241 (80)\ttotal: 5.33ms\tremaining: 527ms\n",
      "81:\tlearn: 40554.5822857\ttest: 60902.6520644\tbest: 60896.4100241 (80)\ttotal: 5.33ms\tremaining: 527ms\n",
      "82:\tlearn: 40400.1045141\ttest: 60907.6456207\tbest: 60896.4100241 (80)\ttotal: 5.33ms\tremaining: 527ms\n",
      "83:\tlearn: 40254.4539419\ttest: 60908.4700532\tbest: 60896.4100241 (80)\ttotal: 5.33ms\tremaining: 527ms\n",
      "84:\tlearn: 40034.6064334\ttest: 60919.0837139\tbest: 60896.4100241 (80)\ttotal: 5.33ms\tremaining: 527ms\n",
      "85:\tlearn: 39888.8364089\ttest: 60872.7034994\tbest: 60872.7034994 (85)\ttotal: 5.33ms\tremaining: 527ms\n",
      "86:\tlearn: 39729.8531095\ttest: 60899.6825342\tbest: 60872.7034994 (85)\ttotal: 5.33ms\tremaining: 527ms\n",
      "87:\tlearn: 39566.1409903\ttest: 60870.6576821\tbest: 60870.6576821 (87)\ttotal: 5.33ms\tremaining: 527ms\n",
      "88:\tlearn: 39428.9512900\ttest: 60851.7183392\tbest: 60851.7183392 (88)\ttotal: 5.33ms\tremaining: 527ms\n",
      "89:\tlearn: 39304.2196151\ttest: 60809.0979534\tbest: 60809.0979534 (89)\ttotal: 5.33ms\tremaining: 527ms\n",
      "90:\tlearn: 39284.9379364\ttest: 60808.6091003\tbest: 60808.6091003 (90)\ttotal: 5.33ms\tremaining: 527ms\n",
      "91:\tlearn: 39064.8579589\ttest: 60805.6287235\tbest: 60805.6287235 (91)\ttotal: 5.33ms\tremaining: 527ms\n",
      "92:\tlearn: 39012.9929121\ttest: 60805.2779905\tbest: 60805.2779905 (92)\ttotal: 5.33ms\tremaining: 527ms\n",
      "93:\tlearn: 38845.9589319\ttest: 60817.0929303\tbest: 60805.2779905 (92)\ttotal: 5.33ms\tremaining: 527ms\n",
      "94:\tlearn: 38693.9346937\ttest: 60801.2914908\tbest: 60801.2914908 (94)\ttotal: 5.33ms\tremaining: 527ms\n",
      "95:\tlearn: 38466.9749987\ttest: 60813.1230265\tbest: 60801.2914908 (94)\ttotal: 5.33ms\tremaining: 527ms\n",
      "96:\tlearn: 38365.4622993\ttest: 60774.0670609\tbest: 60774.0670609 (96)\ttotal: 5.33ms\tremaining: 527ms\n",
      "97:\tlearn: 38255.3470402\ttest: 60774.6343889\tbest: 60774.0670609 (96)\ttotal: 5.33ms\tremaining: 527ms\n",
      "98:\tlearn: 38051.4762570\ttest: 60737.2094594\tbest: 60737.2094594 (98)\ttotal: 5.33ms\tremaining: 527ms\n",
      "99:\tlearn: 37922.0602378\ttest: 60722.7669969\tbest: 60722.7669969 (99)\ttotal: 5.33ms\tremaining: 527ms\n",
      "\n",
      "bestTest = 60722.767\n",
      "bestIteration = 99\n",
      "\n",
      "Training on fold [3/5]\n",
      "0:\tlearn: 238103.7870047\ttest: 237572.3272453\tbest: 237572.3272453 (0)\ttotal: 4.76ms\tremaining: 471ms\n",
      "1:\tlearn: 144438.0655896\ttest: 144187.9484566\tbest: 144187.9484566 (1)\ttotal: 4.76ms\tremaining: 471ms\n",
      "2:\tlearn: 101858.2725314\ttest: 102545.3952540\tbest: 102545.3952540 (2)\ttotal: 4.76ms\tremaining: 471ms\n",
      "3:\tlearn: 84663.1387337\ttest: 85671.0317294\tbest: 85671.0317294 (3)\ttotal: 35.8ms\tremaining: 1.72s\n",
      "4:\tlearn: 76386.3521467\ttest: 78419.8373847\tbest: 78419.8373847 (4)\ttotal: 566ms\tremaining: 17.9s\n",
      "5:\tlearn: 69908.3357578\ttest: 72784.1410652\tbest: 72784.1410652 (5)\ttotal: 1.1s\tremaining: 25.8s\n",
      "6:\tlearn: 65902.8826378\ttest: 69707.8181710\tbest: 69707.8181710 (6)\ttotal: 1.63s\tremaining: 30.3s\n",
      "7:\tlearn: 64340.6232663\ttest: 68535.1576188\tbest: 68535.1576188 (7)\ttotal: 2.17s\tremaining: 33.2s\n",
      "8:\tlearn: 63445.5043572\ttest: 67969.7804886\tbest: 67969.7804886 (8)\ttotal: 2.72s\tremaining: 35.4s\n",
      "9:\tlearn: 62344.1860995\ttest: 67474.8273025\tbest: 67474.8273025 (9)\ttotal: 3.29s\tremaining: 37s\n",
      "10:\tlearn: 62063.4993540\ttest: 67200.3952425\tbest: 67200.3952425 (10)\ttotal: 3.31s\tremaining: 32.8s\n",
      "11:\tlearn: 61558.0316471\ttest: 67068.2426643\tbest: 67068.2426643 (11)\ttotal: 3.86s\tremaining: 34s\n",
      "12:\tlearn: 60840.1235538\ttest: 66667.6714271\tbest: 66667.6714271 (12)\ttotal: 4.4s\tremaining: 34.8s\n",
      "13:\tlearn: 60375.2487593\ttest: 66440.1382438\tbest: 66440.1382438 (13)\ttotal: 4.92s\tremaining: 35.3s\n",
      "14:\tlearn: 60048.6914085\ttest: 66252.3918120\tbest: 66252.3918120 (14)\ttotal: 5.45s\tremaining: 35.7s\n",
      "15:\tlearn: 59555.5246364\ttest: 66101.9178169\tbest: 66101.9178169 (15)\ttotal: 5.97s\tremaining: 35.8s\n",
      "16:\tlearn: 59043.8111557\ttest: 65890.8398399\tbest: 65890.8398399 (16)\ttotal: 6.5s\tremaining: 35.9s\n",
      "17:\tlearn: 58257.0431898\ttest: 65740.3614242\tbest: 65740.3614242 (17)\ttotal: 7.02s\tremaining: 36s\n",
      "18:\tlearn: 57747.5785748\ttest: 65599.1034244\tbest: 65599.1034244 (18)\ttotal: 7.54s\tremaining: 35.9s\n",
      "19:\tlearn: 57335.0540838\ttest: 65549.7712460\tbest: 65549.7712460 (19)\ttotal: 8.1s\tremaining: 36s\n",
      "20:\tlearn: 56755.1801108\ttest: 65507.4391988\tbest: 65507.4391988 (20)\ttotal: 8.61s\tremaining: 35.8s\n",
      "21:\tlearn: 56702.9435174\ttest: 65472.1854007\tbest: 65472.1854007 (21)\ttotal: 9.14s\tremaining: 35.7s\n",
      "22:\tlearn: 56212.1166457\ttest: 65358.7592117\tbest: 65358.7592117 (22)\ttotal: 9.66s\tremaining: 35.4s\n",
      "23:\tlearn: 55577.9125039\ttest: 65159.3307208\tbest: 65159.3307208 (23)\ttotal: 10.2s\tremaining: 35.2s\n",
      "24:\tlearn: 55413.0189335\ttest: 65066.6426651\tbest: 65066.6426651 (24)\ttotal: 10.8s\tremaining: 35.1s\n",
      "25:\tlearn: 54868.8043311\ttest: 64982.0064348\tbest: 64982.0064348 (25)\ttotal: 11.3s\tremaining: 34.8s\n",
      "26:\tlearn: 54864.3552822\ttest: 64979.9115765\tbest: 64979.9115765 (26)\ttotal: 11.3s\tremaining: 33s\n",
      "27:\tlearn: 54240.8269850\ttest: 64703.1386136\tbest: 64703.1386136 (27)\ttotal: 11.8s\tremaining: 32.7s\n",
      "28:\tlearn: 53759.9050936\ttest: 64477.3962632\tbest: 64477.3962632 (28)\ttotal: 12.3s\tremaining: 32.5s\n",
      "29:\tlearn: 53358.2124525\ttest: 64340.2533935\tbest: 64340.2533935 (29)\ttotal: 12.9s\tremaining: 32.2s\n",
      "30:\tlearn: 53352.0821704\ttest: 64338.8822131\tbest: 64338.8822131 (30)\ttotal: 13.4s\tremaining: 31.9s\n",
      "31:\tlearn: 52949.9064107\ttest: 64320.3880288\tbest: 64320.3880288 (31)\ttotal: 13.9s\tremaining: 31.6s\n",
      "32:\tlearn: 52946.2479094\ttest: 64317.0268383\tbest: 64317.0268383 (32)\ttotal: 14.5s\tremaining: 31.2s\n",
      "33:\tlearn: 52479.3703168\ttest: 64275.1300183\tbest: 64275.1300183 (33)\ttotal: 15s\tremaining: 30.9s\n",
      "34:\tlearn: 52081.6086787\ttest: 64197.3798583\tbest: 64197.3798583 (34)\ttotal: 15.5s\tremaining: 30.6s\n",
      "35:\tlearn: 51512.5794723\ttest: 63919.9994661\tbest: 63919.9994661 (35)\ttotal: 16s\tremaining: 30.2s\n",
      "36:\tlearn: 51410.2543152\ttest: 63872.5276612\tbest: 63872.5276612 (36)\ttotal: 16.6s\tremaining: 29.8s\n",
      "37:\tlearn: 51277.1333278\ttest: 63793.9972302\tbest: 63793.9972302 (37)\ttotal: 17.1s\tremaining: 29.4s\n",
      "38:\tlearn: 50721.3934063\ttest: 63657.7435339\tbest: 63657.7435339 (38)\ttotal: 17.6s\tremaining: 29.1s\n",
      "39:\tlearn: 50355.4725366\ttest: 63651.4630393\tbest: 63651.4630393 (39)\ttotal: 18.2s\tremaining: 28.7s\n",
      "40:\tlearn: 50010.0260463\ttest: 63537.5492275\tbest: 63537.5492275 (40)\ttotal: 18.7s\tremaining: 28.2s\n",
      "41:\tlearn: 49401.8507333\ttest: 63301.2827009\tbest: 63301.2827009 (41)\ttotal: 19.2s\tremaining: 27.8s\n",
      "42:\tlearn: 49367.3767951\ttest: 63291.3070968\tbest: 63291.3070968 (42)\ttotal: 19.7s\tremaining: 27.4s\n",
      "43:\tlearn: 49149.7171042\ttest: 63273.2935198\tbest: 63273.2935198 (43)\ttotal: 20.2s\tremaining: 27s\n",
      "44:\tlearn: 48649.6721157\ttest: 63171.6181694\tbest: 63171.6181694 (44)\ttotal: 20.8s\tremaining: 26.6s\n",
      "45:\tlearn: 48644.7024729\ttest: 63171.1734439\tbest: 63171.1734439 (45)\ttotal: 21.3s\tremaining: 26.2s\n",
      "46:\tlearn: 48642.1501405\ttest: 63165.4929193\tbest: 63165.4929193 (46)\ttotal: 21.8s\tremaining: 25.7s\n",
      "47:\tlearn: 48360.6037467\ttest: 63128.4813470\tbest: 63128.4813470 (47)\ttotal: 22.4s\tremaining: 25.3s\n",
      "48:\tlearn: 48166.4545176\ttest: 63154.3149642\tbest: 63128.4813470 (47)\ttotal: 22.9s\tremaining: 24.8s\n",
      "49:\tlearn: 47830.8769470\ttest: 63089.9229082\tbest: 63089.9229082 (49)\ttotal: 23.4s\tremaining: 24.4s\n",
      "50:\tlearn: 47471.8359595\ttest: 62970.7120863\tbest: 62970.7120863 (50)\ttotal: 23.9s\tremaining: 23.9s\n",
      "51:\tlearn: 47228.8916022\ttest: 62955.9452618\tbest: 62955.9452618 (51)\ttotal: 24.5s\tremaining: 23.5s\n",
      "52:\tlearn: 46942.0490593\ttest: 62922.2154527\tbest: 62922.2154527 (52)\ttotal: 25s\tremaining: 23.1s\n",
      "53:\tlearn: 46499.2755047\ttest: 62918.4783409\tbest: 62918.4783409 (53)\ttotal: 25.6s\tremaining: 22.6s\n",
      "54:\tlearn: 46497.1298092\ttest: 62913.5155251\tbest: 62913.5155251 (54)\ttotal: 26.2s\tremaining: 22.2s\n",
      "55:\tlearn: 46236.5846474\ttest: 62892.3441556\tbest: 62892.3441556 (55)\ttotal: 26.8s\tremaining: 21.8s\n",
      "56:\tlearn: 46024.3009990\ttest: 62866.4580870\tbest: 62866.4580870 (56)\ttotal: 27.3s\tremaining: 21.3s\n",
      "57:\tlearn: 46021.6400755\ttest: 62865.9337812\tbest: 62865.9337812 (57)\ttotal: 27.8s\tremaining: 20.8s\n",
      "58:\tlearn: 45642.2956786\ttest: 62791.6399204\tbest: 62791.6399204 (58)\ttotal: 28.3s\tremaining: 20.4s\n",
      "59:\tlearn: 45370.8755069\ttest: 62746.0685404\tbest: 62746.0685404 (59)\ttotal: 28.8s\tremaining: 19.9s\n",
      "60:\tlearn: 45149.4150668\ttest: 62741.6139933\tbest: 62741.6139933 (60)\ttotal: 29.4s\tremaining: 19.4s\n",
      "61:\tlearn: 44890.6718920\ttest: 62735.6556033\tbest: 62735.6556033 (61)\ttotal: 29.9s\tremaining: 19s\n",
      "62:\tlearn: 44654.8874384\ttest: 62700.2647566\tbest: 62700.2647566 (62)\ttotal: 30.4s\tremaining: 18.5s\n",
      "63:\tlearn: 44437.9919190\ttest: 62673.0564197\tbest: 62673.0564197 (63)\ttotal: 31s\tremaining: 18s\n",
      "64:\tlearn: 44133.0333501\ttest: 62640.3555039\tbest: 62640.3555039 (64)\ttotal: 31.5s\tremaining: 17.5s\n",
      "65:\tlearn: 43875.9406739\ttest: 62635.8642119\tbest: 62635.8642119 (65)\ttotal: 32s\tremaining: 17s\n",
      "66:\tlearn: 43652.8076725\ttest: 62617.5078858\tbest: 62617.5078858 (66)\ttotal: 32.5s\tremaining: 16.5s\n",
      "67:\tlearn: 43419.6697346\ttest: 62593.9860809\tbest: 62593.9860809 (67)\ttotal: 33s\tremaining: 16s\n",
      "68:\tlearn: 43213.0547961\ttest: 62533.5673718\tbest: 62533.5673718 (68)\ttotal: 33.6s\tremaining: 15.5s\n",
      "69:\tlearn: 42968.9006860\ttest: 62495.5848374\tbest: 62495.5848374 (69)\ttotal: 34.1s\tremaining: 15.1s\n",
      "70:\tlearn: 42698.5804874\ttest: 62400.8543771\tbest: 62400.8543771 (70)\ttotal: 34.6s\tremaining: 14.6s\n",
      "71:\tlearn: 42694.4305277\ttest: 62398.5720159\tbest: 62398.5720159 (71)\ttotal: 35.2s\tremaining: 14.1s\n",
      "72:\tlearn: 42471.5641080\ttest: 62394.6590301\tbest: 62394.6590301 (72)\ttotal: 35.7s\tremaining: 13.6s\n",
      "73:\tlearn: 42274.3815088\ttest: 62411.9814633\tbest: 62394.6590301 (72)\ttotal: 36.2s\tremaining: 13.1s\n",
      "74:\tlearn: 42105.4891537\ttest: 62416.4677096\tbest: 62394.6590301 (72)\ttotal: 36.8s\tremaining: 12.6s\n",
      "75:\tlearn: 41848.8193782\ttest: 62437.2352182\tbest: 62394.6590301 (72)\ttotal: 37.3s\tremaining: 12.1s\n",
      "76:\tlearn: 41847.3539361\ttest: 62436.9656012\tbest: 62394.6590301 (72)\ttotal: 37.8s\tremaining: 11.6s\n",
      "77:\tlearn: 41624.5723234\ttest: 62428.3883577\tbest: 62394.6590301 (72)\ttotal: 38.4s\tremaining: 11.1s\n",
      "78:\tlearn: 41352.6731038\ttest: 62462.2183557\tbest: 62394.6590301 (72)\ttotal: 38.9s\tremaining: 10.6s\n",
      "79:\tlearn: 41177.6807335\ttest: 62440.3214445\tbest: 62394.6590301 (72)\ttotal: 39.4s\tremaining: 10.1s\n",
      "80:\tlearn: 41123.7351863\ttest: 62434.3395710\tbest: 62394.6590301 (72)\ttotal: 39.9s\tremaining: 9.6s\n",
      "81:\tlearn: 41102.9232247\ttest: 62431.6085726\tbest: 62394.6590301 (72)\ttotal: 40.4s\tremaining: 9.1s\n",
      "82:\tlearn: 40881.0221688\ttest: 62417.4821877\tbest: 62394.6590301 (72)\ttotal: 41s\tremaining: 8.6s\n",
      "83:\tlearn: 40841.1362657\ttest: 62413.1143813\tbest: 62394.6590301 (72)\ttotal: 41.5s\tremaining: 8.1s\n",
      "84:\tlearn: 40653.6369379\ttest: 62386.8805720\tbest: 62386.8805720 (84)\ttotal: 42s\tremaining: 7.6s\n",
      "85:\tlearn: 40467.0481189\ttest: 62372.4954051\tbest: 62372.4954051 (85)\ttotal: 42.6s\tremaining: 7.09s\n",
      "86:\tlearn: 40244.8162439\ttest: 62356.7207564\tbest: 62356.7207564 (86)\ttotal: 43.1s\tremaining: 6.59s\n",
      "87:\tlearn: 40049.8859009\ttest: 62349.4316849\tbest: 62349.4316849 (87)\ttotal: 43.6s\tremaining: 6.09s\n",
      "88:\tlearn: 40007.1239090\ttest: 62334.3511634\tbest: 62334.3511634 (88)\ttotal: 44.2s\tremaining: 5.58s\n",
      "89:\tlearn: 39850.5856536\ttest: 62320.3038478\tbest: 62320.3038478 (89)\ttotal: 44.7s\tremaining: 5.08s\n",
      "90:\tlearn: 39658.3937734\ttest: 62309.2962101\tbest: 62309.2962101 (90)\ttotal: 45.2s\tremaining: 4.57s\n",
      "91:\tlearn: 39454.9800531\ttest: 62333.2535209\tbest: 62309.2962101 (90)\ttotal: 45.8s\tremaining: 4.07s\n",
      "92:\tlearn: 39242.7067917\ttest: 62302.3644124\tbest: 62302.3644124 (92)\ttotal: 46.3s\tremaining: 3.56s\n",
      "93:\tlearn: 39024.6674685\ttest: 62285.5000389\tbest: 62285.5000389 (93)\ttotal: 46.9s\tremaining: 3.06s\n",
      "94:\tlearn: 38849.2195515\ttest: 62316.6626992\tbest: 62285.5000389 (93)\ttotal: 47.5s\tremaining: 2.55s\n",
      "95:\tlearn: 38725.7940850\ttest: 62324.7107591\tbest: 62285.5000389 (93)\ttotal: 48.1s\tremaining: 2.05s\n",
      "96:\tlearn: 38707.6064393\ttest: 62319.6028947\tbest: 62285.5000389 (93)\ttotal: 48.6s\tremaining: 1.54s\n",
      "97:\tlearn: 38481.5711970\ttest: 62341.0632613\tbest: 62285.5000389 (93)\ttotal: 49.2s\tremaining: 1.02s\n",
      "98:\tlearn: 38324.4014670\ttest: 62285.7147016\tbest: 62285.5000389 (93)\ttotal: 49.8s\tremaining: 513ms\n",
      "99:\tlearn: 38166.6295854\ttest: 62270.4704378\tbest: 62270.4704378 (99)\ttotal: 50.5s\tremaining: 0us\n",
      "\n",
      "bestTest = 62270.47044\n",
      "bestIteration = 99\n",
      "\n",
      "Training on fold [4/5]\n",
      "0:\tlearn: 238250.3980721\ttest: 238432.7059257\tbest: 238432.7059257 (0)\ttotal: 12.1ms\tremaining: 1.2s\n",
      "1:\tlearn: 142944.4403686\ttest: 143607.4842746\tbest: 143607.4842746 (1)\ttotal: 756ms\tremaining: 37s\n",
      "2:\tlearn: 100830.9333729\ttest: 101735.7690586\tbest: 101735.7690586 (2)\ttotal: 1.66s\tremaining: 53.7s\n",
      "3:\tlearn: 84641.1718331\ttest: 85582.2066646\tbest: 85582.2066646 (3)\ttotal: 1.75s\tremaining: 42s\n",
      "4:\tlearn: 76650.6935110\ttest: 78147.6918073\tbest: 78147.6918073 (4)\ttotal: 2.77s\tremaining: 52.7s\n",
      "5:\tlearn: 69837.3206926\ttest: 71760.6159702\tbest: 71760.6159702 (5)\ttotal: 3.72s\tremaining: 58.3s\n",
      "6:\tlearn: 66758.1256071\ttest: 69309.3016607\tbest: 69309.3016607 (6)\ttotal: 4.64s\tremaining: 1m 1s\n",
      "7:\tlearn: 64435.3797718\ttest: 67546.3348883\tbest: 67546.3348883 (7)\ttotal: 5.57s\tremaining: 1m 4s\n",
      "8:\tlearn: 64035.6352941\ttest: 67087.5366700\tbest: 67087.5366700 (8)\ttotal: 5.64s\tremaining: 57s\n",
      "9:\tlearn: 63247.9464329\ttest: 66685.6754366\tbest: 66685.6754366 (9)\ttotal: 6.54s\tremaining: 58.8s\n",
      "10:\tlearn: 62465.2093039\ttest: 66277.2005272\tbest: 66277.2005272 (10)\ttotal: 7.49s\tremaining: 1m\n",
      "11:\tlearn: 61673.8707905\ttest: 65715.7255671\tbest: 65715.7255671 (11)\ttotal: 8.62s\tremaining: 1m 3s\n",
      "12:\tlearn: 61198.4280319\ttest: 65430.7845392\tbest: 65430.7845392 (12)\ttotal: 9.58s\tremaining: 1m 4s\n",
      "13:\tlearn: 61169.3898730\ttest: 65410.3069297\tbest: 65410.3069297 (13)\ttotal: 9.62s\tremaining: 59.1s\n",
      "14:\tlearn: 60492.3483319\ttest: 64935.8351985\tbest: 64935.8351985 (14)\ttotal: 10.7s\tremaining: 1m\n",
      "15:\tlearn: 60053.0250394\ttest: 64731.3353099\tbest: 64731.3353099 (15)\ttotal: 11.5s\tremaining: 1m\n",
      "16:\tlearn: 59505.1320035\ttest: 64533.6201776\tbest: 64533.6201776 (16)\ttotal: 12.6s\tremaining: 1m 1s\n",
      "17:\tlearn: 59132.2142553\ttest: 64406.0345671\tbest: 64406.0345671 (17)\ttotal: 13.4s\tremaining: 1m\n",
      "18:\tlearn: 58555.5672716\ttest: 64213.3756135\tbest: 64213.3756135 (18)\ttotal: 14.4s\tremaining: 1m 1s\n",
      "19:\tlearn: 58187.6911115\ttest: 64012.4321811\tbest: 64012.4321811 (19)\ttotal: 15.3s\tremaining: 1m 1s\n",
      "20:\tlearn: 57755.3873952\ttest: 63899.6350980\tbest: 63899.6350980 (20)\ttotal: 16.3s\tremaining: 1m 1s\n",
      "21:\tlearn: 57473.3935593\ttest: 63784.3811926\tbest: 63784.3811926 (21)\ttotal: 17.3s\tremaining: 1m 1s\n",
      "22:\tlearn: 57012.3902421\ttest: 63738.3998267\tbest: 63738.3998267 (22)\ttotal: 18.2s\tremaining: 1m\n",
      "23:\tlearn: 56760.5606703\ttest: 63611.2720696\tbest: 63611.2720696 (23)\ttotal: 19.2s\tremaining: 1m\n",
      "24:\tlearn: 56616.4703116\ttest: 63561.3022674\tbest: 63561.3022674 (24)\ttotal: 20.3s\tremaining: 1m\n",
      "25:\tlearn: 56325.2711933\ttest: 63372.4696915\tbest: 63372.4696915 (25)\ttotal: 21.2s\tremaining: 1m\n",
      "26:\tlearn: 55763.8421006\ttest: 62982.1317259\tbest: 62982.1317259 (26)\ttotal: 22.2s\tremaining: 59.9s\n",
      "27:\tlearn: 55757.9366987\ttest: 62983.0194083\tbest: 62982.1317259 (26)\ttotal: 23.2s\tremaining: 59.7s\n",
      "28:\tlearn: 55208.7879287\ttest: 62753.1550845\tbest: 62753.1550845 (28)\ttotal: 24.1s\tremaining: 59s\n",
      "29:\tlearn: 54893.0305569\ttest: 62493.8093689\tbest: 62493.8093689 (29)\ttotal: 25.2s\tremaining: 58.8s\n",
      "30:\tlearn: 54773.5484556\ttest: 62418.5036284\tbest: 62418.5036284 (30)\ttotal: 26.2s\tremaining: 58.3s\n",
      "31:\tlearn: 54353.4495604\ttest: 62353.6911281\tbest: 62353.6911281 (31)\ttotal: 27.1s\tremaining: 57.5s\n",
      "32:\tlearn: 53997.2040378\ttest: 62271.3360415\tbest: 62271.3360415 (32)\ttotal: 28s\tremaining: 56.8s\n",
      "33:\tlearn: 53475.9278354\ttest: 62163.4529548\tbest: 62163.4529548 (33)\ttotal: 29.2s\tremaining: 56.6s\n",
      "34:\tlearn: 53238.2456687\ttest: 62063.5772290\tbest: 62063.5772290 (34)\ttotal: 30.3s\tremaining: 56.2s\n",
      "35:\tlearn: 52749.4090376\ttest: 61975.0431192\tbest: 61975.0431192 (35)\ttotal: 31.3s\tremaining: 55.7s\n",
      "36:\tlearn: 52611.4402279\ttest: 61902.7662405\tbest: 61902.7662405 (36)\ttotal: 32.3s\tremaining: 55s\n",
      "37:\tlearn: 52155.9357480\ttest: 61851.7608319\tbest: 61851.7608319 (37)\ttotal: 33.3s\tremaining: 54.4s\n",
      "38:\tlearn: 51906.7020728\ttest: 61761.0414915\tbest: 61761.0414915 (38)\ttotal: 34.2s\tremaining: 53.5s\n",
      "39:\tlearn: 51726.7923572\ttest: 61705.0489626\tbest: 61705.0489626 (39)\ttotal: 35.1s\tremaining: 52.7s\n",
      "40:\tlearn: 51472.4591163\ttest: 61698.6866921\tbest: 61698.6866921 (40)\ttotal: 36s\tremaining: 51.8s\n",
      "41:\tlearn: 51254.0342534\ttest: 61663.2546627\tbest: 61663.2546627 (41)\ttotal: 37.1s\tremaining: 51.3s\n",
      "42:\tlearn: 50819.6000406\ttest: 61452.6048430\tbest: 61452.6048430 (42)\ttotal: 38s\tremaining: 50.4s\n",
      "43:\tlearn: 50283.1467647\ttest: 61431.6470592\tbest: 61431.6470592 (43)\ttotal: 39.1s\tremaining: 49.8s\n",
      "44:\tlearn: 49773.8820831\ttest: 61329.5755114\tbest: 61329.5755114 (44)\ttotal: 40s\tremaining: 48.9s\n",
      "45:\tlearn: 49562.2575569\ttest: 61306.0505203\tbest: 61306.0505203 (45)\ttotal: 41.1s\tremaining: 48.3s\n",
      "46:\tlearn: 49463.7252315\ttest: 61245.8485916\tbest: 61245.8485916 (46)\ttotal: 42s\tremaining: 47.4s\n",
      "47:\tlearn: 48955.4765681\ttest: 61055.6055082\tbest: 61055.6055082 (47)\ttotal: 43s\tremaining: 46.6s\n",
      "48:\tlearn: 48617.2494176\ttest: 60930.2269932\tbest: 60930.2269932 (48)\ttotal: 43.8s\tremaining: 45.6s\n",
      "49:\tlearn: 48225.9817825\ttest: 60925.5807689\tbest: 60925.5807689 (49)\ttotal: 44.8s\tremaining: 44.8s\n",
      "50:\tlearn: 47730.8481681\ttest: 60840.7846960\tbest: 60840.7846960 (50)\ttotal: 45.8s\tremaining: 44s\n",
      "51:\tlearn: 47213.1025833\ttest: 60731.0612816\tbest: 60731.0612816 (51)\ttotal: 46.7s\tremaining: 43.1s\n",
      "52:\tlearn: 46853.9133266\ttest: 60710.3865928\tbest: 60710.3865928 (52)\ttotal: 47.8s\tremaining: 42.4s\n",
      "53:\tlearn: 46554.5241244\ttest: 60613.9046199\tbest: 60613.9046199 (53)\ttotal: 48.8s\tremaining: 41.6s\n",
      "54:\tlearn: 46455.6153312\ttest: 60585.2988992\tbest: 60585.2988992 (54)\ttotal: 49.7s\tremaining: 40.7s\n",
      "55:\tlearn: 46148.5680801\ttest: 60587.8384251\tbest: 60585.2988992 (54)\ttotal: 50.6s\tremaining: 39.8s\n",
      "56:\tlearn: 46049.4544130\ttest: 60509.0158033\tbest: 60509.0158033 (56)\ttotal: 51.6s\tremaining: 39s\n",
      "57:\tlearn: 45799.9762052\ttest: 60526.8453033\tbest: 60509.0158033 (56)\ttotal: 52.5s\tremaining: 38s\n",
      "58:\tlearn: 45463.9724625\ttest: 60440.6933940\tbest: 60440.6933940 (58)\ttotal: 53.5s\tremaining: 37.2s\n",
      "59:\tlearn: 45297.3154141\ttest: 60391.0086568\tbest: 60391.0086568 (59)\ttotal: 54.4s\tremaining: 36.3s\n",
      "60:\tlearn: 45012.9493620\ttest: 60379.8007409\tbest: 60379.8007409 (60)\ttotal: 55.5s\tremaining: 35.5s\n",
      "61:\tlearn: 44943.1541887\ttest: 60391.6234518\tbest: 60379.8007409 (60)\ttotal: 56.4s\tremaining: 34.6s\n",
      "62:\tlearn: 44671.6771503\ttest: 60389.1316949\tbest: 60379.8007409 (60)\ttotal: 57.6s\tremaining: 33.8s\n",
      "63:\tlearn: 44400.3687004\ttest: 60369.2775097\tbest: 60369.2775097 (63)\ttotal: 58.7s\tremaining: 33s\n",
      "64:\tlearn: 44214.0074199\ttest: 60366.1055698\tbest: 60366.1055698 (64)\ttotal: 59.6s\tremaining: 32.1s\n",
      "65:\tlearn: 44033.7899539\ttest: 60382.7789121\tbest: 60366.1055698 (64)\ttotal: 1m\tremaining: 31.2s\n",
      "66:\tlearn: 43854.1883197\ttest: 60337.8591665\tbest: 60337.8591665 (66)\ttotal: 1m 1s\tremaining: 30.3s\n",
      "67:\tlearn: 43584.8400573\ttest: 60276.8157389\tbest: 60276.8157389 (67)\ttotal: 1m 2s\tremaining: 29.4s\n",
      "68:\tlearn: 43380.7590811\ttest: 60282.4874277\tbest: 60276.8157389 (67)\ttotal: 1m 3s\tremaining: 28.5s\n",
      "69:\tlearn: 43129.3250141\ttest: 60209.1661069\tbest: 60209.1661069 (69)\ttotal: 1m 4s\tremaining: 27.7s\n",
      "70:\tlearn: 42909.7947984\ttest: 60232.7712734\tbest: 60209.1661069 (69)\ttotal: 1m 5s\tremaining: 26.8s\n",
      "71:\tlearn: 42743.4894766\ttest: 60231.1473344\tbest: 60209.1661069 (69)\ttotal: 1m 6s\tremaining: 25.9s\n",
      "72:\tlearn: 42691.5849250\ttest: 60214.7098882\tbest: 60209.1661069 (69)\ttotal: 1m 7s\tremaining: 24.9s\n",
      "73:\tlearn: 42644.3695096\ttest: 60215.5591483\tbest: 60209.1661069 (69)\ttotal: 1m 8s\tremaining: 24s\n",
      "74:\tlearn: 42559.5836671\ttest: 60238.8870429\tbest: 60209.1661069 (69)\ttotal: 1m 9s\tremaining: 23.1s\n",
      "75:\tlearn: 42333.0341676\ttest: 60289.3573019\tbest: 60209.1661069 (69)\ttotal: 1m 10s\tremaining: 22.1s\n",
      "76:\tlearn: 42173.7993377\ttest: 60250.0665534\tbest: 60209.1661069 (69)\ttotal: 1m 11s\tremaining: 21.2s\n",
      "77:\tlearn: 42046.7854361\ttest: 60226.9220219\tbest: 60209.1661069 (69)\ttotal: 1m 11s\tremaining: 20.1s\n",
      "78:\tlearn: 41834.2256752\ttest: 60215.9794887\tbest: 60209.1661069 (69)\ttotal: 1m 12s\tremaining: 19.2s\n",
      "79:\tlearn: 41658.9252459\ttest: 60232.2386439\tbest: 60209.1661069 (69)\ttotal: 1m 13s\tremaining: 18.3s\n",
      "80:\tlearn: 41400.7092847\ttest: 60196.1992645\tbest: 60196.1992645 (80)\ttotal: 1m 14s\tremaining: 17.4s\n",
      "81:\tlearn: 41187.4134946\ttest: 60164.3656518\tbest: 60164.3656518 (81)\ttotal: 1m 14s\tremaining: 16.5s\n",
      "82:\tlearn: 41049.3375331\ttest: 60144.9364105\tbest: 60144.9364105 (82)\ttotal: 1m 15s\tremaining: 15.5s\n",
      "83:\tlearn: 41029.4095480\ttest: 60137.2433371\tbest: 60137.2433371 (83)\ttotal: 1m 16s\tremaining: 14.6s\n",
      "84:\tlearn: 40850.9140795\ttest: 60139.5568348\tbest: 60137.2433371 (83)\ttotal: 1m 17s\tremaining: 13.7s\n",
      "85:\tlearn: 40679.8958783\ttest: 60129.8864682\tbest: 60129.8864682 (85)\ttotal: 1m 18s\tremaining: 12.8s\n",
      "86:\tlearn: 40468.1203065\ttest: 60173.0834367\tbest: 60129.8864682 (85)\ttotal: 1m 19s\tremaining: 11.9s\n",
      "87:\tlearn: 40292.2497017\ttest: 60131.9570690\tbest: 60129.8864682 (85)\ttotal: 1m 20s\tremaining: 11s\n",
      "88:\tlearn: 40117.7889822\ttest: 60112.0802799\tbest: 60112.0802799 (88)\ttotal: 1m 21s\tremaining: 10.1s\n",
      "89:\tlearn: 39973.0996612\ttest: 60104.8419140\tbest: 60104.8419140 (89)\ttotal: 1m 22s\tremaining: 9.18s\n",
      "90:\tlearn: 39901.3147918\ttest: 60114.8499934\tbest: 60104.8419140 (89)\ttotal: 1m 23s\tremaining: 8.27s\n",
      "91:\tlearn: 39763.2657584\ttest: 60115.6618356\tbest: 60104.8419140 (89)\ttotal: 1m 24s\tremaining: 7.37s\n",
      "92:\tlearn: 39537.4666623\ttest: 60118.2802728\tbest: 60104.8419140 (89)\ttotal: 1m 25s\tremaining: 6.45s\n",
      "93:\tlearn: 39345.3546096\ttest: 60130.0155720\tbest: 60104.8419140 (89)\ttotal: 1m 26s\tremaining: 5.54s\n",
      "94:\tlearn: 39130.9664383\ttest: 60122.8372773\tbest: 60104.8419140 (89)\ttotal: 1m 27s\tremaining: 4.62s\n",
      "95:\tlearn: 39012.1148674\ttest: 60104.2664591\tbest: 60104.2664591 (95)\ttotal: 1m 28s\tremaining: 3.7s\n",
      "96:\tlearn: 38872.8726393\ttest: 60099.6138912\tbest: 60099.6138912 (96)\ttotal: 1m 29s\tremaining: 2.77s\n",
      "97:\tlearn: 38714.5019172\ttest: 60048.8972805\tbest: 60048.8972805 (97)\ttotal: 1m 30s\tremaining: 1.85s\n",
      "98:\tlearn: 38544.7618772\ttest: 60033.0690811\tbest: 60033.0690811 (98)\ttotal: 1m 31s\tremaining: 924ms\n",
      "99:\tlearn: 38353.6438037\ttest: 60041.2590023\tbest: 60033.0690811 (98)\ttotal: 1m 32s\tremaining: 0us\n",
      "\n",
      "bestTest = 60033.06908\n",
      "bestIteration = 98\n",
      "\n",
      "average time is probably: 4.77\n"
     ]
    },
    {
     "data": {
      "text/plain": "{'best_params_': {'depth': 15, 'l2_leaf_reg': 5, 'learning_rate': 0.5},\n 'cv_results_': defaultdict(list,\n             {'iterations': [0,\n               1,\n               2,\n               3,\n               4,\n               5,\n               6,\n               7,\n               8,\n               9,\n               10,\n               11,\n               12,\n               13,\n               14,\n               15,\n               16,\n               17,\n               18,\n               19,\n               20,\n               21,\n               22,\n               23,\n               24,\n               25,\n               26,\n               27,\n               28,\n               29,\n               30,\n               31,\n               32,\n               33,\n               34,\n               35,\n               36,\n               37,\n               38,\n               39,\n               40,\n               41,\n               42,\n               43,\n               44,\n               45,\n               46,\n               47,\n               48,\n               49,\n               50,\n               51,\n               52,\n               53,\n               54,\n               55,\n               56,\n               57,\n               58,\n               59,\n               60,\n               61,\n               62,\n               63,\n               64,\n               65,\n               66,\n               67,\n               68,\n               69,\n               70,\n               71,\n               72,\n               73,\n               74,\n               75,\n               76,\n               77,\n               78,\n               79,\n               80,\n               81,\n               82,\n               83,\n               84,\n               85,\n               86,\n               87,\n               88,\n               89,\n               90,\n               91,\n               92,\n               93,\n               94,\n               95,\n               96,\n               97,\n               98,\n               99],\n              'test-RMSE-mean': [238301.15063332728,\n               144435.7189191103,\n               102127.05506232078,\n               85237.38421297757,\n               78370.16257947558,\n               72297.82053653698,\n               69544.24623098386,\n               68172.99449612999,\n               67532.16002256118,\n               67055.7757909613,\n               66589.88477752644,\n               66329.42064902723,\n               66083.37938878652,\n               65873.7132563575,\n               65639.1163227796,\n               65421.52852664467,\n               65238.965443875255,\n               65101.876094210005,\n               64898.31384264369,\n               64662.163915293,\n               64550.27168930237,\n               64429.604517710686,\n               64260.20033901321,\n               64060.20292905228,\n               63868.95629273968,\n               63733.14852469886,\n               63560.28330147259,\n               63437.62939674023,\n               63297.93194180007,\n               63114.82744419862,\n               63040.51420445214,\n               62964.19093682419,\n               62888.20086880911,\n               62818.18717910339,\n               62748.12668912144,\n               62645.51710275314,\n               62575.82842130018,\n               62514.725703437616,\n               62404.224769023866,\n               62348.85598184641,\n               62269.454160917005,\n               62171.81457710922,\n               62101.39333893151,\n               62038.299669871034,\n               61976.557348219256,\n               61956.16480031796,\n               61923.459242203506,\n               61858.40117710702,\n               61798.00569024814,\n               61765.75725876243,\n               61710.37293520248,\n               61693.975559687766,\n               61638.554081748516,\n               61601.46093055499,\n               61576.0350328441,\n               61562.11527786914,\n               61522.19077226597,\n               61507.586480897015,\n               61464.55103594848,\n               61444.48110765886,\n               61421.588733977405,\n               61388.10801961813,\n               61364.3804248285,\n               61346.96936024526,\n               61338.053015443285,\n               61314.29678580605,\n               61292.89888018662,\n               61258.99966415281,\n               61237.49556661721,\n               61201.013380538396,\n               61183.3314202412,\n               61173.91634262937,\n               61156.37344927032,\n               61146.630702113136,\n               61153.04791113983,\n               61162.945521031346,\n               61139.41941952746,\n               61122.706911166955,\n               61114.00859908621,\n               61109.77252325862,\n               61102.34643043362,\n               61087.39527533298,\n               61067.67162296162,\n               61053.75352097382,\n               61048.26423444413,\n               61034.12382083762,\n               61037.860653812204,\n               61021.611092209314,\n               61001.827885538805,\n               60982.282751453284,\n               60984.026234834004,\n               60984.41328477908,\n               60977.04224249921,\n               60979.982062974464,\n               60977.26936326058,\n               60970.49199790822,\n               60962.62615400648,\n               60956.039639878356,\n               60938.340466365706,\n               60931.6097242004],\n              'test-RMSE-std': [817.316749630543,\n               1709.0412571923798,\n               667.6173300546213,\n               696.6011242581982,\n               239.93775424810636,\n               497.08285543747786,\n               150.7297590451407,\n               436.3112351542896,\n               406.92586979612787,\n               408.60424353740393,\n               382.5972664429279,\n               495.6776924910143,\n               481.935160220185,\n               381.6559018930443,\n               478.655869651212,\n               509.26313390782286,\n               494.6826520209507,\n               482.414360507929,\n               490.84047349136046,\n               561.2451358291715,\n               594.5976011884768,\n               627.1109124256323,\n               631.6878396294265,\n               638.8594844842235,\n               688.9776287583138,\n               713.900203707087,\n               814.5959309295131,\n               725.1536769916457,\n               677.904615447734,\n               709.9821911543476,\n               750.1616450501036,\n               782.4991174150285,\n               821.1747214943578,\n               840.8996719900445,\n               835.708155680783,\n               743.0367293907138,\n               753.9228662534115,\n               742.9518489078381,\n               730.8561592936679,\n               756.6445284688691,\n               728.9916327192914,\n               650.1057528135303,\n               697.2702197285876,\n               716.4624481511531,\n               703.8352348235059,\n               711.9137601745473,\n               731.913635961805,\n               768.4934991791293,\n               822.2881043219132,\n               799.2179220241824,\n               776.5413048624724,\n               800.2749291393598,\n               800.5335377332287,\n               829.5731322184187,\n               839.3789684505988,\n               831.1298194646906,\n               848.0022368199162,\n               846.2674808460889,\n               846.0854663058941,\n               846.3228572487776,\n               852.1865540883571,\n               847.5919409481432,\n               836.7852907593899,\n               833.4279596212075,\n               821.5599691402047,\n               821.6507784709243,\n               831.7520961390211,\n               843.7682496551607,\n               818.1528602072548,\n               827.1878307654499,\n               783.5498700852039,\n               783.9593442220663,\n               788.7944572872399,\n               795.6152934382887,\n               791.1174000833341,\n               785.9046893319339,\n               798.8481606642827,\n               804.163749647715,\n               825.390671180345,\n               812.3551246713502,\n               818.484197667934,\n               829.1138597146244,\n               828.9932283316145,\n               833.7803067958864,\n               822.1970431824552,\n               821.6190294476363,\n               802.8422074706073,\n               812.0159383008695,\n               815.5963531148437,\n               816.8914575548872,\n               807.3450419634678,\n               817.4222039288557,\n               804.7484353924566,\n               794.4876831997022,\n               811.0240315797851,\n               820.7209314082473,\n               820.9961783207069,\n               843.6899552990509,\n               825.8362702098723,\n               818.0253722190532],\n              'train-RMSE-mean': [238233.1839405565,\n               144114.40012331196,\n               101125.63488815611,\n               83855.87003157202,\n               76458.60338942109,\n               69902.7535531234,\n               66602.08147666467,\n               64734.70652728922,\n               63999.78104476731,\n               63067.63831340075,\n               62258.823127491356,\n               61725.49395825651,\n               61291.32812342211,\n               60892.6362743102,\n               60425.675594056935,\n               59923.70676238935,\n               59431.62645166179,\n               58924.71204748556,\n               58376.11235576699,\n               57878.09651461131,\n               57455.89246253441,\n               57056.69711317844,\n               56513.658667958654,\n               56023.79245042619,\n               55544.9740369805,\n               55099.38585561809,\n               54737.62883391427,\n               54477.66803437186,\n               54130.98889458147,\n               53694.35841067232,\n               53431.64675562728,\n               53103.46129746603,\n               52800.26842284681,\n               52452.65614700003,\n               52059.570021368665,\n               51627.955658671905,\n               51325.68267501723,\n               51007.445762250805,\n               50699.35684377367,\n               50421.78593708284,\n               50091.27032583989,\n               49729.05297725399,\n               49494.63411523881,\n               49142.57311253384,\n               48835.951579041925,\n               48694.49841832736,\n               48450.870561726064,\n               48035.215111947895,\n               47791.17809361916,\n               47542.08217155472,\n               47286.24724643426,\n               46960.480764475455,\n               46664.5674681955,\n               46425.48307215197,\n               46333.62663672662,\n               46109.462943611645,\n               45929.574952107345,\n               45731.819461794585,\n               45408.16547590259,\n               45178.54765668154,\n               44890.62896981143,\n               44678.48613993259,\n               44449.452748330266,\n               44234.27130911853,\n               43995.60498018915,\n               43751.98119320792,\n               43588.068575202844,\n               43341.92767843647,\n               43198.85525227983,\n               42962.98149685725,\n               42773.24979825028,\n               42636.756819567556,\n               42418.79343193634,\n               42279.514707993156,\n               42105.40875908131,\n               41935.361802459025,\n               41768.50841231612,\n               41574.55051447652,\n               41349.172403060795,\n               41226.57646572034,\n               41053.984112756036,\n               40876.28954291608,\n               40728.834142433676,\n               40624.33209450637,\n               40456.31749834401,\n               40287.864625931215,\n               40099.65587333897,\n               39945.51455053837,\n               39843.10724695102,\n               39691.68289921049,\n               39566.68637337929,\n               39404.39949186527,\n               39265.256147574924,\n               39094.74532347619,\n               38930.064878670884,\n               38782.71985725366,\n               38685.539050598025,\n               38567.79668967465,\n               38424.84080516675,\n               38253.30858120947],\n              'train-RMSE-std': [148.9036115523688,\n               1223.0891181131885,\n               482.3826996644674,\n               896.4638144644945,\n               266.608580010604,\n               178.21803840305282,\n               438.8395451569251,\n               464.19040918379596,\n               487.6221953717014,\n               778.1826984675693,\n               508.23645003564025,\n               449.78247629309703,\n               627.1103943216831,\n               528.7595849504048,\n               464.30120157360426,\n               464.41276417432954,\n               416.2469595553822,\n               512.3199365475258,\n               526.7879681798034,\n               479.4861416642287,\n               415.5030809549762,\n               291.0761305277787,\n               374.98817120157355,\n               569.2169335640722,\n               723.0535179226242,\n               789.8825811057052,\n               769.2337272055939,\n               814.3496050024731,\n               619.2278781808119,\n               686.0956494944035,\n               778.2813853095718,\n               733.4534349740092,\n               730.0417733025295,\n               627.5641184378549,\n               693.8609562998209,\n               637.9632059431077,\n               760.3616857667882,\n               723.0814000775781,\n               700.6841847132737,\n               755.9043881660658,\n               791.2052730466322,\n               862.4841434963895,\n               753.1240483838723,\n               666.6535753476968,\n               552.1976422562279,\n               501.00317324821157,\n               624.1510975563489,\n               606.7009282294367,\n               580.7696961859887,\n               472.27303761451157,\n               347.954469015415,\n               298.02589419044705,\n               294.14351757562787,\n               169.3036982245068,\n               252.52851433770644,\n               335.70584980909763,\n               255.59175350084436,\n               304.72252534872405,\n               253.52765834905446,\n               255.92123850061822,\n               259.908602925417,\n               264.771450806008,\n               256.6713450792555,\n               296.8247400447486,\n               303.0730459166686,\n               261.6192979901836,\n               270.11992064518734,\n               271.41330884577604,\n               299.01634639876505,\n               284.17954016009656,\n               351.00694348221015,\n               316.9995192951639,\n               335.7008014082617,\n               324.2230640025044,\n               359.5124809770433,\n               306.22743952756446,\n               325.2497863282843,\n               325.54175118064654,\n               312.8970948682626,\n               301.13235353575476,\n               267.9991372813445,\n               284.40705089846597,\n               310.4925822340039,\n               335.618913594946,\n               331.2333038380707,\n               320.2088409269471,\n               311.55277539483626,\n               318.83924423265256,\n               292.4146429920299,\n               283.3120959945192,\n               261.32865559402427,\n               285.99580595982457,\n               231.36223019665275,\n               204.55800402049547,\n               189.13467954811298,\n               229.90622364336244,\n               191.90442973385092,\n               201.08448194818453,\n               239.0755380621304,\n               214.4318079237731]}),\n 'best_estimator_': None}"
     },
     "execution_count": 19,
     "metadata": {},
     "output_type": "execute_result"
    }
   ],
   "source": [
    "def fit_model_with_cross_validation(gs, X_train, y_train, fits):\n",
    "    pipe_start = time()\n",
    "    cv_result = gs.fit(X_train, y_train)\n",
    "    #gs.fit(X_train, y_train)\n",
    "    pipe_end = time()\n",
    "    average_time = round((pipe_end - pipe_start) / (fits), 2)\n",
    "\n",
    "    print(f\"Total fit/CV time      : {int(pipe_end - pipe_start)} seconds   ({pipe_start} ==> {pipe_end})\")\n",
    "    print()\n",
    "    print(\n",
    "        f'average fit/score time = {round(cv_result.cv_results_[\"mean_fit_time\"].mean(), 2)}s/{round(cv_result.cv_results_[\"mean_score_time\"].mean(), 2)}s')\n",
    "    print(\n",
    "        f'max fit/score time     = {round(cv_result.cv_results_[\"mean_fit_time\"].max(), 2)}s/{round(cv_result.cv_results_[\"mean_score_time\"].max(), 2)}s')\n",
    "    print(f'refit time             = {round(cv_result.refit_time_, 2)}s')\n",
    "\n",
    "    #return cv_result, average_time, cv_result.refit_time_, len(cv_result.cv_results_[\"mean_fit_time\"])\n",
    "    return average_time, cv_result.refit_time_, len(cv_result.cv_results_[\"mean_fit_time\"])\n",
    "\n",
    "\n",
    "if not_catboost:\n",
    "    if ALGORITHM_DETAIL == 'grid search':\n",
    "        crossval_runner = GridSearchCV(\n",
    "            estimator=starter_pipe,\n",
    "            param_grid=param_options,\n",
    "            cv=cv, n_jobs=n_jobs, # get the AVX/AVX2 info if use n_jobs > 2\n",
    "            verbose=verbose, scoring=CROSS_VALIDATION_SCORING,\n",
    "            refit=refit,\n",
    "            return_train_score=True, #n_iter=n_iter,\n",
    "            #error_score='raise'\n",
    "        )\n",
    "    else:\n",
    "        crossval_runner = RandomizedSearchCV(\n",
    "            estimator=starter_pipe,\n",
    "            param_distributions=param_options,\n",
    "            cv=cv, n_jobs=n_jobs,  # get the AVX/AVX2 info if use n_jobs > 2\n",
    "            verbose=verbose, scoring=CROSS_VALIDATION_SCORING,\n",
    "            refit=refit,\n",
    "            return_train_score=True,  #n_iter=n_iter,\n",
    "            n_iter=n_iter,  # 1, #3\n",
    "            #error_score='raise'\n",
    "    )\n",
    "    cv_average_fit_time, cv_best_model_fit_time, total_fits = fit_model_with_cross_validation(\n",
    "        crossval_runner, X_train, y_train, fits=cv * n_iter)\n",
    "\n",
    "else:\n",
    "    import sys\n",
    "    from catboost import CatBoostRegressor, Pool\n",
    "\n",
    "    #pool = Pool(df, cat_features=['tenure.tenureType'], label=df['Price'].values)\n",
    "    pool_Xytrain = Pool(X_train, cat_features=[7], label=y_train)\n",
    "    #pool_Xtest = Pool(X_train, cat_features=[7], label=y_train)\n",
    "    pool_Xtest = Pool(X_test, cat_features=[7], label=y_test)\n",
    "\n",
    "    starter_model = model=CatBoostRegressor(iterations=n_iter, depth=3, learning_rate=0.1, loss_function='RMSE', objective='RMSE', logging_level='Verbose')\n",
    "\n",
    "    pipe_start = time()\n",
    "\n",
    "    output = starter_model.randomized_search(options_block,\n",
    "                                             X=pool_Xytrain,\n",
    "                                             cv=5,\n",
    "                                             partition_random_seed=101,\n",
    "                                             calc_cv_statistics=True,\n",
    "                                             refit=True,\n",
    "                                             shuffle=True,\n",
    "                                             stratified=None,\n",
    "                                             verbose=True,\n",
    "                                             plot=True,\n",
    "\n",
    "                                             log_cout=sys.stdout,\n",
    "                                             log_cerr=sys.stderr\n",
    "                                             #search_by_train_test_split=True,\n",
    "                                             #train_size=0.8,\n",
    "                                             #train_size=1,\n",
    "                                             )\n",
    "\n",
    "    pipe_end = time()\n",
    "    average_time = round((pipe_end - pipe_start) / (n_iter), 2)\n",
    "    print(\"average time is probably:\", average_time)\n",
    "\n",
    "    cat_params, cat_cv_results = output['params'], output['cv_results']\n",
    "    crossval_runner = {\"best_params_\": cat_params, \"cv_results_\": cat_cv_results, \"best_estimator_\": None}\n",
    "crossval_runner"
   ]
  },
  {
   "cell_type": "code",
   "execution_count": 19,
   "outputs": [],
   "source": [],
   "metadata": {
    "collapsed": false
   }
  },
  {
   "cell_type": "code",
   "execution_count": 20,
   "metadata": {
    "execution": {
     "iopub.execute_input": "2022-11-16T13:59:47.181563Z",
     "iopub.status.busy": "2022-11-16T13:59:47.181323Z",
     "iopub.status.idle": "2022-11-16T13:59:47.185299Z",
     "shell.execute_reply": "2022-11-16T13:59:47.184626Z",
     "shell.execute_reply.started": "2022-11-16T13:59:47.181540Z"
    }
   },
   "outputs": [],
   "source": [
    "if not_catboost:\n",
    "    best_estimator_pipe = crossval_runner.best_estimator_\n",
    "\n",
    "    if not_catboost and debug_mode:\n",
    "        crossval_runner.cv_results_"
   ]
  },
  {
   "cell_type": "code",
   "execution_count": 21,
   "metadata": {
    "execution": {
     "iopub.execute_input": "2022-11-16T13:59:47.186218Z",
     "iopub.status.busy": "2022-11-16T13:59:47.186022Z",
     "iopub.status.idle": "2022-11-16T13:59:47.190491Z",
     "shell.execute_reply": "2022-11-16T13:59:47.189828Z",
     "shell.execute_reply.started": "2022-11-16T13:59:47.186200Z"
    }
   },
   "outputs": [
    {
     "name": "stdout",
     "output_type": "stream",
     "text": [
      "<catboost.core.CatBoostRegressor object at 0x7fb02a5dd190>\n",
      "defaultdict(<class 'list'>, {'iterations': [0, 1, 2, 3, 4, 5, 6, 7, 8, 9, 10, 11, 12, 13, 14, 15, 16, 17, 18, 19, 20, 21, 22, 23, 24, 25, 26, 27, 28, 29, 30, 31, 32, 33, 34, 35, 36, 37, 38, 39, 40, 41, 42, 43, 44, 45, 46, 47, 48, 49, 50, 51, 52, 53, 54, 55, 56, 57, 58, 59, 60, 61, 62, 63, 64, 65, 66, 67, 68, 69, 70, 71, 72, 73, 74, 75, 76, 77, 78, 79, 80, 81, 82, 83, 84, 85, 86, 87, 88, 89, 90, 91, 92, 93, 94, 95, 96, 97, 98, 99], 'test-RMSE-mean': [238301.15063332728, 144435.7189191103, 102127.05506232078, 85237.38421297757, 78370.16257947558, 72297.82053653698, 69544.24623098386, 68172.99449612999, 67532.16002256118, 67055.7757909613, 66589.88477752644, 66329.42064902723, 66083.37938878652, 65873.7132563575, 65639.1163227796, 65421.52852664467, 65238.965443875255, 65101.876094210005, 64898.31384264369, 64662.163915293, 64550.27168930237, 64429.604517710686, 64260.20033901321, 64060.20292905228, 63868.95629273968, 63733.14852469886, 63560.28330147259, 63437.62939674023, 63297.93194180007, 63114.82744419862, 63040.51420445214, 62964.19093682419, 62888.20086880911, 62818.18717910339, 62748.12668912144, 62645.51710275314, 62575.82842130018, 62514.725703437616, 62404.224769023866, 62348.85598184641, 62269.454160917005, 62171.81457710922, 62101.39333893151, 62038.299669871034, 61976.557348219256, 61956.16480031796, 61923.459242203506, 61858.40117710702, 61798.00569024814, 61765.75725876243, 61710.37293520248, 61693.975559687766, 61638.554081748516, 61601.46093055499, 61576.0350328441, 61562.11527786914, 61522.19077226597, 61507.586480897015, 61464.55103594848, 61444.48110765886, 61421.588733977405, 61388.10801961813, 61364.3804248285, 61346.96936024526, 61338.053015443285, 61314.29678580605, 61292.89888018662, 61258.99966415281, 61237.49556661721, 61201.013380538396, 61183.3314202412, 61173.91634262937, 61156.37344927032, 61146.630702113136, 61153.04791113983, 61162.945521031346, 61139.41941952746, 61122.706911166955, 61114.00859908621, 61109.77252325862, 61102.34643043362, 61087.39527533298, 61067.67162296162, 61053.75352097382, 61048.26423444413, 61034.12382083762, 61037.860653812204, 61021.611092209314, 61001.827885538805, 60982.282751453284, 60984.026234834004, 60984.41328477908, 60977.04224249921, 60979.982062974464, 60977.26936326058, 60970.49199790822, 60962.62615400648, 60956.039639878356, 60938.340466365706, 60931.6097242004], 'test-RMSE-std': [817.316749630543, 1709.0412571923798, 667.6173300546213, 696.6011242581982, 239.93775424810636, 497.08285543747786, 150.7297590451407, 436.3112351542896, 406.92586979612787, 408.60424353740393, 382.5972664429279, 495.6776924910143, 481.935160220185, 381.6559018930443, 478.655869651212, 509.26313390782286, 494.6826520209507, 482.414360507929, 490.84047349136046, 561.2451358291715, 594.5976011884768, 627.1109124256323, 631.6878396294265, 638.8594844842235, 688.9776287583138, 713.900203707087, 814.5959309295131, 725.1536769916457, 677.904615447734, 709.9821911543476, 750.1616450501036, 782.4991174150285, 821.1747214943578, 840.8996719900445, 835.708155680783, 743.0367293907138, 753.9228662534115, 742.9518489078381, 730.8561592936679, 756.6445284688691, 728.9916327192914, 650.1057528135303, 697.2702197285876, 716.4624481511531, 703.8352348235059, 711.9137601745473, 731.913635961805, 768.4934991791293, 822.2881043219132, 799.2179220241824, 776.5413048624724, 800.2749291393598, 800.5335377332287, 829.5731322184187, 839.3789684505988, 831.1298194646906, 848.0022368199162, 846.2674808460889, 846.0854663058941, 846.3228572487776, 852.1865540883571, 847.5919409481432, 836.7852907593899, 833.4279596212075, 821.5599691402047, 821.6507784709243, 831.7520961390211, 843.7682496551607, 818.1528602072548, 827.1878307654499, 783.5498700852039, 783.9593442220663, 788.7944572872399, 795.6152934382887, 791.1174000833341, 785.9046893319339, 798.8481606642827, 804.163749647715, 825.390671180345, 812.3551246713502, 818.484197667934, 829.1138597146244, 828.9932283316145, 833.7803067958864, 822.1970431824552, 821.6190294476363, 802.8422074706073, 812.0159383008695, 815.5963531148437, 816.8914575548872, 807.3450419634678, 817.4222039288557, 804.7484353924566, 794.4876831997022, 811.0240315797851, 820.7209314082473, 820.9961783207069, 843.6899552990509, 825.8362702098723, 818.0253722190532], 'train-RMSE-mean': [238233.1839405565, 144114.40012331196, 101125.63488815611, 83855.87003157202, 76458.60338942109, 69902.7535531234, 66602.08147666467, 64734.70652728922, 63999.78104476731, 63067.63831340075, 62258.823127491356, 61725.49395825651, 61291.32812342211, 60892.6362743102, 60425.675594056935, 59923.70676238935, 59431.62645166179, 58924.71204748556, 58376.11235576699, 57878.09651461131, 57455.89246253441, 57056.69711317844, 56513.658667958654, 56023.79245042619, 55544.9740369805, 55099.38585561809, 54737.62883391427, 54477.66803437186, 54130.98889458147, 53694.35841067232, 53431.64675562728, 53103.46129746603, 52800.26842284681, 52452.65614700003, 52059.570021368665, 51627.955658671905, 51325.68267501723, 51007.445762250805, 50699.35684377367, 50421.78593708284, 50091.27032583989, 49729.05297725399, 49494.63411523881, 49142.57311253384, 48835.951579041925, 48694.49841832736, 48450.870561726064, 48035.215111947895, 47791.17809361916, 47542.08217155472, 47286.24724643426, 46960.480764475455, 46664.5674681955, 46425.48307215197, 46333.62663672662, 46109.462943611645, 45929.574952107345, 45731.819461794585, 45408.16547590259, 45178.54765668154, 44890.62896981143, 44678.48613993259, 44449.452748330266, 44234.27130911853, 43995.60498018915, 43751.98119320792, 43588.068575202844, 43341.92767843647, 43198.85525227983, 42962.98149685725, 42773.24979825028, 42636.756819567556, 42418.79343193634, 42279.514707993156, 42105.40875908131, 41935.361802459025, 41768.50841231612, 41574.55051447652, 41349.172403060795, 41226.57646572034, 41053.984112756036, 40876.28954291608, 40728.834142433676, 40624.33209450637, 40456.31749834401, 40287.864625931215, 40099.65587333897, 39945.51455053837, 39843.10724695102, 39691.68289921049, 39566.68637337929, 39404.39949186527, 39265.256147574924, 39094.74532347619, 38930.064878670884, 38782.71985725366, 38685.539050598025, 38567.79668967465, 38424.84080516675, 38253.30858120947], 'train-RMSE-std': [148.9036115523688, 1223.0891181131885, 482.3826996644674, 896.4638144644945, 266.608580010604, 178.21803840305282, 438.8395451569251, 464.19040918379596, 487.6221953717014, 778.1826984675693, 508.23645003564025, 449.78247629309703, 627.1103943216831, 528.7595849504048, 464.30120157360426, 464.41276417432954, 416.2469595553822, 512.3199365475258, 526.7879681798034, 479.4861416642287, 415.5030809549762, 291.0761305277787, 374.98817120157355, 569.2169335640722, 723.0535179226242, 789.8825811057052, 769.2337272055939, 814.3496050024731, 619.2278781808119, 686.0956494944035, 778.2813853095718, 733.4534349740092, 730.0417733025295, 627.5641184378549, 693.8609562998209, 637.9632059431077, 760.3616857667882, 723.0814000775781, 700.6841847132737, 755.9043881660658, 791.2052730466322, 862.4841434963895, 753.1240483838723, 666.6535753476968, 552.1976422562279, 501.00317324821157, 624.1510975563489, 606.7009282294367, 580.7696961859887, 472.27303761451157, 347.954469015415, 298.02589419044705, 294.14351757562787, 169.3036982245068, 252.52851433770644, 335.70584980909763, 255.59175350084436, 304.72252534872405, 253.52765834905446, 255.92123850061822, 259.908602925417, 264.771450806008, 256.6713450792555, 296.8247400447486, 303.0730459166686, 261.6192979901836, 270.11992064518734, 271.41330884577604, 299.01634639876505, 284.17954016009656, 351.00694348221015, 316.9995192951639, 335.7008014082617, 324.2230640025044, 359.5124809770433, 306.22743952756446, 325.2497863282843, 325.54175118064654, 312.8970948682626, 301.13235353575476, 267.9991372813445, 284.40705089846597, 310.4925822340039, 335.618913594946, 331.2333038380707, 320.2088409269471, 311.55277539483626, 318.83924423265256, 292.4146429920299, 283.3120959945192, 261.32865559402427, 285.99580595982457, 231.36223019665275, 204.55800402049547, 189.13467954811298, 229.90622364336244, 191.90442973385092, 201.08448194818453, 239.0755380621304, 214.4318079237731]})\n",
      "{'depth': 15, 'l2_leaf_reg': 5, 'learning_rate': 0.5}\n"
     ]
    }
   ],
   "source": [
    "starter_model\n",
    "if True:\n",
    "    print(starter_model)\n",
    "if not not_catboost:\n",
    "    print(cat_cv_results)\n",
    "    print(cat_params)\n"
   ]
  },
  {
   "cell_type": "code",
   "execution_count": 22,
   "metadata": {
    "execution": {
     "iopub.execute_input": "2022-11-16T13:59:47.191425Z",
     "iopub.status.busy": "2022-11-16T13:59:47.191213Z",
     "iopub.status.idle": "2022-11-16T13:59:47.194465Z",
     "shell.execute_reply": "2022-11-16T13:59:47.193803Z",
     "shell.execute_reply.started": "2022-11-16T13:59:47.191404Z"
    }
   },
   "outputs": [],
   "source": [
    "if not_catboost:\n",
    "    crossval_runner.best_params_\n",
    "else:\n",
    "    crossval_runner[\"best_params_\"]"
   ]
  },
  {
   "cell_type": "code",
   "execution_count": 23,
   "metadata": {
    "execution": {
     "iopub.execute_input": "2022-11-16T13:59:47.195527Z",
     "iopub.status.busy": "2022-11-16T13:59:47.195321Z",
     "iopub.status.idle": "2022-11-16T13:59:47.220555Z",
     "shell.execute_reply": "2022-11-16T13:59:47.218381Z",
     "shell.execute_reply.started": "2022-11-16T13:59:47.195509Z"
    }
   },
   "outputs": [
    {
     "data": {
      "text/plain": "''"
     },
     "execution_count": 23,
     "metadata": {},
     "output_type": "execute_result"
    }
   ],
   "source": [
    "if not_catboost:\n",
    "    cv_results_df = pd.DataFrame(crossval_runner.cv_results_).sort_values('rank_test_score')\n",
    "cv_results_df if not_catboost else ''"
   ]
  },
  {
   "cell_type": "code",
   "execution_count": 24,
   "metadata": {
    "execution": {
     "iopub.execute_input": "2022-11-16T13:59:47.221915Z",
     "iopub.status.busy": "2022-11-16T13:59:47.221447Z",
     "iopub.status.idle": "2022-11-16T13:59:47.227414Z",
     "shell.execute_reply": "2022-11-16T13:59:47.226868Z",
     "shell.execute_reply.started": "2022-11-16T13:59:47.221887Z"
    }
   },
   "outputs": [
    {
     "data": {
      "text/plain": "''"
     },
     "execution_count": 24,
     "metadata": {},
     "output_type": "execute_result"
    }
   ],
   "source": [
    "if not_catboost and debug_mode:\n",
    "    xx = [c for c in cv_results_df.columns if 'param' in c]\n",
    "    xx.insert(0, 'rank_test_score')\n",
    "    xx.insert(0, 'mean_test_score')\n",
    "cv_results_df[xx].head(7) if not_catboost and debug_mode else ''"
   ]
  },
  {
   "cell_type": "code",
   "execution_count": 25,
   "metadata": {
    "execution": {
     "iopub.execute_input": "2022-11-16T13:59:47.229078Z",
     "iopub.status.busy": "2022-11-16T13:59:47.228327Z",
     "iopub.status.idle": "2022-11-16T13:59:47.232994Z",
     "shell.execute_reply": "2022-11-16T13:59:47.232495Z",
     "shell.execute_reply.started": "2022-11-16T13:59:47.229055Z"
    }
   },
   "outputs": [
    {
     "data": {
      "text/plain": "''"
     },
     "execution_count": 25,
     "metadata": {},
     "output_type": "execute_result"
    }
   ],
   "source": [
    "cv_results_df[xx].tail(7) if not_catboost and debug_mode else ''"
   ]
  },
  {
   "cell_type": "code",
   "execution_count": 26,
   "metadata": {
    "execution": {
     "iopub.execute_input": "2022-11-16T13:59:47.234560Z",
     "iopub.status.busy": "2022-11-16T13:59:47.233863Z",
     "iopub.status.idle": "2022-11-16T13:59:47.251649Z",
     "shell.execute_reply": "2022-11-16T13:59:47.251101Z",
     "shell.execute_reply.started": "2022-11-16T13:59:47.234540Z"
    }
   },
   "outputs": [
    {
     "data": {
      "text/plain": "''"
     },
     "execution_count": 26,
     "metadata": {},
     "output_type": "execute_result"
    }
   ],
   "source": [
    "if not_catboost:\n",
    "    cv_results_df['params2'] = cv_results_df['params'].apply(lambda l: '/'.join([str(c) for c in l.values()]))\n",
    "\n",
    "    cv_columns = ['params2', 'rank_test_score', 'mean_test_score', 'mean_fit_time', 'mean_score_time', 'params']\n",
    "    # if 'Neural' not in ALGORITHM:\n",
    "    #     cv_columns.insert(2, 'mean_train_score')\n",
    "    cv_results_df_full_sorted = cv_results_df.sort_values('rank_test_score')[cv_columns].reset_index(drop=True)\n",
    "\n",
    "cv_results_df_full_sorted if not_catboost else ''"
   ]
  },
  {
   "cell_type": "code",
   "execution_count": 27,
   "metadata": {
    "execution": {
     "iopub.execute_input": "2022-11-16T13:59:47.253028Z",
     "iopub.status.busy": "2022-11-16T13:59:47.252374Z",
     "iopub.status.idle": "2022-11-16T13:59:47.278366Z",
     "shell.execute_reply": "2022-11-16T13:59:47.277883Z",
     "shell.execute_reply.started": "2022-11-16T13:59:47.253006Z"
    }
   },
   "outputs": [
    {
     "data": {
      "text/plain": "''"
     },
     "execution_count": 27,
     "metadata": {},
     "output_type": "execute_result"
    }
   ],
   "source": [
    "if not_catboost:\n",
    "\n",
    "    cv_results_df_sorted = cv_results_df_full_sorted[cv_results_df_full_sorted['mean_test_score'] > -2]\n",
    "    if len(cv_results_df_sorted) != len(cv_results_df_full_sorted):\n",
    "        print(-len(cv_results_df_sorted) + len(cv_results_df_full_sorted), \"fits were total failures\")\n",
    "        total_fits = len(cv_results_df_sorted)\n",
    "cv_results_df_sorted if not_catboost else ''\n"
   ]
  },
  {
   "cell_type": "code",
   "execution_count": 28,
   "metadata": {
    "execution": {
     "iopub.execute_input": "2022-11-16T13:59:47.279670Z",
     "iopub.status.busy": "2022-11-16T13:59:47.279065Z",
     "iopub.status.idle": "2022-11-16T13:59:47.282299Z",
     "shell.execute_reply": "2022-11-16T13:59:47.281778Z",
     "shell.execute_reply.started": "2022-11-16T13:59:47.279646Z"
    }
   },
   "outputs": [],
   "source": [
    "#pd.set_option('display.max_columns', None)\n"
   ]
  },
  {
   "cell_type": "code",
   "execution_count": 29,
   "metadata": {
    "execution": {
     "iopub.execute_input": "2022-11-16T13:59:47.283574Z",
     "iopub.status.busy": "2022-11-16T13:59:47.282958Z",
     "iopub.status.idle": "2022-11-16T13:59:47.300218Z",
     "shell.execute_reply": "2022-11-16T13:59:47.299493Z",
     "shell.execute_reply.started": "2022-11-16T13:59:47.283551Z"
    }
   },
   "outputs": [
    {
     "data": {
      "text/plain": "''"
     },
     "execution_count": 29,
     "metadata": {},
     "output_type": "execute_result"
    }
   ],
   "source": [
    "if not_catboost:\n",
    "    orig_debug_mode, orig_display_df_cols = debug_mode, pd.get_option('display.max_columns')\n",
    "    debug_mode = True\n",
    "    pd.set_option('display.max_columns', None)\n",
    "    if debug_mode:\n",
    "        debug_cols = ['rank_test_score', 'mean_test_score', 'mean_fit_time', 'mean_score_time']\n",
    "        debug_cols.extend([c for c in cv_results_df.columns if 'param' in c])\n",
    "\n",
    "cv_results_df[debug_cols].head(7) if debug_mode else ''"
   ]
  },
  {
   "cell_type": "code",
   "execution_count": 30,
   "metadata": {
    "execution": {
     "iopub.execute_input": "2022-11-16T13:59:47.304440Z",
     "iopub.status.busy": "2022-11-16T13:59:47.303671Z",
     "iopub.status.idle": "2022-11-16T13:59:47.307553Z",
     "shell.execute_reply": "2022-11-16T13:59:47.306930Z",
     "shell.execute_reply.started": "2022-11-16T13:59:47.304414Z"
    }
   },
   "outputs": [],
   "source": [
    "if not_catboost:\n",
    "    debug_mode = orig_debug_mode\n",
    "    pd.set_option('display.max_columns', orig_display_df_cols)"
   ]
  },
  {
   "cell_type": "code",
   "execution_count": 31,
   "metadata": {
    "execution": {
     "iopub.execute_input": "2022-11-16T13:59:47.309224Z",
     "iopub.status.busy": "2022-11-16T13:59:47.308334Z",
     "iopub.status.idle": "2022-11-16T13:59:47.315677Z",
     "shell.execute_reply": "2022-11-16T13:59:47.315141Z",
     "shell.execute_reply.started": "2022-11-16T13:59:47.309201Z"
    }
   },
   "outputs": [
    {
     "data": {
      "text/plain": "''"
     },
     "execution_count": 31,
     "metadata": {},
     "output_type": "execute_result"
    }
   ],
   "source": [
    "if not_catboost:\n",
    "    def print_results(cross_validation_result):\n",
    "        means = cross_validation_result.cv_results_['mean_test_score']\n",
    "        stds = cross_validation_result.cv_results_['std_test_score']\n",
    "        params = cross_validation_result.cv_results_['params']\n",
    "        times = cross_validation_result.cv_results_['std_test_score']\n",
    "\n",
    "        print(\"params:\" + \"/\".join([c.replace(\"model__\", \"\") for c in params[0].keys()]))\n",
    "        print()\n",
    "        for mean, std, param, time in zip(means, stds, params, times):\n",
    "            #param2 = \"/\".join(list(param.values()))\n",
    "            param2 = \"/\".join(list([str(c) for c in param.values()]))\n",
    "            print(f'{round(mean, 3)} (+/-{round(std * 2, 3)}) in {round(time, 4)}s for {param2}')\n",
    "\n",
    "\n",
    "print_results(crossval_runner) if debug_mode else ''"
   ]
  },
  {
   "cell_type": "code",
   "execution_count": 32,
   "metadata": {
    "execution": {
     "iopub.execute_input": "2022-11-16T13:59:47.317413Z",
     "iopub.status.busy": "2022-11-16T13:59:47.316534Z",
     "iopub.status.idle": "2022-11-16T13:59:47.321419Z",
     "shell.execute_reply": "2022-11-16T13:59:47.320870Z",
     "shell.execute_reply.started": "2022-11-16T13:59:47.317388Z"
    }
   },
   "outputs": [],
   "source": [
    "if not_catboost:\n",
    "    print('Best Index: ', crossval_runner.best_index_)\n",
    "    print('Best Score: ', crossval_runner.best_score_)\n",
    "    print('Best Params: ', crossval_runner.best_params_)"
   ]
  },
  {
   "cell_type": "code",
   "execution_count": 33,
   "metadata": {
    "execution": {
     "iopub.execute_input": "2022-11-16T13:59:47.323113Z",
     "iopub.status.busy": "2022-11-16T13:59:47.322229Z",
     "iopub.status.idle": "2022-11-16T13:59:47.327516Z",
     "shell.execute_reply": "2022-11-16T13:59:47.327008Z",
     "shell.execute_reply.started": "2022-11-16T13:59:47.323086Z"
    }
   },
   "outputs": [
    {
     "data": {
      "text/plain": "array([1.0, 1.0, 0.6959676001201812, 51.47824, -0.08707,\n       0.0214800000000039, 0.01735, 'LEASEHOLD', 0, 0, 0, 0, 0, 0, 0, 0,\n       0, 0, 0, 0, 0, 0, 0, 0, 0, 0, 0, 0, 0, 0, 0, 0, 0, 0, 0, 0, 0, 0,\n       0, 0, 0, 0, 0, 0, 0, 0, 0, 0, 0, 0, 0, 0, 0, 0, 0, 0, 0, 0],\n      dtype=object)"
     },
     "execution_count": 33,
     "metadata": {},
     "output_type": "execute_result"
    }
   ],
   "source": [
    "#pool_Xtest.shape\n",
    "#pool_Xtrain.shape\n",
    "X_train[0]\n",
    "X_test[0]"
   ]
  },
  {
   "cell_type": "code",
   "execution_count": 34,
   "metadata": {
    "execution": {
     "iopub.execute_input": "2022-11-16T13:59:47.328680Z",
     "iopub.status.busy": "2022-11-16T13:59:47.328195Z",
     "iopub.status.idle": "2022-11-16T13:59:47.380861Z",
     "shell.execute_reply": "2022-11-16T13:59:47.380015Z",
     "shell.execute_reply.started": "2022-11-16T13:59:47.328658Z"
    }
   },
   "outputs": [],
   "source": [
    "if not_catboost:\n",
    "    y_pred = best_estimator_pipe.predict(X_test)\n",
    "else:\n",
    "    y_pred = starter_model.predict(pool_Xtest)"
   ]
  },
  {
   "cell_type": "code",
   "execution_count": 35,
   "metadata": {
    "execution": {
     "iopub.execute_input": "2022-11-16T13:59:47.382580Z",
     "iopub.status.busy": "2022-11-16T13:59:47.382020Z",
     "iopub.status.idle": "2022-11-16T13:59:47.440737Z",
     "shell.execute_reply": "2022-11-16T13:59:47.439769Z",
     "shell.execute_reply.started": "2022-11-16T13:59:47.382556Z"
    }
   },
   "outputs": [
    {
     "data": {
      "text/plain": "0.6946507986921477"
     },
     "execution_count": 35,
     "metadata": {},
     "output_type": "execute_result"
    }
   ],
   "source": [
    "r_2_score = r2_score(y_test, y_pred)\n",
    "if not_catboost:\n",
    "    score = r_2_score\n",
    "    default_score = best_estimator_pipe.score(X_test, y_test)\n",
    "else:\n",
    "    score = r_2_score\n",
    "    default_score = starter_model.score(X_test, y_test)\n",
    "score"
   ]
  },
  {
   "cell_type": "code",
   "execution_count": 36,
   "metadata": {
    "execution": {
     "iopub.execute_input": "2022-11-16T13:59:47.442381Z",
     "iopub.status.busy": "2022-11-16T13:59:47.442151Z",
     "iopub.status.idle": "2022-11-16T13:59:47.448203Z",
     "shell.execute_reply": "2022-11-16T13:59:47.447282Z",
     "shell.execute_reply.started": "2022-11-16T13:59:47.442362Z"
    }
   },
   "outputs": [
    {
     "name": "stdout",
     "output_type": "stream",
     "text": [
      "----------CatBoost----------\n",
      "R square Accuracy 0.6946507986921477\n",
      "Mean Absolute Error Accuracy 44874.99690729516\n",
      "Mean Squared Error Accuracy 3449348436.4067893\n",
      "Root Mean Squared Error 58731.1538828141\n"
     ]
    }
   ],
   "source": [
    "y_pred = y_pred.reshape((-1, 1))\n",
    "\n",
    "R2 = r_2_score\n",
    "MAE = mean_absolute_error(y_test, y_pred)\n",
    "MSE = mean_squared_error(y_test, y_pred)\n",
    "RMSE = math.sqrt(MSE)\n",
    "print('-' * 10 + ALGORITHM + '-' * 10)\n",
    "print('R square Accuracy', R2)\n",
    "print('Mean Absolute Error Accuracy', MAE)\n",
    "print('Mean Squared Error Accuracy', MSE)\n",
    "print('Root Mean Squared Error', RMSE)"
   ]
  },
  {
   "cell_type": "code",
   "execution_count": 37,
   "metadata": {
    "execution": {
     "iopub.execute_input": "2022-11-16T13:59:47.450080Z",
     "iopub.status.busy": "2022-11-16T13:59:47.449147Z",
     "iopub.status.idle": "2022-11-16T13:59:47.453856Z",
     "shell.execute_reply": "2022-11-16T13:59:47.453198Z",
     "shell.execute_reply.started": "2022-11-16T13:59:47.450060Z"
    }
   },
   "outputs": [],
   "source": [
    "if debug_mode:\n",
    "    print(y_test_index.reshape((-1, 1)).shape);\n",
    "    print(y_pred.reshape((-1, 1)).shape);\n",
    "    print(y_test.shape);\n",
    "    print(y_test_index.shape);\n",
    "    print(y_pred.shape);\n",
    "    print(y_test.shape)"
   ]
  },
  {
   "cell_type": "code",
   "execution_count": 38,
   "metadata": {
    "execution": {
     "iopub.execute_input": "2022-11-16T13:59:47.455055Z",
     "iopub.status.busy": "2022-11-16T13:59:47.454855Z",
     "iopub.status.idle": "2022-11-16T13:59:47.472196Z",
     "shell.execute_reply": "2022-11-16T13:59:47.471460Z",
     "shell.execute_reply.started": "2022-11-16T13:59:47.455037Z"
    }
   },
   "outputs": [
    {
     "data": {
      "text/plain": "             actual      predicted    difference   diff 1 %   diff 2 %\nreference                                                             \n85490754   400000.0  340141.206287  59858.793713  14.964698  17.598219\n119328242  369950.0  442522.715107  72572.715107  19.616898  16.399772\n125716790  350000.0  366063.864797  16063.864797   4.589676   4.388268\n122440040  549000.0  541150.668842   7849.331158   1.429751   1.450489\n120508103  495000.0  516772.355284  21772.355284   4.398456   4.213142\n...             ...            ...           ...        ...        ...\n68620869   475000.0  542850.411494  67850.411494  14.284297  12.498915\n85735665   575000.0  518730.745810  56269.254190   9.785957  10.847488\n125706338  400000.0  382944.013996  17055.986004   4.263997   4.453911\n112739354  450000.0  516694.339878  66694.339878  14.820964  12.907891\n122707001  275000.0  292727.510639  17727.510639   6.446368   6.055977\n\n[4413 rows x 5 columns]",
      "text/html": "<div>\n<style scoped>\n    .dataframe tbody tr th:only-of-type {\n        vertical-align: middle;\n    }\n\n    .dataframe tbody tr th {\n        vertical-align: top;\n    }\n\n    .dataframe thead th {\n        text-align: right;\n    }\n</style>\n<table border=\"1\" class=\"dataframe\">\n  <thead>\n    <tr style=\"text-align: right;\">\n      <th></th>\n      <th>actual</th>\n      <th>predicted</th>\n      <th>difference</th>\n      <th>diff 1 %</th>\n      <th>diff 2 %</th>\n    </tr>\n    <tr>\n      <th>reference</th>\n      <th></th>\n      <th></th>\n      <th></th>\n      <th></th>\n      <th></th>\n    </tr>\n  </thead>\n  <tbody>\n    <tr>\n      <th>85490754</th>\n      <td>400000.0</td>\n      <td>340141.206287</td>\n      <td>59858.793713</td>\n      <td>14.964698</td>\n      <td>17.598219</td>\n    </tr>\n    <tr>\n      <th>119328242</th>\n      <td>369950.0</td>\n      <td>442522.715107</td>\n      <td>72572.715107</td>\n      <td>19.616898</td>\n      <td>16.399772</td>\n    </tr>\n    <tr>\n      <th>125716790</th>\n      <td>350000.0</td>\n      <td>366063.864797</td>\n      <td>16063.864797</td>\n      <td>4.589676</td>\n      <td>4.388268</td>\n    </tr>\n    <tr>\n      <th>122440040</th>\n      <td>549000.0</td>\n      <td>541150.668842</td>\n      <td>7849.331158</td>\n      <td>1.429751</td>\n      <td>1.450489</td>\n    </tr>\n    <tr>\n      <th>120508103</th>\n      <td>495000.0</td>\n      <td>516772.355284</td>\n      <td>21772.355284</td>\n      <td>4.398456</td>\n      <td>4.213142</td>\n    </tr>\n    <tr>\n      <th>...</th>\n      <td>...</td>\n      <td>...</td>\n      <td>...</td>\n      <td>...</td>\n      <td>...</td>\n    </tr>\n    <tr>\n      <th>68620869</th>\n      <td>475000.0</td>\n      <td>542850.411494</td>\n      <td>67850.411494</td>\n      <td>14.284297</td>\n      <td>12.498915</td>\n    </tr>\n    <tr>\n      <th>85735665</th>\n      <td>575000.0</td>\n      <td>518730.745810</td>\n      <td>56269.254190</td>\n      <td>9.785957</td>\n      <td>10.847488</td>\n    </tr>\n    <tr>\n      <th>125706338</th>\n      <td>400000.0</td>\n      <td>382944.013996</td>\n      <td>17055.986004</td>\n      <td>4.263997</td>\n      <td>4.453911</td>\n    </tr>\n    <tr>\n      <th>112739354</th>\n      <td>450000.0</td>\n      <td>516694.339878</td>\n      <td>66694.339878</td>\n      <td>14.820964</td>\n      <td>12.907891</td>\n    </tr>\n    <tr>\n      <th>122707001</th>\n      <td>275000.0</td>\n      <td>292727.510639</td>\n      <td>17727.510639</td>\n      <td>6.446368</td>\n      <td>6.055977</td>\n    </tr>\n  </tbody>\n</table>\n<p>4413 rows × 5 columns</p>\n</div>"
     },
     "execution_count": 38,
     "metadata": {},
     "output_type": "execute_result"
    }
   ],
   "source": [
    "compare = np.hstack((y_test_index, y_test, y_pred))\n",
    "compare_df = DataFrame(compare, columns=['reference', 'actual', 'predicted'])\n",
    "compare_df['difference'] = abs(compare_df['actual'] - compare_df['predicted'])\n",
    "compare_df['diff 1 %'] = abs((compare_df['actual'] - compare_df['predicted']) / compare_df['actual'] * 100)\n",
    "compare_df['diff 2 %'] = abs((compare_df['actual'] - compare_df['predicted']) / compare_df['predicted']) * 100\n",
    "compare_df['reference'] = compare_df['reference'].astype(int)\n",
    "compare_df.set_index('reference', inplace=True)\n",
    "compare_df"
   ]
  },
  {
   "cell_type": "code",
   "execution_count": 39,
   "metadata": {
    "execution": {
     "iopub.execute_input": "2022-11-16T13:59:47.473173Z",
     "iopub.status.busy": "2022-11-16T13:59:47.472972Z",
     "iopub.status.idle": "2022-11-16T13:59:47.499899Z",
     "shell.execute_reply": "2022-11-16T13:59:47.499050Z",
     "shell.execute_reply.started": "2022-11-16T13:59:47.473156Z"
    }
   },
   "outputs": [
    {
     "data": {
      "text/plain": "           actual  predicted     difference    diff 1 %   diff 2 %   Price  \\\n122265818  160000     565486  405486.934159  253.429334  71.705801  160000   \n85667184   122000     390780  268780.797869  220.312129  68.780452  122000   \n109722224  108000     339491  231491.371833  214.343863  68.187704  108000   \n119684411  200000     449433  249433.735756  124.716868  55.499558  200000   \n83639617   190000     424331  234331.769326  123.332510  55.223716  190000   \n...           ...        ...            ...         ...        ...     ...   \n124401485  350000     350093      93.897067    0.026828   0.026821  350000   \n121778585  475000     475103     103.738096    0.021840   0.021835  475000   \n124443710  335000     335031      31.967119    0.009542   0.009542  335000   \n114222692  525000     524979      20.057149    0.003820   0.003821  525000   \n123667946  550000     549991       8.592600    0.001562   0.001562  550000   \n\n           bedrooms  bathrooms  nearestStation  location.latitude  \\\n122265818         3          1        0.166024          51.510420   \n85667184          1          1        0.838896          51.540462   \n109722224         1          1        0.302667          51.406803   \n119684411         2          1        0.511626          51.518081   \n83639617          2          2        0.162816          51.491264   \n...             ...        ...             ...                ...   \n124401485         2          1        0.370675          51.538375   \n121778585         3          2        0.662222          51.541586   \n124443710         1          1        0.335897          51.587751   \n114222692         2          2        0.069917          51.587260   \n123667946         2          2        0.080698          51.483436   \n\n           location.longitude  latitude_deviation  longitude_deviation  \\\n122265818           -0.037730            0.010700             0.066690   \n85667184            -0.280301            0.040742             0.175881   \n109722224           -0.261328            0.092917             0.156908   \n119684411           -0.029340            0.018361             0.075080   \n83639617             0.064660            0.008456             0.169080   \n...                       ...                 ...                  ...   \n124401485           -0.027569            0.038655             0.076851   \n121778585            0.205980            0.041866             0.310400   \n124443710           -0.096142            0.088031             0.008278   \n114222692           -0.111220            0.087540             0.006800   \n123667946            0.001877            0.016284             0.106297   \n\n          tenure.tenureType  \n122265818          FREEHOLD  \n85667184          LEASEHOLD  \n109722224         LEASEHOLD  \n119684411         LEASEHOLD  \n83639617          LEASEHOLD  \n...                     ...  \n124401485         LEASEHOLD  \n121778585          FREEHOLD  \n124443710         LEASEHOLD  \n114222692         LEASEHOLD  \n123667946         LEASEHOLD  \n\n[4413 rows x 14 columns]",
      "text/html": "<div>\n<style scoped>\n    .dataframe tbody tr th:only-of-type {\n        vertical-align: middle;\n    }\n\n    .dataframe tbody tr th {\n        vertical-align: top;\n    }\n\n    .dataframe thead th {\n        text-align: right;\n    }\n</style>\n<table border=\"1\" class=\"dataframe\">\n  <thead>\n    <tr style=\"text-align: right;\">\n      <th></th>\n      <th>actual</th>\n      <th>predicted</th>\n      <th>difference</th>\n      <th>diff 1 %</th>\n      <th>diff 2 %</th>\n      <th>Price</th>\n      <th>bedrooms</th>\n      <th>bathrooms</th>\n      <th>nearestStation</th>\n      <th>location.latitude</th>\n      <th>location.longitude</th>\n      <th>latitude_deviation</th>\n      <th>longitude_deviation</th>\n      <th>tenure.tenureType</th>\n    </tr>\n  </thead>\n  <tbody>\n    <tr>\n      <th>122265818</th>\n      <td>160000</td>\n      <td>565486</td>\n      <td>405486.934159</td>\n      <td>253.429334</td>\n      <td>71.705801</td>\n      <td>160000</td>\n      <td>3</td>\n      <td>1</td>\n      <td>0.166024</td>\n      <td>51.510420</td>\n      <td>-0.037730</td>\n      <td>0.010700</td>\n      <td>0.066690</td>\n      <td>FREEHOLD</td>\n    </tr>\n    <tr>\n      <th>85667184</th>\n      <td>122000</td>\n      <td>390780</td>\n      <td>268780.797869</td>\n      <td>220.312129</td>\n      <td>68.780452</td>\n      <td>122000</td>\n      <td>1</td>\n      <td>1</td>\n      <td>0.838896</td>\n      <td>51.540462</td>\n      <td>-0.280301</td>\n      <td>0.040742</td>\n      <td>0.175881</td>\n      <td>LEASEHOLD</td>\n    </tr>\n    <tr>\n      <th>109722224</th>\n      <td>108000</td>\n      <td>339491</td>\n      <td>231491.371833</td>\n      <td>214.343863</td>\n      <td>68.187704</td>\n      <td>108000</td>\n      <td>1</td>\n      <td>1</td>\n      <td>0.302667</td>\n      <td>51.406803</td>\n      <td>-0.261328</td>\n      <td>0.092917</td>\n      <td>0.156908</td>\n      <td>LEASEHOLD</td>\n    </tr>\n    <tr>\n      <th>119684411</th>\n      <td>200000</td>\n      <td>449433</td>\n      <td>249433.735756</td>\n      <td>124.716868</td>\n      <td>55.499558</td>\n      <td>200000</td>\n      <td>2</td>\n      <td>1</td>\n      <td>0.511626</td>\n      <td>51.518081</td>\n      <td>-0.029340</td>\n      <td>0.018361</td>\n      <td>0.075080</td>\n      <td>LEASEHOLD</td>\n    </tr>\n    <tr>\n      <th>83639617</th>\n      <td>190000</td>\n      <td>424331</td>\n      <td>234331.769326</td>\n      <td>123.332510</td>\n      <td>55.223716</td>\n      <td>190000</td>\n      <td>2</td>\n      <td>2</td>\n      <td>0.162816</td>\n      <td>51.491264</td>\n      <td>0.064660</td>\n      <td>0.008456</td>\n      <td>0.169080</td>\n      <td>LEASEHOLD</td>\n    </tr>\n    <tr>\n      <th>...</th>\n      <td>...</td>\n      <td>...</td>\n      <td>...</td>\n      <td>...</td>\n      <td>...</td>\n      <td>...</td>\n      <td>...</td>\n      <td>...</td>\n      <td>...</td>\n      <td>...</td>\n      <td>...</td>\n      <td>...</td>\n      <td>...</td>\n      <td>...</td>\n    </tr>\n    <tr>\n      <th>124401485</th>\n      <td>350000</td>\n      <td>350093</td>\n      <td>93.897067</td>\n      <td>0.026828</td>\n      <td>0.026821</td>\n      <td>350000</td>\n      <td>2</td>\n      <td>1</td>\n      <td>0.370675</td>\n      <td>51.538375</td>\n      <td>-0.027569</td>\n      <td>0.038655</td>\n      <td>0.076851</td>\n      <td>LEASEHOLD</td>\n    </tr>\n    <tr>\n      <th>121778585</th>\n      <td>475000</td>\n      <td>475103</td>\n      <td>103.738096</td>\n      <td>0.021840</td>\n      <td>0.021835</td>\n      <td>475000</td>\n      <td>3</td>\n      <td>2</td>\n      <td>0.662222</td>\n      <td>51.541586</td>\n      <td>0.205980</td>\n      <td>0.041866</td>\n      <td>0.310400</td>\n      <td>FREEHOLD</td>\n    </tr>\n    <tr>\n      <th>124443710</th>\n      <td>335000</td>\n      <td>335031</td>\n      <td>31.967119</td>\n      <td>0.009542</td>\n      <td>0.009542</td>\n      <td>335000</td>\n      <td>1</td>\n      <td>1</td>\n      <td>0.335897</td>\n      <td>51.587751</td>\n      <td>-0.096142</td>\n      <td>0.088031</td>\n      <td>0.008278</td>\n      <td>LEASEHOLD</td>\n    </tr>\n    <tr>\n      <th>114222692</th>\n      <td>525000</td>\n      <td>524979</td>\n      <td>20.057149</td>\n      <td>0.003820</td>\n      <td>0.003821</td>\n      <td>525000</td>\n      <td>2</td>\n      <td>2</td>\n      <td>0.069917</td>\n      <td>51.587260</td>\n      <td>-0.111220</td>\n      <td>0.087540</td>\n      <td>0.006800</td>\n      <td>LEASEHOLD</td>\n    </tr>\n    <tr>\n      <th>123667946</th>\n      <td>550000</td>\n      <td>549991</td>\n      <td>8.592600</td>\n      <td>0.001562</td>\n      <td>0.001562</td>\n      <td>550000</td>\n      <td>2</td>\n      <td>2</td>\n      <td>0.080698</td>\n      <td>51.483436</td>\n      <td>0.001877</td>\n      <td>0.016284</td>\n      <td>0.106297</td>\n      <td>LEASEHOLD</td>\n    </tr>\n  </tbody>\n</table>\n<p>4413 rows × 14 columns</p>\n</div>"
     },
     "execution_count": 39,
     "metadata": {},
     "output_type": "execute_result"
    }
   ],
   "source": [
    "combined = compare_df.merge(df[columns], how='inner', left_index=True, right_index=True).sort_values(['diff 1 %'],\n",
    "                                                                                                     ascending=False)\n",
    "#pd.options.display.float_format = '{:.4f}'.format\n",
    "combined[['predicted', 'actual', 'Price', 'bedrooms', 'bathrooms']] = combined[\n",
    "    ['predicted', 'actual', 'Price', 'bedrooms', 'bathrooms']].astype(int)\n",
    "combined['bedrooms'] = combined['bedrooms'].astype(int)\n",
    "combined"
   ]
  },
  {
   "cell_type": "code",
   "execution_count": 40,
   "metadata": {
    "execution": {
     "iopub.execute_input": "2022-11-16T13:59:47.501494Z",
     "iopub.status.busy": "2022-11-16T13:59:47.500942Z",
     "iopub.status.idle": "2022-11-16T13:59:47.635559Z",
     "shell.execute_reply": "2022-11-16T13:59:47.634656Z",
     "shell.execute_reply.started": "2022-11-16T13:59:47.501473Z"
    }
   },
   "outputs": [
    {
     "data": {
      "text/plain": "<Figure size 432x288 with 1 Axes>",
      "image/png": "[encoded data removed]"
     },
     "metadata": {
      "needs_background": "light"
     },
     "output_type": "display_data"
    }
   ],
   "source": [
    "fig, ax = plt.subplots()\n",
    "ax.scatter(y_test, y_pred, edgecolors=(0, 0, 1))\n",
    "ax.plot([y_test.min(), y_test.max()], [y_test.min(), y_test.max()], 'r--', lw=3)\n",
    "ax.set_ylabel('Predicted')\n",
    "ax.set_xlabel('Actual')\n",
    "#ax.title.set_text(f'CV Chosen best option ({calculated_best_pipe[1]})')\n",
    "plt.show()"
   ]
  },
  {
   "cell_type": "code",
   "execution_count": 41,
   "metadata": {
    "execution": {
     "iopub.execute_input": "2022-11-16T13:59:47.637419Z",
     "iopub.status.busy": "2022-11-16T13:59:47.636639Z",
     "iopub.status.idle": "2022-11-16T13:59:50.927930Z",
     "shell.execute_reply": "2022-11-16T13:59:50.927235Z",
     "shell.execute_reply.started": "2022-11-16T13:59:47.637397Z"
    }
   },
   "outputs": [],
   "source": [
    "if not_catboost:\n",
    "    def custom_model_and_predictions(model, graph_params, X_train, y_train, X_test):\n",
    "        graph_model = model\n",
    "        graph_model.set_params(**graph_params)\n",
    "        graph_model.fit(X_train, y_train)\n",
    "        y_pred_graph = model.predict(X_test)\n",
    "\n",
    "        return model, y_pred_graph\n",
    "\n",
    "\n",
    "    best_model_count = 10 if not quick_mode else 2\n",
    "    best_model_count = 3 if not quick_mode else 1\n",
    "    best_models = {}\n",
    "    best_model_predictions = {}\n",
    "    best_model_scores = {}\n",
    "\n",
    "    showable_increment = total_fits // (4 if not quick_mode else 2)\n",
    "    if showable_increment==0:showable_increment=1\n",
    "    for i in range(0, total_fits, showable_increment):\n",
    "        if debug_mode or True: print(f'{i} ==> {i}')\n",
    "\n",
    "        if i == 0:\n",
    "            fitted_graph_model = crossval_runner.best_estimator_\n",
    "            y_pred_graph = y_pred\n",
    "        else:\n",
    "            graph_pipe_params = cv_results_df_sorted['params'][i]\n",
    "            print(graph_pipe_params)\n",
    "            # would always return the best! graph_pipe_params = cv_results_df_sorted.loc[cv_results_df_sorted['rank_test_score'] == 1, 'params'].values[0]\n",
    "\n",
    "            graph_params = {}\n",
    "            for key, value in graph_pipe_params.items():\n",
    "                graph_params[key.replace('model__', '')] = value\n",
    "\n",
    "            fitted_graph_model, y_pred_graph = custom_model_and_predictions(make_pipeline(), graph_pipe_params, X_train,\n",
    "                                                                            y_train, X_test)\n",
    "\n",
    "        best_models[i] = fitted_graph_model[-1].get_params()\n",
    "        best_model_predictions[i] = y_pred_graph\n",
    "        best_model_scores[i] = fitted_graph_model.score(X_test, y_test)\n",
    "\n",
    "    if debug_mode or True: print(f'{-1} ==> {-1}')\n",
    "    graph_pipe_params = cv_results_df_sorted['params'][total_fits - 1]\n",
    "    print(graph_pipe_params)\n",
    "    graph_params = {}\n",
    "    for key, value in graph_pipe_params.items():\n",
    "        graph_params[key.replace('model__', '')] = value\n",
    "    fitted_graph_model, y_pred_graph = custom_model_and_predictions(make_pipeline(), graph_pipe_params, X_train,\n",
    "                                                                    y_train, X_test)\n",
    "    best_models[-1] = fitted_graph_model[-1].get_params()\n",
    "    best_model_predictions[-1] = y_pred_graph\n",
    "    best_model_scores[-1] = fitted_graph_model.score(X_test, y_test)\n"
   ]
  },
  {
   "cell_type": "code",
   "execution_count": 42,
   "metadata": {
    "execution": {
     "iopub.execute_input": "2022-11-16T13:59:50.929176Z",
     "iopub.status.busy": "2022-11-16T13:59:50.928941Z",
     "iopub.status.idle": "2022-11-16T13:59:50.953941Z",
     "shell.execute_reply": "2022-11-16T13:59:50.953292Z",
     "shell.execute_reply.started": "2022-11-16T13:59:50.929155Z"
    }
   },
   "outputs": [
    {
     "data": {
      "text/plain": "''"
     },
     "execution_count": 42,
     "metadata": {},
     "output_type": "execute_result"
    }
   ],
   "source": [
    "cv_results_df_sorted if not_catboost else ''"
   ]
  },
  {
   "cell_type": "code",
   "execution_count": 43,
   "metadata": {
    "execution": {
     "iopub.execute_input": "2022-11-16T13:59:50.955365Z",
     "iopub.status.busy": "2022-11-16T13:59:50.955113Z",
     "iopub.status.idle": "2022-11-16T13:59:50.960058Z",
     "shell.execute_reply": "2022-11-16T13:59:50.959362Z",
     "shell.execute_reply.started": "2022-11-16T13:59:50.955343Z"
    }
   },
   "outputs": [
    {
     "data": {
      "text/plain": "''"
     },
     "execution_count": 43,
     "metadata": {},
     "output_type": "execute_result"
    }
   ],
   "source": [
    "cv_results_df_sorted['params']  if not_catboost and debug_mode else ''"
   ]
  },
  {
   "cell_type": "code",
   "execution_count": 44,
   "metadata": {
    "execution": {
     "iopub.execute_input": "2022-11-16T13:59:50.961046Z",
     "iopub.status.busy": "2022-11-16T13:59:50.960847Z",
     "iopub.status.idle": "2022-11-16T13:59:50.966053Z",
     "shell.execute_reply": "2022-11-16T13:59:50.965218Z",
     "shell.execute_reply.started": "2022-11-16T13:59:50.961027Z"
    }
   },
   "outputs": [
    {
     "data": {
      "text/plain": "''"
     },
     "execution_count": 44,
     "metadata": {},
     "output_type": "execute_result"
    }
   ],
   "source": [
    "cv_results_df_sorted['params'][0] if not_catboost else ''"
   ]
  },
  {
   "cell_type": "code",
   "execution_count": 45,
   "metadata": {
    "execution": {
     "iopub.execute_input": "2022-11-16T13:59:50.967664Z",
     "iopub.status.busy": "2022-11-16T13:59:50.966945Z",
     "iopub.status.idle": "2022-11-16T13:59:50.974725Z",
     "shell.execute_reply": "2022-11-16T13:59:50.973935Z",
     "shell.execute_reply.started": "2022-11-16T13:59:50.967640Z"
    }
   },
   "outputs": [
    {
     "data": {
      "text/plain": "''"
     },
     "execution_count": 45,
     "metadata": {},
     "output_type": "execute_result"
    }
   ],
   "source": [
    "best_models if not_catboost else ''"
   ]
  },
  {
   "cell_type": "code",
   "execution_count": 46,
   "metadata": {
    "execution": {
     "iopub.execute_input": "2022-11-16T13:59:50.976386Z",
     "iopub.status.busy": "2022-11-16T13:59:50.975697Z",
     "iopub.status.idle": "2022-11-16T13:59:52.092828Z",
     "shell.execute_reply": "2022-11-16T13:59:52.092064Z",
     "shell.execute_reply.started": "2022-11-16T13:59:50.976363Z"
    }
   },
   "outputs": [],
   "source": [
    "if not_catboost:\n",
    "    for i in best_model_scores.keys():\n",
    "        if i >= 0:\n",
    "            plt.plot([y_test.min(), y_test.max()], [y_test.min(), y_test.max()], 'r--', lw=3)\n",
    "            plt.scatter(y_test, best_model_predictions[i])\n",
    "            # plt.title(str(i) + \" \" + str(round(best_model_scores[i], 4)) + \" for \" + str(best_models[i]))\n",
    "            if len(best_models[i].keys()) < 30:\n",
    "                plt.title(str(i) + \" \" + str(round(best_model_scores[i], 4)) + \" for \" + str(best_models[i]))\n",
    "            else:\n",
    "                plt.title(str(i) + \" \" + str(round(best_model_scores[i], 4)) + \" for entry \" + str(i))\n",
    "            plt.show()\n",
    "\n",
    "    plt.plot([y_test.min(), y_test.max()], [y_test.min(), y_test.max()], 'r--', lw=3)\n",
    "    plt.scatter(y_test, best_model_predictions[-1])\n",
    "    # plt.title(str(i) + \" \" + str(round(best_model_scores[i], 4)) + \" for \" + str(best_models[i]))\n",
    "    if len(best_models[i].keys()) < 30:\n",
    "        plt.title(str(i) + \" \" + str(round(best_model_scores[-1], 4)) + \" for \" + str(best_models[-1]))\n",
    "    else:\n",
    "        plt.title(str(i) + \" \" + str(round(best_model_scores[-1], 4)) + \" for (worst) entry \" + str(i))\n",
    "\n",
    "    plt.show()"
   ]
  },
  {
   "cell_type": "code",
   "execution_count": 47,
   "metadata": {
    "execution": {
     "iopub.execute_input": "2022-11-16T13:59:52.094913Z",
     "iopub.status.busy": "2022-11-16T13:59:52.094003Z",
     "iopub.status.idle": "2022-11-16T13:59:52.600226Z",
     "shell.execute_reply": "2022-11-16T13:59:52.599392Z",
     "shell.execute_reply.started": "2022-11-16T13:59:52.094884Z"
    }
   },
   "outputs": [],
   "source": [
    "if not_catboost:\n",
    "    sns.set_theme(font_scale=2, rc=None)\n",
    "    sns.set_theme(font_scale=1, rc=None)\n",
    "\n",
    "    fig, axes = plt.subplots(ncols=3, figsize=(15, 5))\n",
    "\n",
    "    plt.subplots_adjust(hspace=0.2)\n",
    "    plt.subplots_adjust(wspace=0.2)\n",
    "\n",
    "    #.flatten()\n",
    "    coordinates = axes[0]\n",
    "    sns.lineplot(x=[y_test.min(), y_test.max()], y=[y_test.min(), y_test.max()], ax=axes[0], color='red')\n",
    "    sns.scatterplot(x=y_test.flatten(), y=best_model_predictions[0].flatten(), ax=axes[0],\n",
    "                    s=100).set(title=f'\"BEST\" model')\n",
    "\n",
    "    sns.lineplot(x=[y_test.min(), y_test.max()], y=[y_test.min(), y_test.max()], ax=axes[1], color='red')\n",
    "    sns.scatterplot(x=y_test.flatten(), y=best_model_predictions[-1].flatten(), ax=axes[1],\n",
    "                    s=100).set(title=f'\"WORST\" model')\n",
    "\n",
    "    sns.lineplot(x=[y_test.min(), y_test.max()], y=[y_test.min(), y_test.max()], ax=axes[2], color='red')\n",
    "    sns.scatterplot(x=y_test.flatten(), y=best_model_predictions[-1].flatten(), ax=axes[2],\n",
    "                    s=120, color='orange')\n",
    "    sns.scatterplot(x=y_test.flatten(), y=best_model_predictions[0].flatten(), ax=axes[2],\n",
    "                    s=30, alpha=0.6, color='black').set(\n",
    "        title='best (black) vs worst (orange)')\n",
    "    #title='best (orange) vs worst (black)')\n",
    "\n",
    "    fig.tight_layout()\n",
    "    plt.show()"
   ]
  },
  {
   "cell_type": "code",
   "execution_count": 48,
   "metadata": {
    "execution": {
     "iopub.execute_input": "2022-11-16T13:59:52.601421Z",
     "iopub.status.busy": "2022-11-16T13:59:52.601193Z",
     "iopub.status.idle": "2022-11-16T13:59:52.607786Z",
     "shell.execute_reply": "2022-11-16T13:59:52.606855Z",
     "shell.execute_reply.started": "2022-11-16T13:59:52.601400Z"
    }
   },
   "outputs": [
    {
     "data": {
      "text/plain": "''"
     },
     "execution_count": 48,
     "metadata": {},
     "output_type": "execute_result"
    }
   ],
   "source": [
    "if not_catboost:\n",
    "    cv_best_model_fit_time = cv_results_df_sorted.iloc[0][\"mean_fit_time\"]\n",
    "cv_best_model_fit_time if not_catboost else ''"
   ]
  },
  {
   "cell_type": "code",
   "execution_count": 49,
   "metadata": {
    "execution": {
     "iopub.execute_input": "2022-11-16T13:59:52.608845Z",
     "iopub.status.busy": "2022-11-16T13:59:52.608602Z",
     "iopub.status.idle": "2022-11-16T13:59:52.871012Z",
     "shell.execute_reply": "2022-11-16T13:59:52.870054Z",
     "shell.execute_reply.started": "2022-11-16T13:59:52.608825Z"
    }
   },
   "outputs": [
    {
     "name": "stdout",
     "output_type": "stream",
     "text": [
      "haven't scored this model yet: CatBoost\n",
      "(debug:do nothing)\n",
      "catboost (v10)\n"
     ]
    }
   ],
   "source": [
    "# <catboost.core.CatBoostRegressor object at 0x7fb167387490>\n",
    "# {'depth': 6}\n",
    "# defaultdict(<class 'list'>, {'iterations': [0, 1, 2],\n",
    "# 'test-RMSE-mean': [396884.9605444017, 359548.6632536235, 326027.84885587444],\n",
    "# 'test-RMSE-std': [308.9495320039113, 260.0967808594464, 219.65856329246023],\n",
    "# 'train-RMSE-mean': [396884.77936957515, 359542.3612912551, 326018.9404460669],\n",
    "# 'train-RMSE-std': [91.44140078375503, 86.77961380623475, 69.4038638987425]})\n",
    "\n",
    "cv_best_model_fit_time = cv_results_df_sorted.iloc[0][\"mean_fit_time\"] if not_catboost else average_time\n",
    "\n",
    "DD2 = \"(\" + \",\".join(DATA_DETAIL) + \")\" if len(DATA_DETAIL) >= 1 else \"\"\n",
    "key = f'{ALGORITHM} (v{VERSION})'.lower()\n",
    "\n",
    "method =  f\"{ALGORITHM_DETAIL}{DD2}\"\n",
    "\n",
    "new_results = {\n",
    "    '_score': score,\n",
    "    'R square Accuracy': R2,\n",
    "    'Mean Absolute Error Accuracy': MAE,\n",
    "    'Mean Squared Error Accuracy': MSE,\n",
    "    'Root Mean Squared Error': RMSE,\n",
    "    '_train time': cv_best_model_fit_time,\n",
    "    'random_state': RANDOM_STATE,\n",
    "    'date': str(datetime.now()),\n",
    "    '_params': crossval_runner.best_params_ if not_catboost else cat_params,\n",
    "    '_method':method,\n",
    "    'run_env': run_env\n",
    "}\n",
    "\n",
    "if run_env not in ['colab']:\n",
    "    old_results_json = get_results()\n",
    "    try:\n",
    "        old_best_score = old_results_json[key]['best score']\n",
    "    except:\n",
    "        print(f\"haven't scored this model yet: {ALGORITHM}\")\n",
    "        old_best_score = -999\n",
    "    this_model_is_best = update_results(old_results_json, new_results, key)\n",
    "\n",
    "print(key)"
   ]
  },
  {
   "cell_type": "code",
   "execution_count": 50,
   "metadata": {
    "execution": {
     "iopub.execute_input": "2022-11-16T13:59:52.872732Z",
     "iopub.status.busy": "2022-11-16T13:59:52.872116Z",
     "iopub.status.idle": "2022-11-16T13:59:52.883681Z",
     "shell.execute_reply": "2022-11-16T13:59:52.882641Z",
     "shell.execute_reply.started": "2022-11-16T13:59:52.872708Z"
    }
   },
   "outputs": [
    {
     "data": {
      "text/plain": "''"
     },
     "execution_count": 50,
     "metadata": {},
     "output_type": "execute_result"
    }
   ],
   "source": [
    "crossval_runner.best_estimator_  if not_catboost else ''"
   ]
  },
  {
   "cell_type": "code",
   "execution_count": 51,
   "metadata": {
    "execution": {
     "iopub.execute_input": "2022-11-16T13:59:52.885380Z",
     "iopub.status.busy": "2022-11-16T13:59:52.885036Z",
     "iopub.status.idle": "2022-11-16T13:59:53.216677Z",
     "shell.execute_reply": "2022-11-16T13:59:53.215594Z",
     "shell.execute_reply.started": "2022-11-16T13:59:52.885349Z"
    }
   },
   "outputs": [
    {
     "name": "stdout",
     "output_type": "stream",
     "text": [
      "pickled new version of model\n",
      "0.6946507986921477 is new best score (it's better than -999)\n"
     ]
    }
   ],
   "source": [
    "if this_model_is_best:\n",
    "    with open(f'../../../models/optimised_model_{ALGORITHM}_v{VERSION}{DD2}.pkl', 'wb') as f:\n",
    "        if not_catboost:\n",
    "            pickle.dump(crossval_runner.best_estimator_, f)\n",
    "        else:\n",
    "            pickle.dump(starter_model, f)\n",
    "        print('pickled new version of model')\n",
    "        print(f\"{old_results_json[key]['_score']} is new best score (it's better than {old_best_score})\")\n",
    "        #print(results_json[key]['_score'], 'is an improvement on', results_json[key]['second best score'])\n",
    "else:\n",
    "    print(\"not updated saved model, the previous run was better\")\n",
    "    print(old_results_json[key]['_score'], 'is worse than or equal to', old_best_score)\n"
   ]
  },
  {
   "cell_type": "code",
   "execution_count": 52,
   "metadata": {
    "execution": {
     "iopub.execute_input": "2022-11-16T13:59:53.218033Z",
     "iopub.status.busy": "2022-11-16T13:59:53.217794Z",
     "iopub.status.idle": "2022-11-16T13:59:53.224486Z",
     "shell.execute_reply": "2022-11-16T13:59:53.223702Z",
     "shell.execute_reply.started": "2022-11-16T13:59:53.218013Z"
    }
   },
   "outputs": [
    {
     "name": "stdout",
     "output_type": "stream",
     "text": [
      "Feature Ranking:\n",
      "1. features 0 (22.448828) bedrooms\n",
      "2. features 4 (13.181061) location.longitude\n",
      "3. features 5 (12.835743) latitude_deviation\n",
      "4. features 6 (12.143419) longitude_deviation\n",
      "5. features 3 (10.963297) location.latitude\n",
      "6. features 7 (9.212852) tenure.tenureType\n",
      "7. features 2 (7.928963) nearestStation\n",
      "8. features 1 (4.694949) bathrooms\n",
      "9. features 15 (1.154566) feature__chain free\n",
      "10. features 56 (0.457275) feature__two double bedrooms\n",
      "11. features 46 (0.439231) feature__private garden\n",
      "12. features 50 (0.385225) feature__share of freehold\n",
      "13. features 40 (0.317702) feature__no onward chain\n",
      "14. features 45 (0.228477) feature__private balcony\n",
      "15. features 55 (0.219922) feature__two bedrooms\n",
      "16. features 31 (0.207297) feature__gas central heating\n",
      "17. features 57 (0.206638) feature__two reception rooms\n",
      "18. features 49 (0.203801) feature__separate kitchen\n",
      "19. features 13 (0.177408) feature__balcony\n",
      "20. features 33 (0.165984) feature__ground floor\n",
      "21. features 39 (0.163548) feature__no chain\n",
      "22. features 41 (0.154340) feature__off street parking\n",
      "23. features 36 (0.133519) feature__long lease\n",
      "24. features 51 (0.128918) feature__three bedrooms\n",
      "25. features 34 (0.111045) feature__kitchen\n",
      "26. features 18 (0.102831) feature__communal gardens\n",
      "27. features 29 (0.102446) feature__garage\n",
      "28. features 28 (0.098958) feature__fitted kitchen\n",
      "29. features 11 (0.094638) feature__allocated parking\n",
      "30. features 21 (0.090298) feature__double glazing\n",
      "31. features 42 (0.087885) feature__one bedroom\n",
      "32. features 23 (0.086785) feature__epc rating d\n",
      "33. features 54 (0.084933) feature__two bathrooms\n",
      "34. features 30 (0.080739) feature__garden\n",
      "35. features 20 (0.074617) feature__double glazed\n",
      "36. features 8 (0.072763) feature__1 bedroom\n",
      "37. features 43 (0.063958) feature__one double bedroom\n",
      "38. features 53 (0.061809) feature__top floor\n",
      "39. features 27 (0.060842) feature__first floor\n",
      "40. features 9 (0.060669) feature__2 bedrooms\n",
      "41. features 16 (0.054449) feature__close to local amenities\n",
      "42. features 17 (0.052566) feature__communal garden\n",
      "43. features 47 (0.051982) feature__private rear garden\n",
      "44. features 35 (0.037748) feature__leasehold\n",
      "45. features 38 (0.033298) feature__modern kitchen\n",
      "46. features 26 (0.032764) feature__family bathroom\n",
      "47. features 14 (0.028932) feature__bathroom\n",
      "48. features 32 (0.028555) feature__great location\n",
      "49. features 12 (0.027857) feature__allocated parking space\n",
      "50. features 22 (0.023394) feature__epc rating c\n",
      "51. features 24 (0.023164) feature__excellent location\n",
      "52. features 10 (0.022288) feature__2 double bedrooms\n",
      "53. features 48 (0.020941) feature__reception room\n",
      "54. features 37 (0.019824) feature__modern bathroom\n",
      "55. features 25 (0.017037) feature__excellent transport links\n",
      "56. features 44 (0.014823) feature__parking\n",
      "57. features 19 (0.014583) feature__double bedroom\n",
      "58. features 52 (0.007614) feature__three double bedrooms\n"
     ]
    }
   ],
   "source": [
    "if 'tree' in ALGORITHM.lower() or 'forest' in ALGORITHM.lower() or 'boost' in ALGORITHM.lower():\n",
    "    feature_importances = crossval_runner.best_estimator_[-1].feature_importances_ if not_catboost else starter_model.get_feature_importance()\n",
    "    #std = np.std([tree.feature_importances_ for tree in model.estimators_], axis = 0)\n",
    "\n",
    "    indices = np.argsort(feature_importances)[::-1]\n",
    "\n",
    "    print('Feature Ranking:')\n",
    "\n",
    "    for f in range(X_train.shape[1]):\n",
    "        print('%d. features %d (%f)' % (f + 1, indices[f], feature_importances[indices[f]]),\n",
    "              df_features.columns[indices[f] + 1])\n",
    "else:\n",
    "    print(f'{ALGORITHM} does not have feature_importances, skipping')"
   ]
  },
  {
   "cell_type": "code",
   "execution_count": 55,
   "metadata": {
    "execution": {
     "iopub.execute_input": "2022-11-16T13:59:53.225586Z",
     "iopub.status.busy": "2022-11-16T13:59:53.225381Z",
     "iopub.status.idle": "2022-11-16T13:59:53.374100Z",
     "shell.execute_reply": "2022-11-16T13:59:53.373223Z",
     "shell.execute_reply.started": "2022-11-16T13:59:53.225567Z"
    }
   },
   "outputs": [
    {
     "data": {
      "text/plain": "<Figure size 1440x1440 with 1 Axes>",
      "image/png": "[encoded data removed]"
     },
     "metadata": {
      "needs_background": "light"
     },
     "output_type": "display_data"
    }
   ],
   "source": [
    "if 'tree' in ALGORITHM.lower() or 'forest' in ALGORITHM.lower() or 'boost' in ALGORITHM.lower():\n",
    "    indices = np.argsort(feature_importances)\n",
    "\n",
    "    fig, ax = plt.subplots(figsize=(20,20))\n",
    "    ax.barh(range(len(feature_importances)), feature_importances[indices])\n",
    "    ax.set_yticks(range(len(feature_importances)))\n",
    "    _ = ax.set_yticklabels(df_features.columns[[c + 1 for c in indices]])\n",
    "else:\n",
    "    print(f'{ALGORITHM} does not have feature_importances, skipping')"
   ]
  },
  {
   "cell_type": "code",
   "execution_count": 53,
   "metadata": {
    "collapsed": false,
    "jupyter": {
     "outputs_hidden": false
    }
   },
   "outputs": [],
   "source": []
  }
 ],
 "metadata": {
  "kernelspec": {
   "display_name": "Python 3 (ipykernel)",
   "language": "python",
   "name": "python3"
  },
  "language_info": {
   "codemirror_mode": {
    "name": "ipython",
    "version": 3
   },
   "file_extension": ".py",
   "mimetype": "text/x-python",
   "name": "python",
   "nbconvert_exporter": "python",
   "pygments_lexer": "ipython3",
   "version": "3.9.13"
  }
 },
 "nbformat": 4,
 "nbformat_minor": 4
}
