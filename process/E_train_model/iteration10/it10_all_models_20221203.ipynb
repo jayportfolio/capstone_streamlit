{
 "cells": [
  {
   "cell_type": "markdown",
   "metadata": {},
   "source": [
    "<code style=\"background:blue;color:blue\">**********************************************************************************************************</code>\n",
    "\n",
    "## Stage: Decide which algorithm and version of the data we are going to use for model training\n",
    "\n",
    "Additionally, choose:\n",
    "* if we'll skip scaling the data\n",
    "* if we'll use full categories instead of dummies\n",
    "* what fraction of the data we'll use for testing (0.1)\n",
    "* if the data split will be randomised (it won't!)"
   ]
  },
  {
   "cell_type": "code",
   "execution_count": 40,
   "metadata": {
    "collapsed": false,
    "execution": {
     "iopub.execute_input": "2022-12-02T18:52:40.722406Z",
     "iopub.status.busy": "2022-12-02T18:52:40.721717Z",
     "iopub.status.idle": "2022-12-02T18:52:40.728296Z",
     "shell.execute_reply": "2022-12-02T18:52:40.727139Z",
     "shell.execute_reply.started": "2022-12-02T18:52:40.722380Z"
    },
    "jupyter": {
     "outputs_hidden": false
    }
   },
   "outputs": [
    {
     "name": "stdout",
     "output_type": "stream",
     "text": [
      "ALGORITHM: CatBoost\n",
      "ALGORITHM_DETAIL: random search\n",
      "DATA VERSION: 06\n",
      "DATA_DETAIL: ['no dummies']\n"
     ]
    }
   ],
   "source": [
    "#ALGORITHM = 'Linear Regression (Ridge)'\n",
    "#ALGORITHM = 'KNN'\n",
    "#ALGORITHM = 'Decision Tree'\n",
    "#ALGORITHM = 'Random Forest'\n",
    "#ALGORITHM = 'XG Boost (tree)'\n",
    "ALGORITHM = 'CatBoost'\n",
    "#ALGORITHM = 'Light Gradient Boosting'\n",
    "\n",
    "ALGORITHM_DETAIL = 'random search'\n",
    "#DATA_DETAIL = ['explore param']\n",
    "#DATA_DETAIL = ['no scale','no dummies']\n",
    "DATA_DETAIL = ['no dummies'] if 'catboost' in ALGORITHM.lower() else []\n",
    "#VERSION = '06'\n",
    "VERSION = '06'\n",
    "\n",
    "RANDOM_STATE = 101\n",
    "TRAINING_SIZE = 0.9\n",
    "\n",
    "CROSS_VALIDATION_SCORING = 'r2'\n",
    "\n",
    "print(f'ALGORITHM: {ALGORITHM}')\n",
    "print(f'ALGORITHM_DETAIL: {ALGORITHM_DETAIL}')\n",
    "print(f'DATA VERSION: {VERSION}')\n",
    "print(f'DATA_DETAIL: {DATA_DETAIL}')\n",
    "\n",
    "model_uses_feature_importances = 'tree' in ALGORITHM.lower() or 'forest' in ALGORITHM.lower() or 'boost' in ALGORITHM.lower()\n",
    "create_python_script = False"
   ]
  },
  {
   "cell_type": "markdown",
   "metadata": {},
   "source": [
    "<code style=\"background:blue;color:blue\">**********************************************************************************************************</code>\n",
    "\n",
    "## Stage: loading all dependencies\n",
    "\n"
   ]
  },
  {
   "cell_type": "code",
   "execution_count": 41,
   "metadata": {
    "collapsed": false,
    "execution": {
     "iopub.execute_input": "2022-12-02T18:52:40.734752Z",
     "iopub.status.busy": "2022-12-02T18:52:40.733909Z",
     "iopub.status.idle": "2022-12-02T18:52:43.532855Z",
     "shell.execute_reply": "2022-12-02T18:52:43.531968Z",
     "shell.execute_reply.started": "2022-12-02T18:52:40.734748Z"
    },
    "jupyter": {
     "outputs_hidden": false
    }
   },
   "outputs": [
    {
     "name": "stdout",
     "output_type": "stream",
     "text": [
      "Requirement already satisfied: tabulate in /home/guava/PycharmProjects/capstone_streamlit/venv/lib/python3.8/site-packages (0.9.0)\r\n",
      "Note: you may need to restart the kernel to use updated packages.\n",
      "Requirement already satisfied: catboost in /home/guava/PycharmProjects/capstone_streamlit/venv/lib/python3.8/site-packages (1.1.1)\r\n",
      "Requirement already satisfied: plotly in /home/guava/PycharmProjects/capstone_streamlit/venv/lib/python3.8/site-packages (from catboost) (5.10.0)\r\n",
      "Requirement already satisfied: six in /home/guava/PycharmProjects/capstone_streamlit/venv/lib/python3.8/site-packages (from catboost) (1.16.0)\r\n",
      "Requirement already satisfied: pandas>=0.24.0 in /home/guava/PycharmProjects/capstone_streamlit/venv/lib/python3.8/site-packages (from catboost) (1.5.0)\r\n",
      "Requirement already satisfied: matplotlib in /home/guava/PycharmProjects/capstone_streamlit/venv/lib/python3.8/site-packages (from catboost) (3.6.0)\r\n",
      "Requirement already satisfied: numpy>=1.16.0 in /home/guava/PycharmProjects/capstone_streamlit/venv/lib/python3.8/site-packages (from catboost) (1.23.3)\r\n",
      "Requirement already satisfied: graphviz in /home/guava/PycharmProjects/capstone_streamlit/venv/lib/python3.8/site-packages (from catboost) (0.20.1)\r\n",
      "Requirement already satisfied: scipy in /home/guava/PycharmProjects/capstone_streamlit/venv/lib/python3.8/site-packages (from catboost) (1.9.1)\r\n",
      "Requirement already satisfied: python-dateutil>=2.8.1 in /home/guava/PycharmProjects/capstone_streamlit/venv/lib/python3.8/site-packages (from pandas>=0.24.0->catboost) (2.8.2)\r\n",
      "Requirement already satisfied: pytz>=2020.1 in /home/guava/PycharmProjects/capstone_streamlit/venv/lib/python3.8/site-packages (from pandas>=0.24.0->catboost) (2022.2.1)\r\n",
      "Requirement already satisfied: packaging>=20.0 in /home/guava/PycharmProjects/capstone_streamlit/venv/lib/python3.8/site-packages (from matplotlib->catboost) (21.3)\r\n",
      "Requirement already satisfied: contourpy>=1.0.1 in /home/guava/PycharmProjects/capstone_streamlit/venv/lib/python3.8/site-packages (from matplotlib->catboost) (1.0.5)\r\n",
      "Requirement already satisfied: pyparsing>=2.2.1 in /home/guava/PycharmProjects/capstone_streamlit/venv/lib/python3.8/site-packages (from matplotlib->catboost) (3.0.9)\r\n",
      "Requirement already satisfied: fonttools>=4.22.0 in /home/guava/PycharmProjects/capstone_streamlit/venv/lib/python3.8/site-packages (from matplotlib->catboost) (4.37.3)\r\n",
      "Requirement already satisfied: kiwisolver>=1.0.1 in /home/guava/PycharmProjects/capstone_streamlit/venv/lib/python3.8/site-packages (from matplotlib->catboost) (1.4.4)\r\n",
      "Requirement already satisfied: cycler>=0.10 in /home/guava/PycharmProjects/capstone_streamlit/venv/lib/python3.8/site-packages (from matplotlib->catboost) (0.11.0)\r\n",
      "Requirement already satisfied: pillow>=6.2.0 in /home/guava/PycharmProjects/capstone_streamlit/venv/lib/python3.8/site-packages (from matplotlib->catboost) (9.2.0)\r\n",
      "Requirement already satisfied: tenacity>=6.2.0 in /home/guava/PycharmProjects/capstone_streamlit/venv/lib/python3.8/site-packages (from plotly->catboost) (8.1.0)\r\n",
      "Note: you may need to restart the kernel to use updated packages.\n"
     ]
    }
   ],
   "source": [
    "%pip install tabulate\n",
    "\n",
    "if ALGORITHM == 'CatBoost':\n",
    "    %pip install catboost\n",
    "\n",
    "if ALGORITHM == 'Light Gradient Boosting':\n",
    "    %pip install lightgbm"
   ]
  },
  {
   "cell_type": "code",
   "execution_count": 42,
   "metadata": {
    "execution": {
     "iopub.execute_input": "2022-12-02T18:52:43.534951Z",
     "iopub.status.busy": "2022-12-02T18:52:43.534676Z",
     "iopub.status.idle": "2022-12-02T18:52:43.549629Z",
     "shell.execute_reply": "2022-12-02T18:52:43.548836Z",
     "shell.execute_reply.started": "2022-12-02T18:52:43.534926Z"
    }
   },
   "outputs": [
    {
     "name": "stdout",
     "output_type": "stream",
     "text": [
      "{'notebook_environment': 'local', 'use_gpu': False, 'debug_mode': False, 'quick_mode': False, 'quick_override_cv_splits': 2, 'quick_override_n_iter': 10, 'quick_override_n_jobs': 3}\n"
     ]
    }
   ],
   "source": [
    "from sklearn.impute import SimpleImputer\n",
    "import pandas as pd\n",
    "from sklearn.model_selection import train_test_split, RandomizedSearchCV, GridSearchCV\n",
    "import numpy as np\n",
    "from pandas import DataFrame\n",
    "import math\n",
    "from termcolor import colored\n",
    "from time import time\n",
    "import sklearn\n",
    "from sklearn.metrics import r2_score, mean_absolute_error, mean_squared_error\n",
    "from sklearn.metrics import r2_score\n",
    "import seaborn as sns\n",
    "import pickle\n",
    "\n",
    "import json\n",
    "from datetime import datetime\n",
    "import matplotlib.pyplot as plt\n",
    "\n",
    "with open('../../z_envs/_envs.json') as f:\n",
    "    env_vars = json.loads(f.read())\n",
    "\n",
    "try:\n",
    "    import google.colab\n",
    "\n",
    "    run_env = 'colab'\n",
    "except:\n",
    "    try:\n",
    "        run_env = env_vars['notebook_environment']\n",
    "    except:\n",
    "        run_env = 'unknown'\n",
    "\n",
    "use_gpu = env_vars.get('use_gpu', False)\n",
    "debug_mode = env_vars.get('debug_mode', False)\n",
    "quick_mode = env_vars.get('quick_mode', False)\n",
    "OVERRIDE_CV = env_vars.get('quick_override_cv_splits', None) if quick_mode else None\n",
    "OVERRIDE_N_ITER = env_vars.get('quick_override_n_iter', None) if quick_mode else None\n",
    "OVERRIDE_JOBS = env_vars.get('quick_override_n_jobs', None) if quick_mode else None\n",
    "OVERRIDE_VERBOSE = 1\n",
    "#if quick_mode:OVERRIDE_CV, OVERRIDE_N_ITER = 2, 10\n",
    "\n",
    "already_timed = False\n",
    "no_dummies = 'no dummies' in DATA_DETAIL\n",
    "no_scaling = 'no scaling' in DATA_DETAIL\n",
    "#not_catboost = 'catboost' not in ALGORITHM.lower() or not no_dummies\n",
    "using_catboost = 'catboost' in ALGORITHM.lower()\n",
    "\n",
    "if run_env not in ['colab', 'gradient', 'cloud']:\n",
    "    cloud_run = False\n",
    "    from functions_b__get_the_data_20221116 import set_csv_directory\n",
    "    set_csv_directory('final_split')\n",
    "else:\n",
    "    cloud_run = True\n",
    "    import sys\n",
    "    import os\n",
    "\n",
    "    module_path = os.path.abspath(os.path.join('..', '..', '..'))\n",
    "    if module_path not in sys.path:\n",
    "        #sys.path.append(module_path+\"\\\\zfunctions\")\n",
    "        sys.path.append(module_path)\n",
    "\n",
    "from functions_0__common_20221116 import get_columns\n",
    "from functions_b__get_the_data_20221116 import get_combined_dataset, get_source_dataframe\n",
    "from functions_d1__prepare_cleanse_data_20221116 import tidy_dataset\n",
    "from functions_d2__transform_enrich_data_20221116 import preprocess, feature_engineer\n",
    "from functions_d3__prepare_store_data_20221116 import create_train_test_data\n",
    "from functions_e__train_model_20221116 import get_chosen_model, make_modelling_pipeline, get_cv_params, fit_model_with_cross_validation, get_hyperparameters\n",
    "from functions_f_evaluate_model_20221116 import get_best_estimator_average_time, get_results, update_results\n",
    "\n",
    "print(env_vars)"
   ]
  },
  {
   "cell_type": "markdown",
   "source": [
    "#### Include any overrides specific to the algorthm / python environment being used"
   ],
   "metadata": {
    "collapsed": false
   }
  },
  {
   "cell_type": "code",
   "execution_count": 43,
   "metadata": {
    "collapsed": false,
    "execution": {
     "iopub.execute_input": "2022-12-02T18:52:43.550784Z",
     "iopub.status.busy": "2022-12-02T18:52:43.550566Z",
     "iopub.status.idle": "2022-12-02T18:52:43.555623Z",
     "shell.execute_reply": "2022-12-02T18:52:43.554873Z",
     "shell.execute_reply.started": "2022-12-02T18:52:43.550784Z"
    },
    "jupyter": {
     "outputs_hidden": false
    }
   },
   "outputs": [],
   "source": [
    "running_locally = True\n",
    "#running_locally = run_env == 'local'\n",
    "\n",
    "\n",
    "if 'forest' in ALGORITHM.lower():\n",
    "    #OVERRIDE_N_ITER = 5\n",
    "    if use_gpu:\n",
    "        OVERRIDE_JOBS = 8\n",
    "\n",
    "if running_locally:\n",
    "    if ALGORITHM.lower() in ['random forest','xg boost','xg boost (linear)','xg boost (tree)' ]:\n",
    "        OVERRIDE_N_ITER = 3\n",
    "    elif 'linear regression' in ALGORITHM.lower():\n",
    "        OVERRIDE_N_ITER = 15\n",
    "    else:\n",
    "        OVERRIDE_N_ITER = 5\n",
    "\n",
    "\n",
    "if 'forest' in ALGORITHM.lower() or True:\n",
    "    OVERRIDE_VERBOSE = 2\n"
   ]
  },
  {
   "cell_type": "markdown",
   "metadata": {},
   "source": [
    "<code style=\"background:blue;color:blue\">**********************************************************************************************************</code>\n",
    "\n",
    "## Stage: defining the model pipeline\n",
    "\n"
   ]
  },
  {
   "cell_type": "code",
   "execution_count": 44,
   "metadata": {
    "collapsed": false,
    "execution": {
     "iopub.execute_input": "2022-12-02T18:52:43.557932Z",
     "iopub.status.busy": "2022-12-02T18:52:43.557676Z",
     "iopub.status.idle": "2022-12-02T18:52:43.567373Z",
     "shell.execute_reply": "2022-12-02T18:52:43.566457Z",
     "shell.execute_reply.started": "2022-12-02T18:52:43.557908Z"
    },
    "jupyter": {
     "outputs_hidden": false
    }
   },
   "outputs": [
    {
     "data": {
      "text/plain": "Pipeline(steps=[('std_scaler', StandardScaler()), ('model', None)])",
      "text/html": "<style>#sk-container-id-3 {color: black;background-color: white;}#sk-container-id-3 pre{padding: 0;}#sk-container-id-3 div.sk-toggleable {background-color: white;}#sk-container-id-3 label.sk-toggleable__label {cursor: pointer;display: block;width: 100%;margin-bottom: 0;padding: 0.3em;box-sizing: border-box;text-align: center;}#sk-container-id-3 label.sk-toggleable__label-arrow:before {content: \"▸\";float: left;margin-right: 0.25em;color: #696969;}#sk-container-id-3 label.sk-toggleable__label-arrow:hover:before {color: black;}#sk-container-id-3 div.sk-estimator:hover label.sk-toggleable__label-arrow:before {color: black;}#sk-container-id-3 div.sk-toggleable__content {max-height: 0;max-width: 0;overflow: hidden;text-align: left;background-color: #f0f8ff;}#sk-container-id-3 div.sk-toggleable__content pre {margin: 0.2em;color: black;border-radius: 0.25em;background-color: #f0f8ff;}#sk-container-id-3 input.sk-toggleable__control:checked~div.sk-toggleable__content {max-height: 200px;max-width: 100%;overflow: auto;}#sk-container-id-3 input.sk-toggleable__control:checked~label.sk-toggleable__label-arrow:before {content: \"▾\";}#sk-container-id-3 div.sk-estimator input.sk-toggleable__control:checked~label.sk-toggleable__label {background-color: #d4ebff;}#sk-container-id-3 div.sk-label input.sk-toggleable__control:checked~label.sk-toggleable__label {background-color: #d4ebff;}#sk-container-id-3 input.sk-hidden--visually {border: 0;clip: rect(1px 1px 1px 1px);clip: rect(1px, 1px, 1px, 1px);height: 1px;margin: -1px;overflow: hidden;padding: 0;position: absolute;width: 1px;}#sk-container-id-3 div.sk-estimator {font-family: monospace;background-color: #f0f8ff;border: 1px dotted black;border-radius: 0.25em;box-sizing: border-box;margin-bottom: 0.5em;}#sk-container-id-3 div.sk-estimator:hover {background-color: #d4ebff;}#sk-container-id-3 div.sk-parallel-item::after {content: \"\";width: 100%;border-bottom: 1px solid gray;flex-grow: 1;}#sk-container-id-3 div.sk-label:hover label.sk-toggleable__label {background-color: #d4ebff;}#sk-container-id-3 div.sk-serial::before {content: \"\";position: absolute;border-left: 1px solid gray;box-sizing: border-box;top: 0;bottom: 0;left: 50%;z-index: 0;}#sk-container-id-3 div.sk-serial {display: flex;flex-direction: column;align-items: center;background-color: white;padding-right: 0.2em;padding-left: 0.2em;position: relative;}#sk-container-id-3 div.sk-item {position: relative;z-index: 1;}#sk-container-id-3 div.sk-parallel {display: flex;align-items: stretch;justify-content: center;background-color: white;position: relative;}#sk-container-id-3 div.sk-item::before, #sk-container-id-3 div.sk-parallel-item::before {content: \"\";position: absolute;border-left: 1px solid gray;box-sizing: border-box;top: 0;bottom: 0;left: 50%;z-index: -1;}#sk-container-id-3 div.sk-parallel-item {display: flex;flex-direction: column;z-index: 1;position: relative;background-color: white;}#sk-container-id-3 div.sk-parallel-item:first-child::after {align-self: flex-end;width: 50%;}#sk-container-id-3 div.sk-parallel-item:last-child::after {align-self: flex-start;width: 50%;}#sk-container-id-3 div.sk-parallel-item:only-child::after {width: 0;}#sk-container-id-3 div.sk-dashed-wrapped {border: 1px dashed gray;margin: 0 0.4em 0.5em 0.4em;box-sizing: border-box;padding-bottom: 0.4em;background-color: white;}#sk-container-id-3 div.sk-label label {font-family: monospace;font-weight: bold;display: inline-block;line-height: 1.2em;}#sk-container-id-3 div.sk-label-container {text-align: center;}#sk-container-id-3 div.sk-container {/* jupyter's `normalize.less` sets `[hidden] { display: none; }` but bootstrap.min.css set `[hidden] { display: none !important; }` so we also need the `!important` here to be able to override the default hidden behavior on the sphinx rendered scikit-learn.org. See: https://github.com/scikit-learn/scikit-learn/issues/21755 */display: inline-block !important;position: relative;}#sk-container-id-3 div.sk-text-repr-fallback {display: none;}</style><div id=\"sk-container-id-3\" class=\"sk-top-container\"><div class=\"sk-text-repr-fallback\"><pre>Pipeline(steps=[(&#x27;std_scaler&#x27;, StandardScaler()), (&#x27;model&#x27;, None)])</pre><b>In a Jupyter environment, please rerun this cell to show the HTML representation or trust the notebook. <br />On GitHub, the HTML representation is unable to render, please try loading this page with nbviewer.org.</b></div><div class=\"sk-container\" hidden><div class=\"sk-item sk-dashed-wrapped\"><div class=\"sk-label-container\"><div class=\"sk-label sk-toggleable\"><input class=\"sk-toggleable__control sk-hidden--visually\" id=\"sk-estimator-id-7\" type=\"checkbox\" ><label for=\"sk-estimator-id-7\" class=\"sk-toggleable__label sk-toggleable__label-arrow\">Pipeline</label><div class=\"sk-toggleable__content\"><pre>Pipeline(steps=[(&#x27;std_scaler&#x27;, StandardScaler()), (&#x27;model&#x27;, None)])</pre></div></div></div><div class=\"sk-serial\"><div class=\"sk-item\"><div class=\"sk-estimator sk-toggleable\"><input class=\"sk-toggleable__control sk-hidden--visually\" id=\"sk-estimator-id-8\" type=\"checkbox\" ><label for=\"sk-estimator-id-8\" class=\"sk-toggleable__label sk-toggleable__label-arrow\">StandardScaler</label><div class=\"sk-toggleable__content\"><pre>StandardScaler()</pre></div></div></div><div class=\"sk-item\"><div class=\"sk-estimator sk-toggleable\"><input class=\"sk-toggleable__control sk-hidden--visually\" id=\"sk-estimator-id-9\" type=\"checkbox\" ><label for=\"sk-estimator-id-9\" class=\"sk-toggleable__label sk-toggleable__label-arrow\">None</label><div class=\"sk-toggleable__content\"><pre>None</pre></div></div></div></div></div></div></div>"
     },
     "execution_count": 44,
     "metadata": {},
     "output_type": "execute_result"
    }
   ],
   "source": [
    "from sklearn.pipeline import Pipeline\n",
    "from sklearn.preprocessing import MinMaxScaler, StandardScaler\n",
    "\n",
    "\n",
    "def make_pipeline():\n",
    "    return Pipeline([\n",
    "        #('mms', MinMaxScaler()),\n",
    "        ('std_scaler', StandardScaler()),\n",
    "        ('model', get_chosen_model(ALGORITHM))\n",
    "    ])\n",
    "\n",
    "\n",
    "starter_pipe = make_pipeline()\n",
    "starter_pipe"
   ]
  },
  {
   "cell_type": "markdown",
   "metadata": {},
   "source": [
    "<code style=\"background:blue;color:blue\">**********************************************************************************************************</code>\n",
    "\n",
    "## Stage: get the data"
   ]
  },
  {
   "cell_type": "code",
   "execution_count": 45,
   "metadata": {
    "execution": {
     "iopub.execute_input": "2022-12-02T18:52:43.574409Z",
     "iopub.status.busy": "2022-12-02T18:52:43.574204Z",
     "iopub.status.idle": "2022-12-02T18:52:43.581864Z",
     "shell.execute_reply": "2022-12-02T18:52:43.581172Z",
     "shell.execute_reply.started": "2022-12-02T18:52:43.574390Z"
    }
   },
   "outputs": [],
   "source": [
    "columns, booleans, floats, categories, custom, wildcard = get_columns(version=VERSION)\n",
    "LABEL = 'Price'"
   ]
  },
  {
   "cell_type": "code",
   "execution_count": 46,
   "metadata": {
    "execution": {
     "iopub.execute_input": "2022-12-02T18:52:43.582888Z",
     "iopub.status.busy": "2022-12-02T18:52:43.582689Z",
     "iopub.status.idle": "2022-12-02T18:52:43.815717Z",
     "shell.execute_reply": "2022-12-02T18:52:43.815052Z",
     "shell.execute_reply.started": "2022-12-02T18:52:43.582870Z"
    }
   },
   "outputs": [
    {
     "name": "stdout",
     "output_type": "stream",
     "text": [
      "loaded data from ../../../data/final/df_listings_v06.csv\n"
     ]
    }
   ],
   "source": [
    "df, retrieval_type = get_source_dataframe(cloud_run, VERSION, folder_prefix='../../../', row_limit=None)\n",
    "df_orig = df.copy()\n",
    "\n",
    "if retrieval_type != 'tidy':\n",
    "    df = tidy_dataset(df, version=int(VERSION))\n",
    "    df = feature_engineer(df, version=int(VERSION))\n",
    "\n",
    "\n",
    "    df = df[columns]"
   ]
  },
  {
   "cell_type": "code",
   "execution_count": 47,
   "metadata": {
    "execution": {
     "iopub.execute_input": "2022-12-02T18:52:43.816867Z",
     "iopub.status.busy": "2022-12-02T18:52:43.816640Z",
     "iopub.status.idle": "2022-12-02T18:52:43.836125Z",
     "shell.execute_reply": "2022-12-02T18:52:43.835493Z",
     "shell.execute_reply.started": "2022-12-02T18:52:43.816851Z"
    }
   },
   "outputs": [
    {
     "name": "stdout",
     "output_type": "stream",
     "text": [
      "\u001B[34mfeatures\u001B[0m ->  ['bedrooms', 'bathrooms', 'nearestStation', 'location.latitude', 'location.longitude', 'latitude_deviation', 'longitude_deviation', 'tenure.tenureType']\n",
      "\u001B[1m\u001B[32mlabel\u001B[0m ->  Price\n"
     ]
    }
   ],
   "source": [
    "print(colored(f\"features\", \"blue\"), \"-> \", columns)\n",
    "columns.insert(0, LABEL)\n",
    "print(colored(f\"label\", \"green\", None, ['bold']), \"-> \", LABEL)"
   ]
  },
  {
   "cell_type": "code",
   "execution_count": 48,
   "metadata": {
    "execution": {
     "iopub.execute_input": "2022-12-02T18:52:43.929127Z",
     "iopub.status.busy": "2022-12-02T18:52:43.928899Z",
     "iopub.status.idle": "2022-12-02T18:52:43.982071Z",
     "shell.execute_reply": "2022-12-02T18:52:43.981264Z",
     "shell.execute_reply.started": "2022-12-02T18:52:43.929106Z"
    }
   },
   "outputs": [],
   "source": [
    "df = preprocess(df, version=VERSION)\n",
    "df = df.dropna()"
   ]
  },
  {
   "cell_type": "code",
   "execution_count": 49,
   "metadata": {
    "execution": {
     "iopub.execute_input": "2022-12-02T18:52:43.996311Z",
     "iopub.status.busy": "2022-12-02T18:52:43.996110Z",
     "iopub.status.idle": "2022-12-02T18:52:44.042393Z",
     "shell.execute_reply": "2022-12-02T18:52:44.041707Z",
     "shell.execute_reply.started": "2022-12-02T18:52:43.996294Z"
    }
   },
   "outputs": [
    {
     "data": {
      "text/plain": "             Price  bedrooms  bathrooms  nearestStation  location.latitude  \\\n14520525  550000.0       3.0        1.0        0.274316          51.529950   \n27953107  400000.0       2.0        2.0        0.305845          51.549390   \n33593487  579950.0       2.0        1.0        0.438045          51.447180   \n35271294  370000.0       2.0        1.0        0.399307          51.449568   \n44749111  475000.0       2.0        1.0        0.410550          51.370050   \n\n          location.longitude  latitude_deviation  longitude_deviation  \\\n14520525           -0.207020            0.030230             0.102600   \n27953107           -0.482600            0.049670             0.378180   \n33593487           -0.338770            0.052540             0.234350   \n35271294           -0.140154            0.050152             0.035734   \n44749111           -0.212410            0.129670             0.107990   \n\n         tenure.tenureType  \n14520525         LEASEHOLD  \n27953107         LEASEHOLD  \n33593487          FREEHOLD  \n35271294         LEASEHOLD  \n44749111          FREEHOLD  ",
      "text/html": "<div>\n<style scoped>\n    .dataframe tbody tr th:only-of-type {\n        vertical-align: middle;\n    }\n\n    .dataframe tbody tr th {\n        vertical-align: top;\n    }\n\n    .dataframe thead th {\n        text-align: right;\n    }\n</style>\n<table border=\"1\" class=\"dataframe\">\n  <thead>\n    <tr style=\"text-align: right;\">\n      <th></th>\n      <th>Price</th>\n      <th>bedrooms</th>\n      <th>bathrooms</th>\n      <th>nearestStation</th>\n      <th>location.latitude</th>\n      <th>location.longitude</th>\n      <th>latitude_deviation</th>\n      <th>longitude_deviation</th>\n      <th>tenure.tenureType</th>\n    </tr>\n  </thead>\n  <tbody>\n    <tr>\n      <th>14520525</th>\n      <td>550000.0</td>\n      <td>3.0</td>\n      <td>1.0</td>\n      <td>0.274316</td>\n      <td>51.529950</td>\n      <td>-0.207020</td>\n      <td>0.030230</td>\n      <td>0.102600</td>\n      <td>LEASEHOLD</td>\n    </tr>\n    <tr>\n      <th>27953107</th>\n      <td>400000.0</td>\n      <td>2.0</td>\n      <td>2.0</td>\n      <td>0.305845</td>\n      <td>51.549390</td>\n      <td>-0.482600</td>\n      <td>0.049670</td>\n      <td>0.378180</td>\n      <td>LEASEHOLD</td>\n    </tr>\n    <tr>\n      <th>33593487</th>\n      <td>579950.0</td>\n      <td>2.0</td>\n      <td>1.0</td>\n      <td>0.438045</td>\n      <td>51.447180</td>\n      <td>-0.338770</td>\n      <td>0.052540</td>\n      <td>0.234350</td>\n      <td>FREEHOLD</td>\n    </tr>\n    <tr>\n      <th>35271294</th>\n      <td>370000.0</td>\n      <td>2.0</td>\n      <td>1.0</td>\n      <td>0.399307</td>\n      <td>51.449568</td>\n      <td>-0.140154</td>\n      <td>0.050152</td>\n      <td>0.035734</td>\n      <td>LEASEHOLD</td>\n    </tr>\n    <tr>\n      <th>44749111</th>\n      <td>475000.0</td>\n      <td>2.0</td>\n      <td>1.0</td>\n      <td>0.410550</td>\n      <td>51.370050</td>\n      <td>-0.212410</td>\n      <td>0.129670</td>\n      <td>0.107990</td>\n      <td>FREEHOLD</td>\n    </tr>\n  </tbody>\n</table>\n</div>"
     },
     "execution_count": 49,
     "metadata": {},
     "output_type": "execute_result"
    }
   ],
   "source": [
    "df.head(5)"
   ]
  },
  {
   "cell_type": "code",
   "execution_count": 50,
   "metadata": {
    "execution": {
     "iopub.execute_input": "2022-12-02T18:52:44.043638Z",
     "iopub.status.busy": "2022-12-02T18:52:44.043409Z",
     "iopub.status.idle": "2022-12-02T18:52:44.078993Z",
     "shell.execute_reply": "2022-12-02T18:52:44.078270Z",
     "shell.execute_reply.started": "2022-12-02T18:52:44.043635Z"
    }
   },
   "outputs": [
    {
     "name": "stdout",
     "output_type": "stream",
     "text": [
      "(44127, 9)\n",
      "(39714, 8) (4413, 8) (39714, 1) (4413, 1) (39714, 1) (4413, 1) (39714, 1) (4413, 1)\n"
     ]
    }
   ],
   "source": [
    "X_train, X_test, y_train, y_test, X_train_index, X_test_index, y_train_index, y_test_index, df_features, df_labels = create_train_test_data(\n",
    "    df,\n",
    "    categories=categories,\n",
    "    RANDOM_STATE=RANDOM_STATE, return_index=True,\n",
    "    drop_nulls=True,\n",
    "    no_dummies=no_dummies\n",
    ")\n",
    "\n",
    "\n",
    "if 'forest' in ALGORITHM.lower() or ALGORITHM.lower()=='light gradient boosting':\n",
    "    y_train_orig = y_train\n",
    "    y_train = y_train.ravel()\n",
    "\n",
    "#print(X_train[0])\n",
    "print(df.shape)\n",
    "print(X_train.shape, X_test.shape, y_train.shape, y_test.shape, X_train_index.shape, X_test_index.shape,\n",
    "      y_train_index.shape, y_test_index.shape)\n",
    "\n"
   ]
  },
  {
   "cell_type": "code",
   "execution_count": 51,
   "metadata": {
    "execution": {
     "iopub.execute_input": "2022-12-02T18:52:44.080076Z",
     "iopub.status.busy": "2022-12-02T18:52:44.079840Z",
     "iopub.status.idle": "2022-12-02T18:52:44.083337Z",
     "shell.execute_reply": "2022-12-02T18:52:44.082725Z",
     "shell.execute_reply.started": "2022-12-02T18:52:44.080054Z"
    }
   },
   "outputs": [],
   "source": [
    "#imputer = SimpleImputer(strategy='mean')\n",
    "#imputer.fit(X_train[6])\n",
    "#X_train[6] = imputer.transform(X_train[6])"
   ]
  },
  {
   "cell_type": "code",
   "execution_count": 52,
   "metadata": {
    "execution": {
     "iopub.execute_input": "2022-12-02T18:52:44.084452Z",
     "iopub.status.busy": "2022-12-02T18:52:44.084239Z",
     "iopub.status.idle": "2022-12-02T18:52:44.088810Z",
     "shell.execute_reply": "2022-12-02T18:52:44.088140Z",
     "shell.execute_reply.started": "2022-12-02T18:52:44.084452Z"
    }
   },
   "outputs": [],
   "source": [
    "starter_model = starter_pipe[-1]"
   ]
  },
  {
   "cell_type": "code",
   "execution_count": 53,
   "metadata": {},
   "outputs": [
    {
     "data": {
      "text/plain": "array([[3.0, 3.0, 0.3166132574345781, ..., 0.0399600000000006, 0.23381,\n        'FREEHOLD'],\n       [1.0, 1.0, 0.5309337469002342, ..., 0.0329499999999995,\n        0.1798199999999999, 'LEASEHOLD'],\n       [1.0, 1.0, 0.2855093741623452, ..., 0.0143299999999939, 0.04306,\n        'SHARE_OF_FREEHOLD'],\n       ...,\n       [3.0, 1.0, 0.7218103359209469, ..., 0.0522300000000015, 0.13422,\n        'FREEHOLD'],\n       [1.0, 1.0, 0.4358973693656592, ..., 0.0906909999999996,\n        0.1393229999999999, 'LEASEHOLD'],\n       [5.0, 3.0, 0.0971682523737046, ..., 0.0613090000000013, 0.049353,\n        'FREEHOLD']], dtype=object)"
     },
     "execution_count": 53,
     "metadata": {},
     "output_type": "execute_result"
    }
   ],
   "source": [
    "X_train"
   ]
  },
  {
   "cell_type": "markdown",
   "metadata": {},
   "source": [
    "<code style=\"background:blue;color:blue\">**********************************************************************************************************</code>\n",
    "\n",
    "## Stage:\n",
    "* #### retrieve the hyperparameters for this model, and\n",
    "* #### train the model\n",
    "\n"
   ]
  },
  {
   "cell_type": "code",
   "execution_count": 54,
   "metadata": {
    "collapsed": false,
    "execution": {
     "iopub.execute_input": "2022-12-02T18:52:44.090263Z",
     "iopub.status.busy": "2022-12-02T18:52:44.089739Z",
     "iopub.status.idle": "2022-12-02T18:52:44.101239Z",
     "shell.execute_reply": "2022-12-02T18:52:44.100537Z",
     "shell.execute_reply.started": "2022-12-02T18:52:44.090250Z"
    },
    "jupyter": {
     "outputs_hidden": false
    }
   },
   "outputs": [
    {
     "name": "stdout",
     "output_type": "stream",
     "text": [
      "cv: 3 n_jobs: 3 refit: True n_iter: 5 verbose: 2\n"
     ]
    }
   ],
   "source": [
    "options_block = get_hyperparameters(ALGORITHM, use_gpu, prefix='../../../')\n",
    "\n",
    "if 'explore param' in DATA_DETAIL:\n",
    "    def automl_step(param_options, vary):\n",
    "        for key2, value in param_options.items():\n",
    "            #print(key2, value, vary)\n",
    "            if key2 != vary and key2 != 'model__' + vary:\n",
    "                param_options[key2] = [param_options[key2][0]]\n",
    "        return param_options\n",
    "\n",
    "    #options_block = automl_step(options_block, \"model__epochs\")\n",
    "    explore_param = \"alpha\"\n",
    "    options_block = automl_step(options_block, explore_param)\n",
    "\n",
    "param_options, cv, n_jobs, refit, n_iter, verbose = get_cv_params(options_block, debug_mode=debug_mode,\n",
    "                                                                  override_cv=OVERRIDE_CV,\n",
    "                                                                  override_niter=OVERRIDE_N_ITER,\n",
    "                                                                  override_njobs=OVERRIDE_JOBS,\n",
    "                                                                  override_verbose=OVERRIDE_VERBOSE\n",
    "                                                                  )\n",
    "\n",
    "\n",
    "if not using_catboost and len(param_options.keys()) > 2 and not already_timed and debug_mode:\n",
    "    already_timed = True\n",
    "    %timeit starter_pipe.fit(X_train, y_train)\n",
    "\n",
    "\n",
    "print(\"cv:\", cv, \"n_jobs:\", n_jobs, \"refit:\", refit, \"n_iter:\", n_iter, \"verbose:\", verbose)\n",
    "#print('\\n\\nHyperparameters:')\n",
    "#param_options if not using_catboost else options_block"
   ]
  },
  {
   "cell_type": "code",
   "execution_count": 55,
   "metadata": {
    "execution": {
     "iopub.execute_input": "2022-12-02T18:52:44.102213Z",
     "iopub.status.busy": "2022-12-02T18:52:44.102009Z",
     "iopub.status.idle": "2022-12-02T18:54:14.356141Z",
     "shell.execute_reply": "2022-12-02T18:54:14.351545Z",
     "shell.execute_reply.started": "2022-12-02T18:52:44.102195Z"
    }
   },
   "outputs": [
    {
     "data": {
      "text/plain": "MetricVisualizer(layout=Layout(align_self='stretch', height='500px'))",
      "application/vnd.jupyter.widget-view+json": {
       "version_major": 2,
       "version_minor": 0,
       "model_id": "42727ec355f6495c8a03372bf00e3f93"
      }
     },
     "metadata": {},
     "output_type": "display_data"
    },
    {
     "name": "stdout",
     "output_type": "stream",
     "text": [
      "0:\tlearn: 97939.3812080\ttest: 97717.5020826\tbest: 97717.5020826 (0)\ttotal: 72.6ms\tremaining: 145ms\n",
      "1:\tlearn: 82855.5359901\ttest: 82304.2138729\tbest: 82304.2138729 (1)\ttotal: 109ms\tremaining: 54.4ms\n",
      "2:\tlearn: 74908.0520157\ttest: 75405.9101598\tbest: 75405.9101598 (2)\ttotal: 151ms\tremaining: 0us\n",
      "\n",
      "bestTest = 75405.91016\n",
      "bestIteration = 2\n",
      "\n",
      "0:\tloss: 75405.9101598\tbest: 75405.9101598 (0)\ttotal: 253ms\tremaining: 25.1s\n",
      "0:\tlearn: 434314.8594986\ttest: 434788.6514033\tbest: 434788.6514033 (0)\ttotal: 35ms\tremaining: 70ms\n",
      "1:\tlearn: 430181.0691399\ttest: 430658.6845289\tbest: 430658.6845289 (1)\ttotal: 77.4ms\tremaining: 38.7ms\n",
      "2:\tlearn: 426096.3926507\ttest: 426571.9896818\tbest: 426571.9896818 (2)\ttotal: 117ms\tremaining: 0us\n",
      "\n",
      "bestTest = 426571.9897\n",
      "bestIteration = 2\n",
      "\n",
      "1:\tloss: 426571.9896818\tbest: 75405.9101598 (0)\ttotal: 389ms\tremaining: 19.1s\n",
      "0:\tlearn: 396959.7960945\ttest: 397456.0001364\tbest: 397456.0001364 (0)\ttotal: 21.1ms\tremaining: 42.3ms\n",
      "1:\tlearn: 359642.3424164\ttest: 360169.1706866\tbest: 360169.1706866 (1)\ttotal: 52ms\tremaining: 26ms\n",
      "2:\tlearn: 326234.1170553\ttest: 326736.6088030\tbest: 326736.6088030 (2)\ttotal: 71.1ms\tremaining: 0us\n",
      "\n",
      "bestTest = 326736.6088\n",
      "bestIteration = 2\n",
      "\n",
      "2:\tloss: 326736.6088030\tbest: 75405.9101598 (0)\ttotal: 466ms\tremaining: 15.1s\n",
      "0:\tlearn: 106963.1599173\ttest: 107097.3063710\tbest: 107097.3063710 (0)\ttotal: 18.2ms\tremaining: 36.5ms\n",
      "1:\tlearn: 82936.6920976\ttest: 82491.7560174\tbest: 82491.7560174 (1)\ttotal: 36.9ms\tremaining: 18.5ms\n",
      "2:\tlearn: 74422.9405717\ttest: 74880.7201457\tbest: 74880.7201457 (2)\ttotal: 65.3ms\tremaining: 0us\n",
      "\n",
      "bestTest = 74880.72015\n",
      "bestIteration = 2\n",
      "\n",
      "3:\tloss: 74880.7201457\tbest: 74880.7201457 (3)\ttotal: 539ms\tremaining: 12.9s\n",
      "0:\tlearn: 434320.1297327\ttest: 434793.8487942\tbest: 434793.8487942 (0)\ttotal: 21.2ms\tremaining: 42.4ms\n",
      "1:\tlearn: 430195.0265351\ttest: 430671.3585285\tbest: 430671.3585285 (1)\ttotal: 42.9ms\tremaining: 21.4ms\n",
      "2:\tlearn: 426114.6198204\ttest: 426588.7374857\tbest: 426588.7374857 (2)\ttotal: 71.7ms\tremaining: 0us\n",
      "\n",
      "bestTest = 426588.7375\n",
      "bestIteration = 2\n",
      "\n",
      "4:\tloss: 426588.7374857\tbest: 74880.7201457 (3)\ttotal: 618ms\tremaining: 11.7s\n",
      "0:\tlearn: 107555.0784593\ttest: 107726.8081062\tbest: 107726.8081062 (0)\ttotal: 14.3ms\tremaining: 28.7ms\n",
      "1:\tlearn: 83450.9610257\ttest: 83144.7576114\tbest: 83144.7576114 (1)\ttotal: 39.5ms\tremaining: 19.7ms\n",
      "2:\tlearn: 75111.5908478\ttest: 75683.5551893\tbest: 75683.5551893 (2)\ttotal: 56.4ms\tremaining: 0us\n",
      "\n",
      "bestTest = 75683.55519\n",
      "bestIteration = 2\n",
      "\n",
      "5:\tloss: 75683.5551893\tbest: 74880.7201457 (3)\ttotal: 680ms\tremaining: 10.7s\n",
      "0:\tlearn: 397105.4387599\ttest: 397599.1900878\tbest: 397599.1900878 (0)\ttotal: 18ms\tremaining: 36ms\n",
      "1:\tlearn: 359992.0103110\ttest: 360490.4962383\tbest: 360490.4962383 (1)\ttotal: 28ms\tremaining: 14ms\n",
      "2:\tlearn: 326653.6526827\ttest: 327125.2978192\tbest: 327125.2978192 (2)\ttotal: 39ms\tremaining: 0us\n",
      "\n",
      "bestTest = 327125.2978\n",
      "bestIteration = 2\n",
      "\n",
      "6:\tloss: 327125.2978192\tbest: 74880.7201457 (3)\ttotal: 727ms\tremaining: 9.66s\n",
      "0:\tlearn: 235930.7359917\ttest: 236474.6525866\tbest: 236474.6525866 (0)\ttotal: 10.5ms\tremaining: 20.9ms\n",
      "1:\tlearn: 142364.3284042\ttest: 142609.3227474\tbest: 142609.3227474 (1)\ttotal: 22.1ms\tremaining: 11.1ms\n",
      "2:\tlearn: 100676.8383958\ttest: 100822.9646175\tbest: 100822.9646175 (2)\ttotal: 34.6ms\tremaining: 0us\n",
      "\n",
      "bestTest = 100822.9646\n",
      "bestIteration = 2\n",
      "\n",
      "7:\tloss: 100822.9646175\tbest: 74880.7201457 (3)\ttotal: 767ms\tremaining: 8.82s\n",
      "0:\tlearn: 98409.7098234\ttest: 98269.1034624\tbest: 98269.1034624 (0)\ttotal: 16.2ms\tremaining: 32.5ms\n",
      "1:\tlearn: 82859.6300828\ttest: 82467.1169000\tbest: 82467.1169000 (1)\ttotal: 32.8ms\tremaining: 16.4ms\n",
      "2:\tlearn: 75676.1749471\ttest: 76324.1449644\tbest: 76324.1449644 (2)\ttotal: 52.9ms\tremaining: 0us\n",
      "\n",
      "bestTest = 76324.14496\n",
      "bestIteration = 2\n",
      "\n",
      "8:\tloss: 76324.1449644\tbest: 74880.7201457 (3)\ttotal: 826ms\tremaining: 8.35s\n",
      "0:\tlearn: 108132.5643289\ttest: 108322.9241586\tbest: 108322.9241586 (0)\ttotal: 34.6ms\tremaining: 69.1ms\n",
      "1:\tlearn: 83448.7375706\ttest: 83032.0878947\tbest: 83032.0878947 (1)\ttotal: 45.6ms\tremaining: 22.8ms\n",
      "2:\tlearn: 75824.4928719\ttest: 76492.7274881\tbest: 76492.7274881 (2)\ttotal: 66.6ms\tremaining: 0us\n",
      "\n",
      "bestTest = 76492.72749\n",
      "bestIteration = 2\n",
      "\n",
      "9:\tloss: 76492.7274881\tbest: 74880.7201457 (3)\ttotal: 904ms\tremaining: 8.13s\n",
      "0:\tlearn: 234676.5178362\ttest: 235340.5837370\tbest: 235340.5837370 (0)\ttotal: 26.1ms\tremaining: 52.2ms\n",
      "1:\tlearn: 137256.0223903\ttest: 137819.7057683\tbest: 137819.7057683 (1)\ttotal: 44.8ms\tremaining: 22.4ms\n",
      "2:\tlearn: 96593.8299030\ttest: 96997.1419679\tbest: 96997.1419679 (2)\ttotal: 96.6ms\tremaining: 0us\n",
      "\n",
      "bestTest = 96997.14197\n",
      "bestIteration = 2\n",
      "\n",
      "10:\tloss: 96997.1419679\tbest: 74880.7201457 (3)\ttotal: 1.01s\tremaining: 8.15s\n",
      "0:\tlearn: 396953.5677313\ttest: 397475.3860228\tbest: 397475.3860228 (0)\ttotal: 20.7ms\tremaining: 41.5ms\n",
      "1:\tlearn: 359672.6430087\ttest: 360209.2238261\tbest: 360209.2238261 (1)\ttotal: 73.5ms\tremaining: 36.8ms\n",
      "2:\tlearn: 326423.2932374\ttest: 327004.0797728\tbest: 327004.0797728 (2)\ttotal: 112ms\tremaining: 0us\n",
      "\n",
      "bestTest = 327004.0798\n",
      "bestIteration = 2\n",
      "\n",
      "11:\tloss: 327004.0797728\tbest: 74880.7201457 (3)\ttotal: 1.12s\tremaining: 8.25s\n",
      "0:\tlearn: 235023.5870507\ttest: 235689.7300989\tbest: 235689.7300989 (0)\ttotal: 23.9ms\tremaining: 47.9ms\n",
      "1:\tlearn: 137729.0190466\ttest: 138304.3024253\tbest: 138304.3024253 (1)\ttotal: 53.4ms\tremaining: 26.7ms\n",
      "2:\tlearn: 96958.0882273\ttest: 97359.6986918\tbest: 97359.6986918 (2)\ttotal: 85.5ms\tremaining: 0us\n",
      "\n",
      "bestTest = 97359.69869\n",
      "bestIteration = 2\n",
      "\n",
      "12:\tloss: 97359.6986918\tbest: 74880.7201457 (3)\ttotal: 1.22s\tremaining: 8.14s\n",
      "0:\tlearn: 105725.9886600\ttest: 105933.2739311\tbest: 105933.2739311 (0)\ttotal: 27.2ms\tremaining: 54.3ms\n",
      "1:\tlearn: 81142.7925352\ttest: 81281.2514517\tbest: 81281.2514517 (1)\ttotal: 56.3ms\tremaining: 28.1ms\n",
      "2:\tlearn: 74473.9549573\ttest: 74761.2730100\tbest: 74761.2730100 (2)\ttotal: 75ms\tremaining: 0us\n",
      "\n",
      "bestTest = 74761.27301\n",
      "bestIteration = 2\n",
      "\n",
      "13:\tloss: 74761.2730100\tbest: 74761.2730100 (13)\ttotal: 1.3s\tremaining: 8s\n",
      "0:\tlearn: 434320.9791110\ttest: 434797.2817058\tbest: 434797.2817058 (0)\ttotal: 48.2ms\tremaining: 96.4ms\n",
      "1:\tlearn: 430203.7564243\ttest: 430681.2246572\tbest: 430681.2246572 (1)\ttotal: 91.6ms\tremaining: 45.8ms\n",
      "2:\tlearn: 426130.2974649\ttest: 426604.8752805\tbest: 426604.8752805 (2)\ttotal: 141ms\tremaining: 0us\n",
      "\n",
      "bestTest = 426604.8753\n",
      "bestIteration = 2\n",
      "\n",
      "14:\tloss: 426604.8752805\tbest: 74761.2730100 (13)\ttotal: 1.45s\tremaining: 8.21s\n",
      "0:\tlearn: 397017.4714092\ttest: 397538.6423241\tbest: 397538.6423241 (0)\ttotal: 33.7ms\tremaining: 67.5ms\n",
      "1:\tlearn: 359823.7885229\ttest: 360350.8588364\tbest: 360350.8588364 (1)\ttotal: 58.9ms\tremaining: 29.5ms\n",
      "2:\tlearn: 326687.3422018\ttest: 327257.9025016\tbest: 327257.9025016 (2)\ttotal: 99.8ms\tremaining: 0us\n",
      "\n",
      "bestTest = 327257.9025\n",
      "bestIteration = 2\n",
      "\n",
      "15:\tloss: 327257.9025016\tbest: 74761.2730100 (13)\ttotal: 1.56s\tremaining: 8.17s\n",
      "0:\tlearn: 235344.1206721\ttest: 236010.1186142\tbest: 236010.1186142 (0)\ttotal: 21.5ms\tremaining: 42.9ms\n",
      "1:\tlearn: 138190.6214733\ttest: 138775.1705413\tbest: 138775.1705413 (1)\ttotal: 68.4ms\tremaining: 34.2ms\n",
      "2:\tlearn: 97319.2135038\ttest: 97723.0800746\tbest: 97723.0800746 (2)\ttotal: 86ms\tremaining: 0us\n",
      "\n",
      "bestTest = 97723.08007\n",
      "bestIteration = 2\n",
      "\n",
      "16:\tloss: 97723.0800746\tbest: 74761.2730100 (13)\ttotal: 1.65s\tremaining: 8.05s\n",
      "0:\tlearn: 106132.5249852\ttest: 106364.0432135\tbest: 106364.0432135 (0)\ttotal: 26.9ms\tremaining: 53.8ms\n",
      "1:\tlearn: 81300.6314787\ttest: 81475.9421583\tbest: 81475.9421583 (1)\ttotal: 62.8ms\tremaining: 31.4ms\n",
      "2:\tlearn: 74623.1419391\ttest: 74947.1953129\tbest: 74947.1953129 (2)\ttotal: 92.2ms\tremaining: 0us\n",
      "\n",
      "bestTest = 74947.19531\n",
      "bestIteration = 2\n",
      "\n",
      "17:\tloss: 74947.1953129\tbest: 74761.2730100 (13)\ttotal: 1.75s\tremaining: 7.97s\n",
      "0:\tlearn: 96507.1259214\ttest: 96285.6732939\tbest: 96285.6732939 (0)\ttotal: 45.1ms\tremaining: 90.3ms\n",
      "1:\tlearn: 81019.2735886\ttest: 81260.2290787\tbest: 81260.2290787 (1)\ttotal: 105ms\tremaining: 52.7ms\n",
      "2:\tlearn: 74607.8420264\ttest: 75329.5120157\tbest: 75329.5120157 (2)\ttotal: 141ms\tremaining: 0us\n",
      "\n",
      "bestTest = 75329.51202\n",
      "bestIteration = 2\n",
      "\n",
      "18:\tloss: 75329.5120157\tbest: 74761.2730100 (13)\ttotal: 1.9s\tremaining: 8.1s\n",
      "0:\tlearn: 235646.3037176\ttest: 236310.5048004\tbest: 236310.5048004 (0)\ttotal: 34.2ms\tremaining: 68.5ms\n",
      "1:\tlearn: 138642.7172942\ttest: 139234.1934790\tbest: 139234.1934790 (1)\ttotal: 109ms\tremaining: 54.5ms\n",
      "2:\tlearn: 97676.8067188\ttest: 98083.1278413\tbest: 98083.1278413 (2)\ttotal: 139ms\tremaining: 0us\n",
      "\n",
      "bestTest = 98083.12784\n",
      "bestIteration = 2\n",
      "\n",
      "19:\tloss: 98083.1278413\tbest: 74761.2730100 (13)\ttotal: 2.06s\tremaining: 8.24s\n",
      "0:\tlearn: 96758.3267025\ttest: 96567.4096798\tbest: 96567.4096798 (0)\ttotal: 22.1ms\tremaining: 44.2ms\n",
      "1:\tlearn: 81208.5141733\ttest: 81484.4854944\tbest: 81484.4854944 (1)\ttotal: 92.7ms\tremaining: 46.4ms\n",
      "2:\tlearn: 74801.9220773\ttest: 75546.3410573\tbest: 75546.3410573 (2)\ttotal: 117ms\tremaining: 0us\n",
      "\n",
      "bestTest = 75546.34106\n",
      "bestIteration = 2\n",
      "\n",
      "20:\tloss: 75546.3410573\tbest: 74761.2730100 (13)\ttotal: 2.19s\tremaining: 8.24s\n",
      "0:\tlearn: 397133.4876260\ttest: 397652.8160280\tbest: 397652.8160280 (0)\ttotal: 70.5ms\tremaining: 141ms\n",
      "1:\tlearn: 360099.0827025\ttest: 360612.6527878\tbest: 360612.6527878 (1)\ttotal: 99.7ms\tremaining: 49.8ms\n",
      "2:\tlearn: 327164.6330870\ttest: 327719.3921807\tbest: 327719.3921807 (2)\ttotal: 139ms\tremaining: 0us\n",
      "\n",
      "bestTest = 327719.3922\n",
      "bestIteration = 2\n",
      "\n",
      "21:\tloss: 327719.3921807\tbest: 74761.2730100 (13)\ttotal: 2.34s\tremaining: 8.29s\n",
      "0:\tlearn: 106939.1012334\ttest: 107200.6809283\tbest: 107200.6809283 (0)\ttotal: 13.4ms\tremaining: 26.9ms\n",
      "1:\tlearn: 81668.7132127\ttest: 81904.3115874\tbest: 81904.3115874 (1)\ttotal: 34.4ms\tremaining: 17.2ms\n",
      "2:\tlearn: 74981.1421601\ttest: 75370.2503166\tbest: 75370.2503166 (2)\ttotal: 70.4ms\tremaining: 0us\n",
      "\n",
      "bestTest = 75370.25032\n",
      "bestIteration = 2\n",
      "\n",
      "22:\tloss: 75370.2503166\tbest: 74761.2730100 (13)\ttotal: 2.41s\tremaining: 8.08s\n",
      "0:\tlearn: 396807.8120719\ttest: 397312.1444314\tbest: 397312.1444314 (0)\ttotal: 43.7ms\tremaining: 87.5ms\n",
      "1:\tlearn: 359509.3115724\ttest: 360062.5200449\tbest: 360062.5200449 (1)\ttotal: 67.9ms\tremaining: 33.9ms\n",
      "2:\tlearn: 325957.5272152\ttest: 326519.6812670\tbest: 326519.6812670 (2)\ttotal: 96.7ms\tremaining: 0us\n",
      "\n",
      "bestTest = 326519.6813\n",
      "bestIteration = 2\n",
      "\n",
      "23:\tloss: 326519.6812670\tbest: 74761.2730100 (13)\ttotal: 2.52s\tremaining: 7.98s\n",
      "0:\tlearn: 234116.3235928\ttest: 234679.9529164\tbest: 234679.9529164 (0)\ttotal: 34.5ms\tremaining: 69.1ms\n",
      "1:\tlearn: 138950.9219675\ttest: 139405.7343934\tbest: 139405.7343934 (1)\ttotal: 54.5ms\tremaining: 27.2ms\n",
      "2:\tlearn: 99832.7259814\ttest: 100124.6682011\tbest: 100124.6682011 (2)\ttotal: 80.8ms\tremaining: 0us\n",
      "\n",
      "bestTest = 100124.6682\n",
      "bestIteration = 2\n",
      "\n",
      "24:\tloss: 100124.6682011\tbest: 74761.2730100 (13)\ttotal: 2.61s\tremaining: 7.82s\n",
      "0:\tlearn: 103377.7586761\ttest: 103342.4069439\tbest: 103342.4069439 (0)\ttotal: 29.8ms\tremaining: 59.6ms\n",
      "1:\tlearn: 79615.5809403\ttest: 80413.0640075\tbest: 80413.0640075 (1)\ttotal: 56.9ms\tremaining: 28.4ms\n",
      "2:\tlearn: 71815.5432401\ttest: 73161.2972353\tbest: 73161.2972353 (2)\ttotal: 85.7ms\tremaining: 0us\n",
      "\n",
      "bestTest = 73161.29724\n",
      "bestIteration = 2\n",
      "\n",
      "25:\tloss: 73161.2972353\tbest: 73161.2972353 (25)\ttotal: 2.7s\tremaining: 7.68s\n",
      "0:\tlearn: 93809.5231361\ttest: 93294.6952398\tbest: 93294.6952398 (0)\ttotal: 27.1ms\tremaining: 54.2ms\n",
      "1:\tlearn: 79455.6318263\ttest: 79611.3845660\tbest: 79611.3845660 (1)\ttotal: 59.6ms\tremaining: 29.8ms\n",
      "2:\tlearn: 72931.0424451\ttest: 73219.3566246\tbest: 73219.3566246 (2)\ttotal: 93.9ms\tremaining: 0us\n",
      "\n",
      "bestTest = 73219.35662\n",
      "bestIteration = 2\n",
      "\n",
      "26:\tloss: 73219.3566246\tbest: 73161.2972353 (25)\ttotal: 2.8s\tremaining: 7.57s\n",
      "0:\tlearn: 434312.4361208\ttest: 434786.9143366\tbest: 434786.9143366 (0)\ttotal: 23.5ms\tremaining: 47.1ms\n",
      "1:\tlearn: 430185.2051780\ttest: 430665.2462610\tbest: 430665.2462610 (1)\ttotal: 46.5ms\tremaining: 23.3ms\n",
      "2:\tlearn: 426106.3497196\ttest: 426587.5678451\tbest: 426587.5678451 (2)\ttotal: 73.4ms\tremaining: 0us\n",
      "\n",
      "bestTest = 426587.5678\n",
      "bestIteration = 2\n",
      "\n",
      "27:\tloss: 426587.5678451\tbest: 73161.2972353 (25)\ttotal: 2.88s\tremaining: 7.41s\n",
      "0:\tlearn: 396927.6425438\ttest: 397430.1501886\tbest: 397430.1501886 (0)\ttotal: 20.8ms\tremaining: 41.5ms\n",
      "1:\tlearn: 359661.8149409\ttest: 360213.2503631\tbest: 360213.2503631 (1)\ttotal: 31.9ms\tremaining: 16ms\n",
      "2:\tlearn: 326236.5684486\ttest: 326798.1425706\tbest: 326798.1425706 (2)\ttotal: 66.1ms\tremaining: 0us\n",
      "\n",
      "bestTest = 326798.1426\n",
      "bestIteration = 2\n",
      "\n",
      "28:\tloss: 326798.1425706\tbest: 73161.2972353 (25)\ttotal: 2.95s\tremaining: 7.23s\n",
      "0:\tlearn: 234722.0457960\ttest: 235279.2336588\tbest: 235279.2336588 (0)\ttotal: 54ms\tremaining: 108ms\n",
      "1:\tlearn: 139367.0953245\ttest: 139823.8267317\tbest: 139823.8267317 (1)\ttotal: 86.8ms\tremaining: 43.4ms\n",
      "2:\tlearn: 100189.8973080\ttest: 100491.8576004\tbest: 100491.8576004 (2)\ttotal: 119ms\tremaining: 0us\n",
      "\n",
      "bestTest = 100491.8576\n",
      "bestIteration = 2\n",
      "\n",
      "29:\tloss: 100491.8576004\tbest: 73161.2972353 (25)\ttotal: 3.08s\tremaining: 7.19s\n",
      "0:\tlearn: 94282.7747594\ttest: 93802.8080784\tbest: 93802.8080784 (0)\ttotal: 33.8ms\tremaining: 67.5ms\n",
      "1:\tlearn: 79935.2085673\ttest: 80355.5308518\tbest: 80355.5308518 (1)\ttotal: 51.5ms\tremaining: 25.7ms\n",
      "2:\tlearn: 73645.2463001\ttest: 74890.5307446\tbest: 74890.5307446 (2)\ttotal: 70.8ms\tremaining: 0us\n",
      "\n",
      "bestTest = 74890.53074\n",
      "bestIteration = 2\n",
      "\n",
      "30:\tloss: 74890.5307446\tbest: 73161.2972353 (25)\ttotal: 3.16s\tremaining: 7.03s\n",
      "0:\tlearn: 434322.8488639\ttest: 434797.0837374\tbest: 434797.0837374 (0)\ttotal: 48.4ms\tremaining: 96.9ms\n",
      "1:\tlearn: 430200.4045967\ttest: 430680.1820365\tbest: 430680.1820365 (1)\ttotal: 80.8ms\tremaining: 40.4ms\n",
      "2:\tlearn: 426137.2701385\ttest: 426618.4624305\tbest: 426618.4624305 (2)\ttotal: 118ms\tremaining: 0us\n",
      "\n",
      "bestTest = 426618.4624\n",
      "bestIteration = 2\n",
      "\n",
      "31:\tloss: 426618.4624305\tbest: 73161.2972353 (25)\ttotal: 3.28s\tremaining: 6.97s\n",
      "0:\tlearn: 235258.3463888\ttest: 235803.6513841\tbest: 235803.6513841 (0)\ttotal: 27.7ms\tremaining: 55.4ms\n",
      "1:\tlearn: 139190.2695148\ttest: 139819.6437112\tbest: 139819.6437112 (1)\ttotal: 64.1ms\tremaining: 32ms\n",
      "2:\tlearn: 99801.4940773\ttest: 100380.7403567\tbest: 100380.7403567 (2)\ttotal: 87.9ms\tremaining: 0us\n",
      "\n",
      "bestTest = 100380.7404\n",
      "bestIteration = 2\n",
      "\n",
      "32:\tloss: 100380.7403567\tbest: 73161.2972353 (25)\ttotal: 3.38s\tremaining: 6.86s\n",
      "0:\tlearn: 434332.3580129\ttest: 434806.3743996\tbest: 434806.3743996 (0)\ttotal: 28.3ms\tremaining: 56.7ms\n",
      "1:\tlearn: 430214.6807408\ttest: 430694.2189163\tbest: 430694.2189163 (1)\ttotal: 46.4ms\tremaining: 23.2ms\n",
      "2:\tlearn: 426166.3484479\ttest: 426647.5237678\tbest: 426647.5237678 (2)\ttotal: 69.4ms\tremaining: 0us\n",
      "\n",
      "bestTest = 426647.5238\n",
      "bestIteration = 2\n",
      "\n",
      "33:\tloss: 426647.5237678\tbest: 73161.2972353 (25)\ttotal: 3.45s\tremaining: 6.7s\n",
      "0:\tlearn: 397127.9671295\ttest: 397625.8256288\tbest: 397625.8256288 (0)\ttotal: 15.3ms\tremaining: 30.7ms\n",
      "1:\tlearn: 359930.5084021\ttest: 360477.2552241\tbest: 360477.2552241 (1)\ttotal: 29.7ms\tremaining: 14.9ms\n",
      "2:\tlearn: 326732.0892050\ttest: 327292.4551550\tbest: 327292.4551550 (2)\ttotal: 49.2ms\tremaining: 0us\n",
      "\n",
      "bestTest = 327292.4552\n",
      "bestIteration = 2\n",
      "\n",
      "34:\tloss: 327292.4551550\tbest: 73161.2972353 (25)\ttotal: 3.51s\tremaining: 6.52s\n",
      "0:\tlearn: 235752.1587020\ttest: 236285.5019571\tbest: 236285.5019571 (0)\ttotal: 15.7ms\tremaining: 31.5ms\n",
      "1:\tlearn: 139798.3641912\ttest: 140429.3333079\tbest: 140429.3333079 (1)\ttotal: 28ms\tremaining: 14ms\n",
      "2:\tlearn: 100219.0743139\ttest: 100816.1879349\tbest: 100816.1879349 (2)\ttotal: 36ms\tremaining: 0us\n",
      "\n",
      "bestTest = 100816.1879\n",
      "bestIteration = 2\n",
      "\n",
      "35:\tloss: 100816.1879349\tbest: 73161.2972353 (25)\ttotal: 3.55s\tremaining: 6.31s\n",
      "0:\tlearn: 105671.0772186\ttest: 105629.5819262\tbest: 105629.5819262 (0)\ttotal: 8.58ms\tremaining: 17.2ms\n",
      "1:\tlearn: 80771.0779897\ttest: 81376.5223164\tbest: 81376.5223164 (1)\ttotal: 21.9ms\tremaining: 11ms\n",
      "2:\tlearn: 73215.1540789\ttest: 74162.3271314\tbest: 74162.3271314 (2)\ttotal: 30.4ms\tremaining: 0us\n",
      "\n",
      "bestTest = 74162.32713\n",
      "bestIteration = 2\n",
      "\n",
      "36:\tloss: 74162.3271314\tbest: 73161.2972353 (25)\ttotal: 3.58s\tremaining: 6.11s\n",
      "0:\tlearn: 95298.3098193\ttest: 94813.7549485\tbest: 94813.7549485 (0)\ttotal: 7.27ms\tremaining: 14.5ms\n",
      "1:\tlearn: 80701.6203188\ttest: 80982.4041489\tbest: 80982.4041489 (1)\ttotal: 16.3ms\tremaining: 8.17ms\n",
      "2:\tlearn: 74184.8113203\ttest: 74888.9223471\tbest: 74888.9223471 (2)\ttotal: 24.6ms\tremaining: 0us\n",
      "\n",
      "bestTest = 74888.92235\n",
      "bestIteration = 2\n",
      "\n",
      "37:\tloss: 74888.9223471\tbest: 73161.2972353 (25)\ttotal: 3.61s\tremaining: 5.9s\n",
      "0:\tlearn: 397217.2401621\ttest: 397713.1599313\tbest: 397713.1599313 (0)\ttotal: 11.6ms\tremaining: 23.2ms\n",
      "1:\tlearn: 360054.6803856\ttest: 360599.4317285\tbest: 360599.4317285 (1)\ttotal: 23.8ms\tremaining: 11.9ms\n",
      "2:\tlearn: 326922.4054835\ttest: 327494.7008502\tbest: 327494.7008502 (2)\ttotal: 32.7ms\tremaining: 0us\n",
      "\n",
      "bestTest = 327494.7009\n",
      "bestIteration = 2\n",
      "\n",
      "38:\tloss: 327494.7008502\tbest: 73161.2972353 (25)\ttotal: 3.65s\tremaining: 5.71s\n",
      "0:\tlearn: 106370.9016497\ttest: 106309.8532480\tbest: 106309.8532480 (0)\ttotal: 7.34ms\tremaining: 14.7ms\n",
      "1:\tlearn: 81929.6920932\ttest: 82594.4883644\tbest: 82594.4883644 (1)\ttotal: 16ms\tremaining: 8.02ms\n",
      "2:\tlearn: 75407.3074801\ttest: 76468.1310843\tbest: 76468.1310843 (2)\ttotal: 55.1ms\tremaining: 0us\n",
      "\n",
      "bestTest = 76468.13108\n",
      "bestIteration = 2\n",
      "\n",
      "39:\tloss: 76468.1310843\tbest: 73161.2972353 (25)\ttotal: 3.71s\tremaining: 5.57s\n",
      "0:\tlearn: 233819.4676222\ttest: 234406.9146205\tbest: 234406.9146205 (0)\ttotal: 56.4ms\tremaining: 113ms\n",
      "1:\tlearn: 137185.7499822\ttest: 137896.5952481\tbest: 137896.5952481 (1)\ttotal: 95.6ms\tremaining: 47.8ms\n",
      "2:\tlearn: 96425.8804063\ttest: 97124.6009434\tbest: 97124.6009434 (2)\ttotal: 117ms\tremaining: 0us\n",
      "\n",
      "bestTest = 97124.60094\n",
      "bestIteration = 2\n",
      "\n",
      "40:\tloss: 97124.6009434\tbest: 73161.2972353 (25)\ttotal: 3.83s\tremaining: 5.52s\n",
      "0:\tlearn: 102270.4711989\ttest: 102282.6229395\tbest: 102282.6229395 (0)\ttotal: 19.2ms\tremaining: 38.3ms\n",
      "1:\tlearn: 77273.2301136\ttest: 77379.5240346\tbest: 77379.5240346 (1)\ttotal: 58.8ms\tremaining: 29.4ms\n",
      "2:\tlearn: 69782.6948372\ttest: 70853.1947508\tbest: 70853.1947508 (2)\ttotal: 77.3ms\tremaining: 0us\n",
      "\n",
      "bestTest = 70853.19475\n",
      "bestIteration = 2\n",
      "\n",
      "41:\tloss: 70853.1947508\tbest: 70853.1947508 (41)\ttotal: 3.92s\tremaining: 5.41s\n",
      "0:\tlearn: 92484.6750972\ttest: 92006.9314792\tbest: 92006.9314792 (0)\ttotal: 12.6ms\tremaining: 25.3ms\n",
      "1:\tlearn: 76556.0471236\ttest: 76614.8954516\tbest: 76614.8954516 (1)\ttotal: 25.4ms\tremaining: 12.7ms\n",
      "2:\tlearn: 70068.2336170\ttest: 71173.8626506\tbest: 71173.8626506 (2)\ttotal: 50.3ms\tremaining: 0us\n",
      "\n",
      "bestTest = 71173.86265\n",
      "bestIteration = 2\n",
      "\n",
      "42:\tloss: 71173.8626506\tbest: 70853.1947508 (41)\ttotal: 3.97s\tremaining: 5.26s\n",
      "0:\tlearn: 434312.5058245\ttest: 434787.8196543\tbest: 434787.8196543 (0)\ttotal: 29.5ms\tremaining: 59ms\n",
      "1:\tlearn: 430184.8233996\ttest: 430664.3913436\tbest: 430664.3913436 (1)\ttotal: 35.1ms\tremaining: 17.6ms\n",
      "2:\tlearn: 426096.1358194\ttest: 426583.8585747\tbest: 426583.8585747 (2)\ttotal: 47.1ms\tremaining: 0us\n",
      "\n",
      "bestTest = 426583.8586\n",
      "bestIteration = 2\n",
      "\n",
      "43:\tloss: 426583.8585747\tbest: 70853.1947508 (41)\ttotal: 4.02s\tremaining: 5.12s\n",
      "0:\tlearn: 396925.9863140\ttest: 397436.9025847\tbest: 397436.9025847 (0)\ttotal: 11.2ms\tremaining: 22.4ms\n",
      "1:\tlearn: 359651.6835161\ttest: 360198.0047816\tbest: 360198.0047816 (1)\ttotal: 15.4ms\tremaining: 7.72ms\n",
      "2:\tlearn: 326147.7430386\ttest: 326759.3842889\tbest: 326759.3842889 (2)\ttotal: 79.1ms\tremaining: 0us\n",
      "\n",
      "bestTest = 326759.3843\n",
      "bestIteration = 2\n",
      "\n",
      "44:\tloss: 326759.3842889\tbest: 70853.1947508 (41)\ttotal: 4.11s\tremaining: 5.02s\n",
      "0:\tlearn: 103381.9714348\ttest: 103428.1557069\tbest: 103428.1557069 (0)\ttotal: 17.8ms\tremaining: 35.7ms\n",
      "1:\tlearn: 77839.8587825\ttest: 77919.3009691\tbest: 77919.3009691 (1)\ttotal: 34.3ms\tremaining: 17.1ms\n",
      "2:\tlearn: 70334.7712454\ttest: 71370.5840532\tbest: 71370.5840532 (2)\ttotal: 47.7ms\tremaining: 0us\n",
      "\n",
      "bestTest = 71370.58405\n",
      "bestIteration = 2\n",
      "\n",
      "45:\tloss: 71370.5840532\tbest: 70853.1947508 (41)\ttotal: 4.16s\tremaining: 4.88s\n",
      "0:\tlearn: 93188.3403364\ttest: 92747.6347417\tbest: 92747.6347417 (0)\ttotal: 13.6ms\tremaining: 27.3ms\n",
      "1:\tlearn: 77099.3779037\ttest: 77122.9962392\tbest: 77122.9962392 (1)\ttotal: 27.4ms\tremaining: 13.7ms\n",
      "2:\tlearn: 70710.4384898\ttest: 71276.6977775\tbest: 71276.6977775 (2)\ttotal: 67.2ms\tremaining: 0us\n",
      "\n",
      "bestTest = 71276.69778\n",
      "bestIteration = 2\n",
      "\n",
      "46:\tloss: 71276.6977775\tbest: 70853.1947508 (41)\ttotal: 4.23s\tremaining: 4.77s\n",
      "0:\tlearn: 397060.1449826\ttest: 397572.3730399\tbest: 397572.3730399 (0)\ttotal: 10.8ms\tremaining: 21.6ms\n",
      "1:\tlearn: 359802.5429022\ttest: 360350.2852719\tbest: 360350.2852719 (1)\ttotal: 19.5ms\tremaining: 9.73ms\n",
      "2:\tlearn: 326467.2677196\ttest: 327083.0071092\tbest: 327083.0071092 (2)\ttotal: 37.5ms\tremaining: 0us\n",
      "\n",
      "bestTest = 327083.0071\n",
      "bestIteration = 2\n",
      "\n",
      "47:\tloss: 327083.0071092\tbest: 70853.1947508 (41)\ttotal: 4.28s\tremaining: 4.63s\n",
      "0:\tlearn: 104423.1805632\ttest: 104482.4888929\tbest: 104482.4888929 (0)\ttotal: 18.4ms\tremaining: 36.9ms\n",
      "1:\tlearn: 78453.1586020\ttest: 78512.3657019\tbest: 78512.3657019 (1)\ttotal: 60.6ms\tremaining: 30.3ms\n",
      "2:\tlearn: 71058.6715606\ttest: 71643.4235534\tbest: 71643.4235534 (2)\ttotal: 82.6ms\tremaining: 0us\n",
      "\n",
      "bestTest = 71643.42355\n",
      "bestIteration = 2\n",
      "\n",
      "48:\tloss: 71643.4235534\tbest: 70853.1947508 (41)\ttotal: 4.36s\tremaining: 4.54s\n",
      "0:\tlearn: 93922.1878984\ttest: 93496.0280504\tbest: 93496.0280504 (0)\ttotal: 10.9ms\tremaining: 21.8ms\n",
      "1:\tlearn: 77760.9679972\ttest: 77776.6469413\tbest: 77776.6469413 (1)\ttotal: 24.9ms\tremaining: 12.4ms\n",
      "2:\tlearn: 70642.1960087\ttest: 70957.0944985\tbest: 70957.0944985 (2)\ttotal: 37ms\tremaining: 0us\n",
      "\n",
      "bestTest = 70957.0945\n",
      "bestIteration = 2\n",
      "\n",
      "49:\tloss: 70957.0944985\tbest: 70853.1947508 (41)\ttotal: 4.41s\tremaining: 4.41s\n",
      "0:\tlearn: 434337.8827478\ttest: 434813.4473117\tbest: 434813.4473117 (0)\ttotal: 11.1ms\tremaining: 22.3ms\n",
      "1:\tlearn: 430216.5478631\ttest: 430696.3446394\tbest: 430696.3446394 (1)\ttotal: 15.9ms\tremaining: 7.92ms\n",
      "2:\tlearn: 426170.9559044\ttest: 426659.3973788\tbest: 426659.3973788 (2)\ttotal: 28.5ms\tremaining: 0us\n",
      "\n",
      "bestTest = 426659.3974\n",
      "bestIteration = 2\n",
      "\n",
      "50:\tloss: 426659.3973788\tbest: 70853.1947508 (41)\ttotal: 4.44s\tremaining: 4.26s\n",
      "0:\tlearn: 235943.8410365\ttest: 236555.6151656\tbest: 236555.6151656 (0)\ttotal: 12.1ms\tremaining: 24.3ms\n",
      "1:\tlearn: 140216.3665705\ttest: 140947.8323858\tbest: 140947.8323858 (1)\ttotal: 37.9ms\tremaining: 19ms\n",
      "2:\tlearn: 98994.7008609\ttest: 99775.9663003\tbest: 99775.9663003 (2)\ttotal: 48.2ms\tremaining: 0us\n",
      "\n",
      "bestTest = 99775.9663\n",
      "bestIteration = 2\n",
      "\n",
      "51:\tloss: 99775.9663003\tbest: 70853.1947508 (41)\ttotal: 4.49s\tremaining: 4.15s\n",
      "0:\tlearn: 105401.0842246\ttest: 105466.9873335\tbest: 105466.9873335 (0)\ttotal: 10.5ms\tremaining: 21.1ms\n",
      "1:\tlearn: 80335.8505597\ttest: 80793.1325911\tbest: 80793.1325911 (1)\ttotal: 22.2ms\tremaining: 11.1ms\n",
      "2:\tlearn: 71505.9246694\ttest: 72535.2837287\tbest: 72535.2837287 (2)\ttotal: 33.2ms\tremaining: 0us\n",
      "\n",
      "bestTest = 72535.28373\n",
      "bestIteration = 2\n",
      "\n",
      "52:\tloss: 72535.2837287\tbest: 70853.1947508 (41)\ttotal: 4.53s\tremaining: 4.02s\n",
      "0:\tlearn: 106325.8889270\ttest: 106396.3085075\tbest: 106396.3085075 (0)\ttotal: 14.7ms\tremaining: 29.5ms\n",
      "1:\tlearn: 80795.7513317\ttest: 81316.3029215\tbest: 81316.3029215 (1)\ttotal: 56.6ms\tremaining: 28.3ms\n",
      "2:\tlearn: 72641.0930498\ttest: 73569.7679913\tbest: 73569.7679913 (2)\ttotal: 76.6ms\tremaining: 0us\n",
      "\n",
      "bestTest = 73569.76799\n",
      "bestIteration = 2\n",
      "\n",
      "53:\tloss: 73569.7679913\tbest: 70853.1947508 (41)\ttotal: 4.61s\tremaining: 3.93s\n",
      "0:\tlearn: 99665.9466096\ttest: 99625.4627581\tbest: 99625.4627581 (0)\ttotal: 21.6ms\tremaining: 43.2ms\n",
      "1:\tlearn: 77825.5349490\ttest: 78422.1851938\tbest: 78422.1851938 (1)\ttotal: 48.9ms\tremaining: 24.5ms\n",
      "2:\tlearn: 70006.3865317\ttest: 71232.7776349\tbest: 71232.7776349 (2)\ttotal: 82.9ms\tremaining: 0us\n",
      "\n",
      "bestTest = 71232.77763\n",
      "bestIteration = 2\n",
      "\n",
      "54:\tloss: 71232.7776349\tbest: 70853.1947508 (41)\ttotal: 4.7s\tremaining: 3.84s\n",
      "0:\tlearn: 89345.3057111\ttest: 88841.9750528\tbest: 88841.9750528 (0)\ttotal: 37ms\tremaining: 74ms\n",
      "1:\tlearn: 76144.5792384\ttest: 76320.6734285\tbest: 76320.6734285 (1)\ttotal: 74.3ms\tremaining: 37.2ms\n",
      "2:\tlearn: 69480.1683901\ttest: 70515.8204931\tbest: 70515.8204931 (2)\ttotal: 98.3ms\tremaining: 0us\n",
      "\n",
      "bestTest = 70515.82049\n",
      "bestIteration = 2\n",
      "\n",
      "55:\tloss: 70515.8204931\tbest: 70515.8204931 (55)\ttotal: 4.8s\tremaining: 3.77s\n",
      "0:\tlearn: 434313.6913760\ttest: 434788.4224515\tbest: 434788.4224515 (0)\ttotal: 17.1ms\tremaining: 34.2ms\n",
      "1:\tlearn: 430187.0295059\ttest: 430666.8000277\tbest: 430666.8000277 (1)\ttotal: 21.6ms\tremaining: 10.8ms\n",
      "2:\tlearn: 426106.0243318\ttest: 426594.5853886\tbest: 426594.5853886 (2)\ttotal: 53.4ms\tremaining: 0us\n",
      "\n",
      "bestTest = 426594.5854\n",
      "bestIteration = 2\n",
      "\n",
      "56:\tloss: 426594.5853886\tbest: 70515.8204931 (55)\ttotal: 4.86s\tremaining: 3.67s\n",
      "0:\tlearn: 234396.2777056\ttest: 234971.9462782\tbest: 234971.9462782 (0)\ttotal: 15.8ms\tremaining: 31.5ms\n",
      "1:\tlearn: 137680.4129739\ttest: 138434.3173661\tbest: 138434.3173661 (1)\ttotal: 52.1ms\tremaining: 26ms\n",
      "2:\tlearn: 97327.0742321\ttest: 97999.9813160\tbest: 97999.9813160 (2)\ttotal: 69.9ms\tremaining: 0us\n",
      "\n",
      "bestTest = 97999.98132\n",
      "bestIteration = 2\n",
      "\n",
      "57:\tloss: 97999.9813160\tbest: 70515.8204931 (55)\ttotal: 4.94s\tremaining: 3.57s\n",
      "0:\tlearn: 90335.2026510\ttest: 89895.7252630\tbest: 89895.7252630 (0)\ttotal: 70.1ms\tremaining: 140ms\n",
      "1:\tlearn: 77429.3500885\ttest: 77813.5984184\tbest: 77813.5984184 (1)\ttotal: 115ms\tremaining: 57.7ms\n",
      "2:\tlearn: 70064.7068802\ttest: 71417.4047388\tbest: 71417.4047388 (2)\ttotal: 174ms\tremaining: 0us\n",
      "\n",
      "bestTest = 71417.40474\n",
      "bestIteration = 2\n",
      "\n",
      "58:\tloss: 71417.4047388\tbest: 70515.8204931 (55)\ttotal: 5.11s\tremaining: 3.55s\n",
      "0:\tlearn: 434355.2247343\ttest: 434831.0561266\tbest: 434831.0561266 (0)\ttotal: 35.7ms\tremaining: 71.5ms\n",
      "1:\tlearn: 430232.7016926\ttest: 430713.5254608\tbest: 430713.5254608 (1)\ttotal: 49.1ms\tremaining: 24.5ms\n",
      "2:\tlearn: 426207.2745384\ttest: 426697.5299517\tbest: 426697.5299517 (2)\ttotal: 90.6ms\tremaining: 0us\n",
      "\n",
      "bestTest = 426697.53\n",
      "bestIteration = 2\n",
      "\n",
      "59:\tloss: 426697.5299517\tbest: 70515.8204931 (55)\ttotal: 5.21s\tremaining: 3.47s\n",
      "0:\tlearn: 397349.4534126\ttest: 397865.6256685\tbest: 397865.6256685 (0)\ttotal: 46.1ms\tremaining: 92.2ms\n",
      "1:\tlearn: 360590.0243615\ttest: 361147.8709014\tbest: 361147.8709014 (1)\ttotal: 137ms\tremaining: 68.7ms\n",
      "2:\tlearn: 327361.1246777\ttest: 327947.8784856\tbest: 327947.8784856 (2)\ttotal: 176ms\tremaining: 0us\n",
      "\n",
      "bestTest = 327947.8785\n",
      "bestIteration = 2\n",
      "\n",
      "60:\tloss: 327947.8784856\tbest: 70515.8204931 (55)\ttotal: 5.4s\tremaining: 3.45s\n",
      "0:\tlearn: 104575.8444662\ttest: 104708.2879988\tbest: 104708.2879988 (0)\ttotal: 56.9ms\tremaining: 114ms\n",
      "1:\tlearn: 79217.9207513\ttest: 79504.3081886\tbest: 79504.3081886 (1)\ttotal: 87.8ms\tremaining: 43.9ms\n",
      "2:\tlearn: 72089.0678406\ttest: 73622.1135607\tbest: 73622.1135607 (2)\ttotal: 116ms\tremaining: 0us\n",
      "\n",
      "bestTest = 73622.11356\n",
      "bestIteration = 2\n",
      "\n",
      "61:\tloss: 73622.1135607\tbest: 70515.8204931 (55)\ttotal: 5.52s\tremaining: 3.38s\n",
      "0:\tlearn: 397534.5762896\ttest: 398055.3976952\tbest: 398055.3976952 (0)\ttotal: 33.3ms\tremaining: 66.7ms\n",
      "1:\tlearn: 361024.4212792\ttest: 361582.1979018\tbest: 361582.1979018 (1)\ttotal: 58.7ms\tremaining: 29.3ms\n",
      "2:\tlearn: 327906.8400576\ttest: 328493.7783166\tbest: 328493.7783166 (2)\ttotal: 86.1ms\tremaining: 0us\n",
      "\n",
      "bestTest = 328493.7783\n",
      "bestIteration = 2\n",
      "\n",
      "62:\tloss: 328493.7783166\tbest: 70515.8204931 (55)\ttotal: 5.61s\tremaining: 3.3s\n",
      "0:\tlearn: 106095.1973140\ttest: 106268.1074557\tbest: 106268.1074557 (0)\ttotal: 38ms\tremaining: 76ms\n",
      "1:\tlearn: 80526.2870510\ttest: 81119.1215248\tbest: 81119.1215248 (1)\ttotal: 97.8ms\tremaining: 48.9ms\n",
      "2:\tlearn: 72604.9469984\ttest: 74094.1724752\tbest: 74094.1724752 (2)\ttotal: 126ms\tremaining: 0us\n",
      "\n",
      "bestTest = 74094.17248\n",
      "bestIteration = 2\n",
      "\n",
      "63:\tloss: 74094.1724752\tbest: 70515.8204931 (55)\ttotal: 5.74s\tremaining: 3.23s\n",
      "0:\tlearn: 93755.7429534\ttest: 93442.6166117\tbest: 93442.6166117 (0)\ttotal: 16.7ms\tremaining: 33.5ms\n",
      "1:\tlearn: 79309.2212864\ttest: 79625.4224190\tbest: 79625.4224190 (1)\ttotal: 36.6ms\tremaining: 18.3ms\n",
      "2:\tlearn: 71895.3388598\ttest: 72922.2977792\tbest: 72922.2977792 (2)\ttotal: 55ms\tremaining: 0us\n",
      "\n",
      "bestTest = 72922.29778\n",
      "bestIteration = 2\n",
      "\n",
      "64:\tloss: 72922.2977792\tbest: 70515.8204931 (55)\ttotal: 5.8s\tremaining: 3.12s\n",
      "0:\tlearn: 396682.3590879\ttest: 397179.2073570\tbest: 397179.2073570 (0)\ttotal: 46.3ms\tremaining: 92.5ms\n",
      "1:\tlearn: 359073.8835499\ttest: 359685.3784890\tbest: 359685.3784890 (1)\ttotal: 1.08s\tremaining: 539ms\n",
      "2:\tlearn: 325566.8642143\ttest: 326198.7156036\tbest: 326198.7156036 (2)\ttotal: 2.72s\tremaining: 0us\n",
      "\n",
      "bestTest = 326198.7156\n",
      "bestIteration = 2\n",
      "\n",
      "65:\tloss: 326198.7156036\tbest: 70515.8204931 (55)\ttotal: 8.53s\tremaining: 4.39s\n",
      "0:\tlearn: 233135.6658184\ttest: 233668.7307538\tbest: 233668.7307538 (0)\ttotal: 87.5ms\tremaining: 175ms\n",
      "1:\tlearn: 135779.4660346\ttest: 136635.0120101\tbest: 136635.0120101 (1)\ttotal: 268ms\tremaining: 134ms\n",
      "2:\tlearn: 94904.0272331\ttest: 95850.5349281\tbest: 95850.5349281 (2)\ttotal: 1.9s\tremaining: 0us\n",
      "\n",
      "bestTest = 95850.53493\n",
      "bestIteration = 2\n",
      "\n",
      "66:\tloss: 95850.5349281\tbest: 70515.8204931 (55)\ttotal: 10.4s\tremaining: 5.14s\n",
      "0:\tlearn: 99665.9466096\ttest: 99625.4627581\tbest: 99625.4627581 (0)\ttotal: 107ms\tremaining: 215ms\n",
      "1:\tlearn: 73850.0294618\ttest: 75043.7631343\tbest: 75043.7631343 (1)\ttotal: 2.03s\tremaining: 1.01s\n",
      "2:\tlearn: 65883.9561531\ttest: 68489.0021983\tbest: 68489.0021983 (2)\ttotal: 3.05s\tremaining: 0us\n",
      "\n",
      "bestTest = 68489.0022\n",
      "bestIteration = 2\n",
      "\n",
      "67:\tloss: 68489.0021983\tbest: 68489.0021983 (67)\ttotal: 13.5s\tremaining: 6.36s\n",
      "0:\tlearn: 396931.7829005\ttest: 397436.9402790\tbest: 397436.9402790 (0)\ttotal: 84.4ms\tremaining: 169ms\n",
      "1:\tlearn: 359883.3620643\ttest: 360496.5886751\tbest: 360496.5886751 (1)\ttotal: 692ms\tremaining: 346ms\n",
      "2:\tlearn: 326925.3982051\ttest: 327555.6468548\tbest: 327555.6468548 (2)\ttotal: 1.8s\tremaining: 0us\n",
      "\n",
      "bestTest = 327555.6469\n",
      "bestIteration = 2\n",
      "\n",
      "68:\tloss: 327555.6468548\tbest: 68489.0021983 (67)\ttotal: 15.3s\tremaining: 6.88s\n",
      "0:\tlearn: 235517.1725472\ttest: 236122.6401537\tbest: 236122.6401537 (0)\ttotal: 105ms\tremaining: 211ms\n",
      "1:\tlearn: 139078.2879575\ttest: 140029.1411998\tbest: 140029.1411998 (1)\ttotal: 299ms\tremaining: 149ms\n",
      "2:\tlearn: 97921.1054562\ttest: 98972.5727349\tbest: 98972.5727349 (2)\ttotal: 1.35s\tremaining: 0us\n",
      "\n",
      "bestTest = 98972.57273\n",
      "bestIteration = 2\n",
      "\n",
      "69:\tloss: 98972.5727349\tbest: 68489.0021983 (67)\ttotal: 16.7s\tremaining: 7.15s\n",
      "0:\tlearn: 434355.2247343\ttest: 434831.0561266\tbest: 434831.0561266 (0)\ttotal: 99.4ms\tremaining: 199ms\n",
      "1:\tlearn: 430371.7471425\ttest: 430857.9102602\tbest: 430857.9102602 (1)\ttotal: 482ms\tremaining: 241ms\n",
      "2:\tlearn: 426429.7240146\ttest: 426916.4898570\tbest: 426916.4898570 (2)\ttotal: 1.26s\tremaining: 0us\n",
      "\n",
      "bestTest = 426916.4899\n",
      "bestIteration = 2\n",
      "\n",
      "70:\tloss: 426916.4898570\tbest: 68489.0021983 (67)\ttotal: 18s\tremaining: 7.34s\n",
      "0:\tlearn: 236548.1583925\ttest: 237179.0610572\tbest: 237179.0610572 (0)\ttotal: 153ms\tremaining: 306ms\n",
      "1:\tlearn: 140564.7083733\ttest: 141534.1353140\tbest: 141534.1353140 (1)\ttotal: 325ms\tremaining: 163ms\n",
      "2:\tlearn: 98860.4668539\ttest: 99922.2377707\tbest: 99922.2377707 (2)\ttotal: 945ms\tremaining: 0us\n",
      "\n",
      "bestTest = 99922.23777\n",
      "bestIteration = 2\n",
      "\n",
      "71:\tloss: 99922.2377707\tbest: 68489.0021983 (67)\ttotal: 18.9s\tremaining: 7.36s\n",
      "0:\tlearn: 104575.8444662\ttest: 104708.2879988\tbest: 104708.2879988 (0)\ttotal: 120ms\tremaining: 241ms\n",
      "1:\tlearn: 77740.6073551\ttest: 78255.1905386\tbest: 78255.1905386 (1)\ttotal: 1.03s\tremaining: 518ms\n",
      "2:\tlearn: 69363.7948544\ttest: 71063.6308610\tbest: 71063.6308610 (2)\ttotal: 1.82s\tremaining: 0us\n",
      "\n",
      "bestTest = 71063.63086\n",
      "bestIteration = 2\n",
      "\n",
      "72:\tloss: 71063.6308610\tbest: 68489.0021983 (67)\ttotal: 20.8s\tremaining: 7.68s\n",
      "0:\tlearn: 92595.7548977\ttest: 92244.0821846\tbest: 92244.0821846 (0)\ttotal: 167ms\tremaining: 335ms\n",
      "1:\tlearn: 76074.3297758\ttest: 76833.0281714\tbest: 76833.0281714 (1)\ttotal: 1.03s\tremaining: 516ms\n",
      "2:\tlearn: 68353.2493218\ttest: 70232.2481723\tbest: 70232.2481723 (2)\ttotal: 1.91s\tremaining: 0us\n",
      "\n",
      "bestTest = 70232.24817\n",
      "bestIteration = 2\n",
      "\n",
      "73:\tloss: 70232.2481723\tbest: 68489.0021983 (67)\ttotal: 22.7s\tremaining: 7.97s\n",
      "0:\tlearn: 397534.5762896\ttest: 398055.3976952\tbest: 398055.3976952 (0)\ttotal: 86.8ms\tremaining: 174ms\n",
      "1:\tlearn: 360272.1707992\ttest: 360820.7772183\tbest: 360820.7772183 (1)\ttotal: 131ms\tremaining: 65.4ms\n",
      "2:\tlearn: 328987.1250696\ttest: 329696.7330640\tbest: 329696.7330640 (2)\ttotal: 1.06s\tremaining: 0us\n",
      "\n",
      "bestTest = 329696.7331\n",
      "bestIteration = 2\n",
      "\n",
      "74:\tloss: 329696.7330640\tbest: 68489.0021983 (67)\ttotal: 23.7s\tremaining: 7.92s\n",
      "0:\tlearn: 106095.1973140\ttest: 106268.1074557\tbest: 106268.1074557 (0)\ttotal: 221ms\tremaining: 442ms\n",
      "1:\tlearn: 80291.0916629\ttest: 80911.7186157\tbest: 80911.7186157 (1)\ttotal: 315ms\tremaining: 157ms\n",
      "2:\tlearn: 70013.6052776\ttest: 71639.8574722\tbest: 71639.8574722 (2)\ttotal: 1.16s\tremaining: 0us\n",
      "\n",
      "bestTest = 71639.85747\n",
      "bestIteration = 2\n",
      "\n",
      "75:\tloss: 71639.8574722\tbest: 68489.0021983 (67)\ttotal: 24.9s\tremaining: 7.87s\n",
      "0:\tlearn: 93755.7429534\ttest: 93442.6166117\tbest: 93442.6166117 (0)\ttotal: 143ms\tremaining: 287ms\n",
      "1:\tlearn: 76864.5130545\ttest: 78149.0158858\tbest: 78149.0158858 (1)\ttotal: 1.06s\tremaining: 533ms\n",
      "2:\tlearn: 69305.3803718\ttest: 71364.1752696\tbest: 71364.1752696 (2)\ttotal: 1.84s\tremaining: 0us\n",
      "\n",
      "bestTest = 71364.17527\n",
      "bestIteration = 2\n",
      "\n",
      "76:\tloss: 71364.1752696\tbest: 68489.0021983 (67)\ttotal: 26.8s\tremaining: 8s\n",
      "Estimating final quality...\n",
      "Training on fold [0/5]\n",
      "0:\tlearn: 107345.2068050\ttest: 107853.9858030\tbest: 107853.9858030 (0)\ttotal: 15.6ms\tremaining: 31.2ms\n",
      "1:\tlearn: 74733.6162082\ttest: 75837.0136152\tbest: 75837.0136152 (1)\ttotal: 1.08s\tremaining: 542ms\n",
      "2:\tlearn: 64718.8529571\ttest: 67344.0712578\tbest: 67344.0712578 (2)\ttotal: 2.15s\tremaining: 0us\n",
      "\n",
      "bestTest = 67344.07126\n",
      "bestIteration = 2\n",
      "\n",
      "Training on fold [1/5]\n",
      "0:\tlearn: 107529.6998841\ttest: 106594.0272173\tbest: 106594.0272173 (0)\ttotal: 6.38ms\tremaining: 12.8ms\n",
      "1:\tlearn: 74872.5699547\ttest: 76124.4241733\tbest: 76124.4241733 (1)\ttotal: 564ms\tremaining: 282ms\n",
      "2:\tlearn: 64985.7214925\ttest: 68731.6242149\tbest: 68731.6242149 (2)\ttotal: 1.05s\tremaining: 0us\n",
      "\n",
      "bestTest = 68731.62421\n",
      "bestIteration = 2\n",
      "\n",
      "Training on fold [2/5]\n",
      "0:\tlearn: 107386.2193508\ttest: 107483.9096192\tbest: 107483.9096192 (0)\ttotal: 20.1ms\tremaining: 40.3ms\n",
      "1:\tlearn: 75331.3236021\ttest: 76633.7439135\tbest: 76633.7439135 (1)\ttotal: 482ms\tremaining: 241ms\n",
      "2:\tlearn: 64753.7498928\ttest: 67901.5758049\tbest: 67901.5758049 (2)\ttotal: 953ms\tremaining: 0us\n",
      "\n",
      "bestTest = 67901.5758\n",
      "bestIteration = 2\n",
      "\n",
      "Training on fold [3/5]\n",
      "0:\tlearn: 107328.5998068\ttest: 107659.0439770\tbest: 107659.0439770 (0)\ttotal: 2.96ms\tremaining: 5.93ms\n",
      "1:\tlearn: 74899.2878628\ttest: 76747.6104440\tbest: 76747.6104440 (1)\ttotal: 2.96ms\tremaining: 5.93ms\n",
      "2:\tlearn: 64935.1467826\ttest: 69240.0826009\tbest: 69240.0826009 (2)\ttotal: 2.96ms\tremaining: 5.93ms\n",
      "\n",
      "bestTest = 69240.0826\n",
      "bestIteration = 2\n",
      "\n",
      "Training on fold [4/5]\n",
      "0:\tlearn: 107500.9528211\ttest: 107506.7608247\tbest: 107506.7608247 (0)\ttotal: 48.8ms\tremaining: 97.6ms\n",
      "1:\tlearn: 74790.8970240\ttest: 75308.8061166\tbest: 75308.8061166 (1)\ttotal: 966ms\tremaining: 483ms\n",
      "2:\tlearn: 65082.7901321\ttest: 67747.0199188\tbest: 67747.0199188 (2)\ttotal: 1.89s\tremaining: 0us\n",
      "\n",
      "bestTest = 67747.01992\n",
      "bestIteration = 2\n",
      "\n"
     ]
    },
    {
     "data": {
      "text/plain": "{'best_params_': {'depth': 15, 'l2_leaf_reg': 1, 'learning_rate': 0.9},\n 'cv_results_': defaultdict(list,\n             {'iterations': [0, 1, 2],\n              'test-RMSE-mean': [107419.54548823547,\n               76130.31965252917,\n               68192.87475945047],\n              'test-RMSE-std': [484.59456897050694,\n               590.6419358626142,\n               773.14362238218],\n              'train-RMSE-mean': [107418.13573355484,\n               74925.53893036346,\n               64895.252251424325],\n              'train-RMSE-std': [91.73221346115308,\n               236.1772665583975,\n               154.98898540448462]}),\n 'best_estimator_': None}"
     },
     "execution_count": 55,
     "metadata": {},
     "output_type": "execute_result"
    }
   ],
   "source": [
    "def fit_model_with_cross_validation(gs, X_train, y_train, fits):\n",
    "    pipe_start = time()\n",
    "    cv_result = gs.fit(X_train, y_train)\n",
    "    gs.fit(X_train, y_train)\n",
    "    pipe_end = time()\n",
    "    average_time = round((pipe_end - pipe_start) / (fits), 2)\n",
    "\n",
    "    print(f\"Total fit/CV time      : {int(pipe_end - pipe_start)} seconds   ({pipe_start} ==> {pipe_end})\")\n",
    "    print()\n",
    "    print(\n",
    "        f'average fit/score time = {round(cv_result.cv_results_[\"mean_fit_time\"].mean(), 2)}s/{round(cv_result.cv_results_[\"mean_score_time\"].mean(), 2)}s')\n",
    "    print(\n",
    "        f'max fit/score time     = {round(cv_result.cv_results_[\"mean_fit_time\"].max(), 2)}s/{round(cv_result.cv_results_[\"mean_score_time\"].max(), 2)}s')\n",
    "    print(f'refit time             = {round(cv_result.refit_time_, 2)}s')\n",
    "\n",
    "    #return cv_result, average_time, cv_result.refit_time_, len(cv_result.cv_results_[\"mean_fit_time\"])\n",
    "    return average_time, cv_result.refit_time_, len(cv_result.cv_results_[\"mean_fit_time\"])\n",
    "\n",
    "\n",
    "if not using_catboost:\n",
    "    if ALGORITHM_DETAIL == 'grid search':\n",
    "        crossval_runner = GridSearchCV(\n",
    "            estimator=starter_pipe,\n",
    "            param_grid=param_options,\n",
    "            cv=cv, n_jobs=n_jobs, # get the AVX/AVX2 info if use n_jobs > 2\n",
    "            verbose=verbose, scoring=CROSS_VALIDATION_SCORING,\n",
    "            refit=refit,\n",
    "            return_train_score=True, #n_iter=n_iter,\n",
    "            #error_score='raise'\n",
    "        )\n",
    "    else:\n",
    "        crossval_runner = RandomizedSearchCV(\n",
    "            estimator=starter_pipe,\n",
    "            param_distributions=param_options,\n",
    "            cv=cv, n_jobs=n_jobs,  # get the AVX/AVX2 info if use n_jobs > 2\n",
    "            verbose=verbose, scoring=CROSS_VALIDATION_SCORING,\n",
    "            refit=refit,\n",
    "            return_train_score=True,  #n_iter=n_iter,\n",
    "            n_iter=n_iter,  # 1, #3\n",
    "            #error_score='raise'\n",
    "    )\n",
    "    cv_average_fit_time, cv_best_model_fit_time, total_fits = fit_model_with_cross_validation(\n",
    "        crossval_runner, X_train, y_train, fits=cv * n_iter)\n",
    "\n",
    "else:\n",
    "    from catboost import CatBoostRegressor, Pool\n",
    "\n",
    "    #pool = Pool(df, cat_features=['tenure.tenureType'], label=df['Price'].values)\n",
    "    pool_Xtrain = Pool(X_train, cat_features=[7], label=y_train)\n",
    "    #pool_Xtest = Pool(X_train, cat_features=[7], label=y_train)\n",
    "    pool_Xtest = Pool(X_test, cat_features=[7], label=y_test)\n",
    "    import sys\n",
    "    starter_model = model=CatBoostRegressor(iterations=3, depth=3, learning_rate=0.1, loss_function='RMSE', objective='RMSE')\n",
    "\n",
    "    output = starter_model.randomized_search(options_block, # param_options,\n",
    "                                    X=pool_Xtrain, # X_train,\n",
    "                                    #y=y_train,\n",
    "                                    #cat_features=[],\n",
    "                                    cv=5,\n",
    "                                    n_iter=100,\n",
    "                                    partition_random_seed=101,\n",
    "                                    calc_cv_statistics=True,\n",
    "                                    #search_by_train_test_split=True,\n",
    "                                    refit=True,\n",
    "                                    shuffle=True,\n",
    "                                    stratified=None,\n",
    "                                    #train_size=0.8,\n",
    "                                    #train_size=1,\n",
    "                                    verbose=True,\n",
    "                                    plot=True,\n",
    "                                    log_cout=sys.stdout,\n",
    "                                    log_cerr=sys.stderr)\n",
    "\n",
    "    cat_params, cat_cv_results = output['params'], output['cv_results']\n",
    "    crossval_runner = {\"best_params_\": cat_params, \"cv_results_\": cat_cv_results, \"best_estimator_\": None}\n",
    "crossval_runner\n"
   ]
  },
  {
   "cell_type": "code",
   "execution_count": 55,
   "metadata": {
    "collapsed": false,
    "jupyter": {
     "outputs_hidden": false
    }
   },
   "outputs": [],
   "source": []
  },
  {
   "cell_type": "markdown",
   "metadata": {},
   "source": [
    "<code style=\"background:blue;color:blue\">**********************************************************************************************************</code>\n",
    "\n",
    "## Stage: Get the results and print some graphs\n",
    "\n"
   ]
  },
  {
   "cell_type": "code",
   "execution_count": 56,
   "metadata": {
    "execution": {
     "iopub.status.busy": "2022-12-02T18:54:14.356888Z",
     "iopub.status.idle": "2022-12-02T18:54:14.357575Z",
     "shell.execute_reply": "2022-12-02T18:54:14.357445Z",
     "shell.execute_reply.started": "2022-12-02T18:54:14.357424Z"
    }
   },
   "outputs": [
    {
     "name": "stdout",
     "output_type": "stream",
     "text": [
      "{'depth': 15, 'l2_leaf_reg': 1, 'learning_rate': 0.9}\n",
      "defaultdict(<class 'list'>, {'iterations': [0, 1, 2], 'test-RMSE-mean': [107419.54548823547, 76130.31965252917, 68192.87475945047], 'test-RMSE-std': [484.59456897050694, 590.6419358626142, 773.14362238218], 'train-RMSE-mean': [107418.13573355484, 74925.53893036346, 64895.252251424325], 'train-RMSE-std': [91.73221346115308, 236.1772665583975, 154.98898540448462]})\n"
     ]
    }
   ],
   "source": [
    "if not using_catboost:\n",
    "    best_estimator_pipe = crossval_runner.best_estimator_\n",
    "    cv_results_df = pd.DataFrame(crossval_runner.cv_results_).sort_values('rank_test_score')\n",
    "\n",
    "    print(\"Best Params\\n\",crossval_runner.best_params_, \"\\n---------------------\")\n",
    "\n",
    "    if debug_mode:\n",
    "        print(\"CV results\\n\",crossval_runner.cv_results_, \"\\n---------------------\")\n",
    "        #print(\"Best Params\\n\",crossval_runner[\"best_params_\"], \"\\n---------------------\")\n",
    "\n",
    "else:\n",
    "    print(cat_params)\n",
    "    print(cat_cv_results)"
   ]
  },
  {
   "cell_type": "code",
   "execution_count": 56,
   "metadata": {
    "execution": {
     "iopub.status.busy": "2022-12-02T18:54:14.359538Z",
     "iopub.status.idle": "2022-12-02T18:54:14.360146Z",
     "shell.execute_reply": "2022-12-02T18:54:14.360018Z",
     "shell.execute_reply.started": "2022-12-02T18:54:14.359998Z"
    }
   },
   "outputs": [],
   "source": []
  },
  {
   "cell_type": "code",
   "execution_count": 56,
   "metadata": {
    "execution": {
     "iopub.status.busy": "2022-12-02T18:54:14.360811Z",
     "iopub.status.idle": "2022-12-02T18:54:14.361488Z",
     "shell.execute_reply": "2022-12-02T18:54:14.361361Z",
     "shell.execute_reply.started": "2022-12-02T18:54:14.361345Z"
    }
   },
   "outputs": [],
   "source": []
  },
  {
   "cell_type": "code",
   "execution_count": 57,
   "metadata": {
    "execution": {
     "iopub.status.busy": "2022-12-02T18:54:14.364634Z",
     "iopub.status.idle": "2022-12-02T18:54:14.365214Z",
     "shell.execute_reply": "2022-12-02T18:54:14.365083Z",
     "shell.execute_reply.started": "2022-12-02T18:54:14.365065Z"
    }
   },
   "outputs": [],
   "source": [
    "key = f'{ALGORITHM} (v{VERSION})'.lower()\n",
    "\n",
    "if not using_catboost:\n",
    "    cv_results_df['params2'] = cv_results_df['params'].apply(lambda l: '/'.join([str(c) for c in l.values()]))\n",
    "\n",
    "    cv_columns = ['params2', 'rank_test_score', 'mean_test_score', 'mean_fit_time', 'mean_score_time', 'params']\n",
    "    # if 'Neural' not in ALGORITHM:\n",
    "    #     cv_columns.insert(2, 'mean_train_score')\n",
    "    cv_results_df_full_sorted = cv_results_df.sort_values('rank_test_score')[cv_columns].reset_index(drop=True)\n",
    "\n",
    "    cv_results_df_sorted = cv_results_df_full_sorted[cv_results_df_full_sorted['mean_test_score'] > -2]\n",
    "    if len(cv_results_df_sorted) != len(cv_results_df_full_sorted):\n",
    "        print(-len(cv_results_df_sorted) + len(cv_results_df_full_sorted), \"fits were total failures\")\n",
    "        total_fits = len(cv_results_df_sorted)\n",
    "\n",
    "if not using_catboost:\n",
    "    display(cv_results_df_sorted)\n",
    "\n",
    "    orig_debug_mode, orig_display_df_cols = debug_mode, pd.get_option('display.max_columns')\n",
    "    debug_mode = True\n",
    "    pd.set_option('display.max_columns', None)\n",
    "    if debug_mode:\n",
    "        debug_cols = ['rank_test_score', 'mean_test_score', 'mean_fit_time', 'mean_score_time']\n",
    "        debug_cols.extend([c for c in cv_results_df.columns if 'param' in c and c != 'params'])\n",
    "\n",
    "    cv_results_df_summary = cv_results_df[debug_cols].head(7)\n",
    "    cv_results_df_summary.set_index('rank_test_score', inplace=True)\n",
    "\n",
    "    display(cv_results_df_summary)"
   ]
  },
  {
   "cell_type": "code",
   "execution_count": 57,
   "metadata": {
    "execution": {
     "iopub.status.busy": "2022-12-02T18:54:14.368480Z",
     "iopub.status.idle": "2022-12-02T18:54:14.369053Z",
     "shell.execute_reply": "2022-12-02T18:54:14.368919Z",
     "shell.execute_reply.started": "2022-12-02T18:54:14.368903Z"
    }
   },
   "outputs": [],
   "source": []
  },
  {
   "cell_type": "markdown",
   "source": [
    "<code style=\"background:blue;color:blue\">**************</code>\n",
    "\n",
    "#### Mini Stage: Make predictions\n",
    "\n"
   ],
   "metadata": {
    "collapsed": false
   }
  },
  {
   "cell_type": "code",
   "execution_count": 58,
   "metadata": {
    "execution": {
     "iopub.status.busy": "2022-12-02T18:54:14.375227Z",
     "iopub.status.idle": "2022-12-02T18:54:14.375909Z",
     "shell.execute_reply": "2022-12-02T18:54:14.375776Z",
     "shell.execute_reply.started": "2022-12-02T18:54:14.375732Z"
    }
   },
   "outputs": [],
   "source": [
    "if not using_catboost:\n",
    "    y_pred = best_estimator_pipe.predict(X_test)\n",
    "else:\n",
    "    y_pred = starter_model.predict(pool_Xtest)"
   ]
  },
  {
   "cell_type": "code",
   "execution_count": 58,
   "metadata": {
    "collapsed": false,
    "jupyter": {
     "outputs_hidden": false
    }
   },
   "outputs": [],
   "source": []
  },
  {
   "cell_type": "code",
   "execution_count": 59,
   "metadata": {
    "execution": {
     "iopub.status.busy": "2022-12-02T18:54:14.377757Z",
     "iopub.status.idle": "2022-12-02T18:54:14.378402Z",
     "shell.execute_reply": "2022-12-02T18:54:14.378279Z",
     "shell.execute_reply.started": "2022-12-02T18:54:14.378264Z"
    }
   },
   "outputs": [
    {
     "name": "stdout",
     "output_type": "stream",
     "text": [
      "----------CatBoost----------\n",
      "R square Accuracy 0.6192273299794725\n",
      "Mean Absolute Error Accuracy 51000.04769423564\n",
      "Mean Squared Error Accuracy 4301362532.917062\n",
      "Root Mean Squared Error 65584.77363624168\n"
     ]
    }
   ],
   "source": [
    "y_pred = y_pred.reshape((-1, 1))\n",
    "\n",
    "R2 = r2_score(y_test, y_pred)\n",
    "MAE = mean_absolute_error(y_test, y_pred)\n",
    "MSE = mean_squared_error(y_test, y_pred)\n",
    "RMSE = math.sqrt(MSE)\n",
    "print('-' * 10 + ALGORITHM + '-' * 10)\n",
    "print('R square Accuracy', R2)\n",
    "print('Mean Absolute Error Accuracy', MAE)\n",
    "print('Mean Squared Error Accuracy', MSE)\n",
    "print('Root Mean Squared Error', RMSE)"
   ]
  },
  {
   "cell_type": "code",
   "execution_count": 59,
   "metadata": {
    "execution": {
     "iopub.status.busy": "2022-12-02T18:54:14.378988Z",
     "iopub.status.idle": "2022-12-02T18:54:14.379839Z",
     "shell.execute_reply": "2022-12-02T18:54:14.379679Z",
     "shell.execute_reply.started": "2022-12-02T18:54:14.379662Z"
    }
   },
   "outputs": [],
   "source": []
  },
  {
   "cell_type": "code",
   "execution_count": 60,
   "metadata": {
    "execution": {
     "iopub.status.busy": "2022-12-02T18:54:14.380443Z",
     "iopub.status.idle": "2022-12-02T18:54:14.381079Z",
     "shell.execute_reply": "2022-12-02T18:54:14.380955Z",
     "shell.execute_reply.started": "2022-12-02T18:54:14.380943Z"
    }
   },
   "outputs": [
    {
     "data": {
      "text/plain": "           actual  predicted     difference    diff 1 %   diff 2 %   Price  \\\n85667184   122000     379160  257160.387755  210.787203  67.823643  122000   \n109722224  108000     326749  218749.937649  202.546239  66.947201  108000   \n122265818  160000     472177  312177.895415  195.111185  66.114466  160000   \n83639617   190000     475005  285005.178571  150.002726  60.000436  190000   \n119684411  200000     415735  215735.378202  107.867689  51.892475  200000   \n...           ...        ...            ...         ...        ...     ...   \n121348217  525000     525073      73.475768    0.013995   0.013993  525000   \n121733852  580000     580060      60.965325    0.010511   0.010510  580000   \n123988382  390000     390025      25.872563    0.006634   0.006634  390000   \n121644893  489950     489948       1.618357    0.000330   0.000330  489950   \n119947880  435000     435000       0.635944    0.000146   0.000146  435000   \n\n           bedrooms  bathrooms  nearestStation  location.latitude  \\\n85667184          1          1        0.838896          51.540462   \n109722224         1          1        0.302667          51.406803   \n122265818         3          1        0.166024          51.510420   \n83639617          2          2        0.162816          51.491264   \n119684411         2          1        0.511626          51.518081   \n...             ...        ...             ...                ...   \n121348217         2          1        0.312668          51.583682   \n121733852         3          2        0.804236          51.602510   \n123988382         2          1        0.322049          51.589577   \n121644893         2          1        0.163141          51.573549   \n119947880         2          1        0.424533          51.573854   \n\n           location.longitude  latitude_deviation  longitude_deviation  \\\n85667184            -0.280301            0.040742             0.175881   \n109722224           -0.261328            0.092917             0.156908   \n122265818           -0.037730            0.010700             0.066690   \n83639617             0.064660            0.008456             0.169080   \n119684411           -0.029340            0.018361             0.075080   \n...                       ...                 ...                  ...   \n121348217           -0.160240            0.083962             0.055820   \n121733852           -0.328060            0.102790             0.223640   \n123988382           -0.362715            0.089857             0.258295   \n121644893           -0.408683            0.073829             0.304263   \n119947880            0.011616            0.074134             0.116036   \n\n           tenure.tenureType  \n85667184           LEASEHOLD  \n109722224          LEASEHOLD  \n122265818           FREEHOLD  \n83639617           LEASEHOLD  \n119684411          LEASEHOLD  \n...                      ...  \n121348217  SHARE_OF_FREEHOLD  \n121733852           FREEHOLD  \n123988382  SHARE_OF_FREEHOLD  \n121644893           FREEHOLD  \n119947880  SHARE_OF_FREEHOLD  \n\n[4413 rows x 14 columns]",
      "text/html": "<div>\n<style scoped>\n    .dataframe tbody tr th:only-of-type {\n        vertical-align: middle;\n    }\n\n    .dataframe tbody tr th {\n        vertical-align: top;\n    }\n\n    .dataframe thead th {\n        text-align: right;\n    }\n</style>\n<table border=\"1\" class=\"dataframe\">\n  <thead>\n    <tr style=\"text-align: right;\">\n      <th></th>\n      <th>actual</th>\n      <th>predicted</th>\n      <th>difference</th>\n      <th>diff 1 %</th>\n      <th>diff 2 %</th>\n      <th>Price</th>\n      <th>bedrooms</th>\n      <th>bathrooms</th>\n      <th>nearestStation</th>\n      <th>location.latitude</th>\n      <th>location.longitude</th>\n      <th>latitude_deviation</th>\n      <th>longitude_deviation</th>\n      <th>tenure.tenureType</th>\n    </tr>\n  </thead>\n  <tbody>\n    <tr>\n      <th>85667184</th>\n      <td>122000</td>\n      <td>379160</td>\n      <td>257160.387755</td>\n      <td>210.787203</td>\n      <td>67.823643</td>\n      <td>122000</td>\n      <td>1</td>\n      <td>1</td>\n      <td>0.838896</td>\n      <td>51.540462</td>\n      <td>-0.280301</td>\n      <td>0.040742</td>\n      <td>0.175881</td>\n      <td>LEASEHOLD</td>\n    </tr>\n    <tr>\n      <th>109722224</th>\n      <td>108000</td>\n      <td>326749</td>\n      <td>218749.937649</td>\n      <td>202.546239</td>\n      <td>66.947201</td>\n      <td>108000</td>\n      <td>1</td>\n      <td>1</td>\n      <td>0.302667</td>\n      <td>51.406803</td>\n      <td>-0.261328</td>\n      <td>0.092917</td>\n      <td>0.156908</td>\n      <td>LEASEHOLD</td>\n    </tr>\n    <tr>\n      <th>122265818</th>\n      <td>160000</td>\n      <td>472177</td>\n      <td>312177.895415</td>\n      <td>195.111185</td>\n      <td>66.114466</td>\n      <td>160000</td>\n      <td>3</td>\n      <td>1</td>\n      <td>0.166024</td>\n      <td>51.510420</td>\n      <td>-0.037730</td>\n      <td>0.010700</td>\n      <td>0.066690</td>\n      <td>FREEHOLD</td>\n    </tr>\n    <tr>\n      <th>83639617</th>\n      <td>190000</td>\n      <td>475005</td>\n      <td>285005.178571</td>\n      <td>150.002726</td>\n      <td>60.000436</td>\n      <td>190000</td>\n      <td>2</td>\n      <td>2</td>\n      <td>0.162816</td>\n      <td>51.491264</td>\n      <td>0.064660</td>\n      <td>0.008456</td>\n      <td>0.169080</td>\n      <td>LEASEHOLD</td>\n    </tr>\n    <tr>\n      <th>119684411</th>\n      <td>200000</td>\n      <td>415735</td>\n      <td>215735.378202</td>\n      <td>107.867689</td>\n      <td>51.892475</td>\n      <td>200000</td>\n      <td>2</td>\n      <td>1</td>\n      <td>0.511626</td>\n      <td>51.518081</td>\n      <td>-0.029340</td>\n      <td>0.018361</td>\n      <td>0.075080</td>\n      <td>LEASEHOLD</td>\n    </tr>\n    <tr>\n      <th>...</th>\n      <td>...</td>\n      <td>...</td>\n      <td>...</td>\n      <td>...</td>\n      <td>...</td>\n      <td>...</td>\n      <td>...</td>\n      <td>...</td>\n      <td>...</td>\n      <td>...</td>\n      <td>...</td>\n      <td>...</td>\n      <td>...</td>\n      <td>...</td>\n    </tr>\n    <tr>\n      <th>121348217</th>\n      <td>525000</td>\n      <td>525073</td>\n      <td>73.475768</td>\n      <td>0.013995</td>\n      <td>0.013993</td>\n      <td>525000</td>\n      <td>2</td>\n      <td>1</td>\n      <td>0.312668</td>\n      <td>51.583682</td>\n      <td>-0.160240</td>\n      <td>0.083962</td>\n      <td>0.055820</td>\n      <td>SHARE_OF_FREEHOLD</td>\n    </tr>\n    <tr>\n      <th>121733852</th>\n      <td>580000</td>\n      <td>580060</td>\n      <td>60.965325</td>\n      <td>0.010511</td>\n      <td>0.010510</td>\n      <td>580000</td>\n      <td>3</td>\n      <td>2</td>\n      <td>0.804236</td>\n      <td>51.602510</td>\n      <td>-0.328060</td>\n      <td>0.102790</td>\n      <td>0.223640</td>\n      <td>FREEHOLD</td>\n    </tr>\n    <tr>\n      <th>123988382</th>\n      <td>390000</td>\n      <td>390025</td>\n      <td>25.872563</td>\n      <td>0.006634</td>\n      <td>0.006634</td>\n      <td>390000</td>\n      <td>2</td>\n      <td>1</td>\n      <td>0.322049</td>\n      <td>51.589577</td>\n      <td>-0.362715</td>\n      <td>0.089857</td>\n      <td>0.258295</td>\n      <td>SHARE_OF_FREEHOLD</td>\n    </tr>\n    <tr>\n      <th>121644893</th>\n      <td>489950</td>\n      <td>489948</td>\n      <td>1.618357</td>\n      <td>0.000330</td>\n      <td>0.000330</td>\n      <td>489950</td>\n      <td>2</td>\n      <td>1</td>\n      <td>0.163141</td>\n      <td>51.573549</td>\n      <td>-0.408683</td>\n      <td>0.073829</td>\n      <td>0.304263</td>\n      <td>FREEHOLD</td>\n    </tr>\n    <tr>\n      <th>119947880</th>\n      <td>435000</td>\n      <td>435000</td>\n      <td>0.635944</td>\n      <td>0.000146</td>\n      <td>0.000146</td>\n      <td>435000</td>\n      <td>2</td>\n      <td>1</td>\n      <td>0.424533</td>\n      <td>51.573854</td>\n      <td>0.011616</td>\n      <td>0.074134</td>\n      <td>0.116036</td>\n      <td>SHARE_OF_FREEHOLD</td>\n    </tr>\n  </tbody>\n</table>\n<p>4413 rows × 14 columns</p>\n</div>"
     },
     "execution_count": 60,
     "metadata": {},
     "output_type": "execute_result"
    }
   ],
   "source": [
    "compare = np.hstack((y_test_index, y_test, y_pred))\n",
    "compare_df = DataFrame(compare, columns=['reference', 'actual', 'predicted'])\n",
    "compare_df['difference'] = abs(compare_df['actual'] - compare_df['predicted'])\n",
    "compare_df['diff 1 %'] = abs((compare_df['actual'] - compare_df['predicted']) / compare_df['actual'] * 100)\n",
    "compare_df['diff 2 %'] = abs((compare_df['actual'] - compare_df['predicted']) / compare_df['predicted']) * 100\n",
    "compare_df['reference'] = compare_df['reference'].astype(int)\n",
    "compare_df.set_index('reference', inplace=True)\n",
    "\n",
    "combined = compare_df.merge(df[columns], how='inner', left_index=True, right_index=True).sort_values(['diff 1 %'],\n",
    "                                                                                                     ascending=False)\n",
    "#pd.options.display.float_format = '{:.4f}'.format\n",
    "combined[['predicted', 'actual', 'Price', 'bedrooms', 'bathrooms']] = combined[\n",
    "    ['predicted', 'actual', 'Price', 'bedrooms', 'bathrooms']].astype(int)\n",
    "combined['bedrooms'] = combined['bedrooms'].astype(int)\n",
    "combined"
   ]
  },
  {
   "cell_type": "code",
   "execution_count": 60,
   "metadata": {
    "execution": {
     "iopub.status.busy": "2022-12-02T18:54:14.381726Z",
     "iopub.status.idle": "2022-12-02T18:54:14.382632Z",
     "shell.execute_reply": "2022-12-02T18:54:14.382499Z",
     "shell.execute_reply.started": "2022-12-02T18:54:14.382477Z"
    }
   },
   "outputs": [],
   "source": []
  },
  {
   "cell_type": "code",
   "execution_count": 61,
   "metadata": {
    "execution": {
     "iopub.status.busy": "2022-12-02T18:54:14.383238Z",
     "iopub.status.idle": "2022-12-02T18:54:14.383896Z",
     "shell.execute_reply": "2022-12-02T18:54:14.383771Z",
     "shell.execute_reply.started": "2022-12-02T18:54:14.383759Z"
    }
   },
   "outputs": [
    {
     "data": {
      "text/plain": "<Figure size 640x480 with 1 Axes>",
      "image/png": "[encoded data removed]"
     },
     "metadata": {},
     "output_type": "display_data"
    }
   ],
   "source": [
    "best_model_fig, best_model_ax = plt.subplots()\n",
    "best_model_ax.scatter(y_test, y_pred, edgecolors=(0, 0, 1))\n",
    "best_model_ax.plot([y_test.min(), y_test.max()], [y_test.min(), y_test.max()], 'r--', lw=3)\n",
    "best_model_ax.set_ylabel('Predicted')\n",
    "best_model_ax.set_xlabel('Actual')\n",
    "#ax.title.set_text(f'CV Chosen best option ({calculated_best_pipe[1]})')\n",
    "\n",
    "plt.show()"
   ]
  },
  {
   "cell_type": "code",
   "execution_count": 62,
   "metadata": {
    "execution": {
     "iopub.status.busy": "2022-12-02T18:54:14.384534Z",
     "iopub.status.idle": "2022-12-02T18:54:14.385183Z",
     "shell.execute_reply": "2022-12-02T18:54:14.385051Z",
     "shell.execute_reply.started": "2022-12-02T18:54:14.385036Z"
    }
   },
   "outputs": [],
   "source": [
    "if not using_catboost:\n",
    "    def custom_model_and_predictions(model, graph_params, X_train, y_train, X_test):\n",
    "        graph_model = model\n",
    "        graph_model.set_params(**graph_params)\n",
    "        graph_model.fit(X_train, y_train)\n",
    "        y_pred_graph = model.predict(X_test)\n",
    "\n",
    "        return model, y_pred_graph\n",
    "\n",
    "\n",
    "    best_model_count = 10 if not quick_mode else 2\n",
    "    best_model_count = 3 if not quick_mode else 1\n",
    "    best_models = {}\n",
    "    best_model_predictions = {}\n",
    "    best_model_scores = {}\n",
    "\n",
    "    showable_increment = total_fits // (4 if not quick_mode else 2)\n",
    "    if showable_increment==0:showable_increment=1\n",
    "    for i in range(0, total_fits, showable_increment):\n",
    "        if debug_mode: print(f'{i} ==> {i}')\n",
    "\n",
    "        if i == 0:\n",
    "            fitted_graph_model = crossval_runner.best_estimator_\n",
    "            y_pred_graph = y_pred\n",
    "        else:\n",
    "            graph_pipe_params = cv_results_df_sorted['params'][i]\n",
    "            print(graph_pipe_params)\n",
    "            # would always return the best! graph_pipe_params = cv_results_df_sorted.loc[cv_results_df_sorted['rank_test_score'] == 1, 'params'].values[0]\n",
    "\n",
    "            graph_params = {}\n",
    "            for key2, value in graph_pipe_params.items():\n",
    "                graph_params[key2.replace('model__', '')] = value\n",
    "\n",
    "            fitted_graph_model, y_pred_graph = custom_model_and_predictions(make_pipeline(), graph_pipe_params, X_train,\n",
    "                                                                            y_train, X_test)\n",
    "\n",
    "        best_models[i] = fitted_graph_model[-1].get_params()\n",
    "        best_model_predictions[i] = y_pred_graph\n",
    "        best_model_scores[i] = fitted_graph_model.score(X_test, y_test)\n",
    "\n",
    "    if debug_mode: print(f'{-1} ==> {-1}')\n",
    "    graph_pipe_params = cv_results_df_sorted['params'][total_fits - 1]\n",
    "    print(graph_pipe_params)\n",
    "    graph_params = {}\n",
    "    for key2, value in graph_pipe_params.items():\n",
    "        graph_params[key2.replace('model__', '')] = value\n",
    "    fitted_graph_model, y_pred_graph = custom_model_and_predictions(make_pipeline(), graph_pipe_params, X_train,\n",
    "                                                                    y_train, X_test)\n",
    "    best_models[-1] = fitted_graph_model[-1].get_params()\n",
    "    best_model_predictions[-1] = y_pred_graph\n",
    "    best_model_scores[-1] = fitted_graph_model.score(X_test, y_test)\n"
   ]
  },
  {
   "cell_type": "code",
   "execution_count": 63,
   "metadata": {
    "execution": {
     "iopub.status.busy": "2022-12-02T18:54:14.390857Z",
     "iopub.status.idle": "2022-12-02T18:54:14.391498Z",
     "shell.execute_reply": "2022-12-02T18:54:14.391371Z",
     "shell.execute_reply.started": "2022-12-02T18:54:14.391355Z"
    }
   },
   "outputs": [],
   "source": [
    "if not using_catboost:\n",
    "    for i in best_model_scores.keys():\n",
    "        if i >= 0:\n",
    "            plt.plot([y_test.min(), y_test.max()], [y_test.min(), y_test.max()], 'r--', lw=3)\n",
    "            plt.scatter(y_test, best_model_predictions[i])\n",
    "            # plt.title(str(i) + \" \" + str(round(best_model_scores[i], 4)) + \" for \" + str(best_models[i]))\n",
    "            if len(best_models[i].keys()) < 30:\n",
    "                plt.title(str(i) + \" \" + str(round(best_model_scores[i], 4)) + \" for \" + str(best_models[i]))\n",
    "            else:\n",
    "                plt.title(str(i) + \" \" + str(round(best_model_scores[i], 4)) + \" for entry \" + str(i))\n",
    "            plt.show()\n",
    "\n",
    "    plt.plot([y_test.min(), y_test.max()], [y_test.min(), y_test.max()], 'r--', lw=3)\n",
    "    plt.scatter(y_test, best_model_predictions[-1])\n",
    "    # plt.title(str(i) + \" \" + str(round(best_model_scores[i], 4)) + \" for \" + str(best_models[i]))\n",
    "    if len(best_models[i].keys()) < 30:\n",
    "        plt.title(str(i) + \" \" + str(round(best_model_scores[-1], 4)) + \" for \" + str(best_models[-1]))\n",
    "    else:\n",
    "        plt.title(str(i) + \" \" + str(round(best_model_scores[-1], 4)) + \" for (worst) entry \" + str(i))\n",
    "\n",
    "    plt.show()"
   ]
  },
  {
   "cell_type": "code",
   "execution_count": 64,
   "metadata": {
    "execution": {
     "iopub.status.busy": "2022-12-02T18:54:14.392126Z",
     "iopub.status.idle": "2022-12-02T18:54:14.392836Z",
     "shell.execute_reply": "2022-12-02T18:54:14.392706Z",
     "shell.execute_reply.started": "2022-12-02T18:54:14.392694Z"
    }
   },
   "outputs": [],
   "source": [
    "if not using_catboost:\n",
    "    sns.set_theme(font_scale=2, rc=None)\n",
    "    sns.set_theme(font_scale=1, rc=None)\n",
    "\n",
    "    worst_and_best_model_fig, axes = plt.subplots(ncols=3, figsize=(15, 5))\n",
    "\n",
    "    plt.subplots_adjust(hspace=0.2)\n",
    "    plt.subplots_adjust(wspace=0.2)\n",
    "\n",
    "    #.flatten()\n",
    "    coordinates = axes[0]\n",
    "    sns.lineplot(x=[y_test.min(), y_test.max()], y=[y_test.min(), y_test.max()], ax=axes[0], color='red')\n",
    "    sns.scatterplot(x=y_test.flatten(), y=best_model_predictions[0].flatten(), ax=axes[0],\n",
    "                    s=100).set(title=f'\"BEST\" model')\n",
    "\n",
    "    sns.lineplot(x=[y_test.min(), y_test.max()], y=[y_test.min(), y_test.max()], ax=axes[1], color='red')\n",
    "    sns.scatterplot(x=y_test.flatten(), y=best_model_predictions[-1].flatten(), ax=axes[1],\n",
    "                    s=100).set(title=f'\"WORST\" model')\n",
    "\n",
    "    sns.lineplot(x=[y_test.min(), y_test.max()], y=[y_test.min(), y_test.max()], ax=axes[2], color='red')\n",
    "    sns.scatterplot(x=y_test.flatten(), y=best_model_predictions[-1].flatten(), ax=axes[2],\n",
    "                    s=120, color='orange')\n",
    "    sns.scatterplot(x=y_test.flatten(), y=best_model_predictions[0].flatten(), ax=axes[2],\n",
    "                    s=30, alpha=0.6, color='black').set(\n",
    "        title='best (black) vs worst (orange)')\n",
    "    #title='best (orange) vs worst (black)')\n",
    "\n",
    "\n",
    "    best_model_fig.tight_layout()\n",
    "    plt.show()"
   ]
  },
  {
   "cell_type": "code",
   "execution_count": 64,
   "metadata": {
    "execution": {
     "iopub.status.busy": "2022-12-02T18:54:14.393440Z",
     "iopub.status.idle": "2022-12-02T18:54:14.394104Z",
     "shell.execute_reply": "2022-12-02T18:54:14.393981Z",
     "shell.execute_reply.started": "2022-12-02T18:54:14.393965Z"
    }
   },
   "outputs": [],
   "source": []
  },
  {
   "cell_type": "markdown",
   "metadata": {},
   "source": [
    "<code style=\"background:blue;color:blue\">**********************************************************************************************************</code>\n",
    "\n",
    "## Stage: Evaluate the model\n",
    "\n"
   ]
  },
  {
   "cell_type": "code",
   "execution_count": 65,
   "metadata": {
    "execution": {
     "iopub.status.busy": "2022-12-02T18:54:14.394713Z",
     "iopub.status.idle": "2022-12-02T18:54:14.395347Z",
     "shell.execute_reply": "2022-12-02T18:54:14.395222Z",
     "shell.execute_reply.started": "2022-12-02T18:54:14.395203Z"
    }
   },
   "outputs": [
    {
     "name": "stdout",
     "output_type": "stream",
     "text": [
      "catboost (v06)\n"
     ]
    },
    {
     "data": {
      "text/plain": "{'_score': 0.6192273299794725,\n 'R square Accuracy': 0.6192273299794725,\n 'Mean Absolute Error Accuracy': 51000.04769423564,\n 'Mean Squared Error Accuracy': 4301362532.917062,\n 'Root Mean Squared Error': 65584.77363624168,\n '_train time': 999,\n 'random_state': 101,\n 'date': '2022-12-03 16:27:55.193043',\n '_params': {'depth': 15, 'l2_leaf_reg': 1, 'learning_rate': 0.9},\n '_method': 'random search(no dummies)',\n 'run_env': 'local',\n 'first run': '2022-11-13 00:13:48.870697',\n 'best is shared': False,\n 'silver score': 0.6192273299794725,\n 'silver time': 999,\n 'silver params': {'depth': 15, 'l2_leaf_reg': 1, 'learning_rate': 0.9},\n 'silver method': 'random search(no dummies)',\n 'silver run date': '2022-12-03 16:27:55.193043',\n 'best score': 0.7156055075436387,\n 'best time': 12.256545225779215,\n 'best params': {'model__depth': 8,\n  'model__l2_leaf_reg': 1,\n  'model__learning_rate': 0.1},\n 'best method': 'random search',\n 'best run date': '1999-11-13 15:26:55.706567',\n 'suboptimal': 'suboptimal'}"
     },
     "execution_count": 65,
     "metadata": {},
     "output_type": "execute_result"
    }
   ],
   "source": [
    "# <catboost.core.CatBoostRegressor object at 0x7fb167387490>\n",
    "# {'depth': 6}\n",
    "# defaultdict(<class 'list'>, {'iterations': [0, 1, 2],\n",
    "# 'test-RMSE-mean': [396884.9605444017, 359548.6632536235, 326027.84885587444],\n",
    "# 'test-RMSE-std': [308.9495320039113, 260.0967808594464, 219.65856329246023],\n",
    "# 'train-RMSE-mean': [396884.77936957515, 359542.3612912551, 326018.9404460669],\n",
    "# 'train-RMSE-std': [91.44140078375503, 86.77961380623475, 69.4038638987425]})\n",
    "\n",
    "cv_best_model_fit_time = cv_best_model_fit_time if not using_catboost else 999\n",
    "\n",
    "DD2 = \"(\" + \",\".join(DATA_DETAIL) + \")\" if len(DATA_DETAIL) >= 1 else \"\"\n",
    "\n",
    "method =  f\"{ALGORITHM_DETAIL}{DD2}\"\n",
    "\n",
    "new_results = {\n",
    "    '_score': R2,\n",
    "    'R square Accuracy': R2,\n",
    "    'Mean Absolute Error Accuracy': MAE,\n",
    "    'Mean Squared Error Accuracy': MSE,\n",
    "    'Root Mean Squared Error': RMSE,\n",
    "    '_train time': cv_best_model_fit_time,\n",
    "    'random_state': RANDOM_STATE,\n",
    "    'date': str(datetime.now()),\n",
    "    '_params': crossval_runner.best_params_ if not using_catboost else cat_params,\n",
    "    '_method':method,\n",
    "    'run_env': run_env\n",
    "}\n",
    "\n",
    "if run_env not in ['colab']:\n",
    "    old_results_json = get_results()\n",
    "    try:\n",
    "        old_best_score = old_results_json[key]['best score']\n",
    "    except:\n",
    "        print(f\"haven't scored this model yet: {ALGORITHM}\")\n",
    "        old_best_score = -999\n",
    "    this_model_is_best = update_results(old_results_json, new_results, key)\n",
    "\n",
    "print(key)\n",
    "new_results"
   ]
  },
  {
   "cell_type": "code",
   "execution_count": 66,
   "metadata": {
    "execution": {
     "iopub.status.busy": "2022-12-02T18:54:14.395959Z",
     "iopub.status.idle": "2022-12-02T18:54:14.396670Z",
     "shell.execute_reply": "2022-12-02T18:54:14.396528Z",
     "shell.execute_reply.started": "2022-12-02T18:54:14.396512Z"
    }
   },
   "outputs": [
    {
     "data": {
      "text/plain": "''"
     },
     "execution_count": 66,
     "metadata": {},
     "output_type": "execute_result"
    }
   ],
   "source": [
    "crossval_runner.best_estimator_  if not using_catboost else ''"
   ]
  },
  {
   "cell_type": "code",
   "execution_count": 67,
   "metadata": {
    "execution": {
     "iopub.status.busy": "2022-12-02T18:54:14.397360Z",
     "iopub.status.idle": "2022-12-02T18:54:14.398030Z",
     "shell.execute_reply": "2022-12-02T18:54:14.397904Z",
     "shell.execute_reply.started": "2022-12-02T18:54:14.397885Z"
    }
   },
   "outputs": [
    {
     "name": "stdout",
     "output_type": "stream",
     "text": [
      "not updated saved model, the previous run was better\n",
      "0.6192273299794725 is worse than or equal to '0.7156055075436387\n"
     ]
    }
   ],
   "source": [
    "if this_model_is_best:\n",
    "    with open(f'../../../models/optimised_model_{ALGORITHM}_v{VERSION}{DD2}.pkl', 'wb') as f:\n",
    "        if not using_catboost:\n",
    "            pickle.dump(crossval_runner.best_estimator_, f)\n",
    "        else:\n",
    "            pickle.dump(starter_model, f)\n",
    "        new_model_decision = f\"pickled new version of model\\n{old_results_json[key]['_score']} is new best score (it's better than {old_best_score})\"\n",
    "        #print(results_json[key]['_score'], 'is an improvement on', results_json[key]['second best score'])\n",
    "else:\n",
    "    new_model_decision = f\"not updated saved model, the previous run was better\\n{old_results_json[key]['_score']} is worse than or equal to '{old_best_score}\"\n",
    "\n",
    "print(new_model_decision)"
   ]
  },
  {
   "cell_type": "markdown",
   "metadata": {},
   "source": [
    "<code style=\"background:blue;color:blue\">**********************************************************************************************************</code>\n",
    "\n",
    "## Stage: Investigate the feature importances (if applicable)\n"
   ]
  },
  {
   "cell_type": "code",
   "execution_count": 68,
   "metadata": {
    "execution": {
     "iopub.status.busy": "2022-12-02T18:54:14.399969Z",
     "iopub.status.idle": "2022-12-02T18:54:14.400591Z",
     "shell.execute_reply": "2022-12-02T18:54:14.400467Z",
     "shell.execute_reply.started": "2022-12-02T18:54:14.400449Z"
    }
   },
   "outputs": [
    {
     "name": "stdout",
     "output_type": "stream",
     "text": [
      "Feature Ranking:\n",
      "1. features 0 (37.650444)\t\tbedrooms\n",
      "2. features 5 (14.520238)\t\tlatitude_deviation\n",
      "3. features 4 (12.380118)\t\tlocation.longitude\n",
      "4. features 6 (10.162627)\t\tlongitude_deviation\n",
      "5. features 3 (9.091404)\t\tlocation.latitude\n",
      "6. features 1 (6.642136)\t\tbathrooms\n",
      "7. features 2 (5.004325)\t\tnearestStation\n",
      "8. features 7 (4.548707)\t\ttenure.tenureType\n",
      "\n"
     ]
    }
   ],
   "source": [
    "if model_uses_feature_importances:\n",
    "    feature_importances = crossval_runner.best_estimator_[-1].feature_importances_ if not using_catboost else starter_model.get_feature_importance()\n",
    "    #std = np.std([tree.feature_importances_ for tree in model.estimators_], axis = 0)\n",
    "\n",
    "    indices = np.argsort(feature_importances)[::-1]\n",
    "\n",
    "    print('Feature Ranking:')\n",
    "\n",
    "    feature_importances_output = \"\"\n",
    "    for f in range(X_train.shape[1]):\n",
    "        #print('%d. features %d (%f)' % (f + 1, indices[f], feature_importances[indices[f]]), df_features.columns[indices[f] + 1])\n",
    "        feature_importances_output += ('%d. features %d (%f)' % (f + 1, indices[f], feature_importances[indices[f]]))\n",
    "        feature_importances_output += '\\t\\t'\n",
    "        feature_importances_output += (df_features.columns[indices[f] + 1])\n",
    "        feature_importances_output += '\\n'\n",
    "    print(feature_importances_output)\n",
    "else:\n",
    "    print(f'{ALGORITHM} does not have feature_importances, skipping')"
   ]
  },
  {
   "cell_type": "code",
   "execution_count": 69,
   "metadata": {
    "execution": {
     "iopub.status.busy": "2022-12-02T18:54:14.401191Z",
     "iopub.status.idle": "2022-12-02T18:54:14.401808Z",
     "shell.execute_reply": "2022-12-02T18:54:14.401684Z",
     "shell.execute_reply.started": "2022-12-02T18:54:14.401670Z"
    }
   },
   "outputs": [
    {
     "data": {
      "text/plain": "<Figure size 2000x2000 with 1 Axes>",
      "image/png": "[encoded data removed]"
     },
     "metadata": {},
     "output_type": "display_data"
    }
   ],
   "source": [
    "if model_uses_feature_importances:\n",
    "    indices = np.argsort(feature_importances)\n",
    "\n",
    "    feature_importance_fig, best_model_ax = plt.subplots(figsize=(20, 20))\n",
    "    best_model_ax.barh(range(len(feature_importances)), feature_importances[indices])\n",
    "    best_model_ax.set_yticks(range(len(feature_importances)))\n",
    "    _ = best_model_ax.set_yticklabels(df_features.columns[[c + 1 for c in indices]])\n",
    "else:\n",
    "    print(f'{ALGORITHM} does not have feature_importances, skipping')"
   ]
  },
  {
   "cell_type": "markdown",
   "source": [
    "<code style=\"background:blue;color:blue\">**********************************************************************************************************</code>\n",
    "\n",
    "## Stage: Write the final report for this algorithm and dataset version"
   ],
   "metadata": {
    "collapsed": false
   }
  },
  {
   "cell_type": "code",
   "execution_count": 75,
   "outputs": [
    {
     "name": "stdout",
     "output_type": "stream",
     "text": [
      "model_uses_feature_importances\n"
     ]
    }
   ],
   "source": [
    "from bs4 import BeautifulSoup\n",
    "\n",
    "\n",
    "def include_in_html_report(type, section_header=None, section_figure=None, section_content=None, section_content_list=None):\n",
    "\n",
    "    # writePath_html = r'model_results/%s (html).html' % key\n",
    "    # writePath_md = r'model_results/%s (md).md' % key\n",
    "    results_root = '../../F_evaluate_model'\n",
    "    writePath_html = f'{results_root}/{key} (html).html'\n",
    "    writePath_md = f'{results_root}/{key} (md).md'\n",
    "\n",
    "#isinstance(ini_list2, list)\n",
    "    if not section_content_list:\n",
    "        section_content_list = [section_content]\n",
    "\n",
    "    if type == 'header':\n",
    "        w = 'w' if section_figure <= 1 else 'a'\n",
    "        with open(writePath_html, w) as f1:\n",
    "            headers = f'<h{section_figure}>{section_content}</h{section_figure}>'\n",
    "            f1.write(headers)\n",
    "        with open(writePath_md, w) as f2:\n",
    "            headers = f'{\"#\" * int(section_figure)} {section_content }\\n'\n",
    "            f2.write(headers)\n",
    "    else:\n",
    "        if section_header:\n",
    "            with open(writePath_html, 'a') as f1:\n",
    "                f1.write(f'<h3>{section_header}</h3>')\n",
    "            with open(writePath_md, 'a') as f2:\n",
    "                f2.write(f'### {section_header}\\n')\n",
    "\n",
    "        if type=='dataframe':\n",
    "            with open(writePath_html, 'a') as f1:\n",
    "                dfAsString = section_content.to_html()\n",
    "                f1.write(dfAsString)\n",
    "            with open(writePath_md, 'a') as f2:\n",
    "                dfAsString = section_content.to_markdown()\n",
    "                f2.write(dfAsString + '\\n')\n",
    "        elif type=='graph':\n",
    "            filename = key + \"_\" + section_content\n",
    "            #section_figure.savefig(f'model_results/artifacts/{filename.replace(\" \", \"_\")}')\n",
    "            section_figure.savefig(f'{results_root}/artifacts/{filename.replace(\" \", \"_\")}')\n",
    "\n",
    "            with open(writePath_html, 'a') as f1:\n",
    "                dfAsString = f'<img src=\"artifacts/{filename.replace(\" \",\"_\")}\"/>'\n",
    "                f1.write(dfAsString)\n",
    "\n",
    "            with open(writePath_md, 'a') as f2:\n",
    "                #dfAsString = f'(./model_results/artifacts/{filename}) \\n'\n",
    "                #dfAsString = f'![detail](./artifacts/{filename.replace(\" \",\"_\")})'\n",
    "                dfAsString = f'![detail](artifacts/{filename.replace(\" \",\"_\")})'\n",
    "                f2.write(dfAsString)\n",
    "                f2.write('\\n')\n",
    "        elif type=='json':\n",
    "\n",
    "            # html_content_parsed = [[cell.text for cell in row(\"td\")]\n",
    "            #              for row in BeautifulSoup(content,features=\"html.parser\")(\"tr\")]\n",
    "            #\n",
    "            # html_content_dictionary = {element[0]:element[1:] for element in html_content_parsed}\n",
    "\n",
    "            #xxxprint(json.dumps(html_content_dictionary, indent=4))\n",
    "\n",
    "\n",
    "\n",
    "            with open(writePath_html, 'a') as f1:\n",
    "                #f.write(json.dumps(html_content_dictionary, indent=4))\n",
    "                soup = BeautifulSoup(section_content, \"html.parser\")\n",
    "                f1.write(str(soup.prettify()))\n",
    "            with open(writePath_md, 'a') as f2:\n",
    "                #f.write(json.dumps(html_content_dictionary, indent=4))\n",
    "                soup = BeautifulSoup(section_content, \"html.parser\")\n",
    "                #f2.write(str(soup.prettify()))\n",
    "\n",
    "\n",
    "                # html_content_dictionary = {element[0]:element[1:] for element in html_content_parsed}\n",
    "                # f2.write(json.dumps(html_content_dictionary, indent=4))\n",
    "\n",
    "                import ast\n",
    "                loads = ast.literal_eval(section_content)\n",
    "                #df = pd.DataFrame.from_dict(loads)\n",
    "                #df.drop(['dont'], axis=1, inplace=True)\n",
    "                #print(df.to_markdown(index=False,tablefmt='fancy_grid'))\n",
    "                for each in loads:\n",
    "                    f2.write(each + \" = \" + str(loads[each]) + \"\\n\\n\")\n",
    "\n",
    "        elif type=='dict':\n",
    "\n",
    "            for section_content in section_content_list:\n",
    "                if isinstance(section_content, str):\n",
    "                    import ast\n",
    "                    section_content = ast.literal_eval(section_content)\n",
    "\n",
    "                with open(writePath_html, 'a') as f1:\n",
    "                    soup = BeautifulSoup(str(section_content), \"html.parser\")\n",
    "                    f1.write(str(soup.prettify()))\n",
    "                with open(writePath_md, 'a') as f2:\n",
    "                    for each in section_content:\n",
    "                        f2.write(each + \" = \" + str(section_content[each]) + \"\\n\\n\")\n",
    "\n",
    "        elif type=='text':\n",
    "            with open(writePath_html, 'a') as f1:\n",
    "                for each_line in section_content_list:\n",
    "                    f1.write(each_line + '<br>')\n",
    "            with open(writePath_md, 'a') as f2:\n",
    "                for each_line in section_content_list:\n",
    "                    f2.write(each_line + '\\n\\n')\n",
    "\n",
    "        with open(writePath_html, 'a') as f1:\n",
    "            f1.write('<hr>')\n",
    "\n",
    "\n",
    "include_in_html_report(\"header\", section_content=f\"Results from {ALGORITHM}\", section_figure=1)\n",
    "\n",
    "include_in_html_report(type=\"text\", section_header=f\"Dataset Version: {VERSION}\", section_content=f\"Date run:{datetime.now()}\")\n",
    "\n",
    "include_in_html_report(\"header\", section_content=f\"Results\", section_figure=2)\n",
    "\n",
    "include_in_html_report(type=\"text\", section_header=\"Summary\", section_content=new_model_decision)\n",
    "\n",
    "#include_in_html_report(type=\"dataframe\",text_single=\"Tuned Models ranked by performance\", content=cv_results_df_sorted)\n",
    "\n",
    "if not using_catboost:\n",
    "    include_in_html_report(type='dataframe', section_header='Tuned Models ranked by performance, with parameter details', section_content=cv_results_df_summary)\n",
    "\n",
    "    include_in_html_report(type='graph', section_header='Best and worst models obtained by tuning', section_figure=worst_and_best_model_fig, section_content=\"best_and_worst.png\")\n",
    "\n",
    "    include_in_html_report(type='graph', section_header='Best Model: Comparing model predictions to actual property values', section_figure=best_model_fig, section_content='best_model_correlation.png')\n",
    "else: #if using_catboost:\n",
    "    include_in_html_report(type=\"text\", section_header=\"Model Specific Notes\", section_content_list=[\"can't display hyperparameter comparison for catboost\",\"can't display model performance graphs for catboost\",\"can't display model performance graphs for catboost\"])\n",
    "\n",
    "\n",
    "if model_uses_feature_importances:\n",
    "    include_in_html_report(\"header\", section_content=f\"Feature Importances\", section_figure=2)\n",
    "    include_in_html_report(type=\"text\", section_header=\"Feature Importances\", section_content=feature_importances_output)\n",
    "    include_in_html_report(type=\"graph\", section_header=f\"Feature Importances ({ALGORITHM})\", section_figure=feature_importance_fig, section_content='best_model_feature_importances.png')\n",
    "\n",
    "\n",
    "include_in_html_report(\"header\", section_content=f\"Comparison with other models\", section_figure=2)\n",
    "\n",
    "\n",
    "dff = pd.read_json('../../../results/results.json')\n",
    "\n",
    "version = VERSION\n",
    "\n",
    "\n",
    "all_models_df = dff[dff.columns].T.sort_values(\"best score\", ascending=False)\n",
    "version_models_df = dff[[c for c in dff.columns if version in c]].T.sort_values(\"best score\", ascending=False)\n",
    "\n",
    "version_models_summary = version_models_df[['best score', 'best time', 'Mean Absolute Error Accuracy', 'Mean Squared Error Accuracy', 'R square Accuracy', 'Root Mean Squared Error', 'best run date', 'best method']]\n",
    "all_models_summary = all_models_df[['best score', 'best time', 'Mean Absolute Error Accuracy', 'Mean Squared Error Accuracy', 'R square Accuracy', 'Root Mean Squared Error', 'best run date', 'best method']]\n",
    "\n",
    "include_in_html_report(type=\"dataframe\", section_header=f\"Comparison with version {VERSION} performances\", section_content=version_models_summary)\n",
    "include_in_html_report(type=\"dataframe\", section_header=\"Comparison with all model performances\", section_content=all_models_summary)\n",
    "\n",
    "\n",
    "include_in_html_report(\"header\", section_content=f\"Appendix\", section_figure=2)\n",
    "\n",
    "include_in_html_report(type=\"dataframe\", section_header=\"Data Sample\", section_content=df.head(5))\n",
    "\n",
    "include_in_html_report(type=\"json\", section_header=\"Hyperparameter options for Randomized Grid Search\", section_content=f\"{param_options if not using_catboost else options_block}\")\n",
    "\n",
    "\n",
    "include_in_html_report(type=\"dict\", section_header=\"Environment Variables\", section_content=env_vars)\n",
    "\n",
    "\n",
    "def print_and_report(text_single, title):\n",
    "    include_in_html_report(\"text\", section_content=title)\n",
    "    for each in text_single:\n",
    "        print(each)\n",
    "        include_in_html_report(\"text\", section_header=\"\", section_content=each)\n",
    "\n",
    "# if not catboost:\n",
    "#     print_and_report([\n",
    "#         'Best Index:' + str(crossval_runner.best_index_) + '<br>',\n",
    "#         'Best Score:' + str(crossval_runner.best_score_) + '<br>',\n",
    "#         'Best Params: ' + str(crossval_runner.best_params_) + '<br>'\n",
    "#     ], \"Best Model Details\")\n",
    "\n"
   ],
   "metadata": {
    "collapsed": false
   }
  },
  {
   "cell_type": "code",
   "execution_count": null,
   "outputs": [],
   "source": [
    "print('Nearly finished...')"
   ],
   "metadata": {
    "collapsed": false
   }
  },
  {
   "cell_type": "code",
   "execution_count": null,
   "outputs": [],
   "source": [
    "# !jupyter nbconvert --to script mycode.ipynb\n",
    "# with open('it10_all_models_20221203.ipynb', 'r') as f:\n",
    "#     lines = f.readlines()\n",
    "# with open('mycode.py', 'w') as f:\n",
    "#     for line in lines:\n",
    "#         if 'nbconvert --to script' in line:\n",
    "#             break\n",
    "#         else:\n",
    "#             f.write(line)\n",
    "\n",
    "if create_python_script:\n",
    "    !jupyter nbconvert --to script 'it10_all_models_20221203.ipynb'\n",
    "\n",
    "#!jupyter nbconvert --to script 'it10_all_models_20221203.ipynb' &&  \\\n",
    "#!mv ./folder/notebooks/*.py ./folder/python_scripts && \\"
   ],
   "metadata": {
    "collapsed": false
   }
  },
  {
   "cell_type": "code",
   "execution_count": null,
   "outputs": [],
   "source": [
    "print('Finished!')"
   ],
   "metadata": {
    "collapsed": false
   }
  }
 ],
 "metadata": {
  "kernelspec": {
   "display_name": "Python 3 (ipykernel)",
   "language": "python",
   "name": "python3"
  },
  "language_info": {
   "codemirror_mode": {
    "name": "ipython",
    "version": 3
   },
   "file_extension": ".py",
   "mimetype": "text/x-python",
   "name": "python",
   "nbconvert_exporter": "python",
   "pygments_lexer": "ipython3",
   "version": "3.9.13"
  }
 },
 "nbformat": 4,
 "nbformat_minor": 4
}
