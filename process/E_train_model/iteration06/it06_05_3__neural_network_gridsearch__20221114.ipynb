{
 "cells": [
  {
   "cell_type": "code",
   "execution_count": null,
   "metadata": {
    "execution": {
     "iopub.execute_input": "2022-11-15T15:02:54.806967Z",
     "iopub.status.busy": "2022-11-15T15:02:54.806681Z",
     "iopub.status.idle": "2022-11-15T15:02:54.815240Z",
     "shell.execute_reply": "2022-11-15T15:02:54.814075Z",
     "shell.execute_reply.started": "2022-11-15T15:02:54.806911Z"
    }
   },
   "outputs": [],
   "source": [
    "ALGORITHM = 'Neural Network'\n",
    "ALGORITHM_DETAIL = 'grid search'\n",
    "ALGORITHM_DETAIL_ORIG = ALGORITHM_DETAIL\n",
    "ALGORITHM_DETAIL += ' [input11, d^20-500-500-20-5, dense1]'\n",
    "DATA_DETAIL = []\n",
    "#DATA_DETAIL = ['no scale','no dummies']\n",
    "VERSION = '06'\n",
    "\n",
    "RANDOM_STATE = 101\n",
    "TRAINING_SIZE = 0.9\n",
    "\n",
    "CROSS_VALIDATION_SCORING = 'r2'\n",
    "\n",
    "OVERRIDE_CV, OVERRIDE_N_ITER, OVERRIDE_JOBS = None, None, None"
   ]
  },
  {
   "cell_type": "code",
   "execution_count": null,
   "metadata": {
    "execution": {
     "iopub.execute_input": "2022-11-15T15:02:54.817920Z",
     "iopub.status.busy": "2022-11-15T15:02:54.817750Z",
     "iopub.status.idle": "2022-11-15T15:02:58.866902Z",
     "shell.execute_reply": "2022-11-15T15:02:58.866203Z",
     "shell.execute_reply.started": "2022-11-15T15:02:54.817906Z"
    }
   },
   "outputs": [
    {
     "name": "stdout",
     "output_type": "stream",
     "text": [
      "Requirement already satisfied: scikeras in /usr/local/lib/python3.9/dist-packages (0.9.0)\n",
      "Requirement already satisfied: packaging>=0.21 in /usr/local/lib/python3.9/dist-packages (from scikeras) (21.3)\n",
      "Requirement already satisfied: scikit-learn>=1.0.0 in /usr/local/lib/python3.9/dist-packages (from scikeras) (1.1.1)\n",
      "Requirement already satisfied: pyparsing!=3.0.5,>=2.0.2 in /usr/local/lib/python3.9/dist-packages (from packaging>=0.21->scikeras) (3.0.9)\n",
      "Requirement already satisfied: scipy>=1.3.2 in /usr/local/lib/python3.9/dist-packages (from scikit-learn>=1.0.0->scikeras) (1.8.1)\n",
      "Requirement already satisfied: numpy>=1.17.3 in /usr/local/lib/python3.9/dist-packages (from scikit-learn>=1.0.0->scikeras) (1.23.1)\n",
      "Requirement already satisfied: threadpoolctl>=2.0.0 in /usr/local/lib/python3.9/dist-packages (from scikit-learn>=1.0.0->scikeras) (3.1.0)\n",
      "Requirement already satisfied: joblib>=1.0.0 in /usr/local/lib/python3.9/dist-packages (from scikit-learn>=1.0.0->scikeras) (1.1.0)\n",
      "\u001b[33mWARNING: Running pip as the 'root' user can result in broken permissions and conflicting behaviour with the system package manager. It is recommended to use a virtual environment instead: https://pip.pypa.io/warnings/venv\u001b[0m\u001b[33m\n",
      "\u001b[0mRequirement already satisfied: catboost in /usr/local/lib/python3.9/dist-packages (1.1.1)\n",
      "Requirement already satisfied: matplotlib in /usr/local/lib/python3.9/dist-packages (from catboost) (3.5.2)\n",
      "Requirement already satisfied: six in /usr/lib/python3/dist-packages (from catboost) (1.14.0)\n",
      "Requirement already satisfied: scipy in /usr/local/lib/python3.9/dist-packages (from catboost) (1.8.1)\n",
      "Requirement already satisfied: graphviz in /usr/local/lib/python3.9/dist-packages (from catboost) (0.20.1)\n",
      "Requirement already satisfied: plotly in /usr/local/lib/python3.9/dist-packages (from catboost) (5.11.0)\n",
      "Requirement already satisfied: numpy>=1.16.0 in /usr/local/lib/python3.9/dist-packages (from catboost) (1.23.1)\n",
      "Requirement already satisfied: pandas>=0.24.0 in /usr/local/lib/python3.9/dist-packages (from catboost) (1.4.3)\n",
      "Requirement already satisfied: pytz>=2020.1 in /usr/local/lib/python3.9/dist-packages (from pandas>=0.24.0->catboost) (2022.1)\n",
      "Requirement already satisfied: python-dateutil>=2.8.1 in /usr/local/lib/python3.9/dist-packages (from pandas>=0.24.0->catboost) (2.8.2)\n",
      "Requirement already satisfied: cycler>=0.10 in /usr/local/lib/python3.9/dist-packages (from matplotlib->catboost) (0.11.0)\n",
      "Requirement already satisfied: packaging>=20.0 in /usr/local/lib/python3.9/dist-packages (from matplotlib->catboost) (21.3)\n",
      "Requirement already satisfied: fonttools>=4.22.0 in /usr/local/lib/python3.9/dist-packages (from matplotlib->catboost) (4.34.4)\n",
      "Requirement already satisfied: pyparsing>=2.2.1 in /usr/local/lib/python3.9/dist-packages (from matplotlib->catboost) (3.0.9)\n",
      "Requirement already satisfied: kiwisolver>=1.0.1 in /usr/local/lib/python3.9/dist-packages (from matplotlib->catboost) (1.4.3)\n",
      "Requirement already satisfied: pillow>=6.2.0 in /usr/local/lib/python3.9/dist-packages (from matplotlib->catboost) (9.2.0)\n",
      "Requirement already satisfied: tenacity>=6.2.0 in /usr/local/lib/python3.9/dist-packages (from plotly->catboost) (8.1.0)\n",
      "\u001b[33mWARNING: Running pip as the 'root' user can result in broken permissions and conflicting behaviour with the system package manager. It is recommended to use a virtual environment instead: https://pip.pypa.io/warnings/venv\u001b[0m\u001b[33m\n",
      "\u001b[0m"
     ]
    }
   ],
   "source": [
    "! pip install scikeras\n",
    "! pip install catboost"
   ]
  },
  {
   "cell_type": "code",
   "execution_count": null,
   "metadata": {
    "execution": {
     "iopub.execute_input": "2022-11-15T15:02:58.868810Z",
     "iopub.status.busy": "2022-11-15T15:02:58.868371Z",
     "iopub.status.idle": "2022-11-15T15:03:00.911991Z",
     "shell.execute_reply": "2022-11-15T15:03:00.911484Z",
     "shell.execute_reply.started": "2022-11-15T15:02:58.868788Z"
    }
   },
   "outputs": [
    {
     "name": "stdout",
     "output_type": "stream",
     "text": [
      "2.9.1\n"
     ]
    }
   ],
   "source": [
    "from sklearn.pipeline import Pipeline\n",
    "from sklearn.preprocessing import MinMaxScaler, StandardScaler\n",
    "from scikeras.wrappers import KerasClassifier, KerasRegressor\n",
    "\n",
    "import tensorflow as tf\n",
    "from keras import layers\n",
    "from tensorflow import keras\n",
    "from keras.models import Sequential\n",
    "from keras.layers import Dense\n",
    "\n",
    "print(tf.__version__)\n",
    "\n",
    "\n",
    "def make_regression_ann(initializer='uniform', activation='relu', optimizer='adam', loss='mse'):\n",
    "    normalizer = tf.keras.layers.Normalization(axis=-1)\n",
    "    model = Sequential()\n",
    "    #model.add(normalizer)\n",
    "    model.add(Dense(11, input_shape=(len(X_train[0]),), activation='relu'))\n",
    "    model.add(Dense(20, activation='relu'))\n",
    "    model.add(Dense(500, activation='relu'))\n",
    "    model.add(Dense(500, activation='relu'))\n",
    "    model.add(Dense(20, activation='relu'))\n",
    "    model.add(Dense(5, activation='relu'))\n",
    "    model.add(Dense(1))\n",
    "    model.compile(loss=loss, optimizer=optimizer)\n",
    "    #print(model)\n",
    "    return model\n"
   ]
  },
  {
   "cell_type": "code",
   "execution_count": null,
   "metadata": {
    "execution": {
     "iopub.execute_input": "2022-11-15T15:03:00.913112Z",
     "iopub.status.busy": "2022-11-15T15:03:00.912739Z",
     "iopub.status.idle": "2022-11-15T15:03:01.519614Z",
     "shell.execute_reply": "2022-11-15T15:03:01.519097Z",
     "shell.execute_reply.started": "2022-11-15T15:03:00.913095Z"
    }
   },
   "outputs": [
    {
     "name": "stdout",
     "output_type": "stream",
     "text": [
      "{'notebook_environment': 'gradient', 'use_gpu': True, 'debug_mode': False, 'quick_mode': False, 'quick_override_cv_splits': 2, 'quick_override_n_iter': 10, 'quick_override_n_jobs': 3}\n"
     ]
    }
   ],
   "source": [
    "#confirm_colab = True\n",
    "confirm_colab = False\n",
    "IN_CLOUD = False\n",
    "\n",
    "from sklearn.impute import SimpleImputer\n",
    "import pandas as pd\n",
    "from sklearn.model_selection import train_test_split, RandomizedSearchCV, GridSearchCV\n",
    "import numpy as np\n",
    "from pandas import DataFrame\n",
    "import math\n",
    "from termcolor import colored\n",
    "from time import time\n",
    "import sklearn\n",
    "from sklearn.metrics import r2_score, mean_absolute_error, mean_squared_error\n",
    "from sklearn.metrics import r2_score\n",
    "import seaborn as sns\n",
    "import pickle\n",
    "\n",
    "import json\n",
    "from datetime import datetime\n",
    "import matplotlib.pyplot as plt\n",
    "\n",
    "with open('../../z_envs/_envs.json') as f:\n",
    "    env_vars = json.loads(f.read())\n",
    "print(env_vars)\n",
    "\n",
    "try:\n",
    "    import google.colab\n",
    "\n",
    "    run_env = 'colab'\n",
    "except:\n",
    "    try:\n",
    "        run_env = env_vars['notebook_environment']\n",
    "    except:\n",
    "        run_env = 'unknown'\n",
    "\n",
    "use_gpu = env_vars.get('use_gpu', False)\n",
    "debug_mode = env_vars.get('debug_mode', False)\n",
    "quick_mode = env_vars.get('quick_mode', False)\n",
    "OVERRIDE_CV = env_vars.get('quick_override_cv_splits', None) if quick_mode else None\n",
    "OVERRIDE_N_ITER = env_vars.get('quick_override_n_iter', None) if quick_mode else None\n",
    "OVERRIDE_JOBS = env_vars.get('quick_override_n_jobs', None) if quick_mode else None\n",
    "#if quick_mode:OVERRIDE_CV, OVERRIDE_N_ITER = 2, 10\n",
    "\n",
    "already_timed = False\n",
    "no_dummies = 'no dummies' in DATA_DETAIL\n",
    "no_scaling = 'no scaling' in DATA_DETAIL\n",
    "not_catboost = 'catboost' not in ALGORITHM.lower() or not no_dummies\n",
    "\n",
    "if run_env not in ['colab', 'gradient', 'cloud']:\n",
    "    cloud_run = False\n",
    "    from functions_20221109 import set_csv_directory, get_columns\n",
    "    from functions_modelling_20221109 import make_modelling_pipeline, tidy_dataset, preprocess, feature_engineer, create_train_test_data\n",
    "    from functions_modelling_20221109 import get_cv_params, fit_model_with_cross_validation, get_best_estimator_average_time\n",
    "    from functions_modelling_20221109 import get_results, update_results, get_chosen_model\n",
    "    from functions_modelling_20221109 import get_hyperparameters\n",
    "\n",
    "    set_csv_directory('final_split')\n",
    "else:\n",
    "    cloud_run = True\n",
    "    import sys\n",
    "    import os\n",
    "\n",
    "    module_path = os.path.abspath(os.path.join('..', '..', '..'))\n",
    "    if module_path not in sys.path:\n",
    "        #sys.path.append(module_path+\"\\\\zfunctions\")\n",
    "        sys.path.append(module_path)\n",
    "\n",
    "    from functions_20221109 import set_csv_directory, get_columns\n",
    "    #from functions_20221109 import add_supplements, get_combined_dataset\n",
    "    from functions_modelling_20221109 import make_modelling_pipeline, tidy_dataset, preprocess, feature_engineer, create_train_test_data\n",
    "    from functions_modelling_20221109 import get_cv_params, fit_model_with_cross_validation, get_best_estimator_average_time\n",
    "    from functions_modelling_20221109 import get_results, update_results, get_chosen_model\n",
    "    from functions_modelling_20221109 import get_hyperparameters\n",
    "\n",
    "if quick_mode:\n",
    "    OVERRIDE_CV, OVERRIDE_N_ITER = 2, 10\n",
    "\n",
    "if 'neural' in ALGORITHM.lower():\n",
    "    OVERRIDE_JOBS=1\n",
    "\n",
    "if 'neural' in ALGORITHM.lower() and not cloud_run:\n",
    "    OVERRIDE_N_ITER = 2"
   ]
  },
  {
   "cell_type": "code",
   "execution_count": null,
   "metadata": {
    "execution": {
     "iopub.execute_input": "2022-11-15T15:03:01.521390Z",
     "iopub.status.busy": "2022-11-15T15:03:01.521030Z",
     "iopub.status.idle": "2022-11-15T15:03:01.525531Z",
     "shell.execute_reply": "2022-11-15T15:03:01.524947Z",
     "shell.execute_reply.started": "2022-11-15T15:03:01.521373Z"
    }
   },
   "outputs": [
    {
     "name": "stdout",
     "output_type": "stream",
     "text": [
      "\u001b[34mfeatures\u001b[0m ->  ['bedrooms', 'bathrooms', 'nearestStation', 'location.latitude', 'location.longitude', 'latitude_deviation', 'longitude_deviation', 'tenure.tenureType']\n",
      "\u001b[1m\u001b[32mlabel\u001b[0m ->  Price\n"
     ]
    }
   ],
   "source": [
    "#cutdown_rows = 1000\n",
    "cutdown_rows = 0\n",
    "\n",
    "LABEL = 'Price'\n",
    "\n",
    "columns, booleans, floats, categories, custom, wildcard = get_columns(version=VERSION)\n",
    "\n",
    "print(colored(f\"features\", \"blue\"), \"-> \", columns)\n",
    "columns.insert(0, LABEL)\n",
    "print(colored(f\"label\", \"green\", None, ['bold']), \"-> \", LABEL)"
   ]
  },
  {
   "cell_type": "code",
   "execution_count": null,
   "metadata": {
    "execution": {
     "iopub.execute_input": "2022-11-15T15:03:01.526547Z",
     "iopub.status.busy": "2022-11-15T15:03:01.526386Z",
     "iopub.status.idle": "2022-11-15T15:03:01.530830Z",
     "shell.execute_reply": "2022-11-15T15:03:01.530268Z",
     "shell.execute_reply.started": "2022-11-15T15:03:01.526532Z"
    }
   },
   "outputs": [],
   "source": [
    "def get_source_dataframe(rows=cutdown_rows, folder_prefix='../../../'):\n",
    "    retrieval_type = None\n",
    "\n",
    "    filename = f'df_listings_v{VERSION}.csv'\n",
    "    remote_pathname = f'https://raw.githubusercontent.com/jayportfolio/capstone_streamlit/main/data/final/{filename}'\n",
    "    df_pathname_raw = folder_prefix + f'data/source/{filename}'\n",
    "    df_pathname_tidy = folder_prefix + f'data/final/{filename}'\n",
    "\n",
    "    if cloud_run:\n",
    "        inDF = pd.read_csv(remote_pathname, on_bad_lines='error', index_col=0)\n",
    "        retrieval_type = 'tidy'\n",
    "        print('loaded data from', folder_prefix + remote_pathname)\n",
    "    else:\n",
    "        inDF = pd.read_csv(df_pathname_tidy, on_bad_lines='error', index_col=0)\n",
    "        retrieval_type = 'tidy'\n",
    "        print('loaded data from', df_pathname_tidy)\n",
    "\n",
    "    if rows and rows > 0:\n",
    "        inDF = inDF[:rows]\n",
    "    return inDF, retrieval_type"
   ]
  },
  {
   "cell_type": "code",
   "execution_count": null,
   "metadata": {
    "execution": {
     "iopub.execute_input": "2022-11-15T15:03:01.531649Z",
     "iopub.status.busy": "2022-11-15T15:03:01.531476Z",
     "iopub.status.idle": "2022-11-15T15:03:01.669906Z",
     "shell.execute_reply": "2022-11-15T15:03:01.669412Z",
     "shell.execute_reply.started": "2022-11-15T15:03:01.531629Z"
    }
   },
   "outputs": [
    {
     "name": "stdout",
     "output_type": "stream",
     "text": [
      "loaded data from ../../../https://raw.githubusercontent.com/jayportfolio/capstone_streamlit/main/data/final/df_listings_v06.csv\n",
      "(46871, 9)\n"
     ]
    }
   ],
   "source": [
    "df, retrieval_type = get_source_dataframe(folder_prefix='../../../')\n",
    "df_orig = df.copy()\n",
    "\n",
    "if retrieval_type != 'tidy':\n",
    "    df = tidy_dataset(df, version=int(VERSION))\n",
    "    df = feature_engineer(df, version=int(VERSION))\n",
    "\n",
    "    df = df[columns]\n",
    "\n",
    "print(df.shape)"
   ]
  },
  {
   "cell_type": "code",
   "execution_count": null,
   "metadata": {
    "execution": {
     "iopub.execute_input": "2022-11-15T15:03:01.670798Z",
     "iopub.status.busy": "2022-11-15T15:03:01.670611Z",
     "iopub.status.idle": "2022-11-15T15:03:01.689736Z",
     "shell.execute_reply": "2022-11-15T15:03:01.689272Z",
     "shell.execute_reply.started": "2022-11-15T15:03:01.670782Z"
    }
   },
   "outputs": [
    {
     "data": {
      "text/html": [
       "<div>\n",
       "<style scoped>\n",
       "    .dataframe tbody tr th:only-of-type {\n",
       "        vertical-align: middle;\n",
       "    }\n",
       "\n",
       "    .dataframe tbody tr th {\n",
       "        vertical-align: top;\n",
       "    }\n",
       "\n",
       "    .dataframe thead th {\n",
       "        text-align: right;\n",
       "    }\n",
       "</style>\n",
       "<table border=\"1\" class=\"dataframe\">\n",
       "  <thead>\n",
       "    <tr style=\"text-align: right;\">\n",
       "      <th></th>\n",
       "      <th>Price</th>\n",
       "      <th>bedrooms</th>\n",
       "      <th>bathrooms</th>\n",
       "      <th>nearestStation</th>\n",
       "      <th>location.latitude</th>\n",
       "      <th>location.longitude</th>\n",
       "      <th>latitude_deviation</th>\n",
       "      <th>longitude_deviation</th>\n",
       "      <th>tenure.tenureType</th>\n",
       "    </tr>\n",
       "  </thead>\n",
       "  <tbody>\n",
       "    <tr>\n",
       "      <th>14520525</th>\n",
       "      <td>550000.0</td>\n",
       "      <td>3.0</td>\n",
       "      <td>1.0</td>\n",
       "      <td>0.274316</td>\n",
       "      <td>51.529950</td>\n",
       "      <td>-0.207020</td>\n",
       "      <td>0.030230</td>\n",
       "      <td>0.102600</td>\n",
       "      <td>LEASEHOLD</td>\n",
       "    </tr>\n",
       "    <tr>\n",
       "      <th>27953107</th>\n",
       "      <td>400000.0</td>\n",
       "      <td>2.0</td>\n",
       "      <td>2.0</td>\n",
       "      <td>0.305845</td>\n",
       "      <td>51.549390</td>\n",
       "      <td>-0.482600</td>\n",
       "      <td>0.049670</td>\n",
       "      <td>0.378180</td>\n",
       "      <td>LEASEHOLD</td>\n",
       "    </tr>\n",
       "    <tr>\n",
       "      <th>33593487</th>\n",
       "      <td>579950.0</td>\n",
       "      <td>2.0</td>\n",
       "      <td>1.0</td>\n",
       "      <td>0.438045</td>\n",
       "      <td>51.447180</td>\n",
       "      <td>-0.338770</td>\n",
       "      <td>0.052540</td>\n",
       "      <td>0.234350</td>\n",
       "      <td>FREEHOLD</td>\n",
       "    </tr>\n",
       "    <tr>\n",
       "      <th>35271294</th>\n",
       "      <td>370000.0</td>\n",
       "      <td>2.0</td>\n",
       "      <td>1.0</td>\n",
       "      <td>0.399307</td>\n",
       "      <td>51.449568</td>\n",
       "      <td>-0.140154</td>\n",
       "      <td>0.050152</td>\n",
       "      <td>0.035734</td>\n",
       "      <td>LEASEHOLD</td>\n",
       "    </tr>\n",
       "    <tr>\n",
       "      <th>35429088</th>\n",
       "      <td>599950.0</td>\n",
       "      <td>2.0</td>\n",
       "      <td>1.0</td>\n",
       "      <td>0.238187</td>\n",
       "      <td>51.577030</td>\n",
       "      <td>-0.141230</td>\n",
       "      <td>0.077310</td>\n",
       "      <td>0.036810</td>\n",
       "      <td>NaN</td>\n",
       "    </tr>\n",
       "    <tr>\n",
       "      <th>44749111</th>\n",
       "      <td>475000.0</td>\n",
       "      <td>2.0</td>\n",
       "      <td>1.0</td>\n",
       "      <td>0.410550</td>\n",
       "      <td>51.370050</td>\n",
       "      <td>-0.212410</td>\n",
       "      <td>0.129670</td>\n",
       "      <td>0.107990</td>\n",
       "      <td>FREEHOLD</td>\n",
       "    </tr>\n",
       "    <tr>\n",
       "      <th>46204665</th>\n",
       "      <td>435000.0</td>\n",
       "      <td>3.0</td>\n",
       "      <td>2.0</td>\n",
       "      <td>0.314779</td>\n",
       "      <td>51.539070</td>\n",
       "      <td>-0.198935</td>\n",
       "      <td>0.039350</td>\n",
       "      <td>0.094515</td>\n",
       "      <td>LEASEHOLD</td>\n",
       "    </tr>\n",
       "    <tr>\n",
       "      <th>49020666</th>\n",
       "      <td>200000.0</td>\n",
       "      <td>1.0</td>\n",
       "      <td>1.0</td>\n",
       "      <td>0.875911</td>\n",
       "      <td>51.539959</td>\n",
       "      <td>-0.380863</td>\n",
       "      <td>0.040239</td>\n",
       "      <td>0.276443</td>\n",
       "      <td>LEASEHOLD</td>\n",
       "    </tr>\n",
       "    <tr>\n",
       "      <th>49036279</th>\n",
       "      <td>275000.0</td>\n",
       "      <td>2.0</td>\n",
       "      <td>1.0</td>\n",
       "      <td>0.474368</td>\n",
       "      <td>51.541780</td>\n",
       "      <td>0.037890</td>\n",
       "      <td>0.042060</td>\n",
       "      <td>0.142310</td>\n",
       "      <td>LEASEHOLD</td>\n",
       "    </tr>\n",
       "    <tr>\n",
       "      <th>49303873</th>\n",
       "      <td>450000.0</td>\n",
       "      <td>3.0</td>\n",
       "      <td>2.0</td>\n",
       "      <td>0.577040</td>\n",
       "      <td>51.524880</td>\n",
       "      <td>0.187200</td>\n",
       "      <td>0.025160</td>\n",
       "      <td>0.291620</td>\n",
       "      <td>FREEHOLD</td>\n",
       "    </tr>\n",
       "    <tr>\n",
       "      <th>52064391</th>\n",
       "      <td>349950.0</td>\n",
       "      <td>2.0</td>\n",
       "      <td>2.0</td>\n",
       "      <td>0.212734</td>\n",
       "      <td>51.470800</td>\n",
       "      <td>-0.361820</td>\n",
       "      <td>0.028920</td>\n",
       "      <td>0.257400</td>\n",
       "      <td>LEASEHOLD</td>\n",
       "    </tr>\n",
       "    <tr>\n",
       "      <th>52187854</th>\n",
       "      <td>450000.0</td>\n",
       "      <td>1.0</td>\n",
       "      <td>1.0</td>\n",
       "      <td>0.446802</td>\n",
       "      <td>51.527199</td>\n",
       "      <td>-0.202898</td>\n",
       "      <td>0.027479</td>\n",
       "      <td>0.098478</td>\n",
       "      <td>LEASEHOLD</td>\n",
       "    </tr>\n",
       "    <tr>\n",
       "      <th>52675628</th>\n",
       "      <td>490000.0</td>\n",
       "      <td>2.0</td>\n",
       "      <td>2.0</td>\n",
       "      <td>0.215040</td>\n",
       "      <td>51.501114</td>\n",
       "      <td>0.026315</td>\n",
       "      <td>0.001394</td>\n",
       "      <td>0.130735</td>\n",
       "      <td>NaN</td>\n",
       "    </tr>\n",
       "    <tr>\n",
       "      <th>52845963</th>\n",
       "      <td>200000.0</td>\n",
       "      <td>2.0</td>\n",
       "      <td>1.0</td>\n",
       "      <td>0.650562</td>\n",
       "      <td>51.398040</td>\n",
       "      <td>-0.076812</td>\n",
       "      <td>0.101680</td>\n",
       "      <td>0.027608</td>\n",
       "      <td>LEASEHOLD</td>\n",
       "    </tr>\n",
       "    <tr>\n",
       "      <th>52913496</th>\n",
       "      <td>220000.0</td>\n",
       "      <td>1.0</td>\n",
       "      <td>1.0</td>\n",
       "      <td>0.945991</td>\n",
       "      <td>51.539383</td>\n",
       "      <td>-0.382239</td>\n",
       "      <td>0.039663</td>\n",
       "      <td>0.277819</td>\n",
       "      <td>LEASEHOLD</td>\n",
       "    </tr>\n",
       "    <tr>\n",
       "      <th>53609433</th>\n",
       "      <td>489995.0</td>\n",
       "      <td>1.0</td>\n",
       "      <td>1.0</td>\n",
       "      <td>0.087081</td>\n",
       "      <td>51.532620</td>\n",
       "      <td>-0.107860</td>\n",
       "      <td>0.032900</td>\n",
       "      <td>0.003440</td>\n",
       "      <td>LEASEHOLD</td>\n",
       "    </tr>\n",
       "    <tr>\n",
       "      <th>53649578</th>\n",
       "      <td>284950.0</td>\n",
       "      <td>1.0</td>\n",
       "      <td>1.0</td>\n",
       "      <td>0.806597</td>\n",
       "      <td>51.479890</td>\n",
       "      <td>-0.078500</td>\n",
       "      <td>0.019830</td>\n",
       "      <td>0.025920</td>\n",
       "      <td>NaN</td>\n",
       "    </tr>\n",
       "    <tr>\n",
       "      <th>53938989</th>\n",
       "      <td>450000.0</td>\n",
       "      <td>2.0</td>\n",
       "      <td>1.0</td>\n",
       "      <td>0.775203</td>\n",
       "      <td>51.658287</td>\n",
       "      <td>-0.207902</td>\n",
       "      <td>0.158567</td>\n",
       "      <td>0.103482</td>\n",
       "      <td>FREEHOLD</td>\n",
       "    </tr>\n",
       "    <tr>\n",
       "      <th>54713232</th>\n",
       "      <td>332000.0</td>\n",
       "      <td>2.0</td>\n",
       "      <td>1.0</td>\n",
       "      <td>0.319226</td>\n",
       "      <td>51.612300</td>\n",
       "      <td>-0.119860</td>\n",
       "      <td>0.112580</td>\n",
       "      <td>0.015440</td>\n",
       "      <td>SHARE_OF_FREEHOLD</td>\n",
       "    </tr>\n",
       "    <tr>\n",
       "      <th>54904122</th>\n",
       "      <td>365000.0</td>\n",
       "      <td>2.0</td>\n",
       "      <td>1.0</td>\n",
       "      <td>0.260722</td>\n",
       "      <td>51.593595</td>\n",
       "      <td>0.022046</td>\n",
       "      <td>0.093875</td>\n",
       "      <td>0.126466</td>\n",
       "      <td>SHARE_OF_FREEHOLD</td>\n",
       "    </tr>\n",
       "    <tr>\n",
       "      <th>54991934</th>\n",
       "      <td>430000.0</td>\n",
       "      <td>3.0</td>\n",
       "      <td>1.0</td>\n",
       "      <td>0.497268</td>\n",
       "      <td>51.528720</td>\n",
       "      <td>0.039180</td>\n",
       "      <td>0.029000</td>\n",
       "      <td>0.143600</td>\n",
       "      <td>FREEHOLD</td>\n",
       "    </tr>\n",
       "    <tr>\n",
       "      <th>55043230</th>\n",
       "      <td>260000.0</td>\n",
       "      <td>1.0</td>\n",
       "      <td>1.0</td>\n",
       "      <td>0.384607</td>\n",
       "      <td>51.544430</td>\n",
       "      <td>0.014500</td>\n",
       "      <td>0.044710</td>\n",
       "      <td>0.118920</td>\n",
       "      <td>LEASEHOLD</td>\n",
       "    </tr>\n",
       "    <tr>\n",
       "      <th>55187658</th>\n",
       "      <td>430000.0</td>\n",
       "      <td>2.0</td>\n",
       "      <td>2.0</td>\n",
       "      <td>0.289033</td>\n",
       "      <td>51.507570</td>\n",
       "      <td>0.078030</td>\n",
       "      <td>0.007850</td>\n",
       "      <td>0.182450</td>\n",
       "      <td>LEASEHOLD</td>\n",
       "    </tr>\n",
       "    <tr>\n",
       "      <th>55531367</th>\n",
       "      <td>599950.0</td>\n",
       "      <td>2.0</td>\n",
       "      <td>1.0</td>\n",
       "      <td>0.406725</td>\n",
       "      <td>51.467410</td>\n",
       "      <td>-0.079170</td>\n",
       "      <td>0.032310</td>\n",
       "      <td>0.025250</td>\n",
       "      <td>NaN</td>\n",
       "    </tr>\n",
       "    <tr>\n",
       "      <th>55768232</th>\n",
       "      <td>550000.0</td>\n",
       "      <td>2.0</td>\n",
       "      <td>1.0</td>\n",
       "      <td>0.478349</td>\n",
       "      <td>51.472890</td>\n",
       "      <td>-0.078940</td>\n",
       "      <td>0.026830</td>\n",
       "      <td>0.025480</td>\n",
       "      <td>NaN</td>\n",
       "    </tr>\n",
       "    <tr>\n",
       "      <th>55805965</th>\n",
       "      <td>280000.0</td>\n",
       "      <td>2.0</td>\n",
       "      <td>1.0</td>\n",
       "      <td>0.742859</td>\n",
       "      <td>51.520910</td>\n",
       "      <td>0.022680</td>\n",
       "      <td>0.021190</td>\n",
       "      <td>0.127100</td>\n",
       "      <td>LEASEHOLD</td>\n",
       "    </tr>\n",
       "    <tr>\n",
       "      <th>55839051</th>\n",
       "      <td>599950.0</td>\n",
       "      <td>2.0</td>\n",
       "      <td>1.0</td>\n",
       "      <td>0.259168</td>\n",
       "      <td>51.579186</td>\n",
       "      <td>-0.209020</td>\n",
       "      <td>0.079466</td>\n",
       "      <td>0.104600</td>\n",
       "      <td>LEASEHOLD</td>\n",
       "    </tr>\n",
       "    <tr>\n",
       "      <th>55940994</th>\n",
       "      <td>385000.0</td>\n",
       "      <td>2.0</td>\n",
       "      <td>2.0</td>\n",
       "      <td>0.403987</td>\n",
       "      <td>51.376930</td>\n",
       "      <td>-0.238870</td>\n",
       "      <td>0.122790</td>\n",
       "      <td>0.134450</td>\n",
       "      <td>LEASEHOLD</td>\n",
       "    </tr>\n",
       "    <tr>\n",
       "      <th>56449305</th>\n",
       "      <td>380000.0</td>\n",
       "      <td>2.0</td>\n",
       "      <td>1.0</td>\n",
       "      <td>0.310271</td>\n",
       "      <td>51.600483</td>\n",
       "      <td>-0.062096</td>\n",
       "      <td>0.100763</td>\n",
       "      <td>0.042324</td>\n",
       "      <td>FREEHOLD</td>\n",
       "    </tr>\n",
       "    <tr>\n",
       "      <th>57221413</th>\n",
       "      <td>475000.0</td>\n",
       "      <td>3.0</td>\n",
       "      <td>2.0</td>\n",
       "      <td>0.409784</td>\n",
       "      <td>51.497260</td>\n",
       "      <td>-0.422530</td>\n",
       "      <td>0.002460</td>\n",
       "      <td>0.318110</td>\n",
       "      <td>FREEHOLD</td>\n",
       "    </tr>\n",
       "  </tbody>\n",
       "</table>\n",
       "</div>"
      ],
      "text/plain": [
       "             Price  bedrooms  bathrooms  nearestStation  location.latitude  \\\n",
       "14520525  550000.0       3.0        1.0        0.274316          51.529950   \n",
       "27953107  400000.0       2.0        2.0        0.305845          51.549390   \n",
       "33593487  579950.0       2.0        1.0        0.438045          51.447180   \n",
       "35271294  370000.0       2.0        1.0        0.399307          51.449568   \n",
       "35429088  599950.0       2.0        1.0        0.238187          51.577030   \n",
       "44749111  475000.0       2.0        1.0        0.410550          51.370050   \n",
       "46204665  435000.0       3.0        2.0        0.314779          51.539070   \n",
       "49020666  200000.0       1.0        1.0        0.875911          51.539959   \n",
       "49036279  275000.0       2.0        1.0        0.474368          51.541780   \n",
       "49303873  450000.0       3.0        2.0        0.577040          51.524880   \n",
       "52064391  349950.0       2.0        2.0        0.212734          51.470800   \n",
       "52187854  450000.0       1.0        1.0        0.446802          51.527199   \n",
       "52675628  490000.0       2.0        2.0        0.215040          51.501114   \n",
       "52845963  200000.0       2.0        1.0        0.650562          51.398040   \n",
       "52913496  220000.0       1.0        1.0        0.945991          51.539383   \n",
       "53609433  489995.0       1.0        1.0        0.087081          51.532620   \n",
       "53649578  284950.0       1.0        1.0        0.806597          51.479890   \n",
       "53938989  450000.0       2.0        1.0        0.775203          51.658287   \n",
       "54713232  332000.0       2.0        1.0        0.319226          51.612300   \n",
       "54904122  365000.0       2.0        1.0        0.260722          51.593595   \n",
       "54991934  430000.0       3.0        1.0        0.497268          51.528720   \n",
       "55043230  260000.0       1.0        1.0        0.384607          51.544430   \n",
       "55187658  430000.0       2.0        2.0        0.289033          51.507570   \n",
       "55531367  599950.0       2.0        1.0        0.406725          51.467410   \n",
       "55768232  550000.0       2.0        1.0        0.478349          51.472890   \n",
       "55805965  280000.0       2.0        1.0        0.742859          51.520910   \n",
       "55839051  599950.0       2.0        1.0        0.259168          51.579186   \n",
       "55940994  385000.0       2.0        2.0        0.403987          51.376930   \n",
       "56449305  380000.0       2.0        1.0        0.310271          51.600483   \n",
       "57221413  475000.0       3.0        2.0        0.409784          51.497260   \n",
       "\n",
       "          location.longitude  latitude_deviation  longitude_deviation  \\\n",
       "14520525           -0.207020            0.030230             0.102600   \n",
       "27953107           -0.482600            0.049670             0.378180   \n",
       "33593487           -0.338770            0.052540             0.234350   \n",
       "35271294           -0.140154            0.050152             0.035734   \n",
       "35429088           -0.141230            0.077310             0.036810   \n",
       "44749111           -0.212410            0.129670             0.107990   \n",
       "46204665           -0.198935            0.039350             0.094515   \n",
       "49020666           -0.380863            0.040239             0.276443   \n",
       "49036279            0.037890            0.042060             0.142310   \n",
       "49303873            0.187200            0.025160             0.291620   \n",
       "52064391           -0.361820            0.028920             0.257400   \n",
       "52187854           -0.202898            0.027479             0.098478   \n",
       "52675628            0.026315            0.001394             0.130735   \n",
       "52845963           -0.076812            0.101680             0.027608   \n",
       "52913496           -0.382239            0.039663             0.277819   \n",
       "53609433           -0.107860            0.032900             0.003440   \n",
       "53649578           -0.078500            0.019830             0.025920   \n",
       "53938989           -0.207902            0.158567             0.103482   \n",
       "54713232           -0.119860            0.112580             0.015440   \n",
       "54904122            0.022046            0.093875             0.126466   \n",
       "54991934            0.039180            0.029000             0.143600   \n",
       "55043230            0.014500            0.044710             0.118920   \n",
       "55187658            0.078030            0.007850             0.182450   \n",
       "55531367           -0.079170            0.032310             0.025250   \n",
       "55768232           -0.078940            0.026830             0.025480   \n",
       "55805965            0.022680            0.021190             0.127100   \n",
       "55839051           -0.209020            0.079466             0.104600   \n",
       "55940994           -0.238870            0.122790             0.134450   \n",
       "56449305           -0.062096            0.100763             0.042324   \n",
       "57221413           -0.422530            0.002460             0.318110   \n",
       "\n",
       "          tenure.tenureType  \n",
       "14520525          LEASEHOLD  \n",
       "27953107          LEASEHOLD  \n",
       "33593487           FREEHOLD  \n",
       "35271294          LEASEHOLD  \n",
       "35429088                NaN  \n",
       "44749111           FREEHOLD  \n",
       "46204665          LEASEHOLD  \n",
       "49020666          LEASEHOLD  \n",
       "49036279          LEASEHOLD  \n",
       "49303873           FREEHOLD  \n",
       "52064391          LEASEHOLD  \n",
       "52187854          LEASEHOLD  \n",
       "52675628                NaN  \n",
       "52845963          LEASEHOLD  \n",
       "52913496          LEASEHOLD  \n",
       "53609433          LEASEHOLD  \n",
       "53649578                NaN  \n",
       "53938989           FREEHOLD  \n",
       "54713232  SHARE_OF_FREEHOLD  \n",
       "54904122  SHARE_OF_FREEHOLD  \n",
       "54991934           FREEHOLD  \n",
       "55043230          LEASEHOLD  \n",
       "55187658          LEASEHOLD  \n",
       "55531367                NaN  \n",
       "55768232                NaN  \n",
       "55805965          LEASEHOLD  \n",
       "55839051          LEASEHOLD  \n",
       "55940994          LEASEHOLD  \n",
       "56449305           FREEHOLD  \n",
       "57221413           FREEHOLD  "
      ]
     },
     "execution_count": 8,
     "metadata": {},
     "output_type": "execute_result"
    }
   ],
   "source": [
    "df.head(30)"
   ]
  },
  {
   "cell_type": "code",
   "execution_count": null,
   "metadata": {
    "execution": {
     "iopub.execute_input": "2022-11-15T15:03:01.690763Z",
     "iopub.status.busy": "2022-11-15T15:03:01.690569Z",
     "iopub.status.idle": "2022-11-15T15:03:01.699851Z",
     "shell.execute_reply": "2022-11-15T15:03:01.699355Z",
     "shell.execute_reply.started": "2022-11-15T15:03:01.690748Z"
    }
   },
   "outputs": [
    {
     "data": {
      "text/plain": [
       "Price                     0\n",
       "bedrooms                  0\n",
       "bathrooms                 0\n",
       "nearestStation            0\n",
       "location.latitude         0\n",
       "location.longitude        0\n",
       "latitude_deviation        0\n",
       "longitude_deviation       0\n",
       "tenure.tenureType      2744\n",
       "dtype: int64"
      ]
     },
     "execution_count": 9,
     "metadata": {},
     "output_type": "execute_result"
    }
   ],
   "source": [
    "df.isnull().sum()"
   ]
  },
  {
   "cell_type": "code",
   "execution_count": null,
   "metadata": {
    "execution": {
     "iopub.execute_input": "2022-11-15T15:03:01.700642Z",
     "iopub.status.busy": "2022-11-15T15:03:01.700471Z",
     "iopub.status.idle": "2022-11-15T15:03:01.755575Z",
     "shell.execute_reply": "2022-11-15T15:03:01.755076Z",
     "shell.execute_reply.started": "2022-11-15T15:03:01.700628Z"
    }
   },
   "outputs": [
    {
     "name": "stdout",
     "output_type": "stream",
     "text": [
      "<class 'pandas.core.frame.DataFrame'>\n",
      "Int64Index: 46871 entries, 14520525 to 126181118\n",
      "Data columns (total 9 columns):\n",
      " #   Column               Non-Null Count  Dtype  \n",
      "---  ------               --------------  -----  \n",
      " 0   Price                46871 non-null  float64\n",
      " 1   bedrooms             46871 non-null  float64\n",
      " 2   bathrooms            46871 non-null  float64\n",
      " 3   nearestStation       46871 non-null  float64\n",
      " 4   location.latitude    46871 non-null  float64\n",
      " 5   location.longitude   46871 non-null  float64\n",
      " 6   latitude_deviation   46871 non-null  float64\n",
      " 7   longitude_deviation  46871 non-null  float64\n",
      " 8   tenure.tenureType    44127 non-null  object \n",
      "dtypes: float64(8), object(1)\n",
      "memory usage: 3.6+ MB\n"
     ]
    },
    {
     "data": {
      "text/html": [
       "<div>\n",
       "<style scoped>\n",
       "    .dataframe tbody tr th:only-of-type {\n",
       "        vertical-align: middle;\n",
       "    }\n",
       "\n",
       "    .dataframe tbody tr th {\n",
       "        vertical-align: top;\n",
       "    }\n",
       "\n",
       "    .dataframe thead th {\n",
       "        text-align: right;\n",
       "    }\n",
       "</style>\n",
       "<table border=\"1\" class=\"dataframe\">\n",
       "  <thead>\n",
       "    <tr style=\"text-align: right;\">\n",
       "      <th></th>\n",
       "      <th>count</th>\n",
       "      <th>mean</th>\n",
       "      <th>std</th>\n",
       "      <th>min</th>\n",
       "      <th>25%</th>\n",
       "      <th>50%</th>\n",
       "      <th>75%</th>\n",
       "      <th>max</th>\n",
       "    </tr>\n",
       "  </thead>\n",
       "  <tbody>\n",
       "    <tr>\n",
       "      <th>Price</th>\n",
       "      <td>46871.0</td>\n",
       "      <td>425069.390775</td>\n",
       "      <td>107227.324906</td>\n",
       "      <td>100000.000000</td>\n",
       "      <td>349950.000000</td>\n",
       "      <td>425000.000000</td>\n",
       "      <td>515000.000000</td>\n",
       "      <td>600000.000000</td>\n",
       "    </tr>\n",
       "    <tr>\n",
       "      <th>bedrooms</th>\n",
       "      <td>46871.0</td>\n",
       "      <td>1.992469</td>\n",
       "      <td>0.828837</td>\n",
       "      <td>1.000000</td>\n",
       "      <td>1.000000</td>\n",
       "      <td>2.000000</td>\n",
       "      <td>3.000000</td>\n",
       "      <td>7.000000</td>\n",
       "    </tr>\n",
       "    <tr>\n",
       "      <th>bathrooms</th>\n",
       "      <td>46871.0</td>\n",
       "      <td>1.182074</td>\n",
       "      <td>0.409879</td>\n",
       "      <td>1.000000</td>\n",
       "      <td>1.000000</td>\n",
       "      <td>1.000000</td>\n",
       "      <td>1.000000</td>\n",
       "      <td>5.000000</td>\n",
       "    </tr>\n",
       "    <tr>\n",
       "      <th>nearestStation</th>\n",
       "      <td>46871.0</td>\n",
       "      <td>0.438847</td>\n",
       "      <td>0.325942</td>\n",
       "      <td>0.000000</td>\n",
       "      <td>0.227169</td>\n",
       "      <td>0.367971</td>\n",
       "      <td>0.559620</td>\n",
       "      <td>7.197700</td>\n",
       "    </tr>\n",
       "    <tr>\n",
       "      <th>location.latitude</th>\n",
       "      <td>46871.0</td>\n",
       "      <td>51.497049</td>\n",
       "      <td>0.077085</td>\n",
       "      <td>51.298317</td>\n",
       "      <td>51.438861</td>\n",
       "      <td>51.499977</td>\n",
       "      <td>51.556183</td>\n",
       "      <td>51.683185</td>\n",
       "    </tr>\n",
       "    <tr>\n",
       "      <th>location.longitude</th>\n",
       "      <td>46871.0</td>\n",
       "      <td>-0.113269</td>\n",
       "      <td>0.156489</td>\n",
       "      <td>-0.498315</td>\n",
       "      <td>-0.210796</td>\n",
       "      <td>-0.102230</td>\n",
       "      <td>-0.010343</td>\n",
       "      <td>0.279726</td>\n",
       "    </tr>\n",
       "    <tr>\n",
       "      <th>latitude_deviation</th>\n",
       "      <td>46871.0</td>\n",
       "      <td>0.064317</td>\n",
       "      <td>0.042573</td>\n",
       "      <td>0.000000</td>\n",
       "      <td>0.028876</td>\n",
       "      <td>0.058595</td>\n",
       "      <td>0.094362</td>\n",
       "      <td>0.201403</td>\n",
       "    </tr>\n",
       "    <tr>\n",
       "      <th>longitude_deviation</th>\n",
       "      <td>46871.0</td>\n",
       "      <td>0.124202</td>\n",
       "      <td>0.095607</td>\n",
       "      <td>0.000000</td>\n",
       "      <td>0.043560</td>\n",
       "      <td>0.098984</td>\n",
       "      <td>0.192684</td>\n",
       "      <td>0.393895</td>\n",
       "    </tr>\n",
       "  </tbody>\n",
       "</table>\n",
       "</div>"
      ],
      "text/plain": [
       "                       count           mean            std            min  \\\n",
       "Price                46871.0  425069.390775  107227.324906  100000.000000   \n",
       "bedrooms             46871.0       1.992469       0.828837       1.000000   \n",
       "bathrooms            46871.0       1.182074       0.409879       1.000000   \n",
       "nearestStation       46871.0       0.438847       0.325942       0.000000   \n",
       "location.latitude    46871.0      51.497049       0.077085      51.298317   \n",
       "location.longitude   46871.0      -0.113269       0.156489      -0.498315   \n",
       "latitude_deviation   46871.0       0.064317       0.042573       0.000000   \n",
       "longitude_deviation  46871.0       0.124202       0.095607       0.000000   \n",
       "\n",
       "                               25%            50%            75%  \\\n",
       "Price                349950.000000  425000.000000  515000.000000   \n",
       "bedrooms                  1.000000       2.000000       3.000000   \n",
       "bathrooms                 1.000000       1.000000       1.000000   \n",
       "nearestStation            0.227169       0.367971       0.559620   \n",
       "location.latitude        51.438861      51.499977      51.556183   \n",
       "location.longitude       -0.210796      -0.102230      -0.010343   \n",
       "latitude_deviation        0.028876       0.058595       0.094362   \n",
       "longitude_deviation       0.043560       0.098984       0.192684   \n",
       "\n",
       "                               max  \n",
       "Price                600000.000000  \n",
       "bedrooms                  7.000000  \n",
       "bathrooms                 5.000000  \n",
       "nearestStation            7.197700  \n",
       "location.latitude        51.683185  \n",
       "location.longitude        0.279726  \n",
       "latitude_deviation        0.201403  \n",
       "longitude_deviation       0.393895  "
      ]
     },
     "execution_count": 10,
     "metadata": {},
     "output_type": "execute_result"
    }
   ],
   "source": [
    "df.info()\n",
    "df.describe()\n",
    "df.describe().T"
   ]
  },
  {
   "cell_type": "code",
   "execution_count": null,
   "metadata": {
    "execution": {
     "iopub.execute_input": "2022-11-15T15:03:01.757765Z",
     "iopub.status.busy": "2022-11-15T15:03:01.757579Z",
     "iopub.status.idle": "2022-11-15T15:03:01.799708Z",
     "shell.execute_reply": "2022-11-15T15:03:01.799217Z",
     "shell.execute_reply.started": "2022-11-15T15:03:01.757750Z"
    }
   },
   "outputs": [
    {
     "name": "stdout",
     "output_type": "stream",
     "text": [
      "dataframe contract due to cleaning: 46871 ==> 46871\n"
     ]
    },
    {
     "data": {
      "text/html": [
       "<div>\n",
       "<style scoped>\n",
       "    .dataframe tbody tr th:only-of-type {\n",
       "        vertical-align: middle;\n",
       "    }\n",
       "\n",
       "    .dataframe tbody tr th {\n",
       "        vertical-align: top;\n",
       "    }\n",
       "\n",
       "    .dataframe thead th {\n",
       "        text-align: right;\n",
       "    }\n",
       "</style>\n",
       "<table border=\"1\" class=\"dataframe\">\n",
       "  <thead>\n",
       "    <tr style=\"text-align: right;\">\n",
       "      <th></th>\n",
       "      <th>count</th>\n",
       "      <th>mean</th>\n",
       "      <th>std</th>\n",
       "      <th>min</th>\n",
       "      <th>25%</th>\n",
       "      <th>50%</th>\n",
       "      <th>75%</th>\n",
       "      <th>max</th>\n",
       "    </tr>\n",
       "  </thead>\n",
       "  <tbody>\n",
       "    <tr>\n",
       "      <th>Price</th>\n",
       "      <td>46871.0</td>\n",
       "      <td>425069.390775</td>\n",
       "      <td>107227.324906</td>\n",
       "      <td>100000.000000</td>\n",
       "      <td>349950.000000</td>\n",
       "      <td>425000.000000</td>\n",
       "      <td>515000.000000</td>\n",
       "      <td>600000.000000</td>\n",
       "    </tr>\n",
       "    <tr>\n",
       "      <th>bedrooms</th>\n",
       "      <td>46871.0</td>\n",
       "      <td>1.992469</td>\n",
       "      <td>0.828837</td>\n",
       "      <td>1.000000</td>\n",
       "      <td>1.000000</td>\n",
       "      <td>2.000000</td>\n",
       "      <td>3.000000</td>\n",
       "      <td>7.000000</td>\n",
       "    </tr>\n",
       "    <tr>\n",
       "      <th>bathrooms</th>\n",
       "      <td>46871.0</td>\n",
       "      <td>1.182074</td>\n",
       "      <td>0.409879</td>\n",
       "      <td>1.000000</td>\n",
       "      <td>1.000000</td>\n",
       "      <td>1.000000</td>\n",
       "      <td>1.000000</td>\n",
       "      <td>5.000000</td>\n",
       "    </tr>\n",
       "    <tr>\n",
       "      <th>nearestStation</th>\n",
       "      <td>46871.0</td>\n",
       "      <td>0.438847</td>\n",
       "      <td>0.325942</td>\n",
       "      <td>0.000000</td>\n",
       "      <td>0.227169</td>\n",
       "      <td>0.367971</td>\n",
       "      <td>0.559620</td>\n",
       "      <td>7.197700</td>\n",
       "    </tr>\n",
       "    <tr>\n",
       "      <th>location.latitude</th>\n",
       "      <td>46871.0</td>\n",
       "      <td>51.497049</td>\n",
       "      <td>0.077085</td>\n",
       "      <td>51.298317</td>\n",
       "      <td>51.438861</td>\n",
       "      <td>51.499977</td>\n",
       "      <td>51.556183</td>\n",
       "      <td>51.683185</td>\n",
       "    </tr>\n",
       "    <tr>\n",
       "      <th>location.longitude</th>\n",
       "      <td>46871.0</td>\n",
       "      <td>-0.113269</td>\n",
       "      <td>0.156489</td>\n",
       "      <td>-0.498315</td>\n",
       "      <td>-0.210796</td>\n",
       "      <td>-0.102230</td>\n",
       "      <td>-0.010343</td>\n",
       "      <td>0.279726</td>\n",
       "    </tr>\n",
       "    <tr>\n",
       "      <th>latitude_deviation</th>\n",
       "      <td>46871.0</td>\n",
       "      <td>0.064317</td>\n",
       "      <td>0.042573</td>\n",
       "      <td>0.000000</td>\n",
       "      <td>0.028876</td>\n",
       "      <td>0.058595</td>\n",
       "      <td>0.094362</td>\n",
       "      <td>0.201403</td>\n",
       "    </tr>\n",
       "    <tr>\n",
       "      <th>longitude_deviation</th>\n",
       "      <td>46871.0</td>\n",
       "      <td>0.124202</td>\n",
       "      <td>0.095607</td>\n",
       "      <td>0.000000</td>\n",
       "      <td>0.043560</td>\n",
       "      <td>0.098984</td>\n",
       "      <td>0.192684</td>\n",
       "      <td>0.393895</td>\n",
       "    </tr>\n",
       "  </tbody>\n",
       "</table>\n",
       "</div>"
      ],
      "text/plain": [
       "                       count           mean            std            min  \\\n",
       "Price                46871.0  425069.390775  107227.324906  100000.000000   \n",
       "bedrooms             46871.0       1.992469       0.828837       1.000000   \n",
       "bathrooms            46871.0       1.182074       0.409879       1.000000   \n",
       "nearestStation       46871.0       0.438847       0.325942       0.000000   \n",
       "location.latitude    46871.0      51.497049       0.077085      51.298317   \n",
       "location.longitude   46871.0      -0.113269       0.156489      -0.498315   \n",
       "latitude_deviation   46871.0       0.064317       0.042573       0.000000   \n",
       "longitude_deviation  46871.0       0.124202       0.095607       0.000000   \n",
       "\n",
       "                               25%            50%            75%  \\\n",
       "Price                349950.000000  425000.000000  515000.000000   \n",
       "bedrooms                  1.000000       2.000000       3.000000   \n",
       "bathrooms                 1.000000       1.000000       1.000000   \n",
       "nearestStation            0.227169       0.367971       0.559620   \n",
       "location.latitude        51.438861      51.499977      51.556183   \n",
       "location.longitude       -0.210796      -0.102230      -0.010343   \n",
       "latitude_deviation        0.028876       0.058595       0.094362   \n",
       "longitude_deviation       0.043560       0.098984       0.192684   \n",
       "\n",
       "                               max  \n",
       "Price                600000.000000  \n",
       "bedrooms                  7.000000  \n",
       "bathrooms                 5.000000  \n",
       "nearestStation            7.197700  \n",
       "location.latitude        51.683185  \n",
       "location.longitude        0.279726  \n",
       "latitude_deviation        0.201403  \n",
       "longitude_deviation       0.393895  "
      ]
     },
     "execution_count": 11,
     "metadata": {},
     "output_type": "execute_result"
    }
   ],
   "source": [
    "old_length = len(df)\n",
    "\n",
    "df = preprocess(df, version=VERSION)\n",
    "\n",
    "print(f\"dataframe contract due to cleaning: {old_length} ==> {len(df)}\")\n",
    "old_length = len(df)\n",
    "\n",
    "df.describe().T"
   ]
  },
  {
   "cell_type": "code",
   "execution_count": null,
   "metadata": {
    "execution": {
     "iopub.execute_input": "2022-11-15T15:03:01.800706Z",
     "iopub.status.busy": "2022-11-15T15:03:01.800500Z",
     "iopub.status.idle": "2022-11-15T15:03:01.809483Z",
     "shell.execute_reply": "2022-11-15T15:03:01.808986Z",
     "shell.execute_reply.started": "2022-11-15T15:03:01.800691Z"
    }
   },
   "outputs": [
    {
     "data": {
      "text/plain": [
       "Price                     0\n",
       "bedrooms                  0\n",
       "bathrooms                 0\n",
       "nearestStation            0\n",
       "location.latitude         0\n",
       "location.longitude        0\n",
       "latitude_deviation        0\n",
       "longitude_deviation       0\n",
       "tenure.tenureType      2744\n",
       "dtype: int64"
      ]
     },
     "execution_count": 12,
     "metadata": {},
     "output_type": "execute_result"
    }
   ],
   "source": [
    "df.isna().sum()"
   ]
  },
  {
   "cell_type": "code",
   "execution_count": null,
   "metadata": {
    "execution": {
     "iopub.execute_input": "2022-11-15T15:03:01.810233Z",
     "iopub.status.busy": "2022-11-15T15:03:01.810042Z",
     "iopub.status.idle": "2022-11-15T15:03:01.842644Z",
     "shell.execute_reply": "2022-11-15T15:03:01.842029Z",
     "shell.execute_reply.started": "2022-11-15T15:03:01.810219Z"
    }
   },
   "outputs": [
    {
     "name": "stdout",
     "output_type": "stream",
     "text": [
      "46871 ==> 44127\n"
     ]
    },
    {
     "data": {
      "text/html": [
       "<div>\n",
       "<style scoped>\n",
       "    .dataframe tbody tr th:only-of-type {\n",
       "        vertical-align: middle;\n",
       "    }\n",
       "\n",
       "    .dataframe tbody tr th {\n",
       "        vertical-align: top;\n",
       "    }\n",
       "\n",
       "    .dataframe thead th {\n",
       "        text-align: right;\n",
       "    }\n",
       "</style>\n",
       "<table border=\"1\" class=\"dataframe\">\n",
       "  <thead>\n",
       "    <tr style=\"text-align: right;\">\n",
       "      <th></th>\n",
       "      <th>Price</th>\n",
       "      <th>bedrooms</th>\n",
       "      <th>bathrooms</th>\n",
       "      <th>nearestStation</th>\n",
       "      <th>location.latitude</th>\n",
       "      <th>location.longitude</th>\n",
       "      <th>latitude_deviation</th>\n",
       "      <th>longitude_deviation</th>\n",
       "    </tr>\n",
       "  </thead>\n",
       "  <tbody>\n",
       "    <tr>\n",
       "      <th>count</th>\n",
       "      <td>44127.000000</td>\n",
       "      <td>44127.000000</td>\n",
       "      <td>44127.00000</td>\n",
       "      <td>44127.000000</td>\n",
       "      <td>44127.000000</td>\n",
       "      <td>44127.000000</td>\n",
       "      <td>44127.000000</td>\n",
       "      <td>44127.000000</td>\n",
       "    </tr>\n",
       "    <tr>\n",
       "      <th>mean</th>\n",
       "      <td>425224.642373</td>\n",
       "      <td>1.990981</td>\n",
       "      <td>1.18134</td>\n",
       "      <td>0.438522</td>\n",
       "      <td>51.496711</td>\n",
       "      <td>-0.113106</td>\n",
       "      <td>0.064544</td>\n",
       "      <td>0.123699</td>\n",
       "    </tr>\n",
       "    <tr>\n",
       "      <th>std</th>\n",
       "      <td>107203.332660</td>\n",
       "      <td>0.827621</td>\n",
       "      <td>0.40893</td>\n",
       "      <td>0.324152</td>\n",
       "      <td>0.077267</td>\n",
       "      <td>0.155863</td>\n",
       "      <td>0.042583</td>\n",
       "      <td>0.095220</td>\n",
       "    </tr>\n",
       "    <tr>\n",
       "      <th>min</th>\n",
       "      <td>100000.000000</td>\n",
       "      <td>1.000000</td>\n",
       "      <td>1.00000</td>\n",
       "      <td>0.000000</td>\n",
       "      <td>51.298317</td>\n",
       "      <td>-0.498315</td>\n",
       "      <td>0.000000</td>\n",
       "      <td>0.000000</td>\n",
       "    </tr>\n",
       "    <tr>\n",
       "      <th>25%</th>\n",
       "      <td>349950.000000</td>\n",
       "      <td>1.000000</td>\n",
       "      <td>1.00000</td>\n",
       "      <td>0.227551</td>\n",
       "      <td>51.438303</td>\n",
       "      <td>-0.210633</td>\n",
       "      <td>0.029023</td>\n",
       "      <td>0.043551</td>\n",
       "    </tr>\n",
       "    <tr>\n",
       "      <th>50%</th>\n",
       "      <td>425000.000000</td>\n",
       "      <td>2.000000</td>\n",
       "      <td>1.00000</td>\n",
       "      <td>0.368351</td>\n",
       "      <td>51.498780</td>\n",
       "      <td>-0.101910</td>\n",
       "      <td>0.058904</td>\n",
       "      <td>0.098750</td>\n",
       "    </tr>\n",
       "    <tr>\n",
       "      <th>75%</th>\n",
       "      <td>515000.000000</td>\n",
       "      <td>3.000000</td>\n",
       "      <td>1.00000</td>\n",
       "      <td>0.559486</td>\n",
       "      <td>51.556343</td>\n",
       "      <td>-0.010854</td>\n",
       "      <td>0.094620</td>\n",
       "      <td>0.191727</td>\n",
       "    </tr>\n",
       "    <tr>\n",
       "      <th>max</th>\n",
       "      <td>600000.000000</td>\n",
       "      <td>7.000000</td>\n",
       "      <td>5.00000</td>\n",
       "      <td>7.197700</td>\n",
       "      <td>51.683185</td>\n",
       "      <td>0.279726</td>\n",
       "      <td>0.201403</td>\n",
       "      <td>0.393895</td>\n",
       "    </tr>\n",
       "  </tbody>\n",
       "</table>\n",
       "</div>"
      ],
      "text/plain": [
       "               Price      bedrooms    bathrooms  nearestStation  \\\n",
       "count   44127.000000  44127.000000  44127.00000    44127.000000   \n",
       "mean   425224.642373      1.990981      1.18134        0.438522   \n",
       "std    107203.332660      0.827621      0.40893        0.324152   \n",
       "min    100000.000000      1.000000      1.00000        0.000000   \n",
       "25%    349950.000000      1.000000      1.00000        0.227551   \n",
       "50%    425000.000000      2.000000      1.00000        0.368351   \n",
       "75%    515000.000000      3.000000      1.00000        0.559486   \n",
       "max    600000.000000      7.000000      5.00000        7.197700   \n",
       "\n",
       "       location.latitude  location.longitude  latitude_deviation  \\\n",
       "count       44127.000000        44127.000000        44127.000000   \n",
       "mean           51.496711           -0.113106            0.064544   \n",
       "std             0.077267            0.155863            0.042583   \n",
       "min            51.298317           -0.498315            0.000000   \n",
       "25%            51.438303           -0.210633            0.029023   \n",
       "50%            51.498780           -0.101910            0.058904   \n",
       "75%            51.556343           -0.010854            0.094620   \n",
       "max            51.683185            0.279726            0.201403   \n",
       "\n",
       "       longitude_deviation  \n",
       "count         44127.000000  \n",
       "mean              0.123699  \n",
       "std               0.095220  \n",
       "min               0.000000  \n",
       "25%               0.043551  \n",
       "50%               0.098750  \n",
       "75%               0.191727  \n",
       "max               0.393895  "
      ]
     },
     "execution_count": 13,
     "metadata": {},
     "output_type": "execute_result"
    }
   ],
   "source": [
    "df = df.dropna()\n",
    "print(f\"{old_length} ==> {len(df)}\")\n",
    "old_length = len(df)\n",
    "df.describe()"
   ]
  },
  {
   "cell_type": "code",
   "execution_count": null,
   "metadata": {
    "execution": {
     "iopub.execute_input": "2022-11-15T15:03:01.844156Z",
     "iopub.status.busy": "2022-11-15T15:03:01.843566Z",
     "iopub.status.idle": "2022-11-15T15:03:01.870624Z",
     "shell.execute_reply": "2022-11-15T15:03:01.870126Z",
     "shell.execute_reply.started": "2022-11-15T15:03:01.844101Z"
    }
   },
   "outputs": [
    {
     "name": "stdout",
     "output_type": "stream",
     "text": [
      "(39714, 11) (4413, 11) (39714, 1) (4413, 1) (39714, 1) (4413, 1) (39714, 1) (4413, 1)\n"
     ]
    }
   ],
   "source": [
    "X_train, X_test, y_train, y_test, X_train_index, X_test_index, y_train_index, y_test_index, df_features, df_labels = create_train_test_data(\n",
    "    df,\n",
    "    categories=categories,\n",
    "    RANDOM_STATE=RANDOM_STATE, return_index=True,\n",
    "    drop_nulls=True)\n",
    "\n",
    "print(X_train.shape, X_test.shape, y_train.shape, y_test.shape, X_train_index.shape, X_test_index.shape,\n",
    "      y_train_index.shape, y_test_index.shape)\n"
   ]
  },
  {
   "cell_type": "code",
   "execution_count": null,
   "metadata": {
    "execution": {
     "iopub.execute_input": "2022-11-15T15:03:01.871748Z",
     "iopub.status.busy": "2022-11-15T15:03:01.871540Z",
     "iopub.status.idle": "2022-11-15T15:03:01.874078Z",
     "shell.execute_reply": "2022-11-15T15:03:01.873588Z",
     "shell.execute_reply.started": "2022-11-15T15:03:01.871730Z"
    }
   },
   "outputs": [],
   "source": [
    "#imputer = SimpleImputer(strategy='mean')\n",
    "#imputer.fit(X_train[6])\n",
    "#X_train[6] = imputer.transform(X_train[6])"
   ]
  },
  {
   "cell_type": "code",
   "execution_count": null,
   "metadata": {
    "execution": {
     "iopub.execute_input": "2022-11-15T15:03:01.875061Z",
     "iopub.status.busy": "2022-11-15T15:03:01.874909Z",
     "iopub.status.idle": "2022-11-15T15:03:01.882005Z",
     "shell.execute_reply": "2022-11-15T15:03:01.881342Z",
     "shell.execute_reply.started": "2022-11-15T15:03:01.875047Z"
    }
   },
   "outputs": [
    {
     "data": {
      "text/html": [
       "<style>#sk-container-id-1 {color: black;background-color: white;}#sk-container-id-1 pre{padding: 0;}#sk-container-id-1 div.sk-toggleable {background-color: white;}#sk-container-id-1 label.sk-toggleable__label {cursor: pointer;display: block;width: 100%;margin-bottom: 0;padding: 0.3em;box-sizing: border-box;text-align: center;}#sk-container-id-1 label.sk-toggleable__label-arrow:before {content: \"▸\";float: left;margin-right: 0.25em;color: #696969;}#sk-container-id-1 label.sk-toggleable__label-arrow:hover:before {color: black;}#sk-container-id-1 div.sk-estimator:hover label.sk-toggleable__label-arrow:before {color: black;}#sk-container-id-1 div.sk-toggleable__content {max-height: 0;max-width: 0;overflow: hidden;text-align: left;background-color: #f0f8ff;}#sk-container-id-1 div.sk-toggleable__content pre {margin: 0.2em;color: black;border-radius: 0.25em;background-color: #f0f8ff;}#sk-container-id-1 input.sk-toggleable__control:checked~div.sk-toggleable__content {max-height: 200px;max-width: 100%;overflow: auto;}#sk-container-id-1 input.sk-toggleable__control:checked~label.sk-toggleable__label-arrow:before {content: \"▾\";}#sk-container-id-1 div.sk-estimator input.sk-toggleable__control:checked~label.sk-toggleable__label {background-color: #d4ebff;}#sk-container-id-1 div.sk-label input.sk-toggleable__control:checked~label.sk-toggleable__label {background-color: #d4ebff;}#sk-container-id-1 input.sk-hidden--visually {border: 0;clip: rect(1px 1px 1px 1px);clip: rect(1px, 1px, 1px, 1px);height: 1px;margin: -1px;overflow: hidden;padding: 0;position: absolute;width: 1px;}#sk-container-id-1 div.sk-estimator {font-family: monospace;background-color: #f0f8ff;border: 1px dotted black;border-radius: 0.25em;box-sizing: border-box;margin-bottom: 0.5em;}#sk-container-id-1 div.sk-estimator:hover {background-color: #d4ebff;}#sk-container-id-1 div.sk-parallel-item::after {content: \"\";width: 100%;border-bottom: 1px solid gray;flex-grow: 1;}#sk-container-id-1 div.sk-label:hover label.sk-toggleable__label {background-color: #d4ebff;}#sk-container-id-1 div.sk-serial::before {content: \"\";position: absolute;border-left: 1px solid gray;box-sizing: border-box;top: 0;bottom: 0;left: 50%;z-index: 0;}#sk-container-id-1 div.sk-serial {display: flex;flex-direction: column;align-items: center;background-color: white;padding-right: 0.2em;padding-left: 0.2em;position: relative;}#sk-container-id-1 div.sk-item {position: relative;z-index: 1;}#sk-container-id-1 div.sk-parallel {display: flex;align-items: stretch;justify-content: center;background-color: white;position: relative;}#sk-container-id-1 div.sk-item::before, #sk-container-id-1 div.sk-parallel-item::before {content: \"\";position: absolute;border-left: 1px solid gray;box-sizing: border-box;top: 0;bottom: 0;left: 50%;z-index: -1;}#sk-container-id-1 div.sk-parallel-item {display: flex;flex-direction: column;z-index: 1;position: relative;background-color: white;}#sk-container-id-1 div.sk-parallel-item:first-child::after {align-self: flex-end;width: 50%;}#sk-container-id-1 div.sk-parallel-item:last-child::after {align-self: flex-start;width: 50%;}#sk-container-id-1 div.sk-parallel-item:only-child::after {width: 0;}#sk-container-id-1 div.sk-dashed-wrapped {border: 1px dashed gray;margin: 0 0.4em 0.5em 0.4em;box-sizing: border-box;padding-bottom: 0.4em;background-color: white;}#sk-container-id-1 div.sk-label label {font-family: monospace;font-weight: bold;display: inline-block;line-height: 1.2em;}#sk-container-id-1 div.sk-label-container {text-align: center;}#sk-container-id-1 div.sk-container {/* jupyter's `normalize.less` sets `[hidden] { display: none; }` but bootstrap.min.css set `[hidden] { display: none !important; }` so we also need the `!important` here to be able to override the default hidden behavior on the sphinx rendered scikit-learn.org. See: https://github.com/scikit-learn/scikit-learn/issues/21755 */display: inline-block !important;position: relative;}#sk-container-id-1 div.sk-text-repr-fallback {display: none;}</style><div id=\"sk-container-id-1\" class=\"sk-top-container\"><div class=\"sk-text-repr-fallback\"><pre>Pipeline(steps=[(&#x27;std_scaler&#x27;, StandardScaler()),\n",
       "                (&#x27;model&#x27;,\n",
       "                 KerasRegressor(model=&lt;function make_regression_ann at 0x7f147985a700&gt;, verbose=0))])</pre><b>In a Jupyter environment, please rerun this cell to show the HTML representation or trust the notebook. <br />On GitHub, the HTML representation is unable to render, please try loading this page with nbviewer.org.</b></div><div class=\"sk-container\" hidden><div class=\"sk-item sk-dashed-wrapped\"><div class=\"sk-label-container\"><div class=\"sk-label sk-toggleable\"><input class=\"sk-toggleable__control sk-hidden--visually\" id=\"sk-estimator-id-1\" type=\"checkbox\" ><label for=\"sk-estimator-id-1\" class=\"sk-toggleable__label sk-toggleable__label-arrow\">Pipeline</label><div class=\"sk-toggleable__content\"><pre>Pipeline(steps=[(&#x27;std_scaler&#x27;, StandardScaler()),\n",
       "                (&#x27;model&#x27;,\n",
       "                 KerasRegressor(model=&lt;function make_regression_ann at 0x7f147985a700&gt;, verbose=0))])</pre></div></div></div><div class=\"sk-serial\"><div class=\"sk-item\"><div class=\"sk-estimator sk-toggleable\"><input class=\"sk-toggleable__control sk-hidden--visually\" id=\"sk-estimator-id-2\" type=\"checkbox\" ><label for=\"sk-estimator-id-2\" class=\"sk-toggleable__label sk-toggleable__label-arrow\">StandardScaler</label><div class=\"sk-toggleable__content\"><pre>StandardScaler()</pre></div></div></div><div class=\"sk-item\"><div class=\"sk-estimator sk-toggleable\"><input class=\"sk-toggleable__control sk-hidden--visually\" id=\"sk-estimator-id-3\" type=\"checkbox\" ><label for=\"sk-estimator-id-3\" class=\"sk-toggleable__label sk-toggleable__label-arrow\">KerasRegressor</label><div class=\"sk-toggleable__content\"><pre>KerasRegressor(\n",
       "\tmodel=&lt;function make_regression_ann at 0x7f147985a700&gt;\n",
       "\tbuild_fn=None\n",
       "\twarm_start=False\n",
       "\trandom_state=None\n",
       "\toptimizer=rmsprop\n",
       "\tloss=None\n",
       "\tmetrics=None\n",
       "\tbatch_size=None\n",
       "\tvalidation_batch_size=None\n",
       "\tverbose=0\n",
       "\tcallbacks=None\n",
       "\tvalidation_split=0.0\n",
       "\tshuffle=True\n",
       "\trun_eagerly=False\n",
       "\tepochs=1\n",
       ")</pre></div></div></div></div></div></div></div>"
      ],
      "text/plain": [
       "Pipeline(steps=[('std_scaler', StandardScaler()),\n",
       "                ('model',\n",
       "                 KerasRegressor(model=<function make_regression_ann at 0x7f147985a700>, verbose=0))])"
      ]
     },
     "execution_count": 16,
     "metadata": {},
     "output_type": "execute_result"
    }
   ],
   "source": [
    "starter_pipe = make_modelling_pipeline(KerasRegressor(make_regression_ann, verbose=0), DATA_DETAIL)\n",
    "starter_pipe"
   ]
  },
  {
   "cell_type": "code",
   "execution_count": null,
   "metadata": {
    "execution": {
     "iopub.execute_input": "2022-11-15T15:03:01.882683Z",
     "iopub.status.busy": "2022-11-15T15:03:01.882534Z",
     "iopub.status.idle": "2022-11-15T15:03:01.886525Z",
     "shell.execute_reply": "2022-11-15T15:03:01.886037Z",
     "shell.execute_reply.started": "2022-11-15T15:03:01.882670Z"
    }
   },
   "outputs": [
    {
     "data": {
      "text/plain": [
       "{'model': <function __main__.make_regression_ann(initializer='uniform', activation='relu', optimizer='adam', loss='mse')>,\n",
       " 'build_fn': None,\n",
       " 'warm_start': False,\n",
       " 'random_state': None,\n",
       " 'optimizer': 'rmsprop',\n",
       " 'loss': None,\n",
       " 'metrics': None,\n",
       " 'batch_size': None,\n",
       " 'validation_batch_size': None,\n",
       " 'verbose': 0,\n",
       " 'callbacks': None,\n",
       " 'validation_split': 0.0,\n",
       " 'shuffle': True,\n",
       " 'run_eagerly': False,\n",
       " 'epochs': 1}"
      ]
     },
     "execution_count": 17,
     "metadata": {},
     "output_type": "execute_result"
    }
   ],
   "source": [
    "starter_model = starter_pipe[-1]\n",
    "default_model_params = starter_model.get_params()\n",
    "default_model_params"
   ]
  },
  {
   "cell_type": "code",
   "execution_count": null,
   "metadata": {
    "execution": {
     "iopub.execute_input": "2022-11-15T15:03:01.887215Z",
     "iopub.status.busy": "2022-11-15T15:03:01.887066Z",
     "iopub.status.idle": "2022-11-15T15:03:01.891031Z",
     "shell.execute_reply": "2022-11-15T15:03:01.890550Z",
     "shell.execute_reply.started": "2022-11-15T15:03:01.887202Z"
    }
   },
   "outputs": [
    {
     "data": {
      "text/plain": [
       "['accuracy',\n",
       " 'adjusted_mutual_info_score',\n",
       " 'adjusted_rand_score',\n",
       " 'average_precision',\n",
       " 'balanced_accuracy',\n",
       " 'completeness_score',\n",
       " 'explained_variance',\n",
       " 'f1',\n",
       " 'f1_macro',\n",
       " 'f1_micro',\n",
       " 'f1_samples',\n",
       " 'f1_weighted',\n",
       " 'fowlkes_mallows_score',\n",
       " 'homogeneity_score',\n",
       " 'jaccard',\n",
       " 'jaccard_macro',\n",
       " 'jaccard_micro',\n",
       " 'jaccard_samples',\n",
       " 'jaccard_weighted',\n",
       " 'matthews_corrcoef',\n",
       " 'max_error',\n",
       " 'mutual_info_score',\n",
       " 'neg_brier_score',\n",
       " 'neg_log_loss',\n",
       " 'neg_mean_absolute_error',\n",
       " 'neg_mean_absolute_percentage_error',\n",
       " 'neg_mean_gamma_deviance',\n",
       " 'neg_mean_poisson_deviance',\n",
       " 'neg_mean_squared_error',\n",
       " 'neg_mean_squared_log_error',\n",
       " 'neg_median_absolute_error',\n",
       " 'neg_root_mean_squared_error',\n",
       " 'normalized_mutual_info_score',\n",
       " 'precision',\n",
       " 'precision_macro',\n",
       " 'precision_micro',\n",
       " 'precision_samples',\n",
       " 'precision_weighted',\n",
       " 'r2',\n",
       " 'rand_score',\n",
       " 'recall',\n",
       " 'recall_macro',\n",
       " 'recall_micro',\n",
       " 'recall_samples',\n",
       " 'recall_weighted',\n",
       " 'roc_auc',\n",
       " 'roc_auc_ovo',\n",
       " 'roc_auc_ovo_weighted',\n",
       " 'roc_auc_ovr',\n",
       " 'roc_auc_ovr_weighted',\n",
       " 'top_k_accuracy',\n",
       " 'v_measure_score']"
      ]
     },
     "execution_count": 18,
     "metadata": {},
     "output_type": "execute_result"
    }
   ],
   "source": [
    "import sklearn\n",
    "sklearn.metrics.get_scorer_names()"
   ]
  },
  {
   "cell_type": "code",
   "execution_count": null,
   "metadata": {
    "execution": {
     "iopub.execute_input": "2022-11-15T15:03:01.891970Z",
     "iopub.status.busy": "2022-11-15T15:03:01.891820Z",
     "iopub.status.idle": "2022-11-15T15:03:01.894457Z",
     "shell.execute_reply": "2022-11-15T15:03:01.893904Z",
     "shell.execute_reply.started": "2022-11-15T15:03:01.891958Z"
    }
   },
   "outputs": [],
   "source": [
    "# SKIP %timeit starter_pipe.fit(X_train, y_train)"
   ]
  },
  {
   "cell_type": "code",
   "execution_count": 30,
   "metadata": {
    "execution": {
     "iopub.execute_input": "2022-11-15T18:21:54.193327Z",
     "iopub.status.busy": "2022-11-15T18:21:54.192511Z",
     "iopub.status.idle": "2022-11-15T18:21:54.199892Z",
     "shell.execute_reply": "2022-11-15T18:21:54.199449Z",
     "shell.execute_reply.started": "2022-11-15T18:21:54.193301Z"
    }
   },
   "outputs": [
    {
     "data": {
      "text/plain": [
       "({'model__model__initializer': ['normal'],\n",
       "  'model__model__activation': ['relu'],\n",
       "  'model__optimizer': ['adam'],\n",
       "  'model__loss': ['mse'],\n",
       "  'model__verbose': [0],\n",
       "  'model__batch_size': [2112],\n",
       "  'model__epochs': [1000, 2000]},\n",
       " 3,\n",
       " 1,\n",
       " True,\n",
       " 100)"
      ]
     },
     "execution_count": 30,
     "metadata": {},
     "output_type": "execute_result"
    }
   ],
   "source": [
    "options_block = {\n",
    "    'model__model__initializer': ['normal'], #, 'uniform'],\n",
    "    'model__model__activation': ['relu'],\n",
    "    'model__optimizer': ['adam'],\n",
    "    'model__loss': ['mse'],\n",
    "    'model__verbose':[0],\n",
    "    #'model__batch_size': [64, 132] if cloud_run else [1000, 5000],\n",
    "    'model__batch_size': [264*8] if cloud_run else [1000, 5000],\n",
    "    #'model__epochs': [1000, 5000] if cloud_run else [5,10,15],\n",
    "    'model__epochs': [1000, 2000] if cloud_run else [5,10,15],\n",
    "}\n",
    "\n",
    "redundant, cv, n_jobs, refit, n_iter, verbose = get_cv_params(options_block, debug_mode=debug_mode,\n",
    "                                                                  override_cv=OVERRIDE_CV,\n",
    "                                                                  override_niter=OVERRIDE_N_ITER,\n",
    "                                                                  override_njobs=OVERRIDE_JOBS)\n",
    "\n",
    "\n",
    "def automl_step(param_options, vary):\n",
    "    for key, value in param_options.items():\n",
    "        #print(key, value, vary)\n",
    "        if key != vary and key != 'model__' + vary:\n",
    "            param_options[key] = [param_options[key][0]]\n",
    "    return param_options\n",
    "\n",
    "options_block = automl_step(options_block, \"model__epochs\")\n",
    "pipeline_search_cv = make_modelling_pipeline(KerasRegressor(make_regression_ann, verbose=1), DATA_DETAIL)\n",
    "    \n",
    "options_block, cv, n_jobs, refit, n_iter"
   ]
  },
  {
   "cell_type": "code",
   "execution_count": 31,
   "metadata": {
    "execution": {
     "iopub.execute_input": "2022-11-15T18:21:59.021140Z",
     "iopub.status.busy": "2022-11-15T18:21:59.020505Z",
     "iopub.status.idle": "2022-11-15T18:33:15.231647Z",
     "shell.execute_reply": "2022-11-15T18:33:15.231026Z",
     "shell.execute_reply.started": "2022-11-15T18:21:59.021116Z"
    }
   },
   "outputs": [
    {
     "name": "stdout",
     "output_type": "stream",
     "text": [
      "Fitting 3 folds for each of 2 candidates, totalling 6 fits\n",
      "Fitting 3 folds for each of 2 candidates, totalling 6 fits\n",
      "Total fit/CV time      : 676 seconds   (1668536519.0243227 ==> 1668537195.2289433)\n",
      "\n",
      "average fit/score time = 52.24s/0.09s\n",
      "max fit/score time     = 73.01s/0.09s\n",
      "refit time             = 39.43s\n"
     ]
    }
   ],
   "source": [
    "def fit_model_with_cross_validation(gs, X_train, y_train, fits):\n",
    "    pipe_start = time()\n",
    "    cv_result = gs.fit(X_train, y_train)\n",
    "    gs.fit(X_train, y_train)\n",
    "    pipe_end = time()\n",
    "    average_time = round((pipe_end - pipe_start) / (fits), 2)\n",
    "\n",
    "    print(f\"Total fit/CV time      : {int(pipe_end - pipe_start)} seconds   ({pipe_start} ==> {pipe_end})\")\n",
    "    print()\n",
    "    print(\n",
    "        f'average fit/score time = {round(cv_result.cv_results_[\"mean_fit_time\"].mean(), 2)}s/{round(cv_result.cv_results_[\"mean_score_time\"].mean(), 2)}s')\n",
    "    print(\n",
    "        f'max fit/score time     = {round(cv_result.cv_results_[\"mean_fit_time\"].max(), 2)}s/{round(cv_result.cv_results_[\"mean_score_time\"].max(), 2)}s')\n",
    "    print(f'refit time             = {round(cv_result.refit_time_, 2)}s')\n",
    "\n",
    "    #return cv_result, average_time, cv_result.refit_time_, len(cv_result.cv_results_[\"mean_fit_time\"])\n",
    "    return average_time, cv_result.refit_time_, len(cv_result.cv_results_[\"mean_fit_time\"])\n",
    "\n",
    "\n",
    "crossval_runner = GridSearchCV(\n",
    "    estimator=pipeline_search_cv,\n",
    "    param_grid=options_block,\n",
    "    cv=cv, n_jobs=n_jobs, # get the AVX/AVX2 info if use n_jobs > 2\n",
    "    verbose=1, scoring=CROSS_VALIDATION_SCORING,\n",
    "    refit=refit,\n",
    "    return_train_score=True, #n_iter=n_iter,\n",
    "    error_score='raise'\n",
    ")\n",
    "\n",
    "cv_average_fit_time, cv_best_model_fit_time, total_fits = fit_model_with_cross_validation(\n",
    "    crossval_runner, X_train, y_train, fits=cv * n_iter)\n"
   ]
  },
  {
   "cell_type": "code",
   "execution_count": 32,
   "metadata": {
    "execution": {
     "iopub.execute_input": "2022-11-15T20:20:42.646091Z",
     "iopub.status.busy": "2022-11-15T20:20:42.645648Z",
     "iopub.status.idle": "2022-11-15T20:20:42.650231Z",
     "shell.execute_reply": "2022-11-15T20:20:42.649730Z",
     "shell.execute_reply.started": "2022-11-15T20:20:42.646073Z"
    }
   },
   "outputs": [
    {
     "data": {
      "text/plain": [
       "{'model__batch_size': 2112,\n",
       " 'model__epochs': 1000,\n",
       " 'model__loss': 'mse',\n",
       " 'model__model__activation': 'relu',\n",
       " 'model__model__initializer': 'normal',\n",
       " 'model__optimizer': 'adam',\n",
       " 'model__verbose': 0}"
      ]
     },
     "execution_count": 32,
     "metadata": {},
     "output_type": "execute_result"
    }
   ],
   "source": [
    "crossval_runner.best_params_"
   ]
  },
  {
   "cell_type": "code",
   "execution_count": 33,
   "metadata": {
    "execution": {
     "iopub.execute_input": "2022-11-15T20:20:42.651915Z",
     "iopub.status.busy": "2022-11-15T20:20:42.651643Z",
     "iopub.status.idle": "2022-11-15T20:20:42.655487Z",
     "shell.execute_reply": "2022-11-15T20:20:42.654824Z",
     "shell.execute_reply.started": "2022-11-15T20:20:42.651887Z"
    }
   },
   "outputs": [],
   "source": [
    "best_estimator_pipe = crossval_runner.best_estimator_\n",
    "\n",
    "if debug_mode:\n",
    "    crossval_runner.cv_results_"
   ]
  },
  {
   "cell_type": "code",
   "execution_count": 34,
   "metadata": {
    "execution": {
     "iopub.execute_input": "2022-11-15T20:20:42.658805Z",
     "iopub.status.busy": "2022-11-15T20:20:42.658361Z",
     "iopub.status.idle": "2022-11-15T20:20:42.669722Z",
     "shell.execute_reply": "2022-11-15T20:20:42.669283Z",
     "shell.execute_reply.started": "2022-11-15T20:20:42.658789Z"
    }
   },
   "outputs": [
    {
     "data": {
      "text/html": [
       "<div>\n",
       "<style scoped>\n",
       "    .dataframe tbody tr th:only-of-type {\n",
       "        vertical-align: middle;\n",
       "    }\n",
       "\n",
       "    .dataframe tbody tr th {\n",
       "        vertical-align: top;\n",
       "    }\n",
       "\n",
       "    .dataframe thead th {\n",
       "        text-align: right;\n",
       "    }\n",
       "</style>\n",
       "<table border=\"1\" class=\"dataframe\">\n",
       "  <thead>\n",
       "    <tr style=\"text-align: right;\">\n",
       "      <th></th>\n",
       "      <th>params2</th>\n",
       "      <th>rank_test_score</th>\n",
       "      <th>mean_test_score</th>\n",
       "      <th>mean_fit_time</th>\n",
       "      <th>mean_score_time</th>\n",
       "      <th>params</th>\n",
       "    </tr>\n",
       "  </thead>\n",
       "  <tbody>\n",
       "    <tr>\n",
       "      <th>0</th>\n",
       "      <td>2112/1000/mse/relu/normal/adam/0</td>\n",
       "      <td>1</td>\n",
       "      <td>0.574934</td>\n",
       "      <td>31.472464</td>\n",
       "      <td>0.078428</td>\n",
       "      <td>{'model__batch_size': 2112, 'model__epochs': 1...</td>\n",
       "    </tr>\n",
       "    <tr>\n",
       "      <th>1</th>\n",
       "      <td>2112/2000/mse/relu/normal/adam/0</td>\n",
       "      <td>2</td>\n",
       "      <td>0.562888</td>\n",
       "      <td>73.012142</td>\n",
       "      <td>0.093568</td>\n",
       "      <td>{'model__batch_size': 2112, 'model__epochs': 2...</td>\n",
       "    </tr>\n",
       "  </tbody>\n",
       "</table>\n",
       "</div>"
      ],
      "text/plain": [
       "                            params2  rank_test_score  mean_test_score  \\\n",
       "0  2112/1000/mse/relu/normal/adam/0                1         0.574934   \n",
       "1  2112/2000/mse/relu/normal/adam/0                2         0.562888   \n",
       "\n",
       "   mean_fit_time  mean_score_time  \\\n",
       "0      31.472464         0.078428   \n",
       "1      73.012142         0.093568   \n",
       "\n",
       "                                              params  \n",
       "0  {'model__batch_size': 2112, 'model__epochs': 1...  \n",
       "1  {'model__batch_size': 2112, 'model__epochs': 2...  "
      ]
     },
     "execution_count": 34,
     "metadata": {},
     "output_type": "execute_result"
    }
   ],
   "source": [
    "cv_results_df = pd.DataFrame(crossval_runner.cv_results_)\n",
    "\n",
    "cv_results_df['params2'] = cv_results_df['params'].apply(lambda l: '/'.join([str(c) for c in l.values()]))\n",
    "\n",
    "cv_columns = ['params2', 'rank_test_score', 'mean_test_score', 'mean_fit_time', 'mean_score_time','params']\n",
    "# if 'Neural' not in ALGORITHM:\n",
    "#     cv_columns.insert(2, 'mean_train_score')\n",
    "\n",
    "cv_results_df_sorted = cv_results_df.sort_values('rank_test_score')[cv_columns].reset_index(drop=True)\n",
    "cv_results_df_sorted"
   ]
  },
  {
   "cell_type": "code",
   "execution_count": 35,
   "metadata": {
    "execution": {
     "iopub.execute_input": "2022-11-15T20:20:42.670835Z",
     "iopub.status.busy": "2022-11-15T20:20:42.670683Z",
     "iopub.status.idle": "2022-11-15T20:20:42.675043Z",
     "shell.execute_reply": "2022-11-15T20:20:42.674483Z",
     "shell.execute_reply.started": "2022-11-15T20:20:42.670822Z"
    }
   },
   "outputs": [],
   "source": [
    "def print_results(cross_validation_result):\n",
    "    means = cross_validation_result.cv_results_['mean_test_score']\n",
    "    stds = cross_validation_result.cv_results_['std_test_score']\n",
    "    params = cross_validation_result.cv_results_['params']\n",
    "    times = cross_validation_result.cv_results_['std_test_score']\n",
    "\n",
    "    print(\"params:\" + \"/\".join([c.replace(\"model__\", \"\") for c in params[0].keys()]))\n",
    "    print()\n",
    "    for mean, std, param, time in zip(means, stds, params, times):\n",
    "        #param2 = \"/\".join(list(param.values()))\n",
    "        param2 = \"/\".join(list([str(c) for c in param.values()]))\n",
    "        print(f'{round(mean, 3)} (+/-{round(std * 2, 3)}) in {round(time, 4)}s for {param2}')\n",
    "\n",
    "\n",
    "if debug_mode:\n",
    "    print_results(crossval_runner)"
   ]
  },
  {
   "cell_type": "code",
   "execution_count": 36,
   "metadata": {
    "execution": {
     "iopub.execute_input": "2022-11-15T20:20:42.675773Z",
     "iopub.status.busy": "2022-11-15T20:20:42.675619Z",
     "iopub.status.idle": "2022-11-15T20:20:42.678509Z",
     "shell.execute_reply": "2022-11-15T20:20:42.678076Z",
     "shell.execute_reply.started": "2022-11-15T20:20:42.675760Z"
    }
   },
   "outputs": [
    {
     "name": "stdout",
     "output_type": "stream",
     "text": [
      "Best Index:  0\n",
      "Best Score:  0.5749342200854247\n",
      "Best Params:  {'model__batch_size': 2112, 'model__epochs': 1000, 'model__loss': 'mse', 'model__model__activation': 'relu', 'model__model__initializer': 'normal', 'model__optimizer': 'adam', 'model__verbose': 0}\n"
     ]
    }
   ],
   "source": [
    "print('Best Index: ', crossval_runner.best_index_)\n",
    "print('Best Score: ', crossval_runner.best_score_)\n",
    "print('Best Params: ', crossval_runner.best_params_)"
   ]
  },
  {
   "cell_type": "code",
   "execution_count": 37,
   "metadata": {
    "execution": {
     "iopub.execute_input": "2022-11-15T20:20:42.679847Z",
     "iopub.status.busy": "2022-11-15T20:20:42.679678Z",
     "iopub.status.idle": "2022-11-15T20:20:42.766221Z",
     "shell.execute_reply": "2022-11-15T20:20:42.765660Z",
     "shell.execute_reply.started": "2022-11-15T20:20:42.679834Z"
    }
   },
   "outputs": [],
   "source": [
    "y_pred = best_estimator_pipe.predict(X_test)"
   ]
  },
  {
   "cell_type": "code",
   "execution_count": 38,
   "metadata": {
    "execution": {
     "iopub.execute_input": "2022-11-15T20:20:42.767348Z",
     "iopub.status.busy": "2022-11-15T20:20:42.767171Z",
     "iopub.status.idle": "2022-11-15T20:20:42.772760Z",
     "shell.execute_reply": "2022-11-15T20:20:42.772294Z",
     "shell.execute_reply.started": "2022-11-15T20:20:42.767333Z"
    }
   },
   "outputs": [
    {
     "name": "stdout",
     "output_type": "stream",
     "text": [
      "----------Neural Network----------\n",
      "R square Accuracy 0.5759069280910043\n",
      "Mean Absolute Error Accuracy 54997.13208489123\n",
      "Mean Squared Error Accuracy 4790727364.652283\n",
      "Root Mean Squared Error 69215.08047132708\n"
     ]
    }
   ],
   "source": [
    "y_pred = y_pred.reshape((-1, 1))\n",
    "\n",
    "R2 = r2_score(y_test, y_pred)\n",
    "MAE = mean_absolute_error(y_test, y_pred)\n",
    "MSE = mean_squared_error(y_test, y_pred)\n",
    "RMSE = math.sqrt(MSE)\n",
    "print('-' * 10 + ALGORITHM + '-' * 10)\n",
    "print('R square Accuracy', R2)\n",
    "print('Mean Absolute Error Accuracy', MAE)\n",
    "print('Mean Squared Error Accuracy', MSE)\n",
    "print('Root Mean Squared Error', RMSE)"
   ]
  },
  {
   "cell_type": "code",
   "execution_count": 39,
   "metadata": {
    "execution": {
     "iopub.execute_input": "2022-11-15T20:20:42.773748Z",
     "iopub.status.busy": "2022-11-15T20:20:42.773388Z",
     "iopub.status.idle": "2022-11-15T20:20:42.776696Z",
     "shell.execute_reply": "2022-11-15T20:20:42.776239Z",
     "shell.execute_reply.started": "2022-11-15T20:20:42.773726Z"
    }
   },
   "outputs": [],
   "source": [
    "if debug_mode:\n",
    "    print(y_test_index.reshape((-1, 1)).shape);\n",
    "    print(y_pred.reshape((-1, 1)).shape);\n",
    "    print(y_test.shape);\n",
    "    print(y_test_index.shape);\n",
    "    print(y_pred.shape);\n",
    "    print(y_test.shape)"
   ]
  },
  {
   "cell_type": "code",
   "execution_count": 40,
   "metadata": {
    "execution": {
     "iopub.execute_input": "2022-11-15T20:20:42.777367Z",
     "iopub.status.busy": "2022-11-15T20:20:42.777221Z",
     "iopub.status.idle": "2022-11-15T20:20:42.790407Z",
     "shell.execute_reply": "2022-11-15T20:20:42.789978Z",
     "shell.execute_reply.started": "2022-11-15T20:20:42.777354Z"
    }
   },
   "outputs": [
    {
     "data": {
      "text/html": [
       "<div>\n",
       "<style scoped>\n",
       "    .dataframe tbody tr th:only-of-type {\n",
       "        vertical-align: middle;\n",
       "    }\n",
       "\n",
       "    .dataframe tbody tr th {\n",
       "        vertical-align: top;\n",
       "    }\n",
       "\n",
       "    .dataframe thead th {\n",
       "        text-align: right;\n",
       "    }\n",
       "</style>\n",
       "<table border=\"1\" class=\"dataframe\">\n",
       "  <thead>\n",
       "    <tr style=\"text-align: right;\">\n",
       "      <th></th>\n",
       "      <th>actual</th>\n",
       "      <th>predicted</th>\n",
       "      <th>difference</th>\n",
       "      <th>diff 1 %</th>\n",
       "      <th>diff 2 %</th>\n",
       "    </tr>\n",
       "    <tr>\n",
       "      <th>reference</th>\n",
       "      <th></th>\n",
       "      <th></th>\n",
       "      <th></th>\n",
       "      <th></th>\n",
       "      <th></th>\n",
       "    </tr>\n",
       "  </thead>\n",
       "  <tbody>\n",
       "    <tr>\n",
       "      <th>85490754</th>\n",
       "      <td>400000.0</td>\n",
       "      <td>389988.15625</td>\n",
       "      <td>10011.84375</td>\n",
       "      <td>2.502961</td>\n",
       "      <td>2.567217</td>\n",
       "    </tr>\n",
       "    <tr>\n",
       "      <th>119328242</th>\n",
       "      <td>369950.0</td>\n",
       "      <td>401767.37500</td>\n",
       "      <td>31817.37500</td>\n",
       "      <td>8.600453</td>\n",
       "      <td>7.919353</td>\n",
       "    </tr>\n",
       "    <tr>\n",
       "      <th>125716790</th>\n",
       "      <td>350000.0</td>\n",
       "      <td>413218.75000</td>\n",
       "      <td>63218.75000</td>\n",
       "      <td>18.062500</td>\n",
       "      <td>15.299100</td>\n",
       "    </tr>\n",
       "    <tr>\n",
       "      <th>122440040</th>\n",
       "      <td>549000.0</td>\n",
       "      <td>531028.43750</td>\n",
       "      <td>17971.56250</td>\n",
       "      <td>3.273509</td>\n",
       "      <td>3.384294</td>\n",
       "    </tr>\n",
       "    <tr>\n",
       "      <th>120508103</th>\n",
       "      <td>495000.0</td>\n",
       "      <td>483484.50000</td>\n",
       "      <td>11515.50000</td>\n",
       "      <td>2.326364</td>\n",
       "      <td>2.381772</td>\n",
       "    </tr>\n",
       "    <tr>\n",
       "      <th>...</th>\n",
       "      <td>...</td>\n",
       "      <td>...</td>\n",
       "      <td>...</td>\n",
       "      <td>...</td>\n",
       "      <td>...</td>\n",
       "    </tr>\n",
       "    <tr>\n",
       "      <th>68620869</th>\n",
       "      <td>475000.0</td>\n",
       "      <td>561181.12500</td>\n",
       "      <td>86181.12500</td>\n",
       "      <td>18.143395</td>\n",
       "      <td>15.357096</td>\n",
       "    </tr>\n",
       "    <tr>\n",
       "      <th>85735665</th>\n",
       "      <td>575000.0</td>\n",
       "      <td>603544.81250</td>\n",
       "      <td>28544.81250</td>\n",
       "      <td>4.964315</td>\n",
       "      <td>4.729527</td>\n",
       "    </tr>\n",
       "    <tr>\n",
       "      <th>125706338</th>\n",
       "      <td>400000.0</td>\n",
       "      <td>422192.75000</td>\n",
       "      <td>22192.75000</td>\n",
       "      <td>5.548188</td>\n",
       "      <td>5.256545</td>\n",
       "    </tr>\n",
       "    <tr>\n",
       "      <th>112739354</th>\n",
       "      <td>450000.0</td>\n",
       "      <td>510987.31250</td>\n",
       "      <td>60987.31250</td>\n",
       "      <td>13.552736</td>\n",
       "      <td>11.935191</td>\n",
       "    </tr>\n",
       "    <tr>\n",
       "      <th>122707001</th>\n",
       "      <td>275000.0</td>\n",
       "      <td>395964.53125</td>\n",
       "      <td>120964.53125</td>\n",
       "      <td>43.987102</td>\n",
       "      <td>30.549335</td>\n",
       "    </tr>\n",
       "  </tbody>\n",
       "</table>\n",
       "<p>4413 rows × 5 columns</p>\n",
       "</div>"
      ],
      "text/plain": [
       "             actual     predicted    difference   diff 1 %   diff 2 %\n",
       "reference                                                            \n",
       "85490754   400000.0  389988.15625   10011.84375   2.502961   2.567217\n",
       "119328242  369950.0  401767.37500   31817.37500   8.600453   7.919353\n",
       "125716790  350000.0  413218.75000   63218.75000  18.062500  15.299100\n",
       "122440040  549000.0  531028.43750   17971.56250   3.273509   3.384294\n",
       "120508103  495000.0  483484.50000   11515.50000   2.326364   2.381772\n",
       "...             ...           ...           ...        ...        ...\n",
       "68620869   475000.0  561181.12500   86181.12500  18.143395  15.357096\n",
       "85735665   575000.0  603544.81250   28544.81250   4.964315   4.729527\n",
       "125706338  400000.0  422192.75000   22192.75000   5.548188   5.256545\n",
       "112739354  450000.0  510987.31250   60987.31250  13.552736  11.935191\n",
       "122707001  275000.0  395964.53125  120964.53125  43.987102  30.549335\n",
       "\n",
       "[4413 rows x 5 columns]"
      ]
     },
     "execution_count": 40,
     "metadata": {},
     "output_type": "execute_result"
    }
   ],
   "source": [
    "compare = np.hstack((y_test_index, y_test, y_pred))\n",
    "compare_df = DataFrame(compare, columns=['reference', 'actual', 'predicted'])\n",
    "compare_df['difference'] = abs(compare_df['actual'] - compare_df['predicted'])\n",
    "compare_df['diff 1 %'] = abs((compare_df['actual'] - compare_df['predicted']) / compare_df['actual'] * 100)\n",
    "compare_df['diff 2 %'] = abs((compare_df['actual'] - compare_df['predicted']) / compare_df['predicted']) * 100\n",
    "compare_df['reference'] = compare_df['reference'].astype(int)\n",
    "compare_df.set_index('reference', inplace=True)\n",
    "compare_df"
   ]
  },
  {
   "cell_type": "code",
   "execution_count": 41,
   "metadata": {
    "execution": {
     "iopub.execute_input": "2022-11-15T20:20:42.791170Z",
     "iopub.status.busy": "2022-11-15T20:20:42.791016Z",
     "iopub.status.idle": "2022-11-15T20:20:42.810805Z",
     "shell.execute_reply": "2022-11-15T20:20:42.810281Z",
     "shell.execute_reply.started": "2022-11-15T20:20:42.791156Z"
    }
   },
   "outputs": [
    {
     "data": {
      "text/html": [
       "<div>\n",
       "<style scoped>\n",
       "    .dataframe tbody tr th:only-of-type {\n",
       "        vertical-align: middle;\n",
       "    }\n",
       "\n",
       "    .dataframe tbody tr th {\n",
       "        vertical-align: top;\n",
       "    }\n",
       "\n",
       "    .dataframe thead th {\n",
       "        text-align: right;\n",
       "    }\n",
       "</style>\n",
       "<table border=\"1\" class=\"dataframe\">\n",
       "  <thead>\n",
       "    <tr style=\"text-align: right;\">\n",
       "      <th></th>\n",
       "      <th>actual</th>\n",
       "      <th>predicted</th>\n",
       "      <th>difference</th>\n",
       "      <th>diff 1 %</th>\n",
       "      <th>diff 2 %</th>\n",
       "      <th>Price</th>\n",
       "      <th>bedrooms</th>\n",
       "      <th>bathrooms</th>\n",
       "      <th>nearestStation</th>\n",
       "      <th>location.latitude</th>\n",
       "      <th>location.longitude</th>\n",
       "      <th>latitude_deviation</th>\n",
       "      <th>longitude_deviation</th>\n",
       "      <th>tenure.tenureType</th>\n",
       "    </tr>\n",
       "  </thead>\n",
       "  <tbody>\n",
       "    <tr>\n",
       "      <th>122265818</th>\n",
       "      <td>160000</td>\n",
       "      <td>575576</td>\n",
       "      <td>415576.18750</td>\n",
       "      <td>259.735117</td>\n",
       "      <td>72.201769</td>\n",
       "      <td>160000</td>\n",
       "      <td>3</td>\n",
       "      <td>1</td>\n",
       "      <td>0.166024</td>\n",
       "      <td>51.510420</td>\n",
       "      <td>-0.037730</td>\n",
       "      <td>0.010700</td>\n",
       "      <td>0.066690</td>\n",
       "      <td>FREEHOLD</td>\n",
       "    </tr>\n",
       "    <tr>\n",
       "      <th>109722224</th>\n",
       "      <td>108000</td>\n",
       "      <td>348507</td>\n",
       "      <td>240507.50000</td>\n",
       "      <td>222.692130</td>\n",
       "      <td>69.010710</td>\n",
       "      <td>108000</td>\n",
       "      <td>1</td>\n",
       "      <td>1</td>\n",
       "      <td>0.302667</td>\n",
       "      <td>51.406803</td>\n",
       "      <td>-0.261328</td>\n",
       "      <td>0.092917</td>\n",
       "      <td>0.156908</td>\n",
       "      <td>LEASEHOLD</td>\n",
       "    </tr>\n",
       "    <tr>\n",
       "      <th>85667184</th>\n",
       "      <td>122000</td>\n",
       "      <td>324865</td>\n",
       "      <td>202865.43750</td>\n",
       "      <td>166.283145</td>\n",
       "      <td>62.445990</td>\n",
       "      <td>122000</td>\n",
       "      <td>1</td>\n",
       "      <td>1</td>\n",
       "      <td>0.838896</td>\n",
       "      <td>51.540462</td>\n",
       "      <td>-0.280301</td>\n",
       "      <td>0.040742</td>\n",
       "      <td>0.175881</td>\n",
       "      <td>LEASEHOLD</td>\n",
       "    </tr>\n",
       "    <tr>\n",
       "      <th>83639617</th>\n",
       "      <td>190000</td>\n",
       "      <td>458307</td>\n",
       "      <td>268307.62500</td>\n",
       "      <td>141.214539</td>\n",
       "      <td>58.543129</td>\n",
       "      <td>190000</td>\n",
       "      <td>2</td>\n",
       "      <td>2</td>\n",
       "      <td>0.162816</td>\n",
       "      <td>51.491264</td>\n",
       "      <td>0.064660</td>\n",
       "      <td>0.008456</td>\n",
       "      <td>0.169080</td>\n",
       "      <td>LEASEHOLD</td>\n",
       "    </tr>\n",
       "    <tr>\n",
       "      <th>119684411</th>\n",
       "      <td>200000</td>\n",
       "      <td>432106</td>\n",
       "      <td>232106.00000</td>\n",
       "      <td>116.053000</td>\n",
       "      <td>53.715061</td>\n",
       "      <td>200000</td>\n",
       "      <td>2</td>\n",
       "      <td>1</td>\n",
       "      <td>0.511626</td>\n",
       "      <td>51.518081</td>\n",
       "      <td>-0.029340</td>\n",
       "      <td>0.018361</td>\n",
       "      <td>0.075080</td>\n",
       "      <td>LEASEHOLD</td>\n",
       "    </tr>\n",
       "    <tr>\n",
       "      <th>...</th>\n",
       "      <td>...</td>\n",
       "      <td>...</td>\n",
       "      <td>...</td>\n",
       "      <td>...</td>\n",
       "      <td>...</td>\n",
       "      <td>...</td>\n",
       "      <td>...</td>\n",
       "      <td>...</td>\n",
       "      <td>...</td>\n",
       "      <td>...</td>\n",
       "      <td>...</td>\n",
       "      <td>...</td>\n",
       "      <td>...</td>\n",
       "      <td>...</td>\n",
       "    </tr>\n",
       "    <tr>\n",
       "      <th>121566617</th>\n",
       "      <td>475000</td>\n",
       "      <td>475175</td>\n",
       "      <td>175.50000</td>\n",
       "      <td>0.036947</td>\n",
       "      <td>0.036934</td>\n",
       "      <td>475000</td>\n",
       "      <td>3</td>\n",
       "      <td>2</td>\n",
       "      <td>0.878333</td>\n",
       "      <td>51.555374</td>\n",
       "      <td>0.124571</td>\n",
       "      <td>0.055654</td>\n",
       "      <td>0.228991</td>\n",
       "      <td>FREEHOLD</td>\n",
       "    </tr>\n",
       "    <tr>\n",
       "      <th>124334378</th>\n",
       "      <td>275000</td>\n",
       "      <td>274914</td>\n",
       "      <td>85.65625</td>\n",
       "      <td>0.031148</td>\n",
       "      <td>0.031157</td>\n",
       "      <td>275000</td>\n",
       "      <td>2</td>\n",
       "      <td>1</td>\n",
       "      <td>0.536483</td>\n",
       "      <td>51.464600</td>\n",
       "      <td>0.178990</td>\n",
       "      <td>0.035120</td>\n",
       "      <td>0.283410</td>\n",
       "      <td>LEASEHOLD</td>\n",
       "    </tr>\n",
       "    <tr>\n",
       "      <th>122230931</th>\n",
       "      <td>450000</td>\n",
       "      <td>449886</td>\n",
       "      <td>113.93750</td>\n",
       "      <td>0.025319</td>\n",
       "      <td>0.025326</td>\n",
       "      <td>450000</td>\n",
       "      <td>1</td>\n",
       "      <td>1</td>\n",
       "      <td>0.209250</td>\n",
       "      <td>51.527930</td>\n",
       "      <td>-0.118580</td>\n",
       "      <td>0.028210</td>\n",
       "      <td>0.014160</td>\n",
       "      <td>LEASEHOLD</td>\n",
       "    </tr>\n",
       "    <tr>\n",
       "      <th>119431358</th>\n",
       "      <td>550000</td>\n",
       "      <td>549938</td>\n",
       "      <td>62.00000</td>\n",
       "      <td>0.011273</td>\n",
       "      <td>0.011274</td>\n",
       "      <td>550000</td>\n",
       "      <td>4</td>\n",
       "      <td>3</td>\n",
       "      <td>0.335249</td>\n",
       "      <td>51.392370</td>\n",
       "      <td>-0.075908</td>\n",
       "      <td>0.107350</td>\n",
       "      <td>0.028512</td>\n",
       "      <td>FREEHOLD</td>\n",
       "    </tr>\n",
       "    <tr>\n",
       "      <th>121401242</th>\n",
       "      <td>375000</td>\n",
       "      <td>375016</td>\n",
       "      <td>16.12500</td>\n",
       "      <td>0.004300</td>\n",
       "      <td>0.004300</td>\n",
       "      <td>375000</td>\n",
       "      <td>1</td>\n",
       "      <td>1</td>\n",
       "      <td>0.296031</td>\n",
       "      <td>51.482936</td>\n",
       "      <td>-0.017570</td>\n",
       "      <td>0.016784</td>\n",
       "      <td>0.086850</td>\n",
       "      <td>LEASEHOLD</td>\n",
       "    </tr>\n",
       "  </tbody>\n",
       "</table>\n",
       "<p>4413 rows × 14 columns</p>\n",
       "</div>"
      ],
      "text/plain": [
       "           actual  predicted    difference    diff 1 %   diff 2 %   Price  \\\n",
       "122265818  160000     575576  415576.18750  259.735117  72.201769  160000   \n",
       "109722224  108000     348507  240507.50000  222.692130  69.010710  108000   \n",
       "85667184   122000     324865  202865.43750  166.283145  62.445990  122000   \n",
       "83639617   190000     458307  268307.62500  141.214539  58.543129  190000   \n",
       "119684411  200000     432106  232106.00000  116.053000  53.715061  200000   \n",
       "...           ...        ...           ...         ...        ...     ...   \n",
       "121566617  475000     475175     175.50000    0.036947   0.036934  475000   \n",
       "124334378  275000     274914      85.65625    0.031148   0.031157  275000   \n",
       "122230931  450000     449886     113.93750    0.025319   0.025326  450000   \n",
       "119431358  550000     549938      62.00000    0.011273   0.011274  550000   \n",
       "121401242  375000     375016      16.12500    0.004300   0.004300  375000   \n",
       "\n",
       "           bedrooms  bathrooms  nearestStation  location.latitude  \\\n",
       "122265818         3          1        0.166024          51.510420   \n",
       "109722224         1          1        0.302667          51.406803   \n",
       "85667184          1          1        0.838896          51.540462   \n",
       "83639617          2          2        0.162816          51.491264   \n",
       "119684411         2          1        0.511626          51.518081   \n",
       "...             ...        ...             ...                ...   \n",
       "121566617         3          2        0.878333          51.555374   \n",
       "124334378         2          1        0.536483          51.464600   \n",
       "122230931         1          1        0.209250          51.527930   \n",
       "119431358         4          3        0.335249          51.392370   \n",
       "121401242         1          1        0.296031          51.482936   \n",
       "\n",
       "           location.longitude  latitude_deviation  longitude_deviation  \\\n",
       "122265818           -0.037730            0.010700             0.066690   \n",
       "109722224           -0.261328            0.092917             0.156908   \n",
       "85667184            -0.280301            0.040742             0.175881   \n",
       "83639617             0.064660            0.008456             0.169080   \n",
       "119684411           -0.029340            0.018361             0.075080   \n",
       "...                       ...                 ...                  ...   \n",
       "121566617            0.124571            0.055654             0.228991   \n",
       "124334378            0.178990            0.035120             0.283410   \n",
       "122230931           -0.118580            0.028210             0.014160   \n",
       "119431358           -0.075908            0.107350             0.028512   \n",
       "121401242           -0.017570            0.016784             0.086850   \n",
       "\n",
       "          tenure.tenureType  \n",
       "122265818          FREEHOLD  \n",
       "109722224         LEASEHOLD  \n",
       "85667184          LEASEHOLD  \n",
       "83639617          LEASEHOLD  \n",
       "119684411         LEASEHOLD  \n",
       "...                     ...  \n",
       "121566617          FREEHOLD  \n",
       "124334378         LEASEHOLD  \n",
       "122230931         LEASEHOLD  \n",
       "119431358          FREEHOLD  \n",
       "121401242         LEASEHOLD  \n",
       "\n",
       "[4413 rows x 14 columns]"
      ]
     },
     "execution_count": 41,
     "metadata": {},
     "output_type": "execute_result"
    }
   ],
   "source": [
    "combined = compare_df.merge(df[columns], how='inner', left_index=True, right_index=True).sort_values(['diff 1 %'], ascending=False)\n",
    "#pd.options.display.float_format = '{:.4f}'.format\n",
    "combined[['predicted','actual','Price','bedrooms','bathrooms']] = combined[['predicted','actual','Price','bedrooms','bathrooms']].astype(int)\n",
    "combined['bedrooms'] = combined['bedrooms'].astype(int)\n",
    "combined"
   ]
  },
  {
   "cell_type": "code",
   "execution_count": 42,
   "metadata": {
    "execution": {
     "iopub.execute_input": "2022-11-15T20:20:42.811733Z",
     "iopub.status.busy": "2022-11-15T20:20:42.811555Z",
     "iopub.status.idle": "2022-11-15T20:20:42.853100Z",
     "shell.execute_reply": "2022-11-15T20:20:42.852596Z",
     "shell.execute_reply.started": "2022-11-15T20:20:42.811718Z"
    }
   },
   "outputs": [
    {
     "data": {
      "text/plain": [
       "0.5759069280910043"
      ]
     },
     "execution_count": 42,
     "metadata": {},
     "output_type": "execute_result"
    }
   ],
   "source": [
    "score = best_estimator_pipe.score(X_test, y_test)\n",
    "score"
   ]
  },
  {
   "cell_type": "code",
   "execution_count": 43,
   "metadata": {
    "execution": {
     "iopub.execute_input": "2022-11-15T20:20:42.855341Z",
     "iopub.status.busy": "2022-11-15T20:20:42.854915Z",
     "iopub.status.idle": "2022-11-15T20:20:42.859654Z",
     "shell.execute_reply": "2022-11-15T20:20:42.859053Z",
     "shell.execute_reply.started": "2022-11-15T20:20:42.855322Z"
    }
   },
   "outputs": [
    {
     "data": {
      "text/plain": [
       "0.5759069280910043"
      ]
     },
     "execution_count": 43,
     "metadata": {},
     "output_type": "execute_result"
    }
   ],
   "source": [
    "r2_score(y_test, y_pred)"
   ]
  },
  {
   "cell_type": "code",
   "execution_count": 44,
   "metadata": {
    "execution": {
     "iopub.execute_input": "2022-11-15T20:20:42.860795Z",
     "iopub.status.busy": "2022-11-15T20:20:42.860626Z",
     "iopub.status.idle": "2022-11-15T20:20:42.999795Z",
     "shell.execute_reply": "2022-11-15T20:20:42.999204Z",
     "shell.execute_reply.started": "2022-11-15T20:20:42.860781Z"
    }
   },
   "outputs": [
    {
     "data": {
      "image/png": "[encoded data removed]",
      "text/plain": [
       "<Figure size 432x288 with 1 Axes>"
      ]
     },
     "metadata": {
      "needs_background": "light"
     },
     "output_type": "display_data"
    }
   ],
   "source": [
    "fig, ax = plt.subplots()\n",
    "ax.scatter(y_test, best_estimator_pipe.predict(X_test), edgecolors=(0, 0, 1))\n",
    "ax.plot([y_test.min(), y_test.max()], [y_test.min(), y_test.max()], 'r--', lw=3)\n",
    "ax.set_ylabel('Predicted')\n",
    "ax.set_xlabel('Actual')\n",
    "#ax.title.set_text(f'CV Chosen best option ({calculated_best_pipe[1]})')\n",
    "plt.show()"
   ]
  },
  {
   "cell_type": "code",
   "execution_count": 53,
   "metadata": {
    "execution": {
     "iopub.execute_input": "2022-11-15T20:22:26.624893Z",
     "iopub.status.busy": "2022-11-15T20:22:26.624240Z",
     "iopub.status.idle": "2022-11-15T20:25:16.737236Z",
     "shell.execute_reply": "2022-11-15T20:25:16.736617Z",
     "shell.execute_reply.started": "2022-11-15T20:22:26.624893Z"
    }
   },
   "outputs": [
    {
     "name": "stdout",
     "output_type": "stream",
     "text": [
      "WARNING: Did not produce three or more results\n",
      "0 ==> 0\n",
      "1 ==> 1\n",
      "{'model__batch_size': 2112, 'model__epochs': 2000, 'model__loss': 'mse', 'model__model__activation': 'relu', 'model__model__initializer': 'normal', 'model__optimizer': 'adam', 'model__verbose': 0}\n",
      "-1 ==> -1\n",
      "{'model__batch_size': 2112, 'model__epochs': 2000, 'model__loss': 'mse', 'model__model__activation': 'relu', 'model__model__initializer': 'normal', 'model__optimizer': 'adam', 'model__verbose': 0}\n"
     ]
    }
   ],
   "source": [
    "def custom_model_and_predictions(model, graph_params, X_train, y_train, X_test):\n",
    "    graph_model = model\n",
    "    graph_model.set_params(**graph_params)\n",
    "    graph_model.fit(X_train, y_train)\n",
    "    y_pred_graph = model.predict(X_test)\n",
    "\n",
    "    return model, y_pred_graph\n",
    "\n",
    "\n",
    "best_model_count = 10 if not quick_mode else 2\n",
    "best_model_count = 3 if not quick_mode else 1\n",
    "best_models = {}\n",
    "best_model_predictions = {}\n",
    "best_model_scores = {}\n",
    "\n",
    "showable_increment = total_fits // 4 if not quick_mode else 2\n",
    "\n",
    "if showable_increment == 0:\n",
    "    print(\"WARNING: Did not produce three or more results\")\n",
    "    showable_increment = 1\n",
    "    \n",
    "for i in range(0, total_fits, showable_increment):\n",
    "    if debug_mode or True: print(f'{i} ==> {i}')\n",
    "\n",
    "    if i == 0:\n",
    "        fitted_graph_model = crossval_runner.best_estimator_\n",
    "        y_pred_graph = y_pred\n",
    "    else:\n",
    "        graph_pipe_params = cv_results_df_sorted['params'][i]\n",
    "        print (graph_pipe_params)\n",
    "        # would always return the best! graph_pipe_params = cv_results_df_sorted.loc[cv_results_df_sorted['rank_test_score'] == 1, 'params'].values[0]\n",
    "\n",
    "        graph_params = {}\n",
    "        for key, value in graph_pipe_params.items():\n",
    "            graph_params[key.replace('model__', '')] = value\n",
    "\n",
    "        fitted_graph_model, y_pred_graph = custom_model_and_predictions(starter_pipe, graph_pipe_params, X_train,\n",
    "                                                                        y_train, X_test)\n",
    "\n",
    "    best_models[i] = fitted_graph_model[-1].get_params()\n",
    "    best_model_predictions[i] = y_pred_graph\n",
    "    best_model_scores[i] = fitted_graph_model.score(X_test, y_test)\n",
    "\n",
    "if debug_mode or True: print(f'{-1} ==> {-1}')\n",
    "graph_pipe_params = cv_results_df_sorted['params'][total_fits - 1]\n",
    "print (graph_pipe_params)\n",
    "graph_params = {}\n",
    "for key, value in graph_pipe_params.items():\n",
    "    graph_params[key.replace('model__', '')] = value\n",
    "fitted_graph_model, y_pred_graph = custom_model_and_predictions(starter_pipe, graph_pipe_params, X_train,\n",
    "                                                                y_train, X_test)\n",
    "best_models[-1] = fitted_graph_model[-1].get_params()\n",
    "best_model_predictions[-1] = y_pred_graph\n",
    "best_model_scores[-1] = fitted_graph_model.score(X_test, y_test)\n"
   ]
  },
  {
   "cell_type": "code",
   "execution_count": 54,
   "metadata": {
    "execution": {
     "iopub.execute_input": "2022-11-15T20:25:16.741240Z",
     "iopub.status.busy": "2022-11-15T20:25:16.740583Z",
     "iopub.status.idle": "2022-11-15T20:25:16.747955Z",
     "shell.execute_reply": "2022-11-15T20:25:16.747505Z",
     "shell.execute_reply.started": "2022-11-15T20:25:16.741225Z"
    }
   },
   "outputs": [
    {
     "data": {
      "text/html": [
       "<div>\n",
       "<style scoped>\n",
       "    .dataframe tbody tr th:only-of-type {\n",
       "        vertical-align: middle;\n",
       "    }\n",
       "\n",
       "    .dataframe tbody tr th {\n",
       "        vertical-align: top;\n",
       "    }\n",
       "\n",
       "    .dataframe thead th {\n",
       "        text-align: right;\n",
       "    }\n",
       "</style>\n",
       "<table border=\"1\" class=\"dataframe\">\n",
       "  <thead>\n",
       "    <tr style=\"text-align: right;\">\n",
       "      <th></th>\n",
       "      <th>params2</th>\n",
       "      <th>rank_test_score</th>\n",
       "      <th>mean_test_score</th>\n",
       "      <th>mean_fit_time</th>\n",
       "      <th>mean_score_time</th>\n",
       "      <th>params</th>\n",
       "    </tr>\n",
       "  </thead>\n",
       "  <tbody>\n",
       "    <tr>\n",
       "      <th>0</th>\n",
       "      <td>2112/1000/mse/relu/normal/adam/0</td>\n",
       "      <td>1</td>\n",
       "      <td>0.574934</td>\n",
       "      <td>31.472464</td>\n",
       "      <td>0.078428</td>\n",
       "      <td>{'model__batch_size': 2112, 'model__epochs': 1...</td>\n",
       "    </tr>\n",
       "    <tr>\n",
       "      <th>1</th>\n",
       "      <td>2112/2000/mse/relu/normal/adam/0</td>\n",
       "      <td>2</td>\n",
       "      <td>0.562888</td>\n",
       "      <td>73.012142</td>\n",
       "      <td>0.093568</td>\n",
       "      <td>{'model__batch_size': 2112, 'model__epochs': 2...</td>\n",
       "    </tr>\n",
       "  </tbody>\n",
       "</table>\n",
       "</div>"
      ],
      "text/plain": [
       "                            params2  rank_test_score  mean_test_score  \\\n",
       "0  2112/1000/mse/relu/normal/adam/0                1         0.574934   \n",
       "1  2112/2000/mse/relu/normal/adam/0                2         0.562888   \n",
       "\n",
       "   mean_fit_time  mean_score_time  \\\n",
       "0      31.472464         0.078428   \n",
       "1      73.012142         0.093568   \n",
       "\n",
       "                                              params  \n",
       "0  {'model__batch_size': 2112, 'model__epochs': 1...  \n",
       "1  {'model__batch_size': 2112, 'model__epochs': 2...  "
      ]
     },
     "execution_count": 54,
     "metadata": {},
     "output_type": "execute_result"
    }
   ],
   "source": [
    "cv_results_df_sorted"
   ]
  },
  {
   "cell_type": "code",
   "execution_count": 55,
   "metadata": {
    "execution": {
     "iopub.execute_input": "2022-11-15T20:25:16.749241Z",
     "iopub.status.busy": "2022-11-15T20:25:16.748589Z",
     "iopub.status.idle": "2022-11-15T20:25:16.753176Z",
     "shell.execute_reply": "2022-11-15T20:25:16.752619Z",
     "shell.execute_reply.started": "2022-11-15T20:25:16.749222Z"
    }
   },
   "outputs": [
    {
     "data": {
      "text/plain": [
       "0    {'model__batch_size': 2112, 'model__epochs': 1...\n",
       "1    {'model__batch_size': 2112, 'model__epochs': 2...\n",
       "Name: params, dtype: object"
      ]
     },
     "execution_count": 55,
     "metadata": {},
     "output_type": "execute_result"
    }
   ],
   "source": [
    "cv_results_df_sorted['params']"
   ]
  },
  {
   "cell_type": "code",
   "execution_count": 56,
   "metadata": {
    "execution": {
     "iopub.execute_input": "2022-11-15T20:25:16.755334Z",
     "iopub.status.busy": "2022-11-15T20:25:16.754678Z",
     "iopub.status.idle": "2022-11-15T20:25:16.758393Z",
     "shell.execute_reply": "2022-11-15T20:25:16.758002Z",
     "shell.execute_reply.started": "2022-11-15T20:25:16.755307Z"
    }
   },
   "outputs": [
    {
     "data": {
      "text/plain": [
       "2"
      ]
     },
     "execution_count": 56,
     "metadata": {},
     "output_type": "execute_result"
    }
   ],
   "source": [
    "total_fits"
   ]
  },
  {
   "cell_type": "code",
   "execution_count": 57,
   "metadata": {
    "execution": {
     "iopub.execute_input": "2022-11-15T20:25:16.759627Z",
     "iopub.status.busy": "2022-11-15T20:25:16.759096Z",
     "iopub.status.idle": "2022-11-15T20:25:16.763505Z",
     "shell.execute_reply": "2022-11-15T20:25:16.763080Z",
     "shell.execute_reply.started": "2022-11-15T20:25:16.759619Z"
    }
   },
   "outputs": [
    {
     "data": {
      "text/plain": [
       "{0: {'model': <function __main__.make_regression_ann(initializer='uniform', activation='relu', optimizer='adam', loss='mse')>,\n",
       "  'build_fn': None,\n",
       "  'warm_start': False,\n",
       "  'random_state': None,\n",
       "  'optimizer': 'adam',\n",
       "  'loss': 'mse',\n",
       "  'metrics': None,\n",
       "  'batch_size': 2112,\n",
       "  'validation_batch_size': None,\n",
       "  'verbose': 0,\n",
       "  'callbacks': None,\n",
       "  'validation_split': 0.0,\n",
       "  'shuffle': True,\n",
       "  'run_eagerly': False,\n",
       "  'epochs': 1000,\n",
       "  'model__activation': 'relu',\n",
       "  'model__initializer': 'normal'},\n",
       " 1: {'model': <function __main__.make_regression_ann(initializer='uniform', activation='relu', optimizer='adam', loss='mse')>,\n",
       "  'build_fn': None,\n",
       "  'warm_start': False,\n",
       "  'random_state': None,\n",
       "  'optimizer': 'adam',\n",
       "  'loss': 'mse',\n",
       "  'metrics': None,\n",
       "  'batch_size': 2112,\n",
       "  'validation_batch_size': None,\n",
       "  'verbose': 0,\n",
       "  'callbacks': None,\n",
       "  'validation_split': 0.0,\n",
       "  'shuffle': True,\n",
       "  'run_eagerly': False,\n",
       "  'epochs': 2000,\n",
       "  'model__activation': 'relu',\n",
       "  'model__initializer': 'normal'},\n",
       " -1: {'model': <function __main__.make_regression_ann(initializer='uniform', activation='relu', optimizer='adam', loss='mse')>,\n",
       "  'build_fn': None,\n",
       "  'warm_start': False,\n",
       "  'random_state': None,\n",
       "  'optimizer': 'adam',\n",
       "  'loss': 'mse',\n",
       "  'metrics': None,\n",
       "  'batch_size': 2112,\n",
       "  'validation_batch_size': None,\n",
       "  'verbose': 0,\n",
       "  'callbacks': None,\n",
       "  'validation_split': 0.0,\n",
       "  'shuffle': True,\n",
       "  'run_eagerly': False,\n",
       "  'epochs': 2000,\n",
       "  'model__activation': 'relu',\n",
       "  'model__initializer': 'normal'}}"
      ]
     },
     "execution_count": 57,
     "metadata": {},
     "output_type": "execute_result"
    }
   ],
   "source": [
    "best_models"
   ]
  },
  {
   "cell_type": "code",
   "execution_count": 58,
   "metadata": {
    "execution": {
     "iopub.execute_input": "2022-11-15T20:25:16.764616Z",
     "iopub.status.busy": "2022-11-15T20:25:16.764108Z",
     "iopub.status.idle": "2022-11-15T20:25:17.011244Z",
     "shell.execute_reply": "2022-11-15T20:25:17.010771Z",
     "shell.execute_reply.started": "2022-11-15T20:25:16.764598Z"
    }
   },
   "outputs": [
    {
     "data": {
      "image/png": "[encoded data removed]",
      "text/plain": [
       "<Figure size 432x288 with 1 Axes>"
      ]
     },
     "metadata": {
      "needs_background": "light"
     },
     "output_type": "display_data"
    },
    {
     "data": {
      "image/png": "[encoded data removed]",
      "text/plain": [
       "<Figure size 432x288 with 1 Axes>"
      ]
     },
     "metadata": {
      "needs_background": "light"
     },
     "output_type": "display_data"
    },
    {
     "data": {
      "image/png": "[encoded data removed]",
      "text/plain": [
       "<Figure size 432x288 with 1 Axes>"
      ]
     },
     "metadata": {
      "needs_background": "light"
     },
     "output_type": "display_data"
    }
   ],
   "source": [
    "for i in best_model_scores.keys():\n",
    "    if i >= 0:\n",
    "        plt.plot([y_test.min(), y_test.max()], [y_test.min(), y_test.max()], 'r--', lw=3)\n",
    "        plt.scatter(y_test, best_model_predictions[i])\n",
    "        # plt.title(str(i) + \" \" + str(round(best_model_scores[i], 4)) + \" for \" + str(best_models[i]))\n",
    "        plt.title(str(i) + \" \" + str(round(best_model_scores[i], 4)) + \" for entry \" + str(i))\n",
    "        plt.show()\n",
    "\n",
    "plt.plot([y_test.min(), y_test.max()], [y_test.min(), y_test.max()], 'r--', lw=3)\n",
    "plt.scatter(y_test, best_model_predictions[-1])\n",
    "# plt.title(str(i) + \" \" + str(round(best_model_scores[i], 4)) + \" for \" + str(best_models[i]))\n",
    "plt.title(str(i) + \" \" + str(round(best_model_scores[-1], 4)) + \" for (worst) entry \" + str(i))\n",
    "plt.show()"
   ]
  },
  {
   "cell_type": "code",
   "execution_count": 59,
   "metadata": {
    "execution": {
     "iopub.execute_input": "2022-11-15T20:25:17.012223Z",
     "iopub.status.busy": "2022-11-15T20:25:17.012029Z",
     "iopub.status.idle": "2022-11-15T20:25:17.435697Z",
     "shell.execute_reply": "2022-11-15T20:25:17.435047Z",
     "shell.execute_reply.started": "2022-11-15T20:25:17.012210Z"
    }
   },
   "outputs": [
    {
     "data": {
      "image/png": "[encoded data removed]",
      "text/plain": [
       "<Figure size 1080x360 with 3 Axes>"
      ]
     },
     "metadata": {},
     "output_type": "display_data"
    }
   ],
   "source": [
    "if True:\n",
    "    sns.set_theme(font_scale=2, rc=None)\n",
    "    sns.set_theme(font_scale=1, rc=None)\n",
    "\n",
    "    fig, axes = plt.subplots(ncols=3, figsize=(15, 5))\n",
    "\n",
    "    plt.subplots_adjust(hspace=0.2)\n",
    "    plt.subplots_adjust(wspace=0.2)\n",
    "\n",
    "    #.flatten()\n",
    "    coordinates = axes[0]\n",
    "    sns.lineplot(x=[y_test.min(), y_test.max()], y=[y_test.min(), y_test.max()], ax=axes[0], color='red')\n",
    "    sns.scatterplot(x=y_test.flatten(), y=best_model_predictions[0].flatten(), ax=axes[0],\n",
    "                    s=100).set(title=f'\"BEST\" model')\n",
    "\n",
    "    sns.lineplot(x=[y_test.min(), y_test.max()], y=[y_test.min(), y_test.max()], ax=axes[1], color='red')\n",
    "    sns.scatterplot(x=y_test.flatten(), y=best_model_predictions[-1].flatten(), ax=axes[1],\n",
    "                    s=100).set(title=f'\"WORST\" model')\n",
    "\n",
    "    sns.lineplot(x=[y_test.min(), y_test.max()], y=[y_test.min(), y_test.max()], ax=axes[2], color='red')\n",
    "    sns.scatterplot(x=y_test.flatten(), y=best_model_predictions[-1].flatten(), ax=axes[2],\n",
    "                    s=120, color='orange')\n",
    "    sns.scatterplot(x=y_test.flatten(), y=best_model_predictions[0].flatten(), ax=axes[2],\n",
    "                    s=30, alpha=0.6, color='black').set(\n",
    "        title='best (black) vs worst (orange)')\n",
    "    #title='best (orange) vs worst (black)')\n",
    "\n",
    "    fig.tight_layout()\n",
    "    plt.show()"
   ]
  },
  {
   "cell_type": "code",
   "execution_count": 60,
   "metadata": {
    "execution": {
     "iopub.execute_input": "2022-11-15T20:25:17.436744Z",
     "iopub.status.busy": "2022-11-15T20:25:17.436542Z",
     "iopub.status.idle": "2022-11-15T20:25:17.441718Z",
     "shell.execute_reply": "2022-11-15T20:25:17.441028Z",
     "shell.execute_reply.started": "2022-11-15T20:25:17.436727Z"
    }
   },
   "outputs": [
    {
     "data": {
      "text/plain": [
       "31.472463846206665"
      ]
     },
     "execution_count": 60,
     "metadata": {},
     "output_type": "execute_result"
    }
   ],
   "source": [
    "cv_best_model_fit_time = cv_results_df_sorted.iloc[0][\"mean_fit_time\"]\n",
    "#cv_best_model_fit_time = cv_results_df_sorted.iloc[0][\"mean_fit_time\"]\n",
    "cv_best_model_fit_time"
   ]
  },
  {
   "cell_type": "code",
   "execution_count": 61,
   "metadata": {
    "execution": {
     "iopub.execute_input": "2022-11-15T20:25:17.443561Z",
     "iopub.status.busy": "2022-11-15T20:25:17.443257Z",
     "iopub.status.idle": "2022-11-15T20:25:19.369754Z",
     "shell.execute_reply": "2022-11-15T20:25:19.369120Z",
     "shell.execute_reply.started": "2022-11-15T20:25:17.443548Z"
    }
   },
   "outputs": [
    {
     "name": "stdout",
     "output_type": "stream",
     "text": [
      "neural network - grid search [input11, d^20-500-500-20-5, dense1] (v06) True\n"
     ]
    }
   ],
   "source": [
    "# <catboost.core.CatBoostRegressor object at 0x7fb167387490>\n",
    "# {'depth': 6}\n",
    "# defaultdict(<class 'list'>, {'iterations': [0, 1, 2],\n",
    "# 'test-RMSE-mean': [396884.9605444017, 359548.6632536235, 326027.84885587444],\n",
    "# 'test-RMSE-std': [308.9495320039113, 260.0967808594464, 219.65856329246023],\n",
    "# 'train-RMSE-mean': [396884.77936957515, 359542.3612912551, 326018.9404460669],\n",
    "# 'train-RMSE-std': [91.44140078375503, 86.77961380623475, 69.4038638987425]})\n",
    "\n",
    "cv_best_model_fit_time = cv_results_df_sorted.iloc[0][\"mean_fit_time\"] if not_catboost else 999\n",
    "\n",
    "DD2 = \"(\" + \",\".join(DATA_DETAIL) + \")\" if len(DATA_DETAIL) >= 1 else \"\"\n",
    "key = f'{ALGORITHM} - {ALGORITHM_DETAIL}{DD2} (v{VERSION})'.lower()\n",
    "\n",
    "results = {\n",
    "    '_score': score,\n",
    "    'R square Accuracy': R2,\n",
    "    'Mean Absolute Error Accuracy': MAE,\n",
    "    'Mean Squared Error Accuracy': MSE,\n",
    "    'Root Mean Squared Error': RMSE,\n",
    "    '_train time': cv_best_model_fit_time,\n",
    "    'random_state': RANDOM_STATE,\n",
    "    'date': str(datetime.now()),\n",
    "    '_params': crossval_runner.best_params_ if not_catboost else cat_params,\n",
    "    'run_env': run_env\n",
    "}\n",
    "\n",
    "if run_env not in ['colab']:\n",
    "    results_json = get_results()\n",
    "    this_model_is_best = update_results(results_json, results, key)\n",
    "\n",
    "print(key, this_model_is_best, )"
   ]
  },
  {
   "cell_type": "code",
   "execution_count": 62,
   "metadata": {
    "execution": {
     "iopub.execute_input": "2022-11-15T20:25:19.371976Z",
     "iopub.status.busy": "2022-11-15T20:25:19.371737Z",
     "iopub.status.idle": "2022-11-15T20:25:19.378940Z",
     "shell.execute_reply": "2022-11-15T20:25:19.378369Z",
     "shell.execute_reply.started": "2022-11-15T20:25:19.371957Z"
    }
   },
   "outputs": [
    {
     "data": {
      "text/html": [
       "<style>#sk-container-id-2 {color: black;background-color: white;}#sk-container-id-2 pre{padding: 0;}#sk-container-id-2 div.sk-toggleable {background-color: white;}#sk-container-id-2 label.sk-toggleable__label {cursor: pointer;display: block;width: 100%;margin-bottom: 0;padding: 0.3em;box-sizing: border-box;text-align: center;}#sk-container-id-2 label.sk-toggleable__label-arrow:before {content: \"▸\";float: left;margin-right: 0.25em;color: #696969;}#sk-container-id-2 label.sk-toggleable__label-arrow:hover:before {color: black;}#sk-container-id-2 div.sk-estimator:hover label.sk-toggleable__label-arrow:before {color: black;}#sk-container-id-2 div.sk-toggleable__content {max-height: 0;max-width: 0;overflow: hidden;text-align: left;background-color: #f0f8ff;}#sk-container-id-2 div.sk-toggleable__content pre {margin: 0.2em;color: black;border-radius: 0.25em;background-color: #f0f8ff;}#sk-container-id-2 input.sk-toggleable__control:checked~div.sk-toggleable__content {max-height: 200px;max-width: 100%;overflow: auto;}#sk-container-id-2 input.sk-toggleable__control:checked~label.sk-toggleable__label-arrow:before {content: \"▾\";}#sk-container-id-2 div.sk-estimator input.sk-toggleable__control:checked~label.sk-toggleable__label {background-color: #d4ebff;}#sk-container-id-2 div.sk-label input.sk-toggleable__control:checked~label.sk-toggleable__label {background-color: #d4ebff;}#sk-container-id-2 input.sk-hidden--visually {border: 0;clip: rect(1px 1px 1px 1px);clip: rect(1px, 1px, 1px, 1px);height: 1px;margin: -1px;overflow: hidden;padding: 0;position: absolute;width: 1px;}#sk-container-id-2 div.sk-estimator {font-family: monospace;background-color: #f0f8ff;border: 1px dotted black;border-radius: 0.25em;box-sizing: border-box;margin-bottom: 0.5em;}#sk-container-id-2 div.sk-estimator:hover {background-color: #d4ebff;}#sk-container-id-2 div.sk-parallel-item::after {content: \"\";width: 100%;border-bottom: 1px solid gray;flex-grow: 1;}#sk-container-id-2 div.sk-label:hover label.sk-toggleable__label {background-color: #d4ebff;}#sk-container-id-2 div.sk-serial::before {content: \"\";position: absolute;border-left: 1px solid gray;box-sizing: border-box;top: 0;bottom: 0;left: 50%;z-index: 0;}#sk-container-id-2 div.sk-serial {display: flex;flex-direction: column;align-items: center;background-color: white;padding-right: 0.2em;padding-left: 0.2em;position: relative;}#sk-container-id-2 div.sk-item {position: relative;z-index: 1;}#sk-container-id-2 div.sk-parallel {display: flex;align-items: stretch;justify-content: center;background-color: white;position: relative;}#sk-container-id-2 div.sk-item::before, #sk-container-id-2 div.sk-parallel-item::before {content: \"\";position: absolute;border-left: 1px solid gray;box-sizing: border-box;top: 0;bottom: 0;left: 50%;z-index: -1;}#sk-container-id-2 div.sk-parallel-item {display: flex;flex-direction: column;z-index: 1;position: relative;background-color: white;}#sk-container-id-2 div.sk-parallel-item:first-child::after {align-self: flex-end;width: 50%;}#sk-container-id-2 div.sk-parallel-item:last-child::after {align-self: flex-start;width: 50%;}#sk-container-id-2 div.sk-parallel-item:only-child::after {width: 0;}#sk-container-id-2 div.sk-dashed-wrapped {border: 1px dashed gray;margin: 0 0.4em 0.5em 0.4em;box-sizing: border-box;padding-bottom: 0.4em;background-color: white;}#sk-container-id-2 div.sk-label label {font-family: monospace;font-weight: bold;display: inline-block;line-height: 1.2em;}#sk-container-id-2 div.sk-label-container {text-align: center;}#sk-container-id-2 div.sk-container {/* jupyter's `normalize.less` sets `[hidden] { display: none; }` but bootstrap.min.css set `[hidden] { display: none !important; }` so we also need the `!important` here to be able to override the default hidden behavior on the sphinx rendered scikit-learn.org. See: https://github.com/scikit-learn/scikit-learn/issues/21755 */display: inline-block !important;position: relative;}#sk-container-id-2 div.sk-text-repr-fallback {display: none;}</style><div id=\"sk-container-id-2\" class=\"sk-top-container\"><div class=\"sk-text-repr-fallback\"><pre>Pipeline(steps=[(&#x27;std_scaler&#x27;, StandardScaler()),\n",
       "                (&#x27;model&#x27;,\n",
       "                 KerasRegressor(batch_size=2112, epochs=1000, loss=&#x27;mse&#x27;, model=&lt;function make_regression_ann at 0x7f147985a700&gt;, model__activation=&#x27;relu&#x27;, model__initializer=&#x27;normal&#x27;, optimizer=&#x27;adam&#x27;, verbose=0))])</pre><b>In a Jupyter environment, please rerun this cell to show the HTML representation or trust the notebook. <br />On GitHub, the HTML representation is unable to render, please try loading this page with nbviewer.org.</b></div><div class=\"sk-container\" hidden><div class=\"sk-item sk-dashed-wrapped\"><div class=\"sk-label-container\"><div class=\"sk-label sk-toggleable\"><input class=\"sk-toggleable__control sk-hidden--visually\" id=\"sk-estimator-id-4\" type=\"checkbox\" ><label for=\"sk-estimator-id-4\" class=\"sk-toggleable__label sk-toggleable__label-arrow\">Pipeline</label><div class=\"sk-toggleable__content\"><pre>Pipeline(steps=[(&#x27;std_scaler&#x27;, StandardScaler()),\n",
       "                (&#x27;model&#x27;,\n",
       "                 KerasRegressor(batch_size=2112, epochs=1000, loss=&#x27;mse&#x27;, model=&lt;function make_regression_ann at 0x7f147985a700&gt;, model__activation=&#x27;relu&#x27;, model__initializer=&#x27;normal&#x27;, optimizer=&#x27;adam&#x27;, verbose=0))])</pre></div></div></div><div class=\"sk-serial\"><div class=\"sk-item\"><div class=\"sk-estimator sk-toggleable\"><input class=\"sk-toggleable__control sk-hidden--visually\" id=\"sk-estimator-id-5\" type=\"checkbox\" ><label for=\"sk-estimator-id-5\" class=\"sk-toggleable__label sk-toggleable__label-arrow\">StandardScaler</label><div class=\"sk-toggleable__content\"><pre>StandardScaler()</pre></div></div></div><div class=\"sk-item\"><div class=\"sk-estimator sk-toggleable\"><input class=\"sk-toggleable__control sk-hidden--visually\" id=\"sk-estimator-id-6\" type=\"checkbox\" ><label for=\"sk-estimator-id-6\" class=\"sk-toggleable__label sk-toggleable__label-arrow\">KerasRegressor</label><div class=\"sk-toggleable__content\"><pre>KerasRegressor(\n",
       "\tmodel=&lt;function make_regression_ann at 0x7f147985a700&gt;\n",
       "\tbuild_fn=None\n",
       "\twarm_start=False\n",
       "\trandom_state=None\n",
       "\toptimizer=adam\n",
       "\tloss=mse\n",
       "\tmetrics=None\n",
       "\tbatch_size=2112\n",
       "\tvalidation_batch_size=None\n",
       "\tverbose=0\n",
       "\tcallbacks=None\n",
       "\tvalidation_split=0.0\n",
       "\tshuffle=True\n",
       "\trun_eagerly=False\n",
       "\tepochs=1000\n",
       "\tmodel__activation=relu\n",
       "\tmodel__initializer=normal\n",
       ")</pre></div></div></div></div></div></div></div>"
      ],
      "text/plain": [
       "Pipeline(steps=[('std_scaler', StandardScaler()),\n",
       "                ('model',\n",
       "                 KerasRegressor(batch_size=2112, epochs=1000, loss='mse', model=<function make_regression_ann at 0x7f147985a700>, model__activation='relu', model__initializer='normal', optimizer='adam', verbose=0))])"
      ]
     },
     "execution_count": 62,
     "metadata": {},
     "output_type": "execute_result"
    }
   ],
   "source": [
    "crossval_runner.best_estimator_"
   ]
  },
  {
   "cell_type": "code",
   "execution_count": 63,
   "metadata": {
    "execution": {
     "iopub.execute_input": "2022-11-15T20:25:19.380113Z",
     "iopub.status.busy": "2022-11-15T20:25:19.379894Z",
     "iopub.status.idle": "2022-11-15T20:25:20.288379Z",
     "shell.execute_reply": "2022-11-15T20:25:20.287788Z",
     "shell.execute_reply.started": "2022-11-15T20:25:19.380099Z"
    }
   },
   "outputs": [
    {
     "name": "stdout",
     "output_type": "stream",
     "text": [
      "INFO:tensorflow:Assets written to: ram:///tmp/tmpwarfwz96/assets\n",
      "pickled new version of model\n",
      "0.5759069280910043 is new best score\n"
     ]
    }
   ],
   "source": [
    "if this_model_is_best:\n",
    "    with open(f'../../../models/optimised_model_{ALGORITHM}_v{VERSION}{DD2}.pkl', 'wb') as f:\n",
    "        if not_catboost:\n",
    "            pickle.dump(crossval_runner.best_estimator_, f)\n",
    "        else:\n",
    "            pickle.dump(starter_model, f)\n",
    "        print('pickled new version of model')\n",
    "        print(results_json[key]['_score'], 'is new best score')\n",
    "        #print(results_json[key]['_score'], 'is an improvement on', results_json[key]['second best score'])\n",
    "else:\n",
    "    print(\"not updated saved model, the previous run was better\")\n",
    "    print(results_json[key]['best score'], 'better than or equal to', results_json[key]['_score'])"
   ]
  },
  {
   "cell_type": "code",
   "execution_count": 64,
   "metadata": {
    "execution": {
     "iopub.execute_input": "2022-11-15T20:25:20.289359Z",
     "iopub.status.busy": "2022-11-15T20:25:20.289167Z",
     "iopub.status.idle": "2022-11-15T20:25:20.303832Z",
     "shell.execute_reply": "2022-11-15T20:25:20.303045Z",
     "shell.execute_reply.started": "2022-11-15T20:25:20.289341Z"
    }
   },
   "outputs": [
    {
     "ename": "AttributeError",
     "evalue": "'KerasRegressor' object has no attribute 'feature_importances_'",
     "output_type": "error",
     "traceback": [
      "\u001b[0;31m---------------------------------------------------------------------------\u001b[0m",
      "\u001b[0;31mAttributeError\u001b[0m                            Traceback (most recent call last)",
      "Input \u001b[0;32mIn [64]\u001b[0m, in \u001b[0;36m<cell line: 1>\u001b[0;34m()\u001b[0m\n\u001b[0;32m----> 1\u001b[0m feature_importances \u001b[38;5;241m=\u001b[39m \u001b[43mcrossval_runner\u001b[49m\u001b[38;5;241;43m.\u001b[39;49m\u001b[43mbest_estimator_\u001b[49m\u001b[43m[\u001b[49m\u001b[38;5;241;43m-\u001b[39;49m\u001b[38;5;241;43m1\u001b[39;49m\u001b[43m]\u001b[49m\u001b[38;5;241;43m.\u001b[39;49m\u001b[43mfeature_importances_\u001b[49m\n\u001b[1;32m      2\u001b[0m \u001b[38;5;66;03m#std = np.std([tree.feature_importances_ for tree in model.estimators_], axis = 0)\u001b[39;00m\n\u001b[1;32m      4\u001b[0m indices \u001b[38;5;241m=\u001b[39m np\u001b[38;5;241m.\u001b[39margsort(feature_importances)[::\u001b[38;5;241m-\u001b[39m\u001b[38;5;241m1\u001b[39m]\n",
      "\u001b[0;31mAttributeError\u001b[0m: 'KerasRegressor' object has no attribute 'feature_importances_'"
     ]
    }
   ],
   "source": [
    "feature_importances = crossval_runner.best_estimator_[-1].feature_importances_\n",
    "#std = np.std([tree.feature_importances_ for tree in model.estimators_], axis = 0)\n",
    "\n",
    "indices = np.argsort(feature_importances)[::-1]\n",
    "\n",
    "print('Feature Ranking:')\n",
    "\n",
    "for f in range(X_train.shape[1]):\n",
    "    print('%d. features %d (%f)' % (f + 1, indices[f], feature_importances[indices[f]]),\n",
    "          df_features.columns[indices[f] + 1])\n"
   ]
  },
  {
   "cell_type": "code",
   "execution_count": null,
   "metadata": {
    "execution": {
     "iopub.status.busy": "2022-11-15T20:25:20.304566Z",
     "iopub.status.idle": "2022-11-15T20:25:20.304855Z",
     "shell.execute_reply": "2022-11-15T20:25:20.304730Z",
     "shell.execute_reply.started": "2022-11-15T20:25:20.304717Z"
    }
   },
   "outputs": [],
   "source": [
    "feature_importances = crossval_runner.best_estimator_[-1].feature_importances_\n",
    "indices = np.argsort(feature_importances)\n",
    "\n",
    "fig, ax = plt.subplots()\n",
    "ax.barh(range(len(feature_importances)), feature_importances[indices])\n",
    "ax.set_yticks(range(len(feature_importances)))\n",
    "_ = ax.set_yticklabels(df_features.columns[[c + 1 for c in indices]])"
   ]
  },
  {
   "cell_type": "code",
   "execution_count": null,
   "metadata": {
    "collapsed": false,
    "jupyter": {
     "outputs_hidden": false
    }
   },
   "outputs": [],
   "source": []
  }
 ],
 "metadata": {
  "kernelspec": {
   "display_name": "Python 3 (ipykernel)",
   "language": "python",
   "name": "python3"
  },
  "language_info": {
   "codemirror_mode": {
    "name": "ipython",
    "version": 3
   },
   "file_extension": ".py",
   "mimetype": "text/x-python",
   "name": "python",
   "nbconvert_exporter": "python",
   "pygments_lexer": "ipython3",
   "version": "3.9.13"
  }
 },
 "nbformat": 4,
 "nbformat_minor": 4
}
