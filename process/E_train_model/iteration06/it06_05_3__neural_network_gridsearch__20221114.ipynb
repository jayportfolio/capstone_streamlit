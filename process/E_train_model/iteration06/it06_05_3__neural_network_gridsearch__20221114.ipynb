{
 "cells": [
  {
   "cell_type": "code",
   "execution_count": 1,
   "metadata": {
    "execution": {
     "iopub.execute_input": "2022-11-14T17:55:32.004521Z",
     "iopub.status.busy": "2022-11-14T17:55:32.003662Z",
     "iopub.status.idle": "2022-11-14T17:55:32.008601Z",
     "shell.execute_reply": "2022-11-14T17:55:32.008123Z",
     "shell.execute_reply.started": "2022-11-14T17:55:32.004488Z"
    }
   },
   "outputs": [],
   "source": [
    "ALGORITHM = 'Neural Network'\n",
    "ALGORITHM_DETAIL = 'random search'\n",
    "ALGORITHM_DETAIL_ORIG = ALGORITHM_DETAIL\n",
    "ALGORITHM_DETAIL += ' [input11, d^20-500-500-20-5, dense1]'\n",
    "DATA_DETAIL = []\n",
    "#DATA_DETAIL = ['no scale','no dummies']\n",
    "VERSION = '06'\n",
    "\n",
    "RANDOM_STATE = 101\n",
    "TRAINING_SIZE = 0.9\n",
    "\n",
    "CROSS_VALIDATION_SCORING = 'r2'\n",
    "\n",
    "OVERRIDE_CV, OVERRIDE_N_ITER, OVERRIDE_JOBS = None, None, None\n",
    "\n",
    "debug_mode = False\n",
    "quick_mode = False\n",
    "quick_mode = True"
   ]
  },
  {
   "cell_type": "code",
   "execution_count": 2,
   "metadata": {
    "execution": {
     "iopub.execute_input": "2022-11-14T17:50:12.903669Z",
     "iopub.status.busy": "2022-11-14T17:50:12.903131Z",
     "iopub.status.idle": "2022-11-14T17:50:27.606418Z",
     "shell.execute_reply": "2022-11-14T17:50:27.605521Z",
     "shell.execute_reply.started": "2022-11-14T17:50:12.903648Z"
    }
   },
   "outputs": [
    {
     "name": "stdout",
     "output_type": "stream",
     "text": [
      "Requirement already satisfied: scikeras in /home/guava/PycharmProjects/capstone_streamlit/venv/lib/python3.8/site-packages (0.9.0)\r\n",
      "Requirement already satisfied: scikit-learn>=1.0.0 in /home/guava/PycharmProjects/capstone_streamlit/venv/lib/python3.8/site-packages (from scikeras) (1.1.2)\r\n",
      "Requirement already satisfied: packaging>=0.21 in /home/guava/PycharmProjects/capstone_streamlit/venv/lib/python3.8/site-packages (from scikeras) (21.3)\r\n",
      "Requirement already satisfied: pyparsing!=3.0.5,>=2.0.2 in /home/guava/PycharmProjects/capstone_streamlit/venv/lib/python3.8/site-packages (from packaging>=0.21->scikeras) (3.0.9)\r\n",
      "Requirement already satisfied: numpy>=1.17.3 in /home/guava/PycharmProjects/capstone_streamlit/venv/lib/python3.8/site-packages (from scikit-learn>=1.0.0->scikeras) (1.23.3)\r\n",
      "Requirement already satisfied: joblib>=1.0.0 in /home/guava/PycharmProjects/capstone_streamlit/venv/lib/python3.8/site-packages (from scikit-learn>=1.0.0->scikeras) (1.2.0)\r\n",
      "Requirement already satisfied: threadpoolctl>=2.0.0 in /home/guava/PycharmProjects/capstone_streamlit/venv/lib/python3.8/site-packages (from scikit-learn>=1.0.0->scikeras) (3.1.0)\r\n",
      "Requirement already satisfied: scipy>=1.3.2 in /home/guava/PycharmProjects/capstone_streamlit/venv/lib/python3.8/site-packages (from scikit-learn>=1.0.0->scikeras) (1.9.1)\r\n",
      "Requirement already satisfied: catboost in /home/guava/PycharmProjects/capstone_streamlit/venv/lib/python3.8/site-packages (1.1.1)\r\n",
      "Requirement already satisfied: six in /home/guava/PycharmProjects/capstone_streamlit/venv/lib/python3.8/site-packages (from catboost) (1.16.0)\r\n",
      "Requirement already satisfied: numpy>=1.16.0 in /home/guava/PycharmProjects/capstone_streamlit/venv/lib/python3.8/site-packages (from catboost) (1.23.3)\r\n",
      "Requirement already satisfied: graphviz in /home/guava/PycharmProjects/capstone_streamlit/venv/lib/python3.8/site-packages (from catboost) (0.20.1)\r\n",
      "Requirement already satisfied: scipy in /home/guava/PycharmProjects/capstone_streamlit/venv/lib/python3.8/site-packages (from catboost) (1.9.1)\r\n",
      "Requirement already satisfied: matplotlib in /home/guava/PycharmProjects/capstone_streamlit/venv/lib/python3.8/site-packages (from catboost) (3.6.0)\r\n",
      "Requirement already satisfied: pandas>=0.24.0 in /home/guava/PycharmProjects/capstone_streamlit/venv/lib/python3.8/site-packages (from catboost) (1.5.0)\r\n",
      "Requirement already satisfied: plotly in /home/guava/PycharmProjects/capstone_streamlit/venv/lib/python3.8/site-packages (from catboost) (5.10.0)\r\n",
      "Requirement already satisfied: pytz>=2020.1 in /home/guava/PycharmProjects/capstone_streamlit/venv/lib/python3.8/site-packages (from pandas>=0.24.0->catboost) (2022.2.1)\r\n",
      "Requirement already satisfied: python-dateutil>=2.8.1 in /home/guava/PycharmProjects/capstone_streamlit/venv/lib/python3.8/site-packages (from pandas>=0.24.0->catboost) (2.8.2)\r\n",
      "Requirement already satisfied: cycler>=0.10 in /home/guava/PycharmProjects/capstone_streamlit/venv/lib/python3.8/site-packages (from matplotlib->catboost) (0.11.0)\r\n",
      "Requirement already satisfied: fonttools>=4.22.0 in /home/guava/PycharmProjects/capstone_streamlit/venv/lib/python3.8/site-packages (from matplotlib->catboost) (4.37.3)\r\n",
      "Requirement already satisfied: packaging>=20.0 in /home/guava/PycharmProjects/capstone_streamlit/venv/lib/python3.8/site-packages (from matplotlib->catboost) (21.3)\r\n",
      "Requirement already satisfied: contourpy>=1.0.1 in /home/guava/PycharmProjects/capstone_streamlit/venv/lib/python3.8/site-packages (from matplotlib->catboost) (1.0.5)\r\n",
      "Requirement already satisfied: pyparsing>=2.2.1 in /home/guava/PycharmProjects/capstone_streamlit/venv/lib/python3.8/site-packages (from matplotlib->catboost) (3.0.9)\r\n",
      "Requirement already satisfied: kiwisolver>=1.0.1 in /home/guava/PycharmProjects/capstone_streamlit/venv/lib/python3.8/site-packages (from matplotlib->catboost) (1.4.4)\r\n",
      "Requirement already satisfied: pillow>=6.2.0 in /home/guava/PycharmProjects/capstone_streamlit/venv/lib/python3.8/site-packages (from matplotlib->catboost) (9.2.0)\r\n",
      "Requirement already satisfied: tenacity>=6.2.0 in /home/guava/PycharmProjects/capstone_streamlit/venv/lib/python3.8/site-packages (from plotly->catboost) (8.1.0)\r\n"
     ]
    }
   ],
   "source": [
    "! pip install scikeras\n",
    "! pip install catboost"
   ]
  },
  {
   "cell_type": "code",
   "execution_count": 3,
   "metadata": {
    "collapsed": false,
    "execution": {
     "iopub.execute_input": "2022-11-14T17:50:27.608294Z",
     "iopub.status.busy": "2022-11-14T17:50:27.608049Z",
     "iopub.status.idle": "2022-11-14T17:50:32.094482Z",
     "shell.execute_reply": "2022-11-14T17:50:32.093735Z",
     "shell.execute_reply.started": "2022-11-14T17:50:27.608252Z"
    },
    "jupyter": {
     "outputs_hidden": false
    }
   },
   "outputs": [
    {
     "name": "stderr",
     "output_type": "stream",
     "text": [
      "2022-11-14 21:39:05.940740: I tensorflow/core/platform/cpu_feature_guard.cc:193] This TensorFlow binary is optimized with oneAPI Deep Neural Network Library (oneDNN) to use the following CPU instructions in performance-critical operations:  AVX2\n",
      "To enable them in other operations, rebuild TensorFlow with the appropriate compiler flags.\n"
     ]
    },
    {
     "name": "stdout",
     "output_type": "stream",
     "text": [
      "2.10.0\n"
     ]
    }
   ],
   "source": [
    "from sklearn.pipeline import Pipeline\n",
    "from sklearn.preprocessing import MinMaxScaler, StandardScaler\n",
    "from scikeras.wrappers import KerasClassifier, KerasRegressor\n",
    "\n",
    "import tensorflow as tf\n",
    "from keras import layers\n",
    "from tensorflow import keras\n",
    "from keras.models import Sequential\n",
    "from keras.layers import Dense\n",
    "\n",
    "print(tf.__version__)\n",
    "\n",
    "\n",
    "def make_regression_ann(initializer='uniform', activation='relu', optimizer='adam', loss='mse'):\n",
    "    normalizer = tf.keras.layers.Normalization(axis=-1)\n",
    "    model = Sequential()\n",
    "    #model.add(normalizer)\n",
    "    model.add(Dense(11, input_shape=(len(X_train[0]),), activation='relu'))\n",
    "    model.add(Dense(20, activation='relu'))\n",
    "    model.add(Dense(500, activation='relu'))\n",
    "    model.add(Dense(500, activation='relu'))\n",
    "    model.add(Dense(20, activation='relu'))\n",
    "    model.add(Dense(5, activation='relu'))\n",
    "    model.add(Dense(1))\n",
    "    model.compile(loss=loss, optimizer=optimizer)\n",
    "    #print(model)\n",
    "    return model\n"
   ]
  },
  {
   "cell_type": "code",
   "execution_count": 4,
   "metadata": {
    "collapsed": false,
    "execution": {
     "iopub.execute_input": "2022-11-14T17:50:32.095998Z",
     "iopub.status.busy": "2022-11-14T17:50:32.095597Z",
     "iopub.status.idle": "2022-11-14T17:50:33.378816Z",
     "shell.execute_reply": "2022-11-14T17:50:33.378157Z",
     "shell.execute_reply.started": "2022-11-14T17:50:32.095977Z"
    },
    "jupyter": {
     "outputs_hidden": false
    }
   },
   "outputs": [
    {
     "name": "stdout",
     "output_type": "stream",
     "text": [
      "{'notebook_environment': 'local', 'use_gpu': False, 'debug_mode': False, 'quick_mode': False, 'quick_override_cv_splits': 2, 'quick_override_n_iter': 10, 'quick_override_n_jobs': 3}\n"
     ]
    }
   ],
   "source": [
    "#confirm_colab = True\n",
    "confirm_colab = False\n",
    "IN_CLOUD = False\n",
    "\n",
    "from sklearn.impute import SimpleImputer\n",
    "import pandas as pd\n",
    "from sklearn.model_selection import train_test_split, RandomizedSearchCV, GridSearchCV\n",
    "import numpy as np\n",
    "from pandas import DataFrame\n",
    "import math\n",
    "from termcolor import colored\n",
    "from time import time\n",
    "import sklearn\n",
    "from sklearn.metrics import r2_score, mean_absolute_error, mean_squared_error\n",
    "from sklearn.metrics import r2_score\n",
    "import seaborn as sns\n",
    "import pickle\n",
    "\n",
    "import json\n",
    "from datetime import datetime\n",
    "import matplotlib.pyplot as plt\n",
    "\n",
    "with open('../../z_envs/_envs.json') as f:\n",
    "    env_vars = json.loads(f.read())\n",
    "print(env_vars)\n",
    "\n",
    "try:\n",
    "    import google.colab\n",
    "\n",
    "    run_env = 'colab'\n",
    "except:\n",
    "    try:\n",
    "        run_env = env_vars['notebook_environment']\n",
    "    except:\n",
    "        run_env = 'unknown'\n",
    "\n",
    "use_gpu = env_vars.get('use_gpu', False)\n",
    "debug_mode = env_vars.get('debug_mode', False)\n",
    "quick_mode = env_vars.get('quick_mode', False)\n",
    "OVERRIDE_CV = env_vars.get('quick_override_cv_splits', None) if quick_mode else None\n",
    "OVERRIDE_N_ITER = env_vars.get('quick_override_n_iter', None) if quick_mode else None\n",
    "OVERRIDE_JOBS = env_vars.get('quick_override_n_jobs', None) if quick_mode else None\n",
    "#if quick_mode:OVERRIDE_CV, OVERRIDE_N_ITER = 2, 10\n",
    "\n",
    "already_timed = False\n",
    "no_dummies = 'no dummies' in DATA_DETAIL\n",
    "no_scaling = 'no scaling' in DATA_DETAIL\n",
    "not_catboost = 'catboost' not in ALGORITHM.lower() or not no_dummies\n",
    "\n",
    "if run_env not in ['colab', 'gradient', 'cloud']:\n",
    "    cloud_run = False\n",
    "    from functions_20221109 import set_csv_directory, get_columns\n",
    "    from functions_modelling_20221109 import make_modelling_pipeline, tidy_dataset, preprocess, feature_engineer, create_train_test_data\n",
    "    from functions_modelling_20221109 import get_cv_params, fit_model_with_cross_validation, get_best_estimator_average_time\n",
    "    from functions_modelling_20221109 import get_results, update_results, get_chosen_model\n",
    "    from functions_modelling_20221109 import get_hyperparameters\n",
    "\n",
    "    set_csv_directory('final_split')\n",
    "else:\n",
    "    cloud_run = True\n",
    "    import sys\n",
    "    import os\n",
    "\n",
    "    module_path = os.path.abspath(os.path.join('..', '..', '..'))\n",
    "    if module_path not in sys.path:\n",
    "        #sys.path.append(module_path+\"\\\\zfunctions\")\n",
    "        sys.path.append(module_path)\n",
    "\n",
    "    from functions_20221109 import set_csv_directory, get_columns\n",
    "    #from functions_20221109 import add_supplements, get_combined_dataset\n",
    "    from functions_modelling_20221109 import make_modelling_pipeline, tidy_dataset, preprocess, feature_engineer, create_train_test_data\n",
    "    from functions_modelling_20221109 import get_cv_params, fit_model_with_cross_validation, get_best_estimator_average_time\n",
    "    from functions_modelling_20221109 import get_results, update_results, get_chosen_model\n",
    "    from functions_modelling_20221109 import get_hyperparameters\n",
    "\n",
    "if quick_mode:\n",
    "    OVERRIDE_CV, OVERRIDE_N_ITER = 2, 10\n",
    "\n",
    "if 'neural' in ALGORITHM.lower():\n",
    "    OVERRIDE_JOBS=1\n",
    "\n",
    "if 'neural' in ALGORITHM.lower() and not cloud_run:\n",
    "    OVERRIDE_N_ITER = 2"
   ]
  },
  {
   "cell_type": "code",
   "execution_count": 5,
   "metadata": {
    "collapsed": false,
    "execution": {
     "iopub.execute_input": "2022-11-14T17:50:33.381016Z",
     "iopub.status.busy": "2022-11-14T17:50:33.380601Z",
     "iopub.status.idle": "2022-11-14T17:50:33.385195Z",
     "shell.execute_reply": "2022-11-14T17:50:33.384629Z",
     "shell.execute_reply.started": "2022-11-14T17:50:33.380995Z"
    },
    "jupyter": {
     "outputs_hidden": false
    }
   },
   "outputs": [
    {
     "name": "stdout",
     "output_type": "stream",
     "text": [
      "\u001B[34mfeatures\u001B[0m ->  ['bedrooms', 'bathrooms', 'nearestStation', 'location.latitude', 'location.longitude', 'latitude_deviation', 'longitude_deviation', 'tenure.tenureType']\n",
      "\u001B[1m\u001B[32mlabel\u001B[0m ->  Price\n"
     ]
    }
   ],
   "source": [
    "#cutdown_rows = 1000\n",
    "cutdown_rows = 0\n",
    "\n",
    "LABEL = 'Price'\n",
    "\n",
    "columns, booleans, floats, categories, custom, wildcard = get_columns(version=VERSION)\n",
    "\n",
    "print(colored(f\"features\", \"blue\"), \"-> \", columns)\n",
    "columns.insert(0, LABEL)\n",
    "print(colored(f\"label\", \"green\", None, ['bold']), \"-> \", LABEL)"
   ]
  },
  {
   "cell_type": "code",
   "execution_count": 6,
   "metadata": {
    "collapsed": false,
    "execution": {
     "iopub.execute_input": "2022-11-14T17:50:33.386344Z",
     "iopub.status.busy": "2022-11-14T17:50:33.386160Z",
     "iopub.status.idle": "2022-11-14T17:50:33.390622Z",
     "shell.execute_reply": "2022-11-14T17:50:33.390093Z",
     "shell.execute_reply.started": "2022-11-14T17:50:33.386325Z"
    },
    "jupyter": {
     "outputs_hidden": false
    }
   },
   "outputs": [],
   "source": [
    "def get_source_dataframe(rows=cutdown_rows, folder_prefix='../../../'):\n",
    "    retrieval_type = None\n",
    "\n",
    "    filename = f'df_listings_v{VERSION}.csv'\n",
    "    remote_pathname = f'https://raw.githubusercontent.com/jayportfolio/capstone_streamlit/main/data/final/{filename}'\n",
    "    df_pathname_raw = folder_prefix + f'data/source/{filename}'\n",
    "    df_pathname_tidy = folder_prefix + f'data/final/{filename}'\n",
    "\n",
    "    if cloud_run:\n",
    "        inDF = pd.read_csv(remote_pathname, on_bad_lines='error', index_col=0)\n",
    "        retrieval_type = 'tidy'\n",
    "        print('loaded data from', folder_prefix + remote_pathname)\n",
    "    else:\n",
    "        inDF = pd.read_csv(df_pathname_tidy, on_bad_lines='error', index_col=0)\n",
    "        retrieval_type = 'tidy'\n",
    "        print('loaded data from', df_pathname_tidy)\n",
    "\n",
    "    if rows and rows > 0:\n",
    "        inDF = inDF[:rows]\n",
    "    return inDF, retrieval_type"
   ]
  },
  {
   "cell_type": "code",
   "execution_count": 7,
   "metadata": {
    "collapsed": false,
    "execution": {
     "iopub.execute_input": "2022-11-14T17:50:33.391680Z",
     "iopub.status.busy": "2022-11-14T17:50:33.391486Z",
     "iopub.status.idle": "2022-11-14T17:50:33.700294Z",
     "shell.execute_reply": "2022-11-14T17:50:33.699591Z",
     "shell.execute_reply.started": "2022-11-14T17:50:33.391662Z"
    },
    "jupyter": {
     "outputs_hidden": false
    }
   },
   "outputs": [
    {
     "name": "stdout",
     "output_type": "stream",
     "text": [
      "loaded data from ../../../data/final/df_listings_v06.csv\n",
      "(46871, 9)\n"
     ]
    }
   ],
   "source": [
    "df, retrieval_type = get_source_dataframe(folder_prefix='../../../')\n",
    "df_orig = df.copy()\n",
    "\n",
    "if retrieval_type != 'tidy':\n",
    "    df = tidy_dataset(df, version=int(VERSION))\n",
    "    df = feature_engineer(df, version=int(VERSION))\n",
    "\n",
    "    df = df[columns]\n",
    "\n",
    "print(df.shape)"
   ]
  },
  {
   "cell_type": "code",
   "execution_count": 8,
   "metadata": {
    "collapsed": false,
    "execution": {
     "iopub.execute_input": "2022-11-14T17:50:33.701517Z",
     "iopub.status.busy": "2022-11-14T17:50:33.701313Z",
     "iopub.status.idle": "2022-11-14T17:50:33.724736Z",
     "shell.execute_reply": "2022-11-14T17:50:33.724076Z",
     "shell.execute_reply.started": "2022-11-14T17:50:33.701498Z"
    },
    "jupyter": {
     "outputs_hidden": false
    }
   },
   "outputs": [
    {
     "data": {
      "text/plain": "             Price  bedrooms  bathrooms  nearestStation  location.latitude  \\\n14520525  550000.0       3.0        1.0        0.274316          51.529950   \n27953107  400000.0       2.0        2.0        0.305845          51.549390   \n33593487  579950.0       2.0        1.0        0.438045          51.447180   \n35271294  370000.0       2.0        1.0        0.399307          51.449568   \n35429088  599950.0       2.0        1.0        0.238187          51.577030   \n44749111  475000.0       2.0        1.0        0.410550          51.370050   \n46204665  435000.0       3.0        2.0        0.314779          51.539070   \n49020666  200000.0       1.0        1.0        0.875911          51.539959   \n49036279  275000.0       2.0        1.0        0.474368          51.541780   \n49303873  450000.0       3.0        2.0        0.577040          51.524880   \n52064391  349950.0       2.0        2.0        0.212734          51.470800   \n52187854  450000.0       1.0        1.0        0.446802          51.527199   \n52675628  490000.0       2.0        2.0        0.215040          51.501114   \n52845963  200000.0       2.0        1.0        0.650562          51.398040   \n52913496  220000.0       1.0        1.0        0.945991          51.539383   \n53609433  489995.0       1.0        1.0        0.087081          51.532620   \n53649578  284950.0       1.0        1.0        0.806597          51.479890   \n53938989  450000.0       2.0        1.0        0.775203          51.658287   \n54713232  332000.0       2.0        1.0        0.319226          51.612300   \n54904122  365000.0       2.0        1.0        0.260722          51.593595   \n54991934  430000.0       3.0        1.0        0.497268          51.528720   \n55043230  260000.0       1.0        1.0        0.384607          51.544430   \n55187658  430000.0       2.0        2.0        0.289033          51.507570   \n55531367  599950.0       2.0        1.0        0.406725          51.467410   \n55768232  550000.0       2.0        1.0        0.478349          51.472890   \n55805965  280000.0       2.0        1.0        0.742859          51.520910   \n55839051  599950.0       2.0        1.0        0.259168          51.579186   \n55940994  385000.0       2.0        2.0        0.403987          51.376930   \n56449305  380000.0       2.0        1.0        0.310271          51.600483   \n57221413  475000.0       3.0        2.0        0.409784          51.497260   \n\n          location.longitude  latitude_deviation  longitude_deviation  \\\n14520525           -0.207020            0.030230             0.102600   \n27953107           -0.482600            0.049670             0.378180   \n33593487           -0.338770            0.052540             0.234350   \n35271294           -0.140154            0.050152             0.035734   \n35429088           -0.141230            0.077310             0.036810   \n44749111           -0.212410            0.129670             0.107990   \n46204665           -0.198935            0.039350             0.094515   \n49020666           -0.380863            0.040239             0.276443   \n49036279            0.037890            0.042060             0.142310   \n49303873            0.187200            0.025160             0.291620   \n52064391           -0.361820            0.028920             0.257400   \n52187854           -0.202898            0.027479             0.098478   \n52675628            0.026315            0.001394             0.130735   \n52845963           -0.076812            0.101680             0.027608   \n52913496           -0.382239            0.039663             0.277819   \n53609433           -0.107860            0.032900             0.003440   \n53649578           -0.078500            0.019830             0.025920   \n53938989           -0.207902            0.158567             0.103482   \n54713232           -0.119860            0.112580             0.015440   \n54904122            0.022046            0.093875             0.126466   \n54991934            0.039180            0.029000             0.143600   \n55043230            0.014500            0.044710             0.118920   \n55187658            0.078030            0.007850             0.182450   \n55531367           -0.079170            0.032310             0.025250   \n55768232           -0.078940            0.026830             0.025480   \n55805965            0.022680            0.021190             0.127100   \n55839051           -0.209020            0.079466             0.104600   \n55940994           -0.238870            0.122790             0.134450   \n56449305           -0.062096            0.100763             0.042324   \n57221413           -0.422530            0.002460             0.318110   \n\n          tenure.tenureType  \n14520525          LEASEHOLD  \n27953107          LEASEHOLD  \n33593487           FREEHOLD  \n35271294          LEASEHOLD  \n35429088                NaN  \n44749111           FREEHOLD  \n46204665          LEASEHOLD  \n49020666          LEASEHOLD  \n49036279          LEASEHOLD  \n49303873           FREEHOLD  \n52064391          LEASEHOLD  \n52187854          LEASEHOLD  \n52675628                NaN  \n52845963          LEASEHOLD  \n52913496          LEASEHOLD  \n53609433          LEASEHOLD  \n53649578                NaN  \n53938989           FREEHOLD  \n54713232  SHARE_OF_FREEHOLD  \n54904122  SHARE_OF_FREEHOLD  \n54991934           FREEHOLD  \n55043230          LEASEHOLD  \n55187658          LEASEHOLD  \n55531367                NaN  \n55768232                NaN  \n55805965          LEASEHOLD  \n55839051          LEASEHOLD  \n55940994          LEASEHOLD  \n56449305           FREEHOLD  \n57221413           FREEHOLD  ",
      "text/html": "<div>\n<style scoped>\n    .dataframe tbody tr th:only-of-type {\n        vertical-align: middle;\n    }\n\n    .dataframe tbody tr th {\n        vertical-align: top;\n    }\n\n    .dataframe thead th {\n        text-align: right;\n    }\n</style>\n<table border=\"1\" class=\"dataframe\">\n  <thead>\n    <tr style=\"text-align: right;\">\n      <th></th>\n      <th>Price</th>\n      <th>bedrooms</th>\n      <th>bathrooms</th>\n      <th>nearestStation</th>\n      <th>location.latitude</th>\n      <th>location.longitude</th>\n      <th>latitude_deviation</th>\n      <th>longitude_deviation</th>\n      <th>tenure.tenureType</th>\n    </tr>\n  </thead>\n  <tbody>\n    <tr>\n      <th>14520525</th>\n      <td>550000.0</td>\n      <td>3.0</td>\n      <td>1.0</td>\n      <td>0.274316</td>\n      <td>51.529950</td>\n      <td>-0.207020</td>\n      <td>0.030230</td>\n      <td>0.102600</td>\n      <td>LEASEHOLD</td>\n    </tr>\n    <tr>\n      <th>27953107</th>\n      <td>400000.0</td>\n      <td>2.0</td>\n      <td>2.0</td>\n      <td>0.305845</td>\n      <td>51.549390</td>\n      <td>-0.482600</td>\n      <td>0.049670</td>\n      <td>0.378180</td>\n      <td>LEASEHOLD</td>\n    </tr>\n    <tr>\n      <th>33593487</th>\n      <td>579950.0</td>\n      <td>2.0</td>\n      <td>1.0</td>\n      <td>0.438045</td>\n      <td>51.447180</td>\n      <td>-0.338770</td>\n      <td>0.052540</td>\n      <td>0.234350</td>\n      <td>FREEHOLD</td>\n    </tr>\n    <tr>\n      <th>35271294</th>\n      <td>370000.0</td>\n      <td>2.0</td>\n      <td>1.0</td>\n      <td>0.399307</td>\n      <td>51.449568</td>\n      <td>-0.140154</td>\n      <td>0.050152</td>\n      <td>0.035734</td>\n      <td>LEASEHOLD</td>\n    </tr>\n    <tr>\n      <th>35429088</th>\n      <td>599950.0</td>\n      <td>2.0</td>\n      <td>1.0</td>\n      <td>0.238187</td>\n      <td>51.577030</td>\n      <td>-0.141230</td>\n      <td>0.077310</td>\n      <td>0.036810</td>\n      <td>NaN</td>\n    </tr>\n    <tr>\n      <th>44749111</th>\n      <td>475000.0</td>\n      <td>2.0</td>\n      <td>1.0</td>\n      <td>0.410550</td>\n      <td>51.370050</td>\n      <td>-0.212410</td>\n      <td>0.129670</td>\n      <td>0.107990</td>\n      <td>FREEHOLD</td>\n    </tr>\n    <tr>\n      <th>46204665</th>\n      <td>435000.0</td>\n      <td>3.0</td>\n      <td>2.0</td>\n      <td>0.314779</td>\n      <td>51.539070</td>\n      <td>-0.198935</td>\n      <td>0.039350</td>\n      <td>0.094515</td>\n      <td>LEASEHOLD</td>\n    </tr>\n    <tr>\n      <th>49020666</th>\n      <td>200000.0</td>\n      <td>1.0</td>\n      <td>1.0</td>\n      <td>0.875911</td>\n      <td>51.539959</td>\n      <td>-0.380863</td>\n      <td>0.040239</td>\n      <td>0.276443</td>\n      <td>LEASEHOLD</td>\n    </tr>\n    <tr>\n      <th>49036279</th>\n      <td>275000.0</td>\n      <td>2.0</td>\n      <td>1.0</td>\n      <td>0.474368</td>\n      <td>51.541780</td>\n      <td>0.037890</td>\n      <td>0.042060</td>\n      <td>0.142310</td>\n      <td>LEASEHOLD</td>\n    </tr>\n    <tr>\n      <th>49303873</th>\n      <td>450000.0</td>\n      <td>3.0</td>\n      <td>2.0</td>\n      <td>0.577040</td>\n      <td>51.524880</td>\n      <td>0.187200</td>\n      <td>0.025160</td>\n      <td>0.291620</td>\n      <td>FREEHOLD</td>\n    </tr>\n    <tr>\n      <th>52064391</th>\n      <td>349950.0</td>\n      <td>2.0</td>\n      <td>2.0</td>\n      <td>0.212734</td>\n      <td>51.470800</td>\n      <td>-0.361820</td>\n      <td>0.028920</td>\n      <td>0.257400</td>\n      <td>LEASEHOLD</td>\n    </tr>\n    <tr>\n      <th>52187854</th>\n      <td>450000.0</td>\n      <td>1.0</td>\n      <td>1.0</td>\n      <td>0.446802</td>\n      <td>51.527199</td>\n      <td>-0.202898</td>\n      <td>0.027479</td>\n      <td>0.098478</td>\n      <td>LEASEHOLD</td>\n    </tr>\n    <tr>\n      <th>52675628</th>\n      <td>490000.0</td>\n      <td>2.0</td>\n      <td>2.0</td>\n      <td>0.215040</td>\n      <td>51.501114</td>\n      <td>0.026315</td>\n      <td>0.001394</td>\n      <td>0.130735</td>\n      <td>NaN</td>\n    </tr>\n    <tr>\n      <th>52845963</th>\n      <td>200000.0</td>\n      <td>2.0</td>\n      <td>1.0</td>\n      <td>0.650562</td>\n      <td>51.398040</td>\n      <td>-0.076812</td>\n      <td>0.101680</td>\n      <td>0.027608</td>\n      <td>LEASEHOLD</td>\n    </tr>\n    <tr>\n      <th>52913496</th>\n      <td>220000.0</td>\n      <td>1.0</td>\n      <td>1.0</td>\n      <td>0.945991</td>\n      <td>51.539383</td>\n      <td>-0.382239</td>\n      <td>0.039663</td>\n      <td>0.277819</td>\n      <td>LEASEHOLD</td>\n    </tr>\n    <tr>\n      <th>53609433</th>\n      <td>489995.0</td>\n      <td>1.0</td>\n      <td>1.0</td>\n      <td>0.087081</td>\n      <td>51.532620</td>\n      <td>-0.107860</td>\n      <td>0.032900</td>\n      <td>0.003440</td>\n      <td>LEASEHOLD</td>\n    </tr>\n    <tr>\n      <th>53649578</th>\n      <td>284950.0</td>\n      <td>1.0</td>\n      <td>1.0</td>\n      <td>0.806597</td>\n      <td>51.479890</td>\n      <td>-0.078500</td>\n      <td>0.019830</td>\n      <td>0.025920</td>\n      <td>NaN</td>\n    </tr>\n    <tr>\n      <th>53938989</th>\n      <td>450000.0</td>\n      <td>2.0</td>\n      <td>1.0</td>\n      <td>0.775203</td>\n      <td>51.658287</td>\n      <td>-0.207902</td>\n      <td>0.158567</td>\n      <td>0.103482</td>\n      <td>FREEHOLD</td>\n    </tr>\n    <tr>\n      <th>54713232</th>\n      <td>332000.0</td>\n      <td>2.0</td>\n      <td>1.0</td>\n      <td>0.319226</td>\n      <td>51.612300</td>\n      <td>-0.119860</td>\n      <td>0.112580</td>\n      <td>0.015440</td>\n      <td>SHARE_OF_FREEHOLD</td>\n    </tr>\n    <tr>\n      <th>54904122</th>\n      <td>365000.0</td>\n      <td>2.0</td>\n      <td>1.0</td>\n      <td>0.260722</td>\n      <td>51.593595</td>\n      <td>0.022046</td>\n      <td>0.093875</td>\n      <td>0.126466</td>\n      <td>SHARE_OF_FREEHOLD</td>\n    </tr>\n    <tr>\n      <th>54991934</th>\n      <td>430000.0</td>\n      <td>3.0</td>\n      <td>1.0</td>\n      <td>0.497268</td>\n      <td>51.528720</td>\n      <td>0.039180</td>\n      <td>0.029000</td>\n      <td>0.143600</td>\n      <td>FREEHOLD</td>\n    </tr>\n    <tr>\n      <th>55043230</th>\n      <td>260000.0</td>\n      <td>1.0</td>\n      <td>1.0</td>\n      <td>0.384607</td>\n      <td>51.544430</td>\n      <td>0.014500</td>\n      <td>0.044710</td>\n      <td>0.118920</td>\n      <td>LEASEHOLD</td>\n    </tr>\n    <tr>\n      <th>55187658</th>\n      <td>430000.0</td>\n      <td>2.0</td>\n      <td>2.0</td>\n      <td>0.289033</td>\n      <td>51.507570</td>\n      <td>0.078030</td>\n      <td>0.007850</td>\n      <td>0.182450</td>\n      <td>LEASEHOLD</td>\n    </tr>\n    <tr>\n      <th>55531367</th>\n      <td>599950.0</td>\n      <td>2.0</td>\n      <td>1.0</td>\n      <td>0.406725</td>\n      <td>51.467410</td>\n      <td>-0.079170</td>\n      <td>0.032310</td>\n      <td>0.025250</td>\n      <td>NaN</td>\n    </tr>\n    <tr>\n      <th>55768232</th>\n      <td>550000.0</td>\n      <td>2.0</td>\n      <td>1.0</td>\n      <td>0.478349</td>\n      <td>51.472890</td>\n      <td>-0.078940</td>\n      <td>0.026830</td>\n      <td>0.025480</td>\n      <td>NaN</td>\n    </tr>\n    <tr>\n      <th>55805965</th>\n      <td>280000.0</td>\n      <td>2.0</td>\n      <td>1.0</td>\n      <td>0.742859</td>\n      <td>51.520910</td>\n      <td>0.022680</td>\n      <td>0.021190</td>\n      <td>0.127100</td>\n      <td>LEASEHOLD</td>\n    </tr>\n    <tr>\n      <th>55839051</th>\n      <td>599950.0</td>\n      <td>2.0</td>\n      <td>1.0</td>\n      <td>0.259168</td>\n      <td>51.579186</td>\n      <td>-0.209020</td>\n      <td>0.079466</td>\n      <td>0.104600</td>\n      <td>LEASEHOLD</td>\n    </tr>\n    <tr>\n      <th>55940994</th>\n      <td>385000.0</td>\n      <td>2.0</td>\n      <td>2.0</td>\n      <td>0.403987</td>\n      <td>51.376930</td>\n      <td>-0.238870</td>\n      <td>0.122790</td>\n      <td>0.134450</td>\n      <td>LEASEHOLD</td>\n    </tr>\n    <tr>\n      <th>56449305</th>\n      <td>380000.0</td>\n      <td>2.0</td>\n      <td>1.0</td>\n      <td>0.310271</td>\n      <td>51.600483</td>\n      <td>-0.062096</td>\n      <td>0.100763</td>\n      <td>0.042324</td>\n      <td>FREEHOLD</td>\n    </tr>\n    <tr>\n      <th>57221413</th>\n      <td>475000.0</td>\n      <td>3.0</td>\n      <td>2.0</td>\n      <td>0.409784</td>\n      <td>51.497260</td>\n      <td>-0.422530</td>\n      <td>0.002460</td>\n      <td>0.318110</td>\n      <td>FREEHOLD</td>\n    </tr>\n  </tbody>\n</table>\n</div>"
     },
     "execution_count": 8,
     "metadata": {},
     "output_type": "execute_result"
    }
   ],
   "source": [
    "df.head(30)"
   ]
  },
  {
   "cell_type": "code",
   "execution_count": 9,
   "metadata": {
    "execution": {
     "iopub.execute_input": "2022-11-14T17:50:33.725907Z",
     "iopub.status.busy": "2022-11-14T17:50:33.725716Z",
     "iopub.status.idle": "2022-11-14T17:50:33.736870Z",
     "shell.execute_reply": "2022-11-14T17:50:33.736183Z",
     "shell.execute_reply.started": "2022-11-14T17:50:33.725890Z"
    }
   },
   "outputs": [
    {
     "data": {
      "text/plain": "Price                     0\nbedrooms                  0\nbathrooms                 0\nnearestStation            0\nlocation.latitude         0\nlocation.longitude        0\nlatitude_deviation        0\nlongitude_deviation       0\ntenure.tenureType      2744\ndtype: int64"
     },
     "execution_count": 9,
     "metadata": {},
     "output_type": "execute_result"
    }
   ],
   "source": [
    "df.isnull().sum()"
   ]
  },
  {
   "cell_type": "code",
   "execution_count": 10,
   "metadata": {
    "execution": {
     "iopub.execute_input": "2022-11-14T17:50:33.737836Z",
     "iopub.status.busy": "2022-11-14T17:50:33.737654Z",
     "iopub.status.idle": "2022-11-14T17:50:33.809709Z",
     "shell.execute_reply": "2022-11-14T17:50:33.809008Z",
     "shell.execute_reply.started": "2022-11-14T17:50:33.737820Z"
    }
   },
   "outputs": [
    {
     "name": "stdout",
     "output_type": "stream",
     "text": [
      "<class 'pandas.core.frame.DataFrame'>\n",
      "Int64Index: 46871 entries, 14520525 to 126181118\n",
      "Data columns (total 9 columns):\n",
      " #   Column               Non-Null Count  Dtype  \n",
      "---  ------               --------------  -----  \n",
      " 0   Price                46871 non-null  float64\n",
      " 1   bedrooms             46871 non-null  float64\n",
      " 2   bathrooms            46871 non-null  float64\n",
      " 3   nearestStation       46871 non-null  float64\n",
      " 4   location.latitude    46871 non-null  float64\n",
      " 5   location.longitude   46871 non-null  float64\n",
      " 6   latitude_deviation   46871 non-null  float64\n",
      " 7   longitude_deviation  46871 non-null  float64\n",
      " 8   tenure.tenureType    44127 non-null  object \n",
      "dtypes: float64(8), object(1)\n",
      "memory usage: 3.6+ MB\n"
     ]
    },
    {
     "data": {
      "text/plain": "                       count           mean            std            min  \\\nPrice                46871.0  425069.390775  107227.324906  100000.000000   \nbedrooms             46871.0       1.992469       0.828837       1.000000   \nbathrooms            46871.0       1.182074       0.409879       1.000000   \nnearestStation       46871.0       0.438847       0.325942       0.000000   \nlocation.latitude    46871.0      51.497049       0.077085      51.298317   \nlocation.longitude   46871.0      -0.113269       0.156489      -0.498315   \nlatitude_deviation   46871.0       0.064317       0.042573       0.000000   \nlongitude_deviation  46871.0       0.124202       0.095607       0.000000   \n\n                               25%            50%            75%  \\\nPrice                349950.000000  425000.000000  515000.000000   \nbedrooms                  1.000000       2.000000       3.000000   \nbathrooms                 1.000000       1.000000       1.000000   \nnearestStation            0.227169       0.367971       0.559620   \nlocation.latitude        51.438861      51.499977      51.556183   \nlocation.longitude       -0.210796      -0.102230      -0.010343   \nlatitude_deviation        0.028876       0.058595       0.094362   \nlongitude_deviation       0.043560       0.098984       0.192684   \n\n                               max  \nPrice                600000.000000  \nbedrooms                  7.000000  \nbathrooms                 5.000000  \nnearestStation            7.197700  \nlocation.latitude        51.683185  \nlocation.longitude        0.279726  \nlatitude_deviation        0.201403  \nlongitude_deviation       0.393895  ",
      "text/html": "<div>\n<style scoped>\n    .dataframe tbody tr th:only-of-type {\n        vertical-align: middle;\n    }\n\n    .dataframe tbody tr th {\n        vertical-align: top;\n    }\n\n    .dataframe thead th {\n        text-align: right;\n    }\n</style>\n<table border=\"1\" class=\"dataframe\">\n  <thead>\n    <tr style=\"text-align: right;\">\n      <th></th>\n      <th>count</th>\n      <th>mean</th>\n      <th>std</th>\n      <th>min</th>\n      <th>25%</th>\n      <th>50%</th>\n      <th>75%</th>\n      <th>max</th>\n    </tr>\n  </thead>\n  <tbody>\n    <tr>\n      <th>Price</th>\n      <td>46871.0</td>\n      <td>425069.390775</td>\n      <td>107227.324906</td>\n      <td>100000.000000</td>\n      <td>349950.000000</td>\n      <td>425000.000000</td>\n      <td>515000.000000</td>\n      <td>600000.000000</td>\n    </tr>\n    <tr>\n      <th>bedrooms</th>\n      <td>46871.0</td>\n      <td>1.992469</td>\n      <td>0.828837</td>\n      <td>1.000000</td>\n      <td>1.000000</td>\n      <td>2.000000</td>\n      <td>3.000000</td>\n      <td>7.000000</td>\n    </tr>\n    <tr>\n      <th>bathrooms</th>\n      <td>46871.0</td>\n      <td>1.182074</td>\n      <td>0.409879</td>\n      <td>1.000000</td>\n      <td>1.000000</td>\n      <td>1.000000</td>\n      <td>1.000000</td>\n      <td>5.000000</td>\n    </tr>\n    <tr>\n      <th>nearestStation</th>\n      <td>46871.0</td>\n      <td>0.438847</td>\n      <td>0.325942</td>\n      <td>0.000000</td>\n      <td>0.227169</td>\n      <td>0.367971</td>\n      <td>0.559620</td>\n      <td>7.197700</td>\n    </tr>\n    <tr>\n      <th>location.latitude</th>\n      <td>46871.0</td>\n      <td>51.497049</td>\n      <td>0.077085</td>\n      <td>51.298317</td>\n      <td>51.438861</td>\n      <td>51.499977</td>\n      <td>51.556183</td>\n      <td>51.683185</td>\n    </tr>\n    <tr>\n      <th>location.longitude</th>\n      <td>46871.0</td>\n      <td>-0.113269</td>\n      <td>0.156489</td>\n      <td>-0.498315</td>\n      <td>-0.210796</td>\n      <td>-0.102230</td>\n      <td>-0.010343</td>\n      <td>0.279726</td>\n    </tr>\n    <tr>\n      <th>latitude_deviation</th>\n      <td>46871.0</td>\n      <td>0.064317</td>\n      <td>0.042573</td>\n      <td>0.000000</td>\n      <td>0.028876</td>\n      <td>0.058595</td>\n      <td>0.094362</td>\n      <td>0.201403</td>\n    </tr>\n    <tr>\n      <th>longitude_deviation</th>\n      <td>46871.0</td>\n      <td>0.124202</td>\n      <td>0.095607</td>\n      <td>0.000000</td>\n      <td>0.043560</td>\n      <td>0.098984</td>\n      <td>0.192684</td>\n      <td>0.393895</td>\n    </tr>\n  </tbody>\n</table>\n</div>"
     },
     "execution_count": 10,
     "metadata": {},
     "output_type": "execute_result"
    }
   ],
   "source": [
    "df.info()\n",
    "df.describe()\n",
    "df.describe().T"
   ]
  },
  {
   "cell_type": "code",
   "execution_count": 11,
   "metadata": {
    "execution": {
     "iopub.execute_input": "2022-11-14T17:50:33.812627Z",
     "iopub.status.busy": "2022-11-14T17:50:33.812396Z",
     "iopub.status.idle": "2022-11-14T17:50:33.858568Z",
     "shell.execute_reply": "2022-11-14T17:50:33.857841Z",
     "shell.execute_reply.started": "2022-11-14T17:50:33.812608Z"
    }
   },
   "outputs": [
    {
     "name": "stdout",
     "output_type": "stream",
     "text": [
      "dataframe contract due to cleaning: 46871 ==> 46871\n"
     ]
    },
    {
     "data": {
      "text/plain": "                       count           mean            std            min  \\\nPrice                46871.0  425069.390775  107227.324906  100000.000000   \nbedrooms             46871.0       1.992469       0.828837       1.000000   \nbathrooms            46871.0       1.182074       0.409879       1.000000   \nnearestStation       46871.0       0.438847       0.325942       0.000000   \nlocation.latitude    46871.0      51.497049       0.077085      51.298317   \nlocation.longitude   46871.0      -0.113269       0.156489      -0.498315   \nlatitude_deviation   46871.0       0.064317       0.042573       0.000000   \nlongitude_deviation  46871.0       0.124202       0.095607       0.000000   \n\n                               25%            50%            75%  \\\nPrice                349950.000000  425000.000000  515000.000000   \nbedrooms                  1.000000       2.000000       3.000000   \nbathrooms                 1.000000       1.000000       1.000000   \nnearestStation            0.227169       0.367971       0.559620   \nlocation.latitude        51.438861      51.499977      51.556183   \nlocation.longitude       -0.210796      -0.102230      -0.010343   \nlatitude_deviation        0.028876       0.058595       0.094362   \nlongitude_deviation       0.043560       0.098984       0.192684   \n\n                               max  \nPrice                600000.000000  \nbedrooms                  7.000000  \nbathrooms                 5.000000  \nnearestStation            7.197700  \nlocation.latitude        51.683185  \nlocation.longitude        0.279726  \nlatitude_deviation        0.201403  \nlongitude_deviation       0.393895  ",
      "text/html": "<div>\n<style scoped>\n    .dataframe tbody tr th:only-of-type {\n        vertical-align: middle;\n    }\n\n    .dataframe tbody tr th {\n        vertical-align: top;\n    }\n\n    .dataframe thead th {\n        text-align: right;\n    }\n</style>\n<table border=\"1\" class=\"dataframe\">\n  <thead>\n    <tr style=\"text-align: right;\">\n      <th></th>\n      <th>count</th>\n      <th>mean</th>\n      <th>std</th>\n      <th>min</th>\n      <th>25%</th>\n      <th>50%</th>\n      <th>75%</th>\n      <th>max</th>\n    </tr>\n  </thead>\n  <tbody>\n    <tr>\n      <th>Price</th>\n      <td>46871.0</td>\n      <td>425069.390775</td>\n      <td>107227.324906</td>\n      <td>100000.000000</td>\n      <td>349950.000000</td>\n      <td>425000.000000</td>\n      <td>515000.000000</td>\n      <td>600000.000000</td>\n    </tr>\n    <tr>\n      <th>bedrooms</th>\n      <td>46871.0</td>\n      <td>1.992469</td>\n      <td>0.828837</td>\n      <td>1.000000</td>\n      <td>1.000000</td>\n      <td>2.000000</td>\n      <td>3.000000</td>\n      <td>7.000000</td>\n    </tr>\n    <tr>\n      <th>bathrooms</th>\n      <td>46871.0</td>\n      <td>1.182074</td>\n      <td>0.409879</td>\n      <td>1.000000</td>\n      <td>1.000000</td>\n      <td>1.000000</td>\n      <td>1.000000</td>\n      <td>5.000000</td>\n    </tr>\n    <tr>\n      <th>nearestStation</th>\n      <td>46871.0</td>\n      <td>0.438847</td>\n      <td>0.325942</td>\n      <td>0.000000</td>\n      <td>0.227169</td>\n      <td>0.367971</td>\n      <td>0.559620</td>\n      <td>7.197700</td>\n    </tr>\n    <tr>\n      <th>location.latitude</th>\n      <td>46871.0</td>\n      <td>51.497049</td>\n      <td>0.077085</td>\n      <td>51.298317</td>\n      <td>51.438861</td>\n      <td>51.499977</td>\n      <td>51.556183</td>\n      <td>51.683185</td>\n    </tr>\n    <tr>\n      <th>location.longitude</th>\n      <td>46871.0</td>\n      <td>-0.113269</td>\n      <td>0.156489</td>\n      <td>-0.498315</td>\n      <td>-0.210796</td>\n      <td>-0.102230</td>\n      <td>-0.010343</td>\n      <td>0.279726</td>\n    </tr>\n    <tr>\n      <th>latitude_deviation</th>\n      <td>46871.0</td>\n      <td>0.064317</td>\n      <td>0.042573</td>\n      <td>0.000000</td>\n      <td>0.028876</td>\n      <td>0.058595</td>\n      <td>0.094362</td>\n      <td>0.201403</td>\n    </tr>\n    <tr>\n      <th>longitude_deviation</th>\n      <td>46871.0</td>\n      <td>0.124202</td>\n      <td>0.095607</td>\n      <td>0.000000</td>\n      <td>0.043560</td>\n      <td>0.098984</td>\n      <td>0.192684</td>\n      <td>0.393895</td>\n    </tr>\n  </tbody>\n</table>\n</div>"
     },
     "execution_count": 11,
     "metadata": {},
     "output_type": "execute_result"
    }
   ],
   "source": [
    "old_length = len(df)\n",
    "\n",
    "df = preprocess(df, version=VERSION)\n",
    "\n",
    "print(f\"dataframe contract due to cleaning: {old_length} ==> {len(df)}\")\n",
    "old_length = len(df)\n",
    "\n",
    "df.describe().T"
   ]
  },
  {
   "cell_type": "code",
   "execution_count": 12,
   "metadata": {
    "execution": {
     "iopub.execute_input": "2022-11-14T17:50:33.859847Z",
     "iopub.status.busy": "2022-11-14T17:50:33.859651Z",
     "iopub.status.idle": "2022-11-14T17:50:33.868919Z",
     "shell.execute_reply": "2022-11-14T17:50:33.868134Z",
     "shell.execute_reply.started": "2022-11-14T17:50:33.859829Z"
    }
   },
   "outputs": [
    {
     "data": {
      "text/plain": "Price                     0\nbedrooms                  0\nbathrooms                 0\nnearestStation            0\nlocation.latitude         0\nlocation.longitude        0\nlatitude_deviation        0\nlongitude_deviation       0\ntenure.tenureType      2744\ndtype: int64"
     },
     "execution_count": 12,
     "metadata": {},
     "output_type": "execute_result"
    }
   ],
   "source": [
    "df.isna().sum()"
   ]
  },
  {
   "cell_type": "code",
   "execution_count": 13,
   "metadata": {
    "execution": {
     "iopub.execute_input": "2022-11-14T17:50:33.870039Z",
     "iopub.status.busy": "2022-11-14T17:50:33.869858Z",
     "iopub.status.idle": "2022-11-14T17:50:33.903990Z",
     "shell.execute_reply": "2022-11-14T17:50:33.903481Z",
     "shell.execute_reply.started": "2022-11-14T17:50:33.870022Z"
    }
   },
   "outputs": [
    {
     "name": "stdout",
     "output_type": "stream",
     "text": [
      "46871 ==> 44127\n"
     ]
    },
    {
     "data": {
      "text/plain": "               Price      bedrooms    bathrooms  nearestStation  \\\ncount   44127.000000  44127.000000  44127.00000    44127.000000   \nmean   425224.642373      1.990981      1.18134        0.438522   \nstd    107203.332660      0.827621      0.40893        0.324152   \nmin    100000.000000      1.000000      1.00000        0.000000   \n25%    349950.000000      1.000000      1.00000        0.227551   \n50%    425000.000000      2.000000      1.00000        0.368351   \n75%    515000.000000      3.000000      1.00000        0.559486   \nmax    600000.000000      7.000000      5.00000        7.197700   \n\n       location.latitude  location.longitude  latitude_deviation  \\\ncount       44127.000000        44127.000000        44127.000000   \nmean           51.496711           -0.113106            0.064544   \nstd             0.077267            0.155863            0.042583   \nmin            51.298317           -0.498315            0.000000   \n25%            51.438303           -0.210633            0.029023   \n50%            51.498780           -0.101910            0.058904   \n75%            51.556343           -0.010854            0.094620   \nmax            51.683185            0.279726            0.201403   \n\n       longitude_deviation  \ncount         44127.000000  \nmean              0.123699  \nstd               0.095220  \nmin               0.000000  \n25%               0.043551  \n50%               0.098750  \n75%               0.191727  \nmax               0.393895  ",
      "text/html": "<div>\n<style scoped>\n    .dataframe tbody tr th:only-of-type {\n        vertical-align: middle;\n    }\n\n    .dataframe tbody tr th {\n        vertical-align: top;\n    }\n\n    .dataframe thead th {\n        text-align: right;\n    }\n</style>\n<table border=\"1\" class=\"dataframe\">\n  <thead>\n    <tr style=\"text-align: right;\">\n      <th></th>\n      <th>Price</th>\n      <th>bedrooms</th>\n      <th>bathrooms</th>\n      <th>nearestStation</th>\n      <th>location.latitude</th>\n      <th>location.longitude</th>\n      <th>latitude_deviation</th>\n      <th>longitude_deviation</th>\n    </tr>\n  </thead>\n  <tbody>\n    <tr>\n      <th>count</th>\n      <td>44127.000000</td>\n      <td>44127.000000</td>\n      <td>44127.00000</td>\n      <td>44127.000000</td>\n      <td>44127.000000</td>\n      <td>44127.000000</td>\n      <td>44127.000000</td>\n      <td>44127.000000</td>\n    </tr>\n    <tr>\n      <th>mean</th>\n      <td>425224.642373</td>\n      <td>1.990981</td>\n      <td>1.18134</td>\n      <td>0.438522</td>\n      <td>51.496711</td>\n      <td>-0.113106</td>\n      <td>0.064544</td>\n      <td>0.123699</td>\n    </tr>\n    <tr>\n      <th>std</th>\n      <td>107203.332660</td>\n      <td>0.827621</td>\n      <td>0.40893</td>\n      <td>0.324152</td>\n      <td>0.077267</td>\n      <td>0.155863</td>\n      <td>0.042583</td>\n      <td>0.095220</td>\n    </tr>\n    <tr>\n      <th>min</th>\n      <td>100000.000000</td>\n      <td>1.000000</td>\n      <td>1.00000</td>\n      <td>0.000000</td>\n      <td>51.298317</td>\n      <td>-0.498315</td>\n      <td>0.000000</td>\n      <td>0.000000</td>\n    </tr>\n    <tr>\n      <th>25%</th>\n      <td>349950.000000</td>\n      <td>1.000000</td>\n      <td>1.00000</td>\n      <td>0.227551</td>\n      <td>51.438303</td>\n      <td>-0.210633</td>\n      <td>0.029023</td>\n      <td>0.043551</td>\n    </tr>\n    <tr>\n      <th>50%</th>\n      <td>425000.000000</td>\n      <td>2.000000</td>\n      <td>1.00000</td>\n      <td>0.368351</td>\n      <td>51.498780</td>\n      <td>-0.101910</td>\n      <td>0.058904</td>\n      <td>0.098750</td>\n    </tr>\n    <tr>\n      <th>75%</th>\n      <td>515000.000000</td>\n      <td>3.000000</td>\n      <td>1.00000</td>\n      <td>0.559486</td>\n      <td>51.556343</td>\n      <td>-0.010854</td>\n      <td>0.094620</td>\n      <td>0.191727</td>\n    </tr>\n    <tr>\n      <th>max</th>\n      <td>600000.000000</td>\n      <td>7.000000</td>\n      <td>5.00000</td>\n      <td>7.197700</td>\n      <td>51.683185</td>\n      <td>0.279726</td>\n      <td>0.201403</td>\n      <td>0.393895</td>\n    </tr>\n  </tbody>\n</table>\n</div>"
     },
     "execution_count": 13,
     "metadata": {},
     "output_type": "execute_result"
    }
   ],
   "source": [
    "df = df.dropna()\n",
    "print(f\"{old_length} ==> {len(df)}\")\n",
    "old_length = len(df)\n",
    "df.describe()"
   ]
  },
  {
   "cell_type": "code",
   "execution_count": 14,
   "metadata": {
    "execution": {
     "iopub.execute_input": "2022-11-14T17:50:33.905003Z",
     "iopub.status.busy": "2022-11-14T17:50:33.904814Z",
     "iopub.status.idle": "2022-11-14T17:50:33.939375Z",
     "shell.execute_reply": "2022-11-14T17:50:33.938757Z",
     "shell.execute_reply.started": "2022-11-14T17:50:33.904985Z"
    }
   },
   "outputs": [
    {
     "name": "stdout",
     "output_type": "stream",
     "text": [
      "(39714, 11) (4413, 11) (39714, 1) (4413, 1) (39714, 1) (4413, 1) (39714, 1) (4413, 1)\n"
     ]
    }
   ],
   "source": [
    "X_train, X_test, y_train, y_test, X_train_index, X_test_index, y_train_index, y_test_index, df_features, df_labels = create_train_test_data(\n",
    "    df,\n",
    "    categories=categories,\n",
    "    RANDOM_STATE=RANDOM_STATE, return_index=True,\n",
    "    drop_nulls=True)\n",
    "\n",
    "print(X_train.shape, X_test.shape, y_train.shape, y_test.shape, X_train_index.shape, X_test_index.shape,\n",
    "      y_train_index.shape, y_test_index.shape)\n"
   ]
  },
  {
   "cell_type": "code",
   "execution_count": 15,
   "metadata": {
    "execution": {
     "iopub.execute_input": "2022-11-14T17:50:33.940563Z",
     "iopub.status.busy": "2022-11-14T17:50:33.940351Z",
     "iopub.status.idle": "2022-11-14T17:50:33.943721Z",
     "shell.execute_reply": "2022-11-14T17:50:33.943004Z",
     "shell.execute_reply.started": "2022-11-14T17:50:33.940543Z"
    }
   },
   "outputs": [],
   "source": [
    "#imputer = SimpleImputer(strategy='mean')\n",
    "#imputer.fit(X_train[6])\n",
    "#X_train[6] = imputer.transform(X_train[6])"
   ]
  },
  {
   "cell_type": "code",
   "execution_count": 16,
   "metadata": {
    "collapsed": false,
    "execution": {
     "iopub.execute_input": "2022-11-14T17:50:33.944751Z",
     "iopub.status.busy": "2022-11-14T17:50:33.944575Z",
     "iopub.status.idle": "2022-11-14T17:50:33.952329Z",
     "shell.execute_reply": "2022-11-14T17:50:33.951765Z",
     "shell.execute_reply.started": "2022-11-14T17:50:33.944734Z"
    },
    "jupyter": {
     "outputs_hidden": false
    }
   },
   "outputs": [
    {
     "data": {
      "text/plain": "Pipeline(steps=[('std_scaler', StandardScaler()),\n                ('model',\n                 KerasRegressor(model=<function make_regression_ann at 0x7f2e9e323af0>, verbose=0))])",
      "text/html": "<style>#sk-container-id-1 {color: black;background-color: white;}#sk-container-id-1 pre{padding: 0;}#sk-container-id-1 div.sk-toggleable {background-color: white;}#sk-container-id-1 label.sk-toggleable__label {cursor: pointer;display: block;width: 100%;margin-bottom: 0;padding: 0.3em;box-sizing: border-box;text-align: center;}#sk-container-id-1 label.sk-toggleable__label-arrow:before {content: \"▸\";float: left;margin-right: 0.25em;color: #696969;}#sk-container-id-1 label.sk-toggleable__label-arrow:hover:before {color: black;}#sk-container-id-1 div.sk-estimator:hover label.sk-toggleable__label-arrow:before {color: black;}#sk-container-id-1 div.sk-toggleable__content {max-height: 0;max-width: 0;overflow: hidden;text-align: left;background-color: #f0f8ff;}#sk-container-id-1 div.sk-toggleable__content pre {margin: 0.2em;color: black;border-radius: 0.25em;background-color: #f0f8ff;}#sk-container-id-1 input.sk-toggleable__control:checked~div.sk-toggleable__content {max-height: 200px;max-width: 100%;overflow: auto;}#sk-container-id-1 input.sk-toggleable__control:checked~label.sk-toggleable__label-arrow:before {content: \"▾\";}#sk-container-id-1 div.sk-estimator input.sk-toggleable__control:checked~label.sk-toggleable__label {background-color: #d4ebff;}#sk-container-id-1 div.sk-label input.sk-toggleable__control:checked~label.sk-toggleable__label {background-color: #d4ebff;}#sk-container-id-1 input.sk-hidden--visually {border: 0;clip: rect(1px 1px 1px 1px);clip: rect(1px, 1px, 1px, 1px);height: 1px;margin: -1px;overflow: hidden;padding: 0;position: absolute;width: 1px;}#sk-container-id-1 div.sk-estimator {font-family: monospace;background-color: #f0f8ff;border: 1px dotted black;border-radius: 0.25em;box-sizing: border-box;margin-bottom: 0.5em;}#sk-container-id-1 div.sk-estimator:hover {background-color: #d4ebff;}#sk-container-id-1 div.sk-parallel-item::after {content: \"\";width: 100%;border-bottom: 1px solid gray;flex-grow: 1;}#sk-container-id-1 div.sk-label:hover label.sk-toggleable__label {background-color: #d4ebff;}#sk-container-id-1 div.sk-serial::before {content: \"\";position: absolute;border-left: 1px solid gray;box-sizing: border-box;top: 0;bottom: 0;left: 50%;z-index: 0;}#sk-container-id-1 div.sk-serial {display: flex;flex-direction: column;align-items: center;background-color: white;padding-right: 0.2em;padding-left: 0.2em;position: relative;}#sk-container-id-1 div.sk-item {position: relative;z-index: 1;}#sk-container-id-1 div.sk-parallel {display: flex;align-items: stretch;justify-content: center;background-color: white;position: relative;}#sk-container-id-1 div.sk-item::before, #sk-container-id-1 div.sk-parallel-item::before {content: \"\";position: absolute;border-left: 1px solid gray;box-sizing: border-box;top: 0;bottom: 0;left: 50%;z-index: -1;}#sk-container-id-1 div.sk-parallel-item {display: flex;flex-direction: column;z-index: 1;position: relative;background-color: white;}#sk-container-id-1 div.sk-parallel-item:first-child::after {align-self: flex-end;width: 50%;}#sk-container-id-1 div.sk-parallel-item:last-child::after {align-self: flex-start;width: 50%;}#sk-container-id-1 div.sk-parallel-item:only-child::after {width: 0;}#sk-container-id-1 div.sk-dashed-wrapped {border: 1px dashed gray;margin: 0 0.4em 0.5em 0.4em;box-sizing: border-box;padding-bottom: 0.4em;background-color: white;}#sk-container-id-1 div.sk-label label {font-family: monospace;font-weight: bold;display: inline-block;line-height: 1.2em;}#sk-container-id-1 div.sk-label-container {text-align: center;}#sk-container-id-1 div.sk-container {/* jupyter's `normalize.less` sets `[hidden] { display: none; }` but bootstrap.min.css set `[hidden] { display: none !important; }` so we also need the `!important` here to be able to override the default hidden behavior on the sphinx rendered scikit-learn.org. See: https://github.com/scikit-learn/scikit-learn/issues/21755 */display: inline-block !important;position: relative;}#sk-container-id-1 div.sk-text-repr-fallback {display: none;}</style><div id=\"sk-container-id-1\" class=\"sk-top-container\"><div class=\"sk-text-repr-fallback\"><pre>Pipeline(steps=[(&#x27;std_scaler&#x27;, StandardScaler()),\n                (&#x27;model&#x27;,\n                 KerasRegressor(model=&lt;function make_regression_ann at 0x7f2e9e323af0&gt;, verbose=0))])</pre><b>In a Jupyter environment, please rerun this cell to show the HTML representation or trust the notebook. <br />On GitHub, the HTML representation is unable to render, please try loading this page with nbviewer.org.</b></div><div class=\"sk-container\" hidden><div class=\"sk-item sk-dashed-wrapped\"><div class=\"sk-label-container\"><div class=\"sk-label sk-toggleable\"><input class=\"sk-toggleable__control sk-hidden--visually\" id=\"sk-estimator-id-1\" type=\"checkbox\" ><label for=\"sk-estimator-id-1\" class=\"sk-toggleable__label sk-toggleable__label-arrow\">Pipeline</label><div class=\"sk-toggleable__content\"><pre>Pipeline(steps=[(&#x27;std_scaler&#x27;, StandardScaler()),\n                (&#x27;model&#x27;,\n                 KerasRegressor(model=&lt;function make_regression_ann at 0x7f2e9e323af0&gt;, verbose=0))])</pre></div></div></div><div class=\"sk-serial\"><div class=\"sk-item\"><div class=\"sk-estimator sk-toggleable\"><input class=\"sk-toggleable__control sk-hidden--visually\" id=\"sk-estimator-id-2\" type=\"checkbox\" ><label for=\"sk-estimator-id-2\" class=\"sk-toggleable__label sk-toggleable__label-arrow\">StandardScaler</label><div class=\"sk-toggleable__content\"><pre>StandardScaler()</pre></div></div></div><div class=\"sk-item\"><div class=\"sk-estimator sk-toggleable\"><input class=\"sk-toggleable__control sk-hidden--visually\" id=\"sk-estimator-id-3\" type=\"checkbox\" ><label for=\"sk-estimator-id-3\" class=\"sk-toggleable__label sk-toggleable__label-arrow\">KerasRegressor</label><div class=\"sk-toggleable__content\"><pre>KerasRegressor(\n\tmodel=&lt;function make_regression_ann at 0x7f2e9e323af0&gt;\n\tbuild_fn=None\n\twarm_start=False\n\trandom_state=None\n\toptimizer=rmsprop\n\tloss=None\n\tmetrics=None\n\tbatch_size=None\n\tvalidation_batch_size=None\n\tverbose=0\n\tcallbacks=None\n\tvalidation_split=0.0\n\tshuffle=True\n\trun_eagerly=False\n\tepochs=1\n)</pre></div></div></div></div></div></div></div>"
     },
     "execution_count": 16,
     "metadata": {},
     "output_type": "execute_result"
    }
   ],
   "source": [
    "starter_pipe = make_modelling_pipeline(KerasRegressor(make_regression_ann, verbose=0), DATA_DETAIL)\n",
    "starter_pipe"
   ]
  },
  {
   "cell_type": "code",
   "execution_count": 17,
   "metadata": {
    "collapsed": false,
    "execution": {
     "iopub.execute_input": "2022-11-14T17:50:33.953300Z",
     "iopub.status.busy": "2022-11-14T17:50:33.953097Z",
     "iopub.status.idle": "2022-11-14T17:50:33.957332Z",
     "shell.execute_reply": "2022-11-14T17:50:33.956807Z",
     "shell.execute_reply.started": "2022-11-14T17:50:33.953279Z"
    },
    "jupyter": {
     "outputs_hidden": false
    }
   },
   "outputs": [
    {
     "data": {
      "text/plain": "{'model': <function __main__.make_regression_ann(initializer='uniform', activation='relu', optimizer='adam', loss='mse')>,\n 'build_fn': None,\n 'warm_start': False,\n 'random_state': None,\n 'optimizer': 'rmsprop',\n 'loss': None,\n 'metrics': None,\n 'batch_size': None,\n 'validation_batch_size': None,\n 'verbose': 0,\n 'callbacks': None,\n 'validation_split': 0.0,\n 'shuffle': True,\n 'run_eagerly': False,\n 'epochs': 1}"
     },
     "execution_count": 17,
     "metadata": {},
     "output_type": "execute_result"
    }
   ],
   "source": [
    "starter_model = starter_pipe[-1]\n",
    "default_model_params = starter_model.get_params()\n",
    "default_model_params"
   ]
  },
  {
   "cell_type": "code",
   "execution_count": 18,
   "metadata": {
    "collapsed": false,
    "execution": {
     "iopub.execute_input": "2022-11-14T17:50:33.958438Z",
     "iopub.status.busy": "2022-11-14T17:50:33.958260Z",
     "iopub.status.idle": "2022-11-14T17:50:33.962787Z",
     "shell.execute_reply": "2022-11-14T17:50:33.962081Z",
     "shell.execute_reply.started": "2022-11-14T17:50:33.958422Z"
    },
    "jupyter": {
     "outputs_hidden": false
    }
   },
   "outputs": [
    {
     "data": {
      "text/plain": "['accuracy',\n 'adjusted_mutual_info_score',\n 'adjusted_rand_score',\n 'average_precision',\n 'balanced_accuracy',\n 'completeness_score',\n 'explained_variance',\n 'f1',\n 'f1_macro',\n 'f1_micro',\n 'f1_samples',\n 'f1_weighted',\n 'fowlkes_mallows_score',\n 'homogeneity_score',\n 'jaccard',\n 'jaccard_macro',\n 'jaccard_micro',\n 'jaccard_samples',\n 'jaccard_weighted',\n 'matthews_corrcoef',\n 'max_error',\n 'mutual_info_score',\n 'neg_brier_score',\n 'neg_log_loss',\n 'neg_mean_absolute_error',\n 'neg_mean_absolute_percentage_error',\n 'neg_mean_gamma_deviance',\n 'neg_mean_poisson_deviance',\n 'neg_mean_squared_error',\n 'neg_mean_squared_log_error',\n 'neg_median_absolute_error',\n 'neg_root_mean_squared_error',\n 'normalized_mutual_info_score',\n 'precision',\n 'precision_macro',\n 'precision_micro',\n 'precision_samples',\n 'precision_weighted',\n 'r2',\n 'rand_score',\n 'recall',\n 'recall_macro',\n 'recall_micro',\n 'recall_samples',\n 'recall_weighted',\n 'roc_auc',\n 'roc_auc_ovo',\n 'roc_auc_ovo_weighted',\n 'roc_auc_ovr',\n 'roc_auc_ovr_weighted',\n 'top_k_accuracy',\n 'v_measure_score']"
     },
     "execution_count": 18,
     "metadata": {},
     "output_type": "execute_result"
    }
   ],
   "source": [
    "import sklearn\n",
    "sklearn.metrics.get_scorer_names()"
   ]
  },
  {
   "cell_type": "code",
   "execution_count": 19,
   "metadata": {
    "collapsed": false,
    "execution": {
     "iopub.execute_input": "2022-11-14T17:50:33.964255Z",
     "iopub.status.busy": "2022-11-14T17:50:33.964037Z",
     "iopub.status.idle": "2022-11-14T17:50:33.967099Z",
     "shell.execute_reply": "2022-11-14T17:50:33.966505Z",
     "shell.execute_reply.started": "2022-11-14T17:50:33.964230Z"
    },
    "jupyter": {
     "outputs_hidden": false
    }
   },
   "outputs": [],
   "source": [
    "# SKIP %timeit starter_pipe.fit(X_train, y_train)"
   ]
  },
  {
   "cell_type": "code",
   "execution_count": 31,
   "metadata": {
    "collapsed": false,
    "execution": {
     "iopub.execute_input": "2022-11-14T17:55:40.014530Z",
     "iopub.status.busy": "2022-11-14T17:55:40.013696Z",
     "iopub.status.idle": "2022-11-14T17:55:40.021215Z",
     "shell.execute_reply": "2022-11-14T17:55:40.020667Z",
     "shell.execute_reply.started": "2022-11-14T17:55:40.014499Z"
    },
    "jupyter": {
     "outputs_hidden": false
    }
   },
   "outputs": [
    {
     "data": {
      "text/plain": "({'model__model__initializer': ['normal'],\n  'model__model__activation': ['relu'],\n  'model__optimizer': ['adam'],\n  'model__loss': ['mse'],\n  'model__verbose': [1],\n  'model__batch_size': [1000],\n  'model__epochs': [10, 20]},\n 3,\n 1,\n True,\n 2)"
     },
     "execution_count": 31,
     "metadata": {},
     "output_type": "execute_result"
    }
   ],
   "source": [
    "options_block = {\n",
    "    'model__model__initializer': ['normal'], #, 'uniform'],\n",
    "    'model__model__activation': ['relu'],\n",
    "    'model__optimizer': ['adam'],\n",
    "    'model__loss': ['mse'],\n",
    "    'model__verbose':[1],\n",
    "    'model__batch_size': [64, 132] if cloud_run else [1000, 5000],\n",
    "    'model__epochs': [1000, 5000] if cloud_run else [5,10,15],\n",
    "}\n",
    "\n",
    "redundant, cv, n_jobs, refit, n_iter, verbose = get_cv_params(options_block, debug_mode=debug_mode,\n",
    "                                                                  override_cv=OVERRIDE_CV,\n",
    "                                                                  override_niter=OVERRIDE_N_ITER,\n",
    "                                                                  override_njobs=OVERRIDE_JOBS)\n",
    "\n",
    "\n",
    "def automl_step(param_options, vary):\n",
    "    for key, value in param_options.items():\n",
    "        #print(key, value, vary)\n",
    "        if key != vary and key != 'model__' + vary:\n",
    "            param_options[key] = [param_options[key][0]]\n",
    "    return param_options\n",
    "\n",
    "options_block = automl_step(options_block, \"model__epochs\")\n",
    "pipeline_search_cv = make_modelling_pipeline(KerasRegressor(make_regression_ann, verbose=1), DATA_DETAIL)\n",
    "    \n",
    "options_block, cv, n_jobs, refit, n_iter"
   ]
  },
  {
   "cell_type": "code",
   "execution_count": 32,
   "metadata": {
    "collapsed": false,
    "execution": {
     "iopub.execute_input": "2022-11-14T17:57:51.055425Z",
     "iopub.status.busy": "2022-11-14T17:57:51.054863Z"
    },
    "jupyter": {
     "outputs_hidden": false
    }
   },
   "outputs": [
    {
     "name": "stdout",
     "output_type": "stream",
     "text": [
      "Fitting 3 folds for each of 2 candidates, totalling 6 fits\n",
      "Epoch 1/10\n",
      "27/27 [==============================] - 2s 39ms/step - loss: 192556957696.0000\n",
      "Epoch 2/10\n",
      "27/27 [==============================] - 1s 33ms/step - loss: 192393625600.0000\n",
      "Epoch 3/10\n",
      "27/27 [==============================] - 1s 35ms/step - loss: 190222696448.0000\n",
      "Epoch 4/10\n",
      "27/27 [==============================] - 1s 35ms/step - loss: 173310984192.0000\n",
      "Epoch 5/10\n",
      "27/27 [==============================] - 1s 39ms/step - loss: 102250405888.0000\n",
      "Epoch 6/10\n",
      "27/27 [==============================] - 1s 44ms/step - loss: 34887364608.0000\n",
      "Epoch 7/10\n",
      "27/27 [==============================] - 1s 39ms/step - loss: 24510406656.0000\n",
      "Epoch 8/10\n",
      "27/27 [==============================] - 1s 38ms/step - loss: 19941976064.0000\n",
      "Epoch 9/10\n",
      "27/27 [==============================] - 1s 43ms/step - loss: 17071387648.0000\n",
      "Epoch 10/10\n",
      "27/27 [==============================] - 1s 27ms/step - loss: 15116819456.0000\n",
      "14/14 [==============================] - 0s 8ms/step\n",
      "27/27 [==============================] - 0s 11ms/step\n",
      "[CV 1/3] END model__batch_size=1000, model__epochs=10, model__loss=mse, model__model__activation=relu, model__model__initializer=normal, model__optimizer=adam, model__verbose=1;, score=(train=-0.243, test=-0.378) total time=  11.8s\n",
      "Epoch 1/10\n",
      "27/27 [==============================] - 2s 41ms/step - loss: 192498876416.0000\n",
      "Epoch 2/10\n",
      "27/27 [==============================] - 1s 29ms/step - loss: 192108904448.0000\n",
      "Epoch 3/10\n",
      "27/27 [==============================] - 1s 28ms/step - loss: 187509587968.0000\n",
      "Epoch 4/10\n",
      "27/27 [==============================] - 1s 40ms/step - loss: 157324918784.0000\n",
      "Epoch 5/10\n",
      "27/27 [==============================] - 1s 43ms/step - loss: 62778191872.0000\n",
      "Epoch 6/10\n",
      "27/27 [==============================] - 1s 46ms/step - loss: 21715212288.0000\n",
      "Epoch 7/10\n",
      "27/27 [==============================] - 1s 42ms/step - loss: 16699215872.0000\n",
      "Epoch 8/10\n",
      "27/27 [==============================] - 1s 38ms/step - loss: 14487450624.0000\n",
      "Epoch 9/10\n",
      "27/27 [==============================] - 1s 43ms/step - loss: 13048116224.0000\n",
      "Epoch 10/10\n",
      "27/27 [==============================] - 1s 39ms/step - loss: 12017826816.0000\n",
      "14/14 [==============================] - 0s 13ms/step\n",
      "27/27 [==============================] - 0s 13ms/step\n",
      "[CV 2/3] END model__batch_size=1000, model__epochs=10, model__loss=mse, model__model__activation=relu, model__model__initializer=normal, model__optimizer=adam, model__verbose=1;, score=(train=0.007, test=0.011) total time=  12.1s\n",
      "Epoch 1/10\n",
      "27/27 [==============================] - 2s 34ms/step - loss: 191936954368.0000\n",
      "Epoch 2/10\n",
      "27/27 [==============================] - 1s 33ms/step - loss: 191175622656.0000\n",
      "Epoch 3/10\n",
      "27/27 [==============================] - 1s 34ms/step - loss: 182193209344.0000\n",
      "Epoch 4/10\n",
      "27/27 [==============================] - 1s 32ms/step - loss: 127853617152.0000\n",
      "Epoch 5/10\n",
      "27/27 [==============================] - 1s 33ms/step - loss: 40588054528.0000\n",
      "Epoch 6/10\n",
      "27/27 [==============================] - 1s 32ms/step - loss: 21004335104.0000\n",
      "Epoch 7/10\n",
      "27/27 [==============================] - 1s 41ms/step - loss: 15736226816.0000\n",
      "Epoch 8/10\n",
      "27/27 [==============================] - 1s 40ms/step - loss: 13585157120.0000\n",
      "Epoch 9/10\n",
      "27/27 [==============================] - 1s 38ms/step - loss: 11935292416.0000\n",
      "Epoch 10/10\n",
      "27/27 [==============================] - 1s 31ms/step - loss: 10884004864.0000\n",
      "14/14 [==============================] - 1s 24ms/step\n",
      "27/27 [==============================] - 1s 18ms/step\n",
      "[CV 3/3] END model__batch_size=1000, model__epochs=10, model__loss=mse, model__model__activation=relu, model__model__initializer=normal, model__optimizer=adam, model__verbose=1;, score=(train=0.085, test=0.146) total time=  11.6s\n",
      "Epoch 1/20\n",
      "27/27 [==============================] - 3s 60ms/step - loss: 192544948224.0000\n",
      "Epoch 2/20\n",
      "27/27 [==============================] - 1s 35ms/step - loss: 192019890176.0000\n",
      "Epoch 3/20\n",
      "27/27 [==============================] - 1s 48ms/step - loss: 185572179968.0000\n",
      "Epoch 4/20\n",
      "27/27 [==============================] - 1s 40ms/step - loss: 144304357376.0000\n",
      "Epoch 5/20\n",
      "27/27 [==============================] - 1s 36ms/step - loss: 52289540096.0000\n",
      "Epoch 6/20\n",
      "27/27 [==============================] - 1s 33ms/step - loss: 25630203904.0000\n",
      "Epoch 7/20\n",
      "27/27 [==============================] - 1s 35ms/step - loss: 19460085760.0000\n",
      "Epoch 8/20\n",
      "27/27 [==============================] - 1s 36ms/step - loss: 16446879744.0000\n",
      "Epoch 9/20\n",
      "27/27 [==============================] - 1s 38ms/step - loss: 14381702144.0000\n",
      "Epoch 10/20\n",
      "27/27 [==============================] - 1s 49ms/step - loss: 12836954112.0000\n",
      "Epoch 11/20\n",
      "27/27 [==============================] - 2s 69ms/step - loss: 11692925952.0000\n",
      "Epoch 12/20\n",
      "27/27 [==============================] - 1s 46ms/step - loss: 10786522112.0000\n",
      "Epoch 13/20\n",
      "27/27 [==============================] - 1s 38ms/step - loss: 10037523456.0000\n",
      "Epoch 14/20\n",
      "27/27 [==============================] - 1s 38ms/step - loss: 9478080512.0000\n",
      "Epoch 15/20\n",
      "27/27 [==============================] - 1s 48ms/step - loss: 8995367936.0000\n",
      "Epoch 16/20\n",
      "27/27 [==============================] - 1s 41ms/step - loss: 8607288320.0000\n",
      "Epoch 17/20\n",
      "27/27 [==============================] - 1s 36ms/step - loss: 8289006080.0000\n",
      "Epoch 18/20\n",
      "27/27 [==============================] - 2s 58ms/step - loss: 8019702272.0000\n",
      "Epoch 19/20\n",
      "27/27 [==============================] - 1s 52ms/step - loss: 7791981568.0000\n",
      "Epoch 20/20\n",
      "27/27 [==============================] - 1s 44ms/step - loss: 7598333952.0000\n",
      "14/14 [==============================] - 0s 12ms/step\n",
      "27/27 [==============================] - 0s 12ms/step\n",
      "[CV 1/3] END model__batch_size=1000, model__epochs=20, model__loss=mse, model__model__activation=relu, model__model__initializer=normal, model__optimizer=adam, model__verbose=1;, score=(train=0.351, test=0.351) total time=  26.0s\n",
      "Epoch 1/20\n",
      "27/27 [==============================] - 2s 45ms/step - loss: 192496205824.0000\n",
      "Epoch 2/20\n",
      "27/27 [==============================] - 1s 32ms/step - loss: 192016564224.0000\n",
      "Epoch 3/20\n",
      "27/27 [==============================] - 1s 32ms/step - loss: 186197458944.0000\n",
      "Epoch 4/20\n",
      "27/27 [==============================] - 1s 35ms/step - loss: 150036758528.0000\n",
      "Epoch 5/20\n",
      "27/27 [==============================] - 1s 34ms/step - loss: 58682667008.0000\n",
      "Epoch 6/20\n",
      "27/27 [==============================] - 1s 34ms/step - loss: 27471501312.0000\n",
      "Epoch 7/20\n",
      "27/27 [==============================] - 1s 32ms/step - loss: 19953510400.0000\n",
      "Epoch 8/20\n",
      "27/27 [==============================] - 1s 41ms/step - loss: 16308744192.0000\n",
      "Epoch 9/20\n",
      "27/27 [==============================] - 1s 50ms/step - loss: 14122714112.0000\n",
      "Epoch 10/20\n",
      "27/27 [==============================] - 1s 40ms/step - loss: 12626194432.0000\n",
      "Epoch 11/20\n",
      "27/27 [==============================] - 1s 44ms/step - loss: 11548756992.0000\n",
      "Epoch 12/20\n",
      "27/27 [==============================] - 1s 39ms/step - loss: 10751526912.0000\n",
      "Epoch 13/20\n",
      "27/27 [==============================] - 2s 75ms/step - loss: 10110796800.0000\n",
      "Epoch 14/20\n",
      "27/27 [==============================] - 1s 39ms/step - loss: 9604541440.0000\n",
      "Epoch 15/20\n",
      "27/27 [==============================] - 1s 39ms/step - loss: 9179270144.0000\n",
      "Epoch 16/20\n",
      "27/27 [==============================] - 2s 58ms/step - loss: 8820152320.0000\n",
      "Epoch 17/20\n",
      "27/27 [==============================] - 1s 46ms/step - loss: 8517180928.0000\n",
      "Epoch 18/20\n",
      "27/27 [==============================] - 1s 37ms/step - loss: 8261730816.0000\n",
      "Epoch 19/20\n",
      "27/27 [==============================] - 1s 43ms/step - loss: 8042417152.0000\n",
      "Epoch 20/20\n",
      "27/27 [==============================] - 1s 35ms/step - loss: 7858304512.0000\n",
      "14/14 [==============================] - 0s 14ms/step\n",
      "27/27 [==============================] - 0s 8ms/step\n",
      "[CV 2/3] END model__batch_size=1000, model__epochs=20, model__loss=mse, model__model__activation=relu, model__model__initializer=normal, model__optimizer=adam, model__verbose=1;, score=(train=0.327, test=0.324) total time=  42.8s\n",
      "Epoch 1/20\n",
      "27/27 [==============================] - 2s 42ms/step - loss: 191953764352.0000\n",
      "Epoch 2/20\n",
      "27/27 [==============================] - 1s 42ms/step - loss: 191680544768.0000\n",
      "Epoch 3/20\n",
      "27/27 [==============================] - 1s 44ms/step - loss: 188036136960.0000\n",
      "Epoch 4/20\n",
      "27/27 [==============================] - 1s 44ms/step - loss: 161587970048.0000\n",
      "Epoch 5/20\n",
      "27/27 [==============================] - 1s 34ms/step - loss: 72774123520.0000\n",
      "Epoch 6/20\n",
      "27/27 [==============================] - 1s 45ms/step - loss: 25012994048.0000\n",
      "Epoch 7/20\n",
      "27/27 [==============================] - 1s 41ms/step - loss: 16998034432.0000\n",
      "Epoch 8/20\n",
      "27/27 [==============================] - 1s 45ms/step - loss: 14138003456.0000\n",
      "Epoch 9/20\n",
      "27/27 [==============================] - 1s 36ms/step - loss: 12353929216.0000\n",
      "Epoch 10/20\n",
      "27/27 [==============================] - 1s 35ms/step - loss: 11133142016.0000\n",
      "Epoch 11/20\n",
      "27/27 [==============================] - 1s 38ms/step - loss: 10284130304.0000\n",
      "Epoch 12/20\n",
      "27/27 [==============================] - 1s 45ms/step - loss: 9653081088.0000\n",
      "Epoch 13/20\n",
      "27/27 [==============================] - 1s 35ms/step - loss: 9175333888.0000\n",
      "Epoch 14/20\n",
      "27/27 [==============================] - 1s 35ms/step - loss: 8793890816.0000\n",
      "Epoch 15/20\n",
      "27/27 [==============================] - 1s 31ms/step - loss: 8488762368.0000\n",
      "Epoch 16/20\n",
      "27/27 [==============================] - 1s 35ms/step - loss: 8229746688.0000\n",
      "Epoch 17/20\n",
      "27/27 [==============================] - 1s 30ms/step - loss: 8006245376.0000\n",
      "Epoch 18/20\n",
      "27/27 [==============================] - 1s 38ms/step - loss: 7809506816.0000\n",
      "Epoch 19/20\n",
      "27/27 [==============================] - 1s 34ms/step - loss: 7637604352.0000\n",
      "Epoch 20/20\n",
      "27/27 [==============================] - 1s 33ms/step - loss: 7481244160.0000\n",
      "14/14 [==============================] - 0s 11ms/step\n",
      "27/27 [==============================] - 0s 12ms/step\n",
      "[CV 3/3] END model__batch_size=1000, model__epochs=20, model__loss=mse, model__model__activation=relu, model__model__initializer=normal, model__optimizer=adam, model__verbose=1;, score=(train=0.354, test=0.348) total time=  22.0s\n",
      "Epoch 1/20\n",
      "40/40 [==============================] - 2s 31ms/step - loss: 192264978432.0000\n",
      "Epoch 2/20\n",
      "40/40 [==============================] - 1s 34ms/step - loss: 186536640512.0000\n",
      "Epoch 3/20\n",
      "40/40 [==============================] - 2s 42ms/step - loss: 106172121088.0000\n",
      "Epoch 4/20\n",
      "40/40 [==============================] - 2s 41ms/step - loss: 24922877952.0000\n",
      "Epoch 5/20\n",
      "40/40 [==============================] - 2s 43ms/step - loss: 18140608512.0000\n",
      "Epoch 6/20\n",
      "40/40 [==============================] - 2s 41ms/step - loss: 14722328576.0000\n",
      "Epoch 7/20\n",
      "40/40 [==============================] - 2s 40ms/step - loss: 12565715968.0000\n",
      "Epoch 8/20\n",
      "40/40 [==============================] - 2s 41ms/step - loss: 11047649280.0000\n",
      "Epoch 9/20\n",
      "40/40 [==============================] - 2s 56ms/step - loss: 9954945024.0000\n",
      "Epoch 10/20\n",
      "40/40 [==============================] - 2s 42ms/step - loss: 9160145920.0000\n",
      "Epoch 11/20\n",
      "40/40 [==============================] - 2s 42ms/step - loss: 8607211520.0000\n",
      "Epoch 12/20\n",
      "40/40 [==============================] - 2s 42ms/step - loss: 8099789312.0000\n",
      "Epoch 13/20\n",
      "40/40 [==============================] - 1s 33ms/step - loss: 7758190592.0000\n",
      "Epoch 14/20\n",
      "40/40 [==============================] - 1s 34ms/step - loss: 7484791296.0000\n",
      "Epoch 15/20\n",
      "40/40 [==============================] - 1s 34ms/step - loss: 7257335808.0000\n",
      "Epoch 16/20\n",
      "40/40 [==============================] - 1s 32ms/step - loss: 7079501312.0000\n",
      "Epoch 17/20\n",
      "40/40 [==============================] - 1s 35ms/step - loss: 6917203456.0000\n",
      "Epoch 18/20\n",
      "40/40 [==============================] - 2s 40ms/step - loss: 6785681920.0000\n",
      "Epoch 19/20\n",
      "40/40 [==============================] - 1s 35ms/step - loss: 6669108736.0000\n",
      "Epoch 20/20\n",
      "40/40 [==============================] - 1s 34ms/step - loss: 6569989120.0000\n",
      "Fitting 3 folds for each of 2 candidates, totalling 6 fits\n",
      "Epoch 1/10\n",
      "27/27 [==============================] - 2s 29ms/step - loss: 192557056000.0000\n",
      "Epoch 2/10\n",
      "27/27 [==============================] - 1s 33ms/step - loss: 192385466368.0000\n",
      "Epoch 3/10\n",
      "27/27 [==============================] - 1s 32ms/step - loss: 190071078912.0000\n",
      "Epoch 4/10\n",
      "27/27 [==============================] - 1s 34ms/step - loss: 172807667712.0000\n",
      "Epoch 5/10\n",
      "27/27 [==============================] - 1s 33ms/step - loss: 100654481408.0000\n",
      "Epoch 6/10\n",
      "27/27 [==============================] - 1s 33ms/step - loss: 28464951296.0000\n",
      "Epoch 7/10\n",
      "27/27 [==============================] - 1s 33ms/step - loss: 20996902912.0000\n",
      "Epoch 8/10\n",
      "27/27 [==============================] - 1s 32ms/step - loss: 16887681024.0000\n",
      "Epoch 9/10\n",
      "27/27 [==============================] - 1s 35ms/step - loss: 14484774912.0000\n",
      "Epoch 10/10\n",
      "27/27 [==============================] - 1s 37ms/step - loss: 13099623424.0000\n",
      "14/14 [==============================] - 0s 10ms/step\n",
      "27/27 [==============================] - 0s 16ms/step\n",
      "[CV 1/3] END model__batch_size=1000, model__epochs=10, model__loss=mse, model__model__activation=relu, model__model__initializer=normal, model__optimizer=adam, model__verbose=1;, score=(train=-0.093, test=-0.329) total time=  10.4s\n",
      "Epoch 1/10\n",
      "27/27 [==============================] - 2s 36ms/step - loss: 192502792192.0000\n",
      "Epoch 2/10\n",
      "27/27 [==============================] - 1s 37ms/step - loss: 192216793088.0000\n",
      "Epoch 3/10\n",
      "27/27 [==============================] - 1s 56ms/step - loss: 188342976512.0000\n",
      "Epoch 4/10\n",
      "27/27 [==============================] - 1s 50ms/step - loss: 159375720448.0000\n",
      "Epoch 5/10\n",
      "27/27 [==============================] - 1s 43ms/step - loss: 70772441088.0000\n",
      "Epoch 6/10\n",
      "27/27 [==============================] - 1s 35ms/step - loss: 31390697472.0000\n",
      "Epoch 7/10\n",
      "27/27 [==============================] - 1s 34ms/step - loss: 19974627328.0000\n",
      "Epoch 8/10\n",
      "27/27 [==============================] - 1s 34ms/step - loss: 15612495872.0000\n",
      "Epoch 9/10\n",
      "27/27 [==============================] - 1s 31ms/step - loss: 13421019136.0000\n",
      "Epoch 10/10\n",
      "27/27 [==============================] - 1s 34ms/step - loss: 12283183104.0000\n",
      "14/14 [==============================] - 0s 10ms/step\n",
      "27/27 [==============================] - 0s 11ms/step\n",
      "[CV 2/3] END model__batch_size=1000, model__epochs=10, model__loss=mse, model__model__activation=relu, model__model__initializer=normal, model__optimizer=adam, model__verbose=1;, score=(train=-0.023, test=-0.021) total time=  12.2s\n",
      "Epoch 1/10\n",
      "27/27 [==============================] - 1s 26ms/step - loss: 191961382912.0000\n",
      "Epoch 2/10\n",
      "27/27 [==============================] - 1s 32ms/step - loss: 191961382912.0000\n",
      "Epoch 3/10\n",
      "27/27 [==============================] - 1s 33ms/step - loss: 191961366528.0000\n",
      "Epoch 4/10\n",
      "27/27 [==============================] - 1s 31ms/step - loss: 191961317376.0000\n",
      "Epoch 5/10\n",
      "27/27 [==============================] - 1s 37ms/step - loss: 191961300992.0000\n",
      "Epoch 6/10\n",
      "27/27 [==============================] - 1s 32ms/step - loss: 191961300992.0000\n",
      "Epoch 7/10\n",
      "27/27 [==============================] - 1s 38ms/step - loss: 191961268224.0000\n",
      "Epoch 8/10\n",
      "27/27 [==============================] - 1s 33ms/step - loss: 191961235456.0000\n",
      "Epoch 9/10\n",
      "27/27 [==============================] - 1s 33ms/step - loss: 191961219072.0000\n",
      "Epoch 10/10\n",
      "27/27 [==============================] - 1s 28ms/step - loss: 191961186304.0000\n",
      "14/14 [==============================] - 0s 9ms/step\n",
      "27/27 [==============================] - 0s 11ms/step\n",
      "[CV 3/3] END model__batch_size=1000, model__epochs=10, model__loss=mse, model__model__activation=relu, model__model__initializer=normal, model__optimizer=adam, model__verbose=1;, score=(train=-15.750, test=-15.618) total time=  10.0s\n",
      "Epoch 1/20\n",
      "27/27 [==============================] - 1s 27ms/step - loss: 192549093376.0000\n",
      "Epoch 2/20\n",
      "27/27 [==============================] - 1s 33ms/step - loss: 192163037184.0000\n",
      "Epoch 3/20\n",
      "27/27 [==============================] - 1s 31ms/step - loss: 187776237568.0000\n",
      "Epoch 4/20\n",
      "27/27 [==============================] - 1s 34ms/step - loss: 160204472320.0000\n",
      "Epoch 5/20\n",
      "27/27 [==============================] - 1s 30ms/step - loss: 74791665664.0000\n",
      "Epoch 6/20\n",
      "27/27 [==============================] - 1s 35ms/step - loss: 23959019520.0000\n",
      "Epoch 7/20\n",
      "27/27 [==============================] - 1s 34ms/step - loss: 18135304192.0000\n",
      "Epoch 8/20\n",
      "27/27 [==============================] - 1s 41ms/step - loss: 15413366784.0000\n",
      "Epoch 9/20\n",
      "27/27 [==============================] - 2s 56ms/step - loss: 13538857984.0000\n",
      "Epoch 10/20\n",
      "27/27 [==============================] - 1s 47ms/step - loss: 12251184128.0000\n",
      "Epoch 11/20\n",
      "27/27 [==============================] - 2s 57ms/step - loss: 11247036416.0000\n",
      "Epoch 12/20\n",
      "27/27 [==============================] - 2s 60ms/step - loss: 10486690816.0000\n",
      "Epoch 13/20\n",
      "27/27 [==============================] - 1s 46ms/step - loss: 9872683008.0000\n",
      "Epoch 14/20\n",
      "27/27 [==============================] - 1s 37ms/step - loss: 9386615808.0000\n",
      "Epoch 15/20\n",
      "27/27 [==============================] - 1s 35ms/step - loss: 8983884800.0000\n",
      "Epoch 16/20\n",
      "27/27 [==============================] - 1s 38ms/step - loss: 8662769664.0000\n",
      "Epoch 17/20\n",
      "27/27 [==============================] - 1s 46ms/step - loss: 8381871616.0000\n",
      "Epoch 18/20\n",
      "27/27 [==============================] - 2s 75ms/step - loss: 8130610688.0000\n",
      "Epoch 19/20\n",
      "27/27 [==============================] - 2s 62ms/step - loss: 7930703360.0000\n",
      "Epoch 20/20\n",
      "27/27 [==============================] - 1s 50ms/step - loss: 7743301632.0000\n",
      "14/14 [==============================] - 0s 12ms/step\n",
      "27/27 [==============================] - 0s 14ms/step\n",
      "[CV 1/3] END model__batch_size=1000, model__epochs=20, model__loss=mse, model__model__activation=relu, model__model__initializer=normal, model__optimizer=adam, model__verbose=1;, score=(train=0.337, test=0.328) total time=  25.1s\n",
      "Epoch 1/20\n",
      "27/27 [==============================] - 1s 25ms/step - loss: 192509149184.0000\n",
      "Epoch 2/20\n",
      "27/27 [==============================] - 1s 34ms/step - loss: 192439926784.0000\n",
      "Epoch 3/20\n",
      "27/27 [==============================] - 1s 30ms/step - loss: 191398412288.0000\n",
      "Epoch 4/20\n",
      "27/27 [==============================] - 1s 34ms/step - loss: 182488154112.0000\n",
      "Epoch 5/20\n",
      "27/27 [==============================] - 1s 38ms/step - loss: 135902396416.0000\n",
      "Epoch 6/20\n",
      "27/27 [==============================] - 1s 43ms/step - loss: 41534480384.0000\n",
      "Epoch 7/20\n",
      "27/27 [==============================] - 1s 49ms/step - loss: 16190882816.0000\n",
      "Epoch 8/20\n",
      "27/27 [==============================] - 2s 56ms/step - loss: 12301977600.0000\n",
      "Epoch 9/20\n",
      "27/27 [==============================] - 1s 54ms/step - loss: 10888642560.0000\n",
      "Epoch 10/20\n",
      "27/27 [==============================] - 1s 46ms/step - loss: 10049068032.0000\n",
      "Epoch 11/20\n",
      "27/27 [==============================] - 1s 45ms/step - loss: 9469133824.0000\n",
      "Epoch 12/20\n",
      "27/27 [==============================] - 1s 44ms/step - loss: 9012158464.0000\n",
      "Epoch 13/20\n",
      "27/27 [==============================] - 1s 45ms/step - loss: 8654990336.0000\n",
      "Epoch 14/20\n",
      "27/27 [==============================] - 1s 42ms/step - loss: 8375920640.0000\n",
      "Epoch 15/20\n",
      "27/27 [==============================] - 1s 36ms/step - loss: 8129462272.0000\n",
      "Epoch 16/20\n",
      "27/27 [==============================] - 1s 42ms/step - loss: 7934356480.0000\n",
      "Epoch 17/20\n",
      "27/27 [==============================] - 1s 39ms/step - loss: 7769189888.0000\n",
      "Epoch 18/20\n",
      "27/27 [==============================] - 1s 38ms/step - loss: 7617581568.0000\n",
      "Epoch 19/20\n",
      "27/27 [==============================] - 1s 44ms/step - loss: 7476294656.0000\n",
      "Epoch 20/20\n",
      "27/27 [==============================] - 1s 37ms/step - loss: 7353065472.0000\n",
      "14/14 [==============================] - 0s 14ms/step\n",
      "27/27 [==============================] - 0s 14ms/step\n",
      "[CV 2/3] END model__batch_size=1000, model__epochs=20, model__loss=mse, model__model__activation=relu, model__model__initializer=normal, model__optimizer=adam, model__verbose=1;, score=(train=0.368, test=0.363) total time=  23.7s\n",
      "Epoch 1/20\n",
      "27/27 [==============================] - 2s 47ms/step - loss: 191947669504.0000\n",
      "Epoch 2/20\n",
      "27/27 [==============================] - 1s 38ms/step - loss: 191532826624.0000\n",
      "Epoch 3/20\n",
      "27/27 [==============================] - 1s 40ms/step - loss: 186752319488.0000\n",
      "Epoch 4/20\n",
      "27/27 [==============================] - 1s 34ms/step - loss: 156250128384.0000\n",
      "Epoch 5/20\n",
      "27/27 [==============================] - 1s 39ms/step - loss: 65466802176.0000\n",
      "Epoch 6/20\n",
      "27/27 [==============================] - 1s 43ms/step - loss: 20622073856.0000\n",
      "Epoch 7/20\n",
      "27/27 [==============================] - 1s 39ms/step - loss: 14597873664.0000\n",
      "Epoch 8/20\n",
      "27/27 [==============================] - 1s 44ms/step - loss: 12804288512.0000\n",
      "Epoch 9/20\n",
      "27/27 [==============================] - 1s 48ms/step - loss: 11778839552.0000\n",
      "Epoch 10/20\n",
      "27/27 [==============================] - 1s 42ms/step - loss: 10989946880.0000\n",
      "Epoch 11/20\n",
      "27/27 [==============================] - 1s 42ms/step - loss: 10401608704.0000\n",
      "Epoch 12/20\n",
      "27/27 [==============================] - 1s 43ms/step - loss: 9886093312.0000\n",
      "Epoch 13/20\n",
      "27/27 [==============================] - 1s 40ms/step - loss: 9463365632.0000\n",
      "Epoch 14/20\n",
      "27/27 [==============================] - 1s 41ms/step - loss: 9095256064.0000\n",
      "Epoch 15/20\n",
      "27/27 [==============================] - 1s 39ms/step - loss: 8772860928.0000\n",
      "Epoch 16/20\n",
      "27/27 [==============================] - 1s 33ms/step - loss: 8484348928.0000\n",
      "Epoch 17/20\n",
      "27/27 [==============================] - 1s 33ms/step - loss: 8230455296.0000\n",
      "Epoch 18/20\n",
      "27/27 [==============================] - 1s 35ms/step - loss: 8002419200.0000\n",
      "Epoch 19/20\n",
      "27/27 [==============================] - 1s 44ms/step - loss: 7802054144.0000\n",
      "Epoch 20/20\n",
      "27/27 [==============================] - 1s 35ms/step - loss: 7620695552.0000\n",
      "14/14 [==============================] - 0s 15ms/step\n",
      "27/27 [==============================] - 0s 15ms/step\n",
      "[CV 3/3] END model__batch_size=1000, model__epochs=20, model__loss=mse, model__model__activation=relu, model__model__initializer=normal, model__optimizer=adam, model__verbose=1;, score=(train=0.342, test=0.335) total time=  23.3s\n",
      "Epoch 1/20\n",
      "40/40 [==============================] - 2s 41ms/step - loss: 192344752128.0000\n",
      "Epoch 2/20\n",
      "40/40 [==============================] - 2s 44ms/step - loss: 192344735744.0000\n",
      "Epoch 3/20\n",
      "40/40 [==============================] - 2s 41ms/step - loss: 192344702976.0000\n",
      "Epoch 4/20\n",
      "40/40 [==============================] - 2s 41ms/step - loss: 192344653824.0000\n",
      "Epoch 5/20\n",
      "40/40 [==============================] - 1s 37ms/step - loss: 192344621056.0000\n",
      "Epoch 6/20\n",
      "40/40 [==============================] - 1s 36ms/step - loss: 192344588288.0000\n",
      "Epoch 7/20\n",
      "40/40 [==============================] - 1s 35ms/step - loss: 192344522752.0000\n",
      "Epoch 8/20\n",
      "40/40 [==============================] - 1s 32ms/step - loss: 192344489984.0000\n",
      "Epoch 9/20\n",
      "40/40 [==============================] - 1s 35ms/step - loss: 192344489984.0000\n",
      "Epoch 10/20\n",
      "40/40 [==============================] - 1s 35ms/step - loss: 192344440832.0000\n",
      "Epoch 11/20\n",
      "40/40 [==============================] - 1s 33ms/step - loss: 192344391680.0000\n",
      "Epoch 12/20\n",
      "40/40 [==============================] - 1s 30ms/step - loss: 192344358912.0000\n",
      "Epoch 13/20\n",
      "40/40 [==============================] - 1s 35ms/step - loss: 192344326144.0000\n",
      "Epoch 14/20\n",
      "40/40 [==============================] - 1s 34ms/step - loss: 192344342528.0000\n",
      "Epoch 15/20\n",
      "40/40 [==============================] - 1s 36ms/step - loss: 192344260608.0000\n",
      "Epoch 16/20\n",
      "40/40 [==============================] - 2s 41ms/step - loss: 192344227840.0000\n",
      "Epoch 17/20\n",
      "40/40 [==============================] - 1s 35ms/step - loss: 192344211456.0000\n",
      "Epoch 18/20\n",
      "40/40 [==============================] - 1s 32ms/step - loss: 192344211456.0000\n",
      "Epoch 19/20\n",
      "40/40 [==============================] - 1s 33ms/step - loss: 192344129536.0000\n",
      "Epoch 20/20\n",
      "40/40 [==============================] - 1s 33ms/step - loss: 192344129536.0000\n",
      "Total fit/CV time      : 300 seconds   (1668462841.8783722 ==> 1668463142.2481728)\n",
      "\n",
      "average fit/score time = 17.02s/0.42s\n",
      "max fit/score time     = 23.55s/0.49s\n",
      "refit time             = 29.93s\n"
     ]
    }
   ],
   "source": [
    "def fit_model_with_cross_validation(gs, X_train, y_train, fits):\n",
    "    pipe_start = time()\n",
    "    cv_result = gs.fit(X_train, y_train)\n",
    "    gs.fit(X_train, y_train)\n",
    "    pipe_end = time()\n",
    "    average_time = round((pipe_end - pipe_start) / (fits), 2)\n",
    "\n",
    "    print(f\"Total fit/CV time      : {int(pipe_end - pipe_start)} seconds   ({pipe_start} ==> {pipe_end})\")\n",
    "    print()\n",
    "    print(\n",
    "        f'average fit/score time = {round(cv_result.cv_results_[\"mean_fit_time\"].mean(), 2)}s/{round(cv_result.cv_results_[\"mean_score_time\"].mean(), 2)}s')\n",
    "    print(\n",
    "        f'max fit/score time     = {round(cv_result.cv_results_[\"mean_fit_time\"].max(), 2)}s/{round(cv_result.cv_results_[\"mean_score_time\"].max(), 2)}s')\n",
    "    print(f'refit time             = {round(cv_result.refit_time_, 2)}s')\n",
    "\n",
    "    #return cv_result, average_time, cv_result.refit_time_, len(cv_result.cv_results_[\"mean_fit_time\"])\n",
    "    return average_time, cv_result.refit_time_, len(cv_result.cv_results_[\"mean_fit_time\"])\n",
    "\n",
    "\n",
    "crossval_runner = GridSearchCV(\n",
    "    estimator=pipeline_search_cv,\n",
    "    param_grid=options_block,\n",
    "    cv=cv, n_jobs=n_jobs, # get the AVX/AVX2 info if use n_jobs > 2\n",
    "    verbose=5, scoring=CROSS_VALIDATION_SCORING,\n",
    "    refit=refit,\n",
    "    return_train_score=True, #n_iter=n_iter,\n",
    "    error_score='raise'\n",
    ")\n",
    "\n",
    "cv_average_fit_time, cv_best_model_fit_time, total_fits = fit_model_with_cross_validation(\n",
    "    crossval_runner, X_train, y_train, fits=cv * n_iter)\n"
   ]
  },
  {
   "cell_type": "code",
   "execution_count": 33,
   "metadata": {
    "collapsed": false,
    "jupyter": {
     "outputs_hidden": false
    }
   },
   "outputs": [
    {
     "data": {
      "text/plain": "{'model__batch_size': 1000,\n 'model__epochs': 20,\n 'model__loss': 'mse',\n 'model__model__activation': 'relu',\n 'model__model__initializer': 'normal',\n 'model__optimizer': 'adam',\n 'model__verbose': 1}"
     },
     "execution_count": 33,
     "metadata": {},
     "output_type": "execute_result"
    }
   ],
   "source": [
    "crossval_runner.best_params_"
   ]
  },
  {
   "cell_type": "code",
   "execution_count": 34,
   "metadata": {
    "collapsed": false,
    "jupyter": {
     "outputs_hidden": false
    }
   },
   "outputs": [],
   "source": [
    "best_estimator_pipe = crossval_runner.best_estimator_\n",
    "\n",
    "if debug_mode:\n",
    "    crossval_runner.cv_results_"
   ]
  },
  {
   "cell_type": "code",
   "execution_count": 35,
   "metadata": {
    "collapsed": false,
    "jupyter": {
     "outputs_hidden": false
    }
   },
   "outputs": [
    {
     "data": {
      "text/plain": "                          params2  rank_test_score  mean_test_score  \\\n0  1000/20/mse/relu/normal/adam/1                1         0.342380   \n1  1000/10/mse/relu/normal/adam/1                2        -5.322623   \n\n   mean_fit_time  mean_score_time  \\\n0      23.549170         0.485042   \n1      10.490758         0.360912   \n\n                                              params  \n0  {'model__batch_size': 1000, 'model__epochs': 2...  \n1  {'model__batch_size': 1000, 'model__epochs': 1...  ",
      "text/html": "<div>\n<style scoped>\n    .dataframe tbody tr th:only-of-type {\n        vertical-align: middle;\n    }\n\n    .dataframe tbody tr th {\n        vertical-align: top;\n    }\n\n    .dataframe thead th {\n        text-align: right;\n    }\n</style>\n<table border=\"1\" class=\"dataframe\">\n  <thead>\n    <tr style=\"text-align: right;\">\n      <th></th>\n      <th>params2</th>\n      <th>rank_test_score</th>\n      <th>mean_test_score</th>\n      <th>mean_fit_time</th>\n      <th>mean_score_time</th>\n      <th>params</th>\n    </tr>\n  </thead>\n  <tbody>\n    <tr>\n      <th>0</th>\n      <td>1000/20/mse/relu/normal/adam/1</td>\n      <td>1</td>\n      <td>0.342380</td>\n      <td>23.549170</td>\n      <td>0.485042</td>\n      <td>{'model__batch_size': 1000, 'model__epochs': 2...</td>\n    </tr>\n    <tr>\n      <th>1</th>\n      <td>1000/10/mse/relu/normal/adam/1</td>\n      <td>2</td>\n      <td>-5.322623</td>\n      <td>10.490758</td>\n      <td>0.360912</td>\n      <td>{'model__batch_size': 1000, 'model__epochs': 1...</td>\n    </tr>\n  </tbody>\n</table>\n</div>"
     },
     "execution_count": 35,
     "metadata": {},
     "output_type": "execute_result"
    }
   ],
   "source": [
    "cv_results_df = pd.DataFrame(crossval_runner.cv_results_)\n",
    "\n",
    "cv_results_df['params2'] = cv_results_df['params'].apply(lambda l: '/'.join([str(c) for c in l.values()]))\n",
    "\n",
    "cv_columns = ['params2', 'rank_test_score', 'mean_test_score', 'mean_fit_time', 'mean_score_time','params']\n",
    "# if 'Neural' not in ALGORITHM:\n",
    "#     cv_columns.insert(2, 'mean_train_score')\n",
    "\n",
    "cv_results_df_sorted = cv_results_df.sort_values('rank_test_score')[cv_columns].reset_index(drop=True)\n",
    "cv_results_df_sorted"
   ]
  },
  {
   "cell_type": "code",
   "execution_count": 38,
   "metadata": {
    "collapsed": false,
    "jupyter": {
     "outputs_hidden": false
    }
   },
   "outputs": [],
   "source": [
    "def print_results(cross_validation_result):\n",
    "    means = cross_validation_result.cv_results_['mean_test_score']\n",
    "    stds = cross_validation_result.cv_results_['std_test_score']\n",
    "    params = cross_validation_result.cv_results_['params']\n",
    "    times = cross_validation_result.cv_results_['std_test_score']\n",
    "\n",
    "    print(\"params:\" + \"/\".join([c.replace(\"model__\", \"\") for c in params[0].keys()]))\n",
    "    print()\n",
    "    for mean, std, param, time in zip(means, stds, params, times):\n",
    "        #param2 = \"/\".join(list(param.values()))\n",
    "        param2 = \"/\".join(list([str(c) for c in param.values()]))\n",
    "        print(f'{round(mean, 3)} (+/-{round(std * 2, 3)}) in {round(time, 4)}s for {param2}')\n",
    "\n",
    "\n",
    "if debug_mode:\n",
    "    print_results(crossval_runner)"
   ]
  },
  {
   "cell_type": "code",
   "execution_count": 39,
   "metadata": {
    "collapsed": false,
    "jupyter": {
     "outputs_hidden": false
    }
   },
   "outputs": [
    {
     "name": "stdout",
     "output_type": "stream",
     "text": [
      "Best Index:  1\n",
      "Best Score:  0.3423797211301995\n",
      "Best Params:  {'model__batch_size': 1000, 'model__epochs': 20, 'model__loss': 'mse', 'model__model__activation': 'relu', 'model__model__initializer': 'normal', 'model__optimizer': 'adam', 'model__verbose': 1}\n"
     ]
    }
   ],
   "source": [
    "print('Best Index: ', crossval_runner.best_index_)\n",
    "print('Best Score: ', crossval_runner.best_score_)\n",
    "print('Best Params: ', crossval_runner.best_params_)"
   ]
  },
  {
   "cell_type": "code",
   "execution_count": 40,
   "metadata": {},
   "outputs": [
    {
     "name": "stdout",
     "output_type": "stream",
     "text": [
      "5/5 [==============================] - 0s 17ms/step\n"
     ]
    }
   ],
   "source": [
    "y_pred = best_estimator_pipe.predict(X_test)"
   ]
  },
  {
   "cell_type": "code",
   "execution_count": 41,
   "metadata": {},
   "outputs": [
    {
     "name": "stdout",
     "output_type": "stream",
     "text": [
      "----------Neural Network----------\n",
      "R square Accuracy -15.994729649667892\n",
      "Mean Absolute Error Accuracy 425068.1757622057\n",
      "Mean Squared Error Accuracy 191979359674.61978\n",
      "Root Mean Squared Error 438154.49292985664\n"
     ]
    }
   ],
   "source": [
    "y_pred = y_pred.reshape((-1, 1))\n",
    "\n",
    "R2 = r2_score(y_test, y_pred)\n",
    "MAE = mean_absolute_error(y_test, y_pred)\n",
    "MSE = mean_squared_error(y_test, y_pred)\n",
    "RMSE = math.sqrt(MSE)\n",
    "print('-' * 10 + ALGORITHM + '-' * 10)\n",
    "print('R square Accuracy', R2)\n",
    "print('Mean Absolute Error Accuracy', MAE)\n",
    "print('Mean Squared Error Accuracy', MSE)\n",
    "print('Root Mean Squared Error', RMSE)"
   ]
  },
  {
   "cell_type": "code",
   "execution_count": 42,
   "metadata": {},
   "outputs": [],
   "source": [
    "if debug_mode:\n",
    "    print(y_test_index.reshape((-1, 1)).shape);\n",
    "    print(y_pred.reshape((-1, 1)).shape);\n",
    "    print(y_test.shape);\n",
    "    print(y_test_index.shape);\n",
    "    print(y_pred.shape);\n",
    "    print(y_test.shape)"
   ]
  },
  {
   "cell_type": "code",
   "execution_count": 43,
   "metadata": {},
   "outputs": [
    {
     "data": {
      "text/plain": "             actual  predicted     difference   diff 1 %      diff 2 %\nreference                                                             \n85490754   400000.0   0.799991  399999.200009  99.999800  5.000045e+07\n119328242  369950.0   0.799991  369949.200009  99.999784  4.624416e+07\n125716790  350000.0   0.799991  349999.200009  99.999771  4.375038e+07\n122440040  549000.0   0.799991  548999.200009  99.999854  6.862565e+07\n120508103  495000.0   0.799991  494999.200009  99.999838  6.187558e+07\n...             ...        ...            ...        ...           ...\n68620869   475000.0   0.799991  474999.200009  99.999832  5.937555e+07\n85735665   575000.0   0.799991  574999.200009  99.999861  7.187569e+07\n125706338  400000.0   0.799991  399999.200009  99.999800  5.000045e+07\n112739354  450000.0   0.799991  449999.200009  99.999822  5.625052e+07\n122707001  275000.0   0.799991  274999.200009  99.999709  3.437528e+07\n\n[4413 rows x 5 columns]",
      "text/html": "<div>\n<style scoped>\n    .dataframe tbody tr th:only-of-type {\n        vertical-align: middle;\n    }\n\n    .dataframe tbody tr th {\n        vertical-align: top;\n    }\n\n    .dataframe thead th {\n        text-align: right;\n    }\n</style>\n<table border=\"1\" class=\"dataframe\">\n  <thead>\n    <tr style=\"text-align: right;\">\n      <th></th>\n      <th>actual</th>\n      <th>predicted</th>\n      <th>difference</th>\n      <th>diff 1 %</th>\n      <th>diff 2 %</th>\n    </tr>\n    <tr>\n      <th>reference</th>\n      <th></th>\n      <th></th>\n      <th></th>\n      <th></th>\n      <th></th>\n    </tr>\n  </thead>\n  <tbody>\n    <tr>\n      <th>85490754</th>\n      <td>400000.0</td>\n      <td>0.799991</td>\n      <td>399999.200009</td>\n      <td>99.999800</td>\n      <td>5.000045e+07</td>\n    </tr>\n    <tr>\n      <th>119328242</th>\n      <td>369950.0</td>\n      <td>0.799991</td>\n      <td>369949.200009</td>\n      <td>99.999784</td>\n      <td>4.624416e+07</td>\n    </tr>\n    <tr>\n      <th>125716790</th>\n      <td>350000.0</td>\n      <td>0.799991</td>\n      <td>349999.200009</td>\n      <td>99.999771</td>\n      <td>4.375038e+07</td>\n    </tr>\n    <tr>\n      <th>122440040</th>\n      <td>549000.0</td>\n      <td>0.799991</td>\n      <td>548999.200009</td>\n      <td>99.999854</td>\n      <td>6.862565e+07</td>\n    </tr>\n    <tr>\n      <th>120508103</th>\n      <td>495000.0</td>\n      <td>0.799991</td>\n      <td>494999.200009</td>\n      <td>99.999838</td>\n      <td>6.187558e+07</td>\n    </tr>\n    <tr>\n      <th>...</th>\n      <td>...</td>\n      <td>...</td>\n      <td>...</td>\n      <td>...</td>\n      <td>...</td>\n    </tr>\n    <tr>\n      <th>68620869</th>\n      <td>475000.0</td>\n      <td>0.799991</td>\n      <td>474999.200009</td>\n      <td>99.999832</td>\n      <td>5.937555e+07</td>\n    </tr>\n    <tr>\n      <th>85735665</th>\n      <td>575000.0</td>\n      <td>0.799991</td>\n      <td>574999.200009</td>\n      <td>99.999861</td>\n      <td>7.187569e+07</td>\n    </tr>\n    <tr>\n      <th>125706338</th>\n      <td>400000.0</td>\n      <td>0.799991</td>\n      <td>399999.200009</td>\n      <td>99.999800</td>\n      <td>5.000045e+07</td>\n    </tr>\n    <tr>\n      <th>112739354</th>\n      <td>450000.0</td>\n      <td>0.799991</td>\n      <td>449999.200009</td>\n      <td>99.999822</td>\n      <td>5.625052e+07</td>\n    </tr>\n    <tr>\n      <th>122707001</th>\n      <td>275000.0</td>\n      <td>0.799991</td>\n      <td>274999.200009</td>\n      <td>99.999709</td>\n      <td>3.437528e+07</td>\n    </tr>\n  </tbody>\n</table>\n<p>4413 rows × 5 columns</p>\n</div>"
     },
     "execution_count": 43,
     "metadata": {},
     "output_type": "execute_result"
    }
   ],
   "source": [
    "compare = np.hstack((y_test_index, y_test, y_pred))\n",
    "compare_df = DataFrame(compare, columns=['reference', 'actual', 'predicted'])\n",
    "compare_df['difference'] = abs(compare_df['actual'] - compare_df['predicted'])\n",
    "compare_df['diff 1 %'] = abs((compare_df['actual'] - compare_df['predicted']) / compare_df['actual'] * 100)\n",
    "compare_df['diff 2 %'] = abs((compare_df['actual'] - compare_df['predicted']) / compare_df['predicted']) * 100\n",
    "compare_df['reference'] = compare_df['reference'].astype(int)\n",
    "compare_df.set_index('reference', inplace=True)\n",
    "compare_df"
   ]
  },
  {
   "cell_type": "code",
   "execution_count": 44,
   "metadata": {},
   "outputs": [
    {
     "data": {
      "text/plain": "           actual  predicted     difference   diff 1 %      diff 2 %   Price  \\\n126010535  600000          0  599999.200009  99.999867  7.500072e+07  600000   \n123142541  600000          0  599999.200009  99.999867  7.500072e+07  600000   \n124261850  600000          0  599999.200009  99.999867  7.500072e+07  600000   \n96642211   600000          0  599999.200009  99.999867  7.500072e+07  600000   \n122484119  600000          0  599999.200009  99.999867  7.500072e+07  600000   \n...           ...        ...            ...        ...           ...     ...   \n120334940  170000          0  169999.200009  99.999529  2.125013e+07  170000   \n85626486   165000          0  164999.200009  99.999515  2.062513e+07  165000   \n122265818  160000          0  159999.200009  99.999500  2.000012e+07  160000   \n85667184   122000          0  121999.200009  99.999344  1.525007e+07  122000   \n109722224  108000          0  107999.200009  99.999259  1.350005e+07  108000   \n\n           bedrooms  bathrooms  nearestStation  location.latitude  \\\n126010535         2          2        0.161803          51.498310   \n123142541         3          1        0.489043          51.458232   \n124261850         3          1        0.086917          51.445241   \n96642211          4          2        0.322629          51.423443   \n122484119         2          1        0.336476          51.591028   \n...             ...        ...             ...                ...   \n120334940         1          1        1.122157          51.443746   \n85626486          1          1        0.357113          51.390834   \n122265818         3          1        0.166024          51.510420   \n85667184          1          1        0.838896          51.540462   \n109722224         1          1        0.302667          51.406803   \n\n           location.longitude  latitude_deviation  longitude_deviation  \\\n126010535           -0.018230            0.001410             0.086190   \n123142541           -0.199814            0.041488             0.095394   \n124261850           -0.027952            0.054479             0.076468   \n96642211            -0.008986            0.076277             0.095434   \n122484119           -0.159937            0.091308             0.055517   \n...                       ...                 ...                  ...   \n120334940           -0.382156            0.055974             0.277736   \n85626486            -0.071057            0.108886             0.033363   \n122265818           -0.037730            0.010700             0.066690   \n85667184            -0.280301            0.040742             0.175881   \n109722224           -0.261328            0.092917             0.156908   \n\n          tenure.tenureType  \n126010535         LEASEHOLD  \n123142541         LEASEHOLD  \n124261850          FREEHOLD  \n96642211           FREEHOLD  \n122484119         LEASEHOLD  \n...                     ...  \n120334940         LEASEHOLD  \n85626486          LEASEHOLD  \n122265818          FREEHOLD  \n85667184          LEASEHOLD  \n109722224         LEASEHOLD  \n\n[4413 rows x 14 columns]",
      "text/html": "<div>\n<style scoped>\n    .dataframe tbody tr th:only-of-type {\n        vertical-align: middle;\n    }\n\n    .dataframe tbody tr th {\n        vertical-align: top;\n    }\n\n    .dataframe thead th {\n        text-align: right;\n    }\n</style>\n<table border=\"1\" class=\"dataframe\">\n  <thead>\n    <tr style=\"text-align: right;\">\n      <th></th>\n      <th>actual</th>\n      <th>predicted</th>\n      <th>difference</th>\n      <th>diff 1 %</th>\n      <th>diff 2 %</th>\n      <th>Price</th>\n      <th>bedrooms</th>\n      <th>bathrooms</th>\n      <th>nearestStation</th>\n      <th>location.latitude</th>\n      <th>location.longitude</th>\n      <th>latitude_deviation</th>\n      <th>longitude_deviation</th>\n      <th>tenure.tenureType</th>\n    </tr>\n  </thead>\n  <tbody>\n    <tr>\n      <th>126010535</th>\n      <td>600000</td>\n      <td>0</td>\n      <td>599999.200009</td>\n      <td>99.999867</td>\n      <td>7.500072e+07</td>\n      <td>600000</td>\n      <td>2</td>\n      <td>2</td>\n      <td>0.161803</td>\n      <td>51.498310</td>\n      <td>-0.018230</td>\n      <td>0.001410</td>\n      <td>0.086190</td>\n      <td>LEASEHOLD</td>\n    </tr>\n    <tr>\n      <th>123142541</th>\n      <td>600000</td>\n      <td>0</td>\n      <td>599999.200009</td>\n      <td>99.999867</td>\n      <td>7.500072e+07</td>\n      <td>600000</td>\n      <td>3</td>\n      <td>1</td>\n      <td>0.489043</td>\n      <td>51.458232</td>\n      <td>-0.199814</td>\n      <td>0.041488</td>\n      <td>0.095394</td>\n      <td>LEASEHOLD</td>\n    </tr>\n    <tr>\n      <th>124261850</th>\n      <td>600000</td>\n      <td>0</td>\n      <td>599999.200009</td>\n      <td>99.999867</td>\n      <td>7.500072e+07</td>\n      <td>600000</td>\n      <td>3</td>\n      <td>1</td>\n      <td>0.086917</td>\n      <td>51.445241</td>\n      <td>-0.027952</td>\n      <td>0.054479</td>\n      <td>0.076468</td>\n      <td>FREEHOLD</td>\n    </tr>\n    <tr>\n      <th>96642211</th>\n      <td>600000</td>\n      <td>0</td>\n      <td>599999.200009</td>\n      <td>99.999867</td>\n      <td>7.500072e+07</td>\n      <td>600000</td>\n      <td>4</td>\n      <td>2</td>\n      <td>0.322629</td>\n      <td>51.423443</td>\n      <td>-0.008986</td>\n      <td>0.076277</td>\n      <td>0.095434</td>\n      <td>FREEHOLD</td>\n    </tr>\n    <tr>\n      <th>122484119</th>\n      <td>600000</td>\n      <td>0</td>\n      <td>599999.200009</td>\n      <td>99.999867</td>\n      <td>7.500072e+07</td>\n      <td>600000</td>\n      <td>2</td>\n      <td>1</td>\n      <td>0.336476</td>\n      <td>51.591028</td>\n      <td>-0.159937</td>\n      <td>0.091308</td>\n      <td>0.055517</td>\n      <td>LEASEHOLD</td>\n    </tr>\n    <tr>\n      <th>...</th>\n      <td>...</td>\n      <td>...</td>\n      <td>...</td>\n      <td>...</td>\n      <td>...</td>\n      <td>...</td>\n      <td>...</td>\n      <td>...</td>\n      <td>...</td>\n      <td>...</td>\n      <td>...</td>\n      <td>...</td>\n      <td>...</td>\n      <td>...</td>\n    </tr>\n    <tr>\n      <th>120334940</th>\n      <td>170000</td>\n      <td>0</td>\n      <td>169999.200009</td>\n      <td>99.999529</td>\n      <td>2.125013e+07</td>\n      <td>170000</td>\n      <td>1</td>\n      <td>1</td>\n      <td>1.122157</td>\n      <td>51.443746</td>\n      <td>-0.382156</td>\n      <td>0.055974</td>\n      <td>0.277736</td>\n      <td>LEASEHOLD</td>\n    </tr>\n    <tr>\n      <th>85626486</th>\n      <td>165000</td>\n      <td>0</td>\n      <td>164999.200009</td>\n      <td>99.999515</td>\n      <td>2.062513e+07</td>\n      <td>165000</td>\n      <td>1</td>\n      <td>1</td>\n      <td>0.357113</td>\n      <td>51.390834</td>\n      <td>-0.071057</td>\n      <td>0.108886</td>\n      <td>0.033363</td>\n      <td>LEASEHOLD</td>\n    </tr>\n    <tr>\n      <th>122265818</th>\n      <td>160000</td>\n      <td>0</td>\n      <td>159999.200009</td>\n      <td>99.999500</td>\n      <td>2.000012e+07</td>\n      <td>160000</td>\n      <td>3</td>\n      <td>1</td>\n      <td>0.166024</td>\n      <td>51.510420</td>\n      <td>-0.037730</td>\n      <td>0.010700</td>\n      <td>0.066690</td>\n      <td>FREEHOLD</td>\n    </tr>\n    <tr>\n      <th>85667184</th>\n      <td>122000</td>\n      <td>0</td>\n      <td>121999.200009</td>\n      <td>99.999344</td>\n      <td>1.525007e+07</td>\n      <td>122000</td>\n      <td>1</td>\n      <td>1</td>\n      <td>0.838896</td>\n      <td>51.540462</td>\n      <td>-0.280301</td>\n      <td>0.040742</td>\n      <td>0.175881</td>\n      <td>LEASEHOLD</td>\n    </tr>\n    <tr>\n      <th>109722224</th>\n      <td>108000</td>\n      <td>0</td>\n      <td>107999.200009</td>\n      <td>99.999259</td>\n      <td>1.350005e+07</td>\n      <td>108000</td>\n      <td>1</td>\n      <td>1</td>\n      <td>0.302667</td>\n      <td>51.406803</td>\n      <td>-0.261328</td>\n      <td>0.092917</td>\n      <td>0.156908</td>\n      <td>LEASEHOLD</td>\n    </tr>\n  </tbody>\n</table>\n<p>4413 rows × 14 columns</p>\n</div>"
     },
     "execution_count": 44,
     "metadata": {},
     "output_type": "execute_result"
    }
   ],
   "source": [
    "combined = compare_df.merge(df[columns], how='inner', left_index=True, right_index=True).sort_values(['diff 1 %'], ascending=False)\n",
    "#pd.options.display.float_format = '{:.4f}'.format\n",
    "combined[['predicted','actual','Price','bedrooms','bathrooms']] = combined[['predicted','actual','Price','bedrooms','bathrooms']].astype(int)\n",
    "combined['bedrooms'] = combined['bedrooms'].astype(int)\n",
    "combined"
   ]
  },
  {
   "cell_type": "code",
   "execution_count": 45,
   "metadata": {},
   "outputs": [
    {
     "name": "stdout",
     "output_type": "stream",
     "text": [
      "5/5 [==============================] - 0s 12ms/step\n"
     ]
    },
    {
     "data": {
      "text/plain": "-15.994729649667892"
     },
     "execution_count": 45,
     "metadata": {},
     "output_type": "execute_result"
    }
   ],
   "source": [
    "score = best_estimator_pipe.score(X_test, y_test)\n",
    "score"
   ]
  },
  {
   "cell_type": "code",
   "execution_count": 46,
   "metadata": {},
   "outputs": [
    {
     "data": {
      "text/plain": "-15.994729649667892"
     },
     "execution_count": 46,
     "metadata": {},
     "output_type": "execute_result"
    }
   ],
   "source": [
    "r2_score(y_test, y_pred)"
   ]
  },
  {
   "cell_type": "code",
   "execution_count": 47,
   "metadata": {},
   "outputs": [
    {
     "name": "stdout",
     "output_type": "stream",
     "text": [
      "5/5 [==============================] - 0s 18ms/step\n"
     ]
    },
    {
     "data": {
      "text/plain": "<Figure size 640x480 with 1 Axes>",
      "image/png": "[encoded data removed]"
     },
     "metadata": {},
     "output_type": "display_data"
    }
   ],
   "source": [
    "fig, ax = plt.subplots()\n",
    "ax.scatter(y_test, best_estimator_pipe.predict(X_test), edgecolors=(0, 0, 1))\n",
    "ax.plot([y_test.min(), y_test.max()], [y_test.min(), y_test.max()], 'r--', lw=3)\n",
    "ax.set_ylabel('Predicted')\n",
    "ax.set_xlabel('Actual')\n",
    "#ax.title.set_text(f'CV Chosen best option ({calculated_best_pipe[1]})')\n",
    "plt.show()"
   ]
  },
  {
   "cell_type": "code",
   "execution_count": 48,
   "metadata": {
    "collapsed": false,
    "jupyter": {
     "outputs_hidden": false
    }
   },
   "outputs": [
    {
     "ename": "ValueError",
     "evalue": "range() arg 3 must not be zero",
     "output_type": "error",
     "traceback": [
      "\u001B[0;31m---------------------------------------------------------------------------\u001B[0m",
      "\u001B[0;31mValueError\u001B[0m                                Traceback (most recent call last)",
      "Cell \u001B[0;32mIn [48], line 17\u001B[0m\n\u001B[1;32m     14\u001B[0m best_model_scores \u001B[38;5;241m=\u001B[39m {}\n\u001B[1;32m     16\u001B[0m showable_increment \u001B[38;5;241m=\u001B[39m total_fits \u001B[38;5;241m/\u001B[39m\u001B[38;5;241m/\u001B[39m \u001B[38;5;241m4\u001B[39m \u001B[38;5;28;01mif\u001B[39;00m \u001B[38;5;129;01mnot\u001B[39;00m quick_mode \u001B[38;5;28;01melse\u001B[39;00m \u001B[38;5;241m2\u001B[39m\n\u001B[0;32m---> 17\u001B[0m \u001B[38;5;28;01mfor\u001B[39;00m i \u001B[38;5;129;01min\u001B[39;00m \u001B[38;5;28mrange\u001B[39m(\u001B[38;5;241m0\u001B[39m, total_fits, showable_increment):\n\u001B[1;32m     18\u001B[0m     \u001B[38;5;28;01mif\u001B[39;00m debug_mode \u001B[38;5;129;01mor\u001B[39;00m \u001B[38;5;28;01mTrue\u001B[39;00m: \u001B[38;5;28mprint\u001B[39m(\u001B[38;5;124mf\u001B[39m\u001B[38;5;124m'\u001B[39m\u001B[38;5;132;01m{\u001B[39;00mi\u001B[38;5;132;01m}\u001B[39;00m\u001B[38;5;124m ==> \u001B[39m\u001B[38;5;132;01m{\u001B[39;00mi\u001B[38;5;132;01m}\u001B[39;00m\u001B[38;5;124m'\u001B[39m)\n\u001B[1;32m     20\u001B[0m     \u001B[38;5;28;01mif\u001B[39;00m i \u001B[38;5;241m==\u001B[39m \u001B[38;5;241m0\u001B[39m:\n",
      "\u001B[0;31mValueError\u001B[0m: range() arg 3 must not be zero"
     ]
    }
   ],
   "source": [
    "def custom_model_and_predictions(model, graph_params, X_train, y_train, X_test):\n",
    "    graph_model = model\n",
    "    graph_model.set_params(**graph_params)\n",
    "    graph_model.fit(X_train, y_train)\n",
    "    y_pred_graph = model.predict(X_test)\n",
    "\n",
    "    return model, y_pred_graph\n",
    "\n",
    "\n",
    "best_model_count = 10 if not quick_mode else 2\n",
    "best_model_count = 3 if not quick_mode else 1\n",
    "best_models = {}\n",
    "best_model_predictions = {}\n",
    "best_model_scores = {}\n",
    "\n",
    "showable_increment = total_fits // 4 if not quick_mode else 2\n",
    "for i in range(0, total_fits, showable_increment):\n",
    "    if debug_mode or True: print(f'{i} ==> {i}')\n",
    "\n",
    "    if i == 0:\n",
    "        fitted_graph_model = crossval_runner.best_estimator_\n",
    "        y_pred_graph = y_pred\n",
    "    else:\n",
    "        graph_pipe_params = cv_results_df_sorted['params'][i]\n",
    "        print (graph_pipe_params)\n",
    "        # would always return the best! graph_pipe_params = cv_results_df_sorted.loc[cv_results_df_sorted['rank_test_score'] == 1, 'params'].values[0]\n",
    "\n",
    "        graph_params = {}\n",
    "        for key, value in graph_pipe_params.items():\n",
    "            graph_params[key.replace('model__', '')] = value\n",
    "\n",
    "        fitted_graph_model, y_pred_graph = custom_model_and_predictions(starter_pipe, graph_pipe_params, X_train,\n",
    "                                                                        y_train, X_test)\n",
    "\n",
    "    best_models[i] = fitted_graph_model[-1].get_params()\n",
    "    best_model_predictions[i] = y_pred_graph\n",
    "    best_model_scores[i] = fitted_graph_model.score(X_test, y_test)\n",
    "\n",
    "if debug_mode or True: print(f'{-1} ==> {-1}')\n",
    "graph_pipe_params = cv_results_df_sorted['params'][total_fits - 1]\n",
    "print (graph_pipe_params)\n",
    "graph_params = {}\n",
    "for key, value in graph_pipe_params.items():\n",
    "    graph_params[key.replace('model__', '')] = value\n",
    "fitted_graph_model, y_pred_graph = custom_model_and_predictions(starter_pipe, graph_pipe_params, X_train,\n",
    "                                                                y_train, X_test)\n",
    "best_models[-1] = fitted_graph_model[-1].get_params()\n",
    "best_model_predictions[-1] = y_pred_graph\n",
    "best_model_scores[-1] = fitted_graph_model.score(X_test, y_test)\n"
   ]
  },
  {
   "cell_type": "code",
   "execution_count": 49,
   "metadata": {
    "collapsed": false,
    "jupyter": {
     "outputs_hidden": false
    }
   },
   "outputs": [
    {
     "data": {
      "text/plain": "                          params2  rank_test_score  mean_test_score  \\\n0  1000/20/mse/relu/normal/adam/1                1         0.342380   \n1  1000/10/mse/relu/normal/adam/1                2        -5.322623   \n\n   mean_fit_time  mean_score_time  \\\n0      23.549170         0.485042   \n1      10.490758         0.360912   \n\n                                              params  \n0  {'model__batch_size': 1000, 'model__epochs': 2...  \n1  {'model__batch_size': 1000, 'model__epochs': 1...  ",
      "text/html": "<div>\n<style scoped>\n    .dataframe tbody tr th:only-of-type {\n        vertical-align: middle;\n    }\n\n    .dataframe tbody tr th {\n        vertical-align: top;\n    }\n\n    .dataframe thead th {\n        text-align: right;\n    }\n</style>\n<table border=\"1\" class=\"dataframe\">\n  <thead>\n    <tr style=\"text-align: right;\">\n      <th></th>\n      <th>params2</th>\n      <th>rank_test_score</th>\n      <th>mean_test_score</th>\n      <th>mean_fit_time</th>\n      <th>mean_score_time</th>\n      <th>params</th>\n    </tr>\n  </thead>\n  <tbody>\n    <tr>\n      <th>0</th>\n      <td>1000/20/mse/relu/normal/adam/1</td>\n      <td>1</td>\n      <td>0.342380</td>\n      <td>23.549170</td>\n      <td>0.485042</td>\n      <td>{'model__batch_size': 1000, 'model__epochs': 2...</td>\n    </tr>\n    <tr>\n      <th>1</th>\n      <td>1000/10/mse/relu/normal/adam/1</td>\n      <td>2</td>\n      <td>-5.322623</td>\n      <td>10.490758</td>\n      <td>0.360912</td>\n      <td>{'model__batch_size': 1000, 'model__epochs': 1...</td>\n    </tr>\n  </tbody>\n</table>\n</div>"
     },
     "execution_count": 49,
     "metadata": {},
     "output_type": "execute_result"
    }
   ],
   "source": [
    "cv_results_df_sorted"
   ]
  },
  {
   "cell_type": "code",
   "execution_count": 50,
   "metadata": {
    "collapsed": false,
    "jupyter": {
     "outputs_hidden": false
    }
   },
   "outputs": [
    {
     "data": {
      "text/plain": "0    {'model__batch_size': 1000, 'model__epochs': 2...\n1    {'model__batch_size': 1000, 'model__epochs': 1...\nName: params, dtype: object"
     },
     "execution_count": 50,
     "metadata": {},
     "output_type": "execute_result"
    }
   ],
   "source": [
    "cv_results_df_sorted['params']"
   ]
  },
  {
   "cell_type": "code",
   "execution_count": 51,
   "metadata": {
    "collapsed": false,
    "jupyter": {
     "outputs_hidden": false
    }
   },
   "outputs": [
    {
     "data": {
      "text/plain": "2"
     },
     "execution_count": 51,
     "metadata": {},
     "output_type": "execute_result"
    }
   ],
   "source": [
    "total_fits"
   ]
  },
  {
   "cell_type": "code",
   "execution_count": 52,
   "metadata": {
    "collapsed": false,
    "jupyter": {
     "outputs_hidden": false
    }
   },
   "outputs": [
    {
     "data": {
      "text/plain": "{}"
     },
     "execution_count": 52,
     "metadata": {},
     "output_type": "execute_result"
    }
   ],
   "source": [
    "best_models"
   ]
  },
  {
   "cell_type": "code",
   "execution_count": 53,
   "metadata": {
    "collapsed": false,
    "jupyter": {
     "outputs_hidden": false
    }
   },
   "outputs": [
    {
     "ename": "KeyError",
     "evalue": "-1",
     "output_type": "error",
     "traceback": [
      "\u001B[0;31m---------------------------------------------------------------------------\u001B[0m",
      "\u001B[0;31mKeyError\u001B[0m                                  Traceback (most recent call last)",
      "Cell \u001B[0;32mIn [53], line 10\u001B[0m\n\u001B[1;32m      7\u001B[0m         plt\u001B[38;5;241m.\u001B[39mshow()\n\u001B[1;32m      9\u001B[0m plt\u001B[38;5;241m.\u001B[39mplot([y_test\u001B[38;5;241m.\u001B[39mmin(), y_test\u001B[38;5;241m.\u001B[39mmax()], [y_test\u001B[38;5;241m.\u001B[39mmin(), y_test\u001B[38;5;241m.\u001B[39mmax()], \u001B[38;5;124m'\u001B[39m\u001B[38;5;124mr--\u001B[39m\u001B[38;5;124m'\u001B[39m, lw\u001B[38;5;241m=\u001B[39m\u001B[38;5;241m3\u001B[39m)\n\u001B[0;32m---> 10\u001B[0m plt\u001B[38;5;241m.\u001B[39mscatter(y_test, best_model_predictions[\u001B[38;5;241m-\u001B[39m\u001B[38;5;241m1\u001B[39m])\n\u001B[1;32m     11\u001B[0m \u001B[38;5;66;03m# plt.title(str(i) + \" \" + str(round(best_model_scores[i], 4)) + \" for \" + str(best_models[i]))\u001B[39;00m\n\u001B[1;32m     12\u001B[0m plt\u001B[38;5;241m.\u001B[39mtitle(\u001B[38;5;28mstr\u001B[39m(i) \u001B[38;5;241m+\u001B[39m \u001B[38;5;124m\"\u001B[39m\u001B[38;5;124m \u001B[39m\u001B[38;5;124m\"\u001B[39m \u001B[38;5;241m+\u001B[39m \u001B[38;5;28mstr\u001B[39m(\u001B[38;5;28mround\u001B[39m(best_model_scores[\u001B[38;5;241m-\u001B[39m\u001B[38;5;241m1\u001B[39m], \u001B[38;5;241m4\u001B[39m)) \u001B[38;5;241m+\u001B[39m \u001B[38;5;124m\"\u001B[39m\u001B[38;5;124m for (worst) entry \u001B[39m\u001B[38;5;124m\"\u001B[39m \u001B[38;5;241m+\u001B[39m \u001B[38;5;28mstr\u001B[39m(i))\n",
      "\u001B[0;31mKeyError\u001B[0m: -1"
     ]
    },
    {
     "data": {
      "text/plain": "<Figure size 640x480 with 1 Axes>",
      "image/png": "[encoded data removed]"
     },
     "metadata": {},
     "output_type": "display_data"
    }
   ],
   "source": [
    "for i in best_model_scores.keys():\n",
    "    if i >= 0:\n",
    "        plt.plot([y_test.min(), y_test.max()], [y_test.min(), y_test.max()], 'r--', lw=3)\n",
    "        plt.scatter(y_test, best_model_predictions[i])\n",
    "        # plt.title(str(i) + \" \" + str(round(best_model_scores[i], 4)) + \" for \" + str(best_models[i]))\n",
    "        plt.title(str(i) + \" \" + str(round(best_model_scores[i], 4)) + \" for entry \" + str(i))\n",
    "        plt.show()\n",
    "\n",
    "plt.plot([y_test.min(), y_test.max()], [y_test.min(), y_test.max()], 'r--', lw=3)\n",
    "plt.scatter(y_test, best_model_predictions[-1])\n",
    "# plt.title(str(i) + \" \" + str(round(best_model_scores[i], 4)) + \" for \" + str(best_models[i]))\n",
    "plt.title(str(i) + \" \" + str(round(best_model_scores[-1], 4)) + \" for (worst) entry \" + str(i))\n",
    "plt.show()"
   ]
  },
  {
   "cell_type": "code",
   "execution_count": null,
   "metadata": {
    "collapsed": false,
    "jupyter": {
     "outputs_hidden": false
    }
   },
   "outputs": [],
   "source": [
    "if True:\n",
    "    sns.set_theme(font_scale=2, rc=None)\n",
    "    sns.set_theme(font_scale=1, rc=None)\n",
    "\n",
    "    fig, axes = plt.subplots(ncols=3, figsize=(15, 5))\n",
    "\n",
    "    plt.subplots_adjust(hspace=0.2)\n",
    "    plt.subplots_adjust(wspace=0.2)\n",
    "\n",
    "    #.flatten()\n",
    "    coordinates = axes[0]\n",
    "    sns.lineplot(x=[y_test.min(), y_test.max()], y=[y_test.min(), y_test.max()], ax=axes[0], color='red')\n",
    "    sns.scatterplot(x=y_test.flatten(), y=best_model_predictions[0].flatten(), ax=axes[0],\n",
    "                    s=100).set(title=f'\"BEST\" model')\n",
    "\n",
    "    sns.lineplot(x=[y_test.min(), y_test.max()], y=[y_test.min(), y_test.max()], ax=axes[1], color='red')\n",
    "    sns.scatterplot(x=y_test.flatten(), y=best_model_predictions[-1].flatten(), ax=axes[1],\n",
    "                    s=100).set(title=f'\"WORST\" model')\n",
    "\n",
    "    sns.lineplot(x=[y_test.min(), y_test.max()], y=[y_test.min(), y_test.max()], ax=axes[2], color='red')\n",
    "    sns.scatterplot(x=y_test.flatten(), y=best_model_predictions[-1].flatten(), ax=axes[2],\n",
    "                    s=120, color='orange')\n",
    "    sns.scatterplot(x=y_test.flatten(), y=best_model_predictions[0].flatten(), ax=axes[2],\n",
    "                    s=30, alpha=0.6, color='black').set(\n",
    "        title='best (black) vs worst (orange)')\n",
    "    #title='best (orange) vs worst (black)')\n",
    "\n",
    "    fig.tight_layout()\n",
    "    plt.show()"
   ]
  },
  {
   "cell_type": "code",
   "execution_count": null,
   "metadata": {
    "collapsed": false,
    "jupyter": {
     "outputs_hidden": false
    }
   },
   "outputs": [],
   "source": [
    "cv_best_model_fit_time = cv_results_df_sorted.iloc[0][\"mean_fit_time\"]\n",
    "#cv_best_model_fit_time = cv_results_df_sorted.iloc[0][\"mean_fit_time\"]\n",
    "cv_best_model_fit_time"
   ]
  },
  {
   "cell_type": "code",
   "execution_count": null,
   "metadata": {},
   "outputs": [],
   "source": [
    "# <catboost.core.CatBoostRegressor object at 0x7fb167387490>\n",
    "# {'depth': 6}\n",
    "# defaultdict(<class 'list'>, {'iterations': [0, 1, 2],\n",
    "# 'test-RMSE-mean': [396884.9605444017, 359548.6632536235, 326027.84885587444],\n",
    "# 'test-RMSE-std': [308.9495320039113, 260.0967808594464, 219.65856329246023],\n",
    "# 'train-RMSE-mean': [396884.77936957515, 359542.3612912551, 326018.9404460669],\n",
    "# 'train-RMSE-std': [91.44140078375503, 86.77961380623475, 69.4038638987425]})\n",
    "\n",
    "cv_best_model_fit_time = cv_results_df_sorted.iloc[0][\"mean_fit_time\"] if not_catboost else 999\n",
    "\n",
    "DD2 = \"(\" + \",\".join(DATA_DETAIL) + \")\" if len(DATA_DETAIL) >= 1 else \"\"\n",
    "key = f'{ALGORITHM} - {ALGORITHM_DETAIL}{DD2} (v{VERSION})'.lower()\n",
    "\n",
    "results = {\n",
    "    '_score': score,\n",
    "    'R square Accuracy': R2,\n",
    "    'Mean Absolute Error Accuracy': MAE,\n",
    "    'Mean Squared Error Accuracy': MSE,\n",
    "    'Root Mean Squared Error': RMSE,\n",
    "    '_train time': cv_best_model_fit_time,\n",
    "    'random_state': RANDOM_STATE,\n",
    "    'date': str(datetime.now()),\n",
    "    '_params': crossval_runner.best_params_ if not_catboost else cat_params,\n",
    "    'run_env': run_env\n",
    "}\n",
    "\n",
    "if run_env not in ['colab']:\n",
    "    results_json = get_results()\n",
    "    this_model_is_best = update_results(results_json, results, key)\n",
    "\n",
    "print(key, this_model_is_best, )"
   ]
  },
  {
   "cell_type": "code",
   "execution_count": null,
   "metadata": {
    "collapsed": false,
    "jupyter": {
     "outputs_hidden": false
    }
   },
   "outputs": [],
   "source": [
    "crossval_runner.best_estimator_"
   ]
  },
  {
   "cell_type": "code",
   "execution_count": null,
   "metadata": {
    "collapsed": false,
    "jupyter": {
     "outputs_hidden": false
    }
   },
   "outputs": [],
   "source": [
    "if this_model_is_best:\n",
    "    with open(f'../../../models/optimised_model_{ALGORITHM}_v{VERSION}{DD2}.pkl', 'wb') as f:\n",
    "        if not_catboost:\n",
    "            pickle.dump(crossval_runner.best_estimator_, f)\n",
    "        else:\n",
    "            pickle.dump(starter_model, f)\n",
    "        print('pickled new version of model')\n",
    "        print(results_json[key]['_score'], 'is new best score')\n",
    "        #print(results_json[key]['_score'], 'is an improvement on', results_json[key]['second best score'])\n",
    "else:\n",
    "    print(\"not updated saved model, the previous run was better\")\n",
    "    print(results_json[key]['best score'], 'better than or equal to', results_json[key]['_score'])"
   ]
  },
  {
   "cell_type": "code",
   "execution_count": null,
   "metadata": {
    "collapsed": false,
    "jupyter": {
     "outputs_hidden": false
    }
   },
   "outputs": [],
   "source": [
    "feature_importances = crossval_runner.best_estimator_[-1].feature_importances_\n",
    "#std = np.std([tree.feature_importances_ for tree in model.estimators_], axis = 0)\n",
    "\n",
    "indices = np.argsort(feature_importances)[::-1]\n",
    "\n",
    "print('Feature Ranking:')\n",
    "\n",
    "for f in range(X_train.shape[1]):\n",
    "    print('%d. features %d (%f)' % (f + 1, indices[f], feature_importances[indices[f]]),\n",
    "          df_features.columns[indices[f] + 1])\n"
   ]
  },
  {
   "cell_type": "code",
   "execution_count": null,
   "metadata": {
    "collapsed": false,
    "jupyter": {
     "outputs_hidden": false
    }
   },
   "outputs": [],
   "source": [
    "feature_importances = crossval_runner.best_estimator_[-1].feature_importances_\n",
    "indices = np.argsort(feature_importances)\n",
    "\n",
    "fig, ax = plt.subplots()\n",
    "ax.barh(range(len(feature_importances)), feature_importances[indices])\n",
    "ax.set_yticks(range(len(feature_importances)))\n",
    "_ = ax.set_yticklabels(df_features.columns[[c + 1 for c in indices]])"
   ]
  },
  {
   "cell_type": "code",
   "execution_count": null,
   "metadata": {
    "collapsed": false,
    "jupyter": {
     "outputs_hidden": false
    }
   },
   "outputs": [],
   "source": []
  }
 ],
 "metadata": {
  "kernelspec": {
   "display_name": "Python 3 (ipykernel)",
   "language": "python",
   "name": "python3"
  },
  "language_info": {
   "codemirror_mode": {
    "name": "ipython",
    "version": 3
   },
   "file_extension": ".py",
   "mimetype": "text/x-python",
   "name": "python",
   "nbconvert_exporter": "python",
   "pygments_lexer": "ipython3",
   "version": "3.9.13"
  }
 },
 "nbformat": 4,
 "nbformat_minor": 4
}
