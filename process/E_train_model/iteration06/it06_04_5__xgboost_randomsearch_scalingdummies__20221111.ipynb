{
 "cells": [
  {
   "cell_type": "code",
   "execution_count": null,
   "metadata": {
    "execution": {
     "iopub.execute_input": "2022-11-12T13:44:06.390320Z",
     "iopub.status.busy": "2022-11-12T13:44:06.389794Z",
     "iopub.status.idle": "2022-11-12T13:44:06.404064Z",
     "shell.execute_reply": "2022-11-12T13:44:06.402922Z",
     "shell.execute_reply.started": "2022-11-12T13:44:06.390270Z"
    }
   },
   "outputs": [],
   "source": [
    "ALGORITHM = 'XG Boost'\n",
    "ALGORITHM_DETAIL = 'random search'\n",
    "DATA_DETAIL = []\n",
    "#DATA_DETAIL = ['no scale','no dummies']\n",
    "VERSION = '06'\n",
    "\n",
    "RANDOM_STATE = 101\n",
    "TRAINING_SIZE = 0.9\n",
    "\n",
    "CROSS_VALIDATION_SCORING = 'r2'"
   ]
  },
  {
   "cell_type": "code",
   "execution_count": null,
   "metadata": {
    "collapsed": false,
    "execution": {
     "iopub.execute_input": "2022-11-12T13:44:06.406386Z",
     "iopub.status.busy": "2022-11-12T13:44:06.406105Z",
     "iopub.status.idle": "2022-11-12T13:44:07.338822Z",
     "shell.execute_reply": "2022-11-12T13:44:07.337476Z",
     "shell.execute_reply.started": "2022-11-12T13:44:06.406379Z"
    },
    "jupyter": {
     "outputs_hidden": false
    }
   },
   "outputs": [],
   "source": [
    "from xgboost import XGBRegressor\n",
    "from sklearn.pipeline import Pipeline\n",
    "from sklearn.preprocessing import MinMaxScaler, StandardScaler\n",
    "\n",
    "starter_pipe = Pipeline([\n",
    "    #('mms', MinMaxScaler()),\n",
    "    ('std_scaler', StandardScaler()),\n",
    "    ('model', XGBRegressor(seed=20))\n",
    "])"
   ]
  },
  {
   "cell_type": "code",
   "execution_count": null,
   "metadata": {
    "collapsed": false,
    "execution": {
     "iopub.execute_input": "2022-11-12T13:44:07.340546Z",
     "iopub.status.busy": "2022-11-12T13:44:07.340220Z",
     "iopub.status.idle": "2022-11-12T13:44:08.199602Z",
     "shell.execute_reply": "2022-11-12T13:44:08.198550Z",
     "shell.execute_reply.started": "2022-11-12T13:44:07.340533Z"
    },
    "jupyter": {
     "outputs_hidden": false
    }
   },
   "outputs": [],
   "source": [
    "from sklearn.impute import SimpleImputer\n",
    "import pandas as pd\n",
    "from sklearn.model_selection import train_test_split, RandomizedSearchCV\n",
    "import numpy as np\n",
    "from pandas import DataFrame\n",
    "import math\n",
    "from termcolor import colored\n",
    "from time import time\n",
    "from sklearn.metrics import r2_score, mean_absolute_error, mean_squared_error\n",
    "from sklearn.metrics import r2_score\n",
    "import seaborn as sns\n",
    "import pickle\n",
    "\n",
    "import json\n",
    "from datetime import datetime\n",
    "import matplotlib.pyplot as plt\n",
    "\n",
    "with open('../../z_envs/_envs.json') as f:\n",
    "    env_vars = json.loads(f.read())\n",
    "print(env_vars)\n",
    "\n",
    "try:\n",
    "    import google.colab\n",
    "\n",
    "    run_env = 'colab'\n",
    "except:\n",
    "    try:\n",
    "        run_env = env_vars['notebook_environment']\n",
    "    except:\n",
    "        run_env = 'unknown'\n",
    "\n",
    "use_gpu = env_vars.get('use_gpu', False)\n",
    "debug_mode = env_vars.get('debug_mode', False)\n",
    "quick_mode = env_vars.get('quick_mode', False)\n",
    "OVERRIDE_CV = env_vars.get('quick_override_cv_splits', None) if quick_mode else None\n",
    "OVERRIDE_N_ITER = env_vars.get('quick_override_n_iter', None) if quick_mode else None\n",
    "OVERRIDE_JOBS = env_vars.get('quick_override_n_jobs', None) if quick_mode else None\n",
    "#if quick_mode:OVERRIDE_CV, OVERRIDE_N_ITER = 2, 10\n",
    "\n",
    "if run_env not in ['colab', 'gradient', 'cloud']:\n",
    "    cloud_run = False\n",
    "    from functions_20221109 import set_csv_directory, get_columns\n",
    "    from functions_modelling_20221109 import make_modelling_pipeline, tidy_dataset, preprocess, feature_engineer, create_train_test_data\n",
    "    from functions_modelling_20221109 import get_cv_params, fit_model_with_cross_validation, get_best_estimator_average_time, get_results, update_results\n",
    "    from functions_modelling_20221109 import get_hyperparameters\n",
    "\n",
    "    set_csv_directory('final_split')\n",
    "else:\n",
    "    cloud_run = True\n",
    "    import sys\n",
    "    import os\n",
    "\n",
    "    module_path = os.path.abspath(os.path.join('..', '..', '..'))\n",
    "    if module_path not in sys.path:\n",
    "        #sys.path.append(module_path+\"\\\\zfunctions\")\n",
    "        sys.path.append(module_path)\n",
    "\n",
    "    from functions_20221109 import set_csv_directory, get_columns\n",
    "    #from functions_20221109 import add_supplements, get_combined_dataset\n",
    "    from functions_modelling_20221109 import make_modelling_pipeline, tidy_dataset, preprocess, feature_engineer, create_train_test_data\n",
    "    from functions_modelling_20221109 import get_cv_params, fit_model_with_cross_validation, get_best_estimator_average_time, get_results, update_results\n"
   ]
  },
  {
   "cell_type": "code",
   "execution_count": null,
   "metadata": {
    "collapsed": false,
    "execution": {
     "iopub.execute_input": "2022-11-12T13:44:08.201263Z",
     "iopub.status.busy": "2022-11-12T13:44:08.200765Z",
     "iopub.status.idle": "2022-11-12T13:44:08.208417Z",
     "shell.execute_reply": "2022-11-12T13:44:08.207126Z",
     "shell.execute_reply.started": "2022-11-12T13:44:08.201188Z"
    },
    "jupyter": {
     "outputs_hidden": false
    }
   },
   "outputs": [],
   "source": [
    "#cutdown_rows = 1000\n",
    "cutdown_rows = 0\n",
    "\n",
    "LABEL = 'Price'\n",
    "\n",
    "columns, booleans, floats, categories, custom, wildcard = get_columns(version=VERSION)\n",
    "\n",
    "print(colored(f\"features\", \"blue\"), \"-> \", columns)\n",
    "columns.insert(0, LABEL)\n",
    "print(colored(f\"label\", \"green\", None, ['bold']), \"-> \", LABEL)"
   ]
  },
  {
   "cell_type": "code",
   "execution_count": null,
   "metadata": {
    "collapsed": false,
    "execution": {
     "iopub.execute_input": "2022-11-12T13:44:08.212057Z",
     "iopub.status.busy": "2022-11-12T13:44:08.211647Z",
     "iopub.status.idle": "2022-11-12T13:44:08.222179Z",
     "shell.execute_reply": "2022-11-12T13:44:08.219552Z",
     "shell.execute_reply.started": "2022-11-12T13:44:08.211985Z"
    },
    "jupyter": {
     "outputs_hidden": false
    }
   },
   "outputs": [],
   "source": [
    "def get_source_dataframe(rows=cutdown_rows, folder_prefix='../../../'):\n",
    "    retrieval_type = None\n",
    "\n",
    "    filename = f'df_listings_v{VERSION}.csv'\n",
    "    remote_pathname = f'https://raw.githubusercontent.com/jayportfolio/capstone_streamlit/main/data/final/{filename}'\n",
    "    df_pathname_raw = folder_prefix + f'data/source/{filename}'\n",
    "    df_pathname_tidy = folder_prefix + f'data/final/{filename}'\n",
    "\n",
    "    if cloud_run:\n",
    "        inDF = pd.read_csv(remote_pathname, on_bad_lines='error', index_col=0)\n",
    "        retrieval_type = 'tidy'\n",
    "        print('loaded data from', folder_prefix + remote_pathname)\n",
    "    else:\n",
    "        inDF = pd.read_csv(df_pathname_tidy, on_bad_lines='error', index_col=0)\n",
    "        retrieval_type = 'tidy'\n",
    "        print('loaded data from', df_pathname_tidy)\n",
    "\n",
    "    if rows and rows > 0:\n",
    "        inDF = inDF[:rows]\n",
    "    return inDF, retrieval_type"
   ]
  },
  {
   "cell_type": "code",
   "execution_count": null,
   "metadata": {
    "collapsed": false,
    "execution": {
     "iopub.execute_input": "2022-11-12T13:44:08.223853Z",
     "iopub.status.busy": "2022-11-12T13:44:08.223589Z",
     "iopub.status.idle": "2022-11-12T13:44:08.603079Z",
     "shell.execute_reply": "2022-11-12T13:44:08.602168Z",
     "shell.execute_reply.started": "2022-11-12T13:44:08.223853Z"
    },
    "jupyter": {
     "outputs_hidden": false
    }
   },
   "outputs": [],
   "source": [
    "df, retrieval_type = get_source_dataframe(folder_prefix='../../../')\n",
    "df_orig = df.copy()\n",
    "\n",
    "if retrieval_type != 'tidy':\n",
    "    df = tidy_dataset(df, version=int(VERSION))\n",
    "    df = feature_engineer(df, version=int(VERSION))\n",
    "\n",
    "    df = df[columns]\n",
    "\n",
    "print(df.shape)"
   ]
  },
  {
   "cell_type": "code",
   "execution_count": null,
   "metadata": {
    "collapsed": false,
    "execution": {
     "iopub.execute_input": "2022-11-12T13:44:08.604375Z",
     "iopub.status.busy": "2022-11-12T13:44:08.604115Z",
     "iopub.status.idle": "2022-11-12T13:44:08.634676Z",
     "shell.execute_reply": "2022-11-12T13:44:08.633781Z",
     "shell.execute_reply.started": "2022-11-12T13:44:08.604375Z"
    },
    "jupyter": {
     "outputs_hidden": false
    }
   },
   "outputs": [],
   "source": [
    "df.head(30)"
   ]
  },
  {
   "cell_type": "code",
   "execution_count": null,
   "metadata": {
    "execution": {
     "iopub.execute_input": "2022-11-12T13:44:08.635980Z",
     "iopub.status.busy": "2022-11-12T13:44:08.635746Z",
     "iopub.status.idle": "2022-11-12T13:44:08.650955Z",
     "shell.execute_reply": "2022-11-12T13:44:08.650183Z",
     "shell.execute_reply.started": "2022-11-12T13:44:08.635956Z"
    }
   },
   "outputs": [],
   "source": [
    "df.isnull().sum()"
   ]
  },
  {
   "cell_type": "code",
   "execution_count": null,
   "metadata": {
    "execution": {
     "iopub.execute_input": "2022-11-12T13:44:08.652117Z",
     "iopub.status.busy": "2022-11-12T13:44:08.651720Z",
     "iopub.status.idle": "2022-11-12T13:44:08.740958Z",
     "shell.execute_reply": "2022-11-12T13:44:08.740142Z",
     "shell.execute_reply.started": "2022-11-12T13:44:08.652117Z"
    }
   },
   "outputs": [],
   "source": [
    "df.info()\n",
    "df.describe()\n",
    "df.describe().T"
   ]
  },
  {
   "cell_type": "code",
   "execution_count": null,
   "metadata": {
    "execution": {
     "iopub.execute_input": "2022-11-12T13:44:08.742565Z",
     "iopub.status.busy": "2022-11-12T13:44:08.742250Z",
     "iopub.status.idle": "2022-11-12T13:44:08.804524Z",
     "shell.execute_reply": "2022-11-12T13:44:08.803268Z",
     "shell.execute_reply.started": "2022-11-12T13:44:08.742538Z"
    }
   },
   "outputs": [],
   "source": [
    "old_length = len(df)\n",
    "\n",
    "df = preprocess(df, version=VERSION)\n",
    "\n",
    "print(f\"dataframe contract due to cleaning: {old_length} ==> {len(df)}\")\n",
    "old_length = len(df)\n",
    "\n",
    "df.describe().T"
   ]
  },
  {
   "cell_type": "code",
   "execution_count": null,
   "metadata": {
    "execution": {
     "iopub.execute_input": "2022-11-12T13:44:08.805774Z",
     "iopub.status.busy": "2022-11-12T13:44:08.805459Z",
     "iopub.status.idle": "2022-11-12T13:44:08.820320Z",
     "shell.execute_reply": "2022-11-12T13:44:08.819253Z",
     "shell.execute_reply.started": "2022-11-12T13:44:08.805737Z"
    }
   },
   "outputs": [],
   "source": [
    "df.isna().sum()"
   ]
  },
  {
   "cell_type": "code",
   "execution_count": null,
   "metadata": {
    "execution": {
     "iopub.execute_input": "2022-11-12T13:44:08.822044Z",
     "iopub.status.busy": "2022-11-12T13:44:08.821512Z",
     "iopub.status.idle": "2022-11-12T13:44:08.871755Z",
     "shell.execute_reply": "2022-11-12T13:44:08.870489Z",
     "shell.execute_reply.started": "2022-11-12T13:44:08.822019Z"
    }
   },
   "outputs": [],
   "source": [
    "df = df.dropna()\n",
    "print(f\"{old_length} ==> {len(df)}\")\n",
    "old_length = len(df)\n",
    "df.describe()"
   ]
  },
  {
   "cell_type": "code",
   "execution_count": null,
   "metadata": {
    "execution": {
     "iopub.execute_input": "2022-11-12T13:44:08.873461Z",
     "iopub.status.busy": "2022-11-12T13:44:08.873095Z",
     "iopub.status.idle": "2022-11-12T13:44:08.919283Z",
     "shell.execute_reply": "2022-11-12T13:44:08.918007Z",
     "shell.execute_reply.started": "2022-11-12T13:44:08.873427Z"
    }
   },
   "outputs": [],
   "source": [
    "X_train, X_test, y_train, y_test, X_train_index, X_test_index, y_train_index, y_test_index, df_features, df_labels = create_train_test_data(\n",
    "    df,\n",
    "    categories=categories,\n",
    "    RANDOM_STATE=RANDOM_STATE, return_index=True,\n",
    "    drop_nulls=True)\n",
    "\n",
    "print(X_train.shape, X_test.shape, y_train.shape, y_test.shape, X_train_index.shape, X_test_index.shape,\n",
    "      y_train_index.shape, y_test_index.shape)\n"
   ]
  },
  {
   "cell_type": "code",
   "execution_count": null,
   "metadata": {
    "execution": {
     "iopub.execute_input": "2022-11-12T13:44:08.923524Z",
     "iopub.status.busy": "2022-11-12T13:44:08.923235Z",
     "iopub.status.idle": "2022-11-12T13:44:08.927673Z",
     "shell.execute_reply": "2022-11-12T13:44:08.926663Z",
     "shell.execute_reply.started": "2022-11-12T13:44:08.923497Z"
    }
   },
   "outputs": [],
   "source": [
    "#imputer = SimpleImputer(strategy='mean')\n",
    "#imputer.fit(X_train[6])\n",
    "#X_train[6] = imputer.transform(X_train[6])"
   ]
  },
  {
   "cell_type": "code",
   "execution_count": null,
   "metadata": {
    "collapsed": false,
    "execution": {
     "iopub.execute_input": "2022-11-12T13:44:08.929792Z",
     "iopub.status.busy": "2022-11-12T13:44:08.929279Z",
     "iopub.status.idle": "2022-11-12T13:44:08.937217Z",
     "shell.execute_reply": "2022-11-12T13:44:08.935965Z",
     "shell.execute_reply.started": "2022-11-12T13:44:08.929777Z"
    },
    "jupyter": {
     "outputs_hidden": false
    }
   },
   "outputs": [],
   "source": [
    "fitted_graph_model = starter_pipe[-1]\n",
    "default_model_params = fitted_graph_model.get_params()\n",
    "default_model_params"
   ]
  },
  {
   "cell_type": "code",
   "execution_count": null,
   "metadata": {
    "collapsed": false,
    "execution": {
     "iopub.execute_input": "2022-11-12T13:44:08.939337Z",
     "iopub.status.busy": "2022-11-12T13:44:08.938552Z",
     "iopub.status.idle": "2022-11-12T13:44:08.946086Z",
     "shell.execute_reply": "2022-11-12T13:44:08.945085Z",
     "shell.execute_reply.started": "2022-11-12T13:44:08.939304Z"
    },
    "jupyter": {
     "outputs_hidden": false
    }
   },
   "outputs": [],
   "source": [
    "import sklearn\n",
    "\n",
    "sklearn.metrics.get_scorer_names()"
   ]
  },
  {
   "cell_type": "code",
   "execution_count": null,
   "metadata": {
    "collapsed": false,
    "execution": {
     "iopub.execute_input": "2022-11-12T13:44:08.948171Z",
     "iopub.status.busy": "2022-11-12T13:44:08.947459Z",
     "iopub.status.idle": "2022-11-12T13:44:27.224943Z",
     "shell.execute_reply": "2022-11-12T13:44:27.223880Z",
     "shell.execute_reply.started": "2022-11-12T13:44:08.948170Z"
    },
    "jupyter": {
     "outputs_hidden": false
    }
   },
   "outputs": [],
   "source": [
    "%timeit starter_pipe.fit(X_train, y_train)"
   ]
  },
  {
   "cell_type": "code",
   "execution_count": null,
   "metadata": {
    "execution": {
     "iopub.execute_input": "2022-11-12T15:12:56.105039Z",
     "iopub.status.busy": "2022-11-12T15:12:56.103453Z",
     "iopub.status.idle": "2022-11-12T15:12:56.116954Z",
     "shell.execute_reply": "2022-11-12T15:12:56.115893Z",
     "shell.execute_reply.started": "2022-11-12T15:12:56.105009Z"
    }
   },
   "outputs": [],
   "source": [
    "options_block = get_hyperparameters(starter_pipe[-1], use_gpu)\n",
    "\n",
    "OVERRIDE_CV = 2\n",
    "OVERRIDE_N_ITER = 50\n",
    "OVERRIDE_CV = 3\n",
    "OVERRIDE_N_ITER = 300\n",
    "\n",
    "param_options, cv, n_jobs, refit, n_iter, verbose = get_cv_params(options_block, debug_mode=debug_mode,\n",
    "                                                                  override_cv=OVERRIDE_CV,\n",
    "                                                                  override_niter=OVERRIDE_N_ITER,\n",
    "                                                                  override_njobs=OVERRIDE_JOBS)\n",
    "\n",
    "print(\"cv:\", cv, \"n_jobs:\", n_jobs, \"refit:\", refit, \"n_iter:\", n_iter, \"verbose:\", verbose)\n",
    "param_options"
   ]
  },
  {
   "cell_type": "code",
   "execution_count": null,
   "metadata": {
    "execution": {
     "iopub.execute_input": "2022-11-12T15:12:57.197369Z",
     "iopub.status.busy": "2022-11-12T15:12:57.196844Z",
     "iopub.status.idle": "2022-11-12T15:45:57.317618Z",
     "shell.execute_reply": "2022-11-12T15:45:57.316560Z",
     "shell.execute_reply.started": "2022-11-12T15:12:57.197328Z"
    }
   },
   "outputs": [
    {
     "name": "stderr",
     "output_type": "stream",
     "text": [
      "\n",
      "KeyboardInterrupt\n",
      "\n"
     ]
    }
   ],
   "source": [
    "def fit_model_with_cross_validation(gs, X_train, y_train, fits):\n",
    "    pipe_start = time()\n",
    "    cv_result = gs.fit(X_train, y_train)\n",
    "    gs.fit(X_train, y_train)\n",
    "    pipe_end = time()\n",
    "    average_time = round((pipe_end - pipe_start) / (fits), 2)\n",
    "\n",
    "    print(f\"Total fit/CV time      : {int(pipe_end - pipe_start)} seconds   ({pipe_start} ==> {pipe_end})\")\n",
    "    print()\n",
    "    print(\n",
    "        f'average fit/score time = {round(cv_result.cv_results_[\"mean_fit_time\"].mean(), 2)}s/{round(cv_result.cv_results_[\"mean_score_time\"].mean(), 2)}s')\n",
    "    print(\n",
    "        f'max fit/score time     = {round(cv_result.cv_results_[\"mean_fit_time\"].max(), 2)}s/{round(cv_result.cv_results_[\"mean_score_time\"].max(), 2)}s')\n",
    "    print(f'refit time             = {round(cv_result.refit_time_, 2)}s')\n",
    "\n",
    "    #return cv_result, average_time, cv_result.refit_time_, len(cv_result.cv_results_[\"mean_fit_time\"])\n",
    "    return average_time, cv_result.refit_time_, len(cv_result.cv_results_[\"mean_fit_time\"])\n",
    "\n",
    "\n",
    "crossval_runner = RandomizedSearchCV(\n",
    "    estimator=starter_pipe,\n",
    "    param_distributions=param_options,\n",
    "    cv=cv, n_jobs=n_jobs,  # get the AVX/AVX2 info if use n_jobs > 2\n",
    "    verbose=verbose, scoring=CROSS_VALIDATION_SCORING,\n",
    "    refit=refit,\n",
    "    return_train_score=True,  #n_iter=n_iter,\n",
    "    n_iter=n_iter,  # 1, #3\n",
    "    #error_score='raise'\n",
    ")\n",
    "\n",
    "cv_average_fit_time, cv_best_model_fit_time, total_fits = fit_model_with_cross_validation(\n",
    "    crossval_runner, X_train, y_train, fits=cv * n_iter)\n"
   ]
  },
  {
   "cell_type": "code",
   "execution_count": null,
   "metadata": {
    "collapsed": false,
    "execution": {
     "iopub.execute_input": "2022-11-12T15:54:47.218236Z",
     "iopub.status.busy": "2022-11-12T15:54:47.217628Z",
     "iopub.status.idle": "2022-11-12T15:54:47.242169Z",
     "shell.execute_reply": "2022-11-12T15:54:47.241088Z",
     "shell.execute_reply.started": "2022-11-12T15:54:47.218236Z"
    },
    "jupyter": {
     "outputs_hidden": false
    }
   },
   "outputs": [],
   "source": [
    "crossval_runner.best_params_\n",
    "starter_pipe"
   ]
  },
  {
   "cell_type": "code",
   "execution_count": null,
   "metadata": {
    "collapsed": false,
    "execution": {
     "iopub.execute_input": "2022-11-12T15:55:54.009130Z",
     "iopub.status.busy": "2022-11-12T15:55:54.008746Z",
     "iopub.status.idle": "2022-11-12T15:55:54.014709Z",
     "shell.execute_reply": "2022-11-12T15:55:54.013410Z",
     "shell.execute_reply.started": "2022-11-12T15:55:54.009104Z"
    },
    "jupyter": {
     "outputs_hidden": false
    }
   },
   "outputs": [],
   "source": [
    "best_estimator_pipe = crossval_runner.best_estimator_\n",
    "\n",
    "if debug_mode:\n",
    "    crossval_runner.cv_results_"
   ]
  },
  {
   "cell_type": "code",
   "execution_count": null,
   "metadata": {
    "collapsed": false,
    "execution": {
     "iopub.execute_input": "2022-11-12T15:55:58.075758Z",
     "iopub.status.busy": "2022-11-12T15:55:58.075399Z",
     "iopub.status.idle": "2022-11-12T15:55:58.107360Z",
     "shell.execute_reply": "2022-11-12T15:55:58.106160Z",
     "shell.execute_reply.started": "2022-11-12T15:55:58.075733Z"
    },
    "jupyter": {
     "outputs_hidden": false
    }
   },
   "outputs": [],
   "source": [
    "cv_results_df = pd.DataFrame(crossval_runner.cv_results_).sort_values('rank_test_score')\n",
    "cv_results_df"
   ]
  },
  {
   "cell_type": "code",
   "execution_count": null,
   "metadata": {},
   "outputs": [],
   "source": []
  },
  {
   "cell_type": "code",
   "execution_count": null,
   "metadata": {
    "execution": {
     "iopub.execute_input": "2022-11-12T15:56:04.112854Z",
     "iopub.status.busy": "2022-11-12T15:56:04.112438Z",
     "iopub.status.idle": "2022-11-12T15:56:04.139584Z",
     "shell.execute_reply": "2022-11-12T15:56:04.138246Z",
     "shell.execute_reply.started": "2022-11-12T15:56:04.112814Z"
    }
   },
   "outputs": [],
   "source": [
    "#xx = [c in cv_results_df.columns if 'params' in c]\n",
    "xx = [c for c in cv_results_df.columns if 'param' in c]\n",
    "xx.insert(0, 'rank_test_score')\n",
    "xx.insert(0, 'mean_test_score')\n",
    "cv_results_df[xx].head(7)"
   ]
  },
  {
   "cell_type": "code",
   "execution_count": null,
   "metadata": {
    "execution": {
     "iopub.execute_input": "2022-11-12T15:56:05.047205Z",
     "iopub.status.busy": "2022-11-12T15:56:05.046748Z",
     "iopub.status.idle": "2022-11-12T15:56:05.072184Z",
     "shell.execute_reply": "2022-11-12T15:56:05.070854Z",
     "shell.execute_reply.started": "2022-11-12T15:56:05.047171Z"
    }
   },
   "outputs": [],
   "source": [
    "cv_results_df[xx].tail(7)"
   ]
  },
  {
   "cell_type": "code",
   "execution_count": null,
   "metadata": {
    "collapsed": false,
    "execution": {
     "iopub.execute_input": "2022-11-12T15:56:11.697772Z",
     "iopub.status.busy": "2022-11-12T15:56:11.697323Z",
     "iopub.status.idle": "2022-11-12T15:56:11.734917Z",
     "shell.execute_reply": "2022-11-12T15:56:11.733052Z",
     "shell.execute_reply.started": "2022-11-12T15:56:11.697743Z"
    },
    "jupyter": {
     "outputs_hidden": false
    }
   },
   "outputs": [],
   "source": [
    "\n",
    "cv_results_df['params2'] = cv_results_df['params'].apply(lambda l: '/'.join([str(c) for c in l.values()]))\n",
    "\n",
    "cv_columns = ['params2', 'rank_test_score', 'mean_test_score', 'mean_fit_time', 'mean_score_time', 'params']\n",
    "# if 'Neural' not in ALGORITHM:\n",
    "#     cv_columns.insert(2, 'mean_train_score')\n",
    "cv_results_df_full_sorted = cv_results_df.sort_values('rank_test_score')[cv_columns].reset_index(drop=True)\n",
    "cv_results_df_full_sorted"
   ]
  },
  {
   "cell_type": "code",
   "execution_count": null,
   "metadata": {
    "collapsed": false,
    "execution": {
     "iopub.execute_input": "2022-11-12T15:56:24.897382Z",
     "iopub.status.busy": "2022-11-12T15:56:24.896937Z",
     "iopub.status.idle": "2022-11-12T15:56:24.927769Z",
     "shell.execute_reply": "2022-11-12T15:56:24.926472Z",
     "shell.execute_reply.started": "2022-11-12T15:56:24.897343Z"
    },
    "jupyter": {
     "outputs_hidden": false
    }
   },
   "outputs": [],
   "source": [
    "cv_results_df_sorted = cv_results_df_full_sorted[cv_results_df_full_sorted['mean_test_score'] > -2]\n",
    "if len(cv_results_df_sorted) != len(cv_results_df_full_sorted):\n",
    "    print(-len(cv_results_df_sorted) + len(cv_results_df_full_sorted), \"fits were total failures\")\n",
    "    total_fits = len(cv_results_df_sorted)\n",
    "cv_results_df_sorted\n"
   ]
  },
  {
   "cell_type": "code",
   "execution_count": null,
   "metadata": {
    "collapsed": false,
    "execution": {
     "iopub.execute_input": "2022-11-12T15:56:24.930332Z",
     "iopub.status.busy": "2022-11-12T15:56:24.929944Z",
     "iopub.status.idle": "2022-11-12T15:56:24.938702Z",
     "shell.execute_reply": "2022-11-12T15:56:24.937286Z",
     "shell.execute_reply.started": "2022-11-12T15:56:24.930314Z"
    },
    "jupyter": {
     "outputs_hidden": false
    }
   },
   "outputs": [],
   "source": [
    "def print_results(cross_validation_result):\n",
    "    means = cross_validation_result.cv_results_['mean_test_score']\n",
    "    stds = cross_validation_result.cv_results_['std_test_score']\n",
    "    params = cross_validation_result.cv_results_['params']\n",
    "    times = cross_validation_result.cv_results_['std_test_score']\n",
    "\n",
    "    print(\"params:\" + \"/\".join([c.replace(\"model__\", \"\") for c in params[0].keys()]))\n",
    "    print()\n",
    "    for mean, std, param, time in zip(means, stds, params, times):\n",
    "        #param2 = \"/\".join(list(param.values()))\n",
    "        param2 = \"/\".join(list([str(c) for c in param.values()]))\n",
    "        print(f'{round(mean, 3)} (+/-{round(std * 2, 3)}) in {round(time, 4)}s for {param2}')\n",
    "\n",
    "\n",
    "if debug_mode:\n",
    "    print_results(crossval_runner)"
   ]
  },
  {
   "cell_type": "code",
   "execution_count": null,
   "metadata": {
    "collapsed": false,
    "execution": {
     "iopub.execute_input": "2022-11-12T15:56:24.940950Z",
     "iopub.status.busy": "2022-11-12T15:56:24.940473Z",
     "iopub.status.idle": "2022-11-12T15:56:24.949097Z",
     "shell.execute_reply": "2022-11-12T15:56:24.948034Z",
     "shell.execute_reply.started": "2022-11-12T15:56:24.940878Z"
    },
    "jupyter": {
     "outputs_hidden": false
    }
   },
   "outputs": [],
   "source": [
    "print('Best Index: ', crossval_runner.best_index_)\n",
    "print('Best Score: ', crossval_runner.best_score_)\n",
    "print('Best Params: ', crossval_runner.best_params_)"
   ]
  },
  {
   "cell_type": "code",
   "execution_count": null,
   "metadata": {
    "execution": {
     "iopub.execute_input": "2022-11-12T15:56:24.952152Z",
     "iopub.status.busy": "2022-11-12T15:56:24.951700Z",
     "iopub.status.idle": "2022-11-12T15:56:25.064827Z",
     "shell.execute_reply": "2022-11-12T15:56:25.063388Z",
     "shell.execute_reply.started": "2022-11-12T15:56:24.952104Z"
    }
   },
   "outputs": [],
   "source": [
    "y_pred = best_estimator_pipe.predict(X_test)"
   ]
  },
  {
   "cell_type": "code",
   "execution_count": null,
   "metadata": {
    "execution": {
     "iopub.execute_input": "2022-11-12T15:56:25.066584Z",
     "iopub.status.busy": "2022-11-12T15:56:25.066437Z",
     "iopub.status.idle": "2022-11-12T15:56:25.078446Z",
     "shell.execute_reply": "2022-11-12T15:56:25.077015Z",
     "shell.execute_reply.started": "2022-11-12T15:56:25.066551Z"
    }
   },
   "outputs": [],
   "source": [
    "y_pred = y_pred.reshape((-1, 1))\n",
    "\n",
    "R2 = r2_score(y_test, y_pred)\n",
    "MAE = mean_absolute_error(y_test, y_pred)\n",
    "MSE = mean_squared_error(y_test, y_pred)\n",
    "RMSE = math.sqrt(MSE)\n",
    "print('-' * 10 + ALGORITHM + '-' * 10)\n",
    "print('R square Accuracy', R2)\n",
    "print('Mean Absolute Error Accuracy', MAE)\n",
    "print('Mean Squared Error Accuracy', MSE)\n",
    "print('Root Mean Squared Error', RMSE)"
   ]
  },
  {
   "cell_type": "code",
   "execution_count": null,
   "metadata": {
    "execution": {
     "iopub.execute_input": "2022-11-12T15:56:25.080687Z",
     "iopub.status.busy": "2022-11-12T15:56:25.080141Z",
     "iopub.status.idle": "2022-11-12T15:56:25.088640Z",
     "shell.execute_reply": "2022-11-12T15:56:25.087156Z",
     "shell.execute_reply.started": "2022-11-12T15:56:25.080687Z"
    }
   },
   "outputs": [],
   "source": [
    "if debug_mode:\n",
    "    print(y_test_index.reshape((-1, 1)).shape);\n",
    "    print(y_pred.reshape((-1, 1)).shape);\n",
    "    print(y_test.shape);\n",
    "    print(y_test_index.shape);\n",
    "    print(y_pred.shape);\n",
    "    print(y_test.shape)"
   ]
  },
  {
   "cell_type": "code",
   "execution_count": null,
   "metadata": {
    "execution": {
     "iopub.execute_input": "2022-11-12T15:56:25.091776Z",
     "iopub.status.busy": "2022-11-12T15:56:25.091294Z",
     "iopub.status.idle": "2022-11-12T15:56:25.126198Z",
     "shell.execute_reply": "2022-11-12T15:56:25.124673Z",
     "shell.execute_reply.started": "2022-11-12T15:56:25.091733Z"
    }
   },
   "outputs": [],
   "source": [
    "compare = np.hstack((y_test_index, y_test, y_pred))\n",
    "compare_df = DataFrame(compare, columns=['reference', 'actual', 'predicted'])\n",
    "compare_df['difference'] = abs(compare_df['actual'] - compare_df['predicted'])\n",
    "compare_df['diff 1 %'] = abs((compare_df['actual'] - compare_df['predicted']) / compare_df['actual'] * 100)\n",
    "compare_df['diff 2 %'] = abs((compare_df['actual'] - compare_df['predicted']) / compare_df['predicted']) * 100\n",
    "compare_df['reference'] = compare_df['reference'].astype(int)\n",
    "compare_df.set_index('reference', inplace=True)\n",
    "compare_df"
   ]
  },
  {
   "cell_type": "code",
   "execution_count": null,
   "metadata": {
    "execution": {
     "iopub.execute_input": "2022-11-12T15:56:25.130611Z",
     "iopub.status.busy": "2022-11-12T15:56:25.130192Z",
     "iopub.status.idle": "2022-11-12T15:56:25.172383Z",
     "shell.execute_reply": "2022-11-12T15:56:25.170958Z",
     "shell.execute_reply.started": "2022-11-12T15:56:25.130572Z"
    }
   },
   "outputs": [],
   "source": [
    "combined = compare_df.merge(df[columns], how='inner', left_index=True, right_index=True).sort_values(['diff 1 %'],\n",
    "                                                                                                     ascending=False)\n",
    "#pd.options.display.float_format = '{:.4f}'.format\n",
    "combined[['predicted', 'actual', 'Price', 'bedrooms', 'bathrooms']] = combined[\n",
    "    ['predicted', 'actual', 'Price', 'bedrooms', 'bathrooms']].astype(int)\n",
    "combined['bedrooms'] = combined['bedrooms'].astype(int)\n",
    "combined"
   ]
  },
  {
   "cell_type": "code",
   "execution_count": null,
   "metadata": {
    "execution": {
     "iopub.execute_input": "2022-11-12T15:56:25.174638Z",
     "iopub.status.busy": "2022-11-12T15:56:25.174246Z",
     "iopub.status.idle": "2022-11-12T15:56:25.268749Z",
     "shell.execute_reply": "2022-11-12T15:56:25.267708Z",
     "shell.execute_reply.started": "2022-11-12T15:56:25.174595Z"
    }
   },
   "outputs": [],
   "source": [
    "score = best_estimator_pipe.score(X_test, y_test)\n",
    "score"
   ]
  },
  {
   "cell_type": "code",
   "execution_count": null,
   "metadata": {
    "execution": {
     "iopub.execute_input": "2022-11-12T15:56:25.270100Z",
     "iopub.status.busy": "2022-11-12T15:56:25.269851Z",
     "iopub.status.idle": "2022-11-12T15:56:25.278038Z",
     "shell.execute_reply": "2022-11-12T15:56:25.277051Z",
     "shell.execute_reply.started": "2022-11-12T15:56:25.270072Z"
    }
   },
   "outputs": [],
   "source": [
    "r2_score(y_test, y_pred)"
   ]
  },
  {
   "cell_type": "code",
   "execution_count": null,
   "metadata": {
    "execution": {
     "iopub.execute_input": "2022-11-12T15:56:25.280051Z",
     "iopub.status.busy": "2022-11-12T15:56:25.279660Z",
     "iopub.status.idle": "2022-11-12T15:56:25.574417Z",
     "shell.execute_reply": "2022-11-12T15:56:25.573313Z",
     "shell.execute_reply.started": "2022-11-12T15:56:25.280013Z"
    }
   },
   "outputs": [],
   "source": [
    "fig, ax = plt.subplots()\n",
    "ax.scatter(y_test, best_estimator_pipe.predict(X_test), edgecolors=(0, 0, 1))\n",
    "ax.plot([y_test.min(), y_test.max()], [y_test.min(), y_test.max()], 'r--', lw=3)\n",
    "ax.set_ylabel('Predicted')\n",
    "ax.set_xlabel('Actual')\n",
    "#ax.title.set_text(f'CV Chosen best option ({calculated_best_pipe[1]})')\n",
    "plt.show()"
   ]
  },
  {
   "cell_type": "code",
   "execution_count": null,
   "metadata": {
    "collapsed": false,
    "execution": {
     "iopub.execute_input": "2022-11-12T15:56:25.576347Z",
     "iopub.status.busy": "2022-11-12T15:56:25.575813Z",
     "iopub.status.idle": "2022-11-12T15:56:28.194615Z",
     "shell.execute_reply": "2022-11-12T15:56:28.193726Z",
     "shell.execute_reply.started": "2022-11-12T15:56:25.576347Z"
    },
    "jupyter": {
     "outputs_hidden": false
    }
   },
   "outputs": [],
   "source": [
    "def custom_model_and_predictions(model, graph_params, X_train, y_train, X_test):\n",
    "    graph_model = model\n",
    "    graph_model.set_params(**graph_params)\n",
    "    graph_model.fit(X_train, y_train)\n",
    "    y_pred_graph = model.predict(X_test)\n",
    "\n",
    "    return model, y_pred_graph\n",
    "\n",
    "\n",
    "best_model_count = 10 if not quick_mode else 2\n",
    "best_model_count = 3 if not quick_mode else 1\n",
    "best_models = {}\n",
    "best_model_predictions = {}\n",
    "best_model_scores = {}\n",
    "\n",
    "showable_increment = total_fits // 4 if not quick_mode else 2\n",
    "for i in range(0, total_fits, showable_increment):\n",
    "    if debug_mode or True: print(f'{i} ==> {i}')\n",
    "\n",
    "    if i == 0:\n",
    "        fitted_graph_model = crossval_runner.best_estimator_\n",
    "        y_pred_graph = y_pred\n",
    "    else:\n",
    "        graph_pipe_params = cv_results_df_sorted['params'][i]\n",
    "        print(graph_pipe_params)\n",
    "        # would always return the best! graph_pipe_params = cv_results_df_sorted.loc[cv_results_df_sorted['rank_test_score'] == 1, 'params'].values[0]\n",
    "\n",
    "        graph_params = {}\n",
    "        for key, value in graph_pipe_params.items():\n",
    "            graph_params[key.replace('model__', '')] = value\n",
    "\n",
    "        fitted_graph_model, y_pred_graph = custom_model_and_predictions(starter_pipe, graph_pipe_params, X_train,\n",
    "                                                                        y_train, X_test)\n",
    "\n",
    "    best_models[i] = fitted_graph_model[-1].get_params()\n",
    "    best_model_predictions[i] = y_pred_graph\n",
    "    best_model_scores[i] = fitted_graph_model.score(X_test, y_test)\n",
    "\n",
    "if debug_mode or True: print(f'{-1} ==> {-1}')\n",
    "graph_pipe_params = cv_results_df_sorted['params'][total_fits - 1]\n",
    "print(graph_pipe_params)\n",
    "graph_params = {}\n",
    "for key, value in graph_pipe_params.items():\n",
    "    graph_params[key.replace('model__', '')] = value\n",
    "fitted_graph_model, y_pred_graph = custom_model_and_predictions(starter_pipe, graph_pipe_params, X_train,\n",
    "                                                                y_train, X_test)\n",
    "best_models[-1] = fitted_graph_model[-1].get_params()\n",
    "best_model_predictions[-1] = y_pred_graph\n",
    "best_model_scores[-1] = fitted_graph_model.score(X_test, y_test)\n"
   ]
  },
  {
   "cell_type": "code",
   "execution_count": null,
   "metadata": {
    "collapsed": false,
    "execution": {
     "iopub.execute_input": "2022-11-12T15:56:28.196736Z",
     "iopub.status.busy": "2022-11-12T15:56:28.195737Z",
     "iopub.status.idle": "2022-11-12T15:56:28.217079Z",
     "shell.execute_reply": "2022-11-12T15:56:28.216191Z",
     "shell.execute_reply.started": "2022-11-12T15:56:28.196666Z"
    },
    "jupyter": {
     "outputs_hidden": false
    }
   },
   "outputs": [],
   "source": [
    "cv_results_df_sorted"
   ]
  },
  {
   "cell_type": "code",
   "execution_count": null,
   "metadata": {
    "collapsed": false,
    "execution": {
     "iopub.execute_input": "2022-11-12T15:56:28.220773Z",
     "iopub.status.busy": "2022-11-12T15:56:28.219301Z",
     "iopub.status.idle": "2022-11-12T15:56:28.233043Z",
     "shell.execute_reply": "2022-11-12T15:56:28.232039Z",
     "shell.execute_reply.started": "2022-11-12T15:56:28.220726Z"
    },
    "jupyter": {
     "outputs_hidden": false
    }
   },
   "outputs": [],
   "source": [
    "cv_results_df_sorted['params']"
   ]
  },
  {
   "cell_type": "code",
   "execution_count": null,
   "metadata": {
    "execution": {
     "iopub.execute_input": "2022-11-12T15:56:28.235798Z",
     "iopub.status.busy": "2022-11-12T15:56:28.234437Z",
     "iopub.status.idle": "2022-11-12T15:56:28.243954Z",
     "shell.execute_reply": "2022-11-12T15:56:28.242843Z",
     "shell.execute_reply.started": "2022-11-12T15:56:28.235755Z"
    }
   },
   "outputs": [],
   "source": [
    "cv_results_df_sorted['params'][0]"
   ]
  },
  {
   "cell_type": "code",
   "execution_count": null,
   "metadata": {
    "collapsed": false,
    "execution": {
     "iopub.execute_input": "2022-11-12T15:56:28.246751Z",
     "iopub.status.busy": "2022-11-12T15:56:28.245302Z",
     "iopub.status.idle": "2022-11-12T15:56:28.253102Z",
     "shell.execute_reply": "2022-11-12T15:56:28.252010Z",
     "shell.execute_reply.started": "2022-11-12T15:56:28.246692Z"
    },
    "jupyter": {
     "outputs_hidden": false
    }
   },
   "outputs": [],
   "source": [
    "total_fits"
   ]
  },
  {
   "cell_type": "code",
   "execution_count": null,
   "metadata": {
    "collapsed": false,
    "execution": {
     "iopub.execute_input": "2022-11-12T15:56:28.256962Z",
     "iopub.status.busy": "2022-11-12T15:56:28.254797Z",
     "iopub.status.idle": "2022-11-12T15:56:28.270962Z",
     "shell.execute_reply": "2022-11-12T15:56:28.270106Z",
     "shell.execute_reply.started": "2022-11-12T15:56:28.256922Z"
    },
    "jupyter": {
     "outputs_hidden": false
    }
   },
   "outputs": [],
   "source": [
    "best_models"
   ]
  },
  {
   "cell_type": "code",
   "execution_count": null,
   "metadata": {
    "collapsed": false,
    "execution": {
     "iopub.execute_input": "2022-11-12T15:56:28.272795Z",
     "iopub.status.busy": "2022-11-12T15:56:28.272185Z",
     "iopub.status.idle": "2022-11-12T15:56:29.693432Z",
     "shell.execute_reply": "2022-11-12T15:56:29.692028Z",
     "shell.execute_reply.started": "2022-11-12T15:56:28.272755Z"
    },
    "jupyter": {
     "outputs_hidden": false
    }
   },
   "outputs": [],
   "source": [
    "for i in best_model_scores.keys():\n",
    "    if i >= 0:\n",
    "        plt.plot([y_test.min(), y_test.max()], [y_test.min(), y_test.max()], 'r--', lw=3)\n",
    "        plt.scatter(y_test, best_model_predictions[i])\n",
    "        # plt.title(str(i) + \" \" + str(round(best_model_scores[i], 4)) + \" for \" + str(best_models[i]))\n",
    "        plt.title(str(i) + \" \" + str(round(best_model_scores[i], 4)) + \" for entry \" + str(i))\n",
    "        plt.show()\n",
    "\n",
    "plt.plot([y_test.min(), y_test.max()], [y_test.min(), y_test.max()], 'r--', lw=3)\n",
    "plt.scatter(y_test, best_model_predictions[-1])\n",
    "# plt.title(str(i) + \" \" + str(round(best_model_scores[i], 4)) + \" for \" + str(best_models[i]))\n",
    "plt.title(str(i) + \" \" + str(round(best_model_scores[-1], 4)) + \" for (worst) entry \" + str(i))\n",
    "plt.show()"
   ]
  },
  {
   "cell_type": "code",
   "execution_count": null,
   "metadata": {
    "collapsed": false,
    "execution": {
     "iopub.execute_input": "2022-11-12T15:56:29.697598Z",
     "iopub.status.busy": "2022-11-12T15:56:29.697342Z",
     "iopub.status.idle": "2022-11-12T15:56:30.515166Z",
     "shell.execute_reply": "2022-11-12T15:56:30.509897Z",
     "shell.execute_reply.started": "2022-11-12T15:56:29.697571Z"
    },
    "jupyter": {
     "outputs_hidden": false
    }
   },
   "outputs": [],
   "source": [
    "if True:\n",
    "    sns.set_theme(font_scale=2, rc=None)\n",
    "    sns.set_theme(font_scale=1, rc=None)\n",
    "\n",
    "    fig, axes = plt.subplots(ncols=3, figsize=(15, 5))\n",
    "\n",
    "    plt.subplots_adjust(hspace=0.2)\n",
    "    plt.subplots_adjust(wspace=0.2)\n",
    "\n",
    "    #.flatten()\n",
    "    coordinates = axes[0]\n",
    "    sns.lineplot(x=[y_test.min(), y_test.max()], y=[y_test.min(), y_test.max()], ax=axes[0], color='red')\n",
    "    sns.scatterplot(x=y_test.flatten(), y=best_model_predictions[0].flatten(), ax=axes[0],\n",
    "                    s=100).set(title=f'\"BEST\" model')\n",
    "\n",
    "    sns.lineplot(x=[y_test.min(), y_test.max()], y=[y_test.min(), y_test.max()], ax=axes[1], color='red')\n",
    "    sns.scatterplot(x=y_test.flatten(), y=best_model_predictions[-1].flatten(), ax=axes[1],\n",
    "                    s=100).set(title=f'\"WORST\" model')\n",
    "\n",
    "    sns.lineplot(x=[y_test.min(), y_test.max()], y=[y_test.min(), y_test.max()], ax=axes[2], color='red')\n",
    "    sns.scatterplot(x=y_test.flatten(), y=best_model_predictions[-1].flatten(), ax=axes[2],\n",
    "                    s=120, color='orange')\n",
    "    sns.scatterplot(x=y_test.flatten(), y=best_model_predictions[0].flatten(), ax=axes[2],\n",
    "                    s=30, alpha=0.6, color='black').set(\n",
    "        title='best (black) vs worst (orange)')\n",
    "    #title='best (orange) vs worst (black)')\n",
    "\n",
    "    fig.tight_layout()\n",
    "    plt.show()"
   ]
  },
  {
   "cell_type": "code",
   "execution_count": null,
   "metadata": {
    "collapsed": false,
    "execution": {
     "iopub.execute_input": "2022-11-12T15:56:30.517563Z",
     "iopub.status.busy": "2022-11-12T15:56:30.517170Z",
     "iopub.status.idle": "2022-11-12T15:56:30.536882Z",
     "shell.execute_reply": "2022-11-12T15:56:30.535446Z",
     "shell.execute_reply.started": "2022-11-12T15:56:30.517533Z"
    },
    "jupyter": {
     "outputs_hidden": false
    }
   },
   "outputs": [],
   "source": [
    "cv_best_model_fit_time = cv_results_df_sorted.iloc[0][\"mean_fit_time\"]\n",
    "#cv_best_model_fit_time = cv_results_df_sorted.iloc[0][\"mean_fit_time\"]\n",
    "cv_best_model_fit_time"
   ]
  },
  {
   "cell_type": "code",
   "execution_count": null,
   "metadata": {
    "execution": {
     "iopub.execute_input": "2022-11-12T15:56:30.539196Z",
     "iopub.status.busy": "2022-11-12T15:56:30.538755Z",
     "iopub.status.idle": "2022-11-12T15:56:30.940811Z",
     "shell.execute_reply": "2022-11-12T15:56:30.939799Z",
     "shell.execute_reply.started": "2022-11-12T15:56:30.539156Z"
    }
   },
   "outputs": [],
   "source": [
    "cv_best_model_fit_time = cv_results_df_sorted.iloc[0][\"mean_fit_time\"]\n",
    "\n",
    "DD2 = \"(\".join(DATA_DETAIL) + \")\" if len(DATA_DETAIL) >= 1 else \"\"\n",
    "key = f'{ALGORITHM} - {ALGORITHM_DETAIL}{DD2} (v{VERSION})'.lower()\n",
    "\n",
    "results = {\n",
    "    '_score': score,\n",
    "    'R square Accuracy': R2,\n",
    "    'Mean Absolute Error Accuracy': MAE,\n",
    "    'Mean Squared Error Accuracy': MSE,\n",
    "    'Root Mean Squared Error': RMSE,\n",
    "    '_train time': cv_best_model_fit_time,\n",
    "    'random_state': RANDOM_STATE,\n",
    "    'date': str(datetime.now()),\n",
    "    '_params': crossval_runner.best_params_,\n",
    "    'run_env': run_env\n",
    "}\n",
    "\n",
    "if run_env not in ['colab']:\n",
    "    results_json = get_results()\n",
    "    update_results(results_json, results, key)\n",
    "\n",
    "print(key)\n",
    "results"
   ]
  },
  {
   "cell_type": "code",
   "execution_count": null,
   "metadata": {
    "collapsed": false,
    "execution": {
     "iopub.execute_input": "2022-11-12T15:56:30.942522Z",
     "iopub.status.busy": "2022-11-12T15:56:30.942105Z",
     "iopub.status.idle": "2022-11-12T15:56:30.977482Z",
     "shell.execute_reply": "2022-11-12T15:56:30.976240Z",
     "shell.execute_reply.started": "2022-11-12T15:56:30.942502Z"
    },
    "jupyter": {
     "outputs_hidden": false
    }
   },
   "outputs": [],
   "source": [
    "crossval_runner.best_estimator_"
   ]
  },
  {
   "cell_type": "code",
   "execution_count": null,
   "metadata": {
    "collapsed": false,
    "execution": {
     "iopub.execute_input": "2022-11-12T15:56:30.979025Z",
     "iopub.status.busy": "2022-11-12T15:56:30.978762Z",
     "iopub.status.idle": "2022-11-12T15:56:31.246193Z",
     "shell.execute_reply": "2022-11-12T15:56:31.245023Z",
     "shell.execute_reply.started": "2022-11-12T15:56:30.979002Z"
    },
    "jupyter": {
     "outputs_hidden": false
    }
   },
   "outputs": [],
   "source": [
    "with open(f'../../../models/optimised_model_{ALGORITHM}_v{VERSION}{DD2}.pkl', 'wb') as f:\n",
    "    pickle.dump(crossval_runner.best_estimator_, f)"
   ]
  },
  {
   "cell_type": "code",
   "execution_count": null,
   "metadata": {
    "collapsed": false,
    "execution": {
     "iopub.execute_input": "2022-11-12T15:56:31.247785Z",
     "iopub.status.busy": "2022-11-12T15:56:31.247490Z",
     "iopub.status.idle": "2022-11-12T15:56:31.256677Z",
     "shell.execute_reply": "2022-11-12T15:56:31.255373Z",
     "shell.execute_reply.started": "2022-11-12T15:56:31.247759Z"
    },
    "jupyter": {
     "outputs_hidden": false
    }
   },
   "outputs": [],
   "source": [
    "feature_importances = crossval_runner.best_estimator_[-1].feature_importances_\n",
    "#std = np.std([tree.feature_importances_ for tree in model.estimators_], axis = 0)\n",
    "\n",
    "indices = np.argsort(feature_importances)[::-1]\n",
    "\n",
    "print('Feature Ranking:')\n",
    "\n",
    "for f in range(X_train.shape[1]):\n",
    "    print('%d. features %d (%f)' % (f + 1, indices[f], feature_importances[indices[f]]),\n",
    "          df_features.columns[indices[f] + 1])\n"
   ]
  },
  {
   "cell_type": "code",
   "execution_count": null,
   "metadata": {
    "execution": {
     "iopub.execute_input": "2022-11-12T15:56:31.258194Z",
     "iopub.status.busy": "2022-11-12T15:56:31.257909Z",
     "iopub.status.idle": "2022-11-12T15:56:31.470687Z",
     "shell.execute_reply": "2022-11-12T15:56:31.469691Z",
     "shell.execute_reply.started": "2022-11-12T15:56:31.258154Z"
    }
   },
   "outputs": [],
   "source": [
    "feature_importances = crossval_runner.best_estimator_[-1].feature_importances_\n",
    "indices = np.argsort(feature_importances)\n",
    "\n",
    "fig, ax = plt.subplots()\n",
    "ax.barh(range(len(feature_importances)), feature_importances[indices])\n",
    "ax.set_yticks(range(len(feature_importances)))\n",
    "_ = ax.set_yticklabels(df_features.columns[[c + 1 for c in indices]])"
   ]
  },
  {
   "cell_type": "code",
   "execution_count": null,
   "metadata": {
    "collapsed": false,
    "jupyter": {
     "outputs_hidden": false
    }
   },
   "outputs": [],
   "source": []
  }
 ],
 "metadata": {
  "kernelspec": {
   "display_name": "Python 3 (ipykernel)",
   "language": "python",
   "name": "python3"
  },
  "language_info": {
   "codemirror_mode": {
    "name": "ipython",
    "version": 3
   },
   "file_extension": ".py",
   "mimetype": "text/x-python",
   "name": "python",
   "nbconvert_exporter": "python",
   "pygments_lexer": "ipython3",
   "version": "3.9.13"
  }
 },
 "nbformat": 4,
 "nbformat_minor": 4
}
