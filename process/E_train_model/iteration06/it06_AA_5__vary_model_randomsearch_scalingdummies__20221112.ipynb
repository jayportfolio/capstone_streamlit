{
 "cells": [
  {
   "cell_type": "code",
   "execution_count": null,
   "metadata": {
    "execution": {
     "iopub.execute_input": "2022-11-16T13:53:27.249807Z",
     "iopub.status.busy": "2022-11-16T13:53:27.249148Z",
     "iopub.status.idle": "2022-11-16T13:53:27.255429Z",
     "shell.execute_reply": "2022-11-16T13:53:27.254275Z",
     "shell.execute_reply.started": "2022-11-16T13:53:27.249780Z"
    },
    "pycharm": {
     "is_executing": true
    }
   },
   "outputs": [],
   "source": [
    "#ALGORITHM = 'Linear Regression (Ridge)'\n",
    "ALGORITHM = 'KNN'\n",
    "#ALGORITHM = 'Decision Tree'\n",
    "#ALGORITHM = 'Random Forest'\n",
    "#ALGORITHM = 'XG Boost'\n",
    "#ALGORITHM = 'CatBoost'\n",
    "#ALGORITHM = 'Light Gradient Boosting'\n",
    "\n",
    "ALGORITHM_DETAIL = 'random search'\n",
    "DATA_DETAIL = []\n",
    "#DATA_DETAIL = ['explore param']\n",
    "#DATA_DETAIL = ['no scale','no dummies']\n",
    "#DATA_DETAIL = ['no dummies']\n",
    "#VERSION = '06'\n",
    "VERSION = '09'\n",
    "\n",
    "RANDOM_STATE = 101\n",
    "TRAINING_SIZE = 0.9\n",
    "\n",
    "CROSS_VALIDATION_SCORING = 'r2'\n",
    "\n",
    "print(f'ALGORITHM: {ALGORITHM}')\n",
    "print(f'ALGORITHM_DETAIL: {ALGORITHM_DETAIL}')\n",
    "print(f'DATA_DETAIL: {DATA_DETAIL}')\n",
    "print(f'DATA VERSION: {VERSION}')\n"
   ]
  },
  {
   "cell_type": "code",
   "execution_count": null,
   "metadata": {
    "execution": {
     "iopub.execute_input": "2022-11-16T13:53:27.262780Z",
     "iopub.status.busy": "2022-11-16T13:53:27.262116Z",
     "iopub.status.idle": "2022-11-16T13:53:43.374795Z",
     "shell.execute_reply": "2022-11-16T13:53:43.374038Z",
     "shell.execute_reply.started": "2022-11-16T13:53:27.262757Z"
    },
    "pycharm": {
     "is_executing": true
    }
   },
   "outputs": [],
   "source": [
    "#%pip install catboost\n",
    "#%pip install lightgbm"
   ]
  },
  {
   "cell_type": "code",
   "execution_count": null,
   "metadata": {
    "execution": {
     "iopub.execute_input": "2022-11-16T13:53:43.376775Z",
     "iopub.status.busy": "2022-11-16T13:53:43.376510Z",
     "iopub.status.idle": "2022-11-16T13:53:45.085035Z",
     "shell.execute_reply": "2022-11-16T13:53:45.084293Z",
     "shell.execute_reply.started": "2022-11-16T13:53:43.376747Z"
    },
    "pycharm": {
     "is_executing": true
    }
   },
   "outputs": [],
   "source": [
    "from sklearn.impute import SimpleImputer\n",
    "import pandas as pd\n",
    "from sklearn.model_selection import train_test_split, RandomizedSearchCV, GridSearchCV\n",
    "import numpy as np\n",
    "from pandas import DataFrame\n",
    "import math\n",
    "from termcolor import colored\n",
    "from time import time\n",
    "import sklearn\n",
    "from sklearn.metrics import r2_score, mean_absolute_error, mean_squared_error\n",
    "from sklearn.metrics import r2_score\n",
    "import seaborn as sns\n",
    "import pickle\n",
    "\n",
    "import json\n",
    "from datetime import datetime\n",
    "import matplotlib.pyplot as plt\n",
    "\n",
    "with open('../../z_envs/_envs.json') as f:\n",
    "    env_vars = json.loads(f.read())\n",
    "print(env_vars)\n",
    "\n",
    "try:\n",
    "    import google.colab\n",
    "\n",
    "    run_env = 'colab'\n",
    "except:\n",
    "    try:\n",
    "        run_env = env_vars['notebook_environment']\n",
    "    except:\n",
    "        run_env = 'unknown'\n",
    "\n",
    "use_gpu = env_vars.get('use_gpu', False)\n",
    "debug_mode = env_vars.get('debug_mode', False)\n",
    "quick_mode = env_vars.get('quick_mode', False)\n",
    "OVERRIDE_CV = env_vars.get('quick_override_cv_splits', None) if quick_mode else None\n",
    "OVERRIDE_N_ITER = env_vars.get('quick_override_n_iter', None) if quick_mode else None\n",
    "OVERRIDE_JOBS = env_vars.get('quick_override_n_jobs', None) if quick_mode else None\n",
    "#if quick_mode:OVERRIDE_CV, OVERRIDE_N_ITER = 2, 10\n",
    "\n",
    "already_timed = False\n",
    "no_dummies = 'no dummies' in DATA_DETAIL\n",
    "no_scaling = 'no scaling' in DATA_DETAIL\n",
    "not_catboost = 'catboost' not in ALGORITHM.lower() or not no_dummies\n",
    "\n",
    "if run_env not in ['colab', 'gradient', 'cloud']:\n",
    "    cloud_run = False\n",
    "    from functions_b__get_the_data_20221116 import set_csv_directory\n",
    "    set_csv_directory('final_split')\n",
    "else:\n",
    "    cloud_run = True\n",
    "    import sys\n",
    "    import os\n",
    "\n",
    "    module_path = os.path.abspath(os.path.join('..', '..', '..'))\n",
    "    if module_path not in sys.path:\n",
    "        #sys.path.append(module_path+\"\\\\zfunctions\")\n",
    "        sys.path.append(module_path)\n",
    "\n",
    "from functions_0__common_20221116 import get_columns\n",
    "from functions_b__get_the_data_20221116 import get_combined_dataset\n",
    "from functions_d1__prepare_cleanse_data_20221116 import tidy_dataset\n",
    "from functions_d2__transform_enrich_data_20221116 import preprocess, feature_engineer\n",
    "from functions_d3__prepare_store_data_20221116 import create_train_test_data\n",
    "from functions_e__train_model_20221116 import get_chosen_model, make_modelling_pipeline, get_cv_params, fit_model_with_cross_validation, get_hyperparameters\n",
    "from functions_f_evaluate_model_20221116 import get_best_estimator_average_time, get_results, update_results\n",
    "\n"
   ]
  },
  {
   "cell_type": "code",
   "execution_count": null,
   "metadata": {
    "execution": {
     "iopub.execute_input": "2022-11-16T13:53:45.086382Z",
     "iopub.status.busy": "2022-11-16T13:53:45.086022Z",
     "iopub.status.idle": "2022-11-16T13:53:45.092108Z",
     "shell.execute_reply": "2022-11-16T13:53:45.091330Z",
     "shell.execute_reply.started": "2022-11-16T13:53:45.086361Z"
    },
    "pycharm": {
     "is_executing": true
    }
   },
   "outputs": [],
   "source": [
    "#cutdown_rows = 1000\n",
    "cutdown_rows = 0\n",
    "\n",
    "LABEL = 'Price'\n",
    "\n",
    "columns, booleans, floats, categories, custom, wildcard = get_columns(version=VERSION)\n",
    "\n",
    "print(colored(f\"features\", \"blue\"), \"-> \", columns)\n",
    "columns.insert(0, LABEL)\n",
    "print(colored(f\"label\", \"green\", None, ['bold']), \"-> \", LABEL)"
   ]
  },
  {
   "cell_type": "code",
   "execution_count": null,
   "metadata": {
    "collapsed": false,
    "execution": {
     "iopub.execute_input": "2022-11-29T21:13:26.061510Z",
     "iopub.status.busy": "2022-11-29T21:13:26.061266Z",
     "iopub.status.idle": "2022-11-29T21:13:26.076565Z",
     "shell.execute_reply": "2022-11-29T21:13:26.075207Z",
     "shell.execute_reply.started": "2022-11-29T21:13:26.061489Z"
    },
    "jupyter": {
     "outputs_hidden": false
    },
    "pycharm": {
     "is_executing": true
    }
   },
   "outputs": [],
   "source": [
    "from sklearn.pipeline import Pipeline\n",
    "from sklearn.preprocessing import MinMaxScaler, StandardScaler\n",
    "\n",
    "\n",
    "def make_pipeline():\n",
    "    return Pipeline([\n",
    "        #('mms', MinMaxScaler()),\n",
    "        ('std_scaler', StandardScaler()),\n",
    "        ('model', get_chosen_model(ALGORITHM))\n",
    "    ])\n",
    "\n",
    "\n",
    "starter_pipe = make_pipeline()\n",
    "starter_pipe"
   ]
  },
  {
   "cell_type": "code",
   "execution_count": null,
   "metadata": {
    "execution": {
     "iopub.execute_input": "2022-11-16T13:53:45.125489Z",
     "iopub.status.busy": "2022-11-16T13:53:45.125277Z",
     "iopub.status.idle": "2022-11-16T13:53:45.130895Z",
     "shell.execute_reply": "2022-11-16T13:53:45.130188Z",
     "shell.execute_reply.started": "2022-11-16T13:53:45.125470Z"
    },
    "pycharm": {
     "is_executing": true
    }
   },
   "outputs": [],
   "source": [
    "def get_source_dataframe(rows=cutdown_rows, folder_prefix='../../../'):\n",
    "    retrieval_type = None\n",
    "\n",
    "    filename = f'df_listings_v{VERSION}.csv'\n",
    "    remote_pathname = f'https://raw.githubusercontent.com/jayportfolio/capstone_streamlit/main/data/final/{filename}'\n",
    "    df_pathname_raw = folder_prefix + f'data/source/{filename}'\n",
    "    df_pathname_tidy = folder_prefix + f'data/final/{filename}'\n",
    "\n",
    "    if cloud_run:\n",
    "        inDF = pd.read_csv(remote_pathname, on_bad_lines='error', index_col=0)\n",
    "        retrieval_type = 'tidy'\n",
    "        print('loaded data from', folder_prefix + remote_pathname)\n",
    "    else:\n",
    "        inDF = pd.read_csv(df_pathname_tidy, on_bad_lines='error', index_col=0)\n",
    "        retrieval_type = 'tidy'\n",
    "        print('loaded data from', df_pathname_tidy)\n",
    "\n",
    "    if rows and rows > 0:\n",
    "        inDF = inDF[:rows]\n",
    "    return inDF, retrieval_type"
   ]
  },
  {
   "cell_type": "code",
   "execution_count": null,
   "metadata": {
    "execution": {
     "iopub.execute_input": "2022-11-16T13:53:45.132049Z",
     "iopub.status.busy": "2022-11-16T13:53:45.131848Z",
     "iopub.status.idle": "2022-11-16T13:53:45.525582Z",
     "shell.execute_reply": "2022-11-16T13:53:45.524903Z",
     "shell.execute_reply.started": "2022-11-16T13:53:45.132030Z"
    },
    "pycharm": {
     "is_executing": true
    }
   },
   "outputs": [],
   "source": [
    "df, retrieval_type = get_source_dataframe(folder_prefix='../../../')\n",
    "df_orig = df.copy()\n",
    "\n",
    "if retrieval_type != 'tidy':\n",
    "    df = tidy_dataset(df, version=int(VERSION))\n",
    "    df = feature_engineer(df, version=int(VERSION))\n",
    "\n",
    "    df = df[columns]\n",
    "\n",
    "print(df.shape)"
   ]
  },
  {
   "cell_type": "code",
   "execution_count": null,
   "metadata": {
    "execution": {
     "iopub.execute_input": "2022-11-16T13:53:45.526718Z",
     "iopub.status.busy": "2022-11-16T13:53:45.526472Z",
     "iopub.status.idle": "2022-11-16T13:53:45.548777Z",
     "shell.execute_reply": "2022-11-16T13:53:45.548195Z",
     "shell.execute_reply.started": "2022-11-16T13:53:45.526696Z"
    },
    "pycharm": {
     "is_executing": true
    }
   },
   "outputs": [],
   "source": [
    "df.head(30)"
   ]
  },
  {
   "cell_type": "code",
   "execution_count": null,
   "metadata": {
    "execution": {
     "iopub.execute_input": "2022-11-16T13:53:45.549728Z",
     "iopub.status.busy": "2022-11-16T13:53:45.549524Z",
     "iopub.status.idle": "2022-11-16T13:53:45.561922Z",
     "shell.execute_reply": "2022-11-16T13:53:45.561366Z",
     "shell.execute_reply.started": "2022-11-16T13:53:45.549709Z"
    },
    "pycharm": {
     "is_executing": true
    }
   },
   "outputs": [],
   "source": [
    "df.isnull().sum()"
   ]
  },
  {
   "cell_type": "code",
   "execution_count": null,
   "metadata": {
    "execution": {
     "iopub.execute_input": "2022-11-16T13:53:45.562900Z",
     "iopub.status.busy": "2022-11-16T13:53:45.562697Z",
     "iopub.status.idle": "2022-11-16T13:53:45.641457Z",
     "shell.execute_reply": "2022-11-16T13:53:45.640840Z",
     "shell.execute_reply.started": "2022-11-16T13:53:45.562882Z"
    },
    "pycharm": {
     "is_executing": true
    }
   },
   "outputs": [],
   "source": [
    "df.info()\n",
    "df.describe()\n",
    "df.describe().T"
   ]
  },
  {
   "cell_type": "code",
   "execution_count": null,
   "metadata": {
    "execution": {
     "iopub.execute_input": "2022-11-16T13:53:45.644307Z",
     "iopub.status.busy": "2022-11-16T13:53:45.644062Z",
     "iopub.status.idle": "2022-11-16T13:53:45.702850Z",
     "shell.execute_reply": "2022-11-16T13:53:45.702221Z",
     "shell.execute_reply.started": "2022-11-16T13:53:45.644286Z"
    },
    "pycharm": {
     "is_executing": true
    }
   },
   "outputs": [],
   "source": [
    "old_length = len(df)\n",
    "\n",
    "df = preprocess(df, version=VERSION)\n",
    "\n",
    "print(f\"dataframe contract due to cleaning: {old_length} ==> {len(df)}\")\n",
    "old_length = len(df)\n",
    "\n",
    "df.describe().T"
   ]
  },
  {
   "cell_type": "code",
   "execution_count": null,
   "metadata": {
    "execution": {
     "iopub.execute_input": "2022-11-16T13:53:45.704893Z",
     "iopub.status.busy": "2022-11-16T13:53:45.703920Z",
     "iopub.status.idle": "2022-11-16T13:53:45.718086Z",
     "shell.execute_reply": "2022-11-16T13:53:45.716989Z",
     "shell.execute_reply.started": "2022-11-16T13:53:45.704867Z"
    },
    "pycharm": {
     "is_executing": true
    }
   },
   "outputs": [],
   "source": [
    "df.isna().sum()"
   ]
  },
  {
   "cell_type": "code",
   "execution_count": null,
   "metadata": {
    "execution": {
     "iopub.execute_input": "2022-11-16T13:53:45.719480Z",
     "iopub.status.busy": "2022-11-16T13:53:45.719240Z",
     "iopub.status.idle": "2022-11-16T13:53:45.765084Z",
     "shell.execute_reply": "2022-11-16T13:53:45.764280Z",
     "shell.execute_reply.started": "2022-11-16T13:53:45.719461Z"
    },
    "pycharm": {
     "is_executing": true
    }
   },
   "outputs": [],
   "source": [
    "df = df.dropna()\n",
    "print(f\"{old_length} ==> {len(df)}\")\n",
    "old_length = len(df)\n",
    "df.describe()"
   ]
  },
  {
   "cell_type": "code",
   "execution_count": null,
   "metadata": {
    "execution": {
     "iopub.execute_input": "2022-11-16T13:53:45.766337Z",
     "iopub.status.busy": "2022-11-16T13:53:45.766118Z",
     "iopub.status.idle": "2022-11-16T13:53:45.807167Z",
     "shell.execute_reply": "2022-11-16T13:53:45.806099Z",
     "shell.execute_reply.started": "2022-11-16T13:53:45.766318Z"
    },
    "pycharm": {
     "is_executing": true
    }
   },
   "outputs": [],
   "source": [
    "X_train, X_test, y_train, y_test, X_train_index, X_test_index, y_train_index, y_test_index, df_features, df_labels = create_train_test_data(\n",
    "    df,\n",
    "    categories=categories,\n",
    "    RANDOM_STATE=RANDOM_STATE, return_index=True,\n",
    "    drop_nulls=True,\n",
    "    no_dummies=no_dummies\n",
    ")\n",
    "\n",
    "print(X_train[0])\n",
    "\n",
    "if 'forest' in ALGORITHM.lower() or ALGORITHM.lower()=='light gradient boosting':\n",
    "    y_train_orig = y_train\n",
    "    y_train = y_train.ravel()\n",
    "    print(y_train_orig, y_train)\n",
    "    \n",
    "print(X_train.shape, X_test.shape, y_train.shape, y_test.shape, X_train_index.shape, X_test_index.shape,\n",
    "      y_train_index.shape, y_test_index.shape)\n",
    "\n"
   ]
  },
  {
   "cell_type": "code",
   "execution_count": null,
   "metadata": {
    "execution": {
     "iopub.execute_input": "2022-11-16T13:53:45.808583Z",
     "iopub.status.busy": "2022-11-16T13:53:45.808343Z",
     "iopub.status.idle": "2022-11-16T13:53:45.812004Z",
     "shell.execute_reply": "2022-11-16T13:53:45.811013Z",
     "shell.execute_reply.started": "2022-11-16T13:53:45.808563Z"
    },
    "pycharm": {
     "is_executing": true
    }
   },
   "outputs": [],
   "source": [
    "#imputer = SimpleImputer(strategy='mean')\n",
    "#imputer.fit(X_train[6])\n",
    "#X_train[6] = imputer.transform(X_train[6])"
   ]
  },
  {
   "cell_type": "code",
   "execution_count": null,
   "metadata": {
    "execution": {
     "iopub.execute_input": "2022-11-16T13:53:45.813460Z",
     "iopub.status.busy": "2022-11-16T13:53:45.813229Z",
     "iopub.status.idle": "2022-11-16T13:53:45.818408Z",
     "shell.execute_reply": "2022-11-16T13:53:45.817424Z",
     "shell.execute_reply.started": "2022-11-16T13:53:45.813440Z"
    },
    "pycharm": {
     "is_executing": true
    }
   },
   "outputs": [],
   "source": [
    "starter_model = starter_pipe[-1]\n",
    "default_model_params = starter_model.get_params()\n",
    "\n",
    "print(\"default_model_params:\\n\", default_model_params)\n",
    "print(\"---------------------\")\n",
    "print(\"sklearn.metrics.get_scorer_names():\\n\",sklearn.metrics.get_scorer_names())"
   ]
  },
  {
   "cell_type": "code",
   "execution_count": null,
   "metadata": {
    "execution": {
     "iopub.execute_input": "2022-11-16T13:53:45.819618Z",
     "iopub.status.busy": "2022-11-16T13:53:45.819401Z",
     "iopub.status.idle": "2022-11-16T13:53:49.589786Z",
     "shell.execute_reply": "2022-11-16T13:53:49.588949Z",
     "shell.execute_reply.started": "2022-11-16T13:53:45.819599Z"
    },
    "pycharm": {
     "is_executing": true
    }
   },
   "outputs": [],
   "source": [
    "options_block = get_hyperparameters(ALGORITHM, use_gpu, prefix='../../../')\n",
    "\n",
    "if 'explore param' in DATA_DETAIL:\n",
    "    def automl_step(param_options, vary):\n",
    "        for key, value in param_options.items():\n",
    "            #print(key, value, vary)\n",
    "            if key != vary and key != 'model__' + vary:\n",
    "                param_options[key] = [param_options[key][0]]\n",
    "        return param_options\n",
    "\n",
    "    #options_block = automl_step(options_block, \"model__epochs\")\n",
    "    explore_param = \"alpha\"\n",
    "    options_block = automl_step(options_block, explore_param)\n",
    "\n",
    "\n",
    "if 'forest' in ALGORITHM.lower():\n",
    "    OVERRIDE_N_ITER = 5\n",
    "    if use_gpu:\n",
    "        OVERRIDE_JOBS = 8\n",
    "\n",
    "param_options, cv, n_jobs, refit, n_iter, verbose = get_cv_params(options_block, debug_mode=debug_mode,\n",
    "                                                                  override_cv=OVERRIDE_CV,\n",
    "                                                                  override_niter=OVERRIDE_N_ITER,\n",
    "                                                                  override_njobs=OVERRIDE_JOBS)\n",
    "\n",
    "if 'forest' in ALGORITHM.lower():\n",
    "    verbose = 2\n",
    "\n",
    "print(\"cv:\", cv, \"n_jobs:\", n_jobs, \"refit:\", refit, \"n_iter:\", n_iter, \"verbose:\", verbose)\n",
    "\n",
    "if not_catboost and len(param_options.keys()) > 2 and not already_timed:\n",
    "    already_timed = True\n",
    "    %timeit starter_pipe.fit(X_train, y_train)\n",
    "\n",
    "\n",
    "print('\\n\\nHyperparameters:')\n",
    "param_options if not_catboost else options_block"
   ]
  },
  {
   "cell_type": "code",
   "execution_count": null,
   "metadata": {
    "execution": {
     "iopub.execute_input": "2022-11-16T13:53:49.591033Z",
     "iopub.status.busy": "2022-11-16T13:53:49.590814Z",
     "iopub.status.idle": "2022-11-16T13:59:47.180261Z",
     "shell.execute_reply": "2022-11-16T13:59:47.179463Z",
     "shell.execute_reply.started": "2022-11-16T13:53:49.591014Z"
    },
    "pycharm": {
     "is_executing": true
    }
   },
   "outputs": [],
   "source": [
    "from catboost import CatBoostRegressor, Pool\n",
    "\n",
    "\n",
    "def fit_model_with_cross_validation(gs, X_train, y_train, fits):\n",
    "    pipe_start = time()\n",
    "    cv_result = gs.fit(X_train, y_train)\n",
    "    gs.fit(X_train, y_train)\n",
    "    pipe_end = time()\n",
    "    average_time = round((pipe_end - pipe_start) / (fits), 2)\n",
    "\n",
    "    print(f\"Total fit/CV time      : {int(pipe_end - pipe_start)} seconds   ({pipe_start} ==> {pipe_end})\")\n",
    "    print()\n",
    "    print(\n",
    "        f'average fit/score time = {round(cv_result.cv_results_[\"mean_fit_time\"].mean(), 2)}s/{round(cv_result.cv_results_[\"mean_score_time\"].mean(), 2)}s')\n",
    "    print(\n",
    "        f'max fit/score time     = {round(cv_result.cv_results_[\"mean_fit_time\"].max(), 2)}s/{round(cv_result.cv_results_[\"mean_score_time\"].max(), 2)}s')\n",
    "    print(f'refit time             = {round(cv_result.refit_time_, 2)}s')\n",
    "\n",
    "    #return cv_result, average_time, cv_result.refit_time_, len(cv_result.cv_results_[\"mean_fit_time\"])\n",
    "    return average_time, cv_result.refit_time_, len(cv_result.cv_results_[\"mean_fit_time\"])\n",
    "\n",
    "\n",
    "if not_catboost:\n",
    "    if ALGORITHM_DETAIL == 'grid search':\n",
    "        crossval_runner = GridSearchCV(\n",
    "            estimator=starter_pipe,\n",
    "            param_grid=param_options,\n",
    "            cv=cv, n_jobs=n_jobs, # get the AVX/AVX2 info if use n_jobs > 2\n",
    "            verbose=verbose, scoring=CROSS_VALIDATION_SCORING,\n",
    "            refit=refit,\n",
    "            return_train_score=True, #n_iter=n_iter,\n",
    "            #error_score='raise'\n",
    "        )\n",
    "    else:\n",
    "        crossval_runner = RandomizedSearchCV(\n",
    "            estimator=starter_pipe,\n",
    "            param_distributions=param_options,\n",
    "            cv=cv, n_jobs=n_jobs,  # get the AVX/AVX2 info if use n_jobs > 2\n",
    "            verbose=verbose, scoring=CROSS_VALIDATION_SCORING,\n",
    "            refit=refit,\n",
    "            return_train_score=True,  #n_iter=n_iter,\n",
    "            n_iter=n_iter,  # 1, #3\n",
    "            #error_score='raise'\n",
    "    )\n",
    "    cv_average_fit_time, cv_best_model_fit_time, total_fits = fit_model_with_cross_validation(\n",
    "        crossval_runner, X_train, y_train, fits=cv * n_iter)\n",
    "\n",
    "else:\n",
    "\n",
    "    #pool = Pool(df, cat_features=['tenure.tenureType'], label=df['Price'].values)\n",
    "    pool_Xtrain = Pool(X_train, cat_features=[7], label=y_train)\n",
    "    #pool_Xtest = Pool(X_train, cat_features=[7], label=y_train)\n",
    "    pool_Xtest = Pool(X_test, cat_features=[7], label=y_test)\n",
    "    import sys\n",
    "    starter_model = model=CatBoostRegressor(iterations=3, depth=3, learning_rate=0.1, loss_function='RMSE', objective='RMSE')\n",
    "\n",
    "    output = starter_model.randomized_search(options_block, # param_options,\n",
    "                                    X=pool_Xtrain, # X_train,\n",
    "                                    #y=y_train,\n",
    "                                    #cat_features=[],\n",
    "                                    cv=5,\n",
    "                                    n_iter=100,\n",
    "                                    partition_random_seed=101,\n",
    "                                    calc_cv_statistics=True,\n",
    "                                    #search_by_train_test_split=True,\n",
    "                                    refit=True,\n",
    "                                    shuffle=True,\n",
    "                                    stratified=None,\n",
    "                                    #train_size=0.8,\n",
    "                                    #train_size=1,\n",
    "                                    verbose=True,\n",
    "                                    plot=True,\n",
    "                                    log_cout=sys.stdout,\n",
    "                                    log_cerr=sys.stderr)\n",
    "\n",
    "    cat_params, cat_cv_results = output['params'], output['cv_results']\n",
    "    crossval_runner = {\"best_params_\": cat_params, \"cv_results_\": cat_cv_results, \"best_estimator_\": None}\n",
    "crossval_runner\n"
   ]
  },
  {
   "cell_type": "code",
   "execution_count": null,
   "metadata": {
    "execution": {
     "iopub.execute_input": "2022-11-16T13:59:47.181563Z",
     "iopub.status.busy": "2022-11-16T13:59:47.181323Z",
     "iopub.status.idle": "2022-11-16T13:59:47.185299Z",
     "shell.execute_reply": "2022-11-16T13:59:47.184626Z",
     "shell.execute_reply.started": "2022-11-16T13:59:47.181540Z"
    },
    "pycharm": {
     "is_executing": true
    }
   },
   "outputs": [],
   "source": [
    "if not_catboost:\n",
    "    best_estimator_pipe = crossval_runner.best_estimator_\n",
    "\n",
    "    if not_catboost and debug_mode:\n",
    "        crossval_runner.cv_results_"
   ]
  },
  {
   "cell_type": "code",
   "execution_count": null,
   "metadata": {
    "execution": {
     "iopub.execute_input": "2022-11-16T13:59:47.186218Z",
     "iopub.status.busy": "2022-11-16T13:59:47.186022Z",
     "iopub.status.idle": "2022-11-16T13:59:47.190491Z",
     "shell.execute_reply": "2022-11-16T13:59:47.189828Z",
     "shell.execute_reply.started": "2022-11-16T13:59:47.186200Z"
    },
    "pycharm": {
     "is_executing": true
    }
   },
   "outputs": [],
   "source": [
    "starter_model\n",
    "if True:\n",
    "    print(starter_model)\n",
    "if not not_catboost:\n",
    "    print(cat_params)\n",
    "    print(cat_cv_results)"
   ]
  },
  {
   "cell_type": "code",
   "execution_count": null,
   "metadata": {
    "execution": {
     "iopub.execute_input": "2022-11-16T13:59:47.191425Z",
     "iopub.status.busy": "2022-11-16T13:59:47.191213Z",
     "iopub.status.idle": "2022-11-16T13:59:47.194465Z",
     "shell.execute_reply": "2022-11-16T13:59:47.193803Z",
     "shell.execute_reply.started": "2022-11-16T13:59:47.191404Z"
    },
    "pycharm": {
     "is_executing": true
    }
   },
   "outputs": [],
   "source": [
    "if not_catboost:\n",
    "    crossval_runner.best_params_\n",
    "else:\n",
    "    crossval_runner[\"best_params_\"]"
   ]
  },
  {
   "cell_type": "code",
   "execution_count": null,
   "metadata": {
    "execution": {
     "iopub.execute_input": "2022-11-16T13:59:47.195527Z",
     "iopub.status.busy": "2022-11-16T13:59:47.195321Z",
     "iopub.status.idle": "2022-11-16T13:59:47.220555Z",
     "shell.execute_reply": "2022-11-16T13:59:47.218381Z",
     "shell.execute_reply.started": "2022-11-16T13:59:47.195509Z"
    },
    "pycharm": {
     "is_executing": true
    }
   },
   "outputs": [],
   "source": [
    "if not_catboost:\n",
    "    cv_results_df = pd.DataFrame(crossval_runner.cv_results_).sort_values('rank_test_score')\n",
    "cv_results_df if not_catboost else ''"
   ]
  },
  {
   "cell_type": "code",
   "execution_count": null,
   "metadata": {
    "execution": {
     "iopub.execute_input": "2022-11-16T13:59:47.221915Z",
     "iopub.status.busy": "2022-11-16T13:59:47.221447Z",
     "iopub.status.idle": "2022-11-16T13:59:47.227414Z",
     "shell.execute_reply": "2022-11-16T13:59:47.226868Z",
     "shell.execute_reply.started": "2022-11-16T13:59:47.221887Z"
    },
    "pycharm": {
     "is_executing": true
    }
   },
   "outputs": [],
   "source": [
    "if not_catboost and debug_mode:\n",
    "    xx = [c for c in cv_results_df.columns if 'param' in c]\n",
    "    xx.insert(0, 'rank_test_score')\n",
    "    xx.insert(0, 'mean_test_score')\n",
    "cv_results_df[xx].head(7) if not_catboost and debug_mode else ''"
   ]
  },
  {
   "cell_type": "code",
   "execution_count": null,
   "metadata": {
    "execution": {
     "iopub.execute_input": "2022-11-16T13:59:47.229078Z",
     "iopub.status.busy": "2022-11-16T13:59:47.228327Z",
     "iopub.status.idle": "2022-11-16T13:59:47.232994Z",
     "shell.execute_reply": "2022-11-16T13:59:47.232495Z",
     "shell.execute_reply.started": "2022-11-16T13:59:47.229055Z"
    },
    "pycharm": {
     "is_executing": true
    }
   },
   "outputs": [],
   "source": [
    "cv_results_df[xx].tail(7) if not_catboost and debug_mode else ''"
   ]
  },
  {
   "cell_type": "code",
   "execution_count": null,
   "metadata": {
    "execution": {
     "iopub.execute_input": "2022-11-16T13:59:47.234560Z",
     "iopub.status.busy": "2022-11-16T13:59:47.233863Z",
     "iopub.status.idle": "2022-11-16T13:59:47.251649Z",
     "shell.execute_reply": "2022-11-16T13:59:47.251101Z",
     "shell.execute_reply.started": "2022-11-16T13:59:47.234540Z"
    },
    "pycharm": {
     "is_executing": true
    }
   },
   "outputs": [],
   "source": [
    "if not_catboost:\n",
    "    cv_results_df['params2'] = cv_results_df['params'].apply(lambda l: '/'.join([str(c) for c in l.values()]))\n",
    "\n",
    "    cv_columns = ['params2', 'rank_test_score', 'mean_test_score', 'mean_fit_time', 'mean_score_time', 'params']\n",
    "    # if 'Neural' not in ALGORITHM:\n",
    "    #     cv_columns.insert(2, 'mean_train_score')\n",
    "    cv_results_df_full_sorted = cv_results_df.sort_values('rank_test_score')[cv_columns].reset_index(drop=True)\n",
    "\n",
    "cv_results_df_full_sorted if not_catboost else ''"
   ]
  },
  {
   "cell_type": "code",
   "execution_count": null,
   "metadata": {
    "execution": {
     "iopub.execute_input": "2022-11-16T13:59:47.253028Z",
     "iopub.status.busy": "2022-11-16T13:59:47.252374Z",
     "iopub.status.idle": "2022-11-16T13:59:47.278366Z",
     "shell.execute_reply": "2022-11-16T13:59:47.277883Z",
     "shell.execute_reply.started": "2022-11-16T13:59:47.253006Z"
    },
    "pycharm": {
     "is_executing": true
    }
   },
   "outputs": [],
   "source": [
    "if not_catboost:\n",
    "\n",
    "    cv_results_df_sorted = cv_results_df_full_sorted[cv_results_df_full_sorted['mean_test_score'] > -2]\n",
    "    if len(cv_results_df_sorted) != len(cv_results_df_full_sorted):\n",
    "        print(-len(cv_results_df_sorted) + len(cv_results_df_full_sorted), \"fits were total failures\")\n",
    "        total_fits = len(cv_results_df_sorted)\n",
    "cv_results_df_sorted if not_catboost else ''\n"
   ]
  },
  {
   "cell_type": "code",
   "execution_count": null,
   "metadata": {
    "execution": {
     "iopub.execute_input": "2022-11-16T13:59:47.279670Z",
     "iopub.status.busy": "2022-11-16T13:59:47.279065Z",
     "iopub.status.idle": "2022-11-16T13:59:47.282299Z",
     "shell.execute_reply": "2022-11-16T13:59:47.281778Z",
     "shell.execute_reply.started": "2022-11-16T13:59:47.279646Z"
    },
    "pycharm": {
     "is_executing": true
    }
   },
   "outputs": [],
   "source": [
    "#pd.set_option('display.max_columns', None)\n"
   ]
  },
  {
   "cell_type": "code",
   "execution_count": null,
   "metadata": {
    "execution": {
     "iopub.execute_input": "2022-11-16T13:59:47.283574Z",
     "iopub.status.busy": "2022-11-16T13:59:47.282958Z",
     "iopub.status.idle": "2022-11-16T13:59:47.300218Z",
     "shell.execute_reply": "2022-11-16T13:59:47.299493Z",
     "shell.execute_reply.started": "2022-11-16T13:59:47.283551Z"
    },
    "pycharm": {
     "is_executing": true
    }
   },
   "outputs": [],
   "source": [
    "if not_catboost:\n",
    "    orig_debug_mode, orig_display_df_cols = debug_mode, pd.get_option('display.max_columns')\n",
    "    debug_mode = True\n",
    "    pd.set_option('display.max_columns', None)\n",
    "    if debug_mode:\n",
    "        debug_cols = ['rank_test_score', 'mean_test_score', 'mean_fit_time', 'mean_score_time']\n",
    "        debug_cols.extend([c for c in cv_results_df.columns if 'param' in c])\n",
    "\n",
    "cv_results_df[debug_cols].head(7) if debug_mode else ''"
   ]
  },
  {
   "cell_type": "code",
   "execution_count": null,
   "metadata": {
    "execution": {
     "iopub.execute_input": "2022-11-16T13:59:47.304440Z",
     "iopub.status.busy": "2022-11-16T13:59:47.303671Z",
     "iopub.status.idle": "2022-11-16T13:59:47.307553Z",
     "shell.execute_reply": "2022-11-16T13:59:47.306930Z",
     "shell.execute_reply.started": "2022-11-16T13:59:47.304414Z"
    },
    "pycharm": {
     "is_executing": true
    }
   },
   "outputs": [],
   "source": [
    "if not_catboost:\n",
    "    debug_mode = orig_debug_mode\n",
    "    pd.set_option('display.max_columns', orig_display_df_cols)"
   ]
  },
  {
   "cell_type": "code",
   "execution_count": null,
   "metadata": {
    "execution": {
     "iopub.execute_input": "2022-11-16T13:59:47.309224Z",
     "iopub.status.busy": "2022-11-16T13:59:47.308334Z",
     "iopub.status.idle": "2022-11-16T13:59:47.315677Z",
     "shell.execute_reply": "2022-11-16T13:59:47.315141Z",
     "shell.execute_reply.started": "2022-11-16T13:59:47.309201Z"
    },
    "pycharm": {
     "is_executing": true
    }
   },
   "outputs": [],
   "source": [
    "if not_catboost:\n",
    "    def print_results(cross_validation_result):\n",
    "        means = cross_validation_result.cv_results_['mean_test_score']\n",
    "        stds = cross_validation_result.cv_results_['std_test_score']\n",
    "        params = cross_validation_result.cv_results_['params']\n",
    "        times = cross_validation_result.cv_results_['std_test_score']\n",
    "\n",
    "        print(\"params:\" + \"/\".join([c.replace(\"model__\", \"\") for c in params[0].keys()]))\n",
    "        print()\n",
    "        for mean, std, param, time in zip(means, stds, params, times):\n",
    "            #param2 = \"/\".join(list(param.values()))\n",
    "            param2 = \"/\".join(list([str(c) for c in param.values()]))\n",
    "            print(f'{round(mean, 3)} (+/-{round(std * 2, 3)}) in {round(time, 4)}s for {param2}')\n",
    "\n",
    "\n",
    "print_results(crossval_runner) if debug_mode else ''"
   ]
  },
  {
   "cell_type": "code",
   "execution_count": null,
   "metadata": {
    "execution": {
     "iopub.execute_input": "2022-11-16T13:59:47.317413Z",
     "iopub.status.busy": "2022-11-16T13:59:47.316534Z",
     "iopub.status.idle": "2022-11-16T13:59:47.321419Z",
     "shell.execute_reply": "2022-11-16T13:59:47.320870Z",
     "shell.execute_reply.started": "2022-11-16T13:59:47.317388Z"
    },
    "pycharm": {
     "is_executing": true
    }
   },
   "outputs": [],
   "source": [
    "if not_catboost:\n",
    "    print('Best Index: ', crossval_runner.best_index_)\n",
    "    print('Best Score: ', crossval_runner.best_score_)\n",
    "    print('Best Params: ', crossval_runner.best_params_)"
   ]
  },
  {
   "cell_type": "code",
   "execution_count": null,
   "metadata": {
    "execution": {
     "iopub.execute_input": "2022-11-16T13:59:47.323113Z",
     "iopub.status.busy": "2022-11-16T13:59:47.322229Z",
     "iopub.status.idle": "2022-11-16T13:59:47.327516Z",
     "shell.execute_reply": "2022-11-16T13:59:47.327008Z",
     "shell.execute_reply.started": "2022-11-16T13:59:47.323086Z"
    },
    "pycharm": {
     "is_executing": true
    }
   },
   "outputs": [],
   "source": [
    "#pool_Xtest.shape\n",
    "#pool_Xtrain.shape\n",
    "X_train[0]\n",
    "X_test[0]"
   ]
  },
  {
   "cell_type": "code",
   "execution_count": null,
   "metadata": {
    "execution": {
     "iopub.execute_input": "2022-11-16T13:59:47.328680Z",
     "iopub.status.busy": "2022-11-16T13:59:47.328195Z",
     "iopub.status.idle": "2022-11-16T13:59:47.380861Z",
     "shell.execute_reply": "2022-11-16T13:59:47.380015Z",
     "shell.execute_reply.started": "2022-11-16T13:59:47.328658Z"
    },
    "pycharm": {
     "is_executing": true
    }
   },
   "outputs": [],
   "source": [
    "if not_catboost:\n",
    "    y_pred = best_estimator_pipe.predict(X_test)\n",
    "else:\n",
    "    y_pred = starter_model.predict(pool_Xtest)"
   ]
  },
  {
   "cell_type": "code",
   "execution_count": null,
   "metadata": {
    "execution": {
     "iopub.execute_input": "2022-11-16T13:59:47.382580Z",
     "iopub.status.busy": "2022-11-16T13:59:47.382020Z",
     "iopub.status.idle": "2022-11-16T13:59:47.440737Z",
     "shell.execute_reply": "2022-11-16T13:59:47.439769Z",
     "shell.execute_reply.started": "2022-11-16T13:59:47.382556Z"
    },
    "pycharm": {
     "is_executing": true
    }
   },
   "outputs": [],
   "source": [
    "r_2_score = r2_score(y_test, y_pred)\n",
    "if not_catboost:\n",
    "    score = r_2_score\n",
    "    default_score = best_estimator_pipe.score(X_test, y_test)\n",
    "else:\n",
    "    score = r_2_score\n",
    "    default_score = starter_model.score(X_test, y_test)\n",
    "score"
   ]
  },
  {
   "cell_type": "code",
   "execution_count": null,
   "metadata": {
    "execution": {
     "iopub.execute_input": "2022-11-16T13:59:47.442381Z",
     "iopub.status.busy": "2022-11-16T13:59:47.442151Z",
     "iopub.status.idle": "2022-11-16T13:59:47.448203Z",
     "shell.execute_reply": "2022-11-16T13:59:47.447282Z",
     "shell.execute_reply.started": "2022-11-16T13:59:47.442362Z"
    },
    "pycharm": {
     "is_executing": true
    }
   },
   "outputs": [],
   "source": [
    "y_pred = y_pred.reshape((-1, 1))\n",
    "\n",
    "R2 = r_2_score\n",
    "MAE = mean_absolute_error(y_test, y_pred)\n",
    "MSE = mean_squared_error(y_test, y_pred)\n",
    "RMSE = math.sqrt(MSE)\n",
    "print('-' * 10 + ALGORITHM + '-' * 10)\n",
    "print('R square Accuracy', R2)\n",
    "print('Mean Absolute Error Accuracy', MAE)\n",
    "print('Mean Squared Error Accuracy', MSE)\n",
    "print('Root Mean Squared Error', RMSE)"
   ]
  },
  {
   "cell_type": "code",
   "execution_count": null,
   "metadata": {
    "execution": {
     "iopub.execute_input": "2022-11-16T13:59:47.450080Z",
     "iopub.status.busy": "2022-11-16T13:59:47.449147Z",
     "iopub.status.idle": "2022-11-16T13:59:47.453856Z",
     "shell.execute_reply": "2022-11-16T13:59:47.453198Z",
     "shell.execute_reply.started": "2022-11-16T13:59:47.450060Z"
    },
    "pycharm": {
     "is_executing": true
    }
   },
   "outputs": [],
   "source": [
    "if debug_mode:\n",
    "    print(y_test_index.reshape((-1, 1)).shape);\n",
    "    print(y_pred.reshape((-1, 1)).shape);\n",
    "    print(y_test.shape);\n",
    "    print(y_test_index.shape);\n",
    "    print(y_pred.shape);\n",
    "    print(y_test.shape)"
   ]
  },
  {
   "cell_type": "code",
   "execution_count": null,
   "metadata": {
    "execution": {
     "iopub.execute_input": "2022-11-16T13:59:47.455055Z",
     "iopub.status.busy": "2022-11-16T13:59:47.454855Z",
     "iopub.status.idle": "2022-11-16T13:59:47.472196Z",
     "shell.execute_reply": "2022-11-16T13:59:47.471460Z",
     "shell.execute_reply.started": "2022-11-16T13:59:47.455037Z"
    },
    "pycharm": {
     "is_executing": true
    }
   },
   "outputs": [],
   "source": [
    "compare = np.hstack((y_test_index, y_test, y_pred))\n",
    "compare_df = DataFrame(compare, columns=['reference', 'actual', 'predicted'])\n",
    "compare_df['difference'] = abs(compare_df['actual'] - compare_df['predicted'])\n",
    "compare_df['diff 1 %'] = abs((compare_df['actual'] - compare_df['predicted']) / compare_df['actual'] * 100)\n",
    "compare_df['diff 2 %'] = abs((compare_df['actual'] - compare_df['predicted']) / compare_df['predicted']) * 100\n",
    "compare_df['reference'] = compare_df['reference'].astype(int)\n",
    "compare_df.set_index('reference', inplace=True)\n",
    "compare_df"
   ]
  },
  {
   "cell_type": "code",
   "execution_count": null,
   "metadata": {
    "execution": {
     "iopub.execute_input": "2022-11-16T13:59:47.473173Z",
     "iopub.status.busy": "2022-11-16T13:59:47.472972Z",
     "iopub.status.idle": "2022-11-16T13:59:47.499899Z",
     "shell.execute_reply": "2022-11-16T13:59:47.499050Z",
     "shell.execute_reply.started": "2022-11-16T13:59:47.473156Z"
    },
    "pycharm": {
     "is_executing": true
    }
   },
   "outputs": [],
   "source": [
    "combined = compare_df.merge(df[columns], how='inner', left_index=True, right_index=True).sort_values(['diff 1 %'],\n",
    "                                                                                                     ascending=False)\n",
    "#pd.options.display.float_format = '{:.4f}'.format\n",
    "combined[['predicted', 'actual', 'Price', 'bedrooms', 'bathrooms']] = combined[\n",
    "    ['predicted', 'actual', 'Price', 'bedrooms', 'bathrooms']].astype(int)\n",
    "combined['bedrooms'] = combined['bedrooms'].astype(int)\n",
    "combined"
   ]
  },
  {
   "cell_type": "code",
   "execution_count": null,
   "metadata": {
    "execution": {
     "iopub.execute_input": "2022-11-16T13:59:47.501494Z",
     "iopub.status.busy": "2022-11-16T13:59:47.500942Z",
     "iopub.status.idle": "2022-11-16T13:59:47.635559Z",
     "shell.execute_reply": "2022-11-16T13:59:47.634656Z",
     "shell.execute_reply.started": "2022-11-16T13:59:47.501473Z"
    },
    "pycharm": {
     "is_executing": true
    }
   },
   "outputs": [],
   "source": [
    "fig, ax = plt.subplots()\n",
    "ax.scatter(y_test, y_pred, edgecolors=(0, 0, 1))\n",
    "ax.plot([y_test.min(), y_test.max()], [y_test.min(), y_test.max()], 'r--', lw=3)\n",
    "ax.set_ylabel('Predicted')\n",
    "ax.set_xlabel('Actual')\n",
    "#ax.title.set_text(f'CV Chosen best option ({calculated_best_pipe[1]})')\n",
    "plt.show()"
   ]
  },
  {
   "cell_type": "code",
   "execution_count": null,
   "metadata": {
    "execution": {
     "iopub.execute_input": "2022-11-16T13:59:47.637419Z",
     "iopub.status.busy": "2022-11-16T13:59:47.636639Z",
     "iopub.status.idle": "2022-11-16T13:59:50.927930Z",
     "shell.execute_reply": "2022-11-16T13:59:50.927235Z",
     "shell.execute_reply.started": "2022-11-16T13:59:47.637397Z"
    },
    "pycharm": {
     "is_executing": true
    }
   },
   "outputs": [],
   "source": [
    "if not_catboost:\n",
    "    def custom_model_and_predictions(model, graph_params, X_train, y_train, X_test):\n",
    "        graph_model = model\n",
    "        graph_model.set_params(**graph_params)\n",
    "        graph_model.fit(X_train, y_train)\n",
    "        y_pred_graph = model.predict(X_test)\n",
    "\n",
    "        return model, y_pred_graph\n",
    "\n",
    "\n",
    "    best_model_count = 10 if not quick_mode else 2\n",
    "    best_model_count = 3 if not quick_mode else 1\n",
    "    best_models = {}\n",
    "    best_model_predictions = {}\n",
    "    best_model_scores = {}\n",
    "\n",
    "    showable_increment = total_fits // (4 if not quick_mode else 2)\n",
    "    for i in range(0, total_fits, showable_increment):\n",
    "        if debug_mode or True: print(f'{i} ==> {i}')\n",
    "\n",
    "        if i == 0:\n",
    "            fitted_graph_model = crossval_runner.best_estimator_\n",
    "            y_pred_graph = y_pred\n",
    "        else:\n",
    "            graph_pipe_params = cv_results_df_sorted['params'][i]\n",
    "            print(graph_pipe_params)\n",
    "            # would always return the best! graph_pipe_params = cv_results_df_sorted.loc[cv_results_df_sorted['rank_test_score'] == 1, 'params'].values[0]\n",
    "\n",
    "            graph_params = {}\n",
    "            for key, value in graph_pipe_params.items():\n",
    "                graph_params[key.replace('model__', '')] = value\n",
    "\n",
    "            fitted_graph_model, y_pred_graph = custom_model_and_predictions(make_pipeline(), graph_pipe_params, X_train,\n",
    "                                                                            y_train, X_test)\n",
    "\n",
    "        best_models[i] = fitted_graph_model[-1].get_params()\n",
    "        best_model_predictions[i] = y_pred_graph\n",
    "        best_model_scores[i] = fitted_graph_model.score(X_test, y_test)\n",
    "\n",
    "    if debug_mode or True: print(f'{-1} ==> {-1}')\n",
    "    graph_pipe_params = cv_results_df_sorted['params'][total_fits - 1]\n",
    "    print(graph_pipe_params)\n",
    "    graph_params = {}\n",
    "    for key, value in graph_pipe_params.items():\n",
    "        graph_params[key.replace('model__', '')] = value\n",
    "    fitted_graph_model, y_pred_graph = custom_model_and_predictions(make_pipeline(), graph_pipe_params, X_train,\n",
    "                                                                    y_train, X_test)\n",
    "    best_models[-1] = fitted_graph_model[-1].get_params()\n",
    "    best_model_predictions[-1] = y_pred_graph\n",
    "    best_model_scores[-1] = fitted_graph_model.score(X_test, y_test)\n"
   ]
  },
  {
   "cell_type": "code",
   "execution_count": null,
   "metadata": {
    "execution": {
     "iopub.execute_input": "2022-11-16T13:59:50.929176Z",
     "iopub.status.busy": "2022-11-16T13:59:50.928941Z",
     "iopub.status.idle": "2022-11-16T13:59:50.953941Z",
     "shell.execute_reply": "2022-11-16T13:59:50.953292Z",
     "shell.execute_reply.started": "2022-11-16T13:59:50.929155Z"
    },
    "pycharm": {
     "is_executing": true
    }
   },
   "outputs": [],
   "source": [
    "cv_results_df_sorted if not_catboost else ''"
   ]
  },
  {
   "cell_type": "code",
   "execution_count": null,
   "metadata": {
    "execution": {
     "iopub.execute_input": "2022-11-16T13:59:50.955365Z",
     "iopub.status.busy": "2022-11-16T13:59:50.955113Z",
     "iopub.status.idle": "2022-11-16T13:59:50.960058Z",
     "shell.execute_reply": "2022-11-16T13:59:50.959362Z",
     "shell.execute_reply.started": "2022-11-16T13:59:50.955343Z"
    },
    "pycharm": {
     "is_executing": true
    }
   },
   "outputs": [],
   "source": [
    "cv_results_df_sorted['params']  if not_catboost and debug_mode else ''"
   ]
  },
  {
   "cell_type": "code",
   "execution_count": null,
   "metadata": {
    "execution": {
     "iopub.execute_input": "2022-11-16T13:59:50.961046Z",
     "iopub.status.busy": "2022-11-16T13:59:50.960847Z",
     "iopub.status.idle": "2022-11-16T13:59:50.966053Z",
     "shell.execute_reply": "2022-11-16T13:59:50.965218Z",
     "shell.execute_reply.started": "2022-11-16T13:59:50.961027Z"
    },
    "pycharm": {
     "is_executing": true
    }
   },
   "outputs": [],
   "source": [
    "cv_results_df_sorted['params'][0] if not_catboost else ''"
   ]
  },
  {
   "cell_type": "code",
   "execution_count": null,
   "metadata": {
    "execution": {
     "iopub.execute_input": "2022-11-16T13:59:50.967664Z",
     "iopub.status.busy": "2022-11-16T13:59:50.966945Z",
     "iopub.status.idle": "2022-11-16T13:59:50.974725Z",
     "shell.execute_reply": "2022-11-16T13:59:50.973935Z",
     "shell.execute_reply.started": "2022-11-16T13:59:50.967640Z"
    },
    "pycharm": {
     "is_executing": true
    }
   },
   "outputs": [],
   "source": [
    "best_models if not_catboost else ''"
   ]
  },
  {
   "cell_type": "code",
   "execution_count": null,
   "metadata": {
    "execution": {
     "iopub.execute_input": "2022-11-16T13:59:50.976386Z",
     "iopub.status.busy": "2022-11-16T13:59:50.975697Z",
     "iopub.status.idle": "2022-11-16T13:59:52.092828Z",
     "shell.execute_reply": "2022-11-16T13:59:52.092064Z",
     "shell.execute_reply.started": "2022-11-16T13:59:50.976363Z"
    },
    "pycharm": {
     "is_executing": true
    }
   },
   "outputs": [],
   "source": [
    "if not_catboost:\n",
    "    for i in best_model_scores.keys():\n",
    "        if i >= 0:\n",
    "            plt.plot([y_test.min(), y_test.max()], [y_test.min(), y_test.max()], 'r--', lw=3)\n",
    "            plt.scatter(y_test, best_model_predictions[i])\n",
    "            # plt.title(str(i) + \" \" + str(round(best_model_scores[i], 4)) + \" for \" + str(best_models[i]))\n",
    "            if len(best_models[i].keys()) < 30:\n",
    "                plt.title(str(i) + \" \" + str(round(best_model_scores[i], 4)) + \" for \" + str(best_models[i]))\n",
    "            else:\n",
    "                plt.title(str(i) + \" \" + str(round(best_model_scores[i], 4)) + \" for entry \" + str(i))\n",
    "            plt.show()\n",
    "\n",
    "    plt.plot([y_test.min(), y_test.max()], [y_test.min(), y_test.max()], 'r--', lw=3)\n",
    "    plt.scatter(y_test, best_model_predictions[-1])\n",
    "    # plt.title(str(i) + \" \" + str(round(best_model_scores[i], 4)) + \" for \" + str(best_models[i]))\n",
    "    if len(best_models[i].keys()) < 30:\n",
    "        plt.title(str(i) + \" \" + str(round(best_model_scores[-1], 4)) + \" for \" + str(best_models[-1]))\n",
    "    else:\n",
    "        plt.title(str(i) + \" \" + str(round(best_model_scores[-1], 4)) + \" for (worst) entry \" + str(i))\n",
    "\n",
    "    plt.show()"
   ]
  },
  {
   "cell_type": "code",
   "execution_count": null,
   "metadata": {
    "execution": {
     "iopub.execute_input": "2022-11-16T13:59:52.094913Z",
     "iopub.status.busy": "2022-11-16T13:59:52.094003Z",
     "iopub.status.idle": "2022-11-16T13:59:52.600226Z",
     "shell.execute_reply": "2022-11-16T13:59:52.599392Z",
     "shell.execute_reply.started": "2022-11-16T13:59:52.094884Z"
    },
    "pycharm": {
     "is_executing": true
    }
   },
   "outputs": [],
   "source": [
    "if not_catboost:\n",
    "    sns.set_theme(font_scale=2, rc=None)\n",
    "    sns.set_theme(font_scale=1, rc=None)\n",
    "\n",
    "    fig, axes = plt.subplots(ncols=3, figsize=(15, 5))\n",
    "\n",
    "    plt.subplots_adjust(hspace=0.2)\n",
    "    plt.subplots_adjust(wspace=0.2)\n",
    "\n",
    "    #.flatten()\n",
    "    coordinates = axes[0]\n",
    "    sns.lineplot(x=[y_test.min(), y_test.max()], y=[y_test.min(), y_test.max()], ax=axes[0], color='red')\n",
    "    sns.scatterplot(x=y_test.flatten(), y=best_model_predictions[0].flatten(), ax=axes[0],\n",
    "                    s=100).set(title=f'\"BEST\" model')\n",
    "\n",
    "    sns.lineplot(x=[y_test.min(), y_test.max()], y=[y_test.min(), y_test.max()], ax=axes[1], color='red')\n",
    "    sns.scatterplot(x=y_test.flatten(), y=best_model_predictions[-1].flatten(), ax=axes[1],\n",
    "                    s=100).set(title=f'\"WORST\" model')\n",
    "\n",
    "    sns.lineplot(x=[y_test.min(), y_test.max()], y=[y_test.min(), y_test.max()], ax=axes[2], color='red')\n",
    "    sns.scatterplot(x=y_test.flatten(), y=best_model_predictions[-1].flatten(), ax=axes[2],\n",
    "                    s=120, color='orange')\n",
    "    sns.scatterplot(x=y_test.flatten(), y=best_model_predictions[0].flatten(), ax=axes[2],\n",
    "                    s=30, alpha=0.6, color='black').set(\n",
    "        title='best (black) vs worst (orange)')\n",
    "    #title='best (orange) vs worst (black)')\n",
    "\n",
    "    fig.tight_layout()\n",
    "    plt.show()"
   ]
  },
  {
   "cell_type": "code",
   "execution_count": null,
   "metadata": {
    "execution": {
     "iopub.execute_input": "2022-11-16T13:59:52.601421Z",
     "iopub.status.busy": "2022-11-16T13:59:52.601193Z",
     "iopub.status.idle": "2022-11-16T13:59:52.607786Z",
     "shell.execute_reply": "2022-11-16T13:59:52.606855Z",
     "shell.execute_reply.started": "2022-11-16T13:59:52.601400Z"
    },
    "pycharm": {
     "is_executing": true
    }
   },
   "outputs": [],
   "source": [
    "if not_catboost:\n",
    "    cv_best_model_fit_time = cv_results_df_sorted.iloc[0][\"mean_fit_time\"]\n",
    "cv_best_model_fit_time if not_catboost else ''"
   ]
  },
  {
   "cell_type": "code",
   "execution_count": null,
   "metadata": {
    "execution": {
     "iopub.execute_input": "2022-11-16T13:59:52.608845Z",
     "iopub.status.busy": "2022-11-16T13:59:52.608602Z",
     "iopub.status.idle": "2022-11-16T13:59:52.871012Z",
     "shell.execute_reply": "2022-11-16T13:59:52.870054Z",
     "shell.execute_reply.started": "2022-11-16T13:59:52.608825Z"
    },
    "pycharm": {
     "is_executing": true
    }
   },
   "outputs": [],
   "source": [
    "# <catboost.core.CatBoostRegressor object at 0x7fb167387490>\n",
    "# {'depth': 6}\n",
    "# defaultdict(<class 'list'>, {'iterations': [0, 1, 2],\n",
    "# 'test-RMSE-mean': [396884.9605444017, 359548.6632536235, 326027.84885587444],\n",
    "# 'test-RMSE-std': [308.9495320039113, 260.0967808594464, 219.65856329246023],\n",
    "# 'train-RMSE-mean': [396884.77936957515, 359542.3612912551, 326018.9404460669],\n",
    "# 'train-RMSE-std': [91.44140078375503, 86.77961380623475, 69.4038638987425]})\n",
    "\n",
    "cv_best_model_fit_time = cv_results_df_sorted.iloc[0][\"mean_fit_time\"] if not_catboost else 999\n",
    "\n",
    "DD2 = \"(\" + \",\".join(DATA_DETAIL) + \")\" if len(DATA_DETAIL) >= 1 else \"\"\n",
    "key = f'{ALGORITHM} (v{VERSION})'.lower()\n",
    "\n",
    "method =  f\"{ALGORITHM_DETAIL}{DD2}\"\n",
    "\n",
    "new_results = {\n",
    "    '_score': score,\n",
    "    'R square Accuracy': R2,\n",
    "    'Mean Absolute Error Accuracy': MAE,\n",
    "    'Mean Squared Error Accuracy': MSE,\n",
    "    'Root Mean Squared Error': RMSE,\n",
    "    '_train time': cv_best_model_fit_time,\n",
    "    'random_state': RANDOM_STATE,\n",
    "    'date': str(datetime.now()),\n",
    "    '_params': crossval_runner.best_params_ if not_catboost else cat_params,\n",
    "    '_method':method,\n",
    "    'run_env': run_env\n",
    "}\n",
    "\n",
    "if run_env not in ['colab']:\n",
    "    old_results_json = get_results()\n",
    "    try:\n",
    "        old_best_score = old_results_json[key]['best score']\n",
    "    except:\n",
    "        print(f\"haven't scored this model yet: {ALGORITHM}\")\n",
    "        old_best_score = -999\n",
    "    this_model_is_best = update_results(old_results_json, new_results, key)\n",
    "\n",
    "print(key)"
   ]
  },
  {
   "cell_type": "code",
   "execution_count": null,
   "metadata": {
    "execution": {
     "iopub.execute_input": "2022-11-16T13:59:52.872732Z",
     "iopub.status.busy": "2022-11-16T13:59:52.872116Z",
     "iopub.status.idle": "2022-11-16T13:59:52.883681Z",
     "shell.execute_reply": "2022-11-16T13:59:52.882641Z",
     "shell.execute_reply.started": "2022-11-16T13:59:52.872708Z"
    },
    "pycharm": {
     "is_executing": true
    }
   },
   "outputs": [],
   "source": [
    "crossval_runner.best_estimator_  if not_catboost else ''"
   ]
  },
  {
   "cell_type": "code",
   "execution_count": null,
   "metadata": {
    "execution": {
     "iopub.execute_input": "2022-11-16T13:59:52.885380Z",
     "iopub.status.busy": "2022-11-16T13:59:52.885036Z",
     "iopub.status.idle": "2022-11-16T13:59:53.216677Z",
     "shell.execute_reply": "2022-11-16T13:59:53.215594Z",
     "shell.execute_reply.started": "2022-11-16T13:59:52.885349Z"
    },
    "pycharm": {
     "is_executing": true
    }
   },
   "outputs": [],
   "source": [
    "if this_model_is_best:\n",
    "    with open(f'../../../models/optimised_model_{ALGORITHM}_v{VERSION}{DD2}.pkl', 'wb') as f:\n",
    "        if not_catboost:\n",
    "            pickle.dump(crossval_runner.best_estimator_, f)\n",
    "        else:\n",
    "            pickle.dump(starter_model, f)\n",
    "        print('pickled new version of model')\n",
    "        print(f\"{old_results_json[key]['_score']} is new best score (it's better than {old_best_score})\")\n",
    "        #print(results_json[key]['_score'], 'is an improvement on', results_json[key]['second best score'])\n",
    "else:\n",
    "    print(\"not updated saved model, the previous run was better\")\n",
    "    print(old_results_json[key]['_score'], 'is worse than or equal to', old_best_score)\n"
   ]
  },
  {
   "cell_type": "code",
   "execution_count": null,
   "metadata": {
    "execution": {
     "iopub.execute_input": "2022-11-16T13:59:53.218033Z",
     "iopub.status.busy": "2022-11-16T13:59:53.217794Z",
     "iopub.status.idle": "2022-11-16T13:59:53.224486Z",
     "shell.execute_reply": "2022-11-16T13:59:53.223702Z",
     "shell.execute_reply.started": "2022-11-16T13:59:53.218013Z"
    },
    "pycharm": {
     "is_executing": true
    }
   },
   "outputs": [],
   "source": [
    "if 'tree' in ALGORITHM.lower() or 'forest' in ALGORITHM.lower() or 'boost' in ALGORITHM.lower():\n",
    "    feature_importances = crossval_runner.best_estimator_[-1].feature_importances_ if not_catboost else starter_model.get_feature_importance()\n",
    "    #std = np.std([tree.feature_importances_ for tree in model.estimators_], axis = 0)\n",
    "\n",
    "    indices = np.argsort(feature_importances)[::-1]\n",
    "\n",
    "    print('Feature Ranking:')\n",
    "\n",
    "    for f in range(X_train.shape[1]):\n",
    "        print('%d. features %d (%f)' % (f + 1, indices[f], feature_importances[indices[f]]),\n",
    "              df_features.columns[indices[f] + 1])\n",
    "else:\n",
    "    print(f'{ALGORITHM} does not have feature_importances, skipping')"
   ]
  },
  {
   "cell_type": "code",
   "execution_count": null,
   "metadata": {
    "execution": {
     "iopub.execute_input": "2022-11-16T13:59:53.225586Z",
     "iopub.status.busy": "2022-11-16T13:59:53.225381Z",
     "iopub.status.idle": "2022-11-16T13:59:53.374100Z",
     "shell.execute_reply": "2022-11-16T13:59:53.373223Z",
     "shell.execute_reply.started": "2022-11-16T13:59:53.225567Z"
    },
    "pycharm": {
     "is_executing": true
    }
   },
   "outputs": [],
   "source": [
    "if 'tree' in ALGORITHM.lower() or 'forest' in ALGORITHM.lower() or 'boost' in ALGORITHM.lower():\n",
    "    indices = np.argsort(feature_importances)\n",
    "\n",
    "    fig, ax = plt.subplots()\n",
    "    ax.barh(range(len(feature_importances)), feature_importances[indices])\n",
    "    ax.set_yticks(range(len(feature_importances)))\n",
    "    _ = ax.set_yticklabels(df_features.columns[[c + 1 for c in indices]])\n",
    "else:\n",
    "    print(f'{ALGORITHM} does not have feature_importances, skipping')"
   ]
  },
  {
   "cell_type": "code",
   "execution_count": null,
   "metadata": {
    "collapsed": false,
    "jupyter": {
     "outputs_hidden": false
    },
    "pycharm": {
     "is_executing": true
    }
   },
   "outputs": [],
   "source": []
  }
 ],
 "metadata": {
  "kernelspec": {
   "display_name": "Python 3 (ipykernel)",
   "language": "python",
   "name": "python3"
  },
  "language_info": {
   "codemirror_mode": {
    "name": "ipython",
    "version": 3
   },
   "file_extension": ".py",
   "mimetype": "text/x-python",
   "name": "python",
   "nbconvert_exporter": "python",
   "pygments_lexer": "ipython3",
   "version": "3.9.13"
  }
 },
 "nbformat": 4,
 "nbformat_minor": 4
}
