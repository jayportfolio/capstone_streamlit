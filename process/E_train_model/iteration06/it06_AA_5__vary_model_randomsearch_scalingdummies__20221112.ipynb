{
 "cells": [
  {
   "cell_type": "code",
   "execution_count": 111,
   "metadata": {
    "execution": {
     "iopub.execute_input": "2022-11-16T13:53:27.249807Z",
     "iopub.status.busy": "2022-11-16T13:53:27.249148Z",
     "iopub.status.idle": "2022-11-16T13:53:27.255429Z",
     "shell.execute_reply": "2022-11-16T13:53:27.254275Z",
     "shell.execute_reply.started": "2022-11-16T13:53:27.249780Z"
    }
   },
   "outputs": [
    {
     "name": "stdout",
     "output_type": "stream",
     "text": [
      "ALGORITHM: CatBoost\n",
      "ALGORITHM_DETAIL: random search\n",
      "DATA_DETAIL: ['no dummies']\n",
      "DATA VERSION: 06\n"
     ]
    }
   ],
   "source": [
    "#ALGORITHM = 'Linear Regression (Ridge)'\n",
    "#ALGORITHM = 'KNN'\n",
    "#ALGORITHM = 'Decision Tree'\n",
    "#ALGORITHM = 'Random Forest'\n",
    "#ALGORITHM = 'XG Boost'\n",
    "ALGORITHM = 'CatBoost'\n",
    "#ALGORITHM = 'Light Gradient Boosting'\n",
    "\n",
    "ALGORITHM_DETAIL = 'random search'\n",
    "#DATA_DETAIL = []\n",
    "#DATA_DETAIL = ['explore param']\n",
    "#DATA_DETAIL = ['no scale','no dummies']\n",
    "DATA_DETAIL = ['no dummies'] if ALGORITHM.lower() == 'catboost' else ''\n",
    "VERSION = '06'\n",
    "#VERSION = '09'\n",
    "\n",
    "RANDOM_STATE = 101\n",
    "TRAINING_SIZE = 0.9\n",
    "\n",
    "CROSS_VALIDATION_SCORING = 'r2'\n",
    "\n",
    "print(f'ALGORITHM: {ALGORITHM}')\n",
    "print(f'ALGORITHM_DETAIL: {ALGORITHM_DETAIL}')\n",
    "print(f'DATA_DETAIL: {DATA_DETAIL}')\n",
    "print(f'DATA VERSION: {VERSION}')\n"
   ]
  },
  {
   "cell_type": "code",
   "execution_count": 112,
   "metadata": {
    "execution": {
     "iopub.execute_input": "2022-11-16T13:53:27.262780Z",
     "iopub.status.busy": "2022-11-16T13:53:27.262116Z",
     "iopub.status.idle": "2022-11-16T13:53:43.374795Z",
     "shell.execute_reply": "2022-11-16T13:53:43.374038Z",
     "shell.execute_reply.started": "2022-11-16T13:53:27.262757Z"
    }
   },
   "outputs": [
    {
     "name": "stdout",
     "output_type": "stream",
     "text": [
      "Requirement already satisfied: catboost in /usr/local/lib/python3.9/dist-packages (1.1.1)\r\n",
      "Requirement already satisfied: six in /usr/lib/python3/dist-packages (from catboost) (1.14.0)\r\n",
      "Requirement already satisfied: plotly in /usr/local/lib/python3.9/dist-packages (from catboost) (5.11.0)\r\n",
      "Requirement already satisfied: scipy in /usr/local/lib/python3.9/dist-packages (from catboost) (1.8.1)\r\n",
      "Requirement already satisfied: numpy>=1.16.0 in /usr/local/lib/python3.9/dist-packages (from catboost) (1.23.1)\r\n",
      "Requirement already satisfied: pandas>=0.24.0 in /usr/local/lib/python3.9/dist-packages (from catboost) (1.4.3)\r\n",
      "Requirement already satisfied: graphviz in /usr/local/lib/python3.9/dist-packages (from catboost) (0.20.1)\r\n",
      "Requirement already satisfied: matplotlib in /usr/local/lib/python3.9/dist-packages (from catboost) (3.5.2)\r\n",
      "Requirement already satisfied: python-dateutil>=2.8.1 in /usr/local/lib/python3.9/dist-packages (from pandas>=0.24.0->catboost) (2.8.2)\r\n",
      "Requirement already satisfied: pytz>=2020.1 in /usr/local/lib/python3.9/dist-packages (from pandas>=0.24.0->catboost) (2022.1)\r\n",
      "Requirement already satisfied: cycler>=0.10 in /usr/local/lib/python3.9/dist-packages (from matplotlib->catboost) (0.11.0)\r\n",
      "Requirement already satisfied: pillow>=6.2.0 in /usr/local/lib/python3.9/dist-packages (from matplotlib->catboost) (9.2.0)\r\n",
      "Requirement already satisfied: kiwisolver>=1.0.1 in /usr/local/lib/python3.9/dist-packages (from matplotlib->catboost) (1.4.3)\r\n",
      "Requirement already satisfied: fonttools>=4.22.0 in /usr/local/lib/python3.9/dist-packages (from matplotlib->catboost) (4.34.4)\r\n",
      "Requirement already satisfied: pyparsing>=2.2.1 in /usr/local/lib/python3.9/dist-packages (from matplotlib->catboost) (3.0.9)\r\n",
      "Requirement already satisfied: packaging>=20.0 in /usr/local/lib/python3.9/dist-packages (from matplotlib->catboost) (21.3)\r\n",
      "Requirement already satisfied: tenacity>=6.2.0 in /usr/local/lib/python3.9/dist-packages (from plotly->catboost) (8.1.0)\r\n",
      "\u001B[33mWARNING: Running pip as the 'root' user can result in broken permissions and conflicting behaviour with the system package manager. It is recommended to use a virtual environment instead: https://pip.pypa.io/warnings/venv\u001B[0m\u001B[33m\r\n",
      "\u001B[0mNote: you may need to restart the kernel to use updated packages.\n"
     ]
    }
   ],
   "source": [
    "if ALGORITHM == 'CatBoost':\n",
    "    %pip install catboost\n",
    "\n",
    "if ALGORITHM == 'Light Gradient Boosting':\n",
    "    %pip install lightgbm"
   ]
  },
  {
   "cell_type": "code",
   "execution_count": 112,
   "outputs": [],
   "source": [],
   "metadata": {
    "collapsed": false
   }
  },
  {
   "cell_type": "code",
   "execution_count": 113,
   "metadata": {
    "execution": {
     "iopub.execute_input": "2022-11-16T13:53:43.376775Z",
     "iopub.status.busy": "2022-11-16T13:53:43.376510Z",
     "iopub.status.idle": "2022-11-16T13:53:45.085035Z",
     "shell.execute_reply": "2022-11-16T13:53:45.084293Z",
     "shell.execute_reply.started": "2022-11-16T13:53:43.376747Z"
    }
   },
   "outputs": [
    {
     "name": "stdout",
     "output_type": "stream",
     "text": [
      "{'notebook_environment': 'gradient', 'use_gpu': True, 'debug_mode': False, 'quick_mode': False, 'quick_override_cv_splits': 2, 'quick_override_n_iter': 10, 'quick_override_n_jobs': 3}\n"
     ]
    }
   ],
   "source": [
    "from sklearn.impute import SimpleImputer\n",
    "import pandas as pd\n",
    "from sklearn.model_selection import train_test_split, RandomizedSearchCV, GridSearchCV\n",
    "import numpy as np\n",
    "from pandas import DataFrame\n",
    "import math\n",
    "from termcolor import colored\n",
    "from time import time\n",
    "import sklearn\n",
    "from sklearn.metrics import r2_score, mean_absolute_error, mean_squared_error\n",
    "from sklearn.metrics import r2_score\n",
    "import seaborn as sns\n",
    "import pickle\n",
    "\n",
    "import json\n",
    "from datetime import datetime\n",
    "import matplotlib.pyplot as plt\n",
    "\n",
    "with open('../../z_envs/_envs.json') as f:\n",
    "    env_vars = json.loads(f.read())\n",
    "print(env_vars)\n",
    "\n",
    "try:\n",
    "    import google.colab\n",
    "\n",
    "    run_env = 'colab'\n",
    "except:\n",
    "    try:\n",
    "        run_env = env_vars['notebook_environment']\n",
    "    except:\n",
    "        run_env = 'unknown'\n",
    "\n",
    "use_gpu = env_vars.get('use_gpu', False)\n",
    "debug_mode = env_vars.get('debug_mode', False)\n",
    "quick_mode = env_vars.get('quick_mode', False)\n",
    "OVERRIDE_CV = env_vars.get('quick_override_cv_splits', None) if quick_mode else None\n",
    "OVERRIDE_N_ITER = env_vars.get('quick_override_n_iter', None) if quick_mode else None\n",
    "OVERRIDE_JOBS = env_vars.get('quick_override_n_jobs', None) if quick_mode else None\n",
    "#if quick_mode:OVERRIDE_CV, OVERRIDE_N_ITER = 2, 10\n",
    "\n",
    "already_timed = False\n",
    "no_dummies = 'no dummies' in DATA_DETAIL\n",
    "no_scaling = 'no scaling' in DATA_DETAIL\n",
    "#not_catboost = 'catboost' not in ALGORITHM.lower() or not no_dummies\n",
    "not_catboost = 'catboost' not in ALGORITHM.lower()\n",
    "\n",
    "if run_env not in ['colab', 'gradient', 'cloud']:\n",
    "    cloud_run = False\n",
    "    from functions_b__get_the_data_20221116 import set_csv_directory\n",
    "    set_csv_directory('final_split')\n",
    "else:\n",
    "    cloud_run = True\n",
    "    import sys\n",
    "    import os\n",
    "\n",
    "    module_path = os.path.abspath(os.path.join('..', '..', '..'))\n",
    "    if module_path not in sys.path:\n",
    "        #sys.path.append(module_path+\"\\\\zfunctions\")\n",
    "        sys.path.append(module_path)\n",
    "\n",
    "from functions_0__common_20221116 import get_columns\n",
    "from functions_b__get_the_data_20221116 import get_combined_dataset\n",
    "from functions_d1__prepare_cleanse_data_20221116 import tidy_dataset\n",
    "from functions_d2__transform_enrich_data_20221116 import preprocess, feature_engineer\n",
    "from functions_d3__prepare_store_data_20221116 import create_train_test_data\n",
    "from functions_e__train_model_20221116 import get_chosen_model, make_modelling_pipeline, get_cv_params, fit_model_with_cross_validation, get_hyperparameters\n",
    "from functions_f_evaluate_model_20221116 import get_best_estimator_average_time, get_results, update_results\n",
    "\n"
   ]
  },
  {
   "cell_type": "code",
   "execution_count": 114,
   "outputs": [],
   "source": [
    "#OVERRIDE_N_ITER = 5"
   ],
   "metadata": {
    "collapsed": false
   }
  },
  {
   "cell_type": "code",
   "execution_count": 115,
   "metadata": {
    "execution": {
     "iopub.execute_input": "2022-11-16T13:53:45.086382Z",
     "iopub.status.busy": "2022-11-16T13:53:45.086022Z",
     "iopub.status.idle": "2022-11-16T13:53:45.092108Z",
     "shell.execute_reply": "2022-11-16T13:53:45.091330Z",
     "shell.execute_reply.started": "2022-11-16T13:53:45.086361Z"
    }
   },
   "outputs": [
    {
     "name": "stdout",
     "output_type": "stream",
     "text": [
      "\u001B[34mfeatures\u001B[0m ->  ['bedrooms', 'bathrooms', 'nearestStation', 'location.latitude', 'location.longitude', 'latitude_deviation', 'longitude_deviation', 'tenure.tenureType']\n",
      "\u001B[1m\u001B[32mlabel\u001B[0m ->  Price\n"
     ]
    }
   ],
   "source": [
    "#cutdown_rows = 1000\n",
    "cutdown_rows = 0\n",
    "\n",
    "LABEL = 'Price'\n",
    "\n",
    "columns, booleans, floats, categories, custom, wildcard = get_columns(version=VERSION)\n",
    "\n",
    "print(colored(f\"features\", \"blue\"), \"-> \", columns)\n",
    "columns.insert(0, LABEL)\n",
    "print(colored(f\"label\", \"green\", None, ['bold']), \"-> \", LABEL)"
   ]
  },
  {
   "cell_type": "code",
   "execution_count": 116,
   "metadata": {
    "collapsed": false,
    "execution": {
     "iopub.execute_input": "2022-11-29T21:13:26.061510Z",
     "iopub.status.busy": "2022-11-29T21:13:26.061266Z",
     "iopub.status.idle": "2022-11-29T21:13:26.076565Z",
     "shell.execute_reply": "2022-11-29T21:13:26.075207Z",
     "shell.execute_reply.started": "2022-11-29T21:13:26.061489Z"
    },
    "jupyter": {
     "outputs_hidden": false
    }
   },
   "outputs": [
    {
     "data": {
      "text/plain": "Pipeline(steps=[('std_scaler', StandardScaler()), ('model', None)])",
      "text/html": "<style>#sk-container-id-5 {color: black;background-color: white;}#sk-container-id-5 pre{padding: 0;}#sk-container-id-5 div.sk-toggleable {background-color: white;}#sk-container-id-5 label.sk-toggleable__label {cursor: pointer;display: block;width: 100%;margin-bottom: 0;padding: 0.3em;box-sizing: border-box;text-align: center;}#sk-container-id-5 label.sk-toggleable__label-arrow:before {content: \"▸\";float: left;margin-right: 0.25em;color: #696969;}#sk-container-id-5 label.sk-toggleable__label-arrow:hover:before {color: black;}#sk-container-id-5 div.sk-estimator:hover label.sk-toggleable__label-arrow:before {color: black;}#sk-container-id-5 div.sk-toggleable__content {max-height: 0;max-width: 0;overflow: hidden;text-align: left;background-color: #f0f8ff;}#sk-container-id-5 div.sk-toggleable__content pre {margin: 0.2em;color: black;border-radius: 0.25em;background-color: #f0f8ff;}#sk-container-id-5 input.sk-toggleable__control:checked~div.sk-toggleable__content {max-height: 200px;max-width: 100%;overflow: auto;}#sk-container-id-5 input.sk-toggleable__control:checked~label.sk-toggleable__label-arrow:before {content: \"▾\";}#sk-container-id-5 div.sk-estimator input.sk-toggleable__control:checked~label.sk-toggleable__label {background-color: #d4ebff;}#sk-container-id-5 div.sk-label input.sk-toggleable__control:checked~label.sk-toggleable__label {background-color: #d4ebff;}#sk-container-id-5 input.sk-hidden--visually {border: 0;clip: rect(1px 1px 1px 1px);clip: rect(1px, 1px, 1px, 1px);height: 1px;margin: -1px;overflow: hidden;padding: 0;position: absolute;width: 1px;}#sk-container-id-5 div.sk-estimator {font-family: monospace;background-color: #f0f8ff;border: 1px dotted black;border-radius: 0.25em;box-sizing: border-box;margin-bottom: 0.5em;}#sk-container-id-5 div.sk-estimator:hover {background-color: #d4ebff;}#sk-container-id-5 div.sk-parallel-item::after {content: \"\";width: 100%;border-bottom: 1px solid gray;flex-grow: 1;}#sk-container-id-5 div.sk-label:hover label.sk-toggleable__label {background-color: #d4ebff;}#sk-container-id-5 div.sk-serial::before {content: \"\";position: absolute;border-left: 1px solid gray;box-sizing: border-box;top: 0;bottom: 0;left: 50%;z-index: 0;}#sk-container-id-5 div.sk-serial {display: flex;flex-direction: column;align-items: center;background-color: white;padding-right: 0.2em;padding-left: 0.2em;position: relative;}#sk-container-id-5 div.sk-item {position: relative;z-index: 1;}#sk-container-id-5 div.sk-parallel {display: flex;align-items: stretch;justify-content: center;background-color: white;position: relative;}#sk-container-id-5 div.sk-item::before, #sk-container-id-5 div.sk-parallel-item::before {content: \"\";position: absolute;border-left: 1px solid gray;box-sizing: border-box;top: 0;bottom: 0;left: 50%;z-index: -1;}#sk-container-id-5 div.sk-parallel-item {display: flex;flex-direction: column;z-index: 1;position: relative;background-color: white;}#sk-container-id-5 div.sk-parallel-item:first-child::after {align-self: flex-end;width: 50%;}#sk-container-id-5 div.sk-parallel-item:last-child::after {align-self: flex-start;width: 50%;}#sk-container-id-5 div.sk-parallel-item:only-child::after {width: 0;}#sk-container-id-5 div.sk-dashed-wrapped {border: 1px dashed gray;margin: 0 0.4em 0.5em 0.4em;box-sizing: border-box;padding-bottom: 0.4em;background-color: white;}#sk-container-id-5 div.sk-label label {font-family: monospace;font-weight: bold;display: inline-block;line-height: 1.2em;}#sk-container-id-5 div.sk-label-container {text-align: center;}#sk-container-id-5 div.sk-container {/* jupyter's `normalize.less` sets `[hidden] { display: none; }` but bootstrap.min.css set `[hidden] { display: none !important; }` so we also need the `!important` here to be able to override the default hidden behavior on the sphinx rendered scikit-learn.org. See: https://github.com/scikit-learn/scikit-learn/issues/21755 */display: inline-block !important;position: relative;}#sk-container-id-5 div.sk-text-repr-fallback {display: none;}</style><div id=\"sk-container-id-5\" class=\"sk-top-container\"><div class=\"sk-text-repr-fallback\"><pre>Pipeline(steps=[(&#x27;std_scaler&#x27;, StandardScaler()), (&#x27;model&#x27;, None)])</pre><b>In a Jupyter environment, please rerun this cell to show the HTML representation or trust the notebook. <br />On GitHub, the HTML representation is unable to render, please try loading this page with nbviewer.org.</b></div><div class=\"sk-container\" hidden><div class=\"sk-item sk-dashed-wrapped\"><div class=\"sk-label-container\"><div class=\"sk-label sk-toggleable\"><input class=\"sk-toggleable__control sk-hidden--visually\" id=\"sk-estimator-id-13\" type=\"checkbox\" ><label for=\"sk-estimator-id-13\" class=\"sk-toggleable__label sk-toggleable__label-arrow\">Pipeline</label><div class=\"sk-toggleable__content\"><pre>Pipeline(steps=[(&#x27;std_scaler&#x27;, StandardScaler()), (&#x27;model&#x27;, None)])</pre></div></div></div><div class=\"sk-serial\"><div class=\"sk-item\"><div class=\"sk-estimator sk-toggleable\"><input class=\"sk-toggleable__control sk-hidden--visually\" id=\"sk-estimator-id-14\" type=\"checkbox\" ><label for=\"sk-estimator-id-14\" class=\"sk-toggleable__label sk-toggleable__label-arrow\">StandardScaler</label><div class=\"sk-toggleable__content\"><pre>StandardScaler()</pre></div></div></div><div class=\"sk-item\"><div class=\"sk-estimator sk-toggleable\"><input class=\"sk-toggleable__control sk-hidden--visually\" id=\"sk-estimator-id-15\" type=\"checkbox\" ><label for=\"sk-estimator-id-15\" class=\"sk-toggleable__label sk-toggleable__label-arrow\">None</label><div class=\"sk-toggleable__content\"><pre>None</pre></div></div></div></div></div></div></div>"
     },
     "execution_count": 116,
     "metadata": {},
     "output_type": "execute_result"
    }
   ],
   "source": [
    "from sklearn.pipeline import Pipeline\n",
    "from sklearn.preprocessing import MinMaxScaler, StandardScaler\n",
    "\n",
    "\n",
    "def make_pipeline():\n",
    "    return Pipeline([\n",
    "        #('mms', MinMaxScaler()),\n",
    "        ('std_scaler', StandardScaler()),\n",
    "        ('model', get_chosen_model(ALGORITHM))\n",
    "    ])\n",
    "\n",
    "\n",
    "starter_pipe = make_pipeline()\n",
    "starter_pipe"
   ]
  },
  {
   "cell_type": "code",
   "execution_count": 117,
   "metadata": {
    "execution": {
     "iopub.execute_input": "2022-11-16T13:53:45.125489Z",
     "iopub.status.busy": "2022-11-16T13:53:45.125277Z",
     "iopub.status.idle": "2022-11-16T13:53:45.130895Z",
     "shell.execute_reply": "2022-11-16T13:53:45.130188Z",
     "shell.execute_reply.started": "2022-11-16T13:53:45.125470Z"
    }
   },
   "outputs": [],
   "source": [
    "def get_source_dataframe(rows=cutdown_rows, folder_prefix='../../../'):\n",
    "    retrieval_type = None\n",
    "\n",
    "    filename = f'df_listings_v{VERSION}.csv'\n",
    "    remote_pathname = f'https://raw.githubusercontent.com/jayportfolio/capstone_streamlit/main/data/final/{filename}'\n",
    "    df_pathname_raw = folder_prefix + f'data/source/{filename}'\n",
    "    df_pathname_tidy = folder_prefix + f'data/final/{filename}'\n",
    "\n",
    "    if cloud_run:\n",
    "        inDF = pd.read_csv(remote_pathname, on_bad_lines='error', index_col=0)\n",
    "        retrieval_type = 'tidy'\n",
    "        print('loaded data from', folder_prefix + remote_pathname)\n",
    "    else:\n",
    "        inDF = pd.read_csv(df_pathname_tidy, on_bad_lines='error', index_col=0)\n",
    "        retrieval_type = 'tidy'\n",
    "        print('loaded data from', df_pathname_tidy)\n",
    "\n",
    "    if rows and rows > 0:\n",
    "        inDF = inDF[:rows]\n",
    "    return inDF, retrieval_type"
   ]
  },
  {
   "cell_type": "code",
   "execution_count": 118,
   "metadata": {
    "execution": {
     "iopub.execute_input": "2022-11-16T13:53:45.132049Z",
     "iopub.status.busy": "2022-11-16T13:53:45.131848Z",
     "iopub.status.idle": "2022-11-16T13:53:45.525582Z",
     "shell.execute_reply": "2022-11-16T13:53:45.524903Z",
     "shell.execute_reply.started": "2022-11-16T13:53:45.132030Z"
    }
   },
   "outputs": [
    {
     "name": "stdout",
     "output_type": "stream",
     "text": [
      "loaded data from ../../../https://raw.githubusercontent.com/jayportfolio/capstone_streamlit/main/data/final/df_listings_v06.csv\n",
      "(46871, 9)\n"
     ]
    }
   ],
   "source": [
    "df, retrieval_type = get_source_dataframe(folder_prefix='../../../')\n",
    "df_orig = df.copy()\n",
    "\n",
    "if retrieval_type != 'tidy':\n",
    "    df = tidy_dataset(df, version=int(VERSION))\n",
    "    df = feature_engineer(df, version=int(VERSION))\n",
    "\n",
    "    df = df[columns]\n",
    "\n",
    "print(df.shape)"
   ]
  },
  {
   "cell_type": "code",
   "execution_count": 119,
   "metadata": {
    "execution": {
     "iopub.execute_input": "2022-11-16T13:53:45.526718Z",
     "iopub.status.busy": "2022-11-16T13:53:45.526472Z",
     "iopub.status.idle": "2022-11-16T13:53:45.548777Z",
     "shell.execute_reply": "2022-11-16T13:53:45.548195Z",
     "shell.execute_reply.started": "2022-11-16T13:53:45.526696Z"
    }
   },
   "outputs": [
    {
     "data": {
      "text/plain": "             Price  bedrooms  bathrooms  nearestStation  location.latitude  \\\n14520525  550000.0       3.0        1.0        0.274316          51.529950   \n27953107  400000.0       2.0        2.0        0.305845          51.549390   \n33593487  579950.0       2.0        1.0        0.438045          51.447180   \n35271294  370000.0       2.0        1.0        0.399307          51.449568   \n35429088  599950.0       2.0        1.0        0.238187          51.577030   \n44749111  475000.0       2.0        1.0        0.410550          51.370050   \n46204665  435000.0       3.0        2.0        0.314779          51.539070   \n49020666  200000.0       1.0        1.0        0.875911          51.539959   \n49036279  275000.0       2.0        1.0        0.474368          51.541780   \n49303873  450000.0       3.0        2.0        0.577040          51.524880   \n52064391  349950.0       2.0        2.0        0.212734          51.470800   \n52187854  450000.0       1.0        1.0        0.446802          51.527199   \n52675628  490000.0       2.0        2.0        0.215040          51.501114   \n52845963  200000.0       2.0        1.0        0.650562          51.398040   \n52913496  220000.0       1.0        1.0        0.945991          51.539383   \n53609433  489995.0       1.0        1.0        0.087081          51.532620   \n53649578  284950.0       1.0        1.0        0.806597          51.479890   \n53938989  450000.0       2.0        1.0        0.775203          51.658287   \n54713232  332000.0       2.0        1.0        0.319226          51.612300   \n54904122  365000.0       2.0        1.0        0.260722          51.593595   \n54991934  430000.0       3.0        1.0        0.497268          51.528720   \n55043230  260000.0       1.0        1.0        0.384607          51.544430   \n55187658  430000.0       2.0        2.0        0.289033          51.507570   \n55531367  599950.0       2.0        1.0        0.406725          51.467410   \n55768232  550000.0       2.0        1.0        0.478349          51.472890   \n55805965  280000.0       2.0        1.0        0.742859          51.520910   \n55839051  599950.0       2.0        1.0        0.259168          51.579186   \n55940994  385000.0       2.0        2.0        0.403987          51.376930   \n56449305  380000.0       2.0        1.0        0.310271          51.600483   \n57221413  475000.0       3.0        2.0        0.409784          51.497260   \n\n          location.longitude  latitude_deviation  longitude_deviation  \\\n14520525           -0.207020            0.030230             0.102600   \n27953107           -0.482600            0.049670             0.378180   \n33593487           -0.338770            0.052540             0.234350   \n35271294           -0.140154            0.050152             0.035734   \n35429088           -0.141230            0.077310             0.036810   \n44749111           -0.212410            0.129670             0.107990   \n46204665           -0.198935            0.039350             0.094515   \n49020666           -0.380863            0.040239             0.276443   \n49036279            0.037890            0.042060             0.142310   \n49303873            0.187200            0.025160             0.291620   \n52064391           -0.361820            0.028920             0.257400   \n52187854           -0.202898            0.027479             0.098478   \n52675628            0.026315            0.001394             0.130735   \n52845963           -0.076812            0.101680             0.027608   \n52913496           -0.382239            0.039663             0.277819   \n53609433           -0.107860            0.032900             0.003440   \n53649578           -0.078500            0.019830             0.025920   \n53938989           -0.207902            0.158567             0.103482   \n54713232           -0.119860            0.112580             0.015440   \n54904122            0.022046            0.093875             0.126466   \n54991934            0.039180            0.029000             0.143600   \n55043230            0.014500            0.044710             0.118920   \n55187658            0.078030            0.007850             0.182450   \n55531367           -0.079170            0.032310             0.025250   \n55768232           -0.078940            0.026830             0.025480   \n55805965            0.022680            0.021190             0.127100   \n55839051           -0.209020            0.079466             0.104600   \n55940994           -0.238870            0.122790             0.134450   \n56449305           -0.062096            0.100763             0.042324   \n57221413           -0.422530            0.002460             0.318110   \n\n          tenure.tenureType  \n14520525          LEASEHOLD  \n27953107          LEASEHOLD  \n33593487           FREEHOLD  \n35271294          LEASEHOLD  \n35429088                NaN  \n44749111           FREEHOLD  \n46204665          LEASEHOLD  \n49020666          LEASEHOLD  \n49036279          LEASEHOLD  \n49303873           FREEHOLD  \n52064391          LEASEHOLD  \n52187854          LEASEHOLD  \n52675628                NaN  \n52845963          LEASEHOLD  \n52913496          LEASEHOLD  \n53609433          LEASEHOLD  \n53649578                NaN  \n53938989           FREEHOLD  \n54713232  SHARE_OF_FREEHOLD  \n54904122  SHARE_OF_FREEHOLD  \n54991934           FREEHOLD  \n55043230          LEASEHOLD  \n55187658          LEASEHOLD  \n55531367                NaN  \n55768232                NaN  \n55805965          LEASEHOLD  \n55839051          LEASEHOLD  \n55940994          LEASEHOLD  \n56449305           FREEHOLD  \n57221413           FREEHOLD  ",
      "text/html": "<div>\n<style scoped>\n    .dataframe tbody tr th:only-of-type {\n        vertical-align: middle;\n    }\n\n    .dataframe tbody tr th {\n        vertical-align: top;\n    }\n\n    .dataframe thead th {\n        text-align: right;\n    }\n</style>\n<table border=\"1\" class=\"dataframe\">\n  <thead>\n    <tr style=\"text-align: right;\">\n      <th></th>\n      <th>Price</th>\n      <th>bedrooms</th>\n      <th>bathrooms</th>\n      <th>nearestStation</th>\n      <th>location.latitude</th>\n      <th>location.longitude</th>\n      <th>latitude_deviation</th>\n      <th>longitude_deviation</th>\n      <th>tenure.tenureType</th>\n    </tr>\n  </thead>\n  <tbody>\n    <tr>\n      <th>14520525</th>\n      <td>550000.0</td>\n      <td>3.0</td>\n      <td>1.0</td>\n      <td>0.274316</td>\n      <td>51.529950</td>\n      <td>-0.207020</td>\n      <td>0.030230</td>\n      <td>0.102600</td>\n      <td>LEASEHOLD</td>\n    </tr>\n    <tr>\n      <th>27953107</th>\n      <td>400000.0</td>\n      <td>2.0</td>\n      <td>2.0</td>\n      <td>0.305845</td>\n      <td>51.549390</td>\n      <td>-0.482600</td>\n      <td>0.049670</td>\n      <td>0.378180</td>\n      <td>LEASEHOLD</td>\n    </tr>\n    <tr>\n      <th>33593487</th>\n      <td>579950.0</td>\n      <td>2.0</td>\n      <td>1.0</td>\n      <td>0.438045</td>\n      <td>51.447180</td>\n      <td>-0.338770</td>\n      <td>0.052540</td>\n      <td>0.234350</td>\n      <td>FREEHOLD</td>\n    </tr>\n    <tr>\n      <th>35271294</th>\n      <td>370000.0</td>\n      <td>2.0</td>\n      <td>1.0</td>\n      <td>0.399307</td>\n      <td>51.449568</td>\n      <td>-0.140154</td>\n      <td>0.050152</td>\n      <td>0.035734</td>\n      <td>LEASEHOLD</td>\n    </tr>\n    <tr>\n      <th>35429088</th>\n      <td>599950.0</td>\n      <td>2.0</td>\n      <td>1.0</td>\n      <td>0.238187</td>\n      <td>51.577030</td>\n      <td>-0.141230</td>\n      <td>0.077310</td>\n      <td>0.036810</td>\n      <td>NaN</td>\n    </tr>\n    <tr>\n      <th>44749111</th>\n      <td>475000.0</td>\n      <td>2.0</td>\n      <td>1.0</td>\n      <td>0.410550</td>\n      <td>51.370050</td>\n      <td>-0.212410</td>\n      <td>0.129670</td>\n      <td>0.107990</td>\n      <td>FREEHOLD</td>\n    </tr>\n    <tr>\n      <th>46204665</th>\n      <td>435000.0</td>\n      <td>3.0</td>\n      <td>2.0</td>\n      <td>0.314779</td>\n      <td>51.539070</td>\n      <td>-0.198935</td>\n      <td>0.039350</td>\n      <td>0.094515</td>\n      <td>LEASEHOLD</td>\n    </tr>\n    <tr>\n      <th>49020666</th>\n      <td>200000.0</td>\n      <td>1.0</td>\n      <td>1.0</td>\n      <td>0.875911</td>\n      <td>51.539959</td>\n      <td>-0.380863</td>\n      <td>0.040239</td>\n      <td>0.276443</td>\n      <td>LEASEHOLD</td>\n    </tr>\n    <tr>\n      <th>49036279</th>\n      <td>275000.0</td>\n      <td>2.0</td>\n      <td>1.0</td>\n      <td>0.474368</td>\n      <td>51.541780</td>\n      <td>0.037890</td>\n      <td>0.042060</td>\n      <td>0.142310</td>\n      <td>LEASEHOLD</td>\n    </tr>\n    <tr>\n      <th>49303873</th>\n      <td>450000.0</td>\n      <td>3.0</td>\n      <td>2.0</td>\n      <td>0.577040</td>\n      <td>51.524880</td>\n      <td>0.187200</td>\n      <td>0.025160</td>\n      <td>0.291620</td>\n      <td>FREEHOLD</td>\n    </tr>\n    <tr>\n      <th>52064391</th>\n      <td>349950.0</td>\n      <td>2.0</td>\n      <td>2.0</td>\n      <td>0.212734</td>\n      <td>51.470800</td>\n      <td>-0.361820</td>\n      <td>0.028920</td>\n      <td>0.257400</td>\n      <td>LEASEHOLD</td>\n    </tr>\n    <tr>\n      <th>52187854</th>\n      <td>450000.0</td>\n      <td>1.0</td>\n      <td>1.0</td>\n      <td>0.446802</td>\n      <td>51.527199</td>\n      <td>-0.202898</td>\n      <td>0.027479</td>\n      <td>0.098478</td>\n      <td>LEASEHOLD</td>\n    </tr>\n    <tr>\n      <th>52675628</th>\n      <td>490000.0</td>\n      <td>2.0</td>\n      <td>2.0</td>\n      <td>0.215040</td>\n      <td>51.501114</td>\n      <td>0.026315</td>\n      <td>0.001394</td>\n      <td>0.130735</td>\n      <td>NaN</td>\n    </tr>\n    <tr>\n      <th>52845963</th>\n      <td>200000.0</td>\n      <td>2.0</td>\n      <td>1.0</td>\n      <td>0.650562</td>\n      <td>51.398040</td>\n      <td>-0.076812</td>\n      <td>0.101680</td>\n      <td>0.027608</td>\n      <td>LEASEHOLD</td>\n    </tr>\n    <tr>\n      <th>52913496</th>\n      <td>220000.0</td>\n      <td>1.0</td>\n      <td>1.0</td>\n      <td>0.945991</td>\n      <td>51.539383</td>\n      <td>-0.382239</td>\n      <td>0.039663</td>\n      <td>0.277819</td>\n      <td>LEASEHOLD</td>\n    </tr>\n    <tr>\n      <th>53609433</th>\n      <td>489995.0</td>\n      <td>1.0</td>\n      <td>1.0</td>\n      <td>0.087081</td>\n      <td>51.532620</td>\n      <td>-0.107860</td>\n      <td>0.032900</td>\n      <td>0.003440</td>\n      <td>LEASEHOLD</td>\n    </tr>\n    <tr>\n      <th>53649578</th>\n      <td>284950.0</td>\n      <td>1.0</td>\n      <td>1.0</td>\n      <td>0.806597</td>\n      <td>51.479890</td>\n      <td>-0.078500</td>\n      <td>0.019830</td>\n      <td>0.025920</td>\n      <td>NaN</td>\n    </tr>\n    <tr>\n      <th>53938989</th>\n      <td>450000.0</td>\n      <td>2.0</td>\n      <td>1.0</td>\n      <td>0.775203</td>\n      <td>51.658287</td>\n      <td>-0.207902</td>\n      <td>0.158567</td>\n      <td>0.103482</td>\n      <td>FREEHOLD</td>\n    </tr>\n    <tr>\n      <th>54713232</th>\n      <td>332000.0</td>\n      <td>2.0</td>\n      <td>1.0</td>\n      <td>0.319226</td>\n      <td>51.612300</td>\n      <td>-0.119860</td>\n      <td>0.112580</td>\n      <td>0.015440</td>\n      <td>SHARE_OF_FREEHOLD</td>\n    </tr>\n    <tr>\n      <th>54904122</th>\n      <td>365000.0</td>\n      <td>2.0</td>\n      <td>1.0</td>\n      <td>0.260722</td>\n      <td>51.593595</td>\n      <td>0.022046</td>\n      <td>0.093875</td>\n      <td>0.126466</td>\n      <td>SHARE_OF_FREEHOLD</td>\n    </tr>\n    <tr>\n      <th>54991934</th>\n      <td>430000.0</td>\n      <td>3.0</td>\n      <td>1.0</td>\n      <td>0.497268</td>\n      <td>51.528720</td>\n      <td>0.039180</td>\n      <td>0.029000</td>\n      <td>0.143600</td>\n      <td>FREEHOLD</td>\n    </tr>\n    <tr>\n      <th>55043230</th>\n      <td>260000.0</td>\n      <td>1.0</td>\n      <td>1.0</td>\n      <td>0.384607</td>\n      <td>51.544430</td>\n      <td>0.014500</td>\n      <td>0.044710</td>\n      <td>0.118920</td>\n      <td>LEASEHOLD</td>\n    </tr>\n    <tr>\n      <th>55187658</th>\n      <td>430000.0</td>\n      <td>2.0</td>\n      <td>2.0</td>\n      <td>0.289033</td>\n      <td>51.507570</td>\n      <td>0.078030</td>\n      <td>0.007850</td>\n      <td>0.182450</td>\n      <td>LEASEHOLD</td>\n    </tr>\n    <tr>\n      <th>55531367</th>\n      <td>599950.0</td>\n      <td>2.0</td>\n      <td>1.0</td>\n      <td>0.406725</td>\n      <td>51.467410</td>\n      <td>-0.079170</td>\n      <td>0.032310</td>\n      <td>0.025250</td>\n      <td>NaN</td>\n    </tr>\n    <tr>\n      <th>55768232</th>\n      <td>550000.0</td>\n      <td>2.0</td>\n      <td>1.0</td>\n      <td>0.478349</td>\n      <td>51.472890</td>\n      <td>-0.078940</td>\n      <td>0.026830</td>\n      <td>0.025480</td>\n      <td>NaN</td>\n    </tr>\n    <tr>\n      <th>55805965</th>\n      <td>280000.0</td>\n      <td>2.0</td>\n      <td>1.0</td>\n      <td>0.742859</td>\n      <td>51.520910</td>\n      <td>0.022680</td>\n      <td>0.021190</td>\n      <td>0.127100</td>\n      <td>LEASEHOLD</td>\n    </tr>\n    <tr>\n      <th>55839051</th>\n      <td>599950.0</td>\n      <td>2.0</td>\n      <td>1.0</td>\n      <td>0.259168</td>\n      <td>51.579186</td>\n      <td>-0.209020</td>\n      <td>0.079466</td>\n      <td>0.104600</td>\n      <td>LEASEHOLD</td>\n    </tr>\n    <tr>\n      <th>55940994</th>\n      <td>385000.0</td>\n      <td>2.0</td>\n      <td>2.0</td>\n      <td>0.403987</td>\n      <td>51.376930</td>\n      <td>-0.238870</td>\n      <td>0.122790</td>\n      <td>0.134450</td>\n      <td>LEASEHOLD</td>\n    </tr>\n    <tr>\n      <th>56449305</th>\n      <td>380000.0</td>\n      <td>2.0</td>\n      <td>1.0</td>\n      <td>0.310271</td>\n      <td>51.600483</td>\n      <td>-0.062096</td>\n      <td>0.100763</td>\n      <td>0.042324</td>\n      <td>FREEHOLD</td>\n    </tr>\n    <tr>\n      <th>57221413</th>\n      <td>475000.0</td>\n      <td>3.0</td>\n      <td>2.0</td>\n      <td>0.409784</td>\n      <td>51.497260</td>\n      <td>-0.422530</td>\n      <td>0.002460</td>\n      <td>0.318110</td>\n      <td>FREEHOLD</td>\n    </tr>\n  </tbody>\n</table>\n</div>"
     },
     "execution_count": 119,
     "metadata": {},
     "output_type": "execute_result"
    }
   ],
   "source": [
    "df.head(30)"
   ]
  },
  {
   "cell_type": "code",
   "execution_count": 120,
   "metadata": {
    "execution": {
     "iopub.execute_input": "2022-11-16T13:53:45.549728Z",
     "iopub.status.busy": "2022-11-16T13:53:45.549524Z",
     "iopub.status.idle": "2022-11-16T13:53:45.561922Z",
     "shell.execute_reply": "2022-11-16T13:53:45.561366Z",
     "shell.execute_reply.started": "2022-11-16T13:53:45.549709Z"
    }
   },
   "outputs": [
    {
     "data": {
      "text/plain": "Price                     0\nbedrooms                  0\nbathrooms                 0\nnearestStation            0\nlocation.latitude         0\nlocation.longitude        0\nlatitude_deviation        0\nlongitude_deviation       0\ntenure.tenureType      2744\ndtype: int64"
     },
     "execution_count": 120,
     "metadata": {},
     "output_type": "execute_result"
    }
   ],
   "source": [
    "df.isnull().sum()"
   ]
  },
  {
   "cell_type": "code",
   "execution_count": 121,
   "metadata": {
    "execution": {
     "iopub.execute_input": "2022-11-16T13:53:45.562900Z",
     "iopub.status.busy": "2022-11-16T13:53:45.562697Z",
     "iopub.status.idle": "2022-11-16T13:53:45.641457Z",
     "shell.execute_reply": "2022-11-16T13:53:45.640840Z",
     "shell.execute_reply.started": "2022-11-16T13:53:45.562882Z"
    }
   },
   "outputs": [
    {
     "name": "stdout",
     "output_type": "stream",
     "text": [
      "<class 'pandas.core.frame.DataFrame'>\n",
      "Int64Index: 46871 entries, 14520525 to 126181118\n",
      "Data columns (total 9 columns):\n",
      " #   Column               Non-Null Count  Dtype  \n",
      "---  ------               --------------  -----  \n",
      " 0   Price                46871 non-null  float64\n",
      " 1   bedrooms             46871 non-null  float64\n",
      " 2   bathrooms            46871 non-null  float64\n",
      " 3   nearestStation       46871 non-null  float64\n",
      " 4   location.latitude    46871 non-null  float64\n",
      " 5   location.longitude   46871 non-null  float64\n",
      " 6   latitude_deviation   46871 non-null  float64\n",
      " 7   longitude_deviation  46871 non-null  float64\n",
      " 8   tenure.tenureType    44127 non-null  object \n",
      "dtypes: float64(8), object(1)\n",
      "memory usage: 3.6+ MB\n"
     ]
    },
    {
     "data": {
      "text/plain": "                       count           mean            std            min  \\\nPrice                46871.0  425069.390775  107227.324906  100000.000000   \nbedrooms             46871.0       1.992469       0.828837       1.000000   \nbathrooms            46871.0       1.182074       0.409879       1.000000   \nnearestStation       46871.0       0.438847       0.325942       0.000000   \nlocation.latitude    46871.0      51.497049       0.077085      51.298317   \nlocation.longitude   46871.0      -0.113269       0.156489      -0.498315   \nlatitude_deviation   46871.0       0.064317       0.042573       0.000000   \nlongitude_deviation  46871.0       0.124202       0.095607       0.000000   \n\n                               25%            50%            75%  \\\nPrice                349950.000000  425000.000000  515000.000000   \nbedrooms                  1.000000       2.000000       3.000000   \nbathrooms                 1.000000       1.000000       1.000000   \nnearestStation            0.227169       0.367971       0.559620   \nlocation.latitude        51.438861      51.499977      51.556183   \nlocation.longitude       -0.210796      -0.102230      -0.010343   \nlatitude_deviation        0.028876       0.058595       0.094362   \nlongitude_deviation       0.043560       0.098984       0.192684   \n\n                               max  \nPrice                600000.000000  \nbedrooms                  7.000000  \nbathrooms                 5.000000  \nnearestStation            7.197700  \nlocation.latitude        51.683185  \nlocation.longitude        0.279726  \nlatitude_deviation        0.201403  \nlongitude_deviation       0.393895  ",
      "text/html": "<div>\n<style scoped>\n    .dataframe tbody tr th:only-of-type {\n        vertical-align: middle;\n    }\n\n    .dataframe tbody tr th {\n        vertical-align: top;\n    }\n\n    .dataframe thead th {\n        text-align: right;\n    }\n</style>\n<table border=\"1\" class=\"dataframe\">\n  <thead>\n    <tr style=\"text-align: right;\">\n      <th></th>\n      <th>count</th>\n      <th>mean</th>\n      <th>std</th>\n      <th>min</th>\n      <th>25%</th>\n      <th>50%</th>\n      <th>75%</th>\n      <th>max</th>\n    </tr>\n  </thead>\n  <tbody>\n    <tr>\n      <th>Price</th>\n      <td>46871.0</td>\n      <td>425069.390775</td>\n      <td>107227.324906</td>\n      <td>100000.000000</td>\n      <td>349950.000000</td>\n      <td>425000.000000</td>\n      <td>515000.000000</td>\n      <td>600000.000000</td>\n    </tr>\n    <tr>\n      <th>bedrooms</th>\n      <td>46871.0</td>\n      <td>1.992469</td>\n      <td>0.828837</td>\n      <td>1.000000</td>\n      <td>1.000000</td>\n      <td>2.000000</td>\n      <td>3.000000</td>\n      <td>7.000000</td>\n    </tr>\n    <tr>\n      <th>bathrooms</th>\n      <td>46871.0</td>\n      <td>1.182074</td>\n      <td>0.409879</td>\n      <td>1.000000</td>\n      <td>1.000000</td>\n      <td>1.000000</td>\n      <td>1.000000</td>\n      <td>5.000000</td>\n    </tr>\n    <tr>\n      <th>nearestStation</th>\n      <td>46871.0</td>\n      <td>0.438847</td>\n      <td>0.325942</td>\n      <td>0.000000</td>\n      <td>0.227169</td>\n      <td>0.367971</td>\n      <td>0.559620</td>\n      <td>7.197700</td>\n    </tr>\n    <tr>\n      <th>location.latitude</th>\n      <td>46871.0</td>\n      <td>51.497049</td>\n      <td>0.077085</td>\n      <td>51.298317</td>\n      <td>51.438861</td>\n      <td>51.499977</td>\n      <td>51.556183</td>\n      <td>51.683185</td>\n    </tr>\n    <tr>\n      <th>location.longitude</th>\n      <td>46871.0</td>\n      <td>-0.113269</td>\n      <td>0.156489</td>\n      <td>-0.498315</td>\n      <td>-0.210796</td>\n      <td>-0.102230</td>\n      <td>-0.010343</td>\n      <td>0.279726</td>\n    </tr>\n    <tr>\n      <th>latitude_deviation</th>\n      <td>46871.0</td>\n      <td>0.064317</td>\n      <td>0.042573</td>\n      <td>0.000000</td>\n      <td>0.028876</td>\n      <td>0.058595</td>\n      <td>0.094362</td>\n      <td>0.201403</td>\n    </tr>\n    <tr>\n      <th>longitude_deviation</th>\n      <td>46871.0</td>\n      <td>0.124202</td>\n      <td>0.095607</td>\n      <td>0.000000</td>\n      <td>0.043560</td>\n      <td>0.098984</td>\n      <td>0.192684</td>\n      <td>0.393895</td>\n    </tr>\n  </tbody>\n</table>\n</div>"
     },
     "execution_count": 121,
     "metadata": {},
     "output_type": "execute_result"
    }
   ],
   "source": [
    "df.info()\n",
    "df.describe()\n",
    "df.describe().T"
   ]
  },
  {
   "cell_type": "code",
   "execution_count": 122,
   "metadata": {
    "execution": {
     "iopub.execute_input": "2022-11-16T13:53:45.644307Z",
     "iopub.status.busy": "2022-11-16T13:53:45.644062Z",
     "iopub.status.idle": "2022-11-16T13:53:45.702850Z",
     "shell.execute_reply": "2022-11-16T13:53:45.702221Z",
     "shell.execute_reply.started": "2022-11-16T13:53:45.644286Z"
    }
   },
   "outputs": [
    {
     "name": "stdout",
     "output_type": "stream",
     "text": [
      "dataframe contract due to cleaning: 46871 ==> 46871\n"
     ]
    },
    {
     "data": {
      "text/plain": "                       count           mean            std            min  \\\nPrice                46871.0  425069.390775  107227.324906  100000.000000   \nbedrooms             46871.0       1.992469       0.828837       1.000000   \nbathrooms            46871.0       1.182074       0.409879       1.000000   \nnearestStation       46871.0       0.438847       0.325942       0.000000   \nlocation.latitude    46871.0      51.497049       0.077085      51.298317   \nlocation.longitude   46871.0      -0.113269       0.156489      -0.498315   \nlatitude_deviation   46871.0       0.064317       0.042573       0.000000   \nlongitude_deviation  46871.0       0.124202       0.095607       0.000000   \n\n                               25%            50%            75%  \\\nPrice                349950.000000  425000.000000  515000.000000   \nbedrooms                  1.000000       2.000000       3.000000   \nbathrooms                 1.000000       1.000000       1.000000   \nnearestStation            0.227169       0.367971       0.559620   \nlocation.latitude        51.438861      51.499977      51.556183   \nlocation.longitude       -0.210796      -0.102230      -0.010343   \nlatitude_deviation        0.028876       0.058595       0.094362   \nlongitude_deviation       0.043560       0.098984       0.192684   \n\n                               max  \nPrice                600000.000000  \nbedrooms                  7.000000  \nbathrooms                 5.000000  \nnearestStation            7.197700  \nlocation.latitude        51.683185  \nlocation.longitude        0.279726  \nlatitude_deviation        0.201403  \nlongitude_deviation       0.393895  ",
      "text/html": "<div>\n<style scoped>\n    .dataframe tbody tr th:only-of-type {\n        vertical-align: middle;\n    }\n\n    .dataframe tbody tr th {\n        vertical-align: top;\n    }\n\n    .dataframe thead th {\n        text-align: right;\n    }\n</style>\n<table border=\"1\" class=\"dataframe\">\n  <thead>\n    <tr style=\"text-align: right;\">\n      <th></th>\n      <th>count</th>\n      <th>mean</th>\n      <th>std</th>\n      <th>min</th>\n      <th>25%</th>\n      <th>50%</th>\n      <th>75%</th>\n      <th>max</th>\n    </tr>\n  </thead>\n  <tbody>\n    <tr>\n      <th>Price</th>\n      <td>46871.0</td>\n      <td>425069.390775</td>\n      <td>107227.324906</td>\n      <td>100000.000000</td>\n      <td>349950.000000</td>\n      <td>425000.000000</td>\n      <td>515000.000000</td>\n      <td>600000.000000</td>\n    </tr>\n    <tr>\n      <th>bedrooms</th>\n      <td>46871.0</td>\n      <td>1.992469</td>\n      <td>0.828837</td>\n      <td>1.000000</td>\n      <td>1.000000</td>\n      <td>2.000000</td>\n      <td>3.000000</td>\n      <td>7.000000</td>\n    </tr>\n    <tr>\n      <th>bathrooms</th>\n      <td>46871.0</td>\n      <td>1.182074</td>\n      <td>0.409879</td>\n      <td>1.000000</td>\n      <td>1.000000</td>\n      <td>1.000000</td>\n      <td>1.000000</td>\n      <td>5.000000</td>\n    </tr>\n    <tr>\n      <th>nearestStation</th>\n      <td>46871.0</td>\n      <td>0.438847</td>\n      <td>0.325942</td>\n      <td>0.000000</td>\n      <td>0.227169</td>\n      <td>0.367971</td>\n      <td>0.559620</td>\n      <td>7.197700</td>\n    </tr>\n    <tr>\n      <th>location.latitude</th>\n      <td>46871.0</td>\n      <td>51.497049</td>\n      <td>0.077085</td>\n      <td>51.298317</td>\n      <td>51.438861</td>\n      <td>51.499977</td>\n      <td>51.556183</td>\n      <td>51.683185</td>\n    </tr>\n    <tr>\n      <th>location.longitude</th>\n      <td>46871.0</td>\n      <td>-0.113269</td>\n      <td>0.156489</td>\n      <td>-0.498315</td>\n      <td>-0.210796</td>\n      <td>-0.102230</td>\n      <td>-0.010343</td>\n      <td>0.279726</td>\n    </tr>\n    <tr>\n      <th>latitude_deviation</th>\n      <td>46871.0</td>\n      <td>0.064317</td>\n      <td>0.042573</td>\n      <td>0.000000</td>\n      <td>0.028876</td>\n      <td>0.058595</td>\n      <td>0.094362</td>\n      <td>0.201403</td>\n    </tr>\n    <tr>\n      <th>longitude_deviation</th>\n      <td>46871.0</td>\n      <td>0.124202</td>\n      <td>0.095607</td>\n      <td>0.000000</td>\n      <td>0.043560</td>\n      <td>0.098984</td>\n      <td>0.192684</td>\n      <td>0.393895</td>\n    </tr>\n  </tbody>\n</table>\n</div>"
     },
     "execution_count": 122,
     "metadata": {},
     "output_type": "execute_result"
    }
   ],
   "source": [
    "old_length = len(df)\n",
    "\n",
    "df = preprocess(df, version=VERSION)\n",
    "\n",
    "print(f\"dataframe contract due to cleaning: {old_length} ==> {len(df)}\")\n",
    "old_length = len(df)\n",
    "\n",
    "df.describe().T"
   ]
  },
  {
   "cell_type": "code",
   "execution_count": 123,
   "metadata": {
    "execution": {
     "iopub.execute_input": "2022-11-16T13:53:45.704893Z",
     "iopub.status.busy": "2022-11-16T13:53:45.703920Z",
     "iopub.status.idle": "2022-11-16T13:53:45.718086Z",
     "shell.execute_reply": "2022-11-16T13:53:45.716989Z",
     "shell.execute_reply.started": "2022-11-16T13:53:45.704867Z"
    }
   },
   "outputs": [
    {
     "data": {
      "text/plain": "Price                     0\nbedrooms                  0\nbathrooms                 0\nnearestStation            0\nlocation.latitude         0\nlocation.longitude        0\nlatitude_deviation        0\nlongitude_deviation       0\ntenure.tenureType      2744\ndtype: int64"
     },
     "execution_count": 123,
     "metadata": {},
     "output_type": "execute_result"
    }
   ],
   "source": [
    "df.isna().sum()"
   ]
  },
  {
   "cell_type": "code",
   "execution_count": 124,
   "metadata": {
    "execution": {
     "iopub.execute_input": "2022-11-16T13:53:45.719480Z",
     "iopub.status.busy": "2022-11-16T13:53:45.719240Z",
     "iopub.status.idle": "2022-11-16T13:53:45.765084Z",
     "shell.execute_reply": "2022-11-16T13:53:45.764280Z",
     "shell.execute_reply.started": "2022-11-16T13:53:45.719461Z"
    }
   },
   "outputs": [
    {
     "name": "stdout",
     "output_type": "stream",
     "text": [
      "46871 ==> 44127\n"
     ]
    },
    {
     "data": {
      "text/plain": "               Price      bedrooms    bathrooms  nearestStation  \\\ncount   44127.000000  44127.000000  44127.00000    44127.000000   \nmean   425224.642373      1.990981      1.18134        0.438522   \nstd    107203.332660      0.827621      0.40893        0.324152   \nmin    100000.000000      1.000000      1.00000        0.000000   \n25%    349950.000000      1.000000      1.00000        0.227551   \n50%    425000.000000      2.000000      1.00000        0.368351   \n75%    515000.000000      3.000000      1.00000        0.559486   \nmax    600000.000000      7.000000      5.00000        7.197700   \n\n       location.latitude  location.longitude  latitude_deviation  \\\ncount       44127.000000        44127.000000        44127.000000   \nmean           51.496711           -0.113106            0.064544   \nstd             0.077267            0.155863            0.042583   \nmin            51.298317           -0.498315            0.000000   \n25%            51.438303           -0.210633            0.029023   \n50%            51.498780           -0.101910            0.058904   \n75%            51.556343           -0.010854            0.094620   \nmax            51.683185            0.279726            0.201403   \n\n       longitude_deviation  \ncount         44127.000000  \nmean              0.123699  \nstd               0.095220  \nmin               0.000000  \n25%               0.043551  \n50%               0.098750  \n75%               0.191727  \nmax               0.393895  ",
      "text/html": "<div>\n<style scoped>\n    .dataframe tbody tr th:only-of-type {\n        vertical-align: middle;\n    }\n\n    .dataframe tbody tr th {\n        vertical-align: top;\n    }\n\n    .dataframe thead th {\n        text-align: right;\n    }\n</style>\n<table border=\"1\" class=\"dataframe\">\n  <thead>\n    <tr style=\"text-align: right;\">\n      <th></th>\n      <th>Price</th>\n      <th>bedrooms</th>\n      <th>bathrooms</th>\n      <th>nearestStation</th>\n      <th>location.latitude</th>\n      <th>location.longitude</th>\n      <th>latitude_deviation</th>\n      <th>longitude_deviation</th>\n    </tr>\n  </thead>\n  <tbody>\n    <tr>\n      <th>count</th>\n      <td>44127.000000</td>\n      <td>44127.000000</td>\n      <td>44127.00000</td>\n      <td>44127.000000</td>\n      <td>44127.000000</td>\n      <td>44127.000000</td>\n      <td>44127.000000</td>\n      <td>44127.000000</td>\n    </tr>\n    <tr>\n      <th>mean</th>\n      <td>425224.642373</td>\n      <td>1.990981</td>\n      <td>1.18134</td>\n      <td>0.438522</td>\n      <td>51.496711</td>\n      <td>-0.113106</td>\n      <td>0.064544</td>\n      <td>0.123699</td>\n    </tr>\n    <tr>\n      <th>std</th>\n      <td>107203.332660</td>\n      <td>0.827621</td>\n      <td>0.40893</td>\n      <td>0.324152</td>\n      <td>0.077267</td>\n      <td>0.155863</td>\n      <td>0.042583</td>\n      <td>0.095220</td>\n    </tr>\n    <tr>\n      <th>min</th>\n      <td>100000.000000</td>\n      <td>1.000000</td>\n      <td>1.00000</td>\n      <td>0.000000</td>\n      <td>51.298317</td>\n      <td>-0.498315</td>\n      <td>0.000000</td>\n      <td>0.000000</td>\n    </tr>\n    <tr>\n      <th>25%</th>\n      <td>349950.000000</td>\n      <td>1.000000</td>\n      <td>1.00000</td>\n      <td>0.227551</td>\n      <td>51.438303</td>\n      <td>-0.210633</td>\n      <td>0.029023</td>\n      <td>0.043551</td>\n    </tr>\n    <tr>\n      <th>50%</th>\n      <td>425000.000000</td>\n      <td>2.000000</td>\n      <td>1.00000</td>\n      <td>0.368351</td>\n      <td>51.498780</td>\n      <td>-0.101910</td>\n      <td>0.058904</td>\n      <td>0.098750</td>\n    </tr>\n    <tr>\n      <th>75%</th>\n      <td>515000.000000</td>\n      <td>3.000000</td>\n      <td>1.00000</td>\n      <td>0.559486</td>\n      <td>51.556343</td>\n      <td>-0.010854</td>\n      <td>0.094620</td>\n      <td>0.191727</td>\n    </tr>\n    <tr>\n      <th>max</th>\n      <td>600000.000000</td>\n      <td>7.000000</td>\n      <td>5.00000</td>\n      <td>7.197700</td>\n      <td>51.683185</td>\n      <td>0.279726</td>\n      <td>0.201403</td>\n      <td>0.393895</td>\n    </tr>\n  </tbody>\n</table>\n</div>"
     },
     "execution_count": 124,
     "metadata": {},
     "output_type": "execute_result"
    }
   ],
   "source": [
    "df = df.dropna()\n",
    "print(f\"{old_length} ==> {len(df)}\")\n",
    "old_length = len(df)\n",
    "df.describe()"
   ]
  },
  {
   "cell_type": "code",
   "execution_count": 125,
   "metadata": {
    "execution": {
     "iopub.execute_input": "2022-11-16T13:53:45.766337Z",
     "iopub.status.busy": "2022-11-16T13:53:45.766118Z",
     "iopub.status.idle": "2022-11-16T13:53:45.807167Z",
     "shell.execute_reply": "2022-11-16T13:53:45.806099Z",
     "shell.execute_reply.started": "2022-11-16T13:53:45.766318Z"
    }
   },
   "outputs": [
    {
     "name": "stdout",
     "output_type": "stream",
     "text": [
      "[3.0 3.0 0.3166132574345781 51.45976 0.12939 0.0399600000000006 0.23381\n",
      " 'FREEHOLD']\n",
      "(39714, 8) (4413, 8) (39714, 1) (4413, 1) (39714, 1) (4413, 1) (39714, 1) (4413, 1)\n"
     ]
    }
   ],
   "source": [
    "X_train, X_test, y_train, y_test, X_train_index, X_test_index, y_train_index, y_test_index, df_features, df_labels = create_train_test_data(\n",
    "    df,\n",
    "    categories=categories,\n",
    "    RANDOM_STATE=RANDOM_STATE, return_index=True,\n",
    "    drop_nulls=True,\n",
    "    no_dummies=no_dummies\n",
    ")\n",
    "\n",
    "print(X_train[0])\n",
    "\n",
    "if 'forest' in ALGORITHM.lower() or ALGORITHM.lower()=='light gradient boosting':\n",
    "    y_train_orig = y_train\n",
    "    y_train = y_train.ravel()\n",
    "    print(y_train_orig, y_train)\n",
    "    \n",
    "print(X_train.shape, X_test.shape, y_train.shape, y_test.shape, X_train_index.shape, X_test_index.shape,\n",
    "      y_train_index.shape, y_test_index.shape)\n",
    "\n"
   ]
  },
  {
   "cell_type": "code",
   "execution_count": 126,
   "metadata": {
    "execution": {
     "iopub.execute_input": "2022-11-16T13:53:45.808583Z",
     "iopub.status.busy": "2022-11-16T13:53:45.808343Z",
     "iopub.status.idle": "2022-11-16T13:53:45.812004Z",
     "shell.execute_reply": "2022-11-16T13:53:45.811013Z",
     "shell.execute_reply.started": "2022-11-16T13:53:45.808563Z"
    }
   },
   "outputs": [],
   "source": [
    "#imputer = SimpleImputer(strategy='mean')\n",
    "#imputer.fit(X_train[6])\n",
    "#X_train[6] = imputer.transform(X_train[6])"
   ]
  },
  {
   "cell_type": "code",
   "execution_count": 127,
   "metadata": {
    "execution": {
     "iopub.execute_input": "2022-11-16T13:53:45.813460Z",
     "iopub.status.busy": "2022-11-16T13:53:45.813229Z",
     "iopub.status.idle": "2022-11-16T13:53:45.818408Z",
     "shell.execute_reply": "2022-11-16T13:53:45.817424Z",
     "shell.execute_reply.started": "2022-11-16T13:53:45.813440Z"
    }
   },
   "outputs": [],
   "source": [
    "starter_model = starter_pipe[-1]\n",
    "\n",
    "if not_catboost:\n",
    "    default_model_params = starter_model.get_params()\n",
    "    print(\"default_model_params:\\n\", default_model_params)\n",
    "    print(\"---------------------\")\n",
    "    print(\"sklearn.metrics.get_scorer_names():\\n\",sklearn.metrics.get_scorer_names())"
   ]
  },
  {
   "cell_type": "code",
   "execution_count": 127,
   "metadata": {
    "execution": {
     "iopub.execute_input": "2022-11-16T13:53:45.819618Z",
     "iopub.status.busy": "2022-11-16T13:53:45.819401Z",
     "iopub.status.idle": "2022-11-16T13:53:49.589786Z",
     "shell.execute_reply": "2022-11-16T13:53:49.588949Z",
     "shell.execute_reply.started": "2022-11-16T13:53:45.819599Z"
    }
   },
   "outputs": [],
   "source": []
  },
  {
   "cell_type": "code",
   "execution_count": 128,
   "outputs": [
    {
     "name": "stdout",
     "output_type": "stream",
     "text": [
      "cv: 3 n_jobs: 3 refit: True n_iter: 100 verbose: 2\n",
      "\n",
      "\n",
      "Hyperparameters:\n"
     ]
    },
    {
     "data": {
      "text/plain": "{'learning_rate': [None, 0.01, 0.1, 1],\n 'depth': [6, 7, 8],\n 'l2_leaf_reg': [1, 3, 5, 7, 9]}"
     },
     "execution_count": 128,
     "metadata": {},
     "output_type": "execute_result"
    }
   ],
   "source": [
    "options_block = get_hyperparameters(ALGORITHM, use_gpu, prefix='../../../') #JHJH\n",
    "\n",
    "if 'explore param' in DATA_DETAIL:\n",
    "    def automl_step(param_options, vary):\n",
    "        for key, value in param_options.items():\n",
    "            #print(key, value, vary)\n",
    "            if key != vary and key != 'model__' + vary:\n",
    "                param_options[key] = [param_options[key][0]]\n",
    "        return param_options\n",
    "\n",
    "    #options_block = automl_step(options_block, \"model__epochs\")\n",
    "    explore_param = \"alpha\"\n",
    "    options_block = automl_step(options_block, explore_param)\n",
    "\n",
    "\n",
    "if 'forest' in ALGORITHM.lower():\n",
    "    OVERRIDE_N_ITER = 5\n",
    "    if use_gpu:\n",
    "        OVERRIDE_JOBS = 8\n",
    "\n",
    "param_options, cv, n_jobs, refit, n_iter, verbose = get_cv_params(options_block, debug_mode=debug_mode,\n",
    "                                                                  override_cv=OVERRIDE_CV,\n",
    "                                                                  override_niter=OVERRIDE_N_ITER,\n",
    "                                                                  override_njobs=OVERRIDE_JOBS)\n",
    "\n",
    "if 'forest' in ALGORITHM.lower() or True: #JHJH\n",
    "    verbose = 2\n",
    "\n",
    "print(\"cv:\", cv, \"n_jobs:\", n_jobs, \"refit:\", refit, \"n_iter:\", n_iter, \"verbose:\", verbose)\n",
    "\n",
    "if not_catboost and len(param_options.keys()) > 2 and not already_timed and debug_mode:\n",
    "    already_timed = True\n",
    "    %timeit starter_pipe.fit(X_train, y_train)\n",
    "\n",
    "\n",
    "print('\\n\\nHyperparameters:')\n",
    "param_options if not_catboost else options_block"
   ],
   "metadata": {
    "collapsed": false
   }
  },
  {
   "cell_type": "code",
   "execution_count": 76,
   "metadata": {
    "execution": {
     "iopub.execute_input": "2022-11-16T13:53:49.591033Z",
     "iopub.status.busy": "2022-11-16T13:53:49.590814Z",
     "iopub.status.idle": "2022-11-16T13:59:47.180261Z",
     "shell.execute_reply": "2022-11-16T13:59:47.179463Z",
     "shell.execute_reply.started": "2022-11-16T13:53:49.591014Z"
    }
   },
   "outputs": [
    {
     "data": {
      "text/plain": "MetricVisualizer(layout=Layout(align_self='stretch', height='500px'))",
      "application/vnd.jupyter.widget-view+json": {
       "version_major": 2,
       "version_minor": 0,
       "model_id": "93913698efab4083be66a3ca14154a8c"
      }
     },
     "metadata": {},
     "output_type": "display_data"
    },
    {
     "name": "stdout",
     "output_type": "stream",
     "text": [
      "0:\tlearn: 98409.7098234\ttest: 98269.1034624\tbest: 98269.1034624 (0)\ttotal: 5.42ms\tremaining: 536ms\n",
      "1:\tlearn: 82859.6300828\ttest: 82467.1169000\tbest: 82467.1169000 (1)\ttotal: 9.86ms\tremaining: 483ms\n",
      "2:\tlearn: 75676.1749471\ttest: 76324.1449644\tbest: 76324.1449644 (2)\ttotal: 14.5ms\tremaining: 469ms\n",
      "3:\tlearn: 72782.9305940\ttest: 72973.5481043\tbest: 72973.5481043 (3)\ttotal: 19ms\tremaining: 455ms\n",
      "4:\tlearn: 71359.6300103\ttest: 71498.9973243\tbest: 71498.9973243 (4)\ttotal: 23ms\tremaining: 437ms\n",
      "5:\tlearn: 70990.0229617\ttest: 71175.5090087\tbest: 71175.5090087 (5)\ttotal: 26.9ms\tremaining: 421ms\n",
      "6:\tlearn: 70958.5971683\ttest: 71175.0822170\tbest: 71175.0822170 (6)\ttotal: 29.8ms\tremaining: 396ms\n",
      "7:\tlearn: 70939.6577575\ttest: 71175.0688246\tbest: 71175.0688246 (7)\ttotal: 32ms\tremaining: 368ms\n",
      "8:\tlearn: 70292.1860651\ttest: 70476.1353038\tbest: 70476.1353038 (8)\ttotal: 36.2ms\tremaining: 366ms\n",
      "9:\tlearn: 69465.2998363\ttest: 69621.6915208\tbest: 69621.6915208 (9)\ttotal: 40.4ms\tremaining: 364ms\n",
      "10:\tlearn: 69077.9812813\ttest: 69317.7761571\tbest: 69317.7761571 (10)\ttotal: 44.3ms\tremaining: 358ms\n",
      "11:\tlearn: 69063.5670377\ttest: 69318.1695283\tbest: 69317.7761571 (10)\ttotal: 48.4ms\tremaining: 355ms\n",
      "12:\tlearn: 68330.1953886\ttest: 68758.2748358\tbest: 68758.2748358 (12)\ttotal: 52.3ms\tremaining: 350ms\n",
      "13:\tlearn: 67786.8143807\ttest: 68384.3215127\tbest: 68384.3215127 (13)\ttotal: 56.2ms\tremaining: 345ms\n",
      "14:\tlearn: 67460.3538442\ttest: 68136.8093156\tbest: 68136.8093156 (14)\ttotal: 59.9ms\tremaining: 340ms\n",
      "15:\tlearn: 67017.6394624\ttest: 67790.5298420\tbest: 67790.5298420 (15)\ttotal: 64.7ms\tremaining: 340ms\n",
      "16:\tlearn: 66630.1875712\ttest: 67479.1328456\tbest: 67479.1328456 (16)\ttotal: 68.6ms\tremaining: 335ms\n",
      "17:\tlearn: 66339.7943878\ttest: 67074.2807818\tbest: 67074.2807818 (17)\ttotal: 72.4ms\tremaining: 330ms\n",
      "18:\tlearn: 66177.5113285\ttest: 66944.8817966\tbest: 66944.8817966 (18)\ttotal: 76.3ms\tremaining: 325ms\n",
      "19:\tlearn: 66129.2520317\ttest: 66881.6517271\tbest: 66881.6517271 (19)\ttotal: 80.7ms\tremaining: 323ms\n",
      "20:\tlearn: 65770.3301544\ttest: 66563.7586197\tbest: 66563.7586197 (20)\ttotal: 84.7ms\tremaining: 319ms\n",
      "21:\tlearn: 65505.5353916\ttest: 66448.4940441\tbest: 66448.4940441 (21)\ttotal: 88.6ms\tremaining: 314ms\n",
      "22:\tlearn: 65214.1379174\ttest: 66109.0929288\tbest: 66109.0929288 (22)\ttotal: 92.4ms\tremaining: 309ms\n",
      "23:\tlearn: 65030.2912011\ttest: 65993.9945765\tbest: 65993.9945765 (23)\ttotal: 96.3ms\tremaining: 305ms\n",
      "24:\tlearn: 64894.1236321\ttest: 65905.1694961\tbest: 65905.1694961 (24)\ttotal: 100ms\tremaining: 300ms\n",
      "25:\tlearn: 64779.7967200\ttest: 65746.2473598\tbest: 65746.2473598 (25)\ttotal: 104ms\tremaining: 296ms\n",
      "26:\tlearn: 64700.0505324\ttest: 65703.4361341\tbest: 65703.4361341 (26)\ttotal: 108ms\tremaining: 292ms\n",
      "27:\tlearn: 64634.3474540\ttest: 65674.1130349\tbest: 65674.1130349 (27)\ttotal: 112ms\tremaining: 287ms\n",
      "28:\tlearn: 64472.5285934\ttest: 65640.6497678\tbest: 65640.6497678 (28)\ttotal: 116ms\tremaining: 284ms\n",
      "29:\tlearn: 64255.9105390\ttest: 65503.6351150\tbest: 65503.6351150 (29)\ttotal: 120ms\tremaining: 280ms\n",
      "30:\tlearn: 64061.4893649\ttest: 65494.4325397\tbest: 65494.4325397 (30)\ttotal: 124ms\tremaining: 276ms\n",
      "31:\tlearn: 63826.9215887\ttest: 65354.1265229\tbest: 65354.1265229 (31)\ttotal: 128ms\tremaining: 272ms\n",
      "32:\tlearn: 63675.4811088\ttest: 65211.7580984\tbest: 65211.7580984 (32)\ttotal: 132ms\tremaining: 269ms\n",
      "33:\tlearn: 63583.2918868\ttest: 65114.3050188\tbest: 65114.3050188 (33)\ttotal: 137ms\tremaining: 266ms\n",
      "34:\tlearn: 63499.8378566\ttest: 65060.7057217\tbest: 65060.7057217 (34)\ttotal: 141ms\tremaining: 261ms\n",
      "35:\tlearn: 63351.1801195\ttest: 64930.2486299\tbest: 64930.2486299 (35)\ttotal: 145ms\tremaining: 257ms\n",
      "36:\tlearn: 63216.7060943\ttest: 64826.2911400\tbest: 64826.2911400 (36)\ttotal: 149ms\tremaining: 253ms\n",
      "37:\tlearn: 63192.4776457\ttest: 64827.3251036\tbest: 64826.2911400 (36)\ttotal: 152ms\tremaining: 249ms\n",
      "38:\tlearn: 62987.2936341\ttest: 64654.3898810\tbest: 64654.3898810 (38)\ttotal: 156ms\tremaining: 245ms\n",
      "39:\tlearn: 62817.2079225\ttest: 64529.7918134\tbest: 64529.7918134 (39)\ttotal: 160ms\tremaining: 240ms\n",
      "40:\tlearn: 62647.2940179\ttest: 64432.5187511\tbest: 64432.5187511 (40)\ttotal: 167ms\tremaining: 240ms\n",
      "41:\tlearn: 62546.6651613\ttest: 64336.7705607\tbest: 64336.7705607 (41)\ttotal: 177ms\tremaining: 245ms\n",
      "42:\tlearn: 62470.0082638\ttest: 64331.9339706\tbest: 64331.9339706 (42)\ttotal: 183ms\tremaining: 243ms\n",
      "43:\tlearn: 62346.6284009\ttest: 64258.9678971\tbest: 64258.9678971 (43)\ttotal: 187ms\tremaining: 238ms\n",
      "44:\tlearn: 62173.1576022\ttest: 64167.2901895\tbest: 64167.2901895 (44)\ttotal: 191ms\tremaining: 233ms\n",
      "45:\tlearn: 62014.4815598\ttest: 64017.2046262\tbest: 64017.2046262 (45)\ttotal: 194ms\tremaining: 228ms\n",
      "46:\tlearn: 61943.8010456\ttest: 63973.1704684\tbest: 63973.1704684 (46)\ttotal: 198ms\tremaining: 223ms\n",
      "47:\tlearn: 61762.4572932\ttest: 63847.7598269\tbest: 63847.7598269 (47)\ttotal: 202ms\tremaining: 219ms\n",
      "48:\tlearn: 61556.2398982\ttest: 63861.5024539\tbest: 63847.7598269 (47)\ttotal: 206ms\tremaining: 214ms\n",
      "49:\tlearn: 61495.2665003\ttest: 63793.2447143\tbest: 63793.2447143 (49)\ttotal: 210ms\tremaining: 210ms\n",
      "50:\tlearn: 61384.7255302\ttest: 63702.2209608\tbest: 63702.2209608 (50)\ttotal: 213ms\tremaining: 205ms\n",
      "51:\tlearn: 61371.8198542\ttest: 63699.4522015\tbest: 63699.4522015 (51)\ttotal: 217ms\tremaining: 200ms\n",
      "52:\tlearn: 61295.5355927\ttest: 63698.1682180\tbest: 63698.1682180 (52)\ttotal: 221ms\tremaining: 196ms\n",
      "53:\tlearn: 61128.7749628\ttest: 63678.8131463\tbest: 63678.8131463 (53)\ttotal: 225ms\tremaining: 192ms\n",
      "54:\tlearn: 61012.6200112\ttest: 63527.8614669\tbest: 63527.8614669 (54)\ttotal: 229ms\tremaining: 187ms\n",
      "55:\tlearn: 60903.5458447\ttest: 63467.0400228\tbest: 63467.0400228 (55)\ttotal: 234ms\tremaining: 184ms\n",
      "56:\tlearn: 60812.2154864\ttest: 63423.6785073\tbest: 63423.6785073 (56)\ttotal: 238ms\tremaining: 180ms\n",
      "57:\tlearn: 60749.3356782\ttest: 63423.2862368\tbest: 63423.2862368 (57)\ttotal: 242ms\tremaining: 175ms\n",
      "58:\tlearn: 60683.8730576\ttest: 63378.3079701\tbest: 63378.3079701 (58)\ttotal: 246ms\tremaining: 171ms\n",
      "59:\tlearn: 60637.3794944\ttest: 63364.8435737\tbest: 63364.8435737 (59)\ttotal: 250ms\tremaining: 167ms\n",
      "60:\tlearn: 60585.4219015\ttest: 63331.0036603\tbest: 63331.0036603 (60)\ttotal: 254ms\tremaining: 162ms\n",
      "61:\tlearn: 60552.8894002\ttest: 63292.2634629\tbest: 63292.2634629 (61)\ttotal: 258ms\tremaining: 158ms\n",
      "62:\tlearn: 60492.4600938\ttest: 63289.5496695\tbest: 63289.5496695 (62)\ttotal: 261ms\tremaining: 153ms\n",
      "63:\tlearn: 60416.7458007\ttest: 63223.0678223\tbest: 63223.0678223 (63)\ttotal: 265ms\tremaining: 149ms\n",
      "64:\tlearn: 60297.3421279\ttest: 63219.2155221\tbest: 63219.2155221 (64)\ttotal: 269ms\tremaining: 145ms\n",
      "65:\tlearn: 60230.0040717\ttest: 63199.2529398\tbest: 63199.2529398 (65)\ttotal: 273ms\tremaining: 140ms\n",
      "66:\tlearn: 60032.9758508\ttest: 63078.6374940\tbest: 63078.6374940 (66)\ttotal: 278ms\tremaining: 137ms\n",
      "67:\tlearn: 59890.5599379\ttest: 63029.3938984\tbest: 63029.3938984 (67)\ttotal: 282ms\tremaining: 133ms\n",
      "68:\tlearn: 59765.1915102\ttest: 62934.9958924\tbest: 62934.9958924 (68)\ttotal: 287ms\tremaining: 129ms\n",
      "69:\tlearn: 59707.3514684\ttest: 62908.5938408\tbest: 62908.5938408 (69)\ttotal: 291ms\tremaining: 125ms\n",
      "70:\tlearn: 59610.0922275\ttest: 62925.7649074\tbest: 62908.5938408 (69)\ttotal: 295ms\tremaining: 120ms\n",
      "71:\tlearn: 59570.5131803\ttest: 62912.1591168\tbest: 62908.5938408 (69)\ttotal: 299ms\tremaining: 116ms\n",
      "72:\tlearn: 59535.7032393\ttest: 62887.1704948\tbest: 62887.1704948 (72)\ttotal: 303ms\tremaining: 112ms\n",
      "73:\tlearn: 59385.7484525\ttest: 62817.1571803\tbest: 62817.1571803 (73)\ttotal: 307ms\tremaining: 108ms\n",
      "74:\tlearn: 59347.7258499\ttest: 62788.7166545\tbest: 62788.7166545 (74)\ttotal: 311ms\tremaining: 104ms\n",
      "75:\tlearn: 59287.5982311\ttest: 62742.8966780\tbest: 62742.8966780 (75)\ttotal: 315ms\tremaining: 99.4ms\n",
      "76:\tlearn: 59227.7106150\ttest: 62726.5607614\tbest: 62726.5607614 (76)\ttotal: 320ms\tremaining: 95.5ms\n",
      "77:\tlearn: 59096.0527229\ttest: 62714.5558512\tbest: 62714.5558512 (77)\ttotal: 324ms\tremaining: 91.4ms\n",
      "78:\tlearn: 59017.2213957\ttest: 62710.6531533\tbest: 62710.6531533 (78)\ttotal: 328ms\tremaining: 87.2ms\n",
      "79:\tlearn: 58950.3911954\ttest: 62745.0056219\tbest: 62710.6531533 (78)\ttotal: 332ms\tremaining: 83ms\n",
      "80:\tlearn: 58860.5744579\ttest: 62707.7864328\tbest: 62707.7864328 (80)\ttotal: 337ms\tremaining: 78.9ms\n",
      "81:\tlearn: 58799.9539532\ttest: 62706.4324024\tbest: 62706.4324024 (81)\ttotal: 341ms\tremaining: 74.8ms\n",
      "82:\tlearn: 58764.7989542\ttest: 62723.6983185\tbest: 62706.4324024 (81)\ttotal: 360ms\tremaining: 73.7ms\n",
      "83:\tlearn: 58763.5407324\ttest: 62723.7986533\tbest: 62706.4324024 (81)\ttotal: 364ms\tremaining: 69.3ms\n",
      "84:\tlearn: 58697.6838232\ttest: 62648.5203022\tbest: 62648.5203022 (84)\ttotal: 368ms\tremaining: 64.9ms\n",
      "85:\tlearn: 58646.7751081\ttest: 62637.2050004\tbest: 62637.2050004 (85)\ttotal: 383ms\tremaining: 62.3ms\n",
      "86:\tlearn: 58531.2170325\ttest: 62668.8308248\tbest: 62637.2050004 (85)\ttotal: 390ms\tremaining: 58.2ms\n",
      "87:\tlearn: 58490.8306714\ttest: 62644.4866252\tbest: 62637.2050004 (85)\ttotal: 397ms\tremaining: 54.1ms\n",
      "88:\tlearn: 58434.1118159\ttest: 62651.8784451\tbest: 62637.2050004 (85)\ttotal: 405ms\tremaining: 50.1ms\n",
      "89:\tlearn: 58352.9704916\ttest: 62581.6297821\tbest: 62581.6297821 (89)\ttotal: 412ms\tremaining: 45.8ms\n",
      "90:\tlearn: 58256.1935028\ttest: 62506.9389233\tbest: 62506.9389233 (90)\ttotal: 422ms\tremaining: 41.7ms\n",
      "91:\tlearn: 58198.1305320\ttest: 62500.1687703\tbest: 62500.1687703 (91)\ttotal: 426ms\tremaining: 37ms\n",
      "92:\tlearn: 58120.7696409\ttest: 62496.8286595\tbest: 62496.8286595 (92)\ttotal: 430ms\tremaining: 32.4ms\n",
      "93:\tlearn: 58054.1471352\ttest: 62513.8966282\tbest: 62496.8286595 (92)\ttotal: 434ms\tremaining: 27.7ms\n",
      "94:\tlearn: 57966.5040078\ttest: 62503.3492740\tbest: 62496.8286595 (92)\ttotal: 438ms\tremaining: 23.1ms\n",
      "95:\tlearn: 57897.9819459\ttest: 62545.5865396\tbest: 62496.8286595 (92)\ttotal: 442ms\tremaining: 18.4ms\n",
      "96:\tlearn: 57825.9531102\ttest: 62557.6226572\tbest: 62496.8286595 (92)\ttotal: 446ms\tremaining: 13.8ms\n",
      "97:\tlearn: 57797.2801718\ttest: 62553.2315434\tbest: 62496.8286595 (92)\ttotal: 450ms\tremaining: 9.19ms\n",
      "98:\tlearn: 57758.4984587\ttest: 62542.0574927\tbest: 62496.8286595 (92)\ttotal: 454ms\tremaining: 4.59ms\n",
      "99:\tlearn: 57718.2394629\ttest: 62548.8916838\tbest: 62496.8286595 (92)\ttotal: 459ms\tremaining: 0us\n",
      "\n",
      "bestTest = 62496.82866\n",
      "bestIteration = 92\n",
      "\n",
      "0:\tloss: 62496.8286595\tbest: 62496.8286595 (0)\ttotal: 1.52s\tremaining: 13.7s\n",
      "0:\tlearn: 434333.6544815\ttest: 434807.0826327\tbest: 434807.0826327 (0)\ttotal: 4.72ms\tremaining: 467ms\n",
      "1:\tlearn: 430230.7597739\ttest: 430704.6710774\tbest: 430704.6710774 (1)\ttotal: 8.72ms\tremaining: 427ms\n",
      "2:\tlearn: 426161.7967576\ttest: 426633.5035678\tbest: 426633.5035678 (2)\ttotal: 12.6ms\tremaining: 408ms\n",
      "3:\tlearn: 422137.5193971\ttest: 422604.8528595\tbest: 422604.8528595 (3)\ttotal: 16.9ms\tremaining: 406ms\n",
      "4:\tlearn: 418192.8595253\ttest: 418657.9028414\tbest: 418657.9028414 (4)\ttotal: 20.8ms\tremaining: 396ms\n",
      "5:\tlearn: 414307.3883323\ttest: 414769.3311863\tbest: 414769.3311863 (5)\ttotal: 24.7ms\tremaining: 387ms\n",
      "6:\tlearn: 410425.4022788\ttest: 410891.9808044\tbest: 410891.9808044 (6)\ttotal: 28.6ms\tremaining: 380ms\n",
      "7:\tlearn: 406549.9550095\ttest: 407015.6633237\tbest: 407015.6633237 (7)\ttotal: 32.4ms\tremaining: 372ms\n",
      "8:\tlearn: 402703.0764126\ttest: 403173.8328547\tbest: 403173.8328547 (8)\ttotal: 36.6ms\tremaining: 370ms\n",
      "9:\tlearn: 398927.9846286\ttest: 399403.2827801\tbest: 399403.2827801 (9)\ttotal: 40.4ms\tremaining: 364ms\n",
      "10:\tlearn: 395175.2970820\ttest: 395647.5262810\tbest: 395647.5262810 (10)\ttotal: 45.6ms\tremaining: 369ms\n",
      "11:\tlearn: 391461.8189096\ttest: 391929.4323731\tbest: 391929.4323731 (11)\ttotal: 69.2ms\tremaining: 508ms\n",
      "12:\tlearn: 387794.3038672\ttest: 388257.2887214\tbest: 388257.2887214 (12)\ttotal: 79.7ms\tremaining: 533ms\n",
      "13:\tlearn: 384153.0798008\ttest: 384612.8446150\tbest: 384612.8446150 (13)\ttotal: 83.6ms\tremaining: 514ms\n",
      "14:\tlearn: 380563.8398008\ttest: 381016.7182944\tbest: 381016.7182944 (14)\ttotal: 87.4ms\tremaining: 495ms\n",
      "15:\tlearn: 377006.3731784\ttest: 377456.8404830\tbest: 377456.8404830 (15)\ttotal: 93.6ms\tremaining: 491ms\n",
      "16:\tlearn: 373532.5828732\ttest: 373980.5253303\tbest: 373980.5253303 (16)\ttotal: 97.7ms\tremaining: 477ms\n",
      "17:\tlearn: 370092.0140067\ttest: 370535.1796021\tbest: 370535.1796021 (17)\ttotal: 102ms\tremaining: 463ms\n",
      "18:\tlearn: 366645.2218602\ttest: 367087.4682556\tbest: 367087.4682556 (18)\ttotal: 105ms\tremaining: 450ms\n",
      "19:\tlearn: 363233.2085622\ttest: 363680.3999932\tbest: 363680.3999932 (19)\ttotal: 110ms\tremaining: 439ms\n",
      "20:\tlearn: 359854.8432083\ttest: 360301.5889357\tbest: 360301.5889357 (20)\ttotal: 114ms\tremaining: 427ms\n",
      "21:\tlearn: 356488.6017196\ttest: 356933.2082688\tbest: 356933.2082688 (21)\ttotal: 118ms\tremaining: 419ms\n",
      "22:\tlearn: 353221.1579004\ttest: 353659.2394485\tbest: 353659.2394485 (22)\ttotal: 122ms\tremaining: 409ms\n",
      "23:\tlearn: 349958.1529029\ttest: 350392.1570230\tbest: 350392.1570230 (23)\ttotal: 126ms\tremaining: 400ms\n",
      "24:\tlearn: 346722.1279984\ttest: 347154.5160527\tbest: 347154.5160527 (24)\ttotal: 130ms\tremaining: 391ms\n",
      "25:\tlearn: 343514.1645525\ttest: 343947.0963661\tbest: 343947.0963661 (25)\ttotal: 134ms\tremaining: 382ms\n",
      "26:\tlearn: 340397.4050090\ttest: 340827.2735619\tbest: 340827.2735619 (26)\ttotal: 138ms\tremaining: 374ms\n",
      "27:\tlearn: 337262.1171849\ttest: 337691.4945376\tbest: 337691.4945376 (27)\ttotal: 142ms\tremaining: 366ms\n",
      "28:\tlearn: 334210.8100771\ttest: 334636.3558011\tbest: 334636.3558011 (28)\ttotal: 147ms\tremaining: 359ms\n",
      "29:\tlearn: 331132.4766213\ttest: 331552.6179754\tbest: 331552.6179754 (29)\ttotal: 150ms\tremaining: 351ms\n",
      "30:\tlearn: 328098.7705161\ttest: 328517.3606525\tbest: 328517.3606525 (30)\ttotal: 153ms\tremaining: 340ms\n",
      "31:\tlearn: 325061.4765318\ttest: 325485.1221197\tbest: 325485.1221197 (31)\ttotal: 157ms\tremaining: 333ms\n",
      "32:\tlearn: 322088.4413789\ttest: 322514.9231387\tbest: 322514.9231387 (32)\ttotal: 161ms\tremaining: 326ms\n",
      "33:\tlearn: 319150.3088204\ttest: 319571.2467759\tbest: 319571.2467759 (33)\ttotal: 165ms\tremaining: 320ms\n",
      "34:\tlearn: 316240.1085954\ttest: 316664.6437607\tbest: 316664.6437607 (34)\ttotal: 169ms\tremaining: 313ms\n",
      "35:\tlearn: 313384.0806044\ttest: 313802.3907681\tbest: 313802.3907681 (35)\ttotal: 172ms\tremaining: 307ms\n",
      "36:\tlearn: 310530.2075210\ttest: 310949.7135270\tbest: 310949.7135270 (36)\ttotal: 176ms\tremaining: 300ms\n",
      "37:\tlearn: 307712.6453286\ttest: 308126.6150243\tbest: 308126.6150243 (37)\ttotal: 180ms\tremaining: 294ms\n",
      "38:\tlearn: 304908.8217672\ttest: 305325.1940804\tbest: 305325.1940804 (38)\ttotal: 184ms\tremaining: 288ms\n",
      "39:\tlearn: 302126.9813201\ttest: 302545.4592457\tbest: 302545.4592457 (39)\ttotal: 188ms\tremaining: 282ms\n",
      "40:\tlearn: 299365.2055826\ttest: 299785.0448641\tbest: 299785.0448641 (40)\ttotal: 192ms\tremaining: 277ms\n",
      "41:\tlearn: 296649.8742013\ttest: 297073.7879945\tbest: 297073.7879945 (41)\ttotal: 197ms\tremaining: 272ms\n",
      "42:\tlearn: 293956.7948831\ttest: 294379.3805932\tbest: 294379.3805932 (42)\ttotal: 202ms\tremaining: 267ms\n",
      "43:\tlearn: 291315.1203584\ttest: 291732.7514784\tbest: 291732.7514784 (43)\ttotal: 207ms\tremaining: 263ms\n",
      "44:\tlearn: 288681.7485879\ttest: 289091.6910044\tbest: 289091.6910044 (44)\ttotal: 211ms\tremaining: 258ms\n",
      "45:\tlearn: 286097.5025104\ttest: 286501.8665367\tbest: 286501.8665367 (45)\ttotal: 215ms\tremaining: 253ms\n",
      "46:\tlearn: 283546.2767722\ttest: 283954.9472400\tbest: 283954.9472400 (46)\ttotal: 219ms\tremaining: 247ms\n",
      "47:\tlearn: 280991.1259765\ttest: 281403.6050499\tbest: 281403.6050499 (47)\ttotal: 223ms\tremaining: 242ms\n",
      "48:\tlearn: 278467.7727268\ttest: 278885.9910623\tbest: 278885.9910623 (48)\ttotal: 227ms\tremaining: 237ms\n",
      "49:\tlearn: 276023.6375993\ttest: 276442.3218206\tbest: 276442.3218206 (49)\ttotal: 231ms\tremaining: 231ms\n",
      "50:\tlearn: 273557.2819745\ttest: 273975.0859659\tbest: 273975.0859659 (50)\ttotal: 235ms\tremaining: 226ms\n",
      "51:\tlearn: 271122.6710447\ttest: 271545.4184344\tbest: 271545.4184344 (51)\ttotal: 239ms\tremaining: 221ms\n",
      "52:\tlearn: 268715.1865942\ttest: 269137.7126685\tbest: 269137.7126685 (52)\ttotal: 243ms\tremaining: 216ms\n",
      "53:\tlearn: 266319.1254709\ttest: 266742.4240285\tbest: 266742.4240285 (53)\ttotal: 247ms\tremaining: 211ms\n",
      "54:\tlearn: 263950.3168360\ttest: 264373.3708618\tbest: 264373.3708618 (54)\ttotal: 251ms\tremaining: 206ms\n",
      "55:\tlearn: 261611.0425058\ttest: 262034.2666833\tbest: 262034.2666833 (55)\ttotal: 256ms\tremaining: 201ms\n",
      "56:\tlearn: 259317.7440940\ttest: 259743.9776426\tbest: 259743.9776426 (56)\ttotal: 260ms\tremaining: 196ms\n",
      "57:\tlearn: 257041.2826212\ttest: 257468.0494726\tbest: 257468.0494726 (57)\ttotal: 264ms\tremaining: 191ms\n",
      "58:\tlearn: 254780.6216278\ttest: 255208.1937943\tbest: 255208.1937943 (58)\ttotal: 268ms\tremaining: 186ms\n",
      "59:\tlearn: 252553.5891472\ttest: 252981.6188169\tbest: 252981.6188169 (59)\ttotal: 272ms\tremaining: 181ms\n",
      "60:\tlearn: 250349.7416124\ttest: 250771.5836258\tbest: 250771.5836258 (60)\ttotal: 276ms\tremaining: 176ms\n",
      "61:\tlearn: 248170.9251767\ttest: 248594.0018571\tbest: 248594.0018571 (61)\ttotal: 280ms\tremaining: 171ms\n",
      "62:\tlearn: 246043.9781827\ttest: 246461.1479160\tbest: 246461.1479160 (62)\ttotal: 282ms\tremaining: 166ms\n",
      "63:\tlearn: 243919.8039414\ttest: 244334.6408363\tbest: 244334.6408363 (63)\ttotal: 286ms\tremaining: 161ms\n",
      "64:\tlearn: 241809.0737127\ttest: 242221.3072346\tbest: 242221.3072346 (64)\ttotal: 290ms\tremaining: 156ms\n",
      "65:\tlearn: 239715.7581040\ttest: 240130.3889424\tbest: 240130.3889424 (65)\ttotal: 294ms\tremaining: 152ms\n",
      "66:\tlearn: 237656.0182823\ttest: 238065.2328288\tbest: 238065.2328288 (66)\ttotal: 298ms\tremaining: 147ms\n",
      "67:\tlearn: 235604.4262870\ttest: 236013.9959735\tbest: 236013.9959735 (67)\ttotal: 302ms\tremaining: 142ms\n",
      "68:\tlearn: 233576.7282005\ttest: 233988.7370288\tbest: 233988.7370288 (68)\ttotal: 306ms\tremaining: 137ms\n",
      "69:\tlearn: 231572.5479730\ttest: 231978.3305593\tbest: 231978.3305593 (69)\ttotal: 310ms\tremaining: 133ms\n",
      "70:\tlearn: 229605.8331789\ttest: 230014.4892364\tbest: 230014.4892364 (70)\ttotal: 314ms\tremaining: 128ms\n",
      "71:\tlearn: 227661.1403236\ttest: 228069.3801505\tbest: 228069.3801505 (71)\ttotal: 318ms\tremaining: 124ms\n",
      "72:\tlearn: 225765.0505885\ttest: 226165.1806716\tbest: 226165.1806716 (72)\ttotal: 322ms\tremaining: 119ms\n",
      "73:\tlearn: 223862.3819443\ttest: 224264.6827449\tbest: 224264.6827449 (73)\ttotal: 326ms\tremaining: 114ms\n",
      "74:\tlearn: 221967.7261873\ttest: 222369.5408260\tbest: 222369.5408260 (74)\ttotal: 329ms\tremaining: 110ms\n",
      "75:\tlearn: 220090.9554575\ttest: 220489.5585168\tbest: 220489.5585168 (75)\ttotal: 333ms\tremaining: 105ms\n",
      "76:\tlearn: 218267.0838769\ttest: 218660.5769200\tbest: 218660.5769200 (76)\ttotal: 336ms\tremaining: 100ms\n",
      "77:\tlearn: 216453.1739510\ttest: 216841.5891026\tbest: 216841.5891026 (77)\ttotal: 340ms\tremaining: 96ms\n",
      "78:\tlearn: 214658.5025743\ttest: 215041.1597352\tbest: 215041.1597352 (78)\ttotal: 344ms\tremaining: 91.5ms\n",
      "79:\tlearn: 212865.1000906\ttest: 213245.0837805\tbest: 213245.0837805 (79)\ttotal: 349ms\tremaining: 87.1ms\n",
      "80:\tlearn: 211066.4010847\ttest: 211444.7738224\tbest: 211444.7738224 (80)\ttotal: 353ms\tremaining: 82.9ms\n",
      "81:\tlearn: 209304.5597822\ttest: 209685.2232309\tbest: 209685.2232309 (81)\ttotal: 357ms\tremaining: 78.5ms\n",
      "82:\tlearn: 207557.2284156\ttest: 207938.6316757\tbest: 207938.6316757 (82)\ttotal: 361ms\tremaining: 74ms\n",
      "83:\tlearn: 205848.7229034\ttest: 206229.8306336\tbest: 206229.8306336 (83)\ttotal: 365ms\tremaining: 69.6ms\n",
      "84:\tlearn: 204174.7936578\ttest: 204557.7269010\tbest: 204557.7269010 (84)\ttotal: 369ms\tremaining: 65.1ms\n",
      "85:\tlearn: 202490.7082391\ttest: 202874.5496815\tbest: 202874.5496815 (85)\ttotal: 373ms\tremaining: 60.7ms\n",
      "86:\tlearn: 200842.3233972\ttest: 201228.0294770\tbest: 201228.0294770 (86)\ttotal: 377ms\tremaining: 56.3ms\n",
      "87:\tlearn: 199212.9172721\ttest: 199593.8001003\tbest: 199593.8001003 (87)\ttotal: 380ms\tremaining: 51.9ms\n",
      "88:\tlearn: 197581.8681039\ttest: 197963.4868128\tbest: 197963.4868128 (88)\ttotal: 384ms\tremaining: 47.5ms\n",
      "89:\tlearn: 195969.4798369\ttest: 196348.2635363\tbest: 196348.2635363 (89)\ttotal: 388ms\tremaining: 43.1ms\n",
      "90:\tlearn: 194379.1993399\ttest: 194759.4813860\tbest: 194759.4813860 (90)\ttotal: 392ms\tremaining: 38.7ms\n",
      "91:\tlearn: 192807.0778079\ttest: 193186.9257746\tbest: 193186.9257746 (91)\ttotal: 395ms\tremaining: 34.4ms\n",
      "92:\tlearn: 191267.6691375\ttest: 191645.5928254\tbest: 191645.5928254 (92)\ttotal: 399ms\tremaining: 30.1ms\n",
      "93:\tlearn: 189752.4345057\ttest: 190125.8836464\tbest: 190125.8836464 (93)\ttotal: 402ms\tremaining: 25.7ms\n",
      "94:\tlearn: 188247.3125287\ttest: 188616.2033626\tbest: 188616.2033626 (94)\ttotal: 406ms\tremaining: 21.4ms\n",
      "95:\tlearn: 186753.3815916\ttest: 187122.4409374\tbest: 187122.4409374 (95)\ttotal: 412ms\tremaining: 17.1ms\n",
      "96:\tlearn: 185279.2240753\ttest: 185642.6123141\tbest: 185642.6123141 (96)\ttotal: 416ms\tremaining: 12.9ms\n",
      "97:\tlearn: 183795.0106583\ttest: 184154.6509477\tbest: 184154.6509477 (97)\ttotal: 420ms\tremaining: 8.57ms\n",
      "98:\tlearn: 182337.0789608\ttest: 182693.3639205\tbest: 182693.3639205 (98)\ttotal: 424ms\tremaining: 4.29ms\n",
      "99:\tlearn: 180901.9935150\ttest: 181256.5841704\tbest: 181256.5841704 (99)\ttotal: 428ms\tremaining: 0us\n",
      "\n",
      "bestTest = 181256.5842\n",
      "bestIteration = 99\n",
      "\n",
      "1:\tloss: 181256.5841704\tbest: 62496.8286595 (0)\ttotal: 1.96s\tremaining: 7.85s\n",
      "0:\tlearn: 434307.5765394\ttest: 434783.9869929\tbest: 434783.9869929 (0)\ttotal: 13ms\tremaining: 1.29s\n",
      "1:\tlearn: 430168.7765419\ttest: 430648.7220102\tbest: 430648.7220102 (1)\ttotal: 18ms\tremaining: 883ms\n",
      "2:\tlearn: 426070.0662958\ttest: 426547.2929911\tbest: 426547.2929911 (2)\ttotal: 22.8ms\tremaining: 737ms\n",
      "3:\tlearn: 422004.3210621\ttest: 422485.6604508\tbest: 422485.6604508 (3)\ttotal: 27.5ms\tremaining: 660ms\n",
      "4:\tlearn: 418050.9306847\ttest: 418529.6586502\tbest: 418529.6586502 (4)\ttotal: 32.4ms\tremaining: 615ms\n",
      "5:\tlearn: 414067.4584314\ttest: 414548.8624938\tbest: 414548.8624938 (5)\ttotal: 37.2ms\tremaining: 582ms\n",
      "6:\tlearn: 410119.0142225\ttest: 410597.9662513\tbest: 410597.9662513 (6)\ttotal: 41.6ms\tremaining: 553ms\n",
      "7:\tlearn: 406214.0071444\ttest: 406696.2762728\tbest: 406696.2762728 (7)\ttotal: 46.2ms\tremaining: 531ms\n",
      "8:\tlearn: 402372.5293805\ttest: 402849.8622359\tbest: 402849.8622359 (8)\ttotal: 50ms\tremaining: 506ms\n",
      "9:\tlearn: 398601.1612208\ttest: 399071.3468972\tbest: 399071.3468972 (9)\ttotal: 61.5ms\tremaining: 553ms\n",
      "10:\tlearn: 394817.6604237\ttest: 395287.6907695\tbest: 395287.6907695 (10)\ttotal: 67.4ms\tremaining: 545ms\n",
      "11:\tlearn: 391090.8997146\ttest: 391558.1980938\tbest: 391558.1980938 (11)\ttotal: 70.9ms\tremaining: 520ms\n",
      "12:\tlearn: 387409.0622817\ttest: 387870.7127650\tbest: 387870.7127650 (12)\ttotal: 76ms\tremaining: 509ms\n",
      "13:\tlearn: 383759.6849593\ttest: 384219.2230004\tbest: 384219.2230004 (13)\ttotal: 80.7ms\tremaining: 496ms\n",
      "14:\tlearn: 380147.6727762\ttest: 380611.6910698\tbest: 380611.6910698 (14)\ttotal: 85.3ms\tremaining: 483ms\n",
      "15:\tlearn: 376621.7471385\ttest: 377083.7563773\tbest: 377083.7563773 (15)\ttotal: 89.9ms\tremaining: 472ms\n",
      "16:\tlearn: 373094.3779652\ttest: 373560.0841652\tbest: 373560.0841652 (16)\ttotal: 95.1ms\tremaining: 464ms\n",
      "17:\tlearn: 369588.6003590\ttest: 370058.2575383\tbest: 370058.2575383 (17)\ttotal: 99.6ms\tremaining: 454ms\n",
      "18:\tlearn: 366097.9011010\ttest: 366566.8841607\tbest: 366566.8841607 (18)\ttotal: 104ms\tremaining: 443ms\n",
      "19:\tlearn: 362707.7460560\ttest: 363170.3448057\tbest: 363170.3448057 (19)\ttotal: 108ms\tremaining: 433ms\n",
      "20:\tlearn: 359324.5064048\ttest: 359784.2516432\tbest: 359784.2516432 (20)\ttotal: 113ms\tremaining: 424ms\n",
      "21:\tlearn: 355967.5986787\ttest: 356430.1023764\tbest: 356430.1023764 (21)\ttotal: 117ms\tremaining: 416ms\n",
      "22:\tlearn: 352678.9126106\ttest: 353132.7367673\tbest: 353132.7367673 (22)\ttotal: 122ms\tremaining: 408ms\n",
      "23:\tlearn: 349384.6742415\ttest: 349837.2802894\tbest: 349837.2802894 (23)\ttotal: 127ms\tremaining: 402ms\n",
      "24:\tlearn: 346178.5847933\ttest: 346628.4522868\tbest: 346628.4522868 (24)\ttotal: 132ms\tremaining: 395ms\n",
      "25:\tlearn: 342959.6172726\ttest: 343406.1554549\tbest: 343406.1554549 (25)\ttotal: 136ms\tremaining: 388ms\n",
      "26:\tlearn: 339742.9385784\ttest: 340193.0810701\tbest: 340193.0810701 (26)\ttotal: 141ms\tremaining: 382ms\n",
      "27:\tlearn: 336588.0727861\ttest: 337036.0588577\tbest: 337036.0588577 (27)\ttotal: 147ms\tremaining: 378ms\n",
      "28:\tlearn: 333458.7830555\ttest: 333907.3942550\tbest: 333907.3942550 (28)\ttotal: 152ms\tremaining: 373ms\n",
      "29:\tlearn: 330340.7668212\ttest: 330788.2730760\tbest: 330788.2730760 (29)\ttotal: 157ms\tremaining: 367ms\n",
      "30:\tlearn: 327283.7720194\ttest: 327729.7924951\tbest: 327729.7924951 (30)\ttotal: 162ms\tremaining: 360ms\n",
      "31:\tlearn: 324263.5603321\ttest: 324711.5919385\tbest: 324711.5919385 (31)\ttotal: 166ms\tremaining: 353ms\n",
      "32:\tlearn: 321243.7134351\ttest: 321695.3345428\tbest: 321695.3345428 (32)\ttotal: 171ms\tremaining: 348ms\n",
      "33:\tlearn: 318274.9212618\ttest: 318719.4702839\tbest: 318719.4702839 (33)\ttotal: 176ms\tremaining: 342ms\n",
      "34:\tlearn: 315351.2134335\ttest: 315790.0547428\tbest: 315790.0547428 (34)\ttotal: 181ms\tremaining: 335ms\n",
      "35:\tlearn: 312440.1956634\ttest: 312879.5078529\tbest: 312879.5078529 (35)\ttotal: 185ms\tremaining: 329ms\n",
      "36:\tlearn: 309610.7494733\ttest: 310043.1639893\tbest: 310043.1639893 (36)\ttotal: 190ms\tremaining: 323ms\n",
      "37:\tlearn: 306767.6752008\ttest: 307199.7617449\tbest: 307199.7617449 (37)\ttotal: 194ms\tremaining: 317ms\n",
      "38:\tlearn: 303968.4590032\ttest: 304401.3763632\tbest: 304401.3763632 (38)\ttotal: 199ms\tremaining: 311ms\n",
      "39:\tlearn: 301193.9087040\ttest: 301628.4361882\tbest: 301628.4361882 (39)\ttotal: 204ms\tremaining: 306ms\n",
      "40:\tlearn: 298438.7920223\ttest: 298880.2108972\tbest: 298880.2108972 (40)\ttotal: 208ms\tremaining: 300ms\n",
      "41:\tlearn: 295725.4072026\ttest: 296163.4118245\tbest: 296163.4118245 (41)\ttotal: 211ms\tremaining: 292ms\n",
      "42:\tlearn: 293029.0122870\ttest: 293475.4112345\tbest: 293475.4112345 (42)\ttotal: 216ms\tremaining: 286ms\n",
      "43:\tlearn: 290345.2700036\ttest: 290790.1245625\tbest: 290790.1245625 (43)\ttotal: 220ms\tremaining: 280ms\n",
      "44:\tlearn: 287743.8050732\ttest: 288185.1684295\tbest: 288185.1684295 (44)\ttotal: 225ms\tremaining: 275ms\n",
      "45:\tlearn: 285144.1039526\ttest: 285579.5806632\tbest: 285579.5806632 (45)\ttotal: 230ms\tremaining: 269ms\n",
      "46:\tlearn: 282556.9669280\ttest: 282995.8365875\tbest: 282995.8365875 (46)\ttotal: 234ms\tremaining: 264ms\n",
      "47:\tlearn: 280005.8871350\ttest: 280448.2194243\tbest: 280448.2194243 (47)\ttotal: 241ms\tremaining: 261ms\n",
      "48:\tlearn: 277503.1880995\ttest: 277949.7793828\tbest: 277949.7793828 (48)\ttotal: 244ms\tremaining: 254ms\n",
      "49:\tlearn: 275033.2639711\ttest: 275478.0367140\tbest: 275478.0367140 (49)\ttotal: 246ms\tremaining: 246ms\n",
      "50:\tlearn: 272560.3125113\ttest: 273006.7231032\tbest: 273006.7231032 (50)\ttotal: 251ms\tremaining: 241ms\n",
      "51:\tlearn: 270103.0882093\ttest: 270550.5146279\tbest: 270550.5146279 (51)\ttotal: 256ms\tremaining: 237ms\n",
      "52:\tlearn: 267696.0439669\ttest: 268144.2888757\tbest: 268144.2888757 (52)\ttotal: 264ms\tremaining: 234ms\n",
      "53:\tlearn: 265320.2454686\ttest: 265763.8334205\tbest: 265763.8334205 (53)\ttotal: 269ms\tremaining: 229ms\n",
      "54:\tlearn: 262966.0573878\ttest: 263407.2713747\tbest: 263407.2713747 (54)\ttotal: 273ms\tremaining: 223ms\n",
      "55:\tlearn: 260628.5711670\ttest: 261071.8960204\tbest: 261071.8960204 (55)\ttotal: 276ms\tremaining: 217ms\n",
      "56:\tlearn: 258304.2589986\ttest: 258749.3891998\tbest: 258749.3891998 (56)\ttotal: 280ms\tremaining: 212ms\n",
      "57:\tlearn: 256016.6255967\ttest: 256464.3441383\tbest: 256464.3441383 (57)\ttotal: 285ms\tremaining: 206ms\n",
      "58:\tlearn: 253757.1027653\ttest: 254198.3975305\tbest: 254198.3975305 (58)\ttotal: 290ms\tremaining: 201ms\n",
      "59:\tlearn: 251571.6660938\ttest: 252008.1749358\tbest: 252008.1749358 (59)\ttotal: 294ms\tremaining: 196ms\n",
      "60:\tlearn: 249359.4665066\ttest: 249791.0744309\tbest: 249791.0744309 (60)\ttotal: 299ms\tremaining: 191ms\n",
      "61:\tlearn: 247135.9066845\ttest: 247567.8917519\tbest: 247567.8917519 (61)\ttotal: 304ms\tremaining: 186ms\n",
      "62:\tlearn: 244952.1355056\ttest: 245383.9292007\tbest: 245383.9292007 (62)\ttotal: 308ms\tremaining: 181ms\n",
      "63:\tlearn: 242816.6514126\ttest: 243250.8836953\tbest: 243250.8836953 (63)\ttotal: 313ms\tremaining: 176ms\n",
      "64:\tlearn: 240711.9618351\ttest: 241146.4717003\tbest: 241146.4717003 (64)\ttotal: 317ms\tremaining: 171ms\n",
      "65:\tlearn: 238582.4798634\ttest: 239018.8739027\tbest: 239018.8739027 (65)\ttotal: 322ms\tremaining: 166ms\n",
      "66:\tlearn: 236507.5657539\ttest: 236938.9838846\tbest: 236938.9838846 (66)\ttotal: 327ms\tremaining: 161ms\n",
      "67:\tlearn: 234462.8599945\ttest: 234888.8936913\tbest: 234888.8936913 (67)\ttotal: 332ms\tremaining: 156ms\n",
      "68:\tlearn: 232428.1764971\ttest: 232853.8733644\tbest: 232853.8733644 (68)\ttotal: 336ms\tremaining: 151ms\n",
      "69:\tlearn: 230453.6508344\ttest: 230873.4354004\tbest: 230873.4354004 (69)\ttotal: 341ms\tremaining: 146ms\n",
      "70:\tlearn: 228455.1601174\ttest: 228875.4095321\tbest: 228875.4095321 (70)\ttotal: 346ms\tremaining: 141ms\n",
      "71:\tlearn: 226480.0498937\ttest: 226902.7773227\tbest: 226902.7773227 (71)\ttotal: 351ms\tremaining: 137ms\n",
      "72:\tlearn: 224550.1006722\ttest: 224969.3347085\tbest: 224969.3347085 (72)\ttotal: 355ms\tremaining: 131ms\n",
      "73:\tlearn: 222627.7779843\ttest: 223042.2348438\tbest: 223042.2348438 (73)\ttotal: 360ms\tremaining: 126ms\n",
      "74:\tlearn: 220729.1633903\ttest: 221138.8637004\tbest: 221138.8637004 (74)\ttotal: 364ms\tremaining: 121ms\n",
      "75:\tlearn: 218848.6884527\ttest: 219255.7822184\tbest: 219255.7822184 (75)\ttotal: 373ms\tremaining: 118ms\n",
      "76:\tlearn: 216966.8201014\ttest: 217373.2162953\tbest: 217373.2162953 (76)\ttotal: 384ms\tremaining: 115ms\n",
      "77:\tlearn: 215154.7738707\ttest: 215560.7542193\tbest: 215560.7542193 (77)\ttotal: 395ms\tremaining: 111ms\n",
      "78:\tlearn: 213358.2487857\ttest: 213765.7791403\tbest: 213765.7791403 (78)\ttotal: 402ms\tremaining: 107ms\n",
      "79:\tlearn: 211540.9464243\ttest: 211949.9248407\tbest: 211949.9248407 (79)\ttotal: 407ms\tremaining: 102ms\n",
      "80:\tlearn: 209754.8382667\ttest: 210160.5888151\tbest: 210160.5888151 (80)\ttotal: 411ms\tremaining: 96.5ms\n",
      "81:\tlearn: 207996.6101528\ttest: 208399.2283687\tbest: 208399.2283687 (81)\ttotal: 416ms\tremaining: 91.3ms\n",
      "82:\tlearn: 206252.3213520\ttest: 206650.4240653\tbest: 206650.4240653 (82)\ttotal: 420ms\tremaining: 86.1ms\n",
      "83:\tlearn: 204539.7460299\ttest: 204939.8043398\tbest: 204939.8043398 (83)\ttotal: 425ms\tremaining: 81ms\n",
      "84:\tlearn: 202838.1342451\ttest: 203240.8285590\tbest: 203240.8285590 (84)\ttotal: 430ms\tremaining: 75.8ms\n",
      "85:\tlearn: 201153.0921393\ttest: 201555.4834455\tbest: 201555.4834455 (85)\ttotal: 435ms\tremaining: 70.7ms\n",
      "86:\tlearn: 199505.8529615\ttest: 199904.2711600\tbest: 199904.2711600 (86)\ttotal: 439ms\tremaining: 65.6ms\n",
      "87:\tlearn: 197854.8354827\ttest: 198252.4722773\tbest: 198252.4722773 (87)\ttotal: 443ms\tremaining: 60.4ms\n",
      "88:\tlearn: 196250.6876775\ttest: 196644.8060821\tbest: 196644.8060821 (88)\ttotal: 447ms\tremaining: 55.3ms\n",
      "89:\tlearn: 194651.6906524\ttest: 195045.7069757\tbest: 195045.7069757 (89)\ttotal: 452ms\tremaining: 50.2ms\n",
      "90:\tlearn: 193083.8940212\ttest: 193476.3184887\tbest: 193476.3184887 (90)\ttotal: 456ms\tremaining: 45.1ms\n",
      "91:\tlearn: 191501.3954610\ttest: 191893.0813288\tbest: 191893.0813288 (91)\ttotal: 461ms\tremaining: 40.1ms\n",
      "92:\tlearn: 189945.4705162\ttest: 190338.8043654\tbest: 190338.8043654 (92)\ttotal: 472ms\tremaining: 35.5ms\n",
      "93:\tlearn: 188398.0813332\ttest: 188791.6204277\tbest: 188791.6204277 (93)\ttotal: 479ms\tremaining: 30.6ms\n",
      "94:\tlearn: 186906.1200497\ttest: 187299.6892755\tbest: 187299.6892755 (94)\ttotal: 483ms\tremaining: 25.4ms\n",
      "95:\tlearn: 185386.7545190\ttest: 185781.9482676\tbest: 185781.9482676 (95)\ttotal: 488ms\tremaining: 20.3ms\n",
      "96:\tlearn: 183907.4461537\ttest: 184302.7540384\tbest: 184302.7540384 (96)\ttotal: 493ms\tremaining: 15.2ms\n",
      "97:\tlearn: 182464.0220725\ttest: 182858.1414385\tbest: 182858.1414385 (97)\ttotal: 497ms\tremaining: 10.1ms\n",
      "98:\tlearn: 181030.4274844\ttest: 181421.2202499\tbest: 181421.2202499 (98)\ttotal: 502ms\tremaining: 5.07ms\n",
      "99:\tlearn: 179600.5234903\ttest: 179990.2468223\tbest: 179990.2468223 (99)\ttotal: 507ms\tremaining: 0us\n",
      "\n",
      "bestTest = 179990.2468\n",
      "bestIteration = 99\n",
      "\n",
      "2:\tloss: 179990.2468223\tbest: 62496.8286595 (0)\ttotal: 2.48s\tremaining: 5.78s\n",
      "0:\tlearn: 96091.6949067\ttest: 95788.2236609\tbest: 95788.2236609 (0)\ttotal: 5ms\tremaining: 496ms\n",
      "1:\tlearn: 80741.7524582\ttest: 80906.1244486\tbest: 80906.1244486 (1)\ttotal: 9.98ms\tremaining: 489ms\n",
      "2:\tlearn: 74338.2125303\ttest: 75023.9869164\tbest: 75023.9869164 (2)\ttotal: 15.2ms\tremaining: 491ms\n",
      "3:\tlearn: 72080.5538990\ttest: 72237.8145123\tbest: 72237.8145123 (3)\ttotal: 19.8ms\tremaining: 475ms\n",
      "4:\tlearn: 70515.5296189\ttest: 70526.3692861\tbest: 70526.3692861 (4)\ttotal: 25.1ms\tremaining: 476ms\n",
      "5:\tlearn: 69778.6344535\ttest: 69838.2686674\tbest: 69838.2686674 (5)\ttotal: 29.8ms\tremaining: 467ms\n",
      "6:\tlearn: 69374.1628398\ttest: 69376.4133302\tbest: 69376.4133302 (6)\ttotal: 34.3ms\tremaining: 456ms\n",
      "7:\tlearn: 68615.9693617\ttest: 68728.5569265\tbest: 68728.5569265 (7)\ttotal: 39ms\tremaining: 448ms\n",
      "8:\tlearn: 67949.1614226\ttest: 68196.2210469\tbest: 68196.2210469 (8)\ttotal: 43.8ms\tremaining: 443ms\n",
      "9:\tlearn: 67439.5763980\ttest: 67675.0578192\tbest: 67675.0578192 (9)\ttotal: 48.5ms\tremaining: 437ms\n",
      "10:\tlearn: 67281.4236306\ttest: 67538.5008061\tbest: 67538.5008061 (10)\ttotal: 53ms\tremaining: 428ms\n",
      "11:\tlearn: 66899.9953303\ttest: 67215.2616854\tbest: 67215.2616854 (11)\ttotal: 57.5ms\tremaining: 421ms\n",
      "12:\tlearn: 66162.5035533\ttest: 66651.4942601\tbest: 66651.4942601 (12)\ttotal: 62.1ms\tremaining: 416ms\n",
      "13:\tlearn: 65724.0160020\ttest: 66376.7856911\tbest: 66376.7856911 (13)\ttotal: 66.8ms\tremaining: 410ms\n",
      "14:\tlearn: 65296.0367492\ttest: 66059.3440865\tbest: 66059.3440865 (14)\ttotal: 71.4ms\tremaining: 405ms\n",
      "15:\tlearn: 65046.0813243\ttest: 65954.7212445\tbest: 65954.7212445 (15)\ttotal: 76.1ms\tremaining: 399ms\n",
      "16:\tlearn: 64730.6888193\ttest: 65838.8905642\tbest: 65838.8905642 (16)\ttotal: 80.7ms\tremaining: 394ms\n",
      "17:\tlearn: 64503.1728281\ttest: 65760.0835331\tbest: 65760.0835331 (17)\ttotal: 86ms\tremaining: 392ms\n",
      "18:\tlearn: 63997.4594144\ttest: 65324.3645267\tbest: 65324.3645267 (18)\ttotal: 94.6ms\tremaining: 403ms\n",
      "19:\tlearn: 63864.1327606\ttest: 65351.6480230\tbest: 65324.3645267 (18)\ttotal: 99ms\tremaining: 396ms\n",
      "20:\tlearn: 63687.9298600\ttest: 65283.5586970\tbest: 65283.5586970 (20)\ttotal: 104ms\tremaining: 390ms\n",
      "21:\tlearn: 63378.1713111\ttest: 65101.0228919\tbest: 65101.0228919 (21)\ttotal: 108ms\tremaining: 384ms\n",
      "22:\tlearn: 63074.1598756\ttest: 64855.8252140\tbest: 64855.8252140 (22)\ttotal: 113ms\tremaining: 378ms\n",
      "23:\tlearn: 62834.1181490\ttest: 64711.5352427\tbest: 64711.5352427 (23)\ttotal: 118ms\tremaining: 372ms\n",
      "24:\tlearn: 62648.2336368\ttest: 64553.4706555\tbest: 64553.4706555 (24)\ttotal: 122ms\tremaining: 367ms\n",
      "25:\tlearn: 62363.2304037\ttest: 64439.0562902\tbest: 64439.0562902 (25)\ttotal: 127ms\tremaining: 362ms\n",
      "26:\tlearn: 62218.3004604\ttest: 64330.7000387\tbest: 64330.7000387 (26)\ttotal: 132ms\tremaining: 356ms\n",
      "27:\tlearn: 62108.5912999\ttest: 64345.4709696\tbest: 64330.7000387 (26)\ttotal: 136ms\tremaining: 350ms\n",
      "28:\tlearn: 61847.6646588\ttest: 64322.8109886\tbest: 64322.8109886 (28)\ttotal: 142ms\tremaining: 347ms\n",
      "29:\tlearn: 61690.9473203\ttest: 64295.4935139\tbest: 64295.4935139 (29)\ttotal: 146ms\tremaining: 341ms\n",
      "30:\tlearn: 61571.2729433\ttest: 64275.4618557\tbest: 64275.4618557 (30)\ttotal: 151ms\tremaining: 336ms\n",
      "31:\tlearn: 61392.7299104\ttest: 64072.0826352\tbest: 64072.0826352 (31)\ttotal: 155ms\tremaining: 330ms\n",
      "32:\tlearn: 61239.4692865\ttest: 64053.9760754\tbest: 64053.9760754 (32)\ttotal: 160ms\tremaining: 325ms\n",
      "33:\tlearn: 61099.3387256\ttest: 64005.0260421\tbest: 64005.0260421 (33)\ttotal: 165ms\tremaining: 319ms\n",
      "34:\tlearn: 60955.2325182\ttest: 63972.7711072\tbest: 63972.7711072 (34)\ttotal: 169ms\tremaining: 314ms\n",
      "35:\tlearn: 60853.7900413\ttest: 63895.3227371\tbest: 63895.3227371 (35)\ttotal: 173ms\tremaining: 308ms\n",
      "36:\tlearn: 60722.1305571\ttest: 63827.8550317\tbest: 63827.8550317 (36)\ttotal: 178ms\tremaining: 303ms\n",
      "37:\tlearn: 60518.0962124\ttest: 63845.1304817\tbest: 63827.8550317 (36)\ttotal: 183ms\tremaining: 298ms\n",
      "38:\tlearn: 60368.3383958\ttest: 63777.4390108\tbest: 63777.4390108 (38)\ttotal: 187ms\tremaining: 293ms\n",
      "39:\tlearn: 60236.7232509\ttest: 63667.5621823\tbest: 63667.5621823 (39)\ttotal: 192ms\tremaining: 288ms\n",
      "40:\tlearn: 60120.2125047\ttest: 63564.9185009\tbest: 63564.9185009 (40)\ttotal: 196ms\tremaining: 282ms\n",
      "41:\tlearn: 60035.1748992\ttest: 63574.7156903\tbest: 63564.9185009 (40)\ttotal: 201ms\tremaining: 278ms\n",
      "42:\tlearn: 59899.9141993\ttest: 63516.7703152\tbest: 63516.7703152 (42)\ttotal: 206ms\tremaining: 273ms\n",
      "43:\tlearn: 59715.6915264\ttest: 63615.2985986\tbest: 63516.7703152 (42)\ttotal: 211ms\tremaining: 268ms\n",
      "44:\tlearn: 59573.5327687\ttest: 63534.8325718\tbest: 63516.7703152 (42)\ttotal: 215ms\tremaining: 263ms\n",
      "45:\tlearn: 59412.6811362\ttest: 63463.5767359\tbest: 63463.5767359 (45)\ttotal: 221ms\tremaining: 259ms\n",
      "46:\tlearn: 59330.7813539\ttest: 63444.2367489\tbest: 63444.2367489 (46)\ttotal: 225ms\tremaining: 254ms\n",
      "47:\tlearn: 59211.9848023\ttest: 63474.8516124\tbest: 63444.2367489 (46)\ttotal: 230ms\tremaining: 249ms\n",
      "48:\tlearn: 59130.4857555\ttest: 63508.4787603\tbest: 63444.2367489 (46)\ttotal: 235ms\tremaining: 244ms\n",
      "49:\tlearn: 59030.2261299\ttest: 63435.8979250\tbest: 63435.8979250 (49)\ttotal: 239ms\tremaining: 239ms\n",
      "50:\tlearn: 58967.2823045\ttest: 63420.6196955\tbest: 63420.6196955 (50)\ttotal: 244ms\tremaining: 235ms\n",
      "51:\tlearn: 58826.4173184\ttest: 63351.9276870\tbest: 63351.9276870 (51)\ttotal: 249ms\tremaining: 229ms\n",
      "52:\tlearn: 58675.7428566\ttest: 63352.3459229\tbest: 63351.9276870 (51)\ttotal: 253ms\tremaining: 224ms\n",
      "53:\tlearn: 58524.5094845\ttest: 63414.4003350\tbest: 63351.9276870 (51)\ttotal: 258ms\tremaining: 220ms\n",
      "54:\tlearn: 58440.6951249\ttest: 63381.2783665\tbest: 63351.9276870 (51)\ttotal: 262ms\tremaining: 215ms\n",
      "55:\tlearn: 58386.7586920\ttest: 63345.5953539\tbest: 63345.5953539 (55)\ttotal: 267ms\tremaining: 210ms\n",
      "56:\tlearn: 58273.2192179\ttest: 63315.2836114\tbest: 63315.2836114 (56)\ttotal: 271ms\tremaining: 205ms\n",
      "57:\tlearn: 58181.8150692\ttest: 63354.4807258\tbest: 63315.2836114 (56)\ttotal: 276ms\tremaining: 200ms\n",
      "58:\tlearn: 58050.7771024\ttest: 63316.4251227\tbest: 63315.2836114 (56)\ttotal: 280ms\tremaining: 195ms\n",
      "59:\tlearn: 57876.1418539\ttest: 63221.9735017\tbest: 63221.9735017 (59)\ttotal: 285ms\tremaining: 190ms\n",
      "60:\tlearn: 57789.5203414\ttest: 63181.5467180\tbest: 63181.5467180 (60)\ttotal: 289ms\tremaining: 185ms\n",
      "61:\tlearn: 57708.5930932\ttest: 63184.2743972\tbest: 63181.5467180 (60)\ttotal: 294ms\tremaining: 180ms\n",
      "62:\tlearn: 57634.8213330\ttest: 63173.3786404\tbest: 63173.3786404 (62)\ttotal: 298ms\tremaining: 175ms\n",
      "63:\tlearn: 57576.3640628\ttest: 63213.5677460\tbest: 63173.3786404 (62)\ttotal: 303ms\tremaining: 170ms\n",
      "64:\tlearn: 57494.0270901\ttest: 63234.2877560\tbest: 63173.3786404 (62)\ttotal: 307ms\tremaining: 165ms\n",
      "65:\tlearn: 57375.9093748\ttest: 63204.8994205\tbest: 63173.3786404 (62)\ttotal: 312ms\tremaining: 161ms\n",
      "66:\tlearn: 57320.7154678\ttest: 63245.7306050\tbest: 63173.3786404 (62)\ttotal: 316ms\tremaining: 156ms\n",
      "67:\tlearn: 57202.1555932\ttest: 63239.1172243\tbest: 63173.3786404 (62)\ttotal: 321ms\tremaining: 151ms\n",
      "68:\tlearn: 57095.8965490\ttest: 63241.3947249\tbest: 63173.3786404 (62)\ttotal: 325ms\tremaining: 146ms\n",
      "69:\tlearn: 57029.7485000\ttest: 63193.6202570\tbest: 63173.3786404 (62)\ttotal: 330ms\tremaining: 141ms\n",
      "70:\tlearn: 56973.7304519\ttest: 63178.8305305\tbest: 63173.3786404 (62)\ttotal: 334ms\tremaining: 136ms\n",
      "71:\tlearn: 56871.9095909\ttest: 63193.8015305\tbest: 63173.3786404 (62)\ttotal: 339ms\tremaining: 132ms\n",
      "72:\tlearn: 56798.0312151\ttest: 63151.5447278\tbest: 63151.5447278 (72)\ttotal: 343ms\tremaining: 127ms\n",
      "73:\tlearn: 56680.9043709\ttest: 63217.9061002\tbest: 63151.5447278 (72)\ttotal: 348ms\tremaining: 122ms\n",
      "74:\tlearn: 56588.0648571\ttest: 63225.6189437\tbest: 63151.5447278 (72)\ttotal: 355ms\tremaining: 118ms\n",
      "75:\tlearn: 56539.3691897\ttest: 63206.5501074\tbest: 63151.5447278 (72)\ttotal: 359ms\tremaining: 113ms\n",
      "76:\tlearn: 56439.4996949\ttest: 63212.1643893\tbest: 63151.5447278 (72)\ttotal: 364ms\tremaining: 109ms\n",
      "77:\tlearn: 56395.6109696\ttest: 63178.7024178\tbest: 63151.5447278 (72)\ttotal: 368ms\tremaining: 104ms\n",
      "78:\tlearn: 56347.7520660\ttest: 63119.8699754\tbest: 63119.8699754 (78)\ttotal: 373ms\tremaining: 99.1ms\n",
      "79:\tlearn: 56209.4811760\ttest: 63042.1046683\tbest: 63042.1046683 (79)\ttotal: 379ms\tremaining: 94.7ms\n",
      "80:\tlearn: 56167.1595135\ttest: 62993.9849823\tbest: 62993.9849823 (80)\ttotal: 383ms\tremaining: 89.9ms\n",
      "81:\tlearn: 56049.2420612\ttest: 62952.9463522\tbest: 62952.9463522 (81)\ttotal: 388ms\tremaining: 85.2ms\n",
      "82:\tlearn: 55921.7007800\ttest: 62925.3495412\tbest: 62925.3495412 (82)\ttotal: 393ms\tremaining: 80.4ms\n",
      "83:\tlearn: 55831.0467934\ttest: 62913.7547879\tbest: 62913.7547879 (83)\ttotal: 397ms\tremaining: 75.6ms\n",
      "84:\tlearn: 55757.6208298\ttest: 62895.9549216\tbest: 62895.9549216 (84)\ttotal: 402ms\tremaining: 70.9ms\n",
      "85:\tlearn: 55682.3347018\ttest: 62912.0544574\tbest: 62895.9549216 (84)\ttotal: 406ms\tremaining: 66.2ms\n",
      "86:\tlearn: 55610.7515500\ttest: 62927.9571453\tbest: 62895.9549216 (84)\ttotal: 411ms\tremaining: 61.4ms\n",
      "87:\tlearn: 55518.2389491\ttest: 62976.7441207\tbest: 62895.9549216 (84)\ttotal: 415ms\tremaining: 56.6ms\n",
      "88:\tlearn: 55463.2389901\ttest: 62952.9815149\tbest: 62895.9549216 (84)\ttotal: 420ms\tremaining: 51.9ms\n",
      "89:\tlearn: 55377.1851336\ttest: 62879.6734556\tbest: 62879.6734556 (89)\ttotal: 424ms\tremaining: 47.2ms\n",
      "90:\tlearn: 55258.8029671\ttest: 62920.6269503\tbest: 62879.6734556 (89)\ttotal: 429ms\tremaining: 42.4ms\n",
      "91:\tlearn: 55226.1046018\ttest: 62899.0143702\tbest: 62879.6734556 (89)\ttotal: 433ms\tremaining: 37.7ms\n",
      "92:\tlearn: 55186.8841061\ttest: 62876.1964986\tbest: 62876.1964986 (92)\ttotal: 438ms\tremaining: 33ms\n",
      "93:\tlearn: 55117.9583839\ttest: 62847.5314046\tbest: 62847.5314046 (93)\ttotal: 443ms\tremaining: 28.2ms\n",
      "94:\tlearn: 55010.9914354\ttest: 62843.7331289\tbest: 62843.7331289 (94)\ttotal: 447ms\tremaining: 23.5ms\n",
      "95:\tlearn: 54956.6323331\ttest: 62870.0865612\tbest: 62843.7331289 (94)\ttotal: 452ms\tremaining: 18.8ms\n",
      "96:\tlearn: 54870.2370514\ttest: 62832.0728296\tbest: 62832.0728296 (96)\ttotal: 457ms\tremaining: 14.1ms\n",
      "97:\tlearn: 54768.8526873\ttest: 62783.8518562\tbest: 62783.8518562 (97)\ttotal: 461ms\tremaining: 9.41ms\n",
      "98:\tlearn: 54715.1677116\ttest: 62784.9100535\tbest: 62783.8518562 (97)\ttotal: 466ms\tremaining: 4.71ms\n",
      "99:\tlearn: 54640.2699734\ttest: 62764.2631006\tbest: 62764.2631006 (99)\ttotal: 470ms\tremaining: 0us\n",
      "\n",
      "bestTest = 62764.2631\n",
      "bestIteration = 99\n",
      "\n",
      "3:\tloss: 62764.2631006\tbest: 62496.8286595 (0)\ttotal: 2.96s\tremaining: 4.43s\n",
      "0:\tlearn: 434332.5316199\ttest: 434808.6397663\tbest: 434808.6397663 (0)\ttotal: 4.73ms\tremaining: 468ms\n",
      "1:\tlearn: 430233.9198822\ttest: 430709.9615402\tbest: 430709.9615402 (1)\ttotal: 9.53ms\tremaining: 467ms\n",
      "2:\tlearn: 426204.3614668\ttest: 426685.7353410\tbest: 426685.7353410 (2)\ttotal: 14.1ms\tremaining: 457ms\n",
      "3:\tlearn: 422211.7150807\ttest: 422698.7291332\tbest: 422698.7291332 (3)\ttotal: 18.9ms\tremaining: 453ms\n",
      "4:\tlearn: 418284.5399592\ttest: 418768.4249067\tbest: 418768.4249067 (4)\ttotal: 23.8ms\tremaining: 452ms\n",
      "5:\tlearn: 414357.5815884\ttest: 414844.7727501\tbest: 414844.7727501 (5)\ttotal: 28.3ms\tremaining: 444ms\n",
      "6:\tlearn: 410448.3028920\ttest: 410931.3425108\tbest: 410931.3425108 (6)\ttotal: 32.7ms\tremaining: 435ms\n",
      "7:\tlearn: 406582.8353027\ttest: 407069.1630925\tbest: 407069.1630925 (7)\ttotal: 37.1ms\tremaining: 427ms\n",
      "8:\tlearn: 402748.6356497\ttest: 403229.7600626\tbest: 403229.7600626 (8)\ttotal: 40.7ms\tremaining: 412ms\n",
      "9:\tlearn: 399001.2280393\ttest: 399475.9644446\tbest: 399475.9644446 (9)\ttotal: 45.1ms\tremaining: 406ms\n",
      "10:\tlearn: 395247.0679151\ttest: 395721.0302194\tbest: 395721.0302194 (10)\ttotal: 49.6ms\tremaining: 402ms\n",
      "11:\tlearn: 391527.8654295\ttest: 391999.6838053\tbest: 391999.6838053 (11)\ttotal: 52.8ms\tremaining: 387ms\n",
      "12:\tlearn: 387868.4353536\ttest: 388331.8233337\tbest: 388331.8233337 (12)\ttotal: 57.7ms\tremaining: 386ms\n",
      "13:\tlearn: 384252.7658038\ttest: 384714.7000456\tbest: 384714.7000456 (13)\ttotal: 62.1ms\tremaining: 382ms\n",
      "14:\tlearn: 380659.2617429\ttest: 381125.1915406\tbest: 381125.1915406 (14)\ttotal: 66.5ms\tremaining: 377ms\n",
      "15:\tlearn: 377144.9337471\ttest: 377608.0842941\tbest: 377608.0842941 (15)\ttotal: 72.9ms\tremaining: 383ms\n",
      "16:\tlearn: 373661.2093147\ttest: 374124.9720982\tbest: 374124.9720982 (16)\ttotal: 77.7ms\tremaining: 380ms\n",
      "17:\tlearn: 370196.7096674\ttest: 370664.9204213\tbest: 370664.9204213 (17)\ttotal: 82.3ms\tremaining: 375ms\n",
      "18:\tlearn: 366726.0662692\ttest: 367190.1850099\tbest: 367190.1850099 (18)\ttotal: 87.1ms\tremaining: 371ms\n",
      "19:\tlearn: 363355.0209595\ttest: 363814.1417482\tbest: 363814.1417482 (19)\ttotal: 91.5ms\tremaining: 366ms\n",
      "20:\tlearn: 359980.1196662\ttest: 360436.4562205\tbest: 360436.4562205 (20)\ttotal: 95.8ms\tremaining: 360ms\n",
      "21:\tlearn: 356643.3524181\ttest: 357102.3032406\tbest: 357102.3032406 (21)\ttotal: 100ms\tremaining: 355ms\n",
      "22:\tlearn: 353400.3328172\ttest: 353851.9880456\tbest: 353851.9880456 (22)\ttotal: 105ms\tremaining: 351ms\n",
      "23:\tlearn: 350141.3933856\ttest: 350591.7581494\tbest: 350591.7581494 (23)\ttotal: 109ms\tremaining: 346ms\n",
      "24:\tlearn: 346962.0243385\ttest: 347410.6015575\tbest: 347410.6015575 (24)\ttotal: 114ms\tremaining: 341ms\n",
      "25:\tlearn: 343755.0954090\ttest: 344200.1526417\tbest: 344200.1526417 (25)\ttotal: 118ms\tremaining: 336ms\n",
      "26:\tlearn: 340577.1582823\ttest: 341026.9578227\tbest: 341026.9578227 (26)\ttotal: 123ms\tremaining: 332ms\n",
      "27:\tlearn: 337441.9701524\ttest: 337890.8719816\tbest: 337890.8719816 (27)\ttotal: 127ms\tremaining: 327ms\n",
      "28:\tlearn: 334355.5552684\ttest: 334805.6754742\tbest: 334805.6754742 (28)\ttotal: 132ms\tremaining: 323ms\n",
      "29:\tlearn: 331261.0036371\ttest: 331709.7980671\tbest: 331709.7980671 (29)\ttotal: 136ms\tremaining: 318ms\n",
      "30:\tlearn: 328224.8454939\ttest: 328670.2035539\tbest: 328670.2035539 (30)\ttotal: 141ms\tremaining: 314ms\n",
      "31:\tlearn: 325214.4793218\ttest: 325661.5532850\tbest: 325661.5532850 (31)\ttotal: 145ms\tremaining: 309ms\n",
      "32:\tlearn: 322216.8943427\ttest: 322668.0030087\tbest: 322668.0030087 (32)\ttotal: 150ms\tremaining: 305ms\n",
      "33:\tlearn: 319270.5747249\ttest: 319714.6479388\tbest: 319714.6479388 (33)\ttotal: 155ms\tremaining: 300ms\n",
      "34:\tlearn: 316357.7462830\ttest: 316796.0560906\tbest: 316796.0560906 (34)\ttotal: 159ms\tremaining: 295ms\n",
      "35:\tlearn: 313470.3707707\ttest: 313910.8258384\tbest: 313910.8258384 (35)\ttotal: 165ms\tremaining: 293ms\n",
      "36:\tlearn: 310659.0440521\ttest: 311091.5325091\tbest: 311091.5325091 (36)\ttotal: 169ms\tremaining: 288ms\n",
      "37:\tlearn: 307855.9012209\ttest: 308288.6692878\tbest: 308288.6692878 (37)\ttotal: 174ms\tremaining: 283ms\n",
      "38:\tlearn: 305063.8505646\ttest: 305498.1303945\tbest: 305498.1303945 (38)\ttotal: 178ms\tremaining: 278ms\n",
      "39:\tlearn: 302319.7024117\ttest: 302756.7076749\tbest: 302756.7076749 (39)\ttotal: 182ms\tremaining: 274ms\n",
      "40:\tlearn: 299587.8849427\ttest: 300031.9789594\tbest: 300031.9789594 (40)\ttotal: 187ms\tremaining: 269ms\n",
      "41:\tlearn: 296866.9237241\ttest: 297307.7013637\tbest: 297307.7013637 (41)\ttotal: 189ms\tremaining: 262ms\n",
      "42:\tlearn: 294185.3366604\ttest: 294634.0715770\tbest: 294634.0715770 (42)\ttotal: 194ms\tremaining: 257ms\n",
      "43:\tlearn: 291516.3388384\ttest: 291961.6705125\tbest: 291961.6705125 (43)\ttotal: 198ms\tremaining: 253ms\n",
      "44:\tlearn: 288894.1927006\ttest: 289338.1511273\tbest: 289338.1511273 (44)\ttotal: 203ms\tremaining: 248ms\n",
      "45:\tlearn: 286304.8798220\ttest: 286744.2138601\tbest: 286744.2138601 (45)\ttotal: 207ms\tremaining: 243ms\n",
      "46:\tlearn: 283743.1704561\ttest: 284185.9643390\tbest: 284185.9643390 (46)\ttotal: 212ms\tremaining: 239ms\n",
      "47:\tlearn: 281216.6076051\ttest: 281661.4012624\tbest: 281661.4012624 (47)\ttotal: 216ms\tremaining: 234ms\n",
      "48:\tlearn: 278711.5260019\ttest: 279161.1244414\tbest: 279161.1244414 (48)\ttotal: 220ms\tremaining: 229ms\n",
      "49:\tlearn: 276229.8859505\ttest: 276677.6472825\tbest: 276677.6472825 (49)\ttotal: 223ms\tremaining: 223ms\n",
      "50:\tlearn: 273770.0539136\ttest: 274218.4897909\tbest: 274218.4897909 (50)\ttotal: 227ms\tremaining: 218ms\n",
      "51:\tlearn: 271314.2416569\ttest: 271764.3864264\tbest: 271764.3864264 (51)\ttotal: 233ms\tremaining: 215ms\n",
      "52:\tlearn: 268912.2009028\ttest: 269363.1736471\tbest: 269363.1736471 (52)\ttotal: 238ms\tremaining: 211ms\n",
      "53:\tlearn: 266538.8025846\ttest: 266984.8750846\tbest: 266984.8750846 (53)\ttotal: 243ms\tremaining: 207ms\n",
      "54:\tlearn: 264182.7145165\ttest: 264626.3969170\tbest: 264626.3969170 (54)\ttotal: 247ms\tremaining: 202ms\n",
      "55:\tlearn: 261835.4136435\ttest: 262281.2070819\tbest: 262281.2070819 (55)\ttotal: 249ms\tremaining: 196ms\n",
      "56:\tlearn: 259514.7860372\ttest: 259962.3168250\tbest: 259962.3168250 (56)\ttotal: 254ms\tremaining: 192ms\n",
      "57:\tlearn: 257253.9717709\ttest: 257703.7668557\tbest: 257703.7668557 (57)\ttotal: 259ms\tremaining: 187ms\n",
      "58:\tlearn: 255001.7521638\ttest: 255445.4412877\tbest: 255445.4412877 (58)\ttotal: 263ms\tremaining: 183ms\n",
      "59:\tlearn: 252783.1059359\ttest: 253223.3903239\tbest: 253223.3903239 (59)\ttotal: 268ms\tremaining: 179ms\n",
      "60:\tlearn: 250574.3595917\ttest: 251009.5333197\tbest: 251009.5333197 (60)\ttotal: 275ms\tremaining: 176ms\n",
      "61:\tlearn: 248364.0978982\ttest: 248798.5488619\tbest: 248798.5488619 (61)\ttotal: 279ms\tremaining: 171ms\n",
      "62:\tlearn: 246191.4987073\ttest: 246625.5583330\tbest: 246625.5583330 (62)\ttotal: 284ms\tremaining: 167ms\n",
      "63:\tlearn: 244065.2368653\ttest: 244501.2657063\tbest: 244501.2657063 (63)\ttotal: 289ms\tremaining: 162ms\n",
      "64:\tlearn: 241969.8137909\ttest: 242405.6204909\tbest: 242405.6204909 (64)\ttotal: 294ms\tremaining: 158ms\n",
      "65:\tlearn: 239869.2803200\ttest: 240306.8418968\tbest: 240306.8418968 (65)\ttotal: 299ms\tremaining: 154ms\n",
      "66:\tlearn: 237809.7890162\ttest: 238241.3028073\tbest: 238241.3028073 (66)\ttotal: 304ms\tremaining: 150ms\n",
      "67:\tlearn: 235769.4453613\ttest: 236195.6871530\tbest: 236195.6871530 (67)\ttotal: 308ms\tremaining: 145ms\n",
      "68:\tlearn: 233750.0010763\ttest: 234175.9588774\tbest: 234175.9588774 (68)\ttotal: 313ms\tremaining: 141ms\n",
      "69:\tlearn: 231788.4976959\ttest: 232209.3662743\tbest: 232209.3662743 (69)\ttotal: 318ms\tremaining: 136ms\n",
      "70:\tlearn: 229807.1565741\ttest: 230229.4047670\tbest: 230229.4047670 (70)\ttotal: 323ms\tremaining: 132ms\n",
      "71:\tlearn: 227850.9925518\ttest: 228275.2438294\tbest: 228275.2438294 (71)\ttotal: 327ms\tremaining: 127ms\n",
      "72:\tlearn: 225913.2804442\ttest: 226333.8531660\tbest: 226333.8531660 (72)\ttotal: 331ms\tremaining: 122ms\n",
      "73:\tlearn: 223991.6666644\ttest: 224407.3599142\tbest: 224407.3599142 (73)\ttotal: 336ms\tremaining: 118ms\n",
      "74:\tlearn: 222094.8325518\ttest: 222507.0665604\tbest: 222507.0665604 (74)\ttotal: 340ms\tremaining: 113ms\n",
      "75:\tlearn: 220234.6575912\ttest: 220644.1658358\tbest: 220644.1658358 (75)\ttotal: 345ms\tremaining: 109ms\n",
      "76:\tlearn: 218353.8568218\ttest: 218762.4821418\tbest: 218762.4821418 (76)\ttotal: 349ms\tremaining: 104ms\n",
      "77:\tlearn: 216530.4633401\ttest: 216938.3052141\tbest: 216938.3052141 (77)\ttotal: 353ms\tremaining: 99.5ms\n",
      "78:\tlearn: 214725.6437285\ttest: 215134.8473686\tbest: 215134.8473686 (78)\ttotal: 357ms\tremaining: 94.8ms\n",
      "79:\tlearn: 212909.9012442\ttest: 213319.8820910\tbest: 213319.8820910 (79)\ttotal: 361ms\tremaining: 90.3ms\n",
      "80:\tlearn: 211120.7151125\ttest: 211527.1377999\tbest: 211527.1377999 (80)\ttotal: 366ms\tremaining: 85.8ms\n",
      "81:\tlearn: 209367.4415837\ttest: 209771.8242553\tbest: 209771.8242553 (81)\ttotal: 370ms\tremaining: 81.3ms\n",
      "82:\tlearn: 207625.5347710\ttest: 208025.1031147\tbest: 208025.1031147 (82)\ttotal: 375ms\tremaining: 76.8ms\n",
      "83:\tlearn: 205920.0453578\ttest: 206322.2723975\tbest: 206322.2723975 (83)\ttotal: 379ms\tremaining: 72.3ms\n",
      "84:\tlearn: 204234.5339862\ttest: 204637.7945847\tbest: 204637.7945847 (84)\ttotal: 384ms\tremaining: 67.8ms\n",
      "85:\tlearn: 202578.2221327\ttest: 202982.0151327\tbest: 202982.0151327 (85)\ttotal: 389ms\tremaining: 63.3ms\n",
      "86:\tlearn: 200929.7164905\ttest: 201330.4203830\tbest: 201330.4203830 (86)\ttotal: 393ms\tremaining: 58.8ms\n",
      "87:\tlearn: 199257.0086132\ttest: 199657.9383261\tbest: 199657.9383261 (87)\ttotal: 398ms\tremaining: 54.3ms\n",
      "88:\tlearn: 197644.0650231\ttest: 198041.2378819\tbest: 198041.2378819 (88)\ttotal: 403ms\tremaining: 49.8ms\n",
      "89:\tlearn: 196050.3007636\ttest: 196445.5770570\tbest: 196445.5770570 (89)\ttotal: 408ms\tremaining: 45.3ms\n",
      "90:\tlearn: 194451.7299939\ttest: 194844.8896991\tbest: 194844.8896991 (90)\ttotal: 412ms\tremaining: 40.8ms\n",
      "91:\tlearn: 192891.4765196\ttest: 193280.2234948\tbest: 193280.2234948 (91)\ttotal: 417ms\tremaining: 36.2ms\n",
      "92:\tlearn: 191324.1417808\ttest: 191712.5919645\tbest: 191712.5919645 (92)\ttotal: 421ms\tremaining: 31.7ms\n",
      "93:\tlearn: 189776.8189516\ttest: 190162.3057622\tbest: 190162.3057622 (93)\ttotal: 426ms\tremaining: 27.2ms\n",
      "94:\tlearn: 188267.4388557\ttest: 188653.3582223\tbest: 188653.3582223 (94)\ttotal: 431ms\tremaining: 22.7ms\n",
      "95:\tlearn: 186774.2503760\ttest: 187162.7424598\tbest: 187162.7424598 (95)\ttotal: 436ms\tremaining: 18.2ms\n",
      "96:\tlearn: 185329.4142116\ttest: 185713.0363926\tbest: 185713.0363926 (96)\ttotal: 440ms\tremaining: 13.6ms\n",
      "97:\tlearn: 183871.3842385\ttest: 184251.2197101\tbest: 184251.2197101 (97)\ttotal: 445ms\tremaining: 9.08ms\n",
      "98:\tlearn: 182442.5491497\ttest: 182820.2529207\tbest: 182820.2529207 (98)\ttotal: 450ms\tremaining: 4.54ms\n",
      "99:\tlearn: 181012.1997777\ttest: 181387.5689811\tbest: 181387.5689811 (99)\ttotal: 454ms\tremaining: 0us\n",
      "\n",
      "bestTest = 181387.569\n",
      "bestIteration = 99\n",
      "\n",
      "4:\tloss: 181387.5689811\tbest: 62496.8286595 (0)\ttotal: 3.42s\tremaining: 3.42s\n",
      "0:\tlearn: 396807.8120719\ttest: 397312.1444314\tbest: 397312.1444314 (0)\ttotal: 9.22ms\tremaining: 912ms\n",
      "1:\tlearn: 359509.3115724\ttest: 360062.5200449\tbest: 360062.5200449 (1)\ttotal: 13.7ms\tremaining: 673ms\n",
      "2:\tlearn: 325957.5272152\ttest: 326519.6812670\tbest: 326519.6812670 (2)\ttotal: 19.7ms\tremaining: 638ms\n",
      "3:\tlearn: 295652.8841440\ttest: 296269.4744086\tbest: 296269.4744086 (3)\ttotal: 25.8ms\tremaining: 619ms\n",
      "4:\tlearn: 268823.5626305\ttest: 269407.2425193\tbest: 269407.2425193 (4)\ttotal: 31.4ms\tremaining: 596ms\n",
      "5:\tlearn: 244855.4608482\ttest: 245492.3673890\tbest: 245492.3673890 (5)\ttotal: 36.9ms\tremaining: 579ms\n",
      "6:\tlearn: 223269.0772876\ttest: 223874.0984250\tbest: 223874.0984250 (6)\ttotal: 43.3ms\tremaining: 575ms\n",
      "7:\tlearn: 204664.7430333\ttest: 205209.4201451\tbest: 205209.4201451 (7)\ttotal: 45.5ms\tremaining: 524ms\n",
      "8:\tlearn: 187747.6490346\ttest: 188244.9747446\tbest: 188244.9747446 (8)\ttotal: 51.2ms\tremaining: 518ms\n",
      "9:\tlearn: 172752.8852804\ttest: 173212.2597322\tbest: 173212.2597322 (9)\ttotal: 56.9ms\tremaining: 512ms\n",
      "10:\tlearn: 159555.3002355\ttest: 160027.5443664\tbest: 160027.5443664 (10)\ttotal: 68ms\tremaining: 550ms\n",
      "11:\tlearn: 148198.3183732\ttest: 148625.3774240\tbest: 148625.3774240 (11)\ttotal: 74.8ms\tremaining: 549ms\n",
      "12:\tlearn: 137729.0555507\ttest: 138148.8261443\tbest: 138148.8261443 (12)\ttotal: 84.6ms\tremaining: 566ms\n",
      "13:\tlearn: 128760.4484421\ttest: 129189.6920964\tbest: 129189.6920964 (13)\ttotal: 89.1ms\tremaining: 547ms\n",
      "14:\tlearn: 120770.8296095\ttest: 121180.2819263\tbest: 121180.2819263 (14)\ttotal: 94.8ms\tremaining: 537ms\n",
      "15:\tlearn: 113969.2867165\ttest: 114354.7961677\tbest: 114354.7961677 (15)\ttotal: 101ms\tremaining: 528ms\n",
      "16:\tlearn: 107942.1389126\ttest: 108328.9916557\tbest: 108328.9916557 (16)\ttotal: 106ms\tremaining: 518ms\n",
      "17:\tlearn: 102631.3183663\ttest: 102999.0667221\tbest: 102999.0667221 (17)\ttotal: 112ms\tremaining: 510ms\n",
      "18:\tlearn: 98264.9258851\ttest: 98615.7060252\tbest: 98615.7060252 (18)\ttotal: 118ms\tremaining: 501ms\n",
      "19:\tlearn: 94501.0912223\ttest: 94858.4908151\tbest: 94858.4908151 (19)\ttotal: 123ms\tremaining: 493ms\n",
      "20:\tlearn: 91288.6574383\ttest: 91646.9357474\tbest: 91646.9357474 (20)\ttotal: 129ms\tremaining: 487ms\n",
      "21:\tlearn: 88461.5683680\ttest: 88794.4191986\tbest: 88794.4191986 (21)\ttotal: 146ms\tremaining: 516ms\n",
      "22:\tlearn: 86178.9389613\ttest: 86529.1760182\tbest: 86529.1760182 (22)\ttotal: 157ms\tremaining: 526ms\n",
      "23:\tlearn: 84337.5601015\ttest: 84676.4398350\tbest: 84676.4398350 (23)\ttotal: 163ms\tremaining: 516ms\n",
      "24:\tlearn: 82652.5979971\ttest: 82964.2934011\tbest: 82964.2934011 (24)\ttotal: 169ms\tremaining: 506ms\n",
      "25:\tlearn: 81260.8977470\ttest: 81537.1243296\tbest: 81537.1243296 (25)\ttotal: 174ms\tremaining: 496ms\n",
      "26:\tlearn: 80056.3849578\ttest: 80317.4610975\tbest: 80317.4610975 (26)\ttotal: 180ms\tremaining: 487ms\n",
      "27:\tlearn: 78996.3397564\ttest: 79243.4531992\tbest: 79243.4531992 (27)\ttotal: 186ms\tremaining: 479ms\n",
      "28:\tlearn: 77299.7243430\ttest: 77613.3462526\tbest: 77613.3462526 (28)\ttotal: 192ms\tremaining: 471ms\n",
      "29:\tlearn: 75784.8377614\ttest: 76167.0447280\tbest: 76167.0447280 (29)\ttotal: 198ms\tremaining: 461ms\n",
      "30:\tlearn: 74500.8161708\ttest: 74949.3195342\tbest: 74949.3195342 (30)\ttotal: 203ms\tremaining: 453ms\n",
      "31:\tlearn: 73461.1559029\ttest: 73980.7603844\tbest: 73980.7603844 (31)\ttotal: 209ms\tremaining: 445ms\n",
      "32:\tlearn: 72574.7109164\ttest: 73118.8815187\tbest: 73118.8815187 (32)\ttotal: 215ms\tremaining: 437ms\n",
      "33:\tlearn: 71820.5608923\ttest: 72398.6832356\tbest: 72398.6832356 (33)\ttotal: 221ms\tremaining: 429ms\n",
      "34:\tlearn: 71138.4354523\ttest: 71760.5754582\tbest: 71760.5754582 (34)\ttotal: 227ms\tremaining: 421ms\n",
      "35:\tlearn: 70481.7306999\ttest: 71119.6412260\tbest: 71119.6412260 (35)\ttotal: 232ms\tremaining: 413ms\n",
      "36:\tlearn: 69990.9021565\ttest: 70667.3254647\tbest: 70667.3254647 (36)\ttotal: 238ms\tremaining: 405ms\n",
      "37:\tlearn: 69482.1610127\ttest: 70183.9813518\tbest: 70183.9813518 (37)\ttotal: 243ms\tremaining: 397ms\n",
      "38:\tlearn: 69119.5866973\ttest: 69833.6019943\tbest: 69833.6019943 (38)\ttotal: 249ms\tremaining: 389ms\n",
      "39:\tlearn: 68794.6365337\ttest: 69553.9650036\tbest: 69553.9650036 (39)\ttotal: 255ms\tremaining: 382ms\n",
      "40:\tlearn: 68497.6755535\ttest: 69287.9186090\tbest: 69287.9186090 (40)\ttotal: 262ms\tremaining: 376ms\n",
      "41:\tlearn: 68204.2021080\ttest: 68992.2219669\tbest: 68992.2219669 (41)\ttotal: 268ms\tremaining: 370ms\n",
      "42:\tlearn: 67965.2127641\ttest: 68769.0048902\tbest: 68769.0048902 (42)\ttotal: 274ms\tremaining: 364ms\n",
      "43:\tlearn: 67782.0402748\ttest: 68608.1740704\tbest: 68608.1740704 (43)\ttotal: 280ms\tremaining: 357ms\n",
      "44:\tlearn: 67546.1689408\ttest: 68358.9712156\tbest: 68358.9712156 (44)\ttotal: 287ms\tremaining: 351ms\n",
      "45:\tlearn: 67399.7154721\ttest: 68226.6234469\tbest: 68226.6234469 (45)\ttotal: 294ms\tremaining: 345ms\n",
      "46:\tlearn: 67236.0998433\ttest: 68089.0284288\tbest: 68089.0284288 (46)\ttotal: 300ms\tremaining: 338ms\n",
      "47:\tlearn: 67059.1115527\ttest: 67906.7694241\tbest: 67906.7694241 (47)\ttotal: 305ms\tremaining: 331ms\n",
      "48:\tlearn: 66882.9195922\ttest: 67732.7208862\tbest: 67732.7208862 (48)\ttotal: 311ms\tremaining: 324ms\n",
      "49:\tlearn: 66735.5317947\ttest: 67622.1146898\tbest: 67622.1146898 (49)\ttotal: 317ms\tremaining: 317ms\n",
      "50:\tlearn: 66583.8997603\ttest: 67469.6332996\tbest: 67469.6332996 (50)\ttotal: 323ms\tremaining: 310ms\n",
      "51:\tlearn: 66471.8992310\ttest: 67367.1457222\tbest: 67367.1457222 (51)\ttotal: 328ms\tremaining: 303ms\n",
      "52:\tlearn: 66356.7147831\ttest: 67251.3748907\tbest: 67251.3748907 (52)\ttotal: 334ms\tremaining: 296ms\n",
      "53:\tlearn: 66294.3409576\ttest: 67198.9497045\tbest: 67198.9497045 (53)\ttotal: 340ms\tremaining: 289ms\n",
      "54:\tlearn: 66168.3991294\ttest: 67107.6100064\tbest: 67107.6100064 (54)\ttotal: 345ms\tremaining: 283ms\n",
      "55:\tlearn: 66071.6546635\ttest: 66997.8224604\tbest: 66997.8224604 (55)\ttotal: 351ms\tremaining: 276ms\n",
      "56:\tlearn: 65960.6276869\ttest: 66898.5614753\tbest: 66898.5614753 (56)\ttotal: 357ms\tremaining: 270ms\n",
      "57:\tlearn: 65896.1905086\ttest: 66832.1145929\tbest: 66832.1145929 (57)\ttotal: 363ms\tremaining: 263ms\n",
      "58:\tlearn: 65757.0862391\ttest: 66686.7503553\tbest: 66686.7503553 (58)\ttotal: 369ms\tremaining: 256ms\n",
      "59:\tlearn: 65676.5946551\ttest: 66605.0130090\tbest: 66605.0130090 (59)\ttotal: 374ms\tremaining: 249ms\n",
      "60:\tlearn: 65587.3921773\ttest: 66526.4548462\tbest: 66526.4548462 (60)\ttotal: 380ms\tremaining: 243ms\n",
      "61:\tlearn: 65536.0077123\ttest: 66489.4562054\tbest: 66489.4562054 (61)\ttotal: 385ms\tremaining: 236ms\n",
      "62:\tlearn: 65438.4329637\ttest: 66397.9285943\tbest: 66397.9285943 (62)\ttotal: 391ms\tremaining: 230ms\n",
      "63:\tlearn: 65355.1895122\ttest: 66327.6931837\tbest: 66327.6931837 (63)\ttotal: 397ms\tremaining: 223ms\n",
      "64:\tlearn: 65299.3067804\ttest: 66275.6058176\tbest: 66275.6058176 (64)\ttotal: 402ms\tremaining: 217ms\n",
      "65:\tlearn: 65250.3709142\ttest: 66240.4059682\tbest: 66240.4059682 (65)\ttotal: 408ms\tremaining: 210ms\n",
      "66:\tlearn: 65124.3352638\ttest: 66117.5382393\tbest: 66117.5382393 (66)\ttotal: 417ms\tremaining: 205ms\n",
      "67:\tlearn: 65094.3373438\ttest: 66092.8512958\tbest: 66092.8512958 (67)\ttotal: 422ms\tremaining: 199ms\n",
      "68:\tlearn: 65046.4949234\ttest: 66049.8151141\tbest: 66049.8151141 (68)\ttotal: 429ms\tremaining: 193ms\n",
      "69:\tlearn: 64992.0451019\ttest: 66005.8225090\tbest: 66005.8225090 (69)\ttotal: 434ms\tremaining: 186ms\n",
      "70:\tlearn: 64973.8962837\ttest: 65988.9866477\tbest: 65988.9866477 (70)\ttotal: 440ms\tremaining: 180ms\n",
      "71:\tlearn: 64923.6269861\ttest: 65931.1626235\tbest: 65931.1626235 (71)\ttotal: 445ms\tremaining: 173ms\n",
      "72:\tlearn: 64873.3574037\ttest: 65891.2998773\tbest: 65891.2998773 (72)\ttotal: 452ms\tremaining: 167ms\n",
      "73:\tlearn: 64813.9971667\ttest: 65840.6425082\tbest: 65840.6425082 (73)\ttotal: 458ms\tremaining: 161ms\n",
      "74:\tlearn: 64765.4601478\ttest: 65793.8070329\tbest: 65793.8070329 (74)\ttotal: 463ms\tremaining: 154ms\n",
      "75:\tlearn: 64719.0919545\ttest: 65755.7862254\tbest: 65755.7862254 (75)\ttotal: 469ms\tremaining: 148ms\n",
      "76:\tlearn: 64640.5380630\ttest: 65684.8692663\tbest: 65684.8692663 (76)\ttotal: 475ms\tremaining: 142ms\n",
      "77:\tlearn: 64603.1749528\ttest: 65646.4485762\tbest: 65646.4485762 (77)\ttotal: 481ms\tremaining: 136ms\n",
      "78:\tlearn: 64553.1168784\ttest: 65612.0466931\tbest: 65612.0466931 (78)\ttotal: 487ms\tremaining: 129ms\n",
      "79:\tlearn: 64435.5449427\ttest: 65498.9437057\tbest: 65498.9437057 (79)\ttotal: 493ms\tremaining: 123ms\n",
      "80:\tlearn: 64380.4798671\ttest: 65441.8907534\tbest: 65441.8907534 (80)\ttotal: 498ms\tremaining: 117ms\n",
      "81:\tlearn: 64297.8654128\ttest: 65373.1232479\tbest: 65373.1232479 (81)\ttotal: 504ms\tremaining: 111ms\n",
      "82:\tlearn: 64265.3682610\ttest: 65351.7597075\tbest: 65351.7597075 (82)\ttotal: 510ms\tremaining: 104ms\n",
      "83:\tlearn: 64226.6410476\ttest: 65312.7140404\tbest: 65312.7140404 (83)\ttotal: 516ms\tremaining: 98.3ms\n",
      "84:\tlearn: 64183.7725384\ttest: 65281.4949680\tbest: 65281.4949680 (84)\ttotal: 522ms\tremaining: 92ms\n",
      "85:\tlearn: 64146.4832883\ttest: 65247.8860021\tbest: 65247.8860021 (85)\ttotal: 527ms\tremaining: 85.8ms\n",
      "86:\tlearn: 64116.6520715\ttest: 65218.6391498\tbest: 65218.6391498 (86)\ttotal: 533ms\tremaining: 79.6ms\n",
      "87:\tlearn: 64060.1319513\ttest: 65176.2988367\tbest: 65176.2988367 (87)\ttotal: 538ms\tremaining: 73.4ms\n",
      "88:\tlearn: 64019.9959903\ttest: 65142.8939169\tbest: 65142.8939169 (88)\ttotal: 544ms\tremaining: 67.2ms\n",
      "89:\tlearn: 64008.2797734\ttest: 65135.7934347\tbest: 65135.7934347 (89)\ttotal: 549ms\tremaining: 61ms\n",
      "90:\tlearn: 63965.3855180\ttest: 65098.2641519\tbest: 65098.2641519 (90)\ttotal: 555ms\tremaining: 54.9ms\n",
      "91:\tlearn: 63924.4345437\ttest: 65049.3414339\tbest: 65049.3414339 (91)\ttotal: 560ms\tremaining: 48.7ms\n",
      "92:\tlearn: 63901.1007919\ttest: 65033.9726746\tbest: 65033.9726746 (92)\ttotal: 566ms\tremaining: 42.6ms\n",
      "93:\tlearn: 63772.9953143\ttest: 64922.5387663\tbest: 64922.5387663 (93)\ttotal: 572ms\tremaining: 36.5ms\n",
      "94:\tlearn: 63714.2667911\ttest: 64871.9469958\tbest: 64871.9469958 (94)\ttotal: 578ms\tremaining: 30.4ms\n",
      "95:\tlearn: 63684.3282775\ttest: 64849.2039986\tbest: 64849.2039986 (95)\ttotal: 584ms\tremaining: 24.3ms\n",
      "96:\tlearn: 63656.7911906\ttest: 64822.9871898\tbest: 64822.9871898 (96)\ttotal: 590ms\tremaining: 18.2ms\n",
      "97:\tlearn: 63611.4918182\ttest: 64784.8336892\tbest: 64784.8336892 (97)\ttotal: 595ms\tremaining: 12.1ms\n",
      "98:\tlearn: 63556.5603613\ttest: 64752.7060629\tbest: 64752.7060629 (98)\ttotal: 602ms\tremaining: 6.08ms\n",
      "99:\tlearn: 63476.0408947\ttest: 64693.9236427\tbest: 64693.9236427 (99)\ttotal: 611ms\tremaining: 0us\n",
      "\n",
      "bestTest = 64693.92364\n",
      "bestIteration = 99\n",
      "\n",
      "5:\tloss: 64693.9236427\tbest: 62496.8286595 (0)\ttotal: 4.04s\tremaining: 2.69s\n",
      "0:\tlearn: 396927.6425438\ttest: 397430.1501886\tbest: 397430.1501886 (0)\ttotal: 13ms\tremaining: 1.29s\n",
      "1:\tlearn: 359661.8149409\ttest: 360213.2503631\tbest: 360213.2503631 (1)\ttotal: 17.2ms\tremaining: 843ms\n",
      "2:\tlearn: 326236.5684486\ttest: 326798.1425706\tbest: 326798.1425706 (2)\ttotal: 23.4ms\tremaining: 756ms\n",
      "3:\tlearn: 295992.7380003\ttest: 296603.9006023\tbest: 296603.9006023 (3)\ttotal: 29.6ms\tremaining: 710ms\n",
      "4:\tlearn: 269232.9669519\ttest: 269811.7250164\tbest: 269811.7250164 (4)\ttotal: 35.1ms\tremaining: 666ms\n",
      "5:\tlearn: 245328.1775771\ttest: 245960.6811682\tbest: 245960.6811682 (5)\ttotal: 40.7ms\tremaining: 638ms\n",
      "6:\tlearn: 223801.1583991\ttest: 224402.5741174\tbest: 224402.5741174 (6)\ttotal: 47.3ms\tremaining: 628ms\n",
      "7:\tlearn: 205141.5288120\ttest: 205682.1066201\tbest: 205682.1066201 (7)\ttotal: 49.6ms\tremaining: 571ms\n",
      "8:\tlearn: 188264.0660131\ttest: 188755.2146462\tbest: 188755.2146462 (8)\ttotal: 55.5ms\tremaining: 561ms\n",
      "9:\tlearn: 173299.1236018\ttest: 173752.5296929\tbest: 173752.5296929 (9)\ttotal: 61.2ms\tremaining: 551ms\n",
      "10:\tlearn: 160097.6992890\ttest: 160571.8610974\tbest: 160571.8610974 (10)\ttotal: 67.7ms\tremaining: 548ms\n",
      "11:\tlearn: 148685.1656396\ttest: 149113.7742903\tbest: 149113.7742903 (11)\ttotal: 71.1ms\tremaining: 521ms\n",
      "12:\tlearn: 138213.2667872\ttest: 138634.1348398\tbest: 138634.1348398 (12)\ttotal: 77ms\tremaining: 515ms\n",
      "13:\tlearn: 129203.9032311\ttest: 129634.0945817\tbest: 129634.0945817 (13)\ttotal: 81.6ms\tremaining: 501ms\n",
      "14:\tlearn: 121191.1772499\ttest: 121600.5295406\tbest: 121600.5295406 (14)\ttotal: 93.1ms\tremaining: 528ms\n",
      "15:\tlearn: 114377.4645329\ttest: 114764.4402315\tbest: 114764.4402315 (15)\ttotal: 99.5ms\tremaining: 522ms\n",
      "16:\tlearn: 108326.6818881\ttest: 108716.3016984\tbest: 108716.3016984 (16)\ttotal: 106ms\tremaining: 516ms\n",
      "17:\tlearn: 103182.9292981\ttest: 103540.7167336\tbest: 103540.7167336 (17)\ttotal: 111ms\tremaining: 507ms\n",
      "18:\tlearn: 98752.2674067\ttest: 99094.7444216\tbest: 99094.7444216 (18)\ttotal: 121ms\tremaining: 516ms\n",
      "19:\tlearn: 94940.9109744\ttest: 95288.5015078\tbest: 95288.5015078 (19)\ttotal: 128ms\tremaining: 510ms\n",
      "20:\tlearn: 91703.4400407\ttest: 92047.7219306\tbest: 92047.7219306 (20)\ttotal: 134ms\tremaining: 504ms\n",
      "21:\tlearn: 88831.1373381\ttest: 89149.9429502\tbest: 89149.9429502 (21)\ttotal: 141ms\tremaining: 499ms\n",
      "22:\tlearn: 86530.4019746\ttest: 86865.0719064\tbest: 86865.0719064 (22)\ttotal: 146ms\tremaining: 489ms\n",
      "23:\tlearn: 84628.0440442\ttest: 84956.1527347\tbest: 84956.1527347 (23)\ttotal: 152ms\tremaining: 481ms\n",
      "24:\tlearn: 82920.3751951\ttest: 83221.0599055\tbest: 83221.0599055 (24)\ttotal: 157ms\tremaining: 472ms\n",
      "25:\tlearn: 81401.3947505\ttest: 81695.0968029\tbest: 81695.0968029 (25)\ttotal: 162ms\tremaining: 462ms\n",
      "26:\tlearn: 80185.6143662\ttest: 80464.5271801\tbest: 80464.5271801 (26)\ttotal: 168ms\tremaining: 453ms\n",
      "27:\tlearn: 79111.3556021\ttest: 79373.5745193\tbest: 79373.5745193 (27)\ttotal: 173ms\tremaining: 446ms\n",
      "28:\tlearn: 77429.5716487\ttest: 77722.9693860\tbest: 77722.9693860 (28)\ttotal: 179ms\tremaining: 438ms\n",
      "29:\tlearn: 75915.2461405\ttest: 76293.5317704\tbest: 76293.5317704 (29)\ttotal: 185ms\tremaining: 431ms\n",
      "30:\tlearn: 74617.1643027\ttest: 75056.3835290\tbest: 75056.3835290 (30)\ttotal: 191ms\tremaining: 424ms\n",
      "31:\tlearn: 73573.9977639\ttest: 74082.0489039\tbest: 74082.0489039 (31)\ttotal: 196ms\tremaining: 416ms\n",
      "32:\tlearn: 72765.4573879\ttest: 73293.5605512\tbest: 73293.5605512 (32)\ttotal: 202ms\tremaining: 411ms\n",
      "33:\tlearn: 72001.4658070\ttest: 72547.3354179\tbest: 72547.3354179 (33)\ttotal: 208ms\tremaining: 403ms\n",
      "34:\tlearn: 71472.0984850\ttest: 72029.3842701\tbest: 72029.3842701 (34)\ttotal: 211ms\tremaining: 392ms\n",
      "35:\tlearn: 70871.4797891\ttest: 71473.6149624\tbest: 71473.6149624 (35)\ttotal: 217ms\tremaining: 385ms\n",
      "36:\tlearn: 70336.6360304\ttest: 70930.8657201\tbest: 70930.8657201 (36)\ttotal: 222ms\tremaining: 377ms\n",
      "37:\tlearn: 69873.0799262\ttest: 70500.0274554\tbest: 70500.0274554 (37)\ttotal: 227ms\tremaining: 370ms\n",
      "38:\tlearn: 69514.8029690\ttest: 70166.4070423\tbest: 70166.4070423 (38)\ttotal: 232ms\tremaining: 363ms\n",
      "39:\tlearn: 69194.4064984\ttest: 69847.7743406\tbest: 69847.7743406 (39)\ttotal: 237ms\tremaining: 356ms\n",
      "40:\tlearn: 68911.2176239\ttest: 69592.2299921\tbest: 69592.2299921 (40)\ttotal: 242ms\tremaining: 349ms\n",
      "41:\tlearn: 68599.2249953\ttest: 69296.6298045\tbest: 69296.6298045 (41)\ttotal: 249ms\tremaining: 344ms\n",
      "42:\tlearn: 68298.9615665\ttest: 68975.6749914\tbest: 68975.6749914 (42)\ttotal: 267ms\tremaining: 354ms\n",
      "43:\tlearn: 68081.0228181\ttest: 68785.1860658\tbest: 68785.1860658 (43)\ttotal: 294ms\tremaining: 374ms\n",
      "44:\tlearn: 67838.8278744\ttest: 68552.5769653\tbest: 68552.5769653 (44)\ttotal: 300ms\tremaining: 367ms\n",
      "45:\tlearn: 67611.4383816\ttest: 68312.7313434\tbest: 68312.7313434 (45)\ttotal: 305ms\tremaining: 359ms\n",
      "46:\tlearn: 67492.6508011\ttest: 68194.0479156\tbest: 68194.0479156 (46)\ttotal: 311ms\tremaining: 351ms\n",
      "47:\tlearn: 67320.8415368\ttest: 67999.1060355\tbest: 67999.1060355 (47)\ttotal: 316ms\tremaining: 343ms\n",
      "48:\tlearn: 67156.0053986\ttest: 67839.7113040\tbest: 67839.7113040 (48)\ttotal: 322ms\tremaining: 335ms\n",
      "49:\tlearn: 66955.2239909\ttest: 67654.6350765\tbest: 67654.6350765 (49)\ttotal: 328ms\tremaining: 328ms\n",
      "50:\tlearn: 66838.9021478\ttest: 67526.9189412\tbest: 67526.9189412 (50)\ttotal: 334ms\tremaining: 321ms\n",
      "51:\tlearn: 66726.9733944\ttest: 67451.9732435\tbest: 67451.9732435 (51)\ttotal: 340ms\tremaining: 314ms\n",
      "52:\tlearn: 66649.0667667\ttest: 67389.5787983\tbest: 67389.5787983 (52)\ttotal: 345ms\tremaining: 306ms\n",
      "53:\tlearn: 66490.5983111\ttest: 67242.1203255\tbest: 67242.1203255 (53)\ttotal: 351ms\tremaining: 299ms\n",
      "54:\tlearn: 66364.7225071\ttest: 67130.7234488\tbest: 67130.7234488 (54)\ttotal: 357ms\tremaining: 292ms\n",
      "55:\tlearn: 66252.9991607\ttest: 67034.2775555\tbest: 67034.2775555 (55)\ttotal: 362ms\tremaining: 285ms\n",
      "56:\tlearn: 66127.7474291\ttest: 66920.7228651\tbest: 66920.7228651 (56)\ttotal: 368ms\tremaining: 278ms\n",
      "57:\tlearn: 66018.9663889\ttest: 66842.1213363\tbest: 66842.1213363 (57)\ttotal: 374ms\tremaining: 270ms\n",
      "58:\tlearn: 65895.5530012\ttest: 66709.1145919\tbest: 66709.1145919 (58)\ttotal: 379ms\tremaining: 264ms\n",
      "59:\tlearn: 65849.6248108\ttest: 66670.3303062\tbest: 66670.3303062 (59)\ttotal: 385ms\tremaining: 257ms\n",
      "60:\tlearn: 65826.4299297\ttest: 66643.9397418\tbest: 66643.9397418 (60)\ttotal: 388ms\tremaining: 248ms\n",
      "61:\tlearn: 65769.1211168\ttest: 66601.3618821\tbest: 66601.3618821 (61)\ttotal: 394ms\tremaining: 241ms\n",
      "62:\tlearn: 65699.6040809\ttest: 66546.9852599\tbest: 66546.9852599 (62)\ttotal: 399ms\tremaining: 234ms\n",
      "63:\tlearn: 65664.5608344\ttest: 66523.1206654\tbest: 66523.1206654 (63)\ttotal: 404ms\tremaining: 227ms\n",
      "64:\tlearn: 65571.3613200\ttest: 66429.9128978\tbest: 66429.9128978 (64)\ttotal: 410ms\tremaining: 221ms\n",
      "65:\tlearn: 65513.6305671\ttest: 66380.5383805\tbest: 66380.5383805 (65)\ttotal: 415ms\tremaining: 214ms\n",
      "66:\tlearn: 65442.2009761\ttest: 66313.2636916\tbest: 66313.2636916 (66)\ttotal: 421ms\tremaining: 207ms\n",
      "67:\tlearn: 65388.2667050\ttest: 66266.9448682\tbest: 66266.9448682 (67)\ttotal: 427ms\tremaining: 201ms\n",
      "68:\tlearn: 65315.0063307\ttest: 66206.4043582\tbest: 66206.4043582 (68)\ttotal: 433ms\tremaining: 194ms\n",
      "69:\tlearn: 65220.5575570\ttest: 66106.2885459\tbest: 66106.2885459 (69)\ttotal: 438ms\tremaining: 188ms\n",
      "70:\tlearn: 65173.7299011\ttest: 66064.0463095\tbest: 66064.0463095 (70)\ttotal: 444ms\tremaining: 181ms\n",
      "71:\tlearn: 65091.0446200\ttest: 65992.1831391\tbest: 65992.1831391 (71)\ttotal: 449ms\tremaining: 175ms\n",
      "72:\tlearn: 65037.4341771\ttest: 65945.7106290\tbest: 65945.7106290 (72)\ttotal: 455ms\tremaining: 168ms\n",
      "73:\tlearn: 64985.3989330\ttest: 65918.6743286\tbest: 65918.6743286 (73)\ttotal: 460ms\tremaining: 162ms\n",
      "74:\tlearn: 64872.2717954\ttest: 65830.3777501\tbest: 65830.3777501 (74)\ttotal: 466ms\tremaining: 155ms\n",
      "75:\tlearn: 64808.8322812\ttest: 65779.0672749\tbest: 65779.0672749 (75)\ttotal: 472ms\tremaining: 149ms\n",
      "76:\tlearn: 64723.1076806\ttest: 65710.6249244\tbest: 65710.6249244 (76)\ttotal: 477ms\tremaining: 143ms\n",
      "77:\tlearn: 64688.1847957\ttest: 65680.4874890\tbest: 65680.4874890 (77)\ttotal: 483ms\tremaining: 136ms\n",
      "78:\tlearn: 64656.7433641\ttest: 65648.4628058\tbest: 65648.4628058 (78)\ttotal: 488ms\tremaining: 130ms\n",
      "79:\tlearn: 64603.6125098\ttest: 65593.4523941\tbest: 65593.4523941 (79)\ttotal: 493ms\tremaining: 123ms\n",
      "80:\tlearn: 64536.9152008\ttest: 65553.4594452\tbest: 65553.4594452 (80)\ttotal: 499ms\tremaining: 117ms\n",
      "81:\tlearn: 64463.2379174\ttest: 65493.8286610\tbest: 65493.8286610 (81)\ttotal: 507ms\tremaining: 111ms\n",
      "82:\tlearn: 64436.2328015\ttest: 65454.0358319\tbest: 65454.0358319 (82)\ttotal: 512ms\tremaining: 105ms\n",
      "83:\tlearn: 64397.2284442\ttest: 65428.5922867\tbest: 65428.5922867 (83)\ttotal: 518ms\tremaining: 98.6ms\n",
      "84:\tlearn: 64310.5327994\ttest: 65334.6069404\tbest: 65334.6069404 (84)\ttotal: 523ms\tremaining: 92.3ms\n",
      "85:\tlearn: 64252.6934412\ttest: 65285.1735934\tbest: 65285.1735934 (85)\ttotal: 529ms\tremaining: 86ms\n",
      "86:\tlearn: 64193.7502872\ttest: 65237.2442001\tbest: 65237.2442001 (86)\ttotal: 534ms\tremaining: 79.8ms\n",
      "87:\tlearn: 64171.0123688\ttest: 65216.5627789\tbest: 65216.5627789 (87)\ttotal: 539ms\tremaining: 73.5ms\n",
      "88:\tlearn: 64140.9278114\ttest: 65192.5654005\tbest: 65192.5654005 (88)\ttotal: 544ms\tremaining: 67.3ms\n",
      "89:\tlearn: 64095.1966067\ttest: 65144.0689509\tbest: 65144.0689509 (89)\ttotal: 550ms\tremaining: 61.1ms\n",
      "90:\tlearn: 64059.7563324\ttest: 65107.0758125\tbest: 65107.0758125 (90)\ttotal: 555ms\tremaining: 54.9ms\n",
      "91:\tlearn: 64028.2327711\ttest: 65089.6935129\tbest: 65089.6935129 (91)\ttotal: 560ms\tremaining: 48.7ms\n",
      "92:\tlearn: 63973.1895837\ttest: 65044.0420585\tbest: 65044.0420585 (92)\ttotal: 566ms\tremaining: 42.6ms\n",
      "93:\tlearn: 63949.1755342\ttest: 65016.0857216\tbest: 65016.0857216 (93)\ttotal: 571ms\tremaining: 36.4ms\n",
      "94:\tlearn: 63909.6220587\ttest: 64990.6815534\tbest: 64990.6815534 (94)\ttotal: 576ms\tremaining: 30.3ms\n",
      "95:\tlearn: 63889.4900830\ttest: 64978.0417455\tbest: 64978.0417455 (95)\ttotal: 581ms\tremaining: 24.2ms\n",
      "96:\tlearn: 63885.4481927\ttest: 64972.6964570\tbest: 64972.6964570 (96)\ttotal: 587ms\tremaining: 18.1ms\n",
      "97:\tlearn: 63810.3183083\ttest: 64907.1010875\tbest: 64907.1010875 (97)\ttotal: 593ms\tremaining: 12.1ms\n",
      "98:\tlearn: 63789.7779823\ttest: 64886.7195566\tbest: 64886.7195566 (98)\ttotal: 598ms\tremaining: 6.04ms\n",
      "99:\tlearn: 63724.9998276\ttest: 64828.7661002\tbest: 64828.7661002 (99)\ttotal: 604ms\tremaining: 0us\n",
      "\n",
      "bestTest = 64828.7661\n",
      "bestIteration = 99\n",
      "\n",
      "6:\tloss: 64828.7661002\tbest: 62496.8286595 (0)\ttotal: 4.66s\tremaining: 2s\n",
      "0:\tlearn: 434332.3580129\ttest: 434806.3743996\tbest: 434806.3743996 (0)\ttotal: 13ms\tremaining: 1.28s\n",
      "1:\tlearn: 430214.6807408\ttest: 430694.2189163\tbest: 430694.2189163 (1)\ttotal: 17.5ms\tremaining: 858ms\n",
      "2:\tlearn: 426166.3484479\ttest: 426647.5237678\tbest: 426647.5237678 (2)\ttotal: 23.5ms\tremaining: 761ms\n",
      "3:\tlearn: 422143.6038161\ttest: 422630.6340414\tbest: 422630.6340414 (3)\ttotal: 29.1ms\tremaining: 699ms\n",
      "4:\tlearn: 418228.2281868\ttest: 418714.2561406\tbest: 418714.2561406 (4)\ttotal: 34.4ms\tremaining: 654ms\n",
      "5:\tlearn: 414337.6520678\ttest: 414822.0041526\tbest: 414822.0041526 (5)\ttotal: 39.4ms\tremaining: 617ms\n",
      "6:\tlearn: 410423.4446820\ttest: 410908.8532289\tbest: 410908.8532289 (6)\ttotal: 44.7ms\tremaining: 594ms\n",
      "7:\tlearn: 406576.7028421\ttest: 407056.0560100\tbest: 407056.0560100 (7)\ttotal: 46.8ms\tremaining: 538ms\n",
      "8:\tlearn: 402768.0928188\ttest: 403243.6355357\tbest: 403243.6355357 (8)\ttotal: 51.9ms\tremaining: 525ms\n",
      "9:\tlearn: 399068.3193251\ttest: 399542.8057857\tbest: 399542.8057857 (9)\ttotal: 57.1ms\tremaining: 514ms\n",
      "10:\tlearn: 395340.2092050\ttest: 395819.5461527\tbest: 395819.5461527 (10)\ttotal: 62.5ms\tremaining: 506ms\n",
      "11:\tlearn: 391625.0958901\ttest: 392101.5432156\tbest: 392101.5432156 (11)\ttotal: 65.7ms\tremaining: 482ms\n",
      "12:\tlearn: 387962.2264765\ttest: 388431.9723199\tbest: 388431.9723199 (12)\ttotal: 71.2ms\tremaining: 476ms\n",
      "13:\tlearn: 384353.3142496\ttest: 384831.8393814\tbest: 384831.8393814 (13)\ttotal: 76.4ms\tremaining: 469ms\n",
      "14:\tlearn: 380774.0886710\ttest: 381253.9931956\tbest: 381253.9931956 (14)\ttotal: 81.8ms\tremaining: 464ms\n",
      "15:\tlearn: 377233.3805687\ttest: 377714.4165753\tbest: 377714.4165753 (15)\ttotal: 87.4ms\tremaining: 459ms\n",
      "16:\tlearn: 373749.3111044\ttest: 374232.5050763\tbest: 374232.5050763 (16)\ttotal: 93.3ms\tremaining: 455ms\n",
      "17:\tlearn: 370259.5280970\ttest: 370735.8920631\tbest: 370735.8920631 (17)\ttotal: 98.5ms\tremaining: 449ms\n",
      "18:\tlearn: 366818.4590801\ttest: 367298.7368437\tbest: 367298.7368437 (18)\ttotal: 104ms\tremaining: 443ms\n",
      "19:\tlearn: 363419.6736833\ttest: 363895.7713908\tbest: 363895.7713908 (19)\ttotal: 109ms\tremaining: 436ms\n",
      "20:\tlearn: 360072.9137782\ttest: 360548.1469030\tbest: 360548.1469030 (20)\ttotal: 115ms\tremaining: 431ms\n",
      "21:\tlearn: 356748.8911669\ttest: 357222.4452575\tbest: 357222.4452575 (21)\ttotal: 120ms\tremaining: 426ms\n",
      "22:\tlearn: 353445.3306895\ttest: 353913.8188313\tbest: 353913.8188313 (22)\ttotal: 125ms\tremaining: 419ms\n",
      "23:\tlearn: 350209.5303374\ttest: 350678.3797515\tbest: 350678.3797515 (23)\ttotal: 131ms\tremaining: 413ms\n",
      "24:\tlearn: 346959.4499249\ttest: 347425.4486736\tbest: 347425.4486736 (24)\ttotal: 136ms\tremaining: 408ms\n",
      "25:\tlearn: 343757.8804364\ttest: 344218.9861030\tbest: 344218.9861030 (25)\ttotal: 141ms\tremaining: 402ms\n",
      "26:\tlearn: 340591.7370537\ttest: 341044.4982355\tbest: 341044.4982355 (26)\ttotal: 147ms\tremaining: 396ms\n",
      "27:\tlearn: 337454.0475531\ttest: 337905.2287252\tbest: 337905.2287252 (27)\ttotal: 152ms\tremaining: 391ms\n",
      "28:\tlearn: 334335.9132418\ttest: 334786.5505105\tbest: 334786.5505105 (28)\ttotal: 161ms\tremaining: 394ms\n",
      "29:\tlearn: 331263.6243817\ttest: 331716.1230545\tbest: 331716.1230545 (29)\ttotal: 173ms\tremaining: 403ms\n",
      "30:\tlearn: 328227.4317686\ttest: 328678.9051888\tbest: 328678.9051888 (30)\ttotal: 182ms\tremaining: 406ms\n",
      "31:\tlearn: 325241.2790067\ttest: 325698.3465654\tbest: 325698.3465654 (31)\ttotal: 188ms\tremaining: 399ms\n",
      "32:\tlearn: 322262.3980305\ttest: 322720.6451684\tbest: 322720.6451684 (32)\ttotal: 193ms\tremaining: 392ms\n",
      "33:\tlearn: 319333.0358843\ttest: 319790.2646172\tbest: 319790.2646172 (33)\ttotal: 199ms\tremaining: 386ms\n",
      "34:\tlearn: 316408.2119421\ttest: 316867.9228048\tbest: 316867.9228048 (34)\ttotal: 204ms\tremaining: 378ms\n",
      "35:\tlearn: 313512.3789872\ttest: 313973.9741926\tbest: 313973.9741926 (35)\ttotal: 207ms\tremaining: 369ms\n",
      "36:\tlearn: 310644.0710557\ttest: 311106.6453961\tbest: 311106.6453961 (36)\ttotal: 210ms\tremaining: 358ms\n",
      "37:\tlearn: 307815.9125154\ttest: 308280.6718408\tbest: 308280.6718408 (37)\ttotal: 216ms\tremaining: 352ms\n",
      "38:\tlearn: 305042.2325748\ttest: 305510.5830467\tbest: 305510.5830467 (38)\ttotal: 221ms\tremaining: 346ms\n",
      "39:\tlearn: 302289.6172436\ttest: 302762.5123654\tbest: 302762.5123654 (39)\ttotal: 226ms\tremaining: 339ms\n",
      "40:\tlearn: 299541.3679949\ttest: 300016.4371416\tbest: 300016.4371416 (40)\ttotal: 232ms\tremaining: 333ms\n",
      "41:\tlearn: 296841.4352635\ttest: 297312.5731205\tbest: 297312.5731205 (41)\ttotal: 237ms\tremaining: 327ms\n",
      "42:\tlearn: 294157.9335029\ttest: 294630.9461582\tbest: 294630.9461582 (42)\ttotal: 242ms\tremaining: 321ms\n",
      "43:\tlearn: 291508.1358547\ttest: 291978.0153420\tbest: 291978.0153420 (43)\ttotal: 247ms\tremaining: 315ms\n",
      "44:\tlearn: 288906.5802593\ttest: 289375.8406568\tbest: 289375.8406568 (44)\ttotal: 253ms\tremaining: 309ms\n",
      "45:\tlearn: 286304.2744417\ttest: 286769.0412226\tbest: 286769.0412226 (45)\ttotal: 256ms\tremaining: 300ms\n",
      "46:\tlearn: 283733.7318580\ttest: 284201.9488415\tbest: 284201.9488415 (46)\ttotal: 258ms\tremaining: 291ms\n",
      "47:\tlearn: 281188.8801285\ttest: 281657.0547147\tbest: 281657.0547147 (47)\ttotal: 262ms\tremaining: 283ms\n",
      "48:\tlearn: 278681.1603210\ttest: 279153.4604459\tbest: 279153.4604459 (48)\ttotal: 267ms\tremaining: 278ms\n",
      "49:\tlearn: 276218.9164907\ttest: 276686.9422887\tbest: 276686.9422887 (49)\ttotal: 271ms\tremaining: 271ms\n",
      "50:\tlearn: 273748.2158244\ttest: 274216.3565897\tbest: 274216.3565897 (50)\ttotal: 276ms\tremaining: 265ms\n",
      "51:\tlearn: 271318.7240416\ttest: 271784.6260238\tbest: 271784.6260238 (51)\ttotal: 281ms\tremaining: 260ms\n",
      "52:\tlearn: 268897.7620860\ttest: 269365.9789372\tbest: 269365.9789372 (52)\ttotal: 286ms\tremaining: 254ms\n",
      "53:\tlearn: 266511.9784844\ttest: 266975.1231155\tbest: 266975.1231155 (53)\ttotal: 292ms\tremaining: 249ms\n",
      "54:\tlearn: 264131.5633144\ttest: 264597.3926139\tbest: 264597.3926139 (54)\ttotal: 296ms\tremaining: 242ms\n",
      "55:\tlearn: 261772.8421200\ttest: 262238.3502141\tbest: 262238.3502141 (55)\ttotal: 301ms\tremaining: 237ms\n",
      "56:\tlearn: 259446.5921462\ttest: 259911.3538728\tbest: 259911.3538728 (56)\ttotal: 307ms\tremaining: 231ms\n",
      "57:\tlearn: 257162.3698140\ttest: 257623.2314147\tbest: 257623.2314147 (57)\ttotal: 312ms\tremaining: 226ms\n",
      "58:\tlearn: 254886.6863326\ttest: 255351.0824569\tbest: 255351.0824569 (58)\ttotal: 317ms\tremaining: 220ms\n",
      "59:\tlearn: 252617.6065819\ttest: 253081.5916806\tbest: 253081.5916806 (59)\ttotal: 322ms\tremaining: 215ms\n",
      "60:\tlearn: 250405.7862644\ttest: 250869.3891396\tbest: 250869.3891396 (60)\ttotal: 327ms\tremaining: 209ms\n",
      "61:\tlearn: 248189.6091843\ttest: 248656.0445388\tbest: 248656.0445388 (61)\ttotal: 332ms\tremaining: 204ms\n",
      "62:\tlearn: 246051.4652817\ttest: 246517.3092294\tbest: 246517.3092294 (62)\ttotal: 338ms\tremaining: 199ms\n",
      "63:\tlearn: 243910.7685178\ttest: 244381.0347217\tbest: 244381.0347217 (63)\ttotal: 343ms\tremaining: 193ms\n",
      "64:\tlearn: 241766.6258151\ttest: 242237.8672242\tbest: 242237.8672242 (64)\ttotal: 349ms\tremaining: 188ms\n",
      "65:\tlearn: 239651.2258494\ttest: 240122.5252614\tbest: 240122.5252614 (65)\ttotal: 354ms\tremaining: 183ms\n",
      "66:\tlearn: 237559.3317722\ttest: 238031.3067000\tbest: 238031.3067000 (66)\ttotal: 360ms\tremaining: 177ms\n",
      "67:\tlearn: 235563.1961075\ttest: 236030.5804785\tbest: 236030.5804785 (67)\ttotal: 365ms\tremaining: 172ms\n",
      "68:\tlearn: 233511.2177096\ttest: 233978.4999476\tbest: 233978.4999476 (68)\ttotal: 370ms\tremaining: 166ms\n",
      "69:\tlearn: 231518.2272390\ttest: 231987.0980174\tbest: 231987.0980174 (69)\ttotal: 373ms\tremaining: 160ms\n",
      "70:\tlearn: 229516.9415788\ttest: 229984.7888462\tbest: 229984.7888462 (70)\ttotal: 378ms\tremaining: 155ms\n",
      "71:\tlearn: 227527.4316061\ttest: 227996.9432677\tbest: 227996.9432677 (71)\ttotal: 384ms\tremaining: 149ms\n",
      "72:\tlearn: 225584.4401098\ttest: 226051.6961810\tbest: 226051.6961810 (72)\ttotal: 390ms\tremaining: 144ms\n",
      "73:\tlearn: 223635.5413824\ttest: 224100.7714366\tbest: 224100.7714366 (73)\ttotal: 396ms\tremaining: 139ms\n",
      "74:\tlearn: 221742.2366532\ttest: 222208.7355774\tbest: 222208.7355774 (74)\ttotal: 402ms\tremaining: 134ms\n",
      "75:\tlearn: 219843.2999808\ttest: 220308.8871100\tbest: 220308.8871100 (75)\ttotal: 407ms\tremaining: 129ms\n",
      "76:\tlearn: 217995.3327306\ttest: 218459.6377521\tbest: 218459.6377521 (76)\ttotal: 413ms\tremaining: 123ms\n",
      "77:\tlearn: 216151.0502495\ttest: 216613.4600979\tbest: 216613.4600979 (77)\ttotal: 418ms\tremaining: 118ms\n",
      "78:\tlearn: 214325.6705998\ttest: 214786.9182219\tbest: 214786.9182219 (78)\ttotal: 422ms\tremaining: 112ms\n",
      "79:\tlearn: 212536.7183606\ttest: 212994.0587332\tbest: 212994.0587332 (79)\ttotal: 427ms\tremaining: 107ms\n",
      "80:\tlearn: 210765.7426317\ttest: 211221.1617455\tbest: 211221.1617455 (80)\ttotal: 433ms\tremaining: 101ms\n",
      "81:\tlearn: 209025.3902867\ttest: 209481.5983433\tbest: 209481.5983433 (81)\ttotal: 438ms\tremaining: 96.2ms\n",
      "82:\tlearn: 207279.2335727\ttest: 207736.8989189\tbest: 207736.8989189 (82)\ttotal: 444ms\tremaining: 90.9ms\n",
      "83:\tlearn: 205553.7815142\ttest: 206005.0580972\tbest: 206005.0580972 (83)\ttotal: 449ms\tremaining: 85.6ms\n",
      "84:\tlearn: 203860.9660007\ttest: 204310.3511324\tbest: 204310.3511324 (84)\ttotal: 455ms\tremaining: 80.2ms\n",
      "85:\tlearn: 202185.4107365\ttest: 202629.7702318\tbest: 202629.7702318 (85)\ttotal: 458ms\tremaining: 74.6ms\n",
      "86:\tlearn: 200519.5282851\ttest: 200965.4194085\tbest: 200965.4194085 (86)\ttotal: 464ms\tremaining: 69.3ms\n",
      "87:\tlearn: 198862.4552858\ttest: 199312.8360121\tbest: 199312.8360121 (87)\ttotal: 469ms\tremaining: 64ms\n",
      "88:\tlearn: 197254.7841217\ttest: 197702.7764389\tbest: 197702.7764389 (88)\ttotal: 475ms\tremaining: 58.7ms\n",
      "89:\tlearn: 195641.2188265\ttest: 196087.6444205\tbest: 196087.6444205 (89)\ttotal: 480ms\tremaining: 53.4ms\n",
      "90:\tlearn: 194056.1122727\ttest: 194502.1455603\tbest: 194502.1455603 (90)\ttotal: 486ms\tremaining: 48ms\n",
      "91:\tlearn: 192483.4779869\ttest: 192928.8178959\tbest: 192928.8178959 (91)\ttotal: 491ms\tremaining: 42.7ms\n",
      "92:\tlearn: 190924.9545980\ttest: 191366.7023004\tbest: 191366.7023004 (92)\ttotal: 497ms\tremaining: 37.4ms\n",
      "93:\tlearn: 189372.0551238\ttest: 189812.7692452\tbest: 189812.7692452 (93)\ttotal: 502ms\tremaining: 32.1ms\n",
      "94:\tlearn: 187856.0681840\ttest: 188292.4322229\tbest: 188292.4322229 (94)\ttotal: 508ms\tremaining: 26.7ms\n",
      "95:\tlearn: 186358.3768055\ttest: 186798.1432076\tbest: 186798.1432076 (95)\ttotal: 513ms\tremaining: 21.4ms\n",
      "96:\tlearn: 184874.7956982\ttest: 185312.9543915\tbest: 185312.9543915 (96)\ttotal: 519ms\tremaining: 16ms\n",
      "97:\tlearn: 183438.6391633\ttest: 183871.8087991\tbest: 183871.8087991 (97)\ttotal: 523ms\tremaining: 10.7ms\n",
      "98:\tlearn: 182001.9642762\ttest: 182438.3664328\tbest: 182438.3664328 (98)\ttotal: 528ms\tremaining: 5.33ms\n",
      "99:\tlearn: 180599.1374943\ttest: 181030.2308816\tbest: 181030.2308816 (99)\ttotal: 530ms\tremaining: 0us\n",
      "\n",
      "bestTest = 181030.2309\n",
      "bestIteration = 99\n",
      "\n",
      "7:\tloss: 181030.2308816\tbest: 62496.8286595 (0)\ttotal: 5.2s\tremaining: 1.3s\n",
      "Estimating final quality...\n",
      "Training on fold [0/5]\n",
      "0:\tlearn: 98472.0231532\ttest: 98811.5571960\tbest: 98811.5571960 (0)\ttotal: 3ms\tremaining: 298ms\n",
      "1:\tlearn: 83227.1015315\ttest: 83176.3230621\tbest: 83176.3230621 (1)\ttotal: 7.53ms\tremaining: 369ms\n",
      "2:\tlearn: 78360.0588296\ttest: 78174.4883800\tbest: 78174.4883800 (2)\ttotal: 11.7ms\tremaining: 378ms\n",
      "3:\tlearn: 73204.6843078\ttest: 73130.3827612\tbest: 73130.3827612 (3)\ttotal: 16.1ms\tremaining: 387ms\n",
      "4:\tlearn: 71950.4301429\ttest: 72097.7905892\tbest: 72097.7905892 (4)\ttotal: 19.9ms\tremaining: 378ms\n",
      "5:\tlearn: 70850.6141758\ttest: 71112.4330128\tbest: 71112.4330128 (5)\ttotal: 24.2ms\tremaining: 379ms\n",
      "6:\tlearn: 70333.5077485\ttest: 70628.3916919\tbest: 70628.3916919 (6)\ttotal: 28.6ms\tremaining: 380ms\n",
      "7:\tlearn: 69752.8478221\ttest: 70248.3526019\tbest: 70248.3526019 (7)\ttotal: 32.6ms\tremaining: 375ms\n",
      "8:\tlearn: 69115.0604833\ttest: 69462.4398032\tbest: 69462.4398032 (8)\ttotal: 36.9ms\tremaining: 373ms\n",
      "9:\tlearn: 68376.7888342\ttest: 68602.6152998\tbest: 68602.6152998 (9)\ttotal: 40.8ms\tremaining: 367ms\n",
      "10:\tlearn: 67867.1339531\ttest: 68206.1946077\tbest: 68206.1946077 (10)\ttotal: 45.2ms\tremaining: 366ms\n",
      "11:\tlearn: 67657.0500391\ttest: 68044.3596912\tbest: 68044.3596912 (11)\ttotal: 49.3ms\tremaining: 361ms\n",
      "12:\tlearn: 67174.2869265\ttest: 67586.8164605\tbest: 67586.8164605 (12)\ttotal: 53.3ms\tremaining: 357ms\n",
      "13:\tlearn: 66842.0986488\ttest: 67291.8215098\tbest: 67291.8215098 (13)\ttotal: 57.2ms\tremaining: 351ms\n",
      "14:\tlearn: 66538.3432475\ttest: 67199.7712964\tbest: 67199.7712964 (14)\ttotal: 61.2ms\tremaining: 347ms\n",
      "15:\tlearn: 66391.4990977\ttest: 67178.8726576\tbest: 67178.8726576 (15)\ttotal: 65ms\tremaining: 341ms\n",
      "16:\tlearn: 66027.0517745\ttest: 66907.9608884\tbest: 66907.9608884 (16)\ttotal: 69ms\tremaining: 337ms\n",
      "17:\tlearn: 65801.6588136\ttest: 66743.3413102\tbest: 66743.3413102 (17)\ttotal: 74.1ms\tremaining: 338ms\n",
      "18:\tlearn: 65481.3949190\ttest: 66452.6373635\tbest: 66452.6373635 (18)\ttotal: 78.3ms\tremaining: 334ms\n",
      "19:\tlearn: 65344.6363890\ttest: 66310.6792649\tbest: 66310.6792649 (19)\ttotal: 82.3ms\tremaining: 329ms\n",
      "20:\tlearn: 65107.0569008\ttest: 66139.1958245\tbest: 66139.1958245 (20)\ttotal: 86.1ms\tremaining: 324ms\n",
      "21:\tlearn: 64912.8891631\ttest: 66057.6642703\tbest: 66057.6642703 (21)\ttotal: 90ms\tremaining: 319ms\n",
      "22:\tlearn: 64894.8505283\ttest: 66056.4986273\tbest: 66056.4986273 (22)\ttotal: 93.7ms\tremaining: 314ms\n",
      "23:\tlearn: 64748.0726231\ttest: 65982.5174770\tbest: 65982.5174770 (23)\ttotal: 97.5ms\tremaining: 309ms\n",
      "24:\tlearn: 64505.7930220\ttest: 65956.0452792\tbest: 65956.0452792 (24)\ttotal: 101ms\tremaining: 304ms\n",
      "25:\tlearn: 64308.6182436\ttest: 65870.2215160\tbest: 65870.2215160 (25)\ttotal: 106ms\tremaining: 301ms\n",
      "26:\tlearn: 64123.5655629\ttest: 65688.7920787\tbest: 65688.7920787 (26)\ttotal: 110ms\tremaining: 296ms\n",
      "27:\tlearn: 63905.9250818\ttest: 65667.5804101\tbest: 65667.5804101 (27)\ttotal: 114ms\tremaining: 292ms\n",
      "28:\tlearn: 63716.6371713\ttest: 65533.3763170\tbest: 65533.3763170 (28)\ttotal: 117ms\tremaining: 288ms\n",
      "29:\tlearn: 63585.5796806\ttest: 65550.0238387\tbest: 65533.3763170 (28)\ttotal: 122ms\tremaining: 284ms\n",
      "30:\tlearn: 63459.4152186\ttest: 65517.0020900\tbest: 65517.0020900 (30)\ttotal: 126ms\tremaining: 280ms\n",
      "31:\tlearn: 63357.6675538\ttest: 65437.2080620\tbest: 65437.2080620 (31)\ttotal: 130ms\tremaining: 275ms\n",
      "32:\tlearn: 63343.1129443\ttest: 65399.7028834\tbest: 65399.7028834 (32)\ttotal: 133ms\tremaining: 271ms\n",
      "33:\tlearn: 63311.9471518\ttest: 65383.1674140\tbest: 65383.1674140 (33)\ttotal: 137ms\tremaining: 267ms\n",
      "34:\tlearn: 63212.7685814\ttest: 65349.3214465\tbest: 65349.3214465 (34)\ttotal: 141ms\tremaining: 262ms\n",
      "35:\tlearn: 63061.5086051\ttest: 65230.7423653\tbest: 65230.7423653 (35)\ttotal: 146ms\tremaining: 259ms\n",
      "36:\tlearn: 62954.7395984\ttest: 65141.1241095\tbest: 65141.1241095 (36)\ttotal: 150ms\tremaining: 255ms\n",
      "37:\tlearn: 62757.7734865\ttest: 64943.8277077\tbest: 64943.8277077 (37)\ttotal: 153ms\tremaining: 250ms\n",
      "38:\tlearn: 62650.8182980\ttest: 64917.5765013\tbest: 64917.5765013 (38)\ttotal: 157ms\tremaining: 246ms\n",
      "39:\tlearn: 62554.3631529\ttest: 64848.6077685\tbest: 64848.6077685 (39)\ttotal: 161ms\tremaining: 242ms\n",
      "40:\tlearn: 62441.4329668\ttest: 64864.2024197\tbest: 64848.6077685 (39)\ttotal: 165ms\tremaining: 238ms\n",
      "41:\tlearn: 62291.2145957\ttest: 64757.6183203\tbest: 64757.6183203 (41)\ttotal: 169ms\tremaining: 234ms\n",
      "42:\tlearn: 62183.8451397\ttest: 64700.5450589\tbest: 64700.5450589 (42)\ttotal: 173ms\tremaining: 230ms\n",
      "43:\tlearn: 62103.7388445\ttest: 64614.6272691\tbest: 64614.6272691 (43)\ttotal: 177ms\tremaining: 226ms\n",
      "44:\tlearn: 62098.5924214\ttest: 64619.6098700\tbest: 64614.6272691 (43)\ttotal: 181ms\tremaining: 221ms\n",
      "45:\tlearn: 61934.9307721\ttest: 64532.3090127\tbest: 64532.3090127 (45)\ttotal: 185ms\tremaining: 217ms\n",
      "46:\tlearn: 61849.3079991\ttest: 64589.6362037\tbest: 64532.3090127 (45)\ttotal: 189ms\tremaining: 213ms\n",
      "47:\tlearn: 61744.3154876\ttest: 64548.0886567\tbest: 64532.3090127 (45)\ttotal: 193ms\tremaining: 209ms\n",
      "48:\tlearn: 61735.8358565\ttest: 64537.4704020\tbest: 64532.3090127 (45)\ttotal: 196ms\tremaining: 204ms\n",
      "49:\tlearn: 61639.6241153\ttest: 64456.7614307\tbest: 64456.7614307 (49)\ttotal: 200ms\tremaining: 200ms\n",
      "50:\tlearn: 61589.0860757\ttest: 64442.6130152\tbest: 64442.6130152 (50)\ttotal: 212ms\tremaining: 204ms\n",
      "51:\tlearn: 61463.2242296\ttest: 64413.6088174\tbest: 64413.6088174 (51)\ttotal: 223ms\tremaining: 206ms\n",
      "52:\tlearn: 61381.3188295\ttest: 64256.6825640\tbest: 64256.6825640 (52)\ttotal: 227ms\tremaining: 202ms\n",
      "53:\tlearn: 61337.7373194\ttest: 64249.1806523\tbest: 64249.1806523 (53)\ttotal: 231ms\tremaining: 197ms\n",
      "54:\tlearn: 61230.1881801\ttest: 64147.4982188\tbest: 64147.4982188 (54)\ttotal: 236ms\tremaining: 193ms\n",
      "55:\tlearn: 61099.9156443\ttest: 64074.6796213\tbest: 64074.6796213 (55)\ttotal: 240ms\tremaining: 188ms\n",
      "56:\tlearn: 61000.6511257\ttest: 64088.9532127\tbest: 64074.6796213 (55)\ttotal: 244ms\tremaining: 184ms\n",
      "57:\tlearn: 60925.7529850\ttest: 64022.6802415\tbest: 64022.6802415 (57)\ttotal: 248ms\tremaining: 179ms\n",
      "58:\tlearn: 60854.2091619\ttest: 63983.7416058\tbest: 63983.7416058 (58)\ttotal: 252ms\tremaining: 175ms\n",
      "59:\tlearn: 60766.0686116\ttest: 63988.4475228\tbest: 63983.7416058 (58)\ttotal: 255ms\tremaining: 170ms\n",
      "60:\tlearn: 60731.6598468\ttest: 63963.8642195\tbest: 63963.8642195 (60)\ttotal: 259ms\tremaining: 166ms\n",
      "61:\tlearn: 60670.2435029\ttest: 63913.3902559\tbest: 63913.3902559 (61)\ttotal: 263ms\tremaining: 161ms\n",
      "62:\tlearn: 60603.8472449\ttest: 63937.2430489\tbest: 63913.3902559 (61)\ttotal: 267ms\tremaining: 157ms\n",
      "63:\tlearn: 60499.9781729\ttest: 63830.2955997\tbest: 63830.2955997 (63)\ttotal: 271ms\tremaining: 153ms\n",
      "64:\tlearn: 60369.1068811\ttest: 63760.0126609\tbest: 63760.0126609 (64)\ttotal: 275ms\tremaining: 148ms\n",
      "65:\tlearn: 60266.7756716\ttest: 63722.5226725\tbest: 63722.5226725 (65)\ttotal: 279ms\tremaining: 144ms\n",
      "66:\tlearn: 60182.2583104\ttest: 63670.9235154\tbest: 63670.9235154 (66)\ttotal: 283ms\tremaining: 139ms\n",
      "67:\tlearn: 60097.3892907\ttest: 63558.6123693\tbest: 63558.6123693 (67)\ttotal: 287ms\tremaining: 135ms\n",
      "68:\tlearn: 60075.3131596\ttest: 63541.8095330\tbest: 63541.8095330 (68)\ttotal: 291ms\tremaining: 131ms\n",
      "69:\tlearn: 59989.5534202\ttest: 63529.3081162\tbest: 63529.3081162 (69)\ttotal: 299ms\tremaining: 128ms\n",
      "70:\tlearn: 59924.3065669\ttest: 63532.9485717\tbest: 63529.3081162 (69)\ttotal: 304ms\tremaining: 124ms\n",
      "71:\tlearn: 59797.4721636\ttest: 63487.3494395\tbest: 63487.3494395 (71)\ttotal: 308ms\tremaining: 120ms\n",
      "72:\tlearn: 59719.3676827\ttest: 63450.1189231\tbest: 63450.1189231 (72)\ttotal: 314ms\tremaining: 116ms\n",
      "73:\tlearn: 59629.3339264\ttest: 63391.3560134\tbest: 63391.3560134 (73)\ttotal: 325ms\tremaining: 114ms\n",
      "74:\tlearn: 59552.3896930\ttest: 63405.9601967\tbest: 63391.3560134 (73)\ttotal: 335ms\tremaining: 112ms\n",
      "75:\tlearn: 59472.0108336\ttest: 63416.7656833\tbest: 63391.3560134 (73)\ttotal: 340ms\tremaining: 108ms\n",
      "76:\tlearn: 59419.1625873\ttest: 63368.8659537\tbest: 63368.8659537 (76)\ttotal: 344ms\tremaining: 103ms\n",
      "77:\tlearn: 59408.0257272\ttest: 63352.1290429\tbest: 63352.1290429 (77)\ttotal: 348ms\tremaining: 98.2ms\n",
      "78:\tlearn: 59335.6325169\ttest: 63318.8901011\tbest: 63318.8901011 (78)\ttotal: 352ms\tremaining: 93.6ms\n",
      "79:\tlearn: 59234.4502784\ttest: 63311.1730896\tbest: 63311.1730896 (79)\ttotal: 356ms\tremaining: 89.1ms\n",
      "80:\tlearn: 59170.7031744\ttest: 63289.0894853\tbest: 63289.0894853 (80)\ttotal: 360ms\tremaining: 84.6ms\n",
      "81:\tlearn: 59072.2095829\ttest: 63242.3125620\tbest: 63242.3125620 (81)\ttotal: 364ms\tremaining: 80ms\n",
      "82:\tlearn: 58992.1026834\ttest: 63239.7881376\tbest: 63239.7881376 (82)\ttotal: 368ms\tremaining: 75.4ms\n",
      "83:\tlearn: 58939.3182156\ttest: 63262.8180002\tbest: 63239.7881376 (82)\ttotal: 372ms\tremaining: 70.9ms\n",
      "84:\tlearn: 58844.1127405\ttest: 63261.0403107\tbest: 63239.7881376 (82)\ttotal: 376ms\tremaining: 66.4ms\n",
      "85:\tlearn: 58749.6565006\ttest: 63206.7635503\tbest: 63206.7635503 (85)\ttotal: 380ms\tremaining: 61.9ms\n",
      "86:\tlearn: 58610.3798020\ttest: 63195.7832377\tbest: 63195.7832377 (86)\ttotal: 384ms\tremaining: 57.4ms\n",
      "87:\tlearn: 58556.5675371\ttest: 63135.9333790\tbest: 63135.9333790 (87)\ttotal: 388ms\tremaining: 53ms\n",
      "88:\tlearn: 58495.6511540\ttest: 63108.3095452\tbest: 63108.3095452 (88)\ttotal: 392ms\tremaining: 48.5ms\n",
      "89:\tlearn: 58461.3163199\ttest: 63111.1759059\tbest: 63108.3095452 (88)\ttotal: 396ms\tremaining: 44ms\n",
      "90:\tlearn: 58358.1308295\ttest: 63106.0055398\tbest: 63106.0055398 (90)\ttotal: 400ms\tremaining: 39.6ms\n",
      "91:\tlearn: 58301.0449316\ttest: 63098.1703105\tbest: 63098.1703105 (91)\ttotal: 404ms\tremaining: 35.1ms\n",
      "92:\tlearn: 58245.0173632\ttest: 63031.8312404\tbest: 63031.8312404 (92)\ttotal: 408ms\tremaining: 30.7ms\n",
      "93:\tlearn: 58180.6630243\ttest: 63057.7310249\tbest: 63031.8312404 (92)\ttotal: 414ms\tremaining: 26.5ms\n",
      "94:\tlearn: 58111.1703036\ttest: 63018.6090002\tbest: 63018.6090002 (94)\ttotal: 419ms\tremaining: 22ms\n",
      "95:\tlearn: 58108.3682260\ttest: 63015.2676167\tbest: 63015.2676167 (95)\ttotal: 422ms\tremaining: 17.6ms\n",
      "96:\tlearn: 58101.2950992\ttest: 63008.2898393\tbest: 63008.2898393 (96)\ttotal: 426ms\tremaining: 13.2ms\n",
      "97:\tlearn: 57982.2558348\ttest: 62949.0545370\tbest: 62949.0545370 (97)\ttotal: 430ms\tremaining: 8.78ms\n",
      "98:\tlearn: 57911.7663823\ttest: 62919.6998786\tbest: 62919.6998786 (98)\ttotal: 436ms\tremaining: 4.4ms\n",
      "99:\tlearn: 57839.2340245\ttest: 62918.9930895\tbest: 62918.9930895 (99)\ttotal: 440ms\tremaining: 0us\n",
      "\n",
      "bestTest = 62918.99309\n",
      "bestIteration = 99\n",
      "\n",
      "Training on fold [1/5]\n",
      "0:\tlearn: 98652.7577982\ttest: 98088.3592224\tbest: 98088.3592224 (0)\ttotal: 2.67ms\tremaining: 264ms\n",
      "1:\tlearn: 83087.7139968\ttest: 83491.2483467\tbest: 83491.2483467 (1)\ttotal: 7.02ms\tremaining: 344ms\n",
      "2:\tlearn: 78205.5131507\ttest: 79143.0377874\tbest: 79143.0377874 (2)\ttotal: 11.3ms\tremaining: 364ms\n",
      "3:\tlearn: 73052.3215042\ttest: 73993.5234914\tbest: 73993.5234914 (3)\ttotal: 15.7ms\tremaining: 377ms\n",
      "4:\tlearn: 71756.4523462\ttest: 73015.7294648\tbest: 73015.7294648 (4)\ttotal: 19.7ms\tremaining: 375ms\n",
      "5:\tlearn: 70758.0530950\ttest: 71862.7655310\tbest: 71862.7655310 (5)\ttotal: 23.8ms\tremaining: 373ms\n",
      "6:\tlearn: 70014.2503953\ttest: 71157.1523362\tbest: 71157.1523362 (6)\ttotal: 27.8ms\tremaining: 369ms\n",
      "7:\tlearn: 69573.7654145\ttest: 70818.0004579\tbest: 70818.0004579 (7)\ttotal: 31.8ms\tremaining: 366ms\n",
      "8:\tlearn: 68716.4918717\ttest: 69883.4862897\tbest: 69883.4862897 (8)\ttotal: 35.9ms\tremaining: 363ms\n",
      "9:\tlearn: 68279.5857987\ttest: 69550.4439418\tbest: 69550.4439418 (9)\ttotal: 39.9ms\tremaining: 359ms\n",
      "10:\tlearn: 67653.0675595\ttest: 69022.6408863\tbest: 69022.6408863 (10)\ttotal: 43.9ms\tremaining: 355ms\n",
      "11:\tlearn: 67308.2969286\ttest: 68740.1396282\tbest: 68740.1396282 (11)\ttotal: 47.9ms\tremaining: 351ms\n",
      "12:\tlearn: 66877.4959489\ttest: 68291.5622711\tbest: 68291.5622711 (12)\ttotal: 51.9ms\tremaining: 347ms\n",
      "13:\tlearn: 66624.7650660\ttest: 68117.6019770\tbest: 68117.6019770 (13)\ttotal: 55.9ms\tremaining: 344ms\n",
      "14:\tlearn: 66156.5083844\ttest: 67798.7597362\tbest: 67798.7597362 (14)\ttotal: 60ms\tremaining: 340ms\n",
      "15:\tlearn: 65883.5626907\ttest: 67602.7697528\tbest: 67602.7697528 (15)\ttotal: 64.2ms\tremaining: 337ms\n",
      "16:\tlearn: 65549.4281800\ttest: 67373.9417364\tbest: 67373.9417364 (16)\ttotal: 68.3ms\tremaining: 334ms\n",
      "17:\tlearn: 65298.8307373\ttest: 67099.9817811\tbest: 67099.9817811 (17)\ttotal: 72.4ms\tremaining: 330ms\n",
      "18:\tlearn: 65089.2204868\ttest: 66972.0789344\tbest: 66972.0789344 (18)\ttotal: 76.5ms\tremaining: 326ms\n",
      "19:\tlearn: 64959.9489418\ttest: 66970.3782738\tbest: 66970.3782738 (19)\ttotal: 82ms\tremaining: 328ms\n",
      "20:\tlearn: 64775.1052335\ttest: 66771.5297508\tbest: 66771.5297508 (20)\ttotal: 86.2ms\tremaining: 324ms\n",
      "21:\tlearn: 64602.0579253\ttest: 66713.5993057\tbest: 66713.5993057 (21)\ttotal: 90.3ms\tremaining: 320ms\n",
      "22:\tlearn: 64504.9997430\ttest: 66631.8871008\tbest: 66631.8871008 (22)\ttotal: 94.3ms\tremaining: 316ms\n",
      "23:\tlearn: 64244.4738612\ttest: 66527.0672657\tbest: 66527.0672657 (23)\ttotal: 98.4ms\tremaining: 312ms\n",
      "24:\tlearn: 64146.3941569\ttest: 66455.5206426\tbest: 66455.5206426 (24)\ttotal: 103ms\tremaining: 308ms\n",
      "25:\tlearn: 63917.7257034\ttest: 66290.0931973\tbest: 66290.0931973 (25)\ttotal: 107ms\tremaining: 304ms\n",
      "26:\tlearn: 63785.4635310\ttest: 66252.7390010\tbest: 66252.7390010 (26)\ttotal: 118ms\tremaining: 320ms\n",
      "27:\tlearn: 63641.5348217\ttest: 66208.6633540\tbest: 66208.6633540 (27)\ttotal: 129ms\tremaining: 333ms\n",
      "28:\tlearn: 63507.8238143\ttest: 66154.3345357\tbest: 66154.3345357 (28)\ttotal: 134ms\tremaining: 329ms\n",
      "29:\tlearn: 63399.1420548\ttest: 66105.2859941\tbest: 66105.2859941 (29)\ttotal: 138ms\tremaining: 323ms\n",
      "30:\tlearn: 63273.1693518\ttest: 66121.2541988\tbest: 66105.2859941 (29)\ttotal: 142ms\tremaining: 317ms\n",
      "31:\tlearn: 63099.4869463\ttest: 65929.6717882\tbest: 65929.6717882 (31)\ttotal: 146ms\tremaining: 311ms\n",
      "32:\tlearn: 62959.7321369\ttest: 65850.2898741\tbest: 65850.2898741 (32)\ttotal: 151ms\tremaining: 306ms\n",
      "33:\tlearn: 62741.0093926\ttest: 65649.9363044\tbest: 65649.9363044 (33)\ttotal: 155ms\tremaining: 300ms\n",
      "34:\tlearn: 62546.3191859\ttest: 65592.7895046\tbest: 65592.7895046 (34)\ttotal: 159ms\tremaining: 295ms\n",
      "35:\tlearn: 62512.4173597\ttest: 65571.7728220\tbest: 65571.7728220 (35)\ttotal: 163ms\tremaining: 290ms\n",
      "36:\tlearn: 62354.5743756\ttest: 65449.2835230\tbest: 65449.2835230 (36)\ttotal: 167ms\tremaining: 284ms\n",
      "37:\tlearn: 62248.3722440\ttest: 65366.4924672\tbest: 65366.4924672 (37)\ttotal: 171ms\tremaining: 279ms\n",
      "38:\tlearn: 62155.3227837\ttest: 65327.5385933\tbest: 65327.5385933 (38)\ttotal: 175ms\tremaining: 274ms\n",
      "39:\tlearn: 61982.5017471\ttest: 65214.9672205\tbest: 65214.9672205 (39)\ttotal: 179ms\tremaining: 268ms\n",
      "40:\tlearn: 61798.7417634\ttest: 65131.3910678\tbest: 65131.3910678 (40)\ttotal: 183ms\tremaining: 263ms\n",
      "41:\tlearn: 61716.0613762\ttest: 65085.3152681\tbest: 65085.3152681 (41)\ttotal: 187ms\tremaining: 258ms\n",
      "42:\tlearn: 61515.3858666\ttest: 64956.2972286\tbest: 64956.2972286 (42)\ttotal: 191ms\tremaining: 253ms\n",
      "43:\tlearn: 61465.6104289\ttest: 64851.0578714\tbest: 64851.0578714 (43)\ttotal: 195ms\tremaining: 248ms\n",
      "44:\tlearn: 61383.4492153\ttest: 64802.7329708\tbest: 64802.7329708 (44)\ttotal: 199ms\tremaining: 243ms\n",
      "45:\tlearn: 61282.5370865\ttest: 64774.9345870\tbest: 64774.9345870 (45)\ttotal: 202ms\tremaining: 238ms\n",
      "46:\tlearn: 61152.4017135\ttest: 64689.0820296\tbest: 64689.0820296 (46)\ttotal: 206ms\tremaining: 233ms\n",
      "47:\tlearn: 61050.3928263\ttest: 64642.7673878\tbest: 64642.7673878 (47)\ttotal: 210ms\tremaining: 228ms\n",
      "48:\tlearn: 60912.6308391\ttest: 64566.8147779\tbest: 64566.8147779 (48)\ttotal: 214ms\tremaining: 223ms\n",
      "49:\tlearn: 60772.9762421\ttest: 64514.3897732\tbest: 64514.3897732 (49)\ttotal: 219ms\tremaining: 219ms\n",
      "50:\tlearn: 60625.2554285\ttest: 64411.9343198\tbest: 64411.9343198 (50)\ttotal: 223ms\tremaining: 214ms\n",
      "51:\tlearn: 60537.4393923\ttest: 64454.7282150\tbest: 64411.9343198 (50)\ttotal: 227ms\tremaining: 209ms\n",
      "52:\tlearn: 60469.4958720\ttest: 64396.8847580\tbest: 64396.8847580 (52)\ttotal: 230ms\tremaining: 204ms\n",
      "53:\tlearn: 60368.2554188\ttest: 64338.4874218\tbest: 64338.4874218 (53)\ttotal: 234ms\tremaining: 200ms\n",
      "54:\tlearn: 60245.7578565\ttest: 64221.2393297\tbest: 64221.2393297 (54)\ttotal: 238ms\tremaining: 195ms\n",
      "55:\tlearn: 60243.2002724\ttest: 64217.0533588\tbest: 64217.0533588 (55)\ttotal: 242ms\tremaining: 190ms\n",
      "56:\tlearn: 60176.1375644\ttest: 64257.9853320\tbest: 64217.0533588 (55)\ttotal: 246ms\tremaining: 185ms\n",
      "57:\tlearn: 60146.2444731\ttest: 64271.6810969\tbest: 64217.0533588 (55)\ttotal: 250ms\tremaining: 181ms\n",
      "58:\tlearn: 60022.3269431\ttest: 64121.4659070\tbest: 64121.4659070 (58)\ttotal: 254ms\tremaining: 176ms\n",
      "59:\tlearn: 59921.5673620\ttest: 64060.5946102\tbest: 64060.5946102 (59)\ttotal: 258ms\tremaining: 172ms\n",
      "60:\tlearn: 59826.8071743\ttest: 63943.7765684\tbest: 63943.7765684 (60)\ttotal: 262ms\tremaining: 167ms\n",
      "61:\tlearn: 59803.0095488\ttest: 63906.3843723\tbest: 63906.3843723 (61)\ttotal: 266ms\tremaining: 163ms\n",
      "62:\tlearn: 59707.0293679\ttest: 63864.2927437\tbest: 63864.2927437 (62)\ttotal: 271ms\tremaining: 159ms\n",
      "63:\tlearn: 59605.1007483\ttest: 63815.2112995\tbest: 63815.2112995 (63)\ttotal: 275ms\tremaining: 155ms\n",
      "64:\tlearn: 59541.9855117\ttest: 63807.9442541\tbest: 63807.9442541 (64)\ttotal: 279ms\tremaining: 150ms\n",
      "65:\tlearn: 59438.9230454\ttest: 63724.7064853\tbest: 63724.7064853 (65)\ttotal: 283ms\tremaining: 146ms\n",
      "66:\tlearn: 59372.8531288\ttest: 63699.6028932\tbest: 63699.6028932 (66)\ttotal: 287ms\tremaining: 141ms\n",
      "67:\tlearn: 59331.8832730\ttest: 63682.9987196\tbest: 63682.9987196 (67)\ttotal: 291ms\tremaining: 137ms\n",
      "68:\tlearn: 59245.7799031\ttest: 63625.3678074\tbest: 63625.3678074 (68)\ttotal: 295ms\tremaining: 133ms\n",
      "69:\tlearn: 59188.1159203\ttest: 63587.8890203\tbest: 63587.8890203 (69)\ttotal: 299ms\tremaining: 128ms\n",
      "70:\tlearn: 59125.8167772\ttest: 63574.8987529\tbest: 63574.8987529 (70)\ttotal: 303ms\tremaining: 124ms\n",
      "71:\tlearn: 59081.1811153\ttest: 63578.1421628\tbest: 63574.8987529 (70)\ttotal: 307ms\tremaining: 119ms\n",
      "72:\tlearn: 59028.3181512\ttest: 63558.3502057\tbest: 63558.3502057 (72)\ttotal: 311ms\tremaining: 115ms\n",
      "73:\tlearn: 58952.5386693\ttest: 63471.2345042\tbest: 63471.2345042 (73)\ttotal: 315ms\tremaining: 111ms\n",
      "74:\tlearn: 58800.8215927\ttest: 63490.8486738\tbest: 63471.2345042 (73)\ttotal: 319ms\tremaining: 106ms\n",
      "75:\tlearn: 58755.4028229\ttest: 63426.8730454\tbest: 63426.8730454 (75)\ttotal: 323ms\tremaining: 102ms\n",
      "76:\tlearn: 58684.8411200\ttest: 63382.2632524\tbest: 63382.2632524 (76)\ttotal: 327ms\tremaining: 97.6ms\n",
      "77:\tlearn: 58609.9288112\ttest: 63355.7357089\tbest: 63355.7357089 (77)\ttotal: 331ms\tremaining: 93.3ms\n",
      "78:\tlearn: 58585.6186565\ttest: 63358.5543850\tbest: 63355.7357089 (77)\ttotal: 335ms\tremaining: 89.1ms\n",
      "79:\tlearn: 58540.4512547\ttest: 63355.4400480\tbest: 63355.4400480 (79)\ttotal: 339ms\tremaining: 84.8ms\n",
      "80:\tlearn: 58449.3689715\ttest: 63303.2746189\tbest: 63303.2746189 (80)\ttotal: 348ms\tremaining: 81.5ms\n",
      "81:\tlearn: 58409.7651140\ttest: 63291.7844673\tbest: 63291.7844673 (81)\ttotal: 356ms\tremaining: 78.2ms\n",
      "82:\tlearn: 58332.7955556\ttest: 63262.3038958\tbest: 63262.3038958 (82)\ttotal: 366ms\tremaining: 75ms\n",
      "83:\tlearn: 58245.7991350\ttest: 63283.9479017\tbest: 63262.3038958 (82)\ttotal: 375ms\tremaining: 71.4ms\n",
      "84:\tlearn: 58165.4964852\ttest: 63274.8579502\tbest: 63262.3038958 (82)\ttotal: 379ms\tremaining: 66.8ms\n",
      "85:\tlearn: 58139.3135018\ttest: 63266.5201403\tbest: 63262.3038958 (82)\ttotal: 383ms\tremaining: 62.3ms\n",
      "86:\tlearn: 58094.4200553\ttest: 63268.4673180\tbest: 63262.3038958 (82)\ttotal: 387ms\tremaining: 57.8ms\n",
      "87:\tlearn: 58065.3591516\ttest: 63274.8832922\tbest: 63262.3038958 (82)\ttotal: 391ms\tremaining: 53.3ms\n",
      "88:\tlearn: 58031.4277159\ttest: 63267.5651680\tbest: 63262.3038958 (82)\ttotal: 395ms\tremaining: 48.8ms\n",
      "89:\tlearn: 57957.3217067\ttest: 63194.0974226\tbest: 63194.0974226 (89)\ttotal: 399ms\tremaining: 44.3ms\n",
      "90:\tlearn: 57856.9592909\ttest: 63167.1982238\tbest: 63167.1982238 (90)\ttotal: 403ms\tremaining: 39.9ms\n",
      "91:\tlearn: 57739.3489404\ttest: 63104.1013689\tbest: 63104.1013689 (91)\ttotal: 407ms\tremaining: 35.4ms\n",
      "92:\tlearn: 57708.1303717\ttest: 63105.9016467\tbest: 63104.1013689 (91)\ttotal: 411ms\tremaining: 30.9ms\n",
      "93:\tlearn: 57657.9704165\ttest: 63088.7448155\tbest: 63088.7448155 (93)\ttotal: 415ms\tremaining: 26.5ms\n",
      "94:\tlearn: 57594.0830157\ttest: 63006.4228613\tbest: 63006.4228613 (94)\ttotal: 419ms\tremaining: 22ms\n",
      "95:\tlearn: 57507.4014710\ttest: 63026.8647728\tbest: 63006.4228613 (94)\ttotal: 423ms\tremaining: 17.6ms\n",
      "96:\tlearn: 57457.2163015\ttest: 62986.3352631\tbest: 62986.3352631 (96)\ttotal: 427ms\tremaining: 13.2ms\n",
      "97:\tlearn: 57384.4833624\ttest: 62968.9129758\tbest: 62968.9129758 (97)\ttotal: 431ms\tremaining: 8.79ms\n",
      "98:\tlearn: 57337.6328398\ttest: 62966.4529965\tbest: 62966.4529965 (98)\ttotal: 435ms\tremaining: 4.39ms\n",
      "99:\tlearn: 57285.7670968\ttest: 63002.3864853\tbest: 62966.4529965 (98)\ttotal: 439ms\tremaining: 0us\n",
      "\n",
      "bestTest = 62966.453\n",
      "bestIteration = 98\n",
      "\n",
      "Training on fold [2/5]\n",
      "0:\tlearn: 98503.6902707\ttest: 98683.9854302\tbest: 98683.9854302 (0)\ttotal: 3.14ms\tremaining: 310ms\n",
      "1:\tlearn: 83227.3605536\ttest: 83160.2887508\tbest: 83160.2887508 (1)\ttotal: 7.54ms\tremaining: 369ms\n",
      "2:\tlearn: 78420.5352302\ttest: 78729.1786560\tbest: 78729.1786560 (2)\ttotal: 11.8ms\tremaining: 381ms\n",
      "3:\tlearn: 73005.4161921\ttest: 73032.8941867\tbest: 73032.8941867 (3)\ttotal: 16.2ms\tremaining: 388ms\n",
      "4:\tlearn: 71972.4169439\ttest: 72063.6398323\tbest: 72063.6398323 (4)\ttotal: 20.2ms\tremaining: 384ms\n",
      "5:\tlearn: 71486.6240629\ttest: 71670.0018128\tbest: 71670.0018128 (5)\ttotal: 24.3ms\tremaining: 380ms\n",
      "6:\tlearn: 70389.9549388\ttest: 70763.4811182\tbest: 70763.4811182 (6)\ttotal: 28.2ms\tremaining: 375ms\n",
      "7:\tlearn: 69669.3201821\ttest: 70133.9923743\tbest: 70133.9923743 (7)\ttotal: 32.3ms\tremaining: 371ms\n",
      "8:\tlearn: 69119.1523271\ttest: 69800.9115520\tbest: 69800.9115520 (8)\ttotal: 36.2ms\tremaining: 366ms\n",
      "9:\tlearn: 68552.2773818\ttest: 69223.4455579\tbest: 69223.4455579 (9)\ttotal: 40.2ms\tremaining: 361ms\n",
      "10:\tlearn: 68164.1752170\ttest: 68937.8660902\tbest: 68937.8660902 (10)\ttotal: 44ms\tremaining: 356ms\n",
      "11:\tlearn: 67757.6755091\ttest: 68553.8371607\tbest: 68553.8371607 (11)\ttotal: 47.9ms\tremaining: 351ms\n",
      "12:\tlearn: 67383.3087618\ttest: 68233.5337551\tbest: 68233.5337551 (12)\ttotal: 51.8ms\tremaining: 347ms\n",
      "13:\tlearn: 66839.7995972\ttest: 67777.0660821\tbest: 67777.0660821 (13)\ttotal: 56ms\tremaining: 344ms\n",
      "14:\tlearn: 66668.3310429\ttest: 67617.0127015\tbest: 67617.0127015 (14)\ttotal: 59.9ms\tremaining: 340ms\n",
      "15:\tlearn: 66268.5203932\ttest: 67288.5155430\tbest: 67288.5155430 (15)\ttotal: 64ms\tremaining: 336ms\n",
      "16:\tlearn: 65941.7328754\ttest: 66962.1806816\tbest: 66962.1806816 (16)\ttotal: 68ms\tremaining: 332ms\n",
      "17:\tlearn: 65693.2341664\ttest: 66729.4785764\tbest: 66729.4785764 (17)\ttotal: 72ms\tremaining: 328ms\n",
      "18:\tlearn: 65506.6429887\ttest: 66581.6915372\tbest: 66581.6915372 (18)\ttotal: 76ms\tremaining: 324ms\n",
      "19:\tlearn: 65401.9146270\ttest: 66522.3508646\tbest: 66522.3508646 (19)\ttotal: 79.9ms\tremaining: 320ms\n",
      "20:\tlearn: 65255.9288771\ttest: 66441.5985969\tbest: 66441.5985969 (20)\ttotal: 83.9ms\tremaining: 316ms\n",
      "21:\tlearn: 65093.6588063\ttest: 66232.8052833\tbest: 66232.8052833 (21)\ttotal: 87.8ms\tremaining: 311ms\n",
      "22:\tlearn: 65021.5070686\ttest: 66198.2551649\tbest: 66198.2551649 (22)\ttotal: 91.7ms\tremaining: 307ms\n",
      "23:\tlearn: 64828.9038623\ttest: 65963.2280572\tbest: 65963.2280572 (23)\ttotal: 95.5ms\tremaining: 303ms\n",
      "24:\tlearn: 64671.0456722\ttest: 65845.9185725\tbest: 65845.9185725 (24)\ttotal: 99.5ms\tremaining: 299ms\n",
      "25:\tlearn: 64500.9158363\ttest: 65724.3435917\tbest: 65724.3435917 (25)\ttotal: 103ms\tremaining: 294ms\n",
      "26:\tlearn: 64327.8141712\ttest: 65602.0709910\tbest: 65602.0709910 (26)\ttotal: 107ms\tremaining: 291ms\n",
      "27:\tlearn: 64183.6751507\ttest: 65557.4373551\tbest: 65557.4373551 (27)\ttotal: 117ms\tremaining: 300ms\n",
      "28:\tlearn: 64075.9085605\ttest: 65379.5026547\tbest: 65379.5026547 (28)\ttotal: 125ms\tremaining: 307ms\n",
      "29:\tlearn: 63904.5980914\ttest: 65337.7286269\tbest: 65337.7286269 (29)\ttotal: 135ms\tremaining: 314ms\n",
      "30:\tlearn: 63664.7031247\ttest: 65210.7002338\tbest: 65210.7002338 (30)\ttotal: 161ms\tremaining: 359ms\n",
      "31:\tlearn: 63570.7574561\ttest: 65131.2605463\tbest: 65131.2605463 (31)\ttotal: 166ms\tremaining: 353ms\n",
      "32:\tlearn: 63355.8821207\ttest: 64962.8276606\tbest: 64962.8276606 (32)\ttotal: 170ms\tremaining: 346ms\n",
      "33:\tlearn: 63223.5301196\ttest: 64903.0670055\tbest: 64903.0670055 (33)\ttotal: 177ms\tremaining: 344ms\n",
      "34:\tlearn: 63112.1627410\ttest: 64816.8316844\tbest: 64816.8316844 (34)\ttotal: 186ms\tremaining: 345ms\n",
      "35:\tlearn: 63108.0332931\ttest: 64815.3934082\tbest: 64815.3934082 (35)\ttotal: 194ms\tremaining: 344ms\n",
      "36:\tlearn: 62830.2016429\ttest: 64586.5244929\tbest: 64586.5244929 (36)\ttotal: 198ms\tremaining: 337ms\n",
      "37:\tlearn: 62709.5735482\ttest: 64513.9761523\tbest: 64513.9761523 (37)\ttotal: 202ms\tremaining: 329ms\n",
      "38:\tlearn: 62564.9625278\ttest: 64371.2992915\tbest: 64371.2992915 (38)\ttotal: 206ms\tremaining: 322ms\n",
      "39:\tlearn: 62446.4531069\ttest: 64332.0404572\tbest: 64332.0404572 (39)\ttotal: 210ms\tremaining: 315ms\n",
      "40:\tlearn: 62314.2210537\ttest: 64281.9413626\tbest: 64281.9413626 (40)\ttotal: 214ms\tremaining: 308ms\n",
      "41:\tlearn: 62221.4651579\ttest: 64240.0647578\tbest: 64240.0647578 (41)\ttotal: 218ms\tremaining: 301ms\n",
      "42:\tlearn: 62127.1563520\ttest: 64217.4261270\tbest: 64217.4261270 (42)\ttotal: 222ms\tremaining: 295ms\n",
      "43:\tlearn: 62019.1116312\ttest: 64168.8132787\tbest: 64168.8132787 (43)\ttotal: 226ms\tremaining: 288ms\n",
      "44:\tlearn: 61903.6696697\ttest: 64068.2323999\tbest: 64068.2323999 (44)\ttotal: 230ms\tremaining: 281ms\n",
      "45:\tlearn: 61816.6241541\ttest: 63975.9260863\tbest: 63975.9260863 (45)\ttotal: 234ms\tremaining: 275ms\n",
      "46:\tlearn: 61720.1332020\ttest: 63976.2964056\tbest: 63975.9260863 (45)\ttotal: 238ms\tremaining: 269ms\n",
      "47:\tlearn: 61627.6713273\ttest: 63984.1850676\tbest: 63975.9260863 (45)\ttotal: 242ms\tremaining: 262ms\n",
      "48:\tlearn: 61532.7258412\ttest: 63895.7909013\tbest: 63895.7909013 (48)\ttotal: 247ms\tremaining: 257ms\n",
      "49:\tlearn: 61450.4659511\ttest: 63890.5560220\tbest: 63890.5560220 (49)\ttotal: 251ms\tremaining: 251ms\n",
      "50:\tlearn: 61406.6712819\ttest: 63838.8399915\tbest: 63838.8399915 (50)\ttotal: 255ms\tremaining: 245ms\n",
      "51:\tlearn: 61347.8576340\ttest: 63843.6077906\tbest: 63838.8399915 (50)\ttotal: 259ms\tremaining: 239ms\n",
      "52:\tlearn: 61226.5786909\ttest: 63759.2559414\tbest: 63759.2559414 (52)\ttotal: 262ms\tremaining: 233ms\n",
      "53:\tlearn: 61200.4201283\ttest: 63713.2966556\tbest: 63713.2966556 (53)\ttotal: 266ms\tremaining: 227ms\n",
      "54:\tlearn: 61105.9734634\ttest: 63664.5789827\tbest: 63664.5789827 (54)\ttotal: 270ms\tremaining: 221ms\n",
      "55:\tlearn: 61051.6349502\ttest: 63657.6055865\tbest: 63657.6055865 (55)\ttotal: 274ms\tremaining: 215ms\n",
      "56:\tlearn: 60914.8261651\ttest: 63645.7918893\tbest: 63645.7918893 (56)\ttotal: 278ms\tremaining: 210ms\n",
      "57:\tlearn: 60821.7545249\ttest: 63621.9489357\tbest: 63621.9489357 (57)\ttotal: 282ms\tremaining: 204ms\n",
      "58:\tlearn: 60734.8979460\ttest: 63600.5150749\tbest: 63600.5150749 (58)\ttotal: 286ms\tremaining: 199ms\n",
      "59:\tlearn: 60725.8452991\ttest: 63618.5286963\tbest: 63600.5150749 (58)\ttotal: 290ms\tremaining: 193ms\n",
      "60:\tlearn: 60668.3258642\ttest: 63561.3953938\tbest: 63561.3953938 (60)\ttotal: 294ms\tremaining: 188ms\n",
      "61:\tlearn: 60566.9819845\ttest: 63468.8723021\tbest: 63468.8723021 (61)\ttotal: 298ms\tremaining: 182ms\n",
      "62:\tlearn: 60505.8314920\ttest: 63436.5548841\tbest: 63436.5548841 (62)\ttotal: 302ms\tremaining: 177ms\n",
      "63:\tlearn: 60481.3019675\ttest: 63426.9172432\tbest: 63426.9172432 (63)\ttotal: 305ms\tremaining: 172ms\n",
      "64:\tlearn: 60369.4348286\ttest: 63436.8247761\tbest: 63426.9172432 (63)\ttotal: 309ms\tremaining: 167ms\n",
      "65:\tlearn: 60305.3776571\ttest: 63360.2148414\tbest: 63360.2148414 (65)\ttotal: 314ms\tremaining: 162ms\n",
      "66:\tlearn: 60222.4748879\ttest: 63292.7045087\tbest: 63292.7045087 (66)\ttotal: 320ms\tremaining: 158ms\n",
      "67:\tlearn: 60179.8707950\ttest: 63296.0910466\tbest: 63292.7045087 (66)\ttotal: 324ms\tremaining: 153ms\n",
      "68:\tlearn: 60097.1029984\ttest: 63214.0706684\tbest: 63214.0706684 (68)\ttotal: 328ms\tremaining: 147ms\n",
      "69:\tlearn: 60008.9996830\ttest: 63157.7155038\tbest: 63157.7155038 (69)\ttotal: 332ms\tremaining: 142ms\n",
      "70:\tlearn: 59929.3781980\ttest: 63147.8519365\tbest: 63147.8519365 (70)\ttotal: 336ms\tremaining: 137ms\n",
      "71:\tlearn: 59807.2790769\ttest: 63078.4164220\tbest: 63078.4164220 (71)\ttotal: 340ms\tremaining: 132ms\n",
      "72:\tlearn: 59699.1724238\ttest: 63017.3874007\tbest: 63017.3874007 (72)\ttotal: 344ms\tremaining: 127ms\n",
      "73:\tlearn: 59621.1407175\ttest: 63005.7808390\tbest: 63005.7808390 (73)\ttotal: 348ms\tremaining: 122ms\n",
      "74:\tlearn: 59595.7604157\ttest: 63010.7627233\tbest: 63005.7808390 (73)\ttotal: 352ms\tremaining: 117ms\n",
      "75:\tlearn: 59535.4339041\ttest: 62970.4308198\tbest: 62970.4308198 (75)\ttotal: 356ms\tremaining: 112ms\n",
      "76:\tlearn: 59458.2320985\ttest: 62918.3854926\tbest: 62918.3854926 (76)\ttotal: 360ms\tremaining: 107ms\n",
      "77:\tlearn: 59369.7748291\ttest: 62976.0856105\tbest: 62918.3854926 (76)\ttotal: 364ms\tremaining: 103ms\n",
      "78:\tlearn: 59295.4275196\ttest: 62901.7859593\tbest: 62901.7859593 (78)\ttotal: 368ms\tremaining: 97.7ms\n",
      "79:\tlearn: 59288.8117661\ttest: 62904.3752544\tbest: 62901.7859593 (78)\ttotal: 372ms\tremaining: 92.9ms\n",
      "80:\tlearn: 59232.6544292\ttest: 62868.1125734\tbest: 62868.1125734 (80)\ttotal: 375ms\tremaining: 88ms\n",
      "81:\tlearn: 59159.7624802\ttest: 62823.3051985\tbest: 62823.3051985 (81)\ttotal: 379ms\tremaining: 83.3ms\n",
      "82:\tlearn: 59156.6840964\ttest: 62823.2763739\tbest: 62823.2763739 (82)\ttotal: 388ms\tremaining: 79.4ms\n",
      "83:\tlearn: 59047.5480258\ttest: 62797.2652289\tbest: 62797.2652289 (83)\ttotal: 398ms\tremaining: 75.8ms\n",
      "84:\tlearn: 59007.1946549\ttest: 62822.3252601\tbest: 62797.2652289 (83)\ttotal: 404ms\tremaining: 71.3ms\n",
      "85:\tlearn: 58958.9190502\ttest: 62823.7700924\tbest: 62797.2652289 (83)\ttotal: 408ms\tremaining: 66.4ms\n",
      "86:\tlearn: 58940.3853507\ttest: 62827.1015675\tbest: 62797.2652289 (83)\ttotal: 412ms\tremaining: 61.5ms\n",
      "87:\tlearn: 58900.3682253\ttest: 62815.2619893\tbest: 62797.2652289 (83)\ttotal: 416ms\tremaining: 56.7ms\n",
      "88:\tlearn: 58833.7731292\ttest: 62813.7690261\tbest: 62797.2652289 (83)\ttotal: 421ms\tremaining: 52ms\n",
      "89:\tlearn: 58799.9124556\ttest: 62862.2844796\tbest: 62797.2652289 (83)\ttotal: 425ms\tremaining: 47.2ms\n",
      "90:\tlearn: 58773.6462891\ttest: 62866.3493297\tbest: 62797.2652289 (83)\ttotal: 429ms\tremaining: 42.4ms\n",
      "91:\tlearn: 58681.0013562\ttest: 62880.8561432\tbest: 62797.2652289 (83)\ttotal: 433ms\tremaining: 37.7ms\n",
      "92:\tlearn: 58589.3820893\ttest: 62815.8847928\tbest: 62797.2652289 (83)\ttotal: 437ms\tremaining: 32.9ms\n",
      "93:\tlearn: 58510.7488700\ttest: 62834.0770868\tbest: 62797.2652289 (83)\ttotal: 441ms\tremaining: 28.2ms\n",
      "94:\tlearn: 58394.0668852\ttest: 62729.1143605\tbest: 62729.1143605 (94)\ttotal: 445ms\tremaining: 23.4ms\n",
      "95:\tlearn: 58269.4915165\ttest: 62679.7684300\tbest: 62679.7684300 (95)\ttotal: 449ms\tremaining: 18.7ms\n",
      "96:\tlearn: 58210.7371127\ttest: 62638.0471295\tbest: 62638.0471295 (96)\ttotal: 453ms\tremaining: 14ms\n",
      "97:\tlearn: 58111.1520580\ttest: 62556.1319511\tbest: 62556.1319511 (97)\ttotal: 457ms\tremaining: 9.33ms\n",
      "98:\tlearn: 58016.1405953\ttest: 62505.5173174\tbest: 62505.5173174 (98)\ttotal: 461ms\tremaining: 4.66ms\n",
      "99:\tlearn: 57957.7024576\ttest: 62483.4474246\tbest: 62483.4474246 (99)\ttotal: 465ms\tremaining: 0us\n",
      "\n",
      "bestTest = 62483.44742\n",
      "bestIteration = 99\n",
      "\n",
      "Training on fold [3/5]\n",
      "0:\tlearn: 98434.6181603\ttest: 98961.2937955\tbest: 98961.2937955 (0)\ttotal: 2.95ms\tremaining: 292ms\n",
      "1:\tlearn: 82678.7886552\ttest: 82984.4527937\tbest: 82984.4527937 (1)\ttotal: 7.78ms\tremaining: 381ms\n",
      "2:\tlearn: 74429.9381707\ttest: 75061.7125136\tbest: 75061.7125136 (2)\ttotal: 12.5ms\tremaining: 406ms\n",
      "3:\tlearn: 72566.3868727\ttest: 73379.7193048\tbest: 73379.7193048 (3)\ttotal: 17ms\tremaining: 407ms\n",
      "4:\tlearn: 71342.8306011\ttest: 72119.6142303\tbest: 72119.6142303 (4)\ttotal: 21.1ms\tremaining: 400ms\n",
      "5:\tlearn: 70057.9703198\ttest: 71131.9380324\tbest: 71131.9380324 (5)\ttotal: 24.9ms\tremaining: 391ms\n",
      "6:\tlearn: 69306.9965082\ttest: 70297.0230818\tbest: 70297.0230818 (6)\ttotal: 28.9ms\tremaining: 384ms\n",
      "7:\tlearn: 68611.8118056\ttest: 69886.8412469\tbest: 69886.8412469 (7)\ttotal: 32.8ms\tremaining: 378ms\n",
      "8:\tlearn: 68323.2880736\ttest: 69572.3383576\tbest: 69572.3383576 (8)\ttotal: 36.8ms\tremaining: 373ms\n",
      "9:\tlearn: 67969.7047073\ttest: 69339.4458502\tbest: 69339.4458502 (9)\ttotal: 41.3ms\tremaining: 372ms\n",
      "10:\tlearn: 67536.5318014\ttest: 68935.1192109\tbest: 68935.1192109 (10)\ttotal: 45.4ms\tremaining: 367ms\n",
      "11:\tlearn: 66785.4121789\ttest: 68337.3153720\tbest: 68337.3153720 (11)\ttotal: 49.4ms\tremaining: 362ms\n",
      "12:\tlearn: 66275.0261270\ttest: 67955.7365335\tbest: 67955.7365335 (12)\ttotal: 53.3ms\tremaining: 357ms\n",
      "13:\tlearn: 65922.9068861\ttest: 67703.4213135\tbest: 67703.4213135 (13)\ttotal: 57.3ms\tremaining: 352ms\n",
      "14:\tlearn: 65674.2055495\ttest: 67555.1455674\tbest: 67555.1455674 (14)\ttotal: 61.4ms\tremaining: 348ms\n",
      "15:\tlearn: 65433.3930795\ttest: 67432.4625997\tbest: 67432.4625997 (15)\ttotal: 65.3ms\tremaining: 343ms\n",
      "16:\tlearn: 65254.7028999\ttest: 67319.0373374\tbest: 67319.0373374 (16)\ttotal: 69.2ms\tremaining: 338ms\n",
      "17:\tlearn: 65032.3094405\ttest: 67322.3371498\tbest: 67319.0373374 (16)\ttotal: 73.3ms\tremaining: 334ms\n",
      "18:\tlearn: 64828.6252502\ttest: 67243.9745101\tbest: 67243.9745101 (18)\ttotal: 77.3ms\tremaining: 330ms\n",
      "19:\tlearn: 64566.6194696\ttest: 67078.3704844\tbest: 67078.3704844 (19)\ttotal: 81.3ms\tremaining: 325ms\n",
      "20:\tlearn: 64426.0083002\ttest: 67023.9770665\tbest: 67023.9770665 (20)\ttotal: 85.3ms\tremaining: 321ms\n",
      "21:\tlearn: 64180.5417092\ttest: 66861.8466101\tbest: 66861.8466101 (21)\ttotal: 89.3ms\tremaining: 316ms\n",
      "22:\tlearn: 64177.6976283\ttest: 66861.5922473\tbest: 66861.5922473 (22)\ttotal: 92.8ms\tremaining: 311ms\n",
      "23:\tlearn: 63941.0416710\ttest: 66694.5883615\tbest: 66694.5883615 (23)\ttotal: 96.8ms\tremaining: 306ms\n",
      "24:\tlearn: 63854.3981914\ttest: 66677.1421898\tbest: 66677.1421898 (24)\ttotal: 101ms\tremaining: 302ms\n",
      "25:\tlearn: 63682.4564660\ttest: 66633.1964229\tbest: 66633.1964229 (25)\ttotal: 105ms\tremaining: 298ms\n",
      "26:\tlearn: 63587.6705658\ttest: 66541.2252338\tbest: 66541.2252338 (26)\ttotal: 109ms\tremaining: 294ms\n",
      "27:\tlearn: 63488.1121178\ttest: 66465.4319704\tbest: 66465.4319704 (27)\ttotal: 113ms\tremaining: 290ms\n",
      "28:\tlearn: 63256.8564518\ttest: 66363.0402952\tbest: 66363.0402952 (28)\ttotal: 117ms\tremaining: 286ms\n",
      "29:\tlearn: 63121.9590768\ttest: 66256.0038668\tbest: 66256.0038668 (29)\ttotal: 121ms\tremaining: 282ms\n",
      "30:\tlearn: 62936.2981859\ttest: 66206.5260227\tbest: 66206.5260227 (30)\ttotal: 125ms\tremaining: 278ms\n",
      "31:\tlearn: 62828.8096371\ttest: 66198.3287653\tbest: 66198.3287653 (31)\ttotal: 129ms\tremaining: 273ms\n",
      "32:\tlearn: 62709.5091664\ttest: 65906.9365142\tbest: 65906.9365142 (32)\ttotal: 132ms\tremaining: 269ms\n",
      "33:\tlearn: 62597.3458306\ttest: 65860.0898207\tbest: 65860.0898207 (33)\ttotal: 137ms\tremaining: 265ms\n",
      "34:\tlearn: 62504.9094219\ttest: 65814.5915613\tbest: 65814.5915613 (34)\ttotal: 141ms\tremaining: 261ms\n",
      "35:\tlearn: 62410.1954066\ttest: 65733.6500703\tbest: 65733.6500703 (35)\ttotal: 145ms\tremaining: 257ms\n",
      "36:\tlearn: 62396.2384589\ttest: 65697.1148113\tbest: 65697.1148113 (36)\ttotal: 148ms\tremaining: 253ms\n",
      "37:\tlearn: 62324.5373410\ttest: 65677.0219456\tbest: 65677.0219456 (37)\ttotal: 152ms\tremaining: 248ms\n",
      "38:\tlearn: 62177.1601079\ttest: 65650.9147125\tbest: 65650.9147125 (38)\ttotal: 156ms\tremaining: 244ms\n",
      "39:\tlearn: 61998.7136260\ttest: 65637.7752196\tbest: 65637.7752196 (39)\ttotal: 160ms\tremaining: 240ms\n",
      "40:\tlearn: 61916.0521852\ttest: 65549.7649004\tbest: 65549.7649004 (40)\ttotal: 164ms\tremaining: 237ms\n",
      "41:\tlearn: 61813.3118284\ttest: 65523.4165211\tbest: 65523.4165211 (41)\ttotal: 169ms\tremaining: 233ms\n",
      "42:\tlearn: 61668.0384536\ttest: 65440.6407396\tbest: 65440.6407396 (42)\ttotal: 173ms\tremaining: 229ms\n",
      "43:\tlearn: 61500.0121974\ttest: 65284.6138835\tbest: 65284.6138835 (43)\ttotal: 177ms\tremaining: 226ms\n",
      "44:\tlearn: 61420.0475080\ttest: 65295.3736160\tbest: 65284.6138835 (43)\ttotal: 181ms\tremaining: 222ms\n",
      "45:\tlearn: 61313.7126824\ttest: 65278.9065775\tbest: 65278.9065775 (45)\ttotal: 185ms\tremaining: 218ms\n",
      "46:\tlearn: 61142.6612290\ttest: 65187.1060612\tbest: 65187.1060612 (46)\ttotal: 189ms\tremaining: 214ms\n",
      "47:\tlearn: 61049.4523949\ttest: 65105.2437174\tbest: 65105.2437174 (47)\ttotal: 193ms\tremaining: 209ms\n",
      "48:\tlearn: 60971.2365098\ttest: 65080.8901288\tbest: 65080.8901288 (48)\ttotal: 197ms\tremaining: 205ms\n",
      "49:\tlearn: 60970.7019161\ttest: 65080.7440182\tbest: 65080.7440182 (49)\ttotal: 201ms\tremaining: 201ms\n",
      "50:\tlearn: 60808.6976277\ttest: 64969.1754876\tbest: 64969.1754876 (50)\ttotal: 205ms\tremaining: 197ms\n",
      "51:\tlearn: 60779.7342053\ttest: 64938.1497531\tbest: 64938.1497531 (51)\ttotal: 209ms\tremaining: 193ms\n",
      "52:\tlearn: 60670.0979051\ttest: 64928.0513533\tbest: 64928.0513533 (52)\ttotal: 213ms\tremaining: 188ms\n",
      "53:\tlearn: 60578.9333509\ttest: 64883.4483969\tbest: 64883.4483969 (53)\ttotal: 216ms\tremaining: 184ms\n",
      "54:\tlearn: 60497.8631778\ttest: 64912.8091002\tbest: 64883.4483969 (53)\ttotal: 220ms\tremaining: 180ms\n",
      "55:\tlearn: 60385.2913166\ttest: 64857.1040869\tbest: 64857.1040869 (55)\ttotal: 225ms\tremaining: 177ms\n",
      "56:\tlearn: 60273.3210523\ttest: 64922.4427476\tbest: 64857.1040869 (55)\ttotal: 229ms\tremaining: 173ms\n",
      "57:\tlearn: 60203.4877355\ttest: 64912.7297266\tbest: 64857.1040869 (55)\ttotal: 233ms\tremaining: 169ms\n",
      "58:\tlearn: 60092.3298293\ttest: 64868.5353483\tbest: 64857.1040869 (55)\ttotal: 238ms\tremaining: 165ms\n",
      "59:\tlearn: 60019.6139209\ttest: 64875.3051519\tbest: 64857.1040869 (55)\ttotal: 242ms\tremaining: 161ms\n",
      "60:\tlearn: 59942.0002464\ttest: 64809.3416416\tbest: 64809.3416416 (60)\ttotal: 247ms\tremaining: 158ms\n",
      "61:\tlearn: 59941.6449256\ttest: 64809.5113047\tbest: 64809.3416416 (60)\ttotal: 251ms\tremaining: 154ms\n",
      "62:\tlearn: 59941.2467387\ttest: 64809.6373383\tbest: 64809.3416416 (60)\ttotal: 254ms\tremaining: 149ms\n",
      "63:\tlearn: 59875.9779613\ttest: 64783.1363270\tbest: 64783.1363270 (63)\ttotal: 258ms\tremaining: 145ms\n",
      "64:\tlearn: 59793.3850749\ttest: 64737.0179500\tbest: 64737.0179500 (64)\ttotal: 262ms\tremaining: 141ms\n",
      "65:\tlearn: 59751.3718340\ttest: 64712.7524979\tbest: 64712.7524979 (65)\ttotal: 266ms\tremaining: 137ms\n",
      "66:\tlearn: 59653.1711149\ttest: 64605.8008497\tbest: 64605.8008497 (66)\ttotal: 270ms\tremaining: 133ms\n",
      "67:\tlearn: 59610.0014141\ttest: 64601.3538604\tbest: 64601.3538604 (67)\ttotal: 274ms\tremaining: 129ms\n",
      "68:\tlearn: 59550.8766839\ttest: 64596.7351068\tbest: 64596.7351068 (68)\ttotal: 278ms\tremaining: 125ms\n",
      "69:\tlearn: 59536.9446936\ttest: 64590.1068368\tbest: 64590.1068368 (69)\ttotal: 281ms\tremaining: 121ms\n",
      "70:\tlearn: 59426.9649530\ttest: 64610.4764356\tbest: 64590.1068368 (69)\ttotal: 285ms\tremaining: 117ms\n",
      "71:\tlearn: 59346.6336884\ttest: 64542.8223108\tbest: 64542.8223108 (71)\ttotal: 289ms\tremaining: 112ms\n",
      "72:\tlearn: 59276.2135726\ttest: 64488.0716567\tbest: 64488.0716567 (72)\ttotal: 293ms\tremaining: 108ms\n",
      "73:\tlearn: 59276.1717550\ttest: 64487.3420043\tbest: 64487.3420043 (73)\ttotal: 296ms\tremaining: 104ms\n",
      "74:\tlearn: 59274.1851732\ttest: 64486.0887677\tbest: 64486.0887677 (74)\ttotal: 300ms\tremaining: 100ms\n",
      "75:\tlearn: 59223.9353848\ttest: 64493.1045107\tbest: 64486.0887677 (74)\ttotal: 304ms\tremaining: 96ms\n",
      "76:\tlearn: 59223.9173161\ttest: 64492.9084951\tbest: 64486.0887677 (74)\ttotal: 307ms\tremaining: 91.7ms\n",
      "77:\tlearn: 59179.5683581\ttest: 64511.7931725\tbest: 64486.0887677 (74)\ttotal: 311ms\tremaining: 87.7ms\n",
      "78:\tlearn: 58987.5232909\ttest: 64556.1108178\tbest: 64486.0887677 (74)\ttotal: 315ms\tremaining: 83.9ms\n",
      "79:\tlearn: 58943.8140327\ttest: 64519.9972313\tbest: 64486.0887677 (74)\ttotal: 320ms\tremaining: 79.9ms\n",
      "80:\tlearn: 58886.6129166\ttest: 64517.3846873\tbest: 64486.0887677 (74)\ttotal: 325ms\tremaining: 76.1ms\n",
      "81:\tlearn: 58826.7151210\ttest: 64480.5707655\tbest: 64480.5707655 (81)\ttotal: 329ms\tremaining: 72.2ms\n",
      "82:\tlearn: 58730.7046360\ttest: 64422.2525022\tbest: 64422.2525022 (82)\ttotal: 333ms\tremaining: 68.2ms\n",
      "83:\tlearn: 58678.8799436\ttest: 64410.4927922\tbest: 64410.4927922 (83)\ttotal: 337ms\tremaining: 64.2ms\n",
      "84:\tlearn: 58620.9843996\ttest: 64396.8669340\tbest: 64396.8669340 (84)\ttotal: 341ms\tremaining: 60.1ms\n",
      "85:\tlearn: 58591.0976047\ttest: 64393.4598819\tbest: 64393.4598819 (85)\ttotal: 345ms\tremaining: 56.1ms\n",
      "86:\tlearn: 58550.8541825\ttest: 64351.9789043\tbest: 64351.9789043 (86)\ttotal: 349ms\tremaining: 52.1ms\n",
      "87:\tlearn: 58396.4071928\ttest: 64286.2819797\tbest: 64286.2819797 (87)\ttotal: 353ms\tremaining: 48.1ms\n",
      "88:\tlearn: 58300.8690324\ttest: 64286.1052004\tbest: 64286.1052004 (88)\ttotal: 357ms\tremaining: 44.1ms\n",
      "89:\tlearn: 58209.8796024\ttest: 64271.6467736\tbest: 64271.6467736 (89)\ttotal: 361ms\tremaining: 40.1ms\n",
      "90:\tlearn: 58140.6386703\ttest: 64222.3838462\tbest: 64222.3838462 (90)\ttotal: 365ms\tremaining: 36.1ms\n",
      "91:\tlearn: 58047.1249335\ttest: 64217.4809189\tbest: 64217.4809189 (91)\ttotal: 369ms\tremaining: 32.1ms\n",
      "92:\tlearn: 57992.5454673\ttest: 64187.7911567\tbest: 64187.7911567 (92)\ttotal: 373ms\tremaining: 28ms\n",
      "93:\tlearn: 57947.2642710\ttest: 64152.9412907\tbest: 64152.9412907 (93)\ttotal: 377ms\tremaining: 24ms\n",
      "94:\tlearn: 57896.5563471\ttest: 64130.3397655\tbest: 64130.3397655 (94)\ttotal: 381ms\tremaining: 20ms\n",
      "95:\tlearn: 57831.3818711\ttest: 64124.3240504\tbest: 64124.3240504 (95)\ttotal: 385ms\tremaining: 16ms\n",
      "96:\tlearn: 57764.3943337\ttest: 64083.9587386\tbest: 64083.9587386 (96)\ttotal: 389ms\tremaining: 12ms\n",
      "97:\tlearn: 57701.2292729\ttest: 64096.2201190\tbest: 64083.9587386 (96)\ttotal: 393ms\tremaining: 8.02ms\n",
      "98:\tlearn: 57629.8790838\ttest: 64039.7915909\tbest: 64039.7915909 (98)\ttotal: 397ms\tremaining: 4.01ms\n",
      "99:\tlearn: 57559.9551710\ttest: 64012.3392609\tbest: 64012.3392609 (99)\ttotal: 401ms\tremaining: 0us\n",
      "\n",
      "bestTest = 64012.33926\n",
      "bestIteration = 99\n",
      "\n",
      "Training on fold [4/5]\n",
      "0:\tlearn: 98634.7536511\ttest: 98163.5447842\tbest: 98163.5447842 (0)\ttotal: 2.68ms\tremaining: 266ms\n",
      "1:\tlearn: 83141.3235818\ttest: 82979.9806366\tbest: 82979.9806366 (1)\ttotal: 6.88ms\tremaining: 337ms\n",
      "2:\tlearn: 78277.9056920\ttest: 78243.9040015\tbest: 78243.9040015 (2)\ttotal: 10.9ms\tremaining: 354ms\n",
      "3:\tlearn: 72931.5671765\ttest: 73053.6395301\tbest: 73053.6395301 (3)\ttotal: 15.6ms\tremaining: 374ms\n",
      "4:\tlearn: 71601.4121654\ttest: 71766.5770726\tbest: 71766.5770726 (4)\ttotal: 19.8ms\tremaining: 376ms\n",
      "5:\tlearn: 70757.7557044\ttest: 70905.6657879\tbest: 70905.6657879 (5)\ttotal: 24.4ms\tremaining: 382ms\n",
      "6:\tlearn: 70215.5987957\ttest: 70316.5940188\tbest: 70316.5940188 (6)\ttotal: 29ms\tremaining: 386ms\n",
      "7:\tlearn: 69205.8440640\ttest: 69269.3893348\tbest: 69269.3893348 (7)\ttotal: 33.1ms\tremaining: 381ms\n",
      "8:\tlearn: 68783.8323342\ttest: 68877.1277360\tbest: 68877.1277360 (8)\ttotal: 37.1ms\tremaining: 375ms\n",
      "9:\tlearn: 68341.6524898\ttest: 68491.7548593\tbest: 68491.7548593 (9)\ttotal: 41.1ms\tremaining: 369ms\n",
      "10:\tlearn: 68100.5795030\ttest: 68384.1898442\tbest: 68384.1898442 (10)\ttotal: 49.8ms\tremaining: 403ms\n",
      "11:\tlearn: 67732.2802112\ttest: 67999.8107399\tbest: 67999.8107399 (11)\ttotal: 59.7ms\tremaining: 438ms\n",
      "12:\tlearn: 67137.7496633\ttest: 67495.6873566\tbest: 67495.6873566 (12)\ttotal: 67.5ms\tremaining: 452ms\n",
      "13:\tlearn: 66593.2175078\ttest: 66784.6047389\tbest: 66784.6047389 (13)\ttotal: 71.5ms\tremaining: 439ms\n",
      "14:\tlearn: 66123.7772953\ttest: 66396.6674253\tbest: 66396.6674253 (14)\ttotal: 75.6ms\tremaining: 428ms\n",
      "15:\tlearn: 65878.6998941\ttest: 66294.2452954\tbest: 66294.2452954 (15)\ttotal: 79.5ms\tremaining: 417ms\n",
      "16:\tlearn: 65685.2157627\ttest: 66135.7029672\tbest: 66135.7029672 (16)\ttotal: 83.9ms\tremaining: 410ms\n",
      "17:\tlearn: 65378.2818566\ttest: 66058.5154289\tbest: 66058.5154289 (17)\ttotal: 88.4ms\tremaining: 403ms\n",
      "18:\tlearn: 65142.2686443\ttest: 65737.2452251\tbest: 65737.2452251 (18)\ttotal: 92.8ms\tremaining: 396ms\n",
      "19:\tlearn: 65053.2634994\ttest: 65674.5918015\tbest: 65674.5918015 (19)\ttotal: 97.2ms\tremaining: 389ms\n",
      "20:\tlearn: 64846.7658307\ttest: 65427.6179018\tbest: 65427.6179018 (20)\ttotal: 101ms\tremaining: 381ms\n",
      "21:\tlearn: 64648.7583907\ttest: 65319.7951075\tbest: 65319.7951075 (21)\ttotal: 105ms\tremaining: 374ms\n",
      "22:\tlearn: 64474.9281535\ttest: 65303.8469680\tbest: 65303.8469680 (22)\ttotal: 109ms\tremaining: 366ms\n",
      "23:\tlearn: 64425.8837544\ttest: 65272.1010568\tbest: 65272.1010568 (23)\ttotal: 113ms\tremaining: 358ms\n",
      "24:\tlearn: 64241.0693027\ttest: 65033.5154585\tbest: 65033.5154585 (24)\ttotal: 117ms\tremaining: 352ms\n",
      "25:\tlearn: 64057.6873813\ttest: 64896.7319846\tbest: 64896.7319846 (25)\ttotal: 121ms\tremaining: 346ms\n",
      "26:\tlearn: 63983.5503029\ttest: 64909.8819716\tbest: 64896.7319846 (25)\ttotal: 125ms\tremaining: 339ms\n",
      "27:\tlearn: 63891.0364701\ttest: 64856.2947435\tbest: 64856.2947435 (27)\ttotal: 129ms\tremaining: 332ms\n",
      "28:\tlearn: 63675.9426812\ttest: 64699.1673811\tbest: 64699.1673811 (28)\ttotal: 133ms\tremaining: 326ms\n",
      "29:\tlearn: 63513.4493643\ttest: 64584.6589051\tbest: 64584.6589051 (29)\ttotal: 137ms\tremaining: 320ms\n",
      "30:\tlearn: 63336.0755415\ttest: 64449.8429477\tbest: 64449.8429477 (30)\ttotal: 141ms\tremaining: 314ms\n",
      "31:\tlearn: 63261.8370025\ttest: 64482.2939929\tbest: 64449.8429477 (30)\ttotal: 145ms\tremaining: 308ms\n",
      "32:\tlearn: 63013.0924426\ttest: 64364.3913771\tbest: 64364.3913771 (32)\ttotal: 149ms\tremaining: 302ms\n",
      "33:\tlearn: 62943.3104804\ttest: 64301.5126433\tbest: 64301.5126433 (33)\ttotal: 153ms\tremaining: 296ms\n",
      "34:\tlearn: 62819.4803248\ttest: 64228.4900429\tbest: 64228.4900429 (34)\ttotal: 157ms\tremaining: 291ms\n",
      "35:\tlearn: 62664.2976757\ttest: 64158.0530877\tbest: 64158.0530877 (35)\ttotal: 161ms\tremaining: 286ms\n",
      "36:\tlearn: 62577.1847309\ttest: 64113.7052323\tbest: 64113.7052323 (36)\ttotal: 165ms\tremaining: 280ms\n",
      "37:\tlearn: 62381.8177817\ttest: 63909.8433914\tbest: 63909.8433914 (37)\ttotal: 169ms\tremaining: 275ms\n",
      "38:\tlearn: 62274.4976643\ttest: 63852.4199894\tbest: 63852.4199894 (38)\ttotal: 172ms\tremaining: 270ms\n",
      "39:\tlearn: 62131.1236450\ttest: 63708.2387784\tbest: 63708.2387784 (39)\ttotal: 176ms\tremaining: 265ms\n",
      "40:\tlearn: 62129.3525898\ttest: 63708.2121920\tbest: 63708.2121920 (40)\ttotal: 180ms\tremaining: 259ms\n",
      "41:\tlearn: 62075.9789362\ttest: 63713.3183082\tbest: 63708.2121920 (40)\ttotal: 184ms\tremaining: 254ms\n",
      "42:\tlearn: 62001.0902255\ttest: 63658.7762765\tbest: 63658.7762765 (42)\ttotal: 188ms\tremaining: 249ms\n",
      "43:\tlearn: 61907.4599408\ttest: 63661.1192487\tbest: 63658.7762765 (42)\ttotal: 192ms\tremaining: 244ms\n",
      "44:\tlearn: 61883.2843186\ttest: 63675.5319040\tbest: 63658.7762765 (42)\ttotal: 196ms\tremaining: 239ms\n",
      "45:\tlearn: 61862.4435278\ttest: 63659.1181241\tbest: 63658.7762765 (42)\ttotal: 200ms\tremaining: 234ms\n",
      "46:\tlearn: 61750.0266608\ttest: 63568.0985291\tbest: 63568.0985291 (46)\ttotal: 204ms\tremaining: 230ms\n",
      "47:\tlearn: 61633.6332586\ttest: 63577.8830856\tbest: 63568.0985291 (46)\ttotal: 208ms\tremaining: 226ms\n",
      "48:\tlearn: 61496.1493073\ttest: 63516.3836714\tbest: 63516.3836714 (48)\ttotal: 212ms\tremaining: 221ms\n",
      "49:\tlearn: 61393.4475739\ttest: 63531.3556408\tbest: 63516.3836714 (48)\ttotal: 216ms\tremaining: 216ms\n",
      "50:\tlearn: 61270.2035373\ttest: 63424.8240835\tbest: 63424.8240835 (50)\ttotal: 220ms\tremaining: 211ms\n",
      "51:\tlearn: 61192.5347829\ttest: 63395.5024081\tbest: 63395.5024081 (51)\ttotal: 224ms\tremaining: 207ms\n",
      "52:\tlearn: 61116.8449798\ttest: 63385.3346703\tbest: 63385.3346703 (52)\ttotal: 229ms\tremaining: 203ms\n",
      "53:\tlearn: 61051.0674511\ttest: 63379.3829056\tbest: 63379.3829056 (53)\ttotal: 233ms\tremaining: 198ms\n",
      "54:\tlearn: 60901.2498321\ttest: 63327.4209100\tbest: 63327.4209100 (54)\ttotal: 237ms\tremaining: 194ms\n",
      "55:\tlearn: 60826.5225483\ttest: 63393.7075653\tbest: 63327.4209100 (54)\ttotal: 241ms\tremaining: 189ms\n",
      "56:\tlearn: 60700.5290740\ttest: 63276.7646018\tbest: 63276.7646018 (56)\ttotal: 245ms\tremaining: 184ms\n",
      "57:\tlearn: 60582.9935863\ttest: 63235.2170834\tbest: 63235.2170834 (57)\ttotal: 248ms\tremaining: 180ms\n",
      "58:\tlearn: 60464.8698514\ttest: 63165.5670047\tbest: 63165.5670047 (58)\ttotal: 253ms\tremaining: 176ms\n",
      "59:\tlearn: 60382.0966585\ttest: 63174.5716423\tbest: 63165.5670047 (58)\ttotal: 256ms\tremaining: 171ms\n",
      "60:\tlearn: 60379.6721396\ttest: 63179.4093861\tbest: 63165.5670047 (58)\ttotal: 260ms\tremaining: 166ms\n",
      "61:\tlearn: 60317.6354054\ttest: 63166.9645748\tbest: 63165.5670047 (58)\ttotal: 264ms\tremaining: 162ms\n",
      "62:\tlearn: 60218.1364337\ttest: 63109.8047472\tbest: 63109.8047472 (62)\ttotal: 268ms\tremaining: 157ms\n",
      "63:\tlearn: 60141.0123986\ttest: 63102.8313928\tbest: 63102.8313928 (63)\ttotal: 272ms\tremaining: 153ms\n",
      "64:\tlearn: 60075.3253403\ttest: 63096.9913479\tbest: 63096.9913479 (64)\ttotal: 275ms\tremaining: 148ms\n",
      "65:\tlearn: 60072.9898925\ttest: 63100.0630085\tbest: 63096.9913479 (64)\ttotal: 279ms\tremaining: 144ms\n",
      "66:\tlearn: 59983.8494461\ttest: 63127.1282548\tbest: 63096.9913479 (64)\ttotal: 283ms\tremaining: 140ms\n",
      "67:\tlearn: 59886.4082312\ttest: 63077.8124062\tbest: 63077.8124062 (67)\ttotal: 288ms\tremaining: 135ms\n",
      "68:\tlearn: 59884.2328968\ttest: 63081.1194389\tbest: 63077.8124062 (67)\ttotal: 291ms\tremaining: 131ms\n",
      "69:\tlearn: 59801.8795581\ttest: 63055.6840154\tbest: 63055.6840154 (69)\ttotal: 295ms\tremaining: 126ms\n",
      "70:\tlearn: 59683.3766816\ttest: 63025.9584648\tbest: 63025.9584648 (70)\ttotal: 299ms\tremaining: 122ms\n",
      "71:\tlearn: 59624.7066924\ttest: 63018.2623624\tbest: 63018.2623624 (71)\ttotal: 303ms\tremaining: 118ms\n",
      "72:\tlearn: 59551.4647984\ttest: 62982.0116531\tbest: 62982.0116531 (72)\ttotal: 307ms\tremaining: 113ms\n",
      "73:\tlearn: 59506.8795887\ttest: 62998.3971505\tbest: 62982.0116531 (72)\ttotal: 311ms\tremaining: 109ms\n",
      "74:\tlearn: 59386.8192355\ttest: 62996.4179406\tbest: 62982.0116531 (72)\ttotal: 315ms\tremaining: 105ms\n",
      "75:\tlearn: 59319.0451374\ttest: 62945.9190420\tbest: 62945.9190420 (75)\ttotal: 319ms\tremaining: 101ms\n",
      "76:\tlearn: 59284.4210926\ttest: 62940.6484053\tbest: 62940.6484053 (76)\ttotal: 324ms\tremaining: 96.7ms\n",
      "77:\tlearn: 59187.8446064\ttest: 62871.0943100\tbest: 62871.0943100 (77)\ttotal: 328ms\tremaining: 92.5ms\n",
      "78:\tlearn: 59065.9472747\ttest: 62887.7512380\tbest: 62871.0943100 (77)\ttotal: 332ms\tremaining: 88.2ms\n",
      "79:\tlearn: 58992.1020845\ttest: 62892.7722544\tbest: 62871.0943100 (77)\ttotal: 336ms\tremaining: 83.9ms\n",
      "80:\tlearn: 58920.5424867\ttest: 62922.3827694\tbest: 62871.0943100 (77)\ttotal: 340ms\tremaining: 79.7ms\n",
      "81:\tlearn: 58833.9413457\ttest: 62886.5057767\tbest: 62871.0943100 (77)\ttotal: 344ms\tremaining: 75.5ms\n",
      "82:\tlearn: 58723.4610936\ttest: 62857.5221051\tbest: 62857.5221051 (82)\ttotal: 348ms\tremaining: 71.2ms\n",
      "83:\tlearn: 58650.7083148\ttest: 62906.4090090\tbest: 62857.5221051 (82)\ttotal: 352ms\tremaining: 67ms\n",
      "84:\tlearn: 58547.5183220\ttest: 62865.7354450\tbest: 62857.5221051 (82)\ttotal: 356ms\tremaining: 62.8ms\n",
      "85:\tlearn: 58505.4538099\ttest: 62861.4137632\tbest: 62857.5221051 (82)\ttotal: 360ms\tremaining: 58.5ms\n",
      "86:\tlearn: 58417.6891642\ttest: 62893.1171967\tbest: 62857.5221051 (82)\ttotal: 363ms\tremaining: 54.3ms\n",
      "87:\tlearn: 58352.1673111\ttest: 62887.4982704\tbest: 62857.5221051 (82)\ttotal: 367ms\tremaining: 50.1ms\n",
      "88:\tlearn: 58238.6430443\ttest: 62824.7092195\tbest: 62824.7092195 (88)\ttotal: 371ms\tremaining: 45.9ms\n",
      "89:\tlearn: 58131.1635468\ttest: 62857.0647454\tbest: 62824.7092195 (88)\ttotal: 375ms\tremaining: 41.7ms\n",
      "90:\tlearn: 58072.2477022\ttest: 62879.8315162\tbest: 62824.7092195 (88)\ttotal: 379ms\tremaining: 37.5ms\n",
      "91:\tlearn: 58013.7191367\ttest: 62882.8588861\tbest: 62824.7092195 (88)\ttotal: 383ms\tremaining: 33.3ms\n",
      "92:\tlearn: 57906.3149271\ttest: 62861.3333208\tbest: 62824.7092195 (88)\ttotal: 387ms\tremaining: 29.1ms\n",
      "93:\tlearn: 57874.5558029\ttest: 62836.7448775\tbest: 62824.7092195 (88)\ttotal: 391ms\tremaining: 24.9ms\n",
      "94:\tlearn: 57821.6570678\ttest: 62828.3335313\tbest: 62824.7092195 (88)\ttotal: 394ms\tremaining: 20.8ms\n",
      "95:\tlearn: 57774.3775972\ttest: 62815.7944206\tbest: 62815.7944206 (95)\ttotal: 398ms\tremaining: 16.6ms\n",
      "96:\tlearn: 57713.9815089\ttest: 62835.6003226\tbest: 62815.7944206 (95)\ttotal: 402ms\tremaining: 12.4ms\n",
      "97:\tlearn: 57669.7996497\ttest: 62814.8897600\tbest: 62814.8897600 (97)\ttotal: 406ms\tremaining: 8.29ms\n",
      "98:\tlearn: 57593.3469329\ttest: 62843.2477823\tbest: 62814.8897600 (97)\ttotal: 410ms\tremaining: 4.14ms\n",
      "99:\tlearn: 57572.2878172\ttest: 62847.1784036\tbest: 62814.8897600 (97)\ttotal: 414ms\tremaining: 0us\n",
      "\n",
      "bestTest = 62814.88976\n",
      "bestIteration = 97\n",
      "\n"
     ]
    },
    {
     "data": {
      "text/plain": "{'best_params_': {'depth': 6, 'learning_rate': 1, 'l2_leaf_reg': 7},\n 'cv_results_': defaultdict(list,\n             {'iterations': [0,\n               1,\n               2,\n               3,\n               4,\n               5,\n               6,\n               7,\n               8,\n               9,\n               10,\n               11,\n               12,\n               13,\n               14,\n               15,\n               16,\n               17,\n               18,\n               19,\n               20,\n               21,\n               22,\n               23,\n               24,\n               25,\n               26,\n               27,\n               28,\n               29,\n               30,\n               31,\n               32,\n               33,\n               34,\n               35,\n               36,\n               37,\n               38,\n               39,\n               40,\n               41,\n               42,\n               43,\n               44,\n               45,\n               46,\n               47,\n               48,\n               49,\n               50,\n               51,\n               52,\n               53,\n               54,\n               55,\n               56,\n               57,\n               58,\n               59,\n               60,\n               61,\n               62,\n               63,\n               64,\n               65,\n               66,\n               67,\n               68,\n               69,\n               70,\n               71,\n               72,\n               73,\n               74,\n               75,\n               76,\n               77,\n               78,\n               79,\n               80,\n               81,\n               82,\n               83,\n               84,\n               85,\n               86,\n               87,\n               88,\n               89,\n               90,\n               91,\n               92,\n               93,\n               94,\n               95,\n               96,\n               97,\n               98,\n               99],\n              'test-RMSE-mean': [98541.74808567333,\n               83158.45871796247,\n               77870.46426772987,\n               73318.0318548623,\n               72212.67023783576,\n               71336.56083538654,\n               70632.52844939071,\n               70071.31520315321,\n               69519.26074768146,\n               69041.54110178603,\n               68697.20212784375,\n               68335.0925184287,\n               67912.66727537803,\n               67534.90312429274,\n               67313.47134533913,\n               67159.37316969743,\n               66939.76472220072,\n               66790.73084927644,\n               66597.52551406233,\n               66511.2741378229,\n               66360.78382813047,\n               66237.14211536171,\n               66210.41602165387,\n               66087.90044365832,\n               65993.6284285099,\n               65882.91734248975,\n               65798.94185522865,\n               65751.08156664671,\n               65625.8842367285,\n               65566.74024633937,\n               65501.06509860471,\n               65435.75263095689,\n               65296.829661889235,\n               65219.55463756543,\n               65160.404847929894,\n               65101.92235072892,\n               64997.55043380307,\n               64882.23233284776,\n               64823.9498176028,\n               64748.325888846266,\n               64707.102388496,\n               64663.94663511529,\n               64594.73708609949,\n               64516.04631028528,\n               64492.29615214936,\n               64444.23887751952,\n               64402.043845818305,\n               64371.63358299455,\n               64319.46997627218,\n               64294.761376972776,\n               64217.47737953717,\n               64209.11939684602,\n               64145.24185740579,\n               64112.759206430506,\n               64054.70930826371,\n               64040.03004375502,\n               64038.387556678965,\n               64012.85141683994,\n               63947.96498813356,\n               63943.48952470019,\n               63891.557441887875,\n               63853.0245619701,\n               63831.506552411964,\n               63791.67837244631,\n               63767.75819779942,\n               63724.051901154584,\n               63679.23200436466,\n               63643.37368041766,\n               63611.8205108894,\n               63584.14069847665,\n               63578.42683230252,\n               63540.998539506996,\n               63499.18796787846,\n               63470.82210228901,\n               63478.01566043156,\n               63450.61862024253,\n               63420.614319841494,\n               63413.36756896889,\n               63404.61850025974,\n               63396.751575513204,\n               63380.04882682441,\n               63344.895753993944,\n               63321.028602921,\n               63332.18658639376,\n               63324.1651800122,\n               63310.38548564162,\n               63307.289644822464,\n               63279.97178213128,\n               63260.09163182574,\n               63259.25386543316,\n               63248.353691141354,\n               63236.69352552567,\n               63200.548431453644,\n               63194.04781907106,\n               63142.56390375369,\n               63132.40385809199,\n               63110.446258612195,\n               63077.04186858225,\n               63054.94191312922,\n               63052.86893277422],\n              'test-RMSE-std': [392.9523569941018,\n               208.08886803276448,\n               1618.4721248574729,\n               402.03024326125677,\n               471.16081389012567,\n               407.9977271302253,\n               355.2373688305167,\n               563.454806710709,\n               396.9786134396313,\n               467.90472934546824,\n               373.9983760709769,\n               319.7095434046953,\n               363.463437908138,\n               512.0096604588023,\n               556.6654596142333,\n               509.0880543274233,\n               495.07238389383554,\n               479.6817770084009,\n               574.3500752255127,\n               564.0862528983632,\n               619.4692084194455,\n               610.5374267185824,\n               601.5343396637924,\n               559.7131275045189,\n               637.4917821482502,\n               656.9968138643262,\n               632.106607066147,\n               625.4581469061341,\n               661.5747317453988,\n               667.5187978274308,\n               719.7123363557645,\n               675.8844976873702,\n               646.1675419614799,\n               625.5494315291412,\n               639.7487692592948,\n               634.3149836301244,\n               645.0176677731343,\n               698.4170073230089,\n               723.705957951591,\n               753.9902946672369,\n               723.4163626278647,\n               708.5874075005758,\n               684.8102386288256,\n               625.3235412325596,\n               633.3338608473962,\n               642.1677425506841,\n               634.5530253316322,\n               596.4457156162314,\n               615.0032229279241,\n               599.6706698586249,\n               596.911869751764,\n               597.7449735622927,\n               594.7642279973552,\n               583.2960214551935,\n               602.8738192990949,\n               562.1674685788707,\n               625.8063863139154,\n               639.2163733438673,\n               634.763808433222,\n               628.6591754765266,\n               605.484264003727,\n               620.4049968066536,\n               641.4505614835338,\n               630.9902549423317,\n               612.4917297737442,\n               612.2236481061558,\n               572.9825225360653,\n               584.5822079521563,\n               594.7668434891203,\n               607.4729306765249,\n               624.0639272682472,\n               611.3804195798033,\n               608.9749622495481,\n               608.0864355033746,\n               606.5949506754306,\n               627.2536754345248,\n               639.6414171546978,\n               651.7066428720711,\n               681.0650022961742,\n               664.6692260980437,\n               666.9403436728027,\n               668.0718394517484,\n               649.1028877932291,\n               639.7872007866699,\n               636.22050663254,\n               637.1973733303294,\n               613.888407455313,\n               592.3309499409552,\n               605.0948710211661,\n               585.331663709279,\n               560.6513788889368,\n               559.136044889303,\n               564.6026720508969,\n               549.179388021721,\n               565.5266586245929,\n               573.1242082205424,\n               563.9741234293493,\n               593.0572887130705,\n               579.3814321226581,\n               571.7525638679131],\n              'train-RMSE-mean': [98539.56860670063,\n               83072.45766376071,\n               77538.79021465199,\n               72952.07521064147,\n               71724.70843992133,\n               70782.20347160341,\n               70052.06167730615,\n               69362.71785767627,\n               68811.56501795977,\n               68304.00184235707,\n               67864.29760681257,\n               67448.14297338629,\n               66969.57348549526,\n               66564.55754118289,\n               66232.23310391433,\n               65971.13503102724,\n               65691.62629848479,\n               65440.86300288721,\n               65209.630457809675,\n               65065.27658537694,\n               64882.17302845337,\n               64687.58119890692,\n               64614.79662433699,\n               64437.67515441265,\n               64283.74006903575,\n               64093.48072611091,\n               63961.61282674739,\n               63822.05672841003,\n               63646.63373581334,\n               63504.94565359973,\n               63333.9322844936,\n               63223.711719137165,\n               63076.26576218632,\n               62963.42859500538,\n               62839.12805100674,\n               62751.29046802258,\n               62622.587761331946,\n               62484.41488026321,\n               62364.552276364935,\n               62222.631055580525,\n               62119.960111759065,\n               62023.60637888372,\n               61899.103207506356,\n               61799.18660857228,\n               61737.808626599064,\n               61642.04964457763,\n               61522.90616087707,\n               61421.093058958926,\n               61329.71567076575,\n               61245.443159685485,\n               61139.98279020643,\n               61064.15804882778,\n               60972.86725546321,\n               60907.28273370232,\n               60796.20650199333,\n               60721.31294636611,\n               60613.092996301726,\n               60536.04666094292,\n               60433.72674634044,\n               60363.03837040317,\n               60309.69305425595,\n               60259.90307343402,\n               60195.21825544159,\n               60120.67424973588,\n               60029.84752733676,\n               59967.087620130755,\n               59882.921377613864,\n               59821.11060078915,\n               59770.6611283367,\n               59705.098655020774,\n               59617.96863535303,\n               59531.454547318004,\n               59454.90732574854,\n               59397.21293139217,\n               59321.99522204414,\n               59261.16561656164,\n               59214.114842911615,\n               59151.02846638635,\n               59054.02985169289,\n               58999.92588328342,\n               58931.97639569065,\n               58860.47872876671,\n               58787.14961298995,\n               58712.450726960225,\n               58637.06132045564,\n               58588.88809343321,\n               58522.74571092353,\n               58454.17388357398,\n               58380.072815155865,\n               58311.91872629725,\n               58240.32455638808,\n               58156.447859680615,\n               58088.27804372845,\n               58034.240476939,\n               57963.506723871455,\n               57898.20413635048,\n               57849.52487121049,\n               57769.78403557057,\n               57697.753166825605,\n               57642.98931342738],\n              'train-RMSE-std': [98.40760290094269,\n               227.95843359371625,\n               1739.8080787980869,\n               237.63522943978313,\n               261.89221103931544,\n               506.6021580451233,\n               440.6472329437923,\n               468.83278785697104,\n               329.75059874337956,\n               212.54821726420283,\n               272.86091533917687,\n               411.9937939094063,\n               427.8557013020801,\n               377.1435928984723,\n               391.4002042211146,\n               377.6650559357552,\n               310.7358226580007,\n               310.1896189748569,\n               285.6017809386506,\n               335.88101193881386,\n               320.5735610461214,\n               346.977372048278,\n               341.5104871016424,\n               365.21126905488666,\n               317.9356404386862,\n               321.4807359479725,\n               287.9560536015548,\n               267.7065326975172,\n               300.5124356311584,\n               284.6793590890627,\n               267.84553354895,\n               278.93453309744683,\n               274.53327722836246,\n               305.3725667221807,\n               320.928475131567,\n               317.9916211889212,\n               263.8915418795191,\n               233.03673082971585,\n               228.64554587502818,\n               262.8294129931495,\n               267.3621133330678,\n               251.15377038757194,\n               293.30763487894217,\n               297.33003143489907,\n               318.3475812952632,\n               316.971417524943,\n               346.00583121649134,\n               342.0000370984674,\n               366.16729633271956,\n               359.87012122652794,\n               407.57455495765765,\n               391.96598161904024,\n               386.32363217407726,\n               415.4089824219551,\n               414.52750780235226,\n               388.9164287197104,\n               372.58029332892824,\n               352.9324301171606,\n               372.2502852023634,\n               389.6352348448593,\n               412.2945890873039,\n               379.48968669632535,\n               376.43505346450894,\n               387.307941486363,\n               362.7700764514869,\n               367.7497406370552,\n               363.33196333398087,\n               351.145638913197,\n               366.08783230805886,\n               345.7541735874108,\n               344.16308439990917,\n               313.22732134428344,\n               297.0007766482593,\n               286.54700800371995,\n               318.64513921669084,\n               308.3062323477569,\n               310.9692681607765,\n               319.7093811991062,\n               300.6439299708347,\n               296.9778742183421,\n               309.231410159264,\n               291.2849527901839,\n               313.1458797122078,\n               310.8302946376497,\n               320.3586995821361,\n               304.89869826116126,\n               307.1613721186425,\n               305.9791978673221,\n               302.9155624445003,\n               327.59768958630247,\n               347.65874795088286,\n               354.3865061659181,\n               340.02207038217693,\n               325.2472232718187,\n               303.4238534347866,\n               297.71975642821997,\n               305.52731322010004,\n               284.9691359774469,\n               270.3545883741937,\n               263.18122660446977]}),\n 'best_estimator_': None}"
     },
     "execution_count": 76,
     "metadata": {},
     "output_type": "execute_result"
    }
   ],
   "source": [
    "def fit_model_with_cross_validation(gs, X_train, y_train, fits):\n",
    "    pipe_start = time()\n",
    "    cv_result = gs.fit(X_train, y_train)\n",
    "    #gs.fit(X_train, y_train)\n",
    "    pipe_end = time()\n",
    "    average_time = round((pipe_end - pipe_start) / (fits), 2)\n",
    "\n",
    "    print(f\"Total fit/CV time      : {int(pipe_end - pipe_start)} seconds   ({pipe_start} ==> {pipe_end})\")\n",
    "    print()\n",
    "    print(\n",
    "        f'average fit/score time = {round(cv_result.cv_results_[\"mean_fit_time\"].mean(), 2)}s/{round(cv_result.cv_results_[\"mean_score_time\"].mean(), 2)}s')\n",
    "    print(\n",
    "        f'max fit/score time     = {round(cv_result.cv_results_[\"mean_fit_time\"].max(), 2)}s/{round(cv_result.cv_results_[\"mean_score_time\"].max(), 2)}s')\n",
    "    print(f'refit time             = {round(cv_result.refit_time_, 2)}s')\n",
    "\n",
    "    #return cv_result, average_time, cv_result.refit_time_, len(cv_result.cv_results_[\"mean_fit_time\"])\n",
    "    return average_time, cv_result.refit_time_, len(cv_result.cv_results_[\"mean_fit_time\"])\n",
    "\n",
    "\n",
    "if not_catboost:\n",
    "    if ALGORITHM_DETAIL == 'grid search':\n",
    "        crossval_runner = GridSearchCV(\n",
    "            estimator=starter_pipe,\n",
    "            param_grid=param_options,\n",
    "            cv=cv, n_jobs=n_jobs, # get the AVX/AVX2 info if use n_jobs > 2\n",
    "            verbose=verbose, scoring=CROSS_VALIDATION_SCORING,\n",
    "            refit=refit,\n",
    "            return_train_score=True, #n_iter=n_iter,\n",
    "            #error_score='raise'\n",
    "        )\n",
    "    else:\n",
    "        crossval_runner = RandomizedSearchCV(\n",
    "            estimator=starter_pipe,\n",
    "            param_distributions=param_options,\n",
    "            cv=cv, n_jobs=n_jobs,  # get the AVX/AVX2 info if use n_jobs > 2\n",
    "            verbose=verbose, scoring=CROSS_VALIDATION_SCORING,\n",
    "            refit=refit,\n",
    "            return_train_score=True,  #n_iter=n_iter,\n",
    "            n_iter=n_iter,  # 1, #3\n",
    "            #error_score='raise'\n",
    "    )\n",
    "    cv_average_fit_time, cv_best_model_fit_time, total_fits = fit_model_with_cross_validation(\n",
    "        crossval_runner, X_train, y_train, fits=cv * n_iter)\n",
    "\n",
    "else:\n",
    "    import sys\n",
    "    from catboost import CatBoostRegressor, Pool\n",
    "\n",
    "    #pool = Pool(df, cat_features=['tenure.tenureType'], label=df['Price'].values)\n",
    "    pool_Xytrain = Pool(X_train, cat_features=[7], label=y_train)\n",
    "    #pool_Xtest = Pool(X_train, cat_features=[7], label=y_train)\n",
    "    pool_Xtest = Pool(X_test, cat_features=[7], label=y_test)\n",
    "\n",
    "    starter_model = model=CatBoostRegressor(iterations=n_iter, depth=3, learning_rate=0.1, loss_function='RMSE', objective='RMSE', logging_level='Verbose')\n",
    "\n",
    "    pipe_start = time()\n",
    "\n",
    "    output = starter_model.randomized_search(options_block,\n",
    "                                             X=pool_Xytrain,\n",
    "                                             cv=5,\n",
    "                                             partition_random_seed=101,\n",
    "                                             calc_cv_statistics=True,\n",
    "                                             refit=True,\n",
    "                                             shuffle=True,\n",
    "                                             stratified=None,\n",
    "                                             verbose=True,\n",
    "                                             plot=True,\n",
    "\n",
    "                                             log_cout=sys.stdout,\n",
    "                                             log_cerr=sys.stderr\n",
    "                                             #search_by_train_test_split=True,\n",
    "                                             #train_size=0.8,\n",
    "                                             #train_size=1,\n",
    "                                             )\n",
    "\n",
    "    pipe_end = time()\n",
    "    average_time = round((pipe_end - pipe_start) / (n_iter), 2)\n",
    "    print(\"average time is probably:\", average_time)\n",
    "\n",
    "    cat_params, cat_cv_results = output['params'], output['cv_results']\n",
    "    crossval_runner = {\"best_params_\": cat_params, \"cv_results_\": cat_cv_results, \"best_estimator_\": None}\n",
    "crossval_runner\n"
   ]
  },
  {
   "cell_type": "code",
   "execution_count": 76,
   "outputs": [],
   "source": [],
   "metadata": {
    "collapsed": false
   }
  },
  {
   "cell_type": "code",
   "execution_count": 77,
   "metadata": {
    "execution": {
     "iopub.execute_input": "2022-11-16T13:59:47.181563Z",
     "iopub.status.busy": "2022-11-16T13:59:47.181323Z",
     "iopub.status.idle": "2022-11-16T13:59:47.185299Z",
     "shell.execute_reply": "2022-11-16T13:59:47.184626Z",
     "shell.execute_reply.started": "2022-11-16T13:59:47.181540Z"
    }
   },
   "outputs": [],
   "source": [
    "if not_catboost:\n",
    "    best_estimator_pipe = crossval_runner.best_estimator_\n",
    "\n",
    "    if not_catboost and debug_mode:\n",
    "        crossval_runner.cv_results_"
   ]
  },
  {
   "cell_type": "code",
   "execution_count": 78,
   "metadata": {
    "execution": {
     "iopub.execute_input": "2022-11-16T13:59:47.186218Z",
     "iopub.status.busy": "2022-11-16T13:59:47.186022Z",
     "iopub.status.idle": "2022-11-16T13:59:47.190491Z",
     "shell.execute_reply": "2022-11-16T13:59:47.189828Z",
     "shell.execute_reply.started": "2022-11-16T13:59:47.186200Z"
    }
   },
   "outputs": [
    {
     "name": "stdout",
     "output_type": "stream",
     "text": [
      "<catboost.core.CatBoostRegressor object at 0x7f947a16a580>\n",
      "{'depth': 6, 'learning_rate': 1, 'l2_leaf_reg': 7}\n",
      "defaultdict(<class 'list'>, {'iterations': [0, 1, 2, 3, 4, 5, 6, 7, 8, 9, 10, 11, 12, 13, 14, 15, 16, 17, 18, 19, 20, 21, 22, 23, 24, 25, 26, 27, 28, 29, 30, 31, 32, 33, 34, 35, 36, 37, 38, 39, 40, 41, 42, 43, 44, 45, 46, 47, 48, 49, 50, 51, 52, 53, 54, 55, 56, 57, 58, 59, 60, 61, 62, 63, 64, 65, 66, 67, 68, 69, 70, 71, 72, 73, 74, 75, 76, 77, 78, 79, 80, 81, 82, 83, 84, 85, 86, 87, 88, 89, 90, 91, 92, 93, 94, 95, 96, 97, 98, 99], 'test-RMSE-mean': [98541.74808567333, 83158.45871796247, 77870.46426772987, 73318.0318548623, 72212.67023783576, 71336.56083538654, 70632.52844939071, 70071.31520315321, 69519.26074768146, 69041.54110178603, 68697.20212784375, 68335.0925184287, 67912.66727537803, 67534.90312429274, 67313.47134533913, 67159.37316969743, 66939.76472220072, 66790.73084927644, 66597.52551406233, 66511.2741378229, 66360.78382813047, 66237.14211536171, 66210.41602165387, 66087.90044365832, 65993.6284285099, 65882.91734248975, 65798.94185522865, 65751.08156664671, 65625.8842367285, 65566.74024633937, 65501.06509860471, 65435.75263095689, 65296.829661889235, 65219.55463756543, 65160.404847929894, 65101.92235072892, 64997.55043380307, 64882.23233284776, 64823.9498176028, 64748.325888846266, 64707.102388496, 64663.94663511529, 64594.73708609949, 64516.04631028528, 64492.29615214936, 64444.23887751952, 64402.043845818305, 64371.63358299455, 64319.46997627218, 64294.761376972776, 64217.47737953717, 64209.11939684602, 64145.24185740579, 64112.759206430506, 64054.70930826371, 64040.03004375502, 64038.387556678965, 64012.85141683994, 63947.96498813356, 63943.48952470019, 63891.557441887875, 63853.0245619701, 63831.506552411964, 63791.67837244631, 63767.75819779942, 63724.051901154584, 63679.23200436466, 63643.37368041766, 63611.8205108894, 63584.14069847665, 63578.42683230252, 63540.998539506996, 63499.18796787846, 63470.82210228901, 63478.01566043156, 63450.61862024253, 63420.614319841494, 63413.36756896889, 63404.61850025974, 63396.751575513204, 63380.04882682441, 63344.895753993944, 63321.028602921, 63332.18658639376, 63324.1651800122, 63310.38548564162, 63307.289644822464, 63279.97178213128, 63260.09163182574, 63259.25386543316, 63248.353691141354, 63236.69352552567, 63200.548431453644, 63194.04781907106, 63142.56390375369, 63132.40385809199, 63110.446258612195, 63077.04186858225, 63054.94191312922, 63052.86893277422], 'test-RMSE-std': [392.9523569941018, 208.08886803276448, 1618.4721248574729, 402.03024326125677, 471.16081389012567, 407.9977271302253, 355.2373688305167, 563.454806710709, 396.9786134396313, 467.90472934546824, 373.9983760709769, 319.7095434046953, 363.463437908138, 512.0096604588023, 556.6654596142333, 509.0880543274233, 495.07238389383554, 479.6817770084009, 574.3500752255127, 564.0862528983632, 619.4692084194455, 610.5374267185824, 601.5343396637924, 559.7131275045189, 637.4917821482502, 656.9968138643262, 632.106607066147, 625.4581469061341, 661.5747317453988, 667.5187978274308, 719.7123363557645, 675.8844976873702, 646.1675419614799, 625.5494315291412, 639.7487692592948, 634.3149836301244, 645.0176677731343, 698.4170073230089, 723.705957951591, 753.9902946672369, 723.4163626278647, 708.5874075005758, 684.8102386288256, 625.3235412325596, 633.3338608473962, 642.1677425506841, 634.5530253316322, 596.4457156162314, 615.0032229279241, 599.6706698586249, 596.911869751764, 597.7449735622927, 594.7642279973552, 583.2960214551935, 602.8738192990949, 562.1674685788707, 625.8063863139154, 639.2163733438673, 634.763808433222, 628.6591754765266, 605.484264003727, 620.4049968066536, 641.4505614835338, 630.9902549423317, 612.4917297737442, 612.2236481061558, 572.9825225360653, 584.5822079521563, 594.7668434891203, 607.4729306765249, 624.0639272682472, 611.3804195798033, 608.9749622495481, 608.0864355033746, 606.5949506754306, 627.2536754345248, 639.6414171546978, 651.7066428720711, 681.0650022961742, 664.6692260980437, 666.9403436728027, 668.0718394517484, 649.1028877932291, 639.7872007866699, 636.22050663254, 637.1973733303294, 613.888407455313, 592.3309499409552, 605.0948710211661, 585.331663709279, 560.6513788889368, 559.136044889303, 564.6026720508969, 549.179388021721, 565.5266586245929, 573.1242082205424, 563.9741234293493, 593.0572887130705, 579.3814321226581, 571.7525638679131], 'train-RMSE-mean': [98539.56860670063, 83072.45766376071, 77538.79021465199, 72952.07521064147, 71724.70843992133, 70782.20347160341, 70052.06167730615, 69362.71785767627, 68811.56501795977, 68304.00184235707, 67864.29760681257, 67448.14297338629, 66969.57348549526, 66564.55754118289, 66232.23310391433, 65971.13503102724, 65691.62629848479, 65440.86300288721, 65209.630457809675, 65065.27658537694, 64882.17302845337, 64687.58119890692, 64614.79662433699, 64437.67515441265, 64283.74006903575, 64093.48072611091, 63961.61282674739, 63822.05672841003, 63646.63373581334, 63504.94565359973, 63333.9322844936, 63223.711719137165, 63076.26576218632, 62963.42859500538, 62839.12805100674, 62751.29046802258, 62622.587761331946, 62484.41488026321, 62364.552276364935, 62222.631055580525, 62119.960111759065, 62023.60637888372, 61899.103207506356, 61799.18660857228, 61737.808626599064, 61642.04964457763, 61522.90616087707, 61421.093058958926, 61329.71567076575, 61245.443159685485, 61139.98279020643, 61064.15804882778, 60972.86725546321, 60907.28273370232, 60796.20650199333, 60721.31294636611, 60613.092996301726, 60536.04666094292, 60433.72674634044, 60363.03837040317, 60309.69305425595, 60259.90307343402, 60195.21825544159, 60120.67424973588, 60029.84752733676, 59967.087620130755, 59882.921377613864, 59821.11060078915, 59770.6611283367, 59705.098655020774, 59617.96863535303, 59531.454547318004, 59454.90732574854, 59397.21293139217, 59321.99522204414, 59261.16561656164, 59214.114842911615, 59151.02846638635, 59054.02985169289, 58999.92588328342, 58931.97639569065, 58860.47872876671, 58787.14961298995, 58712.450726960225, 58637.06132045564, 58588.88809343321, 58522.74571092353, 58454.17388357398, 58380.072815155865, 58311.91872629725, 58240.32455638808, 58156.447859680615, 58088.27804372845, 58034.240476939, 57963.506723871455, 57898.20413635048, 57849.52487121049, 57769.78403557057, 57697.753166825605, 57642.98931342738], 'train-RMSE-std': [98.40760290094269, 227.95843359371625, 1739.8080787980869, 237.63522943978313, 261.89221103931544, 506.6021580451233, 440.6472329437923, 468.83278785697104, 329.75059874337956, 212.54821726420283, 272.86091533917687, 411.9937939094063, 427.8557013020801, 377.1435928984723, 391.4002042211146, 377.6650559357552, 310.7358226580007, 310.1896189748569, 285.6017809386506, 335.88101193881386, 320.5735610461214, 346.977372048278, 341.5104871016424, 365.21126905488666, 317.9356404386862, 321.4807359479725, 287.9560536015548, 267.7065326975172, 300.5124356311584, 284.6793590890627, 267.84553354895, 278.93453309744683, 274.53327722836246, 305.3725667221807, 320.928475131567, 317.9916211889212, 263.8915418795191, 233.03673082971585, 228.64554587502818, 262.8294129931495, 267.3621133330678, 251.15377038757194, 293.30763487894217, 297.33003143489907, 318.3475812952632, 316.971417524943, 346.00583121649134, 342.0000370984674, 366.16729633271956, 359.87012122652794, 407.57455495765765, 391.96598161904024, 386.32363217407726, 415.4089824219551, 414.52750780235226, 388.9164287197104, 372.58029332892824, 352.9324301171606, 372.2502852023634, 389.6352348448593, 412.2945890873039, 379.48968669632535, 376.43505346450894, 387.307941486363, 362.7700764514869, 367.7497406370552, 363.33196333398087, 351.145638913197, 366.08783230805886, 345.7541735874108, 344.16308439990917, 313.22732134428344, 297.0007766482593, 286.54700800371995, 318.64513921669084, 308.3062323477569, 310.9692681607765, 319.7093811991062, 300.6439299708347, 296.9778742183421, 309.231410159264, 291.2849527901839, 313.1458797122078, 310.8302946376497, 320.3586995821361, 304.89869826116126, 307.1613721186425, 305.9791978673221, 302.9155624445003, 327.59768958630247, 347.65874795088286, 354.3865061659181, 340.02207038217693, 325.2472232718187, 303.4238534347866, 297.71975642821997, 305.52731322010004, 284.9691359774469, 270.3545883741937, 263.18122660446977]})\n"
     ]
    }
   ],
   "source": [
    "starter_model\n",
    "if True:\n",
    "    print(starter_model)\n",
    "if not not_catboost:\n",
    "    print(cat_params)\n",
    "    print(cat_cv_results)"
   ]
  },
  {
   "cell_type": "code",
   "execution_count": 79,
   "metadata": {
    "execution": {
     "iopub.execute_input": "2022-11-16T13:59:47.191425Z",
     "iopub.status.busy": "2022-11-16T13:59:47.191213Z",
     "iopub.status.idle": "2022-11-16T13:59:47.194465Z",
     "shell.execute_reply": "2022-11-16T13:59:47.193803Z",
     "shell.execute_reply.started": "2022-11-16T13:59:47.191404Z"
    }
   },
   "outputs": [],
   "source": [
    "if not_catboost:\n",
    "    crossval_runner.best_params_\n",
    "else:\n",
    "    crossval_runner[\"best_params_\"]"
   ]
  },
  {
   "cell_type": "code",
   "execution_count": 80,
   "metadata": {
    "execution": {
     "iopub.execute_input": "2022-11-16T13:59:47.195527Z",
     "iopub.status.busy": "2022-11-16T13:59:47.195321Z",
     "iopub.status.idle": "2022-11-16T13:59:47.220555Z",
     "shell.execute_reply": "2022-11-16T13:59:47.218381Z",
     "shell.execute_reply.started": "2022-11-16T13:59:47.195509Z"
    }
   },
   "outputs": [
    {
     "data": {
      "text/plain": "''"
     },
     "execution_count": 80,
     "metadata": {},
     "output_type": "execute_result"
    }
   ],
   "source": [
    "if not_catboost:\n",
    "    cv_results_df = pd.DataFrame(crossval_runner.cv_results_).sort_values('rank_test_score')\n",
    "cv_results_df if not_catboost else ''"
   ]
  },
  {
   "cell_type": "code",
   "execution_count": 81,
   "metadata": {
    "execution": {
     "iopub.execute_input": "2022-11-16T13:59:47.221915Z",
     "iopub.status.busy": "2022-11-16T13:59:47.221447Z",
     "iopub.status.idle": "2022-11-16T13:59:47.227414Z",
     "shell.execute_reply": "2022-11-16T13:59:47.226868Z",
     "shell.execute_reply.started": "2022-11-16T13:59:47.221887Z"
    }
   },
   "outputs": [
    {
     "data": {
      "text/plain": "''"
     },
     "execution_count": 81,
     "metadata": {},
     "output_type": "execute_result"
    }
   ],
   "source": [
    "if not_catboost and debug_mode:\n",
    "    xx = [c for c in cv_results_df.columns if 'param' in c]\n",
    "    xx.insert(0, 'rank_test_score')\n",
    "    xx.insert(0, 'mean_test_score')\n",
    "cv_results_df[xx].head(7) if not_catboost and debug_mode else ''"
   ]
  },
  {
   "cell_type": "code",
   "execution_count": 82,
   "metadata": {
    "execution": {
     "iopub.execute_input": "2022-11-16T13:59:47.229078Z",
     "iopub.status.busy": "2022-11-16T13:59:47.228327Z",
     "iopub.status.idle": "2022-11-16T13:59:47.232994Z",
     "shell.execute_reply": "2022-11-16T13:59:47.232495Z",
     "shell.execute_reply.started": "2022-11-16T13:59:47.229055Z"
    }
   },
   "outputs": [
    {
     "data": {
      "text/plain": "''"
     },
     "execution_count": 82,
     "metadata": {},
     "output_type": "execute_result"
    }
   ],
   "source": [
    "cv_results_df[xx].tail(7) if not_catboost and debug_mode else ''"
   ]
  },
  {
   "cell_type": "code",
   "execution_count": 83,
   "metadata": {
    "execution": {
     "iopub.execute_input": "2022-11-16T13:59:47.234560Z",
     "iopub.status.busy": "2022-11-16T13:59:47.233863Z",
     "iopub.status.idle": "2022-11-16T13:59:47.251649Z",
     "shell.execute_reply": "2022-11-16T13:59:47.251101Z",
     "shell.execute_reply.started": "2022-11-16T13:59:47.234540Z"
    }
   },
   "outputs": [
    {
     "data": {
      "text/plain": "''"
     },
     "execution_count": 83,
     "metadata": {},
     "output_type": "execute_result"
    }
   ],
   "source": [
    "if not_catboost:\n",
    "    cv_results_df['params2'] = cv_results_df['params'].apply(lambda l: '/'.join([str(c) for c in l.values()]))\n",
    "\n",
    "    cv_columns = ['params2', 'rank_test_score', 'mean_test_score', 'mean_fit_time', 'mean_score_time', 'params']\n",
    "    # if 'Neural' not in ALGORITHM:\n",
    "    #     cv_columns.insert(2, 'mean_train_score')\n",
    "    cv_results_df_full_sorted = cv_results_df.sort_values('rank_test_score')[cv_columns].reset_index(drop=True)\n",
    "\n",
    "cv_results_df_full_sorted if not_catboost else ''"
   ]
  },
  {
   "cell_type": "code",
   "execution_count": 84,
   "metadata": {
    "execution": {
     "iopub.execute_input": "2022-11-16T13:59:47.253028Z",
     "iopub.status.busy": "2022-11-16T13:59:47.252374Z",
     "iopub.status.idle": "2022-11-16T13:59:47.278366Z",
     "shell.execute_reply": "2022-11-16T13:59:47.277883Z",
     "shell.execute_reply.started": "2022-11-16T13:59:47.253006Z"
    }
   },
   "outputs": [
    {
     "data": {
      "text/plain": "''"
     },
     "execution_count": 84,
     "metadata": {},
     "output_type": "execute_result"
    }
   ],
   "source": [
    "if not_catboost:\n",
    "\n",
    "    cv_results_df_sorted = cv_results_df_full_sorted[cv_results_df_full_sorted['mean_test_score'] > -2]\n",
    "    if len(cv_results_df_sorted) != len(cv_results_df_full_sorted):\n",
    "        print(-len(cv_results_df_sorted) + len(cv_results_df_full_sorted), \"fits were total failures\")\n",
    "        total_fits = len(cv_results_df_sorted)\n",
    "cv_results_df_sorted if not_catboost else ''\n"
   ]
  },
  {
   "cell_type": "code",
   "execution_count": 85,
   "metadata": {
    "execution": {
     "iopub.execute_input": "2022-11-16T13:59:47.279670Z",
     "iopub.status.busy": "2022-11-16T13:59:47.279065Z",
     "iopub.status.idle": "2022-11-16T13:59:47.282299Z",
     "shell.execute_reply": "2022-11-16T13:59:47.281778Z",
     "shell.execute_reply.started": "2022-11-16T13:59:47.279646Z"
    }
   },
   "outputs": [],
   "source": [
    "#pd.set_option('display.max_columns', None)\n"
   ]
  },
  {
   "cell_type": "code",
   "execution_count": 86,
   "metadata": {
    "execution": {
     "iopub.execute_input": "2022-11-16T13:59:47.283574Z",
     "iopub.status.busy": "2022-11-16T13:59:47.282958Z",
     "iopub.status.idle": "2022-11-16T13:59:47.300218Z",
     "shell.execute_reply": "2022-11-16T13:59:47.299493Z",
     "shell.execute_reply.started": "2022-11-16T13:59:47.283551Z"
    }
   },
   "outputs": [
    {
     "data": {
      "text/plain": "''"
     },
     "execution_count": 86,
     "metadata": {},
     "output_type": "execute_result"
    }
   ],
   "source": [
    "if not_catboost:\n",
    "    orig_debug_mode, orig_display_df_cols = debug_mode, pd.get_option('display.max_columns')\n",
    "    debug_mode = True\n",
    "    pd.set_option('display.max_columns', None)\n",
    "    if debug_mode:\n",
    "        debug_cols = ['rank_test_score', 'mean_test_score', 'mean_fit_time', 'mean_score_time']\n",
    "        debug_cols.extend([c for c in cv_results_df.columns if 'param' in c])\n",
    "\n",
    "cv_results_df[debug_cols].head(7) if debug_mode else ''"
   ]
  },
  {
   "cell_type": "code",
   "execution_count": 87,
   "metadata": {
    "execution": {
     "iopub.execute_input": "2022-11-16T13:59:47.304440Z",
     "iopub.status.busy": "2022-11-16T13:59:47.303671Z",
     "iopub.status.idle": "2022-11-16T13:59:47.307553Z",
     "shell.execute_reply": "2022-11-16T13:59:47.306930Z",
     "shell.execute_reply.started": "2022-11-16T13:59:47.304414Z"
    }
   },
   "outputs": [],
   "source": [
    "if not_catboost:\n",
    "    debug_mode = orig_debug_mode\n",
    "    pd.set_option('display.max_columns', orig_display_df_cols)"
   ]
  },
  {
   "cell_type": "code",
   "execution_count": 88,
   "metadata": {
    "execution": {
     "iopub.execute_input": "2022-11-16T13:59:47.309224Z",
     "iopub.status.busy": "2022-11-16T13:59:47.308334Z",
     "iopub.status.idle": "2022-11-16T13:59:47.315677Z",
     "shell.execute_reply": "2022-11-16T13:59:47.315141Z",
     "shell.execute_reply.started": "2022-11-16T13:59:47.309201Z"
    }
   },
   "outputs": [
    {
     "data": {
      "text/plain": "''"
     },
     "execution_count": 88,
     "metadata": {},
     "output_type": "execute_result"
    }
   ],
   "source": [
    "if not_catboost:\n",
    "    def print_results(cross_validation_result):\n",
    "        means = cross_validation_result.cv_results_['mean_test_score']\n",
    "        stds = cross_validation_result.cv_results_['std_test_score']\n",
    "        params = cross_validation_result.cv_results_['params']\n",
    "        times = cross_validation_result.cv_results_['std_test_score']\n",
    "\n",
    "        print(\"params:\" + \"/\".join([c.replace(\"model__\", \"\") for c in params[0].keys()]))\n",
    "        print()\n",
    "        for mean, std, param, time in zip(means, stds, params, times):\n",
    "            #param2 = \"/\".join(list(param.values()))\n",
    "            param2 = \"/\".join(list([str(c) for c in param.values()]))\n",
    "            print(f'{round(mean, 3)} (+/-{round(std * 2, 3)}) in {round(time, 4)}s for {param2}')\n",
    "\n",
    "\n",
    "print_results(crossval_runner) if debug_mode else ''"
   ]
  },
  {
   "cell_type": "code",
   "execution_count": 89,
   "metadata": {
    "execution": {
     "iopub.execute_input": "2022-11-16T13:59:47.317413Z",
     "iopub.status.busy": "2022-11-16T13:59:47.316534Z",
     "iopub.status.idle": "2022-11-16T13:59:47.321419Z",
     "shell.execute_reply": "2022-11-16T13:59:47.320870Z",
     "shell.execute_reply.started": "2022-11-16T13:59:47.317388Z"
    }
   },
   "outputs": [],
   "source": [
    "if not_catboost:\n",
    "    print('Best Index: ', crossval_runner.best_index_)\n",
    "    print('Best Score: ', crossval_runner.best_score_)\n",
    "    print('Best Params: ', crossval_runner.best_params_)"
   ]
  },
  {
   "cell_type": "code",
   "execution_count": 90,
   "metadata": {
    "execution": {
     "iopub.execute_input": "2022-11-16T13:59:47.323113Z",
     "iopub.status.busy": "2022-11-16T13:59:47.322229Z",
     "iopub.status.idle": "2022-11-16T13:59:47.327516Z",
     "shell.execute_reply": "2022-11-16T13:59:47.327008Z",
     "shell.execute_reply.started": "2022-11-16T13:59:47.323086Z"
    }
   },
   "outputs": [
    {
     "data": {
      "text/plain": "array([1.0, 1.0, 0.6959676001201812, 51.47824, -0.08707,\n       0.0214800000000039, 0.01735, 'LEASEHOLD'], dtype=object)"
     },
     "execution_count": 90,
     "metadata": {},
     "output_type": "execute_result"
    }
   ],
   "source": [
    "#pool_Xtest.shape\n",
    "#pool_Xtrain.shape\n",
    "X_train[0]\n",
    "X_test[0]"
   ]
  },
  {
   "cell_type": "code",
   "execution_count": 91,
   "metadata": {
    "execution": {
     "iopub.execute_input": "2022-11-16T13:59:47.328680Z",
     "iopub.status.busy": "2022-11-16T13:59:47.328195Z",
     "iopub.status.idle": "2022-11-16T13:59:47.380861Z",
     "shell.execute_reply": "2022-11-16T13:59:47.380015Z",
     "shell.execute_reply.started": "2022-11-16T13:59:47.328658Z"
    }
   },
   "outputs": [],
   "source": [
    "if not_catboost:\n",
    "    y_pred = best_estimator_pipe.predict(X_test)\n",
    "else:\n",
    "    y_pred = starter_model.predict(pool_Xtest)"
   ]
  },
  {
   "cell_type": "code",
   "execution_count": 92,
   "metadata": {
    "execution": {
     "iopub.execute_input": "2022-11-16T13:59:47.382580Z",
     "iopub.status.busy": "2022-11-16T13:59:47.382020Z",
     "iopub.status.idle": "2022-11-16T13:59:47.440737Z",
     "shell.execute_reply": "2022-11-16T13:59:47.439769Z",
     "shell.execute_reply.started": "2022-11-16T13:59:47.382556Z"
    }
   },
   "outputs": [
    {
     "data": {
      "text/plain": "0.657717920545769"
     },
     "execution_count": 92,
     "metadata": {},
     "output_type": "execute_result"
    }
   ],
   "source": [
    "r_2_score = r2_score(y_test, y_pred)\n",
    "if not_catboost:\n",
    "    score = r_2_score\n",
    "    default_score = best_estimator_pipe.score(X_test, y_test)\n",
    "else:\n",
    "    score = r_2_score\n",
    "    default_score = starter_model.score(X_test, y_test)\n",
    "score"
   ]
  },
  {
   "cell_type": "code",
   "execution_count": 93,
   "metadata": {
    "execution": {
     "iopub.execute_input": "2022-11-16T13:59:47.442381Z",
     "iopub.status.busy": "2022-11-16T13:59:47.442151Z",
     "iopub.status.idle": "2022-11-16T13:59:47.448203Z",
     "shell.execute_reply": "2022-11-16T13:59:47.447282Z",
     "shell.execute_reply.started": "2022-11-16T13:59:47.442362Z"
    }
   },
   "outputs": [
    {
     "name": "stdout",
     "output_type": "stream",
     "text": [
      "----------CatBoost----------\n",
      "R square Accuracy 0.657717920545769\n",
      "Mean Absolute Error Accuracy 48157.41525820493\n",
      "Mean Squared Error Accuracy 3866557208.987712\n",
      "Root Mean Squared Error 62181.646882241\n"
     ]
    }
   ],
   "source": [
    "y_pred = y_pred.reshape((-1, 1))\n",
    "\n",
    "R2 = r_2_score\n",
    "MAE = mean_absolute_error(y_test, y_pred)\n",
    "MSE = mean_squared_error(y_test, y_pred)\n",
    "RMSE = math.sqrt(MSE)\n",
    "print('-' * 10 + ALGORITHM + '-' * 10)\n",
    "print('R square Accuracy', R2)\n",
    "print('Mean Absolute Error Accuracy', MAE)\n",
    "print('Mean Squared Error Accuracy', MSE)\n",
    "print('Root Mean Squared Error', RMSE)"
   ]
  },
  {
   "cell_type": "code",
   "execution_count": 94,
   "metadata": {
    "execution": {
     "iopub.execute_input": "2022-11-16T13:59:47.450080Z",
     "iopub.status.busy": "2022-11-16T13:59:47.449147Z",
     "iopub.status.idle": "2022-11-16T13:59:47.453856Z",
     "shell.execute_reply": "2022-11-16T13:59:47.453198Z",
     "shell.execute_reply.started": "2022-11-16T13:59:47.450060Z"
    }
   },
   "outputs": [],
   "source": [
    "if debug_mode:\n",
    "    print(y_test_index.reshape((-1, 1)).shape);\n",
    "    print(y_pred.reshape((-1, 1)).shape);\n",
    "    print(y_test.shape);\n",
    "    print(y_test_index.shape);\n",
    "    print(y_pred.shape);\n",
    "    print(y_test.shape)"
   ]
  },
  {
   "cell_type": "code",
   "execution_count": 95,
   "metadata": {
    "execution": {
     "iopub.execute_input": "2022-11-16T13:59:47.455055Z",
     "iopub.status.busy": "2022-11-16T13:59:47.454855Z",
     "iopub.status.idle": "2022-11-16T13:59:47.472196Z",
     "shell.execute_reply": "2022-11-16T13:59:47.471460Z",
     "shell.execute_reply.started": "2022-11-16T13:59:47.455037Z"
    }
   },
   "outputs": [
    {
     "data": {
      "text/plain": "             actual      predicted    difference   diff 1 %   diff 2 %\nreference                                                             \n85490754   400000.0  329798.853187  70201.146813  17.550287  21.286049\n119328242  369950.0  427212.272298  57262.272298  15.478381  13.403705\n125716790  350000.0  337662.237131  12337.762869   3.525075   3.653877\n122440040  549000.0  532013.043125  16986.956875   3.094163   3.192959\n120508103  495000.0  500307.601372   5307.601372   1.072243   1.060868\n...             ...            ...           ...        ...        ...\n68620869   475000.0  524707.325876  49707.325876  10.464700   9.473343\n85735665   575000.0  530623.188778  44376.811222   7.717706   8.363150\n125706338  400000.0  386055.087221  13944.912779   3.486228   3.612156\n112739354  450000.0  492119.123294  42119.123294   9.359805   8.558725\n122707001  275000.0  307109.393800  32109.393800  11.676143  10.455360\n\n[4413 rows x 5 columns]",
      "text/html": "<div>\n<style scoped>\n    .dataframe tbody tr th:only-of-type {\n        vertical-align: middle;\n    }\n\n    .dataframe tbody tr th {\n        vertical-align: top;\n    }\n\n    .dataframe thead th {\n        text-align: right;\n    }\n</style>\n<table border=\"1\" class=\"dataframe\">\n  <thead>\n    <tr style=\"text-align: right;\">\n      <th></th>\n      <th>actual</th>\n      <th>predicted</th>\n      <th>difference</th>\n      <th>diff 1 %</th>\n      <th>diff 2 %</th>\n    </tr>\n    <tr>\n      <th>reference</th>\n      <th></th>\n      <th></th>\n      <th></th>\n      <th></th>\n      <th></th>\n    </tr>\n  </thead>\n  <tbody>\n    <tr>\n      <th>85490754</th>\n      <td>400000.0</td>\n      <td>329798.853187</td>\n      <td>70201.146813</td>\n      <td>17.550287</td>\n      <td>21.286049</td>\n    </tr>\n    <tr>\n      <th>119328242</th>\n      <td>369950.0</td>\n      <td>427212.272298</td>\n      <td>57262.272298</td>\n      <td>15.478381</td>\n      <td>13.403705</td>\n    </tr>\n    <tr>\n      <th>125716790</th>\n      <td>350000.0</td>\n      <td>337662.237131</td>\n      <td>12337.762869</td>\n      <td>3.525075</td>\n      <td>3.653877</td>\n    </tr>\n    <tr>\n      <th>122440040</th>\n      <td>549000.0</td>\n      <td>532013.043125</td>\n      <td>16986.956875</td>\n      <td>3.094163</td>\n      <td>3.192959</td>\n    </tr>\n    <tr>\n      <th>120508103</th>\n      <td>495000.0</td>\n      <td>500307.601372</td>\n      <td>5307.601372</td>\n      <td>1.072243</td>\n      <td>1.060868</td>\n    </tr>\n    <tr>\n      <th>...</th>\n      <td>...</td>\n      <td>...</td>\n      <td>...</td>\n      <td>...</td>\n      <td>...</td>\n    </tr>\n    <tr>\n      <th>68620869</th>\n      <td>475000.0</td>\n      <td>524707.325876</td>\n      <td>49707.325876</td>\n      <td>10.464700</td>\n      <td>9.473343</td>\n    </tr>\n    <tr>\n      <th>85735665</th>\n      <td>575000.0</td>\n      <td>530623.188778</td>\n      <td>44376.811222</td>\n      <td>7.717706</td>\n      <td>8.363150</td>\n    </tr>\n    <tr>\n      <th>125706338</th>\n      <td>400000.0</td>\n      <td>386055.087221</td>\n      <td>13944.912779</td>\n      <td>3.486228</td>\n      <td>3.612156</td>\n    </tr>\n    <tr>\n      <th>112739354</th>\n      <td>450000.0</td>\n      <td>492119.123294</td>\n      <td>42119.123294</td>\n      <td>9.359805</td>\n      <td>8.558725</td>\n    </tr>\n    <tr>\n      <th>122707001</th>\n      <td>275000.0</td>\n      <td>307109.393800</td>\n      <td>32109.393800</td>\n      <td>11.676143</td>\n      <td>10.455360</td>\n    </tr>\n  </tbody>\n</table>\n<p>4413 rows × 5 columns</p>\n</div>"
     },
     "execution_count": 95,
     "metadata": {},
     "output_type": "execute_result"
    }
   ],
   "source": [
    "compare = np.hstack((y_test_index, y_test, y_pred))\n",
    "compare_df = DataFrame(compare, columns=['reference', 'actual', 'predicted'])\n",
    "compare_df['difference'] = abs(compare_df['actual'] - compare_df['predicted'])\n",
    "compare_df['diff 1 %'] = abs((compare_df['actual'] - compare_df['predicted']) / compare_df['actual'] * 100)\n",
    "compare_df['diff 2 %'] = abs((compare_df['actual'] - compare_df['predicted']) / compare_df['predicted']) * 100\n",
    "compare_df['reference'] = compare_df['reference'].astype(int)\n",
    "compare_df.set_index('reference', inplace=True)\n",
    "compare_df"
   ]
  },
  {
   "cell_type": "code",
   "execution_count": 96,
   "metadata": {
    "execution": {
     "iopub.execute_input": "2022-11-16T13:59:47.473173Z",
     "iopub.status.busy": "2022-11-16T13:59:47.472972Z",
     "iopub.status.idle": "2022-11-16T13:59:47.499899Z",
     "shell.execute_reply": "2022-11-16T13:59:47.499050Z",
     "shell.execute_reply.started": "2022-11-16T13:59:47.473156Z"
    }
   },
   "outputs": [
    {
     "data": {
      "text/plain": "           actual  predicted     difference    diff 1 %   diff 2 %   Price  \\\n122265818  160000     513433  353433.648239  220.896030  68.837259  160000   \n85667184   122000     367041  245041.428758  200.853630  66.761245  122000   \n109722224  108000     318582  210582.640906  194.983927  66.099848  108000   \n83639617   190000     427145  237145.863066  124.813612  55.518708  190000   \n122821142  170000     346675  176675.577900  103.926811  50.962799  170000   \n...           ...        ...            ...         ...        ...     ...   \n123171749  500000     500162     162.335226    0.032467   0.032457  500000   \n124047623  375000     375109     109.716980    0.029258   0.029249  375000   \n125112935  365000     364895     104.245927    0.028561   0.028569  365000   \n118812035  545000     544909      90.876364    0.016675   0.016677  545000   \n125311373  440000     439969      30.098524    0.006841   0.006841  440000   \n\n           bedrooms  bathrooms  nearestStation  location.latitude  \\\n122265818         3          1        0.166024          51.510420   \n85667184          1          1        0.838896          51.540462   \n109722224         1          1        0.302667          51.406803   \n83639617          2          2        0.162816          51.491264   \n122821142         2          1        0.093936          51.430690   \n...             ...        ...             ...                ...   \n123171749         2          1        0.152347          51.551200   \n124047623         1          1        0.187109          51.462060   \n125112935         2          1        0.369937          51.472416   \n118812035         5          2        2.920496          51.313600   \n125311373         2          1        0.321305          51.397163   \n\n           location.longitude  latitude_deviation  longitude_deviation  \\\n122265818           -0.037730            0.010700             0.066690   \n85667184            -0.280301            0.040742             0.175881   \n109722224           -0.261328            0.092917             0.156908   \n83639617             0.064660            0.008456             0.169080   \n122821142            0.024020            0.069030             0.128440   \n...                       ...                 ...                  ...   \n123171749           -0.137394            0.051480             0.032974   \n124047623           -0.119038            0.037660             0.014618   \n125112935           -0.347078            0.027304             0.242658   \n118812035            0.031600            0.186120             0.136020   \n125311373           -0.305547            0.102557             0.201127   \n\n           tenure.tenureType  \n122265818           FREEHOLD  \n85667184           LEASEHOLD  \n109722224          LEASEHOLD  \n83639617           LEASEHOLD  \n122821142          LEASEHOLD  \n...                      ...  \n123171749          LEASEHOLD  \n124047623          LEASEHOLD  \n125112935          LEASEHOLD  \n118812035           FREEHOLD  \n125311373  SHARE_OF_FREEHOLD  \n\n[4413 rows x 14 columns]",
      "text/html": "<div>\n<style scoped>\n    .dataframe tbody tr th:only-of-type {\n        vertical-align: middle;\n    }\n\n    .dataframe tbody tr th {\n        vertical-align: top;\n    }\n\n    .dataframe thead th {\n        text-align: right;\n    }\n</style>\n<table border=\"1\" class=\"dataframe\">\n  <thead>\n    <tr style=\"text-align: right;\">\n      <th></th>\n      <th>actual</th>\n      <th>predicted</th>\n      <th>difference</th>\n      <th>diff 1 %</th>\n      <th>diff 2 %</th>\n      <th>Price</th>\n      <th>bedrooms</th>\n      <th>bathrooms</th>\n      <th>nearestStation</th>\n      <th>location.latitude</th>\n      <th>location.longitude</th>\n      <th>latitude_deviation</th>\n      <th>longitude_deviation</th>\n      <th>tenure.tenureType</th>\n    </tr>\n  </thead>\n  <tbody>\n    <tr>\n      <th>122265818</th>\n      <td>160000</td>\n      <td>513433</td>\n      <td>353433.648239</td>\n      <td>220.896030</td>\n      <td>68.837259</td>\n      <td>160000</td>\n      <td>3</td>\n      <td>1</td>\n      <td>0.166024</td>\n      <td>51.510420</td>\n      <td>-0.037730</td>\n      <td>0.010700</td>\n      <td>0.066690</td>\n      <td>FREEHOLD</td>\n    </tr>\n    <tr>\n      <th>85667184</th>\n      <td>122000</td>\n      <td>367041</td>\n      <td>245041.428758</td>\n      <td>200.853630</td>\n      <td>66.761245</td>\n      <td>122000</td>\n      <td>1</td>\n      <td>1</td>\n      <td>0.838896</td>\n      <td>51.540462</td>\n      <td>-0.280301</td>\n      <td>0.040742</td>\n      <td>0.175881</td>\n      <td>LEASEHOLD</td>\n    </tr>\n    <tr>\n      <th>109722224</th>\n      <td>108000</td>\n      <td>318582</td>\n      <td>210582.640906</td>\n      <td>194.983927</td>\n      <td>66.099848</td>\n      <td>108000</td>\n      <td>1</td>\n      <td>1</td>\n      <td>0.302667</td>\n      <td>51.406803</td>\n      <td>-0.261328</td>\n      <td>0.092917</td>\n      <td>0.156908</td>\n      <td>LEASEHOLD</td>\n    </tr>\n    <tr>\n      <th>83639617</th>\n      <td>190000</td>\n      <td>427145</td>\n      <td>237145.863066</td>\n      <td>124.813612</td>\n      <td>55.518708</td>\n      <td>190000</td>\n      <td>2</td>\n      <td>2</td>\n      <td>0.162816</td>\n      <td>51.491264</td>\n      <td>0.064660</td>\n      <td>0.008456</td>\n      <td>0.169080</td>\n      <td>LEASEHOLD</td>\n    </tr>\n    <tr>\n      <th>122821142</th>\n      <td>170000</td>\n      <td>346675</td>\n      <td>176675.577900</td>\n      <td>103.926811</td>\n      <td>50.962799</td>\n      <td>170000</td>\n      <td>2</td>\n      <td>1</td>\n      <td>0.093936</td>\n      <td>51.430690</td>\n      <td>0.024020</td>\n      <td>0.069030</td>\n      <td>0.128440</td>\n      <td>LEASEHOLD</td>\n    </tr>\n    <tr>\n      <th>...</th>\n      <td>...</td>\n      <td>...</td>\n      <td>...</td>\n      <td>...</td>\n      <td>...</td>\n      <td>...</td>\n      <td>...</td>\n      <td>...</td>\n      <td>...</td>\n      <td>...</td>\n      <td>...</td>\n      <td>...</td>\n      <td>...</td>\n      <td>...</td>\n    </tr>\n    <tr>\n      <th>123171749</th>\n      <td>500000</td>\n      <td>500162</td>\n      <td>162.335226</td>\n      <td>0.032467</td>\n      <td>0.032457</td>\n      <td>500000</td>\n      <td>2</td>\n      <td>1</td>\n      <td>0.152347</td>\n      <td>51.551200</td>\n      <td>-0.137394</td>\n      <td>0.051480</td>\n      <td>0.032974</td>\n      <td>LEASEHOLD</td>\n    </tr>\n    <tr>\n      <th>124047623</th>\n      <td>375000</td>\n      <td>375109</td>\n      <td>109.716980</td>\n      <td>0.029258</td>\n      <td>0.029249</td>\n      <td>375000</td>\n      <td>1</td>\n      <td>1</td>\n      <td>0.187109</td>\n      <td>51.462060</td>\n      <td>-0.119038</td>\n      <td>0.037660</td>\n      <td>0.014618</td>\n      <td>LEASEHOLD</td>\n    </tr>\n    <tr>\n      <th>125112935</th>\n      <td>365000</td>\n      <td>364895</td>\n      <td>104.245927</td>\n      <td>0.028561</td>\n      <td>0.028569</td>\n      <td>365000</td>\n      <td>2</td>\n      <td>1</td>\n      <td>0.369937</td>\n      <td>51.472416</td>\n      <td>-0.347078</td>\n      <td>0.027304</td>\n      <td>0.242658</td>\n      <td>LEASEHOLD</td>\n    </tr>\n    <tr>\n      <th>118812035</th>\n      <td>545000</td>\n      <td>544909</td>\n      <td>90.876364</td>\n      <td>0.016675</td>\n      <td>0.016677</td>\n      <td>545000</td>\n      <td>5</td>\n      <td>2</td>\n      <td>2.920496</td>\n      <td>51.313600</td>\n      <td>0.031600</td>\n      <td>0.186120</td>\n      <td>0.136020</td>\n      <td>FREEHOLD</td>\n    </tr>\n    <tr>\n      <th>125311373</th>\n      <td>440000</td>\n      <td>439969</td>\n      <td>30.098524</td>\n      <td>0.006841</td>\n      <td>0.006841</td>\n      <td>440000</td>\n      <td>2</td>\n      <td>1</td>\n      <td>0.321305</td>\n      <td>51.397163</td>\n      <td>-0.305547</td>\n      <td>0.102557</td>\n      <td>0.201127</td>\n      <td>SHARE_OF_FREEHOLD</td>\n    </tr>\n  </tbody>\n</table>\n<p>4413 rows × 14 columns</p>\n</div>"
     },
     "execution_count": 96,
     "metadata": {},
     "output_type": "execute_result"
    }
   ],
   "source": [
    "combined = compare_df.merge(df[columns], how='inner', left_index=True, right_index=True).sort_values(['diff 1 %'],\n",
    "                                                                                                     ascending=False)\n",
    "#pd.options.display.float_format = '{:.4f}'.format\n",
    "combined[['predicted', 'actual', 'Price', 'bedrooms', 'bathrooms']] = combined[\n",
    "    ['predicted', 'actual', 'Price', 'bedrooms', 'bathrooms']].astype(int)\n",
    "combined['bedrooms'] = combined['bedrooms'].astype(int)\n",
    "combined"
   ]
  },
  {
   "cell_type": "code",
   "execution_count": 97,
   "metadata": {
    "execution": {
     "iopub.execute_input": "2022-11-16T13:59:47.501494Z",
     "iopub.status.busy": "2022-11-16T13:59:47.500942Z",
     "iopub.status.idle": "2022-11-16T13:59:47.635559Z",
     "shell.execute_reply": "2022-11-16T13:59:47.634656Z",
     "shell.execute_reply.started": "2022-11-16T13:59:47.501473Z"
    }
   },
   "outputs": [
    {
     "data": {
      "text/plain": "<Figure size 432x288 with 1 Axes>",
      "image/png": "[encoded data removed]"
     },
     "metadata": {
      "needs_background": "light"
     },
     "output_type": "display_data"
    }
   ],
   "source": [
    "fig, ax = plt.subplots()\n",
    "ax.scatter(y_test, y_pred, edgecolors=(0, 0, 1))\n",
    "ax.plot([y_test.min(), y_test.max()], [y_test.min(), y_test.max()], 'r--', lw=3)\n",
    "ax.set_ylabel('Predicted')\n",
    "ax.set_xlabel('Actual')\n",
    "#ax.title.set_text(f'CV Chosen best option ({calculated_best_pipe[1]})')\n",
    "plt.show()"
   ]
  },
  {
   "cell_type": "code",
   "execution_count": 98,
   "metadata": {
    "execution": {
     "iopub.execute_input": "2022-11-16T13:59:47.637419Z",
     "iopub.status.busy": "2022-11-16T13:59:47.636639Z",
     "iopub.status.idle": "2022-11-16T13:59:50.927930Z",
     "shell.execute_reply": "2022-11-16T13:59:50.927235Z",
     "shell.execute_reply.started": "2022-11-16T13:59:47.637397Z"
    }
   },
   "outputs": [],
   "source": [
    "if not_catboost:\n",
    "    def custom_model_and_predictions(model, graph_params, X_train, y_train, X_test):\n",
    "        graph_model = model\n",
    "        graph_model.set_params(**graph_params)\n",
    "        graph_model.fit(X_train, y_train)\n",
    "        y_pred_graph = model.predict(X_test)\n",
    "\n",
    "        return model, y_pred_graph\n",
    "\n",
    "\n",
    "    best_model_count = 10 if not quick_mode else 2\n",
    "    best_model_count = 3 if not quick_mode else 1\n",
    "    best_models = {}\n",
    "    best_model_predictions = {}\n",
    "    best_model_scores = {}\n",
    "\n",
    "    showable_increment = total_fits // (4 if not quick_mode else 2)\n",
    "    if showable_increment==0:showable_increment=1\n",
    "    for i in range(0, total_fits, showable_increment):\n",
    "        if debug_mode or True: print(f'{i} ==> {i}')\n",
    "\n",
    "        if i == 0:\n",
    "            fitted_graph_model = crossval_runner.best_estimator_\n",
    "            y_pred_graph = y_pred\n",
    "        else:\n",
    "            graph_pipe_params = cv_results_df_sorted['params'][i]\n",
    "            print(graph_pipe_params)\n",
    "            # would always return the best! graph_pipe_params = cv_results_df_sorted.loc[cv_results_df_sorted['rank_test_score'] == 1, 'params'].values[0]\n",
    "\n",
    "            graph_params = {}\n",
    "            for key, value in graph_pipe_params.items():\n",
    "                graph_params[key.replace('model__', '')] = value\n",
    "\n",
    "            fitted_graph_model, y_pred_graph = custom_model_and_predictions(make_pipeline(), graph_pipe_params, X_train,\n",
    "                                                                            y_train, X_test)\n",
    "\n",
    "        best_models[i] = fitted_graph_model[-1].get_params()\n",
    "        best_model_predictions[i] = y_pred_graph\n",
    "        best_model_scores[i] = fitted_graph_model.score(X_test, y_test)\n",
    "\n",
    "    if debug_mode or True: print(f'{-1} ==> {-1}')\n",
    "    graph_pipe_params = cv_results_df_sorted['params'][total_fits - 1]\n",
    "    print(graph_pipe_params)\n",
    "    graph_params = {}\n",
    "    for key, value in graph_pipe_params.items():\n",
    "        graph_params[key.replace('model__', '')] = value\n",
    "    fitted_graph_model, y_pred_graph = custom_model_and_predictions(make_pipeline(), graph_pipe_params, X_train,\n",
    "                                                                    y_train, X_test)\n",
    "    best_models[-1] = fitted_graph_model[-1].get_params()\n",
    "    best_model_predictions[-1] = y_pred_graph\n",
    "    best_model_scores[-1] = fitted_graph_model.score(X_test, y_test)\n"
   ]
  },
  {
   "cell_type": "code",
   "execution_count": 99,
   "metadata": {
    "execution": {
     "iopub.execute_input": "2022-11-16T13:59:50.929176Z",
     "iopub.status.busy": "2022-11-16T13:59:50.928941Z",
     "iopub.status.idle": "2022-11-16T13:59:50.953941Z",
     "shell.execute_reply": "2022-11-16T13:59:50.953292Z",
     "shell.execute_reply.started": "2022-11-16T13:59:50.929155Z"
    }
   },
   "outputs": [
    {
     "data": {
      "text/plain": "''"
     },
     "execution_count": 99,
     "metadata": {},
     "output_type": "execute_result"
    }
   ],
   "source": [
    "cv_results_df_sorted if not_catboost else ''"
   ]
  },
  {
   "cell_type": "code",
   "execution_count": 100,
   "metadata": {
    "execution": {
     "iopub.execute_input": "2022-11-16T13:59:50.955365Z",
     "iopub.status.busy": "2022-11-16T13:59:50.955113Z",
     "iopub.status.idle": "2022-11-16T13:59:50.960058Z",
     "shell.execute_reply": "2022-11-16T13:59:50.959362Z",
     "shell.execute_reply.started": "2022-11-16T13:59:50.955343Z"
    }
   },
   "outputs": [
    {
     "data": {
      "text/plain": "''"
     },
     "execution_count": 100,
     "metadata": {},
     "output_type": "execute_result"
    }
   ],
   "source": [
    "cv_results_df_sorted['params']  if not_catboost and debug_mode else ''"
   ]
  },
  {
   "cell_type": "code",
   "execution_count": 101,
   "metadata": {
    "execution": {
     "iopub.execute_input": "2022-11-16T13:59:50.961046Z",
     "iopub.status.busy": "2022-11-16T13:59:50.960847Z",
     "iopub.status.idle": "2022-11-16T13:59:50.966053Z",
     "shell.execute_reply": "2022-11-16T13:59:50.965218Z",
     "shell.execute_reply.started": "2022-11-16T13:59:50.961027Z"
    }
   },
   "outputs": [
    {
     "data": {
      "text/plain": "''"
     },
     "execution_count": 101,
     "metadata": {},
     "output_type": "execute_result"
    }
   ],
   "source": [
    "cv_results_df_sorted['params'][0] if not_catboost else ''"
   ]
  },
  {
   "cell_type": "code",
   "execution_count": 102,
   "metadata": {
    "execution": {
     "iopub.execute_input": "2022-11-16T13:59:50.967664Z",
     "iopub.status.busy": "2022-11-16T13:59:50.966945Z",
     "iopub.status.idle": "2022-11-16T13:59:50.974725Z",
     "shell.execute_reply": "2022-11-16T13:59:50.973935Z",
     "shell.execute_reply.started": "2022-11-16T13:59:50.967640Z"
    }
   },
   "outputs": [
    {
     "data": {
      "text/plain": "''"
     },
     "execution_count": 102,
     "metadata": {},
     "output_type": "execute_result"
    }
   ],
   "source": [
    "best_models if not_catboost else ''"
   ]
  },
  {
   "cell_type": "code",
   "execution_count": 103,
   "metadata": {
    "execution": {
     "iopub.execute_input": "2022-11-16T13:59:50.976386Z",
     "iopub.status.busy": "2022-11-16T13:59:50.975697Z",
     "iopub.status.idle": "2022-11-16T13:59:52.092828Z",
     "shell.execute_reply": "2022-11-16T13:59:52.092064Z",
     "shell.execute_reply.started": "2022-11-16T13:59:50.976363Z"
    }
   },
   "outputs": [],
   "source": [
    "if not_catboost:\n",
    "    for i in best_model_scores.keys():\n",
    "        if i >= 0:\n",
    "            plt.plot([y_test.min(), y_test.max()], [y_test.min(), y_test.max()], 'r--', lw=3)\n",
    "            plt.scatter(y_test, best_model_predictions[i])\n",
    "            # plt.title(str(i) + \" \" + str(round(best_model_scores[i], 4)) + \" for \" + str(best_models[i]))\n",
    "            if len(best_models[i].keys()) < 30:\n",
    "                plt.title(str(i) + \" \" + str(round(best_model_scores[i], 4)) + \" for \" + str(best_models[i]))\n",
    "            else:\n",
    "                plt.title(str(i) + \" \" + str(round(best_model_scores[i], 4)) + \" for entry \" + str(i))\n",
    "            plt.show()\n",
    "\n",
    "    plt.plot([y_test.min(), y_test.max()], [y_test.min(), y_test.max()], 'r--', lw=3)\n",
    "    plt.scatter(y_test, best_model_predictions[-1])\n",
    "    # plt.title(str(i) + \" \" + str(round(best_model_scores[i], 4)) + \" for \" + str(best_models[i]))\n",
    "    if len(best_models[i].keys()) < 30:\n",
    "        plt.title(str(i) + \" \" + str(round(best_model_scores[-1], 4)) + \" for \" + str(best_models[-1]))\n",
    "    else:\n",
    "        plt.title(str(i) + \" \" + str(round(best_model_scores[-1], 4)) + \" for (worst) entry \" + str(i))\n",
    "\n",
    "    plt.show()"
   ]
  },
  {
   "cell_type": "code",
   "execution_count": 104,
   "metadata": {
    "execution": {
     "iopub.execute_input": "2022-11-16T13:59:52.094913Z",
     "iopub.status.busy": "2022-11-16T13:59:52.094003Z",
     "iopub.status.idle": "2022-11-16T13:59:52.600226Z",
     "shell.execute_reply": "2022-11-16T13:59:52.599392Z",
     "shell.execute_reply.started": "2022-11-16T13:59:52.094884Z"
    }
   },
   "outputs": [],
   "source": [
    "if not_catboost:\n",
    "    sns.set_theme(font_scale=2, rc=None)\n",
    "    sns.set_theme(font_scale=1, rc=None)\n",
    "\n",
    "    fig, axes = plt.subplots(ncols=3, figsize=(15, 5))\n",
    "\n",
    "    plt.subplots_adjust(hspace=0.2)\n",
    "    plt.subplots_adjust(wspace=0.2)\n",
    "\n",
    "    #.flatten()\n",
    "    coordinates = axes[0]\n",
    "    sns.lineplot(x=[y_test.min(), y_test.max()], y=[y_test.min(), y_test.max()], ax=axes[0], color='red')\n",
    "    sns.scatterplot(x=y_test.flatten(), y=best_model_predictions[0].flatten(), ax=axes[0],\n",
    "                    s=100).set(title=f'\"BEST\" model')\n",
    "\n",
    "    sns.lineplot(x=[y_test.min(), y_test.max()], y=[y_test.min(), y_test.max()], ax=axes[1], color='red')\n",
    "    sns.scatterplot(x=y_test.flatten(), y=best_model_predictions[-1].flatten(), ax=axes[1],\n",
    "                    s=100).set(title=f'\"WORST\" model')\n",
    "\n",
    "    sns.lineplot(x=[y_test.min(), y_test.max()], y=[y_test.min(), y_test.max()], ax=axes[2], color='red')\n",
    "    sns.scatterplot(x=y_test.flatten(), y=best_model_predictions[-1].flatten(), ax=axes[2],\n",
    "                    s=120, color='orange')\n",
    "    sns.scatterplot(x=y_test.flatten(), y=best_model_predictions[0].flatten(), ax=axes[2],\n",
    "                    s=30, alpha=0.6, color='black').set(\n",
    "        title='best (black) vs worst (orange)')\n",
    "    #title='best (orange) vs worst (black)')\n",
    "\n",
    "    fig.tight_layout()\n",
    "    plt.show()"
   ]
  },
  {
   "cell_type": "code",
   "execution_count": 105,
   "metadata": {
    "execution": {
     "iopub.execute_input": "2022-11-16T13:59:52.601421Z",
     "iopub.status.busy": "2022-11-16T13:59:52.601193Z",
     "iopub.status.idle": "2022-11-16T13:59:52.607786Z",
     "shell.execute_reply": "2022-11-16T13:59:52.606855Z",
     "shell.execute_reply.started": "2022-11-16T13:59:52.601400Z"
    }
   },
   "outputs": [
    {
     "data": {
      "text/plain": "''"
     },
     "execution_count": 105,
     "metadata": {},
     "output_type": "execute_result"
    }
   ],
   "source": [
    "if not_catboost:\n",
    "    cv_best_model_fit_time = cv_results_df_sorted.iloc[0][\"mean_fit_time\"]\n",
    "cv_best_model_fit_time if not_catboost else ''"
   ]
  },
  {
   "cell_type": "code",
   "execution_count": 106,
   "metadata": {
    "execution": {
     "iopub.execute_input": "2022-11-16T13:59:52.608845Z",
     "iopub.status.busy": "2022-11-16T13:59:52.608602Z",
     "iopub.status.idle": "2022-11-16T13:59:52.871012Z",
     "shell.execute_reply": "2022-11-16T13:59:52.870054Z",
     "shell.execute_reply.started": "2022-11-16T13:59:52.608825Z"
    }
   },
   "outputs": [
    {
     "name": "stdout",
     "output_type": "stream",
     "text": [
      "catboost (v06)\n"
     ]
    }
   ],
   "source": [
    "# <catboost.core.CatBoostRegressor object at 0x7fb167387490>\n",
    "# {'depth': 6}\n",
    "# defaultdict(<class 'list'>, {'iterations': [0, 1, 2],\n",
    "# 'test-RMSE-mean': [396884.9605444017, 359548.6632536235, 326027.84885587444],\n",
    "# 'test-RMSE-std': [308.9495320039113, 260.0967808594464, 219.65856329246023],\n",
    "# 'train-RMSE-mean': [396884.77936957515, 359542.3612912551, 326018.9404460669],\n",
    "# 'train-RMSE-std': [91.44140078375503, 86.77961380623475, 69.4038638987425]})\n",
    "\n",
    "cv_best_model_fit_time = cv_results_df_sorted.iloc[0][\"mean_fit_time\"] if not_catboost else 999\n",
    "\n",
    "DD2 = \"(\" + \",\".join(DATA_DETAIL) + \")\" if len(DATA_DETAIL) >= 1 else \"\"\n",
    "key = f'{ALGORITHM} (v{VERSION})'.lower()\n",
    "\n",
    "method =  f\"{ALGORITHM_DETAIL}{DD2}\"\n",
    "\n",
    "new_results = {\n",
    "    '_score': score,\n",
    "    'R square Accuracy': R2,\n",
    "    'Mean Absolute Error Accuracy': MAE,\n",
    "    'Mean Squared Error Accuracy': MSE,\n",
    "    'Root Mean Squared Error': RMSE,\n",
    "    '_train time': cv_best_model_fit_time,\n",
    "    'random_state': RANDOM_STATE,\n",
    "    'date': str(datetime.now()),\n",
    "    '_params': crossval_runner.best_params_ if not_catboost else cat_params,\n",
    "    '_method':method,\n",
    "    'run_env': run_env\n",
    "}\n",
    "\n",
    "if run_env not in ['colab']:\n",
    "    old_results_json = get_results()\n",
    "    try:\n",
    "        old_best_score = old_results_json[key]['best score']\n",
    "    except:\n",
    "        print(f\"haven't scored this model yet: {ALGORITHM}\")\n",
    "        old_best_score = -999\n",
    "    this_model_is_best = update_results(old_results_json, new_results, key)\n",
    "\n",
    "print(key)"
   ]
  },
  {
   "cell_type": "code",
   "execution_count": 107,
   "metadata": {
    "execution": {
     "iopub.execute_input": "2022-11-16T13:59:52.872732Z",
     "iopub.status.busy": "2022-11-16T13:59:52.872116Z",
     "iopub.status.idle": "2022-11-16T13:59:52.883681Z",
     "shell.execute_reply": "2022-11-16T13:59:52.882641Z",
     "shell.execute_reply.started": "2022-11-16T13:59:52.872708Z"
    }
   },
   "outputs": [
    {
     "data": {
      "text/plain": "''"
     },
     "execution_count": 107,
     "metadata": {},
     "output_type": "execute_result"
    }
   ],
   "source": [
    "crossval_runner.best_estimator_  if not_catboost else ''"
   ]
  },
  {
   "cell_type": "code",
   "execution_count": 108,
   "metadata": {
    "execution": {
     "iopub.execute_input": "2022-11-16T13:59:52.885380Z",
     "iopub.status.busy": "2022-11-16T13:59:52.885036Z",
     "iopub.status.idle": "2022-11-16T13:59:53.216677Z",
     "shell.execute_reply": "2022-11-16T13:59:53.215594Z",
     "shell.execute_reply.started": "2022-11-16T13:59:52.885349Z"
    }
   },
   "outputs": [
    {
     "name": "stdout",
     "output_type": "stream",
     "text": [
      "not updated saved model, the previous run was better\n",
      "0.657717920545769 is worse than or equal to 0.7156055075436387\n"
     ]
    }
   ],
   "source": [
    "if this_model_is_best:\n",
    "    with open(f'../../../models/optimised_model_{ALGORITHM}_v{VERSION}{DD2}.pkl', 'wb') as f:\n",
    "        if not_catboost:\n",
    "            pickle.dump(crossval_runner.best_estimator_, f)\n",
    "        else:\n",
    "            pickle.dump(starter_model, f)\n",
    "        print('pickled new version of model')\n",
    "        print(f\"{old_results_json[key]['_score']} is new best score (it's better than {old_best_score})\")\n",
    "        #print(results_json[key]['_score'], 'is an improvement on', results_json[key]['second best score'])\n",
    "else:\n",
    "    print(\"not updated saved model, the previous run was better\")\n",
    "    print(old_results_json[key]['_score'], 'is worse than or equal to', old_best_score)\n"
   ]
  },
  {
   "cell_type": "code",
   "execution_count": 109,
   "metadata": {
    "execution": {
     "iopub.execute_input": "2022-11-16T13:59:53.218033Z",
     "iopub.status.busy": "2022-11-16T13:59:53.217794Z",
     "iopub.status.idle": "2022-11-16T13:59:53.224486Z",
     "shell.execute_reply": "2022-11-16T13:59:53.223702Z",
     "shell.execute_reply.started": "2022-11-16T13:59:53.218013Z"
    }
   },
   "outputs": [
    {
     "name": "stdout",
     "output_type": "stream",
     "text": [
      "Feature Ranking:\n",
      "1. features 0 (30.120225) bedrooms\n",
      "2. features 4 (19.529190) location.longitude\n",
      "3. features 5 (15.009812) latitude_deviation\n",
      "4. features 6 (13.141688) longitude_deviation\n",
      "5. features 3 (10.313950) location.latitude\n",
      "6. features 7 (4.981850) tenure.tenureType\n",
      "7. features 1 (3.845184) bathrooms\n",
      "8. features 2 (3.058101) nearestStation\n"
     ]
    }
   ],
   "source": [
    "if 'tree' in ALGORITHM.lower() or 'forest' in ALGORITHM.lower() or 'boost' in ALGORITHM.lower():\n",
    "    feature_importances = crossval_runner.best_estimator_[-1].feature_importances_ if not_catboost else starter_model.get_feature_importance()\n",
    "    #std = np.std([tree.feature_importances_ for tree in model.estimators_], axis = 0)\n",
    "\n",
    "    indices = np.argsort(feature_importances)[::-1]\n",
    "\n",
    "    print('Feature Ranking:')\n",
    "\n",
    "    for f in range(X_train.shape[1]):\n",
    "        print('%d. features %d (%f)' % (f + 1, indices[f], feature_importances[indices[f]]),\n",
    "              df_features.columns[indices[f] + 1])\n",
    "else:\n",
    "    print(f'{ALGORITHM} does not have feature_importances, skipping')"
   ]
  },
  {
   "cell_type": "code",
   "execution_count": 110,
   "metadata": {
    "execution": {
     "iopub.execute_input": "2022-11-16T13:59:53.225586Z",
     "iopub.status.busy": "2022-11-16T13:59:53.225381Z",
     "iopub.status.idle": "2022-11-16T13:59:53.374100Z",
     "shell.execute_reply": "2022-11-16T13:59:53.373223Z",
     "shell.execute_reply.started": "2022-11-16T13:59:53.225567Z"
    }
   },
   "outputs": [
    {
     "data": {
      "text/plain": "<Figure size 432x288 with 1 Axes>",
      "image/png": "[encoded data removed]"
     },
     "metadata": {
      "needs_background": "light"
     },
     "output_type": "display_data"
    }
   ],
   "source": [
    "if 'tree' in ALGORITHM.lower() or 'forest' in ALGORITHM.lower() or 'boost' in ALGORITHM.lower():\n",
    "    indices = np.argsort(feature_importances)\n",
    "\n",
    "    fig, ax = plt.subplots()\n",
    "    ax.barh(range(len(feature_importances)), feature_importances[indices])\n",
    "    ax.set_yticks(range(len(feature_importances)))\n",
    "    _ = ax.set_yticklabels(df_features.columns[[c + 1 for c in indices]])\n",
    "else:\n",
    "    print(f'{ALGORITHM} does not have feature_importances, skipping')"
   ]
  },
  {
   "cell_type": "code",
   "execution_count": 110,
   "metadata": {
    "collapsed": false,
    "jupyter": {
     "outputs_hidden": false
    }
   },
   "outputs": [],
   "source": []
  }
 ],
 "metadata": {
  "kernelspec": {
   "display_name": "Python 3 (ipykernel)",
   "language": "python",
   "name": "python3"
  },
  "language_info": {
   "codemirror_mode": {
    "name": "ipython",
    "version": 3
   },
   "file_extension": ".py",
   "mimetype": "text/x-python",
   "name": "python",
   "nbconvert_exporter": "python",
   "pygments_lexer": "ipython3",
   "version": "3.9.13"
  }
 },
 "nbformat": 4,
 "nbformat_minor": 4
}
