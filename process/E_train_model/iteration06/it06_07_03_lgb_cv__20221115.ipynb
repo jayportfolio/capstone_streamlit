{
 "cells": [
  {
   "cell_type": "code",
   "execution_count": 8,
   "metadata": {
    "execution": {
     "iopub.execute_input": "2022-11-16T16:25:17.266937Z",
     "iopub.status.busy": "2022-11-16T16:25:17.266208Z",
     "iopub.status.idle": "2022-11-16T16:25:17.272283Z",
     "shell.execute_reply": "2022-11-16T16:25:17.271392Z",
     "shell.execute_reply.started": "2022-11-16T16:25:17.266909Z"
    }
   },
   "outputs": [
    {
     "name": "stdout",
     "output_type": "stream",
     "text": [
      "ALGORITHM: Light Gradient Boosting\n",
      "ALGORITHM_DETAIL: random search\n",
      "DATA_DETAIL: []\n",
      "DATA VERSION: 06\n"
     ]
    }
   ],
   "source": [
    "#ALGORITHM = 'XG Boost'\n",
    "#ALGORITHM = 'Linear Regression (Ridge)'\n",
    "#ALGORITHM = 'KNN'\n",
    "#ALGORITHM = 'Decision Tree'\n",
    "#ALGORITHM = 'Random Forest'\n",
    "#ALGORITHM = 'CatBoost'\n",
    "ALGORITHM = 'Light Gradient Boosting'\n",
    "\n",
    "ALGORITHM_DETAIL = 'random search'\n",
    "DATA_DETAIL = []\n",
    "#DATA_DETAIL = ['explore param']\n",
    "#DATA_DETAIL = ['no scale','no dummies']\n",
    "#DATA_DETAIL = ['no dummies']\n",
    "VERSION = '06'\n",
    "\n",
    "RANDOM_STATE = 101\n",
    "TRAINING_SIZE = 0.9\n",
    "\n",
    "CROSS_VALIDATION_SCORING = 'r2'\n",
    "\n",
    "print(f'ALGORITHM: {ALGORITHM}')\n",
    "print(f'ALGORITHM_DETAIL: {ALGORITHM_DETAIL}')\n",
    "print(f'DATA_DETAIL: {DATA_DETAIL}')\n",
    "print(f'DATA VERSION: {VERSION}')\n"
   ]
  },
  {
   "cell_type": "code",
   "execution_count": 27,
   "metadata": {
    "execution": {
     "iopub.execute_input": "2022-11-16T16:31:10.137764Z",
     "iopub.status.busy": "2022-11-16T16:31:10.137409Z",
     "iopub.status.idle": "2022-11-16T16:31:16.115325Z",
     "shell.execute_reply": "2022-11-16T16:31:16.113955Z",
     "shell.execute_reply.started": "2022-11-16T16:31:10.137739Z"
    }
   },
   "outputs": [
    {
     "name": "stdout",
     "output_type": "stream",
     "text": [
      "Requirement already satisfied: lightgbm in /usr/local/lib/python3.9/dist-packages (3.3.3)\n",
      "Requirement already satisfied: wheel in /usr/local/lib/python3.9/dist-packages (from lightgbm) (0.35.1)\n",
      "Requirement already satisfied: scikit-learn!=0.22.0 in /usr/local/lib/python3.9/dist-packages (from lightgbm) (1.1.1)\n",
      "Requirement already satisfied: numpy in /usr/local/lib/python3.9/dist-packages (from lightgbm) (1.23.1)\n",
      "Requirement already satisfied: scipy in /usr/local/lib/python3.9/dist-packages (from lightgbm) (1.8.1)\n",
      "Requirement already satisfied: joblib>=1.0.0 in /usr/local/lib/python3.9/dist-packages (from scikit-learn!=0.22.0->lightgbm) (1.1.0)\n",
      "Requirement already satisfied: threadpoolctl>=2.0.0 in /usr/local/lib/python3.9/dist-packages (from scikit-learn!=0.22.0->lightgbm) (3.1.0)\n",
      "\u001b[33mWARNING: Running pip as the 'root' user can result in broken permissions and conflicting behaviour with the system package manager. It is recommended to use a virtual environment instead: https://pip.pypa.io/warnings/venv\u001b[0m\u001b[33m\n",
      "\u001b[0mNote: you may need to restart the kernel to use updated packages.\n",
      "Collecting hyperopt\n",
      "  Downloading hyperopt-0.2.7-py2.py3-none-any.whl (1.6 MB)\n",
      "\u001b[2K     \u001b[90m━━━━━━━━━━━━━━━━━━━━━━━━━━━━━━━━━━━━━━━━\u001b[0m \u001b[32m1.6/1.6 MB\u001b[0m \u001b[31m72.1 MB/s\u001b[0m eta \u001b[36m0:00:00\u001b[0m\n",
      "\u001b[?25hRequirement already satisfied: tqdm in /usr/local/lib/python3.9/dist-packages (from hyperopt) (4.64.0)\n",
      "Requirement already satisfied: cloudpickle in /usr/local/lib/python3.9/dist-packages (from hyperopt) (2.1.0)\n",
      "Requirement already satisfied: future in /usr/lib/python3/dist-packages (from hyperopt) (0.18.2)\n",
      "Requirement already satisfied: six in /usr/lib/python3/dist-packages (from hyperopt) (1.14.0)\n",
      "Requirement already satisfied: scipy in /usr/local/lib/python3.9/dist-packages (from hyperopt) (1.8.1)\n",
      "Requirement already satisfied: networkx>=2.2 in /usr/local/lib/python3.9/dist-packages (from hyperopt) (2.8.4)\n",
      "Requirement already satisfied: numpy in /usr/local/lib/python3.9/dist-packages (from hyperopt) (1.23.1)\n",
      "Collecting py4j\n",
      "  Downloading py4j-0.10.9.7-py2.py3-none-any.whl (200 kB)\n",
      "\u001b[2K     \u001b[90m━━━━━━━━━━━━━━━━━━━━━━━━━━━━━━━━━━━━━━\u001b[0m \u001b[32m200.5/200.5 kB\u001b[0m \u001b[31m43.6 MB/s\u001b[0m eta \u001b[36m0:00:00\u001b[0m\n",
      "\u001b[?25hInstalling collected packages: py4j, hyperopt\n",
      "Successfully installed hyperopt-0.2.7 py4j-0.10.9.7\n",
      "\u001b[33mWARNING: Running pip as the 'root' user can result in broken permissions and conflicting behaviour with the system package manager. It is recommended to use a virtual environment instead: https://pip.pypa.io/warnings/venv\u001b[0m\u001b[33m\n",
      "\u001b[0mNote: you may need to restart the kernel to use updated packages.\n"
     ]
    }
   ],
   "source": [
    "#%pip install catboost\n",
    "%pip install lightgbm\n",
    "%pip install hyperopt"
   ]
  },
  {
   "cell_type": "code",
   "execution_count": 28,
   "metadata": {
    "execution": {
     "iopub.execute_input": "2022-11-16T16:31:41.351491Z",
     "iopub.status.busy": "2022-11-16T16:31:41.350446Z",
     "iopub.status.idle": "2022-11-16T16:31:41.365725Z",
     "shell.execute_reply": "2022-11-16T16:31:41.364747Z",
     "shell.execute_reply.started": "2022-11-16T16:31:41.351445Z"
    }
   },
   "outputs": [
    {
     "name": "stdout",
     "output_type": "stream",
     "text": [
      "{'notebook_environment': 'gradient', 'use_gpu': True, 'debug_mode': False, 'quick_mode': False, 'quick_override_cv_splits': 2, 'quick_override_n_iter': 10, 'quick_override_n_jobs': 3}\n"
     ]
    }
   ],
   "source": [
    "from sklearn.impute import SimpleImputer\n",
    "import pandas as pd\n",
    "from sklearn.model_selection import train_test_split, RandomizedSearchCV, GridSearchCV\n",
    "import numpy as np\n",
    "from pandas import DataFrame\n",
    "import math\n",
    "from termcolor import colored\n",
    "from time import time\n",
    "import sklearn\n",
    "from sklearn.metrics import r2_score, mean_absolute_error, mean_squared_error\n",
    "from sklearn.metrics import r2_score\n",
    "import seaborn as sns\n",
    "import pickle\n",
    "\n",
    "import json\n",
    "from datetime import datetime\n",
    "import matplotlib.pyplot as plt\n",
    "\n",
    "with open('../../z_envs/_envs.json') as f:\n",
    "    env_vars = json.loads(f.read())\n",
    "print(env_vars)\n",
    "\n",
    "try:\n",
    "    import google.colab\n",
    "\n",
    "    run_env = 'colab'\n",
    "except:\n",
    "    try:\n",
    "        run_env = env_vars['notebook_environment']\n",
    "    except:\n",
    "        run_env = 'unknown'\n",
    "\n",
    "use_gpu = env_vars.get('use_gpu', False)\n",
    "debug_mode = env_vars.get('debug_mode', False)\n",
    "quick_mode = env_vars.get('quick_mode', False)\n",
    "OVERRIDE_CV = env_vars.get('quick_override_cv_splits', None) if quick_mode else None\n",
    "OVERRIDE_N_ITER = env_vars.get('quick_override_n_iter', None) if quick_mode else None\n",
    "OVERRIDE_JOBS = env_vars.get('quick_override_n_jobs', None) if quick_mode else None\n",
    "#if quick_mode:OVERRIDE_CV, OVERRIDE_N_ITER = 2, 10\n",
    "\n",
    "already_timed = False\n",
    "no_dummies = 'no dummies' in DATA_DETAIL\n",
    "no_scaling = 'no scaling' in DATA_DETAIL\n",
    "not_catboost = 'catboost' not in ALGORITHM.lower() or not no_dummies\n",
    "\n",
    "if run_env not in ['colab', 'gradient', 'cloud']:\n",
    "    cloud_run = False\n",
    "    from functions_20221109 import set_csv_directory, get_columns\n",
    "    from functions_modelling_20221109 import make_modelling_pipeline, tidy_dataset, preprocess, feature_engineer, create_train_test_data\n",
    "    from functions_modelling_20221109 import get_cv_params, fit_model_with_cross_validation, get_best_estimator_average_time\n",
    "    from functions_modelling_20221109 import get_results, update_results, get_chosen_model\n",
    "    from functions_modelling_20221109 import get_hyperparameters\n",
    "\n",
    "    set_csv_directory('final_split')\n",
    "else:\n",
    "    cloud_run = True\n",
    "    import sys\n",
    "    import os\n",
    "\n",
    "    module_path = os.path.abspath(os.path.join('..', '..', '..'))\n",
    "    if module_path not in sys.path:\n",
    "        #sys.path.append(module_path+\"\\\\zfunctions\")\n",
    "        sys.path.append(module_path)\n",
    "\n",
    "    from functions_20221109 import set_csv_directory, get_columns\n",
    "    #from functions_20221109 import add_supplements, get_combined_dataset\n",
    "    from functions_modelling_20221109 import make_modelling_pipeline, tidy_dataset, preprocess, feature_engineer, create_train_test_data\n",
    "    from functions_modelling_20221109 import get_cv_params, fit_model_with_cross_validation, get_best_estimator_average_time\n",
    "    from functions_modelling_20221109 import get_results, update_results, get_chosen_model\n",
    "    from functions_modelling_20221109 import get_hyperparameters\n"
   ]
  },
  {
   "cell_type": "code",
   "execution_count": 29,
   "metadata": {
    "execution": {
     "iopub.execute_input": "2022-11-16T16:31:41.367897Z",
     "iopub.status.busy": "2022-11-16T16:31:41.367269Z",
     "iopub.status.idle": "2022-11-16T16:31:41.372776Z",
     "shell.execute_reply": "2022-11-16T16:31:41.371999Z",
     "shell.execute_reply.started": "2022-11-16T16:31:41.367871Z"
    }
   },
   "outputs": [
    {
     "name": "stdout",
     "output_type": "stream",
     "text": [
      "\u001b[34mfeatures\u001b[0m ->  ['bedrooms', 'bathrooms', 'nearestStation', 'location.latitude', 'location.longitude', 'latitude_deviation', 'longitude_deviation', 'tenure.tenureType']\n",
      "\u001b[1m\u001b[32mlabel\u001b[0m ->  Price\n"
     ]
    }
   ],
   "source": [
    "#cutdown_rows = 1000\n",
    "cutdown_rows = 0\n",
    "\n",
    "LABEL = 'Price'\n",
    "\n",
    "columns, booleans, floats, categories, custom, wildcard = get_columns(version=VERSION)\n",
    "\n",
    "print(colored(f\"features\", \"blue\"), \"-> \", columns)\n",
    "columns.insert(0, LABEL)\n",
    "print(colored(f\"label\", \"green\", None, ['bold']), \"-> \", LABEL)"
   ]
  },
  {
   "cell_type": "code",
   "execution_count": 30,
   "metadata": {
    "collapsed": false,
    "execution": {
     "iopub.execute_input": "2022-11-16T16:31:41.380104Z",
     "iopub.status.busy": "2022-11-16T16:31:41.379444Z",
     "iopub.status.idle": "2022-11-16T16:31:41.388915Z",
     "shell.execute_reply": "2022-11-16T16:31:41.387977Z",
     "shell.execute_reply.started": "2022-11-16T16:31:41.380080Z"
    },
    "jupyter": {
     "outputs_hidden": false
    }
   },
   "outputs": [
    {
     "data": {
      "text/html": [
       "<style>#sk-container-id-2 {color: black;background-color: white;}#sk-container-id-2 pre{padding: 0;}#sk-container-id-2 div.sk-toggleable {background-color: white;}#sk-container-id-2 label.sk-toggleable__label {cursor: pointer;display: block;width: 100%;margin-bottom: 0;padding: 0.3em;box-sizing: border-box;text-align: center;}#sk-container-id-2 label.sk-toggleable__label-arrow:before {content: \"▸\";float: left;margin-right: 0.25em;color: #696969;}#sk-container-id-2 label.sk-toggleable__label-arrow:hover:before {color: black;}#sk-container-id-2 div.sk-estimator:hover label.sk-toggleable__label-arrow:before {color: black;}#sk-container-id-2 div.sk-toggleable__content {max-height: 0;max-width: 0;overflow: hidden;text-align: left;background-color: #f0f8ff;}#sk-container-id-2 div.sk-toggleable__content pre {margin: 0.2em;color: black;border-radius: 0.25em;background-color: #f0f8ff;}#sk-container-id-2 input.sk-toggleable__control:checked~div.sk-toggleable__content {max-height: 200px;max-width: 100%;overflow: auto;}#sk-container-id-2 input.sk-toggleable__control:checked~label.sk-toggleable__label-arrow:before {content: \"▾\";}#sk-container-id-2 div.sk-estimator input.sk-toggleable__control:checked~label.sk-toggleable__label {background-color: #d4ebff;}#sk-container-id-2 div.sk-label input.sk-toggleable__control:checked~label.sk-toggleable__label {background-color: #d4ebff;}#sk-container-id-2 input.sk-hidden--visually {border: 0;clip: rect(1px 1px 1px 1px);clip: rect(1px, 1px, 1px, 1px);height: 1px;margin: -1px;overflow: hidden;padding: 0;position: absolute;width: 1px;}#sk-container-id-2 div.sk-estimator {font-family: monospace;background-color: #f0f8ff;border: 1px dotted black;border-radius: 0.25em;box-sizing: border-box;margin-bottom: 0.5em;}#sk-container-id-2 div.sk-estimator:hover {background-color: #d4ebff;}#sk-container-id-2 div.sk-parallel-item::after {content: \"\";width: 100%;border-bottom: 1px solid gray;flex-grow: 1;}#sk-container-id-2 div.sk-label:hover label.sk-toggleable__label {background-color: #d4ebff;}#sk-container-id-2 div.sk-serial::before {content: \"\";position: absolute;border-left: 1px solid gray;box-sizing: border-box;top: 0;bottom: 0;left: 50%;z-index: 0;}#sk-container-id-2 div.sk-serial {display: flex;flex-direction: column;align-items: center;background-color: white;padding-right: 0.2em;padding-left: 0.2em;position: relative;}#sk-container-id-2 div.sk-item {position: relative;z-index: 1;}#sk-container-id-2 div.sk-parallel {display: flex;align-items: stretch;justify-content: center;background-color: white;position: relative;}#sk-container-id-2 div.sk-item::before, #sk-container-id-2 div.sk-parallel-item::before {content: \"\";position: absolute;border-left: 1px solid gray;box-sizing: border-box;top: 0;bottom: 0;left: 50%;z-index: -1;}#sk-container-id-2 div.sk-parallel-item {display: flex;flex-direction: column;z-index: 1;position: relative;background-color: white;}#sk-container-id-2 div.sk-parallel-item:first-child::after {align-self: flex-end;width: 50%;}#sk-container-id-2 div.sk-parallel-item:last-child::after {align-self: flex-start;width: 50%;}#sk-container-id-2 div.sk-parallel-item:only-child::after {width: 0;}#sk-container-id-2 div.sk-dashed-wrapped {border: 1px dashed gray;margin: 0 0.4em 0.5em 0.4em;box-sizing: border-box;padding-bottom: 0.4em;background-color: white;}#sk-container-id-2 div.sk-label label {font-family: monospace;font-weight: bold;display: inline-block;line-height: 1.2em;}#sk-container-id-2 div.sk-label-container {text-align: center;}#sk-container-id-2 div.sk-container {/* jupyter's `normalize.less` sets `[hidden] { display: none; }` but bootstrap.min.css set `[hidden] { display: none !important; }` so we also need the `!important` here to be able to override the default hidden behavior on the sphinx rendered scikit-learn.org. See: https://github.com/scikit-learn/scikit-learn/issues/21755 */display: inline-block !important;position: relative;}#sk-container-id-2 div.sk-text-repr-fallback {display: none;}</style><div id=\"sk-container-id-2\" class=\"sk-top-container\"><div class=\"sk-text-repr-fallback\"><pre>Pipeline(steps=[(&#x27;std_scaler&#x27;, StandardScaler()), (&#x27;model&#x27;, LGBMRegressor())])</pre><b>In a Jupyter environment, please rerun this cell to show the HTML representation or trust the notebook. <br />On GitHub, the HTML representation is unable to render, please try loading this page with nbviewer.org.</b></div><div class=\"sk-container\" hidden><div class=\"sk-item sk-dashed-wrapped\"><div class=\"sk-label-container\"><div class=\"sk-label sk-toggleable\"><input class=\"sk-toggleable__control sk-hidden--visually\" id=\"sk-estimator-id-4\" type=\"checkbox\" ><label for=\"sk-estimator-id-4\" class=\"sk-toggleable__label sk-toggleable__label-arrow\">Pipeline</label><div class=\"sk-toggleable__content\"><pre>Pipeline(steps=[(&#x27;std_scaler&#x27;, StandardScaler()), (&#x27;model&#x27;, LGBMRegressor())])</pre></div></div></div><div class=\"sk-serial\"><div class=\"sk-item\"><div class=\"sk-estimator sk-toggleable\"><input class=\"sk-toggleable__control sk-hidden--visually\" id=\"sk-estimator-id-5\" type=\"checkbox\" ><label for=\"sk-estimator-id-5\" class=\"sk-toggleable__label sk-toggleable__label-arrow\">StandardScaler</label><div class=\"sk-toggleable__content\"><pre>StandardScaler()</pre></div></div></div><div class=\"sk-item\"><div class=\"sk-estimator sk-toggleable\"><input class=\"sk-toggleable__control sk-hidden--visually\" id=\"sk-estimator-id-6\" type=\"checkbox\" ><label for=\"sk-estimator-id-6\" class=\"sk-toggleable__label sk-toggleable__label-arrow\">LGBMRegressor</label><div class=\"sk-toggleable__content\"><pre>LGBMRegressor()</pre></div></div></div></div></div></div></div>"
      ],
      "text/plain": [
       "Pipeline(steps=[('std_scaler', StandardScaler()), ('model', LGBMRegressor())])"
      ]
     },
     "execution_count": 30,
     "metadata": {},
     "output_type": "execute_result"
    }
   ],
   "source": [
    "from sklearn.pipeline import Pipeline\n",
    "from sklearn.preprocessing import MinMaxScaler, StandardScaler\n",
    "\n",
    "\n",
    "def make_pipeline():\n",
    "    return Pipeline([\n",
    "        #('mms', MinMaxScaler()),\n",
    "        ('std_scaler', StandardScaler()),\n",
    "        ('model', get_chosen_model(ALGORITHM))\n",
    "    ])\n",
    "\n",
    "\n",
    "starter_pipe = make_pipeline()\n",
    "starter_pipe"
   ]
  },
  {
   "cell_type": "code",
   "execution_count": 31,
   "metadata": {
    "execution": {
     "iopub.execute_input": "2022-11-16T16:31:41.390988Z",
     "iopub.status.busy": "2022-11-16T16:31:41.390352Z",
     "iopub.status.idle": "2022-11-16T16:31:41.396514Z",
     "shell.execute_reply": "2022-11-16T16:31:41.395623Z",
     "shell.execute_reply.started": "2022-11-16T16:31:41.390963Z"
    }
   },
   "outputs": [],
   "source": [
    "def get_source_dataframe(rows=cutdown_rows, folder_prefix='../../../'):\n",
    "    retrieval_type = None\n",
    "\n",
    "    filename = f'df_listings_v{VERSION}.csv'\n",
    "    remote_pathname = f'https://raw.githubusercontent.com/jayportfolio/capstone_streamlit/main/data/final/{filename}'\n",
    "    df_pathname_raw = folder_prefix + f'data/source/{filename}'\n",
    "    df_pathname_tidy = folder_prefix + f'data/final/{filename}'\n",
    "\n",
    "    if cloud_run:\n",
    "        inDF = pd.read_csv(remote_pathname, on_bad_lines='error', index_col=0)\n",
    "        retrieval_type = 'tidy'\n",
    "        print('loaded data from', folder_prefix + remote_pathname)\n",
    "    else:\n",
    "        inDF = pd.read_csv(df_pathname_tidy, on_bad_lines='error', index_col=0)\n",
    "        retrieval_type = 'tidy'\n",
    "        print('loaded data from', df_pathname_tidy)\n",
    "\n",
    "    if rows and rows > 0:\n",
    "        inDF = inDF[:rows]\n",
    "    return inDF, retrieval_type"
   ]
  },
  {
   "cell_type": "code",
   "execution_count": 32,
   "metadata": {
    "execution": {
     "iopub.execute_input": "2022-11-16T16:31:41.398186Z",
     "iopub.status.busy": "2022-11-16T16:31:41.397641Z",
     "iopub.status.idle": "2022-11-16T16:31:41.718105Z",
     "shell.execute_reply": "2022-11-16T16:31:41.717152Z",
     "shell.execute_reply.started": "2022-11-16T16:31:41.398160Z"
    }
   },
   "outputs": [
    {
     "name": "stdout",
     "output_type": "stream",
     "text": [
      "loaded data from ../../../https://raw.githubusercontent.com/jayportfolio/capstone_streamlit/main/data/final/df_listings_v06.csv\n",
      "(46871, 9)\n"
     ]
    }
   ],
   "source": [
    "df, retrieval_type = get_source_dataframe(folder_prefix='../../../')\n",
    "df_orig = df.copy()\n",
    "\n",
    "if retrieval_type != 'tidy':\n",
    "    df = tidy_dataset(df, version=int(VERSION))\n",
    "    df = feature_engineer(df, version=int(VERSION))\n",
    "\n",
    "    df = df[columns]\n",
    "\n",
    "print(df.shape)"
   ]
  },
  {
   "cell_type": "code",
   "execution_count": 33,
   "metadata": {
    "execution": {
     "iopub.execute_input": "2022-11-16T16:31:41.720011Z",
     "iopub.status.busy": "2022-11-16T16:31:41.719751Z",
     "iopub.status.idle": "2022-11-16T16:31:41.739741Z",
     "shell.execute_reply": "2022-11-16T16:31:41.738715Z",
     "shell.execute_reply.started": "2022-11-16T16:31:41.719989Z"
    }
   },
   "outputs": [
    {
     "data": {
      "text/html": [
       "<div>\n",
       "<style scoped>\n",
       "    .dataframe tbody tr th:only-of-type {\n",
       "        vertical-align: middle;\n",
       "    }\n",
       "\n",
       "    .dataframe tbody tr th {\n",
       "        vertical-align: top;\n",
       "    }\n",
       "\n",
       "    .dataframe thead th {\n",
       "        text-align: right;\n",
       "    }\n",
       "</style>\n",
       "<table border=\"1\" class=\"dataframe\">\n",
       "  <thead>\n",
       "    <tr style=\"text-align: right;\">\n",
       "      <th></th>\n",
       "      <th>Price</th>\n",
       "      <th>bedrooms</th>\n",
       "      <th>bathrooms</th>\n",
       "      <th>nearestStation</th>\n",
       "      <th>location.latitude</th>\n",
       "      <th>location.longitude</th>\n",
       "      <th>latitude_deviation</th>\n",
       "      <th>longitude_deviation</th>\n",
       "      <th>tenure.tenureType</th>\n",
       "    </tr>\n",
       "  </thead>\n",
       "  <tbody>\n",
       "    <tr>\n",
       "      <th>14520525</th>\n",
       "      <td>550000.0</td>\n",
       "      <td>3.0</td>\n",
       "      <td>1.0</td>\n",
       "      <td>0.274316</td>\n",
       "      <td>51.529950</td>\n",
       "      <td>-0.207020</td>\n",
       "      <td>0.030230</td>\n",
       "      <td>0.102600</td>\n",
       "      <td>LEASEHOLD</td>\n",
       "    </tr>\n",
       "    <tr>\n",
       "      <th>27953107</th>\n",
       "      <td>400000.0</td>\n",
       "      <td>2.0</td>\n",
       "      <td>2.0</td>\n",
       "      <td>0.305845</td>\n",
       "      <td>51.549390</td>\n",
       "      <td>-0.482600</td>\n",
       "      <td>0.049670</td>\n",
       "      <td>0.378180</td>\n",
       "      <td>LEASEHOLD</td>\n",
       "    </tr>\n",
       "    <tr>\n",
       "      <th>33593487</th>\n",
       "      <td>579950.0</td>\n",
       "      <td>2.0</td>\n",
       "      <td>1.0</td>\n",
       "      <td>0.438045</td>\n",
       "      <td>51.447180</td>\n",
       "      <td>-0.338770</td>\n",
       "      <td>0.052540</td>\n",
       "      <td>0.234350</td>\n",
       "      <td>FREEHOLD</td>\n",
       "    </tr>\n",
       "    <tr>\n",
       "      <th>35271294</th>\n",
       "      <td>370000.0</td>\n",
       "      <td>2.0</td>\n",
       "      <td>1.0</td>\n",
       "      <td>0.399307</td>\n",
       "      <td>51.449568</td>\n",
       "      <td>-0.140154</td>\n",
       "      <td>0.050152</td>\n",
       "      <td>0.035734</td>\n",
       "      <td>LEASEHOLD</td>\n",
       "    </tr>\n",
       "    <tr>\n",
       "      <th>35429088</th>\n",
       "      <td>599950.0</td>\n",
       "      <td>2.0</td>\n",
       "      <td>1.0</td>\n",
       "      <td>0.238187</td>\n",
       "      <td>51.577030</td>\n",
       "      <td>-0.141230</td>\n",
       "      <td>0.077310</td>\n",
       "      <td>0.036810</td>\n",
       "      <td>NaN</td>\n",
       "    </tr>\n",
       "    <tr>\n",
       "      <th>44749111</th>\n",
       "      <td>475000.0</td>\n",
       "      <td>2.0</td>\n",
       "      <td>1.0</td>\n",
       "      <td>0.410550</td>\n",
       "      <td>51.370050</td>\n",
       "      <td>-0.212410</td>\n",
       "      <td>0.129670</td>\n",
       "      <td>0.107990</td>\n",
       "      <td>FREEHOLD</td>\n",
       "    </tr>\n",
       "    <tr>\n",
       "      <th>46204665</th>\n",
       "      <td>435000.0</td>\n",
       "      <td>3.0</td>\n",
       "      <td>2.0</td>\n",
       "      <td>0.314779</td>\n",
       "      <td>51.539070</td>\n",
       "      <td>-0.198935</td>\n",
       "      <td>0.039350</td>\n",
       "      <td>0.094515</td>\n",
       "      <td>LEASEHOLD</td>\n",
       "    </tr>\n",
       "    <tr>\n",
       "      <th>49020666</th>\n",
       "      <td>200000.0</td>\n",
       "      <td>1.0</td>\n",
       "      <td>1.0</td>\n",
       "      <td>0.875911</td>\n",
       "      <td>51.539959</td>\n",
       "      <td>-0.380863</td>\n",
       "      <td>0.040239</td>\n",
       "      <td>0.276443</td>\n",
       "      <td>LEASEHOLD</td>\n",
       "    </tr>\n",
       "    <tr>\n",
       "      <th>49036279</th>\n",
       "      <td>275000.0</td>\n",
       "      <td>2.0</td>\n",
       "      <td>1.0</td>\n",
       "      <td>0.474368</td>\n",
       "      <td>51.541780</td>\n",
       "      <td>0.037890</td>\n",
       "      <td>0.042060</td>\n",
       "      <td>0.142310</td>\n",
       "      <td>LEASEHOLD</td>\n",
       "    </tr>\n",
       "    <tr>\n",
       "      <th>49303873</th>\n",
       "      <td>450000.0</td>\n",
       "      <td>3.0</td>\n",
       "      <td>2.0</td>\n",
       "      <td>0.577040</td>\n",
       "      <td>51.524880</td>\n",
       "      <td>0.187200</td>\n",
       "      <td>0.025160</td>\n",
       "      <td>0.291620</td>\n",
       "      <td>FREEHOLD</td>\n",
       "    </tr>\n",
       "    <tr>\n",
       "      <th>52064391</th>\n",
       "      <td>349950.0</td>\n",
       "      <td>2.0</td>\n",
       "      <td>2.0</td>\n",
       "      <td>0.212734</td>\n",
       "      <td>51.470800</td>\n",
       "      <td>-0.361820</td>\n",
       "      <td>0.028920</td>\n",
       "      <td>0.257400</td>\n",
       "      <td>LEASEHOLD</td>\n",
       "    </tr>\n",
       "    <tr>\n",
       "      <th>52187854</th>\n",
       "      <td>450000.0</td>\n",
       "      <td>1.0</td>\n",
       "      <td>1.0</td>\n",
       "      <td>0.446802</td>\n",
       "      <td>51.527199</td>\n",
       "      <td>-0.202898</td>\n",
       "      <td>0.027479</td>\n",
       "      <td>0.098478</td>\n",
       "      <td>LEASEHOLD</td>\n",
       "    </tr>\n",
       "    <tr>\n",
       "      <th>52675628</th>\n",
       "      <td>490000.0</td>\n",
       "      <td>2.0</td>\n",
       "      <td>2.0</td>\n",
       "      <td>0.215040</td>\n",
       "      <td>51.501114</td>\n",
       "      <td>0.026315</td>\n",
       "      <td>0.001394</td>\n",
       "      <td>0.130735</td>\n",
       "      <td>NaN</td>\n",
       "    </tr>\n",
       "    <tr>\n",
       "      <th>52845963</th>\n",
       "      <td>200000.0</td>\n",
       "      <td>2.0</td>\n",
       "      <td>1.0</td>\n",
       "      <td>0.650562</td>\n",
       "      <td>51.398040</td>\n",
       "      <td>-0.076812</td>\n",
       "      <td>0.101680</td>\n",
       "      <td>0.027608</td>\n",
       "      <td>LEASEHOLD</td>\n",
       "    </tr>\n",
       "    <tr>\n",
       "      <th>52913496</th>\n",
       "      <td>220000.0</td>\n",
       "      <td>1.0</td>\n",
       "      <td>1.0</td>\n",
       "      <td>0.945991</td>\n",
       "      <td>51.539383</td>\n",
       "      <td>-0.382239</td>\n",
       "      <td>0.039663</td>\n",
       "      <td>0.277819</td>\n",
       "      <td>LEASEHOLD</td>\n",
       "    </tr>\n",
       "    <tr>\n",
       "      <th>53609433</th>\n",
       "      <td>489995.0</td>\n",
       "      <td>1.0</td>\n",
       "      <td>1.0</td>\n",
       "      <td>0.087081</td>\n",
       "      <td>51.532620</td>\n",
       "      <td>-0.107860</td>\n",
       "      <td>0.032900</td>\n",
       "      <td>0.003440</td>\n",
       "      <td>LEASEHOLD</td>\n",
       "    </tr>\n",
       "    <tr>\n",
       "      <th>53649578</th>\n",
       "      <td>284950.0</td>\n",
       "      <td>1.0</td>\n",
       "      <td>1.0</td>\n",
       "      <td>0.806597</td>\n",
       "      <td>51.479890</td>\n",
       "      <td>-0.078500</td>\n",
       "      <td>0.019830</td>\n",
       "      <td>0.025920</td>\n",
       "      <td>NaN</td>\n",
       "    </tr>\n",
       "    <tr>\n",
       "      <th>53938989</th>\n",
       "      <td>450000.0</td>\n",
       "      <td>2.0</td>\n",
       "      <td>1.0</td>\n",
       "      <td>0.775203</td>\n",
       "      <td>51.658287</td>\n",
       "      <td>-0.207902</td>\n",
       "      <td>0.158567</td>\n",
       "      <td>0.103482</td>\n",
       "      <td>FREEHOLD</td>\n",
       "    </tr>\n",
       "    <tr>\n",
       "      <th>54713232</th>\n",
       "      <td>332000.0</td>\n",
       "      <td>2.0</td>\n",
       "      <td>1.0</td>\n",
       "      <td>0.319226</td>\n",
       "      <td>51.612300</td>\n",
       "      <td>-0.119860</td>\n",
       "      <td>0.112580</td>\n",
       "      <td>0.015440</td>\n",
       "      <td>SHARE_OF_FREEHOLD</td>\n",
       "    </tr>\n",
       "    <tr>\n",
       "      <th>54904122</th>\n",
       "      <td>365000.0</td>\n",
       "      <td>2.0</td>\n",
       "      <td>1.0</td>\n",
       "      <td>0.260722</td>\n",
       "      <td>51.593595</td>\n",
       "      <td>0.022046</td>\n",
       "      <td>0.093875</td>\n",
       "      <td>0.126466</td>\n",
       "      <td>SHARE_OF_FREEHOLD</td>\n",
       "    </tr>\n",
       "    <tr>\n",
       "      <th>54991934</th>\n",
       "      <td>430000.0</td>\n",
       "      <td>3.0</td>\n",
       "      <td>1.0</td>\n",
       "      <td>0.497268</td>\n",
       "      <td>51.528720</td>\n",
       "      <td>0.039180</td>\n",
       "      <td>0.029000</td>\n",
       "      <td>0.143600</td>\n",
       "      <td>FREEHOLD</td>\n",
       "    </tr>\n",
       "    <tr>\n",
       "      <th>55043230</th>\n",
       "      <td>260000.0</td>\n",
       "      <td>1.0</td>\n",
       "      <td>1.0</td>\n",
       "      <td>0.384607</td>\n",
       "      <td>51.544430</td>\n",
       "      <td>0.014500</td>\n",
       "      <td>0.044710</td>\n",
       "      <td>0.118920</td>\n",
       "      <td>LEASEHOLD</td>\n",
       "    </tr>\n",
       "    <tr>\n",
       "      <th>55187658</th>\n",
       "      <td>430000.0</td>\n",
       "      <td>2.0</td>\n",
       "      <td>2.0</td>\n",
       "      <td>0.289033</td>\n",
       "      <td>51.507570</td>\n",
       "      <td>0.078030</td>\n",
       "      <td>0.007850</td>\n",
       "      <td>0.182450</td>\n",
       "      <td>LEASEHOLD</td>\n",
       "    </tr>\n",
       "    <tr>\n",
       "      <th>55531367</th>\n",
       "      <td>599950.0</td>\n",
       "      <td>2.0</td>\n",
       "      <td>1.0</td>\n",
       "      <td>0.406725</td>\n",
       "      <td>51.467410</td>\n",
       "      <td>-0.079170</td>\n",
       "      <td>0.032310</td>\n",
       "      <td>0.025250</td>\n",
       "      <td>NaN</td>\n",
       "    </tr>\n",
       "    <tr>\n",
       "      <th>55768232</th>\n",
       "      <td>550000.0</td>\n",
       "      <td>2.0</td>\n",
       "      <td>1.0</td>\n",
       "      <td>0.478349</td>\n",
       "      <td>51.472890</td>\n",
       "      <td>-0.078940</td>\n",
       "      <td>0.026830</td>\n",
       "      <td>0.025480</td>\n",
       "      <td>NaN</td>\n",
       "    </tr>\n",
       "    <tr>\n",
       "      <th>55805965</th>\n",
       "      <td>280000.0</td>\n",
       "      <td>2.0</td>\n",
       "      <td>1.0</td>\n",
       "      <td>0.742859</td>\n",
       "      <td>51.520910</td>\n",
       "      <td>0.022680</td>\n",
       "      <td>0.021190</td>\n",
       "      <td>0.127100</td>\n",
       "      <td>LEASEHOLD</td>\n",
       "    </tr>\n",
       "    <tr>\n",
       "      <th>55839051</th>\n",
       "      <td>599950.0</td>\n",
       "      <td>2.0</td>\n",
       "      <td>1.0</td>\n",
       "      <td>0.259168</td>\n",
       "      <td>51.579186</td>\n",
       "      <td>-0.209020</td>\n",
       "      <td>0.079466</td>\n",
       "      <td>0.104600</td>\n",
       "      <td>LEASEHOLD</td>\n",
       "    </tr>\n",
       "    <tr>\n",
       "      <th>55940994</th>\n",
       "      <td>385000.0</td>\n",
       "      <td>2.0</td>\n",
       "      <td>2.0</td>\n",
       "      <td>0.403987</td>\n",
       "      <td>51.376930</td>\n",
       "      <td>-0.238870</td>\n",
       "      <td>0.122790</td>\n",
       "      <td>0.134450</td>\n",
       "      <td>LEASEHOLD</td>\n",
       "    </tr>\n",
       "    <tr>\n",
       "      <th>56449305</th>\n",
       "      <td>380000.0</td>\n",
       "      <td>2.0</td>\n",
       "      <td>1.0</td>\n",
       "      <td>0.310271</td>\n",
       "      <td>51.600483</td>\n",
       "      <td>-0.062096</td>\n",
       "      <td>0.100763</td>\n",
       "      <td>0.042324</td>\n",
       "      <td>FREEHOLD</td>\n",
       "    </tr>\n",
       "    <tr>\n",
       "      <th>57221413</th>\n",
       "      <td>475000.0</td>\n",
       "      <td>3.0</td>\n",
       "      <td>2.0</td>\n",
       "      <td>0.409784</td>\n",
       "      <td>51.497260</td>\n",
       "      <td>-0.422530</td>\n",
       "      <td>0.002460</td>\n",
       "      <td>0.318110</td>\n",
       "      <td>FREEHOLD</td>\n",
       "    </tr>\n",
       "  </tbody>\n",
       "</table>\n",
       "</div>"
      ],
      "text/plain": [
       "             Price  bedrooms  bathrooms  nearestStation  location.latitude  \\\n",
       "14520525  550000.0       3.0        1.0        0.274316          51.529950   \n",
       "27953107  400000.0       2.0        2.0        0.305845          51.549390   \n",
       "33593487  579950.0       2.0        1.0        0.438045          51.447180   \n",
       "35271294  370000.0       2.0        1.0        0.399307          51.449568   \n",
       "35429088  599950.0       2.0        1.0        0.238187          51.577030   \n",
       "44749111  475000.0       2.0        1.0        0.410550          51.370050   \n",
       "46204665  435000.0       3.0        2.0        0.314779          51.539070   \n",
       "49020666  200000.0       1.0        1.0        0.875911          51.539959   \n",
       "49036279  275000.0       2.0        1.0        0.474368          51.541780   \n",
       "49303873  450000.0       3.0        2.0        0.577040          51.524880   \n",
       "52064391  349950.0       2.0        2.0        0.212734          51.470800   \n",
       "52187854  450000.0       1.0        1.0        0.446802          51.527199   \n",
       "52675628  490000.0       2.0        2.0        0.215040          51.501114   \n",
       "52845963  200000.0       2.0        1.0        0.650562          51.398040   \n",
       "52913496  220000.0       1.0        1.0        0.945991          51.539383   \n",
       "53609433  489995.0       1.0        1.0        0.087081          51.532620   \n",
       "53649578  284950.0       1.0        1.0        0.806597          51.479890   \n",
       "53938989  450000.0       2.0        1.0        0.775203          51.658287   \n",
       "54713232  332000.0       2.0        1.0        0.319226          51.612300   \n",
       "54904122  365000.0       2.0        1.0        0.260722          51.593595   \n",
       "54991934  430000.0       3.0        1.0        0.497268          51.528720   \n",
       "55043230  260000.0       1.0        1.0        0.384607          51.544430   \n",
       "55187658  430000.0       2.0        2.0        0.289033          51.507570   \n",
       "55531367  599950.0       2.0        1.0        0.406725          51.467410   \n",
       "55768232  550000.0       2.0        1.0        0.478349          51.472890   \n",
       "55805965  280000.0       2.0        1.0        0.742859          51.520910   \n",
       "55839051  599950.0       2.0        1.0        0.259168          51.579186   \n",
       "55940994  385000.0       2.0        2.0        0.403987          51.376930   \n",
       "56449305  380000.0       2.0        1.0        0.310271          51.600483   \n",
       "57221413  475000.0       3.0        2.0        0.409784          51.497260   \n",
       "\n",
       "          location.longitude  latitude_deviation  longitude_deviation  \\\n",
       "14520525           -0.207020            0.030230             0.102600   \n",
       "27953107           -0.482600            0.049670             0.378180   \n",
       "33593487           -0.338770            0.052540             0.234350   \n",
       "35271294           -0.140154            0.050152             0.035734   \n",
       "35429088           -0.141230            0.077310             0.036810   \n",
       "44749111           -0.212410            0.129670             0.107990   \n",
       "46204665           -0.198935            0.039350             0.094515   \n",
       "49020666           -0.380863            0.040239             0.276443   \n",
       "49036279            0.037890            0.042060             0.142310   \n",
       "49303873            0.187200            0.025160             0.291620   \n",
       "52064391           -0.361820            0.028920             0.257400   \n",
       "52187854           -0.202898            0.027479             0.098478   \n",
       "52675628            0.026315            0.001394             0.130735   \n",
       "52845963           -0.076812            0.101680             0.027608   \n",
       "52913496           -0.382239            0.039663             0.277819   \n",
       "53609433           -0.107860            0.032900             0.003440   \n",
       "53649578           -0.078500            0.019830             0.025920   \n",
       "53938989           -0.207902            0.158567             0.103482   \n",
       "54713232           -0.119860            0.112580             0.015440   \n",
       "54904122            0.022046            0.093875             0.126466   \n",
       "54991934            0.039180            0.029000             0.143600   \n",
       "55043230            0.014500            0.044710             0.118920   \n",
       "55187658            0.078030            0.007850             0.182450   \n",
       "55531367           -0.079170            0.032310             0.025250   \n",
       "55768232           -0.078940            0.026830             0.025480   \n",
       "55805965            0.022680            0.021190             0.127100   \n",
       "55839051           -0.209020            0.079466             0.104600   \n",
       "55940994           -0.238870            0.122790             0.134450   \n",
       "56449305           -0.062096            0.100763             0.042324   \n",
       "57221413           -0.422530            0.002460             0.318110   \n",
       "\n",
       "          tenure.tenureType  \n",
       "14520525          LEASEHOLD  \n",
       "27953107          LEASEHOLD  \n",
       "33593487           FREEHOLD  \n",
       "35271294          LEASEHOLD  \n",
       "35429088                NaN  \n",
       "44749111           FREEHOLD  \n",
       "46204665          LEASEHOLD  \n",
       "49020666          LEASEHOLD  \n",
       "49036279          LEASEHOLD  \n",
       "49303873           FREEHOLD  \n",
       "52064391          LEASEHOLD  \n",
       "52187854          LEASEHOLD  \n",
       "52675628                NaN  \n",
       "52845963          LEASEHOLD  \n",
       "52913496          LEASEHOLD  \n",
       "53609433          LEASEHOLD  \n",
       "53649578                NaN  \n",
       "53938989           FREEHOLD  \n",
       "54713232  SHARE_OF_FREEHOLD  \n",
       "54904122  SHARE_OF_FREEHOLD  \n",
       "54991934           FREEHOLD  \n",
       "55043230          LEASEHOLD  \n",
       "55187658          LEASEHOLD  \n",
       "55531367                NaN  \n",
       "55768232                NaN  \n",
       "55805965          LEASEHOLD  \n",
       "55839051          LEASEHOLD  \n",
       "55940994          LEASEHOLD  \n",
       "56449305           FREEHOLD  \n",
       "57221413           FREEHOLD  "
      ]
     },
     "execution_count": 33,
     "metadata": {},
     "output_type": "execute_result"
    }
   ],
   "source": [
    "df.head(30)"
   ]
  },
  {
   "cell_type": "code",
   "execution_count": 34,
   "metadata": {
    "execution": {
     "iopub.execute_input": "2022-11-16T16:31:41.740987Z",
     "iopub.status.busy": "2022-11-16T16:31:41.740749Z",
     "iopub.status.idle": "2022-11-16T16:31:41.755112Z",
     "shell.execute_reply": "2022-11-16T16:31:41.754362Z",
     "shell.execute_reply.started": "2022-11-16T16:31:41.740965Z"
    }
   },
   "outputs": [
    {
     "data": {
      "text/plain": [
       "Price                     0\n",
       "bedrooms                  0\n",
       "bathrooms                 0\n",
       "nearestStation            0\n",
       "location.latitude         0\n",
       "location.longitude        0\n",
       "latitude_deviation        0\n",
       "longitude_deviation       0\n",
       "tenure.tenureType      2744\n",
       "dtype: int64"
      ]
     },
     "execution_count": 34,
     "metadata": {},
     "output_type": "execute_result"
    }
   ],
   "source": [
    "df.isnull().sum()"
   ]
  },
  {
   "cell_type": "code",
   "execution_count": 35,
   "metadata": {
    "execution": {
     "iopub.execute_input": "2022-11-16T16:31:41.756428Z",
     "iopub.status.busy": "2022-11-16T16:31:41.756177Z",
     "iopub.status.idle": "2022-11-16T16:31:41.833319Z",
     "shell.execute_reply": "2022-11-16T16:31:41.832472Z",
     "shell.execute_reply.started": "2022-11-16T16:31:41.756397Z"
    }
   },
   "outputs": [
    {
     "name": "stdout",
     "output_type": "stream",
     "text": [
      "<class 'pandas.core.frame.DataFrame'>\n",
      "Int64Index: 46871 entries, 14520525 to 126181118\n",
      "Data columns (total 9 columns):\n",
      " #   Column               Non-Null Count  Dtype  \n",
      "---  ------               --------------  -----  \n",
      " 0   Price                46871 non-null  float64\n",
      " 1   bedrooms             46871 non-null  float64\n",
      " 2   bathrooms            46871 non-null  float64\n",
      " 3   nearestStation       46871 non-null  float64\n",
      " 4   location.latitude    46871 non-null  float64\n",
      " 5   location.longitude   46871 non-null  float64\n",
      " 6   latitude_deviation   46871 non-null  float64\n",
      " 7   longitude_deviation  46871 non-null  float64\n",
      " 8   tenure.tenureType    44127 non-null  object \n",
      "dtypes: float64(8), object(1)\n",
      "memory usage: 3.6+ MB\n"
     ]
    },
    {
     "data": {
      "text/html": [
       "<div>\n",
       "<style scoped>\n",
       "    .dataframe tbody tr th:only-of-type {\n",
       "        vertical-align: middle;\n",
       "    }\n",
       "\n",
       "    .dataframe tbody tr th {\n",
       "        vertical-align: top;\n",
       "    }\n",
       "\n",
       "    .dataframe thead th {\n",
       "        text-align: right;\n",
       "    }\n",
       "</style>\n",
       "<table border=\"1\" class=\"dataframe\">\n",
       "  <thead>\n",
       "    <tr style=\"text-align: right;\">\n",
       "      <th></th>\n",
       "      <th>count</th>\n",
       "      <th>mean</th>\n",
       "      <th>std</th>\n",
       "      <th>min</th>\n",
       "      <th>25%</th>\n",
       "      <th>50%</th>\n",
       "      <th>75%</th>\n",
       "      <th>max</th>\n",
       "    </tr>\n",
       "  </thead>\n",
       "  <tbody>\n",
       "    <tr>\n",
       "      <th>Price</th>\n",
       "      <td>46871.0</td>\n",
       "      <td>425069.390775</td>\n",
       "      <td>107227.324906</td>\n",
       "      <td>100000.000000</td>\n",
       "      <td>349950.000000</td>\n",
       "      <td>425000.000000</td>\n",
       "      <td>515000.000000</td>\n",
       "      <td>600000.000000</td>\n",
       "    </tr>\n",
       "    <tr>\n",
       "      <th>bedrooms</th>\n",
       "      <td>46871.0</td>\n",
       "      <td>1.992469</td>\n",
       "      <td>0.828837</td>\n",
       "      <td>1.000000</td>\n",
       "      <td>1.000000</td>\n",
       "      <td>2.000000</td>\n",
       "      <td>3.000000</td>\n",
       "      <td>7.000000</td>\n",
       "    </tr>\n",
       "    <tr>\n",
       "      <th>bathrooms</th>\n",
       "      <td>46871.0</td>\n",
       "      <td>1.182074</td>\n",
       "      <td>0.409879</td>\n",
       "      <td>1.000000</td>\n",
       "      <td>1.000000</td>\n",
       "      <td>1.000000</td>\n",
       "      <td>1.000000</td>\n",
       "      <td>5.000000</td>\n",
       "    </tr>\n",
       "    <tr>\n",
       "      <th>nearestStation</th>\n",
       "      <td>46871.0</td>\n",
       "      <td>0.438847</td>\n",
       "      <td>0.325942</td>\n",
       "      <td>0.000000</td>\n",
       "      <td>0.227169</td>\n",
       "      <td>0.367971</td>\n",
       "      <td>0.559620</td>\n",
       "      <td>7.197700</td>\n",
       "    </tr>\n",
       "    <tr>\n",
       "      <th>location.latitude</th>\n",
       "      <td>46871.0</td>\n",
       "      <td>51.497049</td>\n",
       "      <td>0.077085</td>\n",
       "      <td>51.298317</td>\n",
       "      <td>51.438861</td>\n",
       "      <td>51.499977</td>\n",
       "      <td>51.556183</td>\n",
       "      <td>51.683185</td>\n",
       "    </tr>\n",
       "    <tr>\n",
       "      <th>location.longitude</th>\n",
       "      <td>46871.0</td>\n",
       "      <td>-0.113269</td>\n",
       "      <td>0.156489</td>\n",
       "      <td>-0.498315</td>\n",
       "      <td>-0.210796</td>\n",
       "      <td>-0.102230</td>\n",
       "      <td>-0.010343</td>\n",
       "      <td>0.279726</td>\n",
       "    </tr>\n",
       "    <tr>\n",
       "      <th>latitude_deviation</th>\n",
       "      <td>46871.0</td>\n",
       "      <td>0.064317</td>\n",
       "      <td>0.042573</td>\n",
       "      <td>0.000000</td>\n",
       "      <td>0.028876</td>\n",
       "      <td>0.058595</td>\n",
       "      <td>0.094362</td>\n",
       "      <td>0.201403</td>\n",
       "    </tr>\n",
       "    <tr>\n",
       "      <th>longitude_deviation</th>\n",
       "      <td>46871.0</td>\n",
       "      <td>0.124202</td>\n",
       "      <td>0.095607</td>\n",
       "      <td>0.000000</td>\n",
       "      <td>0.043560</td>\n",
       "      <td>0.098984</td>\n",
       "      <td>0.192684</td>\n",
       "      <td>0.393895</td>\n",
       "    </tr>\n",
       "  </tbody>\n",
       "</table>\n",
       "</div>"
      ],
      "text/plain": [
       "                       count           mean            std            min  \\\n",
       "Price                46871.0  425069.390775  107227.324906  100000.000000   \n",
       "bedrooms             46871.0       1.992469       0.828837       1.000000   \n",
       "bathrooms            46871.0       1.182074       0.409879       1.000000   \n",
       "nearestStation       46871.0       0.438847       0.325942       0.000000   \n",
       "location.latitude    46871.0      51.497049       0.077085      51.298317   \n",
       "location.longitude   46871.0      -0.113269       0.156489      -0.498315   \n",
       "latitude_deviation   46871.0       0.064317       0.042573       0.000000   \n",
       "longitude_deviation  46871.0       0.124202       0.095607       0.000000   \n",
       "\n",
       "                               25%            50%            75%  \\\n",
       "Price                349950.000000  425000.000000  515000.000000   \n",
       "bedrooms                  1.000000       2.000000       3.000000   \n",
       "bathrooms                 1.000000       1.000000       1.000000   \n",
       "nearestStation            0.227169       0.367971       0.559620   \n",
       "location.latitude        51.438861      51.499977      51.556183   \n",
       "location.longitude       -0.210796      -0.102230      -0.010343   \n",
       "latitude_deviation        0.028876       0.058595       0.094362   \n",
       "longitude_deviation       0.043560       0.098984       0.192684   \n",
       "\n",
       "                               max  \n",
       "Price                600000.000000  \n",
       "bedrooms                  7.000000  \n",
       "bathrooms                 5.000000  \n",
       "nearestStation            7.197700  \n",
       "location.latitude        51.683185  \n",
       "location.longitude        0.279726  \n",
       "latitude_deviation        0.201403  \n",
       "longitude_deviation       0.393895  "
      ]
     },
     "execution_count": 35,
     "metadata": {},
     "output_type": "execute_result"
    }
   ],
   "source": [
    "df.info()\n",
    "df.describe()\n",
    "df.describe().T"
   ]
  },
  {
   "cell_type": "code",
   "execution_count": 36,
   "metadata": {
    "execution": {
     "iopub.execute_input": "2022-11-16T16:31:41.834995Z",
     "iopub.status.busy": "2022-11-16T16:31:41.834749Z",
     "iopub.status.idle": "2022-11-16T16:31:41.889511Z",
     "shell.execute_reply": "2022-11-16T16:31:41.888739Z",
     "shell.execute_reply.started": "2022-11-16T16:31:41.834974Z"
    }
   },
   "outputs": [
    {
     "name": "stdout",
     "output_type": "stream",
     "text": [
      "dataframe contract due to cleaning: 46871 ==> 46871\n"
     ]
    },
    {
     "data": {
      "text/html": [
       "<div>\n",
       "<style scoped>\n",
       "    .dataframe tbody tr th:only-of-type {\n",
       "        vertical-align: middle;\n",
       "    }\n",
       "\n",
       "    .dataframe tbody tr th {\n",
       "        vertical-align: top;\n",
       "    }\n",
       "\n",
       "    .dataframe thead th {\n",
       "        text-align: right;\n",
       "    }\n",
       "</style>\n",
       "<table border=\"1\" class=\"dataframe\">\n",
       "  <thead>\n",
       "    <tr style=\"text-align: right;\">\n",
       "      <th></th>\n",
       "      <th>count</th>\n",
       "      <th>mean</th>\n",
       "      <th>std</th>\n",
       "      <th>min</th>\n",
       "      <th>25%</th>\n",
       "      <th>50%</th>\n",
       "      <th>75%</th>\n",
       "      <th>max</th>\n",
       "    </tr>\n",
       "  </thead>\n",
       "  <tbody>\n",
       "    <tr>\n",
       "      <th>Price</th>\n",
       "      <td>46871.0</td>\n",
       "      <td>425069.390775</td>\n",
       "      <td>107227.324906</td>\n",
       "      <td>100000.000000</td>\n",
       "      <td>349950.000000</td>\n",
       "      <td>425000.000000</td>\n",
       "      <td>515000.000000</td>\n",
       "      <td>600000.000000</td>\n",
       "    </tr>\n",
       "    <tr>\n",
       "      <th>bedrooms</th>\n",
       "      <td>46871.0</td>\n",
       "      <td>1.992469</td>\n",
       "      <td>0.828837</td>\n",
       "      <td>1.000000</td>\n",
       "      <td>1.000000</td>\n",
       "      <td>2.000000</td>\n",
       "      <td>3.000000</td>\n",
       "      <td>7.000000</td>\n",
       "    </tr>\n",
       "    <tr>\n",
       "      <th>bathrooms</th>\n",
       "      <td>46871.0</td>\n",
       "      <td>1.182074</td>\n",
       "      <td>0.409879</td>\n",
       "      <td>1.000000</td>\n",
       "      <td>1.000000</td>\n",
       "      <td>1.000000</td>\n",
       "      <td>1.000000</td>\n",
       "      <td>5.000000</td>\n",
       "    </tr>\n",
       "    <tr>\n",
       "      <th>nearestStation</th>\n",
       "      <td>46871.0</td>\n",
       "      <td>0.438847</td>\n",
       "      <td>0.325942</td>\n",
       "      <td>0.000000</td>\n",
       "      <td>0.227169</td>\n",
       "      <td>0.367971</td>\n",
       "      <td>0.559620</td>\n",
       "      <td>7.197700</td>\n",
       "    </tr>\n",
       "    <tr>\n",
       "      <th>location.latitude</th>\n",
       "      <td>46871.0</td>\n",
       "      <td>51.497049</td>\n",
       "      <td>0.077085</td>\n",
       "      <td>51.298317</td>\n",
       "      <td>51.438861</td>\n",
       "      <td>51.499977</td>\n",
       "      <td>51.556183</td>\n",
       "      <td>51.683185</td>\n",
       "    </tr>\n",
       "    <tr>\n",
       "      <th>location.longitude</th>\n",
       "      <td>46871.0</td>\n",
       "      <td>-0.113269</td>\n",
       "      <td>0.156489</td>\n",
       "      <td>-0.498315</td>\n",
       "      <td>-0.210796</td>\n",
       "      <td>-0.102230</td>\n",
       "      <td>-0.010343</td>\n",
       "      <td>0.279726</td>\n",
       "    </tr>\n",
       "    <tr>\n",
       "      <th>latitude_deviation</th>\n",
       "      <td>46871.0</td>\n",
       "      <td>0.064317</td>\n",
       "      <td>0.042573</td>\n",
       "      <td>0.000000</td>\n",
       "      <td>0.028876</td>\n",
       "      <td>0.058595</td>\n",
       "      <td>0.094362</td>\n",
       "      <td>0.201403</td>\n",
       "    </tr>\n",
       "    <tr>\n",
       "      <th>longitude_deviation</th>\n",
       "      <td>46871.0</td>\n",
       "      <td>0.124202</td>\n",
       "      <td>0.095607</td>\n",
       "      <td>0.000000</td>\n",
       "      <td>0.043560</td>\n",
       "      <td>0.098984</td>\n",
       "      <td>0.192684</td>\n",
       "      <td>0.393895</td>\n",
       "    </tr>\n",
       "  </tbody>\n",
       "</table>\n",
       "</div>"
      ],
      "text/plain": [
       "                       count           mean            std            min  \\\n",
       "Price                46871.0  425069.390775  107227.324906  100000.000000   \n",
       "bedrooms             46871.0       1.992469       0.828837       1.000000   \n",
       "bathrooms            46871.0       1.182074       0.409879       1.000000   \n",
       "nearestStation       46871.0       0.438847       0.325942       0.000000   \n",
       "location.latitude    46871.0      51.497049       0.077085      51.298317   \n",
       "location.longitude   46871.0      -0.113269       0.156489      -0.498315   \n",
       "latitude_deviation   46871.0       0.064317       0.042573       0.000000   \n",
       "longitude_deviation  46871.0       0.124202       0.095607       0.000000   \n",
       "\n",
       "                               25%            50%            75%  \\\n",
       "Price                349950.000000  425000.000000  515000.000000   \n",
       "bedrooms                  1.000000       2.000000       3.000000   \n",
       "bathrooms                 1.000000       1.000000       1.000000   \n",
       "nearestStation            0.227169       0.367971       0.559620   \n",
       "location.latitude        51.438861      51.499977      51.556183   \n",
       "location.longitude       -0.210796      -0.102230      -0.010343   \n",
       "latitude_deviation        0.028876       0.058595       0.094362   \n",
       "longitude_deviation       0.043560       0.098984       0.192684   \n",
       "\n",
       "                               max  \n",
       "Price                600000.000000  \n",
       "bedrooms                  7.000000  \n",
       "bathrooms                 5.000000  \n",
       "nearestStation            7.197700  \n",
       "location.latitude        51.683185  \n",
       "location.longitude        0.279726  \n",
       "latitude_deviation        0.201403  \n",
       "longitude_deviation       0.393895  "
      ]
     },
     "execution_count": 36,
     "metadata": {},
     "output_type": "execute_result"
    }
   ],
   "source": [
    "old_length = len(df)\n",
    "\n",
    "df = preprocess(df, version=VERSION)\n",
    "\n",
    "print(f\"dataframe contract due to cleaning: {old_length} ==> {len(df)}\")\n",
    "old_length = len(df)\n",
    "\n",
    "df.describe().T"
   ]
  },
  {
   "cell_type": "code",
   "execution_count": 37,
   "metadata": {
    "execution": {
     "iopub.execute_input": "2022-11-16T16:31:41.892378Z",
     "iopub.status.busy": "2022-11-16T16:31:41.892112Z",
     "iopub.status.idle": "2022-11-16T16:31:41.904609Z",
     "shell.execute_reply": "2022-11-16T16:31:41.903760Z",
     "shell.execute_reply.started": "2022-11-16T16:31:41.892356Z"
    }
   },
   "outputs": [
    {
     "data": {
      "text/plain": [
       "Price                     0\n",
       "bedrooms                  0\n",
       "bathrooms                 0\n",
       "nearestStation            0\n",
       "location.latitude         0\n",
       "location.longitude        0\n",
       "latitude_deviation        0\n",
       "longitude_deviation       0\n",
       "tenure.tenureType      2744\n",
       "dtype: int64"
      ]
     },
     "execution_count": 37,
     "metadata": {},
     "output_type": "execute_result"
    }
   ],
   "source": [
    "df.isna().sum()"
   ]
  },
  {
   "cell_type": "code",
   "execution_count": 38,
   "metadata": {
    "execution": {
     "iopub.execute_input": "2022-11-16T16:31:41.905792Z",
     "iopub.status.busy": "2022-11-16T16:31:41.905520Z",
     "iopub.status.idle": "2022-11-16T16:31:41.949854Z",
     "shell.execute_reply": "2022-11-16T16:31:41.949143Z",
     "shell.execute_reply.started": "2022-11-16T16:31:41.905740Z"
    }
   },
   "outputs": [
    {
     "name": "stdout",
     "output_type": "stream",
     "text": [
      "46871 ==> 44127\n"
     ]
    },
    {
     "data": {
      "text/html": [
       "<div>\n",
       "<style scoped>\n",
       "    .dataframe tbody tr th:only-of-type {\n",
       "        vertical-align: middle;\n",
       "    }\n",
       "\n",
       "    .dataframe tbody tr th {\n",
       "        vertical-align: top;\n",
       "    }\n",
       "\n",
       "    .dataframe thead th {\n",
       "        text-align: right;\n",
       "    }\n",
       "</style>\n",
       "<table border=\"1\" class=\"dataframe\">\n",
       "  <thead>\n",
       "    <tr style=\"text-align: right;\">\n",
       "      <th></th>\n",
       "      <th>Price</th>\n",
       "      <th>bedrooms</th>\n",
       "      <th>bathrooms</th>\n",
       "      <th>nearestStation</th>\n",
       "      <th>location.latitude</th>\n",
       "      <th>location.longitude</th>\n",
       "      <th>latitude_deviation</th>\n",
       "      <th>longitude_deviation</th>\n",
       "    </tr>\n",
       "  </thead>\n",
       "  <tbody>\n",
       "    <tr>\n",
       "      <th>count</th>\n",
       "      <td>44127.000000</td>\n",
       "      <td>44127.000000</td>\n",
       "      <td>44127.00000</td>\n",
       "      <td>44127.000000</td>\n",
       "      <td>44127.000000</td>\n",
       "      <td>44127.000000</td>\n",
       "      <td>44127.000000</td>\n",
       "      <td>44127.000000</td>\n",
       "    </tr>\n",
       "    <tr>\n",
       "      <th>mean</th>\n",
       "      <td>425224.642373</td>\n",
       "      <td>1.990981</td>\n",
       "      <td>1.18134</td>\n",
       "      <td>0.438522</td>\n",
       "      <td>51.496711</td>\n",
       "      <td>-0.113106</td>\n",
       "      <td>0.064544</td>\n",
       "      <td>0.123699</td>\n",
       "    </tr>\n",
       "    <tr>\n",
       "      <th>std</th>\n",
       "      <td>107203.332660</td>\n",
       "      <td>0.827621</td>\n",
       "      <td>0.40893</td>\n",
       "      <td>0.324152</td>\n",
       "      <td>0.077267</td>\n",
       "      <td>0.155863</td>\n",
       "      <td>0.042583</td>\n",
       "      <td>0.095220</td>\n",
       "    </tr>\n",
       "    <tr>\n",
       "      <th>min</th>\n",
       "      <td>100000.000000</td>\n",
       "      <td>1.000000</td>\n",
       "      <td>1.00000</td>\n",
       "      <td>0.000000</td>\n",
       "      <td>51.298317</td>\n",
       "      <td>-0.498315</td>\n",
       "      <td>0.000000</td>\n",
       "      <td>0.000000</td>\n",
       "    </tr>\n",
       "    <tr>\n",
       "      <th>25%</th>\n",
       "      <td>349950.000000</td>\n",
       "      <td>1.000000</td>\n",
       "      <td>1.00000</td>\n",
       "      <td>0.227551</td>\n",
       "      <td>51.438303</td>\n",
       "      <td>-0.210633</td>\n",
       "      <td>0.029023</td>\n",
       "      <td>0.043551</td>\n",
       "    </tr>\n",
       "    <tr>\n",
       "      <th>50%</th>\n",
       "      <td>425000.000000</td>\n",
       "      <td>2.000000</td>\n",
       "      <td>1.00000</td>\n",
       "      <td>0.368351</td>\n",
       "      <td>51.498780</td>\n",
       "      <td>-0.101910</td>\n",
       "      <td>0.058904</td>\n",
       "      <td>0.098750</td>\n",
       "    </tr>\n",
       "    <tr>\n",
       "      <th>75%</th>\n",
       "      <td>515000.000000</td>\n",
       "      <td>3.000000</td>\n",
       "      <td>1.00000</td>\n",
       "      <td>0.559486</td>\n",
       "      <td>51.556343</td>\n",
       "      <td>-0.010854</td>\n",
       "      <td>0.094620</td>\n",
       "      <td>0.191727</td>\n",
       "    </tr>\n",
       "    <tr>\n",
       "      <th>max</th>\n",
       "      <td>600000.000000</td>\n",
       "      <td>7.000000</td>\n",
       "      <td>5.00000</td>\n",
       "      <td>7.197700</td>\n",
       "      <td>51.683185</td>\n",
       "      <td>0.279726</td>\n",
       "      <td>0.201403</td>\n",
       "      <td>0.393895</td>\n",
       "    </tr>\n",
       "  </tbody>\n",
       "</table>\n",
       "</div>"
      ],
      "text/plain": [
       "               Price      bedrooms    bathrooms  nearestStation  \\\n",
       "count   44127.000000  44127.000000  44127.00000    44127.000000   \n",
       "mean   425224.642373      1.990981      1.18134        0.438522   \n",
       "std    107203.332660      0.827621      0.40893        0.324152   \n",
       "min    100000.000000      1.000000      1.00000        0.000000   \n",
       "25%    349950.000000      1.000000      1.00000        0.227551   \n",
       "50%    425000.000000      2.000000      1.00000        0.368351   \n",
       "75%    515000.000000      3.000000      1.00000        0.559486   \n",
       "max    600000.000000      7.000000      5.00000        7.197700   \n",
       "\n",
       "       location.latitude  location.longitude  latitude_deviation  \\\n",
       "count       44127.000000        44127.000000        44127.000000   \n",
       "mean           51.496711           -0.113106            0.064544   \n",
       "std             0.077267            0.155863            0.042583   \n",
       "min            51.298317           -0.498315            0.000000   \n",
       "25%            51.438303           -0.210633            0.029023   \n",
       "50%            51.498780           -0.101910            0.058904   \n",
       "75%            51.556343           -0.010854            0.094620   \n",
       "max            51.683185            0.279726            0.201403   \n",
       "\n",
       "       longitude_deviation  \n",
       "count         44127.000000  \n",
       "mean              0.123699  \n",
       "std               0.095220  \n",
       "min               0.000000  \n",
       "25%               0.043551  \n",
       "50%               0.098750  \n",
       "75%               0.191727  \n",
       "max               0.393895  "
      ]
     },
     "execution_count": 38,
     "metadata": {},
     "output_type": "execute_result"
    }
   ],
   "source": [
    "df = df.dropna()\n",
    "print(f\"{old_length} ==> {len(df)}\")\n",
    "old_length = len(df)\n",
    "df.describe()"
   ]
  },
  {
   "cell_type": "code",
   "execution_count": 39,
   "metadata": {
    "execution": {
     "iopub.execute_input": "2022-11-16T16:31:41.951256Z",
     "iopub.status.busy": "2022-11-16T16:31:41.950960Z",
     "iopub.status.idle": "2022-11-16T16:31:41.986181Z",
     "shell.execute_reply": "2022-11-16T16:31:41.985335Z",
     "shell.execute_reply.started": "2022-11-16T16:31:41.951232Z"
    }
   },
   "outputs": [
    {
     "name": "stdout",
     "output_type": "stream",
     "text": [
      "[3.00000000e+00 3.00000000e+00 3.16613257e-01 5.14597600e+01\n",
      " 1.29390000e-01 3.99600000e-02 2.33810000e-01 0.00000000e+00\n",
      " 1.00000000e+00 0.00000000e+00 0.00000000e+00]\n",
      "[[525000.]\n",
      " [225000.]\n",
      " [475000.]\n",
      " ...\n",
      " [435000.]\n",
      " [315000.]\n",
      " [600000.]] [525000. 225000. 475000. ... 435000. 315000. 600000.]\n",
      "(39714, 11) (4413, 11) (39714,) (4413, 1) (39714, 1) (4413, 1) (39714, 1) (4413, 1)\n"
     ]
    }
   ],
   "source": [
    "X_train, X_test, y_train, y_test, X_train_index, X_test_index, y_train_index, y_test_index, df_features, df_labels = create_train_test_data(\n",
    "    df,\n",
    "    categories=categories,\n",
    "    RANDOM_STATE=RANDOM_STATE, return_index=True,\n",
    "    drop_nulls=True,\n",
    "    no_dummies=no_dummies\n",
    ")\n",
    "\n",
    "print(X_train[0])\n",
    "\n",
    "if 'forest' in ALGORITHM.lower() or ALGORITHM.lower() == 'light gradient boosting':\n",
    "    y_train_orig = y_train\n",
    "    y_train = y_train.ravel()\n",
    "    print(y_train_orig, y_train)\n",
    "\n",
    "print(X_train.shape, X_test.shape, y_train.shape, y_test.shape, X_train_index.shape, X_test_index.shape,\n",
    "      y_train_index.shape, y_test_index.shape)\n",
    "\n"
   ]
  },
  {
   "cell_type": "code",
   "execution_count": 40,
   "metadata": {
    "execution": {
     "iopub.execute_input": "2022-11-16T16:31:41.987747Z",
     "iopub.status.busy": "2022-11-16T16:31:41.987396Z",
     "iopub.status.idle": "2022-11-16T16:31:41.991177Z",
     "shell.execute_reply": "2022-11-16T16:31:41.990438Z",
     "shell.execute_reply.started": "2022-11-16T16:31:41.987722Z"
    }
   },
   "outputs": [],
   "source": [
    "#imputer = SimpleImputer(strategy='mean')\n",
    "#imputer.fit(X_train[6])\n",
    "#X_train[6] = imputer.transform(X_train[6])"
   ]
  },
  {
   "cell_type": "code",
   "execution_count": 41,
   "metadata": {
    "execution": {
     "iopub.execute_input": "2022-11-16T16:31:41.992748Z",
     "iopub.status.busy": "2022-11-16T16:31:41.992511Z",
     "iopub.status.idle": "2022-11-16T16:31:41.997439Z",
     "shell.execute_reply": "2022-11-16T16:31:41.996770Z",
     "shell.execute_reply.started": "2022-11-16T16:31:41.992729Z"
    }
   },
   "outputs": [
    {
     "name": "stdout",
     "output_type": "stream",
     "text": [
      "default_model_params:\n",
      " {'boosting_type': 'gbdt', 'class_weight': None, 'colsample_bytree': 1.0, 'importance_type': 'split', 'learning_rate': 0.1, 'max_depth': -1, 'min_child_samples': 20, 'min_child_weight': 0.001, 'min_split_gain': 0.0, 'n_estimators': 100, 'n_jobs': -1, 'num_leaves': 31, 'objective': None, 'random_state': None, 'reg_alpha': 0.0, 'reg_lambda': 0.0, 'silent': 'warn', 'subsample': 1.0, 'subsample_for_bin': 200000, 'subsample_freq': 0}\n",
      "---------------------\n",
      "sklearn.metrics.get_scorer_names():\n",
      " ['accuracy', 'adjusted_mutual_info_score', 'adjusted_rand_score', 'average_precision', 'balanced_accuracy', 'completeness_score', 'explained_variance', 'f1', 'f1_macro', 'f1_micro', 'f1_samples', 'f1_weighted', 'fowlkes_mallows_score', 'homogeneity_score', 'jaccard', 'jaccard_macro', 'jaccard_micro', 'jaccard_samples', 'jaccard_weighted', 'matthews_corrcoef', 'max_error', 'mutual_info_score', 'neg_brier_score', 'neg_log_loss', 'neg_mean_absolute_error', 'neg_mean_absolute_percentage_error', 'neg_mean_gamma_deviance', 'neg_mean_poisson_deviance', 'neg_mean_squared_error', 'neg_mean_squared_log_error', 'neg_median_absolute_error', 'neg_root_mean_squared_error', 'normalized_mutual_info_score', 'precision', 'precision_macro', 'precision_micro', 'precision_samples', 'precision_weighted', 'r2', 'rand_score', 'recall', 'recall_macro', 'recall_micro', 'recall_samples', 'recall_weighted', 'roc_auc', 'roc_auc_ovo', 'roc_auc_ovo_weighted', 'roc_auc_ovr', 'roc_auc_ovr_weighted', 'top_k_accuracy', 'v_measure_score']\n"
     ]
    }
   ],
   "source": [
    "starter_model = starter_pipe[-1]\n",
    "default_model_params = starter_model.get_params()\n",
    "\n",
    "print(\"default_model_params:\\n\", default_model_params)\n",
    "print(\"---------------------\")\n",
    "print(\"sklearn.metrics.get_scorer_names():\\n\", sklearn.metrics.get_scorer_names())"
   ]
  },
  {
   "cell_type": "code",
   "execution_count": 42,
   "metadata": {
    "collapsed": false,
    "execution": {
     "iopub.execute_input": "2022-11-16T16:31:41.998466Z",
     "iopub.status.busy": "2022-11-16T16:31:41.998251Z",
     "iopub.status.idle": "2022-11-16T16:31:42.002800Z",
     "shell.execute_reply": "2022-11-16T16:31:42.002165Z",
     "shell.execute_reply.started": "2022-11-16T16:31:41.998445Z"
    },
    "jupyter": {
     "outputs_hidden": false
    }
   },
   "outputs": [],
   "source": [
    "\n",
    "\n",
    "# Pandas and numpy for data manipulation\n",
    "import pandas as pd\n",
    "import numpy as np\n",
    "\n",
    "# Modeling\n",
    "import lightgbm as lgb\n",
    "\n",
    "# Evaluation of the model\n",
    "from sklearn.model_selection import KFold\n",
    "\n",
    "MAX_EVALS = 500\n",
    "N_FOLDS = 10\n",
    "\n"
   ]
  },
  {
   "cell_type": "markdown",
   "metadata": {},
   "source": [
    "# Bayesian Hyperparameter Optimization using Hyperopt"
   ]
  },
  {
   "cell_type": "code",
   "execution_count": 43,
   "metadata": {
    "collapsed": false,
    "execution": {
     "iopub.execute_input": "2022-11-16T16:31:42.003747Z",
     "iopub.status.busy": "2022-11-16T16:31:42.003549Z",
     "iopub.status.idle": "2022-11-16T16:31:42.007114Z",
     "shell.execute_reply": "2022-11-16T16:31:42.006540Z",
     "shell.execute_reply.started": "2022-11-16T16:31:42.003729Z"
    },
    "jupyter": {
     "outputs_hidden": false
    }
   },
   "outputs": [],
   "source": [
    "import numpy as np\n",
    "\n",
    "MAX_EVALS = 500\n",
    "N_FOLDS = 10\n"
   ]
  },
  {
   "cell_type": "markdown",
   "metadata": {},
   "source": [
    "-----------------------"
   ]
  },
  {
   "cell_type": "markdown",
   "metadata": {},
   "source": [
    "Objective Function"
   ]
  },
  {
   "cell_type": "code",
   "execution_count": 44,
   "metadata": {
    "collapsed": false,
    "execution": {
     "iopub.execute_input": "2022-11-16T16:31:42.007972Z",
     "iopub.status.busy": "2022-11-16T16:31:42.007779Z",
     "iopub.status.idle": "2022-11-16T16:31:42.272324Z",
     "shell.execute_reply": "2022-11-16T16:31:42.271645Z",
     "shell.execute_reply.started": "2022-11-16T16:31:42.007955Z"
    },
    "jupyter": {
     "outputs_hidden": false
    }
   },
   "outputs": [],
   "source": [
    "import csv\n",
    "from hyperopt import STATUS_OK\n",
    "from timeit import default_timer as timer\n",
    "\n",
    "def objective(params, n_folds = N_FOLDS):\n",
    "    \"\"\"Objective function for Gradient Boosting Machine Hyperparameter Optimization\"\"\"\n",
    "\n",
    "    # Keep track of evals\n",
    "    global ITERATION\n",
    "\n",
    "    ITERATION += 1\n",
    "\n",
    "    # Retrieve the subsample if present otherwise set to 1.0\n",
    "    subsample = params['boosting_type'].get('subsample', 1.0)\n",
    "\n",
    "    # Extract the boosting type\n",
    "    params['boosting_type'] = params['boosting_type']['boosting_type']\n",
    "    params['subsample'] = subsample\n",
    "\n",
    "    # Make sure parameters that need to be integers are integers\n",
    "    #for parameter_name in ['num_leaves', 'subsample_for_bin', 'min_child_samples']:\n",
    "    for parameter_name in ['num_leaves', 'min_child_samples']:\n",
    "        params[parameter_name] = int(params[parameter_name])\n",
    "\n",
    "    start = timer()\n",
    "\n",
    "    # Perform n_folds cross validation\n",
    "    cv_results = lgb.cv(params, train_set, num_boost_round = 10000, nfold = n_folds,\n",
    "                        early_stopping_rounds = 100, metrics = 'auc', seed = 50)\n",
    "\n",
    "    run_time = timer() - start\n",
    "\n",
    "    # Extract the best score\n",
    "    best_score = np.max(cv_results['auc-mean'])\n",
    "\n",
    "    # Loss must be minimized\n",
    "    loss = 1 - best_score\n",
    "\n",
    "    # Boosting rounds that returned the highest cv score\n",
    "    n_estimators = int(np.argmax(cv_results['auc-mean']) + 1)\n",
    "\n",
    "    # Write to the csv file ('a' means append)\n",
    "    of_connection = open(out_file, 'a')\n",
    "    writer = csv.writer(of_connection)\n",
    "    writer.writerow([loss, params, ITERATION, n_estimators, run_time])\n",
    "\n",
    "    # Dictionary with information for evaluation\n",
    "    return {'loss': loss, 'params': params, 'iteration': ITERATION,\n",
    "            'estimators': n_estimators,\n",
    "            'train_time': run_time, 'status': STATUS_OK}"
   ]
  },
  {
   "cell_type": "markdown",
   "metadata": {},
   "source": [
    "Domain Space"
   ]
  },
  {
   "cell_type": "code",
   "execution_count": 45,
   "metadata": {
    "collapsed": false,
    "execution": {
     "iopub.execute_input": "2022-11-16T16:31:42.273425Z",
     "iopub.status.busy": "2022-11-16T16:31:42.273203Z",
     "iopub.status.idle": "2022-11-16T16:31:42.277098Z",
     "shell.execute_reply": "2022-11-16T16:31:42.276517Z",
     "shell.execute_reply.started": "2022-11-16T16:31:42.273404Z"
    },
    "jupyter": {
     "outputs_hidden": false
    }
   },
   "outputs": [],
   "source": [
    "from hyperopt import hp\n",
    "from hyperopt.pyll.stochastic import sample"
   ]
  },
  {
   "cell_type": "code",
   "execution_count": 46,
   "metadata": {
    "collapsed": false,
    "execution": {
     "iopub.execute_input": "2022-11-16T16:31:42.278165Z",
     "iopub.status.busy": "2022-11-16T16:31:42.277952Z",
     "iopub.status.idle": "2022-11-16T16:31:42.285211Z",
     "shell.execute_reply": "2022-11-16T16:31:42.284609Z",
     "shell.execute_reply.started": "2022-11-16T16:31:42.278146Z"
    },
    "jupyter": {
     "outputs_hidden": false
    }
   },
   "outputs": [
    {
     "data": {
      "text/plain": [
       "{'boosting_type': {'boosting_type': 'dart', 'subsample': 0.9189521662340219}}"
      ]
     },
     "execution_count": 46,
     "metadata": {},
     "output_type": "execute_result"
    }
   ],
   "source": [
    "# boosting type domain\n",
    "boosting_type = {'boosting_type': hp.choice('boosting_type',\n",
    "                                            [{'boosting_type': 'gbdt', 'subsample': hp.uniform('subsample', 0.5, 1)},\n",
    "                                             {'boosting_type': 'dart', 'subsample': hp.uniform('subsample', 0.5, 1)},\n",
    "                                             {'boosting_type': 'goss', 'subsample': 1.0}])}\n",
    "\n",
    "# Draw a sample\n",
    "params = sample(boosting_type)\n",
    "params"
   ]
  },
  {
   "cell_type": "code",
   "execution_count": 47,
   "metadata": {
    "collapsed": false,
    "execution": {
     "iopub.execute_input": "2022-11-16T16:31:42.286217Z",
     "iopub.status.busy": "2022-11-16T16:31:42.285956Z",
     "iopub.status.idle": "2022-11-16T16:31:42.292110Z",
     "shell.execute_reply": "2022-11-16T16:31:42.291237Z",
     "shell.execute_reply.started": "2022-11-16T16:31:42.286197Z"
    },
    "jupyter": {
     "outputs_hidden": false
    }
   },
   "outputs": [
    {
     "data": {
      "text/plain": [
       "{'boosting_type': 'dart', 'subsample': 0.9189521662340219}"
      ]
     },
     "execution_count": 47,
     "metadata": {},
     "output_type": "execute_result"
    }
   ],
   "source": [
    "# Retrieve the subsample if present otherwise set to 1.0\n",
    "subsample = params['boosting_type'].get('subsample', 1.0)\n",
    "\n",
    "# Extract the boosting type\n",
    "params['boosting_type'] = params['boosting_type']['boosting_type']\n",
    "params['subsample'] = subsample\n",
    "\n",
    "params"
   ]
  },
  {
   "cell_type": "markdown",
   "metadata": {},
   "source": [
    "Complete Bayesian Domain"
   ]
  },
  {
   "cell_type": "code",
   "execution_count": 48,
   "metadata": {
    "collapsed": false,
    "execution": {
     "iopub.execute_input": "2022-11-16T16:31:42.293395Z",
     "iopub.status.busy": "2022-11-16T16:31:42.293160Z",
     "iopub.status.idle": "2022-11-16T16:31:42.299713Z",
     "shell.execute_reply": "2022-11-16T16:31:42.298779Z",
     "shell.execute_reply.started": "2022-11-16T16:31:42.293373Z"
    },
    "jupyter": {
     "outputs_hidden": false
    }
   },
   "outputs": [],
   "source": [
    "# Define the search space\n",
    "space = {\n",
    "    'class_weight': hp.choice('class_weight', [None, 'balanced']),\n",
    "    'boosting_type': hp.choice('boosting_type', [{'boosting_type': 'gbdt', 'subsample': hp.uniform('gdbt_subsample', 0.5, 1)},\n",
    "                                                 {'boosting_type': 'dart', 'subsample': hp.uniform('dart_subsample', 0.5, 1)},\n",
    "                                                 {'boosting_type': 'goss', 'subsample': 1.0}]),\n",
    "    'num_leaves': hp.quniform('num_leaves', 30, 150, 1),\n",
    "    'learning_rate': hp.loguniform('learning_rate', np.log(0.01), np.log(0.2)),\n",
    "    #'subsample_for_bin': hp.quniform('subsample_for_bin', 20000, 300000, 20000),\n",
    "    'min_child_samples': hp.quniform('min_child_samples', 20, 500, 5),\n",
    "    'reg_alpha': hp.uniform('reg_alpha', 0.0, 1.0),\n",
    "    'reg_lambda': hp.uniform('reg_lambda', 0.0, 1.0),\n",
    "    'colsample_bytree': hp.uniform('colsample_by_tree', 0.6, 1.0)\n",
    "}"
   ]
  },
  {
   "cell_type": "code",
   "execution_count": 49,
   "metadata": {
    "collapsed": false,
    "execution": {
     "iopub.execute_input": "2022-11-16T16:31:42.304388Z",
     "iopub.status.busy": "2022-11-16T16:31:42.303849Z",
     "iopub.status.idle": "2022-11-16T16:31:42.311460Z",
     "shell.execute_reply": "2022-11-16T16:31:42.310633Z",
     "shell.execute_reply.started": "2022-11-16T16:31:42.304363Z"
    },
    "jupyter": {
     "outputs_hidden": false
    }
   },
   "outputs": [
    {
     "data": {
      "text/plain": [
       "{'boosting_type': 'goss',\n",
       " 'class_weight': 'balanced',\n",
       " 'colsample_bytree': 0.6898701546842863,\n",
       " 'learning_rate': 0.06107815296163168,\n",
       " 'min_child_samples': 120.0,\n",
       " 'num_leaves': 132.0,\n",
       " 'reg_alpha': 0.9418220132038692,\n",
       " 'reg_lambda': 0.741895000400597,\n",
       " 'subsample': 1.0}"
      ]
     },
     "execution_count": 49,
     "metadata": {},
     "output_type": "execute_result"
    }
   ],
   "source": [
    "# Sample from the full space\n",
    "x = sample(space)\n",
    "\n",
    "# Conditional logic to assign top-level keys\n",
    "subsample = x['boosting_type'].get('subsample', 1.0)\n",
    "x['boosting_type'] = x['boosting_type']['boosting_type']\n",
    "x['subsample'] = subsample\n",
    "\n",
    "x"
   ]
  },
  {
   "cell_type": "code",
   "execution_count": 50,
   "metadata": {
    "collapsed": false,
    "execution": {
     "iopub.execute_input": "2022-11-16T16:31:42.312543Z",
     "iopub.status.busy": "2022-11-16T16:31:42.312328Z",
     "iopub.status.idle": "2022-11-16T16:31:42.319143Z",
     "shell.execute_reply": "2022-11-16T16:31:42.318346Z",
     "shell.execute_reply.started": "2022-11-16T16:31:42.312524Z"
    },
    "jupyter": {
     "outputs_hidden": false
    }
   },
   "outputs": [
    {
     "data": {
      "text/plain": [
       "{'boosting_type': 'gbdt',\n",
       " 'class_weight': None,\n",
       " 'colsample_bytree': 0.8760439294559312,\n",
       " 'learning_rate': 0.0276625644989246,\n",
       " 'min_child_samples': 455.0,\n",
       " 'num_leaves': 92.0,\n",
       " 'reg_alpha': 0.7993394848659113,\n",
       " 'reg_lambda': 0.34636935581774775,\n",
       " 'subsample': 0.588886121072143}"
      ]
     },
     "execution_count": 50,
     "metadata": {},
     "output_type": "execute_result"
    }
   ],
   "source": [
    "x = sample(space)\n",
    "subsample = x['boosting_type'].get('subsample', 1.0)\n",
    "x['boosting_type'] = x['boosting_type']['boosting_type']\n",
    "x['subsample'] = subsample\n",
    "x"
   ]
  },
  {
   "cell_type": "markdown",
   "metadata": {},
   "source": [
    "Optimisation Algorithm"
   ]
  },
  {
   "cell_type": "code",
   "execution_count": 51,
   "metadata": {
    "collapsed": false,
    "execution": {
     "iopub.execute_input": "2022-11-16T16:31:42.320308Z",
     "iopub.status.busy": "2022-11-16T16:31:42.320102Z",
     "iopub.status.idle": "2022-11-16T16:31:42.323640Z",
     "shell.execute_reply": "2022-11-16T16:31:42.322906Z",
     "shell.execute_reply.started": "2022-11-16T16:31:42.320289Z"
    },
    "jupyter": {
     "outputs_hidden": false
    }
   },
   "outputs": [],
   "source": [
    "from hyperopt import tpe\n",
    "\n",
    "# optimization algorithm\n",
    "tpe_algorithm = tpe.suggest"
   ]
  },
  {
   "cell_type": "markdown",
   "metadata": {},
   "source": [
    "Results History"
   ]
  },
  {
   "cell_type": "code",
   "execution_count": 52,
   "metadata": {
    "collapsed": false,
    "execution": {
     "iopub.execute_input": "2022-11-16T16:31:42.324967Z",
     "iopub.status.busy": "2022-11-16T16:31:42.324718Z",
     "iopub.status.idle": "2022-11-16T16:31:42.328414Z",
     "shell.execute_reply": "2022-11-16T16:31:42.327726Z",
     "shell.execute_reply.started": "2022-11-16T16:31:42.324946Z"
    },
    "jupyter": {
     "outputs_hidden": false
    }
   },
   "outputs": [],
   "source": [
    "from hyperopt import Trials\n",
    "\n",
    "# Keep track of results\n",
    "bayes_trials = Trials()"
   ]
  },
  {
   "cell_type": "code",
   "execution_count": 53,
   "metadata": {
    "collapsed": false,
    "execution": {
     "iopub.execute_input": "2022-11-16T16:31:42.329484Z",
     "iopub.status.busy": "2022-11-16T16:31:42.329282Z",
     "iopub.status.idle": "2022-11-16T16:31:42.878942Z",
     "shell.execute_reply": "2022-11-16T16:31:42.878004Z",
     "shell.execute_reply.started": "2022-11-16T16:31:42.329467Z"
    },
    "jupyter": {
     "outputs_hidden": false
    }
   },
   "outputs": [],
   "source": [
    "# File to save first results\n",
    "out_file = 'results/gbm_trials.csv'\n",
    "of_connection = open(out_file, 'w')\n",
    "writer = csv.writer(of_connection)\n",
    "\n",
    "# Write the headers to the file\n",
    "writer.writerow(['loss', 'params', 'iteration', 'estimators', 'train_time'])\n",
    "of_connection.close()"
   ]
  },
  {
   "cell_type": "markdown",
   "metadata": {},
   "source": [
    "Bayesian Optimization"
   ]
  },
  {
   "cell_type": "code",
   "execution_count": 54,
   "metadata": {
    "collapsed": false,
    "execution": {
     "iopub.execute_input": "2022-11-16T16:31:42.880294Z",
     "iopub.status.busy": "2022-11-16T16:31:42.880051Z",
     "iopub.status.idle": "2022-11-16T16:31:42.884199Z",
     "shell.execute_reply": "2022-11-16T16:31:42.883490Z",
     "shell.execute_reply.started": "2022-11-16T16:31:42.880273Z"
    },
    "jupyter": {
     "outputs_hidden": false
    }
   },
   "outputs": [],
   "source": [
    "from hyperopt import fmin"
   ]
  },
  {
   "cell_type": "code",
   "execution_count": 55,
   "metadata": {
    "execution": {
     "iopub.execute_input": "2022-11-16T16:31:42.885474Z",
     "iopub.status.busy": "2022-11-16T16:31:42.885209Z",
     "iopub.status.idle": "2022-11-16T16:31:42.889941Z",
     "shell.execute_reply": "2022-11-16T16:31:42.889122Z",
     "shell.execute_reply.started": "2022-11-16T16:31:42.885452Z"
    }
   },
   "outputs": [
    {
     "name": "stdout",
     "output_type": "stream",
     "text": [
      "2022-11-16 16:31:42.886577\n"
     ]
    }
   ],
   "source": [
    "from timeit import default_timer as timer\n",
    "from datetime import datetime\n",
    "start = timer()\n",
    "\n",
    "print(datetime.now())"
   ]
  },
  {
   "cell_type": "code",
   "execution_count": 56,
   "metadata": {
    "collapsed": false,
    "execution": {
     "iopub.execute_input": "2022-11-16T16:31:42.891281Z",
     "iopub.status.busy": "2022-11-16T16:31:42.890976Z",
     "iopub.status.idle": "2022-11-16T17:43:52.251605Z",
     "shell.execute_reply": "2022-11-16T17:43:52.250674Z",
     "shell.execute_reply.started": "2022-11-16T16:31:42.891246Z"
    },
    "jupyter": {
     "outputs_hidden": false
    }
   },
   "outputs": [
    {
     "name": "stderr",
     "output_type": "stream",
     "text": [
      "[LightGBM] [Fatal] Reducing `min_data_in_leaf` with `feature_pre_filter=true` may cause unexpected behaviour for features that were pre-filtered by the larger `min_data_in_leaf`.\n",
      "You need to set `feature_pre_filter=false` to dynamically change the `min_data_in_leaf`.\n"
     ]
    },
    {
     "ename": "LightGBMError",
     "evalue": "Reducing `min_data_in_leaf` with `feature_pre_filter=true` may cause unexpected behaviour for features that were pre-filtered by the larger `min_data_in_leaf`.\nYou need to set `feature_pre_filter=false` to dynamically change the `min_data_in_leaf`.",
     "output_type": "error",
     "traceback": [
      "\u001b[0;31m---------------------------------------------------------------------------\u001b[0m",
      "\u001b[0;31mLightGBMError\u001b[0m                             Traceback (most recent call last)",
      "Input \u001b[0;32mIn [56]\u001b[0m, in \u001b[0;36m<cell line: 12>\u001b[0;34m()\u001b[0m\n\u001b[1;32m      6\u001b[0m ITERATION \u001b[38;5;241m=\u001b[39m \u001b[38;5;241m0\u001b[39m\n\u001b[1;32m      8\u001b[0m \u001b[38;5;66;03m# Run optimization\u001b[39;00m\n\u001b[1;32m      9\u001b[0m \u001b[38;5;66;03m#best = fmin(fn = objective, space = space, algo = tpe.suggest,\u001b[39;00m\n\u001b[1;32m     10\u001b[0m \u001b[38;5;66;03m#            max_evals = MAX_EVALS, trials = bayes_trials, rstate = np.random.RandomState(50))\u001b[39;00m\n\u001b[0;32m---> 12\u001b[0m best \u001b[38;5;241m=\u001b[39m \u001b[43mfmin\u001b[49m\u001b[43m(\u001b[49m\u001b[43mfn\u001b[49m\u001b[43m \u001b[49m\u001b[38;5;241;43m=\u001b[39;49m\u001b[43m \u001b[49m\u001b[43mobjective\u001b[49m\u001b[43m,\u001b[49m\u001b[43m \u001b[49m\u001b[43mspace\u001b[49m\u001b[43m \u001b[49m\u001b[38;5;241;43m=\u001b[39;49m\u001b[43m \u001b[49m\u001b[43mspace\u001b[49m\u001b[43m,\u001b[49m\u001b[43m \u001b[49m\u001b[43malgo\u001b[49m\u001b[43m \u001b[49m\u001b[38;5;241;43m=\u001b[39;49m\u001b[43m \u001b[49m\u001b[43mtpe\u001b[49m\u001b[38;5;241;43m.\u001b[39;49m\u001b[43msuggest\u001b[49m\u001b[43m,\u001b[49m\n\u001b[1;32m     13\u001b[0m \u001b[43m            \u001b[49m\u001b[43mmax_evals\u001b[49m\u001b[43m \u001b[49m\u001b[38;5;241;43m=\u001b[39;49m\u001b[43m \u001b[49m\u001b[43mMAX_EVALS\u001b[49m\u001b[43m,\u001b[49m\u001b[43m \u001b[49m\u001b[43mtrials\u001b[49m\u001b[43m \u001b[49m\u001b[38;5;241;43m=\u001b[39;49m\u001b[43m \u001b[49m\u001b[43mbayes_trials\u001b[49m\u001b[43m,\u001b[49m\u001b[43m \u001b[49m\u001b[43mrstate\u001b[49m\u001b[43m \u001b[49m\u001b[38;5;241;43m=\u001b[39;49m\u001b[43m \u001b[49m\u001b[43mnp\u001b[49m\u001b[38;5;241;43m.\u001b[39;49m\u001b[43mrandom\u001b[49m\u001b[38;5;241;43m.\u001b[39;49m\u001b[43mdefault_rng\u001b[49m\u001b[43m(\u001b[49m\u001b[38;5;241;43m50\u001b[39;49m\u001b[43m)\u001b[49m\u001b[43m)\u001b[49m\n",
      "File \u001b[0;32m/usr/local/lib/python3.9/dist-packages/hyperopt/fmin.py:540\u001b[0m, in \u001b[0;36mfmin\u001b[0;34m(fn, space, algo, max_evals, timeout, loss_threshold, trials, rstate, allow_trials_fmin, pass_expr_memo_ctrl, catch_eval_exceptions, verbose, return_argmin, points_to_evaluate, max_queue_len, show_progressbar, early_stop_fn, trials_save_file)\u001b[0m\n\u001b[1;32m    537\u001b[0m     fn \u001b[38;5;241m=\u001b[39m __objective_fmin_wrapper(fn)\n\u001b[1;32m    539\u001b[0m \u001b[38;5;28;01mif\u001b[39;00m allow_trials_fmin \u001b[38;5;129;01mand\u001b[39;00m \u001b[38;5;28mhasattr\u001b[39m(trials, \u001b[38;5;124m\"\u001b[39m\u001b[38;5;124mfmin\u001b[39m\u001b[38;5;124m\"\u001b[39m):\n\u001b[0;32m--> 540\u001b[0m     \u001b[38;5;28;01mreturn\u001b[39;00m \u001b[43mtrials\u001b[49m\u001b[38;5;241;43m.\u001b[39;49m\u001b[43mfmin\u001b[49m\u001b[43m(\u001b[49m\n\u001b[1;32m    541\u001b[0m \u001b[43m        \u001b[49m\u001b[43mfn\u001b[49m\u001b[43m,\u001b[49m\n\u001b[1;32m    542\u001b[0m \u001b[43m        \u001b[49m\u001b[43mspace\u001b[49m\u001b[43m,\u001b[49m\n\u001b[1;32m    543\u001b[0m \u001b[43m        \u001b[49m\u001b[43malgo\u001b[49m\u001b[38;5;241;43m=\u001b[39;49m\u001b[43malgo\u001b[49m\u001b[43m,\u001b[49m\n\u001b[1;32m    544\u001b[0m \u001b[43m        \u001b[49m\u001b[43mmax_evals\u001b[49m\u001b[38;5;241;43m=\u001b[39;49m\u001b[43mmax_evals\u001b[49m\u001b[43m,\u001b[49m\n\u001b[1;32m    545\u001b[0m \u001b[43m        \u001b[49m\u001b[43mtimeout\u001b[49m\u001b[38;5;241;43m=\u001b[39;49m\u001b[43mtimeout\u001b[49m\u001b[43m,\u001b[49m\n\u001b[1;32m    546\u001b[0m \u001b[43m        \u001b[49m\u001b[43mloss_threshold\u001b[49m\u001b[38;5;241;43m=\u001b[39;49m\u001b[43mloss_threshold\u001b[49m\u001b[43m,\u001b[49m\n\u001b[1;32m    547\u001b[0m \u001b[43m        \u001b[49m\u001b[43mmax_queue_len\u001b[49m\u001b[38;5;241;43m=\u001b[39;49m\u001b[43mmax_queue_len\u001b[49m\u001b[43m,\u001b[49m\n\u001b[1;32m    548\u001b[0m \u001b[43m        \u001b[49m\u001b[43mrstate\u001b[49m\u001b[38;5;241;43m=\u001b[39;49m\u001b[43mrstate\u001b[49m\u001b[43m,\u001b[49m\n\u001b[1;32m    549\u001b[0m \u001b[43m        \u001b[49m\u001b[43mpass_expr_memo_ctrl\u001b[49m\u001b[38;5;241;43m=\u001b[39;49m\u001b[43mpass_expr_memo_ctrl\u001b[49m\u001b[43m,\u001b[49m\n\u001b[1;32m    550\u001b[0m \u001b[43m        \u001b[49m\u001b[43mverbose\u001b[49m\u001b[38;5;241;43m=\u001b[39;49m\u001b[43mverbose\u001b[49m\u001b[43m,\u001b[49m\n\u001b[1;32m    551\u001b[0m \u001b[43m        \u001b[49m\u001b[43mcatch_eval_exceptions\u001b[49m\u001b[38;5;241;43m=\u001b[39;49m\u001b[43mcatch_eval_exceptions\u001b[49m\u001b[43m,\u001b[49m\n\u001b[1;32m    552\u001b[0m \u001b[43m        \u001b[49m\u001b[43mreturn_argmin\u001b[49m\u001b[38;5;241;43m=\u001b[39;49m\u001b[43mreturn_argmin\u001b[49m\u001b[43m,\u001b[49m\n\u001b[1;32m    553\u001b[0m \u001b[43m        \u001b[49m\u001b[43mshow_progressbar\u001b[49m\u001b[38;5;241;43m=\u001b[39;49m\u001b[43mshow_progressbar\u001b[49m\u001b[43m,\u001b[49m\n\u001b[1;32m    554\u001b[0m \u001b[43m        \u001b[49m\u001b[43mearly_stop_fn\u001b[49m\u001b[38;5;241;43m=\u001b[39;49m\u001b[43mearly_stop_fn\u001b[49m\u001b[43m,\u001b[49m\n\u001b[1;32m    555\u001b[0m \u001b[43m        \u001b[49m\u001b[43mtrials_save_file\u001b[49m\u001b[38;5;241;43m=\u001b[39;49m\u001b[43mtrials_save_file\u001b[49m\u001b[43m,\u001b[49m\n\u001b[1;32m    556\u001b[0m \u001b[43m    \u001b[49m\u001b[43m)\u001b[49m\n\u001b[1;32m    558\u001b[0m \u001b[38;5;28;01mif\u001b[39;00m trials \u001b[38;5;129;01mis\u001b[39;00m \u001b[38;5;28;01mNone\u001b[39;00m:\n\u001b[1;32m    559\u001b[0m     \u001b[38;5;28;01mif\u001b[39;00m os\u001b[38;5;241m.\u001b[39mpath\u001b[38;5;241m.\u001b[39mexists(trials_save_file):\n",
      "File \u001b[0;32m/usr/local/lib/python3.9/dist-packages/hyperopt/base.py:671\u001b[0m, in \u001b[0;36mTrials.fmin\u001b[0;34m(self, fn, space, algo, max_evals, timeout, loss_threshold, max_queue_len, rstate, verbose, pass_expr_memo_ctrl, catch_eval_exceptions, return_argmin, show_progressbar, early_stop_fn, trials_save_file)\u001b[0m\n\u001b[1;32m    666\u001b[0m \u001b[38;5;66;03m# -- Stop-gap implementation!\u001b[39;00m\n\u001b[1;32m    667\u001b[0m \u001b[38;5;66;03m#    fmin should have been a Trials method in the first place\u001b[39;00m\n\u001b[1;32m    668\u001b[0m \u001b[38;5;66;03m#    but for now it's still sitting in another file.\u001b[39;00m\n\u001b[1;32m    669\u001b[0m \u001b[38;5;28;01mfrom\u001b[39;00m \u001b[38;5;21;01m.\u001b[39;00m\u001b[38;5;21;01mfmin\u001b[39;00m \u001b[38;5;28;01mimport\u001b[39;00m fmin\n\u001b[0;32m--> 671\u001b[0m \u001b[38;5;28;01mreturn\u001b[39;00m \u001b[43mfmin\u001b[49m\u001b[43m(\u001b[49m\n\u001b[1;32m    672\u001b[0m \u001b[43m    \u001b[49m\u001b[43mfn\u001b[49m\u001b[43m,\u001b[49m\n\u001b[1;32m    673\u001b[0m \u001b[43m    \u001b[49m\u001b[43mspace\u001b[49m\u001b[43m,\u001b[49m\n\u001b[1;32m    674\u001b[0m \u001b[43m    \u001b[49m\u001b[43malgo\u001b[49m\u001b[38;5;241;43m=\u001b[39;49m\u001b[43malgo\u001b[49m\u001b[43m,\u001b[49m\n\u001b[1;32m    675\u001b[0m \u001b[43m    \u001b[49m\u001b[43mmax_evals\u001b[49m\u001b[38;5;241;43m=\u001b[39;49m\u001b[43mmax_evals\u001b[49m\u001b[43m,\u001b[49m\n\u001b[1;32m    676\u001b[0m \u001b[43m    \u001b[49m\u001b[43mtimeout\u001b[49m\u001b[38;5;241;43m=\u001b[39;49m\u001b[43mtimeout\u001b[49m\u001b[43m,\u001b[49m\n\u001b[1;32m    677\u001b[0m \u001b[43m    \u001b[49m\u001b[43mloss_threshold\u001b[49m\u001b[38;5;241;43m=\u001b[39;49m\u001b[43mloss_threshold\u001b[49m\u001b[43m,\u001b[49m\n\u001b[1;32m    678\u001b[0m \u001b[43m    \u001b[49m\u001b[43mtrials\u001b[49m\u001b[38;5;241;43m=\u001b[39;49m\u001b[38;5;28;43mself\u001b[39;49m\u001b[43m,\u001b[49m\n\u001b[1;32m    679\u001b[0m \u001b[43m    \u001b[49m\u001b[43mrstate\u001b[49m\u001b[38;5;241;43m=\u001b[39;49m\u001b[43mrstate\u001b[49m\u001b[43m,\u001b[49m\n\u001b[1;32m    680\u001b[0m \u001b[43m    \u001b[49m\u001b[43mverbose\u001b[49m\u001b[38;5;241;43m=\u001b[39;49m\u001b[43mverbose\u001b[49m\u001b[43m,\u001b[49m\n\u001b[1;32m    681\u001b[0m \u001b[43m    \u001b[49m\u001b[43mmax_queue_len\u001b[49m\u001b[38;5;241;43m=\u001b[39;49m\u001b[43mmax_queue_len\u001b[49m\u001b[43m,\u001b[49m\n\u001b[1;32m    682\u001b[0m \u001b[43m    \u001b[49m\u001b[43mallow_trials_fmin\u001b[49m\u001b[38;5;241;43m=\u001b[39;49m\u001b[38;5;28;43;01mFalse\u001b[39;49;00m\u001b[43m,\u001b[49m\u001b[43m  \u001b[49m\u001b[38;5;66;43;03m# -- prevent recursion\u001b[39;49;00m\n\u001b[1;32m    683\u001b[0m \u001b[43m    \u001b[49m\u001b[43mpass_expr_memo_ctrl\u001b[49m\u001b[38;5;241;43m=\u001b[39;49m\u001b[43mpass_expr_memo_ctrl\u001b[49m\u001b[43m,\u001b[49m\n\u001b[1;32m    684\u001b[0m \u001b[43m    \u001b[49m\u001b[43mcatch_eval_exceptions\u001b[49m\u001b[38;5;241;43m=\u001b[39;49m\u001b[43mcatch_eval_exceptions\u001b[49m\u001b[43m,\u001b[49m\n\u001b[1;32m    685\u001b[0m \u001b[43m    \u001b[49m\u001b[43mreturn_argmin\u001b[49m\u001b[38;5;241;43m=\u001b[39;49m\u001b[43mreturn_argmin\u001b[49m\u001b[43m,\u001b[49m\n\u001b[1;32m    686\u001b[0m \u001b[43m    \u001b[49m\u001b[43mshow_progressbar\u001b[49m\u001b[38;5;241;43m=\u001b[39;49m\u001b[43mshow_progressbar\u001b[49m\u001b[43m,\u001b[49m\n\u001b[1;32m    687\u001b[0m \u001b[43m    \u001b[49m\u001b[43mearly_stop_fn\u001b[49m\u001b[38;5;241;43m=\u001b[39;49m\u001b[43mearly_stop_fn\u001b[49m\u001b[43m,\u001b[49m\n\u001b[1;32m    688\u001b[0m \u001b[43m    \u001b[49m\u001b[43mtrials_save_file\u001b[49m\u001b[38;5;241;43m=\u001b[39;49m\u001b[43mtrials_save_file\u001b[49m\u001b[43m,\u001b[49m\n\u001b[1;32m    689\u001b[0m \u001b[43m\u001b[49m\u001b[43m)\u001b[49m\n",
      "File \u001b[0;32m/usr/local/lib/python3.9/dist-packages/hyperopt/fmin.py:586\u001b[0m, in \u001b[0;36mfmin\u001b[0;34m(fn, space, algo, max_evals, timeout, loss_threshold, trials, rstate, allow_trials_fmin, pass_expr_memo_ctrl, catch_eval_exceptions, verbose, return_argmin, points_to_evaluate, max_queue_len, show_progressbar, early_stop_fn, trials_save_file)\u001b[0m\n\u001b[1;32m    583\u001b[0m rval\u001b[38;5;241m.\u001b[39mcatch_eval_exceptions \u001b[38;5;241m=\u001b[39m catch_eval_exceptions\n\u001b[1;32m    585\u001b[0m \u001b[38;5;66;03m# next line is where the fmin is actually executed\u001b[39;00m\n\u001b[0;32m--> 586\u001b[0m \u001b[43mrval\u001b[49m\u001b[38;5;241;43m.\u001b[39;49m\u001b[43mexhaust\u001b[49m\u001b[43m(\u001b[49m\u001b[43m)\u001b[49m\n\u001b[1;32m    588\u001b[0m \u001b[38;5;28;01mif\u001b[39;00m return_argmin:\n\u001b[1;32m    589\u001b[0m     \u001b[38;5;28;01mif\u001b[39;00m \u001b[38;5;28mlen\u001b[39m(trials\u001b[38;5;241m.\u001b[39mtrials) \u001b[38;5;241m==\u001b[39m \u001b[38;5;241m0\u001b[39m:\n",
      "File \u001b[0;32m/usr/local/lib/python3.9/dist-packages/hyperopt/fmin.py:364\u001b[0m, in \u001b[0;36mFMinIter.exhaust\u001b[0;34m(self)\u001b[0m\n\u001b[1;32m    362\u001b[0m \u001b[38;5;28;01mdef\u001b[39;00m \u001b[38;5;21mexhaust\u001b[39m(\u001b[38;5;28mself\u001b[39m):\n\u001b[1;32m    363\u001b[0m     n_done \u001b[38;5;241m=\u001b[39m \u001b[38;5;28mlen\u001b[39m(\u001b[38;5;28mself\u001b[39m\u001b[38;5;241m.\u001b[39mtrials)\n\u001b[0;32m--> 364\u001b[0m     \u001b[38;5;28;43mself\u001b[39;49m\u001b[38;5;241;43m.\u001b[39;49m\u001b[43mrun\u001b[49m\u001b[43m(\u001b[49m\u001b[38;5;28;43mself\u001b[39;49m\u001b[38;5;241;43m.\u001b[39;49m\u001b[43mmax_evals\u001b[49m\u001b[43m \u001b[49m\u001b[38;5;241;43m-\u001b[39;49m\u001b[43m \u001b[49m\u001b[43mn_done\u001b[49m\u001b[43m,\u001b[49m\u001b[43m \u001b[49m\u001b[43mblock_until_done\u001b[49m\u001b[38;5;241;43m=\u001b[39;49m\u001b[38;5;28;43mself\u001b[39;49m\u001b[38;5;241;43m.\u001b[39;49m\u001b[43masynchronous\u001b[49m\u001b[43m)\u001b[49m\n\u001b[1;32m    365\u001b[0m     \u001b[38;5;28mself\u001b[39m\u001b[38;5;241m.\u001b[39mtrials\u001b[38;5;241m.\u001b[39mrefresh()\n\u001b[1;32m    366\u001b[0m     \u001b[38;5;28;01mreturn\u001b[39;00m \u001b[38;5;28mself\u001b[39m\n",
      "File \u001b[0;32m/usr/local/lib/python3.9/dist-packages/hyperopt/fmin.py:300\u001b[0m, in \u001b[0;36mFMinIter.run\u001b[0;34m(self, N, block_until_done)\u001b[0m\n\u001b[1;32m    297\u001b[0m     time\u001b[38;5;241m.\u001b[39msleep(\u001b[38;5;28mself\u001b[39m\u001b[38;5;241m.\u001b[39mpoll_interval_secs)\n\u001b[1;32m    298\u001b[0m \u001b[38;5;28;01melse\u001b[39;00m:\n\u001b[1;32m    299\u001b[0m     \u001b[38;5;66;03m# -- loop over trials and do the jobs directly\u001b[39;00m\n\u001b[0;32m--> 300\u001b[0m     \u001b[38;5;28;43mself\u001b[39;49m\u001b[38;5;241;43m.\u001b[39;49m\u001b[43mserial_evaluate\u001b[49m\u001b[43m(\u001b[49m\u001b[43m)\u001b[49m\n\u001b[1;32m    302\u001b[0m \u001b[38;5;28mself\u001b[39m\u001b[38;5;241m.\u001b[39mtrials\u001b[38;5;241m.\u001b[39mrefresh()\n\u001b[1;32m    303\u001b[0m \u001b[38;5;28;01mif\u001b[39;00m \u001b[38;5;28mself\u001b[39m\u001b[38;5;241m.\u001b[39mtrials_save_file \u001b[38;5;241m!=\u001b[39m \u001b[38;5;124m\"\u001b[39m\u001b[38;5;124m\"\u001b[39m:\n",
      "File \u001b[0;32m/usr/local/lib/python3.9/dist-packages/hyperopt/fmin.py:178\u001b[0m, in \u001b[0;36mFMinIter.serial_evaluate\u001b[0;34m(self, N)\u001b[0m\n\u001b[1;32m    176\u001b[0m ctrl \u001b[38;5;241m=\u001b[39m base\u001b[38;5;241m.\u001b[39mCtrl(\u001b[38;5;28mself\u001b[39m\u001b[38;5;241m.\u001b[39mtrials, current_trial\u001b[38;5;241m=\u001b[39mtrial)\n\u001b[1;32m    177\u001b[0m \u001b[38;5;28;01mtry\u001b[39;00m:\n\u001b[0;32m--> 178\u001b[0m     result \u001b[38;5;241m=\u001b[39m \u001b[38;5;28;43mself\u001b[39;49m\u001b[38;5;241;43m.\u001b[39;49m\u001b[43mdomain\u001b[49m\u001b[38;5;241;43m.\u001b[39;49m\u001b[43mevaluate\u001b[49m\u001b[43m(\u001b[49m\u001b[43mspec\u001b[49m\u001b[43m,\u001b[49m\u001b[43m \u001b[49m\u001b[43mctrl\u001b[49m\u001b[43m)\u001b[49m\n\u001b[1;32m    179\u001b[0m \u001b[38;5;28;01mexcept\u001b[39;00m \u001b[38;5;167;01mException\u001b[39;00m \u001b[38;5;28;01mas\u001b[39;00m e:\n\u001b[1;32m    180\u001b[0m     logger\u001b[38;5;241m.\u001b[39merror(\u001b[38;5;124m\"\u001b[39m\u001b[38;5;124mjob exception: \u001b[39m\u001b[38;5;132;01m%s\u001b[39;00m\u001b[38;5;124m\"\u001b[39m \u001b[38;5;241m%\u001b[39m \u001b[38;5;28mstr\u001b[39m(e))\n",
      "File \u001b[0;32m/usr/local/lib/python3.9/dist-packages/hyperopt/base.py:892\u001b[0m, in \u001b[0;36mDomain.evaluate\u001b[0;34m(self, config, ctrl, attach_attachments)\u001b[0m\n\u001b[1;32m    883\u001b[0m \u001b[38;5;28;01melse\u001b[39;00m:\n\u001b[1;32m    884\u001b[0m     \u001b[38;5;66;03m# -- the \"work\" of evaluating `config` can be written\u001b[39;00m\n\u001b[1;32m    885\u001b[0m     \u001b[38;5;66;03m#    either into the pyll part (self.expr)\u001b[39;00m\n\u001b[1;32m    886\u001b[0m     \u001b[38;5;66;03m#    or the normal Python part (self.fn)\u001b[39;00m\n\u001b[1;32m    887\u001b[0m     pyll_rval \u001b[38;5;241m=\u001b[39m pyll\u001b[38;5;241m.\u001b[39mrec_eval(\n\u001b[1;32m    888\u001b[0m         \u001b[38;5;28mself\u001b[39m\u001b[38;5;241m.\u001b[39mexpr,\n\u001b[1;32m    889\u001b[0m         memo\u001b[38;5;241m=\u001b[39mmemo,\n\u001b[1;32m    890\u001b[0m         print_node_on_error\u001b[38;5;241m=\u001b[39m\u001b[38;5;28mself\u001b[39m\u001b[38;5;241m.\u001b[39mrec_eval_print_node_on_error,\n\u001b[1;32m    891\u001b[0m     )\n\u001b[0;32m--> 892\u001b[0m     rval \u001b[38;5;241m=\u001b[39m \u001b[38;5;28;43mself\u001b[39;49m\u001b[38;5;241;43m.\u001b[39;49m\u001b[43mfn\u001b[49m\u001b[43m(\u001b[49m\u001b[43mpyll_rval\u001b[49m\u001b[43m)\u001b[49m\n\u001b[1;32m    894\u001b[0m \u001b[38;5;28;01mif\u001b[39;00m \u001b[38;5;28misinstance\u001b[39m(rval, (\u001b[38;5;28mfloat\u001b[39m, \u001b[38;5;28mint\u001b[39m, np\u001b[38;5;241m.\u001b[39mnumber)):\n\u001b[1;32m    895\u001b[0m     dict_rval \u001b[38;5;241m=\u001b[39m {\u001b[38;5;124m\"\u001b[39m\u001b[38;5;124mloss\u001b[39m\u001b[38;5;124m\"\u001b[39m: \u001b[38;5;28mfloat\u001b[39m(rval), \u001b[38;5;124m\"\u001b[39m\u001b[38;5;124mstatus\u001b[39m\u001b[38;5;124m\"\u001b[39m: STATUS_OK}\n",
      "Input \u001b[0;32mIn [44]\u001b[0m, in \u001b[0;36mobjective\u001b[0;34m(params, n_folds)\u001b[0m\n\u001b[1;32m     25\u001b[0m start \u001b[38;5;241m=\u001b[39m timer()\n\u001b[1;32m     27\u001b[0m \u001b[38;5;66;03m# Perform n_folds cross validation\u001b[39;00m\n\u001b[0;32m---> 28\u001b[0m cv_results \u001b[38;5;241m=\u001b[39m \u001b[43mlgb\u001b[49m\u001b[38;5;241;43m.\u001b[39;49m\u001b[43mcv\u001b[49m\u001b[43m(\u001b[49m\u001b[43mparams\u001b[49m\u001b[43m,\u001b[49m\u001b[43m \u001b[49m\u001b[43mtrain_set\u001b[49m\u001b[43m,\u001b[49m\u001b[43m \u001b[49m\u001b[43mnum_boost_round\u001b[49m\u001b[43m \u001b[49m\u001b[38;5;241;43m=\u001b[39;49m\u001b[43m \u001b[49m\u001b[38;5;241;43m10000\u001b[39;49m\u001b[43m,\u001b[49m\u001b[43m \u001b[49m\u001b[43mnfold\u001b[49m\u001b[43m \u001b[49m\u001b[38;5;241;43m=\u001b[39;49m\u001b[43m \u001b[49m\u001b[43mn_folds\u001b[49m\u001b[43m,\u001b[49m\n\u001b[1;32m     29\u001b[0m \u001b[43m                    \u001b[49m\u001b[43mearly_stopping_rounds\u001b[49m\u001b[43m \u001b[49m\u001b[38;5;241;43m=\u001b[39;49m\u001b[43m \u001b[49m\u001b[38;5;241;43m100\u001b[39;49m\u001b[43m,\u001b[49m\u001b[43m \u001b[49m\u001b[43mmetrics\u001b[49m\u001b[43m \u001b[49m\u001b[38;5;241;43m=\u001b[39;49m\u001b[43m \u001b[49m\u001b[38;5;124;43m'\u001b[39;49m\u001b[38;5;124;43mauc\u001b[39;49m\u001b[38;5;124;43m'\u001b[39;49m\u001b[43m,\u001b[49m\u001b[43m \u001b[49m\u001b[43mseed\u001b[49m\u001b[43m \u001b[49m\u001b[38;5;241;43m=\u001b[39;49m\u001b[43m \u001b[49m\u001b[38;5;241;43m50\u001b[39;49m\u001b[43m)\u001b[49m\n\u001b[1;32m     31\u001b[0m run_time \u001b[38;5;241m=\u001b[39m timer() \u001b[38;5;241m-\u001b[39m start\n\u001b[1;32m     33\u001b[0m \u001b[38;5;66;03m# Extract the best score\u001b[39;00m\n",
      "File \u001b[0;32m/usr/local/lib/python3.9/dist-packages/lightgbm/engine.py:599\u001b[0m, in \u001b[0;36mcv\u001b[0;34m(params, train_set, num_boost_round, folds, nfold, stratified, shuffle, metrics, fobj, feval, init_model, feature_name, categorical_feature, early_stopping_rounds, fpreproc, verbose_eval, show_stdv, seed, callbacks, eval_train_metric, return_cvbooster)\u001b[0m\n\u001b[1;32m    596\u001b[0m         params\u001b[38;5;241m.\u001b[39mpop(metric_alias, \u001b[38;5;28;01mNone\u001b[39;00m)\n\u001b[1;32m    597\u001b[0m     params[\u001b[38;5;124m'\u001b[39m\u001b[38;5;124mmetric\u001b[39m\u001b[38;5;124m'\u001b[39m] \u001b[38;5;241m=\u001b[39m metrics\n\u001b[0;32m--> 599\u001b[0m \u001b[43mtrain_set\u001b[49m\u001b[38;5;241;43m.\u001b[39;49m\u001b[43m_update_params\u001b[49m\u001b[43m(\u001b[49m\u001b[43mparams\u001b[49m\u001b[43m)\u001b[49m \\\n\u001b[1;32m    600\u001b[0m          \u001b[38;5;241m.\u001b[39m_set_predictor(predictor) \\\n\u001b[1;32m    601\u001b[0m          \u001b[38;5;241m.\u001b[39mset_feature_name(feature_name) \\\n\u001b[1;32m    602\u001b[0m          \u001b[38;5;241m.\u001b[39mset_categorical_feature(categorical_feature)\n\u001b[1;32m    604\u001b[0m results \u001b[38;5;241m=\u001b[39m collections\u001b[38;5;241m.\u001b[39mdefaultdict(\u001b[38;5;28mlist\u001b[39m)\n\u001b[1;32m    605\u001b[0m cvfolds \u001b[38;5;241m=\u001b[39m _make_n_folds(train_set, folds\u001b[38;5;241m=\u001b[39mfolds, nfold\u001b[38;5;241m=\u001b[39mnfold,\n\u001b[1;32m    606\u001b[0m                         params\u001b[38;5;241m=\u001b[39mparams, seed\u001b[38;5;241m=\u001b[39mseed, fpreproc\u001b[38;5;241m=\u001b[39mfpreproc,\n\u001b[1;32m    607\u001b[0m                         stratified\u001b[38;5;241m=\u001b[39mstratified, shuffle\u001b[38;5;241m=\u001b[39mshuffle,\n\u001b[1;32m    608\u001b[0m                         eval_train_metric\u001b[38;5;241m=\u001b[39meval_train_metric)\n",
      "File \u001b[0;32m/usr/local/lib/python3.9/dist-packages/lightgbm/basic.py:1934\u001b[0m, in \u001b[0;36mDataset._update_params\u001b[0;34m(self, params)\u001b[0m\n\u001b[1;32m   1932\u001b[0m             \u001b[38;5;28mself\u001b[39m\u001b[38;5;241m.\u001b[39m_free_handle()\n\u001b[1;32m   1933\u001b[0m         \u001b[38;5;28;01melse\u001b[39;00m:\n\u001b[0;32m-> 1934\u001b[0m             \u001b[38;5;28;01mraise\u001b[39;00m LightGBMError(_LIB\u001b[38;5;241m.\u001b[39mLGBM_GetLastError()\u001b[38;5;241m.\u001b[39mdecode(\u001b[38;5;124m'\u001b[39m\u001b[38;5;124mutf-8\u001b[39m\u001b[38;5;124m'\u001b[39m))\n\u001b[1;32m   1935\u001b[0m \u001b[38;5;28;01mreturn\u001b[39;00m \u001b[38;5;28mself\u001b[39m\n",
      "\u001b[0;31mLightGBMError\u001b[0m: Reducing `min_data_in_leaf` with `feature_pre_filter=true` may cause unexpected behaviour for features that were pre-filtered by the larger `min_data_in_leaf`.\nYou need to set `feature_pre_filter=false` to dynamically change the `min_data_in_leaf`."
     ]
    }
   ],
   "source": [
    "%%capture\n",
    "\n",
    "train_set = lgb.Dataset(X_train, y_train)\n",
    "#train_set, test_se\n",
    "# Global variable\n",
    "global  ITERATION\n",
    "\n",
    "ITERATION = 0\n",
    "\n",
    "# Run optimization\n",
    "#best = fmin(fn = objective, space = space, algo = tpe.suggest,\n",
    "#            max_evals = MAX_EVALS, trials = bayes_trials, rstate = np.random.RandomState(50))\n",
    "\n",
    "best = fmin(fn = objective, space = space, algo = tpe.suggest,\n",
    "            max_evals = MAX_EVALS, trials = bayes_trials, rstate = np.random.default_rng(50))\n",
    "\n",
    "\n",
    "#fmin(f_lgbm, lgbm_param, algo=tpe.suggest, max_evals=MAX_EVAL, trials=trials, rstate=np.random.RandomState(SEED))\n",
    "#fmin(f_lgbm, lgbm_param, algo=tpe.suggest, max_evals=MAX_EVAL, trials=trials, rstate=np.random.default_rng(SEED))\n",
    "                                                                                    #-----------^^^^^^^^^^^--------"
   ]
  },
  {
   "cell_type": "code",
   "execution_count": 57,
   "metadata": {
    "collapsed": false,
    "execution": {
     "iopub.execute_input": "2022-11-16T17:43:52.253077Z",
     "iopub.status.busy": "2022-11-16T17:43:52.252840Z",
     "iopub.status.idle": "2022-11-16T17:43:52.258433Z",
     "shell.execute_reply": "2022-11-16T17:43:52.257736Z",
     "shell.execute_reply.started": "2022-11-16T17:43:52.253057Z"
    },
    "jupyter": {
     "outputs_hidden": false
    }
   },
   "outputs": [
    {
     "data": {
      "text/plain": [
       "[{'loss': 0.0,\n",
       "  'params': {'boosting_type': 'goss',\n",
       "   'class_weight': None,\n",
       "   'colsample_bytree': 0.9538730639340216,\n",
       "   'learning_rate': 0.14771222373334933,\n",
       "   'min_child_samples': 265,\n",
       "   'num_leaves': 69,\n",
       "   'reg_alpha': 0.622270595150734,\n",
       "   'reg_lambda': 0.5458137723678362,\n",
       "   'subsample': 1.0},\n",
       "  'iteration': 1,\n",
       "  'estimators': 1,\n",
       "  'train_time': 3.9352233256213367,\n",
       "  'status': 'ok'},\n",
       " {'loss': 0.0,\n",
       "  'params': {'boosting_type': 'dart',\n",
       "   'class_weight': None,\n",
       "   'colsample_bytree': 0.6365089169952516,\n",
       "   'learning_rate': 0.05511675247792646,\n",
       "   'min_child_samples': 420,\n",
       "   'num_leaves': 79,\n",
       "   'reg_alpha': 0.26691964907090837,\n",
       "   'reg_lambda': 0.728180270593032,\n",
       "   'subsample': 0.6200081525576333},\n",
       "  'iteration': 2,\n",
       "  'estimators': 1,\n",
       "  'train_time': 4324.133625893854,\n",
       "  'status': 'ok'}]"
      ]
     },
     "execution_count": 57,
     "metadata": {},
     "output_type": "execute_result"
    }
   ],
   "source": [
    "# Sort the trials with lowest loss (highest AUC) first\n",
    "bayes_trials_results = sorted(bayes_trials.results, key = lambda x: x['loss'])\n",
    "bayes_trials_results[:2]"
   ]
  },
  {
   "cell_type": "code",
   "execution_count": 58,
   "metadata": {
    "execution": {
     "iopub.execute_input": "2022-11-16T17:43:52.259787Z",
     "iopub.status.busy": "2022-11-16T17:43:52.259567Z",
     "iopub.status.idle": "2022-11-16T17:43:52.264202Z",
     "shell.execute_reply": "2022-11-16T17:43:52.263466Z",
     "shell.execute_reply.started": "2022-11-16T17:43:52.259768Z"
    }
   },
   "outputs": [
    {
     "name": "stdout",
     "output_type": "stream",
     "text": [
      "4329.3744066120125\n",
      "2022-11-16 17:43:52.261067\n"
     ]
    }
   ],
   "source": [
    "run_time = timer() -start\n",
    "print(run_time)\n",
    "print(datetime.now())"
   ]
  },
  {
   "cell_type": "code",
   "execution_count": 59,
   "metadata": {
    "collapsed": false,
    "execution": {
     "iopub.execute_input": "2022-11-16T17:43:52.265550Z",
     "iopub.status.busy": "2022-11-16T17:43:52.265332Z",
     "iopub.status.idle": "2022-11-16T17:43:52.278052Z",
     "shell.execute_reply": "2022-11-16T17:43:52.277246Z",
     "shell.execute_reply.started": "2022-11-16T17:43:52.265530Z"
    },
    "jupyter": {
     "outputs_hidden": false
    }
   },
   "outputs": [
    {
     "data": {
      "text/html": [
       "<div>\n",
       "<style scoped>\n",
       "    .dataframe tbody tr th:only-of-type {\n",
       "        vertical-align: middle;\n",
       "    }\n",
       "\n",
       "    .dataframe tbody tr th {\n",
       "        vertical-align: top;\n",
       "    }\n",
       "\n",
       "    .dataframe thead th {\n",
       "        text-align: right;\n",
       "    }\n",
       "</style>\n",
       "<table border=\"1\" class=\"dataframe\">\n",
       "  <thead>\n",
       "    <tr style=\"text-align: right;\">\n",
       "      <th></th>\n",
       "      <th>loss</th>\n",
       "      <th>params</th>\n",
       "      <th>iteration</th>\n",
       "      <th>estimators</th>\n",
       "      <th>train_time</th>\n",
       "    </tr>\n",
       "  </thead>\n",
       "  <tbody>\n",
       "    <tr>\n",
       "      <th>0</th>\n",
       "      <td>0.0</td>\n",
       "      <td>{'boosting_type': 'goss', 'class_weight': None...</td>\n",
       "      <td>1</td>\n",
       "      <td>1</td>\n",
       "      <td>3.935223</td>\n",
       "    </tr>\n",
       "    <tr>\n",
       "      <th>1</th>\n",
       "      <td>0.0</td>\n",
       "      <td>{'boosting_type': 'dart', 'class_weight': None...</td>\n",
       "      <td>2</td>\n",
       "      <td>1</td>\n",
       "      <td>4324.133626</td>\n",
       "    </tr>\n",
       "  </tbody>\n",
       "</table>\n",
       "</div>"
      ],
      "text/plain": [
       "   loss                                             params  iteration  \\\n",
       "0   0.0  {'boosting_type': 'goss', 'class_weight': None...          1   \n",
       "1   0.0  {'boosting_type': 'dart', 'class_weight': None...          2   \n",
       "\n",
       "   estimators   train_time  \n",
       "0           1     3.935223  \n",
       "1           1  4324.133626  "
      ]
     },
     "execution_count": 59,
     "metadata": {},
     "output_type": "execute_result"
    }
   ],
   "source": [
    "results = pd.read_csv('results/gbm_trials.csv')\n",
    "\n",
    "# Sort with best scores on top and reset index for slicing\n",
    "results.sort_values('loss', ascending = True, inplace = True)\n",
    "results.reset_index(inplace = True, drop = True)\n",
    "results.head()"
   ]
  },
  {
   "cell_type": "code",
   "execution_count": 60,
   "metadata": {
    "collapsed": false,
    "execution": {
     "iopub.execute_input": "2022-11-16T17:43:52.279465Z",
     "iopub.status.busy": "2022-11-16T17:43:52.279225Z",
     "iopub.status.idle": "2022-11-16T17:43:52.285049Z",
     "shell.execute_reply": "2022-11-16T17:43:52.284307Z",
     "shell.execute_reply.started": "2022-11-16T17:43:52.279444Z"
    },
    "jupyter": {
     "outputs_hidden": false
    }
   },
   "outputs": [
    {
     "data": {
      "text/plain": [
       "{'boosting_type': 'goss',\n",
       " 'class_weight': None,\n",
       " 'colsample_bytree': 0.9538730639340216,\n",
       " 'learning_rate': 0.14771222373334933,\n",
       " 'min_child_samples': 265,\n",
       " 'num_leaves': 69,\n",
       " 'reg_alpha': 0.622270595150734,\n",
       " 'reg_lambda': 0.5458137723678362,\n",
       " 'subsample': 1.0}"
      ]
     },
     "execution_count": 60,
     "metadata": {},
     "output_type": "execute_result"
    }
   ],
   "source": [
    "import ast\n",
    "\n",
    "# Convert from a string to a dictionary\n",
    "ast.literal_eval(results.loc[0, 'params'])"
   ]
  },
  {
   "cell_type": "code",
   "execution_count": 61,
   "metadata": {
    "collapsed": false,
    "execution": {
     "iopub.execute_input": "2022-11-16T17:43:52.286409Z",
     "iopub.status.busy": "2022-11-16T17:43:52.286195Z",
     "iopub.status.idle": "2022-11-16T17:43:52.302944Z",
     "shell.execute_reply": "2022-11-16T17:43:52.300957Z",
     "shell.execute_reply.started": "2022-11-16T17:43:52.286390Z"
    },
    "jupyter": {
     "outputs_hidden": false
    }
   },
   "outputs": [
    {
     "ename": "NameError",
     "evalue": "name 'labels' is not defined",
     "output_type": "error",
     "traceback": [
      "\u001b[0;31m---------------------------------------------------------------------------\u001b[0m",
      "\u001b[0;31mNameError\u001b[0m                                 Traceback (most recent call last)",
      "Input \u001b[0;32mIn [61]\u001b[0m, in \u001b[0;36m<cell line: 10>\u001b[0;34m()\u001b[0m\n\u001b[1;32m      7\u001b[0m \u001b[38;5;66;03m# Re-create the best model and train on the training data\u001b[39;00m\n\u001b[1;32m      8\u001b[0m best_bayes_model \u001b[38;5;241m=\u001b[39m lgb\u001b[38;5;241m.\u001b[39mLGBMClassifier(n_estimators\u001b[38;5;241m=\u001b[39mbest_bayes_estimators, n_jobs \u001b[38;5;241m=\u001b[39m \u001b[38;5;241m-\u001b[39m\u001b[38;5;241m1\u001b[39m,\n\u001b[1;32m      9\u001b[0m                                        objective \u001b[38;5;241m=\u001b[39m \u001b[38;5;124m'\u001b[39m\u001b[38;5;124mbinary\u001b[39m\u001b[38;5;124m'\u001b[39m, random_state \u001b[38;5;241m=\u001b[39m \u001b[38;5;241m50\u001b[39m, \u001b[38;5;241m*\u001b[39m\u001b[38;5;241m*\u001b[39mbest_bayes_params)\n\u001b[0;32m---> 10\u001b[0m best_bayes_model\u001b[38;5;241m.\u001b[39mfit(features, \u001b[43mlabels\u001b[49m)\n",
      "\u001b[0;31mNameError\u001b[0m: name 'labels' is not defined"
     ]
    }
   ],
   "source": [
    "features = X_train\n",
    "\n",
    "# Extract the ideal number of estimators and hyperparameters\n",
    "best_bayes_estimators = int(results.loc[0, 'estimators'])\n",
    "best_bayes_params = ast.literal_eval(results.loc[0, 'params']).copy()\n",
    "\n",
    "# Re-create the best model and train on the training data\n",
    "best_bayes_model = lgb.LGBMClassifier(n_estimators=best_bayes_estimators, n_jobs = -1,\n",
    "                                       objective = 'binary', random_state = 50, **best_bayes_params)\n",
    "best_bayes_model.fit(features, labels)"
   ]
  },
  {
   "cell_type": "code",
   "execution_count": null,
   "metadata": {
    "collapsed": false,
    "execution": {
     "iopub.status.busy": "2022-11-16T17:43:52.303949Z",
     "iopub.status.idle": "2022-11-16T17:43:52.304236Z",
     "shell.execute_reply": "2022-11-16T17:43:52.304111Z",
     "shell.execute_reply.started": "2022-11-16T17:43:52.304098Z"
    },
    "jupyter": {
     "outputs_hidden": false
    }
   },
   "outputs": [],
   "source": [
    "# Evaluate on the testing data\n",
    "preds = best_bayes_model.predict_proba(test_features)[:, 1]\n",
    "print('The best model from Bayes optimization scores {:.5f} AUC ROC on the test set.'.format(roc_auc_score(test_labels, preds)))\n",
    "print('This was achieved after {} search iterations'.format(results.loc[0, 'iteration']))"
   ]
  },
  {
   "cell_type": "code",
   "execution_count": null,
   "metadata": {
    "collapsed": false,
    "execution": {
     "iopub.status.busy": "2022-11-16T17:43:52.305233Z",
     "iopub.status.idle": "2022-11-16T17:43:52.305509Z",
     "shell.execute_reply": "2022-11-16T17:43:52.305388Z",
     "shell.execute_reply.started": "2022-11-16T17:43:52.305375Z"
    },
    "jupyter": {
     "outputs_hidden": false
    }
   },
   "outputs": [],
   "source": [
    "best_random_params['method'] = 'random search'\n",
    "best_bayes_params['method'] = 'Bayesian optimization'\n",
    "best_params = pd.DataFrame(best_bayes_params, index = [0]).append(pd.DataFrame(best_random_params, index = [0]),\n",
    "                                                                  ignore_index = True, sort = True)\n",
    "best_params"
   ]
  },
  {
   "cell_type": "markdown",
   "metadata": {},
   "source": [
    ">>>>>>>>>>>>>>>>>>>>>>>>>>>>>>>>>>>>>>>>>>>>.."
   ]
  },
  {
   "cell_type": "code",
   "execution_count": null,
   "metadata": {
    "collapsed": false,
    "execution": {
     "iopub.status.busy": "2022-11-16T17:43:52.306532Z",
     "iopub.status.idle": "2022-11-16T17:43:52.306821Z",
     "shell.execute_reply": "2022-11-16T17:43:52.306694Z",
     "shell.execute_reply.started": "2022-11-16T17:43:52.306677Z"
    },
    "jupyter": {
     "outputs_hidden": false
    }
   },
   "outputs": [],
   "source": [
    "\n",
    "\n",
    "import random\n",
    "\n",
    "lgb.LGBMClassifier()\n",
    "\n",
    "# Hyperparameter grid\n",
    "param_grid = {\n",
    "    'class_weight': [None, 'balanced'],\n",
    "    'boosting_type': ['gbdt', 'goss', 'dart'],\n",
    "    'num_leaves': list(range(30, 150)),\n",
    "    'learning_rate': list(np.logspace(np.log(0.005), np.log(0.2), base = np.exp(1), num = 1000)),\n",
    "    #'subsample_for_bin': list(range(20000, 300000, 20000)),\n",
    "    'min_child_samples': list(range(20, 500, 5)),\n",
    "    'reg_alpha': list(np.linspace(0, 1)),\n",
    "    'reg_lambda': list(np.linspace(0, 1)),\n",
    "    'colsample_bytree': list(np.linspace(0.6, 1, 10))\n",
    "}\n",
    "\n",
    "# Subsampling (only applicable with 'goss')\n",
    "subsample_dist = list(np.linspace(0.5, 1, 100))\n",
    "\n",
    "plt.hist(param_grid['learning_rate'], color = 'r', edgecolor = 'k');\n",
    "plt.xlabel('Learning Rate', size = 14); plt.ylabel('Count', size = 14); plt.title('Learning Rate Distribution', size = 18);"
   ]
  },
  {
   "cell_type": "markdown",
   "metadata": {},
   "source": [
    "==============================================="
   ]
  },
  {
   "cell_type": "code",
   "execution_count": null,
   "metadata": {
    "execution": {
     "iopub.status.busy": "2022-11-16T17:43:52.307616Z",
     "iopub.status.idle": "2022-11-16T17:43:52.307880Z",
     "shell.execute_reply": "2022-11-16T17:43:52.307768Z",
     "shell.execute_reply.started": "2022-11-16T17:43:52.307755Z"
    }
   },
   "outputs": [],
   "source": [
    "options_block = get_hyperparameters(ALGORITHM, use_gpu, prefix='../../../')\n",
    "\n",
    "if 'explore param' in DATA_DETAIL:\n",
    "\n",
    "\n",
    "    def automl_step(param_options, vary):\n",
    "        for key, value in param_options.items():\n",
    "            #print(key, value, vary)\n",
    "            if key != vary and key != 'model__' + vary:\n",
    "                param_options[key] = [param_options[key][0]]\n",
    "        return param_options\n",
    "\n",
    "\n",
    "        #options_block = automl_step(options_block, \"model__epochs\")\n",
    "\n",
    "\n",
    "explore_param = \"alpha\"\n",
    "options_block = automl_step(options_block, explore_param)\n",
    "\n",
    "if 'forest' in ALGORITHM.lower():\n",
    "    OVERRIDE_N_ITER = 5\n",
    "    if use_gpu:\n",
    "        OVERRIDE_JOBS = 8\n",
    "\n",
    "param_options, cv, n_jobs, refit, n_iter, verbose = get_cv_params(options_block, debug_mode=debug_mode,\n",
    "                                                                  override_cv=OVERRIDE_CV,\n",
    "                                                                  override_niter=OVERRIDE_N_ITER,\n",
    "                                                                  override_njobs=OVERRIDE_JOBS)\n",
    "\n",
    "if 'forest' in ALGORITHM.lower():\n",
    "    verbose = 2\n",
    "\n",
    "print(\"cv:\", cv, \"n_jobs:\", n_jobs, \"refit:\", refit, \"n_iter:\", n_iter, \"verbose:\", verbose)\n",
    "\n",
    "if not_catboost and len(param_options.keys()) > 2 and not already_timed:\n",
    "    already_timed = True\n",
    "    % timeit starter_pipe.fit(X_train, y_train)\n",
    "\n",
    "print('\\n\\nHyperparameters:')\n",
    "param_options if not_catboost else options_block"
   ]
  },
  {
   "cell_type": "code",
   "execution_count": null,
   "metadata": {
    "execution": {
     "iopub.status.busy": "2022-11-16T17:43:52.308886Z",
     "iopub.status.idle": "2022-11-16T17:43:52.309157Z",
     "shell.execute_reply": "2022-11-16T17:43:52.309043Z",
     "shell.execute_reply.started": "2022-11-16T17:43:52.309030Z"
    }
   },
   "outputs": [],
   "source": [
    "from catboost import CatBoostRegressor, Pool\n",
    "\n",
    "\n",
    "def fit_model_with_cross_validation(gs, X_train, y_train, fits):\n",
    "    pipe_start = time()\n",
    "    cv_result = gs.fit(X_train, y_train)\n",
    "    gs.fit(X_train, y_train)\n",
    "    pipe_end = time()\n",
    "    average_time = round((pipe_end - pipe_start) / (fits), 2)\n",
    "\n",
    "    print(f\"Total fit/CV time      : {int(pipe_end - pipe_start)} seconds   ({pipe_start} ==> {pipe_end})\")\n",
    "    print()\n",
    "    print(\n",
    "        f'average fit/score time = {round(cv_result.cv_results_[\"mean_fit_time\"].mean(), 2)}s/{round(cv_result.cv_results_[\"mean_score_time\"].mean(), 2)}s')\n",
    "    print(\n",
    "        f'max fit/score time     = {round(cv_result.cv_results_[\"mean_fit_time\"].max(), 2)}s/{round(cv_result.cv_results_[\"mean_score_time\"].max(), 2)}s')\n",
    "    print(f'refit time             = {round(cv_result.refit_time_, 2)}s')\n",
    "\n",
    "    #return cv_result, average_time, cv_result.refit_time_, len(cv_result.cv_results_[\"mean_fit_time\"])\n",
    "    return average_time, cv_result.refit_time_, len(cv_result.cv_results_[\"mean_fit_time\"])\n",
    "\n",
    "\n",
    "if not_catboost:\n",
    "    if ALGORITHM_DETAIL == 'grid search':\n",
    "        crossval_runner = GridSearchCV(\n",
    "            estimator=starter_pipe,\n",
    "            param_grid=param_options,\n",
    "            cv=cv, n_jobs=n_jobs,  # get the AVX/AVX2 info if use n_jobs > 2\n",
    "            verbose=verbose, scoring=CROSS_VALIDATION_SCORING,\n",
    "            refit=refit,\n",
    "            return_train_score=True,  #n_iter=n_iter,\n",
    "            #error_score='raise'\n",
    "        )\n",
    "    else:\n",
    "        crossval_runner = RandomizedSearchCV(\n",
    "            estimator=starter_pipe,\n",
    "            param_distributions=param_options,\n",
    "            cv=cv, n_jobs=n_jobs,  # get the AVX/AVX2 info if use n_jobs > 2\n",
    "            verbose=verbose, scoring=CROSS_VALIDATION_SCORING,\n",
    "            refit=refit,\n",
    "            return_train_score=True,  #n_iter=n_iter,\n",
    "            n_iter=n_iter,  # 1, #3\n",
    "            #error_score='raise'\n",
    "        )\n",
    "    cv_average_fit_time, cv_best_model_fit_time, total_fits = fit_model_with_cross_validation(\n",
    "        crossval_runner, X_train, y_train, fits=cv * n_iter)\n",
    "\n",
    "else:\n",
    "\n",
    "    #pool = Pool(df, cat_features=['tenure.tenureType'], label=df['Price'].values)\n",
    "    pool_Xtrain = Pool(X_train, cat_features=[7], label=y_train)\n",
    "    #pool_Xtest = Pool(X_train, cat_features=[7], label=y_train)\n",
    "    pool_Xtest = Pool(X_test, cat_features=[7], label=y_test)\n",
    "    import sys\n",
    "\n",
    "    starter_model = model = CatBoostRegressor(iterations=3, depth=3, learning_rate=0.1, loss_function='RMSE',\n",
    "                                              objective='RMSE')\n",
    "\n",
    "    output = starter_model.randomized_search(options_block,  # param_options,\n",
    "                                             X=pool_Xtrain,  # X_train,\n",
    "                                             #y=y_train,\n",
    "                                             #cat_features=[],\n",
    "                                             cv=5,\n",
    "                                             n_iter=100,\n",
    "                                             partition_random_seed=101,\n",
    "                                             calc_cv_statistics=True,\n",
    "                                             #search_by_train_test_split=True,\n",
    "                                             refit=True,\n",
    "                                             shuffle=True,\n",
    "                                             stratified=None,\n",
    "                                             #train_size=0.8,\n",
    "                                             #train_size=1,\n",
    "                                             verbose=True,\n",
    "                                             plot=True,\n",
    "                                             log_cout=sys.stdout,\n",
    "                                             log_cerr=sys.stderr)\n",
    "\n",
    "    cat_params, cat_cv_results = output['params'], output['cv_results']\n",
    "    crossval_runner = {\"best_params_\": cat_params, \"cv_results_\": cat_cv_results, \"best_estimator_\": None}\n",
    "crossval_runner\n"
   ]
  },
  {
   "cell_type": "code",
   "execution_count": null,
   "metadata": {
    "execution": {
     "iopub.status.busy": "2022-11-16T17:43:52.309955Z",
     "iopub.status.idle": "2022-11-16T17:43:52.310240Z",
     "shell.execute_reply": "2022-11-16T17:43:52.310121Z",
     "shell.execute_reply.started": "2022-11-16T17:43:52.310107Z"
    }
   },
   "outputs": [],
   "source": [
    "if not_catboost:\n",
    "    best_estimator_pipe = crossval_runner.best_estimator_\n",
    "\n",
    "    if not_catboost and debug_mode:\n",
    "        crossval_runner.cv_results_"
   ]
  },
  {
   "cell_type": "code",
   "execution_count": null,
   "metadata": {
    "execution": {
     "iopub.status.busy": "2022-11-16T17:43:52.310956Z",
     "iopub.status.idle": "2022-11-16T17:43:52.311250Z",
     "shell.execute_reply": "2022-11-16T17:43:52.311106Z",
     "shell.execute_reply.started": "2022-11-16T17:43:52.311094Z"
    }
   },
   "outputs": [],
   "source": [
    "starter_model\n",
    "if True:\n",
    "    print(starter_model)\n",
    "if not not_catboost:\n",
    "    print(cat_params)\n",
    "    print(cat_cv_results)"
   ]
  },
  {
   "cell_type": "code",
   "execution_count": null,
   "metadata": {
    "execution": {
     "iopub.status.busy": "2022-11-16T17:43:52.312108Z",
     "iopub.status.idle": "2022-11-16T17:43:52.312439Z",
     "shell.execute_reply": "2022-11-16T17:43:52.312320Z",
     "shell.execute_reply.started": "2022-11-16T17:43:52.312306Z"
    }
   },
   "outputs": [],
   "source": [
    "if not_catboost:\n",
    "    crossval_runner.best_params_\n",
    "else:\n",
    "    crossval_runner[\"best_params_\"]"
   ]
  },
  {
   "cell_type": "code",
   "execution_count": null,
   "metadata": {
    "execution": {
     "iopub.status.busy": "2022-11-16T17:43:52.313455Z",
     "iopub.status.idle": "2022-11-16T17:43:52.313739Z",
     "shell.execute_reply": "2022-11-16T17:43:52.313623Z",
     "shell.execute_reply.started": "2022-11-16T17:43:52.313610Z"
    }
   },
   "outputs": [],
   "source": [
    "if not_catboost:\n",
    "    cv_results_df = pd.DataFrame(crossval_runner.cv_results_).sort_values('rank_test_score')\n",
    "cv_results_df if not_catboost else ''"
   ]
  },
  {
   "cell_type": "code",
   "execution_count": null,
   "metadata": {
    "execution": {
     "iopub.status.busy": "2022-11-16T17:43:52.314554Z",
     "iopub.status.idle": "2022-11-16T17:43:52.314819Z",
     "shell.execute_reply": "2022-11-16T17:43:52.314706Z",
     "shell.execute_reply.started": "2022-11-16T17:43:52.314693Z"
    }
   },
   "outputs": [],
   "source": [
    "if not_catboost and debug_mode:\n",
    "    xx = [c for c in cv_results_df.columns if 'param' in c]\n",
    "    xx.insert(0, 'rank_test_score')\n",
    "    xx.insert(0, 'mean_test_score')\n",
    "cv_results_df[xx].head(7) if not_catboost and debug_mode else ''"
   ]
  },
  {
   "cell_type": "code",
   "execution_count": null,
   "metadata": {
    "execution": {
     "iopub.status.busy": "2022-11-16T17:43:52.315574Z",
     "iopub.status.idle": "2022-11-16T17:43:52.315838Z",
     "shell.execute_reply": "2022-11-16T17:43:52.315725Z",
     "shell.execute_reply.started": "2022-11-16T17:43:52.315712Z"
    }
   },
   "outputs": [],
   "source": [
    "cv_results_df[xx].tail(7) if not_catboost and debug_mode else ''"
   ]
  },
  {
   "cell_type": "code",
   "execution_count": null,
   "metadata": {
    "execution": {
     "iopub.status.busy": "2022-11-16T17:43:52.316732Z",
     "iopub.status.idle": "2022-11-16T17:43:52.317002Z",
     "shell.execute_reply": "2022-11-16T17:43:52.316887Z",
     "shell.execute_reply.started": "2022-11-16T17:43:52.316874Z"
    }
   },
   "outputs": [],
   "source": [
    "if not_catboost:\n",
    "    cv_results_df['params2'] = cv_results_df['params'].apply(lambda l: '/'.join([str(c) for c in l.values()]))\n",
    "\n",
    "    cv_columns = ['params2', 'rank_test_score', 'mean_test_score', 'mean_fit_time', 'mean_score_time', 'params']\n",
    "    # if 'Neural' not in ALGORITHM:\n",
    "    #     cv_columns.insert(2, 'mean_train_score')\n",
    "    cv_results_df_full_sorted = cv_results_df.sort_values('rank_test_score')[cv_columns].reset_index(drop=True)\n",
    "\n",
    "cv_results_df_full_sorted if not_catboost else ''"
   ]
  },
  {
   "cell_type": "code",
   "execution_count": null,
   "metadata": {
    "execution": {
     "iopub.status.busy": "2022-11-16T17:43:52.317838Z",
     "iopub.status.idle": "2022-11-16T17:43:52.318114Z",
     "shell.execute_reply": "2022-11-16T17:43:52.317995Z",
     "shell.execute_reply.started": "2022-11-16T17:43:52.317978Z"
    }
   },
   "outputs": [],
   "source": [
    "if not_catboost:\n",
    "\n",
    "    cv_results_df_sorted = cv_results_df_full_sorted[cv_results_df_full_sorted['mean_test_score'] > -2]\n",
    "    if len(cv_results_df_sorted) != len(cv_results_df_full_sorted):\n",
    "        print(-len(cv_results_df_sorted) + len(cv_results_df_full_sorted), \"fits were total failures\")\n",
    "        total_fits = len(cv_results_df_sorted)\n",
    "cv_results_df_sorted if not_catboost else ''\n"
   ]
  },
  {
   "cell_type": "code",
   "execution_count": null,
   "metadata": {
    "execution": {
     "iopub.status.busy": "2022-11-16T17:43:52.318949Z",
     "iopub.status.idle": "2022-11-16T17:43:52.319250Z",
     "shell.execute_reply": "2022-11-16T17:43:52.319102Z",
     "shell.execute_reply.started": "2022-11-16T17:43:52.319090Z"
    }
   },
   "outputs": [],
   "source": [
    "#pd.set_option('display.max_columns', None)\n"
   ]
  },
  {
   "cell_type": "code",
   "execution_count": null,
   "metadata": {
    "execution": {
     "iopub.status.busy": "2022-11-16T17:43:52.320326Z",
     "iopub.status.idle": "2022-11-16T17:43:52.320594Z",
     "shell.execute_reply": "2022-11-16T17:43:52.320480Z",
     "shell.execute_reply.started": "2022-11-16T17:43:52.320467Z"
    }
   },
   "outputs": [],
   "source": [
    "if not_catboost:\n",
    "    orig_debug_mode, orig_display_df_cols = debug_mode, pd.get_option('display.max_columns')\n",
    "    debug_mode = True\n",
    "    pd.set_option('display.max_columns', None)\n",
    "    if debug_mode:\n",
    "        debug_cols = ['rank_test_score', 'mean_test_score', 'mean_fit_time', 'mean_score_time']\n",
    "        debug_cols.extend([c for c in cv_results_df.columns if 'param' in c])\n",
    "\n",
    "cv_results_df[debug_cols].head(7) if debug_mode else ''"
   ]
  },
  {
   "cell_type": "code",
   "execution_count": null,
   "metadata": {
    "execution": {
     "iopub.status.busy": "2022-11-16T17:43:52.321383Z",
     "iopub.status.idle": "2022-11-16T17:43:52.321653Z",
     "shell.execute_reply": "2022-11-16T17:43:52.321534Z",
     "shell.execute_reply.started": "2022-11-16T17:43:52.321521Z"
    }
   },
   "outputs": [],
   "source": [
    "if not_catboost:\n",
    "    debug_mode = orig_debug_mode\n",
    "    pd.set_option('display.max_columns', orig_display_df_cols)"
   ]
  },
  {
   "cell_type": "code",
   "execution_count": null,
   "metadata": {
    "execution": {
     "iopub.status.busy": "2022-11-16T17:43:52.322570Z",
     "iopub.status.idle": "2022-11-16T17:43:52.322835Z",
     "shell.execute_reply": "2022-11-16T17:43:52.322724Z",
     "shell.execute_reply.started": "2022-11-16T17:43:52.322711Z"
    }
   },
   "outputs": [],
   "source": [
    "if not_catboost:\n",
    "    def print_results(cross_validation_result):\n",
    "        means = cross_validation_result.cv_results_['mean_test_score']\n",
    "        stds = cross_validation_result.cv_results_['std_test_score']\n",
    "        params = cross_validation_result.cv_results_['params']\n",
    "        times = cross_validation_result.cv_results_['std_test_score']\n",
    "\n",
    "        print(\"params:\" + \"/\".join([c.replace(\"model__\", \"\") for c in params[0].keys()]))\n",
    "        print()\n",
    "        for mean, std, param, time in zip(means, stds, params, times):\n",
    "            #param2 = \"/\".join(list(param.values()))\n",
    "            param2 = \"/\".join(list([str(c) for c in param.values()]))\n",
    "            print(f'{round(mean, 3)} (+/-{round(std * 2, 3)}) in {round(time, 4)}s for {param2}')\n",
    "\n",
    "print_results(crossval_runner) if debug_mode else ''"
   ]
  },
  {
   "cell_type": "code",
   "execution_count": null,
   "metadata": {
    "execution": {
     "iopub.status.busy": "2022-11-16T17:43:52.323684Z",
     "iopub.status.idle": "2022-11-16T17:43:52.324001Z",
     "shell.execute_reply": "2022-11-16T17:43:52.323873Z",
     "shell.execute_reply.started": "2022-11-16T17:43:52.323859Z"
    }
   },
   "outputs": [],
   "source": [
    "if not_catboost:\n",
    "    print('Best Index: ', crossval_runner.best_index_)\n",
    "    print('Best Score: ', crossval_runner.best_score_)\n",
    "    print('Best Params: ', crossval_runner.best_params_)"
   ]
  },
  {
   "cell_type": "code",
   "execution_count": null,
   "metadata": {
    "execution": {
     "iopub.status.busy": "2022-11-16T17:43:52.324793Z",
     "iopub.status.idle": "2022-11-16T17:43:52.325057Z",
     "shell.execute_reply": "2022-11-16T17:43:52.324947Z",
     "shell.execute_reply.started": "2022-11-16T17:43:52.324934Z"
    }
   },
   "outputs": [],
   "source": [
    "#pool_Xtest.shape\n",
    "#pool_Xtrain.shape\n",
    "X_train[0]\n",
    "X_test[0]"
   ]
  },
  {
   "cell_type": "code",
   "execution_count": null,
   "metadata": {
    "execution": {
     "iopub.status.busy": "2022-11-16T17:43:52.325872Z",
     "iopub.status.idle": "2022-11-16T17:43:52.326136Z",
     "shell.execute_reply": "2022-11-16T17:43:52.326023Z",
     "shell.execute_reply.started": "2022-11-16T17:43:52.326011Z"
    }
   },
   "outputs": [],
   "source": [
    "if not_catboost:\n",
    "    y_pred = best_estimator_pipe.predict(X_test)\n",
    "else:\n",
    "    y_pred = starter_model.predict(pool_Xtest)"
   ]
  },
  {
   "cell_type": "code",
   "execution_count": null,
   "metadata": {
    "execution": {
     "iopub.status.busy": "2022-11-16T17:43:52.327073Z",
     "iopub.status.idle": "2022-11-16T17:43:52.327361Z",
     "shell.execute_reply": "2022-11-16T17:43:52.327250Z",
     "shell.execute_reply.started": "2022-11-16T17:43:52.327237Z"
    }
   },
   "outputs": [],
   "source": [
    "r_2_score = r2_score(y_test, y_pred)\n",
    "if not_catboost:\n",
    "    score = r_2_score\n",
    "    default_score = best_estimator_pipe.score(X_test, y_test)\n",
    "else:\n",
    "    score = r_2_score\n",
    "    default_score = starter_model.score(X_test, y_test)\n",
    "score"
   ]
  },
  {
   "cell_type": "code",
   "execution_count": null,
   "metadata": {
    "execution": {
     "iopub.status.busy": "2022-11-16T17:43:52.328190Z",
     "iopub.status.idle": "2022-11-16T17:43:52.328470Z",
     "shell.execute_reply": "2022-11-16T17:43:52.328351Z",
     "shell.execute_reply.started": "2022-11-16T17:43:52.328338Z"
    }
   },
   "outputs": [],
   "source": [
    "y_pred = y_pred.reshape((-1, 1))\n",
    "\n",
    "R2 = r_2_score\n",
    "MAE = mean_absolute_error(y_test, y_pred)\n",
    "MSE = mean_squared_error(y_test, y_pred)\n",
    "RMSE = math.sqrt(MSE)\n",
    "print('-' * 10 + ALGORITHM + '-' * 10)\n",
    "print('R square Accuracy', R2)\n",
    "print('Mean Absolute Error Accuracy', MAE)\n",
    "print('Mean Squared Error Accuracy', MSE)\n",
    "print('Root Mean Squared Error', RMSE)"
   ]
  },
  {
   "cell_type": "code",
   "execution_count": null,
   "metadata": {
    "execution": {
     "iopub.status.busy": "2022-11-16T17:43:52.329321Z",
     "iopub.status.idle": "2022-11-16T17:43:52.329600Z",
     "shell.execute_reply": "2022-11-16T17:43:52.329483Z",
     "shell.execute_reply.started": "2022-11-16T17:43:52.329470Z"
    }
   },
   "outputs": [],
   "source": [
    "if debug_mode:\n",
    "    print(y_test_index.reshape((-1, 1)).shape);\n",
    "    print(y_pred.reshape((-1, 1)).shape);\n",
    "    print(y_test.shape);\n",
    "    print(y_test_index.shape);\n",
    "    print(y_pred.shape);\n",
    "    print(y_test.shape)"
   ]
  },
  {
   "cell_type": "code",
   "execution_count": null,
   "metadata": {
    "execution": {
     "iopub.status.busy": "2022-11-16T17:43:52.330444Z",
     "iopub.status.idle": "2022-11-16T17:43:52.330709Z",
     "shell.execute_reply": "2022-11-16T17:43:52.330596Z",
     "shell.execute_reply.started": "2022-11-16T17:43:52.330584Z"
    }
   },
   "outputs": [],
   "source": [
    "compare = np.hstack((y_test_index, y_test, y_pred))\n",
    "compare_df = DataFrame(compare, columns=['reference', 'actual', 'predicted'])\n",
    "compare_df['difference'] = abs(compare_df['actual'] - compare_df['predicted'])\n",
    "compare_df['diff 1 %'] = abs((compare_df['actual'] - compare_df['predicted']) / compare_df['actual'] * 100)\n",
    "compare_df['diff 2 %'] = abs((compare_df['actual'] - compare_df['predicted']) / compare_df['predicted']) * 100\n",
    "compare_df['reference'] = compare_df['reference'].astype(int)\n",
    "compare_df.set_index('reference', inplace=True)\n",
    "compare_df"
   ]
  },
  {
   "cell_type": "code",
   "execution_count": null,
   "metadata": {
    "execution": {
     "iopub.status.busy": "2022-11-16T17:43:52.338723Z",
     "iopub.status.idle": "2022-11-16T17:43:52.339016Z",
     "shell.execute_reply": "2022-11-16T17:43:52.338887Z",
     "shell.execute_reply.started": "2022-11-16T17:43:52.338873Z"
    }
   },
   "outputs": [],
   "source": [
    "combined = compare_df.merge(df[columns], how='inner', left_index=True, right_index=True).sort_values(['diff 1 %'],\n",
    "                                                                                                     ascending=False)\n",
    "#pd.options.display.float_format = '{:.4f}'.format\n",
    "combined[['predicted', 'actual', 'Price', 'bedrooms', 'bathrooms']] = combined[\n",
    "    ['predicted', 'actual', 'Price', 'bedrooms', 'bathrooms']].astype(int)\n",
    "combined['bedrooms'] = combined['bedrooms'].astype(int)\n",
    "combined"
   ]
  },
  {
   "cell_type": "code",
   "execution_count": null,
   "metadata": {
    "execution": {
     "iopub.status.busy": "2022-11-16T17:43:52.339991Z",
     "iopub.status.idle": "2022-11-16T17:43:52.340253Z",
     "shell.execute_reply": "2022-11-16T17:43:52.340141Z",
     "shell.execute_reply.started": "2022-11-16T17:43:52.340129Z"
    }
   },
   "outputs": [],
   "source": [
    "fig, ax = plt.subplots()\n",
    "ax.scatter(y_test, y_pred, edgecolors=(0, 0, 1))\n",
    "ax.plot([y_test.min(), y_test.max()], [y_test.min(), y_test.max()], 'r--', lw=3)\n",
    "ax.set_ylabel('Predicted')\n",
    "ax.set_xlabel('Actual')\n",
    "#ax.title.set_text(f'CV Chosen best option ({calculated_best_pipe[1]})')\n",
    "plt.show()"
   ]
  },
  {
   "cell_type": "code",
   "execution_count": null,
   "metadata": {
    "execution": {
     "iopub.status.busy": "2022-11-16T17:43:52.340984Z",
     "iopub.status.idle": "2022-11-16T17:43:52.341248Z",
     "shell.execute_reply": "2022-11-16T17:43:52.341137Z",
     "shell.execute_reply.started": "2022-11-16T17:43:52.341124Z"
    }
   },
   "outputs": [],
   "source": [
    "if not_catboost:\n",
    "    def custom_model_and_predictions(model, graph_params, X_train, y_train, X_test):\n",
    "        graph_model = model\n",
    "        graph_model.set_params(**graph_params)\n",
    "        graph_model.fit(X_train, y_train)\n",
    "        y_pred_graph = model.predict(X_test)\n",
    "\n",
    "        return model, y_pred_graph\n",
    "\n",
    "\n",
    "    best_model_count = 10 if not quick_mode else 2\n",
    "    best_model_count = 3 if not quick_mode else 1\n",
    "    best_models = {}\n",
    "    best_model_predictions = {}\n",
    "    best_model_scores = {}\n",
    "\n",
    "    showable_increment = total_fits // (4 if not quick_mode else 2)\n",
    "    for i in range(0, total_fits, showable_increment):\n",
    "        if debug_mode or True: print(f'{i} ==> {i}')\n",
    "\n",
    "        if i == 0:\n",
    "            fitted_graph_model = crossval_runner.best_estimator_\n",
    "            y_pred_graph = y_pred\n",
    "        else:\n",
    "            graph_pipe_params = cv_results_df_sorted['params'][i]\n",
    "            print(graph_pipe_params)\n",
    "            # would always return the best! graph_pipe_params = cv_results_df_sorted.loc[cv_results_df_sorted['rank_test_score'] == 1, 'params'].values[0]\n",
    "\n",
    "            graph_params = {}\n",
    "            for key, value in graph_pipe_params.items():\n",
    "                graph_params[key.replace('model__', '')] = value\n",
    "\n",
    "            fitted_graph_model, y_pred_graph = custom_model_and_predictions(make_pipeline(), graph_pipe_params, X_train,\n",
    "                                                                            y_train, X_test)\n",
    "\n",
    "        best_models[i] = fitted_graph_model[-1].get_params()\n",
    "        best_model_predictions[i] = y_pred_graph\n",
    "        best_model_scores[i] = fitted_graph_model.score(X_test, y_test)\n",
    "\n",
    "    if debug_mode or True: print(f'{-1} ==> {-1}')\n",
    "    graph_pipe_params = cv_results_df_sorted['params'][total_fits - 1]\n",
    "    print(graph_pipe_params)\n",
    "    graph_params = {}\n",
    "    for key, value in graph_pipe_params.items():\n",
    "        graph_params[key.replace('model__', '')] = value\n",
    "    fitted_graph_model, y_pred_graph = custom_model_and_predictions(make_pipeline(), graph_pipe_params, X_train,\n",
    "                                                                    y_train, X_test)\n",
    "    best_models[-1] = fitted_graph_model[-1].get_params()\n",
    "    best_model_predictions[-1] = y_pred_graph\n",
    "    best_model_scores[-1] = fitted_graph_model.score(X_test, y_test)\n"
   ]
  },
  {
   "cell_type": "code",
   "execution_count": null,
   "metadata": {
    "execution": {
     "iopub.status.busy": "2022-11-16T17:43:52.342236Z",
     "iopub.status.idle": "2022-11-16T17:43:52.342541Z",
     "shell.execute_reply": "2022-11-16T17:43:52.342404Z",
     "shell.execute_reply.started": "2022-11-16T17:43:52.342390Z"
    }
   },
   "outputs": [],
   "source": [
    "cv_results_df_sorted if not_catboost else ''"
   ]
  },
  {
   "cell_type": "code",
   "execution_count": null,
   "metadata": {
    "execution": {
     "iopub.status.busy": "2022-11-16T17:43:52.343396Z",
     "iopub.status.idle": "2022-11-16T17:43:52.343659Z",
     "shell.execute_reply": "2022-11-16T17:43:52.343546Z",
     "shell.execute_reply.started": "2022-11-16T17:43:52.343533Z"
    }
   },
   "outputs": [],
   "source": [
    "cv_results_df_sorted['params'] if not_catboost and debug_mode else ''"
   ]
  },
  {
   "cell_type": "code",
   "execution_count": null,
   "metadata": {
    "execution": {
     "iopub.status.busy": "2022-11-16T17:43:52.344459Z",
     "iopub.status.idle": "2022-11-16T17:43:52.344735Z",
     "shell.execute_reply": "2022-11-16T17:43:52.344619Z",
     "shell.execute_reply.started": "2022-11-16T17:43:52.344605Z"
    }
   },
   "outputs": [],
   "source": [
    "cv_results_df_sorted['params'][0] if not_catboost else ''"
   ]
  },
  {
   "cell_type": "code",
   "execution_count": null,
   "metadata": {
    "execution": {
     "iopub.status.busy": "2022-11-16T17:43:52.345577Z",
     "iopub.status.idle": "2022-11-16T17:43:52.345856Z",
     "shell.execute_reply": "2022-11-16T17:43:52.345742Z",
     "shell.execute_reply.started": "2022-11-16T17:43:52.345729Z"
    }
   },
   "outputs": [],
   "source": [
    "best_models if not_catboost else ''"
   ]
  },
  {
   "cell_type": "code",
   "execution_count": null,
   "metadata": {
    "execution": {
     "iopub.status.busy": "2022-11-16T17:43:52.347131Z",
     "iopub.status.idle": "2022-11-16T17:43:52.347457Z",
     "shell.execute_reply": "2022-11-16T17:43:52.347322Z",
     "shell.execute_reply.started": "2022-11-16T17:43:52.347306Z"
    }
   },
   "outputs": [],
   "source": [
    "if not_catboost:\n",
    "    for i in best_model_scores.keys():\n",
    "        if i >= 0:\n",
    "            plt.plot([y_test.min(), y_test.max()], [y_test.min(), y_test.max()], 'r--', lw=3)\n",
    "            plt.scatter(y_test, best_model_predictions[i])\n",
    "            # plt.title(str(i) + \" \" + str(round(best_model_scores[i], 4)) + \" for \" + str(best_models[i]))\n",
    "            if len(best_models[i].keys()) < 30:\n",
    "                plt.title(str(i) + \" \" + str(round(best_model_scores[i], 4)) + \" for \" + str(best_models[i]))\n",
    "            else:\n",
    "                plt.title(str(i) + \" \" + str(round(best_model_scores[i], 4)) + \" for entry \" + str(i))\n",
    "            plt.show()\n",
    "\n",
    "    plt.plot([y_test.min(), y_test.max()], [y_test.min(), y_test.max()], 'r--', lw=3)\n",
    "    plt.scatter(y_test, best_model_predictions[-1])\n",
    "    # plt.title(str(i) + \" \" + str(round(best_model_scores[i], 4)) + \" for \" + str(best_models[i]))\n",
    "    if len(best_models[i].keys()) < 30:\n",
    "        plt.title(str(i) + \" \" + str(round(best_model_scores[-1], 4)) + \" for \" + str(best_models[-1]))\n",
    "    else:\n",
    "        plt.title(str(i) + \" \" + str(round(best_model_scores[-1], 4)) + \" for (worst) entry \" + str(i))\n",
    "\n",
    "    plt.show()"
   ]
  },
  {
   "cell_type": "code",
   "execution_count": null,
   "metadata": {
    "execution": {
     "iopub.status.busy": "2022-11-16T17:43:52.348289Z",
     "iopub.status.idle": "2022-11-16T17:43:52.348556Z",
     "shell.execute_reply": "2022-11-16T17:43:52.348442Z",
     "shell.execute_reply.started": "2022-11-16T17:43:52.348429Z"
    }
   },
   "outputs": [],
   "source": [
    "if not_catboost:\n",
    "    sns.set_theme(font_scale=2, rc=None)\n",
    "    sns.set_theme(font_scale=1, rc=None)\n",
    "\n",
    "    fig, axes = plt.subplots(ncols=3, figsize=(15, 5))\n",
    "\n",
    "    plt.subplots_adjust(hspace=0.2)\n",
    "    plt.subplots_adjust(wspace=0.2)\n",
    "\n",
    "    #.flatten()\n",
    "    coordinates = axes[0]\n",
    "    sns.lineplot(x=[y_test.min(), y_test.max()], y=[y_test.min(), y_test.max()], ax=axes[0], color='red')\n",
    "    sns.scatterplot(x=y_test.flatten(), y=best_model_predictions[0].flatten(), ax=axes[0],\n",
    "                    s=100).set(title=f'\"BEST\" model')\n",
    "\n",
    "    sns.lineplot(x=[y_test.min(), y_test.max()], y=[y_test.min(), y_test.max()], ax=axes[1], color='red')\n",
    "    sns.scatterplot(x=y_test.flatten(), y=best_model_predictions[-1].flatten(), ax=axes[1],\n",
    "                    s=100).set(title=f'\"WORST\" model')\n",
    "\n",
    "    sns.lineplot(x=[y_test.min(), y_test.max()], y=[y_test.min(), y_test.max()], ax=axes[2], color='red')\n",
    "    sns.scatterplot(x=y_test.flatten(), y=best_model_predictions[-1].flatten(), ax=axes[2],\n",
    "                    s=120, color='orange')\n",
    "    sns.scatterplot(x=y_test.flatten(), y=best_model_predictions[0].flatten(), ax=axes[2],\n",
    "                    s=30, alpha=0.6, color='black').set(\n",
    "        title='best (black) vs worst (orange)')\n",
    "    #title='best (orange) vs worst (black)')\n",
    "\n",
    "    fig.tight_layout()\n",
    "    plt.show()"
   ]
  },
  {
   "cell_type": "code",
   "execution_count": null,
   "metadata": {
    "execution": {
     "iopub.status.busy": "2022-11-16T17:43:52.349492Z",
     "iopub.status.idle": "2022-11-16T17:43:52.349755Z",
     "shell.execute_reply": "2022-11-16T17:43:52.349644Z",
     "shell.execute_reply.started": "2022-11-16T17:43:52.349631Z"
    }
   },
   "outputs": [],
   "source": [
    "if not_catboost:\n",
    "    cv_best_model_fit_time = cv_results_df_sorted.iloc[0][\"mean_fit_time\"]\n",
    "cv_best_model_fit_time if not_catboost else ''"
   ]
  },
  {
   "cell_type": "code",
   "execution_count": null,
   "metadata": {
    "execution": {
     "iopub.status.busy": "2022-11-16T17:43:52.350664Z",
     "iopub.status.idle": "2022-11-16T17:43:52.350926Z",
     "shell.execute_reply": "2022-11-16T17:43:52.350816Z",
     "shell.execute_reply.started": "2022-11-16T17:43:52.350803Z"
    }
   },
   "outputs": [],
   "source": [
    "# <catboost.core.CatBoostRegressor object at 0x7fb167387490>\n",
    "# {'depth': 6}\n",
    "# defaultdict(<class 'list'>, {'iterations': [0, 1, 2],\n",
    "# 'test-RMSE-mean': [396884.9605444017, 359548.6632536235, 326027.84885587444],\n",
    "# 'test-RMSE-std': [308.9495320039113, 260.0967808594464, 219.65856329246023],\n",
    "# 'train-RMSE-mean': [396884.77936957515, 359542.3612912551, 326018.9404460669],\n",
    "# 'train-RMSE-std': [91.44140078375503, 86.77961380623475, 69.4038638987425]})\n",
    "\n",
    "cv_best_model_fit_time = cv_results_df_sorted.iloc[0][\"mean_fit_time\"] if not_catboost else 999\n",
    "\n",
    "DD2 = \"(\" + \",\".join(DATA_DETAIL) + \")\" if len(DATA_DETAIL) >= 1 else \"\"\n",
    "key = f'{ALGORITHM} (v{VERSION})'.lower()\n",
    "\n",
    "method = f\"{ALGORITHM_DETAIL}{DD2}\"\n",
    "\n",
    "new_results = {\n",
    "    '_score': score,\n",
    "    'R square Accuracy': R2,\n",
    "    'Mean Absolute Error Accuracy': MAE,\n",
    "    'Mean Squared Error Accuracy': MSE,\n",
    "    'Root Mean Squared Error': RMSE,\n",
    "    '_train time': cv_best_model_fit_time,\n",
    "    'random_state': RANDOM_STATE,\n",
    "    'date': str(datetime.now()),\n",
    "    '_params': crossval_runner.best_params_ if not_catboost else cat_params,\n",
    "    '_method': method,\n",
    "    'run_env': run_env\n",
    "}\n",
    "\n",
    "if run_env not in ['colab']:\n",
    "    old_results_json = get_results()\n",
    "    try:\n",
    "        old_best_score = old_results_json[key]['best score']\n",
    "    except:\n",
    "        print(f\"haven't scored this model yet: {ALGORITHM}\")\n",
    "        old_best_score = -999\n",
    "    this_model_is_best = update_results(old_results_json, new_results, key)\n",
    "\n",
    "print(key)"
   ]
  },
  {
   "cell_type": "code",
   "execution_count": null,
   "metadata": {
    "execution": {
     "iopub.status.busy": "2022-11-16T17:43:52.351869Z",
     "iopub.status.idle": "2022-11-16T17:43:52.352154Z",
     "shell.execute_reply": "2022-11-16T17:43:52.352030Z",
     "shell.execute_reply.started": "2022-11-16T17:43:52.352014Z"
    }
   },
   "outputs": [],
   "source": [
    "crossval_runner.best_estimator_ if not_catboost else ''"
   ]
  },
  {
   "cell_type": "code",
   "execution_count": null,
   "metadata": {
    "execution": {
     "iopub.status.busy": "2022-11-16T17:43:52.353147Z",
     "iopub.status.idle": "2022-11-16T17:43:52.353424Z",
     "shell.execute_reply": "2022-11-16T17:43:52.353302Z",
     "shell.execute_reply.started": "2022-11-16T17:43:52.353289Z"
    }
   },
   "outputs": [],
   "source": [
    "if this_model_is_best:\n",
    "    with open(f'../../../models/optimised_model_{ALGORITHM}_v{VERSION}{DD2}.pkl', 'wb') as f:\n",
    "        if not_catboost:\n",
    "            pickle.dump(crossval_runner.best_estimator_, f)\n",
    "        else:\n",
    "            pickle.dump(starter_model, f)\n",
    "        print('pickled new version of model')\n",
    "        print(f\"{old_results_json[key]['_score']} is new best score (it's better than {old_best_score})\")\n",
    "        #print(results_json[key]['_score'], 'is an improvement on', results_json[key]['second best score'])\n",
    "else:\n",
    "    print(\"not updated saved model, the previous run was better\")\n",
    "    print(old_results_json[key]['_score'], 'is worse than or equal to', old_best_score)\n",
    "\n",
    "# 0.45687994672121157 jh"
   ]
  },
  {
   "cell_type": "code",
   "execution_count": null,
   "metadata": {
    "execution": {
     "iopub.status.busy": "2022-11-16T17:43:52.354527Z",
     "iopub.status.idle": "2022-11-16T17:43:52.354795Z",
     "shell.execute_reply": "2022-11-16T17:43:52.354683Z",
     "shell.execute_reply.started": "2022-11-16T17:43:52.354670Z"
    }
   },
   "outputs": [],
   "source": [
    "if 'tree' in ALGORITHM.lower() or 'forest' in ALGORITHM.lower() or 'boost' in ALGORITHM.lower():\n",
    "    feature_importances = crossval_runner.best_estimator_[\n",
    "        -1].feature_importances_ if not_catboost else starter_model.get_feature_importance()\n",
    "    #std = np.std([tree.feature_importances_ for tree in model.estimators_], axis = 0)\n",
    "\n",
    "    indices = np.argsort(feature_importances)[::-1]\n",
    "\n",
    "    print('Feature Ranking:')\n",
    "\n",
    "    for f in range(X_train.shape[1]):\n",
    "        print('%d. features %d (%f)' % (f + 1, indices[f], feature_importances[indices[f]]),\n",
    "              df_features.columns[indices[f] + 1])\n",
    "else:\n",
    "    print(f'{ALGORITHM} does not have feature_importances, skipping')"
   ]
  },
  {
   "cell_type": "code",
   "execution_count": null,
   "metadata": {
    "execution": {
     "iopub.status.busy": "2022-11-16T17:43:52.355561Z",
     "iopub.status.idle": "2022-11-16T17:43:52.355859Z",
     "shell.execute_reply": "2022-11-16T17:43:52.355713Z",
     "shell.execute_reply.started": "2022-11-16T17:43:52.355700Z"
    }
   },
   "outputs": [],
   "source": [
    "if 'tree' in ALGORITHM.lower() or 'forest' in ALGORITHM.lower() or 'boost' in ALGORITHM.lower():\n",
    "    indices = np.argsort(feature_importances)\n",
    "\n",
    "    fig, ax = plt.subplots()\n",
    "    ax.barh(range(len(feature_importances)), feature_importances[indices])\n",
    "    ax.set_yticks(range(len(feature_importances)))\n",
    "    _ = ax.set_yticklabels(df_features.columns[[c + 1 for c in indices]])\n",
    "else:\n",
    "    print(f'{ALGORITHM} does not have feature_importances, skipping')"
   ]
  },
  {
   "cell_type": "code",
   "execution_count": null,
   "metadata": {
    "collapsed": false,
    "jupyter": {
     "outputs_hidden": false
    }
   },
   "outputs": [],
   "source": []
  }
 ],
 "metadata": {
  "kernelspec": {
   "display_name": "Python 3 (ipykernel)",
   "language": "python",
   "name": "python3"
  },
  "language_info": {
   "codemirror_mode": {
    "name": "ipython",
    "version": 3
   },
   "file_extension": ".py",
   "mimetype": "text/x-python",
   "name": "python",
   "nbconvert_exporter": "python",
   "pygments_lexer": "ipython3",
   "version": "3.9.13"
  }
 },
 "nbformat": 4,
 "nbformat_minor": 4
}
