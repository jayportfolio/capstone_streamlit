{
 "cells": [
  {
   "cell_type": "code",
   "execution_count": 1,
   "metadata": {
    "execution": {
     "iopub.execute_input": "2022-11-20T19:53:10.416598Z",
     "iopub.status.busy": "2022-11-20T19:53:10.416284Z",
     "iopub.status.idle": "2022-11-20T19:53:10.425727Z",
     "shell.execute_reply": "2022-11-20T19:53:10.424907Z",
     "shell.execute_reply.started": "2022-11-20T19:53:10.416541Z"
    }
   },
   "outputs": [],
   "source": [
    "#ALGORITHM = 'Neural Network'\n",
    "ALGORITHM = 'Neural Network Simplified'\n",
    "ALGORITHM_DETAIL = ''\n",
    "ALGORITHM_DETAIL_ORIG = ALGORITHM_DETAIL\n",
    "#ALGORITHM_DETAIL += ' tbc'\n",
    "DATA_DETAIL = []\n",
    "#DATA_DETAIL = ['no scale','no dummies']\n",
    "VERSION = '06'\n",
    "\n",
    "RANDOM_STATE = 101\n",
    "TRAINING_SIZE = 0.9\n",
    "\n",
    "CROSS_VALIDATION_SCORING = 'r2'\n",
    "\n",
    "#selected_neural_network='simplest'\n",
    "#selected_neural_network='quite simple'\n",
    "selected_neural_network = 'recommended simple v1'\n",
    "#selected_neural_network='recommended simple v2'\n",
    "#selected_neural_network='adapted v3'"
   ]
  },
  {
   "cell_type": "code",
   "execution_count": 2,
   "metadata": {
    "execution": {
     "iopub.execute_input": "2022-11-20T19:53:10.450006Z",
     "iopub.status.busy": "2022-11-20T19:53:10.449775Z",
     "iopub.status.idle": "2022-11-20T19:53:24.838448Z",
     "shell.execute_reply": "2022-11-20T19:53:24.837787Z",
     "shell.execute_reply.started": "2022-11-20T19:53:10.449987Z"
    }
   },
   "outputs": [
    {
     "name": "stdout",
     "output_type": "stream",
     "text": [
      "Requirement already satisfied: scikeras in /home/guava/PycharmProjects/capstone_streamlit/venv/lib/python3.8/site-packages (0.9.0)\r\n",
      "Requirement already satisfied: scikit-learn>=1.0.0 in /home/guava/PycharmProjects/capstone_streamlit/venv/lib/python3.8/site-packages (from scikeras) (1.1.2)\r\n",
      "Requirement already satisfied: packaging>=0.21 in /home/guava/PycharmProjects/capstone_streamlit/venv/lib/python3.8/site-packages (from scikeras) (21.3)\r\n",
      "Requirement already satisfied: pyparsing!=3.0.5,>=2.0.2 in /home/guava/PycharmProjects/capstone_streamlit/venv/lib/python3.8/site-packages (from packaging>=0.21->scikeras) (3.0.9)\r\n",
      "Requirement already satisfied: joblib>=1.0.0 in /home/guava/PycharmProjects/capstone_streamlit/venv/lib/python3.8/site-packages (from scikit-learn>=1.0.0->scikeras) (1.2.0)\r\n",
      "Requirement already satisfied: scipy>=1.3.2 in /home/guava/PycharmProjects/capstone_streamlit/venv/lib/python3.8/site-packages (from scikit-learn>=1.0.0->scikeras) (1.9.1)\r\n",
      "Requirement already satisfied: numpy>=1.17.3 in /home/guava/PycharmProjects/capstone_streamlit/venv/lib/python3.8/site-packages (from scikit-learn>=1.0.0->scikeras) (1.23.3)\r\n",
      "Requirement already satisfied: threadpoolctl>=2.0.0 in /home/guava/PycharmProjects/capstone_streamlit/venv/lib/python3.8/site-packages (from scikit-learn>=1.0.0->scikeras) (3.1.0)\r\n",
      "Requirement already satisfied: catboost in /home/guava/PycharmProjects/capstone_streamlit/venv/lib/python3.8/site-packages (1.1.1)\r\n",
      "Requirement already satisfied: matplotlib in /home/guava/PycharmProjects/capstone_streamlit/venv/lib/python3.8/site-packages (from catboost) (3.6.0)\r\n",
      "Requirement already satisfied: plotly in /home/guava/PycharmProjects/capstone_streamlit/venv/lib/python3.8/site-packages (from catboost) (5.10.0)\r\n",
      "Requirement already satisfied: numpy>=1.16.0 in /home/guava/PycharmProjects/capstone_streamlit/venv/lib/python3.8/site-packages (from catboost) (1.23.3)\r\n",
      "Requirement already satisfied: pandas>=0.24.0 in /home/guava/PycharmProjects/capstone_streamlit/venv/lib/python3.8/site-packages (from catboost) (1.5.0)\r\n",
      "Requirement already satisfied: graphviz in /home/guava/PycharmProjects/capstone_streamlit/venv/lib/python3.8/site-packages (from catboost) (0.20.1)\r\n",
      "Requirement already satisfied: scipy in /home/guava/PycharmProjects/capstone_streamlit/venv/lib/python3.8/site-packages (from catboost) (1.9.1)\r\n",
      "Requirement already satisfied: six in /home/guava/PycharmProjects/capstone_streamlit/venv/lib/python3.8/site-packages (from catboost) (1.16.0)\r\n",
      "Requirement already satisfied: pytz>=2020.1 in /home/guava/PycharmProjects/capstone_streamlit/venv/lib/python3.8/site-packages (from pandas>=0.24.0->catboost) (2022.2.1)\r\n",
      "Requirement already satisfied: python-dateutil>=2.8.1 in /home/guava/PycharmProjects/capstone_streamlit/venv/lib/python3.8/site-packages (from pandas>=0.24.0->catboost) (2.8.2)\r\n",
      "Requirement already satisfied: pillow>=6.2.0 in /home/guava/PycharmProjects/capstone_streamlit/venv/lib/python3.8/site-packages (from matplotlib->catboost) (9.2.0)\r\n",
      "Requirement already satisfied: contourpy>=1.0.1 in /home/guava/PycharmProjects/capstone_streamlit/venv/lib/python3.8/site-packages (from matplotlib->catboost) (1.0.5)\r\n",
      "Requirement already satisfied: kiwisolver>=1.0.1 in /home/guava/PycharmProjects/capstone_streamlit/venv/lib/python3.8/site-packages (from matplotlib->catboost) (1.4.4)\r\n",
      "Requirement already satisfied: fonttools>=4.22.0 in /home/guava/PycharmProjects/capstone_streamlit/venv/lib/python3.8/site-packages (from matplotlib->catboost) (4.37.3)\r\n",
      "Requirement already satisfied: packaging>=20.0 in /home/guava/PycharmProjects/capstone_streamlit/venv/lib/python3.8/site-packages (from matplotlib->catboost) (21.3)\r\n",
      "Requirement already satisfied: pyparsing>=2.2.1 in /home/guava/PycharmProjects/capstone_streamlit/venv/lib/python3.8/site-packages (from matplotlib->catboost) (3.0.9)\r\n",
      "Requirement already satisfied: cycler>=0.10 in /home/guava/PycharmProjects/capstone_streamlit/venv/lib/python3.8/site-packages (from matplotlib->catboost) (0.11.0)\r\n",
      "Requirement already satisfied: tenacity>=6.2.0 in /home/guava/PycharmProjects/capstone_streamlit/venv/lib/python3.8/site-packages (from plotly->catboost) (8.1.0)\r\n"
     ]
    }
   ],
   "source": [
    "! pip install scikeras\n",
    "! pip install catboost"
   ]
  },
  {
   "cell_type": "code",
   "execution_count": 3,
   "metadata": {
    "execution": {
     "iopub.execute_input": "2022-11-20T19:53:24.840762Z",
     "iopub.status.busy": "2022-11-20T19:53:24.840469Z",
     "iopub.status.idle": "2022-11-20T19:53:27.420640Z",
     "shell.execute_reply": "2022-11-20T19:53:27.419762Z",
     "shell.execute_reply.started": "2022-11-20T19:53:24.840733Z"
    }
   },
   "outputs": [
    {
     "name": "stderr",
     "output_type": "stream",
     "text": [
      "2022-11-21 09:46:46.058338: I tensorflow/core/platform/cpu_feature_guard.cc:193] This TensorFlow binary is optimized with oneAPI Deep Neural Network Library (oneDNN) to use the following CPU instructions in performance-critical operations:  AVX2\n",
      "To enable them in other operations, rebuild TensorFlow with the appropriate compiler flags.\n"
     ]
    },
    {
     "name": "stdout",
     "output_type": "stream",
     "text": [
      "2.10.0\n"
     ]
    }
   ],
   "source": [
    "from sklearn.pipeline import Pipeline\n",
    "from sklearn.preprocessing import MinMaxScaler, StandardScaler\n",
    "from scikeras.wrappers import KerasClassifier, KerasRegressor\n",
    "\n",
    "import tensorflow as tf\n",
    "from keras import layers\n",
    "from tensorflow import keras\n",
    "from keras.models import Sequential\n",
    "from keras.layers import Dense\n",
    "\n",
    "print(tf.__version__)\n",
    "\n",
    "\n",
    "def make_simple_ann(key, inputs=-1):\n",
    "    if key == 'simplest':\n",
    "        new_algorithm_detail = ALGORITHM_DETAIL_ORIG + 'simplest findable model + normalise, MSE loss'\n",
    "\n",
    "        normalizer = tf.keras.layers.Normalization(axis=-1)\n",
    "        normalizer.adapt(np.array(X_train))\n",
    "\n",
    "        chosen_model = tf.keras.Sequential([\n",
    "            normalizer,\n",
    "            layers.Dense(units=1)\n",
    "        ])\n",
    "\n",
    "        chosen_model.compile(\n",
    "            optimizer=tf.keras.optimizers.Adam(learning_rate=0.1),\n",
    "            loss='mean_squared_error')\n",
    "\n",
    "        epochs = 100\n",
    "\n",
    "    elif key == 'quite simple':\n",
    "        new_algorithm_detail = ALGORITHM_DETAIL_ORIG + 'quite simple model + normalise, mse'\n",
    "\n",
    "        normalizer = tf.keras.layers.Normalization(axis=-1)\n",
    "        normalizer.adapt(np.array(X_train))\n",
    "\n",
    "        chosen_model = tf.keras.Sequential([\n",
    "            layers.Dense(11, input_shape=(len(X_train[0]),), activation='relu'),\n",
    "            normalizer,\n",
    "            layers.Dense(units=1)\n",
    "        ])\n",
    "\n",
    "        chosen_model.compile(\n",
    "            optimizer=tf.keras.optimizers.Adam(learning_rate=0.1),\n",
    "            loss='mean_squared_error')\n",
    "\n",
    "        epochs = 100\n",
    "\n",
    "    elif key == 'recommended simple v1':\n",
    "\n",
    "        new_algorithm_detail = ALGORITHM_DETAIL_ORIG + 'recommended simple model/mse'\n",
    "\n",
    "        normalizer = tf.keras.layers.Normalization(axis=-1)\n",
    "        normalizer.adapt(np.array(X_train))\n",
    "        new_algorithm_detail += ' +norm'\n",
    "\n",
    "        chosen_model = tf.keras.Sequential([\n",
    "            layers.Dense(11, input_shape=(len(X_train[0]),), activation='relu'),\n",
    "            normalizer,\n",
    "            layers.Dense(units=1)\n",
    "        ])\n",
    "\n",
    "        chosen_model.compile(\n",
    "            #optimizer=tf.keras.optimizers.Adam(learning_rate=0.0003),\n",
    "            optimizer=tf.keras.optimizers.Adam(learning_rate=0.3),\n",
    "            loss='mean_squared_error')\n",
    "\n",
    "        epochs = 300\n",
    "\n",
    "    elif key == 'recommended simple v2':\n",
    "\n",
    "        new_algorithm_detail = ALGORITHM_DETAIL_ORIG + 'recommended simple model + normalise, mse'\n",
    "\n",
    "        normalizer = tf.keras.layers.Normalization(axis=-1)\n",
    "        normalizer.adapt(np.array(X_train))\n",
    "\n",
    "        chosen_model = tf.keras.Sequential([\n",
    "            layers.Dense(11, input_shape=(len(X_train[0]),), activation='relu'),\n",
    "            normalizer,\n",
    "            layers.Dense(11, activation='relu'),\n",
    "            layers.Dense(11, activation='relu'),\n",
    "            layers.Dense(11, activation='relu'),\n",
    "            layers.Dense(11, activation='relu'),\n",
    "            layers.Dense(11, activation='relu'),\n",
    "            layers.Dense(11, activation='relu'),\n",
    "            layers.Dense(units=1)\n",
    "        ])\n",
    "\n",
    "        chosen_model.compile(\n",
    "            #optimizer=tf.keras.optimizers.Adam(learning_rate=0.0003),\n",
    "            #optimizer=tf.keras.optimizers.Adam(learning_rate=0.1),\n",
    "            optimizer=tf.keras.optimizers.Adam(learning_rate=0.003),\n",
    "            loss='mean_squared_error')\n",
    "\n",
    "        epochs = 100\n",
    "        #iterations = 20\n",
    "\n",
    "    elif key == 'adapted v3':\n",
    "\n",
    "        new_algorithm_detail = ALGORITHM_DETAIL_ORIG + 'v3 adapted,normalise,mse'\n",
    "\n",
    "        normalizer = tf.keras.layers.Normalization(axis=-1)\n",
    "        normalizer.adapt(np.array(X_train))\n",
    "\n",
    "        chosen_model = tf.keras.Sequential([\n",
    "            layers.Dense(11, input_shape=(len(X_train[0]),), activation='relu'),\n",
    "            normalizer,\n",
    "            layers.Dense(50, activation='relu'),\n",
    "            layers.Dense(300, activation='relu'),\n",
    "            layers.Dense(50, activation='relu'),\n",
    "            layers.Dense(11, activation='relu'),\n",
    "            layers.Dense(units=1)\n",
    "        ])\n",
    "\n",
    "        chosen_model.compile(\n",
    "            #optimizer=tf.keras.optimizers.Adam(learning_rate=0.0003),\n",
    "            #optimizer=tf.keras.optimizers.Adam(learning_rate=0.1),\n",
    "            optimizer=tf.keras.optimizers.Adam(learning_rate=0.0003),\n",
    "            loss='mean_squared_error')\n",
    "\n",
    "        epochs = 500\n",
    "        #iterations = 20\n",
    "\n",
    "    # elif key == 'my model':\n",
    "    #     ALGORITHM_DETAIL = ALGORITHM_DETAIL_ORIG  + 'my model (make_regression_ann)'\n",
    "    # \n",
    "    #     simple_model = make_regression_ann()\n",
    "    #     trainable_model = simple_model\n",
    "    #     \n",
    "    #     epochs = 100\n",
    "    else:\n",
    "        raise ValueError(\"make_simple_ann: no entry for key:\", key)\n",
    "\n",
    "    if run_env == 'local':\n",
    "        epochs = 5\n",
    "\n",
    "    new_algorithm_detail += f' +epochs={epochs}'\n",
    "    return chosen_model, new_algorithm_detail, epochs\n"
   ]
  },
  {
   "cell_type": "code",
   "execution_count": 4,
   "metadata": {
    "execution": {
     "iopub.execute_input": "2022-11-20T19:53:27.422605Z",
     "iopub.status.busy": "2022-11-20T19:53:27.421855Z",
     "iopub.status.idle": "2022-11-20T19:53:28.585607Z",
     "shell.execute_reply": "2022-11-20T19:53:28.584857Z",
     "shell.execute_reply.started": "2022-11-20T19:53:27.422576Z"
    }
   },
   "outputs": [
    {
     "name": "stdout",
     "output_type": "stream",
     "text": [
      "{'notebook_environment': 'local', 'use_gpu': False, 'debug_mode': False, 'quick_mode': False, 'quick_override_cv_splits': 2, 'quick_override_n_iter': 10, 'quick_override_n_jobs': 3}\n"
     ]
    }
   ],
   "source": [
    "from sklearn.impute import SimpleImputer\n",
    "import pandas as pd\n",
    "from sklearn.model_selection import train_test_split, RandomizedSearchCV, GridSearchCV\n",
    "import numpy as np\n",
    "from pandas import DataFrame\n",
    "import math\n",
    "from termcolor import colored\n",
    "from time import time\n",
    "import sklearn\n",
    "from sklearn.metrics import r2_score, mean_absolute_error, mean_squared_error\n",
    "from sklearn.metrics import r2_score\n",
    "import seaborn as sns\n",
    "import pickle\n",
    "\n",
    "import json\n",
    "from datetime import datetime\n",
    "import matplotlib.pyplot as plt\n",
    "\n",
    "with open('../../z_envs/_envs.json') as f:\n",
    "    env_vars = json.loads(f.read())\n",
    "print(env_vars)\n",
    "\n",
    "try:\n",
    "    import google.colab\n",
    "\n",
    "    run_env = 'colab'\n",
    "except:\n",
    "    try:\n",
    "        run_env = env_vars['notebook_environment']\n",
    "    except:\n",
    "        run_env = 'unknown'\n",
    "\n",
    "use_gpu = env_vars.get('use_gpu', False)\n",
    "debug_mode = env_vars.get('debug_mode', False)\n",
    "quick_mode = env_vars.get('quick_mode', False)\n",
    "\n",
    "no_dummies = 'no dummies' in DATA_DETAIL\n",
    "no_scaling = 'no scaling' in DATA_DETAIL\n",
    "not_catboost = True\n",
    "\n",
    "if run_env not in ['colab', 'gradient', 'cloud']:\n",
    "    cloud_run = False\n",
    "    from functions_0__common_20221116 import get_columns\n",
    "    from functions_b__get_the_data_20221116 import set_csv_directory, get_combined_dataset\n",
    "    from functions_d1__prepare_cleanse_data_20221116 import tidy_dataset\n",
    "    from functions_d2__transform_enrich_data_20221116 import preprocess, feature_engineer\n",
    "    from functions_d3__prepare_store_data_20221116 import create_train_test_data\n",
    "    from functions_e__train_model_20221116 import get_chosen_model, make_modelling_pipeline, get_cv_params, fit_model_with_cross_validation, get_hyperparameters\n",
    "    from functions_f_evaluate_model_20221116 import get_best_estimator_average_time, get_results, update_results\n",
    "\n",
    "    set_csv_directory('final_split')\n",
    "\n",
    "    quick_mode = True\n",
    "else:\n",
    "    cloud_run = True\n",
    "    import sys\n",
    "    import os\n",
    "\n",
    "    module_path = os.path.abspath(os.path.join('..', '..', '..'))\n",
    "    if module_path not in sys.path:\n",
    "        #sys.path.append(module_path+\"\\\\zfunctions\")\n",
    "        sys.path.append(module_path)\n",
    "\n",
    "    from functions_0__common_20221116 import get_columns\n",
    "    from functions_b__get_the_data_20221116 import set_csv_directory, get_combined_dataset\n",
    "    from functions_d1__prepare_cleanse_data_20221116 import tidy_dataset\n",
    "    from functions_d2__transform_enrich_data_20221116 import preprocess, feature_engineer\n",
    "    from functions_d3__prepare_store_data_20221116 import create_train_test_data\n",
    "    from functions_e__train_model_20221116 import get_chosen_model, make_modelling_pipeline, get_cv_params, fit_model_with_cross_validation, get_hyperparameters\n",
    "    from functions_f_evaluate_model_20221116 import get_best_estimator_average_time, get_results, update_results\n"
   ]
  },
  {
   "cell_type": "code",
   "execution_count": 5,
   "metadata": {
    "execution": {
     "iopub.execute_input": "2022-11-20T19:53:28.587703Z",
     "iopub.status.busy": "2022-11-20T19:53:28.587209Z",
     "iopub.status.idle": "2022-11-20T19:53:28.592624Z",
     "shell.execute_reply": "2022-11-20T19:53:28.591973Z",
     "shell.execute_reply.started": "2022-11-20T19:53:28.587639Z"
    }
   },
   "outputs": [
    {
     "name": "stdout",
     "output_type": "stream",
     "text": [
      "\u001B[34mfeatures\u001B[0m ->  ['bedrooms', 'bathrooms', 'nearestStation', 'location.latitude', 'location.longitude', 'latitude_deviation', 'longitude_deviation', 'tenure.tenureType']\n",
      "\u001B[1m\u001B[32mlabel\u001B[0m ->  Price\n"
     ]
    }
   ],
   "source": [
    "#cutdown_rows = 1000\n",
    "cutdown_rows = 0\n",
    "\n",
    "LABEL = 'Price'\n",
    "\n",
    "columns, booleans, floats, categories, custom, wildcard = get_columns(version=VERSION)\n",
    "\n",
    "print(colored(f\"features\", \"blue\"), \"-> \", columns)\n",
    "columns.insert(0, LABEL)\n",
    "print(colored(f\"label\", \"green\", None, ['bold']), \"-> \", LABEL)"
   ]
  },
  {
   "cell_type": "code",
   "execution_count": 6,
   "metadata": {
    "execution": {
     "iopub.execute_input": "2022-11-20T19:53:28.593744Z",
     "iopub.status.busy": "2022-11-20T19:53:28.593533Z",
     "iopub.status.idle": "2022-11-20T19:53:28.598803Z",
     "shell.execute_reply": "2022-11-20T19:53:28.598214Z",
     "shell.execute_reply.started": "2022-11-20T19:53:28.593728Z"
    }
   },
   "outputs": [],
   "source": [
    "def get_source_dataframe(rows=cutdown_rows, folder_prefix='../../../'):\n",
    "    retrieval_type = None\n",
    "\n",
    "    filename = f'df_listings_v{VERSION}.csv'\n",
    "    remote_pathname = f'https://raw.githubusercontent.com/jayportfolio/capstone_streamlit/main/data/final/{filename}'\n",
    "    df_pathname_raw = folder_prefix + f'data/source/{filename}'\n",
    "    df_pathname_tidy = folder_prefix + f'data/final/{filename}'\n",
    "\n",
    "    if cloud_run:\n",
    "        inDF = pd.read_csv(remote_pathname, on_bad_lines='error', index_col=0)\n",
    "        retrieval_type = 'tidy'\n",
    "        print('loaded data from', folder_prefix + remote_pathname)\n",
    "    else:\n",
    "        inDF = pd.read_csv(df_pathname_tidy, on_bad_lines='error', index_col=0)\n",
    "        retrieval_type = 'tidy'\n",
    "        print('loaded data from', df_pathname_tidy)\n",
    "\n",
    "    if rows and rows > 0:\n",
    "        inDF = inDF[:rows]\n",
    "    return inDF, retrieval_type"
   ]
  },
  {
   "cell_type": "code",
   "execution_count": 7,
   "metadata": {
    "execution": {
     "iopub.execute_input": "2022-11-20T19:53:28.600117Z",
     "iopub.status.busy": "2022-11-20T19:53:28.599943Z",
     "iopub.status.idle": "2022-11-20T19:53:33.781249Z",
     "shell.execute_reply": "2022-11-20T19:53:33.780508Z",
     "shell.execute_reply.started": "2022-11-20T19:53:28.600107Z"
    }
   },
   "outputs": [
    {
     "name": "stdout",
     "output_type": "stream",
     "text": [
      "loaded data from ../../../data/final/df_listings_v06.csv\n",
      "(46871, 9)\n"
     ]
    }
   ],
   "source": [
    "df, retrieval_type = get_source_dataframe(folder_prefix='../../../')\n",
    "df_orig = df.copy()\n",
    "\n",
    "if retrieval_type != 'tidy':\n",
    "    df = tidy_dataset(df, version=int(VERSION))\n",
    "    df = feature_engineer(df, version=int(VERSION))\n",
    "\n",
    "    df = df[columns]\n",
    "\n",
    "print(df.shape)"
   ]
  },
  {
   "cell_type": "code",
   "execution_count": 8,
   "metadata": {
    "execution": {
     "iopub.execute_input": "2022-11-20T19:53:33.782339Z",
     "iopub.status.busy": "2022-11-20T19:53:33.782139Z",
     "iopub.status.idle": "2022-11-20T19:53:33.804361Z",
     "shell.execute_reply": "2022-11-20T19:53:33.803682Z",
     "shell.execute_reply.started": "2022-11-20T19:53:33.782322Z"
    }
   },
   "outputs": [
    {
     "data": {
      "text/plain": "             Price  bedrooms  bathrooms  nearestStation  location.latitude  \\\n14520525  550000.0       3.0        1.0        0.274316          51.529950   \n27953107  400000.0       2.0        2.0        0.305845          51.549390   \n33593487  579950.0       2.0        1.0        0.438045          51.447180   \n35271294  370000.0       2.0        1.0        0.399307          51.449568   \n35429088  599950.0       2.0        1.0        0.238187          51.577030   \n44749111  475000.0       2.0        1.0        0.410550          51.370050   \n46204665  435000.0       3.0        2.0        0.314779          51.539070   \n49020666  200000.0       1.0        1.0        0.875911          51.539959   \n49036279  275000.0       2.0        1.0        0.474368          51.541780   \n49303873  450000.0       3.0        2.0        0.577040          51.524880   \n52064391  349950.0       2.0        2.0        0.212734          51.470800   \n52187854  450000.0       1.0        1.0        0.446802          51.527199   \n52675628  490000.0       2.0        2.0        0.215040          51.501114   \n52845963  200000.0       2.0        1.0        0.650562          51.398040   \n52913496  220000.0       1.0        1.0        0.945991          51.539383   \n53609433  489995.0       1.0        1.0        0.087081          51.532620   \n53649578  284950.0       1.0        1.0        0.806597          51.479890   \n53938989  450000.0       2.0        1.0        0.775203          51.658287   \n54713232  332000.0       2.0        1.0        0.319226          51.612300   \n54904122  365000.0       2.0        1.0        0.260722          51.593595   \n54991934  430000.0       3.0        1.0        0.497268          51.528720   \n55043230  260000.0       1.0        1.0        0.384607          51.544430   \n55187658  430000.0       2.0        2.0        0.289033          51.507570   \n55531367  599950.0       2.0        1.0        0.406725          51.467410   \n55768232  550000.0       2.0        1.0        0.478349          51.472890   \n55805965  280000.0       2.0        1.0        0.742859          51.520910   \n55839051  599950.0       2.0        1.0        0.259168          51.579186   \n55940994  385000.0       2.0        2.0        0.403987          51.376930   \n56449305  380000.0       2.0        1.0        0.310271          51.600483   \n57221413  475000.0       3.0        2.0        0.409784          51.497260   \n\n          location.longitude  latitude_deviation  longitude_deviation  \\\n14520525           -0.207020            0.030230             0.102600   \n27953107           -0.482600            0.049670             0.378180   \n33593487           -0.338770            0.052540             0.234350   \n35271294           -0.140154            0.050152             0.035734   \n35429088           -0.141230            0.077310             0.036810   \n44749111           -0.212410            0.129670             0.107990   \n46204665           -0.198935            0.039350             0.094515   \n49020666           -0.380863            0.040239             0.276443   \n49036279            0.037890            0.042060             0.142310   \n49303873            0.187200            0.025160             0.291620   \n52064391           -0.361820            0.028920             0.257400   \n52187854           -0.202898            0.027479             0.098478   \n52675628            0.026315            0.001394             0.130735   \n52845963           -0.076812            0.101680             0.027608   \n52913496           -0.382239            0.039663             0.277819   \n53609433           -0.107860            0.032900             0.003440   \n53649578           -0.078500            0.019830             0.025920   \n53938989           -0.207902            0.158567             0.103482   \n54713232           -0.119860            0.112580             0.015440   \n54904122            0.022046            0.093875             0.126466   \n54991934            0.039180            0.029000             0.143600   \n55043230            0.014500            0.044710             0.118920   \n55187658            0.078030            0.007850             0.182450   \n55531367           -0.079170            0.032310             0.025250   \n55768232           -0.078940            0.026830             0.025480   \n55805965            0.022680            0.021190             0.127100   \n55839051           -0.209020            0.079466             0.104600   \n55940994           -0.238870            0.122790             0.134450   \n56449305           -0.062096            0.100763             0.042324   \n57221413           -0.422530            0.002460             0.318110   \n\n          tenure.tenureType  \n14520525          LEASEHOLD  \n27953107          LEASEHOLD  \n33593487           FREEHOLD  \n35271294          LEASEHOLD  \n35429088                NaN  \n44749111           FREEHOLD  \n46204665          LEASEHOLD  \n49020666          LEASEHOLD  \n49036279          LEASEHOLD  \n49303873           FREEHOLD  \n52064391          LEASEHOLD  \n52187854          LEASEHOLD  \n52675628                NaN  \n52845963          LEASEHOLD  \n52913496          LEASEHOLD  \n53609433          LEASEHOLD  \n53649578                NaN  \n53938989           FREEHOLD  \n54713232  SHARE_OF_FREEHOLD  \n54904122  SHARE_OF_FREEHOLD  \n54991934           FREEHOLD  \n55043230          LEASEHOLD  \n55187658          LEASEHOLD  \n55531367                NaN  \n55768232                NaN  \n55805965          LEASEHOLD  \n55839051          LEASEHOLD  \n55940994          LEASEHOLD  \n56449305           FREEHOLD  \n57221413           FREEHOLD  ",
      "text/html": "<div>\n<style scoped>\n    .dataframe tbody tr th:only-of-type {\n        vertical-align: middle;\n    }\n\n    .dataframe tbody tr th {\n        vertical-align: top;\n    }\n\n    .dataframe thead th {\n        text-align: right;\n    }\n</style>\n<table border=\"1\" class=\"dataframe\">\n  <thead>\n    <tr style=\"text-align: right;\">\n      <th></th>\n      <th>Price</th>\n      <th>bedrooms</th>\n      <th>bathrooms</th>\n      <th>nearestStation</th>\n      <th>location.latitude</th>\n      <th>location.longitude</th>\n      <th>latitude_deviation</th>\n      <th>longitude_deviation</th>\n      <th>tenure.tenureType</th>\n    </tr>\n  </thead>\n  <tbody>\n    <tr>\n      <th>14520525</th>\n      <td>550000.0</td>\n      <td>3.0</td>\n      <td>1.0</td>\n      <td>0.274316</td>\n      <td>51.529950</td>\n      <td>-0.207020</td>\n      <td>0.030230</td>\n      <td>0.102600</td>\n      <td>LEASEHOLD</td>\n    </tr>\n    <tr>\n      <th>27953107</th>\n      <td>400000.0</td>\n      <td>2.0</td>\n      <td>2.0</td>\n      <td>0.305845</td>\n      <td>51.549390</td>\n      <td>-0.482600</td>\n      <td>0.049670</td>\n      <td>0.378180</td>\n      <td>LEASEHOLD</td>\n    </tr>\n    <tr>\n      <th>33593487</th>\n      <td>579950.0</td>\n      <td>2.0</td>\n      <td>1.0</td>\n      <td>0.438045</td>\n      <td>51.447180</td>\n      <td>-0.338770</td>\n      <td>0.052540</td>\n      <td>0.234350</td>\n      <td>FREEHOLD</td>\n    </tr>\n    <tr>\n      <th>35271294</th>\n      <td>370000.0</td>\n      <td>2.0</td>\n      <td>1.0</td>\n      <td>0.399307</td>\n      <td>51.449568</td>\n      <td>-0.140154</td>\n      <td>0.050152</td>\n      <td>0.035734</td>\n      <td>LEASEHOLD</td>\n    </tr>\n    <tr>\n      <th>35429088</th>\n      <td>599950.0</td>\n      <td>2.0</td>\n      <td>1.0</td>\n      <td>0.238187</td>\n      <td>51.577030</td>\n      <td>-0.141230</td>\n      <td>0.077310</td>\n      <td>0.036810</td>\n      <td>NaN</td>\n    </tr>\n    <tr>\n      <th>44749111</th>\n      <td>475000.0</td>\n      <td>2.0</td>\n      <td>1.0</td>\n      <td>0.410550</td>\n      <td>51.370050</td>\n      <td>-0.212410</td>\n      <td>0.129670</td>\n      <td>0.107990</td>\n      <td>FREEHOLD</td>\n    </tr>\n    <tr>\n      <th>46204665</th>\n      <td>435000.0</td>\n      <td>3.0</td>\n      <td>2.0</td>\n      <td>0.314779</td>\n      <td>51.539070</td>\n      <td>-0.198935</td>\n      <td>0.039350</td>\n      <td>0.094515</td>\n      <td>LEASEHOLD</td>\n    </tr>\n    <tr>\n      <th>49020666</th>\n      <td>200000.0</td>\n      <td>1.0</td>\n      <td>1.0</td>\n      <td>0.875911</td>\n      <td>51.539959</td>\n      <td>-0.380863</td>\n      <td>0.040239</td>\n      <td>0.276443</td>\n      <td>LEASEHOLD</td>\n    </tr>\n    <tr>\n      <th>49036279</th>\n      <td>275000.0</td>\n      <td>2.0</td>\n      <td>1.0</td>\n      <td>0.474368</td>\n      <td>51.541780</td>\n      <td>0.037890</td>\n      <td>0.042060</td>\n      <td>0.142310</td>\n      <td>LEASEHOLD</td>\n    </tr>\n    <tr>\n      <th>49303873</th>\n      <td>450000.0</td>\n      <td>3.0</td>\n      <td>2.0</td>\n      <td>0.577040</td>\n      <td>51.524880</td>\n      <td>0.187200</td>\n      <td>0.025160</td>\n      <td>0.291620</td>\n      <td>FREEHOLD</td>\n    </tr>\n    <tr>\n      <th>52064391</th>\n      <td>349950.0</td>\n      <td>2.0</td>\n      <td>2.0</td>\n      <td>0.212734</td>\n      <td>51.470800</td>\n      <td>-0.361820</td>\n      <td>0.028920</td>\n      <td>0.257400</td>\n      <td>LEASEHOLD</td>\n    </tr>\n    <tr>\n      <th>52187854</th>\n      <td>450000.0</td>\n      <td>1.0</td>\n      <td>1.0</td>\n      <td>0.446802</td>\n      <td>51.527199</td>\n      <td>-0.202898</td>\n      <td>0.027479</td>\n      <td>0.098478</td>\n      <td>LEASEHOLD</td>\n    </tr>\n    <tr>\n      <th>52675628</th>\n      <td>490000.0</td>\n      <td>2.0</td>\n      <td>2.0</td>\n      <td>0.215040</td>\n      <td>51.501114</td>\n      <td>0.026315</td>\n      <td>0.001394</td>\n      <td>0.130735</td>\n      <td>NaN</td>\n    </tr>\n    <tr>\n      <th>52845963</th>\n      <td>200000.0</td>\n      <td>2.0</td>\n      <td>1.0</td>\n      <td>0.650562</td>\n      <td>51.398040</td>\n      <td>-0.076812</td>\n      <td>0.101680</td>\n      <td>0.027608</td>\n      <td>LEASEHOLD</td>\n    </tr>\n    <tr>\n      <th>52913496</th>\n      <td>220000.0</td>\n      <td>1.0</td>\n      <td>1.0</td>\n      <td>0.945991</td>\n      <td>51.539383</td>\n      <td>-0.382239</td>\n      <td>0.039663</td>\n      <td>0.277819</td>\n      <td>LEASEHOLD</td>\n    </tr>\n    <tr>\n      <th>53609433</th>\n      <td>489995.0</td>\n      <td>1.0</td>\n      <td>1.0</td>\n      <td>0.087081</td>\n      <td>51.532620</td>\n      <td>-0.107860</td>\n      <td>0.032900</td>\n      <td>0.003440</td>\n      <td>LEASEHOLD</td>\n    </tr>\n    <tr>\n      <th>53649578</th>\n      <td>284950.0</td>\n      <td>1.0</td>\n      <td>1.0</td>\n      <td>0.806597</td>\n      <td>51.479890</td>\n      <td>-0.078500</td>\n      <td>0.019830</td>\n      <td>0.025920</td>\n      <td>NaN</td>\n    </tr>\n    <tr>\n      <th>53938989</th>\n      <td>450000.0</td>\n      <td>2.0</td>\n      <td>1.0</td>\n      <td>0.775203</td>\n      <td>51.658287</td>\n      <td>-0.207902</td>\n      <td>0.158567</td>\n      <td>0.103482</td>\n      <td>FREEHOLD</td>\n    </tr>\n    <tr>\n      <th>54713232</th>\n      <td>332000.0</td>\n      <td>2.0</td>\n      <td>1.0</td>\n      <td>0.319226</td>\n      <td>51.612300</td>\n      <td>-0.119860</td>\n      <td>0.112580</td>\n      <td>0.015440</td>\n      <td>SHARE_OF_FREEHOLD</td>\n    </tr>\n    <tr>\n      <th>54904122</th>\n      <td>365000.0</td>\n      <td>2.0</td>\n      <td>1.0</td>\n      <td>0.260722</td>\n      <td>51.593595</td>\n      <td>0.022046</td>\n      <td>0.093875</td>\n      <td>0.126466</td>\n      <td>SHARE_OF_FREEHOLD</td>\n    </tr>\n    <tr>\n      <th>54991934</th>\n      <td>430000.0</td>\n      <td>3.0</td>\n      <td>1.0</td>\n      <td>0.497268</td>\n      <td>51.528720</td>\n      <td>0.039180</td>\n      <td>0.029000</td>\n      <td>0.143600</td>\n      <td>FREEHOLD</td>\n    </tr>\n    <tr>\n      <th>55043230</th>\n      <td>260000.0</td>\n      <td>1.0</td>\n      <td>1.0</td>\n      <td>0.384607</td>\n      <td>51.544430</td>\n      <td>0.014500</td>\n      <td>0.044710</td>\n      <td>0.118920</td>\n      <td>LEASEHOLD</td>\n    </tr>\n    <tr>\n      <th>55187658</th>\n      <td>430000.0</td>\n      <td>2.0</td>\n      <td>2.0</td>\n      <td>0.289033</td>\n      <td>51.507570</td>\n      <td>0.078030</td>\n      <td>0.007850</td>\n      <td>0.182450</td>\n      <td>LEASEHOLD</td>\n    </tr>\n    <tr>\n      <th>55531367</th>\n      <td>599950.0</td>\n      <td>2.0</td>\n      <td>1.0</td>\n      <td>0.406725</td>\n      <td>51.467410</td>\n      <td>-0.079170</td>\n      <td>0.032310</td>\n      <td>0.025250</td>\n      <td>NaN</td>\n    </tr>\n    <tr>\n      <th>55768232</th>\n      <td>550000.0</td>\n      <td>2.0</td>\n      <td>1.0</td>\n      <td>0.478349</td>\n      <td>51.472890</td>\n      <td>-0.078940</td>\n      <td>0.026830</td>\n      <td>0.025480</td>\n      <td>NaN</td>\n    </tr>\n    <tr>\n      <th>55805965</th>\n      <td>280000.0</td>\n      <td>2.0</td>\n      <td>1.0</td>\n      <td>0.742859</td>\n      <td>51.520910</td>\n      <td>0.022680</td>\n      <td>0.021190</td>\n      <td>0.127100</td>\n      <td>LEASEHOLD</td>\n    </tr>\n    <tr>\n      <th>55839051</th>\n      <td>599950.0</td>\n      <td>2.0</td>\n      <td>1.0</td>\n      <td>0.259168</td>\n      <td>51.579186</td>\n      <td>-0.209020</td>\n      <td>0.079466</td>\n      <td>0.104600</td>\n      <td>LEASEHOLD</td>\n    </tr>\n    <tr>\n      <th>55940994</th>\n      <td>385000.0</td>\n      <td>2.0</td>\n      <td>2.0</td>\n      <td>0.403987</td>\n      <td>51.376930</td>\n      <td>-0.238870</td>\n      <td>0.122790</td>\n      <td>0.134450</td>\n      <td>LEASEHOLD</td>\n    </tr>\n    <tr>\n      <th>56449305</th>\n      <td>380000.0</td>\n      <td>2.0</td>\n      <td>1.0</td>\n      <td>0.310271</td>\n      <td>51.600483</td>\n      <td>-0.062096</td>\n      <td>0.100763</td>\n      <td>0.042324</td>\n      <td>FREEHOLD</td>\n    </tr>\n    <tr>\n      <th>57221413</th>\n      <td>475000.0</td>\n      <td>3.0</td>\n      <td>2.0</td>\n      <td>0.409784</td>\n      <td>51.497260</td>\n      <td>-0.422530</td>\n      <td>0.002460</td>\n      <td>0.318110</td>\n      <td>FREEHOLD</td>\n    </tr>\n  </tbody>\n</table>\n</div>"
     },
     "execution_count": 8,
     "metadata": {},
     "output_type": "execute_result"
    }
   ],
   "source": [
    "df.head(30)"
   ]
  },
  {
   "cell_type": "code",
   "execution_count": 9,
   "metadata": {
    "execution": {
     "iopub.execute_input": "2022-11-20T19:53:33.805377Z",
     "iopub.status.busy": "2022-11-20T19:53:33.805175Z",
     "iopub.status.idle": "2022-11-20T19:53:33.816256Z",
     "shell.execute_reply": "2022-11-20T19:53:33.815629Z",
     "shell.execute_reply.started": "2022-11-20T19:53:33.805354Z"
    }
   },
   "outputs": [
    {
     "data": {
      "text/plain": "Price                     0\nbedrooms                  0\nbathrooms                 0\nnearestStation            0\nlocation.latitude         0\nlocation.longitude        0\nlatitude_deviation        0\nlongitude_deviation       0\ntenure.tenureType      2744\ndtype: int64"
     },
     "execution_count": 9,
     "metadata": {},
     "output_type": "execute_result"
    }
   ],
   "source": [
    "df.isnull().sum()"
   ]
  },
  {
   "cell_type": "code",
   "execution_count": 10,
   "metadata": {
    "execution": {
     "iopub.execute_input": "2022-11-20T19:53:33.817126Z",
     "iopub.status.busy": "2022-11-20T19:53:33.816937Z",
     "iopub.status.idle": "2022-11-20T19:53:33.881856Z",
     "shell.execute_reply": "2022-11-20T19:53:33.881197Z",
     "shell.execute_reply.started": "2022-11-20T19:53:33.817109Z"
    }
   },
   "outputs": [
    {
     "name": "stdout",
     "output_type": "stream",
     "text": [
      "<class 'pandas.core.frame.DataFrame'>\n",
      "Int64Index: 46871 entries, 14520525 to 126181118\n",
      "Data columns (total 9 columns):\n",
      " #   Column               Non-Null Count  Dtype  \n",
      "---  ------               --------------  -----  \n",
      " 0   Price                46871 non-null  float64\n",
      " 1   bedrooms             46871 non-null  float64\n",
      " 2   bathrooms            46871 non-null  float64\n",
      " 3   nearestStation       46871 non-null  float64\n",
      " 4   location.latitude    46871 non-null  float64\n",
      " 5   location.longitude   46871 non-null  float64\n",
      " 6   latitude_deviation   46871 non-null  float64\n",
      " 7   longitude_deviation  46871 non-null  float64\n",
      " 8   tenure.tenureType    44127 non-null  object \n",
      "dtypes: float64(8), object(1)\n",
      "memory usage: 3.6+ MB\n"
     ]
    },
    {
     "data": {
      "text/plain": "                       count           mean            std            min  \\\nPrice                46871.0  425069.390775  107227.324906  100000.000000   \nbedrooms             46871.0       1.992469       0.828837       1.000000   \nbathrooms            46871.0       1.182074       0.409879       1.000000   \nnearestStation       46871.0       0.438847       0.325942       0.000000   \nlocation.latitude    46871.0      51.497049       0.077085      51.298317   \nlocation.longitude   46871.0      -0.113269       0.156489      -0.498315   \nlatitude_deviation   46871.0       0.064317       0.042573       0.000000   \nlongitude_deviation  46871.0       0.124202       0.095607       0.000000   \n\n                               25%            50%            75%  \\\nPrice                349950.000000  425000.000000  515000.000000   \nbedrooms                  1.000000       2.000000       3.000000   \nbathrooms                 1.000000       1.000000       1.000000   \nnearestStation            0.227169       0.367971       0.559620   \nlocation.latitude        51.438861      51.499977      51.556183   \nlocation.longitude       -0.210796      -0.102230      -0.010343   \nlatitude_deviation        0.028876       0.058595       0.094362   \nlongitude_deviation       0.043560       0.098984       0.192684   \n\n                               max  \nPrice                600000.000000  \nbedrooms                  7.000000  \nbathrooms                 5.000000  \nnearestStation            7.197700  \nlocation.latitude        51.683185  \nlocation.longitude        0.279726  \nlatitude_deviation        0.201403  \nlongitude_deviation       0.393895  ",
      "text/html": "<div>\n<style scoped>\n    .dataframe tbody tr th:only-of-type {\n        vertical-align: middle;\n    }\n\n    .dataframe tbody tr th {\n        vertical-align: top;\n    }\n\n    .dataframe thead th {\n        text-align: right;\n    }\n</style>\n<table border=\"1\" class=\"dataframe\">\n  <thead>\n    <tr style=\"text-align: right;\">\n      <th></th>\n      <th>count</th>\n      <th>mean</th>\n      <th>std</th>\n      <th>min</th>\n      <th>25%</th>\n      <th>50%</th>\n      <th>75%</th>\n      <th>max</th>\n    </tr>\n  </thead>\n  <tbody>\n    <tr>\n      <th>Price</th>\n      <td>46871.0</td>\n      <td>425069.390775</td>\n      <td>107227.324906</td>\n      <td>100000.000000</td>\n      <td>349950.000000</td>\n      <td>425000.000000</td>\n      <td>515000.000000</td>\n      <td>600000.000000</td>\n    </tr>\n    <tr>\n      <th>bedrooms</th>\n      <td>46871.0</td>\n      <td>1.992469</td>\n      <td>0.828837</td>\n      <td>1.000000</td>\n      <td>1.000000</td>\n      <td>2.000000</td>\n      <td>3.000000</td>\n      <td>7.000000</td>\n    </tr>\n    <tr>\n      <th>bathrooms</th>\n      <td>46871.0</td>\n      <td>1.182074</td>\n      <td>0.409879</td>\n      <td>1.000000</td>\n      <td>1.000000</td>\n      <td>1.000000</td>\n      <td>1.000000</td>\n      <td>5.000000</td>\n    </tr>\n    <tr>\n      <th>nearestStation</th>\n      <td>46871.0</td>\n      <td>0.438847</td>\n      <td>0.325942</td>\n      <td>0.000000</td>\n      <td>0.227169</td>\n      <td>0.367971</td>\n      <td>0.559620</td>\n      <td>7.197700</td>\n    </tr>\n    <tr>\n      <th>location.latitude</th>\n      <td>46871.0</td>\n      <td>51.497049</td>\n      <td>0.077085</td>\n      <td>51.298317</td>\n      <td>51.438861</td>\n      <td>51.499977</td>\n      <td>51.556183</td>\n      <td>51.683185</td>\n    </tr>\n    <tr>\n      <th>location.longitude</th>\n      <td>46871.0</td>\n      <td>-0.113269</td>\n      <td>0.156489</td>\n      <td>-0.498315</td>\n      <td>-0.210796</td>\n      <td>-0.102230</td>\n      <td>-0.010343</td>\n      <td>0.279726</td>\n    </tr>\n    <tr>\n      <th>latitude_deviation</th>\n      <td>46871.0</td>\n      <td>0.064317</td>\n      <td>0.042573</td>\n      <td>0.000000</td>\n      <td>0.028876</td>\n      <td>0.058595</td>\n      <td>0.094362</td>\n      <td>0.201403</td>\n    </tr>\n    <tr>\n      <th>longitude_deviation</th>\n      <td>46871.0</td>\n      <td>0.124202</td>\n      <td>0.095607</td>\n      <td>0.000000</td>\n      <td>0.043560</td>\n      <td>0.098984</td>\n      <td>0.192684</td>\n      <td>0.393895</td>\n    </tr>\n  </tbody>\n</table>\n</div>"
     },
     "execution_count": 10,
     "metadata": {},
     "output_type": "execute_result"
    }
   ],
   "source": [
    "df.info()\n",
    "df.describe()\n",
    "df.describe().T"
   ]
  },
  {
   "cell_type": "code",
   "execution_count": 11,
   "metadata": {
    "execution": {
     "iopub.execute_input": "2022-11-20T19:53:33.884723Z",
     "iopub.status.busy": "2022-11-20T19:53:33.884187Z",
     "iopub.status.idle": "2022-11-20T19:53:33.931951Z",
     "shell.execute_reply": "2022-11-20T19:53:33.931227Z",
     "shell.execute_reply.started": "2022-11-20T19:53:33.884701Z"
    }
   },
   "outputs": [
    {
     "name": "stdout",
     "output_type": "stream",
     "text": [
      "dataframe contract due to cleaning: 46871 ==> 46871\n"
     ]
    },
    {
     "data": {
      "text/plain": "                       count           mean            std            min  \\\nPrice                46871.0  425069.390775  107227.324906  100000.000000   \nbedrooms             46871.0       1.992469       0.828837       1.000000   \nbathrooms            46871.0       1.182074       0.409879       1.000000   \nnearestStation       46871.0       0.438847       0.325942       0.000000   \nlocation.latitude    46871.0      51.497049       0.077085      51.298317   \nlocation.longitude   46871.0      -0.113269       0.156489      -0.498315   \nlatitude_deviation   46871.0       0.064317       0.042573       0.000000   \nlongitude_deviation  46871.0       0.124202       0.095607       0.000000   \n\n                               25%            50%            75%  \\\nPrice                349950.000000  425000.000000  515000.000000   \nbedrooms                  1.000000       2.000000       3.000000   \nbathrooms                 1.000000       1.000000       1.000000   \nnearestStation            0.227169       0.367971       0.559620   \nlocation.latitude        51.438861      51.499977      51.556183   \nlocation.longitude       -0.210796      -0.102230      -0.010343   \nlatitude_deviation        0.028876       0.058595       0.094362   \nlongitude_deviation       0.043560       0.098984       0.192684   \n\n                               max  \nPrice                600000.000000  \nbedrooms                  7.000000  \nbathrooms                 5.000000  \nnearestStation            7.197700  \nlocation.latitude        51.683185  \nlocation.longitude        0.279726  \nlatitude_deviation        0.201403  \nlongitude_deviation       0.393895  ",
      "text/html": "<div>\n<style scoped>\n    .dataframe tbody tr th:only-of-type {\n        vertical-align: middle;\n    }\n\n    .dataframe tbody tr th {\n        vertical-align: top;\n    }\n\n    .dataframe thead th {\n        text-align: right;\n    }\n</style>\n<table border=\"1\" class=\"dataframe\">\n  <thead>\n    <tr style=\"text-align: right;\">\n      <th></th>\n      <th>count</th>\n      <th>mean</th>\n      <th>std</th>\n      <th>min</th>\n      <th>25%</th>\n      <th>50%</th>\n      <th>75%</th>\n      <th>max</th>\n    </tr>\n  </thead>\n  <tbody>\n    <tr>\n      <th>Price</th>\n      <td>46871.0</td>\n      <td>425069.390775</td>\n      <td>107227.324906</td>\n      <td>100000.000000</td>\n      <td>349950.000000</td>\n      <td>425000.000000</td>\n      <td>515000.000000</td>\n      <td>600000.000000</td>\n    </tr>\n    <tr>\n      <th>bedrooms</th>\n      <td>46871.0</td>\n      <td>1.992469</td>\n      <td>0.828837</td>\n      <td>1.000000</td>\n      <td>1.000000</td>\n      <td>2.000000</td>\n      <td>3.000000</td>\n      <td>7.000000</td>\n    </tr>\n    <tr>\n      <th>bathrooms</th>\n      <td>46871.0</td>\n      <td>1.182074</td>\n      <td>0.409879</td>\n      <td>1.000000</td>\n      <td>1.000000</td>\n      <td>1.000000</td>\n      <td>1.000000</td>\n      <td>5.000000</td>\n    </tr>\n    <tr>\n      <th>nearestStation</th>\n      <td>46871.0</td>\n      <td>0.438847</td>\n      <td>0.325942</td>\n      <td>0.000000</td>\n      <td>0.227169</td>\n      <td>0.367971</td>\n      <td>0.559620</td>\n      <td>7.197700</td>\n    </tr>\n    <tr>\n      <th>location.latitude</th>\n      <td>46871.0</td>\n      <td>51.497049</td>\n      <td>0.077085</td>\n      <td>51.298317</td>\n      <td>51.438861</td>\n      <td>51.499977</td>\n      <td>51.556183</td>\n      <td>51.683185</td>\n    </tr>\n    <tr>\n      <th>location.longitude</th>\n      <td>46871.0</td>\n      <td>-0.113269</td>\n      <td>0.156489</td>\n      <td>-0.498315</td>\n      <td>-0.210796</td>\n      <td>-0.102230</td>\n      <td>-0.010343</td>\n      <td>0.279726</td>\n    </tr>\n    <tr>\n      <th>latitude_deviation</th>\n      <td>46871.0</td>\n      <td>0.064317</td>\n      <td>0.042573</td>\n      <td>0.000000</td>\n      <td>0.028876</td>\n      <td>0.058595</td>\n      <td>0.094362</td>\n      <td>0.201403</td>\n    </tr>\n    <tr>\n      <th>longitude_deviation</th>\n      <td>46871.0</td>\n      <td>0.124202</td>\n      <td>0.095607</td>\n      <td>0.000000</td>\n      <td>0.043560</td>\n      <td>0.098984</td>\n      <td>0.192684</td>\n      <td>0.393895</td>\n    </tr>\n  </tbody>\n</table>\n</div>"
     },
     "execution_count": 11,
     "metadata": {},
     "output_type": "execute_result"
    }
   ],
   "source": [
    "old_length = len(df)\n",
    "\n",
    "df = preprocess(df, version=VERSION)\n",
    "\n",
    "print(f\"dataframe contract due to cleaning: {old_length} ==> {len(df)}\")\n",
    "old_length = len(df)\n",
    "\n",
    "df.describe().T"
   ]
  },
  {
   "cell_type": "code",
   "execution_count": 12,
   "metadata": {
    "execution": {
     "iopub.execute_input": "2022-11-20T19:53:33.933448Z",
     "iopub.status.busy": "2022-11-20T19:53:33.933228Z",
     "iopub.status.idle": "2022-11-20T19:53:33.943556Z",
     "shell.execute_reply": "2022-11-20T19:53:33.942922Z",
     "shell.execute_reply.started": "2022-11-20T19:53:33.933430Z"
    }
   },
   "outputs": [
    {
     "data": {
      "text/plain": "Price                     0\nbedrooms                  0\nbathrooms                 0\nnearestStation            0\nlocation.latitude         0\nlocation.longitude        0\nlatitude_deviation        0\nlongitude_deviation       0\ntenure.tenureType      2744\ndtype: int64"
     },
     "execution_count": 12,
     "metadata": {},
     "output_type": "execute_result"
    }
   ],
   "source": [
    "df.isna().sum()"
   ]
  },
  {
   "cell_type": "code",
   "execution_count": 13,
   "metadata": {
    "execution": {
     "iopub.execute_input": "2022-11-20T19:53:33.945106Z",
     "iopub.status.busy": "2022-11-20T19:53:33.944482Z",
     "iopub.status.idle": "2022-11-20T19:53:33.978386Z",
     "shell.execute_reply": "2022-11-20T19:53:33.977717Z",
     "shell.execute_reply.started": "2022-11-20T19:53:33.945087Z"
    }
   },
   "outputs": [
    {
     "name": "stdout",
     "output_type": "stream",
     "text": [
      "46871 ==> 44127\n"
     ]
    },
    {
     "data": {
      "text/plain": "               Price      bedrooms    bathrooms  nearestStation  \\\ncount   44127.000000  44127.000000  44127.00000    44127.000000   \nmean   425224.642373      1.990981      1.18134        0.438522   \nstd    107203.332660      0.827621      0.40893        0.324152   \nmin    100000.000000      1.000000      1.00000        0.000000   \n25%    349950.000000      1.000000      1.00000        0.227551   \n50%    425000.000000      2.000000      1.00000        0.368351   \n75%    515000.000000      3.000000      1.00000        0.559486   \nmax    600000.000000      7.000000      5.00000        7.197700   \n\n       location.latitude  location.longitude  latitude_deviation  \\\ncount       44127.000000        44127.000000        44127.000000   \nmean           51.496711           -0.113106            0.064544   \nstd             0.077267            0.155863            0.042583   \nmin            51.298317           -0.498315            0.000000   \n25%            51.438303           -0.210633            0.029023   \n50%            51.498780           -0.101910            0.058904   \n75%            51.556343           -0.010854            0.094620   \nmax            51.683185            0.279726            0.201403   \n\n       longitude_deviation  \ncount         44127.000000  \nmean              0.123699  \nstd               0.095220  \nmin               0.000000  \n25%               0.043551  \n50%               0.098750  \n75%               0.191727  \nmax               0.393895  ",
      "text/html": "<div>\n<style scoped>\n    .dataframe tbody tr th:only-of-type {\n        vertical-align: middle;\n    }\n\n    .dataframe tbody tr th {\n        vertical-align: top;\n    }\n\n    .dataframe thead th {\n        text-align: right;\n    }\n</style>\n<table border=\"1\" class=\"dataframe\">\n  <thead>\n    <tr style=\"text-align: right;\">\n      <th></th>\n      <th>Price</th>\n      <th>bedrooms</th>\n      <th>bathrooms</th>\n      <th>nearestStation</th>\n      <th>location.latitude</th>\n      <th>location.longitude</th>\n      <th>latitude_deviation</th>\n      <th>longitude_deviation</th>\n    </tr>\n  </thead>\n  <tbody>\n    <tr>\n      <th>count</th>\n      <td>44127.000000</td>\n      <td>44127.000000</td>\n      <td>44127.00000</td>\n      <td>44127.000000</td>\n      <td>44127.000000</td>\n      <td>44127.000000</td>\n      <td>44127.000000</td>\n      <td>44127.000000</td>\n    </tr>\n    <tr>\n      <th>mean</th>\n      <td>425224.642373</td>\n      <td>1.990981</td>\n      <td>1.18134</td>\n      <td>0.438522</td>\n      <td>51.496711</td>\n      <td>-0.113106</td>\n      <td>0.064544</td>\n      <td>0.123699</td>\n    </tr>\n    <tr>\n      <th>std</th>\n      <td>107203.332660</td>\n      <td>0.827621</td>\n      <td>0.40893</td>\n      <td>0.324152</td>\n      <td>0.077267</td>\n      <td>0.155863</td>\n      <td>0.042583</td>\n      <td>0.095220</td>\n    </tr>\n    <tr>\n      <th>min</th>\n      <td>100000.000000</td>\n      <td>1.000000</td>\n      <td>1.00000</td>\n      <td>0.000000</td>\n      <td>51.298317</td>\n      <td>-0.498315</td>\n      <td>0.000000</td>\n      <td>0.000000</td>\n    </tr>\n    <tr>\n      <th>25%</th>\n      <td>349950.000000</td>\n      <td>1.000000</td>\n      <td>1.00000</td>\n      <td>0.227551</td>\n      <td>51.438303</td>\n      <td>-0.210633</td>\n      <td>0.029023</td>\n      <td>0.043551</td>\n    </tr>\n    <tr>\n      <th>50%</th>\n      <td>425000.000000</td>\n      <td>2.000000</td>\n      <td>1.00000</td>\n      <td>0.368351</td>\n      <td>51.498780</td>\n      <td>-0.101910</td>\n      <td>0.058904</td>\n      <td>0.098750</td>\n    </tr>\n    <tr>\n      <th>75%</th>\n      <td>515000.000000</td>\n      <td>3.000000</td>\n      <td>1.00000</td>\n      <td>0.559486</td>\n      <td>51.556343</td>\n      <td>-0.010854</td>\n      <td>0.094620</td>\n      <td>0.191727</td>\n    </tr>\n    <tr>\n      <th>max</th>\n      <td>600000.000000</td>\n      <td>7.000000</td>\n      <td>5.00000</td>\n      <td>7.197700</td>\n      <td>51.683185</td>\n      <td>0.279726</td>\n      <td>0.201403</td>\n      <td>0.393895</td>\n    </tr>\n  </tbody>\n</table>\n</div>"
     },
     "execution_count": 13,
     "metadata": {},
     "output_type": "execute_result"
    }
   ],
   "source": [
    "df = df.dropna()\n",
    "print(f\"{old_length} ==> {len(df)}\")\n",
    "old_length = len(df)\n",
    "df.describe()"
   ]
  },
  {
   "cell_type": "code",
   "execution_count": 14,
   "metadata": {
    "execution": {
     "iopub.execute_input": "2022-11-20T19:53:33.979552Z",
     "iopub.status.busy": "2022-11-20T19:53:33.979330Z",
     "iopub.status.idle": "2022-11-20T19:53:34.007052Z",
     "shell.execute_reply": "2022-11-20T19:53:34.006198Z",
     "shell.execute_reply.started": "2022-11-20T19:53:33.979532Z"
    }
   },
   "outputs": [
    {
     "name": "stdout",
     "output_type": "stream",
     "text": [
      "(39714, 11) (4413, 11) (39714, 1) (4413, 1) (39714, 1) (4413, 1) (39714, 1) (4413, 1)\n"
     ]
    }
   ],
   "source": [
    "X_train, X_test, y_train, y_test, X_train_index, X_test_index, y_train_index, y_test_index, df_features, df_labels = create_train_test_data(\n",
    "    df,\n",
    "    categories=categories,\n",
    "    RANDOM_STATE=RANDOM_STATE, return_index=True,\n",
    "    drop_nulls=True)\n",
    "\n",
    "print(X_train.shape, X_test.shape, y_train.shape, y_test.shape, X_train_index.shape, X_test_index.shape,\n",
    "      y_train_index.shape, y_test_index.shape)\n"
   ]
  },
  {
   "cell_type": "code",
   "execution_count": 15,
   "metadata": {
    "execution": {
     "iopub.execute_input": "2022-11-20T19:53:34.034062Z",
     "iopub.status.busy": "2022-11-20T19:53:34.033863Z",
     "iopub.status.idle": "2022-11-20T19:53:36.648397Z",
     "shell.execute_reply": "2022-11-20T19:53:36.647546Z",
     "shell.execute_reply.started": "2022-11-20T19:53:34.034045Z"
    }
   },
   "outputs": [
    {
     "name": "stderr",
     "output_type": "stream",
     "text": [
      "2022-11-21 09:46:49.611830: I tensorflow/core/platform/cpu_feature_guard.cc:193] This TensorFlow binary is optimized with oneAPI Deep Neural Network Library (oneDNN) to use the following CPU instructions in performance-critical operations:  AVX2\n",
      "To enable them in other operations, rebuild TensorFlow with the appropriate compiler flags.\n"
     ]
    },
    {
     "data": {
      "text/plain": "'recommended simple model/mse +norm +epochs=5'"
     },
     "execution_count": 15,
     "metadata": {},
     "output_type": "execute_result"
    }
   ],
   "source": [
    "trainable_model, ALGORITHM_DETAIL, chosen_epochs = make_simple_ann(selected_neural_network)\n",
    "\n",
    "ALGORITHM_DETAIL"
   ]
  },
  {
   "cell_type": "code",
   "execution_count": 16,
   "metadata": {
    "execution": {
     "iopub.execute_input": "2022-11-20T19:53:36.651140Z",
     "iopub.status.busy": "2022-11-20T19:53:36.650390Z",
     "iopub.status.idle": "2022-11-20T20:03:39.917107Z",
     "shell.execute_reply": "2022-11-20T20:03:39.916490Z",
     "shell.execute_reply.started": "2022-11-20T19:53:36.651115Z"
    },
    "pycharm": {
     "name": "#%%time\n"
    }
   },
   "outputs": [
    {
     "name": "stdout",
     "output_type": "stream",
     "text": [
      "Epoch 1/5\n",
      "993/993 [==============================] - 5s 4ms/step - loss: 23577034752.0000 - val_loss: 9379240960.0000\n",
      "Epoch 2/5\n",
      "993/993 [==============================] - 4s 4ms/step - loss: 8767691776.0000 - val_loss: 8188346880.0000\n",
      "Epoch 3/5\n",
      "993/993 [==============================] - 3s 3ms/step - loss: 8008462848.0000 - val_loss: 7625624576.0000\n",
      "Epoch 4/5\n",
      "993/993 [==============================] - 4s 4ms/step - loss: 7615431168.0000 - val_loss: 7337847296.0000\n",
      "Epoch 5/5\n",
      "993/993 [==============================] - 3s 3ms/step - loss: 7387908096.0000 - val_loss: 7220310016.0000\n"
     ]
    }
   ],
   "source": [
    "history = trainable_model.fit(\n",
    "    X_train,\n",
    "    y_train,\n",
    "    epochs=chosen_epochs,\n",
    "    # verbose=0 to suppress logging.\n",
    "    verbose=1,\n",
    "    # Calculate validation results on 20% of the training data.\n",
    "    validation_split=0.2,\n",
    ")"
   ]
  },
  {
   "cell_type": "code",
   "execution_count": 17,
   "metadata": {
    "execution": {
     "iopub.execute_input": "2022-11-20T20:03:39.918763Z",
     "iopub.status.busy": "2022-11-20T20:03:39.918545Z",
     "iopub.status.idle": "2022-11-20T20:03:39.928299Z",
     "shell.execute_reply": "2022-11-20T20:03:39.927525Z",
     "shell.execute_reply.started": "2022-11-20T20:03:39.918743Z"
    }
   },
   "outputs": [
    {
     "data": {
      "text/plain": "           loss      val_loss  epoch\n0  2.357703e+10  9.379241e+09      0\n1  8.767692e+09  8.188347e+09      1\n2  8.008463e+09  7.625625e+09      2\n3  7.615431e+09  7.337847e+09      3\n4  7.387908e+09  7.220310e+09      4",
      "text/html": "<div>\n<style scoped>\n    .dataframe tbody tr th:only-of-type {\n        vertical-align: middle;\n    }\n\n    .dataframe tbody tr th {\n        vertical-align: top;\n    }\n\n    .dataframe thead th {\n        text-align: right;\n    }\n</style>\n<table border=\"1\" class=\"dataframe\">\n  <thead>\n    <tr style=\"text-align: right;\">\n      <th></th>\n      <th>loss</th>\n      <th>val_loss</th>\n      <th>epoch</th>\n    </tr>\n  </thead>\n  <tbody>\n    <tr>\n      <th>0</th>\n      <td>2.357703e+10</td>\n      <td>9.379241e+09</td>\n      <td>0</td>\n    </tr>\n    <tr>\n      <th>1</th>\n      <td>8.767692e+09</td>\n      <td>8.188347e+09</td>\n      <td>1</td>\n    </tr>\n    <tr>\n      <th>2</th>\n      <td>8.008463e+09</td>\n      <td>7.625625e+09</td>\n      <td>2</td>\n    </tr>\n    <tr>\n      <th>3</th>\n      <td>7.615431e+09</td>\n      <td>7.337847e+09</td>\n      <td>3</td>\n    </tr>\n    <tr>\n      <th>4</th>\n      <td>7.387908e+09</td>\n      <td>7.220310e+09</td>\n      <td>4</td>\n    </tr>\n  </tbody>\n</table>\n</div>"
     },
     "execution_count": 17,
     "metadata": {},
     "output_type": "execute_result"
    }
   ],
   "source": [
    "hist = pd.DataFrame(history.history)\n",
    "hist['epoch'] = history.epoch\n",
    "hist.tail()"
   ]
  },
  {
   "cell_type": "code",
   "execution_count": 18,
   "metadata": {
    "execution": {
     "iopub.execute_input": "2022-11-20T20:03:39.929255Z",
     "iopub.status.busy": "2022-11-20T20:03:39.929054Z",
     "iopub.status.idle": "2022-11-20T20:03:40.066061Z",
     "shell.execute_reply": "2022-11-20T20:03:40.065442Z",
     "shell.execute_reply.started": "2022-11-20T20:03:39.929229Z"
    }
   },
   "outputs": [
    {
     "data": {
      "text/plain": "<Figure size 640x480 with 1 Axes>",
      "image/png": "[encoded data removed]"
     },
     "metadata": {},
     "output_type": "display_data"
    }
   ],
   "source": [
    "def plot_loss(history):\n",
    "    plt.plot(history.history['loss'], label='loss')\n",
    "    plt.plot(history.history['val_loss'], label='val_loss')\n",
    "    #plt.ylim([0, 10])\n",
    "    plt.ylim([min(history.history['val_loss']), max(history.history['val_loss'])])\n",
    "    plt.xlabel('Epoch')\n",
    "    plt.ylabel('Error [Property Price]')\n",
    "    plt.legend()\n",
    "    plt.grid(True)\n",
    "\n",
    "\n",
    "plot_loss(history)"
   ]
  },
  {
   "cell_type": "code",
   "execution_count": 19,
   "metadata": {
    "execution": {
     "iopub.execute_input": "2022-11-20T20:03:40.067252Z",
     "iopub.status.busy": "2022-11-20T20:03:40.067034Z",
     "iopub.status.idle": "2022-11-20T20:03:40.310237Z",
     "shell.execute_reply": "2022-11-20T20:03:40.309590Z",
     "shell.execute_reply.started": "2022-11-20T20:03:40.067225Z"
    }
   },
   "outputs": [
    {
     "name": "stdout",
     "output_type": "stream",
     "text": [
      "138/138 [==============================] - 0s 2ms/step\n"
     ]
    }
   ],
   "source": [
    "y_pred = trainable_model.predict(X_test)"
   ]
  },
  {
   "cell_type": "code",
   "execution_count": 20,
   "metadata": {
    "execution": {
     "iopub.execute_input": "2022-11-20T20:03:40.312133Z",
     "iopub.status.busy": "2022-11-20T20:03:40.311873Z",
     "iopub.status.idle": "2022-11-20T20:03:40.319180Z",
     "shell.execute_reply": "2022-11-20T20:03:40.318578Z",
     "shell.execute_reply.started": "2022-11-20T20:03:40.312110Z"
    }
   },
   "outputs": [
    {
     "name": "stdout",
     "output_type": "stream",
     "text": [
      "----------Neural Network Simplified----------\n",
      "R square Accuracy 0.3715158628653412\n",
      "Mean Absolute Error Accuracy 69236.98982055858\n",
      "Mean Squared Error Accuracy 7099611744.346023\n",
      "Root Mean Squared Error 84259.19382682237\n"
     ]
    }
   ],
   "source": [
    "y_pred = y_pred.reshape((-1, 1))\n",
    "\n",
    "R2 = r2_score(y_test, y_pred)\n",
    "MAE = mean_absolute_error(y_test, y_pred)\n",
    "MSE = mean_squared_error(y_test, y_pred)\n",
    "RMSE = math.sqrt(MSE)\n",
    "print('-' * 10 + ALGORITHM + '-' * 10)\n",
    "print('R square Accuracy', R2)\n",
    "print('Mean Absolute Error Accuracy', MAE)\n",
    "print('Mean Squared Error Accuracy', MSE)\n",
    "print('Root Mean Squared Error', RMSE)"
   ]
  },
  {
   "cell_type": "code",
   "execution_count": 21,
   "metadata": {
    "execution": {
     "iopub.execute_input": "2022-11-20T20:03:40.320207Z",
     "iopub.status.busy": "2022-11-20T20:03:40.319989Z",
     "iopub.status.idle": "2022-11-20T20:03:40.324733Z",
     "shell.execute_reply": "2022-11-20T20:03:40.323779Z",
     "shell.execute_reply.started": "2022-11-20T20:03:40.320188Z"
    }
   },
   "outputs": [],
   "source": [
    "if debug_mode:\n",
    "    print(y_test_index.reshape((-1, 1)).shape);\n",
    "    print(y_pred.reshape((-1, 1)).shape);\n",
    "    print(y_test.shape);\n",
    "    print(y_test_index.shape);\n",
    "    print(y_pred.shape);\n",
    "    print(y_test.shape)"
   ]
  },
  {
   "cell_type": "code",
   "execution_count": 22,
   "metadata": {
    "execution": {
     "iopub.execute_input": "2022-11-20T20:03:40.325818Z",
     "iopub.status.busy": "2022-11-20T20:03:40.325608Z",
     "iopub.status.idle": "2022-11-20T20:03:40.341299Z",
     "shell.execute_reply": "2022-11-20T20:03:40.340334Z",
     "shell.execute_reply.started": "2022-11-20T20:03:40.325798Z"
    }
   },
   "outputs": [
    {
     "data": {
      "text/plain": "             actual     predicted    difference   diff 1 %   diff 2 %\nreference                                                            \n85490754   400000.0  360039.65625   39960.34375   9.990086  11.098873\n119328242  369950.0  414633.15625   44683.15625  12.078161  10.776552\n125716790  350000.0  437373.59375   87373.59375  24.963884  19.976879\n122440040  549000.0  433280.53125  115719.46875  21.078227  26.707747\n120508103  495000.0  476715.31250   18284.68750   3.693876   3.835557\n...             ...           ...           ...        ...        ...\n68620869   475000.0  603585.25000  128585.25000  27.070579  21.303577\n85735665   575000.0  667727.75000   92727.75000  16.126565  13.887060\n125706338  400000.0  379935.28125   20064.71875   5.016180   5.281089\n112739354  450000.0  469063.84375   19063.84375   4.236410   4.064232\n122707001  275000.0  443571.15625  168571.15625  61.298602  38.003183\n\n[4413 rows x 5 columns]",
      "text/html": "<div>\n<style scoped>\n    .dataframe tbody tr th:only-of-type {\n        vertical-align: middle;\n    }\n\n    .dataframe tbody tr th {\n        vertical-align: top;\n    }\n\n    .dataframe thead th {\n        text-align: right;\n    }\n</style>\n<table border=\"1\" class=\"dataframe\">\n  <thead>\n    <tr style=\"text-align: right;\">\n      <th></th>\n      <th>actual</th>\n      <th>predicted</th>\n      <th>difference</th>\n      <th>diff 1 %</th>\n      <th>diff 2 %</th>\n    </tr>\n    <tr>\n      <th>reference</th>\n      <th></th>\n      <th></th>\n      <th></th>\n      <th></th>\n      <th></th>\n    </tr>\n  </thead>\n  <tbody>\n    <tr>\n      <th>85490754</th>\n      <td>400000.0</td>\n      <td>360039.65625</td>\n      <td>39960.34375</td>\n      <td>9.990086</td>\n      <td>11.098873</td>\n    </tr>\n    <tr>\n      <th>119328242</th>\n      <td>369950.0</td>\n      <td>414633.15625</td>\n      <td>44683.15625</td>\n      <td>12.078161</td>\n      <td>10.776552</td>\n    </tr>\n    <tr>\n      <th>125716790</th>\n      <td>350000.0</td>\n      <td>437373.59375</td>\n      <td>87373.59375</td>\n      <td>24.963884</td>\n      <td>19.976879</td>\n    </tr>\n    <tr>\n      <th>122440040</th>\n      <td>549000.0</td>\n      <td>433280.53125</td>\n      <td>115719.46875</td>\n      <td>21.078227</td>\n      <td>26.707747</td>\n    </tr>\n    <tr>\n      <th>120508103</th>\n      <td>495000.0</td>\n      <td>476715.31250</td>\n      <td>18284.68750</td>\n      <td>3.693876</td>\n      <td>3.835557</td>\n    </tr>\n    <tr>\n      <th>...</th>\n      <td>...</td>\n      <td>...</td>\n      <td>...</td>\n      <td>...</td>\n      <td>...</td>\n    </tr>\n    <tr>\n      <th>68620869</th>\n      <td>475000.0</td>\n      <td>603585.25000</td>\n      <td>128585.25000</td>\n      <td>27.070579</td>\n      <td>21.303577</td>\n    </tr>\n    <tr>\n      <th>85735665</th>\n      <td>575000.0</td>\n      <td>667727.75000</td>\n      <td>92727.75000</td>\n      <td>16.126565</td>\n      <td>13.887060</td>\n    </tr>\n    <tr>\n      <th>125706338</th>\n      <td>400000.0</td>\n      <td>379935.28125</td>\n      <td>20064.71875</td>\n      <td>5.016180</td>\n      <td>5.281089</td>\n    </tr>\n    <tr>\n      <th>112739354</th>\n      <td>450000.0</td>\n      <td>469063.84375</td>\n      <td>19063.84375</td>\n      <td>4.236410</td>\n      <td>4.064232</td>\n    </tr>\n    <tr>\n      <th>122707001</th>\n      <td>275000.0</td>\n      <td>443571.15625</td>\n      <td>168571.15625</td>\n      <td>61.298602</td>\n      <td>38.003183</td>\n    </tr>\n  </tbody>\n</table>\n<p>4413 rows × 5 columns</p>\n</div>"
     },
     "execution_count": 22,
     "metadata": {},
     "output_type": "execute_result"
    }
   ],
   "source": [
    "compare = np.hstack((y_test_index, y_test, y_pred))\n",
    "compare_df = DataFrame(compare, columns=['reference', 'actual', 'predicted'])\n",
    "compare_df['difference'] = abs(compare_df['actual'] - compare_df['predicted'])\n",
    "compare_df['diff 1 %'] = abs((compare_df['actual'] - compare_df['predicted']) / compare_df['actual'] * 100)\n",
    "compare_df['diff 2 %'] = abs((compare_df['actual'] - compare_df['predicted']) / compare_df['predicted']) * 100\n",
    "compare_df['reference'] = compare_df['reference'].astype(int)\n",
    "compare_df.set_index('reference', inplace=True)\n",
    "compare_df"
   ]
  },
  {
   "cell_type": "code",
   "execution_count": 23,
   "metadata": {
    "execution": {
     "iopub.execute_input": "2022-11-20T20:03:40.342669Z",
     "iopub.status.busy": "2022-11-20T20:03:40.342392Z",
     "iopub.status.idle": "2022-11-20T20:03:40.369177Z",
     "shell.execute_reply": "2022-11-20T20:03:40.368619Z",
     "shell.execute_reply.started": "2022-11-20T20:03:40.342636Z"
    }
   },
   "outputs": [
    {
     "data": {
      "text/plain": "           actual  predicted    difference    diff 1 %   diff 2 %   Price  \\\n109722224  108000     366195  258195.90625  239.070284  70.507589  108000   \n122265818  160000     539122  379122.50000  236.951562  70.322144  160000   \n85667184   122000     347794  225794.21875  185.077228  64.921786  122000   \n122821142  170000     405742  235742.40625  138.672004  58.101496  170000   \n83639617   190000     441652  251652.15625  132.448503  56.979719  190000   \n...           ...        ...           ...         ...        ...     ...   \n124266932  475000     475151     151.87500    0.031974   0.031963  475000   \n124859078  425000     424873     126.93750    0.029868   0.029877  425000   \n119883716  450000     449869     130.78125    0.029062   0.029071  450000   \n125703758  530000     530126     126.62500    0.023892   0.023886  530000   \n123833084  350000     349940      59.40625    0.016973   0.016976  350000   \n\n           bedrooms  bathrooms  nearestStation  location.latitude  \\\n109722224         1          1        0.302667          51.406803   \n122265818         3          1        0.166024          51.510420   \n85667184          1          1        0.838896          51.540462   \n122821142         2          1        0.093936          51.430690   \n83639617          2          2        0.162816          51.491264   \n...             ...        ...             ...                ...   \n124266932         3          1        1.108618          51.341800   \n124859078         1          1        0.387996          51.523651   \n119883716         2          2        0.291114          51.530182   \n125703758         3          1        0.185552          51.664237   \n123833084         1          1        0.772834          51.440720   \n\n           location.longitude  latitude_deviation  longitude_deviation  \\\n109722224           -0.261328            0.092917             0.156908   \n122265818           -0.037730            0.010700             0.066690   \n85667184            -0.280301            0.040742             0.175881   \n122821142            0.024020            0.069030             0.128440   \n83639617             0.064660            0.008456             0.169080   \n...                       ...                 ...                  ...   \n124266932           -0.057357            0.157920             0.047063   \n124859078           -0.193087            0.023931             0.088667   \n119883716           -0.013700            0.030462             0.090720   \n125703758           -0.098275            0.164517             0.006145   \n123833084           -0.222890            0.059000             0.118470   \n\n           tenure.tenureType  \n109722224          LEASEHOLD  \n122265818           FREEHOLD  \n85667184           LEASEHOLD  \n122821142          LEASEHOLD  \n83639617           LEASEHOLD  \n...                      ...  \n124266932           FREEHOLD  \n124859078  SHARE_OF_FREEHOLD  \n119883716          LEASEHOLD  \n125703758           FREEHOLD  \n123833084          LEASEHOLD  \n\n[4413 rows x 14 columns]",
      "text/html": "<div>\n<style scoped>\n    .dataframe tbody tr th:only-of-type {\n        vertical-align: middle;\n    }\n\n    .dataframe tbody tr th {\n        vertical-align: top;\n    }\n\n    .dataframe thead th {\n        text-align: right;\n    }\n</style>\n<table border=\"1\" class=\"dataframe\">\n  <thead>\n    <tr style=\"text-align: right;\">\n      <th></th>\n      <th>actual</th>\n      <th>predicted</th>\n      <th>difference</th>\n      <th>diff 1 %</th>\n      <th>diff 2 %</th>\n      <th>Price</th>\n      <th>bedrooms</th>\n      <th>bathrooms</th>\n      <th>nearestStation</th>\n      <th>location.latitude</th>\n      <th>location.longitude</th>\n      <th>latitude_deviation</th>\n      <th>longitude_deviation</th>\n      <th>tenure.tenureType</th>\n    </tr>\n  </thead>\n  <tbody>\n    <tr>\n      <th>109722224</th>\n      <td>108000</td>\n      <td>366195</td>\n      <td>258195.90625</td>\n      <td>239.070284</td>\n      <td>70.507589</td>\n      <td>108000</td>\n      <td>1</td>\n      <td>1</td>\n      <td>0.302667</td>\n      <td>51.406803</td>\n      <td>-0.261328</td>\n      <td>0.092917</td>\n      <td>0.156908</td>\n      <td>LEASEHOLD</td>\n    </tr>\n    <tr>\n      <th>122265818</th>\n      <td>160000</td>\n      <td>539122</td>\n      <td>379122.50000</td>\n      <td>236.951562</td>\n      <td>70.322144</td>\n      <td>160000</td>\n      <td>3</td>\n      <td>1</td>\n      <td>0.166024</td>\n      <td>51.510420</td>\n      <td>-0.037730</td>\n      <td>0.010700</td>\n      <td>0.066690</td>\n      <td>FREEHOLD</td>\n    </tr>\n    <tr>\n      <th>85667184</th>\n      <td>122000</td>\n      <td>347794</td>\n      <td>225794.21875</td>\n      <td>185.077228</td>\n      <td>64.921786</td>\n      <td>122000</td>\n      <td>1</td>\n      <td>1</td>\n      <td>0.838896</td>\n      <td>51.540462</td>\n      <td>-0.280301</td>\n      <td>0.040742</td>\n      <td>0.175881</td>\n      <td>LEASEHOLD</td>\n    </tr>\n    <tr>\n      <th>122821142</th>\n      <td>170000</td>\n      <td>405742</td>\n      <td>235742.40625</td>\n      <td>138.672004</td>\n      <td>58.101496</td>\n      <td>170000</td>\n      <td>2</td>\n      <td>1</td>\n      <td>0.093936</td>\n      <td>51.430690</td>\n      <td>0.024020</td>\n      <td>0.069030</td>\n      <td>0.128440</td>\n      <td>LEASEHOLD</td>\n    </tr>\n    <tr>\n      <th>83639617</th>\n      <td>190000</td>\n      <td>441652</td>\n      <td>251652.15625</td>\n      <td>132.448503</td>\n      <td>56.979719</td>\n      <td>190000</td>\n      <td>2</td>\n      <td>2</td>\n      <td>0.162816</td>\n      <td>51.491264</td>\n      <td>0.064660</td>\n      <td>0.008456</td>\n      <td>0.169080</td>\n      <td>LEASEHOLD</td>\n    </tr>\n    <tr>\n      <th>...</th>\n      <td>...</td>\n      <td>...</td>\n      <td>...</td>\n      <td>...</td>\n      <td>...</td>\n      <td>...</td>\n      <td>...</td>\n      <td>...</td>\n      <td>...</td>\n      <td>...</td>\n      <td>...</td>\n      <td>...</td>\n      <td>...</td>\n      <td>...</td>\n    </tr>\n    <tr>\n      <th>124266932</th>\n      <td>475000</td>\n      <td>475151</td>\n      <td>151.87500</td>\n      <td>0.031974</td>\n      <td>0.031963</td>\n      <td>475000</td>\n      <td>3</td>\n      <td>1</td>\n      <td>1.108618</td>\n      <td>51.341800</td>\n      <td>-0.057357</td>\n      <td>0.157920</td>\n      <td>0.047063</td>\n      <td>FREEHOLD</td>\n    </tr>\n    <tr>\n      <th>124859078</th>\n      <td>425000</td>\n      <td>424873</td>\n      <td>126.93750</td>\n      <td>0.029868</td>\n      <td>0.029877</td>\n      <td>425000</td>\n      <td>1</td>\n      <td>1</td>\n      <td>0.387996</td>\n      <td>51.523651</td>\n      <td>-0.193087</td>\n      <td>0.023931</td>\n      <td>0.088667</td>\n      <td>SHARE_OF_FREEHOLD</td>\n    </tr>\n    <tr>\n      <th>119883716</th>\n      <td>450000</td>\n      <td>449869</td>\n      <td>130.78125</td>\n      <td>0.029062</td>\n      <td>0.029071</td>\n      <td>450000</td>\n      <td>2</td>\n      <td>2</td>\n      <td>0.291114</td>\n      <td>51.530182</td>\n      <td>-0.013700</td>\n      <td>0.030462</td>\n      <td>0.090720</td>\n      <td>LEASEHOLD</td>\n    </tr>\n    <tr>\n      <th>125703758</th>\n      <td>530000</td>\n      <td>530126</td>\n      <td>126.62500</td>\n      <td>0.023892</td>\n      <td>0.023886</td>\n      <td>530000</td>\n      <td>3</td>\n      <td>1</td>\n      <td>0.185552</td>\n      <td>51.664237</td>\n      <td>-0.098275</td>\n      <td>0.164517</td>\n      <td>0.006145</td>\n      <td>FREEHOLD</td>\n    </tr>\n    <tr>\n      <th>123833084</th>\n      <td>350000</td>\n      <td>349940</td>\n      <td>59.40625</td>\n      <td>0.016973</td>\n      <td>0.016976</td>\n      <td>350000</td>\n      <td>1</td>\n      <td>1</td>\n      <td>0.772834</td>\n      <td>51.440720</td>\n      <td>-0.222890</td>\n      <td>0.059000</td>\n      <td>0.118470</td>\n      <td>LEASEHOLD</td>\n    </tr>\n  </tbody>\n</table>\n<p>4413 rows × 14 columns</p>\n</div>"
     },
     "execution_count": 23,
     "metadata": {},
     "output_type": "execute_result"
    }
   ],
   "source": [
    "combined = compare_df.merge(df[columns], how='inner', left_index=True, right_index=True).sort_values(['diff 1 %'],\n",
    "                                                                                                     ascending=False)\n",
    "#pd.options.display.float_format = '{:.4f}'.format\n",
    "combined[['predicted', 'actual', 'Price', 'bedrooms', 'bathrooms']] = combined[\n",
    "    ['predicted', 'actual', 'Price', 'bedrooms', 'bathrooms']].astype(int)\n",
    "combined['bedrooms'] = combined['bedrooms'].astype(int)\n",
    "combined"
   ]
  },
  {
   "cell_type": "code",
   "execution_count": 24,
   "metadata": {
    "execution": {
     "iopub.execute_input": "2022-11-20T20:03:40.370416Z",
     "iopub.status.busy": "2022-11-20T20:03:40.370208Z",
     "iopub.status.idle": "2022-11-20T20:03:40.375487Z",
     "shell.execute_reply": "2022-11-20T20:03:40.374808Z",
     "shell.execute_reply.started": "2022-11-20T20:03:40.370398Z"
    }
   },
   "outputs": [
    {
     "data": {
      "text/plain": "0.3715158628653412"
     },
     "execution_count": 24,
     "metadata": {},
     "output_type": "execute_result"
    }
   ],
   "source": [
    "r2score = r2_score(y_test, y_pred)\n",
    "r2score"
   ]
  },
  {
   "cell_type": "code",
   "execution_count": 25,
   "metadata": {
    "execution": {
     "iopub.execute_input": "2022-11-20T20:03:40.378684Z",
     "iopub.status.busy": "2022-11-20T20:03:40.378487Z",
     "iopub.status.idle": "2022-11-20T20:03:40.641381Z",
     "shell.execute_reply": "2022-11-20T20:03:40.640764Z",
     "shell.execute_reply.started": "2022-11-20T20:03:40.378665Z"
    }
   },
   "outputs": [
    {
     "name": "stdout",
     "output_type": "stream",
     "text": [
      "138/138 [==============================] - 0s 2ms/step\n"
     ]
    },
    {
     "data": {
      "text/plain": "<Figure size 640x480 with 1 Axes>",
      "image/png": "[encoded data removed]"
     },
     "metadata": {},
     "output_type": "display_data"
    }
   ],
   "source": [
    "fig, ax = plt.subplots()\n",
    "#ax.scatter(y_test, best_estimator_pipe.predict(X_test), edgecolors=(0, 0, 1))\n",
    "ax.scatter(y_test, trainable_model.predict(X_test), edgecolors=(0, 0, 1))\n",
    "ax.plot([y_test.min(), y_test.max()], [y_test.min(), y_test.max()], 'r--', lw=3)\n",
    "ax.set_ylabel('Predicted')\n",
    "ax.set_xlabel('Actual')\n",
    "#ax.title.set_text(f'CV Chosen best option ({calculated_best_pipe[1]})')\n",
    "plt.show()"
   ]
  },
  {
   "cell_type": "code",
   "execution_count": 26,
   "metadata": {
    "execution": {
     "iopub.execute_input": "2022-11-20T20:03:40.642571Z",
     "iopub.status.busy": "2022-11-20T20:03:40.642374Z",
     "iopub.status.idle": "2022-11-20T20:03:40.938420Z",
     "shell.execute_reply": "2022-11-20T20:03:40.937803Z",
     "shell.execute_reply.started": "2022-11-20T20:03:40.642552Z"
    }
   },
   "outputs": [
    {
     "name": "stdout",
     "output_type": "stream",
     "text": [
      "neural network simplified (v06)\n",
      "recommended simple model/mse +norm +epochs=5\n"
     ]
    }
   ],
   "source": [
    "#cv_best_model_fit_time = cv_results_df_sorted.iloc[0][\"mean_fit_time\"] if not_catboost else 999\n",
    "cv_best_model_fit_time = 999\n",
    "\n",
    "DD2 = \"(\" + \",\".join(DATA_DETAIL) + \")\" if len(DATA_DETAIL) >= 1 else \"\"\n",
    "key = f'{ALGORITHM} (v{VERSION})'.lower()\n",
    "\n",
    "method = f\"{ALGORITHM_DETAIL}{DD2}\"\n",
    "\n",
    "new_results = {\n",
    "    #'_score': score,\n",
    "    '_score': r2score,\n",
    "    'R square Accuracy': R2,\n",
    "    'Mean Absolute Error Accuracy': MAE,\n",
    "    'Mean Squared Error Accuracy': MSE,\n",
    "    'Root Mean Squared Error': RMSE,\n",
    "    '_train time': cv_best_model_fit_time,\n",
    "    'random_state': RANDOM_STATE,\n",
    "    'date': str(datetime.now()),\n",
    "    #'_params': crossval_runner.best_params_ if not_catboost else cat_params,\n",
    "    #'_params': 'not available', # REPLACED - can't have different models all saying params not available\n",
    "    '_params': ALGORITHM_DETAIL,\n",
    "    '_method': method,\n",
    "    'run_env': run_env\n",
    "}\n",
    "\n",
    "if run_env not in ['colab']:\n",
    "    old_results_json = get_results()\n",
    "    try:\n",
    "        old_best_score = old_results_json[key]['best score']\n",
    "    except:\n",
    "        print(f\"haven't scored this model yet: {ALGORITHM}\")\n",
    "        old_best_score = -999\n",
    "    this_model_is_best = update_results(old_results_json, new_results, key)\n",
    "\n",
    "print(key)\n",
    "print(ALGORITHM_DETAIL)"
   ]
  },
  {
   "cell_type": "code",
   "execution_count": 27,
   "metadata": {
    "execution": {
     "iopub.execute_input": "2022-11-20T20:03:40.939497Z",
     "iopub.status.busy": "2022-11-20T20:03:40.939292Z",
     "iopub.status.idle": "2022-11-20T20:03:41.404887Z",
     "shell.execute_reply": "2022-11-20T20:03:41.404252Z",
     "shell.execute_reply.started": "2022-11-20T20:03:40.939478Z"
    }
   },
   "outputs": [
    {
     "name": "stdout",
     "output_type": "stream",
     "text": [
      "not updated saved model, the previous run was better\n",
      "0.3715158628653412 is worse than or equal to 0.540641537650065\n"
     ]
    }
   ],
   "source": [
    "if this_model_is_best:\n",
    "    with open(f'../../../models/optimised_model_{ALGORITHM}_v{VERSION}{DD2}.pkl', 'wb') as f:\n",
    "        #        if not_catboost:\n",
    "        #            pickle.dump(crossval_runner.best_estimator_, f)\n",
    "        #        else:\n",
    "        #            pickle.dump(starter_model, f)\n",
    "        pickle.dump(trainable_model, f)\n",
    "        print('pickled new version of model')\n",
    "        print(f\"{old_results_json[key]['_score']} is new best score (it's better than {old_best_score})\")\n",
    "        #print(results_json[key]['_score'], 'is an improvement on', results_json[key]['second best score'])\n",
    "else:\n",
    "    print(\"not updated saved model, the previous run was better\")\n",
    "    print(old_results_json[key]['_score'], 'is worse than or equal to', old_best_score)\n"
   ]
  },
  {
   "cell_type": "code",
   "execution_count": 28,
   "metadata": {
    "collapsed": false,
    "jupyter": {
     "outputs_hidden": false
    }
   },
   "outputs": [],
   "source": [
    "# # OLD CODE\n",
    "# if False:\n",
    "#     def make_regression_ann(key, initializer='uniform', activation='relu', optimizer='adam', loss='mse'):\n",
    "#         normalizer = tf.keras.layers.Normalization(axis=-1)\n",
    "#         model = Sequential()\n",
    "#         #model.add(normalizer)\n",
    "#         model.add(Dense(11, input_shape=(len(X_train[0]),), activation='relu'))\n",
    "#         model.add(Dense(20, activation='relu'))\n",
    "#         model.add(Dense(500, activation='relu'))\n",
    "#         model.add(Dense(500, activation='relu'))\n",
    "#         model.add(Dense(20, activation='relu'))\n",
    "#         model.add(Dense(5, activation='relu'))\n",
    "#         model.add(Dense(1))\n",
    "#         model.compile(loss=loss, optimizer=optimizer)\n",
    "#         #print(model)\n",
    "#     \n",
    "#         description = '[input11, d^20-500-500-20-5, dense1]'\n",
    "#         return model, description\n"
   ]
  }
 ],
 "metadata": {
  "kernelspec": {
   "display_name": "Python 3 (ipykernel)",
   "language": "python",
   "name": "python3"
  },
  "language_info": {
   "codemirror_mode": {
    "name": "ipython",
    "version": 3
   },
   "file_extension": ".py",
   "mimetype": "text/x-python",
   "name": "python",
   "nbconvert_exporter": "python",
   "pygments_lexer": "ipython3",
   "version": "3.9.13"
  }
 },
 "nbformat": 4,
 "nbformat_minor": 4
}
