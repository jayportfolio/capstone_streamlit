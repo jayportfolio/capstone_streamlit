{
 "cells": [
  {
   "cell_type": "code",
   "execution_count": 1,
   "metadata": {
    "execution": {
     "iopub.execute_input": "2022-11-20T00:11:09.243803Z",
     "iopub.status.busy": "2022-11-20T00:11:09.243463Z",
     "iopub.status.idle": "2022-11-20T00:11:09.247815Z",
     "shell.execute_reply": "2022-11-20T00:11:09.247131Z",
     "shell.execute_reply.started": "2022-11-20T00:11:09.243779Z"
    }
   },
   "outputs": [],
   "source": [
    "ALGORITHM = 'Neural Network'\n",
    "ALGORITHM_DETAIL = ''\n",
    "ALGORITHM_DETAIL_ORIG = ALGORITHM_DETAIL\n",
    "ALGORITHM_DETAIL += ' tbc'\n",
    "DATA_DETAIL = []\n",
    "#DATA_DETAIL = ['no scale','no dummies']\n",
    "VERSION = '06'\n",
    "\n",
    "RANDOM_STATE = 101\n",
    "TRAINING_SIZE = 0.9\n",
    "\n",
    "CROSS_VALIDATION_SCORING = 'r2'"
   ]
  },
  {
   "cell_type": "code",
   "execution_count": 2,
   "metadata": {
    "execution": {
     "iopub.execute_input": "2022-11-19T23:42:37.335456Z",
     "iopub.status.busy": "2022-11-19T23:42:37.335178Z",
     "iopub.status.idle": "2022-11-19T23:42:54.450876Z",
     "shell.execute_reply": "2022-11-19T23:42:54.449754Z",
     "shell.execute_reply.started": "2022-11-19T23:42:37.335434Z"
    }
   },
   "outputs": [
    {
     "name": "stdout",
     "output_type": "stream",
     "text": [
      "Requirement already satisfied: scikeras in /home/guava/PycharmProjects/capstone_streamlit/venv/lib/python3.8/site-packages (0.9.0)\r\n",
      "Requirement already satisfied: packaging>=0.21 in /home/guava/PycharmProjects/capstone_streamlit/venv/lib/python3.8/site-packages (from scikeras) (21.3)\r\n",
      "Requirement already satisfied: scikit-learn>=1.0.0 in /home/guava/PycharmProjects/capstone_streamlit/venv/lib/python3.8/site-packages (from scikeras) (1.1.2)\r\n",
      "Requirement already satisfied: pyparsing!=3.0.5,>=2.0.2 in /home/guava/PycharmProjects/capstone_streamlit/venv/lib/python3.8/site-packages (from packaging>=0.21->scikeras) (3.0.9)\r\n",
      "Requirement already satisfied: joblib>=1.0.0 in /home/guava/PycharmProjects/capstone_streamlit/venv/lib/python3.8/site-packages (from scikit-learn>=1.0.0->scikeras) (1.2.0)\r\n",
      "Requirement already satisfied: scipy>=1.3.2 in /home/guava/PycharmProjects/capstone_streamlit/venv/lib/python3.8/site-packages (from scikit-learn>=1.0.0->scikeras) (1.9.1)\r\n",
      "Requirement already satisfied: numpy>=1.17.3 in /home/guava/PycharmProjects/capstone_streamlit/venv/lib/python3.8/site-packages (from scikit-learn>=1.0.0->scikeras) (1.23.3)\r\n",
      "Requirement already satisfied: threadpoolctl>=2.0.0 in /home/guava/PycharmProjects/capstone_streamlit/venv/lib/python3.8/site-packages (from scikit-learn>=1.0.0->scikeras) (3.1.0)\r\n",
      "Requirement already satisfied: catboost in /home/guava/PycharmProjects/capstone_streamlit/venv/lib/python3.8/site-packages (1.1.1)\r\n",
      "Requirement already satisfied: scipy in /home/guava/PycharmProjects/capstone_streamlit/venv/lib/python3.8/site-packages (from catboost) (1.9.1)\r\n",
      "Requirement already satisfied: matplotlib in /home/guava/PycharmProjects/capstone_streamlit/venv/lib/python3.8/site-packages (from catboost) (3.6.0)\r\n",
      "Requirement already satisfied: plotly in /home/guava/PycharmProjects/capstone_streamlit/venv/lib/python3.8/site-packages (from catboost) (5.10.0)\r\n",
      "Requirement already satisfied: graphviz in /home/guava/PycharmProjects/capstone_streamlit/venv/lib/python3.8/site-packages (from catboost) (0.20.1)\r\n",
      "Requirement already satisfied: six in /home/guava/PycharmProjects/capstone_streamlit/venv/lib/python3.8/site-packages (from catboost) (1.16.0)\r\n",
      "Requirement already satisfied: pandas>=0.24.0 in /home/guava/PycharmProjects/capstone_streamlit/venv/lib/python3.8/site-packages (from catboost) (1.5.0)\r\n",
      "Requirement already satisfied: numpy>=1.16.0 in /home/guava/PycharmProjects/capstone_streamlit/venv/lib/python3.8/site-packages (from catboost) (1.23.3)\r\n",
      "Requirement already satisfied: python-dateutil>=2.8.1 in /home/guava/PycharmProjects/capstone_streamlit/venv/lib/python3.8/site-packages (from pandas>=0.24.0->catboost) (2.8.2)\r\n",
      "Requirement already satisfied: pytz>=2020.1 in /home/guava/PycharmProjects/capstone_streamlit/venv/lib/python3.8/site-packages (from pandas>=0.24.0->catboost) (2022.2.1)\r\n",
      "Requirement already satisfied: contourpy>=1.0.1 in /home/guava/PycharmProjects/capstone_streamlit/venv/lib/python3.8/site-packages (from matplotlib->catboost) (1.0.5)\r\n",
      "Requirement already satisfied: cycler>=0.10 in /home/guava/PycharmProjects/capstone_streamlit/venv/lib/python3.8/site-packages (from matplotlib->catboost) (0.11.0)\r\n",
      "Requirement already satisfied: fonttools>=4.22.0 in /home/guava/PycharmProjects/capstone_streamlit/venv/lib/python3.8/site-packages (from matplotlib->catboost) (4.37.3)\r\n",
      "Requirement already satisfied: packaging>=20.0 in /home/guava/PycharmProjects/capstone_streamlit/venv/lib/python3.8/site-packages (from matplotlib->catboost) (21.3)\r\n",
      "Requirement already satisfied: pyparsing>=2.2.1 in /home/guava/PycharmProjects/capstone_streamlit/venv/lib/python3.8/site-packages (from matplotlib->catboost) (3.0.9)\r\n",
      "Requirement already satisfied: kiwisolver>=1.0.1 in /home/guava/PycharmProjects/capstone_streamlit/venv/lib/python3.8/site-packages (from matplotlib->catboost) (1.4.4)\r\n",
      "Requirement already satisfied: pillow>=6.2.0 in /home/guava/PycharmProjects/capstone_streamlit/venv/lib/python3.8/site-packages (from matplotlib->catboost) (9.2.0)\r\n",
      "Requirement already satisfied: tenacity>=6.2.0 in /home/guava/PycharmProjects/capstone_streamlit/venv/lib/python3.8/site-packages (from plotly->catboost) (8.1.0)\r\n"
     ]
    }
   ],
   "source": [
    "! pip install scikeras\n",
    "! pip install catboost"
   ]
  },
  {
   "cell_type": "code",
   "execution_count": 3,
   "metadata": {
    "execution": {
     "iopub.execute_input": "2022-11-19T23:42:54.453291Z",
     "iopub.status.busy": "2022-11-19T23:42:54.452796Z",
     "iopub.status.idle": "2022-11-19T23:42:57.364409Z",
     "shell.execute_reply": "2022-11-19T23:42:57.363631Z",
     "shell.execute_reply.started": "2022-11-19T23:42:54.453252Z"
    }
   },
   "outputs": [
    {
     "name": "stderr",
     "output_type": "stream",
     "text": [
      "2022-11-20 01:29:47.891707: I tensorflow/core/platform/cpu_feature_guard.cc:193] This TensorFlow binary is optimized with oneAPI Deep Neural Network Library (oneDNN) to use the following CPU instructions in performance-critical operations:  AVX2\n",
      "To enable them in other operations, rebuild TensorFlow with the appropriate compiler flags.\n"
     ]
    },
    {
     "name": "stdout",
     "output_type": "stream",
     "text": [
      "2.10.0\n"
     ]
    }
   ],
   "source": [
    "from sklearn.pipeline import Pipeline\n",
    "from sklearn.preprocessing import MinMaxScaler, StandardScaler\n",
    "from scikeras.wrappers import KerasClassifier, KerasRegressor\n",
    "\n",
    "import tensorflow as tf\n",
    "from keras import layers\n",
    "from tensorflow import keras\n",
    "from keras.models import Sequential\n",
    "from keras.layers import Dense\n",
    "\n",
    "print(tf.__version__)\n",
    "\n",
    "def make_simple_ann(key):\n",
    "\n",
    "    key = 'simplest'\n",
    "\n",
    "    if key == 'simplest':\n",
    "        ALGORITHM_DETAIL = ALGORITHM_DETAIL_ORIG  + 'simplest findable model + normalise, MSE loss'\n",
    "\n",
    "        normalizer = tf.keras.layers.Normalization(axis=-1)\n",
    "        normalizer.adapt(np.array(X_train))\n",
    "\n",
    "        even_simpler_model = tf.keras.Sequential([\n",
    "            normalizer,\n",
    "            layers.Dense(units=1)\n",
    "        ])\n",
    "\n",
    "        even_simpler_model.compile(\n",
    "            optimizer=tf.keras.optimizers.Adam(learning_rate=0.1),\n",
    "            loss='mean_squared_error')\n",
    "\n",
    "        trainable_model = even_simpler_model\n",
    "\n",
    "    elif key == 'quite simple':\n",
    "        ALGORITHM_DETAIL = ALGORITHM_DETAIL_ORIG  + 'simplest findable model + normalise, mae'\n",
    "\n",
    "        normalizer = tf.keras.layers.Normalization(axis=-1)\n",
    "        normalizer.adapt(np.array(X_train))\n",
    "\n",
    "        even_simpler_model = tf.keras.Sequential([\n",
    "            normalizer,\n",
    "            layers.Dense(units=1)\n",
    "        ])\n",
    "\n",
    "        even_simpler_model.compile(\n",
    "            optimizer=tf.keras.optimizers.Adam(learning_rate=0.1),\n",
    "            loss='mean_absolute_error')\n",
    "\n",
    "        trainable_model = even_simpler_model\n",
    "\n",
    "    elif key == 'my model':\n",
    "        ALGORITHM_DETAIL = ALGORITHM_DETAIL_ORIG  + 'my model (make_regression_ann)'\n",
    "\n",
    "        simple_model = make_regression_ann()\n",
    "        trainable_model = simple_model\n",
    "    else:\n",
    "        raise ValueError(\"make_simple_ann: no entry for key:\", key)\n",
    "\n",
    "    return trainable_model, ALGORITHM_DETAIL\n",
    "\n",
    "def make_regression_ann(key, initializer='uniform', activation='relu', optimizer='adam', loss='mse'):\n",
    "    normalizer = tf.keras.layers.Normalization(axis=-1)\n",
    "    model = Sequential()\n",
    "    #model.add(normalizer)\n",
    "    model.add(Dense(11, input_shape=(len(X_train[0]),), activation='relu'))\n",
    "    model.add(Dense(20, activation='relu'))\n",
    "    model.add(Dense(500, activation='relu'))\n",
    "    model.add(Dense(500, activation='relu'))\n",
    "    model.add(Dense(20, activation='relu'))\n",
    "    model.add(Dense(5, activation='relu'))\n",
    "    model.add(Dense(1))\n",
    "    model.compile(loss=loss, optimizer=optimizer)\n",
    "    #print(model)\n",
    "\n",
    "    description = '[input11, d^20-500-500-20-5, dense1]'\n",
    "    return model, description\n"
   ]
  },
  {
   "cell_type": "code",
   "execution_count": 4,
   "metadata": {
    "execution": {
     "iopub.execute_input": "2022-11-19T23:42:57.365837Z",
     "iopub.status.busy": "2022-11-19T23:42:57.365339Z",
     "iopub.status.idle": "2022-11-19T23:42:58.677196Z",
     "shell.execute_reply": "2022-11-19T23:42:58.676123Z",
     "shell.execute_reply.started": "2022-11-19T23:42:57.365809Z"
    }
   },
   "outputs": [
    {
     "name": "stdout",
     "output_type": "stream",
     "text": [
      "{'notebook_environment': 'local', 'use_gpu': False, 'debug_mode': False, 'quick_mode': False, 'quick_override_cv_splits': 2, 'quick_override_n_iter': 10, 'quick_override_n_jobs': 3}\n"
     ]
    }
   ],
   "source": [
    "from sklearn.impute import SimpleImputer\n",
    "import pandas as pd\n",
    "from sklearn.model_selection import train_test_split, RandomizedSearchCV, GridSearchCV\n",
    "import numpy as np\n",
    "from pandas import DataFrame\n",
    "import math\n",
    "from termcolor import colored\n",
    "from time import time\n",
    "import sklearn\n",
    "from sklearn.metrics import r2_score, mean_absolute_error, mean_squared_error\n",
    "from sklearn.metrics import r2_score\n",
    "import seaborn as sns\n",
    "import pickle\n",
    "\n",
    "import json\n",
    "from datetime import datetime\n",
    "import matplotlib.pyplot as plt\n",
    "\n",
    "with open('../../z_envs/_envs.json') as f:\n",
    "    env_vars = json.loads(f.read())\n",
    "print(env_vars)\n",
    "\n",
    "try:\n",
    "    import google.colab\n",
    "\n",
    "    run_env = 'colab'\n",
    "except:\n",
    "    try:\n",
    "        run_env = env_vars['notebook_environment']\n",
    "    except:\n",
    "        run_env = 'unknown'\n",
    "\n",
    "use_gpu = env_vars.get('use_gpu', False)\n",
    "debug_mode = env_vars.get('debug_mode', False)\n",
    "quick_mode = env_vars.get('quick_mode', False)\n",
    "\n",
    "no_dummies = 'no dummies' in DATA_DETAIL\n",
    "no_scaling = 'no scaling' in DATA_DETAIL\n",
    "not_catboost = True\n",
    "\n",
    "if run_env not in ['colab', 'gradient', 'cloud']:\n",
    "    cloud_run = False\n",
    "    from functions_0__common_20221116 import get_columns\n",
    "    from functions_b__get_the_data_20221116 import set_csv_directory, get_combined_dataset\n",
    "    from functions_d1__prepare_cleanse_data_20221116 import tidy_dataset\n",
    "    from functions_d2__transform_enrich_data_20221116 import preprocess, feature_engineer\n",
    "    from functions_d3__prepare_store_data_20221116 import create_train_test_data\n",
    "    from functions_e__train_model_20221116 import get_chosen_model, make_modelling_pipeline, get_cv_params, fit_model_with_cross_validation, get_hyperparameters\n",
    "    from functions_f_evaluate_model_20221116 import get_best_estimator_average_time, get_results, update_results\n",
    "\n",
    "    set_csv_directory('final_split')\n",
    "\n",
    "    quick_mode = True\n",
    "else:\n",
    "    cloud_run = True\n",
    "    import sys\n",
    "    import os\n",
    "\n",
    "    module_path = os.path.abspath(os.path.join('..', '..', '..'))\n",
    "    if module_path not in sys.path:\n",
    "        #sys.path.append(module_path+\"\\\\zfunctions\")\n",
    "        sys.path.append(module_path)\n",
    "\n",
    "    from functions_0__common_20221116 import get_columns\n",
    "    from functions_b__get_the_data_20221116 import set_csv_directory, get_combined_dataset\n",
    "    from functions_d1__prepare_cleanse_data_20221116 import tidy_dataset\n",
    "    from functions_d2__transform_enrich_data_20221116 import preprocess, feature_engineer\n",
    "    from functions_d3__prepare_store_data_20221116 import create_train_test_data\n",
    "    from functions_e__train_model_20221116 import get_chosen_model, make_modelling_pipeline, get_cv_params, fit_model_with_cross_validation, get_hyperparameters\n",
    "    from functions_f_evaluate_model_20221116 import get_best_estimator_average_time, get_results, update_results\n",
    "    \n",
    "# if quick_mode:\n",
    "#     OVERRIDE_CV, OVERRIDE_N_ITER = 2, 10\n",
    "#\n",
    "# if 'neural' in ALGORITHM.lower():\n",
    "#     OVERRIDE_JOBS=1\n",
    "#\n",
    "# if 'neural' in ALGORITHM.lower() and not cloud_run:\n",
    "#     OVERRIDE_N_ITER = 2\n",
    "\n",
    "if quick_mode:\n",
    "    OVERRIDE_EPOCHS=5\n",
    "else:\n",
    "    OVERRIDE_EPOCHS=None"
   ]
  },
  {
   "cell_type": "code",
   "execution_count": 5,
   "metadata": {
    "execution": {
     "iopub.execute_input": "2022-11-19T23:42:58.679630Z",
     "iopub.status.busy": "2022-11-19T23:42:58.679025Z",
     "iopub.status.idle": "2022-11-19T23:42:58.685035Z",
     "shell.execute_reply": "2022-11-19T23:42:58.684305Z",
     "shell.execute_reply.started": "2022-11-19T23:42:58.679597Z"
    }
   },
   "outputs": [
    {
     "name": "stdout",
     "output_type": "stream",
     "text": [
      "\u001B[34mfeatures\u001B[0m ->  ['bedrooms', 'bathrooms', 'nearestStation', 'location.latitude', 'location.longitude', 'latitude_deviation', 'longitude_deviation', 'tenure.tenureType']\n",
      "\u001B[1m\u001B[32mlabel\u001B[0m ->  Price\n"
     ]
    }
   ],
   "source": [
    "#cutdown_rows = 1000\n",
    "cutdown_rows = 0\n",
    "\n",
    "LABEL = 'Price'\n",
    "\n",
    "columns, booleans, floats, categories, custom, wildcard = get_columns(version=VERSION)\n",
    "\n",
    "print(colored(f\"features\", \"blue\"), \"-> \", columns)\n",
    "columns.insert(0, LABEL)\n",
    "print(colored(f\"label\", \"green\", None, ['bold']), \"-> \", LABEL)"
   ]
  },
  {
   "cell_type": "code",
   "execution_count": 6,
   "metadata": {
    "execution": {
     "iopub.execute_input": "2022-11-19T23:42:58.686136Z",
     "iopub.status.busy": "2022-11-19T23:42:58.685909Z",
     "iopub.status.idle": "2022-11-19T23:42:58.691944Z",
     "shell.execute_reply": "2022-11-19T23:42:58.691106Z",
     "shell.execute_reply.started": "2022-11-19T23:42:58.686115Z"
    }
   },
   "outputs": [],
   "source": [
    "def get_source_dataframe(rows=cutdown_rows, folder_prefix='../../../'):\n",
    "    retrieval_type = None\n",
    "\n",
    "    filename = f'df_listings_v{VERSION}.csv'\n",
    "    remote_pathname = f'https://raw.githubusercontent.com/jayportfolio/capstone_streamlit/main/data/final/{filename}'\n",
    "    df_pathname_raw = folder_prefix + f'data/source/{filename}'\n",
    "    df_pathname_tidy = folder_prefix + f'data/final/{filename}'\n",
    "\n",
    "    if cloud_run:\n",
    "        inDF = pd.read_csv(remote_pathname, on_bad_lines='error', index_col=0)\n",
    "        retrieval_type = 'tidy'\n",
    "        print('loaded data from', folder_prefix + remote_pathname)\n",
    "    else:\n",
    "        inDF = pd.read_csv(df_pathname_tidy, on_bad_lines='error', index_col=0)\n",
    "        retrieval_type = 'tidy'\n",
    "        print('loaded data from', df_pathname_tidy)\n",
    "\n",
    "    if rows and rows > 0:\n",
    "        inDF = inDF[:rows]\n",
    "    return inDF, retrieval_type"
   ]
  },
  {
   "cell_type": "code",
   "execution_count": 7,
   "metadata": {
    "execution": {
     "iopub.execute_input": "2022-11-19T23:42:58.693415Z",
     "iopub.status.busy": "2022-11-19T23:42:58.693174Z",
     "iopub.status.idle": "2022-11-19T23:42:59.080245Z",
     "shell.execute_reply": "2022-11-19T23:42:59.079235Z",
     "shell.execute_reply.started": "2022-11-19T23:42:58.693393Z"
    }
   },
   "outputs": [
    {
     "name": "stdout",
     "output_type": "stream",
     "text": [
      "loaded data from ../../../data/final/df_listings_v06.csv\n",
      "(46871, 9)\n"
     ]
    }
   ],
   "source": [
    "df, retrieval_type = get_source_dataframe(folder_prefix='../../../')\n",
    "df_orig = df.copy()\n",
    "\n",
    "if retrieval_type != 'tidy':\n",
    "    df = tidy_dataset(df, version=int(VERSION))\n",
    "    df = feature_engineer(df, version=int(VERSION))\n",
    "\n",
    "    df = df[columns]\n",
    "\n",
    "print(df.shape)"
   ]
  },
  {
   "cell_type": "code",
   "execution_count": 8,
   "metadata": {
    "execution": {
     "iopub.execute_input": "2022-11-19T23:42:59.081725Z",
     "iopub.status.busy": "2022-11-19T23:42:59.081435Z",
     "iopub.status.idle": "2022-11-19T23:42:59.107840Z",
     "shell.execute_reply": "2022-11-19T23:42:59.107028Z",
     "shell.execute_reply.started": "2022-11-19T23:42:59.081694Z"
    }
   },
   "outputs": [
    {
     "data": {
      "text/plain": "             Price  bedrooms  bathrooms  nearestStation  location.latitude  \\\n14520525  550000.0       3.0        1.0        0.274316          51.529950   \n27953107  400000.0       2.0        2.0        0.305845          51.549390   \n33593487  579950.0       2.0        1.0        0.438045          51.447180   \n35271294  370000.0       2.0        1.0        0.399307          51.449568   \n35429088  599950.0       2.0        1.0        0.238187          51.577030   \n44749111  475000.0       2.0        1.0        0.410550          51.370050   \n46204665  435000.0       3.0        2.0        0.314779          51.539070   \n49020666  200000.0       1.0        1.0        0.875911          51.539959   \n49036279  275000.0       2.0        1.0        0.474368          51.541780   \n49303873  450000.0       3.0        2.0        0.577040          51.524880   \n52064391  349950.0       2.0        2.0        0.212734          51.470800   \n52187854  450000.0       1.0        1.0        0.446802          51.527199   \n52675628  490000.0       2.0        2.0        0.215040          51.501114   \n52845963  200000.0       2.0        1.0        0.650562          51.398040   \n52913496  220000.0       1.0        1.0        0.945991          51.539383   \n53609433  489995.0       1.0        1.0        0.087081          51.532620   \n53649578  284950.0       1.0        1.0        0.806597          51.479890   \n53938989  450000.0       2.0        1.0        0.775203          51.658287   \n54713232  332000.0       2.0        1.0        0.319226          51.612300   \n54904122  365000.0       2.0        1.0        0.260722          51.593595   \n54991934  430000.0       3.0        1.0        0.497268          51.528720   \n55043230  260000.0       1.0        1.0        0.384607          51.544430   \n55187658  430000.0       2.0        2.0        0.289033          51.507570   \n55531367  599950.0       2.0        1.0        0.406725          51.467410   \n55768232  550000.0       2.0        1.0        0.478349          51.472890   \n55805965  280000.0       2.0        1.0        0.742859          51.520910   \n55839051  599950.0       2.0        1.0        0.259168          51.579186   \n55940994  385000.0       2.0        2.0        0.403987          51.376930   \n56449305  380000.0       2.0        1.0        0.310271          51.600483   \n57221413  475000.0       3.0        2.0        0.409784          51.497260   \n\n          location.longitude  latitude_deviation  longitude_deviation  \\\n14520525           -0.207020            0.030230             0.102600   \n27953107           -0.482600            0.049670             0.378180   \n33593487           -0.338770            0.052540             0.234350   \n35271294           -0.140154            0.050152             0.035734   \n35429088           -0.141230            0.077310             0.036810   \n44749111           -0.212410            0.129670             0.107990   \n46204665           -0.198935            0.039350             0.094515   \n49020666           -0.380863            0.040239             0.276443   \n49036279            0.037890            0.042060             0.142310   \n49303873            0.187200            0.025160             0.291620   \n52064391           -0.361820            0.028920             0.257400   \n52187854           -0.202898            0.027479             0.098478   \n52675628            0.026315            0.001394             0.130735   \n52845963           -0.076812            0.101680             0.027608   \n52913496           -0.382239            0.039663             0.277819   \n53609433           -0.107860            0.032900             0.003440   \n53649578           -0.078500            0.019830             0.025920   \n53938989           -0.207902            0.158567             0.103482   \n54713232           -0.119860            0.112580             0.015440   \n54904122            0.022046            0.093875             0.126466   \n54991934            0.039180            0.029000             0.143600   \n55043230            0.014500            0.044710             0.118920   \n55187658            0.078030            0.007850             0.182450   \n55531367           -0.079170            0.032310             0.025250   \n55768232           -0.078940            0.026830             0.025480   \n55805965            0.022680            0.021190             0.127100   \n55839051           -0.209020            0.079466             0.104600   \n55940994           -0.238870            0.122790             0.134450   \n56449305           -0.062096            0.100763             0.042324   \n57221413           -0.422530            0.002460             0.318110   \n\n          tenure.tenureType  \n14520525          LEASEHOLD  \n27953107          LEASEHOLD  \n33593487           FREEHOLD  \n35271294          LEASEHOLD  \n35429088                NaN  \n44749111           FREEHOLD  \n46204665          LEASEHOLD  \n49020666          LEASEHOLD  \n49036279          LEASEHOLD  \n49303873           FREEHOLD  \n52064391          LEASEHOLD  \n52187854          LEASEHOLD  \n52675628                NaN  \n52845963          LEASEHOLD  \n52913496          LEASEHOLD  \n53609433          LEASEHOLD  \n53649578                NaN  \n53938989           FREEHOLD  \n54713232  SHARE_OF_FREEHOLD  \n54904122  SHARE_OF_FREEHOLD  \n54991934           FREEHOLD  \n55043230          LEASEHOLD  \n55187658          LEASEHOLD  \n55531367                NaN  \n55768232                NaN  \n55805965          LEASEHOLD  \n55839051          LEASEHOLD  \n55940994          LEASEHOLD  \n56449305           FREEHOLD  \n57221413           FREEHOLD  ",
      "text/html": "<div>\n<style scoped>\n    .dataframe tbody tr th:only-of-type {\n        vertical-align: middle;\n    }\n\n    .dataframe tbody tr th {\n        vertical-align: top;\n    }\n\n    .dataframe thead th {\n        text-align: right;\n    }\n</style>\n<table border=\"1\" class=\"dataframe\">\n  <thead>\n    <tr style=\"text-align: right;\">\n      <th></th>\n      <th>Price</th>\n      <th>bedrooms</th>\n      <th>bathrooms</th>\n      <th>nearestStation</th>\n      <th>location.latitude</th>\n      <th>location.longitude</th>\n      <th>latitude_deviation</th>\n      <th>longitude_deviation</th>\n      <th>tenure.tenureType</th>\n    </tr>\n  </thead>\n  <tbody>\n    <tr>\n      <th>14520525</th>\n      <td>550000.0</td>\n      <td>3.0</td>\n      <td>1.0</td>\n      <td>0.274316</td>\n      <td>51.529950</td>\n      <td>-0.207020</td>\n      <td>0.030230</td>\n      <td>0.102600</td>\n      <td>LEASEHOLD</td>\n    </tr>\n    <tr>\n      <th>27953107</th>\n      <td>400000.0</td>\n      <td>2.0</td>\n      <td>2.0</td>\n      <td>0.305845</td>\n      <td>51.549390</td>\n      <td>-0.482600</td>\n      <td>0.049670</td>\n      <td>0.378180</td>\n      <td>LEASEHOLD</td>\n    </tr>\n    <tr>\n      <th>33593487</th>\n      <td>579950.0</td>\n      <td>2.0</td>\n      <td>1.0</td>\n      <td>0.438045</td>\n      <td>51.447180</td>\n      <td>-0.338770</td>\n      <td>0.052540</td>\n      <td>0.234350</td>\n      <td>FREEHOLD</td>\n    </tr>\n    <tr>\n      <th>35271294</th>\n      <td>370000.0</td>\n      <td>2.0</td>\n      <td>1.0</td>\n      <td>0.399307</td>\n      <td>51.449568</td>\n      <td>-0.140154</td>\n      <td>0.050152</td>\n      <td>0.035734</td>\n      <td>LEASEHOLD</td>\n    </tr>\n    <tr>\n      <th>35429088</th>\n      <td>599950.0</td>\n      <td>2.0</td>\n      <td>1.0</td>\n      <td>0.238187</td>\n      <td>51.577030</td>\n      <td>-0.141230</td>\n      <td>0.077310</td>\n      <td>0.036810</td>\n      <td>NaN</td>\n    </tr>\n    <tr>\n      <th>44749111</th>\n      <td>475000.0</td>\n      <td>2.0</td>\n      <td>1.0</td>\n      <td>0.410550</td>\n      <td>51.370050</td>\n      <td>-0.212410</td>\n      <td>0.129670</td>\n      <td>0.107990</td>\n      <td>FREEHOLD</td>\n    </tr>\n    <tr>\n      <th>46204665</th>\n      <td>435000.0</td>\n      <td>3.0</td>\n      <td>2.0</td>\n      <td>0.314779</td>\n      <td>51.539070</td>\n      <td>-0.198935</td>\n      <td>0.039350</td>\n      <td>0.094515</td>\n      <td>LEASEHOLD</td>\n    </tr>\n    <tr>\n      <th>49020666</th>\n      <td>200000.0</td>\n      <td>1.0</td>\n      <td>1.0</td>\n      <td>0.875911</td>\n      <td>51.539959</td>\n      <td>-0.380863</td>\n      <td>0.040239</td>\n      <td>0.276443</td>\n      <td>LEASEHOLD</td>\n    </tr>\n    <tr>\n      <th>49036279</th>\n      <td>275000.0</td>\n      <td>2.0</td>\n      <td>1.0</td>\n      <td>0.474368</td>\n      <td>51.541780</td>\n      <td>0.037890</td>\n      <td>0.042060</td>\n      <td>0.142310</td>\n      <td>LEASEHOLD</td>\n    </tr>\n    <tr>\n      <th>49303873</th>\n      <td>450000.0</td>\n      <td>3.0</td>\n      <td>2.0</td>\n      <td>0.577040</td>\n      <td>51.524880</td>\n      <td>0.187200</td>\n      <td>0.025160</td>\n      <td>0.291620</td>\n      <td>FREEHOLD</td>\n    </tr>\n    <tr>\n      <th>52064391</th>\n      <td>349950.0</td>\n      <td>2.0</td>\n      <td>2.0</td>\n      <td>0.212734</td>\n      <td>51.470800</td>\n      <td>-0.361820</td>\n      <td>0.028920</td>\n      <td>0.257400</td>\n      <td>LEASEHOLD</td>\n    </tr>\n    <tr>\n      <th>52187854</th>\n      <td>450000.0</td>\n      <td>1.0</td>\n      <td>1.0</td>\n      <td>0.446802</td>\n      <td>51.527199</td>\n      <td>-0.202898</td>\n      <td>0.027479</td>\n      <td>0.098478</td>\n      <td>LEASEHOLD</td>\n    </tr>\n    <tr>\n      <th>52675628</th>\n      <td>490000.0</td>\n      <td>2.0</td>\n      <td>2.0</td>\n      <td>0.215040</td>\n      <td>51.501114</td>\n      <td>0.026315</td>\n      <td>0.001394</td>\n      <td>0.130735</td>\n      <td>NaN</td>\n    </tr>\n    <tr>\n      <th>52845963</th>\n      <td>200000.0</td>\n      <td>2.0</td>\n      <td>1.0</td>\n      <td>0.650562</td>\n      <td>51.398040</td>\n      <td>-0.076812</td>\n      <td>0.101680</td>\n      <td>0.027608</td>\n      <td>LEASEHOLD</td>\n    </tr>\n    <tr>\n      <th>52913496</th>\n      <td>220000.0</td>\n      <td>1.0</td>\n      <td>1.0</td>\n      <td>0.945991</td>\n      <td>51.539383</td>\n      <td>-0.382239</td>\n      <td>0.039663</td>\n      <td>0.277819</td>\n      <td>LEASEHOLD</td>\n    </tr>\n    <tr>\n      <th>53609433</th>\n      <td>489995.0</td>\n      <td>1.0</td>\n      <td>1.0</td>\n      <td>0.087081</td>\n      <td>51.532620</td>\n      <td>-0.107860</td>\n      <td>0.032900</td>\n      <td>0.003440</td>\n      <td>LEASEHOLD</td>\n    </tr>\n    <tr>\n      <th>53649578</th>\n      <td>284950.0</td>\n      <td>1.0</td>\n      <td>1.0</td>\n      <td>0.806597</td>\n      <td>51.479890</td>\n      <td>-0.078500</td>\n      <td>0.019830</td>\n      <td>0.025920</td>\n      <td>NaN</td>\n    </tr>\n    <tr>\n      <th>53938989</th>\n      <td>450000.0</td>\n      <td>2.0</td>\n      <td>1.0</td>\n      <td>0.775203</td>\n      <td>51.658287</td>\n      <td>-0.207902</td>\n      <td>0.158567</td>\n      <td>0.103482</td>\n      <td>FREEHOLD</td>\n    </tr>\n    <tr>\n      <th>54713232</th>\n      <td>332000.0</td>\n      <td>2.0</td>\n      <td>1.0</td>\n      <td>0.319226</td>\n      <td>51.612300</td>\n      <td>-0.119860</td>\n      <td>0.112580</td>\n      <td>0.015440</td>\n      <td>SHARE_OF_FREEHOLD</td>\n    </tr>\n    <tr>\n      <th>54904122</th>\n      <td>365000.0</td>\n      <td>2.0</td>\n      <td>1.0</td>\n      <td>0.260722</td>\n      <td>51.593595</td>\n      <td>0.022046</td>\n      <td>0.093875</td>\n      <td>0.126466</td>\n      <td>SHARE_OF_FREEHOLD</td>\n    </tr>\n    <tr>\n      <th>54991934</th>\n      <td>430000.0</td>\n      <td>3.0</td>\n      <td>1.0</td>\n      <td>0.497268</td>\n      <td>51.528720</td>\n      <td>0.039180</td>\n      <td>0.029000</td>\n      <td>0.143600</td>\n      <td>FREEHOLD</td>\n    </tr>\n    <tr>\n      <th>55043230</th>\n      <td>260000.0</td>\n      <td>1.0</td>\n      <td>1.0</td>\n      <td>0.384607</td>\n      <td>51.544430</td>\n      <td>0.014500</td>\n      <td>0.044710</td>\n      <td>0.118920</td>\n      <td>LEASEHOLD</td>\n    </tr>\n    <tr>\n      <th>55187658</th>\n      <td>430000.0</td>\n      <td>2.0</td>\n      <td>2.0</td>\n      <td>0.289033</td>\n      <td>51.507570</td>\n      <td>0.078030</td>\n      <td>0.007850</td>\n      <td>0.182450</td>\n      <td>LEASEHOLD</td>\n    </tr>\n    <tr>\n      <th>55531367</th>\n      <td>599950.0</td>\n      <td>2.0</td>\n      <td>1.0</td>\n      <td>0.406725</td>\n      <td>51.467410</td>\n      <td>-0.079170</td>\n      <td>0.032310</td>\n      <td>0.025250</td>\n      <td>NaN</td>\n    </tr>\n    <tr>\n      <th>55768232</th>\n      <td>550000.0</td>\n      <td>2.0</td>\n      <td>1.0</td>\n      <td>0.478349</td>\n      <td>51.472890</td>\n      <td>-0.078940</td>\n      <td>0.026830</td>\n      <td>0.025480</td>\n      <td>NaN</td>\n    </tr>\n    <tr>\n      <th>55805965</th>\n      <td>280000.0</td>\n      <td>2.0</td>\n      <td>1.0</td>\n      <td>0.742859</td>\n      <td>51.520910</td>\n      <td>0.022680</td>\n      <td>0.021190</td>\n      <td>0.127100</td>\n      <td>LEASEHOLD</td>\n    </tr>\n    <tr>\n      <th>55839051</th>\n      <td>599950.0</td>\n      <td>2.0</td>\n      <td>1.0</td>\n      <td>0.259168</td>\n      <td>51.579186</td>\n      <td>-0.209020</td>\n      <td>0.079466</td>\n      <td>0.104600</td>\n      <td>LEASEHOLD</td>\n    </tr>\n    <tr>\n      <th>55940994</th>\n      <td>385000.0</td>\n      <td>2.0</td>\n      <td>2.0</td>\n      <td>0.403987</td>\n      <td>51.376930</td>\n      <td>-0.238870</td>\n      <td>0.122790</td>\n      <td>0.134450</td>\n      <td>LEASEHOLD</td>\n    </tr>\n    <tr>\n      <th>56449305</th>\n      <td>380000.0</td>\n      <td>2.0</td>\n      <td>1.0</td>\n      <td>0.310271</td>\n      <td>51.600483</td>\n      <td>-0.062096</td>\n      <td>0.100763</td>\n      <td>0.042324</td>\n      <td>FREEHOLD</td>\n    </tr>\n    <tr>\n      <th>57221413</th>\n      <td>475000.0</td>\n      <td>3.0</td>\n      <td>2.0</td>\n      <td>0.409784</td>\n      <td>51.497260</td>\n      <td>-0.422530</td>\n      <td>0.002460</td>\n      <td>0.318110</td>\n      <td>FREEHOLD</td>\n    </tr>\n  </tbody>\n</table>\n</div>"
     },
     "execution_count": 8,
     "metadata": {},
     "output_type": "execute_result"
    }
   ],
   "source": [
    "df.head(30)"
   ]
  },
  {
   "cell_type": "code",
   "execution_count": 9,
   "metadata": {
    "execution": {
     "iopub.execute_input": "2022-11-19T23:42:59.109149Z",
     "iopub.status.busy": "2022-11-19T23:42:59.108882Z",
     "iopub.status.idle": "2022-11-19T23:42:59.122770Z",
     "shell.execute_reply": "2022-11-19T23:42:59.121927Z",
     "shell.execute_reply.started": "2022-11-19T23:42:59.109123Z"
    }
   },
   "outputs": [
    {
     "data": {
      "text/plain": "Price                     0\nbedrooms                  0\nbathrooms                 0\nnearestStation            0\nlocation.latitude         0\nlocation.longitude        0\nlatitude_deviation        0\nlongitude_deviation       0\ntenure.tenureType      2744\ndtype: int64"
     },
     "execution_count": 9,
     "metadata": {},
     "output_type": "execute_result"
    }
   ],
   "source": [
    "df.isnull().sum()"
   ]
  },
  {
   "cell_type": "code",
   "execution_count": 10,
   "metadata": {
    "execution": {
     "iopub.execute_input": "2022-11-19T23:42:59.124382Z",
     "iopub.status.busy": "2022-11-19T23:42:59.123984Z",
     "iopub.status.idle": "2022-11-19T23:42:59.208190Z",
     "shell.execute_reply": "2022-11-19T23:42:59.207542Z",
     "shell.execute_reply.started": "2022-11-19T23:42:59.124352Z"
    }
   },
   "outputs": [
    {
     "name": "stdout",
     "output_type": "stream",
     "text": [
      "<class 'pandas.core.frame.DataFrame'>\n",
      "Int64Index: 46871 entries, 14520525 to 126181118\n",
      "Data columns (total 9 columns):\n",
      " #   Column               Non-Null Count  Dtype  \n",
      "---  ------               --------------  -----  \n",
      " 0   Price                46871 non-null  float64\n",
      " 1   bedrooms             46871 non-null  float64\n",
      " 2   bathrooms            46871 non-null  float64\n",
      " 3   nearestStation       46871 non-null  float64\n",
      " 4   location.latitude    46871 non-null  float64\n",
      " 5   location.longitude   46871 non-null  float64\n",
      " 6   latitude_deviation   46871 non-null  float64\n",
      " 7   longitude_deviation  46871 non-null  float64\n",
      " 8   tenure.tenureType    44127 non-null  object \n",
      "dtypes: float64(8), object(1)\n",
      "memory usage: 3.6+ MB\n"
     ]
    },
    {
     "data": {
      "text/plain": "                       count           mean            std            min  \\\nPrice                46871.0  425069.390775  107227.324906  100000.000000   \nbedrooms             46871.0       1.992469       0.828837       1.000000   \nbathrooms            46871.0       1.182074       0.409879       1.000000   \nnearestStation       46871.0       0.438847       0.325942       0.000000   \nlocation.latitude    46871.0      51.497049       0.077085      51.298317   \nlocation.longitude   46871.0      -0.113269       0.156489      -0.498315   \nlatitude_deviation   46871.0       0.064317       0.042573       0.000000   \nlongitude_deviation  46871.0       0.124202       0.095607       0.000000   \n\n                               25%            50%            75%  \\\nPrice                349950.000000  425000.000000  515000.000000   \nbedrooms                  1.000000       2.000000       3.000000   \nbathrooms                 1.000000       1.000000       1.000000   \nnearestStation            0.227169       0.367971       0.559620   \nlocation.latitude        51.438861      51.499977      51.556183   \nlocation.longitude       -0.210796      -0.102230      -0.010343   \nlatitude_deviation        0.028876       0.058595       0.094362   \nlongitude_deviation       0.043560       0.098984       0.192684   \n\n                               max  \nPrice                600000.000000  \nbedrooms                  7.000000  \nbathrooms                 5.000000  \nnearestStation            7.197700  \nlocation.latitude        51.683185  \nlocation.longitude        0.279726  \nlatitude_deviation        0.201403  \nlongitude_deviation       0.393895  ",
      "text/html": "<div>\n<style scoped>\n    .dataframe tbody tr th:only-of-type {\n        vertical-align: middle;\n    }\n\n    .dataframe tbody tr th {\n        vertical-align: top;\n    }\n\n    .dataframe thead th {\n        text-align: right;\n    }\n</style>\n<table border=\"1\" class=\"dataframe\">\n  <thead>\n    <tr style=\"text-align: right;\">\n      <th></th>\n      <th>count</th>\n      <th>mean</th>\n      <th>std</th>\n      <th>min</th>\n      <th>25%</th>\n      <th>50%</th>\n      <th>75%</th>\n      <th>max</th>\n    </tr>\n  </thead>\n  <tbody>\n    <tr>\n      <th>Price</th>\n      <td>46871.0</td>\n      <td>425069.390775</td>\n      <td>107227.324906</td>\n      <td>100000.000000</td>\n      <td>349950.000000</td>\n      <td>425000.000000</td>\n      <td>515000.000000</td>\n      <td>600000.000000</td>\n    </tr>\n    <tr>\n      <th>bedrooms</th>\n      <td>46871.0</td>\n      <td>1.992469</td>\n      <td>0.828837</td>\n      <td>1.000000</td>\n      <td>1.000000</td>\n      <td>2.000000</td>\n      <td>3.000000</td>\n      <td>7.000000</td>\n    </tr>\n    <tr>\n      <th>bathrooms</th>\n      <td>46871.0</td>\n      <td>1.182074</td>\n      <td>0.409879</td>\n      <td>1.000000</td>\n      <td>1.000000</td>\n      <td>1.000000</td>\n      <td>1.000000</td>\n      <td>5.000000</td>\n    </tr>\n    <tr>\n      <th>nearestStation</th>\n      <td>46871.0</td>\n      <td>0.438847</td>\n      <td>0.325942</td>\n      <td>0.000000</td>\n      <td>0.227169</td>\n      <td>0.367971</td>\n      <td>0.559620</td>\n      <td>7.197700</td>\n    </tr>\n    <tr>\n      <th>location.latitude</th>\n      <td>46871.0</td>\n      <td>51.497049</td>\n      <td>0.077085</td>\n      <td>51.298317</td>\n      <td>51.438861</td>\n      <td>51.499977</td>\n      <td>51.556183</td>\n      <td>51.683185</td>\n    </tr>\n    <tr>\n      <th>location.longitude</th>\n      <td>46871.0</td>\n      <td>-0.113269</td>\n      <td>0.156489</td>\n      <td>-0.498315</td>\n      <td>-0.210796</td>\n      <td>-0.102230</td>\n      <td>-0.010343</td>\n      <td>0.279726</td>\n    </tr>\n    <tr>\n      <th>latitude_deviation</th>\n      <td>46871.0</td>\n      <td>0.064317</td>\n      <td>0.042573</td>\n      <td>0.000000</td>\n      <td>0.028876</td>\n      <td>0.058595</td>\n      <td>0.094362</td>\n      <td>0.201403</td>\n    </tr>\n    <tr>\n      <th>longitude_deviation</th>\n      <td>46871.0</td>\n      <td>0.124202</td>\n      <td>0.095607</td>\n      <td>0.000000</td>\n      <td>0.043560</td>\n      <td>0.098984</td>\n      <td>0.192684</td>\n      <td>0.393895</td>\n    </tr>\n  </tbody>\n</table>\n</div>"
     },
     "execution_count": 10,
     "metadata": {},
     "output_type": "execute_result"
    }
   ],
   "source": [
    "df.info()\n",
    "df.describe()\n",
    "df.describe().T"
   ]
  },
  {
   "cell_type": "code",
   "execution_count": 11,
   "metadata": {
    "execution": {
     "iopub.execute_input": "2022-11-19T23:42:59.211063Z",
     "iopub.status.busy": "2022-11-19T23:42:59.210819Z",
     "iopub.status.idle": "2022-11-19T23:42:59.268290Z",
     "shell.execute_reply": "2022-11-19T23:42:59.267619Z",
     "shell.execute_reply.started": "2022-11-19T23:42:59.211059Z"
    }
   },
   "outputs": [
    {
     "name": "stdout",
     "output_type": "stream",
     "text": [
      "dataframe contract due to cleaning: 46871 ==> 46871\n"
     ]
    },
    {
     "data": {
      "text/plain": "                       count           mean            std            min  \\\nPrice                46871.0  425069.390775  107227.324906  100000.000000   \nbedrooms             46871.0       1.992469       0.828837       1.000000   \nbathrooms            46871.0       1.182074       0.409879       1.000000   \nnearestStation       46871.0       0.438847       0.325942       0.000000   \nlocation.latitude    46871.0      51.497049       0.077085      51.298317   \nlocation.longitude   46871.0      -0.113269       0.156489      -0.498315   \nlatitude_deviation   46871.0       0.064317       0.042573       0.000000   \nlongitude_deviation  46871.0       0.124202       0.095607       0.000000   \n\n                               25%            50%            75%  \\\nPrice                349950.000000  425000.000000  515000.000000   \nbedrooms                  1.000000       2.000000       3.000000   \nbathrooms                 1.000000       1.000000       1.000000   \nnearestStation            0.227169       0.367971       0.559620   \nlocation.latitude        51.438861      51.499977      51.556183   \nlocation.longitude       -0.210796      -0.102230      -0.010343   \nlatitude_deviation        0.028876       0.058595       0.094362   \nlongitude_deviation       0.043560       0.098984       0.192684   \n\n                               max  \nPrice                600000.000000  \nbedrooms                  7.000000  \nbathrooms                 5.000000  \nnearestStation            7.197700  \nlocation.latitude        51.683185  \nlocation.longitude        0.279726  \nlatitude_deviation        0.201403  \nlongitude_deviation       0.393895  ",
      "text/html": "<div>\n<style scoped>\n    .dataframe tbody tr th:only-of-type {\n        vertical-align: middle;\n    }\n\n    .dataframe tbody tr th {\n        vertical-align: top;\n    }\n\n    .dataframe thead th {\n        text-align: right;\n    }\n</style>\n<table border=\"1\" class=\"dataframe\">\n  <thead>\n    <tr style=\"text-align: right;\">\n      <th></th>\n      <th>count</th>\n      <th>mean</th>\n      <th>std</th>\n      <th>min</th>\n      <th>25%</th>\n      <th>50%</th>\n      <th>75%</th>\n      <th>max</th>\n    </tr>\n  </thead>\n  <tbody>\n    <tr>\n      <th>Price</th>\n      <td>46871.0</td>\n      <td>425069.390775</td>\n      <td>107227.324906</td>\n      <td>100000.000000</td>\n      <td>349950.000000</td>\n      <td>425000.000000</td>\n      <td>515000.000000</td>\n      <td>600000.000000</td>\n    </tr>\n    <tr>\n      <th>bedrooms</th>\n      <td>46871.0</td>\n      <td>1.992469</td>\n      <td>0.828837</td>\n      <td>1.000000</td>\n      <td>1.000000</td>\n      <td>2.000000</td>\n      <td>3.000000</td>\n      <td>7.000000</td>\n    </tr>\n    <tr>\n      <th>bathrooms</th>\n      <td>46871.0</td>\n      <td>1.182074</td>\n      <td>0.409879</td>\n      <td>1.000000</td>\n      <td>1.000000</td>\n      <td>1.000000</td>\n      <td>1.000000</td>\n      <td>5.000000</td>\n    </tr>\n    <tr>\n      <th>nearestStation</th>\n      <td>46871.0</td>\n      <td>0.438847</td>\n      <td>0.325942</td>\n      <td>0.000000</td>\n      <td>0.227169</td>\n      <td>0.367971</td>\n      <td>0.559620</td>\n      <td>7.197700</td>\n    </tr>\n    <tr>\n      <th>location.latitude</th>\n      <td>46871.0</td>\n      <td>51.497049</td>\n      <td>0.077085</td>\n      <td>51.298317</td>\n      <td>51.438861</td>\n      <td>51.499977</td>\n      <td>51.556183</td>\n      <td>51.683185</td>\n    </tr>\n    <tr>\n      <th>location.longitude</th>\n      <td>46871.0</td>\n      <td>-0.113269</td>\n      <td>0.156489</td>\n      <td>-0.498315</td>\n      <td>-0.210796</td>\n      <td>-0.102230</td>\n      <td>-0.010343</td>\n      <td>0.279726</td>\n    </tr>\n    <tr>\n      <th>latitude_deviation</th>\n      <td>46871.0</td>\n      <td>0.064317</td>\n      <td>0.042573</td>\n      <td>0.000000</td>\n      <td>0.028876</td>\n      <td>0.058595</td>\n      <td>0.094362</td>\n      <td>0.201403</td>\n    </tr>\n    <tr>\n      <th>longitude_deviation</th>\n      <td>46871.0</td>\n      <td>0.124202</td>\n      <td>0.095607</td>\n      <td>0.000000</td>\n      <td>0.043560</td>\n      <td>0.098984</td>\n      <td>0.192684</td>\n      <td>0.393895</td>\n    </tr>\n  </tbody>\n</table>\n</div>"
     },
     "execution_count": 11,
     "metadata": {},
     "output_type": "execute_result"
    }
   ],
   "source": [
    "old_length = len(df)\n",
    "\n",
    "df = preprocess(df, version=VERSION)\n",
    "\n",
    "print(f\"dataframe contract due to cleaning: {old_length} ==> {len(df)}\")\n",
    "old_length = len(df)\n",
    "\n",
    "df.describe().T"
   ]
  },
  {
   "cell_type": "code",
   "execution_count": 12,
   "metadata": {
    "execution": {
     "iopub.execute_input": "2022-11-19T23:42:59.269405Z",
     "iopub.status.busy": "2022-11-19T23:42:59.269168Z",
     "iopub.status.idle": "2022-11-19T23:42:59.282131Z",
     "shell.execute_reply": "2022-11-19T23:42:59.281481Z",
     "shell.execute_reply.started": "2022-11-19T23:42:59.269384Z"
    }
   },
   "outputs": [
    {
     "data": {
      "text/plain": "Price                     0\nbedrooms                  0\nbathrooms                 0\nnearestStation            0\nlocation.latitude         0\nlocation.longitude        0\nlatitude_deviation        0\nlongitude_deviation       0\ntenure.tenureType      2744\ndtype: int64"
     },
     "execution_count": 12,
     "metadata": {},
     "output_type": "execute_result"
    }
   ],
   "source": [
    "df.isna().sum()"
   ]
  },
  {
   "cell_type": "code",
   "execution_count": 13,
   "metadata": {
    "execution": {
     "iopub.execute_input": "2022-11-19T23:42:59.283360Z",
     "iopub.status.busy": "2022-11-19T23:42:59.283078Z",
     "iopub.status.idle": "2022-11-19T23:42:59.336703Z",
     "shell.execute_reply": "2022-11-19T23:42:59.336027Z",
     "shell.execute_reply.started": "2022-11-19T23:42:59.283336Z"
    }
   },
   "outputs": [
    {
     "name": "stdout",
     "output_type": "stream",
     "text": [
      "46871 ==> 44127\n"
     ]
    },
    {
     "data": {
      "text/plain": "               Price      bedrooms    bathrooms  nearestStation  \\\ncount   44127.000000  44127.000000  44127.00000    44127.000000   \nmean   425224.642373      1.990981      1.18134        0.438522   \nstd    107203.332660      0.827621      0.40893        0.324152   \nmin    100000.000000      1.000000      1.00000        0.000000   \n25%    349950.000000      1.000000      1.00000        0.227551   \n50%    425000.000000      2.000000      1.00000        0.368351   \n75%    515000.000000      3.000000      1.00000        0.559486   \nmax    600000.000000      7.000000      5.00000        7.197700   \n\n       location.latitude  location.longitude  latitude_deviation  \\\ncount       44127.000000        44127.000000        44127.000000   \nmean           51.496711           -0.113106            0.064544   \nstd             0.077267            0.155863            0.042583   \nmin            51.298317           -0.498315            0.000000   \n25%            51.438303           -0.210633            0.029023   \n50%            51.498780           -0.101910            0.058904   \n75%            51.556343           -0.010854            0.094620   \nmax            51.683185            0.279726            0.201403   \n\n       longitude_deviation  \ncount         44127.000000  \nmean              0.123699  \nstd               0.095220  \nmin               0.000000  \n25%               0.043551  \n50%               0.098750  \n75%               0.191727  \nmax               0.393895  ",
      "text/html": "<div>\n<style scoped>\n    .dataframe tbody tr th:only-of-type {\n        vertical-align: middle;\n    }\n\n    .dataframe tbody tr th {\n        vertical-align: top;\n    }\n\n    .dataframe thead th {\n        text-align: right;\n    }\n</style>\n<table border=\"1\" class=\"dataframe\">\n  <thead>\n    <tr style=\"text-align: right;\">\n      <th></th>\n      <th>Price</th>\n      <th>bedrooms</th>\n      <th>bathrooms</th>\n      <th>nearestStation</th>\n      <th>location.latitude</th>\n      <th>location.longitude</th>\n      <th>latitude_deviation</th>\n      <th>longitude_deviation</th>\n    </tr>\n  </thead>\n  <tbody>\n    <tr>\n      <th>count</th>\n      <td>44127.000000</td>\n      <td>44127.000000</td>\n      <td>44127.00000</td>\n      <td>44127.000000</td>\n      <td>44127.000000</td>\n      <td>44127.000000</td>\n      <td>44127.000000</td>\n      <td>44127.000000</td>\n    </tr>\n    <tr>\n      <th>mean</th>\n      <td>425224.642373</td>\n      <td>1.990981</td>\n      <td>1.18134</td>\n      <td>0.438522</td>\n      <td>51.496711</td>\n      <td>-0.113106</td>\n      <td>0.064544</td>\n      <td>0.123699</td>\n    </tr>\n    <tr>\n      <th>std</th>\n      <td>107203.332660</td>\n      <td>0.827621</td>\n      <td>0.40893</td>\n      <td>0.324152</td>\n      <td>0.077267</td>\n      <td>0.155863</td>\n      <td>0.042583</td>\n      <td>0.095220</td>\n    </tr>\n    <tr>\n      <th>min</th>\n      <td>100000.000000</td>\n      <td>1.000000</td>\n      <td>1.00000</td>\n      <td>0.000000</td>\n      <td>51.298317</td>\n      <td>-0.498315</td>\n      <td>0.000000</td>\n      <td>0.000000</td>\n    </tr>\n    <tr>\n      <th>25%</th>\n      <td>349950.000000</td>\n      <td>1.000000</td>\n      <td>1.00000</td>\n      <td>0.227551</td>\n      <td>51.438303</td>\n      <td>-0.210633</td>\n      <td>0.029023</td>\n      <td>0.043551</td>\n    </tr>\n    <tr>\n      <th>50%</th>\n      <td>425000.000000</td>\n      <td>2.000000</td>\n      <td>1.00000</td>\n      <td>0.368351</td>\n      <td>51.498780</td>\n      <td>-0.101910</td>\n      <td>0.058904</td>\n      <td>0.098750</td>\n    </tr>\n    <tr>\n      <th>75%</th>\n      <td>515000.000000</td>\n      <td>3.000000</td>\n      <td>1.00000</td>\n      <td>0.559486</td>\n      <td>51.556343</td>\n      <td>-0.010854</td>\n      <td>0.094620</td>\n      <td>0.191727</td>\n    </tr>\n    <tr>\n      <th>max</th>\n      <td>600000.000000</td>\n      <td>7.000000</td>\n      <td>5.00000</td>\n      <td>7.197700</td>\n      <td>51.683185</td>\n      <td>0.279726</td>\n      <td>0.201403</td>\n      <td>0.393895</td>\n    </tr>\n  </tbody>\n</table>\n</div>"
     },
     "execution_count": 13,
     "metadata": {},
     "output_type": "execute_result"
    }
   ],
   "source": [
    "df = df.dropna()\n",
    "print(f\"{old_length} ==> {len(df)}\")\n",
    "old_length = len(df)\n",
    "df.describe()"
   ]
  },
  {
   "cell_type": "code",
   "execution_count": 14,
   "metadata": {
    "execution": {
     "iopub.execute_input": "2022-11-19T23:42:59.337836Z",
     "iopub.status.busy": "2022-11-19T23:42:59.337604Z",
     "iopub.status.idle": "2022-11-19T23:42:59.379445Z",
     "shell.execute_reply": "2022-11-19T23:42:59.378683Z",
     "shell.execute_reply.started": "2022-11-19T23:42:59.337815Z"
    }
   },
   "outputs": [
    {
     "name": "stdout",
     "output_type": "stream",
     "text": [
      "(39714, 11) (4413, 11) (39714, 1) (4413, 1) (39714, 1) (4413, 1) (39714, 1) (4413, 1)\n"
     ]
    }
   ],
   "source": [
    "X_train, X_test, y_train, y_test, X_train_index, X_test_index, y_train_index, y_test_index, df_features, df_labels = create_train_test_data(\n",
    "    df,\n",
    "    categories=categories,\n",
    "    RANDOM_STATE=RANDOM_STATE, return_index=True,\n",
    "    drop_nulls=True)\n",
    "\n",
    "print(X_train.shape, X_test.shape, y_train.shape, y_test.shape, X_train_index.shape, X_test_index.shape,\n",
    "      y_train_index.shape, y_test_index.shape)\n"
   ]
  },
  {
   "cell_type": "code",
   "execution_count": 15,
   "metadata": {
    "execution": {
     "iopub.execute_input": "2022-11-19T23:42:59.380789Z",
     "iopub.status.busy": "2022-11-19T23:42:59.380525Z",
     "iopub.status.idle": "2022-11-19T23:42:59.384285Z",
     "shell.execute_reply": "2022-11-19T23:42:59.383508Z",
     "shell.execute_reply.started": "2022-11-19T23:42:59.380767Z"
    }
   },
   "outputs": [],
   "source": [
    "#imputer = SimpleImputer(strategy='mean')\n",
    "#imputer.fit(X_train[6])\n",
    "#X_train[6] = imputer.transform(X_train[6])"
   ]
  },
  {
   "cell_type": "code",
   "execution_count": 16,
   "metadata": {
    "execution": {
     "iopub.execute_input": "2022-11-19T23:42:59.386524Z",
     "iopub.status.busy": "2022-11-19T23:42:59.385742Z",
     "iopub.status.idle": "2022-11-19T23:42:59.401342Z",
     "shell.execute_reply": "2022-11-19T23:42:59.400349Z",
     "shell.execute_reply.started": "2022-11-19T23:42:59.386487Z"
    }
   },
   "outputs": [
    {
     "data": {
      "text/plain": "Pipeline(steps=[('std_scaler', StandardScaler()),\n                ('model',\n                 KerasRegressor(model=<function make_regression_ann at 0x7fbdedc1bf70>, verbose=0))])",
      "text/html": "<style>#sk-container-id-1 {color: black;background-color: white;}#sk-container-id-1 pre{padding: 0;}#sk-container-id-1 div.sk-toggleable {background-color: white;}#sk-container-id-1 label.sk-toggleable__label {cursor: pointer;display: block;width: 100%;margin-bottom: 0;padding: 0.3em;box-sizing: border-box;text-align: center;}#sk-container-id-1 label.sk-toggleable__label-arrow:before {content: \"▸\";float: left;margin-right: 0.25em;color: #696969;}#sk-container-id-1 label.sk-toggleable__label-arrow:hover:before {color: black;}#sk-container-id-1 div.sk-estimator:hover label.sk-toggleable__label-arrow:before {color: black;}#sk-container-id-1 div.sk-toggleable__content {max-height: 0;max-width: 0;overflow: hidden;text-align: left;background-color: #f0f8ff;}#sk-container-id-1 div.sk-toggleable__content pre {margin: 0.2em;color: black;border-radius: 0.25em;background-color: #f0f8ff;}#sk-container-id-1 input.sk-toggleable__control:checked~div.sk-toggleable__content {max-height: 200px;max-width: 100%;overflow: auto;}#sk-container-id-1 input.sk-toggleable__control:checked~label.sk-toggleable__label-arrow:before {content: \"▾\";}#sk-container-id-1 div.sk-estimator input.sk-toggleable__control:checked~label.sk-toggleable__label {background-color: #d4ebff;}#sk-container-id-1 div.sk-label input.sk-toggleable__control:checked~label.sk-toggleable__label {background-color: #d4ebff;}#sk-container-id-1 input.sk-hidden--visually {border: 0;clip: rect(1px 1px 1px 1px);clip: rect(1px, 1px, 1px, 1px);height: 1px;margin: -1px;overflow: hidden;padding: 0;position: absolute;width: 1px;}#sk-container-id-1 div.sk-estimator {font-family: monospace;background-color: #f0f8ff;border: 1px dotted black;border-radius: 0.25em;box-sizing: border-box;margin-bottom: 0.5em;}#sk-container-id-1 div.sk-estimator:hover {background-color: #d4ebff;}#sk-container-id-1 div.sk-parallel-item::after {content: \"\";width: 100%;border-bottom: 1px solid gray;flex-grow: 1;}#sk-container-id-1 div.sk-label:hover label.sk-toggleable__label {background-color: #d4ebff;}#sk-container-id-1 div.sk-serial::before {content: \"\";position: absolute;border-left: 1px solid gray;box-sizing: border-box;top: 0;bottom: 0;left: 50%;z-index: 0;}#sk-container-id-1 div.sk-serial {display: flex;flex-direction: column;align-items: center;background-color: white;padding-right: 0.2em;padding-left: 0.2em;position: relative;}#sk-container-id-1 div.sk-item {position: relative;z-index: 1;}#sk-container-id-1 div.sk-parallel {display: flex;align-items: stretch;justify-content: center;background-color: white;position: relative;}#sk-container-id-1 div.sk-item::before, #sk-container-id-1 div.sk-parallel-item::before {content: \"\";position: absolute;border-left: 1px solid gray;box-sizing: border-box;top: 0;bottom: 0;left: 50%;z-index: -1;}#sk-container-id-1 div.sk-parallel-item {display: flex;flex-direction: column;z-index: 1;position: relative;background-color: white;}#sk-container-id-1 div.sk-parallel-item:first-child::after {align-self: flex-end;width: 50%;}#sk-container-id-1 div.sk-parallel-item:last-child::after {align-self: flex-start;width: 50%;}#sk-container-id-1 div.sk-parallel-item:only-child::after {width: 0;}#sk-container-id-1 div.sk-dashed-wrapped {border: 1px dashed gray;margin: 0 0.4em 0.5em 0.4em;box-sizing: border-box;padding-bottom: 0.4em;background-color: white;}#sk-container-id-1 div.sk-label label {font-family: monospace;font-weight: bold;display: inline-block;line-height: 1.2em;}#sk-container-id-1 div.sk-label-container {text-align: center;}#sk-container-id-1 div.sk-container {/* jupyter's `normalize.less` sets `[hidden] { display: none; }` but bootstrap.min.css set `[hidden] { display: none !important; }` so we also need the `!important` here to be able to override the default hidden behavior on the sphinx rendered scikit-learn.org. See: https://github.com/scikit-learn/scikit-learn/issues/21755 */display: inline-block !important;position: relative;}#sk-container-id-1 div.sk-text-repr-fallback {display: none;}</style><div id=\"sk-container-id-1\" class=\"sk-top-container\"><div class=\"sk-text-repr-fallback\"><pre>Pipeline(steps=[(&#x27;std_scaler&#x27;, StandardScaler()),\n                (&#x27;model&#x27;,\n                 KerasRegressor(model=&lt;function make_regression_ann at 0x7fbdedc1bf70&gt;, verbose=0))])</pre><b>In a Jupyter environment, please rerun this cell to show the HTML representation or trust the notebook. <br />On GitHub, the HTML representation is unable to render, please try loading this page with nbviewer.org.</b></div><div class=\"sk-container\" hidden><div class=\"sk-item sk-dashed-wrapped\"><div class=\"sk-label-container\"><div class=\"sk-label sk-toggleable\"><input class=\"sk-toggleable__control sk-hidden--visually\" id=\"sk-estimator-id-1\" type=\"checkbox\" ><label for=\"sk-estimator-id-1\" class=\"sk-toggleable__label sk-toggleable__label-arrow\">Pipeline</label><div class=\"sk-toggleable__content\"><pre>Pipeline(steps=[(&#x27;std_scaler&#x27;, StandardScaler()),\n                (&#x27;model&#x27;,\n                 KerasRegressor(model=&lt;function make_regression_ann at 0x7fbdedc1bf70&gt;, verbose=0))])</pre></div></div></div><div class=\"sk-serial\"><div class=\"sk-item\"><div class=\"sk-estimator sk-toggleable\"><input class=\"sk-toggleable__control sk-hidden--visually\" id=\"sk-estimator-id-2\" type=\"checkbox\" ><label for=\"sk-estimator-id-2\" class=\"sk-toggleable__label sk-toggleable__label-arrow\">StandardScaler</label><div class=\"sk-toggleable__content\"><pre>StandardScaler()</pre></div></div></div><div class=\"sk-item\"><div class=\"sk-estimator sk-toggleable\"><input class=\"sk-toggleable__control sk-hidden--visually\" id=\"sk-estimator-id-3\" type=\"checkbox\" ><label for=\"sk-estimator-id-3\" class=\"sk-toggleable__label sk-toggleable__label-arrow\">KerasRegressor</label><div class=\"sk-toggleable__content\"><pre>KerasRegressor(\n\tmodel=&lt;function make_regression_ann at 0x7fbdedc1bf70&gt;\n\tbuild_fn=None\n\twarm_start=False\n\trandom_state=None\n\toptimizer=rmsprop\n\tloss=None\n\tmetrics=None\n\tbatch_size=None\n\tvalidation_batch_size=None\n\tverbose=0\n\tcallbacks=None\n\tvalidation_split=0.0\n\tshuffle=True\n\trun_eagerly=False\n\tepochs=1\n)</pre></div></div></div></div></div></div></div>"
     },
     "execution_count": 16,
     "metadata": {},
     "output_type": "execute_result"
    }
   ],
   "source": [
    "starter_pipe = make_modelling_pipeline(KerasRegressor(make_regression_ann, verbose=0), DATA_DETAIL)\n",
    "starter_pipe"
   ]
  },
  {
   "cell_type": "code",
   "execution_count": 17,
   "metadata": {
    "execution": {
     "iopub.execute_input": "2022-11-19T23:42:59.403850Z",
     "iopub.status.busy": "2022-11-19T23:42:59.402771Z",
     "iopub.status.idle": "2022-11-19T23:42:59.409435Z",
     "shell.execute_reply": "2022-11-19T23:42:59.408615Z",
     "shell.execute_reply.started": "2022-11-19T23:42:59.403811Z"
    }
   },
   "outputs": [
    {
     "data": {
      "text/plain": "{'model': <function __main__.make_regression_ann(key, initializer='uniform', activation='relu', optimizer='adam', loss='mse')>,\n 'build_fn': None,\n 'warm_start': False,\n 'random_state': None,\n 'optimizer': 'rmsprop',\n 'loss': None,\n 'metrics': None,\n 'batch_size': None,\n 'validation_batch_size': None,\n 'verbose': 0,\n 'callbacks': None,\n 'validation_split': 0.0,\n 'shuffle': True,\n 'run_eagerly': False,\n 'epochs': 1}"
     },
     "execution_count": 17,
     "metadata": {},
     "output_type": "execute_result"
    }
   ],
   "source": [
    "starter_model = starter_pipe[-1]\n",
    "default_model_params = starter_model.get_params()\n",
    "default_model_params"
   ]
  },
  {
   "cell_type": "code",
   "execution_count": 18,
   "metadata": {
    "execution": {
     "iopub.execute_input": "2022-11-19T23:42:59.410989Z",
     "iopub.status.busy": "2022-11-19T23:42:59.410735Z",
     "iopub.status.idle": "2022-11-19T23:42:59.419039Z",
     "shell.execute_reply": "2022-11-19T23:42:59.418115Z",
     "shell.execute_reply.started": "2022-11-19T23:42:59.410967Z"
    }
   },
   "outputs": [
    {
     "data": {
      "text/plain": "['accuracy',\n 'adjusted_mutual_info_score',\n 'adjusted_rand_score',\n 'average_precision',\n 'balanced_accuracy',\n 'completeness_score',\n 'explained_variance',\n 'f1',\n 'f1_macro',\n 'f1_micro',\n 'f1_samples',\n 'f1_weighted',\n 'fowlkes_mallows_score',\n 'homogeneity_score',\n 'jaccard',\n 'jaccard_macro',\n 'jaccard_micro',\n 'jaccard_samples',\n 'jaccard_weighted',\n 'matthews_corrcoef',\n 'max_error',\n 'mutual_info_score',\n 'neg_brier_score',\n 'neg_log_loss',\n 'neg_mean_absolute_error',\n 'neg_mean_absolute_percentage_error',\n 'neg_mean_gamma_deviance',\n 'neg_mean_poisson_deviance',\n 'neg_mean_squared_error',\n 'neg_mean_squared_log_error',\n 'neg_median_absolute_error',\n 'neg_root_mean_squared_error',\n 'normalized_mutual_info_score',\n 'precision',\n 'precision_macro',\n 'precision_micro',\n 'precision_samples',\n 'precision_weighted',\n 'r2',\n 'rand_score',\n 'recall',\n 'recall_macro',\n 'recall_micro',\n 'recall_samples',\n 'recall_weighted',\n 'roc_auc',\n 'roc_auc_ovo',\n 'roc_auc_ovo_weighted',\n 'roc_auc_ovr',\n 'roc_auc_ovr_weighted',\n 'top_k_accuracy',\n 'v_measure_score']"
     },
     "execution_count": 18,
     "metadata": {},
     "output_type": "execute_result"
    }
   ],
   "source": [
    "import sklearn\n",
    "sklearn.metrics.get_scorer_names()"
   ]
  },
  {
   "cell_type": "code",
   "execution_count": 19,
   "metadata": {
    "execution": {
     "iopub.execute_input": "2022-11-19T23:59:54.204554Z",
     "iopub.status.busy": "2022-11-19T23:59:54.203823Z",
     "iopub.status.idle": "2022-11-20T00:03:47.220272Z",
     "shell.execute_reply": "2022-11-20T00:03:47.219394Z",
     "shell.execute_reply.started": "2022-11-19T23:59:54.204522Z"
    }
   },
   "outputs": [
    {
     "name": "stderr",
     "output_type": "stream",
     "text": [
      "2022-11-20 01:29:58.875133: I tensorflow/core/platform/cpu_feature_guard.cc:193] This TensorFlow binary is optimized with oneAPI Deep Neural Network Library (oneDNN) to use the following CPU instructions in performance-critical operations:  AVX2\n",
      "To enable them in other operations, rebuild TensorFlow with the appropriate compiler flags.\n"
     ]
    }
   ],
   "source": [
    "trainable_model, detail = make_simple_ann('simplest')\n",
    "ALGORITHM_DETAIL = ALGORITHM_DETAIL_ORIG + \" \" + detail\n",
    "#make_regression_ann('not used', )"
   ]
  },
  {
   "cell_type": "code",
   "execution_count": 20,
   "metadata": {
    "execution": {
     "iopub.execute_input": "2022-11-20T00:04:10.221986Z",
     "iopub.status.busy": "2022-11-20T00:04:10.221648Z",
     "iopub.status.idle": "2022-11-20T00:04:10.234930Z",
     "shell.execute_reply": "2022-11-20T00:04:10.234144Z",
     "shell.execute_reply.started": "2022-11-20T00:04:10.221961Z"
    },
    "pycharm": {
     "name": "#%%time\n"
    }
   },
   "outputs": [
    {
     "name": "stdout",
     "output_type": "stream",
     "text": [
      "Epoch 1/5\n",
      "993/993 [==============================] - 8s 7ms/step - loss: 192113475584.0000 - val_loss: 192972718080.0000\n",
      "Epoch 2/5\n",
      "993/993 [==============================] - 6s 6ms/step - loss: 192014974976.0000 - val_loss: 192872448000.0000\n",
      "Epoch 3/5\n",
      "993/993 [==============================] - 6s 6ms/step - loss: 191916113920.0000 - val_loss: 192772177920.0000\n",
      "Epoch 4/5\n",
      "993/993 [==============================] - 6s 6ms/step - loss: 191817498624.0000 - val_loss: 192672448512.0000\n",
      "Epoch 5/5\n",
      "993/993 [==============================] - 6s 6ms/step - loss: 191718981632.0000 - val_loss: 192572751872.0000\n"
     ]
    }
   ],
   "source": [
    "#history = starter_pipe[-1].fit(\n",
    "#history = simple_model.fit(\n",
    "history = trainable_model.fit(\n",
    "    X_train,\n",
    "    y_train,\n",
    "    epochs=100 if not OVERRIDE_EPOCHS else OVERRIDE_EPOCHS,\n",
    "    # verbose=0 to suppress logging.\n",
    "    verbose=1,\n",
    "    # Calculate validation results on 20% of the training data.\n",
    "    validation_split = 0.2,\n",
    ")"
   ]
  },
  {
   "cell_type": "code",
   "execution_count": 21,
   "metadata": {
    "execution": {
     "iopub.execute_input": "2022-11-20T00:04:26.954706Z",
     "iopub.status.busy": "2022-11-20T00:04:26.953860Z",
     "iopub.status.idle": "2022-11-20T00:04:26.963677Z",
     "shell.execute_reply": "2022-11-20T00:04:26.962609Z",
     "shell.execute_reply.started": "2022-11-20T00:04:26.954661Z"
    }
   },
   "outputs": [
    {
     "data": {
      "text/plain": "           loss      val_loss  epoch\n0  1.921135e+11  1.929727e+11      0\n1  1.920150e+11  1.928724e+11      1\n2  1.919161e+11  1.927722e+11      2\n3  1.918175e+11  1.926724e+11      3\n4  1.917190e+11  1.925728e+11      4",
      "text/html": "<div>\n<style scoped>\n    .dataframe tbody tr th:only-of-type {\n        vertical-align: middle;\n    }\n\n    .dataframe tbody tr th {\n        vertical-align: top;\n    }\n\n    .dataframe thead th {\n        text-align: right;\n    }\n</style>\n<table border=\"1\" class=\"dataframe\">\n  <thead>\n    <tr style=\"text-align: right;\">\n      <th></th>\n      <th>loss</th>\n      <th>val_loss</th>\n      <th>epoch</th>\n    </tr>\n  </thead>\n  <tbody>\n    <tr>\n      <th>0</th>\n      <td>1.921135e+11</td>\n      <td>1.929727e+11</td>\n      <td>0</td>\n    </tr>\n    <tr>\n      <th>1</th>\n      <td>1.920150e+11</td>\n      <td>1.928724e+11</td>\n      <td>1</td>\n    </tr>\n    <tr>\n      <th>2</th>\n      <td>1.919161e+11</td>\n      <td>1.927722e+11</td>\n      <td>2</td>\n    </tr>\n    <tr>\n      <th>3</th>\n      <td>1.918175e+11</td>\n      <td>1.926724e+11</td>\n      <td>3</td>\n    </tr>\n    <tr>\n      <th>4</th>\n      <td>1.917190e+11</td>\n      <td>1.925728e+11</td>\n      <td>4</td>\n    </tr>\n  </tbody>\n</table>\n</div>"
     },
     "execution_count": 21,
     "metadata": {},
     "output_type": "execute_result"
    }
   ],
   "source": [
    "hist = pd.DataFrame(history.history)\n",
    "hist['epoch'] = history.epoch\n",
    "hist.tail()"
   ]
  },
  {
   "cell_type": "code",
   "execution_count": 22,
   "metadata": {
    "execution": {
     "iopub.execute_input": "2022-11-20T00:05:36.533001Z",
     "iopub.status.busy": "2022-11-20T00:05:36.532188Z",
     "iopub.status.idle": "2022-11-20T00:05:36.539798Z",
     "shell.execute_reply": "2022-11-20T00:05:36.539173Z",
     "shell.execute_reply.started": "2022-11-20T00:05:36.532971Z"
    }
   },
   "outputs": [
    {
     "name": "stdout",
     "output_type": "stream",
     "text": [
      "138/138 [==============================] - 1s 4ms/step\n"
     ]
    }
   ],
   "source": [
    "y_pred = trainable_model.predict(X_test)"
   ]
  },
  {
   "cell_type": "code",
   "execution_count": 23,
   "metadata": {
    "execution": {
     "iopub.execute_input": "2022-11-20T00:05:46.386006Z",
     "iopub.status.busy": "2022-11-20T00:05:46.385274Z",
     "iopub.status.idle": "2022-11-20T00:05:46.390723Z",
     "shell.execute_reply": "2022-11-20T00:05:46.389821Z",
     "shell.execute_reply.started": "2022-11-20T00:05:46.385976Z"
    }
   },
   "outputs": [
    {
     "name": "stdout",
     "output_type": "stream",
     "text": [
      "----------Neural Network----------\n",
      "R square Accuracy -15.951241450522414\n",
      "Mean Absolute Error Accuracy 424575.27787991683\n",
      "Mean Squared Error Accuracy 191488099337.006\n",
      "Root Mean Squared Error 437593.5321014309\n"
     ]
    }
   ],
   "source": [
    "y_pred = y_pred.reshape((-1, 1))\n",
    "\n",
    "R2 = r2_score(y_test, y_pred)\n",
    "MAE = mean_absolute_error(y_test, y_pred)\n",
    "MSE = mean_squared_error(y_test, y_pred)\n",
    "RMSE = math.sqrt(MSE)\n",
    "print('-' * 10 + ALGORITHM + '-' * 10)\n",
    "print('R square Accuracy', R2)\n",
    "print('Mean Absolute Error Accuracy', MAE)\n",
    "print('Mean Squared Error Accuracy', MSE)\n",
    "print('Root Mean Squared Error', RMSE)"
   ]
  },
  {
   "cell_type": "code",
   "execution_count": 24,
   "metadata": {
    "execution": {
     "iopub.execute_input": "2022-11-20T00:05:47.093109Z",
     "iopub.status.busy": "2022-11-20T00:05:47.092398Z",
     "iopub.status.idle": "2022-11-20T00:05:47.111738Z",
     "shell.execute_reply": "2022-11-20T00:05:47.110878Z",
     "shell.execute_reply.started": "2022-11-20T00:05:47.093078Z"
    }
   },
   "outputs": [],
   "source": [
    "if debug_mode:\n",
    "    print(y_test_index.reshape((-1, 1)).shape);\n",
    "    print(y_pred.reshape((-1, 1)).shape);\n",
    "    print(y_test.shape);\n",
    "    print(y_test_index.shape);\n",
    "    print(y_pred.shape);\n",
    "    print(y_test.shape)"
   ]
  },
  {
   "cell_type": "code",
   "execution_count": 25,
   "metadata": {
    "execution": {
     "iopub.execute_input": "2022-11-20T00:05:55.915941Z",
     "iopub.status.busy": "2022-11-20T00:05:55.915231Z",
     "iopub.status.idle": "2022-11-20T00:05:55.945980Z",
     "shell.execute_reply": "2022-11-20T00:05:55.945342Z",
     "shell.execute_reply.started": "2022-11-20T00:05:55.915911Z"
    }
   },
   "outputs": [
    {
     "data": {
      "text/plain": "             actual    predicted     difference    diff 1 %      diff 2 %\nreference                                                                \n85490754   400000.0  -101.215027  400101.215027  100.025304  3.952982e+05\n119328242  369950.0   -26.258911  369976.258911  100.007098  1.408955e+06\n125716790  350000.0   476.475647  349523.524353   99.863864  7.335601e+04\n122440040  549000.0   287.284332  548712.715668   99.947671  1.909999e+05\n120508103  495000.0   835.020142  494164.979858   99.831309  5.918001e+04\n...             ...          ...            ...         ...           ...\n68620869   475000.0  1704.337280  473295.662720   99.641192  2.777007e+04\n85735665   575000.0  2629.389648  572370.610352   99.542715  2.176819e+04\n125706338  400000.0   -60.589966  400060.589966  100.015147  6.602753e+05\n112739354  450000.0   596.316711  449403.683289   99.867485  7.536325e+04\n122707001  275000.0   471.559296  274528.440704   99.828524  5.821716e+04\n\n[4413 rows x 5 columns]",
      "text/html": "<div>\n<style scoped>\n    .dataframe tbody tr th:only-of-type {\n        vertical-align: middle;\n    }\n\n    .dataframe tbody tr th {\n        vertical-align: top;\n    }\n\n    .dataframe thead th {\n        text-align: right;\n    }\n</style>\n<table border=\"1\" class=\"dataframe\">\n  <thead>\n    <tr style=\"text-align: right;\">\n      <th></th>\n      <th>actual</th>\n      <th>predicted</th>\n      <th>difference</th>\n      <th>diff 1 %</th>\n      <th>diff 2 %</th>\n    </tr>\n    <tr>\n      <th>reference</th>\n      <th></th>\n      <th></th>\n      <th></th>\n      <th></th>\n      <th></th>\n    </tr>\n  </thead>\n  <tbody>\n    <tr>\n      <th>85490754</th>\n      <td>400000.0</td>\n      <td>-101.215027</td>\n      <td>400101.215027</td>\n      <td>100.025304</td>\n      <td>3.952982e+05</td>\n    </tr>\n    <tr>\n      <th>119328242</th>\n      <td>369950.0</td>\n      <td>-26.258911</td>\n      <td>369976.258911</td>\n      <td>100.007098</td>\n      <td>1.408955e+06</td>\n    </tr>\n    <tr>\n      <th>125716790</th>\n      <td>350000.0</td>\n      <td>476.475647</td>\n      <td>349523.524353</td>\n      <td>99.863864</td>\n      <td>7.335601e+04</td>\n    </tr>\n    <tr>\n      <th>122440040</th>\n      <td>549000.0</td>\n      <td>287.284332</td>\n      <td>548712.715668</td>\n      <td>99.947671</td>\n      <td>1.909999e+05</td>\n    </tr>\n    <tr>\n      <th>120508103</th>\n      <td>495000.0</td>\n      <td>835.020142</td>\n      <td>494164.979858</td>\n      <td>99.831309</td>\n      <td>5.918001e+04</td>\n    </tr>\n    <tr>\n      <th>...</th>\n      <td>...</td>\n      <td>...</td>\n      <td>...</td>\n      <td>...</td>\n      <td>...</td>\n    </tr>\n    <tr>\n      <th>68620869</th>\n      <td>475000.0</td>\n      <td>1704.337280</td>\n      <td>473295.662720</td>\n      <td>99.641192</td>\n      <td>2.777007e+04</td>\n    </tr>\n    <tr>\n      <th>85735665</th>\n      <td>575000.0</td>\n      <td>2629.389648</td>\n      <td>572370.610352</td>\n      <td>99.542715</td>\n      <td>2.176819e+04</td>\n    </tr>\n    <tr>\n      <th>125706338</th>\n      <td>400000.0</td>\n      <td>-60.589966</td>\n      <td>400060.589966</td>\n      <td>100.015147</td>\n      <td>6.602753e+05</td>\n    </tr>\n    <tr>\n      <th>112739354</th>\n      <td>450000.0</td>\n      <td>596.316711</td>\n      <td>449403.683289</td>\n      <td>99.867485</td>\n      <td>7.536325e+04</td>\n    </tr>\n    <tr>\n      <th>122707001</th>\n      <td>275000.0</td>\n      <td>471.559296</td>\n      <td>274528.440704</td>\n      <td>99.828524</td>\n      <td>5.821716e+04</td>\n    </tr>\n  </tbody>\n</table>\n<p>4413 rows × 5 columns</p>\n</div>"
     },
     "execution_count": 25,
     "metadata": {},
     "output_type": "execute_result"
    }
   ],
   "source": [
    "compare = np.hstack((y_test_index, y_test, y_pred))\n",
    "compare_df = DataFrame(compare, columns=['reference', 'actual', 'predicted'])\n",
    "compare_df['difference'] = abs(compare_df['actual'] - compare_df['predicted'])\n",
    "compare_df['diff 1 %'] = abs((compare_df['actual'] - compare_df['predicted']) / compare_df['actual'] * 100)\n",
    "compare_df['diff 2 %'] = abs((compare_df['actual'] - compare_df['predicted']) / compare_df['predicted']) * 100\n",
    "compare_df['reference'] = compare_df['reference'].astype(int)\n",
    "compare_df.set_index('reference', inplace=True)\n",
    "compare_df"
   ]
  },
  {
   "cell_type": "code",
   "execution_count": 26,
   "metadata": {
    "execution": {
     "iopub.execute_input": "2022-11-20T00:06:35.082081Z",
     "iopub.status.busy": "2022-11-20T00:06:35.081404Z",
     "iopub.status.idle": "2022-11-20T00:06:35.096387Z",
     "shell.execute_reply": "2022-11-20T00:06:35.095211Z",
     "shell.execute_reply.started": "2022-11-20T00:06:35.082051Z"
    }
   },
   "outputs": [
    {
     "data": {
      "text/plain": "           actual  predicted     difference    diff 1 %      diff 2 %   Price  \\\n96602536   170000       -504  170504.493408  100.296761  33797.169722  170000   \n109722224  108000       -289  108289.956360  100.268478  37346.984357  108000   \n125083952  180000       -451  180451.075378  100.250597  40004.638695  180000   \n112148798  195000       -474  195474.881226  100.243529  41162.899414  195000   \n79400709   210000       -474  210474.051819  100.225739  44398.954598  210000   \n...           ...        ...            ...         ...           ...     ...   \n118846151  399995       2303  397691.979004   99.424238  17268.274136  399995   \n122896754  525000       3025  521974.547852   99.423723  17252.778171  525000   \n119768288  400000       2322  397677.094727   99.419274  17119.815400  400000   \n122834111  499995       3331  496663.148926   99.333623  14906.523067  499995   \n122265818  160000       1499  158500.808228   99.063005  10572.417161  160000   \n\n           bedrooms  bathrooms  nearestStation  location.latitude  \\\n96602536          1          1        0.321060          51.338530   \n109722224         1          1        0.302667          51.406803   \n125083952         1          1        0.858985          51.604984   \n112148798         1          1        1.124854          51.608846   \n79400709          1          1        0.166615          51.375842   \n...             ...        ...             ...                ...   \n118846151         4          3        1.128960          51.506300   \n122896754         5          4        0.511600          51.551420   \n119768288         4          3        0.637887          51.492317   \n122834111         6          4        0.514528          51.482780   \n122265818         3          1        0.166024          51.510420   \n\n           location.longitude  latitude_deviation  longitude_deviation  \\\n96602536            -0.013780            0.161190             0.090640   \n109722224           -0.261328            0.092917             0.156908   \n125083952            0.238017            0.105264             0.342437   \n112148798            0.230014            0.109126             0.334434   \n79400709             0.085871            0.123878             0.190291   \n...                       ...                 ...                  ...   \n118846151            0.116570            0.006580             0.220990   \n122896754            0.072500            0.051700             0.176920   \n119768288            0.135397            0.007403             0.239817   \n122834111            0.089120            0.016940             0.193540   \n122265818           -0.037730            0.010700             0.066690   \n\n          tenure.tenureType  \n96602536          LEASEHOLD  \n109722224         LEASEHOLD  \n125083952         LEASEHOLD  \n112148798         LEASEHOLD  \n79400709          LEASEHOLD  \n...                     ...  \n118846151          FREEHOLD  \n122896754          FREEHOLD  \n119768288          FREEHOLD  \n122834111          FREEHOLD  \n122265818          FREEHOLD  \n\n[4413 rows x 14 columns]",
      "text/html": "<div>\n<style scoped>\n    .dataframe tbody tr th:only-of-type {\n        vertical-align: middle;\n    }\n\n    .dataframe tbody tr th {\n        vertical-align: top;\n    }\n\n    .dataframe thead th {\n        text-align: right;\n    }\n</style>\n<table border=\"1\" class=\"dataframe\">\n  <thead>\n    <tr style=\"text-align: right;\">\n      <th></th>\n      <th>actual</th>\n      <th>predicted</th>\n      <th>difference</th>\n      <th>diff 1 %</th>\n      <th>diff 2 %</th>\n      <th>Price</th>\n      <th>bedrooms</th>\n      <th>bathrooms</th>\n      <th>nearestStation</th>\n      <th>location.latitude</th>\n      <th>location.longitude</th>\n      <th>latitude_deviation</th>\n      <th>longitude_deviation</th>\n      <th>tenure.tenureType</th>\n    </tr>\n  </thead>\n  <tbody>\n    <tr>\n      <th>96602536</th>\n      <td>170000</td>\n      <td>-504</td>\n      <td>170504.493408</td>\n      <td>100.296761</td>\n      <td>33797.169722</td>\n      <td>170000</td>\n      <td>1</td>\n      <td>1</td>\n      <td>0.321060</td>\n      <td>51.338530</td>\n      <td>-0.013780</td>\n      <td>0.161190</td>\n      <td>0.090640</td>\n      <td>LEASEHOLD</td>\n    </tr>\n    <tr>\n      <th>109722224</th>\n      <td>108000</td>\n      <td>-289</td>\n      <td>108289.956360</td>\n      <td>100.268478</td>\n      <td>37346.984357</td>\n      <td>108000</td>\n      <td>1</td>\n      <td>1</td>\n      <td>0.302667</td>\n      <td>51.406803</td>\n      <td>-0.261328</td>\n      <td>0.092917</td>\n      <td>0.156908</td>\n      <td>LEASEHOLD</td>\n    </tr>\n    <tr>\n      <th>125083952</th>\n      <td>180000</td>\n      <td>-451</td>\n      <td>180451.075378</td>\n      <td>100.250597</td>\n      <td>40004.638695</td>\n      <td>180000</td>\n      <td>1</td>\n      <td>1</td>\n      <td>0.858985</td>\n      <td>51.604984</td>\n      <td>0.238017</td>\n      <td>0.105264</td>\n      <td>0.342437</td>\n      <td>LEASEHOLD</td>\n    </tr>\n    <tr>\n      <th>112148798</th>\n      <td>195000</td>\n      <td>-474</td>\n      <td>195474.881226</td>\n      <td>100.243529</td>\n      <td>41162.899414</td>\n      <td>195000</td>\n      <td>1</td>\n      <td>1</td>\n      <td>1.124854</td>\n      <td>51.608846</td>\n      <td>0.230014</td>\n      <td>0.109126</td>\n      <td>0.334434</td>\n      <td>LEASEHOLD</td>\n    </tr>\n    <tr>\n      <th>79400709</th>\n      <td>210000</td>\n      <td>-474</td>\n      <td>210474.051819</td>\n      <td>100.225739</td>\n      <td>44398.954598</td>\n      <td>210000</td>\n      <td>1</td>\n      <td>1</td>\n      <td>0.166615</td>\n      <td>51.375842</td>\n      <td>0.085871</td>\n      <td>0.123878</td>\n      <td>0.190291</td>\n      <td>LEASEHOLD</td>\n    </tr>\n    <tr>\n      <th>...</th>\n      <td>...</td>\n      <td>...</td>\n      <td>...</td>\n      <td>...</td>\n      <td>...</td>\n      <td>...</td>\n      <td>...</td>\n      <td>...</td>\n      <td>...</td>\n      <td>...</td>\n      <td>...</td>\n      <td>...</td>\n      <td>...</td>\n      <td>...</td>\n    </tr>\n    <tr>\n      <th>118846151</th>\n      <td>399995</td>\n      <td>2303</td>\n      <td>397691.979004</td>\n      <td>99.424238</td>\n      <td>17268.274136</td>\n      <td>399995</td>\n      <td>4</td>\n      <td>3</td>\n      <td>1.128960</td>\n      <td>51.506300</td>\n      <td>0.116570</td>\n      <td>0.006580</td>\n      <td>0.220990</td>\n      <td>FREEHOLD</td>\n    </tr>\n    <tr>\n      <th>122896754</th>\n      <td>525000</td>\n      <td>3025</td>\n      <td>521974.547852</td>\n      <td>99.423723</td>\n      <td>17252.778171</td>\n      <td>525000</td>\n      <td>5</td>\n      <td>4</td>\n      <td>0.511600</td>\n      <td>51.551420</td>\n      <td>0.072500</td>\n      <td>0.051700</td>\n      <td>0.176920</td>\n      <td>FREEHOLD</td>\n    </tr>\n    <tr>\n      <th>119768288</th>\n      <td>400000</td>\n      <td>2322</td>\n      <td>397677.094727</td>\n      <td>99.419274</td>\n      <td>17119.815400</td>\n      <td>400000</td>\n      <td>4</td>\n      <td>3</td>\n      <td>0.637887</td>\n      <td>51.492317</td>\n      <td>0.135397</td>\n      <td>0.007403</td>\n      <td>0.239817</td>\n      <td>FREEHOLD</td>\n    </tr>\n    <tr>\n      <th>122834111</th>\n      <td>499995</td>\n      <td>3331</td>\n      <td>496663.148926</td>\n      <td>99.333623</td>\n      <td>14906.523067</td>\n      <td>499995</td>\n      <td>6</td>\n      <td>4</td>\n      <td>0.514528</td>\n      <td>51.482780</td>\n      <td>0.089120</td>\n      <td>0.016940</td>\n      <td>0.193540</td>\n      <td>FREEHOLD</td>\n    </tr>\n    <tr>\n      <th>122265818</th>\n      <td>160000</td>\n      <td>1499</td>\n      <td>158500.808228</td>\n      <td>99.063005</td>\n      <td>10572.417161</td>\n      <td>160000</td>\n      <td>3</td>\n      <td>1</td>\n      <td>0.166024</td>\n      <td>51.510420</td>\n      <td>-0.037730</td>\n      <td>0.010700</td>\n      <td>0.066690</td>\n      <td>FREEHOLD</td>\n    </tr>\n  </tbody>\n</table>\n<p>4413 rows × 14 columns</p>\n</div>"
     },
     "execution_count": 26,
     "metadata": {},
     "output_type": "execute_result"
    }
   ],
   "source": [
    "combined = compare_df.merge(df[columns], how='inner', left_index=True, right_index=True).sort_values(['diff 1 %'], ascending=False)\n",
    "#pd.options.display.float_format = '{:.4f}'.format\n",
    "combined[['predicted','actual','Price','bedrooms','bathrooms']] = combined[['predicted','actual','Price','bedrooms','bathrooms']].astype(int)\n",
    "combined['bedrooms'] = combined['bedrooms'].astype(int)\n",
    "combined"
   ]
  },
  {
   "cell_type": "code",
   "execution_count": 27,
   "metadata": {
    "execution": {
     "iopub.execute_input": "2022-11-20T00:06:59.896457Z",
     "iopub.status.busy": "2022-11-20T00:06:59.896078Z",
     "iopub.status.idle": "2022-11-20T00:07:00.269956Z",
     "shell.execute_reply": "2022-11-20T00:07:00.269254Z",
     "shell.execute_reply.started": "2022-11-20T00:06:59.896431Z"
    }
   },
   "outputs": [
    {
     "data": {
      "text/plain": "-15.951241450522414"
     },
     "execution_count": 27,
     "metadata": {},
     "output_type": "execute_result"
    }
   ],
   "source": [
    "r2score = r2_score(y_test, y_pred)\n",
    "r2score"
   ]
  },
  {
   "cell_type": "code",
   "execution_count": 28,
   "metadata": {
    "execution": {
     "iopub.execute_input": "2022-11-20T00:07:04.740966Z",
     "iopub.status.busy": "2022-11-20T00:07:04.740626Z",
     "iopub.status.idle": "2022-11-20T00:07:04.764438Z",
     "shell.execute_reply": "2022-11-20T00:07:04.763517Z",
     "shell.execute_reply.started": "2022-11-20T00:07:04.740942Z"
    }
   },
   "outputs": [
    {
     "name": "stdout",
     "output_type": "stream",
     "text": [
      "138/138 [==============================] - 1s 4ms/step\n"
     ]
    },
    {
     "data": {
      "text/plain": "<Figure size 640x480 with 1 Axes>",
      "image/png": "[encoded data removed]"
     },
     "metadata": {},
     "output_type": "display_data"
    }
   ],
   "source": [
    "fig, ax = plt.subplots()\n",
    "#ax.scatter(y_test, best_estimator_pipe.predict(X_test), edgecolors=(0, 0, 1))\n",
    "ax.scatter(y_test, trainable_model.predict(X_test), edgecolors=(0, 0, 1))\n",
    "ax.plot([y_test.min(), y_test.max()], [y_test.min(), y_test.max()], 'r--', lw=3)\n",
    "ax.set_ylabel('Predicted')\n",
    "ax.set_xlabel('Actual')\n",
    "#ax.title.set_text(f'CV Chosen best option ({calculated_best_pipe[1]})')\n",
    "plt.show()"
   ]
  },
  {
   "cell_type": "code",
   "execution_count": 29,
   "metadata": {
    "execution": {
     "iopub.status.busy": "2022-11-20T00:04:27.319293Z",
     "iopub.status.idle": "2022-11-20T00:04:27.319558Z",
     "shell.execute_reply": "2022-11-20T00:04:27.319446Z",
     "shell.execute_reply.started": "2022-11-20T00:04:27.319434Z"
    }
   },
   "outputs": [
    {
     "name": "stdout",
     "output_type": "stream",
     "text": [
      "neural network (v06)\n"
     ]
    }
   ],
   "source": [
    "#cv_best_model_fit_time = cv_results_df_sorted.iloc[0][\"mean_fit_time\"] if not_catboost else 999\n",
    "cv_best_model_fit_time = 999\n",
    "\n",
    "\n",
    "DD2 = \"(\" + \",\".join(DATA_DETAIL) + \")\" if len(DATA_DETAIL) >= 1 else \"\"\n",
    "key = f'{ALGORITHM} (v{VERSION})'.lower()\n",
    "\n",
    "method =  f\"{ALGORITHM_DETAIL}{DD2}\"\n",
    "\n",
    "new_results = {\n",
    "    #'_score': score,\n",
    "    '_score': r2score,\n",
    "    'R square Accuracy': R2,\n",
    "    'Mean Absolute Error Accuracy': MAE,\n",
    "    'Mean Squared Error Accuracy': MSE,\n",
    "    'Root Mean Squared Error': RMSE,\n",
    "    '_train time': cv_best_model_fit_time,\n",
    "    'random_state': RANDOM_STATE,\n",
    "    'date': str(datetime.now()),\n",
    "    #'_params': crossval_runner.best_params_ if not_catboost else cat_params,\n",
    "    '_params': 'not available',\n",
    "    '_method':method,\n",
    "    'run_env': run_env\n",
    "}\n",
    "\n",
    "if run_env not in ['colab']:\n",
    "    old_results_json = get_results()\n",
    "    try:\n",
    "        old_best_score = old_results_json[key]['best score']\n",
    "    except:\n",
    "        print(f\"haven't scored this model yet: {ALGORITHM}\")\n",
    "        old_best_score = -999\n",
    "    this_model_is_best = update_results(old_results_json, new_results, key)\n",
    "\n",
    "print(key)"
   ]
  },
  {
   "cell_type": "code",
   "execution_count": 30,
   "metadata": {
    "execution": {
     "iopub.status.busy": "2022-11-20T00:04:27.321739Z",
     "iopub.status.idle": "2022-11-20T00:04:27.322105Z",
     "shell.execute_reply": "2022-11-20T00:04:27.321905Z",
     "shell.execute_reply.started": "2022-11-20T00:04:27.321892Z"
    }
   },
   "outputs": [
    {
     "name": "stdout",
     "output_type": "stream",
     "text": [
      "not updated saved model, the previous run was better\n",
      "-15.951241450522414 is worse than or equal to 0.5566961181655233\n"
     ]
    }
   ],
   "source": [
    "if this_model_is_best:\n",
    "    with open(f'../../../models/optimised_model_{ALGORITHM}_v{VERSION}{DD2}.pkl', 'wb') as f:\n",
    "#        if not_catboost:\n",
    "#            pickle.dump(crossval_runner.best_estimator_, f)\n",
    "#        else:\n",
    "#            pickle.dump(starter_model, f)\n",
    "        pickle.dump(trainable_model, f)\n",
    "        print('pickled new version of model')\n",
    "        print(f\"{old_results_json[key]['_score']} is new best score (it's better than {old_best_score})\")\n",
    "        #print(results_json[key]['_score'], 'is an improvement on', results_json[key]['second best score'])\n",
    "else:\n",
    "    print(\"not updated saved model, the previous run was better\")\n",
    "    print(old_results_json[key]['_score'], 'is worse than or equal to', old_best_score)\n"
   ]
  }
 ],
 "metadata": {
  "kernelspec": {
   "display_name": "Python 3 (ipykernel)",
   "language": "python",
   "name": "python3"
  },
  "language_info": {
   "codemirror_mode": {
    "name": "ipython",
    "version": 3
   },
   "file_extension": ".py",
   "mimetype": "text/x-python",
   "name": "python",
   "nbconvert_exporter": "python",
   "pygments_lexer": "ipython3",
   "version": "3.9.13"
  }
 },
 "nbformat": 4,
 "nbformat_minor": 4
}
