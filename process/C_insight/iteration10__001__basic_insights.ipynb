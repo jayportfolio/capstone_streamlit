{
 "cells": [
  {
   "cell_type": "markdown",
   "metadata": {},
   "source": [
    "<div id = 3 style=\"color:white;\n",
    "           display:fill;\n",
    "           border-radius:20px;\n",
    "           background-color:#b02222;\n",
    "           font-size:100%;\n",
    "           font-family:Verdana;\n",
    "           letter-spacing:0.5px;\n",
    "           display:flex;\n",
    "            justify-content:center;\">\n",
    "\n",
    "<h2 style=\"padding: 6rem;\n",
    "              color:white;\n",
    "          text-align:center;\n",
    "          margin:10 auto;\n",
    "          \">\n",
    "    ITERATION 10: Identify, Isolate and Utilize more popular Key Features\n",
    "\n",
    "\n",
    "</h2>\n",
    "</div>"
   ]
  },
  {
   "cell_type": "code",
   "execution_count": 1,
   "metadata": {
    "execution": {
     "iopub.execute_input": "2022-11-17T00:34:44.080443Z",
     "iopub.status.busy": "2022-11-17T00:34:44.079546Z",
     "iopub.status.idle": "2022-11-17T00:34:48.679022Z",
     "shell.execute_reply": "2022-11-17T00:34:48.678154Z",
     "shell.execute_reply.started": "2022-11-17T00:34:44.080397Z"
    }
   },
   "outputs": [
    {
     "name": "stdout",
     "output_type": "stream",
     "text": [
      "{'notebook_environment': 'local', 'use_gpu': False, 'debug_mode': False, 'quick_mode': False, 'quick_override_cv_splits': 2, 'quick_override_n_iter': 10, 'quick_override_n_jobs': 3}\n"
     ]
    }
   ],
   "source": [
    "import json\n",
    "\n",
    "with open('../z_envs/_envs.json') as f:\n",
    "    env_vars = json.loads(f.read())\n",
    "print(env_vars)\n",
    "\n",
    "run_env = env_vars['notebook_environment']\n",
    "\n",
    "if run_env not in ['colab', 'gradient', 'cloud']:\n",
    "    cloud_run = False\n",
    "else:\n",
    "    cloud_run = True\n",
    "    import sys\n",
    "    import os\n",
    "\n",
    "    module_path = os.path.abspath(os.path.join('..', '..'))\n",
    "    if module_path not in sys.path:\n",
    "        sys.path.append(module_path)\n",
    "        \n",
    "    %pip install missingno\n",
    "\n",
    "from functions_0__common_20221116 import get_columns\n",
    "from functions_b__get_the_data_20221116 import set_csv_directory, get_combined_dataset\n",
    "from functions_d1__prepare_cleanse_data_20221116 import add_supplements, tidy_dataset\n",
    "from functions_d2__transform_enrich_data_20221116 import feature_engineer"
   ]
  },
  {
   "cell_type": "code",
   "execution_count": 2,
   "metadata": {
    "execution": {
     "iopub.execute_input": "2022-11-17T00:34:48.680947Z",
     "iopub.status.busy": "2022-11-17T00:34:48.680685Z",
     "iopub.status.idle": "2022-11-17T00:34:48.685820Z",
     "shell.execute_reply": "2022-11-17T00:34:48.685111Z",
     "shell.execute_reply.started": "2022-11-17T00:34:48.680922Z"
    }
   },
   "outputs": [],
   "source": [
    "import pandas as pd\n",
    "import seaborn as sns\n",
    "import matplotlib.pyplot as plt\n",
    "from termcolor import colored\n",
    "\n",
    "import warnings"
   ]
  },
  {
   "cell_type": "code",
   "execution_count": 3,
   "metadata": {
    "collapsed": false,
    "execution": {
     "iopub.execute_input": "2022-11-17T00:34:48.686989Z",
     "iopub.status.busy": "2022-11-17T00:34:48.686792Z",
     "iopub.status.idle": "2022-11-17T00:34:48.690257Z",
     "shell.execute_reply": "2022-11-17T00:34:48.689539Z",
     "shell.execute_reply.started": "2022-11-17T00:34:48.686971Z"
    },
    "jupyter": {
     "outputs_hidden": false
    }
   },
   "outputs": [],
   "source": [
    "VERSION = '10'\n",
    "\n",
    "warnings.filterwarnings(\"ignore\")"
   ]
  },
  {
   "cell_type": "code",
   "execution_count": 4,
   "metadata": {
    "collapsed": false,
    "execution": {
     "iopub.execute_input": "2022-11-17T00:34:48.691960Z",
     "iopub.status.busy": "2022-11-17T00:34:48.691740Z",
     "iopub.status.idle": "2022-11-17T00:34:48.696699Z",
     "shell.execute_reply": "2022-11-17T00:34:48.695994Z",
     "shell.execute_reply.started": "2022-11-17T00:34:48.691941Z"
    },
    "jupyter": {
     "outputs_hidden": false
    }
   },
   "outputs": [
    {
     "name": "stdout",
     "output_type": "stream",
     "text": [
      "\u001B[34mfeatures\u001B[0m ->  ['bedrooms', 'bathrooms', 'nearestStation', 'location.latitude', 'location.longitude', 'latitude_deviation', 'longitude_deviation', 'tenure.tenureType']\n",
      "\u001B[34m+ \u001B[0m ->  ['feature__']\n",
      "\u001B[32mlabel\u001B[0m ->  Price\n"
     ]
    }
   ],
   "source": [
    "LABEL = 'Price'\n",
    "\n",
    "columns, booleans, floats, categories, custom, wildcard = get_columns(version=VERSION)\n",
    "\n",
    "print(colored(f\"features\", \"blue\"), \"-> \", columns)\n",
    "print(colored(f\"+ \", \"blue\"), \"-> \", wildcard)\n",
    "\n",
    "columns.insert(0, LABEL)\n",
    "original_columns = columns\n",
    "print(colored(f\"label\", \"green\"), \"-> \", LABEL)"
   ]
  },
  {
   "cell_type": "code",
   "execution_count": 7,
   "metadata": {
    "collapsed": false,
    "execution": {
     "iopub.execute_input": "2022-11-17T00:40:21.843768Z",
     "iopub.status.busy": "2022-11-17T00:40:21.843018Z",
     "iopub.status.idle": "2022-11-17T00:40:22.276340Z",
     "shell.execute_reply": "2022-11-17T00:40:22.275414Z",
     "shell.execute_reply.started": "2022-11-17T00:40:21.843741Z"
    },
    "jupyter": {
     "outputs_hidden": false
    }
   },
   "outputs": [
    {
     "name": "stdout",
     "output_type": "stream",
     "text": [
      "../../data/source/df_listings_v10.csv\n"
     ]
    }
   ],
   "source": [
    "IN_COLAB = False\n",
    "\n",
    "filename = f'df_listings_v{VERSION}.csv'\n",
    "remote_pathname = f'https://raw.githubusercontent.com/jayportfolio/capstone_streamlit/main/data/final/{filename}'\n",
    "\n",
    "df_pathname_raw = f'../../data/source/{filename}'\n",
    "#df_pathname_tidy = f'../../data/final/{filename}'\n",
    "\n",
    "df_pathname = df_pathname_raw if not cloud_run else remote_pathname\n",
    "print(df_pathname)\n",
    "df_orig = pd.read_csv(df_pathname, on_bad_lines='error', index_col=0)"
   ]
  },
  {
   "cell_type": "code",
   "execution_count": 8,
   "metadata": {
    "collapsed": false,
    "execution": {
     "iopub.execute_input": "2022-11-17T00:36:03.772497Z",
     "iopub.status.busy": "2022-11-17T00:36:03.772285Z",
     "iopub.status.idle": "2022-11-17T00:36:06.677957Z",
     "shell.execute_reply": "2022-11-17T00:36:06.674824Z",
     "shell.execute_reply.started": "2022-11-17T00:36:03.772477Z"
    },
    "jupyter": {
     "outputs_hidden": false
    }
   },
   "outputs": [
    {
     "name": "stdout",
     "output_type": "stream",
     "text": [
      "WARNING: Station type not found: ['PRIVATE_RAILWAY']: {'name': 'Croxley Green Station', 'types': ['PRIVATE_RAILWAY'], 'distance': 17.21031604409336, 'unit': 'miles'}\n",
      "WARNING: Station type not found: ['PRIVATE_RAILWAY']: {'name': 'Croxley Green Station', 'types': ['PRIVATE_RAILWAY'], 'distance': 2.646964776870532, 'unit': 'miles'}\n",
      "WARNING: Station type not found: ['PRIVATE_RAILWAY']: {'name': 'Croxley Green Station', 'types': ['PRIVATE_RAILWAY'], 'distance': 17.21031604409336, 'unit': 'miles'}\n",
      "['\\nground rent: £150 p.a. ' '   semi-detached property'\n",
      " \" 'for sale by online auction, starting bid of£250,000, terms and conditions apply'.\"\n",
      " ...\n",
      " '‘a’rated energy efficiency apartments ensuring huge savings on energy bills'\n",
      " '‘mansion block’ style ex-local authority apartment' '‘nash built’ house'] [1 1 1 ... 1 1 1]\n",
      "118449 118449\n"
     ]
    }
   ],
   "source": [
    "df_prep = add_supplements(df_orig, version=VERSION)\n",
    "df_prep = feature_engineer(df_prep, version=VERSION)"
   ]
  },
  {
   "cell_type": "code",
   "execution_count": 9,
   "metadata": {
    "collapsed": false,
    "execution": {
     "iopub.status.busy": "2022-11-17T00:36:06.679077Z",
     "iopub.status.idle": "2022-11-17T00:36:06.679645Z",
     "shell.execute_reply": "2022-11-17T00:36:06.679520Z",
     "shell.execute_reply.started": "2022-11-17T00:36:06.679486Z"
    },
    "jupyter": {
     "outputs_hidden": false
    }
   },
   "outputs": [
    {
     "name": "stdout",
     "output_type": "stream",
     "text": [
      "\u001B[33mcolumns updated to:\u001B[0m ->  ['Price', 'bedrooms', 'bathrooms', 'nearestStation', 'location.latitude', 'location.longitude', 'latitude_deviation', 'longitude_deviation', 'tenure.tenureType', 'feature__1 bedroom', 'feature__2 bedrooms', 'feature__2 double bedrooms', 'feature__allocated parking', 'feature__allocated parking space', 'feature__balcony', 'feature__bathroom', 'feature__chain free', 'feature__close to local amenities', 'feature__communal garden', 'feature__communal gardens', 'feature__double bedroom', 'feature__double glazed', 'feature__double glazing', 'feature__epc rating c', 'feature__epc rating d', 'feature__excellent location', 'feature__excellent transport links', 'feature__family bathroom', 'feature__first floor', 'feature__fitted kitchen', 'feature__garage', 'feature__garden', 'feature__gas central heating', 'feature__great location', 'feature__ground floor', 'feature__kitchen', 'feature__leasehold', 'feature__long lease', 'feature__modern bathroom', 'feature__modern kitchen', 'feature__no chain', 'feature__no onward chain', 'feature__off street parking', 'feature__one bedroom', 'feature__one double bedroom', 'feature__parking', 'feature__private balcony', 'feature__private garden', 'feature__private rear garden', 'feature__reception room', 'feature__separate kitchen', 'feature__share of freehold', 'feature__three bedrooms', 'feature__three double bedrooms', 'feature__top floor', 'feature__two bathrooms', 'feature__two bedrooms', 'feature__two double bedrooms', 'feature__two reception rooms']\n"
     ]
    },
    {
     "data": {
      "text/plain": "                                                       Links   Price  \\\n14520525   https://www.rightmove.co.uk/properties/1452052...  550000   \n27953107   https://www.rightmove.co.uk/properties/2795310...  400000   \n33593487   https://www.rightmove.co.uk/properties/3359348...  579950   \n35271294   https://www.rightmove.co.uk/properties/3527129...  370000   \n35429088   https://www.rightmove.co.uk/properties/3542908...  599950   \n...                                                      ...     ...   \n126179672  https://www.rightmove.co.uk/properties/1261796...  600000   \n126180107  https://www.rightmove.co.uk/properties/1261801...  419999   \n126180704  https://www.rightmove.co.uk/properties/1261807...  475000   \n126180962  https://www.rightmove.co.uk/properties/1261809...  450000   \n126181118  https://www.rightmove.co.uk/properties/1261811...  525000   \n\n                version borough  \\\n14520525   v0021_300622     NaN   \n27953107   v0021_300622     NaN   \n33593487   v0021_300622     NaN   \n35271294   v0021_300622     NaN   \n35429088   v0021_300622     NaN   \n...                 ...     ...   \n126179672  v0021_300622     NaN   \n126180107  v0021_300622     NaN   \n126180704  v0021_300622     NaN   \n126180962  v0021_300622     NaN   \n126181118  v0021_300622     NaN   \n\n                                            referencing_link  \\\n14520525   https://www.rightmove.co.uk/property-for-sale/...   \n27953107   https://www.rightmove.co.uk/property-for-sale/...   \n33593487   https://www.rightmove.co.uk/property-for-sale/...   \n35271294   https://www.rightmove.co.uk/property-for-sale/...   \n35429088   https://www.rightmove.co.uk/property-for-sale/...   \n...                                                      ...   \n126179672  https://www.rightmove.co.uk/property-for-sale/...   \n126180107  https://www.rightmove.co.uk/property-for-sale/...   \n126180704  https://www.rightmove.co.uk/property-for-sale/...   \n126180962  https://www.rightmove.co.uk/property-for-sale/...   \n126181118  https://www.rightmove.co.uk/property-for-sale/...   \n\n                                                    add_info  \\\n14520525    Added on 24/05/2022 by Arlington Estates, London   \n27953107   Added on 16/06/2022 by Lawlors Estate Agents, ...   \n33593487   Added on 11/07/2022 by Websters Estate Agents,...   \n35271294   Added on 14/06/2021 by Griffin Property Co., W...   \n35429088   Added on 14/07/2015 by Kinleigh Folkard & Hayw...   \n...                                                      ...   \n126179672        Added today by Bairstow Eves, Croydon South   \n126180107           Added today by Ellis & Co, Bethnal Green   \n126180704                  Added today by Keatons, Stratford   \n126180962                Added today by Foxtons, Walthamstow   \n126181118  Added today by Robert Holmes & Co, Wimbledon -...   \n\n                  date_scraped version_listing  \\\n14520525   2022-07-06 19:13:02    v0021_300622   \n27953107   2022-08-14 10:33:29    v0021_300622   \n33593487   2022-07-16 13:58:28    v0021_300622   \n35271294   2022-07-10 18:02:16    v0021_300622   \n35429088   2022-08-16 16:23:41    v0021_300622   \n...                        ...             ...   \n126179672  2022-08-18 21:38:21    v0021_300622   \n126180107  2022-08-18 21:55:19    v0021_300622   \n126180704  2022-08-18 21:46:56    v0021_300622   \n126180962  2022-08-18 21:34:45    v0021_300622   \n126181118  2022-08-18 20:53:12    v0021_300622   \n\n                                                       link  \\\n14520525    https://www.rightmove.co.uk/properties/14520525   \n27953107    https://www.rightmove.co.uk/properties/27953107   \n33593487    https://www.rightmove.co.uk/properties/33593487   \n35271294    https://www.rightmove.co.uk/properties/35271294   \n35429088    https://www.rightmove.co.uk/properties/35429088   \n...                                                     ...   \n126179672  https://www.rightmove.co.uk/properties/126179672   \n126180107  https://www.rightmove.co.uk/properties/126180107   \n126180704  https://www.rightmove.co.uk/properties/126180704   \n126180962  https://www.rightmove.co.uk/properties/126180962   \n126181118  https://www.rightmove.co.uk/properties/126181118   \n\n           distance_to_any_train  ... feature__reception room  \\\n14520525                     0.3  ...                       0   \n27953107                     0.3  ...                       0   \n33593487                     0.4  ...                       0   \n35271294                     0.4  ...                       0   \n35429088                     0.2  ...                       0   \n...                          ...  ...                     ...   \n126179672                    0.5  ...                       0   \n126180107                    0.2  ...                       0   \n126180704                    0.3  ...                       0   \n126180962                    0.5  ...                       0   \n126181118                    0.2  ...                       1   \n\n           feature__separate kitchen  feature__share of freehold  \\\n14520525                           1                           0   \n27953107                           0                           0   \n33593487                           0                           0   \n35271294                           0                           0   \n35429088                           0                           0   \n...                              ...                         ...   \n126179672                          0                           0   \n126180107                          0                           0   \n126180704                          0                           0   \n126180962                          0                           0   \n126181118                          0                           0   \n\n          feature__three bedrooms feature__three double bedrooms  \\\n14520525                        0                              0   \n27953107                        0                              0   \n33593487                        0                              0   \n35271294                        0                              0   \n35429088                        0                              0   \n...                           ...                            ...   \n126179672                       0                              0   \n126180107                       0                              0   \n126180704                       0                              0   \n126180962                       0                              0   \n126181118                       0                              0   \n\n          feature__top floor feature__two bathrooms feature__two bedrooms  \\\n14520525                   0                      0                     0   \n27953107                   1                      0                     0   \n33593487                   0                      0                     0   \n35271294                   0                      0                     0   \n35429088                   0                      0                     0   \n...                      ...                    ...                   ...   \n126179672                  0                      0                     0   \n126180107                  0                      0                     0   \n126180704                  0                      0                     0   \n126180962                  0                      0                     0   \n126181118                  0                      0                     0   \n\n          feature__two double bedrooms feature__two reception rooms  \n14520525                             0                            0  \n27953107                             1                            0  \n33593487                             0                            0  \n35271294                             0                            0  \n35429088                             0                            0  \n...                                ...                          ...  \n126179672                            0                            0  \n126180107                            0                            0  \n126180704                            0                            0  \n126180962                            0                            0  \n126181118                            0                            0  \n\n[54067 rows x 212 columns]",
      "text/html": "<div>\n<style scoped>\n    .dataframe tbody tr th:only-of-type {\n        vertical-align: middle;\n    }\n\n    .dataframe tbody tr th {\n        vertical-align: top;\n    }\n\n    .dataframe thead th {\n        text-align: right;\n    }\n</style>\n<table border=\"1\" class=\"dataframe\">\n  <thead>\n    <tr style=\"text-align: right;\">\n      <th></th>\n      <th>Links</th>\n      <th>Price</th>\n      <th>version</th>\n      <th>borough</th>\n      <th>referencing_link</th>\n      <th>add_info</th>\n      <th>date_scraped</th>\n      <th>version_listing</th>\n      <th>link</th>\n      <th>distance_to_any_train</th>\n      <th>...</th>\n      <th>feature__reception room</th>\n      <th>feature__separate kitchen</th>\n      <th>feature__share of freehold</th>\n      <th>feature__three bedrooms</th>\n      <th>feature__three double bedrooms</th>\n      <th>feature__top floor</th>\n      <th>feature__two bathrooms</th>\n      <th>feature__two bedrooms</th>\n      <th>feature__two double bedrooms</th>\n      <th>feature__two reception rooms</th>\n    </tr>\n  </thead>\n  <tbody>\n    <tr>\n      <th>14520525</th>\n      <td>https://www.rightmove.co.uk/properties/1452052...</td>\n      <td>550000</td>\n      <td>v0021_300622</td>\n      <td>NaN</td>\n      <td>https://www.rightmove.co.uk/property-for-sale/...</td>\n      <td>Added on 24/05/2022 by Arlington Estates, London</td>\n      <td>2022-07-06 19:13:02</td>\n      <td>v0021_300622</td>\n      <td>https://www.rightmove.co.uk/properties/14520525</td>\n      <td>0.3</td>\n      <td>...</td>\n      <td>0</td>\n      <td>1</td>\n      <td>0</td>\n      <td>0</td>\n      <td>0</td>\n      <td>0</td>\n      <td>0</td>\n      <td>0</td>\n      <td>0</td>\n      <td>0</td>\n    </tr>\n    <tr>\n      <th>27953107</th>\n      <td>https://www.rightmove.co.uk/properties/2795310...</td>\n      <td>400000</td>\n      <td>v0021_300622</td>\n      <td>NaN</td>\n      <td>https://www.rightmove.co.uk/property-for-sale/...</td>\n      <td>Added on 16/06/2022 by Lawlors Estate Agents, ...</td>\n      <td>2022-08-14 10:33:29</td>\n      <td>v0021_300622</td>\n      <td>https://www.rightmove.co.uk/properties/27953107</td>\n      <td>0.3</td>\n      <td>...</td>\n      <td>0</td>\n      <td>0</td>\n      <td>0</td>\n      <td>0</td>\n      <td>0</td>\n      <td>1</td>\n      <td>0</td>\n      <td>0</td>\n      <td>1</td>\n      <td>0</td>\n    </tr>\n    <tr>\n      <th>33593487</th>\n      <td>https://www.rightmove.co.uk/properties/3359348...</td>\n      <td>579950</td>\n      <td>v0021_300622</td>\n      <td>NaN</td>\n      <td>https://www.rightmove.co.uk/property-for-sale/...</td>\n      <td>Added on 11/07/2022 by Websters Estate Agents,...</td>\n      <td>2022-07-16 13:58:28</td>\n      <td>v0021_300622</td>\n      <td>https://www.rightmove.co.uk/properties/33593487</td>\n      <td>0.4</td>\n      <td>...</td>\n      <td>0</td>\n      <td>0</td>\n      <td>0</td>\n      <td>0</td>\n      <td>0</td>\n      <td>0</td>\n      <td>0</td>\n      <td>0</td>\n      <td>0</td>\n      <td>0</td>\n    </tr>\n    <tr>\n      <th>35271294</th>\n      <td>https://www.rightmove.co.uk/properties/3527129...</td>\n      <td>370000</td>\n      <td>v0021_300622</td>\n      <td>NaN</td>\n      <td>https://www.rightmove.co.uk/property-for-sale/...</td>\n      <td>Added on 14/06/2021 by Griffin Property Co., W...</td>\n      <td>2022-07-10 18:02:16</td>\n      <td>v0021_300622</td>\n      <td>https://www.rightmove.co.uk/properties/35271294</td>\n      <td>0.4</td>\n      <td>...</td>\n      <td>0</td>\n      <td>0</td>\n      <td>0</td>\n      <td>0</td>\n      <td>0</td>\n      <td>0</td>\n      <td>0</td>\n      <td>0</td>\n      <td>0</td>\n      <td>0</td>\n    </tr>\n    <tr>\n      <th>35429088</th>\n      <td>https://www.rightmove.co.uk/properties/3542908...</td>\n      <td>599950</td>\n      <td>v0021_300622</td>\n      <td>NaN</td>\n      <td>https://www.rightmove.co.uk/property-for-sale/...</td>\n      <td>Added on 14/07/2015 by Kinleigh Folkard &amp; Hayw...</td>\n      <td>2022-08-16 16:23:41</td>\n      <td>v0021_300622</td>\n      <td>https://www.rightmove.co.uk/properties/35429088</td>\n      <td>0.2</td>\n      <td>...</td>\n      <td>0</td>\n      <td>0</td>\n      <td>0</td>\n      <td>0</td>\n      <td>0</td>\n      <td>0</td>\n      <td>0</td>\n      <td>0</td>\n      <td>0</td>\n      <td>0</td>\n    </tr>\n    <tr>\n      <th>...</th>\n      <td>...</td>\n      <td>...</td>\n      <td>...</td>\n      <td>...</td>\n      <td>...</td>\n      <td>...</td>\n      <td>...</td>\n      <td>...</td>\n      <td>...</td>\n      <td>...</td>\n      <td>...</td>\n      <td>...</td>\n      <td>...</td>\n      <td>...</td>\n      <td>...</td>\n      <td>...</td>\n      <td>...</td>\n      <td>...</td>\n      <td>...</td>\n      <td>...</td>\n      <td>...</td>\n    </tr>\n    <tr>\n      <th>126179672</th>\n      <td>https://www.rightmove.co.uk/properties/1261796...</td>\n      <td>600000</td>\n      <td>v0021_300622</td>\n      <td>NaN</td>\n      <td>https://www.rightmove.co.uk/property-for-sale/...</td>\n      <td>Added today by Bairstow Eves, Croydon South</td>\n      <td>2022-08-18 21:38:21</td>\n      <td>v0021_300622</td>\n      <td>https://www.rightmove.co.uk/properties/126179672</td>\n      <td>0.5</td>\n      <td>...</td>\n      <td>0</td>\n      <td>0</td>\n      <td>0</td>\n      <td>0</td>\n      <td>0</td>\n      <td>0</td>\n      <td>0</td>\n      <td>0</td>\n      <td>0</td>\n      <td>0</td>\n    </tr>\n    <tr>\n      <th>126180107</th>\n      <td>https://www.rightmove.co.uk/properties/1261801...</td>\n      <td>419999</td>\n      <td>v0021_300622</td>\n      <td>NaN</td>\n      <td>https://www.rightmove.co.uk/property-for-sale/...</td>\n      <td>Added today by Ellis &amp; Co, Bethnal Green</td>\n      <td>2022-08-18 21:55:19</td>\n      <td>v0021_300622</td>\n      <td>https://www.rightmove.co.uk/properties/126180107</td>\n      <td>0.2</td>\n      <td>...</td>\n      <td>0</td>\n      <td>0</td>\n      <td>0</td>\n      <td>0</td>\n      <td>0</td>\n      <td>0</td>\n      <td>0</td>\n      <td>0</td>\n      <td>0</td>\n      <td>0</td>\n    </tr>\n    <tr>\n      <th>126180704</th>\n      <td>https://www.rightmove.co.uk/properties/1261807...</td>\n      <td>475000</td>\n      <td>v0021_300622</td>\n      <td>NaN</td>\n      <td>https://www.rightmove.co.uk/property-for-sale/...</td>\n      <td>Added today by Keatons, Stratford</td>\n      <td>2022-08-18 21:46:56</td>\n      <td>v0021_300622</td>\n      <td>https://www.rightmove.co.uk/properties/126180704</td>\n      <td>0.3</td>\n      <td>...</td>\n      <td>0</td>\n      <td>0</td>\n      <td>0</td>\n      <td>0</td>\n      <td>0</td>\n      <td>0</td>\n      <td>0</td>\n      <td>0</td>\n      <td>0</td>\n      <td>0</td>\n    </tr>\n    <tr>\n      <th>126180962</th>\n      <td>https://www.rightmove.co.uk/properties/1261809...</td>\n      <td>450000</td>\n      <td>v0021_300622</td>\n      <td>NaN</td>\n      <td>https://www.rightmove.co.uk/property-for-sale/...</td>\n      <td>Added today by Foxtons, Walthamstow</td>\n      <td>2022-08-18 21:34:45</td>\n      <td>v0021_300622</td>\n      <td>https://www.rightmove.co.uk/properties/126180962</td>\n      <td>0.5</td>\n      <td>...</td>\n      <td>0</td>\n      <td>0</td>\n      <td>0</td>\n      <td>0</td>\n      <td>0</td>\n      <td>0</td>\n      <td>0</td>\n      <td>0</td>\n      <td>0</td>\n      <td>0</td>\n    </tr>\n    <tr>\n      <th>126181118</th>\n      <td>https://www.rightmove.co.uk/properties/1261811...</td>\n      <td>525000</td>\n      <td>v0021_300622</td>\n      <td>NaN</td>\n      <td>https://www.rightmove.co.uk/property-for-sale/...</td>\n      <td>Added today by Robert Holmes &amp; Co, Wimbledon -...</td>\n      <td>2022-08-18 20:53:12</td>\n      <td>v0021_300622</td>\n      <td>https://www.rightmove.co.uk/properties/126181118</td>\n      <td>0.2</td>\n      <td>...</td>\n      <td>1</td>\n      <td>0</td>\n      <td>0</td>\n      <td>0</td>\n      <td>0</td>\n      <td>0</td>\n      <td>0</td>\n      <td>0</td>\n      <td>0</td>\n      <td>0</td>\n    </tr>\n  </tbody>\n</table>\n<p>54067 rows × 212 columns</p>\n</div>"
     },
     "execution_count": 9,
     "metadata": {},
     "output_type": "execute_result"
    }
   ],
   "source": [
    "updated_columns = False\n",
    "columns = original_columns\n",
    "\n",
    "for each in df_prep.columns:\n",
    "    for prefix in wildcard:\n",
    "        if each.startswith(prefix):\n",
    "            columns.append(each)\n",
    "            updated_columns = True\n",
    "\n",
    "if updated_columns:\n",
    "    print(colored(f\"columns updated to:\", \"yellow\"), \"-> \", columns)\n",
    "df_prep"
   ]
  },
  {
   "cell_type": "code",
   "execution_count": 10,
   "metadata": {
    "collapsed": false,
    "execution": {
     "iopub.status.busy": "2022-11-17T00:36:06.680222Z",
     "iopub.status.idle": "2022-11-17T00:36:06.681127Z",
     "shell.execute_reply": "2022-11-17T00:36:06.680975Z",
     "shell.execute_reply.started": "2022-11-17T00:36:06.680959Z"
    },
    "jupyter": {
     "outputs_hidden": false
    }
   },
   "outputs": [
    {
     "name": "stdout",
     "output_type": "stream",
     "text": [
      "20285\n"
     ]
    },
    {
     "data": {
      "text/plain": "14520525     208\n27953107     206\n33593487     222\n35271294     141\n35429088       1\n            ... \n126179672    274\n126180107    183\n126180704    350\n126180962    165\n126181118    170\nName: keyFeatures, Length: 54067, dtype: int64"
     },
     "execution_count": 10,
     "metadata": {},
     "output_type": "execute_result"
    }
   ],
   "source": [
    "#print(df.keyFeatures.str.len().describe())\n",
    "#df.keyFeatures.str.lower().str.contains('garden')\n",
    "keyword = 'garden'\n",
    "print(df_prep.keyFeatures.str.lower().str.contains(keyword).sum())\n",
    "df_prep.keyFeatures.str.lower().str.contains(keyword)\n",
    "df_prep.keyFeatures.str.lower().str.index(\"]\")"
   ]
  },
  {
   "cell_type": "code",
   "execution_count": 11,
   "metadata": {
    "collapsed": false,
    "execution": {
     "iopub.status.busy": "2022-11-17T00:36:06.681971Z",
     "iopub.status.idle": "2022-11-17T00:36:06.682864Z",
     "shell.execute_reply": "2022-11-17T00:36:06.682678Z",
     "shell.execute_reply.started": "2022-11-17T00:36:06.682663Z"
    },
    "jupyter": {
     "outputs_hidden": false
    }
   },
   "outputs": [
    {
     "name": "stdout",
     "output_type": "stream",
     "text": [
      "garden 20285\n",
      "central heating 3475\n",
      "parking 15958\n",
      "off road 530\n",
      "shower 2901\n",
      "cavity wall insulation 3\n",
      "wall insulation 5\n",
      "insulation 14\n",
      "insulat 38\n",
      "dining room 1684\n",
      "garage 4645\n",
      "en-suite 1403\n",
      "en suite 675\n",
      "penthouse 172\n",
      "balcony 8672\n",
      "double-glazing 22\n",
      "double glazing 2502\n",
      "off-road parking 27\n",
      "security 495\n",
      "patio 1030\n",
      "underfloor heating 721\n",
      "marble 56\n"
     ]
    }
   ],
   "source": [
    "dailmail = ['garden','central heating','parking','off road','shower','cavity wall insulation','wall insulation','insulation','insulat','dining room','garage','en-suite','en suite']\n",
    "common_knowledge = ['penthouse','balcony']\n",
    "ideal_home = ['double-glazing','double glazing','off-road parking','security','patio','underfloor heating','marble']\n",
    "discarded = ['signal','secure doors','secure door','outdoor lighting','bathtub','neighbours',]\n",
    "\n",
    "#keywords = ['']\n",
    "keywords = []\n",
    "keywords.extend(dailmail)\n",
    "keywords.extend(common_knowledge)\n",
    "keywords.extend(ideal_home)\n",
    "for keyword in keywords:\n",
    "    print(keyword, df_prep.keyFeatures.str.lower().str.contains(keyword).sum())"
   ]
  },
  {
   "cell_type": "code",
   "execution_count": 12,
   "metadata": {
    "collapsed": false,
    "execution": {
     "iopub.status.busy": "2022-11-17T00:36:06.683598Z",
     "iopub.status.idle": "2022-11-17T00:36:06.684486Z",
     "shell.execute_reply": "2022-11-17T00:36:06.684327Z",
     "shell.execute_reply.started": "2022-11-17T00:36:06.684312Z"
    },
    "jupyter": {
     "outputs_hidden": false
    }
   },
   "outputs": [],
   "source": [
    "#df = feature_engineer(df, version=VERSION)"
   ]
  },
  {
   "cell_type": "code",
   "execution_count": 13,
   "metadata": {
    "collapsed": false,
    "execution": {
     "iopub.status.busy": "2022-11-17T00:36:06.685298Z",
     "iopub.status.idle": "2022-11-17T00:36:06.685880Z",
     "shell.execute_reply": "2022-11-17T00:36:06.685734Z",
     "shell.execute_reply.started": "2022-11-17T00:36:06.685719Z"
    },
    "jupyter": {
     "outputs_hidden": false
    }
   },
   "outputs": [
    {
     "data": {
      "text/plain": "          garden  central heating  parking  off road  shower  \\\n14520525   False            False    False     False   False   \n27953107   False            False     True     False   False   \n33593487    True            False    False     False   False   \n35271294   False            False    False     False   False   \n35429088   False            False    False     False   False   \n\n          cavity wall insulation  wall insulation  insulation  insulat  \\\n14520525                   False            False       False    False   \n27953107                   False            False       False    False   \n33593487                   False            False       False    False   \n35271294                   False            False       False    False   \n35429088                   False            False       False    False   \n\n          dining room  ...  en suite  penthouse  balcony  double-glazing  \\\n14520525        False  ...     False      False     True           False   \n27953107        False  ...     False      False     True           False   \n33593487         True  ...     False      False    False           False   \n35271294        False  ...     False      False     True           False   \n35429088        False  ...     False      False    False           False   \n\n          double glazing  off-road parking  security  patio  \\\n14520525           False             False     False  False   \n27953107           False             False     False  False   \n33593487           False             False     False  False   \n35271294            True             False     False  False   \n35429088           False             False     False  False   \n\n          underfloor heating  marble  \n14520525               False   False  \n27953107               False   False  \n33593487               False   False  \n35271294               False   False  \n35429088               False   False  \n\n[5 rows x 22 columns]",
      "text/html": "<div>\n<style scoped>\n    .dataframe tbody tr th:only-of-type {\n        vertical-align: middle;\n    }\n\n    .dataframe tbody tr th {\n        vertical-align: top;\n    }\n\n    .dataframe thead th {\n        text-align: right;\n    }\n</style>\n<table border=\"1\" class=\"dataframe\">\n  <thead>\n    <tr style=\"text-align: right;\">\n      <th></th>\n      <th>garden</th>\n      <th>central heating</th>\n      <th>parking</th>\n      <th>off road</th>\n      <th>shower</th>\n      <th>cavity wall insulation</th>\n      <th>wall insulation</th>\n      <th>insulation</th>\n      <th>insulat</th>\n      <th>dining room</th>\n      <th>...</th>\n      <th>en suite</th>\n      <th>penthouse</th>\n      <th>balcony</th>\n      <th>double-glazing</th>\n      <th>double glazing</th>\n      <th>off-road parking</th>\n      <th>security</th>\n      <th>patio</th>\n      <th>underfloor heating</th>\n      <th>marble</th>\n    </tr>\n  </thead>\n  <tbody>\n    <tr>\n      <th>14520525</th>\n      <td>False</td>\n      <td>False</td>\n      <td>False</td>\n      <td>False</td>\n      <td>False</td>\n      <td>False</td>\n      <td>False</td>\n      <td>False</td>\n      <td>False</td>\n      <td>False</td>\n      <td>...</td>\n      <td>False</td>\n      <td>False</td>\n      <td>True</td>\n      <td>False</td>\n      <td>False</td>\n      <td>False</td>\n      <td>False</td>\n      <td>False</td>\n      <td>False</td>\n      <td>False</td>\n    </tr>\n    <tr>\n      <th>27953107</th>\n      <td>False</td>\n      <td>False</td>\n      <td>True</td>\n      <td>False</td>\n      <td>False</td>\n      <td>False</td>\n      <td>False</td>\n      <td>False</td>\n      <td>False</td>\n      <td>False</td>\n      <td>...</td>\n      <td>False</td>\n      <td>False</td>\n      <td>True</td>\n      <td>False</td>\n      <td>False</td>\n      <td>False</td>\n      <td>False</td>\n      <td>False</td>\n      <td>False</td>\n      <td>False</td>\n    </tr>\n    <tr>\n      <th>33593487</th>\n      <td>True</td>\n      <td>False</td>\n      <td>False</td>\n      <td>False</td>\n      <td>False</td>\n      <td>False</td>\n      <td>False</td>\n      <td>False</td>\n      <td>False</td>\n      <td>True</td>\n      <td>...</td>\n      <td>False</td>\n      <td>False</td>\n      <td>False</td>\n      <td>False</td>\n      <td>False</td>\n      <td>False</td>\n      <td>False</td>\n      <td>False</td>\n      <td>False</td>\n      <td>False</td>\n    </tr>\n    <tr>\n      <th>35271294</th>\n      <td>False</td>\n      <td>False</td>\n      <td>False</td>\n      <td>False</td>\n      <td>False</td>\n      <td>False</td>\n      <td>False</td>\n      <td>False</td>\n      <td>False</td>\n      <td>False</td>\n      <td>...</td>\n      <td>False</td>\n      <td>False</td>\n      <td>True</td>\n      <td>False</td>\n      <td>True</td>\n      <td>False</td>\n      <td>False</td>\n      <td>False</td>\n      <td>False</td>\n      <td>False</td>\n    </tr>\n    <tr>\n      <th>35429088</th>\n      <td>False</td>\n      <td>False</td>\n      <td>False</td>\n      <td>False</td>\n      <td>False</td>\n      <td>False</td>\n      <td>False</td>\n      <td>False</td>\n      <td>False</td>\n      <td>False</td>\n      <td>...</td>\n      <td>False</td>\n      <td>False</td>\n      <td>False</td>\n      <td>False</td>\n      <td>False</td>\n      <td>False</td>\n      <td>False</td>\n      <td>False</td>\n      <td>False</td>\n      <td>False</td>\n    </tr>\n  </tbody>\n</table>\n<p>5 rows × 22 columns</p>\n</div>"
     },
     "execution_count": 13,
     "metadata": {},
     "output_type": "execute_result"
    }
   ],
   "source": [
    "import re\n",
    "spice_df = pd.DataFrame(dict((spice, df_prep.keyFeatures.str.contains(spice, re.IGNORECASE))\n",
    "                             for spice in keywords))\n",
    "spice_df.head()"
   ]
  },
  {
   "cell_type": "code",
   "execution_count": 13,
   "metadata": {
    "collapsed": false,
    "jupyter": {
     "outputs_hidden": false
    }
   },
   "outputs": [],
   "source": []
  },
  {
   "cell_type": "code",
   "execution_count": 14,
   "metadata": {
    "collapsed": false,
    "execution": {
     "iopub.status.busy": "2022-11-17T00:36:06.686874Z",
     "iopub.status.idle": "2022-11-17T00:36:06.687464Z",
     "shell.execute_reply": "2022-11-17T00:36:06.687316Z",
     "shell.execute_reply.started": "2022-11-17T00:36:06.687302Z"
    },
    "jupyter": {
     "outputs_hidden": false
    }
   },
   "outputs": [
    {
     "name": "stdout",
     "output_type": "stream",
     "text": [
      "<class 'pandas.core.frame.DataFrame'>\n",
      "Index: 54067 entries, 14520525 to 126181118\n",
      "Data columns (total 81 columns):\n",
      " #   Column                              Non-Null Count  Dtype  \n",
      "---  ------                              --------------  -----  \n",
      " 0   Price                               54067 non-null  int64  \n",
      " 1   bedrooms                            52265 non-null  float64\n",
      " 2   bathrooms                           50569 non-null  float64\n",
      " 3   nearestStation                      54067 non-null  float64\n",
      " 4   location.latitude                   54057 non-null  float64\n",
      " 5   location.longitude                  54067 non-null  float64\n",
      " 6   latitude_deviation                  54057 non-null  float64\n",
      " 7   longitude_deviation                 54067 non-null  float64\n",
      " 8   tenure.tenureType                   50413 non-null  object \n",
      " 9   feature__1 bedroom                  54067 non-null  int64  \n",
      " 10  feature__2 bedrooms                 54067 non-null  int64  \n",
      " 11  feature__2 double bedrooms          54067 non-null  int64  \n",
      " 12  feature__allocated parking          54067 non-null  int64  \n",
      " 13  feature__allocated parking space    54067 non-null  int64  \n",
      " 14  feature__balcony                    54067 non-null  int64  \n",
      " 15  feature__bathroom                   54067 non-null  int64  \n",
      " 16  feature__chain free                 54067 non-null  int64  \n",
      " 17  feature__close to local amenities   54067 non-null  int64  \n",
      " 18  feature__communal garden            54067 non-null  int64  \n",
      " 19  feature__communal gardens           54067 non-null  int64  \n",
      " 20  feature__double bedroom             54067 non-null  int64  \n",
      " 21  feature__double glazed              54067 non-null  int64  \n",
      " 22  feature__double glazing             54067 non-null  int64  \n",
      " 23  feature__epc rating c               54067 non-null  int64  \n",
      " 24  feature__epc rating d               54067 non-null  int64  \n",
      " 25  feature__excellent location         54067 non-null  int64  \n",
      " 26  feature__excellent transport links  54067 non-null  int64  \n",
      " 27  feature__family bathroom            54067 non-null  int64  \n",
      " 28  feature__first floor                54067 non-null  int64  \n",
      " 29  feature__fitted kitchen             54067 non-null  int64  \n",
      " 30  feature__garage                     54067 non-null  int64  \n",
      " 31  feature__garden                     54067 non-null  int64  \n",
      " 32  feature__gas central heating        54067 non-null  int64  \n",
      " 33  feature__great location             54067 non-null  int64  \n",
      " 34  feature__ground floor               54067 non-null  int64  \n",
      " 35  feature__kitchen                    54067 non-null  int64  \n",
      " 36  feature__leasehold                  54067 non-null  int64  \n",
      " 37  feature__long lease                 54067 non-null  int64  \n",
      " 38  feature__modern bathroom            54067 non-null  int64  \n",
      " 39  feature__modern kitchen             54067 non-null  int64  \n",
      " 40  feature__no chain                   54067 non-null  int64  \n",
      " 41  feature__no onward chain            54067 non-null  int64  \n",
      " 42  feature__off street parking         54067 non-null  int64  \n",
      " 43  feature__one bedroom                54067 non-null  int64  \n",
      " 44  feature__one double bedroom         54067 non-null  int64  \n",
      " 45  feature__parking                    54067 non-null  int64  \n",
      " 46  feature__private balcony            54067 non-null  int64  \n",
      " 47  feature__private garden             54067 non-null  int64  \n",
      " 48  feature__private rear garden        54067 non-null  int64  \n",
      " 49  feature__reception room             54067 non-null  int64  \n",
      " 50  feature__separate kitchen           54067 non-null  int64  \n",
      " 51  feature__share of freehold          54067 non-null  int64  \n",
      " 52  feature__three bedrooms             54067 non-null  int64  \n",
      " 53  feature__three double bedrooms      54067 non-null  int64  \n",
      " 54  feature__top floor                  54067 non-null  int64  \n",
      " 55  feature__two bathrooms              54067 non-null  int64  \n",
      " 56  feature__two bedrooms               54067 non-null  int64  \n",
      " 57  feature__two double bedrooms        54067 non-null  int64  \n",
      " 58  feature__two reception rooms        54067 non-null  int64  \n",
      " 59  garden                              54067 non-null  bool   \n",
      " 60  central heating                     54067 non-null  bool   \n",
      " 61  parking                             54067 non-null  bool   \n",
      " 62  off road                            54067 non-null  bool   \n",
      " 63  shower                              54067 non-null  bool   \n",
      " 64  cavity wall insulation              54067 non-null  bool   \n",
      " 65  wall insulation                     54067 non-null  bool   \n",
      " 66  insulation                          54067 non-null  bool   \n",
      " 67  insulat                             54067 non-null  bool   \n",
      " 68  dining room                         54067 non-null  bool   \n",
      " 69  garage                              54067 non-null  bool   \n",
      " 70  en-suite                            54067 non-null  bool   \n",
      " 71  en suite                            54067 non-null  bool   \n",
      " 72  penthouse                           54067 non-null  bool   \n",
      " 73  balcony                             54067 non-null  bool   \n",
      " 74  double-glazing                      54067 non-null  bool   \n",
      " 75  double glazing                      54067 non-null  bool   \n",
      " 76  off-road parking                    54067 non-null  bool   \n",
      " 77  security                            54067 non-null  bool   \n",
      " 78  patio                               54067 non-null  bool   \n",
      " 79  underfloor heating                  54067 non-null  bool   \n",
      " 80  marble                              54067 non-null  bool   \n",
      "dtypes: bool(22), float64(7), int64(51), object(1)\n",
      "memory usage: 27.9+ MB\n"
     ]
    }
   ],
   "source": [
    "df = df_prep[columns].merge(spice_df, how='outer', left_index=True, right_index=True)\n",
    "\n",
    "df.info()"
   ]
  },
  {
   "cell_type": "code",
   "execution_count": 15,
   "metadata": {
    "collapsed": false,
    "execution": {
     "iopub.status.busy": "2022-11-17T00:36:06.688411Z",
     "iopub.status.idle": "2022-11-17T00:36:06.689163Z",
     "shell.execute_reply": "2022-11-17T00:36:06.689001Z",
     "shell.execute_reply.started": "2022-11-17T00:36:06.688986Z"
    },
    "jupyter": {
     "outputs_hidden": false
    }
   },
   "outputs": [
    {
     "data": {
      "text/plain": "           Price  bedrooms  bathrooms  nearestStation  location.latitude  \\\n14520525  550000       3.0        1.0        0.274316          51.529950   \n27953107  400000       2.0        2.0        0.305845          51.549390   \n33593487  579950       2.0        1.0        0.438045          51.447180   \n35271294  370000       2.0        1.0        0.399307          51.449568   \n35429088  599950       2.0        1.0        0.238187          51.577030   \n44749111  475000       2.0        1.0        0.410550          51.370050   \n46204665  435000       3.0        2.0        0.314779          51.539070   \n49020666  200000       1.0        1.0        0.875911          51.539959   \n49036279  275000       2.0        1.0        0.474368          51.541780   \n49303873  450000       3.0        2.0        0.577040          51.524880   \n50134461  275000       NaN        1.0        0.252136          51.467680   \n50135055  265000       NaN        1.0        0.252136          51.467680   \n50135445  270000       NaN        1.0        0.252136          51.467680   \n52064391  349950       2.0        2.0        0.212734          51.470800   \n52187854  450000       1.0        1.0        0.446802          51.527199   \n52675628  490000       2.0        2.0        0.215040          51.501114   \n52845963  200000       2.0        1.0        0.650562          51.398040   \n52913496  220000       1.0        1.0        0.945991          51.539383   \n53609433  489995       1.0        1.0        0.087081          51.532620   \n53649578  284950       1.0        1.0        0.806597          51.479890   \n53938989  450000       2.0        1.0        0.775203          51.658287   \n54485145  250000       NaN        1.0        0.108070          51.463825   \n54713232  332000       2.0        1.0        0.319226          51.612300   \n54904122  365000       2.0        1.0        0.260722          51.593595   \n54991934  430000       3.0        1.0        0.497268          51.528720   \n55043230  260000       1.0        1.0        0.384607          51.544430   \n55187658  430000       2.0        2.0        0.289033          51.507570   \n55531367  599950       2.0        1.0        0.406725          51.467410   \n55768232  550000       2.0        1.0        0.478349          51.472890   \n55805965  280000       2.0        1.0        0.742859          51.520910   \n\n          location.longitude  latitude_deviation  longitude_deviation  \\\n14520525           -0.207020            0.030472             0.101800   \n27953107           -0.482600            0.049912             0.377380   \n33593487           -0.338770            0.052298             0.233550   \n35271294           -0.140154            0.049910             0.034934   \n35429088           -0.141230            0.077552             0.036010   \n44749111           -0.212410            0.129428             0.107190   \n46204665           -0.198935            0.039592             0.093715   \n49020666           -0.380863            0.040481             0.275643   \n49036279            0.037890            0.042302             0.143110   \n49303873            0.187200            0.025402             0.292420   \n50134461           -0.368100            0.031798             0.262880   \n50135055           -0.368100            0.031798             0.262880   \n50135445           -0.368100            0.031798             0.262880   \n52064391           -0.361820            0.028678             0.256600   \n52187854           -0.202898            0.027721             0.097678   \n52675628            0.026315            0.001636             0.131535   \n52845963           -0.076812            0.101438             0.028408   \n52913496           -0.382239            0.039905             0.277019   \n53609433           -0.107860            0.033142             0.002640   \n53649578           -0.078500            0.019588             0.026720   \n53938989           -0.207902            0.158809             0.102682   \n54485145           -0.014416            0.035653             0.090804   \n54713232           -0.119860            0.112822             0.014640   \n54904122            0.022046            0.094117             0.127266   \n54991934            0.039180            0.029242             0.144400   \n55043230            0.014500            0.044952             0.119720   \n55187658            0.078030            0.008092             0.183250   \n55531367           -0.079170            0.032068             0.026050   \n55768232           -0.078940            0.026588             0.026280   \n55805965            0.022680            0.021432             0.127900   \n\n          tenure.tenureType  feature__1 bedroom  ...  en suite  penthouse  \\\n14520525          LEASEHOLD                   0  ...     False      False   \n27953107          LEASEHOLD                   0  ...     False      False   \n33593487           FREEHOLD                   0  ...     False      False   \n35271294          LEASEHOLD                   0  ...     False      False   \n35429088                NaN                   0  ...     False      False   \n44749111           FREEHOLD                   0  ...     False      False   \n46204665          LEASEHOLD                   0  ...      True      False   \n49020666          LEASEHOLD                   0  ...     False      False   \n49036279          LEASEHOLD                   0  ...     False      False   \n49303873           FREEHOLD                   0  ...     False      False   \n50134461          LEASEHOLD                   0  ...     False      False   \n50135055          LEASEHOLD                   0  ...     False      False   \n50135445          LEASEHOLD                   0  ...     False      False   \n52064391          LEASEHOLD                   0  ...      True      False   \n52187854          LEASEHOLD                   0  ...     False      False   \n52675628                NaN                   0  ...     False      False   \n52845963          LEASEHOLD                   0  ...     False      False   \n52913496          LEASEHOLD                   0  ...     False      False   \n53609433          LEASEHOLD                   0  ...     False      False   \n53649578                NaN                   0  ...     False      False   \n53938989           FREEHOLD                   0  ...     False      False   \n54485145          LEASEHOLD                   0  ...     False      False   \n54713232  SHARE_OF_FREEHOLD                   0  ...     False      False   \n54904122  SHARE_OF_FREEHOLD                   0  ...     False      False   \n54991934           FREEHOLD                   0  ...     False      False   \n55043230          LEASEHOLD                   0  ...     False      False   \n55187658          LEASEHOLD                   0  ...      True      False   \n55531367                NaN                   0  ...     False      False   \n55768232                NaN                   0  ...     False      False   \n55805965          LEASEHOLD                   0  ...     False      False   \n\n          balcony  double-glazing  double glazing  off-road parking  security  \\\n14520525     True           False           False             False     False   \n27953107     True           False           False             False     False   \n33593487    False           False           False             False     False   \n35271294     True           False            True             False     False   \n35429088    False           False           False             False     False   \n44749111    False           False            True             False     False   \n46204665    False           False           False             False     False   \n49020666    False           False           False             False     False   \n49036279    False           False           False             False     False   \n49303873    False           False           False             False     False   \n50134461    False           False           False             False     False   \n50135055    False           False           False             False     False   \n50135445    False           False           False             False     False   \n52064391     True           False           False             False     False   \n52187854    False           False           False             False     False   \n52675628    False           False           False             False     False   \n52845963    False           False           False             False     False   \n52913496    False           False           False             False     False   \n53609433    False           False           False             False     False   \n53649578    False           False           False             False     False   \n53938989    False           False           False             False     False   \n54485145    False           False           False             False     False   \n54713232    False           False           False             False     False   \n54904122    False           False           False             False     False   \n54991934    False           False           False             False     False   \n55043230    False           False           False             False     False   \n55187658    False           False           False             False      True   \n55531367     True           False           False             False     False   \n55768232    False           False           False             False     False   \n55805965    False           False            True             False     False   \n\n          patio  underfloor heating  marble  \n14520525  False               False   False  \n27953107  False               False   False  \n33593487  False               False   False  \n35271294  False               False   False  \n35429088  False               False   False  \n44749111  False               False   False  \n46204665  False               False   False  \n49020666  False               False   False  \n49036279  False               False   False  \n49303873  False               False   False  \n50134461  False               False   False  \n50135055  False               False   False  \n50135445  False               False   False  \n52064391  False               False   False  \n52187854  False               False   False  \n52675628  False               False   False  \n52845963  False               False   False  \n52913496  False               False   False  \n53609433  False               False   False  \n53649578  False               False   False  \n53938989  False               False   False  \n54485145  False               False   False  \n54713232  False               False   False  \n54904122  False               False   False  \n54991934  False               False   False  \n55043230  False               False   False  \n55187658  False               False   False  \n55531367  False               False   False  \n55768232  False               False   False  \n55805965  False               False   False  \n\n[30 rows x 81 columns]",
      "text/html": "<div>\n<style scoped>\n    .dataframe tbody tr th:only-of-type {\n        vertical-align: middle;\n    }\n\n    .dataframe tbody tr th {\n        vertical-align: top;\n    }\n\n    .dataframe thead th {\n        text-align: right;\n    }\n</style>\n<table border=\"1\" class=\"dataframe\">\n  <thead>\n    <tr style=\"text-align: right;\">\n      <th></th>\n      <th>Price</th>\n      <th>bedrooms</th>\n      <th>bathrooms</th>\n      <th>nearestStation</th>\n      <th>location.latitude</th>\n      <th>location.longitude</th>\n      <th>latitude_deviation</th>\n      <th>longitude_deviation</th>\n      <th>tenure.tenureType</th>\n      <th>feature__1 bedroom</th>\n      <th>...</th>\n      <th>en suite</th>\n      <th>penthouse</th>\n      <th>balcony</th>\n      <th>double-glazing</th>\n      <th>double glazing</th>\n      <th>off-road parking</th>\n      <th>security</th>\n      <th>patio</th>\n      <th>underfloor heating</th>\n      <th>marble</th>\n    </tr>\n  </thead>\n  <tbody>\n    <tr>\n      <th>14520525</th>\n      <td>550000</td>\n      <td>3.0</td>\n      <td>1.0</td>\n      <td>0.274316</td>\n      <td>51.529950</td>\n      <td>-0.207020</td>\n      <td>0.030472</td>\n      <td>0.101800</td>\n      <td>LEASEHOLD</td>\n      <td>0</td>\n      <td>...</td>\n      <td>False</td>\n      <td>False</td>\n      <td>True</td>\n      <td>False</td>\n      <td>False</td>\n      <td>False</td>\n      <td>False</td>\n      <td>False</td>\n      <td>False</td>\n      <td>False</td>\n    </tr>\n    <tr>\n      <th>27953107</th>\n      <td>400000</td>\n      <td>2.0</td>\n      <td>2.0</td>\n      <td>0.305845</td>\n      <td>51.549390</td>\n      <td>-0.482600</td>\n      <td>0.049912</td>\n      <td>0.377380</td>\n      <td>LEASEHOLD</td>\n      <td>0</td>\n      <td>...</td>\n      <td>False</td>\n      <td>False</td>\n      <td>True</td>\n      <td>False</td>\n      <td>False</td>\n      <td>False</td>\n      <td>False</td>\n      <td>False</td>\n      <td>False</td>\n      <td>False</td>\n    </tr>\n    <tr>\n      <th>33593487</th>\n      <td>579950</td>\n      <td>2.0</td>\n      <td>1.0</td>\n      <td>0.438045</td>\n      <td>51.447180</td>\n      <td>-0.338770</td>\n      <td>0.052298</td>\n      <td>0.233550</td>\n      <td>FREEHOLD</td>\n      <td>0</td>\n      <td>...</td>\n      <td>False</td>\n      <td>False</td>\n      <td>False</td>\n      <td>False</td>\n      <td>False</td>\n      <td>False</td>\n      <td>False</td>\n      <td>False</td>\n      <td>False</td>\n      <td>False</td>\n    </tr>\n    <tr>\n      <th>35271294</th>\n      <td>370000</td>\n      <td>2.0</td>\n      <td>1.0</td>\n      <td>0.399307</td>\n      <td>51.449568</td>\n      <td>-0.140154</td>\n      <td>0.049910</td>\n      <td>0.034934</td>\n      <td>LEASEHOLD</td>\n      <td>0</td>\n      <td>...</td>\n      <td>False</td>\n      <td>False</td>\n      <td>True</td>\n      <td>False</td>\n      <td>True</td>\n      <td>False</td>\n      <td>False</td>\n      <td>False</td>\n      <td>False</td>\n      <td>False</td>\n    </tr>\n    <tr>\n      <th>35429088</th>\n      <td>599950</td>\n      <td>2.0</td>\n      <td>1.0</td>\n      <td>0.238187</td>\n      <td>51.577030</td>\n      <td>-0.141230</td>\n      <td>0.077552</td>\n      <td>0.036010</td>\n      <td>NaN</td>\n      <td>0</td>\n      <td>...</td>\n      <td>False</td>\n      <td>False</td>\n      <td>False</td>\n      <td>False</td>\n      <td>False</td>\n      <td>False</td>\n      <td>False</td>\n      <td>False</td>\n      <td>False</td>\n      <td>False</td>\n    </tr>\n    <tr>\n      <th>44749111</th>\n      <td>475000</td>\n      <td>2.0</td>\n      <td>1.0</td>\n      <td>0.410550</td>\n      <td>51.370050</td>\n      <td>-0.212410</td>\n      <td>0.129428</td>\n      <td>0.107190</td>\n      <td>FREEHOLD</td>\n      <td>0</td>\n      <td>...</td>\n      <td>False</td>\n      <td>False</td>\n      <td>False</td>\n      <td>False</td>\n      <td>True</td>\n      <td>False</td>\n      <td>False</td>\n      <td>False</td>\n      <td>False</td>\n      <td>False</td>\n    </tr>\n    <tr>\n      <th>46204665</th>\n      <td>435000</td>\n      <td>3.0</td>\n      <td>2.0</td>\n      <td>0.314779</td>\n      <td>51.539070</td>\n      <td>-0.198935</td>\n      <td>0.039592</td>\n      <td>0.093715</td>\n      <td>LEASEHOLD</td>\n      <td>0</td>\n      <td>...</td>\n      <td>True</td>\n      <td>False</td>\n      <td>False</td>\n      <td>False</td>\n      <td>False</td>\n      <td>False</td>\n      <td>False</td>\n      <td>False</td>\n      <td>False</td>\n      <td>False</td>\n    </tr>\n    <tr>\n      <th>49020666</th>\n      <td>200000</td>\n      <td>1.0</td>\n      <td>1.0</td>\n      <td>0.875911</td>\n      <td>51.539959</td>\n      <td>-0.380863</td>\n      <td>0.040481</td>\n      <td>0.275643</td>\n      <td>LEASEHOLD</td>\n      <td>0</td>\n      <td>...</td>\n      <td>False</td>\n      <td>False</td>\n      <td>False</td>\n      <td>False</td>\n      <td>False</td>\n      <td>False</td>\n      <td>False</td>\n      <td>False</td>\n      <td>False</td>\n      <td>False</td>\n    </tr>\n    <tr>\n      <th>49036279</th>\n      <td>275000</td>\n      <td>2.0</td>\n      <td>1.0</td>\n      <td>0.474368</td>\n      <td>51.541780</td>\n      <td>0.037890</td>\n      <td>0.042302</td>\n      <td>0.143110</td>\n      <td>LEASEHOLD</td>\n      <td>0</td>\n      <td>...</td>\n      <td>False</td>\n      <td>False</td>\n      <td>False</td>\n      <td>False</td>\n      <td>False</td>\n      <td>False</td>\n      <td>False</td>\n      <td>False</td>\n      <td>False</td>\n      <td>False</td>\n    </tr>\n    <tr>\n      <th>49303873</th>\n      <td>450000</td>\n      <td>3.0</td>\n      <td>2.0</td>\n      <td>0.577040</td>\n      <td>51.524880</td>\n      <td>0.187200</td>\n      <td>0.025402</td>\n      <td>0.292420</td>\n      <td>FREEHOLD</td>\n      <td>0</td>\n      <td>...</td>\n      <td>False</td>\n      <td>False</td>\n      <td>False</td>\n      <td>False</td>\n      <td>False</td>\n      <td>False</td>\n      <td>False</td>\n      <td>False</td>\n      <td>False</td>\n      <td>False</td>\n    </tr>\n    <tr>\n      <th>50134461</th>\n      <td>275000</td>\n      <td>NaN</td>\n      <td>1.0</td>\n      <td>0.252136</td>\n      <td>51.467680</td>\n      <td>-0.368100</td>\n      <td>0.031798</td>\n      <td>0.262880</td>\n      <td>LEASEHOLD</td>\n      <td>0</td>\n      <td>...</td>\n      <td>False</td>\n      <td>False</td>\n      <td>False</td>\n      <td>False</td>\n      <td>False</td>\n      <td>False</td>\n      <td>False</td>\n      <td>False</td>\n      <td>False</td>\n      <td>False</td>\n    </tr>\n    <tr>\n      <th>50135055</th>\n      <td>265000</td>\n      <td>NaN</td>\n      <td>1.0</td>\n      <td>0.252136</td>\n      <td>51.467680</td>\n      <td>-0.368100</td>\n      <td>0.031798</td>\n      <td>0.262880</td>\n      <td>LEASEHOLD</td>\n      <td>0</td>\n      <td>...</td>\n      <td>False</td>\n      <td>False</td>\n      <td>False</td>\n      <td>False</td>\n      <td>False</td>\n      <td>False</td>\n      <td>False</td>\n      <td>False</td>\n      <td>False</td>\n      <td>False</td>\n    </tr>\n    <tr>\n      <th>50135445</th>\n      <td>270000</td>\n      <td>NaN</td>\n      <td>1.0</td>\n      <td>0.252136</td>\n      <td>51.467680</td>\n      <td>-0.368100</td>\n      <td>0.031798</td>\n      <td>0.262880</td>\n      <td>LEASEHOLD</td>\n      <td>0</td>\n      <td>...</td>\n      <td>False</td>\n      <td>False</td>\n      <td>False</td>\n      <td>False</td>\n      <td>False</td>\n      <td>False</td>\n      <td>False</td>\n      <td>False</td>\n      <td>False</td>\n      <td>False</td>\n    </tr>\n    <tr>\n      <th>52064391</th>\n      <td>349950</td>\n      <td>2.0</td>\n      <td>2.0</td>\n      <td>0.212734</td>\n      <td>51.470800</td>\n      <td>-0.361820</td>\n      <td>0.028678</td>\n      <td>0.256600</td>\n      <td>LEASEHOLD</td>\n      <td>0</td>\n      <td>...</td>\n      <td>True</td>\n      <td>False</td>\n      <td>True</td>\n      <td>False</td>\n      <td>False</td>\n      <td>False</td>\n      <td>False</td>\n      <td>False</td>\n      <td>False</td>\n      <td>False</td>\n    </tr>\n    <tr>\n      <th>52187854</th>\n      <td>450000</td>\n      <td>1.0</td>\n      <td>1.0</td>\n      <td>0.446802</td>\n      <td>51.527199</td>\n      <td>-0.202898</td>\n      <td>0.027721</td>\n      <td>0.097678</td>\n      <td>LEASEHOLD</td>\n      <td>0</td>\n      <td>...</td>\n      <td>False</td>\n      <td>False</td>\n      <td>False</td>\n      <td>False</td>\n      <td>False</td>\n      <td>False</td>\n      <td>False</td>\n      <td>False</td>\n      <td>False</td>\n      <td>False</td>\n    </tr>\n    <tr>\n      <th>52675628</th>\n      <td>490000</td>\n      <td>2.0</td>\n      <td>2.0</td>\n      <td>0.215040</td>\n      <td>51.501114</td>\n      <td>0.026315</td>\n      <td>0.001636</td>\n      <td>0.131535</td>\n      <td>NaN</td>\n      <td>0</td>\n      <td>...</td>\n      <td>False</td>\n      <td>False</td>\n      <td>False</td>\n      <td>False</td>\n      <td>False</td>\n      <td>False</td>\n      <td>False</td>\n      <td>False</td>\n      <td>False</td>\n      <td>False</td>\n    </tr>\n    <tr>\n      <th>52845963</th>\n      <td>200000</td>\n      <td>2.0</td>\n      <td>1.0</td>\n      <td>0.650562</td>\n      <td>51.398040</td>\n      <td>-0.076812</td>\n      <td>0.101438</td>\n      <td>0.028408</td>\n      <td>LEASEHOLD</td>\n      <td>0</td>\n      <td>...</td>\n      <td>False</td>\n      <td>False</td>\n      <td>False</td>\n      <td>False</td>\n      <td>False</td>\n      <td>False</td>\n      <td>False</td>\n      <td>False</td>\n      <td>False</td>\n      <td>False</td>\n    </tr>\n    <tr>\n      <th>52913496</th>\n      <td>220000</td>\n      <td>1.0</td>\n      <td>1.0</td>\n      <td>0.945991</td>\n      <td>51.539383</td>\n      <td>-0.382239</td>\n      <td>0.039905</td>\n      <td>0.277019</td>\n      <td>LEASEHOLD</td>\n      <td>0</td>\n      <td>...</td>\n      <td>False</td>\n      <td>False</td>\n      <td>False</td>\n      <td>False</td>\n      <td>False</td>\n      <td>False</td>\n      <td>False</td>\n      <td>False</td>\n      <td>False</td>\n      <td>False</td>\n    </tr>\n    <tr>\n      <th>53609433</th>\n      <td>489995</td>\n      <td>1.0</td>\n      <td>1.0</td>\n      <td>0.087081</td>\n      <td>51.532620</td>\n      <td>-0.107860</td>\n      <td>0.033142</td>\n      <td>0.002640</td>\n      <td>LEASEHOLD</td>\n      <td>0</td>\n      <td>...</td>\n      <td>False</td>\n      <td>False</td>\n      <td>False</td>\n      <td>False</td>\n      <td>False</td>\n      <td>False</td>\n      <td>False</td>\n      <td>False</td>\n      <td>False</td>\n      <td>False</td>\n    </tr>\n    <tr>\n      <th>53649578</th>\n      <td>284950</td>\n      <td>1.0</td>\n      <td>1.0</td>\n      <td>0.806597</td>\n      <td>51.479890</td>\n      <td>-0.078500</td>\n      <td>0.019588</td>\n      <td>0.026720</td>\n      <td>NaN</td>\n      <td>0</td>\n      <td>...</td>\n      <td>False</td>\n      <td>False</td>\n      <td>False</td>\n      <td>False</td>\n      <td>False</td>\n      <td>False</td>\n      <td>False</td>\n      <td>False</td>\n      <td>False</td>\n      <td>False</td>\n    </tr>\n    <tr>\n      <th>53938989</th>\n      <td>450000</td>\n      <td>2.0</td>\n      <td>1.0</td>\n      <td>0.775203</td>\n      <td>51.658287</td>\n      <td>-0.207902</td>\n      <td>0.158809</td>\n      <td>0.102682</td>\n      <td>FREEHOLD</td>\n      <td>0</td>\n      <td>...</td>\n      <td>False</td>\n      <td>False</td>\n      <td>False</td>\n      <td>False</td>\n      <td>False</td>\n      <td>False</td>\n      <td>False</td>\n      <td>False</td>\n      <td>False</td>\n      <td>False</td>\n    </tr>\n    <tr>\n      <th>54485145</th>\n      <td>250000</td>\n      <td>NaN</td>\n      <td>1.0</td>\n      <td>0.108070</td>\n      <td>51.463825</td>\n      <td>-0.014416</td>\n      <td>0.035653</td>\n      <td>0.090804</td>\n      <td>LEASEHOLD</td>\n      <td>0</td>\n      <td>...</td>\n      <td>False</td>\n      <td>False</td>\n      <td>False</td>\n      <td>False</td>\n      <td>False</td>\n      <td>False</td>\n      <td>False</td>\n      <td>False</td>\n      <td>False</td>\n      <td>False</td>\n    </tr>\n    <tr>\n      <th>54713232</th>\n      <td>332000</td>\n      <td>2.0</td>\n      <td>1.0</td>\n      <td>0.319226</td>\n      <td>51.612300</td>\n      <td>-0.119860</td>\n      <td>0.112822</td>\n      <td>0.014640</td>\n      <td>SHARE_OF_FREEHOLD</td>\n      <td>0</td>\n      <td>...</td>\n      <td>False</td>\n      <td>False</td>\n      <td>False</td>\n      <td>False</td>\n      <td>False</td>\n      <td>False</td>\n      <td>False</td>\n      <td>False</td>\n      <td>False</td>\n      <td>False</td>\n    </tr>\n    <tr>\n      <th>54904122</th>\n      <td>365000</td>\n      <td>2.0</td>\n      <td>1.0</td>\n      <td>0.260722</td>\n      <td>51.593595</td>\n      <td>0.022046</td>\n      <td>0.094117</td>\n      <td>0.127266</td>\n      <td>SHARE_OF_FREEHOLD</td>\n      <td>0</td>\n      <td>...</td>\n      <td>False</td>\n      <td>False</td>\n      <td>False</td>\n      <td>False</td>\n      <td>False</td>\n      <td>False</td>\n      <td>False</td>\n      <td>False</td>\n      <td>False</td>\n      <td>False</td>\n    </tr>\n    <tr>\n      <th>54991934</th>\n      <td>430000</td>\n      <td>3.0</td>\n      <td>1.0</td>\n      <td>0.497268</td>\n      <td>51.528720</td>\n      <td>0.039180</td>\n      <td>0.029242</td>\n      <td>0.144400</td>\n      <td>FREEHOLD</td>\n      <td>0</td>\n      <td>...</td>\n      <td>False</td>\n      <td>False</td>\n      <td>False</td>\n      <td>False</td>\n      <td>False</td>\n      <td>False</td>\n      <td>False</td>\n      <td>False</td>\n      <td>False</td>\n      <td>False</td>\n    </tr>\n    <tr>\n      <th>55043230</th>\n      <td>260000</td>\n      <td>1.0</td>\n      <td>1.0</td>\n      <td>0.384607</td>\n      <td>51.544430</td>\n      <td>0.014500</td>\n      <td>0.044952</td>\n      <td>0.119720</td>\n      <td>LEASEHOLD</td>\n      <td>0</td>\n      <td>...</td>\n      <td>False</td>\n      <td>False</td>\n      <td>False</td>\n      <td>False</td>\n      <td>False</td>\n      <td>False</td>\n      <td>False</td>\n      <td>False</td>\n      <td>False</td>\n      <td>False</td>\n    </tr>\n    <tr>\n      <th>55187658</th>\n      <td>430000</td>\n      <td>2.0</td>\n      <td>2.0</td>\n      <td>0.289033</td>\n      <td>51.507570</td>\n      <td>0.078030</td>\n      <td>0.008092</td>\n      <td>0.183250</td>\n      <td>LEASEHOLD</td>\n      <td>0</td>\n      <td>...</td>\n      <td>True</td>\n      <td>False</td>\n      <td>False</td>\n      <td>False</td>\n      <td>False</td>\n      <td>False</td>\n      <td>True</td>\n      <td>False</td>\n      <td>False</td>\n      <td>False</td>\n    </tr>\n    <tr>\n      <th>55531367</th>\n      <td>599950</td>\n      <td>2.0</td>\n      <td>1.0</td>\n      <td>0.406725</td>\n      <td>51.467410</td>\n      <td>-0.079170</td>\n      <td>0.032068</td>\n      <td>0.026050</td>\n      <td>NaN</td>\n      <td>0</td>\n      <td>...</td>\n      <td>False</td>\n      <td>False</td>\n      <td>True</td>\n      <td>False</td>\n      <td>False</td>\n      <td>False</td>\n      <td>False</td>\n      <td>False</td>\n      <td>False</td>\n      <td>False</td>\n    </tr>\n    <tr>\n      <th>55768232</th>\n      <td>550000</td>\n      <td>2.0</td>\n      <td>1.0</td>\n      <td>0.478349</td>\n      <td>51.472890</td>\n      <td>-0.078940</td>\n      <td>0.026588</td>\n      <td>0.026280</td>\n      <td>NaN</td>\n      <td>0</td>\n      <td>...</td>\n      <td>False</td>\n      <td>False</td>\n      <td>False</td>\n      <td>False</td>\n      <td>False</td>\n      <td>False</td>\n      <td>False</td>\n      <td>False</td>\n      <td>False</td>\n      <td>False</td>\n    </tr>\n    <tr>\n      <th>55805965</th>\n      <td>280000</td>\n      <td>2.0</td>\n      <td>1.0</td>\n      <td>0.742859</td>\n      <td>51.520910</td>\n      <td>0.022680</td>\n      <td>0.021432</td>\n      <td>0.127900</td>\n      <td>LEASEHOLD</td>\n      <td>0</td>\n      <td>...</td>\n      <td>False</td>\n      <td>False</td>\n      <td>False</td>\n      <td>False</td>\n      <td>True</td>\n      <td>False</td>\n      <td>False</td>\n      <td>False</td>\n      <td>False</td>\n      <td>False</td>\n    </tr>\n  </tbody>\n</table>\n<p>30 rows × 81 columns</p>\n</div>"
     },
     "execution_count": 15,
     "metadata": {},
     "output_type": "execute_result"
    }
   ],
   "source": [
    "df.head(30)"
   ]
  },
  {
   "cell_type": "code",
   "execution_count": 16,
   "metadata": {
    "collapsed": false,
    "execution": {
     "iopub.status.busy": "2022-11-17T00:36:06.689961Z",
     "iopub.status.idle": "2022-11-17T00:36:06.690719Z",
     "shell.execute_reply": "2022-11-17T00:36:06.690559Z",
     "shell.execute_reply.started": "2022-11-17T00:36:06.690544Z"
    },
    "jupyter": {
     "outputs_hidden": false
    }
   },
   "outputs": [
    {
     "name": "stdout",
     "output_type": "stream",
     "text": [
      "54067\n",
      "54067 ==> 54067\n"
     ]
    }
   ],
   "source": [
    "print(len(df_orig))\n",
    "old_length = len(df_orig)\n",
    "\n",
    "print(f\"{old_length} ==> {len(df)}\")\n",
    "old_length = len(df)"
   ]
  },
  {
   "cell_type": "code",
   "execution_count": 17,
   "metadata": {
    "collapsed": false,
    "execution": {
     "iopub.status.busy": "2022-11-17T00:36:06.691587Z",
     "iopub.status.idle": "2022-11-17T00:36:06.692146Z",
     "shell.execute_reply": "2022-11-17T00:36:06.692009Z",
     "shell.execute_reply.started": "2022-11-17T00:36:06.691994Z"
    },
    "jupyter": {
     "outputs_hidden": false
    }
   },
   "outputs": [
    {
     "name": "stdout",
     "output_type": "stream",
     "text": [
      "54067 ==> 54067\n"
     ]
    }
   ],
   "source": [
    "df['tenure.tenureType'] = df['tenure.tenureType'].astype('category')\n",
    "\n",
    "print(f\"{old_length} ==> {len(df)}\")\n",
    "old_length = len(df)"
   ]
  },
  {
   "cell_type": "code",
   "execution_count": 18,
   "metadata": {
    "collapsed": false,
    "execution": {
     "iopub.status.busy": "2022-11-17T00:36:06.693192Z",
     "iopub.status.idle": "2022-11-17T00:36:06.693859Z",
     "shell.execute_reply": "2022-11-17T00:36:06.693653Z",
     "shell.execute_reply.started": "2022-11-17T00:36:06.693634Z"
    },
    "jupyter": {
     "outputs_hidden": false
    }
   },
   "outputs": [
    {
     "data": {
      "text/plain": "                                      count           mean            std  \\\nPrice                               54067.0  416448.380528  113505.624206   \nbedrooms                            52265.0      11.360145    2143.329175   \nbathrooms                           50569.0       1.181534       0.413244   \nnearestStation                      54067.0       0.442075       1.049040   \nlocation.latitude                   54057.0      51.496130       0.076650   \nlocation.longitude                  54067.0      -0.106239       0.718769   \nlatitude_deviation                  54057.0       0.063545       0.042994   \nlongitude_deviation                 54067.0       0.133758       0.706214   \nfeature__1 bedroom                  54067.0       0.010450       0.101691   \nfeature__2 bedrooms                 54067.0       0.014593       0.120072   \nfeature__2 double bedrooms          54067.0       0.013335       0.114707   \nfeature__allocated parking          54067.0       0.026264       0.159920   \nfeature__allocated parking space    54067.0       0.013317       0.114629   \nfeature__balcony                    54067.0       0.038341       0.192406   \nfeature__bathroom                   54067.0       0.025783       0.158954   \nfeature__chain free                 54067.0       0.112731       0.316734   \nfeature__close to local amenities   54067.0       0.012374       0.110714   \nfeature__communal garden            54067.0       0.018033       0.133073   \nfeature__communal gardens           54067.0       0.030314       0.171560   \nfeature__double bedroom             54067.0       0.012059       0.109151   \nfeature__double glazed              54067.0       0.012429       0.110792   \nfeature__double glazing             54067.0       0.025228       0.156936   \nfeature__epc rating c               54067.0       0.011449       0.106386   \nfeature__epc rating d               54067.0       0.012540       0.111279   \nfeature__excellent location         54067.0       0.013224       0.114235   \nfeature__excellent transport links  54067.0       0.015925       0.125333   \nfeature__family bathroom            54067.0       0.014149       0.118263   \nfeature__first floor                54067.0       0.026005       0.159151   \nfeature__fitted kitchen             54067.0       0.027022       0.162263   \nfeature__garage                     54067.0       0.028391       0.166310   \nfeature__garden                     54067.0       0.019827       0.140333   \nfeature__gas central heating        54067.0       0.027392       0.163790   \nfeature__great location             54067.0       0.014704       0.120366   \nfeature__ground floor               54067.0       0.027836       0.164504   \nfeature__kitchen                    54067.0       0.021862       0.146233   \nfeature__leasehold                  54067.0       0.014168       0.118339   \nfeature__long lease                 54067.0       0.037417       0.189879   \nfeature__modern bathroom            54067.0       0.014833       0.120887   \nfeature__modern kitchen             54067.0       0.013853       0.116883   \nfeature__no chain                   54067.0       0.025228       0.157172   \nfeature__no onward chain            54067.0       0.055690       0.229405   \nfeature__off street parking         54067.0       0.044815       0.207256   \nfeature__one bedroom                54067.0       0.039137       0.193922   \nfeature__one double bedroom         54067.0       0.025487       0.157600   \nfeature__parking                    54067.0       0.013021       0.113528   \nfeature__private balcony            54067.0       0.042558       0.201953   \nfeature__private garden             54067.0       0.031868       0.175860   \nfeature__private rear garden        54067.0       0.016221       0.126763   \nfeature__reception room             54067.0       0.013298       0.114873   \nfeature__separate kitchen           54067.0       0.019846       0.139471   \nfeature__share of freehold          54067.0       0.046239       0.210356   \nfeature__three bedrooms             54067.0       0.054580       0.227162   \nfeature__three double bedrooms      54067.0       0.011467       0.106470   \nfeature__top floor                  54067.0       0.012522       0.111198   \nfeature__two bathrooms              54067.0       0.029186       0.168549   \nfeature__two bedrooms               54067.0       0.066898       0.249848   \nfeature__two double bedrooms        54067.0       0.087687       0.282973   \nfeature__two reception rooms        54067.0       0.015074       0.121848   \n\n                                              min            25%  \\\nPrice                               100000.000000  325000.000000   \nbedrooms                                 1.000000       1.000000   \nbathrooms                                1.000000       1.000000   \nnearestStation                           0.000000       0.221778   \nlocation.latitude                       51.298317      51.439070   \nlocation.longitude                      -0.498315      -0.212965   \nlatitude_deviation                       0.000000       0.027538   \nlongitude_deviation                      0.000000       0.044160   \nfeature__1 bedroom                       0.000000       0.000000   \nfeature__2 bedrooms                      0.000000       0.000000   \nfeature__2 double bedrooms               0.000000       0.000000   \nfeature__allocated parking               0.000000       0.000000   \nfeature__allocated parking space         0.000000       0.000000   \nfeature__balcony                         0.000000       0.000000   \nfeature__bathroom                        0.000000       0.000000   \nfeature__chain free                      0.000000       0.000000   \nfeature__close to local amenities        0.000000       0.000000   \nfeature__communal garden                 0.000000       0.000000   \nfeature__communal gardens                0.000000       0.000000   \nfeature__double bedroom                  0.000000       0.000000   \nfeature__double glazed                   0.000000       0.000000   \nfeature__double glazing                  0.000000       0.000000   \nfeature__epc rating c                    0.000000       0.000000   \nfeature__epc rating d                    0.000000       0.000000   \nfeature__excellent location              0.000000       0.000000   \nfeature__excellent transport links       0.000000       0.000000   \nfeature__family bathroom                 0.000000       0.000000   \nfeature__first floor                     0.000000       0.000000   \nfeature__fitted kitchen                  0.000000       0.000000   \nfeature__garage                          0.000000       0.000000   \nfeature__garden                          0.000000       0.000000   \nfeature__gas central heating             0.000000       0.000000   \nfeature__great location                  0.000000       0.000000   \nfeature__ground floor                    0.000000       0.000000   \nfeature__kitchen                         0.000000       0.000000   \nfeature__leasehold                       0.000000       0.000000   \nfeature__long lease                      0.000000       0.000000   \nfeature__modern bathroom                 0.000000       0.000000   \nfeature__modern kitchen                  0.000000       0.000000   \nfeature__no chain                        0.000000       0.000000   \nfeature__no onward chain                 0.000000       0.000000   \nfeature__off street parking              0.000000       0.000000   \nfeature__one bedroom                     0.000000       0.000000   \nfeature__one double bedroom              0.000000       0.000000   \nfeature__parking                         0.000000       0.000000   \nfeature__private balcony                 0.000000       0.000000   \nfeature__private garden                  0.000000       0.000000   \nfeature__private rear garden             0.000000       0.000000   \nfeature__reception room                  0.000000       0.000000   \nfeature__separate kitchen                0.000000       0.000000   \nfeature__share of freehold               0.000000       0.000000   \nfeature__three bedrooms                  0.000000       0.000000   \nfeature__three double bedrooms           0.000000       0.000000   \nfeature__top floor                       0.000000       0.000000   \nfeature__two bathrooms                   0.000000       0.000000   \nfeature__two bedrooms                    0.000000       0.000000   \nfeature__two double bedrooms             0.000000       0.000000   \nfeature__two reception rooms             0.000000       0.000000   \n\n                                              50%            75%  \\\nPrice                               425000.000000  500000.000000   \nbedrooms                                 2.000000       2.000000   \nbathrooms                                1.000000       1.000000   \nnearestStation                           0.361208       0.553963   \nlocation.latitude                       51.499478      51.554067   \nlocation.longitude                      -0.105220      -0.012998   \nlatitude_deviation                       0.057198       0.093844   \nlongitude_deviation                      0.098877       0.192164   \nfeature__1 bedroom                       0.000000       0.000000   \nfeature__2 bedrooms                      0.000000       0.000000   \nfeature__2 double bedrooms               0.000000       0.000000   \nfeature__allocated parking               0.000000       0.000000   \nfeature__allocated parking space         0.000000       0.000000   \nfeature__balcony                         0.000000       0.000000   \nfeature__bathroom                        0.000000       0.000000   \nfeature__chain free                      0.000000       0.000000   \nfeature__close to local amenities        0.000000       0.000000   \nfeature__communal garden                 0.000000       0.000000   \nfeature__communal gardens                0.000000       0.000000   \nfeature__double bedroom                  0.000000       0.000000   \nfeature__double glazed                   0.000000       0.000000   \nfeature__double glazing                  0.000000       0.000000   \nfeature__epc rating c                    0.000000       0.000000   \nfeature__epc rating d                    0.000000       0.000000   \nfeature__excellent location              0.000000       0.000000   \nfeature__excellent transport links       0.000000       0.000000   \nfeature__family bathroom                 0.000000       0.000000   \nfeature__first floor                     0.000000       0.000000   \nfeature__fitted kitchen                  0.000000       0.000000   \nfeature__garage                          0.000000       0.000000   \nfeature__garden                          0.000000       0.000000   \nfeature__gas central heating             0.000000       0.000000   \nfeature__great location                  0.000000       0.000000   \nfeature__ground floor                    0.000000       0.000000   \nfeature__kitchen                         0.000000       0.000000   \nfeature__leasehold                       0.000000       0.000000   \nfeature__long lease                      0.000000       0.000000   \nfeature__modern bathroom                 0.000000       0.000000   \nfeature__modern kitchen                  0.000000       0.000000   \nfeature__no chain                        0.000000       0.000000   \nfeature__no onward chain                 0.000000       0.000000   \nfeature__off street parking              0.000000       0.000000   \nfeature__one bedroom                     0.000000       0.000000   \nfeature__one double bedroom              0.000000       0.000000   \nfeature__parking                         0.000000       0.000000   \nfeature__private balcony                 0.000000       0.000000   \nfeature__private garden                  0.000000       0.000000   \nfeature__private rear garden             0.000000       0.000000   \nfeature__reception room                  0.000000       0.000000   \nfeature__separate kitchen                0.000000       0.000000   \nfeature__share of freehold               0.000000       0.000000   \nfeature__three bedrooms                  0.000000       0.000000   \nfeature__three double bedrooms           0.000000       0.000000   \nfeature__top floor                       0.000000       0.000000   \nfeature__two bathrooms                   0.000000       0.000000   \nfeature__two bedrooms                    0.000000       0.000000   \nfeature__two double bedrooms             0.000000       0.000000   \nfeature__two reception rooms             0.000000       0.000000   \n\n                                              max  \nPrice                               600000.000000  \nbedrooms                            490000.000000  \nbathrooms                               12.000000  \nnearestStation                         192.431869  \nlocation.latitude                       51.683185  \nlocation.longitude                      51.558746  \nlatitude_deviation                       0.201161  \nlongitude_deviation                     51.663966  \nfeature__1 bedroom                       1.000000  \nfeature__2 bedrooms                      2.000000  \nfeature__2 double bedrooms               1.000000  \nfeature__allocated parking               1.000000  \nfeature__allocated parking space         1.000000  \nfeature__balcony                         2.000000  \nfeature__bathroom                        2.000000  \nfeature__chain free                      2.000000  \nfeature__close to local amenities        2.000000  \nfeature__communal garden                 1.000000  \nfeature__communal gardens                2.000000  \nfeature__double bedroom                  1.000000  \nfeature__double glazed                   1.000000  \nfeature__double glazing                  2.000000  \nfeature__epc rating c                    1.000000  \nfeature__epc rating d                    1.000000  \nfeature__excellent location              1.000000  \nfeature__excellent transport links       2.000000  \nfeature__family bathroom                 2.000000  \nfeature__first floor                     1.000000  \nfeature__fitted kitchen                  2.000000  \nfeature__garage                          2.000000  \nfeature__garden                          2.000000  \nfeature__gas central heating             2.000000  \nfeature__great location                  1.000000  \nfeature__ground floor                    1.000000  \nfeature__kitchen                         1.000000  \nfeature__leasehold                       2.000000  \nfeature__long lease                      2.000000  \nfeature__modern bathroom                 1.000000  \nfeature__modern kitchen                  1.000000  \nfeature__no chain                        2.000000  \nfeature__no onward chain                 2.000000  \nfeature__off street parking              2.000000  \nfeature__one bedroom                     1.000000  \nfeature__one double bedroom              1.000000  \nfeature__parking                         2.000000  \nfeature__private balcony                 2.000000  \nfeature__private garden                  2.000000  \nfeature__private rear garden             2.000000  \nfeature__reception room                  2.000000  \nfeature__separate kitchen                1.000000  \nfeature__share of freehold               2.000000  \nfeature__three bedrooms                  1.000000  \nfeature__three double bedrooms           1.000000  \nfeature__top floor                       1.000000  \nfeature__two bathrooms                   2.000000  \nfeature__two bedrooms                    1.000000  \nfeature__two double bedrooms             2.000000  \nfeature__two reception rooms             1.000000  ",
      "text/html": "<div>\n<style scoped>\n    .dataframe tbody tr th:only-of-type {\n        vertical-align: middle;\n    }\n\n    .dataframe tbody tr th {\n        vertical-align: top;\n    }\n\n    .dataframe thead th {\n        text-align: right;\n    }\n</style>\n<table border=\"1\" class=\"dataframe\">\n  <thead>\n    <tr style=\"text-align: right;\">\n      <th></th>\n      <th>count</th>\n      <th>mean</th>\n      <th>std</th>\n      <th>min</th>\n      <th>25%</th>\n      <th>50%</th>\n      <th>75%</th>\n      <th>max</th>\n    </tr>\n  </thead>\n  <tbody>\n    <tr>\n      <th>Price</th>\n      <td>54067.0</td>\n      <td>416448.380528</td>\n      <td>113505.624206</td>\n      <td>100000.000000</td>\n      <td>325000.000000</td>\n      <td>425000.000000</td>\n      <td>500000.000000</td>\n      <td>600000.000000</td>\n    </tr>\n    <tr>\n      <th>bedrooms</th>\n      <td>52265.0</td>\n      <td>11.360145</td>\n      <td>2143.329175</td>\n      <td>1.000000</td>\n      <td>1.000000</td>\n      <td>2.000000</td>\n      <td>2.000000</td>\n      <td>490000.000000</td>\n    </tr>\n    <tr>\n      <th>bathrooms</th>\n      <td>50569.0</td>\n      <td>1.181534</td>\n      <td>0.413244</td>\n      <td>1.000000</td>\n      <td>1.000000</td>\n      <td>1.000000</td>\n      <td>1.000000</td>\n      <td>12.000000</td>\n    </tr>\n    <tr>\n      <th>nearestStation</th>\n      <td>54067.0</td>\n      <td>0.442075</td>\n      <td>1.049040</td>\n      <td>0.000000</td>\n      <td>0.221778</td>\n      <td>0.361208</td>\n      <td>0.553963</td>\n      <td>192.431869</td>\n    </tr>\n    <tr>\n      <th>location.latitude</th>\n      <td>54057.0</td>\n      <td>51.496130</td>\n      <td>0.076650</td>\n      <td>51.298317</td>\n      <td>51.439070</td>\n      <td>51.499478</td>\n      <td>51.554067</td>\n      <td>51.683185</td>\n    </tr>\n    <tr>\n      <th>location.longitude</th>\n      <td>54067.0</td>\n      <td>-0.106239</td>\n      <td>0.718769</td>\n      <td>-0.498315</td>\n      <td>-0.212965</td>\n      <td>-0.105220</td>\n      <td>-0.012998</td>\n      <td>51.558746</td>\n    </tr>\n    <tr>\n      <th>latitude_deviation</th>\n      <td>54057.0</td>\n      <td>0.063545</td>\n      <td>0.042994</td>\n      <td>0.000000</td>\n      <td>0.027538</td>\n      <td>0.057198</td>\n      <td>0.093844</td>\n      <td>0.201161</td>\n    </tr>\n    <tr>\n      <th>longitude_deviation</th>\n      <td>54067.0</td>\n      <td>0.133758</td>\n      <td>0.706214</td>\n      <td>0.000000</td>\n      <td>0.044160</td>\n      <td>0.098877</td>\n      <td>0.192164</td>\n      <td>51.663966</td>\n    </tr>\n    <tr>\n      <th>feature__1 bedroom</th>\n      <td>54067.0</td>\n      <td>0.010450</td>\n      <td>0.101691</td>\n      <td>0.000000</td>\n      <td>0.000000</td>\n      <td>0.000000</td>\n      <td>0.000000</td>\n      <td>1.000000</td>\n    </tr>\n    <tr>\n      <th>feature__2 bedrooms</th>\n      <td>54067.0</td>\n      <td>0.014593</td>\n      <td>0.120072</td>\n      <td>0.000000</td>\n      <td>0.000000</td>\n      <td>0.000000</td>\n      <td>0.000000</td>\n      <td>2.000000</td>\n    </tr>\n    <tr>\n      <th>feature__2 double bedrooms</th>\n      <td>54067.0</td>\n      <td>0.013335</td>\n      <td>0.114707</td>\n      <td>0.000000</td>\n      <td>0.000000</td>\n      <td>0.000000</td>\n      <td>0.000000</td>\n      <td>1.000000</td>\n    </tr>\n    <tr>\n      <th>feature__allocated parking</th>\n      <td>54067.0</td>\n      <td>0.026264</td>\n      <td>0.159920</td>\n      <td>0.000000</td>\n      <td>0.000000</td>\n      <td>0.000000</td>\n      <td>0.000000</td>\n      <td>1.000000</td>\n    </tr>\n    <tr>\n      <th>feature__allocated parking space</th>\n      <td>54067.0</td>\n      <td>0.013317</td>\n      <td>0.114629</td>\n      <td>0.000000</td>\n      <td>0.000000</td>\n      <td>0.000000</td>\n      <td>0.000000</td>\n      <td>1.000000</td>\n    </tr>\n    <tr>\n      <th>feature__balcony</th>\n      <td>54067.0</td>\n      <td>0.038341</td>\n      <td>0.192406</td>\n      <td>0.000000</td>\n      <td>0.000000</td>\n      <td>0.000000</td>\n      <td>0.000000</td>\n      <td>2.000000</td>\n    </tr>\n    <tr>\n      <th>feature__bathroom</th>\n      <td>54067.0</td>\n      <td>0.025783</td>\n      <td>0.158954</td>\n      <td>0.000000</td>\n      <td>0.000000</td>\n      <td>0.000000</td>\n      <td>0.000000</td>\n      <td>2.000000</td>\n    </tr>\n    <tr>\n      <th>feature__chain free</th>\n      <td>54067.0</td>\n      <td>0.112731</td>\n      <td>0.316734</td>\n      <td>0.000000</td>\n      <td>0.000000</td>\n      <td>0.000000</td>\n      <td>0.000000</td>\n      <td>2.000000</td>\n    </tr>\n    <tr>\n      <th>feature__close to local amenities</th>\n      <td>54067.0</td>\n      <td>0.012374</td>\n      <td>0.110714</td>\n      <td>0.000000</td>\n      <td>0.000000</td>\n      <td>0.000000</td>\n      <td>0.000000</td>\n      <td>2.000000</td>\n    </tr>\n    <tr>\n      <th>feature__communal garden</th>\n      <td>54067.0</td>\n      <td>0.018033</td>\n      <td>0.133073</td>\n      <td>0.000000</td>\n      <td>0.000000</td>\n      <td>0.000000</td>\n      <td>0.000000</td>\n      <td>1.000000</td>\n    </tr>\n    <tr>\n      <th>feature__communal gardens</th>\n      <td>54067.0</td>\n      <td>0.030314</td>\n      <td>0.171560</td>\n      <td>0.000000</td>\n      <td>0.000000</td>\n      <td>0.000000</td>\n      <td>0.000000</td>\n      <td>2.000000</td>\n    </tr>\n    <tr>\n      <th>feature__double bedroom</th>\n      <td>54067.0</td>\n      <td>0.012059</td>\n      <td>0.109151</td>\n      <td>0.000000</td>\n      <td>0.000000</td>\n      <td>0.000000</td>\n      <td>0.000000</td>\n      <td>1.000000</td>\n    </tr>\n    <tr>\n      <th>feature__double glazed</th>\n      <td>54067.0</td>\n      <td>0.012429</td>\n      <td>0.110792</td>\n      <td>0.000000</td>\n      <td>0.000000</td>\n      <td>0.000000</td>\n      <td>0.000000</td>\n      <td>1.000000</td>\n    </tr>\n    <tr>\n      <th>feature__double glazing</th>\n      <td>54067.0</td>\n      <td>0.025228</td>\n      <td>0.156936</td>\n      <td>0.000000</td>\n      <td>0.000000</td>\n      <td>0.000000</td>\n      <td>0.000000</td>\n      <td>2.000000</td>\n    </tr>\n    <tr>\n      <th>feature__epc rating c</th>\n      <td>54067.0</td>\n      <td>0.011449</td>\n      <td>0.106386</td>\n      <td>0.000000</td>\n      <td>0.000000</td>\n      <td>0.000000</td>\n      <td>0.000000</td>\n      <td>1.000000</td>\n    </tr>\n    <tr>\n      <th>feature__epc rating d</th>\n      <td>54067.0</td>\n      <td>0.012540</td>\n      <td>0.111279</td>\n      <td>0.000000</td>\n      <td>0.000000</td>\n      <td>0.000000</td>\n      <td>0.000000</td>\n      <td>1.000000</td>\n    </tr>\n    <tr>\n      <th>feature__excellent location</th>\n      <td>54067.0</td>\n      <td>0.013224</td>\n      <td>0.114235</td>\n      <td>0.000000</td>\n      <td>0.000000</td>\n      <td>0.000000</td>\n      <td>0.000000</td>\n      <td>1.000000</td>\n    </tr>\n    <tr>\n      <th>feature__excellent transport links</th>\n      <td>54067.0</td>\n      <td>0.015925</td>\n      <td>0.125333</td>\n      <td>0.000000</td>\n      <td>0.000000</td>\n      <td>0.000000</td>\n      <td>0.000000</td>\n      <td>2.000000</td>\n    </tr>\n    <tr>\n      <th>feature__family bathroom</th>\n      <td>54067.0</td>\n      <td>0.014149</td>\n      <td>0.118263</td>\n      <td>0.000000</td>\n      <td>0.000000</td>\n      <td>0.000000</td>\n      <td>0.000000</td>\n      <td>2.000000</td>\n    </tr>\n    <tr>\n      <th>feature__first floor</th>\n      <td>54067.0</td>\n      <td>0.026005</td>\n      <td>0.159151</td>\n      <td>0.000000</td>\n      <td>0.000000</td>\n      <td>0.000000</td>\n      <td>0.000000</td>\n      <td>1.000000</td>\n    </tr>\n    <tr>\n      <th>feature__fitted kitchen</th>\n      <td>54067.0</td>\n      <td>0.027022</td>\n      <td>0.162263</td>\n      <td>0.000000</td>\n      <td>0.000000</td>\n      <td>0.000000</td>\n      <td>0.000000</td>\n      <td>2.000000</td>\n    </tr>\n    <tr>\n      <th>feature__garage</th>\n      <td>54067.0</td>\n      <td>0.028391</td>\n      <td>0.166310</td>\n      <td>0.000000</td>\n      <td>0.000000</td>\n      <td>0.000000</td>\n      <td>0.000000</td>\n      <td>2.000000</td>\n    </tr>\n    <tr>\n      <th>feature__garden</th>\n      <td>54067.0</td>\n      <td>0.019827</td>\n      <td>0.140333</td>\n      <td>0.000000</td>\n      <td>0.000000</td>\n      <td>0.000000</td>\n      <td>0.000000</td>\n      <td>2.000000</td>\n    </tr>\n    <tr>\n      <th>feature__gas central heating</th>\n      <td>54067.0</td>\n      <td>0.027392</td>\n      <td>0.163790</td>\n      <td>0.000000</td>\n      <td>0.000000</td>\n      <td>0.000000</td>\n      <td>0.000000</td>\n      <td>2.000000</td>\n    </tr>\n    <tr>\n      <th>feature__great location</th>\n      <td>54067.0</td>\n      <td>0.014704</td>\n      <td>0.120366</td>\n      <td>0.000000</td>\n      <td>0.000000</td>\n      <td>0.000000</td>\n      <td>0.000000</td>\n      <td>1.000000</td>\n    </tr>\n    <tr>\n      <th>feature__ground floor</th>\n      <td>54067.0</td>\n      <td>0.027836</td>\n      <td>0.164504</td>\n      <td>0.000000</td>\n      <td>0.000000</td>\n      <td>0.000000</td>\n      <td>0.000000</td>\n      <td>1.000000</td>\n    </tr>\n    <tr>\n      <th>feature__kitchen</th>\n      <td>54067.0</td>\n      <td>0.021862</td>\n      <td>0.146233</td>\n      <td>0.000000</td>\n      <td>0.000000</td>\n      <td>0.000000</td>\n      <td>0.000000</td>\n      <td>1.000000</td>\n    </tr>\n    <tr>\n      <th>feature__leasehold</th>\n      <td>54067.0</td>\n      <td>0.014168</td>\n      <td>0.118339</td>\n      <td>0.000000</td>\n      <td>0.000000</td>\n      <td>0.000000</td>\n      <td>0.000000</td>\n      <td>2.000000</td>\n    </tr>\n    <tr>\n      <th>feature__long lease</th>\n      <td>54067.0</td>\n      <td>0.037417</td>\n      <td>0.189879</td>\n      <td>0.000000</td>\n      <td>0.000000</td>\n      <td>0.000000</td>\n      <td>0.000000</td>\n      <td>2.000000</td>\n    </tr>\n    <tr>\n      <th>feature__modern bathroom</th>\n      <td>54067.0</td>\n      <td>0.014833</td>\n      <td>0.120887</td>\n      <td>0.000000</td>\n      <td>0.000000</td>\n      <td>0.000000</td>\n      <td>0.000000</td>\n      <td>1.000000</td>\n    </tr>\n    <tr>\n      <th>feature__modern kitchen</th>\n      <td>54067.0</td>\n      <td>0.013853</td>\n      <td>0.116883</td>\n      <td>0.000000</td>\n      <td>0.000000</td>\n      <td>0.000000</td>\n      <td>0.000000</td>\n      <td>1.000000</td>\n    </tr>\n    <tr>\n      <th>feature__no chain</th>\n      <td>54067.0</td>\n      <td>0.025228</td>\n      <td>0.157172</td>\n      <td>0.000000</td>\n      <td>0.000000</td>\n      <td>0.000000</td>\n      <td>0.000000</td>\n      <td>2.000000</td>\n    </tr>\n    <tr>\n      <th>feature__no onward chain</th>\n      <td>54067.0</td>\n      <td>0.055690</td>\n      <td>0.229405</td>\n      <td>0.000000</td>\n      <td>0.000000</td>\n      <td>0.000000</td>\n      <td>0.000000</td>\n      <td>2.000000</td>\n    </tr>\n    <tr>\n      <th>feature__off street parking</th>\n      <td>54067.0</td>\n      <td>0.044815</td>\n      <td>0.207256</td>\n      <td>0.000000</td>\n      <td>0.000000</td>\n      <td>0.000000</td>\n      <td>0.000000</td>\n      <td>2.000000</td>\n    </tr>\n    <tr>\n      <th>feature__one bedroom</th>\n      <td>54067.0</td>\n      <td>0.039137</td>\n      <td>0.193922</td>\n      <td>0.000000</td>\n      <td>0.000000</td>\n      <td>0.000000</td>\n      <td>0.000000</td>\n      <td>1.000000</td>\n    </tr>\n    <tr>\n      <th>feature__one double bedroom</th>\n      <td>54067.0</td>\n      <td>0.025487</td>\n      <td>0.157600</td>\n      <td>0.000000</td>\n      <td>0.000000</td>\n      <td>0.000000</td>\n      <td>0.000000</td>\n      <td>1.000000</td>\n    </tr>\n    <tr>\n      <th>feature__parking</th>\n      <td>54067.0</td>\n      <td>0.013021</td>\n      <td>0.113528</td>\n      <td>0.000000</td>\n      <td>0.000000</td>\n      <td>0.000000</td>\n      <td>0.000000</td>\n      <td>2.000000</td>\n    </tr>\n    <tr>\n      <th>feature__private balcony</th>\n      <td>54067.0</td>\n      <td>0.042558</td>\n      <td>0.201953</td>\n      <td>0.000000</td>\n      <td>0.000000</td>\n      <td>0.000000</td>\n      <td>0.000000</td>\n      <td>2.000000</td>\n    </tr>\n    <tr>\n      <th>feature__private garden</th>\n      <td>54067.0</td>\n      <td>0.031868</td>\n      <td>0.175860</td>\n      <td>0.000000</td>\n      <td>0.000000</td>\n      <td>0.000000</td>\n      <td>0.000000</td>\n      <td>2.000000</td>\n    </tr>\n    <tr>\n      <th>feature__private rear garden</th>\n      <td>54067.0</td>\n      <td>0.016221</td>\n      <td>0.126763</td>\n      <td>0.000000</td>\n      <td>0.000000</td>\n      <td>0.000000</td>\n      <td>0.000000</td>\n      <td>2.000000</td>\n    </tr>\n    <tr>\n      <th>feature__reception room</th>\n      <td>54067.0</td>\n      <td>0.013298</td>\n      <td>0.114873</td>\n      <td>0.000000</td>\n      <td>0.000000</td>\n      <td>0.000000</td>\n      <td>0.000000</td>\n      <td>2.000000</td>\n    </tr>\n    <tr>\n      <th>feature__separate kitchen</th>\n      <td>54067.0</td>\n      <td>0.019846</td>\n      <td>0.139471</td>\n      <td>0.000000</td>\n      <td>0.000000</td>\n      <td>0.000000</td>\n      <td>0.000000</td>\n      <td>1.000000</td>\n    </tr>\n    <tr>\n      <th>feature__share of freehold</th>\n      <td>54067.0</td>\n      <td>0.046239</td>\n      <td>0.210356</td>\n      <td>0.000000</td>\n      <td>0.000000</td>\n      <td>0.000000</td>\n      <td>0.000000</td>\n      <td>2.000000</td>\n    </tr>\n    <tr>\n      <th>feature__three bedrooms</th>\n      <td>54067.0</td>\n      <td>0.054580</td>\n      <td>0.227162</td>\n      <td>0.000000</td>\n      <td>0.000000</td>\n      <td>0.000000</td>\n      <td>0.000000</td>\n      <td>1.000000</td>\n    </tr>\n    <tr>\n      <th>feature__three double bedrooms</th>\n      <td>54067.0</td>\n      <td>0.011467</td>\n      <td>0.106470</td>\n      <td>0.000000</td>\n      <td>0.000000</td>\n      <td>0.000000</td>\n      <td>0.000000</td>\n      <td>1.000000</td>\n    </tr>\n    <tr>\n      <th>feature__top floor</th>\n      <td>54067.0</td>\n      <td>0.012522</td>\n      <td>0.111198</td>\n      <td>0.000000</td>\n      <td>0.000000</td>\n      <td>0.000000</td>\n      <td>0.000000</td>\n      <td>1.000000</td>\n    </tr>\n    <tr>\n      <th>feature__two bathrooms</th>\n      <td>54067.0</td>\n      <td>0.029186</td>\n      <td>0.168549</td>\n      <td>0.000000</td>\n      <td>0.000000</td>\n      <td>0.000000</td>\n      <td>0.000000</td>\n      <td>2.000000</td>\n    </tr>\n    <tr>\n      <th>feature__two bedrooms</th>\n      <td>54067.0</td>\n      <td>0.066898</td>\n      <td>0.249848</td>\n      <td>0.000000</td>\n      <td>0.000000</td>\n      <td>0.000000</td>\n      <td>0.000000</td>\n      <td>1.000000</td>\n    </tr>\n    <tr>\n      <th>feature__two double bedrooms</th>\n      <td>54067.0</td>\n      <td>0.087687</td>\n      <td>0.282973</td>\n      <td>0.000000</td>\n      <td>0.000000</td>\n      <td>0.000000</td>\n      <td>0.000000</td>\n      <td>2.000000</td>\n    </tr>\n    <tr>\n      <th>feature__two reception rooms</th>\n      <td>54067.0</td>\n      <td>0.015074</td>\n      <td>0.121848</td>\n      <td>0.000000</td>\n      <td>0.000000</td>\n      <td>0.000000</td>\n      <td>0.000000</td>\n      <td>1.000000</td>\n    </tr>\n  </tbody>\n</table>\n</div>"
     },
     "execution_count": 18,
     "metadata": {},
     "output_type": "execute_result"
    }
   ],
   "source": [
    "df.describe().T"
   ]
  },
  {
   "cell_type": "code",
   "execution_count": 19,
   "metadata": {
    "collapsed": false,
    "execution": {
     "iopub.status.busy": "2022-11-17T00:36:06.695044Z",
     "iopub.status.idle": "2022-11-17T00:36:06.695698Z",
     "shell.execute_reply": "2022-11-17T00:36:06.695498Z",
     "shell.execute_reply.started": "2022-11-17T00:36:06.695483Z"
    },
    "jupyter": {
     "outputs_hidden": false
    }
   },
   "outputs": [
    {
     "data": {
      "text/plain": "                   count unique        top   freq\ntenure.tenureType  50413      4  LEASEHOLD  31582",
      "text/html": "<div>\n<style scoped>\n    .dataframe tbody tr th:only-of-type {\n        vertical-align: middle;\n    }\n\n    .dataframe tbody tr th {\n        vertical-align: top;\n    }\n\n    .dataframe thead th {\n        text-align: right;\n    }\n</style>\n<table border=\"1\" class=\"dataframe\">\n  <thead>\n    <tr style=\"text-align: right;\">\n      <th></th>\n      <th>count</th>\n      <th>unique</th>\n      <th>top</th>\n      <th>freq</th>\n    </tr>\n  </thead>\n  <tbody>\n    <tr>\n      <th>tenure.tenureType</th>\n      <td>50413</td>\n      <td>4</td>\n      <td>LEASEHOLD</td>\n      <td>31582</td>\n    </tr>\n  </tbody>\n</table>\n</div>"
     },
     "execution_count": 19,
     "metadata": {},
     "output_type": "execute_result"
    }
   ],
   "source": [
    "df.describe(include=['object', 'category'], exclude=[]).T"
   ]
  },
  {
   "cell_type": "code",
   "execution_count": null,
   "metadata": {
    "collapsed": false,
    "execution": {
     "iopub.status.busy": "2022-11-17T00:36:06.759762Z",
     "iopub.status.idle": "2022-11-17T00:36:06.760935Z",
     "shell.execute_reply": "2022-11-17T00:36:06.760769Z",
     "shell.execute_reply.started": "2022-11-17T00:36:06.760743Z"
    },
    "jupyter": {
     "outputs_hidden": false
    },
    "pycharm": {
     "is_executing": true
    }
   },
   "outputs": [],
   "source": [
    "%matplotlib inline\n",
    "df.hist(bins=50, figsize=(20, 20))\n",
    "plt.show()"
   ]
  },
  {
   "cell_type": "markdown",
   "metadata": {},
   "source": [
    "<div id = 3 style=\"color:white;\n",
    "           display:fill;\n",
    "           border-radius:5px;\n",
    "           background-color:#b08888;\n",
    "           font-size:100%;\n",
    "           font-family:Verdana;\n",
    "           letter-spacing:0.5px;\n",
    "           display:flex;\n",
    "            justify-content:center;\">\n",
    "\n",
    "<h2 style=\"padding: 2rem;\n",
    "              color:white;\n",
    "          text-align:center;\n",
    "          margin:0 auto;\n",
    "          \">\n",
    "    IDENTIFY OUTLIERS\n",
    "\n",
    "\n",
    "</h2>\n",
    "</div>"
   ]
  },
  {
   "cell_type": "code",
   "execution_count": null,
   "metadata": {
    "collapsed": false,
    "execution": {
     "iopub.status.busy": "2022-11-17T00:36:06.761738Z",
     "iopub.status.idle": "2022-11-17T00:36:06.766918Z",
     "shell.execute_reply": "2022-11-17T00:36:06.766782Z",
     "shell.execute_reply.started": "2022-11-17T00:36:06.766766Z"
    },
    "jupyter": {
     "outputs_hidden": false
    },
    "pycharm": {
     "is_executing": true
    }
   },
   "outputs": [],
   "source": [
    "df.isna().sum()"
   ]
  },
  {
   "cell_type": "code",
   "execution_count": null,
   "metadata": {
    "collapsed": false,
    "execution": {
     "iopub.status.busy": "2022-11-17T00:36:06.767461Z",
     "iopub.status.idle": "2022-11-17T00:36:06.767823Z",
     "shell.execute_reply": "2022-11-17T00:36:06.767712Z",
     "shell.execute_reply.started": "2022-11-17T00:36:06.767695Z"
    },
    "jupyter": {
     "outputs_hidden": false
    },
    "pycharm": {
     "is_executing": true
    }
   },
   "outputs": [],
   "source": [
    "# Identifying outliers, in order to try and verify (from the source data) that they are incorrect data.\n",
    "df[df['bedrooms'] > 5].sort_values('bedrooms', ascending=False)"
   ]
  },
  {
   "cell_type": "code",
   "execution_count": null,
   "metadata": {
    "collapsed": false,
    "execution": {
     "iopub.status.busy": "2022-11-17T00:36:06.768318Z",
     "iopub.status.idle": "2022-11-17T00:36:06.768641Z",
     "shell.execute_reply": "2022-11-17T00:36:06.768544Z",
     "shell.execute_reply.started": "2022-11-17T00:36:06.768532Z"
    },
    "jupyter": {
     "outputs_hidden": false
    },
    "pycharm": {
     "is_executing": true
    }
   },
   "outputs": [],
   "source": [
    "# Identifying outliers, in order to try and verify (from the source data) that they are incorrect data.\n",
    "df[df['bedrooms'] > 10].sort_values('bedrooms', ascending=False)"
   ]
  },
  {
   "cell_type": "code",
   "execution_count": null,
   "metadata": {
    "collapsed": false,
    "execution": {
     "iopub.status.busy": "2022-11-17T00:36:06.769122Z",
     "iopub.status.idle": "2022-11-17T00:36:06.769444Z",
     "shell.execute_reply": "2022-11-17T00:36:06.769348Z",
     "shell.execute_reply.started": "2022-11-17T00:36:06.769336Z"
    },
    "jupyter": {
     "outputs_hidden": false
    },
    "pycharm": {
     "is_executing": true
    }
   },
   "outputs": [],
   "source": [
    "# Identifying outliers, in order to try and verify (from the source data) that they are incorrect data.\n",
    "df[df['bathrooms'] > 5]"
   ]
  },
  {
   "cell_type": "code",
   "execution_count": null,
   "metadata": {
    "collapsed": false,
    "execution": {
     "iopub.status.busy": "2022-11-17T00:36:06.769936Z",
     "iopub.status.idle": "2022-11-17T00:36:06.770255Z",
     "shell.execute_reply": "2022-11-17T00:36:06.770159Z",
     "shell.execute_reply.started": "2022-11-17T00:36:06.770147Z"
    },
    "jupyter": {
     "outputs_hidden": false
    },
    "pycharm": {
     "is_executing": true
    }
   },
   "outputs": [],
   "source": [
    "# Identifying outliers, in order to try and verify (from the source data) that they are incorrect data.\n",
    "df[df['longitude_deviation'] > 1]"
   ]
  },
  {
   "cell_type": "code",
   "execution_count": null,
   "metadata": {
    "collapsed": false,
    "execution": {
     "iopub.status.busy": "2022-11-17T00:36:06.770779Z",
     "iopub.status.idle": "2022-11-17T00:36:06.771102Z",
     "shell.execute_reply": "2022-11-17T00:36:06.771005Z",
     "shell.execute_reply.started": "2022-11-17T00:36:06.770993Z"
    },
    "jupyter": {
     "outputs_hidden": false
    },
    "pycharm": {
     "is_executing": true
    }
   },
   "outputs": [],
   "source": [
    "# Identifying outliers, in order to try and verify (from the source data) that they are incorrect data.\n",
    "df[df['latitude_deviation'] > 1]"
   ]
  },
  {
   "cell_type": "code",
   "execution_count": null,
   "metadata": {
    "collapsed": false,
    "execution": {
     "iopub.status.busy": "2022-11-17T00:36:06.771577Z",
     "iopub.status.idle": "2022-11-17T00:36:06.771947Z",
     "shell.execute_reply": "2022-11-17T00:36:06.771807Z",
     "shell.execute_reply.started": "2022-11-17T00:36:06.771792Z"
    },
    "jupyter": {
     "outputs_hidden": false
    },
    "pycharm": {
     "is_executing": true
    }
   },
   "outputs": [],
   "source": [
    "# Identifying outliers, in order to try and verify (from the source data) that they are incorrect data.\n",
    "df[df['nearestStation'] > 20]"
   ]
  },
  {
   "cell_type": "code",
   "execution_count": null,
   "metadata": {
    "collapsed": false,
    "execution": {
     "iopub.status.busy": "2022-11-17T00:36:06.772488Z",
     "iopub.status.idle": "2022-11-17T00:36:06.772808Z",
     "shell.execute_reply": "2022-11-17T00:36:06.772712Z",
     "shell.execute_reply.started": "2022-11-17T00:36:06.772701Z"
    },
    "jupyter": {
     "outputs_hidden": false
    },
    "pycharm": {
     "is_executing": true
    }
   },
   "outputs": [],
   "source": [
    "# Identifying outliers, in order to try and verify (from the source data) that they are incorrect data.\n",
    "df[df['nearestStation'] > 4].sort_values('nearestStation', ascending=False)"
   ]
  },
  {
   "cell_type": "code",
   "execution_count": null,
   "metadata": {
    "collapsed": false,
    "execution": {
     "iopub.status.busy": "2022-11-17T00:36:06.773293Z",
     "iopub.status.idle": "2022-11-17T00:36:06.779517Z",
     "shell.execute_reply": "2022-11-17T00:36:06.779364Z",
     "shell.execute_reply.started": "2022-11-17T00:36:06.779343Z"
    },
    "jupyter": {
     "outputs_hidden": false
    },
    "pycharm": {
     "is_executing": true
    }
   },
   "outputs": [],
   "source": [
    "df = df[(df['bedrooms'] <= 10)]\n",
    "df = df[df['bathrooms'] <= 5]\n",
    "df = df[((df['longitude_deviation'] <= 1) & (df['latitude_deviation'] <= 1))]\n",
    "df = df[(df['nearestStation'] <= 4)]\n",
    "\n",
    "print(f\"{old_length} ==> {len(df)}\")\n",
    "old_length = len(df)\n",
    "\n",
    "df.describe().T"
   ]
  },
  {
   "cell_type": "code",
   "execution_count": null,
   "metadata": {
    "collapsed": false,
    "execution": {
     "iopub.status.busy": "2022-11-17T00:36:06.780290Z",
     "iopub.status.idle": "2022-11-17T00:36:06.784053Z",
     "shell.execute_reply": "2022-11-17T00:36:06.783921Z",
     "shell.execute_reply.started": "2022-11-17T00:36:06.783906Z"
    },
    "jupyter": {
     "outputs_hidden": false
    },
    "pycharm": {
     "is_executing": true
    }
   },
   "outputs": [],
   "source": [
    "df.hist(bins=50, figsize=(20, 20))\n",
    "plt.show()"
   ]
  },
  {
   "cell_type": "code",
   "execution_count": null,
   "metadata": {
    "collapsed": false,
    "execution": {
     "iopub.status.busy": "2022-11-17T00:36:06.784599Z",
     "iopub.status.idle": "2022-11-17T00:36:06.784960Z",
     "shell.execute_reply": "2022-11-17T00:36:06.784859Z",
     "shell.execute_reply.started": "2022-11-17T00:36:06.784846Z"
    },
    "jupyter": {
     "outputs_hidden": false
    },
    "pycharm": {
     "is_executing": true
    }
   },
   "outputs": [],
   "source": [
    "#sns.pairplot(df, diag_kind='kde')"
   ]
  },
  {
   "cell_type": "code",
   "execution_count": null,
   "metadata": {
    "collapsed": false,
    "execution": {
     "iopub.status.busy": "2022-11-17T00:36:06.785509Z",
     "iopub.status.idle": "2022-11-17T00:36:06.785866Z",
     "shell.execute_reply": "2022-11-17T00:36:06.785760Z",
     "shell.execute_reply.started": "2022-11-17T00:36:06.785747Z"
    },
    "jupyter": {
     "outputs_hidden": false
    },
    "pycharm": {
     "is_executing": true
    }
   },
   "outputs": [],
   "source": [
    "#df.isna().any()\n",
    "df.isna().sum()"
   ]
  },
  {
   "cell_type": "code",
   "execution_count": null,
   "metadata": {
    "collapsed": false,
    "execution": {
     "iopub.status.busy": "2022-11-17T00:36:06.786372Z",
     "iopub.status.idle": "2022-11-17T00:36:06.786739Z",
     "shell.execute_reply": "2022-11-17T00:36:06.786638Z",
     "shell.execute_reply.started": "2022-11-17T00:36:06.786625Z"
    },
    "jupyter": {
     "outputs_hidden": false
    },
    "pycharm": {
     "is_executing": true
    }
   },
   "outputs": [],
   "source": [
    "df = df.dropna()\n",
    "print(f\"{old_length} ==> {len(df)}\")\n",
    "old_length = len(df)\n",
    "df.describe()"
   ]
  },
  {
   "cell_type": "code",
   "execution_count": null,
   "metadata": {
    "collapsed": false,
    "execution": {
     "iopub.status.busy": "2022-11-17T00:36:06.787227Z",
     "iopub.status.idle": "2022-11-17T00:36:06.787550Z",
     "shell.execute_reply": "2022-11-17T00:36:06.787453Z",
     "shell.execute_reply.started": "2022-11-17T00:36:06.787441Z"
    },
    "jupyter": {
     "outputs_hidden": false
    },
    "pycharm": {
     "is_executing": true
    }
   },
   "outputs": [],
   "source": [
    "df_features = df.drop(LABEL, axis=1)\n",
    "df_features"
   ]
  },
  {
   "cell_type": "code",
   "execution_count": null,
   "metadata": {
    "collapsed": false,
    "execution": {
     "iopub.status.busy": "2022-11-17T00:36:06.788036Z",
     "iopub.status.idle": "2022-11-17T00:36:06.788361Z",
     "shell.execute_reply": "2022-11-17T00:36:06.788264Z",
     "shell.execute_reply.started": "2022-11-17T00:36:06.788252Z"
    },
    "jupyter": {
     "outputs_hidden": false
    },
    "pycharm": {
     "is_executing": true
    }
   },
   "outputs": [],
   "source": [
    "use_one_hot_encoding_not_dummies = False\n",
    "\n",
    "if use_one_hot_encoding_not_dummies:\n",
    "    raise NotImplementedError('not implemented one hot encoding yet')\n",
    "\n",
    "    #from sklearn.preprocessing import OneHotEncoder\n",
    "    #tenure_encoder = OneHotEncoder()\n",
    "    #df_tenure_type = tenure_encoder.fit_transform(df_features[['tenure.tenureType']])\n",
    "else:\n",
    "    for column in categories:\n",
    "        df_features = pd.concat([df_features, pd.get_dummies(df_features[column], prefix=column, drop_first=True)],\n",
    "                                axis=1)\n",
    "        df_features.drop([column], axis=1, inplace=True)  # now drop the original column (you don't need it anymore),\n",
    "\n",
    "features_corr = df_features.corr()\n",
    "features_corr"
   ]
  },
  {
   "cell_type": "code",
   "execution_count": null,
   "metadata": {
    "collapsed": false,
    "execution": {
     "iopub.status.busy": "2022-11-17T00:36:06.788866Z",
     "iopub.status.idle": "2022-11-17T00:36:06.789195Z",
     "shell.execute_reply": "2022-11-17T00:36:06.789098Z",
     "shell.execute_reply.started": "2022-11-17T00:36:06.789086Z"
    },
    "jupyter": {
     "outputs_hidden": false
    },
    "pycharm": {
     "is_executing": true
    }
   },
   "outputs": [],
   "source": [
    "sns.set(font_scale=5)\n",
    "#plt.figure(figsize=(50, 35))\n",
    "plt.figure(figsize=(80, 80))\n",
    "ax = sns.heatmap(features_corr, annot=True, fmt='.1f', cmap='coolwarm')"
   ]
  },
  {
   "cell_type": "code",
   "execution_count": null,
   "metadata": {
    "collapsed": false,
    "execution": {
     "iopub.status.busy": "2022-11-17T00:36:06.789674Z",
     "iopub.status.idle": "2022-11-17T00:36:06.789997Z",
     "shell.execute_reply": "2022-11-17T00:36:06.789900Z",
     "shell.execute_reply.started": "2022-11-17T00:36:06.789888Z"
    },
    "jupyter": {
     "outputs_hidden": false
    }
   },
   "outputs": [],
   "source": [
    "data_corr = df.corr()\n",
    "data_corr_dict = data_corr[\"Price\"].sort_values(ascending=False).to_dict()\n",
    "data_corr_dict"
   ]
  },
  {
   "cell_type": "code",
   "execution_count": null,
   "metadata": {
    "collapsed": false,
    "execution": {
     "iopub.status.busy": "2022-11-17T00:36:06.794844Z",
     "iopub.status.idle": "2022-11-17T00:36:06.799079Z",
     "shell.execute_reply": "2022-11-17T00:36:06.798944Z",
     "shell.execute_reply.started": "2022-11-17T00:36:06.798925Z"
    },
    "jupyter": {
     "outputs_hidden": false
    }
   },
   "outputs": [],
   "source": [
    "#print the most positively correlated features\n",
    "pos_corr = {k: v for k, v in data_corr_dict.items() if v > 0.1 and v != 1}\n",
    "pos_corr"
   ]
  },
  {
   "cell_type": "code",
   "execution_count": null,
   "metadata": {
    "collapsed": false,
    "execution": {
     "iopub.status.busy": "2022-11-17T00:36:06.799610Z",
     "iopub.status.idle": "2022-11-17T00:36:06.800527Z",
     "shell.execute_reply": "2022-11-17T00:36:06.800363Z",
     "shell.execute_reply.started": "2022-11-17T00:36:06.800348Z"
    },
    "jupyter": {
     "outputs_hidden": false
    }
   },
   "outputs": [],
   "source": [
    "#print the most negatively correlated features\n",
    "neg_corr = {k: v for k, v in data_corr_dict.items() if v < -0.1}\n",
    "neg_corr"
   ]
  },
  {
   "cell_type": "code",
   "execution_count": null,
   "metadata": {
    "collapsed": false,
    "execution": {
     "iopub.status.busy": "2022-11-17T00:36:06.801082Z",
     "iopub.status.idle": "2022-11-17T00:36:06.801414Z",
     "shell.execute_reply": "2022-11-17T00:36:06.801316Z",
     "shell.execute_reply.started": "2022-11-17T00:36:06.801304Z"
    },
    "jupyter": {
     "outputs_hidden": false
    }
   },
   "outputs": [],
   "source": [
    "plt.figure(figsize=(12, 12))\n",
    "sns.set(font_scale=1.5)\n",
    "sns.scatterplot(x='bedrooms', y='Price', data=df, hue='tenure.tenureType')\n",
    "plt.xticks(weight='bold', rotation=90)\n",
    "plt.show()"
   ]
  },
  {
   "cell_type": "code",
   "execution_count": null,
   "metadata": {
    "collapsed": false,
    "execution": {
     "iopub.status.busy": "2022-11-17T00:36:06.801968Z",
     "iopub.status.idle": "2022-11-17T00:36:06.802299Z",
     "shell.execute_reply": "2022-11-17T00:36:06.802201Z",
     "shell.execute_reply.started": "2022-11-17T00:36:06.802189Z"
    },
    "jupyter": {
     "outputs_hidden": false
    }
   },
   "outputs": [],
   "source": [
    "plt.figure(figsize=(12, 12))\n",
    "sns.set(font_scale=1.5)\n",
    "sns.scatterplot(x='latitude_deviation', y='Price', data=df, hue='tenure.tenureType')\n",
    "plt.xticks(weight='bold', rotation=90)\n",
    "plt.show()"
   ]
  },
  {
   "cell_type": "code",
   "execution_count": null,
   "metadata": {
    "collapsed": false,
    "execution": {
     "iopub.status.busy": "2022-11-17T00:36:06.803047Z",
     "iopub.status.idle": "2022-11-17T00:36:06.803415Z",
     "shell.execute_reply": "2022-11-17T00:36:06.803313Z",
     "shell.execute_reply.started": "2022-11-17T00:36:06.803300Z"
    },
    "jupyter": {
     "outputs_hidden": false
    }
   },
   "outputs": [],
   "source": [
    "plt.figure(figsize=(12, 12))\n",
    "sns.set(font_scale=1.5)\n",
    "sns.scatterplot(x='longitude_deviation', y='Price', data=df, hue='tenure.tenureType')\n",
    "plt.xticks(weight='bold', rotation=90)\n",
    "plt.show()"
   ]
  },
  {
   "cell_type": "code",
   "execution_count": null,
   "metadata": {
    "collapsed": false,
    "execution": {
     "iopub.status.busy": "2022-11-17T00:36:06.807125Z",
     "iopub.status.idle": "2022-11-17T00:36:06.807468Z",
     "shell.execute_reply": "2022-11-17T00:36:06.807368Z",
     "shell.execute_reply.started": "2022-11-17T00:36:06.807356Z"
    },
    "jupyter": {
     "outputs_hidden": false
    }
   },
   "outputs": [],
   "source": [
    "plt.figure(figsize=(12, 12))\n",
    "sns.set(font_scale=1.5)\n",
    "sns.scatterplot(x='latitude_deviation', y='longitude_deviation', data=df, hue='tenure.tenureType')\n",
    "plt.xticks(weight='bold', rotation=90)\n",
    "plt.show()"
   ]
  },
  {
   "cell_type": "markdown",
   "metadata": {},
   "source": [
    "<div id = 3 style=\"color:white;\n",
    "           display:fill;\n",
    "           border-radius:5px;\n",
    "           background-color:#b08888;\n",
    "           font-size:100%;\n",
    "           font-family:Verdana;\n",
    "           letter-spacing:0.5px;\n",
    "           display:flex;\n",
    "            justify-content:center;\">\n",
    "\n",
    "<h2 style=\"padding: 2rem;\n",
    "              color:white;\n",
    "          text-align:center;\n",
    "          margin:0 auto;\n",
    "          \">\n",
    "    Exploration for imputation\n",
    "\n",
    "\n",
    "</h2>\n",
    "</div>"
   ]
  },
  {
   "cell_type": "code",
   "execution_count": null,
   "metadata": {
    "collapsed": false,
    "jupyter": {
     "outputs_hidden": false
    }
   },
   "outputs": [],
   "source": []
  },
  {
   "cell_type": "code",
   "execution_count": null,
   "metadata": {
    "collapsed": false,
    "execution": {
     "iopub.status.busy": "2022-11-17T00:36:06.807955Z",
     "iopub.status.idle": "2022-11-17T00:36:06.808283Z",
     "shell.execute_reply": "2022-11-17T00:36:06.808185Z",
     "shell.execute_reply.started": "2022-11-17T00:36:06.808173Z"
    },
    "jupyter": {
     "outputs_hidden": false
    }
   },
   "outputs": [],
   "source": [
    "df['central_distance'] = (df['latitude_deviation'] ** 2 + df['longitude_deviation'] ** 2) ** 0.5\n",
    "df"
   ]
  },
  {
   "cell_type": "code",
   "execution_count": null,
   "metadata": {
    "collapsed": false,
    "execution": {
     "iopub.status.busy": "2022-11-17T00:36:06.808977Z",
     "iopub.status.idle": "2022-11-17T00:36:06.810827Z",
     "shell.execute_reply": "2022-11-17T00:36:06.810676Z",
     "shell.execute_reply.started": "2022-11-17T00:36:06.810660Z"
    },
    "jupyter": {
     "outputs_hidden": false
    }
   },
   "outputs": [],
   "source": [
    "\n",
    "plt.figure(figsize=(12, 12))\n",
    "sns.set(font_scale=1.5)\n",
    "sns.scatterplot(x='bedrooms', y='central_distance', data=df, hue='tenure.tenureType')\n",
    "plt.xticks(weight='bold', rotation=90)\n",
    "plt.show()"
   ]
  },
  {
   "cell_type": "code",
   "execution_count": null,
   "metadata": {
    "collapsed": false,
    "execution": {
     "iopub.status.busy": "2022-11-17T00:36:06.811485Z",
     "iopub.status.idle": "2022-11-17T00:36:06.812043Z",
     "shell.execute_reply": "2022-11-17T00:36:06.811904Z",
     "shell.execute_reply.started": "2022-11-17T00:36:06.811890Z"
    },
    "jupyter": {
     "outputs_hidden": false
    }
   },
   "outputs": [],
   "source": [
    "#df.groupby(['tenure.tenureType','bedrooms']).agg({'bedrooms':['mean','min','max']})\n",
    "df.groupby(['tenure.tenureType', 'bedrooms']).agg('count')"
   ]
  },
  {
   "cell_type": "code",
   "execution_count": null,
   "metadata": {
    "collapsed": false,
    "jupyter": {
     "outputs_hidden": false
    }
   },
   "outputs": [],
   "source": []
  }
 ],
 "metadata": {
  "kernelspec": {
   "display_name": "Python 3 (ipykernel)",
   "language": "python",
   "name": "python3"
  },
  "language_info": {
   "codemirror_mode": {
    "name": "ipython",
    "version": 3
   },
   "file_extension": ".py",
   "mimetype": "text/x-python",
   "name": "python",
   "nbconvert_exporter": "python",
   "pygments_lexer": "ipython3",
   "version": "3.9.13"
  }
 },
 "nbformat": 4,
 "nbformat_minor": 4
}
