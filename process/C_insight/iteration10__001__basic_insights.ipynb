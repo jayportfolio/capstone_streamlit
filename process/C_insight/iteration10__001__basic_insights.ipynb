{
 "cells": [
  {
   "cell_type": "markdown",
   "metadata": {},
   "source": [
    "<div id = 3 style=\"color:white;\n",
    "           display:fill;\n",
    "           border-radius:20px;\n",
    "           background-color:#b02222;\n",
    "           font-size:100%;\n",
    "           font-family:Verdana;\n",
    "           letter-spacing:0.5px;\n",
    "           display:flex;\n",
    "            justify-content:center;\">\n",
    "\n",
    "<h2 style=\"padding: 6rem;\n",
    "              color:white;\n",
    "          text-align:center;\n",
    "          margin:10 auto;\n",
    "          \">\n",
    "    ITERATION 10: Identify, Isolate and Utilize more popular Key Features\n",
    "\n",
    "\n",
    "</h2>\n",
    "</div>"
   ]
  },
  {
   "cell_type": "code",
   "execution_count": 11,
   "metadata": {
    "execution": {
     "iopub.execute_input": "2022-11-17T00:34:44.080443Z",
     "iopub.status.busy": "2022-11-17T00:34:44.079546Z",
     "iopub.status.idle": "2022-11-17T00:34:48.679022Z",
     "shell.execute_reply": "2022-11-17T00:34:48.678154Z",
     "shell.execute_reply.started": "2022-11-17T00:34:44.080397Z"
    }
   },
   "outputs": [
    {
     "name": "stdout",
     "output_type": "stream",
     "text": [
      "{'notebook_environment': 'gradient', 'use_gpu': True, 'debug_mode': False, 'quick_mode': False, 'quick_override_cv_splits': 2, 'quick_override_n_iter': 10, 'quick_override_n_jobs': 3}\n",
      "Requirement already satisfied: missingno in /usr/local/lib/python3.9/dist-packages (0.5.1)\n",
      "Requirement already satisfied: numpy in /usr/local/lib/python3.9/dist-packages (from missingno) (1.23.1)\n",
      "Requirement already satisfied: seaborn in /usr/local/lib/python3.9/dist-packages (from missingno) (0.11.2)\n",
      "Requirement already satisfied: matplotlib in /usr/local/lib/python3.9/dist-packages (from missingno) (3.5.2)\n",
      "Requirement already satisfied: scipy in /usr/local/lib/python3.9/dist-packages (from missingno) (1.8.1)\n",
      "Requirement already satisfied: fonttools>=4.22.0 in /usr/local/lib/python3.9/dist-packages (from matplotlib->missingno) (4.34.4)\n",
      "Requirement already satisfied: cycler>=0.10 in /usr/local/lib/python3.9/dist-packages (from matplotlib->missingno) (0.11.0)\n",
      "Requirement already satisfied: kiwisolver>=1.0.1 in /usr/local/lib/python3.9/dist-packages (from matplotlib->missingno) (1.4.3)\n",
      "Requirement already satisfied: pillow>=6.2.0 in /usr/local/lib/python3.9/dist-packages (from matplotlib->missingno) (9.2.0)\n",
      "Requirement already satisfied: packaging>=20.0 in /usr/local/lib/python3.9/dist-packages (from matplotlib->missingno) (21.3)\n",
      "Requirement already satisfied: pyparsing>=2.2.1 in /usr/local/lib/python3.9/dist-packages (from matplotlib->missingno) (3.0.9)\n",
      "Requirement already satisfied: python-dateutil>=2.7 in /usr/local/lib/python3.9/dist-packages (from matplotlib->missingno) (2.8.2)\n",
      "Requirement already satisfied: pandas>=0.23 in /usr/local/lib/python3.9/dist-packages (from seaborn->missingno) (1.4.3)\n",
      "Requirement already satisfied: pytz>=2020.1 in /usr/local/lib/python3.9/dist-packages (from pandas>=0.23->seaborn->missingno) (2022.1)\n",
      "Requirement already satisfied: six>=1.5 in /usr/lib/python3/dist-packages (from python-dateutil>=2.7->matplotlib->missingno) (1.14.0)\n",
      "\u001b[33mWARNING: Running pip as the 'root' user can result in broken permissions and conflicting behaviour with the system package manager. It is recommended to use a virtual environment instead: https://pip.pypa.io/warnings/venv\u001b[0m\u001b[33m\n",
      "\u001b[0mNote: you may need to restart the kernel to use updated packages.\n"
     ]
    }
   ],
   "source": [
    "import json\n",
    "\n",
    "with open('../z_envs/_envs.json') as f:\n",
    "    env_vars = json.loads(f.read())\n",
    "print(env_vars)\n",
    "\n",
    "run_env = env_vars['notebook_environment']\n",
    "\n",
    "if run_env not in ['colab', 'gradient', 'cloud']:\n",
    "    cloud_run = False\n",
    "else:\n",
    "    cloud_run = True\n",
    "    import sys\n",
    "    import os\n",
    "\n",
    "    module_path = os.path.abspath(os.path.join('..', '..'))\n",
    "    if module_path not in sys.path:\n",
    "        sys.path.append(module_path)\n",
    "        \n",
    "    %pip install missingno\n",
    "\n",
    "from functions_0__common_20221116 import get_columns\n",
    "from functions_b__get_the_data_20221116 import set_csv_directory, get_combined_dataset\n",
    "from functions_d1__prepare_cleanse_data_20221116 import add_supplements, tidy_dataset\n",
    "from functions_d2__transform_enrich_data_20221116 import feature_engineer"
   ]
  },
  {
   "cell_type": "code",
   "execution_count": 12,
   "metadata": {
    "execution": {
     "iopub.execute_input": "2022-11-17T00:34:48.680947Z",
     "iopub.status.busy": "2022-11-17T00:34:48.680685Z",
     "iopub.status.idle": "2022-11-17T00:34:48.685820Z",
     "shell.execute_reply": "2022-11-17T00:34:48.685111Z",
     "shell.execute_reply.started": "2022-11-17T00:34:48.680922Z"
    }
   },
   "outputs": [],
   "source": [
    "import pandas as pd\n",
    "import seaborn as sns\n",
    "import matplotlib.pyplot as plt\n",
    "from termcolor import colored\n",
    "import missingno as msno\n",
    "\n",
    "import warnings"
   ]
  },
  {
   "cell_type": "code",
   "execution_count": 13,
   "metadata": {
    "collapsed": false,
    "execution": {
     "iopub.execute_input": "2022-11-17T00:34:48.686989Z",
     "iopub.status.busy": "2022-11-17T00:34:48.686792Z",
     "iopub.status.idle": "2022-11-17T00:34:48.690257Z",
     "shell.execute_reply": "2022-11-17T00:34:48.689539Z",
     "shell.execute_reply.started": "2022-11-17T00:34:48.686971Z"
    },
    "jupyter": {
     "outputs_hidden": false
    }
   },
   "outputs": [],
   "source": [
    "VERSION = '10'\n",
    "\n",
    "warnings.filterwarnings(\"ignore\")"
   ]
  },
  {
   "cell_type": "code",
   "execution_count": 14,
   "metadata": {
    "collapsed": false,
    "execution": {
     "iopub.execute_input": "2022-11-17T00:34:48.691960Z",
     "iopub.status.busy": "2022-11-17T00:34:48.691740Z",
     "iopub.status.idle": "2022-11-17T00:34:48.696699Z",
     "shell.execute_reply": "2022-11-17T00:34:48.695994Z",
     "shell.execute_reply.started": "2022-11-17T00:34:48.691941Z"
    },
    "jupyter": {
     "outputs_hidden": false
    }
   },
   "outputs": [
    {
     "name": "stdout",
     "output_type": "stream",
     "text": [
      "\u001b[34mfeatures\u001b[0m ->  ['bedrooms', 'bathrooms', 'nearestStation', 'location.latitude', 'location.longitude', 'latitude_deviation', 'longitude_deviation', 'tenure.tenureType']\n",
      "\u001b[34m+ \u001b[0m ->  ['feature__']\n",
      "\u001b[32mlabel\u001b[0m ->  Price\n"
     ]
    }
   ],
   "source": [
    "LABEL = 'Price'\n",
    "\n",
    "columns, booleans, floats, categories, custom, wildcard = get_columns(version=VERSION)\n",
    "\n",
    "print(colored(f\"features\", \"blue\"), \"-> \", columns)\n",
    "print(colored(f\"+ \", \"blue\"), \"-> \", wildcard)\n",
    "\n",
    "columns.insert(0, LABEL)\n",
    "original_columns = columns\n",
    "print(colored(f\"label\", \"green\"), \"-> \", LABEL)"
   ]
  },
  {
   "cell_type": "code",
   "execution_count": 21,
   "metadata": {
    "collapsed": false,
    "execution": {
     "iopub.execute_input": "2022-11-17T00:40:21.843768Z",
     "iopub.status.busy": "2022-11-17T00:40:21.843018Z",
     "iopub.status.idle": "2022-11-17T00:40:22.276340Z",
     "shell.execute_reply": "2022-11-17T00:40:22.275414Z",
     "shell.execute_reply.started": "2022-11-17T00:40:21.843741Z"
    },
    "jupyter": {
     "outputs_hidden": false
    }
   },
   "outputs": [
    {
     "name": "stdout",
     "output_type": "stream",
     "text": [
      "https://raw.githubusercontent.com/jayportfolio/capstone_streamlit/main/data/final/df_listings_v10.csv\n"
     ]
    },
    {
     "ename": "KeyError",
     "evalue": "'sharedOwnership.sharedOwnership'",
     "output_type": "error",
     "traceback": [
      "\u001b[0;31m---------------------------------------------------------------------------\u001b[0m",
      "\u001b[0;31mKeyError\u001b[0m                                  Traceback (most recent call last)",
      "File \u001b[0;32m/usr/local/lib/python3.9/dist-packages/pandas/core/indexes/base.py:3621\u001b[0m, in \u001b[0;36mIndex.get_loc\u001b[0;34m(self, key, method, tolerance)\u001b[0m\n\u001b[1;32m   3620\u001b[0m \u001b[38;5;28;01mtry\u001b[39;00m:\n\u001b[0;32m-> 3621\u001b[0m     \u001b[38;5;28;01mreturn\u001b[39;00m \u001b[38;5;28;43mself\u001b[39;49m\u001b[38;5;241;43m.\u001b[39;49m\u001b[43m_engine\u001b[49m\u001b[38;5;241;43m.\u001b[39;49m\u001b[43mget_loc\u001b[49m\u001b[43m(\u001b[49m\u001b[43mcasted_key\u001b[49m\u001b[43m)\u001b[49m\n\u001b[1;32m   3622\u001b[0m \u001b[38;5;28;01mexcept\u001b[39;00m \u001b[38;5;167;01mKeyError\u001b[39;00m \u001b[38;5;28;01mas\u001b[39;00m err:\n",
      "File \u001b[0;32m/usr/local/lib/python3.9/dist-packages/pandas/_libs/index.pyx:136\u001b[0m, in \u001b[0;36mpandas._libs.index.IndexEngine.get_loc\u001b[0;34m()\u001b[0m\n",
      "File \u001b[0;32m/usr/local/lib/python3.9/dist-packages/pandas/_libs/index.pyx:163\u001b[0m, in \u001b[0;36mpandas._libs.index.IndexEngine.get_loc\u001b[0;34m()\u001b[0m\n",
      "File \u001b[0;32mpandas/_libs/hashtable_class_helper.pxi:5198\u001b[0m, in \u001b[0;36mpandas._libs.hashtable.PyObjectHashTable.get_item\u001b[0;34m()\u001b[0m\n",
      "File \u001b[0;32mpandas/_libs/hashtable_class_helper.pxi:5206\u001b[0m, in \u001b[0;36mpandas._libs.hashtable.PyObjectHashTable.get_item\u001b[0;34m()\u001b[0m\n",
      "\u001b[0;31mKeyError\u001b[0m: 'sharedOwnership.sharedOwnership'",
      "\nThe above exception was the direct cause of the following exception:\n",
      "\u001b[0;31mKeyError\u001b[0m                                  Traceback (most recent call last)",
      "Input \u001b[0;32mIn [21]\u001b[0m, in \u001b[0;36m<cell line: 13>\u001b[0;34m()\u001b[0m\n\u001b[1;32m     10\u001b[0m \u001b[38;5;28mprint\u001b[39m(df_pathname)\n\u001b[1;32m     11\u001b[0m df_orig \u001b[38;5;241m=\u001b[39m pd\u001b[38;5;241m.\u001b[39mread_csv(df_pathname, on_bad_lines\u001b[38;5;241m=\u001b[39m\u001b[38;5;124m'\u001b[39m\u001b[38;5;124merror\u001b[39m\u001b[38;5;124m'\u001b[39m, index_col\u001b[38;5;241m=\u001b[39m\u001b[38;5;241m0\u001b[39m)\n\u001b[0;32m---> 13\u001b[0m \u001b[43mdf_orig\u001b[49m\u001b[43m[\u001b[49m\u001b[38;5;124;43m'\u001b[39;49m\u001b[38;5;124;43msharedOwnership.sharedOwnership\u001b[39;49m\u001b[38;5;124;43m'\u001b[39;49m\u001b[43m]\u001b[49m\u001b[38;5;241m.\u001b[39mhead()\n",
      "File \u001b[0;32m/usr/local/lib/python3.9/dist-packages/pandas/core/frame.py:3505\u001b[0m, in \u001b[0;36mDataFrame.__getitem__\u001b[0;34m(self, key)\u001b[0m\n\u001b[1;32m   3503\u001b[0m \u001b[38;5;28;01mif\u001b[39;00m \u001b[38;5;28mself\u001b[39m\u001b[38;5;241m.\u001b[39mcolumns\u001b[38;5;241m.\u001b[39mnlevels \u001b[38;5;241m>\u001b[39m \u001b[38;5;241m1\u001b[39m:\n\u001b[1;32m   3504\u001b[0m     \u001b[38;5;28;01mreturn\u001b[39;00m \u001b[38;5;28mself\u001b[39m\u001b[38;5;241m.\u001b[39m_getitem_multilevel(key)\n\u001b[0;32m-> 3505\u001b[0m indexer \u001b[38;5;241m=\u001b[39m \u001b[38;5;28;43mself\u001b[39;49m\u001b[38;5;241;43m.\u001b[39;49m\u001b[43mcolumns\u001b[49m\u001b[38;5;241;43m.\u001b[39;49m\u001b[43mget_loc\u001b[49m\u001b[43m(\u001b[49m\u001b[43mkey\u001b[49m\u001b[43m)\u001b[49m\n\u001b[1;32m   3506\u001b[0m \u001b[38;5;28;01mif\u001b[39;00m is_integer(indexer):\n\u001b[1;32m   3507\u001b[0m     indexer \u001b[38;5;241m=\u001b[39m [indexer]\n",
      "File \u001b[0;32m/usr/local/lib/python3.9/dist-packages/pandas/core/indexes/base.py:3623\u001b[0m, in \u001b[0;36mIndex.get_loc\u001b[0;34m(self, key, method, tolerance)\u001b[0m\n\u001b[1;32m   3621\u001b[0m     \u001b[38;5;28;01mreturn\u001b[39;00m \u001b[38;5;28mself\u001b[39m\u001b[38;5;241m.\u001b[39m_engine\u001b[38;5;241m.\u001b[39mget_loc(casted_key)\n\u001b[1;32m   3622\u001b[0m \u001b[38;5;28;01mexcept\u001b[39;00m \u001b[38;5;167;01mKeyError\u001b[39;00m \u001b[38;5;28;01mas\u001b[39;00m err:\n\u001b[0;32m-> 3623\u001b[0m     \u001b[38;5;28;01mraise\u001b[39;00m \u001b[38;5;167;01mKeyError\u001b[39;00m(key) \u001b[38;5;28;01mfrom\u001b[39;00m \u001b[38;5;21;01merr\u001b[39;00m\n\u001b[1;32m   3624\u001b[0m \u001b[38;5;28;01mexcept\u001b[39;00m \u001b[38;5;167;01mTypeError\u001b[39;00m:\n\u001b[1;32m   3625\u001b[0m     \u001b[38;5;66;03m# If we have a listlike key, _check_indexing_error will raise\u001b[39;00m\n\u001b[1;32m   3626\u001b[0m     \u001b[38;5;66;03m#  InvalidIndexError. Otherwise we fall through and re-raise\u001b[39;00m\n\u001b[1;32m   3627\u001b[0m     \u001b[38;5;66;03m#  the TypeError.\u001b[39;00m\n\u001b[1;32m   3628\u001b[0m     \u001b[38;5;28mself\u001b[39m\u001b[38;5;241m.\u001b[39m_check_indexing_error(key)\n",
      "\u001b[0;31mKeyError\u001b[0m: 'sharedOwnership.sharedOwnership'"
     ]
    }
   ],
   "source": [
    "IN_COLAB = False\n",
    "\n",
    "filename = f'df_listings_v{VERSION}.csv'\n",
    "remote_pathname = f'https://raw.githubusercontent.com/jayportfolio/capstone_streamlit/main/data/final/{filename}'\n",
    "\n",
    "df_pathname_raw = f'../../data/source/{filename}'\n",
    "#df_pathname_tidy = f'../../data/final/{filename}'\n",
    "\n",
    "df_pathname = df_pathname_raw if not cloud_run else remote_pathname\n",
    "print(df_pathname)\n",
    "df_orig = pd.read_csv(df_pathname, on_bad_lines='error', index_col=0)\n",
    "\n",
    "df_orig['sharedOwnership.sharedOwnership'].head()"
   ]
  },
  {
   "cell_type": "code",
   "execution_count": 18,
   "metadata": {
    "collapsed": false,
    "execution": {
     "iopub.execute_input": "2022-11-17T00:36:03.772497Z",
     "iopub.status.busy": "2022-11-17T00:36:03.772285Z",
     "iopub.status.idle": "2022-11-17T00:36:06.677957Z",
     "shell.execute_reply": "2022-11-17T00:36:06.674824Z",
     "shell.execute_reply.started": "2022-11-17T00:36:03.772477Z"
    },
    "jupyter": {
     "outputs_hidden": false
    }
   },
   "outputs": [
    {
     "ename": "KeyError",
     "evalue": "'sharedOwnership.sharedOwnership'",
     "output_type": "error",
     "traceback": [
      "\u001b[0;31m---------------------------------------------------------------------------\u001b[0m",
      "\u001b[0;31mKeyError\u001b[0m                                  Traceback (most recent call last)",
      "File \u001b[0;32m/usr/local/lib/python3.9/dist-packages/pandas/core/indexes/base.py:3621\u001b[0m, in \u001b[0;36mIndex.get_loc\u001b[0;34m(self, key, method, tolerance)\u001b[0m\n\u001b[1;32m   3620\u001b[0m \u001b[38;5;28;01mtry\u001b[39;00m:\n\u001b[0;32m-> 3621\u001b[0m     \u001b[38;5;28;01mreturn\u001b[39;00m \u001b[38;5;28;43mself\u001b[39;49m\u001b[38;5;241;43m.\u001b[39;49m\u001b[43m_engine\u001b[49m\u001b[38;5;241;43m.\u001b[39;49m\u001b[43mget_loc\u001b[49m\u001b[43m(\u001b[49m\u001b[43mcasted_key\u001b[49m\u001b[43m)\u001b[49m\n\u001b[1;32m   3622\u001b[0m \u001b[38;5;28;01mexcept\u001b[39;00m \u001b[38;5;167;01mKeyError\u001b[39;00m \u001b[38;5;28;01mas\u001b[39;00m err:\n",
      "File \u001b[0;32m/usr/local/lib/python3.9/dist-packages/pandas/_libs/index.pyx:136\u001b[0m, in \u001b[0;36mpandas._libs.index.IndexEngine.get_loc\u001b[0;34m()\u001b[0m\n",
      "File \u001b[0;32m/usr/local/lib/python3.9/dist-packages/pandas/_libs/index.pyx:163\u001b[0m, in \u001b[0;36mpandas._libs.index.IndexEngine.get_loc\u001b[0;34m()\u001b[0m\n",
      "File \u001b[0;32mpandas/_libs/hashtable_class_helper.pxi:5198\u001b[0m, in \u001b[0;36mpandas._libs.hashtable.PyObjectHashTable.get_item\u001b[0;34m()\u001b[0m\n",
      "File \u001b[0;32mpandas/_libs/hashtable_class_helper.pxi:5206\u001b[0m, in \u001b[0;36mpandas._libs.hashtable.PyObjectHashTable.get_item\u001b[0;34m()\u001b[0m\n",
      "\u001b[0;31mKeyError\u001b[0m: 'sharedOwnership.sharedOwnership'",
      "\nThe above exception was the direct cause of the following exception:\n",
      "\u001b[0;31mKeyError\u001b[0m                                  Traceback (most recent call last)",
      "Input \u001b[0;32mIn [18]\u001b[0m, in \u001b[0;36m<cell line: 1>\u001b[0;34m()\u001b[0m\n\u001b[0;32m----> 1\u001b[0m df_prep \u001b[38;5;241m=\u001b[39m \u001b[43madd_supplements\u001b[49m\u001b[43m(\u001b[49m\u001b[43mdf_orig\u001b[49m\u001b[43m,\u001b[49m\u001b[43m \u001b[49m\u001b[43mversion\u001b[49m\u001b[38;5;241;43m=\u001b[39;49m\u001b[43mVERSION\u001b[49m\u001b[43m)\u001b[49m\n\u001b[1;32m      2\u001b[0m df_prep \u001b[38;5;241m=\u001b[39m feature_engineer(df_prep, version\u001b[38;5;241m=\u001b[39mVERSION)\n",
      "File \u001b[0;32m/notebooks/functions_d1__prepare_cleanse_data_20221116.py:56\u001b[0m, in \u001b[0;36madd_supplements\u001b[0;34m(property_dataset, version)\u001b[0m\n\u001b[1;32m     52\u001b[0m property_dataset \u001b[38;5;241m=\u001b[39m property_dataset[(property_dataset[\u001b[38;5;124m'\u001b[39m\u001b[38;5;124mPrice\u001b[39m\u001b[38;5;124m'\u001b[39m] \u001b[38;5;241m>\u001b[39m\u001b[38;5;241m=\u001b[39m \u001b[38;5;241m100000\u001b[39m) \u001b[38;5;241m&\u001b[39m (property_dataset[\u001b[38;5;124m'\u001b[39m\u001b[38;5;124mPrice\u001b[39m\u001b[38;5;124m'\u001b[39m] \u001b[38;5;241m<\u001b[39m\u001b[38;5;241m=\u001b[39m \u001b[38;5;241m600000\u001b[39m)]\n\u001b[1;32m     54\u001b[0m \u001b[38;5;28;01mif\u001b[39;00m version_number \u001b[38;5;241m>\u001b[39m \u001b[38;5;241m3\u001b[39m:\n\u001b[1;32m     55\u001b[0m     property_dataset[\u001b[38;5;124m'\u001b[39m\u001b[38;5;124msharedOwnership\u001b[39m\u001b[38;5;124m'\u001b[39m] \u001b[38;5;241m=\u001b[39m (\n\u001b[0;32m---> 56\u001b[0m             (\u001b[43mproperty_dataset\u001b[49m\u001b[43m[\u001b[49m\u001b[38;5;124;43m'\u001b[39;49m\u001b[38;5;124;43msharedOwnership.sharedOwnership\u001b[39;49m\u001b[38;5;124;43m'\u001b[39;49m\u001b[43m]\u001b[49m \u001b[38;5;241m==\u001b[39m \u001b[38;5;28;01mTrue\u001b[39;00m) \u001b[38;5;241m|\u001b[39m\n\u001b[1;32m     57\u001b[0m             (property_dataset[\u001b[38;5;124m'\u001b[39m\u001b[38;5;124manalyticsProperty.priceQualifier\u001b[39m\u001b[38;5;124m'\u001b[39m] \u001b[38;5;241m==\u001b[39m \u001b[38;5;124m'\u001b[39m\u001b[38;5;124mShared ownership\u001b[39m\u001b[38;5;124m'\u001b[39m) \u001b[38;5;241m|\u001b[39m\n\u001b[1;32m     58\u001b[0m             (property_dataset[\u001b[38;5;124m'\u001b[39m\u001b[38;5;124mkeyFeatures\u001b[39m\u001b[38;5;124m'\u001b[39m]\u001b[38;5;241m.\u001b[39mstr\u001b[38;5;241m.\u001b[39mcontains(\u001b[38;5;124m'\u001b[39m\u001b[38;5;124mshared ownership\u001b[39m\u001b[38;5;124m'\u001b[39m))\n\u001b[1;32m     59\u001b[0m     )\n\u001b[1;32m     61\u001b[0m     property_dataset[\u001b[38;5;124m'\u001b[39m\u001b[38;5;124msharedOwnership\u001b[39m\u001b[38;5;124m'\u001b[39m] \u001b[38;5;241m=\u001b[39m (property_dataset[\u001b[38;5;124m'\u001b[39m\u001b[38;5;124msharedOwnership\u001b[39m\u001b[38;5;124m'\u001b[39m])\n\u001b[1;32m     62\u001b[0m     property_dataset[\u001b[38;5;124m'\u001b[39m\u001b[38;5;124msharedOwnership\u001b[39m\u001b[38;5;124m'\u001b[39m] \u001b[38;5;241m=\u001b[39m (property_dataset[\u001b[38;5;124m'\u001b[39m\u001b[38;5;124msharedOwnership\u001b[39m\u001b[38;5;124m'\u001b[39m]) \u001b[38;5;241m|\u001b[39m (\n\u001b[1;32m     63\u001b[0m             property_dataset[\u001b[38;5;124m'\u001b[39m\u001b[38;5;124msharedOwnership.sharedOwnership\u001b[39m\u001b[38;5;124m'\u001b[39m] \u001b[38;5;241m==\u001b[39m \u001b[38;5;241m1\u001b[39m)\n",
      "File \u001b[0;32m/usr/local/lib/python3.9/dist-packages/pandas/core/frame.py:3505\u001b[0m, in \u001b[0;36mDataFrame.__getitem__\u001b[0;34m(self, key)\u001b[0m\n\u001b[1;32m   3503\u001b[0m \u001b[38;5;28;01mif\u001b[39;00m \u001b[38;5;28mself\u001b[39m\u001b[38;5;241m.\u001b[39mcolumns\u001b[38;5;241m.\u001b[39mnlevels \u001b[38;5;241m>\u001b[39m \u001b[38;5;241m1\u001b[39m:\n\u001b[1;32m   3504\u001b[0m     \u001b[38;5;28;01mreturn\u001b[39;00m \u001b[38;5;28mself\u001b[39m\u001b[38;5;241m.\u001b[39m_getitem_multilevel(key)\n\u001b[0;32m-> 3505\u001b[0m indexer \u001b[38;5;241m=\u001b[39m \u001b[38;5;28;43mself\u001b[39;49m\u001b[38;5;241;43m.\u001b[39;49m\u001b[43mcolumns\u001b[49m\u001b[38;5;241;43m.\u001b[39;49m\u001b[43mget_loc\u001b[49m\u001b[43m(\u001b[49m\u001b[43mkey\u001b[49m\u001b[43m)\u001b[49m\n\u001b[1;32m   3506\u001b[0m \u001b[38;5;28;01mif\u001b[39;00m is_integer(indexer):\n\u001b[1;32m   3507\u001b[0m     indexer \u001b[38;5;241m=\u001b[39m [indexer]\n",
      "File \u001b[0;32m/usr/local/lib/python3.9/dist-packages/pandas/core/indexes/base.py:3623\u001b[0m, in \u001b[0;36mIndex.get_loc\u001b[0;34m(self, key, method, tolerance)\u001b[0m\n\u001b[1;32m   3621\u001b[0m     \u001b[38;5;28;01mreturn\u001b[39;00m \u001b[38;5;28mself\u001b[39m\u001b[38;5;241m.\u001b[39m_engine\u001b[38;5;241m.\u001b[39mget_loc(casted_key)\n\u001b[1;32m   3622\u001b[0m \u001b[38;5;28;01mexcept\u001b[39;00m \u001b[38;5;167;01mKeyError\u001b[39;00m \u001b[38;5;28;01mas\u001b[39;00m err:\n\u001b[0;32m-> 3623\u001b[0m     \u001b[38;5;28;01mraise\u001b[39;00m \u001b[38;5;167;01mKeyError\u001b[39;00m(key) \u001b[38;5;28;01mfrom\u001b[39;00m \u001b[38;5;21;01merr\u001b[39;00m\n\u001b[1;32m   3624\u001b[0m \u001b[38;5;28;01mexcept\u001b[39;00m \u001b[38;5;167;01mTypeError\u001b[39;00m:\n\u001b[1;32m   3625\u001b[0m     \u001b[38;5;66;03m# If we have a listlike key, _check_indexing_error will raise\u001b[39;00m\n\u001b[1;32m   3626\u001b[0m     \u001b[38;5;66;03m#  InvalidIndexError. Otherwise we fall through and re-raise\u001b[39;00m\n\u001b[1;32m   3627\u001b[0m     \u001b[38;5;66;03m#  the TypeError.\u001b[39;00m\n\u001b[1;32m   3628\u001b[0m     \u001b[38;5;28mself\u001b[39m\u001b[38;5;241m.\u001b[39m_check_indexing_error(key)\n",
      "\u001b[0;31mKeyError\u001b[0m: 'sharedOwnership.sharedOwnership'"
     ]
    }
   ],
   "source": [
    "df_prep = add_supplements(df_orig, version=VERSION)\n",
    "df_prep = feature_engineer(df_prep, version=VERSION)"
   ]
  },
  {
   "cell_type": "code",
   "execution_count": null,
   "metadata": {
    "collapsed": false,
    "execution": {
     "iopub.status.busy": "2022-11-17T00:36:06.679077Z",
     "iopub.status.idle": "2022-11-17T00:36:06.679645Z",
     "shell.execute_reply": "2022-11-17T00:36:06.679520Z",
     "shell.execute_reply.started": "2022-11-17T00:36:06.679486Z"
    },
    "jupyter": {
     "outputs_hidden": false
    }
   },
   "outputs": [],
   "source": [
    "updated_columns = False\n",
    "columns = original_columns\n",
    "\n",
    "for each in df_prep.columns:\n",
    "    for prefix in wildcard:\n",
    "        if each.startswith(prefix):\n",
    "            columns.append(each)\n",
    "            updated_columns = True\n",
    "\n",
    "if updated_columns:\n",
    "    print(colored(f\"columns updated to:\", \"yellow\"), \"-> \", columns)\n",
    "df_prep"
   ]
  },
  {
   "cell_type": "code",
   "execution_count": null,
   "metadata": {
    "collapsed": false,
    "execution": {
     "iopub.status.busy": "2022-11-17T00:36:06.680222Z",
     "iopub.status.idle": "2022-11-17T00:36:06.681127Z",
     "shell.execute_reply": "2022-11-17T00:36:06.680975Z",
     "shell.execute_reply.started": "2022-11-17T00:36:06.680959Z"
    },
    "jupyter": {
     "outputs_hidden": false
    }
   },
   "outputs": [],
   "source": [
    "#print(df.keyFeatures.str.len().describe())\n",
    "#df.keyFeatures.str.lower().str.contains('garden')\n",
    "keyword = 'garden'\n",
    "print(df_prep.keyFeatures.str.lower().str.contains(keyword).sum())\n",
    "df_prep.keyFeatures.str.lower().str.contains(keyword)\n",
    "df_prep.keyFeatures.str.lower().str.index(\"]\")"
   ]
  },
  {
   "cell_type": "code",
   "execution_count": null,
   "metadata": {
    "collapsed": false,
    "execution": {
     "iopub.status.busy": "2022-11-17T00:36:06.681971Z",
     "iopub.status.idle": "2022-11-17T00:36:06.682864Z",
     "shell.execute_reply": "2022-11-17T00:36:06.682678Z",
     "shell.execute_reply.started": "2022-11-17T00:36:06.682663Z"
    },
    "jupyter": {
     "outputs_hidden": false
    }
   },
   "outputs": [],
   "source": [
    "dailmail = ['garden','central heating','parking','off road','shower','cavity wall insulation','wall insulation','insulation','insulat','dining room','garage','en-suite','en suite']\n",
    "common_knowledge = ['penthouse','balcony']\n",
    "ideal_home = ['double-glazing','double glazing','off-road parking','security','patio','underfloor heating','marble']\n",
    "discarded = ['signal','secure doors','secure door','outdoor lighting','bathtub','neighbours',]\n",
    "\n",
    "#keywords = ['']\n",
    "keywords = []\n",
    "keywords.extend(dailmail)\n",
    "keywords.extend(common_knowledge)\n",
    "keywords.extend(ideal_home)\n",
    "for keyword in keywords:\n",
    "    print(keyword, df_prep.keyFeatures.str.lower().str.contains(keyword).sum())"
   ]
  },
  {
   "cell_type": "code",
   "execution_count": null,
   "metadata": {
    "collapsed": false,
    "execution": {
     "iopub.status.busy": "2022-11-17T00:36:06.683598Z",
     "iopub.status.idle": "2022-11-17T00:36:06.684486Z",
     "shell.execute_reply": "2022-11-17T00:36:06.684327Z",
     "shell.execute_reply.started": "2022-11-17T00:36:06.684312Z"
    },
    "jupyter": {
     "outputs_hidden": false
    }
   },
   "outputs": [],
   "source": [
    "#df = feature_engineer(df, version=VERSION)"
   ]
  },
  {
   "cell_type": "code",
   "execution_count": null,
   "metadata": {
    "collapsed": false,
    "execution": {
     "iopub.status.busy": "2022-11-17T00:36:06.685298Z",
     "iopub.status.idle": "2022-11-17T00:36:06.685880Z",
     "shell.execute_reply": "2022-11-17T00:36:06.685734Z",
     "shell.execute_reply.started": "2022-11-17T00:36:06.685719Z"
    },
    "jupyter": {
     "outputs_hidden": false
    }
   },
   "outputs": [],
   "source": [
    "import re\n",
    "spice_df = pd.DataFrame(dict((spice, df_prep.keyFeatures.str.contains(spice, re.IGNORECASE))\n",
    "                             for spice in keywords))\n",
    "spice_df.head()"
   ]
  },
  {
   "cell_type": "code",
   "execution_count": null,
   "metadata": {
    "collapsed": false,
    "jupyter": {
     "outputs_hidden": false
    }
   },
   "outputs": [],
   "source": []
  },
  {
   "cell_type": "code",
   "execution_count": null,
   "metadata": {
    "collapsed": false,
    "execution": {
     "iopub.status.busy": "2022-11-17T00:36:06.686874Z",
     "iopub.status.idle": "2022-11-17T00:36:06.687464Z",
     "shell.execute_reply": "2022-11-17T00:36:06.687316Z",
     "shell.execute_reply.started": "2022-11-17T00:36:06.687302Z"
    },
    "jupyter": {
     "outputs_hidden": false
    }
   },
   "outputs": [],
   "source": [
    "df = df_prep[columns].merge(spice_df, how='outer', left_index=True, right_index=True)\n",
    "\n",
    "df.info()"
   ]
  },
  {
   "cell_type": "code",
   "execution_count": null,
   "metadata": {
    "collapsed": false,
    "execution": {
     "iopub.status.busy": "2022-11-17T00:36:06.688411Z",
     "iopub.status.idle": "2022-11-17T00:36:06.689163Z",
     "shell.execute_reply": "2022-11-17T00:36:06.689001Z",
     "shell.execute_reply.started": "2022-11-17T00:36:06.688986Z"
    },
    "jupyter": {
     "outputs_hidden": false
    }
   },
   "outputs": [],
   "source": [
    "df.head(30)"
   ]
  },
  {
   "cell_type": "code",
   "execution_count": null,
   "metadata": {
    "collapsed": false,
    "execution": {
     "iopub.status.busy": "2022-11-17T00:36:06.689961Z",
     "iopub.status.idle": "2022-11-17T00:36:06.690719Z",
     "shell.execute_reply": "2022-11-17T00:36:06.690559Z",
     "shell.execute_reply.started": "2022-11-17T00:36:06.690544Z"
    },
    "jupyter": {
     "outputs_hidden": false
    }
   },
   "outputs": [],
   "source": [
    "print(len(df_orig))\n",
    "old_length = len(df_orig)\n",
    "\n",
    "print(f\"{old_length} ==> {len(df)}\")\n",
    "old_length = len(df)"
   ]
  },
  {
   "cell_type": "code",
   "execution_count": null,
   "metadata": {
    "collapsed": false,
    "execution": {
     "iopub.status.busy": "2022-11-17T00:36:06.691587Z",
     "iopub.status.idle": "2022-11-17T00:36:06.692146Z",
     "shell.execute_reply": "2022-11-17T00:36:06.692009Z",
     "shell.execute_reply.started": "2022-11-17T00:36:06.691994Z"
    },
    "jupyter": {
     "outputs_hidden": false
    }
   },
   "outputs": [],
   "source": [
    "df['tenure.tenureType'] = df['tenure.tenureType'].astype('category')\n",
    "\n",
    "print(f\"{old_length} ==> {len(df)}\")\n",
    "old_length = len(df)"
   ]
  },
  {
   "cell_type": "code",
   "execution_count": null,
   "metadata": {
    "collapsed": false,
    "execution": {
     "iopub.status.busy": "2022-11-17T00:36:06.693192Z",
     "iopub.status.idle": "2022-11-17T00:36:06.693859Z",
     "shell.execute_reply": "2022-11-17T00:36:06.693653Z",
     "shell.execute_reply.started": "2022-11-17T00:36:06.693634Z"
    },
    "jupyter": {
     "outputs_hidden": false
    }
   },
   "outputs": [],
   "source": [
    "df.describe().T"
   ]
  },
  {
   "cell_type": "code",
   "execution_count": null,
   "metadata": {
    "collapsed": false,
    "execution": {
     "iopub.status.busy": "2022-11-17T00:36:06.695044Z",
     "iopub.status.idle": "2022-11-17T00:36:06.695698Z",
     "shell.execute_reply": "2022-11-17T00:36:06.695498Z",
     "shell.execute_reply.started": "2022-11-17T00:36:06.695483Z"
    },
    "jupyter": {
     "outputs_hidden": false
    }
   },
   "outputs": [],
   "source": [
    "df.describe(include=['object', 'category'], exclude=[]).T"
   ]
  },
  {
   "cell_type": "code",
   "execution_count": null,
   "metadata": {
    "collapsed": false,
    "execution": {
     "iopub.status.busy": "2022-11-17T00:36:06.759762Z",
     "iopub.status.idle": "2022-11-17T00:36:06.760935Z",
     "shell.execute_reply": "2022-11-17T00:36:06.760769Z",
     "shell.execute_reply.started": "2022-11-17T00:36:06.760743Z"
    },
    "jupyter": {
     "outputs_hidden": false
    }
   },
   "outputs": [],
   "source": [
    "%matplotlib inline\n",
    "df.hist(bins=50, figsize=(20, 20))\n",
    "plt.show()"
   ]
  },
  {
   "cell_type": "markdown",
   "metadata": {},
   "source": [
    "<div id = 3 style=\"color:white;\n",
    "           display:fill;\n",
    "           border-radius:5px;\n",
    "           background-color:#b08888;\n",
    "           font-size:100%;\n",
    "           font-family:Verdana;\n",
    "           letter-spacing:0.5px;\n",
    "           display:flex;\n",
    "            justify-content:center;\">\n",
    "\n",
    "<h2 style=\"padding: 2rem;\n",
    "              color:white;\n",
    "          text-align:center;\n",
    "          margin:0 auto;\n",
    "          \">\n",
    "    IDENTIFY OUTLIERS\n",
    "\n",
    "\n",
    "</h2>\n",
    "</div>"
   ]
  },
  {
   "cell_type": "code",
   "execution_count": null,
   "metadata": {
    "collapsed": false,
    "execution": {
     "iopub.status.busy": "2022-11-17T00:36:06.761738Z",
     "iopub.status.idle": "2022-11-17T00:36:06.766918Z",
     "shell.execute_reply": "2022-11-17T00:36:06.766782Z",
     "shell.execute_reply.started": "2022-11-17T00:36:06.766766Z"
    },
    "jupyter": {
     "outputs_hidden": false
    }
   },
   "outputs": [],
   "source": [
    "df.isna().sum()"
   ]
  },
  {
   "cell_type": "code",
   "execution_count": null,
   "metadata": {
    "collapsed": false,
    "execution": {
     "iopub.status.busy": "2022-11-17T00:36:06.767461Z",
     "iopub.status.idle": "2022-11-17T00:36:06.767823Z",
     "shell.execute_reply": "2022-11-17T00:36:06.767712Z",
     "shell.execute_reply.started": "2022-11-17T00:36:06.767695Z"
    },
    "jupyter": {
     "outputs_hidden": false
    }
   },
   "outputs": [],
   "source": [
    "# Identifying outliers, in order to try and verify (from the source data) that they are incorrect data.\n",
    "df[df['bedrooms'] > 5].sort_values('bedrooms', ascending=False)"
   ]
  },
  {
   "cell_type": "code",
   "execution_count": null,
   "metadata": {
    "collapsed": false,
    "execution": {
     "iopub.status.busy": "2022-11-17T00:36:06.768318Z",
     "iopub.status.idle": "2022-11-17T00:36:06.768641Z",
     "shell.execute_reply": "2022-11-17T00:36:06.768544Z",
     "shell.execute_reply.started": "2022-11-17T00:36:06.768532Z"
    },
    "jupyter": {
     "outputs_hidden": false
    }
   },
   "outputs": [],
   "source": [
    "# Identifying outliers, in order to try and verify (from the source data) that they are incorrect data.\n",
    "df[df['bedrooms'] > 10].sort_values('bedrooms', ascending=False)"
   ]
  },
  {
   "cell_type": "code",
   "execution_count": null,
   "metadata": {
    "collapsed": false,
    "execution": {
     "iopub.status.busy": "2022-11-17T00:36:06.769122Z",
     "iopub.status.idle": "2022-11-17T00:36:06.769444Z",
     "shell.execute_reply": "2022-11-17T00:36:06.769348Z",
     "shell.execute_reply.started": "2022-11-17T00:36:06.769336Z"
    },
    "jupyter": {
     "outputs_hidden": false
    }
   },
   "outputs": [],
   "source": [
    "# Identifying outliers, in order to try and verify (from the source data) that they are incorrect data.\n",
    "df[df['bathrooms'] > 5]"
   ]
  },
  {
   "cell_type": "code",
   "execution_count": null,
   "metadata": {
    "collapsed": false,
    "execution": {
     "iopub.status.busy": "2022-11-17T00:36:06.769936Z",
     "iopub.status.idle": "2022-11-17T00:36:06.770255Z",
     "shell.execute_reply": "2022-11-17T00:36:06.770159Z",
     "shell.execute_reply.started": "2022-11-17T00:36:06.770147Z"
    },
    "jupyter": {
     "outputs_hidden": false
    }
   },
   "outputs": [],
   "source": [
    "# Identifying outliers, in order to try and verify (from the source data) that they are incorrect data.\n",
    "df[df['longitude_deviation'] > 1]"
   ]
  },
  {
   "cell_type": "code",
   "execution_count": null,
   "metadata": {
    "collapsed": false,
    "execution": {
     "iopub.status.busy": "2022-11-17T00:36:06.770779Z",
     "iopub.status.idle": "2022-11-17T00:36:06.771102Z",
     "shell.execute_reply": "2022-11-17T00:36:06.771005Z",
     "shell.execute_reply.started": "2022-11-17T00:36:06.770993Z"
    },
    "jupyter": {
     "outputs_hidden": false
    }
   },
   "outputs": [],
   "source": [
    "# Identifying outliers, in order to try and verify (from the source data) that they are incorrect data.\n",
    "df[df['latitude_deviation'] > 1]"
   ]
  },
  {
   "cell_type": "code",
   "execution_count": null,
   "metadata": {
    "collapsed": false,
    "execution": {
     "iopub.status.busy": "2022-11-17T00:36:06.771577Z",
     "iopub.status.idle": "2022-11-17T00:36:06.771947Z",
     "shell.execute_reply": "2022-11-17T00:36:06.771807Z",
     "shell.execute_reply.started": "2022-11-17T00:36:06.771792Z"
    },
    "jupyter": {
     "outputs_hidden": false
    }
   },
   "outputs": [],
   "source": [
    "# Identifying outliers, in order to try and verify (from the source data) that they are incorrect data.\n",
    "df[df['nearestStation'] > 20]"
   ]
  },
  {
   "cell_type": "code",
   "execution_count": null,
   "metadata": {
    "collapsed": false,
    "execution": {
     "iopub.status.busy": "2022-11-17T00:36:06.772488Z",
     "iopub.status.idle": "2022-11-17T00:36:06.772808Z",
     "shell.execute_reply": "2022-11-17T00:36:06.772712Z",
     "shell.execute_reply.started": "2022-11-17T00:36:06.772701Z"
    },
    "jupyter": {
     "outputs_hidden": false
    }
   },
   "outputs": [],
   "source": [
    "# Identifying outliers, in order to try and verify (from the source data) that they are incorrect data.\n",
    "df[df['nearestStation'] > 4].sort_values('nearestStation', ascending=False)"
   ]
  },
  {
   "cell_type": "code",
   "execution_count": null,
   "metadata": {
    "collapsed": false,
    "execution": {
     "iopub.status.busy": "2022-11-17T00:36:06.773293Z",
     "iopub.status.idle": "2022-11-17T00:36:06.779517Z",
     "shell.execute_reply": "2022-11-17T00:36:06.779364Z",
     "shell.execute_reply.started": "2022-11-17T00:36:06.779343Z"
    },
    "jupyter": {
     "outputs_hidden": false
    }
   },
   "outputs": [],
   "source": [
    "df = df[(df['bedrooms'] <= 10)]\n",
    "df = df[df['bathrooms'] <= 5]\n",
    "df = df[((df['longitude_deviation'] <= 1) & (df['latitude_deviation'] <= 1))]\n",
    "df = df[(df['nearestStation'] <= 4)]\n",
    "\n",
    "print(f\"{old_length} ==> {len(df)}\")\n",
    "old_length = len(df)\n",
    "\n",
    "df.describe().T"
   ]
  },
  {
   "cell_type": "code",
   "execution_count": null,
   "metadata": {
    "collapsed": false,
    "execution": {
     "iopub.status.busy": "2022-11-17T00:36:06.780290Z",
     "iopub.status.idle": "2022-11-17T00:36:06.784053Z",
     "shell.execute_reply": "2022-11-17T00:36:06.783921Z",
     "shell.execute_reply.started": "2022-11-17T00:36:06.783906Z"
    },
    "jupyter": {
     "outputs_hidden": false
    }
   },
   "outputs": [],
   "source": [
    "df.hist(bins=50, figsize=(20, 20))\n",
    "plt.show()"
   ]
  },
  {
   "cell_type": "code",
   "execution_count": null,
   "metadata": {
    "collapsed": false,
    "execution": {
     "iopub.status.busy": "2022-11-17T00:36:06.784599Z",
     "iopub.status.idle": "2022-11-17T00:36:06.784960Z",
     "shell.execute_reply": "2022-11-17T00:36:06.784859Z",
     "shell.execute_reply.started": "2022-11-17T00:36:06.784846Z"
    },
    "jupyter": {
     "outputs_hidden": false
    }
   },
   "outputs": [],
   "source": [
    "#sns.pairplot(df, diag_kind='kde')"
   ]
  },
  {
   "cell_type": "code",
   "execution_count": null,
   "metadata": {
    "collapsed": false,
    "execution": {
     "iopub.status.busy": "2022-11-17T00:36:06.785509Z",
     "iopub.status.idle": "2022-11-17T00:36:06.785866Z",
     "shell.execute_reply": "2022-11-17T00:36:06.785760Z",
     "shell.execute_reply.started": "2022-11-17T00:36:06.785747Z"
    },
    "jupyter": {
     "outputs_hidden": false
    }
   },
   "outputs": [],
   "source": [
    "#df.isna().any()\n",
    "df.isna().sum()"
   ]
  },
  {
   "cell_type": "code",
   "execution_count": null,
   "metadata": {
    "collapsed": false,
    "execution": {
     "iopub.status.busy": "2022-11-17T00:36:06.786372Z",
     "iopub.status.idle": "2022-11-17T00:36:06.786739Z",
     "shell.execute_reply": "2022-11-17T00:36:06.786638Z",
     "shell.execute_reply.started": "2022-11-17T00:36:06.786625Z"
    },
    "jupyter": {
     "outputs_hidden": false
    }
   },
   "outputs": [],
   "source": [
    "df = df.dropna()\n",
    "print(f\"{old_length} ==> {len(df)}\")\n",
    "old_length = len(df)\n",
    "df.describe()"
   ]
  },
  {
   "cell_type": "code",
   "execution_count": null,
   "metadata": {
    "collapsed": false,
    "execution": {
     "iopub.status.busy": "2022-11-17T00:36:06.787227Z",
     "iopub.status.idle": "2022-11-17T00:36:06.787550Z",
     "shell.execute_reply": "2022-11-17T00:36:06.787453Z",
     "shell.execute_reply.started": "2022-11-17T00:36:06.787441Z"
    },
    "jupyter": {
     "outputs_hidden": false
    }
   },
   "outputs": [],
   "source": [
    "df_features = df.drop(LABEL, axis=1)\n",
    "df_features"
   ]
  },
  {
   "cell_type": "code",
   "execution_count": null,
   "metadata": {
    "collapsed": false,
    "execution": {
     "iopub.status.busy": "2022-11-17T00:36:06.788036Z",
     "iopub.status.idle": "2022-11-17T00:36:06.788361Z",
     "shell.execute_reply": "2022-11-17T00:36:06.788264Z",
     "shell.execute_reply.started": "2022-11-17T00:36:06.788252Z"
    },
    "jupyter": {
     "outputs_hidden": false
    }
   },
   "outputs": [],
   "source": [
    "use_one_hot_encoding_not_dummies = False\n",
    "\n",
    "if use_one_hot_encoding_not_dummies:\n",
    "    raise NotImplementedError('not implemented one hot encoding yet')\n",
    "\n",
    "    #from sklearn.preprocessing import OneHotEncoder\n",
    "    #tenure_encoder = OneHotEncoder()\n",
    "    #df_tenure_type = tenure_encoder.fit_transform(df_features[['tenure.tenureType']])\n",
    "else:\n",
    "    for column in categories:\n",
    "        df_features = pd.concat([df_features, pd.get_dummies(df_features[column], prefix=column, drop_first=True)],\n",
    "                                axis=1)\n",
    "        df_features.drop([column], axis=1, inplace=True)  # now drop the original column (you don't need it anymore),\n",
    "\n",
    "features_corr = df_features.corr()\n",
    "features_corr"
   ]
  },
  {
   "cell_type": "code",
   "execution_count": null,
   "metadata": {
    "collapsed": false,
    "execution": {
     "iopub.status.busy": "2022-11-17T00:36:06.788866Z",
     "iopub.status.idle": "2022-11-17T00:36:06.789195Z",
     "shell.execute_reply": "2022-11-17T00:36:06.789098Z",
     "shell.execute_reply.started": "2022-11-17T00:36:06.789086Z"
    },
    "jupyter": {
     "outputs_hidden": false
    }
   },
   "outputs": [],
   "source": [
    "sns.set(font_scale=5)\n",
    "#plt.figure(figsize=(50, 35))\n",
    "plt.figure(figsize=(80, 80))\n",
    "ax = sns.heatmap(features_corr, annot=True, fmt='.1f', cmap='coolwarm')"
   ]
  },
  {
   "cell_type": "code",
   "execution_count": null,
   "metadata": {
    "collapsed": false,
    "execution": {
     "iopub.status.busy": "2022-11-17T00:36:06.789674Z",
     "iopub.status.idle": "2022-11-17T00:36:06.789997Z",
     "shell.execute_reply": "2022-11-17T00:36:06.789900Z",
     "shell.execute_reply.started": "2022-11-17T00:36:06.789888Z"
    },
    "jupyter": {
     "outputs_hidden": false
    }
   },
   "outputs": [],
   "source": [
    "data_corr = df.corr()\n",
    "data_corr_dict = data_corr[\"Price\"].sort_values(ascending=False).to_dict()\n",
    "data_corr_dict"
   ]
  },
  {
   "cell_type": "code",
   "execution_count": null,
   "metadata": {
    "collapsed": false,
    "execution": {
     "iopub.status.busy": "2022-11-17T00:36:06.794844Z",
     "iopub.status.idle": "2022-11-17T00:36:06.799079Z",
     "shell.execute_reply": "2022-11-17T00:36:06.798944Z",
     "shell.execute_reply.started": "2022-11-17T00:36:06.798925Z"
    },
    "jupyter": {
     "outputs_hidden": false
    }
   },
   "outputs": [],
   "source": [
    "#print the most positively correlated features\n",
    "pos_corr = {k: v for k, v in data_corr_dict.items() if v > 0.1 and v != 1}\n",
    "pos_corr"
   ]
  },
  {
   "cell_type": "code",
   "execution_count": null,
   "metadata": {
    "collapsed": false,
    "execution": {
     "iopub.status.busy": "2022-11-17T00:36:06.799610Z",
     "iopub.status.idle": "2022-11-17T00:36:06.800527Z",
     "shell.execute_reply": "2022-11-17T00:36:06.800363Z",
     "shell.execute_reply.started": "2022-11-17T00:36:06.800348Z"
    },
    "jupyter": {
     "outputs_hidden": false
    }
   },
   "outputs": [],
   "source": [
    "#print the most negatively correlated features\n",
    "neg_corr = {k: v for k, v in data_corr_dict.items() if v < -0.1}\n",
    "neg_corr"
   ]
  },
  {
   "cell_type": "code",
   "execution_count": null,
   "metadata": {
    "collapsed": false,
    "execution": {
     "iopub.status.busy": "2022-11-17T00:36:06.801082Z",
     "iopub.status.idle": "2022-11-17T00:36:06.801414Z",
     "shell.execute_reply": "2022-11-17T00:36:06.801316Z",
     "shell.execute_reply.started": "2022-11-17T00:36:06.801304Z"
    },
    "jupyter": {
     "outputs_hidden": false
    }
   },
   "outputs": [],
   "source": [
    "plt.figure(figsize=(12, 12))\n",
    "sns.set(font_scale=1.5)\n",
    "sns.scatterplot(x='bedrooms', y='Price', data=df, hue='tenure.tenureType')\n",
    "plt.xticks(weight='bold', rotation=90)\n",
    "plt.show()"
   ]
  },
  {
   "cell_type": "code",
   "execution_count": null,
   "metadata": {
    "collapsed": false,
    "execution": {
     "iopub.status.busy": "2022-11-17T00:36:06.801968Z",
     "iopub.status.idle": "2022-11-17T00:36:06.802299Z",
     "shell.execute_reply": "2022-11-17T00:36:06.802201Z",
     "shell.execute_reply.started": "2022-11-17T00:36:06.802189Z"
    },
    "jupyter": {
     "outputs_hidden": false
    }
   },
   "outputs": [],
   "source": [
    "plt.figure(figsize=(12, 12))\n",
    "sns.set(font_scale=1.5)\n",
    "sns.scatterplot(x='latitude_deviation', y='Price', data=df, hue='tenure.tenureType')\n",
    "plt.xticks(weight='bold', rotation=90)\n",
    "plt.show()"
   ]
  },
  {
   "cell_type": "code",
   "execution_count": null,
   "metadata": {
    "collapsed": false,
    "execution": {
     "iopub.status.busy": "2022-11-17T00:36:06.803047Z",
     "iopub.status.idle": "2022-11-17T00:36:06.803415Z",
     "shell.execute_reply": "2022-11-17T00:36:06.803313Z",
     "shell.execute_reply.started": "2022-11-17T00:36:06.803300Z"
    },
    "jupyter": {
     "outputs_hidden": false
    }
   },
   "outputs": [],
   "source": [
    "plt.figure(figsize=(12, 12))\n",
    "sns.set(font_scale=1.5)\n",
    "sns.scatterplot(x='longitude_deviation', y='Price', data=df, hue='tenure.tenureType')\n",
    "plt.xticks(weight='bold', rotation=90)\n",
    "plt.show()"
   ]
  },
  {
   "cell_type": "code",
   "execution_count": null,
   "metadata": {
    "collapsed": false,
    "execution": {
     "iopub.status.busy": "2022-11-17T00:36:06.807125Z",
     "iopub.status.idle": "2022-11-17T00:36:06.807468Z",
     "shell.execute_reply": "2022-11-17T00:36:06.807368Z",
     "shell.execute_reply.started": "2022-11-17T00:36:06.807356Z"
    },
    "jupyter": {
     "outputs_hidden": false
    }
   },
   "outputs": [],
   "source": [
    "plt.figure(figsize=(12, 12))\n",
    "sns.set(font_scale=1.5)\n",
    "sns.scatterplot(x='latitude_deviation', y='longitude_deviation', data=df, hue='tenure.tenureType')\n",
    "plt.xticks(weight='bold', rotation=90)\n",
    "plt.show()"
   ]
  },
  {
   "cell_type": "markdown",
   "metadata": {},
   "source": [
    "<div id = 3 style=\"color:white;\n",
    "           display:fill;\n",
    "           border-radius:5px;\n",
    "           background-color:#b08888;\n",
    "           font-size:100%;\n",
    "           font-family:Verdana;\n",
    "           letter-spacing:0.5px;\n",
    "           display:flex;\n",
    "            justify-content:center;\">\n",
    "\n",
    "<h2 style=\"padding: 2rem;\n",
    "              color:white;\n",
    "          text-align:center;\n",
    "          margin:0 auto;\n",
    "          \">\n",
    "    Exploration for imputation\n",
    "\n",
    "\n",
    "</h2>\n",
    "</div>"
   ]
  },
  {
   "cell_type": "code",
   "execution_count": null,
   "metadata": {
    "collapsed": false,
    "jupyter": {
     "outputs_hidden": false
    }
   },
   "outputs": [],
   "source": []
  },
  {
   "cell_type": "code",
   "execution_count": null,
   "metadata": {
    "collapsed": false,
    "execution": {
     "iopub.status.busy": "2022-11-17T00:36:06.807955Z",
     "iopub.status.idle": "2022-11-17T00:36:06.808283Z",
     "shell.execute_reply": "2022-11-17T00:36:06.808185Z",
     "shell.execute_reply.started": "2022-11-17T00:36:06.808173Z"
    },
    "jupyter": {
     "outputs_hidden": false
    }
   },
   "outputs": [],
   "source": [
    "df['central_distance'] = (df['latitude_deviation'] ** 2 + df['longitude_deviation'] ** 2) ** 0.5\n",
    "df"
   ]
  },
  {
   "cell_type": "code",
   "execution_count": null,
   "metadata": {
    "collapsed": false,
    "execution": {
     "iopub.status.busy": "2022-11-17T00:36:06.808977Z",
     "iopub.status.idle": "2022-11-17T00:36:06.810827Z",
     "shell.execute_reply": "2022-11-17T00:36:06.810676Z",
     "shell.execute_reply.started": "2022-11-17T00:36:06.810660Z"
    },
    "jupyter": {
     "outputs_hidden": false
    }
   },
   "outputs": [],
   "source": [
    "\n",
    "plt.figure(figsize=(12, 12))\n",
    "sns.set(font_scale=1.5)\n",
    "sns.scatterplot(x='bedrooms', y='central_distance', data=df, hue='tenure.tenureType')\n",
    "plt.xticks(weight='bold', rotation=90)\n",
    "plt.show()"
   ]
  },
  {
   "cell_type": "code",
   "execution_count": null,
   "metadata": {
    "collapsed": false,
    "execution": {
     "iopub.status.busy": "2022-11-17T00:36:06.811485Z",
     "iopub.status.idle": "2022-11-17T00:36:06.812043Z",
     "shell.execute_reply": "2022-11-17T00:36:06.811904Z",
     "shell.execute_reply.started": "2022-11-17T00:36:06.811890Z"
    },
    "jupyter": {
     "outputs_hidden": false
    }
   },
   "outputs": [],
   "source": [
    "#df.groupby(['tenure.tenureType','bedrooms']).agg({'bedrooms':['mean','min','max']})\n",
    "df.groupby(['tenure.tenureType', 'bedrooms']).agg('count')"
   ]
  },
  {
   "cell_type": "code",
   "execution_count": null,
   "metadata": {
    "collapsed": false,
    "jupyter": {
     "outputs_hidden": false
    }
   },
   "outputs": [],
   "source": []
  }
 ],
 "metadata": {
  "kernelspec": {
   "display_name": "Python 3 (ipykernel)",
   "language": "python",
   "name": "python3"
  },
  "language_info": {
   "codemirror_mode": {
    "name": "ipython",
    "version": 3
   },
   "file_extension": ".py",
   "mimetype": "text/x-python",
   "name": "python",
   "nbconvert_exporter": "python",
   "pygments_lexer": "ipython3",
   "version": "3.9.13"
  }
 },
 "nbformat": 4,
 "nbformat_minor": 4
}
