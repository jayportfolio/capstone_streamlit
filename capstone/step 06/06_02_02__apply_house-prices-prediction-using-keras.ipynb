{
 "cells": [
  {
   "cell_type": "markdown",
   "metadata": {},
   "source": [
    "from https://www.kaggle.com/code/hugosjoberg/house-prices-prediction-using-keras"
   ]
  },
  {
   "cell_type": "code",
   "execution_count": 5,
   "metadata": {
    "_cell_guid": "b1076dfc-b9ad-4769-8c92-a6c4dae69d19",
    "_uuid": "8f2839f25d086af736a60e9eeb907d3b93b6e0e5",
    "execution": {
     "iopub.execute_input": "2022-11-17T15:06:40.555896Z",
     "iopub.status.busy": "2022-11-17T15:06:40.555005Z",
     "iopub.status.idle": "2022-11-17T15:06:43.398166Z",
     "shell.execute_reply": "2022-11-17T15:06:43.397322Z",
     "shell.execute_reply.started": "2022-11-17T15:06:40.555828Z"
    }
   },
   "outputs": [],
   "source": [
    "import numpy as np # linear algebra\n",
    "import pandas as pd # data processing, CSV file I/O (e.g. pd.read_csv)\n",
    "from sklearn.preprocessing import StandardScaler # Used for scaling of data\n",
    "from sklearn.model_selection import train_test_split\n",
    "from keras.models import Sequential\n",
    "from keras.layers import Dense, Dropout\n",
    "from keras import metrics\n",
    "import seaborn as sns\n",
    "import matplotlib.pyplot as plt\n",
    "from keras import backend as K\n",
    "from keras.wrappers.scikit_learn import KerasRegressor"
   ]
  },
  {
   "cell_type": "code",
   "execution_count": 6,
   "metadata": {
    "collapsed": false,
    "execution": {
     "iopub.execute_input": "2022-11-17T15:06:43.400739Z",
     "iopub.status.busy": "2022-11-17T15:06:43.399458Z",
     "iopub.status.idle": "2022-11-17T15:06:43.404245Z",
     "shell.execute_reply": "2022-11-17T15:06:43.403554Z",
     "shell.execute_reply.started": "2022-11-17T15:06:43.400711Z"
    },
    "jupyter": {
     "outputs_hidden": false
    }
   },
   "outputs": [],
   "source": [
    "show_graphs = False"
   ]
  },
  {
   "cell_type": "code",
   "execution_count": 7,
   "metadata": {
    "_cell_guid": "79c7e3d0-c299-4dcb-8224-4455121ee9b0",
    "_uuid": "d629ff2d2480ee46fbb7e2d37f6b5fab8052498a",
    "execution": {
     "iopub.execute_input": "2022-11-17T15:06:43.405214Z",
     "iopub.status.busy": "2022-11-17T15:06:43.405021Z",
     "iopub.status.idle": "2022-11-17T15:06:45.099962Z",
     "shell.execute_reply": "2022-11-17T15:06:45.099246Z",
     "shell.execute_reply.started": "2022-11-17T15:06:43.405199Z"
    }
   },
   "outputs": [],
   "source": [
    "# Read in train data\n",
    "try:\n",
    "    df_train = pd.read_csv('untidy_df_listings_v06.csv', index_col=0)\n",
    "except:\n",
    "    !wget https://raw.githubusercontent.com/jayportfolio/capstone_streamlit/main/data/final/untidy_df_listings_v06.csv\n",
    "    df_train = pd.read_csv('untidy_df_listings_v06.csv', index_col=0)"
   ]
  },
  {
   "cell_type": "code",
   "execution_count": 8,
   "metadata": {
    "_uuid": "cb0db41d4fc18a4992301ae08bf61fad4f489f56",
    "execution": {
     "iopub.execute_input": "2022-11-17T15:06:45.101713Z",
     "iopub.status.busy": "2022-11-17T15:06:45.101517Z",
     "iopub.status.idle": "2022-11-17T15:06:45.116362Z",
     "shell.execute_reply": "2022-11-17T15:06:45.115838Z",
     "shell.execute_reply.started": "2022-11-17T15:06:45.101697Z"
    },
    "scrolled": true
   },
   "outputs": [
    {
     "data": {
      "text/plain": "             Price  bedrooms  bathrooms  nearestStation  location.latitude  \\\n14520525  550000.0       3.0        1.0        0.274316          51.529950   \n27953107  400000.0       2.0        2.0        0.305845          51.549390   \n33593487  579950.0       2.0        1.0        0.438045          51.447180   \n35271294  370000.0       2.0        1.0        0.399307          51.449568   \n35429088  599950.0       2.0        1.0        0.238187          51.577030   \n\n          location.longitude  latitude_deviation  longitude_deviation  \\\n14520525           -0.207020            0.030472             0.101800   \n27953107           -0.482600            0.049912             0.377380   \n33593487           -0.338770            0.052298             0.233550   \n35271294           -0.140154            0.049910             0.034934   \n35429088           -0.141230            0.077552             0.036010   \n\n         tenure.tenureType  \n14520525         LEASEHOLD  \n27953107         LEASEHOLD  \n33593487          FREEHOLD  \n35271294         LEASEHOLD  \n35429088               NaN  ",
      "text/html": "<div>\n<style scoped>\n    .dataframe tbody tr th:only-of-type {\n        vertical-align: middle;\n    }\n\n    .dataframe tbody tr th {\n        vertical-align: top;\n    }\n\n    .dataframe thead th {\n        text-align: right;\n    }\n</style>\n<table border=\"1\" class=\"dataframe\">\n  <thead>\n    <tr style=\"text-align: right;\">\n      <th></th>\n      <th>Price</th>\n      <th>bedrooms</th>\n      <th>bathrooms</th>\n      <th>nearestStation</th>\n      <th>location.latitude</th>\n      <th>location.longitude</th>\n      <th>latitude_deviation</th>\n      <th>longitude_deviation</th>\n      <th>tenure.tenureType</th>\n    </tr>\n  </thead>\n  <tbody>\n    <tr>\n      <th>14520525</th>\n      <td>550000.0</td>\n      <td>3.0</td>\n      <td>1.0</td>\n      <td>0.274316</td>\n      <td>51.529950</td>\n      <td>-0.207020</td>\n      <td>0.030472</td>\n      <td>0.101800</td>\n      <td>LEASEHOLD</td>\n    </tr>\n    <tr>\n      <th>27953107</th>\n      <td>400000.0</td>\n      <td>2.0</td>\n      <td>2.0</td>\n      <td>0.305845</td>\n      <td>51.549390</td>\n      <td>-0.482600</td>\n      <td>0.049912</td>\n      <td>0.377380</td>\n      <td>LEASEHOLD</td>\n    </tr>\n    <tr>\n      <th>33593487</th>\n      <td>579950.0</td>\n      <td>2.0</td>\n      <td>1.0</td>\n      <td>0.438045</td>\n      <td>51.447180</td>\n      <td>-0.338770</td>\n      <td>0.052298</td>\n      <td>0.233550</td>\n      <td>FREEHOLD</td>\n    </tr>\n    <tr>\n      <th>35271294</th>\n      <td>370000.0</td>\n      <td>2.0</td>\n      <td>1.0</td>\n      <td>0.399307</td>\n      <td>51.449568</td>\n      <td>-0.140154</td>\n      <td>0.049910</td>\n      <td>0.034934</td>\n      <td>LEASEHOLD</td>\n    </tr>\n    <tr>\n      <th>35429088</th>\n      <td>599950.0</td>\n      <td>2.0</td>\n      <td>1.0</td>\n      <td>0.238187</td>\n      <td>51.577030</td>\n      <td>-0.141230</td>\n      <td>0.077552</td>\n      <td>0.036010</td>\n      <td>NaN</td>\n    </tr>\n  </tbody>\n</table>\n</div>"
     },
     "execution_count": 8,
     "metadata": {},
     "output_type": "execute_result"
    }
   ],
   "source": [
    "df_train.head()"
   ]
  },
  {
   "cell_type": "markdown",
   "metadata": {
    "_uuid": "f073ac12db41eb616c7d3116537783d890286afd"
   },
   "source": [
    "# Prepare data\n",
    "    Investigate what data that has a linear or some kind of relation to the sale price\n",
    "    Drop the unimportant features or less unimportant features\n",
    "    Drop features which has many NaN values"
   ]
  },
  {
   "cell_type": "code",
   "execution_count": 9,
   "metadata": {
    "_uuid": "f41e1f2f85b2beda54623e15555c4aebca349522",
    "execution": {
     "iopub.execute_input": "2022-11-17T15:06:45.117199Z",
     "iopub.status.busy": "2022-11-17T15:06:45.117002Z",
     "iopub.status.idle": "2022-11-17T15:06:45.124928Z",
     "shell.execute_reply": "2022-11-17T15:06:45.124446Z",
     "shell.execute_reply.started": "2022-11-17T15:06:45.117183Z"
    }
   },
   "outputs": [
    {
     "data": {
      "text/plain": "count     54067.000000\nmean     416448.380528\nstd      113505.624206\nmin      100000.000000\n25%      325000.000000\n50%      425000.000000\n75%      500000.000000\nmax      600000.000000\nName: Price, dtype: float64"
     },
     "execution_count": 9,
     "metadata": {},
     "output_type": "execute_result"
    }
   ],
   "source": [
    "#descriptive statistics summary\n",
    "df_train['Price'].describe()"
   ]
  },
  {
   "cell_type": "code",
   "execution_count": 10,
   "metadata": {
    "_uuid": "4d96bb824f0a8b9994a9c312e0032e7fddb2c964",
    "execution": {
     "iopub.execute_input": "2022-11-17T15:06:45.129165Z",
     "iopub.status.busy": "2022-11-17T15:06:45.128996Z",
     "iopub.status.idle": "2022-11-17T15:06:45.133353Z",
     "shell.execute_reply": "2022-11-17T15:06:45.132804Z",
     "shell.execute_reply.started": "2022-11-17T15:06:45.129152Z"
    }
   },
   "outputs": [
    {
     "name": "stdout",
     "output_type": "stream",
     "text": [
      "Skewness: -0.220900\n",
      "Kurtosis: -0.724044\n"
     ]
    }
   ],
   "source": [
    "#skewness and kurtosis\n",
    "print(\"Skewness: %f\" % df_train['Price'].skew())\n",
    "print(\"Kurtosis: %f\" % df_train['Price'].kurt())"
   ]
  },
  {
   "cell_type": "markdown",
   "metadata": {
    "_uuid": "3e04a673e79b42e251535b523cf4fdd375c948e4"
   },
   "source": [
    "    - Skewness means the top of the iceberg is not in the middle but rather towards left or right.\n",
    "    - Kurtosis describe if the gaussian distrubution is very small and narrow or very wide"
   ]
  },
  {
   "cell_type": "markdown",
   "metadata": {
    "_uuid": "394c7fab3b8a90176635ef240466257c45b0b549"
   },
   "source": [
    "Let's have a  look at the missing data.\n",
    "\n",
    "Let's display a % of the data that is missing from some columns."
   ]
  },
  {
   "cell_type": "code",
   "execution_count": 11,
   "metadata": {
    "_uuid": "a5f4b941925a23b99e781dc5ce921aa789cbc9a7",
    "execution": {
     "iopub.execute_input": "2022-11-17T15:06:45.147815Z",
     "iopub.status.busy": "2022-11-17T15:06:45.147658Z",
     "iopub.status.idle": "2022-11-17T15:06:45.169844Z",
     "shell.execute_reply": "2022-11-17T15:06:45.169343Z",
     "shell.execute_reply.started": "2022-11-17T15:06:45.147796Z"
    }
   },
   "outputs": [
    {
     "data": {
      "text/plain": "                     Total   Percent\ntenure.tenureType     3654  0.067583\nbathrooms             3498  0.064698\nbedrooms              1802  0.033329\nlocation.latitude       10  0.000185\nlatitude_deviation      10  0.000185\nPrice                    0  0.000000\nnearestStation           0  0.000000\nlocation.longitude       0  0.000000\nlongitude_deviation      0  0.000000",
      "text/html": "<div>\n<style scoped>\n    .dataframe tbody tr th:only-of-type {\n        vertical-align: middle;\n    }\n\n    .dataframe tbody tr th {\n        vertical-align: top;\n    }\n\n    .dataframe thead th {\n        text-align: right;\n    }\n</style>\n<table border=\"1\" class=\"dataframe\">\n  <thead>\n    <tr style=\"text-align: right;\">\n      <th></th>\n      <th>Total</th>\n      <th>Percent</th>\n    </tr>\n  </thead>\n  <tbody>\n    <tr>\n      <th>tenure.tenureType</th>\n      <td>3654</td>\n      <td>0.067583</td>\n    </tr>\n    <tr>\n      <th>bathrooms</th>\n      <td>3498</td>\n      <td>0.064698</td>\n    </tr>\n    <tr>\n      <th>bedrooms</th>\n      <td>1802</td>\n      <td>0.033329</td>\n    </tr>\n    <tr>\n      <th>location.latitude</th>\n      <td>10</td>\n      <td>0.000185</td>\n    </tr>\n    <tr>\n      <th>latitude_deviation</th>\n      <td>10</td>\n      <td>0.000185</td>\n    </tr>\n    <tr>\n      <th>Price</th>\n      <td>0</td>\n      <td>0.000000</td>\n    </tr>\n    <tr>\n      <th>nearestStation</th>\n      <td>0</td>\n      <td>0.000000</td>\n    </tr>\n    <tr>\n      <th>location.longitude</th>\n      <td>0</td>\n      <td>0.000000</td>\n    </tr>\n    <tr>\n      <th>longitude_deviation</th>\n      <td>0</td>\n      <td>0.000000</td>\n    </tr>\n  </tbody>\n</table>\n</div>"
     },
     "execution_count": 11,
     "metadata": {},
     "output_type": "execute_result"
    }
   ],
   "source": [
    "#missing data\n",
    "total = df_train.isnull().sum().sort_values(ascending=False)\n",
    "percent = (df_train.isnull().sum()/df_train.isnull().count()).sort_values(ascending=False)\n",
    "missing_data = pd.concat([total, percent], axis=1, keys=['Total', 'Percent'])\n",
    "missing_data.head(20)"
   ]
  },
  {
   "cell_type": "markdown",
   "metadata": {
    "_uuid": "e81bfe548fff5b1a48f1591d25a84f55e6b8b830"
   },
   "source": [
    "Some of theese features are of interest for us and they don't show a massive shortage of data so lets create mean data for those values."
   ]
  },
  {
   "cell_type": "code",
   "execution_count": 12,
   "metadata": {
    "_uuid": "a16226a47ed6d2fec9a6e69d8f7d982e4589e1e1",
    "execution": {
     "iopub.execute_input": "2022-11-17T15:06:45.170657Z",
     "iopub.status.busy": "2022-11-17T15:06:45.170493Z",
     "iopub.status.idle": "2022-11-17T15:06:45.183901Z",
     "shell.execute_reply": "2022-11-17T15:06:45.183276Z",
     "shell.execute_reply.started": "2022-11-17T15:06:45.170643Z"
    }
   },
   "outputs": [
    {
     "name": "stderr",
     "output_type": "stream",
     "text": [
      "/tmp/ipykernel_4439/1407479518.py:1: FutureWarning: The default value of numeric_only in DataFrame.mean is deprecated. In a future version, it will default to False. In addition, specifying 'numeric_only=None' is deprecated. Select only valid columns or specify the value of numeric_only to silence this warning.\n",
      "  df_train = df_train.fillna(df_train.mean())\n"
     ]
    }
   ],
   "source": [
    "df_train = df_train.fillna(df_train.mean())"
   ]
  },
  {
   "cell_type": "markdown",
   "metadata": {
    "_uuid": "5d2f7b9502cb2cccc0f34642a042a227f703fddd"
   },
   "source": [
    "Now let's remove outliers for example data that doesn't match what we expect like an insane price for a house\n",
    "\n",
    "To do this we standardize the data so that the mean is 0 and a standard deviation of 1. "
   ]
  },
  {
   "cell_type": "code",
   "execution_count": 13,
   "metadata": {
    "_uuid": "5fd1ebd08dc93d5b68d519ac7d2b695b212612f1",
    "execution": {
     "iopub.execute_input": "2022-11-17T15:06:45.184693Z",
     "iopub.status.busy": "2022-11-17T15:06:45.184520Z",
     "iopub.status.idle": "2022-11-17T15:06:45.195300Z",
     "shell.execute_reply": "2022-11-17T15:06:45.194710Z",
     "shell.execute_reply.started": "2022-11-17T15:06:45.184680Z"
    }
   },
   "outputs": [
    {
     "name": "stdout",
     "output_type": "stream",
     "text": [
      "outer range (low) of the distribution:\n",
      "[[-2.78797909]\n",
      " [-2.78797909]\n",
      " [-2.78797909]\n",
      " [-2.78797909]\n",
      " [-2.78797909]\n",
      " [-2.78797909]\n",
      " [-2.78797909]\n",
      " [-2.78797909]\n",
      " [-2.78797909]\n",
      " [-2.78797909]]\n",
      "\n",
      "outer range (high) of the distribution:\n",
      "[[1.61712971]\n",
      " [1.61712971]\n",
      " [1.61712971]\n",
      " [1.61712971]\n",
      " [1.61712971]\n",
      " [1.61712971]\n",
      " [1.61712971]\n",
      " [1.61712971]\n",
      " [1.61712971]\n",
      " [1.61712971]]\n"
     ]
    },
    {
     "name": "stderr",
     "output_type": "stream",
     "text": [
      "/tmp/ipykernel_4439/2526487313.py:2: FutureWarning: Support for multi-dimensional indexing (e.g. `obj[:, None]`) is deprecated and will be removed in a future version.  Convert to a numpy array before indexing instead.\n",
      "  saleprice_scaled = StandardScaler().fit_transform(df_train['Price'][:,np.newaxis]);\n"
     ]
    }
   ],
   "source": [
    "#standardizing data\n",
    "saleprice_scaled = StandardScaler().fit_transform(df_train['Price'][:,np.newaxis]);\n",
    "low_range = saleprice_scaled[saleprice_scaled[:,0].argsort()][:10]\n",
    "high_range= saleprice_scaled[saleprice_scaled[:,0].argsort()][-10:]\n",
    "print('outer range (low) of the distribution:')\n",
    "print(low_range)\n",
    "print('\\nouter range (high) of the distribution:')\n",
    "print(high_range)"
   ]
  },
  {
   "cell_type": "markdown",
   "metadata": {
    "_uuid": "91fc3e063f9fc40b36aee72864be793171f62f32"
   },
   "source": [
    "    -Values that are similar to each other stay close to 0\n",
    "    -Values that are a bit odd get high values such as the 7 values."
   ]
  },
  {
   "cell_type": "markdown",
   "metadata": {
    "_uuid": "8028a479de52da9a0240437ad642f456234688d2"
   },
   "source": [
    "# Prepare data\n",
    "Right now I think we have an idea of what kind of data we are interested in and what data we don't think are useful for us. Let's build a pipeline for removing the data."
   ]
  },
  {
   "cell_type": "markdown",
   "metadata": {
    "_uuid": "a59af02c285e253ac8fb2b54e43f0598480babf2"
   },
   "source": [
    "Let's reload the data so we can have a fresh start!"
   ]
  },
  {
   "cell_type": "code",
   "execution_count": 14,
   "metadata": {
    "_uuid": "58901f4a6c2a09dec4ad37fd4324e53f9af86572",
    "execution": {
     "iopub.execute_input": "2022-11-17T15:06:45.200347Z",
     "iopub.status.busy": "2022-11-17T15:06:45.200158Z",
     "iopub.status.idle": "2022-11-17T15:06:45.252124Z",
     "shell.execute_reply": "2022-11-17T15:06:45.251393Z",
     "shell.execute_reply.started": "2022-11-17T15:06:45.200336Z"
    }
   },
   "outputs": [],
   "source": [
    "df_train = pd.read_csv('untidy_df_listings_v06.csv', index_col=0)"
   ]
  },
  {
   "cell_type": "markdown",
   "metadata": {
    "_uuid": "1d03fb5b6cdd841a9fe0983595b2f379e24b2755"
   },
   "source": [
    "Let's not log the data since a neural network is quite good at working with non-linear data. I also tested and verified that the model didn't perform better or worse if I logged the data before hand."
   ]
  },
  {
   "cell_type": "code",
   "execution_count": 15,
   "metadata": {
    "_uuid": "6ce8bbf540debd24e8fd5a63c53c28a8a7e1b5d2",
    "execution": {
     "iopub.execute_input": "2022-11-17T15:06:45.253029Z",
     "iopub.status.busy": "2022-11-17T15:06:45.252856Z",
     "iopub.status.idle": "2022-11-17T15:06:45.274416Z",
     "shell.execute_reply": "2022-11-17T15:06:45.273844Z",
     "shell.execute_reply.started": "2022-11-17T15:06:45.253014Z"
    }
   },
   "outputs": [
    {
     "data": {
      "text/plain": "((17843, 7), (17843,))"
     },
     "execution_count": 15,
     "metadata": {},
     "output_type": "execute_result"
    }
   ],
   "source": [
    "cols = ['Price','bedrooms','bathrooms','nearestStation','location.latitude','location.longitude','latitude_deviation','longitude_deviation']\n",
    "features = ['bedrooms','bathrooms','nearestStation','location.latitude','location.longitude','latitude_deviation','longitude_deviation']\n",
    "df_train = df_train[cols]\n",
    "# Create dummy values\n",
    "df_train = pd.get_dummies(df_train)\n",
    "#filling NA's with the mean of the column:\n",
    "df_train = df_train.fillna(df_train.mean())\n",
    "# Always standard scale the data before using NN\n",
    "scale = StandardScaler()\n",
    "X_train = df_train[features]\n",
    "X_train = scale.fit_transform(X_train)\n",
    "# Y is just the 'SalePrice' column\n",
    "y = df_train['Price'].values\n",
    "seed = 7\n",
    "np.random.seed(seed)\n",
    "# split into 67% for train and 33% for test\n",
    "X_train, X_test, y_train, y_test = train_test_split(X_train, y, test_size=0.33, random_state=seed)\n",
    "X_test.shape, y_test.shape"
   ]
  },
  {
   "cell_type": "code",
   "execution_count": 16,
   "metadata": {
    "_uuid": "30d990717c54ee2a96c9687bd4e6a82a21abd560",
    "execution": {
     "iopub.execute_input": "2022-11-17T15:06:45.275275Z",
     "iopub.status.busy": "2022-11-17T15:06:45.275110Z",
     "iopub.status.idle": "2022-11-17T15:06:45.278965Z",
     "shell.execute_reply": "2022-11-17T15:06:45.278455Z",
     "shell.execute_reply.started": "2022-11-17T15:06:45.275262Z"
    }
   },
   "outputs": [],
   "source": [
    "def create_model():\n",
    "    # create model\n",
    "    model = Sequential()\n",
    "    model.add(Dense(10, input_dim=X_train.shape[1], activation='relu'))\n",
    "    model.add(Dense(30, activation='relu'))\n",
    "    model.add(Dense(40, activation='relu'))\n",
    "    model.add(Dense(1))\n",
    "    # Compile model\n",
    "    model.compile(optimizer ='adam', loss = 'mean_squared_error', \n",
    "              metrics =[metrics.mae])\n",
    "    return model"
   ]
  },
  {
   "cell_type": "code",
   "execution_count": 17,
   "metadata": {
    "_uuid": "9a77c30ae22162e72bba30c1f8616fbb35a5e0dc",
    "execution": {
     "iopub.execute_input": "2022-11-17T15:06:45.279667Z",
     "iopub.status.busy": "2022-11-17T15:06:45.279474Z",
     "iopub.status.idle": "2022-11-17T15:06:46.188032Z",
     "shell.execute_reply": "2022-11-17T15:06:46.187472Z",
     "shell.execute_reply.started": "2022-11-17T15:06:45.279653Z"
    },
    "scrolled": true
   },
   "outputs": [
    {
     "name": "stdout",
     "output_type": "stream",
     "text": [
      "Model: \"sequential\"\n",
      "_________________________________________________________________\n",
      " Layer (type)                Output Shape              Param #   \n",
      "=================================================================\n",
      " dense (Dense)               (None, 10)                80        \n",
      "                                                                 \n",
      " dense_1 (Dense)             (None, 30)                330       \n",
      "                                                                 \n",
      " dense_2 (Dense)             (None, 40)                1240      \n",
      "                                                                 \n",
      " dense_3 (Dense)             (None, 1)                 41        \n",
      "                                                                 \n",
      "=================================================================\n",
      "Total params: 1,691\n",
      "Trainable params: 1,691\n",
      "Non-trainable params: 0\n",
      "_________________________________________________________________\n"
     ]
    },
    {
     "name": "stderr",
     "output_type": "stream",
     "text": [
      "2022-11-28 14:02:34.651485: I tensorflow/core/platform/cpu_feature_guard.cc:193] This TensorFlow binary is optimized with oneAPI Deep Neural Network Library (oneDNN) to use the following CPU instructions in performance-critical operations:  AVX2\n",
      "To enable them in other operations, rebuild TensorFlow with the appropriate compiler flags.\n"
     ]
    }
   ],
   "source": [
    "model = create_model()\n",
    "model.summary()"
   ]
  },
  {
   "cell_type": "code",
   "execution_count": 18,
   "metadata": {
    "_uuid": "30008da456af620fb89a59aeaac613f1c7d5e9bf",
    "execution": {
     "iopub.execute_input": "2022-11-17T15:06:46.189351Z",
     "iopub.status.busy": "2022-11-17T15:06:46.189172Z",
     "iopub.status.idle": "2022-11-17T15:12:25.472463Z",
     "shell.execute_reply": "2022-11-17T15:12:25.471938Z",
     "shell.execute_reply.started": "2022-11-17T15:06:46.189334Z"
    },
    "scrolled": true
   },
   "outputs": [
    {
     "name": "stdout",
     "output_type": "stream",
     "text": [
      "Epoch 1/150\n",
      "1132/1132 [==============================] - 4s 3ms/step - loss: 146806063104.0000 - mean_absolute_error: 360056.7500 - val_loss: 47202856960.0000 - val_mean_absolute_error: 185439.0469\n",
      "Epoch 2/150\n",
      "1132/1132 [==============================] - 2s 2ms/step - loss: 18256691200.0000 - mean_absolute_error: 108090.4453 - val_loss: 17515839488.0000 - val_mean_absolute_error: 96529.9141\n",
      "Epoch 3/150\n",
      "1132/1132 [==============================] - 2s 2ms/step - loss: 13315256320.0000 - mean_absolute_error: 94097.2266 - val_loss: 16552047616.0000 - val_mean_absolute_error: 94241.0312\n",
      "Epoch 4/150\n",
      "1132/1132 [==============================] - 2s 2ms/step - loss: 12752091136.0000 - mean_absolute_error: 92383.7031 - val_loss: 15738345472.0000 - val_mean_absolute_error: 92854.0078\n",
      "Epoch 5/150\n",
      "1132/1132 [==============================] - 2s 2ms/step - loss: 12436736000.0000 - mean_absolute_error: 91397.2266 - val_loss: 15052619776.0000 - val_mean_absolute_error: 92203.7969\n",
      "Epoch 6/150\n",
      "1132/1132 [==============================] - 2s 2ms/step - loss: 12234001408.0000 - mean_absolute_error: 90807.8984 - val_loss: 14490552320.0000 - val_mean_absolute_error: 91658.6641\n",
      "Epoch 7/150\n",
      "1132/1132 [==============================] - 3s 2ms/step - loss: 12091639808.0000 - mean_absolute_error: 90386.8281 - val_loss: 14092011520.0000 - val_mean_absolute_error: 91344.2031\n",
      "Epoch 8/150\n",
      "1132/1132 [==============================] - 2s 2ms/step - loss: 11983101952.0000 - mean_absolute_error: 90080.6953 - val_loss: 13745357824.0000 - val_mean_absolute_error: 90996.3281\n",
      "Epoch 9/150\n",
      "1132/1132 [==============================] - 2s 2ms/step - loss: 11898875904.0000 - mean_absolute_error: 89811.8906 - val_loss: 13509100544.0000 - val_mean_absolute_error: 90763.1797\n",
      "Epoch 10/150\n",
      "1132/1132 [==============================] - 2s 2ms/step - loss: 11839418368.0000 - mean_absolute_error: 89635.5625 - val_loss: 13226149888.0000 - val_mean_absolute_error: 90709.1094\n",
      "Epoch 11/150\n",
      "1132/1132 [==============================] - 2s 2ms/step - loss: 11799098368.0000 - mean_absolute_error: 89521.6094 - val_loss: 13069239296.0000 - val_mean_absolute_error: 90687.1484\n",
      "Epoch 12/150\n",
      "1132/1132 [==============================] - 2s 2ms/step - loss: 11775153152.0000 - mean_absolute_error: 89452.3828 - val_loss: 12920337408.0000 - val_mean_absolute_error: 90432.0234\n",
      "Epoch 13/150\n",
      "1132/1132 [==============================] - 2s 2ms/step - loss: 11751993344.0000 - mean_absolute_error: 89381.9297 - val_loss: 12846313472.0000 - val_mean_absolute_error: 90271.3828\n",
      "Epoch 14/150\n",
      "1132/1132 [==============================] - 3s 3ms/step - loss: 11742176256.0000 - mean_absolute_error: 89348.2891 - val_loss: 12765309952.0000 - val_mean_absolute_error: 90241.6250\n",
      "Epoch 15/150\n",
      "1132/1132 [==============================] - 2s 2ms/step - loss: 11729890304.0000 - mean_absolute_error: 89301.4609 - val_loss: 12681591808.0000 - val_mean_absolute_error: 90247.5391\n",
      "Epoch 16/150\n",
      "1132/1132 [==============================] - 2s 2ms/step - loss: 11722439680.0000 - mean_absolute_error: 89284.0547 - val_loss: 12603209728.0000 - val_mean_absolute_error: 90297.9375\n",
      "Epoch 17/150\n",
      "1132/1132 [==============================] - 2s 2ms/step - loss: 11716377600.0000 - mean_absolute_error: 89291.2656 - val_loss: 12558197760.0000 - val_mean_absolute_error: 90144.5000\n",
      "Epoch 18/150\n",
      "1132/1132 [==============================] - 2s 2ms/step - loss: 11709006848.0000 - mean_absolute_error: 89252.7734 - val_loss: 12530810880.0000 - val_mean_absolute_error: 90040.6016\n",
      "Epoch 19/150\n",
      "1132/1132 [==============================] - 2s 2ms/step - loss: 11703911424.0000 - mean_absolute_error: 89196.1328 - val_loss: 12461235200.0000 - val_mean_absolute_error: 90158.6719\n",
      "Epoch 20/150\n",
      "1132/1132 [==============================] - 2s 2ms/step - loss: 11699268608.0000 - mean_absolute_error: 89201.7812 - val_loss: 12433386496.0000 - val_mean_absolute_error: 90077.4062\n",
      "Epoch 21/150\n",
      "1132/1132 [==============================] - 2s 2ms/step - loss: 11695796224.0000 - mean_absolute_error: 89177.3438 - val_loss: 12402838528.0000 - val_mean_absolute_error: 90207.8906\n",
      "Epoch 22/150\n",
      "1132/1132 [==============================] - 3s 2ms/step - loss: 11686966272.0000 - mean_absolute_error: 89168.0156 - val_loss: 12364753920.0000 - val_mean_absolute_error: 90080.4609\n",
      "Epoch 23/150\n",
      "1132/1132 [==============================] - 3s 2ms/step - loss: 11685493760.0000 - mean_absolute_error: 89134.8203 - val_loss: 12350221312.0000 - val_mean_absolute_error: 90025.3516\n",
      "Epoch 24/150\n",
      "1132/1132 [==============================] - 2s 2ms/step - loss: 11684656128.0000 - mean_absolute_error: 89132.0234 - val_loss: 12315750400.0000 - val_mean_absolute_error: 90030.3672\n",
      "Epoch 25/150\n",
      "1132/1132 [==============================] - 3s 2ms/step - loss: 11677904896.0000 - mean_absolute_error: 89104.1328 - val_loss: 12297923584.0000 - val_mean_absolute_error: 89991.0000\n",
      "Epoch 26/150\n",
      "1132/1132 [==============================] - 2s 2ms/step - loss: 11675377664.0000 - mean_absolute_error: 89084.5312 - val_loss: 12282698752.0000 - val_mean_absolute_error: 89971.3438\n",
      "Epoch 27/150\n",
      "1132/1132 [==============================] - 2s 2ms/step - loss: 11670656000.0000 - mean_absolute_error: 89066.4766 - val_loss: 12256576512.0000 - val_mean_absolute_error: 89906.7578\n",
      "Epoch 28/150\n",
      "1132/1132 [==============================] - 2s 2ms/step - loss: 11669666816.0000 - mean_absolute_error: 89062.4219 - val_loss: 12261105664.0000 - val_mean_absolute_error: 89870.4531\n",
      "Epoch 29/150\n",
      "1132/1132 [==============================] - 2s 2ms/step - loss: 11666017280.0000 - mean_absolute_error: 89028.8984 - val_loss: 12218620928.0000 - val_mean_absolute_error: 89865.6953\n",
      "Epoch 30/150\n",
      "1132/1132 [==============================] - 2s 2ms/step - loss: 11659662336.0000 - mean_absolute_error: 89013.6875 - val_loss: 12228942848.0000 - val_mean_absolute_error: 89844.3984\n",
      "Epoch 31/150\n",
      "1132/1132 [==============================] - 2s 2ms/step - loss: 11664598016.0000 - mean_absolute_error: 89025.9453 - val_loss: 12183398400.0000 - val_mean_absolute_error: 89858.8047\n",
      "Epoch 32/150\n",
      "1132/1132 [==============================] - 3s 2ms/step - loss: 11662410752.0000 - mean_absolute_error: 89029.5859 - val_loss: 12198663168.0000 - val_mean_absolute_error: 89885.4375\n",
      "Epoch 33/150\n",
      "1132/1132 [==============================] - 2s 2ms/step - loss: 11657963520.0000 - mean_absolute_error: 89033.0000 - val_loss: 12222484480.0000 - val_mean_absolute_error: 89792.0938\n",
      "Epoch 34/150\n",
      "1132/1132 [==============================] - 2s 2ms/step - loss: 11658166272.0000 - mean_absolute_error: 89006.3359 - val_loss: 12194143232.0000 - val_mean_absolute_error: 89826.5469\n",
      "Epoch 35/150\n",
      "1132/1132 [==============================] - 2s 2ms/step - loss: 11657940992.0000 - mean_absolute_error: 89020.3281 - val_loss: 12213376000.0000 - val_mean_absolute_error: 89721.5547\n",
      "Epoch 36/150\n",
      "1132/1132 [==============================] - 2s 2ms/step - loss: 11654862848.0000 - mean_absolute_error: 88954.5859 - val_loss: 12163355648.0000 - val_mean_absolute_error: 89979.5703\n",
      "Epoch 37/150\n",
      "1132/1132 [==============================] - 3s 2ms/step - loss: 11654853632.0000 - mean_absolute_error: 88993.5938 - val_loss: 12161541120.0000 - val_mean_absolute_error: 89863.5391\n",
      "Epoch 38/150\n",
      "1132/1132 [==============================] - 5s 4ms/step - loss: 11649420288.0000 - mean_absolute_error: 89005.5703 - val_loss: 12200763392.0000 - val_mean_absolute_error: 89793.1172\n",
      "Epoch 39/150\n",
      "1132/1132 [==============================] - 6s 6ms/step - loss: 11654153216.0000 - mean_absolute_error: 88984.2188 - val_loss: 12214267904.0000 - val_mean_absolute_error: 89843.1016\n",
      "Epoch 40/150\n",
      "1132/1132 [==============================] - 5s 4ms/step - loss: 11650258944.0000 - mean_absolute_error: 88967.4844 - val_loss: 12215557120.0000 - val_mean_absolute_error: 89828.0078\n",
      "Epoch 41/150\n",
      "1132/1132 [==============================] - 6s 6ms/step - loss: 11649683456.0000 - mean_absolute_error: 88991.4453 - val_loss: 12216452096.0000 - val_mean_absolute_error: 89716.1094\n",
      "Epoch 42/150\n",
      "1132/1132 [==============================] - 5s 4ms/step - loss: 11649433600.0000 - mean_absolute_error: 88945.1641 - val_loss: 12195312640.0000 - val_mean_absolute_error: 89853.4141\n",
      "Epoch 43/150\n",
      "1132/1132 [==============================] - 7s 6ms/step - loss: 11646519296.0000 - mean_absolute_error: 88946.6250 - val_loss: 12203637760.0000 - val_mean_absolute_error: 89754.9688\n",
      "Epoch 44/150\n",
      "1132/1132 [==============================] - 2s 2ms/step - loss: 11647960064.0000 - mean_absolute_error: 88948.8984 - val_loss: 12199271424.0000 - val_mean_absolute_error: 89862.5156\n",
      "Epoch 45/150\n",
      "1132/1132 [==============================] - 3s 2ms/step - loss: 11647325184.0000 - mean_absolute_error: 88930.9219 - val_loss: 12163492864.0000 - val_mean_absolute_error: 89780.6953\n",
      "Epoch 46/150\n",
      " 196/1132 [====>.........................] - ETA: 1s - loss: 11422338048.0000 - mean_absolute_error: 88191.0391"
     ]
    },
    {
     "name": "stderr",
     "output_type": "stream",
     "text": [
      "Exception ignored in: <function UniquePtr.__del__ at 0x7ffa73466430>\n",
      "Traceback (most recent call last):\n",
      "  File \"/home/guava/PycharmProjects/capstone_streamlit/venv/lib/python3.8/site-packages/tensorflow/python/framework/c_api_util.py\", line 70, in __del__\n",
      "    def __del__(self):\n",
      "KeyboardInterrupt: \n"
     ]
    },
    {
     "ename": "KeyboardInterrupt",
     "evalue": "",
     "output_type": "error",
     "traceback": [
      "\u001B[0;31m---------------------------------------------------------------------------\u001B[0m",
      "\u001B[0;31mKeyboardInterrupt\u001B[0m                         Traceback (most recent call last)",
      "Cell \u001B[0;32mIn [18], line 1\u001B[0m\n\u001B[0;32m----> 1\u001B[0m history \u001B[38;5;241m=\u001B[39m model\u001B[38;5;241m.\u001B[39mfit(X_train, y_train, validation_data\u001B[38;5;241m=\u001B[39m(X_test,y_test), epochs\u001B[38;5;241m=\u001B[39m\u001B[38;5;241m150\u001B[39m, batch_size\u001B[38;5;241m=\u001B[39m\u001B[38;5;241m32\u001B[39m)\n",
      "File \u001B[0;32m~/PycharmProjects/capstone_streamlit/venv/lib/python3.8/site-packages/keras/utils/traceback_utils.py:65\u001B[0m, in \u001B[0;36mfilter_traceback.<locals>.error_handler\u001B[0;34m(*args, **kwargs)\u001B[0m\n\u001B[1;32m     63\u001B[0m filtered_tb \u001B[38;5;241m=\u001B[39m \u001B[38;5;28;01mNone\u001B[39;00m\n\u001B[1;32m     64\u001B[0m \u001B[38;5;28;01mtry\u001B[39;00m:\n\u001B[0;32m---> 65\u001B[0m     \u001B[38;5;28;01mreturn\u001B[39;00m \u001B[43mfn\u001B[49m\u001B[43m(\u001B[49m\u001B[38;5;241;43m*\u001B[39;49m\u001B[43margs\u001B[49m\u001B[43m,\u001B[49m\u001B[43m \u001B[49m\u001B[38;5;241;43m*\u001B[39;49m\u001B[38;5;241;43m*\u001B[39;49m\u001B[43mkwargs\u001B[49m\u001B[43m)\u001B[49m\n\u001B[1;32m     66\u001B[0m \u001B[38;5;28;01mexcept\u001B[39;00m \u001B[38;5;167;01mException\u001B[39;00m \u001B[38;5;28;01mas\u001B[39;00m e:\n\u001B[1;32m     67\u001B[0m     filtered_tb \u001B[38;5;241m=\u001B[39m _process_traceback_frames(e\u001B[38;5;241m.\u001B[39m__traceback__)\n",
      "File \u001B[0;32m~/PycharmProjects/capstone_streamlit/venv/lib/python3.8/site-packages/keras/engine/training.py:1564\u001B[0m, in \u001B[0;36mModel.fit\u001B[0;34m(self, x, y, batch_size, epochs, verbose, callbacks, validation_split, validation_data, shuffle, class_weight, sample_weight, initial_epoch, steps_per_epoch, validation_steps, validation_batch_size, validation_freq, max_queue_size, workers, use_multiprocessing)\u001B[0m\n\u001B[1;32m   1556\u001B[0m \u001B[38;5;28;01mwith\u001B[39;00m tf\u001B[38;5;241m.\u001B[39mprofiler\u001B[38;5;241m.\u001B[39mexperimental\u001B[38;5;241m.\u001B[39mTrace(\n\u001B[1;32m   1557\u001B[0m     \u001B[38;5;124m\"\u001B[39m\u001B[38;5;124mtrain\u001B[39m\u001B[38;5;124m\"\u001B[39m,\n\u001B[1;32m   1558\u001B[0m     epoch_num\u001B[38;5;241m=\u001B[39mepoch,\n\u001B[0;32m   (...)\u001B[0m\n\u001B[1;32m   1561\u001B[0m     _r\u001B[38;5;241m=\u001B[39m\u001B[38;5;241m1\u001B[39m,\n\u001B[1;32m   1562\u001B[0m ):\n\u001B[1;32m   1563\u001B[0m     callbacks\u001B[38;5;241m.\u001B[39mon_train_batch_begin(step)\n\u001B[0;32m-> 1564\u001B[0m     tmp_logs \u001B[38;5;241m=\u001B[39m \u001B[38;5;28;43mself\u001B[39;49m\u001B[38;5;241;43m.\u001B[39;49m\u001B[43mtrain_function\u001B[49m\u001B[43m(\u001B[49m\u001B[43miterator\u001B[49m\u001B[43m)\u001B[49m\n\u001B[1;32m   1565\u001B[0m     \u001B[38;5;28;01mif\u001B[39;00m data_handler\u001B[38;5;241m.\u001B[39mshould_sync:\n\u001B[1;32m   1566\u001B[0m         context\u001B[38;5;241m.\u001B[39masync_wait()\n",
      "File \u001B[0;32m~/PycharmProjects/capstone_streamlit/venv/lib/python3.8/site-packages/tensorflow/python/util/traceback_utils.py:150\u001B[0m, in \u001B[0;36mfilter_traceback.<locals>.error_handler\u001B[0;34m(*args, **kwargs)\u001B[0m\n\u001B[1;32m    148\u001B[0m filtered_tb \u001B[38;5;241m=\u001B[39m \u001B[38;5;28;01mNone\u001B[39;00m\n\u001B[1;32m    149\u001B[0m \u001B[38;5;28;01mtry\u001B[39;00m:\n\u001B[0;32m--> 150\u001B[0m   \u001B[38;5;28;01mreturn\u001B[39;00m \u001B[43mfn\u001B[49m\u001B[43m(\u001B[49m\u001B[38;5;241;43m*\u001B[39;49m\u001B[43margs\u001B[49m\u001B[43m,\u001B[49m\u001B[43m \u001B[49m\u001B[38;5;241;43m*\u001B[39;49m\u001B[38;5;241;43m*\u001B[39;49m\u001B[43mkwargs\u001B[49m\u001B[43m)\u001B[49m\n\u001B[1;32m    151\u001B[0m \u001B[38;5;28;01mexcept\u001B[39;00m \u001B[38;5;167;01mException\u001B[39;00m \u001B[38;5;28;01mas\u001B[39;00m e:\n\u001B[1;32m    152\u001B[0m   filtered_tb \u001B[38;5;241m=\u001B[39m _process_traceback_frames(e\u001B[38;5;241m.\u001B[39m__traceback__)\n",
      "File \u001B[0;32m~/PycharmProjects/capstone_streamlit/venv/lib/python3.8/site-packages/tensorflow/python/eager/def_function.py:915\u001B[0m, in \u001B[0;36mFunction.__call__\u001B[0;34m(self, *args, **kwds)\u001B[0m\n\u001B[1;32m    912\u001B[0m compiler \u001B[38;5;241m=\u001B[39m \u001B[38;5;124m\"\u001B[39m\u001B[38;5;124mxla\u001B[39m\u001B[38;5;124m\"\u001B[39m \u001B[38;5;28;01mif\u001B[39;00m \u001B[38;5;28mself\u001B[39m\u001B[38;5;241m.\u001B[39m_jit_compile \u001B[38;5;28;01melse\u001B[39;00m \u001B[38;5;124m\"\u001B[39m\u001B[38;5;124mnonXla\u001B[39m\u001B[38;5;124m\"\u001B[39m\n\u001B[1;32m    914\u001B[0m \u001B[38;5;28;01mwith\u001B[39;00m OptionalXlaContext(\u001B[38;5;28mself\u001B[39m\u001B[38;5;241m.\u001B[39m_jit_compile):\n\u001B[0;32m--> 915\u001B[0m   result \u001B[38;5;241m=\u001B[39m \u001B[38;5;28;43mself\u001B[39;49m\u001B[38;5;241;43m.\u001B[39;49m\u001B[43m_call\u001B[49m\u001B[43m(\u001B[49m\u001B[38;5;241;43m*\u001B[39;49m\u001B[43margs\u001B[49m\u001B[43m,\u001B[49m\u001B[43m \u001B[49m\u001B[38;5;241;43m*\u001B[39;49m\u001B[38;5;241;43m*\u001B[39;49m\u001B[43mkwds\u001B[49m\u001B[43m)\u001B[49m\n\u001B[1;32m    917\u001B[0m new_tracing_count \u001B[38;5;241m=\u001B[39m \u001B[38;5;28mself\u001B[39m\u001B[38;5;241m.\u001B[39mexperimental_get_tracing_count()\n\u001B[1;32m    918\u001B[0m without_tracing \u001B[38;5;241m=\u001B[39m (tracing_count \u001B[38;5;241m==\u001B[39m new_tracing_count)\n",
      "File \u001B[0;32m~/PycharmProjects/capstone_streamlit/venv/lib/python3.8/site-packages/tensorflow/python/eager/def_function.py:947\u001B[0m, in \u001B[0;36mFunction._call\u001B[0;34m(self, *args, **kwds)\u001B[0m\n\u001B[1;32m    944\u001B[0m   \u001B[38;5;28mself\u001B[39m\u001B[38;5;241m.\u001B[39m_lock\u001B[38;5;241m.\u001B[39mrelease()\n\u001B[1;32m    945\u001B[0m   \u001B[38;5;66;03m# In this case we have created variables on the first call, so we run the\u001B[39;00m\n\u001B[1;32m    946\u001B[0m   \u001B[38;5;66;03m# defunned version which is guaranteed to never create variables.\u001B[39;00m\n\u001B[0;32m--> 947\u001B[0m   \u001B[38;5;28;01mreturn\u001B[39;00m \u001B[38;5;28;43mself\u001B[39;49m\u001B[38;5;241;43m.\u001B[39;49m\u001B[43m_stateless_fn\u001B[49m\u001B[43m(\u001B[49m\u001B[38;5;241;43m*\u001B[39;49m\u001B[43margs\u001B[49m\u001B[43m,\u001B[49m\u001B[43m \u001B[49m\u001B[38;5;241;43m*\u001B[39;49m\u001B[38;5;241;43m*\u001B[39;49m\u001B[43mkwds\u001B[49m\u001B[43m)\u001B[49m  \u001B[38;5;66;03m# pylint: disable=not-callable\u001B[39;00m\n\u001B[1;32m    948\u001B[0m \u001B[38;5;28;01melif\u001B[39;00m \u001B[38;5;28mself\u001B[39m\u001B[38;5;241m.\u001B[39m_stateful_fn \u001B[38;5;129;01mis\u001B[39;00m \u001B[38;5;129;01mnot\u001B[39;00m \u001B[38;5;28;01mNone\u001B[39;00m:\n\u001B[1;32m    949\u001B[0m   \u001B[38;5;66;03m# Release the lock early so that multiple threads can perform the call\u001B[39;00m\n\u001B[1;32m    950\u001B[0m   \u001B[38;5;66;03m# in parallel.\u001B[39;00m\n\u001B[1;32m    951\u001B[0m   \u001B[38;5;28mself\u001B[39m\u001B[38;5;241m.\u001B[39m_lock\u001B[38;5;241m.\u001B[39mrelease()\n",
      "File \u001B[0;32m~/PycharmProjects/capstone_streamlit/venv/lib/python3.8/site-packages/tensorflow/python/eager/function.py:2496\u001B[0m, in \u001B[0;36mFunction.__call__\u001B[0;34m(self, *args, **kwargs)\u001B[0m\n\u001B[1;32m   2493\u001B[0m \u001B[38;5;28;01mwith\u001B[39;00m \u001B[38;5;28mself\u001B[39m\u001B[38;5;241m.\u001B[39m_lock:\n\u001B[1;32m   2494\u001B[0m   (graph_function,\n\u001B[1;32m   2495\u001B[0m    filtered_flat_args) \u001B[38;5;241m=\u001B[39m \u001B[38;5;28mself\u001B[39m\u001B[38;5;241m.\u001B[39m_maybe_define_function(args, kwargs)\n\u001B[0;32m-> 2496\u001B[0m \u001B[38;5;28;01mreturn\u001B[39;00m \u001B[43mgraph_function\u001B[49m\u001B[38;5;241;43m.\u001B[39;49m\u001B[43m_call_flat\u001B[49m\u001B[43m(\u001B[49m\n\u001B[1;32m   2497\u001B[0m \u001B[43m    \u001B[49m\u001B[43mfiltered_flat_args\u001B[49m\u001B[43m,\u001B[49m\u001B[43m \u001B[49m\u001B[43mcaptured_inputs\u001B[49m\u001B[38;5;241;43m=\u001B[39;49m\u001B[43mgraph_function\u001B[49m\u001B[38;5;241;43m.\u001B[39;49m\u001B[43mcaptured_inputs\u001B[49m\u001B[43m)\u001B[49m\n",
      "File \u001B[0;32m~/PycharmProjects/capstone_streamlit/venv/lib/python3.8/site-packages/tensorflow/python/eager/function.py:1862\u001B[0m, in \u001B[0;36mConcreteFunction._call_flat\u001B[0;34m(self, args, captured_inputs, cancellation_manager)\u001B[0m\n\u001B[1;32m   1858\u001B[0m possible_gradient_type \u001B[38;5;241m=\u001B[39m gradients_util\u001B[38;5;241m.\u001B[39mPossibleTapeGradientTypes(args)\n\u001B[1;32m   1859\u001B[0m \u001B[38;5;28;01mif\u001B[39;00m (possible_gradient_type \u001B[38;5;241m==\u001B[39m gradients_util\u001B[38;5;241m.\u001B[39mPOSSIBLE_GRADIENT_TYPES_NONE\n\u001B[1;32m   1860\u001B[0m     \u001B[38;5;129;01mand\u001B[39;00m executing_eagerly):\n\u001B[1;32m   1861\u001B[0m   \u001B[38;5;66;03m# No tape is watching; skip to running the function.\u001B[39;00m\n\u001B[0;32m-> 1862\u001B[0m   \u001B[38;5;28;01mreturn\u001B[39;00m \u001B[38;5;28mself\u001B[39m\u001B[38;5;241m.\u001B[39m_build_call_outputs(\u001B[38;5;28;43mself\u001B[39;49m\u001B[38;5;241;43m.\u001B[39;49m\u001B[43m_inference_function\u001B[49m\u001B[38;5;241;43m.\u001B[39;49m\u001B[43mcall\u001B[49m\u001B[43m(\u001B[49m\n\u001B[1;32m   1863\u001B[0m \u001B[43m      \u001B[49m\u001B[43mctx\u001B[49m\u001B[43m,\u001B[49m\u001B[43m \u001B[49m\u001B[43margs\u001B[49m\u001B[43m,\u001B[49m\u001B[43m \u001B[49m\u001B[43mcancellation_manager\u001B[49m\u001B[38;5;241;43m=\u001B[39;49m\u001B[43mcancellation_manager\u001B[49m\u001B[43m)\u001B[49m)\n\u001B[1;32m   1864\u001B[0m forward_backward \u001B[38;5;241m=\u001B[39m \u001B[38;5;28mself\u001B[39m\u001B[38;5;241m.\u001B[39m_select_forward_and_backward_functions(\n\u001B[1;32m   1865\u001B[0m     args,\n\u001B[1;32m   1866\u001B[0m     possible_gradient_type,\n\u001B[1;32m   1867\u001B[0m     executing_eagerly)\n\u001B[1;32m   1868\u001B[0m forward_function, args_with_tangents \u001B[38;5;241m=\u001B[39m forward_backward\u001B[38;5;241m.\u001B[39mforward()\n",
      "File \u001B[0;32m~/PycharmProjects/capstone_streamlit/venv/lib/python3.8/site-packages/tensorflow/python/eager/function.py:499\u001B[0m, in \u001B[0;36m_EagerDefinedFunction.call\u001B[0;34m(self, ctx, args, cancellation_manager)\u001B[0m\n\u001B[1;32m    497\u001B[0m \u001B[38;5;28;01mwith\u001B[39;00m _InterpolateFunctionError(\u001B[38;5;28mself\u001B[39m):\n\u001B[1;32m    498\u001B[0m   \u001B[38;5;28;01mif\u001B[39;00m cancellation_manager \u001B[38;5;129;01mis\u001B[39;00m \u001B[38;5;28;01mNone\u001B[39;00m:\n\u001B[0;32m--> 499\u001B[0m     outputs \u001B[38;5;241m=\u001B[39m \u001B[43mexecute\u001B[49m\u001B[38;5;241;43m.\u001B[39;49m\u001B[43mexecute\u001B[49m\u001B[43m(\u001B[49m\n\u001B[1;32m    500\u001B[0m \u001B[43m        \u001B[49m\u001B[38;5;28;43mstr\u001B[39;49m\u001B[43m(\u001B[49m\u001B[38;5;28;43mself\u001B[39;49m\u001B[38;5;241;43m.\u001B[39;49m\u001B[43msignature\u001B[49m\u001B[38;5;241;43m.\u001B[39;49m\u001B[43mname\u001B[49m\u001B[43m)\u001B[49m\u001B[43m,\u001B[49m\n\u001B[1;32m    501\u001B[0m \u001B[43m        \u001B[49m\u001B[43mnum_outputs\u001B[49m\u001B[38;5;241;43m=\u001B[39;49m\u001B[38;5;28;43mself\u001B[39;49m\u001B[38;5;241;43m.\u001B[39;49m\u001B[43m_num_outputs\u001B[49m\u001B[43m,\u001B[49m\n\u001B[1;32m    502\u001B[0m \u001B[43m        \u001B[49m\u001B[43minputs\u001B[49m\u001B[38;5;241;43m=\u001B[39;49m\u001B[43margs\u001B[49m\u001B[43m,\u001B[49m\n\u001B[1;32m    503\u001B[0m \u001B[43m        \u001B[49m\u001B[43mattrs\u001B[49m\u001B[38;5;241;43m=\u001B[39;49m\u001B[43mattrs\u001B[49m\u001B[43m,\u001B[49m\n\u001B[1;32m    504\u001B[0m \u001B[43m        \u001B[49m\u001B[43mctx\u001B[49m\u001B[38;5;241;43m=\u001B[39;49m\u001B[43mctx\u001B[49m\u001B[43m)\u001B[49m\n\u001B[1;32m    505\u001B[0m   \u001B[38;5;28;01melse\u001B[39;00m:\n\u001B[1;32m    506\u001B[0m     outputs \u001B[38;5;241m=\u001B[39m execute\u001B[38;5;241m.\u001B[39mexecute_with_cancellation(\n\u001B[1;32m    507\u001B[0m         \u001B[38;5;28mstr\u001B[39m(\u001B[38;5;28mself\u001B[39m\u001B[38;5;241m.\u001B[39msignature\u001B[38;5;241m.\u001B[39mname),\n\u001B[1;32m    508\u001B[0m         num_outputs\u001B[38;5;241m=\u001B[39m\u001B[38;5;28mself\u001B[39m\u001B[38;5;241m.\u001B[39m_num_outputs,\n\u001B[0;32m   (...)\u001B[0m\n\u001B[1;32m    511\u001B[0m         ctx\u001B[38;5;241m=\u001B[39mctx,\n\u001B[1;32m    512\u001B[0m         cancellation_manager\u001B[38;5;241m=\u001B[39mcancellation_manager)\n",
      "File \u001B[0;32m~/PycharmProjects/capstone_streamlit/venv/lib/python3.8/site-packages/tensorflow/python/eager/execute.py:54\u001B[0m, in \u001B[0;36mquick_execute\u001B[0;34m(op_name, num_outputs, inputs, attrs, ctx, name)\u001B[0m\n\u001B[1;32m     52\u001B[0m \u001B[38;5;28;01mtry\u001B[39;00m:\n\u001B[1;32m     53\u001B[0m   ctx\u001B[38;5;241m.\u001B[39mensure_initialized()\n\u001B[0;32m---> 54\u001B[0m   tensors \u001B[38;5;241m=\u001B[39m \u001B[43mpywrap_tfe\u001B[49m\u001B[38;5;241;43m.\u001B[39;49m\u001B[43mTFE_Py_Execute\u001B[49m\u001B[43m(\u001B[49m\u001B[43mctx\u001B[49m\u001B[38;5;241;43m.\u001B[39;49m\u001B[43m_handle\u001B[49m\u001B[43m,\u001B[49m\u001B[43m \u001B[49m\u001B[43mdevice_name\u001B[49m\u001B[43m,\u001B[49m\u001B[43m \u001B[49m\u001B[43mop_name\u001B[49m\u001B[43m,\u001B[49m\n\u001B[1;32m     55\u001B[0m \u001B[43m                                      \u001B[49m\u001B[43minputs\u001B[49m\u001B[43m,\u001B[49m\u001B[43m \u001B[49m\u001B[43mattrs\u001B[49m\u001B[43m,\u001B[49m\u001B[43m \u001B[49m\u001B[43mnum_outputs\u001B[49m\u001B[43m)\u001B[49m\n\u001B[1;32m     56\u001B[0m \u001B[38;5;28;01mexcept\u001B[39;00m core\u001B[38;5;241m.\u001B[39m_NotOkStatusException \u001B[38;5;28;01mas\u001B[39;00m e:\n\u001B[1;32m     57\u001B[0m   \u001B[38;5;28;01mif\u001B[39;00m name \u001B[38;5;129;01mis\u001B[39;00m \u001B[38;5;129;01mnot\u001B[39;00m \u001B[38;5;28;01mNone\u001B[39;00m:\n",
      "\u001B[0;31mKeyboardInterrupt\u001B[0m: "
     ]
    }
   ],
   "source": [
    "history = model.fit(X_train, y_train, validation_data=(X_test,y_test), epochs=150, batch_size=32)"
   ]
  },
  {
   "cell_type": "markdown",
   "metadata": {
    "_uuid": "944e699c04d97aaa7264f0fab5fa8eb3612dcb89"
   },
   "source": [
    "Let's investigate how well this model did!"
   ]
  },
  {
   "cell_type": "code",
   "execution_count": null,
   "metadata": {
    "_uuid": "d642df9bf8c35e3b3f3a8be8e73dc5f271aa4429",
    "execution": {
     "iopub.execute_input": "2022-11-17T15:12:25.473959Z",
     "iopub.status.busy": "2022-11-17T15:12:25.473779Z",
     "iopub.status.idle": "2022-11-17T15:12:25.666861Z",
     "shell.execute_reply": "2022-11-17T15:12:25.666221Z",
     "shell.execute_reply.started": "2022-11-17T15:12:25.473943Z"
    }
   },
   "outputs": [],
   "source": [
    "# summarize history for accuracy\n",
    "plt.plot(history.history['mean_absolute_error'])\n",
    "plt.plot(history.history['val_mean_absolute_error'])\n",
    "plt.title('model accuracy')\n",
    "plt.ylabel('accuracy')\n",
    "plt.xlabel('epoch')\n",
    "plt.legend(['train', 'test'], loc='upper left')\n",
    "plt.show()\n",
    "# summarize history for loss\n",
    "plt.plot(history.history['loss'])\n",
    "plt.plot(history.history['val_loss'])\n",
    "plt.title('model loss')\n",
    "plt.ylabel('loss')\n",
    "plt.xlabel('epoch')\n",
    "plt.legend(['train', 'test'], loc='upper left')\n",
    "plt.show()"
   ]
  },
  {
   "cell_type": "markdown",
   "metadata": {
    "_uuid": "b3c6af154d715d6ecef8a54a6e9485470e7c2385"
   },
   "source": [
    "This result is not very good and gives us a mean absolute error just above 20000 dollars. I beleive this model performs bad due to the fact that we have a quite small data-set becuase a neural network performs the best when having a big dataset. "
   ]
  },
  {
   "cell_type": "code",
   "execution_count": null,
   "metadata": {
    "_uuid": "656ac4cee8aba9da1488ad0d24e7dfdba16cf3bd",
    "execution": {
     "iopub.execute_input": "2022-11-17T15:12:25.668536Z",
     "iopub.status.busy": "2022-11-17T15:12:25.668343Z",
     "iopub.status.idle": "2022-11-17T15:12:26.353971Z",
     "shell.execute_reply": "2022-11-17T15:12:26.353223Z",
     "shell.execute_reply.started": "2022-11-17T15:12:25.668520Z"
    }
   },
   "outputs": [],
   "source": [
    "# Read in train data\n",
    "try:\n",
    "    df_train = pd.read_csv('untidy_df_listings_v06.csv', index_col=0)\n",
    "except:\n",
    "    !wget https://raw.githubusercontent.com/jayportfolio/capstone_streamlit/main/data/final/untidy_df_listings_v06.csv\n",
    "    df_train = pd.read_csv('untidy_df_listings_v06.csv', index_col=0)"
   ]
  },
  {
   "cell_type": "code",
   "execution_count": null,
   "metadata": {
    "execution": {
     "iopub.execute_input": "2022-11-17T15:14:11.986078Z",
     "iopub.status.busy": "2022-11-17T15:14:11.985761Z",
     "iopub.status.idle": "2022-11-17T15:14:11.992569Z",
     "shell.execute_reply": "2022-11-17T15:14:11.991855Z",
     "shell.execute_reply.started": "2022-11-17T15:14:11.986058Z"
    }
   },
   "outputs": [],
   "source": [
    "scale = StandardScaler()\n",
    "X_test = scale.fit_transform(X_test)"
   ]
  },
  {
   "cell_type": "code",
   "execution_count": null,
   "metadata": {
    "_uuid": "b0e3651e7b54c5bb1b0c2fee80b74ce0e3ba4b0c",
    "execution": {
     "iopub.execute_input": "2022-11-17T15:14:16.235438Z",
     "iopub.status.busy": "2022-11-17T15:14:16.235166Z",
     "iopub.status.idle": "2022-11-17T15:14:16.768985Z",
     "shell.execute_reply": "2022-11-17T15:14:16.768342Z",
     "shell.execute_reply.started": "2022-11-17T15:14:16.235420Z"
    }
   },
   "outputs": [],
   "source": [
    "prediction = model.predict(X_test)"
   ]
  },
  {
   "cell_type": "code",
   "execution_count": null,
   "metadata": {
    "_uuid": "46afd7b911c25323c947d27e4fa480e2c44f2c13",
    "execution": {
     "iopub.execute_input": "2022-11-17T16:40:18.279072Z",
     "iopub.status.busy": "2022-11-17T16:40:18.278309Z",
     "iopub.status.idle": "2022-11-17T16:40:18.288047Z",
     "shell.execute_reply": "2022-11-17T16:40:18.287663Z",
     "shell.execute_reply.started": "2022-11-17T16:40:18.279049Z"
    },
    "scrolled": true
   },
   "outputs": [],
   "source": [
    "submission = pd.DataFrame()\n",
    "submission['Predicted Price'] = prediction.flatten()\n",
    "submission['Actual'] = y_test\n",
    "submission"
   ]
  }
 ],
 "metadata": {
  "kernelspec": {
   "display_name": "Python 3 (ipykernel)",
   "language": "python",
   "name": "python3"
  },
  "language_info": {
   "codemirror_mode": {
    "name": "ipython",
    "version": 3
   },
   "file_extension": ".py",
   "mimetype": "text/x-python",
   "name": "python",
   "nbconvert_exporter": "python",
   "pygments_lexer": "ipython3",
   "version": "3.9.13"
  }
 },
 "nbformat": 4,
 "nbformat_minor": 4
}
