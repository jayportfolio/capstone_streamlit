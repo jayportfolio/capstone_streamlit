{
 "cells": [
  {
   "cell_type": "markdown",
   "metadata": {},
   "source": [
    "from https://www.kaggle.com/code/hugosjoberg/house-prices-prediction-using-keras"
   ]
  },
  {
   "cell_type": "code",
   "execution_count": 1,
   "metadata": {
    "_cell_guid": "b1076dfc-b9ad-4769-8c92-a6c4dae69d19",
    "_uuid": "8f2839f25d086af736a60e9eeb907d3b93b6e0e5",
    "execution": {
     "iopub.execute_input": "2022-11-17T15:06:40.555896Z",
     "iopub.status.busy": "2022-11-17T15:06:40.555005Z",
     "iopub.status.idle": "2022-11-17T15:06:43.398166Z",
     "shell.execute_reply": "2022-11-17T15:06:43.397322Z",
     "shell.execute_reply.started": "2022-11-17T15:06:40.555828Z"
    }
   },
   "outputs": [],
   "source": [
    "import numpy as np # linear algebra\n",
    "import pandas as pd # data processing, CSV file I/O (e.g. pd.read_csv)\n",
    "from sklearn.preprocessing import StandardScaler # Used for scaling of data\n",
    "from sklearn.model_selection import train_test_split\n",
    "from keras.models import Sequential\n",
    "from keras.layers import Dense, Dropout\n",
    "from keras import metrics\n",
    "import seaborn as sns\n",
    "import matplotlib.pyplot as plt\n",
    "from keras import backend as K\n",
    "from keras.wrappers.scikit_learn import KerasRegressor"
   ]
  },
  {
   "cell_type": "code",
   "execution_count": 2,
   "metadata": {
    "collapsed": false,
    "execution": {
     "iopub.execute_input": "2022-11-17T15:06:43.400739Z",
     "iopub.status.busy": "2022-11-17T15:06:43.399458Z",
     "iopub.status.idle": "2022-11-17T15:06:43.404245Z",
     "shell.execute_reply": "2022-11-17T15:06:43.403554Z",
     "shell.execute_reply.started": "2022-11-17T15:06:43.400711Z"
    },
    "jupyter": {
     "outputs_hidden": false
    }
   },
   "outputs": [],
   "source": [
    "show_graphs = False"
   ]
  },
  {
   "cell_type": "code",
   "execution_count": 3,
   "metadata": {
    "_cell_guid": "79c7e3d0-c299-4dcb-8224-4455121ee9b0",
    "_uuid": "d629ff2d2480ee46fbb7e2d37f6b5fab8052498a",
    "execution": {
     "iopub.execute_input": "2022-11-17T15:06:43.405214Z",
     "iopub.status.busy": "2022-11-17T15:06:43.405021Z",
     "iopub.status.idle": "2022-11-17T15:06:45.099962Z",
     "shell.execute_reply": "2022-11-17T15:06:45.099246Z",
     "shell.execute_reply.started": "2022-11-17T15:06:43.405199Z"
    }
   },
   "outputs": [
    {
     "name": "stdout",
     "output_type": "stream",
     "text": [
      "--2022-11-17 15:06:43--  https://raw.githubusercontent.com/jayportfolio/capstone_streamlit/main/data/final/df_listings_v06.csv\n",
      "Resolving raw.githubusercontent.com (raw.githubusercontent.com)... 185.199.111.133, 185.199.108.133, 185.199.110.133, ...\n",
      "Connecting to raw.githubusercontent.com (raw.githubusercontent.com)|185.199.111.133|:443... connected.\n",
      "HTTP request sent, awaiting response... 200 OK\n",
      "Length: 5116878 (4.9M) [text/plain]\n",
      "Saving to: ‘df_listings_v06.csv.11’\n",
      "\n",
      "df_listings_v06.csv 100%[===================>]   4.88M  6.14MB/s    in 0.8s    \n",
      "\n",
      "2022-11-17 15:06:44 (6.14 MB/s) - ‘df_listings_v06.csv.11’ saved [5116878/5116878]\n",
      "\n"
     ]
    }
   ],
   "source": [
    "# Read in train data\n",
    "try:\n",
    "    df_train = pd.read_csv('df_listings_v06.csv', index_col=0)\n",
    "except:\n",
    "    !wget https://raw.githubusercontent.com/jayportfolio/capstone_streamlit/main/data/final/df_listings_v06.csv\n",
    "    df_train = pd.read_csv('df_listings_v06.csv', index_col=0)"
   ]
  },
  {
   "cell_type": "code",
   "execution_count": 4,
   "metadata": {
    "_uuid": "cb0db41d4fc18a4992301ae08bf61fad4f489f56",
    "execution": {
     "iopub.execute_input": "2022-11-17T15:06:45.101713Z",
     "iopub.status.busy": "2022-11-17T15:06:45.101517Z",
     "iopub.status.idle": "2022-11-17T15:06:45.116362Z",
     "shell.execute_reply": "2022-11-17T15:06:45.115838Z",
     "shell.execute_reply.started": "2022-11-17T15:06:45.101697Z"
    },
    "scrolled": true
   },
   "outputs": [
    {
     "data": {
      "text/html": [
       "<div>\n",
       "<style scoped>\n",
       "    .dataframe tbody tr th:only-of-type {\n",
       "        vertical-align: middle;\n",
       "    }\n",
       "\n",
       "    .dataframe tbody tr th {\n",
       "        vertical-align: top;\n",
       "    }\n",
       "\n",
       "    .dataframe thead th {\n",
       "        text-align: right;\n",
       "    }\n",
       "</style>\n",
       "<table border=\"1\" class=\"dataframe\">\n",
       "  <thead>\n",
       "    <tr style=\"text-align: right;\">\n",
       "      <th></th>\n",
       "      <th>Price</th>\n",
       "      <th>bedrooms</th>\n",
       "      <th>bathrooms</th>\n",
       "      <th>nearestStation</th>\n",
       "      <th>location.latitude</th>\n",
       "      <th>location.longitude</th>\n",
       "      <th>latitude_deviation</th>\n",
       "      <th>longitude_deviation</th>\n",
       "      <th>tenure.tenureType</th>\n",
       "    </tr>\n",
       "  </thead>\n",
       "  <tbody>\n",
       "    <tr>\n",
       "      <th>14520525</th>\n",
       "      <td>550000.0</td>\n",
       "      <td>3.0</td>\n",
       "      <td>1.0</td>\n",
       "      <td>0.274316</td>\n",
       "      <td>51.529950</td>\n",
       "      <td>-0.207020</td>\n",
       "      <td>0.030230</td>\n",
       "      <td>0.102600</td>\n",
       "      <td>LEASEHOLD</td>\n",
       "    </tr>\n",
       "    <tr>\n",
       "      <th>27953107</th>\n",
       "      <td>400000.0</td>\n",
       "      <td>2.0</td>\n",
       "      <td>2.0</td>\n",
       "      <td>0.305845</td>\n",
       "      <td>51.549390</td>\n",
       "      <td>-0.482600</td>\n",
       "      <td>0.049670</td>\n",
       "      <td>0.378180</td>\n",
       "      <td>LEASEHOLD</td>\n",
       "    </tr>\n",
       "    <tr>\n",
       "      <th>33593487</th>\n",
       "      <td>579950.0</td>\n",
       "      <td>2.0</td>\n",
       "      <td>1.0</td>\n",
       "      <td>0.438045</td>\n",
       "      <td>51.447180</td>\n",
       "      <td>-0.338770</td>\n",
       "      <td>0.052540</td>\n",
       "      <td>0.234350</td>\n",
       "      <td>FREEHOLD</td>\n",
       "    </tr>\n",
       "    <tr>\n",
       "      <th>35271294</th>\n",
       "      <td>370000.0</td>\n",
       "      <td>2.0</td>\n",
       "      <td>1.0</td>\n",
       "      <td>0.399307</td>\n",
       "      <td>51.449568</td>\n",
       "      <td>-0.140154</td>\n",
       "      <td>0.050152</td>\n",
       "      <td>0.035734</td>\n",
       "      <td>LEASEHOLD</td>\n",
       "    </tr>\n",
       "    <tr>\n",
       "      <th>35429088</th>\n",
       "      <td>599950.0</td>\n",
       "      <td>2.0</td>\n",
       "      <td>1.0</td>\n",
       "      <td>0.238187</td>\n",
       "      <td>51.577030</td>\n",
       "      <td>-0.141230</td>\n",
       "      <td>0.077310</td>\n",
       "      <td>0.036810</td>\n",
       "      <td>NaN</td>\n",
       "    </tr>\n",
       "  </tbody>\n",
       "</table>\n",
       "</div>"
      ],
      "text/plain": [
       "             Price  bedrooms  bathrooms  nearestStation  location.latitude  \\\n",
       "14520525  550000.0       3.0        1.0        0.274316          51.529950   \n",
       "27953107  400000.0       2.0        2.0        0.305845          51.549390   \n",
       "33593487  579950.0       2.0        1.0        0.438045          51.447180   \n",
       "35271294  370000.0       2.0        1.0        0.399307          51.449568   \n",
       "35429088  599950.0       2.0        1.0        0.238187          51.577030   \n",
       "\n",
       "          location.longitude  latitude_deviation  longitude_deviation  \\\n",
       "14520525           -0.207020            0.030230             0.102600   \n",
       "27953107           -0.482600            0.049670             0.378180   \n",
       "33593487           -0.338770            0.052540             0.234350   \n",
       "35271294           -0.140154            0.050152             0.035734   \n",
       "35429088           -0.141230            0.077310             0.036810   \n",
       "\n",
       "         tenure.tenureType  \n",
       "14520525         LEASEHOLD  \n",
       "27953107         LEASEHOLD  \n",
       "33593487          FREEHOLD  \n",
       "35271294         LEASEHOLD  \n",
       "35429088               NaN  "
      ]
     },
     "execution_count": 4,
     "metadata": {},
     "output_type": "execute_result"
    }
   ],
   "source": [
    "df_train.head()"
   ]
  },
  {
   "cell_type": "markdown",
   "metadata": {
    "_uuid": "f073ac12db41eb616c7d3116537783d890286afd"
   },
   "source": [
    "# Prepare data\n",
    "    Investigate what data that has a linear or some kind of relation to the sale price\n",
    "    Drop the unimportant features or less unimportant features\n",
    "    Drop features which has many NaN values"
   ]
  },
  {
   "cell_type": "code",
   "execution_count": 5,
   "metadata": {
    "_uuid": "f41e1f2f85b2beda54623e15555c4aebca349522",
    "execution": {
     "iopub.execute_input": "2022-11-17T15:06:45.117199Z",
     "iopub.status.busy": "2022-11-17T15:06:45.117002Z",
     "iopub.status.idle": "2022-11-17T15:06:45.124928Z",
     "shell.execute_reply": "2022-11-17T15:06:45.124446Z",
     "shell.execute_reply.started": "2022-11-17T15:06:45.117183Z"
    }
   },
   "outputs": [
    {
     "data": {
      "text/plain": [
       "count     46871.000000\n",
       "mean     425069.390775\n",
       "std      107227.324906\n",
       "min      100000.000000\n",
       "25%      349950.000000\n",
       "50%      425000.000000\n",
       "75%      515000.000000\n",
       "max      600000.000000\n",
       "Name: Price, dtype: float64"
      ]
     },
     "execution_count": 5,
     "metadata": {},
     "output_type": "execute_result"
    }
   ],
   "source": [
    "#descriptive statistics summary\n",
    "df_train['Price'].describe()"
   ]
  },
  {
   "cell_type": "code",
   "execution_count": 6,
   "metadata": {
    "_uuid": "1cfcee21e591d2e426d3ac9b3d78e96564bfbb87",
    "execution": {
     "iopub.execute_input": "2022-11-17T15:06:45.125713Z",
     "iopub.status.busy": "2022-11-17T15:06:45.125560Z",
     "iopub.status.idle": "2022-11-17T15:06:45.128312Z",
     "shell.execute_reply": "2022-11-17T15:06:45.127837Z",
     "shell.execute_reply.started": "2022-11-17T15:06:45.125699Z"
    }
   },
   "outputs": [],
   "source": [
    "#histogram\n",
    "if show_graphs:\n",
    "    sns.distplot(df_train[''                          'Price']);"
   ]
  },
  {
   "cell_type": "code",
   "execution_count": 7,
   "metadata": {
    "_uuid": "4d96bb824f0a8b9994a9c312e0032e7fddb2c964",
    "execution": {
     "iopub.execute_input": "2022-11-17T15:06:45.129165Z",
     "iopub.status.busy": "2022-11-17T15:06:45.128996Z",
     "iopub.status.idle": "2022-11-17T15:06:45.133353Z",
     "shell.execute_reply": "2022-11-17T15:06:45.132804Z",
     "shell.execute_reply.started": "2022-11-17T15:06:45.129152Z"
    }
   },
   "outputs": [
    {
     "name": "stdout",
     "output_type": "stream",
     "text": [
      "Skewness: -0.123988\n",
      "Kurtosis: -0.933832\n"
     ]
    }
   ],
   "source": [
    "#skewness and kurtosis\n",
    "print(\"Skewness: %f\" % df_train['Price'].skew())\n",
    "print(\"Kurtosis: %f\" % df_train['Price'].kurt())"
   ]
  },
  {
   "cell_type": "markdown",
   "metadata": {
    "_uuid": "3e04a673e79b42e251535b523cf4fdd375c948e4"
   },
   "source": [
    "    - Skewness means the top of the iceberg is not in the middle but rather towards left or right.\n",
    "    - Kurtosis describe if the gaussian distrubution is very small and narrow or very wide"
   ]
  },
  {
   "cell_type": "markdown",
   "metadata": {
    "_uuid": "b037115d4df4b5a57ab16204e15d954173ffefa0"
   },
   "source": [
    "Use a heatmap to see which features have strongest correlation with house price"
   ]
  },
  {
   "cell_type": "code",
   "execution_count": 8,
   "metadata": {
    "_uuid": "e1b24a67d4ba435393dfe8a94bac1b46bb5b2653",
    "execution": {
     "iopub.execute_input": "2022-11-17T15:06:45.134078Z",
     "iopub.status.busy": "2022-11-17T15:06:45.133927Z",
     "iopub.status.idle": "2022-11-17T15:06:45.137066Z",
     "shell.execute_reply": "2022-11-17T15:06:45.136565Z",
     "shell.execute_reply.started": "2022-11-17T15:06:45.134065Z"
    }
   },
   "outputs": [],
   "source": [
    "if show_graphs:\n",
    "    #correlation matrix\n",
    "    corrmat = df_train.corr()\n",
    "    f, ax = plt.subplots(figsize=(12, 9))\n",
    "    sns.heatmap(corrmat, vmax=.8, square=True);"
   ]
  },
  {
   "cell_type": "markdown",
   "metadata": {
    "_uuid": "69c5af34c8ab83091cfbc91ab77bf3145901b6a6"
   },
   "source": [
    "Here we can detect multicollinearity for example basement area and the area of the first floor so these hold more or less the same kind of data. The same goes for garage variables, for example if you have a big garage you also have more cars in it.\n",
    "\n",
    "Some variables are also important for the SalePrice with the biggest one being OverallQual\n",
    "\n",
    "Let's plot top 10 most important for correlating with SalePrice"
   ]
  },
  {
   "cell_type": "code",
   "execution_count": 9,
   "metadata": {
    "_uuid": "ef685a7c0285e63735037ff7aff16b58b7aff810",
    "execution": {
     "iopub.execute_input": "2022-11-17T15:06:45.137722Z",
     "iopub.status.busy": "2022-11-17T15:06:45.137579Z",
     "iopub.status.idle": "2022-11-17T15:06:45.141183Z",
     "shell.execute_reply": "2022-11-17T15:06:45.140719Z",
     "shell.execute_reply.started": "2022-11-17T15:06:45.137709Z"
    }
   },
   "outputs": [],
   "source": [
    "if show_graphs:\n",
    "    #saleprice correlation matrix\n",
    "    k = 10 #number of variables for heatmap\n",
    "    cols = corrmat.nlargest(k, 'SalePrice')['SalePrice'].index\n",
    "    cm = np.corrcoef(df_train[cols].values.T)\n",
    "    sns.set(font_scale=1.25)\n",
    "    hm = sns.heatmap(cm, cbar=True, annot=True, square=True, fmt='.2f', annot_kws={'size': 10}, yticklabels=cols.values, xticklabels=cols.values)\n",
    "    plt.show()"
   ]
  },
  {
   "cell_type": "markdown",
   "metadata": {
    "_uuid": "eb0f81a1f65090603bc258fffed8177ab193a5fe"
   },
   "source": [
    "From this plot we can draw the conclusion that:\n",
    "    - OverallQual is important\n",
    "    - GrLivArea is also important\n",
    "    - TotalBsmtSF is important\n",
    "    - GarageCars and GarageArea are two important features but we drop GarageArea since it is more or less the same information as GarageCars\n",
    "    - TotalBsmtSF and 1stFlrSF are also more or less the same so we drop 1StFlrSF\n",
    "    - TotRmsAbvGrd and GrLivArea are also strongly correlated to let's drop TotRmsAbvGrd\n",
    " \n",
    " Let's scatterplot these important features."
   ]
  },
  {
   "cell_type": "code",
   "execution_count": 10,
   "metadata": {
    "_uuid": "20308da96c6fe321ad8eaa36936b1f4f310e246b",
    "execution": {
     "iopub.execute_input": "2022-11-17T15:06:45.143402Z",
     "iopub.status.busy": "2022-11-17T15:06:45.143236Z",
     "iopub.status.idle": "2022-11-17T15:06:45.147045Z",
     "shell.execute_reply": "2022-11-17T15:06:45.146341Z",
     "shell.execute_reply.started": "2022-11-17T15:06:45.143389Z"
    }
   },
   "outputs": [],
   "source": [
    "if show_graphs:\n",
    "    #scatterplot\n",
    "    sns.set()\n",
    "    cols = ['SalePrice', 'OverallQual', 'GrLivArea', 'GarageCars', 'TotalBsmtSF', 'FullBath', 'YearBuilt']\n",
    "    sns.pairplot(df_train[cols], size = 2.5)\n",
    "    plt.show();"
   ]
  },
  {
   "cell_type": "markdown",
   "metadata": {
    "_uuid": "ac7fec49425bb709149872260a913ca04eda50e8"
   },
   "source": [
    "The basement area and total living area seems to have similarities their saleprice plot looks almost identical, let's drop basement area.\n",
    "\n",
    "Maybe also remove year built data since this data can be tricky to use."
   ]
  },
  {
   "cell_type": "markdown",
   "metadata": {
    "_uuid": "394c7fab3b8a90176635ef240466257c45b0b549"
   },
   "source": [
    "Let's have a  look at the missing data.\n",
    "\n",
    "Let's display a % of the data that is missing from some columns."
   ]
  },
  {
   "cell_type": "code",
   "execution_count": 11,
   "metadata": {
    "_uuid": "a5f4b941925a23b99e781dc5ce921aa789cbc9a7",
    "execution": {
     "iopub.execute_input": "2022-11-17T15:06:45.147815Z",
     "iopub.status.busy": "2022-11-17T15:06:45.147658Z",
     "iopub.status.idle": "2022-11-17T15:06:45.169844Z",
     "shell.execute_reply": "2022-11-17T15:06:45.169343Z",
     "shell.execute_reply.started": "2022-11-17T15:06:45.147796Z"
    }
   },
   "outputs": [
    {
     "data": {
      "text/html": [
       "<div>\n",
       "<style scoped>\n",
       "    .dataframe tbody tr th:only-of-type {\n",
       "        vertical-align: middle;\n",
       "    }\n",
       "\n",
       "    .dataframe tbody tr th {\n",
       "        vertical-align: top;\n",
       "    }\n",
       "\n",
       "    .dataframe thead th {\n",
       "        text-align: right;\n",
       "    }\n",
       "</style>\n",
       "<table border=\"1\" class=\"dataframe\">\n",
       "  <thead>\n",
       "    <tr style=\"text-align: right;\">\n",
       "      <th></th>\n",
       "      <th>Total</th>\n",
       "      <th>Percent</th>\n",
       "    </tr>\n",
       "  </thead>\n",
       "  <tbody>\n",
       "    <tr>\n",
       "      <th>tenure.tenureType</th>\n",
       "      <td>2744</td>\n",
       "      <td>0.058544</td>\n",
       "    </tr>\n",
       "    <tr>\n",
       "      <th>Price</th>\n",
       "      <td>0</td>\n",
       "      <td>0.000000</td>\n",
       "    </tr>\n",
       "    <tr>\n",
       "      <th>bedrooms</th>\n",
       "      <td>0</td>\n",
       "      <td>0.000000</td>\n",
       "    </tr>\n",
       "    <tr>\n",
       "      <th>bathrooms</th>\n",
       "      <td>0</td>\n",
       "      <td>0.000000</td>\n",
       "    </tr>\n",
       "    <tr>\n",
       "      <th>nearestStation</th>\n",
       "      <td>0</td>\n",
       "      <td>0.000000</td>\n",
       "    </tr>\n",
       "    <tr>\n",
       "      <th>location.latitude</th>\n",
       "      <td>0</td>\n",
       "      <td>0.000000</td>\n",
       "    </tr>\n",
       "    <tr>\n",
       "      <th>location.longitude</th>\n",
       "      <td>0</td>\n",
       "      <td>0.000000</td>\n",
       "    </tr>\n",
       "    <tr>\n",
       "      <th>latitude_deviation</th>\n",
       "      <td>0</td>\n",
       "      <td>0.000000</td>\n",
       "    </tr>\n",
       "    <tr>\n",
       "      <th>longitude_deviation</th>\n",
       "      <td>0</td>\n",
       "      <td>0.000000</td>\n",
       "    </tr>\n",
       "  </tbody>\n",
       "</table>\n",
       "</div>"
      ],
      "text/plain": [
       "                     Total   Percent\n",
       "tenure.tenureType     2744  0.058544\n",
       "Price                    0  0.000000\n",
       "bedrooms                 0  0.000000\n",
       "bathrooms                0  0.000000\n",
       "nearestStation           0  0.000000\n",
       "location.latitude        0  0.000000\n",
       "location.longitude       0  0.000000\n",
       "latitude_deviation       0  0.000000\n",
       "longitude_deviation      0  0.000000"
      ]
     },
     "execution_count": 11,
     "metadata": {},
     "output_type": "execute_result"
    }
   ],
   "source": [
    "#missing data\n",
    "total = df_train.isnull().sum().sort_values(ascending=False)\n",
    "percent = (df_train.isnull().sum()/df_train.isnull().count()).sort_values(ascending=False)\n",
    "missing_data = pd.concat([total, percent], axis=1, keys=['Total', 'Percent'])\n",
    "missing_data.head(20)"
   ]
  },
  {
   "cell_type": "markdown",
   "metadata": {
    "_uuid": "e81bfe548fff5b1a48f1591d25a84f55e6b8b830"
   },
   "source": [
    "Some of theese features are of interest for us and they don't show a massive shortage of data so lets create mean data for those values."
   ]
  },
  {
   "cell_type": "code",
   "execution_count": 12,
   "metadata": {
    "_uuid": "a16226a47ed6d2fec9a6e69d8f7d982e4589e1e1",
    "execution": {
     "iopub.execute_input": "2022-11-17T15:06:45.170657Z",
     "iopub.status.busy": "2022-11-17T15:06:45.170493Z",
     "iopub.status.idle": "2022-11-17T15:06:45.183901Z",
     "shell.execute_reply": "2022-11-17T15:06:45.183276Z",
     "shell.execute_reply.started": "2022-11-17T15:06:45.170643Z"
    }
   },
   "outputs": [
    {
     "name": "stderr",
     "output_type": "stream",
     "text": [
      "/tmp/ipykernel_90/2439521282.py:1: FutureWarning: Dropping of nuisance columns in DataFrame reductions (with 'numeric_only=None') is deprecated; in a future version this will raise TypeError.  Select only valid columns before calling the reduction.\n",
      "  df_train = df_train.fillna(df_train.mean())\n"
     ]
    }
   ],
   "source": [
    "df_train = df_train.fillna(df_train.mean())"
   ]
  },
  {
   "cell_type": "markdown",
   "metadata": {
    "_uuid": "5d2f7b9502cb2cccc0f34642a042a227f703fddd"
   },
   "source": [
    "Now let's remove outliers for example data that doesn't match what we expect like an insane price for a house\n",
    "\n",
    "To do this we standardize the data so that the mean is 0 and a standard deviation of 1. "
   ]
  },
  {
   "cell_type": "code",
   "execution_count": 13,
   "metadata": {
    "_uuid": "5fd1ebd08dc93d5b68d519ac7d2b695b212612f1",
    "execution": {
     "iopub.execute_input": "2022-11-17T15:06:45.184693Z",
     "iopub.status.busy": "2022-11-17T15:06:45.184520Z",
     "iopub.status.idle": "2022-11-17T15:06:45.195300Z",
     "shell.execute_reply": "2022-11-17T15:06:45.194710Z",
     "shell.execute_reply.started": "2022-11-17T15:06:45.184680Z"
    }
   },
   "outputs": [
    {
     "name": "stdout",
     "output_type": "stream",
     "text": [
      "outer range (low) of the distribution:\n",
      "[[-3.03162332]\n",
      " [-3.03162332]\n",
      " [-2.98499292]\n",
      " [-2.95701467]\n",
      " [-2.93836251]\n",
      " [-2.92903643]\n",
      " [-2.90105819]\n",
      " [-2.89756091]\n",
      " [-2.89173211]\n",
      " [-2.89173211]]\n",
      "\n",
      "outer range (high) of the distribution:\n",
      "[[1.63141695]\n",
      " [1.63141695]\n",
      " [1.63141695]\n",
      " [1.63141695]\n",
      " [1.63141695]\n",
      " [1.63141695]\n",
      " [1.63141695]\n",
      " [1.63141695]\n",
      " [1.63141695]\n",
      " [1.63141695]]\n"
     ]
    },
    {
     "name": "stderr",
     "output_type": "stream",
     "text": [
      "/tmp/ipykernel_90/2419163164.py:2: FutureWarning: Support for multi-dimensional indexing (e.g. `obj[:, None]`) is deprecated and will be removed in a future version.  Convert to a numpy array before indexing instead.\n",
      "  saleprice_scaled = StandardScaler().fit_transform(df_train['Price'][:,np.newaxis]);\n"
     ]
    }
   ],
   "source": [
    "#standardizing data\n",
    "saleprice_scaled = StandardScaler().fit_transform(df_train['Price'][:,np.newaxis]);\n",
    "low_range = saleprice_scaled[saleprice_scaled[:,0].argsort()][:10]\n",
    "high_range= saleprice_scaled[saleprice_scaled[:,0].argsort()][-10:]\n",
    "print('outer range (low) of the distribution:')\n",
    "print(low_range)\n",
    "print('\\nouter range (high) of the distribution:')\n",
    "print(high_range)"
   ]
  },
  {
   "cell_type": "markdown",
   "metadata": {
    "_uuid": "91fc3e063f9fc40b36aee72864be793171f62f32"
   },
   "source": [
    "    -Values that are similar to each other stay close to 0\n",
    "    -Values that are a bit odd get high values such as the 7 values."
   ]
  },
  {
   "cell_type": "code",
   "execution_count": 14,
   "metadata": {
    "_uuid": "a9ce9e94821aaa869a66174feff34e4fb7b0a96f",
    "execution": {
     "iopub.execute_input": "2022-11-17T15:06:45.196178Z",
     "iopub.status.busy": "2022-11-17T15:06:45.196011Z",
     "iopub.status.idle": "2022-11-17T15:06:45.199381Z",
     "shell.execute_reply": "2022-11-17T15:06:45.198829Z",
     "shell.execute_reply.started": "2022-11-17T15:06:45.196163Z"
    }
   },
   "outputs": [],
   "source": [
    "if show_graphs:\n",
    "    #bivariate analysis saleprice/grlivarea\n",
    "    var = 'bedrooms'\n",
    "    data = pd.concat([df_train['Price'], df_train[var]], axis=1)\n",
    "    data.plot.scatter(x=var, y='Price', ylim=(0,800000));"
   ]
  },
  {
   "cell_type": "markdown",
   "metadata": {
    "_uuid": "565e61c2e6aabfacbebfea5b7de0b68d2d8d151d"
   },
   "source": [
    "What has been revealed:\n",
    "\n",
    "* The two values with bigger 'GrLivArea' seem strange and they are not following the crowd. We can speculate why this is happening. Maybe they refer to agricultural area and that could explain the low price. I'm not sure about this but I'm quite confident that these two points are not representative of the typical case. Therefore, we'll define them as outliers and delete them.\n",
    "* The two observations in the top of the plot are those 7 something observations that we said we should be careful about. They look like two special cases, however they seem to be following the trend. For that reason, we will keep them."
   ]
  },
  {
   "cell_type": "markdown",
   "metadata": {
    "_uuid": "8028a479de52da9a0240437ad642f456234688d2"
   },
   "source": [
    "# Prepare data\n",
    "Right now I think we have an idea of what kind of data we are interested in and what data we don't think are useful for us. Let's build a pipeline for removing the data."
   ]
  },
  {
   "cell_type": "markdown",
   "metadata": {
    "_uuid": "a59af02c285e253ac8fb2b54e43f0598480babf2"
   },
   "source": [
    "Let's reload the data so we can have a fresh start!"
   ]
  },
  {
   "cell_type": "code",
   "execution_count": 15,
   "metadata": {
    "_uuid": "58901f4a6c2a09dec4ad37fd4324e53f9af86572",
    "execution": {
     "iopub.execute_input": "2022-11-17T15:06:45.200347Z",
     "iopub.status.busy": "2022-11-17T15:06:45.200158Z",
     "iopub.status.idle": "2022-11-17T15:06:45.252124Z",
     "shell.execute_reply": "2022-11-17T15:06:45.251393Z",
     "shell.execute_reply.started": "2022-11-17T15:06:45.200336Z"
    }
   },
   "outputs": [],
   "source": [
    "#df_train = pd.read_csv('house_prices_train.csv', index_col=0)\n",
    "df_train = pd.read_csv('df_listings_v06.csv', index_col=0)"
   ]
  },
  {
   "cell_type": "markdown",
   "metadata": {
    "_uuid": "1d03fb5b6cdd841a9fe0983595b2f379e24b2755"
   },
   "source": [
    "Let's not log the data since a neural network is quite good at working with non-linear data. I also tested and verified that the model didn't perform better or worse if I logged the data before hand."
   ]
  },
  {
   "cell_type": "code",
   "execution_count": 16,
   "metadata": {
    "_uuid": "6ce8bbf540debd24e8fd5a63c53c28a8a7e1b5d2",
    "execution": {
     "iopub.execute_input": "2022-11-17T15:06:45.253029Z",
     "iopub.status.busy": "2022-11-17T15:06:45.252856Z",
     "iopub.status.idle": "2022-11-17T15:06:45.274416Z",
     "shell.execute_reply": "2022-11-17T15:06:45.273844Z",
     "shell.execute_reply.started": "2022-11-17T15:06:45.253014Z"
    }
   },
   "outputs": [
    {
     "data": {
      "text/plain": [
       "((15468, 7), (15468,))"
      ]
     },
     "execution_count": 16,
     "metadata": {},
     "output_type": "execute_result"
    }
   ],
   "source": [
    "cols = ['Price','bedrooms','bathrooms','nearestStation','location.latitude','location.longitude','latitude_deviation','longitude_deviation']\n",
    "features = ['bedrooms','bathrooms','nearestStation','location.latitude','location.longitude','latitude_deviation','longitude_deviation']\n",
    "df_train = df_train[cols]\n",
    "# Create dummy values\n",
    "df_train = pd.get_dummies(df_train)\n",
    "#filling NA's with the mean of the column:\n",
    "df_train = df_train.fillna(df_train.mean())\n",
    "# Always standard scale the data before using NN\n",
    "scale = StandardScaler()\n",
    "X_train = df_train[features]\n",
    "X_train = scale.fit_transform(X_train)\n",
    "# Y is just the 'SalePrice' column\n",
    "y = df_train['Price'].values\n",
    "seed = 7\n",
    "np.random.seed(seed)\n",
    "# split into 67% for train and 33% for test\n",
    "X_train, X_test, y_train, y_test = train_test_split(X_train, y, test_size=0.33, random_state=seed)\n",
    "X_test.shape, y_test.shape"
   ]
  },
  {
   "cell_type": "code",
   "execution_count": 17,
   "metadata": {
    "_uuid": "30d990717c54ee2a96c9687bd4e6a82a21abd560",
    "execution": {
     "iopub.execute_input": "2022-11-17T15:06:45.275275Z",
     "iopub.status.busy": "2022-11-17T15:06:45.275110Z",
     "iopub.status.idle": "2022-11-17T15:06:45.278965Z",
     "shell.execute_reply": "2022-11-17T15:06:45.278455Z",
     "shell.execute_reply.started": "2022-11-17T15:06:45.275262Z"
    }
   },
   "outputs": [],
   "source": [
    "def create_model():\n",
    "    # create model\n",
    "    model = Sequential()\n",
    "    model.add(Dense(10, input_dim=X_train.shape[1], activation='relu'))\n",
    "    model.add(Dense(30, activation='relu'))\n",
    "    model.add(Dense(40, activation='relu'))\n",
    "    model.add(Dense(1))\n",
    "    # Compile model\n",
    "    model.compile(optimizer ='adam', loss = 'mean_squared_error', \n",
    "              metrics =[metrics.mae])\n",
    "    return model"
   ]
  },
  {
   "cell_type": "code",
   "execution_count": 18,
   "metadata": {
    "_uuid": "9a77c30ae22162e72bba30c1f8616fbb35a5e0dc",
    "execution": {
     "iopub.execute_input": "2022-11-17T15:06:45.279667Z",
     "iopub.status.busy": "2022-11-17T15:06:45.279474Z",
     "iopub.status.idle": "2022-11-17T15:06:46.188032Z",
     "shell.execute_reply": "2022-11-17T15:06:46.187472Z",
     "shell.execute_reply.started": "2022-11-17T15:06:45.279653Z"
    },
    "scrolled": true
   },
   "outputs": [
    {
     "name": "stdout",
     "output_type": "stream",
     "text": [
      "Model: \"sequential\"\n",
      "_________________________________________________________________\n",
      " Layer (type)                Output Shape              Param #   \n",
      "=================================================================\n",
      " dense (Dense)               (None, 10)                80        \n",
      "                                                                 \n",
      " dense_1 (Dense)             (None, 30)                330       \n",
      "                                                                 \n",
      " dense_2 (Dense)             (None, 40)                1240      \n",
      "                                                                 \n",
      " dense_3 (Dense)             (None, 1)                 41        \n",
      "                                                                 \n",
      "=================================================================\n",
      "Total params: 1,691\n",
      "Trainable params: 1,691\n",
      "Non-trainable params: 0\n",
      "_________________________________________________________________\n"
     ]
    }
   ],
   "source": [
    "model = create_model()\n",
    "model.summary()"
   ]
  },
  {
   "cell_type": "code",
   "execution_count": 19,
   "metadata": {
    "_uuid": "30008da456af620fb89a59aeaac613f1c7d5e9bf",
    "execution": {
     "iopub.execute_input": "2022-11-17T15:06:46.189351Z",
     "iopub.status.busy": "2022-11-17T15:06:46.189172Z",
     "iopub.status.idle": "2022-11-17T15:12:25.472463Z",
     "shell.execute_reply": "2022-11-17T15:12:25.471938Z",
     "shell.execute_reply.started": "2022-11-17T15:06:46.189334Z"
    },
    "scrolled": true
   },
   "outputs": [
    {
     "name": "stdout",
     "output_type": "stream",
     "text": [
      "Epoch 1/150\n",
      "982/982 [==============================] - 4s 2ms/step - loss: 167150141440.0000 - mean_absolute_error: 392699.1250 - val_loss: 85979242496.0000 - val_mean_absolute_error: 274270.8750\n",
      "Epoch 2/150\n",
      "982/982 [==============================] - 2s 3ms/step - loss: 26992179200.0000 - mean_absolute_error: 130322.3438 - val_loss: 11178597376.0000 - val_mean_absolute_error: 83946.8203\n",
      "Epoch 3/150\n",
      "982/982 [==============================] - 2s 2ms/step - loss: 10464874496.0000 - mean_absolute_error: 81421.1250 - val_loss: 9636891648.0000 - val_mean_absolute_error: 78622.2031\n",
      "Epoch 4/150\n",
      "982/982 [==============================] - 2s 2ms/step - loss: 9235275776.0000 - mean_absolute_error: 76928.1797 - val_loss: 8668361728.0000 - val_mean_absolute_error: 74808.7969\n",
      "Epoch 5/150\n",
      "982/982 [==============================] - 2s 2ms/step - loss: 8417892864.0000 - mean_absolute_error: 73771.8672 - val_loss: 8017822720.0000 - val_mean_absolute_error: 72240.0469\n",
      "Epoch 6/150\n",
      "982/982 [==============================] - 2s 2ms/step - loss: 7872577024.0000 - mean_absolute_error: 71599.3672 - val_loss: 7598588928.0000 - val_mean_absolute_error: 70560.1094\n",
      "Epoch 7/150\n",
      "982/982 [==============================] - 2s 2ms/step - loss: 7528251392.0000 - mean_absolute_error: 70243.7734 - val_loss: 7325044736.0000 - val_mean_absolute_error: 69305.1484\n",
      "Epoch 8/150\n",
      "982/982 [==============================] - 2s 2ms/step - loss: 7307177472.0000 - mean_absolute_error: 69315.3359 - val_loss: 7162949120.0000 - val_mean_absolute_error: 68542.4062\n",
      "Epoch 9/150\n",
      "982/982 [==============================] - 2s 2ms/step - loss: 7164279808.0000 - mean_absolute_error: 68681.6875 - val_loss: 7052652544.0000 - val_mean_absolute_error: 68107.5781\n",
      "Epoch 10/150\n",
      "982/982 [==============================] - 2s 2ms/step - loss: 7066605568.0000 - mean_absolute_error: 68279.2422 - val_loss: 6975319552.0000 - val_mean_absolute_error: 67730.8594\n",
      "Epoch 11/150\n",
      "982/982 [==============================] - 2s 2ms/step - loss: 6993674752.0000 - mean_absolute_error: 67923.0234 - val_loss: 6923785216.0000 - val_mean_absolute_error: 67555.9688\n",
      "Epoch 12/150\n",
      "982/982 [==============================] - 2s 2ms/step - loss: 6938543104.0000 - mean_absolute_error: 67683.7500 - val_loss: 6881803264.0000 - val_mean_absolute_error: 67271.8594\n",
      "Epoch 13/150\n",
      "982/982 [==============================] - 2s 2ms/step - loss: 6897312768.0000 - mean_absolute_error: 67447.9062 - val_loss: 6839484928.0000 - val_mean_absolute_error: 67001.9609\n",
      "Epoch 14/150\n",
      "982/982 [==============================] - 2s 2ms/step - loss: 6865377792.0000 - mean_absolute_error: 67279.5234 - val_loss: 6818280960.0000 - val_mean_absolute_error: 67016.0625\n",
      "Epoch 15/150\n",
      "982/982 [==============================] - 2s 2ms/step - loss: 6833403904.0000 - mean_absolute_error: 67133.8828 - val_loss: 6793334784.0000 - val_mean_absolute_error: 66780.8125\n",
      "Epoch 16/150\n",
      "982/982 [==============================] - 2s 2ms/step - loss: 6816144896.0000 - mean_absolute_error: 67045.9766 - val_loss: 6780955136.0000 - val_mean_absolute_error: 66774.6094\n",
      "Epoch 17/150\n",
      "982/982 [==============================] - 2s 2ms/step - loss: 6798013952.0000 - mean_absolute_error: 66968.2031 - val_loss: 6773065216.0000 - val_mean_absolute_error: 66708.2188\n",
      "Epoch 18/150\n",
      "982/982 [==============================] - 2s 2ms/step - loss: 6786612736.0000 - mean_absolute_error: 66857.9062 - val_loss: 6754243584.0000 - val_mean_absolute_error: 66688.6719\n",
      "Epoch 19/150\n",
      "982/982 [==============================] - 2s 2ms/step - loss: 6775636480.0000 - mean_absolute_error: 66807.4297 - val_loss: 6742912000.0000 - val_mean_absolute_error: 66595.3203\n",
      "Epoch 20/150\n",
      "982/982 [==============================] - 2s 2ms/step - loss: 6767225856.0000 - mean_absolute_error: 66776.4922 - val_loss: 6731858432.0000 - val_mean_absolute_error: 66488.4375\n",
      "Epoch 21/150\n",
      "982/982 [==============================] - 2s 2ms/step - loss: 6759293440.0000 - mean_absolute_error: 66734.7812 - val_loss: 6730203136.0000 - val_mean_absolute_error: 66518.7109\n",
      "Epoch 22/150\n",
      "982/982 [==============================] - 2s 2ms/step - loss: 6754735104.0000 - mean_absolute_error: 66723.7812 - val_loss: 6717130752.0000 - val_mean_absolute_error: 66297.9609\n",
      "Epoch 23/150\n",
      "982/982 [==============================] - 2s 2ms/step - loss: 6749107712.0000 - mean_absolute_error: 66655.5156 - val_loss: 6720736768.0000 - val_mean_absolute_error: 66408.6562\n",
      "Epoch 24/150\n",
      "982/982 [==============================] - 2s 3ms/step - loss: 6746281472.0000 - mean_absolute_error: 66663.3047 - val_loss: 6710079488.0000 - val_mean_absolute_error: 66295.1016\n",
      "Epoch 25/150\n",
      "982/982 [==============================] - 2s 2ms/step - loss: 6743314432.0000 - mean_absolute_error: 66619.3125 - val_loss: 6715554304.0000 - val_mean_absolute_error: 66378.7109\n",
      "Epoch 26/150\n",
      "982/982 [==============================] - 2s 2ms/step - loss: 6739602432.0000 - mean_absolute_error: 66613.6953 - val_loss: 6704207360.0000 - val_mean_absolute_error: 66348.9688\n",
      "Epoch 27/150\n",
      "982/982 [==============================] - 2s 2ms/step - loss: 6738784256.0000 - mean_absolute_error: 66656.1797 - val_loss: 6703133696.0000 - val_mean_absolute_error: 66261.3203\n",
      "Epoch 28/150\n",
      "982/982 [==============================] - 2s 2ms/step - loss: 6735811072.0000 - mean_absolute_error: 66584.9922 - val_loss: 6709866496.0000 - val_mean_absolute_error: 66358.4219\n",
      "Epoch 29/150\n",
      "982/982 [==============================] - 2s 2ms/step - loss: 6734806016.0000 - mean_absolute_error: 66612.0078 - val_loss: 6702729216.0000 - val_mean_absolute_error: 66300.2578\n",
      "Epoch 30/150\n",
      "982/982 [==============================] - 2s 2ms/step - loss: 6731987968.0000 - mean_absolute_error: 66574.8125 - val_loss: 6712412160.0000 - val_mean_absolute_error: 66415.4766\n",
      "Epoch 31/150\n",
      "982/982 [==============================] - 2s 2ms/step - loss: 6730036224.0000 - mean_absolute_error: 66589.4531 - val_loss: 6707788288.0000 - val_mean_absolute_error: 66348.1250\n",
      "Epoch 32/150\n",
      "982/982 [==============================] - 2s 2ms/step - loss: 6726697472.0000 - mean_absolute_error: 66547.2891 - val_loss: 6706371072.0000 - val_mean_absolute_error: 66296.1719\n",
      "Epoch 33/150\n",
      "982/982 [==============================] - 2s 2ms/step - loss: 6727846912.0000 - mean_absolute_error: 66543.2891 - val_loss: 6704326144.0000 - val_mean_absolute_error: 66329.9062\n",
      "Epoch 34/150\n",
      "982/982 [==============================] - 2s 2ms/step - loss: 6724549120.0000 - mean_absolute_error: 66536.1328 - val_loss: 6705156096.0000 - val_mean_absolute_error: 66407.0391\n",
      "Epoch 35/150\n",
      "982/982 [==============================] - 2s 2ms/step - loss: 6724595712.0000 - mean_absolute_error: 66537.1250 - val_loss: 6697747456.0000 - val_mean_absolute_error: 66322.1719\n",
      "Epoch 36/150\n",
      "982/982 [==============================] - 2s 2ms/step - loss: 6722773504.0000 - mean_absolute_error: 66515.8359 - val_loss: 6703169024.0000 - val_mean_absolute_error: 66453.4219\n",
      "Epoch 37/150\n",
      "982/982 [==============================] - 2s 2ms/step - loss: 6722061312.0000 - mean_absolute_error: 66531.0703 - val_loss: 6701406720.0000 - val_mean_absolute_error: 66329.5625\n",
      "Epoch 38/150\n",
      "982/982 [==============================] - 2s 2ms/step - loss: 6718819840.0000 - mean_absolute_error: 66491.1094 - val_loss: 6705017856.0000 - val_mean_absolute_error: 66356.8281\n",
      "Epoch 39/150\n",
      "982/982 [==============================] - 2s 2ms/step - loss: 6720900096.0000 - mean_absolute_error: 66518.7891 - val_loss: 6710431744.0000 - val_mean_absolute_error: 66400.5547\n",
      "Epoch 40/150\n",
      "982/982 [==============================] - 2s 2ms/step - loss: 6718322688.0000 - mean_absolute_error: 66462.1641 - val_loss: 6696051712.0000 - val_mean_absolute_error: 66400.2266\n",
      "Epoch 41/150\n",
      "982/982 [==============================] - 2s 2ms/step - loss: 6716658688.0000 - mean_absolute_error: 66508.1484 - val_loss: 6687447552.0000 - val_mean_absolute_error: 66216.5547\n",
      "Epoch 42/150\n",
      "982/982 [==============================] - 2s 2ms/step - loss: 6714772480.0000 - mean_absolute_error: 66489.5703 - val_loss: 6696191488.0000 - val_mean_absolute_error: 66226.6094\n",
      "Epoch 43/150\n",
      "982/982 [==============================] - 2s 3ms/step - loss: 6713909760.0000 - mean_absolute_error: 66481.5938 - val_loss: 6694364672.0000 - val_mean_absolute_error: 66237.3203\n",
      "Epoch 44/150\n",
      "982/982 [==============================] - 2s 2ms/step - loss: 6717658112.0000 - mean_absolute_error: 66491.9219 - val_loss: 6690671616.0000 - val_mean_absolute_error: 66230.6172\n",
      "Epoch 45/150\n",
      "982/982 [==============================] - 2s 2ms/step - loss: 6713220608.0000 - mean_absolute_error: 66463.2578 - val_loss: 6697261568.0000 - val_mean_absolute_error: 66387.2891\n",
      "Epoch 46/150\n",
      "982/982 [==============================] - 2s 2ms/step - loss: 6714308096.0000 - mean_absolute_error: 66498.4844 - val_loss: 6684960256.0000 - val_mean_absolute_error: 66222.7031\n",
      "Epoch 47/150\n",
      "982/982 [==============================] - 2s 2ms/step - loss: 6709671424.0000 - mean_absolute_error: 66452.1797 - val_loss: 6689078272.0000 - val_mean_absolute_error: 66234.5859\n",
      "Epoch 48/150\n",
      "982/982 [==============================] - 2s 2ms/step - loss: 6710433792.0000 - mean_absolute_error: 66456.3359 - val_loss: 6686248448.0000 - val_mean_absolute_error: 66190.8594\n",
      "Epoch 49/150\n",
      "982/982 [==============================] - 2s 2ms/step - loss: 6710129152.0000 - mean_absolute_error: 66450.7812 - val_loss: 6697833472.0000 - val_mean_absolute_error: 66313.9062\n",
      "Epoch 50/150\n",
      "982/982 [==============================] - 2s 2ms/step - loss: 6708336640.0000 - mean_absolute_error: 66425.6406 - val_loss: 6691150336.0000 - val_mean_absolute_error: 66334.1953\n",
      "Epoch 51/150\n",
      "982/982 [==============================] - 2s 2ms/step - loss: 6709386752.0000 - mean_absolute_error: 66469.7031 - val_loss: 6690878976.0000 - val_mean_absolute_error: 66202.5859\n",
      "Epoch 52/150\n",
      "982/982 [==============================] - 2s 2ms/step - loss: 6704692224.0000 - mean_absolute_error: 66415.0312 - val_loss: 6695153152.0000 - val_mean_absolute_error: 66232.5938\n",
      "Epoch 53/150\n",
      "982/982 [==============================] - 2s 2ms/step - loss: 6709140992.0000 - mean_absolute_error: 66439.9922 - val_loss: 6676709376.0000 - val_mean_absolute_error: 66143.5391\n",
      "Epoch 54/150\n",
      "982/982 [==============================] - 2s 2ms/step - loss: 6705556992.0000 - mean_absolute_error: 66443.9609 - val_loss: 6679835136.0000 - val_mean_absolute_error: 66226.5938\n",
      "Epoch 55/150\n",
      "982/982 [==============================] - 2s 2ms/step - loss: 6708442624.0000 - mean_absolute_error: 66429.0859 - val_loss: 6686056960.0000 - val_mean_absolute_error: 66311.5938\n",
      "Epoch 56/150\n",
      "982/982 [==============================] - 2s 2ms/step - loss: 6705055744.0000 - mean_absolute_error: 66418.2734 - val_loss: 6686035968.0000 - val_mean_absolute_error: 66300.3594\n",
      "Epoch 57/150\n",
      "982/982 [==============================] - 2s 2ms/step - loss: 6703851008.0000 - mean_absolute_error: 66441.3125 - val_loss: 6691524096.0000 - val_mean_absolute_error: 66275.9922\n",
      "Epoch 58/150\n",
      "982/982 [==============================] - 2s 3ms/step - loss: 6704060928.0000 - mean_absolute_error: 66405.2891 - val_loss: 6677547520.0000 - val_mean_absolute_error: 66208.8828\n",
      "Epoch 59/150\n",
      "982/982 [==============================] - 2s 2ms/step - loss: 6701435904.0000 - mean_absolute_error: 66403.2734 - val_loss: 6677501952.0000 - val_mean_absolute_error: 66219.3828\n",
      "Epoch 60/150\n",
      "982/982 [==============================] - 2s 2ms/step - loss: 6703183360.0000 - mean_absolute_error: 66422.4844 - val_loss: 6682109952.0000 - val_mean_absolute_error: 66223.8281\n",
      "Epoch 61/150\n",
      "982/982 [==============================] - 2s 2ms/step - loss: 6702274048.0000 - mean_absolute_error: 66408.8828 - val_loss: 6681460224.0000 - val_mean_absolute_error: 66260.8672\n",
      "Epoch 62/150\n",
      "982/982 [==============================] - 2s 2ms/step - loss: 6701411840.0000 - mean_absolute_error: 66410.7812 - val_loss: 6680737792.0000 - val_mean_absolute_error: 66301.7812\n",
      "Epoch 63/150\n",
      "982/982 [==============================] - 2s 3ms/step - loss: 6698396160.0000 - mean_absolute_error: 66408.8516 - val_loss: 6685613568.0000 - val_mean_absolute_error: 66229.6016\n",
      "Epoch 64/150\n",
      "982/982 [==============================] - 2s 2ms/step - loss: 6698247680.0000 - mean_absolute_error: 66380.3438 - val_loss: 6682417152.0000 - val_mean_absolute_error: 66331.6250\n",
      "Epoch 65/150\n",
      "982/982 [==============================] - 2s 2ms/step - loss: 6694159872.0000 - mean_absolute_error: 66365.9141 - val_loss: 6723525120.0000 - val_mean_absolute_error: 66499.5391\n",
      "Epoch 66/150\n",
      "982/982 [==============================] - 2s 2ms/step - loss: 6698755072.0000 - mean_absolute_error: 66399.1875 - val_loss: 6686455808.0000 - val_mean_absolute_error: 66260.6406\n",
      "Epoch 67/150\n",
      "982/982 [==============================] - 2s 2ms/step - loss: 6692521984.0000 - mean_absolute_error: 66387.1328 - val_loss: 6674673152.0000 - val_mean_absolute_error: 66198.7266\n",
      "Epoch 68/150\n",
      "982/982 [==============================] - 2s 2ms/step - loss: 6693668352.0000 - mean_absolute_error: 66356.7344 - val_loss: 6668869632.0000 - val_mean_absolute_error: 66164.9141\n",
      "Epoch 69/150\n",
      "982/982 [==============================] - 2s 2ms/step - loss: 6695069696.0000 - mean_absolute_error: 66381.5703 - val_loss: 6671370752.0000 - val_mean_absolute_error: 66194.3359\n",
      "Epoch 70/150\n",
      "982/982 [==============================] - 2s 2ms/step - loss: 6694800896.0000 - mean_absolute_error: 66382.2109 - val_loss: 6676215296.0000 - val_mean_absolute_error: 66159.8438\n",
      "Epoch 71/150\n",
      "982/982 [==============================] - 2s 2ms/step - loss: 6694754816.0000 - mean_absolute_error: 66357.5000 - val_loss: 6676252672.0000 - val_mean_absolute_error: 66200.7188\n",
      "Epoch 72/150\n",
      "982/982 [==============================] - 2s 2ms/step - loss: 6694045696.0000 - mean_absolute_error: 66389.1797 - val_loss: 6670134272.0000 - val_mean_absolute_error: 66146.6875\n",
      "Epoch 73/150\n",
      "982/982 [==============================] - 2s 2ms/step - loss: 6692426240.0000 - mean_absolute_error: 66362.5938 - val_loss: 6664496128.0000 - val_mean_absolute_error: 66109.3125\n",
      "Epoch 74/150\n",
      "982/982 [==============================] - 2s 2ms/step - loss: 6692952064.0000 - mean_absolute_error: 66373.7031 - val_loss: 6663291392.0000 - val_mean_absolute_error: 66074.8047\n",
      "Epoch 75/150\n",
      "982/982 [==============================] - 2s 2ms/step - loss: 6691987456.0000 - mean_absolute_error: 66331.3594 - val_loss: 6669235712.0000 - val_mean_absolute_error: 66147.3750\n",
      "Epoch 76/150\n",
      "982/982 [==============================] - 2s 2ms/step - loss: 6691848704.0000 - mean_absolute_error: 66374.0469 - val_loss: 6667313664.0000 - val_mean_absolute_error: 66110.4844\n",
      "Epoch 77/150\n",
      "982/982 [==============================] - 2s 3ms/step - loss: 6688211968.0000 - mean_absolute_error: 66356.3828 - val_loss: 6672568832.0000 - val_mean_absolute_error: 66106.2109\n",
      "Epoch 78/150\n",
      "982/982 [==============================] - 2s 2ms/step - loss: 6692198912.0000 - mean_absolute_error: 66362.2422 - val_loss: 6662221312.0000 - val_mean_absolute_error: 66087.5938\n",
      "Epoch 79/150\n",
      "982/982 [==============================] - 2s 2ms/step - loss: 6688571392.0000 - mean_absolute_error: 66348.7578 - val_loss: 6667143168.0000 - val_mean_absolute_error: 66136.1875\n",
      "Epoch 80/150\n",
      "982/982 [==============================] - 2s 2ms/step - loss: 6687099904.0000 - mean_absolute_error: 66321.2422 - val_loss: 6679781376.0000 - val_mean_absolute_error: 66204.1797\n",
      "Epoch 81/150\n",
      "982/982 [==============================] - 2s 2ms/step - loss: 6690220544.0000 - mean_absolute_error: 66343.6953 - val_loss: 6666338816.0000 - val_mean_absolute_error: 66089.6094\n",
      "Epoch 82/150\n",
      "982/982 [==============================] - 2s 2ms/step - loss: 6688377856.0000 - mean_absolute_error: 66314.7422 - val_loss: 6689760256.0000 - val_mean_absolute_error: 66335.0234\n",
      "Epoch 83/150\n",
      "982/982 [==============================] - 2s 2ms/step - loss: 6685495808.0000 - mean_absolute_error: 66300.0234 - val_loss: 6667863552.0000 - val_mean_absolute_error: 66185.4219\n",
      "Epoch 84/150\n",
      "982/982 [==============================] - 2s 2ms/step - loss: 6688030208.0000 - mean_absolute_error: 66335.7500 - val_loss: 6665396736.0000 - val_mean_absolute_error: 66177.4844\n",
      "Epoch 85/150\n",
      "982/982 [==============================] - 2s 2ms/step - loss: 6687052800.0000 - mean_absolute_error: 66346.6172 - val_loss: 6661936128.0000 - val_mean_absolute_error: 66079.6719\n",
      "Epoch 86/150\n",
      "982/982 [==============================] - 2s 2ms/step - loss: 6687295488.0000 - mean_absolute_error: 66300.8438 - val_loss: 6665009152.0000 - val_mean_absolute_error: 66175.9141\n",
      "Epoch 87/150\n",
      "982/982 [==============================] - 2s 2ms/step - loss: 6685601792.0000 - mean_absolute_error: 66340.0000 - val_loss: 6670603264.0000 - val_mean_absolute_error: 66163.3906\n",
      "Epoch 88/150\n",
      "982/982 [==============================] - 2s 2ms/step - loss: 6686574592.0000 - mean_absolute_error: 66321.3438 - val_loss: 6673060352.0000 - val_mean_absolute_error: 66279.8359\n",
      "Epoch 89/150\n",
      "982/982 [==============================] - 2s 2ms/step - loss: 6683753472.0000 - mean_absolute_error: 66317.2969 - val_loss: 6662667264.0000 - val_mean_absolute_error: 66133.9062\n",
      "Epoch 90/150\n",
      "982/982 [==============================] - 2s 2ms/step - loss: 6685470720.0000 - mean_absolute_error: 66323.2422 - val_loss: 6658643968.0000 - val_mean_absolute_error: 66100.5547\n",
      "Epoch 91/150\n",
      "982/982 [==============================] - 2s 2ms/step - loss: 6684040704.0000 - mean_absolute_error: 66348.3750 - val_loss: 6657751552.0000 - val_mean_absolute_error: 66037.7344\n",
      "Epoch 92/150\n",
      "982/982 [==============================] - 2s 2ms/step - loss: 6682944512.0000 - mean_absolute_error: 66297.2266 - val_loss: 6668858880.0000 - val_mean_absolute_error: 66120.0547\n",
      "Epoch 93/150\n",
      "982/982 [==============================] - 2s 2ms/step - loss: 6686344704.0000 - mean_absolute_error: 66313.5859 - val_loss: 6662654976.0000 - val_mean_absolute_error: 66170.3203\n",
      "Epoch 94/150\n",
      "982/982 [==============================] - 2s 2ms/step - loss: 6684033536.0000 - mean_absolute_error: 66306.0469 - val_loss: 6676519936.0000 - val_mean_absolute_error: 66254.7734\n",
      "Epoch 95/150\n",
      "982/982 [==============================] - 2s 2ms/step - loss: 6682067968.0000 - mean_absolute_error: 66297.4219 - val_loss: 6664275456.0000 - val_mean_absolute_error: 66178.8828\n",
      "Epoch 96/150\n",
      "982/982 [==============================] - 2s 2ms/step - loss: 6683547648.0000 - mean_absolute_error: 66309.8672 - val_loss: 6665603584.0000 - val_mean_absolute_error: 66195.3906\n",
      "Epoch 97/150\n",
      "982/982 [==============================] - 2s 2ms/step - loss: 6682726912.0000 - mean_absolute_error: 66296.9766 - val_loss: 6666157056.0000 - val_mean_absolute_error: 66189.7812\n",
      "Epoch 98/150\n",
      "982/982 [==============================] - 2s 2ms/step - loss: 6683141120.0000 - mean_absolute_error: 66301.3203 - val_loss: 6653185024.0000 - val_mean_absolute_error: 66067.7891\n",
      "Epoch 99/150\n",
      "982/982 [==============================] - 2s 2ms/step - loss: 6682121728.0000 - mean_absolute_error: 66304.9062 - val_loss: 6655143936.0000 - val_mean_absolute_error: 66147.6562\n",
      "Epoch 100/150\n",
      "982/982 [==============================] - 2s 2ms/step - loss: 6680681984.0000 - mean_absolute_error: 66285.0078 - val_loss: 6651240960.0000 - val_mean_absolute_error: 66067.7109\n",
      "Epoch 101/150\n",
      "982/982 [==============================] - 2s 2ms/step - loss: 6680440320.0000 - mean_absolute_error: 66294.0703 - val_loss: 6655083520.0000 - val_mean_absolute_error: 66068.1797\n",
      "Epoch 102/150\n",
      "982/982 [==============================] - 2s 2ms/step - loss: 6682356736.0000 - mean_absolute_error: 66290.7031 - val_loss: 6653465088.0000 - val_mean_absolute_error: 66091.0078\n",
      "Epoch 103/150\n",
      "982/982 [==============================] - 2s 2ms/step - loss: 6678848512.0000 - mean_absolute_error: 66271.3594 - val_loss: 6652756480.0000 - val_mean_absolute_error: 66036.8125\n",
      "Epoch 104/150\n",
      "982/982 [==============================] - 2s 2ms/step - loss: 6681047552.0000 - mean_absolute_error: 66280.3047 - val_loss: 6651775488.0000 - val_mean_absolute_error: 66061.4375\n",
      "Epoch 105/150\n",
      "982/982 [==============================] - 2s 2ms/step - loss: 6679650304.0000 - mean_absolute_error: 66287.1641 - val_loss: 6651992064.0000 - val_mean_absolute_error: 66100.2188\n",
      "Epoch 106/150\n",
      "982/982 [==============================] - 2s 2ms/step - loss: 6677089792.0000 - mean_absolute_error: 66286.1016 - val_loss: 6671753216.0000 - val_mean_absolute_error: 66138.2422\n",
      "Epoch 107/150\n",
      "982/982 [==============================] - 2s 2ms/step - loss: 6679608832.0000 - mean_absolute_error: 66295.6484 - val_loss: 6661780480.0000 - val_mean_absolute_error: 66108.4062\n",
      "Epoch 108/150\n",
      "982/982 [==============================] - 2s 2ms/step - loss: 6678123520.0000 - mean_absolute_error: 66267.6875 - val_loss: 6654919168.0000 - val_mean_absolute_error: 66086.2031\n",
      "Epoch 109/150\n",
      "982/982 [==============================] - 2s 2ms/step - loss: 6678998016.0000 - mean_absolute_error: 66288.8359 - val_loss: 6667102720.0000 - val_mean_absolute_error: 66208.8203\n",
      "Epoch 110/150\n",
      "982/982 [==============================] - 2s 2ms/step - loss: 6679719424.0000 - mean_absolute_error: 66271.5859 - val_loss: 6660352512.0000 - val_mean_absolute_error: 66182.5391\n",
      "Epoch 111/150\n",
      "982/982 [==============================] - 2s 2ms/step - loss: 6675240448.0000 - mean_absolute_error: 66254.4375 - val_loss: 6675921920.0000 - val_mean_absolute_error: 66262.2188\n",
      "Epoch 112/150\n",
      "982/982 [==============================] - 2s 2ms/step - loss: 6679269376.0000 - mean_absolute_error: 66297.4297 - val_loss: 6653533696.0000 - val_mean_absolute_error: 66096.6562\n",
      "Epoch 113/150\n",
      "982/982 [==============================] - 2s 2ms/step - loss: 6678990848.0000 - mean_absolute_error: 66281.9766 - val_loss: 6653057024.0000 - val_mean_absolute_error: 66058.1562\n",
      "Epoch 114/150\n",
      "982/982 [==============================] - 2s 2ms/step - loss: 6679265280.0000 - mean_absolute_error: 66272.5312 - val_loss: 6658062336.0000 - val_mean_absolute_error: 66147.9766\n",
      "Epoch 115/150\n",
      "982/982 [==============================] - 2s 2ms/step - loss: 6676079104.0000 - mean_absolute_error: 66264.9531 - val_loss: 6658152960.0000 - val_mean_absolute_error: 66203.4453\n",
      "Epoch 116/150\n",
      "982/982 [==============================] - 2s 2ms/step - loss: 6676062208.0000 - mean_absolute_error: 66289.3516 - val_loss: 6673382912.0000 - val_mean_absolute_error: 66132.4609\n",
      "Epoch 117/150\n",
      "982/982 [==============================] - 2s 2ms/step - loss: 6676319744.0000 - mean_absolute_error: 66237.7422 - val_loss: 6651727360.0000 - val_mean_absolute_error: 66106.5781\n",
      "Epoch 118/150\n",
      "982/982 [==============================] - 2s 2ms/step - loss: 6678728192.0000 - mean_absolute_error: 66279.4922 - val_loss: 6653624320.0000 - val_mean_absolute_error: 66087.2500\n",
      "Epoch 119/150\n",
      "982/982 [==============================] - 2s 2ms/step - loss: 6678384128.0000 - mean_absolute_error: 66264.7500 - val_loss: 6654249984.0000 - val_mean_absolute_error: 66130.2891\n",
      "Epoch 120/150\n",
      "982/982 [==============================] - 2s 2ms/step - loss: 6673801728.0000 - mean_absolute_error: 66256.4688 - val_loss: 6655986688.0000 - val_mean_absolute_error: 66133.7500\n",
      "Epoch 121/150\n",
      "982/982 [==============================] - 2s 2ms/step - loss: 6675025920.0000 - mean_absolute_error: 66270.8438 - val_loss: 6660975616.0000 - val_mean_absolute_error: 66137.1797\n",
      "Epoch 122/150\n",
      "982/982 [==============================] - 2s 2ms/step - loss: 6674808832.0000 - mean_absolute_error: 66247.8594 - val_loss: 6651033600.0000 - val_mean_absolute_error: 66028.5781\n",
      "Epoch 123/150\n",
      "982/982 [==============================] - 2s 2ms/step - loss: 6675143680.0000 - mean_absolute_error: 66239.1250 - val_loss: 6650100224.0000 - val_mean_absolute_error: 66098.7578\n",
      "Epoch 124/150\n",
      "982/982 [==============================] - 2s 2ms/step - loss: 6675277824.0000 - mean_absolute_error: 66274.4844 - val_loss: 6655552512.0000 - val_mean_absolute_error: 66112.0000\n",
      "Epoch 125/150\n",
      "982/982 [==============================] - 2s 2ms/step - loss: 6674209280.0000 - mean_absolute_error: 66265.8125 - val_loss: 6653039616.0000 - val_mean_absolute_error: 66057.6484\n",
      "Epoch 126/150\n",
      "982/982 [==============================] - 2s 2ms/step - loss: 6673401856.0000 - mean_absolute_error: 66270.9922 - val_loss: 6654024704.0000 - val_mean_absolute_error: 66021.9062\n",
      "Epoch 127/150\n",
      "982/982 [==============================] - 2s 2ms/step - loss: 6675079168.0000 - mean_absolute_error: 66233.1016 - val_loss: 6662693376.0000 - val_mean_absolute_error: 66151.5156\n",
      "Epoch 128/150\n",
      "982/982 [==============================] - 2s 2ms/step - loss: 6674164224.0000 - mean_absolute_error: 66270.3984 - val_loss: 6649480192.0000 - val_mean_absolute_error: 66087.0625\n",
      "Epoch 129/150\n",
      "982/982 [==============================] - 2s 2ms/step - loss: 6672886272.0000 - mean_absolute_error: 66260.9219 - val_loss: 6645618176.0000 - val_mean_absolute_error: 66000.4922\n",
      "Epoch 130/150\n",
      "982/982 [==============================] - 2s 2ms/step - loss: 6674471424.0000 - mean_absolute_error: 66260.1250 - val_loss: 6652249600.0000 - val_mean_absolute_error: 66123.7109\n",
      "Epoch 131/150\n",
      "982/982 [==============================] - 2s 2ms/step - loss: 6674544640.0000 - mean_absolute_error: 66256.3281 - val_loss: 6652070400.0000 - val_mean_absolute_error: 66102.7734\n",
      "Epoch 132/150\n",
      "982/982 [==============================] - 2s 2ms/step - loss: 6671016448.0000 - mean_absolute_error: 66234.1094 - val_loss: 6659540480.0000 - val_mean_absolute_error: 66217.4297\n",
      "Epoch 133/150\n",
      "982/982 [==============================] - 2s 2ms/step - loss: 6672174080.0000 - mean_absolute_error: 66262.6875 - val_loss: 6648991232.0000 - val_mean_absolute_error: 66050.0703\n",
      "Epoch 134/150\n",
      "982/982 [==============================] - 2s 2ms/step - loss: 6670950912.0000 - mean_absolute_error: 66239.9766 - val_loss: 6671202304.0000 - val_mean_absolute_error: 66184.7422\n",
      "Epoch 135/150\n",
      "982/982 [==============================] - 2s 2ms/step - loss: 6672184832.0000 - mean_absolute_error: 66239.4297 - val_loss: 6670375936.0000 - val_mean_absolute_error: 66187.0781\n",
      "Epoch 136/150\n",
      "982/982 [==============================] - 2s 2ms/step - loss: 6671958016.0000 - mean_absolute_error: 66270.8594 - val_loss: 6647858688.0000 - val_mean_absolute_error: 66023.7812\n",
      "Epoch 137/150\n",
      "982/982 [==============================] - 2s 2ms/step - loss: 6670292480.0000 - mean_absolute_error: 66223.6562 - val_loss: 6656177152.0000 - val_mean_absolute_error: 66162.3359\n",
      "Epoch 138/150\n",
      "982/982 [==============================] - 2s 2ms/step - loss: 6671655936.0000 - mean_absolute_error: 66245.5469 - val_loss: 6654459392.0000 - val_mean_absolute_error: 66095.8750\n",
      "Epoch 139/150\n",
      "982/982 [==============================] - 2s 2ms/step - loss: 6669377536.0000 - mean_absolute_error: 66243.1250 - val_loss: 6660241408.0000 - val_mean_absolute_error: 66112.2266\n",
      "Epoch 140/150\n",
      "982/982 [==============================] - 2s 2ms/step - loss: 6670956032.0000 - mean_absolute_error: 66249.2969 - val_loss: 6651426304.0000 - val_mean_absolute_error: 66066.0000\n",
      "Epoch 141/150\n",
      "982/982 [==============================] - 2s 2ms/step - loss: 6671141888.0000 - mean_absolute_error: 66221.0703 - val_loss: 6644853248.0000 - val_mean_absolute_error: 66073.8125\n",
      "Epoch 142/150\n",
      "982/982 [==============================] - 2s 2ms/step - loss: 6668481536.0000 - mean_absolute_error: 66230.9688 - val_loss: 6654235648.0000 - val_mean_absolute_error: 66026.2969\n",
      "Epoch 143/150\n",
      "982/982 [==============================] - 2s 2ms/step - loss: 6669227520.0000 - mean_absolute_error: 66221.6406 - val_loss: 6655084544.0000 - val_mean_absolute_error: 66159.8828\n",
      "Epoch 144/150\n",
      "982/982 [==============================] - 2s 2ms/step - loss: 6667945984.0000 - mean_absolute_error: 66241.4453 - val_loss: 6654304768.0000 - val_mean_absolute_error: 66058.9375\n",
      "Epoch 145/150\n",
      "982/982 [==============================] - 2s 2ms/step - loss: 6670867968.0000 - mean_absolute_error: 66246.9766 - val_loss: 6650900992.0000 - val_mean_absolute_error: 66103.9453\n",
      "Epoch 146/150\n",
      "982/982 [==============================] - 2s 2ms/step - loss: 6667673600.0000 - mean_absolute_error: 66238.4297 - val_loss: 6647193600.0000 - val_mean_absolute_error: 65939.4609\n",
      "Epoch 147/150\n",
      "982/982 [==============================] - 2s 2ms/step - loss: 6667709952.0000 - mean_absolute_error: 66210.9297 - val_loss: 6650973696.0000 - val_mean_absolute_error: 66081.2891\n",
      "Epoch 148/150\n",
      "982/982 [==============================] - 2s 2ms/step - loss: 6668974080.0000 - mean_absolute_error: 66231.2891 - val_loss: 6652584448.0000 - val_mean_absolute_error: 65988.6953\n",
      "Epoch 149/150\n",
      "982/982 [==============================] - 2s 2ms/step - loss: 6663935488.0000 - mean_absolute_error: 66220.3984 - val_loss: 6650248192.0000 - val_mean_absolute_error: 66079.2188\n",
      "Epoch 150/150\n",
      "982/982 [==============================] - 2s 2ms/step - loss: 6666167808.0000 - mean_absolute_error: 66219.5469 - val_loss: 6656753664.0000 - val_mean_absolute_error: 66085.0703\n"
     ]
    }
   ],
   "source": [
    "history = model.fit(X_train, y_train, validation_data=(X_test,y_test), epochs=150, batch_size=32)"
   ]
  },
  {
   "cell_type": "markdown",
   "metadata": {
    "_uuid": "944e699c04d97aaa7264f0fab5fa8eb3612dcb89"
   },
   "source": [
    "Let's investigate how well this model did!"
   ]
  },
  {
   "cell_type": "code",
   "execution_count": 20,
   "metadata": {
    "_uuid": "d642df9bf8c35e3b3f3a8be8e73dc5f271aa4429",
    "execution": {
     "iopub.execute_input": "2022-11-17T15:12:25.473959Z",
     "iopub.status.busy": "2022-11-17T15:12:25.473779Z",
     "iopub.status.idle": "2022-11-17T15:12:25.666861Z",
     "shell.execute_reply": "2022-11-17T15:12:25.666221Z",
     "shell.execute_reply.started": "2022-11-17T15:12:25.473943Z"
    }
   },
   "outputs": [
    {
     "data": {
      "image/png": "[encoded data removed]",
      "text/plain": [
       "<Figure size 432x288 with 1 Axes>"
      ]
     },
     "metadata": {
      "needs_background": "light"
     },
     "output_type": "display_data"
    },
    {
     "data": {
      "image/png": "[encoded data removed]",
      "text/plain": [
       "<Figure size 432x288 with 1 Axes>"
      ]
     },
     "metadata": {
      "needs_background": "light"
     },
     "output_type": "display_data"
    }
   ],
   "source": [
    "# summarize history for accuracy\n",
    "plt.plot(history.history['mean_absolute_error'])\n",
    "plt.plot(history.history['val_mean_absolute_error'])\n",
    "plt.title('model accuracy')\n",
    "plt.ylabel('accuracy')\n",
    "plt.xlabel('epoch')\n",
    "plt.legend(['train', 'test'], loc='upper left')\n",
    "plt.show()\n",
    "# summarize history for loss\n",
    "plt.plot(history.history['loss'])\n",
    "plt.plot(history.history['val_loss'])\n",
    "plt.title('model loss')\n",
    "plt.ylabel('loss')\n",
    "plt.xlabel('epoch')\n",
    "plt.legend(['train', 'test'], loc='upper left')\n",
    "plt.show()"
   ]
  },
  {
   "cell_type": "markdown",
   "metadata": {
    "_uuid": "b3c6af154d715d6ecef8a54a6e9485470e7c2385"
   },
   "source": [
    "This result is not very good and gives us a mean absolute error just above 20000 dollars. I beleive this model performs bad due to the fact that we have a quite small data-set becuase a neural network performs the best when having a big dataset. "
   ]
  },
  {
   "cell_type": "code",
   "execution_count": 21,
   "metadata": {
    "_uuid": "656ac4cee8aba9da1488ad0d24e7dfdba16cf3bd",
    "execution": {
     "iopub.execute_input": "2022-11-17T15:12:25.668536Z",
     "iopub.status.busy": "2022-11-17T15:12:25.668343Z",
     "iopub.status.idle": "2022-11-17T15:12:26.353971Z",
     "shell.execute_reply": "2022-11-17T15:12:26.353223Z",
     "shell.execute_reply.started": "2022-11-17T15:12:25.668520Z"
    }
   },
   "outputs": [
    {
     "name": "stdout",
     "output_type": "stream",
     "text": [
      "--2022-11-17 15:12:26--  https://raw.githubusercontent.com/Data-Science-FMI/ml-from-scratch-2019/master/data/house_prices_test.csv\n",
      "Resolving raw.githubusercontent.com (raw.githubusercontent.com)... 185.199.111.133, 185.199.110.133, 185.199.108.133, ...\n",
      "Connecting to raw.githubusercontent.com (raw.githubusercontent.com)|185.199.111.133|:443... connected.\n",
      "HTTP request sent, awaiting response... 200 OK\n",
      "Length: 451405 (441K) [text/plain]\n",
      "Saving to: ‘house_prices_test.csv.2’\n",
      "\n",
      "house_prices_test.c 100%[===================>] 440.83K  --.-KB/s    in 0.06s   \n",
      "\n",
      "2022-11-17 15:12:26 (7.58 MB/s) - ‘house_prices_test.csv.2’ saved [451405/451405]\n",
      "\n"
     ]
    }
   ],
   "source": [
    "# Read in train data\n",
    "try:\n",
    "    df_train = pd.read_csv('df_listings_v06.csv', index_col=0)\n",
    "except:\n",
    "    !wget https://raw.githubusercontent.com/jayportfolio/capstone_streamlit/main/data/final/df_listings_v06.csv\n",
    "    df_train = pd.read_csv('df_listings_v06.csv', index_col=0)"
   ]
  },
  {
   "cell_type": "code",
   "execution_count": 24,
   "metadata": {
    "execution": {
     "iopub.execute_input": "2022-11-17T15:14:11.986078Z",
     "iopub.status.busy": "2022-11-17T15:14:11.985761Z",
     "iopub.status.idle": "2022-11-17T15:14:11.992569Z",
     "shell.execute_reply": "2022-11-17T15:14:11.991855Z",
     "shell.execute_reply.started": "2022-11-17T15:14:11.986058Z"
    }
   },
   "outputs": [],
   "source": [
    "scale = StandardScaler()\n",
    "X_test = scale.fit_transform(X_test)"
   ]
  },
  {
   "cell_type": "code",
   "execution_count": 25,
   "metadata": {
    "_uuid": "b0e3651e7b54c5bb1b0c2fee80b74ce0e3ba4b0c",
    "execution": {
     "iopub.execute_input": "2022-11-17T15:14:16.235438Z",
     "iopub.status.busy": "2022-11-17T15:14:16.235166Z",
     "iopub.status.idle": "2022-11-17T15:14:16.768985Z",
     "shell.execute_reply": "2022-11-17T15:14:16.768342Z",
     "shell.execute_reply.started": "2022-11-17T15:14:16.235420Z"
    }
   },
   "outputs": [
    {
     "name": "stdout",
     "output_type": "stream",
     "text": [
      "484/484 [==============================] - 0s 759us/step\n"
     ]
    }
   ],
   "source": [
    "prediction = model.predict(X_test)"
   ]
  },
  {
   "cell_type": "code",
   "execution_count": 33,
   "metadata": {
    "_uuid": "46afd7b911c25323c947d27e4fa480e2c44f2c13",
    "execution": {
     "iopub.execute_input": "2022-11-17T16:40:18.279072Z",
     "iopub.status.busy": "2022-11-17T16:40:18.278309Z",
     "iopub.status.idle": "2022-11-17T16:40:18.288047Z",
     "shell.execute_reply": "2022-11-17T16:40:18.287663Z",
     "shell.execute_reply.started": "2022-11-17T16:40:18.279049Z"
    },
    "scrolled": true
   },
   "outputs": [
    {
     "data": {
      "text/html": [
       "<div>\n",
       "<style scoped>\n",
       "    .dataframe tbody tr th:only-of-type {\n",
       "        vertical-align: middle;\n",
       "    }\n",
       "\n",
       "    .dataframe tbody tr th {\n",
       "        vertical-align: top;\n",
       "    }\n",
       "\n",
       "    .dataframe thead th {\n",
       "        text-align: right;\n",
       "    }\n",
       "</style>\n",
       "<table border=\"1\" class=\"dataframe\">\n",
       "  <thead>\n",
       "    <tr style=\"text-align: right;\">\n",
       "      <th></th>\n",
       "      <th>Price</th>\n",
       "      <th>Actual</th>\n",
       "    </tr>\n",
       "  </thead>\n",
       "  <tbody>\n",
       "    <tr>\n",
       "      <th>0</th>\n",
       "      <td>486633.28125</td>\n",
       "      <td>550000.0</td>\n",
       "    </tr>\n",
       "    <tr>\n",
       "      <th>1</th>\n",
       "      <td>504380.25000</td>\n",
       "      <td>375000.0</td>\n",
       "    </tr>\n",
       "    <tr>\n",
       "      <th>2</th>\n",
       "      <td>524622.31250</td>\n",
       "      <td>450000.0</td>\n",
       "    </tr>\n",
       "    <tr>\n",
       "      <th>3</th>\n",
       "      <td>546821.75000</td>\n",
       "      <td>525000.0</td>\n",
       "    </tr>\n",
       "    <tr>\n",
       "      <th>4</th>\n",
       "      <td>439158.46875</td>\n",
       "      <td>599950.0</td>\n",
       "    </tr>\n",
       "    <tr>\n",
       "      <th>...</th>\n",
       "      <td>...</td>\n",
       "      <td>...</td>\n",
       "    </tr>\n",
       "    <tr>\n",
       "      <th>15463</th>\n",
       "      <td>465993.15625</td>\n",
       "      <td>390000.0</td>\n",
       "    </tr>\n",
       "    <tr>\n",
       "      <th>15464</th>\n",
       "      <td>360708.31250</td>\n",
       "      <td>290000.0</td>\n",
       "    </tr>\n",
       "    <tr>\n",
       "      <th>15465</th>\n",
       "      <td>455598.25000</td>\n",
       "      <td>275000.0</td>\n",
       "    </tr>\n",
       "    <tr>\n",
       "      <th>15466</th>\n",
       "      <td>433222.59375</td>\n",
       "      <td>425000.0</td>\n",
       "    </tr>\n",
       "    <tr>\n",
       "      <th>15467</th>\n",
       "      <td>328722.90625</td>\n",
       "      <td>350000.0</td>\n",
       "    </tr>\n",
       "  </tbody>\n",
       "</table>\n",
       "<p>15468 rows × 2 columns</p>\n",
       "</div>"
      ],
      "text/plain": [
       "              Price    Actual\n",
       "0      486633.28125  550000.0\n",
       "1      504380.25000  375000.0\n",
       "2      524622.31250  450000.0\n",
       "3      546821.75000  525000.0\n",
       "4      439158.46875  599950.0\n",
       "...             ...       ...\n",
       "15463  465993.15625  390000.0\n",
       "15464  360708.31250  290000.0\n",
       "15465  455598.25000  275000.0\n",
       "15466  433222.59375  425000.0\n",
       "15467  328722.90625  350000.0\n",
       "\n",
       "[15468 rows x 2 columns]"
      ]
     },
     "execution_count": 33,
     "metadata": {},
     "output_type": "execute_result"
    }
   ],
   "source": [
    "submission = pd.DataFrame()\n",
    "submission['Predicted Price'] = prediction.flatten()\n",
    "submission['Actual'] = y_test\n",
    "submission"
   ]
  }
 ],
 "metadata": {
  "kernelspec": {
   "display_name": "Python 3 (ipykernel)",
   "language": "python",
   "name": "python3"
  },
  "language_info": {
   "codemirror_mode": {
    "name": "ipython",
    "version": 3
   },
   "file_extension": ".py",
   "mimetype": "text/x-python",
   "name": "python",
   "nbconvert_exporter": "python",
   "pygments_lexer": "ipython3",
   "version": "3.9.13"
  }
 },
 "nbformat": 4,
 "nbformat_minor": 4
}
