{
 "cells": [
  {
   "cell_type": "code",
   "execution_count": 1,
   "metadata": {
    "execution": {
     "iopub.execute_input": "2022-11-29T21:16:11.603450Z",
     "iopub.status.busy": "2022-11-29T21:16:11.602849Z",
     "iopub.status.idle": "2022-11-29T21:16:11.744753Z",
     "shell.execute_reply": "2022-11-29T21:16:11.741453Z",
     "shell.execute_reply.started": "2022-11-29T21:16:11.603415Z"
    }
   },
   "outputs": [
    {
     "data": {
      "text/plain": "                                                   best score best time  \\\nxg boost (v11) rs                                    0.721019       NaN   \ncatboost (v11)                                       0.689818     12.81   \nneural network - random search [i64,norm,d64^6,...   0.533579       NaN   \nknn (v11)                                            0.465113  0.618877   \n\n                                                   Mean Absolute Error Accuracy  \\\nxg boost (v11) rs                                                  42603.011667   \ncatboost (v11)                                                       45407.2565   \nneural network - random search [i64,norm,d64^6,...                 57201.738174   \nknn (v11)                                                          62944.705459   \n\n                                                   Mean Squared Error Accuracy  \\\nxg boost (v11) rs                                            3151478137.618505   \ncatboost (v11)                                               3503940324.932943   \nneural network - random search [i64,norm,d64^6,...           5268876368.550115   \nknn (v11)                                                    6042299808.369307   \n\n                                                   R square Accuracy  \\\nxg boost (v11) rs                                           0.721019   \ncatboost (v11)                                              0.689818   \nneural network - random search [i64,norm,d64^6,...          0.533579   \nknn (v11)                                                   0.465113   \n\n                                                   Root Mean Squared Error  \\\nxg boost (v11) rs                                             56138.027554   \ncatboost (v11)                                                59194.090287   \nneural network - random search [i64,norm,d64^6,...            72587.026172   \nknn (v11)                                                     77732.231464   \n\n                                                                 best run date  \\\nxg boost (v11) rs                                                          NaN   \ncatboost (v11)                                      2022-11-30 16:14:29.405177   \nneural network - random search [i64,norm,d64^6,...                         NaN   \nknn (v11)                                           2022-11-30 16:20:53.948815   \n\n                                                                  best method  \\\nxg boost (v11) rs                                                         NaN   \ncatboost (v11)                                      random search(no dummies)   \nneural network - random search [i64,norm,d64^6,...                        NaN   \nknn (v11)                                                       random search   \n\n                                                   best is shared suboptimal  \nxg boost (v11) rs                                             NaN    pending  \ncatboost (v11)                                              False    pending  \nneural network - random search [i64,norm,d64^6,...            NaN    pending  \nknn (v11)                                                   False    pending  ",
      "text/html": "<div>\n<style scoped>\n    .dataframe tbody tr th:only-of-type {\n        vertical-align: middle;\n    }\n\n    .dataframe tbody tr th {\n        vertical-align: top;\n    }\n\n    .dataframe thead th {\n        text-align: right;\n    }\n</style>\n<table border=\"1\" class=\"dataframe\">\n  <thead>\n    <tr style=\"text-align: right;\">\n      <th></th>\n      <th>best score</th>\n      <th>best time</th>\n      <th>Mean Absolute Error Accuracy</th>\n      <th>Mean Squared Error Accuracy</th>\n      <th>R square Accuracy</th>\n      <th>Root Mean Squared Error</th>\n      <th>best run date</th>\n      <th>best method</th>\n      <th>best is shared</th>\n      <th>suboptimal</th>\n    </tr>\n  </thead>\n  <tbody>\n    <tr>\n      <th>xg boost (v11) rs</th>\n      <td>0.721019</td>\n      <td>NaN</td>\n      <td>42603.011667</td>\n      <td>3151478137.618505</td>\n      <td>0.721019</td>\n      <td>56138.027554</td>\n      <td>NaN</td>\n      <td>NaN</td>\n      <td>NaN</td>\n      <td>pending</td>\n    </tr>\n    <tr>\n      <th>catboost (v11)</th>\n      <td>0.689818</td>\n      <td>12.81</td>\n      <td>45407.2565</td>\n      <td>3503940324.932943</td>\n      <td>0.689818</td>\n      <td>59194.090287</td>\n      <td>2022-11-30 16:14:29.405177</td>\n      <td>random search(no dummies)</td>\n      <td>False</td>\n      <td>pending</td>\n    </tr>\n    <tr>\n      <th>neural network - random search [i64,norm,d64^6,d1] (v11)</th>\n      <td>0.533579</td>\n      <td>NaN</td>\n      <td>57201.738174</td>\n      <td>5268876368.550115</td>\n      <td>0.533579</td>\n      <td>72587.026172</td>\n      <td>NaN</td>\n      <td>NaN</td>\n      <td>NaN</td>\n      <td>pending</td>\n    </tr>\n    <tr>\n      <th>knn (v11)</th>\n      <td>0.465113</td>\n      <td>0.618877</td>\n      <td>62944.705459</td>\n      <td>6042299808.369307</td>\n      <td>0.465113</td>\n      <td>77732.231464</td>\n      <td>2022-11-30 16:20:53.948815</td>\n      <td>random search</td>\n      <td>False</td>\n      <td>pending</td>\n    </tr>\n  </tbody>\n</table>\n</div>"
     },
     "execution_count": 1,
     "metadata": {},
     "output_type": "execute_result"
    }
   ],
   "source": [
    "import pandas as pd\n",
    "\n",
    "dff = pd.read_json('results.json')\n",
    "\n",
    "version = 'all'\n",
    "version = 'v11'\n",
    "\n",
    "if version == 'all':\n",
    "    vNN_columns = dff.columns\n",
    "else:\n",
    "    vNN_columns = [c for c in dff.columns if version in c]\n",
    "\n",
    "dataset_versions_df = dff[vNN_columns].T.sort_values(\"best score\", ascending=False)\n",
    "dataset_versions_df_summary = dataset_versions_df[['best score', 'best time', 'Mean Absolute Error Accuracy', 'Mean Squared Error Accuracy', 'R square Accuracy', 'Root Mean Squared Error', 'best run date', 'best method', 'best is shared', \"suboptimal\"]]\n",
    "dataset_versions_df_summary"
   ]
  },
  {
   "cell_type": "code",
   "execution_count": 2,
   "metadata": {
    "execution": {
     "iopub.execute_input": "2022-11-21T18:13:53.193777Z",
     "iopub.status.busy": "2022-11-21T18:13:53.193478Z",
     "iopub.status.idle": "2022-11-21T18:13:53.221268Z",
     "shell.execute_reply": "2022-11-21T18:13:53.220243Z",
     "shell.execute_reply.started": "2022-11-21T18:13:53.193753Z"
    }
   },
   "outputs": [
    {
     "data": {
      "text/plain": "                                                   Mean Absolute Error Accuracy  \\\nxg boost (v11) rs                                                  42603.011667   \ncatboost (v11)                                                       45407.2565   \nneural network - random search [i64,norm,d64^6,...                 57201.738174   \nknn (v11)                                                          62944.705459   \n\n                                                   Mean Squared Error Accuracy  \\\nxg boost (v11) rs                                            3151478137.618505   \ncatboost (v11)                                               3503940324.932943   \nneural network - random search [i64,norm,d64^6,...           5268876368.550115   \nknn (v11)                                                    6042299808.369307   \n\n                                                   R square Accuracy  \\\nxg boost (v11) rs                                           0.721019   \ncatboost (v11)                                              0.689818   \nneural network - random search [i64,norm,d64^6,...          0.533579   \nknn (v11)                                                   0.465113   \n\n                                                   Root Mean Squared Error  \\\nxg boost (v11) rs                                             56138.027554   \ncatboost (v11)                                                59194.090287   \nneural network - random search [i64,norm,d64^6,...            72587.026172   \nknn (v11)                                                     77732.231464   \n\n                                                                      _method  \\\nxg boost (v11) rs                                                         NaN   \ncatboost (v11)                                      random search(no dummies)   \nneural network - random search [i64,norm,d64^6,...                        NaN   \nknn (v11)                                                       random search   \n\n                                                                                              _params  \\\nxg boost (v11) rs                                   {'model__max_depth': 10, 'model__n_estimators'...   \ncatboost (v11)                                      {'depth': 15, 'l2_leaf_reg': 5, 'learning_rate...   \nneural network - random search [i64,norm,d64^6,...                 {'batch_size': 100, 'epochs': 100}   \nknn (v11)                                           {'model__algorithm': 'ball_tree', 'model__leaf...   \n\n                                                      _score _train time  \\\nxg boost (v11) rs                                   0.721019    2.719016   \ncatboost (v11)                                      0.689818       12.81   \nneural network - random search [i64,norm,d64^6,...  0.533579       999.0   \nknn (v11)                                           0.465113    0.618877   \n\n                                                   best is shared  \\\nxg boost (v11) rs                                             NaN   \ncatboost (v11)                                              False   \nneural network - random search [i64,norm,d64^6,...            NaN   \nknn (v11)                                                   False   \n\n                                                                  best method  \\\nxg boost (v11) rs                                                         NaN   \ncatboost (v11)                                      random search(no dummies)   \nneural network - random search [i64,norm,d64^6,...                        NaN   \nknn (v11)                                                       random search   \n\n                                                    ...  \\\nxg boost (v11) rs                                   ...   \ncatboost (v11)                                      ...   \nneural network - random search [i64,norm,d64^6,...  ...   \nknn (v11)                                           ...   \n\n                                                                          date  \\\nxg boost (v11) rs                                   2022-10-30 13:45:08.761048   \ncatboost (v11)                                      2022-11-30 16:14:29.405177   \nneural network - random search [i64,norm,d64^6,...  2022-10-30 14:06:54.134246   \nknn (v11)                                           2022-11-30 16:20:53.948815   \n\n                                                                     first run  \\\nxg boost (v11) rs                                   2022-10-30 13:45:08.764931   \ncatboost (v11)                                      2022-11-30 16:14:29.418555   \nneural network - random search [i64,norm,d64^6,...  2022-10-30 14:06:54.136422   \nknn (v11)                                           2022-11-30 16:20:53.950981   \n\n                                                   random_state   run_env  \\\nxg boost (v11) rs                                           101       NaN   \ncatboost (v11)                                              101  gradient   \nneural network - random search [i64,norm,d64^6,...          101       NaN   \nknn (v11)                                                   101  gradient   \n\n                                                   silver method  \\\nxg boost (v11) rs                                            NaN   \ncatboost (v11)                                               NaN   \nneural network - random search [i64,norm,d64^6,...           NaN   \nknn (v11)                                                    NaN   \n\n                                                   silver params  \\\nxg boost (v11) rs                                            NaN   \ncatboost (v11)                                               NaN   \nneural network - random search [i64,norm,d64^6,...           NaN   \nknn (v11)                                                    NaN   \n\n                                                   silver run date  \\\nxg boost (v11) rs                                              NaN   \ncatboost (v11)                                                 NaN   \nneural network - random search [i64,norm,d64^6,...             NaN   \nknn (v11)                                                      NaN   \n\n                                                   silver score silver time  \\\nxg boost (v11) rs                                           NaN         NaN   \ncatboost (v11)                                              NaN         NaN   \nneural network - random search [i64,norm,d64^6,...          NaN         NaN   \nknn (v11)                                                   NaN         NaN   \n\n                                                   suboptimal  \nxg boost (v11) rs                                     pending  \ncatboost (v11)                                        pending  \nneural network - random search [i64,norm,d64^6,...    pending  \nknn (v11)                                             pending  \n\n[4 rows x 24 columns]",
      "text/html": "<div>\n<style scoped>\n    .dataframe tbody tr th:only-of-type {\n        vertical-align: middle;\n    }\n\n    .dataframe tbody tr th {\n        vertical-align: top;\n    }\n\n    .dataframe thead th {\n        text-align: right;\n    }\n</style>\n<table border=\"1\" class=\"dataframe\">\n  <thead>\n    <tr style=\"text-align: right;\">\n      <th></th>\n      <th>Mean Absolute Error Accuracy</th>\n      <th>Mean Squared Error Accuracy</th>\n      <th>R square Accuracy</th>\n      <th>Root Mean Squared Error</th>\n      <th>_method</th>\n      <th>_params</th>\n      <th>_score</th>\n      <th>_train time</th>\n      <th>best is shared</th>\n      <th>best method</th>\n      <th>...</th>\n      <th>date</th>\n      <th>first run</th>\n      <th>random_state</th>\n      <th>run_env</th>\n      <th>silver method</th>\n      <th>silver params</th>\n      <th>silver run date</th>\n      <th>silver score</th>\n      <th>silver time</th>\n      <th>suboptimal</th>\n    </tr>\n  </thead>\n  <tbody>\n    <tr>\n      <th>xg boost (v11) rs</th>\n      <td>42603.011667</td>\n      <td>3151478137.618505</td>\n      <td>0.721019</td>\n      <td>56138.027554</td>\n      <td>NaN</td>\n      <td>{'model__max_depth': 10, 'model__n_estimators'...</td>\n      <td>0.721019</td>\n      <td>2.719016</td>\n      <td>NaN</td>\n      <td>NaN</td>\n      <td>...</td>\n      <td>2022-10-30 13:45:08.761048</td>\n      <td>2022-10-30 13:45:08.764931</td>\n      <td>101</td>\n      <td>NaN</td>\n      <td>NaN</td>\n      <td>NaN</td>\n      <td>NaN</td>\n      <td>NaN</td>\n      <td>NaN</td>\n      <td>pending</td>\n    </tr>\n    <tr>\n      <th>catboost (v11)</th>\n      <td>45407.2565</td>\n      <td>3503940324.932943</td>\n      <td>0.689818</td>\n      <td>59194.090287</td>\n      <td>random search(no dummies)</td>\n      <td>{'depth': 15, 'l2_leaf_reg': 5, 'learning_rate...</td>\n      <td>0.689818</td>\n      <td>12.81</td>\n      <td>False</td>\n      <td>random search(no dummies)</td>\n      <td>...</td>\n      <td>2022-11-30 16:14:29.405177</td>\n      <td>2022-11-30 16:14:29.418555</td>\n      <td>101</td>\n      <td>gradient</td>\n      <td>NaN</td>\n      <td>NaN</td>\n      <td>NaN</td>\n      <td>NaN</td>\n      <td>NaN</td>\n      <td>pending</td>\n    </tr>\n    <tr>\n      <th>neural network - random search [i64,norm,d64^6,d1] (v11)</th>\n      <td>57201.738174</td>\n      <td>5268876368.550115</td>\n      <td>0.533579</td>\n      <td>72587.026172</td>\n      <td>NaN</td>\n      <td>{'batch_size': 100, 'epochs': 100}</td>\n      <td>0.533579</td>\n      <td>999.0</td>\n      <td>NaN</td>\n      <td>NaN</td>\n      <td>...</td>\n      <td>2022-10-30 14:06:54.134246</td>\n      <td>2022-10-30 14:06:54.136422</td>\n      <td>101</td>\n      <td>NaN</td>\n      <td>NaN</td>\n      <td>NaN</td>\n      <td>NaN</td>\n      <td>NaN</td>\n      <td>NaN</td>\n      <td>pending</td>\n    </tr>\n    <tr>\n      <th>knn (v11)</th>\n      <td>62944.705459</td>\n      <td>6042299808.369307</td>\n      <td>0.465113</td>\n      <td>77732.231464</td>\n      <td>random search</td>\n      <td>{'model__algorithm': 'ball_tree', 'model__leaf...</td>\n      <td>0.465113</td>\n      <td>0.618877</td>\n      <td>False</td>\n      <td>random search</td>\n      <td>...</td>\n      <td>2022-11-30 16:20:53.948815</td>\n      <td>2022-11-30 16:20:53.950981</td>\n      <td>101</td>\n      <td>gradient</td>\n      <td>NaN</td>\n      <td>NaN</td>\n      <td>NaN</td>\n      <td>NaN</td>\n      <td>NaN</td>\n      <td>pending</td>\n    </tr>\n  </tbody>\n</table>\n<p>4 rows × 24 columns</p>\n</div>"
     },
     "execution_count": 2,
     "metadata": {},
     "output_type": "execute_result"
    }
   ],
   "source": [
    "dataset_versions_df"
   ]
  },
  {
   "cell_type": "code",
   "execution_count": 3,
   "metadata": {
    "collapsed": false,
    "execution": {
     "iopub.execute_input": "2022-11-21T18:13:53.223184Z",
     "iopub.status.busy": "2022-11-21T18:13:53.222903Z",
     "iopub.status.idle": "2022-11-21T18:13:53.234453Z",
     "shell.execute_reply": "2022-11-21T18:13:53.233684Z",
     "shell.execute_reply.started": "2022-11-21T18:13:53.223160Z"
    },
    "jupyter": {
     "outputs_hidden": false
    }
   },
   "outputs": [
    {
     "data": {
      "text/plain": "                                                   best score best time  \\\nxg boost (v11) rs                                    0.721019       NaN   \ncatboost (v11)                                       0.689818     12.81   \nneural network - random search [i64,norm,d64^6,...   0.533579       NaN   \nknn (v11)                                            0.465113  0.618877   \n\n                                                   silver score silver time  \\\nxg boost (v11) rs                                           NaN         NaN   \ncatboost (v11)                                              NaN         NaN   \nneural network - random search [i64,norm,d64^6,...          NaN         NaN   \nknn (v11)                                                   NaN         NaN   \n\n                                                                  best method  \\\nxg boost (v11) rs                                                         NaN   \ncatboost (v11)                                      random search(no dummies)   \nneural network - random search [i64,norm,d64^6,...                        NaN   \nknn (v11)                                                       random search   \n\n                                                   silver method  \\\nxg boost (v11) rs                                            NaN   \ncatboost (v11)                                               NaN   \nneural network - random search [i64,norm,d64^6,...           NaN   \nknn (v11)                                                    NaN   \n\n                                                   best is shared  \nxg boost (v11) rs                                             NaN  \ncatboost (v11)                                              False  \nneural network - random search [i64,norm,d64^6,...            NaN  \nknn (v11)                                                   False  ",
      "text/html": "<div>\n<style scoped>\n    .dataframe tbody tr th:only-of-type {\n        vertical-align: middle;\n    }\n\n    .dataframe tbody tr th {\n        vertical-align: top;\n    }\n\n    .dataframe thead th {\n        text-align: right;\n    }\n</style>\n<table border=\"1\" class=\"dataframe\">\n  <thead>\n    <tr style=\"text-align: right;\">\n      <th></th>\n      <th>best score</th>\n      <th>best time</th>\n      <th>silver score</th>\n      <th>silver time</th>\n      <th>best method</th>\n      <th>silver method</th>\n      <th>best is shared</th>\n    </tr>\n  </thead>\n  <tbody>\n    <tr>\n      <th>xg boost (v11) rs</th>\n      <td>0.721019</td>\n      <td>NaN</td>\n      <td>NaN</td>\n      <td>NaN</td>\n      <td>NaN</td>\n      <td>NaN</td>\n      <td>NaN</td>\n    </tr>\n    <tr>\n      <th>catboost (v11)</th>\n      <td>0.689818</td>\n      <td>12.81</td>\n      <td>NaN</td>\n      <td>NaN</td>\n      <td>random search(no dummies)</td>\n      <td>NaN</td>\n      <td>False</td>\n    </tr>\n    <tr>\n      <th>neural network - random search [i64,norm,d64^6,d1] (v11)</th>\n      <td>0.533579</td>\n      <td>NaN</td>\n      <td>NaN</td>\n      <td>NaN</td>\n      <td>NaN</td>\n      <td>NaN</td>\n      <td>NaN</td>\n    </tr>\n    <tr>\n      <th>knn (v11)</th>\n      <td>0.465113</td>\n      <td>0.618877</td>\n      <td>NaN</td>\n      <td>NaN</td>\n      <td>random search</td>\n      <td>NaN</td>\n      <td>False</td>\n    </tr>\n  </tbody>\n</table>\n</div>"
     },
     "execution_count": 3,
     "metadata": {},
     "output_type": "execute_result"
    }
   ],
   "source": [
    "df_summary_1_vs_2 = dataset_versions_df[['best score', 'best time', 'silver score', 'silver time', 'best method', 'silver method', 'best is shared']]\n",
    "df_summary_1_vs_2"
   ]
  },
  {
   "cell_type": "code",
   "execution_count": 4,
   "metadata": {
    "collapsed": false,
    "execution": {
     "iopub.execute_input": "2022-11-21T18:13:53.236141Z",
     "iopub.status.busy": "2022-11-21T18:13:53.235887Z",
     "iopub.status.idle": "2022-11-21T18:13:53.251843Z",
     "shell.execute_reply": "2022-11-21T18:13:53.251035Z",
     "shell.execute_reply.started": "2022-11-21T18:13:53.236119Z"
    },
    "jupyter": {
     "outputs_hidden": false
    }
   },
   "outputs": [
    {
     "data": {
      "text/plain": "                                                   best score best time  \\\nxg boost (v11) rs                                    0.721019       NaN   \ncatboost (v11)                                       0.689818     12.81   \nneural network - random search [i64,norm,d64^6,...   0.533579       NaN   \nknn (v11)                                            0.465113  0.618877   \n\n                                                   silver score silver time  \\\nxg boost (v11) rs                                           NaN         NaN   \ncatboost (v11)                                              NaN         NaN   \nneural network - random search [i64,norm,d64^6,...          NaN         NaN   \nknn (v11)                                                   NaN         NaN   \n\n                                                                                          best params  \\\nxg boost (v11) rs                                   {'model__max_depth': 10, 'model__n_estimators'...   \ncatboost (v11)                                      {'depth': 15, 'l2_leaf_reg': 5, 'learning_rate...   \nneural network - random search [i64,norm,d64^6,...                 {'batch_size': 100, 'epochs': 100}   \nknn (v11)                                           {'model__algorithm': 'ball_tree', 'model__leaf...   \n\n                                                   silver params  \\\nxg boost (v11) rs                                            NaN   \ncatboost (v11)                                               NaN   \nneural network - random search [i64,norm,d64^6,...           NaN   \nknn (v11)                                                    NaN   \n\n                                                   best is shared  \nxg boost (v11) rs                                             NaN  \ncatboost (v11)                                              False  \nneural network - random search [i64,norm,d64^6,...            NaN  \nknn (v11)                                                   False  ",
      "text/html": "<div>\n<style scoped>\n    .dataframe tbody tr th:only-of-type {\n        vertical-align: middle;\n    }\n\n    .dataframe tbody tr th {\n        vertical-align: top;\n    }\n\n    .dataframe thead th {\n        text-align: right;\n    }\n</style>\n<table border=\"1\" class=\"dataframe\">\n  <thead>\n    <tr style=\"text-align: right;\">\n      <th></th>\n      <th>best score</th>\n      <th>best time</th>\n      <th>silver score</th>\n      <th>silver time</th>\n      <th>best params</th>\n      <th>silver params</th>\n      <th>best is shared</th>\n    </tr>\n  </thead>\n  <tbody>\n    <tr>\n      <th>xg boost (v11) rs</th>\n      <td>0.721019</td>\n      <td>NaN</td>\n      <td>NaN</td>\n      <td>NaN</td>\n      <td>{'model__max_depth': 10, 'model__n_estimators'...</td>\n      <td>NaN</td>\n      <td>NaN</td>\n    </tr>\n    <tr>\n      <th>catboost (v11)</th>\n      <td>0.689818</td>\n      <td>12.81</td>\n      <td>NaN</td>\n      <td>NaN</td>\n      <td>{'depth': 15, 'l2_leaf_reg': 5, 'learning_rate...</td>\n      <td>NaN</td>\n      <td>False</td>\n    </tr>\n    <tr>\n      <th>neural network - random search [i64,norm,d64^6,d1] (v11)</th>\n      <td>0.533579</td>\n      <td>NaN</td>\n      <td>NaN</td>\n      <td>NaN</td>\n      <td>{'batch_size': 100, 'epochs': 100}</td>\n      <td>NaN</td>\n      <td>NaN</td>\n    </tr>\n    <tr>\n      <th>knn (v11)</th>\n      <td>0.465113</td>\n      <td>0.618877</td>\n      <td>NaN</td>\n      <td>NaN</td>\n      <td>{'model__algorithm': 'ball_tree', 'model__leaf...</td>\n      <td>NaN</td>\n      <td>False</td>\n    </tr>\n  </tbody>\n</table>\n</div>"
     },
     "execution_count": 4,
     "metadata": {},
     "output_type": "execute_result"
    }
   ],
   "source": [
    "df_1_vs_2b = dataset_versions_df[['best score', 'best time', 'silver score', 'silver time', 'best params', 'silver params', 'best is shared']]\n",
    "df_1_vs_2b\n",
    "#{'model__booster': 'gbtree', 'model__early_stopping_rounds': None, 'model__gamma': 100, 'model__learning_rate': None, 'model__max_delta_step': 0, 'model__max_depth': 6, 'model__min_child_weight': ..."
   ]
  }
 ],
 "metadata": {
  "kernelspec": {
   "display_name": "Python 3 (ipykernel)",
   "language": "python",
   "name": "python3"
  },
  "language_info": {
   "codemirror_mode": {
    "name": "ipython",
    "version": 3
   },
   "file_extension": ".py",
   "mimetype": "text/x-python",
   "name": "python",
   "nbconvert_exporter": "python",
   "pygments_lexer": "ipython3",
   "version": "3.9.13"
  }
 },
 "nbformat": 4,
 "nbformat_minor": 4
}
