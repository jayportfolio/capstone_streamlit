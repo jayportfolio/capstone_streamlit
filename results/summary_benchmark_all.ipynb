{
 "cells": [
  {
   "cell_type": "code",
   "execution_count": 8,
   "metadata": {
    "execution": {
     "iopub.execute_input": "2022-11-29T21:16:11.603450Z",
     "iopub.status.busy": "2022-11-29T21:16:11.602849Z",
     "iopub.status.idle": "2022-11-29T21:16:11.744753Z",
     "shell.execute_reply": "2022-11-29T21:16:11.741453Z",
     "shell.execute_reply.started": "2022-11-29T21:16:11.603415Z"
    }
   },
   "outputs": [
    {
     "data": {
      "text/plain": "               best score best time Mean Absolute Error Accuracy  \\\ncatboost (v10)   0.694651      4.77                 44874.996907   \nxg boost (v10)   0.681785  9.309589                 46626.687574   \nknn (v10)        0.484585   0.29179                  61764.24973   \n\n               Mean Squared Error Accuracy R square Accuracy  \\\ncatboost (v10)           3449348436.406789          0.694651   \nxg boost (v10)           3594689512.156493          0.681785   \nknn (v10)                5822338150.186446          0.484585   \n\n               Root Mean Squared Error               best run date  \\\ncatboost (v10)            58731.153883  2022-11-30 14:14:50.145713   \nxg boost (v10)            59955.729602  2022-11-30 14:45:52.207314   \nknn (v10)                 76304.247262  2022-11-30 15:12:50.989371   \n\n                              best method best is shared suboptimal  \ncatboost (v10)  random search(no dummies)          False    pending  \nxg boost (v10)              random search          False    pending  \nknn (v10)                   random search          False    pending  ",
      "text/html": "<div>\n<style scoped>\n    .dataframe tbody tr th:only-of-type {\n        vertical-align: middle;\n    }\n\n    .dataframe tbody tr th {\n        vertical-align: top;\n    }\n\n    .dataframe thead th {\n        text-align: right;\n    }\n</style>\n<table border=\"1\" class=\"dataframe\">\n  <thead>\n    <tr style=\"text-align: right;\">\n      <th></th>\n      <th>best score</th>\n      <th>best time</th>\n      <th>Mean Absolute Error Accuracy</th>\n      <th>Mean Squared Error Accuracy</th>\n      <th>R square Accuracy</th>\n      <th>Root Mean Squared Error</th>\n      <th>best run date</th>\n      <th>best method</th>\n      <th>best is shared</th>\n      <th>suboptimal</th>\n    </tr>\n  </thead>\n  <tbody>\n    <tr>\n      <th>catboost (v10)</th>\n      <td>0.694651</td>\n      <td>4.77</td>\n      <td>44874.996907</td>\n      <td>3449348436.406789</td>\n      <td>0.694651</td>\n      <td>58731.153883</td>\n      <td>2022-11-30 14:14:50.145713</td>\n      <td>random search(no dummies)</td>\n      <td>False</td>\n      <td>pending</td>\n    </tr>\n    <tr>\n      <th>xg boost (v10)</th>\n      <td>0.681785</td>\n      <td>9.309589</td>\n      <td>46626.687574</td>\n      <td>3594689512.156493</td>\n      <td>0.681785</td>\n      <td>59955.729602</td>\n      <td>2022-11-30 14:45:52.207314</td>\n      <td>random search</td>\n      <td>False</td>\n      <td>pending</td>\n    </tr>\n    <tr>\n      <th>knn (v10)</th>\n      <td>0.484585</td>\n      <td>0.29179</td>\n      <td>61764.24973</td>\n      <td>5822338150.186446</td>\n      <td>0.484585</td>\n      <td>76304.247262</td>\n      <td>2022-11-30 15:12:50.989371</td>\n      <td>random search</td>\n      <td>False</td>\n      <td>pending</td>\n    </tr>\n  </tbody>\n</table>\n</div>"
     },
     "execution_count": 8,
     "metadata": {},
     "output_type": "execute_result"
    }
   ],
   "source": [
    "import pandas as pd\n",
    "\n",
    "dff = pd.read_json('results.json')\n",
    "\n",
    "version = 'all'\n",
    "version = 'v10'\n",
    "\n",
    "if version == 'all':\n",
    "    vNN_columns = dff.columns\n",
    "else:\n",
    "    vNN_columns = [c for c in dff.columns if version in c]\n",
    "\n",
    "dataset_versions_df = dff[vNN_columns].T.sort_values(\"best score\", ascending=False)\n",
    "dataset_versions_df_summary = dataset_versions_df[['best score', 'best time', 'Mean Absolute Error Accuracy', 'Mean Squared Error Accuracy', 'R square Accuracy', 'Root Mean Squared Error', 'best run date', 'best method', 'best is shared', \"suboptimal\"]]\n",
    "dataset_versions_df_summary"
   ]
  },
  {
   "cell_type": "code",
   "execution_count": 9,
   "metadata": {
    "execution": {
     "iopub.execute_input": "2022-11-21T18:13:53.193777Z",
     "iopub.status.busy": "2022-11-21T18:13:53.193478Z",
     "iopub.status.idle": "2022-11-21T18:13:53.221268Z",
     "shell.execute_reply": "2022-11-21T18:13:53.220243Z",
     "shell.execute_reply.started": "2022-11-21T18:13:53.193753Z"
    }
   },
   "outputs": [
    {
     "data": {
      "text/plain": "               Mean Absolute Error Accuracy Mean Squared Error Accuracy  \\\ncatboost (v10)                 44874.996907           3449348436.406789   \nxg boost (v10)                 46626.687574           3594689512.156493   \nknn (v10)                       61764.24973           5822338150.186446   \n\n               R square Accuracy Root Mean Squared Error  \\\ncatboost (v10)          0.694651            58731.153883   \nxg boost (v10)          0.681785            59955.729602   \nknn (v10)               0.484585            76304.247262   \n\n                                  _method  \\\ncatboost (v10)  random search(no dummies)   \nxg boost (v10)              random search   \nknn (v10)                   random search   \n\n                                                          _params    _score  \\\ncatboost (v10)  {'depth': 15, 'l2_leaf_reg': 5, 'learning_rate...  0.694651   \nxg boost (v10)  {'model__booster': 'gbtree', 'model__early_sto...  0.681785   \nknn (v10)       {'model__algorithm': 'kd_tree', 'model__leaf_s...  0.484585   \n\n               _train time best is shared                best method  ...  \\\ncatboost (v10)        4.77          False  random search(no dummies)  ...   \nxg boost (v10)    9.309589          False              random search  ...   \nknn (v10)          0.29179          False              random search  ...   \n\n                                      date                   first run  \\\ncatboost (v10)  2022-11-30 14:14:50.145713  2022-11-30 14:14:50.147223   \nxg boost (v10)  2022-11-30 14:45:52.207314  2022-11-30 14:45:52.209401   \nknn (v10)       2022-11-30 15:12:50.989371  2022-11-30 15:12:50.990833   \n\n               random_state   run_env silver method silver params  \\\ncatboost (v10)          101  gradient           NaN           NaN   \nxg boost (v10)          101  gradient           NaN           NaN   \nknn (v10)               101  gradient           NaN           NaN   \n\n               silver run date silver score silver time suboptimal  \ncatboost (v10)             NaN          NaN         NaN    pending  \nxg boost (v10)             NaN          NaN         NaN    pending  \nknn (v10)                  NaN          NaN         NaN    pending  \n\n[3 rows x 24 columns]",
      "text/html": "<div>\n<style scoped>\n    .dataframe tbody tr th:only-of-type {\n        vertical-align: middle;\n    }\n\n    .dataframe tbody tr th {\n        vertical-align: top;\n    }\n\n    .dataframe thead th {\n        text-align: right;\n    }\n</style>\n<table border=\"1\" class=\"dataframe\">\n  <thead>\n    <tr style=\"text-align: right;\">\n      <th></th>\n      <th>Mean Absolute Error Accuracy</th>\n      <th>Mean Squared Error Accuracy</th>\n      <th>R square Accuracy</th>\n      <th>Root Mean Squared Error</th>\n      <th>_method</th>\n      <th>_params</th>\n      <th>_score</th>\n      <th>_train time</th>\n      <th>best is shared</th>\n      <th>best method</th>\n      <th>...</th>\n      <th>date</th>\n      <th>first run</th>\n      <th>random_state</th>\n      <th>run_env</th>\n      <th>silver method</th>\n      <th>silver params</th>\n      <th>silver run date</th>\n      <th>silver score</th>\n      <th>silver time</th>\n      <th>suboptimal</th>\n    </tr>\n  </thead>\n  <tbody>\n    <tr>\n      <th>catboost (v10)</th>\n      <td>44874.996907</td>\n      <td>3449348436.406789</td>\n      <td>0.694651</td>\n      <td>58731.153883</td>\n      <td>random search(no dummies)</td>\n      <td>{'depth': 15, 'l2_leaf_reg': 5, 'learning_rate...</td>\n      <td>0.694651</td>\n      <td>4.77</td>\n      <td>False</td>\n      <td>random search(no dummies)</td>\n      <td>...</td>\n      <td>2022-11-30 14:14:50.145713</td>\n      <td>2022-11-30 14:14:50.147223</td>\n      <td>101</td>\n      <td>gradient</td>\n      <td>NaN</td>\n      <td>NaN</td>\n      <td>NaN</td>\n      <td>NaN</td>\n      <td>NaN</td>\n      <td>pending</td>\n    </tr>\n    <tr>\n      <th>xg boost (v10)</th>\n      <td>46626.687574</td>\n      <td>3594689512.156493</td>\n      <td>0.681785</td>\n      <td>59955.729602</td>\n      <td>random search</td>\n      <td>{'model__booster': 'gbtree', 'model__early_sto...</td>\n      <td>0.681785</td>\n      <td>9.309589</td>\n      <td>False</td>\n      <td>random search</td>\n      <td>...</td>\n      <td>2022-11-30 14:45:52.207314</td>\n      <td>2022-11-30 14:45:52.209401</td>\n      <td>101</td>\n      <td>gradient</td>\n      <td>NaN</td>\n      <td>NaN</td>\n      <td>NaN</td>\n      <td>NaN</td>\n      <td>NaN</td>\n      <td>pending</td>\n    </tr>\n    <tr>\n      <th>knn (v10)</th>\n      <td>61764.24973</td>\n      <td>5822338150.186446</td>\n      <td>0.484585</td>\n      <td>76304.247262</td>\n      <td>random search</td>\n      <td>{'model__algorithm': 'kd_tree', 'model__leaf_s...</td>\n      <td>0.484585</td>\n      <td>0.29179</td>\n      <td>False</td>\n      <td>random search</td>\n      <td>...</td>\n      <td>2022-11-30 15:12:50.989371</td>\n      <td>2022-11-30 15:12:50.990833</td>\n      <td>101</td>\n      <td>gradient</td>\n      <td>NaN</td>\n      <td>NaN</td>\n      <td>NaN</td>\n      <td>NaN</td>\n      <td>NaN</td>\n      <td>pending</td>\n    </tr>\n  </tbody>\n</table>\n<p>3 rows × 24 columns</p>\n</div>"
     },
     "execution_count": 9,
     "metadata": {},
     "output_type": "execute_result"
    }
   ],
   "source": [
    "dataset_versions_df"
   ]
  },
  {
   "cell_type": "code",
   "execution_count": 10,
   "metadata": {
    "collapsed": false,
    "execution": {
     "iopub.execute_input": "2022-11-21T18:13:53.223184Z",
     "iopub.status.busy": "2022-11-21T18:13:53.222903Z",
     "iopub.status.idle": "2022-11-21T18:13:53.234453Z",
     "shell.execute_reply": "2022-11-21T18:13:53.233684Z",
     "shell.execute_reply.started": "2022-11-21T18:13:53.223160Z"
    },
    "jupyter": {
     "outputs_hidden": false
    }
   },
   "outputs": [
    {
     "data": {
      "text/plain": "               best score best time silver score silver time  \\\ncatboost (v10)   0.694651      4.77          NaN         NaN   \nxg boost (v10)   0.681785  9.309589          NaN         NaN   \nknn (v10)        0.484585   0.29179          NaN         NaN   \n\n                              best method silver method best is shared  \ncatboost (v10)  random search(no dummies)           NaN          False  \nxg boost (v10)              random search           NaN          False  \nknn (v10)                   random search           NaN          False  ",
      "text/html": "<div>\n<style scoped>\n    .dataframe tbody tr th:only-of-type {\n        vertical-align: middle;\n    }\n\n    .dataframe tbody tr th {\n        vertical-align: top;\n    }\n\n    .dataframe thead th {\n        text-align: right;\n    }\n</style>\n<table border=\"1\" class=\"dataframe\">\n  <thead>\n    <tr style=\"text-align: right;\">\n      <th></th>\n      <th>best score</th>\n      <th>best time</th>\n      <th>silver score</th>\n      <th>silver time</th>\n      <th>best method</th>\n      <th>silver method</th>\n      <th>best is shared</th>\n    </tr>\n  </thead>\n  <tbody>\n    <tr>\n      <th>catboost (v10)</th>\n      <td>0.694651</td>\n      <td>4.77</td>\n      <td>NaN</td>\n      <td>NaN</td>\n      <td>random search(no dummies)</td>\n      <td>NaN</td>\n      <td>False</td>\n    </tr>\n    <tr>\n      <th>xg boost (v10)</th>\n      <td>0.681785</td>\n      <td>9.309589</td>\n      <td>NaN</td>\n      <td>NaN</td>\n      <td>random search</td>\n      <td>NaN</td>\n      <td>False</td>\n    </tr>\n    <tr>\n      <th>knn (v10)</th>\n      <td>0.484585</td>\n      <td>0.29179</td>\n      <td>NaN</td>\n      <td>NaN</td>\n      <td>random search</td>\n      <td>NaN</td>\n      <td>False</td>\n    </tr>\n  </tbody>\n</table>\n</div>"
     },
     "execution_count": 10,
     "metadata": {},
     "output_type": "execute_result"
    }
   ],
   "source": [
    "df_summary_1_vs_2 = dataset_versions_df[['best score', 'best time', 'silver score', 'silver time', 'best method', 'silver method', 'best is shared']]\n",
    "df_summary_1_vs_2"
   ]
  },
  {
   "cell_type": "code",
   "execution_count": 11,
   "metadata": {
    "collapsed": false,
    "execution": {
     "iopub.execute_input": "2022-11-21T18:13:53.236141Z",
     "iopub.status.busy": "2022-11-21T18:13:53.235887Z",
     "iopub.status.idle": "2022-11-21T18:13:53.251843Z",
     "shell.execute_reply": "2022-11-21T18:13:53.251035Z",
     "shell.execute_reply.started": "2022-11-21T18:13:53.236119Z"
    },
    "jupyter": {
     "outputs_hidden": false
    }
   },
   "outputs": [
    {
     "data": {
      "text/plain": "               best score best time silver score silver time  \\\ncatboost (v10)   0.694651      4.77          NaN         NaN   \nxg boost (v10)   0.681785  9.309589          NaN         NaN   \nknn (v10)        0.484585   0.29179          NaN         NaN   \n\n                                                      best params  \\\ncatboost (v10)  {'depth': 15, 'l2_leaf_reg': 5, 'learning_rate...   \nxg boost (v10)  {'model__booster': 'gbtree', 'model__early_sto...   \nknn (v10)       {'model__algorithm': 'kd_tree', 'model__leaf_s...   \n\n               silver params best is shared  \ncatboost (v10)           NaN          False  \nxg boost (v10)           NaN          False  \nknn (v10)                NaN          False  ",
      "text/html": "<div>\n<style scoped>\n    .dataframe tbody tr th:only-of-type {\n        vertical-align: middle;\n    }\n\n    .dataframe tbody tr th {\n        vertical-align: top;\n    }\n\n    .dataframe thead th {\n        text-align: right;\n    }\n</style>\n<table border=\"1\" class=\"dataframe\">\n  <thead>\n    <tr style=\"text-align: right;\">\n      <th></th>\n      <th>best score</th>\n      <th>best time</th>\n      <th>silver score</th>\n      <th>silver time</th>\n      <th>best params</th>\n      <th>silver params</th>\n      <th>best is shared</th>\n    </tr>\n  </thead>\n  <tbody>\n    <tr>\n      <th>catboost (v10)</th>\n      <td>0.694651</td>\n      <td>4.77</td>\n      <td>NaN</td>\n      <td>NaN</td>\n      <td>{'depth': 15, 'l2_leaf_reg': 5, 'learning_rate...</td>\n      <td>NaN</td>\n      <td>False</td>\n    </tr>\n    <tr>\n      <th>xg boost (v10)</th>\n      <td>0.681785</td>\n      <td>9.309589</td>\n      <td>NaN</td>\n      <td>NaN</td>\n      <td>{'model__booster': 'gbtree', 'model__early_sto...</td>\n      <td>NaN</td>\n      <td>False</td>\n    </tr>\n    <tr>\n      <th>knn (v10)</th>\n      <td>0.484585</td>\n      <td>0.29179</td>\n      <td>NaN</td>\n      <td>NaN</td>\n      <td>{'model__algorithm': 'kd_tree', 'model__leaf_s...</td>\n      <td>NaN</td>\n      <td>False</td>\n    </tr>\n  </tbody>\n</table>\n</div>"
     },
     "execution_count": 11,
     "metadata": {},
     "output_type": "execute_result"
    }
   ],
   "source": [
    "df_1_vs_2b = dataset_versions_df[['best score', 'best time', 'silver score', 'silver time', 'best params', 'silver params', 'best is shared']]\n",
    "df_1_vs_2b\n",
    "#{'model__booster': 'gbtree', 'model__early_stopping_rounds': None, 'model__gamma': 100, 'model__learning_rate': None, 'model__max_delta_step': 0, 'model__max_depth': 6, 'model__min_child_weight': ..."
   ]
  }
 ],
 "metadata": {
  "kernelspec": {
   "display_name": "Python 3 (ipykernel)",
   "language": "python",
   "name": "python3"
  },
  "language_info": {
   "codemirror_mode": {
    "name": "ipython",
    "version": 3
   },
   "file_extension": ".py",
   "mimetype": "text/x-python",
   "name": "python",
   "nbconvert_exporter": "python",
   "pygments_lexer": "ipython3",
   "version": "3.9.13"
  }
 },
 "nbformat": 4,
 "nbformat_minor": 4
}
