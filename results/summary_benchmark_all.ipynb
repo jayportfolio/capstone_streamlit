{
 "cells": [
  {
   "cell_type": "code",
   "execution_count": 10,
   "metadata": {
    "execution": {
     "iopub.execute_input": "2022-11-29T21:16:11.603450Z",
     "iopub.status.busy": "2022-11-29T21:16:11.602849Z",
     "iopub.status.idle": "2022-11-29T21:16:11.744753Z",
     "shell.execute_reply": "2022-11-29T21:16:11.741453Z",
     "shell.execute_reply.started": "2022-11-29T21:16:11.603415Z"
    }
   },
   "outputs": [
    {
     "data": {
      "text/plain": "                                    best score best time  \\\nxg boost - random search (v10)        0.711437       NaN   \ncatboost (v10)                        0.694651      4.77   \nxg boost (v10)                        0.681785  9.309589   \nrandom forest - random search (v10)   0.647421       NaN   \ndecision tree - random search (v10)   0.558257       NaN   \nknn - random search (v10)             0.533823  0.049768   \nknn (v10)                             0.484585   0.29179   \n\n                                    Mean Absolute Error Accuracy  \\\nxg boost - random search (v10)                      43382.001905   \ncatboost (v10)                                      44874.996907   \nxg boost (v10)                                      46626.687574   \nrandom forest - random search (v10)                  49941.97226   \ndecision tree - random search (v10)                 55865.420033   \nknn - random search (v10)                            57566.89987   \nknn (v10)                                            61764.24973   \n\n                                    Mean Squared Error Accuracy  \\\nxg boost - random search (v10)                3259725321.759749   \ncatboost (v10)                                3449348436.406789   \nxg boost (v10)                                3594689512.156493   \nrandom forest - random search (v10)           3982880817.256231   \ndecision tree - random search (v10)           4990106642.657863   \nknn - random search (v10)                     5266126938.137675   \nknn (v10)                                     5822338150.186446   \n\n                                    R square Accuracy Root Mean Squared Error  \\\nxg boost - random search (v10)               0.711437            57094.004254   \ncatboost (v10)                               0.694651            58731.153883   \nxg boost (v10)                               0.681785            59955.729602   \nrandom forest - random search (v10)          0.647421            63110.069064   \ndecision tree - random search (v10)          0.558257            70640.686878   \nknn - random search (v10)                    0.533823            72568.084845   \nknn (v10)                                    0.484585            76304.247262   \n\n                                                  best run date  \\\nxg boost - random search (v10)                              NaN   \ncatboost (v10)                       2022-11-30 14:14:50.145713   \nxg boost (v10)                       2022-11-30 14:45:52.207314   \nrandom forest - random search (v10)                         NaN   \ndecision tree - random search (v10)                         NaN   \nknn - random search (v10)                                   NaN   \nknn (v10)                            2022-11-30 15:12:50.989371   \n\n                                                   best method best is shared  \\\nxg boost - random search (v10)                             NaN            NaN   \ncatboost (v10)                       random search(no dummies)          False   \nxg boost (v10)                                   random search          False   \nrandom forest - random search (v10)                        NaN            NaN   \ndecision tree - random search (v10)                        NaN            NaN   \nknn - random search (v10)                                  NaN            NaN   \nknn (v10)                                        random search          False   \n\n                                    suboptimal  \nxg boost - random search (v10)         pending  \ncatboost (v10)                         pending  \nxg boost (v10)                         pending  \nrandom forest - random search (v10)    pending  \ndecision tree - random search (v10)    pending  \nknn - random search (v10)              pending  \nknn (v10)                              pending  ",
      "text/html": "<div>\n<style scoped>\n    .dataframe tbody tr th:only-of-type {\n        vertical-align: middle;\n    }\n\n    .dataframe tbody tr th {\n        vertical-align: top;\n    }\n\n    .dataframe thead th {\n        text-align: right;\n    }\n</style>\n<table border=\"1\" class=\"dataframe\">\n  <thead>\n    <tr style=\"text-align: right;\">\n      <th></th>\n      <th>best score</th>\n      <th>best time</th>\n      <th>Mean Absolute Error Accuracy</th>\n      <th>Mean Squared Error Accuracy</th>\n      <th>R square Accuracy</th>\n      <th>Root Mean Squared Error</th>\n      <th>best run date</th>\n      <th>best method</th>\n      <th>best is shared</th>\n      <th>suboptimal</th>\n    </tr>\n  </thead>\n  <tbody>\n    <tr>\n      <th>xg boost - random search (v10)</th>\n      <td>0.711437</td>\n      <td>NaN</td>\n      <td>43382.001905</td>\n      <td>3259725321.759749</td>\n      <td>0.711437</td>\n      <td>57094.004254</td>\n      <td>NaN</td>\n      <td>NaN</td>\n      <td>NaN</td>\n      <td>pending</td>\n    </tr>\n    <tr>\n      <th>catboost (v10)</th>\n      <td>0.694651</td>\n      <td>4.77</td>\n      <td>44874.996907</td>\n      <td>3449348436.406789</td>\n      <td>0.694651</td>\n      <td>58731.153883</td>\n      <td>2022-11-30 14:14:50.145713</td>\n      <td>random search(no dummies)</td>\n      <td>False</td>\n      <td>pending</td>\n    </tr>\n    <tr>\n      <th>xg boost (v10)</th>\n      <td>0.681785</td>\n      <td>9.309589</td>\n      <td>46626.687574</td>\n      <td>3594689512.156493</td>\n      <td>0.681785</td>\n      <td>59955.729602</td>\n      <td>2022-11-30 14:45:52.207314</td>\n      <td>random search</td>\n      <td>False</td>\n      <td>pending</td>\n    </tr>\n    <tr>\n      <th>random forest - random search (v10)</th>\n      <td>0.647421</td>\n      <td>NaN</td>\n      <td>49941.97226</td>\n      <td>3982880817.256231</td>\n      <td>0.647421</td>\n      <td>63110.069064</td>\n      <td>NaN</td>\n      <td>NaN</td>\n      <td>NaN</td>\n      <td>pending</td>\n    </tr>\n    <tr>\n      <th>decision tree - random search (v10)</th>\n      <td>0.558257</td>\n      <td>NaN</td>\n      <td>55865.420033</td>\n      <td>4990106642.657863</td>\n      <td>0.558257</td>\n      <td>70640.686878</td>\n      <td>NaN</td>\n      <td>NaN</td>\n      <td>NaN</td>\n      <td>pending</td>\n    </tr>\n    <tr>\n      <th>knn - random search (v10)</th>\n      <td>0.533823</td>\n      <td>0.049768</td>\n      <td>57566.89987</td>\n      <td>5266126938.137675</td>\n      <td>0.533823</td>\n      <td>72568.084845</td>\n      <td>NaN</td>\n      <td>NaN</td>\n      <td>NaN</td>\n      <td>pending</td>\n    </tr>\n    <tr>\n      <th>knn (v10)</th>\n      <td>0.484585</td>\n      <td>0.29179</td>\n      <td>61764.24973</td>\n      <td>5822338150.186446</td>\n      <td>0.484585</td>\n      <td>76304.247262</td>\n      <td>2022-11-30 15:12:50.989371</td>\n      <td>random search</td>\n      <td>False</td>\n      <td>pending</td>\n    </tr>\n  </tbody>\n</table>\n</div>"
     },
     "execution_count": 10,
     "metadata": {},
     "output_type": "execute_result"
    }
   ],
   "source": [
    "import pandas as pd\n",
    "\n",
    "dff = pd.read_json('results.json')\n",
    "\n",
    "#version = 'all'\n",
    "version = '10'\n",
    "\n",
    "if version == 'all':\n",
    "    vNN_columns = dff.columns\n",
    "else:\n",
    "    vNN_columns = [c for c in dff.columns if version in c]\n",
    "\n",
    "dataset_versions_df = dff[vNN_columns].T.sort_values(\"best score\", ascending=False)\n",
    "dataset_versions_df_summary = dataset_versions_df[['best score', 'best time', 'Mean Absolute Error Accuracy', 'Mean Squared Error Accuracy', 'R square Accuracy', 'Root Mean Squared Error', 'best run date', 'best method', 'best is shared', \"suboptimal\"]]\n",
    "dataset_versions_df_summary"
   ]
  },
  {
   "cell_type": "code",
   "execution_count": 3,
   "metadata": {
    "execution": {
     "iopub.execute_input": "2022-11-21T18:13:53.193777Z",
     "iopub.status.busy": "2022-11-21T18:13:53.193478Z",
     "iopub.status.idle": "2022-11-21T18:13:53.221268Z",
     "shell.execute_reply": "2022-11-21T18:13:53.220243Z",
     "shell.execute_reply.started": "2022-11-21T18:13:53.193753Z"
    }
   },
   "outputs": [
    {
     "data": {
      "text/plain": "                                    Mean Absolute Error Accuracy  \\\nxg boost - random search (v10)                      43382.001905   \ncatboost (v10)                                      44874.996907   \nxg boost (v10)                                      46626.687574   \nrandom forest - random search (v10)                  49941.97226   \ndecision tree - random search (v10)                 55865.420033   \nknn - random search (v10)                            57566.89987   \n\n                                    Mean Squared Error Accuracy  \\\nxg boost - random search (v10)                3259725321.759749   \ncatboost (v10)                                3449348436.406789   \nxg boost (v10)                                3594689512.156493   \nrandom forest - random search (v10)           3982880817.256231   \ndecision tree - random search (v10)           4990106642.657863   \nknn - random search (v10)                     5266126938.137675   \n\n                                    R square Accuracy Root Mean Squared Error  \\\nxg boost - random search (v10)               0.711437            57094.004254   \ncatboost (v10)                               0.694651            58731.153883   \nxg boost (v10)                               0.681785            59955.729602   \nrandom forest - random search (v10)          0.647421            63110.069064   \ndecision tree - random search (v10)          0.558257            70640.686878   \nknn - random search (v10)                    0.533823            72568.084845   \n\n                                                       _method  \\\nxg boost - random search (v10)                             NaN   \ncatboost (v10)                       random search(no dummies)   \nxg boost (v10)                                   random search   \nrandom forest - random search (v10)                        NaN   \ndecision tree - random search (v10)                        NaN   \nknn - random search (v10)                                  NaN   \n\n                                                                               _params  \\\nxg boost - random search (v10)       {'model__max_depth': 10, 'model__n_estimators'...   \ncatboost (v10)                       {'depth': 15, 'l2_leaf_reg': 5, 'learning_rate...   \nxg boost (v10)                       {'model__booster': 'gbtree', 'model__early_sto...   \nrandom forest - random search (v10)  {'model__bootstrap': True, 'model__ccp_alpha':...   \ndecision tree - random search (v10)  {'model__ccp_alpha': 1, 'model__criterion': 'f...   \nknn - random search (v10)            {'model__algorithm': 'auto', 'model__leaf_size...   \n\n                                       _score _train time best is shared  \\\nxg boost - random search (v10)       0.711437     3.79557            NaN   \ncatboost (v10)                       0.694651        4.77          False   \nxg boost (v10)                       0.681785    9.309589          False   \nrandom forest - random search (v10)  0.647421    8.372458            NaN   \ndecision tree - random search (v10)  0.558257    0.183006            NaN   \nknn - random search (v10)            0.533823    0.049768            NaN   \n\n                                                   best method  ...  \\\nxg boost - random search (v10)                             NaN  ...   \ncatboost (v10)                       random search(no dummies)  ...   \nxg boost (v10)                                   random search  ...   \nrandom forest - random search (v10)                        NaN  ...   \ndecision tree - random search (v10)                        NaN  ...   \nknn - random search (v10)                                  NaN  ...   \n\n                                                           date  \\\nxg boost - random search (v10)       2022-10-25 20:26:17.666309   \ncatboost (v10)                       2022-11-30 14:14:50.145713   \nxg boost (v10)                       2022-11-30 14:45:52.207314   \nrandom forest - random search (v10)  2022-11-04 00:07:38.066725   \ndecision tree - random search (v10)  2022-11-03 21:19:06.533628   \nknn - random search (v10)            2022-10-25 23:09:05.395933   \n\n                                                      first run random_state  \\\nxg boost - random search (v10)       2022-10-25 20:26:17.667566          101   \ncatboost (v10)                       2022-11-30 14:14:50.147223          101   \nxg boost (v10)                       2022-11-30 14:45:52.209401          101   \nrandom forest - random search (v10)  2022-11-04 00:07:38.068364          101   \ndecision tree - random search (v10)  2022-11-03 21:19:06.535007          101   \nknn - random search (v10)            2022-10-25 23:09:05.397959          101   \n\n                                      run_env silver method silver params  \\\nxg boost - random search (v10)            NaN           NaN           NaN   \ncatboost (v10)                       gradient           NaN           NaN   \nxg boost (v10)                       gradient           NaN           NaN   \nrandom forest - random search (v10)       NaN           NaN           NaN   \ndecision tree - random search (v10)       NaN           NaN           NaN   \nknn - random search (v10)                 NaN           NaN           NaN   \n\n                                    silver run date silver score silver time  \\\nxg boost - random search (v10)                  NaN          NaN         NaN   \ncatboost (v10)                                  NaN          NaN         NaN   \nxg boost (v10)                                  NaN          NaN         NaN   \nrandom forest - random search (v10)             NaN          NaN         NaN   \ndecision tree - random search (v10)             NaN          NaN         NaN   \nknn - random search (v10)                       NaN          NaN         NaN   \n\n                                    suboptimal  \nxg boost - random search (v10)         pending  \ncatboost (v10)                         pending  \nxg boost (v10)                         pending  \nrandom forest - random search (v10)    pending  \ndecision tree - random search (v10)    pending  \nknn - random search (v10)              pending  \n\n[6 rows x 24 columns]",
      "text/html": "<div>\n<style scoped>\n    .dataframe tbody tr th:only-of-type {\n        vertical-align: middle;\n    }\n\n    .dataframe tbody tr th {\n        vertical-align: top;\n    }\n\n    .dataframe thead th {\n        text-align: right;\n    }\n</style>\n<table border=\"1\" class=\"dataframe\">\n  <thead>\n    <tr style=\"text-align: right;\">\n      <th></th>\n      <th>Mean Absolute Error Accuracy</th>\n      <th>Mean Squared Error Accuracy</th>\n      <th>R square Accuracy</th>\n      <th>Root Mean Squared Error</th>\n      <th>_method</th>\n      <th>_params</th>\n      <th>_score</th>\n      <th>_train time</th>\n      <th>best is shared</th>\n      <th>best method</th>\n      <th>...</th>\n      <th>date</th>\n      <th>first run</th>\n      <th>random_state</th>\n      <th>run_env</th>\n      <th>silver method</th>\n      <th>silver params</th>\n      <th>silver run date</th>\n      <th>silver score</th>\n      <th>silver time</th>\n      <th>suboptimal</th>\n    </tr>\n  </thead>\n  <tbody>\n    <tr>\n      <th>xg boost - random search (v10)</th>\n      <td>43382.001905</td>\n      <td>3259725321.759749</td>\n      <td>0.711437</td>\n      <td>57094.004254</td>\n      <td>NaN</td>\n      <td>{'model__max_depth': 10, 'model__n_estimators'...</td>\n      <td>0.711437</td>\n      <td>3.79557</td>\n      <td>NaN</td>\n      <td>NaN</td>\n      <td>...</td>\n      <td>2022-10-25 20:26:17.666309</td>\n      <td>2022-10-25 20:26:17.667566</td>\n      <td>101</td>\n      <td>NaN</td>\n      <td>NaN</td>\n      <td>NaN</td>\n      <td>NaN</td>\n      <td>NaN</td>\n      <td>NaN</td>\n      <td>pending</td>\n    </tr>\n    <tr>\n      <th>catboost (v10)</th>\n      <td>44874.996907</td>\n      <td>3449348436.406789</td>\n      <td>0.694651</td>\n      <td>58731.153883</td>\n      <td>random search(no dummies)</td>\n      <td>{'depth': 15, 'l2_leaf_reg': 5, 'learning_rate...</td>\n      <td>0.694651</td>\n      <td>4.77</td>\n      <td>False</td>\n      <td>random search(no dummies)</td>\n      <td>...</td>\n      <td>2022-11-30 14:14:50.145713</td>\n      <td>2022-11-30 14:14:50.147223</td>\n      <td>101</td>\n      <td>gradient</td>\n      <td>NaN</td>\n      <td>NaN</td>\n      <td>NaN</td>\n      <td>NaN</td>\n      <td>NaN</td>\n      <td>pending</td>\n    </tr>\n    <tr>\n      <th>xg boost (v10)</th>\n      <td>46626.687574</td>\n      <td>3594689512.156493</td>\n      <td>0.681785</td>\n      <td>59955.729602</td>\n      <td>random search</td>\n      <td>{'model__booster': 'gbtree', 'model__early_sto...</td>\n      <td>0.681785</td>\n      <td>9.309589</td>\n      <td>False</td>\n      <td>random search</td>\n      <td>...</td>\n      <td>2022-11-30 14:45:52.207314</td>\n      <td>2022-11-30 14:45:52.209401</td>\n      <td>101</td>\n      <td>gradient</td>\n      <td>NaN</td>\n      <td>NaN</td>\n      <td>NaN</td>\n      <td>NaN</td>\n      <td>NaN</td>\n      <td>pending</td>\n    </tr>\n    <tr>\n      <th>random forest - random search (v10)</th>\n      <td>49941.97226</td>\n      <td>3982880817.256231</td>\n      <td>0.647421</td>\n      <td>63110.069064</td>\n      <td>NaN</td>\n      <td>{'model__bootstrap': True, 'model__ccp_alpha':...</td>\n      <td>0.647421</td>\n      <td>8.372458</td>\n      <td>NaN</td>\n      <td>NaN</td>\n      <td>...</td>\n      <td>2022-11-04 00:07:38.066725</td>\n      <td>2022-11-04 00:07:38.068364</td>\n      <td>101</td>\n      <td>NaN</td>\n      <td>NaN</td>\n      <td>NaN</td>\n      <td>NaN</td>\n      <td>NaN</td>\n      <td>NaN</td>\n      <td>pending</td>\n    </tr>\n    <tr>\n      <th>decision tree - random search (v10)</th>\n      <td>55865.420033</td>\n      <td>4990106642.657863</td>\n      <td>0.558257</td>\n      <td>70640.686878</td>\n      <td>NaN</td>\n      <td>{'model__ccp_alpha': 1, 'model__criterion': 'f...</td>\n      <td>0.558257</td>\n      <td>0.183006</td>\n      <td>NaN</td>\n      <td>NaN</td>\n      <td>...</td>\n      <td>2022-11-03 21:19:06.533628</td>\n      <td>2022-11-03 21:19:06.535007</td>\n      <td>101</td>\n      <td>NaN</td>\n      <td>NaN</td>\n      <td>NaN</td>\n      <td>NaN</td>\n      <td>NaN</td>\n      <td>NaN</td>\n      <td>pending</td>\n    </tr>\n    <tr>\n      <th>knn - random search (v10)</th>\n      <td>57566.89987</td>\n      <td>5266126938.137675</td>\n      <td>0.533823</td>\n      <td>72568.084845</td>\n      <td>NaN</td>\n      <td>{'model__algorithm': 'auto', 'model__leaf_size...</td>\n      <td>0.533823</td>\n      <td>0.049768</td>\n      <td>NaN</td>\n      <td>NaN</td>\n      <td>...</td>\n      <td>2022-10-25 23:09:05.395933</td>\n      <td>2022-10-25 23:09:05.397959</td>\n      <td>101</td>\n      <td>NaN</td>\n      <td>NaN</td>\n      <td>NaN</td>\n      <td>NaN</td>\n      <td>NaN</td>\n      <td>NaN</td>\n      <td>pending</td>\n    </tr>\n  </tbody>\n</table>\n<p>6 rows × 24 columns</p>\n</div>"
     },
     "execution_count": 3,
     "metadata": {},
     "output_type": "execute_result"
    }
   ],
   "source": [
    "dataset_versions_df"
   ]
  },
  {
   "cell_type": "code",
   "execution_count": 4,
   "metadata": {
    "collapsed": false,
    "execution": {
     "iopub.execute_input": "2022-11-21T18:13:53.223184Z",
     "iopub.status.busy": "2022-11-21T18:13:53.222903Z",
     "iopub.status.idle": "2022-11-21T18:13:53.234453Z",
     "shell.execute_reply": "2022-11-21T18:13:53.233684Z",
     "shell.execute_reply.started": "2022-11-21T18:13:53.223160Z"
    },
    "jupyter": {
     "outputs_hidden": false
    }
   },
   "outputs": [
    {
     "data": {
      "text/plain": "                                    best score best time silver score  \\\nxg boost - random search (v10)        0.711437       NaN          NaN   \ncatboost (v10)                        0.694651      4.77          NaN   \nxg boost (v10)                        0.681785  9.309589          NaN   \nrandom forest - random search (v10)   0.647421       NaN          NaN   \ndecision tree - random search (v10)   0.558257       NaN          NaN   \nknn - random search (v10)             0.533823  0.049768          NaN   \n\n                                    silver time                best method  \\\nxg boost - random search (v10)              NaN                        NaN   \ncatboost (v10)                              NaN  random search(no dummies)   \nxg boost (v10)                              NaN              random search   \nrandom forest - random search (v10)         NaN                        NaN   \ndecision tree - random search (v10)         NaN                        NaN   \nknn - random search (v10)                   NaN                        NaN   \n\n                                    silver method best is shared  \nxg boost - random search (v10)                NaN            NaN  \ncatboost (v10)                                NaN          False  \nxg boost (v10)                                NaN          False  \nrandom forest - random search (v10)           NaN            NaN  \ndecision tree - random search (v10)           NaN            NaN  \nknn - random search (v10)                     NaN            NaN  ",
      "text/html": "<div>\n<style scoped>\n    .dataframe tbody tr th:only-of-type {\n        vertical-align: middle;\n    }\n\n    .dataframe tbody tr th {\n        vertical-align: top;\n    }\n\n    .dataframe thead th {\n        text-align: right;\n    }\n</style>\n<table border=\"1\" class=\"dataframe\">\n  <thead>\n    <tr style=\"text-align: right;\">\n      <th></th>\n      <th>best score</th>\n      <th>best time</th>\n      <th>silver score</th>\n      <th>silver time</th>\n      <th>best method</th>\n      <th>silver method</th>\n      <th>best is shared</th>\n    </tr>\n  </thead>\n  <tbody>\n    <tr>\n      <th>xg boost - random search (v10)</th>\n      <td>0.711437</td>\n      <td>NaN</td>\n      <td>NaN</td>\n      <td>NaN</td>\n      <td>NaN</td>\n      <td>NaN</td>\n      <td>NaN</td>\n    </tr>\n    <tr>\n      <th>catboost (v10)</th>\n      <td>0.694651</td>\n      <td>4.77</td>\n      <td>NaN</td>\n      <td>NaN</td>\n      <td>random search(no dummies)</td>\n      <td>NaN</td>\n      <td>False</td>\n    </tr>\n    <tr>\n      <th>xg boost (v10)</th>\n      <td>0.681785</td>\n      <td>9.309589</td>\n      <td>NaN</td>\n      <td>NaN</td>\n      <td>random search</td>\n      <td>NaN</td>\n      <td>False</td>\n    </tr>\n    <tr>\n      <th>random forest - random search (v10)</th>\n      <td>0.647421</td>\n      <td>NaN</td>\n      <td>NaN</td>\n      <td>NaN</td>\n      <td>NaN</td>\n      <td>NaN</td>\n      <td>NaN</td>\n    </tr>\n    <tr>\n      <th>decision tree - random search (v10)</th>\n      <td>0.558257</td>\n      <td>NaN</td>\n      <td>NaN</td>\n      <td>NaN</td>\n      <td>NaN</td>\n      <td>NaN</td>\n      <td>NaN</td>\n    </tr>\n    <tr>\n      <th>knn - random search (v10)</th>\n      <td>0.533823</td>\n      <td>0.049768</td>\n      <td>NaN</td>\n      <td>NaN</td>\n      <td>NaN</td>\n      <td>NaN</td>\n      <td>NaN</td>\n    </tr>\n  </tbody>\n</table>\n</div>"
     },
     "execution_count": 4,
     "metadata": {},
     "output_type": "execute_result"
    }
   ],
   "source": [
    "df_summary_1_vs_2 = dataset_versions_df[['best score', 'best time', 'silver score', 'silver time', 'best method', 'silver method', 'best is shared']]\n",
    "df_summary_1_vs_2"
   ]
  },
  {
   "cell_type": "code",
   "execution_count": 5,
   "metadata": {
    "collapsed": false,
    "execution": {
     "iopub.execute_input": "2022-11-21T18:13:53.236141Z",
     "iopub.status.busy": "2022-11-21T18:13:53.235887Z",
     "iopub.status.idle": "2022-11-21T18:13:53.251843Z",
     "shell.execute_reply": "2022-11-21T18:13:53.251035Z",
     "shell.execute_reply.started": "2022-11-21T18:13:53.236119Z"
    },
    "jupyter": {
     "outputs_hidden": false
    }
   },
   "outputs": [
    {
     "data": {
      "text/plain": "                                    best score best time silver score  \\\nxg boost - random search (v10)        0.711437       NaN          NaN   \ncatboost (v10)                        0.694651      4.77          NaN   \nxg boost (v10)                        0.681785  9.309589          NaN   \nrandom forest - random search (v10)   0.647421       NaN          NaN   \ndecision tree - random search (v10)   0.558257       NaN          NaN   \nknn - random search (v10)             0.533823  0.049768          NaN   \n\n                                    silver time  \\\nxg boost - random search (v10)              NaN   \ncatboost (v10)                              NaN   \nxg boost (v10)                              NaN   \nrandom forest - random search (v10)         NaN   \ndecision tree - random search (v10)         NaN   \nknn - random search (v10)                   NaN   \n\n                                                                           best params  \\\nxg boost - random search (v10)       {'model__max_depth': 10, 'model__n_estimators'...   \ncatboost (v10)                       {'depth': 15, 'l2_leaf_reg': 5, 'learning_rate...   \nxg boost (v10)                       {'model__booster': 'gbtree', 'model__early_sto...   \nrandom forest - random search (v10)  {'model__bootstrap': True, 'model__ccp_alpha':...   \ndecision tree - random search (v10)  {'model__ccp_alpha': 1, 'model__criterion': 'f...   \nknn - random search (v10)            {'model__algorithm': 'auto', 'model__leaf_size...   \n\n                                    silver params best is shared  \nxg boost - random search (v10)                NaN            NaN  \ncatboost (v10)                                NaN          False  \nxg boost (v10)                                NaN          False  \nrandom forest - random search (v10)           NaN            NaN  \ndecision tree - random search (v10)           NaN            NaN  \nknn - random search (v10)                     NaN            NaN  ",
      "text/html": "<div>\n<style scoped>\n    .dataframe tbody tr th:only-of-type {\n        vertical-align: middle;\n    }\n\n    .dataframe tbody tr th {\n        vertical-align: top;\n    }\n\n    .dataframe thead th {\n        text-align: right;\n    }\n</style>\n<table border=\"1\" class=\"dataframe\">\n  <thead>\n    <tr style=\"text-align: right;\">\n      <th></th>\n      <th>best score</th>\n      <th>best time</th>\n      <th>silver score</th>\n      <th>silver time</th>\n      <th>best params</th>\n      <th>silver params</th>\n      <th>best is shared</th>\n    </tr>\n  </thead>\n  <tbody>\n    <tr>\n      <th>xg boost - random search (v10)</th>\n      <td>0.711437</td>\n      <td>NaN</td>\n      <td>NaN</td>\n      <td>NaN</td>\n      <td>{'model__max_depth': 10, 'model__n_estimators'...</td>\n      <td>NaN</td>\n      <td>NaN</td>\n    </tr>\n    <tr>\n      <th>catboost (v10)</th>\n      <td>0.694651</td>\n      <td>4.77</td>\n      <td>NaN</td>\n      <td>NaN</td>\n      <td>{'depth': 15, 'l2_leaf_reg': 5, 'learning_rate...</td>\n      <td>NaN</td>\n      <td>False</td>\n    </tr>\n    <tr>\n      <th>xg boost (v10)</th>\n      <td>0.681785</td>\n      <td>9.309589</td>\n      <td>NaN</td>\n      <td>NaN</td>\n      <td>{'model__booster': 'gbtree', 'model__early_sto...</td>\n      <td>NaN</td>\n      <td>False</td>\n    </tr>\n    <tr>\n      <th>random forest - random search (v10)</th>\n      <td>0.647421</td>\n      <td>NaN</td>\n      <td>NaN</td>\n      <td>NaN</td>\n      <td>{'model__bootstrap': True, 'model__ccp_alpha':...</td>\n      <td>NaN</td>\n      <td>NaN</td>\n    </tr>\n    <tr>\n      <th>decision tree - random search (v10)</th>\n      <td>0.558257</td>\n      <td>NaN</td>\n      <td>NaN</td>\n      <td>NaN</td>\n      <td>{'model__ccp_alpha': 1, 'model__criterion': 'f...</td>\n      <td>NaN</td>\n      <td>NaN</td>\n    </tr>\n    <tr>\n      <th>knn - random search (v10)</th>\n      <td>0.533823</td>\n      <td>0.049768</td>\n      <td>NaN</td>\n      <td>NaN</td>\n      <td>{'model__algorithm': 'auto', 'model__leaf_size...</td>\n      <td>NaN</td>\n      <td>NaN</td>\n    </tr>\n  </tbody>\n</table>\n</div>"
     },
     "execution_count": 5,
     "metadata": {},
     "output_type": "execute_result"
    }
   ],
   "source": [
    "df_1_vs_2b = dataset_versions_df[['best score', 'best time', 'silver score', 'silver time', 'best params', 'silver params', 'best is shared']]\n",
    "df_1_vs_2b"
   ]
  }
 ],
 "metadata": {
  "kernelspec": {
   "display_name": "Python 3 (ipykernel)",
   "language": "python",
   "name": "python3"
  },
  "language_info": {
   "codemirror_mode": {
    "name": "ipython",
    "version": 3
   },
   "file_extension": ".py",
   "mimetype": "text/x-python",
   "name": "python",
   "nbconvert_exporter": "python",
   "pygments_lexer": "ipython3",
   "version": "3.9.13"
  }
 },
 "nbformat": 4,
 "nbformat_minor": 4
}
