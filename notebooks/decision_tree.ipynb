{
 "cells": [
  {
   "cell_type": "code",
   "execution_count": 20,
   "metadata": {
    "collapsed": true
   },
   "outputs": [],
   "source": [
    "from sklearn.tree import DecisionTreeRegressor\n",
    "import pandas as pd\n",
    "from sklearn.model_selection import train_test_split\n",
    "import numpy as np"
   ]
  },
  {
   "cell_type": "code",
   "execution_count": 21,
   "outputs": [],
   "source": [
    "LABEL = 'Price'\n",
    "\n",
    "floats = ['location.latitude', 'location.longitude', 'bedrooms', 'bathrooms',\n",
    "          'nearestStation','nearestTram','nearestUnderground','nearestOverground',\n",
    "          ]\n",
    "\n",
    "categories = ['tenure.tenureType',\n",
    "              'analyticsProperty.soldSTC',\n",
    "              'analyticsProperty.preOwned',\n",
    "              'sharedOwnership.sharedOwnership',\n",
    "              'analyticsProperty.propertyType',  # 'propertyType',\n",
    "               'analyticsProperty.propertySubType',\n",
    "               'borough',\n",
    "              ]"
   ],
   "metadata": {
    "collapsed": false
   }
  },
  {
   "cell_type": "code",
   "execution_count": 22,
   "outputs": [],
   "source": [
    "def get_source_dataframe():\n",
    "    df = pd.read_csv('../data/source/df_listings.csv', on_bad_lines='skip', index_col=0)\n",
    "    return df\n",
    "\n",
    "\n",
    "def create_train_test_data(df, return_index=False, drop_nulls=True):\n",
    "\n",
    "    if drop_nulls:\n",
    "        df.dropna(inplace=True)\n",
    "\n",
    "    if return_index:\n",
    "        df.reset_index(inplace=True)\n",
    "\n",
    "    for column in categories:\n",
    "        df = pd.concat([df, pd.get_dummies(df[column], prefix=column)], axis=1)\n",
    "        df.drop([column], axis=1, inplace=True)  # now drop the original column (you don't need it anymore),\n",
    "\n",
    "    features = df[df.columns[1:]].values\n",
    "    labels = df[LABEL].values\n",
    "\n",
    "    if not return_index:\n",
    "        return train_test_split(features, labels, train_size=0.7, random_state=1)\n",
    "    else:\n",
    "        X_train1, X_test1, y_train1, y_test1 = train_test_split(features, labels, train_size=0.7, random_state=1)\n",
    "        y_train_index = y_train1[0]\n",
    "        X_test_index = X_test1[0]\n",
    "        y_test_index = y_test1[0]\n",
    "        X_train1 = X_train1[1:]\n",
    "        y_train1 = y_train1[1:]\n",
    "        X_test1 = X_test1[1:]\n",
    "        y_test1 = y_test1[1:]\n",
    "        return X_train1, X_test1, y_train1, y_test1, X_train_index, y_train_index, X_test_index, y_test_index"
   ],
   "metadata": {
    "collapsed": false
   }
  },
  {
   "cell_type": "code",
   "execution_count": 23,
   "outputs": [
    {
     "data": {
      "text/plain": "            Price  location.latitude  location.longitude  bedrooms  bathrooms  \\\n118724369  300000          51.525420           -0.025550       2.0        1.0   \n85679226   470000          51.390220            0.035128       2.0        1.0   \n116404187  350000          51.545670            0.017950       2.0        1.0   \n119674625  565000          51.523534           -0.335355       3.0        1.0   \n80244735   375000          51.519370           -0.441800       2.0        2.0   \n\n           nearestStation  nearestTram  nearestUnderground  nearestOverground  \\\n118724369        0.248561         99.0            0.250008           0.248561   \n85679226         0.806354         99.0           99.000000           0.806354   \n116404187        0.369106         99.0           99.000000           0.369106   \n119674625        0.138552         99.0           99.000000           0.138552   \n80244735         1.447235         99.0            2.407297           1.447235   \n\n          tenure.tenureType  analyticsProperty.soldSTC  \\\n118724369         LEASEHOLD                      False   \n85679226           FREEHOLD                       True   \n116404187         LEASEHOLD                      False   \n119674625               NaN                      False   \n80244735          LEASEHOLD                      False   \n\n          analyticsProperty.preOwned  sharedOwnership.sharedOwnership  \\\n118724369                     Resale                            False   \n85679226                      Resale                            False   \n116404187                     Resale                            False   \n119674625                     Resale                            False   \n80244735                    New Home                            False   \n\n          analyticsProperty.propertyType analyticsProperty.propertySubType  \\\n118724369             Flats / Apartments                              Flat   \n85679226                          Houses                     Semi-Detached   \n116404187             Flats / Apartments                              Flat   \n119674625                         Houses                    End of Terrace   \n80244735              Flats / Apartments                         Apartment   \n\n                 borough  \n118724369  Tower Hamlets  \n85679226         Bromley  \n116404187         Newham  \n119674625         Ealing  \n80244735      Hillingdon  ",
      "text/html": "<div>\n<style scoped>\n    .dataframe tbody tr th:only-of-type {\n        vertical-align: middle;\n    }\n\n    .dataframe tbody tr th {\n        vertical-align: top;\n    }\n\n    .dataframe thead th {\n        text-align: right;\n    }\n</style>\n<table border=\"1\" class=\"dataframe\">\n  <thead>\n    <tr style=\"text-align: right;\">\n      <th></th>\n      <th>Price</th>\n      <th>location.latitude</th>\n      <th>location.longitude</th>\n      <th>bedrooms</th>\n      <th>bathrooms</th>\n      <th>nearestStation</th>\n      <th>nearestTram</th>\n      <th>nearestUnderground</th>\n      <th>nearestOverground</th>\n      <th>tenure.tenureType</th>\n      <th>analyticsProperty.soldSTC</th>\n      <th>analyticsProperty.preOwned</th>\n      <th>sharedOwnership.sharedOwnership</th>\n      <th>analyticsProperty.propertyType</th>\n      <th>analyticsProperty.propertySubType</th>\n      <th>borough</th>\n    </tr>\n  </thead>\n  <tbody>\n    <tr>\n      <th>118724369</th>\n      <td>300000</td>\n      <td>51.525420</td>\n      <td>-0.025550</td>\n      <td>2.0</td>\n      <td>1.0</td>\n      <td>0.248561</td>\n      <td>99.0</td>\n      <td>0.250008</td>\n      <td>0.248561</td>\n      <td>LEASEHOLD</td>\n      <td>False</td>\n      <td>Resale</td>\n      <td>False</td>\n      <td>Flats / Apartments</td>\n      <td>Flat</td>\n      <td>Tower Hamlets</td>\n    </tr>\n    <tr>\n      <th>85679226</th>\n      <td>470000</td>\n      <td>51.390220</td>\n      <td>0.035128</td>\n      <td>2.0</td>\n      <td>1.0</td>\n      <td>0.806354</td>\n      <td>99.0</td>\n      <td>99.000000</td>\n      <td>0.806354</td>\n      <td>FREEHOLD</td>\n      <td>True</td>\n      <td>Resale</td>\n      <td>False</td>\n      <td>Houses</td>\n      <td>Semi-Detached</td>\n      <td>Bromley</td>\n    </tr>\n    <tr>\n      <th>116404187</th>\n      <td>350000</td>\n      <td>51.545670</td>\n      <td>0.017950</td>\n      <td>2.0</td>\n      <td>1.0</td>\n      <td>0.369106</td>\n      <td>99.0</td>\n      <td>99.000000</td>\n      <td>0.369106</td>\n      <td>LEASEHOLD</td>\n      <td>False</td>\n      <td>Resale</td>\n      <td>False</td>\n      <td>Flats / Apartments</td>\n      <td>Flat</td>\n      <td>Newham</td>\n    </tr>\n    <tr>\n      <th>119674625</th>\n      <td>565000</td>\n      <td>51.523534</td>\n      <td>-0.335355</td>\n      <td>3.0</td>\n      <td>1.0</td>\n      <td>0.138552</td>\n      <td>99.0</td>\n      <td>99.000000</td>\n      <td>0.138552</td>\n      <td>NaN</td>\n      <td>False</td>\n      <td>Resale</td>\n      <td>False</td>\n      <td>Houses</td>\n      <td>End of Terrace</td>\n      <td>Ealing</td>\n    </tr>\n    <tr>\n      <th>80244735</th>\n      <td>375000</td>\n      <td>51.519370</td>\n      <td>-0.441800</td>\n      <td>2.0</td>\n      <td>2.0</td>\n      <td>1.447235</td>\n      <td>99.0</td>\n      <td>2.407297</td>\n      <td>1.447235</td>\n      <td>LEASEHOLD</td>\n      <td>False</td>\n      <td>New Home</td>\n      <td>False</td>\n      <td>Flats / Apartments</td>\n      <td>Apartment</td>\n      <td>Hillingdon</td>\n    </tr>\n  </tbody>\n</table>\n</div>"
     },
     "execution_count": 23,
     "metadata": {},
     "output_type": "execute_result"
    }
   ],
   "source": [
    "df = get_source_dataframe()\n",
    "df[:5]"
   ],
   "metadata": {
    "collapsed": false
   }
  },
  {
   "cell_type": "code",
   "execution_count": 24,
   "outputs": [
    {
     "ename": "NameError",
     "evalue": "name 'X_train_index' is not defined",
     "output_type": "error",
     "traceback": [
      "\u001B[0;31m---------------------------------------------------------------------------\u001B[0m",
      "\u001B[0;31mNameError\u001B[0m                                 Traceback (most recent call last)",
      "Cell \u001B[0;32mIn [24], line 2\u001B[0m\n\u001B[1;32m      1\u001B[0m \u001B[38;5;66;03m#X_train, X_test, y_train, y_test = create_train_test_data(df, drop_nulls=True)\u001B[39;00m\n\u001B[0;32m----> 2\u001B[0m X_train, X_test, y_train, y_test, X_train_index, X_test_index, y_train_index, y_test_index \u001B[38;5;241m=\u001B[39m create_train_test_data(df, return_index\u001B[38;5;241m=\u001B[39m\u001B[38;5;28;01mTrue\u001B[39;00m, drop_nulls\u001B[38;5;241m=\u001B[39m\u001B[38;5;28;01mTrue\u001B[39;00m)\n",
      "Cell \u001B[0;32mIn [22], line 32\u001B[0m, in \u001B[0;36mcreate_train_test_data\u001B[0;34m(df, return_index, drop_nulls)\u001B[0m\n\u001B[1;32m     30\u001B[0m X_test1 \u001B[38;5;241m=\u001B[39m X_test1[\u001B[38;5;241m1\u001B[39m:]\n\u001B[1;32m     31\u001B[0m y_test1 \u001B[38;5;241m=\u001B[39m y_test1[\u001B[38;5;241m1\u001B[39m:]\n\u001B[0;32m---> 32\u001B[0m \u001B[38;5;28;01mreturn\u001B[39;00m X_train1, X_test1, y_train1, y_test1, \u001B[43mX_train_index\u001B[49m, y_train_index, X_test_index, y_test_index\n",
      "\u001B[0;31mNameError\u001B[0m: name 'X_train_index' is not defined"
     ]
    }
   ],
   "source": [
    "#X_train, X_test, y_train, y_test = create_train_test_data(df, drop_nulls=True)\n",
    "X_train, X_test, y_train, y_test, X_train_index, X_test_index, y_train_index, y_test_index = create_train_test_data(df, return_index=True, drop_nulls=True)"
   ],
   "metadata": {
    "collapsed": false
   }
  },
  {
   "cell_type": "code",
   "execution_count": null,
   "outputs": [],
   "source": [
    "model = DecisionTreeRegressor()\n",
    "model.fit(X_train, y_train)"
   ],
   "metadata": {
    "collapsed": false
   }
  },
  {
   "cell_type": "code",
   "execution_count": null,
   "outputs": [],
   "source": [
    "result = model.predict(X_test)"
   ],
   "metadata": {
    "collapsed": false
   }
  },
  {
   "cell_type": "code",
   "execution_count": null,
   "outputs": [],
   "source": [
    "print(result)"
   ],
   "metadata": {
    "collapsed": false
   }
  },
  {
   "cell_type": "code",
   "execution_count": null,
   "outputs": [],
   "source": [
    "from pandas import DataFrame\n",
    "\n",
    "compare = np.vstack((result, y_test)).transpose()\n",
    "compare_df = DataFrame(compare, columns=['actual','predicted'])\n",
    "compare_df"
   ],
   "metadata": {
    "collapsed": false
   }
  },
  {
   "cell_type": "code",
   "execution_count": null,
   "outputs": [],
   "source": [
    "model.score(X_test, y_test)"
   ],
   "metadata": {
    "collapsed": false
   }
  },
  {
   "cell_type": "code",
   "execution_count": null,
   "outputs": [],
   "source": [],
   "metadata": {
    "collapsed": false
   }
  }
 ],
 "metadata": {
  "kernelspec": {
   "display_name": "Python 3",
   "language": "python",
   "name": "python3"
  },
  "language_info": {
   "codemirror_mode": {
    "name": "ipython",
    "version": 2
   },
   "file_extension": ".py",
   "mimetype": "text/x-python",
   "name": "python",
   "nbconvert_exporter": "python",
   "pygments_lexer": "ipython2",
   "version": "2.7.6"
  }
 },
 "nbformat": 4,
 "nbformat_minor": 0
}
