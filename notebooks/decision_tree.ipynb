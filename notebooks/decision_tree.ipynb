{
 "cells": [
  {
   "cell_type": "raw",
   "source": [],
   "metadata": {
    "collapsed": false
   }
  },
  {
   "cell_type": "code",
   "execution_count": 1,
   "outputs": [
    {
     "name": "stderr",
     "output_type": "stream",
     "text": [
      "2022-10-10 01:03:26.321970: I tensorflow/core/platform/cpu_feature_guard.cc:193] This TensorFlow binary is optimized with oneAPI Deep Neural Network Library (oneDNN) to use the following CPU instructions in performance-critical operations:  AVX2\n",
      "To enable them in other operations, rebuild TensorFlow with the appropriate compiler flags.\n"
     ]
    }
   ],
   "source": [
    "from sklearn.compose import ColumnTransformer\n",
    "from sklearn.impute import SimpleImputer\n",
    "from sklearn.pipeline import Pipeline\n",
    "from sklearn.preprocessing import StandardScaler, OneHotEncoder\n",
    "from sklearn.tree import DecisionTreeRegressor\n",
    "import pandas as pd\n",
    "from sklearn.model_selection import train_test_split, GridSearchCV, RandomizedSearchCV\n",
    "import numpy as np\n",
    "\n",
    "import tensorflow as tf\n",
    "\n",
    "from tensorflow import keras\n",
    "from tensorflow.keras import layers\n",
    "\n",
    "#import lightgbm as lgb\n",
    "import xgboost as xgb\n",
    "from pandas import DataFrame\n",
    "import math\n",
    "import matplotlib.pyplot as plt\n"
   ],
   "metadata": {
    "collapsed": false
   }
  },
  {
   "cell_type": "code",
   "execution_count": 2,
   "outputs": [
    {
     "data": {
      "text/plain": "['Price',\n 'location.latitude',\n 'location.longitude',\n 'bedrooms',\n 'bathrooms',\n 'nearestStation',\n 'nearestTram',\n 'nearestUnderground',\n 'nearestOverground',\n 'tenure.tenureType',\n 'analyticsProperty.soldSTC',\n 'analyticsProperty.preOwned',\n 'analyticsProperty.propertyType',\n 'borough',\n 'sharedOwnership.sharedOwnership',\n 'analyticsProperty.priceQualifier',\n 'keyFeatures']"
     },
     "execution_count": 2,
     "metadata": {},
     "output_type": "execute_result"
    }
   ],
   "source": [
    "#cutdown_rows = 1000\n",
    "cutdown_rows = 0\n",
    "\n",
    "LABEL = 'Price'\n",
    "\n",
    "floats = ['location.latitude', 'location.longitude', 'bedrooms', 'bathrooms',\n",
    "          'nearestStation', 'nearestTram', 'nearestUnderground', 'nearestOverground',\n",
    "          ]\n",
    "\n",
    "categories = ['tenure.tenureType',\n",
    "              'analyticsProperty.soldSTC',\n",
    "              'analyticsProperty.preOwned',\n",
    "              #'sharedOwnership.sharedOwnership',\n",
    "              #\n",
    "              'analyticsProperty.propertyType',  # 'propertyType',\n",
    "              #'analyticsProperty.propertySubType',\n",
    "              'borough',\n",
    "              ]\n",
    "custom = [\n",
    "    'sharedOwnership.sharedOwnership',\n",
    "    'analyticsProperty.priceQualifier',\n",
    "    'keyFeatures'\n",
    "]\n",
    "#categories = []\n",
    "\n",
    "features = floats.copy()\n",
    "features.extend(categories)\n",
    "features.extend(custom)\n",
    "features.insert(0, LABEL)\n",
    "features"
   ],
   "metadata": {
    "collapsed": false
   }
  },
  {
   "cell_type": "code",
   "execution_count": 3,
   "outputs": [
    {
     "data": {
      "text/plain": "array([51.467869, -0.086037, 1.0, 1.0, 0.1523658055113279, nan, nan,\n       0.1523658055113279, False, 'Offers Over',\n       \"['Bright One Bedroom Top Floor Flat', 'Scope For Further Upgrade To Taste','Light And Spacious Reception Room', 'Separate Well Equipped Kitchen','Bathroom With White Suite', 'Gas Central Heating', 'Close To Denmark HillStation And Bus Routes', 'Easy Access Shops And Amenities', 'No Onward Chain','Convenient Denmark Hill Location & Camberwell Grove Conservation Area']\",\n       0, 1, 0, 0, 1, 0, 0, 1, 0, 0, 1, 0, 0, 0, 0, 0, 0, 0, 0, 0, 0, 0,\n       0, 0, 0, 0, 0, 0, 0, 0, 0, 0, 0, 0, 0, 0, 0, 0, 0, 0, 0, 1, 0, 0,\n       0, 0, 0], dtype=object)"
     },
     "execution_count": 3,
     "metadata": {},
     "output_type": "execute_result"
    }
   ],
   "source": [
    "def get_source_dataframe(rows=cutdown_rows):\n",
    "    try:\n",
    "        df = pd.read_csv('../data/source/df_listings.csv', on_bad_lines='skip', index_col=0)\n",
    "    except:\n",
    "        df = pd.read_csv('https://raw.githubusercontent.com/jayportfolio/capstone_streamlit/main/data/final/df_listings.csv', on_bad_lines='skip', index_col=0)\n",
    "    df = df[features]\n",
    "\n",
    "    if rows and rows > 0:\n",
    "        df = df[:rows]\n",
    "    return df\n",
    "\n",
    "\n",
    "def create_train_test_data(df_orig, return_index=False, drop_nulls=True):\n",
    "    df = df_orig.copy()\n",
    "\n",
    "    if drop_nulls:\n",
    "        df.dropna(inplace=True)\n",
    "\n",
    "    if return_index:\n",
    "        df.reset_index(inplace=True)\n",
    "\n",
    "    for column in categories:\n",
    "        df = pd.concat([df, pd.get_dummies(df[column], prefix=column)], axis=1)\n",
    "        df.drop([column], axis=1, inplace=True)  # now drop the original column (you don't need it anymore),\n",
    "\n",
    "    ins = df.pop('index')\n",
    "    df.insert(1, 'index2', ins)\n",
    "    df.insert(0, 'index', ins)\n",
    "\n",
    "    #features = df[df.columns[1:]].values\n",
    "    features = df[df.columns[2:]].values\n",
    "    #labels = df[LABEL].values\n",
    "    labels = df.iloc[:, 0:2].values\n",
    "\n",
    "    if not return_index:\n",
    "        return train_test_split(features, labels, train_size=0.9, random_state=RANDOM_STATE)\n",
    "    else:\n",
    "        X_train1, X_test1, y_train1, y_test1 = train_test_split(features, labels, train_size=0.9, random_state=RANDOM_STATE)\n",
    "        X_train_index = X_train1[:, 0].reshape(-1, 1)\n",
    "        y_train_index = y_train1[:, 0].reshape(-1, 1)\n",
    "        X_test_index = X_test1[:, 0].reshape(-1, 1)\n",
    "        y_test_index = y_test1[:, 0].reshape(-1, 1)\n",
    "        #X_train1 = X_train1[:,3:]\n",
    "        X_train1 = X_train1[:, 1:]\n",
    "        y_train1 = y_train1[:, 1].reshape(-1, 1)\n",
    "        #X_test1 = X_test1[:,3:]\n",
    "        X_test1 = X_test1[:, 1:]\n",
    "        y_test1 = y_test1[:, 1].reshape(-1, 1)\n",
    "\n",
    "        # X_train_index = pd.to_numeric(X_train_index, 'coerce').astype(int)\n",
    "        # y_train_index = pd.to_numeric(y_train_index, 'coerce').astype(int)\n",
    "        # X_test_index = pd.to_numeric(X_test_index, 'coerce').astype(int)\n",
    "        # y_test_index = pd.to_numeric(y_test_index, 'coerce').astype(int)\n",
    "\n",
    "        return X_train1, X_test1, y_train1, y_test1, X_train_index, X_test_index, y_train_index, y_test_index\n",
    "\n",
    "\n",
    "X_train, X_test, y_train, y_test, X_train_index, X_test_index, y_train_index, y_test_index = create_train_test_data(\n",
    "    get_source_dataframe(), return_index=True, drop_nulls=False)\n",
    "X_train.shape, X_test.shape, y_train.shape, y_test.shape, X_train_index.shape, X_test_index.shape, y_train_index.shape, y_test_index.shape,\n",
    "X_train[0]"
   ],
   "metadata": {
    "collapsed": false
   }
  },
  {
   "cell_type": "code",
   "execution_count": 4,
   "outputs": [
    {
     "name": "stdout",
     "output_type": "stream",
     "text": [
      "(26633, 17)\n"
     ]
    },
    {
     "data": {
      "text/plain": "           Price  location.latitude  location.longitude  bedrooms  bathrooms  \\\n14520525  550000          51.529950           -0.207020       3.0        1.0   \n27953107  400000          51.549390           -0.482600       2.0        2.0   \n33593487  579950          51.447180           -0.338770       2.0        1.0   \n35271294  370000          51.449568           -0.140154       2.0        1.0   \n35429088  599950          51.577030           -0.141230       2.0        1.0   \n\n          nearestStation  nearestTram  nearestUnderground  nearestOverground  \\\n14520525        0.274316          NaN            0.274316           0.274316   \n27953107        0.305845          NaN            0.305845                NaN   \n33593487        0.438045          NaN                 NaN           0.438045   \n35271294        0.399307          NaN            0.399307           0.704048   \n35429088        0.238187          NaN            0.238187           1.054653   \n\n         tenure.tenureType  analyticsProperty.soldSTC  \\\n14520525         LEASEHOLD                      False   \n27953107         LEASEHOLD                      False   \n33593487          FREEHOLD                      False   \n35271294         LEASEHOLD                      False   \n35429088               NaN                      False   \n\n         analyticsProperty.preOwned analyticsProperty.propertyType  \\\n14520525                     Resale             Flats / Apartments   \n27953107                     Resale             Flats / Apartments   \n33593487                     Resale                         Houses   \n35271294                     Resale             Flats / Apartments   \n35429088                     Resale             Flats / Apartments   \n\n                       borough  sharedOwnership.sharedOwnership  \\\n14520525           Westminster                            False   \n27953107            Hillingdon                            False   \n33593487  Richmond upon Thames                            False   \n35271294               Lambeth                            False   \n35429088              Haringey                            False   \n\n         analyticsProperty.priceQualifier  \\\n14520525                             None   \n27953107              Offers in Excess of   \n33593487              Offers in Excess of   \n35271294              Offers in Region of   \n35429088                             None   \n\n                                                keyFeatures  \n14520525  ['Maisonette', 'Private Balcony', 'Spacious / ...  \n27953107  ['TWO DOUBLE BEDROOMS', 'LOUNGE AREA', 'MODERN...  \n33593487  ['Mid Terrace Victorian Home', '2 Double Bedro...  \n35271294  ['2 bedroom second floor flat', 'Great locatio...  \n35429088                                                 []  ",
      "text/html": "<div>\n<style scoped>\n    .dataframe tbody tr th:only-of-type {\n        vertical-align: middle;\n    }\n\n    .dataframe tbody tr th {\n        vertical-align: top;\n    }\n\n    .dataframe thead th {\n        text-align: right;\n    }\n</style>\n<table border=\"1\" class=\"dataframe\">\n  <thead>\n    <tr style=\"text-align: right;\">\n      <th></th>\n      <th>Price</th>\n      <th>location.latitude</th>\n      <th>location.longitude</th>\n      <th>bedrooms</th>\n      <th>bathrooms</th>\n      <th>nearestStation</th>\n      <th>nearestTram</th>\n      <th>nearestUnderground</th>\n      <th>nearestOverground</th>\n      <th>tenure.tenureType</th>\n      <th>analyticsProperty.soldSTC</th>\n      <th>analyticsProperty.preOwned</th>\n      <th>analyticsProperty.propertyType</th>\n      <th>borough</th>\n      <th>sharedOwnership.sharedOwnership</th>\n      <th>analyticsProperty.priceQualifier</th>\n      <th>keyFeatures</th>\n    </tr>\n  </thead>\n  <tbody>\n    <tr>\n      <th>14520525</th>\n      <td>550000</td>\n      <td>51.529950</td>\n      <td>-0.207020</td>\n      <td>3.0</td>\n      <td>1.0</td>\n      <td>0.274316</td>\n      <td>NaN</td>\n      <td>0.274316</td>\n      <td>0.274316</td>\n      <td>LEASEHOLD</td>\n      <td>False</td>\n      <td>Resale</td>\n      <td>Flats / Apartments</td>\n      <td>Westminster</td>\n      <td>False</td>\n      <td>None</td>\n      <td>['Maisonette', 'Private Balcony', 'Spacious / ...</td>\n    </tr>\n    <tr>\n      <th>27953107</th>\n      <td>400000</td>\n      <td>51.549390</td>\n      <td>-0.482600</td>\n      <td>2.0</td>\n      <td>2.0</td>\n      <td>0.305845</td>\n      <td>NaN</td>\n      <td>0.305845</td>\n      <td>NaN</td>\n      <td>LEASEHOLD</td>\n      <td>False</td>\n      <td>Resale</td>\n      <td>Flats / Apartments</td>\n      <td>Hillingdon</td>\n      <td>False</td>\n      <td>Offers in Excess of</td>\n      <td>['TWO DOUBLE BEDROOMS', 'LOUNGE AREA', 'MODERN...</td>\n    </tr>\n    <tr>\n      <th>33593487</th>\n      <td>579950</td>\n      <td>51.447180</td>\n      <td>-0.338770</td>\n      <td>2.0</td>\n      <td>1.0</td>\n      <td>0.438045</td>\n      <td>NaN</td>\n      <td>NaN</td>\n      <td>0.438045</td>\n      <td>FREEHOLD</td>\n      <td>False</td>\n      <td>Resale</td>\n      <td>Houses</td>\n      <td>Richmond upon Thames</td>\n      <td>False</td>\n      <td>Offers in Excess of</td>\n      <td>['Mid Terrace Victorian Home', '2 Double Bedro...</td>\n    </tr>\n    <tr>\n      <th>35271294</th>\n      <td>370000</td>\n      <td>51.449568</td>\n      <td>-0.140154</td>\n      <td>2.0</td>\n      <td>1.0</td>\n      <td>0.399307</td>\n      <td>NaN</td>\n      <td>0.399307</td>\n      <td>0.704048</td>\n      <td>LEASEHOLD</td>\n      <td>False</td>\n      <td>Resale</td>\n      <td>Flats / Apartments</td>\n      <td>Lambeth</td>\n      <td>False</td>\n      <td>Offers in Region of</td>\n      <td>['2 bedroom second floor flat', 'Great locatio...</td>\n    </tr>\n    <tr>\n      <th>35429088</th>\n      <td>599950</td>\n      <td>51.577030</td>\n      <td>-0.141230</td>\n      <td>2.0</td>\n      <td>1.0</td>\n      <td>0.238187</td>\n      <td>NaN</td>\n      <td>0.238187</td>\n      <td>1.054653</td>\n      <td>NaN</td>\n      <td>False</td>\n      <td>Resale</td>\n      <td>Flats / Apartments</td>\n      <td>Haringey</td>\n      <td>False</td>\n      <td>None</td>\n      <td>[]</td>\n    </tr>\n  </tbody>\n</table>\n</div>"
     },
     "execution_count": 4,
     "metadata": {},
     "output_type": "execute_result"
    }
   ],
   "source": [
    "df = get_source_dataframe()\n",
    "df_orig = df.copy()\n",
    "print(df.shape)\n",
    "df[:5]"
   ],
   "metadata": {
    "collapsed": false
   }
  },
  {
   "cell_type": "code",
   "execution_count": 5,
   "outputs": [
    {
     "data": {
      "text/plain": "            Price  location.latitude  location.longitude  bedrooms  bathrooms  \\\n14520525   550000          51.529950           -0.207020       3.0        1.0   \n27953107   400000          51.549390           -0.482600       2.0        2.0   \n33593487   579950          51.447180           -0.338770       2.0        1.0   \n35271294   370000          51.449568           -0.140154       2.0        1.0   \n35429088   599950          51.577030           -0.141230       2.0        1.0   \n...           ...                ...                 ...       ...        ...   \n121677479  450000          51.483748           -0.388508       3.0        2.0   \n121677749  300000          51.532990            0.036340       2.0        1.0   \n121678004  475000          51.393990            0.045193       2.0        2.0   \n121678103  200000          51.410742           -0.225795       NaN        1.0   \n121678256  240000          51.518378            0.054917       1.0        1.0   \n\n           nearestStation  nearestTram  nearestUnderground  nearestOverground  \\\n14520525         0.274316    99.000000            0.274316           0.274316   \n27953107         0.305845    99.000000            0.305845          99.000000   \n33593487         0.438045    99.000000           99.000000           0.438045   \n35271294         0.399307    99.000000            0.399307           0.704048   \n35429088         0.238187    99.000000            0.238187           1.054653   \n...                   ...          ...                 ...                ...   \n121677479        0.709062    99.000000            0.709062          99.000000   \n121677749        0.178077    99.000000            0.178077          99.000000   \n121678004        0.444410    99.000000           99.000000           0.444410   \n121678103        0.205738     0.917064           99.000000           0.205738   \n121678256        0.286691    99.000000           99.000000           0.286691   \n\n          tenure.tenureType  analyticsProperty.soldSTC  \\\n14520525          LEASEHOLD                      False   \n27953107          LEASEHOLD                      False   \n33593487           FREEHOLD                      False   \n35271294          LEASEHOLD                      False   \n35429088                NaN                      False   \n...                     ...                        ...   \n121677479          FREEHOLD                      False   \n121677749               NaN                       True   \n121678004         LEASEHOLD                      False   \n121678103         LEASEHOLD                       True   \n121678256         LEASEHOLD                      False   \n\n          analyticsProperty.preOwned analyticsProperty.propertyType  \\\n14520525                      Resale             Flats / Apartments   \n27953107                      Resale             Flats / Apartments   \n33593487                      Resale                         Houses   \n35271294                      Resale             Flats / Apartments   \n35429088                      Resale             Flats / Apartments   \n...                              ...                            ...   \n121677479                     Resale                         Houses   \n121677749                     Resale             Flats / Apartments   \n121678004                     Resale             Flats / Apartments   \n121678103                     Resale             Flats / Apartments   \n121678256                     Resale             Flats / Apartments   \n\n                        borough  sharedOwnership  \n14520525            Westminster                0  \n27953107             Hillingdon                0  \n33593487   Richmond upon Thames                0  \n35271294                Lambeth                0  \n35429088               Haringey                0  \n...                         ...              ...  \n121677479              Hounslow                0  \n121677749                Newham                0  \n121678004               Bromley                0  \n121678103                Merton                0  \n121678256                Newham                0  \n\n[26633 rows x 15 columns]",
      "text/html": "<div>\n<style scoped>\n    .dataframe tbody tr th:only-of-type {\n        vertical-align: middle;\n    }\n\n    .dataframe tbody tr th {\n        vertical-align: top;\n    }\n\n    .dataframe thead th {\n        text-align: right;\n    }\n</style>\n<table border=\"1\" class=\"dataframe\">\n  <thead>\n    <tr style=\"text-align: right;\">\n      <th></th>\n      <th>Price</th>\n      <th>location.latitude</th>\n      <th>location.longitude</th>\n      <th>bedrooms</th>\n      <th>bathrooms</th>\n      <th>nearestStation</th>\n      <th>nearestTram</th>\n      <th>nearestUnderground</th>\n      <th>nearestOverground</th>\n      <th>tenure.tenureType</th>\n      <th>analyticsProperty.soldSTC</th>\n      <th>analyticsProperty.preOwned</th>\n      <th>analyticsProperty.propertyType</th>\n      <th>borough</th>\n      <th>sharedOwnership</th>\n    </tr>\n  </thead>\n  <tbody>\n    <tr>\n      <th>14520525</th>\n      <td>550000</td>\n      <td>51.529950</td>\n      <td>-0.207020</td>\n      <td>3.0</td>\n      <td>1.0</td>\n      <td>0.274316</td>\n      <td>99.000000</td>\n      <td>0.274316</td>\n      <td>0.274316</td>\n      <td>LEASEHOLD</td>\n      <td>False</td>\n      <td>Resale</td>\n      <td>Flats / Apartments</td>\n      <td>Westminster</td>\n      <td>0</td>\n    </tr>\n    <tr>\n      <th>27953107</th>\n      <td>400000</td>\n      <td>51.549390</td>\n      <td>-0.482600</td>\n      <td>2.0</td>\n      <td>2.0</td>\n      <td>0.305845</td>\n      <td>99.000000</td>\n      <td>0.305845</td>\n      <td>99.000000</td>\n      <td>LEASEHOLD</td>\n      <td>False</td>\n      <td>Resale</td>\n      <td>Flats / Apartments</td>\n      <td>Hillingdon</td>\n      <td>0</td>\n    </tr>\n    <tr>\n      <th>33593487</th>\n      <td>579950</td>\n      <td>51.447180</td>\n      <td>-0.338770</td>\n      <td>2.0</td>\n      <td>1.0</td>\n      <td>0.438045</td>\n      <td>99.000000</td>\n      <td>99.000000</td>\n      <td>0.438045</td>\n      <td>FREEHOLD</td>\n      <td>False</td>\n      <td>Resale</td>\n      <td>Houses</td>\n      <td>Richmond upon Thames</td>\n      <td>0</td>\n    </tr>\n    <tr>\n      <th>35271294</th>\n      <td>370000</td>\n      <td>51.449568</td>\n      <td>-0.140154</td>\n      <td>2.0</td>\n      <td>1.0</td>\n      <td>0.399307</td>\n      <td>99.000000</td>\n      <td>0.399307</td>\n      <td>0.704048</td>\n      <td>LEASEHOLD</td>\n      <td>False</td>\n      <td>Resale</td>\n      <td>Flats / Apartments</td>\n      <td>Lambeth</td>\n      <td>0</td>\n    </tr>\n    <tr>\n      <th>35429088</th>\n      <td>599950</td>\n      <td>51.577030</td>\n      <td>-0.141230</td>\n      <td>2.0</td>\n      <td>1.0</td>\n      <td>0.238187</td>\n      <td>99.000000</td>\n      <td>0.238187</td>\n      <td>1.054653</td>\n      <td>NaN</td>\n      <td>False</td>\n      <td>Resale</td>\n      <td>Flats / Apartments</td>\n      <td>Haringey</td>\n      <td>0</td>\n    </tr>\n    <tr>\n      <th>...</th>\n      <td>...</td>\n      <td>...</td>\n      <td>...</td>\n      <td>...</td>\n      <td>...</td>\n      <td>...</td>\n      <td>...</td>\n      <td>...</td>\n      <td>...</td>\n      <td>...</td>\n      <td>...</td>\n      <td>...</td>\n      <td>...</td>\n      <td>...</td>\n      <td>...</td>\n    </tr>\n    <tr>\n      <th>121677479</th>\n      <td>450000</td>\n      <td>51.483748</td>\n      <td>-0.388508</td>\n      <td>3.0</td>\n      <td>2.0</td>\n      <td>0.709062</td>\n      <td>99.000000</td>\n      <td>0.709062</td>\n      <td>99.000000</td>\n      <td>FREEHOLD</td>\n      <td>False</td>\n      <td>Resale</td>\n      <td>Houses</td>\n      <td>Hounslow</td>\n      <td>0</td>\n    </tr>\n    <tr>\n      <th>121677749</th>\n      <td>300000</td>\n      <td>51.532990</td>\n      <td>0.036340</td>\n      <td>2.0</td>\n      <td>1.0</td>\n      <td>0.178077</td>\n      <td>99.000000</td>\n      <td>0.178077</td>\n      <td>99.000000</td>\n      <td>NaN</td>\n      <td>True</td>\n      <td>Resale</td>\n      <td>Flats / Apartments</td>\n      <td>Newham</td>\n      <td>0</td>\n    </tr>\n    <tr>\n      <th>121678004</th>\n      <td>475000</td>\n      <td>51.393990</td>\n      <td>0.045193</td>\n      <td>2.0</td>\n      <td>2.0</td>\n      <td>0.444410</td>\n      <td>99.000000</td>\n      <td>99.000000</td>\n      <td>0.444410</td>\n      <td>LEASEHOLD</td>\n      <td>False</td>\n      <td>Resale</td>\n      <td>Flats / Apartments</td>\n      <td>Bromley</td>\n      <td>0</td>\n    </tr>\n    <tr>\n      <th>121678103</th>\n      <td>200000</td>\n      <td>51.410742</td>\n      <td>-0.225795</td>\n      <td>NaN</td>\n      <td>1.0</td>\n      <td>0.205738</td>\n      <td>0.917064</td>\n      <td>99.000000</td>\n      <td>0.205738</td>\n      <td>LEASEHOLD</td>\n      <td>True</td>\n      <td>Resale</td>\n      <td>Flats / Apartments</td>\n      <td>Merton</td>\n      <td>0</td>\n    </tr>\n    <tr>\n      <th>121678256</th>\n      <td>240000</td>\n      <td>51.518378</td>\n      <td>0.054917</td>\n      <td>1.0</td>\n      <td>1.0</td>\n      <td>0.286691</td>\n      <td>99.000000</td>\n      <td>99.000000</td>\n      <td>0.286691</td>\n      <td>LEASEHOLD</td>\n      <td>False</td>\n      <td>Resale</td>\n      <td>Flats / Apartments</td>\n      <td>Newham</td>\n      <td>0</td>\n    </tr>\n  </tbody>\n</table>\n<p>26633 rows × 15 columns</p>\n</div>"
     },
     "execution_count": 5,
     "metadata": {},
     "output_type": "execute_result"
    }
   ],
   "source": [
    "if 'nearestTram' in features:\n",
    "    df['nearestTram'] = df['nearestTram'].fillna(99)\n",
    "    df['nearestOverground'] = df['nearestOverground'].fillna(99)\n",
    "    df['nearestUnderground'] = df['nearestUnderground'].fillna(99)\n",
    "    df['nearestStation'] = df['nearestStation'].fillna(99)\n",
    "\n",
    "    imputer = SimpleImputer(strategy='constant', fill_value=99)\n",
    "    imputer.fit(df['nearestTram'].values.reshape(-1, 1))\n",
    "    df['nearestTram'] = imputer.transform(df['nearestTram'].values.reshape(-1, 1))\n",
    "    df['nearestUnderground'] = imputer.transform(df['nearestUnderground'].values.reshape(-1, 1))\n",
    "    df['nearestOverground'] = imputer.transform(df['nearestOverground'].values.reshape(-1, 1))\n",
    "    df['nearestStation'] = imputer.transform(df['nearestStation'].values.reshape(-1, 1))\n",
    "\n",
    "if 'keyFeatures' in features:\n",
    "    df['keyFeatures'] = df['keyFeatures'].str.lower()\n",
    "\n",
    "if 'analyticsProperty.priceQualifier' in features:\n",
    "\n",
    "    if 'keyFeatures' in features:\n",
    "\n",
    "        # df[df['keyFeatures'].str.contains('shared ownership')]\n",
    "\n",
    "        df['sharedOwnership'] = (\n",
    "                (df['sharedOwnership.sharedOwnership'] == True) |\n",
    "                (df['analyticsProperty.priceQualifier'] == 'Shared ownership') |\n",
    "                (df['keyFeatures'].str.contains('shared ownership'))\n",
    "        )\n",
    "\n",
    "        df.drop(['keyFeatures'], axis=1, inplace=True)\n",
    "    else:\n",
    "        df['sharedOwnership'] = (\n",
    "                (df['sharedOwnership.sharedOwnership'] == True) |\n",
    "                (df['analyticsProperty.priceQualifier'] == 'Shared ownership')\n",
    "        )\n",
    "\n",
    "    df['sharedOwnership'] = pd.to_numeric(df['sharedOwnership'], 'coerce').dropna().astype(int)\n",
    "    df.drop(['sharedOwnership.sharedOwnership'], axis=1, inplace=True)\n",
    "\n",
    "    if 'analyticsProperty.priceQualifier' not in categories:\n",
    "        df.drop(['analyticsProperty.priceQualifier'], axis=1, inplace=True)\n",
    "\n",
    "    #df.drop(['shared_ownership'], axis=1, inplace=True)\n",
    "\n",
    "df"
   ],
   "metadata": {
    "collapsed": false
   }
  },
  {
   "cell_type": "code",
   "execution_count": 6,
   "outputs": [],
   "source": [
    "#df[df['keyFeatures'].str.contains('shared ownership')]\n",
    "#df['keyFeatures'] = df['keyFeatures'].apply(lambda x: x.astype(str).str.upper())\n",
    "#df"
   ],
   "metadata": {
    "collapsed": false
   }
  },
  {
   "cell_type": "code",
   "execution_count": 7,
   "outputs": [
    {
     "data": {
      "text/plain": "            Price  location.latitude  location.longitude  bedrooms  bathrooms  \\\n14520525   550000          51.529950           -0.207020       3.0        1.0   \n27953107   400000          51.549390           -0.482600       2.0        2.0   \n33593487   579950          51.447180           -0.338770       2.0        1.0   \n35271294   370000          51.449568           -0.140154       2.0        1.0   \n35429088   599950          51.577030           -0.141230       2.0        1.0   \n...           ...                ...                 ...       ...        ...   \n121677479  450000          51.483748           -0.388508       3.0        2.0   \n121677749  300000          51.532990            0.036340       2.0        1.0   \n121678004  475000          51.393990            0.045193       2.0        2.0   \n121678103  200000          51.410742           -0.225795       NaN        1.0   \n121678256  240000          51.518378            0.054917       1.0        1.0   \n\n           nearestStation  nearestTram  nearestUnderground  nearestOverground  \\\n14520525         0.274316    99.000000            0.274316           0.274316   \n27953107         0.305845    99.000000            0.305845          99.000000   \n33593487         0.438045    99.000000           99.000000           0.438045   \n35271294         0.399307    99.000000            0.399307           0.704048   \n35429088         0.238187    99.000000            0.238187           1.054653   \n...                   ...          ...                 ...                ...   \n121677479        0.709062    99.000000            0.709062          99.000000   \n121677749        0.178077    99.000000            0.178077          99.000000   \n121678004        0.444410    99.000000           99.000000           0.444410   \n121678103        0.205738     0.917064           99.000000           0.205738   \n121678256        0.286691    99.000000           99.000000           0.286691   \n\n          tenure.tenureType  analyticsProperty.soldSTC  \\\n14520525          LEASEHOLD                      False   \n27953107          LEASEHOLD                      False   \n33593487           FREEHOLD                      False   \n35271294          LEASEHOLD                      False   \n35429088                NaN                      False   \n...                     ...                        ...   \n121677479          FREEHOLD                      False   \n121677749               NaN                       True   \n121678004         LEASEHOLD                      False   \n121678103         LEASEHOLD                       True   \n121678256         LEASEHOLD                      False   \n\n          analyticsProperty.preOwned analyticsProperty.propertyType  \\\n14520525                      Resale             Flats / Apartments   \n27953107                      Resale             Flats / Apartments   \n33593487                      Resale                         Houses   \n35271294                      Resale             Flats / Apartments   \n35429088                      Resale             Flats / Apartments   \n...                              ...                            ...   \n121677479                     Resale                         Houses   \n121677749                     Resale             Flats / Apartments   \n121678004                     Resale             Flats / Apartments   \n121678103                     Resale             Flats / Apartments   \n121678256                     Resale             Flats / Apartments   \n\n                        borough  sharedOwnership  \n14520525            Westminster                0  \n27953107             Hillingdon                0  \n33593487   Richmond upon Thames                0  \n35271294                Lambeth                0  \n35429088               Haringey                0  \n...                         ...              ...  \n121677479              Hounslow                0  \n121677749                Newham                0  \n121678004               Bromley                0  \n121678103                Merton                0  \n121678256                Newham                0  \n\n[26633 rows x 15 columns]",
      "text/html": "<div>\n<style scoped>\n    .dataframe tbody tr th:only-of-type {\n        vertical-align: middle;\n    }\n\n    .dataframe tbody tr th {\n        vertical-align: top;\n    }\n\n    .dataframe thead th {\n        text-align: right;\n    }\n</style>\n<table border=\"1\" class=\"dataframe\">\n  <thead>\n    <tr style=\"text-align: right;\">\n      <th></th>\n      <th>Price</th>\n      <th>location.latitude</th>\n      <th>location.longitude</th>\n      <th>bedrooms</th>\n      <th>bathrooms</th>\n      <th>nearestStation</th>\n      <th>nearestTram</th>\n      <th>nearestUnderground</th>\n      <th>nearestOverground</th>\n      <th>tenure.tenureType</th>\n      <th>analyticsProperty.soldSTC</th>\n      <th>analyticsProperty.preOwned</th>\n      <th>analyticsProperty.propertyType</th>\n      <th>borough</th>\n      <th>sharedOwnership</th>\n    </tr>\n  </thead>\n  <tbody>\n    <tr>\n      <th>14520525</th>\n      <td>550000</td>\n      <td>51.529950</td>\n      <td>-0.207020</td>\n      <td>3.0</td>\n      <td>1.0</td>\n      <td>0.274316</td>\n      <td>99.000000</td>\n      <td>0.274316</td>\n      <td>0.274316</td>\n      <td>LEASEHOLD</td>\n      <td>False</td>\n      <td>Resale</td>\n      <td>Flats / Apartments</td>\n      <td>Westminster</td>\n      <td>0</td>\n    </tr>\n    <tr>\n      <th>27953107</th>\n      <td>400000</td>\n      <td>51.549390</td>\n      <td>-0.482600</td>\n      <td>2.0</td>\n      <td>2.0</td>\n      <td>0.305845</td>\n      <td>99.000000</td>\n      <td>0.305845</td>\n      <td>99.000000</td>\n      <td>LEASEHOLD</td>\n      <td>False</td>\n      <td>Resale</td>\n      <td>Flats / Apartments</td>\n      <td>Hillingdon</td>\n      <td>0</td>\n    </tr>\n    <tr>\n      <th>33593487</th>\n      <td>579950</td>\n      <td>51.447180</td>\n      <td>-0.338770</td>\n      <td>2.0</td>\n      <td>1.0</td>\n      <td>0.438045</td>\n      <td>99.000000</td>\n      <td>99.000000</td>\n      <td>0.438045</td>\n      <td>FREEHOLD</td>\n      <td>False</td>\n      <td>Resale</td>\n      <td>Houses</td>\n      <td>Richmond upon Thames</td>\n      <td>0</td>\n    </tr>\n    <tr>\n      <th>35271294</th>\n      <td>370000</td>\n      <td>51.449568</td>\n      <td>-0.140154</td>\n      <td>2.0</td>\n      <td>1.0</td>\n      <td>0.399307</td>\n      <td>99.000000</td>\n      <td>0.399307</td>\n      <td>0.704048</td>\n      <td>LEASEHOLD</td>\n      <td>False</td>\n      <td>Resale</td>\n      <td>Flats / Apartments</td>\n      <td>Lambeth</td>\n      <td>0</td>\n    </tr>\n    <tr>\n      <th>35429088</th>\n      <td>599950</td>\n      <td>51.577030</td>\n      <td>-0.141230</td>\n      <td>2.0</td>\n      <td>1.0</td>\n      <td>0.238187</td>\n      <td>99.000000</td>\n      <td>0.238187</td>\n      <td>1.054653</td>\n      <td>NaN</td>\n      <td>False</td>\n      <td>Resale</td>\n      <td>Flats / Apartments</td>\n      <td>Haringey</td>\n      <td>0</td>\n    </tr>\n    <tr>\n      <th>...</th>\n      <td>...</td>\n      <td>...</td>\n      <td>...</td>\n      <td>...</td>\n      <td>...</td>\n      <td>...</td>\n      <td>...</td>\n      <td>...</td>\n      <td>...</td>\n      <td>...</td>\n      <td>...</td>\n      <td>...</td>\n      <td>...</td>\n      <td>...</td>\n      <td>...</td>\n    </tr>\n    <tr>\n      <th>121677479</th>\n      <td>450000</td>\n      <td>51.483748</td>\n      <td>-0.388508</td>\n      <td>3.0</td>\n      <td>2.0</td>\n      <td>0.709062</td>\n      <td>99.000000</td>\n      <td>0.709062</td>\n      <td>99.000000</td>\n      <td>FREEHOLD</td>\n      <td>False</td>\n      <td>Resale</td>\n      <td>Houses</td>\n      <td>Hounslow</td>\n      <td>0</td>\n    </tr>\n    <tr>\n      <th>121677749</th>\n      <td>300000</td>\n      <td>51.532990</td>\n      <td>0.036340</td>\n      <td>2.0</td>\n      <td>1.0</td>\n      <td>0.178077</td>\n      <td>99.000000</td>\n      <td>0.178077</td>\n      <td>99.000000</td>\n      <td>NaN</td>\n      <td>True</td>\n      <td>Resale</td>\n      <td>Flats / Apartments</td>\n      <td>Newham</td>\n      <td>0</td>\n    </tr>\n    <tr>\n      <th>121678004</th>\n      <td>475000</td>\n      <td>51.393990</td>\n      <td>0.045193</td>\n      <td>2.0</td>\n      <td>2.0</td>\n      <td>0.444410</td>\n      <td>99.000000</td>\n      <td>99.000000</td>\n      <td>0.444410</td>\n      <td>LEASEHOLD</td>\n      <td>False</td>\n      <td>Resale</td>\n      <td>Flats / Apartments</td>\n      <td>Bromley</td>\n      <td>0</td>\n    </tr>\n    <tr>\n      <th>121678103</th>\n      <td>200000</td>\n      <td>51.410742</td>\n      <td>-0.225795</td>\n      <td>NaN</td>\n      <td>1.0</td>\n      <td>0.205738</td>\n      <td>0.917064</td>\n      <td>99.000000</td>\n      <td>0.205738</td>\n      <td>LEASEHOLD</td>\n      <td>True</td>\n      <td>Resale</td>\n      <td>Flats / Apartments</td>\n      <td>Merton</td>\n      <td>0</td>\n    </tr>\n    <tr>\n      <th>121678256</th>\n      <td>240000</td>\n      <td>51.518378</td>\n      <td>0.054917</td>\n      <td>1.0</td>\n      <td>1.0</td>\n      <td>0.286691</td>\n      <td>99.000000</td>\n      <td>99.000000</td>\n      <td>0.286691</td>\n      <td>LEASEHOLD</td>\n      <td>False</td>\n      <td>Resale</td>\n      <td>Flats / Apartments</td>\n      <td>Newham</td>\n      <td>0</td>\n    </tr>\n  </tbody>\n</table>\n<p>26633 rows × 15 columns</p>\n</div>"
     },
     "execution_count": 7,
     "metadata": {},
     "output_type": "execute_result"
    }
   ],
   "source": [
    "\n",
    "df"
   ],
   "metadata": {
    "collapsed": false
   }
  },
  {
   "cell_type": "code",
   "execution_count": 8,
   "outputs": [
    {
     "name": "stdout",
     "output_type": "stream",
     "text": [
      "<class 'pandas.core.frame.DataFrame'>\n",
      "Int64Index: 26633 entries, 14520525 to 121678256\n",
      "Data columns (total 15 columns):\n",
      " #   Column                          Non-Null Count  Dtype  \n",
      "---  ------                          --------------  -----  \n",
      " 0   Price                           26633 non-null  int64  \n",
      " 1   location.latitude               26628 non-null  float64\n",
      " 2   location.longitude              26633 non-null  float64\n",
      " 3   bedrooms                        25670 non-null  float64\n",
      " 4   bathrooms                       24915 non-null  float64\n",
      " 5   nearestStation                  26633 non-null  float64\n",
      " 6   nearestTram                     26633 non-null  float64\n",
      " 7   nearestUnderground              26633 non-null  float64\n",
      " 8   nearestOverground               26633 non-null  float64\n",
      " 9   tenure.tenureType               24823 non-null  object \n",
      " 10  analyticsProperty.soldSTC       26633 non-null  bool   \n",
      " 11  analyticsProperty.preOwned      26633 non-null  object \n",
      " 12  analyticsProperty.propertyType  26633 non-null  object \n",
      " 13  borough                         26633 non-null  object \n",
      " 14  sharedOwnership                 26633 non-null  int64  \n",
      "dtypes: bool(1), float64(8), int64(2), object(4)\n",
      "memory usage: 3.1+ MB\n"
     ]
    },
    {
     "data": {
      "text/plain": "               Price  location.latitude  location.longitude      bedrooms  \\\ncount   26633.000000       26628.000000        26633.000000  25670.000000   \nmean   410493.420719          51.497605           -0.109379      1.976237   \nstd    113954.799595           0.075702            0.724300      0.828547   \nmin    100000.000000          51.298320           -0.497861      1.000000   \n25%    325000.000000          51.442726           -0.218288      1.000000   \n50%    415000.000000          51.501050           -0.106180      2.000000   \n75%    500000.000000          51.553926           -0.013215      2.000000   \nmax    600000.000000          51.683060           51.558746      7.000000   \n\n          bathrooms  nearestStation   nearestTram  nearestUnderground  \\\ncount  24915.000000    26633.000000  26633.000000        26633.000000   \nmean       1.180935        0.446379     92.810566           47.078052   \nstd        0.407462        1.259971     23.892593           49.146208   \nmin        1.000000        0.000000      0.005282            0.006731   \n25%        1.000000        0.220947     99.000000            0.421345   \n50%        1.000000        0.359822     99.000000            1.485177   \n75%        1.000000        0.556251     99.000000           99.000000   \nmax        5.000000      192.431869     99.000000           99.000000   \n\n       nearestOverground  sharedOwnership  \ncount       26633.000000     26633.000000  \nmean           11.806279         0.038073  \nstd            31.417627         0.191376  \nmin             0.000000         0.000000  \n25%             0.273931         0.000000  \n50%             0.460805         0.000000  \n75%             0.787954         0.000000  \nmax           192.431869         1.000000  ",
      "text/html": "<div>\n<style scoped>\n    .dataframe tbody tr th:only-of-type {\n        vertical-align: middle;\n    }\n\n    .dataframe tbody tr th {\n        vertical-align: top;\n    }\n\n    .dataframe thead th {\n        text-align: right;\n    }\n</style>\n<table border=\"1\" class=\"dataframe\">\n  <thead>\n    <tr style=\"text-align: right;\">\n      <th></th>\n      <th>Price</th>\n      <th>location.latitude</th>\n      <th>location.longitude</th>\n      <th>bedrooms</th>\n      <th>bathrooms</th>\n      <th>nearestStation</th>\n      <th>nearestTram</th>\n      <th>nearestUnderground</th>\n      <th>nearestOverground</th>\n      <th>sharedOwnership</th>\n    </tr>\n  </thead>\n  <tbody>\n    <tr>\n      <th>count</th>\n      <td>26633.000000</td>\n      <td>26628.000000</td>\n      <td>26633.000000</td>\n      <td>25670.000000</td>\n      <td>24915.000000</td>\n      <td>26633.000000</td>\n      <td>26633.000000</td>\n      <td>26633.000000</td>\n      <td>26633.000000</td>\n      <td>26633.000000</td>\n    </tr>\n    <tr>\n      <th>mean</th>\n      <td>410493.420719</td>\n      <td>51.497605</td>\n      <td>-0.109379</td>\n      <td>1.976237</td>\n      <td>1.180935</td>\n      <td>0.446379</td>\n      <td>92.810566</td>\n      <td>47.078052</td>\n      <td>11.806279</td>\n      <td>0.038073</td>\n    </tr>\n    <tr>\n      <th>std</th>\n      <td>113954.799595</td>\n      <td>0.075702</td>\n      <td>0.724300</td>\n      <td>0.828547</td>\n      <td>0.407462</td>\n      <td>1.259971</td>\n      <td>23.892593</td>\n      <td>49.146208</td>\n      <td>31.417627</td>\n      <td>0.191376</td>\n    </tr>\n    <tr>\n      <th>min</th>\n      <td>100000.000000</td>\n      <td>51.298320</td>\n      <td>-0.497861</td>\n      <td>1.000000</td>\n      <td>1.000000</td>\n      <td>0.000000</td>\n      <td>0.005282</td>\n      <td>0.006731</td>\n      <td>0.000000</td>\n      <td>0.000000</td>\n    </tr>\n    <tr>\n      <th>25%</th>\n      <td>325000.000000</td>\n      <td>51.442726</td>\n      <td>-0.218288</td>\n      <td>1.000000</td>\n      <td>1.000000</td>\n      <td>0.220947</td>\n      <td>99.000000</td>\n      <td>0.421345</td>\n      <td>0.273931</td>\n      <td>0.000000</td>\n    </tr>\n    <tr>\n      <th>50%</th>\n      <td>415000.000000</td>\n      <td>51.501050</td>\n      <td>-0.106180</td>\n      <td>2.000000</td>\n      <td>1.000000</td>\n      <td>0.359822</td>\n      <td>99.000000</td>\n      <td>1.485177</td>\n      <td>0.460805</td>\n      <td>0.000000</td>\n    </tr>\n    <tr>\n      <th>75%</th>\n      <td>500000.000000</td>\n      <td>51.553926</td>\n      <td>-0.013215</td>\n      <td>2.000000</td>\n      <td>1.000000</td>\n      <td>0.556251</td>\n      <td>99.000000</td>\n      <td>99.000000</td>\n      <td>0.787954</td>\n      <td>0.000000</td>\n    </tr>\n    <tr>\n      <th>max</th>\n      <td>600000.000000</td>\n      <td>51.683060</td>\n      <td>51.558746</td>\n      <td>7.000000</td>\n      <td>5.000000</td>\n      <td>192.431869</td>\n      <td>99.000000</td>\n      <td>99.000000</td>\n      <td>192.431869</td>\n      <td>1.000000</td>\n    </tr>\n  </tbody>\n</table>\n</div>"
     },
     "execution_count": 8,
     "metadata": {},
     "output_type": "execute_result"
    }
   ],
   "source": [
    "df.info()\n",
    "df.describe()"
   ],
   "metadata": {
    "collapsed": false
   }
  },
  {
   "cell_type": "code",
   "execution_count": 9,
   "outputs": [
    {
     "name": "stdout",
     "output_type": "stream",
     "text": [
      "(15826, 54) (6784, 54) (15826, 1) (6784, 1) (15826, 1) (6784, 1) (15826, 1) (6784, 1)\n",
      "<class 'numpy.ndarray'>\n"
     ]
    },
    {
     "data": {
      "text/plain": "array([ 5.14125350e+01, -6.63180000e-02,  2.00000000e+00,  1.00000000e+00,\n        4.75393115e-02,  9.90000000e+01,  9.90000000e+01,  4.75393115e-02,\n        0.00000000e+00,  0.00000000e+00,  0.00000000e+00,  1.00000000e+00,\n        0.00000000e+00,  1.00000000e+00,  0.00000000e+00,  0.00000000e+00,\n        1.00000000e+00,  0.00000000e+00,  1.00000000e+00,  0.00000000e+00,\n        0.00000000e+00,  0.00000000e+00,  0.00000000e+00,  0.00000000e+00,\n        0.00000000e+00,  1.00000000e+00,  0.00000000e+00,  0.00000000e+00,\n        0.00000000e+00,  0.00000000e+00,  0.00000000e+00,  0.00000000e+00,\n        0.00000000e+00,  0.00000000e+00,  0.00000000e+00,  0.00000000e+00,\n        0.00000000e+00,  0.00000000e+00,  0.00000000e+00,  0.00000000e+00,\n        0.00000000e+00,  0.00000000e+00,  0.00000000e+00,  0.00000000e+00,\n        0.00000000e+00,  0.00000000e+00,  0.00000000e+00,  0.00000000e+00,\n        0.00000000e+00,  0.00000000e+00,  0.00000000e+00,  0.00000000e+00,\n        0.00000000e+00,  0.00000000e+00])"
     },
     "execution_count": 9,
     "metadata": {},
     "output_type": "execute_result"
    }
   ],
   "source": [
    "X_train, X_test, y_train, y_test, X_train_index, X_test_index, y_train_index, y_test_index = create_train_test_data(df,\n",
    "                                                                                                                    return_index=True,\n",
    "                                                                                                                    drop_nulls=True)\n",
    "#X_train[:5]\n",
    "\n",
    "\n",
    "print(X_train.shape, X_test.shape, y_train.shape, y_test.shape, X_train_index.shape, X_test_index.shape,\n",
    "      y_train_index.shape, y_test_index.shape)\n",
    "#X_train_index\n",
    "print(type(X_train))\n",
    "X_train[0]"
   ],
   "metadata": {
    "collapsed": false
   }
  },
  {
   "cell_type": "code",
   "execution_count": 10,
   "outputs": [],
   "source": [
    "#imputer = SimpleImputer(strategy='mean')\n",
    "#imputer.fit(X_train[6])\n",
    "#X_train[6] = imputer.transform(X_train[6])"
   ],
   "metadata": {
    "collapsed": false
   }
  },
  {
   "cell_type": "code",
   "execution_count": 11,
   "outputs": [],
   "source": [
    "from sklearn.tree import DecisionTreeRegressor\n",
    "\n",
    "decision_tree_model = DecisionTreeRegressor()\n",
    "decision_tree_model.fit(X_train, y_train)\n",
    "\n",
    "model = decision_tree_model"
   ],
   "metadata": {
    "collapsed": false
   }
  },
  {
   "cell_type": "code",
   "execution_count": 12,
   "outputs": [],
   "source": [
    "result = model.predict(X_test)"
   ],
   "metadata": {
    "collapsed": false
   }
  },
  {
   "cell_type": "code",
   "execution_count": 13,
   "outputs": [
    {
     "name": "stdout",
     "output_type": "stream",
     "text": [
      "----------XGB----------\n",
      "R square Accuracy:  0.4321972175045714\n",
      "Mean Squared Error Accuracy:  7160677775.06299\n",
      "Root Mean Squared Error:  84620.78807871616\n"
     ]
    }
   ],
   "source": [
    "from sklearn.metrics import r2_score,mean_absolute_error,mean_squared_error\n",
    "\n",
    "result = decision_tree_model.predict(X_test)\n",
    "R2 = r2_score(y_test,result)\n",
    "MSE = mean_squared_error(y_test,result)\n",
    "RMSE = math.sqrt(MSE)\n",
    "print('-'*10+'XGB'+'-'*10)\n",
    "print('R square Accuracy: ',R2)\n",
    "print('Mean Squared Error Accuracy: ',MSE)\n",
    "print('Root Mean Squared Error: ',RMSE)"
   ],
   "metadata": {
    "collapsed": false
   }
  },
  {
   "cell_type": "code",
   "execution_count": 14,
   "outputs": [
    {
     "name": "stdout",
     "output_type": "stream",
     "text": [
      "[400000. 375000. 425000. ... 550000. 475000. 325000.]\n"
     ]
    }
   ],
   "source": [
    "print(result)"
   ],
   "metadata": {
    "collapsed": false
   }
  },
  {
   "cell_type": "code",
   "execution_count": 15,
   "outputs": [
    {
     "name": "stdout",
     "output_type": "stream",
     "text": [
      "(6784, 1)\n",
      "(6784, 1)\n",
      "(6784, 1)\n",
      "(6784, 1)\n",
      "(6784, 1)\n",
      "(6784, 1)\n"
     ]
    }
   ],
   "source": [
    "result = result.reshape((-1, 1))\n",
    "\n",
    "print(y_test_index.reshape((-1, 1)).shape)\n",
    "print(result.reshape((-1, 1)).shape)\n",
    "print(y_test.shape)\n",
    "\n",
    "print(y_test_index.shape)\n",
    "print(result.shape)\n",
    "print(y_test.shape)"
   ],
   "metadata": {
    "collapsed": false
   }
  },
  {
   "cell_type": "code",
   "execution_count": 16,
   "outputs": [],
   "source": [
    "compare = np.hstack((y_test_index, y_test, result))\n",
    "#compare[0:4]"
   ],
   "metadata": {
    "collapsed": false
   }
  },
  {
   "cell_type": "code",
   "execution_count": 17,
   "outputs": [
    {
     "data": {
      "text/plain": "             actual  predicted  difference   diff 1 %   diff 2 %\nreference                                                       \n85649265   380000.0   400000.0     20000.0   5.263158   5.000000\n116387315  515000.0   375000.0    140000.0  27.184466  37.333333\n116397896  425000.0   425000.0         0.0   0.000000   0.000000\n119980703  240000.0   270000.0     30000.0  12.500000  11.111111\n112424627  400000.0   338000.0     62000.0  15.500000  18.343195\n...             ...        ...         ...        ...        ...\n119998832  400000.0   250000.0    150000.0  37.500000  60.000000\n114708059  375000.0   375000.0         0.0   0.000000   0.000000\n87572395   499950.0   550000.0     50050.0  10.011001   9.100000\n85679046   550000.0   475000.0     75000.0  13.636364  15.789474\n121003748  325000.0   325000.0         0.0   0.000000   0.000000\n\n[6784 rows x 5 columns]",
      "text/html": "<div>\n<style scoped>\n    .dataframe tbody tr th:only-of-type {\n        vertical-align: middle;\n    }\n\n    .dataframe tbody tr th {\n        vertical-align: top;\n    }\n\n    .dataframe thead th {\n        text-align: right;\n    }\n</style>\n<table border=\"1\" class=\"dataframe\">\n  <thead>\n    <tr style=\"text-align: right;\">\n      <th></th>\n      <th>actual</th>\n      <th>predicted</th>\n      <th>difference</th>\n      <th>diff 1 %</th>\n      <th>diff 2 %</th>\n    </tr>\n    <tr>\n      <th>reference</th>\n      <th></th>\n      <th></th>\n      <th></th>\n      <th></th>\n      <th></th>\n    </tr>\n  </thead>\n  <tbody>\n    <tr>\n      <th>85649265</th>\n      <td>380000.0</td>\n      <td>400000.0</td>\n      <td>20000.0</td>\n      <td>5.263158</td>\n      <td>5.000000</td>\n    </tr>\n    <tr>\n      <th>116387315</th>\n      <td>515000.0</td>\n      <td>375000.0</td>\n      <td>140000.0</td>\n      <td>27.184466</td>\n      <td>37.333333</td>\n    </tr>\n    <tr>\n      <th>116397896</th>\n      <td>425000.0</td>\n      <td>425000.0</td>\n      <td>0.0</td>\n      <td>0.000000</td>\n      <td>0.000000</td>\n    </tr>\n    <tr>\n      <th>119980703</th>\n      <td>240000.0</td>\n      <td>270000.0</td>\n      <td>30000.0</td>\n      <td>12.500000</td>\n      <td>11.111111</td>\n    </tr>\n    <tr>\n      <th>112424627</th>\n      <td>400000.0</td>\n      <td>338000.0</td>\n      <td>62000.0</td>\n      <td>15.500000</td>\n      <td>18.343195</td>\n    </tr>\n    <tr>\n      <th>...</th>\n      <td>...</td>\n      <td>...</td>\n      <td>...</td>\n      <td>...</td>\n      <td>...</td>\n    </tr>\n    <tr>\n      <th>119998832</th>\n      <td>400000.0</td>\n      <td>250000.0</td>\n      <td>150000.0</td>\n      <td>37.500000</td>\n      <td>60.000000</td>\n    </tr>\n    <tr>\n      <th>114708059</th>\n      <td>375000.0</td>\n      <td>375000.0</td>\n      <td>0.0</td>\n      <td>0.000000</td>\n      <td>0.000000</td>\n    </tr>\n    <tr>\n      <th>87572395</th>\n      <td>499950.0</td>\n      <td>550000.0</td>\n      <td>50050.0</td>\n      <td>10.011001</td>\n      <td>9.100000</td>\n    </tr>\n    <tr>\n      <th>85679046</th>\n      <td>550000.0</td>\n      <td>475000.0</td>\n      <td>75000.0</td>\n      <td>13.636364</td>\n      <td>15.789474</td>\n    </tr>\n    <tr>\n      <th>121003748</th>\n      <td>325000.0</td>\n      <td>325000.0</td>\n      <td>0.0</td>\n      <td>0.000000</td>\n      <td>0.000000</td>\n    </tr>\n  </tbody>\n</table>\n<p>6784 rows × 5 columns</p>\n</div>"
     },
     "execution_count": 17,
     "metadata": {},
     "output_type": "execute_result"
    }
   ],
   "source": [
    "compare_df = DataFrame(compare, columns=['reference', 'actual', 'predicted'])\n",
    "compare_df['difference'] = abs(compare_df['actual'] - compare_df['predicted'])\n",
    "compare_df['diff 1 %'] = abs((compare_df['actual'] - compare_df['predicted']) / compare_df['actual'] * 100)\n",
    "compare_df['diff 2 %'] = abs((compare_df['actual'] - compare_df['predicted']) / compare_df['predicted']) * 100\n",
    "compare_df['reference'] = compare_df['reference'].astype(int)\n",
    "compare_df.set_index('reference', inplace=True)\n",
    "compare_df"
   ],
   "metadata": {
    "collapsed": false
   }
  },
  {
   "cell_type": "code",
   "execution_count": 18,
   "outputs": [
    {
     "data": {
      "text/plain": "             actual  predicted  difference   diff 1 %   diff 2 %   Price  \\\nreference                                                                  \n85649265   380000.0   400000.0     20000.0   5.263158   5.000000  380000   \n116387315  515000.0   375000.0    140000.0  27.184466  37.333333  515000   \n116397896  425000.0   425000.0         0.0   0.000000   0.000000  425000   \n119980703  240000.0   270000.0     30000.0  12.500000  11.111111  240000   \n112424627  400000.0   338000.0     62000.0  15.500000  18.343195  400000   \n...             ...        ...         ...        ...        ...     ...   \n119998832  400000.0   250000.0    150000.0  37.500000  60.000000  400000   \n114708059  375000.0   375000.0         0.0   0.000000   0.000000  375000   \n87572395   499950.0   550000.0     50050.0  10.011001   9.100000  499950   \n85679046   550000.0   475000.0     75000.0  13.636364  15.789474  550000   \n121003748  325000.0   325000.0         0.0   0.000000   0.000000  325000   \n\n           location.latitude  location.longitude  bedrooms  bathrooms  ...  \\\nreference                                                              ...   \n85649265           51.379815            0.121288       3.0        1.0  ...   \n116387315          51.413710           -0.306050       2.0        1.0  ...   \n116397896          51.539220           -0.314613       2.0        1.0  ...   \n119980703          51.483145            0.141816       2.0        1.0  ...   \n112424627          51.548604           -0.007113       1.0        1.0  ...   \n...                      ...                 ...       ...        ...  ...   \n119998832          51.481892           -0.035423       1.0        1.0  ...   \n114708059          51.485806            0.020277       2.0        1.0  ...   \n87572395           51.465090           -0.080560       2.0        1.0  ...   \n85679046           51.405561           -0.022164       3.0        2.0  ...   \n121003748          51.532480            0.065300       2.0        1.0  ...   \n\n           nearestUnderground  nearestOverground  tenure.tenureType  \\\nreference                                                             \n85649265                  NaN           1.219964           FREEHOLD   \n116387315                 NaN           0.188849          LEASEHOLD   \n116397896            0.419789                NaN          LEASEHOLD   \n119980703                 NaN           0.803049          LEASEHOLD   \n112424627            0.487875           0.273223          LEASEHOLD   \n...                       ...                ...                ...   \n119998832                 NaN           1.207218          LEASEHOLD   \n114708059                 NaN           0.132331          LEASEHOLD   \n87572395                  NaN           0.242780  SHARE_OF_FREEHOLD   \n85679046                  NaN           0.421950  SHARE_OF_FREEHOLD   \n121003748            0.758723           0.846812          LEASEHOLD   \n\n           analyticsProperty.soldSTC analyticsProperty.preOwned  \\\nreference                                                         \n85649265                        True                     Resale   \n116387315                       True                     Resale   \n116397896                      False                     Resale   \n119980703                       True                     Resale   \n112424627                       True                     Resale   \n...                              ...                        ...   \n119998832                      False                     Resale   \n114708059                      False                     Resale   \n87572395                       False                     Resale   \n85679046                        True                     Resale   \n121003748                      False                     Resale   \n\n           analyticsProperty.propertyType               borough  \\\nreference                                                         \n85649265                           Houses               Bromley   \n116387315              Flats / Apartments  Kingston upon Thames   \n116397896              Flats / Apartments                Ealing   \n119980703              Flats / Apartments                Bexley   \n112424627              Flats / Apartments                Newham   \n...                                   ...                   ...   \n119998832              Flats / Apartments              Lewisham   \n114708059              Flats / Apartments             Greenwich   \n87572395               Flats / Apartments             Southwark   \n85679046               Flats / Apartments               Bromley   \n121003748              Flats / Apartments                Newham   \n\n          sharedOwnership.sharedOwnership analyticsProperty.priceQualifier  \\\nreference                                                                    \n85649265                            False                             None   \n116387315                           False                             None   \n116397896                           False                             None   \n119980703                           False                             None   \n112424627                           False                      Guide Price   \n...                                   ...                              ...   \n119998832                           False                             None   \n114708059                           False                      Guide Price   \n87572395                            False              Offers in Excess of   \n85679046                            False                             None   \n121003748                           False                      Guide Price   \n\n                                                 keyFeatures  \nreference                                                     \n85649265   ['3 Bedroom Semi-Detached House', 'Well Locate...  \n116387315  ['2 Bedroom Apartment', 'Open Plan Living/Dini...  \n116397896  ['Double Glazed', 'Wood Floors', 'Secured buil...  \n119980703  ['Two double bedrooms', 'Second floor', '88 ye...  \n112424627  ['Stylish 1 Bedroom Apartment', 'Sleek And Mod...  \n...                                                      ...  \n119998832                                                 []  \n114708059  ['Beautiful Three Bedroom First Floor Maisonet...  \n87572395   ['Two bedrooms ', 'Private garden ', 'Victoria...  \n85679046   ['Three Bedrooms', 'Central Heating & Double G...  \n121003748  ['Two bedroom ground floor flat', 'Double glaz...  \n\n[6784 rows x 22 columns]",
      "text/html": "<div>\n<style scoped>\n    .dataframe tbody tr th:only-of-type {\n        vertical-align: middle;\n    }\n\n    .dataframe tbody tr th {\n        vertical-align: top;\n    }\n\n    .dataframe thead th {\n        text-align: right;\n    }\n</style>\n<table border=\"1\" class=\"dataframe\">\n  <thead>\n    <tr style=\"text-align: right;\">\n      <th></th>\n      <th>actual</th>\n      <th>predicted</th>\n      <th>difference</th>\n      <th>diff 1 %</th>\n      <th>diff 2 %</th>\n      <th>Price</th>\n      <th>location.latitude</th>\n      <th>location.longitude</th>\n      <th>bedrooms</th>\n      <th>bathrooms</th>\n      <th>...</th>\n      <th>nearestUnderground</th>\n      <th>nearestOverground</th>\n      <th>tenure.tenureType</th>\n      <th>analyticsProperty.soldSTC</th>\n      <th>analyticsProperty.preOwned</th>\n      <th>analyticsProperty.propertyType</th>\n      <th>borough</th>\n      <th>sharedOwnership.sharedOwnership</th>\n      <th>analyticsProperty.priceQualifier</th>\n      <th>keyFeatures</th>\n    </tr>\n    <tr>\n      <th>reference</th>\n      <th></th>\n      <th></th>\n      <th></th>\n      <th></th>\n      <th></th>\n      <th></th>\n      <th></th>\n      <th></th>\n      <th></th>\n      <th></th>\n      <th></th>\n      <th></th>\n      <th></th>\n      <th></th>\n      <th></th>\n      <th></th>\n      <th></th>\n      <th></th>\n      <th></th>\n      <th></th>\n      <th></th>\n    </tr>\n  </thead>\n  <tbody>\n    <tr>\n      <th>85649265</th>\n      <td>380000.0</td>\n      <td>400000.0</td>\n      <td>20000.0</td>\n      <td>5.263158</td>\n      <td>5.000000</td>\n      <td>380000</td>\n      <td>51.379815</td>\n      <td>0.121288</td>\n      <td>3.0</td>\n      <td>1.0</td>\n      <td>...</td>\n      <td>NaN</td>\n      <td>1.219964</td>\n      <td>FREEHOLD</td>\n      <td>True</td>\n      <td>Resale</td>\n      <td>Houses</td>\n      <td>Bromley</td>\n      <td>False</td>\n      <td>None</td>\n      <td>['3 Bedroom Semi-Detached House', 'Well Locate...</td>\n    </tr>\n    <tr>\n      <th>116387315</th>\n      <td>515000.0</td>\n      <td>375000.0</td>\n      <td>140000.0</td>\n      <td>27.184466</td>\n      <td>37.333333</td>\n      <td>515000</td>\n      <td>51.413710</td>\n      <td>-0.306050</td>\n      <td>2.0</td>\n      <td>1.0</td>\n      <td>...</td>\n      <td>NaN</td>\n      <td>0.188849</td>\n      <td>LEASEHOLD</td>\n      <td>True</td>\n      <td>Resale</td>\n      <td>Flats / Apartments</td>\n      <td>Kingston upon Thames</td>\n      <td>False</td>\n      <td>None</td>\n      <td>['2 Bedroom Apartment', 'Open Plan Living/Dini...</td>\n    </tr>\n    <tr>\n      <th>116397896</th>\n      <td>425000.0</td>\n      <td>425000.0</td>\n      <td>0.0</td>\n      <td>0.000000</td>\n      <td>0.000000</td>\n      <td>425000</td>\n      <td>51.539220</td>\n      <td>-0.314613</td>\n      <td>2.0</td>\n      <td>1.0</td>\n      <td>...</td>\n      <td>0.419789</td>\n      <td>NaN</td>\n      <td>LEASEHOLD</td>\n      <td>False</td>\n      <td>Resale</td>\n      <td>Flats / Apartments</td>\n      <td>Ealing</td>\n      <td>False</td>\n      <td>None</td>\n      <td>['Double Glazed', 'Wood Floors', 'Secured buil...</td>\n    </tr>\n    <tr>\n      <th>119980703</th>\n      <td>240000.0</td>\n      <td>270000.0</td>\n      <td>30000.0</td>\n      <td>12.500000</td>\n      <td>11.111111</td>\n      <td>240000</td>\n      <td>51.483145</td>\n      <td>0.141816</td>\n      <td>2.0</td>\n      <td>1.0</td>\n      <td>...</td>\n      <td>NaN</td>\n      <td>0.803049</td>\n      <td>LEASEHOLD</td>\n      <td>True</td>\n      <td>Resale</td>\n      <td>Flats / Apartments</td>\n      <td>Bexley</td>\n      <td>False</td>\n      <td>None</td>\n      <td>['Two double bedrooms', 'Second floor', '88 ye...</td>\n    </tr>\n    <tr>\n      <th>112424627</th>\n      <td>400000.0</td>\n      <td>338000.0</td>\n      <td>62000.0</td>\n      <td>15.500000</td>\n      <td>18.343195</td>\n      <td>400000</td>\n      <td>51.548604</td>\n      <td>-0.007113</td>\n      <td>1.0</td>\n      <td>1.0</td>\n      <td>...</td>\n      <td>0.487875</td>\n      <td>0.273223</td>\n      <td>LEASEHOLD</td>\n      <td>True</td>\n      <td>Resale</td>\n      <td>Flats / Apartments</td>\n      <td>Newham</td>\n      <td>False</td>\n      <td>Guide Price</td>\n      <td>['Stylish 1 Bedroom Apartment', 'Sleek And Mod...</td>\n    </tr>\n    <tr>\n      <th>...</th>\n      <td>...</td>\n      <td>...</td>\n      <td>...</td>\n      <td>...</td>\n      <td>...</td>\n      <td>...</td>\n      <td>...</td>\n      <td>...</td>\n      <td>...</td>\n      <td>...</td>\n      <td>...</td>\n      <td>...</td>\n      <td>...</td>\n      <td>...</td>\n      <td>...</td>\n      <td>...</td>\n      <td>...</td>\n      <td>...</td>\n      <td>...</td>\n      <td>...</td>\n      <td>...</td>\n    </tr>\n    <tr>\n      <th>119998832</th>\n      <td>400000.0</td>\n      <td>250000.0</td>\n      <td>150000.0</td>\n      <td>37.500000</td>\n      <td>60.000000</td>\n      <td>400000</td>\n      <td>51.481892</td>\n      <td>-0.035423</td>\n      <td>1.0</td>\n      <td>1.0</td>\n      <td>...</td>\n      <td>NaN</td>\n      <td>1.207218</td>\n      <td>LEASEHOLD</td>\n      <td>False</td>\n      <td>Resale</td>\n      <td>Flats / Apartments</td>\n      <td>Lewisham</td>\n      <td>False</td>\n      <td>None</td>\n      <td>[]</td>\n    </tr>\n    <tr>\n      <th>114708059</th>\n      <td>375000.0</td>\n      <td>375000.0</td>\n      <td>0.0</td>\n      <td>0.000000</td>\n      <td>0.000000</td>\n      <td>375000</td>\n      <td>51.485806</td>\n      <td>0.020277</td>\n      <td>2.0</td>\n      <td>1.0</td>\n      <td>...</td>\n      <td>NaN</td>\n      <td>0.132331</td>\n      <td>LEASEHOLD</td>\n      <td>False</td>\n      <td>Resale</td>\n      <td>Flats / Apartments</td>\n      <td>Greenwich</td>\n      <td>False</td>\n      <td>Guide Price</td>\n      <td>['Beautiful Three Bedroom First Floor Maisonet...</td>\n    </tr>\n    <tr>\n      <th>87572395</th>\n      <td>499950.0</td>\n      <td>550000.0</td>\n      <td>50050.0</td>\n      <td>10.011001</td>\n      <td>9.100000</td>\n      <td>499950</td>\n      <td>51.465090</td>\n      <td>-0.080560</td>\n      <td>2.0</td>\n      <td>1.0</td>\n      <td>...</td>\n      <td>NaN</td>\n      <td>0.242780</td>\n      <td>SHARE_OF_FREEHOLD</td>\n      <td>False</td>\n      <td>Resale</td>\n      <td>Flats / Apartments</td>\n      <td>Southwark</td>\n      <td>False</td>\n      <td>Offers in Excess of</td>\n      <td>['Two bedrooms ', 'Private garden ', 'Victoria...</td>\n    </tr>\n    <tr>\n      <th>85679046</th>\n      <td>550000.0</td>\n      <td>475000.0</td>\n      <td>75000.0</td>\n      <td>13.636364</td>\n      <td>15.789474</td>\n      <td>550000</td>\n      <td>51.405561</td>\n      <td>-0.022164</td>\n      <td>3.0</td>\n      <td>2.0</td>\n      <td>...</td>\n      <td>NaN</td>\n      <td>0.421950</td>\n      <td>SHARE_OF_FREEHOLD</td>\n      <td>True</td>\n      <td>Resale</td>\n      <td>Flats / Apartments</td>\n      <td>Bromley</td>\n      <td>False</td>\n      <td>None</td>\n      <td>['Three Bedrooms', 'Central Heating &amp; Double G...</td>\n    </tr>\n    <tr>\n      <th>121003748</th>\n      <td>325000.0</td>\n      <td>325000.0</td>\n      <td>0.0</td>\n      <td>0.000000</td>\n      <td>0.000000</td>\n      <td>325000</td>\n      <td>51.532480</td>\n      <td>0.065300</td>\n      <td>2.0</td>\n      <td>1.0</td>\n      <td>...</td>\n      <td>0.758723</td>\n      <td>0.846812</td>\n      <td>LEASEHOLD</td>\n      <td>False</td>\n      <td>Resale</td>\n      <td>Flats / Apartments</td>\n      <td>Newham</td>\n      <td>False</td>\n      <td>Guide Price</td>\n      <td>['Two bedroom ground floor flat', 'Double glaz...</td>\n    </tr>\n  </tbody>\n</table>\n<p>6784 rows × 22 columns</p>\n</div>"
     },
     "execution_count": 18,
     "metadata": {},
     "output_type": "execute_result"
    }
   ],
   "source": [
    "compare_df.join(df_orig)\n",
    "# 85514838\n",
    "# 115470422"
   ],
   "metadata": {
    "collapsed": false
   }
  },
  {
   "cell_type": "code",
   "execution_count": 19,
   "outputs": [
    {
     "data": {
      "text/plain": "0.4321972175045714"
     },
     "execution_count": 19,
     "metadata": {},
     "output_type": "execute_result"
    }
   ],
   "source": [
    "model.score(X_test, y_test)"
   ],
   "metadata": {
    "collapsed": false
   }
  }
 ],
 "metadata": {
  "kernelspec": {
   "display_name": "Python 3",
   "language": "python",
   "name": "python3"
  },
  "language_info": {
   "codemirror_mode": {
    "name": "ipython",
    "version": 2
   },
   "file_extension": ".py",
   "mimetype": "text/x-python",
   "name": "python",
   "nbconvert_exporter": "python",
   "pygments_lexer": "ipython2",
   "version": "2.7.6"
  }
 },
 "nbformat": 4,
 "nbformat_minor": 0
}
