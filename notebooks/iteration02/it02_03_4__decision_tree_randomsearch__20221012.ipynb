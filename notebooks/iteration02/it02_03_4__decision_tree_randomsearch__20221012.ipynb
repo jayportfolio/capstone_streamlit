{
 "cells": [
  {
   "cell_type": "code",
   "execution_count": 81,
   "metadata": {},
   "outputs": [],
   "source": [
    "ALGORITHM = 'Decision Tree'\n",
    "ALGORITHM_DETAIL = 'random search'\n",
    "VERSION = '02'\n",
    "\n",
    "RANDOM_STATE = 101\n",
    "TRAINING_SIZE = 0.9\n",
    "\n",
    "CROSS_VALIDATION_SCORING = 'r2'"
   ]
  },
  {
   "cell_type": "code",
   "execution_count": 82,
   "outputs": [],
   "source": [
    "from sklearn.tree import DecisionTreeRegressor\n",
    "from sklearn.neighbors import KNeighborsRegressor\n",
    "from sklearn.pipeline import Pipeline\n",
    "from sklearn.preprocessing import MinMaxScaler, StandardScaler\n",
    "\n",
    "pipe = Pipeline([\n",
    "    #('mms', MinMaxScaler()),\n",
    "    ('std_scaler', StandardScaler()),\n",
    "    ('model', DecisionTreeRegressor())\n",
    "])"
   ],
   "metadata": {
    "collapsed": false
   }
  },
  {
   "cell_type": "code",
   "execution_count": 83,
   "outputs": [],
   "source": [
    "from sklearn.impute import SimpleImputer\n",
    "import pandas as pd\n",
    "from sklearn.model_selection import train_test_split, RandomizedSearchCV\n",
    "import numpy as np\n",
    "from pandas import DataFrame\n",
    "import math\n",
    "from termcolor import colored\n",
    "\n",
    "confirm_colab = False\n",
    "\n",
    "try:\n",
    "    import google.colab\n",
    "\n",
    "    IN_COLAB = True\n",
    "except:\n",
    "    IN_COLAB = confirm_colab\n",
    "\n",
    "if not IN_COLAB:\n",
    "    import functions_20221012\n",
    "    from functions_20221012 import set_csv_directory\n",
    "\n",
    "    set_csv_directory('final_split')\n",
    "\n",
    "debug_mode = False"
   ],
   "metadata": {
    "collapsed": false
   }
  },
  {
   "cell_type": "code",
   "execution_count": 84,
   "outputs": [
    {
     "name": "stdout",
     "output_type": "stream",
     "text": [
      "\u001B[34mfeatures\u001B[0m ->  ['location.latitude', 'location.longitude', 'bedrooms', 'bathrooms', 'nearestStation', 'tenure.tenureType']\n",
      "\u001B[1m\u001B[32mlabel\u001B[0m ->  Price\n"
     ]
    }
   ],
   "source": [
    "#cutdown_rows = 1000\n",
    "cutdown_rows = 0\n",
    "\n",
    "LABEL = 'Price'\n",
    "\n",
    "booleans = []\n",
    "floats = ['location.latitude', 'location.longitude', 'bedrooms', 'bathrooms', 'nearestStation']\n",
    "categories = ['tenure.tenureType']\n",
    "\n",
    "columns = []\n",
    "columns.extend(booleans)\n",
    "columns.extend(floats)\n",
    "columns.extend(categories)\n",
    "\n",
    "print(colored(f\"features\", \"blue\"), \"-> \", columns)\n",
    "columns.insert(0, LABEL)\n",
    "print(colored(f\"label\", \"green\", None, ['bold']), \"-> \", LABEL)"
   ],
   "metadata": {
    "collapsed": false
   }
  },
  {
   "cell_type": "code",
   "execution_count": 85,
   "outputs": [],
   "source": [
    "filename = f'df_listings_v{VERSION}.csv'\n",
    "#remote_pathname = 'https://raw.githubusercontent.com/jayportfolio/capstone_streamlit/main/data/final/df_listings.csv'\n",
    "remote_pathname = f'https://raw.githubusercontent.com/jayportfolio/capstone_streamlit/main/data/final/{filename}'\n",
    "df_pathname_raw = f'../../data/source/{filename}'\n",
    "df_pathname_tidy = f'../../data/final/{filename}'\n",
    "\n",
    "\n",
    "def get_source_dataframe(rows=cutdown_rows, folder_prefix='../'):\n",
    "\n",
    "    retrieval_type = None\n",
    "\n",
    "    if IN_COLAB:\n",
    "        inDF = pd.read_csv(remote_pathname, on_bad_lines='error', index_col=0)\n",
    "        retrieval_type = 'tidy'\n",
    "        print('loaded data from', remote_pathname)\n",
    "    else:\n",
    "        try:\n",
    "            inDF = pd.read_csv(df_pathname_tidy, on_bad_lines='error', index_col=0)\n",
    "            retrieval_type = 'tidy'\n",
    "            print('loaded data from', df_pathname_tidy)\n",
    "        except:\n",
    "            print(f\"WARNING: Failed to retrieved stored data for version {VERSION}, creating new source data.\")\n",
    "            inDF = functions_20221012.get_combined_dataset(HOW='inner', early_duplicates=True,\n",
    "                                                            folder_prefix=folder_prefix)\n",
    "            inDF.to_csv(df_pathname_raw)\n",
    "            retrieval_type = 'raw'\n",
    "\n",
    "    if rows and rows > 0:\n",
    "        inDF = inDF[:rows]\n",
    "    return inDF, retrieval_type\n",
    "\n",
    "\n",
    "def create_train_test_data(df_orig, return_index=False, drop_nulls=True):\n",
    "    df = df_orig.copy()\n",
    "\n",
    "    if drop_nulls:\n",
    "        df.dropna(inplace=True)\n",
    "\n",
    "    if return_index:\n",
    "        df.reset_index(inplace=True)\n",
    "\n",
    "    for column in categories:\n",
    "        df = pd.concat([df, pd.get_dummies(df[column], prefix=column)], axis=1)\n",
    "        df.drop([column], axis=1, inplace=True)  # now drop the original column (you don't need it anymore),\n",
    "\n",
    "    ins = df.pop('index')\n",
    "    df.insert(1, 'index2', ins)\n",
    "    df.insert(0, 'index', ins)\n",
    "\n",
    "    #features = df[df.columns[1:]].values\n",
    "    features = df[df.columns[2:]].values\n",
    "    #labels = df[LABEL].values\n",
    "    labels = df.iloc[:, 0:2].values\n",
    "\n",
    "    if not return_index:\n",
    "        return train_test_split(features, labels, train_size=0.9, random_state=RANDOM_STATE)\n",
    "    else:\n",
    "        X_train1, X_test1, y_train1, y_test1 = train_test_split(features, labels, train_size=0.9, random_state=RANDOM_STATE)\n",
    "        X_train_index = X_train1[:, 0].reshape(-1, 1)\n",
    "        y_train_index = y_train1[:, 0].reshape(-1, 1)\n",
    "        X_test_index = X_test1[:, 0].reshape(-1, 1)\n",
    "        y_test_index = y_test1[:, 0].reshape(-1, 1)\n",
    "        X_train1 = X_train1[:, 1:]\n",
    "        y_train1 = y_train1[:, 1].reshape(-1, 1)\n",
    "        X_test1 = X_test1[:, 1:]\n",
    "        y_test1 = y_test1[:, 1].reshape(-1, 1)\n",
    "\n",
    "        return X_train1, X_test1, y_train1, y_test1, X_train_index, X_test_index, y_train_index, y_test_index\n",
    "\n",
    "#X_train, X_test, y_train, y_test, X_train_index, X_test_index, y_train_index, y_test_index = create_train_test_data(get_source_dataframe(), return_index=True, drop_nulls=False)\n",
    "#X_train.shape, X_test.shape, y_train.shape, y_test.shape, X_train_index.shape, X_test_index.shape, y_train_index.shape, y_test_index.shape,"
   ],
   "metadata": {
    "collapsed": false
   }
  },
  {
   "cell_type": "code",
   "execution_count": 86,
   "outputs": [
    {
     "name": "stdout",
     "output_type": "stream",
     "text": [
      "loaded data from ../../data/final/df_listings_v02.csv\n",
      "(52117, 7)\n",
      "Int64Index([ 14520525,  27953107,  33593487,  35271294,  35429088,  44749111,\n",
      "             46204665,  49020666,  49036279,  49303873,\n",
      "            ...\n",
      "            126173423, 126173600, 126175973, 126178769, 126179018, 126179672,\n",
      "            126180107, 126180704, 126180962, 126181118],\n",
      "           dtype='int64', length=52117)\n"
     ]
    }
   ],
   "source": [
    "df, retrieval_type = get_source_dataframe(folder_prefix='../../')\n",
    "df_orig = df.copy()\n",
    "\n",
    "\n",
    "if retrieval_type != 'tidy':\n",
    "    df = functions_20221012.add_supplements(df)\n",
    "    df.to_csv(df_pathname_raw)\n",
    "    df = functions_20221012.tidy_dataset(df, version=int(VERSION))\n",
    "\n",
    "    df = df[columns]\n",
    "\n",
    "    df.to_csv(df_pathname_tidy)\n",
    "\n",
    "print(df.shape)\n",
    "df[:5]\n",
    "\n",
    "df_orig.merge(df, how='inner', left_index=True, right_index=True)\n",
    "\n",
    "print(df.index)"
   ],
   "metadata": {
    "collapsed": false
   }
  },
  {
   "cell_type": "code",
   "execution_count": 87,
   "outputs": [
    {
     "data": {
      "text/plain": "              Price location.latitude  location.longitude  bedrooms  \\\n14520525   550000.0          51.52995           -0.207020       3.0   \n27953107   400000.0          51.54939           -0.482600       2.0   \n33593487   579950.0          51.44718           -0.338770       2.0   \n35271294   370000.0         51.449568           -0.140154       2.0   \n35429088   599950.0          51.57703           -0.141230       2.0   \n...             ...               ...                 ...       ...   \n126179672  600000.0          51.35717           -0.074740       3.0   \n126180107  419999.0         51.531415           -0.052964       2.0   \n126180704  475000.0         51.543141            0.011498       2.0   \n126180962  450000.0         51.592105           -0.008233       NaN   \n126181118  525000.0         51.424589           -0.206790       2.0   \n\n           bathrooms  nearestStation  tenure.tenureType  \n14520525         1.0        0.274316          LEASEHOLD  \n27953107         2.0        0.305845          LEASEHOLD  \n33593487         1.0        0.438045           FREEHOLD  \n35271294         1.0        0.399307          LEASEHOLD  \n35429088         1.0        0.238187                NaN  \n...              ...             ...                ...  \n126179672        2.0        0.545665          LEASEHOLD  \n126180107        1.0        0.191407          LEASEHOLD  \n126180704        1.0        0.308609          LEASEHOLD  \n126180962        1.0        0.476935           FREEHOLD  \n126181118        1.0        0.238489  SHARE_OF_FREEHOLD  \n\n[52117 rows x 7 columns]",
      "text/html": "<div>\n<style scoped>\n    .dataframe tbody tr th:only-of-type {\n        vertical-align: middle;\n    }\n\n    .dataframe tbody tr th {\n        vertical-align: top;\n    }\n\n    .dataframe thead th {\n        text-align: right;\n    }\n</style>\n<table border=\"1\" class=\"dataframe\">\n  <thead>\n    <tr style=\"text-align: right;\">\n      <th></th>\n      <th>Price</th>\n      <th>location.latitude</th>\n      <th>location.longitude</th>\n      <th>bedrooms</th>\n      <th>bathrooms</th>\n      <th>nearestStation</th>\n      <th>tenure.tenureType</th>\n    </tr>\n  </thead>\n  <tbody>\n    <tr>\n      <th>14520525</th>\n      <td>550000.0</td>\n      <td>51.52995</td>\n      <td>-0.207020</td>\n      <td>3.0</td>\n      <td>1.0</td>\n      <td>0.274316</td>\n      <td>LEASEHOLD</td>\n    </tr>\n    <tr>\n      <th>27953107</th>\n      <td>400000.0</td>\n      <td>51.54939</td>\n      <td>-0.482600</td>\n      <td>2.0</td>\n      <td>2.0</td>\n      <td>0.305845</td>\n      <td>LEASEHOLD</td>\n    </tr>\n    <tr>\n      <th>33593487</th>\n      <td>579950.0</td>\n      <td>51.44718</td>\n      <td>-0.338770</td>\n      <td>2.0</td>\n      <td>1.0</td>\n      <td>0.438045</td>\n      <td>FREEHOLD</td>\n    </tr>\n    <tr>\n      <th>35271294</th>\n      <td>370000.0</td>\n      <td>51.449568</td>\n      <td>-0.140154</td>\n      <td>2.0</td>\n      <td>1.0</td>\n      <td>0.399307</td>\n      <td>LEASEHOLD</td>\n    </tr>\n    <tr>\n      <th>35429088</th>\n      <td>599950.0</td>\n      <td>51.57703</td>\n      <td>-0.141230</td>\n      <td>2.0</td>\n      <td>1.0</td>\n      <td>0.238187</td>\n      <td>NaN</td>\n    </tr>\n    <tr>\n      <th>...</th>\n      <td>...</td>\n      <td>...</td>\n      <td>...</td>\n      <td>...</td>\n      <td>...</td>\n      <td>...</td>\n      <td>...</td>\n    </tr>\n    <tr>\n      <th>126179672</th>\n      <td>600000.0</td>\n      <td>51.35717</td>\n      <td>-0.074740</td>\n      <td>3.0</td>\n      <td>2.0</td>\n      <td>0.545665</td>\n      <td>LEASEHOLD</td>\n    </tr>\n    <tr>\n      <th>126180107</th>\n      <td>419999.0</td>\n      <td>51.531415</td>\n      <td>-0.052964</td>\n      <td>2.0</td>\n      <td>1.0</td>\n      <td>0.191407</td>\n      <td>LEASEHOLD</td>\n    </tr>\n    <tr>\n      <th>126180704</th>\n      <td>475000.0</td>\n      <td>51.543141</td>\n      <td>0.011498</td>\n      <td>2.0</td>\n      <td>1.0</td>\n      <td>0.308609</td>\n      <td>LEASEHOLD</td>\n    </tr>\n    <tr>\n      <th>126180962</th>\n      <td>450000.0</td>\n      <td>51.592105</td>\n      <td>-0.008233</td>\n      <td>NaN</td>\n      <td>1.0</td>\n      <td>0.476935</td>\n      <td>FREEHOLD</td>\n    </tr>\n    <tr>\n      <th>126181118</th>\n      <td>525000.0</td>\n      <td>51.424589</td>\n      <td>-0.206790</td>\n      <td>2.0</td>\n      <td>1.0</td>\n      <td>0.238489</td>\n      <td>SHARE_OF_FREEHOLD</td>\n    </tr>\n  </tbody>\n</table>\n<p>52117 rows × 7 columns</p>\n</div>"
     },
     "execution_count": 87,
     "metadata": {},
     "output_type": "execute_result"
    }
   ],
   "source": [
    "df"
   ],
   "metadata": {
    "collapsed": false
   }
  },
  {
   "cell_type": "code",
   "execution_count": 88,
   "metadata": {},
   "outputs": [
    {
     "data": {
      "text/plain": "Price                    0\nlocation.latitude        0\nlocation.longitude       0\nbedrooms              1742\nbathrooms             3173\nnearestStation           0\ntenure.tenureType     3402\ndtype: int64"
     },
     "execution_count": 88,
     "metadata": {},
     "output_type": "execute_result"
    }
   ],
   "source": [
    "df.isnull().sum()"
   ]
  },
  {
   "cell_type": "code",
   "execution_count": 89,
   "metadata": {},
   "outputs": [
    {
     "name": "stdout",
     "output_type": "stream",
     "text": [
      "<class 'pandas.core.frame.DataFrame'>\n",
      "Int64Index: 52117 entries, 14520525 to 126181118\n",
      "Data columns (total 7 columns):\n",
      " #   Column              Non-Null Count  Dtype  \n",
      "---  ------              --------------  -----  \n",
      " 0   Price               52117 non-null  float64\n",
      " 1   location.latitude   52117 non-null  object \n",
      " 2   location.longitude  52117 non-null  float64\n",
      " 3   bedrooms            50375 non-null  float64\n",
      " 4   bathrooms           48944 non-null  float64\n",
      " 5   nearestStation      52117 non-null  float64\n",
      " 6   tenure.tenureType   48715 non-null  object \n",
      "dtypes: float64(5), object(2)\n",
      "memory usage: 5.2+ MB\n"
     ]
    },
    {
     "data": {
      "text/plain": "               Price  location.longitude       bedrooms     bathrooms  \\\ncount   52117.000000        52117.000000   50375.000000  48944.000000   \nmean   419854.956790           -0.104810      11.721787      1.177182   \nstd    110342.806124            0.731478    2183.166275      0.410552   \nmin    100000.000000           -0.498315       1.000000      1.000000   \n25%    330000.000000           -0.211852       1.000000      1.000000   \n50%    425000.000000           -0.104440       2.000000      1.000000   \n75%    500000.000000           -0.011509       3.000000      1.000000   \nmax    600000.000000           51.558746  490000.000000     12.000000   \n\n       nearestStation  \ncount    52117.000000  \nmean         0.445245  \nstd          1.066809  \nmin          0.000000  \n25%          0.224233  \n50%          0.363994  \n75%          0.557263  \nmax        192.431869  ",
      "text/html": "<div>\n<style scoped>\n    .dataframe tbody tr th:only-of-type {\n        vertical-align: middle;\n    }\n\n    .dataframe tbody tr th {\n        vertical-align: top;\n    }\n\n    .dataframe thead th {\n        text-align: right;\n    }\n</style>\n<table border=\"1\" class=\"dataframe\">\n  <thead>\n    <tr style=\"text-align: right;\">\n      <th></th>\n      <th>Price</th>\n      <th>location.longitude</th>\n      <th>bedrooms</th>\n      <th>bathrooms</th>\n      <th>nearestStation</th>\n    </tr>\n  </thead>\n  <tbody>\n    <tr>\n      <th>count</th>\n      <td>52117.000000</td>\n      <td>52117.000000</td>\n      <td>50375.000000</td>\n      <td>48944.000000</td>\n      <td>52117.000000</td>\n    </tr>\n    <tr>\n      <th>mean</th>\n      <td>419854.956790</td>\n      <td>-0.104810</td>\n      <td>11.721787</td>\n      <td>1.177182</td>\n      <td>0.445245</td>\n    </tr>\n    <tr>\n      <th>std</th>\n      <td>110342.806124</td>\n      <td>0.731478</td>\n      <td>2183.166275</td>\n      <td>0.410552</td>\n      <td>1.066809</td>\n    </tr>\n    <tr>\n      <th>min</th>\n      <td>100000.000000</td>\n      <td>-0.498315</td>\n      <td>1.000000</td>\n      <td>1.000000</td>\n      <td>0.000000</td>\n    </tr>\n    <tr>\n      <th>25%</th>\n      <td>330000.000000</td>\n      <td>-0.211852</td>\n      <td>1.000000</td>\n      <td>1.000000</td>\n      <td>0.224233</td>\n    </tr>\n    <tr>\n      <th>50%</th>\n      <td>425000.000000</td>\n      <td>-0.104440</td>\n      <td>2.000000</td>\n      <td>1.000000</td>\n      <td>0.363994</td>\n    </tr>\n    <tr>\n      <th>75%</th>\n      <td>500000.000000</td>\n      <td>-0.011509</td>\n      <td>3.000000</td>\n      <td>1.000000</td>\n      <td>0.557263</td>\n    </tr>\n    <tr>\n      <th>max</th>\n      <td>600000.000000</td>\n      <td>51.558746</td>\n      <td>490000.000000</td>\n      <td>12.000000</td>\n      <td>192.431869</td>\n    </tr>\n  </tbody>\n</table>\n</div>"
     },
     "execution_count": 89,
     "metadata": {},
     "output_type": "execute_result"
    }
   ],
   "source": [
    "df.info()\n",
    "df.describe()"
   ]
  },
  {
   "cell_type": "code",
   "execution_count": 90,
   "metadata": {},
   "outputs": [
    {
     "name": "stdout",
     "output_type": "stream",
     "text": [
      "dataframe contract due to cleaning: 52117 ==> 47444\n"
     ]
    },
    {
     "data": {
      "text/plain": "                      count           mean            std            min  \\\nPrice               47444.0  424032.547382  108060.063745  100000.000000   \nlocation.latitude   47444.0      51.496962       0.077034      51.298317   \nlocation.longitude  47444.0      -0.113297       0.156316      -0.498315   \nbedrooms            47444.0       1.990557       0.828428       1.000000   \nbathrooms           47444.0       1.182173       0.410188       1.000000   \nnearestStation      47444.0       0.439824       0.354467       0.000000   \n\n                              25%            50%            75%            max  \nPrice               345000.000000  425000.000000  511500.000000  600000.000000  \nlocation.latitude       51.438814      51.499890      51.555916      51.683185  \nlocation.longitude      -0.210785      -0.102333      -0.010485       0.279726  \nbedrooms                 1.000000       2.000000       3.000000       7.000000  \nbathrooms                1.000000       1.000000       1.000000       5.000000  \nnearestStation           0.226450       0.367506       0.558826      16.168861  ",
      "text/html": "<div>\n<style scoped>\n    .dataframe tbody tr th:only-of-type {\n        vertical-align: middle;\n    }\n\n    .dataframe tbody tr th {\n        vertical-align: top;\n    }\n\n    .dataframe thead th {\n        text-align: right;\n    }\n</style>\n<table border=\"1\" class=\"dataframe\">\n  <thead>\n    <tr style=\"text-align: right;\">\n      <th></th>\n      <th>count</th>\n      <th>mean</th>\n      <th>std</th>\n      <th>min</th>\n      <th>25%</th>\n      <th>50%</th>\n      <th>75%</th>\n      <th>max</th>\n    </tr>\n  </thead>\n  <tbody>\n    <tr>\n      <th>Price</th>\n      <td>47444.0</td>\n      <td>424032.547382</td>\n      <td>108060.063745</td>\n      <td>100000.000000</td>\n      <td>345000.000000</td>\n      <td>425000.000000</td>\n      <td>511500.000000</td>\n      <td>600000.000000</td>\n    </tr>\n    <tr>\n      <th>location.latitude</th>\n      <td>47444.0</td>\n      <td>51.496962</td>\n      <td>0.077034</td>\n      <td>51.298317</td>\n      <td>51.438814</td>\n      <td>51.499890</td>\n      <td>51.555916</td>\n      <td>51.683185</td>\n    </tr>\n    <tr>\n      <th>location.longitude</th>\n      <td>47444.0</td>\n      <td>-0.113297</td>\n      <td>0.156316</td>\n      <td>-0.498315</td>\n      <td>-0.210785</td>\n      <td>-0.102333</td>\n      <td>-0.010485</td>\n      <td>0.279726</td>\n    </tr>\n    <tr>\n      <th>bedrooms</th>\n      <td>47444.0</td>\n      <td>1.990557</td>\n      <td>0.828428</td>\n      <td>1.000000</td>\n      <td>1.000000</td>\n      <td>2.000000</td>\n      <td>3.000000</td>\n      <td>7.000000</td>\n    </tr>\n    <tr>\n      <th>bathrooms</th>\n      <td>47444.0</td>\n      <td>1.182173</td>\n      <td>0.410188</td>\n      <td>1.000000</td>\n      <td>1.000000</td>\n      <td>1.000000</td>\n      <td>1.000000</td>\n      <td>5.000000</td>\n    </tr>\n    <tr>\n      <th>nearestStation</th>\n      <td>47444.0</td>\n      <td>0.439824</td>\n      <td>0.354467</td>\n      <td>0.000000</td>\n      <td>0.226450</td>\n      <td>0.367506</td>\n      <td>0.558826</td>\n      <td>16.168861</td>\n    </tr>\n  </tbody>\n</table>\n</div>"
     },
     "execution_count": 90,
     "metadata": {},
     "output_type": "execute_result"
    }
   ],
   "source": [
    "old_length = len(df)\n",
    "df['location.latitude'] = pd.to_numeric(df['location.latitude'], 'coerce').dropna().astype(float)\n",
    "df = df[(df['location.longitude'] <= 10)]\n",
    "df = df[(df['bedrooms'] <= 10)]\n",
    "df = df[df['bathrooms'] <= 5]\n",
    "df = df[(df['nearestStation'] <= 20)]\n",
    "\n",
    "print(f\"dataframe contract due to cleaning: {old_length} ==> {len(df)}\")\n",
    "old_length = len(df)\n",
    "\n",
    "df.describe().T"
   ]
  },
  {
   "cell_type": "code",
   "execution_count": 91,
   "metadata": {},
   "outputs": [
    {
     "data": {
      "text/plain": "Price                    0\nlocation.latitude        0\nlocation.longitude       0\nbedrooms                 0\nbathrooms                0\nnearestStation           0\ntenure.tenureType     2780\ndtype: int64"
     },
     "execution_count": 91,
     "metadata": {},
     "output_type": "execute_result"
    }
   ],
   "source": [
    "df.isna().sum()"
   ]
  },
  {
   "cell_type": "code",
   "execution_count": 92,
   "metadata": {},
   "outputs": [
    {
     "name": "stdout",
     "output_type": "stream",
     "text": [
      "47444 ==> 44664\n"
     ]
    },
    {
     "data": {
      "text/plain": "               Price  location.latitude  location.longitude      bedrooms  \\\ncount   44664.000000       44664.000000        44664.000000  44664.000000   \nmean   424197.633598          51.496602           -0.113125      1.989208   \nstd    107989.580699           0.077221            0.155684      0.827142   \nmin    100000.000000          51.298317           -0.498315      1.000000   \n25%    345000.000000          51.438246           -0.210584      1.000000   \n50%    425000.000000          51.498681           -0.101934      2.000000   \n75%    515000.000000          51.555979           -0.010933      3.000000   \nmax    600000.000000          51.683185            0.279726      7.000000   \n\n          bathrooms  nearestStation  \ncount  44664.000000    44664.000000  \nmean       1.181332        0.439504  \nstd        0.409031        0.353470  \nmin        1.000000        0.000000  \n25%        1.000000        0.226771  \n50%        1.000000        0.367875  \n75%        1.000000        0.558693  \nmax        5.000000       16.168861  ",
      "text/html": "<div>\n<style scoped>\n    .dataframe tbody tr th:only-of-type {\n        vertical-align: middle;\n    }\n\n    .dataframe tbody tr th {\n        vertical-align: top;\n    }\n\n    .dataframe thead th {\n        text-align: right;\n    }\n</style>\n<table border=\"1\" class=\"dataframe\">\n  <thead>\n    <tr style=\"text-align: right;\">\n      <th></th>\n      <th>Price</th>\n      <th>location.latitude</th>\n      <th>location.longitude</th>\n      <th>bedrooms</th>\n      <th>bathrooms</th>\n      <th>nearestStation</th>\n    </tr>\n  </thead>\n  <tbody>\n    <tr>\n      <th>count</th>\n      <td>44664.000000</td>\n      <td>44664.000000</td>\n      <td>44664.000000</td>\n      <td>44664.000000</td>\n      <td>44664.000000</td>\n      <td>44664.000000</td>\n    </tr>\n    <tr>\n      <th>mean</th>\n      <td>424197.633598</td>\n      <td>51.496602</td>\n      <td>-0.113125</td>\n      <td>1.989208</td>\n      <td>1.181332</td>\n      <td>0.439504</td>\n    </tr>\n    <tr>\n      <th>std</th>\n      <td>107989.580699</td>\n      <td>0.077221</td>\n      <td>0.155684</td>\n      <td>0.827142</td>\n      <td>0.409031</td>\n      <td>0.353470</td>\n    </tr>\n    <tr>\n      <th>min</th>\n      <td>100000.000000</td>\n      <td>51.298317</td>\n      <td>-0.498315</td>\n      <td>1.000000</td>\n      <td>1.000000</td>\n      <td>0.000000</td>\n    </tr>\n    <tr>\n      <th>25%</th>\n      <td>345000.000000</td>\n      <td>51.438246</td>\n      <td>-0.210584</td>\n      <td>1.000000</td>\n      <td>1.000000</td>\n      <td>0.226771</td>\n    </tr>\n    <tr>\n      <th>50%</th>\n      <td>425000.000000</td>\n      <td>51.498681</td>\n      <td>-0.101934</td>\n      <td>2.000000</td>\n      <td>1.000000</td>\n      <td>0.367875</td>\n    </tr>\n    <tr>\n      <th>75%</th>\n      <td>515000.000000</td>\n      <td>51.555979</td>\n      <td>-0.010933</td>\n      <td>3.000000</td>\n      <td>1.000000</td>\n      <td>0.558693</td>\n    </tr>\n    <tr>\n      <th>max</th>\n      <td>600000.000000</td>\n      <td>51.683185</td>\n      <td>0.279726</td>\n      <td>7.000000</td>\n      <td>5.000000</td>\n      <td>16.168861</td>\n    </tr>\n  </tbody>\n</table>\n</div>"
     },
     "execution_count": 92,
     "metadata": {},
     "output_type": "execute_result"
    }
   ],
   "source": [
    "df = df.dropna()\n",
    "print(f\"{old_length} ==> {len(df)}\")\n",
    "old_length = len(df)\n",
    "df.describe()"
   ]
  },
  {
   "cell_type": "code",
   "execution_count": 93,
   "metadata": {},
   "outputs": [
    {
     "name": "stdout",
     "output_type": "stream",
     "text": [
      "(40197, 9) (4467, 9) (40197, 1) (4467, 1) (40197, 1) (4467, 1) (40197, 1) (4467, 1)\n"
     ]
    }
   ],
   "source": [
    "X_train, X_test, y_train, y_test, X_train_index, X_test_index, y_train_index, y_test_index = create_train_test_data(df,\n",
    "                                                                                                                    return_index=True,\n",
    "                                                                                                                    drop_nulls=True)\n",
    "\n",
    "print(X_train.shape, X_test.shape, y_train.shape, y_test.shape, X_train_index.shape, X_test_index.shape,\n",
    "      y_train_index.shape, y_test_index.shape)\n",
    "#print(type(X_train))\n",
    "#X_train[0]"
   ]
  },
  {
   "cell_type": "code",
   "execution_count": 94,
   "metadata": {},
   "outputs": [],
   "source": [
    "#imputer = SimpleImputer(strategy='mean')\n",
    "#imputer.fit(X_train[6])\n",
    "#X_train[6] = imputer.transform(X_train[6])"
   ]
  },
  {
   "cell_type": "code",
   "execution_count": 95,
   "metadata": {},
   "outputs": [
    {
     "data": {
      "text/plain": "{'ccp_alpha': 0.0,\n 'criterion': 'squared_error',\n 'max_depth': None,\n 'max_features': None,\n 'max_leaf_nodes': None,\n 'min_impurity_decrease': 0.0,\n 'min_samples_leaf': 1,\n 'min_samples_split': 2,\n 'min_weight_fraction_leaf': 0.0,\n 'random_state': None,\n 'splitter': 'best'}"
     },
     "execution_count": 95,
     "metadata": {},
     "output_type": "execute_result"
    }
   ],
   "source": [
    "from time import time\n",
    "\n",
    "#pipe.fit(X_train, y_train)\n",
    "\n",
    "model = DecisionTreeRegressor()\n",
    "#model.fit(X_train, y_train)\n",
    "model.get_params()"
   ]
  },
  {
   "cell_type": "code",
   "execution_count": 96,
   "outputs": [
    {
     "name": "stdout",
     "output_type": "stream",
     "text": [
      "Fitting 3 folds for each of 300 candidates, totalling 900 fits\n"
     ]
    },
    {
     "name": "stderr",
     "output_type": "stream",
     "text": [
      "/home/guava/PycharmProjects/capstone_streamlit/venv/lib/python3.8/site-packages/sklearn/model_selection/_validation.py:378: FitFailedWarning: \n",
      "159 fits failed out of a total of 900.\n",
      "The score on these train-test partitions for these parameters will be set to nan.\n",
      "If these failures are not expected, you can try to debug them by setting error_score='raise'.\n",
      "\n",
      "Below are more details about the failures:\n",
      "--------------------------------------------------------------------------------\n",
      "159 fits failed with the following error:\n",
      "Traceback (most recent call last):\n",
      "  File \"/home/guava/PycharmProjects/capstone_streamlit/venv/lib/python3.8/site-packages/sklearn/model_selection/_validation.py\", line 686, in _fit_and_score\n",
      "    estimator.fit(X_train, y_train, **fit_params)\n",
      "  File \"/home/guava/PycharmProjects/capstone_streamlit/venv/lib/python3.8/site-packages/sklearn/pipeline.py\", line 382, in fit\n",
      "    self._final_estimator.fit(Xt, y, **fit_params_last_step)\n",
      "  File \"/home/guava/PycharmProjects/capstone_streamlit/venv/lib/python3.8/site-packages/sklearn/tree/_classes.py\", line 1342, in fit\n",
      "    super().fit(\n",
      "  File \"/home/guava/PycharmProjects/capstone_streamlit/venv/lib/python3.8/site-packages/sklearn/tree/_classes.py\", line 358, in fit\n",
      "    check_scalar(\n",
      "  File \"/home/guava/PycharmProjects/capstone_streamlit/venv/lib/python3.8/site-packages/sklearn/utils/validation.py\", line 1452, in check_scalar\n",
      "    raise TypeError(\n",
      "TypeError: min_impurity_decrease must be an instance of float, not NoneType.\n",
      "\n",
      "  warnings.warn(some_fits_failed_message, FitFailedWarning)\n",
      "/home/guava/PycharmProjects/capstone_streamlit/venv/lib/python3.8/site-packages/sklearn/model_selection/_search.py:953: UserWarning: One or more of the test scores are non-finite: [ 7.04810257e-02 -3.20844062e-05  1.31988589e-01  6.50195089e-02\n",
      "  3.51092560e-03 -3.20844062e-05  2.43819280e-03 -3.20844062e-05\n",
      "  5.66227470e-02  1.52722269e-01  9.31027474e-02  1.49274898e-01\n",
      "  1.82314131e-01  9.87262451e-02             nan  1.19343014e-01\n",
      "  2.50650791e-01  4.29890483e-02 -3.20844062e-05  1.40173144e-01\n",
      "  5.52028091e-02  9.29175809e-02 -7.50812980e-05  6.12170479e-02\n",
      "  1.34561778e-01  1.49274898e-01  1.53117690e-01 -3.20844062e-05\n",
      "             nan             nan  3.59479201e-02 -3.20844062e-05\n",
      "  1.00133462e-01  1.48496004e-01             nan  1.55665095e-01\n",
      "  8.41194285e-02  5.44611128e-03             nan -3.20844062e-05\n",
      "  1.54406931e-01 -3.20844062e-05  2.18243386e-01 -3.20844062e-05\n",
      " -3.20844062e-05  1.64885560e-01  4.59245314e-02  1.56796362e-01\n",
      "  1.65526024e-01  1.33782486e-01  6.25498271e-03  1.11987860e-02\n",
      "  2.72399501e-03  5.44611128e-03  7.44338041e-02  1.58300127e-01\n",
      "             nan -3.20844062e-05  1.49274898e-01  1.81294848e-01\n",
      " -7.50812980e-05  1.40375186e-01             nan             nan\n",
      " -3.20844062e-05  1.40173144e-01  9.00284836e-02 -3.20844062e-05\n",
      "  2.19850698e-01  2.52427034e-01  2.15386885e-01 -3.20844062e-05\n",
      " -3.20844062e-05  1.35921793e-01  5.78060665e-03  7.04191330e-03\n",
      "  2.62128987e-03  1.35921793e-01  1.89139801e-05 -3.20844062e-05\n",
      "  1.42499902e-01  8.08737229e-03  1.35921564e-01  1.46234262e-01\n",
      "  1.35921793e-01  5.14141698e-02  1.46448849e-02  1.97670471e-01\n",
      "             nan  1.33782486e-01  9.97573102e-02             nan\n",
      "             nan  1.00619033e-01  1.30192033e-01             nan\n",
      "  1.97636887e-01  1.97445539e-01  1.35960374e-01  1.55665095e-01\n",
      "             nan             nan             nan             nan\n",
      "  1.44492817e-01  2.19850698e-01             nan  7.42819618e-02\n",
      "             nan  2.97032044e-03 -3.20844062e-05  5.64112711e-02\n",
      "  4.84940587e-02  2.07353815e-01  2.19850698e-01  5.24382933e-02\n",
      "  1.56845614e-01  1.74669204e-01  9.73461977e-02  7.94027395e-05\n",
      "             nan  1.46234262e-01  1.84349214e-01  1.40043958e-01\n",
      "  2.53627299e-01  1.56845614e-01  1.56796362e-01 -3.20844062e-05\n",
      "             nan  9.21378362e-02  9.00239442e-02  1.56796362e-01\n",
      "  1.73376149e-01  9.98504949e-02  1.35921793e-01  4.70872441e-02\n",
      "  2.19850698e-01  3.60987140e-03  1.37754138e-01  5.02310444e-02\n",
      "  1.59343988e-01  6.43505468e-03  9.00284836e-02  4.29890483e-02\n",
      " -3.20844062e-05  2.32149945e-01  2.36903053e-03             nan\n",
      "  1.35921793e-01             nan  1.74477247e-01 -3.20844062e-05\n",
      "  2.27332310e-01  1.42830197e-01  2.42913262e-02  1.55477360e-01\n",
      "             nan  2.76527499e-01  1.79816589e-01  8.73967972e-02\n",
      "             nan -3.20844062e-05  1.00604640e-01  1.57389684e-01\n",
      "             nan             nan  5.44611128e-03             nan\n",
      "  1.51102771e-01  7.06207314e-05             nan             nan\n",
      "             nan  9.91302377e-02  7.04191330e-03 -7.50812980e-05\n",
      "  4.99896892e-02 -3.20844062e-05  1.35921793e-01  1.01911258e-01\n",
      "  1.45023547e-01 -7.50812980e-05  1.98624723e-01  1.45474861e-01\n",
      "             nan -7.50812980e-05 -3.20844062e-05  8.67907154e-02\n",
      "  1.94571556e-01  5.44611128e-03 -3.20844062e-05             nan\n",
      "  2.27332310e-01  1.68764744e-01  1.01413354e-01             nan\n",
      "  9.00284836e-02             nan  1.56878567e-01  4.42141117e-02\n",
      "  1.26511129e-01  1.56845614e-01  1.41098552e-01  1.37187115e-01\n",
      "             nan  1.22217186e-01  1.37396567e-01  1.42317669e-03\n",
      "             nan  7.04191330e-03  2.01393273e-03  4.07655097e-03\n",
      "  8.85549422e-02             nan             nan  9.30659345e-02\n",
      "  5.02197358e-02  4.07655097e-03 -3.20844062e-05  1.36466406e-01\n",
      "  5.44611128e-03  1.34127896e-01  2.97032044e-03  1.49274898e-01\n",
      "  1.54924438e-01 -3.20844062e-05             nan  2.12796152e-01\n",
      "  1.88809253e-01  1.45349902e-01  1.26464780e-01  1.95400507e-01\n",
      "             nan  1.56845614e-01             nan  4.32037559e-03\n",
      "             nan -3.20844062e-05             nan  1.47729212e-01\n",
      "  2.11994066e-01  2.21913924e-01  3.40822046e-03  8.30993301e-02\n",
      "             nan             nan  2.98916249e-04  2.41070350e-01\n",
      "  8.87674231e-02             nan  2.00594293e-01 -7.50812980e-05\n",
      "  2.10982097e-01 -3.20844062e-05 -3.20844062e-05  2.20394561e-01\n",
      "  8.90413371e-02  1.38279967e-01  2.00970808e-01  9.25980109e-02\n",
      "  1.35921793e-01  4.58612252e-02  4.59245314e-02  1.49274898e-01\n",
      "  2.19850698e-01  4.37265858e-02  1.49973327e-01  5.07483309e-02\n",
      " -3.20844062e-05  1.38364805e-01             nan -3.20844062e-05\n",
      "  1.92847774e-01  2.21913924e-01  8.90986882e-02  1.32213877e-03\n",
      "  1.40173144e-01             nan -7.50812980e-05  4.30157454e-02\n",
      "  2.76527499e-01  4.82155539e-02  2.21913924e-01  5.98068661e-03\n",
      "             nan             nan  1.64293463e-01  3.51092560e-03\n",
      "  4.07655097e-03  1.31244447e-01  3.46969235e-03             nan\n",
      "  6.33438943e-04  1.20354862e-01  2.19850698e-01 -3.20844062e-05\n",
      "             nan  1.65069087e-01             nan  5.27521260e-02]\n",
      "  warnings.warn(\n",
      "/home/guava/PycharmProjects/capstone_streamlit/venv/lib/python3.8/site-packages/sklearn/model_selection/_search.py:953: UserWarning: One or more of the train scores are non-finite: [ 6.73233249e-02  0.00000000e+00  1.32715519e-01  6.80397507e-02\n",
      "  4.88318371e-03  0.00000000e+00  3.09744962e-03  0.00000000e+00\n",
      "  5.44346185e-02  1.53431920e-01  9.42469293e-02  1.49339628e-01\n",
      "  1.81619004e-01  9.70738282e-02             nan  1.19391824e-01\n",
      "  2.51410367e-01  4.23888212e-02  0.00000000e+00  1.40565381e-01\n",
      "  5.29747410e-02  9.47917653e-02 -6.43898771e-05  6.05452081e-02\n",
      "  1.34064106e-01  1.49339628e-01  1.52252677e-01  0.00000000e+00\n",
      "             nan             nan  3.50622937e-02  0.00000000e+00\n",
      "  9.77444548e-02  1.46852454e-01             nan  1.54248790e-01\n",
      "  8.50196633e-02  6.65879571e-03             nan  0.00000000e+00\n",
      "  1.54125204e-01  0.00000000e+00  2.17611984e-01  0.00000000e+00\n",
      "  0.00000000e+00  1.69343124e-01  4.50198885e-02  1.56809790e-01\n",
      "  1.68069494e-01  1.34457448e-01  7.36904388e-03  1.15236182e-02\n",
      "  4.11881653e-03  6.65879571e-03  7.27383019e-02  1.60678779e-01\n",
      "             nan  0.00000000e+00  1.49339628e-01  1.81109414e-01\n",
      " -6.43898771e-05  1.39697722e-01             nan             nan\n",
      "  0.00000000e+00  1.40565381e-01  9.09672086e-02  0.00000000e+00\n",
      "  2.19960296e-01  2.52679179e-01  2.16876866e-01  0.00000000e+00\n",
      "  0.00000000e+00  1.36028017e-01  6.89491939e-03  8.13341105e-03\n",
      "  3.99496708e-03  1.36028017e-01  1.58890248e-04  0.00000000e+00\n",
      "  1.39110308e-01  6.85622225e-03  1.36028033e-01  1.46253785e-01\n",
      "  1.36028017e-01  5.26256268e-02  1.55676410e-02  1.99052296e-01\n",
      "             nan  1.34457448e-01  9.83677472e-02             nan\n",
      "             nan  1.01971944e-01  1.26925649e-01             nan\n",
      "  1.95686490e-01  1.98651608e-01  1.36496388e-01  1.54248790e-01\n",
      "             nan             nan             nan             nan\n",
      "  1.45715468e-01  2.19960296e-01             nan  7.38664508e-02\n",
      "             nan  2.81391117e-03  0.00000000e+00  5.59758512e-02\n",
      "  4.92079117e-02  2.07649101e-01  2.19960296e-01  5.21170327e-02\n",
      "  1.56895988e-01  1.76195041e-01  9.84965421e-02  2.45908484e-04\n",
      "             nan  1.46253785e-01  1.81281981e-01  1.40926659e-01\n",
      "  2.56873213e-01  1.56895988e-01  1.56809790e-01  0.00000000e+00\n",
      "             nan  9.09371207e-02  8.83387681e-02  1.56809790e-01\n",
      "  1.74803054e-01  9.81780612e-02  1.36028017e-01  4.63329018e-02\n",
      "  2.19960296e-01  2.23460582e-03  1.39767802e-01  4.99831309e-02\n",
      "  1.60994163e-01  7.45496328e-03  9.09672086e-02  4.23888212e-02\n",
      "  0.00000000e+00  2.32520409e-01  3.92907508e-03             nan\n",
      "  1.36028017e-01             nan  1.74330571e-01  0.00000000e+00\n",
      "  2.27823677e-01  1.43021148e-01  2.49063137e-02  1.55137970e-01\n",
      "             nan  2.82350671e-01  1.81422784e-01  8.89474246e-02\n",
      "             nan  0.00000000e+00  1.00290024e-01  1.57364680e-01\n",
      "             nan             nan  6.65879571e-03             nan\n",
      "  1.52105707e-01  1.23849455e-04             nan             nan\n",
      "             nan  9.97414550e-02  8.13341105e-03 -6.43898771e-05\n",
      "  5.16250854e-02  0.00000000e+00  1.36028017e-01  9.84279014e-02\n",
      "  1.44802264e-01 -6.43898771e-05  1.98467771e-01  1.42961413e-01\n",
      "             nan -6.43898771e-05  0.00000000e+00  8.45572639e-02\n",
      "  1.94245165e-01  6.65879571e-03  0.00000000e+00             nan\n",
      "  2.27823677e-01  1.67686839e-01  9.91231488e-02             nan\n",
      "  9.09672086e-02             nan  1.55512198e-01  4.60417138e-02\n",
      "  1.26768176e-01  1.56895988e-01  1.40108124e-01  1.38039241e-01\n",
      "             nan  1.23404455e-01  1.38514953e-01  1.55162648e-03\n",
      "             nan  8.13341105e-03  3.14285291e-03  5.54659356e-03\n",
      "  8.49767748e-02             nan             nan  9.34767462e-02\n",
      "  4.79464600e-02  5.54659356e-03  0.00000000e+00  1.36503528e-01\n",
      "  6.65879571e-03  1.34286088e-01  2.81391117e-03  1.49339628e-01\n",
      "  1.54534401e-01  0.00000000e+00             nan  2.13529009e-01\n",
      "  1.87744930e-01  1.44645488e-01  1.28137676e-01  1.96785677e-01\n",
      "             nan  1.56895988e-01             nan  3.27401529e-03\n",
      "             nan  0.00000000e+00             nan  1.46975492e-01\n",
      "  2.12019110e-01  2.21981918e-01  4.75933425e-03  8.80907261e-02\n",
      "             nan             nan  2.95120825e-04  2.42849629e-01\n",
      "  9.07463276e-02             nan  2.01495541e-01 -6.43898771e-05\n",
      "  2.10267483e-01  0.00000000e+00  0.00000000e+00  2.21724208e-01\n",
      "  9.06386321e-02  1.37247281e-01  2.01727547e-01  9.51552318e-02\n",
      "  1.36028017e-01  4.50608085e-02  4.50198885e-02  1.49339628e-01\n",
      "  2.19960296e-01  4.21040529e-02  1.52031958e-01  5.03407833e-02\n",
      "  0.00000000e+00  1.37043565e-01             nan  0.00000000e+00\n",
      "  1.92927577e-01  2.21981918e-01  9.16207516e-02  1.12236557e-03\n",
      "  1.40565381e-01             nan -6.43898771e-05  4.23373155e-02\n",
      "  2.82350671e-01  4.67356546e-02  2.21981918e-01  6.91278203e-03\n",
      "             nan             nan  1.64138101e-01  4.88318371e-03\n",
      "  5.54659356e-03  1.28223132e-01  4.86814578e-03             nan\n",
      "  5.87659519e-04  1.17217619e-01  2.19960296e-01  0.00000000e+00\n",
      "             nan  1.61801531e-01             nan  5.07963877e-02]\n",
      "  warnings.warn(\n"
     ]
    }
   ],
   "source": [
    "\n",
    "from sklearn.pipeline import Pipeline\n",
    "\n",
    "# Best Score:  0.30582573121661794\n",
    "# Best Score:  {'alpha': 10, 'fit_intercept': True, 'max_iter': 1000, 'positive': False, 'selection': 'cyclic', 'tol': 0.001, 'warm_start': True}\n",
    "# Best Score:  Lasso(alpha=10, tol=0.001, warm_start=True)\n",
    "# Best Score:  138\n",
    "\n",
    "{'ccp_alpha': 0.0,\n",
    " 'criterion': 'squared_error',\n",
    " 'max_depth': None,\n",
    " 'max_features': None,\n",
    " 'max_leaf_nodes': None,\n",
    " 'min_impurity_decrease': 0.0,\n",
    " 'min_samples_leaf': 1,\n",
    " 'min_samples_split': 2,\n",
    " 'min_weight_fraction_leaf': 0.0,\n",
    " 'random_state': None,\n",
    " 'splitter': 'best'}\n",
    "\n",
    "# find optimal alpha with grid search\n",
    "ccp_alpha = [0, 0.001, 0.01, 0.1, 1, 10, 100, 1000]\n",
    "criterion = ['squared_error', 'friedman_mse', 'absolute_error', 'poisson']\n",
    "max_depth = [None, 1, 2, 3, 5, 10, 20]\n",
    "max_features = [1, 2, 3, 5, 10, 20, len(columns)]\n",
    "max_leaf_nodes = [2, 3, 5, 10, 20]\n",
    "min_impurity_decrease = [None, 0, 1, 2, 3, 5]\n",
    "min_samples_leaf = [1, 2, 3, 5]\n",
    "min_samples_split = [2, 3, 5, 10]\n",
    "min_weight_fraction_leaf = [0.1, 0.2, 0.3, 0.5]\n",
    "splitter = ['best', 'random']\n",
    "\n",
    "max_iter = [100, 1000, 10000]\n",
    "\n",
    "options__n_neighbours = [3, 5, 7, 9, 15, 31]\n",
    "options__leafsize = [2, 3, 4, 57, 9, 13, 21]\n",
    "\n",
    "param_grid = dict(model__ccp_alpha=ccp_alpha, model__criterion=criterion, model__max_depth=max_depth,\n",
    "                  model__max_features=max_features, model__max_leaf_nodes=max_leaf_nodes, model__min_impurity_decrease=min_impurity_decrease,\n",
    "                  model__min_samples_leaf=min_samples_leaf, model__min_samples_split=min_samples_split, model__min_weight_fraction_leaf=min_weight_fraction_leaf,\n",
    "                  model__splitter=splitter\n",
    "                  )\n",
    "\n",
    "cv = 3\n",
    "n_jobs = 1\n",
    "verbose = 1\n",
    "refit = True\n",
    "\n",
    "#grid = RandomizedSearchCV(estimator=model, param_grid=param_grid, scoring='r2', verbose=1, n_jobs=-1)\n",
    "\n",
    "gs = RandomizedSearchCV(pipe, param_grid, cv=cv, n_jobs=n_jobs,\n",
    "                        verbose=verbose, scoring=CROSS_VALIDATION_SCORING, refit=refit,\n",
    "                        return_train_score=True, n_iter=300),\n",
    "gs\n",
    "\n",
    "grid_result = gs[0].fit(X_train, y_train)\n"
   ],
   "metadata": {
    "collapsed": false
   }
  },
  {
   "cell_type": "code",
   "execution_count": 97,
   "outputs": [
    {
     "name": "stdout",
     "output_type": "stream",
     "text": [
      "[0.06770491600036621]\n",
      "0.06770491600036621\n"
     ]
    }
   ],
   "source": [
    "pipe = grid_result.best_estimator_\n",
    "timings = []\n",
    "\n",
    "t0 = time()\n",
    "pipe.fit(X_train, y_train)\n",
    "timings.append(time() - t0)\n",
    "\n",
    "print(timings)\n",
    "average_time = sum(timings) / len(timings)\n",
    "print(average_time)"
   ],
   "metadata": {
    "collapsed": false
   }
  },
  {
   "cell_type": "code",
   "execution_count": 98,
   "outputs": [
    {
     "name": "stdout",
     "output_type": "stream",
     "text": [
      "BEST PARAMS: {'model__splitter': 'best', 'model__min_weight_fraction_leaf': 0.1, 'model__min_samples_split': 3, 'model__min_samples_leaf': 5, 'model__min_impurity_decrease': 5, 'model__max_leaf_nodes': 10, 'model__max_features': 20, 'model__max_depth': 20, 'model__criterion': 'squared_error', 'model__ccp_alpha': 100}\n",
      "0.07 (+/-0.107) for {'model__splitter': 'random', 'model__min_weight_fraction_leaf': 0.2, 'model__min_samples_split': 3, 'model__min_samples_leaf': 2, 'model__min_impurity_decrease': 1, 'model__max_leaf_nodes': 3, 'model__max_features': 2, 'model__max_depth': None, 'model__criterion': 'absolute_error', 'model__ccp_alpha': 100}\n",
      "-0.0 (+/-0.0) for {'model__splitter': 'random', 'model__min_weight_fraction_leaf': 0.5, 'model__min_samples_split': 2, 'model__min_samples_leaf': 5, 'model__min_impurity_decrease': 3, 'model__max_leaf_nodes': 5, 'model__max_features': 3, 'model__max_depth': 20, 'model__criterion': 'poisson', 'model__ccp_alpha': 1000}\n",
      "0.132 (+/-0.01) for {'model__splitter': 'random', 'model__min_weight_fraction_leaf': 0.2, 'model__min_samples_split': 5, 'model__min_samples_leaf': 5, 'model__min_impurity_decrease': 2, 'model__max_leaf_nodes': 2, 'model__max_features': 5, 'model__max_depth': 5, 'model__criterion': 'poisson', 'model__ccp_alpha': 0.1}\n",
      "0.065 (+/-0.103) for {'model__splitter': 'random', 'model__min_weight_fraction_leaf': 0.1, 'model__min_samples_split': 2, 'model__min_samples_leaf': 1, 'model__min_impurity_decrease': 3, 'model__max_leaf_nodes': 3, 'model__max_features': 3, 'model__max_depth': 1, 'model__criterion': 'friedman_mse', 'model__ccp_alpha': 0.001}\n",
      "0.004 (+/-0.006) for {'model__splitter': 'best', 'model__min_weight_fraction_leaf': 0.5, 'model__min_samples_split': 10, 'model__min_samples_leaf': 5, 'model__min_impurity_decrease': 0, 'model__max_leaf_nodes': 5, 'model__max_features': 5, 'model__max_depth': 2, 'model__criterion': 'squared_error', 'model__ccp_alpha': 100}\n",
      "-0.0 (+/-0.0) for {'model__splitter': 'random', 'model__min_weight_fraction_leaf': 0.5, 'model__min_samples_split': 3, 'model__min_samples_leaf': 2, 'model__min_impurity_decrease': 1, 'model__max_leaf_nodes': 5, 'model__max_features': 7, 'model__max_depth': None, 'model__criterion': 'squared_error', 'model__ccp_alpha': 0.001}\n",
      "0.002 (+/-0.007) for {'model__splitter': 'random', 'model__min_weight_fraction_leaf': 0.3, 'model__min_samples_split': 3, 'model__min_samples_leaf': 5, 'model__min_impurity_decrease': 2, 'model__max_leaf_nodes': 10, 'model__max_features': 1, 'model__max_depth': None, 'model__criterion': 'friedman_mse', 'model__ccp_alpha': 100}\n",
      "-0.0 (+/-0.0) for {'model__splitter': 'random', 'model__min_weight_fraction_leaf': 0.5, 'model__min_samples_split': 2, 'model__min_samples_leaf': 5, 'model__min_impurity_decrease': 5, 'model__max_leaf_nodes': 2, 'model__max_features': 5, 'model__max_depth': None, 'model__criterion': 'poisson', 'model__ccp_alpha': 1000}\n",
      "0.057 (+/-0.144) for {'model__splitter': 'best', 'model__min_weight_fraction_leaf': 0.2, 'model__min_samples_split': 5, 'model__min_samples_leaf': 2, 'model__min_impurity_decrease': 3, 'model__max_leaf_nodes': 5, 'model__max_features': 1, 'model__max_depth': 2, 'model__criterion': 'absolute_error', 'model__ccp_alpha': 0.01}\n",
      "0.153 (+/-0.05) for {'model__splitter': 'random', 'model__min_weight_fraction_leaf': 0.2, 'model__min_samples_split': 2, 'model__min_samples_leaf': 3, 'model__min_impurity_decrease': 2, 'model__max_leaf_nodes': 20, 'model__max_features': 7, 'model__max_depth': 2, 'model__criterion': 'squared_error', 'model__ccp_alpha': 0}\n",
      "0.093 (+/-0.119) for {'model__splitter': 'random', 'model__min_weight_fraction_leaf': 0.3, 'model__min_samples_split': 10, 'model__min_samples_leaf': 2, 'model__min_impurity_decrease': 1, 'model__max_leaf_nodes': 3, 'model__max_features': 1, 'model__max_depth': 1, 'model__criterion': 'friedman_mse', 'model__ccp_alpha': 0}\n",
      "0.149 (+/-0.008) for {'model__splitter': 'best', 'model__min_weight_fraction_leaf': 0.1, 'model__min_samples_split': 10, 'model__min_samples_leaf': 3, 'model__min_impurity_decrease': 1, 'model__max_leaf_nodes': 10, 'model__max_features': 5, 'model__max_depth': 1, 'model__criterion': 'poisson', 'model__ccp_alpha': 1000}\n",
      "0.182 (+/-0.072) for {'model__splitter': 'random', 'model__min_weight_fraction_leaf': 0.2, 'model__min_samples_split': 2, 'model__min_samples_leaf': 5, 'model__min_impurity_decrease': 5, 'model__max_leaf_nodes': 20, 'model__max_features': 20, 'model__max_depth': 5, 'model__criterion': 'friedman_mse', 'model__ccp_alpha': 0.01}\n",
      "0.099 (+/-0.141) for {'model__splitter': 'random', 'model__min_weight_fraction_leaf': 0.2, 'model__min_samples_split': 3, 'model__min_samples_leaf': 2, 'model__min_impurity_decrease': 5, 'model__max_leaf_nodes': 10, 'model__max_features': 3, 'model__max_depth': 1, 'model__criterion': 'poisson', 'model__ccp_alpha': 1000}\n",
      "nan (+/-nan) for {'model__splitter': 'random', 'model__min_weight_fraction_leaf': 0.1, 'model__min_samples_split': 3, 'model__min_samples_leaf': 2, 'model__min_impurity_decrease': None, 'model__max_leaf_nodes': 3, 'model__max_features': 3, 'model__max_depth': 3, 'model__criterion': 'friedman_mse', 'model__ccp_alpha': 10}\n",
      "0.119 (+/-0.185) for {'model__splitter': 'random', 'model__min_weight_fraction_leaf': 0.2, 'model__min_samples_split': 2, 'model__min_samples_leaf': 3, 'model__min_impurity_decrease': 0, 'model__max_leaf_nodes': 3, 'model__max_features': 5, 'model__max_depth': 5, 'model__criterion': 'squared_error', 'model__ccp_alpha': 1}\n",
      "0.251 (+/-0.006) for {'model__splitter': 'best', 'model__min_weight_fraction_leaf': 0.1, 'model__min_samples_split': 5, 'model__min_samples_leaf': 5, 'model__min_impurity_decrease': 5, 'model__max_leaf_nodes': 5, 'model__max_features': 10, 'model__max_depth': 3, 'model__criterion': 'absolute_error', 'model__ccp_alpha': 0.001}\n",
      "0.043 (+/-0.122) for {'model__splitter': 'random', 'model__min_weight_fraction_leaf': 0.3, 'model__min_samples_split': 5, 'model__min_samples_leaf': 1, 'model__min_impurity_decrease': 0, 'model__max_leaf_nodes': 10, 'model__max_features': 1, 'model__max_depth': 1, 'model__criterion': 'absolute_error', 'model__ccp_alpha': 0.01}\n",
      "-0.0 (+/-0.0) for {'model__splitter': 'random', 'model__min_weight_fraction_leaf': 0.5, 'model__min_samples_split': 10, 'model__min_samples_leaf': 1, 'model__min_impurity_decrease': 3, 'model__max_leaf_nodes': 3, 'model__max_features': 1, 'model__max_depth': 3, 'model__criterion': 'poisson', 'model__ccp_alpha': 0}\n",
      "0.14 (+/-0.015) for {'model__splitter': 'random', 'model__min_weight_fraction_leaf': 0.2, 'model__min_samples_split': 3, 'model__min_samples_leaf': 1, 'model__min_impurity_decrease': 5, 'model__max_leaf_nodes': 5, 'model__max_features': 5, 'model__max_depth': 1, 'model__criterion': 'friedman_mse', 'model__ccp_alpha': 1}\n",
      "0.055 (+/-0.139) for {'model__splitter': 'best', 'model__min_weight_fraction_leaf': 0.2, 'model__min_samples_split': 2, 'model__min_samples_leaf': 3, 'model__min_impurity_decrease': 5, 'model__max_leaf_nodes': 10, 'model__max_features': 1, 'model__max_depth': 1, 'model__criterion': 'poisson', 'model__ccp_alpha': 0.001}\n",
      "0.093 (+/-0.119) for {'model__splitter': 'best', 'model__min_weight_fraction_leaf': 0.3, 'model__min_samples_split': 2, 'model__min_samples_leaf': 2, 'model__min_impurity_decrease': 2, 'model__max_leaf_nodes': 2, 'model__max_features': 3, 'model__max_depth': 3, 'model__criterion': 'squared_error', 'model__ccp_alpha': 1000}\n",
      "-0.0 (+/-0.0) for {'model__splitter': 'random', 'model__min_weight_fraction_leaf': 0.5, 'model__min_samples_split': 2, 'model__min_samples_leaf': 2, 'model__min_impurity_decrease': 3, 'model__max_leaf_nodes': 3, 'model__max_features': 7, 'model__max_depth': 2, 'model__criterion': 'absolute_error', 'model__ccp_alpha': 0}\n",
      "0.061 (+/-0.14) for {'model__splitter': 'best', 'model__min_weight_fraction_leaf': 0.1, 'model__min_samples_split': 5, 'model__min_samples_leaf': 5, 'model__min_impurity_decrease': 5, 'model__max_leaf_nodes': 10, 'model__max_features': 1, 'model__max_depth': 2, 'model__criterion': 'absolute_error', 'model__ccp_alpha': 0}\n",
      "0.135 (+/-0.005) for {'model__splitter': 'random', 'model__min_weight_fraction_leaf': 0.2, 'model__min_samples_split': 2, 'model__min_samples_leaf': 5, 'model__min_impurity_decrease': 5, 'model__max_leaf_nodes': 5, 'model__max_features': 7, 'model__max_depth': 1, 'model__criterion': 'poisson', 'model__ccp_alpha': 0.01}\n",
      "0.149 (+/-0.008) for {'model__splitter': 'best', 'model__min_weight_fraction_leaf': 0.3, 'model__min_samples_split': 10, 'model__min_samples_leaf': 1, 'model__min_impurity_decrease': 3, 'model__max_leaf_nodes': 2, 'model__max_features': 20, 'model__max_depth': 10, 'model__criterion': 'poisson', 'model__ccp_alpha': 0.1}\n",
      "0.153 (+/-0.046) for {'model__splitter': 'random', 'model__min_weight_fraction_leaf': 0.1, 'model__min_samples_split': 2, 'model__min_samples_leaf': 5, 'model__min_impurity_decrease': 3, 'model__max_leaf_nodes': 20, 'model__max_features': 5, 'model__max_depth': None, 'model__criterion': 'absolute_error', 'model__ccp_alpha': 0.1}\n",
      "-0.0 (+/-0.0) for {'model__splitter': 'random', 'model__min_weight_fraction_leaf': 0.5, 'model__min_samples_split': 10, 'model__min_samples_leaf': 3, 'model__min_impurity_decrease': 0, 'model__max_leaf_nodes': 2, 'model__max_features': 2, 'model__max_depth': 20, 'model__criterion': 'poisson', 'model__ccp_alpha': 10}\n",
      "nan (+/-nan) for {'model__splitter': 'best', 'model__min_weight_fraction_leaf': 0.3, 'model__min_samples_split': 3, 'model__min_samples_leaf': 5, 'model__min_impurity_decrease': None, 'model__max_leaf_nodes': 3, 'model__max_features': 5, 'model__max_depth': None, 'model__criterion': 'friedman_mse', 'model__ccp_alpha': 0.1}\n",
      "nan (+/-nan) for {'model__splitter': 'best', 'model__min_weight_fraction_leaf': 0.3, 'model__min_samples_split': 3, 'model__min_samples_leaf': 5, 'model__min_impurity_decrease': None, 'model__max_leaf_nodes': 2, 'model__max_features': 20, 'model__max_depth': 10, 'model__criterion': 'friedman_mse', 'model__ccp_alpha': 1}\n",
      "0.036 (+/-0.102) for {'model__splitter': 'best', 'model__min_weight_fraction_leaf': 0.2, 'model__min_samples_split': 5, 'model__min_samples_leaf': 3, 'model__min_impurity_decrease': 1, 'model__max_leaf_nodes': 10, 'model__max_features': 1, 'model__max_depth': 3, 'model__criterion': 'friedman_mse', 'model__ccp_alpha': 100}\n",
      "-0.0 (+/-0.0) for {'model__splitter': 'random', 'model__min_weight_fraction_leaf': 0.5, 'model__min_samples_split': 10, 'model__min_samples_leaf': 5, 'model__min_impurity_decrease': 0, 'model__max_leaf_nodes': 10, 'model__max_features': 1, 'model__max_depth': 10, 'model__criterion': 'friedman_mse', 'model__ccp_alpha': 0.001}\n",
      "0.1 (+/-0.125) for {'model__splitter': 'best', 'model__min_weight_fraction_leaf': 0.3, 'model__min_samples_split': 3, 'model__min_samples_leaf': 2, 'model__min_impurity_decrease': 5, 'model__max_leaf_nodes': 2, 'model__max_features': 2, 'model__max_depth': 1, 'model__criterion': 'squared_error', 'model__ccp_alpha': 100}\n",
      "0.148 (+/-0.015) for {'model__splitter': 'random', 'model__min_weight_fraction_leaf': 0.1, 'model__min_samples_split': 10, 'model__min_samples_leaf': 1, 'model__min_impurity_decrease': 2, 'model__max_leaf_nodes': 5, 'model__max_features': 10, 'model__max_depth': 1, 'model__criterion': 'squared_error', 'model__ccp_alpha': 1}\n",
      "nan (+/-nan) for {'model__splitter': 'random', 'model__min_weight_fraction_leaf': 0.1, 'model__min_samples_split': 3, 'model__min_samples_leaf': 2, 'model__min_impurity_decrease': None, 'model__max_leaf_nodes': 5, 'model__max_features': 7, 'model__max_depth': 10, 'model__criterion': 'friedman_mse', 'model__ccp_alpha': 0.1}\n",
      "0.156 (+/-0.087) for {'model__splitter': 'random', 'model__min_weight_fraction_leaf': 0.3, 'model__min_samples_split': 10, 'model__min_samples_leaf': 2, 'model__min_impurity_decrease': 1, 'model__max_leaf_nodes': 10, 'model__max_features': 20, 'model__max_depth': 20, 'model__criterion': 'absolute_error', 'model__ccp_alpha': 0.001}\n",
      "0.084 (+/-0.117) for {'model__splitter': 'random', 'model__min_weight_fraction_leaf': 0.2, 'model__min_samples_split': 2, 'model__min_samples_leaf': 2, 'model__min_impurity_decrease': 0, 'model__max_leaf_nodes': 20, 'model__max_features': 7, 'model__max_depth': None, 'model__criterion': 'absolute_error', 'model__ccp_alpha': 0.001}\n",
      "0.005 (+/-0.008) for {'model__splitter': 'best', 'model__min_weight_fraction_leaf': 0.5, 'model__min_samples_split': 3, 'model__min_samples_leaf': 3, 'model__min_impurity_decrease': 2, 'model__max_leaf_nodes': 2, 'model__max_features': 3, 'model__max_depth': 1, 'model__criterion': 'absolute_error', 'model__ccp_alpha': 0.01}\n",
      "nan (+/-nan) for {'model__splitter': 'best', 'model__min_weight_fraction_leaf': 0.5, 'model__min_samples_split': 10, 'model__min_samples_leaf': 5, 'model__min_impurity_decrease': None, 'model__max_leaf_nodes': 20, 'model__max_features': 2, 'model__max_depth': 20, 'model__criterion': 'squared_error', 'model__ccp_alpha': 0.001}\n",
      "-0.0 (+/-0.0) for {'model__splitter': 'random', 'model__min_weight_fraction_leaf': 0.3, 'model__min_samples_split': 3, 'model__min_samples_leaf': 3, 'model__min_impurity_decrease': 3, 'model__max_leaf_nodes': 3, 'model__max_features': 3, 'model__max_depth': 10, 'model__criterion': 'friedman_mse', 'model__ccp_alpha': 1000}\n",
      "0.154 (+/-0.008) for {'model__splitter': 'best', 'model__min_weight_fraction_leaf': 0.3, 'model__min_samples_split': 5, 'model__min_samples_leaf': 1, 'model__min_impurity_decrease': 2, 'model__max_leaf_nodes': 5, 'model__max_features': 7, 'model__max_depth': 3, 'model__criterion': 'squared_error', 'model__ccp_alpha': 0.01}\n",
      "-0.0 (+/-0.0) for {'model__splitter': 'random', 'model__min_weight_fraction_leaf': 0.5, 'model__min_samples_split': 3, 'model__min_samples_leaf': 5, 'model__min_impurity_decrease': 5, 'model__max_leaf_nodes': 20, 'model__max_features': 7, 'model__max_depth': 20, 'model__criterion': 'squared_error', 'model__ccp_alpha': 0.001}\n",
      "0.218 (+/-0.046) for {'model__splitter': 'best', 'model__min_weight_fraction_leaf': 0.1, 'model__min_samples_split': 10, 'model__min_samples_leaf': 3, 'model__min_impurity_decrease': 3, 'model__max_leaf_nodes': 5, 'model__max_features': 3, 'model__max_depth': 3, 'model__criterion': 'squared_error', 'model__ccp_alpha': 0}\n",
      "-0.0 (+/-0.0) for {'model__splitter': 'random', 'model__min_weight_fraction_leaf': 0.5, 'model__min_samples_split': 2, 'model__min_samples_leaf': 1, 'model__min_impurity_decrease': 5, 'model__max_leaf_nodes': 3, 'model__max_features': 7, 'model__max_depth': None, 'model__criterion': 'friedman_mse', 'model__ccp_alpha': 1}\n",
      "-0.0 (+/-0.0) for {'model__splitter': 'random', 'model__min_weight_fraction_leaf': 0.5, 'model__min_samples_split': 5, 'model__min_samples_leaf': 1, 'model__min_impurity_decrease': 1, 'model__max_leaf_nodes': 10, 'model__max_features': 20, 'model__max_depth': 20, 'model__criterion': 'squared_error', 'model__ccp_alpha': 0.001}\n",
      "0.165 (+/-0.084) for {'model__splitter': 'best', 'model__min_weight_fraction_leaf': 0.1, 'model__min_samples_split': 5, 'model__min_samples_leaf': 1, 'model__min_impurity_decrease': 0, 'model__max_leaf_nodes': 10, 'model__max_features': 2, 'model__max_depth': None, 'model__criterion': 'absolute_error', 'model__ccp_alpha': 100}\n",
      "0.046 (+/-0.13) for {'model__splitter': 'random', 'model__min_weight_fraction_leaf': 0.2, 'model__min_samples_split': 10, 'model__min_samples_leaf': 1, 'model__min_impurity_decrease': 5, 'model__max_leaf_nodes': 5, 'model__max_features': 3, 'model__max_depth': 1, 'model__criterion': 'poisson', 'model__ccp_alpha': 100}\n",
      "0.157 (+/-0.003) for {'model__splitter': 'best', 'model__min_weight_fraction_leaf': 0.2, 'model__min_samples_split': 2, 'model__min_samples_leaf': 1, 'model__min_impurity_decrease': 2, 'model__max_leaf_nodes': 5, 'model__max_features': 7, 'model__max_depth': 1, 'model__criterion': 'absolute_error', 'model__ccp_alpha': 0.01}\n",
      "0.166 (+/-0.134) for {'model__splitter': 'best', 'model__min_weight_fraction_leaf': 0.1, 'model__min_samples_split': 10, 'model__min_samples_leaf': 2, 'model__min_impurity_decrease': 1, 'model__max_leaf_nodes': 10, 'model__max_features': 1, 'model__max_depth': 5, 'model__criterion': 'squared_error', 'model__ccp_alpha': 1000}\n",
      "0.134 (+/-0.011) for {'model__splitter': 'random', 'model__min_weight_fraction_leaf': 0.2, 'model__min_samples_split': 3, 'model__min_samples_leaf': 1, 'model__min_impurity_decrease': 5, 'model__max_leaf_nodes': 20, 'model__max_features': 3, 'model__max_depth': 1, 'model__criterion': 'friedman_mse', 'model__ccp_alpha': 0.001}\n",
      "0.006 (+/-0.009) for {'model__splitter': 'best', 'model__min_weight_fraction_leaf': 0.5, 'model__min_samples_split': 5, 'model__min_samples_leaf': 1, 'model__min_impurity_decrease': 2, 'model__max_leaf_nodes': 10, 'model__max_features': 7, 'model__max_depth': 10, 'model__criterion': 'poisson', 'model__ccp_alpha': 100}\n",
      "0.011 (+/-0.004) for {'model__splitter': 'best', 'model__min_weight_fraction_leaf': 0.3, 'model__min_samples_split': 10, 'model__min_samples_leaf': 2, 'model__min_impurity_decrease': 3, 'model__max_leaf_nodes': 10, 'model__max_features': 3, 'model__max_depth': 2, 'model__criterion': 'friedman_mse', 'model__ccp_alpha': 10}\n",
      "0.003 (+/-0.007) for {'model__splitter': 'best', 'model__min_weight_fraction_leaf': 0.5, 'model__min_samples_split': 3, 'model__min_samples_leaf': 3, 'model__min_impurity_decrease': 1, 'model__max_leaf_nodes': 3, 'model__max_features': 2, 'model__max_depth': 5, 'model__criterion': 'friedman_mse', 'model__ccp_alpha': 0.01}\n",
      "0.005 (+/-0.008) for {'model__splitter': 'best', 'model__min_weight_fraction_leaf': 0.5, 'model__min_samples_split': 5, 'model__min_samples_leaf': 2, 'model__min_impurity_decrease': 5, 'model__max_leaf_nodes': 20, 'model__max_features': 5, 'model__max_depth': 10, 'model__criterion': 'absolute_error', 'model__ccp_alpha': 10}\n",
      "0.074 (+/-0.211) for {'model__splitter': 'best', 'model__min_weight_fraction_leaf': 0.3, 'model__min_samples_split': 5, 'model__min_samples_leaf': 2, 'model__min_impurity_decrease': 5, 'model__max_leaf_nodes': 3, 'model__max_features': 1, 'model__max_depth': 3, 'model__criterion': 'squared_error', 'model__ccp_alpha': 0}\n",
      "0.158 (+/-0.041) for {'model__splitter': 'best', 'model__min_weight_fraction_leaf': 0.2, 'model__min_samples_split': 3, 'model__min_samples_leaf': 5, 'model__min_impurity_decrease': 1, 'model__max_leaf_nodes': 20, 'model__max_features': 3, 'model__max_depth': 3, 'model__criterion': 'absolute_error', 'model__ccp_alpha': 10}\n",
      "nan (+/-nan) for {'model__splitter': 'random', 'model__min_weight_fraction_leaf': 0.3, 'model__min_samples_split': 10, 'model__min_samples_leaf': 3, 'model__min_impurity_decrease': None, 'model__max_leaf_nodes': 2, 'model__max_features': 5, 'model__max_depth': 1, 'model__criterion': 'friedman_mse', 'model__ccp_alpha': 0}\n",
      "-0.0 (+/-0.0) for {'model__splitter': 'random', 'model__min_weight_fraction_leaf': 0.5, 'model__min_samples_split': 2, 'model__min_samples_leaf': 2, 'model__min_impurity_decrease': 0, 'model__max_leaf_nodes': 20, 'model__max_features': 3, 'model__max_depth': 20, 'model__criterion': 'squared_error', 'model__ccp_alpha': 1000}\n",
      "0.149 (+/-0.008) for {'model__splitter': 'best', 'model__min_weight_fraction_leaf': 0.3, 'model__min_samples_split': 2, 'model__min_samples_leaf': 2, 'model__min_impurity_decrease': 1, 'model__max_leaf_nodes': 2, 'model__max_features': 10, 'model__max_depth': 1, 'model__criterion': 'friedman_mse', 'model__ccp_alpha': 1}\n",
      "0.181 (+/-0.075) for {'model__splitter': 'random', 'model__min_weight_fraction_leaf': 0.2, 'model__min_samples_split': 10, 'model__min_samples_leaf': 1, 'model__min_impurity_decrease': 0, 'model__max_leaf_nodes': 3, 'model__max_features': 7, 'model__max_depth': 10, 'model__criterion': 'squared_error', 'model__ccp_alpha': 10}\n",
      "-0.0 (+/-0.0) for {'model__splitter': 'random', 'model__min_weight_fraction_leaf': 0.5, 'model__min_samples_split': 10, 'model__min_samples_leaf': 1, 'model__min_impurity_decrease': 3, 'model__max_leaf_nodes': 5, 'model__max_features': 5, 'model__max_depth': None, 'model__criterion': 'absolute_error', 'model__ccp_alpha': 0}\n",
      "0.14 (+/-0.19) for {'model__splitter': 'best', 'model__min_weight_fraction_leaf': 0.1, 'model__min_samples_split': 10, 'model__min_samples_leaf': 2, 'model__min_impurity_decrease': 2, 'model__max_leaf_nodes': 10, 'model__max_features': 1, 'model__max_depth': 20, 'model__criterion': 'friedman_mse', 'model__ccp_alpha': 0.001}\n",
      "nan (+/-nan) for {'model__splitter': 'random', 'model__min_weight_fraction_leaf': 0.2, 'model__min_samples_split': 2, 'model__min_samples_leaf': 3, 'model__min_impurity_decrease': None, 'model__max_leaf_nodes': 3, 'model__max_features': 5, 'model__max_depth': 10, 'model__criterion': 'absolute_error', 'model__ccp_alpha': 0.01}\n",
      "nan (+/-nan) for {'model__splitter': 'random', 'model__min_weight_fraction_leaf': 0.3, 'model__min_samples_split': 10, 'model__min_samples_leaf': 1, 'model__min_impurity_decrease': None, 'model__max_leaf_nodes': 2, 'model__max_features': 5, 'model__max_depth': None, 'model__criterion': 'poisson', 'model__ccp_alpha': 0.1}\n",
      "-0.0 (+/-0.0) for {'model__splitter': 'random', 'model__min_weight_fraction_leaf': 0.3, 'model__min_samples_split': 2, 'model__min_samples_leaf': 5, 'model__min_impurity_decrease': 0, 'model__max_leaf_nodes': 2, 'model__max_features': 3, 'model__max_depth': 1, 'model__criterion': 'poisson', 'model__ccp_alpha': 100}\n",
      "0.14 (+/-0.015) for {'model__splitter': 'random', 'model__min_weight_fraction_leaf': 0.1, 'model__min_samples_split': 10, 'model__min_samples_leaf': 2, 'model__min_impurity_decrease': 3, 'model__max_leaf_nodes': 5, 'model__max_features': 10, 'model__max_depth': 1, 'model__criterion': 'squared_error', 'model__ccp_alpha': 0.1}\n",
      "0.09 (+/-0.127) for {'model__splitter': 'random', 'model__min_weight_fraction_leaf': 0.1, 'model__min_samples_split': 10, 'model__min_samples_leaf': 5, 'model__min_impurity_decrease': 2, 'model__max_leaf_nodes': 20, 'model__max_features': 3, 'model__max_depth': 20, 'model__criterion': 'poisson', 'model__ccp_alpha': 1000}\n",
      "-0.0 (+/-0.0) for {'model__splitter': 'random', 'model__min_weight_fraction_leaf': 0.5, 'model__min_samples_split': 2, 'model__min_samples_leaf': 5, 'model__min_impurity_decrease': 5, 'model__max_leaf_nodes': 20, 'model__max_features': 20, 'model__max_depth': 1, 'model__criterion': 'friedman_mse', 'model__ccp_alpha': 0.01}\n",
      "0.22 (+/-0.011) for {'model__splitter': 'best', 'model__min_weight_fraction_leaf': 0.3, 'model__min_samples_split': 2, 'model__min_samples_leaf': 3, 'model__min_impurity_decrease': 3, 'model__max_leaf_nodes': 10, 'model__max_features': 10, 'model__max_depth': 10, 'model__criterion': 'squared_error', 'model__ccp_alpha': 100}\n",
      "0.252 (+/-0.029) for {'model__splitter': 'best', 'model__min_weight_fraction_leaf': 0.1, 'model__min_samples_split': 5, 'model__min_samples_leaf': 5, 'model__min_impurity_decrease': 3, 'model__max_leaf_nodes': 20, 'model__max_features': 5, 'model__max_depth': None, 'model__criterion': 'poisson', 'model__ccp_alpha': 0.001}\n",
      "0.215 (+/-0.035) for {'model__splitter': 'random', 'model__min_weight_fraction_leaf': 0.1, 'model__min_samples_split': 5, 'model__min_samples_leaf': 1, 'model__min_impurity_decrease': 1, 'model__max_leaf_nodes': 5, 'model__max_features': 10, 'model__max_depth': 20, 'model__criterion': 'squared_error', 'model__ccp_alpha': 0.01}\n",
      "-0.0 (+/-0.0) for {'model__splitter': 'random', 'model__min_weight_fraction_leaf': 0.5, 'model__min_samples_split': 3, 'model__min_samples_leaf': 3, 'model__min_impurity_decrease': 2, 'model__max_leaf_nodes': 10, 'model__max_features': 5, 'model__max_depth': 3, 'model__criterion': 'friedman_mse', 'model__ccp_alpha': 100}\n",
      "-0.0 (+/-0.0) for {'model__splitter': 'random', 'model__min_weight_fraction_leaf': 0.5, 'model__min_samples_split': 2, 'model__min_samples_leaf': 5, 'model__min_impurity_decrease': 1, 'model__max_leaf_nodes': 10, 'model__max_features': 7, 'model__max_depth': 1, 'model__criterion': 'poisson', 'model__ccp_alpha': 10}\n",
      "0.136 (+/-0.005) for {'model__splitter': 'random', 'model__min_weight_fraction_leaf': 0.3, 'model__min_samples_split': 5, 'model__min_samples_leaf': 1, 'model__min_impurity_decrease': 3, 'model__max_leaf_nodes': 3, 'model__max_features': 20, 'model__max_depth': None, 'model__criterion': 'squared_error', 'model__ccp_alpha': 1}\n",
      "0.006 (+/-0.007) for {'model__splitter': 'best', 'model__min_weight_fraction_leaf': 0.5, 'model__min_samples_split': 5, 'model__min_samples_leaf': 3, 'model__min_impurity_decrease': 1, 'model__max_leaf_nodes': 2, 'model__max_features': 7, 'model__max_depth': None, 'model__criterion': 'absolute_error', 'model__ccp_alpha': 0.001}\n",
      "0.007 (+/-0.007) for {'model__splitter': 'best', 'model__min_weight_fraction_leaf': 0.5, 'model__min_samples_split': 2, 'model__min_samples_leaf': 5, 'model__min_impurity_decrease': 5, 'model__max_leaf_nodes': 20, 'model__max_features': 20, 'model__max_depth': 20, 'model__criterion': 'friedman_mse', 'model__ccp_alpha': 1000}\n",
      "0.003 (+/-0.007) for {'model__splitter': 'best', 'model__min_weight_fraction_leaf': 0.5, 'model__min_samples_split': 3, 'model__min_samples_leaf': 5, 'model__min_impurity_decrease': 3, 'model__max_leaf_nodes': 2, 'model__max_features': 1, 'model__max_depth': 20, 'model__criterion': 'friedman_mse', 'model__ccp_alpha': 1}\n",
      "0.136 (+/-0.005) for {'model__splitter': 'random', 'model__min_weight_fraction_leaf': 0.1, 'model__min_samples_split': 10, 'model__min_samples_leaf': 3, 'model__min_impurity_decrease': 3, 'model__max_leaf_nodes': 5, 'model__max_features': 7, 'model__max_depth': 1, 'model__criterion': 'squared_error', 'model__ccp_alpha': 100}\n",
      "0.0 (+/-0.0) for {'model__splitter': 'best', 'model__min_weight_fraction_leaf': 0.5, 'model__min_samples_split': 2, 'model__min_samples_leaf': 1, 'model__min_impurity_decrease': 5, 'model__max_leaf_nodes': 3, 'model__max_features': 1, 'model__max_depth': 20, 'model__criterion': 'squared_error', 'model__ccp_alpha': 1}\n",
      "-0.0 (+/-0.0) for {'model__splitter': 'random', 'model__min_weight_fraction_leaf': 0.3, 'model__min_samples_split': 5, 'model__min_samples_leaf': 2, 'model__min_impurity_decrease': 0, 'model__max_leaf_nodes': 3, 'model__max_features': 2, 'model__max_depth': 2, 'model__criterion': 'friedman_mse', 'model__ccp_alpha': 0.1}\n",
      "0.142 (+/-0.184) for {'model__splitter': 'best', 'model__min_weight_fraction_leaf': 0.1, 'model__min_samples_split': 3, 'model__min_samples_leaf': 5, 'model__min_impurity_decrease': 3, 'model__max_leaf_nodes': 20, 'model__max_features': 1, 'model__max_depth': 20, 'model__criterion': 'poisson', 'model__ccp_alpha': 0}\n",
      "0.008 (+/-0.012) for {'model__splitter': 'best', 'model__min_weight_fraction_leaf': 0.2, 'model__min_samples_split': 5, 'model__min_samples_leaf': 1, 'model__min_impurity_decrease': 0, 'model__max_leaf_nodes': 2, 'model__max_features': 1, 'model__max_depth': None, 'model__criterion': 'squared_error', 'model__ccp_alpha': 0}\n",
      "0.136 (+/-0.005) for {'model__splitter': 'random', 'model__min_weight_fraction_leaf': 0.2, 'model__min_samples_split': 5, 'model__min_samples_leaf': 5, 'model__min_impurity_decrease': 2, 'model__max_leaf_nodes': 5, 'model__max_features': 7, 'model__max_depth': 10, 'model__criterion': 'squared_error', 'model__ccp_alpha': 0}\n",
      "0.146 (+/-0.008) for {'model__splitter': 'best', 'model__min_weight_fraction_leaf': 0.3, 'model__min_samples_split': 10, 'model__min_samples_leaf': 5, 'model__min_impurity_decrease': 3, 'model__max_leaf_nodes': 2, 'model__max_features': 20, 'model__max_depth': 2, 'model__criterion': 'absolute_error', 'model__ccp_alpha': 1000}\n",
      "0.136 (+/-0.005) for {'model__splitter': 'random', 'model__min_weight_fraction_leaf': 0.3, 'model__min_samples_split': 2, 'model__min_samples_leaf': 3, 'model__min_impurity_decrease': 1, 'model__max_leaf_nodes': 2, 'model__max_features': 20, 'model__max_depth': None, 'model__criterion': 'friedman_mse', 'model__ccp_alpha': 10}\n",
      "0.051 (+/-0.146) for {'model__splitter': 'random', 'model__min_weight_fraction_leaf': 0.2, 'model__min_samples_split': 10, 'model__min_samples_leaf': 2, 'model__min_impurity_decrease': 1, 'model__max_leaf_nodes': 3, 'model__max_features': 2, 'model__max_depth': 1, 'model__criterion': 'absolute_error', 'model__ccp_alpha': 10}\n",
      "0.015 (+/-0.02) for {'model__splitter': 'best', 'model__min_weight_fraction_leaf': 0.2, 'model__min_samples_split': 5, 'model__min_samples_leaf': 3, 'model__min_impurity_decrease': 2, 'model__max_leaf_nodes': 20, 'model__max_features': 1, 'model__max_depth': 20, 'model__criterion': 'squared_error', 'model__ccp_alpha': 0}\n",
      "0.198 (+/-0.066) for {'model__splitter': 'random', 'model__min_weight_fraction_leaf': 0.1, 'model__min_samples_split': 5, 'model__min_samples_leaf': 2, 'model__min_impurity_decrease': 3, 'model__max_leaf_nodes': 10, 'model__max_features': 7, 'model__max_depth': 3, 'model__criterion': 'poisson', 'model__ccp_alpha': 10}\n",
      "nan (+/-nan) for {'model__splitter': 'best', 'model__min_weight_fraction_leaf': 0.2, 'model__min_samples_split': 5, 'model__min_samples_leaf': 5, 'model__min_impurity_decrease': None, 'model__max_leaf_nodes': 20, 'model__max_features': 10, 'model__max_depth': None, 'model__criterion': 'squared_error', 'model__ccp_alpha': 1}\n",
      "0.134 (+/-0.011) for {'model__splitter': 'random', 'model__min_weight_fraction_leaf': 0.2, 'model__min_samples_split': 5, 'model__min_samples_leaf': 5, 'model__min_impurity_decrease': 3, 'model__max_leaf_nodes': 2, 'model__max_features': 7, 'model__max_depth': 20, 'model__criterion': 'friedman_mse', 'model__ccp_alpha': 0.1}\n",
      "0.1 (+/-0.136) for {'model__splitter': 'random', 'model__min_weight_fraction_leaf': 0.1, 'model__min_samples_split': 10, 'model__min_samples_leaf': 1, 'model__min_impurity_decrease': 2, 'model__max_leaf_nodes': 3, 'model__max_features': 2, 'model__max_depth': 1, 'model__criterion': 'squared_error', 'model__ccp_alpha': 0}\n",
      "nan (+/-nan) for {'model__splitter': 'random', 'model__min_weight_fraction_leaf': 0.1, 'model__min_samples_split': 5, 'model__min_samples_leaf': 5, 'model__min_impurity_decrease': None, 'model__max_leaf_nodes': 3, 'model__max_features': 2, 'model__max_depth': 20, 'model__criterion': 'absolute_error', 'model__ccp_alpha': 0}\n",
      "nan (+/-nan) for {'model__splitter': 'random', 'model__min_weight_fraction_leaf': 0.5, 'model__min_samples_split': 3, 'model__min_samples_leaf': 5, 'model__min_impurity_decrease': None, 'model__max_leaf_nodes': 10, 'model__max_features': 20, 'model__max_depth': 20, 'model__criterion': 'squared_error', 'model__ccp_alpha': 0}\n",
      "0.101 (+/-0.138) for {'model__splitter': 'random', 'model__min_weight_fraction_leaf': 0.1, 'model__min_samples_split': 3, 'model__min_samples_leaf': 1, 'model__min_impurity_decrease': 3, 'model__max_leaf_nodes': 5, 'model__max_features': 3, 'model__max_depth': 2, 'model__criterion': 'squared_error', 'model__ccp_alpha': 1000}\n",
      "0.13 (+/-0.18) for {'model__splitter': 'random', 'model__min_weight_fraction_leaf': 0.2, 'model__min_samples_split': 5, 'model__min_samples_leaf': 5, 'model__min_impurity_decrease': 1, 'model__max_leaf_nodes': 5, 'model__max_features': 5, 'model__max_depth': 2, 'model__criterion': 'poisson', 'model__ccp_alpha': 1}\n",
      "nan (+/-nan) for {'model__splitter': 'best', 'model__min_weight_fraction_leaf': 0.2, 'model__min_samples_split': 5, 'model__min_samples_leaf': 1, 'model__min_impurity_decrease': None, 'model__max_leaf_nodes': 5, 'model__max_features': 7, 'model__max_depth': None, 'model__criterion': 'absolute_error', 'model__ccp_alpha': 1000}\n",
      "0.198 (+/-0.074) for {'model__splitter': 'best', 'model__min_weight_fraction_leaf': 0.3, 'model__min_samples_split': 10, 'model__min_samples_leaf': 2, 'model__min_impurity_decrease': 5, 'model__max_leaf_nodes': 5, 'model__max_features': 5, 'model__max_depth': 20, 'model__criterion': 'squared_error', 'model__ccp_alpha': 0.1}\n",
      "0.197 (+/-0.056) for {'model__splitter': 'best', 'model__min_weight_fraction_leaf': 0.2, 'model__min_samples_split': 2, 'model__min_samples_leaf': 2, 'model__min_impurity_decrease': 3, 'model__max_leaf_nodes': 20, 'model__max_features': 3, 'model__max_depth': 10, 'model__criterion': 'absolute_error', 'model__ccp_alpha': 1000}\n",
      "0.136 (+/-0.032) for {'model__splitter': 'best', 'model__min_weight_fraction_leaf': 0.2, 'model__min_samples_split': 2, 'model__min_samples_leaf': 1, 'model__min_impurity_decrease': 0, 'model__max_leaf_nodes': 2, 'model__max_features': 7, 'model__max_depth': 1, 'model__criterion': 'absolute_error', 'model__ccp_alpha': 0.01}\n",
      "0.156 (+/-0.087) for {'model__splitter': 'random', 'model__min_weight_fraction_leaf': 0.3, 'model__min_samples_split': 3, 'model__min_samples_leaf': 2, 'model__min_impurity_decrease': 5, 'model__max_leaf_nodes': 10, 'model__max_features': 10, 'model__max_depth': 10, 'model__criterion': 'absolute_error', 'model__ccp_alpha': 10}\n",
      "nan (+/-nan) for {'model__splitter': 'best', 'model__min_weight_fraction_leaf': 0.3, 'model__min_samples_split': 2, 'model__min_samples_leaf': 5, 'model__min_impurity_decrease': None, 'model__max_leaf_nodes': 10, 'model__max_features': 3, 'model__max_depth': None, 'model__criterion': 'squared_error', 'model__ccp_alpha': 1}\n",
      "nan (+/-nan) for {'model__splitter': 'random', 'model__min_weight_fraction_leaf': 0.3, 'model__min_samples_split': 10, 'model__min_samples_leaf': 2, 'model__min_impurity_decrease': None, 'model__max_leaf_nodes': 2, 'model__max_features': 5, 'model__max_depth': 20, 'model__criterion': 'friedman_mse', 'model__ccp_alpha': 0.1}\n",
      "nan (+/-nan) for {'model__splitter': 'random', 'model__min_weight_fraction_leaf': 0.1, 'model__min_samples_split': 5, 'model__min_samples_leaf': 5, 'model__min_impurity_decrease': None, 'model__max_leaf_nodes': 5, 'model__max_features': 20, 'model__max_depth': 1, 'model__criterion': 'friedman_mse', 'model__ccp_alpha': 100}\n",
      "nan (+/-nan) for {'model__splitter': 'best', 'model__min_weight_fraction_leaf': 0.3, 'model__min_samples_split': 5, 'model__min_samples_leaf': 2, 'model__min_impurity_decrease': None, 'model__max_leaf_nodes': 10, 'model__max_features': 5, 'model__max_depth': 2, 'model__criterion': 'friedman_mse', 'model__ccp_alpha': 0.001}\n",
      "0.144 (+/-0.01) for {'model__splitter': 'best', 'model__min_weight_fraction_leaf': 0.3, 'model__min_samples_split': 3, 'model__min_samples_leaf': 3, 'model__min_impurity_decrease': 1, 'model__max_leaf_nodes': 5, 'model__max_features': 2, 'model__max_depth': 5, 'model__criterion': 'friedman_mse', 'model__ccp_alpha': 10}\n",
      "0.22 (+/-0.011) for {'model__splitter': 'best', 'model__min_weight_fraction_leaf': 0.3, 'model__min_samples_split': 5, 'model__min_samples_leaf': 3, 'model__min_impurity_decrease': 3, 'model__max_leaf_nodes': 3, 'model__max_features': 10, 'model__max_depth': 20, 'model__criterion': 'poisson', 'model__ccp_alpha': 1}\n",
      "nan (+/-nan) for {'model__splitter': 'random', 'model__min_weight_fraction_leaf': 0.3, 'model__min_samples_split': 5, 'model__min_samples_leaf': 3, 'model__min_impurity_decrease': None, 'model__max_leaf_nodes': 5, 'model__max_features': 3, 'model__max_depth': 2, 'model__criterion': 'friedman_mse', 'model__ccp_alpha': 100}\n",
      "0.074 (+/-0.126) for {'model__splitter': 'random', 'model__min_weight_fraction_leaf': 0.1, 'model__min_samples_split': 10, 'model__min_samples_leaf': 5, 'model__min_impurity_decrease': 2, 'model__max_leaf_nodes': 5, 'model__max_features': 1, 'model__max_depth': 20, 'model__criterion': 'poisson', 'model__ccp_alpha': 0.001}\n",
      "nan (+/-nan) for {'model__splitter': 'random', 'model__min_weight_fraction_leaf': 0.3, 'model__min_samples_split': 10, 'model__min_samples_leaf': 5, 'model__min_impurity_decrease': None, 'model__max_leaf_nodes': 5, 'model__max_features': 1, 'model__max_depth': 3, 'model__criterion': 'friedman_mse', 'model__ccp_alpha': 1}\n",
      "0.003 (+/-0.01) for {'model__splitter': 'best', 'model__min_weight_fraction_leaf': 0.5, 'model__min_samples_split': 10, 'model__min_samples_leaf': 5, 'model__min_impurity_decrease': 5, 'model__max_leaf_nodes': 3, 'model__max_features': 5, 'model__max_depth': 3, 'model__criterion': 'absolute_error', 'model__ccp_alpha': 0.001}\n",
      "-0.0 (+/-0.0) for {'model__splitter': 'random', 'model__min_weight_fraction_leaf': 0.5, 'model__min_samples_split': 10, 'model__min_samples_leaf': 5, 'model__min_impurity_decrease': 0, 'model__max_leaf_nodes': 20, 'model__max_features': 7, 'model__max_depth': 1, 'model__criterion': 'poisson', 'model__ccp_alpha': 0.001}\n",
      "0.056 (+/-0.144) for {'model__splitter': 'best', 'model__min_weight_fraction_leaf': 0.1, 'model__min_samples_split': 5, 'model__min_samples_leaf': 1, 'model__min_impurity_decrease': 1, 'model__max_leaf_nodes': 2, 'model__max_features': 2, 'model__max_depth': 3, 'model__criterion': 'absolute_error', 'model__ccp_alpha': 100}\n",
      "0.048 (+/-0.126) for {'model__splitter': 'best', 'model__min_weight_fraction_leaf': 0.1, 'model__min_samples_split': 10, 'model__min_samples_leaf': 2, 'model__min_impurity_decrease': 3, 'model__max_leaf_nodes': 10, 'model__max_features': 1, 'model__max_depth': 1, 'model__criterion': 'poisson', 'model__ccp_alpha': 0.01}\n",
      "0.207 (+/-0.045) for {'model__splitter': 'random', 'model__min_weight_fraction_leaf': 0.1, 'model__min_samples_split': 2, 'model__min_samples_leaf': 3, 'model__min_impurity_decrease': 2, 'model__max_leaf_nodes': 5, 'model__max_features': 7, 'model__max_depth': 5, 'model__criterion': 'poisson', 'model__ccp_alpha': 100}\n",
      "0.22 (+/-0.011) for {'model__splitter': 'best', 'model__min_weight_fraction_leaf': 0.3, 'model__min_samples_split': 2, 'model__min_samples_leaf': 2, 'model__min_impurity_decrease': 5, 'model__max_leaf_nodes': 20, 'model__max_features': 10, 'model__max_depth': None, 'model__criterion': 'friedman_mse', 'model__ccp_alpha': 0.1}\n",
      "0.052 (+/-0.149) for {'model__splitter': 'random', 'model__min_weight_fraction_leaf': 0.2, 'model__min_samples_split': 2, 'model__min_samples_leaf': 5, 'model__min_impurity_decrease': 0, 'model__max_leaf_nodes': 5, 'model__max_features': 1, 'model__max_depth': 5, 'model__criterion': 'absolute_error', 'model__ccp_alpha': 0}\n",
      "0.157 (+/-0.003) for {'model__splitter': 'best', 'model__min_weight_fraction_leaf': 0.1, 'model__min_samples_split': 3, 'model__min_samples_leaf': 5, 'model__min_impurity_decrease': 2, 'model__max_leaf_nodes': 2, 'model__max_features': 7, 'model__max_depth': 1, 'model__criterion': 'friedman_mse', 'model__ccp_alpha': 1000}\n",
      "0.175 (+/-0.021) for {'model__splitter': 'best', 'model__min_weight_fraction_leaf': 0.2, 'model__min_samples_split': 10, 'model__min_samples_leaf': 1, 'model__min_impurity_decrease': 5, 'model__max_leaf_nodes': 5, 'model__max_features': 5, 'model__max_depth': 5, 'model__criterion': 'absolute_error', 'model__ccp_alpha': 0.01}\n",
      "0.097 (+/-0.138) for {'model__splitter': 'random', 'model__min_weight_fraction_leaf': 0.1, 'model__min_samples_split': 5, 'model__min_samples_leaf': 2, 'model__min_impurity_decrease': 3, 'model__max_leaf_nodes': 20, 'model__max_features': 2, 'model__max_depth': 5, 'model__criterion': 'absolute_error', 'model__ccp_alpha': 10}\n",
      "0.0 (+/-0.0) for {'model__splitter': 'random', 'model__min_weight_fraction_leaf': 0.3, 'model__min_samples_split': 5, 'model__min_samples_leaf': 3, 'model__min_impurity_decrease': 1, 'model__max_leaf_nodes': 20, 'model__max_features': 2, 'model__max_depth': None, 'model__criterion': 'friedman_mse', 'model__ccp_alpha': 10}\n",
      "nan (+/-nan) for {'model__splitter': 'random', 'model__min_weight_fraction_leaf': 0.1, 'model__min_samples_split': 2, 'model__min_samples_leaf': 2, 'model__min_impurity_decrease': None, 'model__max_leaf_nodes': 10, 'model__max_features': 20, 'model__max_depth': 1, 'model__criterion': 'squared_error', 'model__ccp_alpha': 100}\n",
      "0.146 (+/-0.008) for {'model__splitter': 'best', 'model__min_weight_fraction_leaf': 0.3, 'model__min_samples_split': 2, 'model__min_samples_leaf': 3, 'model__min_impurity_decrease': 2, 'model__max_leaf_nodes': 20, 'model__max_features': 20, 'model__max_depth': 1, 'model__criterion': 'absolute_error', 'model__ccp_alpha': 0.01}\n",
      "0.184 (+/-0.078) for {'model__splitter': 'random', 'model__min_weight_fraction_leaf': 0.1, 'model__min_samples_split': 3, 'model__min_samples_leaf': 2, 'model__min_impurity_decrease': 2, 'model__max_leaf_nodes': 20, 'model__max_features': 3, 'model__max_depth': 5, 'model__criterion': 'squared_error', 'model__ccp_alpha': 1}\n",
      "0.14 (+/-0.123) for {'model__splitter': 'random', 'model__min_weight_fraction_leaf': 0.2, 'model__min_samples_split': 10, 'model__min_samples_leaf': 5, 'model__min_impurity_decrease': 3, 'model__max_leaf_nodes': 5, 'model__max_features': 5, 'model__max_depth': 10, 'model__criterion': 'friedman_mse', 'model__ccp_alpha': 0.1}\n",
      "0.254 (+/-0.003) for {'model__splitter': 'best', 'model__min_weight_fraction_leaf': 0.1, 'model__min_samples_split': 2, 'model__min_samples_leaf': 3, 'model__min_impurity_decrease': 1, 'model__max_leaf_nodes': 5, 'model__max_features': 20, 'model__max_depth': 20, 'model__criterion': 'friedman_mse', 'model__ccp_alpha': 0.01}\n",
      "0.157 (+/-0.003) for {'model__splitter': 'best', 'model__min_weight_fraction_leaf': 0.1, 'model__min_samples_split': 5, 'model__min_samples_leaf': 5, 'model__min_impurity_decrease': 5, 'model__max_leaf_nodes': 2, 'model__max_features': 7, 'model__max_depth': 10, 'model__criterion': 'squared_error', 'model__ccp_alpha': 0}\n",
      "0.157 (+/-0.003) for {'model__splitter': 'best', 'model__min_weight_fraction_leaf': 0.2, 'model__min_samples_split': 3, 'model__min_samples_leaf': 5, 'model__min_impurity_decrease': 5, 'model__max_leaf_nodes': 20, 'model__max_features': 20, 'model__max_depth': 1, 'model__criterion': 'absolute_error', 'model__ccp_alpha': 1000}\n",
      "-0.0 (+/-0.0) for {'model__splitter': 'random', 'model__min_weight_fraction_leaf': 0.5, 'model__min_samples_split': 2, 'model__min_samples_leaf': 3, 'model__min_impurity_decrease': 3, 'model__max_leaf_nodes': 5, 'model__max_features': 20, 'model__max_depth': 1, 'model__criterion': 'squared_error', 'model__ccp_alpha': 10}\n",
      "nan (+/-nan) for {'model__splitter': 'random', 'model__min_weight_fraction_leaf': 0.2, 'model__min_samples_split': 2, 'model__min_samples_leaf': 1, 'model__min_impurity_decrease': None, 'model__max_leaf_nodes': 10, 'model__max_features': 3, 'model__max_depth': 1, 'model__criterion': 'squared_error', 'model__ccp_alpha': 1}\n",
      "0.092 (+/-0.131) for {'model__splitter': 'random', 'model__min_weight_fraction_leaf': 0.2, 'model__min_samples_split': 5, 'model__min_samples_leaf': 1, 'model__min_impurity_decrease': 5, 'model__max_leaf_nodes': 2, 'model__max_features': 3, 'model__max_depth': 5, 'model__criterion': 'absolute_error', 'model__ccp_alpha': 0.01}\n",
      "0.09 (+/-0.127) for {'model__splitter': 'random', 'model__min_weight_fraction_leaf': 0.2, 'model__min_samples_split': 2, 'model__min_samples_leaf': 3, 'model__min_impurity_decrease': 3, 'model__max_leaf_nodes': 3, 'model__max_features': 2, 'model__max_depth': 5, 'model__criterion': 'poisson', 'model__ccp_alpha': 100}\n",
      "0.157 (+/-0.003) for {'model__splitter': 'best', 'model__min_weight_fraction_leaf': 0.2, 'model__min_samples_split': 3, 'model__min_samples_leaf': 3, 'model__min_impurity_decrease': 3, 'model__max_leaf_nodes': 2, 'model__max_features': 10, 'model__max_depth': 20, 'model__criterion': 'absolute_error', 'model__ccp_alpha': 0.001}\n",
      "0.173 (+/-0.021) for {'model__splitter': 'best', 'model__min_weight_fraction_leaf': 0.1, 'model__min_samples_split': 2, 'model__min_samples_leaf': 1, 'model__min_impurity_decrease': 0, 'model__max_leaf_nodes': 5, 'model__max_features': 2, 'model__max_depth': 2, 'model__criterion': 'absolute_error', 'model__ccp_alpha': 1000}\n",
      "0.1 (+/-0.145) for {'model__splitter': 'random', 'model__min_weight_fraction_leaf': 0.1, 'model__min_samples_split': 2, 'model__min_samples_leaf': 5, 'model__min_impurity_decrease': 5, 'model__max_leaf_nodes': 20, 'model__max_features': 2, 'model__max_depth': 20, 'model__criterion': 'absolute_error', 'model__ccp_alpha': 100}\n",
      "0.136 (+/-0.005) for {'model__splitter': 'random', 'model__min_weight_fraction_leaf': 0.2, 'model__min_samples_split': 3, 'model__min_samples_leaf': 5, 'model__min_impurity_decrease': 0, 'model__max_leaf_nodes': 20, 'model__max_features': 7, 'model__max_depth': 5, 'model__criterion': 'poisson', 'model__ccp_alpha': 0.001}\n",
      "0.047 (+/-0.128) for {'model__splitter': 'random', 'model__min_weight_fraction_leaf': 0.1, 'model__min_samples_split': 2, 'model__min_samples_leaf': 1, 'model__min_impurity_decrease': 5, 'model__max_leaf_nodes': 2, 'model__max_features': 2, 'model__max_depth': 2, 'model__criterion': 'squared_error', 'model__ccp_alpha': 100}\n",
      "0.22 (+/-0.011) for {'model__splitter': 'best', 'model__min_weight_fraction_leaf': 0.3, 'model__min_samples_split': 3, 'model__min_samples_leaf': 1, 'model__min_impurity_decrease': 3, 'model__max_leaf_nodes': 20, 'model__max_features': 20, 'model__max_depth': 10, 'model__criterion': 'poisson', 'model__ccp_alpha': 0.01}\n",
      "0.004 (+/-0.01) for {'model__splitter': 'random', 'model__min_weight_fraction_leaf': 0.2, 'model__min_samples_split': 10, 'model__min_samples_leaf': 1, 'model__min_impurity_decrease': 2, 'model__max_leaf_nodes': 2, 'model__max_features': 1, 'model__max_depth': 1, 'model__criterion': 'absolute_error', 'model__ccp_alpha': 0.1}\n",
      "0.138 (+/-0.087) for {'model__splitter': 'best', 'model__min_weight_fraction_leaf': 0.1, 'model__min_samples_split': 3, 'model__min_samples_leaf': 3, 'model__min_impurity_decrease': 2, 'model__max_leaf_nodes': 3, 'model__max_features': 2, 'model__max_depth': 5, 'model__criterion': 'absolute_error', 'model__ccp_alpha': 1}\n",
      "0.05 (+/-0.142) for {'model__splitter': 'best', 'model__min_weight_fraction_leaf': 0.3, 'model__min_samples_split': 3, 'model__min_samples_leaf': 3, 'model__min_impurity_decrease': 3, 'model__max_leaf_nodes': 2, 'model__max_features': 2, 'model__max_depth': 3, 'model__criterion': 'poisson', 'model__ccp_alpha': 1}\n",
      "0.159 (+/-0.075) for {'model__splitter': 'random', 'model__min_weight_fraction_leaf': 0.1, 'model__min_samples_split': 5, 'model__min_samples_leaf': 2, 'model__min_impurity_decrease': 1, 'model__max_leaf_nodes': 3, 'model__max_features': 2, 'model__max_depth': 3, 'model__criterion': 'friedman_mse', 'model__ccp_alpha': 0.1}\n",
      "0.006 (+/-0.009) for {'model__splitter': 'best', 'model__min_weight_fraction_leaf': 0.5, 'model__min_samples_split': 5, 'model__min_samples_leaf': 1, 'model__min_impurity_decrease': 5, 'model__max_leaf_nodes': 3, 'model__max_features': 5, 'model__max_depth': 20, 'model__criterion': 'squared_error', 'model__ccp_alpha': 1}\n",
      "0.09 (+/-0.127) for {'model__splitter': 'random', 'model__min_weight_fraction_leaf': 0.3, 'model__min_samples_split': 5, 'model__min_samples_leaf': 2, 'model__min_impurity_decrease': 2, 'model__max_leaf_nodes': 3, 'model__max_features': 5, 'model__max_depth': 5, 'model__criterion': 'squared_error', 'model__ccp_alpha': 1000}\n",
      "0.043 (+/-0.122) for {'model__splitter': 'random', 'model__min_weight_fraction_leaf': 0.1, 'model__min_samples_split': 5, 'model__min_samples_leaf': 3, 'model__min_impurity_decrease': 2, 'model__max_leaf_nodes': 2, 'model__max_features': 1, 'model__max_depth': 3, 'model__criterion': 'absolute_error', 'model__ccp_alpha': 0}\n",
      "-0.0 (+/-0.0) for {'model__splitter': 'random', 'model__min_weight_fraction_leaf': 0.5, 'model__min_samples_split': 2, 'model__min_samples_leaf': 2, 'model__min_impurity_decrease': 3, 'model__max_leaf_nodes': 3, 'model__max_features': 20, 'model__max_depth': 3, 'model__criterion': 'poisson', 'model__ccp_alpha': 100}\n",
      "0.232 (+/-0.006) for {'model__splitter': 'best', 'model__min_weight_fraction_leaf': 0.2, 'model__min_samples_split': 5, 'model__min_samples_leaf': 3, 'model__min_impurity_decrease': 0, 'model__max_leaf_nodes': 5, 'model__max_features': 10, 'model__max_depth': 5, 'model__criterion': 'friedman_mse', 'model__ccp_alpha': 10}\n",
      "0.002 (+/-0.006) for {'model__splitter': 'best', 'model__min_weight_fraction_leaf': 0.5, 'model__min_samples_split': 5, 'model__min_samples_leaf': 2, 'model__min_impurity_decrease': 2, 'model__max_leaf_nodes': 20, 'model__max_features': 7, 'model__max_depth': 1, 'model__criterion': 'absolute_error', 'model__ccp_alpha': 10}\n",
      "nan (+/-nan) for {'model__splitter': 'random', 'model__min_weight_fraction_leaf': 0.2, 'model__min_samples_split': 2, 'model__min_samples_leaf': 3, 'model__min_impurity_decrease': None, 'model__max_leaf_nodes': 20, 'model__max_features': 2, 'model__max_depth': 2, 'model__criterion': 'squared_error', 'model__ccp_alpha': 0.1}\n",
      "0.136 (+/-0.005) for {'model__splitter': 'random', 'model__min_weight_fraction_leaf': 0.3, 'model__min_samples_split': 10, 'model__min_samples_leaf': 1, 'model__min_impurity_decrease': 0, 'model__max_leaf_nodes': 10, 'model__max_features': 5, 'model__max_depth': None, 'model__criterion': 'poisson', 'model__ccp_alpha': 0}\n",
      "nan (+/-nan) for {'model__splitter': 'random', 'model__min_weight_fraction_leaf': 0.2, 'model__min_samples_split': 3, 'model__min_samples_leaf': 1, 'model__min_impurity_decrease': None, 'model__max_leaf_nodes': 10, 'model__max_features': 3, 'model__max_depth': 1, 'model__criterion': 'absolute_error', 'model__ccp_alpha': 1}\n",
      "0.174 (+/-0.069) for {'model__splitter': 'random', 'model__min_weight_fraction_leaf': 0.1, 'model__min_samples_split': 3, 'model__min_samples_leaf': 2, 'model__min_impurity_decrease': 3, 'model__max_leaf_nodes': 5, 'model__max_features': 7, 'model__max_depth': 2, 'model__criterion': 'poisson', 'model__ccp_alpha': 0}\n",
      "-0.0 (+/-0.0) for {'model__splitter': 'random', 'model__min_weight_fraction_leaf': 0.5, 'model__min_samples_split': 10, 'model__min_samples_leaf': 3, 'model__min_impurity_decrease': 1, 'model__max_leaf_nodes': 5, 'model__max_features': 1, 'model__max_depth': 3, 'model__criterion': 'squared_error', 'model__ccp_alpha': 100}\n",
      "0.227 (+/-0.006) for {'model__splitter': 'best', 'model__min_weight_fraction_leaf': 0.2, 'model__min_samples_split': 10, 'model__min_samples_leaf': 1, 'model__min_impurity_decrease': 2, 'model__max_leaf_nodes': 5, 'model__max_features': 20, 'model__max_depth': 5, 'model__criterion': 'absolute_error', 'model__ccp_alpha': 0.1}\n",
      "0.143 (+/-0.023) for {'model__splitter': 'random', 'model__min_weight_fraction_leaf': 0.1, 'model__min_samples_split': 2, 'model__min_samples_leaf': 1, 'model__min_impurity_decrease': 1, 'model__max_leaf_nodes': 20, 'model__max_features': 20, 'model__max_depth': 1, 'model__criterion': 'squared_error', 'model__ccp_alpha': 100}\n",
      "0.024 (+/-0.064) for {'model__splitter': 'random', 'model__min_weight_fraction_leaf': 0.1, 'model__min_samples_split': 5, 'model__min_samples_leaf': 5, 'model__min_impurity_decrease': 1, 'model__max_leaf_nodes': 2, 'model__max_features': 2, 'model__max_depth': 2, 'model__criterion': 'squared_error', 'model__ccp_alpha': 10}\n",
      "0.155 (+/-0.02) for {'model__splitter': 'random', 'model__min_weight_fraction_leaf': 0.1, 'model__min_samples_split': 2, 'model__min_samples_leaf': 5, 'model__min_impurity_decrease': 1, 'model__max_leaf_nodes': 3, 'model__max_features': 3, 'model__max_depth': 5, 'model__criterion': 'poisson', 'model__ccp_alpha': 0.01}\n",
      "nan (+/-nan) for {'model__splitter': 'random', 'model__min_weight_fraction_leaf': 0.3, 'model__min_samples_split': 2, 'model__min_samples_leaf': 1, 'model__min_impurity_decrease': None, 'model__max_leaf_nodes': 3, 'model__max_features': 10, 'model__max_depth': 2, 'model__criterion': 'friedman_mse', 'model__ccp_alpha': 0.01}\n",
      "0.277 (+/-0.016) for {'model__splitter': 'best', 'model__min_weight_fraction_leaf': 0.1, 'model__min_samples_split': 3, 'model__min_samples_leaf': 5, 'model__min_impurity_decrease': 5, 'model__max_leaf_nodes': 10, 'model__max_features': 20, 'model__max_depth': 20, 'model__criterion': 'squared_error', 'model__ccp_alpha': 100}\n",
      "0.18 (+/-0.007) for {'model__splitter': 'best', 'model__min_weight_fraction_leaf': 0.2, 'model__min_samples_split': 10, 'model__min_samples_leaf': 3, 'model__min_impurity_decrease': 5, 'model__max_leaf_nodes': 3, 'model__max_features': 5, 'model__max_depth': 5, 'model__criterion': 'squared_error', 'model__ccp_alpha': 0}\n",
      "0.087 (+/-0.112) for {'model__splitter': 'best', 'model__min_weight_fraction_leaf': 0.2, 'model__min_samples_split': 3, 'model__min_samples_leaf': 5, 'model__min_impurity_decrease': 0, 'model__max_leaf_nodes': 10, 'model__max_features': 1, 'model__max_depth': 10, 'model__criterion': 'absolute_error', 'model__ccp_alpha': 0.001}\n",
      "nan (+/-nan) for {'model__splitter': 'best', 'model__min_weight_fraction_leaf': 0.3, 'model__min_samples_split': 5, 'model__min_samples_leaf': 5, 'model__min_impurity_decrease': None, 'model__max_leaf_nodes': 10, 'model__max_features': 5, 'model__max_depth': None, 'model__criterion': 'poisson', 'model__ccp_alpha': 100}\n",
      "-0.0 (+/-0.0) for {'model__splitter': 'random', 'model__min_weight_fraction_leaf': 0.5, 'model__min_samples_split': 2, 'model__min_samples_leaf': 2, 'model__min_impurity_decrease': 3, 'model__max_leaf_nodes': 2, 'model__max_features': 5, 'model__max_depth': 10, 'model__criterion': 'poisson', 'model__ccp_alpha': 1000}\n",
      "0.101 (+/-0.116) for {'model__splitter': 'best', 'model__min_weight_fraction_leaf': 0.2, 'model__min_samples_split': 3, 'model__min_samples_leaf': 3, 'model__min_impurity_decrease': 2, 'model__max_leaf_nodes': 10, 'model__max_features': 2, 'model__max_depth': 2, 'model__criterion': 'poisson', 'model__ccp_alpha': 0.1}\n",
      "0.157 (+/-0.039) for {'model__splitter': 'random', 'model__min_weight_fraction_leaf': 0.1, 'model__min_samples_split': 5, 'model__min_samples_leaf': 3, 'model__min_impurity_decrease': 5, 'model__max_leaf_nodes': 3, 'model__max_features': 7, 'model__max_depth': 20, 'model__criterion': 'absolute_error', 'model__ccp_alpha': 0.001}\n",
      "nan (+/-nan) for {'model__splitter': 'random', 'model__min_weight_fraction_leaf': 0.1, 'model__min_samples_split': 2, 'model__min_samples_leaf': 1, 'model__min_impurity_decrease': None, 'model__max_leaf_nodes': 20, 'model__max_features': 20, 'model__max_depth': 3, 'model__criterion': 'poisson', 'model__ccp_alpha': 1}\n",
      "nan (+/-nan) for {'model__splitter': 'best', 'model__min_weight_fraction_leaf': 0.1, 'model__min_samples_split': 5, 'model__min_samples_leaf': 3, 'model__min_impurity_decrease': None, 'model__max_leaf_nodes': 2, 'model__max_features': 3, 'model__max_depth': 20, 'model__criterion': 'absolute_error', 'model__ccp_alpha': 0}\n",
      "0.005 (+/-0.008) for {'model__splitter': 'best', 'model__min_weight_fraction_leaf': 0.5, 'model__min_samples_split': 2, 'model__min_samples_leaf': 5, 'model__min_impurity_decrease': 2, 'model__max_leaf_nodes': 20, 'model__max_features': 10, 'model__max_depth': 1, 'model__criterion': 'absolute_error', 'model__ccp_alpha': 0.01}\n",
      "nan (+/-nan) for {'model__splitter': 'random', 'model__min_weight_fraction_leaf': 0.5, 'model__min_samples_split': 10, 'model__min_samples_leaf': 3, 'model__min_impurity_decrease': None, 'model__max_leaf_nodes': 20, 'model__max_features': 2, 'model__max_depth': 20, 'model__criterion': 'poisson', 'model__ccp_alpha': 1000}\n",
      "0.151 (+/-0.011) for {'model__splitter': 'best', 'model__min_weight_fraction_leaf': 0.3, 'model__min_samples_split': 3, 'model__min_samples_leaf': 3, 'model__min_impurity_decrease': 2, 'model__max_leaf_nodes': 5, 'model__max_features': 7, 'model__max_depth': 20, 'model__criterion': 'poisson', 'model__ccp_alpha': 1}\n",
      "0.0 (+/-0.0) for {'model__splitter': 'best', 'model__min_weight_fraction_leaf': 0.5, 'model__min_samples_split': 3, 'model__min_samples_leaf': 2, 'model__min_impurity_decrease': 5, 'model__max_leaf_nodes': 5, 'model__max_features': 1, 'model__max_depth': None, 'model__criterion': 'squared_error', 'model__ccp_alpha': 1}\n",
      "nan (+/-nan) for {'model__splitter': 'best', 'model__min_weight_fraction_leaf': 0.1, 'model__min_samples_split': 3, 'model__min_samples_leaf': 2, 'model__min_impurity_decrease': None, 'model__max_leaf_nodes': 3, 'model__max_features': 5, 'model__max_depth': 1, 'model__criterion': 'squared_error', 'model__ccp_alpha': 10}\n",
      "nan (+/-nan) for {'model__splitter': 'random', 'model__min_weight_fraction_leaf': 0.1, 'model__min_samples_split': 3, 'model__min_samples_leaf': 2, 'model__min_impurity_decrease': None, 'model__max_leaf_nodes': 10, 'model__max_features': 3, 'model__max_depth': 10, 'model__criterion': 'poisson', 'model__ccp_alpha': 10}\n",
      "nan (+/-nan) for {'model__splitter': 'random', 'model__min_weight_fraction_leaf': 0.1, 'model__min_samples_split': 10, 'model__min_samples_leaf': 5, 'model__min_impurity_decrease': None, 'model__max_leaf_nodes': 3, 'model__max_features': 10, 'model__max_depth': 3, 'model__criterion': 'absolute_error', 'model__ccp_alpha': 100}\n",
      "0.099 (+/-0.14) for {'model__splitter': 'best', 'model__min_weight_fraction_leaf': 0.3, 'model__min_samples_split': 10, 'model__min_samples_leaf': 5, 'model__min_impurity_decrease': 3, 'model__max_leaf_nodes': 3, 'model__max_features': 1, 'model__max_depth': 5, 'model__criterion': 'friedman_mse', 'model__ccp_alpha': 1000}\n",
      "0.007 (+/-0.007) for {'model__splitter': 'best', 'model__min_weight_fraction_leaf': 0.5, 'model__min_samples_split': 3, 'model__min_samples_leaf': 2, 'model__min_impurity_decrease': 5, 'model__max_leaf_nodes': 3, 'model__max_features': 20, 'model__max_depth': 3, 'model__criterion': 'squared_error', 'model__ccp_alpha': 0.1}\n",
      "-0.0 (+/-0.0) for {'model__splitter': 'random', 'model__min_weight_fraction_leaf': 0.5, 'model__min_samples_split': 5, 'model__min_samples_leaf': 3, 'model__min_impurity_decrease': 3, 'model__max_leaf_nodes': 2, 'model__max_features': 7, 'model__max_depth': 10, 'model__criterion': 'absolute_error', 'model__ccp_alpha': 0.1}\n",
      "0.05 (+/-0.142) for {'model__splitter': 'best', 'model__min_weight_fraction_leaf': 0.2, 'model__min_samples_split': 2, 'model__min_samples_leaf': 1, 'model__min_impurity_decrease': 5, 'model__max_leaf_nodes': 20, 'model__max_features': 2, 'model__max_depth': None, 'model__criterion': 'poisson', 'model__ccp_alpha': 10}\n",
      "-0.0 (+/-0.0) for {'model__splitter': 'random', 'model__min_weight_fraction_leaf': 0.5, 'model__min_samples_split': 3, 'model__min_samples_leaf': 2, 'model__min_impurity_decrease': 2, 'model__max_leaf_nodes': 2, 'model__max_features': 1, 'model__max_depth': 10, 'model__criterion': 'squared_error', 'model__ccp_alpha': 100}\n",
      "0.136 (+/-0.005) for {'model__splitter': 'random', 'model__min_weight_fraction_leaf': 0.3, 'model__min_samples_split': 5, 'model__min_samples_leaf': 5, 'model__min_impurity_decrease': 0, 'model__max_leaf_nodes': 10, 'model__max_features': 10, 'model__max_depth': 5, 'model__criterion': 'friedman_mse', 'model__ccp_alpha': 0.01}\n",
      "0.102 (+/-0.127) for {'model__splitter': 'best', 'model__min_weight_fraction_leaf': 0.1, 'model__min_samples_split': 5, 'model__min_samples_leaf': 2, 'model__min_impurity_decrease': 5, 'model__max_leaf_nodes': 3, 'model__max_features': 3, 'model__max_depth': 1, 'model__criterion': 'friedman_mse', 'model__ccp_alpha': 0}\n",
      "0.145 (+/-0.013) for {'model__splitter': 'best', 'model__min_weight_fraction_leaf': 0.2, 'model__min_samples_split': 5, 'model__min_samples_leaf': 5, 'model__min_impurity_decrease': 1, 'model__max_leaf_nodes': 5, 'model__max_features': 7, 'model__max_depth': 1, 'model__criterion': 'poisson', 'model__ccp_alpha': 100}\n",
      "-0.0 (+/-0.0) for {'model__splitter': 'random', 'model__min_weight_fraction_leaf': 0.5, 'model__min_samples_split': 5, 'model__min_samples_leaf': 3, 'model__min_impurity_decrease': 0, 'model__max_leaf_nodes': 10, 'model__max_features': 10, 'model__max_depth': 10, 'model__criterion': 'absolute_error', 'model__ccp_alpha': 0.01}\n",
      "0.199 (+/-0.073) for {'model__splitter': 'random', 'model__min_weight_fraction_leaf': 0.1, 'model__min_samples_split': 5, 'model__min_samples_leaf': 5, 'model__min_impurity_decrease': 5, 'model__max_leaf_nodes': 5, 'model__max_features': 10, 'model__max_depth': 2, 'model__criterion': 'poisson', 'model__ccp_alpha': 10}\n",
      "0.145 (+/-0.206) for {'model__splitter': 'best', 'model__min_weight_fraction_leaf': 0.2, 'model__min_samples_split': 3, 'model__min_samples_leaf': 1, 'model__min_impurity_decrease': 1, 'model__max_leaf_nodes': 10, 'model__max_features': 1, 'model__max_depth': 2, 'model__criterion': 'poisson', 'model__ccp_alpha': 100}\n",
      "nan (+/-nan) for {'model__splitter': 'random', 'model__min_weight_fraction_leaf': 0.3, 'model__min_samples_split': 5, 'model__min_samples_leaf': 5, 'model__min_impurity_decrease': None, 'model__max_leaf_nodes': 3, 'model__max_features': 20, 'model__max_depth': 2, 'model__criterion': 'absolute_error', 'model__ccp_alpha': 0}\n",
      "-0.0 (+/-0.0) for {'model__splitter': 'random', 'model__min_weight_fraction_leaf': 0.3, 'model__min_samples_split': 10, 'model__min_samples_leaf': 1, 'model__min_impurity_decrease': 2, 'model__max_leaf_nodes': 2, 'model__max_features': 1, 'model__max_depth': None, 'model__criterion': 'absolute_error', 'model__ccp_alpha': 1000}\n",
      "-0.0 (+/-0.0) for {'model__splitter': 'random', 'model__min_weight_fraction_leaf': 0.5, 'model__min_samples_split': 3, 'model__min_samples_leaf': 2, 'model__min_impurity_decrease': 0, 'model__max_leaf_nodes': 3, 'model__max_features': 3, 'model__max_depth': None, 'model__criterion': 'poisson', 'model__ccp_alpha': 0}\n",
      "0.087 (+/-0.123) for {'model__splitter': 'best', 'model__min_weight_fraction_leaf': 0.3, 'model__min_samples_split': 5, 'model__min_samples_leaf': 1, 'model__min_impurity_decrease': 3, 'model__max_leaf_nodes': 2, 'model__max_features': 2, 'model__max_depth': None, 'model__criterion': 'absolute_error', 'model__ccp_alpha': 1}\n",
      "0.195 (+/-0.07) for {'model__splitter': 'random', 'model__min_weight_fraction_leaf': 0.1, 'model__min_samples_split': 10, 'model__min_samples_leaf': 2, 'model__min_impurity_decrease': 1, 'model__max_leaf_nodes': 20, 'model__max_features': 7, 'model__max_depth': 5, 'model__criterion': 'squared_error', 'model__ccp_alpha': 1}\n",
      "0.005 (+/-0.008) for {'model__splitter': 'best', 'model__min_weight_fraction_leaf': 0.5, 'model__min_samples_split': 3, 'model__min_samples_leaf': 2, 'model__min_impurity_decrease': 1, 'model__max_leaf_nodes': 20, 'model__max_features': 10, 'model__max_depth': 10, 'model__criterion': 'absolute_error', 'model__ccp_alpha': 10}\n",
      "-0.0 (+/-0.0) for {'model__splitter': 'random', 'model__min_weight_fraction_leaf': 0.5, 'model__min_samples_split': 5, 'model__min_samples_leaf': 5, 'model__min_impurity_decrease': 2, 'model__max_leaf_nodes': 5, 'model__max_features': 7, 'model__max_depth': 3, 'model__criterion': 'squared_error', 'model__ccp_alpha': 0.001}\n",
      "nan (+/-nan) for {'model__splitter': 'best', 'model__min_weight_fraction_leaf': 0.1, 'model__min_samples_split': 5, 'model__min_samples_leaf': 3, 'model__min_impurity_decrease': None, 'model__max_leaf_nodes': 20, 'model__max_features': 20, 'model__max_depth': 5, 'model__criterion': 'absolute_error', 'model__ccp_alpha': 0.01}\n",
      "0.227 (+/-0.006) for {'model__splitter': 'best', 'model__min_weight_fraction_leaf': 0.2, 'model__min_samples_split': 3, 'model__min_samples_leaf': 2, 'model__min_impurity_decrease': 5, 'model__max_leaf_nodes': 20, 'model__max_features': 20, 'model__max_depth': 20, 'model__criterion': 'absolute_error', 'model__ccp_alpha': 0.001}\n",
      "0.169 (+/-0.08) for {'model__splitter': 'random', 'model__min_weight_fraction_leaf': 0.2, 'model__min_samples_split': 5, 'model__min_samples_leaf': 5, 'model__min_impurity_decrease': 0, 'model__max_leaf_nodes': 3, 'model__max_features': 20, 'model__max_depth': 5, 'model__criterion': 'poisson', 'model__ccp_alpha': 0}\n",
      "0.101 (+/-0.143) for {'model__splitter': 'best', 'model__min_weight_fraction_leaf': 0.3, 'model__min_samples_split': 10, 'model__min_samples_leaf': 1, 'model__min_impurity_decrease': 1, 'model__max_leaf_nodes': 10, 'model__max_features': 2, 'model__max_depth': 10, 'model__criterion': 'squared_error', 'model__ccp_alpha': 0.001}\n",
      "nan (+/-nan) for {'model__splitter': 'random', 'model__min_weight_fraction_leaf': 0.3, 'model__min_samples_split': 3, 'model__min_samples_leaf': 3, 'model__min_impurity_decrease': None, 'model__max_leaf_nodes': 5, 'model__max_features': 1, 'model__max_depth': None, 'model__criterion': 'poisson', 'model__ccp_alpha': 0}\n",
      "0.09 (+/-0.127) for {'model__splitter': 'random', 'model__min_weight_fraction_leaf': 0.3, 'model__min_samples_split': 3, 'model__min_samples_leaf': 3, 'model__min_impurity_decrease': 5, 'model__max_leaf_nodes': 5, 'model__max_features': 2, 'model__max_depth': 3, 'model__criterion': 'poisson', 'model__ccp_alpha': 1}\n",
      "nan (+/-nan) for {'model__splitter': 'best', 'model__min_weight_fraction_leaf': 0.3, 'model__min_samples_split': 3, 'model__min_samples_leaf': 5, 'model__min_impurity_decrease': None, 'model__max_leaf_nodes': 5, 'model__max_features': 7, 'model__max_depth': 5, 'model__criterion': 'squared_error', 'model__ccp_alpha': 100}\n",
      "0.157 (+/-0.085) for {'model__splitter': 'random', 'model__min_weight_fraction_leaf': 0.2, 'model__min_samples_split': 2, 'model__min_samples_leaf': 1, 'model__min_impurity_decrease': 0, 'model__max_leaf_nodes': 20, 'model__max_features': 5, 'model__max_depth': 5, 'model__criterion': 'absolute_error', 'model__ccp_alpha': 0.01}\n",
      "0.044 (+/-0.125) for {'model__splitter': 'random', 'model__min_weight_fraction_leaf': 0.3, 'model__min_samples_split': 3, 'model__min_samples_leaf': 3, 'model__min_impurity_decrease': 3, 'model__max_leaf_nodes': 2, 'model__max_features': 3, 'model__max_depth': 20, 'model__criterion': 'poisson', 'model__ccp_alpha': 0.001}\n",
      "0.127 (+/-0.011) for {'model__splitter': 'random', 'model__min_weight_fraction_leaf': 0.3, 'model__min_samples_split': 2, 'model__min_samples_leaf': 2, 'model__min_impurity_decrease': 1, 'model__max_leaf_nodes': 10, 'model__max_features': 10, 'model__max_depth': 5, 'model__criterion': 'absolute_error', 'model__ccp_alpha': 0}\n",
      "0.157 (+/-0.003) for {'model__splitter': 'best', 'model__min_weight_fraction_leaf': 0.2, 'model__min_samples_split': 5, 'model__min_samples_leaf': 2, 'model__min_impurity_decrease': 2, 'model__max_leaf_nodes': 2, 'model__max_features': 5, 'model__max_depth': None, 'model__criterion': 'friedman_mse', 'model__ccp_alpha': 100}\n",
      "0.141 (+/-0.018) for {'model__splitter': 'random', 'model__min_weight_fraction_leaf': 0.3, 'model__min_samples_split': 10, 'model__min_samples_leaf': 1, 'model__min_impurity_decrease': 2, 'model__max_leaf_nodes': 20, 'model__max_features': 3, 'model__max_depth': None, 'model__criterion': 'poisson', 'model__ccp_alpha': 10}\n",
      "0.137 (+/-0.008) for {'model__splitter': 'random', 'model__min_weight_fraction_leaf': 0.2, 'model__min_samples_split': 2, 'model__min_samples_leaf': 5, 'model__min_impurity_decrease': 1, 'model__max_leaf_nodes': 20, 'model__max_features': 20, 'model__max_depth': 2, 'model__criterion': 'squared_error', 'model__ccp_alpha': 100}\n",
      "nan (+/-nan) for {'model__splitter': 'best', 'model__min_weight_fraction_leaf': 0.1, 'model__min_samples_split': 2, 'model__min_samples_leaf': 5, 'model__min_impurity_decrease': None, 'model__max_leaf_nodes': 20, 'model__max_features': 5, 'model__max_depth': 1, 'model__criterion': 'squared_error', 'model__ccp_alpha': 100}\n",
      "0.122 (+/-0.075) for {'model__splitter': 'best', 'model__min_weight_fraction_leaf': 0.1, 'model__min_samples_split': 3, 'model__min_samples_leaf': 3, 'model__min_impurity_decrease': 1, 'model__max_leaf_nodes': 2, 'model__max_features': 2, 'model__max_depth': 3, 'model__criterion': 'poisson', 'model__ccp_alpha': 0.01}\n",
      "0.137 (+/-0.107) for {'model__splitter': 'best', 'model__min_weight_fraction_leaf': 0.1, 'model__min_samples_split': 10, 'model__min_samples_leaf': 2, 'model__min_impurity_decrease': 5, 'model__max_leaf_nodes': 3, 'model__max_features': 2, 'model__max_depth': 2, 'model__criterion': 'poisson', 'model__ccp_alpha': 0.01}\n",
      "0.001 (+/-0.002) for {'model__splitter': 'best', 'model__min_weight_fraction_leaf': 0.5, 'model__min_samples_split': 10, 'model__min_samples_leaf': 5, 'model__min_impurity_decrease': 0, 'model__max_leaf_nodes': 10, 'model__max_features': 3, 'model__max_depth': 2, 'model__criterion': 'poisson', 'model__ccp_alpha': 0}\n",
      "nan (+/-nan) for {'model__splitter': 'random', 'model__min_weight_fraction_leaf': 0.2, 'model__min_samples_split': 10, 'model__min_samples_leaf': 1, 'model__min_impurity_decrease': None, 'model__max_leaf_nodes': 5, 'model__max_features': 1, 'model__max_depth': 2, 'model__criterion': 'poisson', 'model__ccp_alpha': 0.1}\n",
      "0.007 (+/-0.007) for {'model__splitter': 'best', 'model__min_weight_fraction_leaf': 0.5, 'model__min_samples_split': 3, 'model__min_samples_leaf': 1, 'model__min_impurity_decrease': 0, 'model__max_leaf_nodes': 10, 'model__max_features': 20, 'model__max_depth': 3, 'model__criterion': 'poisson', 'model__ccp_alpha': 0.1}\n",
      "0.002 (+/-0.006) for {'model__splitter': 'best', 'model__min_weight_fraction_leaf': 0.3, 'model__min_samples_split': 5, 'model__min_samples_leaf': 5, 'model__min_impurity_decrease': 0, 'model__max_leaf_nodes': 20, 'model__max_features': 1, 'model__max_depth': 10, 'model__criterion': 'absolute_error', 'model__ccp_alpha': 0}\n",
      "0.004 (+/-0.005) for {'model__splitter': 'best', 'model__min_weight_fraction_leaf': 0.5, 'model__min_samples_split': 5, 'model__min_samples_leaf': 3, 'model__min_impurity_decrease': 0, 'model__max_leaf_nodes': 5, 'model__max_features': 7, 'model__max_depth': 2, 'model__criterion': 'friedman_mse', 'model__ccp_alpha': 0.01}\n",
      "0.089 (+/-0.118) for {'model__splitter': 'random', 'model__min_weight_fraction_leaf': 0.3, 'model__min_samples_split': 10, 'model__min_samples_leaf': 5, 'model__min_impurity_decrease': 1, 'model__max_leaf_nodes': 2, 'model__max_features': 5, 'model__max_depth': 2, 'model__criterion': 'absolute_error', 'model__ccp_alpha': 10}\n",
      "nan (+/-nan) for {'model__splitter': 'random', 'model__min_weight_fraction_leaf': 0.5, 'model__min_samples_split': 5, 'model__min_samples_leaf': 3, 'model__min_impurity_decrease': None, 'model__max_leaf_nodes': 3, 'model__max_features': 2, 'model__max_depth': 20, 'model__criterion': 'squared_error', 'model__ccp_alpha': 1000}\n",
      "nan (+/-nan) for {'model__splitter': 'random', 'model__min_weight_fraction_leaf': 0.1, 'model__min_samples_split': 10, 'model__min_samples_leaf': 5, 'model__min_impurity_decrease': None, 'model__max_leaf_nodes': 3, 'model__max_features': 7, 'model__max_depth': None, 'model__criterion': 'squared_error', 'model__ccp_alpha': 10}\n",
      "0.093 (+/-0.134) for {'model__splitter': 'best', 'model__min_weight_fraction_leaf': 0.2, 'model__min_samples_split': 3, 'model__min_samples_leaf': 2, 'model__min_impurity_decrease': 2, 'model__max_leaf_nodes': 20, 'model__max_features': 3, 'model__max_depth': 1, 'model__criterion': 'poisson', 'model__ccp_alpha': 1000}\n",
      "0.05 (+/-0.142) for {'model__splitter': 'random', 'model__min_weight_fraction_leaf': 0.3, 'model__min_samples_split': 10, 'model__min_samples_leaf': 1, 'model__min_impurity_decrease': 0, 'model__max_leaf_nodes': 3, 'model__max_features': 2, 'model__max_depth': 1, 'model__criterion': 'absolute_error', 'model__ccp_alpha': 10}\n",
      "0.004 (+/-0.005) for {'model__splitter': 'best', 'model__min_weight_fraction_leaf': 0.5, 'model__min_samples_split': 3, 'model__min_samples_leaf': 3, 'model__min_impurity_decrease': 0, 'model__max_leaf_nodes': 2, 'model__max_features': 7, 'model__max_depth': None, 'model__criterion': 'poisson', 'model__ccp_alpha': 10}\n",
      "-0.0 (+/-0.0) for {'model__splitter': 'random', 'model__min_weight_fraction_leaf': 0.5, 'model__min_samples_split': 2, 'model__min_samples_leaf': 5, 'model__min_impurity_decrease': 5, 'model__max_leaf_nodes': 5, 'model__max_features': 5, 'model__max_depth': None, 'model__criterion': 'poisson', 'model__ccp_alpha': 1}\n",
      "0.136 (+/-0.004) for {'model__splitter': 'random', 'model__min_weight_fraction_leaf': 0.2, 'model__min_samples_split': 3, 'model__min_samples_leaf': 1, 'model__min_impurity_decrease': 2, 'model__max_leaf_nodes': 20, 'model__max_features': 5, 'model__max_depth': 20, 'model__criterion': 'poisson', 'model__ccp_alpha': 10}\n",
      "0.005 (+/-0.008) for {'model__splitter': 'best', 'model__min_weight_fraction_leaf': 0.5, 'model__min_samples_split': 5, 'model__min_samples_leaf': 5, 'model__min_impurity_decrease': 3, 'model__max_leaf_nodes': 10, 'model__max_features': 10, 'model__max_depth': None, 'model__criterion': 'absolute_error', 'model__ccp_alpha': 0.1}\n",
      "0.134 (+/-0.005) for {'model__splitter': 'random', 'model__min_weight_fraction_leaf': 0.2, 'model__min_samples_split': 2, 'model__min_samples_leaf': 3, 'model__min_impurity_decrease': 5, 'model__max_leaf_nodes': 20, 'model__max_features': 7, 'model__max_depth': 3, 'model__criterion': 'friedman_mse', 'model__ccp_alpha': 1}\n",
      "0.003 (+/-0.01) for {'model__splitter': 'best', 'model__min_weight_fraction_leaf': 0.5, 'model__min_samples_split': 3, 'model__min_samples_leaf': 5, 'model__min_impurity_decrease': 0, 'model__max_leaf_nodes': 5, 'model__max_features': 3, 'model__max_depth': 5, 'model__criterion': 'absolute_error', 'model__ccp_alpha': 0.01}\n",
      "0.149 (+/-0.008) for {'model__splitter': 'best', 'model__min_weight_fraction_leaf': 0.2, 'model__min_samples_split': 3, 'model__min_samples_leaf': 1, 'model__min_impurity_decrease': 2, 'model__max_leaf_nodes': 2, 'model__max_features': 20, 'model__max_depth': 3, 'model__criterion': 'poisson', 'model__ccp_alpha': 0.01}\n",
      "0.155 (+/-0.087) for {'model__splitter': 'random', 'model__min_weight_fraction_leaf': 0.3, 'model__min_samples_split': 5, 'model__min_samples_leaf': 3, 'model__min_impurity_decrease': 3, 'model__max_leaf_nodes': 10, 'model__max_features': 20, 'model__max_depth': 3, 'model__criterion': 'absolute_error', 'model__ccp_alpha': 0.001}\n",
      "-0.0 (+/-0.0) for {'model__splitter': 'random', 'model__min_weight_fraction_leaf': 0.5, 'model__min_samples_split': 10, 'model__min_samples_leaf': 1, 'model__min_impurity_decrease': 0, 'model__max_leaf_nodes': 2, 'model__max_features': 1, 'model__max_depth': 20, 'model__criterion': 'poisson', 'model__ccp_alpha': 1000}\n",
      "nan (+/-nan) for {'model__splitter': 'best', 'model__min_weight_fraction_leaf': 0.5, 'model__min_samples_split': 10, 'model__min_samples_leaf': 2, 'model__min_impurity_decrease': None, 'model__max_leaf_nodes': 10, 'model__max_features': 5, 'model__max_depth': None, 'model__criterion': 'squared_error', 'model__ccp_alpha': 100}\n",
      "0.213 (+/-0.037) for {'model__splitter': 'best', 'model__min_weight_fraction_leaf': 0.2, 'model__min_samples_split': 2, 'model__min_samples_leaf': 3, 'model__min_impurity_decrease': 0, 'model__max_leaf_nodes': 20, 'model__max_features': 7, 'model__max_depth': None, 'model__criterion': 'poisson', 'model__ccp_alpha': 0.001}\n",
      "0.189 (+/-0.069) for {'model__splitter': 'best', 'model__min_weight_fraction_leaf': 0.2, 'model__min_samples_split': 10, 'model__min_samples_leaf': 3, 'model__min_impurity_decrease': 1, 'model__max_leaf_nodes': 20, 'model__max_features': 2, 'model__max_depth': 20, 'model__criterion': 'squared_error', 'model__ccp_alpha': 1}\n",
      "0.145 (+/-0.019) for {'model__splitter': 'best', 'model__min_weight_fraction_leaf': 0.3, 'model__min_samples_split': 2, 'model__min_samples_leaf': 5, 'model__min_impurity_decrease': 0, 'model__max_leaf_nodes': 2, 'model__max_features': 5, 'model__max_depth': None, 'model__criterion': 'poisson', 'model__ccp_alpha': 0.01}\n",
      "0.126 (+/-0.163) for {'model__splitter': 'best', 'model__min_weight_fraction_leaf': 0.3, 'model__min_samples_split': 5, 'model__min_samples_leaf': 5, 'model__min_impurity_decrease': 1, 'model__max_leaf_nodes': 20, 'model__max_features': 5, 'model__max_depth': 2, 'model__criterion': 'friedman_mse', 'model__ccp_alpha': 100}\n",
      "0.195 (+/-0.075) for {'model__splitter': 'random', 'model__min_weight_fraction_leaf': 0.1, 'model__min_samples_split': 3, 'model__min_samples_leaf': 3, 'model__min_impurity_decrease': 1, 'model__max_leaf_nodes': 20, 'model__max_features': 10, 'model__max_depth': 3, 'model__criterion': 'poisson', 'model__ccp_alpha': 0.001}\n",
      "nan (+/-nan) for {'model__splitter': 'random', 'model__min_weight_fraction_leaf': 0.1, 'model__min_samples_split': 5, 'model__min_samples_leaf': 3, 'model__min_impurity_decrease': None, 'model__max_leaf_nodes': 10, 'model__max_features': 5, 'model__max_depth': 10, 'model__criterion': 'poisson', 'model__ccp_alpha': 1}\n",
      "0.157 (+/-0.003) for {'model__splitter': 'best', 'model__min_weight_fraction_leaf': 0.2, 'model__min_samples_split': 5, 'model__min_samples_leaf': 3, 'model__min_impurity_decrease': 5, 'model__max_leaf_nodes': 20, 'model__max_features': 7, 'model__max_depth': 1, 'model__criterion': 'squared_error', 'model__ccp_alpha': 0}\n",
      "nan (+/-nan) for {'model__splitter': 'best', 'model__min_weight_fraction_leaf': 0.3, 'model__min_samples_split': 3, 'model__min_samples_leaf': 2, 'model__min_impurity_decrease': None, 'model__max_leaf_nodes': 2, 'model__max_features': 1, 'model__max_depth': 20, 'model__criterion': 'squared_error', 'model__ccp_alpha': 1}\n",
      "0.004 (+/-0.012) for {'model__splitter': 'best', 'model__min_weight_fraction_leaf': 0.3, 'model__min_samples_split': 10, 'model__min_samples_leaf': 3, 'model__min_impurity_decrease': 2, 'model__max_leaf_nodes': 10, 'model__max_features': 2, 'model__max_depth': 20, 'model__criterion': 'poisson', 'model__ccp_alpha': 0}\n",
      "nan (+/-nan) for {'model__splitter': 'best', 'model__min_weight_fraction_leaf': 0.2, 'model__min_samples_split': 10, 'model__min_samples_leaf': 3, 'model__min_impurity_decrease': None, 'model__max_leaf_nodes': 5, 'model__max_features': 2, 'model__max_depth': 10, 'model__criterion': 'friedman_mse', 'model__ccp_alpha': 0.001}\n",
      "-0.0 (+/-0.0) for {'model__splitter': 'random', 'model__min_weight_fraction_leaf': 0.5, 'model__min_samples_split': 10, 'model__min_samples_leaf': 3, 'model__min_impurity_decrease': 1, 'model__max_leaf_nodes': 3, 'model__max_features': 10, 'model__max_depth': 3, 'model__criterion': 'poisson', 'model__ccp_alpha': 0}\n",
      "nan (+/-nan) for {'model__splitter': 'random', 'model__min_weight_fraction_leaf': 0.5, 'model__min_samples_split': 5, 'model__min_samples_leaf': 1, 'model__min_impurity_decrease': None, 'model__max_leaf_nodes': 20, 'model__max_features': 5, 'model__max_depth': 5, 'model__criterion': 'squared_error', 'model__ccp_alpha': 1000}\n",
      "0.148 (+/-0.023) for {'model__splitter': 'best', 'model__min_weight_fraction_leaf': 0.2, 'model__min_samples_split': 10, 'model__min_samples_leaf': 2, 'model__min_impurity_decrease': 1, 'model__max_leaf_nodes': 2, 'model__max_features': 7, 'model__max_depth': 10, 'model__criterion': 'absolute_error', 'model__ccp_alpha': 1000}\n",
      "0.212 (+/-0.013) for {'model__splitter': 'best', 'model__min_weight_fraction_leaf': 0.3, 'model__min_samples_split': 3, 'model__min_samples_leaf': 3, 'model__min_impurity_decrease': 5, 'model__max_leaf_nodes': 5, 'model__max_features': 20, 'model__max_depth': 3, 'model__criterion': 'absolute_error', 'model__ccp_alpha': 0.001}\n",
      "0.222 (+/-0.008) for {'model__splitter': 'random', 'model__min_weight_fraction_leaf': 0.2, 'model__min_samples_split': 10, 'model__min_samples_leaf': 1, 'model__min_impurity_decrease': 2, 'model__max_leaf_nodes': 20, 'model__max_features': 10, 'model__max_depth': 5, 'model__criterion': 'poisson', 'model__ccp_alpha': 100}\n",
      "0.003 (+/-0.007) for {'model__splitter': 'best', 'model__min_weight_fraction_leaf': 0.5, 'model__min_samples_split': 2, 'model__min_samples_leaf': 3, 'model__min_impurity_decrease': 1, 'model__max_leaf_nodes': 5, 'model__max_features': 2, 'model__max_depth': 3, 'model__criterion': 'friedman_mse', 'model__ccp_alpha': 1000}\n",
      "0.083 (+/-0.127) for {'model__splitter': 'random', 'model__min_weight_fraction_leaf': 0.1, 'model__min_samples_split': 3, 'model__min_samples_leaf': 2, 'model__min_impurity_decrease': 2, 'model__max_leaf_nodes': 20, 'model__max_features': 1, 'model__max_depth': 3, 'model__criterion': 'poisson', 'model__ccp_alpha': 0.001}\n",
      "nan (+/-nan) for {'model__splitter': 'best', 'model__min_weight_fraction_leaf': 0.5, 'model__min_samples_split': 2, 'model__min_samples_leaf': 3, 'model__min_impurity_decrease': None, 'model__max_leaf_nodes': 3, 'model__max_features': 10, 'model__max_depth': 10, 'model__criterion': 'poisson', 'model__ccp_alpha': 0.001}\n",
      "nan (+/-nan) for {'model__splitter': 'best', 'model__min_weight_fraction_leaf': 0.2, 'model__min_samples_split': 2, 'model__min_samples_leaf': 3, 'model__min_impurity_decrease': None, 'model__max_leaf_nodes': 10, 'model__max_features': 1, 'model__max_depth': 20, 'model__criterion': 'poisson', 'model__ccp_alpha': 1}\n",
      "0.0 (+/-0.001) for {'model__splitter': 'best', 'model__min_weight_fraction_leaf': 0.2, 'model__min_samples_split': 5, 'model__min_samples_leaf': 5, 'model__min_impurity_decrease': 2, 'model__max_leaf_nodes': 2, 'model__max_features': 1, 'model__max_depth': 20, 'model__criterion': 'friedman_mse', 'model__ccp_alpha': 0}\n",
      "0.241 (+/-0.018) for {'model__splitter': 'random', 'model__min_weight_fraction_leaf': 0.1, 'model__min_samples_split': 3, 'model__min_samples_leaf': 5, 'model__min_impurity_decrease': 1, 'model__max_leaf_nodes': 10, 'model__max_features': 20, 'model__max_depth': None, 'model__criterion': 'squared_error', 'model__ccp_alpha': 0.001}\n",
      "0.089 (+/-0.128) for {'model__splitter': 'random', 'model__min_weight_fraction_leaf': 0.1, 'model__min_samples_split': 10, 'model__min_samples_leaf': 5, 'model__min_impurity_decrease': 3, 'model__max_leaf_nodes': 3, 'model__max_features': 5, 'model__max_depth': 1, 'model__criterion': 'absolute_error', 'model__ccp_alpha': 1000}\n",
      "nan (+/-nan) for {'model__splitter': 'random', 'model__min_weight_fraction_leaf': 0.2, 'model__min_samples_split': 10, 'model__min_samples_leaf': 3, 'model__min_impurity_decrease': None, 'model__max_leaf_nodes': 2, 'model__max_features': 7, 'model__max_depth': None, 'model__criterion': 'absolute_error', 'model__ccp_alpha': 10}\n",
      "0.201 (+/-0.047) for {'model__splitter': 'best', 'model__min_weight_fraction_leaf': 0.1, 'model__min_samples_split': 10, 'model__min_samples_leaf': 5, 'model__min_impurity_decrease': 0, 'model__max_leaf_nodes': 3, 'model__max_features': 7, 'model__max_depth': None, 'model__criterion': 'absolute_error', 'model__ccp_alpha': 0}\n",
      "-0.0 (+/-0.0) for {'model__splitter': 'random', 'model__min_weight_fraction_leaf': 0.5, 'model__min_samples_split': 5, 'model__min_samples_leaf': 2, 'model__min_impurity_decrease': 1, 'model__max_leaf_nodes': 10, 'model__max_features': 2, 'model__max_depth': 10, 'model__criterion': 'absolute_error', 'model__ccp_alpha': 0.1}\n",
      "0.211 (+/-0.038) for {'model__splitter': 'best', 'model__min_weight_fraction_leaf': 0.2, 'model__min_samples_split': 10, 'model__min_samples_leaf': 2, 'model__min_impurity_decrease': 0, 'model__max_leaf_nodes': 10, 'model__max_features': 5, 'model__max_depth': 2, 'model__criterion': 'friedman_mse', 'model__ccp_alpha': 100}\n",
      "-0.0 (+/-0.0) for {'model__splitter': 'random', 'model__min_weight_fraction_leaf': 0.3, 'model__min_samples_split': 2, 'model__min_samples_leaf': 3, 'model__min_impurity_decrease': 5, 'model__max_leaf_nodes': 2, 'model__max_features': 3, 'model__max_depth': 1, 'model__criterion': 'friedman_mse', 'model__ccp_alpha': 1000}\n",
      "-0.0 (+/-0.0) for {'model__splitter': 'random', 'model__min_weight_fraction_leaf': 0.5, 'model__min_samples_split': 5, 'model__min_samples_leaf': 2, 'model__min_impurity_decrease': 2, 'model__max_leaf_nodes': 20, 'model__max_features': 20, 'model__max_depth': 10, 'model__criterion': 'poisson', 'model__ccp_alpha': 0.1}\n",
      "0.22 (+/-0.012) for {'model__splitter': 'best', 'model__min_weight_fraction_leaf': 0.2, 'model__min_samples_split': 3, 'model__min_samples_leaf': 1, 'model__min_impurity_decrease': 1, 'model__max_leaf_nodes': 3, 'model__max_features': 10, 'model__max_depth': 3, 'model__criterion': 'poisson', 'model__ccp_alpha': 0.001}\n",
      "0.089 (+/-0.122) for {'model__splitter': 'random', 'model__min_weight_fraction_leaf': 0.1, 'model__min_samples_split': 2, 'model__min_samples_leaf': 3, 'model__min_impurity_decrease': 5, 'model__max_leaf_nodes': 2, 'model__max_features': 5, 'model__max_depth': 10, 'model__criterion': 'squared_error', 'model__ccp_alpha': 1}\n",
      "0.138 (+/-0.023) for {'model__splitter': 'random', 'model__min_weight_fraction_leaf': 0.2, 'model__min_samples_split': 2, 'model__min_samples_leaf': 2, 'model__min_impurity_decrease': 1, 'model__max_leaf_nodes': 2, 'model__max_features': 20, 'model__max_depth': 5, 'model__criterion': 'absolute_error', 'model__ccp_alpha': 1}\n",
      "0.201 (+/-0.079) for {'model__splitter': 'random', 'model__min_weight_fraction_leaf': 0.1, 'model__min_samples_split': 2, 'model__min_samples_leaf': 2, 'model__min_impurity_decrease': 1, 'model__max_leaf_nodes': 10, 'model__max_features': 7, 'model__max_depth': 10, 'model__criterion': 'absolute_error', 'model__ccp_alpha': 100}\n",
      "0.093 (+/-0.12) for {'model__splitter': 'best', 'model__min_weight_fraction_leaf': 0.2, 'model__min_samples_split': 5, 'model__min_samples_leaf': 1, 'model__min_impurity_decrease': 1, 'model__max_leaf_nodes': 2, 'model__max_features': 3, 'model__max_depth': 5, 'model__criterion': 'poisson', 'model__ccp_alpha': 0.1}\n",
      "0.136 (+/-0.005) for {'model__splitter': 'random', 'model__min_weight_fraction_leaf': 0.3, 'model__min_samples_split': 2, 'model__min_samples_leaf': 3, 'model__min_impurity_decrease': 2, 'model__max_leaf_nodes': 3, 'model__max_features': 10, 'model__max_depth': 5, 'model__criterion': 'poisson', 'model__ccp_alpha': 100}\n",
      "0.046 (+/-0.13) for {'model__splitter': 'random', 'model__min_weight_fraction_leaf': 0.3, 'model__min_samples_split': 2, 'model__min_samples_leaf': 3, 'model__min_impurity_decrease': 3, 'model__max_leaf_nodes': 5, 'model__max_features': 2, 'model__max_depth': 2, 'model__criterion': 'poisson', 'model__ccp_alpha': 0}\n",
      "0.046 (+/-0.13) for {'model__splitter': 'random', 'model__min_weight_fraction_leaf': 0.2, 'model__min_samples_split': 10, 'model__min_samples_leaf': 3, 'model__min_impurity_decrease': 3, 'model__max_leaf_nodes': 20, 'model__max_features': 2, 'model__max_depth': 5, 'model__criterion': 'friedman_mse', 'model__ccp_alpha': 0.1}\n",
      "0.149 (+/-0.008) for {'model__splitter': 'best', 'model__min_weight_fraction_leaf': 0.3, 'model__min_samples_split': 10, 'model__min_samples_leaf': 1, 'model__min_impurity_decrease': 1, 'model__max_leaf_nodes': 2, 'model__max_features': 10, 'model__max_depth': 10, 'model__criterion': 'squared_error', 'model__ccp_alpha': 0.1}\n",
      "0.22 (+/-0.011) for {'model__splitter': 'best', 'model__min_weight_fraction_leaf': 0.3, 'model__min_samples_split': 3, 'model__min_samples_leaf': 5, 'model__min_impurity_decrease': 3, 'model__max_leaf_nodes': 20, 'model__max_features': 20, 'model__max_depth': None, 'model__criterion': 'squared_error', 'model__ccp_alpha': 1000}\n",
      "0.044 (+/-0.124) for {'model__splitter': 'random', 'model__min_weight_fraction_leaf': 0.3, 'model__min_samples_split': 2, 'model__min_samples_leaf': 3, 'model__min_impurity_decrease': 1, 'model__max_leaf_nodes': 5, 'model__max_features': 5, 'model__max_depth': 10, 'model__criterion': 'absolute_error', 'model__ccp_alpha': 0.001}\n",
      "0.15 (+/-0.012) for {'model__splitter': 'best', 'model__min_weight_fraction_leaf': 0.3, 'model__min_samples_split': 3, 'model__min_samples_leaf': 2, 'model__min_impurity_decrease': 5, 'model__max_leaf_nodes': 3, 'model__max_features': 3, 'model__max_depth': 10, 'model__criterion': 'squared_error', 'model__ccp_alpha': 1}\n",
      "0.051 (+/-0.143) for {'model__splitter': 'best', 'model__min_weight_fraction_leaf': 0.3, 'model__min_samples_split': 2, 'model__min_samples_leaf': 2, 'model__min_impurity_decrease': 3, 'model__max_leaf_nodes': 3, 'model__max_features': 1, 'model__max_depth': 20, 'model__criterion': 'friedman_mse', 'model__ccp_alpha': 10}\n",
      "-0.0 (+/-0.0) for {'model__splitter': 'random', 'model__min_weight_fraction_leaf': 0.3, 'model__min_samples_split': 3, 'model__min_samples_leaf': 2, 'model__min_impurity_decrease': 0, 'model__max_leaf_nodes': 3, 'model__max_features': 1, 'model__max_depth': 5, 'model__criterion': 'friedman_mse', 'model__ccp_alpha': 0.01}\n",
      "0.138 (+/-0.023) for {'model__splitter': 'best', 'model__min_weight_fraction_leaf': 0.2, 'model__min_samples_split': 2, 'model__min_samples_leaf': 3, 'model__min_impurity_decrease': 0, 'model__max_leaf_nodes': 2, 'model__max_features': 1, 'model__max_depth': None, 'model__criterion': 'absolute_error', 'model__ccp_alpha': 0.1}\n",
      "nan (+/-nan) for {'model__splitter': 'random', 'model__min_weight_fraction_leaf': 0.2, 'model__min_samples_split': 10, 'model__min_samples_leaf': 2, 'model__min_impurity_decrease': None, 'model__max_leaf_nodes': 10, 'model__max_features': 3, 'model__max_depth': 10, 'model__criterion': 'poisson', 'model__ccp_alpha': 0.01}\n",
      "-0.0 (+/-0.0) for {'model__splitter': 'random', 'model__min_weight_fraction_leaf': 0.5, 'model__min_samples_split': 10, 'model__min_samples_leaf': 2, 'model__min_impurity_decrease': 2, 'model__max_leaf_nodes': 20, 'model__max_features': 5, 'model__max_depth': 1, 'model__criterion': 'squared_error', 'model__ccp_alpha': 10}\n",
      "0.193 (+/-0.077) for {'model__splitter': 'random', 'model__min_weight_fraction_leaf': 0.2, 'model__min_samples_split': 2, 'model__min_samples_leaf': 2, 'model__min_impurity_decrease': 2, 'model__max_leaf_nodes': 3, 'model__max_features': 20, 'model__max_depth': 2, 'model__criterion': 'poisson', 'model__ccp_alpha': 10}\n",
      "0.222 (+/-0.008) for {'model__splitter': 'best', 'model__min_weight_fraction_leaf': 0.1, 'model__min_samples_split': 5, 'model__min_samples_leaf': 2, 'model__min_impurity_decrease': 1, 'model__max_leaf_nodes': 3, 'model__max_features': 20, 'model__max_depth': 10, 'model__criterion': 'friedman_mse', 'model__ccp_alpha': 0.001}\n",
      "0.089 (+/-0.115) for {'model__splitter': 'best', 'model__min_weight_fraction_leaf': 0.2, 'model__min_samples_split': 5, 'model__min_samples_leaf': 5, 'model__min_impurity_decrease': 5, 'model__max_leaf_nodes': 2, 'model__max_features': 2, 'model__max_depth': 1, 'model__criterion': 'squared_error', 'model__ccp_alpha': 10}\n",
      "0.001 (+/-0.004) for {'model__splitter': 'random', 'model__min_weight_fraction_leaf': 0.2, 'model__min_samples_split': 2, 'model__min_samples_leaf': 5, 'model__min_impurity_decrease': 2, 'model__max_leaf_nodes': 10, 'model__max_features': 1, 'model__max_depth': 2, 'model__criterion': 'poisson', 'model__ccp_alpha': 10}\n",
      "0.14 (+/-0.015) for {'model__splitter': 'random', 'model__min_weight_fraction_leaf': 0.2, 'model__min_samples_split': 3, 'model__min_samples_leaf': 5, 'model__min_impurity_decrease': 0, 'model__max_leaf_nodes': 2, 'model__max_features': 20, 'model__max_depth': None, 'model__criterion': 'poisson', 'model__ccp_alpha': 0.001}\n",
      "nan (+/-nan) for {'model__splitter': 'best', 'model__min_weight_fraction_leaf': 0.2, 'model__min_samples_split': 10, 'model__min_samples_leaf': 1, 'model__min_impurity_decrease': None, 'model__max_leaf_nodes': 10, 'model__max_features': 1, 'model__max_depth': None, 'model__criterion': 'squared_error', 'model__ccp_alpha': 0.01}\n",
      "-0.0 (+/-0.0) for {'model__splitter': 'random', 'model__min_weight_fraction_leaf': 0.5, 'model__min_samples_split': 3, 'model__min_samples_leaf': 1, 'model__min_impurity_decrease': 3, 'model__max_leaf_nodes': 5, 'model__max_features': 1, 'model__max_depth': 2, 'model__criterion': 'absolute_error', 'model__ccp_alpha': 0}\n",
      "0.043 (+/-0.122) for {'model__splitter': 'random', 'model__min_weight_fraction_leaf': 0.2, 'model__min_samples_split': 10, 'model__min_samples_leaf': 3, 'model__min_impurity_decrease': 0, 'model__max_leaf_nodes': 20, 'model__max_features': 1, 'model__max_depth': None, 'model__criterion': 'absolute_error', 'model__ccp_alpha': 1000}\n",
      "0.277 (+/-0.016) for {'model__splitter': 'best', 'model__min_weight_fraction_leaf': 0.1, 'model__min_samples_split': 2, 'model__min_samples_leaf': 3, 'model__min_impurity_decrease': 1, 'model__max_leaf_nodes': 20, 'model__max_features': 10, 'model__max_depth': 5, 'model__criterion': 'friedman_mse', 'model__ccp_alpha': 1}\n",
      "0.048 (+/-0.12) for {'model__splitter': 'random', 'model__min_weight_fraction_leaf': 0.2, 'model__min_samples_split': 2, 'model__min_samples_leaf': 5, 'model__min_impurity_decrease': 2, 'model__max_leaf_nodes': 3, 'model__max_features': 2, 'model__max_depth': 2, 'model__criterion': 'squared_error', 'model__ccp_alpha': 0.01}\n",
      "0.222 (+/-0.008) for {'model__splitter': 'best', 'model__min_weight_fraction_leaf': 0.2, 'model__min_samples_split': 5, 'model__min_samples_leaf': 3, 'model__min_impurity_decrease': 1, 'model__max_leaf_nodes': 5, 'model__max_features': 20, 'model__max_depth': 2, 'model__criterion': 'friedman_mse', 'model__ccp_alpha': 1000}\n",
      "0.006 (+/-0.009) for {'model__splitter': 'random', 'model__min_weight_fraction_leaf': 0.3, 'model__min_samples_split': 5, 'model__min_samples_leaf': 5, 'model__min_impurity_decrease': 5, 'model__max_leaf_nodes': 2, 'model__max_features': 2, 'model__max_depth': 3, 'model__criterion': 'squared_error', 'model__ccp_alpha': 0}\n",
      "nan (+/-nan) for {'model__splitter': 'random', 'model__min_weight_fraction_leaf': 0.3, 'model__min_samples_split': 2, 'model__min_samples_leaf': 2, 'model__min_impurity_decrease': None, 'model__max_leaf_nodes': 5, 'model__max_features': 3, 'model__max_depth': 10, 'model__criterion': 'absolute_error', 'model__ccp_alpha': 0.01}\n",
      "nan (+/-nan) for {'model__splitter': 'best', 'model__min_weight_fraction_leaf': 0.2, 'model__min_samples_split': 3, 'model__min_samples_leaf': 2, 'model__min_impurity_decrease': None, 'model__max_leaf_nodes': 20, 'model__max_features': 3, 'model__max_depth': 1, 'model__criterion': 'poisson', 'model__ccp_alpha': 10}\n",
      "0.164 (+/-0.03) for {'model__splitter': 'random', 'model__min_weight_fraction_leaf': 0.1, 'model__min_samples_split': 5, 'model__min_samples_leaf': 2, 'model__min_impurity_decrease': 2, 'model__max_leaf_nodes': 3, 'model__max_features': 2, 'model__max_depth': 10, 'model__criterion': 'poisson', 'model__ccp_alpha': 0.001}\n",
      "0.004 (+/-0.006) for {'model__splitter': 'best', 'model__min_weight_fraction_leaf': 0.5, 'model__min_samples_split': 3, 'model__min_samples_leaf': 1, 'model__min_impurity_decrease': 1, 'model__max_leaf_nodes': 5, 'model__max_features': 5, 'model__max_depth': None, 'model__criterion': 'poisson', 'model__ccp_alpha': 1}\n",
      "0.004 (+/-0.005) for {'model__splitter': 'best', 'model__min_weight_fraction_leaf': 0.5, 'model__min_samples_split': 2, 'model__min_samples_leaf': 2, 'model__min_impurity_decrease': 1, 'model__max_leaf_nodes': 20, 'model__max_features': 5, 'model__max_depth': None, 'model__criterion': 'friedman_mse', 'model__ccp_alpha': 10}\n",
      "0.131 (+/-0.178) for {'model__splitter': 'best', 'model__min_weight_fraction_leaf': 0.3, 'model__min_samples_split': 2, 'model__min_samples_leaf': 1, 'model__min_impurity_decrease': 2, 'model__max_leaf_nodes': 5, 'model__max_features': 7, 'model__max_depth': 2, 'model__criterion': 'squared_error', 'model__ccp_alpha': 10}\n",
      "0.003 (+/-0.006) for {'model__splitter': 'best', 'model__min_weight_fraction_leaf': 0.5, 'model__min_samples_split': 10, 'model__min_samples_leaf': 1, 'model__min_impurity_decrease': 0, 'model__max_leaf_nodes': 2, 'model__max_features': 3, 'model__max_depth': None, 'model__criterion': 'poisson', 'model__ccp_alpha': 0.1}\n",
      "nan (+/-nan) for {'model__splitter': 'random', 'model__min_weight_fraction_leaf': 0.1, 'model__min_samples_split': 3, 'model__min_samples_leaf': 2, 'model__min_impurity_decrease': None, 'model__max_leaf_nodes': 10, 'model__max_features': 10, 'model__max_depth': 3, 'model__criterion': 'absolute_error', 'model__ccp_alpha': 10}\n",
      "0.001 (+/-0.001) for {'model__splitter': 'best', 'model__min_weight_fraction_leaf': 0.3, 'model__min_samples_split': 2, 'model__min_samples_leaf': 1, 'model__min_impurity_decrease': 3, 'model__max_leaf_nodes': 2, 'model__max_features': 1, 'model__max_depth': 1, 'model__criterion': 'poisson', 'model__ccp_alpha': 10}\n",
      "0.12 (+/-0.153) for {'model__splitter': 'random', 'model__min_weight_fraction_leaf': 0.1, 'model__min_samples_split': 3, 'model__min_samples_leaf': 5, 'model__min_impurity_decrease': 3, 'model__max_leaf_nodes': 10, 'model__max_features': 1, 'model__max_depth': 10, 'model__criterion': 'absolute_error', 'model__ccp_alpha': 10}\n",
      "0.22 (+/-0.011) for {'model__splitter': 'best', 'model__min_weight_fraction_leaf': 0.3, 'model__min_samples_split': 5, 'model__min_samples_leaf': 2, 'model__min_impurity_decrease': 1, 'model__max_leaf_nodes': 20, 'model__max_features': 10, 'model__max_depth': 5, 'model__criterion': 'friedman_mse', 'model__ccp_alpha': 100}\n",
      "-0.0 (+/-0.0) for {'model__splitter': 'random', 'model__min_weight_fraction_leaf': 0.5, 'model__min_samples_split': 3, 'model__min_samples_leaf': 3, 'model__min_impurity_decrease': 2, 'model__max_leaf_nodes': 2, 'model__max_features': 2, 'model__max_depth': None, 'model__criterion': 'friedman_mse', 'model__ccp_alpha': 0.1}\n",
      "nan (+/-nan) for {'model__splitter': 'best', 'model__min_weight_fraction_leaf': 0.5, 'model__min_samples_split': 2, 'model__min_samples_leaf': 1, 'model__min_impurity_decrease': None, 'model__max_leaf_nodes': 10, 'model__max_features': 1, 'model__max_depth': 10, 'model__criterion': 'squared_error', 'model__ccp_alpha': 100}\n",
      "0.165 (+/-0.115) for {'model__splitter': 'best', 'model__min_weight_fraction_leaf': 0.1, 'model__min_samples_split': 10, 'model__min_samples_leaf': 5, 'model__min_impurity_decrease': 0, 'model__max_leaf_nodes': 20, 'model__max_features': 2, 'model__max_depth': 2, 'model__criterion': 'friedman_mse', 'model__ccp_alpha': 1}\n",
      "nan (+/-nan) for {'model__splitter': 'random', 'model__min_weight_fraction_leaf': 0.5, 'model__min_samples_split': 2, 'model__min_samples_leaf': 5, 'model__min_impurity_decrease': None, 'model__max_leaf_nodes': 3, 'model__max_features': 2, 'model__max_depth': 3, 'model__criterion': 'poisson', 'model__ccp_alpha': 100}\n",
      "0.053 (+/-0.134) for {'model__splitter': 'best', 'model__min_weight_fraction_leaf': 0.3, 'model__min_samples_split': 5, 'model__min_samples_leaf': 5, 'model__min_impurity_decrease': 1, 'model__max_leaf_nodes': 10, 'model__max_features': 1, 'model__max_depth': 1, 'model__criterion': 'absolute_error', 'model__ccp_alpha': 0.1}\n",
      "Best Index:  157\n",
      "Best Score:  0.27652749944769045\n",
      "Best Params:  {'model__splitter': 'best', 'model__min_weight_fraction_leaf': 0.1, 'model__min_samples_split': 3, 'model__min_samples_leaf': 5, 'model__min_impurity_decrease': 5, 'model__max_leaf_nodes': 10, 'model__max_features': 20, 'model__max_depth': 20, 'model__criterion': 'squared_error', 'model__ccp_alpha': 100}\n"
     ]
    }
   ],
   "source": [
    "def print_results(results):\n",
    "    print(f'BEST PARAMS: {results.best_params_}')\n",
    "\n",
    "    means = results.cv_results_['mean_test_score']\n",
    "    stds = results.cv_results_['std_test_score']\n",
    "    for mean, std, params in zip(means, stds, results.cv_results_['params']):\n",
    "        print(f'{round(mean, 3)} (+/-{round(std * 2, 3)}) for {params}')\n",
    "\n",
    "\n",
    "print_results(grid_result)\n",
    "print('Best Index: ', grid_result.best_index_)\n",
    "print('Best Score: ', grid_result.best_score_)\n",
    "print('Best Params: ', grid_result.best_params_)\n",
    "#print('Best Model: ', grid_result.)\n",
    "#print('Best Params: ', grid_result.best_params_)[out]\n",
    "### Best Score:  0.4883436188936269\n",
    "### Best Params:  {'alpha': 0.01}\n"
   ],
   "metadata": {
    "collapsed": false
   }
  },
  {
   "cell_type": "code",
   "execution_count": 98,
   "outputs": [],
   "source": [],
   "metadata": {
    "collapsed": false
   }
  },
  {
   "cell_type": "code",
   "execution_count": 99,
   "metadata": {},
   "outputs": [],
   "source": [
    "y_pred = pipe.predict(X_test)"
   ]
  },
  {
   "cell_type": "code",
   "execution_count": 100,
   "metadata": {},
   "outputs": [
    {
     "name": "stdout",
     "output_type": "stream",
     "text": [
      "----------Decision Tree----------\n",
      "R square Accuracy 0.27728988246800357\n",
      "Mean Absolute Error Accuracy 74554.95855918912\n",
      "Mean Squared Error Accuracy 8269820617.092809\n",
      "Root Mean Squared Error 90938.55407412638\n"
     ]
    }
   ],
   "source": [
    "from sklearn.metrics import r2_score, mean_absolute_error, mean_squared_error\n",
    "\n",
    "y_pred = y_pred.reshape((-1, 1))\n",
    "\n",
    "R2 = r2_score(y_test, y_pred)\n",
    "MAE = mean_absolute_error(y_test, y_pred)\n",
    "MSE = mean_squared_error(y_test, y_pred)\n",
    "RMSE = math.sqrt(MSE)\n",
    "print('-' * 10 + ALGORITHM + '-' * 10)\n",
    "print('R square Accuracy', R2)\n",
    "print('Mean Absolute Error Accuracy', MAE)\n",
    "print('Mean Squared Error Accuracy', MSE)\n",
    "print('Root Mean Squared Error', RMSE)"
   ]
  },
  {
   "cell_type": "code",
   "execution_count": 101,
   "metadata": {},
   "outputs": [],
   "source": [
    "if debug_mode:\n",
    "    print(y_test_index.reshape((-1, 1)).shape);\n",
    "    print(y_pred.reshape((-1, 1)).shape);\n",
    "    print(y_test.shape);\n",
    "    print(y_test_index.shape);\n",
    "    print(y_pred.shape);\n",
    "    print(y_test.shape)"
   ]
  },
  {
   "cell_type": "code",
   "execution_count": 102,
   "metadata": {},
   "outputs": [
    {
     "data": {
      "text/plain": "               actual      predicted     difference   diff 1 %   diff 2 %\nreference                                                                \n124597034.0  285000.0  350371.100945   65371.100945  22.937228  18.657675\n82883871.0   500000.0  511432.481697   11432.481697   2.286496   2.235384\n123298382.0  435000.0  406065.558915   28934.441085   6.651596   7.125559\n119192408.0  300000.0  383172.979763   83172.979763  27.724327  21.706379\n116845355.0  600000.0  487015.483829  112984.516171  18.830753  23.199368\n...               ...            ...            ...        ...        ...\n123467048.0  449950.0  403490.787198   46459.212802  10.325417  11.514318\n114663482.0  375000.0  403490.787198   28490.787198   7.597543   7.061075\n123013478.0  500000.0  383172.979763  116827.020237  23.365404  30.489368\n114664010.0  400000.0  464571.771325   64571.771325  16.142943  13.899203\n125128607.0  350000.0  406065.558915   56065.558915  16.018731  13.807021\n\n[4467 rows x 5 columns]",
      "text/html": "<div>\n<style scoped>\n    .dataframe tbody tr th:only-of-type {\n        vertical-align: middle;\n    }\n\n    .dataframe tbody tr th {\n        vertical-align: top;\n    }\n\n    .dataframe thead th {\n        text-align: right;\n    }\n</style>\n<table border=\"1\" class=\"dataframe\">\n  <thead>\n    <tr style=\"text-align: right;\">\n      <th></th>\n      <th>actual</th>\n      <th>predicted</th>\n      <th>difference</th>\n      <th>diff 1 %</th>\n      <th>diff 2 %</th>\n    </tr>\n    <tr>\n      <th>reference</th>\n      <th></th>\n      <th></th>\n      <th></th>\n      <th></th>\n      <th></th>\n    </tr>\n  </thead>\n  <tbody>\n    <tr>\n      <th>124597034.0</th>\n      <td>285000.0</td>\n      <td>350371.100945</td>\n      <td>65371.100945</td>\n      <td>22.937228</td>\n      <td>18.657675</td>\n    </tr>\n    <tr>\n      <th>82883871.0</th>\n      <td>500000.0</td>\n      <td>511432.481697</td>\n      <td>11432.481697</td>\n      <td>2.286496</td>\n      <td>2.235384</td>\n    </tr>\n    <tr>\n      <th>123298382.0</th>\n      <td>435000.0</td>\n      <td>406065.558915</td>\n      <td>28934.441085</td>\n      <td>6.651596</td>\n      <td>7.125559</td>\n    </tr>\n    <tr>\n      <th>119192408.0</th>\n      <td>300000.0</td>\n      <td>383172.979763</td>\n      <td>83172.979763</td>\n      <td>27.724327</td>\n      <td>21.706379</td>\n    </tr>\n    <tr>\n      <th>116845355.0</th>\n      <td>600000.0</td>\n      <td>487015.483829</td>\n      <td>112984.516171</td>\n      <td>18.830753</td>\n      <td>23.199368</td>\n    </tr>\n    <tr>\n      <th>...</th>\n      <td>...</td>\n      <td>...</td>\n      <td>...</td>\n      <td>...</td>\n      <td>...</td>\n    </tr>\n    <tr>\n      <th>123467048.0</th>\n      <td>449950.0</td>\n      <td>403490.787198</td>\n      <td>46459.212802</td>\n      <td>10.325417</td>\n      <td>11.514318</td>\n    </tr>\n    <tr>\n      <th>114663482.0</th>\n      <td>375000.0</td>\n      <td>403490.787198</td>\n      <td>28490.787198</td>\n      <td>7.597543</td>\n      <td>7.061075</td>\n    </tr>\n    <tr>\n      <th>123013478.0</th>\n      <td>500000.0</td>\n      <td>383172.979763</td>\n      <td>116827.020237</td>\n      <td>23.365404</td>\n      <td>30.489368</td>\n    </tr>\n    <tr>\n      <th>114664010.0</th>\n      <td>400000.0</td>\n      <td>464571.771325</td>\n      <td>64571.771325</td>\n      <td>16.142943</td>\n      <td>13.899203</td>\n    </tr>\n    <tr>\n      <th>125128607.0</th>\n      <td>350000.0</td>\n      <td>406065.558915</td>\n      <td>56065.558915</td>\n      <td>16.018731</td>\n      <td>13.807021</td>\n    </tr>\n  </tbody>\n</table>\n<p>4467 rows × 5 columns</p>\n</div>"
     },
     "execution_count": 102,
     "metadata": {},
     "output_type": "execute_result"
    }
   ],
   "source": [
    "compare = np.hstack((y_test_index, y_test, y_pred))\n",
    "compare_df = DataFrame(compare, columns=['reference', 'actual', 'predicted'])\n",
    "compare_df['difference'] = abs(compare_df['actual'] - compare_df['predicted'])\n",
    "compare_df['diff 1 %'] = abs((compare_df['actual'] - compare_df['predicted']) / compare_df['actual'] * 100)\n",
    "compare_df['diff 2 %'] = abs((compare_df['actual'] - compare_df['predicted']) / compare_df['predicted']) * 100\n",
    "compare_df['reference'] = compare_df['reference'].astype(str)\n",
    "compare_df.set_index('reference', inplace=True)\n",
    "compare_df"
   ]
  },
  {
   "cell_type": "code",
   "execution_count": 103,
   "metadata": {},
   "outputs": [
    {
     "data": {
      "text/plain": "Empty DataFrame\nColumns: [actual, predicted, difference, diff 1 %, diff 2 %, Price, location.latitude, location.longitude, bedrooms, bathrooms, nearestStation, tenure.tenureType]\nIndex: []",
      "text/html": "<div>\n<style scoped>\n    .dataframe tbody tr th:only-of-type {\n        vertical-align: middle;\n    }\n\n    .dataframe tbody tr th {\n        vertical-align: top;\n    }\n\n    .dataframe thead th {\n        text-align: right;\n    }\n</style>\n<table border=\"1\" class=\"dataframe\">\n  <thead>\n    <tr style=\"text-align: right;\">\n      <th></th>\n      <th>actual</th>\n      <th>predicted</th>\n      <th>difference</th>\n      <th>diff 1 %</th>\n      <th>diff 2 %</th>\n      <th>Price</th>\n      <th>location.latitude</th>\n      <th>location.longitude</th>\n      <th>bedrooms</th>\n      <th>bathrooms</th>\n      <th>nearestStation</th>\n      <th>tenure.tenureType</th>\n    </tr>\n  </thead>\n  <tbody>\n  </tbody>\n</table>\n</div>"
     },
     "execution_count": 103,
     "metadata": {},
     "output_type": "execute_result"
    }
   ],
   "source": [
    "compare_df.merge(df[columns], how='inner', left_index=True, right_index=True).sort_values(['diff 1 %'], ascending=False)"
   ]
  },
  {
   "cell_type": "code",
   "execution_count": 104,
   "metadata": {},
   "outputs": [
    {
     "data": {
      "text/plain": "0.27728988246800357"
     },
     "execution_count": 104,
     "metadata": {},
     "output_type": "execute_result"
    }
   ],
   "source": [
    "score = pipe.score(X_test, y_test)\n",
    "score"
   ]
  },
  {
   "cell_type": "code",
   "execution_count": 105,
   "metadata": {},
   "outputs": [
    {
     "data": {
      "text/plain": "0.27728988246800357"
     },
     "execution_count": 105,
     "metadata": {},
     "output_type": "execute_result"
    }
   ],
   "source": [
    "from sklearn.metrics import r2_score\n",
    "\n",
    "r2_score(y_test, y_pred)"
   ]
  },
  {
   "cell_type": "code",
   "execution_count": 106,
   "metadata": {},
   "outputs": [
    {
     "data": {
      "text/plain": "<Figure size 640x480 with 1 Axes>",
      "image/png": "[encoded data removed]"
     },
     "metadata": {},
     "output_type": "display_data"
    }
   ],
   "source": [
    "import matplotlib.pyplot as plt\n",
    "\n",
    "fig, ax = plt.subplots()\n",
    "ax.scatter(y_test, pipe.predict(X_test), edgecolors=(0, 0, 1))\n",
    "ax.plot([y_test.min(), y_test.max()], [y_test.min(), y_test.max()], 'r--', lw=3)\n",
    "ax.set_ylabel('Predicted')\n",
    "ax.set_xlabel('Actual')\n",
    "#ax.title.set_text(f'CV Chosen best option ({calculated_best_pipe[1]})')\n",
    "plt.show()"
   ]
  },
  {
   "cell_type": "code",
   "execution_count": 112,
   "outputs": [],
   "source": [],
   "metadata": {
    "collapsed": false
   }
  },
  {
   "cell_type": "code",
   "execution_count": 118,
   "outputs": [
    {
     "name": "stderr",
     "output_type": "stream",
     "text": [
      "/snap/pycharm-professional/302/plugins/python/helpers/pydev/_pydevd_bundle/pydevd_utils.py:606: FutureWarning: iteritems is deprecated and will be removed in a future version. Use .items instead.\n",
      "  for item in s.iteritems():\n",
      "/snap/pycharm-professional/302/plugins/python/helpers/pydev/_pydevd_bundle/pydevd_utils.py:606: FutureWarning: iteritems is deprecated and will be removed in a future version. Use .items instead.\n",
      "  for item in s.iteritems():\n",
      "/snap/pycharm-professional/302/plugins/python/helpers/pydev/_pydevd_bundle/pydevd_utils.py:606: FutureWarning: iteritems is deprecated and will be removed in a future version. Use .items instead.\n",
      "  for item in s.iteritems():\n",
      "/snap/pycharm-professional/302/plugins/python/helpers/pydev/_pydevd_bundle/pydevd_utils.py:606: FutureWarning: iteritems is deprecated and will be removed in a future version. Use .items instead.\n",
      "  for item in s.iteritems():\n",
      "/snap/pycharm-professional/302/plugins/python/helpers/pydev/_pydevd_bundle/pydevd_utils.py:606: FutureWarning: iteritems is deprecated and will be removed in a future version. Use .items instead.\n",
      "  for item in s.iteritems():\n",
      "/snap/pycharm-professional/302/plugins/python/helpers/pydev/_pydevd_bundle/pydevd_utils.py:606: FutureWarning: iteritems is deprecated and will be removed in a future version. Use .items instead.\n",
      "  for item in s.iteritems():\n",
      "/snap/pycharm-professional/302/plugins/python/helpers/pydev/_pydevd_bundle/pydevd_utils.py:606: FutureWarning: iteritems is deprecated and will be removed in a future version. Use .items instead.\n",
      "  for item in s.iteritems():\n",
      "/snap/pycharm-professional/302/plugins/python/helpers/pydev/_pydevd_bundle/pydevd_utils.py:606: FutureWarning: iteritems is deprecated and will be removed in a future version. Use .items instead.\n",
      "  for item in s.iteritems():\n"
     ]
    },
    {
     "ename": "AttributeError",
     "evalue": "'tuple' object has no attribute 'grid_searches'",
     "output_type": "error",
     "traceback": [
      "\u001B[0;31m---------------------------------------------------------------------------\u001B[0m",
      "\u001B[0;31mAttributeError\u001B[0m                            Traceback (most recent call last)",
      "Cell \u001B[0;32mIn [118], line 4\u001B[0m\n\u001B[1;32m      1\u001B[0m \u001B[38;5;66;03m# pydev_debug_cell\u001B[39;00m\n\u001B[1;32m      2\u001B[0m \u001B[38;5;28;01mimport\u001B[39;00m \u001B[38;5;21;01mseaborn\u001B[39;00m \u001B[38;5;28;01mas\u001B[39;00m \u001B[38;5;21;01msns\u001B[39;00m\n\u001B[0;32m----> 4\u001B[0m score_summary \u001B[38;5;241m=\u001B[39m score_summary(\u001B[38;5;28mself\u001B[39m\u001B[38;5;241m=\u001B[39mgs, sort_by\u001B[38;5;241m=\u001B[39m\u001B[38;5;124m'\u001B[39m\u001B[38;5;124mmax_score\u001B[39m\u001B[38;5;124m'\u001B[39m)\n",
      "Cell \u001B[0;32mIn [112], line 14\u001B[0m, in \u001B[0;36mscore_summary\u001B[0;34m(self, sort_by)\u001B[0m\n\u001B[1;32m     11\u001B[0m     \u001B[38;5;28;01mreturn\u001B[39;00m pd\u001B[38;5;241m.\u001B[39mSeries({\u001B[38;5;241m*\u001B[39m\u001B[38;5;241m*\u001B[39mparams, \u001B[38;5;241m*\u001B[39m\u001B[38;5;241m*\u001B[39md, \u001B[38;5;241m*\u001B[39m\u001B[38;5;241m*\u001B[39m{\u001B[38;5;124m'\u001B[39m\u001B[38;5;124mparams_full\u001B[39m\u001B[38;5;124m'\u001B[39m: \u001B[38;5;28mstr\u001B[39m(params)}})\n\u001B[1;32m     13\u001B[0m rows \u001B[38;5;241m=\u001B[39m []\n\u001B[0;32m---> 14\u001B[0m \u001B[38;5;28;01mfor\u001B[39;00m k \u001B[38;5;129;01min\u001B[39;00m \u001B[38;5;28;43mself\u001B[39;49m\u001B[38;5;241;43m.\u001B[39;49m\u001B[43mgrid_searches\u001B[49m:\n\u001B[1;32m     15\u001B[0m     \u001B[38;5;28mprint\u001B[39m(k)\n\u001B[1;32m     16\u001B[0m     params \u001B[38;5;241m=\u001B[39m \u001B[38;5;28mself\u001B[39m\u001B[38;5;241m.\u001B[39mgrid_searches[k]\u001B[38;5;241m.\u001B[39mcv_results_[\u001B[38;5;124m'\u001B[39m\u001B[38;5;124mparams\u001B[39m\u001B[38;5;124m'\u001B[39m]\n",
      "\u001B[0;31mAttributeError\u001B[0m: 'tuple' object has no attribute 'grid_searches'"
     ]
    }
   ],
   "source": [
    "def score_summary(self, sort_by='mean_score'):\n",
    "    def row(key, scores, params):\n",
    "        d = {\n",
    "            'estimator': key,\n",
    "            'min_score': min(scores),\n",
    "            'max_score': max(scores),\n",
    "            'mean_score': np.mean(scores),\n",
    "            'std_score': np.std(scores),\n",
    "        }\n",
    "        #return pd.Series({**params, **d})\n",
    "        return pd.Series({**params, **d, **{'params_full': str(params)}})\n",
    "\n",
    "    rows = []\n",
    "    for k in self.grid_searches:\n",
    "        print(k)\n",
    "        params = self.grid_searches[k].cv_results_['params']\n",
    "        scores = []\n",
    "        for i in range(self.grid_searches[k].cv):\n",
    "            key = \"split{}_test_score\".format(i)\n",
    "            r = self.grid_searches[k].cv_results_[key]\n",
    "            scores.append(r.reshape(len(params), 1))\n",
    "\n",
    "        all_scores = np.hstack(scores)\n",
    "        for p, s in zip(params, all_scores):\n",
    "            rows.append((row(k, s, p)))\n",
    "\n",
    "    df = pd.concat(rows, axis=1).T.sort_values([sort_by], ascending=False)\n",
    "\n",
    "    columns = ['estimator', 'min_score', 'mean_score', 'max_score', 'std_score']\n",
    "    columns = columns + [c for c in df.columns if c not in columns]\n",
    "\n",
    "    return df[columns]\n",
    "\n",
    "import seaborn as sns\n",
    "\n",
    "score_summary = score_summary(self=gs, sort_by='max_score')"
   ],
   "metadata": {
    "collapsed": false
   }
  },
  {
   "cell_type": "code",
   "execution_count": 110,
   "outputs": [
    {
     "ename": "NameError",
     "evalue": "name 'score_summary' is not defined",
     "output_type": "error",
     "traceback": [
      "\u001B[0;31m---------------------------------------------------------------------------\u001B[0m",
      "\u001B[0;31mNameError\u001B[0m                                 Traceback (most recent call last)",
      "Cell \u001B[0;32mIn [110], line 3\u001B[0m\n\u001B[1;32m      1\u001B[0m \u001B[38;5;28;01mimport\u001B[39;00m \u001B[38;5;21;01mseaborn\u001B[39;00m \u001B[38;5;28;01mas\u001B[39;00m \u001B[38;5;21;01msns\u001B[39;00m\n\u001B[0;32m----> 3\u001B[0m score_summary \u001B[38;5;241m=\u001B[39m score_summary(gs, sort_by\u001B[38;5;241m=\u001B[39m\u001B[38;5;124m'\u001B[39m\u001B[38;5;124mmax_score\u001B[39m\u001B[38;5;124m'\u001B[39m)\n\u001B[1;32m      5\u001B[0m \u001B[38;5;28;01mif\u001B[39;00m \u001B[38;5;28;01mTrue\u001B[39;00m:\n\u001B[1;32m      6\u001B[0m     \u001B[38;5;66;03m#sns.set(rc={\"figure.figsize\": (10, 10)})\u001B[39;00m\n\u001B[1;32m      7\u001B[0m     sns\u001B[38;5;241m.\u001B[39mset_theme(font_scale\u001B[38;5;241m=\u001B[39m\u001B[38;5;241m2\u001B[39m, rc\u001B[38;5;241m=\u001B[39m\u001B[38;5;28;01mNone\u001B[39;00m)\n",
      "\u001B[0;31mNameError\u001B[0m: name 'score_summary' is not defined"
     ]
    }
   ],
   "source": [
    "\n",
    "if True:\n",
    "    #sns.set(rc={\"figure.figsize\": (10, 10)})\n",
    "    sns.set_theme(font_scale=2, rc=None)\n",
    "    sns.set_theme(font_scale=1, rc=None)\n",
    "\n",
    "    #total_graphs = len(score_summary)\n",
    "    # max_horizontal = 4\n",
    "    # index2 = 0\n",
    "    # resultant_rows = math.ceil(total_graphs / max_horizontal)\n",
    "    # #subplots_adjust()\n",
    "    #\n",
    "    # #fig, axes = plt.subplots(nrows=resultant_rows, ncols=max_horizontal)\n",
    "    fig, axes = plt.subplots(ncols=3, figsize=(15, 5))\n",
    "\n",
    "    plt.subplots_adjust(hspace=0.2)\n",
    "    plt.subplots_adjust(wspace=0.2)\n",
    "\n",
    "    best_estimator = score_summary.iloc[0]\n",
    "    worst_estimator = score_summary.iloc[-1]\n",
    "\n",
    "    name_best = best_estimator[\"estimator\"]\n",
    "    params_str = best_estimator[\"params_full\"]\n",
    "    params_best = ast.literal_eval(params_str)\n",
    "\n",
    "    name_worst = worst_estimator[\"estimator\"]\n",
    "    params_str = worst_estimator[\"params_full\"]\n",
    "    params_worst = ast.literal_eval(params_str)\n",
    "\n",
    "    KNeighborsRegressor().set_params()\n",
    "\n",
    "    best_pipe = make_pipe(name_best)\n",
    "    worst_pipe = make_pipe(name_worst)\n",
    "\n",
    "    coordinates = axes[0]\n",
    "    sns.lineplot(x=[y_test.min(), y_test.max()], y=[y_test.min(), y_test.max()], ax=axes[0], color='red')\n",
    "    sns.scatterplot(x=y_test, y=best_pipe.set_params(**params_best).fit(X_train, y_train).predict(X_test), ax=axes[0], s=100).set(\n",
    "        title=f'\"BEST\" model: {name_best} \\n{params_best}')\n",
    "\n",
    "    sns.lineplot(x=[y_test.min(), y_test.max()], y=[y_test.min(), y_test.max()], ax=axes[1], color='red')\n",
    "    sns.scatterplot(x=y_test, y=worst_pipe.set_params(**params_worst).fit(X_train, y_train).predict(X_test), ax=axes[1], s=100).set(\n",
    "        title=f'\"WORST\" model: {name_worst} \\n{params_worst}')\n",
    "\n",
    "    sns.scatterplot(x=y_test, y=worst_pipe.set_params(**params_worst).fit(X_train, y_train).predict(X_test), ax=axes[2], s=100, color='orange')\n",
    "    sns.scatterplot(x=y_test, y=best_pipe.set_params(**params_best).fit(X_train, y_train).predict(X_test), ax=axes[2], s=100, alpha=0.6, color='black').set(\n",
    "        title='best (black) vs worst (orange)')\n",
    "\n",
    "    fig.tight_layout()\n",
    "    plt.show()\n",
    "\n",
    "if True:\n",
    "    max_horizontal = 3\n",
    "\n",
    "    #sns.set()\n",
    "    #sns.set_theme(context='notebook', style='darkgrid', palette='deep', font='sans-serif', font_scale=1, color_codes=True, rc=None)\n",
    "    sns.set(rc={\"figure.figsize\": (20, 20)})\n",
    "    sns.set_theme(font_scale=2, rc=None)\n",
    "    sns.set_theme(font_scale=1, rc=None)\n",
    "\n",
    "    total_graphs = len(score_summary)\n",
    "    index2 = 0\n",
    "    resultant_rows = math.ceil(total_graphs / max_horizontal)\n",
    "    #subplots_adjust()\n",
    "\n",
    "    #fig, axes = plt.subplots(nrows=resultant_rows, ncols=max_horizontal)\n",
    "    fig, axes = plt.subplots(nrows=2, ncols=max_horizontal, figsize=(15, 10))\n",
    "\n",
    "    plt.subplots_adjust(hspace=0.2)\n",
    "    plt.subplots_adjust(wspace=0.2)\n",
    "\n",
    "    for (key, next_estimator), index in zip(score_summary.iterrows(), range(total_graphs)):\n",
    "        if index % (max_horizontal * 2) == 0 and index != 0:\n",
    "            index2 = 0\n",
    "            fig.tight_layout()\n",
    "            plt.show()\n",
    "            #fig, axes = plt.subplots(nrows=resultant_rows, ncols=max_horizontal)\n",
    "            fig, axes = plt.subplots(nrows=2, ncols=max_horizontal, figsize=(15, 10))\n",
    "\n",
    "        name_next = next_estimator[\"estimator\"]\n",
    "        params_str = next_estimator[\"params_full\"]\n",
    "        params_next = ast.literal_eval(params_str)\n",
    "        #print(\"next\", params_next)\n",
    "\n",
    "        if 'noscale' in name_next:\n",
    "            pipe = Pipeline(steps=[\n",
    "                ('preprocessor', features_noscale_preprocessor),  # preprocess features\n",
    "                ('estimator', models_and_params[name_next][\"model\"]),\n",
    "            ])  # start the training\n",
    "        else:\n",
    "            pipe = Pipeline(steps=[\n",
    "                ('preprocessor', features_preprocessor),\n",
    "                ('estimator', models_and_params[name_next][\"model\"]),  # preprocess features\n",
    "            ])  # start the training\n",
    "\n",
    "        # 0 ==> 0,0\n",
    "        # 1 ==> 0,1\n",
    "        # 2 ==> 1,0\n",
    "        x_coor = index2 // max_horizontal\n",
    "        y_coor = index2 % max_horizontal\n",
    "\n",
    "        coordinates = axes[x_coor][y_coor]\n",
    "        #sns.lineplot([y_test.min(), y_test.max()], [y_test.min(), y_test.max()], hue='red', lw=3)\n",
    "        sns.lineplot(x=[y_test.min(), y_test.max()], y=[y_test.min(), y_test.max()], ax=coordinates, color='red')\n",
    "        sns.scatterplot(x=y_test, y=pipe.set_params(**params_next).fit(X_train, y_train).predict(X_test), ax=coordinates, s=100).set(\n",
    "            title=f'({index}) {\"BEST\" if index == 0 else \"next\"} model: {name_next} \\n{params_next}')\n",
    "        #if index == 11: break\n",
    "        index2 += 1\n",
    "\n",
    "    fig.tight_layout()\n",
    "    plt.show()"
   ],
   "metadata": {
    "collapsed": false
   }
  },
  {
   "cell_type": "code",
   "execution_count": 107,
   "metadata": {},
   "outputs": [
    {
     "data": {
      "text/plain": "{'Score': 0.27728988246800357,\n 'R square Accuracy': 0.27728988246800357,\n 'Mean Absolute Error Accuracy': 74554.95855918912,\n 'Mean Squared Error Accuracy': 8269820617.092809,\n 'Root Mean Squared Error': 90938.55407412638,\n 'Training Time': 0.06770491600036621,\n 'random_state': 101,\n 'date': '2022-10-12 18:32:00.759091'}"
     },
     "execution_count": 107,
     "metadata": {},
     "output_type": "execute_result"
    }
   ],
   "source": [
    "from datetime import datetime\n",
    "\n",
    "results = {\n",
    "    'Score': score,\n",
    "    'R square Accuracy': R2,\n",
    "    'Mean Absolute Error Accuracy': MAE,\n",
    "    'Mean Squared Error Accuracy': MSE,\n",
    "    'Root Mean Squared Error': RMSE,\n",
    "    'Training Time': average_time,\n",
    "    'random_state': RANDOM_STATE,\n",
    "    'date': str(datetime.now())\n",
    "}\n",
    "import json\n",
    "\n",
    "\n",
    "def update_results():\n",
    "    results_filename = '../../results/results.json'\n",
    "\n",
    "    with open(results_filename) as f:\n",
    "        raw_audit = f.read()\n",
    "    results_json = json.loads(raw_audit)\n",
    "\n",
    "    results_json[f'{ALGORITHM} - {ALGORITHM_DETAIL} (v{VERSION})'.lower()] = results\n",
    "\n",
    "    with open(results_filename, 'w') as file:\n",
    "        file.write(json.dumps(results_json, indent=4))\n",
    "\n",
    "\n",
    "if not IN_COLAB:\n",
    "    update_results()\n",
    "\n",
    "results"
   ]
  },
  {
   "cell_type": "code",
   "execution_count": 107,
   "outputs": [],
   "source": [],
   "metadata": {
    "collapsed": false
   }
  }
 ],
 "metadata": {
  "kernelspec": {
   "display_name": "Python 3 (ipykernel)",
   "language": "python",
   "name": "python3"
  },
  "language_info": {
   "codemirror_mode": {
    "name": "ipython",
    "version": 3
   },
   "file_extension": ".py",
   "mimetype": "text/x-python",
   "name": "python",
   "nbconvert_exporter": "python",
   "pygments_lexer": "ipython3",
   "version": "3.8.10"
  }
 },
 "nbformat": 4,
 "nbformat_minor": 1
}
