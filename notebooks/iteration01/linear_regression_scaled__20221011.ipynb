{
 "cells": [
  {
   "cell_type": "raw",
   "source": [],
   "metadata": {
    "collapsed": false,
    "pycharm": {
     "name": ""
    }
   }
  },
  {
   "cell_type": "code",
   "execution_count": 102,
   "outputs": [],
   "source": [
    "ALGORITHM = 'Linear Regression'\n",
    "ALGORITHM_DETAIL = 'scaling'\n",
    "VERSION = '01'\n",
    "\n",
    "RANDOM_STATE = 101"
   ],
   "metadata": {
    "collapsed": false
   }
  },
  {
   "cell_type": "code",
   "execution_count": 103,
   "metadata": {
    "collapsed": true
   },
   "outputs": [],
   "source": [
    "from sklearn.impute import SimpleImputer\n",
    "import pandas as pd\n",
    "from sklearn.model_selection import train_test_split, GridSearchCV, RandomizedSearchCV\n",
    "import numpy as np\n",
    "from pandas import DataFrame\n",
    "import math\n",
    "from termcolor import colored\n",
    "\n",
    "import functions_20221011a\n",
    "from functions_20221011a import set_csv_directory\n",
    "\n",
    "try:\n",
    "    import google.colab\n",
    "\n",
    "    IN_COLAB = True\n",
    "except:\n",
    "    IN_COLAB = False\n",
    "\n",
    "debug_mode = False"
   ]
  },
  {
   "cell_type": "code",
   "execution_count": 104,
   "outputs": [
    {
     "name": "stdout",
     "output_type": "stream",
     "text": [
      "\u001B[34mfeatures\u001B[0m ->  ['location.latitude', 'location.longitude', 'bedrooms', 'bathrooms', 'nearestStation', 'tenure.tenureType']\n",
      "\u001B[1m\u001B[32mlabel\u001B[0m ->  Price\n"
     ]
    }
   ],
   "source": [
    "set_csv_directory('final_split')\n",
    "\n",
    "#cutdown_rows = 1000\n",
    "cutdown_rows = 0\n",
    "\n",
    "LABEL = 'Price'\n",
    "\n",
    "booleans = []\n",
    "floats = ['location.latitude', 'location.longitude', 'bedrooms', 'bathrooms', 'nearestStation']\n",
    "categories = ['tenure.tenureType']\n",
    "\n",
    "columns = []\n",
    "columns.extend(booleans)\n",
    "columns.extend(floats)\n",
    "columns.extend(categories)\n",
    "\n",
    "print(colored(f\"features\", \"blue\"), \"-> \", columns)\n",
    "columns.insert(0, LABEL)\n",
    "print(colored(f\"label\", \"green\", None, ['bold']), \"-> \", LABEL)"
   ],
   "metadata": {
    "collapsed": false
   }
  },
  {
   "cell_type": "code",
   "execution_count": 105,
   "outputs": [],
   "source": [
    "filename = f'df_listings_v{VERSION}.csv'\n",
    "#remote_pathname = 'https://raw.githubusercontent.com/jayportfolio/capstone_streamlit/main/data/final/df_listings.csv'\n",
    "remote_pathname = f'https://raw.githubusercontent.com/jayportfolio/capstone_streamlit/main/data/final/{filename}'\n",
    "df_pathname_raw = f'../../data/source/{filename}'\n",
    "df_pathname_tidy = f'../../data/final/{filename}'\n",
    "\n",
    "\n",
    "def get_source_dataframe(rows=cutdown_rows, folder_prefix='../'):\n",
    "    if IN_COLAB:\n",
    "        inDF = pd.read_csv(remote_pathname, on_bad_lines='error', index_col=0)\n",
    "    else:\n",
    "        try:\n",
    "            inDF = pd.read_csv(df_pathname_tidy, on_bad_lines='error', index_col=0)\n",
    "        except:\n",
    "            print(f\"WARNING: Failed to retrieved stored data for version {VERSION}, creating new source data.\")\n",
    "            inDF = functions_20221011a.get_combined_dataset(HOW='inner', early_duplicates=True,\n",
    "                                                            folder_prefix=folder_prefix)\n",
    "            inDF.to_csv(df_pathname_raw)\n",
    "\n",
    "    if rows and rows > 0:\n",
    "        inDF = inDF[:rows]\n",
    "    return inDF\n",
    "\n",
    "\n",
    "def create_train_test_data(df_orig, return_index=False, drop_nulls=True):\n",
    "    df = df_orig.copy()\n",
    "\n",
    "    if drop_nulls:\n",
    "        df.dropna(inplace=True)\n",
    "\n",
    "    if return_index:\n",
    "        df.reset_index(inplace=True)\n",
    "\n",
    "    for column in categories:\n",
    "        df = pd.concat([df, pd.get_dummies(df[column], prefix=column)], axis=1)\n",
    "        df.drop([column], axis=1, inplace=True)  # now drop the original column (you don't need it anymore),\n",
    "\n",
    "    ins = df.pop('index')\n",
    "    df.insert(1, 'index2', ins)\n",
    "    df.insert(0, 'index', ins)\n",
    "\n",
    "    #features = df[df.columns[1:]].values\n",
    "    features = df[df.columns[2:]].values\n",
    "    #labels = df[LABEL].values\n",
    "    labels = df.iloc[:, 0:2].values\n",
    "\n",
    "    if not return_index:\n",
    "        return train_test_split(features, labels, train_size=TRAINING_SIZE, random_state=RANDOM_STATE)\n",
    "    else:\n",
    "        X_train1, X_test1, y_train1, y_test1 = train_test_split(features, labels, train_size=TRAINING_SIZE,\n",
    "                                                                random_state=RANDOM_STATE)\n",
    "        X_train_index = X_train1[:, 0].reshape(-1, 1)\n",
    "        y_train_index = y_train1[:, 0].reshape(-1, 1)\n",
    "        X_test_index = X_test1[:, 0].reshape(-1, 1)\n",
    "        y_test_index = y_test1[:, 0].reshape(-1, 1)\n",
    "        X_train1 = X_train1[:, 1:]\n",
    "        y_train1 = y_train1[:, 1].reshape(-1, 1)\n",
    "        X_test1 = X_test1[:, 1:]\n",
    "        y_test1 = y_test1[:, 1].reshape(-1, 1)\n",
    "\n",
    "        return X_train1, X_test1, y_train1, y_test1, X_train_index, X_test_index, y_train_index, y_test_index\n",
    "\n",
    "#X_train, X_test, y_train, y_test, X_train_index, X_test_index, y_train_index, y_test_index = create_train_test_data(get_source_dataframe(), return_index=True, drop_nulls=False)\n",
    "#X_train.shape, X_test.shape, y_train.shape, y_test.shape, X_train_index.shape, X_test_index.shape, y_train_index.shape, y_test_index.shape,"
   ],
   "metadata": {
    "collapsed": false
   }
  },
  {
   "cell_type": "code",
   "execution_count": 106,
   "outputs": [
    {
     "name": "stdout",
     "output_type": "stream",
     "text": [
      "(54067, 7)\n",
      "Index(['14520525', '27953107', '33593487', '35271294', '35429088', '44749111',\n",
      "       '46204665', '49020666', '49036279', '49303873',\n",
      "       ...\n",
      "       '126173423', '126173600', '126175973', '126178769', '126179018',\n",
      "       '126179672', '126180107', '126180704', '126180962', '126181118'],\n",
      "      dtype='object', length=54067)\n"
     ]
    }
   ],
   "source": [
    "df = get_source_dataframe(folder_prefix='../../')\n",
    "df_orig = df.copy()\n",
    "\n",
    "df = functions_20221011a.pre_tidy_dataset(df)\n",
    "df = df[columns]\n",
    "\n",
    "df.to_csv(df_pathname_tidy)\n",
    "print(df.shape)\n",
    "df[:5]\n",
    "\n",
    "df_orig.merge(df, how='inner', left_index=True, right_index=True)\n",
    "\n",
    "print(df.index)"
   ],
   "metadata": {
    "collapsed": false
   }
  },
  {
   "cell_type": "code",
   "execution_count": 107,
   "outputs": [
    {
     "data": {
      "text/plain": "            Price location.latitude  location.longitude  bedrooms  bathrooms  \\\n14520525   550000          51.52995           -0.207020       3.0        1.0   \n27953107   400000          51.54939           -0.482600       2.0        2.0   \n33593487   579950          51.44718           -0.338770       2.0        1.0   \n35271294   370000         51.449568           -0.140154       2.0        1.0   \n35429088   599950          51.57703           -0.141230       2.0        1.0   \n...           ...               ...                 ...       ...        ...   \n126179672  600000          51.35717           -0.074740       3.0        2.0   \n126180107  419999         51.531415           -0.052964       2.0        1.0   \n126180704  475000         51.543141            0.011498       2.0        1.0   \n126180962  450000         51.592105           -0.008233       NaN        1.0   \n126181118  525000         51.424589           -0.206790       2.0        1.0   \n\n           nearestStation  tenure.tenureType  \n14520525         0.274316          LEASEHOLD  \n27953107         0.305845          LEASEHOLD  \n33593487         0.438045           FREEHOLD  \n35271294         0.399307          LEASEHOLD  \n35429088         0.238187                NaN  \n...                   ...                ...  \n126179672        0.545665          LEASEHOLD  \n126180107        0.191407          LEASEHOLD  \n126180704        0.308609          LEASEHOLD  \n126180962        0.476935           FREEHOLD  \n126181118        0.238489  SHARE_OF_FREEHOLD  \n\n[54067 rows x 7 columns]",
      "text/html": "<div>\n<style scoped>\n    .dataframe tbody tr th:only-of-type {\n        vertical-align: middle;\n    }\n\n    .dataframe tbody tr th {\n        vertical-align: top;\n    }\n\n    .dataframe thead th {\n        text-align: right;\n    }\n</style>\n<table border=\"1\" class=\"dataframe\">\n  <thead>\n    <tr style=\"text-align: right;\">\n      <th></th>\n      <th>Price</th>\n      <th>location.latitude</th>\n      <th>location.longitude</th>\n      <th>bedrooms</th>\n      <th>bathrooms</th>\n      <th>nearestStation</th>\n      <th>tenure.tenureType</th>\n    </tr>\n  </thead>\n  <tbody>\n    <tr>\n      <th>14520525</th>\n      <td>550000</td>\n      <td>51.52995</td>\n      <td>-0.207020</td>\n      <td>3.0</td>\n      <td>1.0</td>\n      <td>0.274316</td>\n      <td>LEASEHOLD</td>\n    </tr>\n    <tr>\n      <th>27953107</th>\n      <td>400000</td>\n      <td>51.54939</td>\n      <td>-0.482600</td>\n      <td>2.0</td>\n      <td>2.0</td>\n      <td>0.305845</td>\n      <td>LEASEHOLD</td>\n    </tr>\n    <tr>\n      <th>33593487</th>\n      <td>579950</td>\n      <td>51.44718</td>\n      <td>-0.338770</td>\n      <td>2.0</td>\n      <td>1.0</td>\n      <td>0.438045</td>\n      <td>FREEHOLD</td>\n    </tr>\n    <tr>\n      <th>35271294</th>\n      <td>370000</td>\n      <td>51.449568</td>\n      <td>-0.140154</td>\n      <td>2.0</td>\n      <td>1.0</td>\n      <td>0.399307</td>\n      <td>LEASEHOLD</td>\n    </tr>\n    <tr>\n      <th>35429088</th>\n      <td>599950</td>\n      <td>51.57703</td>\n      <td>-0.141230</td>\n      <td>2.0</td>\n      <td>1.0</td>\n      <td>0.238187</td>\n      <td>NaN</td>\n    </tr>\n    <tr>\n      <th>...</th>\n      <td>...</td>\n      <td>...</td>\n      <td>...</td>\n      <td>...</td>\n      <td>...</td>\n      <td>...</td>\n      <td>...</td>\n    </tr>\n    <tr>\n      <th>126179672</th>\n      <td>600000</td>\n      <td>51.35717</td>\n      <td>-0.074740</td>\n      <td>3.0</td>\n      <td>2.0</td>\n      <td>0.545665</td>\n      <td>LEASEHOLD</td>\n    </tr>\n    <tr>\n      <th>126180107</th>\n      <td>419999</td>\n      <td>51.531415</td>\n      <td>-0.052964</td>\n      <td>2.0</td>\n      <td>1.0</td>\n      <td>0.191407</td>\n      <td>LEASEHOLD</td>\n    </tr>\n    <tr>\n      <th>126180704</th>\n      <td>475000</td>\n      <td>51.543141</td>\n      <td>0.011498</td>\n      <td>2.0</td>\n      <td>1.0</td>\n      <td>0.308609</td>\n      <td>LEASEHOLD</td>\n    </tr>\n    <tr>\n      <th>126180962</th>\n      <td>450000</td>\n      <td>51.592105</td>\n      <td>-0.008233</td>\n      <td>NaN</td>\n      <td>1.0</td>\n      <td>0.476935</td>\n      <td>FREEHOLD</td>\n    </tr>\n    <tr>\n      <th>126181118</th>\n      <td>525000</td>\n      <td>51.424589</td>\n      <td>-0.206790</td>\n      <td>2.0</td>\n      <td>1.0</td>\n      <td>0.238489</td>\n      <td>SHARE_OF_FREEHOLD</td>\n    </tr>\n  </tbody>\n</table>\n<p>54067 rows × 7 columns</p>\n</div>"
     },
     "execution_count": 107,
     "metadata": {},
     "output_type": "execute_result"
    }
   ],
   "source": [
    "df"
   ],
   "metadata": {
    "collapsed": false
   }
  },
  {
   "cell_type": "code",
   "execution_count": 108,
   "outputs": [
    {
     "data": {
      "text/plain": "Price                    0\nlocation.latitude        0\nlocation.longitude       0\nbedrooms              1802\nbathrooms             3498\nnearestStation           0\ntenure.tenureType     3654\ndtype: int64"
     },
     "execution_count": 108,
     "metadata": {},
     "output_type": "execute_result"
    }
   ],
   "source": [
    "df.isnull().sum()"
   ],
   "metadata": {
    "collapsed": false
   }
  },
  {
   "cell_type": "code",
   "execution_count": 109,
   "outputs": [
    {
     "name": "stdout",
     "output_type": "stream",
     "text": [
      "<class 'pandas.core.frame.DataFrame'>\n",
      "Index: 54067 entries, 14520525 to 126181118\n",
      "Data columns (total 7 columns):\n",
      " #   Column              Non-Null Count  Dtype  \n",
      "---  ------              --------------  -----  \n",
      " 0   Price               54067 non-null  int64  \n",
      " 1   location.latitude   54067 non-null  object \n",
      " 2   location.longitude  54067 non-null  float64\n",
      " 3   bedrooms            52265 non-null  float64\n",
      " 4   bathrooms           50569 non-null  float64\n",
      " 5   nearestStation      54067 non-null  float64\n",
      " 6   tenure.tenureType   50413 non-null  object \n",
      "dtypes: float64(4), int64(1), object(2)\n",
      "memory usage: 5.3+ MB\n"
     ]
    },
    {
     "data": {
      "text/plain": "               Price  location.longitude       bedrooms     bathrooms  \\\ncount   54067.000000        54067.000000   52265.000000  50569.000000   \nmean   416448.380528           -0.106239      11.360145      1.181534   \nstd    113505.624206            0.718769    2143.329175      0.413244   \nmin    100000.000000           -0.498315       1.000000      1.000000   \n25%    325000.000000           -0.212965       1.000000      1.000000   \n50%    425000.000000           -0.105220       2.000000      1.000000   \n75%    500000.000000           -0.012998       2.000000      1.000000   \nmax    600000.000000           51.558746  490000.000000     12.000000   \n\n       nearestStation  \ncount    54067.000000  \nmean         0.442075  \nstd          1.049040  \nmin          0.000000  \n25%          0.221778  \n50%          0.361208  \n75%          0.553963  \nmax        192.431869  ",
      "text/html": "<div>\n<style scoped>\n    .dataframe tbody tr th:only-of-type {\n        vertical-align: middle;\n    }\n\n    .dataframe tbody tr th {\n        vertical-align: top;\n    }\n\n    .dataframe thead th {\n        text-align: right;\n    }\n</style>\n<table border=\"1\" class=\"dataframe\">\n  <thead>\n    <tr style=\"text-align: right;\">\n      <th></th>\n      <th>Price</th>\n      <th>location.longitude</th>\n      <th>bedrooms</th>\n      <th>bathrooms</th>\n      <th>nearestStation</th>\n    </tr>\n  </thead>\n  <tbody>\n    <tr>\n      <th>count</th>\n      <td>54067.000000</td>\n      <td>54067.000000</td>\n      <td>52265.000000</td>\n      <td>50569.000000</td>\n      <td>54067.000000</td>\n    </tr>\n    <tr>\n      <th>mean</th>\n      <td>416448.380528</td>\n      <td>-0.106239</td>\n      <td>11.360145</td>\n      <td>1.181534</td>\n      <td>0.442075</td>\n    </tr>\n    <tr>\n      <th>std</th>\n      <td>113505.624206</td>\n      <td>0.718769</td>\n      <td>2143.329175</td>\n      <td>0.413244</td>\n      <td>1.049040</td>\n    </tr>\n    <tr>\n      <th>min</th>\n      <td>100000.000000</td>\n      <td>-0.498315</td>\n      <td>1.000000</td>\n      <td>1.000000</td>\n      <td>0.000000</td>\n    </tr>\n    <tr>\n      <th>25%</th>\n      <td>325000.000000</td>\n      <td>-0.212965</td>\n      <td>1.000000</td>\n      <td>1.000000</td>\n      <td>0.221778</td>\n    </tr>\n    <tr>\n      <th>50%</th>\n      <td>425000.000000</td>\n      <td>-0.105220</td>\n      <td>2.000000</td>\n      <td>1.000000</td>\n      <td>0.361208</td>\n    </tr>\n    <tr>\n      <th>75%</th>\n      <td>500000.000000</td>\n      <td>-0.012998</td>\n      <td>2.000000</td>\n      <td>1.000000</td>\n      <td>0.553963</td>\n    </tr>\n    <tr>\n      <th>max</th>\n      <td>600000.000000</td>\n      <td>51.558746</td>\n      <td>490000.000000</td>\n      <td>12.000000</td>\n      <td>192.431869</td>\n    </tr>\n  </tbody>\n</table>\n</div>"
     },
     "execution_count": 109,
     "metadata": {},
     "output_type": "execute_result"
    }
   ],
   "source": [
    "df.info()\n",
    "df.describe()"
   ],
   "metadata": {
    "collapsed": false
   }
  },
  {
   "cell_type": "code",
   "execution_count": 110,
   "outputs": [
    {
     "name": "stdout",
     "output_type": "stream",
     "text": [
      "dataframe contract due to cleaning: 54067 ==> 49016\n"
     ]
    },
    {
     "data": {
      "text/plain": "                      count           mean            std            min  \\\nPrice               49016.0  421205.709136  110831.099938  100000.000000   \nlocation.latitude   49016.0      51.496432       0.077345      51.298317   \nlocation.longitude  49016.0      -0.114267       0.156269      -0.498315   \nbedrooms            49016.0       1.981394       0.824532       1.000000   \nbathrooms           49016.0       1.186674       0.413086       1.000000   \nnearestStation      49016.0       0.437429       0.353326       0.000000   \n\n                              25%            50%            75%            max  \nPrice               339950.000000  425000.000000  500000.000000  600000.000000  \nlocation.latitude       51.438138      51.499720      51.555650      51.683185  \nlocation.longitude      -0.211373      -0.103357      -0.011796       0.279726  \nbedrooms                 1.000000       2.000000       2.000000       7.000000  \nbathrooms                1.000000       1.000000       1.000000       5.000000  \nnearestStation           0.224506       0.365045       0.556585      16.168861  ",
      "text/html": "<div>\n<style scoped>\n    .dataframe tbody tr th:only-of-type {\n        vertical-align: middle;\n    }\n\n    .dataframe tbody tr th {\n        vertical-align: top;\n    }\n\n    .dataframe thead th {\n        text-align: right;\n    }\n</style>\n<table border=\"1\" class=\"dataframe\">\n  <thead>\n    <tr style=\"text-align: right;\">\n      <th></th>\n      <th>count</th>\n      <th>mean</th>\n      <th>std</th>\n      <th>min</th>\n      <th>25%</th>\n      <th>50%</th>\n      <th>75%</th>\n      <th>max</th>\n    </tr>\n  </thead>\n  <tbody>\n    <tr>\n      <th>Price</th>\n      <td>49016.0</td>\n      <td>421205.709136</td>\n      <td>110831.099938</td>\n      <td>100000.000000</td>\n      <td>339950.000000</td>\n      <td>425000.000000</td>\n      <td>500000.000000</td>\n      <td>600000.000000</td>\n    </tr>\n    <tr>\n      <th>location.latitude</th>\n      <td>49016.0</td>\n      <td>51.496432</td>\n      <td>0.077345</td>\n      <td>51.298317</td>\n      <td>51.438138</td>\n      <td>51.499720</td>\n      <td>51.555650</td>\n      <td>51.683185</td>\n    </tr>\n    <tr>\n      <th>location.longitude</th>\n      <td>49016.0</td>\n      <td>-0.114267</td>\n      <td>0.156269</td>\n      <td>-0.498315</td>\n      <td>-0.211373</td>\n      <td>-0.103357</td>\n      <td>-0.011796</td>\n      <td>0.279726</td>\n    </tr>\n    <tr>\n      <th>bedrooms</th>\n      <td>49016.0</td>\n      <td>1.981394</td>\n      <td>0.824532</td>\n      <td>1.000000</td>\n      <td>1.000000</td>\n      <td>2.000000</td>\n      <td>2.000000</td>\n      <td>7.000000</td>\n    </tr>\n    <tr>\n      <th>bathrooms</th>\n      <td>49016.0</td>\n      <td>1.186674</td>\n      <td>0.413086</td>\n      <td>1.000000</td>\n      <td>1.000000</td>\n      <td>1.000000</td>\n      <td>1.000000</td>\n      <td>5.000000</td>\n    </tr>\n    <tr>\n      <th>nearestStation</th>\n      <td>49016.0</td>\n      <td>0.437429</td>\n      <td>0.353326</td>\n      <td>0.000000</td>\n      <td>0.224506</td>\n      <td>0.365045</td>\n      <td>0.556585</td>\n      <td>16.168861</td>\n    </tr>\n  </tbody>\n</table>\n</div>"
     },
     "execution_count": 110,
     "metadata": {},
     "output_type": "execute_result"
    }
   ],
   "source": [
    "old_length = len(df)\n",
    "df['location.latitude'] = pd.to_numeric(df['location.latitude'], 'coerce').dropna().astype(float)\n",
    "df = df[(df['location.longitude'] <= 10)]\n",
    "df = df[(df['bedrooms'] <= 10)]\n",
    "df = df[df['bathrooms'] <= 5]\n",
    "df = df[(df['nearestStation'] <= 20)]\n",
    "\n",
    "print(f\"dataframe contract due to cleaning: {old_length} ==> {len(df)}\")\n",
    "old_length = len(df)\n",
    "\n",
    "df.describe().T"
   ],
   "metadata": {
    "collapsed": false
   }
  },
  {
   "cell_type": "code",
   "execution_count": 111,
   "outputs": [
    {
     "data": {
      "text/plain": "Price                    0\nlocation.latitude        0\nlocation.longitude       0\nbedrooms                 0\nbathrooms                0\nnearestStation           0\ntenure.tenureType     2874\ndtype: int64"
     },
     "execution_count": 111,
     "metadata": {},
     "output_type": "execute_result"
    }
   ],
   "source": [
    "df.isna().sum()"
   ],
   "metadata": {
    "collapsed": false
   }
  },
  {
   "cell_type": "code",
   "execution_count": 112,
   "outputs": [
    {
     "name": "stdout",
     "output_type": "stream",
     "text": [
      "49016 ==> 46142\n"
     ]
    },
    {
     "data": {
      "text/plain": "               Price  location.latitude  location.longitude      bedrooms  \\\ncount   46142.000000       46142.000000        46142.000000  46142.000000   \nmean   421282.384335          51.496075           -0.114033      1.979953   \nstd    110858.107656           0.077508            0.155650      0.823314   \nmin    100000.000000          51.298317           -0.498315      1.000000   \n25%    339950.000000          51.437568           -0.211290      1.000000   \n50%    425000.000000          51.498427           -0.103070      2.000000   \n75%    500000.000000          51.555687           -0.012061      2.000000   \nmax    600000.000000          51.683185            0.279726      7.000000   \n\n          bathrooms  nearestStation  \ncount  46142.000000    46142.000000  \nmean       1.185753        0.437174  \nstd        0.411915        0.352397  \nmin        1.000000        0.000000  \n25%        1.000000        0.225159  \n50%        1.000000        0.365437  \n75%        1.000000        0.556509  \nmax        5.000000       16.168861  ",
      "text/html": "<div>\n<style scoped>\n    .dataframe tbody tr th:only-of-type {\n        vertical-align: middle;\n    }\n\n    .dataframe tbody tr th {\n        vertical-align: top;\n    }\n\n    .dataframe thead th {\n        text-align: right;\n    }\n</style>\n<table border=\"1\" class=\"dataframe\">\n  <thead>\n    <tr style=\"text-align: right;\">\n      <th></th>\n      <th>Price</th>\n      <th>location.latitude</th>\n      <th>location.longitude</th>\n      <th>bedrooms</th>\n      <th>bathrooms</th>\n      <th>nearestStation</th>\n    </tr>\n  </thead>\n  <tbody>\n    <tr>\n      <th>count</th>\n      <td>46142.000000</td>\n      <td>46142.000000</td>\n      <td>46142.000000</td>\n      <td>46142.000000</td>\n      <td>46142.000000</td>\n      <td>46142.000000</td>\n    </tr>\n    <tr>\n      <th>mean</th>\n      <td>421282.384335</td>\n      <td>51.496075</td>\n      <td>-0.114033</td>\n      <td>1.979953</td>\n      <td>1.185753</td>\n      <td>0.437174</td>\n    </tr>\n    <tr>\n      <th>std</th>\n      <td>110858.107656</td>\n      <td>0.077508</td>\n      <td>0.155650</td>\n      <td>0.823314</td>\n      <td>0.411915</td>\n      <td>0.352397</td>\n    </tr>\n    <tr>\n      <th>min</th>\n      <td>100000.000000</td>\n      <td>51.298317</td>\n      <td>-0.498315</td>\n      <td>1.000000</td>\n      <td>1.000000</td>\n      <td>0.000000</td>\n    </tr>\n    <tr>\n      <th>25%</th>\n      <td>339950.000000</td>\n      <td>51.437568</td>\n      <td>-0.211290</td>\n      <td>1.000000</td>\n      <td>1.000000</td>\n      <td>0.225159</td>\n    </tr>\n    <tr>\n      <th>50%</th>\n      <td>425000.000000</td>\n      <td>51.498427</td>\n      <td>-0.103070</td>\n      <td>2.000000</td>\n      <td>1.000000</td>\n      <td>0.365437</td>\n    </tr>\n    <tr>\n      <th>75%</th>\n      <td>500000.000000</td>\n      <td>51.555687</td>\n      <td>-0.012061</td>\n      <td>2.000000</td>\n      <td>1.000000</td>\n      <td>0.556509</td>\n    </tr>\n    <tr>\n      <th>max</th>\n      <td>600000.000000</td>\n      <td>51.683185</td>\n      <td>0.279726</td>\n      <td>7.000000</td>\n      <td>5.000000</td>\n      <td>16.168861</td>\n    </tr>\n  </tbody>\n</table>\n</div>"
     },
     "execution_count": 112,
     "metadata": {},
     "output_type": "execute_result"
    }
   ],
   "source": [
    "df = df.dropna()\n",
    "print(f\"{old_length} ==> {len(df)}\")\n",
    "old_length = len(df)\n",
    "df.describe()"
   ],
   "metadata": {
    "collapsed": false
   }
  },
  {
   "cell_type": "code",
   "execution_count": 113,
   "outputs": [
    {
     "name": "stdout",
     "output_type": "stream",
     "text": [
      "(32299, 9) (13843, 9) (32299, 1) (13843, 1) (32299, 1) (13843, 1) (32299, 1) (13843, 1)\n"
     ]
    }
   ],
   "source": [
    "X_train, X_test, y_train, y_test, X_train_index, X_test_index, y_train_index, y_test_index = create_train_test_data(df,\n",
    "                                                                                                                    return_index=True,\n",
    "                                                                                                                    drop_nulls=True)\n",
    "\n",
    "print(X_train.shape, X_test.shape, y_train.shape, y_test.shape, X_train_index.shape, X_test_index.shape,\n",
    "      y_train_index.shape, y_test_index.shape)\n",
    "#print(type(X_train))\n",
    "#X_train[0]"
   ],
   "metadata": {
    "collapsed": false
   }
  },
  {
   "cell_type": "code",
   "execution_count": 114,
   "outputs": [],
   "source": [
    "#imputer = SimpleImputer(strategy='mean')\n",
    "#imputer.fit(X_train[6])\n",
    "#X_train[6] = imputer.transform(X_train[6])"
   ],
   "metadata": {
    "collapsed": false
   }
  },
  {
   "cell_type": "code",
   "execution_count": 115,
   "outputs": [
    {
     "name": "stdout",
     "output_type": "stream",
     "text": [
      "[0.06986021995544434, 0.07130956649780273, 0.06925439834594727, 0.07011961936950684, 0.07031989097595215]\n",
      "0.07017273902893066\n"
     ]
    }
   ],
   "source": [
    "from sklearn.linear_model import LinearRegression\n",
    "from sklearn.pipeline import Pipeline\n",
    "from sklearn.preprocessing import MinMaxScaler, StandardScaler\n",
    "from time import time\n",
    "\n",
    "pipe = Pipeline([\n",
    "    #('mms', MinMaxScaler()),\n",
    "    ('std_scaler', StandardScaler()),\n",
    "    ('knn', LinearRegression())\n",
    "])\n",
    "\n",
    "pipe.fit(X_train, y_train)\n",
    "\n",
    "timings = []\n",
    "\n",
    "t0 = time()\n",
    "pipe.fit(X_train, y_train)\n",
    "timings.append(time() - t0)\n",
    "\n",
    "t0 = time()\n",
    "pipe.fit(X_train, y_train)\n",
    "timings.append(time() - t0)\n",
    "\n",
    "t0 = time()\n",
    "pipe.fit(X_train, y_train)\n",
    "timings.append(time() - t0)\n",
    "\n",
    "t0 = time()\n",
    "pipe.fit(X_train, y_train)\n",
    "timings.append(time() - t0)\n",
    "\n",
    "t0 = time()\n",
    "pipe.fit(X_train, y_train)\n",
    "timings.append(time() - t0)\n",
    "\n",
    "print(timings)\n",
    "average_time = sum(timings) / len(timings)\n",
    "print(average_time)"
   ],
   "metadata": {
    "collapsed": false
   }
  },
  {
   "cell_type": "code",
   "execution_count": 116,
   "outputs": [],
   "source": [
    "y_pred = pipe.predict(X_test)"
   ],
   "metadata": {
    "collapsed": false
   }
  },
  {
   "cell_type": "code",
   "execution_count": 117,
   "outputs": [
    {
     "name": "stdout",
     "output_type": "stream",
     "text": [
      "----------Linear Regression----------\n",
      "R square Accuracy:  0.30123424296693213\n",
      "Mean Absolute Error Accuracy:  73988.07682021285\n",
      "Mean Squared Error Accuracy:  8534067900.134349\n",
      "Root Mean Squared Error:  92380.01894421947\n"
     ]
    }
   ],
   "source": [
    "from sklearn.metrics import r2_score, mean_absolute_error, mean_squared_error\n",
    "\n",
    "y_pred = y_pred.reshape((-1, 1))\n",
    "\n",
    "R2 = r2_score(y_test, y_pred)\n",
    "MAE = mean_absolute_error(y_test, y_pred)\n",
    "MSE = mean_squared_error(y_test, y_pred)\n",
    "RMSE = math.sqrt(MSE)\n",
    "print('-' * 10 + ALGORITHM + '-' * 10)\n",
    "print('R square Accuracy: ', R2)\n",
    "print('Mean Absolute Error Accuracy: ', MAE)\n",
    "print('Mean Squared Error Accuracy: ', MSE)\n",
    "print('Root Mean Squared Error: ', RMSE)"
   ],
   "metadata": {
    "collapsed": false
   }
  },
  {
   "cell_type": "code",
   "execution_count": 118,
   "outputs": [],
   "source": [
    "if debug_mode:\n",
    "    print(y_test_index.reshape((-1, 1)).shape);\n",
    "    print(y_pred.reshape((-1, 1)).shape);\n",
    "    print(y_test.shape);\n",
    "    print(y_test_index.shape);\n",
    "    print(y_pred.shape);\n",
    "    print(y_test.shape)"
   ],
   "metadata": {
    "collapsed": false
   }
  },
  {
   "cell_type": "code",
   "execution_count": 119,
   "outputs": [
    {
     "data": {
      "text/plain": "           actual      predicted     difference   diff 1 %   diff 2 %\nreference                                                            \n123574331  250000  326105.482823   76105.482823  30.442193  23.337689\n89830105   250000  403403.482823  153403.482823  61.361393  38.027307\n125141039  450000  446635.482823    3364.517177    0.74767   0.753303\n118720436  535000  484731.482823   50268.517177   9.395985  10.370384\n119803049  550000  508615.482823   41384.517177   7.524458     8.1367\n...           ...            ...            ...        ...        ...\n85595862   375000  390482.884614   15482.884614   4.128769   3.965061\n119315720  300000  423849.482823  123849.482823  41.283161  29.220157\n120080513  375000  480874.884614  105874.884614  28.233303  22.017138\n79300354   390000  409185.482823   19185.482823   4.919355   4.688701\n121785059  255000  368837.482823  113837.482823   44.64215   30.86386\n\n[13843 rows x 5 columns]",
      "text/html": "<div>\n<style scoped>\n    .dataframe tbody tr th:only-of-type {\n        vertical-align: middle;\n    }\n\n    .dataframe tbody tr th {\n        vertical-align: top;\n    }\n\n    .dataframe thead th {\n        text-align: right;\n    }\n</style>\n<table border=\"1\" class=\"dataframe\">\n  <thead>\n    <tr style=\"text-align: right;\">\n      <th></th>\n      <th>actual</th>\n      <th>predicted</th>\n      <th>difference</th>\n      <th>diff 1 %</th>\n      <th>diff 2 %</th>\n    </tr>\n    <tr>\n      <th>reference</th>\n      <th></th>\n      <th></th>\n      <th></th>\n      <th></th>\n      <th></th>\n    </tr>\n  </thead>\n  <tbody>\n    <tr>\n      <th>123574331</th>\n      <td>250000</td>\n      <td>326105.482823</td>\n      <td>76105.482823</td>\n      <td>30.442193</td>\n      <td>23.337689</td>\n    </tr>\n    <tr>\n      <th>89830105</th>\n      <td>250000</td>\n      <td>403403.482823</td>\n      <td>153403.482823</td>\n      <td>61.361393</td>\n      <td>38.027307</td>\n    </tr>\n    <tr>\n      <th>125141039</th>\n      <td>450000</td>\n      <td>446635.482823</td>\n      <td>3364.517177</td>\n      <td>0.74767</td>\n      <td>0.753303</td>\n    </tr>\n    <tr>\n      <th>118720436</th>\n      <td>535000</td>\n      <td>484731.482823</td>\n      <td>50268.517177</td>\n      <td>9.395985</td>\n      <td>10.370384</td>\n    </tr>\n    <tr>\n      <th>119803049</th>\n      <td>550000</td>\n      <td>508615.482823</td>\n      <td>41384.517177</td>\n      <td>7.524458</td>\n      <td>8.1367</td>\n    </tr>\n    <tr>\n      <th>...</th>\n      <td>...</td>\n      <td>...</td>\n      <td>...</td>\n      <td>...</td>\n      <td>...</td>\n    </tr>\n    <tr>\n      <th>85595862</th>\n      <td>375000</td>\n      <td>390482.884614</td>\n      <td>15482.884614</td>\n      <td>4.128769</td>\n      <td>3.965061</td>\n    </tr>\n    <tr>\n      <th>119315720</th>\n      <td>300000</td>\n      <td>423849.482823</td>\n      <td>123849.482823</td>\n      <td>41.283161</td>\n      <td>29.220157</td>\n    </tr>\n    <tr>\n      <th>120080513</th>\n      <td>375000</td>\n      <td>480874.884614</td>\n      <td>105874.884614</td>\n      <td>28.233303</td>\n      <td>22.017138</td>\n    </tr>\n    <tr>\n      <th>79300354</th>\n      <td>390000</td>\n      <td>409185.482823</td>\n      <td>19185.482823</td>\n      <td>4.919355</td>\n      <td>4.688701</td>\n    </tr>\n    <tr>\n      <th>121785059</th>\n      <td>255000</td>\n      <td>368837.482823</td>\n      <td>113837.482823</td>\n      <td>44.64215</td>\n      <td>30.86386</td>\n    </tr>\n  </tbody>\n</table>\n<p>13843 rows × 5 columns</p>\n</div>"
     },
     "execution_count": 119,
     "metadata": {},
     "output_type": "execute_result"
    }
   ],
   "source": [
    "compare = np.hstack((y_test_index, y_test, y_pred))\n",
    "compare_df = DataFrame(compare, columns=['reference', 'actual', 'predicted'])\n",
    "compare_df['difference'] = abs(compare_df['actual'] - compare_df['predicted'])\n",
    "compare_df['diff 1 %'] = abs((compare_df['actual'] - compare_df['predicted']) / compare_df['actual'] * 100)\n",
    "compare_df['diff 2 %'] = abs((compare_df['actual'] - compare_df['predicted']) / compare_df['predicted']) * 100\n",
    "compare_df['reference'] = compare_df['reference'].astype(str)\n",
    "compare_df.set_index('reference', inplace=True)\n",
    "compare_df"
   ],
   "metadata": {
    "collapsed": false
   }
  },
  {
   "cell_type": "code",
   "execution_count": 120,
   "outputs": [
    {
     "data": {
      "text/plain": "           actual      predicted     difference   diff 1 %   diff 2 %   Price  \\\n123574331  250000  326105.482823   76105.482823  30.442193  23.337689  250000   \n89830105   250000  403403.482823  153403.482823  61.361393  38.027307  250000   \n125141039  450000  446635.482823    3364.517177    0.74767   0.753303  450000   \n118720436  535000  484731.482823   50268.517177   9.395985  10.370384  535000   \n119803049  550000  508615.482823   41384.517177   7.524458     8.1367  550000   \n...           ...            ...            ...        ...        ...     ...   \n85595862   375000  390482.884614   15482.884614   4.128769   3.965061  375000   \n119315720  300000  423849.482823  123849.482823  41.283161  29.220157  300000   \n120080513  375000  480874.884614  105874.884614  28.233303  22.017138  375000   \n79300354   390000  409185.482823   19185.482823   4.919355   4.688701  390000   \n121785059  255000  368837.482823  113837.482823   44.64215   30.86386  255000   \n\n           location.latitude  location.longitude  bedrooms  bathrooms  \\\n123574331          51.564130            0.139653       1.0        1.0   \n89830105           51.522010           -0.020800       2.0        1.0   \n125141039          51.532019            0.192593       3.0        1.0   \n118720436          51.557649            0.240515       3.0        1.0   \n119803049          51.440090            0.020980       3.0        2.0   \n...                      ...                 ...       ...        ...   \n85595862           51.415550           -0.127899       1.0        1.0   \n119315720          51.527330           -0.460651       2.0        2.0   \n120080513          51.364619           -0.146176       3.0        1.0   \n79300354           51.547150           -0.041058       2.0        1.0   \n121785059          51.561071            0.226873       2.0        1.0   \n\n           nearestStation  tenure.tenureType  \n123574331        0.519832          LEASEHOLD  \n89830105         0.105742          LEASEHOLD  \n125141039        1.034847           FREEHOLD  \n118720436        0.219035           FREEHOLD  \n119803049        0.661443           FREEHOLD  \n...                   ...                ...  \n85595862         0.401119  SHARE_OF_FREEHOLD  \n119315720        1.308420          LEASEHOLD  \n120080513        0.368725  SHARE_OF_FREEHOLD  \n79300354         0.080755          LEASEHOLD  \n121785059        0.415219          LEASEHOLD  \n\n[13843 rows x 12 columns]",
      "text/html": "<div>\n<style scoped>\n    .dataframe tbody tr th:only-of-type {\n        vertical-align: middle;\n    }\n\n    .dataframe tbody tr th {\n        vertical-align: top;\n    }\n\n    .dataframe thead th {\n        text-align: right;\n    }\n</style>\n<table border=\"1\" class=\"dataframe\">\n  <thead>\n    <tr style=\"text-align: right;\">\n      <th></th>\n      <th>actual</th>\n      <th>predicted</th>\n      <th>difference</th>\n      <th>diff 1 %</th>\n      <th>diff 2 %</th>\n      <th>Price</th>\n      <th>location.latitude</th>\n      <th>location.longitude</th>\n      <th>bedrooms</th>\n      <th>bathrooms</th>\n      <th>nearestStation</th>\n      <th>tenure.tenureType</th>\n    </tr>\n  </thead>\n  <tbody>\n    <tr>\n      <th>123574331</th>\n      <td>250000</td>\n      <td>326105.482823</td>\n      <td>76105.482823</td>\n      <td>30.442193</td>\n      <td>23.337689</td>\n      <td>250000</td>\n      <td>51.564130</td>\n      <td>0.139653</td>\n      <td>1.0</td>\n      <td>1.0</td>\n      <td>0.519832</td>\n      <td>LEASEHOLD</td>\n    </tr>\n    <tr>\n      <th>89830105</th>\n      <td>250000</td>\n      <td>403403.482823</td>\n      <td>153403.482823</td>\n      <td>61.361393</td>\n      <td>38.027307</td>\n      <td>250000</td>\n      <td>51.522010</td>\n      <td>-0.020800</td>\n      <td>2.0</td>\n      <td>1.0</td>\n      <td>0.105742</td>\n      <td>LEASEHOLD</td>\n    </tr>\n    <tr>\n      <th>125141039</th>\n      <td>450000</td>\n      <td>446635.482823</td>\n      <td>3364.517177</td>\n      <td>0.74767</td>\n      <td>0.753303</td>\n      <td>450000</td>\n      <td>51.532019</td>\n      <td>0.192593</td>\n      <td>3.0</td>\n      <td>1.0</td>\n      <td>1.034847</td>\n      <td>FREEHOLD</td>\n    </tr>\n    <tr>\n      <th>118720436</th>\n      <td>535000</td>\n      <td>484731.482823</td>\n      <td>50268.517177</td>\n      <td>9.395985</td>\n      <td>10.370384</td>\n      <td>535000</td>\n      <td>51.557649</td>\n      <td>0.240515</td>\n      <td>3.0</td>\n      <td>1.0</td>\n      <td>0.219035</td>\n      <td>FREEHOLD</td>\n    </tr>\n    <tr>\n      <th>119803049</th>\n      <td>550000</td>\n      <td>508615.482823</td>\n      <td>41384.517177</td>\n      <td>7.524458</td>\n      <td>8.1367</td>\n      <td>550000</td>\n      <td>51.440090</td>\n      <td>0.020980</td>\n      <td>3.0</td>\n      <td>2.0</td>\n      <td>0.661443</td>\n      <td>FREEHOLD</td>\n    </tr>\n    <tr>\n      <th>...</th>\n      <td>...</td>\n      <td>...</td>\n      <td>...</td>\n      <td>...</td>\n      <td>...</td>\n      <td>...</td>\n      <td>...</td>\n      <td>...</td>\n      <td>...</td>\n      <td>...</td>\n      <td>...</td>\n      <td>...</td>\n    </tr>\n    <tr>\n      <th>85595862</th>\n      <td>375000</td>\n      <td>390482.884614</td>\n      <td>15482.884614</td>\n      <td>4.128769</td>\n      <td>3.965061</td>\n      <td>375000</td>\n      <td>51.415550</td>\n      <td>-0.127899</td>\n      <td>1.0</td>\n      <td>1.0</td>\n      <td>0.401119</td>\n      <td>SHARE_OF_FREEHOLD</td>\n    </tr>\n    <tr>\n      <th>119315720</th>\n      <td>300000</td>\n      <td>423849.482823</td>\n      <td>123849.482823</td>\n      <td>41.283161</td>\n      <td>29.220157</td>\n      <td>300000</td>\n      <td>51.527330</td>\n      <td>-0.460651</td>\n      <td>2.0</td>\n      <td>2.0</td>\n      <td>1.308420</td>\n      <td>LEASEHOLD</td>\n    </tr>\n    <tr>\n      <th>120080513</th>\n      <td>375000</td>\n      <td>480874.884614</td>\n      <td>105874.884614</td>\n      <td>28.233303</td>\n      <td>22.017138</td>\n      <td>375000</td>\n      <td>51.364619</td>\n      <td>-0.146176</td>\n      <td>3.0</td>\n      <td>1.0</td>\n      <td>0.368725</td>\n      <td>SHARE_OF_FREEHOLD</td>\n    </tr>\n    <tr>\n      <th>79300354</th>\n      <td>390000</td>\n      <td>409185.482823</td>\n      <td>19185.482823</td>\n      <td>4.919355</td>\n      <td>4.688701</td>\n      <td>390000</td>\n      <td>51.547150</td>\n      <td>-0.041058</td>\n      <td>2.0</td>\n      <td>1.0</td>\n      <td>0.080755</td>\n      <td>LEASEHOLD</td>\n    </tr>\n    <tr>\n      <th>121785059</th>\n      <td>255000</td>\n      <td>368837.482823</td>\n      <td>113837.482823</td>\n      <td>44.64215</td>\n      <td>30.86386</td>\n      <td>255000</td>\n      <td>51.561071</td>\n      <td>0.226873</td>\n      <td>2.0</td>\n      <td>1.0</td>\n      <td>0.415219</td>\n      <td>LEASEHOLD</td>\n    </tr>\n  </tbody>\n</table>\n<p>13843 rows × 12 columns</p>\n</div>"
     },
     "execution_count": 120,
     "metadata": {},
     "output_type": "execute_result"
    }
   ],
   "source": [
    "compare_df.merge(df[columns], how='inner', left_index=True, right_index=True)\n",
    "# 85514838\n",
    "# 115470422"
   ],
   "metadata": {
    "collapsed": false
   }
  },
  {
   "cell_type": "code",
   "execution_count": 121,
   "outputs": [
    {
     "data": {
      "text/plain": "0.30123424296693213"
     },
     "execution_count": 121,
     "metadata": {},
     "output_type": "execute_result"
    }
   ],
   "source": [
    "score = pipe.score(X_test, y_test)\n",
    "score"
   ],
   "metadata": {
    "collapsed": false
   }
  },
  {
   "cell_type": "code",
   "execution_count": 122,
   "outputs": [
    {
     "data": {
      "text/plain": "0.30123424296693213"
     },
     "execution_count": 122,
     "metadata": {},
     "output_type": "execute_result"
    }
   ],
   "source": [
    "from sklearn.metrics import r2_score\n",
    "\n",
    "r2_score(y_test, y_pred)"
   ],
   "metadata": {
    "collapsed": false
   }
  },
  {
   "cell_type": "code",
   "execution_count": 123,
   "outputs": [
    {
     "data": {
      "text/plain": "<Figure size 640x480 with 1 Axes>",
      "image/png": "[encoded data removed]"
     },
     "metadata": {},
     "output_type": "display_data"
    }
   ],
   "source": [
    "import matplotlib.pyplot as plt\n",
    "\n",
    "fig, ax = plt.subplots()\n",
    "ax.scatter(y_test, pipe.predict(X_test), edgecolors=(0, 0, 1))\n",
    "ax.plot([y_test.min(), y_test.max()], [y_test.min(), y_test.max()], 'r--', lw=3)\n",
    "ax.set_ylabel('Predicted')\n",
    "ax.set_xlabel('Actual')\n",
    "#ax.title.set_text(f'CV Chosen best option ({calculated_best_pipe[1]})')\n",
    "plt.show()"
   ],
   "metadata": {
    "collapsed": false
   }
  },
  {
   "cell_type": "code",
   "execution_count": 124,
   "outputs": [],
   "source": [
    "from datetime import datetime\n",
    "\n",
    "results = {\n",
    "    'Score': score,\n",
    "    'R square Accuracy: ': R2,\n",
    "    'Mean Absolute Error Accuracy: ': MAE,\n",
    "    'Mean Squared Error Accuracy: ': MSE,\n",
    "    'Root Mean Squared Error: ': RMSE,\n",
    "    'Training Time': average_time,\n",
    "    'random_state': RANDOM_STATE,\n",
    "    'date': str(datetime.now())\n",
    "}\n",
    "import json\n",
    "\n",
    "results_filename = '../../results/results.json'\n",
    "\n",
    "try:\n",
    "    with open(results_filename) as f:\n",
    "        raw_audit = f.read()\n",
    "    results_json = json.loads(raw_audit)\n",
    "except:\n",
    "\n",
    "    results_json = {}\n",
    "\n",
    "results_json[f'{ALGORITHM} - {ALGORITHM_DETAIL} (v{VERSION})'.lower()] = results\n",
    "\n",
    "with open(results_filename, 'w') as file:\n",
    "    file.write(json.dumps(results_json, indent=4))\n"
   ],
   "metadata": {
    "collapsed": false
   }
  },
  {
   "cell_type": "code",
   "execution_count": 124,
   "outputs": [],
   "source": [],
   "metadata": {
    "collapsed": false
   }
  }
 ],
 "metadata": {
  "kernelspec": {
   "display_name": "Python 3",
   "language": "python",
   "name": "python3"
  },
  "language_info": {
   "codemirror_mode": {
    "name": "ipython",
    "version": 2
   },
   "file_extension": ".py",
   "mimetype": "text/x-python",
   "name": "python",
   "nbconvert_exporter": "python",
   "pygments_lexer": "ipython2",
   "version": "2.7.6"
  }
 },
 "nbformat": 4,
 "nbformat_minor": 0
}
