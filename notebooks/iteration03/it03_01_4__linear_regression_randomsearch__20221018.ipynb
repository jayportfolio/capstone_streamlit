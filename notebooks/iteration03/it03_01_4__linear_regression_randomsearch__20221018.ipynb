{
 "cells": [
  {
   "cell_type": "code",
   "execution_count": 65,
   "metadata": {},
   "outputs": [],
   "source": [
    "ALGORITHM = 'Linear Regression'\n",
    "ALGORITHM_DETAIL = 'random search'\n",
    "VERSION = '03'\n",
    "\n",
    "RANDOM_STATE = 101\n",
    "TRAINING_SIZE = 0.9\n",
    "\n",
    "CROSS_VALIDATION_SCORING = 'r2'"
   ]
  },
  {
   "cell_type": "code",
   "execution_count": 66,
   "outputs": [],
   "source": [
    "from sklearn.linear_model import LinearRegression\n",
    "from sklearn.pipeline import Pipeline\n",
    "from sklearn.preprocessing import MinMaxScaler, StandardScaler\n",
    "from sklearn.linear_model import Lasso, Ridge\n",
    "\n",
    "pipe = Pipeline([\n",
    "    #('mms', MinMaxScaler()),\n",
    "    ('std_scaler', StandardScaler()),\n",
    "    ('model', Ridge())\n",
    "])"
   ],
   "metadata": {
    "collapsed": false
   }
  },
  {
   "cell_type": "code",
   "execution_count": 67,
   "outputs": [],
   "source": [
    "from sklearn.impute import SimpleImputer\n",
    "import pandas as pd\n",
    "from sklearn.model_selection import train_test_split, RandomizedSearchCV\n",
    "import numpy as np\n",
    "from pandas import DataFrame\n",
    "import math\n",
    "from termcolor import colored\n",
    "\n",
    "confirm_colab = False\n",
    "\n",
    "try:\n",
    "    import google.colab\n",
    "\n",
    "    IN_COLAB = True\n",
    "except:\n",
    "    IN_COLAB = confirm_colab\n",
    "\n",
    "if not IN_COLAB:\n",
    "    from functions_20221018 import set_csv_directory, get_combined_dataset, add_supplements, tidy_dataset, feature_engineer\n",
    "\n",
    "set_csv_directory('final_split')\n",
    "\n",
    "debug_mode = False"
   ],
   "metadata": {
    "collapsed": false
   }
  },
  {
   "cell_type": "code",
   "execution_count": 68,
   "outputs": [
    {
     "name": "stdout",
     "output_type": "stream",
     "text": [
      "\u001B[34mfeatures\u001B[0m ->  ['bedrooms', 'bathrooms', 'nearestStation', 'latitude_deviation2', 'longitude_deviation2', 'tenure.tenureType']\n",
      "\u001B[1m\u001B[32mlabel\u001B[0m ->  Price\n"
     ]
    }
   ],
   "source": [
    "#cutdown_rows = 1000\n",
    "cutdown_rows = 0\n",
    "\n",
    "LABEL = 'Price'\n",
    "\n",
    "booleans = []\n",
    "floats = ['location.latitude', 'location.longitude', 'bedrooms', 'bathrooms', 'nearestStation', 'latitude_deviation',\n",
    "          'latitude_deviation2', 'longitude_deviation', 'longitude_deviation2']\n",
    "floats = ['bedrooms', 'bathrooms', 'nearestStation', 'latitude_deviation2', 'longitude_deviation2']\n",
    "categories = ['tenure.tenureType']\n",
    "\n",
    "columns = []\n",
    "columns.extend(booleans)\n",
    "columns.extend(floats)\n",
    "columns.extend(categories)\n",
    "\n",
    "print(colored(f\"features\", \"blue\"), \"-> \", columns)\n",
    "columns.insert(0, LABEL)\n",
    "print(colored(f\"label\", \"green\", None, ['bold']), \"-> \", LABEL)"
   ],
   "metadata": {
    "collapsed": false
   }
  },
  {
   "cell_type": "code",
   "execution_count": 69,
   "outputs": [],
   "source": [
    "filename = f'df_listings_v{VERSION}.csv'\n",
    "remote_pathname = f'https://raw.githubusercontent.com/jayportfolio/capstone_streamlit/main/data/final/{filename}'\n",
    "df_pathname_raw = f'../../data/source/{filename}'\n",
    "df_pathname_tidy = f'../../data/final/{filename}'\n",
    "\n",
    "\n",
    "def get_source_dataframe(rows=cutdown_rows, folder_prefix='../'):\n",
    "    retrieval_type = None\n",
    "\n",
    "    if IN_COLAB:\n",
    "        inDF = pd.read_csv(remote_pathname, on_bad_lines='error', index_col=0)\n",
    "        retrieval_type = 'tidy'\n",
    "        print('loaded data from', remote_pathname)\n",
    "    else:\n",
    "        try:\n",
    "            inDF = pd.read_csv(df_pathname_tidy, on_bad_lines='error', index_col=0)\n",
    "            retrieval_type = 'tidy'\n",
    "            print('loaded data from', df_pathname_tidy)\n",
    "        except:\n",
    "            try:\n",
    "                inDF = pd.read_csv(df_pathname_raw, on_bad_lines='error', index_col=0)\n",
    "                retrieval_type = 'raw'\n",
    "                print(f'starting to get {retrieval_type} data...')\n",
    "                print('loaded data from', df_pathname_raw)\n",
    "                print(f'finished getting {retrieval_type} data!')\n",
    "            except:\n",
    "                print(f\"WARNING: Failed to retrieved stored data for version {VERSION}, creating new source data.\")\n",
    "                retrieval_type = 'scratch'\n",
    "                print(f'starting to get {retrieval_type} data...')\n",
    "                inDF = get_combined_dataset(HOW='inner', early_duplicates=True, folder_prefix=folder_prefix)\n",
    "                print(f'finished getting {retrieval_type} data!')\n",
    "\n",
    "                print(f'starting to save {retrieval_type} data...')\n",
    "                inDF.to_csv(df_pathname_raw)\n",
    "                print(f'finished saving {retrieval_type} data!')\n",
    "\n",
    "    if rows and rows > 0:\n",
    "        inDF = inDF[:rows]\n",
    "    return inDF, retrieval_type\n",
    "\n",
    "\n",
    "def create_train_test_data(df_orig, return_index=False, drop_nulls=True):\n",
    "    df = df_orig.copy()\n",
    "\n",
    "    if drop_nulls:\n",
    "        df.dropna(inplace=True)\n",
    "\n",
    "    if return_index:\n",
    "        df.reset_index(inplace=True)\n",
    "\n",
    "    for column in categories:\n",
    "        df = pd.concat([df, pd.get_dummies(df[column], prefix=column)], axis=1)\n",
    "        df.drop([column], axis=1, inplace=True)  # now drop the original column (you don't need it anymore),\n",
    "\n",
    "    ins = df.pop('index')\n",
    "    df.insert(1, 'index2', ins)\n",
    "    df.insert(0, 'index', ins)\n",
    "\n",
    "    #features = df[df.columns[1:]].values\n",
    "    features = df[df.columns[2:]].values\n",
    "    #labels = df[LABEL].values\n",
    "    labels = df.iloc[:, 0:2].values\n",
    "\n",
    "    if not return_index:\n",
    "        return train_test_split(features, labels, train_size=0.9, random_state=RANDOM_STATE)\n",
    "    else:\n",
    "        X_train1, X_test1, y_train1, y_test1 = train_test_split(features, labels, train_size=0.9,\n",
    "                                                                random_state=RANDOM_STATE)\n",
    "        X_train_index = X_train1[:, 0].reshape(-1, 1)\n",
    "        y_train_index = y_train1[:, 0].reshape(-1, 1)\n",
    "        X_test_index = X_test1[:, 0].reshape(-1, 1)\n",
    "        y_test_index = y_test1[:, 0].reshape(-1, 1)\n",
    "        X_train1 = X_train1[:, 1:]\n",
    "        y_train1 = y_train1[:, 1].reshape(-1, 1)\n",
    "        X_test1 = X_test1[:, 1:]\n",
    "        y_test1 = y_test1[:, 1].reshape(-1, 1)\n",
    "\n",
    "        return X_train1, X_test1, y_train1, y_test1, X_train_index, X_test_index, y_train_index, y_test_index\n",
    "\n",
    "#X_train, X_test, y_train, y_test, X_train_index, X_test_index, y_train_index, y_test_index = create_train_test_data(get_source_dataframe(), return_index=True, drop_nulls=False)\n",
    "#X_train.shape, X_test.shape, y_train.shape, y_test.shape, X_train_index.shape, X_test_index.shape, y_train_index.shape, y_test_index.shape,"
   ],
   "metadata": {
    "collapsed": false
   }
  },
  {
   "cell_type": "code",
   "execution_count": 70,
   "outputs": [
    {
     "name": "stdout",
     "output_type": "stream",
     "text": [
      "loaded data from ../../data/final/df_listings_v03.csv\n",
      "(51963, 11)\n",
      "Int64Index([ 14520525,  27953107,  33593487,  35271294,  35429088,  44749111,\n",
      "             46204665,  49020666,  49036279,  49303873,\n",
      "            ...\n",
      "            126173423, 126173600, 126175973, 126178769, 126179018, 126179672,\n",
      "            126180107, 126180704, 126180962, 126181118],\n",
      "           dtype='int64', length=51963)\n"
     ]
    }
   ],
   "source": [
    "df, retrieval_type = get_source_dataframe(folder_prefix='../../')\n",
    "df_orig = df.copy()\n",
    "\n",
    "if retrieval_type != 'tidy':\n",
    "    if retrieval_type != 'raw':\n",
    "        df = add_supplements(df)\n",
    "        print(f'starting to save {retrieval_type} data...')\n",
    "        df.to_csv(df_pathname_raw)\n",
    "        print(f'finished saving {retrieval_type} data!')\n",
    "    df = tidy_dataset(df, version=int(VERSION))\n",
    "    df = feature_engineer(df, version=int(VERSION))\n",
    "\n",
    "    df = df[columns]\n",
    "\n",
    "    print(f'starting to save {retrieval_type} data...')\n",
    "    df.to_csv(df_pathname_tidy)\n",
    "    print(f'finished saving {retrieval_type} data!')\n",
    "\n",
    "print(df.shape)\n",
    "df[:5]\n",
    "\n",
    "df_orig.merge(df, how='inner', left_index=True, right_index=True)\n",
    "\n",
    "print(df.index)"
   ],
   "metadata": {
    "collapsed": false
   }
  },
  {
   "cell_type": "code",
   "execution_count": 71,
   "outputs": [
    {
     "data": {
      "text/plain": "              Price  location.latitude  location.longitude  bedrooms  \\\n14520525   550000.0          51.529950           -0.207020       3.0   \n27953107   400000.0          51.549390           -0.482600       2.0   \n33593487   579950.0          51.447180           -0.338770       2.0   \n35271294   370000.0          51.449568           -0.140154       2.0   \n35429088   599950.0          51.577030           -0.141230       2.0   \n...             ...                ...                 ...       ...   \n126179672  600000.0          51.357170           -0.074740       3.0   \n126180107  419999.0          51.531415           -0.052964       2.0   \n126180704  475000.0          51.543141            0.011498       2.0   \n126180962  450000.0          51.592105           -0.008233       NaN   \n126181118  525000.0          51.424589           -0.206790       2.0   \n\n           bathrooms  nearestStation  latitude_deviation  latitude_deviation2  \\\n14520525         1.0        0.274316            0.030298             0.067288   \n27953107         2.0        0.305845            0.049738             0.086728   \n33593487         1.0        0.438045            0.052472             0.015482   \n35271294         1.0        0.399307            0.050084             0.013094   \n35429088         1.0        0.238187            0.077378             0.114368   \n...              ...             ...                 ...                  ...   \n126179672        2.0        0.545665            0.142482             0.105492   \n126180107        1.0        0.191407            0.031763             0.068753   \n126180704        1.0        0.308609            0.043489             0.080479   \n126180962        1.0        0.476935            0.092453             0.129443   \n126181118        1.0        0.238489            0.075063             0.038073   \n\n           longitude_deviation  longitude_deviation2  tenure.tenureType  \n14520525              0.102580              0.141915          LEASEHOLD  \n27953107              0.378160              0.417495          LEASEHOLD  \n33593487              0.234330              0.273665           FREEHOLD  \n35271294              0.035714              0.075049          LEASEHOLD  \n35429088              0.036790              0.076125                NaN  \n...                        ...                   ...                ...  \n126179672             0.029700              0.009635          LEASEHOLD  \n126180107             0.051476              0.012141          LEASEHOLD  \n126180704             0.115938              0.076603          LEASEHOLD  \n126180962             0.096207              0.056872           FREEHOLD  \n126181118             0.102350              0.141685  SHARE_OF_FREEHOLD  \n\n[51963 rows x 11 columns]",
      "text/html": "<div>\n<style scoped>\n    .dataframe tbody tr th:only-of-type {\n        vertical-align: middle;\n    }\n\n    .dataframe tbody tr th {\n        vertical-align: top;\n    }\n\n    .dataframe thead th {\n        text-align: right;\n    }\n</style>\n<table border=\"1\" class=\"dataframe\">\n  <thead>\n    <tr style=\"text-align: right;\">\n      <th></th>\n      <th>Price</th>\n      <th>location.latitude</th>\n      <th>location.longitude</th>\n      <th>bedrooms</th>\n      <th>bathrooms</th>\n      <th>nearestStation</th>\n      <th>latitude_deviation</th>\n      <th>latitude_deviation2</th>\n      <th>longitude_deviation</th>\n      <th>longitude_deviation2</th>\n      <th>tenure.tenureType</th>\n    </tr>\n  </thead>\n  <tbody>\n    <tr>\n      <th>14520525</th>\n      <td>550000.0</td>\n      <td>51.529950</td>\n      <td>-0.207020</td>\n      <td>3.0</td>\n      <td>1.0</td>\n      <td>0.274316</td>\n      <td>0.030298</td>\n      <td>0.067288</td>\n      <td>0.102580</td>\n      <td>0.141915</td>\n      <td>LEASEHOLD</td>\n    </tr>\n    <tr>\n      <th>27953107</th>\n      <td>400000.0</td>\n      <td>51.549390</td>\n      <td>-0.482600</td>\n      <td>2.0</td>\n      <td>2.0</td>\n      <td>0.305845</td>\n      <td>0.049738</td>\n      <td>0.086728</td>\n      <td>0.378160</td>\n      <td>0.417495</td>\n      <td>LEASEHOLD</td>\n    </tr>\n    <tr>\n      <th>33593487</th>\n      <td>579950.0</td>\n      <td>51.447180</td>\n      <td>-0.338770</td>\n      <td>2.0</td>\n      <td>1.0</td>\n      <td>0.438045</td>\n      <td>0.052472</td>\n      <td>0.015482</td>\n      <td>0.234330</td>\n      <td>0.273665</td>\n      <td>FREEHOLD</td>\n    </tr>\n    <tr>\n      <th>35271294</th>\n      <td>370000.0</td>\n      <td>51.449568</td>\n      <td>-0.140154</td>\n      <td>2.0</td>\n      <td>1.0</td>\n      <td>0.399307</td>\n      <td>0.050084</td>\n      <td>0.013094</td>\n      <td>0.035714</td>\n      <td>0.075049</td>\n      <td>LEASEHOLD</td>\n    </tr>\n    <tr>\n      <th>35429088</th>\n      <td>599950.0</td>\n      <td>51.577030</td>\n      <td>-0.141230</td>\n      <td>2.0</td>\n      <td>1.0</td>\n      <td>0.238187</td>\n      <td>0.077378</td>\n      <td>0.114368</td>\n      <td>0.036790</td>\n      <td>0.076125</td>\n      <td>NaN</td>\n    </tr>\n    <tr>\n      <th>...</th>\n      <td>...</td>\n      <td>...</td>\n      <td>...</td>\n      <td>...</td>\n      <td>...</td>\n      <td>...</td>\n      <td>...</td>\n      <td>...</td>\n      <td>...</td>\n      <td>...</td>\n      <td>...</td>\n    </tr>\n    <tr>\n      <th>126179672</th>\n      <td>600000.0</td>\n      <td>51.357170</td>\n      <td>-0.074740</td>\n      <td>3.0</td>\n      <td>2.0</td>\n      <td>0.545665</td>\n      <td>0.142482</td>\n      <td>0.105492</td>\n      <td>0.029700</td>\n      <td>0.009635</td>\n      <td>LEASEHOLD</td>\n    </tr>\n    <tr>\n      <th>126180107</th>\n      <td>419999.0</td>\n      <td>51.531415</td>\n      <td>-0.052964</td>\n      <td>2.0</td>\n      <td>1.0</td>\n      <td>0.191407</td>\n      <td>0.031763</td>\n      <td>0.068753</td>\n      <td>0.051476</td>\n      <td>0.012141</td>\n      <td>LEASEHOLD</td>\n    </tr>\n    <tr>\n      <th>126180704</th>\n      <td>475000.0</td>\n      <td>51.543141</td>\n      <td>0.011498</td>\n      <td>2.0</td>\n      <td>1.0</td>\n      <td>0.308609</td>\n      <td>0.043489</td>\n      <td>0.080479</td>\n      <td>0.115938</td>\n      <td>0.076603</td>\n      <td>LEASEHOLD</td>\n    </tr>\n    <tr>\n      <th>126180962</th>\n      <td>450000.0</td>\n      <td>51.592105</td>\n      <td>-0.008233</td>\n      <td>NaN</td>\n      <td>1.0</td>\n      <td>0.476935</td>\n      <td>0.092453</td>\n      <td>0.129443</td>\n      <td>0.096207</td>\n      <td>0.056872</td>\n      <td>FREEHOLD</td>\n    </tr>\n    <tr>\n      <th>126181118</th>\n      <td>525000.0</td>\n      <td>51.424589</td>\n      <td>-0.206790</td>\n      <td>2.0</td>\n      <td>1.0</td>\n      <td>0.238489</td>\n      <td>0.075063</td>\n      <td>0.038073</td>\n      <td>0.102350</td>\n      <td>0.141685</td>\n      <td>SHARE_OF_FREEHOLD</td>\n    </tr>\n  </tbody>\n</table>\n<p>51963 rows × 11 columns</p>\n</div>"
     },
     "execution_count": 71,
     "metadata": {},
     "output_type": "execute_result"
    }
   ],
   "source": [
    "df"
   ],
   "metadata": {
    "collapsed": false
   }
  },
  {
   "cell_type": "code",
   "execution_count": 72,
   "metadata": {},
   "outputs": [
    {
     "data": {
      "text/plain": "Price                      0\nlocation.latitude         10\nlocation.longitude         0\nbedrooms                1742\nbathrooms               3167\nnearestStation             0\nlatitude_deviation        10\nlatitude_deviation2       10\nlongitude_deviation        0\nlongitude_deviation2       0\ntenure.tenureType       3381\ndtype: int64"
     },
     "execution_count": 72,
     "metadata": {},
     "output_type": "execute_result"
    }
   ],
   "source": [
    "df.isnull().sum()"
   ]
  },
  {
   "cell_type": "code",
   "execution_count": 73,
   "metadata": {},
   "outputs": [
    {
     "name": "stdout",
     "output_type": "stream",
     "text": [
      "<class 'pandas.core.frame.DataFrame'>\n",
      "Int64Index: 51963 entries, 14520525 to 126181118\n",
      "Data columns (total 11 columns):\n",
      " #   Column                Non-Null Count  Dtype  \n",
      "---  ------                --------------  -----  \n",
      " 0   Price                 51963 non-null  float64\n",
      " 1   location.latitude     51953 non-null  float64\n",
      " 2   location.longitude    51963 non-null  float64\n",
      " 3   bedrooms              50221 non-null  float64\n",
      " 4   bathrooms             48796 non-null  float64\n",
      " 5   nearestStation        51963 non-null  float64\n",
      " 6   latitude_deviation    51953 non-null  float64\n",
      " 7   latitude_deviation2   51953 non-null  float64\n",
      " 8   longitude_deviation   51963 non-null  float64\n",
      " 9   longitude_deviation2  51963 non-null  float64\n",
      " 10  tenure.tenureType     48582 non-null  object \n",
      "dtypes: float64(10), object(1)\n",
      "memory usage: 6.8+ MB\n"
     ]
    },
    {
     "data": {
      "text/plain": "               Price  location.latitude  location.longitude       bedrooms  \\\ncount   51963.000000       51953.000000        51963.000000   50221.000000   \nmean   420261.551950          51.496660           -0.104721      11.752414   \nstd    110006.618045           0.076422            0.732518    2186.510990   \nmin    100000.000000          51.298317           -0.498315       1.000000   \n25%    330000.000000          51.439677           -0.211772       1.000000   \n50%    425000.000000          51.499652           -0.104440       2.000000   \n75%    500000.000000          51.554580           -0.011463       3.000000   \nmax    600000.000000          51.683185           51.558746  490000.000000   \n\n          bathrooms  nearestStation  latitude_deviation  latitude_deviation2  \\\ncount  48796.000000    51963.000000        51953.000000         5.195300e+04   \nmean       1.177166        0.445197            0.063450         6.949965e-02   \nstd        0.410474        1.066998            0.042701         4.654016e-02   \nmin        1.000000        0.000000            0.000000         4.000000e-07   \n25%        1.000000        0.224388            0.027740         3.115560e-02   \n50%        1.000000        0.364267            0.057224         6.372140e-02   \n75%        1.000000        0.557841            0.093732         1.009776e-01   \nmax       12.000000      192.431869            0.201335         2.205226e-01   \n\n       longitude_deviation  longitude_deviation2  \ncount         51963.000000          5.196300e+04  \nmean              0.134302          1.389384e-01  \nstd               0.720101          7.203106e-01  \nmin               0.000000          2.000000e-07  \n25%               0.044222          4.649980e-02  \n50%               0.099000          1.031582e-01  \n75%               0.192605          1.974192e-01  \nmax              51.663186          5.162385e+01  ",
      "text/html": "<div>\n<style scoped>\n    .dataframe tbody tr th:only-of-type {\n        vertical-align: middle;\n    }\n\n    .dataframe tbody tr th {\n        vertical-align: top;\n    }\n\n    .dataframe thead th {\n        text-align: right;\n    }\n</style>\n<table border=\"1\" class=\"dataframe\">\n  <thead>\n    <tr style=\"text-align: right;\">\n      <th></th>\n      <th>Price</th>\n      <th>location.latitude</th>\n      <th>location.longitude</th>\n      <th>bedrooms</th>\n      <th>bathrooms</th>\n      <th>nearestStation</th>\n      <th>latitude_deviation</th>\n      <th>latitude_deviation2</th>\n      <th>longitude_deviation</th>\n      <th>longitude_deviation2</th>\n    </tr>\n  </thead>\n  <tbody>\n    <tr>\n      <th>count</th>\n      <td>51963.000000</td>\n      <td>51953.000000</td>\n      <td>51963.000000</td>\n      <td>50221.000000</td>\n      <td>48796.000000</td>\n      <td>51963.000000</td>\n      <td>51953.000000</td>\n      <td>5.195300e+04</td>\n      <td>51963.000000</td>\n      <td>5.196300e+04</td>\n    </tr>\n    <tr>\n      <th>mean</th>\n      <td>420261.551950</td>\n      <td>51.496660</td>\n      <td>-0.104721</td>\n      <td>11.752414</td>\n      <td>1.177166</td>\n      <td>0.445197</td>\n      <td>0.063450</td>\n      <td>6.949965e-02</td>\n      <td>0.134302</td>\n      <td>1.389384e-01</td>\n    </tr>\n    <tr>\n      <th>std</th>\n      <td>110006.618045</td>\n      <td>0.076422</td>\n      <td>0.732518</td>\n      <td>2186.510990</td>\n      <td>0.410474</td>\n      <td>1.066998</td>\n      <td>0.042701</td>\n      <td>4.654016e-02</td>\n      <td>0.720101</td>\n      <td>7.203106e-01</td>\n    </tr>\n    <tr>\n      <th>min</th>\n      <td>100000.000000</td>\n      <td>51.298317</td>\n      <td>-0.498315</td>\n      <td>1.000000</td>\n      <td>1.000000</td>\n      <td>0.000000</td>\n      <td>0.000000</td>\n      <td>4.000000e-07</td>\n      <td>0.000000</td>\n      <td>2.000000e-07</td>\n    </tr>\n    <tr>\n      <th>25%</th>\n      <td>330000.000000</td>\n      <td>51.439677</td>\n      <td>-0.211772</td>\n      <td>1.000000</td>\n      <td>1.000000</td>\n      <td>0.224388</td>\n      <td>0.027740</td>\n      <td>3.115560e-02</td>\n      <td>0.044222</td>\n      <td>4.649980e-02</td>\n    </tr>\n    <tr>\n      <th>50%</th>\n      <td>425000.000000</td>\n      <td>51.499652</td>\n      <td>-0.104440</td>\n      <td>2.000000</td>\n      <td>1.000000</td>\n      <td>0.364267</td>\n      <td>0.057224</td>\n      <td>6.372140e-02</td>\n      <td>0.099000</td>\n      <td>1.031582e-01</td>\n    </tr>\n    <tr>\n      <th>75%</th>\n      <td>500000.000000</td>\n      <td>51.554580</td>\n      <td>-0.011463</td>\n      <td>3.000000</td>\n      <td>1.000000</td>\n      <td>0.557841</td>\n      <td>0.093732</td>\n      <td>1.009776e-01</td>\n      <td>0.192605</td>\n      <td>1.974192e-01</td>\n    </tr>\n    <tr>\n      <th>max</th>\n      <td>600000.000000</td>\n      <td>51.683185</td>\n      <td>51.558746</td>\n      <td>490000.000000</td>\n      <td>12.000000</td>\n      <td>192.431869</td>\n      <td>0.201335</td>\n      <td>2.205226e-01</td>\n      <td>51.663186</td>\n      <td>5.162385e+01</td>\n    </tr>\n  </tbody>\n</table>\n</div>"
     },
     "execution_count": 73,
     "metadata": {},
     "output_type": "execute_result"
    }
   ],
   "source": [
    "df.info()\n",
    "df.describe()"
   ]
  },
  {
   "cell_type": "code",
   "execution_count": 74,
   "metadata": {},
   "outputs": [
    {
     "name": "stdout",
     "output_type": "stream",
     "text": [
      "dataframe contract due to cleaning: 51963 ==> 47296\n"
     ]
    },
    {
     "data": {
      "text/plain": "                        count           mean            std           min  \\\nPrice                 47296.0  424469.678599  107681.003293  1.000000e+05   \nlocation.latitude     47296.0      51.496955       0.077080  5.129832e+01   \nlocation.longitude    47296.0      -0.113224       0.156355 -4.983150e-01   \nbedrooms              47296.0       1.991373       0.828635  1.000000e+00   \nbathrooms             47296.0       1.182172       0.410106  1.000000e+00   \nnearestStation        47296.0       0.439735       0.350406  0.000000e+00   \nlatitude_deviation    47296.0       0.064304       0.042586  0.000000e+00   \nlatitude_deviation2   47296.0       0.070161       0.046847  4.000000e-07   \nlongitude_deviation   47296.0       0.124088       0.095529  0.000000e+00   \nlongitude_deviation2  47296.0       0.128341       0.101443  2.000000e-07   \n\n                                25%            50%            75%  \\\nPrice                 345000.000000  425000.000000  515000.000000   \nlocation.latitude         51.438664      51.499887      51.556007   \nlocation.longitude        -0.210739      -0.102282      -0.010379   \nbedrooms                   1.000000       2.000000       3.000000   \nbathrooms                  1.000000       1.000000       1.000000   \nnearestStation             0.226653       0.367761       0.559066   \nlatitude_deviation         0.028809       0.058585       0.094405   \nlatitude_deviation2        0.031478       0.064619       0.101836   \nlongitude_deviation        0.043521       0.098960       0.192495   \nlongitude_deviation2       0.045573       0.102343       0.196653   \n\n                                max  \nPrice                 600000.000000  \nlocation.latitude         51.683185  \nlocation.longitude         0.279726  \nbedrooms                   7.000000  \nbathrooms                  5.000000  \nnearestStation            16.168861  \nlatitude_deviation         0.201335  \nlatitude_deviation2        0.220523  \nlongitude_deviation        0.393875  \nlongitude_deviation2       0.433210  ",
      "text/html": "<div>\n<style scoped>\n    .dataframe tbody tr th:only-of-type {\n        vertical-align: middle;\n    }\n\n    .dataframe tbody tr th {\n        vertical-align: top;\n    }\n\n    .dataframe thead th {\n        text-align: right;\n    }\n</style>\n<table border=\"1\" class=\"dataframe\">\n  <thead>\n    <tr style=\"text-align: right;\">\n      <th></th>\n      <th>count</th>\n      <th>mean</th>\n      <th>std</th>\n      <th>min</th>\n      <th>25%</th>\n      <th>50%</th>\n      <th>75%</th>\n      <th>max</th>\n    </tr>\n  </thead>\n  <tbody>\n    <tr>\n      <th>Price</th>\n      <td>47296.0</td>\n      <td>424469.678599</td>\n      <td>107681.003293</td>\n      <td>1.000000e+05</td>\n      <td>345000.000000</td>\n      <td>425000.000000</td>\n      <td>515000.000000</td>\n      <td>600000.000000</td>\n    </tr>\n    <tr>\n      <th>location.latitude</th>\n      <td>47296.0</td>\n      <td>51.496955</td>\n      <td>0.077080</td>\n      <td>5.129832e+01</td>\n      <td>51.438664</td>\n      <td>51.499887</td>\n      <td>51.556007</td>\n      <td>51.683185</td>\n    </tr>\n    <tr>\n      <th>location.longitude</th>\n      <td>47296.0</td>\n      <td>-0.113224</td>\n      <td>0.156355</td>\n      <td>-4.983150e-01</td>\n      <td>-0.210739</td>\n      <td>-0.102282</td>\n      <td>-0.010379</td>\n      <td>0.279726</td>\n    </tr>\n    <tr>\n      <th>bedrooms</th>\n      <td>47296.0</td>\n      <td>1.991373</td>\n      <td>0.828635</td>\n      <td>1.000000e+00</td>\n      <td>1.000000</td>\n      <td>2.000000</td>\n      <td>3.000000</td>\n      <td>7.000000</td>\n    </tr>\n    <tr>\n      <th>bathrooms</th>\n      <td>47296.0</td>\n      <td>1.182172</td>\n      <td>0.410106</td>\n      <td>1.000000e+00</td>\n      <td>1.000000</td>\n      <td>1.000000</td>\n      <td>1.000000</td>\n      <td>5.000000</td>\n    </tr>\n    <tr>\n      <th>nearestStation</th>\n      <td>47296.0</td>\n      <td>0.439735</td>\n      <td>0.350406</td>\n      <td>0.000000e+00</td>\n      <td>0.226653</td>\n      <td>0.367761</td>\n      <td>0.559066</td>\n      <td>16.168861</td>\n    </tr>\n    <tr>\n      <th>latitude_deviation</th>\n      <td>47296.0</td>\n      <td>0.064304</td>\n      <td>0.042586</td>\n      <td>0.000000e+00</td>\n      <td>0.028809</td>\n      <td>0.058585</td>\n      <td>0.094405</td>\n      <td>0.201335</td>\n    </tr>\n    <tr>\n      <th>latitude_deviation2</th>\n      <td>47296.0</td>\n      <td>0.070161</td>\n      <td>0.046847</td>\n      <td>4.000000e-07</td>\n      <td>0.031478</td>\n      <td>0.064619</td>\n      <td>0.101836</td>\n      <td>0.220523</td>\n    </tr>\n    <tr>\n      <th>longitude_deviation</th>\n      <td>47296.0</td>\n      <td>0.124088</td>\n      <td>0.095529</td>\n      <td>0.000000e+00</td>\n      <td>0.043521</td>\n      <td>0.098960</td>\n      <td>0.192495</td>\n      <td>0.393875</td>\n    </tr>\n    <tr>\n      <th>longitude_deviation2</th>\n      <td>47296.0</td>\n      <td>0.128341</td>\n      <td>0.101443</td>\n      <td>2.000000e-07</td>\n      <td>0.045573</td>\n      <td>0.102343</td>\n      <td>0.196653</td>\n      <td>0.433210</td>\n    </tr>\n  </tbody>\n</table>\n</div>"
     },
     "execution_count": 74,
     "metadata": {},
     "output_type": "execute_result"
    }
   ],
   "source": [
    "old_length = len(df)\n",
    "df['location.latitude'] = pd.to_numeric(df['location.latitude'], 'coerce').dropna().astype(float)\n",
    "df = df[(df['location.longitude'] <= 10)]\n",
    "df = df[(df['longitude_deviation'] <= 1)]\n",
    "df = df[(df['longitude_deviation2'] <= 1)]\n",
    "df = df[(df['bedrooms'] <= 10)]\n",
    "df = df[df['bathrooms'] <= 5]\n",
    "df = df[(df['nearestStation'] <= 20)]\n",
    "\n",
    "print(f\"dataframe contract due to cleaning: {old_length} ==> {len(df)}\")\n",
    "old_length = len(df)\n",
    "\n",
    "df.describe().T"
   ]
  },
  {
   "cell_type": "code",
   "execution_count": 75,
   "metadata": {},
   "outputs": [
    {
     "data": {
      "text/plain": "Price                      0\nlocation.latitude          0\nlocation.longitude         0\nbedrooms                   0\nbathrooms                  0\nnearestStation             0\nlatitude_deviation         0\nlatitude_deviation2        0\nlongitude_deviation        0\nlongitude_deviation2       0\ntenure.tenureType       2760\ndtype: int64"
     },
     "execution_count": 75,
     "metadata": {},
     "output_type": "execute_result"
    }
   ],
   "source": [
    "df.isna().sum()"
   ]
  },
  {
   "cell_type": "code",
   "execution_count": 76,
   "metadata": {},
   "outputs": [
    {
     "name": "stdout",
     "output_type": "stream",
     "text": [
      "47296 ==> 44536\n"
     ]
    },
    {
     "data": {
      "text/plain": "               Price  location.latitude  location.longitude      bedrooms  \\\ncount   44536.000000       44536.000000        44536.000000  44536.000000   \nmean   424609.250898          51.496603           -0.113049      1.990053   \nstd    107654.185067           0.077262            0.155732      0.827432   \nmin    100000.000000          51.298317           -0.498315      1.000000   \n25%    345000.000000          51.438160           -0.210552      1.000000   \n50%    425000.000000          51.498676           -0.101931      2.000000   \n75%    515000.000000          51.556100           -0.010872      3.000000   \nmax    600000.000000          51.683185            0.279726      7.000000   \n\n          bathrooms  nearestStation  latitude_deviation  latitude_deviation2  \\\ncount  44536.000000    44536.000000        44536.000000         4.453600e+04   \nmean       1.181449        0.439503            0.064529         7.006823e-02   \nstd        0.409188        0.350229            0.042599         4.702881e-02   \nmin        1.000000        0.000000            0.000000         4.000000e-07   \n25%        1.000000        0.227205            0.028975         3.108160e-02   \n50%        1.000000        0.368114            0.058904         6.442100e-02   \n75%        1.000000        0.558861            0.094644         1.018984e-01   \nmax        5.000000       16.168861            0.201335         2.205226e-01   \n\n       longitude_deviation  longitude_deviation2  \ncount         44536.000000          4.453600e+04  \nmean              0.123587          1.278087e-01  \nstd               0.095144          1.010732e-01  \nmin               0.000000          2.000000e-07  \n25%               0.043483          4.530595e-02  \n50%               0.098666          1.019750e-01  \n75%               0.191621          1.957660e-01  \nmax               0.393875          4.332102e-01  ",
      "text/html": "<div>\n<style scoped>\n    .dataframe tbody tr th:only-of-type {\n        vertical-align: middle;\n    }\n\n    .dataframe tbody tr th {\n        vertical-align: top;\n    }\n\n    .dataframe thead th {\n        text-align: right;\n    }\n</style>\n<table border=\"1\" class=\"dataframe\">\n  <thead>\n    <tr style=\"text-align: right;\">\n      <th></th>\n      <th>Price</th>\n      <th>location.latitude</th>\n      <th>location.longitude</th>\n      <th>bedrooms</th>\n      <th>bathrooms</th>\n      <th>nearestStation</th>\n      <th>latitude_deviation</th>\n      <th>latitude_deviation2</th>\n      <th>longitude_deviation</th>\n      <th>longitude_deviation2</th>\n    </tr>\n  </thead>\n  <tbody>\n    <tr>\n      <th>count</th>\n      <td>44536.000000</td>\n      <td>44536.000000</td>\n      <td>44536.000000</td>\n      <td>44536.000000</td>\n      <td>44536.000000</td>\n      <td>44536.000000</td>\n      <td>44536.000000</td>\n      <td>4.453600e+04</td>\n      <td>44536.000000</td>\n      <td>4.453600e+04</td>\n    </tr>\n    <tr>\n      <th>mean</th>\n      <td>424609.250898</td>\n      <td>51.496603</td>\n      <td>-0.113049</td>\n      <td>1.990053</td>\n      <td>1.181449</td>\n      <td>0.439503</td>\n      <td>0.064529</td>\n      <td>7.006823e-02</td>\n      <td>0.123587</td>\n      <td>1.278087e-01</td>\n    </tr>\n    <tr>\n      <th>std</th>\n      <td>107654.185067</td>\n      <td>0.077262</td>\n      <td>0.155732</td>\n      <td>0.827432</td>\n      <td>0.409188</td>\n      <td>0.350229</td>\n      <td>0.042599</td>\n      <td>4.702881e-02</td>\n      <td>0.095144</td>\n      <td>1.010732e-01</td>\n    </tr>\n    <tr>\n      <th>min</th>\n      <td>100000.000000</td>\n      <td>51.298317</td>\n      <td>-0.498315</td>\n      <td>1.000000</td>\n      <td>1.000000</td>\n      <td>0.000000</td>\n      <td>0.000000</td>\n      <td>4.000000e-07</td>\n      <td>0.000000</td>\n      <td>2.000000e-07</td>\n    </tr>\n    <tr>\n      <th>25%</th>\n      <td>345000.000000</td>\n      <td>51.438160</td>\n      <td>-0.210552</td>\n      <td>1.000000</td>\n      <td>1.000000</td>\n      <td>0.227205</td>\n      <td>0.028975</td>\n      <td>3.108160e-02</td>\n      <td>0.043483</td>\n      <td>4.530595e-02</td>\n    </tr>\n    <tr>\n      <th>50%</th>\n      <td>425000.000000</td>\n      <td>51.498676</td>\n      <td>-0.101931</td>\n      <td>2.000000</td>\n      <td>1.000000</td>\n      <td>0.368114</td>\n      <td>0.058904</td>\n      <td>6.442100e-02</td>\n      <td>0.098666</td>\n      <td>1.019750e-01</td>\n    </tr>\n    <tr>\n      <th>75%</th>\n      <td>515000.000000</td>\n      <td>51.556100</td>\n      <td>-0.010872</td>\n      <td>3.000000</td>\n      <td>1.000000</td>\n      <td>0.558861</td>\n      <td>0.094644</td>\n      <td>1.018984e-01</td>\n      <td>0.191621</td>\n      <td>1.957660e-01</td>\n    </tr>\n    <tr>\n      <th>max</th>\n      <td>600000.000000</td>\n      <td>51.683185</td>\n      <td>0.279726</td>\n      <td>7.000000</td>\n      <td>5.000000</td>\n      <td>16.168861</td>\n      <td>0.201335</td>\n      <td>2.205226e-01</td>\n      <td>0.393875</td>\n      <td>4.332102e-01</td>\n    </tr>\n  </tbody>\n</table>\n</div>"
     },
     "execution_count": 76,
     "metadata": {},
     "output_type": "execute_result"
    }
   ],
   "source": [
    "df = df.dropna()\n",
    "print(f\"{old_length} ==> {len(df)}\")\n",
    "old_length = len(df)\n",
    "df.describe()"
   ]
  },
  {
   "cell_type": "code",
   "execution_count": 77,
   "metadata": {},
   "outputs": [
    {
     "name": "stdout",
     "output_type": "stream",
     "text": [
      "(40082, 13) (4454, 13) (40082, 1) (4454, 1) (40082, 1) (4454, 1) (40082, 1) (4454, 1)\n"
     ]
    }
   ],
   "source": [
    "X_train, X_test, y_train, y_test, X_train_index, X_test_index, y_train_index, y_test_index = create_train_test_data(df,\n",
    "                                                                                                                    return_index=True,\n",
    "                                                                                                                    drop_nulls=True)\n",
    "\n",
    "print(X_train.shape, X_test.shape, y_train.shape, y_test.shape, X_train_index.shape, X_test_index.shape,\n",
    "      y_train_index.shape, y_test_index.shape)\n",
    "#print(type(X_train))\n",
    "#X_train[0]"
   ]
  },
  {
   "cell_type": "code",
   "execution_count": 78,
   "metadata": {},
   "outputs": [],
   "source": [
    "#imputer = SimpleImputer(strategy='mean')\n",
    "#imputer.fit(X_train[6])\n",
    "#X_train[6] = imputer.transform(X_train[6])"
   ]
  },
  {
   "cell_type": "code",
   "execution_count": 79,
   "metadata": {},
   "outputs": [
    {
     "data": {
      "text/plain": "{'alpha': 1.0,\n 'copy_X': True,\n 'fit_intercept': True,\n 'max_iter': None,\n 'normalize': 'deprecated',\n 'positive': False,\n 'random_state': None,\n 'solver': 'auto',\n 'tol': 0.001}"
     },
     "execution_count": 79,
     "metadata": {},
     "output_type": "execute_result"
    }
   ],
   "source": [
    "from time import time\n",
    "\n",
    "pipe.fit(X_train, y_train)\n",
    "\n",
    "model = Ridge()\n",
    "model.get_params()"
   ]
  },
  {
   "cell_type": "code",
   "execution_count": 80,
   "outputs": [
    {
     "name": "stdout",
     "output_type": "stream",
     "text": [
      "Fitting 2 folds for each of 10 candidates, totalling 20 fits\n"
     ]
    },
    {
     "name": "stderr",
     "output_type": "stream",
     "text": [
      "/home/guava/PycharmProjects/capstone_streamlit/venv/lib/python3.8/site-packages/sklearn/model_selection/_validation.py:378: FitFailedWarning: \n",
      "6 fits failed out of a total of 20.\n",
      "The score on these train-test partitions for these parameters will be set to nan.\n",
      "If these failures are not expected, you can try to debug them by setting error_score='raise'.\n",
      "\n",
      "Below are more details about the failures:\n",
      "--------------------------------------------------------------------------------\n",
      "2 fits failed with the following error:\n",
      "Traceback (most recent call last):\n",
      "  File \"/home/guava/PycharmProjects/capstone_streamlit/venv/lib/python3.8/site-packages/sklearn/model_selection/_validation.py\", line 686, in _fit_and_score\n",
      "    estimator.fit(X_train, y_train, **fit_params)\n",
      "  File \"/home/guava/PycharmProjects/capstone_streamlit/venv/lib/python3.8/site-packages/sklearn/pipeline.py\", line 382, in fit\n",
      "    self._final_estimator.fit(Xt, y, **fit_params_last_step)\n",
      "  File \"/home/guava/PycharmProjects/capstone_streamlit/venv/lib/python3.8/site-packages/sklearn/linear_model/_ridge.py\", line 1130, in fit\n",
      "    return super().fit(X, y, sample_weight=sample_weight)\n",
      "  File \"/home/guava/PycharmProjects/capstone_streamlit/venv/lib/python3.8/site-packages/sklearn/linear_model/_ridge.py\", line 806, in fit\n",
      "    raise ValueError(\n",
      "ValueError: 'lbfgs' solver can be used only when positive=True. Please use another solver.\n",
      "\n",
      "--------------------------------------------------------------------------------\n",
      "4 fits failed with the following error:\n",
      "Traceback (most recent call last):\n",
      "  File \"/home/guava/PycharmProjects/capstone_streamlit/venv/lib/python3.8/site-packages/sklearn/model_selection/_validation.py\", line 686, in _fit_and_score\n",
      "    estimator.fit(X_train, y_train, **fit_params)\n",
      "  File \"/home/guava/PycharmProjects/capstone_streamlit/venv/lib/python3.8/site-packages/sklearn/pipeline.py\", line 382, in fit\n",
      "    self._final_estimator.fit(Xt, y, **fit_params_last_step)\n",
      "  File \"/home/guava/PycharmProjects/capstone_streamlit/venv/lib/python3.8/site-packages/sklearn/linear_model/_ridge.py\", line 1130, in fit\n",
      "    return super().fit(X, y, sample_weight=sample_weight)\n",
      "  File \"/home/guava/PycharmProjects/capstone_streamlit/venv/lib/python3.8/site-packages/sklearn/linear_model/_ridge.py\", line 813, in fit\n",
      "    raise ValueError(\n",
      "ValueError: solver='sparse_cg' does not support positive fitting. Please set the solver to 'auto' or 'lbfgs', or set `positive=False`\n",
      "\n",
      "  warnings.warn(some_fits_failed_message, FitFailedWarning)\n",
      "/home/guava/PycharmProjects/capstone_streamlit/venv/lib/python3.8/site-packages/sklearn/model_selection/_search.py:953: UserWarning: One or more of the test scores are non-finite: [  0.45244066 -15.03902118 -15.0386632    0.4524408  -15.03866145\n",
      "          nan          nan -15.03902118          nan   0.27980499]\n",
      "  warnings.warn(\n",
      "/home/guava/PycharmProjects/capstone_streamlit/venv/lib/python3.8/site-packages/sklearn/model_selection/_search.py:953: UserWarning: One or more of the train scores are non-finite: [  0.4528106  -15.037096   -15.03658859   0.45281052 -15.03658866\n",
      "          nan          nan -15.037096            nan   0.28006131]\n",
      "  warnings.warn(\n"
     ]
    }
   ],
   "source": [
    "\n",
    "from sklearn.pipeline import Pipeline\n",
    "\n",
    "# Best Score:  0.30582573121661794\n",
    "# Best Score:  {'alpha': 10, 'fit_intercept': True, 'max_iter': 1000, 'positive': False, 'selection': 'cyclic', 'tol': 0.001, 'warm_start': True}\n",
    "# Best Score:  Lasso(alpha=10, tol=0.001, warm_start=True)\n",
    "# Best Score:  138\n",
    "\n",
    "# find optimal alpha with grid search\n",
    "alpha = [0.001, 0.01, 0.1, 1, 10, 100, 1000]\n",
    "#alpha = [1, 10, 100]\n",
    "fit_intercept = [True, False]\n",
    "max_iter = [100, 1000, 10000]\n",
    "positive = [True, False]\n",
    "solver = ['auto', 'svd', 'cholesky', 'lsqr', 'sparse_cg', 'sag', 'saga', 'lbfgs']\n",
    "tol = [0.00001, 0.0001, 0.001, 0.01]\n",
    "warm_start = [True, False]\n",
    "# ['alpha', 'copy_X', 'fit_intercept', 'max_iter', 'normalize', 'positive', 'precompute', 'random_state', 'selection', 'tol', 'warm_start'].\n",
    "\n",
    "options__n_neighbours = [3, 5, 7, 9, 15, 31]\n",
    "options__leafsize = [2, 3, 4, 57, 9, 13, 21]\n",
    "\n",
    "param_grid = dict(model__alpha=alpha, model__fit_intercept=fit_intercept, model__max_iter=max_iter,\n",
    "                  model__positive=positive,\n",
    "                  model__tol=tol, model__solver=solver)\n",
    "#param_grid = dict(estimator__n_neighbors=options__n_neighbours, estimator__leaf_size= options__leafsize)\n",
    "\n",
    "#param_grid = {'model__n_neighbors': options__n_neighbours,'model__leaf_size': options__leafsize},\n",
    "#param_grid = {'n_neighbors': options__n_neighbours,                   'leaf_size': options__leafsize},\n",
    "cv = 2\n",
    "n_jobs = 1\n",
    "verbose = 1\n",
    "refit = True\n",
    "\n",
    "#grid = RandomizedSearchCV(estimator=model, param_grid=param_grid, scoring='r2', verbose=1, n_jobs=-1)\n",
    "\n",
    "gs = RandomizedSearchCV(pipe, param_grid, cv=cv, n_jobs=n_jobs,\n",
    "                        verbose=verbose, scoring=CROSS_VALIDATION_SCORING, refit=refit,\n",
    "                        return_train_score=True),\n",
    "gs\n",
    "\n",
    "grid_result = gs[0].fit(X_train, y_train)\n"
   ],
   "metadata": {
    "collapsed": false
   }
  },
  {
   "cell_type": "code",
   "execution_count": 81,
   "outputs": [
    {
     "name": "stdout",
     "output_type": "stream",
     "text": [
      "[0.0567471981048584]\n",
      "0.0567471981048584\n"
     ]
    }
   ],
   "source": [
    "pipe = grid_result.best_estimator_\n",
    "timings = []\n",
    "\n",
    "t0 = time()\n",
    "pipe.fit(X_train, y_train)\n",
    "timings.append(time() - t0)\n",
    "\n",
    "print(timings)\n",
    "average_time = sum(timings) / len(timings)\n",
    "print(average_time)"
   ],
   "metadata": {
    "collapsed": false
   }
  },
  {
   "cell_type": "code",
   "execution_count": 82,
   "outputs": [
    {
     "name": "stdout",
     "output_type": "stream",
     "text": [
      "BEST PARAMS: {'model__tol': 0.01, 'model__solver': 'auto', 'model__positive': False, 'model__max_iter': 1000, 'model__fit_intercept': True, 'model__alpha': 1}\n",
      "0.452 (+/-0.01) for {'model__tol': 1e-05, 'model__solver': 'sparse_cg', 'model__positive': False, 'model__max_iter': 1000, 'model__fit_intercept': True, 'model__alpha': 0.1}\n",
      "-15.039 (+/-0.173) for {'model__tol': 1e-05, 'model__solver': 'lsqr', 'model__positive': False, 'model__max_iter': 10000, 'model__fit_intercept': False, 'model__alpha': 100}\n",
      "-15.039 (+/-0.18) for {'model__tol': 1e-05, 'model__solver': 'lsqr', 'model__positive': False, 'model__max_iter': 10000, 'model__fit_intercept': False, 'model__alpha': 0.01}\n",
      "0.452 (+/-0.01) for {'model__tol': 0.01, 'model__solver': 'auto', 'model__positive': False, 'model__max_iter': 1000, 'model__fit_intercept': True, 'model__alpha': 1}\n",
      "-15.039 (+/-0.18) for {'model__tol': 0.001, 'model__solver': 'svd', 'model__positive': False, 'model__max_iter': 100, 'model__fit_intercept': False, 'model__alpha': 1}\n",
      "nan (+/-nan) for {'model__tol': 0.001, 'model__solver': 'lbfgs', 'model__positive': False, 'model__max_iter': 100, 'model__fit_intercept': False, 'model__alpha': 10}\n",
      "nan (+/-nan) for {'model__tol': 0.001, 'model__solver': 'sparse_cg', 'model__positive': True, 'model__max_iter': 100, 'model__fit_intercept': True, 'model__alpha': 1000}\n",
      "-15.039 (+/-0.173) for {'model__tol': 1e-05, 'model__solver': 'cholesky', 'model__positive': False, 'model__max_iter': 1000, 'model__fit_intercept': False, 'model__alpha': 100}\n",
      "nan (+/-nan) for {'model__tol': 0.0001, 'model__solver': 'sparse_cg', 'model__positive': True, 'model__max_iter': 1000, 'model__fit_intercept': True, 'model__alpha': 1}\n",
      "0.28 (+/-0.001) for {'model__tol': 1e-05, 'model__solver': 'lbfgs', 'model__positive': True, 'model__max_iter': 10000, 'model__fit_intercept': True, 'model__alpha': 0.01}\n",
      "Best Index:  3\n",
      "Best Score:  0.4524408031410255\n",
      "Best Params:  {'model__tol': 0.01, 'model__solver': 'auto', 'model__positive': False, 'model__max_iter': 1000, 'model__fit_intercept': True, 'model__alpha': 1}\n"
     ]
    }
   ],
   "source": [
    "def print_results(results):\n",
    "    print(f'BEST PARAMS: {results.best_params_}')\n",
    "\n",
    "    means = results.cv_results_['mean_test_score']\n",
    "    stds = results.cv_results_['std_test_score']\n",
    "    for mean, std, params in zip(means, stds, results.cv_results_['params']):\n",
    "        print(f'{round(mean, 3)} (+/-{round(std * 2, 3)}) for {params}')\n",
    "\n",
    "\n",
    "print_results(grid_result)\n",
    "print('Best Index: ', grid_result.best_index_)\n",
    "print('Best Score: ', grid_result.best_score_)\n",
    "print('Best Params: ', grid_result.best_params_)\n",
    "#print('Best Model: ', grid_result.)\n",
    "#print('Best Params: ', grid_result.best_params_)[out]\n",
    "### Best Score:  0.4883436188936269\n",
    "### Best Params:  {'alpha': 0.01}\n"
   ],
   "metadata": {
    "collapsed": false
   }
  },
  {
   "cell_type": "code",
   "execution_count": 82,
   "outputs": [],
   "source": [],
   "metadata": {
    "collapsed": false
   }
  },
  {
   "cell_type": "code",
   "execution_count": 83,
   "metadata": {},
   "outputs": [],
   "source": [
    "y_pred = pipe.predict(X_test)"
   ]
  },
  {
   "cell_type": "code",
   "execution_count": 84,
   "metadata": {},
   "outputs": [
    {
     "name": "stdout",
     "output_type": "stream",
     "text": [
      "----------Linear Regression----------\n",
      "R square Accuracy 0.4383177683788616\n",
      "Mean Absolute Error Accuracy 64693.873773454216\n",
      "Mean Squared Error Accuracy 6344423918.004436\n",
      "Root Mean Squared Error 79651.89211816902\n"
     ]
    }
   ],
   "source": [
    "from sklearn.metrics import r2_score, mean_absolute_error, mean_squared_error\n",
    "\n",
    "y_pred = y_pred.reshape((-1, 1))\n",
    "\n",
    "R2 = r2_score(y_test, y_pred)\n",
    "MAE = mean_absolute_error(y_test, y_pred)\n",
    "MSE = mean_squared_error(y_test, y_pred)\n",
    "RMSE = math.sqrt(MSE)\n",
    "print('-' * 10 + ALGORITHM + '-' * 10)\n",
    "print('R square Accuracy', R2)\n",
    "print('Mean Absolute Error Accuracy', MAE)\n",
    "print('Mean Squared Error Accuracy', MSE)\n",
    "print('Root Mean Squared Error', RMSE)"
   ]
  },
  {
   "cell_type": "code",
   "execution_count": 85,
   "metadata": {},
   "outputs": [],
   "source": [
    "if debug_mode:\n",
    "    print(y_test_index.reshape((-1, 1)).shape);\n",
    "    print(y_pred.reshape((-1, 1)).shape);\n",
    "    print(y_test.shape);\n",
    "    print(y_test_index.shape);\n",
    "    print(y_pred.shape);\n",
    "    print(y_test.shape)"
   ]
  },
  {
   "cell_type": "code",
   "execution_count": 86,
   "metadata": {},
   "outputs": [
    {
     "data": {
      "text/plain": "               actual      predicted     difference   diff 1 %   diff 2 %\nreference                                                                \n120812111.0  450000.0  465858.703488   15858.703488   3.524156   3.404187\n120616928.0  495000.0  527312.417497   32312.417497   6.527761   6.127756\n121429886.0  420000.0  422745.005575    2745.005575   0.653573   0.649329\n121087214.0  285000.0  389107.080028  104107.080028  36.528800  26.755381\n125329820.0  275000.0  371790.544735   96790.544735  35.196562  26.033622\n...               ...            ...            ...        ...        ...\n115698140.0  500000.0  641400.908561  141400.908561  28.280182  22.045636\n116935787.0  200000.0  364620.558013  164620.558013  82.310279  45.148458\n125336018.0  250000.0  276316.802624   26316.802624  10.526721   9.524141\n120907520.0  600000.0  505201.127820   94798.872180  15.799812  18.764580\n125449964.0  300000.0  293112.747861    6887.252139   2.295751   2.349694\n\n[4454 rows x 5 columns]",
      "text/html": "<div>\n<style scoped>\n    .dataframe tbody tr th:only-of-type {\n        vertical-align: middle;\n    }\n\n    .dataframe tbody tr th {\n        vertical-align: top;\n    }\n\n    .dataframe thead th {\n        text-align: right;\n    }\n</style>\n<table border=\"1\" class=\"dataframe\">\n  <thead>\n    <tr style=\"text-align: right;\">\n      <th></th>\n      <th>actual</th>\n      <th>predicted</th>\n      <th>difference</th>\n      <th>diff 1 %</th>\n      <th>diff 2 %</th>\n    </tr>\n    <tr>\n      <th>reference</th>\n      <th></th>\n      <th></th>\n      <th></th>\n      <th></th>\n      <th></th>\n    </tr>\n  </thead>\n  <tbody>\n    <tr>\n      <th>120812111.0</th>\n      <td>450000.0</td>\n      <td>465858.703488</td>\n      <td>15858.703488</td>\n      <td>3.524156</td>\n      <td>3.404187</td>\n    </tr>\n    <tr>\n      <th>120616928.0</th>\n      <td>495000.0</td>\n      <td>527312.417497</td>\n      <td>32312.417497</td>\n      <td>6.527761</td>\n      <td>6.127756</td>\n    </tr>\n    <tr>\n      <th>121429886.0</th>\n      <td>420000.0</td>\n      <td>422745.005575</td>\n      <td>2745.005575</td>\n      <td>0.653573</td>\n      <td>0.649329</td>\n    </tr>\n    <tr>\n      <th>121087214.0</th>\n      <td>285000.0</td>\n      <td>389107.080028</td>\n      <td>104107.080028</td>\n      <td>36.528800</td>\n      <td>26.755381</td>\n    </tr>\n    <tr>\n      <th>125329820.0</th>\n      <td>275000.0</td>\n      <td>371790.544735</td>\n      <td>96790.544735</td>\n      <td>35.196562</td>\n      <td>26.033622</td>\n    </tr>\n    <tr>\n      <th>...</th>\n      <td>...</td>\n      <td>...</td>\n      <td>...</td>\n      <td>...</td>\n      <td>...</td>\n    </tr>\n    <tr>\n      <th>115698140.0</th>\n      <td>500000.0</td>\n      <td>641400.908561</td>\n      <td>141400.908561</td>\n      <td>28.280182</td>\n      <td>22.045636</td>\n    </tr>\n    <tr>\n      <th>116935787.0</th>\n      <td>200000.0</td>\n      <td>364620.558013</td>\n      <td>164620.558013</td>\n      <td>82.310279</td>\n      <td>45.148458</td>\n    </tr>\n    <tr>\n      <th>125336018.0</th>\n      <td>250000.0</td>\n      <td>276316.802624</td>\n      <td>26316.802624</td>\n      <td>10.526721</td>\n      <td>9.524141</td>\n    </tr>\n    <tr>\n      <th>120907520.0</th>\n      <td>600000.0</td>\n      <td>505201.127820</td>\n      <td>94798.872180</td>\n      <td>15.799812</td>\n      <td>18.764580</td>\n    </tr>\n    <tr>\n      <th>125449964.0</th>\n      <td>300000.0</td>\n      <td>293112.747861</td>\n      <td>6887.252139</td>\n      <td>2.295751</td>\n      <td>2.349694</td>\n    </tr>\n  </tbody>\n</table>\n<p>4454 rows × 5 columns</p>\n</div>"
     },
     "execution_count": 86,
     "metadata": {},
     "output_type": "execute_result"
    }
   ],
   "source": [
    "compare = np.hstack((y_test_index, y_test, y_pred))\n",
    "compare_df = DataFrame(compare, columns=['reference', 'actual', 'predicted'])\n",
    "compare_df['difference'] = abs(compare_df['actual'] - compare_df['predicted'])\n",
    "compare_df['diff 1 %'] = abs((compare_df['actual'] - compare_df['predicted']) / compare_df['actual'] * 100)\n",
    "compare_df['diff 2 %'] = abs((compare_df['actual'] - compare_df['predicted']) / compare_df['predicted']) * 100\n",
    "compare_df['reference'] = compare_df['reference'].astype(str)\n",
    "compare_df.set_index('reference', inplace=True)\n",
    "compare_df"
   ]
  },
  {
   "cell_type": "code",
   "execution_count": 87,
   "metadata": {},
   "outputs": [
    {
     "data": {
      "text/plain": "Empty DataFrame\nColumns: [actual, predicted, difference, diff 1 %, diff 2 %, Price, bedrooms, bathrooms, nearestStation, latitude_deviation2, longitude_deviation2, tenure.tenureType]\nIndex: []",
      "text/html": "<div>\n<style scoped>\n    .dataframe tbody tr th:only-of-type {\n        vertical-align: middle;\n    }\n\n    .dataframe tbody tr th {\n        vertical-align: top;\n    }\n\n    .dataframe thead th {\n        text-align: right;\n    }\n</style>\n<table border=\"1\" class=\"dataframe\">\n  <thead>\n    <tr style=\"text-align: right;\">\n      <th></th>\n      <th>actual</th>\n      <th>predicted</th>\n      <th>difference</th>\n      <th>diff 1 %</th>\n      <th>diff 2 %</th>\n      <th>Price</th>\n      <th>bedrooms</th>\n      <th>bathrooms</th>\n      <th>nearestStation</th>\n      <th>latitude_deviation2</th>\n      <th>longitude_deviation2</th>\n      <th>tenure.tenureType</th>\n    </tr>\n  </thead>\n  <tbody>\n  </tbody>\n</table>\n</div>"
     },
     "execution_count": 87,
     "metadata": {},
     "output_type": "execute_result"
    }
   ],
   "source": [
    "compare_df.merge(df[columns], how='inner', left_index=True, right_index=True).sort_values(['diff 1 %'], ascending=False)"
   ]
  },
  {
   "cell_type": "markdown",
   "source": [
    "Notes:\n",
    "* 96587218 has been removed from sale\n",
    "* 117356900 is a hotel room\n",
    "* 125520530"
   ],
   "metadata": {
    "collapsed": false
   }
  },
  {
   "cell_type": "code",
   "execution_count": 87,
   "outputs": [],
   "source": [
    "\n"
   ],
   "metadata": {
    "collapsed": false
   }
  },
  {
   "cell_type": "code",
   "execution_count": 88,
   "metadata": {},
   "outputs": [
    {
     "data": {
      "text/plain": "0.4383177683788616"
     },
     "execution_count": 88,
     "metadata": {},
     "output_type": "execute_result"
    }
   ],
   "source": [
    "score = pipe.score(X_test, y_test)\n",
    "score"
   ]
  },
  {
   "cell_type": "code",
   "execution_count": 89,
   "metadata": {},
   "outputs": [
    {
     "data": {
      "text/plain": "0.4383177683788616"
     },
     "execution_count": 89,
     "metadata": {},
     "output_type": "execute_result"
    }
   ],
   "source": [
    "from sklearn.metrics import r2_score\n",
    "\n",
    "r2_score(y_test, y_pred)"
   ]
  },
  {
   "cell_type": "code",
   "execution_count": 90,
   "metadata": {},
   "outputs": [
    {
     "data": {
      "text/plain": "<Figure size 640x480 with 1 Axes>",
      "image/png": "[encoded data removed]"
     },
     "metadata": {},
     "output_type": "display_data"
    }
   ],
   "source": [
    "import matplotlib.pyplot as plt\n",
    "\n",
    "fig, ax = plt.subplots()\n",
    "ax.scatter(y_test, pipe.predict(X_test), edgecolors=(0, 0, 1))\n",
    "ax.plot([y_test.min(), y_test.max()], [y_test.min(), y_test.max()], 'r--', lw=3)\n",
    "ax.set_ylabel('Predicted')\n",
    "ax.set_xlabel('Actual')\n",
    "#ax.title.set_text(f'CV Chosen best option ({calculated_best_pipe[1]})')\n",
    "plt.show()"
   ]
  },
  {
   "cell_type": "code",
   "execution_count": 98,
   "metadata": {},
   "outputs": [
    {
     "data": {
      "text/plain": "{'Score': 0.4383177683788616,\n 'R square Accuracy': 0.4383177683788616,\n 'Mean Absolute Error Accuracy': 64693.873773454216,\n 'Mean Squared Error Accuracy': 6344423918.004436,\n 'Root Mean Squared Error': 79651.89211816902,\n 'Training Time': 0.0567471981048584,\n 'random_state': 101,\n 'date': '2022-10-18 18:32:25.140893',\n 'params': {'model__tol': 0.01,\n  'model__solver': 'auto',\n  'model__positive': False,\n  'model__max_iter': 1000,\n  'model__fit_intercept': True,\n  'model__alpha': 1},\n 'first run': '2022-10-18 18:32:17.850765',\n 'max params': {'model__tol': 0.01,\n  'model__solver': 'auto',\n  'model__positive': False,\n  'model__max_iter': 1000,\n  'model__fit_intercept': True,\n  'model__alpha': 1},\n 'max score': 0.4383177683788616,\n 'suboptimal': 'pending'}"
     },
     "execution_count": 98,
     "metadata": {},
     "output_type": "execute_result"
    }
   ],
   "source": [
    "from datetime import datetime\n",
    "\n",
    "results = {\n",
    "    'Score': score,\n",
    "    'R square Accuracy': R2,\n",
    "    'Mean Absolute Error Accuracy': MAE,\n",
    "    'Mean Squared Error Accuracy': MSE,\n",
    "    'Root Mean Squared Error': RMSE,\n",
    "    'Training Time': average_time,\n",
    "    'random_state': RANDOM_STATE,\n",
    "    'date': str(datetime.now()),\n",
    "    'params': grid_result.best_params_\n",
    "}\n",
    "import json\n",
    "\n",
    "\n",
    "def get_results():\n",
    "    results_filename = '../../results/results.json'\n",
    "\n",
    "    with open(results_filename) as f:\n",
    "        raw_audit = f.read()\n",
    "    results_json = json.loads(raw_audit)\n",
    "    return results_json\n",
    "\n",
    "\n",
    "def update_results(saved_results_json, new_results):\n",
    "    key = f'{ALGORITHM} - {ALGORITHM_DETAIL} (v{VERSION})'.lower()\n",
    "    try:\n",
    "        first_run_date = str(datetime.now())\n",
    "        first_run_date = saved_results_json[key]['date']\n",
    "        first_run_date = saved_results_json[key]['first run']\n",
    "    except:\n",
    "        pass\n",
    "\n",
    "    try:\n",
    "        max_score = -1000\n",
    "        max_params = 'NOT APPLICABLE'\n",
    "        max_score = saved_results_json[key]['Score']\n",
    "        max_params = saved_results_json[key]['params']\n",
    "        max_score = saved_results_json[key]['max score']\n",
    "        max_params = saved_results_json[key]['max params']\n",
    "    except:\n",
    "        pass\n",
    "\n",
    "    results['first run'] = first_run_date\n",
    "    if key not in saved_results_json:\n",
    "        new_results['max params'] = new_results['params']\n",
    "        new_results['max score'] = new_results['Score']\n",
    "        new_results['suboptimal'] = 'pending'\n",
    "    elif max_score > saved_results_json[key]['Score']:\n",
    "        new_results['suboptimal'] = 'suboptimal'\n",
    "    elif max_score == saved_results_json[key]['Score']:\n",
    "        if saved_results_json[key]['params'] != new_results['params']:\n",
    "            new_results['max params'] = 'MULTIPLE PARAM OPTIONS'\n",
    "        else:\n",
    "            new_results['max params'] = saved_results_json[key]['params']\n",
    "            new_results['max score'] = saved_results_json[key]['Score']\n",
    "            new_results['suboptimal'] = 'pending'\n",
    "    else:\n",
    "        new_results['max params'] = saved_results_json[key]['params']\n",
    "        new_results['max score'] = saved_results_json[key]['Score']\n",
    "        new_results['suboptimal'] = 'pending'\n",
    "\n",
    "    saved_results_json[key] = new_results\n",
    "\n",
    "    results_filename = '../../results/results.json'\n",
    "    with open(results_filename, 'w') as file:\n",
    "        file.write(json.dumps(saved_results_json, indent=4))\n",
    "\n",
    "\n",
    "if not IN_COLAB:\n",
    "    results_json = get_results()\n",
    "    update_results(results_json, results)\n",
    "\n",
    "results"
   ]
  },
  {
   "cell_type": "code",
   "execution_count": 103,
   "outputs": [
    {
     "name": "stderr",
     "output_type": "stream",
     "text": [
      "/tmp/ipykernel_5003/9682248.py:1: DtypeWarning: Columns (15,17,39,41,44,47,56,59,60,63,67,72,75,77,78,79) have mixed types. Specify dtype option on import or set low_memory=False.\n",
      "  deep_dive_csv = pd.read_csv(df_pathname_raw, index_col=0)\n"
     ]
    }
   ],
   "source": [
    "deep_dive_csv = pd.read_csv(df_pathname_raw, index_col=0)"
   ],
   "metadata": {
    "collapsed": false
   }
  },
  {
   "cell_type": "code",
   "execution_count": 104,
   "outputs": [
    {
     "data": {
      "text/plain": "'25% or 100% share available. 100% price is £470,000. 25% is £117,500. ;;;;;;Lovely apartment with a private balcony in the Indescon Square development!The accommodation comprises a good size living/dining area benefitting fromwood flooring, a modern kitchen area, a deluxe white tiled bathroom and alsotwo double bedrooms. ;;; ;;;The location of this property provides elegantliving close to one of the world’s most popular business districts of CanaryWharf and an effortless journey from South Quay DLR to Bank makes employmentin the City of London just as accessible. South Quay, being a two-minute walkaway, provides easy access to Greenwich, an area which hosts an abundance ofbars and restaurants, along with a direct route to London City airport,Lewisham and Stratford to provide easy travel options beyond the capital. ;;;;;;Closer to home, ample bars and restaurants within close walking proximityto the property help to provide the area with a lively buzz and sense ofcommunity. ;;;Tenure: Leasehold ;;;Council Tax: E ;;;Lease Remaining: 111;;;Current ground rent: £1.00 Per Year ;;;Ground rent review period: every 0year ;;;Annual ground rent increase: 1% ;;;Shared ownership, 25% offered forsale with £794 monthly rental'"
     },
     "execution_count": 104,
     "metadata": {},
     "output_type": "execute_result"
    }
   ],
   "source": [
    "deep_dive_csv.loc[125520530, ['Price', 'keyFeatures', 'sharedOwnership']]\n",
    "deep_dive_csv.loc[85795281, ['Price', 'keyFeatures', 'sharedOwnership']]\n",
    "\n",
    "deep_dive_csv.loc[85795281, 'text.description']\n"
   ],
   "metadata": {
    "collapsed": false
   }
  },
  {
   "cell_type": "code",
   "execution_count": 105,
   "outputs": [
    {
     "data": {
      "text/plain": "Links                 https://www.rightmove.co.uk/properties/8579528...\nPrice                                                          117500.0\nversion                                                    v0021_300622\nborough                                                   Tower Hamlets\nreferencing_link      https://www.rightmove.co.uk/property-for-sale/...\n                                            ...                        \nsharePercentage                                                   100.0\nnearestStation                                                 0.189936\nnearestTram                                                        99.0\nnearestUnderground                                                 99.0\nnearestOverground                                              0.189936\nName: 85795281, Length: 158, dtype: object"
     },
     "execution_count": 105,
     "metadata": {},
     "output_type": "execute_result"
    }
   ],
   "source": [
    "deep_dive_csv.loc[85795281]"
   ],
   "metadata": {
    "collapsed": false
   }
  },
  {
   "cell_type": "code",
   "execution_count": 95,
   "outputs": [
    {
     "data": {
      "text/plain": "Empty DataFrame\nColumns: [Links, Price, version, borough, referencing_link, add_info, date_scraped, version_listing, link, distance_to_any_train, type, bedrooms, bathrooms, size, other_key_info, station_info, hold_type, short_description, date_scraped_listing, keyFeatures, virtualTours, industryAffiliations, rooms, nearestAirports, nearestStations, showSchoolInfo, countryGuide, channel, sizings, epcGraphs, bedrooms_model, bathrooms_model, transactionType, tags, feesApply, lettings, infoReelItems, soldPropertyType, auctionProvider, propertySubType, businessForSale, commercial, commercialUseClasses, affordableBuyingScheme, version_model, date_scraped_model, status.published, status.archived, text.description, text.propertyPhrase, text.shareText, text.shareDescription, text.pageTitle, text.shortDescription, prices.primaryPrice, prices.secondaryPrice, prices.displayPriceQualifier, prices.pricePerSqFt, prices.message, prices.exchangeRate, address.displayAddress, address.countryCode, address.deliveryPointId, address.ukCountry, address.outcode, address.incode, location.latitude, location.longitude, location.circleRadiusOnMap, location.zoomLevel, location.pinType, location.showMap, propertyUrls.similarPropertiesUrl, propertyUrls.nearbySoldPropertiesUrl, misInfo.branchId, misInfo.offerAdvertStampTypeId, misInfo.premiumDisplay, misInfo.premiumDisplayStampId, misInfo.brandPlus, misInfo.featuredProperty, listingHistory.listingUpdateReason, broadband.broadbandCheckerUrl, contactInfo.contactMethod, contactInfo.telephoneNumbers.localNumber, contactInfo.telephoneNumbers.internationalNumber, contactInfo.telephoneNumbers.disclaimerText, contactInfo.telephoneNumbers.disclaimerTitle, contactInfo.telephoneNumbers.disclaimerDescription, tenure.tenureType, tenure.yearsRemainingOnLease, tenure.message, sharedOwnership.sharedOwnership, sharedOwnership.ownershipPercentage, sharedOwnership.rentPrice, sharedOwnership.rentFrequency, livingCosts.councilTaxExempt, livingCosts.councilTaxIncluded, livingCosts.annualGroundRent, livingCosts.groundRentReviewPeriodInYears, livingCosts.groundRentPercentageIncrease, ...]\nIndex: []\n\n[0 rows x 158 columns]",
      "text/html": "<div>\n<style scoped>\n    .dataframe tbody tr th:only-of-type {\n        vertical-align: middle;\n    }\n\n    .dataframe tbody tr th {\n        vertical-align: top;\n    }\n\n    .dataframe thead th {\n        text-align: right;\n    }\n</style>\n<table border=\"1\" class=\"dataframe\">\n  <thead>\n    <tr style=\"text-align: right;\">\n      <th></th>\n      <th>Links</th>\n      <th>Price</th>\n      <th>version</th>\n      <th>borough</th>\n      <th>referencing_link</th>\n      <th>add_info</th>\n      <th>date_scraped</th>\n      <th>version_listing</th>\n      <th>link</th>\n      <th>distance_to_any_train</th>\n      <th>...</th>\n      <th>Unnamed: 46</th>\n      <th>propertyType</th>\n      <th>coarse_compass_direction</th>\n      <th>sq_ft</th>\n      <th>sharedOwnership</th>\n      <th>sharePercentage</th>\n      <th>nearestStation</th>\n      <th>nearestTram</th>\n      <th>nearestUnderground</th>\n      <th>nearestOverground</th>\n    </tr>\n  </thead>\n  <tbody>\n  </tbody>\n</table>\n<p>0 rows × 158 columns</p>\n</div>"
     },
     "execution_count": 95,
     "metadata": {},
     "output_type": "execute_result"
    }
   ],
   "source": [
    "property_dataset = deep_dive_csv.loc[[125520530, 96587218], :]\n",
    "property_dataset\n",
    "\n",
    "(\n",
    "        (property_dataset['sharedOwnership.sharedOwnership'] == True) |\n",
    "        (property_dataset['analyticsProperty.priceQualifier'] == 'Shared ownership') |\n",
    "        (property_dataset['keyFeatures'].str.contains('shared ownership'))\n",
    ")\n",
    "\n",
    "(property_dataset['keyFeatures'].str.contains('%'))\n",
    "\n",
    "#(property_dataset['sharedOwnership'])\n",
    "#'share' isin (property_dataset['keyFeatures'].str.lower())\n",
    "\n",
    "#df[df.beer_style.str.contains('IPA')]\n",
    "property_dataset[property_dataset.keyFeatures.str.contains('IPA')]\n",
    "\n",
    "#(property_dataset['keyFeatures'].str.contains('%')))"
   ],
   "metadata": {
    "collapsed": false
   }
  }
 ],
 "metadata": {
  "kernelspec": {
   "display_name": "Python 3 (ipykernel)",
   "language": "python",
   "name": "python3"
  },
  "language_info": {
   "codemirror_mode": {
    "name": "ipython",
    "version": 3
   },
   "file_extension": ".py",
   "mimetype": "text/x-python",
   "name": "python",
   "nbconvert_exporter": "python",
   "pygments_lexer": "ipython3",
   "version": "3.8.10"
  }
 },
 "nbformat": 4,
 "nbformat_minor": 1
}
