{
 "cells": [
  {
   "cell_type": "raw",
   "source": [],
   "metadata": {
    "collapsed": false,
    "pycharm": {
     "name": ""
    }
   }
  },
  {
   "cell_type": "code",
   "execution_count": 1,
   "metadata": {
    "collapsed": true
   },
   "outputs": [
    {
     "name": "stderr",
     "output_type": "stream",
     "text": [
      "2022-10-10 01:07:46.480226: I tensorflow/core/platform/cpu_feature_guard.cc:193] This TensorFlow binary is optimized with oneAPI Deep Neural Network Library (oneDNN) to use the following CPU instructions in performance-critical operations:  AVX2\n",
      "To enable them in other operations, rebuild TensorFlow with the appropriate compiler flags.\n"
     ]
    }
   ],
   "source": [
    "from sklearn.compose import ColumnTransformer\n",
    "from sklearn.impute import SimpleImputer\n",
    "from sklearn.pipeline import Pipeline\n",
    "from sklearn.preprocessing import StandardScaler, OneHotEncoder\n",
    "from sklearn.tree import DecisionTreeRegressor\n",
    "import pandas as pd\n",
    "from sklearn.model_selection import train_test_split, GridSearchCV\n",
    "import numpy as np\n",
    "\n",
    "import tensorflow as tf\n",
    "\n",
    "from tensorflow import keras\n",
    "from tensorflow.keras import layers\n",
    "\n",
    "#import lightgbm as lgb\n",
    "import xgboost as xgb\n",
    "from pandas import DataFrame\n",
    "import math\n",
    "import matplotlib.pyplot as plt\n",
    "\n",
    "import warnings\n",
    "warnings.filterwarnings(\"ignore\")\n"
   ]
  },
  {
   "cell_type": "code",
   "execution_count": 2,
   "outputs": [
    {
     "data": {
      "text/plain": "['Price',\n 'location.latitude',\n 'location.longitude',\n 'bedrooms',\n 'bathrooms',\n 'nearestStation',\n 'nearestTram',\n 'nearestUnderground',\n 'nearestOverground',\n 'tenure.tenureType',\n 'analyticsProperty.soldSTC',\n 'analyticsProperty.preOwned',\n 'analyticsProperty.propertyType',\n 'analyticsProperty.priceQualifier',\n 'borough',\n 'sharedOwnership.sharedOwnership',\n 'sharedownership_in_description',\n 'keyFeatures']"
     },
     "execution_count": 2,
     "metadata": {},
     "output_type": "execute_result"
    }
   ],
   "source": [
    "cutdown_rows = 0\n",
    "#cutdown_rows = 1000\n",
    "#cutdown_rows = 10000\n",
    "\n",
    "key_feature_cutoff = 10\n",
    "\n",
    "exclude_shared_ownership = True\n",
    "only_shared_owership = False\n",
    "\n",
    "LABEL = 'Price'\n",
    "\n",
    "floats = ['location.latitude', 'location.longitude', 'bedrooms', 'bathrooms',\n",
    "          'nearestStation', 'nearestTram', 'nearestUnderground', 'nearestOverground',\n",
    "          ]\n",
    "\n",
    "categories = ['tenure.tenureType',\n",
    "              'analyticsProperty.soldSTC',\n",
    "              'analyticsProperty.preOwned',\n",
    "              #'sharedOwnership.sharedOwnership',\n",
    "              #\n",
    "              'analyticsProperty.propertyType',  # 'propertyType',\n",
    "              #'analyticsProperty.propertySubType',\n",
    "              'analyticsProperty.priceQualifier',\n",
    "              'borough',\n",
    "              ]\n",
    "custom = [\n",
    "    'sharedOwnership.sharedOwnership',\n",
    "    #'analyticsProperty.priceQualifier',\n",
    "    'sharedownership_in_description',\n",
    "    'keyFeatures'\n",
    "]\n",
    "#categories = []\n",
    "\n",
    "features = floats.copy()\n",
    "features.extend(categories)\n",
    "features.extend(custom)\n",
    "features.insert(0, LABEL)\n",
    "features"
   ],
   "metadata": {
    "collapsed": false
   }
  },
  {
   "cell_type": "code",
   "execution_count": 3,
   "outputs": [
    {
     "data": {
      "text/plain": "array([51.467869, -0.086037, 1.0, 1.0, 0.1523658055113279, nan, nan,\n       0.1523658055113279, False, False,\n       \"['Bright One Bedroom Top Floor Flat', 'Scope For Further Upgrade To Taste','Light And Spacious Reception Room', 'Separate Well Equipped Kitchen','Bathroom With White Suite', 'Gas Central Heating', 'Close To Denmark HillStation And Bus Routes', 'Easy Access Shops And Amenities', 'No Onward Chain','Convenient Denmark Hill Location & Camberwell Grove Conservation Area']\",\n       0, 1, 0, 0, 1, 0, 0, 1, 0, 0, 1, 0, 0, 0, 0, 0, 0, 0, 0, 0, 1, 0,\n       0, 0, 0, 0, 0, 0, 0, 0, 0, 0, 0, 0, 0, 0, 0, 0, 0, 0, 0, 0, 0, 0,\n       0, 0, 0, 0, 0, 0, 0, 1, 0, 0, 0, 0, 0], dtype=object)"
     },
     "execution_count": 3,
     "metadata": {},
     "output_type": "execute_result"
    }
   ],
   "source": [
    "def get_source_dataframe(rows=cutdown_rows):\n",
    "\n",
    "    try:\n",
    "        df = pd.read_csv('../data/source/df_listings.csv', on_bad_lines='skip', index_col=0)\n",
    "    except:\n",
    "        df = pd.read_csv('https://raw.githubusercontent.com/jayportfolio/capstone_streamlit/main/data/final/df_listings.csv', on_bad_lines='skip', index_col=0)\n",
    "\n",
    "    df = df[features]\n",
    "\n",
    "    if rows and rows > 0:\n",
    "        df = df[:rows]\n",
    "    return df\n",
    "\n",
    "\n",
    "def create_train_test_data(df_orig, return_index=False, drop_nulls=True):\n",
    "    df = df_orig.copy()\n",
    "\n",
    "    if drop_nulls:\n",
    "        df.dropna(inplace=True)\n",
    "\n",
    "    if return_index:\n",
    "        df.reset_index(inplace=True)\n",
    "\n",
    "    for column in categories:\n",
    "        df = pd.concat([df, pd.get_dummies(df[column], prefix=column)], axis=1)\n",
    "        df.drop([column], axis=1, inplace=True)  # now drop the original column (you don't need it anymore),\n",
    "\n",
    "    ins = df.pop('index')\n",
    "    df.insert(1, 'index2', ins)\n",
    "    df.insert(0, 'index', ins)\n",
    "\n",
    "    #features = df[df.columns[1:]].values\n",
    "    features = df[df.columns[2:]].values\n",
    "    #labels = df[LABEL].values\n",
    "    labels = df.iloc[:, 0:2].values\n",
    "\n",
    "    if not return_index:\n",
    "        return train_test_split(features, labels, train_size=0.7, random_state=1)\n",
    "    else:\n",
    "        X_train1, X_test1, y_train1, y_test1 = train_test_split(features, labels, train_size=0.7, random_state=1)\n",
    "        X_train_index = X_train1[:, 0].reshape(-1, 1)\n",
    "        y_train_index = y_train1[:, 0].reshape(-1, 1)\n",
    "        X_test_index = X_test1[:, 0].reshape(-1, 1)\n",
    "        y_test_index = y_test1[:, 0].reshape(-1, 1)\n",
    "        #X_train1 = X_train1[:,3:]\n",
    "        X_train1 = X_train1[:, 1:]\n",
    "        y_train1 = y_train1[:, 1].reshape(-1, 1)\n",
    "        #X_test1 = X_test1[:,3:]\n",
    "        X_test1 = X_test1[:, 1:]\n",
    "        y_test1 = y_test1[:, 1].reshape(-1, 1)\n",
    "\n",
    "        # X_train_index = pd.to_numeric(X_train_index, 'coerce').astype(int)\n",
    "        # y_train_index = pd.to_numeric(y_train_index, 'coerce').astype(int)\n",
    "        # X_test_index = pd.to_numeric(X_test_index, 'coerce').astype(int)\n",
    "        # y_test_index = pd.to_numeric(y_test_index, 'coerce').astype(int)\n",
    "\n",
    "        return X_train1, X_test1, y_train1, y_test1, X_train_index, X_test_index, y_train_index, y_test_index\n",
    "\n",
    "\n",
    "X_train, X_test, y_train, y_test, X_train_index, X_test_index, y_train_index, y_test_index = create_train_test_data(\n",
    "    get_source_dataframe(), return_index=True, drop_nulls=False)\n",
    "X_train.shape, X_test.shape, y_train.shape, y_test.shape, X_train_index.shape, X_test_index.shape, y_train_index.shape, y_test_index.shape,\n",
    "X_train[0]"
   ],
   "metadata": {
    "collapsed": false
   }
  },
  {
   "cell_type": "code",
   "execution_count": 4,
   "outputs": [
    {
     "name": "stdout",
     "output_type": "stream",
     "text": [
      "(26633, 18)\n"
     ]
    },
    {
     "data": {
      "text/plain": "           Price  location.latitude  location.longitude  bedrooms  bathrooms  \\\n14520525  550000          51.529950           -0.207020       3.0        1.0   \n27953107  400000          51.549390           -0.482600       2.0        2.0   \n33593487  579950          51.447180           -0.338770       2.0        1.0   \n35271294  370000          51.449568           -0.140154       2.0        1.0   \n35429088  599950          51.577030           -0.141230       2.0        1.0   \n\n          nearestStation  nearestTram  nearestUnderground  nearestOverground  \\\n14520525        0.274316          NaN            0.274316           0.274316   \n27953107        0.305845          NaN            0.305845                NaN   \n33593487        0.438045          NaN                 NaN           0.438045   \n35271294        0.399307          NaN            0.399307           0.704048   \n35429088        0.238187          NaN            0.238187           1.054653   \n\n         tenure.tenureType  analyticsProperty.soldSTC  \\\n14520525         LEASEHOLD                      False   \n27953107         LEASEHOLD                      False   \n33593487          FREEHOLD                      False   \n35271294         LEASEHOLD                      False   \n35429088               NaN                      False   \n\n         analyticsProperty.preOwned analyticsProperty.propertyType  \\\n14520525                     Resale             Flats / Apartments   \n27953107                     Resale             Flats / Apartments   \n33593487                     Resale                         Houses   \n35271294                     Resale             Flats / Apartments   \n35429088                     Resale             Flats / Apartments   \n\n         analyticsProperty.priceQualifier               borough  \\\n14520525                             None           Westminster   \n27953107              Offers in Excess of            Hillingdon   \n33593487              Offers in Excess of  Richmond upon Thames   \n35271294              Offers in Region of               Lambeth   \n35429088                             None              Haringey   \n\n          sharedOwnership.sharedOwnership  sharedownership_in_description  \\\n14520525                            False                           False   \n27953107                            False                           False   \n33593487                            False                           False   \n35271294                            False                           False   \n35429088                            False                           False   \n\n                                                keyFeatures  \n14520525  ['Maisonette', 'Private Balcony', 'Spacious / ...  \n27953107  ['TWO DOUBLE BEDROOMS', 'LOUNGE AREA', 'MODERN...  \n33593487  ['Mid Terrace Victorian Home', '2 Double Bedro...  \n35271294  ['2 bedroom second floor flat', 'Great locatio...  \n35429088                                                 []  ",
      "text/html": "<div>\n<style scoped>\n    .dataframe tbody tr th:only-of-type {\n        vertical-align: middle;\n    }\n\n    .dataframe tbody tr th {\n        vertical-align: top;\n    }\n\n    .dataframe thead th {\n        text-align: right;\n    }\n</style>\n<table border=\"1\" class=\"dataframe\">\n  <thead>\n    <tr style=\"text-align: right;\">\n      <th></th>\n      <th>Price</th>\n      <th>location.latitude</th>\n      <th>location.longitude</th>\n      <th>bedrooms</th>\n      <th>bathrooms</th>\n      <th>nearestStation</th>\n      <th>nearestTram</th>\n      <th>nearestUnderground</th>\n      <th>nearestOverground</th>\n      <th>tenure.tenureType</th>\n      <th>analyticsProperty.soldSTC</th>\n      <th>analyticsProperty.preOwned</th>\n      <th>analyticsProperty.propertyType</th>\n      <th>analyticsProperty.priceQualifier</th>\n      <th>borough</th>\n      <th>sharedOwnership.sharedOwnership</th>\n      <th>sharedownership_in_description</th>\n      <th>keyFeatures</th>\n    </tr>\n  </thead>\n  <tbody>\n    <tr>\n      <th>14520525</th>\n      <td>550000</td>\n      <td>51.529950</td>\n      <td>-0.207020</td>\n      <td>3.0</td>\n      <td>1.0</td>\n      <td>0.274316</td>\n      <td>NaN</td>\n      <td>0.274316</td>\n      <td>0.274316</td>\n      <td>LEASEHOLD</td>\n      <td>False</td>\n      <td>Resale</td>\n      <td>Flats / Apartments</td>\n      <td>None</td>\n      <td>Westminster</td>\n      <td>False</td>\n      <td>False</td>\n      <td>['Maisonette', 'Private Balcony', 'Spacious / ...</td>\n    </tr>\n    <tr>\n      <th>27953107</th>\n      <td>400000</td>\n      <td>51.549390</td>\n      <td>-0.482600</td>\n      <td>2.0</td>\n      <td>2.0</td>\n      <td>0.305845</td>\n      <td>NaN</td>\n      <td>0.305845</td>\n      <td>NaN</td>\n      <td>LEASEHOLD</td>\n      <td>False</td>\n      <td>Resale</td>\n      <td>Flats / Apartments</td>\n      <td>Offers in Excess of</td>\n      <td>Hillingdon</td>\n      <td>False</td>\n      <td>False</td>\n      <td>['TWO DOUBLE BEDROOMS', 'LOUNGE AREA', 'MODERN...</td>\n    </tr>\n    <tr>\n      <th>33593487</th>\n      <td>579950</td>\n      <td>51.447180</td>\n      <td>-0.338770</td>\n      <td>2.0</td>\n      <td>1.0</td>\n      <td>0.438045</td>\n      <td>NaN</td>\n      <td>NaN</td>\n      <td>0.438045</td>\n      <td>FREEHOLD</td>\n      <td>False</td>\n      <td>Resale</td>\n      <td>Houses</td>\n      <td>Offers in Excess of</td>\n      <td>Richmond upon Thames</td>\n      <td>False</td>\n      <td>False</td>\n      <td>['Mid Terrace Victorian Home', '2 Double Bedro...</td>\n    </tr>\n    <tr>\n      <th>35271294</th>\n      <td>370000</td>\n      <td>51.449568</td>\n      <td>-0.140154</td>\n      <td>2.0</td>\n      <td>1.0</td>\n      <td>0.399307</td>\n      <td>NaN</td>\n      <td>0.399307</td>\n      <td>0.704048</td>\n      <td>LEASEHOLD</td>\n      <td>False</td>\n      <td>Resale</td>\n      <td>Flats / Apartments</td>\n      <td>Offers in Region of</td>\n      <td>Lambeth</td>\n      <td>False</td>\n      <td>False</td>\n      <td>['2 bedroom second floor flat', 'Great locatio...</td>\n    </tr>\n    <tr>\n      <th>35429088</th>\n      <td>599950</td>\n      <td>51.577030</td>\n      <td>-0.141230</td>\n      <td>2.0</td>\n      <td>1.0</td>\n      <td>0.238187</td>\n      <td>NaN</td>\n      <td>0.238187</td>\n      <td>1.054653</td>\n      <td>NaN</td>\n      <td>False</td>\n      <td>Resale</td>\n      <td>Flats / Apartments</td>\n      <td>None</td>\n      <td>Haringey</td>\n      <td>False</td>\n      <td>False</td>\n      <td>[]</td>\n    </tr>\n  </tbody>\n</table>\n</div>"
     },
     "execution_count": 4,
     "metadata": {},
     "output_type": "execute_result"
    }
   ],
   "source": [
    "df = get_source_dataframe()\n",
    "df_orig = df.copy()\n",
    "print(df.shape)\n",
    "df[:5]"
   ],
   "metadata": {
    "collapsed": false
   }
  },
  {
   "cell_type": "code",
   "execution_count": 5,
   "outputs": [
    {
     "name": "stdout",
     "output_type": "stream",
     "text": [
      "couldnt process: potential to extend (stpp\n",
      "couldnt process: sale by modern auction (t&cs apply\n",
      "couldnt process: two bathrooms (one en-suite\n",
      "couldnt process: scope to extend (stpp\n",
      "couldnt process: potential toextend (stpp\n",
      "couldnt process: potential to extend(stpp\n",
      "couldnt process: **ready to move into**\n"
     ]
    }
   ],
   "source": [
    "if 'nearestTram' in features:\n",
    "    df['nearestTram'] = df['nearestTram'].fillna(99)\n",
    "    df['nearestOverground'] = df['nearestOverground'].fillna(99)\n",
    "    df['nearestUnderground'] = df['nearestUnderground'].fillna(99)\n",
    "    df['nearestStation'] = df['nearestStation'].fillna(99)\n",
    "\n",
    "    imputer = SimpleImputer(strategy='constant', fill_value=99)\n",
    "    imputer.fit(df['nearestTram'].values.reshape(-1, 1))\n",
    "    df['nearestTram'] = imputer.transform(df['nearestTram'].values.reshape(-1, 1))\n",
    "    df['nearestUnderground'] = imputer.transform(df['nearestUnderground'].values.reshape(-1, 1))\n",
    "    df['nearestOverground'] = imputer.transform(df['nearestOverground'].values.reshape(-1, 1))\n",
    "    df['nearestStation'] = imputer.transform(df['nearestStation'].values.reshape(-1, 1))\n",
    "\n",
    "from string import punctuation\n",
    "\n",
    "if 'keyFeatures' in features:\n",
    "    df['keyFeatures'] = df['keyFeatures'].str.lower()\n",
    "    out = []\n",
    "\n",
    "    punctuation += '('\n",
    "    for row in df['keyFeatures']:\n",
    "        row3 = row.strip(\"][\").split(\"\\', \\'\")\n",
    "        row3 = [s.strip(punctuation).lower().strip() for s in row3]\n",
    "        out.extend(row3)\n",
    "\n",
    "    counts = pd.Series(out).value_counts()\n",
    "    counts.reset_index()\n",
    "\n",
    "    c3 = pd.DataFrame(counts, columns=['a'])\n",
    "    c3.reset_index(inplace=True)\n",
    "    c3 = c3[c3['a'] > key_feature_cutoff]\n",
    "\n",
    "    key_features = list(c3['index'])\n",
    "\n",
    "    for each_key_feature in key_features:\n",
    "\n",
    "        if each_key_feature != '':\n",
    "            try:\n",
    "                feature_name = \"key__\" + each_key_feature\n",
    "                #print(f\"{feature_name}: {each_key_feature}\")\n",
    "\n",
    "                df[feature_name] = df['keyFeatures'].str.contains(each_key_feature)\n",
    "                df[feature_name] = pd.to_numeric(df[feature_name], 'coerce').dropna().astype(int)\n",
    "            except:\n",
    "                print('couldnt process:', each_key_feature)\n",
    "\n",
    "if 'analyticsProperty.priceQualifier' in features:\n",
    "\n",
    "    df['sharedOwnership.sharedOwnership'] = pd.to_numeric(df['sharedOwnership.sharedOwnership'], 'coerce').dropna().astype(int)\n",
    "\n",
    "    if 'keyFeatures' in features:\n",
    "\n",
    "        df['sharedOwnership'] = 0\n",
    "\n",
    "        # df[df['keyFeatures'].str.contains('shared ownership')]\n",
    "        df['sharedOwnership'] = (df['sharedOwnership'])\n",
    "        df['sharedOwnership'] = (df['sharedOwnership']) | (df['sharedOwnership.sharedOwnership'] == 1)\n",
    "        df['sharedOwnership'] = (df['sharedOwnership']) | (df['analyticsProperty.priceQualifier'] == 'Shared ownership')\n",
    "        df['sharedOwnership'] = (df['sharedOwnership']) | (df['keyFeatures'].str.contains('shared ownership'))\n",
    "        df['sharedOwnership'] = (df['sharedOwnership']) | ((df['keyFeatures'].str.contains('share')) & (df['keyFeatures'].str.contains('%')))\n",
    "        df['sharedOwnership'] = (df['sharedOwnership']) | (df['sharedownership_in_description'])\n",
    "\n",
    "        df.drop(['keyFeatures'], axis=1, inplace=True)\n",
    "    else:\n",
    "        df['sharedOwnership'] = (\n",
    "                (df['sharedOwnership.sharedOwnership'] == True) |\n",
    "                (df['analyticsProperty.priceQualifier'] == 'Shared ownership')\n",
    "        )\n",
    "\n",
    "    df['sharedOwnership'] = pd.to_numeric(df['sharedOwnership'], 'coerce').dropna().astype(int)\n",
    "    df.drop(['sharedOwnership.sharedOwnership'], axis=1, inplace=True)\n",
    "\n",
    "    if 'analyticsProperty.priceQualifier' not in categories:\n",
    "        df.drop(['analyticsProperty.priceQualifier'], axis=1, inplace=True)\n",
    "\n",
    "    if 'sharedownership_in_description' not in categories:\n",
    "        df.drop(['sharedownership_in_description'], axis=1, inplace=True)\n",
    "\n",
    "    #df.drop(['shared_ownership'], axis=1, inplace=True)\n",
    "if exclude_shared_ownership:\n",
    "    df = df[df['sharedOwnership'] == 0]\n",
    "\n",
    "if only_shared_owership:\n",
    "    df = df[df['sharedOwnership'] == 1]\n"
   ],
   "metadata": {
    "collapsed": false
   }
  },
  {
   "cell_type": "code",
   "execution_count": 6,
   "outputs": [],
   "source": [
    "#df['sharedOwnership.sharedOwnership']\n",
    "#df['analyticsProperty.priceQualifier']"
   ],
   "metadata": {
    "collapsed": false
   }
  },
  {
   "cell_type": "code",
   "execution_count": 7,
   "outputs": [],
   "source": [
    "#df[df['keyFeatures'].str.contains('shared ownership')]\n",
    "#df['keyFeatures'] = df['keyFeatures'].apply(lambda x: x.astype(str).str.upper())\n",
    "#df"
   ],
   "metadata": {
    "collapsed": false
   }
  },
  {
   "cell_type": "code",
   "execution_count": 8,
   "outputs": [
    {
     "data": {
      "text/plain": "            Price  location.latitude  location.longitude  bedrooms  bathrooms  \\\n14520525   550000          51.529950           -0.207020       3.0        1.0   \n27953107   400000          51.549390           -0.482600       2.0        2.0   \n33593487   579950          51.447180           -0.338770       2.0        1.0   \n35271294   370000          51.449568           -0.140154       2.0        1.0   \n35429088   599950          51.577030           -0.141230       2.0        1.0   \n...           ...                ...                 ...       ...        ...   \n121677479  450000          51.483748           -0.388508       3.0        2.0   \n121677749  300000          51.532990            0.036340       2.0        1.0   \n121678004  475000          51.393990            0.045193       2.0        2.0   \n121678103  200000          51.410742           -0.225795       NaN        1.0   \n121678256  240000          51.518378            0.054917       1.0        1.0   \n\n           nearestStation  nearestTram  nearestUnderground  nearestOverground  \\\n14520525         0.274316    99.000000            0.274316           0.274316   \n27953107         0.305845    99.000000            0.305845          99.000000   \n33593487         0.438045    99.000000           99.000000           0.438045   \n35271294         0.399307    99.000000            0.399307           0.704048   \n35429088         0.238187    99.000000            0.238187           1.054653   \n...                   ...          ...                 ...                ...   \n121677479        0.709062    99.000000            0.709062          99.000000   \n121677749        0.178077    99.000000            0.178077          99.000000   \n121678004        0.444410    99.000000           99.000000           0.444410   \n121678103        0.205738     0.917064           99.000000           0.205738   \n121678256        0.286691    99.000000           99.000000           0.286691   \n\n          tenure.tenureType  ...  key__garage & off street parking  \\\n14520525          LEASEHOLD  ...                                 0   \n27953107          LEASEHOLD  ...                                 0   \n33593487           FREEHOLD  ...                                 0   \n35271294          LEASEHOLD  ...                                 0   \n35429088                NaN  ...                                 0   \n...                     ...  ...                               ...   \n121677479          FREEHOLD  ...                                 0   \n121677749               NaN  ...                                 0   \n121678004         LEASEHOLD  ...                                 0   \n121678103         LEASEHOLD  ...                                 0   \n121678256         LEASEHOLD  ...                                 0   \n\n          key__chainfree sale key__beautiful condition  \\\n14520525                    0                        0   \n27953107                    0                        0   \n33593487                    0                        0   \n35271294                    0                        0   \n35429088                    0                        0   \n...                       ...                      ...   \n121677479                   0                        0   \n121677749                   0                        0   \n121678004                   0                        0   \n121678103                   0                        0   \n121678256                   0                        0   \n\n          key__moments from amenities key__no-onward chain  \\\n14520525                            0                    0   \n27953107                            0                    0   \n33593487                            0                    0   \n35271294                            0                    0   \n35429088                            0                    0   \n...                               ...                  ...   \n121677479                           0                    0   \n121677749                           0                    0   \n121678004                           0                    0   \n121678103                           0                    0   \n121678256                           0                    0   \n\n           key__open plan layout  key__open plan kitchen/living  \\\n14520525                       0                              0   \n27953107                       0                              0   \n33593487                       0                              0   \n35271294                       0                              0   \n35429088                       0                              0   \n...                          ...                            ...   \n121677479                      0                              0   \n121677749                      0                              0   \n121678004                      0                              0   \n121678103                      0                              0   \n121678256                      0                              0   \n\n           key__set on the ground floor  \\\n14520525                              0   \n27953107                              0   \n33593487                              0   \n35271294                              0   \n35429088                              0   \n...                                 ...   \n121677479                             0   \n121677749                             0   \n121678004                             0   \n121678103                             0   \n121678256                             0   \n\n           key__two bedroom ground floor maisonette  sharedOwnership  \n14520525                                          0                0  \n27953107                                          0                0  \n33593487                                          0                0  \n35271294                                          0                0  \n35429088                                          0                0  \n...                                             ...              ...  \n121677479                                         0                0  \n121677749                                         0                0  \n121678004                                         0                0  \n121678103                                         0                0  \n121678256                                         0                0  \n\n[25422 rows x 1246 columns]",
      "text/html": "<div>\n<style scoped>\n    .dataframe tbody tr th:only-of-type {\n        vertical-align: middle;\n    }\n\n    .dataframe tbody tr th {\n        vertical-align: top;\n    }\n\n    .dataframe thead th {\n        text-align: right;\n    }\n</style>\n<table border=\"1\" class=\"dataframe\">\n  <thead>\n    <tr style=\"text-align: right;\">\n      <th></th>\n      <th>Price</th>\n      <th>location.latitude</th>\n      <th>location.longitude</th>\n      <th>bedrooms</th>\n      <th>bathrooms</th>\n      <th>nearestStation</th>\n      <th>nearestTram</th>\n      <th>nearestUnderground</th>\n      <th>nearestOverground</th>\n      <th>tenure.tenureType</th>\n      <th>...</th>\n      <th>key__garage &amp; off street parking</th>\n      <th>key__chainfree sale</th>\n      <th>key__beautiful condition</th>\n      <th>key__moments from amenities</th>\n      <th>key__no-onward chain</th>\n      <th>key__open plan layout</th>\n      <th>key__open plan kitchen/living</th>\n      <th>key__set on the ground floor</th>\n      <th>key__two bedroom ground floor maisonette</th>\n      <th>sharedOwnership</th>\n    </tr>\n  </thead>\n  <tbody>\n    <tr>\n      <th>14520525</th>\n      <td>550000</td>\n      <td>51.529950</td>\n      <td>-0.207020</td>\n      <td>3.0</td>\n      <td>1.0</td>\n      <td>0.274316</td>\n      <td>99.000000</td>\n      <td>0.274316</td>\n      <td>0.274316</td>\n      <td>LEASEHOLD</td>\n      <td>...</td>\n      <td>0</td>\n      <td>0</td>\n      <td>0</td>\n      <td>0</td>\n      <td>0</td>\n      <td>0</td>\n      <td>0</td>\n      <td>0</td>\n      <td>0</td>\n      <td>0</td>\n    </tr>\n    <tr>\n      <th>27953107</th>\n      <td>400000</td>\n      <td>51.549390</td>\n      <td>-0.482600</td>\n      <td>2.0</td>\n      <td>2.0</td>\n      <td>0.305845</td>\n      <td>99.000000</td>\n      <td>0.305845</td>\n      <td>99.000000</td>\n      <td>LEASEHOLD</td>\n      <td>...</td>\n      <td>0</td>\n      <td>0</td>\n      <td>0</td>\n      <td>0</td>\n      <td>0</td>\n      <td>0</td>\n      <td>0</td>\n      <td>0</td>\n      <td>0</td>\n      <td>0</td>\n    </tr>\n    <tr>\n      <th>33593487</th>\n      <td>579950</td>\n      <td>51.447180</td>\n      <td>-0.338770</td>\n      <td>2.0</td>\n      <td>1.0</td>\n      <td>0.438045</td>\n      <td>99.000000</td>\n      <td>99.000000</td>\n      <td>0.438045</td>\n      <td>FREEHOLD</td>\n      <td>...</td>\n      <td>0</td>\n      <td>0</td>\n      <td>0</td>\n      <td>0</td>\n      <td>0</td>\n      <td>0</td>\n      <td>0</td>\n      <td>0</td>\n      <td>0</td>\n      <td>0</td>\n    </tr>\n    <tr>\n      <th>35271294</th>\n      <td>370000</td>\n      <td>51.449568</td>\n      <td>-0.140154</td>\n      <td>2.0</td>\n      <td>1.0</td>\n      <td>0.399307</td>\n      <td>99.000000</td>\n      <td>0.399307</td>\n      <td>0.704048</td>\n      <td>LEASEHOLD</td>\n      <td>...</td>\n      <td>0</td>\n      <td>0</td>\n      <td>0</td>\n      <td>0</td>\n      <td>0</td>\n      <td>0</td>\n      <td>0</td>\n      <td>0</td>\n      <td>0</td>\n      <td>0</td>\n    </tr>\n    <tr>\n      <th>35429088</th>\n      <td>599950</td>\n      <td>51.577030</td>\n      <td>-0.141230</td>\n      <td>2.0</td>\n      <td>1.0</td>\n      <td>0.238187</td>\n      <td>99.000000</td>\n      <td>0.238187</td>\n      <td>1.054653</td>\n      <td>NaN</td>\n      <td>...</td>\n      <td>0</td>\n      <td>0</td>\n      <td>0</td>\n      <td>0</td>\n      <td>0</td>\n      <td>0</td>\n      <td>0</td>\n      <td>0</td>\n      <td>0</td>\n      <td>0</td>\n    </tr>\n    <tr>\n      <th>...</th>\n      <td>...</td>\n      <td>...</td>\n      <td>...</td>\n      <td>...</td>\n      <td>...</td>\n      <td>...</td>\n      <td>...</td>\n      <td>...</td>\n      <td>...</td>\n      <td>...</td>\n      <td>...</td>\n      <td>...</td>\n      <td>...</td>\n      <td>...</td>\n      <td>...</td>\n      <td>...</td>\n      <td>...</td>\n      <td>...</td>\n      <td>...</td>\n      <td>...</td>\n      <td>...</td>\n    </tr>\n    <tr>\n      <th>121677479</th>\n      <td>450000</td>\n      <td>51.483748</td>\n      <td>-0.388508</td>\n      <td>3.0</td>\n      <td>2.0</td>\n      <td>0.709062</td>\n      <td>99.000000</td>\n      <td>0.709062</td>\n      <td>99.000000</td>\n      <td>FREEHOLD</td>\n      <td>...</td>\n      <td>0</td>\n      <td>0</td>\n      <td>0</td>\n      <td>0</td>\n      <td>0</td>\n      <td>0</td>\n      <td>0</td>\n      <td>0</td>\n      <td>0</td>\n      <td>0</td>\n    </tr>\n    <tr>\n      <th>121677749</th>\n      <td>300000</td>\n      <td>51.532990</td>\n      <td>0.036340</td>\n      <td>2.0</td>\n      <td>1.0</td>\n      <td>0.178077</td>\n      <td>99.000000</td>\n      <td>0.178077</td>\n      <td>99.000000</td>\n      <td>NaN</td>\n      <td>...</td>\n      <td>0</td>\n      <td>0</td>\n      <td>0</td>\n      <td>0</td>\n      <td>0</td>\n      <td>0</td>\n      <td>0</td>\n      <td>0</td>\n      <td>0</td>\n      <td>0</td>\n    </tr>\n    <tr>\n      <th>121678004</th>\n      <td>475000</td>\n      <td>51.393990</td>\n      <td>0.045193</td>\n      <td>2.0</td>\n      <td>2.0</td>\n      <td>0.444410</td>\n      <td>99.000000</td>\n      <td>99.000000</td>\n      <td>0.444410</td>\n      <td>LEASEHOLD</td>\n      <td>...</td>\n      <td>0</td>\n      <td>0</td>\n      <td>0</td>\n      <td>0</td>\n      <td>0</td>\n      <td>0</td>\n      <td>0</td>\n      <td>0</td>\n      <td>0</td>\n      <td>0</td>\n    </tr>\n    <tr>\n      <th>121678103</th>\n      <td>200000</td>\n      <td>51.410742</td>\n      <td>-0.225795</td>\n      <td>NaN</td>\n      <td>1.0</td>\n      <td>0.205738</td>\n      <td>0.917064</td>\n      <td>99.000000</td>\n      <td>0.205738</td>\n      <td>LEASEHOLD</td>\n      <td>...</td>\n      <td>0</td>\n      <td>0</td>\n      <td>0</td>\n      <td>0</td>\n      <td>0</td>\n      <td>0</td>\n      <td>0</td>\n      <td>0</td>\n      <td>0</td>\n      <td>0</td>\n    </tr>\n    <tr>\n      <th>121678256</th>\n      <td>240000</td>\n      <td>51.518378</td>\n      <td>0.054917</td>\n      <td>1.0</td>\n      <td>1.0</td>\n      <td>0.286691</td>\n      <td>99.000000</td>\n      <td>99.000000</td>\n      <td>0.286691</td>\n      <td>LEASEHOLD</td>\n      <td>...</td>\n      <td>0</td>\n      <td>0</td>\n      <td>0</td>\n      <td>0</td>\n      <td>0</td>\n      <td>0</td>\n      <td>0</td>\n      <td>0</td>\n      <td>0</td>\n      <td>0</td>\n    </tr>\n  </tbody>\n</table>\n<p>25422 rows × 1246 columns</p>\n</div>"
     },
     "execution_count": 8,
     "metadata": {},
     "output_type": "execute_result"
    }
   ],
   "source": [
    "\n",
    "df"
   ],
   "metadata": {
    "collapsed": false
   }
  },
  {
   "cell_type": "code",
   "execution_count": 9,
   "outputs": [
    {
     "name": "stdout",
     "output_type": "stream",
     "text": [
      "<class 'pandas.core.frame.DataFrame'>\n",
      "Int64Index: 25422 entries, 14520525 to 121678256\n",
      "Columns: 1246 entries, Price to sharedOwnership\n",
      "dtypes: bool(1), float64(8), int64(1232), object(5)\n",
      "memory usage: 241.7+ MB\n"
     ]
    },
    {
     "data": {
      "text/plain": "               Price  location.latitude  location.longitude      bedrooms  \\\ncount   25422.000000       25417.000000        25422.000000  24503.000000   \nmean   414109.045118          51.498362           -0.107655      1.985879   \nstd    110776.268300           0.075232            0.740602      0.833672   \nmin    100000.000000          51.298320           -0.497861      1.000000   \n25%    325000.000000          51.443670           -0.216580      1.000000   \n50%    420000.000000          51.501270           -0.104980      2.000000   \n75%    500000.000000          51.554526           -0.011520      2.000000   \nmax    600000.000000          51.683060           51.558746      7.000000   \n\n          bathrooms  nearestStation   nearestTram  nearestUnderground  \\\ncount  23857.000000    25422.000000  25422.000000        25422.000000   \nmean       1.176259        0.449262     92.868166           46.986987   \nstd        0.404319        1.285944     23.788286           49.140186   \nmin        1.000000        0.000000      0.005282            0.006731   \n25%        1.000000        0.223922     99.000000            0.423452   \n50%        1.000000        0.363214     99.000000            1.475054   \n75%        1.000000        0.558825     99.000000           99.000000   \nmax        5.000000      192.431869     99.000000           99.000000   \n\n       nearestOverground  key__chain free  ...  \\\ncount       25422.000000     25422.000000  ...   \nmean           11.836216         0.146487  ...   \nstd            31.450173         0.353601  ...   \nmin             0.000000         0.000000  ...   \n25%             0.276878         0.000000  ...   \n50%             0.464421         0.000000  ...   \n75%             0.792294         0.000000  ...   \nmax           192.431869         1.000000  ...   \n\n       key__garage & off street parking  key__chainfree sale  \\\ncount                      25422.000000         25422.000000   \nmean                           0.000669             0.000433   \nstd                            0.025851             0.020797   \nmin                            0.000000             0.000000   \n25%                            0.000000             0.000000   \n50%                            0.000000             0.000000   \n75%                            0.000000             0.000000   \nmax                            1.000000             1.000000   \n\n       key__beautiful condition  key__moments from amenities  \\\ncount              25422.000000                 25422.000000   \nmean                   0.000944                     0.000708   \nstd                    0.030712                     0.026600   \nmin                    0.000000                     0.000000   \n25%                    0.000000                     0.000000   \n50%                    0.000000                     0.000000   \n75%                    0.000000                     0.000000   \nmax                    1.000000                     1.000000   \n\n       key__no-onward chain  key__open plan layout  \\\ncount          25422.000000           25422.000000   \nmean               0.000472               0.000708   \nstd                0.021722               0.026600   \nmin                0.000000               0.000000   \n25%                0.000000               0.000000   \n50%                0.000000               0.000000   \n75%                0.000000               0.000000   \nmax                1.000000               1.000000   \n\n       key__open plan kitchen/living  key__set on the ground floor  \\\ncount                   25422.000000                  25422.000000   \nmean                        0.002950                      0.000669   \nstd                         0.054237                      0.025851   \nmin                         0.000000                      0.000000   \n25%                         0.000000                      0.000000   \n50%                         0.000000                      0.000000   \n75%                         0.000000                      0.000000   \nmax                         1.000000                      1.000000   \n\n       key__two bedroom ground floor maisonette  sharedOwnership  \ncount                              25422.000000          25422.0  \nmean                                   0.000590              0.0  \nstd                                    0.024284              0.0  \nmin                                    0.000000              0.0  \n25%                                    0.000000              0.0  \n50%                                    0.000000              0.0  \n75%                                    0.000000              0.0  \nmax                                    1.000000              0.0  \n\n[8 rows x 1240 columns]",
      "text/html": "<div>\n<style scoped>\n    .dataframe tbody tr th:only-of-type {\n        vertical-align: middle;\n    }\n\n    .dataframe tbody tr th {\n        vertical-align: top;\n    }\n\n    .dataframe thead th {\n        text-align: right;\n    }\n</style>\n<table border=\"1\" class=\"dataframe\">\n  <thead>\n    <tr style=\"text-align: right;\">\n      <th></th>\n      <th>Price</th>\n      <th>location.latitude</th>\n      <th>location.longitude</th>\n      <th>bedrooms</th>\n      <th>bathrooms</th>\n      <th>nearestStation</th>\n      <th>nearestTram</th>\n      <th>nearestUnderground</th>\n      <th>nearestOverground</th>\n      <th>key__chain free</th>\n      <th>...</th>\n      <th>key__garage &amp; off street parking</th>\n      <th>key__chainfree sale</th>\n      <th>key__beautiful condition</th>\n      <th>key__moments from amenities</th>\n      <th>key__no-onward chain</th>\n      <th>key__open plan layout</th>\n      <th>key__open plan kitchen/living</th>\n      <th>key__set on the ground floor</th>\n      <th>key__two bedroom ground floor maisonette</th>\n      <th>sharedOwnership</th>\n    </tr>\n  </thead>\n  <tbody>\n    <tr>\n      <th>count</th>\n      <td>25422.000000</td>\n      <td>25417.000000</td>\n      <td>25422.000000</td>\n      <td>24503.000000</td>\n      <td>23857.000000</td>\n      <td>25422.000000</td>\n      <td>25422.000000</td>\n      <td>25422.000000</td>\n      <td>25422.000000</td>\n      <td>25422.000000</td>\n      <td>...</td>\n      <td>25422.000000</td>\n      <td>25422.000000</td>\n      <td>25422.000000</td>\n      <td>25422.000000</td>\n      <td>25422.000000</td>\n      <td>25422.000000</td>\n      <td>25422.000000</td>\n      <td>25422.000000</td>\n      <td>25422.000000</td>\n      <td>25422.0</td>\n    </tr>\n    <tr>\n      <th>mean</th>\n      <td>414109.045118</td>\n      <td>51.498362</td>\n      <td>-0.107655</td>\n      <td>1.985879</td>\n      <td>1.176259</td>\n      <td>0.449262</td>\n      <td>92.868166</td>\n      <td>46.986987</td>\n      <td>11.836216</td>\n      <td>0.146487</td>\n      <td>...</td>\n      <td>0.000669</td>\n      <td>0.000433</td>\n      <td>0.000944</td>\n      <td>0.000708</td>\n      <td>0.000472</td>\n      <td>0.000708</td>\n      <td>0.002950</td>\n      <td>0.000669</td>\n      <td>0.000590</td>\n      <td>0.0</td>\n    </tr>\n    <tr>\n      <th>std</th>\n      <td>110776.268300</td>\n      <td>0.075232</td>\n      <td>0.740602</td>\n      <td>0.833672</td>\n      <td>0.404319</td>\n      <td>1.285944</td>\n      <td>23.788286</td>\n      <td>49.140186</td>\n      <td>31.450173</td>\n      <td>0.353601</td>\n      <td>...</td>\n      <td>0.025851</td>\n      <td>0.020797</td>\n      <td>0.030712</td>\n      <td>0.026600</td>\n      <td>0.021722</td>\n      <td>0.026600</td>\n      <td>0.054237</td>\n      <td>0.025851</td>\n      <td>0.024284</td>\n      <td>0.0</td>\n    </tr>\n    <tr>\n      <th>min</th>\n      <td>100000.000000</td>\n      <td>51.298320</td>\n      <td>-0.497861</td>\n      <td>1.000000</td>\n      <td>1.000000</td>\n      <td>0.000000</td>\n      <td>0.005282</td>\n      <td>0.006731</td>\n      <td>0.000000</td>\n      <td>0.000000</td>\n      <td>...</td>\n      <td>0.000000</td>\n      <td>0.000000</td>\n      <td>0.000000</td>\n      <td>0.000000</td>\n      <td>0.000000</td>\n      <td>0.000000</td>\n      <td>0.000000</td>\n      <td>0.000000</td>\n      <td>0.000000</td>\n      <td>0.0</td>\n    </tr>\n    <tr>\n      <th>25%</th>\n      <td>325000.000000</td>\n      <td>51.443670</td>\n      <td>-0.216580</td>\n      <td>1.000000</td>\n      <td>1.000000</td>\n      <td>0.223922</td>\n      <td>99.000000</td>\n      <td>0.423452</td>\n      <td>0.276878</td>\n      <td>0.000000</td>\n      <td>...</td>\n      <td>0.000000</td>\n      <td>0.000000</td>\n      <td>0.000000</td>\n      <td>0.000000</td>\n      <td>0.000000</td>\n      <td>0.000000</td>\n      <td>0.000000</td>\n      <td>0.000000</td>\n      <td>0.000000</td>\n      <td>0.0</td>\n    </tr>\n    <tr>\n      <th>50%</th>\n      <td>420000.000000</td>\n      <td>51.501270</td>\n      <td>-0.104980</td>\n      <td>2.000000</td>\n      <td>1.000000</td>\n      <td>0.363214</td>\n      <td>99.000000</td>\n      <td>1.475054</td>\n      <td>0.464421</td>\n      <td>0.000000</td>\n      <td>...</td>\n      <td>0.000000</td>\n      <td>0.000000</td>\n      <td>0.000000</td>\n      <td>0.000000</td>\n      <td>0.000000</td>\n      <td>0.000000</td>\n      <td>0.000000</td>\n      <td>0.000000</td>\n      <td>0.000000</td>\n      <td>0.0</td>\n    </tr>\n    <tr>\n      <th>75%</th>\n      <td>500000.000000</td>\n      <td>51.554526</td>\n      <td>-0.011520</td>\n      <td>2.000000</td>\n      <td>1.000000</td>\n      <td>0.558825</td>\n      <td>99.000000</td>\n      <td>99.000000</td>\n      <td>0.792294</td>\n      <td>0.000000</td>\n      <td>...</td>\n      <td>0.000000</td>\n      <td>0.000000</td>\n      <td>0.000000</td>\n      <td>0.000000</td>\n      <td>0.000000</td>\n      <td>0.000000</td>\n      <td>0.000000</td>\n      <td>0.000000</td>\n      <td>0.000000</td>\n      <td>0.0</td>\n    </tr>\n    <tr>\n      <th>max</th>\n      <td>600000.000000</td>\n      <td>51.683060</td>\n      <td>51.558746</td>\n      <td>7.000000</td>\n      <td>5.000000</td>\n      <td>192.431869</td>\n      <td>99.000000</td>\n      <td>99.000000</td>\n      <td>192.431869</td>\n      <td>1.000000</td>\n      <td>...</td>\n      <td>1.000000</td>\n      <td>1.000000</td>\n      <td>1.000000</td>\n      <td>1.000000</td>\n      <td>1.000000</td>\n      <td>1.000000</td>\n      <td>1.000000</td>\n      <td>1.000000</td>\n      <td>1.000000</td>\n      <td>0.0</td>\n    </tr>\n  </tbody>\n</table>\n<p>8 rows × 1240 columns</p>\n</div>"
     },
     "execution_count": 9,
     "metadata": {},
     "output_type": "execute_result"
    }
   ],
   "source": [
    "df.info()\n",
    "df.describe()"
   ],
   "metadata": {
    "collapsed": false
   }
  },
  {
   "cell_type": "code",
   "execution_count": 10,
   "outputs": [
    {
     "name": "stdout",
     "output_type": "stream",
     "text": [
      "(15172, 1292) (6503, 1292) (15172, 1) (6503, 1) (15172, 1) (6503, 1) (15172, 1) (6503, 1)\n",
      "<class 'numpy.ndarray'>\n"
     ]
    },
    {
     "data": {
      "text/plain": "array([51.396886, -0.128418,  3.      , ...,  0.      ,  0.      ,\n        0.      ])"
     },
     "execution_count": 10,
     "metadata": {},
     "output_type": "execute_result"
    }
   ],
   "source": [
    "X_train, X_test, y_train, y_test, X_train_index, X_test_index, y_train_index, y_test_index = create_train_test_data(df,\n",
    "                                                                                                                    return_index=True,\n",
    "                                                                                                                    drop_nulls=True)\n",
    "#X_train[:5]\n",
    "\n",
    "\n",
    "print(X_train.shape, X_test.shape, y_train.shape, y_test.shape, X_train_index.shape, X_test_index.shape,\n",
    "      y_train_index.shape, y_test_index.shape)\n",
    "#X_train_index\n",
    "print(type(X_train))\n",
    "X_train[0]"
   ],
   "metadata": {
    "collapsed": false
   }
  },
  {
   "cell_type": "code",
   "execution_count": 11,
   "outputs": [],
   "source": [
    "#imputer = SimpleImputer(strategy='mean')\n",
    "#imputer.fit(X_train[6])\n",
    "#X_train[6] = imputer.transform(X_train[6])"
   ],
   "metadata": {
    "collapsed": false
   }
  },
  {
   "cell_type": "code",
   "execution_count": 12,
   "outputs": [
    {
     "name": "stdout",
     "output_type": "stream",
     "text": [
      "2.10.0\n"
     ]
    },
    {
     "name": "stderr",
     "output_type": "stream",
     "text": [
      "2022-10-10 01:08:23.061996: I tensorflow/core/platform/cpu_feature_guard.cc:193] This TensorFlow binary is optimized with oneAPI Deep Neural Network Library (oneDNN) to use the following CPU instructions in performance-critical operations:  AVX2\n",
      "To enable them in other operations, rebuild TensorFlow with the appropriate compiler flags.\n",
      "2022-10-10 01:08:23.136968: W tensorflow/core/framework/cpu_allocator_impl.cc:82] Allocation of 62724016 exceeds 10% of free system memory.\n"
     ]
    },
    {
     "name": "stdout",
     "output_type": "stream",
     "text": [
      "51826.78125\n"
     ]
    }
   ],
   "source": [
    "print(tf.__version__)\n",
    "\n",
    "\n",
    "def build_and_compile_model(norm):\n",
    "    model = keras.Sequential([\n",
    "        norm,\n",
    "        layers.Dense(64, activation='relu'),\n",
    "        layers.Dense(64, activation='relu'),\n",
    "        #layers.Dense(132, activation='relu'),\n",
    "        #layers.Dense(132, activation='relu'),\n",
    "        layers.Dense(1)\n",
    "    ])\n",
    "\n",
    "    model.compile(loss='mean_absolute_error',\n",
    "                  optimizer=tf.keras.optimizers.Adam(0.001))\n",
    "    return model\n",
    "\n",
    "\n",
    "X_train2 = np.asarray(X_train).astype('float32')\n",
    "y_train2 = np.asarray(y_train).astype('float32')\n",
    "\n",
    "normalizer = tf.keras.layers.Normalization(axis=-1)\n",
    "\n",
    "dnn_model = build_and_compile_model(normalizer)\n",
    "\n",
    "# % % time\n",
    "history = dnn_model.fit(\n",
    "    X_train,  # train_features,\n",
    "    y_train2,  # train_labels,\n",
    "    validation_split=0.2,\n",
    "    verbose=0, epochs=100)\n",
    "\n",
    "print(dnn_model.evaluate(X_test, y_test, verbose=0))\n",
    "\n",
    "model = dnn_model"
   ],
   "metadata": {
    "collapsed": false
   }
  },
  {
   "cell_type": "code",
   "execution_count": 13,
   "outputs": [
    {
     "name": "stdout",
     "output_type": "stream",
     "text": [
      "(None, 1292) <dtype: 'float32'>\n",
      "(None, 1) <dtype: 'float32'>\n",
      "normalization (None, 1292) float32\n",
      "dense (None, 1292) float32\n",
      "dense_1 (None, 64) float32\n",
      "dense_2 (None, 64) float32\n"
     ]
    },
    {
     "data": {
      "text/plain": "[None, None, None, None]"
     },
     "execution_count": 13,
     "metadata": {},
     "output_type": "execute_result"
    }
   ],
   "source": [
    "[print(i.shape, i.dtype) for i in model.inputs]\n",
    "[print(o.shape, o.dtype) for o in model.outputs]\n",
    "[print(l.name, l.input_shape, l.dtype) for l in model.layers]"
   ],
   "metadata": {
    "collapsed": false
   }
  },
  {
   "cell_type": "code",
   "execution_count": 14,
   "outputs": [
    {
     "name": "stdout",
     "output_type": "stream",
     "text": [
      "(None, 1292) <dtype: 'float32'>\n",
      "(None, 1) <dtype: 'float32'>\n",
      "normalization (None, 1292) float32\n",
      "dense (None, 1292) float32\n",
      "dense_1 (None, 64) float32\n",
      "dense_2 (None, 64) float32\n"
     ]
    },
    {
     "data": {
      "text/plain": "[None, None, None, None]"
     },
     "execution_count": 14,
     "metadata": {},
     "output_type": "execute_result"
    }
   ],
   "source": [
    "[print(i.shape, i.dtype) for i in model.inputs]\n",
    "[print(o.shape, o.dtype) for o in model.outputs]\n",
    "[print(l.name, l.input_shape, l.dtype) for l in model.layers]"
   ],
   "metadata": {
    "collapsed": false
   }
  },
  {
   "cell_type": "code",
   "execution_count": 15,
   "outputs": [],
   "source": [
    "if False:\n",
    "    pipe = Pipeline(steps=[\n",
    "        ('preprocessor', features_preprocessor),  # preprocess features\n",
    "        ('estimator', dnn_model),\n",
    "    ])  # start the training\n",
    "\n",
    "    params = {}\n",
    "    grid = GridSearchCV(pipe, param_grid=params, cv=3, n_jobs=1, verbose=1, scoring='neg_mean_absolute_error')\n",
    "    #grid.fit(X_train, y_train)\n",
    "    #pipe.fit(X_train, y_train)\n",
    "    history = pipe.fit(\n",
    "        X_train,  # train_features,\n",
    "        y_train,  # train_labels,\n",
    "        validation_split=0.2,\n",
    "        verbose=0, epochs=100)\n",
    "\n",
    "    print(\"\\nBest Score\\n\", grid.best_score_)\n",
    "    best_estimator_pipe = grid.best_estimator_\n"
   ],
   "metadata": {
    "collapsed": false
   }
  },
  {
   "cell_type": "code",
   "execution_count": 16,
   "outputs": [
    {
     "name": "stdout",
     "output_type": "stream",
     "text": [
      "204/204 [==============================] - 1s 2ms/step\n"
     ]
    }
   ],
   "source": [
    "result = model.predict(X_test)"
   ],
   "metadata": {
    "collapsed": false
   }
  },
  {
   "cell_type": "code",
   "execution_count": 17,
   "outputs": [
    {
     "name": "stdout",
     "output_type": "stream",
     "text": [
      "[[371727.4 ]\n",
      " [404071.06]\n",
      " [548444.25]\n",
      " ...\n",
      " [302094.22]\n",
      " [315663.4 ]\n",
      " [353831.9 ]]\n"
     ]
    }
   ],
   "source": [
    "print(result)"
   ],
   "metadata": {
    "collapsed": false
   }
  },
  {
   "cell_type": "code",
   "execution_count": 18,
   "outputs": [
    {
     "name": "stdout",
     "output_type": "stream",
     "text": [
      "(6503, 1)\n",
      "(6503, 1)\n",
      "(6503, 1)\n",
      "(6503, 1)\n",
      "(6503, 1)\n",
      "(6503, 1)\n"
     ]
    }
   ],
   "source": [
    "print(y_test_index.reshape((-1, 1)).shape)\n",
    "print(result.reshape((-1, 1)).shape)\n",
    "print(y_test.shape)\n",
    "\n",
    "print(y_test_index.shape)\n",
    "print(result.shape)\n",
    "print(y_test.shape)"
   ],
   "metadata": {
    "collapsed": false
   }
  },
  {
   "cell_type": "code",
   "execution_count": 19,
   "outputs": [],
   "source": [
    "compare = np.hstack((y_test_index, y_test, result))\n",
    "#compare[0:4]"
   ],
   "metadata": {
    "collapsed": false
   }
  },
  {
   "cell_type": "code",
   "execution_count": 20,
   "outputs": [
    {
     "data": {
      "text/plain": "             actual      predicted          diff      abs diff   diff 1 %  \\\nreference                                                                   \n117821453  325000.0  371727.406250  46727.406250  46727.406250 -14.377663   \n118600661  350000.0  404071.062500  54071.062500  54071.062500 -15.448875   \n110855147  600000.0  548444.250000 -51555.750000  51555.750000   8.592625   \n115786904  220000.0  252297.234375  32297.234375  32297.234375 -14.680561   \n120028451  500000.0  472679.656250 -27320.343750  27320.343750   5.464069   \n...             ...            ...           ...           ...        ...   \n118902122  500000.0  489560.343750 -10439.656250  10439.656250   2.087931   \n115328102  595000.0  584835.812500 -10164.187500  10164.187500   1.708267   \n110494268  270000.0  302094.218750  32094.218750  32094.218750 -11.886748   \n120274217  265000.0  315663.406250  50663.406250  50663.406250 -19.118267   \n85749858   325000.0  353831.906250  28831.906250  28831.906250  -8.871356   \n\n           abs diff 1 %  \nreference                \n117821453     14.377663  \n118600661     15.448875  \n110855147      8.592625  \n115786904     14.680561  \n120028451      5.464069  \n...                 ...  \n118902122      2.087931  \n115328102      1.708267  \n110494268     11.886748  \n120274217     19.118267  \n85749858       8.871356  \n\n[6503 rows x 6 columns]",
      "text/html": "<div>\n<style scoped>\n    .dataframe tbody tr th:only-of-type {\n        vertical-align: middle;\n    }\n\n    .dataframe tbody tr th {\n        vertical-align: top;\n    }\n\n    .dataframe thead th {\n        text-align: right;\n    }\n</style>\n<table border=\"1\" class=\"dataframe\">\n  <thead>\n    <tr style=\"text-align: right;\">\n      <th></th>\n      <th>actual</th>\n      <th>predicted</th>\n      <th>diff</th>\n      <th>abs diff</th>\n      <th>diff 1 %</th>\n      <th>abs diff 1 %</th>\n    </tr>\n    <tr>\n      <th>reference</th>\n      <th></th>\n      <th></th>\n      <th></th>\n      <th></th>\n      <th></th>\n      <th></th>\n    </tr>\n  </thead>\n  <tbody>\n    <tr>\n      <th>117821453</th>\n      <td>325000.0</td>\n      <td>371727.406250</td>\n      <td>46727.406250</td>\n      <td>46727.406250</td>\n      <td>-14.377663</td>\n      <td>14.377663</td>\n    </tr>\n    <tr>\n      <th>118600661</th>\n      <td>350000.0</td>\n      <td>404071.062500</td>\n      <td>54071.062500</td>\n      <td>54071.062500</td>\n      <td>-15.448875</td>\n      <td>15.448875</td>\n    </tr>\n    <tr>\n      <th>110855147</th>\n      <td>600000.0</td>\n      <td>548444.250000</td>\n      <td>-51555.750000</td>\n      <td>51555.750000</td>\n      <td>8.592625</td>\n      <td>8.592625</td>\n    </tr>\n    <tr>\n      <th>115786904</th>\n      <td>220000.0</td>\n      <td>252297.234375</td>\n      <td>32297.234375</td>\n      <td>32297.234375</td>\n      <td>-14.680561</td>\n      <td>14.680561</td>\n    </tr>\n    <tr>\n      <th>120028451</th>\n      <td>500000.0</td>\n      <td>472679.656250</td>\n      <td>-27320.343750</td>\n      <td>27320.343750</td>\n      <td>5.464069</td>\n      <td>5.464069</td>\n    </tr>\n    <tr>\n      <th>...</th>\n      <td>...</td>\n      <td>...</td>\n      <td>...</td>\n      <td>...</td>\n      <td>...</td>\n      <td>...</td>\n    </tr>\n    <tr>\n      <th>118902122</th>\n      <td>500000.0</td>\n      <td>489560.343750</td>\n      <td>-10439.656250</td>\n      <td>10439.656250</td>\n      <td>2.087931</td>\n      <td>2.087931</td>\n    </tr>\n    <tr>\n      <th>115328102</th>\n      <td>595000.0</td>\n      <td>584835.812500</td>\n      <td>-10164.187500</td>\n      <td>10164.187500</td>\n      <td>1.708267</td>\n      <td>1.708267</td>\n    </tr>\n    <tr>\n      <th>110494268</th>\n      <td>270000.0</td>\n      <td>302094.218750</td>\n      <td>32094.218750</td>\n      <td>32094.218750</td>\n      <td>-11.886748</td>\n      <td>11.886748</td>\n    </tr>\n    <tr>\n      <th>120274217</th>\n      <td>265000.0</td>\n      <td>315663.406250</td>\n      <td>50663.406250</td>\n      <td>50663.406250</td>\n      <td>-19.118267</td>\n      <td>19.118267</td>\n    </tr>\n    <tr>\n      <th>85749858</th>\n      <td>325000.0</td>\n      <td>353831.906250</td>\n      <td>28831.906250</td>\n      <td>28831.906250</td>\n      <td>-8.871356</td>\n      <td>8.871356</td>\n    </tr>\n  </tbody>\n</table>\n<p>6503 rows × 6 columns</p>\n</div>"
     },
     "execution_count": 20,
     "metadata": {},
     "output_type": "execute_result"
    }
   ],
   "source": [
    "compare_df = DataFrame(compare, columns=['reference', 'actual', 'predicted'])\n",
    "compare_df['diff'] = - compare_df['actual'] + compare_df['predicted']\n",
    "compare_df['abs diff'] = abs(compare_df['actual'] - compare_df['predicted'])\n",
    "compare_df['diff 1 %'] = (compare_df['actual'] - compare_df['predicted']) / compare_df['actual'] * 100\n",
    "compare_df['abs diff 1 %'] = abs((compare_df['actual'] - compare_df['predicted']) / compare_df['actual'] * 100)\n",
    "#compare_df['diff 2 %'] = abs((compare_df['actual'] - compare_df['predicted']) / compare_df['predicted']) * 100\n",
    "compare_df['reference'] = compare_df['reference'].astype(int)\n",
    "compare_df.set_index('reference', inplace=True)\n",
    "compare_df"
   ],
   "metadata": {
    "collapsed": false
   }
  },
  {
   "cell_type": "code",
   "execution_count": 21,
   "outputs": [
    {
     "data": {
      "text/plain": "             actual     predicted          diff      abs diff    diff 1 %  \\\nreference                                                                   \n119522684  360000.0   31930.37500 -328069.62500  328069.62500   91.130451   \n120564857  595000.0  302391.53125 -292608.46875  292608.46875   49.177894   \n121338275  499999.0  278774.87500 -221224.12500  221224.12500   44.244913   \n114440948  570000.0  321281.43750 -248718.56250  248718.56250   43.634836   \n120192968  600000.0  341573.12500 -258426.87500  258426.87500   43.071146   \n...             ...           ...           ...           ...         ...   \n116734478  210000.0  459044.28125  249044.28125  249044.28125 -118.592515   \n114428018  150000.0  360513.75000  210513.75000  210513.75000 -140.342500   \n115558067  124000.0  316497.90625  192497.90625  192497.90625 -155.240247   \n109722224  108000.0  342152.59375  234152.59375  234152.59375 -216.807957   \n96587059   114000.0  487219.37500  373219.37500  373219.37500 -327.385417   \n\n           abs diff 1 %   Price  location.latitude  location.longitude  \\\nreference                                                                \n119522684     91.130451  360000          51.654780           -0.041851   \n120564857     49.177894  595000          51.469630            0.013220   \n121338275     44.244913  499999          51.492260           -0.260548   \n114440948     43.634836  570000          51.612736           -0.370496   \n120192968     43.071146  600000          51.610221            0.026575   \n...                 ...     ...                ...                 ...   \n116734478    118.592515  210000          51.595061           -0.082197   \n114428018    140.342500  150000          51.440630           -0.096990   \n115558067    155.240247  124000          51.377604           -0.158750   \n109722224    216.807957  108000          51.406803           -0.261328   \n96587059     327.385417  114000          51.523430           -0.151770   \n\n           bedrooms  ...  nearestOverground  tenure.tenureType  \\\nreference            ...                                         \n119522684       2.0  ...                NaN          LEASEHOLD   \n120564857       1.0  ...           0.312734  SHARE_OF_FREEHOLD   \n121338275       1.0  ...           0.627796          LEASEHOLD   \n114440948       2.0  ...           0.237745          LEASEHOLD   \n120192968       2.0  ...           1.157876          LEASEHOLD   \n...             ...  ...                ...                ...   \n116734478       3.0  ...           0.508535          LEASEHOLD   \n114428018       1.0  ...           0.274950          LEASEHOLD   \n115558067       2.0  ...           0.209794          LEASEHOLD   \n109722224       1.0  ...           0.302667          LEASEHOLD   \n96587059        1.0  ...                NaN          LEASEHOLD   \n\n           analyticsProperty.soldSTC  analyticsProperty.preOwned  \\\nreference                                                          \n119522684                      False                      Resale   \n120564857                       True                      Resale   \n121338275                      False                      Resale   \n114440948                       True                      Resale   \n120192968                       True                      Resale   \n...                              ...                         ...   \n116734478                      False                      Resale   \n114428018                      False                      Resale   \n115558067                       True                      Resale   \n109722224                      False                      Resale   \n96587059                       False                    New Home   \n\n           analyticsProperty.propertyType analyticsProperty.priceQualifier  \\\nreference                                                                    \n119522684              Flats / Apartments                             None   \n120564857              Flats / Apartments                             None   \n121338275              Flats / Apartments                             None   \n114440948              Flats / Apartments                             None   \n120192968              Flats / Apartments                      Guide Price   \n...                                   ...                              ...   \n116734478              Flats / Apartments              Offers in Excess of   \n114428018              Flats / Apartments                             None   \n115558067              Flats / Apartments                             None   \n109722224              Flats / Apartments                             None   \n96587059               Flats / Apartments                             None   \n\n                        borough sharedOwnership.sharedOwnership  \\\nreference                                                         \n119522684               Enfield                           False   \n120564857              Lewisham                           False   \n121338275              Hounslow                           False   \n114440948                Harrow                           False   \n120192968             Redbridge                           False   \n...                         ...                             ...   \n116734478              Haringey                           False   \n114428018               Lambeth                           False   \n115558067                Sutton                           False   \n109722224  Kingston upon Thames                           False   \n96587059            Westminster                           False   \n\n          sharedownership_in_description  \\\nreference                                  \n119522684                          False   \n120564857                          False   \n121338275                          False   \n114440948                          False   \n120192968                          False   \n...                                  ...   \n116734478                          False   \n114428018                          False   \n115558067                          False   \n109722224                          False   \n96587059                           False   \n\n                                                 keyFeatures  \nreference                                                     \n119522684  ['Top Floor Luxury Apartment', 'Lift in Block'...  \n120564857  ['Large One Bedroom Flat', 'Georgian Crescent'...  \n121338275  ['Sought after Purpose Built Block', 'Third Fl...  \n114440948  ['Two Double Bedrooms', 'First floor', 'Purpos...  \n120192968  ['Luxury two bedroom apartment', 'Close to Woo...  \n...                                                      ...  \n116734478                                                 []  \n114428018  ['One double bedroom', 'Private balcony ', 'Ch...  \n115558067                                                 []  \n109722224                                                 []  \n96587059   ['Located in London', '6.5% Net Rental Income'...  \n\n[6503 rows x 24 columns]",
      "text/html": "<div>\n<style scoped>\n    .dataframe tbody tr th:only-of-type {\n        vertical-align: middle;\n    }\n\n    .dataframe tbody tr th {\n        vertical-align: top;\n    }\n\n    .dataframe thead th {\n        text-align: right;\n    }\n</style>\n<table border=\"1\" class=\"dataframe\">\n  <thead>\n    <tr style=\"text-align: right;\">\n      <th></th>\n      <th>actual</th>\n      <th>predicted</th>\n      <th>diff</th>\n      <th>abs diff</th>\n      <th>diff 1 %</th>\n      <th>abs diff 1 %</th>\n      <th>Price</th>\n      <th>location.latitude</th>\n      <th>location.longitude</th>\n      <th>bedrooms</th>\n      <th>...</th>\n      <th>nearestOverground</th>\n      <th>tenure.tenureType</th>\n      <th>analyticsProperty.soldSTC</th>\n      <th>analyticsProperty.preOwned</th>\n      <th>analyticsProperty.propertyType</th>\n      <th>analyticsProperty.priceQualifier</th>\n      <th>borough</th>\n      <th>sharedOwnership.sharedOwnership</th>\n      <th>sharedownership_in_description</th>\n      <th>keyFeatures</th>\n    </tr>\n    <tr>\n      <th>reference</th>\n      <th></th>\n      <th></th>\n      <th></th>\n      <th></th>\n      <th></th>\n      <th></th>\n      <th></th>\n      <th></th>\n      <th></th>\n      <th></th>\n      <th></th>\n      <th></th>\n      <th></th>\n      <th></th>\n      <th></th>\n      <th></th>\n      <th></th>\n      <th></th>\n      <th></th>\n      <th></th>\n      <th></th>\n    </tr>\n  </thead>\n  <tbody>\n    <tr>\n      <th>119522684</th>\n      <td>360000.0</td>\n      <td>31930.37500</td>\n      <td>-328069.62500</td>\n      <td>328069.62500</td>\n      <td>91.130451</td>\n      <td>91.130451</td>\n      <td>360000</td>\n      <td>51.654780</td>\n      <td>-0.041851</td>\n      <td>2.0</td>\n      <td>...</td>\n      <td>NaN</td>\n      <td>LEASEHOLD</td>\n      <td>False</td>\n      <td>Resale</td>\n      <td>Flats / Apartments</td>\n      <td>None</td>\n      <td>Enfield</td>\n      <td>False</td>\n      <td>False</td>\n      <td>['Top Floor Luxury Apartment', 'Lift in Block'...</td>\n    </tr>\n    <tr>\n      <th>120564857</th>\n      <td>595000.0</td>\n      <td>302391.53125</td>\n      <td>-292608.46875</td>\n      <td>292608.46875</td>\n      <td>49.177894</td>\n      <td>49.177894</td>\n      <td>595000</td>\n      <td>51.469630</td>\n      <td>0.013220</td>\n      <td>1.0</td>\n      <td>...</td>\n      <td>0.312734</td>\n      <td>SHARE_OF_FREEHOLD</td>\n      <td>True</td>\n      <td>Resale</td>\n      <td>Flats / Apartments</td>\n      <td>None</td>\n      <td>Lewisham</td>\n      <td>False</td>\n      <td>False</td>\n      <td>['Large One Bedroom Flat', 'Georgian Crescent'...</td>\n    </tr>\n    <tr>\n      <th>121338275</th>\n      <td>499999.0</td>\n      <td>278774.87500</td>\n      <td>-221224.12500</td>\n      <td>221224.12500</td>\n      <td>44.244913</td>\n      <td>44.244913</td>\n      <td>499999</td>\n      <td>51.492260</td>\n      <td>-0.260548</td>\n      <td>1.0</td>\n      <td>...</td>\n      <td>0.627796</td>\n      <td>LEASEHOLD</td>\n      <td>False</td>\n      <td>Resale</td>\n      <td>Flats / Apartments</td>\n      <td>None</td>\n      <td>Hounslow</td>\n      <td>False</td>\n      <td>False</td>\n      <td>['Sought after Purpose Built Block', 'Third Fl...</td>\n    </tr>\n    <tr>\n      <th>114440948</th>\n      <td>570000.0</td>\n      <td>321281.43750</td>\n      <td>-248718.56250</td>\n      <td>248718.56250</td>\n      <td>43.634836</td>\n      <td>43.634836</td>\n      <td>570000</td>\n      <td>51.612736</td>\n      <td>-0.370496</td>\n      <td>2.0</td>\n      <td>...</td>\n      <td>0.237745</td>\n      <td>LEASEHOLD</td>\n      <td>True</td>\n      <td>Resale</td>\n      <td>Flats / Apartments</td>\n      <td>None</td>\n      <td>Harrow</td>\n      <td>False</td>\n      <td>False</td>\n      <td>['Two Double Bedrooms', 'First floor', 'Purpos...</td>\n    </tr>\n    <tr>\n      <th>120192968</th>\n      <td>600000.0</td>\n      <td>341573.12500</td>\n      <td>-258426.87500</td>\n      <td>258426.87500</td>\n      <td>43.071146</td>\n      <td>43.071146</td>\n      <td>600000</td>\n      <td>51.610221</td>\n      <td>0.026575</td>\n      <td>2.0</td>\n      <td>...</td>\n      <td>1.157876</td>\n      <td>LEASEHOLD</td>\n      <td>True</td>\n      <td>Resale</td>\n      <td>Flats / Apartments</td>\n      <td>Guide Price</td>\n      <td>Redbridge</td>\n      <td>False</td>\n      <td>False</td>\n      <td>['Luxury two bedroom apartment', 'Close to Woo...</td>\n    </tr>\n    <tr>\n      <th>...</th>\n      <td>...</td>\n      <td>...</td>\n      <td>...</td>\n      <td>...</td>\n      <td>...</td>\n      <td>...</td>\n      <td>...</td>\n      <td>...</td>\n      <td>...</td>\n      <td>...</td>\n      <td>...</td>\n      <td>...</td>\n      <td>...</td>\n      <td>...</td>\n      <td>...</td>\n      <td>...</td>\n      <td>...</td>\n      <td>...</td>\n      <td>...</td>\n      <td>...</td>\n      <td>...</td>\n    </tr>\n    <tr>\n      <th>116734478</th>\n      <td>210000.0</td>\n      <td>459044.28125</td>\n      <td>249044.28125</td>\n      <td>249044.28125</td>\n      <td>-118.592515</td>\n      <td>118.592515</td>\n      <td>210000</td>\n      <td>51.595061</td>\n      <td>-0.082197</td>\n      <td>3.0</td>\n      <td>...</td>\n      <td>0.508535</td>\n      <td>LEASEHOLD</td>\n      <td>False</td>\n      <td>Resale</td>\n      <td>Flats / Apartments</td>\n      <td>Offers in Excess of</td>\n      <td>Haringey</td>\n      <td>False</td>\n      <td>False</td>\n      <td>[]</td>\n    </tr>\n    <tr>\n      <th>114428018</th>\n      <td>150000.0</td>\n      <td>360513.75000</td>\n      <td>210513.75000</td>\n      <td>210513.75000</td>\n      <td>-140.342500</td>\n      <td>140.342500</td>\n      <td>150000</td>\n      <td>51.440630</td>\n      <td>-0.096990</td>\n      <td>1.0</td>\n      <td>...</td>\n      <td>0.274950</td>\n      <td>LEASEHOLD</td>\n      <td>False</td>\n      <td>Resale</td>\n      <td>Flats / Apartments</td>\n      <td>None</td>\n      <td>Lambeth</td>\n      <td>False</td>\n      <td>False</td>\n      <td>['One double bedroom', 'Private balcony ', 'Ch...</td>\n    </tr>\n    <tr>\n      <th>115558067</th>\n      <td>124000.0</td>\n      <td>316497.90625</td>\n      <td>192497.90625</td>\n      <td>192497.90625</td>\n      <td>-155.240247</td>\n      <td>155.240247</td>\n      <td>124000</td>\n      <td>51.377604</td>\n      <td>-0.158750</td>\n      <td>2.0</td>\n      <td>...</td>\n      <td>0.209794</td>\n      <td>LEASEHOLD</td>\n      <td>True</td>\n      <td>Resale</td>\n      <td>Flats / Apartments</td>\n      <td>None</td>\n      <td>Sutton</td>\n      <td>False</td>\n      <td>False</td>\n      <td>[]</td>\n    </tr>\n    <tr>\n      <th>109722224</th>\n      <td>108000.0</td>\n      <td>342152.59375</td>\n      <td>234152.59375</td>\n      <td>234152.59375</td>\n      <td>-216.807957</td>\n      <td>216.807957</td>\n      <td>108000</td>\n      <td>51.406803</td>\n      <td>-0.261328</td>\n      <td>1.0</td>\n      <td>...</td>\n      <td>0.302667</td>\n      <td>LEASEHOLD</td>\n      <td>False</td>\n      <td>Resale</td>\n      <td>Flats / Apartments</td>\n      <td>None</td>\n      <td>Kingston upon Thames</td>\n      <td>False</td>\n      <td>False</td>\n      <td>[]</td>\n    </tr>\n    <tr>\n      <th>96587059</th>\n      <td>114000.0</td>\n      <td>487219.37500</td>\n      <td>373219.37500</td>\n      <td>373219.37500</td>\n      <td>-327.385417</td>\n      <td>327.385417</td>\n      <td>114000</td>\n      <td>51.523430</td>\n      <td>-0.151770</td>\n      <td>1.0</td>\n      <td>...</td>\n      <td>NaN</td>\n      <td>LEASEHOLD</td>\n      <td>False</td>\n      <td>New Home</td>\n      <td>Flats / Apartments</td>\n      <td>None</td>\n      <td>Westminster</td>\n      <td>False</td>\n      <td>False</td>\n      <td>['Located in London', '6.5% Net Rental Income'...</td>\n    </tr>\n  </tbody>\n</table>\n<p>6503 rows × 24 columns</p>\n</div>"
     },
     "execution_count": 21,
     "metadata": {},
     "output_type": "execute_result"
    }
   ],
   "source": [
    "compare_df.join(df_orig).sort_values(by='diff 1 %', ascending=False)\n",
    "# 85514838\n",
    "# 115470422"
   ],
   "metadata": {
    "collapsed": false
   }
  },
  {
   "cell_type": "code",
   "execution_count": 22,
   "outputs": [
    {
     "data": {
      "text/plain": "             actual      predicted          diff      abs diff   diff 1 %  \\\nreference                                                                   \n117821453  325000.0  371727.406250  46727.406250  46727.406250 -14.377663   \n118600661  350000.0  404071.062500  54071.062500  54071.062500 -15.448875   \n110855147  600000.0  548444.250000 -51555.750000  51555.750000   8.592625   \n115786904  220000.0  252297.234375  32297.234375  32297.234375 -14.680561   \n120028451  500000.0  472679.656250 -27320.343750  27320.343750   5.464069   \n...             ...            ...           ...           ...        ...   \n118902122  500000.0  489560.343750 -10439.656250  10439.656250   2.087931   \n115328102  595000.0  584835.812500 -10164.187500  10164.187500   1.708267   \n110494268  270000.0  302094.218750  32094.218750  32094.218750 -11.886748   \n120274217  265000.0  315663.406250  50663.406250  50663.406250 -19.118267   \n85749858   325000.0  353831.906250  28831.906250  28831.906250  -8.871356   \n\n           abs diff 1 %   Price  location.latitude  location.longitude  \\\nreference                                                                \n117821453     14.377663  325000          51.535220           -0.345520   \n118600661     15.448875  350000          51.523632           -0.031687   \n110855147      8.592625  600000          51.452580            0.032040   \n115786904     14.680561  220000          51.574209            0.185169   \n120028451      5.464069  500000          51.665047           -0.085912   \n...                 ...     ...                ...                 ...   \n118902122      2.087931  500000          51.589430            0.211538   \n115328102      1.708267  595000          51.611673           -0.329256   \n110494268     11.886748  270000          51.575031            0.112690   \n120274217     19.118267  265000          51.619610           -0.017570   \n85749858       8.871356  325000          51.475834           -0.333072   \n\n           bedrooms  ...  key__garage & off street parking  \\\nreference            ...                                     \n117821453       2.0  ...                                 0   \n118600661       1.0  ...                                 0   \n110855147       3.0  ...                                 0   \n115786904       1.0  ...                                 0   \n120028451       3.0  ...                                 0   \n...             ...  ...                               ...   \n118902122       3.0  ...                                 0   \n115328102       4.0  ...                                 0   \n110494268       2.0  ...                                 0   \n120274217       2.0  ...                                 0   \n85749858        1.0  ...                                 0   \n\n           key__chainfree sale  key__beautiful condition  \\\nreference                                                  \n117821453                    0                         0   \n118600661                    0                         0   \n110855147                    0                         0   \n115786904                    0                         0   \n120028451                    0                         0   \n...                        ...                       ...   \n118902122                    0                         0   \n115328102                    0                         0   \n110494268                    0                         0   \n120274217                    0                         0   \n85749858                     0                         0   \n\n           key__moments from amenities  key__no-onward chain  \\\nreference                                                      \n117821453                            0                     0   \n118600661                            0                     0   \n110855147                            0                     0   \n115786904                            0                     0   \n120028451                            0                     0   \n...                                ...                   ...   \n118902122                            0                     0   \n115328102                            0                     0   \n110494268                            0                     0   \n120274217                            0                     0   \n85749858                             0                     0   \n\n          key__open plan layout  key__open plan kitchen/living  \\\nreference                                                        \n117821453                     0                              0   \n118600661                     0                              0   \n110855147                     0                              0   \n115786904                     0                              0   \n120028451                     0                              0   \n...                         ...                            ...   \n118902122                     0                              0   \n115328102                     0                              0   \n110494268                     0                              0   \n120274217                     0                              0   \n85749858                      0                              0   \n\n          key__set on the ground floor  \\\nreference                                \n117821453                            0   \n118600661                            0   \n110855147                            0   \n115786904                            0   \n120028451                            0   \n...                                ...   \n118902122                            0   \n115328102                            0   \n110494268                            0   \n120274217                            0   \n85749858                             0   \n\n          key__two bedroom ground floor maisonette sharedOwnership  \nreference                                                           \n117821453                                        0               0  \n118600661                                        0               0  \n110855147                                        0               0  \n115786904                                        0               0  \n120028451                                        0               0  \n...                                            ...             ...  \n118902122                                        0               0  \n115328102                                        0               0  \n110494268                                        0               0  \n120274217                                        0               0  \n85749858                                         0               0  \n\n[6503 rows x 1252 columns]",
      "text/html": "<div>\n<style scoped>\n    .dataframe tbody tr th:only-of-type {\n        vertical-align: middle;\n    }\n\n    .dataframe tbody tr th {\n        vertical-align: top;\n    }\n\n    .dataframe thead th {\n        text-align: right;\n    }\n</style>\n<table border=\"1\" class=\"dataframe\">\n  <thead>\n    <tr style=\"text-align: right;\">\n      <th></th>\n      <th>actual</th>\n      <th>predicted</th>\n      <th>diff</th>\n      <th>abs diff</th>\n      <th>diff 1 %</th>\n      <th>abs diff 1 %</th>\n      <th>Price</th>\n      <th>location.latitude</th>\n      <th>location.longitude</th>\n      <th>bedrooms</th>\n      <th>...</th>\n      <th>key__garage &amp; off street parking</th>\n      <th>key__chainfree sale</th>\n      <th>key__beautiful condition</th>\n      <th>key__moments from amenities</th>\n      <th>key__no-onward chain</th>\n      <th>key__open plan layout</th>\n      <th>key__open plan kitchen/living</th>\n      <th>key__set on the ground floor</th>\n      <th>key__two bedroom ground floor maisonette</th>\n      <th>sharedOwnership</th>\n    </tr>\n    <tr>\n      <th>reference</th>\n      <th></th>\n      <th></th>\n      <th></th>\n      <th></th>\n      <th></th>\n      <th></th>\n      <th></th>\n      <th></th>\n      <th></th>\n      <th></th>\n      <th></th>\n      <th></th>\n      <th></th>\n      <th></th>\n      <th></th>\n      <th></th>\n      <th></th>\n      <th></th>\n      <th></th>\n      <th></th>\n      <th></th>\n    </tr>\n  </thead>\n  <tbody>\n    <tr>\n      <th>117821453</th>\n      <td>325000.0</td>\n      <td>371727.406250</td>\n      <td>46727.406250</td>\n      <td>46727.406250</td>\n      <td>-14.377663</td>\n      <td>14.377663</td>\n      <td>325000</td>\n      <td>51.535220</td>\n      <td>-0.345520</td>\n      <td>2.0</td>\n      <td>...</td>\n      <td>0</td>\n      <td>0</td>\n      <td>0</td>\n      <td>0</td>\n      <td>0</td>\n      <td>0</td>\n      <td>0</td>\n      <td>0</td>\n      <td>0</td>\n      <td>0</td>\n    </tr>\n    <tr>\n      <th>118600661</th>\n      <td>350000.0</td>\n      <td>404071.062500</td>\n      <td>54071.062500</td>\n      <td>54071.062500</td>\n      <td>-15.448875</td>\n      <td>15.448875</td>\n      <td>350000</td>\n      <td>51.523632</td>\n      <td>-0.031687</td>\n      <td>1.0</td>\n      <td>...</td>\n      <td>0</td>\n      <td>0</td>\n      <td>0</td>\n      <td>0</td>\n      <td>0</td>\n      <td>0</td>\n      <td>0</td>\n      <td>0</td>\n      <td>0</td>\n      <td>0</td>\n    </tr>\n    <tr>\n      <th>110855147</th>\n      <td>600000.0</td>\n      <td>548444.250000</td>\n      <td>-51555.750000</td>\n      <td>51555.750000</td>\n      <td>8.592625</td>\n      <td>8.592625</td>\n      <td>600000</td>\n      <td>51.452580</td>\n      <td>0.032040</td>\n      <td>3.0</td>\n      <td>...</td>\n      <td>0</td>\n      <td>0</td>\n      <td>0</td>\n      <td>0</td>\n      <td>0</td>\n      <td>0</td>\n      <td>0</td>\n      <td>0</td>\n      <td>0</td>\n      <td>0</td>\n    </tr>\n    <tr>\n      <th>115786904</th>\n      <td>220000.0</td>\n      <td>252297.234375</td>\n      <td>32297.234375</td>\n      <td>32297.234375</td>\n      <td>-14.680561</td>\n      <td>14.680561</td>\n      <td>220000</td>\n      <td>51.574209</td>\n      <td>0.185169</td>\n      <td>1.0</td>\n      <td>...</td>\n      <td>0</td>\n      <td>0</td>\n      <td>0</td>\n      <td>0</td>\n      <td>0</td>\n      <td>0</td>\n      <td>0</td>\n      <td>0</td>\n      <td>0</td>\n      <td>0</td>\n    </tr>\n    <tr>\n      <th>120028451</th>\n      <td>500000.0</td>\n      <td>472679.656250</td>\n      <td>-27320.343750</td>\n      <td>27320.343750</td>\n      <td>5.464069</td>\n      <td>5.464069</td>\n      <td>500000</td>\n      <td>51.665047</td>\n      <td>-0.085912</td>\n      <td>3.0</td>\n      <td>...</td>\n      <td>0</td>\n      <td>0</td>\n      <td>0</td>\n      <td>0</td>\n      <td>0</td>\n      <td>0</td>\n      <td>0</td>\n      <td>0</td>\n      <td>0</td>\n      <td>0</td>\n    </tr>\n    <tr>\n      <th>...</th>\n      <td>...</td>\n      <td>...</td>\n      <td>...</td>\n      <td>...</td>\n      <td>...</td>\n      <td>...</td>\n      <td>...</td>\n      <td>...</td>\n      <td>...</td>\n      <td>...</td>\n      <td>...</td>\n      <td>...</td>\n      <td>...</td>\n      <td>...</td>\n      <td>...</td>\n      <td>...</td>\n      <td>...</td>\n      <td>...</td>\n      <td>...</td>\n      <td>...</td>\n      <td>...</td>\n    </tr>\n    <tr>\n      <th>118902122</th>\n      <td>500000.0</td>\n      <td>489560.343750</td>\n      <td>-10439.656250</td>\n      <td>10439.656250</td>\n      <td>2.087931</td>\n      <td>2.087931</td>\n      <td>500000</td>\n      <td>51.589430</td>\n      <td>0.211538</td>\n      <td>3.0</td>\n      <td>...</td>\n      <td>0</td>\n      <td>0</td>\n      <td>0</td>\n      <td>0</td>\n      <td>0</td>\n      <td>0</td>\n      <td>0</td>\n      <td>0</td>\n      <td>0</td>\n      <td>0</td>\n    </tr>\n    <tr>\n      <th>115328102</th>\n      <td>595000.0</td>\n      <td>584835.812500</td>\n      <td>-10164.187500</td>\n      <td>10164.187500</td>\n      <td>1.708267</td>\n      <td>1.708267</td>\n      <td>595000</td>\n      <td>51.611673</td>\n      <td>-0.329256</td>\n      <td>4.0</td>\n      <td>...</td>\n      <td>0</td>\n      <td>0</td>\n      <td>0</td>\n      <td>0</td>\n      <td>0</td>\n      <td>0</td>\n      <td>0</td>\n      <td>0</td>\n      <td>0</td>\n      <td>0</td>\n    </tr>\n    <tr>\n      <th>110494268</th>\n      <td>270000.0</td>\n      <td>302094.218750</td>\n      <td>32094.218750</td>\n      <td>32094.218750</td>\n      <td>-11.886748</td>\n      <td>11.886748</td>\n      <td>270000</td>\n      <td>51.575031</td>\n      <td>0.112690</td>\n      <td>2.0</td>\n      <td>...</td>\n      <td>0</td>\n      <td>0</td>\n      <td>0</td>\n      <td>0</td>\n      <td>0</td>\n      <td>0</td>\n      <td>0</td>\n      <td>0</td>\n      <td>0</td>\n      <td>0</td>\n    </tr>\n    <tr>\n      <th>120274217</th>\n      <td>265000.0</td>\n      <td>315663.406250</td>\n      <td>50663.406250</td>\n      <td>50663.406250</td>\n      <td>-19.118267</td>\n      <td>19.118267</td>\n      <td>265000</td>\n      <td>51.619610</td>\n      <td>-0.017570</td>\n      <td>2.0</td>\n      <td>...</td>\n      <td>0</td>\n      <td>0</td>\n      <td>0</td>\n      <td>0</td>\n      <td>0</td>\n      <td>0</td>\n      <td>0</td>\n      <td>0</td>\n      <td>0</td>\n      <td>0</td>\n    </tr>\n    <tr>\n      <th>85749858</th>\n      <td>325000.0</td>\n      <td>353831.906250</td>\n      <td>28831.906250</td>\n      <td>28831.906250</td>\n      <td>-8.871356</td>\n      <td>8.871356</td>\n      <td>325000</td>\n      <td>51.475834</td>\n      <td>-0.333072</td>\n      <td>1.0</td>\n      <td>...</td>\n      <td>0</td>\n      <td>0</td>\n      <td>0</td>\n      <td>0</td>\n      <td>0</td>\n      <td>0</td>\n      <td>0</td>\n      <td>0</td>\n      <td>0</td>\n      <td>0</td>\n    </tr>\n  </tbody>\n</table>\n<p>6503 rows × 1252 columns</p>\n</div>"
     },
     "execution_count": 22,
     "metadata": {},
     "output_type": "execute_result"
    }
   ],
   "source": [
    "compare_df.join(df)"
   ],
   "metadata": {
    "collapsed": false
   }
  },
  {
   "cell_type": "code",
   "execution_count": 23,
   "outputs": [],
   "source": [
    "if False:\n",
    "    model.score(X_test, y_test)"
   ],
   "metadata": {
    "collapsed": false
   }
  },
  {
   "cell_type": "code",
   "execution_count": 24,
   "outputs": [
    {
     "data": {
      "text/plain": "<Figure size 640x480 with 1 Axes>",
      "image/png": "[encoded data removed]"
     },
     "metadata": {},
     "output_type": "display_data"
    }
   ],
   "source": [
    "def plot_loss(history):\n",
    "    plt.plot(history.history['loss'], label='loss')\n",
    "    plt.plot(history.history['val_loss'], label='val_loss')\n",
    "    plt.ylim([0, 500000])\n",
    "    plt.xlabel('Epoch')\n",
    "    plt.ylabel('Error [£]')\n",
    "    plt.legend()\n",
    "    plt.grid(True)\n",
    "\n",
    "\n",
    "plot_loss(history)"
   ],
   "metadata": {
    "collapsed": false
   }
  },
  {
   "cell_type": "code",
   "execution_count": 25,
   "outputs": [
    {
     "name": "stdout",
     "output_type": "stream",
     "text": [
      "389836.1875, 154215.359375, 106375.34375, 98741.734375, 94681.1171875\n",
      "...\n",
      "48723.87890625, 48706.68359375, 48675.953125, 48633.65625, 48587.6484375\n"
     ]
    }
   ],
   "source": [
    "print(\", \".join([str(x) for x in history.history[\"loss\"][:5]]))\n",
    "print('...')\n",
    "print(\", \".join([str(x) for x in history.history[\"loss\"][-5:]]))"
   ],
   "metadata": {
    "collapsed": false
   }
  },
  {
   "cell_type": "code",
   "execution_count": 26,
   "outputs": [
    {
     "data": {
      "text/plain": "51826.78125"
     },
     "execution_count": 26,
     "metadata": {},
     "output_type": "execute_result"
    }
   ],
   "source": [
    "\n",
    "#test_results['dnn_model'] = dnn_model.evaluate(test_features, test_labels, verbose=0)\n",
    "dnn_model.evaluate(X_test, y_test, verbose=0)\n"
   ],
   "metadata": {
    "collapsed": false
   }
  },
  {
   "cell_type": "code",
   "execution_count": 26,
   "outputs": [],
   "source": [],
   "metadata": {
    "collapsed": false
   }
  }
 ],
 "metadata": {
  "kernelspec": {
   "display_name": "Python 3",
   "language": "python",
   "name": "python3"
  },
  "language_info": {
   "codemirror_mode": {
    "name": "ipython",
    "version": 2
   },
   "file_extension": ".py",
   "mimetype": "text/x-python",
   "name": "python",
   "nbconvert_exporter": "python",
   "pygments_lexer": "ipython2",
   "version": "2.7.6"
  }
 },
 "nbformat": 4,
 "nbformat_minor": 0
}
