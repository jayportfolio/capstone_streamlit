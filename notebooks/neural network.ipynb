{
 "cells": [
  {
   "cell_type": "raw",
   "source": [],
   "metadata": {
    "collapsed": false,
    "pycharm": {
     "name": ""
    }
   }
  },
  {
   "cell_type": "code",
   "execution_count": 41,
   "metadata": {
    "collapsed": true
   },
   "outputs": [],
   "source": [
    "from sklearn.compose import ColumnTransformer\n",
    "from sklearn.impute import SimpleImputer\n",
    "from sklearn.pipeline import Pipeline\n",
    "from sklearn.preprocessing import StandardScaler, OneHotEncoder\n",
    "from sklearn.tree import DecisionTreeRegressor\n",
    "import pandas as pd\n",
    "from sklearn.model_selection import train_test_split, GridSearchCV\n",
    "import numpy as np"
   ]
  },
  {
   "cell_type": "code",
   "execution_count": 42,
   "outputs": [
    {
     "data": {
      "text/plain": "['Price',\n 'location.latitude',\n 'location.longitude',\n 'bedrooms',\n 'bathrooms',\n 'nearestStation',\n 'nearestTram',\n 'nearestUnderground',\n 'nearestOverground']"
     },
     "execution_count": 42,
     "metadata": {},
     "output_type": "execute_result"
    }
   ],
   "source": [
    "cutdown_rows = 0\n",
    "\n",
    "LABEL = 'Price'\n",
    "\n",
    "floats = ['location.latitude', 'location.longitude', 'bedrooms', 'bathrooms',\n",
    "          'nearestStation', 'nearestTram', 'nearestUnderground', 'nearestOverground',\n",
    "          ]\n",
    "\n",
    "categories = ['tenure.tenureType',\n",
    "              'analyticsProperty.soldSTC',\n",
    "              'analyticsProperty.preOwned',\n",
    "              'sharedOwnership.sharedOwnership',\n",
    "              'analyticsProperty.propertyType',  # 'propertyType',\n",
    "              #'analyticsProperty.propertySubType',\n",
    "              #'borough',\n",
    "              #'analyticsProperty.priceQualifier'\n",
    "              ]\n",
    "categories = []\n",
    "\n",
    "features = floats.copy()\n",
    "features.extend(categories)\n",
    "features.insert(0, LABEL)\n",
    "features"
   ],
   "metadata": {
    "collapsed": false
   }
  },
  {
   "cell_type": "code",
   "execution_count": 43,
   "outputs": [
    {
     "data": {
      "text/plain": "((18643, 8),\n (7990, 8),\n (18643, 1),\n (7990, 1),\n (18643, 1),\n (7990, 1),\n (18643, 1),\n (7990, 1),\n array([[9.65746780e+07],\n        [8.53987200e+07],\n        [8.57140740e+07],\n        ...,\n        [8.56446690e+07],\n        [1.15593302e+08],\n        [7.35063450e+07]]))"
     },
     "execution_count": 43,
     "metadata": {},
     "output_type": "execute_result"
    }
   ],
   "source": [
    "def get_source_dataframe(rows=cutdown_rows):\n",
    "    df = pd.read_csv('../data/source/df_listings.csv', on_bad_lines='skip', index_col=0)\n",
    "    df = df[features]\n",
    "\n",
    "    if rows and rows > 0:\n",
    "        df = df[:rows]\n",
    "    return df\n",
    "\n",
    "\n",
    "def create_train_test_data(df_orig, return_index=False, drop_nulls=True):\n",
    "    df = df_orig.copy()\n",
    "\n",
    "    if drop_nulls:\n",
    "        df.dropna(inplace=True)\n",
    "\n",
    "    if return_index:\n",
    "        df.reset_index(inplace=True)\n",
    "\n",
    "    for column in categories:\n",
    "        df = pd.concat([df, pd.get_dummies(df[column], prefix=column)], axis=1)\n",
    "        df.drop([column], axis=1, inplace=True)  # now drop the original column (you don't need it anymore),\n",
    "\n",
    "    ins = df.pop('index')\n",
    "    df.insert(1, 'index2', ins)\n",
    "    df.insert(0, 'index', ins)\n",
    "\n",
    "    #features = df[df.columns[1:]].values\n",
    "    features = df[df.columns[2:]].values\n",
    "    #labels = df[LABEL].values\n",
    "    labels = df.iloc[:, 0:2].values\n",
    "\n",
    "    if not return_index:\n",
    "        return train_test_split(features, labels, train_size=0.7, random_state=1)\n",
    "    else:\n",
    "        X_train1, X_test1, y_train1, y_test1 = train_test_split(features, labels, train_size=0.7, random_state=1)\n",
    "        X_train_index = X_train1[:, 0].reshape(-1, 1)\n",
    "        y_train_index = y_train1[:, 0].reshape(-1, 1)\n",
    "        X_test_index = X_test1[:, 0].reshape(-1, 1)\n",
    "        y_test_index = y_test1[:, 0].reshape(-1, 1)\n",
    "        #X_train1 = X_train1[:,3:]\n",
    "        X_train1 = X_train1[:, 1:]\n",
    "        y_train1 = y_train1[:, 1].reshape(-1, 1)\n",
    "        #X_test1 = X_test1[:,3:]\n",
    "        X_test1 = X_test1[:, 1:]\n",
    "        y_test1 = y_test1[:, 1].reshape(-1, 1)\n",
    "\n",
    "        # X_train_index = pd.to_numeric(X_train_index, 'coerce').astype(int)\n",
    "        # y_train_index = pd.to_numeric(y_train_index, 'coerce').astype(int)\n",
    "        # X_test_index = pd.to_numeric(X_test_index, 'coerce').astype(int)\n",
    "        # y_test_index = pd.to_numeric(y_test_index, 'coerce').astype(int)\n",
    "\n",
    "        return X_train1, X_test1, y_train1, y_test1, X_train_index, X_test_index, y_train_index, y_test_index\n",
    "\n",
    "\n",
    "X_train, X_test, y_train, y_test, X_train_index, X_test_index, y_train_index, y_test_index = create_train_test_data(\n",
    "    get_source_dataframe(), return_index=True, drop_nulls=False)\n",
    "X_train.shape, X_test.shape, y_train.shape, y_test.shape, X_train_index.shape, X_test_index.shape, y_train_index.shape, y_test_index.shape, X_train_index"
   ],
   "metadata": {
    "collapsed": false
   }
  },
  {
   "cell_type": "code",
   "execution_count": 44,
   "outputs": [
    {
     "name": "stdout",
     "output_type": "stream",
     "text": [
      "(26633, 9)\n"
     ]
    },
    {
     "data": {
      "text/plain": "           Price  location.latitude  location.longitude  bedrooms  bathrooms  \\\n14520525  550000          51.529950           -0.207020       3.0        1.0   \n27953107  400000          51.549390           -0.482600       2.0        2.0   \n33593487  579950          51.447180           -0.338770       2.0        1.0   \n35271294  370000          51.449568           -0.140154       2.0        1.0   \n35429088  599950          51.577030           -0.141230       2.0        1.0   \n\n          nearestStation  nearestTram  nearestUnderground  nearestOverground  \n14520525        0.274316          NaN            0.274316           0.274316  \n27953107        0.305845          NaN            0.305845                NaN  \n33593487        0.438045          NaN                 NaN           0.438045  \n35271294        0.399307          NaN            0.399307           0.704048  \n35429088        0.238187          NaN            0.238187           1.054653  ",
      "text/html": "<div>\n<style scoped>\n    .dataframe tbody tr th:only-of-type {\n        vertical-align: middle;\n    }\n\n    .dataframe tbody tr th {\n        vertical-align: top;\n    }\n\n    .dataframe thead th {\n        text-align: right;\n    }\n</style>\n<table border=\"1\" class=\"dataframe\">\n  <thead>\n    <tr style=\"text-align: right;\">\n      <th></th>\n      <th>Price</th>\n      <th>location.latitude</th>\n      <th>location.longitude</th>\n      <th>bedrooms</th>\n      <th>bathrooms</th>\n      <th>nearestStation</th>\n      <th>nearestTram</th>\n      <th>nearestUnderground</th>\n      <th>nearestOverground</th>\n    </tr>\n  </thead>\n  <tbody>\n    <tr>\n      <th>14520525</th>\n      <td>550000</td>\n      <td>51.529950</td>\n      <td>-0.207020</td>\n      <td>3.0</td>\n      <td>1.0</td>\n      <td>0.274316</td>\n      <td>NaN</td>\n      <td>0.274316</td>\n      <td>0.274316</td>\n    </tr>\n    <tr>\n      <th>27953107</th>\n      <td>400000</td>\n      <td>51.549390</td>\n      <td>-0.482600</td>\n      <td>2.0</td>\n      <td>2.0</td>\n      <td>0.305845</td>\n      <td>NaN</td>\n      <td>0.305845</td>\n      <td>NaN</td>\n    </tr>\n    <tr>\n      <th>33593487</th>\n      <td>579950</td>\n      <td>51.447180</td>\n      <td>-0.338770</td>\n      <td>2.0</td>\n      <td>1.0</td>\n      <td>0.438045</td>\n      <td>NaN</td>\n      <td>NaN</td>\n      <td>0.438045</td>\n    </tr>\n    <tr>\n      <th>35271294</th>\n      <td>370000</td>\n      <td>51.449568</td>\n      <td>-0.140154</td>\n      <td>2.0</td>\n      <td>1.0</td>\n      <td>0.399307</td>\n      <td>NaN</td>\n      <td>0.399307</td>\n      <td>0.704048</td>\n    </tr>\n    <tr>\n      <th>35429088</th>\n      <td>599950</td>\n      <td>51.577030</td>\n      <td>-0.141230</td>\n      <td>2.0</td>\n      <td>1.0</td>\n      <td>0.238187</td>\n      <td>NaN</td>\n      <td>0.238187</td>\n      <td>1.054653</td>\n    </tr>\n  </tbody>\n</table>\n</div>"
     },
     "execution_count": 44,
     "metadata": {},
     "output_type": "execute_result"
    }
   ],
   "source": [
    "df = get_source_dataframe()\n",
    "print(df.shape)\n",
    "df[:5]"
   ],
   "metadata": {
    "collapsed": false
   }
  },
  {
   "cell_type": "code",
   "execution_count": 45,
   "outputs": [
    {
     "data": {
      "text/plain": "            Price  location.latitude  location.longitude  bedrooms  bathrooms  \\\n14520525   550000          51.529950           -0.207020       3.0        1.0   \n27953107   400000          51.549390           -0.482600       2.0        2.0   \n33593487   579950          51.447180           -0.338770       2.0        1.0   \n35271294   370000          51.449568           -0.140154       2.0        1.0   \n35429088   599950          51.577030           -0.141230       2.0        1.0   \n...           ...                ...                 ...       ...        ...   \n121677479  450000          51.483748           -0.388508       3.0        2.0   \n121677749  300000          51.532990            0.036340       2.0        1.0   \n121678004  475000          51.393990            0.045193       2.0        2.0   \n121678103  200000          51.410742           -0.225795       NaN        1.0   \n121678256  240000          51.518378            0.054917       1.0        1.0   \n\n           nearestStation  nearestTram  nearestUnderground  nearestOverground  \n14520525         0.274316    99.000000            0.274316           0.274316  \n27953107         0.305845    99.000000            0.305845          99.000000  \n33593487         0.438045    99.000000           99.000000           0.438045  \n35271294         0.399307    99.000000            0.399307           0.704048  \n35429088         0.238187    99.000000            0.238187           1.054653  \n...                   ...          ...                 ...                ...  \n121677479        0.709062    99.000000            0.709062          99.000000  \n121677749        0.178077    99.000000            0.178077          99.000000  \n121678004        0.444410    99.000000           99.000000           0.444410  \n121678103        0.205738     0.917064           99.000000           0.205738  \n121678256        0.286691    99.000000           99.000000           0.286691  \n\n[26633 rows x 9 columns]",
      "text/html": "<div>\n<style scoped>\n    .dataframe tbody tr th:only-of-type {\n        vertical-align: middle;\n    }\n\n    .dataframe tbody tr th {\n        vertical-align: top;\n    }\n\n    .dataframe thead th {\n        text-align: right;\n    }\n</style>\n<table border=\"1\" class=\"dataframe\">\n  <thead>\n    <tr style=\"text-align: right;\">\n      <th></th>\n      <th>Price</th>\n      <th>location.latitude</th>\n      <th>location.longitude</th>\n      <th>bedrooms</th>\n      <th>bathrooms</th>\n      <th>nearestStation</th>\n      <th>nearestTram</th>\n      <th>nearestUnderground</th>\n      <th>nearestOverground</th>\n    </tr>\n  </thead>\n  <tbody>\n    <tr>\n      <th>14520525</th>\n      <td>550000</td>\n      <td>51.529950</td>\n      <td>-0.207020</td>\n      <td>3.0</td>\n      <td>1.0</td>\n      <td>0.274316</td>\n      <td>99.000000</td>\n      <td>0.274316</td>\n      <td>0.274316</td>\n    </tr>\n    <tr>\n      <th>27953107</th>\n      <td>400000</td>\n      <td>51.549390</td>\n      <td>-0.482600</td>\n      <td>2.0</td>\n      <td>2.0</td>\n      <td>0.305845</td>\n      <td>99.000000</td>\n      <td>0.305845</td>\n      <td>99.000000</td>\n    </tr>\n    <tr>\n      <th>33593487</th>\n      <td>579950</td>\n      <td>51.447180</td>\n      <td>-0.338770</td>\n      <td>2.0</td>\n      <td>1.0</td>\n      <td>0.438045</td>\n      <td>99.000000</td>\n      <td>99.000000</td>\n      <td>0.438045</td>\n    </tr>\n    <tr>\n      <th>35271294</th>\n      <td>370000</td>\n      <td>51.449568</td>\n      <td>-0.140154</td>\n      <td>2.0</td>\n      <td>1.0</td>\n      <td>0.399307</td>\n      <td>99.000000</td>\n      <td>0.399307</td>\n      <td>0.704048</td>\n    </tr>\n    <tr>\n      <th>35429088</th>\n      <td>599950</td>\n      <td>51.577030</td>\n      <td>-0.141230</td>\n      <td>2.0</td>\n      <td>1.0</td>\n      <td>0.238187</td>\n      <td>99.000000</td>\n      <td>0.238187</td>\n      <td>1.054653</td>\n    </tr>\n    <tr>\n      <th>...</th>\n      <td>...</td>\n      <td>...</td>\n      <td>...</td>\n      <td>...</td>\n      <td>...</td>\n      <td>...</td>\n      <td>...</td>\n      <td>...</td>\n      <td>...</td>\n    </tr>\n    <tr>\n      <th>121677479</th>\n      <td>450000</td>\n      <td>51.483748</td>\n      <td>-0.388508</td>\n      <td>3.0</td>\n      <td>2.0</td>\n      <td>0.709062</td>\n      <td>99.000000</td>\n      <td>0.709062</td>\n      <td>99.000000</td>\n    </tr>\n    <tr>\n      <th>121677749</th>\n      <td>300000</td>\n      <td>51.532990</td>\n      <td>0.036340</td>\n      <td>2.0</td>\n      <td>1.0</td>\n      <td>0.178077</td>\n      <td>99.000000</td>\n      <td>0.178077</td>\n      <td>99.000000</td>\n    </tr>\n    <tr>\n      <th>121678004</th>\n      <td>475000</td>\n      <td>51.393990</td>\n      <td>0.045193</td>\n      <td>2.0</td>\n      <td>2.0</td>\n      <td>0.444410</td>\n      <td>99.000000</td>\n      <td>99.000000</td>\n      <td>0.444410</td>\n    </tr>\n    <tr>\n      <th>121678103</th>\n      <td>200000</td>\n      <td>51.410742</td>\n      <td>-0.225795</td>\n      <td>NaN</td>\n      <td>1.0</td>\n      <td>0.205738</td>\n      <td>0.917064</td>\n      <td>99.000000</td>\n      <td>0.205738</td>\n    </tr>\n    <tr>\n      <th>121678256</th>\n      <td>240000</td>\n      <td>51.518378</td>\n      <td>0.054917</td>\n      <td>1.0</td>\n      <td>1.0</td>\n      <td>0.286691</td>\n      <td>99.000000</td>\n      <td>99.000000</td>\n      <td>0.286691</td>\n    </tr>\n  </tbody>\n</table>\n<p>26633 rows × 9 columns</p>\n</div>"
     },
     "execution_count": 45,
     "metadata": {},
     "output_type": "execute_result"
    }
   ],
   "source": [
    "if 'nearestTram' in features:\n",
    "    df['nearestTram'] = df['nearestTram'].fillna(99)\n",
    "    df['nearestOverground'] = df['nearestOverground'].fillna(99)\n",
    "    df['nearestUnderground'] = df['nearestUnderground'].fillna(99)\n",
    "    df['nearestStation'] = df['nearestStation'].fillna(99)\n",
    "\n",
    "    imputer = SimpleImputer(strategy='constant', fill_value=99)\n",
    "    imputer.fit(df['nearestTram'].values.reshape(-1, 1))\n",
    "    df['nearestTram'] = imputer.transform(df['nearestTram'].values.reshape(-1, 1))\n",
    "    df['nearestUnderground'] = imputer.transform(df['nearestUnderground'].values.reshape(-1, 1))\n",
    "    df['nearestOverground'] = imputer.transform(df['nearestOverground'].values.reshape(-1, 1))\n",
    "    df['nearestStation'] = imputer.transform(df['nearestStation'].values.reshape(-1, 1))\n",
    "\n",
    "\n",
    "if 'analyticsProperty.priceQualifier' in features:\n",
    "    #df['shared_ownership'] = ((df['sharedOwnership.sharedOwnership'] == True) | (df['analyticsProperty.priceQualifier'] == 'Shared ownership'))\n",
    "    df.drop(['analyticsProperty.priceQualifier'], axis=1, inplace=True)\n",
    "\n",
    "\n",
    "df"
   ],
   "metadata": {
    "collapsed": false
   }
  },
  {
   "cell_type": "code",
   "execution_count": 46,
   "outputs": [
    {
     "name": "stdout",
     "output_type": "stream",
     "text": [
      "(16856, 8) (7225, 8) (16856, 1) (7225, 1) (16856, 1) (7225, 1) (16856, 1) (7225, 1)\n"
     ]
    },
    {
     "data": {
      "text/plain": "array([[275000],\n       [400000],\n       [350000],\n       ...,\n       [400000],\n       [425000],\n       [540000]])"
     },
     "execution_count": 46,
     "metadata": {},
     "output_type": "execute_result"
    }
   ],
   "source": [
    "X_train, X_test, y_train, y_test, X_train_index, X_test_index, y_train_index, y_test_index = create_train_test_data(df,\n",
    "                                                                                                                    return_index=True,\n",
    "                                                                                                                    drop_nulls=True)\n",
    "#X_train[:5]\n",
    "\n",
    "\n",
    "print(X_train.shape, X_test.shape, y_train.shape, y_test.shape, X_train_index.shape, X_test_index.shape,\n",
    "      y_train_index.shape, y_test_index.shape)\n",
    "#X_train_index\n",
    "y_test"
   ],
   "metadata": {
    "collapsed": false
   }
  },
  {
   "cell_type": "code",
   "execution_count": 47,
   "outputs": [],
   "source": [
    "#imputer = SimpleImputer(strategy='mean')\n",
    "#imputer.fit(X_train[6])\n",
    "#X_train[6] = imputer.transform(X_train[6])"
   ],
   "metadata": {
    "collapsed": false
   }
  },
  {
   "cell_type": "code",
   "execution_count": 48,
   "outputs": [
    {
     "name": "stdout",
     "output_type": "stream",
     "text": [
      "2.10.0\n",
      "75986.484375\n"
     ]
    }
   ],
   "source": [
    "import tensorflow as tf\n",
    "\n",
    "from tensorflow import keras\n",
    "from tensorflow.keras import layers\n",
    "\n",
    "print(tf.__version__)\n",
    "\n",
    "\n",
    "def build_and_compile_model(norm):\n",
    "    model = keras.Sequential([\n",
    "        norm,\n",
    "        layers.Dense(64, activation='relu'),\n",
    "        layers.Dense(64, activation='relu'),\n",
    "        #layers.Dense(132, activation='relu'),\n",
    "        #layers.Dense(132, activation='relu'),\n",
    "        layers.Dense(1)\n",
    "    ])\n",
    "\n",
    "    model.compile(loss='mean_absolute_error',\n",
    "                  optimizer=tf.keras.optimizers.Adam(0.001))\n",
    "    return model\n",
    "\n",
    "\n",
    "normalizer = tf.keras.layers.Normalization(axis=-1)\n",
    "\n",
    "dnn_model = build_and_compile_model(normalizer)\n",
    "\n",
    "# % % time\n",
    "history = dnn_model.fit(\n",
    "    X_train,  # train_features,\n",
    "    y_train,  # train_labels,\n",
    "    validation_split=0.2,\n",
    "    verbose=0, epochs=100)\n",
    "\n",
    "print(dnn_model.evaluate(X_test, y_test, verbose=0))\n",
    "\n",
    "model = dnn_model"
   ],
   "metadata": {
    "collapsed": false
   }
  },
  {
   "cell_type": "code",
   "execution_count": 49,
   "outputs": [
    {
     "name": "stdout",
     "output_type": "stream",
     "text": [
      "(None, 8) <dtype: 'float32'>\n",
      "(None, 1) <dtype: 'float32'>\n",
      "normalization_2 (None, 8) float32\n",
      "dense_6 (None, 8) float32\n",
      "dense_7 (None, 64) float32\n",
      "dense_8 (None, 64) float32\n"
     ]
    },
    {
     "data": {
      "text/plain": "[None, None, None, None]"
     },
     "execution_count": 49,
     "metadata": {},
     "output_type": "execute_result"
    }
   ],
   "source": [
    "[print(i.shape, i.dtype) for i in model.inputs]\n",
    "[print(o.shape, o.dtype) for o in model.outputs]\n",
    "[print(l.name, l.input_shape, l.dtype) for l in model.layers]"
   ],
   "metadata": {
    "collapsed": false
   }
  },
  {
   "cell_type": "code",
   "execution_count": 50,
   "outputs": [],
   "source": [
    "if False:\n",
    "    pipe = Pipeline(steps=[\n",
    "        ('preprocessor', features_preprocessor),  # preprocess features\n",
    "        ('estimator', dnn_model),\n",
    "    ])  # start the training\n",
    "\n",
    "    params = {}\n",
    "    grid = GridSearchCV(pipe, param_grid=params, cv=3, n_jobs=1, verbose=1, scoring='neg_mean_absolute_error')\n",
    "    #grid.fit(X_train, y_train)\n",
    "    #pipe.fit(X_train, y_train)\n",
    "    history = pipe.fit(\n",
    "        X_train,  # train_features,\n",
    "        y_train,  # train_labels,\n",
    "        validation_split=0.2,\n",
    "        verbose=0, epochs=100)\n",
    "\n",
    "    print(\"\\nBest Score\\n\", grid.best_score_)\n",
    "    best_estimator_pipe = grid.best_estimator_\n"
   ],
   "metadata": {
    "collapsed": false
   }
  },
  {
   "cell_type": "code",
   "execution_count": 51,
   "outputs": [
    {
     "name": "stdout",
     "output_type": "stream",
     "text": [
      "226/226 [==============================] - 1s 2ms/step\n"
     ]
    }
   ],
   "source": [
    "result = model.predict(X_test)"
   ],
   "metadata": {
    "collapsed": false
   }
  },
  {
   "cell_type": "code",
   "execution_count": 52,
   "outputs": [
    {
     "name": "stdout",
     "output_type": "stream",
     "text": [
      "[[389278.94]\n",
      " [429542.  ]\n",
      " [320425.88]\n",
      " ...\n",
      " [397844.94]\n",
      " [388206.62]\n",
      " [383109.6 ]]\n"
     ]
    }
   ],
   "source": [
    "print(result)"
   ],
   "metadata": {
    "collapsed": false
   }
  },
  {
   "cell_type": "code",
   "execution_count": 53,
   "outputs": [
    {
     "name": "stdout",
     "output_type": "stream",
     "text": [
      "(7225, 1)\n",
      "(7225, 1)\n",
      "(7225, 1)\n",
      "(7225, 1)\n",
      "(7225, 1)\n",
      "(7225, 1)\n"
     ]
    }
   ],
   "source": [
    "print(y_test_index.reshape((-1, 1)).shape)\n",
    "print(result.reshape((-1, 1)).shape)\n",
    "print(y_test.shape)\n",
    "\n",
    "print(y_test_index.shape)\n",
    "print(result.shape)\n",
    "print(y_test.shape)"
   ],
   "metadata": {
    "collapsed": false
   }
  },
  {
   "cell_type": "code",
   "execution_count": 54,
   "outputs": [],
   "source": [
    "from pandas import DataFrame\n",
    "\n",
    "compare = np.hstack((y_test_index, y_test, result))\n",
    "#compare[0:4]"
   ],
   "metadata": {
    "collapsed": false
   }
  },
  {
   "cell_type": "code",
   "execution_count": 55,
   "outputs": [
    {
     "data": {
      "text/plain": "             actual     predicted    difference   diff 1 %\nreference                                                 \n117084449  275000.0  389278.93750  114278.93750  41.555977\n119863076  400000.0  429542.00000   29542.00000   7.385500\n121635962  350000.0  320425.87500   29574.12500   8.449750\n85349784   465000.0  418564.43750   46435.56250   9.986142\n85778946   600000.0  460270.18750  139729.81250  23.288302\n...             ...           ...           ...        ...\n121469246  415000.0  491533.50000   76533.50000  18.441807\n119227655  400000.0  385026.31250   14973.68750   3.743422\n115256372  400000.0  397844.93750    2155.06250   0.538766\n120421133  425000.0  388206.62500   36793.37500   8.657265\n119457512  540000.0  383109.59375  156890.40625  29.053779\n\n[7225 rows x 4 columns]",
      "text/html": "<div>\n<style scoped>\n    .dataframe tbody tr th:only-of-type {\n        vertical-align: middle;\n    }\n\n    .dataframe tbody tr th {\n        vertical-align: top;\n    }\n\n    .dataframe thead th {\n        text-align: right;\n    }\n</style>\n<table border=\"1\" class=\"dataframe\">\n  <thead>\n    <tr style=\"text-align: right;\">\n      <th></th>\n      <th>actual</th>\n      <th>predicted</th>\n      <th>difference</th>\n      <th>diff 1 %</th>\n    </tr>\n    <tr>\n      <th>reference</th>\n      <th></th>\n      <th></th>\n      <th></th>\n      <th></th>\n    </tr>\n  </thead>\n  <tbody>\n    <tr>\n      <th>117084449</th>\n      <td>275000.0</td>\n      <td>389278.93750</td>\n      <td>114278.93750</td>\n      <td>41.555977</td>\n    </tr>\n    <tr>\n      <th>119863076</th>\n      <td>400000.0</td>\n      <td>429542.00000</td>\n      <td>29542.00000</td>\n      <td>7.385500</td>\n    </tr>\n    <tr>\n      <th>121635962</th>\n      <td>350000.0</td>\n      <td>320425.87500</td>\n      <td>29574.12500</td>\n      <td>8.449750</td>\n    </tr>\n    <tr>\n      <th>85349784</th>\n      <td>465000.0</td>\n      <td>418564.43750</td>\n      <td>46435.56250</td>\n      <td>9.986142</td>\n    </tr>\n    <tr>\n      <th>85778946</th>\n      <td>600000.0</td>\n      <td>460270.18750</td>\n      <td>139729.81250</td>\n      <td>23.288302</td>\n    </tr>\n    <tr>\n      <th>...</th>\n      <td>...</td>\n      <td>...</td>\n      <td>...</td>\n      <td>...</td>\n    </tr>\n    <tr>\n      <th>121469246</th>\n      <td>415000.0</td>\n      <td>491533.50000</td>\n      <td>76533.50000</td>\n      <td>18.441807</td>\n    </tr>\n    <tr>\n      <th>119227655</th>\n      <td>400000.0</td>\n      <td>385026.31250</td>\n      <td>14973.68750</td>\n      <td>3.743422</td>\n    </tr>\n    <tr>\n      <th>115256372</th>\n      <td>400000.0</td>\n      <td>397844.93750</td>\n      <td>2155.06250</td>\n      <td>0.538766</td>\n    </tr>\n    <tr>\n      <th>120421133</th>\n      <td>425000.0</td>\n      <td>388206.62500</td>\n      <td>36793.37500</td>\n      <td>8.657265</td>\n    </tr>\n    <tr>\n      <th>119457512</th>\n      <td>540000.0</td>\n      <td>383109.59375</td>\n      <td>156890.40625</td>\n      <td>29.053779</td>\n    </tr>\n  </tbody>\n</table>\n<p>7225 rows × 4 columns</p>\n</div>"
     },
     "execution_count": 55,
     "metadata": {},
     "output_type": "execute_result"
    }
   ],
   "source": [
    "import math\n",
    "\n",
    "compare_df = DataFrame(compare, columns=['reference', 'actual', 'predicted'])\n",
    "compare_df['difference'] = abs(compare_df['actual'] - compare_df['predicted'])\n",
    "compare_df['diff 1 %'] = abs((compare_df['actual'] - compare_df['predicted']) / compare_df['actual'] * 100)\n",
    "#compare_df['diff 2 %'] = abs((compare_df['actual'] - compare_df['predicted']) / compare_df['predicted']) * 100\n",
    "compare_df['reference'] = compare_df['reference'].astype(int)\n",
    "compare_df.set_index('reference', inplace=True)\n",
    "compare_df"
   ],
   "metadata": {
    "collapsed": false
   }
  },
  {
   "cell_type": "code",
   "execution_count": 56,
   "outputs": [
    {
     "data": {
      "text/plain": "             actual     predicted    difference   diff 1 %   Price  \\\nreference                                                            \n117084449  275000.0  389278.93750  114278.93750  41.555977  275000   \n119863076  400000.0  429542.00000   29542.00000   7.385500  400000   \n121635962  350000.0  320425.87500   29574.12500   8.449750  350000   \n85349784   465000.0  418564.43750   46435.56250   9.986142  465000   \n85778946   600000.0  460270.18750  139729.81250  23.288302  600000   \n...             ...           ...           ...        ...     ...   \n121469246  415000.0  491533.50000   76533.50000  18.441807  415000   \n119227655  400000.0  385026.31250   14973.68750   3.743422  400000   \n115256372  400000.0  397844.93750    2155.06250   0.538766  400000   \n120421133  425000.0  388206.62500   36793.37500   8.657265  425000   \n119457512  540000.0  383109.59375  156890.40625  29.053779  540000   \n\n           location.latitude  location.longitude  bedrooms  bathrooms  \\\nreference                                                               \n117084449          51.446195           -0.018447       2.0        1.0   \n119863076          51.563733           -0.456680       2.0        1.0   \n121635962          51.611246           -0.002896       1.0        1.0   \n85349784           51.496665           -0.083362       2.0        1.0   \n85778946           51.372820           -0.301380       3.0        1.0   \n...                      ...                 ...       ...        ...   \n121469246          51.568815           -0.438663       2.0        2.0   \n119227655          51.564617           -0.047707       2.0        1.0   \n115256372          51.324511           -0.135183       2.0        1.0   \n120421133          51.441165           -0.031860       2.0        1.0   \n119457512          51.553749            0.016633       2.0        1.0   \n\n           nearestStation  nearestTram  nearestUnderground  nearestOverground  \nreference                                                                      \n117084449        0.305286         99.0           99.000000           0.305286  \n119863076        0.641872         99.0            0.641872           0.903916  \n121635962        0.232549         99.0           99.000000           0.232549  \n85349784         0.546365         99.0            0.546365           0.589599  \n85778946         0.599188         99.0           99.000000           0.599188  \n...                   ...          ...                 ...                ...  \n121469246        0.061833         99.0            0.061833           0.061833  \n119227655        0.456843         99.0           99.000000           0.456843  \n115256372        0.187759         99.0           99.000000           0.187759  \n120421133        0.345549         99.0           99.000000           0.345549  \n119457512        0.440860         99.0           99.000000           0.440860  \n\n[7225 rows x 13 columns]",
      "text/html": "<div>\n<style scoped>\n    .dataframe tbody tr th:only-of-type {\n        vertical-align: middle;\n    }\n\n    .dataframe tbody tr th {\n        vertical-align: top;\n    }\n\n    .dataframe thead th {\n        text-align: right;\n    }\n</style>\n<table border=\"1\" class=\"dataframe\">\n  <thead>\n    <tr style=\"text-align: right;\">\n      <th></th>\n      <th>actual</th>\n      <th>predicted</th>\n      <th>difference</th>\n      <th>diff 1 %</th>\n      <th>Price</th>\n      <th>location.latitude</th>\n      <th>location.longitude</th>\n      <th>bedrooms</th>\n      <th>bathrooms</th>\n      <th>nearestStation</th>\n      <th>nearestTram</th>\n      <th>nearestUnderground</th>\n      <th>nearestOverground</th>\n    </tr>\n    <tr>\n      <th>reference</th>\n      <th></th>\n      <th></th>\n      <th></th>\n      <th></th>\n      <th></th>\n      <th></th>\n      <th></th>\n      <th></th>\n      <th></th>\n      <th></th>\n      <th></th>\n      <th></th>\n      <th></th>\n    </tr>\n  </thead>\n  <tbody>\n    <tr>\n      <th>117084449</th>\n      <td>275000.0</td>\n      <td>389278.93750</td>\n      <td>114278.93750</td>\n      <td>41.555977</td>\n      <td>275000</td>\n      <td>51.446195</td>\n      <td>-0.018447</td>\n      <td>2.0</td>\n      <td>1.0</td>\n      <td>0.305286</td>\n      <td>99.0</td>\n      <td>99.000000</td>\n      <td>0.305286</td>\n    </tr>\n    <tr>\n      <th>119863076</th>\n      <td>400000.0</td>\n      <td>429542.00000</td>\n      <td>29542.00000</td>\n      <td>7.385500</td>\n      <td>400000</td>\n      <td>51.563733</td>\n      <td>-0.456680</td>\n      <td>2.0</td>\n      <td>1.0</td>\n      <td>0.641872</td>\n      <td>99.0</td>\n      <td>0.641872</td>\n      <td>0.903916</td>\n    </tr>\n    <tr>\n      <th>121635962</th>\n      <td>350000.0</td>\n      <td>320425.87500</td>\n      <td>29574.12500</td>\n      <td>8.449750</td>\n      <td>350000</td>\n      <td>51.611246</td>\n      <td>-0.002896</td>\n      <td>1.0</td>\n      <td>1.0</td>\n      <td>0.232549</td>\n      <td>99.0</td>\n      <td>99.000000</td>\n      <td>0.232549</td>\n    </tr>\n    <tr>\n      <th>85349784</th>\n      <td>465000.0</td>\n      <td>418564.43750</td>\n      <td>46435.56250</td>\n      <td>9.986142</td>\n      <td>465000</td>\n      <td>51.496665</td>\n      <td>-0.083362</td>\n      <td>2.0</td>\n      <td>1.0</td>\n      <td>0.546365</td>\n      <td>99.0</td>\n      <td>0.546365</td>\n      <td>0.589599</td>\n    </tr>\n    <tr>\n      <th>85778946</th>\n      <td>600000.0</td>\n      <td>460270.18750</td>\n      <td>139729.81250</td>\n      <td>23.288302</td>\n      <td>600000</td>\n      <td>51.372820</td>\n      <td>-0.301380</td>\n      <td>3.0</td>\n      <td>1.0</td>\n      <td>0.599188</td>\n      <td>99.0</td>\n      <td>99.000000</td>\n      <td>0.599188</td>\n    </tr>\n    <tr>\n      <th>...</th>\n      <td>...</td>\n      <td>...</td>\n      <td>...</td>\n      <td>...</td>\n      <td>...</td>\n      <td>...</td>\n      <td>...</td>\n      <td>...</td>\n      <td>...</td>\n      <td>...</td>\n      <td>...</td>\n      <td>...</td>\n      <td>...</td>\n    </tr>\n    <tr>\n      <th>121469246</th>\n      <td>415000.0</td>\n      <td>491533.50000</td>\n      <td>76533.50000</td>\n      <td>18.441807</td>\n      <td>415000</td>\n      <td>51.568815</td>\n      <td>-0.438663</td>\n      <td>2.0</td>\n      <td>2.0</td>\n      <td>0.061833</td>\n      <td>99.0</td>\n      <td>0.061833</td>\n      <td>0.061833</td>\n    </tr>\n    <tr>\n      <th>119227655</th>\n      <td>400000.0</td>\n      <td>385026.31250</td>\n      <td>14973.68750</td>\n      <td>3.743422</td>\n      <td>400000</td>\n      <td>51.564617</td>\n      <td>-0.047707</td>\n      <td>2.0</td>\n      <td>1.0</td>\n      <td>0.456843</td>\n      <td>99.0</td>\n      <td>99.000000</td>\n      <td>0.456843</td>\n    </tr>\n    <tr>\n      <th>115256372</th>\n      <td>400000.0</td>\n      <td>397844.93750</td>\n      <td>2155.06250</td>\n      <td>0.538766</td>\n      <td>400000</td>\n      <td>51.324511</td>\n      <td>-0.135183</td>\n      <td>2.0</td>\n      <td>1.0</td>\n      <td>0.187759</td>\n      <td>99.0</td>\n      <td>99.000000</td>\n      <td>0.187759</td>\n    </tr>\n    <tr>\n      <th>120421133</th>\n      <td>425000.0</td>\n      <td>388206.62500</td>\n      <td>36793.37500</td>\n      <td>8.657265</td>\n      <td>425000</td>\n      <td>51.441165</td>\n      <td>-0.031860</td>\n      <td>2.0</td>\n      <td>1.0</td>\n      <td>0.345549</td>\n      <td>99.0</td>\n      <td>99.000000</td>\n      <td>0.345549</td>\n    </tr>\n    <tr>\n      <th>119457512</th>\n      <td>540000.0</td>\n      <td>383109.59375</td>\n      <td>156890.40625</td>\n      <td>29.053779</td>\n      <td>540000</td>\n      <td>51.553749</td>\n      <td>0.016633</td>\n      <td>2.0</td>\n      <td>1.0</td>\n      <td>0.440860</td>\n      <td>99.0</td>\n      <td>99.000000</td>\n      <td>0.440860</td>\n    </tr>\n  </tbody>\n</table>\n<p>7225 rows × 13 columns</p>\n</div>"
     },
     "execution_count": 56,
     "metadata": {},
     "output_type": "execute_result"
    }
   ],
   "source": [
    "compare_df.join(df)"
   ],
   "metadata": {
    "collapsed": false
   }
  },
  {
   "cell_type": "code",
   "execution_count": 57,
   "outputs": [],
   "source": [
    "if False:\n",
    "    model.score(X_test, y_test)"
   ],
   "metadata": {
    "collapsed": false
   }
  },
  {
   "cell_type": "code",
   "execution_count": 58,
   "outputs": [
    {
     "data": {
      "text/plain": "<Figure size 640x480 with 1 Axes>",
      "image/png": "[encoded data removed]"
     },
     "metadata": {},
     "output_type": "display_data"
    }
   ],
   "source": [
    "def plot_loss(history):\n",
    "    import matplotlib.pyplot as plt\n",
    "\n",
    "    plt.plot(history.history['loss'], label='loss')\n",
    "    plt.plot(history.history['val_loss'], label='val_loss')\n",
    "    plt.ylim([0, 500000])\n",
    "    plt.xlabel('Epoch')\n",
    "    plt.ylabel('Error [£]')\n",
    "    plt.legend()\n",
    "    plt.grid(True)\n",
    "\n",
    "\n",
    "plot_loss(history)"
   ],
   "metadata": {
    "collapsed": false
   }
  },
  {
   "cell_type": "code",
   "execution_count": 59,
   "outputs": [
    {
     "name": "stdout",
     "output_type": "stream",
     "text": [
      "376097.96875, 137470.578125, 108072.4453125, 102431.640625, 99911.1640625\n",
      "...\n",
      "75557.5859375, 75575.9609375, 75537.5, 75568.359375, 75592.8203125\n"
     ]
    }
   ],
   "source": [
    "print(\", \".join([str(x) for x in history.history[\"loss\"][:5]]))\n",
    "print('...')\n",
    "print(\", \".join([str(x) for x in history.history[\"loss\"][-5:]]))"
   ],
   "metadata": {
    "collapsed": false
   }
  },
  {
   "cell_type": "code",
   "execution_count": 60,
   "outputs": [
    {
     "data": {
      "text/plain": "75986.484375"
     },
     "execution_count": 60,
     "metadata": {},
     "output_type": "execute_result"
    }
   ],
   "source": [
    "\n",
    "#test_results['dnn_model'] = dnn_model.evaluate(test_features, test_labels, verbose=0)\n",
    "dnn_model.evaluate(X_test, y_test, verbose=0)\n"
   ],
   "metadata": {
    "collapsed": false
   }
  },
  {
   "cell_type": "code",
   "execution_count": 60,
   "outputs": [],
   "source": [],
   "metadata": {
    "collapsed": false
   }
  }
 ],
 "metadata": {
  "kernelspec": {
   "display_name": "Python 3",
   "language": "python",
   "name": "python3"
  },
  "language_info": {
   "codemirror_mode": {
    "name": "ipython",
    "version": 2
   },
   "file_extension": ".py",
   "mimetype": "text/x-python",
   "name": "python",
   "nbconvert_exporter": "python",
   "pygments_lexer": "ipython2",
   "version": "2.7.6"
  }
 },
 "nbformat": 4,
 "nbformat_minor": 0
}
